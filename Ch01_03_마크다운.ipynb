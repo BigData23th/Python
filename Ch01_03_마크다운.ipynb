{
  "nbformat": 4,
  "nbformat_minor": 0,
  "metadata": {
    "colab": {
      "provenance": [],
      "authorship_tag": "ABX9TyNe3DlHGu2QoWvGuADtZXZb",
      "include_colab_link": true
    },
    "kernelspec": {
      "name": "python3",
      "display_name": "Python 3"
    },
    "language_info": {
      "name": "python"
    }
  },
  "cells": [
    {
      "cell_type": "markdown",
      "metadata": {
        "id": "view-in-github",
        "colab_type": "text"
      },
      "source": [
        "<a href=\"https://colab.research.google.com/github/Kimdongha96/Python/blob/main/Ch01_03_%EB%A7%88%ED%81%AC%EB%8B%A4%EC%9A%B4.ipynb\" target=\"_parent\"><img src=\"https://colab.research.google.com/assets/colab-badge.svg\" alt=\"Open In Colab\"/></a>"
      ]
    },
    {
      "cell_type": "code",
      "execution_count": null,
      "metadata": {
        "id": "Zrt1g8GR5xcX"
      },
      "outputs": [],
      "source": []
    },
    {
      "cell_type": "markdown",
      "source": [
        "# 제목 (Headline)\n",
        "## 2단계 제목\n",
        "### 3단계 제목\n",
        "#### 4단계\n",
        "##### 5단계"
      ],
      "metadata": {
        "id": "hBp90mte59xK"
      }
    },
    {
      "cell_type": "markdown",
      "source": [
        "수평선\n",
        "\n",
        "---\n",
        "텍스트에 ---를 바로 붙이면 '#'과 같은 효과\n",
        "\n",
        "(수평선) \n",
        "\n",
        "---\n"
      ],
      "metadata": {
        "id": "8mHKATR66dNx"
      }
    },
    {
      "cell_type": "markdown",
      "source": [
        "줄바꿈<br>줄바꿈"
      ],
      "metadata": {
        "id": "Pikoq-pT6u0Z"
      }
    },
    {
      "cell_type": "markdown",
      "source": [
        "**굵게**\n",
        "*기울기*\n",
        "__굵게__\n",
        "-기울게_\n",
        "~~취소선~~\n",
        "<u>밑줄</u>"
      ],
      "metadata": {
        "id": "eO6qxIau60bZ"
      }
    },
    {
      "cell_type": "markdown",
      "source": [
        "> 인용문\n",
        ">> 인용문 안에 인용문\n",
        ">>> 인용문 안에 인용문\n"
      ],
      "metadata": {
        "id": "r-4dNicy7GrR"
      }
    },
    {
      "cell_type": "markdown",
      "source": [
        "순서가 없는리스트\n",
        "* 사과\n",
        "* 배\n",
        "* 자두\n",
        "순서가 있는 리스트\n",
        "1. 파이썬\n",
        "2. 자바\n",
        "3. sql\n",
        " \n",
        " 순서가 있는리스트2\n",
        " 1. 파이썬\n",
        " 1. 자바\n",
        " 1. SQL\n",
        "\n",
        "들여쓰기\n",
        "* 사과\n",
        "    * 껍질\n",
        "* 볶음\n",
        "    아래(Tab x 2 = 코드블록)\n",
        "\n",
        "코드블록 ->이 안에 꾸며주는 마크다운 문법 무시\n",
        "\n",
        "\n"
      ],
      "metadata": {
        "id": "V_no_AUN7Usc"
      }
    },
    {
      "cell_type": "markdown",
      "source": [],
      "metadata": {
        "id": "f_dqEmYu7rkZ"
      }
    },
    {
      "cell_type": "markdown",
      "source": [
        "코드 블록\n",
        "한 줄 코드\n",
        "`print('Hello world')` - 음영처리\n",
        "\n",
        "여러 줄 코드블록\n",
        "```\n",
        "print('hello')\n",
        "print('world')\n",
        "```\n"
      ],
      "metadata": {
        "id": "n4OGPb7W8SFg"
      }
    },
    {
      "cell_type": "markdown",
      "source": [
        "|제목|작가|출판일|\n",
        "|-:|:-:|:-|\n",
        "|**장발장**|변영인3세|2022.09.01|\n",
        "|파이썬|~김철수27세~|1971.09.01|\n"
      ],
      "metadata": {
        "id": "IPcN1zC18tFJ"
      }
    },
    {
      "cell_type": "markdown",
      "source": [
        "[링크] (https://naver.com)\n",
        "![이미지에 대한 설명](https://icons8.com/icon/WCUu5rsTN06z/calling)\n",
        "\n"
      ],
      "metadata": {
        "id": "L6zHXIgl9Zdw"
      }
    },
    {
      "cell_type": "markdown",
      "source": [
        "- [ ] 체크박스\n",
        "- [x] 체크된 체크박스\n"
      ],
      "metadata": {
        "id": "D6DC8hOc99gp"
      }
    }
  ]
}