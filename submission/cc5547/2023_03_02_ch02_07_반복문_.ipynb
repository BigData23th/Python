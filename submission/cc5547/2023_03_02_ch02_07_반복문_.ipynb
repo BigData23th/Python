{
  "nbformat": 4,
  "nbformat_minor": 0,
  "metadata": {
    "colab": {
      "provenance": [],
      "include_colab_link": true
    },
    "kernelspec": {
      "name": "python3",
      "display_name": "Python 3"
    },
    "language_info": {
      "name": "python"
    }
  },
  "cells": [
    {
      "cell_type": "markdown",
      "metadata": {
        "id": "view-in-github",
        "colab_type": "text"
      },
      "source": [
        "<a href=\"https://colab.research.google.com/github/cc5547/Python/blob/main/submission/cc5547/2023_03_02_ch02_07_%EB%B0%98%EB%B3%B5%EB%AC%B8_.ipynb\" target=\"_parent\"><img src=\"https://colab.research.google.com/assets/colab-badge.svg\" alt=\"Open In Colab\"/></a>"
      ]
    },
    {
      "cell_type": "markdown",
      "source": [
        "# for"
      ],
      "metadata": {
        "id": "x6bYgpP8CaFz"
      }
    },
    {
      "cell_type": "markdown",
      "source": [
        "## for와 range 사용하기"
      ],
      "metadata": {
        "id": "TCbL3yZbCbqA"
      }
    },
    {
      "cell_type": "markdown",
      "source": [
        "파이썬의 for 반복문은 다양한 사용 방법이 있지만, 먼저 range와 함께 사용하는 방법부터 알아보겠습니다. 다음과 같이 for 반복문은 range에 반복할 횟수를 지정하고 앞에 in과 변수를 입력합니다. 그리고 끝에 :(콜론)을 붙인 뒤 다음 줄에 반복할 코드를 넣습니다.\n",
        "\n",
        "```\n",
        "for 변수 in range(횟수):\n",
        "     반복할 코드\n",
        "```\n",
        "\n",
        "for 다음 줄에 오는 코드는 반드시 들여쓰기를 해줍니다(들여쓰기 규칙은 if, elif, else와 같습니다)."
      ],
      "metadata": {
        "id": "BA_TucMYCgSV"
      }
    },
    {
      "cell_type": "code",
      "source": [
        "# 반복할 횟수가 정해져 있을 때\n",
        "for i in range(100): # range(100) 안에 있는 원소들을 순서대로 i라는 이름으로 꺼내쓰겠습니다.\n",
        "    # 0 ~ 99\n",
        "    print(\"자니?\") # 루프 loop"
      ],
      "metadata": {
        "id": "ERN1dWE0CZnj",
        "colab": {
          "base_uri": "https://localhost:8080/"
        },
        "outputId": "e8506a0c-a0a0-48ed-bd6a-0aba7df4e7df"
      },
      "execution_count": null,
      "outputs": [
        {
          "output_type": "stream",
          "name": "stdout",
          "text": [
            "자니?\n",
            "자니?\n",
            "자니?\n",
            "자니?\n",
            "자니?\n",
            "자니?\n",
            "자니?\n",
            "자니?\n",
            "자니?\n",
            "자니?\n",
            "자니?\n",
            "자니?\n",
            "자니?\n",
            "자니?\n",
            "자니?\n",
            "자니?\n",
            "자니?\n",
            "자니?\n",
            "자니?\n",
            "자니?\n",
            "자니?\n",
            "자니?\n",
            "자니?\n",
            "자니?\n",
            "자니?\n",
            "자니?\n",
            "자니?\n",
            "자니?\n",
            "자니?\n",
            "자니?\n",
            "자니?\n",
            "자니?\n",
            "자니?\n",
            "자니?\n",
            "자니?\n",
            "자니?\n",
            "자니?\n",
            "자니?\n",
            "자니?\n",
            "자니?\n",
            "자니?\n",
            "자니?\n",
            "자니?\n",
            "자니?\n",
            "자니?\n",
            "자니?\n",
            "자니?\n",
            "자니?\n",
            "자니?\n",
            "자니?\n",
            "자니?\n",
            "자니?\n",
            "자니?\n",
            "자니?\n",
            "자니?\n",
            "자니?\n",
            "자니?\n",
            "자니?\n",
            "자니?\n",
            "자니?\n",
            "자니?\n",
            "자니?\n",
            "자니?\n",
            "자니?\n",
            "자니?\n",
            "자니?\n",
            "자니?\n",
            "자니?\n",
            "자니?\n",
            "자니?\n",
            "자니?\n",
            "자니?\n",
            "자니?\n",
            "자니?\n",
            "자니?\n",
            "자니?\n",
            "자니?\n",
            "자니?\n",
            "자니?\n",
            "자니?\n",
            "자니?\n",
            "자니?\n",
            "자니?\n",
            "자니?\n",
            "자니?\n",
            "자니?\n",
            "자니?\n",
            "자니?\n",
            "자니?\n",
            "자니?\n",
            "자니?\n",
            "자니?\n",
            "자니?\n",
            "자니?\n",
            "자니?\n",
            "자니?\n",
            "자니?\n",
            "자니?\n",
            "자니?\n",
            "자니?\n"
          ]
        }
      ]
    },
    {
      "cell_type": "markdown",
      "source": [
        "### 반복문에서 변수의 변화 알아보기"
      ],
      "metadata": {
        "id": "u5WW-AGJC2fb"
      }
    },
    {
      "cell_type": "code",
      "execution_count": null,
      "metadata": {
        "id": "gQJptDWlBG2X"
      },
      "outputs": [],
      "source": [
        "for i in range(100): # range(100) 안에 있는 원소들을 순서대로 i라는 이름으로 0 ~ 99 번째 까지 반복복\n",
        "    print(i, \"번째\")"
      ]
    },
    {
      "cell_type": "markdown",
      "source": [
        "### 반복문의 변수 i"
      ],
      "metadata": {
        "id": "Jz4QOMg_C8mp"
      }
    },
    {
      "cell_type": "markdown",
      "source": [
        "변수 i를 루프 인덱스라고도 부르며 index의 첫 머리글자를 따서 i를 주로 사용합니다"
      ],
      "metadata": {
        "id": "EFhKW0RADAZa"
      }
    },
    {
      "cell_type": "markdown",
      "source": [
        "## for와 range 응용하기"
      ],
      "metadata": {
        "id": "TK6ktcEbiG6P"
      }
    },
    {
      "cell_type": "markdown",
      "source": [
        "### 시작하는 숫자와 끝나는 숫자 지정하기"
      ],
      "metadata": {
        "id": "3Qt_4ao7iK06"
      }
    },
    {
      "cell_type": "markdown",
      "source": [
        "range에 횟수만 지정하면 숫자가 0부터 시작하지만, 다음과 같이 시작하는 숫자와 끝나는 숫자를 지정해서 반복할 수도 있습니다.\n",
        "\n",
        "* `for 변수 in range(시작, 끝):`"
      ],
      "metadata": {
        "id": "9CKQCvvuiNP7"
      }
    },
    {
      "cell_type": "code",
      "source": [
        "for i in range(5, 12):\n",
        "    print(f\"hello, world! {i}\") # -> 원소의 갯수만큼 반복됨"
      ],
      "metadata": {
        "colab": {
          "base_uri": "https://localhost:8080/"
        },
        "id": "YT1zMOFFiQoz",
        "outputId": "0c2e0ec3-0b9a-4c01-d9d8-55ef915f4211"
      },
      "execution_count": null,
      "outputs": [
        {
          "output_type": "stream",
          "name": "stdout",
          "text": [
            "hello, world! 5\n",
            "hello, world! 6\n",
            "hello, world! 7\n",
            "hello, world! 8\n",
            "hello, world! 9\n",
            "hello, world! 10\n",
            "hello, world! 11\n"
          ]
        }
      ]
    },
    {
      "cell_type": "markdown",
      "source": [
        "### 증가폭 사용하기"
      ],
      "metadata": {
        "id": "OolJZuG7iYvx"
      }
    },
    {
      "cell_type": "markdown",
      "source": [
        "range는 증가폭을 지정해서 해당 값만큼 숫자를 증가시킬 수 있죠? 이번에는 0부터 9까지의 숫자 중에서 짝수만 출력해보겠습니다.\n",
        "\n",
        "* `for 변수 in range(시작, 끝, 증가폭):`"
      ],
      "metadata": {
        "id": "Xiyoijusic9R"
      }
    },
    {
      "cell_type": "code",
      "source": [
        "for i in range(1, 12, 2):\n",
        "    print(f\"hello, world! {i}\") # -> 원소의 갯수만큼 반복됨"
      ],
      "metadata": {
        "colab": {
          "base_uri": "https://localhost:8080/"
        },
        "id": "nUMmstHBiSjN",
        "outputId": "e6eebe01-5be6-4bf7-b93f-0a63d2cddc48"
      },
      "execution_count": null,
      "outputs": [
        {
          "output_type": "stream",
          "name": "stdout",
          "text": [
            "hello, world! 1\n",
            "hello, world! 3\n",
            "hello, world! 5\n",
            "hello, world! 7\n",
            "hello, world! 9\n",
            "hello, world! 11\n"
          ]
        }
      ]
    },
    {
      "cell_type": "markdown",
      "source": [
        "### 숫자를 감소시키기"
      ],
      "metadata": {
        "id": "nkNtL8tlijlY"
      }
    },
    {
      "cell_type": "code",
      "source": [
        "for i in range(10, 0, -1): # range는 증가폭을 입력을 안해주면 1씩 감소\n",
        "    print(f\"hello, world! {i}\") # -> 원소의 갯수만큼 반복됨"
      ],
      "metadata": {
        "id": "p46sR_neiguE",
        "colab": {
          "base_uri": "https://localhost:8080/"
        },
        "outputId": "eb704fe2-5c9c-440e-feb8-8681b7f9ae10"
      },
      "execution_count": null,
      "outputs": [
        {
          "output_type": "stream",
          "name": "stdout",
          "text": [
            "hello, world! 10\n",
            "hello, world! 9\n",
            "hello, world! 8\n",
            "hello, world! 7\n",
            "hello, world! 6\n",
            "hello, world! 5\n",
            "hello, world! 4\n",
            "hello, world! 3\n",
            "hello, world! 2\n",
            "hello, world! 1\n"
          ]
        }
      ]
    },
    {
      "cell_type": "markdown",
      "source": [
        "range(10, 0)과 같이 시작하는 숫자를 큰 숫자로 지정하고 끝나는 숫자를 작은 숫자로 지정하면 숫자가 감소할 것 같은데, 실행을 해보면 아무것도 출력되지 않습니다. 왜냐하면 range는 숫자가 증가하는 기본 값이 양수 1이기 때문입니다."
      ],
      "metadata": {
        "id": "hF7edthnir6Z"
      }
    },
    {
      "cell_type": "code",
      "source": [
        "for i in range(10, 0, -1): # range는 증가폭을 입력을 안해주면 1씩 감소\n",
        "    print(f\"hello, world! {i}\") # -> 원소의 갯수만큼 반복됨"
      ],
      "metadata": {
        "colab": {
          "base_uri": "https://localhost:8080/"
        },
        "id": "VqTy_-YyiqAb",
        "outputId": "02a73abc-93c8-45da-d6c3-8c2e786d5f6d"
      },
      "execution_count": null,
      "outputs": [
        {
          "output_type": "stream",
          "name": "stdout",
          "text": [
            "Hello, world! 10\n",
            "Hello, world! 9\n",
            "Hello, world! 8\n",
            "Hello, world! 7\n",
            "Hello, world! 6\n",
            "Hello, world! 5\n",
            "Hello, world! 4\n",
            "Hello, world! 3\n",
            "Hello, world! 2\n",
            "Hello, world! 1\n"
          ]
        }
      ]
    },
    {
      "cell_type": "markdown",
      "source": [
        "증가폭을 음수로 지정하는 방법 말고도 reversed를 사용하면 숫자의 순서를 반대로 뒤집을 수 있습니다.\n",
        "\n",
        "* `for 변수 in reversed(range(횟수))`\n",
        "* `for 변수 in reversed(range(시작, 끝))`\n",
        "* `for 변수 in reversed(range(시작, 끝, 증가폭))`"
      ],
      "metadata": {
        "id": "bJEoZKpdi1Fl"
      }
    },
    {
      "cell_type": "code",
      "source": [
        "for i in reversed(range(10)):\n",
        "    print(i)"
      ],
      "metadata": {
        "colab": {
          "base_uri": "https://localhost:8080/"
        },
        "id": "oqNZappoi0ox",
        "outputId": "b70c317a-c9fb-40e0-a652-e24fa09f29ec"
      },
      "execution_count": null,
      "outputs": [
        {
          "output_type": "stream",
          "name": "stdout",
          "text": [
            "Hello, world! 9\n",
            "Hello, world! 8\n",
            "Hello, world! 7\n",
            "Hello, world! 6\n",
            "Hello, world! 5\n",
            "Hello, world! 4\n",
            "Hello, world! 3\n",
            "Hello, world! 2\n",
            "Hello, world! 1\n",
            "Hello, world! 0\n"
          ]
        }
      ]
    },
    {
      "cell_type": "code",
      "source": [
        "# 슬라이싱으로 뒤집기\n",
        "for i in range(0, 10)[::-1]:\n",
        "    print(i)"
      ],
      "metadata": {
        "colab": {
          "base_uri": "https://localhost:8080/"
        },
        "id": "IDqjlzdniuTL",
        "outputId": "838d6d9a-d551-45ae-f62c-e2debe11889a"
      },
      "execution_count": null,
      "outputs": [
        {
          "output_type": "stream",
          "name": "stdout",
          "text": [
            "9\n",
            "8\n",
            "7\n",
            "6\n",
            "5\n",
            "4\n",
            "3\n",
            "2\n",
            "1\n",
            "0\n"
          ]
        }
      ]
    },
    {
      "cell_type": "markdown",
      "source": [
        "### 반복문의 변수 i를 변경할 수 있을까?"
      ],
      "metadata": {
        "id": "Vq2nfjezkVKR"
      }
    },
    {
      "cell_type": "code",
      "source": [
        "# 다음과 같이 for와 range로 반복하면서 변수 i를 변경하면 어떻게 될까요?\n",
        "for i in range(0, 10):\n",
        "    print(\"시작\", i, end=' ')\n",
        "    i = 100\n",
        "    print(\"끝\", i, end = ' ')"
      ],
      "metadata": {
        "colab": {
          "base_uri": "https://localhost:8080/"
        },
        "id": "iixT5JSPkWDl",
        "outputId": "2745d0e3-1770-4f2d-aa77-b919b7c454aa"
      },
      "execution_count": null,
      "outputs": [
        {
          "output_type": "stream",
          "name": "stdout",
          "text": [
            "시작 0 끝 100 시작 1 끝 100 시작 2 끝 100 시작 3 끝 100 시작 4 끝 100 시작 5 끝 100 시작 6 끝 100 시작 7 끝 100 시작 8 끝 100 시작 9 끝 100 "
          ]
        }
      ]
    },
    {
      "cell_type": "code",
      "source": [
        "# 다음과 같이 for와 range로 반복하면서 변수 i를 변경하면 어떻게 될까요?\n",
        "a = [0] * 10\n",
        "print(a)\n",
        "for i in range(0, 10):\n",
        "    print(i)\n",
        "    a[i] = i ** 2\n",
        "print(a)"
      ],
      "metadata": {
        "colab": {
          "base_uri": "https://localhost:8080/"
        },
        "id": "CsongyW9NOCm",
        "outputId": "2fde0e8a-5986-466b-dfd6-23e7b3aa2970"
      },
      "execution_count": null,
      "outputs": [
        {
          "output_type": "stream",
          "name": "stdout",
          "text": [
            "[0, 0, 0, 0, 0, 0, 0, 0, 0, 0]\n",
            "0\n",
            "1\n",
            "2\n",
            "3\n",
            "4\n",
            "5\n",
            "6\n",
            "7\n",
            "8\n",
            "9\n",
            "[0, 1, 4, 9, 16, 25, 36, 49, 64, 81]\n"
          ]
        }
      ]
    },
    {
      "cell_type": "markdown",
      "source": [
        "### 입력한 횟수대로 반복하기"
      ],
      "metadata": {
        "id": "qS40a9qNkfGD"
      }
    },
    {
      "cell_type": "code",
      "source": [
        "#@title 제목\n",
        "#@ markdown [네이버] (https://www.naver.com)\n",
        "'''#@param{\"type\":\"slider\"}'''\n",
        "count = int(input()) # input으로 입력받은 값은 str int 로 감싸기기\n",
        "\n",
        "for i in range(count): # range 매개변수에 들어가는 인자들은 int\n",
        "    print(i, \"번째 반복\")"
      ],
      "metadata": {
        "colab": {
          "base_uri": "https://localhost:8080/"
        },
        "id": "QHw5Os1HkaAD",
        "outputId": "615df12f-1895-474c-af53-01e947a226b9"
      },
      "execution_count": null,
      "outputs": [
        {
          "output_type": "stream",
          "name": "stdout",
          "text": [
            "10\n",
            "0 번째 반복\n",
            "1 번째 반복\n",
            "2 번째 반복\n",
            "3 번째 반복\n",
            "4 번째 반복\n",
            "5 번째 반복\n",
            "6 번째 반복\n",
            "7 번째 반복\n",
            "8 번째 반복\n",
            "9 번째 반복\n"
          ]
        }
      ]
    },
    {
      "cell_type": "markdown",
      "source": [
        "## 시퀀스 객체로 반복하기"
      ],
      "metadata": {
        "id": "gxQa3T0UlKHf"
      }
    },
    {
      "cell_type": "markdown",
      "source": [
        "지금까지 for에 range를 사용하면서 눈치챘겠지만, for에 range 대신 시퀀스 객체를 넣어도 될 것 같죠? 맞습니다. for는 리스트, 튜플, 문자열 등 시퀀스 객체로 반복할 수 있습니다.\n",
        "\n",
        "for에 range 대신 리스트를 넣으면 리스트의 요소를 꺼내면서 반복합니다."
      ],
      "metadata": {
        "id": "e3KcyjpYlMUq"
      }
    },
    {
      "cell_type": "code",
      "source": [
        "a = [10, 15, 25, 40, 65]\n",
        "for i in a: # (in a) : a라는 시퀀스 객체의 안에 있는 원소들을 i라는 이름의 변수로 사용하겠다. len(a)번 반복하겠다.\n",
        "    print(i)"
      ],
      "metadata": {
        "colab": {
          "base_uri": "https://localhost:8080/"
        },
        "id": "eVA1Q9iHkg_z",
        "outputId": "13bfc951-48cd-4f1b-9304-c80b5b29e84b"
      },
      "execution_count": null,
      "outputs": [
        {
          "output_type": "stream",
          "name": "stdout",
          "text": [
            "10\n",
            "15\n",
            "25\n",
            "40\n",
            "65\n"
          ]
        }
      ]
    },
    {
      "cell_type": "code",
      "source": [
        "# 물론 튜플도 마찬가지로 튜플의 요소를 꺼내면서 반복합니다\n",
        "t = ('apple', 'orange', 'grape')\n",
        "for fruit in t:\n",
        "    print(fruit)"
      ],
      "metadata": {
        "colab": {
          "base_uri": "https://localhost:8080/"
        },
        "id": "IX77x3nRlQU1",
        "outputId": "4d04ae98-6bc7-4c53-9883-2992fff3c8ba"
      },
      "execution_count": null,
      "outputs": [
        {
          "output_type": "stream",
          "name": "stdout",
          "text": [
            "apple\n",
            "orange\n",
            "grape\n"
          ]
        }
      ]
    },
    {
      "cell_type": "markdown",
      "source": [
        "참고로 여기서는 for 반복문의 변수를 i 대신 fruit로 사용했습니다. for에서 변수 i는 다른 이름으로 만들어도 상관없습니다."
      ],
      "metadata": {
        "id": "oasjBhR-lXtD"
      }
    },
    {
      "cell_type": "code",
      "source": [
        "# 문자열도 시퀀스 객체라고 했죠? for에 문자열을 지정하면 문자를 하나씩 꺼내면서 반복합니다.\n",
        "s = 'holly molly'\n",
        "for char in s: # s 문자열 안에 있는 원소(문자)를 character 변수 이름으로 순서대로 가져오겠다; len(s)\n",
        "    print(char, end =' ')"
      ],
      "metadata": {
        "colab": {
          "base_uri": "https://localhost:8080/"
        },
        "id": "I1HszRFzlU99",
        "outputId": "1bb8485e-935c-40cd-aa2c-94af96e797ef"
      },
      "execution_count": null,
      "outputs": [
        {
          "output_type": "stream",
          "name": "stdout",
          "text": [
            "h o l l y   m o l l y "
          ]
        }
      ]
    },
    {
      "cell_type": "markdown",
      "source": [
        "문자열 'Python'의 문자가 하나씩 분리되어 출력되었습니다. 여기서는 print에 end=' '을 지정했으므로 줄바꿈이 되지 않고, 각 문자가 공백으로 띄워져서 출력됩니다.\n",
        "\n",
        "그럼 문자열 'Python'을 뒤집어서 문자를 출력할 수는 없을까요? 이때는 앞에서 배운 reversed를 활용하면 됩니다.\n",
        "\n",
        "* `reversed(시퀀스객체)`"
      ],
      "metadata": {
        "id": "JfzgRa6Jlhte"
      }
    },
    {
      "cell_type": "code",
      "source": [
        "for char in reversed(s):\n",
        "    print(char, end =' ')"
      ],
      "metadata": {
        "colab": {
          "base_uri": "https://localhost:8080/"
        },
        "id": "UhTEddj2lcBj",
        "outputId": "f2dfa6e9-f224-49f7-f03e-0221614485fa"
      },
      "execution_count": null,
      "outputs": [
        {
          "output_type": "stream",
          "name": "stdout",
          "text": [
            "y l l o m   y l l o h "
          ]
        }
      ]
    },
    {
      "cell_type": "code",
      "source": [
        "for char in s[::-1]:\n",
        "    print(char, end =' ')"
      ],
      "metadata": {
        "colab": {
          "base_uri": "https://localhost:8080/"
        },
        "id": "Q60rziNUlldU",
        "outputId": "8c881a2f-7f61-46fb-a776-20a87ea26956"
      },
      "execution_count": null,
      "outputs": [
        {
          "output_type": "stream",
          "name": "stdout",
          "text": [
            "y l l o m   y l l o h "
          ]
        }
      ]
    },
    {
      "cell_type": "code",
      "source": [
        "a"
      ],
      "metadata": {
        "colab": {
          "base_uri": "https://localhost:8080/"
        },
        "id": "ew0vCFxXRDWj",
        "outputId": "491b02ba-ac95-4542-a916-7629964a92f2"
      },
      "execution_count": null,
      "outputs": [
        {
          "output_type": "execute_result",
          "data": {
            "text/plain": [
              "[10, 15, 25, 40, 65]"
            ]
          },
          "metadata": {},
          "execution_count": 24
        }
      ]
    },
    {
      "cell_type": "code",
      "source": [
        "for i in a:\n",
        "    print(i)"
      ],
      "metadata": {
        "colab": {
          "base_uri": "https://localhost:8080/"
        },
        "id": "hJsKRpkNRIV9",
        "outputId": "7f2ad091-7da1-439b-92d4-8473b4d011b4"
      },
      "execution_count": null,
      "outputs": [
        {
          "output_type": "stream",
          "name": "stdout",
          "text": [
            "10\n",
            "15\n",
            "25\n",
            "40\n",
            "65\n"
          ]
        }
      ]
    },
    {
      "cell_type": "code",
      "source": [
        "for i in range(len(a)):\n",
        "    print(i)"
      ],
      "metadata": {
        "colab": {
          "base_uri": "https://localhost:8080/"
        },
        "id": "usjs1lTZRLti",
        "outputId": "83c0ffd4-162b-46f3-9022-d233f2a11b4f"
      },
      "execution_count": null,
      "outputs": [
        {
          "output_type": "stream",
          "name": "stdout",
          "text": [
            "0\n",
            "1\n",
            "2\n",
            "3\n",
            "4\n"
          ]
        }
      ]
    },
    {
      "cell_type": "code",
      "source": [
        "for i, v in enumerate(a): # 값 -> enumerate => index, value 튜플\n",
        "    print(i)"
      ],
      "metadata": {
        "colab": {
          "base_uri": "https://localhost:8080/"
        },
        "id": "LGa5HEDKRaja",
        "outputId": "6840593c-4142-48da-819a-91a88711b64d"
      },
      "execution_count": null,
      "outputs": [
        {
          "output_type": "stream",
          "name": "stdout",
          "text": [
            "0\n",
            "1\n",
            "2\n",
            "3\n",
            "4\n"
          ]
        }
      ]
    },
    {
      "cell_type": "code",
      "source": [
        "from tqdm.notebook import tqdm\n",
        "from time import sleep"
      ],
      "metadata": {
        "id": "Dxre6_ZSRtrK"
      },
      "execution_count": null,
      "outputs": []
    },
    {
      "cell_type": "code",
      "source": [
        "for i in enumerate(tqdm): \n",
        "    sleep(1)\n",
        "    print(i)"
      ],
      "metadata": {
        "id": "yJ6RXvOjSAmh"
      },
      "execution_count": null,
      "outputs": []
    },
    {
      "cell_type": "markdown",
      "source": [
        "# while"
      ],
      "metadata": {
        "id": "z8LI6wzipb6P"
      }
    },
    {
      "cell_type": "markdown",
      "source": [
        "## while 반복문 사용하기"
      ],
      "metadata": {
        "id": "tpwpcdMMlr3J"
      }
    },
    {
      "cell_type": "markdown",
      "source": [
        "while 반복문은 조건식으로만 동작하며 반복할 코드 안에 조건식에 영향을 주는 변화식이 들어갑니다."
      ],
      "metadata": {
        "id": "yrGuZLpBmg7e"
      }
    },
    {
      "cell_type": "code",
      "source": [
        "money = 1000 # 초기식\n",
        "# 거스름돈을 100원씩 거슬러줘야\n",
        "while money > 0 : # while 조건식\n",
        "    print(money, \"만큼 남았습니다.\") # 반복할 코드\n",
        "    money -= 100 # 변화식\n",
        "print(\"다 줬습니다.\") "
      ],
      "metadata": {
        "id": "ZgmqBvp0lzue",
        "colab": {
          "base_uri": "https://localhost:8080/"
        },
        "outputId": "36629a76-4ede-483a-8ae0-426cc2df4242"
      },
      "execution_count": 30,
      "outputs": [
        {
          "output_type": "stream",
          "name": "stdout",
          "text": [
            "1000 만큼 남았습니다.\n",
            "900 만큼 남았습니다.\n",
            "800 만큼 남았습니다.\n",
            "700 만큼 남았습니다.\n",
            "600 만큼 남았습니다.\n",
            "500 만큼 남았습니다.\n",
            "400 만큼 남았습니다.\n",
            "300 만큼 남았습니다.\n",
            "200 만큼 남았습니다.\n",
            "100 만큼 남았습니다.\n",
            "다 줬습니다.\n"
          ]
        }
      ]
    },
    {
      "cell_type": "markdown",
      "source": [
        "while 반복문의 실행 과정입니다. 먼저 초기식부터 시작하여 조건식을 판별합니다. 이때 조건식이 참(True)이면 반복할 코드와 변화식을 함께 수행합니다. 그리고 다시 조건식을 판별하여 참(True)이면 코드를 계속 반복하고, 거짓(False)이면 반복문을 끝낸 뒤 다음 코드를 실행합니다.\n",
        "\n",
        "여기서는 조건식 → 반복할 코드 및 변화식 → 조건식으로 순환하는 부분이 루프(loop)입니다."
      ],
      "metadata": {
        "id": "8MAfHHwXmmoE"
      }
    },
    {
      "cell_type": "markdown",
      "source": [
        "### while 반복문 사용하기"
      ],
      "metadata": {
        "id": "1ZyUhVgWmqvd"
      }
    },
    {
      "cell_type": "markdown",
      "source": [
        "다음과 같이 while 반복문은 조건식을 지정하고 끝에 :(콜론)을 붙인 뒤 다음 줄에 반복할 코드와 변화식을 넣습니다. 초기식은 특별한 것이 없고 보통 변수에 값을 저장하는 코드입니다.\n",
        "\n",
        "```\n",
        "초기식\n",
        "while 조건식:\n",
        "     반복할 코드\n",
        "     변화식\n",
        "```\n",
        "\n",
        "while 다음 줄에 오는 코드는 반드시 들여쓰기를 해줍니다."
      ],
      "metadata": {
        "id": "mSOdqaJJmtQq"
      }
    },
    {
      "cell_type": "code",
      "source": [
        "# 이제 while 반복문으로 'Hello, world!'를 100번 출력해보겠습니다.\n",
        "w = 0 # 초기식\n",
        "while w < 100:# while 조건식\n",
        "    print('Hello, world!', w)\n",
        "    w += 1 # 1을 더해주고 대입해줌 = 변화식\n",
        "    print('Then', w)\n",
        "print(\"반복종료\")"
      ],
      "metadata": {
        "id": "0apM7-7-mpqC",
        "colab": {
          "base_uri": "https://localhost:8080/"
        },
        "outputId": "93623ae3-058c-4d75-db97-67cc1342095a"
      },
      "execution_count": 32,
      "outputs": [
        {
          "output_type": "stream",
          "name": "stdout",
          "text": [
            "Hello, world! 0\n",
            "Then 1\n",
            "Hello, world! 1\n",
            "Then 2\n",
            "Hello, world! 2\n",
            "Then 3\n",
            "Hello, world! 3\n",
            "Then 4\n",
            "Hello, world! 4\n",
            "Then 5\n",
            "Hello, world! 5\n",
            "Then 6\n",
            "Hello, world! 6\n",
            "Then 7\n",
            "Hello, world! 7\n",
            "Then 8\n",
            "Hello, world! 8\n",
            "Then 9\n",
            "Hello, world! 9\n",
            "Then 10\n",
            "Hello, world! 10\n",
            "Then 11\n",
            "Hello, world! 11\n",
            "Then 12\n",
            "Hello, world! 12\n",
            "Then 13\n",
            "Hello, world! 13\n",
            "Then 14\n",
            "Hello, world! 14\n",
            "Then 15\n",
            "Hello, world! 15\n",
            "Then 16\n",
            "Hello, world! 16\n",
            "Then 17\n",
            "Hello, world! 17\n",
            "Then 18\n",
            "Hello, world! 18\n",
            "Then 19\n",
            "Hello, world! 19\n",
            "Then 20\n",
            "Hello, world! 20\n",
            "Then 21\n",
            "Hello, world! 21\n",
            "Then 22\n",
            "Hello, world! 22\n",
            "Then 23\n",
            "Hello, world! 23\n",
            "Then 24\n",
            "Hello, world! 24\n",
            "Then 25\n",
            "Hello, world! 25\n",
            "Then 26\n",
            "Hello, world! 26\n",
            "Then 27\n",
            "Hello, world! 27\n",
            "Then 28\n",
            "Hello, world! 28\n",
            "Then 29\n",
            "Hello, world! 29\n",
            "Then 30\n",
            "Hello, world! 30\n",
            "Then 31\n",
            "Hello, world! 31\n",
            "Then 32\n",
            "Hello, world! 32\n",
            "Then 33\n",
            "Hello, world! 33\n",
            "Then 34\n",
            "Hello, world! 34\n",
            "Then 35\n",
            "Hello, world! 35\n",
            "Then 36\n",
            "Hello, world! 36\n",
            "Then 37\n",
            "Hello, world! 37\n",
            "Then 38\n",
            "Hello, world! 38\n",
            "Then 39\n",
            "Hello, world! 39\n",
            "Then 40\n",
            "Hello, world! 40\n",
            "Then 41\n",
            "Hello, world! 41\n",
            "Then 42\n",
            "Hello, world! 42\n",
            "Then 43\n",
            "Hello, world! 43\n",
            "Then 44\n",
            "Hello, world! 44\n",
            "Then 45\n",
            "Hello, world! 45\n",
            "Then 46\n",
            "Hello, world! 46\n",
            "Then 47\n",
            "Hello, world! 47\n",
            "Then 48\n",
            "Hello, world! 48\n",
            "Then 49\n",
            "Hello, world! 49\n",
            "Then 50\n",
            "Hello, world! 50\n",
            "Then 51\n",
            "Hello, world! 51\n",
            "Then 52\n",
            "Hello, world! 52\n",
            "Then 53\n",
            "Hello, world! 53\n",
            "Then 54\n",
            "Hello, world! 54\n",
            "Then 55\n",
            "Hello, world! 55\n",
            "Then 56\n",
            "Hello, world! 56\n",
            "Then 57\n",
            "Hello, world! 57\n",
            "Then 58\n",
            "Hello, world! 58\n",
            "Then 59\n",
            "Hello, world! 59\n",
            "Then 60\n",
            "Hello, world! 60\n",
            "Then 61\n",
            "Hello, world! 61\n",
            "Then 62\n",
            "Hello, world! 62\n",
            "Then 63\n",
            "Hello, world! 63\n",
            "Then 64\n",
            "Hello, world! 64\n",
            "Then 65\n",
            "Hello, world! 65\n",
            "Then 66\n",
            "Hello, world! 66\n",
            "Then 67\n",
            "Hello, world! 67\n",
            "Then 68\n",
            "Hello, world! 68\n",
            "Then 69\n",
            "Hello, world! 69\n",
            "Then 70\n",
            "Hello, world! 70\n",
            "Then 71\n",
            "Hello, world! 71\n",
            "Then 72\n",
            "Hello, world! 72\n",
            "Then 73\n",
            "Hello, world! 73\n",
            "Then 74\n",
            "Hello, world! 74\n",
            "Then 75\n",
            "Hello, world! 75\n",
            "Then 76\n",
            "Hello, world! 76\n",
            "Then 77\n",
            "Hello, world! 77\n",
            "Then 78\n",
            "Hello, world! 78\n",
            "Then 79\n",
            "Hello, world! 79\n",
            "Then 80\n",
            "Hello, world! 80\n",
            "Then 81\n",
            "Hello, world! 81\n",
            "Then 82\n",
            "Hello, world! 82\n",
            "Then 83\n",
            "Hello, world! 83\n",
            "Then 84\n",
            "Hello, world! 84\n",
            "Then 85\n",
            "Hello, world! 85\n",
            "Then 86\n",
            "Hello, world! 86\n",
            "Then 87\n",
            "Hello, world! 87\n",
            "Then 88\n",
            "Hello, world! 88\n",
            "Then 89\n",
            "Hello, world! 89\n",
            "Then 90\n",
            "Hello, world! 90\n",
            "Then 91\n",
            "Hello, world! 91\n",
            "Then 92\n",
            "Hello, world! 92\n",
            "Then 93\n",
            "Hello, world! 93\n",
            "Then 94\n",
            "Hello, world! 94\n",
            "Then 95\n",
            "Hello, world! 95\n",
            "Then 96\n",
            "Hello, world! 96\n",
            "Then 97\n",
            "Hello, world! 97\n",
            "Then 98\n",
            "Hello, world! 98\n",
            "Then 99\n",
            "Hello, world! 99\n",
            "Then 100\n",
            "반복종료\n"
          ]
        }
      ]
    },
    {
      "cell_type": "markdown",
      "source": [
        "먼저 while 반복문에 사용할 변수 i에 0을 할당합니다. 그리고 while에는 조건식만 지정하면 됩니다. 특히 while 반복문은 반복할 코드 안에 변화식을 지정해야 합니다. 만약 조건식만 지정하고 변화식을 생략하면 반복이 끝나지 않고 계속 실행(무한 루프)되므로 주의해야 합니다."
      ],
      "metadata": {
        "id": "ZrUdX9Cym6Ih"
      }
    },
    {
      "cell_type": "markdown",
      "source": [
        "i < 100과 같이 조건식을 지정하여 i가 100 미만일 때만 반복하고, i가 100이 되면 반복을 끝내도록 만들었습니다. 그리고 반복할 코드의 변화식에는 i += 1로 i를 1씩 증가시켰으므로 i가 0부터 99까지 증가하면서 100번 반복하게 됩니다. 물론 변화식 i += 1을 풀어서 i = i + 1로 만들어도 동작은 같습니다.\n",
        "\n"
      ],
      "metadata": {
        "id": "d_ni0bxzm8Wt"
      }
    },
    {
      "cell_type": "markdown",
      "source": [
        "### 초깃값을 1부터 시작하기"
      ],
      "metadata": {
        "id": "dlmY-ZkTm_MT"
      }
    },
    {
      "cell_type": "code",
      "source": [
        "# 이번에는 i에 0이 아닌 1을 할당하여 'Hello, world!'를 100번 출력해보겠습니다.\n",
        "# 이제 while 반복문으로 'Hello, world!'를 100번 출력해보겠습니다.\n",
        "w = 1 # 초기식\n",
        "while w <= 100:# while 조건식\n",
        "    print('Hello, world!', w) # 반복 코드 \n",
        "    w += 1 # 1을 더해주고 대입해줌 = 변화식\n",
        "    print('Then', w)\n",
        "print(\"반복종료\")"
      ],
      "metadata": {
        "id": "tEAw7W5lm3NU"
      },
      "execution_count": null,
      "outputs": []
    },
    {
      "cell_type": "markdown",
      "source": [
        "i에 1을 넣었으므로 while의 조건식은 i <= 100과 같이 지정합니다. 따라서 i가 1부터 100까지 증가하므로 100번 반복하게 됩니다. 만약 i가 101이 되면 i <= 100은 거짓( False)이므로 반복문을 끝냅니다."
      ],
      "metadata": {
        "id": "LUswgP6KnG8g"
      }
    },
    {
      "cell_type": "markdown",
      "source": [
        "### 초깃값을 감소시키기"
      ],
      "metadata": {
        "id": "xLnGlDJFnI4g"
      }
    },
    {
      "cell_type": "markdown",
      "source": [
        "지금까지 초깃값을 증가시키면서 루프를 실행했습니다. 반대로 초깃값을 크게 주고, 변수를 감소시키면서 반복할 수도 있습니다. 다음은 100부터 1까지 100번 반복합니다.\n",
        "\n"
      ],
      "metadata": {
        "id": "hUEOy6KenKnR"
      }
    },
    {
      "cell_type": "code",
      "source": [
        "i = 100\n",
        "while i > 0:\n",
        "    print('Hello world', i)\n",
        "    i -= 1"
      ],
      "metadata": {
        "id": "xtt2vrMqnE2k",
        "colab": {
          "base_uri": "https://localhost:8080/"
        },
        "outputId": "ae75c70e-303d-4247-ba7b-844f50106e5e"
      },
      "execution_count": 33,
      "outputs": [
        {
          "output_type": "stream",
          "name": "stdout",
          "text": [
            "Hello world 100\n",
            "Hello world 99\n",
            "Hello world 98\n",
            "Hello world 97\n",
            "Hello world 96\n",
            "Hello world 95\n",
            "Hello world 94\n",
            "Hello world 93\n",
            "Hello world 92\n",
            "Hello world 91\n",
            "Hello world 90\n",
            "Hello world 89\n",
            "Hello world 88\n",
            "Hello world 87\n",
            "Hello world 86\n",
            "Hello world 85\n",
            "Hello world 84\n",
            "Hello world 83\n",
            "Hello world 82\n",
            "Hello world 81\n",
            "Hello world 80\n",
            "Hello world 79\n",
            "Hello world 78\n",
            "Hello world 77\n",
            "Hello world 76\n",
            "Hello world 75\n",
            "Hello world 74\n",
            "Hello world 73\n",
            "Hello world 72\n",
            "Hello world 71\n",
            "Hello world 70\n",
            "Hello world 69\n",
            "Hello world 68\n",
            "Hello world 67\n",
            "Hello world 66\n",
            "Hello world 65\n",
            "Hello world 64\n",
            "Hello world 63\n",
            "Hello world 62\n",
            "Hello world 61\n",
            "Hello world 60\n",
            "Hello world 59\n",
            "Hello world 58\n",
            "Hello world 57\n",
            "Hello world 56\n",
            "Hello world 55\n",
            "Hello world 54\n",
            "Hello world 53\n",
            "Hello world 52\n",
            "Hello world 51\n",
            "Hello world 50\n",
            "Hello world 49\n",
            "Hello world 48\n",
            "Hello world 47\n",
            "Hello world 46\n",
            "Hello world 45\n",
            "Hello world 44\n",
            "Hello world 43\n",
            "Hello world 42\n",
            "Hello world 41\n",
            "Hello world 40\n",
            "Hello world 39\n",
            "Hello world 38\n",
            "Hello world 37\n",
            "Hello world 36\n",
            "Hello world 35\n",
            "Hello world 34\n",
            "Hello world 33\n",
            "Hello world 32\n",
            "Hello world 31\n",
            "Hello world 30\n",
            "Hello world 29\n",
            "Hello world 28\n",
            "Hello world 27\n",
            "Hello world 26\n",
            "Hello world 25\n",
            "Hello world 24\n",
            "Hello world 23\n",
            "Hello world 22\n",
            "Hello world 21\n",
            "Hello world 20\n",
            "Hello world 19\n",
            "Hello world 18\n",
            "Hello world 17\n",
            "Hello world 16\n",
            "Hello world 15\n",
            "Hello world 14\n",
            "Hello world 13\n",
            "Hello world 12\n",
            "Hello world 11\n",
            "Hello world 10\n",
            "Hello world 9\n",
            "Hello world 8\n",
            "Hello world 7\n",
            "Hello world 6\n",
            "Hello world 5\n",
            "Hello world 4\n",
            "Hello world 3\n",
            "Hello world 2\n",
            "Hello world 1\n"
          ]
        }
      ]
    },
    {
      "cell_type": "markdown",
      "source": [
        "100부터 1까지 반복해야 하므로 먼저 i에 100을 할당합니다. 그다음에 while의 조건식은 i > 0과 같이 지정하여 1까지만 반복하도록 만듭니다. 또한, 변화식을 i -= 1로 지정하여 변수의 값을 감소시킵니다. 이렇게 하면 i가 100부터 1까지 감소하면서 반복합니다. 만약 i가 0이되면 i > 0은 거짓(False)이므로 반복문을 끝냅니다.\n",
        "\n"
      ],
      "metadata": {
        "id": "LFYwJBX_nPHD"
      }
    },
    {
      "cell_type": "markdown",
      "source": [
        "### 입력한 횟수대로 반복하기"
      ],
      "metadata": {
        "id": "HEeHC_tWnQil"
      }
    },
    {
      "cell_type": "code",
      "source": [
        "count = int(input(\"반복할 횟수를 입력하세요 : \"))\n",
        "\n",
        "i = 0\n",
        "while i < count: # i가 count보다 작을 때 반복\n",
        "    print('Hello world!', i)\n",
        "    i += 1\n"
      ],
      "metadata": {
        "colab": {
          "base_uri": "https://localhost:8080/"
        },
        "id": "NuOe8ixfnNcs",
        "outputId": "2a6c53f5-ba57-446c-baf0-70470e3fe48d"
      },
      "execution_count": 34,
      "outputs": [
        {
          "output_type": "stream",
          "name": "stdout",
          "text": [
            "반복할 횟수를 입력하세요 : 3\n",
            "Hello world! 0\n",
            "Hello world! 1\n",
            "Hello world! 2\n"
          ]
        }
      ]
    },
    {
      "cell_type": "code",
      "source": [
        "# 이번에는 초깃값을 받은 뒤 초깃값만큼 출력해보겠습니다.\n",
        "count = int(input('반복할 횟수를 입력하세요 : '))\n",
        "\n",
        "while count > 0:\n",
        "    print('Hello world!', count)\n",
        "    count -= 1"
      ],
      "metadata": {
        "colab": {
          "base_uri": "https://localhost:8080/"
        },
        "id": "IfM8BCbjnStj",
        "outputId": "5590a9c3-1d90-48f8-f295-584337f4f2bb"
      },
      "execution_count": 35,
      "outputs": [
        {
          "output_type": "stream",
          "name": "stdout",
          "text": [
            "반복할 횟수를 입력하세요 : 5\n",
            "Hello world! 5\n",
            "Hello world! 4\n",
            "Hello world! 3\n",
            "Hello world! 2\n",
            "Hello world! 1\n"
          ]
        }
      ]
    },
    {
      "cell_type": "markdown",
      "source": [
        "input으로 입력 값을 받아서 count 변수에 저장했습니다. 그리고 조건식에서 count > 0와 같이 지정하여 count에 들어있는 값만큼 반복하도록 만들었습니다. 여기서는 변수 i 대신 count를 바로 사용하므로 변화식을 count -= 1로 지정하여 반복할 때마다 count를 감소시키고 count가 0이 되면 반복문을 끝냅니다."
      ],
      "metadata": {
        "id": "Dgfu0gEqnb4t"
      }
    },
    {
      "cell_type": "markdown",
      "source": [
        "## 반복 횟수가 정해지지 않은 경우"
      ],
      "metadata": {
        "id": "JvH-ceqZnkVP"
      }
    },
    {
      "cell_type": "markdown",
      "source": [
        "지금까지 조건식에서 반복 횟수를 정한 뒤 변수 i를 증가시키거나 감소시켜서 while 반복문을 사용했습니다. 하지만 while 반복문은 반복 횟수가 정해지지 않았을 때 주로 사용합니다.\n",
        "\n",
        "이번에는 난수를 생성해서 숫자에 따라 반복을 끝내 보겠습니다. 난수(random number)란 특정 주기로 반복되지 않으며 규칙 없이 무작위로 나열되는 숫자를 뜻합니다. 현실에서 쉽게 접할 수 있는 난수가 바로 주사위를 굴려서 나온 숫자입니다."
      ],
      "metadata": {
        "id": "NoTuB4-KnqQ6"
      }
    },
    {
      "cell_type": "markdown",
      "source": [
        "파이썬에서 난수를 생성하려면 random 모듈이 필요합니다. 모듈은 다음과 같이 import 키워드를 사용하여 가져올 수 있습니다\n",
        "* `import 모듈`"
      ],
      "metadata": {
        "id": "HR-svyFOntLS"
      }
    },
    {
      "cell_type": "code",
      "source": [
        "import random # import 가져온다. random 모듈을 \n",
        "random.random() # 0 ~ 1 사이의 숫자 "
      ],
      "metadata": {
        "id": "K-idPSq3nX6k",
        "colab": {
          "base_uri": "https://localhost:8080/"
        },
        "outputId": "b7f601db-138c-49c6-f2c3-460f95c66aa9"
      },
      "execution_count": 36,
      "outputs": [
        {
          "output_type": "execute_result",
          "data": {
            "text/plain": [
              "0.6642080658273674"
            ]
          },
          "metadata": {},
          "execution_count": 36
        }
      ]
    },
    {
      "cell_type": "code",
      "source": [],
      "metadata": {
        "colab": {
          "base_uri": "https://localhost:8080/"
        },
        "id": "NQ6xwVTKnyIc",
        "outputId": "2b845d9c-e5f4-4170-82e0-5bb661ac4ee9"
      },
      "execution_count": null,
      "outputs": [
        {
          "output_type": "execute_result",
          "data": {
            "text/plain": [
              "0.5106169446478133"
            ]
          },
          "metadata": {},
          "execution_count": 22
        }
      ]
    },
    {
      "cell_type": "markdown",
      "source": [
        "우리는 숫자를 좀 더 알아보기 쉽도록 정수를 생성하는 random 모듈의 randint 함수를 사용해보겠습니다. 다음과 같이 randint 함수는 난수를 생성할 범위를 지정하며, 범위에 지정한 숫자도 난수에 포함됩니다.\n",
        "\n",
        "* `random.randint(a, b)`\n",
        "\n",
        "그럼 randint 함수로 주사위를 만들어보겠습니다. 보통 정육면체 주사위는 1부터 6까지 숫자가 있죠? 따라서 random.randint(1, 6)처럼 1과 6을 넣으면 1과 6 사이의 난수가 생성됩니다."
      ],
      "metadata": {
        "id": "6_zz1i4Rn5Xl"
      }
    },
    {
      "cell_type": "code",
      "source": [
        "random.randint(1, 6) # 시작과 끝이 모두 포함"
      ],
      "metadata": {
        "colab": {
          "base_uri": "https://localhost:8080/"
        },
        "id": "0-A4i7Zbnz70",
        "outputId": "f5dc6626-bb25-4784-e3ba-7423d4f690db"
      },
      "execution_count": 43,
      "outputs": [
        {
          "output_type": "execute_result",
          "data": {
            "text/plain": [
              "4"
            ]
          },
          "metadata": {},
          "execution_count": 43
        }
      ]
    },
    {
      "cell_type": "code",
      "source": [
        "# 1과 6 사이의 난수를 생성한 뒤 3이 나오면 반복을 끝냅니다. 그냥 3이 나올 때까지 주사위를 계속 던지는 행동과 같습니다.\n",
        "import random \n",
        "\n",
        "i = random.randint(1, 6)\n",
        "while i != 3: # 3이 아니라면 아래 반복문을 계속 반복 \n",
        "    i = random.randint(1, 6)\n",
        "    print(i)\n"
      ],
      "metadata": {
        "colab": {
          "base_uri": "https://localhost:8080/"
        },
        "id": "xUPpAz69n820",
        "outputId": "508492ee-dc62-434c-d25c-ee366702077e"
      },
      "execution_count": 44,
      "outputs": [
        {
          "output_type": "stream",
          "name": "stdout",
          "text": [
            "2\n",
            "3\n"
          ]
        }
      ]
    },
    {
      "cell_type": "markdown",
      "source": [
        "while 반복문에서 i != 3과 같이 조건식을 지정하여 3이 아닐 때 계속 반복하도록 만듭니다. 그리고 반복할 코드에서 i = random.randint(1, 6)과 같이 1과 6 사이의 난수를 생성하여 변수 i에 저장합니다.\n",
        "\n",
        "이제 이 코드를 여러 번 실행해봅니다. 실행 결과를 보면 정수가 무작위로 생성되어 실행할 때마다 반복 횟수가 달라지는 것을 볼 수 있습니다. 이처럼 while 반복문은 반복 횟수가 정해져 있지 않을 때 유용합니다."
      ],
      "metadata": {
        "id": "1jZY6105oGno"
      }
    },
    {
      "cell_type": "markdown",
      "source": [
        "### random.choice"
      ],
      "metadata": {
        "id": "HF0IkAlLolnQ"
      }
    },
    {
      "cell_type": "markdown",
      "source": [
        "random.choice 함수를 사용하면 시퀀스 객체에서 요소를 무작위로 선택할 수 있습니다. 다음은 1, 2, 3, 4, 5, 6이 들어있는 리스트에서 무작위로 숫자를 선택합니다.\n",
        "\n",
        "* `random.choice(시퀀스객체)`"
      ],
      "metadata": {
        "id": "8s5E-CXSonpm"
      }
    },
    {
      "cell_type": "code",
      "source": [
        "dice = range(1, 7) # 1~ 6\n",
        "dice = (1, 2, 3, 4, 5, 6)\n",
        "dice = [1, 2, 3, 4, 5, 6]\n",
        "dice = \"123456\"\n",
        "int(random.choice(dice))\n"
      ],
      "metadata": {
        "colab": {
          "base_uri": "https://localhost:8080/"
        },
        "id": "c0lch7GYn_q8",
        "outputId": "f0298f83-bed7-459b-fe0b-cbce92136153"
      },
      "execution_count": 45,
      "outputs": [
        {
          "output_type": "execute_result",
          "data": {
            "text/plain": [
              "1"
            ]
          },
          "metadata": {},
          "execution_count": 45
        }
      ]
    },
    {
      "cell_type": "markdown",
      "source": [
        "## while 반복문으로 무한 루프 만들기"
      ],
      "metadata": {
        "id": "PnRCDs3MoznA"
      }
    },
    {
      "cell_type": "code",
      "source": [
        "while True : \n",
        "    print(\"Hello World!\")"
      ],
      "metadata": {
        "id": "ggBuCa0VosJR"
      },
      "execution_count": null,
      "outputs": []
    },
    {
      "cell_type": "markdown",
      "source": [
        "while에 조건식 대신 True를 지정하면 무한히 반복하는 무한 루프가 만들어집니다. 따라서 조건식이 항상 참(True)이므로 변화식도 필요 없습니다.\n",
        "\n",
        "이 스크립트 파일을 실행한 상태로 두면 'Hello, world!'는 끝나지 않고 계속 출력됩니다. 따라서 IDLE이나 콘솔(터미널, 명령 프롬프트)에서 Ctrl+C를 입력하여 무한 루프를 끝냅니다."
      ],
      "metadata": {
        "id": "Wvcqb4_fo7BW"
      }
    },
    {
      "cell_type": "code",
      "source": [
        "# while에 True 대신 True로 취급하는 값을 사용해도 무한 루프로 동작합니다.\n",
        "while 1: # 0보다 크면 모두 무한루프\n",
        "    print(\"무한 루프\")"
      ],
      "metadata": {
        "id": "bc78dfcOo2lj"
      },
      "execution_count": null,
      "outputs": []
    },
    {
      "cell_type": "code",
      "source": [
        "while \" \": 빈 문자열이 아닌 문자열들\n",
        "    print(\"무한루프\")"
      ],
      "metadata": {
        "id": "N3LTMX-7o_q2"
      },
      "execution_count": null,
      "outputs": []
    },
    {
      "cell_type": "markdown",
      "source": [
        "# break, continue"
      ],
      "metadata": {
        "id": "9xBqmU8KpK9t"
      }
    },
    {
      "cell_type": "markdown",
      "source": [
        "break는 for와 while 문법에서 제어흐름을 벗어나기 위해 사용합니다. 즉, 루프를 완전히 중단하죠. continue는 break와 비슷하지만 약간 다른 점이 있습니다. break는 제어흐름을 중단하고 빠져 나오지만, continue는 제어흐름(반복)을 유지한 상태에서 코드의 실행만 건너뛰는 역할을 합니다. 마치 카드 게임을 할 때 패가 안 좋으면 판을 포기하고 다음 기회를 노리는 것과 비슷합니다.\n",
        "\n",
        "* `break`: 제어흐름 중단\n",
        "* `continue`: 제어흐름 유지, 코드 실행만 건너뜀"
      ],
      "metadata": {
        "id": "HQCc_aJFpRKv"
      }
    },
    {
      "cell_type": "markdown",
      "source": [
        "## break로 반복문 끝내기"
      ],
      "metadata": {
        "id": "WTAIzstKpoyw"
      }
    },
    {
      "cell_type": "markdown",
      "source": [
        " ### while에서 break로 반복문 끝내기"
      ],
      "metadata": {
        "id": "s0CqMWcFprFF"
      }
    },
    {
      "cell_type": "code",
      "source": [
        "i = 0 \n",
        "while True: # 무한 루프\n",
        "    print(i)\n",
        "    i += 1\n",
        "    if i == 100:\n",
        "        break"
      ],
      "metadata": {
        "id": "F_rYAyVWpKUJ",
        "colab": {
          "base_uri": "https://localhost:8080/"
        },
        "outputId": "f2343c3b-e205-4e28-9a74-65f10175aefc"
      },
      "execution_count": 46,
      "outputs": [
        {
          "output_type": "stream",
          "name": "stdout",
          "text": [
            "0\n",
            "1\n",
            "2\n",
            "3\n",
            "4\n",
            "5\n",
            "6\n",
            "7\n",
            "8\n",
            "9\n",
            "10\n",
            "11\n",
            "12\n",
            "13\n",
            "14\n",
            "15\n",
            "16\n",
            "17\n",
            "18\n",
            "19\n",
            "20\n",
            "21\n",
            "22\n",
            "23\n",
            "24\n",
            "25\n",
            "26\n",
            "27\n",
            "28\n",
            "29\n",
            "30\n",
            "31\n",
            "32\n",
            "33\n",
            "34\n",
            "35\n",
            "36\n",
            "37\n",
            "38\n",
            "39\n",
            "40\n",
            "41\n",
            "42\n",
            "43\n",
            "44\n",
            "45\n",
            "46\n",
            "47\n",
            "48\n",
            "49\n",
            "50\n",
            "51\n",
            "52\n",
            "53\n",
            "54\n",
            "55\n",
            "56\n",
            "57\n",
            "58\n",
            "59\n",
            "60\n",
            "61\n",
            "62\n",
            "63\n",
            "64\n",
            "65\n",
            "66\n",
            "67\n",
            "68\n",
            "69\n",
            "70\n",
            "71\n",
            "72\n",
            "73\n",
            "74\n",
            "75\n",
            "76\n",
            "77\n",
            "78\n",
            "79\n",
            "80\n",
            "81\n",
            "82\n",
            "83\n",
            "84\n",
            "85\n",
            "86\n",
            "87\n",
            "88\n",
            "89\n",
            "90\n",
            "91\n",
            "92\n",
            "93\n",
            "94\n",
            "95\n",
            "96\n",
            "97\n",
            "98\n",
            "99\n"
          ]
        }
      ]
    },
    {
      "cell_type": "markdown",
      "source": [
        "먼저 while에 True를 지정하여 무한 루프를 만들고, 그 안에서 i를 1씩 증가시킵니다. 그리고 if를 사용하여 i가 100이 될 때 break를 실행합니다. 이렇게 하면 무한 루프라도 0부터 99까지만 화면에 출력합니다. 즉, 반복문 안에서 break를 실행하면 반복문은 바로 끝납니다."
      ],
      "metadata": {
        "id": "2Q7gyUfspwTr"
      }
    },
    {
      "cell_type": "markdown",
      "source": [
        "## for에서 break로 반복문 끝내기"
      ],
      "metadata": {
        "id": "UcvxgPrep2ic"
      }
    },
    {
      "cell_type": "code",
      "source": [
        "for i in range(10000): # ~9999\n",
        "    print(i)\n",
        "    if i == 100:\n",
        "        break"
      ],
      "metadata": {
        "id": "8ywMPHOPptSl"
      },
      "execution_count": null,
      "outputs": []
    },
    {
      "cell_type": "code",
      "source": [
        "a = [\"수현\", \"종민\", \"민지\", \"다슬\"]\n",
        "for name in a:\n",
        "    print(name)\n",
        "    if name == \"민지\":\n",
        "        break"
      ],
      "metadata": {
        "colab": {
          "base_uri": "https://localhost:8080/"
        },
        "id": "HFwJBp_ob8pV",
        "outputId": "1b094c9e-85a3-4f5c-fa8e-835b93fe64cd"
      },
      "execution_count": 47,
      "outputs": [
        {
          "output_type": "stream",
          "name": "stdout",
          "text": [
            "수현\n",
            "종민\n",
            "민지\n"
          ]
        }
      ]
    },
    {
      "cell_type": "markdown",
      "source": [
        "for에 range(10000)을 지정했으므로 0부터 9999까지 반복합니다. 하지만 i가 100일 때 break를 실행하므로 0부터 100까지만 출력하고 반복문을 끝냅니다."
      ],
      "metadata": {
        "id": "Ml-D-oVRp6Zw"
      }
    },
    {
      "cell_type": "markdown",
      "source": [
        "## continue로 코드 실행 건너뛰기"
      ],
      "metadata": {
        "id": "DSb1zCf4qG2d"
      }
    },
    {
      "cell_type": "markdown",
      "source": [
        "### for에서 continue로 코드 실행 건너뛰기"
      ],
      "metadata": {
        "id": "EumdwbusqLb5"
      }
    },
    {
      "cell_type": "code",
      "source": [
        "# 다음은 for로 0부터 99까지 반복하면서 홀수만 출력합니다.\n",
        "for i in range(100): # ~99, 1씩\n",
        "    if i % 2 == 0: # 짝수\n",
        "        continue # 이후의 코드를 실행 하지 않고 다음 반복으로 건너 뜀\n",
        "    print(i)"
      ],
      "metadata": {
        "id": "MgEUiaSDp4Tz",
        "colab": {
          "base_uri": "https://localhost:8080/"
        },
        "outputId": "5d6d5f90-ed3f-4657-e9f4-066f4c2a94dd"
      },
      "execution_count": 48,
      "outputs": [
        {
          "output_type": "stream",
          "name": "stdout",
          "text": [
            "1\n",
            "3\n",
            "5\n",
            "7\n",
            "9\n",
            "11\n",
            "13\n",
            "15\n",
            "17\n",
            "19\n",
            "21\n",
            "23\n",
            "25\n",
            "27\n",
            "29\n",
            "31\n",
            "33\n",
            "35\n",
            "37\n",
            "39\n",
            "41\n",
            "43\n",
            "45\n",
            "47\n",
            "49\n",
            "51\n",
            "53\n",
            "55\n",
            "57\n",
            "59\n",
            "61\n",
            "63\n",
            "65\n",
            "67\n",
            "69\n",
            "71\n",
            "73\n",
            "75\n",
            "77\n",
            "79\n",
            "81\n",
            "83\n",
            "85\n",
            "87\n",
            "89\n",
            "91\n",
            "93\n",
            "95\n",
            "97\n",
            "99\n"
          ]
        }
      ]
    },
    {
      "cell_type": "code",
      "source": [
        "a = [\"사과\", \"배\", \"사과\", \"배\"]\n",
        "for i in a:\n",
        "    if i == \"사과\":\n",
        "        print(\"사과는 맛 있어\")\n",
        "        continue\n",
        "    print(\"사과가 아니야\")"
      ],
      "metadata": {
        "colab": {
          "base_uri": "https://localhost:8080/"
        },
        "id": "RQN0javAdNQj",
        "outputId": "74e47a93-2624-48e5-ff03-da6cad0346ba"
      },
      "execution_count": 53,
      "outputs": [
        {
          "output_type": "stream",
          "name": "stdout",
          "text": [
            "사과는 맛 있어\n",
            "사과가 아니야\n",
            "사과는 맛 있어\n",
            "사과가 아니야\n"
          ]
        }
      ]
    },
    {
      "cell_type": "code",
      "source": [],
      "metadata": {
        "id": "2TfzekgLdMl_"
      },
      "execution_count": null,
      "outputs": []
    },
    {
      "cell_type": "markdown",
      "source": [
        "먼저 for를 사용하여 0부터 99까지 반복합니다. 그리고 if를 사용하여 i가 짝수이면 continue를 실행합니다( i를 2로 나누었을 때 나머지가 0이면 짝수, 0이 아니면 홀수입니다). 마지막으로 print를 사용하여 i의 값을 출력합니다.\n",
        "\n",
        "이제 i가 짝수이면 continue를 실행하여 print를 건너뛰고, 홀수이면 print로 숫자를 출력합니다. 즉, 반복문 안에서 continue를 실행하면 continue 아래의 코드는 실행하지 않고 건너뛴 뒤 다음 반복을 시작합니다."
      ],
      "metadata": {
        "id": "sbdEMcztqRO7"
      }
    },
    {
      "cell_type": "markdown",
      "source": [
        "### while 반복문에서 continue로 코드 실행 건너뛰기"
      ],
      "metadata": {
        "id": "bBN9hcs7qSsx"
      }
    },
    {
      "cell_type": "code",
      "source": [
        "i = 0\n",
        "while i < 100: # 100보다 작다면 반복\n",
        "    i += 1 # 1씩 더해줌\n",
        "    if I % 2 == 0: # 짝수면은 CONTINUE \n",
        "        continue"
      ],
      "metadata": {
        "id": "FI_FW46LqO9M"
      },
      "execution_count": null,
      "outputs": []
    },
    {
      "cell_type": "markdown",
      "source": [
        "while i < 100:으로 0부터 99까지 반복하도록 만듭니다. 그리고 i를 1씩 증가시킨 뒤 if를 사용하여 i가 짝수이면 continue를 실행합니다. 마지막으로 print를 사용하여 i의 값을 출력합니다.\n",
        "\n",
        "이렇게 하면 i의 값에 따라 continue 아래에 있는 print를 건너뜁니다."
      ],
      "metadata": {
        "id": "9_3PIMaHqVU_"
      }
    },
    {
      "cell_type": "markdown",
      "source": [
        "여기서는 while i < 100:과 같이 반복 횟수를 정한 뒤 continue를 사용했습니다. 만약 무한 루프에서 continue를 사용하면 홀수만 계속 출력될 뿐 반복문은 끝나지 않습니다. while에서 continue를 사용할 때는 이 부분을 주의해주세요."
      ],
      "metadata": {
        "id": "U9BwPBysqaAx"
      }
    },
    {
      "cell_type": "markdown",
      "source": [
        "### 반복문과 pass\n",
        "for, while의 반복할 코드에서 아무 일도 하지 않지만, 반복문의 형태를 유지하고 싶다면 pass를 사용하면 됩니다.\n",
        "```\n",
        "for i in range(10):    # 10번 반복\n",
        "    pass               # 아무 일도 하지 않음\n",
        "```\n",
        "```\n",
        "while True:    # 무한 루프\n",
        "    pass       # 아무 일도 하지 않음\n",
        "```"
      ],
      "metadata": {
        "id": "xunNOTvIqaYB"
      }
    },
    {
      "cell_type": "markdown",
      "source": [
        "## 입력한 횟수대로 반복하기"
      ],
      "metadata": {
        "id": "MadGzjXfqujk"
      }
    },
    {
      "cell_type": "code",
      "source": [
        "count = int(input())\n",
        "\n",
        "i = 0\n",
        "while True:\n",
        "    print(i)\n",
        "    i += 1\n",
        "    if i == count:\n",
        "        break"
      ],
      "metadata": {
        "id": "qakw2tjqqw0z",
        "colab": {
          "base_uri": "https://localhost:8080/",
          "height": 405
        },
        "outputId": "a82a7ca5-c565-4bce-dc5c-f05c64740b95"
      },
      "execution_count": 55,
      "outputs": [
        {
          "output_type": "error",
          "ename": "KeyboardInterrupt",
          "evalue": "ignored",
          "traceback": [
            "\u001b[0;31m---------------------------------------------------------------------------\u001b[0m",
            "\u001b[0;31mKeyboardInterrupt\u001b[0m                         Traceback (most recent call last)",
            "\u001b[0;32m<ipython-input-55-7f38d0941fff>\u001b[0m in \u001b[0;36m<module>\u001b[0;34m\u001b[0m\n\u001b[0;32m----> 1\u001b[0;31m \u001b[0mcount\u001b[0m \u001b[0;34m=\u001b[0m \u001b[0mint\u001b[0m\u001b[0;34m(\u001b[0m\u001b[0minput\u001b[0m\u001b[0;34m(\u001b[0m\u001b[0;34m)\u001b[0m\u001b[0;34m)\u001b[0m\u001b[0;34m\u001b[0m\u001b[0;34m\u001b[0m\u001b[0m\n\u001b[0m\u001b[1;32m      2\u001b[0m \u001b[0;34m\u001b[0m\u001b[0m\n\u001b[1;32m      3\u001b[0m \u001b[0mi\u001b[0m \u001b[0;34m=\u001b[0m \u001b[0;36m0\u001b[0m\u001b[0;34m\u001b[0m\u001b[0;34m\u001b[0m\u001b[0m\n\u001b[1;32m      4\u001b[0m \u001b[0;32mwhile\u001b[0m \u001b[0;32mTrue\u001b[0m\u001b[0;34m:\u001b[0m\u001b[0;34m\u001b[0m\u001b[0;34m\u001b[0m\u001b[0m\n\u001b[1;32m      5\u001b[0m     \u001b[0mprint\u001b[0m\u001b[0;34m(\u001b[0m\u001b[0mi\u001b[0m\u001b[0;34m)\u001b[0m\u001b[0;34m\u001b[0m\u001b[0;34m\u001b[0m\u001b[0m\n",
            "\u001b[0;32m/usr/local/lib/python3.8/dist-packages/ipykernel/kernelbase.py\u001b[0m in \u001b[0;36mraw_input\u001b[0;34m(self, prompt)\u001b[0m\n\u001b[1;32m    858\u001b[0m                 \u001b[0;34m\"raw_input was called, but this frontend does not support input requests.\"\u001b[0m\u001b[0;34m\u001b[0m\u001b[0;34m\u001b[0m\u001b[0m\n\u001b[1;32m    859\u001b[0m             )\n\u001b[0;32m--> 860\u001b[0;31m         return self._input_request(str(prompt),\n\u001b[0m\u001b[1;32m    861\u001b[0m             \u001b[0mself\u001b[0m\u001b[0;34m.\u001b[0m\u001b[0m_parent_ident\u001b[0m\u001b[0;34m,\u001b[0m\u001b[0;34m\u001b[0m\u001b[0;34m\u001b[0m\u001b[0m\n\u001b[1;32m    862\u001b[0m             \u001b[0mself\u001b[0m\u001b[0;34m.\u001b[0m\u001b[0m_parent_header\u001b[0m\u001b[0;34m,\u001b[0m\u001b[0;34m\u001b[0m\u001b[0;34m\u001b[0m\u001b[0m\n",
            "\u001b[0;32m/usr/local/lib/python3.8/dist-packages/ipykernel/kernelbase.py\u001b[0m in \u001b[0;36m_input_request\u001b[0;34m(self, prompt, ident, parent, password)\u001b[0m\n\u001b[1;32m    902\u001b[0m             \u001b[0;32mexcept\u001b[0m \u001b[0mKeyboardInterrupt\u001b[0m\u001b[0;34m:\u001b[0m\u001b[0;34m\u001b[0m\u001b[0;34m\u001b[0m\u001b[0m\n\u001b[1;32m    903\u001b[0m                 \u001b[0;31m# re-raise KeyboardInterrupt, to truncate traceback\u001b[0m\u001b[0;34m\u001b[0m\u001b[0;34m\u001b[0m\u001b[0;34m\u001b[0m\u001b[0m\n\u001b[0;32m--> 904\u001b[0;31m                 \u001b[0;32mraise\u001b[0m \u001b[0mKeyboardInterrupt\u001b[0m\u001b[0;34m(\u001b[0m\u001b[0;34m\"Interrupted by user\"\u001b[0m\u001b[0;34m)\u001b[0m \u001b[0;32mfrom\u001b[0m \u001b[0;32mNone\u001b[0m\u001b[0;34m\u001b[0m\u001b[0;34m\u001b[0m\u001b[0m\n\u001b[0m\u001b[1;32m    905\u001b[0m             \u001b[0;32mexcept\u001b[0m \u001b[0mException\u001b[0m \u001b[0;32mas\u001b[0m \u001b[0me\u001b[0m\u001b[0;34m:\u001b[0m\u001b[0;34m\u001b[0m\u001b[0;34m\u001b[0m\u001b[0m\n\u001b[1;32m    906\u001b[0m                 \u001b[0mself\u001b[0m\u001b[0;34m.\u001b[0m\u001b[0mlog\u001b[0m\u001b[0;34m.\u001b[0m\u001b[0mwarning\u001b[0m\u001b[0;34m(\u001b[0m\u001b[0;34m\"Invalid Message:\"\u001b[0m\u001b[0;34m,\u001b[0m \u001b[0mexc_info\u001b[0m\u001b[0;34m=\u001b[0m\u001b[0;32mTrue\u001b[0m\u001b[0;34m)\u001b[0m\u001b[0;34m\u001b[0m\u001b[0;34m\u001b[0m\u001b[0m\n",
            "\u001b[0;31mKeyboardInterrupt\u001b[0m: Interrupted by user"
          ]
        }
      ]
    },
    {
      "cell_type": "markdown",
      "source": [
        "먼저 input으로 입력 값을 받아서 count 변수에 저장했습니다(이때 반드시 int를 사용하여 input에서 나온 문자열을 정수로 변환해줍니다). 그다음에 i에는 0을 할당하고, while에 True를 지정하여 무한 루프로 만듭니다.\n",
        "\n",
        "반복문 안에서는 i의 값을 출력하고, 변화식에서는 i를 1씩 증가시킵니다. 그리고 i가 count의 값과 같으면 break를 실행합니다.\n",
        "\n",
        "여기서는 3을 입력했으므로 0부터 2까지 출력된 뒤 i의 값 3과 count의 값 3이 같으므로 반복문은 끝납니다."
      ],
      "metadata": {
        "id": "KkIK3zQyqzG1"
      }
    },
    {
      "cell_type": "markdown",
      "source": [
        "### 입력한 숫자까지 홀수 출력하기"
      ],
      "metadata": {
        "id": "XWdNjKIrq3I1"
      }
    },
    {
      "cell_type": "code",
      "source": [
        "count = int(input())\n",
        "for i in range(count + 1):\n",
        "    if i % 2 == 0: # 짝수라면\n",
        "        continue\n",
        "    print(i)"
      ],
      "metadata": {
        "id": "9vlLPWdIq46Y",
        "colab": {
          "base_uri": "https://localhost:8080/"
        },
        "outputId": "44d3aa7e-3002-495b-9f23-4988d460cabe"
      },
      "execution_count": 57,
      "outputs": [
        {
          "output_type": "stream",
          "name": "stdout",
          "text": [
            "5\n",
            "1\n",
            "3\n",
            "5\n"
          ]
        }
      ]
    },
    {
      "cell_type": "markdown",
      "source": [
        "input으로 입력 값을 받아서 count 변수에 저장했습니다(이때 반드시 int를 사용하여 input에서 나온 문자열을 정수로 변환해줍니다). 그리고 for의 range에 count + 1을 지정하여 count에 들어있는 값만큼 반복하도록 만들었습니다. 왜냐하면 range(count)는 0부터 시작하므로 count의 값은 반복에 포함되지 않기 때문입니다. 따라서 count에 1을 더해서 count의 값도 반복에 포함되도록 만들어줍니다.\n",
        "\n",
        "반복문 안에서는 if를 사용하여 i가 짝수이면 continue를 실행합니다. 그다음에 print를 사용하여 i의 값을 출력합니다.\n",
        "\n",
        "여기서는 9를 입력했으므로 0부터 9까지 반복하면서 i가 짝수이면 print를 실행하지 않고 건너뛰며 i가 홀수이면 print를 사용하여 숫자를 출력합니다. 따라서 1 3 5 7 9가 출력됩니다."
      ],
      "metadata": {
        "id": "qiPfmmDxq7qo"
      }
    }
  ]
}