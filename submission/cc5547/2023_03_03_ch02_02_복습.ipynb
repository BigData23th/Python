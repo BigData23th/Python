{
  "nbformat": 4,
  "nbformat_minor": 0,
  "metadata": {
    "colab": {
      "provenance": [],
      "authorship_tag": "ABX9TyNrKMc9zhdjNW8YGoI2BRZX",
      "include_colab_link": true
    },
    "kernelspec": {
      "name": "python3",
      "display_name": "Python 3"
    },
    "language_info": {
      "name": "python"
    }
  },
  "cells": [
    {
      "cell_type": "markdown",
      "metadata": {
        "id": "view-in-github",
        "colab_type": "text"
      },
      "source": [
        "<a href=\"https://colab.research.google.com/github/cc5547/Python/blob/main/submission/cc5547/2023_03_03_ch02_02_%EB%B3%B5%EC%8A%B5.ipynb\" target=\"_parent\"><img src=\"https://colab.research.google.com/assets/colab-badge.svg\" alt=\"Open In Colab\"/></a>"
      ]
    },
    {
      "cell_type": "markdown",
      "source": [
        "## 시퀀스"
      ],
      "metadata": {
        "id": "SY43bLZP2GxS"
      }
    },
    {
      "cell_type": "code",
      "execution_count": 1,
      "metadata": {
        "id": "vvS476sRzyyP",
        "colab": {
          "base_uri": "https://localhost:8080/"
        },
        "outputId": "4bea93b3-5557-420f-83b0-63ff53c25529"
      },
      "outputs": [
        {
          "output_type": "execute_result",
          "data": {
            "text/plain": [
              "('', '', '', '')"
            ]
          },
          "metadata": {},
          "execution_count": 1
        }
      ],
      "source": [
        "# 시퀀스 : 0개 이상의 원소가 나열되어서 묶여 있는 자료형\n",
        "# list, tuple, range, string(str) : 문자열\n",
        "[] # 대괄호 \n",
        "() # 소관호\n",
        "\"\", '', '''''', \"\"\"\"\"\"\"\" # 문자열\n",
        "('','','','')"
      ]
    },
    {
      "cell_type": "markdown",
      "source": [
        "## in, not in\n"
      ],
      "metadata": {
        "id": "qPZFxb5H2CG1"
      }
    },
    {
      "cell_type": "code",
      "source": [
        "# 값 in 시퀀스 객체 <-> for 변수명 in 시퀀스 객체 : \n",
        "\"파이썬\" in [\"파이썬\", \"자바\", \"자바스크립트\"]"
      ],
      "metadata": {
        "colab": {
          "base_uri": "https://localhost:8080/"
        },
        "id": "XaScamkR0WXm",
        "outputId": "1076dd65-03e7-43f1-af60-30a1fec6f0a7"
      },
      "execution_count": 3,
      "outputs": [
        {
          "output_type": "execute_result",
          "data": {
            "text/plain": [
              "True"
            ]
          },
          "metadata": {},
          "execution_count": 3
        }
      ]
    },
    {
      "cell_type": "code",
      "source": [
        "a = \"파이썬\"\n",
        "b = [\"파이썬\", \"자바\", \"자바스크립트\"]\n",
        "a in b # bool -> 참과 거짓(있나요? 없나요?)"
      ],
      "metadata": {
        "colab": {
          "base_uri": "https://localhost:8080/"
        },
        "id": "cI0rjyF80d0b",
        "outputId": "3e9ab5eb-b153-464a-d023-af076bc63bc7"
      },
      "execution_count": 8,
      "outputs": [
        {
          "output_type": "execute_result",
          "data": {
            "text/plain": [
              "True"
            ]
          },
          "metadata": {},
          "execution_count": 8
        }
      ]
    },
    {
      "cell_type": "code",
      "source": [
        "c = \"C언어\"\n",
        "c in b, c not in b"
      ],
      "metadata": {
        "colab": {
          "base_uri": "https://localhost:8080/"
        },
        "id": "vhUidvTz1AHO",
        "outputId": "4925db5d-938d-4032-ed44-b2d3e72b95eb"
      },
      "execution_count": 11,
      "outputs": [
        {
          "output_type": "execute_result",
          "data": {
            "text/plain": [
              "(False, True)"
            ]
          },
          "metadata": {},
          "execution_count": 11
        }
      ]
    },
    {
      "cell_type": "code",
      "source": [
        "name = \"최용재\"\n",
        "\"최\" in name, \"영인\" in name"
      ],
      "metadata": {
        "colab": {
          "base_uri": "https://localhost:8080/"
        },
        "id": "ZeggGtnl1mFl",
        "outputId": "cb08bcc4-5034-4d6b-d9d2-00cf0c6712ba"
      },
      "execution_count": 13,
      "outputs": [
        {
          "output_type": "execute_result",
          "data": {
            "text/plain": [
              "(True, False)"
            ]
          },
          "metadata": {},
          "execution_count": 13
        }
      ]
    },
    {
      "cell_type": "code",
      "source": [
        "sentence = \"아버지가 방에 들어가신다.\"\n",
        "\n",
        "\"아버지\" in sentence, \"어머니\" not in sentence, \"가방\" not in sentence"
      ],
      "metadata": {
        "colab": {
          "base_uri": "https://localhost:8080/"
        },
        "id": "jtioHOzz1uTG",
        "outputId": "e6e523a0-6642-445c-adfe-f7986fe5bb21"
      },
      "execution_count": 16,
      "outputs": [
        {
          "output_type": "execute_result",
          "data": {
            "text/plain": [
              "(True, True, True)"
            ]
          },
          "metadata": {},
          "execution_count": 16
        }
      ]
    },
    {
      "cell_type": "markdown",
      "source": [
        "## 연결(+)\n"
      ],
      "metadata": {
        "id": "cFhxjKVS2Kku"
      }
    },
    {
      "cell_type": "code",
      "source": [
        "a = [\"사과\", \"배\", \"고라니\"]\n",
        "b = list(range(1, 7))\n",
        "a + b # 연결(concatenate)"
      ],
      "metadata": {
        "colab": {
          "base_uri": "https://localhost:8080/"
        },
        "id": "_6Ep-J0u2P6w",
        "outputId": "ca96379e-09df-41bc-ab26-63fd73be592a"
      },
      "execution_count": 20,
      "outputs": [
        {
          "output_type": "execute_result",
          "data": {
            "text/plain": [
              "['사과', '배', '고라니', 1, 2, 3, 4, 5, 6]"
            ]
          },
          "metadata": {},
          "execution_count": 20
        }
      ]
    },
    {
      "cell_type": "code",
      "source": [
        "a, b"
      ],
      "metadata": {
        "colab": {
          "base_uri": "https://localhost:8080/"
        },
        "id": "UyRSBSex2nEr",
        "outputId": "12e66cea-3e33-41f3-ace0-1e444fc45ecd"
      },
      "execution_count": 22,
      "outputs": [
        {
          "output_type": "execute_result",
          "data": {
            "text/plain": [
              "(['사과', '배', '고라니'], [1, 2, 3, 4, 5, 6])"
            ]
          },
          "metadata": {},
          "execution_count": 22
        }
      ]
    },
    {
      "cell_type": "code",
      "source": [
        "(1, 2, 3) + (4, 5, 6)"
      ],
      "metadata": {
        "colab": {
          "base_uri": "https://localhost:8080/"
        },
        "id": "YV86bgCU24E7",
        "outputId": "390d3861-174f-40da-e473-ecde3628dab3"
      },
      "execution_count": 24,
      "outputs": [
        {
          "output_type": "execute_result",
          "data": {
            "text/plain": [
              "(1, 2, 3, 4, 5, 6)"
            ]
          },
          "metadata": {},
          "execution_count": 24
        }
      ]
    },
    {
      "cell_type": "code",
      "source": [
        "\"이삭\" + \"토스트\""
      ],
      "metadata": {
        "colab": {
          "base_uri": "https://localhost:8080/",
          "height": 35
        },
        "id": "QIPhPVnn27ib",
        "outputId": "0e72c74e-db62-4c62-9a86-61451a00d049"
      },
      "execution_count": 27,
      "outputs": [
        {
          "output_type": "execute_result",
          "data": {
            "text/plain": [
              "'이삭토스트'"
            ],
            "application/vnd.google.colaboratory.intrinsic+json": {
              "type": "string"
            }
          },
          "metadata": {},
          "execution_count": 27
        }
      ]
    },
    {
      "cell_type": "code",
      "source": [
        "range(10) + range(10)"
      ],
      "metadata": {
        "colab": {
          "base_uri": "https://localhost:8080/",
          "height": 174
        },
        "id": "bc3i8sgT3CDp",
        "outputId": "202c741b-24c4-4ff3-a162-504821ac1005"
      },
      "execution_count": 29,
      "outputs": [
        {
          "output_type": "error",
          "ename": "TypeError",
          "evalue": "ignored",
          "traceback": [
            "\u001b[0;31m---------------------------------------------------------------------------\u001b[0m",
            "\u001b[0;31mTypeError\u001b[0m                                 Traceback (most recent call last)",
            "\u001b[0;32m<ipython-input-29-bf425b1240c8>\u001b[0m in \u001b[0;36m<module>\u001b[0;34m\u001b[0m\n\u001b[0;32m----> 1\u001b[0;31m \u001b[0mrange\u001b[0m\u001b[0;34m(\u001b[0m\u001b[0;36m10\u001b[0m\u001b[0;34m)\u001b[0m \u001b[0;34m+\u001b[0m \u001b[0mrange\u001b[0m\u001b[0;34m(\u001b[0m\u001b[0;36m10\u001b[0m\u001b[0;34m)\u001b[0m\u001b[0;34m\u001b[0m\u001b[0;34m\u001b[0m\u001b[0m\n\u001b[0m",
            "\u001b[0;31mTypeError\u001b[0m: unsupported operand type(s) for +: 'range' and 'range'"
          ]
        }
      ]
    },
    {
      "cell_type": "code",
      "source": [
        "list(range(10)) + list(range(10))"
      ],
      "metadata": {
        "colab": {
          "base_uri": "https://localhost:8080/"
        },
        "id": "6T9Ovx9_3Iu1",
        "outputId": "acd8ed43-e8dc-44a7-a80e-5170c99cef79"
      },
      "execution_count": 38,
      "outputs": [
        {
          "output_type": "execute_result",
          "data": {
            "text/plain": [
              "[0, 1, 2, 3, 4, 5, 6, 7, 8, 9, 0, 1, 2, 3, 4, 5, 6, 7, 8, 9]"
            ]
          },
          "metadata": {},
          "execution_count": 38
        }
      ]
    },
    {
      "cell_type": "code",
      "source": [
        "print(\"안녕하세요\", 1, \"학년입니다.\")"
      ],
      "metadata": {
        "colab": {
          "base_uri": "https://localhost:8080/"
        },
        "id": "EDmS2Blj3YU1",
        "outputId": "1ef04097-08a9-428b-d7f5-a8495cb0f162"
      },
      "execution_count": 40,
      "outputs": [
        {
          "output_type": "stream",
          "name": "stdout",
          "text": [
            "안녕하세요 1 학년입니다.\n"
          ]
        }
      ]
    },
    {
      "cell_type": "code",
      "source": [
        "\"안녕하세요\" + 1 + \"학년입니다.\" # int + str X "
      ],
      "metadata": {
        "colab": {
          "base_uri": "https://localhost:8080/",
          "height": 174
        },
        "id": "y0Uf5llQ3cSa",
        "outputId": "547f84b7-8714-41e0-d160-b45fa122c4f1"
      },
      "execution_count": 42,
      "outputs": [
        {
          "output_type": "error",
          "ename": "TypeError",
          "evalue": "ignored",
          "traceback": [
            "\u001b[0;31m---------------------------------------------------------------------------\u001b[0m",
            "\u001b[0;31mTypeError\u001b[0m                                 Traceback (most recent call last)",
            "\u001b[0;32m<ipython-input-42-dca11cdfa4f0>\u001b[0m in \u001b[0;36m<module>\u001b[0;34m\u001b[0m\n\u001b[0;32m----> 1\u001b[0;31m \u001b[0;34m\"안녕하세요\"\u001b[0m \u001b[0;34m+\u001b[0m \u001b[0;36m1\u001b[0m \u001b[0;34m+\u001b[0m \u001b[0;34m\"학년입니다.\"\u001b[0m \u001b[0;31m# int + str X\u001b[0m\u001b[0;34m\u001b[0m\u001b[0;34m\u001b[0m\u001b[0m\n\u001b[0m",
            "\u001b[0;31mTypeError\u001b[0m: can only concatenate str (not \"int\") to str"
          ]
        }
      ]
    },
    {
      "cell_type": "code",
      "source": [
        "int(\"안녕하세요\")"
      ],
      "metadata": {
        "colab": {
          "base_uri": "https://localhost:8080/",
          "height": 174
        },
        "id": "9IcySEpc3juP",
        "outputId": "57bc0533-4fbc-4251-e14e-e517ec5b5cde"
      },
      "execution_count": 43,
      "outputs": [
        {
          "output_type": "error",
          "ename": "ValueError",
          "evalue": "ignored",
          "traceback": [
            "\u001b[0;31m---------------------------------------------------------------------------\u001b[0m",
            "\u001b[0;31mValueError\u001b[0m                                Traceback (most recent call last)",
            "\u001b[0;32m<ipython-input-43-b771e1eb05d9>\u001b[0m in \u001b[0;36m<module>\u001b[0;34m\u001b[0m\n\u001b[0;32m----> 1\u001b[0;31m \u001b[0mint\u001b[0m\u001b[0;34m(\u001b[0m\u001b[0;34m\"안녕하세요\"\u001b[0m\u001b[0;34m)\u001b[0m\u001b[0;34m\u001b[0m\u001b[0;34m\u001b[0m\u001b[0m\n\u001b[0m",
            "\u001b[0;31mValueError\u001b[0m: invalid literal for int() with base 10: '안녕하세요'"
          ]
        }
      ]
    },
    {
      "cell_type": "code",
      "source": [
        "\"안녕하세요\" + str(1) + \"학년입니다.\""
      ],
      "metadata": {
        "colab": {
          "base_uri": "https://localhost:8080/",
          "height": 35
        },
        "id": "kHY6-rlD3qxK",
        "outputId": "2090b559-10f8-4b67-f01f-f120d65bb852"
      },
      "execution_count": 44,
      "outputs": [
        {
          "output_type": "execute_result",
          "data": {
            "text/plain": [
              "'안녕하세요1학년입니다.'"
            ],
            "application/vnd.google.colaboratory.intrinsic+json": {
              "type": "string"
            }
          },
          "metadata": {},
          "execution_count": 44
        }
      ]
    },
    {
      "cell_type": "markdown",
      "source": [
        "## 반복(*)"
      ],
      "metadata": {
        "id": "aIutcEg336GC"
      }
    },
    {
      "cell_type": "code",
      "source": [
        "# 연결을 n번 이상하는, (시퀀스 객체) * n, n * (시퀀스 객체)\n",
        "[1, 10, 100, 100] * 3"
      ],
      "metadata": {
        "colab": {
          "base_uri": "https://localhost:8080/"
        },
        "id": "eb4WZYsV3-YW",
        "outputId": "6023179a-0410-4317-9897-c96c0cedfc9e"
      },
      "execution_count": 46,
      "outputs": [
        {
          "output_type": "execute_result",
          "data": {
            "text/plain": [
              "[1, 10, 100, 100, 1, 10, 100, 100, 1, 10, 100, 100]"
            ]
          },
          "metadata": {},
          "execution_count": 46
        }
      ]
    },
    {
      "cell_type": "code",
      "source": [
        "[1, 10, 100, 100] + [1, 10, 100, 100] + [1, 10, 100, 100]"
      ],
      "metadata": {
        "colab": {
          "base_uri": "https://localhost:8080/"
        },
        "id": "jBHkQR9j4aFJ",
        "outputId": "f7c179fc-1fe4-4f8e-bf3a-e7b69e4bba5d"
      },
      "execution_count": 48,
      "outputs": [
        {
          "output_type": "execute_result",
          "data": {
            "text/plain": [
              "[1, 10, 100, 100, 1, 10, 100, 100, 1, 10, 100, 100]"
            ]
          },
          "metadata": {},
          "execution_count": 48
        }
      ]
    },
    {
      "cell_type": "code",
      "source": [
        "[0] * 7 # 0을 7개 가진 리스트 만들기 "
      ],
      "metadata": {
        "colab": {
          "base_uri": "https://localhost:8080/"
        },
        "id": "TYtOyZqT4fFu",
        "outputId": "11267b57-fae4-48d6-87af-069a92495042"
      },
      "execution_count": 49,
      "outputs": [
        {
          "output_type": "execute_result",
          "data": {
            "text/plain": [
              "[0, 0, 0, 0, 0, 0, 0]"
            ]
          },
          "metadata": {},
          "execution_count": 49
        }
      ]
    },
    {
      "cell_type": "code",
      "source": [
        "[0] * 0, [0] * -1 # 0 이하의 숫자를 넣으면 빈 리스트"
      ],
      "metadata": {
        "colab": {
          "base_uri": "https://localhost:8080/"
        },
        "id": "o2B33teo4lDk",
        "outputId": "a6103489-550d-445c-a0d0-5f8a0b9a9c0e"
      },
      "execution_count": 51,
      "outputs": [
        {
          "output_type": "execute_result",
          "data": {
            "text/plain": [
              "([], [])"
            ]
          },
          "metadata": {},
          "execution_count": 51
        }
      ]
    },
    {
      "cell_type": "code",
      "source": [
        "range(10) * 10"
      ],
      "metadata": {
        "colab": {
          "base_uri": "https://localhost:8080/",
          "height": 174
        },
        "id": "QO7rVJtP45Cu",
        "outputId": "2c80253f-6505-48fa-b2b1-1140a60e7a8a"
      },
      "execution_count": 54,
      "outputs": [
        {
          "output_type": "error",
          "ename": "TypeError",
          "evalue": "ignored",
          "traceback": [
            "\u001b[0;31m---------------------------------------------------------------------------\u001b[0m",
            "\u001b[0;31mTypeError\u001b[0m                                 Traceback (most recent call last)",
            "\u001b[0;32m<ipython-input-54-a7002218ace3>\u001b[0m in \u001b[0;36m<module>\u001b[0;34m\u001b[0m\n\u001b[0;32m----> 1\u001b[0;31m \u001b[0mrange\u001b[0m\u001b[0;34m(\u001b[0m\u001b[0;36m10\u001b[0m\u001b[0;34m)\u001b[0m \u001b[0;34m*\u001b[0m \u001b[0;36m10\u001b[0m\u001b[0;34m\u001b[0m\u001b[0;34m\u001b[0m\u001b[0m\n\u001b[0m",
            "\u001b[0;31mTypeError\u001b[0m: unsupported operand type(s) for *: 'range' and 'int'"
          ]
        }
      ]
    },
    {
      "cell_type": "code",
      "source": [
        "tuple(range(10)) * 10"
      ],
      "metadata": {
        "colab": {
          "base_uri": "https://localhost:8080/"
        },
        "id": "AU7Es2I45CpX",
        "outputId": "8b1f67a6-afb9-4192-ccf1-930135201589"
      },
      "execution_count": 56,
      "outputs": [
        {
          "output_type": "execute_result",
          "data": {
            "text/plain": [
              "(0,\n",
              " 1,\n",
              " 2,\n",
              " 3,\n",
              " 4,\n",
              " 5,\n",
              " 6,\n",
              " 7,\n",
              " 8,\n",
              " 9,\n",
              " 0,\n",
              " 1,\n",
              " 2,\n",
              " 3,\n",
              " 4,\n",
              " 5,\n",
              " 6,\n",
              " 7,\n",
              " 8,\n",
              " 9,\n",
              " 0,\n",
              " 1,\n",
              " 2,\n",
              " 3,\n",
              " 4,\n",
              " 5,\n",
              " 6,\n",
              " 7,\n",
              " 8,\n",
              " 9,\n",
              " 0,\n",
              " 1,\n",
              " 2,\n",
              " 3,\n",
              " 4,\n",
              " 5,\n",
              " 6,\n",
              " 7,\n",
              " 8,\n",
              " 9,\n",
              " 0,\n",
              " 1,\n",
              " 2,\n",
              " 3,\n",
              " 4,\n",
              " 5,\n",
              " 6,\n",
              " 7,\n",
              " 8,\n",
              " 9,\n",
              " 0,\n",
              " 1,\n",
              " 2,\n",
              " 3,\n",
              " 4,\n",
              " 5,\n",
              " 6,\n",
              " 7,\n",
              " 8,\n",
              " 9,\n",
              " 0,\n",
              " 1,\n",
              " 2,\n",
              " 3,\n",
              " 4,\n",
              " 5,\n",
              " 6,\n",
              " 7,\n",
              " 8,\n",
              " 9,\n",
              " 0,\n",
              " 1,\n",
              " 2,\n",
              " 3,\n",
              " 4,\n",
              " 5,\n",
              " 6,\n",
              " 7,\n",
              " 8,\n",
              " 9,\n",
              " 0,\n",
              " 1,\n",
              " 2,\n",
              " 3,\n",
              " 4,\n",
              " 5,\n",
              " 6,\n",
              " 7,\n",
              " 8,\n",
              " 9,\n",
              " 0,\n",
              " 1,\n",
              " 2,\n",
              " 3,\n",
              " 4,\n",
              " 5,\n",
              " 6,\n",
              " 7,\n",
              " 8,\n",
              " 9)"
            ]
          },
          "metadata": {},
          "execution_count": 56
        }
      ]
    },
    {
      "cell_type": "code",
      "source": [
        "\"퇴실\" * 10"
      ],
      "metadata": {
        "colab": {
          "base_uri": "https://localhost:8080/",
          "height": 35
        },
        "id": "OdC_70tv5HMY",
        "outputId": "e873ea64-accf-4b7c-dff7-c3fdd175fde6"
      },
      "execution_count": 59,
      "outputs": [
        {
          "output_type": "execute_result",
          "data": {
            "text/plain": [
              "'퇴실퇴실퇴실퇴실퇴실퇴실퇴실퇴실퇴실퇴실'"
            ],
            "application/vnd.google.colaboratory.intrinsic+json": {
              "type": "string"
            }
          },
          "metadata": {},
          "execution_count": 59
        }
      ]
    },
    {
      "cell_type": "markdown",
      "source": [
        "### len()"
      ],
      "metadata": {
        "id": "OEfpIVvM5oUS"
      }
    },
    {
      "cell_type": "code",
      "source": [
        "# java : array.length(), JS : array.length, Python : len(array)\n",
        "len([1, 2, 3]), len((1, 2, 3)), len(range(2, 5, 2)), len(\"문자열\")"
      ],
      "metadata": {
        "colab": {
          "base_uri": "https://localhost:8080/"
        },
        "id": "mPLF9eG15VO-",
        "outputId": "fbd4f3fe-a1ae-4518-8ced-e2425e1f4a5f"
      },
      "execution_count": 61,
      "outputs": [
        {
          "output_type": "execute_result",
          "data": {
            "text/plain": [
              "(3, 3, 2, 3)"
            ]
          },
          "metadata": {},
          "execution_count": 61
        }
      ]
    },
    {
      "cell_type": "markdown",
      "source": [
        "### index"
      ],
      "metadata": {
        "id": "aX9q-6oK55jh"
      }
    },
    {
      "cell_type": "code",
      "source": [
        "# 0부터 시작, 전체 길이 -1 \n",
        "a = list(range(100, 600, 100))\n",
        "print(a)"
      ],
      "metadata": {
        "colab": {
          "base_uri": "https://localhost:8080/"
        },
        "id": "Adg_6Ruv53NC",
        "outputId": "0da047ad-e658-4551-8395-28e5b7053afb"
      },
      "execution_count": 63,
      "outputs": [
        {
          "output_type": "stream",
          "name": "stdout",
          "text": [
            "[100, 200, 300, 400, 500]\n"
          ]
        }
      ]
    },
    {
      "cell_type": "code",
      "source": [
        "a[2], a[2-1], a[1], a[0]"
      ],
      "metadata": {
        "colab": {
          "base_uri": "https://localhost:8080/"
        },
        "id": "-a4uh-qY6IOU",
        "outputId": "f25f24b0-4d65-43c9-8ef7-989a159a4f29"
      },
      "execution_count": 69,
      "outputs": [
        {
          "output_type": "execute_result",
          "data": {
            "text/plain": [
              "(300, 200, 200, 100)"
            ]
          },
          "metadata": {},
          "execution_count": 69
        }
      ]
    },
    {
      "cell_type": "code",
      "source": [
        "name = \"김나나씨\"\n",
        "name[0], name[-1]"
      ],
      "metadata": {
        "colab": {
          "base_uri": "https://localhost:8080/"
        },
        "id": "GK-PXwVo6Taw",
        "outputId": "49a14621-8d97-4365-b72a-cdd3fd6dda6a"
      },
      "execution_count": 71,
      "outputs": [
        {
          "output_type": "execute_result",
          "data": {
            "text/plain": [
              "('김', '씨')"
            ]
          },
          "metadata": {},
          "execution_count": 71
        }
      ]
    },
    {
      "cell_type": "code",
      "source": [
        "# 음수 인덱스 : 뒤에서부터 카운트, len(시퀀스객체) - n\n",
        "# a, a[-n] = a[len(a)-n]\n",
        "print(a)\n",
        "a[-1], a[len(a)-1]"
      ],
      "metadata": {
        "colab": {
          "base_uri": "https://localhost:8080/"
        },
        "id": "Eec17NSe6g12",
        "outputId": "8217158c-d47b-4b77-eaee-7b364556dbf1"
      },
      "execution_count": 73,
      "outputs": [
        {
          "output_type": "stream",
          "name": "stdout",
          "text": [
            "[100, 200, 300, 400, 500]\n"
          ]
        },
        {
          "output_type": "execute_result",
          "data": {
            "text/plain": [
              "(500, 500)"
            ]
          },
          "metadata": {},
          "execution_count": 73
        }
      ]
    },
    {
      "cell_type": "code",
      "source": [
        "a[len(a)]"
      ],
      "metadata": {
        "colab": {
          "base_uri": "https://localhost:8080/",
          "height": 174
        },
        "id": "4yIunKgc6zT2",
        "outputId": "bbad76cd-1cd0-41ce-db6b-66f417f18917"
      },
      "execution_count": 75,
      "outputs": [
        {
          "output_type": "error",
          "ename": "IndexError",
          "evalue": "ignored",
          "traceback": [
            "\u001b[0;31m---------------------------------------------------------------------------\u001b[0m",
            "\u001b[0;31mIndexError\u001b[0m                                Traceback (most recent call last)",
            "\u001b[0;32m<ipython-input-75-836f840eaf9f>\u001b[0m in \u001b[0;36m<module>\u001b[0;34m\u001b[0m\n\u001b[0;32m----> 1\u001b[0;31m \u001b[0ma\u001b[0m\u001b[0;34m[\u001b[0m\u001b[0mlen\u001b[0m\u001b[0;34m(\u001b[0m\u001b[0ma\u001b[0m\u001b[0;34m)\u001b[0m\u001b[0;34m]\u001b[0m\u001b[0;34m\u001b[0m\u001b[0;34m\u001b[0m\u001b[0m\n\u001b[0m",
            "\u001b[0;31mIndexError\u001b[0m: list index out of range"
          ]
        }
      ]
    },
    {
      "cell_type": "markdown",
      "source": [
        "## 요소에 값 할당하기\n",
        "* element, 요소, 구성요소, 원소"
      ],
      "metadata": {
        "id": "XoO4Hnbs680J"
      }
    },
    {
      "cell_type": "code",
      "source": [
        "a = [0] * 5\n",
        "print(a)\n",
        "a[0] = 5\n",
        "a[1] = 13\n",
        "a[2] = 34\n",
        "a[3] = 88\n",
        "a[4] = 100\n",
        "a # 원본에 영향"
      ],
      "metadata": {
        "colab": {
          "base_uri": "https://localhost:8080/"
        },
        "id": "ct6XjGvN68an",
        "outputId": "52177f5e-029f-48ce-b99e-743474fd597c"
      },
      "execution_count": 80,
      "outputs": [
        {
          "output_type": "stream",
          "name": "stdout",
          "text": [
            "[0, 0, 0, 0, 0]\n"
          ]
        },
        {
          "output_type": "execute_result",
          "data": {
            "text/plain": [
              "[5, 13, 34, 88, 100]"
            ]
          },
          "metadata": {},
          "execution_count": 80
        }
      ]
    },
    {
      "cell_type": "code",
      "source": [
        "a[5]"
      ],
      "metadata": {
        "colab": {
          "base_uri": "https://localhost:8080/",
          "height": 174
        },
        "id": "lf0aLQiY7mEv",
        "outputId": "656e5642-d90f-413d-8b0f-aae0cf5a31ef"
      },
      "execution_count": 82,
      "outputs": [
        {
          "output_type": "error",
          "ename": "IndexError",
          "evalue": "ignored",
          "traceback": [
            "\u001b[0;31m---------------------------------------------------------------------------\u001b[0m",
            "\u001b[0;31mIndexError\u001b[0m                                Traceback (most recent call last)",
            "\u001b[0;32m<ipython-input-82-4a84d856522b>\u001b[0m in \u001b[0;36m<module>\u001b[0;34m\u001b[0m\n\u001b[0;32m----> 1\u001b[0;31m \u001b[0ma\u001b[0m\u001b[0;34m[\u001b[0m\u001b[0;36m5\u001b[0m\u001b[0;34m]\u001b[0m\u001b[0;34m\u001b[0m\u001b[0;34m\u001b[0m\u001b[0m\n\u001b[0m",
            "\u001b[0;31mIndexError\u001b[0m: list index out of range"
          ]
        }
      ]
    },
    {
      "cell_type": "markdown",
      "source": [
        "## del 시퀀스 객체를 지정 -> 인덱스 제거 "
      ],
      "metadata": {
        "id": "pEEtDkZm_YLi"
      }
    },
    {
      "cell_type": "code",
      "source": [
        "print(a)\n",
        "del a[2]\n",
        "a"
      ],
      "metadata": {
        "colab": {
          "base_uri": "https://localhost:8080/"
        },
        "id": "kHnxGrLj70ZK",
        "outputId": "beaae031-58de-49ce-f07e-31b43cb79a47"
      },
      "execution_count": 87,
      "outputs": [
        {
          "output_type": "stream",
          "name": "stdout",
          "text": [
            "[5, 13, 34, 100]\n"
          ]
        }
      ]
    },
    {
      "cell_type": "code",
      "source": [
        "a"
      ],
      "metadata": {
        "colab": {
          "base_uri": "https://localhost:8080/"
        },
        "id": "KM-L1qcg72M0",
        "outputId": "380821b6-b4e0-48b0-e3f4-f2a678362e3e"
      },
      "execution_count": 89,
      "outputs": [
        {
          "output_type": "execute_result",
          "data": {
            "text/plain": [
              "[5, 13, 100]"
            ]
          },
          "metadata": {},
          "execution_count": 89
        }
      ]
    },
    {
      "cell_type": "code",
      "source": [
        "# 문자열, 튜플, 레인지 -> 읽기 전용\n",
        "s = \"book\"\n",
        "S[2]"
      ],
      "metadata": {
        "colab": {
          "base_uri": "https://localhost:8080/",
          "height": 211
        },
        "id": "i7mVJdr-_dxy",
        "outputId": "51e4dc19-a901-451b-b15a-b02f365ce01f"
      },
      "execution_count": 91,
      "outputs": [
        {
          "output_type": "error",
          "ename": "NameError",
          "evalue": "ignored",
          "traceback": [
            "\u001b[0;31m---------------------------------------------------------------------------\u001b[0m",
            "\u001b[0;31mNameError\u001b[0m                                 Traceback (most recent call last)",
            "\u001b[0;32m<ipython-input-91-e385664c937d>\u001b[0m in \u001b[0;36m<module>\u001b[0;34m\u001b[0m\n\u001b[1;32m      1\u001b[0m \u001b[0;31m# 문자열, 튜플, 레인지 -> 읽기 전용\u001b[0m\u001b[0;34m\u001b[0m\u001b[0;34m\u001b[0m\u001b[0;34m\u001b[0m\u001b[0m\n\u001b[1;32m      2\u001b[0m \u001b[0ms\u001b[0m \u001b[0;34m=\u001b[0m \u001b[0;34m\"book\"\u001b[0m\u001b[0;34m\u001b[0m\u001b[0;34m\u001b[0m\u001b[0m\n\u001b[0;32m----> 3\u001b[0;31m \u001b[0mS\u001b[0m\u001b[0;34m[\u001b[0m\u001b[0;36m2\u001b[0m\u001b[0;34m]\u001b[0m\u001b[0;34m\u001b[0m\u001b[0;34m\u001b[0m\u001b[0m\n\u001b[0m",
            "\u001b[0;31mNameError\u001b[0m: name 'S' is not defined"
          ]
        }
      ]
    },
    {
      "cell_type": "code",
      "source": [],
      "metadata": {
        "id": "bCtn2IBV_nHw"
      },
      "execution_count": null,
      "outputs": []
    },
    {
      "cell_type": "markdown",
      "source": [
        "## 슬라이스"
      ],
      "metadata": {
        "id": "CT7R0pYU_n8h"
      }
    },
    {
      "cell_type": "code",
      "source": [
        "# 시퀀스객체[시작인덱스:끝인덱스]\n",
        "# 시퀀스객체[시작:], 시퀀스객체[:끝]\n",
        "# 시퀀스객체[시작:끝:증가폭]\n",
        "# 시퀀스객체[::증가폭]\n",
        "a = list(range(0, 100, 10))\n",
        "a"
      ],
      "metadata": {
        "colab": {
          "base_uri": "https://localhost:8080/"
        },
        "id": "ArH5j4AF_qT9",
        "outputId": "52845ba1-e0b2-46c2-d150-87a50d76e96b"
      },
      "execution_count": 92,
      "outputs": [
        {
          "output_type": "execute_result",
          "data": {
            "text/plain": [
              "[0, 10, 20, 30, 40, 50, 60, 70, 80, 90]"
            ]
          },
          "metadata": {},
          "execution_count": 92
        }
      ]
    },
    {
      "cell_type": "code",
      "source": [
        "# 슬라이스는 원본에 영향 미치지 않고 사본 만드는 방법\n",
        "a[0:4], len(a), a[0:10], a[0:100]"
      ],
      "metadata": {
        "colab": {
          "base_uri": "https://localhost:8080/"
        },
        "id": "Rm91-8uvABEg",
        "outputId": "18d7e6ba-6d83-4e33-ab1e-f280d610733c"
      },
      "execution_count": 94,
      "outputs": [
        {
          "output_type": "execute_result",
          "data": {
            "text/plain": [
              "([0, 10, 20, 30],\n",
              " 10,\n",
              " [0, 10, 20, 30, 40, 50, 60, 70, 80, 90],\n",
              " [0, 10, 20, 30, 40, 50, 60, 70, 80, 90])"
            ]
          },
          "metadata": {},
          "execution_count": 94
        }
      ]
    },
    {
      "cell_type": "code",
      "source": [
        "a[1:1] # 빈 리스트"
      ],
      "metadata": {
        "colab": {
          "base_uri": "https://localhost:8080/"
        },
        "id": "5KZnMu_cASJH",
        "outputId": "ed03e940-36c7-4f5e-cfd3-d5b42eaf6ce5"
      },
      "execution_count": 96,
      "outputs": [
        {
          "output_type": "execute_result",
          "data": {
            "text/plain": [
              "[]"
            ]
          },
          "metadata": {},
          "execution_count": 96
        }
      ]
    },
    {
      "cell_type": "code",
      "source": [
        "a[3:5]"
      ],
      "metadata": {
        "colab": {
          "base_uri": "https://localhost:8080/"
        },
        "id": "9l-J-A5JAa1F",
        "outputId": "ec30e9ee-7743-4cad-ba1f-f82e9987881e"
      },
      "execution_count": 98,
      "outputs": [
        {
          "output_type": "execute_result",
          "data": {
            "text/plain": [
              "[30, 40]"
            ]
          },
          "metadata": {},
          "execution_count": 98
        }
      ]
    },
    {
      "cell_type": "code",
      "source": [
        "a[3:-1], a[3:len(a)-1]"
      ],
      "metadata": {
        "colab": {
          "base_uri": "https://localhost:8080/"
        },
        "id": "keFMK1StAdH-",
        "outputId": "4c564016-5a55-4eb7-efa5-1a5f65e95e15"
      },
      "execution_count": 101,
      "outputs": [
        {
          "output_type": "execute_result",
          "data": {
            "text/plain": [
              "([30, 40, 50, 60, 70, 80], [30, 40, 50, 60, 70, 80])"
            ]
          },
          "metadata": {},
          "execution_count": 101
        }
      ]
    },
    {
      "cell_type": "code",
      "source": [
        "list(range(1, 5, 2)), a[1:5:2], a[slice(1, 5, 2)]"
      ],
      "metadata": {
        "colab": {
          "base_uri": "https://localhost:8080/"
        },
        "id": "9frqTv1rAuNN",
        "outputId": "a0f6256e-9bbf-458d-dcd0-f52a43817df5"
      },
      "execution_count": 105,
      "outputs": [
        {
          "output_type": "execute_result",
          "data": {
            "text/plain": [
              "([1, 3], [10, 30], [10, 30])"
            ]
          },
          "metadata": {},
          "execution_count": 105
        }
      ]
    },
    {
      "cell_type": "code",
      "source": [
        "a[:], a, a[0:len(a)]"
      ],
      "metadata": {
        "colab": {
          "base_uri": "https://localhost:8080/"
        },
        "id": "h6ICFHVPA1kf",
        "outputId": "51359c09-593b-45c4-9be9-dc3854f33990"
      },
      "execution_count": 109,
      "outputs": [
        {
          "output_type": "execute_result",
          "data": {
            "text/plain": [
              "([0, 10, 20, 30, 40, 50, 60, 70, 80, 90],\n",
              " [0, 10, 20, 30, 40, 50, 60, 70, 80, 90],\n",
              " [0, 10, 20, 30, 40, 50, 60, 70, 80, 90])"
            ]
          },
          "metadata": {},
          "execution_count": 109
        }
      ]
    },
    {
      "cell_type": "code",
      "source": [
        "a[1:], a[1:len(a)]"
      ],
      "metadata": {
        "colab": {
          "base_uri": "https://localhost:8080/"
        },
        "id": "5RlFixYQBG1x",
        "outputId": "441db9cc-2bb3-4f6f-8bf0-7d157fbf4b90"
      },
      "execution_count": 111,
      "outputs": [
        {
          "output_type": "execute_result",
          "data": {
            "text/plain": [
              "([10, 20, 30, 40, 50, 60, 70, 80, 90], [10, 20, 30, 40, 50, 60, 70, 80, 90])"
            ]
          },
          "metadata": {},
          "execution_count": 111
        }
      ]
    },
    {
      "cell_type": "code",
      "source": [
        "a[:5], a[0:5], a[0:5:1]"
      ],
      "metadata": {
        "colab": {
          "base_uri": "https://localhost:8080/"
        },
        "id": "_VKOYqFfBVlZ",
        "outputId": "796afb34-6594-4946-d776-24a569ce9ef1"
      },
      "execution_count": 113,
      "outputs": [
        {
          "output_type": "execute_result",
          "data": {
            "text/plain": [
              "([0, 10, 20, 30, 40], [0, 10, 20, 30, 40], [0, 10, 20, 30, 40])"
            ]
          },
          "metadata": {},
          "execution_count": 113
        }
      ]
    },
    {
      "cell_type": "code",
      "source": [
        "a[::2], a[0:len(a):2]"
      ],
      "metadata": {
        "colab": {
          "base_uri": "https://localhost:8080/"
        },
        "id": "qxNGAMwXBff-",
        "outputId": "97510541-cf27-4646-bcbf-51ee6e0abdf9"
      },
      "execution_count": 115,
      "outputs": [
        {
          "output_type": "execute_result",
          "data": {
            "text/plain": [
              "([0, 20, 40, 60, 80], [0, 20, 40, 60, 80])"
            ]
          },
          "metadata": {},
          "execution_count": 115
        }
      ]
    },
    {
      "cell_type": "code",
      "source": [
        "a[::-1], a[len(a)::-1], a[0:len(a):-1]"
      ],
      "metadata": {
        "colab": {
          "base_uri": "https://localhost:8080/"
        },
        "id": "iYSM4Oe5BsQH",
        "outputId": "c9613d6e-54dc-4af5-ea80-44c693c89d1a"
      },
      "execution_count": 120,
      "outputs": [
        {
          "output_type": "execute_result",
          "data": {
            "text/plain": [
              "([90, 80, 70, 60, 50, 40, 30, 20, 10, 0],\n",
              " [90, 80, 70, 60, 50, 40, 30, 20, 10, 0],\n",
              " [])"
            ]
          },
          "metadata": {},
          "execution_count": 120
        }
      ]
    },
    {
      "cell_type": "code",
      "source": [
        "a[20:0:-1], a[20::-1]"
      ],
      "metadata": {
        "colab": {
          "base_uri": "https://localhost:8080/"
        },
        "id": "t-YL_wKrCCV2",
        "outputId": "36274cb5-63c7-4ab5-d598-7040d775b865"
      },
      "execution_count": 122,
      "outputs": [
        {
          "output_type": "execute_result",
          "data": {
            "text/plain": [
              "([90, 80, 70, 60, 50, 40, 30, 20, 10], [90, 80, 70, 60, 50, 40, 30, 20, 10, 0])"
            ]
          },
          "metadata": {},
          "execution_count": 122
        }
      ]
    },
    {
      "cell_type": "code",
      "source": [
        "s = \"hello world\"\n",
        "s[::-1], s[::2], s[1:3]"
      ],
      "metadata": {
        "colab": {
          "base_uri": "https://localhost:8080/"
        },
        "id": "Hla_Sck6CJv6",
        "outputId": "38a18e9a-0829-4338-e8ca-91a20455b49c"
      },
      "execution_count": 125,
      "outputs": [
        {
          "output_type": "execute_result",
          "data": {
            "text/plain": [
              "('dlrow olleh', 'hlowrd', 'el')"
            ]
          },
          "metadata": {},
          "execution_count": 125
        }
      ]
    },
    {
      "cell_type": "code",
      "source": [
        "# 할당하기 -> 특정한 슬라이스 범위에 새로운 값들을 끼워넣기\n",
        "# 리스트 only, 갯수사 일치할 필요 \n",
        "a = list(range(1,6))\n",
        "print(a[1:3])\n",
        "a[1:3] = list(range(6, 10))\n",
        "a"
      ],
      "metadata": {
        "colab": {
          "base_uri": "https://localhost:8080/"
        },
        "id": "yBsmxsBVCa5P",
        "outputId": "13d275a2-ebe3-48b3-b748-7a902027f94b"
      },
      "execution_count": 127,
      "outputs": [
        {
          "output_type": "stream",
          "name": "stdout",
          "text": [
            "[2, 3]\n"
          ]
        },
        {
          "output_type": "execute_result",
          "data": {
            "text/plain": [
              "[1, 6, 7, 8, 9, 4, 5]"
            ]
          },
          "metadata": {},
          "execution_count": 127
        }
      ]
    },
    {
      "cell_type": "code",
      "source": [
        "b = list(range(20))\n",
        "b"
      ],
      "metadata": {
        "colab": {
          "base_uri": "https://localhost:8080/"
        },
        "id": "beXCM95HC2y9",
        "outputId": "cbce166e-3d7c-49c8-c2da-c7f9cc3c4cfb"
      },
      "execution_count": 128,
      "outputs": [
        {
          "output_type": "execute_result",
          "data": {
            "text/plain": [
              "[0, 1, 2, 3, 4, 5, 6, 7, 8, 9, 10, 11, 12, 13, 14, 15, 16, 17, 18, 19]"
            ]
          },
          "metadata": {},
          "execution_count": 128
        }
      ]
    },
    {
      "cell_type": "code",
      "source": [
        "b[1:10:2]"
      ],
      "metadata": {
        "colab": {
          "base_uri": "https://localhost:8080/"
        },
        "id": "MV6nFjhoC_sK",
        "outputId": "a4a3bd97-6abe-44f0-a964-031494ede26b"
      },
      "execution_count": 131,
      "outputs": [
        {
          "output_type": "execute_result",
          "data": {
            "text/plain": [
              "[1, 3, 5, 7, 9]"
            ]
          },
          "metadata": {},
          "execution_count": 131
        }
      ]
    },
    {
      "cell_type": "code",
      "source": [
        "b[1:10:2] = [0] * 5\n",
        "b"
      ],
      "metadata": {
        "colab": {
          "base_uri": "https://localhost:8080/"
        },
        "id": "vAVeLA3ZDDgI",
        "outputId": "b41af29a-7eb9-46a0-edac-fe28ac63ff99"
      },
      "execution_count": 132,
      "outputs": [
        {
          "output_type": "execute_result",
          "data": {
            "text/plain": [
              "[0, 0, 2, 0, 4, 0, 6, 0, 8, 0, 10, 11, 12, 13, 14, 15, 16, 17, 18, 19]"
            ]
          },
          "metadata": {},
          "execution_count": 132
        }
      ]
    },
    {
      "cell_type": "code",
      "source": [
        "b[1:10:2] = [0]"
      ],
      "metadata": {
        "colab": {
          "base_uri": "https://localhost:8080/",
          "height": 174
        },
        "id": "mrmqfFtSDHw0",
        "outputId": "83ecbd8e-f798-4be3-c940-31ca0e6b42d0"
      },
      "execution_count": 133,
      "outputs": [
        {
          "output_type": "error",
          "ename": "ValueError",
          "evalue": "ignored",
          "traceback": [
            "\u001b[0;31m---------------------------------------------------------------------------\u001b[0m",
            "\u001b[0;31mValueError\u001b[0m                                Traceback (most recent call last)",
            "\u001b[0;32m<ipython-input-133-823a97fa7ea7>\u001b[0m in \u001b[0;36m<module>\u001b[0;34m\u001b[0m\n\u001b[0;32m----> 1\u001b[0;31m \u001b[0mb\u001b[0m\u001b[0;34m[\u001b[0m\u001b[0;36m1\u001b[0m\u001b[0;34m:\u001b[0m\u001b[0;36m10\u001b[0m\u001b[0;34m:\u001b[0m\u001b[0;36m2\u001b[0m\u001b[0;34m]\u001b[0m \u001b[0;34m=\u001b[0m \u001b[0;34m[\u001b[0m\u001b[0;36m0\u001b[0m\u001b[0;34m]\u001b[0m\u001b[0;34m\u001b[0m\u001b[0;34m\u001b[0m\u001b[0m\n\u001b[0m",
            "\u001b[0;31mValueError\u001b[0m: attempt to assign sequence of size 1 to extended slice of size 5"
          ]
        }
      ]
    },
    {
      "cell_type": "code",
      "source": [
        "print(a)"
      ],
      "metadata": {
        "colab": {
          "base_uri": "https://localhost:8080/"
        },
        "id": "094KmUeGDLPw",
        "outputId": "d8a63853-baa0-4aee-82c4-7140a8b6f858"
      },
      "execution_count": 134,
      "outputs": [
        {
          "output_type": "stream",
          "name": "stdout",
          "text": [
            "[1, 6, 7, 8, 9, 4, 5]\n"
          ]
        }
      ]
    },
    {
      "cell_type": "code",
      "source": [
        "del a[2:5]\n",
        "a"
      ],
      "metadata": {
        "colab": {
          "base_uri": "https://localhost:8080/"
        },
        "id": "Kbqi9noxDbmK",
        "outputId": "3aef04d5-7d05-44fa-d4ca-23dd714c29d1"
      },
      "execution_count": 135,
      "outputs": [
        {
          "output_type": "execute_result",
          "data": {
            "text/plain": [
              "[1, 6, 4, 5]"
            ]
          },
          "metadata": {},
          "execution_count": 135
        }
      ]
    },
    {
      "cell_type": "markdown",
      "source": [
        "## 딕셔너리"
      ],
      "metadata": {
        "id": "ltu_iFZhDlo8"
      }
    },
    {
      "cell_type": "code",
      "source": [
        "d = {\n",
        "    \"key\" : \"value\"\n",
        "    \n",
        "}\n",
        "d"
      ],
      "metadata": {
        "colab": {
          "base_uri": "https://localhost:8080/"
        },
        "id": "Z5-AwxztDdxF",
        "outputId": "2f3ff007-28c9-4273-bb76-bccb443a0acb"
      },
      "execution_count": 138,
      "outputs": [
        {
          "output_type": "execute_result",
          "data": {
            "text/plain": [
              "{'key': 'value'}"
            ]
          },
          "metadata": {},
          "execution_count": 138
        }
      ]
    },
    {
      "cell_type": "code",
      "source": [
        "yong = {\n",
        "    \"말\":\"많음\",\n",
        "    \"체력\":\"딸림\",\n",
        "    \"타고오는지하철\":1,\n",
        "    \"잔소리여부\":True,\n",
        "    \"좋아하는언어\":[\"파이썬\", \"자바\", \"자바스크립트\"]\n",
        "}"
      ],
      "metadata": {
        "id": "jlNxd1YlEJUg"
      },
      "execution_count": 140,
      "outputs": []
    },
    {
      "cell_type": "code",
      "source": [
        "# k, v 1 대 1 반응\n",
        "kim = {\n",
        "    \"height\":170,\n",
        "    \"weight\":80, \n",
        "    \"height\":180,\n",
        "    \"weight\":85,\n",
        "} # 중괄호로 묶어야한다. key:value 로 값들이 표현현\n",
        "kim"
      ],
      "metadata": {
        "colab": {
          "base_uri": "https://localhost:8080/"
        },
        "id": "sJNJp-AoEd6f",
        "outputId": "5c588aa2-b1f8-4df3-ce6a-d2976c58ca99"
      },
      "execution_count": 141,
      "outputs": [
        {
          "output_type": "execute_result",
          "data": {
            "text/plain": [
              "{'height': 180, 'weight': 85}"
            ]
          },
          "metadata": {},
          "execution_count": 141
        }
      ]
    },
    {
      "cell_type": "code",
      "source": [
        "# 시퀀스형 중에 리스트와, 딕셔너리 자체만 키값으로 쓸 수 없음\n",
        "{\n",
        "    [] : 0\n",
        "}"
      ],
      "metadata": {
        "colab": {
          "base_uri": "https://localhost:8080/",
          "height": 229
        },
        "id": "ljPUjJj1E-f8",
        "outputId": "25a9e46f-f71a-4ec7-a355-9d16540efa05"
      },
      "execution_count": 143,
      "outputs": [
        {
          "output_type": "error",
          "ename": "TypeError",
          "evalue": "ignored",
          "traceback": [
            "\u001b[0;31m---------------------------------------------------------------------------\u001b[0m",
            "\u001b[0;31mTypeError\u001b[0m                                 Traceback (most recent call last)",
            "\u001b[0;32m<ipython-input-143-0d655037542f>\u001b[0m in \u001b[0;36m<module>\u001b[0;34m\u001b[0m\n\u001b[1;32m      1\u001b[0m \u001b[0;31m# 시퀀스형 중에 리스트와, 딕셔너리 자체만 키값으로 쓸 수 없음\u001b[0m\u001b[0;34m\u001b[0m\u001b[0;34m\u001b[0m\u001b[0;34m\u001b[0m\u001b[0m\n\u001b[0;32m----> 2\u001b[0;31m {\n\u001b[0m\u001b[1;32m      3\u001b[0m     \u001b[0;34m[\u001b[0m\u001b[0;34m]\u001b[0m \u001b[0;34m:\u001b[0m \u001b[0;36m0\u001b[0m\u001b[0;34m\u001b[0m\u001b[0;34m\u001b[0m\u001b[0m\n\u001b[1;32m      4\u001b[0m }\n",
            "\u001b[0;31mTypeError\u001b[0m: unhashable type: 'list'"
          ]
        }
      ]
    },
    {
      "cell_type": "code",
      "source": [
        "{\n",
        "    {} : 0\n",
        "}"
      ],
      "metadata": {
        "colab": {
          "base_uri": "https://localhost:8080/",
          "height": 211
        },
        "id": "tgr56N8iFTI8",
        "outputId": "688d2a6e-a176-43d6-cdc3-b0209202dc7e"
      },
      "execution_count": 144,
      "outputs": [
        {
          "output_type": "error",
          "ename": "TypeError",
          "evalue": "ignored",
          "traceback": [
            "\u001b[0;31m---------------------------------------------------------------------------\u001b[0m",
            "\u001b[0;31mTypeError\u001b[0m                                 Traceback (most recent call last)",
            "\u001b[0;32m<ipython-input-144-0219089b7396>\u001b[0m in \u001b[0;36m<module>\u001b[0;34m\u001b[0m\n\u001b[0;32m----> 1\u001b[0;31m {\n\u001b[0m\u001b[1;32m      2\u001b[0m     \u001b[0;34m{\u001b[0m\u001b[0;34m}\u001b[0m \u001b[0;34m:\u001b[0m \u001b[0;36m0\u001b[0m\u001b[0;34m\u001b[0m\u001b[0;34m\u001b[0m\u001b[0m\n\u001b[1;32m      3\u001b[0m }\n",
            "\u001b[0;31mTypeError\u001b[0m: unhashable type: 'dict'"
          ]
        }
      ]
    },
    {
      "cell_type": "code",
      "source": [
        "{\n",
        "    1:{\n",
        "        2:{\n",
        "            3:{\n",
        "                4:{\n",
        "                    5:{\n",
        "                        \n",
        "                    }\n",
        "                }\n",
        "            }\n",
        "        }\n",
        "    }\n",
        "}"
      ],
      "metadata": {
        "colab": {
          "base_uri": "https://localhost:8080/"
        },
        "id": "g4zeSFECFWKq",
        "outputId": "7b154aa8-9d90-405d-aa97-26d4568a27b9"
      },
      "execution_count": 145,
      "outputs": [
        {
          "output_type": "execute_result",
          "data": {
            "text/plain": [
              "{1: {2: {3: {4: {5: {}}}}}}"
            ]
          },
          "metadata": {},
          "execution_count": 145
        }
      ]
    },
    {
      "cell_type": "code",
      "source": [
        "kim['height']"
      ],
      "metadata": {
        "colab": {
          "base_uri": "https://localhost:8080/"
        },
        "id": "hPQim6cnFkZG",
        "outputId": "869ed275-ae8a-4e6f-ec6e-c3c56468dfa3"
      },
      "execution_count": 146,
      "outputs": [
        {
          "output_type": "execute_result",
          "data": {
            "text/plain": [
              "180"
            ]
          },
          "metadata": {},
          "execution_count": 146
        }
      ]
    },
    {
      "cell_type": "code",
      "source": [
        "kim['salary'] = 3000"
      ],
      "metadata": {
        "id": "_rKxg_odFnMN"
      },
      "execution_count": 147,
      "outputs": []
    },
    {
      "cell_type": "code",
      "source": [
        "kim"
      ],
      "metadata": {
        "colab": {
          "base_uri": "https://localhost:8080/"
        },
        "id": "rUYKJX6dFyXc",
        "outputId": "1f170e81-9402-47fc-dacb-189ed1c4b1bc"
      },
      "execution_count": 148,
      "outputs": [
        {
          "output_type": "execute_result",
          "data": {
            "text/plain": [
              "{'height': 180, 'weight': 85, 'salary': 3000}"
            ]
          },
          "metadata": {},
          "execution_count": 148
        }
      ]
    },
    {
      "cell_type": "code",
      "source": [
        "kim['salary'] = 4000"
      ],
      "metadata": {
        "id": "WOabDTkvFzUC"
      },
      "execution_count": 149,
      "outputs": []
    },
    {
      "cell_type": "code",
      "source": [
        "kim"
      ],
      "metadata": {
        "colab": {
          "base_uri": "https://localhost:8080/"
        },
        "id": "Ybmo1QoeF2gT",
        "outputId": "49e7762b-0aac-4db6-be14-fdfd07f868a2"
      },
      "execution_count": 150,
      "outputs": [
        {
          "output_type": "execute_result",
          "data": {
            "text/plain": [
              "{'height': 180, 'weight': 85, 'salary': 4000}"
            ]
          },
          "metadata": {},
          "execution_count": 150
        }
      ]
    },
    {
      "cell_type": "code",
      "source": [
        "kim['IQ'] # keyError"
      ],
      "metadata": {
        "colab": {
          "base_uri": "https://localhost:8080/",
          "height": 174
        },
        "id": "re9-4qH_F3NS",
        "outputId": "14cf32ea-12f0-4d71-83c6-0f3eb615556e"
      },
      "execution_count": 152,
      "outputs": [
        {
          "output_type": "error",
          "ename": "KeyError",
          "evalue": "ignored",
          "traceback": [
            "\u001b[0;31m---------------------------------------------------------------------------\u001b[0m",
            "\u001b[0;31mKeyError\u001b[0m                                  Traceback (most recent call last)",
            "\u001b[0;32m<ipython-input-152-e4c8397a3af6>\u001b[0m in \u001b[0;36m<module>\u001b[0;34m\u001b[0m\n\u001b[0;32m----> 1\u001b[0;31m \u001b[0mkim\u001b[0m\u001b[0;34m[\u001b[0m\u001b[0;34m'IQ'\u001b[0m\u001b[0;34m]\u001b[0m \u001b[0;31m# keyError\u001b[0m\u001b[0;34m\u001b[0m\u001b[0;34m\u001b[0m\u001b[0m\n\u001b[0m",
            "\u001b[0;31mKeyError\u001b[0m: 'IQ'"
          ]
        }
      ]
    },
    {
      "cell_type": "code",
      "source": [
        "'IQ' in kim # 시퀀스 객체 (in) - 요소소 / 딕셔너리 - 키 (in) / for in - 반복"
      ],
      "metadata": {
        "colab": {
          "base_uri": "https://localhost:8080/"
        },
        "id": "y_iseaFXF9g2",
        "outputId": "923f5721-e5ef-4756-d6fd-65d158d68cc7"
      },
      "execution_count": 155,
      "outputs": [
        {
          "output_type": "execute_result",
          "data": {
            "text/plain": [
              "False"
            ]
          },
          "metadata": {},
          "execution_count": 155
        }
      ]
    },
    {
      "cell_type": "code",
      "source": [
        "'IQ' not in kim"
      ],
      "metadata": {
        "colab": {
          "base_uri": "https://localhost:8080/"
        },
        "id": "BvdtaCXvGSS2",
        "outputId": "d557d3fd-d8b6-49e2-c8b9-d18cc5d5fa82"
      },
      "execution_count": 156,
      "outputs": [
        {
          "output_type": "execute_result",
          "data": {
            "text/plain": [
              "True"
            ]
          },
          "metadata": {},
          "execution_count": 156
        }
      ]
    },
    {
      "cell_type": "code",
      "source": [
        "len(kim)# key의 갯수"
      ],
      "metadata": {
        "colab": {
          "base_uri": "https://localhost:8080/"
        },
        "id": "i260Ia84GX3Z",
        "outputId": "508a2906-b77b-4a53-d8b4-b6817b466305"
      },
      "execution_count": 158,
      "outputs": [
        {
          "output_type": "execute_result",
          "data": {
            "text/plain": [
              "3"
            ]
          },
          "metadata": {},
          "execution_count": 158
        }
      ]
    },
    {
      "cell_type": "code",
      "source": [
        "list(kim) # dict -> list 감싸주면 -> key를 원소로 가지는 리스트"
      ],
      "metadata": {
        "colab": {
          "base_uri": "https://localhost:8080/"
        },
        "id": "Kk6hY-kSGZh3",
        "outputId": "19531bf7-9b63-49b2-86e6-f22d5a4e24a7"
      },
      "execution_count": 159,
      "outputs": [
        {
          "output_type": "execute_result",
          "data": {
            "text/plain": [
              "['height', 'weight', 'salary']"
            ]
          },
          "metadata": {},
          "execution_count": 159
        }
      ]
    },
    {
      "cell_type": "markdown",
      "source": [
        "## 조건문"
      ],
      "metadata": {
        "id": "Nvh0BbcbHgdh"
      }
    },
    {
      "cell_type": "markdown",
      "source": [
        "## if"
      ],
      "metadata": {
        "id": "AK3GwJtCHkLR"
      }
    },
    {
      "cell_type": "code",
      "source": [
        "switch = True\n",
        "if switch: # if(...) 조건식 - > 최종적으로 bool 형태로 표현될 수 있는 값\n",
        "    print(\"아 밝다~\") # if 본문(조건실행식)"
      ],
      "metadata": {
        "colab": {
          "base_uri": "https://localhost:8080/"
        },
        "id": "sVxvsxjsGoy6",
        "outputId": "c7da2bab-971e-43f7-aaf1-38b346242dee"
      },
      "execution_count": 161,
      "outputs": [
        {
          "output_type": "stream",
          "name": "stdout",
          "text": [
            "아 밝다~\n"
          ]
        }
      ]
    },
    {
      "cell_type": "code",
      "source": [
        "temp  = 40\n",
        "if temp > 38:\n",
        "    print(\"아 덥다\")"
      ],
      "metadata": {
        "colab": {
          "base_uri": "https://localhost:8080/"
        },
        "id": "1QVY6Os4H8SZ",
        "outputId": "74cd8c1f-a97c-48a9-dda4-bb02aa7398d1"
      },
      "execution_count": 163,
      "outputs": [
        {
          "output_type": "stream",
          "name": "stdout",
          "text": [
            "아 덥다\n"
          ]
        }
      ]
    },
    {
      "cell_type": "code",
      "source": [
        "temp  = 30\n",
        "if temp > 38:\n",
        "    print(\"아 덥다\")\n",
        "print(\"물 마시고싶어 # 1\")\n"
      ],
      "metadata": {
        "id": "JCfFp-eSIT_F"
      },
      "execution_count": null,
      "outputs": []
    },
    {
      "cell_type": "markdown",
      "source": [
        "## else"
      ],
      "metadata": {
        "id": "lQsVLSbLINeN"
      }
    },
    {
      "cell_type": "code",
      "source": [
        "temp = 30\n",
        "if temp > 38:\n",
        "    print(\"아 덥다\")\n",
        "else: # temp <= 38:\n",
        "    print(\"괜찮아\") "
      ],
      "metadata": {
        "colab": {
          "base_uri": "https://localhost:8080/"
        },
        "id": "dY399HjuIIDv",
        "outputId": "738c0844-3035-455c-8e67-1aa1ebb1f6a4"
      },
      "execution_count": 165,
      "outputs": [
        {
          "output_type": "stream",
          "name": "stdout",
          "text": [
            "괜찮아\n"
          ]
        }
      ]
    },
    {
      "cell_type": "markdown",
      "source": [
        "## pass"
      ],
      "metadata": {
        "id": "Q0qp4Q-QI2ts"
      }
    },
    {
      "cell_type": "code",
      "source": [
        "temp = 30\n",
        "if temp > 38:\n",
        "    print(\"아 덥다\")\n",
        "else: # temp <= 38:\n",
        "    pass # block 유지 때문에"
      ],
      "metadata": {
        "id": "0c-GP5gZI5Xq"
      },
      "execution_count": 166,
      "outputs": []
    },
    {
      "cell_type": "code",
      "source": [
        "pass"
      ],
      "metadata": {
        "id": "hReqiWucJL-0"
      },
      "execution_count": 167,
      "outputs": []
    },
    {
      "cell_type": "code",
      "source": [
        "if True:\n",
        "    ''\n",
        "else:\n",
        "    print(\"hello\")"
      ],
      "metadata": {
        "id": "STZ0qx8ZJNaX"
      },
      "execution_count": 168,
      "outputs": []
    },
    {
      "cell_type": "code",
      "source": [
        "name = \"김땡땡\"\n",
        "\n",
        "if name == \"김땡땡\" : \n",
        "    print(\"웰컴\")"
      ],
      "metadata": {
        "colab": {
          "base_uri": "https://localhost:8080/"
        },
        "id": "ok5zSQ37JUoP",
        "outputId": "e272696e-8e51-4a28-aafd-9ce9a145d638"
      },
      "execution_count": 169,
      "outputs": [
        {
          "output_type": "stream",
          "name": "stdout",
          "text": [
            "웰컴\n"
          ]
        }
      ]
    },
    {
      "cell_type": "code",
      "source": [
        "if name = \"김땡땡\" : \n",
        "    print(\"웰컴\")"
      ],
      "metadata": {
        "colab": {
          "base_uri": "https://localhost:8080/",
          "height": 137
        },
        "id": "GBY_f_LEJl_b",
        "outputId": "0e841593-622d-4b6f-c2a8-68cbaaf1e0a2"
      },
      "execution_count": 172,
      "outputs": [
        {
          "output_type": "error",
          "ename": "SyntaxError",
          "evalue": "ignored",
          "traceback": [
            "\u001b[0;36m  File \u001b[0;32m\"<ipython-input-172-e1e4dcc9aa08>\"\u001b[0;36m, line \u001b[0;32m1\u001b[0m\n\u001b[0;31m    if name = \"김땡땡\" :\u001b[0m\n\u001b[0m            ^\u001b[0m\n\u001b[0;31mSyntaxError\u001b[0m\u001b[0;31m:\u001b[0m invalid syntax\n"
          ]
        }
      ]
    },
    {
      "cell_type": "code",
      "source": [
        "if \"김\" in name : \n",
        "    print(\"웰컴\")"
      ],
      "metadata": {
        "colab": {
          "base_uri": "https://localhost:8080/"
        },
        "id": "7T9JThkkJtM3",
        "outputId": "7311b2fe-67f5-4038-d730-f801e35b3ce6"
      },
      "execution_count": 171,
      "outputs": [
        {
          "output_type": "stream",
          "name": "stdout",
          "text": [
            "웰컴\n"
          ]
        }
      ]
    },
    {
      "cell_type": "markdown",
      "source": [
        "삼항연산자 (조건부 표현식)"
      ],
      "metadata": {
        "id": "DnJY702gJ_UU"
      }
    },
    {
      "cell_type": "code",
      "source": [
        "a = None\n",
        "b = True\n",
        "if b:\n",
        "    a = 10\n",
        "else:\n",
        "    a = 100\n",
        "a"
      ],
      "metadata": {
        "colab": {
          "base_uri": "https://localhost:8080/"
        },
        "id": "UYymApJYKDA4",
        "outputId": "09be3019-d6d5-4609-af12-e3f687702499"
      },
      "execution_count": 173,
      "outputs": [
        {
          "output_type": "execute_result",
          "data": {
            "text/plain": [
              "10"
            ]
          },
          "metadata": {},
          "execution_count": 173
        }
      ]
    },
    {
      "cell_type": "code",
      "source": [
        "a = 10 if b else 100 # (True 값) if (조건식) else (False 값)\n",
        "a"
      ],
      "metadata": {
        "colab": {
          "base_uri": "https://localhost:8080/"
        },
        "id": "YztB8rOFKMY8",
        "outputId": "a874c99b-10fa-4270-962f-be9d825a7c4f"
      },
      "execution_count": 175,
      "outputs": [
        {
          "output_type": "execute_result",
          "data": {
            "text/plain": [
              "10"
            ]
          },
          "metadata": {},
          "execution_count": 175
        }
      ]
    },
    {
      "cell_type": "code",
      "source": [
        "a = \"환타\"\n",
        "\n",
        "if a == \"콜라\":\n",
        "    print(\"콜라 드세요\")\n",
        "    \n",
        "elif a == \"사이다\":\n",
        "    print(\"사이다 드세요\")\n",
        "    \n",
        "elif a == \"환타\":\n",
        "    print(\"환타 드세요\")"
      ],
      "metadata": {
        "colab": {
          "base_uri": "https://localhost:8080/"
        },
        "id": "FfcK6Qa9KcQT",
        "outputId": "23b99bba-4761-4ebb-d2a7-42be1cba7a47"
      },
      "execution_count": 176,
      "outputs": [
        {
          "output_type": "stream",
          "name": "stdout",
          "text": [
            "환타 드세요\n"
          ]
        }
      ]
    },
    {
      "cell_type": "markdown",
      "source": [
        "## 반복문\n"
      ],
      "metadata": {
        "id": "p_zNedFeOG1i"
      }
    },
    {
      "cell_type": "markdown",
      "source": [
        "### for"
      ],
      "metadata": {
        "id": "HZ-vQ8yJOK_V"
      }
    },
    {
      "cell_type": "code",
      "source": [
        "for i in range(10):\n",
        "    print(i, end =\" \")"
      ],
      "metadata": {
        "colab": {
          "base_uri": "https://localhost:8080/"
        },
        "id": "dLRuJtmVLCUi",
        "outputId": "1967561f-160f-4179-948c-01d5472b0bf0"
      },
      "execution_count": 178,
      "outputs": [
        {
          "output_type": "stream",
          "name": "stdout",
          "text": [
            "0 1 2 3 4 5 6 7 8 9 "
          ]
        }
      ]
    },
    {
      "cell_type": "code",
      "source": [
        "i = 100\n",
        "for i in \"range(10)\":\n",
        "    pass\n",
        "print(i)"
      ],
      "metadata": {
        "colab": {
          "base_uri": "https://localhost:8080/"
        },
        "id": "IZ2knqDIOcLU",
        "outputId": "8422e936-b0e8-423d-9693-4b30bf02bfd7"
      },
      "execution_count": 182,
      "outputs": [
        {
          "output_type": "stream",
          "name": "stdout",
          "text": [
            "9\n"
          ]
        }
      ]
    },
    {
      "cell_type": "code",
      "source": [
        "# range(n) : n회 반복\n",
        "for i in \"hello world\": # range가 아닌 시퀀스형태의 자료형 -> list -> v, string -> c\n",
        "    print(i, end = '') # 루프를 돈다"
      ],
      "metadata": {
        "colab": {
          "base_uri": "https://localhost:8080/"
        },
        "id": "bZL5sA-ZO9XO",
        "outputId": "95a11c8b-a88b-441b-a5eb-248882fc9f49"
      },
      "execution_count": 186,
      "outputs": [
        {
          "output_type": "stream",
          "name": "stdout",
          "text": [
            "hello world"
          ]
        }
      ]
    },
    {
      "cell_type": "code",
      "source": [
        "a = [\"배\", \"사과\", \"바나나\"]\n",
        "for i in a:\n",
        "    print(i)"
      ],
      "metadata": {
        "colab": {
          "base_uri": "https://localhost:8080/"
        },
        "id": "Sf2sgZDnPFkS",
        "outputId": "86b7a2b8-0669-4409-f3bb-e07cc7251d08"
      },
      "execution_count": 187,
      "outputs": [
        {
          "output_type": "stream",
          "name": "stdout",
          "text": [
            "배\n",
            "사과\n",
            "바나나\n"
          ]
        }
      ]
    },
    {
      "cell_type": "code",
      "source": [
        "for i in reversed(a): # reverse + ed : 새롭게 형성된 데이터\n",
        "    print(i)"
      ],
      "metadata": {
        "colab": {
          "base_uri": "https://localhost:8080/"
        },
        "id": "ocwa33VyP0ox",
        "outputId": "7820d7bd-c1e1-4cea-f490-9daa1ab64948"
      },
      "execution_count": 188,
      "outputs": [
        {
          "output_type": "stream",
          "name": "stdout",
          "text": [
            "바나나\n",
            "사과\n",
            "배\n"
          ]
        }
      ]
    },
    {
      "cell_type": "code",
      "source": [
        "a, list(reversed(a)), a[::-1]"
      ],
      "metadata": {
        "colab": {
          "base_uri": "https://localhost:8080/"
        },
        "id": "zt-Tl99tP72P",
        "outputId": "ad846e54-1a05-4fd4-d604-8ad212758ac1"
      },
      "execution_count": 192,
      "outputs": [
        {
          "output_type": "execute_result",
          "data": {
            "text/plain": [
              "(['배', '사과', '바나나'], ['바나나', '사과', '배'], ['바나나', '사과', '배'])"
            ]
          },
          "metadata": {},
          "execution_count": 192
        }
      ]
    },
    {
      "cell_type": "markdown",
      "source": [
        "## while"
      ],
      "metadata": {
        "id": "rlyLSwhUQUH2"
      }
    },
    {
      "cell_type": "code",
      "source": [
        "for i in range(10):\n",
        "    print(i, end = \" \")"
      ],
      "metadata": {
        "colab": {
          "base_uri": "https://localhost:8080/"
        },
        "id": "h3Pa-h9bQYH6",
        "outputId": "20156528-fc04-49e8-bdf4-eea103061ae3"
      },
      "execution_count": 196,
      "outputs": [
        {
          "output_type": "stream",
          "name": "stdout",
          "text": [
            "0 1 2 3 4 5 6 7 8 9 "
          ]
        }
      ]
    },
    {
      "cell_type": "code",
      "source": [
        "'''\n",
        "for(i = 0; i < 10; i ++) {\n",
        "    ...\n",
        "}\n",
        "'''"
      ],
      "metadata": {
        "colab": {
          "base_uri": "https://localhost:8080/",
          "height": 35
        },
        "id": "MopKdpM-Q1Y-",
        "outputId": "adeaba33-496f-4b6a-fc01-6f64a5fed072"
      },
      "execution_count": 197,
      "outputs": [
        {
          "output_type": "execute_result",
          "data": {
            "text/plain": [
              "'\\nfor(i = 0; i < 10; i ++) {\\n    ...\\n}\\n'"
            ],
            "application/vnd.google.colaboratory.intrinsic+json": {
              "type": "string"
            }
          },
          "metadata": {},
          "execution_count": 197
        }
      ]
    },
    {
      "cell_type": "code",
      "source": [
        "i = 0 # 초기식\n",
        "while i < 10: # while 조건식\n",
        "    print(i, end = \"\") # ...\n",
        "    i += 1 # 변화식"
      ],
      "metadata": {
        "colab": {
          "base_uri": "https://localhost:8080/"
        },
        "id": "8ilF9iQJQkHq",
        "outputId": "f70f98eb-7e57-489c-ee05-b5607cf7d504"
      },
      "execution_count": 198,
      "outputs": [
        {
          "output_type": "stream",
          "name": "stdout",
          "text": [
            "0123456789"
          ]
        }
      ]
    },
    {
      "cell_type": "code",
      "source": [
        "money = 1000\n",
        "hit = 0\n",
        "while money > 0:\n",
        "    money -= 100\n",
        "    hit += 1\n",
        "    print(money, \"원 남았습니다.\", hit, \"대 맞았습니다.\")\n"
      ],
      "metadata": {
        "colab": {
          "base_uri": "https://localhost:8080/"
        },
        "id": "iOFHzocRRO6_",
        "outputId": "c2ad893a-f01e-463f-a7c5-6a1a430658e3"
      },
      "execution_count": 202,
      "outputs": [
        {
          "output_type": "stream",
          "name": "stdout",
          "text": [
            "900 원 남았습니다. 1 대 맞았습니다.\n",
            "800 원 남았습니다. 2 대 맞았습니다.\n",
            "700 원 남았습니다. 3 대 맞았습니다.\n",
            "600 원 남았습니다. 4 대 맞았습니다.\n",
            "500 원 남았습니다. 5 대 맞았습니다.\n",
            "400 원 남았습니다. 6 대 맞았습니다.\n",
            "300 원 남았습니다. 7 대 맞았습니다.\n",
            "200 원 남았습니다. 8 대 맞았습니다.\n",
            "100 원 남았습니다. 9 대 맞았습니다.\n",
            "0 원 남았습니다. 10 대 맞았습니다.\n"
          ]
        }
      ]
    },
    {
      "cell_type": "markdown",
      "source": [
        "## break continue"
      ],
      "metadata": {
        "id": "E2FQxXpsTRSs"
      }
    },
    {
      "cell_type": "code",
      "source": [
        "for i in range(1000):\n",
        "    print(i, i ** 2)\n",
        "    if i ** 2 > 1000:\n",
        "        break"
      ],
      "metadata": {
        "colab": {
          "base_uri": "https://localhost:8080/"
        },
        "id": "7vc3pzBiR_er",
        "outputId": "86810e9a-a2c1-4ed5-c145-2d275cd050c3"
      },
      "execution_count": 204,
      "outputs": [
        {
          "output_type": "stream",
          "name": "stdout",
          "text": [
            "0 0\n",
            "1 1\n",
            "2 4\n",
            "3 9\n",
            "4 16\n",
            "5 25\n",
            "6 36\n",
            "7 49\n",
            "8 64\n",
            "9 81\n",
            "10 100\n",
            "11 121\n",
            "12 144\n",
            "13 169\n",
            "14 196\n",
            "15 225\n",
            "16 256\n",
            "17 289\n",
            "18 324\n",
            "19 361\n",
            "20 400\n",
            "21 441\n",
            "22 484\n",
            "23 529\n",
            "24 576\n",
            "25 625\n",
            "26 676\n",
            "27 729\n",
            "28 784\n",
            "29 841\n",
            "30 900\n",
            "31 961\n",
            "32 1024\n"
          ]
        }
      ]
    },
    {
      "cell_type": "code",
      "source": [
        "for i in range(1, 1000):\n",
        "    if i % 2 == 0:\n",
        "        continue\n",
        "    print(i, end=' ')"
      ],
      "metadata": {
        "colab": {
          "base_uri": "https://localhost:8080/"
        },
        "id": "uSKqTgrlSfBe",
        "outputId": "4a6f8737-3144-4397-bc46-b40399d70dcb"
      },
      "execution_count": 210,
      "outputs": [
        {
          "output_type": "stream",
          "name": "stdout",
          "text": [
            "1 3 5 7 9 11 13 15 17 19 21 23 25 27 29 31 33 35 37 39 41 43 45 47 49 51 53 55 57 59 61 63 65 67 69 71 73 75 77 79 81 83 85 87 89 91 93 95 97 99 101 103 105 107 109 111 113 115 117 119 121 123 125 127 129 131 133 135 137 139 141 143 145 147 149 151 153 155 157 159 161 163 165 167 169 171 173 175 177 179 181 183 185 187 189 191 193 195 197 199 201 203 205 207 209 211 213 215 217 219 221 223 225 227 229 231 233 235 237 239 241 243 245 247 249 251 253 255 257 259 261 263 265 267 269 271 273 275 277 279 281 283 285 287 289 291 293 295 297 299 301 303 305 307 309 311 313 315 317 319 321 323 325 327 329 331 333 335 337 339 341 343 345 347 349 351 353 355 357 359 361 363 365 367 369 371 373 375 377 379 381 383 385 387 389 391 393 395 397 399 401 403 405 407 409 411 413 415 417 419 421 423 425 427 429 431 433 435 437 439 441 443 445 447 449 451 453 455 457 459 461 463 465 467 469 471 473 475 477 479 481 483 485 487 489 491 493 495 497 499 501 503 505 507 509 511 513 515 517 519 521 523 525 527 529 531 533 535 537 539 541 543 545 547 549 551 553 555 557 559 561 563 565 567 569 571 573 575 577 579 581 583 585 587 589 591 593 595 597 599 601 603 605 607 609 611 613 615 617 619 621 623 625 627 629 631 633 635 637 639 641 643 645 647 649 651 653 655 657 659 661 663 665 667 669 671 673 675 677 679 681 683 685 687 689 691 693 695 697 699 701 703 705 707 709 711 713 715 717 719 721 723 725 727 729 731 733 735 737 739 741 743 745 747 749 751 753 755 757 759 761 763 765 767 769 771 773 775 777 779 781 783 785 787 789 791 793 795 797 799 801 803 805 807 809 811 813 815 817 819 821 823 825 827 829 831 833 835 837 839 841 843 845 847 849 851 853 855 857 859 861 863 865 867 869 871 873 875 877 879 881 883 885 887 889 891 893 895 897 899 901 903 905 907 909 911 913 915 917 919 921 923 925 927 929 931 933 935 937 939 941 943 945 947 949 951 953 955 957 959 961 963 965 967 969 971 973 975 977 979 981 983 985 987 989 991 993 995 997 999 "
          ]
        }
      ]
    },
    {
      "cell_type": "code",
      "source": [
        "i = 0 \n",
        "while True:\n",
        "    print(i, end=' ')\n",
        "    i += 1\n",
        "    if i > 11 :\n",
        "        break"
      ],
      "metadata": {
        "colab": {
          "base_uri": "https://localhost:8080/"
        },
        "id": "lBBQjXN7TAef",
        "outputId": "c50dc6fc-4d5e-43d0-dda4-92f5fefe20c8"
      },
      "execution_count": 213,
      "outputs": [
        {
          "output_type": "stream",
          "name": "stdout",
          "text": [
            "01234567891011"
          ]
        }
      ]
    },
    {
      "cell_type": "code",
      "source": [
        "money = 100000\n",
        "hit = 0\n",
        "while money > 0:\n",
        "    money -= 100\n",
        "    print(money, \"원 남았습니다\")\n",
        "    if money % 1000 == 0:\n",
        "        print(\"피했습니다\")\n",
        "        continue\n",
        "    hit += 1\n",
        "    print(hit, \"대 맞았습니다\")"
      ],
      "metadata": {
        "colab": {
          "base_uri": "https://localhost:8080/"
        },
        "id": "K-Mf2ScVTdv2",
        "outputId": "8f6f8b2a-6f6e-4f6b-91f3-263ec36119d8"
      },
      "execution_count": 214,
      "outputs": [
        {
          "output_type": "stream",
          "name": "stdout",
          "text": [
            "99900 원 남았습니다\n",
            "1 대 맞았습니다\n",
            "99800 원 남았습니다\n",
            "2 대 맞았습니다\n",
            "99700 원 남았습니다\n",
            "3 대 맞았습니다\n",
            "99600 원 남았습니다\n",
            "4 대 맞았습니다\n",
            "99500 원 남았습니다\n",
            "5 대 맞았습니다\n",
            "99400 원 남았습니다\n",
            "6 대 맞았습니다\n",
            "99300 원 남았습니다\n",
            "7 대 맞았습니다\n",
            "99200 원 남았습니다\n",
            "8 대 맞았습니다\n",
            "99100 원 남았습니다\n",
            "9 대 맞았습니다\n",
            "99000 원 남았습니다\n",
            "피했습니다\n",
            "98900 원 남았습니다\n",
            "10 대 맞았습니다\n",
            "98800 원 남았습니다\n",
            "11 대 맞았습니다\n",
            "98700 원 남았습니다\n",
            "12 대 맞았습니다\n",
            "98600 원 남았습니다\n",
            "13 대 맞았습니다\n",
            "98500 원 남았습니다\n",
            "14 대 맞았습니다\n",
            "98400 원 남았습니다\n",
            "15 대 맞았습니다\n",
            "98300 원 남았습니다\n",
            "16 대 맞았습니다\n",
            "98200 원 남았습니다\n",
            "17 대 맞았습니다\n",
            "98100 원 남았습니다\n",
            "18 대 맞았습니다\n",
            "98000 원 남았습니다\n",
            "피했습니다\n",
            "97900 원 남았습니다\n",
            "19 대 맞았습니다\n",
            "97800 원 남았습니다\n",
            "20 대 맞았습니다\n",
            "97700 원 남았습니다\n",
            "21 대 맞았습니다\n",
            "97600 원 남았습니다\n",
            "22 대 맞았습니다\n",
            "97500 원 남았습니다\n",
            "23 대 맞았습니다\n",
            "97400 원 남았습니다\n",
            "24 대 맞았습니다\n",
            "97300 원 남았습니다\n",
            "25 대 맞았습니다\n",
            "97200 원 남았습니다\n",
            "26 대 맞았습니다\n",
            "97100 원 남았습니다\n",
            "27 대 맞았습니다\n",
            "97000 원 남았습니다\n",
            "피했습니다\n",
            "96900 원 남았습니다\n",
            "28 대 맞았습니다\n",
            "96800 원 남았습니다\n",
            "29 대 맞았습니다\n",
            "96700 원 남았습니다\n",
            "30 대 맞았습니다\n",
            "96600 원 남았습니다\n",
            "31 대 맞았습니다\n",
            "96500 원 남았습니다\n",
            "32 대 맞았습니다\n",
            "96400 원 남았습니다\n",
            "33 대 맞았습니다\n",
            "96300 원 남았습니다\n",
            "34 대 맞았습니다\n",
            "96200 원 남았습니다\n",
            "35 대 맞았습니다\n",
            "96100 원 남았습니다\n",
            "36 대 맞았습니다\n",
            "96000 원 남았습니다\n",
            "피했습니다\n",
            "95900 원 남았습니다\n",
            "37 대 맞았습니다\n",
            "95800 원 남았습니다\n",
            "38 대 맞았습니다\n",
            "95700 원 남았습니다\n",
            "39 대 맞았습니다\n",
            "95600 원 남았습니다\n",
            "40 대 맞았습니다\n",
            "95500 원 남았습니다\n",
            "41 대 맞았습니다\n",
            "95400 원 남았습니다\n",
            "42 대 맞았습니다\n",
            "95300 원 남았습니다\n",
            "43 대 맞았습니다\n",
            "95200 원 남았습니다\n",
            "44 대 맞았습니다\n",
            "95100 원 남았습니다\n",
            "45 대 맞았습니다\n",
            "95000 원 남았습니다\n",
            "피했습니다\n",
            "94900 원 남았습니다\n",
            "46 대 맞았습니다\n",
            "94800 원 남았습니다\n",
            "47 대 맞았습니다\n",
            "94700 원 남았습니다\n",
            "48 대 맞았습니다\n",
            "94600 원 남았습니다\n",
            "49 대 맞았습니다\n",
            "94500 원 남았습니다\n",
            "50 대 맞았습니다\n",
            "94400 원 남았습니다\n",
            "51 대 맞았습니다\n",
            "94300 원 남았습니다\n",
            "52 대 맞았습니다\n",
            "94200 원 남았습니다\n",
            "53 대 맞았습니다\n",
            "94100 원 남았습니다\n",
            "54 대 맞았습니다\n",
            "94000 원 남았습니다\n",
            "피했습니다\n",
            "93900 원 남았습니다\n",
            "55 대 맞았습니다\n",
            "93800 원 남았습니다\n",
            "56 대 맞았습니다\n",
            "93700 원 남았습니다\n",
            "57 대 맞았습니다\n",
            "93600 원 남았습니다\n",
            "58 대 맞았습니다\n",
            "93500 원 남았습니다\n",
            "59 대 맞았습니다\n",
            "93400 원 남았습니다\n",
            "60 대 맞았습니다\n",
            "93300 원 남았습니다\n",
            "61 대 맞았습니다\n",
            "93200 원 남았습니다\n",
            "62 대 맞았습니다\n",
            "93100 원 남았습니다\n",
            "63 대 맞았습니다\n",
            "93000 원 남았습니다\n",
            "피했습니다\n",
            "92900 원 남았습니다\n",
            "64 대 맞았습니다\n",
            "92800 원 남았습니다\n",
            "65 대 맞았습니다\n",
            "92700 원 남았습니다\n",
            "66 대 맞았습니다\n",
            "92600 원 남았습니다\n",
            "67 대 맞았습니다\n",
            "92500 원 남았습니다\n",
            "68 대 맞았습니다\n",
            "92400 원 남았습니다\n",
            "69 대 맞았습니다\n",
            "92300 원 남았습니다\n",
            "70 대 맞았습니다\n",
            "92200 원 남았습니다\n",
            "71 대 맞았습니다\n",
            "92100 원 남았습니다\n",
            "72 대 맞았습니다\n",
            "92000 원 남았습니다\n",
            "피했습니다\n",
            "91900 원 남았습니다\n",
            "73 대 맞았습니다\n",
            "91800 원 남았습니다\n",
            "74 대 맞았습니다\n",
            "91700 원 남았습니다\n",
            "75 대 맞았습니다\n",
            "91600 원 남았습니다\n",
            "76 대 맞았습니다\n",
            "91500 원 남았습니다\n",
            "77 대 맞았습니다\n",
            "91400 원 남았습니다\n",
            "78 대 맞았습니다\n",
            "91300 원 남았습니다\n",
            "79 대 맞았습니다\n",
            "91200 원 남았습니다\n",
            "80 대 맞았습니다\n",
            "91100 원 남았습니다\n",
            "81 대 맞았습니다\n",
            "91000 원 남았습니다\n",
            "피했습니다\n",
            "90900 원 남았습니다\n",
            "82 대 맞았습니다\n",
            "90800 원 남았습니다\n",
            "83 대 맞았습니다\n",
            "90700 원 남았습니다\n",
            "84 대 맞았습니다\n",
            "90600 원 남았습니다\n",
            "85 대 맞았습니다\n",
            "90500 원 남았습니다\n",
            "86 대 맞았습니다\n",
            "90400 원 남았습니다\n",
            "87 대 맞았습니다\n",
            "90300 원 남았습니다\n",
            "88 대 맞았습니다\n",
            "90200 원 남았습니다\n",
            "89 대 맞았습니다\n",
            "90100 원 남았습니다\n",
            "90 대 맞았습니다\n",
            "90000 원 남았습니다\n",
            "피했습니다\n",
            "89900 원 남았습니다\n",
            "91 대 맞았습니다\n",
            "89800 원 남았습니다\n",
            "92 대 맞았습니다\n",
            "89700 원 남았습니다\n",
            "93 대 맞았습니다\n",
            "89600 원 남았습니다\n",
            "94 대 맞았습니다\n",
            "89500 원 남았습니다\n",
            "95 대 맞았습니다\n",
            "89400 원 남았습니다\n",
            "96 대 맞았습니다\n",
            "89300 원 남았습니다\n",
            "97 대 맞았습니다\n",
            "89200 원 남았습니다\n",
            "98 대 맞았습니다\n",
            "89100 원 남았습니다\n",
            "99 대 맞았습니다\n",
            "89000 원 남았습니다\n",
            "피했습니다\n",
            "88900 원 남았습니다\n",
            "100 대 맞았습니다\n",
            "88800 원 남았습니다\n",
            "101 대 맞았습니다\n",
            "88700 원 남았습니다\n",
            "102 대 맞았습니다\n",
            "88600 원 남았습니다\n",
            "103 대 맞았습니다\n",
            "88500 원 남았습니다\n",
            "104 대 맞았습니다\n",
            "88400 원 남았습니다\n",
            "105 대 맞았습니다\n",
            "88300 원 남았습니다\n",
            "106 대 맞았습니다\n",
            "88200 원 남았습니다\n",
            "107 대 맞았습니다\n",
            "88100 원 남았습니다\n",
            "108 대 맞았습니다\n",
            "88000 원 남았습니다\n",
            "피했습니다\n",
            "87900 원 남았습니다\n",
            "109 대 맞았습니다\n",
            "87800 원 남았습니다\n",
            "110 대 맞았습니다\n",
            "87700 원 남았습니다\n",
            "111 대 맞았습니다\n",
            "87600 원 남았습니다\n",
            "112 대 맞았습니다\n",
            "87500 원 남았습니다\n",
            "113 대 맞았습니다\n",
            "87400 원 남았습니다\n",
            "114 대 맞았습니다\n",
            "87300 원 남았습니다\n",
            "115 대 맞았습니다\n",
            "87200 원 남았습니다\n",
            "116 대 맞았습니다\n",
            "87100 원 남았습니다\n",
            "117 대 맞았습니다\n",
            "87000 원 남았습니다\n",
            "피했습니다\n",
            "86900 원 남았습니다\n",
            "118 대 맞았습니다\n",
            "86800 원 남았습니다\n",
            "119 대 맞았습니다\n",
            "86700 원 남았습니다\n",
            "120 대 맞았습니다\n",
            "86600 원 남았습니다\n",
            "121 대 맞았습니다\n",
            "86500 원 남았습니다\n",
            "122 대 맞았습니다\n",
            "86400 원 남았습니다\n",
            "123 대 맞았습니다\n",
            "86300 원 남았습니다\n",
            "124 대 맞았습니다\n",
            "86200 원 남았습니다\n",
            "125 대 맞았습니다\n",
            "86100 원 남았습니다\n",
            "126 대 맞았습니다\n",
            "86000 원 남았습니다\n",
            "피했습니다\n",
            "85900 원 남았습니다\n",
            "127 대 맞았습니다\n",
            "85800 원 남았습니다\n",
            "128 대 맞았습니다\n",
            "85700 원 남았습니다\n",
            "129 대 맞았습니다\n",
            "85600 원 남았습니다\n",
            "130 대 맞았습니다\n",
            "85500 원 남았습니다\n",
            "131 대 맞았습니다\n",
            "85400 원 남았습니다\n",
            "132 대 맞았습니다\n",
            "85300 원 남았습니다\n",
            "133 대 맞았습니다\n",
            "85200 원 남았습니다\n",
            "134 대 맞았습니다\n",
            "85100 원 남았습니다\n",
            "135 대 맞았습니다\n",
            "85000 원 남았습니다\n",
            "피했습니다\n",
            "84900 원 남았습니다\n",
            "136 대 맞았습니다\n",
            "84800 원 남았습니다\n",
            "137 대 맞았습니다\n",
            "84700 원 남았습니다\n",
            "138 대 맞았습니다\n",
            "84600 원 남았습니다\n",
            "139 대 맞았습니다\n",
            "84500 원 남았습니다\n",
            "140 대 맞았습니다\n",
            "84400 원 남았습니다\n",
            "141 대 맞았습니다\n",
            "84300 원 남았습니다\n",
            "142 대 맞았습니다\n",
            "84200 원 남았습니다\n",
            "143 대 맞았습니다\n",
            "84100 원 남았습니다\n",
            "144 대 맞았습니다\n",
            "84000 원 남았습니다\n",
            "피했습니다\n",
            "83900 원 남았습니다\n",
            "145 대 맞았습니다\n",
            "83800 원 남았습니다\n",
            "146 대 맞았습니다\n",
            "83700 원 남았습니다\n",
            "147 대 맞았습니다\n",
            "83600 원 남았습니다\n",
            "148 대 맞았습니다\n",
            "83500 원 남았습니다\n",
            "149 대 맞았습니다\n",
            "83400 원 남았습니다\n",
            "150 대 맞았습니다\n",
            "83300 원 남았습니다\n",
            "151 대 맞았습니다\n",
            "83200 원 남았습니다\n",
            "152 대 맞았습니다\n",
            "83100 원 남았습니다\n",
            "153 대 맞았습니다\n",
            "83000 원 남았습니다\n",
            "피했습니다\n",
            "82900 원 남았습니다\n",
            "154 대 맞았습니다\n",
            "82800 원 남았습니다\n",
            "155 대 맞았습니다\n",
            "82700 원 남았습니다\n",
            "156 대 맞았습니다\n",
            "82600 원 남았습니다\n",
            "157 대 맞았습니다\n",
            "82500 원 남았습니다\n",
            "158 대 맞았습니다\n",
            "82400 원 남았습니다\n",
            "159 대 맞았습니다\n",
            "82300 원 남았습니다\n",
            "160 대 맞았습니다\n",
            "82200 원 남았습니다\n",
            "161 대 맞았습니다\n",
            "82100 원 남았습니다\n",
            "162 대 맞았습니다\n",
            "82000 원 남았습니다\n",
            "피했습니다\n",
            "81900 원 남았습니다\n",
            "163 대 맞았습니다\n",
            "81800 원 남았습니다\n",
            "164 대 맞았습니다\n",
            "81700 원 남았습니다\n",
            "165 대 맞았습니다\n",
            "81600 원 남았습니다\n",
            "166 대 맞았습니다\n",
            "81500 원 남았습니다\n",
            "167 대 맞았습니다\n",
            "81400 원 남았습니다\n",
            "168 대 맞았습니다\n",
            "81300 원 남았습니다\n",
            "169 대 맞았습니다\n",
            "81200 원 남았습니다\n",
            "170 대 맞았습니다\n",
            "81100 원 남았습니다\n",
            "171 대 맞았습니다\n",
            "81000 원 남았습니다\n",
            "피했습니다\n",
            "80900 원 남았습니다\n",
            "172 대 맞았습니다\n",
            "80800 원 남았습니다\n",
            "173 대 맞았습니다\n",
            "80700 원 남았습니다\n",
            "174 대 맞았습니다\n",
            "80600 원 남았습니다\n",
            "175 대 맞았습니다\n",
            "80500 원 남았습니다\n",
            "176 대 맞았습니다\n",
            "80400 원 남았습니다\n",
            "177 대 맞았습니다\n",
            "80300 원 남았습니다\n",
            "178 대 맞았습니다\n",
            "80200 원 남았습니다\n",
            "179 대 맞았습니다\n",
            "80100 원 남았습니다\n",
            "180 대 맞았습니다\n",
            "80000 원 남았습니다\n",
            "피했습니다\n",
            "79900 원 남았습니다\n",
            "181 대 맞았습니다\n",
            "79800 원 남았습니다\n",
            "182 대 맞았습니다\n",
            "79700 원 남았습니다\n",
            "183 대 맞았습니다\n",
            "79600 원 남았습니다\n",
            "184 대 맞았습니다\n",
            "79500 원 남았습니다\n",
            "185 대 맞았습니다\n",
            "79400 원 남았습니다\n",
            "186 대 맞았습니다\n",
            "79300 원 남았습니다\n",
            "187 대 맞았습니다\n",
            "79200 원 남았습니다\n",
            "188 대 맞았습니다\n",
            "79100 원 남았습니다\n",
            "189 대 맞았습니다\n",
            "79000 원 남았습니다\n",
            "피했습니다\n",
            "78900 원 남았습니다\n",
            "190 대 맞았습니다\n",
            "78800 원 남았습니다\n",
            "191 대 맞았습니다\n",
            "78700 원 남았습니다\n",
            "192 대 맞았습니다\n",
            "78600 원 남았습니다\n",
            "193 대 맞았습니다\n",
            "78500 원 남았습니다\n",
            "194 대 맞았습니다\n",
            "78400 원 남았습니다\n",
            "195 대 맞았습니다\n",
            "78300 원 남았습니다\n",
            "196 대 맞았습니다\n",
            "78200 원 남았습니다\n",
            "197 대 맞았습니다\n",
            "78100 원 남았습니다\n",
            "198 대 맞았습니다\n",
            "78000 원 남았습니다\n",
            "피했습니다\n",
            "77900 원 남았습니다\n",
            "199 대 맞았습니다\n",
            "77800 원 남았습니다\n",
            "200 대 맞았습니다\n",
            "77700 원 남았습니다\n",
            "201 대 맞았습니다\n",
            "77600 원 남았습니다\n",
            "202 대 맞았습니다\n",
            "77500 원 남았습니다\n",
            "203 대 맞았습니다\n",
            "77400 원 남았습니다\n",
            "204 대 맞았습니다\n",
            "77300 원 남았습니다\n",
            "205 대 맞았습니다\n",
            "77200 원 남았습니다\n",
            "206 대 맞았습니다\n",
            "77100 원 남았습니다\n",
            "207 대 맞았습니다\n",
            "77000 원 남았습니다\n",
            "피했습니다\n",
            "76900 원 남았습니다\n",
            "208 대 맞았습니다\n",
            "76800 원 남았습니다\n",
            "209 대 맞았습니다\n",
            "76700 원 남았습니다\n",
            "210 대 맞았습니다\n",
            "76600 원 남았습니다\n",
            "211 대 맞았습니다\n",
            "76500 원 남았습니다\n",
            "212 대 맞았습니다\n",
            "76400 원 남았습니다\n",
            "213 대 맞았습니다\n",
            "76300 원 남았습니다\n",
            "214 대 맞았습니다\n",
            "76200 원 남았습니다\n",
            "215 대 맞았습니다\n",
            "76100 원 남았습니다\n",
            "216 대 맞았습니다\n",
            "76000 원 남았습니다\n",
            "피했습니다\n",
            "75900 원 남았습니다\n",
            "217 대 맞았습니다\n",
            "75800 원 남았습니다\n",
            "218 대 맞았습니다\n",
            "75700 원 남았습니다\n",
            "219 대 맞았습니다\n",
            "75600 원 남았습니다\n",
            "220 대 맞았습니다\n",
            "75500 원 남았습니다\n",
            "221 대 맞았습니다\n",
            "75400 원 남았습니다\n",
            "222 대 맞았습니다\n",
            "75300 원 남았습니다\n",
            "223 대 맞았습니다\n",
            "75200 원 남았습니다\n",
            "224 대 맞았습니다\n",
            "75100 원 남았습니다\n",
            "225 대 맞았습니다\n",
            "75000 원 남았습니다\n",
            "피했습니다\n",
            "74900 원 남았습니다\n",
            "226 대 맞았습니다\n",
            "74800 원 남았습니다\n",
            "227 대 맞았습니다\n",
            "74700 원 남았습니다\n",
            "228 대 맞았습니다\n",
            "74600 원 남았습니다\n",
            "229 대 맞았습니다\n",
            "74500 원 남았습니다\n",
            "230 대 맞았습니다\n",
            "74400 원 남았습니다\n",
            "231 대 맞았습니다\n",
            "74300 원 남았습니다\n",
            "232 대 맞았습니다\n",
            "74200 원 남았습니다\n",
            "233 대 맞았습니다\n",
            "74100 원 남았습니다\n",
            "234 대 맞았습니다\n",
            "74000 원 남았습니다\n",
            "피했습니다\n",
            "73900 원 남았습니다\n",
            "235 대 맞았습니다\n",
            "73800 원 남았습니다\n",
            "236 대 맞았습니다\n",
            "73700 원 남았습니다\n",
            "237 대 맞았습니다\n",
            "73600 원 남았습니다\n",
            "238 대 맞았습니다\n",
            "73500 원 남았습니다\n",
            "239 대 맞았습니다\n",
            "73400 원 남았습니다\n",
            "240 대 맞았습니다\n",
            "73300 원 남았습니다\n",
            "241 대 맞았습니다\n",
            "73200 원 남았습니다\n",
            "242 대 맞았습니다\n",
            "73100 원 남았습니다\n",
            "243 대 맞았습니다\n",
            "73000 원 남았습니다\n",
            "피했습니다\n",
            "72900 원 남았습니다\n",
            "244 대 맞았습니다\n",
            "72800 원 남았습니다\n",
            "245 대 맞았습니다\n",
            "72700 원 남았습니다\n",
            "246 대 맞았습니다\n",
            "72600 원 남았습니다\n",
            "247 대 맞았습니다\n",
            "72500 원 남았습니다\n",
            "248 대 맞았습니다\n",
            "72400 원 남았습니다\n",
            "249 대 맞았습니다\n",
            "72300 원 남았습니다\n",
            "250 대 맞았습니다\n",
            "72200 원 남았습니다\n",
            "251 대 맞았습니다\n",
            "72100 원 남았습니다\n",
            "252 대 맞았습니다\n",
            "72000 원 남았습니다\n",
            "피했습니다\n",
            "71900 원 남았습니다\n",
            "253 대 맞았습니다\n",
            "71800 원 남았습니다\n",
            "254 대 맞았습니다\n",
            "71700 원 남았습니다\n",
            "255 대 맞았습니다\n",
            "71600 원 남았습니다\n",
            "256 대 맞았습니다\n",
            "71500 원 남았습니다\n",
            "257 대 맞았습니다\n",
            "71400 원 남았습니다\n",
            "258 대 맞았습니다\n",
            "71300 원 남았습니다\n",
            "259 대 맞았습니다\n",
            "71200 원 남았습니다\n",
            "260 대 맞았습니다\n",
            "71100 원 남았습니다\n",
            "261 대 맞았습니다\n",
            "71000 원 남았습니다\n",
            "피했습니다\n",
            "70900 원 남았습니다\n",
            "262 대 맞았습니다\n",
            "70800 원 남았습니다\n",
            "263 대 맞았습니다\n",
            "70700 원 남았습니다\n",
            "264 대 맞았습니다\n",
            "70600 원 남았습니다\n",
            "265 대 맞았습니다\n",
            "70500 원 남았습니다\n",
            "266 대 맞았습니다\n",
            "70400 원 남았습니다\n",
            "267 대 맞았습니다\n",
            "70300 원 남았습니다\n",
            "268 대 맞았습니다\n",
            "70200 원 남았습니다\n",
            "269 대 맞았습니다\n",
            "70100 원 남았습니다\n",
            "270 대 맞았습니다\n",
            "70000 원 남았습니다\n",
            "피했습니다\n",
            "69900 원 남았습니다\n",
            "271 대 맞았습니다\n",
            "69800 원 남았습니다\n",
            "272 대 맞았습니다\n",
            "69700 원 남았습니다\n",
            "273 대 맞았습니다\n",
            "69600 원 남았습니다\n",
            "274 대 맞았습니다\n",
            "69500 원 남았습니다\n",
            "275 대 맞았습니다\n",
            "69400 원 남았습니다\n",
            "276 대 맞았습니다\n",
            "69300 원 남았습니다\n",
            "277 대 맞았습니다\n",
            "69200 원 남았습니다\n",
            "278 대 맞았습니다\n",
            "69100 원 남았습니다\n",
            "279 대 맞았습니다\n",
            "69000 원 남았습니다\n",
            "피했습니다\n",
            "68900 원 남았습니다\n",
            "280 대 맞았습니다\n",
            "68800 원 남았습니다\n",
            "281 대 맞았습니다\n",
            "68700 원 남았습니다\n",
            "282 대 맞았습니다\n",
            "68600 원 남았습니다\n",
            "283 대 맞았습니다\n",
            "68500 원 남았습니다\n",
            "284 대 맞았습니다\n",
            "68400 원 남았습니다\n",
            "285 대 맞았습니다\n",
            "68300 원 남았습니다\n",
            "286 대 맞았습니다\n",
            "68200 원 남았습니다\n",
            "287 대 맞았습니다\n",
            "68100 원 남았습니다\n",
            "288 대 맞았습니다\n",
            "68000 원 남았습니다\n",
            "피했습니다\n",
            "67900 원 남았습니다\n",
            "289 대 맞았습니다\n",
            "67800 원 남았습니다\n",
            "290 대 맞았습니다\n",
            "67700 원 남았습니다\n",
            "291 대 맞았습니다\n",
            "67600 원 남았습니다\n",
            "292 대 맞았습니다\n",
            "67500 원 남았습니다\n",
            "293 대 맞았습니다\n",
            "67400 원 남았습니다\n",
            "294 대 맞았습니다\n",
            "67300 원 남았습니다\n",
            "295 대 맞았습니다\n",
            "67200 원 남았습니다\n",
            "296 대 맞았습니다\n",
            "67100 원 남았습니다\n",
            "297 대 맞았습니다\n",
            "67000 원 남았습니다\n",
            "피했습니다\n",
            "66900 원 남았습니다\n",
            "298 대 맞았습니다\n",
            "66800 원 남았습니다\n",
            "299 대 맞았습니다\n",
            "66700 원 남았습니다\n",
            "300 대 맞았습니다\n",
            "66600 원 남았습니다\n",
            "301 대 맞았습니다\n",
            "66500 원 남았습니다\n",
            "302 대 맞았습니다\n",
            "66400 원 남았습니다\n",
            "303 대 맞았습니다\n",
            "66300 원 남았습니다\n",
            "304 대 맞았습니다\n",
            "66200 원 남았습니다\n",
            "305 대 맞았습니다\n",
            "66100 원 남았습니다\n",
            "306 대 맞았습니다\n",
            "66000 원 남았습니다\n",
            "피했습니다\n",
            "65900 원 남았습니다\n",
            "307 대 맞았습니다\n",
            "65800 원 남았습니다\n",
            "308 대 맞았습니다\n",
            "65700 원 남았습니다\n",
            "309 대 맞았습니다\n",
            "65600 원 남았습니다\n",
            "310 대 맞았습니다\n",
            "65500 원 남았습니다\n",
            "311 대 맞았습니다\n",
            "65400 원 남았습니다\n",
            "312 대 맞았습니다\n",
            "65300 원 남았습니다\n",
            "313 대 맞았습니다\n",
            "65200 원 남았습니다\n",
            "314 대 맞았습니다\n",
            "65100 원 남았습니다\n",
            "315 대 맞았습니다\n",
            "65000 원 남았습니다\n",
            "피했습니다\n",
            "64900 원 남았습니다\n",
            "316 대 맞았습니다\n",
            "64800 원 남았습니다\n",
            "317 대 맞았습니다\n",
            "64700 원 남았습니다\n",
            "318 대 맞았습니다\n",
            "64600 원 남았습니다\n",
            "319 대 맞았습니다\n",
            "64500 원 남았습니다\n",
            "320 대 맞았습니다\n",
            "64400 원 남았습니다\n",
            "321 대 맞았습니다\n",
            "64300 원 남았습니다\n",
            "322 대 맞았습니다\n",
            "64200 원 남았습니다\n",
            "323 대 맞았습니다\n",
            "64100 원 남았습니다\n",
            "324 대 맞았습니다\n",
            "64000 원 남았습니다\n",
            "피했습니다\n",
            "63900 원 남았습니다\n",
            "325 대 맞았습니다\n",
            "63800 원 남았습니다\n",
            "326 대 맞았습니다\n",
            "63700 원 남았습니다\n",
            "327 대 맞았습니다\n",
            "63600 원 남았습니다\n",
            "328 대 맞았습니다\n",
            "63500 원 남았습니다\n",
            "329 대 맞았습니다\n",
            "63400 원 남았습니다\n",
            "330 대 맞았습니다\n",
            "63300 원 남았습니다\n",
            "331 대 맞았습니다\n",
            "63200 원 남았습니다\n",
            "332 대 맞았습니다\n",
            "63100 원 남았습니다\n",
            "333 대 맞았습니다\n",
            "63000 원 남았습니다\n",
            "피했습니다\n",
            "62900 원 남았습니다\n",
            "334 대 맞았습니다\n",
            "62800 원 남았습니다\n",
            "335 대 맞았습니다\n",
            "62700 원 남았습니다\n",
            "336 대 맞았습니다\n",
            "62600 원 남았습니다\n",
            "337 대 맞았습니다\n",
            "62500 원 남았습니다\n",
            "338 대 맞았습니다\n",
            "62400 원 남았습니다\n",
            "339 대 맞았습니다\n",
            "62300 원 남았습니다\n",
            "340 대 맞았습니다\n",
            "62200 원 남았습니다\n",
            "341 대 맞았습니다\n",
            "62100 원 남았습니다\n",
            "342 대 맞았습니다\n",
            "62000 원 남았습니다\n",
            "피했습니다\n",
            "61900 원 남았습니다\n",
            "343 대 맞았습니다\n",
            "61800 원 남았습니다\n",
            "344 대 맞았습니다\n",
            "61700 원 남았습니다\n",
            "345 대 맞았습니다\n",
            "61600 원 남았습니다\n",
            "346 대 맞았습니다\n",
            "61500 원 남았습니다\n",
            "347 대 맞았습니다\n",
            "61400 원 남았습니다\n",
            "348 대 맞았습니다\n",
            "61300 원 남았습니다\n",
            "349 대 맞았습니다\n",
            "61200 원 남았습니다\n",
            "350 대 맞았습니다\n",
            "61100 원 남았습니다\n",
            "351 대 맞았습니다\n",
            "61000 원 남았습니다\n",
            "피했습니다\n",
            "60900 원 남았습니다\n",
            "352 대 맞았습니다\n",
            "60800 원 남았습니다\n",
            "353 대 맞았습니다\n",
            "60700 원 남았습니다\n",
            "354 대 맞았습니다\n",
            "60600 원 남았습니다\n",
            "355 대 맞았습니다\n",
            "60500 원 남았습니다\n",
            "356 대 맞았습니다\n",
            "60400 원 남았습니다\n",
            "357 대 맞았습니다\n",
            "60300 원 남았습니다\n",
            "358 대 맞았습니다\n",
            "60200 원 남았습니다\n",
            "359 대 맞았습니다\n",
            "60100 원 남았습니다\n",
            "360 대 맞았습니다\n",
            "60000 원 남았습니다\n",
            "피했습니다\n",
            "59900 원 남았습니다\n",
            "361 대 맞았습니다\n",
            "59800 원 남았습니다\n",
            "362 대 맞았습니다\n",
            "59700 원 남았습니다\n",
            "363 대 맞았습니다\n",
            "59600 원 남았습니다\n",
            "364 대 맞았습니다\n",
            "59500 원 남았습니다\n",
            "365 대 맞았습니다\n",
            "59400 원 남았습니다\n",
            "366 대 맞았습니다\n",
            "59300 원 남았습니다\n",
            "367 대 맞았습니다\n",
            "59200 원 남았습니다\n",
            "368 대 맞았습니다\n",
            "59100 원 남았습니다\n",
            "369 대 맞았습니다\n",
            "59000 원 남았습니다\n",
            "피했습니다\n",
            "58900 원 남았습니다\n",
            "370 대 맞았습니다\n",
            "58800 원 남았습니다\n",
            "371 대 맞았습니다\n",
            "58700 원 남았습니다\n",
            "372 대 맞았습니다\n",
            "58600 원 남았습니다\n",
            "373 대 맞았습니다\n",
            "58500 원 남았습니다\n",
            "374 대 맞았습니다\n",
            "58400 원 남았습니다\n",
            "375 대 맞았습니다\n",
            "58300 원 남았습니다\n",
            "376 대 맞았습니다\n",
            "58200 원 남았습니다\n",
            "377 대 맞았습니다\n",
            "58100 원 남았습니다\n",
            "378 대 맞았습니다\n",
            "58000 원 남았습니다\n",
            "피했습니다\n",
            "57900 원 남았습니다\n",
            "379 대 맞았습니다\n",
            "57800 원 남았습니다\n",
            "380 대 맞았습니다\n",
            "57700 원 남았습니다\n",
            "381 대 맞았습니다\n",
            "57600 원 남았습니다\n",
            "382 대 맞았습니다\n",
            "57500 원 남았습니다\n",
            "383 대 맞았습니다\n",
            "57400 원 남았습니다\n",
            "384 대 맞았습니다\n",
            "57300 원 남았습니다\n",
            "385 대 맞았습니다\n",
            "57200 원 남았습니다\n",
            "386 대 맞았습니다\n",
            "57100 원 남았습니다\n",
            "387 대 맞았습니다\n",
            "57000 원 남았습니다\n",
            "피했습니다\n",
            "56900 원 남았습니다\n",
            "388 대 맞았습니다\n",
            "56800 원 남았습니다\n",
            "389 대 맞았습니다\n",
            "56700 원 남았습니다\n",
            "390 대 맞았습니다\n",
            "56600 원 남았습니다\n",
            "391 대 맞았습니다\n",
            "56500 원 남았습니다\n",
            "392 대 맞았습니다\n",
            "56400 원 남았습니다\n",
            "393 대 맞았습니다\n",
            "56300 원 남았습니다\n",
            "394 대 맞았습니다\n",
            "56200 원 남았습니다\n",
            "395 대 맞았습니다\n",
            "56100 원 남았습니다\n",
            "396 대 맞았습니다\n",
            "56000 원 남았습니다\n",
            "피했습니다\n",
            "55900 원 남았습니다\n",
            "397 대 맞았습니다\n",
            "55800 원 남았습니다\n",
            "398 대 맞았습니다\n",
            "55700 원 남았습니다\n",
            "399 대 맞았습니다\n",
            "55600 원 남았습니다\n",
            "400 대 맞았습니다\n",
            "55500 원 남았습니다\n",
            "401 대 맞았습니다\n",
            "55400 원 남았습니다\n",
            "402 대 맞았습니다\n",
            "55300 원 남았습니다\n",
            "403 대 맞았습니다\n",
            "55200 원 남았습니다\n",
            "404 대 맞았습니다\n",
            "55100 원 남았습니다\n",
            "405 대 맞았습니다\n",
            "55000 원 남았습니다\n",
            "피했습니다\n",
            "54900 원 남았습니다\n",
            "406 대 맞았습니다\n",
            "54800 원 남았습니다\n",
            "407 대 맞았습니다\n",
            "54700 원 남았습니다\n",
            "408 대 맞았습니다\n",
            "54600 원 남았습니다\n",
            "409 대 맞았습니다\n",
            "54500 원 남았습니다\n",
            "410 대 맞았습니다\n",
            "54400 원 남았습니다\n",
            "411 대 맞았습니다\n",
            "54300 원 남았습니다\n",
            "412 대 맞았습니다\n",
            "54200 원 남았습니다\n",
            "413 대 맞았습니다\n",
            "54100 원 남았습니다\n",
            "414 대 맞았습니다\n",
            "54000 원 남았습니다\n",
            "피했습니다\n",
            "53900 원 남았습니다\n",
            "415 대 맞았습니다\n",
            "53800 원 남았습니다\n",
            "416 대 맞았습니다\n",
            "53700 원 남았습니다\n",
            "417 대 맞았습니다\n",
            "53600 원 남았습니다\n",
            "418 대 맞았습니다\n",
            "53500 원 남았습니다\n",
            "419 대 맞았습니다\n",
            "53400 원 남았습니다\n",
            "420 대 맞았습니다\n",
            "53300 원 남았습니다\n",
            "421 대 맞았습니다\n",
            "53200 원 남았습니다\n",
            "422 대 맞았습니다\n",
            "53100 원 남았습니다\n",
            "423 대 맞았습니다\n",
            "53000 원 남았습니다\n",
            "피했습니다\n",
            "52900 원 남았습니다\n",
            "424 대 맞았습니다\n",
            "52800 원 남았습니다\n",
            "425 대 맞았습니다\n",
            "52700 원 남았습니다\n",
            "426 대 맞았습니다\n",
            "52600 원 남았습니다\n",
            "427 대 맞았습니다\n",
            "52500 원 남았습니다\n",
            "428 대 맞았습니다\n",
            "52400 원 남았습니다\n",
            "429 대 맞았습니다\n",
            "52300 원 남았습니다\n",
            "430 대 맞았습니다\n",
            "52200 원 남았습니다\n",
            "431 대 맞았습니다\n",
            "52100 원 남았습니다\n",
            "432 대 맞았습니다\n",
            "52000 원 남았습니다\n",
            "피했습니다\n",
            "51900 원 남았습니다\n",
            "433 대 맞았습니다\n",
            "51800 원 남았습니다\n",
            "434 대 맞았습니다\n",
            "51700 원 남았습니다\n",
            "435 대 맞았습니다\n",
            "51600 원 남았습니다\n",
            "436 대 맞았습니다\n",
            "51500 원 남았습니다\n",
            "437 대 맞았습니다\n",
            "51400 원 남았습니다\n",
            "438 대 맞았습니다\n",
            "51300 원 남았습니다\n",
            "439 대 맞았습니다\n",
            "51200 원 남았습니다\n",
            "440 대 맞았습니다\n",
            "51100 원 남았습니다\n",
            "441 대 맞았습니다\n",
            "51000 원 남았습니다\n",
            "피했습니다\n",
            "50900 원 남았습니다\n",
            "442 대 맞았습니다\n",
            "50800 원 남았습니다\n",
            "443 대 맞았습니다\n",
            "50700 원 남았습니다\n",
            "444 대 맞았습니다\n",
            "50600 원 남았습니다\n",
            "445 대 맞았습니다\n",
            "50500 원 남았습니다\n",
            "446 대 맞았습니다\n",
            "50400 원 남았습니다\n",
            "447 대 맞았습니다\n",
            "50300 원 남았습니다\n",
            "448 대 맞았습니다\n",
            "50200 원 남았습니다\n",
            "449 대 맞았습니다\n",
            "50100 원 남았습니다\n",
            "450 대 맞았습니다\n",
            "50000 원 남았습니다\n",
            "피했습니다\n",
            "49900 원 남았습니다\n",
            "451 대 맞았습니다\n",
            "49800 원 남았습니다\n",
            "452 대 맞았습니다\n",
            "49700 원 남았습니다\n",
            "453 대 맞았습니다\n",
            "49600 원 남았습니다\n",
            "454 대 맞았습니다\n",
            "49500 원 남았습니다\n",
            "455 대 맞았습니다\n",
            "49400 원 남았습니다\n",
            "456 대 맞았습니다\n",
            "49300 원 남았습니다\n",
            "457 대 맞았습니다\n",
            "49200 원 남았습니다\n",
            "458 대 맞았습니다\n",
            "49100 원 남았습니다\n",
            "459 대 맞았습니다\n",
            "49000 원 남았습니다\n",
            "피했습니다\n",
            "48900 원 남았습니다\n",
            "460 대 맞았습니다\n",
            "48800 원 남았습니다\n",
            "461 대 맞았습니다\n",
            "48700 원 남았습니다\n",
            "462 대 맞았습니다\n",
            "48600 원 남았습니다\n",
            "463 대 맞았습니다\n",
            "48500 원 남았습니다\n",
            "464 대 맞았습니다\n",
            "48400 원 남았습니다\n",
            "465 대 맞았습니다\n",
            "48300 원 남았습니다\n",
            "466 대 맞았습니다\n",
            "48200 원 남았습니다\n",
            "467 대 맞았습니다\n",
            "48100 원 남았습니다\n",
            "468 대 맞았습니다\n",
            "48000 원 남았습니다\n",
            "피했습니다\n",
            "47900 원 남았습니다\n",
            "469 대 맞았습니다\n",
            "47800 원 남았습니다\n",
            "470 대 맞았습니다\n",
            "47700 원 남았습니다\n",
            "471 대 맞았습니다\n",
            "47600 원 남았습니다\n",
            "472 대 맞았습니다\n",
            "47500 원 남았습니다\n",
            "473 대 맞았습니다\n",
            "47400 원 남았습니다\n",
            "474 대 맞았습니다\n",
            "47300 원 남았습니다\n",
            "475 대 맞았습니다\n",
            "47200 원 남았습니다\n",
            "476 대 맞았습니다\n",
            "47100 원 남았습니다\n",
            "477 대 맞았습니다\n",
            "47000 원 남았습니다\n",
            "피했습니다\n",
            "46900 원 남았습니다\n",
            "478 대 맞았습니다\n",
            "46800 원 남았습니다\n",
            "479 대 맞았습니다\n",
            "46700 원 남았습니다\n",
            "480 대 맞았습니다\n",
            "46600 원 남았습니다\n",
            "481 대 맞았습니다\n",
            "46500 원 남았습니다\n",
            "482 대 맞았습니다\n",
            "46400 원 남았습니다\n",
            "483 대 맞았습니다\n",
            "46300 원 남았습니다\n",
            "484 대 맞았습니다\n",
            "46200 원 남았습니다\n",
            "485 대 맞았습니다\n",
            "46100 원 남았습니다\n",
            "486 대 맞았습니다\n",
            "46000 원 남았습니다\n",
            "피했습니다\n",
            "45900 원 남았습니다\n",
            "487 대 맞았습니다\n",
            "45800 원 남았습니다\n",
            "488 대 맞았습니다\n",
            "45700 원 남았습니다\n",
            "489 대 맞았습니다\n",
            "45600 원 남았습니다\n",
            "490 대 맞았습니다\n",
            "45500 원 남았습니다\n",
            "491 대 맞았습니다\n",
            "45400 원 남았습니다\n",
            "492 대 맞았습니다\n",
            "45300 원 남았습니다\n",
            "493 대 맞았습니다\n",
            "45200 원 남았습니다\n",
            "494 대 맞았습니다\n",
            "45100 원 남았습니다\n",
            "495 대 맞았습니다\n",
            "45000 원 남았습니다\n",
            "피했습니다\n",
            "44900 원 남았습니다\n",
            "496 대 맞았습니다\n",
            "44800 원 남았습니다\n",
            "497 대 맞았습니다\n",
            "44700 원 남았습니다\n",
            "498 대 맞았습니다\n",
            "44600 원 남았습니다\n",
            "499 대 맞았습니다\n",
            "44500 원 남았습니다\n",
            "500 대 맞았습니다\n",
            "44400 원 남았습니다\n",
            "501 대 맞았습니다\n",
            "44300 원 남았습니다\n",
            "502 대 맞았습니다\n",
            "44200 원 남았습니다\n",
            "503 대 맞았습니다\n",
            "44100 원 남았습니다\n",
            "504 대 맞았습니다\n",
            "44000 원 남았습니다\n",
            "피했습니다\n",
            "43900 원 남았습니다\n",
            "505 대 맞았습니다\n",
            "43800 원 남았습니다\n",
            "506 대 맞았습니다\n",
            "43700 원 남았습니다\n",
            "507 대 맞았습니다\n",
            "43600 원 남았습니다\n",
            "508 대 맞았습니다\n",
            "43500 원 남았습니다\n",
            "509 대 맞았습니다\n",
            "43400 원 남았습니다\n",
            "510 대 맞았습니다\n",
            "43300 원 남았습니다\n",
            "511 대 맞았습니다\n",
            "43200 원 남았습니다\n",
            "512 대 맞았습니다\n",
            "43100 원 남았습니다\n",
            "513 대 맞았습니다\n",
            "43000 원 남았습니다\n",
            "피했습니다\n",
            "42900 원 남았습니다\n",
            "514 대 맞았습니다\n",
            "42800 원 남았습니다\n",
            "515 대 맞았습니다\n",
            "42700 원 남았습니다\n",
            "516 대 맞았습니다\n",
            "42600 원 남았습니다\n",
            "517 대 맞았습니다\n",
            "42500 원 남았습니다\n",
            "518 대 맞았습니다\n",
            "42400 원 남았습니다\n",
            "519 대 맞았습니다\n",
            "42300 원 남았습니다\n",
            "520 대 맞았습니다\n",
            "42200 원 남았습니다\n",
            "521 대 맞았습니다\n",
            "42100 원 남았습니다\n",
            "522 대 맞았습니다\n",
            "42000 원 남았습니다\n",
            "피했습니다\n",
            "41900 원 남았습니다\n",
            "523 대 맞았습니다\n",
            "41800 원 남았습니다\n",
            "524 대 맞았습니다\n",
            "41700 원 남았습니다\n",
            "525 대 맞았습니다\n",
            "41600 원 남았습니다\n",
            "526 대 맞았습니다\n",
            "41500 원 남았습니다\n",
            "527 대 맞았습니다\n",
            "41400 원 남았습니다\n",
            "528 대 맞았습니다\n",
            "41300 원 남았습니다\n",
            "529 대 맞았습니다\n",
            "41200 원 남았습니다\n",
            "530 대 맞았습니다\n",
            "41100 원 남았습니다\n",
            "531 대 맞았습니다\n",
            "41000 원 남았습니다\n",
            "피했습니다\n",
            "40900 원 남았습니다\n",
            "532 대 맞았습니다\n",
            "40800 원 남았습니다\n",
            "533 대 맞았습니다\n",
            "40700 원 남았습니다\n",
            "534 대 맞았습니다\n",
            "40600 원 남았습니다\n",
            "535 대 맞았습니다\n",
            "40500 원 남았습니다\n",
            "536 대 맞았습니다\n",
            "40400 원 남았습니다\n",
            "537 대 맞았습니다\n",
            "40300 원 남았습니다\n",
            "538 대 맞았습니다\n",
            "40200 원 남았습니다\n",
            "539 대 맞았습니다\n",
            "40100 원 남았습니다\n",
            "540 대 맞았습니다\n",
            "40000 원 남았습니다\n",
            "피했습니다\n",
            "39900 원 남았습니다\n",
            "541 대 맞았습니다\n",
            "39800 원 남았습니다\n",
            "542 대 맞았습니다\n",
            "39700 원 남았습니다\n",
            "543 대 맞았습니다\n",
            "39600 원 남았습니다\n",
            "544 대 맞았습니다\n",
            "39500 원 남았습니다\n",
            "545 대 맞았습니다\n",
            "39400 원 남았습니다\n",
            "546 대 맞았습니다\n",
            "39300 원 남았습니다\n",
            "547 대 맞았습니다\n",
            "39200 원 남았습니다\n",
            "548 대 맞았습니다\n",
            "39100 원 남았습니다\n",
            "549 대 맞았습니다\n",
            "39000 원 남았습니다\n",
            "피했습니다\n",
            "38900 원 남았습니다\n",
            "550 대 맞았습니다\n",
            "38800 원 남았습니다\n",
            "551 대 맞았습니다\n",
            "38700 원 남았습니다\n",
            "552 대 맞았습니다\n",
            "38600 원 남았습니다\n",
            "553 대 맞았습니다\n",
            "38500 원 남았습니다\n",
            "554 대 맞았습니다\n",
            "38400 원 남았습니다\n",
            "555 대 맞았습니다\n",
            "38300 원 남았습니다\n",
            "556 대 맞았습니다\n",
            "38200 원 남았습니다\n",
            "557 대 맞았습니다\n",
            "38100 원 남았습니다\n",
            "558 대 맞았습니다\n",
            "38000 원 남았습니다\n",
            "피했습니다\n",
            "37900 원 남았습니다\n",
            "559 대 맞았습니다\n",
            "37800 원 남았습니다\n",
            "560 대 맞았습니다\n",
            "37700 원 남았습니다\n",
            "561 대 맞았습니다\n",
            "37600 원 남았습니다\n",
            "562 대 맞았습니다\n",
            "37500 원 남았습니다\n",
            "563 대 맞았습니다\n",
            "37400 원 남았습니다\n",
            "564 대 맞았습니다\n",
            "37300 원 남았습니다\n",
            "565 대 맞았습니다\n",
            "37200 원 남았습니다\n",
            "566 대 맞았습니다\n",
            "37100 원 남았습니다\n",
            "567 대 맞았습니다\n",
            "37000 원 남았습니다\n",
            "피했습니다\n",
            "36900 원 남았습니다\n",
            "568 대 맞았습니다\n",
            "36800 원 남았습니다\n",
            "569 대 맞았습니다\n",
            "36700 원 남았습니다\n",
            "570 대 맞았습니다\n",
            "36600 원 남았습니다\n",
            "571 대 맞았습니다\n",
            "36500 원 남았습니다\n",
            "572 대 맞았습니다\n",
            "36400 원 남았습니다\n",
            "573 대 맞았습니다\n",
            "36300 원 남았습니다\n",
            "574 대 맞았습니다\n",
            "36200 원 남았습니다\n",
            "575 대 맞았습니다\n",
            "36100 원 남았습니다\n",
            "576 대 맞았습니다\n",
            "36000 원 남았습니다\n",
            "피했습니다\n",
            "35900 원 남았습니다\n",
            "577 대 맞았습니다\n",
            "35800 원 남았습니다\n",
            "578 대 맞았습니다\n",
            "35700 원 남았습니다\n",
            "579 대 맞았습니다\n",
            "35600 원 남았습니다\n",
            "580 대 맞았습니다\n",
            "35500 원 남았습니다\n",
            "581 대 맞았습니다\n",
            "35400 원 남았습니다\n",
            "582 대 맞았습니다\n",
            "35300 원 남았습니다\n",
            "583 대 맞았습니다\n",
            "35200 원 남았습니다\n",
            "584 대 맞았습니다\n",
            "35100 원 남았습니다\n",
            "585 대 맞았습니다\n",
            "35000 원 남았습니다\n",
            "피했습니다\n",
            "34900 원 남았습니다\n",
            "586 대 맞았습니다\n",
            "34800 원 남았습니다\n",
            "587 대 맞았습니다\n",
            "34700 원 남았습니다\n",
            "588 대 맞았습니다\n",
            "34600 원 남았습니다\n",
            "589 대 맞았습니다\n",
            "34500 원 남았습니다\n",
            "590 대 맞았습니다\n",
            "34400 원 남았습니다\n",
            "591 대 맞았습니다\n",
            "34300 원 남았습니다\n",
            "592 대 맞았습니다\n",
            "34200 원 남았습니다\n",
            "593 대 맞았습니다\n",
            "34100 원 남았습니다\n",
            "594 대 맞았습니다\n",
            "34000 원 남았습니다\n",
            "피했습니다\n",
            "33900 원 남았습니다\n",
            "595 대 맞았습니다\n",
            "33800 원 남았습니다\n",
            "596 대 맞았습니다\n",
            "33700 원 남았습니다\n",
            "597 대 맞았습니다\n",
            "33600 원 남았습니다\n",
            "598 대 맞았습니다\n",
            "33500 원 남았습니다\n",
            "599 대 맞았습니다\n",
            "33400 원 남았습니다\n",
            "600 대 맞았습니다\n",
            "33300 원 남았습니다\n",
            "601 대 맞았습니다\n",
            "33200 원 남았습니다\n",
            "602 대 맞았습니다\n",
            "33100 원 남았습니다\n",
            "603 대 맞았습니다\n",
            "33000 원 남았습니다\n",
            "피했습니다\n",
            "32900 원 남았습니다\n",
            "604 대 맞았습니다\n",
            "32800 원 남았습니다\n",
            "605 대 맞았습니다\n",
            "32700 원 남았습니다\n",
            "606 대 맞았습니다\n",
            "32600 원 남았습니다\n",
            "607 대 맞았습니다\n",
            "32500 원 남았습니다\n",
            "608 대 맞았습니다\n",
            "32400 원 남았습니다\n",
            "609 대 맞았습니다\n",
            "32300 원 남았습니다\n",
            "610 대 맞았습니다\n",
            "32200 원 남았습니다\n",
            "611 대 맞았습니다\n",
            "32100 원 남았습니다\n",
            "612 대 맞았습니다\n",
            "32000 원 남았습니다\n",
            "피했습니다\n",
            "31900 원 남았습니다\n",
            "613 대 맞았습니다\n",
            "31800 원 남았습니다\n",
            "614 대 맞았습니다\n",
            "31700 원 남았습니다\n",
            "615 대 맞았습니다\n",
            "31600 원 남았습니다\n",
            "616 대 맞았습니다\n",
            "31500 원 남았습니다\n",
            "617 대 맞았습니다\n",
            "31400 원 남았습니다\n",
            "618 대 맞았습니다\n",
            "31300 원 남았습니다\n",
            "619 대 맞았습니다\n",
            "31200 원 남았습니다\n",
            "620 대 맞았습니다\n",
            "31100 원 남았습니다\n",
            "621 대 맞았습니다\n",
            "31000 원 남았습니다\n",
            "피했습니다\n",
            "30900 원 남았습니다\n",
            "622 대 맞았습니다\n",
            "30800 원 남았습니다\n",
            "623 대 맞았습니다\n",
            "30700 원 남았습니다\n",
            "624 대 맞았습니다\n",
            "30600 원 남았습니다\n",
            "625 대 맞았습니다\n",
            "30500 원 남았습니다\n",
            "626 대 맞았습니다\n",
            "30400 원 남았습니다\n",
            "627 대 맞았습니다\n",
            "30300 원 남았습니다\n",
            "628 대 맞았습니다\n",
            "30200 원 남았습니다\n",
            "629 대 맞았습니다\n",
            "30100 원 남았습니다\n",
            "630 대 맞았습니다\n",
            "30000 원 남았습니다\n",
            "피했습니다\n",
            "29900 원 남았습니다\n",
            "631 대 맞았습니다\n",
            "29800 원 남았습니다\n",
            "632 대 맞았습니다\n",
            "29700 원 남았습니다\n",
            "633 대 맞았습니다\n",
            "29600 원 남았습니다\n",
            "634 대 맞았습니다\n",
            "29500 원 남았습니다\n",
            "635 대 맞았습니다\n",
            "29400 원 남았습니다\n",
            "636 대 맞았습니다\n",
            "29300 원 남았습니다\n",
            "637 대 맞았습니다\n",
            "29200 원 남았습니다\n",
            "638 대 맞았습니다\n",
            "29100 원 남았습니다\n",
            "639 대 맞았습니다\n",
            "29000 원 남았습니다\n",
            "피했습니다\n",
            "28900 원 남았습니다\n",
            "640 대 맞았습니다\n",
            "28800 원 남았습니다\n",
            "641 대 맞았습니다\n",
            "28700 원 남았습니다\n",
            "642 대 맞았습니다\n",
            "28600 원 남았습니다\n",
            "643 대 맞았습니다\n",
            "28500 원 남았습니다\n",
            "644 대 맞았습니다\n",
            "28400 원 남았습니다\n",
            "645 대 맞았습니다\n",
            "28300 원 남았습니다\n",
            "646 대 맞았습니다\n",
            "28200 원 남았습니다\n",
            "647 대 맞았습니다\n",
            "28100 원 남았습니다\n",
            "648 대 맞았습니다\n",
            "28000 원 남았습니다\n",
            "피했습니다\n",
            "27900 원 남았습니다\n",
            "649 대 맞았습니다\n",
            "27800 원 남았습니다\n",
            "650 대 맞았습니다\n",
            "27700 원 남았습니다\n",
            "651 대 맞았습니다\n",
            "27600 원 남았습니다\n",
            "652 대 맞았습니다\n",
            "27500 원 남았습니다\n",
            "653 대 맞았습니다\n",
            "27400 원 남았습니다\n",
            "654 대 맞았습니다\n",
            "27300 원 남았습니다\n",
            "655 대 맞았습니다\n",
            "27200 원 남았습니다\n",
            "656 대 맞았습니다\n",
            "27100 원 남았습니다\n",
            "657 대 맞았습니다\n",
            "27000 원 남았습니다\n",
            "피했습니다\n",
            "26900 원 남았습니다\n",
            "658 대 맞았습니다\n",
            "26800 원 남았습니다\n",
            "659 대 맞았습니다\n",
            "26700 원 남았습니다\n",
            "660 대 맞았습니다\n",
            "26600 원 남았습니다\n",
            "661 대 맞았습니다\n",
            "26500 원 남았습니다\n",
            "662 대 맞았습니다\n",
            "26400 원 남았습니다\n",
            "663 대 맞았습니다\n",
            "26300 원 남았습니다\n",
            "664 대 맞았습니다\n",
            "26200 원 남았습니다\n",
            "665 대 맞았습니다\n",
            "26100 원 남았습니다\n",
            "666 대 맞았습니다\n",
            "26000 원 남았습니다\n",
            "피했습니다\n",
            "25900 원 남았습니다\n",
            "667 대 맞았습니다\n",
            "25800 원 남았습니다\n",
            "668 대 맞았습니다\n",
            "25700 원 남았습니다\n",
            "669 대 맞았습니다\n",
            "25600 원 남았습니다\n",
            "670 대 맞았습니다\n",
            "25500 원 남았습니다\n",
            "671 대 맞았습니다\n",
            "25400 원 남았습니다\n",
            "672 대 맞았습니다\n",
            "25300 원 남았습니다\n",
            "673 대 맞았습니다\n",
            "25200 원 남았습니다\n",
            "674 대 맞았습니다\n",
            "25100 원 남았습니다\n",
            "675 대 맞았습니다\n",
            "25000 원 남았습니다\n",
            "피했습니다\n",
            "24900 원 남았습니다\n",
            "676 대 맞았습니다\n",
            "24800 원 남았습니다\n",
            "677 대 맞았습니다\n",
            "24700 원 남았습니다\n",
            "678 대 맞았습니다\n",
            "24600 원 남았습니다\n",
            "679 대 맞았습니다\n",
            "24500 원 남았습니다\n",
            "680 대 맞았습니다\n",
            "24400 원 남았습니다\n",
            "681 대 맞았습니다\n",
            "24300 원 남았습니다\n",
            "682 대 맞았습니다\n",
            "24200 원 남았습니다\n",
            "683 대 맞았습니다\n",
            "24100 원 남았습니다\n",
            "684 대 맞았습니다\n",
            "24000 원 남았습니다\n",
            "피했습니다\n",
            "23900 원 남았습니다\n",
            "685 대 맞았습니다\n",
            "23800 원 남았습니다\n",
            "686 대 맞았습니다\n",
            "23700 원 남았습니다\n",
            "687 대 맞았습니다\n",
            "23600 원 남았습니다\n",
            "688 대 맞았습니다\n",
            "23500 원 남았습니다\n",
            "689 대 맞았습니다\n",
            "23400 원 남았습니다\n",
            "690 대 맞았습니다\n",
            "23300 원 남았습니다\n",
            "691 대 맞았습니다\n",
            "23200 원 남았습니다\n",
            "692 대 맞았습니다\n",
            "23100 원 남았습니다\n",
            "693 대 맞았습니다\n",
            "23000 원 남았습니다\n",
            "피했습니다\n",
            "22900 원 남았습니다\n",
            "694 대 맞았습니다\n",
            "22800 원 남았습니다\n",
            "695 대 맞았습니다\n",
            "22700 원 남았습니다\n",
            "696 대 맞았습니다\n",
            "22600 원 남았습니다\n",
            "697 대 맞았습니다\n",
            "22500 원 남았습니다\n",
            "698 대 맞았습니다\n",
            "22400 원 남았습니다\n",
            "699 대 맞았습니다\n",
            "22300 원 남았습니다\n",
            "700 대 맞았습니다\n",
            "22200 원 남았습니다\n",
            "701 대 맞았습니다\n",
            "22100 원 남았습니다\n",
            "702 대 맞았습니다\n",
            "22000 원 남았습니다\n",
            "피했습니다\n",
            "21900 원 남았습니다\n",
            "703 대 맞았습니다\n",
            "21800 원 남았습니다\n",
            "704 대 맞았습니다\n",
            "21700 원 남았습니다\n",
            "705 대 맞았습니다\n",
            "21600 원 남았습니다\n",
            "706 대 맞았습니다\n",
            "21500 원 남았습니다\n",
            "707 대 맞았습니다\n",
            "21400 원 남았습니다\n",
            "708 대 맞았습니다\n",
            "21300 원 남았습니다\n",
            "709 대 맞았습니다\n",
            "21200 원 남았습니다\n",
            "710 대 맞았습니다\n",
            "21100 원 남았습니다\n",
            "711 대 맞았습니다\n",
            "21000 원 남았습니다\n",
            "피했습니다\n",
            "20900 원 남았습니다\n",
            "712 대 맞았습니다\n",
            "20800 원 남았습니다\n",
            "713 대 맞았습니다\n",
            "20700 원 남았습니다\n",
            "714 대 맞았습니다\n",
            "20600 원 남았습니다\n",
            "715 대 맞았습니다\n",
            "20500 원 남았습니다\n",
            "716 대 맞았습니다\n",
            "20400 원 남았습니다\n",
            "717 대 맞았습니다\n",
            "20300 원 남았습니다\n",
            "718 대 맞았습니다\n",
            "20200 원 남았습니다\n",
            "719 대 맞았습니다\n",
            "20100 원 남았습니다\n",
            "720 대 맞았습니다\n",
            "20000 원 남았습니다\n",
            "피했습니다\n",
            "19900 원 남았습니다\n",
            "721 대 맞았습니다\n",
            "19800 원 남았습니다\n",
            "722 대 맞았습니다\n",
            "19700 원 남았습니다\n",
            "723 대 맞았습니다\n",
            "19600 원 남았습니다\n",
            "724 대 맞았습니다\n",
            "19500 원 남았습니다\n",
            "725 대 맞았습니다\n",
            "19400 원 남았습니다\n",
            "726 대 맞았습니다\n",
            "19300 원 남았습니다\n",
            "727 대 맞았습니다\n",
            "19200 원 남았습니다\n",
            "728 대 맞았습니다\n",
            "19100 원 남았습니다\n",
            "729 대 맞았습니다\n",
            "19000 원 남았습니다\n",
            "피했습니다\n",
            "18900 원 남았습니다\n",
            "730 대 맞았습니다\n",
            "18800 원 남았습니다\n",
            "731 대 맞았습니다\n",
            "18700 원 남았습니다\n",
            "732 대 맞았습니다\n",
            "18600 원 남았습니다\n",
            "733 대 맞았습니다\n",
            "18500 원 남았습니다\n",
            "734 대 맞았습니다\n",
            "18400 원 남았습니다\n",
            "735 대 맞았습니다\n",
            "18300 원 남았습니다\n",
            "736 대 맞았습니다\n",
            "18200 원 남았습니다\n",
            "737 대 맞았습니다\n",
            "18100 원 남았습니다\n",
            "738 대 맞았습니다\n",
            "18000 원 남았습니다\n",
            "피했습니다\n",
            "17900 원 남았습니다\n",
            "739 대 맞았습니다\n",
            "17800 원 남았습니다\n",
            "740 대 맞았습니다\n",
            "17700 원 남았습니다\n",
            "741 대 맞았습니다\n",
            "17600 원 남았습니다\n",
            "742 대 맞았습니다\n",
            "17500 원 남았습니다\n",
            "743 대 맞았습니다\n",
            "17400 원 남았습니다\n",
            "744 대 맞았습니다\n",
            "17300 원 남았습니다\n",
            "745 대 맞았습니다\n",
            "17200 원 남았습니다\n",
            "746 대 맞았습니다\n",
            "17100 원 남았습니다\n",
            "747 대 맞았습니다\n",
            "17000 원 남았습니다\n",
            "피했습니다\n",
            "16900 원 남았습니다\n",
            "748 대 맞았습니다\n",
            "16800 원 남았습니다\n",
            "749 대 맞았습니다\n",
            "16700 원 남았습니다\n",
            "750 대 맞았습니다\n",
            "16600 원 남았습니다\n",
            "751 대 맞았습니다\n",
            "16500 원 남았습니다\n",
            "752 대 맞았습니다\n",
            "16400 원 남았습니다\n",
            "753 대 맞았습니다\n",
            "16300 원 남았습니다\n",
            "754 대 맞았습니다\n",
            "16200 원 남았습니다\n",
            "755 대 맞았습니다\n",
            "16100 원 남았습니다\n",
            "756 대 맞았습니다\n",
            "16000 원 남았습니다\n",
            "피했습니다\n",
            "15900 원 남았습니다\n",
            "757 대 맞았습니다\n",
            "15800 원 남았습니다\n",
            "758 대 맞았습니다\n",
            "15700 원 남았습니다\n",
            "759 대 맞았습니다\n",
            "15600 원 남았습니다\n",
            "760 대 맞았습니다\n",
            "15500 원 남았습니다\n",
            "761 대 맞았습니다\n",
            "15400 원 남았습니다\n",
            "762 대 맞았습니다\n",
            "15300 원 남았습니다\n",
            "763 대 맞았습니다\n",
            "15200 원 남았습니다\n",
            "764 대 맞았습니다\n",
            "15100 원 남았습니다\n",
            "765 대 맞았습니다\n",
            "15000 원 남았습니다\n",
            "피했습니다\n",
            "14900 원 남았습니다\n",
            "766 대 맞았습니다\n",
            "14800 원 남았습니다\n",
            "767 대 맞았습니다\n",
            "14700 원 남았습니다\n",
            "768 대 맞았습니다\n",
            "14600 원 남았습니다\n",
            "769 대 맞았습니다\n",
            "14500 원 남았습니다\n",
            "770 대 맞았습니다\n",
            "14400 원 남았습니다\n",
            "771 대 맞았습니다\n",
            "14300 원 남았습니다\n",
            "772 대 맞았습니다\n",
            "14200 원 남았습니다\n",
            "773 대 맞았습니다\n",
            "14100 원 남았습니다\n",
            "774 대 맞았습니다\n",
            "14000 원 남았습니다\n",
            "피했습니다\n",
            "13900 원 남았습니다\n",
            "775 대 맞았습니다\n",
            "13800 원 남았습니다\n",
            "776 대 맞았습니다\n",
            "13700 원 남았습니다\n",
            "777 대 맞았습니다\n",
            "13600 원 남았습니다\n",
            "778 대 맞았습니다\n",
            "13500 원 남았습니다\n",
            "779 대 맞았습니다\n",
            "13400 원 남았습니다\n",
            "780 대 맞았습니다\n",
            "13300 원 남았습니다\n",
            "781 대 맞았습니다\n",
            "13200 원 남았습니다\n",
            "782 대 맞았습니다\n",
            "13100 원 남았습니다\n",
            "783 대 맞았습니다\n",
            "13000 원 남았습니다\n",
            "피했습니다\n",
            "12900 원 남았습니다\n",
            "784 대 맞았습니다\n",
            "12800 원 남았습니다\n",
            "785 대 맞았습니다\n",
            "12700 원 남았습니다\n",
            "786 대 맞았습니다\n",
            "12600 원 남았습니다\n",
            "787 대 맞았습니다\n",
            "12500 원 남았습니다\n",
            "788 대 맞았습니다\n",
            "12400 원 남았습니다\n",
            "789 대 맞았습니다\n",
            "12300 원 남았습니다\n",
            "790 대 맞았습니다\n",
            "12200 원 남았습니다\n",
            "791 대 맞았습니다\n",
            "12100 원 남았습니다\n",
            "792 대 맞았습니다\n",
            "12000 원 남았습니다\n",
            "피했습니다\n",
            "11900 원 남았습니다\n",
            "793 대 맞았습니다\n",
            "11800 원 남았습니다\n",
            "794 대 맞았습니다\n",
            "11700 원 남았습니다\n",
            "795 대 맞았습니다\n",
            "11600 원 남았습니다\n",
            "796 대 맞았습니다\n",
            "11500 원 남았습니다\n",
            "797 대 맞았습니다\n",
            "11400 원 남았습니다\n",
            "798 대 맞았습니다\n",
            "11300 원 남았습니다\n",
            "799 대 맞았습니다\n",
            "11200 원 남았습니다\n",
            "800 대 맞았습니다\n",
            "11100 원 남았습니다\n",
            "801 대 맞았습니다\n",
            "11000 원 남았습니다\n",
            "피했습니다\n",
            "10900 원 남았습니다\n",
            "802 대 맞았습니다\n",
            "10800 원 남았습니다\n",
            "803 대 맞았습니다\n",
            "10700 원 남았습니다\n",
            "804 대 맞았습니다\n",
            "10600 원 남았습니다\n",
            "805 대 맞았습니다\n",
            "10500 원 남았습니다\n",
            "806 대 맞았습니다\n",
            "10400 원 남았습니다\n",
            "807 대 맞았습니다\n",
            "10300 원 남았습니다\n",
            "808 대 맞았습니다\n",
            "10200 원 남았습니다\n",
            "809 대 맞았습니다\n",
            "10100 원 남았습니다\n",
            "810 대 맞았습니다\n",
            "10000 원 남았습니다\n",
            "피했습니다\n",
            "9900 원 남았습니다\n",
            "811 대 맞았습니다\n",
            "9800 원 남았습니다\n",
            "812 대 맞았습니다\n",
            "9700 원 남았습니다\n",
            "813 대 맞았습니다\n",
            "9600 원 남았습니다\n",
            "814 대 맞았습니다\n",
            "9500 원 남았습니다\n",
            "815 대 맞았습니다\n",
            "9400 원 남았습니다\n",
            "816 대 맞았습니다\n",
            "9300 원 남았습니다\n",
            "817 대 맞았습니다\n",
            "9200 원 남았습니다\n",
            "818 대 맞았습니다\n",
            "9100 원 남았습니다\n",
            "819 대 맞았습니다\n",
            "9000 원 남았습니다\n",
            "피했습니다\n",
            "8900 원 남았습니다\n",
            "820 대 맞았습니다\n",
            "8800 원 남았습니다\n",
            "821 대 맞았습니다\n",
            "8700 원 남았습니다\n",
            "822 대 맞았습니다\n",
            "8600 원 남았습니다\n",
            "823 대 맞았습니다\n",
            "8500 원 남았습니다\n",
            "824 대 맞았습니다\n",
            "8400 원 남았습니다\n",
            "825 대 맞았습니다\n",
            "8300 원 남았습니다\n",
            "826 대 맞았습니다\n",
            "8200 원 남았습니다\n",
            "827 대 맞았습니다\n",
            "8100 원 남았습니다\n",
            "828 대 맞았습니다\n",
            "8000 원 남았습니다\n",
            "피했습니다\n",
            "7900 원 남았습니다\n",
            "829 대 맞았습니다\n",
            "7800 원 남았습니다\n",
            "830 대 맞았습니다\n",
            "7700 원 남았습니다\n",
            "831 대 맞았습니다\n",
            "7600 원 남았습니다\n",
            "832 대 맞았습니다\n",
            "7500 원 남았습니다\n",
            "833 대 맞았습니다\n",
            "7400 원 남았습니다\n",
            "834 대 맞았습니다\n",
            "7300 원 남았습니다\n",
            "835 대 맞았습니다\n",
            "7200 원 남았습니다\n",
            "836 대 맞았습니다\n",
            "7100 원 남았습니다\n",
            "837 대 맞았습니다\n",
            "7000 원 남았습니다\n",
            "피했습니다\n",
            "6900 원 남았습니다\n",
            "838 대 맞았습니다\n",
            "6800 원 남았습니다\n",
            "839 대 맞았습니다\n",
            "6700 원 남았습니다\n",
            "840 대 맞았습니다\n",
            "6600 원 남았습니다\n",
            "841 대 맞았습니다\n",
            "6500 원 남았습니다\n",
            "842 대 맞았습니다\n",
            "6400 원 남았습니다\n",
            "843 대 맞았습니다\n",
            "6300 원 남았습니다\n",
            "844 대 맞았습니다\n",
            "6200 원 남았습니다\n",
            "845 대 맞았습니다\n",
            "6100 원 남았습니다\n",
            "846 대 맞았습니다\n",
            "6000 원 남았습니다\n",
            "피했습니다\n",
            "5900 원 남았습니다\n",
            "847 대 맞았습니다\n",
            "5800 원 남았습니다\n",
            "848 대 맞았습니다\n",
            "5700 원 남았습니다\n",
            "849 대 맞았습니다\n",
            "5600 원 남았습니다\n",
            "850 대 맞았습니다\n",
            "5500 원 남았습니다\n",
            "851 대 맞았습니다\n",
            "5400 원 남았습니다\n",
            "852 대 맞았습니다\n",
            "5300 원 남았습니다\n",
            "853 대 맞았습니다\n",
            "5200 원 남았습니다\n",
            "854 대 맞았습니다\n",
            "5100 원 남았습니다\n",
            "855 대 맞았습니다\n",
            "5000 원 남았습니다\n",
            "피했습니다\n",
            "4900 원 남았습니다\n",
            "856 대 맞았습니다\n",
            "4800 원 남았습니다\n",
            "857 대 맞았습니다\n",
            "4700 원 남았습니다\n",
            "858 대 맞았습니다\n",
            "4600 원 남았습니다\n",
            "859 대 맞았습니다\n",
            "4500 원 남았습니다\n",
            "860 대 맞았습니다\n",
            "4400 원 남았습니다\n",
            "861 대 맞았습니다\n",
            "4300 원 남았습니다\n",
            "862 대 맞았습니다\n",
            "4200 원 남았습니다\n",
            "863 대 맞았습니다\n",
            "4100 원 남았습니다\n",
            "864 대 맞았습니다\n",
            "4000 원 남았습니다\n",
            "피했습니다\n",
            "3900 원 남았습니다\n",
            "865 대 맞았습니다\n",
            "3800 원 남았습니다\n",
            "866 대 맞았습니다\n",
            "3700 원 남았습니다\n",
            "867 대 맞았습니다\n",
            "3600 원 남았습니다\n",
            "868 대 맞았습니다\n",
            "3500 원 남았습니다\n",
            "869 대 맞았습니다\n",
            "3400 원 남았습니다\n",
            "870 대 맞았습니다\n",
            "3300 원 남았습니다\n",
            "871 대 맞았습니다\n",
            "3200 원 남았습니다\n",
            "872 대 맞았습니다\n",
            "3100 원 남았습니다\n",
            "873 대 맞았습니다\n",
            "3000 원 남았습니다\n",
            "피했습니다\n",
            "2900 원 남았습니다\n",
            "874 대 맞았습니다\n",
            "2800 원 남았습니다\n",
            "875 대 맞았습니다\n",
            "2700 원 남았습니다\n",
            "876 대 맞았습니다\n",
            "2600 원 남았습니다\n",
            "877 대 맞았습니다\n",
            "2500 원 남았습니다\n",
            "878 대 맞았습니다\n",
            "2400 원 남았습니다\n",
            "879 대 맞았습니다\n",
            "2300 원 남았습니다\n",
            "880 대 맞았습니다\n",
            "2200 원 남았습니다\n",
            "881 대 맞았습니다\n",
            "2100 원 남았습니다\n",
            "882 대 맞았습니다\n",
            "2000 원 남았습니다\n",
            "피했습니다\n",
            "1900 원 남았습니다\n",
            "883 대 맞았습니다\n",
            "1800 원 남았습니다\n",
            "884 대 맞았습니다\n",
            "1700 원 남았습니다\n",
            "885 대 맞았습니다\n",
            "1600 원 남았습니다\n",
            "886 대 맞았습니다\n",
            "1500 원 남았습니다\n",
            "887 대 맞았습니다\n",
            "1400 원 남았습니다\n",
            "888 대 맞았습니다\n",
            "1300 원 남았습니다\n",
            "889 대 맞았습니다\n",
            "1200 원 남았습니다\n",
            "890 대 맞았습니다\n",
            "1100 원 남았습니다\n",
            "891 대 맞았습니다\n",
            "1000 원 남았습니다\n",
            "피했습니다\n",
            "900 원 남았습니다\n",
            "892 대 맞았습니다\n",
            "800 원 남았습니다\n",
            "893 대 맞았습니다\n",
            "700 원 남았습니다\n",
            "894 대 맞았습니다\n",
            "600 원 남았습니다\n",
            "895 대 맞았습니다\n",
            "500 원 남았습니다\n",
            "896 대 맞았습니다\n",
            "400 원 남았습니다\n",
            "897 대 맞았습니다\n",
            "300 원 남았습니다\n",
            "898 대 맞았습니다\n",
            "200 원 남았습니다\n",
            "899 대 맞았습니다\n",
            "100 원 남았습니다\n",
            "900 대 맞았습니다\n",
            "0 원 남았습니다\n",
            "피했습니다\n"
          ]
        }
      ]
    },
    {
      "cell_type": "code",
      "source": [],
      "metadata": {
        "id": "XS01gmkHfxQO"
      },
      "execution_count": null,
      "outputs": []
    }
  ]
}