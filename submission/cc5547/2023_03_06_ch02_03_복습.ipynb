{
  "nbformat": 4,
  "nbformat_minor": 0,
  "metadata": {
    "colab": {
      "provenance": [],
      "authorship_tag": "ABX9TyO2ftDUSNg9qIoPZQTtspqB",
      "include_colab_link": true
    },
    "kernelspec": {
      "name": "python3",
      "display_name": "Python 3"
    },
    "language_info": {
      "name": "python"
    }
  },
  "cells": [
    {
      "cell_type": "markdown",
      "metadata": {
        "id": "view-in-github",
        "colab_type": "text"
      },
      "source": [
        "<a href=\"https://colab.research.google.com/github/cc5547/Python/blob/main/submission/cc5547/2023_03_06_ch02_03_%EB%B3%B5%EC%8A%B5.ipynb\" target=\"_parent\"><img src=\"https://colab.research.google.com/assets/colab-badge.svg\" alt=\"Open In Colab\"/></a>"
      ]
    },
    {
      "cell_type": "markdown",
      "source": [
        "# 리스트응용"
      ],
      "metadata": {
        "id": "Sxa_zSNwTGyJ"
      }
    },
    {
      "cell_type": "code",
      "execution_count": 4,
      "metadata": {
        "id": "jITCWPFZSlbm"
      },
      "outputs": [],
      "source": [
        "country = [] # 빈 리스트"
      ]
    },
    {
      "cell_type": "code",
      "source": [
        "country.append('대한민국')\n",
        "country"
      ],
      "metadata": {
        "colab": {
          "base_uri": "https://localhost:8080/"
        },
        "id": "_C9FHRveTTQR",
        "outputId": "9f12f349-5e33-4a44-b982-2eb3c8ed4bee"
      },
      "execution_count": 13,
      "outputs": [
        {
          "output_type": "execute_result",
          "data": {
            "text/plain": [
              "['대한민국']"
            ]
          },
          "metadata": {},
          "execution_count": 13
        }
      ]
    },
    {
      "cell_type": "code",
      "source": [
        "country2 = [\"중국\"]"
      ],
      "metadata": {
        "id": "y0uHgzt9TlTL"
      },
      "execution_count": 14,
      "outputs": []
    },
    {
      "cell_type": "code",
      "source": [
        "country + country2, country"
      ],
      "metadata": {
        "colab": {
          "base_uri": "https://localhost:8080/"
        },
        "id": "5j31K9nuTueR",
        "outputId": "50a87705-263b-4bb1-9367-8a85a0ae10c8"
      },
      "execution_count": 15,
      "outputs": [
        {
          "output_type": "execute_result",
          "data": {
            "text/plain": [
              "(['대한민국', '중국'], ['대한민국'])"
            ]
          },
          "metadata": {},
          "execution_count": 15
        }
      ]
    },
    {
      "cell_type": "code",
      "source": [
        "country += country2\n",
        "country"
      ],
      "metadata": {
        "colab": {
          "base_uri": "https://localhost:8080/"
        },
        "id": "lh-_OKaSTyN-",
        "outputId": "14daa014-0078-47c9-c83b-12a7142b6715"
      },
      "execution_count": 16,
      "outputs": [
        {
          "output_type": "execute_result",
          "data": {
            "text/plain": [
              "['대한민국', '중국']"
            ]
          },
          "metadata": {},
          "execution_count": 16
        }
      ]
    },
    {
      "cell_type": "code",
      "source": [
        "country3 = ['일본']\n",
        "country3"
      ],
      "metadata": {
        "colab": {
          "base_uri": "https://localhost:8080/"
        },
        "id": "_DP9E-Y8T2or",
        "outputId": "3b8290ee-608a-4b1c-e282-28595a120ca5"
      },
      "execution_count": 17,
      "outputs": [
        {
          "output_type": "execute_result",
          "data": {
            "text/plain": [
              "['일본']"
            ]
          },
          "metadata": {},
          "execution_count": 17
        }
      ]
    },
    {
      "cell_type": "code",
      "source": [
        "country.extend(country3)\n",
        "country"
      ],
      "metadata": {
        "colab": {
          "base_uri": "https://localhost:8080/"
        },
        "id": "1G5SzrZYT6a1",
        "outputId": "c2ad5e48-1986-4eda-d44c-d357a8b68530"
      },
      "execution_count": 19,
      "outputs": [
        {
          "output_type": "execute_result",
          "data": {
            "text/plain": [
              "['대한민국', '중국', '일본', '일본']"
            ]
          },
          "metadata": {},
          "execution_count": 19
        }
      ]
    },
    {
      "cell_type": "code",
      "source": [
        "country4 = [\"프랑스\", \"영국\", \"독일\"]\n",
        "country.extend(country4)\n",
        "country"
      ],
      "metadata": {
        "colab": {
          "base_uri": "https://localhost:8080/"
        },
        "id": "MWzjI4QbT9MH",
        "outputId": "ad77f08a-30cf-4945-e858-5240c9c23997"
      },
      "execution_count": 20,
      "outputs": [
        {
          "output_type": "execute_result",
          "data": {
            "text/plain": [
              "['대한민국', '중국', '일본', '일본', '프랑스', '영국', '독일']"
            ]
          },
          "metadata": {},
          "execution_count": 20
        }
      ]
    },
    {
      "cell_type": "code",
      "source": [
        "country.append('케냐')\n",
        "country"
      ],
      "metadata": {
        "colab": {
          "base_uri": "https://localhost:8080/"
        },
        "id": "dsDDmF5iUPJK",
        "outputId": "e3bfe77b-54ad-4807-df20-a25b0cdb0aaa"
      },
      "execution_count": 21,
      "outputs": [
        {
          "output_type": "execute_result",
          "data": {
            "text/plain": [
              "['대한민국', '중국', '일본', '일본', '프랑스', '영국', '독일', '케냐']"
            ]
          },
          "metadata": {},
          "execution_count": 21
        }
      ]
    },
    {
      "cell_type": "code",
      "source": [
        "country.insert(0, '브라질')\n",
        "country"
      ],
      "metadata": {
        "colab": {
          "base_uri": "https://localhost:8080/"
        },
        "id": "s3fMcZaXUVvG",
        "outputId": "159dfea5-f9a7-4f6e-ba58-137c1a1ea696"
      },
      "execution_count": 24,
      "outputs": [
        {
          "output_type": "execute_result",
          "data": {
            "text/plain": [
              "['브라질', '브라질', '대한민국', '중국', '일본', '일본', '프랑스', '영국', '독일', '케냐']"
            ]
          },
          "metadata": {},
          "execution_count": 24
        }
      ]
    },
    {
      "cell_type": "code",
      "source": [
        "country.insert(3, '아르헨티나')\n",
        "country"
      ],
      "metadata": {
        "colab": {
          "base_uri": "https://localhost:8080/"
        },
        "id": "azE30cNLUgdO",
        "outputId": "fabe66f5-640a-4876-a8f9-281beb8f03f4"
      },
      "execution_count": 26,
      "outputs": [
        {
          "output_type": "execute_result",
          "data": {
            "text/plain": [
              "['브라질',\n",
              " '브라질',\n",
              " '대한민국',\n",
              " '아르헨티나',\n",
              " '아르헨티나',\n",
              " '중국',\n",
              " '일본',\n",
              " '일본',\n",
              " '프랑스',\n",
              " '영국',\n",
              " '독일',\n",
              " '케냐']"
            ]
          },
          "metadata": {},
          "execution_count": 26
        }
      ]
    },
    {
      "cell_type": "code",
      "source": [
        "country[4:4] = [\"미국\", \"캐나다\", \"멕시코\"]"
      ],
      "metadata": {
        "id": "P8fF78QgUke-"
      },
      "execution_count": 28,
      "outputs": []
    },
    {
      "cell_type": "code",
      "source": [
        "country"
      ],
      "metadata": {
        "colab": {
          "base_uri": "https://localhost:8080/"
        },
        "id": "0EewGf25U7Vl",
        "outputId": "530916cb-0ce4-43a5-ea4b-74891e89690d"
      },
      "execution_count": 29,
      "outputs": [
        {
          "output_type": "execute_result",
          "data": {
            "text/plain": [
              "['브라질',\n",
              " '브라질',\n",
              " '대한민국',\n",
              " '아르헨티나',\n",
              " '미국',\n",
              " '캐나다',\n",
              " '멕시코',\n",
              " '미국',\n",
              " '캐나다',\n",
              " '멕시코',\n",
              " '아르헨티나',\n",
              " '중국',\n",
              " '일본',\n",
              " '일본',\n",
              " '프랑스',\n",
              " '영국',\n",
              " '독일',\n",
              " '케냐']"
            ]
          },
          "metadata": {},
          "execution_count": 29
        }
      ]
    },
    {
      "cell_type": "code",
      "source": [
        "country.pop()"
      ],
      "metadata": {
        "colab": {
          "base_uri": "https://localhost:8080/",
          "height": 35
        },
        "id": "5I480cTkU8mO",
        "outputId": "126ed8e3-7e6f-490f-b0b9-ec999862a245"
      },
      "execution_count": 30,
      "outputs": [
        {
          "output_type": "execute_result",
          "data": {
            "text/plain": [
              "'케냐'"
            ],
            "application/vnd.google.colaboratory.intrinsic+json": {
              "type": "string"
            }
          },
          "metadata": {},
          "execution_count": 30
        }
      ]
    },
    {
      "cell_type": "code",
      "source": [
        "print(country[-1])\n",
        "del country[-1]"
      ],
      "metadata": {
        "colab": {
          "base_uri": "https://localhost:8080/"
        },
        "id": "plD7pw3xVuhG",
        "outputId": "e450addb-2732-4ad8-e52a-5b729406e6fd"
      },
      "execution_count": 31,
      "outputs": [
        {
          "output_type": "stream",
          "name": "stdout",
          "text": [
            "독일\n"
          ]
        }
      ]
    },
    {
      "cell_type": "code",
      "source": [
        "country # \"최근 해외여행 발권 리스트\""
      ],
      "metadata": {
        "colab": {
          "base_uri": "https://localhost:8080/"
        },
        "id": "hPh4BoBqWRil",
        "outputId": "cb684308-9076-4ed9-ff2b-f9013adf74ee"
      },
      "execution_count": 32,
      "outputs": [
        {
          "output_type": "execute_result",
          "data": {
            "text/plain": [
              "['브라질',\n",
              " '브라질',\n",
              " '대한민국',\n",
              " '아르헨티나',\n",
              " '미국',\n",
              " '캐나다',\n",
              " '멕시코',\n",
              " '미국',\n",
              " '캐나다',\n",
              " '멕시코',\n",
              " '아르헨티나',\n",
              " '중국',\n",
              " '일본',\n",
              " '일본',\n",
              " '프랑스',\n",
              " '영국']"
            ]
          },
          "metadata": {},
          "execution_count": 32
        }
      ]
    },
    {
      "cell_type": "code",
      "source": [
        "recent = country.pop()\n",
        "recent, country"
      ],
      "metadata": {
        "colab": {
          "base_uri": "https://localhost:8080/"
        },
        "id": "-_VdPQRtWpxY",
        "outputId": "6c3c499e-9988-4c15-b118-d7ebb1d5317a"
      },
      "execution_count": 34,
      "outputs": [
        {
          "output_type": "execute_result",
          "data": {
            "text/plain": [
              "('프랑스',\n",
              " ['브라질',\n",
              "  '브라질',\n",
              "  '대한민국',\n",
              "  '아르헨티나',\n",
              "  '미국',\n",
              "  '캐나다',\n",
              "  '멕시코',\n",
              "  '미국',\n",
              "  '캐나다',\n",
              "  '멕시코',\n",
              "  '아르헨티나',\n",
              "  '중국',\n",
              "  '일본',\n",
              "  '일본'])"
            ]
          },
          "metadata": {},
          "execution_count": 34
        }
      ]
    },
    {
      "cell_type": "code",
      "source": [
        "recent = country.pop(1)\n",
        "recent, country"
      ],
      "metadata": {
        "colab": {
          "base_uri": "https://localhost:8080/"
        },
        "id": "9sL4t30mW6M2",
        "outputId": "d74a689c-aaba-444b-da1b-8e21a594ea49"
      },
      "execution_count": 36,
      "outputs": [
        {
          "output_type": "execute_result",
          "data": {
            "text/plain": [
              "('대한민국',\n",
              " ['브라질',\n",
              "  '아르헨티나',\n",
              "  '미국',\n",
              "  '캐나다',\n",
              "  '멕시코',\n",
              "  '미국',\n",
              "  '캐나다',\n",
              "  '멕시코',\n",
              "  '아르헨티나',\n",
              "  '중국',\n",
              "  '일본',\n",
              "  '일본'])"
            ]
          },
          "metadata": {},
          "execution_count": 36
        }
      ]
    },
    {
      "cell_type": "code",
      "source": [
        "country.remove('중국')\n",
        "country"
      ],
      "metadata": {
        "colab": {
          "base_uri": "https://localhost:8080/"
        },
        "id": "jSYUroRMW-DE",
        "outputId": "017f3983-90a6-47e3-aaec-d96efc0751fe"
      },
      "execution_count": 37,
      "outputs": [
        {
          "output_type": "execute_result",
          "data": {
            "text/plain": [
              "['브라질', '아르헨티나', '미국', '캐나다', '멕시코', '미국', '캐나다', '멕시코', '아르헨티나', '일본', '일본']"
            ]
          },
          "metadata": {},
          "execution_count": 37
        }
      ]
    },
    {
      "cell_type": "code",
      "source": [
        "country.remove('미국')"
      ],
      "metadata": {
        "id": "46tivGlDXMiS"
      },
      "execution_count": 38,
      "outputs": []
    },
    {
      "cell_type": "code",
      "source": [
        "country"
      ],
      "metadata": {
        "colab": {
          "base_uri": "https://localhost:8080/"
        },
        "id": "fRHVva-fXSpT",
        "outputId": "8b57cbe7-974f-4d6e-ffa5-dcf2622988d7"
      },
      "execution_count": 39,
      "outputs": [
        {
          "output_type": "execute_result",
          "data": {
            "text/plain": [
              "['브라질', '아르헨티나', '캐나다', '멕시코', '미국', '캐나다', '멕시코', '아르헨티나', '일본', '일본']"
            ]
          },
          "metadata": {},
          "execution_count": 39
        }
      ]
    },
    {
      "cell_type": "code",
      "source": [
        "country.insert(2, \"독일\")\n",
        "country.append(\"독일\")\n",
        "country"
      ],
      "metadata": {
        "colab": {
          "base_uri": "https://localhost:8080/"
        },
        "id": "VyoUoCzQXTMy",
        "outputId": "c5f36e6f-2043-4c0a-8bb8-14d8c9fd6cab"
      },
      "execution_count": 40,
      "outputs": [
        {
          "output_type": "execute_result",
          "data": {
            "text/plain": [
              "['브라질',\n",
              " '아르헨티나',\n",
              " '독일',\n",
              " '캐나다',\n",
              " '멕시코',\n",
              " '미국',\n",
              " '캐나다',\n",
              " '멕시코',\n",
              " '아르헨티나',\n",
              " '일본',\n",
              " '일본',\n",
              " '독일']"
            ]
          },
          "metadata": {},
          "execution_count": 40
        }
      ]
    },
    {
      "cell_type": "code",
      "source": [
        "country.remove('독일')\n",
        "country"
      ],
      "metadata": {
        "colab": {
          "base_uri": "https://localhost:8080/"
        },
        "id": "y-5gdcwBXw07",
        "outputId": "829cdd67-7635-4ed6-b77b-3994457ffd86"
      },
      "execution_count": 41,
      "outputs": [
        {
          "output_type": "execute_result",
          "data": {
            "text/plain": [
              "['브라질', '아르헨티나', '캐나다', '멕시코', '미국', '캐나다', '멕시코', '아르헨티나', '일본', '일본', '독일']"
            ]
          },
          "metadata": {},
          "execution_count": 41
        }
      ]
    },
    {
      "cell_type": "code",
      "source": [
        "# 캐나다 앞에 누락된 손님이 존재한다 -> 미국\n",
        "# 캐나다의 인덱스를 알아서, 그 인덱스에 '미국'을 insert 시켜줘야함 [i:i]\n",
        "country.index('캐나다')"
      ],
      "metadata": {
        "colab": {
          "base_uri": "https://localhost:8080/"
        },
        "id": "D88vB3HSX275",
        "outputId": "377b9cf0-00f2-4cff-a704-caaa44f33ad3"
      },
      "execution_count": 42,
      "outputs": [
        {
          "output_type": "execute_result",
          "data": {
            "text/plain": [
              "2"
            ]
          },
          "metadata": {},
          "execution_count": 42
        }
      ]
    },
    {
      "cell_type": "code",
      "source": [
        "country.insert(2, \"미국\")\n",
        "country"
      ],
      "metadata": {
        "colab": {
          "base_uri": "https://localhost:8080/"
        },
        "id": "9Yq8NaYfYMz0",
        "outputId": "02541c86-521b-4684-d98b-7aaf2117f808"
      },
      "execution_count": 43,
      "outputs": [
        {
          "output_type": "execute_result",
          "data": {
            "text/plain": [
              "['브라질',\n",
              " '아르헨티나',\n",
              " '미국',\n",
              " '캐나다',\n",
              " '멕시코',\n",
              " '미국',\n",
              " '캐나다',\n",
              " '멕시코',\n",
              " '아르헨티나',\n",
              " '일본',\n",
              " '일본',\n",
              " '독일']"
            ]
          },
          "metadata": {},
          "execution_count": 43
        }
      ]
    },
    {
      "cell_type": "code",
      "source": [
        "country.extend([\"몰디브\"] * 10)\n",
        "country"
      ],
      "metadata": {
        "colab": {
          "base_uri": "https://localhost:8080/"
        },
        "id": "Bz-Cr4vqYRlA",
        "outputId": "431168fa-51cd-421f-85c0-1cc918f5dc83"
      },
      "execution_count": 44,
      "outputs": [
        {
          "output_type": "execute_result",
          "data": {
            "text/plain": [
              "['브라질',\n",
              " '아르헨티나',\n",
              " '미국',\n",
              " '캐나다',\n",
              " '멕시코',\n",
              " '미국',\n",
              " '캐나다',\n",
              " '멕시코',\n",
              " '아르헨티나',\n",
              " '일본',\n",
              " '일본',\n",
              " '독일',\n",
              " '몰디브',\n",
              " '몰디브',\n",
              " '몰디브',\n",
              " '몰디브',\n",
              " '몰디브',\n",
              " '몰디브',\n",
              " '몰디브',\n",
              " '몰디브',\n",
              " '몰디브',\n",
              " '몰디브']"
            ]
          },
          "metadata": {},
          "execution_count": 44
        }
      ]
    },
    {
      "cell_type": "code",
      "source": [
        "import random\n",
        "\n",
        "random.randint(1, 20)"
      ],
      "metadata": {
        "colab": {
          "base_uri": "https://localhost:8080/"
        },
        "id": "GWtqpWwEYlPP",
        "outputId": "036aac37-6d43-43fc-a9e2-d12ded39eb92"
      },
      "execution_count": 46,
      "outputs": [
        {
          "output_type": "execute_result",
          "data": {
            "text/plain": [
              "5"
            ]
          },
          "metadata": {},
          "execution_count": 46
        }
      ]
    },
    {
      "cell_type": "code",
      "source": [
        "country.extend([\"괌\"] * random.randint(50, 200))\n",
        "country"
      ],
      "metadata": {
        "colab": {
          "base_uri": "https://localhost:8080/"
        },
        "id": "joH31lXxYvYc",
        "outputId": "0b3931db-a743-4b3a-831f-75a815986169"
      },
      "execution_count": 47,
      "outputs": [
        {
          "output_type": "execute_result",
          "data": {
            "text/plain": [
              "['브라질',\n",
              " '아르헨티나',\n",
              " '미국',\n",
              " '캐나다',\n",
              " '멕시코',\n",
              " '미국',\n",
              " '캐나다',\n",
              " '멕시코',\n",
              " '아르헨티나',\n",
              " '일본',\n",
              " '일본',\n",
              " '독일',\n",
              " '몰디브',\n",
              " '몰디브',\n",
              " '몰디브',\n",
              " '몰디브',\n",
              " '몰디브',\n",
              " '몰디브',\n",
              " '몰디브',\n",
              " '몰디브',\n",
              " '몰디브',\n",
              " '몰디브',\n",
              " '괌',\n",
              " '괌',\n",
              " '괌',\n",
              " '괌',\n",
              " '괌',\n",
              " '괌',\n",
              " '괌',\n",
              " '괌',\n",
              " '괌',\n",
              " '괌',\n",
              " '괌',\n",
              " '괌',\n",
              " '괌',\n",
              " '괌',\n",
              " '괌',\n",
              " '괌',\n",
              " '괌',\n",
              " '괌',\n",
              " '괌',\n",
              " '괌',\n",
              " '괌',\n",
              " '괌',\n",
              " '괌',\n",
              " '괌',\n",
              " '괌',\n",
              " '괌',\n",
              " '괌',\n",
              " '괌',\n",
              " '괌',\n",
              " '괌',\n",
              " '괌',\n",
              " '괌',\n",
              " '괌',\n",
              " '괌',\n",
              " '괌',\n",
              " '괌',\n",
              " '괌',\n",
              " '괌',\n",
              " '괌',\n",
              " '괌',\n",
              " '괌',\n",
              " '괌',\n",
              " '괌',\n",
              " '괌',\n",
              " '괌',\n",
              " '괌',\n",
              " '괌',\n",
              " '괌',\n",
              " '괌',\n",
              " '괌',\n",
              " '괌',\n",
              " '괌',\n",
              " '괌',\n",
              " '괌']"
            ]
          },
          "metadata": {},
          "execution_count": 47
        }
      ]
    },
    {
      "cell_type": "code",
      "source": [
        "country.count(\"괌\")"
      ],
      "metadata": {
        "colab": {
          "base_uri": "https://localhost:8080/"
        },
        "id": "yo2oZXf8Y4FQ",
        "outputId": "993bf273-b5c5-4227-d88e-fe97edb9c14a"
      },
      "execution_count": 49,
      "outputs": [
        {
          "output_type": "execute_result",
          "data": {
            "text/plain": [
              "54"
            ]
          },
          "metadata": {},
          "execution_count": 49
        }
      ]
    },
    {
      "cell_type": "code",
      "source": [
        "country = country[:7]\n",
        "country"
      ],
      "metadata": {
        "colab": {
          "base_uri": "https://localhost:8080/"
        },
        "id": "DOrofXmpZC0I",
        "outputId": "568505c8-f574-4e21-995e-f5588bb94589"
      },
      "execution_count": 50,
      "outputs": [
        {
          "output_type": "execute_result",
          "data": {
            "text/plain": [
              "['브라질', '아르헨티나', '미국', '캐나다', '멕시코', '미국', '캐나다']"
            ]
          },
          "metadata": {},
          "execution_count": 50
        }
      ]
    },
    {
      "cell_type": "code",
      "source": [
        "country.reverse()\n",
        "country"
      ],
      "metadata": {
        "colab": {
          "base_uri": "https://localhost:8080/"
        },
        "id": "7VOrOYRcZJGL",
        "outputId": "b1e22eb0-8ef7-48a1-cf2a-637ccdf75adb"
      },
      "execution_count": 51,
      "outputs": [
        {
          "output_type": "execute_result",
          "data": {
            "text/plain": [
              "['캐나다', '미국', '멕시코', '캐나다', '미국', '아르헨티나', '브라질']"
            ]
          },
          "metadata": {},
          "execution_count": 51
        }
      ]
    },
    {
      "cell_type": "code",
      "source": [
        "list(reversed(country))"
      ],
      "metadata": {
        "colab": {
          "base_uri": "https://localhost:8080/"
        },
        "id": "gSyfsFLEcuS8",
        "outputId": "edddf29a-5a68-4f32-9706-b33557e2fbbb"
      },
      "execution_count": 52,
      "outputs": [
        {
          "output_type": "execute_result",
          "data": {
            "text/plain": [
              "['브라질', '아르헨티나', '미국', '캐나다', '멕시코', '미국', '캐나다']"
            ]
          },
          "metadata": {},
          "execution_count": 52
        }
      ]
    },
    {
      "cell_type": "code",
      "source": [
        "country[::-1]"
      ],
      "metadata": {
        "colab": {
          "base_uri": "https://localhost:8080/"
        },
        "id": "kT2F_MaRcyaW",
        "outputId": "46f6cd2c-9165-48dc-91c5-ed59f8681ce9"
      },
      "execution_count": 53,
      "outputs": [
        {
          "output_type": "execute_result",
          "data": {
            "text/plain": [
              "['브라질', '아르헨티나', '미국', '캐나다', '멕시코', '미국', '캐나다']"
            ]
          },
          "metadata": {},
          "execution_count": 53
        }
      ]
    },
    {
      "cell_type": "code",
      "source": [
        "# 정렬 -> 오름차순, 내림차순, \n",
        "numbers = [random.randint(20, 200) for _ in range(10)]\n",
        "numbers"
      ],
      "metadata": {
        "colab": {
          "base_uri": "https://localhost:8080/"
        },
        "id": "qojVRu1zdZDy",
        "outputId": "b763312a-c125-4364-b2d2-11b7f769c9b1"
      },
      "execution_count": 55,
      "outputs": [
        {
          "output_type": "execute_result",
          "data": {
            "text/plain": [
              "[191, 168, 33, 176, 40, 114, 37, 101, 61, 176]"
            ]
          },
          "metadata": {},
          "execution_count": 55
        }
      ]
    },
    {
      "cell_type": "code",
      "source": [
        "numbers2 = numbers.copy()"
      ],
      "metadata": {
        "id": "q_RFwqR4eYgA"
      },
      "execution_count": 56,
      "outputs": []
    },
    {
      "cell_type": "code",
      "source": [
        "numbers2.sort() # reverse = False\n",
        "numbers2"
      ],
      "metadata": {
        "colab": {
          "base_uri": "https://localhost:8080/"
        },
        "id": "idj6siZOeu8R",
        "outputId": "a11e2d18-088d-4e4a-9f14-877161d8d8e7"
      },
      "execution_count": 57,
      "outputs": [
        {
          "output_type": "execute_result",
          "data": {
            "text/plain": [
              "[33, 37, 40, 61, 101, 114, 168, 176, 176, 191]"
            ]
          },
          "metadata": {},
          "execution_count": 57
        }
      ]
    },
    {
      "cell_type": "code",
      "source": [
        "sorted(numbers), numbers"
      ],
      "metadata": {
        "colab": {
          "base_uri": "https://localhost:8080/"
        },
        "id": "UJ3smYhyex3i",
        "outputId": "4f6c946e-7573-41d2-c764-33cce949190e"
      },
      "execution_count": 58,
      "outputs": [
        {
          "output_type": "execute_result",
          "data": {
            "text/plain": [
              "([33, 37, 40, 61, 101, 114, 168, 176, 176, 191],\n",
              " [191, 168, 33, 176, 40, 114, 37, 101, 61, 176])"
            ]
          },
          "metadata": {},
          "execution_count": 58
        }
      ]
    },
    {
      "cell_type": "code",
      "source": [
        "numbers2.sort(reverse = True)\n",
        "numbers2"
      ],
      "metadata": {
        "colab": {
          "base_uri": "https://localhost:8080/"
        },
        "id": "Km7ap_YWe8yP",
        "outputId": "75f60ccf-0b25-4556-f5b4-976aec0fa9e7"
      },
      "execution_count": 59,
      "outputs": [
        {
          "output_type": "execute_result",
          "data": {
            "text/plain": [
              "[191, 176, 176, 168, 114, 101, 61, 40, 37, 33]"
            ]
          },
          "metadata": {},
          "execution_count": 59
        }
      ]
    },
    {
      "cell_type": "code",
      "source": [
        "sorted(numbers, reverse = True), numbers"
      ],
      "metadata": {
        "colab": {
          "base_uri": "https://localhost:8080/"
        },
        "id": "xhsM3T-MfGxU",
        "outputId": "5840a4b1-d7c9-459c-ab7b-0efa97ea27ef"
      },
      "execution_count": 60,
      "outputs": [
        {
          "output_type": "execute_result",
          "data": {
            "text/plain": [
              "([191, 176, 176, 168, 114, 101, 61, 40, 37, 33],\n",
              " [191, 168, 33, 176, 40, 114, 37, 101, 61, 176])"
            ]
          },
          "metadata": {},
          "execution_count": 60
        }
      ]
    },
    {
      "cell_type": "code",
      "source": [
        "sorted(country), sorted(country, reverse = True)"
      ],
      "metadata": {
        "colab": {
          "base_uri": "https://localhost:8080/"
        },
        "id": "xDIUZrwtfVkV",
        "outputId": "100d83e6-1f68-4444-f08f-d6c5ee3fee79"
      },
      "execution_count": 61,
      "outputs": [
        {
          "output_type": "execute_result",
          "data": {
            "text/plain": [
              "(['멕시코', '미국', '미국', '브라질', '아르헨티나', '캐나다', '캐나다'],\n",
              " ['캐나다', '캐나다', '아르헨티나', '브라질', '미국', '미국', '멕시코'])"
            ]
          },
          "metadata": {},
          "execution_count": 61
        }
      ]
    },
    {
      "cell_type": "code",
      "source": [
        "country2 = country2.copy()\n",
        "country2"
      ],
      "metadata": {
        "colab": {
          "base_uri": "https://localhost:8080/"
        },
        "id": "hyiH1qfJfe3P",
        "outputId": "7839351b-8c1c-4209-8229-9c6bd2d4175a"
      },
      "execution_count": 62,
      "outputs": [
        {
          "output_type": "execute_result",
          "data": {
            "text/plain": [
              "['중국']"
            ]
          },
          "metadata": {},
          "execution_count": 62
        }
      ]
    },
    {
      "cell_type": "code",
      "source": [
        "country2.clear()"
      ],
      "metadata": {
        "id": "FEp31dREfiSb"
      },
      "execution_count": 63,
      "outputs": []
    },
    {
      "cell_type": "code",
      "source": [
        "country2"
      ],
      "metadata": {
        "colab": {
          "base_uri": "https://localhost:8080/"
        },
        "id": "WcN57zUufkRQ",
        "outputId": "938b2025-a3e6-47ee-e25f-892f177dccf1"
      },
      "execution_count": 64,
      "outputs": [
        {
          "output_type": "execute_result",
          "data": {
            "text/plain": [
              "[]"
            ]
          },
          "metadata": {},
          "execution_count": 64
        }
      ]
    },
    {
      "cell_type": "code",
      "source": [
        "country2 = country.copy()\n",
        "country2"
      ],
      "metadata": {
        "colab": {
          "base_uri": "https://localhost:8080/"
        },
        "id": "DGZr4hDQfn5w",
        "outputId": "732dd5e0-b2f4-4955-cf60-6d7e4f18ee49"
      },
      "execution_count": 65,
      "outputs": [
        {
          "output_type": "execute_result",
          "data": {
            "text/plain": [
              "['캐나다', '미국', '멕시코', '캐나다', '미국', '아르헨티나', '브라질']"
            ]
          },
          "metadata": {},
          "execution_count": 65
        }
      ]
    },
    {
      "cell_type": "code",
      "source": [
        "del country2[:]\n",
        "country2"
      ],
      "metadata": {
        "colab": {
          "base_uri": "https://localhost:8080/"
        },
        "id": "cGghG4ivftNR",
        "outputId": "1aa549d8-0785-4958-fbcb-f05ca3cbf634"
      },
      "execution_count": 66,
      "outputs": [
        {
          "output_type": "execute_result",
          "data": {
            "text/plain": [
              "[]"
            ]
          },
          "metadata": {},
          "execution_count": 66
        }
      ]
    },
    {
      "cell_type": "code",
      "source": [
        "for c in country:\n",
        "# for country in country:\n",
        "    print(c)"
      ],
      "metadata": {
        "colab": {
          "base_uri": "https://localhost:8080/"
        },
        "id": "og0XiBkUfvkN",
        "outputId": "526d8bc9-4ca8-44bb-829d-8cf0ce71be09"
      },
      "execution_count": 67,
      "outputs": [
        {
          "output_type": "stream",
          "name": "stdout",
          "text": [
            "캐나다\n",
            "미국\n",
            "멕시코\n",
            "캐나다\n",
            "미국\n",
            "아르헨티나\n",
            "브라질\n"
          ]
        }
      ]
    },
    {
      "cell_type": "code",
      "source": [
        "for c in sorted(country):\n",
        "# for country in country:\n",
        "    print(c)"
      ],
      "metadata": {
        "colab": {
          "base_uri": "https://localhost:8080/"
        },
        "id": "3l5TRR0ff_pC",
        "outputId": "433edfe6-ea76-4296-abab-a7dd3efcbdca"
      },
      "execution_count": 68,
      "outputs": [
        {
          "output_type": "stream",
          "name": "stdout",
          "text": [
            "멕시코\n",
            "미국\n",
            "미국\n",
            "브라질\n",
            "아르헨티나\n",
            "캐나다\n",
            "캐나다\n"
          ]
        }
      ]
    },
    {
      "cell_type": "code",
      "source": [
        "for c in country[::-1]:\n",
        "# for country in country:\n",
        "    print(c)"
      ],
      "metadata": {
        "colab": {
          "base_uri": "https://localhost:8080/"
        },
        "id": "HNbQYu0rgGCa",
        "outputId": "c647948f-775f-4414-ec97-ab550217be18"
      },
      "execution_count": 69,
      "outputs": [
        {
          "output_type": "stream",
          "name": "stdout",
          "text": [
            "브라질\n",
            "아르헨티나\n",
            "미국\n",
            "캐나다\n",
            "멕시코\n",
            "미국\n",
            "캐나다\n"
          ]
        }
      ]
    },
    {
      "cell_type": "code",
      "source": [
        "for i in enumerate(country): \n",
        "    print(i)"
      ],
      "metadata": {
        "colab": {
          "base_uri": "https://localhost:8080/"
        },
        "id": "3oR7lU5ggK6W",
        "outputId": "b4d073f5-ee0b-4b1b-dd07-64ec81a99bfe"
      },
      "execution_count": 72,
      "outputs": [
        {
          "output_type": "stream",
          "name": "stdout",
          "text": [
            "(0, '캐나다')\n",
            "(1, '미국')\n",
            "(2, '멕시코')\n",
            "(3, '캐나다')\n",
            "(4, '미국')\n",
            "(5, '아르헨티나')\n",
            "(6, '브라질')\n"
          ]
        }
      ]
    },
    {
      "cell_type": "code",
      "source": [
        "for idx, val in enumerate(country): \n",
        "    print(idx, val)"
      ],
      "metadata": {
        "colab": {
          "base_uri": "https://localhost:8080/"
        },
        "id": "kQpcDe-TgVPA",
        "outputId": "94887cde-2f36-46cb-c2c6-0690f787b289"
      },
      "execution_count": 74,
      "outputs": [
        {
          "output_type": "stream",
          "name": "stdout",
          "text": [
            "0 캐나다\n",
            "1 미국\n",
            "2 멕시코\n",
            "3 캐나다\n",
            "4 미국\n",
            "5 아르헨티나\n",
            "6 브라질\n"
          ]
        }
      ]
    },
    {
      "cell_type": "code",
      "source": [
        "for idx, val in enumerate(country): \n",
        "    # if idx % 2 == 0:\n",
        "    # if not(idx % 2):\n",
        "    #    print(idx, val)\n",
        "    if idx % 2: # 0보다 크다\n",
        "        continue\n",
        "    print(idx, val)"
      ],
      "metadata": {
        "colab": {
          "base_uri": "https://localhost:8080/"
        },
        "id": "03G5tnBFghLp",
        "outputId": "deffea1a-9628-4ac3-fc16-80cbd35e736f"
      },
      "execution_count": 75,
      "outputs": [
        {
          "output_type": "stream",
          "name": "stdout",
          "text": [
            "0 캐나다\n",
            "2 멕시코\n",
            "4 미국\n",
            "6 브라질\n"
          ]
        }
      ]
    },
    {
      "cell_type": "code",
      "source": [
        "for idx, val in enumerate(country): \n",
        "    if len(val) == 2:\n",
        "        print(idx, val)\n",
        "        break\n",
        "    print(\"진행 ...\", val)"
      ],
      "metadata": {
        "colab": {
          "base_uri": "https://localhost:8080/"
        },
        "id": "Q3jPFt0mhCN_",
        "outputId": "ebf9956e-8bdc-4e3e-ff50-ca4f87438052"
      },
      "execution_count": 79,
      "outputs": [
        {
          "output_type": "stream",
          "name": "stdout",
          "text": [
            "진행 ... 캐나다\n",
            "1 미국\n"
          ]
        }
      ]
    },
    {
      "cell_type": "code",
      "source": [
        "numbers"
      ],
      "metadata": {
        "colab": {
          "base_uri": "https://localhost:8080/"
        },
        "id": "DDzabIJlhawd",
        "outputId": "6f3889ba-37e6-4775-b7aa-8394c52cc19b"
      },
      "execution_count": 80,
      "outputs": [
        {
          "output_type": "execute_result",
          "data": {
            "text/plain": [
              "[191, 168, 33, 176, 40, 114, 37, 101, 61, 176]"
            ]
          },
          "metadata": {},
          "execution_count": 80
        }
      ]
    },
    {
      "cell_type": "code",
      "source": [
        "lotto = random.choices(range(1, 46), k = 6)\n",
        "lotto"
      ],
      "metadata": {
        "colab": {
          "base_uri": "https://localhost:8080/"
        },
        "id": "PKEaOeO5hiEZ",
        "outputId": "5e2251be-8ca2-49f4-f297-64c718411c10"
      },
      "execution_count": 102,
      "outputs": [
        {
          "output_type": "execute_result",
          "data": {
            "text/plain": [
              "[10, 10, 39, 22, 42, 4]"
            ]
          },
          "metadata": {},
          "execution_count": 102
        }
      ]
    },
    {
      "cell_type": "code",
      "source": [
        "max(lotto), min(lotto), sum(lotto)"
      ],
      "metadata": {
        "colab": {
          "base_uri": "https://localhost:8080/"
        },
        "id": "UQrUXvzqh9yu",
        "outputId": "029ac187-04bb-4913-ac7e-32ff85b30e16"
      },
      "execution_count": 103,
      "outputs": [
        {
          "output_type": "execute_result",
          "data": {
            "text/plain": [
              "(42, 4, 127)"
            ]
          },
          "metadata": {},
          "execution_count": 103
        }
      ]
    },
    {
      "cell_type": "code",
      "source": [
        "rc = random.choices(range(1, 21), k = 20)\n",
        "rc"
      ],
      "metadata": {
        "colab": {
          "base_uri": "https://localhost:8080/"
        },
        "id": "FuVrgLxQiDQy",
        "outputId": "fc34fd1f-7966-460c-a5c3-73b5679e23e6"
      },
      "execution_count": 104,
      "outputs": [
        {
          "output_type": "execute_result",
          "data": {
            "text/plain": [
              "[7, 4, 13, 5, 6, 2, 4, 15, 7, 15, 8, 15, 18, 14, 14, 20, 5, 16, 17, 16]"
            ]
          },
          "metadata": {},
          "execution_count": 104
        }
      ]
    },
    {
      "cell_type": "code",
      "source": [
        "lunch = [(rc[i], rc[i+1]) for i in range(0, len(rc), 2)]\n",
        "lunch"
      ],
      "metadata": {
        "colab": {
          "base_uri": "https://localhost:8080/"
        },
        "id": "bMGzqLWaibN_",
        "outputId": "0a0d3848-854e-4801-f890-c16841a4e24d"
      },
      "execution_count": 105,
      "outputs": [
        {
          "output_type": "execute_result",
          "data": {
            "text/plain": [
              "[(7, 4),\n",
              " (13, 5),\n",
              " (6, 2),\n",
              " (4, 15),\n",
              " (7, 15),\n",
              " (8, 15),\n",
              " (18, 14),\n",
              " (14, 20),\n",
              " (5, 16),\n",
              " (17, 16)]"
            ]
          },
          "metadata": {},
          "execution_count": 105
        }
      ]
    },
    {
      "cell_type": "code",
      "source": [
        "# 랜덤으로 뽑은 20명의 번호를, 2명씩 묶고 싶다\n",
        "lunch2 = []\n",
        "for i in range(0, len(rc), 2): # 20명이 랜덤하게 뽑힌 리스트를 for 문으로 반복, 0부터 시작하고, 전체길이의, 증가폭 2인 range\n",
        "    lunch2.append(rc[i])# 인덱스가 짝수번째인 값\n",
        "    lunch2.append(rc[i+1])# 인덱스가 홀수번째인 값\n",
        "    tmp = (rc[i], rc[i+1])\n",
        "    lunch2.append(tmp)\n",
        "lunch2\n"
      ],
      "metadata": {
        "colab": {
          "base_uri": "https://localhost:8080/"
        },
        "id": "5__x9foGjCvf",
        "outputId": "c40ddfc8-920c-4753-f802-8983ec81b036"
      },
      "execution_count": 106,
      "outputs": [
        {
          "output_type": "execute_result",
          "data": {
            "text/plain": [
              "[7,\n",
              " 4,\n",
              " (7, 4),\n",
              " 13,\n",
              " 5,\n",
              " (13, 5),\n",
              " 6,\n",
              " 2,\n",
              " (6, 2),\n",
              " 4,\n",
              " 15,\n",
              " (4, 15),\n",
              " 7,\n",
              " 15,\n",
              " (7, 15),\n",
              " 8,\n",
              " 15,\n",
              " (8, 15),\n",
              " 18,\n",
              " 14,\n",
              " (18, 14),\n",
              " 14,\n",
              " 20,\n",
              " (14, 20),\n",
              " 5,\n",
              " 16,\n",
              " (5, 16),\n",
              " 17,\n",
              " 16,\n",
              " (17, 16)]"
            ]
          },
          "metadata": {},
          "execution_count": 106
        }
      ]
    },
    {
      "cell_type": "code",
      "source": [
        "# 랜덤으로 뽑은 20명의 번호를, 2명씩 묶고 싶다\n",
        "lunch3 = []\n",
        "for i in range(0, len(rc)): # 20명이 랜덤하게 뽑힌 리스트를 for 문으로 반복, 0부터 시작하고, 전체길이의, 증가폭 2인 range\n",
        "    # lunch3.append(rc[i])# 인덱스가 짝수번째인 값\n",
        "    # lunch3.append(rc[i+1])# 인덱스가 홀수번째인 값\n",
        "    # tmp = (rc[i], rc[i+1])\n",
        "    # if i % 2: # i % 2: 짝수가 아니다 -> 나머지가 1 나오면 True -> 홀수 일때\n",
        "    #     continue\n",
        "    # tmp = (rc[i], rc[i+1])\n",
        "    # lunch3.append(tmp) \n",
        "    if not i % 2: # i % 2: 짝수가 아니다 -> 나머지가 1 나오면 True -> 홀수 일때\n",
        "        lunch3.append(tmp) \n",
        "lunch3\n"
      ],
      "metadata": {
        "colab": {
          "base_uri": "https://localhost:8080/"
        },
        "id": "BQdZKv7OkAjB",
        "outputId": "4198a628-f9be-4758-e8af-39463015fed9"
      },
      "execution_count": 107,
      "outputs": [
        {
          "output_type": "execute_result",
          "data": {
            "text/plain": [
              "[(17, 16),\n",
              " (17, 16),\n",
              " (17, 16),\n",
              " (17, 16),\n",
              " (17, 16),\n",
              " (17, 16),\n",
              " (17, 16),\n",
              " (17, 16),\n",
              " (17, 16),\n",
              " (17, 16)]"
            ]
          },
          "metadata": {},
          "execution_count": 107
        }
      ]
    },
    {
      "cell_type": "code",
      "source": [
        "lunch = [(rc[i], rc[i+1]) for i in range(len(rc)) if i % 2 == 0]\n",
        "lunch = [(rc[i], rc[i+1]) for i in range(len(rc)) if not i % 2]\n",
        "lunch"
      ],
      "metadata": {
        "colab": {
          "base_uri": "https://localhost:8080/"
        },
        "id": "vJ8waXm2koZX",
        "outputId": "5492d6d0-24be-458f-b417-233db04a2e6f"
      },
      "execution_count": 109,
      "outputs": [
        {
          "output_type": "execute_result",
          "data": {
            "text/plain": [
              "[(7, 4),\n",
              " (13, 5),\n",
              " (6, 2),\n",
              " (4, 15),\n",
              " (7, 15),\n",
              " (8, 15),\n",
              " (18, 14),\n",
              " (14, 20),\n",
              " (5, 16),\n",
              " (17, 16)]"
            ]
          },
          "metadata": {},
          "execution_count": 109
        }
      ]
    },
    {
      "cell_type": "markdown",
      "source": [
        "# 문자열"
      ],
      "metadata": {
        "id": "4KT3a24kla5C"
      }
    },
    {
      "cell_type": "code",
      "source": [
        "s = \"오늘의 점심은 돈까스입니다.\"\n",
        "s"
      ],
      "metadata": {
        "colab": {
          "base_uri": "https://localhost:8080/",
          "height": 35
        },
        "id": "0cxC-LoglcsT",
        "outputId": "bc1a967b-2747-4a66-aaba-50d43a88249b"
      },
      "execution_count": 111,
      "outputs": [
        {
          "output_type": "execute_result",
          "data": {
            "text/plain": [
              "'오늘의 점심은 돈까스입니다.'"
            ],
            "application/vnd.google.colaboratory.intrinsic+json": {
              "type": "string"
            }
          },
          "metadata": {},
          "execution_count": 111
        }
      ]
    },
    {
      "cell_type": "code",
      "source": [
        "s.replace(\"점심\", \"저녁\"), s"
      ],
      "metadata": {
        "colab": {
          "base_uri": "https://localhost:8080/"
        },
        "id": "R7ueqy3elhb5",
        "outputId": "8ce69da6-3e48-4138-9fb7-fc7f03ffcdbd"
      },
      "execution_count": 114,
      "outputs": [
        {
          "output_type": "execute_result",
          "data": {
            "text/plain": [
              "('오늘의 저녁은 돈까스입니다.', '오늘의 점심은 돈까스입니다.')"
            ]
          },
          "metadata": {},
          "execution_count": 114
        }
      ]
    },
    {
      "cell_type": "code",
      "source": [
        "s2 = \"오늘의 점심은 돈까스입니다, 오늘의 저녁은 돈까스입니다.\"\n",
        "s2"
      ],
      "metadata": {
        "colab": {
          "base_uri": "https://localhost:8080/",
          "height": 35
        },
        "id": "7-L2Ou0llt9q",
        "outputId": "073e7fea-f924-41a2-c2de-607ff12a729a"
      },
      "execution_count": 115,
      "outputs": [
        {
          "output_type": "execute_result",
          "data": {
            "text/plain": [
              "'오늘의 점심은 돈까스입니다, 오늘의 저녁은 돈까스입니다.'"
            ],
            "application/vnd.google.colaboratory.intrinsic+json": {
              "type": "string"
            }
          },
          "metadata": {},
          "execution_count": 115
        }
      ]
    },
    {
      "cell_type": "code",
      "source": [
        "s2.replace(\"돈까스\", \"파스타\"), s2"
      ],
      "metadata": {
        "colab": {
          "base_uri": "https://localhost:8080/"
        },
        "id": "-XaC-NJxl2L-",
        "outputId": "abeaad4f-d709-4be8-fbd7-555296c1bb4b"
      },
      "execution_count": 118,
      "outputs": [
        {
          "output_type": "execute_result",
          "data": {
            "text/plain": [
              "('오늘의 점심은 파스타입니다, 오늘의 저녁은 파스타입니다.', '오늘의 점심은 돈까스입니다, 오늘의 저녁은 돈까스입니다.')"
            ]
          },
          "metadata": {},
          "execution_count": 118
        }
      ]
    },
    {
      "cell_type": "code",
      "source": [
        "s2.replace(\"돈까스\", \"파스타\", 1)"
      ],
      "metadata": {
        "colab": {
          "base_uri": "https://localhost:8080/",
          "height": 35
        },
        "id": "JfhKfwvdmCzc",
        "outputId": "e38370a0-f1fc-4402-9dd7-765763d6834d"
      },
      "execution_count": 119,
      "outputs": [
        {
          "output_type": "execute_result",
          "data": {
            "text/plain": [
              "'오늘의 점심은 파스타입니다, 오늘의 저녁은 돈까스입니다.'"
            ],
            "application/vnd.google.colaboratory.intrinsic+json": {
              "type": "string"
            }
          },
          "metadata": {},
          "execution_count": 119
        }
      ]
    },
    {
      "cell_type": "code",
      "source": [
        "txt = \"비트코인 이더리움 리플\"\n",
        "txt.split(), txt # sep = 구분자 => ' '"
      ],
      "metadata": {
        "colab": {
          "base_uri": "https://localhost:8080/"
        },
        "id": "voT6b4kWmJSv",
        "outputId": "b77072ab-51f8-4c7a-ddbe-9f624c5b6727"
      },
      "execution_count": 120,
      "outputs": [
        {
          "output_type": "execute_result",
          "data": {
            "text/plain": [
              "(['비트코인', '이더리움', '리플'], '비트코인 이더리움 리플')"
            ]
          },
          "metadata": {},
          "execution_count": 120
        }
      ]
    },
    {
      "cell_type": "code",
      "source": [
        "txt2 = \"비트코인,이더리움,리플\"\n",
        "txt2.split(', '), txt2.split(sep = ',')"
      ],
      "metadata": {
        "colab": {
          "base_uri": "https://localhost:8080/"
        },
        "id": "Cp_dKAbZmUIn",
        "outputId": "03639026-dd26-4cec-ce18-e3fd1066286d"
      },
      "execution_count": 121,
      "outputs": [
        {
          "output_type": "execute_result",
          "data": {
            "text/plain": [
              "(['비트코인,이더리움,리플'], ['비트코인', '이더리움', '리플'])"
            ]
          },
          "metadata": {},
          "execution_count": 121
        }
      ]
    },
    {
      "cell_type": "code",
      "source": [
        "txt.split('')"
      ],
      "metadata": {
        "colab": {
          "base_uri": "https://localhost:8080/",
          "height": 172
        },
        "id": "ifBSqQeKmmRF",
        "outputId": "2d408714-c65e-4d46-fd46-668259d8284c"
      },
      "execution_count": 122,
      "outputs": [
        {
          "output_type": "error",
          "ename": "ValueError",
          "evalue": "ignored",
          "traceback": [
            "\u001b[0;31m---------------------------------------------------------------------------\u001b[0m",
            "\u001b[0;31mValueError\u001b[0m                                Traceback (most recent call last)",
            "\u001b[0;32m<ipython-input-122-8a8c7561b326>\u001b[0m in \u001b[0;36m<module>\u001b[0;34m\u001b[0m\n\u001b[0;32m----> 1\u001b[0;31m \u001b[0mtxt\u001b[0m\u001b[0;34m.\u001b[0m\u001b[0msplit\u001b[0m\u001b[0;34m(\u001b[0m\u001b[0;34m''\u001b[0m\u001b[0;34m)\u001b[0m\u001b[0;34m\u001b[0m\u001b[0;34m\u001b[0m\u001b[0m\n\u001b[0m",
            "\u001b[0;31mValueError\u001b[0m: empty separator"
          ]
        }
      ]
    },
    {
      "cell_type": "code",
      "source": [
        "[i for i in s] # 리스트 컴프리헨션하면 -> 문자열이 한 글자씩 쪼개진 글자가 됨"
      ],
      "metadata": {
        "colab": {
          "base_uri": "https://localhost:8080/"
        },
        "id": "a50DHu8mmr20",
        "outputId": "163307dc-90df-478e-dfc7-4c2f58440445"
      },
      "execution_count": 123,
      "outputs": [
        {
          "output_type": "execute_result",
          "data": {
            "text/plain": [
              "['오', '늘', '의', ' ', '점', '심', '은', ' ', '돈', '까', '스', '입', '니', '다', '.']"
            ]
          },
          "metadata": {},
          "execution_count": 123
        }
      ]
    },
    {
      "cell_type": "code",
      "source": [
        "sep = [i for i in s]\n",
        "sep"
      ],
      "metadata": {
        "colab": {
          "base_uri": "https://localhost:8080/"
        },
        "id": "WN7Tgi-4my1v",
        "outputId": "9be9774b-c64a-447e-fe27-1b9a81474a05"
      },
      "execution_count": 124,
      "outputs": [
        {
          "output_type": "execute_result",
          "data": {
            "text/plain": [
              "['오', '늘', '의', ' ', '점', '심', '은', ' ', '돈', '까', '스', '입', '니', '다', '.']"
            ]
          },
          "metadata": {},
          "execution_count": 124
        }
      ]
    },
    {
      "cell_type": "code",
      "source": [
        "sep.join(\"\")"
      ],
      "metadata": {
        "colab": {
          "base_uri": "https://localhost:8080/",
          "height": 172
        },
        "id": "7AEw_25_m5O2",
        "outputId": "b04000c6-3e00-4994-ce25-e89bfa8ea0e5"
      },
      "execution_count": 125,
      "outputs": [
        {
          "output_type": "error",
          "ename": "AttributeError",
          "evalue": "ignored",
          "traceback": [
            "\u001b[0;31m---------------------------------------------------------------------------\u001b[0m",
            "\u001b[0;31mAttributeError\u001b[0m                            Traceback (most recent call last)",
            "\u001b[0;32m<ipython-input-125-abed9e2ba3e3>\u001b[0m in \u001b[0;36m<module>\u001b[0;34m\u001b[0m\n\u001b[0;32m----> 1\u001b[0;31m \u001b[0msep\u001b[0m\u001b[0;34m.\u001b[0m\u001b[0mjoin\u001b[0m\u001b[0;34m(\u001b[0m\u001b[0;34m\"\"\u001b[0m\u001b[0;34m)\u001b[0m\u001b[0;34m\u001b[0m\u001b[0;34m\u001b[0m\u001b[0m\n\u001b[0m",
            "\u001b[0;31mAttributeError\u001b[0m: 'list' object has no attribute 'join'"
          ]
        }
      ]
    },
    {
      "cell_type": "code",
      "source": [
        "\"\".join(sep)"
      ],
      "metadata": {
        "colab": {
          "base_uri": "https://localhost:8080/",
          "height": 35
        },
        "id": "3VlvJyRWm7eo",
        "outputId": "f8934241-6783-4a7f-abc8-ef56b95fc78c"
      },
      "execution_count": 126,
      "outputs": [
        {
          "output_type": "execute_result",
          "data": {
            "text/plain": [
              "'오늘의 점심은 돈까스입니다.'"
            ],
            "application/vnd.google.colaboratory.intrinsic+json": {
              "type": "string"
            }
          },
          "metadata": {},
          "execution_count": 126
        }
      ]
    },
    {
      "cell_type": "code",
      "source": [
        "\";\".join(sep)"
      ],
      "metadata": {
        "colab": {
          "base_uri": "https://localhost:8080/",
          "height": 35
        },
        "id": "XRAibiPMm9ZS",
        "outputId": "553a676a-d907-448f-9115-c4d00482d86f"
      },
      "execution_count": 128,
      "outputs": [
        {
          "output_type": "execute_result",
          "data": {
            "text/plain": [
              "'오;늘;의; ;점;심;은; ;돈;까;스;입;니;다;.'"
            ],
            "application/vnd.google.colaboratory.intrinsic+json": {
              "type": "string"
            }
          },
          "metadata": {},
          "execution_count": 128
        }
      ]
    },
    {
      "cell_type": "code",
      "source": [
        "\"$\".join(sep)"
      ],
      "metadata": {
        "colab": {
          "base_uri": "https://localhost:8080/",
          "height": 35
        },
        "id": "TCnouy9ZnD9v",
        "outputId": "fe1442b5-b12b-49a4-bab0-986959e12758"
      },
      "execution_count": 129,
      "outputs": [
        {
          "output_type": "execute_result",
          "data": {
            "text/plain": [
              "'오$늘$의$ $점$심$은$ $돈$까$스$입$니$다$.'"
            ],
            "application/vnd.google.colaboratory.intrinsic+json": {
              "type": "string"
            }
          },
          "metadata": {},
          "execution_count": 129
        }
      ]
    },
    {
      "cell_type": "code",
      "source": [
        "a = \"JamesPotato\"\n",
        "a.upper(), a.lower()"
      ],
      "metadata": {
        "colab": {
          "base_uri": "https://localhost:8080/"
        },
        "id": "yhE27ZGxnLUU",
        "outputId": "6633b673-1c91-4f0c-b4bb-366b64a02c30"
      },
      "execution_count": 130,
      "outputs": [
        {
          "output_type": "execute_result",
          "data": {
            "text/plain": [
              "('JAMESPOTATO', 'jamespotato')"
            ]
          },
          "metadata": {},
          "execution_count": 130
        }
      ]
    },
    {
      "cell_type": "code",
      "source": [
        "space = \"             공백이 많다                    \"\n",
        "space.strip(), space.listrip(), space.rstrip()"
      ],
      "metadata": {
        "colab": {
          "base_uri": "https://localhost:8080/",
          "height": 190
        },
        "id": "yG5QgdQinTcH",
        "outputId": "26c77b86-d3dd-4c9e-f9b6-67df8f99e236"
      },
      "execution_count": 131,
      "outputs": [
        {
          "output_type": "error",
          "ename": "AttributeError",
          "evalue": "ignored",
          "traceback": [
            "\u001b[0;31m---------------------------------------------------------------------------\u001b[0m",
            "\u001b[0;31mAttributeError\u001b[0m                            Traceback (most recent call last)",
            "\u001b[0;32m<ipython-input-131-36bfd82064cf>\u001b[0m in \u001b[0;36m<module>\u001b[0;34m\u001b[0m\n\u001b[1;32m      1\u001b[0m \u001b[0mspace\u001b[0m \u001b[0;34m=\u001b[0m \u001b[0;34m\"             공백이 많다                    \"\u001b[0m\u001b[0;34m\u001b[0m\u001b[0;34m\u001b[0m\u001b[0m\n\u001b[0;32m----> 2\u001b[0;31m \u001b[0mspace\u001b[0m\u001b[0;34m.\u001b[0m\u001b[0mstrip\u001b[0m\u001b[0;34m(\u001b[0m\u001b[0;34m)\u001b[0m\u001b[0;34m,\u001b[0m \u001b[0mspace\u001b[0m\u001b[0;34m.\u001b[0m\u001b[0mlistrip\u001b[0m\u001b[0;34m(\u001b[0m\u001b[0;34m)\u001b[0m\u001b[0;34m,\u001b[0m \u001b[0mspace\u001b[0m\u001b[0;34m.\u001b[0m\u001b[0mrstrip\u001b[0m\u001b[0;34m(\u001b[0m\u001b[0;34m)\u001b[0m\u001b[0;34m\u001b[0m\u001b[0;34m\u001b[0m\u001b[0m\n\u001b[0m",
            "\u001b[0;31mAttributeError\u001b[0m: 'str' object has no attribute 'listrip'"
          ]
        }
      ]
    },
    {
      "cell_type": "code",
      "source": [
        "a = \"35\"\n",
        "a.zfill(6)"
      ],
      "metadata": {
        "colab": {
          "base_uri": "https://localhost:8080/",
          "height": 35
        },
        "id": "EqYTuzUWnebZ",
        "outputId": "e5f3637b-4766-4715-805f-fe99f6023d3c"
      },
      "execution_count": 133,
      "outputs": [
        {
          "output_type": "execute_result",
          "data": {
            "text/plain": [
              "'000035'"
            ],
            "application/vnd.google.colaboratory.intrinsic+json": {
              "type": "string"
            }
          },
          "metadata": {},
          "execution_count": 133
        }
      ]
    },
    {
      "cell_type": "code",
      "source": [
        "s = \"안녕 나는 지리산 감자야\"\n",
        "s.find(\"감자\")"
      ],
      "metadata": {
        "colab": {
          "base_uri": "https://localhost:8080/"
        },
        "id": "Yuznu6xWnh4w",
        "outputId": "cb990eaf-603a-4b9e-c319-c2516bc979f8"
      },
      "execution_count": 134,
      "outputs": [
        {
          "output_type": "execute_result",
          "data": {
            "text/plain": [
              "10"
            ]
          },
          "metadata": {},
          "execution_count": 134
        }
      ]
    },
    {
      "cell_type": "code",
      "source": [
        "s = \"안녕, 속리산 감자야! 나는 지리산 감자야\"\n",
        "s.find(\"감자\")"
      ],
      "metadata": {
        "colab": {
          "base_uri": "https://localhost:8080/"
        },
        "id": "524ZSgSwnqcf",
        "outputId": "9d65e272-ca3d-41ed-cc6e-5e7779e5a36a"
      },
      "execution_count": 135,
      "outputs": [
        {
          "output_type": "execute_result",
          "data": {
            "text/plain": [
              "8"
            ]
          },
          "metadata": {},
          "execution_count": 135
        }
      ]
    },
    {
      "cell_type": "code",
      "source": [
        "s = \"안녕, 속리산 감자야! 나는 지리산 감자야\"\n",
        "s.find(\"고구마\")"
      ],
      "metadata": {
        "colab": {
          "base_uri": "https://localhost:8080/"
        },
        "id": "qO-EpWBdoEbu",
        "outputId": "eabb1f21-92fb-4adb-9369-d4a81d462938"
      },
      "execution_count": 136,
      "outputs": [
        {
          "output_type": "execute_result",
          "data": {
            "text/plain": [
              "-1"
            ]
          },
          "metadata": {},
          "execution_count": 136
        }
      ]
    },
    {
      "cell_type": "code",
      "source": [
        "s = \"안녕, 속리산 감자야! 나는 지리산 감자야\"\n",
        "s.count(\"감자\")"
      ],
      "metadata": {
        "colab": {
          "base_uri": "https://localhost:8080/"
        },
        "id": "rKQsRDdWoFrr",
        "outputId": "52120a2e-14dd-4b83-d2ea-574e998cb388"
      },
      "execution_count": 137,
      "outputs": [
        {
          "output_type": "execute_result",
          "data": {
            "text/plain": [
              "2"
            ]
          },
          "metadata": {},
          "execution_count": 137
        }
      ]
    },
    {
      "cell_type": "code",
      "source": [
        "s = \"안녕, 속리산 감자야! 나는 지리산 감자야\"\n",
        "s.count(\"고구마\")"
      ],
      "metadata": {
        "id": "dRawhvHvoHmi"
      },
      "execution_count": null,
      "outputs": []
    }
  ]
}