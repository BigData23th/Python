{
  "nbformat": 4,
  "nbformat_minor": 0,
  "metadata": {
    "colab": {
      "provenance": [],
      "authorship_tag": "ABX9TyMPdx/YPpwAne5uigRbcpXM",
      "include_colab_link": true
    },
    "kernelspec": {
      "name": "python3",
      "display_name": "Python 3"
    },
    "language_info": {
      "name": "python"
    }
  },
  "cells": [
    {
      "cell_type": "markdown",
      "metadata": {
        "id": "view-in-github",
        "colab_type": "text"
      },
      "source": [
        "<a href=\"https://colab.research.google.com/github/cc5547/Python/blob/main/submission/cc5547/ch01_03_%EB%A7%88%ED%81%AC%EB%8B%A4%EC%9A%B4.ipynb\" target=\"_parent\"><img src=\"https://colab.research.google.com/assets/colab-badge.svg\" alt=\"Open In Colab\"/></a>"
      ]
    },
    {
      "cell_type": "markdown",
      "source": [
        "# 제목 (Headline)\n",
        "## 2단계 제목\n",
        "### 3단계 제목\n",
        "#### 4단계\n",
        "##### 5단계"
      ],
      "metadata": {
        "id": "Q2m_KlVw7NnO"
      }
    },
    {
      "cell_type": "markdown",
      "source": [
        "수평선\n",
        "---\n",
        "텍스트에 ---를 바로 붙이면 `#`과 같은 효과\n",
        "\n",
        "(수평선)\n",
        "\n",
        "---"
      ],
      "metadata": {
        "id": "oKzqdjA87aAn"
      }
    },
    {
      "cell_type": "markdown",
      "source": [
        "줄바꿈<br>줄바꿈"
      ],
      "metadata": {
        "id": "ySihOos3NnJX"
      }
    },
    {
      "cell_type": "markdown",
      "source": [
        "**굵게**\n",
        "*기울게*\n",
        "__굵게__\n",
        "_기울게_\n",
        "~~취소선~~\n",
        "<u>밑줄</u>\n",
        "<mark>형광펜</mark>"
      ],
      "metadata": {
        "id": "o-F9ibwMOBAl"
      }
    },
    {
      "cell_type": "markdown",
      "source": [
        "> 인용문\n",
        ">> 인용문 안에 인용문\n",
        ">>> 인용문 안에 인용문 안에 인용문\n",
        ">>>> 인용문 안에 인용문 안에 인용문 안에 인용문"
      ],
      "metadata": {
        "id": "oJIdGMjEOEwT"
      }
    },
    {
      "cell_type": "markdown",
      "source": [
        "순서가 없는 리스트\n",
        "* 사과\n",
        "* 배\n",
        "* 자두\n",
        "\n",
        "순서가 있는 리스트\n",
        "1. 파이썬\n",
        "2. 자바\n",
        "3. SQL\n",
        "\n",
        "순서가 있는 리스트2\n",
        "1. 파이썬\n",
        "1. 자바\n",
        "1. SQL\n",
        "\n",
        "들여쓰기\n",
        "* 사과\n",
        "    * 껍질\n",
        "        * 볶음\n",
        "* 위\n",
        "        아래 (Tab x 2 = 코드블록)\n",
        "        **굵게**\n",
        "\n",
        "코드블록 -> 이 안에 꾸며주는 마크다운 문법 무시"
      ],
      "metadata": {
        "id": "2k2GSIuDOKsU"
      }
    },
    {
      "cell_type": "markdown",
      "source": [
        "코드 블록\n",
        "\n",
        "한 줄 코드\n",
        "`print('Hello World')` - 음영처리\n",
        "\n",
        "여러 줄 코드블록\n",
        "\n",
        "```\n",
        "print(\"hello\")\n",
        "print(\"world\")\n",
        "```"
      ],
      "metadata": {
        "id": "F-ovB4Ix8Z_y"
      }
    },
    {
      "cell_type": "markdown",
      "source": [
        "|책의 제목|작가|출판일|\n",
        "|-|-|-|\n",
        "|장발장|최용재 2세|2022.09.01|\n",
        "|파이썬|최용재 28세|1971.09.01|\n"
      ],
      "metadata": {
        "id": "-BS2SYMV8xQB"
      }
    },
    {
      "cell_type": "markdown",
      "source": [
        "|책의 제목|작가|출판일|\n",
        "|-:|:-:|:-|\n",
        "|**장발장**|최용재 2세|2022.09.01|\n",
        "|파이썬|최용재 28세|*1971.09.01*|\n"
      ],
      "metadata": {
        "id": "mAjdeWWi9RNK"
      }
    },
    {
      "cell_type": "code",
      "source": [],
      "metadata": {
        "id": "VvmuiMQwOcMH"
      },
      "execution_count": null,
      "outputs": []
    },
    {
      "cell_type": "markdown",
      "source": [
        "[표시될 텍스트](https://naver.com)<br>\n",
        "![이미지에 대한 설명](https://ouch-cdn2.icons8.com/llLHKo43gAdT2ZjeLQl1u4V_Gt5c8h59In2dgFsJXg0/rs:fit:256:256/czM6Ly9pY29uczgu/b3VjaC1wcm9kLmFz/c2V0cy9wbmcvNjY0/LzRiZTZiMzkyLTlk/NWUtNDA2Zi04ZTAx/LWRlODYzMjQ2YzBi/My5wbmc.png)"
      ],
      "metadata": {
        "id": "ZLmMRyGt9oZ8"
      }
    },
    {
      "cell_type": "markdown",
      "source": [
        "- [ ] 체크박스\n",
        "- [x] 체크된 체크박스스\n",
        "\n",
        "latex"
      ],
      "metadata": {
        "id": "iYIAr6Bn-ENk"
      }
    }
  ]
}
