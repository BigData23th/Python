{
  "nbformat": 4,
  "nbformat_minor": 0,
  "metadata": {
    "colab": {
      "provenance": [],
      "authorship_tag": "ABX9TyMFjn1fgPnStSkgWMCi8esr",
      "include_colab_link": true
    },
    "kernelspec": {
      "name": "python3",
      "display_name": "Python 3"
    },
    "language_info": {
      "name": "python"
    }
  },
  "cells": [
    {
      "cell_type": "markdown",
      "metadata": {
        "id": "view-in-github",
        "colab_type": "text"
      },
      "source": [
        "<a href=\"https://colab.research.google.com/github/cc5547/Python/blob/main/submission/cc5547/ch01_%EB%B3%B5%EC%8A%B5_230228.ipynb\" target=\"_parent\"><img src=\"https://colab.research.google.com/assets/colab-badge.svg\" alt=\"Open In Colab\"/></a>"
      ]
    },
    {
      "cell_type": "markdown",
      "source": [],
      "metadata": {
        "id": "0Du-4WiMbohp"
      }
    },
    {
      "cell_type": "code",
      "source": [
        "print(Hello World) # 문자열을 입력했는데 \"\" 또는 '' 를 감싸주지 않았다."
      ],
      "metadata": {
        "colab": {
          "base_uri": "https://localhost:8080/",
          "height": 136
        },
        "id": "PlBuxoC1btkQ",
        "outputId": "b03d6ed2-7af7-4efb-a03c-80a0a2e5fb5b"
      },
      "execution_count": 4,
      "outputs": [
        {
          "output_type": "error",
          "ename": "SyntaxError",
          "evalue": "ignored",
          "traceback": [
            "\u001b[0;36m  File \u001b[0;32m\"<ipython-input-4-24ecc72448f7>\"\u001b[0;36m, line \u001b[0;32m1\u001b[0m\n\u001b[0;31m    print(Hello World) # 문자열을 입력했는데 \"\" 또는 '' 를 감싸주지 않았다.\u001b[0m\n\u001b[0m                ^\u001b[0m\n\u001b[0;31mSyntaxError\u001b[0m\u001b[0;31m:\u001b[0m invalid syntax\n"
          ]
        }
      ]
    },
    {
      "cell_type": "code",
      "source": [
        "# alt + enter : (셀)을 실행시키고 하단에 새로운 코드 셀을 만들어줌\n",
        "\n",
        "print('Hello World') # print(입력값) : 함수의 일종, 입력한 값(숫자, 문자열) 출력"
      ],
      "metadata": {
        "colab": {
          "base_uri": "https://localhost:8080/"
        },
        "id": "S9iUTuMQcfV5",
        "outputId": "b801c526-6fb9-48e7-9830-6309519a80ce"
      },
      "execution_count": 5,
      "outputs": [
        {
          "output_type": "stream",
          "name": "stdout",
          "text": [
            "Hello World\n"
          ]
        }
      ]
    },
    {
      "cell_type": "code",
      "source": [
        "# (ctrl + m) + b : 셀을 실행시키지 않고 현재 셀의 하단에 새로운 코드 셀을 만들어줌\n",
        "# colab은 리눅스 환경에서 작동 -> 터미널(입력창)을 통해서 명령어로 작동하는 OS Like 윈도우, 안드로이드\n",
        "# 리눅스의 어떤 특정한 기능을 하기 위해서는 (1) 터미널에 (2) 명령어를 넣어야 한다.\n",
        "# !를 앞에 붙이고 나면, 리눅스의 터미널 (커널)에 명령어를 사용할 수 있음\n",
        "!python --version"
      ],
      "metadata": {
        "colab": {
          "base_uri": "https://localhost:8080/"
        },
        "id": "F9RVDoeic7kA",
        "outputId": "2d406323-8e53-44e1-a06a-1199f938f74b"
      },
      "execution_count": 6,
      "outputs": [
        {
          "output_type": "stream",
          "name": "stdout",
          "text": [
            "Python 3.8.10\n"
          ]
        }
      ]
    },
    {
      "cell_type": "code",
      "source": [
        "# 파이썬은 세미클론을 안써도 된다. 쓴다해도 버그가 나진 않는다. \n",
        "print(\"Ditto\") # 특정한 행을 위 아래로 복제하고 싶다 (Alt + shift + 방향키)\n",
        "print(\"Ditto\") # 특정한 행을 위 아래로 복제하고 싶다 (Alt + shift + 방향키)\n",
        "print(\"Ditto\") # 특정한 행을 위 아래로 복제하고 싶다 (Alt + shift + 방향키)\n",
        "\n",
        "\n",
        "\n",
        "\n",
        "print(\"Ditto\"); # 줄바꿈 (alt + 위아래방향키키)\n",
        "# ctrl + a : 전체 지정 \n",
        "# end : 특정 행의 끝 -> shift (범위 지정, 블록 지정) -> home : 특정 행의 시작\n",
        "print(\"뉴진스\"); print(\"르세라핌\") # 세미클론이 있으면 다른 줄로 인식"
      ],
      "metadata": {
        "id": "7_8yRVDhd93a"
      },
      "execution_count": null,
      "outputs": []
    },
    {
      "cell_type": "code",
      "source": [
        "# ctrl + m + - : 특정 행 기준으로 셀 분할 \n"
      ],
      "metadata": {
        "id": "L22z6R2Gfspm"
      },
      "execution_count": 10,
      "outputs": []
    },
    {
      "cell_type": "code",
      "source": [
        "# 을 입력하고 뒤에 내용을 입력하면 -> 한 줄 주석\n",
        "# 주석으로 지정하는 단축키 : ctrl + /\n",
        "print(\"주석\") # 특정 코드 뒤에 주석이 있어도 실행 영향 X\n",
        "# print(\"주석2\") # 실행이 안됨"
      ],
      "metadata": {
        "id": "T4j5q09kpVMq"
      },
      "execution_count": null,
      "outputs": []
    },
    {
      "cell_type": "code",
      "source": [
        "'''\n",
        "여러 줄 주석을 할 때는 \n",
        "\\'\\'\\' 또는 \"\"\"을 입력하세요\n",
        "'''\n",
        "print('안녕')"
      ],
      "metadata": {
        "colab": {
          "base_uri": "https://localhost:8080/"
        },
        "id": "CUHcdKWBppkT",
        "outputId": "6f81c223-fc4c-4a7d-c76f-345f00ff7c3a"
      },
      "execution_count": 12,
      "outputs": [
        {
          "output_type": "stream",
          "name": "stdout",
          "text": [
            "안녕\n"
          ]
        }
      ]
    },
    {
      "cell_type": "code",
      "source": [
        "# 문자열을 입력할 때 외부에 ''(작은따움표로) 감쌋으면, 안에 작은 따움표 넣으면 X\n",
        "# 굳이 넣고 싶다 -> 앞에 \\ 를 넣어서 escape시켜서 처리해야함"
      ],
      "metadata": {
        "id": "LucrnOzPqEQu"
      },
      "execution_count": 13,
      "outputs": []
    },
    {
      "cell_type": "code",
      "source": [
        "a = 1\n",
        "if a != 10: # 특정한 조건을 만족(옳을 때) 시킬 때 작동하는 코드 \n",
        "    print(\"10이 아니네요\") # 특정한 들어쓰기 범위 내에서만 조건 관련 코드 "
      ],
      "metadata": {
        "colab": {
          "base_uri": "https://localhost:8080/"
        },
        "id": "wVaGaQLMqQf9",
        "outputId": "642bde92-cbe7-41cb-a803-0a77b0a99e2b"
      },
      "execution_count": 15,
      "outputs": [
        {
          "output_type": "stream",
          "name": "stdout",
          "text": [
            "10이 아니네요\n"
          ]
        }
      ]
    },
    {
      "cell_type": "code",
      "source": [
        "if a == 10: # 특정한 조건을 만족(옳을 때) 시킬 때 작동하는 코드 \n",
        "    print(\"10이네요\") # 특정한 들어쓰기 범위 내에서만 조건 관련 코드 \n",
        "# 들여쓰기 : tab으로 통일 "
      ],
      "metadata": {
        "id": "17lU0KB7qlNs"
      },
      "execution_count": 17,
      "outputs": []
    },
    {
      "cell_type": "code",
      "source": [
        "if a == 10: \n",
        "    print(\"10이네요\") \n",
        "    if a == 10:\n",
        "        print(\"10이네요\")"
      ],
      "metadata": {
        "id": "z6FAsn2zqyt3"
      },
      "execution_count": 18,
      "outputs": []
    },
    {
      "cell_type": "code",
      "source": [
        "# 정수 (int, integer, 양의 정수와 음의 정수와 0)\n",
        "# 실수 (float, 실수 소수, 소수점이 붙어 있음)\n",
        "1, 1.0"
      ],
      "metadata": {
        "colab": {
          "base_uri": "https://localhost:8080/"
        },
        "id": "VcitpP7wrFaE",
        "outputId": "f62b2d19-15e2-46a5-84be-b130e96ee117"
      },
      "execution_count": 19,
      "outputs": [
        {
          "output_type": "execute_result",
          "data": {
            "text/plain": [
              "(1, 1.0)"
            ]
          },
          "metadata": {},
          "execution_count": 19
        }
      ]
    },
    {
      "cell_type": "code",
      "source": [
        "# type : 자료형(데이터타입)을 확인\n",
        "type(1), type(1.0), type(\"1\")\n",
        "# str : string, 열, 문자열"
      ],
      "metadata": {
        "colab": {
          "base_uri": "https://localhost:8080/"
        },
        "id": "2wR-NR9Crd7x",
        "outputId": "5707e537-fdbf-4ccb-c4c7-e2f67733ecd5"
      },
      "execution_count": 21,
      "outputs": [
        {
          "output_type": "execute_result",
          "data": {
            "text/plain": [
              "(int, float, str)"
            ]
          },
          "metadata": {},
          "execution_count": 21
        }
      ]
    },
    {
      "cell_type": "code",
      "source": [
        "# 사칙연산 -> 산술연산자, 연산자 : 1개 이상의 피연산자(항)에 대해서 특정 연산(계산)을 실행시키는 명령\n",
        "1 + 1, 2 - 3, 5 * 8, 13/21"
      ],
      "metadata": {
        "colab": {
          "base_uri": "https://localhost:8080/"
        },
        "id": "tx-UMhgOr-MO",
        "outputId": "06882bf3-76bd-4ae7-cba8-b60501d26246"
      },
      "execution_count": 23,
      "outputs": [
        {
          "output_type": "execute_result",
          "data": {
            "text/plain": [
              "(2, -1, 40, 0.6190476190476191)"
            ]
          },
          "metadata": {},
          "execution_count": 23
        }
      ]
    },
    {
      "cell_type": "code",
      "source": [
        "20 / 4 # 정수 간 (딱 떨어지게) 나누기를 해도 결과 값은 무조건 실수"
      ],
      "metadata": {
        "colab": {
          "base_uri": "https://localhost:8080/"
        },
        "id": "_ObLM_DUsk19",
        "outputId": "dc47d2de-46c9-46f1-931b-59b092d707a8"
      },
      "execution_count": 25,
      "outputs": [
        {
          "output_type": "execute_result",
          "data": {
            "text/plain": [
              "5.0"
            ]
          },
          "metadata": {},
          "execution_count": 25
        }
      ]
    },
    {
      "cell_type": "code",
      "source": [
        "20 // 4, 25//4  # 몫 연산자자(소수점 밑은 버림)"
      ],
      "metadata": {
        "colab": {
          "base_uri": "https://localhost:8080/"
        },
        "id": "j0Fg8Ymoszbk",
        "outputId": "c017d69e-8e2e-4d90-c9b4-d60e4a673eed"
      },
      "execution_count": 27,
      "outputs": [
        {
          "output_type": "execute_result",
          "data": {
            "text/plain": [
              "(5, 6)"
            ]
          },
          "metadata": {},
          "execution_count": 27
        }
      ]
    },
    {
      "cell_type": "code",
      "source": [
        "5.5 // 2, 4 // 1.0, 2.5 // 0.2 # 항 중에 (피연산자 중에) 하나라도 실수하면 실수 결과값"
      ],
      "metadata": {
        "colab": {
          "base_uri": "https://localhost:8080/"
        },
        "id": "yCSmGCIltBwm",
        "outputId": "750cc6a6-47a0-465f-b678-6db8d234e013"
      },
      "execution_count": 33,
      "outputs": [
        {
          "output_type": "execute_result",
          "data": {
            "text/plain": [
              "(2.0, 4.0, 12.0)"
            ]
          },
          "metadata": {},
          "execution_count": 33
        }
      ]
    },
    {
      "cell_type": "code",
      "source": [
        "# %(나머지연산자, 모듈로, 모듈러스)\n",
        "10 % 3, 10//3"
      ],
      "metadata": {
        "colab": {
          "base_uri": "https://localhost:8080/"
        },
        "id": "NulHVxqFtL-4",
        "outputId": "973467e5-aecc-422e-ca67-32f09f03e9dc"
      },
      "execution_count": 29,
      "outputs": [
        {
          "output_type": "execute_result",
          "data": {
            "text/plain": [
              "(1, 3)"
            ]
          },
          "metadata": {},
          "execution_count": 29
        }
      ]
    },
    {
      "cell_type": "code",
      "source": [
        "# 거듭제곱 연산자 (**) / 루트 연산자도 겸함함\n",
        "2 ** 5, 2 ** 0.5, 3 ** (1/3)"
      ],
      "metadata": {
        "colab": {
          "base_uri": "https://localhost:8080/"
        },
        "id": "8mcxvEihtVnl",
        "outputId": "be68eec6-00f8-4592-b424-a14b50e6d850"
      },
      "execution_count": 34,
      "outputs": [
        {
          "output_type": "execute_result",
          "data": {
            "text/plain": [
              "(32, 1.4142135623730951, 1.4422495703074083)"
            ]
          },
          "metadata": {},
          "execution_count": 34
        }
      ]
    },
    {
      "cell_type": "code",
      "source": [
        "# 값 -> 정수(int(...))\n",
        "int(1), int(1.0), int(1*1), int(\"1\")"
      ],
      "metadata": {
        "colab": {
          "base_uri": "https://localhost:8080/"
        },
        "id": "cfqFc0CetmuW",
        "outputId": "9c18ceef-76ff-4f1f-cfb9-b3d3fbca45f8"
      },
      "execution_count": 36,
      "outputs": [
        {
          "output_type": "execute_result",
          "data": {
            "text/plain": [
              "(1, 1, 1, 1)"
            ]
          },
          "metadata": {},
          "execution_count": 36
        }
      ]
    },
    {
      "cell_type": "code",
      "source": [
        "int(\"1.0\") # 정수로 변환할 수 없는 숫자 문자열이기 때문에 오류 "
      ],
      "metadata": {
        "colab": {
          "base_uri": "https://localhost:8080/",
          "height": 173
        },
        "id": "bHZ0ViVfwzWi",
        "outputId": "a903ea29-ce15-447b-a4d4-dbe073250d42"
      },
      "execution_count": 37,
      "outputs": [
        {
          "output_type": "error",
          "ename": "ValueError",
          "evalue": "ignored",
          "traceback": [
            "\u001b[0;31m---------------------------------------------------------------------------\u001b[0m",
            "\u001b[0;31mValueError\u001b[0m                                Traceback (most recent call last)",
            "\u001b[0;32m<ipython-input-37-80dce1bc2cf4>\u001b[0m in \u001b[0;36m<module>\u001b[0;34m\u001b[0m\n\u001b[0;32m----> 1\u001b[0;31m \u001b[0mint\u001b[0m\u001b[0;34m(\u001b[0m\u001b[0;34m\"1.0\"\u001b[0m\u001b[0;34m)\u001b[0m \u001b[0;31m# 정수로 변환할 수 없는 숫자 문자열이기 때문에 오류\u001b[0m\u001b[0;34m\u001b[0m\u001b[0;34m\u001b[0m\u001b[0m\n\u001b[0m",
            "\u001b[0;31mValueError\u001b[0m: invalid literal for int() with base 10: '1.0'"
          ]
        }
      ]
    },
    {
      "cell_type": "code",
      "source": [
        "int(\"일\") # 숫자가 아니기 때문에 오류 "
      ],
      "metadata": {
        "colab": {
          "base_uri": "https://localhost:8080/",
          "height": 173
        },
        "id": "9rhkFEwBw8ss",
        "outputId": "7101d921-d919-4d16-c219-0aed76a60fc2"
      },
      "execution_count": 38,
      "outputs": [
        {
          "output_type": "error",
          "ename": "ValueError",
          "evalue": "ignored",
          "traceback": [
            "\u001b[0;31m---------------------------------------------------------------------------\u001b[0m",
            "\u001b[0;31mValueError\u001b[0m                                Traceback (most recent call last)",
            "\u001b[0;32m<ipython-input-38-c8ad75573921>\u001b[0m in \u001b[0;36m<module>\u001b[0;34m\u001b[0m\n\u001b[0;32m----> 1\u001b[0;31m \u001b[0mint\u001b[0m\u001b[0;34m(\u001b[0m\u001b[0;34m\"일\"\u001b[0m\u001b[0;34m)\u001b[0m \u001b[0;31m# 숫자가 아니기 때문에 오류\u001b[0m\u001b[0;34m\u001b[0m\u001b[0;34m\u001b[0m\u001b[0m\n\u001b[0m",
            "\u001b[0;31mValueError\u001b[0m: invalid literal for int() with base 10: '일'"
          ]
        }
      ]
    },
    {
      "cell_type": "code",
      "source": [
        "# //, % -> 한번에\n",
        "divmod(5, 2) # divmod(a, b) : a가 나눠지는 수, b가 나누는 수 -> (몫, 나머지) (리턴값, 반환값)\n"
      ],
      "metadata": {
        "colab": {
          "base_uri": "https://localhost:8080/"
        },
        "id": "NhCP7PahxISI",
        "outputId": "cd13b4a1-cff7-4851-8368-266d2ebe86b3"
      },
      "execution_count": 40,
      "outputs": [
        {
          "output_type": "execute_result",
          "data": {
            "text/plain": [
              "(2, 1)"
            ]
          },
          "metadata": {},
          "execution_count": 40
        }
      ]
    },
    {
      "cell_type": "code",
      "source": [
        "3.1 + 2.2"
      ],
      "metadata": {
        "colab": {
          "base_uri": "https://localhost:8080/"
        },
        "id": "FHx4906Bxa_y",
        "outputId": "9c397892-7c34-44e6-8ca2-417a213d5926"
      },
      "execution_count": 41,
      "outputs": [
        {
          "output_type": "execute_result",
          "data": {
            "text/plain": [
              "5.300000000000001"
            ]
          },
          "metadata": {},
          "execution_count": 41
        }
      ]
    },
    {
      "cell_type": "code",
      "source": [
        "2.7 - 1.5 # 부동소수점 오류 "
      ],
      "metadata": {
        "colab": {
          "base_uri": "https://localhost:8080/"
        },
        "id": "dpXUmzpSxdJc",
        "outputId": "93250818-dddc-420b-b0df-5eaea0c26561"
      },
      "execution_count": 42,
      "outputs": [
        {
          "output_type": "execute_result",
          "data": {
            "text/plain": [
              "1.2000000000000002"
            ]
          },
          "metadata": {},
          "execution_count": 42
        }
      ]
    },
    {
      "cell_type": "code",
      "source": [
        "1.5 * 3.1"
      ],
      "metadata": {
        "colab": {
          "base_uri": "https://localhost:8080/"
        },
        "id": "uGWLH3c9xgtT",
        "outputId": "f38f0652-c409-4e50-cbca-dec1420aefd0"
      },
      "execution_count": 43,
      "outputs": [
        {
          "output_type": "execute_result",
          "data": {
            "text/plain": [
              "4.65"
            ]
          },
          "metadata": {},
          "execution_count": 43
        }
      ]
    },
    {
      "cell_type": "code",
      "source": [
        "5.5 / 3.1"
      ],
      "metadata": {
        "colab": {
          "base_uri": "https://localhost:8080/"
        },
        "id": "nbsVXDtHx1Hp",
        "outputId": "48a20d33-b48d-4b1d-ad10-bc1799039d49"
      },
      "execution_count": 45,
      "outputs": [
        {
          "output_type": "execute_result",
          "data": {
            "text/plain": [
              "1.7741935483870968"
            ]
          },
          "metadata": {},
          "execution_count": 45
        }
      ]
    },
    {
      "cell_type": "code",
      "source": [
        "# float -> float(...)\n",
        "float(1), float(4/5), float(\"1.0\")"
      ],
      "metadata": {
        "colab": {
          "base_uri": "https://localhost:8080/"
        },
        "id": "nbRS8He5x3vc",
        "outputId": "086c7209-0644-436e-8d9f-0dca9b07cdc4"
      },
      "execution_count": 48,
      "outputs": [
        {
          "output_type": "execute_result",
          "data": {
            "text/plain": [
              "(1.0, 0.8, 1.0)"
            ]
          },
          "metadata": {},
          "execution_count": 48
        }
      ]
    },
    {
      "cell_type": "code",
      "source": [
        "# 텍스트로 특정한 숫자를 받았는데, 정수화를 하고싶어 -> 이게 소수점이 아니라는 확신이 없을 때\n",
        "int(float(\"1.0\"))"
      ],
      "metadata": {
        "colab": {
          "base_uri": "https://localhost:8080/"
        },
        "id": "ia1XQHYGyIh6",
        "outputId": "9293d937-4ae7-4f1f-a715-d129e547dd6d"
      },
      "execution_count": 50,
      "outputs": [
        {
          "output_type": "execute_result",
          "data": {
            "text/plain": [
              "1"
            ]
          },
          "metadata": {},
          "execution_count": 50
        }
      ]
    },
    {
      "cell_type": "code",
      "source": [
        "(1 + 2) * 3 # 괄호 안의 값이 먼저 계산됨"
      ],
      "metadata": {
        "colab": {
          "base_uri": "https://localhost:8080/"
        },
        "id": "95sLieD9yXle",
        "outputId": "33e78948-76a0-4e1f-e867-75251cdb7f61"
      },
      "execution_count": 51,
      "outputs": [
        {
          "output_type": "execute_result",
          "data": {
            "text/plain": [
              "9"
            ]
          },
          "metadata": {},
          "execution_count": 51
        }
      ]
    },
    {
      "cell_type": "code",
      "source": [
        "x = 10 # 10으로 초기화 "
      ],
      "metadata": {
        "id": "QBnuk2K5ygXV"
      },
      "execution_count": 54,
      "outputs": []
    },
    {
      "cell_type": "code",
      "source": [
        "x "
      ],
      "metadata": {
        "colab": {
          "base_uri": "https://localhost:8080/"
        },
        "id": "-QAi_A-jzLAB",
        "outputId": "735bc075-01df-4d95-e6b8-b6b2f83a3550"
      },
      "execution_count": 56,
      "outputs": [
        {
          "output_type": "execute_result",
          "data": {
            "text/plain": [
              "10"
            ]
          },
          "metadata": {},
          "execution_count": 56
        }
      ]
    },
    {
      "cell_type": "code",
      "source": [
        "y = \"The행복식당\"\n",
        "y"
      ],
      "metadata": {
        "colab": {
          "base_uri": "https://localhost:8080/",
          "height": 35
        },
        "id": "OGF9Nxx6zYX0",
        "outputId": "82f42628-f86b-4c9f-eba7-77d41497b651"
      },
      "execution_count": 59,
      "outputs": [
        {
          "output_type": "execute_result",
          "data": {
            "text/plain": [
              "'The행복식당'"
            ],
            "application/vnd.google.colaboratory.intrinsic+json": {
              "type": "string"
            }
          },
          "metadata": {},
          "execution_count": 59
        }
      ]
    },
    {
      "cell_type": "code",
      "source": [
        "type(x), type(y)"
      ],
      "metadata": {
        "colab": {
          "base_uri": "https://localhost:8080/"
        },
        "id": "Os0EGBo4zexK",
        "outputId": "22f4ceb0-a5f4-494b-8e39-c0bc7dbda33c"
      },
      "execution_count": 60,
      "outputs": [
        {
          "output_type": "execute_result",
          "data": {
            "text/plain": [
              "(int, str)"
            ]
          },
          "metadata": {},
          "execution_count": 60
        }
      ]
    },
    {
      "cell_type": "markdown",
      "source": [
        "* `=` 대입 연산자\n",
        "* 같다. `==` : 동등 연산자"
      ],
      "metadata": {
        "id": "9QxejUXZzw0y"
      }
    },
    {
      "cell_type": "code",
      "source": [
        "x = None \n",
        "print(x)"
      ],
      "metadata": {
        "colab": {
          "base_uri": "https://localhost:8080/"
        },
        "id": "51LKY4ZK0BbU",
        "outputId": "fee0751a-de6f-4b8f-8df7-2267ed689579"
      },
      "execution_count": 64,
      "outputs": [
        {
          "output_type": "stream",
          "name": "stdout",
          "text": [
            "None\n"
          ]
        }
      ]
    },
    {
      "cell_type": "code",
      "source": [
        "a = 12 + 13 * 10 + 5\n",
        "b = 17 / 5 * 20 + 19\n",
        "a + b"
      ],
      "metadata": {
        "colab": {
          "base_uri": "https://localhost:8080/"
        },
        "id": "UkCTAVon0oNq",
        "outputId": "62bd9bee-c073-433b-d88c-a5f8abe8a5a8"
      },
      "execution_count": 66,
      "outputs": [
        {
          "output_type": "execute_result",
          "data": {
            "text/plain": [
              "234.0"
            ]
          },
          "metadata": {},
          "execution_count": 66
        }
      ]
    },
    {
      "cell_type": "code",
      "source": [
        "c = a + b\n",
        "c"
      ],
      "metadata": {
        "colab": {
          "base_uri": "https://localhost:8080/"
        },
        "id": "DpWuS0K102cg",
        "outputId": "5a7a4002-ebc5-4697-b148-417dea999349"
      },
      "execution_count": 68,
      "outputs": [
        {
          "output_type": "execute_result",
          "data": {
            "text/plain": [
              "234.0"
            ]
          },
          "metadata": {},
          "execution_count": 68
        }
      ]
    },
    {
      "cell_type": "code",
      "source": [
        "a = 10\n",
        "a + 20"
      ],
      "metadata": {
        "colab": {
          "base_uri": "https://localhost:8080/"
        },
        "id": "WHbdYYSw056_",
        "outputId": "1fbe9174-26ef-414f-fd5c-50c42ec3b9ea"
      },
      "execution_count": 70,
      "outputs": [
        {
          "output_type": "execute_result",
          "data": {
            "text/plain": [
              "30"
            ]
          },
          "metadata": {},
          "execution_count": 70
        }
      ]
    },
    {
      "cell_type": "code",
      "source": [
        "a"
      ],
      "metadata": {
        "colab": {
          "base_uri": "https://localhost:8080/"
        },
        "id": "4HJ992rS1AhB",
        "outputId": "a8f66e1b-8677-464d-9e48-107de45b0109"
      },
      "execution_count": 73,
      "outputs": [
        {
          "output_type": "execute_result",
          "data": {
            "text/plain": [
              "30"
            ]
          },
          "metadata": {},
          "execution_count": 73
        }
      ]
    },
    {
      "cell_type": "code",
      "source": [
        "a += 20"
      ],
      "metadata": {
        "id": "PKTcJWa01GDC"
      },
      "execution_count": 74,
      "outputs": []
    },
    {
      "cell_type": "code",
      "source": [
        "a"
      ],
      "metadata": {
        "colab": {
          "base_uri": "https://localhost:8080/"
        },
        "id": "bQBXQKP21J1R",
        "outputId": "e2a959b4-3c5d-41f0-c08a-55159cbd27ad"
      },
      "execution_count": 75,
      "outputs": [
        {
          "output_type": "execute_result",
          "data": {
            "text/plain": [
              "50"
            ]
          },
          "metadata": {},
          "execution_count": 75
        }
      ]
    },
    {
      "cell_type": "code",
      "source": [
        "a %= 5\n",
        "a"
      ],
      "metadata": {
        "colab": {
          "base_uri": "https://localhost:8080/"
        },
        "id": "plul81cR1T44",
        "outputId": "3e743588-fa86-479f-fac3-32924550cada"
      },
      "execution_count": 76,
      "outputs": [
        {
          "output_type": "execute_result",
          "data": {
            "text/plain": [
              "0"
            ]
          },
          "metadata": {},
          "execution_count": 76
        }
      ]
    },
    {
      "cell_type": "code",
      "source": [
        "d += 10 # d가 없어서 (정의되지 않아서) 새로운 값을 더한 뒤 대입임"
      ],
      "metadata": {
        "colab": {
          "base_uri": "https://localhost:8080/",
          "height": 173
        },
        "id": "jjGtLrVP1Xp0",
        "outputId": "08743a2f-e747-4555-eb30-9c4633d4720b"
      },
      "execution_count": 78,
      "outputs": [
        {
          "output_type": "error",
          "ename": "NameError",
          "evalue": "ignored",
          "traceback": [
            "\u001b[0;31m---------------------------------------------------------------------------\u001b[0m",
            "\u001b[0;31mNameError\u001b[0m                                 Traceback (most recent call last)",
            "\u001b[0;32m<ipython-input-78-b200713d1385>\u001b[0m in \u001b[0;36m<module>\u001b[0;34m\u001b[0m\n\u001b[0;32m----> 1\u001b[0;31m \u001b[0md\u001b[0m \u001b[0;34m+=\u001b[0m \u001b[0;36m10\u001b[0m\u001b[0;34m\u001b[0m\u001b[0;34m\u001b[0m\u001b[0m\n\u001b[0m",
            "\u001b[0;31mNameError\u001b[0m: name 'd' is not defined"
          ]
        }
      ]
    },
    {
      "cell_type": "code",
      "source": [
        "d = 10 # 변수의 자리를 만드는 걸 '선언', 값을 대입하는 걸 '초기화'\n",
        "# 초기화는 != reset / 초기화 = initalization"
      ],
      "metadata": {
        "id": "btjA40TN1eup"
      },
      "execution_count": 80,
      "outputs": []
    },
    {
      "cell_type": "code",
      "source": [
        "input()"
      ],
      "metadata": {
        "colab": {
          "base_uri": "https://localhost:8080/",
          "height": 53
        },
        "id": "-10OAdlr2DVQ",
        "outputId": "4eed85bb-08bb-4969-8fa7-b704925c5cf8"
      },
      "execution_count": 81,
      "outputs": [
        {
          "name": "stdout",
          "output_type": "stream",
          "text": [
            "안녕\n"
          ]
        },
        {
          "output_type": "execute_result",
          "data": {
            "text/plain": [
              "'안녕'"
            ],
            "application/vnd.google.colaboratory.intrinsic+json": {
              "type": "string"
            }
          },
          "metadata": {},
          "execution_count": 81
        }
      ]
    },
    {
      "cell_type": "code",
      "source": [
        "input(\"인사를 친절하게 해줘 : \") # 문자열 -> 안내문"
      ],
      "metadata": {
        "colab": {
          "base_uri": "https://localhost:8080/",
          "height": 53
        },
        "id": "JExtHEa82GIM",
        "outputId": "3799ec2c-baf5-403c-9cda-200b508aee37"
      },
      "execution_count": 82,
      "outputs": [
        {
          "name": "stdout",
          "output_type": "stream",
          "text": [
            "인사를 친절하게 해줘 : 싫은데\n"
          ]
        },
        {
          "output_type": "execute_result",
          "data": {
            "text/plain": [
              "'싫은데'"
            ],
            "application/vnd.google.colaboratory.intrinsic+json": {
              "type": "string"
            }
          },
          "metadata": {},
          "execution_count": 82
        }
      ]
    },
    {
      "cell_type": "code",
      "source": [
        "x = input() # 프롬프트에 '문자열'을 입력하는 함수(기능)\n",
        "x"
      ],
      "metadata": {
        "colab": {
          "base_uri": "https://localhost:8080/",
          "height": 53
        },
        "id": "NDei0Wpw2M-d",
        "outputId": "3acb8ce9-2e46-4c9f-b125-3d6c7e971cb5"
      },
      "execution_count": 84,
      "outputs": [
        {
          "name": "stdout",
          "output_type": "stream",
          "text": [
            "ㅎㅎ\n"
          ]
        },
        {
          "output_type": "execute_result",
          "data": {
            "text/plain": [
              "'ㅎㅎ'"
            ],
            "application/vnd.google.colaboratory.intrinsic+json": {
              "type": "string"
            }
          },
          "metadata": {},
          "execution_count": 84
        }
      ]
    },
    {
      "cell_type": "code",
      "source": [
        "type(x)"
      ],
      "metadata": {
        "colab": {
          "base_uri": "https://localhost:8080/"
        },
        "id": "mZ-DAt-f2XyE",
        "outputId": "4898f762-3727-40bb-f772-d611fc5d4b08"
      },
      "execution_count": 85,
      "outputs": [
        {
          "output_type": "execute_result",
          "data": {
            "text/plain": [
              "str"
            ]
          },
          "metadata": {},
          "execution_count": 85
        }
      ]
    },
    {
      "cell_type": "code",
      "source": [
        "a = input(\"숫자를 입력해주세요 : \")\n",
        "b = input(\"숫자를 입력해주세요 : \")\n",
        "\n",
        "a + b"
      ],
      "metadata": {
        "colab": {
          "base_uri": "https://localhost:8080/",
          "height": 72
        },
        "id": "ZT7pyk3S2bbZ",
        "outputId": "02e0e6c7-6242-4a30-9ff3-1c348bceb517"
      },
      "execution_count": 88,
      "outputs": [
        {
          "name": "stdout",
          "output_type": "stream",
          "text": [
            "숫자를 입력해주세요 : 1\n",
            "숫자를 입력해주세요 : 1\n"
          ]
        },
        {
          "output_type": "execute_result",
          "data": {
            "text/plain": [
              "'11'"
            ],
            "application/vnd.google.colaboratory.intrinsic+json": {
              "type": "string"
            }
          },
          "metadata": {},
          "execution_count": 88
        }
      ]
    },
    {
      "cell_type": "code",
      "source": [
        "a = input(\"숫자를 입력해주세요 : \")\n",
        "b = input(\"숫자를 입력해주세요 : \")\n",
        "\n",
        "int(a) + int(b) # 덧셈 연산을 실행하기 앞서서 int가 실행이 되면서 정수로 변환"
      ],
      "metadata": {
        "colab": {
          "base_uri": "https://localhost:8080/"
        },
        "id": "5LA0mxYg2xjL",
        "outputId": "9aacd5bc-5384-4abe-b917-6b7ac9ca1743"
      },
      "execution_count": 89,
      "outputs": [
        {
          "name": "stdout",
          "output_type": "stream",
          "text": [
            "숫자를 입력해주세요 : 1\n",
            "숫자를 입력해주세요 : 1\n"
          ]
        },
        {
          "output_type": "execute_result",
          "data": {
            "text/plain": [
              "2"
            ]
          },
          "metadata": {},
          "execution_count": 89
        }
      ]
    },
    {
      "cell_type": "code",
      "source": [
        "a = int(input(\"숫자를 입력해주세요 : \"))\n",
        "b = int(input(\"숫자를 입력해주세요 : \"))\n",
        "\n",
        "a + b"
      ],
      "metadata": {
        "colab": {
          "base_uri": "https://localhost:8080/"
        },
        "id": "oZicRr3I27pa",
        "outputId": "d8b0c041-0558-497c-c2a6-ebd8a0727753"
      },
      "execution_count": 90,
      "outputs": [
        {
          "name": "stdout",
          "output_type": "stream",
          "text": [
            "숫자를 입력해주세요 : 3\n",
            "숫자를 입력해주세요 : 4\n"
          ]
        },
        {
          "output_type": "execute_result",
          "data": {
            "text/plain": [
              "7"
            ]
          },
          "metadata": {},
          "execution_count": 90
        }
      ]
    },
    {
      "cell_type": "code",
      "source": [
        "\"안녕하세요 여러분\" # 문자열 (리터럴)"
      ],
      "metadata": {
        "colab": {
          "base_uri": "https://localhost:8080/",
          "height": 35
        },
        "id": "i7O98QSv3fG8",
        "outputId": "69565d8d-eb5d-4e57-dbf9-68e30fee5da1"
      },
      "execution_count": 92,
      "outputs": [
        {
          "output_type": "execute_result",
          "data": {
            "text/plain": [
              "'안녕하세요 여러분'"
            ],
            "application/vnd.google.colaboratory.intrinsic+json": {
              "type": "string"
            }
          },
          "metadata": {},
          "execution_count": 92
        }
      ]
    },
    {
      "cell_type": "code",
      "source": [
        "type(\"안녕하세요 여러분\")"
      ],
      "metadata": {
        "colab": {
          "base_uri": "https://localhost:8080/"
        },
        "id": "JnpfwPwP3x2J",
        "outputId": "8300f247-6df2-45dd-af12-ac646371e5d6"
      },
      "execution_count": 93,
      "outputs": [
        {
          "output_type": "execute_result",
          "data": {
            "text/plain": [
              "str"
            ]
          },
          "metadata": {},
          "execution_count": 93
        }
      ]
    },
    {
      "cell_type": "code",
      "source": [
        "# 특정한 구분자(separator)를 기준으로 문자열을 분리 (기본값 : '')\n",
        "\"안녕하세요 여러분\". split() # 특정한 타입, 객체에 내장되어 있는 함수(기능) : 메소드(method)\n"
      ],
      "metadata": {
        "colab": {
          "base_uri": "https://localhost:8080/"
        },
        "id": "elHuzLcV31tv",
        "outputId": "7f08d6dd-c292-4082-abe1-e9d866fa55f5"
      },
      "execution_count": 95,
      "outputs": [
        {
          "output_type": "execute_result",
          "data": {
            "text/plain": [
              "['안녕하세요', '여러분']"
            ]
          },
          "metadata": {},
          "execution_count": 95
        }
      ]
    },
    {
      "cell_type": "code",
      "source": [
        "\"안녕하세요, 여러분\".split()"
      ],
      "metadata": {
        "colab": {
          "base_uri": "https://localhost:8080/"
        },
        "id": "I2ToffEU4Ujv",
        "outputId": "ba98a628-077e-468c-a37d-7f3e916da430"
      },
      "execution_count": 97,
      "outputs": [
        {
          "output_type": "execute_result",
          "data": {
            "text/plain": [
              "['안녕하세요,', '여러분']"
            ]
          },
          "metadata": {},
          "execution_count": 97
        }
      ]
    },
    {
      "cell_type": "code",
      "source": [
        "\"안녕하세요, 여러분\".split(\",\") # 매개변수(parameter, 인수)\n",
        "# 매개변수에 들어가는 값 <- 인자(argument)"
      ],
      "metadata": {
        "colab": {
          "base_uri": "https://localhost:8080/"
        },
        "id": "RbPbPzJ74dpg",
        "outputId": "1e50f66f-8362-4e57-c7b9-f7e9113778ef"
      },
      "execution_count": 100,
      "outputs": [
        {
          "output_type": "execute_result",
          "data": {
            "text/plain": [
              "['안녕하세요', ' 여러분']"
            ]
          },
          "metadata": {},
          "execution_count": 100
        }
      ]
    },
    {
      "cell_type": "code",
      "source": [
        "a, b = \"안녕하세요, 여러분\".split(\",\") # 2개 이상의 값이 결과로나올 경우, 해당 결과의 갯수에 맞게 변수를 위치 시켜주면 알아서 할당됨\n"
      ],
      "metadata": {
        "id": "X6-HsYuh5VSq"
      },
      "execution_count": 101,
      "outputs": []
    },
    {
      "cell_type": "code",
      "source": [
        "a, b = input('문자열 두 개를 스페이스 기준으로 입력해주세요 : ').split()\n",
        "a, b"
      ],
      "metadata": {
        "colab": {
          "base_uri": "https://localhost:8080/"
        },
        "id": "ctx5cWws5lnI",
        "outputId": "37bee7c3-6672-469b-f7fe-61656a1185e6"
      },
      "execution_count": 104,
      "outputs": [
        {
          "name": "stdout",
          "output_type": "stream",
          "text": [
            "문자열 두 개를 스페이스 기준으로 입력해주세요 : s d\n"
          ]
        },
        {
          "output_type": "execute_result",
          "data": {
            "text/plain": [
              "('s', 'd')"
            ]
          },
          "metadata": {},
          "execution_count": 104
        }
      ]
    },
    {
      "cell_type": "code",
      "source": [
        "a, b = input('문자열 두 개를 콤마 기준으로 입력해주세요 : ').split(',')\n",
        "a, b"
      ],
      "metadata": {
        "colab": {
          "base_uri": "https://localhost:8080/"
        },
        "id": "AyVQ2Auk53gl",
        "outputId": "a4b4c8ed-938f-49c1-e29d-feffc2a4c05e"
      },
      "execution_count": 106,
      "outputs": [
        {
          "name": "stdout",
          "output_type": "stream",
          "text": [
            "문자열 두 개를 스페이스 기준으로 입력해주세요 : d, d\n"
          ]
        },
        {
          "output_type": "execute_result",
          "data": {
            "text/plain": [
              "('d', ' d')"
            ]
          },
          "metadata": {},
          "execution_count": 106
        }
      ]
    },
    {
      "cell_type": "code",
      "source": [
        "a, b = input('문자열 두 개를 콤마(,) 기준으로 입력해주세요 : ').split(',')\n",
        "a, b"
      ],
      "metadata": {
        "colab": {
          "base_uri": "https://localhost:8080/"
        },
        "id": "WTBKQPoO598E",
        "outputId": "85d8a3e2-7cdd-4be5-f3eb-56eb6ecbbd46"
      },
      "execution_count": 107,
      "outputs": [
        {
          "name": "stdout",
          "output_type": "stream",
          "text": [
            "문자열 두 개를 콤마(,) 기준으로 입력해주세요 : ㅁㄴㅇ, ㅁㄴㅇ\n"
          ]
        },
        {
          "output_type": "execute_result",
          "data": {
            "text/plain": [
              "('ㅁㄴㅇ', ' ㅁㄴㅇ')"
            ]
          },
          "metadata": {},
          "execution_count": 107
        }
      ]
    },
    {
      "cell_type": "code",
      "source": [
        "a, b = input('숫자 두 개를 입력하세요 : ').split()\n",
        "a + b"
      ],
      "metadata": {
        "colab": {
          "base_uri": "https://localhost:8080/",
          "height": 53
        },
        "id": "LCl9DxNK6YEV",
        "outputId": "28fe78e6-0f5a-4814-a748-10a273cfaa62"
      },
      "execution_count": 108,
      "outputs": [
        {
          "name": "stdout",
          "output_type": "stream",
          "text": [
            "숫자 두 개를 입력하세요 : 1 2\n"
          ]
        },
        {
          "output_type": "execute_result",
          "data": {
            "text/plain": [
              "'12'"
            ],
            "application/vnd.google.colaboratory.intrinsic+json": {
              "type": "string"
            }
          },
          "metadata": {},
          "execution_count": 108
        }
      ]
    },
    {
      "cell_type": "code",
      "source": [
        "a, b = input('숫자 두 개를 입력하세요 : ').split()\n",
        "int(a) + int(b)"
      ],
      "metadata": {
        "colab": {
          "base_uri": "https://localhost:8080/"
        },
        "id": "T6-nTC_U6pUg",
        "outputId": "f09feee0-5bd1-439e-92c7-d0261002bbf8"
      },
      "execution_count": 111,
      "outputs": [
        {
          "name": "stdout",
          "output_type": "stream",
          "text": [
            "숫자 두 개를 입력하세요 : 1 4\n"
          ]
        },
        {
          "output_type": "execute_result",
          "data": {
            "text/plain": [
              "5"
            ]
          },
          "metadata": {},
          "execution_count": 111
        }
      ]
    },
    {
      "cell_type": "code",
      "source": [
        "a, b = input('숫자 두 개를 입력하세요 : ').split()\n",
        "a = int(a)\n",
        "b = int(b)\n",
        "a + b\n"
      ],
      "metadata": {
        "colab": {
          "base_uri": "https://localhost:8080/"
        },
        "id": "Nxi1-Uk461lF",
        "outputId": "083b6aba-1721-4d2f-ce6d-c56120fa8265"
      },
      "execution_count": 113,
      "outputs": [
        {
          "name": "stdout",
          "output_type": "stream",
          "text": [
            "숫자 두 개를 입력하세요 : 8 13\n"
          ]
        },
        {
          "output_type": "execute_result",
          "data": {
            "text/plain": [
              "21"
            ]
          },
          "metadata": {},
          "execution_count": 113
        }
      ]
    },
    {
      "cell_type": "code",
      "source": [
        "a, b = map(int , input('숫자 두 개를 입력하세요 : ').split()) # ()는 실행\n",
        "# map(실행되기 전에 함수, 함수를 통해서 처리하고 싶은 값들)\n",
        "a + b"
      ],
      "metadata": {
        "colab": {
          "base_uri": "https://localhost:8080/"
        },
        "id": "HXDPysnc7Kvt",
        "outputId": "dc16aad7-3c34-45f8-9def-a6a46e69723a"
      },
      "execution_count": 115,
      "outputs": [
        {
          "name": "stdout",
          "output_type": "stream",
          "text": [
            "숫자 두 개를 입력하세요 : 1 2\n"
          ]
        },
        {
          "output_type": "execute_result",
          "data": {
            "text/plain": [
              "3"
            ]
          },
          "metadata": {},
          "execution_count": 115
        }
      ]
    },
    {
      "cell_type": "code",
      "source": [
        "a, b = map(float , input('숫자 두 개를 입력하세요 : ').split()) # ()는 실행\n",
        "# map(실행되기 전에 함수, 함수를 통해서 처리하고 싶은 값들)\n",
        "a + b"
      ],
      "metadata": {
        "id": "qlUvf8Ig7zfi"
      },
      "execution_count": null,
      "outputs": []
    },
    {
      "cell_type": "code",
      "source": [
        "a, b = map(type , input('숫자 두 개를 입력하세요 : ').split()) # ()는 실행\n",
        "# map(실행되기 전에 함수, 함수를 통해서 처리하고 싶은 값들)\n",
        "a + b"
      ],
      "metadata": {
        "colab": {
          "base_uri": "https://localhost:8080/",
          "height": 227
        },
        "id": "1sT9DG6K7_-V",
        "outputId": "4ad50a6d-7b35-4c95-aed9-0c370c5e8f1d"
      },
      "execution_count": 116,
      "outputs": [
        {
          "name": "stdout",
          "output_type": "stream",
          "text": [
            "숫자 두 개를 입력하세요 : 1 2\n"
          ]
        },
        {
          "output_type": "error",
          "ename": "TypeError",
          "evalue": "ignored",
          "traceback": [
            "\u001b[0;31m---------------------------------------------------------------------------\u001b[0m",
            "\u001b[0;31mTypeError\u001b[0m                                 Traceback (most recent call last)",
            "\u001b[0;32m<ipython-input-116-296a7579b9f0>\u001b[0m in \u001b[0;36m<module>\u001b[0;34m\u001b[0m\n\u001b[1;32m      1\u001b[0m \u001b[0ma\u001b[0m\u001b[0;34m,\u001b[0m \u001b[0mb\u001b[0m \u001b[0;34m=\u001b[0m \u001b[0mmap\u001b[0m\u001b[0;34m(\u001b[0m\u001b[0mtype\u001b[0m \u001b[0;34m,\u001b[0m \u001b[0minput\u001b[0m\u001b[0;34m(\u001b[0m\u001b[0;34m'숫자 두 개를 입력하세요 : '\u001b[0m\u001b[0;34m)\u001b[0m\u001b[0;34m.\u001b[0m\u001b[0msplit\u001b[0m\u001b[0;34m(\u001b[0m\u001b[0;34m)\u001b[0m\u001b[0;34m)\u001b[0m \u001b[0;31m# ()는 실행\u001b[0m\u001b[0;34m\u001b[0m\u001b[0;34m\u001b[0m\u001b[0m\n\u001b[1;32m      2\u001b[0m \u001b[0;31m# map(실행되기 전에 함수)\u001b[0m\u001b[0;34m\u001b[0m\u001b[0;34m\u001b[0m\u001b[0;34m\u001b[0m\u001b[0m\n\u001b[0;32m----> 3\u001b[0;31m \u001b[0ma\u001b[0m \u001b[0;34m+\u001b[0m \u001b[0mb\u001b[0m\u001b[0;34m\u001b[0m\u001b[0;34m\u001b[0m\u001b[0m\n\u001b[0m",
            "\u001b[0;31mTypeError\u001b[0m: unsupported operand type(s) for +: 'type' and 'type'"
          ]
        }
      ]
    },
    {
      "cell_type": "code",
      "source": [
        "a, b = map(print , input('숫자 두 개를 입력하세요 : ').split()) # ()는 실행\n",
        "# map(실행되기 전에 함수, 함수를 통해서 처리하고 싶은 값들)\n",
        "a + b"
      ],
      "metadata": {
        "colab": {
          "base_uri": "https://localhost:8080/",
          "height": 264
        },
        "id": "3n-M6nsX8FGn",
        "outputId": "ffa4ed83-0a92-4ac1-ca02-1a01d1f7c16e"
      },
      "execution_count": 118,
      "outputs": [
        {
          "output_type": "stream",
          "name": "stdout",
          "text": [
            "숫자 두 개를 입력하세요 : 3 4\n",
            "3\n",
            "4\n"
          ]
        },
        {
          "output_type": "error",
          "ename": "TypeError",
          "evalue": "ignored",
          "traceback": [
            "\u001b[0;31m---------------------------------------------------------------------------\u001b[0m",
            "\u001b[0;31mTypeError\u001b[0m                                 Traceback (most recent call last)",
            "\u001b[0;32m<ipython-input-118-d313eae88e98>\u001b[0m in \u001b[0;36m<module>\u001b[0;34m\u001b[0m\n\u001b[1;32m      1\u001b[0m \u001b[0ma\u001b[0m\u001b[0;34m,\u001b[0m \u001b[0mb\u001b[0m \u001b[0;34m=\u001b[0m \u001b[0mmap\u001b[0m\u001b[0;34m(\u001b[0m\u001b[0mprint\u001b[0m \u001b[0;34m,\u001b[0m \u001b[0minput\u001b[0m\u001b[0;34m(\u001b[0m\u001b[0;34m'숫자 두 개를 입력하세요 : '\u001b[0m\u001b[0;34m)\u001b[0m\u001b[0;34m.\u001b[0m\u001b[0msplit\u001b[0m\u001b[0;34m(\u001b[0m\u001b[0;34m)\u001b[0m\u001b[0;34m)\u001b[0m \u001b[0;31m# ()는 실행\u001b[0m\u001b[0;34m\u001b[0m\u001b[0;34m\u001b[0m\u001b[0m\n\u001b[1;32m      2\u001b[0m \u001b[0;31m# map(실행되기 전에 함수, 함수를 통해서 처리하고 싶은 값들)\u001b[0m\u001b[0;34m\u001b[0m\u001b[0;34m\u001b[0m\u001b[0;34m\u001b[0m\u001b[0m\n\u001b[0;32m----> 3\u001b[0;31m \u001b[0ma\u001b[0m \u001b[0;34m+\u001b[0m \u001b[0mb\u001b[0m\u001b[0;34m\u001b[0m\u001b[0;34m\u001b[0m\u001b[0m\n\u001b[0m",
            "\u001b[0;31mTypeError\u001b[0m: unsupported operand type(s) for +: 'NoneType' and 'NoneType'"
          ]
        }
      ]
    },
    {
      "cell_type": "code",
      "source": [
        "print(\"hello world\")"
      ],
      "metadata": {
        "colab": {
          "base_uri": "https://localhost:8080/"
        },
        "id": "uijd2pGy8Sm7",
        "outputId": "ced1f4ca-c47f-4e44-c6b6-5306a2c8e27b"
      },
      "execution_count": 119,
      "outputs": [
        {
          "output_type": "stream",
          "name": "stdout",
          "text": [
            "hello world\n"
          ]
        }
      ]
    },
    {
      "cell_type": "code",
      "source": [
        "print(\"a\",\"b\", 1) # 매개 변수의 갯수가 정해져 있지 않은 함수 # args..."
      ],
      "metadata": {
        "colab": {
          "base_uri": "https://localhost:8080/"
        },
        "id": "Lm4rUcZP_PAJ",
        "outputId": "f5304381-6db0-496c-c321-33159d9a3fa1"
      },
      "execution_count": 120,
      "outputs": [
        {
          "output_type": "stream",
          "name": "stdout",
          "text": [
            "a b 1\n"
          ]
        }
      ]
    },
    {
      "cell_type": "code",
      "source": [
        "print(\"a\",\"b\", 1, sep =' ')\n",
        "print(\"a\",\"b\", 1, sep ='')\n",
        "print(\"a\",\"b\", 1, sep =';')\n",
        "print(\"a\",\"b\", 1, sep ='랑 ')"
      ],
      "metadata": {
        "colab": {
          "base_uri": "https://localhost:8080/"
        },
        "id": "HqWkd_rH_fc4",
        "outputId": "9b48db15-8faf-4c5c-c0ea-d7cd3c714877"
      },
      "execution_count": 126,
      "outputs": [
        {
          "output_type": "stream",
          "name": "stdout",
          "text": [
            "a b 1\n",
            "ab1\n",
            "a;b;1\n",
            "a랑 b랑 1\n"
          ]
        }
      ]
    },
    {
      "cell_type": "code",
      "source": [
        "print(\"민지\", end = '\\n') # 자동으로 줄바꿈이 됨\n",
        "print(\"다니엘\")\n",
        "print(\"혜인\", end='')\n",
        "print('혜린', end= '이라는 사람, \\n')\n",
        "print('하니')"
      ],
      "metadata": {
        "colab": {
          "base_uri": "https://localhost:8080/"
        },
        "id": "TuQJeX2HAL8S",
        "outputId": "e97bd976-3245-4e7b-f3fe-30992f2261c8"
      },
      "execution_count": 130,
      "outputs": [
        {
          "output_type": "stream",
          "name": "stdout",
          "text": [
            "민지\n",
            "다니엘\n",
            "혜인혜린이라는 사람, \n",
            "하니\n"
          ]
        }
      ]
    },
    {
      "cell_type": "code",
      "source": [
        "print(\"민지\\n다니엘\\n혜인\\n해린\\n하니\")"
      ],
      "metadata": {
        "colab": {
          "base_uri": "https://localhost:8080/"
        },
        "id": "SwVx5KblARHO",
        "outputId": "711a385e-8f40-45b6-a982-bdd340947af2"
      },
      "execution_count": 131,
      "outputs": [
        {
          "output_type": "stream",
          "name": "stdout",
          "text": [
            "민지\n",
            "다니엘\n",
            "혜인\n",
            "해린\n",
            "하니\n"
          ]
        }
      ]
    },
    {
      "cell_type": "code",
      "source": [
        "1_000_000\n",
        "100_000"
      ],
      "metadata": {
        "colab": {
          "base_uri": "https://localhost:8080/"
        },
        "id": "ED8pYzciBd6W",
        "outputId": "1064eaa4-591f-477a-8056-1b89c1f9fc07"
      },
      "execution_count": 132,
      "outputs": [
        {
          "output_type": "execute_result",
          "data": {
            "text/plain": [
              "100000000000000"
            ]
          },
          "metadata": {},
          "execution_count": 132
        }
      ]
    },
    {
      "cell_type": "code",
      "source": [
        "_"
      ],
      "metadata": {
        "colab": {
          "base_uri": "https://localhost:8080/"
        },
        "id": "EHvyxuk2BmKR",
        "outputId": "a93a7522-3e3f-4642-9411-b03b433ce082"
      },
      "execution_count": 133,
      "outputs": [
        {
          "output_type": "execute_result",
          "data": {
            "text/plain": [
              "100000000000000"
            ]
          },
          "metadata": {},
          "execution_count": 133
        }
      ]
    },
    {
      "cell_type": "code",
      "source": [],
      "metadata": {
        "id": "w6hMVYtYBnIV"
      },
      "execution_count": null,
      "outputs": []
    }
  ]
}
