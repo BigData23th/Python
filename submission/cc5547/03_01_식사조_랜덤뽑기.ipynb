{
  "nbformat": 4,
  "nbformat_minor": 0,
  "metadata": {
    "colab": {
      "provenance": [],
      "authorship_tag": "ABX9TyNtO2BTI29aWpgLuYwmqNLR",
      "include_colab_link": true
    },
    "kernelspec": {
      "name": "python3",
      "display_name": "Python 3"
    },
    "language_info": {
      "name": "python"
    }
  },
  "cells": [
    {
      "cell_type": "markdown",
      "metadata": {
        "id": "view-in-github",
        "colab_type": "text"
      },
      "source": [
        "<a href=\"https://colab.research.google.com/github/cc5547/Python/blob/main/submission/cc5547/03_01_%EC%8B%9D%EC%82%AC%EC%A1%B0_%EB%9E%9C%EB%8D%A4%EB%BD%91%EA%B8%B0.ipynb\" target=\"_parent\"><img src=\"https://colab.research.google.com/assets/colab-badge.svg\" alt=\"Open In Colab\"/></a>"
      ]
    },
    {
      "cell_type": "code",
      "execution_count": 10,
      "metadata": {
        "colab": {
          "base_uri": "https://localhost:8080/"
        },
        "id": "6tpkBXRLE5Ip",
        "outputId": "eb1b1c6b-bf58-41ff-fd27-f90d11ac6741"
      },
      "outputs": [
        {
          "output_type": "stream",
          "name": "stdout",
          "text": [
            "24\n",
            "[4, 15, 9, 5]\n",
            "[3, 19, 1, 10]\n",
            "[8, 16, 21, 17]\n",
            "[13, 23, 14, 12]\n",
            "[11, 7, 6, 18]\n",
            "[20, 2, 22, 24]\n"
          ]
        }
      ],
      "source": [
        "# 4 X 6 난수 뽑기\n",
        "import random # random 모듈을 선언(사용).\n",
        "\n",
        "members = list(range(1, 25)) # members라는 변수에 1 ~ 24의 list를 대입(24명).\n",
        "\n",
        "random.shuffle(members) # .->(접근 연산자)로 random 모듈에 접근하여 shuffle 메서드를 사용한다.\n",
        "                        # shuffle 메서드의 기능인 무작위로 숫자를 섞는다.\n",
        "                        # 즉 members라는 변수의 1 ~ 24 가 순서대대로 들어있는 list를 섞는다.\n",
        "\n",
        "for i in range(0, len(members), 4): # i는 0부터 변수 members의 크기만큼인 24까지 4씩 증가하며 반복문을 실행한다. x 6회\n",
        "    print(members[i:i+4])           # index[i:i+4] i는 0이므로(초기 시작) 인덱스 번호대로 0 ~ 3 4개씩 출력한다.\n",
        "                                    # *중요* 위 shuffle 후 인덱스 순으로 리스트 내 값을 뽑아 내어 중복되는 숫자를 배제한다."
      ]
    }
  ]
}