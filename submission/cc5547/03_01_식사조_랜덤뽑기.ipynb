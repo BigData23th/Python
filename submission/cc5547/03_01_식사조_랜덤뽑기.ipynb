{
  "nbformat": 4,
  "nbformat_minor": 0,
  "metadata": {
    "colab": {
      "provenance": [],
      "authorship_tag": "ABX9TyPBVBBYsT3OdLjDggGJZjmN",
      "include_colab_link": true
    },
    "kernelspec": {
      "name": "python3",
      "display_name": "Python 3"
    },
    "language_info": {
      "name": "python"
    }
  },
  "cells": [
    {
      "cell_type": "markdown",
      "metadata": {
        "id": "view-in-github",
        "colab_type": "text"
      },
      "source": [
        "<a href=\"https://colab.research.google.com/github/cc5547/Python/blob/main/submission/cc5547/03_01_%EC%8B%9D%EC%82%AC%EC%A1%B0_%EB%9E%9C%EB%8D%A4%EB%BD%91%EA%B8%B0.ipynb\" target=\"_parent\"><img src=\"https://colab.research.google.com/assets/colab-badge.svg\" alt=\"Open In Colab\"/></a>"
      ]
    },
    {
      "cell_type": "code",
      "execution_count": 4,
      "metadata": {
        "colab": {
          "base_uri": "https://localhost:8080/"
        },
        "id": "6tpkBXRLE5Ip",
        "outputId": "112ebd7c-4fbf-4c50-890c-274745c1c19d"
      },
      "outputs": [
        {
          "output_type": "stream",
          "name": "stdout",
          "text": [
            "[20, 4, 8, 14]\n",
            "[16, 23, 19, 10]\n",
            "[3, 13, 7, 1]\n",
            "[2, 12, 9, 21]\n",
            "[15, 6, 22, 5]\n",
            "[18, 11, 17, 24]\n"
          ]
        }
      ],
      "source": [
        "import random\n",
        "\n",
        "members = list(range(1, 25))\n",
        "\n",
        "random.shuffle(members)\n",
        "\n",
        "for i in range(0, len(members), 4):\n",
        "    print(members[i:i+4])"
      ]
    }
  ]
}