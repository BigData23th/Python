{
  "nbformat": 4,
  "nbformat_minor": 0,
  "metadata": {
    "colab": {
      "provenance": [],
      "authorship_tag": "ABX9TyNunxrXz//6CybpM2u8vePJ",
      "include_colab_link": true
    },
    "kernelspec": {
      "name": "python3",
      "display_name": "Python 3"
    },
    "language_info": {
      "name": "python"
    }
  },
  "cells": [
    {
      "cell_type": "markdown",
      "metadata": {
        "id": "view-in-github",
        "colab_type": "text"
      },
      "source": [
        "<a href=\"https://colab.research.google.com/github/Sangmok-Kim/Python_bigdata23/blob/main/submission/sangmok/'%EC%97%B0%EC%8A%B5%EC%9A%A9_%EB%A7%88%ED%81%AC%EB%8B%A4%EC%9A%B4.ipynb\" target=\"_parent\"><img src=\"https://colab.research.google.com/assets/colab-badge.svg\" alt=\"Open In Colab\"/></a>"
      ]
    },
    {
      "cell_type": "markdown",
      "source": [
        "# 제목\n",
        "## 제목2단계\n",
        "##### 제목 5단계\n",
        "\n",
        "줄바꿈은<br>이렇게\n",
        "\n",
        "**굵게** __굵게__\n",
        "*기울게* _기울게_\n",
        "<br><u>밑줄</u>\n",
        "<mark>형광펜<mark/>\n",
        "\n",
        "> 인용문\n",
        ">> 내부 인용문\n",
        "\n",
        "---\n",
        "\n",
        "## 순서 없는 리스트\n",
        "* 사과\n",
        " * 사과나무\n",
        "* 배\n",
        "* 자두\n",
        "\n",
        "## 순서 있는 리스트\n",
        "1. 파이썬\n",
        "2. 자바\n",
        "  1. jj\n",
        "  2. kk\n",
        "3. SQL\n",
        "<br>...<br>\n",
        "1. 파이썬\n",
        "1. 자바\n",
        "  1. jj\n",
        "  1. kk\n",
        "1. SQL\n",
        "\n",
        "\n",
        "    **코드블록 내의 문법은 무시** (Tab 2번)\n",
        "\n",
        "한 줄 코드블록\n",
        "`print(\"hello\")`\n",
        "\n",
        "여러 줄 코드블록\n",
        "```\n",
        "for i in range(10):\n",
        "  print(i**2)\n",
        "```\n",
        "\n",
        "표 만들기\n",
        "\n",
        "|제목|작가|출판일|\n",
        "|-|-|-|\n",
        "|장발장|ㄱㄱㄱ| 2020|\n",
        "|파이썬|ㄴㄴㄴ|2023|\n",
        "\n",
        "|제목|작가|출판일|\n",
        "|:-|:-|:-|\n",
        "|장발장|ㄱㄱㄱ| 2020|\n",
        "|파이썬|ㄴㄴㄴ|2023|\n",
        "\n",
        "|제목|작가|출판일|\n",
        "|-:|-:|-:|\n",
        "|장발장|ㄱㄱㄱ| 2020|\n",
        "|파이썬|ㄴㄴㄴ|2023|\n",
        "\n",
        "---\n",
        "\n",
        "[네이버](www.naver.com)<br>\n",
        "![물음표이미지](https://t1.daumcdn.net/thumb/R720x0/?fname=http://t1.daumcdn.net/brunch/service/user/3iB/image/ZhcI9VyloYMf4LPXRlaEx32mWcs.jpg)<br>\n",
        "\n",
        "\n",
        "- [ ] 체크박스\n",
        "- [x] 체크박스\n",
        "\n",
        "\n",
        "latex dd"
      ],
      "metadata": {
        "id": "cfHkvVzk6Qkr"
      }
    }
  ]
}