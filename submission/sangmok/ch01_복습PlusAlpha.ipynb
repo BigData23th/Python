{
  "nbformat": 4,
  "nbformat_minor": 0,
  "metadata": {
    "colab": {
      "provenance": [],
      "authorship_tag": "ABX9TyOkQqyp9lJaDeYyZr523HpU",
      "include_colab_link": true
    },
    "kernelspec": {
      "name": "python3",
      "display_name": "Python 3"
    },
    "language_info": {
      "name": "python"
    }
  },
  "cells": [
    {
      "cell_type": "markdown",
      "metadata": {
        "id": "view-in-github",
        "colab_type": "text"
      },
      "source": [
        "<a href=\"https://colab.research.google.com/github/Sangmok-Kim/Python_bigdata23/blob/main/submission/sangmok/ch01_%EB%B3%B5%EC%8A%B5PlusAlpha.ipynb\" target=\"_parent\"><img src=\"https://colab.research.google.com/assets/colab-badge.svg\" alt=\"Open In Colab\"/></a>"
      ]
    },
    {
      "cell_type": "code",
      "execution_count": null,
      "metadata": {
        "colab": {
          "base_uri": "https://localhost:8080/"
        },
        "id": "OWle5UzibsGl",
        "outputId": "b1b13ec9-cbbb-466d-b2be-91290397e633"
      },
      "outputs": [
        {
          "output_type": "stream",
          "name": "stdout",
          "text": [
            "Hello World\n"
          ]
        }
      ],
      "source": [
        "print('hello world'.title())"
      ]
    },
    {
      "cell_type": "code",
      "source": [
        "# Ctrl Enter: 셀 내용 실행\n",
        "# Alt Enter: 실행시킨 후 하단에 코드 셀 추가\n",
        "# Ctrl m b: 셀 실행 없이 하단에 코드 셀 추가"
      ],
      "metadata": {
        "id": "di7IUGV0cRbH"
      },
      "execution_count": null,
      "outputs": []
    },
    {
      "cell_type": "code",
      "source": [
        "# Colab은 리눅스 환경에서 작동된다. 리눅스는 커널(터미널)을 통해서 명령어로 작동하는 OS.\n",
        "# 리눅스의 특정한 기능을 하기 위해서는 터미널에 명령어를 넣어야 한다.\n",
        "# 코랩은 파이썬이 이미 실행되고 있는 환경이므로, 외부의 기능인 리눅스 터미널을 불러오기 위해 !를 앞에 붙인다.\n",
        "\n",
        "!python --version\n",
        "# !python -v ???"
      ],
      "metadata": {
        "colab": {
          "base_uri": "https://localhost:8080/"
        },
        "id": "lPqpad8PcPgZ",
        "outputId": "44705252-edc4-46c1-ebf8-3f6626afce09"
      },
      "execution_count": null,
      "outputs": [
        {
          "output_type": "stream",
          "name": "stdout",
          "text": [
            "Python 3.8.10\n"
          ]
        }
      ]
    },
    {
      "cell_type": "code",
      "source": [
        "print('mycolab')\n",
        "print('mycolab')\n",
        "print('mycolab')\n",
        "print('mycolab')\n",
        "print('mycolab')\n",
        "print('mycolab')\n",
        "print('mycolab')\n",
        "print('mycolab')\n",
        "print('mycolab')\n",
        "print('mycolab')\n",
        "print('mycolab')\n",
        "print('mycolab')\n",
        "\n",
        "# Shift Home(7) / Shift End(1) 익숙해지기\n",
        "# 여러 줄 블록 시 위 기능을 사용한 후 Ctrl Shift 방향키로 올라/내려가기 (마우스 쓰지 말기)"
      ],
      "metadata": {
        "colab": {
          "base_uri": "https://localhost:8080/"
        },
        "id": "-Rkv4biPeD90",
        "outputId": "62790ff7-b2b3-4b20-bfa1-37aa17a2aba6"
      },
      "execution_count": null,
      "outputs": [
        {
          "output_type": "stream",
          "name": "stdout",
          "text": [
            "mycolab\n",
            "mycolab\n",
            "mycolab\n",
            "mycolab\n",
            "mycolab\n",
            "mycolab\n",
            "mycolab\n",
            "mycolab\n",
            "mycolab\n",
            "mycolab\n",
            "mycolab\n",
            "mycolab\n"
          ]
        }
      ]
    },
    {
      "cell_type": "code",
      "source": [
        "# Ctrl m - : 특정 행 기준으로 셀 분할\n",
        "# Ctrl m d : 셀 삭제"
      ],
      "metadata": {
        "id": "PtBLbt-xcQQh"
      },
      "execution_count": null,
      "outputs": []
    },
    {
      "cell_type": "code",
      "source": [
        "ㄴㅇㄹㅇㄴㄹ"
      ],
      "metadata": {
        "id": "2ZMcqA75gann"
      },
      "execution_count": null,
      "outputs": []
    },
    {
      "cell_type": "code",
      "source": [
        "# 커서 이동 연습용\n",
        "'''\n",
        "패킷 필터\n",
        "패킷을 검사하여 미리 설정된 정책에 맞지 않을 경우 통과시키지 않도록 하는 형태의 방화벽을 패킷 필터라 한다. 패킷을 다룬다는 측면에서 TCP/IP의 네트워크 계층에서 동작하는 방화벽이다. 방화벽 관리자는 보호할 네트워크에 적용할 규칙 또는 정책을 설정하여야 하고 설정이 되어 있지 않다면 기본 정책이 적용된다. 흔히 커널 레벨에서 수행되고 프록시 방식에 비해 제한된 검사만을 수행하여 더 많은 트래픽을 처리할 수 있다는 장점이 있다.\n",
        "패킷 필터 방화벽은 순수하게 패킷 자체를 볼 것인지, 패킷이 속하는 TCP 또는 UDP 세션 (또는 플로우 라고도 함)도 같이 관리할 것인지에 따라 다시 두 종류로 분류할 수 있다.\n",
        "패킷 자체를 본다면 내부적으로 상태를 관리할 필요가 없으므로 이 종류를 스테이트리스 또는 무상태 방화벽이라 한다. 이 종류의 방화벽은 쉽게 구현할 수 있지만, 모든 패킷에 대해서 매번 정책을 검사하여야 하므로 정책이 많아질수록 속도가 느려지는 단점이 있다.\n",
        "패킷이 속하는 세션을 관리하여 이 세션에 속하는 패킷들에 대해서 모두 동일한 처리를 하게 하는 방화벽의 종류를 스테이트 풀 방화벽이라 하고 \"상태가 있는 방화벽\" 또는 유상태 방화벽이라 번역할 수 있다. 방화벽은 두 통신 당사자 간에 세션이 생성될 수 있는 패킷 조합을 감지하여 동적 정책을 내부적으로 관리하며 이 세션에 속하는 패킷들은 방화벽 관리자에 의해서 한번 설정된 후 자주 바뀌지 않는 정적 정책에 비해서 빠르게 검색할 수 있는 동적 정책에 의해서 먼저 허용 또는 거부되므로 무상태 방화벽에 비해서 일반적으로 높은 속도를 제공할 수 있다.\n",
        "유닉스 계열의 OS는 ipfw(FreeBSD), pf(OpenBSD 및 다른 BSD계열), ipf(다양한 유닉스에서 지원), iptables/ipchain(리눅스) 등의 다양한 커널 기반의 방화벽을 제공한다.\n",
        "'''"
      ],
      "metadata": {
        "id": "ot8--9g0g5Tx"
      },
      "execution_count": null,
      "outputs": []
    },
    {
      "cell_type": "code",
      "source": [
        "----"
      ],
      "metadata": {
        "id": "aNcD7kRPxOdR"
      },
      "execution_count": null,
      "outputs": []
    },
    {
      "cell_type": "code",
      "source": [
        "# divmod(a, b) -> (몫, 나머지)\n",
        "# //와 %를 한번에 하는 함수로 반환값이 2개(튜플)\n",
        "for i, tup in enumerate([divmod(10,3), divmod(-10,-3), divmod(-10,3), divmod(10,-3)]):\n",
        "  print(tup)\n",
        "  print(tup[i%2])\n",
        "print(\"----\")\n"
      ],
      "metadata": {
        "colab": {
          "base_uri": "https://localhost:8080/"
        },
        "id": "zcuJ3rBXxOwF",
        "outputId": "315b3183-19ad-4c54-d38b-4ae64c924f99"
      },
      "execution_count": null,
      "outputs": [
        {
          "output_type": "stream",
          "name": "stdout",
          "text": [
            "(3, 1)\n",
            "3\n",
            "(3, -1)\n",
            "-1\n",
            "(-4, 2)\n",
            "-4\n",
            "(-4, -2)\n",
            "-2\n",
            "----\n"
          ]
        }
      ]
    },
    {
      "cell_type": "code",
      "source": [
        "import time\n",
        "print(time.localtime())\n",
        "print(time.localtime().tm_mday)\n",
        "help(time.localtime)\n"
      ],
      "metadata": {
        "colab": {
          "base_uri": "https://localhost:8080/"
        },
        "id": "lfHu5jrNx3tw",
        "outputId": "a15d3710-650a-467d-ca3c-2507a443d336"
      },
      "execution_count": null,
      "outputs": [
        {
          "output_type": "stream",
          "name": "stdout",
          "text": [
            "time.struct_time(tm_year=2023, tm_mon=2, tm_mday=28, tm_hour=2, tm_min=20, tm_sec=52, tm_wday=1, tm_yday=59, tm_isdst=0)\n",
            "28\n",
            "Help on built-in function localtime in module time:\n",
            "\n",
            "localtime(...)\n",
            "    localtime([seconds]) -> (tm_year,tm_mon,tm_mday,tm_hour,tm_min,\n",
            "                              tm_sec,tm_wday,tm_yday,tm_isdst)\n",
            "    \n",
            "    Convert seconds since the Epoch to a time tuple expressing local time.\n",
            "    When 'seconds' is not passed in, convert the current time instead.\n",
            "\n"
          ]
        }
      ]
    },
    {
      "cell_type": "code",
      "source": [
        "time.time()\n",
        "help(time.strftime)\n",
        "print(time.strftime(\"%Y %m %d\"))\n",
        "print(time.strftime(\"%z %p %H %M %S\"))\n",
        "# time.strftime()"
      ],
      "metadata": {
        "colab": {
          "base_uri": "https://localhost:8080/"
        },
        "id": "ZD-f_-zI1Dzq",
        "outputId": "7fd216e2-4905-4d10-9266-46ef2b218f3e"
      },
      "execution_count": null,
      "outputs": [
        {
          "output_type": "stream",
          "name": "stdout",
          "text": [
            "Help on built-in function strftime in module time:\n",
            "\n",
            "strftime(...)\n",
            "    strftime(format[, tuple]) -> string\n",
            "    \n",
            "    Convert a time tuple to a string according to a format specification.\n",
            "    See the library reference manual for formatting codes. When the time tuple\n",
            "    is not present, current time as returned by localtime() is used.\n",
            "    \n",
            "    Commonly used format codes:\n",
            "    \n",
            "    %Y  Year with century as a decimal number.\n",
            "    %m  Month as a decimal number [01,12].\n",
            "    %d  Day of the month as a decimal number [01,31].\n",
            "    %H  Hour (24-hour clock) as a decimal number [00,23].\n",
            "    %M  Minute as a decimal number [00,59].\n",
            "    %S  Second as a decimal number [00,61].\n",
            "    %z  Time zone offset from UTC.\n",
            "    %a  Locale's abbreviated weekday name.\n",
            "    %A  Locale's full weekday name.\n",
            "    %b  Locale's abbreviated month name.\n",
            "    %B  Locale's full month name.\n",
            "    %c  Locale's appropriate date and time representation.\n",
            "    %I  Hour (12-hour clock) as a decimal number [01,12].\n",
            "    %p  Locale's equivalent of either AM or PM.\n",
            "    \n",
            "    Other codes may be available on your platform.  See documentation for\n",
            "    the C library strftime function.\n",
            "\n",
            "2023 02 28\n",
            "+0000 AM 02 29 50\n"
          ]
        }
      ]
    },
    {
      "cell_type": "code",
      "source": [
        "x = input(\"Enter: \")\n",
        "print(float(x) if not x.isalpha() else x)"
      ],
      "metadata": {
        "colab": {
          "base_uri": "https://localhost:8080/"
        },
        "id": "NpYSYIt32Fn0",
        "outputId": "f68a9288-9cbc-431e-88f2-b38763784bf2"
      },
      "execution_count": null,
      "outputs": [
        {
          "output_type": "stream",
          "name": "stdout",
          "text": [
            "Enter: fwae\n",
            "fwae\n"
          ]
        }
      ]
    },
    {
      "cell_type": "code",
      "source": [
        "import sys\n",
        "print(sys.argv)\n",
        "\n",
        "myargv = sys.argv\n",
        "for arg in myargv:\n",
        "    print(arg)"
      ],
      "metadata": {
        "colab": {
          "base_uri": "https://localhost:8080/"
        },
        "id": "Nn4oAqlJ2F8o",
        "outputId": "8aa05162-4b09-4c95-d7db-b3094d5eb127"
      },
      "execution_count": null,
      "outputs": [
        {
          "output_type": "stream",
          "name": "stdout",
          "text": [
            "['/usr/local/lib/python3.8/dist-packages/ipykernel_launcher.py', '-f', '/root/.local/share/jupyter/runtime/kernel-b6b26f15-d64c-4c86-9f18-662c7bbfa82c.json']\n",
            "/usr/local/lib/python3.8/dist-packages/ipykernel_launcher.py\n",
            "-f\n",
            "/root/.local/share/jupyter/runtime/kernel-b6b26f15-d64c-4c86-9f18-662c7bbfa82c.json\n"
          ]
        }
      ]
    },
    {
      "cell_type": "code",
      "source": [
        "print(sys.getrefcount(\"Afasdfasdf\"))\n",
        "a = [1, 2, 3]\n",
        "print(sys.getrefcount(a) - 1)\n",
        "b = a\n",
        "print(sys.getrefcount(a) - 1)\n",
        "c = b\n",
        "print(sys.getrefcount(a) - 1)\n",
        "\n",
        "for val in a:\n",
        "  val += 1\n",
        "\n",
        "print(\"----\\n\", a)\n",
        "print(sys.getrefcount(a) - 1)"
      ],
      "metadata": {
        "colab": {
          "base_uri": "https://localhost:8080/"
        },
        "id": "80HCY_nF2GCd",
        "outputId": "eb26755d-7afc-4ff3-e1cf-fc97ba7054ed"
      },
      "execution_count": null,
      "outputs": [
        {
          "output_type": "stream",
          "name": "stdout",
          "text": [
            "3\n",
            "1\n",
            "2\n",
            "3\n",
            "----\n",
            " [1, 2, 3]\n",
            "3\n"
          ]
        }
      ]
    },
    {
      "cell_type": "code",
      "source": [
        "class cls:\n",
        "  ...\n",
        "cls.a = 0\n",
        "s='afa'\n",
        "t=3\n",
        "\n",
        "tc, ts, tt = map(type, input())\n",
        "\n",
        "\n"
      ],
      "metadata": {
        "id": "ZyShRioC77Ys"
      },
      "execution_count": null,
      "outputs": []
    }
  ]
}