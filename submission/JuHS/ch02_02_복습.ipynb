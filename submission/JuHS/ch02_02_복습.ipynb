{
  "nbformat": 4,
  "nbformat_minor": 0,
  "metadata": {
    "colab": {
      "provenance": [],
      "toc_visible": true,
      "authorship_tag": "ABX9TyP8KkN6ethMOYfJbVa6zcfr",
      "include_colab_link": true
    },
    "kernelspec": {
      "name": "python3",
      "display_name": "Python 3"
    },
    "language_info": {
      "name": "python"
    }
  },
  "cells": [
    {
      "cell_type": "markdown",
      "metadata": {
        "id": "view-in-github",
        "colab_type": "text"
      },
      "source": [
        "<a href=\"https://colab.research.google.com/github/Hyunsung1994/Python_Encore-Track/blob/main/submission/JuHS/ch02_02_%EB%B3%B5%EC%8A%B5.ipynb\" target=\"_parent\"><img src=\"https://colab.research.google.com/assets/colab-badge.svg\" alt=\"Open In Colab\"/></a>"
      ]
    },
    {
      "cell_type": "markdown",
      "source": [
        "# 시퀀스"
      ],
      "metadata": {
        "id": "MTqgjV532GAa"
      }
    },
    {
      "cell_type": "code",
      "execution_count": 8,
      "metadata": {
        "id": "tiE_X2MGyKZO"
      },
      "outputs": [],
      "source": [
        "# 시퀀스 : 0개 이상의 원소가 나열되어서 묶여 있는 자료형\n",
        "# list, tuple, range, str\n",
        "# [] : 대괄호 list\n",
        "# () :소괄호 tuple\n",
        "# \"\" or '' or '''''' or \"\"\"\"\"\" : str"
      ]
    },
    {
      "cell_type": "markdown",
      "source": [
        "## in / not in"
      ],
      "metadata": {
        "id": "7GbiVeKE2NrV"
      }
    },
    {
      "cell_type": "code",
      "source": [
        "# 값 in 시퀀스 객체: <-> for 변수명 in 시퀀스 객체:\n",
        "\"파이썬\" in [\"파이썬\", \"자바\", \"자바스크립트\"]"
      ],
      "metadata": {
        "colab": {
          "base_uri": "https://localhost:8080/"
        },
        "id": "yRa3C_ok0V-J",
        "outputId": "22036574-a33e-4f8f-c9f5-bc6ea00f7f16"
      },
      "execution_count": 10,
      "outputs": [
        {
          "output_type": "execute_result",
          "data": {
            "text/plain": [
              "True"
            ]
          },
          "metadata": {},
          "execution_count": 10
        }
      ]
    },
    {
      "cell_type": "code",
      "source": [
        "a = \"파이썬\"\n",
        "b = [\"파이썬\", \"자바\", \"자바스크립트\"]\n",
        "a in b # bool -> 참과 거짓"
      ],
      "metadata": {
        "colab": {
          "base_uri": "https://localhost:8080/"
        },
        "id": "GN3Ukzq00vZd",
        "outputId": "d5eac933-68ed-4f42-886a-4f269b0aef0c"
      },
      "execution_count": 11,
      "outputs": [
        {
          "output_type": "execute_result",
          "data": {
            "text/plain": [
              "True"
            ]
          },
          "metadata": {},
          "execution_count": 11
        }
      ]
    },
    {
      "cell_type": "code",
      "source": [
        "c = \"C언어\"\n",
        "c in b, c not in b"
      ],
      "metadata": {
        "colab": {
          "base_uri": "https://localhost:8080/"
        },
        "id": "c-GJj84S07Xp",
        "outputId": "e771c6be-03fd-41e9-a5c6-b39e0b62093e"
      },
      "execution_count": 14,
      "outputs": [
        {
          "output_type": "execute_result",
          "data": {
            "text/plain": [
              "(False, True)"
            ]
          },
          "metadata": {},
          "execution_count": 14
        }
      ]
    },
    {
      "cell_type": "code",
      "source": [
        "name = \"주현성\"\n",
        "\"주\" in name, \"현성\" in name"
      ],
      "metadata": {
        "colab": {
          "base_uri": "https://localhost:8080/"
        },
        "id": "hCNPK0L71lOo",
        "outputId": "694826ef-5d63-447e-8ee1-a2143617a0b4"
      },
      "execution_count": 20,
      "outputs": [
        {
          "output_type": "execute_result",
          "data": {
            "text/plain": [
              "(True, True)"
            ]
          },
          "metadata": {},
          "execution_count": 20
        }
      ]
    },
    {
      "cell_type": "code",
      "source": [
        "sentence = \"아버지가 방에 들어가신다\"\n",
        "\"아버지\" in sentence, \"어머니\" in sentence"
      ],
      "metadata": {
        "colab": {
          "base_uri": "https://localhost:8080/"
        },
        "id": "MuBSB_3B1vYc",
        "outputId": "21420f09-2b91-4454-93a8-f5ee9f4740f1"
      },
      "execution_count": 26,
      "outputs": [
        {
          "output_type": "execute_result",
          "data": {
            "text/plain": [
              "(True, False)"
            ]
          },
          "metadata": {},
          "execution_count": 26
        }
      ]
    },
    {
      "cell_type": "code",
      "source": [],
      "metadata": {
        "id": "Q5yyGTtV146v"
      },
      "execution_count": null,
      "outputs": []
    },
    {
      "cell_type": "markdown",
      "source": [
        "## 연결 (+)"
      ],
      "metadata": {
        "id": "jhaCkx0C2UMn"
      }
    },
    {
      "cell_type": "code",
      "source": [
        "a = [\"사과\", \"배\", \"고라니\"]\n",
        "b = [1, 2, 3, 4, 5]\n",
        "a + b # 연결(Concatenate)"
      ],
      "metadata": {
        "colab": {
          "base_uri": "https://localhost:8080/"
        },
        "id": "oK3IyPh-2T7k",
        "outputId": "0a3e5b1b-9233-46ab-f94a-43d119d77adb"
      },
      "execution_count": 28,
      "outputs": [
        {
          "output_type": "execute_result",
          "data": {
            "text/plain": [
              "['사과', '배', '고라니', 1, 2, 3, 4, 5]"
            ]
          },
          "metadata": {},
          "execution_count": 28
        }
      ]
    },
    {
      "cell_type": "code",
      "source": [
        "a, b"
      ],
      "metadata": {
        "colab": {
          "base_uri": "https://localhost:8080/"
        },
        "id": "S23jY-rY2hqe",
        "outputId": "d49ea48e-fc3a-4ff1-c3be-113c4bb60929"
      },
      "execution_count": 31,
      "outputs": [
        {
          "output_type": "execute_result",
          "data": {
            "text/plain": [
              "(['사과', '배', '고라니'], [1, 2, 3, 4, 5])"
            ]
          },
          "metadata": {},
          "execution_count": 31
        }
      ]
    },
    {
      "cell_type": "code",
      "source": [
        "(1, 2, 3) + (4, 5, 6)"
      ],
      "metadata": {
        "colab": {
          "base_uri": "https://localhost:8080/"
        },
        "id": "2yfO5XFq2-SN",
        "outputId": "7e683357-9715-47fc-d977-7fdc19487f80"
      },
      "execution_count": 32,
      "outputs": [
        {
          "output_type": "execute_result",
          "data": {
            "text/plain": [
              "(1, 2, 3, 4, 5, 6)"
            ]
          },
          "metadata": {},
          "execution_count": 32
        }
      ]
    },
    {
      "cell_type": "code",
      "source": [
        "\"이삭\" + \"토스트\""
      ],
      "metadata": {
        "colab": {
          "base_uri": "https://localhost:8080/",
          "height": 36
        },
        "id": "zsEcjtPl3Bk6",
        "outputId": "b7bcead0-8693-4c4c-c951-a21f05c28b62"
      },
      "execution_count": 33,
      "outputs": [
        {
          "output_type": "execute_result",
          "data": {
            "text/plain": [
              "'이삭토스트'"
            ],
            "application/vnd.google.colaboratory.intrinsic+json": {
              "type": "string"
            }
          },
          "metadata": {},
          "execution_count": 33
        }
      ]
    },
    {
      "cell_type": "code",
      "source": [
        "list(range(10)) + list(range(10))"
      ],
      "metadata": {
        "colab": {
          "base_uri": "https://localhost:8080/"
        },
        "id": "_qQhuc8S3DlW",
        "outputId": "f44f747d-4521-47f2-9e58-5de2afbe309a"
      },
      "execution_count": 36,
      "outputs": [
        {
          "output_type": "execute_result",
          "data": {
            "text/plain": [
              "[0, 1, 2, 3, 4, 5, 6, 7, 8, 9, 0, 1, 2, 3, 4, 5, 6, 7, 8, 9]"
            ]
          },
          "metadata": {},
          "execution_count": 36
        }
      ]
    },
    {
      "cell_type": "code",
      "source": [
        "print(\"안녕하세요\", 1, \"학년입니다.\")"
      ],
      "metadata": {
        "colab": {
          "base_uri": "https://localhost:8080/"
        },
        "id": "eaaStoP93XJs",
        "outputId": "23328ea3-7456-4ff0-ee69-7809584c5f50"
      },
      "execution_count": 38,
      "outputs": [
        {
          "output_type": "stream",
          "name": "stdout",
          "text": [
            "안녕하세요 1 학년입니다.\n"
          ]
        }
      ]
    },
    {
      "cell_type": "code",
      "source": [
        "\"안녕하세요\" + 1 + \"학년입니다.\" # int + str : 안됨!"
      ],
      "metadata": {
        "colab": {
          "base_uri": "https://localhost:8080/",
          "height": 169
        },
        "id": "9B2OcInF3dL6",
        "outputId": "081571d1-ab23-4675-e816-ab3b63c271f2"
      },
      "execution_count": 40,
      "outputs": [
        {
          "output_type": "error",
          "ename": "TypeError",
          "evalue": "ignored",
          "traceback": [
            "\u001b[0;31m---------------------------------------------------------------------------\u001b[0m",
            "\u001b[0;31mTypeError\u001b[0m                                 Traceback (most recent call last)",
            "\u001b[0;32m<ipython-input-40-37e97ac927af>\u001b[0m in \u001b[0;36m<module>\u001b[0;34m\u001b[0m\n\u001b[0;32m----> 1\u001b[0;31m \u001b[0;34m\"안녕하세요\"\u001b[0m \u001b[0;34m+\u001b[0m \u001b[0;36m1\u001b[0m \u001b[0;34m+\u001b[0m \u001b[0;34m\"학년입니다.\"\u001b[0m \u001b[0;31m# int + str : 안됨!\u001b[0m\u001b[0;34m\u001b[0m\u001b[0;34m\u001b[0m\u001b[0m\n\u001b[0m",
            "\u001b[0;31mTypeError\u001b[0m: can only concatenate str (not \"int\") to str"
          ]
        }
      ]
    },
    {
      "cell_type": "code",
      "source": [
        "\"안녕하세요.\" + str(1) + \"학년입니다.\""
      ],
      "metadata": {
        "colab": {
          "base_uri": "https://localhost:8080/",
          "height": 36
        },
        "id": "qlkCCOq83uje",
        "outputId": "9a6115fc-a0b0-4d1d-e760-f8f9c2d9ef9a"
      },
      "execution_count": 42,
      "outputs": [
        {
          "output_type": "execute_result",
          "data": {
            "text/plain": [
              "'안녕하세요.1학년입니다.'"
            ],
            "application/vnd.google.colaboratory.intrinsic+json": {
              "type": "string"
            }
          },
          "metadata": {},
          "execution_count": 42
        }
      ]
    },
    {
      "cell_type": "markdown",
      "source": [
        "##반복(*; asterisk)"
      ],
      "metadata": {
        "id": "w-xYT5Mw35Rk"
      }
    },
    {
      "cell_type": "code",
      "source": [
        "# 연결을 n번 이상하는, (시퀀스 객체) * n, n * (시퀀스 객체)\n",
        "[1, 10, 100, 100] * 3"
      ],
      "metadata": {
        "colab": {
          "base_uri": "https://localhost:8080/"
        },
        "id": "pMTSSM0H31sh",
        "outputId": "457e7d73-81ca-44e2-e21a-f476b67533fe"
      },
      "execution_count": 48,
      "outputs": [
        {
          "output_type": "execute_result",
          "data": {
            "text/plain": [
              "[1, 10, 100, 100, 1, 10, 100, 100, 1, 10, 100, 100]"
            ]
          },
          "metadata": {},
          "execution_count": 48
        }
      ]
    },
    {
      "cell_type": "code",
      "source": [
        "[1, 10, 100, 100] + [1, 10, 100, 100] + [1, 10, 100, 100]"
      ],
      "metadata": {
        "colab": {
          "base_uri": "https://localhost:8080/"
        },
        "id": "G6kMnrjn4XWK",
        "outputId": "883df675-1f46-4074-8ff8-e30ae1fb821e"
      },
      "execution_count": 50,
      "outputs": [
        {
          "output_type": "execute_result",
          "data": {
            "text/plain": [
              "[1, 10, 100, 100, 1, 10, 100, 100, 1, 10, 100, 100]"
            ]
          },
          "metadata": {},
          "execution_count": 50
        }
      ]
    },
    {
      "cell_type": "code",
      "source": [
        "[0] * 7 # 0을 7개를 가진 리스트 "
      ],
      "metadata": {
        "colab": {
          "base_uri": "https://localhost:8080/"
        },
        "id": "wetmq53m4pUl",
        "outputId": "0cdcefca-783b-493a-e270-b7eaeb36616d"
      },
      "execution_count": 52,
      "outputs": [
        {
          "output_type": "execute_result",
          "data": {
            "text/plain": [
              "[0, 0, 0, 0, 0, 0, 0]"
            ]
          },
          "metadata": {},
          "execution_count": 52
        }
      ]
    },
    {
      "cell_type": "code",
      "source": [
        "[0] * 0 # 0 이하의 숫자를 대입하면, 빈 리스트"
      ],
      "metadata": {
        "colab": {
          "base_uri": "https://localhost:8080/"
        },
        "id": "uty4qguJ4wQw",
        "outputId": "05fabfcc-1e04-4124-f0aa-6f986889bafa"
      },
      "execution_count": 55,
      "outputs": [
        {
          "output_type": "execute_result",
          "data": {
            "text/plain": [
              "[]"
            ]
          },
          "metadata": {},
          "execution_count": 55
        }
      ]
    },
    {
      "cell_type": "code",
      "source": [
        "range(4) * 4"
      ],
      "metadata": {
        "colab": {
          "base_uri": "https://localhost:8080/",
          "height": 169
        },
        "id": "cWXjN1Ql49hd",
        "outputId": "31690a3c-3319-4d64-d3ce-cadb52ea9698"
      },
      "execution_count": 66,
      "outputs": [
        {
          "output_type": "error",
          "ename": "TypeError",
          "evalue": "ignored",
          "traceback": [
            "\u001b[0;31m---------------------------------------------------------------------------\u001b[0m",
            "\u001b[0;31mTypeError\u001b[0m                                 Traceback (most recent call last)",
            "\u001b[0;32m<ipython-input-66-fedc927d8dd5>\u001b[0m in \u001b[0;36m<module>\u001b[0;34m\u001b[0m\n\u001b[0;32m----> 1\u001b[0;31m \u001b[0mrange\u001b[0m\u001b[0;34m(\u001b[0m\u001b[0;36m4\u001b[0m\u001b[0;34m)\u001b[0m \u001b[0;34m*\u001b[0m \u001b[0;36m4\u001b[0m\u001b[0;34m\u001b[0m\u001b[0;34m\u001b[0m\u001b[0m\n\u001b[0m",
            "\u001b[0;31mTypeError\u001b[0m: unsupported operand type(s) for *: 'range' and 'int'"
          ]
        }
      ]
    },
    {
      "cell_type": "code",
      "source": [
        "tuple(range(4)) * 4"
      ],
      "metadata": {
        "colab": {
          "base_uri": "https://localhost:8080/"
        },
        "id": "raySjnlV5Gak",
        "outputId": "92940d41-134a-412f-a3d5-5bb0e2c24559"
      },
      "execution_count": 67,
      "outputs": [
        {
          "output_type": "execute_result",
          "data": {
            "text/plain": [
              "(0, 1, 2, 3, 0, 1, 2, 3, 0, 1, 2, 3, 0, 1, 2, 3)"
            ]
          },
          "metadata": {},
          "execution_count": 67
        }
      ]
    },
    {
      "cell_type": "markdown",
      "source": [
        "##len()"
      ],
      "metadata": {
        "id": "2FYtZ3e_5cX2"
      }
    },
    {
      "cell_type": "code",
      "source": [
        "# Jave : array, length()\n",
        "# JavaScript : lenght\n",
        "# Python : len(array)\n",
        "len([1, 2, 3]), len((1, 2, 3)), len(range(2, 5, 2)), len(\"문자열\")"
      ],
      "metadata": {
        "colab": {
          "base_uri": "https://localhost:8080/"
        },
        "id": "kSOdOUXX5ZZX",
        "outputId": "4dc6344a-4790-4d5d-84cd-f02dfd161b4c"
      },
      "execution_count": 71,
      "outputs": [
        {
          "output_type": "execute_result",
          "data": {
            "text/plain": [
              "(3, 3, 2, 3)"
            ]
          },
          "metadata": {},
          "execution_count": 71
        }
      ]
    },
    {
      "cell_type": "markdown",
      "source": [
        "##index"
      ],
      "metadata": {
        "id": "_yIDXwUE56qo"
      }
    },
    {
      "cell_type": "code",
      "source": [
        "# 0부터 시작, 전체 길이 -1\n",
        "a = list(range(1, 10, 2))\n",
        "print(a)"
      ],
      "metadata": {
        "colab": {
          "base_uri": "https://localhost:8080/"
        },
        "id": "Nz8p9Xoe56VT",
        "outputId": "fd9e63a9-d5a8-4298-fa2c-9f30b3dbfcee"
      },
      "execution_count": 75,
      "outputs": [
        {
          "output_type": "stream",
          "name": "stdout",
          "text": [
            "[1, 3, 5, 7, 9]\n"
          ]
        }
      ]
    },
    {
      "cell_type": "code",
      "source": [
        "a[2], a[2-1], a[0]"
      ],
      "metadata": {
        "colab": {
          "base_uri": "https://localhost:8080/"
        },
        "id": "Dp_va7Rw6NSZ",
        "outputId": "c455d535-e661-4198-9301-469c55c606b6"
      },
      "execution_count": 77,
      "outputs": [
        {
          "output_type": "execute_result",
          "data": {
            "text/plain": [
              "(5, 3, 1)"
            ]
          },
          "metadata": {},
          "execution_count": 77
        }
      ]
    },
    {
      "cell_type": "code",
      "source": [
        "name = \"김나나씨\"\n",
        "name[0], name[3]"
      ],
      "metadata": {
        "colab": {
          "base_uri": "https://localhost:8080/"
        },
        "id": "DFa71aZl6ae0",
        "outputId": "728cd629-3fd0-4915-985d-a70c4668ddd2"
      },
      "execution_count": 79,
      "outputs": [
        {
          "output_type": "execute_result",
          "data": {
            "text/plain": [
              "('김', '씨')"
            ]
          },
          "metadata": {},
          "execution_count": 79
        }
      ]
    },
    {
      "cell_type": "code",
      "source": [
        "# 음수 index : 뒤에서부터 카운트, len(시퀀스객체) -n\n",
        "# a, a[-n] = a[len(a)-1]\n",
        "print(a)\n",
        "a[-1], a[len(a)-1]"
      ],
      "metadata": {
        "colab": {
          "base_uri": "https://localhost:8080/"
        },
        "id": "XDgZEYQj6iz0",
        "outputId": "3c232ab2-054d-42b5-a51e-e49b083dce09"
      },
      "execution_count": 81,
      "outputs": [
        {
          "output_type": "stream",
          "name": "stdout",
          "text": [
            "[1, 3, 5, 7, 9]\n"
          ]
        },
        {
          "output_type": "execute_result",
          "data": {
            "text/plain": [
              "(9, 9)"
            ]
          },
          "metadata": {},
          "execution_count": 81
        }
      ]
    },
    {
      "cell_type": "code",
      "source": [
        "a[len(a)]"
      ],
      "metadata": {
        "colab": {
          "base_uri": "https://localhost:8080/",
          "height": 169
        },
        "id": "5yP0BRT16y5f",
        "outputId": "572cd45e-8c53-46e1-fb22-8c9e13fde279"
      },
      "execution_count": 84,
      "outputs": [
        {
          "output_type": "error",
          "ename": "IndexError",
          "evalue": "ignored",
          "traceback": [
            "\u001b[0;31m---------------------------------------------------------------------------\u001b[0m",
            "\u001b[0;31mIndexError\u001b[0m                                Traceback (most recent call last)",
            "\u001b[0;32m<ipython-input-84-836f840eaf9f>\u001b[0m in \u001b[0;36m<module>\u001b[0;34m\u001b[0m\n\u001b[0;32m----> 1\u001b[0;31m \u001b[0ma\u001b[0m\u001b[0;34m[\u001b[0m\u001b[0mlen\u001b[0m\u001b[0;34m(\u001b[0m\u001b[0ma\u001b[0m\u001b[0;34m)\u001b[0m\u001b[0;34m]\u001b[0m\u001b[0;34m\u001b[0m\u001b[0;34m\u001b[0m\u001b[0m\n\u001b[0m",
            "\u001b[0;31mIndexError\u001b[0m: list index out of range"
          ]
        }
      ]
    },
    {
      "cell_type": "markdown",
      "source": [
        "## 요소에 값 할당하기\n",
        "* element : 요소, 구성요소, 원소."
      ],
      "metadata": {
        "id": "uF4_u3Kc68oI"
      }
    },
    {
      "cell_type": "code",
      "source": [
        "a = [0] * 5\n",
        "print(a)\n",
        "a[0] = 5\n",
        "a[1] = 13\n",
        "a[2] = 34\n",
        "a[3] = 88\n",
        "a[4] = 100\n",
        "a # 원본에 할당"
      ],
      "metadata": {
        "colab": {
          "base_uri": "https://localhost:8080/"
        },
        "id": "DSHnCBVn68ZA",
        "outputId": "45b38086-4fee-4fec-8f40-089efa382e64"
      },
      "execution_count": 98,
      "outputs": [
        {
          "output_type": "stream",
          "name": "stdout",
          "text": [
            "[0, 0, 0, 0, 0]\n"
          ]
        },
        {
          "output_type": "execute_result",
          "data": {
            "text/plain": [
              "[5, 13, 34, 88, 100]"
            ]
          },
          "metadata": {},
          "execution_count": 98
        }
      ]
    },
    {
      "cell_type": "markdown",
      "source": [
        "## del 시퀀스객체[인덱스]"
      ],
      "metadata": {
        "id": "uAyFMy9i_pAP"
      }
    },
    {
      "cell_type": "code",
      "source": [
        "print(a)\n",
        "del a[1]\n",
        "print(a)"
      ],
      "metadata": {
        "colab": {
          "base_uri": "https://localhost:8080/"
        },
        "id": "1dc7VbXL70er",
        "outputId": "7d96b15a-27d2-4163-af12-18a78b84905b"
      },
      "execution_count": 99,
      "outputs": [
        {
          "output_type": "stream",
          "name": "stdout",
          "text": [
            "[5, 13, 34, 88, 100]\n",
            "[5, 34, 88, 100]\n"
          ]
        }
      ]
    },
    {
      "cell_type": "code",
      "source": [
        "a"
      ],
      "metadata": {
        "colab": {
          "base_uri": "https://localhost:8080/"
        },
        "id": "tlIsqBBK_L1m",
        "outputId": "48c438b8-e0a6-410d-b715-667067033113"
      },
      "execution_count": 100,
      "outputs": [
        {
          "output_type": "execute_result",
          "data": {
            "text/plain": [
              "[5, 34, 88, 100]"
            ]
          },
          "metadata": {},
          "execution_count": 100
        }
      ]
    },
    {
      "cell_type": "markdown",
      "source": [
        "## 슬라이스"
      ],
      "metadata": {
        "id": "W1KGIZ9m_Zyn"
      }
    },
    {
      "cell_type": "code",
      "source": [
        "# 스퀀스객체[시작인덱스:끝인덱스]\n",
        "# 시퀀스객체[시작:], 시퀀스객체[:끝]\n",
        "# 시퀀스객체[시작:끝:증가폭]\n",
        "# 시퀀스객체[::증가폭]\n",
        "a = list(range(0, 100, 10))\n",
        "a"
      ],
      "metadata": {
        "colab": {
          "base_uri": "https://localhost:8080/"
        },
        "id": "lPMHuZyJ_MGs",
        "outputId": "53c8a367-66ef-48c2-9c47-54112e02f1c6"
      },
      "execution_count": 103,
      "outputs": [
        {
          "output_type": "execute_result",
          "data": {
            "text/plain": [
              "[0, 10, 20, 30, 40, 50, 60, 70, 80, 90]"
            ]
          },
          "metadata": {},
          "execution_count": 103
        }
      ]
    },
    {
      "cell_type": "code",
      "source": [
        "# 슬라이스는 원본에 영향을 미치지 않고 사본 만드는 방법\n",
        "a[0:4], len(a), a[0:10]"
      ],
      "metadata": {
        "colab": {
          "base_uri": "https://localhost:8080/"
        },
        "id": "b4vkXq_I_0iB",
        "outputId": "7d281542-ee66-4ce7-924c-4a20ae828119"
      },
      "execution_count": 105,
      "outputs": [
        {
          "output_type": "execute_result",
          "data": {
            "text/plain": [
              "([0, 10, 20, 30], 10, [0, 10, 20, 30, 40, 50, 60, 70, 80, 90])"
            ]
          },
          "metadata": {},
          "execution_count": 105
        }
      ]
    },
    {
      "cell_type": "code",
      "source": [
        "a[1:1] # 빈리스트 : 시작점 = 끝점"
      ],
      "metadata": {
        "colab": {
          "base_uri": "https://localhost:8080/"
        },
        "id": "bjjjlsYaASg1",
        "outputId": "d614c099-0a33-4d4b-bfd2-d07bf356cc75"
      },
      "execution_count": 107,
      "outputs": [
        {
          "output_type": "execute_result",
          "data": {
            "text/plain": [
              "[]"
            ]
          },
          "metadata": {},
          "execution_count": 107
        }
      ]
    },
    {
      "cell_type": "code",
      "source": [
        "a[3:5]"
      ],
      "metadata": {
        "colab": {
          "base_uri": "https://localhost:8080/"
        },
        "id": "0xyliy3cAXxq",
        "outputId": "4d6a37bf-b231-4332-f743-1e45429a67cc"
      },
      "execution_count": 109,
      "outputs": [
        {
          "output_type": "execute_result",
          "data": {
            "text/plain": [
              "[30, 40]"
            ]
          },
          "metadata": {},
          "execution_count": 109
        }
      ]
    },
    {
      "cell_type": "code",
      "source": [
        "a[3:-1], a[3:len(a)-1]"
      ],
      "metadata": {
        "colab": {
          "base_uri": "https://localhost:8080/"
        },
        "id": "J-0eR1ryAiAw",
        "outputId": "d5bd08a2-f745-41aa-8240-1e994c90eefa"
      },
      "execution_count": 113,
      "outputs": [
        {
          "output_type": "execute_result",
          "data": {
            "text/plain": [
              "([30, 40, 50, 60, 70, 80], [30, 40, 50, 60, 70, 80])"
            ]
          },
          "metadata": {},
          "execution_count": 113
        }
      ]
    },
    {
      "cell_type": "code",
      "source": [
        "print(a)\n",
        "list(range(1, 5, 2)), a[1:5:2], a[slice(1, 5, 2)]"
      ],
      "metadata": {
        "colab": {
          "base_uri": "https://localhost:8080/"
        },
        "id": "RhbeoXCvAvWS",
        "outputId": "bcdffc20-6201-4296-b89b-6900fb0e063c"
      },
      "execution_count": 118,
      "outputs": [
        {
          "output_type": "stream",
          "name": "stdout",
          "text": [
            "[0, 10, 20, 30, 40, 50, 60, 70, 80, 90]\n"
          ]
        },
        {
          "output_type": "execute_result",
          "data": {
            "text/plain": [
              "([1, 3], [10, 30], [10, 30])"
            ]
          },
          "metadata": {},
          "execution_count": 118
        }
      ]
    },
    {
      "cell_type": "code",
      "source": [
        "a[:], a, a[0:len(a)]"
      ],
      "metadata": {
        "colab": {
          "base_uri": "https://localhost:8080/"
        },
        "id": "LMQ0qtDmBMBe",
        "outputId": "49cefaf6-a5a0-45e8-ce9b-b7e464a33f24"
      },
      "execution_count": 120,
      "outputs": [
        {
          "output_type": "execute_result",
          "data": {
            "text/plain": [
              "([0, 10, 20, 30, 40, 50, 60, 70, 80, 90],\n",
              " [0, 10, 20, 30, 40, 50, 60, 70, 80, 90],\n",
              " [0, 10, 20, 30, 40, 50, 60, 70, 80, 90])"
            ]
          },
          "metadata": {},
          "execution_count": 120
        }
      ]
    },
    {
      "cell_type": "code",
      "source": [
        "a[1:], a[1:len(a)]"
      ],
      "metadata": {
        "colab": {
          "base_uri": "https://localhost:8080/"
        },
        "id": "jCQU_oj7BUbJ",
        "outputId": "934d8671-f5ff-410f-88b7-f70cffed2c5d"
      },
      "execution_count": 122,
      "outputs": [
        {
          "output_type": "execute_result",
          "data": {
            "text/plain": [
              "([10, 20, 30, 40, 50, 60, 70, 80, 90], [10, 20, 30, 40, 50, 60, 70, 80, 90])"
            ]
          },
          "metadata": {},
          "execution_count": 122
        }
      ]
    },
    {
      "cell_type": "code",
      "source": [
        "a[:5], a[0:5], a[0:5:1]"
      ],
      "metadata": {
        "colab": {
          "base_uri": "https://localhost:8080/"
        },
        "id": "ZoYr0LS5BYzN",
        "outputId": "29207d31-c539-488f-c3a8-4646a1386a25"
      },
      "execution_count": 125,
      "outputs": [
        {
          "output_type": "execute_result",
          "data": {
            "text/plain": [
              "([0, 10, 20, 30, 40], [0, 10, 20, 30, 40], [0, 10, 20, 30, 40])"
            ]
          },
          "metadata": {},
          "execution_count": 125
        }
      ]
    },
    {
      "cell_type": "code",
      "source": [
        "a[::2], a[0:len(a):2]"
      ],
      "metadata": {
        "colab": {
          "base_uri": "https://localhost:8080/"
        },
        "id": "WJGB4OE4BbCV",
        "outputId": "5f88b43d-893d-4dd2-88ec-45a5e9937482"
      },
      "execution_count": 129,
      "outputs": [
        {
          "output_type": "execute_result",
          "data": {
            "text/plain": [
              "([0, 20, 40, 60, 80], [0, 20, 40, 60, 80])"
            ]
          },
          "metadata": {},
          "execution_count": 129
        }
      ]
    },
    {
      "cell_type": "code",
      "source": [
        "print(a)\n",
        "a[::-1], a[len(a)::-1], a[0:len(a):-1]"
      ],
      "metadata": {
        "colab": {
          "base_uri": "https://localhost:8080/"
        },
        "id": "s4SLNWzAB1Rr",
        "outputId": "083cf603-3ad6-455e-ac2a-df1c89fee757"
      },
      "execution_count": 140,
      "outputs": [
        {
          "output_type": "stream",
          "name": "stdout",
          "text": [
            "[0, 10, 20, 30, 40, 50, 60, 70, 80, 90]\n"
          ]
        },
        {
          "output_type": "execute_result",
          "data": {
            "text/plain": [
              "([90, 80, 70, 60, 50, 40, 30, 20, 10, 0],\n",
              " [90, 80, 70, 60, 50, 40, 30, 20, 10, 0],\n",
              " [])"
            ]
          },
          "metadata": {},
          "execution_count": 140
        }
      ]
    },
    {
      "cell_type": "code",
      "source": [
        "a[20:0:-1], a[20::-1]"
      ],
      "metadata": {
        "colab": {
          "base_uri": "https://localhost:8080/"
        },
        "id": "tT-sbpRNCGUQ",
        "outputId": "eecfccd5-f117-427a-f71e-f6534a7c5ecd"
      },
      "execution_count": 142,
      "outputs": [
        {
          "output_type": "execute_result",
          "data": {
            "text/plain": [
              "([90, 80, 70, 60, 50, 40, 30, 20, 10], [90, 80, 70, 60, 50, 40, 30, 20, 10, 0])"
            ]
          },
          "metadata": {},
          "execution_count": 142
        }
      ]
    },
    {
      "cell_type": "code",
      "source": [
        "s = \"hello world\"\n",
        "s[::-1], s[::2], s[1:3]"
      ],
      "metadata": {
        "colab": {
          "base_uri": "https://localhost:8080/"
        },
        "id": "WotY8yH8CQKZ",
        "outputId": "9460b096-518e-47d7-f4f5-7efa519581eb"
      },
      "execution_count": 144,
      "outputs": [
        {
          "output_type": "execute_result",
          "data": {
            "text/plain": [
              "('dlrow olleh', 'hlowrd', 'el')"
            ]
          },
          "metadata": {},
          "execution_count": 144
        }
      ]
    },
    {
      "cell_type": "code",
      "source": [
        "# 할당하기 -> 특정한 슬라이스 범위에 새로운 값들을 끼워넣기\n",
        "# 리스트 only, 갯수가 일치할 필요\n",
        "a = [1, 2, 3, 4, 5]\n",
        "print(a[1:3])\n",
        "a[1:3] = [6, 7, 8, 9]\n",
        "a"
      ],
      "metadata": {
        "colab": {
          "base_uri": "https://localhost:8080/"
        },
        "id": "e_oWUcl9CXqG",
        "outputId": "65922596-96b0-401e-e803-652a1300a495"
      },
      "execution_count": 176,
      "outputs": [
        {
          "output_type": "stream",
          "name": "stdout",
          "text": [
            "[2, 3]\n"
          ]
        },
        {
          "output_type": "execute_result",
          "data": {
            "text/plain": [
              "[1, 6, 7, 8, 9, 4, 5]"
            ]
          },
          "metadata": {},
          "execution_count": 176
        }
      ]
    },
    {
      "cell_type": "code",
      "source": [
        "b[1:10:2]"
      ],
      "metadata": {
        "colab": {
          "base_uri": "https://localhost:8080/"
        },
        "id": "TGcC_GdgC47O",
        "outputId": "f337ae44-f0e4-4494-ea22-8d6282abf515"
      },
      "execution_count": 156,
      "outputs": [
        {
          "output_type": "execute_result",
          "data": {
            "text/plain": [
              "[1, 3, 5, 7, 9]"
            ]
          },
          "metadata": {},
          "execution_count": 156
        }
      ]
    },
    {
      "cell_type": "code",
      "source": [
        "b[1:10:2] = [0] * 5\n",
        "b"
      ],
      "metadata": {
        "colab": {
          "base_uri": "https://localhost:8080/"
        },
        "id": "5WMVkBMSDGFO",
        "outputId": "d48833c1-1e59-4a3f-ed8f-423816be3ec3"
      },
      "execution_count": 160,
      "outputs": [
        {
          "output_type": "execute_result",
          "data": {
            "text/plain": [
              "[0, 0, 2, 0, 4, 0, 6, 0, 8, 0, 10, 11, 12, 13, 14, 15, 16, 17, 18, 19]"
            ]
          },
          "metadata": {},
          "execution_count": 160
        }
      ]
    },
    {
      "cell_type": "code",
      "source": [
        "b[1:10:2] = [0]"
      ],
      "metadata": {
        "colab": {
          "base_uri": "https://localhost:8080/",
          "height": 169
        },
        "id": "0WcUFanXDNOH",
        "outputId": "a195e753-fb92-4678-f36f-677d82dbd421"
      },
      "execution_count": 161,
      "outputs": [
        {
          "output_type": "error",
          "ename": "ValueError",
          "evalue": "ignored",
          "traceback": [
            "\u001b[0;31m---------------------------------------------------------------------------\u001b[0m",
            "\u001b[0;31mValueError\u001b[0m                                Traceback (most recent call last)",
            "\u001b[0;32m<ipython-input-161-823a97fa7ea7>\u001b[0m in \u001b[0;36m<module>\u001b[0;34m\u001b[0m\n\u001b[0;32m----> 1\u001b[0;31m \u001b[0mb\u001b[0m\u001b[0;34m[\u001b[0m\u001b[0;36m1\u001b[0m\u001b[0;34m:\u001b[0m\u001b[0;36m10\u001b[0m\u001b[0;34m:\u001b[0m\u001b[0;36m2\u001b[0m\u001b[0;34m]\u001b[0m \u001b[0;34m=\u001b[0m \u001b[0;34m[\u001b[0m\u001b[0;36m0\u001b[0m\u001b[0;34m]\u001b[0m\u001b[0;34m\u001b[0m\u001b[0;34m\u001b[0m\u001b[0m\n\u001b[0m",
            "\u001b[0;31mValueError\u001b[0m: attempt to assign sequence of size 1 to extended slice of size 5"
          ]
        }
      ]
    },
    {
      "cell_type": "code",
      "source": [
        "print(a)"
      ],
      "metadata": {
        "colab": {
          "base_uri": "https://localhost:8080/"
        },
        "id": "0Cblwl6HDbN2",
        "outputId": "71ddecd5-6d7c-44b9-b371-794918b200ce"
      },
      "execution_count": 177,
      "outputs": [
        {
          "output_type": "stream",
          "name": "stdout",
          "text": [
            "[1, 6, 7, 8, 9, 4, 5]\n"
          ]
        }
      ]
    },
    {
      "cell_type": "code",
      "source": [
        "del a [2:5]\n",
        "a"
      ],
      "metadata": {
        "colab": {
          "base_uri": "https://localhost:8080/"
        },
        "id": "QawcunePDfVB",
        "outputId": "135cdbae-4804-422b-8946-3eaa8f2adb91"
      },
      "execution_count": 178,
      "outputs": [
        {
          "output_type": "execute_result",
          "data": {
            "text/plain": [
              "[1, 6, 4, 5]"
            ]
          },
          "metadata": {},
          "execution_count": 178
        }
      ]
    },
    {
      "cell_type": "markdown",
      "source": [
        "# 딕셔너리"
      ],
      "metadata": {
        "id": "iaSp7PWADqku"
      }
    },
    {
      "cell_type": "code",
      "source": [
        "d = {\n",
        "    \"key\" : \"value\"\n",
        "}\n",
        "d"
      ],
      "metadata": {
        "colab": {
          "base_uri": "https://localhost:8080/"
        },
        "id": "SDU72XCLDnu2",
        "outputId": "9f84df5a-4da9-4a98-ce9d-e8d2cadc0ff2"
      },
      "execution_count": 180,
      "outputs": [
        {
          "output_type": "execute_result",
          "data": {
            "text/plain": [
              "{'key': 'value'}"
            ]
          },
          "metadata": {},
          "execution_count": 180
        }
      ]
    },
    {
      "cell_type": "code",
      "source": [
        "young = {\n",
        "    \"말\" : \"많음\",\n",
        "    \"체력\" : \"딸림\",\n",
        "    \"타고오는지하철\" : 1,\n",
        "    \"잔소리여부\" : True,\n",
        "    \"좋아하는언어\" : [\"파이썬\", \"자바\", \"자바스크립트\"]\n",
        "}"
      ],
      "metadata": {
        "id": "JRYinpXfEThT"
      },
      "execution_count": 194,
      "outputs": []
    },
    {
      "cell_type": "code",
      "source": [
        "# k, v = 1:1 대응\n",
        "kim = {\n",
        "    \"height\" : 170,\n",
        "    \"weight\" : 80,\n",
        "    \"height\" : 180,\n",
        "    \"weight\" : 85\n",
        "} # 중괄호로 묶어야 한다. 'KEY:VALU,'로 값들이 표현\n",
        "kim"
      ],
      "metadata": {
        "colab": {
          "base_uri": "https://localhost:8080/"
        },
        "id": "tWJ2GeV4EyGI",
        "outputId": "8460ce57-9724-4918-936f-47cb3052fd4e"
      },
      "execution_count": 193,
      "outputs": [
        {
          "output_type": "execute_result",
          "data": {
            "text/plain": [
              "{'height': 180, 'weight': 85}"
            ]
          },
          "metadata": {},
          "execution_count": 193
        }
      ]
    },
    {
      "cell_type": "code",
      "source": [
        "#스퀀스형 중에 리스트와, 딕셔너리 자체만 키값으로 쓸 수 없음"
      ],
      "metadata": {
        "id": "4JodTNSpFF-3"
      },
      "execution_count": 195,
      "outputs": []
    },
    {
      "cell_type": "code",
      "source": [
        "{\n",
        "    1: {\n",
        "        2: {\n",
        "            3: {\n",
        "                4: {\n",
        "                    \n",
        "                }\n",
        "            }\n",
        "        }\n",
        "    }\n",
        "}"
      ],
      "metadata": {
        "colab": {
          "base_uri": "https://localhost:8080/"
        },
        "id": "mJmkEin4FdCV",
        "outputId": "bfb351d6-1bb2-4dec-d3a1-065d39382a20"
      },
      "execution_count": 197,
      "outputs": [
        {
          "output_type": "execute_result",
          "data": {
            "text/plain": [
              "{1: {2: {3: {4: {}}}}}"
            ]
          },
          "metadata": {},
          "execution_count": 197
        }
      ]
    },
    {
      "cell_type": "code",
      "source": [
        "kim"
      ],
      "metadata": {
        "colab": {
          "base_uri": "https://localhost:8080/"
        },
        "id": "RqM2fs16FqOM",
        "outputId": "dce321be-f899-4b92-f754-8667ef73191c"
      },
      "execution_count": 199,
      "outputs": [
        {
          "output_type": "execute_result",
          "data": {
            "text/plain": [
              "{'height': 180, 'weight': 85}"
            ]
          },
          "metadata": {},
          "execution_count": 199
        }
      ]
    },
    {
      "cell_type": "code",
      "source": [
        "kim['height']"
      ],
      "metadata": {
        "colab": {
          "base_uri": "https://localhost:8080/"
        },
        "id": "lgQAsf41FsQj",
        "outputId": "93e7bf78-d0f1-4604-b686-4e816fbab332"
      },
      "execution_count": 201,
      "outputs": [
        {
          "output_type": "execute_result",
          "data": {
            "text/plain": [
              "180"
            ]
          },
          "metadata": {},
          "execution_count": 201
        }
      ]
    },
    {
      "cell_type": "code",
      "source": [
        "kim['salary'] = 3000"
      ],
      "metadata": {
        "id": "KyLRpUa9Fvhe"
      },
      "execution_count": 202,
      "outputs": []
    },
    {
      "cell_type": "code",
      "source": [
        "kim"
      ],
      "metadata": {
        "colab": {
          "base_uri": "https://localhost:8080/"
        },
        "id": "o_I1ZlIcFzEq",
        "outputId": "0a669e1d-264a-432c-8828-494ce1408b69"
      },
      "execution_count": 203,
      "outputs": [
        {
          "output_type": "execute_result",
          "data": {
            "text/plain": [
              "{'height': 180, 'weight': 85, 'salary': 3000}"
            ]
          },
          "metadata": {},
          "execution_count": 203
        }
      ]
    },
    {
      "cell_type": "code",
      "source": [
        "kim['salary'] = 4000"
      ],
      "metadata": {
        "id": "QnLbjCHFFzcW"
      },
      "execution_count": 204,
      "outputs": []
    },
    {
      "cell_type": "code",
      "source": [
        "kim"
      ],
      "metadata": {
        "colab": {
          "base_uri": "https://localhost:8080/"
        },
        "id": "Z39CVW9xF2sO",
        "outputId": "69006f64-8c32-4579-9608-bf16b9da1b82"
      },
      "execution_count": 206,
      "outputs": [
        {
          "output_type": "execute_result",
          "data": {
            "text/plain": [
              "{'height': 180, 'weight': 85, 'salary': 4000}"
            ]
          },
          "metadata": {},
          "execution_count": 206
        }
      ]
    },
    {
      "cell_type": "code",
      "source": [
        "kim['IQ'] # Key Error"
      ],
      "metadata": {
        "colab": {
          "base_uri": "https://localhost:8080/",
          "height": 169
        },
        "id": "NVOb-Sl4F7Qq",
        "outputId": "496a7b57-d343-45bc-ec6b-9b358862008a"
      },
      "execution_count": 208,
      "outputs": [
        {
          "output_type": "error",
          "ename": "KeyError",
          "evalue": "ignored",
          "traceback": [
            "\u001b[0;31m---------------------------------------------------------------------------\u001b[0m",
            "\u001b[0;31mKeyError\u001b[0m                                  Traceback (most recent call last)",
            "\u001b[0;32m<ipython-input-208-716556e39d0a>\u001b[0m in \u001b[0;36m<module>\u001b[0;34m\u001b[0m\n\u001b[0;32m----> 1\u001b[0;31m \u001b[0mkim\u001b[0m\u001b[0;34m[\u001b[0m\u001b[0;34m'IQ'\u001b[0m\u001b[0;34m]\u001b[0m \u001b[0;31m# Key Error\u001b[0m\u001b[0;34m\u001b[0m\u001b[0;34m\u001b[0m\u001b[0m\n\u001b[0m",
            "\u001b[0;31mKeyError\u001b[0m: 'IQ'"
          ]
        }
      ]
    },
    {
      "cell_type": "code",
      "source": [
        "'IQ' in kim # 시퀀스 객체 (in) - 요소확인 / 딕셔너리 (in) - 키 / for in - 반복"
      ],
      "metadata": {
        "colab": {
          "base_uri": "https://localhost:8080/"
        },
        "id": "FNXgHeqnGATy",
        "outputId": "942cc81e-2658-47d7-fa51-c3a272d1b8ec"
      },
      "execution_count": 212,
      "outputs": [
        {
          "output_type": "execute_result",
          "data": {
            "text/plain": [
              "False"
            ]
          },
          "metadata": {},
          "execution_count": 212
        }
      ]
    },
    {
      "cell_type": "code",
      "source": [
        "len(kim)"
      ],
      "metadata": {
        "colab": {
          "base_uri": "https://localhost:8080/"
        },
        "id": "0pOu5WKiGYD2",
        "outputId": "cf550672-18cf-4fad-9a95-d3b04d4f93af"
      },
      "execution_count": 214,
      "outputs": [
        {
          "output_type": "execute_result",
          "data": {
            "text/plain": [
              "3"
            ]
          },
          "metadata": {},
          "execution_count": 214
        }
      ]
    },
    {
      "cell_type": "code",
      "source": [
        "list(kim)"
      ],
      "metadata": {
        "colab": {
          "base_uri": "https://localhost:8080/"
        },
        "id": "4dmPRhMnGe7a",
        "outputId": "9dec9e7c-2f9f-4218-efba-f1290a9ba5d3"
      },
      "execution_count": 216,
      "outputs": [
        {
          "output_type": "execute_result",
          "data": {
            "text/plain": [
              "['height', 'weight', 'salary']"
            ]
          },
          "metadata": {},
          "execution_count": 216
        }
      ]
    },
    {
      "cell_type": "markdown",
      "source": [
        "# 조건문"
      ],
      "metadata": {
        "id": "WMVZNpXjHh80"
      }
    },
    {
      "cell_type": "markdown",
      "source": [
        "## if"
      ],
      "metadata": {
        "id": "vkrwi5SaHkpu"
      }
    },
    {
      "cell_type": "code",
      "source": [
        "switch = True\n",
        "if switch: # if (...): 조건식 -> 최종적으로 bool형태로 표현될 수 있는 값\n",
        "    print(\"아 밝다~\") # if 본문"
      ],
      "metadata": {
        "colab": {
          "base_uri": "https://localhost:8080/"
        },
        "id": "xowaQmWaGiQ_",
        "outputId": "488e00e3-a89f-424d-b937-d0d631023ab5"
      },
      "execution_count": 218,
      "outputs": [
        {
          "output_type": "stream",
          "name": "stdout",
          "text": [
            "아 밝다~\n"
          ]
        }
      ]
    },
    {
      "cell_type": "code",
      "source": [
        "temperature = 40\n",
        "if temperature > 38:\n",
        "    print(\"아 덥다~\")"
      ],
      "metadata": {
        "id": "yiKBEHYaH8rm"
      },
      "execution_count": null,
      "outputs": []
    },
    {
      "cell_type": "markdown",
      "source": [
        "## else"
      ],
      "metadata": {
        "id": "p0InK3x7IOKH"
      }
    },
    {
      "cell_type": "code",
      "source": [
        "temperature = 40\n",
        "if temperature > 38:\n",
        "    print(\"아 덥다~\")\n",
        "else: # temperature <= 38\n",
        "    print(\"괜찮아\")"
      ],
      "metadata": {
        "colab": {
          "base_uri": "https://localhost:8080/"
        },
        "id": "QSjmrrcqIPci",
        "outputId": "0cbb7645-b374-4b4e-8c73-cd982c1af261"
      },
      "execution_count": 223,
      "outputs": [
        {
          "output_type": "stream",
          "name": "stdout",
          "text": [
            "아 덥다~\n"
          ]
        }
      ]
    },
    {
      "cell_type": "markdown",
      "source": [
        "## pass"
      ],
      "metadata": {
        "id": "3jQExdjRI1xr"
      }
    },
    {
      "cell_type": "code",
      "source": [
        "temperature = 40\n",
        "if temperature > 38:\n",
        "    print(\"아 덥다~\")\n",
        "else: # temperature <= 38\n",
        "    pass # block 유지 때문에"
      ],
      "metadata": {
        "colab": {
          "base_uri": "https://localhost:8080/"
        },
        "id": "CHbgY-YTI0sm",
        "outputId": "384d04e8-dd51-42b5-c632-ff5696871242"
      },
      "execution_count": 226,
      "outputs": [
        {
          "output_type": "stream",
          "name": "stdout",
          "text": [
            "아 덥다~\n"
          ]
        }
      ]
    },
    {
      "cell_type": "code",
      "source": [
        "pass"
      ],
      "metadata": {
        "id": "u_dFnn-cJOPt"
      },
      "execution_count": 227,
      "outputs": []
    },
    {
      "cell_type": "code",
      "source": [
        "if True:\n",
        "    pass\n",
        "else:\n",
        "    print('hello')"
      ],
      "metadata": {
        "id": "pGVjgAtVJPE_"
      },
      "execution_count": 229,
      "outputs": []
    },
    {
      "cell_type": "code",
      "source": [
        "name = \"홍길동\"\n",
        "\n",
        "if name == \"홍길동\":\n",
        "    print(name)"
      ],
      "metadata": {
        "colab": {
          "base_uri": "https://localhost:8080/"
        },
        "id": "ThogDepGJeGY",
        "outputId": "3383035a-296c-494c-d11f-2a1cb8d188ef"
      },
      "execution_count": 231,
      "outputs": [
        {
          "output_type": "stream",
          "name": "stdout",
          "text": [
            "홍길동\n"
          ]
        }
      ]
    },
    {
      "cell_type": "code",
      "source": [
        "if \"홍\" in input(\"이름이 무엇인가요? :\"):\n",
        "    print(\"Welcome\")"
      ],
      "metadata": {
        "colab": {
          "base_uri": "https://localhost:8080/"
        },
        "id": "YPkEE9KjJoHH",
        "outputId": "fa653ae3-5224-4532-e787-3ce45dd6524d"
      },
      "execution_count": 235,
      "outputs": [
        {
          "output_type": "stream",
          "name": "stdout",
          "text": [
            "이름이 무엇인가요? :홍길동\n",
            "Welcome\n"
          ]
        }
      ]
    },
    {
      "cell_type": "markdown",
      "source": [
        "## 삼항연산자(조건부 표현식)"
      ],
      "metadata": {
        "id": "G_d-9VPnKCsV"
      }
    },
    {
      "cell_type": "code",
      "source": [
        "a = None\n",
        "b = True\n",
        "if b:\n",
        "    a = 10\n",
        "else:\n",
        "    a = 100\n",
        "a"
      ],
      "metadata": {
        "colab": {
          "base_uri": "https://localhost:8080/"
        },
        "id": "7QylTS7PKAvo",
        "outputId": "897bed22-addd-4b4d-eeff-2faf405bf276"
      },
      "execution_count": 237,
      "outputs": [
        {
          "output_type": "execute_result",
          "data": {
            "text/plain": [
              "10"
            ]
          },
          "metadata": {},
          "execution_count": 237
        }
      ]
    },
    {
      "cell_type": "code",
      "source": [
        "a = 10 if b else 100 # (True 값) if (조건식) else (False 값)\n",
        "a"
      ],
      "metadata": {
        "colab": {
          "base_uri": "https://localhost:8080/"
        },
        "id": "III-dawSKS2h",
        "outputId": "c51ddba9-96e2-4c05-f532-c03ed94096f8"
      },
      "execution_count": 239,
      "outputs": [
        {
          "output_type": "execute_result",
          "data": {
            "text/plain": [
              "10"
            ]
          },
          "metadata": {},
          "execution_count": 239
        }
      ]
    },
    {
      "cell_type": "code",
      "source": [
        "a = \"환타\"\n",
        "\n",
        "if a == \"콜라\":\n",
        "    print(\"콜라 드세요\")\n",
        "elif a == \"사이다\":\n",
        "    print(\"사이다 드세요\")\n",
        "elif a == \"환타\":\n",
        "    print(\"환타 드세요\")"
      ],
      "metadata": {
        "colab": {
          "base_uri": "https://localhost:8080/"
        },
        "id": "bE4v7-xbKn1i",
        "outputId": "a23d9f09-d405-4fe2-c256-408ce116e459"
      },
      "execution_count": 241,
      "outputs": [
        {
          "output_type": "stream",
          "name": "stdout",
          "text": [
            "환타 드세요\n"
          ]
        }
      ]
    },
    {
      "cell_type": "markdown",
      "source": [
        "# 반복문"
      ],
      "metadata": {
        "id": "5UPkeJfMOMVw"
      }
    },
    {
      "cell_type": "markdown",
      "source": [
        "## for"
      ],
      "metadata": {
        "id": "Gv36i6x9ORQf"
      }
    },
    {
      "cell_type": "code",
      "source": [
        "for i in range(10): # range랑 같이 쓰면 정수 -> i\n",
        "    print(i)"
      ],
      "metadata": {
        "colab": {
          "base_uri": "https://localhost:8080/"
        },
        "id": "MtLZcjMLOPGO",
        "outputId": "5ecc8e90-637c-4311-fb98-b98fca67bf0c"
      },
      "execution_count": 248,
      "outputs": [
        {
          "output_type": "stream",
          "name": "stdout",
          "text": [
            "0\n",
            "1\n",
            "2\n",
            "3\n",
            "4\n",
            "5\n",
            "6\n",
            "7\n",
            "8\n",
            "9\n"
          ]
        }
      ]
    },
    {
      "cell_type": "code",
      "source": [
        "# range(n) : n회 반복\n",
        "for i in \"hello world\": # range가 아닌 시퀀스형태의 자료형? list -> v;value / string -> c;charater\n",
        "    print(i) # 루프를 돈다"
      ],
      "metadata": {
        "colab": {
          "base_uri": "https://localhost:8080/"
        },
        "id": "_Q32DDceO-db",
        "outputId": "1629e52f-001f-4496-e8bd-81bce09c4108"
      },
      "execution_count": 255,
      "outputs": [
        {
          "output_type": "stream",
          "name": "stdout",
          "text": [
            "h\n",
            "e\n",
            "l\n",
            "l\n",
            "o\n",
            " \n",
            "w\n",
            "o\n",
            "r\n",
            "l\n",
            "d\n"
          ]
        }
      ]
    },
    {
      "cell_type": "code",
      "source": [
        "a = [\"배\", \"사과\", \"바나나\"]\n",
        "for i in a :\n",
        "    print(i)"
      ],
      "metadata": {
        "colab": {
          "base_uri": "https://localhost:8080/"
        },
        "id": "bAvDINTuPtRo",
        "outputId": "0ff3aad7-ca83-4456-ba4f-e69f4bfcc8b7"
      },
      "execution_count": 257,
      "outputs": [
        {
          "output_type": "stream",
          "name": "stdout",
          "text": [
            "배\n",
            "사과\n",
            "바나나\n"
          ]
        }
      ]
    },
    {
      "cell_type": "code",
      "source": [
        "for i in reversed(a): # reverse + ed : (뒤집혀져)새롭게 형성된 데이터\n",
        "    print(i)"
      ],
      "metadata": {
        "colab": {
          "base_uri": "https://localhost:8080/"
        },
        "id": "E0YZcPRxP14_",
        "outputId": "055ed8ab-de8b-4c39-c0f8-d281a53a2e32"
      },
      "execution_count": 259,
      "outputs": [
        {
          "output_type": "stream",
          "name": "stdout",
          "text": [
            "바나나\n",
            "사과\n",
            "배\n"
          ]
        }
      ]
    },
    {
      "cell_type": "code",
      "source": [
        "a, list(reversed(a)), a[::-1]"
      ],
      "metadata": {
        "colab": {
          "base_uri": "https://localhost:8080/"
        },
        "id": "-bJtk9TMP_M3",
        "outputId": "3455e106-8811-4879-f6df-380e1a0e76e6"
      },
      "execution_count": 269,
      "outputs": [
        {
          "output_type": "execute_result",
          "data": {
            "text/plain": [
              "(['배', '사과', '바나나'], ['바나나', '사과', '배'], ['바나나', '사과', '배'])"
            ]
          },
          "metadata": {},
          "execution_count": 269
        }
      ]
    },
    {
      "cell_type": "markdown",
      "source": [
        "## while"
      ],
      "metadata": {
        "id": "lKp7H6iXQVzq"
      }
    },
    {
      "cell_type": "code",
      "source": [
        "for i in range(10):\n",
        "    print(i)"
      ],
      "metadata": {
        "colab": {
          "base_uri": "https://localhost:8080/"
        },
        "id": "RQ3jf22YQWqt",
        "outputId": "c8ae76fd-f345-4643-9ca5-27e9f6098591"
      },
      "execution_count": 275,
      "outputs": [
        {
          "output_type": "stream",
          "name": "stdout",
          "text": [
            "0\n",
            "1\n",
            "2\n",
            "3\n",
            "4\n",
            "5\n",
            "6\n",
            "7\n",
            "8\n",
            "9\n"
          ]
        }
      ]
    },
    {
      "cell_type": "code",
      "source": [
        "i = 0 # 초기식\n",
        "while i < 10: # while 조건식\n",
        "    print(i) #...\n",
        "    i += 1 # 변화식"
      ],
      "metadata": {
        "colab": {
          "base_uri": "https://localhost:8080/"
        },
        "id": "1HT2mma9QXsS",
        "outputId": "90dabce9-c180-40e2-fcc7-dd48a5b520cf"
      },
      "execution_count": 282,
      "outputs": [
        {
          "output_type": "stream",
          "name": "stdout",
          "text": [
            "0\n",
            "1\n",
            "2\n",
            "3\n",
            "4\n",
            "5\n",
            "6\n",
            "7\n",
            "8\n",
            "9\n"
          ]
        }
      ]
    },
    {
      "cell_type": "code",
      "source": [
        "i = 0 # 초기식\n",
        "while i < 10: # while 조건식\n",
        "    print(i)\n",
        "    i += 1"
      ],
      "metadata": {
        "colab": {
          "base_uri": "https://localhost:8080/"
        },
        "id": "uOhVZFGbRc_D",
        "outputId": "d023beba-74fe-4b9d-983f-275e49485b52"
      },
      "execution_count": 286,
      "outputs": [
        {
          "output_type": "stream",
          "name": "stdout",
          "text": [
            "0\n",
            "1\n",
            "2\n",
            "3\n",
            "4\n",
            "5\n",
            "6\n",
            "7\n",
            "8\n",
            "9\n"
          ]
        }
      ]
    },
    {
      "cell_type": "code",
      "source": [
        "money = 100\n",
        "hit = 0\n",
        "while money > 0:\n",
        "    money -= 10\n",
        "    hit += 1\n",
        "    print(money, \"원 남았습니다\", hit, \"대 맞았습니다.\")"
      ],
      "metadata": {
        "colab": {
          "base_uri": "https://localhost:8080/"
        },
        "id": "fDnAE9PaR0q6",
        "outputId": "9f0e7b76-7a6e-4d25-e1f6-9ac321ebb23c"
      },
      "execution_count": 288,
      "outputs": [
        {
          "output_type": "stream",
          "name": "stdout",
          "text": [
            "90 원 남았습니다 1 대 맞았습니다.\n",
            "80 원 남았습니다 2 대 맞았습니다.\n",
            "70 원 남았습니다 3 대 맞았습니다.\n",
            "60 원 남았습니다 4 대 맞았습니다.\n",
            "50 원 남았습니다 5 대 맞았습니다.\n",
            "40 원 남았습니다 6 대 맞았습니다.\n",
            "30 원 남았습니다 7 대 맞았습니다.\n",
            "20 원 남았습니다 8 대 맞았습니다.\n",
            "10 원 남았습니다 9 대 맞았습니다.\n",
            "0 원 남았습니다 10 대 맞았습니다.\n"
          ]
        }
      ]
    },
    {
      "cell_type": "markdown",
      "source": [
        "## break, continue"
      ],
      "metadata": {
        "id": "UzoLuYVuTLif"
      }
    },
    {
      "cell_type": "code",
      "source": [
        "for i in range(1000):\n",
        "    print(i, i ** 2)\n",
        "    if i ** 2 > 100:\n",
        "        break"
      ],
      "metadata": {
        "colab": {
          "base_uri": "https://localhost:8080/"
        },
        "id": "B57wWK64SUPO",
        "outputId": "3933d6eb-a0f3-41f4-c90c-a10f705a0b75"
      },
      "execution_count": 293,
      "outputs": [
        {
          "output_type": "stream",
          "name": "stdout",
          "text": [
            "0 0\n",
            "1 1\n",
            "2 4\n",
            "3 9\n",
            "4 16\n",
            "5 25\n",
            "6 36\n",
            "7 49\n",
            "8 64\n",
            "9 81\n",
            "10 100\n",
            "11 121\n"
          ]
        }
      ]
    },
    {
      "cell_type": "code",
      "source": [
        "for i in range(1,20):\n",
        "    if i % 2 == 0:\n",
        "        continue\n",
        "    print(i)"
      ],
      "metadata": {
        "colab": {
          "base_uri": "https://localhost:8080/"
        },
        "id": "8x3Xb8TfSpY3",
        "outputId": "d2129d6c-7698-4b0d-94d7-a2f7bd6f88c1"
      },
      "execution_count": 299,
      "outputs": [
        {
          "output_type": "stream",
          "name": "stdout",
          "text": [
            "1\n",
            "3\n",
            "5\n",
            "7\n",
            "9\n",
            "11\n",
            "13\n",
            "15\n",
            "17\n",
            "19\n"
          ]
        }
      ]
    },
    {
      "cell_type": "code",
      "source": [
        "for i in range(1,20):\n",
        "    if i % 3 == 0:\n",
        "        continue\n",
        "    print(i)"
      ],
      "metadata": {
        "colab": {
          "base_uri": "https://localhost:8080/"
        },
        "id": "omm9srDmTEFV",
        "outputId": "bd7a7490-ad4b-4de5-e73d-3ae2f9947336"
      },
      "execution_count": 301,
      "outputs": [
        {
          "output_type": "stream",
          "name": "stdout",
          "text": [
            "1\n",
            "2\n",
            "4\n",
            "5\n",
            "7\n",
            "8\n",
            "10\n",
            "11\n",
            "13\n",
            "14\n",
            "16\n",
            "17\n",
            "19\n"
          ]
        }
      ]
    },
    {
      "cell_type": "code",
      "source": [
        "i = 0\n",
        "while True:\n",
        "    i +=1\n",
        "    print(i)\n",
        "    if i > 10:\n",
        "        break"
      ],
      "metadata": {
        "colab": {
          "base_uri": "https://localhost:8080/"
        },
        "id": "_yDmk--mTGqq",
        "outputId": "7163dbe5-7b35-460b-a9e8-8c7372ba83d6"
      },
      "execution_count": 302,
      "outputs": [
        {
          "output_type": "stream",
          "name": "stdout",
          "text": [
            "1\n",
            "2\n",
            "3\n",
            "4\n",
            "5\n",
            "6\n",
            "7\n",
            "8\n",
            "9\n",
            "10\n",
            "11\n"
          ]
        }
      ]
    },
    {
      "cell_type": "code",
      "source": [
        "money = 100\n",
        "hit = 0\n",
        "while money > 0:\n",
        "    money -= 5\n",
        "    if money % 1000 == 0:\n",
        "        print(\"피했습니다.\")\n",
        "        continue\n",
        "    hit += 1\n",
        "    print(money, \"원 남았습니다. \", hit, \"대 맞았습니다.\")"
      ],
      "metadata": {
        "colab": {
          "base_uri": "https://localhost:8080/"
        },
        "id": "Sv1rdjseTbHo",
        "outputId": "6f14fce2-009f-423e-b53f-58472e13eed2"
      },
      "execution_count": 306,
      "outputs": [
        {
          "output_type": "stream",
          "name": "stdout",
          "text": [
            "95 원 남았습니다.  1 대 맞았습니다.\n",
            "90 원 남았습니다.  2 대 맞았습니다.\n",
            "85 원 남았습니다.  3 대 맞았습니다.\n",
            "80 원 남았습니다.  4 대 맞았습니다.\n",
            "75 원 남았습니다.  5 대 맞았습니다.\n",
            "70 원 남았습니다.  6 대 맞았습니다.\n",
            "65 원 남았습니다.  7 대 맞았습니다.\n",
            "60 원 남았습니다.  8 대 맞았습니다.\n",
            "55 원 남았습니다.  9 대 맞았습니다.\n",
            "50 원 남았습니다.  10 대 맞았습니다.\n",
            "45 원 남았습니다.  11 대 맞았습니다.\n",
            "40 원 남았습니다.  12 대 맞았습니다.\n",
            "35 원 남았습니다.  13 대 맞았습니다.\n",
            "30 원 남았습니다.  14 대 맞았습니다.\n",
            "25 원 남았습니다.  15 대 맞았습니다.\n",
            "20 원 남았습니다.  16 대 맞았습니다.\n",
            "15 원 남았습니다.  17 대 맞았습니다.\n",
            "10 원 남았습니다.  18 대 맞았습니다.\n",
            "5 원 남았습니다.  19 대 맞았습니다.\n",
            "피했습니다.\n"
          ]
        }
      ]
    }
  ]
}