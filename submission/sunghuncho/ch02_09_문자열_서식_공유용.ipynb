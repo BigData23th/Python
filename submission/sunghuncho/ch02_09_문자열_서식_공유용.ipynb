{
  "nbformat": 4,
  "nbformat_minor": 0,
  "metadata": {
    "colab": {
      "provenance": [],
      "include_colab_link": true
    },
    "kernelspec": {
      "name": "python3",
      "display_name": "Python 3"
    },
    "language_info": {
      "name": "python"
    }
  },
  "cells": [
    {
      "cell_type": "markdown",
      "metadata": {
        "id": "view-in-github",
        "colab_type": "text"
      },
      "source": [
        "<a href=\"https://colab.research.google.com/github/chohoon901/Python/blob/backup/submission/sunghuncho/ch02_09_%EB%AC%B8%EC%9E%90%EC%97%B4_%EC%84%9C%EC%8B%9D_%EA%B3%B5%EC%9C%A0%EC%9A%A9.ipynb\" target=\"_parent\"><img src=\"https://colab.research.google.com/assets/colab-badge.svg\" alt=\"Open In Colab\"/></a>"
      ]
    },
    {
      "cell_type": "markdown",
      "source": [
        "# 문자열 서식"
      ],
      "metadata": {
        "id": "QiBSq5Bq143A"
      }
    },
    {
      "cell_type": "markdown",
      "source": [
        "파이썬에서 문자열 포맷팅을 할 때는 f-string, format 메소드, 서식 지정자를 사용할 수 있습니다."
      ],
      "metadata": {
        "id": "wegxJ51w16PT"
      }
    },
    {
      "cell_type": "markdown",
      "source": [
        "## f-string"
      ],
      "metadata": {
        "id": "N0-o1WfZ1_n_"
      }
    },
    {
      "cell_type": "markdown",
      "source": [
        "f-string은 파이썬 3.6 이후부터 사용 가능한 문자열 포맷팅 방법 중 하나입니다. f-string을 사용하면 문자열 안에서 변수의 값을 간단하게 삽입할 수 있으며, 이를 통해 가독성과 코드 작성의 편의성이 크게 향상됩니다."
      ],
      "metadata": {
        "id": "hiZyEX3h2CfD"
      }
    },
    {
      "cell_type": "code",
      "source": [
        "name=\"Alice\"\n",
        "age=25\n",
        "print(\"이름 : \",name,\"나이 : \",age,\"세\",sep=\"\")"
      ],
      "metadata": {
        "id": "xYnIe1t9rXrM",
        "outputId": "3884691d-4fcb-44fa-b077-a89b4204a846",
        "colab": {
          "base_uri": "https://localhost:8080/"
        }
      },
      "execution_count": 1,
      "outputs": [
        {
          "output_type": "stream",
          "name": "stdout",
          "text": [
            "이름 : Alice나이 : 25세\n"
          ]
        }
      ]
    },
    {
      "cell_type": "code",
      "execution_count": 2,
      "metadata": {
        "colab": {
          "base_uri": "https://localhost:8080/",
          "height": 35
        },
        "id": "yALOnLZtvlNp",
        "outputId": "a23ff391-9879-4eff-fd28-14cd81b845f0"
      },
      "outputs": [
        {
          "output_type": "execute_result",
          "data": {
            "text/plain": [
              "'이름 : Alice, 나이 : 25세'"
            ],
            "application/vnd.google.colaboratory.intrinsic+json": {
              "type": "string"
            }
          },
          "metadata": {},
          "execution_count": 2
        }
      ],
      "source": [
        "f\"이름 : {name}, 나이 : {age}세\""
      ]
    },
    {
      "cell_type": "code",
      "source": [
        "print(f\"이름 : {name}, 나이 : {age}세\")"
      ],
      "metadata": {
        "id": "M-MM4vFjsden",
        "outputId": "2fb56a77-5ac1-4660-f96e-6d04c308bdef",
        "colab": {
          "base_uri": "https://localhost:8080/"
        }
      },
      "execution_count": 3,
      "outputs": [
        {
          "output_type": "stream",
          "name": "stdout",
          "text": [
            "이름 : Alice, 나이 : 25세\n"
          ]
        }
      ]
    },
    {
      "cell_type": "code",
      "source": [
        "f\"{age:d}\",f\"{age:04d}\",f\"{age:+04d}\" # 정수표현 강제(int 형식 아니면 전부 에러),zfill 효과"
      ],
      "metadata": {
        "id": "srcn7_NrtQZw",
        "outputId": "7f5c8eb4-eb02-4fef-f62c-94c8a50ea041",
        "colab": {
          "base_uri": "https://localhost:8080/"
        }
      },
      "execution_count": 5,
      "outputs": [
        {
          "output_type": "execute_result",
          "data": {
            "text/plain": [
              "('25', '0025', '+025')"
            ]
          },
          "metadata": {},
          "execution_count": 5
        }
      ]
    },
    {
      "cell_type": "code",
      "source": [
        "height=175.5\n",
        "f\"{height:f}\",f\"{height:.2f}\",f\"{height:+.2f}\",f\"{height:010.2f}\""
      ],
      "metadata": {
        "id": "enO0B3ihuYvs",
        "outputId": "d7ad8d90-3db4-4757-aece-375aa926bade",
        "colab": {
          "base_uri": "https://localhost:8080/"
        }
      },
      "execution_count": 13,
      "outputs": [
        {
          "output_type": "execute_result",
          "data": {
            "text/plain": [
              "('175.500000', '175.50', '+175.50', '0000175.50')"
            ]
          },
          "metadata": {},
          "execution_count": 13
        }
      ]
    },
    {
      "cell_type": "markdown",
      "source": [
        "### format 메소드"
      ],
      "metadata": {
        "id": "AHUelcsL2IRR"
      }
    },
    {
      "cell_type": "code",
      "source": [
        "name=\"Alice\"\n",
        "age=25\n",
        "height=175.5\n",
        "\n",
        "formatted_str=\"이름: {},나이 : {}세\".format(name,age)\n",
        "formatted_str2=\"이름: {name},나이 : {age}세\".format(name=name,age=age)\n",
        "print(formatted_str)\n",
        "print(formatted_str2)"
      ],
      "metadata": {
        "colab": {
          "base_uri": "https://localhost:8080/"
        },
        "id": "Gr_6JVoN2FCu",
        "outputId": "b4eb901f-f146-46dd-c056-a124daa67ed2"
      },
      "execution_count": 14,
      "outputs": [
        {
          "output_type": "stream",
          "name": "stdout",
          "text": [
            "이름: Alice,나이 : 25세\n",
            "이름: Alice,나이 : 25세\n"
          ]
        }
      ]
    },
    {
      "cell_type": "code",
      "source": [
        "a=\"{}\".format(age)\n",
        "print(a)\n",
        "b=\"{:010d}\".format(age)\n",
        "print(b)\n",
        "c=\"{:+010d}\".format(age)\n",
        "print(c)\n",
        "d=\"{:.2f}\".format(height)\n",
        "print(d)\n",
        "e=\"{:010.2f}\".format(height)\n",
        "print(e)"
      ],
      "metadata": {
        "id": "aK41m3IIxXE2",
        "outputId": "8b21090a-9be2-4c34-9c25-06524c52184c",
        "colab": {
          "base_uri": "https://localhost:8080/"
        }
      },
      "execution_count": 15,
      "outputs": [
        {
          "output_type": "stream",
          "name": "stdout",
          "text": [
            "25\n",
            "0000000025\n",
            "+000000025\n",
            "175.50\n",
            "0000175.50\n"
          ]
        }
      ]
    },
    {
      "cell_type": "markdown",
      "source": [
        "### 서식 지정자"
      ],
      "metadata": {
        "id": "kubSFPUy2P18"
      }
    },
    {
      "cell_type": "markdown",
      "source": [
        "서식 지정자는 문자열 포맷팅에서 사용하는 기호로, 변수의 값을 특정한 형식으로 표현할 때 사용됩니다. 서식 지정자는 % 기호를 사용하여 문자열에 삽입합니다."
      ],
      "metadata": {
        "id": "TC8qXJoh2Rlg"
      }
    },
    {
      "cell_type": "code",
      "source": [
        "name=\"Alice\"\n",
        "age=25\n",
        "height=175.5\n",
        "\n",
        "formatted_str=\"이름: %s,나이 : %d세\".format(name,age)\n",
        "formatted_str2=\"이름: {name},나이 : {age}세\".format(name=name,age=age)\n",
        "print(formatted_str)\n",
        "print(formatted_str2)\n",
        "\n",
        "# a=\"{}\".format(age)\n",
        "a=\"%d\" % age\n",
        "print(a)\n",
        "b=\"{%010d}\" % age\n",
        "# b=\"{:010d}\".format(age)\n",
        "print(b)\n",
        "c=\"{%010d}\"% age\n",
        "# c=\"{:+010d}\".format(age)\n",
        "print(c)\n",
        "d=\"{%.2f}\"%height\n",
        "# d=\"{:.2f}\".format(height)\n",
        "print(d)\n",
        "e=\"{%010.2f}\"%height\n",
        "# e=\"{:010.2f}\".format(height)\n",
        "print(e)"
      ],
      "metadata": {
        "colab": {
          "base_uri": "https://localhost:8080/"
        },
        "id": "Q9CEispz2MsF",
        "outputId": "db86f13f-a689-40b8-a764-136d0151070b"
      },
      "execution_count": 16,
      "outputs": [
        {
          "output_type": "stream",
          "name": "stdout",
          "text": [
            "이름: %s,나이 : %d세\n",
            "이름: Alice,나이 : 25세\n",
            "25\n",
            "{0000000025}\n",
            "{0000000025}\n",
            "{175.50}\n",
            "{0000175.50}\n"
          ]
        }
      ]
    },
    {
      "cell_type": "markdown",
      "source": [
        "## 서식 문자"
      ],
      "metadata": {
        "id": "aAsDwVk027Z1"
      }
    },
    {
      "cell_type": "markdown",
      "source": [
        "서식 지정자에서는 %s, %d, %f 등의 서식 문자를 사용하여 출력할 값의 데이터 타입을 지정할 수 있습니다. 이 서식 문자를 사용하여 문자열, 숫자, 소수점 등을 출력할 수 있습니다. 서식 문자는 f-string, format 메소드 등에서도 활용할 수 있습니다. (%s는 기본값이라 생략됨)\n",
        "\n",
        "%d와 %f를 사용할 때는 정수형 변수와 실수형 변수를 출력할 수 있으며, %s는 문자열 변수를 출력합니다. 이때 %s를 사용할 경우, 변수의 데이터 타입과 상관없이 모든 값을 출력할 수 있습니다."
      ],
      "metadata": {
        "id": "Rk8xmil13AUh"
      }
    },
    {
      "cell_type": "code",
      "source": [
        "# %s : 문자열을 출력할 때 사용합니다.\n",
        "f_name=\"이름 : %s\" %name\n",
        "print(f_name)\n",
        "print(f\"이름 : {name}\")"
      ],
      "metadata": {
        "colab": {
          "base_uri": "https://localhost:8080/"
        },
        "id": "a7HrNqpa2WHX",
        "outputId": "c7649947-b786-4fd4-a268-f77525971a37"
      },
      "execution_count": 18,
      "outputs": [
        {
          "output_type": "stream",
          "name": "stdout",
          "text": [
            "이름 : Alice\n",
            "이름 : Alice\n"
          ]
        }
      ]
    },
    {
      "cell_type": "code",
      "source": [
        "# %d : 10진수 정수를 출력할 때 사용합니다.\n",
        "print(f\"나이 : {age}세\")"
      ],
      "metadata": {
        "colab": {
          "base_uri": "https://localhost:8080/"
        },
        "id": "_szPQML_3Q5G",
        "outputId": "bd8fb3d0-bb26-4409-9149-74ec30e4bfaf"
      },
      "execution_count": 20,
      "outputs": [
        {
          "output_type": "stream",
          "name": "stdout",
          "text": [
            "나이 : 25세\n"
          ]
        }
      ]
    },
    {
      "cell_type": "code",
      "source": [
        "# %f : 실수를 출력할 때 사용합니다. 기본적으로 소수점 이하 6자리까지 출력됩니다.\n",
        "print(f\"키 : {height:.6f}cm\")"
      ],
      "metadata": {
        "colab": {
          "base_uri": "https://localhost:8080/"
        },
        "id": "4uUnI1DK3UXF",
        "outputId": "bf5ef38c-a74a-4136-8e29-1c64e17d8cea"
      },
      "execution_count": 22,
      "outputs": [
        {
          "output_type": "stream",
          "name": "stdout",
          "text": [
            "키 : 175.500000cm\n"
          ]
        }
      ]
    },
    {
      "cell_type": "markdown",
      "source": [
        "서식 문자를 사용하여 출력할 값의 자리수를 지정할 수도 있습니다. 자리수를 지정하면 해당 자리수만큼 출력되며, 값의 길이가 자리수보다 작으면 빈 칸이 채워집니다."
      ],
      "metadata": {
        "id": "VrTFs87K3ZbS"
      }
    },
    {
      "cell_type": "code",
      "source": [
        "# %[너비]d : [너비] 자리에 출력할 숫자의 자리수를 지정합니다.\n",
        "num=123\n",
        "a=\"%d\"%num\n",
        "b=\"%5d\"%num\n",
        "c=\"%010d\"%num\n",
        "d=\"%-5d\"%num\n",
        "e=\"%+5d\"%num\n",
        "print(a)\n",
        "print(b)\n",
        "print(c)\n",
        "print(d)\n",
        "print(e)"
      ],
      "metadata": {
        "colab": {
          "base_uri": "https://localhost:8080/"
        },
        "id": "VzvSd8n23Xyj",
        "outputId": "19042db5-890f-4b87-d3aa-c7e1ca7898fb"
      },
      "execution_count": 23,
      "outputs": [
        {
          "output_type": "stream",
          "name": "stdout",
          "text": [
            "123\n",
            "  123\n",
            "0000000123\n",
            "123  \n",
            " +123\n"
          ]
        }
      ]
    },
    {
      "cell_type": "code",
      "source": [
        "# %[너비].[정밀도]f : [너비] 자리에 출력할 숫자의 자리수를, [정밀도] 자리에 출력할 소수점 이하 자리수를 지정합니다.\n",
        "pi=3.1415926535\n",
        "\n",
        "a=\"%f\"%pi\n",
        "b=\"%.2f\"%pi\n",
        "c=\"%10.2f\"%pi\n",
        "d=\"%010.2f\"%pi\n",
        "e=\"%-10.2f\"%pi\n",
        "f=\"%+10.2f\"%pi\n",
        "\n",
        "print(a)\n",
        "print(b)\n",
        "print(c)\n",
        "print(d)\n",
        "print(e)\n",
        "print(f)"
      ],
      "metadata": {
        "colab": {
          "base_uri": "https://localhost:8080/"
        },
        "id": "aZL70I7S3ceb",
        "outputId": "b7cec83b-475e-49c6-e7fa-73a5b52c99a4"
      },
      "execution_count": 24,
      "outputs": [
        {
          "output_type": "stream",
          "name": "stdout",
          "text": [
            "3.141593\n",
            "3.14\n",
            "      3.14\n",
            "0000003.14\n",
            "3.14      \n",
            "     +3.14\n"
          ]
        }
      ]
    }
  ]
}