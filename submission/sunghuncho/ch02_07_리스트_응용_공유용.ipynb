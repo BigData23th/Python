{
  "nbformat": 4,
  "nbformat_minor": 0,
  "metadata": {
    "colab": {
      "provenance": [],
      "include_colab_link": true
    },
    "kernelspec": {
      "name": "python3",
      "display_name": "Python 3"
    },
    "language_info": {
      "name": "python"
    }
  },
  "cells": [
    {
      "cell_type": "markdown",
      "metadata": {
        "id": "view-in-github",
        "colab_type": "text"
      },
      "source": [
        "<a href=\"https://colab.research.google.com/github/chohoon901/Python/blob/backup/submission/sunghuncho/ch02_07_%EB%A6%AC%EC%8A%A4%ED%8A%B8_%EC%9D%91%EC%9A%A9_%EA%B3%B5%EC%9C%A0%EC%9A%A9.ipynb\" target=\"_parent\"><img src=\"https://colab.research.google.com/assets/colab-badge.svg\" alt=\"Open In Colab\"/></a>"
      ]
    },
    {
      "cell_type": "markdown",
      "source": [
        "# 리스트 응용"
      ],
      "metadata": {
        "id": "G6ZVllQhYcbV"
      }
    },
    {
      "cell_type": "markdown",
      "source": [
        "## 리스트 조작하기"
      ],
      "metadata": {
        "id": "oFfwKwUKYW_h"
      }
    },
    {
      "cell_type": "markdown",
      "source": [
        "### 리스트에 요소 추가하기"
      ],
      "metadata": {
        "id": "K8TvUjhbYf7x"
      }
    },
    {
      "cell_type": "markdown",
      "source": [
        "리스트의 대표적인 기능이 바로 요소 추가입니다. 다음과 같이 리스트에 요소를 추가하는 메서드는 3가지가 있습니다.\n",
        "\n",
        "* `append`: 요소 하나를 추가\n",
        "* `extend`: 리스트를 연결하여 확장\n",
        "* `insert`: 특정 인덱스에 요소 추가"
      ],
      "metadata": {
        "id": "78Pck1pcYiDa"
      }
    },
    {
      "cell_type": "markdown",
      "source": [
        "### 기존 리스트에 요소 하나 추가하기"
      ],
      "metadata": {
        "id": "glHB7Y0UYnpm"
      }
    },
    {
      "cell_type": "code",
      "execution_count": 1,
      "metadata": {
        "colab": {
          "base_uri": "https://localhost:8080/"
        },
        "id": "U7W5ZUuFYSZE",
        "outputId": "434fb8fb-7df0-4038-96bb-b20626b34eb5"
      },
      "outputs": [
        {
          "output_type": "execute_result",
          "data": {
            "text/plain": [
              "[10, 20, 30]"
            ]
          },
          "metadata": {},
          "execution_count": 1
        }
      ],
      "source": [
        "a=[10,20,30]\n",
        "a"
      ]
    },
    {
      "cell_type": "code",
      "source": [
        "a.append(500)\n",
        "a, len(a)"
      ],
      "metadata": {
        "id": "5JNOXf5qhErg",
        "outputId": "46d091ed-d128-4711-a639-65b8edc4551b",
        "colab": {
          "base_uri": "https://localhost:8080/"
        }
      },
      "execution_count": 6,
      "outputs": [
        {
          "output_type": "execute_result",
          "data": {
            "text/plain": [
              "(['헤이즐', '마카다미아', '카페모카', ['체리콕에이드', '유자민트레몬티'], 500], 5)"
            ]
          },
          "metadata": {},
          "execution_count": 6
        }
      ]
    },
    {
      "cell_type": "code",
      "source": [
        "# 물론 빈 리스트에 값을 추가할 수도 있습니다.\n",
        "b=[]\n",
        "b.append(10)\n",
        "b"
      ],
      "metadata": {
        "colab": {
          "base_uri": "https://localhost:8080/"
        },
        "id": "W_A5RuYqYvan",
        "outputId": "f04490dd-2e00-4118-80a1-21033ffb0386"
      },
      "execution_count": 4,
      "outputs": [
        {
          "output_type": "execute_result",
          "data": {
            "text/plain": [
              "[10]"
            ]
          },
          "metadata": {},
          "execution_count": 4
        }
      ]
    },
    {
      "cell_type": "markdown",
      "source": [
        "### 리스트 안에 리스트 추가하기"
      ],
      "metadata": {
        "id": "VT7bwaRgY3oG"
      }
    },
    {
      "cell_type": "code",
      "source": [
        "# append는 append(리스트)처럼 리스트를 넣으면 리스트 안에 리스트가 들어갑니다.\n",
        "a=[\"헤이즐\",\"마카다미아\",\"카페모카\"]\n",
        "a.append([\"체리콕에이드\",\"유자민트레몬티\"])\n",
        "a,len(a)"
      ],
      "metadata": {
        "colab": {
          "base_uri": "https://localhost:8080/"
        },
        "id": "vBb5LjzkY0Iz",
        "outputId": "88cdfada-047f-41f1-de2f-db63cb171e3e"
      },
      "execution_count": 12,
      "outputs": [
        {
          "output_type": "execute_result",
          "data": {
            "text/plain": [
              "(['헤이즐', '마카다미아', '카페모카', ['체리콕에이드', '유자민트레몬티']], 4)"
            ]
          },
          "metadata": {},
          "execution_count": 12
        }
      ]
    },
    {
      "cell_type": "markdown",
      "source": [
        "append는 항상 리스트의 길이가 1씩 증가합니다."
      ],
      "metadata": {
        "id": "6ngwqPHGZAro"
      }
    },
    {
      "cell_type": "markdown",
      "source": [
        "### 리스트 확장하기"
      ],
      "metadata": {
        "id": "2HZnWqYhZCdh"
      }
    },
    {
      "cell_type": "markdown",
      "source": [
        "그러면 리스트에 요소를 여러 개 추가하려면 어떻게 해야 할까요? append를 여러 번 사용하는 방법도 있지만, 추가할 요소가 많은 경우에는 상당히 번거롭습니다. 이때는 extend를 사용합니다."
      ],
      "metadata": {
        "id": "P-gRJ5WEZGBt"
      }
    },
    {
      "cell_type": "code",
      "source": [
        "# extend(리스트)는 리스트 끝에 다른 리스트를 연결하여 리스트를 확장합니다.\n",
        "a=[\"초코\",\"아이스티\",\"아메리카노\"]\n",
        "a.extend([\"캐모마일티\",\"바닐라라떼\"])\n",
        "a,len(a) # + 와 똑같은 결과가 나오지만, + 는 사본을 만들어 원본에 영향이 안가고, extend는 원본을 수정하는 방식이다."
      ],
      "metadata": {
        "colab": {
          "base_uri": "https://localhost:8080/"
        },
        "id": "A3KhwcWaY9nI",
        "outputId": "cc4774b0-1de0-48b9-a9e0-9d1897ffd723"
      },
      "execution_count": 8,
      "outputs": [
        {
          "output_type": "execute_result",
          "data": {
            "text/plain": [
              "(['초코', '아이스티', '아메리카노', '캐모마일티', '바닐라라떼'], 5)"
            ]
          },
          "metadata": {},
          "execution_count": 8
        }
      ]
    },
    {
      "cell_type": "markdown",
      "source": [
        "extend의 동작을 좀 더 정확하게 이야기하면 extend에 전달된 요소를 반복하면서 각 요소를 리스트 a에 추가하는 것입니다. 따라서 리스트와 리스트를 연결한 모양이 됩니다."
      ],
      "metadata": {
        "id": "L6F9gJo0ZPZw"
      }
    },
    {
      "cell_type": "markdown",
      "source": [
        "### 리스트의 특정 인덱스에 요소 추가하기"
      ],
      "metadata": {
        "id": "kyn9vIDQZSZ_"
      }
    },
    {
      "cell_type": "markdown",
      "source": [
        "append, extend는 리스트 끝에 요소를 추가합니다. 그러면 원하는 위치에 요소를 추가하는 방법은 없을까요? 이때는 insert를 사용합니다."
      ],
      "metadata": {
        "id": "YuWERyC6ZUfk"
      }
    },
    {
      "cell_type": "code",
      "source": [
        "# insert(인덱스, 요소)는 리스트의 특정 인덱스에 요소 하나를 추가합니다.\n",
        "a=[10,20,30]\n",
        "a.insert(2,500)\n",
        "a, len(a)"
      ],
      "metadata": {
        "colab": {
          "base_uri": "https://localhost:8080/"
        },
        "id": "AfxcI4GZZLlB",
        "outputId": "ec10b4b1-68d3-4b6a-aa61-d9345cc239e5"
      },
      "execution_count": 13,
      "outputs": [
        {
          "output_type": "execute_result",
          "data": {
            "text/plain": [
              "([10, 20, 500, 30], 4)"
            ]
          },
          "metadata": {},
          "execution_count": 13
        }
      ]
    },
    {
      "cell_type": "markdown",
      "source": [
        "insert에서 자주 사용하는 패턴은 다음 2가지입니다.\n",
        "\n",
        "* `insert(0, 요소)`: 리스트의 맨 처음에 요소를 추가\n",
        "* `insert(len(리스트), 요소)`: 리스트 끝에 요소를 추가\n"
      ],
      "metadata": {
        "id": "proj9OApZf6C"
      }
    },
    {
      "cell_type": "code",
      "source": [
        "a=[10,20,30]\n",
        "a.insert(0,500)\n",
        "a, len(a)"
      ],
      "metadata": {
        "colab": {
          "base_uri": "https://localhost:8080/"
        },
        "id": "PKa4O6gkZdTY",
        "outputId": "5cb91c2c-f9d0-4421-fde0-5f1d4550d0dd"
      },
      "execution_count": 14,
      "outputs": [
        {
          "output_type": "execute_result",
          "data": {
            "text/plain": [
              "([500, 10, 20, 30], 4)"
            ]
          },
          "metadata": {},
          "execution_count": 14
        }
      ]
    },
    {
      "cell_type": "code",
      "source": [
        "# insert에 마지막 인덱스보다 큰 값을 지정하면 리스트 끝에 요소 하나를 추가할 수 있습니다.\n",
        "a=[10,20,30]\n",
        "a.insert(len(a),500)\n",
        "a, len(a)"
      ],
      "metadata": {
        "colab": {
          "base_uri": "https://localhost:8080/"
        },
        "id": "a3uaIqN4Zlup",
        "outputId": "593b614b-9f6e-4305-9896-3f4cf780f460"
      },
      "execution_count": 15,
      "outputs": [
        {
          "output_type": "execute_result",
          "data": {
            "text/plain": [
              "([10, 20, 30, 500], 4)"
            ]
          },
          "metadata": {},
          "execution_count": 15
        }
      ]
    },
    {
      "cell_type": "markdown",
      "source": [
        "len(리스트)는 마지막 인덱스보다 1이 더 크기 때문에 리스트 끝에 값을 추가할 때 자주 활용합니다. (=append)"
      ],
      "metadata": {
        "id": "isi-LJ6_ZuL2"
      }
    },
    {
      "cell_type": "code",
      "source": [
        "# 특히 insert는 요소 하나를 추가하므로 insert에 리스트를 넣으면 append처럼 리스트 안에 리스트가 들어갑니다. (중첩 리스트)\n",
        "a=[10,20,30]\n",
        "b=[500,600]\n",
        "a.insert(1,b)\n",
        "a, len(a)"
      ],
      "metadata": {
        "colab": {
          "base_uri": "https://localhost:8080/"
        },
        "id": "_WDQqZp8ZraZ",
        "outputId": "d7d3965a-d481-40b3-bd8a-56fe691e6cc1"
      },
      "execution_count": 16,
      "outputs": [
        {
          "output_type": "execute_result",
          "data": {
            "text/plain": [
              "([10, [500, 600], 20, 30], 4)"
            ]
          },
          "metadata": {},
          "execution_count": 16
        }
      ]
    },
    {
      "cell_type": "code",
      "source": [
        "# 만약 리스트 중간에 요소 여러 개를 추가하고 싶다면 슬라이스에 요소 할당하기를 활용하면 됩니다.\n",
        "a=[10,20,30]\n",
        "a[1:1]=b\n",
        "a"
      ],
      "metadata": {
        "colab": {
          "base_uri": "https://localhost:8080/"
        },
        "id": "VW4-o3PSZ193",
        "outputId": "55a7dae6-5e2a-497b-eae9-454d5ffcd69d"
      },
      "execution_count": 18,
      "outputs": [
        {
          "output_type": "execute_result",
          "data": {
            "text/plain": [
              "[10, 500, 600, 20, 30]"
            ]
          },
          "metadata": {},
          "execution_count": 18
        }
      ]
    },
    {
      "cell_type": "markdown",
      "source": [
        "### 리스트에서 요소 삭제하기"
      ],
      "metadata": {
        "id": "ibYvJldjZ-9N"
      }
    },
    {
      "cell_type": "markdown",
      "source": [
        "이번에는 리스트에서 요소를 삭제하는 방법입니다. 다음과 같이 요소를 삭제하는 메서드는 2가지가 있습니다.\n",
        "\n",
        "* `pop`: 마지막 요소 또는 특정 인덱스의 요소를 삭제\n",
        "* `remove`: 특정 값을 찾아서 삭제"
      ],
      "metadata": {
        "id": "YmYWaEScaGPa"
      }
    },
    {
      "cell_type": "markdown",
      "source": [
        "### 리스트에서 특정 인덱스의 요소를 삭제하기"
      ],
      "metadata": {
        "id": "iot6Ojlyb9d_"
      }
    },
    {
      "cell_type": "markdown",
      "source": [
        "pop()은 리스트의 마지막 요소를 삭제한 뒤 삭제한 요소를 반환합니다."
      ],
      "metadata": {
        "id": "eqYdMTEhb_z1"
      }
    },
    {
      "cell_type": "code",
      "source": [
        "a=[10,20,30]\n",
        "a.pop()"
      ],
      "metadata": {
        "colab": {
          "base_uri": "https://localhost:8080/"
        },
        "id": "8sIJ1hgBaGEf",
        "outputId": "0eb24f08-8efc-498a-ed93-6eac18aed7f3"
      },
      "execution_count": 20,
      "outputs": [
        {
          "output_type": "execute_result",
          "data": {
            "text/plain": [
              "30"
            ]
          },
          "metadata": {},
          "execution_count": 20
        }
      ]
    },
    {
      "cell_type": "code",
      "source": [
        "a"
      ],
      "metadata": {
        "colab": {
          "base_uri": "https://localhost:8080/"
        },
        "id": "KNHfcOh6Z8Mj",
        "outputId": "bad45e00-5580-4940-8fc3-e0060cc3eb44"
      },
      "execution_count": 21,
      "outputs": [
        {
          "output_type": "execute_result",
          "data": {
            "text/plain": [
              "[10, 20]"
            ]
          },
          "metadata": {},
          "execution_count": 21
        }
      ]
    },
    {
      "cell_type": "markdown",
      "source": [
        "그러면 원하는 인덱스의 요소를 삭제할 수는 없을까요? 이때는 pop에 인덱스를 지정하면 됩니다."
      ],
      "metadata": {
        "id": "_uCDrzxLcGgl"
      }
    },
    {
      "cell_type": "code",
      "source": [
        "# pop(인덱스)는 해당 인덱스의 요소를 삭제한 뒤 삭제한 요소를 반환합니다.\n",
        "a.pop(1)"
      ],
      "metadata": {
        "colab": {
          "base_uri": "https://localhost:8080/"
        },
        "id": "uZhoaqkPcDgT",
        "outputId": "10581a9a-9549-4554-afcb-fa01e6c32210"
      },
      "execution_count": 22,
      "outputs": [
        {
          "output_type": "execute_result",
          "data": {
            "text/plain": [
              "20"
            ]
          },
          "metadata": {},
          "execution_count": 22
        }
      ]
    },
    {
      "cell_type": "code",
      "source": [
        "a=[10,20,30]\n",
        "a.pop(1)\n",
        "a"
      ],
      "metadata": {
        "colab": {
          "base_uri": "https://localhost:8080/"
        },
        "id": "fwNrUtbfcLAT",
        "outputId": "add0a352-d02f-4cb8-9d6d-3e26ac732de0"
      },
      "execution_count": 24,
      "outputs": [
        {
          "output_type": "execute_result",
          "data": {
            "text/plain": [
              "[10, 30]"
            ]
          },
          "metadata": {},
          "execution_count": 24
        }
      ]
    },
    {
      "cell_type": "code",
      "source": [
        "# 사실 pop 대신 del을 사용해도 상관없습니다.\n",
        "a=[10,20,30]\n",
        "del a[1]\n",
        "a"
      ],
      "metadata": {
        "colab": {
          "base_uri": "https://localhost:8080/"
        },
        "id": "GbqvJNcmcLd1",
        "outputId": "ecba0147-320a-4df5-854a-44bd691b6634"
      },
      "execution_count": 27,
      "outputs": [
        {
          "output_type": "execute_result",
          "data": {
            "text/plain": [
              "[10, 30]"
            ]
          },
          "metadata": {},
          "execution_count": 27
        }
      ]
    },
    {
      "cell_type": "markdown",
      "source": [
        "### 리스트에서 특정 값을 찾아서 삭제하기"
      ],
      "metadata": {
        "id": "-tUv0GzrcTbs"
      }
    },
    {
      "cell_type": "markdown",
      "source": [
        "pop이나 del은 인덱스로 요소를 삭제했는데, 리스트에서 원하는 값을 찾아서 삭제하고 싶을 수도 있습니다. 이런 경우에는 remove를 사용합니다."
      ],
      "metadata": {
        "id": "XFdaVoCWcVzd"
      }
    },
    {
      "cell_type": "code",
      "source": [
        "# remove(값)은 리스트에서 특정 값을 찾아서 삭제합니다.\n",
        "a=[10,20,30]\n",
        "a.remove(20)\n",
        "a"
      ],
      "metadata": {
        "colab": {
          "base_uri": "https://localhost:8080/"
        },
        "id": "vUjy55MmcQpu",
        "outputId": "cc4dc4d5-66f3-4608-ebdd-10c7ec01d2a5"
      },
      "execution_count": 28,
      "outputs": [
        {
          "output_type": "execute_result",
          "data": {
            "text/plain": [
              "[10, 30]"
            ]
          },
          "metadata": {},
          "execution_count": 28
        }
      ]
    },
    {
      "cell_type": "code",
      "source": [
        "# 만약 리스트에 같은 값이 여러 개 있을 경우 처음 찾은 값을 삭제합니다.\n",
        "a=[10,20,30,20]\n",
        "a.remove(20)\n",
        "a"
      ],
      "metadata": {
        "colab": {
          "base_uri": "https://localhost:8080/"
        },
        "id": "dBvZdlZXcZrq",
        "outputId": "e969bcf8-0cc2-4e73-b1e3-40fbbbe42231"
      },
      "execution_count": 29,
      "outputs": [
        {
          "output_type": "execute_result",
          "data": {
            "text/plain": [
              "[10, 30, 20]"
            ]
          },
          "metadata": {},
          "execution_count": 29
        }
      ]
    },
    {
      "cell_type": "markdown",
      "source": [
        "### 리스트에서 특정 값의 인덱스 구하기"
      ],
      "metadata": {
        "id": "jRp1EQMUch1C"
      }
    },
    {
      "cell_type": "code",
      "source": [
        "# index(값)은 리스트에서 특정 값의 인덱스를 구합니다.\n",
        "# 이때 같은 값이 여러 개일 경우 처음 찾은 인덱스를 구합니다(가장 작은 인덱스).\n",
        "a=[10,20,30]\n",
        "a.index(20)"
      ],
      "metadata": {
        "colab": {
          "base_uri": "https://localhost:8080/"
        },
        "id": "xRN3qbHEcc4g",
        "outputId": "d5facba2-5b02-4d9a-e23c-adc5682850f6"
      },
      "execution_count": 32,
      "outputs": [
        {
          "output_type": "execute_result",
          "data": {
            "text/plain": [
              "1"
            ]
          },
          "metadata": {},
          "execution_count": 32
        }
      ]
    },
    {
      "cell_type": "markdown",
      "source": [
        "### 특정 값의 개수 구하기"
      ],
      "metadata": {
        "id": "Lta-u3P7co0g"
      }
    },
    {
      "cell_type": "code",
      "source": [
        "# count(값)은 리스트에서 특정 값의 개수를 구합니다. \n",
        "a=[10,20,30,20]\n",
        "a.count(20)"
      ],
      "metadata": {
        "colab": {
          "base_uri": "https://localhost:8080/"
        },
        "id": "3Hci8EFNcm28",
        "outputId": "5a4339e2-d1c6-4b18-85b2-76510cf9213f"
      },
      "execution_count": 34,
      "outputs": [
        {
          "output_type": "execute_result",
          "data": {
            "text/plain": [
              "2"
            ]
          },
          "metadata": {},
          "execution_count": 34
        }
      ]
    },
    {
      "cell_type": "markdown",
      "source": [
        "### 리스트의 순서를 뒤집기"
      ],
      "metadata": {
        "id": "PDPyJqX8cvK2"
      }
    },
    {
      "cell_type": "code",
      "source": [
        "# reverse()는 리스트에서 요소의 순서를 반대로 뒤집습니다.\n",
        "a=[10,20,30]\n",
        "a.reverse()\n",
        "a"
      ],
      "metadata": {
        "colab": {
          "base_uri": "https://localhost:8080/"
        },
        "id": "dfCNjCf-ctOC",
        "outputId": "08872b45-5a7d-4eba-d663-072b3c633488"
      },
      "execution_count": 37,
      "outputs": [
        {
          "output_type": "execute_result",
          "data": {
            "text/plain": [
              "[30, 20, 10]"
            ]
          },
          "metadata": {},
          "execution_count": 37
        }
      ]
    },
    {
      "cell_type": "markdown",
      "source": [
        "### 리스트의 요소를 정렬하기"
      ],
      "metadata": {
        "id": "wKWOgudCc2jU"
      }
    },
    {
      "cell_type": "markdown",
      "source": [
        "sort()는 리스트의 요소을 작은 순서대로 정렬합니다(오름차순).\n",
        "\n",
        "* `sort()` 또는 `sort(reverse=False)`: 리스트의 값을 작은 순서대로 정렬(오름차순)\n",
        "* `sort(reverse=True)`: 리스트의 값을 큰 순서대로 정렬(내림차순)"
      ],
      "metadata": {
        "id": "sfiWcB8Ac6AQ"
      }
    },
    {
      "cell_type": "code",
      "source": [
        "a=[30,20,15,20,10,40]\n",
        "a.sort()\n",
        "a"
      ],
      "metadata": {
        "colab": {
          "base_uri": "https://localhost:8080/"
        },
        "id": "JbEBreCxc0Ys",
        "outputId": "ed7030a8-5e98-4f1a-ba6f-44c71f9c8552"
      },
      "execution_count": 39,
      "outputs": [
        {
          "output_type": "execute_result",
          "data": {
            "text/plain": [
              "[10, 15, 20, 20, 30, 40]"
            ]
          },
          "metadata": {},
          "execution_count": 39
        }
      ]
    },
    {
      "cell_type": "markdown",
      "source": [
        "### sort 메서드와 sorted 함수\n",
        "파이썬은 리스트의 sort 메서드뿐만 아니라 내장 함수 sorted도 제공합니다. sort와 sorted 모두 정렬을 해주는 함수지만, 약간의 차이점이 있습니다. sort는 메서드를 사용한 리스트를 변경하지만, sorted 함수는 정렬된 새 리스트를 생성합니다."
      ],
      "metadata": {
        "id": "UwvaeBYqdE0L"
      }
    },
    {
      "cell_type": "code",
      "source": [
        "b=[2,5,9,3,7,1]\n",
        "sorted(b)"
      ],
      "metadata": {
        "colab": {
          "base_uri": "https://localhost:8080/"
        },
        "id": "M6v2UjTpdCPy",
        "outputId": "93737bd2-45f6-4aef-fc99-68e883220400"
      },
      "execution_count": 47,
      "outputs": [
        {
          "output_type": "execute_result",
          "data": {
            "text/plain": [
              "[1, 2, 3, 5, 7, 9]"
            ]
          },
          "metadata": {},
          "execution_count": 47
        }
      ]
    },
    {
      "cell_type": "code",
      "source": [
        "b"
      ],
      "metadata": {
        "colab": {
          "base_uri": "https://localhost:8080/"
        },
        "id": "S6-aTZwBdJtr",
        "outputId": "6fb352e5-772a-4afc-89dc-ffb8f0bb6231"
      },
      "execution_count": 48,
      "outputs": [
        {
          "output_type": "execute_result",
          "data": {
            "text/plain": [
              "[2, 5, 9, 3, 7, 1]"
            ]
          },
          "metadata": {},
          "execution_count": 48
        }
      ]
    },
    {
      "cell_type": "markdown",
      "source": [
        "### 리스트의 모든 요소를 삭제하기"
      ],
      "metadata": {
        "id": "6gIMc9xldPUB"
      }
    },
    {
      "cell_type": "code",
      "source": [
        "# clear()는 리스트의 모든 요소를 삭제합니다.\n",
        "a.clear()\n",
        "a"
      ],
      "metadata": {
        "colab": {
          "base_uri": "https://localhost:8080/"
        },
        "id": "1aEgUVm1dKia",
        "outputId": "dabab64c-4e9f-4273-a73a-3c778f174ca4"
      },
      "execution_count": 50,
      "outputs": [
        {
          "output_type": "execute_result",
          "data": {
            "text/plain": [
              "[]"
            ]
          },
          "metadata": {},
          "execution_count": 50
        }
      ]
    },
    {
      "cell_type": "code",
      "source": [
        "# clear 대신 del a[:]와 같이 시작, 끝 인덱스를 생략하여 리스트의 모든 요소를 삭제할 수도 있습니다.\n",
        "a=[30,20,15,20,10,40]\n",
        "del a[:]\n",
        "a"
      ],
      "metadata": {
        "colab": {
          "base_uri": "https://localhost:8080/"
        },
        "id": "6zK9ANwrdTXf",
        "outputId": "4755ff46-14ad-4529-e8e4-7f21ddefb327"
      },
      "execution_count": 52,
      "outputs": [
        {
          "output_type": "execute_result",
          "data": {
            "text/plain": [
              "[]"
            ]
          },
          "metadata": {},
          "execution_count": 52
        }
      ]
    },
    {
      "cell_type": "markdown",
      "source": [
        "### 리스트를 슬라이스로 조작하기"
      ],
      "metadata": {
        "id": "3bJXyOdcdYVo"
      }
    },
    {
      "cell_type": "code",
      "source": [
        "# 리스트는 메서드를 사용하지 않고, 슬라이스로 조작할 수도 있습니다. 다음은 리스트 끝에 값이 한 개 들어있는 리스트를 추가합니다.\n",
        "a=[10,20,30]\n",
        "a[len(a):]=[500]\n",
        "a\n",
        "a.extend([800])\n",
        "a\n",
        "a.insert(3,300)\n",
        "a"
      ],
      "metadata": {
        "colab": {
          "base_uri": "https://localhost:8080/"
        },
        "id": "tS8YUcfsdW1q",
        "outputId": "aa48a89f-0e6c-4bf4-bdb9-c9cf28ec816f"
      },
      "execution_count": 60,
      "outputs": [
        {
          "output_type": "execute_result",
          "data": {
            "text/plain": [
              "[10, 20, 30, 300, 500, 800]"
            ]
          },
          "metadata": {},
          "execution_count": 60
        }
      ]
    },
    {
      "cell_type": "markdown",
      "source": [
        "a[len(a):]는 시작 인덱스를 len(a)로 지정해서 리스트의 마지막 인덱스보다 1이 더 큰 상태입니다. 즉, 그림과 같이 리스트 끝에서부터 시작하겠다는 뜻입니다(이때는 리스트의 범위를 벗어난 인덱스를 사용할 수 있습니다).\n",
        "\n",
        "그리고 a[len(a):] = [..., ...]과 같이 요소가 여러 개 들어있는 리스트를 할당하면 리스트 a 끝에 다른 리스트를 연결한다는 뜻입니다."
      ],
      "metadata": {
        "id": "pfWo0arKddS0"
      }
    },
    {
      "cell_type": "code",
      "source": [
        "a=[10,20,30]\n",
        "a[len(a):]=[500,600]\n",
        "a"
      ],
      "metadata": {
        "colab": {
          "base_uri": "https://localhost:8080/"
        },
        "id": "NREk8TlNdcsq",
        "outputId": "0740f9ec-a010-49ce-fcd2-7ea20b69bae3"
      },
      "execution_count": 55,
      "outputs": [
        {
          "output_type": "execute_result",
          "data": {
            "text/plain": [
              "[10, 20, 30, 500, 600]"
            ]
          },
          "metadata": {},
          "execution_count": 55
        }
      ]
    },
    {
      "cell_type": "markdown",
      "source": [
        "### 리스트가 비어 있는지 확인하기\n"
      ],
      "metadata": {
        "id": "1vvNYOe4dtkD"
      }
    },
    {
      "cell_type": "markdown",
      "source": [
        "리스트(시퀀스 객체)가 비어 있는지 확인하려면 어떻게 해야 할까요? 방법은 간단합니다. 리스트는 len 함수로 길이를 구할 수 있죠? 이걸 if 조건문으로 판단하면 리스트가 비어 있는지 확인할 수 있습니다.\n",
        "\n",
        "```\n",
        "if not len(seq):    # 리스트가 비어 있으면 True\n",
        "if len(seq):        # 리스트에 요소가 있으면 True\n",
        "```\n",
        "\n",
        "하지만 파이썬에서는 이 방법보다 리스트(시퀀스 객체)를 바로 if 조건문으로 판단하는 방법을 권장합니다(PEP 8).\n",
        "```\n",
        "if not seq:    # 리스트가 비어 있으면 True\n",
        "if seq:        # 리스트에 내용이 있으면 True\n",
        "```\n",
        "\n",
        "특히 리스트가 비어 있는지 확인하는 방법은 리스트의 마지막 요소에 접근할 때 유용하게 사용할 수 있습니다. 리스트의 마지막 요소에 접근할 때는 인덱스를 -1로 지정하면 되죠?"
      ],
      "metadata": {
        "id": "qawioHuxdwFi"
      }
    },
    {
      "cell_type": "code",
      "source": [
        "a=[10,20,30]\n",
        "a[-1]"
      ],
      "metadata": {
        "colab": {
          "base_uri": "https://localhost:8080/"
        },
        "id": "j32oAW-Jdp0r",
        "outputId": "f8bf82cb-e5d9-43db-9b6b-654bfb03789d"
      },
      "execution_count": 63,
      "outputs": [
        {
          "output_type": "execute_result",
          "data": {
            "text/plain": [
              "30"
            ]
          },
          "metadata": {},
          "execution_count": 63
        }
      ]
    },
    {
      "cell_type": "code",
      "source": [
        "# 만약 리스트가 비어 있을 경우에는 인덱스를 -1로 지정하면 에러가 발생합니다.\n",
        "a.clear()\n",
        "a[-1]"
      ],
      "metadata": {
        "colab": {
          "base_uri": "https://localhost:8080/",
          "height": 209
        },
        "id": "sYDzJPyJd6Gb",
        "outputId": "dbe899c5-f8ff-4919-c47c-18068977d425"
      },
      "execution_count": 64,
      "outputs": [
        {
          "output_type": "error",
          "ename": "IndexError",
          "evalue": "ignored",
          "traceback": [
            "\u001b[0;31m---------------------------------------------------------------------------\u001b[0m",
            "\u001b[0;31mIndexError\u001b[0m                                Traceback (most recent call last)",
            "\u001b[0;32m<ipython-input-64-956dd501b943>\u001b[0m in \u001b[0;36m<module>\u001b[0;34m\u001b[0m\n\u001b[1;32m      1\u001b[0m \u001b[0;31m# 만약 리스트가 비어 있을 경우에는 인덱스를 -1로 지정하면 에러가 발생합니다.\u001b[0m\u001b[0;34m\u001b[0m\u001b[0;34m\u001b[0m\u001b[0;34m\u001b[0m\u001b[0m\n\u001b[1;32m      2\u001b[0m \u001b[0ma\u001b[0m\u001b[0;34m.\u001b[0m\u001b[0mclear\u001b[0m\u001b[0;34m(\u001b[0m\u001b[0;34m)\u001b[0m\u001b[0;34m\u001b[0m\u001b[0;34m\u001b[0m\u001b[0m\n\u001b[0;32m----> 3\u001b[0;31m \u001b[0ma\u001b[0m\u001b[0;34m[\u001b[0m\u001b[0;34m-\u001b[0m\u001b[0;36m1\u001b[0m\u001b[0;34m]\u001b[0m\u001b[0;34m\u001b[0m\u001b[0;34m\u001b[0m\u001b[0m\n\u001b[0m",
            "\u001b[0;31mIndexError\u001b[0m: list index out of range"
          ]
        }
      ]
    },
    {
      "cell_type": "code",
      "source": [
        "# 이때는 if 조건문을 활용하여 리스트에 요소가 있을 때만 마지막 요소를 가져오면 됩니다.\n",
        "a=[10,20,30]\n",
        "a.clear()\n",
        "if a:\n",
        "  print(a[-1])"
      ],
      "metadata": {
        "id": "GqhZ3c-Dd9Ur"
      },
      "execution_count": 66,
      "outputs": []
    },
    {
      "cell_type": "markdown",
      "source": [
        "## 리스트의 할당과 복사"
      ],
      "metadata": {
        "id": "6d1JLG9_eIeA"
      }
    },
    {
      "cell_type": "markdown",
      "source": [
        "이번에는 리스트의 할당과 복사에 대해 알아보겠습니다. 할당과 복사는 비슷한 것 같지만 큰 차이점이 있습니다."
      ],
      "metadata": {
        "id": "Jz30wEWteKgT"
      }
    },
    {
      "cell_type": "code",
      "source": [
        "a=[0]*5"
      ],
      "metadata": {
        "id": "RldCBZxteNGu"
      },
      "execution_count": 67,
      "outputs": []
    },
    {
      "cell_type": "code",
      "source": [
        "b=a\n",
        "a,b"
      ],
      "metadata": {
        "id": "FFQ76jaIIAlw",
        "outputId": "1e88df58-2ad7-4191-f979-b78455b4e4e7",
        "colab": {
          "base_uri": "https://localhost:8080/"
        }
      },
      "execution_count": 68,
      "outputs": [
        {
          "output_type": "execute_result",
          "data": {
            "text/plain": [
              "([0, 0, 0, 0, 0], [0, 0, 0, 0, 0])"
            ]
          },
          "metadata": {},
          "execution_count": 68
        }
      ]
    },
    {
      "cell_type": "code",
      "source": [
        "a[1]=200\n",
        "a,b"
      ],
      "metadata": {
        "id": "kOjlbESoIDYm",
        "outputId": "9f09efdf-4634-4917-a009-84f98322322e",
        "colab": {
          "base_uri": "https://localhost:8080/"
        }
      },
      "execution_count": 70,
      "outputs": [
        {
          "output_type": "execute_result",
          "data": {
            "text/plain": [
              "([0, 200, 0, 0, 0], [0, 200, 0, 0, 0])"
            ]
          },
          "metadata": {},
          "execution_count": 70
        }
      ]
    },
    {
      "cell_type": "code",
      "source": [
        "b[2]=300\n",
        "a,b"
      ],
      "metadata": {
        "id": "wokA3QwbINWz",
        "outputId": "a2d2a66c-f218-4e3d-e1f9-c42f6e9db5e7",
        "colab": {
          "base_uri": "https://localhost:8080/"
        }
      },
      "execution_count": 71,
      "outputs": [
        {
          "output_type": "execute_result",
          "data": {
            "text/plain": [
              "([0, 200, 300, 0, 0], [0, 200, 300, 0, 0])"
            ]
          },
          "metadata": {},
          "execution_count": 71
        }
      ]
    },
    {
      "cell_type": "markdown",
      "source": [
        "b = a와 같이 리스트를 다른 변수에 할당하면 리스트는 두 개가 될 것 같지만 실제로는 리스트가 한 개입니다."
      ],
      "metadata": {
        "id": "2ysvkHOfePOv"
      }
    },
    {
      "cell_type": "code",
      "source": [
        "# a와 b를 is 연산자로 비교해보면 True가 나옵니다. 즉, 변수 이름만 다를 뿐 리스트 a와 b는 같은 객체입니다.\n",
        "a is b"
      ],
      "metadata": {
        "colab": {
          "base_uri": "https://localhost:8080/"
        },
        "id": "o0DHXG8PeN_i",
        "outputId": "7d5e7521-4b0f-4cde-ded2-84ff37da2af1"
      },
      "execution_count": 72,
      "outputs": [
        {
          "output_type": "execute_result",
          "data": {
            "text/plain": [
              "True"
            ]
          },
          "metadata": {},
          "execution_count": 72
        }
      ]
    },
    {
      "cell_type": "code",
      "source": [
        "# a와 b는 같으므로 b[2] = 99와 같이 리스트 b의 요소를 변경하면 리스트 a와 b에 모두 반영됩니다.\n"
      ],
      "metadata": {
        "colab": {
          "base_uri": "https://localhost:8080/"
        },
        "id": "AsSQDheXeSiL",
        "outputId": "fbf71f86-7410-4d68-9b86-5d1c52e00e00"
      },
      "execution_count": null,
      "outputs": [
        {
          "output_type": "execute_result",
          "data": {
            "text/plain": [
              "([0, 0, 99, 0, 0], [0, 0, 99, 0, 0])"
            ]
          },
          "metadata": {},
          "execution_count": 32
        }
      ]
    },
    {
      "cell_type": "code",
      "source": [
        "# 리스트 a와 b를 완전히 두 개로 만들려면 copy 메서드로 모든 요소를 복사해야 합니다.\n"
      ],
      "metadata": {
        "id": "_aTWRaykeWD3"
      },
      "execution_count": null,
      "outputs": []
    },
    {
      "cell_type": "markdown",
      "source": [
        "b = a.copy()와 같이 copy를 사용한 뒤 b에 할당해주면 리스트 a의 요소가 모두 b에 복사됩니다."
      ],
      "metadata": {
        "id": "W8ex3D0Jeb2B"
      }
    },
    {
      "cell_type": "code",
      "source": [
        "# a와 b를 is 연산자로 비교해보면 False가 나옵니다. 즉, 두 리스트는 다른 객체입니다. 그러나 복사된 요소는 모두 같으므로 ==로 비교하면 True가 나옵니다.\n",
        "a=[0,1,3,0,0]\n",
        "b=a.copy()\n",
        "a,b\n",
        "a is b"
      ],
      "metadata": {
        "colab": {
          "base_uri": "https://localhost:8080/"
        },
        "id": "yYUHIwLdea5D",
        "outputId": "50c1e641-47a3-4f6a-c02f-a690a2ead774"
      },
      "execution_count": 74,
      "outputs": [
        {
          "output_type": "execute_result",
          "data": {
            "text/plain": [
              "False"
            ]
          },
          "metadata": {},
          "execution_count": 74
        }
      ]
    },
    {
      "cell_type": "code",
      "source": [
        "# 이제 리스트 a와 b는 별개이므로 한쪽의 값을 변경해도 다른 리스트에 영향을 미치지 않습니다.\n",
        "# 다음과 같이 리스트 b의 요소를 변경하면 리스트 a는 그대로이고 리스트 b만 바뀝니다.\n",
        "a[1]=5\n",
        "a,b"
      ],
      "metadata": {
        "colab": {
          "base_uri": "https://localhost:8080/"
        },
        "id": "oqLtWyEFeh3Q",
        "outputId": "0650cb3d-6d25-4945-9cd0-2b14b0cb5918"
      },
      "execution_count": 75,
      "outputs": [
        {
          "output_type": "execute_result",
          "data": {
            "text/plain": [
              "([0, 5, 3, 0, 0], [0, 1, 3, 0, 0])"
            ]
          },
          "metadata": {},
          "execution_count": 75
        }
      ]
    },
    {
      "cell_type": "markdown",
      "source": [
        "## 반복문으로 리스트의 요소를 모두 출력하기"
      ],
      "metadata": {
        "id": "0k4CI6vtewQR"
      }
    },
    {
      "cell_type": "markdown",
      "source": [
        "### for 반복문으로 요소 출력하기"
      ],
      "metadata": {
        "id": "YWNVY17ke1h3"
      }
    },
    {
      "cell_type": "markdown",
      "source": [
        "for 반복문은 그냥 in 뒤에 리스트를 지정하면 됩니다.\n",
        "\n",
        "```\n",
        "for 변수 in 리스트:\n",
        "     반복할 코드\n",
        "```"
      ],
      "metadata": {
        "id": "5vurwh3xe3ET"
      }
    },
    {
      "cell_type": "code",
      "source": [
        "i=0\n",
        "for i in a:\n",
        "  print(i)\n",
        "  i+=1"
      ],
      "metadata": {
        "colab": {
          "base_uri": "https://localhost:8080/"
        },
        "id": "ct3OpCIEen4U",
        "outputId": "7ec79def-2eca-4312-d4ce-e65137c81441"
      },
      "execution_count": 83,
      "outputs": [
        {
          "output_type": "stream",
          "name": "stdout",
          "text": [
            "0\n",
            "5\n",
            "3\n",
            "0\n",
            "0\n"
          ]
        }
      ]
    },
    {
      "cell_type": "markdown",
      "source": [
        "`for i in a:`는 리스트 a에서 요소를 꺼내서 i에 저장하고, 꺼낼 때마다 코드를 반복합니다. 따라서 print로 i를 출력하면 모든 요소를 순서대로 출력할 수 있습니다.\n",
        "\n"
      ],
      "metadata": {
        "id": "A91t5ahze-KX"
      }
    },
    {
      "cell_type": "code",
      "source": [
        "# 물론 in 다음에 리스트를 직접 지정해도 상관 없습니다.\n",
        "i=0\n",
        "for i in a:\n",
        "  print(i)\n",
        "  i+=1"
      ],
      "metadata": {
        "colab": {
          "base_uri": "https://localhost:8080/"
        },
        "id": "5HmfRxwRe77h",
        "outputId": "a1d21f46-3dc6-4d55-9cf9-65a389ca9464"
      },
      "execution_count": 84,
      "outputs": [
        {
          "output_type": "stream",
          "name": "stdout",
          "text": [
            "0\n",
            "5\n",
            "3\n",
            "0\n",
            "0\n"
          ]
        }
      ]
    },
    {
      "cell_type": "markdown",
      "source": [
        "### 인덱스와 요소를 함께 출력하기"
      ],
      "metadata": {
        "id": "wANTR49BfDYp"
      }
    },
    {
      "cell_type": "markdown",
      "source": [
        "그럼 for 반복문으로 요소를 출력할 때 인덱스도 함께 출력하려면 어떻게 해야 할까요? 이때는 `enumerate`를 사용합니다.\n",
        "\n",
        "* `for 인덱스, 요소 in enumerate(리스트)`:"
      ],
      "metadata": {
        "id": "wjXgsWEPfE9z"
      }
    },
    {
      "cell_type": "code",
      "source": [
        "for i in enumerate(a):\n",
        "  print(i)\n",
        "  print(type(i))\n",
        "  print(len(i))"
      ],
      "metadata": {
        "colab": {
          "base_uri": "https://localhost:8080/"
        },
        "id": "h1DEXzICfANv",
        "outputId": "b9b1cc93-0c68-4a6f-9942-5d64c7de0b7a"
      },
      "execution_count": 78,
      "outputs": [
        {
          "output_type": "stream",
          "name": "stdout",
          "text": [
            "(0, 0)\n",
            "<class 'tuple'>\n",
            "2\n",
            "(1, 5)\n",
            "<class 'tuple'>\n",
            "2\n",
            "(2, 3)\n",
            "<class 'tuple'>\n",
            "2\n",
            "(3, 0)\n",
            "<class 'tuple'>\n",
            "2\n",
            "(4, 0)\n",
            "<class 'tuple'>\n",
            "2\n"
          ]
        }
      ]
    },
    {
      "cell_type": "markdown",
      "source": [
        "`for index, value in enumerate(a):`와 같이 enumerate에 리스트를 넣으면 for 반복문에서 인덱스와 요소를 동시에 꺼내 올 수 있습니다."
      ],
      "metadata": {
        "id": "b9uh7bkyfNCw"
      }
    },
    {
      "cell_type": "code",
      "source": [
        "# 인덱스 1부터 출력하기\n",
        "for i, v in enumerate(a):\n",
        "  print(i,v)"
      ],
      "metadata": {
        "colab": {
          "base_uri": "https://localhost:8080/"
        },
        "id": "45kSKrIlfKqr",
        "outputId": "e0150071-41a9-4185-d1b7-aa492d1361cf"
      },
      "execution_count": 79,
      "outputs": [
        {
          "output_type": "stream",
          "name": "stdout",
          "text": [
            "0 0\n",
            "1 5\n",
            "2 3\n",
            "3 0\n",
            "4 0\n"
          ]
        }
      ]
    },
    {
      "cell_type": "markdown",
      "source": [
        "enumerate에 start를 지정해주면 시작 인덱스를 바꿀 수 있습니다.\n",
        "\n",
        "* `for 인덱스, 요소 in enumerate(리스트, start=숫자):`"
      ],
      "metadata": {
        "id": "V33hweywfcjS"
      }
    },
    {
      "cell_type": "code",
      "source": [
        "# for index, value in enumerate(a, start=1):\n",
        "for i, v in enumerate(a, start=2):\n",
        "  print(i,v)"
      ],
      "metadata": {
        "colab": {
          "base_uri": "https://localhost:8080/"
        },
        "id": "LIVvo8InfR_a",
        "outputId": "841bf5e8-f1b1-4a2b-fcfb-1c465625f3ba"
      },
      "execution_count": 86,
      "outputs": [
        {
          "output_type": "stream",
          "name": "stdout",
          "text": [
            "2 0\n",
            "3 5\n",
            "4 3\n",
            "5 0\n",
            "6 0\n"
          ]
        }
      ]
    },
    {
      "cell_type": "markdown",
      "source": [
        "### while반복문으로 요소 출력하기"
      ],
      "metadata": {
        "id": "lAY7CEqafoOL"
      }
    },
    {
      "cell_type": "code",
      "source": [
        "i=0\n",
        "while i<5:\n",
        "  print(a[i])\n",
        "  i+=1"
      ],
      "metadata": {
        "colab": {
          "base_uri": "https://localhost:8080/"
        },
        "id": "0YS5UjeqfhaV",
        "outputId": "86812238-4d90-47f2-ef5d-bed948ab6a50"
      },
      "execution_count": 87,
      "outputs": [
        {
          "output_type": "stream",
          "name": "stdout",
          "text": [
            "0\n",
            "5\n",
            "3\n",
            "0\n",
            "0\n"
          ]
        }
      ]
    },
    {
      "cell_type": "markdown",
      "source": [
        "즉, 리스트의 인덱스는 0부터 시작하고 마지막 인덱스는 리스트의 길이보다 1이 작으므로 <를 사용합니다. 만약 i <= len(a)처럼 <=을 사용하면 리스트의 범위를 벗어나게 되므로 주의해야 합니다."
      ],
      "metadata": {
        "id": "wyN28kGnf5fr"
      }
    },
    {
      "cell_type": "code",
      "source": [
        "i=0\n",
        "while i<=len(a):\n",
        "  print(i)\n",
        "  i+=1"
      ],
      "metadata": {
        "id": "aizuNqiafsce",
        "outputId": "a56b72bc-b272-44cd-abcf-f8ae4c23ed34",
        "colab": {
          "base_uri": "https://localhost:8080/"
        }
      },
      "execution_count": 100,
      "outputs": [
        {
          "output_type": "stream",
          "name": "stdout",
          "text": [
            "0\n",
            "1\n",
            "2\n",
            "3\n",
            "4\n",
            "5\n"
          ]
        }
      ]
    },
    {
      "cell_type": "markdown",
      "source": [
        "## 리스트(튜플)의 가장 작은 수, 가장 큰 수, 합계 구하기"
      ],
      "metadata": {
        "id": "MqIPe-nPf9Eh"
      }
    },
    {
      "cell_type": "markdown",
      "source": [
        "### 가장 작은 수와 가장 큰 수 구하기"
      ],
      "metadata": {
        "id": "t7xNr8-QhAWi"
      }
    },
    {
      "cell_type": "markdown",
      "source": [
        "먼저 가장 작은 수와 가장 큰 수는 어떻게 구할까요? 앞에서 반복문을 배웠으니 요소를 모두 반복하면서 숫자를 찾아내 보겠습니다."
      ],
      "metadata": {
        "id": "GEyMNz5EhCE3"
      }
    },
    {
      "cell_type": "code",
      "source": [
        "min(a)"
      ],
      "metadata": {
        "colab": {
          "base_uri": "https://localhost:8080/"
        },
        "id": "Z_wZLlnmf_Pf",
        "outputId": "29a793bf-099a-4057-8257-58fbf782153b"
      },
      "execution_count": 91,
      "outputs": [
        {
          "output_type": "execute_result",
          "data": {
            "text/plain": [
              "0"
            ]
          },
          "metadata": {},
          "execution_count": 91
        }
      ]
    },
    {
      "cell_type": "markdown",
      "source": [
        "먼저 리스트 a의 첫 번째 요소 a[0]를 변수 smallest에 저장합니다. 그리고 for로 리스트의 요소를 모두 반복하면서 i가 smallest보다 작으면 smallest에 i를 할당합니다. 즉, 숫자를 계속 비교해서 숫자가 작으면 smallest를 바꾸는 방식입니다."
      ],
      "metadata": {
        "id": "EEvsBEH6hNHR"
      }
    },
    {
      "cell_type": "code",
      "source": [
        "# 가장 큰 수는 부등호를 반대로 만들면 되겠죠?\n",
        "max(a)"
      ],
      "metadata": {
        "colab": {
          "base_uri": "https://localhost:8080/"
        },
        "id": "774LxQ3whHFo",
        "outputId": "60267a47-77ad-4284-c8a7-f5c9cc955436"
      },
      "execution_count": 92,
      "outputs": [
        {
          "output_type": "execute_result",
          "data": {
            "text/plain": [
              "5"
            ]
          },
          "metadata": {},
          "execution_count": 92
        }
      ]
    },
    {
      "cell_type": "markdown",
      "source": [
        "리스트의 숫자를 계속 비교해서 숫자가 크면 largest를 바꾸는 방식입니다. 그런데 이렇게 for와 if를 사용해서 가장 작은 수와 가장 큰 수를 찾으려니 좀 번거롭습니다. 다른 방법이 없을까요?\n",
        "\n",
        "앞에서 리스트를 정렬하는 sort 메서드를 배웠습니다. 리스트를 작은 순서대로 정렬(오름차순)하면 첫 번째 요소가 가장 작은 수입니다. 반대로 큰 순서대로 정렬(내림차순)하면 첫 번째 요소가 가장 큰 수가 되겠죠?"
      ],
      "metadata": {
        "id": "I3Szy57DhVye"
      }
    },
    {
      "cell_type": "code",
      "source": [
        "sorted(a, reverse=True)[0]"
      ],
      "metadata": {
        "colab": {
          "base_uri": "https://localhost:8080/"
        },
        "id": "4EvmEtahhTLw",
        "outputId": "ccf3ccfa-741b-4794-ed7e-d73944a10408"
      },
      "execution_count": 96,
      "outputs": [
        {
          "output_type": "execute_result",
          "data": {
            "text/plain": [
              "5"
            ]
          },
          "metadata": {},
          "execution_count": 96
        }
      ]
    },
    {
      "cell_type": "code",
      "source": [],
      "metadata": {
        "colab": {
          "base_uri": "https://localhost:8080/"
        },
        "id": "lDkh5H3mhYo9",
        "outputId": "91dec8bd-1266-46f5-b212-bcb05f333b9d"
      },
      "execution_count": null,
      "outputs": [
        {
          "output_type": "execute_result",
          "data": {
            "text/plain": [
              "62"
            ]
          },
          "metadata": {},
          "execution_count": 47
        }
      ]
    },
    {
      "cell_type": "code",
      "source": [
        "# 더 간단한 방법이 있습니다. 파이썬에서 제공하는 min, max 함수를 사용하면 됩니다.\n"
      ],
      "metadata": {
        "colab": {
          "base_uri": "https://localhost:8080/"
        },
        "id": "gxZ4L8jFha5G",
        "outputId": "969960e6-fdb5-4d0c-f11b-5d5b302d677c"
      },
      "execution_count": null,
      "outputs": [
        {
          "output_type": "execute_result",
          "data": {
            "text/plain": [
              "(19, 62)"
            ]
          },
          "metadata": {},
          "execution_count": 48
        }
      ]
    },
    {
      "cell_type": "markdown",
      "source": [
        "min은 리스트에서 가장 작은 값을 구하고, max는 가장 큰 값을 구합니다."
      ],
      "metadata": {
        "id": "FvBpnEtyhgT0"
      }
    },
    {
      "cell_type": "markdown",
      "source": [
        "### 요소의 합계 구하기"
      ],
      "metadata": {
        "id": "9VJIGdZMhiXX"
      }
    },
    {
      "cell_type": "code",
      "source": [
        "# 이번에는 리스트에서 요소의 합계를 구해보겠습니다. 합계를 구할 때도 반복문을 사용할 수 있겠죠?\n",
        "i=0\n",
        "b=0\n",
        "for i in a:\n",
        "  b+=i\n",
        "  i+=1\n",
        "print(b)"
      ],
      "metadata": {
        "colab": {
          "base_uri": "https://localhost:8080/"
        },
        "id": "E5bDqoRthezr",
        "outputId": "b64c9aca-cca6-46bf-a397-88891fb990b9"
      },
      "execution_count": 99,
      "outputs": [
        {
          "output_type": "stream",
          "name": "stdout",
          "text": [
            "8\n"
          ]
        }
      ]
    },
    {
      "cell_type": "markdown",
      "source": [
        "변수 x에 0을 할당하고, for 반복문으로 리스트의 요소를 모두 반복하면서 요소를 x에 계속 더해주면 됩니다. 이때 x에는 반드시 0을 할당해야 합니다. 그렇지 않으면 없는 변수에 값을 더하게 되므로 에러가 발생합니다. 또한, 0부터 시작해서 숫자를 더해야 제대로 된 합계가 구해지겠죠?"
      ],
      "metadata": {
        "id": "QWtnq2tJhsbh"
      }
    },
    {
      "cell_type": "markdown",
      "source": [
        "사실 이 방법도 좀 번거롭습니다. 그래서 파이썬에서는 합계를 구하는 sum 함수를 제공합니다."
      ],
      "metadata": {
        "id": "ol1IRaKqhtz3"
      }
    },
    {
      "cell_type": "code",
      "source": [
        "a = [10, 10, 10, 10, 10]\n",
        "sum(a)"
      ],
      "metadata": {
        "colab": {
          "base_uri": "https://localhost:8080/"
        },
        "id": "ylFf2-HLhqiV",
        "outputId": "ced9c1ea-2ea2-47d4-e195-7e668cc6e294"
      },
      "execution_count": null,
      "outputs": [
        {
          "output_type": "execute_result",
          "data": {
            "text/plain": [
              "50"
            ]
          },
          "metadata": {},
          "execution_count": 50
        }
      ]
    },
    {
      "cell_type": "markdown",
      "source": [
        "## 리스트 표현식 사용하기"
      ],
      "metadata": {
        "id": "PNoWyCtUhzaU"
      }
    },
    {
      "cell_type": "markdown",
      "source": [
        "파이썬의 리스트가 특이한 점은 리스트 안에 for 반복문과 if 조건문을 사용할 수 있다는 점입니다. 이렇게 리스트 안에 식, for 반복문, if 조건문 등을 지정하여 리스트를 생성하는 것을 **리스트 컴프리헨션(list comprehension)**이라고 합니다.\n",
        "\n",
        "리스트 컴프리헨션이라고 하니 언뜻 이해가 잘 안되죠? 책이나 인터넷에서도 리스트 내포, 리스트 내장, 리스트 축약, 리스트 해석 등으로 씁니다. 컴프리헨션은 능력, 이해력, 시험 등의 뜻도 있지만, 어떤 것을 잡아서 담아둔다는 뜻이 있습니다. 즉, 식으로 지정해서 생성된 것을 리스트로 잡아두는 것이 리스트 컴프리헨션입니다. 개념적으로 보면 \"리스트 표현식\"이라고 할 수 있으니 이 책에서는 간단하게 리스트 표현식이라고 쓰겠습니다.\n",
        "\n",
        "리스트 표현식은 다음과 같이 리스트 안에 식, for 반복문을 지정합니다. 문법이 다소 복잡해 보이지만 여러 줄의 코드를 한 줄로 줄일 수 있고, 익숙해지면 크게 어렵지 않습니다.\n",
        "\n",
        "* `[식 for 변수 in 리스트]`"
      ],
      "metadata": {
        "id": "SKDP37d2h2BZ"
      }
    },
    {
      "cell_type": "code",
      "source": [
        "a=[i for i in range(10)]\n",
        "a"
      ],
      "metadata": {
        "colab": {
          "base_uri": "https://localhost:8080/"
        },
        "id": "nNO-RkWmhv-Y",
        "outputId": "8dc8127a-2a63-492f-9991-2d1c6393cdd5"
      },
      "execution_count": 101,
      "outputs": [
        {
          "output_type": "execute_result",
          "data": {
            "text/plain": [
              "[0, 1, 2, 3, 4, 5, 6, 7, 8, 9]"
            ]
          },
          "metadata": {},
          "execution_count": 101
        }
      ]
    },
    {
      "cell_type": "code",
      "source": [
        "# 0부터 9까지 숫자를 생성하여 리스트 생성\n"
      ],
      "metadata": {
        "id": "_JDs4llgiArl"
      },
      "execution_count": 102,
      "outputs": []
    },
    {
      "cell_type": "code",
      "source": [
        "a=[]\n",
        "for i in range(10):\n",
        "  a.append(i**2)\n",
        "a"
      ],
      "metadata": {
        "id": "c6wqKz6TXP4z",
        "outputId": "08f05e73-adcf-45b2-f5d5-5001fa1470f3",
        "colab": {
          "base_uri": "https://localhost:8080/"
        }
      },
      "execution_count": 103,
      "outputs": [
        {
          "output_type": "execute_result",
          "data": {
            "text/plain": [
              "[0, 1, 4, 9, 16, 25, 36, 49, 64, 81]"
            ]
          },
          "metadata": {},
          "execution_count": 103
        }
      ]
    },
    {
      "cell_type": "code",
      "source": [
        "a=[i**2 for i in range(10)]\n",
        "a"
      ],
      "metadata": {
        "id": "3aizI8HkXRcT",
        "outputId": "bc18a259-0e10-4eb8-817f-8eab87254d06",
        "colab": {
          "base_uri": "https://localhost:8080/"
        }
      },
      "execution_count": 104,
      "outputs": [
        {
          "output_type": "execute_result",
          "data": {
            "text/plain": [
              "[0, 1, 4, 9, 16, 25, 36, 49, 64, 81]"
            ]
          },
          "metadata": {},
          "execution_count": 104
        }
      ]
    },
    {
      "cell_type": "markdown",
      "source": [
        "리스트 안에 식, for, 변수, in, 리스트 순서로 들어있지만 뒤에서 앞으로 읽으면 간단합니다. 즉, range(10)으로 0부터 9까지 생성하여 변수 i에 숫자를 꺼내고, 최종적으로 i를 이용하여 리스트를 만든다는 뜻입니다."
      ],
      "metadata": {
        "id": "LpO8RdH5iE8w"
      }
    },
    {
      "cell_type": "code",
      "source": [
        "# 0부터 9까지 숫자를 생성하면서 값에 5를 더하여 리스트 생성\n",
        "a=[]\n",
        "for i in range(10):\n",
        "  a.append(i+5)\n",
        "a"
      ],
      "metadata": {
        "colab": {
          "base_uri": "https://localhost:8080/"
        },
        "id": "cubbm-uEiCjj",
        "outputId": "4912ba8e-7882-4e61-82b7-fca4785b3bfb"
      },
      "execution_count": 105,
      "outputs": [
        {
          "output_type": "execute_result",
          "data": {
            "text/plain": [
              "[5, 6, 7, 8, 9, 10, 11, 12, 13, 14]"
            ]
          },
          "metadata": {},
          "execution_count": 105
        }
      ]
    },
    {
      "cell_type": "code",
      "source": [
        "# 0부터 9까지 숫자를 생성하면서 값에 2를 곱하여 리스트 생성\n",
        "a=[i+5 for i in range(10)]\n",
        "a"
      ],
      "metadata": {
        "colab": {
          "base_uri": "https://localhost:8080/"
        },
        "id": "lBAMC1pviL6X",
        "outputId": "3d24c607-7bc1-4aff-ee37-f6e31ac56b18"
      },
      "execution_count": 106,
      "outputs": [
        {
          "output_type": "execute_result",
          "data": {
            "text/plain": [
              "[5, 6, 7, 8, 9, 10, 11, 12, 13, 14]"
            ]
          },
          "metadata": {},
          "execution_count": 106
        }
      ]
    },
    {
      "cell_type": "markdown",
      "source": [
        "### 리스트 표현식에서 if 조건문 사용하기"
      ],
      "metadata": {
        "id": "cLlfOJfoiSls"
      }
    },
    {
      "cell_type": "markdown",
      "source": [
        "이번에는 리스트 표현식에서 if 조건문을 사용해보겠습니다. 다음과 같이 if 조건문은 for 반복문 뒤에 지정합니다.\n",
        "\n",
        "* `[식 for 변수 in 리스트 if 조건식]`"
      ],
      "metadata": {
        "id": "6yK2g3-piUkA"
      }
    },
    {
      "cell_type": "code",
      "source": [
        "a=list(range(10))\n",
        "for i in a:\n",
        "  if i<7:\n",
        "    print(i)\n",
        "  i+=1"
      ],
      "metadata": {
        "colab": {
          "base_uri": "https://localhost:8080/"
        },
        "id": "j1aVvBSLiKjb",
        "outputId": "2a5311e2-cd7d-4862-8f4e-e56c58d5fd29"
      },
      "execution_count": 109,
      "outputs": [
        {
          "output_type": "stream",
          "name": "stdout",
          "text": [
            "0\n",
            "1\n",
            "2\n",
            "3\n",
            "4\n",
            "5\n",
            "6\n"
          ]
        }
      ]
    },
    {
      "cell_type": "code",
      "source": [
        "b=[i for i in a if i<7]\n",
        "b"
      ],
      "metadata": {
        "id": "ttf79H9vZQh5",
        "outputId": "f4ea3f6d-ad32-4545-fe02-dd84f2171b9e",
        "colab": {
          "base_uri": "https://localhost:8080/"
        }
      },
      "execution_count": 110,
      "outputs": [
        {
          "output_type": "execute_result",
          "data": {
            "text/plain": [
              "[0, 1, 2, 3, 4, 5, 6]"
            ]
          },
          "metadata": {},
          "execution_count": 110
        }
      ]
    },
    {
      "cell_type": "code",
      "source": [],
      "metadata": {
        "colab": {
          "base_uri": "https://localhost:8080/"
        },
        "id": "mU7F6gUticBX",
        "outputId": "a86145d0-5074-4491-d265-e0c6c234f609"
      },
      "execution_count": null,
      "outputs": [
        {
          "output_type": "execute_result",
          "data": {
            "text/plain": [
              "[6, 8, 10, 12, 14]"
            ]
          },
          "metadata": {},
          "execution_count": 57
        }
      ]
    },
    {
      "cell_type": "markdown",
      "source": [
        "### for 반복문과 if 조건문을 여러 번 사용하기"
      ],
      "metadata": {
        "id": "p7gFvnKnigCn"
      }
    },
    {
      "cell_type": "markdown",
      "source": [
        "리스트 표현식은 for와 if를 여러 번 사용할 수도 있습니다.\n",
        "\n",
        "* `[식 for 변수1 in 리스트1 if 조건식1     for 변수2 in 리스트2 if 조건식2     ...     for 변수n in 리스트n if 조건식n]`"
      ],
      "metadata": {
        "id": "WwEy38Psiku1"
      }
    },
    {
      "cell_type": "code",
      "source": [
        "[(i*j) for j in range(10) for i in range(10)]"
      ],
      "metadata": {
        "id": "aD5ufjtoied7"
      },
      "execution_count": null,
      "outputs": []
    },
    {
      "cell_type": "code",
      "source": [
        "[(i*j) for j in range(10) if j%2==0 for i in range(10) if i%2==1]"
      ],
      "metadata": {
        "id": "IGReL2kgio5L"
      },
      "execution_count": null,
      "outputs": []
    },
    {
      "cell_type": "markdown",
      "source": [
        "## 리스트에 map 사용하기"
      ],
      "metadata": {
        "id": "VFhcQVbYiwbo"
      }
    },
    {
      "cell_type": "markdown",
      "source": [
        "이번에는 리스트에 map을 사용해보겠습니다. map은 리스트의 요소를 지정된 함수로 처리해주는 함수입니다(map은 원본 리스트를 변경하지 않고 새 리스트를 생성합니다).\n",
        "\n",
        "* `list(map(함수, 리스트))`\n",
        "* `tuple(map(함수, 튜플))`\n",
        "\n",
        "예를 들어 실수가 저장된 리스트가 있을 때 이 리스트의 모든 요소를 정수로 변환하려면 어떻게 해야 할까요? 먼저 for 반복문을 사용해서 변환해보겠습니다."
      ],
      "metadata": {
        "id": "KCKM5L0AizY-"
      }
    },
    {
      "cell_type": "code",
      "source": [],
      "metadata": {
        "colab": {
          "base_uri": "https://localhost:8080/"
        },
        "id": "VZOqVRhpi2uR",
        "outputId": "03e0f8e5-aa02-47a0-b0dc-f83b8391e6bc"
      },
      "execution_count": null,
      "outputs": [
        {
          "output_type": "execute_result",
          "data": {
            "text/plain": [
              "[1, 2, 3, 4]"
            ]
          },
          "metadata": {},
          "execution_count": 61
        }
      ]
    },
    {
      "cell_type": "code",
      "source": [
        "# 매번 for 반복문으로 반복하면서 요소를 변환하려니 조금 번거롭습니다. 이때는 map을 사용하면 편리합니다.\n"
      ],
      "metadata": {
        "colab": {
          "base_uri": "https://localhost:8080/"
        },
        "id": "7jPvFmfXi48s",
        "outputId": "4a728fbe-2575-4317-e2e9-c6b7e55cbe2a"
      },
      "execution_count": null,
      "outputs": [
        {
          "output_type": "execute_result",
          "data": {
            "text/plain": [
              "[1, 2, 3, 4]"
            ]
          },
          "metadata": {},
          "execution_count": 62
        }
      ]
    },
    {
      "cell_type": "markdown",
      "source": [
        "### input().split()과 map"
      ],
      "metadata": {
        "id": "4jgGA8cykJzJ"
      }
    },
    {
      "cell_type": "markdown",
      "source": [
        "지금까지 input().split()으로 값을 여러 개 입력받고 정수, 실수로 변환할 때도 map을 사용했었죠? 사실 input().split()의 결과가 문자열 리스트라서 map을 사용할 수 있었습니다.\n",
        "\n",
        "다음과 같이 input().split()을 사용한 뒤에 변수 한 개에 저장해보면 리스트인지 확인할 수 있습니다."
      ],
      "metadata": {
        "id": "5D2FE1EukMl0"
      }
    },
    {
      "cell_type": "code",
      "source": [
        "a=input().split()\n",
        "a"
      ],
      "metadata": {
        "colab": {
          "base_uri": "https://localhost:8080/"
        },
        "id": "Dt1GfQi0jCqN",
        "outputId": "813f7434-dcd6-42d4-d9a9-96af0b8caff3"
      },
      "execution_count": 117,
      "outputs": [
        {
          "name": "stdout",
          "output_type": "stream",
          "text": [
            "10 20 30 40\n"
          ]
        },
        {
          "output_type": "execute_result",
          "data": {
            "text/plain": [
              "['10', '20', '30', '40']"
            ]
          },
          "metadata": {},
          "execution_count": 117
        }
      ]
    },
    {
      "cell_type": "code",
      "source": [
        "# 이제 map을 사용해서 정수로 변환해봅니다.\n",
        "a=map(int, input().split())\n",
        "a, list(a)"
      ],
      "metadata": {
        "colab": {
          "base_uri": "https://localhost:8080/"
        },
        "id": "HkO02t-2kPN-",
        "outputId": "c83a8878-ed42-42db-f254-1529edaf6a54"
      },
      "execution_count": 125,
      "outputs": [
        {
          "name": "stdout",
          "output_type": "stream",
          "text": [
            "10 20\n"
          ]
        },
        {
          "output_type": "execute_result",
          "data": {
            "text/plain": [
              "(<map at 0x7f308a2a7100>, [10, 20])"
            ]
          },
          "metadata": {},
          "execution_count": 125
        }
      ]
    },
    {
      "cell_type": "markdown",
      "source": [
        "사실 map이 반환하는 맵 객체는 변수 여러 개에 저장하는 언패킹(unpacking)이 가능합니다. 그래서 a, b = map(int, input().split())처럼 list를 생략한 것입니다"
      ],
      "metadata": {
        "id": "lVP4aYf5kb96"
      }
    },
    {
      "cell_type": "code",
      "source": [
        "a=map(int, input().split())\n",
        "a, list(a), tuple(a)"
      ],
      "metadata": {
        "colab": {
          "base_uri": "https://localhost:8080/"
        },
        "id": "CfGel0KhkVhk",
        "outputId": "8bad09e8-dbc3-417c-93b3-1660aabbf42d"
      },
      "execution_count": 127,
      "outputs": [
        {
          "name": "stdout",
          "output_type": "stream",
          "text": [
            "10 20\n"
          ]
        },
        {
          "output_type": "execute_result",
          "data": {
            "text/plain": [
              "(<map at 0x7f308a3783d0>, [10, 20], ())"
            ]
          },
          "metadata": {},
          "execution_count": 127
        }
      ]
    }
  ]
}