{
  "nbformat": 4,
  "nbformat_minor": 0,
  "metadata": {
    "colab": {
      "provenance": [],
      "authorship_tag": "ABX9TyNgODiicku+6g8IVh9+vybN",
      "include_colab_link": true
    },
    "kernelspec": {
      "name": "python3",
      "display_name": "Python 3"
    },
    "language_info": {
      "name": "python"
    }
  },
  "cells": [
    {
      "cell_type": "markdown",
      "metadata": {
        "id": "view-in-github",
        "colab_type": "text"
      },
      "source": [
        "<a href=\"https://colab.research.google.com/github/chohoon901/Python/blob/backup/submission/sunghuncho/ch_03_01%EB%B3%B5%EC%8A%B5.ipynb\" target=\"_parent\"><img src=\"https://colab.research.google.com/assets/colab-badge.svg\" alt=\"Open In Colab\"/></a>"
      ]
    },
    {
      "cell_type": "markdown",
      "source": [
        "## 함수"
      ],
      "metadata": {
        "id": "zvZ4_kBBp7Nw"
      }
    },
    {
      "cell_type": "code",
      "execution_count": 48,
      "metadata": {
        "id": "c6xgPRN7p2HO"
      },
      "outputs": [],
      "source": [
        "import random\n",
        "\n",
        "subjects={\n",
        "    \"여러분, 취업 준비하셔야해요!\",\n",
        "    \"자격증은 스터디 짜셨어요?\",\n",
        "    \"왜 깃허브에 회고 안올려요?\",\n",
        "    \"왜 사람들이 자꾸 나가지?\"\n",
        "}\n",
        "\n",
        "learning={\n",
        "    \"문자열\":\"split, replace...\",\n",
        "    \"리스트\":\"append, extend...\",\n",
        "    \"딕셔너리\":\"*args...\"\n",
        "}\n",
        "\n",
        "def study():\n",
        "  energy=random.randint(1,10)\n",
        "  print(hello(energy))\n",
        "  energy-=1\n",
        "  # choices=random.choices(subjects,k=2)\n",
        "  chat(energy, *subjects,k=2)\n",
        "  lecture(**learning)\n",
        "  print(*bye(),sep=' ')\n",
        "\n",
        "# def hello():\n",
        "#   return \"좋은 아침입니다 여러분\"\n",
        "def hello(energy=5):\n",
        "  if energy==10:\n",
        "    return \"여러분! 오늘 제가 커피 쏠까요?\"\n",
        "  if energy>=5:\n",
        "    return \"^_^ 오늘 점심메뉴 알려드릴까요?\"\n",
        "  return \"...\"\n",
        "# def chat(repeat,*args):\n",
        "#   pass\n",
        "# def lecture():\n",
        "#   pass\n",
        "def bye():\n",
        "  return \"10분 쉬겠습니다\",\"PR 보내주세요\""
      ]
    },
    {
      "cell_type": "code",
      "source": [
        "def chat(repeat,*args,k=2):\n",
        "  for i in range(repeat):\n",
        "    print(f\"제가 {i+1}번째 얘기하는거 같은데...\")\n",
        "    for j in random.choices(args,k=k):\n",
        "      print(j)"
      ],
      "metadata": {
        "id": "pk1A-nC_qlfG"
      },
      "execution_count": 47,
      "outputs": []
    },
    {
      "cell_type": "code",
      "source": [
        "def lecture(**kwargs):\n",
        "  # for k,v in kwargs.items():\n",
        "  #   print(\"자, 진도 나가겠습니다\")\n",
        "  #   print(f\"{k}에서 {v}를 배워봅시다.\")\n",
        "  for i,(k,v) in enumerate(kwargs.items()):\n",
        "    print(f\"자, 진도 {i+1}나가겠습니다\")\n",
        "    print(f\"{k}에서 {v}를 배워봅시다.\")"
      ],
      "metadata": {
        "id": "mlZz3z4mtpCp"
      },
      "execution_count": 42,
      "outputs": []
    },
    {
      "cell_type": "code",
      "source": [
        "study()"
      ],
      "metadata": {
        "colab": {
          "base_uri": "https://localhost:8080/"
        },
        "id": "dNOjrZBrqHkq",
        "outputId": "574df149-a0d4-46e9-f6ae-23589aab7d40"
      },
      "execution_count": 49,
      "outputs": [
        {
          "output_type": "stream",
          "name": "stdout",
          "text": [
            "^_^ 오늘 점심메뉴 알려드릴까요?\n",
            "제가 1번째 얘기하는거 같은데...\n",
            "왜 사람들이 자꾸 나가지?\n",
            "왜 깃허브에 회고 안올려요?\n",
            "제가 2번째 얘기하는거 같은데...\n",
            "왜 깃허브에 회고 안올려요?\n",
            "왜 사람들이 자꾸 나가지?\n",
            "제가 3번째 얘기하는거 같은데...\n",
            "자격증은 스터디 짜셨어요?\n",
            "왜 사람들이 자꾸 나가지?\n",
            "제가 4번째 얘기하는거 같은데...\n",
            "여러분, 취업 준비하셔야해요!\n",
            "왜 사람들이 자꾸 나가지?\n",
            "제가 5번째 얘기하는거 같은데...\n",
            "자격증은 스터디 짜셨어요?\n",
            "자격증은 스터디 짜셨어요?\n",
            "제가 6번째 얘기하는거 같은데...\n",
            "여러분, 취업 준비하셔야해요!\n",
            "여러분, 취업 준비하셔야해요!\n",
            "자, 진도 1나가겠습니다\n",
            "문자열에서 split, replace...를 배워봅시다.\n",
            "자, 진도 2나가겠습니다\n",
            "리스트에서 append, extend...를 배워봅시다.\n",
            "자, 진도 3나가겠습니다\n",
            "딕셔너리에서 *args...를 배워봅시다.\n",
            "10분 쉬겠습니다 PR 보내주세요\n"
          ]
        }
      ]
    },
    {
      "cell_type": "code",
      "source": [],
      "metadata": {
        "id": "eonesszYqJWH"
      },
      "execution_count": null,
      "outputs": []
    }
  ]
}