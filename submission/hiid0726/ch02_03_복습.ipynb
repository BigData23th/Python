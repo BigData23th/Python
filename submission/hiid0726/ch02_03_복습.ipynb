{
  "nbformat": 4,
  "nbformat_minor": 0,
  "metadata": {
    "colab": {
      "provenance": [],
      "authorship_tag": "ABX9TyN/JzPcAuvl4Na7a8kY6pEt",
      "include_colab_link": true
    },
    "kernelspec": {
      "name": "python3",
      "display_name": "Python 3"
    },
    "language_info": {
      "name": "python"
    }
  },
  "cells": [
    {
      "cell_type": "markdown",
      "metadata": {
        "id": "view-in-github",
        "colab_type": "text"
      },
      "source": [
        "<a href=\"https://colab.research.google.com/github/hiid0726/Python_lym/blob/main/submission/hiid0726/ch02_03_%EB%B3%B5%EC%8A%B5.ipynb\" target=\"_parent\"><img src=\"https://colab.research.google.com/assets/colab-badge.svg\" alt=\"Open In Colab\"/></a>"
      ]
    },
    {
      "cell_type": "markdown",
      "source": [
        "# 리스트 응용"
      ],
      "metadata": {
        "id": "GHf3sphcTIT1"
      }
    },
    {
      "cell_type": "code",
      "execution_count": 11,
      "metadata": {
        "id": "dooRb4u5N9ft"
      },
      "outputs": [],
      "source": [
        "# list 응용\n",
        "contry = []\n"
      ]
    },
    {
      "cell_type": "code",
      "source": [
        "contry.append(\"대한민국\")"
      ],
      "metadata": {
        "id": "7IRzpna-TPxX"
      },
      "execution_count": 12,
      "outputs": []
    },
    {
      "cell_type": "code",
      "source": [
        "contry"
      ],
      "metadata": {
        "colab": {
          "base_uri": "https://localhost:8080/"
        },
        "id": "uT5pv-kyTcMO",
        "outputId": "86de04f6-48b0-4218-db05-5fa3325403bf"
      },
      "execution_count": 3,
      "outputs": [
        {
          "output_type": "execute_result",
          "data": {
            "text/plain": [
              "['대한민국']"
            ]
          },
          "metadata": {},
          "execution_count": 3
        }
      ]
    },
    {
      "cell_type": "code",
      "source": [
        "contry2 = [\"중국\"]"
      ],
      "metadata": {
        "id": "f0EmNTvVTd58"
      },
      "execution_count": 4,
      "outputs": []
    },
    {
      "cell_type": "code",
      "source": [
        "contry += contry2\n",
        "contry"
      ],
      "metadata": {
        "colab": {
          "base_uri": "https://localhost:8080/"
        },
        "id": "ILfNmgjVTkY6",
        "outputId": "28ea7345-1fd8-4a89-e4dd-6998f5ffec2c"
      },
      "execution_count": 13,
      "outputs": [
        {
          "output_type": "execute_result",
          "data": {
            "text/plain": [
              "['대한민국', '중국']"
            ]
          },
          "metadata": {},
          "execution_count": 13
        }
      ]
    },
    {
      "cell_type": "code",
      "source": [
        "contry3 = ['일본']\n",
        "contry3"
      ],
      "metadata": {
        "colab": {
          "base_uri": "https://localhost:8080/"
        },
        "id": "DBwWZKHtTzue",
        "outputId": "eaf92b14-2b38-4033-c0b6-9205d016ff37"
      },
      "execution_count": 8,
      "outputs": [
        {
          "output_type": "execute_result",
          "data": {
            "text/plain": [
              "['일본']"
            ]
          },
          "metadata": {},
          "execution_count": 8
        }
      ]
    },
    {
      "cell_type": "code",
      "source": [
        "contry.extend(contry3)\n",
        "contry"
      ],
      "metadata": {
        "colab": {
          "base_uri": "https://localhost:8080/"
        },
        "id": "07DKBYQWT5bz",
        "outputId": "3c111a9b-6c30-424f-e895-7c3e947cffa2"
      },
      "execution_count": 14,
      "outputs": [
        {
          "output_type": "execute_result",
          "data": {
            "text/plain": [
              "['대한민국', '중국', '일본']"
            ]
          },
          "metadata": {},
          "execution_count": 14
        }
      ]
    },
    {
      "cell_type": "code",
      "source": [
        "contry4 = [\"프랑스\", \"영국\", \"독일\"]\n",
        "contry.extend(contry4)\n",
        "contry"
      ],
      "metadata": {
        "colab": {
          "base_uri": "https://localhost:8080/"
        },
        "id": "-3MC5sVXUEQt",
        "outputId": "2bfaa6ef-0aef-4aa6-c573-1469cd57799f"
      },
      "execution_count": 15,
      "outputs": [
        {
          "output_type": "execute_result",
          "data": {
            "text/plain": [
              "['대한민국', '중국', '일본', '프랑스', '영국', '독일']"
            ]
          },
          "metadata": {},
          "execution_count": 15
        }
      ]
    },
    {
      "cell_type": "code",
      "source": [
        "contry.append(\"케냐\")\n",
        "contry "
      ],
      "metadata": {
        "colab": {
          "base_uri": "https://localhost:8080/"
        },
        "id": "nw99YAquUR9L",
        "outputId": "63045f3e-a82c-46d0-e9e8-2e7120700b90"
      },
      "execution_count": 16,
      "outputs": [
        {
          "output_type": "execute_result",
          "data": {
            "text/plain": [
              "['대한민국', '중국', '일본', '프랑스', '영국', '독일', '케냐']"
            ]
          },
          "metadata": {},
          "execution_count": 16
        }
      ]
    },
    {
      "cell_type": "code",
      "source": [
        "contry.insert(0, \"브라질\")\n",
        "contry"
      ],
      "metadata": {
        "colab": {
          "base_uri": "https://localhost:8080/"
        },
        "id": "FWcZ587vUXEo",
        "outputId": "5a48f7d9-ed04-4db4-d517-e6c9432b0f5f"
      },
      "execution_count": 18,
      "outputs": [
        {
          "output_type": "execute_result",
          "data": {
            "text/plain": [
              "['브라질', '대한민국', '중국', '일본', '프랑스', '영국', '독일', '케냐']"
            ]
          },
          "metadata": {},
          "execution_count": 18
        }
      ]
    },
    {
      "cell_type": "code",
      "source": [
        "contry.insert(3, \"아르헨티나\")\n",
        "contry"
      ],
      "metadata": {
        "colab": {
          "base_uri": "https://localhost:8080/"
        },
        "id": "ksFFg9-BUfvL",
        "outputId": "012a3c30-efef-40cb-ce30-a3aec2fe587a"
      },
      "execution_count": 19,
      "outputs": [
        {
          "output_type": "execute_result",
          "data": {
            "text/plain": [
              "['브라질', '대한민국', '중국', '아르헨티나', '일본', '프랑스', '영국', '독일', '케냐']"
            ]
          },
          "metadata": {},
          "execution_count": 19
        }
      ]
    },
    {
      "cell_type": "code",
      "source": [
        "contry[4:4] = [\"미국\", \"케나다\", \"멕시코\"]\n",
        "contry"
      ],
      "metadata": {
        "colab": {
          "base_uri": "https://localhost:8080/"
        },
        "id": "K4tXlnqBUwe6",
        "outputId": "903242eb-8825-4de1-bd2a-cd79332e0baa"
      },
      "execution_count": 20,
      "outputs": [
        {
          "output_type": "execute_result",
          "data": {
            "text/plain": [
              "['브라질',\n",
              " '대한민국',\n",
              " '중국',\n",
              " '아르헨티나',\n",
              " '미국',\n",
              " '케나다',\n",
              " '멕시코',\n",
              " '일본',\n",
              " '프랑스',\n",
              " '영국',\n",
              " '독일',\n",
              " '케냐']"
            ]
          },
          "metadata": {},
          "execution_count": 20
        }
      ]
    },
    {
      "cell_type": "code",
      "source": [
        "contry.pop()\n",
        "## 지우고 나서 값을 리턴해줌.\n",
        "# ex) 최근 해외여행 출국 리스트, 최근 해외영행 발권 리스트"
      ],
      "metadata": {
        "colab": {
          "base_uri": "https://localhost:8080/",
          "height": 35
        },
        "id": "MTtuf500U6SI",
        "outputId": "9651b2fc-aeec-480e-be29-b179c49a6c1a"
      },
      "execution_count": 21,
      "outputs": [
        {
          "output_type": "execute_result",
          "data": {
            "text/plain": [
              "'케냐'"
            ],
            "application/vnd.google.colaboratory.intrinsic+json": {
              "type": "string"
            }
          },
          "metadata": {},
          "execution_count": 21
        }
      ]
    },
    {
      "cell_type": "code",
      "source": [
        "recent = contry.pop(1)\n",
        "recent"
      ],
      "metadata": {
        "colab": {
          "base_uri": "https://localhost:8080/",
          "height": 35
        },
        "id": "6PVWbpoBW7JF",
        "outputId": "1fd26ea9-1a8b-4fa2-bd3d-e8d2f8b3d6e6"
      },
      "execution_count": 24,
      "outputs": [
        {
          "output_type": "execute_result",
          "data": {
            "text/plain": [
              "'아르헨티나'"
            ],
            "application/vnd.google.colaboratory.intrinsic+json": {
              "type": "string"
            }
          },
          "metadata": {},
          "execution_count": 24
        }
      ]
    },
    {
      "cell_type": "code",
      "source": [
        "contry"
      ],
      "metadata": {
        "colab": {
          "base_uri": "https://localhost:8080/"
        },
        "id": "EygcgwYtXF_c",
        "outputId": "cf2f0718-0169-4cb6-8f36-6e901bab6093"
      },
      "execution_count": 25,
      "outputs": [
        {
          "output_type": "execute_result",
          "data": {
            "text/plain": [
              "['브라질', '미국', '케나다', '멕시코', '일본', '프랑스', '영국', '독일']"
            ]
          },
          "metadata": {},
          "execution_count": 25
        }
      ]
    },
    {
      "cell_type": "code",
      "source": [
        "contry.remove(\"미국\")\n",
        "## 지우기만 함."
      ],
      "metadata": {
        "id": "CS1DY2SiXNbf"
      },
      "execution_count": 26,
      "outputs": []
    },
    {
      "cell_type": "code",
      "source": [
        "contry.insert(2,\"독일\")\n",
        "contry.append(\"독일\")\n",
        "contry"
      ],
      "metadata": {
        "colab": {
          "base_uri": "https://localhost:8080/"
        },
        "id": "xOLi_TAYXWSH",
        "outputId": "2f9c1a93-1bc9-413d-fb70-bb3d15cd5d88"
      },
      "execution_count": 27,
      "outputs": [
        {
          "output_type": "execute_result",
          "data": {
            "text/plain": [
              "['브라질', '케나다', '독일', '멕시코', '일본', '프랑스', '영국', '독일', '독일']"
            ]
          },
          "metadata": {},
          "execution_count": 27
        }
      ]
    },
    {
      "cell_type": "code",
      "source": [
        "contry.remove(\"독일\") ## 같은 값이 여러개일 경우 가장 앞에 있는 값이 지워진다,"
      ],
      "metadata": {
        "id": "V4t7VNHuXxXH"
      },
      "execution_count": 28,
      "outputs": []
    },
    {
      "cell_type": "code",
      "source": [
        "contry"
      ],
      "metadata": {
        "colab": {
          "base_uri": "https://localhost:8080/"
        },
        "id": "H8e4t14AXzs9",
        "outputId": "c3665db2-b480-4dbf-cc39-0b388aa80e36"
      },
      "execution_count": 29,
      "outputs": [
        {
          "output_type": "execute_result",
          "data": {
            "text/plain": [
              "['브라질', '케나다', '멕시코', '일본', '프랑스', '영국', '독일', '독일']"
            ]
          },
          "metadata": {},
          "execution_count": 29
        }
      ]
    },
    {
      "cell_type": "code",
      "source": [
        "# 케나다 앞에 누락된 손님이 존재한다. -> 미국\n",
        "# 케나다의 인덱스를 알아서, 그 인덱스에 '미국'을 insert 시켜줘야함.\n",
        "contry.index('케나다') ## 케나다의 인덱스 검색\n",
        "contry.insert(1,'미국') ## 케나다 앞에 미국 넣기"
      ],
      "metadata": {
        "id": "wdhOZk9RYAeT"
      },
      "execution_count": 31,
      "outputs": []
    },
    {
      "cell_type": "code",
      "source": [
        "contry"
      ],
      "metadata": {
        "colab": {
          "base_uri": "https://localhost:8080/"
        },
        "id": "QM-YpGw2YPtB",
        "outputId": "07571264-03aa-4793-9260-5059d1dba559"
      },
      "execution_count": 32,
      "outputs": [
        {
          "output_type": "execute_result",
          "data": {
            "text/plain": [
              "['브라질', '미국', '케나다', '멕시코', '일본', '프랑스', '영국', '독일', '독일']"
            ]
          },
          "metadata": {},
          "execution_count": 32
        }
      ]
    },
    {
      "cell_type": "code",
      "source": [
        "contry.extend([\"몰디브\"]*10)"
      ],
      "metadata": {
        "id": "-EVAQfwtYXA9"
      },
      "execution_count": 33,
      "outputs": []
    },
    {
      "cell_type": "code",
      "source": [
        "import random\n",
        "randum.radint(1,20)"
      ],
      "metadata": {
        "colab": {
          "base_uri": "https://localhost:8080/",
          "height": 190
        },
        "id": "9mJlgXcIYoT7",
        "outputId": "7a365557-ba33-4fbe-e6f1-915bf219dbbd"
      },
      "execution_count": 34,
      "outputs": [
        {
          "output_type": "error",
          "ename": "NameError",
          "evalue": "ignored",
          "traceback": [
            "\u001b[0;31m---------------------------------------------------------------------------\u001b[0m",
            "\u001b[0;31mNameError\u001b[0m                                 Traceback (most recent call last)",
            "\u001b[0;32m<ipython-input-34-39743f1f4777>\u001b[0m in \u001b[0;36m<module>\u001b[0;34m\u001b[0m\n\u001b[1;32m      1\u001b[0m \u001b[0;32mimport\u001b[0m \u001b[0mrandom\u001b[0m\u001b[0;34m\u001b[0m\u001b[0;34m\u001b[0m\u001b[0m\n\u001b[0;32m----> 2\u001b[0;31m \u001b[0mrandum\u001b[0m\u001b[0;34m.\u001b[0m\u001b[0mradint\u001b[0m\u001b[0;34m(\u001b[0m\u001b[0;36m1\u001b[0m\u001b[0;34m,\u001b[0m\u001b[0;36m20\u001b[0m\u001b[0;34m)\u001b[0m\u001b[0;34m\u001b[0m\u001b[0;34m\u001b[0m\u001b[0m\n\u001b[0m",
            "\u001b[0;31mNameError\u001b[0m: name 'randum' is not defined"
          ]
        }
      ]
    },
    {
      "cell_type": "code",
      "source": [
        "contry.extend([\"괌\"] * random.randint(20, 100))\n",
        "## 랜덤수 구하기."
      ],
      "metadata": {
        "id": "P0Bsxh8jYx4m"
      },
      "execution_count": 35,
      "outputs": []
    },
    {
      "cell_type": "code",
      "source": [
        "contry.count('괌')"
      ],
      "metadata": {
        "colab": {
          "base_uri": "https://localhost:8080/"
        },
        "id": "jiDfDzFtY7FQ",
        "outputId": "b160724a-8a92-4906-b638-dcf3b530bef5"
      },
      "execution_count": 37,
      "outputs": [
        {
          "output_type": "execute_result",
          "data": {
            "text/plain": [
              "32"
            ]
          },
          "metadata": {},
          "execution_count": 37
        }
      ]
    },
    {
      "cell_type": "code",
      "source": [
        "contry = contry[:7]\n",
        "contry\n"
      ],
      "metadata": {
        "colab": {
          "base_uri": "https://localhost:8080/"
        },
        "id": "AD4SW5uTY_lS",
        "outputId": "8be6b012-c7f5-45de-d797-a82bf16207ee"
      },
      "execution_count": 38,
      "outputs": [
        {
          "output_type": "execute_result",
          "data": {
            "text/plain": [
              "['브라질', '미국', '케나다', '멕시코', '일본', '프랑스', '영국']"
            ]
          },
          "metadata": {},
          "execution_count": 38
        }
      ]
    },
    {
      "cell_type": "code",
      "source": [
        "## 뒤집기!\n",
        "contry.reverse() ## 원본에 영향 O\n",
        "contry"
      ],
      "metadata": {
        "colab": {
          "base_uri": "https://localhost:8080/"
        },
        "id": "pf709M1SZNEB",
        "outputId": "ed042ab4-2b72-4f01-ac99-ce19436203b9"
      },
      "execution_count": 39,
      "outputs": [
        {
          "output_type": "execute_result",
          "data": {
            "text/plain": [
              "['영국', '프랑스', '일본', '멕시코', '케나다', '미국', '브라질']"
            ]
          },
          "metadata": {},
          "execution_count": 39
        }
      ]
    },
    {
      "cell_type": "code",
      "source": [
        "list(reversed(contry)) ## 뒤집은 데이터를 리턴만 해줌\n",
        "contry"
      ],
      "metadata": {
        "colab": {
          "base_uri": "https://localhost:8080/"
        },
        "id": "loaMQSHLcfzb",
        "outputId": "5101a525-8c26-4086-af74-f3744d78be2d"
      },
      "execution_count": 43,
      "outputs": [
        {
          "output_type": "execute_result",
          "data": {
            "text/plain": [
              "['영국', '프랑스', '일본', '멕시코', '케나다', '미국', '브라질']"
            ]
          },
          "metadata": {},
          "execution_count": 43
        }
      ]
    },
    {
      "cell_type": "code",
      "source": [
        "contry[::-1] ## 뒤집기\n"
      ],
      "metadata": {
        "colab": {
          "base_uri": "https://localhost:8080/"
        },
        "id": "jjpqlm5wcsiD",
        "outputId": "8ededbcb-c3c7-4ac0-930d-34cbbd50f177"
      },
      "execution_count": 44,
      "outputs": [
        {
          "output_type": "execute_result",
          "data": {
            "text/plain": [
              "['브라질', '미국', '케나다', '멕시코', '일본', '프랑스', '영국']"
            ]
          },
          "metadata": {},
          "execution_count": 44
        }
      ]
    },
    {
      "cell_type": "code",
      "source": [
        "## 정렬-> 오름차순, 내림차순\n",
        "numbers = [random.randint(20,200) for i in range(10)]\n",
        "numbers"
      ],
      "metadata": {
        "colab": {
          "base_uri": "https://localhost:8080/"
        },
        "id": "rq7dk7ppdYmM",
        "outputId": "35291b53-d6af-4678-877b-b9c7580ea518"
      },
      "execution_count": 47,
      "outputs": [
        {
          "output_type": "execute_result",
          "data": {
            "text/plain": [
              "[198, 155, 77, 63, 161, 139, 73, 143, 134, 36]"
            ]
          },
          "metadata": {},
          "execution_count": 47
        }
      ]
    },
    {
      "cell_type": "code",
      "source": [
        "numbers2 = numbers.copy() ## 원본에 영향을 미친다,"
      ],
      "metadata": {
        "id": "LjytZaY8elaF"
      },
      "execution_count": 48,
      "outputs": []
    },
    {
      "cell_type": "code",
      "source": [
        "numbers2.sort()\n",
        "numbers2"
      ],
      "metadata": {
        "colab": {
          "base_uri": "https://localhost:8080/"
        },
        "id": "yuKmcgooec2j",
        "outputId": "ec2048f1-cce6-4754-d867-0ad711b06a99"
      },
      "execution_count": 50,
      "outputs": [
        {
          "output_type": "execute_result",
          "data": {
            "text/plain": [
              "[36, 63, 73, 77, 134, 139, 143, 155, 161, 198]"
            ]
          },
          "metadata": {},
          "execution_count": 50
        }
      ]
    },
    {
      "cell_type": "code",
      "source": [
        "sorted(numbers), numbers #원본에 영향 X"
      ],
      "metadata": {
        "colab": {
          "base_uri": "https://localhost:8080/"
        },
        "id": "UQoRnrhre2ns",
        "outputId": "fb979fae-d723-4dee-c863-a406e7ebdf07"
      },
      "execution_count": 52,
      "outputs": [
        {
          "output_type": "execute_result",
          "data": {
            "text/plain": [
              "([36, 63, 73, 77, 134, 139, 143, 155, 161, 198],\n",
              " [198, 155, 77, 63, 161, 139, 73, 143, 134, 36])"
            ]
          },
          "metadata": {},
          "execution_count": 52
        }
      ]
    },
    {
      "cell_type": "code",
      "source": [
        "numbers2.sort(reverse=True)  ## 내림차순, reverse는 기본값 False\n",
        "numbers2"
      ],
      "metadata": {
        "colab": {
          "base_uri": "https://localhost:8080/"
        },
        "id": "_1YqhgKnfDiv",
        "outputId": "95b16031-b70c-43db-8add-49bd92d20cf2"
      },
      "execution_count": 53,
      "outputs": [
        {
          "output_type": "execute_result",
          "data": {
            "text/plain": [
              "[198, 161, 155, 143, 139, 134, 77, 73, 63, 36]"
            ]
          },
          "metadata": {},
          "execution_count": 53
        }
      ]
    },
    {
      "cell_type": "code",
      "source": [
        "sorted(numbers, reverse=True), numbers ## 내림차순, 원본영향X"
      ],
      "metadata": {
        "colab": {
          "base_uri": "https://localhost:8080/"
        },
        "id": "sBkoqFHYfPc6",
        "outputId": "6e811189-a870-4161-883a-0a546caf55f1"
      },
      "execution_count": 54,
      "outputs": [
        {
          "output_type": "execute_result",
          "data": {
            "text/plain": [
              "([198, 161, 155, 143, 139, 134, 77, 73, 63, 36],\n",
              " [198, 155, 77, 63, 161, 139, 73, 143, 134, 36])"
            ]
          },
          "metadata": {},
          "execution_count": 54
        }
      ]
    },
    {
      "cell_type": "code",
      "source": [
        "contry2 = contry.copy()"
      ],
      "metadata": {
        "id": "JJDZPF07fXL4"
      },
      "execution_count": 55,
      "outputs": []
    },
    {
      "cell_type": "code",
      "source": [
        "contry2.clear() ## 원소 전체 삭제\n",
        "contry2"
      ],
      "metadata": {
        "colab": {
          "base_uri": "https://localhost:8080/"
        },
        "id": "tTkU7W1Wfj85",
        "outputId": "7ca6c2ac-6b37-48e8-b6cc-9c3ce5aa48a0"
      },
      "execution_count": 57,
      "outputs": [
        {
          "output_type": "execute_result",
          "data": {
            "text/plain": [
              "[]"
            ]
          },
          "metadata": {},
          "execution_count": 57
        }
      ]
    },
    {
      "cell_type": "code",
      "source": [
        "del contry2[:] # 원소 전체 삭제\n",
        "contry2"
      ],
      "metadata": {
        "colab": {
          "base_uri": "https://localhost:8080/"
        },
        "id": "y0bPHwP8fq1K",
        "outputId": "625a5fd0-719b-4b86-e5d8-5f829fb55273"
      },
      "execution_count": 58,
      "outputs": [
        {
          "output_type": "execute_result",
          "data": {
            "text/plain": [
              "[]"
            ]
          },
          "metadata": {},
          "execution_count": 58
        }
      ]
    },
    {
      "cell_type": "markdown",
      "source": [
        "# 반복문"
      ],
      "metadata": {
        "id": "NyYAYOWRfw8O"
      }
    },
    {
      "cell_type": "code",
      "source": [
        "for c in contry:\n",
        "  print(c)"
      ],
      "metadata": {
        "colab": {
          "base_uri": "https://localhost:8080/"
        },
        "id": "EZ2fsQevfwdX",
        "outputId": "9799624a-73b5-48e2-8f41-07ce22038c7b"
      },
      "execution_count": 60,
      "outputs": [
        {
          "output_type": "stream",
          "name": "stdout",
          "text": [
            "영국\n",
            "프랑스\n",
            "일본\n",
            "멕시코\n",
            "케나다\n",
            "미국\n",
            "브라질\n"
          ]
        }
      ]
    },
    {
      "cell_type": "code",
      "source": [
        "for c in contry[::-1]:\n",
        "  print(c)"
      ],
      "metadata": {
        "colab": {
          "base_uri": "https://localhost:8080/"
        },
        "id": "mt_fxra8gGER",
        "outputId": "dd6ad8b3-9ce9-4647-e96e-de18b04f78c8"
      },
      "execution_count": 61,
      "outputs": [
        {
          "output_type": "stream",
          "name": "stdout",
          "text": [
            "브라질\n",
            "미국\n",
            "케나다\n",
            "멕시코\n",
            "일본\n",
            "프랑스\n",
            "영국\n"
          ]
        }
      ]
    },
    {
      "cell_type": "code",
      "source": [
        "for i in enumerate(contry):\n",
        "  print(i)"
      ],
      "metadata": {
        "colab": {
          "base_uri": "https://localhost:8080/"
        },
        "id": "N26wPp65gLG_",
        "outputId": "e70d9763-0506-4ba1-f504-5cbbcec645c7"
      },
      "execution_count": 62,
      "outputs": [
        {
          "output_type": "stream",
          "name": "stdout",
          "text": [
            "(0, '영국')\n",
            "(1, '프랑스')\n",
            "(2, '일본')\n",
            "(3, '멕시코')\n",
            "(4, '케나다')\n",
            "(5, '미국')\n",
            "(6, '브라질')\n"
          ]
        }
      ]
    },
    {
      "cell_type": "code",
      "source": [
        "for idx, val in enumerate(contry):\n",
        "  print(idx, val)  ## 인덱스와 값 따로 받기"
      ],
      "metadata": {
        "colab": {
          "base_uri": "https://localhost:8080/"
        },
        "id": "ZLVtVYHggajK",
        "outputId": "4816edad-3307-472d-ef6d-3c53a8d7cdf0"
      },
      "execution_count": 63,
      "outputs": [
        {
          "output_type": "stream",
          "name": "stdout",
          "text": [
            "0 영국\n",
            "1 프랑스\n",
            "2 일본\n",
            "3 멕시코\n",
            "4 케나다\n",
            "5 미국\n",
            "6 브라질\n"
          ]
        }
      ]
    },
    {
      "cell_type": "code",
      "source": [
        "for idx, val in enumerate(contry):\n",
        "  # if not(idx % 2) : \n",
        "    # print(idx, val) \n",
        "  if idx % 2: #0보다 클 때\n",
        "    continue\n",
        "  print(idx, val)"
      ],
      "metadata": {
        "colab": {
          "base_uri": "https://localhost:8080/"
        },
        "id": "_0UCT5YPgk0K",
        "outputId": "8108e77d-260d-4d48-ee6d-29a7bec80380"
      },
      "execution_count": 64,
      "outputs": [
        {
          "output_type": "stream",
          "name": "stdout",
          "text": [
            "0 영국\n",
            "2 일본\n",
            "4 케나다\n",
            "6 브라질\n"
          ]
        }
      ]
    },
    {
      "cell_type": "code",
      "source": [
        "for idx, val in enumerate(contry):\n",
        "  if len(val) == 3:\n",
        "    print(idx, val)\n",
        "    break\n",
        "  print(\"진행...\")"
      ],
      "metadata": {
        "colab": {
          "base_uri": "https://localhost:8080/"
        },
        "id": "V1YPRYE6hFWg",
        "outputId": "b8f9497e-a32e-4681-968a-540ccb7c5636"
      },
      "execution_count": 66,
      "outputs": [
        {
          "output_type": "stream",
          "name": "stdout",
          "text": [
            "진행...\n",
            "1 프랑스\n"
          ]
        }
      ]
    },
    {
      "cell_type": "code",
      "source": [
        "numbers"
      ],
      "metadata": {
        "colab": {
          "base_uri": "https://localhost:8080/"
        },
        "id": "TNbawsYAhfwE",
        "outputId": "095e257e-56fc-401e-fef4-54430c0f2ceb"
      },
      "execution_count": 67,
      "outputs": [
        {
          "output_type": "execute_result",
          "data": {
            "text/plain": [
              "[198, 155, 77, 63, 161, 139, 73, 143, 134, 36]"
            ]
          },
          "metadata": {},
          "execution_count": 67
        }
      ]
    },
    {
      "cell_type": "code",
      "source": [
        "lotto = random.choices(range(1,45), k=6)\n",
        "\n",
        "max(lotto), min(lotto), sum(lotto)"
      ],
      "metadata": {
        "colab": {
          "base_uri": "https://localhost:8080/"
        },
        "id": "MxbqEm3Ghih_",
        "outputId": "b7a6c2ae-3d2d-4eef-98ab-3efbb27a8bef"
      },
      "execution_count": 73,
      "outputs": [
        {
          "output_type": "execute_result",
          "data": {
            "text/plain": [
              "(32, 8, 115)"
            ]
          },
          "metadata": {},
          "execution_count": 73
        }
      ]
    },
    {
      "cell_type": "code",
      "source": [
        "rc = random.choices(range(1,21), k=20)\n",
        "rc"
      ],
      "metadata": {
        "colab": {
          "base_uri": "https://localhost:8080/"
        },
        "id": "Rn2UoAtziHhx",
        "outputId": "81560937-81c2-4c4f-c584-84df327233e6"
      },
      "execution_count": 75,
      "outputs": [
        {
          "output_type": "execute_result",
          "data": {
            "text/plain": [
              "[4, 16, 12, 6, 4, 7, 15, 15, 15, 4, 20, 7, 6, 5, 14, 5, 10, 6, 6, 15]"
            ]
          },
          "metadata": {},
          "execution_count": 75
        }
      ]
    },
    {
      "cell_type": "code",
      "source": [
        "lunch = [(rc[i], rc[i+1]) for i in range(0,len(rc),2)]\n",
        "lunch"
      ],
      "metadata": {
        "colab": {
          "base_uri": "https://localhost:8080/"
        },
        "id": "HJRS1ECvibyb",
        "outputId": "e358bff0-11de-4806-8421-b9c8a07d2fce"
      },
      "execution_count": 78,
      "outputs": [
        {
          "output_type": "execute_result",
          "data": {
            "text/plain": [
              "[(4, 16),\n",
              " (12, 6),\n",
              " (4, 7),\n",
              " (15, 15),\n",
              " (15, 4),\n",
              " (20, 7),\n",
              " (6, 5),\n",
              " (14, 5),\n",
              " (10, 6),\n",
              " (6, 15)]"
            ]
          },
          "metadata": {},
          "execution_count": 78
        }
      ]
    },
    {
      "cell_type": "code",
      "source": [
        "lunch2 = []\n",
        "\n",
        "for i in range(0,len(rc), 2): #20명이 랜덤하게 뽑힌 리스트를 for문으로 반복, 0부터 시작하고, 전체길이의 증가폭 2인 range\n",
        "  tmp = [rc[i], rc[i+1]]\n",
        "  lunch2.append(tmp)\n",
        "lunch2\n"
      ],
      "metadata": {
        "colab": {
          "base_uri": "https://localhost:8080/"
        },
        "id": "zVgruueOjaZj",
        "outputId": "b1bfdf35-1fa6-4842-eb19-51290ba234dd"
      },
      "execution_count": 81,
      "outputs": [
        {
          "output_type": "execute_result",
          "data": {
            "text/plain": [
              "[[4, 16],\n",
              " [12, 6],\n",
              " [4, 7],\n",
              " [15, 15],\n",
              " [15, 4],\n",
              " [20, 7],\n",
              " [6, 5],\n",
              " [14, 5],\n",
              " [10, 6],\n",
              " [6, 15]]"
            ]
          },
          "metadata": {},
          "execution_count": 81
        }
      ]
    },
    {
      "cell_type": "code",
      "source": [
        "lunch3 = []\n",
        "\n",
        "for i in range(0,len(rc), 2): #20명이 랜덤하게 뽑힌 리스트를 for문으로 반복, 0부터 시작하고, 전체길이의 증가폭 2인 range\n",
        "  # if i% 2 : # 짝수가 아니다 -> 나머지가 1이 나오면 True -> 홀수일때\n",
        "    # continue\n",
        "  # tmp = [rc[i], rc[i+1]]\n",
        "  # lunch2.append(tmp)\n",
        "  if not i % 2 : \n",
        "    lunch3.append((rc[i], rc[i+1]))\n",
        "lunch3\n"
      ],
      "metadata": {
        "colab": {
          "base_uri": "https://localhost:8080/"
        },
        "id": "WIO3CskZkFJz",
        "outputId": "9401ca87-75d5-454f-9c9d-40cf4e25d2bf"
      },
      "execution_count": 83,
      "outputs": [
        {
          "output_type": "execute_result",
          "data": {
            "text/plain": [
              "[(4, 16),\n",
              " (12, 6),\n",
              " (4, 7),\n",
              " (15, 15),\n",
              " (15, 4),\n",
              " (20, 7),\n",
              " (6, 5),\n",
              " (14, 5),\n",
              " (10, 6),\n",
              " (6, 15)]"
            ]
          },
          "metadata": {},
          "execution_count": 83
        }
      ]
    },
    {
      "cell_type": "code",
      "source": [
        "lunch4 = [(rc[i], rc[i+1]) for i in range(0,len(rc)) if i % 2 == 0]\n",
        "lunch4 = [(rc[i], rc[i+1]) for i in range(0,len(rc)) if not i % 2]\n",
        "lunch4"
      ],
      "metadata": {
        "colab": {
          "base_uri": "https://localhost:8080/"
        },
        "id": "jP4NS_Hjkre-",
        "outputId": "9e63fa85-8893-45a3-b60d-837c32c51ef7"
      },
      "execution_count": 85,
      "outputs": [
        {
          "output_type": "execute_result",
          "data": {
            "text/plain": [
              "[(4, 16),\n",
              " (12, 6),\n",
              " (4, 7),\n",
              " (15, 15),\n",
              " (15, 4),\n",
              " (20, 7),\n",
              " (6, 5),\n",
              " (14, 5),\n",
              " (10, 6),\n",
              " (6, 15)]"
            ]
          },
          "metadata": {},
          "execution_count": 85
        }
      ]
    },
    {
      "cell_type": "markdown",
      "source": [
        "# 문자열"
      ],
      "metadata": {
        "id": "kqPJDTB5lYiU"
      }
    },
    {
      "cell_type": "code",
      "source": [
        "s = \"오늘의 점심은 돈까스 입니다.\"\n",
        "s"
      ],
      "metadata": {
        "colab": {
          "base_uri": "https://localhost:8080/",
          "height": 35
        },
        "id": "hoxpxOAZlTYV",
        "outputId": "3da14e60-c2b6-4b10-8c35-07d3ba201015"
      },
      "execution_count": 86,
      "outputs": [
        {
          "output_type": "execute_result",
          "data": {
            "text/plain": [
              "'오늘의 점심은 돈까스 입니다.'"
            ],
            "application/vnd.google.colaboratory.intrinsic+json": {
              "type": "string"
            }
          },
          "metadata": {},
          "execution_count": 86
        }
      ]
    },
    {
      "cell_type": "code",
      "source": [
        "s.replace(\"점심\", \"저녁\"), s # 원본에 영향X"
      ],
      "metadata": {
        "colab": {
          "base_uri": "https://localhost:8080/"
        },
        "id": "1KYIMnPSlibq",
        "outputId": "49f66305-c25b-4eb9-c2d2-00f2bd4e793b"
      },
      "execution_count": 87,
      "outputs": [
        {
          "output_type": "execute_result",
          "data": {
            "text/plain": [
              "('오늘의 저녁은 돈까스 입니다.', '오늘의 점심은 돈까스 입니다.')"
            ]
          },
          "metadata": {},
          "execution_count": 87
        }
      ]
    },
    {
      "cell_type": "code",
      "source": [
        "s2 = \"오늘의 점심은 돈까스 입니다. 오늘의 저녁은 돈까스 입니다.\"\n",
        "s2"
      ],
      "metadata": {
        "colab": {
          "base_uri": "https://localhost:8080/",
          "height": 35
        },
        "id": "oC4LUywIlvF3",
        "outputId": "98f782f2-5c2d-4e2a-aa00-6f64f27711b8"
      },
      "execution_count": 88,
      "outputs": [
        {
          "output_type": "execute_result",
          "data": {
            "text/plain": [
              "'오늘의 점심은 돈까스 입니다. 오늘의 저녁은 돈까스 입니다.'"
            ],
            "application/vnd.google.colaboratory.intrinsic+json": {
              "type": "string"
            }
          },
          "metadata": {},
          "execution_count": 88
        }
      ]
    },
    {
      "cell_type": "code",
      "source": [
        "s2.replace(\"돈까스\",\"파스타\"), s2 ## 중복되는거 둘다 바꿔줌"
      ],
      "metadata": {
        "colab": {
          "base_uri": "https://localhost:8080/"
        },
        "id": "-pBYQFbTl15V",
        "outputId": "72f4efa7-cf87-49d8-999b-7c09b6306d5b"
      },
      "execution_count": 90,
      "outputs": [
        {
          "output_type": "execute_result",
          "data": {
            "text/plain": [
              "('오늘의 점심은 파스타 입니다. 오늘의 저녁은 파스타 입니다.', '오늘의 점심은 돈까스 입니다. 오늘의 저녁은 돈까스 입니다.')"
            ]
          },
          "metadata": {},
          "execution_count": 90
        }
      ]
    },
    {
      "cell_type": "code",
      "source": [
        "s2.replace(\"돈까스\",\"파스타\", 1), s2 ## 1 넣으면 하나만 바꿔줌"
      ],
      "metadata": {
        "colab": {
          "base_uri": "https://localhost:8080/"
        },
        "id": "v2frbiK4mB3V",
        "outputId": "b5316852-aa6d-4b3a-ca4a-6390032bb77a"
      },
      "execution_count": 91,
      "outputs": [
        {
          "output_type": "execute_result",
          "data": {
            "text/plain": [
              "('오늘의 점심은 파스타 입니다. 오늘의 저녁은 돈까스 입니다.', '오늘의 점심은 돈까스 입니다. 오늘의 저녁은 돈까스 입니다.')"
            ]
          },
          "metadata": {},
          "execution_count": 91
        }
      ]
    },
    {
      "cell_type": "code",
      "source": [
        "txt = \"비트코인, 이더리움, 리플\"\n",
        "txt.split(), txt #원본영향X"
      ],
      "metadata": {
        "colab": {
          "base_uri": "https://localhost:8080/"
        },
        "id": "P8w_lOZcmM1Z",
        "outputId": "002de4bd-d9a8-43a8-ee6d-525408610f7e"
      },
      "execution_count": 92,
      "outputs": [
        {
          "output_type": "execute_result",
          "data": {
            "text/plain": [
              "(['비트코인,', '이더리움,', '리플'], '비트코인, 이더리움, 리플')"
            ]
          },
          "metadata": {},
          "execution_count": 92
        }
      ]
    },
    {
      "cell_type": "code",
      "source": [
        "txt2 = \"비트코인, 이더리움, 리플\"\n",
        "txt.split(','), txt #원본영향X"
      ],
      "metadata": {
        "colab": {
          "base_uri": "https://localhost:8080/"
        },
        "id": "pckPd7T0mX1D",
        "outputId": "8bb0dfd9-33df-4d18-f917-31a95ac9ccf9"
      },
      "execution_count": 93,
      "outputs": [
        {
          "output_type": "execute_result",
          "data": {
            "text/plain": [
              "(['비트코인', ' 이더리움', ' 리플'], '비트코인, 이더리움, 리플')"
            ]
          },
          "metadata": {},
          "execution_count": 93
        }
      ]
    },
    {
      "cell_type": "code",
      "source": [
        "#한글자씩 스플릿하고싶을때\n",
        "[i for i in s] # 리스트 컴프리헨션하면, 문자열이 한글자씩 쪼개진 글자가 된다."
      ],
      "metadata": {
        "colab": {
          "base_uri": "https://localhost:8080/"
        },
        "id": "H1BlKg88mlsV",
        "outputId": "9e90c2aa-755b-46b7-9596-864bac264fc5"
      },
      "execution_count": 94,
      "outputs": [
        {
          "output_type": "execute_result",
          "data": {
            "text/plain": [
              "['오',\n",
              " '늘',\n",
              " '의',\n",
              " ' ',\n",
              " '점',\n",
              " '심',\n",
              " '은',\n",
              " ' ',\n",
              " '돈',\n",
              " '까',\n",
              " '스',\n",
              " ' ',\n",
              " '입',\n",
              " '니',\n",
              " '다',\n",
              " '.']"
            ]
          },
          "metadata": {},
          "execution_count": 94
        }
      ]
    },
    {
      "cell_type": "code",
      "source": [
        "sep = [i for i in s]\n",
        "sep"
      ],
      "metadata": {
        "colab": {
          "base_uri": "https://localhost:8080/"
        },
        "id": "FNTTa5vdmyDM",
        "outputId": "1acfbb7b-d6da-4e79-df01-361fe75b49d2"
      },
      "execution_count": 95,
      "outputs": [
        {
          "output_type": "execute_result",
          "data": {
            "text/plain": [
              "['오',\n",
              " '늘',\n",
              " '의',\n",
              " ' ',\n",
              " '점',\n",
              " '심',\n",
              " '은',\n",
              " ' ',\n",
              " '돈',\n",
              " '까',\n",
              " '스',\n",
              " ' ',\n",
              " '입',\n",
              " '니',\n",
              " '다',\n",
              " '.']"
            ]
          },
          "metadata": {},
          "execution_count": 95
        }
      ]
    },
    {
      "cell_type": "code",
      "source": [
        "\"\".join(sep) # 앞에 문자열로 sep를 연결해주세여"
      ],
      "metadata": {
        "colab": {
          "base_uri": "https://localhost:8080/",
          "height": 35
        },
        "id": "6qljR_Qfm4Fv",
        "outputId": "f7522d5f-3a56-4f49-9906-b7a877c2b986"
      },
      "execution_count": 96,
      "outputs": [
        {
          "output_type": "execute_result",
          "data": {
            "text/plain": [
              "'오늘의 점심은 돈까스 입니다.'"
            ],
            "application/vnd.google.colaboratory.intrinsic+json": {
              "type": "string"
            }
          },
          "metadata": {},
          "execution_count": 96
        }
      ]
    },
    {
      "cell_type": "code",
      "source": [
        "\";\".join(sep)"
      ],
      "metadata": {
        "colab": {
          "base_uri": "https://localhost:8080/",
          "height": 35
        },
        "id": "0cdDmZ6rnC9m",
        "outputId": "f927e72c-60c4-4df6-a454-10011c9c9564"
      },
      "execution_count": 97,
      "outputs": [
        {
          "output_type": "execute_result",
          "data": {
            "text/plain": [
              "'오;늘;의; ;점;심;은; ;돈;까;스; ;입;니;다;.'"
            ],
            "application/vnd.google.colaboratory.intrinsic+json": {
              "type": "string"
            }
          },
          "metadata": {},
          "execution_count": 97
        }
      ]
    },
    {
      "cell_type": "code",
      "source": [
        "a = \"potato\"\n",
        "a.upper(), a.lower() # 대문자, 소문자 변형"
      ],
      "metadata": {
        "colab": {
          "base_uri": "https://localhost:8080/"
        },
        "id": "YPwiRgonnIEY",
        "outputId": "d728cf5f-64e2-45e6-c304-1adc21ac0688"
      },
      "execution_count": 98,
      "outputs": [
        {
          "output_type": "execute_result",
          "data": {
            "text/plain": [
              "('POTATO', 'potato')"
            ]
          },
          "metadata": {},
          "execution_count": 98
        }
      ]
    },
    {
      "cell_type": "code",
      "source": [
        "space = \"                공 백              \"\n",
        "space.strip(), space.lstrip(), space.rstrip() # 공백 자르기"
      ],
      "metadata": {
        "colab": {
          "base_uri": "https://localhost:8080/"
        },
        "id": "l2qRfelJnPwK",
        "outputId": "140f6a7f-91cf-4085-bd4a-072178294aed"
      },
      "execution_count": 100,
      "outputs": [
        {
          "output_type": "execute_result",
          "data": {
            "text/plain": [
              "('공 백', '공 백              ', '                공 백')"
            ]
          },
          "metadata": {},
          "execution_count": 100
        }
      ]
    },
    {
      "cell_type": "code",
      "source": [
        "a = \"35\"\n",
        "a.zfill(6) #0으로 채우기"
      ],
      "metadata": {
        "colab": {
          "base_uri": "https://localhost:8080/",
          "height": 35
        },
        "id": "qCfaCtHrnZ4p",
        "outputId": "2859e9dc-5c9b-4f2b-8b4f-cc234425c9af"
      },
      "execution_count": 101,
      "outputs": [
        {
          "output_type": "execute_result",
          "data": {
            "text/plain": [
              "'000035'"
            ],
            "application/vnd.google.colaboratory.intrinsic+json": {
              "type": "string"
            }
          },
          "metadata": {},
          "execution_count": 101
        }
      ]
    },
    {
      "cell_type": "code",
      "source": [
        "s = \"안녕하세요 감자입니다,\"\n",
        "s.find(\"감자\")"
      ],
      "metadata": {
        "colab": {
          "base_uri": "https://localhost:8080/"
        },
        "id": "WJaLcqAMnfRN",
        "outputId": "3c425db8-43f2-48db-c8a1-accd53b85e61"
      },
      "execution_count": 102,
      "outputs": [
        {
          "output_type": "execute_result",
          "data": {
            "text/plain": [
              "6"
            ]
          },
          "metadata": {},
          "execution_count": 102
        }
      ]
    },
    {
      "cell_type": "code",
      "source": [
        "s = \"안녕하세요 감자입니다. 내 친구도 감자입니다.\"\n",
        "s.find(\"감자\")"
      ],
      "metadata": {
        "colab": {
          "base_uri": "https://localhost:8080/"
        },
        "id": "ezhcQewynjZl",
        "outputId": "4e43365e-5841-47cf-ba52-489142c21202"
      },
      "execution_count": 103,
      "outputs": [
        {
          "output_type": "execute_result",
          "data": {
            "text/plain": [
              "6"
            ]
          },
          "metadata": {},
          "execution_count": 103
        }
      ]
    },
    {
      "cell_type": "code",
      "source": [
        "s = \"안녕하세요 감자입니다. 내 친구도 감자입니다.\"\n",
        "s.find(\"고구마\")"
      ],
      "metadata": {
        "colab": {
          "base_uri": "https://localhost:8080/"
        },
        "id": "mPzn0sEtnpDi",
        "outputId": "be7065c1-7122-4b8e-ac70-7450759eeb5f"
      },
      "execution_count": 104,
      "outputs": [
        {
          "output_type": "execute_result",
          "data": {
            "text/plain": [
              "-1"
            ]
          },
          "metadata": {},
          "execution_count": 104
        }
      ]
    },
    {
      "cell_type": "code",
      "source": [
        "s = \"안녕하세요 감자입니다. 내 친구도 감자입니다.\"\n",
        "s.count(\"감자\")"
      ],
      "metadata": {
        "colab": {
          "base_uri": "https://localhost:8080/"
        },
        "id": "wgxCRJjFnsA5",
        "outputId": "12347845-7ffa-4e23-ad39-dfe9903accfc"
      },
      "execution_count": 105,
      "outputs": [
        {
          "output_type": "execute_result",
          "data": {
            "text/plain": [
              "2"
            ]
          },
          "metadata": {},
          "execution_count": 105
        }
      ]
    }
  ]
}