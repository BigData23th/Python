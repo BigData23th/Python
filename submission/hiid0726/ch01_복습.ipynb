{
  "nbformat": 4,
  "nbformat_minor": 0,
  "metadata": {
    "colab": {
      "provenance": [],
      "authorship_tag": "ABX9TyMBkyFX+GlMcNMFyiodGMjf",
      "include_colab_link": true
    },
    "kernelspec": {
      "name": "python3",
      "display_name": "Python 3"
    },
    "language_info": {
      "name": "python"
    }
  },
  "cells": [
    {
      "cell_type": "markdown",
      "metadata": {
        "id": "view-in-github",
        "colab_type": "text"
      },
      "source": [
        "<a href=\"https://colab.research.google.com/github/hiid0726/Python_lym/blob/main/submission/hiid0726/ch01_%EB%B3%B5%EC%8A%B5.ipynb\" target=\"_parent\"><img src=\"https://colab.research.google.com/assets/colab-badge.svg\" alt=\"Open In Colab\"/></a>"
      ]
    },
    {
      "cell_type": "code",
      "execution_count": 4,
      "metadata": {
        "colab": {
          "base_uri": "https://localhost:8080/",
          "height": 136
        },
        "id": "sq1k0sBCbUiv",
        "outputId": "c7de46b3-22a2-4244-b994-c7ae1bedc42b"
      },
      "outputs": [
        {
          "output_type": "error",
          "ename": "SyntaxError",
          "evalue": "ignored",
          "traceback": [
            "\u001b[0;36m  File \u001b[0;32m\"<ipython-input-4-b378ec088df8>\"\u001b[0;36m, line \u001b[0;32m1\u001b[0m\n\u001b[0;31m    print(Hello world) # 문자열 입력시 \"\" 또는 ''가 빠지면 안됨\u001b[0m\n\u001b[0m                ^\u001b[0m\n\u001b[0;31mSyntaxError\u001b[0m\u001b[0;31m:\u001b[0m invalid syntax\n"
          ]
        }
      ],
      "source": [
        "print(Hello world) # 문자열 입력시 \"\" 또는 ''가 빠지면 안됨\n",
        "#alt + enter = 실행 및 신규 셀 생성"
      ]
    },
    {
      "cell_type": "code",
      "source": [
        "print('Hello World') # print(입력값) : 함수의 일종, 입력한 값(숫자, 문자열 등...) 을 출력"
      ],
      "metadata": {
        "colab": {
          "base_uri": "https://localhost:8080/",
          "height": 0
        },
        "id": "Zb-u_0V5ckAr",
        "outputId": "6e09a915-03fa-47ae-c297-c167d6737e5b"
      },
      "execution_count": 5,
      "outputs": [
        {
          "output_type": "stream",
          "name": "stdout",
          "text": [
            "Hello World\n"
          ]
        }
      ]
    },
    {
      "cell_type": "code",
      "source": [
        "# ctrl + m + b = 하단에 신규 셀 생성\n",
        "# colab은 리눅스 환경에서 작동.-> 터미널을 통해 명령어로 작동하는 OS\n",
        "# 리눅스의 어떤 특정한 기능을 하기위해서는 1 터미널에 2 명령어를 넣어야한다.\n",
        "# !를 앞에 붙이고 나면, 리눅스의 터미널(커널)에 명령어를 사용할 수 있음.\n",
        "!python --version"
      ],
      "metadata": {
        "colab": {
          "base_uri": "https://localhost:8080/",
          "height": 0
        },
        "id": "jfdqWJFgc46P",
        "outputId": "eb780fe7-2532-46e1-c095-830e4249eebd"
      },
      "execution_count": 7,
      "outputs": [
        {
          "output_type": "stream",
          "name": "stdout",
          "text": [
            "Python 3.8.10\n"
          ]
        }
      ]
    },
    {
      "cell_type": "code",
      "source": [
        "#기본문법\n",
        "# 파이썬은 세미콜론을 안써도 된다. 단 한줄에서 구분이 필요할 경우 사용\n",
        "print(\"test1\")#특정한 행을 위 아래로 복제하고 싶다 --> alt + shift + 위아래방향키\n",
        "print(\"test1\")#특정한 행을 위 아래로 복제하고 싶다 --> alt + shift + 위아래방향키\n",
        "print(\"test1\");#특정한 행을 위 아래로 복제하고 싶다 --> alt + shift + 위아래방향키\n",
        "# ctrl + a : 전체 지정\n",
        "# end : 특정행의 끝 -> shift(범위지정, 블록지정) -> home(특정행의 시작)\n",
        "# alt + 위아래 방향키 == 줄바꿈\n",
        "print(\"뉴진스\"); print(\"르세라핌\");"
      ],
      "metadata": {
        "colab": {
          "base_uri": "https://localhost:8080/",
          "height": 0
        },
        "id": "XbtumXNvd97K",
        "outputId": "0797088c-1024-41e3-ff80-6bb341c62f2f"
      },
      "execution_count": 11,
      "outputs": [
        {
          "output_type": "stream",
          "name": "stdout",
          "text": [
            "test1\n",
            "test1\n",
            "test1\n",
            "뉴진스\n",
            "르세라핌\n"
          ]
        }
      ]
    },
    {
      "cell_type": "code",
      "source": [
        "# ctrl + - == 특정 행 기준으로 셀 분할\n",
        "#을 입력하고 뒤에 내용을 입력하면 한줄 주석\n",
        "# 주석으로 지정하는 단축키 = ctrl + /\n",
        "print(\"주석\")  #코드 뒤에 주석이 있어도 실행에 영향 없다.\n",
        "# print(\"주석\")"
      ],
      "metadata": {
        "colab": {
          "base_uri": "https://localhost:8080/",
          "height": 0
        },
        "id": "3yZja2yff-rB",
        "outputId": "312a4467-8fcf-4daa-e80e-9e10078f9aa3"
      },
      "execution_count": 12,
      "outputs": [
        {
          "output_type": "stream",
          "name": "stdout",
          "text": [
            "주석\n"
          ]
        }
      ]
    },
    {
      "cell_type": "code",
      "source": [
        "'''\n",
        "여러줄 주석할 때 또는 \"\"\" 입력\n",
        "'''\n",
        "# 문자열을 입력할때 ''작은 따옴표로 감쌌으면 그 안에는 작은 따옴표를 넣을 수 없다.\n",
        "# 굳이 넣고싶다면 앞에 \\를 넣어서 escape 시켜서 처리해야함\n"
      ],
      "metadata": {
        "id": "-ZuVj5IQpnUA"
      },
      "execution_count": null,
      "outputs": []
    },
    {
      "cell_type": "code",
      "source": [
        "a = 1\n",
        "if a != 10: #특정한 조건을 만족 시킬때 작동하는 코드\n",
        "  print(\"10이 아니다\") #특정 들여쓰기 범위 내에서만 조건 관련 코드"
      ],
      "metadata": {
        "colab": {
          "base_uri": "https://localhost:8080/",
          "height": 0
        },
        "id": "1wwTWpoiqLbK",
        "outputId": "d96258d5-fecd-43f7-beb3-6798a11d892e"
      },
      "execution_count": 14,
      "outputs": [
        {
          "output_type": "stream",
          "name": "stdout",
          "text": [
            "10이 아니다\n"
          ]
        }
      ]
    },
    {
      "cell_type": "code",
      "source": [
        "if a == 10: #특정한 조건을 만족 시킬때 작동하는 코드\n",
        "  print(\"10입니다\") #특정 들여쓰기 범위 내에서만 조건 관련 코드\n",
        "# 들여쓰기는 tab으로 통일"
      ],
      "metadata": {
        "id": "1syQAjDjqoBA"
      },
      "execution_count": 15,
      "outputs": []
    },
    {
      "cell_type": "code",
      "source": [
        "if a == 10: #특정한 조건을 만족 시킬때 작동하는 코드\n",
        "  print(\"10입니다\")\n",
        "  if a == 10: # 중첩도 들여쓰길로 구분\n",
        "    print(\"10입니다\")"
      ],
      "metadata": {
        "id": "3HZt1jIsrCS2"
      },
      "execution_count": 16,
      "outputs": []
    },
    {
      "cell_type": "code",
      "source": [
        "# 정수 (int, integer, 양의 정수와 음의 정수와 0)\n",
        "# 실수 (float, 실수, 소수, 소수점이 붙어 있음)\n",
        "type(1), type(1.0)\n",
        "# 같은 값이여도 자료형은 다르다."
      ],
      "metadata": {
        "colab": {
          "base_uri": "https://localhost:8080/",
          "height": 0
        },
        "id": "CIMQoaAVrI_T",
        "outputId": "19b8dbfb-2516-42b7-b025-a90744fc5eeb"
      },
      "execution_count": 18,
      "outputs": [
        {
          "output_type": "execute_result",
          "data": {
            "text/plain": [
              "(int, float)"
            ]
          },
          "metadata": {},
          "execution_count": 18
        }
      ]
    },
    {
      "cell_type": "code",
      "source": [
        "#사칙연산 -> 산술연산자, 연산자 : 1개 이상의 피연산자에 대해서 특정 연산(계산)을 실행 시키는 명령\n",
        "1+1, 2-3, 5*8, 13/21"
      ],
      "metadata": {
        "colab": {
          "base_uri": "https://localhost:8080/",
          "height": 0
        },
        "id": "58z0SL3msA7G",
        "outputId": "cdd8ca2f-fef8-4386-dabd-2a6ef7abd558"
      },
      "execution_count": 19,
      "outputs": [
        {
          "output_type": "execute_result",
          "data": {
            "text/plain": [
              "(2, -1, 40, 0.6190476190476191)"
            ]
          },
          "metadata": {},
          "execution_count": 19
        }
      ]
    },
    {
      "cell_type": "code",
      "source": [
        "type(20 / 4)\n",
        "# 정수 간 값이 딱 떨어지는 나누기를 해도 결과값은 무조건 실수이다."
      ],
      "metadata": {
        "colab": {
          "base_uri": "https://localhost:8080/",
          "height": 0
        },
        "id": "vQ7L1bp_sV51",
        "outputId": "34c1836c-2cfa-41b3-88d2-1f564faad742"
      },
      "execution_count": 25,
      "outputs": [
        {
          "output_type": "execute_result",
          "data": {
            "text/plain": [
              "float"
            ]
          },
          "metadata": {},
          "execution_count": 25
        }
      ]
    },
    {
      "cell_type": "code",
      "source": [
        "type(20//4)\n",
        " # 몫 연산자"
      ],
      "metadata": {
        "colab": {
          "base_uri": "https://localhost:8080/",
          "height": 0
        },
        "id": "XCckFRQMs1FM",
        "outputId": "29e9b657-49f3-4e3f-9031-35d8c93d6ebd"
      },
      "execution_count": 24,
      "outputs": [
        {
          "output_type": "execute_result",
          "data": {
            "text/plain": [
              "int"
            ]
          },
          "metadata": {},
          "execution_count": 24
        }
      ]
    },
    {
      "cell_type": "code",
      "source": [
        "5.2 // 2, 4 // 1.0, 2.5 // 0.2\n",
        "# 피연산자 중에 하나라도 실수라면 결과값은 실수로 나온다"
      ],
      "metadata": {
        "colab": {
          "base_uri": "https://localhost:8080/",
          "height": 0
        },
        "id": "_UKdS_Eos2ky",
        "outputId": "1bbdb531-1feb-4efd-eaf8-e01efed8fb0e"
      },
      "execution_count": 26,
      "outputs": [
        {
          "output_type": "execute_result",
          "data": {
            "text/plain": [
              "(2.0, 4.0, 12.0)"
            ]
          },
          "metadata": {},
          "execution_count": 26
        }
      ]
    },
    {
      "cell_type": "code",
      "source": [
        "# %나머지 연산자, 모듈로, 모듈러스\n",
        "10 % 3, 10 // 3"
      ],
      "metadata": {
        "colab": {
          "base_uri": "https://localhost:8080/",
          "height": 0
        },
        "id": "7M0CxnwBtNWh",
        "outputId": "57a405e1-7185-46ef-c079-a41ab30ee440"
      },
      "execution_count": 27,
      "outputs": [
        {
          "output_type": "execute_result",
          "data": {
            "text/plain": [
              "(1, 3)"
            ]
          },
          "metadata": {},
          "execution_count": 27
        }
      ]
    },
    {
      "cell_type": "code",
      "source": [
        "# 거듭제곱 연산자 //루트 연산자도 겸함\n",
        "2 ** 5 , 2 ** 0.5, 3 ** (1/3)"
      ],
      "metadata": {
        "colab": {
          "base_uri": "https://localhost:8080/",
          "height": 0
        },
        "id": "0_d7m2IttUuk",
        "outputId": "c1d8312d-56f3-411a-f4e6-6913aab10cf4"
      },
      "execution_count": 30,
      "outputs": [
        {
          "output_type": "execute_result",
          "data": {
            "text/plain": [
              "(32, 1.4142135623730951, 1.4422495703074083)"
            ]
          },
          "metadata": {},
          "execution_count": 30
        }
      ]
    },
    {
      "cell_type": "code",
      "source": [
        "# 값 -> 정수 (int(...))\n",
        "int(1), int(1.0), int(\"1\")\n",
        "# 정수로 변환 불가 -> int(\"1.0\"), int(\"문자열\")"
      ],
      "metadata": {
        "colab": {
          "base_uri": "https://localhost:8080/",
          "height": 0
        },
        "id": "G80cd0ert1bs",
        "outputId": "eb215b53-3203-4229-c6fd-164eb6fe9e65"
      },
      "execution_count": 33,
      "outputs": [
        {
          "output_type": "execute_result",
          "data": {
            "text/plain": [
              "(1, 1, 1)"
            ]
          },
          "metadata": {},
          "execution_count": 33
        }
      ]
    },
    {
      "cell_type": "code",
      "source": [
        "# 몫연산과 나머지 연산 한번에 하기\n",
        "divmod(5,2)\n",
        "#divmod(a,b) a는 나눠지는 수, b는 나누는 수 -> (몫, 나머지)"
      ],
      "metadata": {
        "colab": {
          "base_uri": "https://localhost:8080/",
          "height": 0
        },
        "id": "wewd_h_nxBO9",
        "outputId": "7f38039a-e530-4eaa-bea3-9e71eff63224"
      },
      "execution_count": 34,
      "outputs": [
        {
          "output_type": "execute_result",
          "data": {
            "text/plain": [
              "(2, 1)"
            ]
          },
          "metadata": {},
          "execution_count": 34
        }
      ]
    },
    {
      "cell_type": "code",
      "source": [
        "3.1+2.2"
      ],
      "metadata": {
        "colab": {
          "base_uri": "https://localhost:8080/",
          "height": 0
        },
        "id": "PTpx1KHcxZ7g",
        "outputId": "51f9a4cc-e5e2-407f-81b5-e3b47ca822f3"
      },
      "execution_count": 35,
      "outputs": [
        {
          "output_type": "execute_result",
          "data": {
            "text/plain": [
              "5.300000000000001"
            ]
          },
          "metadata": {},
          "execution_count": 35
        }
      ]
    },
    {
      "cell_type": "code",
      "source": [
        "2.7-1.5 #부동소수점 오류"
      ],
      "metadata": {
        "colab": {
          "base_uri": "https://localhost:8080/",
          "height": 0
        },
        "id": "-Z_VTd6zxcPH",
        "outputId": "933293f3-7755-46da-f2a7-e2be3d59963e"
      },
      "execution_count": 36,
      "outputs": [
        {
          "output_type": "execute_result",
          "data": {
            "text/plain": [
              "1.2000000000000002"
            ]
          },
          "metadata": {},
          "execution_count": 36
        }
      ]
    },
    {
      "cell_type": "code",
      "source": [
        "1.5 * 3.1, 5.5 / 3.1"
      ],
      "metadata": {
        "colab": {
          "base_uri": "https://localhost:8080/",
          "height": 0
        },
        "id": "ZAg5ZGGJxegW",
        "outputId": "475acaff-fad5-4e70-db43-7c81cff69b6a"
      },
      "execution_count": 37,
      "outputs": [
        {
          "output_type": "execute_result",
          "data": {
            "text/plain": [
              "(4.65, 1.7741935483870968)"
            ]
          },
          "metadata": {},
          "execution_count": 37
        }
      ]
    },
    {
      "cell_type": "code",
      "source": [
        "# float로 형변환 -> float(...)\n",
        "float(1), float(4/5), float(\"1.0\")"
      ],
      "metadata": {
        "colab": {
          "base_uri": "https://localhost:8080/",
          "height": 0
        },
        "id": "V1CVoo6Yx2T5",
        "outputId": "4fa0c9d3-ba4d-4298-8892-2376c8bc7c8c"
      },
      "execution_count": 40,
      "outputs": [
        {
          "output_type": "execute_result",
          "data": {
            "text/plain": [
              "(1.0, 0.8, 1.0)"
            ]
          },
          "metadata": {},
          "execution_count": 40
        }
      ]
    },
    {
      "cell_type": "code",
      "source": [
        "#텍스트로 특정한 숫자를 받았는데, 정수화를 하고싶다 -> 이게 소수점이 아니라는 확신이 없을때\n",
        "int(float(\"1.0\"))"
      ],
      "metadata": {
        "colab": {
          "base_uri": "https://localhost:8080/",
          "height": 0
        },
        "id": "pEN9V2EPyIIH",
        "outputId": "5a0389c7-69f5-49a3-a584-73a9544d5a71"
      },
      "execution_count": 41,
      "outputs": [
        {
          "output_type": "execute_result",
          "data": {
            "text/plain": [
              "1"
            ]
          },
          "metadata": {},
          "execution_count": 41
        }
      ]
    },
    {
      "cell_type": "code",
      "source": [
        "1+2*3, (1+2) *3"
      ],
      "metadata": {
        "colab": {
          "base_uri": "https://localhost:8080/",
          "height": 0
        },
        "id": "JtJJqTQGyYG-",
        "outputId": "dce7cea7-3791-41ff-ebf9-34bd0c188273"
      },
      "execution_count": 43,
      "outputs": [
        {
          "output_type": "execute_result",
          "data": {
            "text/plain": [
              "(7, 9)"
            ]
          },
          "metadata": {},
          "execution_count": 43
        }
      ]
    },
    {
      "cell_type": "code",
      "source": [
        "x=10\n"
      ],
      "metadata": {
        "id": "YS4zYWfAygPf"
      },
      "execution_count": 44,
      "outputs": []
    },
    {
      "cell_type": "code",
      "source": [
        "x"
      ],
      "metadata": {
        "colab": {
          "base_uri": "https://localhost:8080/",
          "height": 0
        },
        "id": "n5GTrCk7zIta",
        "outputId": "ca62eddf-61cf-494b-c313-555ac147dfa3"
      },
      "execution_count": 45,
      "outputs": [
        {
          "output_type": "execute_result",
          "data": {
            "text/plain": [
              "10"
            ]
          },
          "metadata": {},
          "execution_count": 45
        }
      ]
    },
    {
      "cell_type": "code",
      "source": [
        "y = \"The 행복식당\"\n",
        "y"
      ],
      "metadata": {
        "colab": {
          "base_uri": "https://localhost:8080/",
          "height": 35
        },
        "id": "qwBUj8k6zLDr",
        "outputId": "062f1323-69b0-4f9d-ae5a-1ffba623a77f"
      },
      "execution_count": 46,
      "outputs": [
        {
          "output_type": "execute_result",
          "data": {
            "text/plain": [
              "'The 행복식당'"
            ],
            "application/vnd.google.colaboratory.intrinsic+json": {
              "type": "string"
            }
          },
          "metadata": {},
          "execution_count": 46
        }
      ]
    },
    {
      "cell_type": "code",
      "source": [
        "type(x), type(y)"
      ],
      "metadata": {
        "colab": {
          "base_uri": "https://localhost:8080/",
          "height": 0
        },
        "id": "oHgVxq7Lzb_i",
        "outputId": "6e91e391-4804-41be-d789-ad5798bd9665"
      },
      "execution_count": 47,
      "outputs": [
        {
          "output_type": "execute_result",
          "data": {
            "text/plain": [
              "(int, str)"
            ]
          },
          "metadata": {},
          "execution_count": 47
        }
      ]
    },
    {
      "cell_type": "markdown",
      "source": [
        "* '=' : 대입연산자, 할당연산자\n",
        "* '==' : 같다의 의미"
      ],
      "metadata": {
        "id": "AgfUKz4kzw9W"
      }
    },
    {
      "cell_type": "code",
      "source": [
        "a=10\n",
        "\n",
        "a+20"
      ],
      "metadata": {
        "colab": {
          "base_uri": "https://localhost:8080/",
          "height": 0
        },
        "id": "9Fz4fPIXzhWP",
        "outputId": "06f0a4ca-0741-45e5-85b9-01d1382ce8f1"
      },
      "execution_count": 48,
      "outputs": [
        {
          "output_type": "execute_result",
          "data": {
            "text/plain": [
              "30"
            ]
          },
          "metadata": {},
          "execution_count": 48
        }
      ]
    },
    {
      "cell_type": "code",
      "source": [
        "a+=20\n",
        "a"
      ],
      "metadata": {
        "colab": {
          "base_uri": "https://localhost:8080/",
          "height": 0
        },
        "id": "Ure3GyDK1NwM",
        "outputId": "3dfe35dc-27ee-4779-8327-f0efb113a888"
      },
      "execution_count": 50,
      "outputs": [
        {
          "output_type": "execute_result",
          "data": {
            "text/plain": [
              "50"
            ]
          },
          "metadata": {},
          "execution_count": 50
        }
      ]
    },
    {
      "cell_type": "code",
      "source": [
        "e = None\n",
        "e += 10 #에러"
      ],
      "metadata": {
        "colab": {
          "base_uri": "https://localhost:8080/",
          "height": 190
        },
        "id": "1v2XPX6z1SYD",
        "outputId": "2958c817-009a-4019-e514-e78ce4612a53"
      },
      "execution_count": 51,
      "outputs": [
        {
          "output_type": "error",
          "ename": "TypeError",
          "evalue": "ignored",
          "traceback": [
            "\u001b[0;31m---------------------------------------------------------------------------\u001b[0m",
            "\u001b[0;31mTypeError\u001b[0m                                 Traceback (most recent call last)",
            "\u001b[0;32m<ipython-input-51-8868fa44d9f5>\u001b[0m in \u001b[0;36m<module>\u001b[0;34m\u001b[0m\n\u001b[1;32m      1\u001b[0m \u001b[0me\u001b[0m \u001b[0;34m=\u001b[0m \u001b[0;32mNone\u001b[0m\u001b[0;34m\u001b[0m\u001b[0;34m\u001b[0m\u001b[0m\n\u001b[0;32m----> 2\u001b[0;31m \u001b[0me\u001b[0m \u001b[0;34m+=\u001b[0m \u001b[0;36m10\u001b[0m\u001b[0;34m\u001b[0m\u001b[0;34m\u001b[0m\u001b[0m\n\u001b[0m",
            "\u001b[0;31mTypeError\u001b[0m: unsupported operand type(s) for +=: 'NoneType' and 'int'"
          ]
        }
      ]
    },
    {
      "cell_type": "code",
      "source": [
        "input() #입력받기"
      ],
      "metadata": {
        "colab": {
          "base_uri": "https://localhost:8080/",
          "height": 54
        },
        "id": "IaqTajNo1ow7",
        "outputId": "2e97c22b-9c4a-4357-e007-11aa3f4bcb0c"
      },
      "execution_count": 52,
      "outputs": [
        {
          "name": "stdout",
          "output_type": "stream",
          "text": [
            "ㅇㅇ\n"
          ]
        },
        {
          "output_type": "execute_result",
          "data": {
            "text/plain": [
              "'ㅇㅇ'"
            ],
            "application/vnd.google.colaboratory.intrinsic+json": {
              "type": "string"
            }
          },
          "metadata": {},
          "execution_count": 52
        }
      ]
    },
    {
      "cell_type": "code",
      "source": [
        "input(\"안녕하세요\") #힌트입력가능"
      ],
      "metadata": {
        "colab": {
          "base_uri": "https://localhost:8080/",
          "height": 54
        },
        "id": "rx2Xi01-2Gw3",
        "outputId": "941439aa-c294-429a-c24f-8b931f76757b"
      },
      "execution_count": 53,
      "outputs": [
        {
          "name": "stdout",
          "output_type": "stream",
          "text": [
            "안녕하세요예\n"
          ]
        },
        {
          "output_type": "execute_result",
          "data": {
            "text/plain": [
              "'예'"
            ],
            "application/vnd.google.colaboratory.intrinsic+json": {
              "type": "string"
            }
          },
          "metadata": {},
          "execution_count": 53
        }
      ]
    },
    {
      "cell_type": "code",
      "source": [
        "x = input() # 프롬프트에 '문자열'을 입력하는 함수(기능)\n",
        "type(x)"
      ],
      "metadata": {
        "colab": {
          "base_uri": "https://localhost:8080/"
        },
        "id": "mT1Nz5Vm2PQ1",
        "outputId": "1388430c-71f2-4271-bb62-248f1bddf2b3"
      },
      "execution_count": 55,
      "outputs": [
        {
          "name": "stdout",
          "output_type": "stream",
          "text": [
            "1\n"
          ]
        },
        {
          "output_type": "execute_result",
          "data": {
            "text/plain": [
              "str"
            ]
          },
          "metadata": {},
          "execution_count": 55
        }
      ]
    },
    {
      "cell_type": "code",
      "source": [
        "a = input()\n",
        "b = input()\n",
        "a+b  #문자열로 concat 됨\n",
        "int(a) + int(b) #계산시 intger처리\n",
        "# 덧셈연산을 실행하기 앞서서 int 가 실행이 되면서 정수로 변환"
      ],
      "metadata": {
        "colab": {
          "base_uri": "https://localhost:8080/"
        },
        "id": "rOkmrUuE2jJF",
        "outputId": "555c257a-50e0-44cc-fd1f-51e38d722ef5"
      },
      "execution_count": 58,
      "outputs": [
        {
          "name": "stdout",
          "output_type": "stream",
          "text": [
            "13\n",
            "14\n"
          ]
        },
        {
          "output_type": "execute_result",
          "data": {
            "text/plain": [
              "27"
            ]
          },
          "metadata": {},
          "execution_count": 58
        }
      ]
    },
    {
      "cell_type": "code",
      "source": [
        "a = int(input())\n",
        "b = int(input())\n",
        "a+b  #정수로 계산됨\n",
        "a + b \n",
        "# 변수 a에 대입하기 전에 input의 결과값을 int로 변환"
      ],
      "metadata": {
        "colab": {
          "base_uri": "https://localhost:8080/"
        },
        "id": "N1_cwnBn28vq",
        "outputId": "d78eb8f9-4971-4bb7-9290-81a0360bd435"
      },
      "execution_count": 59,
      "outputs": [
        {
          "name": "stdout",
          "output_type": "stream",
          "text": [
            "5\n",
            "4\n"
          ]
        },
        {
          "output_type": "execute_result",
          "data": {
            "text/plain": [
              "9"
            ]
          },
          "metadata": {},
          "execution_count": 59
        }
      ]
    },
    {
      "cell_type": "code",
      "source": [
        "\"안녕하세요 여러분\" # 문자열(리터럴)\n",
        "type(\"안녕하세요 여러분\")"
      ],
      "metadata": {
        "colab": {
          "base_uri": "https://localhost:8080/"
        },
        "id": "WwRRn2bA3fUB",
        "outputId": "9c27fc1d-386e-49e4-9a6c-4c5b14a56a1b"
      },
      "execution_count": 61,
      "outputs": [
        {
          "output_type": "execute_result",
          "data": {
            "text/plain": [
              "str"
            ]
          },
          "metadata": {},
          "execution_count": 61
        }
      ]
    },
    {
      "cell_type": "code",
      "source": [
        "# 특정한 구분자(separator)를 기준으로 문자열을 분리 (기본값 : ' ')\n",
        "\"안녕하세요 여러분\".split() # 특정한 타입, 객체에 내장되어 있는 함수(기능) : 메소드(method)"
      ],
      "metadata": {
        "colab": {
          "base_uri": "https://localhost:8080/"
        },
        "id": "GMs3DfZq3vzG",
        "outputId": "fd083399-f942-485e-a120-9d529197b10f"
      },
      "execution_count": 62,
      "outputs": [
        {
          "output_type": "execute_result",
          "data": {
            "text/plain": [
              "['안녕하세요', '여러분']"
            ]
          },
          "metadata": {},
          "execution_count": 62
        }
      ]
    },
    {
      "cell_type": "code",
      "source": [
        "\"안녕하세요,여러분\".split(\",\") # 매개변수(parameter)\n",
        "#매개변수에 들어가는 값 -> 인자(argument)"
      ],
      "metadata": {
        "colab": {
          "base_uri": "https://localhost:8080/"
        },
        "id": "nt3jlWQW4V5U",
        "outputId": "a4a1c326-a2fa-4682-c595-9d3d07d8daf3"
      },
      "execution_count": 64,
      "outputs": [
        {
          "output_type": "execute_result",
          "data": {
            "text/plain": [
              "['안녕하세요', '여러분']"
            ]
          },
          "metadata": {},
          "execution_count": 64
        }
      ]
    },
    {
      "cell_type": "code",
      "source": [
        "a, b = \"안녕하세요,여러분\".split(\",\")\n",
        " # 두개 이상의 값이 결과로 나올 경우, 해당 결과의 갯수에 맞게 변수를 위치시켜주면, 알아서 할당됨 "
      ],
      "metadata": {
        "id": "wHZJdWpO4m7v"
      },
      "execution_count": 65,
      "outputs": []
    },
    {
      "cell_type": "code",
      "source": [
        "a ,b = input(\"문자열 두개를 스페이스 기준으로 입력 : \").split()\n",
        "a, b"
      ],
      "metadata": {
        "colab": {
          "base_uri": "https://localhost:8080/"
        },
        "id": "iSzo3Sr-5l65",
        "outputId": "172f1bd8-bb26-4379-b951-5949dea955f6"
      },
      "execution_count": 67,
      "outputs": [
        {
          "name": "stdout",
          "output_type": "stream",
          "text": [
            "문자열 두개를 스페이스 기준으로 입력 : ㅎㅎ !!\n"
          ]
        },
        {
          "output_type": "execute_result",
          "data": {
            "text/plain": [
              "('ㅎㅎ', '!!')"
            ]
          },
          "metadata": {},
          "execution_count": 67
        }
      ]
    },
    {
      "cell_type": "code",
      "source": [
        "a ,b = input(\"문자열 두개를 스페이스 기준으로 입력 : \").split()\n",
        "a, b\n",
        "# 스플릿될 문자가 없으면 하나로 들어온것으로 인식하기 때문에 변수의 갯수와 맞지않음. 에러"
      ],
      "metadata": {
        "colab": {
          "base_uri": "https://localhost:8080/",
          "height": 209
        },
        "id": "7Li5Wi1m56LN",
        "outputId": "19c4c4ed-0c2a-4896-d4b5-343c01f7483f"
      },
      "execution_count": 68,
      "outputs": [
        {
          "name": "stdout",
          "output_type": "stream",
          "text": [
            "문자열 두개를 스페이스 기준으로 입력 : 왜요\n"
          ]
        },
        {
          "output_type": "error",
          "ename": "ValueError",
          "evalue": "ignored",
          "traceback": [
            "\u001b[0;31m---------------------------------------------------------------------------\u001b[0m",
            "\u001b[0;31mValueError\u001b[0m                                Traceback (most recent call last)",
            "\u001b[0;32m<ipython-input-68-032c8722fd1c>\u001b[0m in \u001b[0;36m<module>\u001b[0;34m\u001b[0m\n\u001b[0;32m----> 1\u001b[0;31m \u001b[0ma\u001b[0m \u001b[0;34m,\u001b[0m\u001b[0mb\u001b[0m \u001b[0;34m=\u001b[0m \u001b[0minput\u001b[0m\u001b[0;34m(\u001b[0m\u001b[0;34m\"문자열 두개를 스페이스 기준으로 입력 : \"\u001b[0m\u001b[0;34m)\u001b[0m\u001b[0;34m.\u001b[0m\u001b[0msplit\u001b[0m\u001b[0;34m(\u001b[0m\u001b[0;34m)\u001b[0m\u001b[0;34m\u001b[0m\u001b[0;34m\u001b[0m\u001b[0m\n\u001b[0m\u001b[1;32m      2\u001b[0m \u001b[0ma\u001b[0m\u001b[0;34m,\u001b[0m \u001b[0mb\u001b[0m\u001b[0;34m\u001b[0m\u001b[0;34m\u001b[0m\u001b[0m\n",
            "\u001b[0;31mValueError\u001b[0m: not enough values to unpack (expected 2, got 1)"
          ]
        }
      ]
    },
    {
      "cell_type": "code",
      "source": [
        "#숫자 두개를 입력하면 더해지는 것 --> 문자열로 계산됨\n",
        "a,b = input('숫자 두개를 입력하세요 : ').split()\n",
        "a+b"
      ],
      "metadata": {
        "colab": {
          "base_uri": "https://localhost:8080/",
          "height": 54
        },
        "id": "yTtCf_Nt6Ty3",
        "outputId": "d8393f2a-42df-41b3-9352-42b9d84588b6"
      },
      "execution_count": 70,
      "outputs": [
        {
          "name": "stdout",
          "output_type": "stream",
          "text": [
            "숫자 두개를 입력하세요 : 5 2\n"
          ]
        },
        {
          "output_type": "execute_result",
          "data": {
            "text/plain": [
              "'52'"
            ],
            "application/vnd.google.colaboratory.intrinsic+json": {
              "type": "string"
            }
          },
          "metadata": {},
          "execution_count": 70
        }
      ]
    },
    {
      "cell_type": "code",
      "source": [
        "#숫자 두개를 입력하면 더해지는 것 1\n",
        "a,b = input('숫자 두개를 입력하세요 : ').split()\n",
        "int(a)+int(b)"
      ],
      "metadata": {
        "colab": {
          "base_uri": "https://localhost:8080/"
        },
        "id": "5HdwPVK16r3H",
        "outputId": "cc3db052-bcd0-474c-b25c-e27ff5835e8b"
      },
      "execution_count": 71,
      "outputs": [
        {
          "name": "stdout",
          "output_type": "stream",
          "text": [
            "숫자 두개를 입력하세요 : 5 3\n"
          ]
        },
        {
          "output_type": "execute_result",
          "data": {
            "text/plain": [
              "8"
            ]
          },
          "metadata": {},
          "execution_count": 71
        }
      ]
    },
    {
      "cell_type": "code",
      "source": [
        "#숫자 두개를 입력하면 더해지는 것 2\n",
        "a,b = input('숫자 두개를 입력하세요 : ').split()\n",
        "a = int(a)\n",
        "b = int(b)\n",
        "a+b"
      ],
      "metadata": {
        "colab": {
          "base_uri": "https://localhost:8080/"
        },
        "id": "FCuwifHL60pU",
        "outputId": "d0cdf216-a82c-4b8f-cdf6-3eb224865a4e"
      },
      "execution_count": 72,
      "outputs": [
        {
          "name": "stdout",
          "output_type": "stream",
          "text": [
            "숫자 두개를 입력하세요 : 5  3\n"
          ]
        },
        {
          "output_type": "execute_result",
          "data": {
            "text/plain": [
              "8"
            ]
          },
          "metadata": {},
          "execution_count": 72
        }
      ]
    },
    {
      "cell_type": "code",
      "source": [
        "#숫자 두개를 입력하면 더해지는 것 3\n",
        "a,b = map(int, input('숫자 두개를 입력하세요 : ').split())\n",
        "# map(함수) 실행되기 전의 함수를 넣는다.()는 실행을 의미\n",
        "# ->함수를 통해서 처리하고 싶은 값들\n",
        "# map(실행함수, 입력값)\n",
        "a+b"
      ],
      "metadata": {
        "colab": {
          "base_uri": "https://localhost:8080/"
        },
        "id": "wUKuQk4I7Cqp",
        "outputId": "f988d716-32d5-4d28-effc-00012b9435c3"
      },
      "execution_count": 74,
      "outputs": [
        {
          "name": "stdout",
          "output_type": "stream",
          "text": [
            "숫자 두개를 입력하세요 : 5 3\n"
          ]
        },
        {
          "output_type": "execute_result",
          "data": {
            "text/plain": [
              "8"
            ]
          },
          "metadata": {},
          "execution_count": 74
        }
      ]
    },
    {
      "cell_type": "code",
      "source": [
        "#숫자 두개를 입력하면 더해지는 것 3\n",
        "a,b = map(float, input('숫자 두개를 입력하세요 : ').split())\n",
        "# map(함수) 실행되기 전의 함수를 넣는다.()는 실행을 의미\n",
        "# ->함수를 통해서 처리하고 싶은 값들\n",
        "# map(실행함수, 입력값)\n",
        "a+b"
      ],
      "metadata": {
        "colab": {
          "base_uri": "https://localhost:8080/"
        },
        "id": "c12XgkCg73RE",
        "outputId": "03dc7f8f-6196-41f3-9201-c38d906bcbe3"
      },
      "execution_count": 75,
      "outputs": [
        {
          "name": "stdout",
          "output_type": "stream",
          "text": [
            "숫자 두개를 입력하세요 : 5.2 2\n"
          ]
        },
        {
          "output_type": "execute_result",
          "data": {
            "text/plain": [
              "7.2"
            ]
          },
          "metadata": {},
          "execution_count": 75
        }
      ]
    },
    {
      "cell_type": "code",
      "source": [
        "#숫자 두개를 입력하면 더해지는 것 3\n",
        "a,b = map(print, input('숫자 두개를 입력하세요 : ').split())\n",
        "# map(함수) 실행되기 전의 함수를 넣는다.()는 실행을 의미\n",
        "# ->함수를 통해서 처리하고 싶은 값들\n",
        "# map(실행함수, 입력값)\n",
        "a+b"
      ],
      "metadata": {
        "colab": {
          "base_uri": "https://localhost:8080/",
          "height": 263
        },
        "id": "1KIywUJm8BCf",
        "outputId": "094532d5-f4ea-4412-982f-386dbe5ddcc1"
      },
      "execution_count": 76,
      "outputs": [
        {
          "output_type": "stream",
          "name": "stdout",
          "text": [
            "숫자 두개를 입력하세요 : 5 2\n",
            "5\n",
            "2\n"
          ]
        },
        {
          "output_type": "error",
          "ename": "TypeError",
          "evalue": "ignored",
          "traceback": [
            "\u001b[0;31m---------------------------------------------------------------------------\u001b[0m",
            "\u001b[0;31mTypeError\u001b[0m                                 Traceback (most recent call last)",
            "\u001b[0;32m<ipython-input-76-d4b0f1f552f4>\u001b[0m in \u001b[0;36m<module>\u001b[0;34m\u001b[0m\n\u001b[1;32m      4\u001b[0m \u001b[0;31m# ->함수를 통해서 처리하고 싶은 값들\u001b[0m\u001b[0;34m\u001b[0m\u001b[0;34m\u001b[0m\u001b[0;34m\u001b[0m\u001b[0m\n\u001b[1;32m      5\u001b[0m \u001b[0;31m# map(실행함수, 입력값)\u001b[0m\u001b[0;34m\u001b[0m\u001b[0;34m\u001b[0m\u001b[0;34m\u001b[0m\u001b[0m\n\u001b[0;32m----> 6\u001b[0;31m \u001b[0ma\u001b[0m\u001b[0;34m+\u001b[0m\u001b[0mb\u001b[0m\u001b[0;34m\u001b[0m\u001b[0;34m\u001b[0m\u001b[0m\n\u001b[0m",
            "\u001b[0;31mTypeError\u001b[0m: unsupported operand type(s) for +: 'NoneType' and 'NoneType'"
          ]
        }
      ]
    },
    {
      "cell_type": "code",
      "source": [
        "print(\"a\",\"b\", 1) #매개변수의 갯수가 정해져 있지 않은 함수 args\n",
        "print(\"a\",\"b\",1,sep = ',') # sep에 구분자를 입력하면, 해당 구분자로 구분해서 출력해줌\n",
        "print(\"a\",\"b\",1,sep = '')\n",
        "print(\"a\",\"b\",1,sep = ';')"
      ],
      "metadata": {
        "colab": {
          "base_uri": "https://localhost:8080/"
        },
        "id": "YTwidaMZ-6lH",
        "outputId": "e134fa8b-c3c9-4819-f7fb-bdfe86073cfc"
      },
      "execution_count": 80,
      "outputs": [
        {
          "output_type": "stream",
          "name": "stdout",
          "text": [
            "a b 1\n",
            "a,b,1\n",
            "ab1\n",
            "a;b;1\n"
          ]
        }
      ]
    },
    {
      "cell_type": "code",
      "source": [
        "print(\"민지\")\n",
        "print(\"다니엘\")\n",
        "print(\"혜인\", end='') #자동 줄바꿈을 해제, end의 기본값은 \\n\n",
        "print(\"혜린\")\n",
        "print(\"하니\")"
      ],
      "metadata": {
        "colab": {
          "base_uri": "https://localhost:8080/"
        },
        "id": "Zg5c4AVcAWv4",
        "outputId": "009971b7-abce-4ed0-a0a2-ee27168d2df6"
      },
      "execution_count": 81,
      "outputs": [
        {
          "output_type": "stream",
          "name": "stdout",
          "text": [
            "민지\n",
            "다니엘\n",
            "혜인혜린\n",
            "하니\n"
          ]
        }
      ]
    },
    {
      "cell_type": "code",
      "source": [
        "10_000_000"
      ],
      "metadata": {
        "colab": {
          "base_uri": "https://localhost:8080/"
        },
        "id": "xizueFsABedL",
        "outputId": "6f769829-6f1f-4502-eff7-30cbd5e0062e"
      },
      "execution_count": 82,
      "outputs": [
        {
          "output_type": "execute_result",
          "data": {
            "text/plain": [
              "10000000"
            ]
          },
          "metadata": {},
          "execution_count": 82
        }
      ]
    },
    {
      "cell_type": "code",
      "source": [
        "_"
      ],
      "metadata": {
        "colab": {
          "base_uri": "https://localhost:8080/"
        },
        "id": "5bVTAoqmBkY-",
        "outputId": "d9312f1e-19e8-4206-a52d-1963c3ac5323"
      },
      "execution_count": 83,
      "outputs": [
        {
          "output_type": "execute_result",
          "data": {
            "text/plain": [
              "10000000"
            ]
          },
          "metadata": {},
          "execution_count": 83
        }
      ]
    }
  ]
}