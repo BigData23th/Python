{
  "nbformat": 4,
  "nbformat_minor": 0,
  "metadata": {
    "colab": {
      "provenance": [],
      "authorship_tag": "ABX9TyO5yOZ9elg8xytzwNKkB7Rf",
      "include_colab_link": true
    },
    "kernelspec": {
      "name": "python3",
      "display_name": "Python 3"
    },
    "language_info": {
      "name": "python"
    }
  },
  "cells": [
    {
      "cell_type": "markdown",
      "metadata": {
        "id": "view-in-github",
        "colab_type": "text"
      },
      "source": [
        "<a href=\"https://colab.research.google.com/github/hiid0726/Python_lym/blob/main/submission/hiid0726/ch02_1_%EB%B3%B5%EC%8A%B5.ipynb\" target=\"_parent\"><img src=\"https://colab.research.google.com/assets/colab-badge.svg\" alt=\"Open In Colab\"/></a>"
      ]
    },
    {
      "cell_type": "code",
      "execution_count": null,
      "metadata": {
        "id": "6lESX-Pntn7p"
      },
      "outputs": [],
      "source": [
        "# 불, 비교연산자, 논리연산자, 리스트, 튜플"
      ]
    },
    {
      "cell_type": "code",
      "source": [
        "# True or False\n",
        "int(True), int(False)"
      ],
      "metadata": {
        "colab": {
          "base_uri": "https://localhost:8080/"
        },
        "id": "VDqak2Hsu1Cr",
        "outputId": "3e8be756-3261-4b6b-c265-03414e94cd33"
      },
      "execution_count": 1,
      "outputs": [
        {
          "output_type": "execute_result",
          "data": {
            "text/plain": [
              "(1, 0)"
            ]
          },
          "metadata": {},
          "execution_count": 1
        }
      ]
    },
    {
      "cell_type": "code",
      "source": [
        "# 비교연산자\n",
        "3 > 1"
      ],
      "metadata": {
        "colab": {
          "base_uri": "https://localhost:8080/"
        },
        "id": "acpIOuIWvPHp",
        "outputId": "e625f209-92c9-40e5-e15e-10fe86e6ae34"
      },
      "execution_count": 2,
      "outputs": [
        {
          "output_type": "execute_result",
          "data": {
            "text/plain": [
              "True"
            ]
          },
          "metadata": {},
          "execution_count": 2
        }
      ]
    },
    {
      "cell_type": "code",
      "source": [
        "a = 10\n",
        "b = 20\n",
        "a < b"
      ],
      "metadata": {
        "colab": {
          "base_uri": "https://localhost:8080/"
        },
        "id": "lhdf9dijvVwy",
        "outputId": "d363bd1e-d18c-448f-f60f-906e48b9f926"
      },
      "execution_count": 3,
      "outputs": [
        {
          "output_type": "execute_result",
          "data": {
            "text/plain": [
              "True"
            ]
          },
          "metadata": {},
          "execution_count": 3
        }
      ]
    },
    {
      "cell_type": "code",
      "source": [
        "a==b"
      ],
      "metadata": {
        "colab": {
          "base_uri": "https://localhost:8080/"
        },
        "id": "X7oydXUUvaJq",
        "outputId": "32ad7109-dbd5-471f-8a7c-4a6dafcd798e"
      },
      "execution_count": 4,
      "outputs": [
        {
          "output_type": "execute_result",
          "data": {
            "text/plain": [
              "False"
            ]
          },
          "metadata": {},
          "execution_count": 4
        }
      ]
    },
    {
      "cell_type": "code",
      "source": [
        "# 논리연산자 1개 이상의 bool을 처리하는 연산자\n",
        "# and\n",
        "a = 15\n",
        "b = 13\n",
        "\n",
        "(a > 20) and (b > 10) #False\n",
        "(a > 20) & (b > 10) #False\n",
        "\n",
        "# or\n",
        "(a > 20) or (b > 10) #True\n",
        "\n",
        "# 연산자 실행 순서는 비교연산자 > 논리연산자, 웬만하면 괄호로 구분하여 우선순위를 명확히 하는것이 좋다.\n"
      ],
      "metadata": {
        "colab": {
          "base_uri": "https://localhost:8080/"
        },
        "id": "0qw07VRhwE3W",
        "outputId": "0c80b8e1-9bf7-4ae1-d830-8ee0278f17fc"
      },
      "execution_count": 9,
      "outputs": [
        {
          "output_type": "execute_result",
          "data": {
            "text/plain": [
              "True"
            ]
          },
          "metadata": {},
          "execution_count": 9
        }
      ]
    },
    {
      "cell_type": "code",
      "source": [
        "not True, not False"
      ],
      "metadata": {
        "colab": {
          "base_uri": "https://localhost:8080/"
        },
        "id": "y-U1rmPGx670",
        "outputId": "545fdb44-89e3-4d05-f09f-d68238bb9aa5"
      },
      "execution_count": 10,
      "outputs": [
        {
          "output_type": "execute_result",
          "data": {
            "text/plain": [
              "(False, True)"
            ]
          },
          "metadata": {},
          "execution_count": 10
        }
      ]
    },
    {
      "cell_type": "code",
      "source": [
        "a = \"hell\"\n",
        "a"
      ],
      "metadata": {
        "colab": {
          "base_uri": "https://localhost:8080/",
          "height": 35
        },
        "id": "1Q8U5w0-yAHo",
        "outputId": "e1e38359-f83e-4c92-a4eb-6b2a7478e916"
      },
      "execution_count": 11,
      "outputs": [
        {
          "output_type": "execute_result",
          "data": {
            "text/plain": [
              "'hell'"
            ],
            "application/vnd.google.colaboratory.intrinsic+json": {
              "type": "string"
            }
          },
          "metadata": {},
          "execution_count": 11
        }
      ]
    },
    {
      "cell_type": "code",
      "source": [
        "a1 = \"a1\"\n",
        "a2 = '''a2 \n",
        " yes'''\n",
        "a3 = \"\"\"a3 \n",
        " no\"\"\"\n",
        "# 모두 같은 처리\n",
        "a1, a2, a3"
      ],
      "metadata": {
        "colab": {
          "base_uri": "https://localhost:8080/"
        },
        "id": "hP5f-ExyyWvu",
        "outputId": "a4b4742f-67eb-4b43-cfbb-29239a202ce8"
      },
      "execution_count": 15,
      "outputs": [
        {
          "output_type": "execute_result",
          "data": {
            "text/plain": [
              "('a1', 'a2\\n yes', 'a3 \\n no')"
            ]
          },
          "metadata": {},
          "execution_count": 15
        }
      ]
    },
    {
      "cell_type": "code",
      "source": [
        "# ',\"를 문자열 안에 표기하고싶다면 \\ 활용(escape)\n",
        "print(\" \\\"를 활용해서 큰따옴표 안에 큰따옴표 표현\");\n",
        "print(' \\'를 활용해서 작은따옴표 안에 작은따옴표 표현');\n",
        "print(\"\"\" \\\"를 활용해서 여러줄 안에 큰따옴표 표현\"\"\");\n",
        "print(''' \\'를 활용해서 여러줄 안에 작은따옴표 표현''');"
      ],
      "metadata": {
        "colab": {
          "base_uri": "https://localhost:8080/"
        },
        "id": "33IvIvwxy3nY",
        "outputId": "c983df23-6145-4a7a-91d2-ce4f410e986d"
      },
      "execution_count": 22,
      "outputs": [
        {
          "output_type": "stream",
          "name": "stdout",
          "text": [
            " \"를 활용해서 큰따옴표 안에 큰따옴표 표현\n",
            " '를 활용해서 작은따옴표 안에 작은따옴표 표현\n",
            " \"를 활용해서 여러줄 안에 큰따옴표 표현\n",
            " '를 활용해서 여러줄 안에 작은따옴표 표현\n"
          ]
        }
      ]
    },
    {
      "cell_type": "code",
      "source": [
        "# 리스트와 튜플\n",
        "# 리스트는 0개 이상의 요소를 묶은 자료형\n",
        "list1 = []\n",
        "list2 = [\"문자형\", 1, True]\n",
        "list1, list2"
      ],
      "metadata": {
        "colab": {
          "base_uri": "https://localhost:8080/"
        },
        "id": "O3tXhZAB1dzE",
        "outputId": "7116b9bf-4fdc-48f7-95a7-26ee9d4443d1"
      },
      "execution_count": 25,
      "outputs": [
        {
          "output_type": "execute_result",
          "data": {
            "text/plain": [
              "([], ['문자형', 1, True])"
            ]
          },
          "metadata": {},
          "execution_count": 25
        }
      ]
    },
    {
      "cell_type": "code",
      "source": [
        "# range\n",
        "# range(끝점), range(시작점, 끝점), range(시작점, 끝점, 증가폭)\n",
        "list1 = range(10)\n",
        "list2 = range(2,10)\n",
        "list3 = range(2,10,2)\n",
        "list4 = range(10, 2, -2)\n",
        "\n",
        "list(list1), list(list2), list(list3), list(list4)\n",
        "#  = list(map(list, (list1, list2, list3, list4)))\n"
      ],
      "metadata": {
        "colab": {
          "base_uri": "https://localhost:8080/"
        },
        "id": "7P02vgAT35dn",
        "outputId": "7841ff40-72b0-4ce1-c274-58d9220eb7fe"
      },
      "execution_count": 34,
      "outputs": [
        {
          "output_type": "execute_result",
          "data": {
            "text/plain": [
              "[[0, 1, 2, 3, 4, 5, 6, 7, 8, 9],\n",
              " [2, 3, 4, 5, 6, 7, 8, 9],\n",
              " [2, 4, 6, 8],\n",
              " [10, 8, 6, 4]]"
            ]
          },
          "metadata": {},
          "execution_count": 34
        }
      ]
    },
    {
      "cell_type": "code",
      "source": [
        "# 튜플 = 수정이 블가능한 자료형\n",
        "tup1 = ()\n",
        "tup2 = 1, 2, 3, 4, 5\n",
        "\n",
        "tup1, tup2"
      ],
      "metadata": {
        "colab": {
          "base_uri": "https://localhost:8080/"
        },
        "id": "uGPVvKz-5mVW",
        "outputId": "9785c92c-5c51-4e46-e297-536d6f1f7447"
      },
      "execution_count": 37,
      "outputs": [
        {
          "output_type": "execute_result",
          "data": {
            "text/plain": [
              "((), (1, 2, 3, 4, 5))"
            ]
          },
          "metadata": {},
          "execution_count": 37
        }
      ]
    },
    {
      "cell_type": "code",
      "source": [
        "#  언패킹\n",
        "a, b, c = [1, 2, 3]\n",
        "a, b, c"
      ],
      "metadata": {
        "colab": {
          "base_uri": "https://localhost:8080/"
        },
        "id": "6C6edayC7-Nn",
        "outputId": "34bc3085-a346-4610-baaf-1c5e410b352e"
      },
      "execution_count": 39,
      "outputs": [
        {
          "output_type": "execute_result",
          "data": {
            "text/plain": [
              "(1, 2, 3)"
            ]
          },
          "metadata": {},
          "execution_count": 39
        }
      ]
    },
    {
      "cell_type": "code",
      "source": [
        "# 패킹\n",
        "g = [7, 8, 9]\n",
        "g"
      ],
      "metadata": {
        "colab": {
          "base_uri": "https://localhost:8080/"
        },
        "id": "9PChS2uu8MHw",
        "outputId": "2579fe99-0970-4e27-ad2b-0857fd77830f"
      },
      "execution_count": 41,
      "outputs": [
        {
          "output_type": "execute_result",
          "data": {
            "text/plain": [
              "[7, 8, 9]"
            ]
          },
          "metadata": {},
          "execution_count": 41
        }
      ]
    }
  ]
}