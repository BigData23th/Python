{
  "nbformat": 4,
  "nbformat_minor": 0,
  "metadata": {
    "colab": {
      "provenance": [],
      "authorship_tag": "ABX9TyNpcu1lIurHnjZDS15ZiFeN",
      "include_colab_link": true
    },
    "kernelspec": {
      "name": "python3",
      "display_name": "Python 3"
    },
    "language_info": {
      "name": "python"
    }
  },
  "cells": [
    {
      "cell_type": "markdown",
      "metadata": {
        "id": "view-in-github",
        "colab_type": "text"
      },
      "source": [
        "<a href=\"https://colab.research.google.com/github/hiid0726/Python_lym/blob/main/submission/hiid0726/ch02_04.ipynb\" target=\"_parent\"><img src=\"https://colab.research.google.com/assets/colab-badge.svg\" alt=\"Open In Colab\"/></a>"
      ]
    },
    {
      "cell_type": "markdown",
      "source": [
        "# 문자열서식"
      ],
      "metadata": {
        "id": "scn5oxKxfhRJ"
      }
    },
    {
      "cell_type": "markdown",
      "source": [
        "## f-string"
      ],
      "metadata": {
        "id": "P_n7AbAfflH5"
      }
    },
    {
      "cell_type": "code",
      "execution_count": 1,
      "metadata": {
        "colab": {
          "base_uri": "https://localhost:8080/",
          "height": 35
        },
        "id": "23fqJegYcKe6",
        "outputId": "2fcef796-9991-4f39-bdd4-2876b91a03fc"
      },
      "outputs": [
        {
          "output_type": "execute_result",
          "data": {
            "text/plain": [
              "'빅데이터 엔지니어링 과정에서는 파이썬을 배웁니다.'"
            ],
            "application/vnd.google.colaboratory.intrinsic+json": {
              "type": "string"
            }
          },
          "metadata": {},
          "execution_count": 1
        }
      ],
      "source": [
        "\"빅데이터 엔지니어링 과정에서는 \" + \"파이썬\" + \"을 배웁니다.\""
      ]
    },
    {
      "cell_type": "code",
      "source": [
        "def announce(keyword):\n",
        "  return \"빅데이터 엔지니어링 과정에서는 \" + keyword + \"을 배웁니다.\""
      ],
      "metadata": {
        "id": "boAR1B9cf4H_"
      },
      "execution_count": 3,
      "outputs": []
    },
    {
      "cell_type": "code",
      "source": [
        "print(announce(\"파이썬\"));"
      ],
      "metadata": {
        "colab": {
          "base_uri": "https://localhost:8080/"
        },
        "id": "b4iZYHjngCft",
        "outputId": "458ea39e-c468-47d9-813b-f708f619fbed"
      },
      "execution_count": 5,
      "outputs": [
        {
          "output_type": "stream",
          "name": "stdout",
          "text": [
            "빅데이터 엔지니어링 과정에서는 파이썬을 배웁니다.\n"
          ]
        }
      ]
    },
    {
      "cell_type": "code",
      "source": [
        "def announce2(a,b,c,d):\n",
        "  return a+\"에서는 \" + b + \"와 \" + c +\"와\" + d + \"을 배웁니다.\""
      ],
      "metadata": {
        "id": "0x6D7FL9gJzZ"
      },
      "execution_count": 6,
      "outputs": []
    },
    {
      "cell_type": "code",
      "source": [
        "def announce3(name,count,subject1,subject2):\n",
        "  return name +\" \" + count + \"기에서는 \" + subject1 +\"과 \" + subject2 + \"를 배웁니다.\""
      ],
      "metadata": {
        "id": "sYH75a1zgYqI"
      },
      "execution_count": 13,
      "outputs": []
    },
    {
      "cell_type": "code",
      "source": [
        "print(announce3(\"빅데이터\", str(23), \"자바\", \"파이썬\"))"
      ],
      "metadata": {
        "colab": {
          "base_uri": "https://localhost:8080/"
        },
        "id": "qtimGkiagp0z",
        "outputId": "e19a84ce-54f6-4ec1-87f4-167f2560c3f7"
      },
      "execution_count": 11,
      "outputs": [
        {
          "output_type": "stream",
          "name": "stdout",
          "text": [
            "빅데이터 23기에서는 자바과 파이썬를 배웁니다.\n"
          ]
        }
      ]
    },
    {
      "cell_type": "code",
      "source": [
        "def announce4(name,count,subject1,subject2):\n",
        "  return f\"{name} {count}기에서는 {subject1}와 {subject2}를 배웁니다\""
      ],
      "metadata": {
        "id": "mItiDw6Yg2c8"
      },
      "execution_count": 14,
      "outputs": []
    },
    {
      "cell_type": "code",
      "source": [
        "print(announce4(\"빅데이터\", str(23), \"자바\", \"파이썬\"))"
      ],
      "metadata": {
        "colab": {
          "base_uri": "https://localhost:8080/"
        },
        "id": "e_MlcflShDVJ",
        "outputId": "a8cccffc-e347-45a3-e4a6-9e89bb9d1a4a"
      },
      "execution_count": 15,
      "outputs": [
        {
          "output_type": "stream",
          "name": "stdout",
          "text": [
            "빅데이터 23기에서는 자바와 파이썬를 배웁니다\n"
          ]
        }
      ]
    },
    {
      "cell_type": "code",
      "source": [
        "a = 75\n",
        "b = 97\n",
        "f\"전체 취업자 수는 {a:04d}명 이고 전체 수강자 수는 {b:04d}명 입니다. 취업률 = {(a/b) : 06.2f}\"\n",
        "# {(a/b) : 06.2f}  --> float형이고 2자리까지 표현할것,"
      ],
      "metadata": {
        "colab": {
          "base_uri": "https://localhost:8080/",
          "height": 35
        },
        "id": "_GyEFvAuhTJa",
        "outputId": "999d45d1-ec2c-4757-81d2-4288d4f165b3"
      },
      "execution_count": 30,
      "outputs": [
        {
          "output_type": "execute_result",
          "data": {
            "text/plain": [
              "'전체 취업자 수는 0075명 이고 전체 수강자 수는 0097명 입니다. 취업률 =  000.77'"
            ],
            "application/vnd.google.colaboratory.intrinsic+json": {
              "type": "string"
            }
          },
          "metadata": {},
          "execution_count": 30
        }
      ]
    },
    {
      "cell_type": "markdown",
      "source": [
        "## format 메소드"
      ],
      "metadata": {
        "id": "eev8A38ciRSv"
      }
    },
    {
      "cell_type": "code",
      "source": [
        "def hello2(name) : \n",
        "  return f\"안녕 나는 {name}이야\"\n",
        "\n",
        "hello2(\"김동동\")"
      ],
      "metadata": {
        "colab": {
          "base_uri": "https://localhost:8080/",
          "height": 35
        },
        "id": "tmtYAfJ1hia8",
        "outputId": "b1c661d6-c249-47db-9503-40057f7aecdf"
      },
      "execution_count": 31,
      "outputs": [
        {
          "output_type": "execute_result",
          "data": {
            "text/plain": [
              "'안녕 나는 김동동이야'"
            ],
            "application/vnd.google.colaboratory.intrinsic+json": {
              "type": "string"
            }
          },
          "metadata": {},
          "execution_count": 31
        }
      ]
    },
    {
      "cell_type": "code",
      "source": [
        "def hello3(sentence, name):\n",
        "  #return \"안녕 나는 {}이야\".format(name)\n",
        "  return sentence.format(name)\n",
        "\n",
        "hello3(\"안녕하세요 나는 {}\",\"이영미.\")"
      ],
      "metadata": {
        "colab": {
          "base_uri": "https://localhost:8080/",
          "height": 35
        },
        "id": "DF8MMU_EjM0F",
        "outputId": "b083c7f8-7729-4854-cbef-13dc1ba7fe6e"
      },
      "execution_count": 34,
      "outputs": [
        {
          "output_type": "execute_result",
          "data": {
            "text/plain": [
              "'안녕하세요 나는 이영미.'"
            ],
            "application/vnd.google.colaboratory.intrinsic+json": {
              "type": "string"
            }
          },
          "metadata": {},
          "execution_count": 34
        }
      ]
    },
    {
      "cell_type": "code",
      "source": [
        "def hello4(callback, *args):\n",
        "  return list(map(callback, args))\n",
        "\n",
        "hello4(\"{}님 출석하셨습니다.\".format, \"김장장\", \"공장장\", \"김술술\")\n"
      ],
      "metadata": {
        "colab": {
          "base_uri": "https://localhost:8080/"
        },
        "id": "dWJEePuGjww4",
        "outputId": "56cb3424-bc55-41af-97b4-5edc04d7a289"
      },
      "execution_count": 38,
      "outputs": [
        {
          "output_type": "execute_result",
          "data": {
            "text/plain": [
              "['김장장님 출석하셨습니다.', '공장장님 출석하셨습니다.', '김술술님 출석하셨습니다.']"
            ]
          },
          "metadata": {},
          "execution_count": 38
        }
      ]
    },
    {
      "cell_type": "code",
      "source": [
        "hello4(lambda x: x+\"님\", \"김장장\", \"공장장\", \"김술술\")"
      ],
      "metadata": {
        "colab": {
          "base_uri": "https://localhost:8080/"
        },
        "id": "bwapXJu1kdAI",
        "outputId": "2faecb88-fe18-4d0b-dca1-fe29b0220ab5"
      },
      "execution_count": 37,
      "outputs": [
        {
          "output_type": "execute_result",
          "data": {
            "text/plain": [
              "['김장장님', '공장장님', '김술술님']"
            ]
          },
          "metadata": {},
          "execution_count": 37
        }
      ]
    },
    {
      "cell_type": "markdown",
      "source": [
        "## 딕셔너리 응용"
      ],
      "metadata": {
        "id": "IbOy3u65my4u"
      }
    },
    {
      "cell_type": "code",
      "source": [
        "x = {\n",
        "    \"a\" : 10\n",
        "  , \"b\" : 20\n",
        "  , \"c\" : 30\n",
        "  , \"d\" : 40\n",
        "}"
      ],
      "metadata": {
        "id": "p-ZFRGwBm1Aw"
      },
      "execution_count": 39,
      "outputs": []
    },
    {
      "cell_type": "code",
      "source": [
        "x.get('e') # 없는 키를 넣었을때 None리턴, 에러 X"
      ],
      "metadata": {
        "id": "yevVqn0XnCL9"
      },
      "execution_count": 40,
      "outputs": []
    },
    {
      "cell_type": "code",
      "source": [
        "x.get('e',-1) # 기본값 지정 가능"
      ],
      "metadata": {
        "id": "QBRCdLdNnI0K"
      },
      "execution_count": null,
      "outputs": []
    },
    {
      "cell_type": "code",
      "source": [
        "x.update(a=5)\n",
        "x.update(e=50) # 없는 키값일 경우 append 된다."
      ],
      "metadata": {
        "id": "IHbH1ci5nOP3"
      },
      "execution_count": 41,
      "outputs": []
    },
    {
      "cell_type": "code",
      "source": [
        "x.update({\n",
        "    \"a\" : 10\n",
        "    ,\"b\" : 40\n",
        "})\n",
        "x\n",
        "## 이런식으로 딕셔너리 자체로 입력해도 업데이트 가능"
      ],
      "metadata": {
        "colab": {
          "base_uri": "https://localhost:8080/"
        },
        "id": "gjGZ8EurngdK",
        "outputId": "edb2af47-7b1c-4bae-ce4c-c52164083530"
      },
      "execution_count": 42,
      "outputs": [
        {
          "output_type": "execute_result",
          "data": {
            "text/plain": [
              "{'a': 10, 'b': 40, 'c': 30, 'd': 40, 'e': 50}"
            ]
          },
          "metadata": {},
          "execution_count": 42
        }
      ]
    },
    {
      "cell_type": "code",
      "source": [
        "x.pop(\"f\") # 없는 값 pop은 에러"
      ],
      "metadata": {
        "colab": {
          "base_uri": "https://localhost:8080/",
          "height": 172
        },
        "id": "TPA8XJFenvQ1",
        "outputId": "38c19729-8df0-4353-9615-33508e664647"
      },
      "execution_count": 43,
      "outputs": [
        {
          "output_type": "error",
          "ename": "KeyError",
          "evalue": "ignored",
          "traceback": [
            "\u001b[0;31m---------------------------------------------------------------------------\u001b[0m",
            "\u001b[0;31mKeyError\u001b[0m                                  Traceback (most recent call last)",
            "\u001b[0;32m<ipython-input-43-3f93eae79d55>\u001b[0m in \u001b[0;36m<module>\u001b[0;34m\u001b[0m\n\u001b[0;32m----> 1\u001b[0;31m \u001b[0mx\u001b[0m\u001b[0;34m.\u001b[0m\u001b[0mpop\u001b[0m\u001b[0;34m(\u001b[0m\u001b[0;34m\"f\"\u001b[0m\u001b[0;34m)\u001b[0m \u001b[0;31m# 없는 값 pop은 에러\u001b[0m\u001b[0;34m\u001b[0m\u001b[0;34m\u001b[0m\u001b[0m\n\u001b[0m",
            "\u001b[0;31mKeyError\u001b[0m: 'f'"
          ]
        }
      ]
    },
    {
      "cell_type": "code",
      "source": [
        "x.pop(\"f\",0) # 기본값 지정시 에러 X"
      ],
      "metadata": {
        "colab": {
          "base_uri": "https://localhost:8080/"
        },
        "id": "mt8n81nYoI1-",
        "outputId": "058653eb-7d94-4d43-e8b4-ae64775a6052"
      },
      "execution_count": 44,
      "outputs": [
        {
          "output_type": "execute_result",
          "data": {
            "text/plain": [
              "0"
            ]
          },
          "metadata": {},
          "execution_count": 44
        }
      ]
    },
    {
      "cell_type": "code",
      "source": [
        "# 삭제는 .clear() 사용\n",
        "x.clear()"
      ],
      "metadata": {
        "id": "CgKweQSPoOCC"
      },
      "execution_count": null,
      "outputs": []
    },
    {
      "cell_type": "code",
      "source": [
        "for i in x : \n",
        "  print(i) # 키값이 나옴"
      ],
      "metadata": {
        "colab": {
          "base_uri": "https://localhost:8080/"
        },
        "id": "I8CN7ZEmoSiJ",
        "outputId": "a5a029de-c9e8-46d3-c1fb-67110f307662"
      },
      "execution_count": 45,
      "outputs": [
        {
          "output_type": "stream",
          "name": "stdout",
          "text": [
            "a\n",
            "b\n",
            "c\n",
            "d\n",
            "e\n"
          ]
        }
      ]
    },
    {
      "cell_type": "code",
      "source": [
        "for i in x : \n",
        "  print(x[i]) # 값이 나옴"
      ],
      "metadata": {
        "colab": {
          "base_uri": "https://localhost:8080/"
        },
        "id": "GJZivBP0oZR8",
        "outputId": "a12b88ec-8ae5-4579-fe55-60932c63d1fc"
      },
      "execution_count": 46,
      "outputs": [
        {
          "output_type": "stream",
          "name": "stdout",
          "text": [
            "10\n",
            "40\n",
            "30\n",
            "40\n",
            "50\n"
          ]
        }
      ]
    },
    {
      "cell_type": "code",
      "source": [
        "for k,v in x.items() : \n",
        "  print(f\"key:{k}\")\n",
        "  print(f\"value:{v}\")"
      ],
      "metadata": {
        "colab": {
          "base_uri": "https://localhost:8080/"
        },
        "id": "LTUn15wCoeYC",
        "outputId": "8621d74a-e922-4fae-f95b-d257f7032eee"
      },
      "execution_count": 49,
      "outputs": [
        {
          "output_type": "stream",
          "name": "stdout",
          "text": [
            "key:a\n",
            "value:10\n",
            "key:b\n",
            "value:40\n",
            "key:c\n",
            "value:30\n",
            "key:d\n",
            "value:40\n",
            "key:e\n",
            "value:50\n"
          ]
        }
      ]
    },
    {
      "cell_type": "code",
      "source": [],
      "metadata": {
        "id": "k9QYFJhbookh"
      },
      "execution_count": null,
      "outputs": []
    }
  ]
}