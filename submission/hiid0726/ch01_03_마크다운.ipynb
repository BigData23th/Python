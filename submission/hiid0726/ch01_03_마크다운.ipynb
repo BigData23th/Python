{
  "nbformat": 4,
  "nbformat_minor": 0,
  "metadata": {
    "colab": {
      "provenance": [],
      "authorship_tag": "ABX9TyOq1puFybtiAoNmj5j+X8SB",
      "include_colab_link": true
    },
    "kernelspec": {
      "name": "python3",
      "display_name": "Python 3"
    },
    "language_info": {
      "name": "python"
    }
  },
  "cells": [
    {
      "cell_type": "markdown",
      "metadata": {
        "id": "view-in-github",
        "colab_type": "text"
      },
      "source": [
        "<a href=\"https://colab.research.google.com/github/hiid0726/Python_lym/blob/main/submission/hiid0726/ch01_03_%EB%A7%88%ED%81%AC%EB%8B%A4%EC%9A%B4.ipynb\" target=\"_parent\"><img src=\"https://colab.research.google.com/assets/colab-badge.svg\" alt=\"Open In Colab\"/></a>"
      ]
    },
    {
      "cell_type": "markdown",
      "source": [
        "# 제목(Headline)\n",
        "## 2단계 제목\n",
        "### 3단계 제목\n",
        "#### 4단계\n",
        "##### 5단계\n",
        "###### 6단계\n",
        "####### 7단계\n"
      ],
      "metadata": {
        "id": "mBk_0-0g6K7M"
      }
    },
    {
      "cell_type": "markdown",
      "source": [
        "수평선\n",
        "\n",
        "---\n",
        "\n",
        "텍스트 아래에 ---를 바로 붙이면 #과 같은 효과\n",
        "\n",
        "수평선\n",
        "---\n",
        "\n",
        "태그 = hr\n"
      ],
      "metadata": {
        "id": "heXFz4aB6ZpD"
      }
    },
    {
      "cell_type": "markdown",
      "source": [
        "줄바꿈 = <br> 줄바꿈\n"
      ],
      "metadata": {
        "id": "Z7KyXTsc6vHk"
      }
    },
    {
      "cell_type": "markdown",
      "source": [
        "굵게 = **굵게**\n",
        "기울기 = *기울기*\n",
        "굵게 = __굵게__\n",
        "기울기 = _기울기_\n",
        "\n",
        "--취소선--\n",
        "<u>밑줄</u>"
      ],
      "metadata": {
        "id": "ErMJ_Ene61Zb"
      }
    },
    {
      "cell_type": "markdown",
      "source": [
        "> 인용문\n",
        ">>인용문\n",
        ">>>인용문\n",
        ">>>>인용문\n",
        ">>>>>인용문\n",
        ">>>>>>인용문\n",
        ">>>>>>>인용문"
      ],
      "metadata": {
        "id": "_xPKSxD96-gj"
      }
    },
    {
      "cell_type": "markdown",
      "source": [
        "리스트\n",
        "순서없는 리스트\n",
        "* 사과\n",
        "* 배\n",
        "* 자두\n",
        "\n",
        "순서 있는 리스트\n",
        "1. 사과\n",
        "2. 배\n",
        "3. 자두\n",
        "\n",
        "순서가 있는 리스트 2\n",
        "\n",
        "1.파이썬\n",
        "1.자바\n",
        "1.SQL\n",
        "\n",
        "들여쓰기\n",
        "* 사과\n",
        "  * 껍질\n",
        "   * 볶음\n",
        "  * 이것도 되나\n",
        "        * 코드블록 (탭 두번)\n",
        "        코드블록 == 이 안에 꾸며주는 마크다운 문법 무시 (명령어 무시)\n",
        "        **굵게**\n",
        "        "
      ],
      "metadata": {
        "id": "mwMBxE-V7UoD"
      }
    },
    {
      "cell_type": "markdown",
      "source": [
        "코드블록\n",
        "\n",
        "한 줄 코드\n",
        "\n",
        "`print('hello World')` -- 음영처리\n",
        "\n",
        "여러 줄 코드블록\n",
        "```\n",
        "print('여기에 입력')\n",
        "print('여기에 입력')\n",
        "```\n",
        "\n"
      ],
      "metadata": {
        "id": "-SmcVj8d8S3F"
      }
    },
    {
      "cell_type": "markdown",
      "source": [
        "table 만들기\n",
        "\n",
        "|책의 제목|작가|출판일|\n",
        "|-|-|-|\n",
        "|장발장|이이이이이|2022|\n",
        "|파이썬|김철수|1971|"
      ],
      "metadata": {
        "id": "v6faDUr28uek"
      }
    },
    {
      "cell_type": "markdown",
      "source": [
        "table 만들기\n",
        "왼쪽 정렬\n",
        "\n",
        "|책의 제목|작가|출판일|\n",
        "|:-|:-|:-|\n",
        "|장발장|이이이이이|2022|\n",
        "|파이썬|김철수|1971|\n",
        "\n",
        "오른쪽 정렬\n",
        "\n",
        "|책의 제목|작가|출판일|\n",
        "|-:|-:|-:|\n",
        "|장발장|이이이이이|2022|\n",
        "|파이썬|김철수|1971|"
      ],
      "metadata": {
        "id": "QyImtvoI9NkN"
      }
    },
    {
      "cell_type": "markdown",
      "source": [
        "이미지 불러오기 \n",
        "\n",
        "[링크(표시될 텍스트)](https://ouch-cdn2.icons8.com/WLyS_eUY_wkNfbBiF1Z6mGMwXKalra6qPiM_M3Vs6Xo/rs:fit:256:215/czM6Ly9pY29uczgu/b3VjaC1wcm9kLmFz/c2V0cy9wbmcvMTA3/LzIwNjNkYjk3LWNj/NGQtNDhlMS1hNDBl/LWQ4ZjhlZGE2MTg2/Yi5wbmc.png)\n",
        "\n",
        "![이미지에 대한 설명](https://ouch-cdn2.icons8.com/WLyS_eUY_wkNfbBiF1Z6mGMwXKalra6qPiM_M3Vs6Xo/rs:fit:256:215/czM6Ly9pY29uczgu/b3VjaC1wcm9kLmFz/c2V0cy9wbmcvMTA3/LzIwNjNkYjk3LWNj/NGQtNDhlMS1hNDBl/LWQ4ZjhlZGE2MTg2/Yi5wbmc.png)\n",
        "\n"
      ],
      "metadata": {
        "id": "-7Y28Yts9Zj3"
      }
    },
    {
      "cell_type": "markdown",
      "source": [
        "체크박스\n",
        "- [ ]  체크박스\n",
        "- [x] 체크된 체크박스"
      ],
      "metadata": {
        "id": "ZqKsDkI597W0"
      }
    }
  ]
}