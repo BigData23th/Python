{
  "nbformat": 4,
  "nbformat_minor": 0,
  "metadata": {
    "colab": {
      "provenance": [],
      "authorship_tag": "ABX9TyMCh4jO0/Lar49VGXWU+6fe",
      "include_colab_link": true
    },
    "kernelspec": {
      "name": "python3",
      "display_name": "Python 3"
    },
    "language_info": {
      "name": "python"
    }
  },
  "cells": [
    {
      "cell_type": "markdown",
      "metadata": {
        "id": "view-in-github",
        "colab_type": "text"
      },
      "source": [
        "<a href=\"https://colab.research.google.com/github/hiid0726/Python_lym/blob/main/submission/hiid0726/ch03_01%EB%B3%B5%EC%8A%B5.ipynb\" target=\"_parent\"><img src=\"https://colab.research.google.com/assets/colab-badge.svg\" alt=\"Open In Colab\"/></a>"
      ]
    },
    {
      "cell_type": "markdown",
      "source": [
        "# 함수\n",
        "\n"
      ],
      "metadata": {
        "id": "5iwdnG3Tpu3E"
      }
    },
    {
      "cell_type": "code",
      "execution_count": 18,
      "metadata": {
        "id": "5Z53PJbvpqlc"
      },
      "outputs": [],
      "source": [
        "import random\n",
        "\n",
        "subjects = [\n",
        "    \"여러분 취업 준비 하셔야 해요\"\n",
        "    , \"자격증은 스터디 짜셨어요?\"\n",
        "    , \"왜 깃허브에 회고 안올려요?\"\n",
        "    , \"사람들이 왜 자꾸 나가지?\"\n",
        "]\n",
        "\n",
        "learning = {\n",
        "    \"문자열\" : \"문자열들..\"\n",
        "    ,\"딕셔너리\" : \"딕셔너리들..\"\n",
        "    ,\"함수\" : \"함수들..\"\n",
        "}\n",
        "\n",
        "def study():#상위 모듈\n",
        "  energy = random.randint(1,10)\n",
        "  choice = random.choices(subjects, k=2) # 뽑히는 대상 - 모집단, k = 뽑는 수\n",
        "  hello(energy)   ##하위 모듈\n",
        "  energy -= 1;\n",
        "  chat(energy,*choice)\n",
        "  lecture(**learning)\n",
        "  #chat()\n",
        "  bye()\n",
        "\n",
        "\n",
        "# def hello() : \n",
        "  # return print(\"좋은 아침입니다. 여러분\")\n",
        "\n",
        "def hello(energy) : \n",
        "  #energy  = 0~10\n",
        "  if energy == 10 : \n",
        "    return print(\"오늘 커피 쏠까요?\")\n",
        "  elif energy > 5 : \n",
        "    return print(\"오늘 점심메뉴 알려줄까여?\")\n",
        "  elif energy <= 5 : \n",
        "    return print(\"...\")\n",
        "\n",
        "# def chat() : \n",
        "  # pass\n",
        "def chat(repeat, *args) : \n",
        "  for i in range(repeat):\n",
        "    print(f\"제가 {i}번째 얘기하는거 같은데\")\n",
        "    for j in args:\n",
        "      print(j)\n",
        "\n",
        "# def lecture() : \n",
        "#   pass\n",
        "def lecture(**kwargs):\n",
        "  for k, v in kwargs.items():\n",
        "    print(f\"*** {k}에서 {v}를 배워봅시다.\")\n",
        "\n",
        "\n",
        "def bye() : \n",
        "  pass"
      ]
    },
    {
      "cell_type": "code",
      "source": [
        "study();"
      ],
      "metadata": {
        "colab": {
          "base_uri": "https://localhost:8080/"
        },
        "id": "mdNIAmYhqU-o",
        "outputId": "7463bdbb-57c1-44e7-f228-d0c76c7d7781"
      },
      "execution_count": 16,
      "outputs": [
        {
          "output_type": "stream",
          "name": "stdout",
          "text": [
            "오늘 점심메뉴 알려줄까여?\n",
            "제가 0번째 얘기하는거 같은데\n",
            "자격증은 스터디 짜셨어요?\n",
            "여러분 취업 준비 하셔야 해요\n",
            "제가 1번째 얘기하는거 같은데\n",
            "자격증은 스터디 짜셨어요?\n",
            "여러분 취업 준비 하셔야 해요\n",
            "제가 2번째 얘기하는거 같은데\n",
            "자격증은 스터디 짜셨어요?\n",
            "여러분 취업 준비 하셔야 해요\n",
            "제가 3번째 얘기하는거 같은데\n",
            "자격증은 스터디 짜셨어요?\n",
            "여러분 취업 준비 하셔야 해요\n",
            "제가 4번째 얘기하는거 같은데\n",
            "자격증은 스터디 짜셨어요?\n",
            "여러분 취업 준비 하셔야 해요\n",
            "제가 5번째 얘기하는거 같은데\n",
            "자격증은 스터디 짜셨어요?\n",
            "여러분 취업 준비 하셔야 해요\n"
          ]
        }
      ]
    },
    {
      "cell_type": "code",
      "source": [],
      "metadata": {
        "id": "G4SzH8bFraWR"
      },
      "execution_count": null,
      "outputs": []
    }
  ]
}