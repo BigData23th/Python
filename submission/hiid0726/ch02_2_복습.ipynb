{
  "nbformat": 4,
  "nbformat_minor": 0,
  "metadata": {
    "colab": {
      "provenance": [],
      "authorship_tag": "ABX9TyMvwYt8xYU0s9LCIUvzS82A",
      "include_colab_link": true
    },
    "kernelspec": {
      "name": "python3",
      "display_name": "Python 3"
    },
    "language_info": {
      "name": "python"
    }
  },
  "cells": [
    {
      "cell_type": "markdown",
      "metadata": {
        "id": "view-in-github",
        "colab_type": "text"
      },
      "source": [
        "<a href=\"https://colab.research.google.com/github/hiid0726/Python_lym/blob/main/submission/hiid0726/ch02_2_%EB%B3%B5%EC%8A%B5.ipynb\" target=\"_parent\"><img src=\"https://colab.research.google.com/assets/colab-badge.svg\" alt=\"Open In Colab\"/></a>"
      ]
    },
    {
      "cell_type": "markdown",
      "source": [
        "#시퀀스"
      ],
      "metadata": {
        "id": "DH4BcWqL2H85"
      }
    },
    {
      "cell_type": "code",
      "execution_count": null,
      "metadata": {
        "id": "60xw2-xLvmSN"
      },
      "outputs": [],
      "source": [
        "# 시퀀스 자료형\n",
        "# 0개 이상의 원소가 나열되어서 묶여잇는 자료형\n",
        "# list, tuple, range, string\n",
        "[] #list\n",
        "() #tuple\n",
        "\"\" or '' or \"\"\" \"\"\" or ''' ''' # string\n"
      ]
    },
    {
      "cell_type": "markdown",
      "source": [
        "## in, not in"
      ],
      "metadata": {
        "id": "pMw2o5yI2PEY"
      }
    },
    {
      "cell_type": "markdown",
      "source": [],
      "metadata": {
        "id": "EoxQQKjg2O_D"
      }
    },
    {
      "cell_type": "code",
      "source": [
        "# 값 in 시퀀스 객체 <-> for 변수명 in 시퀀스 객체 : \n",
        "# 1. for와 : 유무 차이\n",
        "\"파이썬\" in (\"파이썬\", \"자바\", \"자바스크립트\")\n"
      ],
      "metadata": {
        "colab": {
          "base_uri": "https://localhost:8080/"
        },
        "id": "s6bpoHHR0P3M",
        "outputId": "622f2da5-9ec6-4a94-d493-2a149d6a65e4"
      },
      "execution_count": 1,
      "outputs": [
        {
          "output_type": "execute_result",
          "data": {
            "text/plain": [
              "True"
            ]
          },
          "metadata": {},
          "execution_count": 1
        }
      ]
    },
    {
      "cell_type": "code",
      "source": [
        "a = \"파이썬\"\n",
        "b = [\"파이썬\", \"자바\", \"자바스크립트\"]\n",
        "a in b"
      ],
      "metadata": {
        "colab": {
          "base_uri": "https://localhost:8080/"
        },
        "id": "c8BEjgIo0ok3",
        "outputId": "49a7b788-3a8f-41e7-bef5-5b2226e64aa5"
      },
      "execution_count": 2,
      "outputs": [
        {
          "output_type": "execute_result",
          "data": {
            "text/plain": [
              "True"
            ]
          },
          "metadata": {},
          "execution_count": 2
        }
      ]
    },
    {
      "cell_type": "code",
      "source": [
        "c = \"C언어\"\n",
        "c in b, c not in b"
      ],
      "metadata": {
        "colab": {
          "base_uri": "https://localhost:8080/"
        },
        "id": "YlPqfdaQ0_oI",
        "outputId": "5a947f91-257a-4288-bcd3-1896943ee8cc"
      },
      "execution_count": 3,
      "outputs": [
        {
          "output_type": "execute_result",
          "data": {
            "text/plain": [
              "(False, True)"
            ]
          },
          "metadata": {},
          "execution_count": 3
        }
      ]
    },
    {
      "cell_type": "code",
      "source": [
        "name = \"이영미\"\n",
        "\"이영\" in name"
      ],
      "metadata": {
        "colab": {
          "base_uri": "https://localhost:8080/"
        },
        "id": "H-4UiAYl1eZD",
        "outputId": "a2c0afd3-7e3c-4603-8002-aed249e3e130"
      },
      "execution_count": 5,
      "outputs": [
        {
          "output_type": "execute_result",
          "data": {
            "text/plain": [
              "True"
            ]
          },
          "metadata": {},
          "execution_count": 5
        }
      ]
    },
    {
      "cell_type": "code",
      "source": [
        "sentence = \"안녕하세요 이영미입니다.\"\n",
        "\"안녕\" in sentence"
      ],
      "metadata": {
        "colab": {
          "base_uri": "https://localhost:8080/"
        },
        "id": "yfDdCBfC1vJk",
        "outputId": "eae439f5-9e0c-4cd5-ba16-f6491f57b2e0"
      },
      "execution_count": 8,
      "outputs": [
        {
          "output_type": "execute_result",
          "data": {
            "text/plain": [
              "True"
            ]
          },
          "metadata": {},
          "execution_count": 8
        }
      ]
    },
    {
      "cell_type": "markdown",
      "source": [
        "## 연결(+)"
      ],
      "metadata": {
        "id": "gZ0kZFAB2Uqy"
      }
    },
    {
      "cell_type": "code",
      "source": [
        "a = [\"사과\", \"배\", \"바나나\"]\n",
        "b = [1,2,3,4,5,6]\n",
        "a+b # 연결(concatenate) --> 아직 저장한 단계는 아님, 그냥 연결만 해준 상태"
      ],
      "metadata": {
        "colab": {
          "base_uri": "https://localhost:8080/"
        },
        "id": "ARGhOE9F16b-",
        "outputId": "e3489ec1-33ae-4228-88b2-460608df1bf6"
      },
      "execution_count": 9,
      "outputs": [
        {
          "output_type": "execute_result",
          "data": {
            "text/plain": [
              "['사과', '배', '바나나', 1, 2, 3, 4, 5, 6]"
            ]
          },
          "metadata": {},
          "execution_count": 9
        }
      ]
    },
    {
      "cell_type": "code",
      "source": [
        "a, b"
      ],
      "metadata": {
        "colab": {
          "base_uri": "https://localhost:8080/"
        },
        "id": "4PND7IV22i_e",
        "outputId": "134a28a5-ac3a-4463-ba16-dd8bc2e1a5e9"
      },
      "execution_count": 10,
      "outputs": [
        {
          "output_type": "execute_result",
          "data": {
            "text/plain": [
              "(['사과', '배', '바나나'], [1, 2, 3, 4, 5, 6])"
            ]
          },
          "metadata": {},
          "execution_count": 10
        }
      ]
    },
    {
      "cell_type": "code",
      "source": [
        "(1,2,3) + (4,5,6)"
      ],
      "metadata": {
        "colab": {
          "base_uri": "https://localhost:8080/"
        },
        "id": "8lXNoNNE2_0J",
        "outputId": "3891bb37-e1f7-4cf0-b354-ca7bf2528bc4"
      },
      "execution_count": 11,
      "outputs": [
        {
          "output_type": "execute_result",
          "data": {
            "text/plain": [
              "(1, 2, 3, 4, 5, 6)"
            ]
          },
          "metadata": {},
          "execution_count": 11
        }
      ]
    },
    {
      "cell_type": "code",
      "source": [
        "\"이\" + \"영미\""
      ],
      "metadata": {
        "colab": {
          "base_uri": "https://localhost:8080/",
          "height": 35
        },
        "id": "f6FLOkK43CLn",
        "outputId": "34918b05-2991-4024-f0e1-ecf2df6ccf85"
      },
      "execution_count": 12,
      "outputs": [
        {
          "output_type": "execute_result",
          "data": {
            "text/plain": [
              "'이영미'"
            ],
            "application/vnd.google.colaboratory.intrinsic+json": {
              "type": "string"
            }
          },
          "metadata": {},
          "execution_count": 12
        }
      ]
    },
    {
      "cell_type": "code",
      "source": [
        "# range 자체로는  불가\n",
        "range(10) + range(10)"
      ],
      "metadata": {
        "colab": {
          "base_uri": "https://localhost:8080/",
          "height": 190
        },
        "id": "0QoAZ5ar3EPg",
        "outputId": "dee575d1-70ce-49f6-c2bf-1dd8268ff10e"
      },
      "execution_count": 13,
      "outputs": [
        {
          "output_type": "error",
          "ename": "TypeError",
          "evalue": "ignored",
          "traceback": [
            "\u001b[0;31m---------------------------------------------------------------------------\u001b[0m",
            "\u001b[0;31mTypeError\u001b[0m                                 Traceback (most recent call last)",
            "\u001b[0;32m<ipython-input-13-f047c2250096>\u001b[0m in \u001b[0;36m<module>\u001b[0;34m\u001b[0m\n\u001b[1;32m      1\u001b[0m \u001b[0;31m# range 자체로는  불가\u001b[0m\u001b[0;34m\u001b[0m\u001b[0;34m\u001b[0m\u001b[0;34m\u001b[0m\u001b[0m\n\u001b[0;32m----> 2\u001b[0;31m \u001b[0mrange\u001b[0m\u001b[0;34m(\u001b[0m\u001b[0;36m10\u001b[0m\u001b[0;34m)\u001b[0m \u001b[0;34m+\u001b[0m \u001b[0mrange\u001b[0m\u001b[0;34m(\u001b[0m\u001b[0;36m10\u001b[0m\u001b[0;34m)\u001b[0m\u001b[0;34m\u001b[0m\u001b[0;34m\u001b[0m\u001b[0m\n\u001b[0m",
            "\u001b[0;31mTypeError\u001b[0m: unsupported operand type(s) for +: 'range' and 'range'"
          ]
        }
      ]
    },
    {
      "cell_type": "code",
      "source": [
        "# list로 형변환 후 합치기\n",
        "list(range(10)) + list(range(10))"
      ],
      "metadata": {
        "colab": {
          "base_uri": "https://localhost:8080/"
        },
        "id": "Mhi5_Yvv3K3r",
        "outputId": "c48a2014-4e19-42f0-ffc5-69fa52d69f30"
      },
      "execution_count": 14,
      "outputs": [
        {
          "output_type": "execute_result",
          "data": {
            "text/plain": [
              "[0, 1, 2, 3, 4, 5, 6, 7, 8, 9, 0, 1, 2, 3, 4, 5, 6, 7, 8, 9]"
            ]
          },
          "metadata": {},
          "execution_count": 14
        }
      ]
    },
    {
      "cell_type": "code",
      "source": [
        "print(\"안녕하세요, \", 1 , \"학년 입니다.\");"
      ],
      "metadata": {
        "colab": {
          "base_uri": "https://localhost:8080/"
        },
        "id": "wBI5p3_03XMv",
        "outputId": "fc2cb21b-f7a2-4e22-9953-4512c7ca1b97"
      },
      "execution_count": 15,
      "outputs": [
        {
          "output_type": "stream",
          "name": "stdout",
          "text": [
            "안녕하세요,  1 학년 입니다.\n"
          ]
        }
      ]
    },
    {
      "cell_type": "code",
      "source": [
        "# 다른 타입으로는 연결 불가.. string, int 연결하기...\n",
        "\"안녕하세요, \" + 1 + \"학년 입니다,\""
      ],
      "metadata": {
        "colab": {
          "base_uri": "https://localhost:8080/",
          "height": 172
        },
        "id": "8mZMpaul3fgB",
        "outputId": "07798de1-e431-47b3-8d63-33ee55009ea4"
      },
      "execution_count": 16,
      "outputs": [
        {
          "output_type": "error",
          "ename": "TypeError",
          "evalue": "ignored",
          "traceback": [
            "\u001b[0;31m---------------------------------------------------------------------------\u001b[0m",
            "\u001b[0;31mTypeError\u001b[0m                                 Traceback (most recent call last)",
            "\u001b[0;32m<ipython-input-16-4342856f2060>\u001b[0m in \u001b[0;36m<module>\u001b[0;34m\u001b[0m\n\u001b[0;32m----> 1\u001b[0;31m \u001b[0;34m\"안녕하세요, \"\u001b[0m \u001b[0;34m+\u001b[0m \u001b[0;36m1\u001b[0m \u001b[0;34m+\u001b[0m \u001b[0;34m\"학년 입니다,\"\u001b[0m\u001b[0;34m\u001b[0m\u001b[0;34m\u001b[0m\u001b[0m\n\u001b[0m",
            "\u001b[0;31mTypeError\u001b[0m: can only concatenate str (not \"int\") to str"
          ]
        }
      ]
    },
    {
      "cell_type": "code",
      "source": [
        "\"안녕하세요, \" + str(1) + \"학년 입니다,\""
      ],
      "metadata": {
        "colab": {
          "base_uri": "https://localhost:8080/",
          "height": 35
        },
        "id": "ePkzEUd73oZU",
        "outputId": "c10473ea-afaa-4de0-e73d-f4b7398e603e"
      },
      "execution_count": 17,
      "outputs": [
        {
          "output_type": "execute_result",
          "data": {
            "text/plain": [
              "'안녕하세요, 1학년 입니다,'"
            ],
            "application/vnd.google.colaboratory.intrinsic+json": {
              "type": "string"
            }
          },
          "metadata": {},
          "execution_count": 17
        }
      ]
    },
    {
      "cell_type": "markdown",
      "source": [
        "## 반복(*)"
      ],
      "metadata": {
        "id": "qKgKWlYE34D8"
      }
    },
    {
      "cell_type": "code",
      "source": [
        "# 연결을 n번 이상하는 것, (시퀀스 객체) * n\n",
        "[1,10,100,1000] *3"
      ],
      "metadata": {
        "colab": {
          "base_uri": "https://localhost:8080/"
        },
        "id": "jVsIn-c633HW",
        "outputId": "8126c94a-91aa-42c2-b0e9-3bdb4c628de7"
      },
      "execution_count": 18,
      "outputs": [
        {
          "output_type": "execute_result",
          "data": {
            "text/plain": [
              "[1, 10, 100, 1000, 1, 10, 100, 1000, 1, 10, 100, 1000]"
            ]
          },
          "metadata": {},
          "execution_count": 18
        }
      ]
    },
    {
      "cell_type": "code",
      "source": [
        "[0] * 7 # 0을 7개 가진 리스트 만들기\n"
      ],
      "metadata": {
        "id": "KgNt4F0D4ixF"
      },
      "execution_count": null,
      "outputs": []
    },
    {
      "cell_type": "code",
      "source": [
        "[0] * 0 # 0이하의 값을 넣으면 빈리스트 출력"
      ],
      "metadata": {
        "colab": {
          "base_uri": "https://localhost:8080/"
        },
        "id": "UY5yS1WB4whh",
        "outputId": "e61fb382-86ae-4d72-8089-40425600c706"
      },
      "execution_count": 19,
      "outputs": [
        {
          "output_type": "execute_result",
          "data": {
            "text/plain": [
              "[]"
            ]
          },
          "metadata": {},
          "execution_count": 19
        }
      ]
    },
    {
      "cell_type": "code",
      "source": [
        "range(10) * 2\n",
        "#range 자체로는 불가"
      ],
      "metadata": {
        "colab": {
          "base_uri": "https://localhost:8080/",
          "height": 172
        },
        "id": "VG56Tsic417P",
        "outputId": "affbb04c-c87a-441a-86e1-5476820c87f9"
      },
      "execution_count": 20,
      "outputs": [
        {
          "output_type": "error",
          "ename": "TypeError",
          "evalue": "ignored",
          "traceback": [
            "\u001b[0;31m---------------------------------------------------------------------------\u001b[0m",
            "\u001b[0;31mTypeError\u001b[0m                                 Traceback (most recent call last)",
            "\u001b[0;32m<ipython-input-20-8d37ee83252e>\u001b[0m in \u001b[0;36m<module>\u001b[0;34m\u001b[0m\n\u001b[0;32m----> 1\u001b[0;31m \u001b[0mrange\u001b[0m\u001b[0;34m(\u001b[0m\u001b[0;36m10\u001b[0m\u001b[0;34m)\u001b[0m \u001b[0;34m*\u001b[0m \u001b[0;36m2\u001b[0m\u001b[0;34m\u001b[0m\u001b[0;34m\u001b[0m\u001b[0m\n\u001b[0m",
            "\u001b[0;31mTypeError\u001b[0m: unsupported operand type(s) for *: 'range' and 'int'"
          ]
        }
      ]
    },
    {
      "cell_type": "code",
      "source": [
        "tuple(range(10)) * 2\n",
        "# list 혹은 tuple로 형변환하여 반복"
      ],
      "metadata": {
        "colab": {
          "base_uri": "https://localhost:8080/"
        },
        "id": "HuK_wwR45A6M",
        "outputId": "6c970d44-1245-4fd9-e627-5ee9766da56a"
      },
      "execution_count": 21,
      "outputs": [
        {
          "output_type": "execute_result",
          "data": {
            "text/plain": [
              "(0, 1, 2, 3, 4, 5, 6, 7, 8, 9, 0, 1, 2, 3, 4, 5, 6, 7, 8, 9)"
            ]
          },
          "metadata": {},
          "execution_count": 21
        }
      ]
    },
    {
      "cell_type": "markdown",
      "source": [
        "### len()"
      ],
      "metadata": {
        "id": "fGZbdkWD5fCg"
      }
    },
    {
      "cell_type": "code",
      "source": [
        "len([1,2,3]), len((1,2,3)), len(range(2,5,2)), len(\"문자열\")"
      ],
      "metadata": {
        "colab": {
          "base_uri": "https://localhost:8080/"
        },
        "id": "eH58UTYT5Kki",
        "outputId": "f40ea8bf-ddb2-486d-cc61-de8fb9fb52aa"
      },
      "execution_count": 22,
      "outputs": [
        {
          "output_type": "execute_result",
          "data": {
            "text/plain": [
              "(3, 3, 2, 3)"
            ]
          },
          "metadata": {},
          "execution_count": 22
        }
      ]
    },
    {
      "cell_type": "markdown",
      "source": [
        "### index"
      ],
      "metadata": {
        "id": "YJd1qH8557Pv"
      }
    },
    {
      "cell_type": "code",
      "source": [
        "# 0부터 시작, 전체길이 -1\n",
        "a = list(range(100, 600, 100))\n",
        "a"
      ],
      "metadata": {
        "colab": {
          "base_uri": "https://localhost:8080/"
        },
        "id": "Mj0nYVmi5xLT",
        "outputId": "80d57d81-a93e-41fb-e349-9c3878cef483"
      },
      "execution_count": 24,
      "outputs": [
        {
          "output_type": "execute_result",
          "data": {
            "text/plain": [
              "[100, 200, 300, 400, 500]"
            ]
          },
          "metadata": {},
          "execution_count": 24
        }
      ]
    },
    {
      "cell_type": "code",
      "source": [
        "a[2], a[2-1], a[1]"
      ],
      "metadata": {
        "colab": {
          "base_uri": "https://localhost:8080/"
        },
        "id": "dwoH9o5O6G2r",
        "outputId": "c0a2d8d8-f895-4c59-811e-5ad60690b35b"
      },
      "execution_count": 25,
      "outputs": [
        {
          "output_type": "execute_result",
          "data": {
            "text/plain": [
              "(300, 200, 200)"
            ]
          },
          "metadata": {},
          "execution_count": 25
        }
      ]
    },
    {
      "cell_type": "code",
      "source": [
        "name = \"김나나씨\"\n",
        "name[0], name[3], name[-1]"
      ],
      "metadata": {
        "colab": {
          "base_uri": "https://localhost:8080/"
        },
        "id": "hGemko1d6TI4",
        "outputId": "ae809b75-fa6e-422a-aeab-7c818de7a6d5"
      },
      "execution_count": 28,
      "outputs": [
        {
          "output_type": "execute_result",
          "data": {
            "text/plain": [
              "('김', '씨', '씨')"
            ]
          },
          "metadata": {},
          "execution_count": 28
        }
      ]
    },
    {
      "cell_type": "code",
      "source": [
        "# 음수 인덱수 : 뒤에서부터 카운트,  len(시퀀스객체) -n\n",
        "# a, a[-n] = a[len(a)-n]\n",
        "a[-1], [len(a)-1]"
      ],
      "metadata": {
        "colab": {
          "base_uri": "https://localhost:8080/"
        },
        "id": "s5__NDJM6ji9",
        "outputId": "b6ec74b0-326c-4d0b-9741-ddcd67cf9577"
      },
      "execution_count": 30,
      "outputs": [
        {
          "output_type": "execute_result",
          "data": {
            "text/plain": [
              "(500, [4])"
            ]
          },
          "metadata": {},
          "execution_count": 30
        }
      ]
    },
    {
      "cell_type": "markdown",
      "source": [
        "## 요소에 값 할당하기\n",
        "* element, 요소, 구성요소, 원소."
      ],
      "metadata": {
        "id": "2POavFDz68Fw"
      }
    },
    {
      "cell_type": "code",
      "source": [
        "a = [0] *5\n",
        "print(a)\n",
        "a[0] = 5\n",
        "a[1] = 13\n",
        "a[2] = 34\n",
        "a[3] = 88\n",
        "a[4] = 100\n",
        "print(a)\n",
        "# 원본의 값을 변경하기."
      ],
      "metadata": {
        "colab": {
          "base_uri": "https://localhost:8080/"
        },
        "id": "Np7wmeYt651a",
        "outputId": "a6e3be59-5444-4039-c158-5845daa2e666"
      },
      "execution_count": 35,
      "outputs": [
        {
          "output_type": "stream",
          "name": "stdout",
          "text": [
            "[0, 0, 0, 0, 0]\n",
            "[5, 13, 34, 88, 100]\n"
          ]
        }
      ]
    },
    {
      "cell_type": "code",
      "source": [
        "a[5] # 시퀀스 범위를 넘어선 인덱스를 검색 시 오류남."
      ],
      "metadata": {
        "colab": {
          "base_uri": "https://localhost:8080/",
          "height": 172
        },
        "id": "wOB_saae7j2D",
        "outputId": "4f00efbc-e5ce-4b73-abf9-5d24ff04feba"
      },
      "execution_count": 36,
      "outputs": [
        {
          "output_type": "error",
          "ename": "IndexError",
          "evalue": "ignored",
          "traceback": [
            "\u001b[0;31m---------------------------------------------------------------------------\u001b[0m",
            "\u001b[0;31mIndexError\u001b[0m                                Traceback (most recent call last)",
            "\u001b[0;32m<ipython-input-36-4a84d856522b>\u001b[0m in \u001b[0;36m<module>\u001b[0;34m\u001b[0m\n\u001b[0;32m----> 1\u001b[0;31m \u001b[0ma\u001b[0m\u001b[0;34m[\u001b[0m\u001b[0;36m5\u001b[0m\u001b[0;34m]\u001b[0m\u001b[0;34m\u001b[0m\u001b[0;34m\u001b[0m\u001b[0m\n\u001b[0m",
            "\u001b[0;31mIndexError\u001b[0m: list index out of range"
          ]
        }
      ]
    },
    {
      "cell_type": "markdown",
      "source": [
        "## del 시퀀스객체[인덱스]"
      ],
      "metadata": {
        "id": "TtRSxLQp_RNS"
      }
    },
    {
      "cell_type": "code",
      "source": [
        "print(a)\n",
        "del a[3]\n",
        "print(a)"
      ],
      "metadata": {
        "colab": {
          "base_uri": "https://localhost:8080/"
        },
        "id": "aSPayuZ671aX",
        "outputId": "c09e0638-a49d-422a-c951-d053005087e6"
      },
      "execution_count": 39,
      "outputs": [
        {
          "output_type": "stream",
          "name": "stdout",
          "text": [
            "[5, 13, 34, 88, 100]\n",
            "[5, 13, 34, 100]\n"
          ]
        }
      ]
    },
    {
      "cell_type": "code",
      "source": [
        "# 문자열, 튜플, 레인지 -> 읽기 전용"
      ],
      "metadata": {
        "id": "hjaNixUM70e6"
      },
      "execution_count": null,
      "outputs": []
    },
    {
      "cell_type": "markdown",
      "source": [
        "## 슬라이스"
      ],
      "metadata": {
        "id": "zuyBVlOt_iE5"
      }
    },
    {
      "cell_type": "code",
      "source": [
        "# 시퀀스객체[시작인덱스:끝인덱스]\n",
        "# 시퀀스객체[시작:], 시퀀스객체[:끝]\n",
        "# 시퀀스객체[시작:끝:증가폭]\n",
        "# 시퀀스객체[::증가폭]\n",
        "a = list(range(0,100,10))\n",
        "a"
      ],
      "metadata": {
        "colab": {
          "base_uri": "https://localhost:8080/"
        },
        "id": "HBeFrh7u_nWE",
        "outputId": "74680bc0-d4b2-4d75-a3e9-ea7e7e3bcb86"
      },
      "execution_count": 41,
      "outputs": [
        {
          "output_type": "execute_result",
          "data": {
            "text/plain": [
              "[0, 10, 20, 30, 40, 50, 60, 70, 80, 90]"
            ]
          },
          "metadata": {},
          "execution_count": 41
        }
      ]
    },
    {
      "cell_type": "code",
      "source": [
        "# 슬라이스는 원본에 영향을 미치지않고 사본을 만드는 방법\n",
        "a[0:4], len(a), a[0:10], a[0:100]\n",
        "# 인덱스 범위를 벗어난 수를 입력해도 슬라이스에서는 괜찮음."
      ],
      "metadata": {
        "colab": {
          "base_uri": "https://localhost:8080/"
        },
        "id": "nJlYzm2D_9Ez",
        "outputId": "206fe3f0-59d6-4423-acf1-281dbce5894c"
      },
      "execution_count": 46,
      "outputs": [
        {
          "output_type": "execute_result",
          "data": {
            "text/plain": [
              "([0, 10, 20, 30],\n",
              " 10,\n",
              " [0, 10, 20, 30, 40, 50, 60, 70, 80, 90],\n",
              " [0, 10, 20, 30, 40, 50, 60, 70, 80, 90])"
            ]
          },
          "metadata": {},
          "execution_count": 46
        }
      ]
    },
    {
      "cell_type": "code",
      "source": [
        "a[1:1] # 빈리스트"
      ],
      "metadata": {
        "colab": {
          "base_uri": "https://localhost:8080/"
        },
        "id": "naXVI3UgARnN",
        "outputId": "c95864e1-61be-4890-9256-8113837e112b"
      },
      "execution_count": 47,
      "outputs": [
        {
          "output_type": "execute_result",
          "data": {
            "text/plain": [
              "[]"
            ]
          },
          "metadata": {},
          "execution_count": 47
        }
      ]
    },
    {
      "cell_type": "code",
      "source": [
        "a[3:5]"
      ],
      "metadata": {
        "colab": {
          "base_uri": "https://localhost:8080/"
        },
        "id": "4EBNliUbAXKE",
        "outputId": "fd197df5-606d-4dfe-bb13-ef6bf37c3174"
      },
      "execution_count": 48,
      "outputs": [
        {
          "output_type": "execute_result",
          "data": {
            "text/plain": [
              "[30, 40]"
            ]
          },
          "metadata": {},
          "execution_count": 48
        }
      ]
    },
    {
      "cell_type": "code",
      "source": [
        "a[3:-1] , a[3:len(a)-1]"
      ],
      "metadata": {
        "colab": {
          "base_uri": "https://localhost:8080/"
        },
        "id": "-KSwJAPIAgQP",
        "outputId": "a7d78874-7ee6-48d7-9348-fda716df7d70"
      },
      "execution_count": 51,
      "outputs": [
        {
          "output_type": "execute_result",
          "data": {
            "text/plain": [
              "([30, 40, 50, 60, 70, 80], [30, 40, 50, 60, 70, 80])"
            ]
          },
          "metadata": {},
          "execution_count": 51
        }
      ]
    },
    {
      "cell_type": "code",
      "source": [
        "a[1:5:2]\n"
      ],
      "metadata": {
        "colab": {
          "base_uri": "https://localhost:8080/"
        },
        "id": "stPsFPvmAqlI",
        "outputId": "b292331b-6f66-4cf0-cfef-7026923d0069"
      },
      "execution_count": 52,
      "outputs": [
        {
          "output_type": "execute_result",
          "data": {
            "text/plain": [
              "[10, 30]"
            ]
          },
          "metadata": {},
          "execution_count": 52
        }
      ]
    },
    {
      "cell_type": "code",
      "source": [
        "a[:], a[0:len(a)]"
      ],
      "metadata": {
        "colab": {
          "base_uri": "https://localhost:8080/"
        },
        "id": "atl7r2zZBD6A",
        "outputId": "9945c2d1-a317-4147-aaf9-2af44e240b9c"
      },
      "execution_count": 55,
      "outputs": [
        {
          "output_type": "execute_result",
          "data": {
            "text/plain": [
              "([0, 10, 20, 30, 40, 50, 60, 70, 80, 90],\n",
              " [0, 10, 20, 30, 40, 50, 60, 70, 80, 90])"
            ]
          },
          "metadata": {},
          "execution_count": 55
        }
      ]
    },
    {
      "cell_type": "code",
      "source": [
        "a[:5], a[0:5]"
      ],
      "metadata": {
        "colab": {
          "base_uri": "https://localhost:8080/"
        },
        "id": "GM-DmVmoBQxf",
        "outputId": "e938746e-88c7-49e5-9adc-87da078281fd"
      },
      "execution_count": 56,
      "outputs": [
        {
          "output_type": "execute_result",
          "data": {
            "text/plain": [
              "([0, 10, 20, 30, 40], [0, 10, 20, 30, 40])"
            ]
          },
          "metadata": {},
          "execution_count": 56
        }
      ]
    },
    {
      "cell_type": "code",
      "source": [
        "a[::2], a[0:len(a):2]"
      ],
      "metadata": {
        "colab": {
          "base_uri": "https://localhost:8080/"
        },
        "id": "ZZZS38RIBXRh",
        "outputId": "a8b09fcf-2fd6-4e03-c235-26e5bab5bacc"
      },
      "execution_count": 57,
      "outputs": [
        {
          "output_type": "execute_result",
          "data": {
            "text/plain": [
              "([0, 20, 40, 60, 80], [0, 20, 40, 60, 80])"
            ]
          },
          "metadata": {},
          "execution_count": 57
        }
      ]
    },
    {
      "cell_type": "code",
      "source": [],
      "metadata": {
        "id": "dY9g0xefBfFa"
      },
      "execution_count": null,
      "outputs": []
    },
    {
      "cell_type": "markdown",
      "source": [
        "# 딕셔너리"
      ],
      "metadata": {
        "id": "681NRkNTDmkV"
      }
    },
    {
      "cell_type": "code",
      "source": [
        "d = {\n",
        "    \"key\" : \"value\"\n",
        "\n",
        "}"
      ],
      "metadata": {
        "id": "FvJQCvJ9DoSl"
      },
      "execution_count": null,
      "outputs": []
    },
    {
      "cell_type": "code",
      "source": [
        "young = {\n",
        "    \"말\" : \"적음\"\n",
        "   , \"체력\" : \"최하\"\n",
        "   , \"집\" : \"김포\"\n",
        "   , \"성별\" : \"여자\"\n",
        "   , \"좋아하는 언어\" : [\"SQL\", \"java script\"]\n",
        "}"
      ],
      "metadata": {
        "id": "ogw2f-eOEMI0"
      },
      "execution_count": 58,
      "outputs": []
    },
    {
      "cell_type": "code",
      "source": [
        "# key : value = 1:1\n",
        "kim = {\n",
        "    \"height\" : 170,\n",
        "    \"weight\" : 80,\n",
        "    \"height\" : 180\n",
        "} # 중괄호로 묶어야한다. \n",
        "kim\n",
        "# 키값이 중복될 경우 가장 최신의 값을 넣어준다."
      ],
      "metadata": {
        "colab": {
          "base_uri": "https://localhost:8080/"
        },
        "id": "XYk3SO0KElFZ",
        "outputId": "2563e95d-0916-4941-8d5d-fcb7d9ad3ba6"
      },
      "execution_count": 61,
      "outputs": [
        {
          "output_type": "execute_result",
          "data": {
            "text/plain": [
              "{'height': 180, 'weight': 80}"
            ]
          },
          "metadata": {},
          "execution_count": 61
        }
      ]
    },
    {
      "cell_type": "code",
      "source": [
        "# 리스트와 딕셔너리는 키값으로 들어갈 수 없다.\n",
        "# 튜플, 레인지는 가능"
      ],
      "metadata": {
        "id": "HX3qeVMSFCiN"
      },
      "execution_count": null,
      "outputs": []
    },
    {
      "cell_type": "code",
      "source": [
        "# 호출방법 딕셔너리[\"키값\"]\n",
        "kim[\"height\"]"
      ],
      "metadata": {
        "colab": {
          "base_uri": "https://localhost:8080/"
        },
        "id": "EKtRE7e6FkCy",
        "outputId": "9964766a-e5aa-42d2-f754-42c1ab03633e"
      },
      "execution_count": 62,
      "outputs": [
        {
          "output_type": "execute_result",
          "data": {
            "text/plain": [
              "180"
            ]
          },
          "metadata": {},
          "execution_count": 62
        }
      ]
    },
    {
      "cell_type": "code",
      "source": [
        "kim[\"salary\"] = 3000 # 값 추가\n",
        "kim"
      ],
      "metadata": {
        "colab": {
          "base_uri": "https://localhost:8080/"
        },
        "id": "wCQpZMYNFs3L",
        "outputId": "78413399-6076-4475-f64c-2398f80d8a06"
      },
      "execution_count": 64,
      "outputs": [
        {
          "output_type": "execute_result",
          "data": {
            "text/plain": [
              "{'height': 180, 'weight': 80, 'salary': 3000}"
            ]
          },
          "metadata": {},
          "execution_count": 64
        }
      ]
    },
    {
      "cell_type": "code",
      "source": [
        "kim[\"salary\"] = 4000 # 값 수정\n",
        "kim"
      ],
      "metadata": {
        "colab": {
          "base_uri": "https://localhost:8080/"
        },
        "id": "7_TRtOrmF0Ab",
        "outputId": "fe7d4a9c-fafb-4601-e05b-452b2acb5ad0"
      },
      "execution_count": 65,
      "outputs": [
        {
          "output_type": "execute_result",
          "data": {
            "text/plain": [
              "{'height': 180, 'weight': 80, 'salary': 4000}"
            ]
          },
          "metadata": {},
          "execution_count": 65
        }
      ]
    },
    {
      "cell_type": "code",
      "source": [
        "# 없는 키를 불러오려고하면 오류\n",
        "kim[\"IQ\"]"
      ],
      "metadata": {
        "colab": {
          "base_uri": "https://localhost:8080/",
          "height": 190
        },
        "id": "_cqZzHDIF7Rs",
        "outputId": "592516f5-d80e-4427-9b8b-cc672b98f2ea"
      },
      "execution_count": 66,
      "outputs": [
        {
          "output_type": "error",
          "ename": "KeyError",
          "evalue": "ignored",
          "traceback": [
            "\u001b[0;31m---------------------------------------------------------------------------\u001b[0m",
            "\u001b[0;31mKeyError\u001b[0m                                  Traceback (most recent call last)",
            "\u001b[0;32m<ipython-input-66-4e34e50bab3b>\u001b[0m in \u001b[0;36m<module>\u001b[0;34m\u001b[0m\n\u001b[1;32m      1\u001b[0m \u001b[0;31m# 없는 키를 불러오려고하면 오류\u001b[0m\u001b[0;34m\u001b[0m\u001b[0;34m\u001b[0m\u001b[0;34m\u001b[0m\u001b[0m\n\u001b[0;32m----> 2\u001b[0;31m \u001b[0mkim\u001b[0m\u001b[0;34m[\u001b[0m\u001b[0;34m\"IQ\"\u001b[0m\u001b[0;34m]\u001b[0m\u001b[0;34m\u001b[0m\u001b[0;34m\u001b[0m\u001b[0m\n\u001b[0m",
            "\u001b[0;31mKeyError\u001b[0m: 'IQ'"
          ]
        }
      ]
    },
    {
      "cell_type": "code",
      "source": [
        "\"IQ\" in kim\n",
        "# in의 기능 \n",
        "# 1, 시퀀스객체 (in) -> 요소검사\n",
        "# 2. 딕셔너리 (in) -> 키 검사\n",
        "# 3. for in -> 반복조건"
      ],
      "metadata": {
        "colab": {
          "base_uri": "https://localhost:8080/"
        },
        "id": "INJe-ZlDF_ID",
        "outputId": "c2012b99-7391-4fe0-dc19-55a113b186eb"
      },
      "execution_count": 67,
      "outputs": [
        {
          "output_type": "execute_result",
          "data": {
            "text/plain": [
              "False"
            ]
          },
          "metadata": {},
          "execution_count": 67
        }
      ]
    },
    {
      "cell_type": "code",
      "source": [
        "len(kim) # key의 개수\n",
        "# 딕셔너리에서는 모두 키를 통해 움직인다.\n",
        "# 딕셔너리를 list로 감싸주면 key를 원소로 가지는 리스트가 된다.\n",
        "list(kim)"
      ],
      "metadata": {
        "colab": {
          "base_uri": "https://localhost:8080/"
        },
        "id": "RiMsNTUPGNiu",
        "outputId": "ea1018d9-7962-48c9-ac59-d62c146f6a22"
      },
      "execution_count": 71,
      "outputs": [
        {
          "output_type": "execute_result",
          "data": {
            "text/plain": [
              "['height', 'weight', 'salary']"
            ]
          },
          "metadata": {},
          "execution_count": 71
        }
      ]
    },
    {
      "cell_type": "markdown",
      "source": [
        "# 조건문"
      ],
      "metadata": {
        "id": "MO8BEjbtHjhT"
      }
    },
    {
      "cell_type": "markdown",
      "source": [
        "## if"
      ],
      "metadata": {
        "id": "2zyTjN7THmGN"
      }
    },
    {
      "cell_type": "code",
      "source": [
        "switch = True  ## 조건문은 bool로 표현되는 모든 것이 들어갈 수 있다.\n",
        "if switch : \n",
        "  print(\"밝다\")"
      ],
      "metadata": {
        "colab": {
          "base_uri": "https://localhost:8080/"
        },
        "id": "hQxB5X8eHnr7",
        "outputId": "d5564acd-1781-4c22-c926-c03140569eae"
      },
      "execution_count": 72,
      "outputs": [
        {
          "output_type": "stream",
          "name": "stdout",
          "text": [
            "밝다\n"
          ]
        }
      ]
    },
    {
      "cell_type": "code",
      "source": [
        "temperature = 40\n",
        "if temperature > 38 :\n",
        "  print(\"덥다~\")"
      ],
      "metadata": {
        "colab": {
          "base_uri": "https://localhost:8080/"
        },
        "id": "JwcVrIAOH9IM",
        "outputId": "0720721c-ddde-407d-ddd9-9bd725aa8922"
      },
      "execution_count": 74,
      "outputs": [
        {
          "output_type": "stream",
          "name": "stdout",
          "text": [
            "덥다~\n"
          ]
        }
      ]
    },
    {
      "cell_type": "code",
      "source": [
        "temperature = 30\n",
        "if temperature > 38 :\n",
        "  print(\"덥다~\")"
      ],
      "metadata": {
        "id": "SCNsC1ROIMOt"
      },
      "execution_count": 76,
      "outputs": []
    },
    {
      "cell_type": "markdown",
      "source": [
        "## else"
      ],
      "metadata": {
        "id": "nZPjO4ghIOnK"
      }
    },
    {
      "cell_type": "code",
      "source": [
        "temperature = 30\n",
        "if temperature > 38 :\n",
        "  print(\"덥다~\")\n",
        "else : \n",
        "  print(\"안덥다\")"
      ],
      "metadata": {
        "colab": {
          "base_uri": "https://localhost:8080/"
        },
        "id": "TBKsqe-zIQji",
        "outputId": "7eeca408-85b9-4ebe-86cd-cb75295c2ccc"
      },
      "execution_count": 75,
      "outputs": [
        {
          "output_type": "stream",
          "name": "stdout",
          "text": [
            "안덥다\n"
          ]
        }
      ]
    },
    {
      "cell_type": "code",
      "source": [
        "name = \"김땡떙\"\n",
        "if name == \"김땡떙\" : \n",
        "  print(\"하이~\")"
      ],
      "metadata": {
        "colab": {
          "base_uri": "https://localhost:8080/"
        },
        "id": "XEjl1850Jfnc",
        "outputId": "2c9c6420-0e22-4ee9-d540-f5017a8d2bfa"
      },
      "execution_count": 77,
      "outputs": [
        {
          "output_type": "stream",
          "name": "stdout",
          "text": [
            "하이~\n"
          ]
        }
      ]
    },
    {
      "cell_type": "code",
      "source": [
        "if \"김\" in name : \n",
        "  print(\"김!\")"
      ],
      "metadata": {
        "colab": {
          "base_uri": "https://localhost:8080/"
        },
        "id": "ygKOKBtFJm2Q",
        "outputId": "85aa8b50-24b1-4dd8-e860-e189b897fb06"
      },
      "execution_count": 78,
      "outputs": [
        {
          "output_type": "stream",
          "name": "stdout",
          "text": [
            "김!\n"
          ]
        }
      ]
    },
    {
      "cell_type": "markdown",
      "source": [
        "## 삼항 연산자(조건부 표현식)"
      ],
      "metadata": {
        "id": "EFV5qa1uKIk7"
      }
    },
    {
      "cell_type": "code",
      "source": [
        "a = None\n",
        "b = True\n",
        "if b:\n",
        "  a= 10\n",
        "else :\n",
        "  a = 100\n",
        "\n",
        "a"
      ],
      "metadata": {
        "colab": {
          "base_uri": "https://localhost:8080/"
        },
        "id": "Rut9B1ORJtt4",
        "outputId": "c555de71-88e1-45f5-889f-f76f7d01b1fb"
      },
      "execution_count": 79,
      "outputs": [
        {
          "output_type": "execute_result",
          "data": {
            "text/plain": [
              "10"
            ]
          },
          "metadata": {},
          "execution_count": 79
        }
      ]
    },
    {
      "cell_type": "code",
      "source": [
        "a = 10 if b else 100 ## (True값) if (조건식) else (False 값)"
      ],
      "metadata": {
        "id": "yoNjQ2WVKSWk"
      },
      "execution_count": 80,
      "outputs": []
    },
    {
      "cell_type": "code",
      "source": [
        "#### else if\n",
        "a = \"환타\"\n",
        "\n",
        "if a == \"콜라\" : \n",
        "  print(\"코카콜라 인가요?\")\n",
        "elif a == \"환타\" : \n",
        "  print(\"파인애플맛 인가요?\")\n",
        "elif a == \"사이다\" : \n",
        "  print(\"칠성사이다 인가요?\")"
      ],
      "metadata": {
        "colab": {
          "base_uri": "https://localhost:8080/"
        },
        "id": "xDvoXkAmKlmw",
        "outputId": "0f314ef8-ec86-468a-e7a2-013edcd95161"
      },
      "execution_count": 82,
      "outputs": [
        {
          "output_type": "stream",
          "name": "stdout",
          "text": [
            "파인애플맛 인가요?\n"
          ]
        }
      ]
    },
    {
      "cell_type": "markdown",
      "source": [
        "## 반복문"
      ],
      "metadata": {
        "id": "XRaUQCxzN86Q"
      }
    },
    {
      "cell_type": "markdown",
      "source": [
        "### for"
      ],
      "metadata": {
        "id": "lpe5SveHOJXK"
      }
    },
    {
      "cell_type": "code",
      "source": [
        "for i in range(10) :\n",
        "  print(i, end='')\n"
      ],
      "metadata": {
        "colab": {
          "base_uri": "https://localhost:8080/"
        },
        "id": "uU5zzahiN_RC",
        "outputId": "089f8a46-05f2-40fc-df85-ca8d7aa6f3f6"
      },
      "execution_count": 84,
      "outputs": [
        {
          "output_type": "stream",
          "name": "stdout",
          "text": [
            "0123456789"
          ]
        }
      ]
    },
    {
      "cell_type": "code",
      "source": [
        "i = 100\n",
        "for i in range(10):\n",
        "  pass\n",
        "i"
      ],
      "metadata": {
        "colab": {
          "base_uri": "https://localhost:8080/"
        },
        "id": "oJLPFFvdObN-",
        "outputId": "d3431180-cc88-4080-de97-d6b82dfe86ad"
      },
      "execution_count": 86,
      "outputs": [
        {
          "output_type": "execute_result",
          "data": {
            "text/plain": [
              "9"
            ]
          },
          "metadata": {},
          "execution_count": 86
        }
      ]
    },
    {
      "cell_type": "code",
      "source": [
        "# range(n) => n회 반복 \n",
        "for i in \"hello world\" :  # range 가 아닌 시퀀스형태의 자료형? list -> v, string -> c\n",
        "  print(i,end=\"\")"
      ],
      "metadata": {
        "colab": {
          "base_uri": "https://localhost:8080/"
        },
        "id": "R2vf-2DyPF4x",
        "outputId": "7d6e0af6-a17e-4862-c3a8-040e22fdd15a"
      },
      "execution_count": 88,
      "outputs": [
        {
          "output_type": "stream",
          "name": "stdout",
          "text": [
            "hello world"
          ]
        }
      ]
    },
    {
      "cell_type": "code",
      "source": [
        "a = [\"배\", \"사과\", \"바나나\"]\n",
        "for i in a :  # \n",
        "  print(i,end=\"\")"
      ],
      "metadata": {
        "colab": {
          "base_uri": "https://localhost:8080/"
        },
        "id": "DYQT-e4fPKkz",
        "outputId": "33db80d9-6769-4bbc-9a86-f782a50e8312"
      },
      "execution_count": 89,
      "outputs": [
        {
          "output_type": "stream",
          "name": "stdout",
          "text": [
            "배사과바나나"
          ]
        }
      ]
    },
    {
      "cell_type": "code",
      "source": [
        "for i in reversed(a) : ## reversed(객체) -> 해당 객체를 반대 순서로 진행..ㅡ  \n",
        "  print(i,end=\"\")"
      ],
      "metadata": {
        "colab": {
          "base_uri": "https://localhost:8080/"
        },
        "id": "EiMsZiGEP1B3",
        "outputId": "a58f2cdd-f4ef-4fcf-c5f6-86b73420a669"
      },
      "execution_count": 90,
      "outputs": [
        {
          "output_type": "stream",
          "name": "stdout",
          "text": [
            "바나나사과배"
          ]
        }
      ]
    },
    {
      "cell_type": "markdown",
      "source": [
        "### while"
      ],
      "metadata": {
        "id": "3jGl_fWDQVcX"
      }
    },
    {
      "cell_type": "code",
      "source": [
        "for i in range(10):\n",
        "  print(i, end=\" \")"
      ],
      "metadata": {
        "id": "3Oj-t2IFQUPn"
      },
      "execution_count": null,
      "outputs": []
    },
    {
      "cell_type": "code",
      "source": [
        "i = 0\n",
        "while i < 10 :\n",
        "  print (i, end= \" \")\n",
        "  i += 1"
      ],
      "metadata": {
        "colab": {
          "base_uri": "https://localhost:8080/"
        },
        "id": "aXswkKZtQkQT",
        "outputId": "81deb3de-e67f-45ac-cb7a-c3c7b894ccfc"
      },
      "execution_count": 93,
      "outputs": [
        {
          "output_type": "stream",
          "name": "stdout",
          "text": [
            "0 1 2 3 4 5 6 7 8 9 "
          ]
        }
      ]
    },
    {
      "cell_type": "code",
      "source": [
        "'''\n",
        "for(i = 0; i< 10; i++) --> java,c\n",
        "\n",
        "'''"
      ],
      "metadata": {
        "id": "lN6StJv6Q1YB"
      },
      "execution_count": null,
      "outputs": []
    },
    {
      "cell_type": "code",
      "source": [
        "money = 100000\n",
        "hit = 0\n",
        "while money > 0:\n",
        "  money -= 10000\n",
        "  hit += 1\n",
        "  print(money , \"원 남았습니다.\" ,hit , \"대 맞았습니다.\")"
      ],
      "metadata": {
        "colab": {
          "base_uri": "https://localhost:8080/"
        },
        "id": "zbzJhiHmRQ6q",
        "outputId": "e4580ce6-8f61-4705-ee8f-73aa412daeaa"
      },
      "execution_count": 96,
      "outputs": [
        {
          "output_type": "stream",
          "name": "stdout",
          "text": [
            "90000 원 남았습니다. 1 대 맞았습니다.\n",
            "80000 원 남았습니다. 2 대 맞았습니다.\n",
            "70000 원 남았습니다. 3 대 맞았습니다.\n",
            "60000 원 남았습니다. 4 대 맞았습니다.\n",
            "50000 원 남았습니다. 5 대 맞았습니다.\n",
            "40000 원 남았습니다. 6 대 맞았습니다.\n",
            "30000 원 남았습니다. 7 대 맞았습니다.\n",
            "20000 원 남았습니다. 8 대 맞았습니다.\n",
            "10000 원 남았습니다. 9 대 맞았습니다.\n",
            "0 원 남았습니다. 10 대 맞았습니다.\n"
          ]
        }
      ]
    },
    {
      "cell_type": "markdown",
      "source": [
        "### break, continue"
      ],
      "metadata": {
        "id": "ImDYUwr9TMP4"
      }
    },
    {
      "cell_type": "code",
      "source": [
        "for i in range(1000) :\n",
        "  print(i, i ** 2)\n",
        "  if i ** 2 > 1000 :\n",
        "    break"
      ],
      "metadata": {
        "colab": {
          "base_uri": "https://localhost:8080/"
        },
        "id": "_QbI81tKSYu4",
        "outputId": "57d86bce-660d-4926-b614-db961288468b"
      },
      "execution_count": 97,
      "outputs": [
        {
          "output_type": "stream",
          "name": "stdout",
          "text": [
            "0 0\n",
            "1 1\n",
            "2 4\n",
            "3 9\n",
            "4 16\n",
            "5 25\n",
            "6 36\n",
            "7 49\n",
            "8 64\n",
            "9 81\n",
            "10 100\n",
            "11 121\n",
            "12 144\n",
            "13 169\n",
            "14 196\n",
            "15 225\n",
            "16 256\n",
            "17 289\n",
            "18 324\n",
            "19 361\n",
            "20 400\n",
            "21 441\n",
            "22 484\n",
            "23 529\n",
            "24 576\n",
            "25 625\n",
            "26 676\n",
            "27 729\n",
            "28 784\n",
            "29 841\n",
            "30 900\n",
            "31 961\n",
            "32 1024\n"
          ]
        }
      ]
    },
    {
      "cell_type": "code",
      "source": [
        "for i in range(1, 1000) :\n",
        "  if i % 2 == 0 :\n",
        "    continue\n",
        "  print(i, end = \" \")"
      ],
      "metadata": {
        "colab": {
          "base_uri": "https://localhost:8080/"
        },
        "id": "qUHLetMdSqTD",
        "outputId": "9dc879be-a5f8-49e7-f5dd-234c87e57b0b"
      },
      "execution_count": 100,
      "outputs": [
        {
          "output_type": "stream",
          "name": "stdout",
          "text": [
            "1 3 5 7 9 11 13 15 17 19 21 23 25 27 29 31 33 35 37 39 41 43 45 47 49 51 53 55 57 59 61 63 65 67 69 71 73 75 77 79 81 83 85 87 89 91 93 95 97 99 101 103 105 107 109 111 113 115 117 119 121 123 125 127 129 131 133 135 137 139 141 143 145 147 149 151 153 155 157 159 161 163 165 167 169 171 173 175 177 179 181 183 185 187 189 191 193 195 197 199 201 203 205 207 209 211 213 215 217 219 221 223 225 227 229 231 233 235 237 239 241 243 245 247 249 251 253 255 257 259 261 263 265 267 269 271 273 275 277 279 281 283 285 287 289 291 293 295 297 299 301 303 305 307 309 311 313 315 317 319 321 323 325 327 329 331 333 335 337 339 341 343 345 347 349 351 353 355 357 359 361 363 365 367 369 371 373 375 377 379 381 383 385 387 389 391 393 395 397 399 401 403 405 407 409 411 413 415 417 419 421 423 425 427 429 431 433 435 437 439 441 443 445 447 449 451 453 455 457 459 461 463 465 467 469 471 473 475 477 479 481 483 485 487 489 491 493 495 497 499 501 503 505 507 509 511 513 515 517 519 521 523 525 527 529 531 533 535 537 539 541 543 545 547 549 551 553 555 557 559 561 563 565 567 569 571 573 575 577 579 581 583 585 587 589 591 593 595 597 599 601 603 605 607 609 611 613 615 617 619 621 623 625 627 629 631 633 635 637 639 641 643 645 647 649 651 653 655 657 659 661 663 665 667 669 671 673 675 677 679 681 683 685 687 689 691 693 695 697 699 701 703 705 707 709 711 713 715 717 719 721 723 725 727 729 731 733 735 737 739 741 743 745 747 749 751 753 755 757 759 761 763 765 767 769 771 773 775 777 779 781 783 785 787 789 791 793 795 797 799 801 803 805 807 809 811 813 815 817 819 821 823 825 827 829 831 833 835 837 839 841 843 845 847 849 851 853 855 857 859 861 863 865 867 869 871 873 875 877 879 881 883 885 887 889 891 893 895 897 899 901 903 905 907 909 911 913 915 917 919 921 923 925 927 929 931 933 935 937 939 941 943 945 947 949 951 953 955 957 959 961 963 965 967 969 971 973 975 977 979 981 983 985 987 989 991 993 995 997 999 "
          ]
        }
      ]
    },
    {
      "cell_type": "code",
      "source": [
        "i = 0\n",
        "while True : \n",
        "  i += 1\n",
        "  print(i)\n",
        "  if i > 10 :\n",
        "    break"
      ],
      "metadata": {
        "colab": {
          "base_uri": "https://localhost:8080/"
        },
        "id": "UU9NiSajTQ1h",
        "outputId": "2d941f8f-1daf-4d5e-d117-3bf88db06c8d"
      },
      "execution_count": 101,
      "outputs": [
        {
          "output_type": "stream",
          "name": "stdout",
          "text": [
            "1\n",
            "2\n",
            "3\n",
            "4\n",
            "5\n",
            "6\n",
            "7\n",
            "8\n",
            "9\n",
            "10\n",
            "11\n"
          ]
        }
      ]
    },
    {
      "cell_type": "code",
      "source": [
        "money = 100000\n",
        "hit = 0\n",
        "while money > 0:\n",
        "  money -= 1000\n",
        "  print(money , \"원 남았습니다.\")\n",
        "  if money % 1000 == 0:\n",
        "    print(\"피했습니다!\")\n",
        "    continue\n",
        "  hit += 1\n",
        "  print(hit , \"대 맞았습니다.\")"
      ],
      "metadata": {
        "colab": {
          "base_uri": "https://localhost:8080/"
        },
        "id": "cnWV8c56Te5L",
        "outputId": "0aaec6fb-e5f0-4915-b333-a352c693c616"
      },
      "execution_count": 103,
      "outputs": [
        {
          "output_type": "stream",
          "name": "stdout",
          "text": [
            "99000 원 남았습니다.\n",
            "피했습니다!\n",
            "98000 원 남았습니다.\n",
            "피했습니다!\n",
            "97000 원 남았습니다.\n",
            "피했습니다!\n",
            "96000 원 남았습니다.\n",
            "피했습니다!\n",
            "95000 원 남았습니다.\n",
            "피했습니다!\n",
            "94000 원 남았습니다.\n",
            "피했습니다!\n",
            "93000 원 남았습니다.\n",
            "피했습니다!\n",
            "92000 원 남았습니다.\n",
            "피했습니다!\n",
            "91000 원 남았습니다.\n",
            "피했습니다!\n",
            "90000 원 남았습니다.\n",
            "피했습니다!\n",
            "89000 원 남았습니다.\n",
            "피했습니다!\n",
            "88000 원 남았습니다.\n",
            "피했습니다!\n",
            "87000 원 남았습니다.\n",
            "피했습니다!\n",
            "86000 원 남았습니다.\n",
            "피했습니다!\n",
            "85000 원 남았습니다.\n",
            "피했습니다!\n",
            "84000 원 남았습니다.\n",
            "피했습니다!\n",
            "83000 원 남았습니다.\n",
            "피했습니다!\n",
            "82000 원 남았습니다.\n",
            "피했습니다!\n",
            "81000 원 남았습니다.\n",
            "피했습니다!\n",
            "80000 원 남았습니다.\n",
            "피했습니다!\n",
            "79000 원 남았습니다.\n",
            "피했습니다!\n",
            "78000 원 남았습니다.\n",
            "피했습니다!\n",
            "77000 원 남았습니다.\n",
            "피했습니다!\n",
            "76000 원 남았습니다.\n",
            "피했습니다!\n",
            "75000 원 남았습니다.\n",
            "피했습니다!\n",
            "74000 원 남았습니다.\n",
            "피했습니다!\n",
            "73000 원 남았습니다.\n",
            "피했습니다!\n",
            "72000 원 남았습니다.\n",
            "피했습니다!\n",
            "71000 원 남았습니다.\n",
            "피했습니다!\n",
            "70000 원 남았습니다.\n",
            "피했습니다!\n",
            "69000 원 남았습니다.\n",
            "피했습니다!\n",
            "68000 원 남았습니다.\n",
            "피했습니다!\n",
            "67000 원 남았습니다.\n",
            "피했습니다!\n",
            "66000 원 남았습니다.\n",
            "피했습니다!\n",
            "65000 원 남았습니다.\n",
            "피했습니다!\n",
            "64000 원 남았습니다.\n",
            "피했습니다!\n",
            "63000 원 남았습니다.\n",
            "피했습니다!\n",
            "62000 원 남았습니다.\n",
            "피했습니다!\n",
            "61000 원 남았습니다.\n",
            "피했습니다!\n",
            "60000 원 남았습니다.\n",
            "피했습니다!\n",
            "59000 원 남았습니다.\n",
            "피했습니다!\n",
            "58000 원 남았습니다.\n",
            "피했습니다!\n",
            "57000 원 남았습니다.\n",
            "피했습니다!\n",
            "56000 원 남았습니다.\n",
            "피했습니다!\n",
            "55000 원 남았습니다.\n",
            "피했습니다!\n",
            "54000 원 남았습니다.\n",
            "피했습니다!\n",
            "53000 원 남았습니다.\n",
            "피했습니다!\n",
            "52000 원 남았습니다.\n",
            "피했습니다!\n",
            "51000 원 남았습니다.\n",
            "피했습니다!\n",
            "50000 원 남았습니다.\n",
            "피했습니다!\n",
            "49000 원 남았습니다.\n",
            "피했습니다!\n",
            "48000 원 남았습니다.\n",
            "피했습니다!\n",
            "47000 원 남았습니다.\n",
            "피했습니다!\n",
            "46000 원 남았습니다.\n",
            "피했습니다!\n",
            "45000 원 남았습니다.\n",
            "피했습니다!\n",
            "44000 원 남았습니다.\n",
            "피했습니다!\n",
            "43000 원 남았습니다.\n",
            "피했습니다!\n",
            "42000 원 남았습니다.\n",
            "피했습니다!\n",
            "41000 원 남았습니다.\n",
            "피했습니다!\n",
            "40000 원 남았습니다.\n",
            "피했습니다!\n",
            "39000 원 남았습니다.\n",
            "피했습니다!\n",
            "38000 원 남았습니다.\n",
            "피했습니다!\n",
            "37000 원 남았습니다.\n",
            "피했습니다!\n",
            "36000 원 남았습니다.\n",
            "피했습니다!\n",
            "35000 원 남았습니다.\n",
            "피했습니다!\n",
            "34000 원 남았습니다.\n",
            "피했습니다!\n",
            "33000 원 남았습니다.\n",
            "피했습니다!\n",
            "32000 원 남았습니다.\n",
            "피했습니다!\n",
            "31000 원 남았습니다.\n",
            "피했습니다!\n",
            "30000 원 남았습니다.\n",
            "피했습니다!\n",
            "29000 원 남았습니다.\n",
            "피했습니다!\n",
            "28000 원 남았습니다.\n",
            "피했습니다!\n",
            "27000 원 남았습니다.\n",
            "피했습니다!\n",
            "26000 원 남았습니다.\n",
            "피했습니다!\n",
            "25000 원 남았습니다.\n",
            "피했습니다!\n",
            "24000 원 남았습니다.\n",
            "피했습니다!\n",
            "23000 원 남았습니다.\n",
            "피했습니다!\n",
            "22000 원 남았습니다.\n",
            "피했습니다!\n",
            "21000 원 남았습니다.\n",
            "피했습니다!\n",
            "20000 원 남았습니다.\n",
            "피했습니다!\n",
            "19000 원 남았습니다.\n",
            "피했습니다!\n",
            "18000 원 남았습니다.\n",
            "피했습니다!\n",
            "17000 원 남았습니다.\n",
            "피했습니다!\n",
            "16000 원 남았습니다.\n",
            "피했습니다!\n",
            "15000 원 남았습니다.\n",
            "피했습니다!\n",
            "14000 원 남았습니다.\n",
            "피했습니다!\n",
            "13000 원 남았습니다.\n",
            "피했습니다!\n",
            "12000 원 남았습니다.\n",
            "피했습니다!\n",
            "11000 원 남았습니다.\n",
            "피했습니다!\n",
            "10000 원 남았습니다.\n",
            "피했습니다!\n",
            "9000 원 남았습니다.\n",
            "피했습니다!\n",
            "8000 원 남았습니다.\n",
            "피했습니다!\n",
            "7000 원 남았습니다.\n",
            "피했습니다!\n",
            "6000 원 남았습니다.\n",
            "피했습니다!\n",
            "5000 원 남았습니다.\n",
            "피했습니다!\n",
            "4000 원 남았습니다.\n",
            "피했습니다!\n",
            "3000 원 남았습니다.\n",
            "피했습니다!\n",
            "2000 원 남았습니다.\n",
            "피했습니다!\n",
            "1000 원 남았습니다.\n",
            "피했습니다!\n",
            "0 원 남았습니다.\n",
            "피했습니다!\n"
          ]
        }
      ]
    }
  ]
}