{
  "nbformat": 4,
  "nbformat_minor": 0,
  "metadata": {
    "colab": {
      "provenance": [],
      "toc_visible": true,
      "include_colab_link": true
    },
    "kernelspec": {
      "name": "python3",
      "display_name": "Python 3"
    },
    "language_info": {
      "name": "python"
    }
  },
  "cells": [
    {
      "cell_type": "markdown",
      "metadata": {
        "id": "view-in-github",
        "colab_type": "text"
      },
      "source": [
        "<a href=\"https://colab.research.google.com/github/hiid0726/Python_lym/blob/main/submission/hiid0726/ch02_02_%EB%AC%B8%EC%9E%90%EC%97%B4_ym.ipynb\" target=\"_parent\"><img src=\"https://colab.research.google.com/assets/colab-badge.svg\" alt=\"Open In Colab\"/></a>"
      ]
    },
    {
      "cell_type": "markdown",
      "source": [
        "# 문자열"
      ],
      "metadata": {
        "id": "SO7ojgWa_d34"
      }
    },
    {
      "cell_type": "markdown",
      "source": [
        "## 문자열 사용하기"
      ],
      "metadata": {
        "id": "Wq_Nv9Cf_hvx"
      }
    },
    {
      "cell_type": "code",
      "source": [
        "# 문자열 'Hello, world!'를 출력\n",
        "hello = \"Hello, world!\"\n",
        "print(hello)"
      ],
      "metadata": {
        "colab": {
          "base_uri": "https://localhost:8080/"
        },
        "id": "T__G8rT6_jH2",
        "outputId": "cf46ec40-f452-4d06-a709-6c69633cb3c4"
      },
      "execution_count": 1,
      "outputs": [
        {
          "output_type": "stream",
          "name": "stdout",
          "text": [
            "Hello, world!\n"
          ]
        }
      ]
    },
    {
      "cell_type": "code",
      "source": [
        "# 한글 문자열\n",
        "hello = \"안녕하세요\"\n",
        "print(hello)"
      ],
      "metadata": {
        "colab": {
          "base_uri": "https://localhost:8080/"
        },
        "id": "VGiSFZvJ_oK4",
        "outputId": "3ab0d48a-0996-4c13-c285-b150d3032979"
      },
      "execution_count": 2,
      "outputs": [
        {
          "output_type": "stream",
          "name": "stdout",
          "text": [
            "안녕하세요\n"
          ]
        }
      ]
    },
    {
      "cell_type": "code",
      "source": [
        "#  \" \"(큰따옴표)로 묶기\n",
        "hello = \"test\"\n",
        "print(hello)"
      ],
      "metadata": {
        "colab": {
          "base_uri": "https://localhost:8080/"
        },
        "id": "zsapMNOq_tPx",
        "outputId": "8279cee5-0865-4e98-e258-186cb5691632"
      },
      "execution_count": 3,
      "outputs": [
        {
          "output_type": "stream",
          "name": "stdout",
          "text": [
            "test\n"
          ]
        }
      ]
    },
    {
      "cell_type": "code",
      "source": [
        "# '''(작은따옴표 3개)로 묶거나 \"\"\"(큰따옴표 3개)로 묶기\n",
        "hello = ''' 이것도 된다 '''\n",
        "hello2 = \"\"\" 큰따옴표 \"\"\"\n",
        "print(hello), print(hello2)"
      ],
      "metadata": {
        "colab": {
          "base_uri": "https://localhost:8080/"
        },
        "id": "ojKnWfsm_2K7",
        "outputId": "86aae21e-1da8-4450-c325-880d2d0ed717"
      },
      "execution_count": 6,
      "outputs": [
        {
          "output_type": "stream",
          "name": "stdout",
          "text": [
            " 이것도 된다 \n",
            " 큰따옴표 \n"
          ]
        },
        {
          "output_type": "execute_result",
          "data": {
            "text/plain": [
              "(None, None)"
            ]
          },
          "metadata": {},
          "execution_count": 6
        }
      ]
    },
    {
      "cell_type": "markdown",
      "source": [
        "### 여러 줄로 된 문자열 사용하기"
      ],
      "metadata": {
        "id": "20xHUbPlAFCf"
      }
    },
    {
      "cell_type": "markdown",
      "source": [
        "* 이번에는 여러 줄로 된 문자열(multiline string)을 사용해보겠습니다. 다음과 같이 '''(작은따옴표 3개)로 시작하고 Hello, world!를 입력한 다음에 엔터 키를 누르면 다음 줄로 이동합니다. 이런 방식으로 문자열을 계속 입력하고 마지막 줄에서 '''로 닫습니다."
      ],
      "metadata": {
        "id": "zDxIhYj9AKmU"
      }
    },
    {
      "cell_type": "code",
      "source": [
        "hello = ''' \n",
        "줄바꿈 완전 가능\n",
        "우앙\n",
        "큰따옴표도 가능합니다\n",
        "'''\n",
        "print(hello)"
      ],
      "metadata": {
        "colab": {
          "base_uri": "https://localhost:8080/"
        },
        "id": "cyLICe6z_3Oe",
        "outputId": "7436fbd2-a819-480a-8591-c417bd9cddb7"
      },
      "execution_count": 10,
      "outputs": [
        {
          "output_type": "stream",
          "name": "stdout",
          "text": [
            " \n",
            "줄바꿈 완전 가능\n",
            "우앙\n",
            "큰따옴표도 가능합니다\n",
            "\n"
          ]
        }
      ]
    },
    {
      "cell_type": "markdown",
      "source": [
        "* 이처럼 여러 줄로 된 문자열은 '''(작은따옴표 3개)로 시작하여 '''로 끝납니다. 물론 \"\"\"(큰따옴표 3개)로 시작하여 \"\"\"로 끝내도 됩니다."
      ],
      "metadata": {
        "id": "D8wvAGQcAVCX"
      }
    },
    {
      "cell_type": "markdown",
      "source": [
        "### 문자열 안에 작은따옴표나 큰따옴표 포함하기"
      ],
      "metadata": {
        "id": "MTokV0hwAZdG"
      }
    },
    {
      "cell_type": "markdown",
      "source": [
        "* 그런데 문자열을 표현할 때 작은따옴표와 큰따옴표 중 한 가지로 통일하지 않고 여러 가지 방식을 사용할까요?\n",
        "* 문자열을 사용하다 보면 문자열 안에 작은따옴표나 큰따옴표를 넣어야 할 경우가 생깁니다. 이때는 작은따옴표와 큰따옴표를 사용하는 규칙이 달라집니다."
      ],
      "metadata": {
        "id": "BIPkGcHYAc87"
      }
    },
    {
      "cell_type": "code",
      "source": [
        "# 먼저 문자열 안에 '(작은따옴표)를 넣고 싶다면 문자열을 \"(큰따옴표)로 묶어줍니다. 이렇게 하면 문자열 안에 '를 그대로 사용할 수 있습니다.\n",
        "s = \"Python i'snt difficult\"\n",
        "print(s)"
      ],
      "metadata": {
        "colab": {
          "base_uri": "https://localhost:8080/"
        },
        "id": "cSCT0n5lAR9M",
        "outputId": "b0c9097a-f206-43c2-f511-7fc9e7cabf4d"
      },
      "execution_count": 12,
      "outputs": [
        {
          "output_type": "stream",
          "name": "stdout",
          "text": [
            "Python i'snt difficult\n"
          ]
        }
      ]
    },
    {
      "cell_type": "code",
      "source": [
        "# 반대로 문자열 안에 \"(큰따옴표)를 넣고 싶다면 문자열을 '(작은따옴표)로 묶어줍니다.\n",
        "s = '큰따옴표 사용 \"이러케\"' # 큰따옴표를 넣고싶으면 문자열은 작은따옴표로 묶고, 반대의 경우 큰따옴표로 묶는다.\n",
        "print(s)"
      ],
      "metadata": {
        "colab": {
          "base_uri": "https://localhost:8080/"
        },
        "id": "aavSkJD2AkVH",
        "outputId": "ea2c7372-3ae3-4e1f-c004-bd4f6dcbb9c5"
      },
      "execution_count": 13,
      "outputs": [
        {
          "output_type": "stream",
          "name": "stdout",
          "text": [
            "큰따옴표 사용 \"이러케\"\n"
          ]
        }
      ]
    },
    {
      "cell_type": "code",
      "source": [
        "# 하지만 작은따옴표 안에 작은따옴표를 넣거나 큰따옴표 안에 큰따옴표를 넣을 수는 없습니다.\n",
        "s = \"이런 경우에 큰따옴표는 안에 쓸수없어 \"??\"\"\n",
        "print(s)"
      ],
      "metadata": {
        "colab": {
          "base_uri": "https://localhost:8080/",
          "height": 136
        },
        "id": "wItvReRmAoW6",
        "outputId": "917d6cab-6970-4804-f276-c86b66b7a6c7"
      },
      "execution_count": 14,
      "outputs": [
        {
          "output_type": "error",
          "ename": "SyntaxError",
          "evalue": "ignored",
          "traceback": [
            "\u001b[0;36m  File \u001b[0;32m\"<ipython-input-14-5ad7f97dc720>\"\u001b[0;36m, line \u001b[0;32m2\u001b[0m\n\u001b[0;31m    s = \"이런 경우에 큰따옴표는 안에 쓸수없어 \"??\"\"\u001b[0m\n\u001b[0m                               ^\u001b[0m\n\u001b[0;31mSyntaxError\u001b[0m\u001b[0;31m:\u001b[0m invalid syntax\n"
          ]
        }
      ]
    },
    {
      "cell_type": "code",
      "source": [
        "p = \" 됩니다.\"\n",
        "s = \"이건 되나?\" + p + \"!!\"\n",
        "print(s)"
      ],
      "metadata": {
        "colab": {
          "base_uri": "https://localhost:8080/"
        },
        "id": "UHiHFf_p3lxG",
        "outputId": "06fb06c8-33cd-41cb-defa-f8940307dc2d"
      },
      "execution_count": 15,
      "outputs": [
        {
          "output_type": "stream",
          "name": "stdout",
          "text": [
            "이건 되나? 됩니다.!!\n"
          ]
        }
      ]
    },
    {
      "cell_type": "code",
      "source": [
        "# s = \"He said \"Python is easy \"\" # 이럼 안됨\n",
        "s = \"He said \\\"Python is easy \\\"\" # 이렇게 하면 됨\n",
        "print(s)"
      ],
      "metadata": {
        "colab": {
          "base_uri": "https://localhost:8080/"
        },
        "id": "Y_jsdKR_ArYj",
        "outputId": "a3a3e57b-db50-4a92-9229-201646c08685"
      },
      "execution_count": 21,
      "outputs": [
        {
          "output_type": "stream",
          "name": "stdout",
          "text": [
            "He said \"Python is easy \"\n"
          ]
        }
      ]
    },
    {
      "cell_type": "code",
      "source": [
        "# 하지만 여러 줄로 된 문자열은 작은따옴표 안에 작은따옴표와 큰따옴표를 둘 다 넣을 수 있습니다.\n",
        "# 또한, 큰따옴표 안에도 작은따옴표와 큰따옴표를 넣을 수 있습니다.\n",
        "s = \"\"\"이런 경우에 큰따옴표는 안에 쓸수없어 \"??\"\n",
        "차라리 이렇게 넣기\n",
        "\"\"\"\n",
        "print(s)"
      ],
      "metadata": {
        "colab": {
          "base_uri": "https://localhost:8080/"
        },
        "id": "CerfvpW9As8Z",
        "outputId": "498fb39d-2e82-4bd8-82d8-46478e9ad422"
      },
      "execution_count": 17,
      "outputs": [
        {
          "output_type": "stream",
          "name": "stdout",
          "text": [
            "이런 경우에 큰따옴표는 안에 쓸수없어 \"??\"\n",
            "차라리 이렇게 넣기\n",
            "\n"
          ]
        }
      ]
    },
    {
      "cell_type": "markdown",
      "source": [
        "### 문자열에 따옴표를 포함하는 다른 방법"
      ],
      "metadata": {
        "id": "Kknlt6d7A2c_"
      }
    },
    {
      "cell_type": "markdown",
      "source": [
        "* 작은따옴표 안에 작은따옴표를 넣을 수는 없을까요? 방법이 있습니다. 다음과 같이 작은따옴표 앞에 \\(역슬래시)를 붙이면 됩니다."
      ],
      "metadata": {
        "id": "6o-0n8hIA4pt"
      }
    },
    {
      "cell_type": "code",
      "source": [
        "s = 'Python isn\\'t defficult'\n",
        "print(s)"
      ],
      "metadata": {
        "colab": {
          "base_uri": "https://localhost:8080/"
        },
        "id": "tGy0jyuRA7Xv",
        "outputId": "e32827fe-d6b8-4bbe-8207-0d5b469e417f"
      },
      "execution_count": 18,
      "outputs": [
        {
          "output_type": "stream",
          "name": "stdout",
          "text": [
            "Python isn't defficult\n"
          ]
        }
      ]
    },
    {
      "cell_type": "markdown",
      "source": [
        "* 물론 큰따옴표도 \"He said \\\"Python is easy\\\"\"처럼 큰따옴표 앞에 \\를 붙이면 됩니다.\n",
        "* 이처럼 문자열 안에 ', \" 등의 특수 문자를 포함하기 위해 앞에 \\를 붙이는 방법을 이스케이프(escape)라고 부릅니다."
      ],
      "metadata": {
        "id": "JFpb2R8OBB66"
      }
    }
  ]
}