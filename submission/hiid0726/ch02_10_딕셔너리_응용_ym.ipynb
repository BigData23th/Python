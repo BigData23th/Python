{
  "nbformat": 4,
  "nbformat_minor": 0,
  "metadata": {
    "colab": {
      "provenance": [],
      "include_colab_link": true
    },
    "kernelspec": {
      "name": "python3",
      "display_name": "Python 3"
    },
    "language_info": {
      "name": "python"
    }
  },
  "cells": [
    {
      "cell_type": "markdown",
      "metadata": {
        "id": "view-in-github",
        "colab_type": "text"
      },
      "source": [
        "<a href=\"https://colab.research.google.com/github/hiid0726/Python_lym/blob/main/submission/hiid0726/ch02_10_%EB%94%95%EC%85%94%EB%84%88%EB%A6%AC_%EC%9D%91%EC%9A%A9_ym.ipynb\" target=\"_parent\"><img src=\"https://colab.research.google.com/assets/colab-badge.svg\" alt=\"Open In Colab\"/></a>"
      ]
    },
    {
      "cell_type": "markdown",
      "source": [
        "# 딕셔너리 응용"
      ],
      "metadata": {
        "id": "uZtKonlQ_bxw"
      }
    },
    {
      "cell_type": "markdown",
      "source": [
        "## 딕셔너리 조작하기"
      ],
      "metadata": {
        "id": "SKYN1_K5_duj"
      }
    },
    {
      "cell_type": "markdown",
      "source": [
        "### 딕셔너리에서 키의 값 저장하기"
      ],
      "metadata": {
        "id": "BIUDOX3P_fJx"
      }
    },
    {
      "cell_type": "markdown",
      "source": [
        "update(키=값)은 이름 그대로 딕셔너리에서 키의 값을 수정합니다. 예를 들어 딕셔너리가 x = {'a': 10}이라면 x.update(a=90)과 같이 키에서 작은따옴표 또는 큰따옴표를 빼고 키 이름과 값을 지정합니다."
      ],
      "metadata": {
        "id": "9Brl-EP-_our"
      }
    },
    {
      "cell_type": "code",
      "execution_count": 3,
      "metadata": {
        "colab": {
          "base_uri": "https://localhost:8080/"
        },
        "id": "ANRkulOQ-d22",
        "outputId": "7c14af14-d0ca-46d1-cdf9-054854ecc8c0"
      },
      "outputs": [
        {
          "output_type": "execute_result",
          "data": {
            "text/plain": [
              "{'a': 90, 'b': 20, 'c': 30, 'd': 40}"
            ]
          },
          "metadata": {},
          "execution_count": 3
        }
      ],
      "source": [
        "x = {\n",
        "    'a' : 90\n",
        "    ,'b' : 20\n",
        "    ,'c' : 30\n",
        "    ,'d' : 40\n",
        "\n",
        "}\n",
        "x"
      ]
    },
    {
      "cell_type": "code",
      "source": [
        "x['a'] = 100"
      ],
      "metadata": {
        "id": "N7lScRgw6JWe"
      },
      "execution_count": 4,
      "outputs": []
    },
    {
      "cell_type": "code",
      "source": [
        "## 위와 같다..\n",
        "x.update(a=50)\n",
        "x"
      ],
      "metadata": {
        "colab": {
          "base_uri": "https://localhost:8080/"
        },
        "id": "pxQ7ZHHk6Mf9",
        "outputId": "8aab50a7-8c1c-4d63-8e94-d048b11630d6"
      },
      "execution_count": 5,
      "outputs": [
        {
          "output_type": "execute_result",
          "data": {
            "text/plain": [
              "{'a': 50, 'b': 20, 'c': 30, 'd': 40}"
            ]
          },
          "metadata": {},
          "execution_count": 5
        }
      ]
    },
    {
      "cell_type": "markdown",
      "source": [
        "만약 딕셔너리에 키가 없으면 키-값 쌍을 추가합니다. 딕셔너리 x에는 키 'e'가 없으므로 x.update(e=50)을 실행하면 'e': 50을 추가합니다."
      ],
      "metadata": {
        "id": "EAm_Zpct_uPK"
      }
    },
    {
      "cell_type": "code",
      "source": [
        "x.update(e=50)\n",
        "x"
      ],
      "metadata": {
        "colab": {
          "base_uri": "https://localhost:8080/"
        },
        "id": "Y94MYml8_rjq",
        "outputId": "d6ac75bb-73f3-4f19-c031-2b295aaa44b0"
      },
      "execution_count": 7,
      "outputs": [
        {
          "output_type": "execute_result",
          "data": {
            "text/plain": [
              "{'a': 50, 'b': 20, 'c': 30, 'd': 40, 'e': 50}"
            ]
          },
          "metadata": {},
          "execution_count": 7
        }
      ]
    },
    {
      "cell_type": "code",
      "source": [
        "[i for i in x] # i에는 키값이 들어간다,"
      ],
      "metadata": {
        "id": "ZG448PR77FyN"
      },
      "execution_count": null,
      "outputs": []
    },
    {
      "cell_type": "code",
      "source": [
        "[x.update(**[i:i]) for i in x] # 딕셔너리 언팩킹"
      ],
      "metadata": {
        "colab": {
          "base_uri": "https://localhost:8080/",
          "height": 136
        },
        "id": "_PL3XFNW6fHh",
        "outputId": "f1fb3033-bbb8-4dc9-dcbe-4aa48e5f9350"
      },
      "execution_count": 15,
      "outputs": [
        {
          "output_type": "error",
          "ename": "SyntaxError",
          "evalue": "ignored",
          "traceback": [
            "\u001b[0;36m  File \u001b[0;32m\"<ipython-input-15-5eb19e6848fd>\"\u001b[0;36m, line \u001b[0;32m1\u001b[0m\n\u001b[0;31m    [x.update(**[i:i]) for i in x] # 딕셔너리 언팩킹\u001b[0m\n\u001b[0m                  ^\u001b[0m\n\u001b[0;31mSyntaxError\u001b[0m\u001b[0;31m:\u001b[0m invalid syntax\n"
          ]
        }
      ]
    },
    {
      "cell_type": "markdown",
      "source": [
        "update는 키-값 쌍 여러 개를 콤마로 구분해서 넣어주면 값을 한꺼번에 수정할 수 있습니다. 이때도 키가 있으면 해당 키의 값을 수정하고 없으면 키-값 쌍을 추가합니다.\n"
      ],
      "metadata": {
        "id": "9_hlLcsu_xQt"
      }
    },
    {
      "cell_type": "code",
      "source": [
        "x.update(a = 900, f = 60)\n",
        "x"
      ],
      "metadata": {
        "colab": {
          "base_uri": "https://localhost:8080/"
        },
        "id": "1XHXIdt-_wDF",
        "outputId": "8fa1525b-6d16-4000-93fd-455ad3f25f54"
      },
      "execution_count": 16,
      "outputs": [
        {
          "output_type": "execute_result",
          "data": {
            "text/plain": [
              "{'a': 900, 'b': 20, 'c': 30, 'd': 40, 'e': 50, 'f': 60}"
            ]
          },
          "metadata": {},
          "execution_count": 16
        }
      ]
    },
    {
      "cell_type": "markdown",
      "source": [
        "update(키=값)은 키가 문자열일 때만 사용할 수 있습니다. 만약 키가 숫자일 경우에는 update(딕셔너리)처럼 딕셔너리를 넣어서 값을 수정할 수 있습니다."
      ],
      "metadata": {
        "id": "hBF_IeHL_2AO"
      }
    },
    {
      "cell_type": "code",
      "source": [
        "y = {1 : \"one\", 2: \"two\"}\n",
        "y"
      ],
      "metadata": {
        "colab": {
          "base_uri": "https://localhost:8080/"
        },
        "id": "cL2ShtdU_0e6",
        "outputId": "5e4f7900-20ed-43d2-f1e4-1c81ac9f50bc"
      },
      "execution_count": 17,
      "outputs": [
        {
          "output_type": "execute_result",
          "data": {
            "text/plain": [
              "{1: 'one', 2: 'two'}"
            ]
          },
          "metadata": {},
          "execution_count": 17
        }
      ]
    },
    {
      "cell_type": "code",
      "source": [
        "y.update(1=50) ## 키값이 숫자이면 update 불가"
      ],
      "metadata": {
        "colab": {
          "base_uri": "https://localhost:8080/",
          "height": 136
        },
        "id": "FOftI4NS7o3y",
        "outputId": "b955dd33-d33b-4954-a08c-edddf5932a18"
      },
      "execution_count": 18,
      "outputs": [
        {
          "output_type": "error",
          "ename": "SyntaxError",
          "evalue": "ignored",
          "traceback": [
            "\u001b[0;36m  File \u001b[0;32m\"<ipython-input-18-41b15d154da2>\"\u001b[0;36m, line \u001b[0;32m1\u001b[0m\n\u001b[0;31m    y.update(1=50)\u001b[0m\n\u001b[0m             ^\u001b[0m\n\u001b[0;31mSyntaxError\u001b[0m\u001b[0;31m:\u001b[0m expression cannot contain assignment, perhaps you meant \"==\"?\n"
          ]
        }
      ]
    },
    {
      "cell_type": "code",
      "source": [
        "y.update({1:one, 3:three})"
      ],
      "metadata": {
        "colab": {
          "base_uri": "https://localhost:8080/",
          "height": 172
        },
        "id": "ZK3mrs4A70PI",
        "outputId": "e5d3654b-26bc-46ae-af31-5511588068c6"
      },
      "execution_count": 20,
      "outputs": [
        {
          "output_type": "error",
          "ename": "NameError",
          "evalue": "ignored",
          "traceback": [
            "\u001b[0;31m---------------------------------------------------------------------------\u001b[0m",
            "\u001b[0;31mNameError\u001b[0m                                 Traceback (most recent call last)",
            "\u001b[0;32m<ipython-input-20-8fac490e264e>\u001b[0m in \u001b[0;36m<module>\u001b[0;34m\u001b[0m\n\u001b[0;32m----> 1\u001b[0;31m \u001b[0my\u001b[0m\u001b[0;34m.\u001b[0m\u001b[0mupdate\u001b[0m\u001b[0;34m(\u001b[0m\u001b[0;34m{\u001b[0m\u001b[0;36m1\u001b[0m\u001b[0;34m:\u001b[0m\u001b[0mone\u001b[0m\u001b[0;34m,\u001b[0m \u001b[0;36m3\u001b[0m\u001b[0;34m:\u001b[0m\u001b[0mthree\u001b[0m\u001b[0;34m}\u001b[0m\u001b[0;34m)\u001b[0m\u001b[0;34m\u001b[0m\u001b[0;34m\u001b[0m\u001b[0m\n\u001b[0m",
            "\u001b[0;31mNameError\u001b[0m: name 'one' is not defined"
          ]
        }
      ]
    },
    {
      "cell_type": "markdown",
      "source": [
        "다른 방법으로는 리스트와 튜플을 이용하는 방법도 있습니다. update(리스트), update(튜플)은 리스트와 튜플로 값을 수정합니다. 여기서 리스트는 [[키1, 값1], [키2, 값2]] 형식으로 키와 값을 리스트로 만들고 이 리스트를 다시 리스트 안에 넣어서 키-값 쌍을 나열해줍니다(튜플도 같은 형식)."
      ],
      "metadata": {
        "id": "5VtWrCh3_7vP"
      }
    },
    {
      "cell_type": "code",
      "source": [
        "y.update([[2,'TWO'],[4,'FOUR'],[5,'FIVE']])\n",
        "y"
      ],
      "metadata": {
        "colab": {
          "base_uri": "https://localhost:8080/"
        },
        "id": "pr8rwq2b_5gd",
        "outputId": "47a4b94c-b02f-4643-888c-b624409fcf44"
      },
      "execution_count": 26,
      "outputs": [
        {
          "output_type": "execute_result",
          "data": {
            "text/plain": [
              "{1: 'one', 2: 'TWO', 4: 'FOUR', 5: 'FIVE'}"
            ]
          },
          "metadata": {},
          "execution_count": 26
        }
      ]
    },
    {
      "cell_type": "markdown",
      "source": [
        "### 딕셔너리에서 키-값 쌍 삭제하기"
      ],
      "metadata": {
        "id": "rjg_vRhrAAhe"
      }
    },
    {
      "cell_type": "markdown",
      "source": [
        "pop(키)는 딕셔너리에서 특정 키-값 쌍을 삭제한 뒤 삭제한 값을 반환합니다."
      ],
      "metadata": {
        "id": "uIYzUtc4AFYe"
      }
    },
    {
      "cell_type": "code",
      "source": [
        "x = {\n",
        "    'a' : 90\n",
        "    ,'b' : 20\n",
        "    ,'c' : 30\n",
        "    ,'d' : 40\n",
        "}\n",
        "print(x)"
      ],
      "metadata": {
        "colab": {
          "base_uri": "https://localhost:8080/"
        },
        "id": "QkGVNWTi_-XC",
        "outputId": "e8d401e4-0008-4db2-f438-e5b275828649"
      },
      "execution_count": 27,
      "outputs": [
        {
          "output_type": "stream",
          "name": "stdout",
          "text": [
            "{'a': 90, 'b': 20, 'c': 30, 'd': 40}\n"
          ]
        }
      ]
    },
    {
      "cell_type": "code",
      "source": [
        "print(x.pop('a'))\n",
        "## 딕셔너리에서 팝을 사용하려면 키값을 지정해줘야한다."
      ],
      "metadata": {
        "colab": {
          "base_uri": "https://localhost:8080/"
        },
        "id": "28NhiMvp9NTp",
        "outputId": "69b8ded6-1fc5-494d-ad47-e5a5834da553"
      },
      "execution_count": 28,
      "outputs": [
        {
          "output_type": "stream",
          "name": "stdout",
          "text": [
            "90\n"
          ]
        }
      ]
    },
    {
      "cell_type": "code",
      "source": [
        "print(x.pop('e'))\n",
        "## 없는 키를 지정하면 오류"
      ],
      "metadata": {
        "colab": {
          "base_uri": "https://localhost:8080/",
          "height": 172
        },
        "id": "ltHDkQ69AIYQ",
        "outputId": "15617822-1c92-4c9d-9f54-886118c9854d"
      },
      "execution_count": 29,
      "outputs": [
        {
          "output_type": "error",
          "ename": "KeyError",
          "evalue": "ignored",
          "traceback": [
            "\u001b[0;31m---------------------------------------------------------------------------\u001b[0m",
            "\u001b[0;31mKeyError\u001b[0m                                  Traceback (most recent call last)",
            "\u001b[0;32m<ipython-input-29-520af093004e>\u001b[0m in \u001b[0;36m<module>\u001b[0;34m\u001b[0m\n\u001b[0;32m----> 1\u001b[0;31m \u001b[0mprint\u001b[0m\u001b[0;34m(\u001b[0m\u001b[0mx\u001b[0m\u001b[0;34m.\u001b[0m\u001b[0mpop\u001b[0m\u001b[0;34m(\u001b[0m\u001b[0;34m'e'\u001b[0m\u001b[0;34m)\u001b[0m\u001b[0;34m)\u001b[0m\u001b[0;34m\u001b[0m\u001b[0;34m\u001b[0m\u001b[0m\n\u001b[0m",
            "\u001b[0;31mKeyError\u001b[0m: 'e'"
          ]
        }
      ]
    },
    {
      "cell_type": "code",
      "source": [
        "print(x.pop('e',0)) ## 하지만 기본값을 지정해주면 없어도 오류는 안남!"
      ],
      "metadata": {
        "colab": {
          "base_uri": "https://localhost:8080/"
        },
        "id": "rq6T29Qs9ayU",
        "outputId": "a5b89558-936f-4715-de43-5905242a6ee7"
      },
      "execution_count": 30,
      "outputs": [
        {
          "output_type": "stream",
          "name": "stdout",
          "text": [
            "0\n"
          ]
        }
      ]
    },
    {
      "cell_type": "markdown",
      "source": [
        "pop(키, 기본값)처럼 기본값을 지정하면 딕셔너리에 키가 있을 때는 해당 키-값 쌍을 삭제한 뒤 삭제한 값을 반환하지만 키가 없을 때는 기본값만 반환합니다."
      ],
      "metadata": {
        "id": "48JxDyUXALn0"
      }
    },
    {
      "cell_type": "code",
      "source": [
        "del x['b']\n",
        "x"
      ],
      "metadata": {
        "colab": {
          "base_uri": "https://localhost:8080/"
        },
        "id": "F6fBaMUvAJHm",
        "outputId": "e5820dc8-511d-428f-b5fb-58f725f99aab"
      },
      "execution_count": 31,
      "outputs": [
        {
          "output_type": "execute_result",
          "data": {
            "text/plain": [
              "{'c': 30, 'd': 40}"
            ]
          },
          "metadata": {},
          "execution_count": 31
        }
      ]
    },
    {
      "cell_type": "markdown",
      "source": [
        "pop 대신 del로 특정 키-값 쌍을 삭제할 수도 있습니다. 이때는 [ ]에 키를 지정하여 del을 사용합니다."
      ],
      "metadata": {
        "id": "Bcv9hNp2Eg6t"
      }
    },
    {
      "cell_type": "code",
      "source": [],
      "metadata": {
        "colab": {
          "base_uri": "https://localhost:8080/"
        },
        "id": "tMJq_WL2ANZj",
        "outputId": "2beb002a-edd2-4d4d-b9d1-7f194c660928"
      },
      "execution_count": null,
      "outputs": [
        {
          "output_type": "execute_result",
          "data": {
            "text/plain": [
              "{'b': 20, 'c': 30, 'd': 40}"
            ]
          },
          "metadata": {},
          "execution_count": 9
        }
      ]
    },
    {
      "cell_type": "markdown",
      "source": [
        "### 딕셔너리의 모든 키-값 쌍을 삭제하기"
      ],
      "metadata": {
        "id": "bCqy8pb3Epoh"
      }
    },
    {
      "cell_type": "code",
      "source": [
        "# clear()는 딕셔너리의 모든 키-값 쌍을 삭제합니다.\n",
        "x.clear()\n",
        "print(x)"
      ],
      "metadata": {
        "colab": {
          "base_uri": "https://localhost:8080/"
        },
        "id": "K2g0_umAEkxU",
        "outputId": "90e68914-35af-4ba1-bc26-0f5843f87224"
      },
      "execution_count": 32,
      "outputs": [
        {
          "output_type": "stream",
          "name": "stdout",
          "text": [
            "{}\n"
          ]
        }
      ]
    },
    {
      "cell_type": "code",
      "source": [
        "x = {\n",
        "    'a' : 90\n",
        "    ,'b' : 20\n",
        "    ,'c' : 30\n",
        "    ,'d' : 40\n",
        "}\n",
        "print(x)"
      ],
      "metadata": {
        "colab": {
          "base_uri": "https://localhost:8080/"
        },
        "id": "fZQMzbQz9wfT",
        "outputId": "dd20afeb-9881-4635-929a-b45d82b97c2b"
      },
      "execution_count": 33,
      "outputs": [
        {
          "output_type": "stream",
          "name": "stdout",
          "text": [
            "{'a': 90, 'b': 20, 'c': 30, 'd': 40}\n"
          ]
        }
      ]
    },
    {
      "cell_type": "markdown",
      "source": [
        "### 딕셔너리에서 키의 값을 가져오기"
      ],
      "metadata": {
        "id": "KBpOPiqOEt2L"
      }
    },
    {
      "cell_type": "code",
      "source": [
        "# get(키)는 딕셔너리에서 특정 키의 값을 가져옵니다.\n",
        "x.get('a')"
      ],
      "metadata": {
        "colab": {
          "base_uri": "https://localhost:8080/"
        },
        "id": "VuYhWgB3EsJD",
        "outputId": "553889d4-e6b3-4767-f3c4-cde4824e56a2"
      },
      "execution_count": 34,
      "outputs": [
        {
          "output_type": "execute_result",
          "data": {
            "text/plain": [
              "90"
            ]
          },
          "metadata": {},
          "execution_count": 34
        }
      ]
    },
    {
      "cell_type": "markdown",
      "source": [
        "get(키, 기본값)처럼 기본값을 지정하면 딕셔너리에 키가 있을 때는 해당 키의 값을 반환하지만 키가 없을 때는 기본값을 반환합니다."
      ],
      "metadata": {
        "id": "eLNx2cw3E3od"
      }
    },
    {
      "cell_type": "code",
      "source": [
        "print(x.get('e')) ## 없는 키는 Nonee\n",
        "print(x.get('e',0)) ## 기본값 지정시 키가 있으면 키값, 없으면 기본값 출력"
      ],
      "metadata": {
        "colab": {
          "base_uri": "https://localhost:8080/"
        },
        "id": "w3K8xktbE1SW",
        "outputId": "67030619-b208-41d1-f206-6d993a72ae22"
      },
      "execution_count": 36,
      "outputs": [
        {
          "output_type": "stream",
          "name": "stdout",
          "text": [
            "None\n",
            "0\n"
          ]
        }
      ]
    },
    {
      "cell_type": "markdown",
      "source": [
        "### 딕셔너리에서 키-값 쌍을 모두 가져오기"
      ],
      "metadata": {
        "id": "5fw2zFKAE686"
      }
    },
    {
      "cell_type": "markdown",
      "source": [
        "딕셔너리는 키와 값을 가져오는 다양한 메서드를 제공합니다.\n",
        "\n",
        "* items: 키-값 쌍을 모두 가져옴\n",
        "* keys: 키를 모두 가져옴\n",
        "* values: 값을 모두 가져옴"
      ],
      "metadata": {
        "id": "tQ-QAdDOE9Qk"
      }
    },
    {
      "cell_type": "code",
      "source": [
        "# items()는 딕셔너리의 키-값 쌍을 모두 가져옵니다.\n",
        "print(x)\n",
        "x.items()"
      ],
      "metadata": {
        "colab": {
          "base_uri": "https://localhost:8080/"
        },
        "id": "QN-GyGFgE5LN",
        "outputId": "86740ac6-7c0a-4ebb-f1d4-b42edfb68ff7"
      },
      "execution_count": 37,
      "outputs": [
        {
          "output_type": "stream",
          "name": "stdout",
          "text": [
            "{'a': 90, 'b': 20, 'c': 30, 'd': 40}\n"
          ]
        },
        {
          "output_type": "execute_result",
          "data": {
            "text/plain": [
              "dict_items([('a', 90), ('b', 20), ('c', 30), ('d', 40)])"
            ]
          },
          "metadata": {},
          "execution_count": 37
        }
      ]
    },
    {
      "cell_type": "code",
      "source": [
        "for i in x.items():\n",
        "  print(i)"
      ],
      "metadata": {
        "colab": {
          "base_uri": "https://localhost:8080/"
        },
        "id": "-2jlVXrR_D6F",
        "outputId": "68a29ec6-9f96-4487-fc07-515bbe8d6f4b"
      },
      "execution_count": 38,
      "outputs": [
        {
          "output_type": "stream",
          "name": "stdout",
          "text": [
            "('a', 90)\n",
            "('b', 20)\n",
            "('c', 30)\n",
            "('d', 40)\n"
          ]
        }
      ]
    },
    {
      "cell_type": "code",
      "source": [
        "for k, v in x.items():\n",
        "  print(k)\n",
        "  print(v)"
      ],
      "metadata": {
        "colab": {
          "base_uri": "https://localhost:8080/"
        },
        "id": "3au5pDuC_H5C",
        "outputId": "e0bb7fb1-ff08-4643-8c25-942b453be6f5"
      },
      "execution_count": 39,
      "outputs": [
        {
          "output_type": "stream",
          "name": "stdout",
          "text": [
            "a\n",
            "90\n",
            "b\n",
            "20\n",
            "c\n",
            "30\n",
            "d\n",
            "40\n"
          ]
        }
      ]
    },
    {
      "cell_type": "code",
      "source": [
        "# keys()는 키를 모두 가져옵니다.\n",
        "for k in x.keys():\n",
        "  print(k)"
      ],
      "metadata": {
        "colab": {
          "base_uri": "https://localhost:8080/"
        },
        "id": "z5Cn2RDuFCel",
        "outputId": "623f3f8c-2213-4675-9b67-b8761eabd82b"
      },
      "execution_count": 41,
      "outputs": [
        {
          "output_type": "stream",
          "name": "stdout",
          "text": [
            "a\n",
            "b\n",
            "c\n",
            "d\n"
          ]
        }
      ]
    },
    {
      "cell_type": "code",
      "source": [
        "# values()는 값을 모두 가져옵니다.\n",
        "x.values()"
      ],
      "metadata": {
        "colab": {
          "base_uri": "https://localhost:8080/"
        },
        "id": "i935UdgcFGaR",
        "outputId": "51245eda-acba-41f3-cfcd-e30272de787a"
      },
      "execution_count": 43,
      "outputs": [
        {
          "output_type": "execute_result",
          "data": {
            "text/plain": [
              "dict_values([90, 20, 30, 40])"
            ]
          },
          "metadata": {},
          "execution_count": 43
        }
      ]
    },
    {
      "cell_type": "markdown",
      "source": [
        "## 반복문으로 딕셔너리의 키-값 쌍을 모두 출력하기"
      ],
      "metadata": {
        "id": "V5v9lyEoFNZE"
      }
    },
    {
      "cell_type": "code",
      "source": [],
      "metadata": {
        "colab": {
          "base_uri": "https://localhost:8080/"
        },
        "id": "VU36vMVBFKMh",
        "outputId": "1038432a-ac95-46d8-b5d7-d28c443447fd"
      },
      "execution_count": null,
      "outputs": [
        {
          "output_type": "stream",
          "name": "stdout",
          "text": [
            "a b c d "
          ]
        }
      ]
    },
    {
      "cell_type": "markdown",
      "source": [
        "for i in x:처럼 for 반복문에 딕셔너리를 지정한 뒤에 print로 변수 i를 출력해보면 값은 출력되지 않고 키만 출력됩니다. 그럼 키와 값을 모두 출력하려면 어떻게 해야 할까요?\n",
        "\n",
        "이때는 for in 뒤에 딕셔너리를 지정하고 items를 사용해야 합니다.\n",
        "\n",
        "```\n",
        "for 키, 값 in 딕셔너리.items():\n",
        "     반복할 코드\n",
        "```"
      ],
      "metadata": {
        "id": "RfLcd88MFYr6"
      }
    },
    {
      "cell_type": "code",
      "source": [],
      "metadata": {
        "colab": {
          "base_uri": "https://localhost:8080/"
        },
        "id": "TWsTCUr0FWTZ",
        "outputId": "ab85c929-526a-457b-cd48-5b49ea80f169"
      },
      "execution_count": null,
      "outputs": [
        {
          "output_type": "stream",
          "name": "stdout",
          "text": [
            "a 10\n",
            "b 20\n",
            "c 30\n",
            "d 40\n"
          ]
        }
      ]
    },
    {
      "cell_type": "markdown",
      "source": [
        "`for key, value in x.items():`는 딕셔너리 x에서 키-값 쌍을 꺼내서 키는 key에 값은 value에 저장하고, 꺼낼 때마다 코드를 반복합니다. 따라서 print로 key와 value를 출력하면 키-값 쌍을 모두 출력할 수 있습니다."
      ],
      "metadata": {
        "id": "n__sxlkrFglx"
      }
    },
    {
      "cell_type": "markdown",
      "source": [
        "### 딕셔너리의 키만 출력하기"
      ],
      "metadata": {
        "id": "ErHv6usqFluk"
      }
    },
    {
      "cell_type": "code",
      "source": [],
      "metadata": {
        "colab": {
          "base_uri": "https://localhost:8080/"
        },
        "id": "FXG5YkAaFduL",
        "outputId": "41278ed4-8958-4779-c89d-1bf12d380a90"
      },
      "execution_count": null,
      "outputs": [
        {
          "output_type": "stream",
          "name": "stdout",
          "text": [
            "a b c d "
          ]
        }
      ]
    },
    {
      "cell_type": "code",
      "source": [],
      "metadata": {
        "colab": {
          "base_uri": "https://localhost:8080/"
        },
        "id": "veekIedSFusf",
        "outputId": "18f6586a-8edc-447a-fe0a-064fad7fc425"
      },
      "execution_count": null,
      "outputs": [
        {
          "output_type": "stream",
          "name": "stdout",
          "text": [
            "a b c d "
          ]
        }
      ]
    },
    {
      "cell_type": "markdown",
      "source": [
        "### 딕셔너리의 값만 출력하기"
      ],
      "metadata": {
        "id": "QXxnJW6TFzj0"
      }
    },
    {
      "cell_type": "code",
      "source": [],
      "metadata": {
        "colab": {
          "base_uri": "https://localhost:8080/"
        },
        "id": "a0byY123FwdO",
        "outputId": "16effa87-1d83-4da2-f115-213886c1d8ae"
      },
      "execution_count": null,
      "outputs": [
        {
          "output_type": "stream",
          "name": "stdout",
          "text": [
            "10 20 30 40 "
          ]
        }
      ]
    },
    {
      "cell_type": "markdown",
      "source": [
        "## 딕셔너리 안에서 딕셔너리 사용하기"
      ],
      "metadata": {
        "id": "SQWf1aONIu34"
      }
    },
    {
      "cell_type": "markdown",
      "source": [
        "딕셔너리는 값 부분에 다시 딕셔너리가 계속 들어갈 수 있습니다.\n",
        "\n",
        "* `딕셔너리 = {키1: {키A: 값A}, 키2: {키B: 값B}}`"
      ],
      "metadata": {
        "id": "2A5RdBk3IxQl"
      }
    },
    {
      "cell_type": "code",
      "source": [
        "a = {\n",
        "    \"삼성전자\" : \n",
        "     {\n",
        "        \"대주주\" : \"이재용\"\n",
        "        ,\"순위\" : 1\n",
        "        ,\"취급품목\" {\n",
        "            \"갤럭시\" : 10000\n",
        "            ,\"냉장고\" : 20000\n",
        "        }\n",
        "    }\n",
        "     ,\"송송전자\" : {\n",
        "         \"대주주\" : \"김송송\"\n",
        "         ,\"순위\" : 100\n",
        "         ,\"취급품목\" {\n",
        "            \"손목시계\" : 10\n",
        "        }\n",
        "     }\n",
        "}\n",
        "a"
      ],
      "metadata": {
        "colab": {
          "base_uri": "https://localhost:8080/",
          "height": 136
        },
        "id": "KqG8iE5GF3LU",
        "outputId": "35690c6e-8da3-40a7-dc4e-abe3880c47ea"
      },
      "execution_count": 47,
      "outputs": [
        {
          "output_type": "error",
          "ename": "SyntaxError",
          "evalue": "ignored",
          "traceback": [
            "\u001b[0;36m  File \u001b[0;32m\"<ipython-input-47-6673b85ba76a>\"\u001b[0;36m, line \u001b[0;32m6\u001b[0m\n\u001b[0;31m    ,\"취급품목\" {\u001b[0m\n\u001b[0m            ^\u001b[0m\n\u001b[0;31mSyntaxError\u001b[0m\u001b[0;31m:\u001b[0m invalid syntax\n"
          ]
        }
      ]
    },
    {
      "cell_type": "markdown",
      "source": [
        "중첩 딕셔너리는 계층형 데이터를 저장할 때 유용합니다.\n",
        "\n",
        "딕셔너리 안에 들어있는 딕셔너리에 접근하려면 딕셔너리 뒤에 [ ](대괄호)를 단계만큼 붙이고 키를 지정해주면 됩니다.\n",
        "\n",
        "* `딕셔너리[키][키]`\n",
        "* `딕셔너리[키][키] = 값`"
      ],
      "metadata": {
        "id": "YdxNleWUI7ET"
      }
    },
    {
      "cell_type": "code",
      "source": [
        "a[\"삼성전자\"][\"대주주\"]\n",
        "a[\"삼성전자\"][\"취급품목\"][\"갤럭시\"] ## 단계별로 들어간다."
      ],
      "metadata": {
        "id": "VyFQdn02AVvz"
      },
      "execution_count": null,
      "outputs": []
    },
    {
      "cell_type": "markdown",
      "source": [
        "### 딕셔너리의 할당과 복사"
      ],
      "metadata": {
        "id": "KgwO1-BeAoPj"
      }
    },
    {
      "cell_type": "code",
      "source": [
        "a = list(range(10))\n",
        "b = a.copy()"
      ],
      "metadata": {
        "id": "A66hMV_TAsmS"
      },
      "execution_count": 49,
      "outputs": []
    },
    {
      "cell_type": "code",
      "source": [
        "a.append('b')\n",
        "a,b"
      ],
      "metadata": {
        "colab": {
          "base_uri": "https://localhost:8080/"
        },
        "id": "yXumSo2DA1Bi",
        "outputId": "ab50d291-4646-45f5-f562-cf1073405d6a"
      },
      "execution_count": 51,
      "outputs": [
        {
          "output_type": "execute_result",
          "data": {
            "text/plain": [
              "([0, 1, 2, 3, 4, 5, 6, 7, 8, 9, 'b', 'b'], [0, 1, 2, 3, 4, 5, 6, 7, 8, 9])"
            ]
          },
          "metadata": {},
          "execution_count": 51
        }
      ]
    },
    {
      "cell_type": "code",
      "source": [
        "c = {'a':1, 'b':2, 'c':{'d':3}}"
      ],
      "metadata": {
        "id": "wo4KTv3ZA5PF"
      },
      "execution_count": 53,
      "outputs": []
    },
    {
      "cell_type": "code",
      "source": [],
      "metadata": {
        "id": "3S3m1HglBK0Z"
      },
      "execution_count": null,
      "outputs": []
    }
  ]
}