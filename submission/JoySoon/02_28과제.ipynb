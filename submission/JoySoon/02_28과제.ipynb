{
  "nbformat": 4,
  "nbformat_minor": 0,
  "metadata": {
    "colab": {
      "provenance": [],
      "authorship_tag": "ABX9TyMRSrsm9SbF+fpUOHK5dyYT",
      "include_colab_link": true
    },
    "kernelspec": {
      "name": "python3",
      "display_name": "Python 3"
    },
    "language_info": {
      "name": "python"
    }
  },
  "cells": [
    {
      "cell_type": "markdown",
      "metadata": {
        "id": "view-in-github",
        "colab_type": "text"
      },
      "source": [
        "<a href=\"https://colab.research.google.com/github/JoySoon/Python_BigData23th/blob/main/submission/JoySoon/02_28%EA%B3%BC%EC%A0%9C.ipynb\" target=\"_parent\"><img src=\"https://colab.research.google.com/assets/colab-badge.svg\" alt=\"Open In Colab\"/></a>"
      ]
    },
    {
      "cell_type": "markdown",
      "source": [
        "# STAR\n",
        "## Situation (상황)\n",
        "* 점심시간이 되어 점심먹으러 갔습니다.\n",
        "## Task (과제)\n",
        "* 강사님께서 갔다온 식당의 메뉴와 간판을 사진으로 찍고 소감을 적으라는 과제를 내셨습니다.\n",
        "## Action (행동)\n",
        "* 어제 지하 1층에 있었던 가성비 뷔페 식당이 생각나 팀원들과 함께 점심 먹으러 그곳으로 갔습니다.\n",
        "## Result (결과)\n",
        "* 대체적으로 만족스러웠지만 닭튀김과 소떡이 다 떨어져 조금 실망스러웠습니다.\n",
        "\n",
        "![식당간판](https://i.imgur.com/iAx7Fr8.jpg)\n",
        "![메뉴](https://i.imgur.com/5V9UdBu.jpg)\n",
        "\n"
      ],
      "metadata": {
        "id": "kdeE863cZLGl"
      }
    }
  ]
}