{
  "nbformat": 4,
  "nbformat_minor": 0,
  "metadata": {
    "colab": {
      "provenance": [],
      "include_colab_link": true
    },
    "kernelspec": {
      "name": "python3",
      "display_name": "Python 3"
    },
    "language_info": {
      "name": "python"
    }
  },
  "cells": [
    {
      "cell_type": "markdown",
      "metadata": {
        "id": "view-in-github",
        "colab_type": "text"
      },
      "source": [
        "<a href=\"https://colab.research.google.com/github/whataLIN/Bdata23th/blob/main/ch04_02_%EB%82%A0%EC%A7%9C%EC%99%80_%EC%8B%9C%EA%B0%84.ipynb\" target=\"_parent\"><img src=\"https://colab.research.google.com/assets/colab-badge.svg\" alt=\"Open In Colab\"/></a>"
      ]
    },
    {
      "cell_type": "markdown",
      "source": [
        "# 날짜/시간"
      ],
      "metadata": {
        "id": "lBBnXFmbZXEW"
      }
    },
    {
      "cell_type": "markdown",
      "source": [
        "파이썬으로 프로그래밍을 하다보면 날짜와 시간 처리를 해야 하는 경우가 자주 생깁니다. 여기서는 날짜와 시간을 표현하는 time과 datetime 모듈을 소개하겠습니다.\n",
        "\n"
      ],
      "metadata": {
        "id": "Ui8b9t97Za9b"
      }
    },
    {
      "cell_type": "markdown",
      "source": [
        "## time 모듈로 현재 시간 구하기"
      ],
      "metadata": {
        "id": "SQjfLwHJZcaY"
      }
    },
    {
      "cell_type": "markdown",
      "source": [
        "먼저 시간을 표현하는 time 모듈입니다. 다음과 같이 time 모듈의 time 함수를 호출하면 1970년 1월 1일 0시 0분 0초 이후 경과한 시간을 초단위로 반환합니다. 시간대는 UTC(Universal Time Coordinated, 협정 세계시)를 사용합니다.\n",
        "\n"
      ],
      "metadata": {
        "id": "1ybHwoSLZeO2"
      }
    },
    {
      "cell_type": "code",
      "execution_count": null,
      "metadata": {
        "colab": {
          "base_uri": "https://localhost:8080/"
        },
        "id": "k04USPUEZUWz",
        "outputId": "20fa6b19-617e-420e-cb0a-60e70145f87e"
      },
      "outputs": [
        {
          "output_type": "execute_result",
          "data": {
            "text/plain": [
              "1678176579.4057496"
            ]
          },
          "metadata": {},
          "execution_count": 1
        }
      ],
      "source": [
        "import time\n",
        "\n",
        "time.time()"
      ]
    },
    {
      "cell_type": "markdown",
      "source": [
        "## 날짜와 시간 형태로 변환하기"
      ],
      "metadata": {
        "id": "pOwgiAn2Zh7S"
      }
    },
    {
      "cell_type": "markdown",
      "source": [
        "time 모듈의 localtime 함수를 사용하면 time에서 반환한 값을 날짜와 시간 형태로 변환해줍니다. 특히 localtime이라는 이름 그대로 현재 지역의 시간대를 사용합니다. 우리나라에서 실행했다면 UTC에 9시간을 더한 KST(Korea Standard Time, 한국 표준시)를 사용합니다(UTC+09:00).\n",
        "\n",
        "* time.localtime(초)"
      ],
      "metadata": {
        "id": "8HPJxZo6Zkh8"
      }
    },
    {
      "cell_type": "code",
      "source": [
        "time.localtime(time.time())"
      ],
      "metadata": {
        "colab": {
          "base_uri": "https://localhost:8080/"
        },
        "id": "Q70fGpcFZj8Y",
        "outputId": "3ef2df23-237b-4732-bc74-550d26241694"
      },
      "execution_count": null,
      "outputs": [
        {
          "output_type": "execute_result",
          "data": {
            "text/plain": [
              "time.struct_time(tm_year=2023, tm_mon=3, tm_mday=7, tm_hour=8, tm_min=10, tm_sec=13, tm_wday=1, tm_yday=66, tm_isdst=0)"
            ]
          },
          "metadata": {},
          "execution_count": 2
        }
      ]
    },
    {
      "cell_type": "markdown",
      "source": [
        "`여기서 tm_wday는 요일(월요일~일요일, 0~6), tm_yday는 1월 1일부터 경과한 일수, tm_isdst는 서머타임 여부입니다.`\n",
        "\n"
      ],
      "metadata": {
        "id": "A0Zu0IZXZz0Y"
      }
    },
    {
      "cell_type": "markdown",
      "source": [
        "## 날짜/시간 포맷에 맞춰서 출력하기"
      ],
      "metadata": {
        "id": "Ws5c3Pn8ZtXq"
      }
    },
    {
      "cell_type": "markdown",
      "source": [
        "time.localtime으로 만든 객체는 time.strftime 함수를 사용하여 원하는 날짜/시간 포맷으로 출력할 수 있습니다.\n",
        "\n"
      ],
      "metadata": {
        "id": "oWgXauOlZ3Rc"
      }
    },
    {
      "cell_type": "markdown",
      "source": [
        "* time.strftime('포맷', 시간객체)\n"
      ],
      "metadata": {
        "id": "c2VYHIbKZ4iy"
      }
    },
    {
      "cell_type": "code",
      "source": [
        "time.strftime('%Y-%m-%d',time.localtime(time.time()))      #4글자, 2글자, 2글자 년월일"
      ],
      "metadata": {
        "colab": {
          "base_uri": "https://localhost:8080/",
          "height": 35
        },
        "id": "BO8TNKfzZ3rE",
        "outputId": "a75cc01b-669b-4109-9670-8a18f901ecf2"
      },
      "execution_count": null,
      "outputs": [
        {
          "output_type": "execute_result",
          "data": {
            "text/plain": [
              "'2023-03-07'"
            ],
            "application/vnd.google.colaboratory.intrinsic+json": {
              "type": "string"
            }
          },
          "metadata": {},
          "execution_count": 4
        }
      ]
    },
    {
      "cell_type": "code",
      "source": [
        "time.strftime('%c',time.localtime(time.time()))      #4글자, 2글자, 2글자 년월일"
      ],
      "metadata": {
        "colab": {
          "base_uri": "https://localhost:8080/",
          "height": 35
        },
        "id": "BHCWlFdcZ8BJ",
        "outputId": "97fddae4-1d01-4049-a2b3-2162ba79c448"
      },
      "execution_count": null,
      "outputs": [
        {
          "output_type": "execute_result",
          "data": {
            "text/plain": [
              "'Tue Mar  7 08:12:45 2023'"
            ],
            "application/vnd.google.colaboratory.intrinsic+json": {
              "type": "string"
            }
          },
          "metadata": {},
          "execution_count": 5
        }
      ]
    },
    {
      "cell_type": "markdown",
      "source": [
        "### 날짜/시간 포맷 코드\n"
      ],
      "metadata": {
        "id": "hS9VRGCoaQHp"
      }
    },
    {
      "cell_type": "markdown",
      "source": [
        "|코드|설명|예|\n",
        "|-|-|-|\n",
        "|%a|요일 줄임말|Sun, Mon, ... Sat|\n",
        "|%A|요일|Sunday, Monday, ..., Saturday|\n",
        "|%w|요일을 숫자로 표시, 월요일~일요일, 0~6|0, 1, ..., 6|\n",
        "|%d|일|01, 02, ..., 31|\n",
        "|%b|월 줄임말|Jan, Feb, ..., Dec|\n",
        "|%B|월|January, February, …, December|\n",
        "|%m|숫자 월|01, 02, ..., 12|\n",
        "|%y|두 자릿수 연도|01, 02, ..., 99|\n",
        "|%Y|네 자릿수 연도|0001, 0002, ..., 2017, 2018, 9999|\n",
        "|%H|시간(24시간)|00, 01, ..., 23|\n",
        "|%I|시간(12시간)|01, 02, ..., 12|\n",
        "|%p|AM, PM|AM, PM|\n",
        "|%M|분|00, 01, ..., 59|\n",
        "|%S|초|00, 01, ..., 59|\n",
        "|%Z|시간대|대한민국 표준시|\n",
        "|%j|1월 1일부터 경과한 일수|001, 002, ..., 366|\n",
        "|%U|1년중 주차, 월요일이 한 주의 시작으로|00, 01, ..., 53|\n",
        "|%W|1년중 주차, 월요일이 한 주의 시작으로|00, 01, ..., 53|\n",
        "|%c|날짜, 요일, 시간을 출력, 현재 시간대 기준|Sat May 19 11:14:27 2018|\n",
        "|%x|날짜를 출력, 현재 시간대 기준|05/19/18|\n",
        "|%X|시간을 출력, 현재 시간대 기준|'11:44:22'|"
      ],
      "metadata": {
        "id": "ceUquRB-bBh0"
      }
    },
    {
      "cell_type": "code",
      "source": [
        "from time import sleep\n",
        "\n",
        "sleep(10)\n",
        "print(\"10초대기\")"
      ],
      "metadata": {
        "colab": {
          "base_uri": "https://localhost:8080/"
        },
        "id": "i_uHk-DTIoCu",
        "outputId": "bfb07c12-0f4c-4d85-a6a2-2156f0e152e8"
      },
      "execution_count": null,
      "outputs": [
        {
          "output_type": "stream",
          "name": "stdout",
          "text": [
            "10초대기\n"
          ]
        }
      ]
    },
    {
      "cell_type": "markdown",
      "source": [
        "### datetime 모듈로 현재 날짜와 시간 구하기"
      ],
      "metadata": {
        "id": "wlpMFuSvbDrT"
      }
    },
    {
      "cell_type": "markdown",
      "source": [
        "datetime.datetime으로 현재 날짜와 시간을 구할 때는 today 메서드를 사용합니다(현재 시간대 기준, KST).\n",
        "\n",
        "* datetime.datetime.today()"
      ],
      "metadata": {
        "id": "cERMMsGLbFyy"
      }
    },
    {
      "cell_type": "code",
      "source": [
        "# date, time 둘 다 다루는 패키지\n",
        "\n",
        "from datetime import datetime\n",
        "\n",
        "datetime.today()    #현재 컴퓨터시간 기준\n",
        "\n"
      ],
      "metadata": {
        "colab": {
          "base_uri": "https://localhost:8080/"
        },
        "id": "WlwVQ9vhZ8s_",
        "outputId": "068ff051-ca4f-4ad2-da59-ff4e9aa8cdce"
      },
      "execution_count": null,
      "outputs": [
        {
          "output_type": "execute_result",
          "data": {
            "text/plain": [
              "datetime.datetime(2023, 3, 7, 8, 16, 26, 960196)"
            ]
          },
          "metadata": {},
          "execution_count": 9
        }
      ]
    },
    {
      "cell_type": "markdown",
      "source": [
        "만약 datetime 모듈로 현재 시간을 구할 때 UTC를 기준으로 구하고 싶다면 now 메서드에 pytz 모듈로 시간대를 지정해주어야 합니다.\n",
        "\n",
        "* datetime.datetime.now(시간대객체)"
      ],
      "metadata": {
        "id": "31tumMbHbLMF"
      }
    },
    {
      "cell_type": "code",
      "source": [
        "# UTC기준\n",
        "import pytz\n",
        "\n",
        "datetime.now(pytz.timezone('UTC'))"
      ],
      "metadata": {
        "colab": {
          "base_uri": "https://localhost:8080/"
        },
        "id": "ryVfnysRbJ5x",
        "outputId": "fb7bc6d5-eea6-4015-9a08-a6eea05b4a87"
      },
      "execution_count": null,
      "outputs": [
        {
          "output_type": "execute_result",
          "data": {
            "text/plain": [
              "datetime.datetime(2023, 3, 7, 8, 16, 54, 232394, tzinfo=<UTC>)"
            ]
          },
          "metadata": {},
          "execution_count": 13
        }
      ]
    },
    {
      "cell_type": "code",
      "source": [
        "datetime.now(pytz.timezone('Asia/Seoul'))"
      ],
      "metadata": {
        "colab": {
          "base_uri": "https://localhost:8080/"
        },
        "id": "aF3rfjzUbQnl",
        "outputId": "12584f2c-60cf-4768-95a8-98c5f688bd82"
      },
      "execution_count": null,
      "outputs": [
        {
          "output_type": "execute_result",
          "data": {
            "text/plain": [
              "datetime.datetime(2023, 3, 7, 17, 17, 31, 667440, tzinfo=<DstTzInfo 'Asia/Seoul' KST+9:00:00 STD>)"
            ]
          },
          "metadata": {},
          "execution_count": 14
        }
      ]
    },
    {
      "cell_type": "markdown",
      "source": [
        "### 특정 날짜와 시간으로 객체 만들기\n",
        "\n",
        "또는, datetime.datetime에 연, 월, 일, 시, 분, 초, 마이크로초를 넣어서 객체를 만들 수도 있습니다.\n",
        "\n",
        "* datetime.datetime(year, month, day, hour=0, minute=0, second=0, microsecond=0)"
      ],
      "metadata": {
        "id": "7abexDuDbXGj"
      }
    },
    {
      "cell_type": "code",
      "source": [
        "print(datetime(2023,3,7,5,18,0,0))\n",
        "print(datetime(2023,3,7,5,18,0))\n",
        "print(datetime(2023,3,7,5,18))\n",
        "print(datetime(2023,3,7,5))\n",
        "print(datetime(2023,3,7))\n"
      ],
      "metadata": {
        "colab": {
          "base_uri": "https://localhost:8080/"
        },
        "id": "rzD8nMDzbdMv",
        "outputId": "0bf28353-e634-48d5-ee9c-5ff370ecf38b"
      },
      "execution_count": null,
      "outputs": [
        {
          "output_type": "stream",
          "name": "stdout",
          "text": [
            "2023-03-07 05:18:00\n",
            "2023-03-07 05:18:00\n",
            "2023-03-07 05:18:00\n",
            "2023-03-07 05:00:00\n",
            "2023-03-07 00:00:00\n"
          ]
        }
      ]
    },
    {
      "cell_type": "markdown",
      "source": [
        "### 문자열로 날짜/시간 객체 만들기"
      ],
      "metadata": {
        "id": "WinuUyMTbgok"
      }
    },
    {
      "cell_type": "markdown",
      "source": [
        "strptime 메서드를 사용하면 문자열 형태의 날짜를 datetime.datetime 객체로 만들 수 있습니다. 이때는 날짜/시간 포맷을 지정해줘야 합니다.\n",
        "\n",
        "* datetime.datetime.strptime('날짜문자열', '포맷')\n"
      ],
      "metadata": {
        "id": "Ow-M2fULbilR"
      }
    },
    {
      "cell_type": "code",
      "source": [
        "datetime.strptime(\"2023-03-07\", '%Y-%m-%d') #문자열을 파싱해 원하는 포맷으로 변경"
      ],
      "metadata": {
        "colab": {
          "base_uri": "https://localhost:8080/"
        },
        "id": "7Rn7HkwUbduf",
        "outputId": "d32950f0-5044-42cd-ec5e-1ab8d01df61e"
      },
      "execution_count": null,
      "outputs": [
        {
          "output_type": "execute_result",
          "data": {
            "text/plain": [
              "datetime.datetime(2023, 3, 7, 0, 0)"
            ]
          },
          "metadata": {},
          "execution_count": 21
        }
      ]
    },
    {
      "cell_type": "markdown",
      "source": [
        "### 날짜/시간 객체를 문자열로 만들기"
      ],
      "metadata": {
        "id": "8tLfO9nPbnHj"
      }
    },
    {
      "cell_type": "markdown",
      "source": [
        "반대로 datetime 객체를 문자열로 만들 수도 있습니다. 이때는 strftime 메서드를 사용합니다.\n",
        "\n",
        "* datetime객체.strftime('포맷')"
      ],
      "metadata": {
        "id": "yRGOLghybsA2"
      }
    },
    {
      "cell_type": "code",
      "source": [
        "d=datetime(2023,3,7,5,18,0,0)\n",
        "print(d.strftime('%Y-%m-%d'), \"          \", d.strftime('%c'))     #시간을 str 포맷으로 변경"
      ],
      "metadata": {
        "colab": {
          "base_uri": "https://localhost:8080/"
        },
        "id": "LluszLzpbqWw",
        "outputId": "17259277-747a-4624-b7c8-ad1a4ba9ed2c"
      },
      "execution_count": null,
      "outputs": [
        {
          "output_type": "stream",
          "name": "stdout",
          "text": [
            "2023-03-07            Tue Mar  7 05:18:00 2023\n"
          ]
        }
      ]
    },
    {
      "cell_type": "markdown",
      "source": [
        "### 날짜와 시간 속성에 접근하기"
      ],
      "metadata": {
        "id": "eWEHL1EGbwlG"
      }
    },
    {
      "cell_type": "markdown",
      "source": [
        "datetime.datetime 객체는 연( year), 월(month), 일(day), 시(hour), 분(minute), 초(second), 마이크로초(microsecond) 속성을 따로 가져올 수 있습니다."
      ],
      "metadata": {
        "id": "PYk0ySoZbySW"
      }
    },
    {
      "cell_type": "code",
      "source": [
        "d.year, d.month, d.day, d.hour, d.minute, d.second, d.microsecond\n"
      ],
      "metadata": {
        "colab": {
          "base_uri": "https://localhost:8080/"
        },
        "id": "0K1oEE6IblwX",
        "outputId": "2a6ed996-f742-4abd-eaf6-14f79cb598e4"
      },
      "execution_count": null,
      "outputs": [
        {
          "output_type": "execute_result",
          "data": {
            "text/plain": [
              "(2023, 3, 7, 5, 18, 0, 0)"
            ]
          },
          "metadata": {},
          "execution_count": 28
        }
      ]
    },
    {
      "cell_type": "markdown",
      "source": [
        "### 날짜와 시간 차이 계산하기"
      ],
      "metadata": {
        "id": "0gWA-pOWb9I-"
      }
    },
    {
      "cell_type": "markdown",
      "source": [
        "datetime 모듈에서 유용한 기능이 바로 datetime.timedelta입니다. datetime.timedelta는 두 날짜와 시간 사이의 차이를 계산할 때 사용합니다.\n",
        "```\n",
        "datetime.timedelta(days=0, seconds=0, microseconds=0, milliseconds=0,\n",
        "                   minutes=0, hours=0, weeks=0)\n",
        "```"
      ],
      "metadata": {
        "id": "rB8Jnvm-cAHC"
      }
    },
    {
      "cell_type": "code",
      "source": [
        "from datetime import timedelta\n",
        "\n",
        "d=datetime.now()\n",
        "print(d)\n",
        "\n",
        "d-timedelta(days=20)"
      ],
      "metadata": {
        "colab": {
          "base_uri": "https://localhost:8080/"
        },
        "id": "e-S-7lbIb1wb",
        "outputId": "ed462175-8757-4510-e9fd-3ef64268d329"
      },
      "execution_count": null,
      "outputs": [
        {
          "output_type": "stream",
          "name": "stdout",
          "text": [
            "2023-03-07 08:25:33.676484\n"
          ]
        },
        {
          "output_type": "execute_result",
          "data": {
            "text/plain": [
              "datetime.datetime(2023, 2, 15, 8, 25, 33, 676484)"
            ]
          },
          "metadata": {},
          "execution_count": 29
        }
      ]
    },
    {
      "cell_type": "code",
      "source": [
        "# timedelta() - ~일 간의 차이, ~시간 차이 등."
      ],
      "metadata": {
        "colab": {
          "base_uri": "https://localhost:8080/"
        },
        "id": "x00s1mn7cVZ-",
        "outputId": "2f4c5c53-651c-4a6f-984c-562d00712b7b"
      },
      "execution_count": null,
      "outputs": [
        {
          "output_type": "execute_result",
          "data": {
            "text/plain": [
              "datetime.timedelta(days=42)"
            ]
          },
          "metadata": {},
          "execution_count": 16
        }
      ]
    },
    {
      "cell_type": "code",
      "source": [
        "datetime(2023,3,10) - datetime(2023,3,7)"
      ],
      "metadata": {
        "colab": {
          "base_uri": "https://localhost:8080/"
        },
        "id": "0-JMfRUEcZv0",
        "outputId": "21108bc9-8ae0-44db-c266-31e12c52d6b0"
      },
      "execution_count": null,
      "outputs": [
        {
          "output_type": "execute_result",
          "data": {
            "text/plain": [
              "datetime.timedelta(days=3)"
            ]
          },
          "metadata": {},
          "execution_count": 30
        }
      ]
    },
    {
      "cell_type": "code",
      "source": [
        "from dateutil.relativedelta import relativedelta\n",
        "datetime.now - relativedelta(months=3)\n"
      ],
      "metadata": {
        "colab": {
          "base_uri": "https://localhost:8080/",
          "height": 193
        },
        "id": "6tbuI_UnLsoy",
        "outputId": "ef7ed1d6-d165-4b15-f29e-586fec141065"
      },
      "execution_count": null,
      "outputs": [
        {
          "output_type": "error",
          "ename": "TypeError",
          "evalue": "ignored",
          "traceback": [
            "\u001b[0;31m---------------------------------------------------------------------------\u001b[0m",
            "\u001b[0;31mTypeError\u001b[0m                                 Traceback (most recent call last)",
            "\u001b[0;32m<ipython-input-33-f9f896ef9856>\u001b[0m in \u001b[0;36m<module>\u001b[0;34m\u001b[0m\n\u001b[1;32m      1\u001b[0m \u001b[0;32mfrom\u001b[0m \u001b[0mdateutil\u001b[0m\u001b[0;34m.\u001b[0m\u001b[0mrelativedelta\u001b[0m \u001b[0;32mimport\u001b[0m \u001b[0mrelativedelta\u001b[0m\u001b[0;34m\u001b[0m\u001b[0;34m\u001b[0m\u001b[0m\n\u001b[0;32m----> 2\u001b[0;31m \u001b[0mdatetime\u001b[0m\u001b[0;34m.\u001b[0m\u001b[0mnow\u001b[0m \u001b[0;34m-\u001b[0m \u001b[0mrelativedelta\u001b[0m\u001b[0;34m(\u001b[0m\u001b[0mmonths\u001b[0m\u001b[0;34m=\u001b[0m\u001b[0;36m3\u001b[0m\u001b[0;34m)\u001b[0m\u001b[0;34m\u001b[0m\u001b[0;34m\u001b[0m\u001b[0m\n\u001b[0m",
            "\u001b[0;31mTypeError\u001b[0m: unsupported operand type(s) for -: 'builtin_function_or_method' and 'relativedelta'"
          ]
        }
      ]
    }
  ]
}