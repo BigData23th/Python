{
  "nbformat": 4,
  "nbformat_minor": 0,
  "metadata": {
    "colab": {
      "provenance": [],
      "include_colab_link": true
    },
    "kernelspec": {
      "name": "python3",
      "display_name": "Python 3"
    },
    "language_info": {
      "name": "python"
    }
  },
  "cells": [
    {
      "cell_type": "markdown",
      "metadata": {
        "id": "view-in-github",
        "colab_type": "text"
      },
      "source": [
        "<a href=\"https://colab.research.google.com/github/whataLIN/Bdata23th/blob/main/ch02_09_%EB%AC%B8%EC%9E%90%EC%97%B4_%EC%84%9C%EC%8B%9D.ipynb\" target=\"_parent\"><img src=\"https://colab.research.google.com/assets/colab-badge.svg\" alt=\"Open In Colab\"/></a>"
      ]
    },
    {
      "cell_type": "markdown",
      "source": [
        "# **문자열 서식**"
      ],
      "metadata": {
        "id": "QiBSq5Bq143A"
      }
    },
    {
      "cell_type": "markdown",
      "source": [
        "파이썬에서 문자열 포맷팅을 할 때는 f-string, format 메소드, 서식 지정자를 사용할 수 있습니다."
      ],
      "metadata": {
        "id": "wegxJ51w16PT"
      }
    },
    {
      "cell_type": "markdown",
      "source": [
        "## f-string"
      ],
      "metadata": {
        "id": "N0-o1WfZ1_n_"
      }
    },
    {
      "cell_type": "markdown",
      "source": [
        "f-string은 파이썬 3.6 이후부터 사용 가능한 문자열 포맷팅 방법 중 하나입니다. f-string을 사용하면 문자열 안에서 변수의 값을 간단하게 삽입할 수 있으며, 이를 통해 가독성과 코드 작성의 편의성이 크게 향상됩니다."
      ],
      "metadata": {
        "id": "hiZyEX3h2CfD"
      }
    },
    {
      "cell_type": "code",
      "source": [
        "name=\"Alice\"\n",
        "age=25\n",
        "print(\"이름: \",name, \"\\n나이: \",age,\"세\")"
      ],
      "metadata": {
        "colab": {
          "base_uri": "https://localhost:8080/"
        },
        "id": "DZmXGRf0rYVq",
        "outputId": "b8909dff-9441-4ae6-ec50-947b6e74724f"
      },
      "execution_count": 2,
      "outputs": [
        {
          "output_type": "stream",
          "name": "stdout",
          "text": [
            "이름:  Alice \n",
            "나이:  25 세\n"
          ]
        }
      ]
    },
    {
      "cell_type": "code",
      "execution_count": 5,
      "metadata": {
        "colab": {
          "base_uri": "https://localhost:8080/"
        },
        "id": "yALOnLZtvlNp",
        "outputId": "1250aa84-64bd-450a-ad4a-f2b995aea7d9"
      },
      "outputs": [
        {
          "output_type": "stream",
          "name": "stdout",
          "text": [
            "이름: Alice, 나이: 25세\n"
          ]
        }
      ],
      "source": [
        "print(f\"이름: {name}, 나이: {age}세\")   #중괄호 넣으면 직접 변수 받을 수 있게 됨"
      ]
    },
    {
      "cell_type": "code",
      "source": [
        "print(f\"{age:02d}\", f\"{1:02d}\",f\"{age:04d}\", str(age).zfill(4)) #decimal\n",
        "\n",
        "print(f\"이름: {name}, 나이: {age}세\") \n"
      ],
      "metadata": {
        "colab": {
          "base_uri": "https://localhost:8080/"
        },
        "id": "6EpDa2LispiQ",
        "outputId": "6ea2745f-36bf-4ba6-cc34-108d7b11d6ac"
      },
      "execution_count": 16,
      "outputs": [
        {
          "output_type": "stream",
          "name": "stdout",
          "text": [
            "25 01 0025 0025\n",
            "이름: Alice, 나이: 25세\n"
          ]
        }
      ]
    },
    {
      "cell_type": "code",
      "source": [
        "print(f\"이름:{name}, 나이 : {age}세\")\n",
        "print(f\"{age:d}\")\n",
        "print(f\"{age:010d}\")\n",
        "print(f\"{age:-010d}\")\n",
        "print(f\"{+100:-010d}\")"
      ],
      "metadata": {
        "colab": {
          "base_uri": "https://localhost:8080/"
        },
        "id": "N2-ivp-IuF4t",
        "outputId": "e1a5e871-1436-4fe3-a860-36bc5daba415"
      },
      "execution_count": 21,
      "outputs": [
        {
          "output_type": "stream",
          "name": "stdout",
          "text": [
            "이름:Alice, 나이 : 25세\n",
            "25\n",
            "0000000025\n",
            "0000000025\n",
            "0000000100\n"
          ]
        }
      ]
    },
    {
      "cell_type": "code",
      "source": [
        "height=164\n"
      ],
      "metadata": {
        "id": "uY8i4c2mu0Zc"
      },
      "execution_count": 22,
      "outputs": []
    },
    {
      "cell_type": "code",
      "source": [
        "#f{...:f} : float\n",
        "#.숫자f : 자리수 지정\n",
        "\n",
        "f\"{age:f}\", f\"{height:.2f}\""
      ],
      "metadata": {
        "colab": {
          "base_uri": "https://localhost:8080/"
        },
        "id": "6k0BMurfu2Y3",
        "outputId": "bc845adf-c36d-41cc-9ced-10762f4d34f5"
      },
      "execution_count": 25,
      "outputs": [
        {
          "output_type": "execute_result",
          "data": {
            "text/plain": [
              "('25.000000', '164.00')"
            ]
          },
          "metadata": {},
          "execution_count": 25
        }
      ]
    },
    {
      "cell_type": "code",
      "source": [
        "f\"{age:010.4f}\", f\"{height:010.2f}\""
      ],
      "metadata": {
        "colab": {
          "base_uri": "https://localhost:8080/"
        },
        "id": "zqoy0QMbvaAI",
        "outputId": "898c9620-7f99-419c-8fc8-f78a7a620e67"
      },
      "execution_count": 27,
      "outputs": [
        {
          "output_type": "execute_result",
          "data": {
            "text/plain": [
              "('00025.0000', '0000164.00')"
            ]
          },
          "metadata": {},
          "execution_count": 27
        }
      ]
    },
    {
      "cell_type": "code",
      "source": [],
      "metadata": {
        "id": "I-c_OFj-u3SY"
      },
      "execution_count": null,
      "outputs": []
    },
    {
      "cell_type": "markdown",
      "source": [
        "### format 메소드"
      ],
      "metadata": {
        "id": "AHUelcsL2IRR"
      }
    },
    {
      "cell_type": "code",
      "source": [
        "name=\"Alice\"\n",
        "age=25\n",
        "height=164.3\n",
        "\n"
      ],
      "metadata": {
        "colab": {
          "base_uri": "https://localhost:8080/"
        },
        "id": "Gr_6JVoN2FCu",
        "outputId": "4a11404d-7884-4193-c2ec-d266c23a62e8"
      },
      "execution_count": null,
      "outputs": [
        {
          "output_type": "stream",
          "name": "stdout",
          "text": [
            "이름: Alice, 나이: 25세\n",
            "25\n",
            "0000000025\n",
            "+000000025\n",
            "175.50\n",
            "0000175.50\n"
          ]
        }
      ]
    },
    {
      "cell_type": "code",
      "source": [
        "f\"{age}\",f\"{age}\",f'''{age}''',f\"\"\"{age}\"\"\" #대입가능\n",
        "\n",
        "a=f\"{age}\"\n",
        "b=f\"{age}\"\n",
        "\n",
        "print(a+b)"
      ],
      "metadata": {
        "colab": {
          "base_uri": "https://localhost:8080/"
        },
        "id": "ymH-JcEDwE1n",
        "outputId": "5703983f-2d63-4e19-925f-d580e272c336"
      },
      "execution_count": 29,
      "outputs": [
        {
          "output_type": "stream",
          "name": "stdout",
          "text": [
            "2525\n"
          ]
        }
      ]
    },
    {
      "cell_type": "code",
      "source": [
        "formatted_str=\"이름:{}, 나이:{}세\".format(name,age)\n",
        "print(formatted_str)\n",
        "\n",
        "formatted_str2=\"이름:{name}, 나이:{age}세\".format(name=name,age=age)\n",
        "print(formatted_str2)\n",
        "\n",
        "a=\"{}\".format(age)\n",
        "b=\"{:010d}\".format(age)\n",
        "c=\"{:+010d}\".format(age)\n",
        "d=\"{:.2f}\".format(height)\n",
        "e=\"{:010.2f}\".format(height)    #줄바꿈 서식 자유로움\n",
        "\n",
        "print(a,b,c,d,e)"
      ],
      "metadata": {
        "colab": {
          "base_uri": "https://localhost:8080/"
        },
        "id": "qDzbGQhmxJPF",
        "outputId": "30cf8e34-28b0-4cb8-b005-3b5cd5cc3f15"
      },
      "execution_count": 41,
      "outputs": [
        {
          "output_type": "stream",
          "name": "stdout",
          "text": [
            "이름:Alice, 나이:25세\n",
            "이름:Alice, 나이:25세\n",
            "25 0000000025 +000000025 164.00 0000164.00\n"
          ]
        }
      ]
    },
    {
      "cell_type": "markdown",
      "source": [
        "### 서식 지정자"
      ],
      "metadata": {
        "id": "kubSFPUy2P18"
      }
    },
    {
      "cell_type": "markdown",
      "source": [
        "서식 지정자는 문자열 포맷팅에서 사용하는 기호로, 변수의 값을 특정한 형식으로 표현할 때 사용됩니다. 서식 지정자는 % 기호를 사용하여 문자열에 삽입합니다."
      ],
      "metadata": {
        "id": "TC8qXJoh2Rlg"
      }
    },
    {
      "cell_type": "code",
      "source": [
        "formatted_str=\"이름:%s, 나이:%d세\"%(name,age)\n",
        "print(formatted_str)\n",
        "\n",
        "formatted_str2=\"이름:{name}, 나이:{age}세\".format(name=name,age=age)\n",
        "print(formatted_str2)\n",
        "\n",
        "a=\"%d\"%(age)\n",
        "b=\"%010d\"%(age)\n",
        "c=\"%+010d\"%(age)\n",
        "d=\"%.2f\"%(height)\n",
        "e=\"%010.2f\"%(height)    #줄바꿈 서식 자유로움\n",
        "\n",
        "print(a)\n",
        "print(b)\n",
        "print(c)\n",
        "print(d)\n",
        "print(e)"
      ],
      "metadata": {
        "colab": {
          "base_uri": "https://localhost:8080/"
        },
        "id": "Q9CEispz2MsF",
        "outputId": "e0bc56eb-59b4-4192-e8a0-28d34141a24d"
      },
      "execution_count": 48,
      "outputs": [
        {
          "output_type": "stream",
          "name": "stdout",
          "text": [
            "이름:Alice, 나이:25세\n",
            "이름:Alice, 나이:25세\n",
            "25\n",
            "0000000025\n",
            "+000000025\n",
            "164.00\n",
            "0000164.00\n"
          ]
        }
      ]
    },
    {
      "cell_type": "markdown",
      "source": [
        "## 서식 문자"
      ],
      "metadata": {
        "id": "aAsDwVk027Z1"
      }
    },
    {
      "cell_type": "markdown",
      "source": [
        "서식 지정자에서는 %s, %d, %f 등의 서식 문자를 사용하여 출력할 값의 데이터 타입을 지정할 수 있습니다. 이 서식 문자를 사용하여 문자열, 숫자, 소수점 등을 출력할 수 있습니다. 서식 문자는 f-string, format 메소드 등에서도 활용할 수 있습니다. (%s는 기본값이라 생략됨)\n",
        "\n",
        "%d와 %f를 사용할 때는 정수형 변수와 실수형 변수를 출력할 수 있으며, %s는 문자열 변수를 출력합니다. 이때 %s를 사용할 경우, 변수의 데이터 타입과 상관없이 모든 값을 출력할 수 있습니다."
      ],
      "metadata": {
        "id": "Rk8xmil13AUh"
      }
    },
    {
      "cell_type": "code",
      "source": [
        "# %s : 문자열을 출력할 때 사용합니다.\n",
        "name=\"Alice\"\n",
        "formatted_name=\"이름: %s\"%name\n",
        "print(formatted_name)\n",
        "print(f\"이름: {name}\")"
      ],
      "metadata": {
        "colab": {
          "base_uri": "https://localhost:8080/"
        },
        "id": "a7HrNqpa2WHX",
        "outputId": "0876731e-d7cc-4fb6-98ef-ce5b9d68bacb"
      },
      "execution_count": 49,
      "outputs": [
        {
          "output_type": "stream",
          "name": "stdout",
          "text": [
            "이름: Alice\n",
            "이름: Alice\n"
          ]
        }
      ]
    },
    {
      "cell_type": "code",
      "source": [
        "# %d : 10진수 정수를 출력할 때 사용합니다.\n",
        "age=25\n",
        "formatted_age=\"나이:%d세\"%age\n",
        "print(formatted_age)\n",
        "print(f\"나이: {age:d}세\")"
      ],
      "metadata": {
        "colab": {
          "base_uri": "https://localhost:8080/"
        },
        "id": "_szPQML_3Q5G",
        "outputId": "f83db902-abea-4e9f-e025-2c87f42c6a93"
      },
      "execution_count": 50,
      "outputs": [
        {
          "output_type": "stream",
          "name": "stdout",
          "text": [
            "나이:25세\n",
            "나이: 25세\n"
          ]
        }
      ]
    },
    {
      "cell_type": "code",
      "source": [
        "# %f : 실수를 출력할 때 사용합니다. 기본적으로 소수점 이하 6자리까지 출력됩니다.\n",
        "height=164.3\n",
        "formatted_height=\"키:%fcm\"%height\n",
        "print(formatted_height)\n",
        "print(f\"키: {height:.6f}cm\")"
      ],
      "metadata": {
        "colab": {
          "base_uri": "https://localhost:8080/"
        },
        "id": "4uUnI1DK3UXF",
        "outputId": "5396f7d1-9c5f-46ec-a6aa-dd2a9f5d2612"
      },
      "execution_count": 51,
      "outputs": [
        {
          "output_type": "stream",
          "name": "stdout",
          "text": [
            "키:164.300000cm\n",
            "키: 164.300000cm\n"
          ]
        }
      ]
    },
    {
      "cell_type": "markdown",
      "source": [
        "서식 문자를 사용하여 출력할 값의 자리수를 지정할 수도 있습니다. 자리수를 지정하면 해당 자리수만큼 출력되며, 값의 길이가 자리수보다 작으면 빈 칸이 채워집니다."
      ],
      "metadata": {
        "id": "VrTFs87K3ZbS"
      }
    },
    {
      "cell_type": "code",
      "source": [
        "# %[너비]d : [너비] 자리에 출력할 숫자의 자리수를 지정합니다.\n",
        "num=123\n",
        "a=\"%d\"%num\n",
        "b=\"%5d\"%num\n",
        "c=\"%010d\"%num\n",
        "d=\"%-5d\"%num #5자리까지 스페이스로 채움\n",
        "e=\"%+5d\"%num\n",
        "\n",
        "print(a)\n",
        "print(b)\n",
        "print(c)\n",
        "print(d)\n",
        "print(e)\n"
      ],
      "metadata": {
        "colab": {
          "base_uri": "https://localhost:8080/"
        },
        "id": "VzvSd8n23Xyj",
        "outputId": "f6b5174a-a473-47a4-9477-99780be0000a"
      },
      "execution_count": 54,
      "outputs": [
        {
          "output_type": "stream",
          "name": "stdout",
          "text": [
            "123\n",
            "  123\n",
            "0000000123\n",
            "123  \n",
            " +123\n"
          ]
        }
      ]
    },
    {
      "cell_type": "code",
      "source": [
        "# %[너비].[정밀도]f : [너비] 자리에 출력할 숫자의 자리수를, [정밀도] 자리에 출력할 소수점 이하 자리수를 지정합니다.\n",
        "\n",
        "pi=3.141592653589793\n",
        "a=\"%f\"%pi\n",
        "b=\"%.2f\"%pi\n",
        "c=\"%010.2f\"%pi\n",
        "d=\"%-10.2f\"%pi   #디폴트는 -\n",
        "e=\"%+10.2f\"%pi\n",
        "\n",
        "print(a)\n",
        "print(b)\n",
        "print(c)\n",
        "print(d)\n",
        "print(e)\n"
      ],
      "metadata": {
        "colab": {
          "base_uri": "https://localhost:8080/"
        },
        "id": "aZL70I7S3ceb",
        "outputId": "984a387d-94c2-4e88-f377-69e98ae78bec"
      },
      "execution_count": 64,
      "outputs": [
        {
          "output_type": "stream",
          "name": "stdout",
          "text": [
            "3.141593\n",
            "3.14\n",
            "0000003.14\n",
            "3.14      \n",
            "     +3.14\n"
          ]
        }
      ]
    }
  ]
}