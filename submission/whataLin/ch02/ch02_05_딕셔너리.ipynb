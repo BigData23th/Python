{
  "nbformat": 4,
  "nbformat_minor": 0,
  "metadata": {
    "colab": {
      "provenance": [],
      "include_colab_link": true
    },
    "kernelspec": {
      "name": "python3",
      "display_name": "Python 3"
    },
    "language_info": {
      "name": "python"
    }
  },
  "cells": [
    {
      "cell_type": "markdown",
      "metadata": {
        "id": "view-in-github",
        "colab_type": "text"
      },
      "source": [
        "<a href=\"https://colab.research.google.com/github/whataLIN/Bdata23th/blob/main/ch02_05_%EB%94%95%EC%85%94%EB%84%88%EB%A6%AC.ipynb\" target=\"_parent\"><img src=\"https://colab.research.google.com/assets/colab-badge.svg\" alt=\"Open In Colab\"/></a>"
      ]
    },
    {
      "cell_type": "markdown",
      "source": [
        "# 딕셔너리"
      ],
      "metadata": {
        "id": "5_1D4gsPECsO"
      }
    },
    {
      "cell_type": "markdown",
      "source": [
        "지금까지 살펴봤던 리스트와 튜플은 값 여러 개를 일렬로 저장할 뿐 값끼리 연관 관계가 없었습니다. 예를 들어 게임 캐릭터의 능력치를 리스트에 저장해보겠습니다."
      ],
      "metadata": {
        "id": "kareiFOzEJY8"
      }
    },
    {
      "cell_type": "code",
      "execution_count": null,
      "metadata": {
        "id": "_3HKSboNDxcu"
      },
      "outputs": [],
      "source": [
        "lux=[490,334,550,18.72]"
      ]
    },
    {
      "cell_type": "markdown",
      "source": [
        "리스트 lux에서 인덱스 0은 체력, 인덱스 1은 마나, 인덱스 2는 사거리, 인덱스 3은 방어력이라고 했을 때 리스트만 봐서는 각 값이 어떤 능력치인지 쉽게 알기가 힘듭니다.\n",
        "\n",
        "파이썬에서는 연관된 값을 묶어서 저장하는 용도로 딕셔너리라는 자료형을 제공합니다. 그럼 게임 캐릭터의 능력치를 딕셔너리에 저장해보겠습니다."
      ],
      "metadata": {
        "id": "L6E3GgYOENay"
      }
    },
    {
      "cell_type": "code",
      "source": [
        "lux={\"health\":490, \"mana\":334,\"welee\":550,\"armor\":18.72}"
      ],
      "metadata": {
        "id": "DRjkOHyKELs0"
      },
      "execution_count": 1,
      "outputs": []
    },
    {
      "cell_type": "markdown",
      "source": [
        "이제 딕셔너리만 봐도 lux라는 캐릭터의 체력(health)은 490, 마나(mana)는 334, 사거리(melee)는 550, 방어력(armor)은 18.72라는 것을 쉽게 알 수 있습니다. 이처럼 딕셔너리는 값마다 이름을 붙여서 저장하는 방식입니다.\n",
        "\n",
        "즉, 사전(dictionary)에서 단어를 찾듯이 값을 가져올 수 있다고 하여 딕셔너리라고 부릅니다.\n",
        "\n",
        "이번 유닛부터 딕셔너리를 만드는 방법과 기본 사용 방법을 알아보겠습니다."
      ],
      "metadata": {
        "id": "cC3FK2B2EQIJ"
      }
    },
    {
      "cell_type": "markdown",
      "source": [
        "## 딕셔너리 만들기"
      ],
      "metadata": {
        "id": "zbfwD9ufEUqi"
      }
    },
    {
      "cell_type": "markdown",
      "source": [
        "딕셔너리는 { }(중괄호) 안에 키: 값 형식으로 저장하며 각 키와 값은 ,(콤마)로 구분해줍니다.\n",
        "\n",
        "* `딕셔너리 = {키1: 값1, 키2: 값2}`"
      ],
      "metadata": {
        "id": "IRYM7mh5EXCk"
      }
    },
    {
      "cell_type": "code",
      "source": [
        "# 그럼 키와 값이 5개씩 들어있는 딕셔너리를 만들어보겠습니다.\n",
        "kim={\"name\":\"john\", \"job\":\"programmer\", \"pet\":\"cat\", \"height\":170, \"weight\":80}\n",
        "kim"
      ],
      "metadata": {
        "colab": {
          "base_uri": "https://localhost:8080/"
        },
        "id": "cmWs27ZREPgi",
        "outputId": "81ceb2a6-79d6-43c9-fbf6-e96c600197ae"
      },
      "execution_count": null,
      "outputs": [
        {
          "output_type": "execute_result",
          "data": {
            "text/plain": [
              "{'health': 490, 'mana': 334, 'melee': 550, 'armor': 18.72}"
            ]
          },
          "metadata": {},
          "execution_count": 3
        }
      ]
    },
    {
      "cell_type": "markdown",
      "source": [
        "딕셔너리는 키를 먼저 지정하고 :(콜론)을 붙여서 값을 표현합니다. 특히 키에는 값을 하나만 지정할 수 있으며 이런 특성을 따서 키-값 쌍(key-value pair)이라 부릅니다(키-값은 1:1 대응)."
      ],
      "metadata": {
        "id": "H4rbhhUfExpO"
      }
    },
    {
      "cell_type": "markdown",
      "source": [
        "### 키 이름이 중복되면?"
      ],
      "metadata": {
        "id": "TPkyl8YPEzjT"
      }
    },
    {
      "cell_type": "code",
      "source": [
        "lee={\"money\": 600, \"dept\":2000, \"money\":400}\n",
        "lee[\"money\"] #키는 인덱스와 유사. 키를 통해 값 불러옴"
      ],
      "metadata": {
        "colab": {
          "base_uri": "https://localhost:8080/"
        },
        "id": "5vqexJh1Ectd",
        "outputId": "d8a0e1e5-cab1-45a6-c0dd-29bc6720f776"
      },
      "execution_count": 4,
      "outputs": [
        {
          "output_type": "execute_result",
          "data": {
            "text/plain": [
              "400"
            ]
          },
          "metadata": {},
          "execution_count": 4
        }
      ]
    },
    {
      "cell_type": "code",
      "source": [
        "lee"
      ],
      "metadata": {
        "colab": {
          "base_uri": "https://localhost:8080/"
        },
        "id": "MuYYzco0E5Lb",
        "outputId": "334e079c-cddd-4107-cf57-57561704b258"
      },
      "execution_count": 5,
      "outputs": [
        {
          "output_type": "execute_result",
          "data": {
            "text/plain": [
              "{'money': 400, 'dept': 2000}"
            ]
          },
          "metadata": {},
          "execution_count": 5
        }
      ]
    },
    {
      "cell_type": "markdown",
      "source": [
        "### 딕셔너리 키의 자료형"
      ],
      "metadata": {
        "id": "TOB_9hDlE_j7"
      }
    },
    {
      "cell_type": "markdown",
      "source": [
        ":딕셔너리의 키는 문자열뿐만 아니라 **정수, 실수, 불도 사용할 수 있**으며 자료형을 **섞어** 사용해도 됩니다. 그리고 값에는 리스트, 딕셔너리 등을 포함하여 모든 자료형을 사용할 수 있습니다."
      ],
      "metadata": {
        "id": "_2Ur30DzFBav"
      }
    },
    {
      "cell_type": "code",
      "source": [
        "{\n",
        "    1:\"One\",\n",
        "    True:\"True\",\n",
        "    0.1:\"Zero Point One\",\n",
        "    \"Text\":\"TEXT\",\n",
        "    \"list\":[1,2],\n",
        "    \"dict\":{\"a\":\"b\"}\n",
        "} #키값으로는 정수, 실수, bool, 문자열\n",
        "  #값은 다 가능"
      ],
      "metadata": {
        "colab": {
          "base_uri": "https://localhost:8080/"
        },
        "id": "y2Xe9eCpFC6b",
        "outputId": "05b9c555-fa02-4716-f769-e71fff0a19eb"
      },
      "execution_count": 7,
      "outputs": [
        {
          "output_type": "execute_result",
          "data": {
            "text/plain": [
              "{1: 'True',\n",
              " 0.1: 'Zero Point One',\n",
              " 'Text': 'TEXT',\n",
              " 'list': [1, 2],\n",
              " 'dict': {'a': 'b'}}"
            ]
          },
          "metadata": {},
          "execution_count": 7
        }
      ]
    },
    {
      "cell_type": "code",
      "source": [
        "# 단, 키에는 리스트와 딕셔너리를 사용할 수 없습니다.\n",
        "x={\n",
        "    [1,2]:100\n",
        "}"
      ],
      "metadata": {
        "colab": {
          "base_uri": "https://localhost:8080/",
          "height": 188
        },
        "id": "jDXj_ZjSFE_w",
        "outputId": "d151b272-9505-4828-ea7f-423a706c4bf5"
      },
      "execution_count": null,
      "outputs": [
        {
          "output_type": "error",
          "ename": "TypeError",
          "evalue": "ignored",
          "traceback": [
            "\u001b[0;31m---------------------------------------------------------------------------\u001b[0m",
            "\u001b[0;31mTypeError\u001b[0m                                 Traceback (most recent call last)",
            "\u001b[0;32m<ipython-input-7-f983e8eb06db>\u001b[0m in \u001b[0;36m<module>\u001b[0;34m\u001b[0m\n\u001b[1;32m      1\u001b[0m \u001b[0;31m# 단, 키에는 리스트와 딕셔너리를 사용할 수 없습니다.\u001b[0m\u001b[0;34m\u001b[0m\u001b[0;34m\u001b[0m\u001b[0;34m\u001b[0m\u001b[0m\n\u001b[0;32m----> 2\u001b[0;31m \u001b[0mx\u001b[0m \u001b[0;34m=\u001b[0m \u001b[0;34m{\u001b[0m\u001b[0;34m[\u001b[0m\u001b[0;36m10\u001b[0m\u001b[0;34m,\u001b[0m \u001b[0;36m20\u001b[0m\u001b[0;34m]\u001b[0m\u001b[0;34m:\u001b[0m \u001b[0;36m100\u001b[0m\u001b[0;34m}\u001b[0m\u001b[0;34m\u001b[0m\u001b[0;34m\u001b[0m\u001b[0m\n\u001b[0m",
            "\u001b[0;31mTypeError\u001b[0m: unhashable type: 'list'"
          ]
        }
      ]
    },
    {
      "cell_type": "code",
      "source": [
        "# 단, 키에는 리스트와 딕셔너리를 사용할 수 없습니다.\n",
        "x={\n",
        "    {1,2}:100\n",
        "}"
      ],
      "metadata": {
        "colab": {
          "base_uri": "https://localhost:8080/",
          "height": 229
        },
        "id": "eEGBPbR8FRN4",
        "outputId": "824d060d-28b9-4abc-8a9f-e1d389203239"
      },
      "execution_count": 6,
      "outputs": [
        {
          "output_type": "error",
          "ename": "TypeError",
          "evalue": "ignored",
          "traceback": [
            "\u001b[0;31m---------------------------------------------------------------------------\u001b[0m",
            "\u001b[0;31mTypeError\u001b[0m                                 Traceback (most recent call last)",
            "\u001b[0;32m<ipython-input-6-09122db31a5d>\u001b[0m in \u001b[0;36m<module>\u001b[0;34m\u001b[0m\n\u001b[1;32m      1\u001b[0m \u001b[0;31m# 단, 키에는 리스트와 딕셔너리를 사용할 수 없습니다.\u001b[0m\u001b[0;34m\u001b[0m\u001b[0;34m\u001b[0m\u001b[0;34m\u001b[0m\u001b[0m\n\u001b[0;32m----> 2\u001b[0;31m x={\n\u001b[0m\u001b[1;32m      3\u001b[0m     \u001b[0;34m{\u001b[0m\u001b[0;36m1\u001b[0m\u001b[0;34m,\u001b[0m\u001b[0;36m2\u001b[0m\u001b[0;34m}\u001b[0m\u001b[0;34m:\u001b[0m\u001b[0;36m100\u001b[0m\u001b[0;34m\u001b[0m\u001b[0;34m\u001b[0m\u001b[0m\n\u001b[1;32m      4\u001b[0m }\n",
            "\u001b[0;31mTypeError\u001b[0m: unhashable type: 'set'"
          ]
        }
      ]
    },
    {
      "cell_type": "code",
      "source": [
        "# 근데 튜플은 됩니다.\n",
        "{\n",
        "    ('a',1):100\n",
        "}\n",
        "\n"
      ],
      "metadata": {
        "colab": {
          "base_uri": "https://localhost:8080/"
        },
        "id": "S5hmnDACFTgm",
        "outputId": "9e023bef-a524-4117-dbb5-0890475381b4"
      },
      "execution_count": 9,
      "outputs": [
        {
          "output_type": "execute_result",
          "data": {
            "text/plain": [
              "{('a', 1): 100}"
            ]
          },
          "metadata": {},
          "execution_count": 9
        }
      ]
    },
    {
      "cell_type": "markdown",
      "source": [
        "### 빈 딕셔너리 만들기"
      ],
      "metadata": {
        "id": "ZA8DGLSJFmNQ"
      }
    },
    {
      "cell_type": "markdown",
      "source": [
        "빈 딕셔너리를 만들 때는 { }만 지정하거나 dict를 사용하면 됩니다. 보통은 { }를 주로 사용합니다.\n",
        "\n",
        "* `딕셔너리 = {}`\n",
        "* `딕셔너리 = dict()`"
      ],
      "metadata": {
        "id": "EiSUoz3EFo1J"
      }
    },
    {
      "cell_type": "code",
      "source": [
        "x={}\n",
        "x"
      ],
      "metadata": {
        "colab": {
          "base_uri": "https://localhost:8080/"
        },
        "id": "qy12louTFkop",
        "outputId": "5a1f9fb4-2306-4e03-fb8f-4283f2eab430"
      },
      "execution_count": 10,
      "outputs": [
        {
          "output_type": "execute_result",
          "data": {
            "text/plain": [
              "{}"
            ]
          },
          "metadata": {},
          "execution_count": 10
        }
      ]
    },
    {
      "cell_type": "code",
      "source": [
        "y=dict()\n",
        "y"
      ],
      "metadata": {
        "colab": {
          "base_uri": "https://localhost:8080/"
        },
        "id": "m8SyPBtoFvJk",
        "outputId": "7e4691b8-ef57-43e8-8b81-d766056bc49e"
      },
      "execution_count": 11,
      "outputs": [
        {
          "output_type": "execute_result",
          "data": {
            "text/plain": [
              "{}"
            ]
          },
          "metadata": {},
          "execution_count": 11
        }
      ]
    },
    {
      "cell_type": "markdown",
      "source": [
        "## 딕셔너리의 키에 접근하고 값 할당하기"
      ],
      "metadata": {
        "id": "lxv59re1GIYe"
      }
    },
    {
      "cell_type": "code",
      "source": [
        "# 딕셔너리의 키에 접근할 때는 딕셔너리 뒤에 [ ](대괄호)를 사용하며 [ ] 안에 키를 지정해주면 됩니다.\n",
        "\n",
        "park={\"address\":\"서울시\", \"car\":\"K5\", \"salary\":3000}\n",
        "park[\"address\"] #인덱싱"
      ],
      "metadata": {
        "colab": {
          "base_uri": "https://localhost:8080/",
          "height": 36
        },
        "id": "2sbEDhgRGMTI",
        "outputId": "1ba3437f-a3db-4f45-cfc1-3cee72097979"
      },
      "execution_count": 13,
      "outputs": [
        {
          "output_type": "execute_result",
          "data": {
            "text/plain": [
              "'서울시'"
            ],
            "application/vnd.google.colaboratory.intrinsic+json": {
              "type": "string"
            }
          },
          "metadata": {},
          "execution_count": 13
        }
      ]
    },
    {
      "cell_type": "code",
      "source": [],
      "metadata": {
        "colab": {
          "base_uri": "https://localhost:8080/"
        },
        "id": "v9Zv9nMWGRek",
        "outputId": "9b6ef891-cf0f-4fa4-8ce0-6e84c3b19851"
      },
      "execution_count": null,
      "outputs": [
        {
          "output_type": "execute_result",
          "data": {
            "text/plain": [
              "18.72"
            ]
          },
          "metadata": {},
          "execution_count": 13
        }
      ]
    },
    {
      "cell_type": "markdown",
      "source": [
        "### 딕셔너리에 키를 지정하지 않으면?"
      ],
      "metadata": {
        "id": "LNYK_spGGTAv"
      }
    },
    {
      "cell_type": "code",
      "source": [
        "# 딕셔너리에 키를 지정하지 않은 상태는 해당 딕셔너리 전체를 뜻합니다.\n",
        "# 따라서 다음과 같이 딕셔너리 lux를 출력하면 { }를 포함하여 딕셔너리 전체가 출력됩니다.\n",
        "park"
      ],
      "metadata": {
        "colab": {
          "base_uri": "https://localhost:8080/"
        },
        "id": "W5BH7KSaGSKK",
        "outputId": "a54ca11d-1335-4e7e-c77b-dea341db96cc"
      },
      "execution_count": 14,
      "outputs": [
        {
          "output_type": "execute_result",
          "data": {
            "text/plain": [
              "{'address': '서울시', 'car': 'K5', 'salary': 3000}"
            ]
          },
          "metadata": {},
          "execution_count": 14
        }
      ]
    },
    {
      "cell_type": "markdown",
      "source": [
        "### 딕셔너리의 키에 값 할당하기"
      ],
      "metadata": {
        "id": "e3zy1seWGds-"
      }
    },
    {
      "cell_type": "markdown",
      "source": [
        "이제 딕셔너리의 키에 값을 할당해보겠습니다. 딕셔너리는 [ ]로 키에 접근한 뒤 값을 할당합니다.\n",
        "* `딕셔너리[키] = 값`"
      ],
      "metadata": {
        "id": "yZDlabtuGfOe"
      }
    },
    {
      "cell_type": "code",
      "source": [
        "# 기존 값 존재여부에 상관없이 추가 가능\n",
        "\n",
        "park['address']='서울시 동작구'\n",
        "park"
      ],
      "metadata": {
        "colab": {
          "base_uri": "https://localhost:8080/"
        },
        "id": "2Bs3CjRcGZ3C",
        "outputId": "6c80097b-74f1-4812-fb8a-b6cab3dee730"
      },
      "execution_count": 15,
      "outputs": [
        {
          "output_type": "execute_result",
          "data": {
            "text/plain": [
              "{'address': '서울시 동작구', 'car': 'K5', 'salary': 3000}"
            ]
          },
          "metadata": {},
          "execution_count": 15
        }
      ]
    },
    {
      "cell_type": "markdown",
      "source": [
        "딕셔너리에서 키의 값을 출력할 때와 마찬가지로 [ ]에 키를 지정한 뒤 값을 할당하면 됩니다. 특히 딕셔너리는 **없는 키에 값을 할당하면 해당 키가 추가되고 값이 할당**됩니다."
      ],
      "metadata": {
        "id": "7DFTD_OAGoe_"
      }
    },
    {
      "cell_type": "code",
      "source": [
        "park['childeren']=1\n",
        "park"
      ],
      "metadata": {
        "colab": {
          "base_uri": "https://localhost:8080/"
        },
        "id": "zUZO1C_tGm7C",
        "outputId": "28b73eaf-731c-4000-82cc-d049a93b298c"
      },
      "execution_count": 16,
      "outputs": [
        {
          "output_type": "execute_result",
          "data": {
            "text/plain": [
              "{'address': '서울시 동작구', 'car': 'K5', 'salary': 3000, 'childeren': 1}"
            ]
          },
          "metadata": {},
          "execution_count": 16
        }
      ]
    },
    {
      "cell_type": "code",
      "source": [
        "# 그럼 없는 키에서 값을 가져오려고 하면 어떻게 될까요?\n",
        "park['cigarette']\n",
        "#안됨"
      ],
      "metadata": {
        "colab": {
          "base_uri": "https://localhost:8080/",
          "height": 192
        },
        "id": "hBQTMjKNGqpZ",
        "outputId": "757441a5-cdc5-41c3-ea5c-318514470289"
      },
      "execution_count": 17,
      "outputs": [
        {
          "output_type": "error",
          "ename": "KeyError",
          "evalue": "ignored",
          "traceback": [
            "\u001b[0;31m---------------------------------------------------------------------------\u001b[0m",
            "\u001b[0;31mKeyError\u001b[0m                                  Traceback (most recent call last)",
            "\u001b[0;32m<ipython-input-17-1897d7ed778f>\u001b[0m in \u001b[0;36m<module>\u001b[0;34m\u001b[0m\n\u001b[1;32m      1\u001b[0m \u001b[0;31m# 그럼 없는 키에서 값을 가져오려고 하면 어떻게 될까요?\u001b[0m\u001b[0;34m\u001b[0m\u001b[0;34m\u001b[0m\u001b[0;34m\u001b[0m\u001b[0m\n\u001b[0;32m----> 2\u001b[0;31m \u001b[0mpark\u001b[0m\u001b[0;34m[\u001b[0m\u001b[0;34m'cigarette'\u001b[0m\u001b[0;34m]\u001b[0m\u001b[0;34m\u001b[0m\u001b[0;34m\u001b[0m\u001b[0m\n\u001b[0m",
            "\u001b[0;31mKeyError\u001b[0m: 'cigarette'"
          ]
        }
      ]
    },
    {
      "cell_type": "markdown",
      "source": [
        "### 딕셔너리에 키가 있는지 확인하기"
      ],
      "metadata": {
        "id": "JH3WwXv-GytW"
      }
    },
    {
      "cell_type": "markdown",
      "source": [
        "딕셔너리에서 키가 있는지 확인하고 싶다면 in 연산자를 사용하면 됩니다.\n",
        "\n",
        "* `키 in 딕셔너리`"
      ],
      "metadata": {
        "id": "25CdHFDaG2lC"
      }
    },
    {
      "cell_type": "code",
      "source": [
        "\"cigarette\" in park, \"car\" in park"
      ],
      "metadata": {
        "colab": {
          "base_uri": "https://localhost:8080/"
        },
        "id": "isXPQXj_GvkK",
        "outputId": "e0bf2182-4ca6-4904-e164-d9c8d24a20ff"
      },
      "execution_count": 20,
      "outputs": [
        {
          "output_type": "execute_result",
          "data": {
            "text/plain": [
              "(False, True)"
            ]
          },
          "metadata": {},
          "execution_count": 20
        }
      ]
    },
    {
      "cell_type": "markdown",
      "source": [
        "이처럼 딕셔너리에 특정 키가 있으면 True, 없으면 False가 나옵니다. 딕셔너리 lux에 키 'health'가 있으므로 True, 'attack_speed'가 없으므로 False가 나왔습니다.\n",
        "\n",
        "반대로 in 앞에 not을 붙이면 특정 키가 없는지 확인합니다."
      ],
      "metadata": {
        "id": "WBlHkSS2G_z7"
      }
    },
    {
      "cell_type": "code",
      "source": [
        "\"boat\" in park"
      ],
      "metadata": {
        "colab": {
          "base_uri": "https://localhost:8080/"
        },
        "id": "-CUgcJAiG9Mu",
        "outputId": "56d82efc-184c-4f08-829c-b2c88448bdbf"
      },
      "execution_count": 21,
      "outputs": [
        {
          "output_type": "execute_result",
          "data": {
            "text/plain": [
              "False"
            ]
          },
          "metadata": {},
          "execution_count": 21
        }
      ]
    },
    {
      "cell_type": "code",
      "source": [
        "meal={}"
      ],
      "metadata": {
        "id": "VHA2eS7vz81v"
      },
      "execution_count": null,
      "outputs": []
    },
    {
      "cell_type": "code",
      "source": [
        "\n",
        "if \"변영인\" in meal:\n",
        "  print(\"변영인과 이미 밥을 먹었네요!\")\n",
        "  meal['변영인']+=1\n",
        "else:\n",
        "  print(\"변영인과 첫 끼네요!\")\n",
        "  meal['변영인']=1\n",
        "\n",
        "#키가 없어서 값을 삽입할 수 없음"
      ],
      "metadata": {
        "colab": {
          "base_uri": "https://localhost:8080/",
          "height": 192
        },
        "id": "2TF5aAKKzjzp",
        "outputId": "59f551a1-f7d6-48aa-eca1-2a71ea14ea5f"
      },
      "execution_count": 22,
      "outputs": [
        {
          "output_type": "error",
          "ename": "KeyError",
          "evalue": "ignored",
          "traceback": [
            "\u001b[0;31m---------------------------------------------------------------------------\u001b[0m",
            "\u001b[0;31mKeyError\u001b[0m                                  Traceback (most recent call last)",
            "\u001b[0;32m<ipython-input-22-95033c081507>\u001b[0m in \u001b[0;36m<module>\u001b[0;34m\u001b[0m\n\u001b[1;32m      1\u001b[0m \u001b[0mmeal\u001b[0m\u001b[0;34m=\u001b[0m\u001b[0;34m{\u001b[0m\u001b[0;34m}\u001b[0m\u001b[0;34m\u001b[0m\u001b[0;34m\u001b[0m\u001b[0m\n\u001b[0;32m----> 2\u001b[0;31m \u001b[0mmeal\u001b[0m\u001b[0;34m[\u001b[0m\u001b[0;34m'변영인'\u001b[0m\u001b[0;34m]\u001b[0m\u001b[0;34m+=\u001b[0m\u001b[0;36m1\u001b[0m\u001b[0;34m\u001b[0m\u001b[0;34m\u001b[0m\u001b[0m\n\u001b[0m",
            "\u001b[0;31mKeyError\u001b[0m: '변영인'"
          ]
        }
      ]
    },
    {
      "cell_type": "code",
      "source": [
        "name=input(\"같이 밥먹은 사람의 이름 : \")\n",
        "\n",
        "\n",
        "if name in meal:\n",
        "  print(name+\"와(과) 이미 밥을 먹었네요!\")\n",
        "  meal[name]+=1\n",
        "else:\n",
        "  print(name+\"와(과) 첫 끼네요!\")\n",
        "  meal[name]=1\n",
        "\n",
        "meal\n"
      ],
      "metadata": {
        "colab": {
          "base_uri": "https://localhost:8080/"
        },
        "id": "v6Dbybin0O6-",
        "outputId": "46cfab50-4322-49f5-942c-02079a3ae1c6"
      },
      "execution_count": 25,
      "outputs": [
        {
          "output_type": "stream",
          "name": "stdout",
          "text": [
            "같이 밥먹은 사람의 이름 : 아.아\n",
            "아.아와(과) 첫 끼네요!\n"
          ]
        },
        {
          "output_type": "execute_result",
          "data": {
            "text/plain": [
              "{'죽어': 1, '우앙': 1, '아.아': 1}"
            ]
          },
          "metadata": {},
          "execution_count": 25
        }
      ]
    },
    {
      "cell_type": "markdown",
      "source": [
        "### 해시"
      ],
      "metadata": {
        "id": "FzIhkpafHKWo"
      }
    },
    {
      "cell_type": "markdown",
      "source": [
        "딕셔너리는 해시(Hash) 기법을 이용해서 데이터를 저장합니다. 보통 딕셔너리와 같은 키-값 형태의 자료형을 해시, 해시 맵, 해시테이블 등으로 부르기도 합니다."
      ],
      "metadata": {
        "id": "yCHxqYxzHL_N"
      }
    },
    {
      "cell_type": "markdown",
      "source": [
        "### 딕셔너리의 키 개수 구하기"
      ],
      "metadata": {
        "id": "Y1md8d1JHdlV"
      }
    },
    {
      "cell_type": "markdown",
      "source": [
        "딕셔너리를 사용하다 보면 딕셔너리의 키 개수(길이)를 구할 필요가 있습니다. 딕셔너리의 키와 값을 직접 타이핑할 때는 키의 개수를 알기가 쉽습니다. 하지만 실무에서는 함수 등을 사용해서 딕셔너리를 생성하거나 키를 추가하기 때문에 키의 개수가 눈에 보이지 않습니다. 따라서 다음과 같이 키의 개수는 len 함수를 사용하여 구합니다(키와 값은 1:1 관계이므로 키의 개수는 곧 값의 개수입니다).\n",
        "\n",
        "* `len(딕셔너리)`"
      ],
      "metadata": {
        "id": "ZYc1fYhxHgPS"
      }
    },
    {
      "cell_type": "code",
      "source": [
        "park, len(park)"
      ],
      "metadata": {
        "colab": {
          "base_uri": "https://localhost:8080/"
        },
        "id": "HbuOX4E0HECT",
        "outputId": "6febc802-20c5-4e3f-af26-8250e0fde8af"
      },
      "execution_count": 27,
      "outputs": [
        {
          "output_type": "execute_result",
          "data": {
            "text/plain": [
              "({'address': '서울시 동작구', 'car': 'K5', 'salary': 3000, 'childeren': 1}, 4)"
            ]
          },
          "metadata": {},
          "execution_count": 27
        }
      ]
    },
    {
      "cell_type": "code",
      "source": [],
      "metadata": {
        "colab": {
          "base_uri": "https://localhost:8080/"
        },
        "id": "7q26iF7JHnoK",
        "outputId": "6aac87fd-dd3e-4c50-931c-1fad3e4a46e5"
      },
      "execution_count": null,
      "outputs": [
        {
          "output_type": "execute_result",
          "data": {
            "text/plain": [
              "4"
            ]
          },
          "metadata": {},
          "execution_count": 21
        }
      ]
    }
  ]
}