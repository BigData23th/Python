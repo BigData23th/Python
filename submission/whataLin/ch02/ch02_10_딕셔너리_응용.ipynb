{
  "cells": [
    {
      "cell_type": "markdown",
      "metadata": {
        "colab_type": "text",
        "id": "view-in-github"
      },
      "source": [
        "<a href=\"https://colab.research.google.com/github/whataLIN/Bdata23th/blob/main/ch02_10_%EB%94%95%EC%85%94%EB%84%88%EB%A6%AC_%EC%9D%91%EC%9A%A9.ipynb\" target=\"_parent\"><img src=\"https://colab.research.google.com/assets/colab-badge.svg\" alt=\"Open In Colab\"/></a>"
      ]
    },
    {
      "cell_type": "markdown",
      "metadata": {
        "id": "uZtKonlQ_bxw"
      },
      "source": [
        "# 딕셔너리 응용"
      ]
    },
    {
      "cell_type": "markdown",
      "metadata": {
        "id": "SKYN1_K5_duj"
      },
      "source": [
        "## 딕셔너리 조작하기"
      ]
    },
    {
      "cell_type": "markdown",
      "metadata": {
        "id": "BIUDOX3P_fJx"
      },
      "source": [
        "### 딕셔너리에서 키의 값 저장하기"
      ]
    },
    {
      "cell_type": "markdown",
      "metadata": {
        "id": "9Brl-EP-_our"
      },
      "source": [
        "update(키=값)은 이름 그대로 딕셔너리에서 키의 값을 수정합니다. 예를 들어 딕셔너리가 x = {'a': 10}이라면 x.update(a=90)과 같이 키에서 작은따옴표 또는 큰따옴표를 빼고 키 이름과 값을 지정합니다."
      ]
    },
    {
      "cell_type": "code",
      "execution_count": 1,
      "metadata": {
        "colab": {
          "base_uri": "https://localhost:8080/"
        },
        "id": "ANRkulOQ-d22",
        "outputId": "b39a2c65-49f4-496a-c7b9-f9016f727637"
      },
      "outputs": [
        {
          "data": {
            "text/plain": [
              "{'a': 10, 'b': 20, 'c': 30, 'd': 40}"
            ]
          },
          "execution_count": 1,
          "metadata": {},
          "output_type": "execute_result"
        }
      ],
      "source": [
        "x={\n",
        "    'a':10, 'b':20, 'c':30, 'd':40\n",
        "}\n",
        "x\n"
      ]
    },
    {
      "cell_type": "code",
      "execution_count": 2,
      "metadata": {
        "colab": {
          "base_uri": "https://localhost:8080/"
        },
        "id": "owDpiM4g57Xk",
        "outputId": "b8ad3b09-3dff-4d00-fa66-de244a9749ea"
      },
      "outputs": [
        {
          "data": {
            "text/plain": [
              "{'a': 100, 'b': 20, 'c': 30, 'd': 40}"
            ]
          },
          "execution_count": 2,
          "metadata": {},
          "output_type": "execute_result"
        }
      ],
      "source": [
        "x['a']=100\n",
        "x"
      ]
    },
    {
      "cell_type": "code",
      "execution_count": 5,
      "metadata": {
        "colab": {
          "base_uri": "https://localhost:8080/"
        },
        "id": "pOpOIhP-6B_X",
        "outputId": "6217856f-026a-4df1-e94c-ecc6f18db353"
      },
      "outputs": [
        {
          "data": {
            "text/plain": [
              "{'a': 50, 'b': 20, 'c': 30, 'd': 40}"
            ]
          },
          "execution_count": 5,
          "metadata": {},
          "output_type": "execute_result"
        }
      ],
      "source": [
        "x.update(a=50)\n",
        "x"
      ]
    },
    {
      "cell_type": "markdown",
      "metadata": {
        "id": "EAm_Zpct_uPK"
      },
      "source": [
        "만약 딕셔너리에 키가 없으면 키-값 쌍을 추가합니다. 딕셔너리 x에는 키 'e'가 없으므로 x.update(e=50)을 실행하면 'e': 50을 추가합니다."
      ]
    },
    {
      "cell_type": "code",
      "execution_count": 7,
      "metadata": {
        "colab": {
          "base_uri": "https://localhost:8080/"
        },
        "id": "Y94MYml8_rjq",
        "outputId": "38cbb569-2abc-4285-a594-f43dd5971449"
      },
      "outputs": [
        {
          "data": {
            "text/plain": [
              "{'a': 50, 'b': 20, 'c': 30, 'd': 40, 'e': 50}"
            ]
          },
          "execution_count": 7,
          "metadata": {},
          "output_type": "execute_result"
        }
      ],
      "source": [
        "x.update(e=50)\n",
        "x"
      ]
    },
    {
      "cell_type": "code",
      "execution_count": 12,
      "metadata": {
        "colab": {
          "base_uri": "https://localhost:8080/"
        },
        "id": "HyEGaWB26fMY",
        "outputId": "729a8367-f551-4b61-edb8-acb2d4b784c0"
      },
      "outputs": [
        {
          "data": {
            "text/plain": [
              "[None, None, None, None, None]"
            ]
          },
          "execution_count": 12,
          "metadata": {},
          "output_type": "execute_result"
        }
      ],
      "source": [
        "[x.update(**{i:i}) for i in x]  #i에는 키가 들어감. \n"
      ]
    },
    {
      "cell_type": "code",
      "execution_count": 13,
      "metadata": {
        "colab": {
          "base_uri": "https://localhost:8080/"
        },
        "id": "iaUUFh2e7HKP",
        "outputId": "1a1c8c18-f783-41fb-da6a-170553da4961"
      },
      "outputs": [
        {
          "data": {
            "text/plain": [
              "{'a': 'a', 'b': 'b', 'c': 'c', 'd': 'd', 'e': 'e'}"
            ]
          },
          "execution_count": 13,
          "metadata": {},
          "output_type": "execute_result"
        }
      ],
      "source": [
        "x   #딕셔너리 언패킹"
      ]
    },
    {
      "cell_type": "markdown",
      "metadata": {
        "id": "9_hlLcsu_xQt"
      },
      "source": [
        "update는 키-값 쌍 여러 개를 콤마로 구분해서 넣어주면 값을 한꺼번에 수정할 수 있습니다. 이때도 키가 있으면 해당 키의 값을 수정하고 없으면 키-값 쌍을 추가합니다.\n"
      ]
    },
    {
      "cell_type": "code",
      "execution_count": 14,
      "metadata": {
        "colab": {
          "base_uri": "https://localhost:8080/"
        },
        "id": "1XHXIdt-_wDF",
        "outputId": "7eabe514-bbe9-448d-f789-32c91aee93a2"
      },
      "outputs": [
        {
          "data": {
            "text/plain": [
              "{'a': 900, 'b': 'b', 'c': 'c', 'd': 'd', 'e': 'e', 'f': 60}"
            ]
          },
          "execution_count": 14,
          "metadata": {},
          "output_type": "execute_result"
        }
      ],
      "source": [
        "x.update(a=900, f=60)\n",
        "x"
      ]
    },
    {
      "cell_type": "markdown",
      "metadata": {
        "id": "hBF_IeHL_2AO"
      },
      "source": [
        "update(키=값)은 키가 문자열일 때만 사용할 수 있습니다. 만약 키가 숫자일 경우에는 update(딕셔너리)처럼 딕셔너리를 넣어서 값을 수정할 수 있습니다."
      ]
    },
    {
      "cell_type": "code",
      "execution_count": 16,
      "metadata": {
        "colab": {
          "base_uri": "https://localhost:8080/",
          "height": 136
        },
        "id": "cL2ShtdU_0e6",
        "outputId": "07b55acc-ff02-4f82-83c1-7780a7be38a1"
      },
      "outputs": [
        {
          "ename": "SyntaxError",
          "evalue": "ignored",
          "output_type": "error",
          "traceback": [
            "\u001b[0;36m  File \u001b[0;32m\"<ipython-input-16-8391d0982a48>\"\u001b[0;36m, line \u001b[0;32m3\u001b[0m\n\u001b[0;31m    y.update(1='ONE')\u001b[0m\n\u001b[0m             ^\u001b[0m\n\u001b[0;31mSyntaxError\u001b[0m\u001b[0;31m:\u001b[0m expression cannot contain assignment, perhaps you meant \"==\"?\n"
          ]
        }
      ],
      "source": [
        "y={1:'one',2:'two'}\n",
        "\n",
        "y.update(1='ONE')   #변수명의 조건을 만족시켜야 update에서 키=값 형태로 대입 가능."
      ]
    },
    {
      "cell_type": "code",
      "execution_count": 18,
      "metadata": {
        "colab": {
          "base_uri": "https://localhost:8080/"
        },
        "id": "ssTDZCYR7pLB",
        "outputId": "a2dcb6f9-ff1c-4290-c832-3f576d81f054"
      },
      "outputs": [
        {
          "data": {
            "text/plain": [
              "{1: 'ONE', 2: 'TWO'}"
            ]
          },
          "execution_count": 18,
          "metadata": {},
          "output_type": "execute_result"
        }
      ],
      "source": [
        "y.update({1:\"ONE\", 2:\"TWO\"})\n",
        "y"
      ]
    },
    {
      "cell_type": "markdown",
      "metadata": {
        "id": "5VtWrCh3_7vP"
      },
      "source": [
        "다른 방법으로는 리스트와 튜플을 이용하는 방법도 있습니다. update(리스트), update(튜플)은 리스트와 튜플로 값을 수정합니다. 여기서 리스트는 [[키1, 값1], [키2, 값2]] 형식으로 키와 값을 리스트로 만들고 이 리스트를 다시 리스트 안에 넣어서 키-값 쌍을 나열해줍니다(튜플도 같은 형식)."
      ]
    },
    {
      "cell_type": "code",
      "execution_count": 22,
      "metadata": {
        "id": "pr8rwq2b_5gd"
      },
      "outputs": [],
      "source": [
        "y.update([[2,'TWO'],[4,'FOUR'],[6,'SIX']])"
      ]
    },
    {
      "cell_type": "markdown",
      "metadata": {
        "id": "rjg_vRhrAAhe"
      },
      "source": [
        "### 딕셔너리에서 키-값 쌍 삭제하기"
      ]
    },
    {
      "cell_type": "markdown",
      "metadata": {
        "id": "uIYzUtc4AFYe"
      },
      "source": [
        "pop(키)는 딕셔너리에서 특정 키-값 쌍을 삭제한 뒤 삭제한 값을 반환합니다."
      ]
    },
    {
      "cell_type": "code",
      "execution_count": 32,
      "metadata": {
        "colab": {
          "base_uri": "https://localhost:8080/"
        },
        "id": "QkGVNWTi_-XC",
        "outputId": "f61ded0d-53fc-4003-da4f-2f8a1dfd6eb8"
      },
      "outputs": [
        {
          "name": "stdout",
          "output_type": "stream",
          "text": [
            "{'a': 10, 'b': 20, 'c': 30, 'd': 40}\n",
            "{'b': 20, 'c': 30, 'd': 40}\n"
          ]
        }
      ],
      "source": [
        "x={'a':10, 'b':20, 'c':30, 'd':40}\n",
        "print(x)\n",
        "# x.pop()   #딕셔너리는 순서가 없기 때문에 pop 사용불가능\n",
        "#딕셔너리에서는 키가 있어야 pop 작동\n",
        "\n",
        "print(x.pop('a'))\n",
        "print(x)"
      ]
    },
    {
      "cell_type": "markdown",
      "metadata": {
        "id": "48JxDyUXALn0"
      },
      "source": [
        "pop(키, 기본값)처럼 기본값을 지정하면 딕셔너리에 키가 있을 때는 해당 키-값 쌍을 삭제한 뒤 삭제한 값을 반환하지만 키가 없을 때는 기본값만 반환합니다."
      ]
    },
    {
      "cell_type": "code",
      "execution_count": null,
      "metadata": {
        "colab": {
          "base_uri": "https://localhost:8080/"
        },
        "id": "F6fBaMUvAJHm",
        "outputId": "df2ff5f0-7398-45b2-c6e4-018d587ed1c7"
      },
      "outputs": [
        {
          "data": {
            "text/plain": [
              "0"
            ]
          },
          "execution_count": 8,
          "metadata": {},
          "output_type": "execute_result"
        }
      ],
      "source": [
        "print(x.pop('e',0))       #'e'키가 없다면 return 0"
      ]
    },
    {
      "cell_type": "markdown",
      "metadata": {
        "id": "Bcv9hNp2Eg6t"
      },
      "source": [
        "pop 대신 del로 특정 키-값 쌍을 삭제할 수도 있습니다. 이때는 [ ]에 키를 지정하여 del을 사용합니다."
      ]
    },
    {
      "cell_type": "code",
      "execution_count": 37,
      "metadata": {
        "colab": {
          "base_uri": "https://localhost:8080/"
        },
        "id": "tMJq_WL2ANZj",
        "outputId": "793f14df-d011-4db5-bbe6-c472f91f29a8"
      },
      "outputs": [
        {
          "data": {
            "text/plain": [
              "{'c': 30, 'd': 40}"
            ]
          },
          "execution_count": 37,
          "metadata": {},
          "output_type": "execute_result"
        }
      ],
      "source": [
        "del x['b']\n",
        "x"
      ]
    },
    {
      "cell_type": "markdown",
      "metadata": {
        "id": "bCqy8pb3Epoh"
      },
      "source": [
        "### 딕셔너리의 모든 키-값 쌍을 삭제하기"
      ]
    },
    {
      "cell_type": "code",
      "execution_count": 39,
      "metadata": {
        "colab": {
          "base_uri": "https://localhost:8080/"
        },
        "id": "K2g0_umAEkxU",
        "outputId": "7110f83d-ec7d-488f-d4b3-d4487451af6a"
      },
      "outputs": [
        {
          "data": {
            "text/plain": [
              "{}"
            ]
          },
          "execution_count": 39,
          "metadata": {},
          "output_type": "execute_result"
        }
      ],
      "source": [
        "# clear()는 딕셔너리의 모든 키-값 쌍을 삭제합니다.\n",
        "x.clear()\n",
        "x"
      ]
    },
    {
      "cell_type": "markdown",
      "metadata": {
        "id": "KBpOPiqOEt2L"
      },
      "source": [
        "### 딕셔너리에서 키의 값을 가져오기"
      ]
    },
    {
      "cell_type": "code",
      "execution_count": 40,
      "metadata": {
        "colab": {
          "base_uri": "https://localhost:8080/",
          "height": 209
        },
        "id": "VuYhWgB3EsJD",
        "outputId": "9e7c31b1-019b-4764-d6e2-c4abe044b9f9"
      },
      "outputs": [
        {
          "ename": "KeyError",
          "evalue": "ignored",
          "output_type": "error",
          "traceback": [
            "\u001b[0;31m---------------------------------------------------------------------------\u001b[0m",
            "\u001b[0;31mKeyError\u001b[0m                                  Traceback (most recent call last)",
            "\u001b[0;32m<ipython-input-40-8e987f398a5a>\u001b[0m in \u001b[0;36m<module>\u001b[0;34m\u001b[0m\n\u001b[1;32m      3\u001b[0m     \u001b[0;34m'a'\u001b[0m\u001b[0;34m:\u001b[0m\u001b[0;36m10\u001b[0m\u001b[0;34m,\u001b[0m \u001b[0;34m'b'\u001b[0m\u001b[0;34m:\u001b[0m\u001b[0;36m20\u001b[0m\u001b[0;34m,\u001b[0m \u001b[0;34m'c'\u001b[0m\u001b[0;34m:\u001b[0m\u001b[0;36m30\u001b[0m\u001b[0;34m,\u001b[0m \u001b[0;34m'd'\u001b[0m\u001b[0;34m:\u001b[0m\u001b[0;36m40\u001b[0m\u001b[0;34m\u001b[0m\u001b[0;34m\u001b[0m\u001b[0m\n\u001b[1;32m      4\u001b[0m }\n\u001b[0;32m----> 5\u001b[0;31m \u001b[0mx\u001b[0m\u001b[0;34m[\u001b[0m\u001b[0;34m'e'\u001b[0m\u001b[0;34m]\u001b[0m\u001b[0;34m\u001b[0m\u001b[0;34m\u001b[0m\u001b[0m\n\u001b[0m",
            "\u001b[0;31mKeyError\u001b[0m: 'e'"
          ]
        }
      ],
      "source": [
        "# get(키)는 딕셔너리에서 특정 키의 값을 가져옵니다.\n",
        "x={\n",
        "    'a':10, 'b':20, 'c':30, 'd':40\n",
        "}\n",
        "x['e']"
      ]
    },
    {
      "cell_type": "code",
      "execution_count": 41,
      "metadata": {
        "colab": {
          "base_uri": "https://localhost:8080/"
        },
        "id": "rvjaq8E598PQ",
        "outputId": "368b8f34-de22-4424-9eac-b8bfbe34ee77"
      },
      "outputs": [
        {
          "data": {
            "text/plain": [
              "10"
            ]
          },
          "execution_count": 41,
          "metadata": {},
          "output_type": "execute_result"
        }
      ],
      "source": [
        "x.get('a')"
      ]
    },
    {
      "cell_type": "markdown",
      "metadata": {
        "id": "eLNx2cw3E3od"
      },
      "source": [
        "get(키, 기본값)처럼 기본값을 지정하면 딕셔너리에 키가 있을 때는 해당 키의 값을 반환하지만 키가 없을 때는 기본값을 반환합니다."
      ]
    },
    {
      "cell_type": "code",
      "execution_count": 43,
      "metadata": {
        "colab": {
          "base_uri": "https://localhost:8080/"
        },
        "id": "w3K8xktbE1SW",
        "outputId": "4db6ad49-c049-4f3c-bef5-a642e92f2eb9"
      },
      "outputs": [
        {
          "name": "stdout",
          "output_type": "stream",
          "text": [
            "None\n",
            "9\n"
          ]
        }
      ],
      "source": [
        "print(x.get('e'))   #기본값 = None\n",
        "print(x.get('e',9)) #기본값을 지정할 수 있다."
      ]
    },
    {
      "cell_type": "markdown",
      "metadata": {
        "id": "5fw2zFKAE686"
      },
      "source": [
        "### 딕셔너리에서 키-값 쌍을 모두 가져오기"
      ]
    },
    {
      "cell_type": "markdown",
      "metadata": {
        "id": "tQ-QAdDOE9Qk"
      },
      "source": [
        "딕셔너리는 키와 값을 가져오는 다양한 메서드를 제공합니다.\n",
        "\n",
        "* items: 키-값 쌍을 모두 가져옴\n",
        "* keys: 키를 모두 가져옴\n",
        "* values: 값을 모두 가져옴"
      ]
    },
    {
      "cell_type": "code",
      "execution_count": 45,
      "metadata": {
        "colab": {
          "base_uri": "https://localhost:8080/"
        },
        "id": "QN-GyGFgE5LN",
        "outputId": "3c327780-7d0d-4001-c99a-9eac896b81c0"
      },
      "outputs": [
        {
          "name": "stdout",
          "output_type": "stream",
          "text": [
            "{'a': 10, 'b': 20, 'c': 30, 'd': 40}\n"
          ]
        },
        {
          "data": {
            "text/plain": [
              "dict_items([('a', 10), ('b', 20), ('c', 30), ('d', 40)])"
            ]
          },
          "execution_count": 45,
          "metadata": {},
          "output_type": "execute_result"
        }
      ],
      "source": [
        "# items()는 딕셔너리의 키-값 쌍을 모두 가져옵니다. entry\n",
        "\n",
        "print(x)\n",
        "x.items()\n"
      ]
    },
    {
      "cell_type": "code",
      "execution_count": 46,
      "metadata": {
        "colab": {
          "base_uri": "https://localhost:8080/"
        },
        "id": "WvN1vFKi_AVe",
        "outputId": "4e4f1d1b-76ac-47c0-f7a1-eec926868e55"
      },
      "outputs": [
        {
          "name": "stdout",
          "output_type": "stream",
          "text": [
            "('a', 10)\n",
            "('b', 20)\n",
            "('c', 30)\n",
            "('d', 40)\n"
          ]
        }
      ],
      "source": [
        "for i in x.items():\n",
        "  print(i)"
      ]
    },
    {
      "cell_type": "code",
      "execution_count": 47,
      "metadata": {
        "colab": {
          "base_uri": "https://localhost:8080/"
        },
        "id": "y2Mm4NiB_ECl",
        "outputId": "1e6a8b7e-9ef1-43e2-d8ec-485d459a1e80"
      },
      "outputs": [
        {
          "name": "stdout",
          "output_type": "stream",
          "text": [
            "a\n",
            "10\n",
            "b\n",
            "20\n",
            "c\n",
            "30\n",
            "d\n",
            "40\n"
          ]
        }
      ],
      "source": [
        "for k,v in x.items():\n",
        "  print(k)\n",
        "  print(v)"
      ]
    },
    {
      "cell_type": "code",
      "execution_count": 48,
      "metadata": {
        "colab": {
          "base_uri": "https://localhost:8080/"
        },
        "id": "z5Cn2RDuFCel",
        "outputId": "5d77ef89-83ea-4e9b-a0b8-4fef5973118f"
      },
      "outputs": [
        {
          "name": "stdout",
          "output_type": "stream",
          "text": [
            "a\n",
            "b\n",
            "c\n",
            "d\n"
          ]
        }
      ],
      "source": [
        "# keys()는 키를 모두 가져옵니다.\n",
        "\n",
        "for k in x.keys():\n",
        "  print(k)\n",
        "\n",
        "for k in x:\n",
        "  print(k)"
      ]
    },
    {
      "cell_type": "code",
      "execution_count": 50,
      "metadata": {
        "colab": {
          "base_uri": "https://localhost:8080/"
        },
        "id": "i935UdgcFGaR",
        "outputId": "d25797f5-881d-426e-dd8b-6320e7b14c0d"
      },
      "outputs": [
        {
          "data": {
            "text/plain": [
              "dict_values([10, 20, 30, 40])"
            ]
          },
          "execution_count": 50,
          "metadata": {},
          "output_type": "execute_result"
        }
      ],
      "source": [
        "# values()는 값을 모두 가져옵니다.\n",
        "\n",
        "x.values()"
      ]
    },
    {
      "cell_type": "code",
      "execution_count": 51,
      "metadata": {
        "colab": {
          "base_uri": "https://localhost:8080/"
        },
        "id": "qaNUXj-B_Wjd",
        "outputId": "03a5aa9d-f729-416c-9877-5381a37c39c8"
      },
      "outputs": [
        {
          "name": "stdout",
          "output_type": "stream",
          "text": [
            "10\n",
            "20\n",
            "30\n",
            "40\n"
          ]
        }
      ],
      "source": [
        "for v in x.values():\n",
        "  print(v)"
      ]
    },
    {
      "cell_type": "markdown",
      "metadata": {
        "id": "V5v9lyEoFNZE"
      },
      "source": [
        "## 반복문으로 딕셔너리의 키-값 쌍을 모두 출력하기"
      ]
    },
    {
      "cell_type": "markdown",
      "metadata": {
        "id": "RfLcd88MFYr6"
      },
      "source": [
        "for i in x:처럼 for 반복문에 딕셔너리를 지정한 뒤에 print로 변수 i를 출력해보면 값은 출력되지 않고 키만 출력됩니다. 그럼 키와 값을 모두 출력하려면 어떻게 해야 할까요?\n",
        "\n",
        "이때는 for in 뒤에 딕셔너리를 지정하고 items를 사용해야 합니다.\n",
        "\n",
        "```\n",
        "for 키, 값 in 딕셔너리.items():\n",
        "     반복할 코드\n",
        "```"
      ]
    },
    {
      "cell_type": "markdown",
      "metadata": {
        "id": "n__sxlkrFglx"
      },
      "source": [
        "`for key, value in x.items():`는 딕셔너리 x에서 키-값 쌍을 꺼내서 키는 key에 값은 value에 저장하고, 꺼낼 때마다 코드를 반복합니다. 따라서 print로 key와 value를 출력하면 키-값 쌍을 모두 출력할 수 있습니다."
      ]
    },
    {
      "cell_type": "markdown",
      "metadata": {
        "id": "SQWf1aONIu34"
      },
      "source": [
        "## 딕셔너리 안에서 딕셔너리 사용하기"
      ]
    },
    {
      "cell_type": "markdown",
      "metadata": {
        "id": "2A5RdBk3IxQl"
      },
      "source": [
        "딕셔너리는 값 부분에 다시 딕셔너리가 계속 들어갈 수 있습니다.\n",
        "\n",
        "* `딕셔너리 = {키1: {키A: 값A}, 키2: {키B: 값B}}`"
      ]
    },
    {
      "cell_type": "code",
      "execution_count": 54,
      "metadata": {
        "colab": {
          "base_uri": "https://localhost:8080/"
        },
        "id": "KqG8iE5GF3LU",
        "outputId": "2121417d-d984-4423-df82-29cd792ca02b"
      },
      "outputs": [
        {
          "data": {
            "text/plain": [
              "{'삼성전자': {'대주주': '이재용', '업계순위': 1, '취급품목': {'갤럭시': 20000, '냉장고': 30000}},\n",
              " '송송전자': {'대주주': '김송송', '업계순위': 100, '취급품목': {'손목시계': 10}}}"
            ]
          },
          "execution_count": 54,
          "metadata": {},
          "output_type": "execute_result"
        }
      ],
      "source": [
        "a={\n",
        "    \"삼성전자\":{\n",
        "        \"대주주\":\"이재용\",\n",
        "        \"업계순위\":1,\n",
        "        \"취급품목\":{\n",
        "            \"갤럭시\":20000,\n",
        "            \"냉장고\":30000\n",
        "        }\n",
        "    },\n",
        "   \"송송전자\":{\n",
        "       \"대주주\":\"김송송\",\n",
        "       \"업계순위\":100,\n",
        "       \"취급품목\":{\n",
        "           \"손목시계\":10   \n",
        "       }\n",
        "   }\n",
        "}\n",
        "\n",
        "a"
      ]
    },
    {
      "cell_type": "markdown",
      "metadata": {
        "id": "YdxNleWUI7ET"
      },
      "source": [
        "중첩 딕셔너리는 계층형 데이터를 저장할 때 유용합니다.\n",
        "\n",
        "딕셔너리 안에 들어있는 딕셔너리에 접근하려면 딕셔너리 뒤에 `[ ](대괄호)`를 단계만큼 붙이고 키를 지정해주면 됩니다.\n",
        "\n",
        "* `딕셔너리[키][키]`\n",
        "* `딕셔너리[키][키] = 값`"
      ]
    },
    {
      "cell_type": "code",
      "execution_count": 55,
      "metadata": {
        "colab": {
          "base_uri": "https://localhost:8080/"
        },
        "id": "q-SJI05mAS4U",
        "outputId": "4ab58244-2c49-4fd0-f0c0-c26b68155216"
      },
      "outputs": [
        {
          "data": {
            "text/plain": [
              "{'대주주': '이재용', '업계순위': 1, '취급품목': {'갤럭시': 20000, '냉장고': 30000}}"
            ]
          },
          "execution_count": 55,
          "metadata": {},
          "output_type": "execute_result"
        }
      ],
      "source": [
        "a['삼성전자']"
      ]
    },
    {
      "cell_type": "code",
      "execution_count": 56,
      "metadata": {
        "colab": {
          "base_uri": "https://localhost:8080/"
        },
        "id": "rRszo6E7AXDl",
        "outputId": "3b2f830f-6883-457e-ff85-98373149e5ec"
      },
      "outputs": [
        {
          "data": {
            "text/plain": [
              "{'갤럭시': 20000, '냉장고': 30000}"
            ]
          },
          "execution_count": 56,
          "metadata": {},
          "output_type": "execute_result"
        }
      ],
      "source": [
        "a['삼성전자']['취급품목']"
      ]
    },
    {
      "cell_type": "code",
      "execution_count": 59,
      "metadata": {
        "colab": {
          "base_uri": "https://localhost:8080/"
        },
        "id": "34gRCR4DAeG4",
        "outputId": "4b0c06af-5197-4058-a68c-d5225e918327"
      },
      "outputs": [
        {
          "data": {
            "text/plain": [
              "100000"
            ]
          },
          "execution_count": 59,
          "metadata": {},
          "output_type": "execute_result"
        }
      ],
      "source": [
        "a['삼성전자']['취급품목']['갤럭시']=100000\n",
        "a['삼성전자']['취급품목']['갤럭시']"
      ]
    },
    {
      "cell_type": "markdown",
      "metadata": {
        "id": "oAG8PT9-AoMz"
      },
      "source": [
        "### 딕셔너리의 할당과 복사\n",
        "---\n"
      ]
    },
    {
      "cell_type": "code",
      "execution_count": 65,
      "metadata": {
        "colab": {
          "base_uri": "https://localhost:8080/"
        },
        "id": "27BRFnR7Aq47",
        "outputId": "2fbc6c32-a8f4-472a-813b-063df3744e67"
      },
      "outputs": [
        {
          "data": {
            "text/plain": [
              "[0, 1, 2, 3, 4, 5, 6, 7, 8, 9]"
            ]
          },
          "execution_count": 65,
          "metadata": {},
          "output_type": "execute_result"
        }
      ],
      "source": [
        "a=list(range(10))\n",
        "a"
      ]
    },
    {
      "cell_type": "code",
      "execution_count": 66,
      "metadata": {
        "id": "i0bpZxtwAto-"
      },
      "outputs": [],
      "source": [
        "b=a\n",
        "b.append('a')"
      ]
    },
    {
      "cell_type": "code",
      "execution_count": 62,
      "metadata": {
        "colab": {
          "base_uri": "https://localhost:8080/"
        },
        "id": "dzoa7t1VA12s",
        "outputId": "89d7026e-b6f4-40f6-db66-aa5327454169"
      },
      "outputs": [
        {
          "data": {
            "text/plain": [
              "{'삼성전자': {'대주주': '이재용', '업계순위': 1, '취급품목': {'갤럭시': 100000, '냉장고': 30000}},\n",
              " '송송전자': {'대주주': '김송송', '업계순위': 100, '취급품목': {'손목시계': 10}}}"
            ]
          },
          "execution_count": 62,
          "metadata": {},
          "output_type": "execute_result"
        }
      ],
      "source": [
        "a"
      ]
    },
    {
      "cell_type": "code",
      "execution_count": 79,
      "metadata": {
        "colab": {
          "base_uri": "https://localhost:8080/"
        },
        "id": "XG4yBqRFA2pK",
        "outputId": "e50aa84d-4dd7-4d85-95f7-3e99c984e8b6"
      },
      "outputs": [
        {
          "data": {
            "text/plain": [
              "([0, 1, 2, 3, 4, 5, 6, 7, 8, 9, 'a'], [0, 1, 2, 3, 4, 5, 6, 7, 8, 9, 'a', 'b'])"
            ]
          },
          "execution_count": 79,
          "metadata": {},
          "output_type": "execute_result"
        }
      ],
      "source": [
        "b=a.copy()\n",
        "b.append('b')\n",
        "a,b"
      ]
    },
    {
      "cell_type": "code",
      "execution_count": 78,
      "metadata": {
        "id": "KULGvc0IA_99"
      },
      "outputs": [],
      "source": [
        "c={\n",
        "    'a':10, 'b':20, 'c':{'d':40}\n",
        "}"
      ]
    },
    {
      "cell_type": "code",
      "execution_count": 80,
      "metadata": {
        "colab": {
          "base_uri": "https://localhost:8080/"
        },
        "id": "uvPrGYUwBFxW",
        "outputId": "24042132-5edf-43a4-cecd-b8b029058b69"
      },
      "outputs": [
        {
          "data": {
            "text/plain": [
              "{'a': 10, 'b': 20, 'c': {'d': 40}, 'e': 99}"
            ]
          },
          "execution_count": 80,
          "metadata": {},
          "output_type": "execute_result"
        }
      ],
      "source": [
        "d=c\n",
        "d['e']=99\n",
        "c"
      ]
    },
    {
      "cell_type": "code",
      "execution_count": 72,
      "metadata": {
        "colab": {
          "base_uri": "https://localhost:8080/"
        },
        "id": "n9qfvQYaBJ5d",
        "outputId": "8e8d6b16-d08c-4063-d5c2-2ae5580ffe7a"
      },
      "outputs": [
        {
          "data": {
            "text/plain": [
              "({'a': 10, 'b': 20, 'c': 30, 'd': 40, 'e': 99},\n",
              " {'a': 10, 'b': 20, 'c': 30, 'd': 40, 'e': 99, 'f': 1000})"
            ]
          },
          "execution_count": 72,
          "metadata": {},
          "output_type": "execute_result"
        }
      ],
      "source": [
        "d=c.copy()\n",
        "d['f']=1000\n",
        "c,d"
      ]
    },
    {
      "cell_type": "code",
      "execution_count": 81,
      "metadata": {
        "colab": {
          "base_uri": "https://localhost:8080/"
        },
        "id": "UvUFCQJuBOLk",
        "outputId": "7c410356-bbbe-4a8a-c750-1a90961e46c7"
      },
      "outputs": [
        {
          "data": {
            "text/plain": [
              "{'a': 10, 'b': 20, 'c': {'d': 999}, 'e': 99}"
            ]
          },
          "execution_count": 81,
          "metadata": {},
          "output_type": "execute_result"
        }
      ],
      "source": [
        "d['c']['d']=999\n",
        "c\n"
      ]
    },
    {
      "cell_type": "code",
      "execution_count": 84,
      "metadata": {
        "colab": {
          "base_uri": "https://localhost:8080/"
        },
        "id": "L6oQTijTBiTt",
        "outputId": "5112e67a-1f0c-4267-eb94-713b759089fd"
      },
      "outputs": [
        {
          "data": {
            "text/plain": [
              "{'a': 10, 'b': 20, 'c': {'d': 999}, 'e': 99}"
            ]
          },
          "execution_count": 84,
          "metadata": {},
          "output_type": "execute_result"
        }
      ],
      "source": [
        "import copy\n",
        "\n",
        "e=copy.deepcopy(c)\n",
        "e"
      ]
    },
    {
      "cell_type": "code",
      "execution_count": 88,
      "metadata": {
        "colab": {
          "base_uri": "https://localhost:8080/"
        },
        "id": "njrAH0z-BmuI",
        "outputId": "9acfa7fe-224a-4d46-eac2-a5811bc2dd7d"
      },
      "outputs": [
        {
          "data": {
            "text/plain": [
              "({'a': 10, 'b': 20, 'c': {'d': 999}, 'e': 99},\n",
              " {'a': 10, 'b': 20, 'c': {'d': 999}, 'e': 99},\n",
              " {'a': 10, 'b': 20, 'c': {'d': False}, 'e': 99})"
            ]
          },
          "execution_count": 88,
          "metadata": {},
          "output_type": "execute_result"
        }
      ],
      "source": [
        "e['c']['d']=False\n",
        "c,d,e\n"
      ]
    }
  ],
  "metadata": {
    "colab": {
      "include_colab_link": true,
      "provenance": []
    },
    "kernelspec": {
      "display_name": "Python 3",
      "name": "python3"
    },
    "language_info": {
      "name": "python"
    }
  },
  "nbformat": 4,
  "nbformat_minor": 0
}
