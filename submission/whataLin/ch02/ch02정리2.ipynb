{
  "nbformat": 4,
  "nbformat_minor": 0,
  "metadata": {
    "colab": {
      "provenance": [],
      "authorship_tag": "ABX9TyMUXqTMt5HvQmcSG6MC0fDZ",
      "include_colab_link": true
    },
    "kernelspec": {
      "name": "python3",
      "display_name": "Python 3"
    },
    "language_info": {
      "name": "python"
    }
  },
  "cells": [
    {
      "cell_type": "markdown",
      "metadata": {
        "id": "view-in-github",
        "colab_type": "text"
      },
      "source": [
        "<a href=\"https://colab.research.google.com/github/whataLIN/Bdata23th/blob/main/ch02%EC%A0%95%EB%A6%AC2.ipynb\" target=\"_parent\"><img src=\"https://colab.research.google.com/assets/colab-badge.svg\" alt=\"Open In Colab\"/></a>"
      ]
    },
    {
      "cell_type": "markdown",
      "source": [
        "# **리스트  응용**\n",
        "---\n",
        "\n",
        "리스트는 대괄호를 이용해 만들 수 있다.<br>\n",
        "\n",
        "`리스트=[]`"
      ],
      "metadata": {
        "id": "_2LIAY2USgZK"
      }
    },
    {
      "cell_type": "markdown",
      "source": [
        "## **리스트의 메서드들**\n",
        "\n",
        "\n",
        "\n",
        "\n",
        "\n",
        "\n",
        "\n",
        "\n",
        "\n"
      ],
      "metadata": {
        "id": "WwnqQmUUTJJ6"
      }
    },
    {
      "cell_type": "markdown",
      "source": [
        "\n",
        "**append** : 리스트.append(추가할 요소)\n",
        "- 리스트의 맨 끝에 요소 추가<br><br>\n",
        "\n",
        "**extend** : 리스트.expend(추가할 요소)\n",
        "- 리스트를 확장해 괄호 안 요소를 추가한다. 리스트도 가능하다.<br><br>\n",
        "\n",
        "**insert** : 리스트.insert(인덱스, 요소)\n",
        "- 인덱스의 위치에 요소를 삽입한다.<br><br>\n",
        "\n",
        "**pop** : 리스트.pop() \n",
        "- 리스트의 맨 끝 요소를 삭제 후 반환.<br>\n",
        "    = print(리스트[-1) del 리스트[-1]<br>\n",
        "- pop(인덱스번호) 형식으로도 사용가능.<br><br>\n",
        "\n",
        "**remove** : 리스트.remove(\"값\")\n",
        "- 리스트에서 해당 값을 찾아 삭제. 값을 반환하지 않음<br><br>\n",
        "\n",
        "**index** : 리스트.index(\"요소\") \n",
        "- 리스트에서 해당 요소의 인덱스 값을 찾아 반환<br><br>\n",
        "\n",
        "**count** : 리스트.count(\"요소\") \n",
        "- 리스트 내에서 해당 요소의 갯수를 세어 반환<br><br>\n",
        "\n",
        "**reverse** : 리스트.reverse() \n",
        "- 리스트를 거꾸로 뒤집는다. (원본에 영향 o)<br>\n",
        "만약 원본에 영향 주고 싶지 않다면 list(reversed(country))<br><br>\n",
        "\n",
        "**sort** : 리스트.sorted(reverse=False/True)\n",
        "<br> 만약 원본에 영향 주고 싶지 않다면 sorted(리스트)사용<br><br>\n",
        "\n",
        "**copy** : 해당 리스트와 똑같은 리스트 반환<br><br>\n",
        "\n",
        "**clear** : 리스트를 빈 리스트로 만듬"
      ],
      "metadata": {
        "id": "R2moS-SzhMYL"
      }
    },
    {
      "cell_type": "markdown",
      "source": [
        "#### **함수들**\n",
        "\n",
        "max , min , sum\n",
        "\n",
        "random.choice : list/tuple에서 요소를 랜덤취득\n"
      ],
      "metadata": {
        "id": "3B3G44lyiHs8"
      }
    },
    {
      "cell_type": "markdown",
      "source": [
        "#### **리스트 컴프리헨션**\n",
        "\n",
        "`리스트 = [표현식 for i in range(요소갯수)]`"
      ],
      "metadata": {
        "id": "P_P2p7dyiUDX"
      }
    },
    {
      "cell_type": "markdown",
      "source": [
        "# **반복문 응용**\n",
        "\n",
        "**enumerate(리스트)** : 리스트의 인덱스, 값을 차례로 써둔 것.<br>\n",
        "\n",
        "for a,b in enumerate(리스트) - a는 인덱스, b는 값이 됨<br>\n",
        "\n",
        "변수가 하나면 튜플 형태로 반환\n",
        "\n",
        "\n",
        "\n"
      ],
      "metadata": {
        "id": "t7_1fdJzfx-U"
      }
    },
    {
      "cell_type": "code",
      "source": [
        "import random\n",
        "\n",
        "rc=random.choices(range(1,21),k=20)\n",
        "rc\n"
      ],
      "metadata": {
        "colab": {
          "base_uri": "https://localhost:8080/"
        },
        "id": "eZGpr_1RjdT6",
        "outputId": "344f2cb4-6724-4c69-fa0a-b8514c151565"
      },
      "execution_count": null,
      "outputs": [
        {
          "output_type": "execute_result",
          "data": {
            "text/plain": [
              "[19, 3, 12, 5, 6, 9, 11, 4, 16, 12, 19, 3, 12, 13, 19, 10, 8, 6, 19, 1]"
            ]
          },
          "metadata": {},
          "execution_count": 35
        }
      ]
    },
    {
      "cell_type": "code",
      "source": [
        "lunch=[(rc[i],rc[i+1]) for i in range(0,len(rc),2)]\n",
        "lunch"
      ],
      "metadata": {
        "colab": {
          "base_uri": "https://localhost:8080/"
        },
        "id": "QJA1H1aIoUeV",
        "outputId": "621de831-630c-45ef-b628-015a37da3bc2"
      },
      "execution_count": null,
      "outputs": [
        {
          "output_type": "execute_result",
          "data": {
            "text/plain": [
              "[(19, 3),\n",
              " (12, 5),\n",
              " (6, 9),\n",
              " (11, 4),\n",
              " (16, 12),\n",
              " (19, 3),\n",
              " (12, 13),\n",
              " (19, 10),\n",
              " (8, 6),\n",
              " (19, 1)]"
            ]
          },
          "metadata": {},
          "execution_count": 36
        }
      ]
    },
    {
      "cell_type": "code",
      "source": [
        "import random\n",
        "lunch3=[]\n",
        "\n",
        "rc=[random.sample(list(range(23)),1) for i in range(10)]\n",
        "\n",
        "for i in range(0,len(rc)):\n",
        "  if i%2:\n",
        "    tmp=(rc[i],rc[i+1])\n",
        "    lunch3.append(tmp)\n",
        "\n",
        "lunch3"
      ],
      "metadata": {
        "colab": {
          "base_uri": "https://localhost:8080/",
          "height": 245
        },
        "id": "L2B5CnQtkAd6",
        "outputId": "2520f71a-f19b-4483-a04c-290e44c7d954"
      },
      "execution_count": null,
      "outputs": [
        {
          "output_type": "error",
          "ename": "IndexError",
          "evalue": "ignored",
          "traceback": [
            "\u001b[0;31m---------------------------------------------------------------------------\u001b[0m",
            "\u001b[0;31mIndexError\u001b[0m                                Traceback (most recent call last)",
            "\u001b[0;32m<ipython-input-16-31b2f8bdb99a>\u001b[0m in \u001b[0;36m<module>\u001b[0;34m\u001b[0m\n\u001b[1;32m      6\u001b[0m \u001b[0;32mfor\u001b[0m \u001b[0mi\u001b[0m \u001b[0;32min\u001b[0m \u001b[0mrange\u001b[0m\u001b[0;34m(\u001b[0m\u001b[0;36m0\u001b[0m\u001b[0;34m,\u001b[0m\u001b[0mlen\u001b[0m\u001b[0;34m(\u001b[0m\u001b[0mrc\u001b[0m\u001b[0;34m)\u001b[0m\u001b[0;34m)\u001b[0m\u001b[0;34m:\u001b[0m\u001b[0;34m\u001b[0m\u001b[0;34m\u001b[0m\u001b[0m\n\u001b[1;32m      7\u001b[0m   \u001b[0;32mif\u001b[0m \u001b[0mi\u001b[0m\u001b[0;34m%\u001b[0m\u001b[0;36m2\u001b[0m\u001b[0;34m:\u001b[0m\u001b[0;34m\u001b[0m\u001b[0;34m\u001b[0m\u001b[0m\n\u001b[0;32m----> 8\u001b[0;31m     \u001b[0mtmp\u001b[0m\u001b[0;34m=\u001b[0m\u001b[0;34m(\u001b[0m\u001b[0mrc\u001b[0m\u001b[0;34m[\u001b[0m\u001b[0mi\u001b[0m\u001b[0;34m]\u001b[0m\u001b[0;34m,\u001b[0m\u001b[0mrc\u001b[0m\u001b[0;34m[\u001b[0m\u001b[0mi\u001b[0m\u001b[0;34m+\u001b[0m\u001b[0;36m1\u001b[0m\u001b[0;34m]\u001b[0m\u001b[0;34m)\u001b[0m\u001b[0;34m\u001b[0m\u001b[0;34m\u001b[0m\u001b[0m\n\u001b[0m\u001b[1;32m      9\u001b[0m     \u001b[0mlunch3\u001b[0m\u001b[0;34m.\u001b[0m\u001b[0mappend\u001b[0m\u001b[0;34m(\u001b[0m\u001b[0mtmp\u001b[0m\u001b[0;34m)\u001b[0m\u001b[0;34m\u001b[0m\u001b[0;34m\u001b[0m\u001b[0m\n\u001b[1;32m     10\u001b[0m \u001b[0;34m\u001b[0m\u001b[0m\n",
            "\u001b[0;31mIndexError\u001b[0m: list index out of range"
          ]
        }
      ]
    },
    {
      "cell_type": "markdown",
      "source": [
        "# **문자열 응용**\n",
        "\n",
        "---"
      ],
      "metadata": {
        "id": "Ptsc83v9lW5p"
      }
    },
    {
      "cell_type": "markdown",
      "source": [
        "## 메서드들\n",
        "\n",
        "**replace** : 문자열.replace(\"a\",\"b\")\n",
        " - 문자열 내에 있는 모든 a를 b로 바꾼다.\n",
        " replace(\"a\",\"b\",횟수) - 횟수만큼 a를 b로 바꾼다.<br><br>\n",
        "\n",
        "**split** : 문자열.split(구분자)\n",
        " - 문자열을 구분자 기준으로 분리<br>\n",
        "\n",
        " [i for i in a] - 문자열을 한글자씩 쪼개진 글자의 리스트로 변환<br>\n",
        "\n",
        " \n",
        "\n",
        "\n",
        "\n"
      ],
      "metadata": {
        "id": "-DFo6xRylaqL"
      }
    },
    {
      "cell_type": "markdown",
      "source": [],
      "metadata": {
        "id": "R-fx9tFAm1IU"
      }
    },
    {
      "cell_type": "code",
      "source": [
        "str=\"오늘의 점심은 돈까스입니다.\"\n",
        "sep=[i for i in str]\n",
        "str,sep\n",
        "\n",
        "\"   \".join(sep)\n",
        "\n",
        "\n",
        "a=\"JamesPotato\"\n",
        "a.upper(),a.lower()"
      ],
      "metadata": {
        "colab": {
          "base_uri": "https://localhost:8080/",
          "height": 35
        },
        "id": "upaS94mpmeNB",
        "outputId": "07ee8530-b53f-47bb-8453-a4f9295cdb1f"
      },
      "execution_count": null,
      "outputs": [
        {
          "output_type": "execute_result",
          "data": {
            "text/plain": [
              "'오   늘   의       점   심   은       돈   까   스   입   니   다   .'"
            ],
            "application/vnd.google.colaboratory.intrinsic+json": {
              "type": "string"
            }
          },
          "metadata": {},
          "execution_count": 27
        }
      ]
    },
    {
      "cell_type": "code",
      "source": [
        "a=\"35\"\n",
        "a.zfill(5)"
      ],
      "metadata": {
        "colab": {
          "base_uri": "https://localhost:8080/",
          "height": 35
        },
        "id": "rrgZ7n7BmcER",
        "outputId": "d7735f0c-a579-464f-fcbe-7553ad3e41ea"
      },
      "execution_count": null,
      "outputs": [
        {
          "output_type": "execute_result",
          "data": {
            "text/plain": [
              "'00035'"
            ],
            "application/vnd.google.colaboratory.intrinsic+json": {
              "type": "string"
            }
          },
          "metadata": {},
          "execution_count": 28
        }
      ]
    },
    {
      "cell_type": "code",
      "source": [
        "s=\"안녕 나는 감자. 지리산 감자야\"\n",
        "s.find(\"감자\")"
      ],
      "metadata": {
        "colab": {
          "base_uri": "https://localhost:8080/"
        },
        "id": "G1oJZAf-neTx",
        "outputId": "405f4858-7dfd-46f7-82c3-b6c1ca13754c"
      },
      "execution_count": null,
      "outputs": [
        {
          "output_type": "execute_result",
          "data": {
            "text/plain": [
              "6"
            ]
          },
          "metadata": {},
          "execution_count": 32
        }
      ]
    },
    {
      "cell_type": "code",
      "source": [
        "s=\"안녕 나는 감자. 지리산 감자야\"\n",
        "s.find(\"고구마\")"
      ],
      "metadata": {
        "colab": {
          "base_uri": "https://localhost:8080/"
        },
        "id": "J6oO5LJ3nnE3",
        "outputId": "01257081-c11a-4d72-b24f-ce3442fab5d6"
      },
      "execution_count": null,
      "outputs": [
        {
          "output_type": "execute_result",
          "data": {
            "text/plain": [
              "-1"
            ]
          },
          "metadata": {},
          "execution_count": 33
        }
      ]
    },
    {
      "cell_type": "code",
      "source": [
        "s=\"안녕 나는 감자. 지리산 감자야\"\n",
        "s.count(\"감자\")"
      ],
      "metadata": {
        "colab": {
          "base_uri": "https://localhost:8080/"
        },
        "id": "UvNIJr99nqT7",
        "outputId": "920afb5a-56bf-401b-dc17-5528a35caaa9"
      },
      "execution_count": null,
      "outputs": [
        {
          "output_type": "execute_result",
          "data": {
            "text/plain": [
              "2"
            ]
          },
          "metadata": {},
          "execution_count": 34
        }
      ]
    }
  ]
}