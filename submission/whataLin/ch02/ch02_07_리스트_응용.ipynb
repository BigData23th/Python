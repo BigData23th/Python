{
  "nbformat": 4,
  "nbformat_minor": 0,
  "metadata": {
    "colab": {
      "provenance": [],
      "collapsed_sections": [
        "K8TvUjhbYf7x",
        "glHB7Y0UYnpm",
        "VT7bwaRgY3oG",
        "2HZnWqYhZCdh",
        "kyn9vIDQZSZ_",
        "ibYvJldjZ-9N",
        "iot6Ojlyb9d_",
        "-tUv0GzrcTbs",
        "jRp1EQMUch1C",
        "Lta-u3P7co0g",
        "PDPyJqX8cvK2",
        "wKWOgudCc2jU",
        "UwvaeBYqdE0L",
        "6gIMc9xldPUB"
      ],
      "include_colab_link": true
    },
    "kernelspec": {
      "name": "python3",
      "display_name": "Python 3"
    },
    "language_info": {
      "name": "python"
    }
  },
  "cells": [
    {
      "cell_type": "markdown",
      "metadata": {
        "id": "view-in-github",
        "colab_type": "text"
      },
      "source": [
        "<a href=\"https://colab.research.google.com/github/whataLIN/Bdata23th/blob/main/ch02_07_%EB%A6%AC%EC%8A%A4%ED%8A%B8_%EC%9D%91%EC%9A%A9.ipynb\" target=\"_parent\"><img src=\"https://colab.research.google.com/assets/colab-badge.svg\" alt=\"Open In Colab\"/></a>"
      ]
    },
    {
      "cell_type": "markdown",
      "source": [
        "# 리스트 응용"
      ],
      "metadata": {
        "id": "G6ZVllQhYcbV"
      }
    },
    {
      "cell_type": "markdown",
      "source": [
        "## 리스트 조작하기"
      ],
      "metadata": {
        "id": "oFfwKwUKYW_h"
      }
    },
    {
      "cell_type": "markdown",
      "source": [
        "### 리스트에 요소 추가하기"
      ],
      "metadata": {
        "id": "K8TvUjhbYf7x"
      }
    },
    {
      "cell_type": "markdown",
      "source": [
        "리스트의 대표적인 기능이 바로 요소 추가입니다. 다음과 같이 리스트에 요소를 추가하는 메서드는 3가지가 있습니다.\n",
        "\n",
        "* `append`: 요소 하나를 추가\n",
        "* `extend`: 리스트를 연결하여 확장\n",
        "* `insert`: 특정 인덱스에 요소 추가"
      ],
      "metadata": {
        "id": "78Pck1pcYiDa"
      }
    },
    {
      "cell_type": "markdown",
      "source": [
        "### 기존 리스트에 요소 하나 추가하기"
      ],
      "metadata": {
        "id": "glHB7Y0UYnpm"
      }
    },
    {
      "cell_type": "code",
      "execution_count": null,
      "metadata": {
        "colab": {
          "base_uri": "https://localhost:8080/"
        },
        "id": "U7W5ZUuFYSZE",
        "outputId": "2fc4d2ac-05f9-4c0f-9033-e0ec8f0d898d"
      },
      "outputs": [
        {
          "output_type": "stream",
          "name": "stdout",
          "text": [
            "[10, 20, 30]\n"
          ]
        },
        {
          "output_type": "execute_result",
          "data": {
            "text/plain": [
              "[10, 20, 30, 500]"
            ]
          },
          "metadata": {},
          "execution_count": 6
        }
      ],
      "source": [
        "#append : 리스트 맨 뒷자리에 새 원소 추가\n",
        "a=[10,20,30]\n",
        "print(a)\n",
        "a.append(500)\n",
        "a"
      ]
    },
    {
      "cell_type": "code",
      "source": [
        "# 물론 빈 리스트에 값을 추가할 수도 있습니다. - .append() 메서드 사용\n",
        "b=[]\n",
        "b.append(10)\n",
        "b"
      ],
      "metadata": {
        "colab": {
          "base_uri": "https://localhost:8080/"
        },
        "id": "W_A5RuYqYvan",
        "outputId": "a0e8bbcc-4db2-462c-dcb0-c2f48ce78e1e"
      },
      "execution_count": null,
      "outputs": [
        {
          "output_type": "execute_result",
          "data": {
            "text/plain": [
              "[10]"
            ]
          },
          "metadata": {},
          "execution_count": 8
        }
      ]
    },
    {
      "cell_type": "markdown",
      "source": [
        "### 리스트 안에 리스트 추가하기"
      ],
      "metadata": {
        "id": "VT7bwaRgY3oG"
      }
    },
    {
      "cell_type": "code",
      "source": [
        "# append는 append(리스트)처럼 리스트를 넣으면 리스트 안에 리스트가 들어갑니다.\n",
        "a=[\"헤이즐아메리카노\",\"마카다미아라떼\",\"카페모카\"]\n",
        "a.append([\"체리콕에이드\",\"유자민트레몬티\"])\n",
        "print(a,len(a))"
      ],
      "metadata": {
        "colab": {
          "base_uri": "https://localhost:8080/"
        },
        "id": "vBb5LjzkY0Iz",
        "outputId": "9c66f0a0-1567-4c78-e02d-4cb1db460e38"
      },
      "execution_count": null,
      "outputs": [
        {
          "output_type": "stream",
          "name": "stdout",
          "text": [
            "['헤이즐아메리카노', '마카다미아라떼', '카페모카', ['체리콕에이드', '유자민트레몬티']] 4\n"
          ]
        }
      ]
    },
    {
      "cell_type": "markdown",
      "source": [
        "append는 항상 리스트의 길이가 1씩 증가합니다."
      ],
      "metadata": {
        "id": "6ngwqPHGZAro"
      }
    },
    {
      "cell_type": "markdown",
      "source": [
        "### 리스트 확장하기"
      ],
      "metadata": {
        "id": "2HZnWqYhZCdh"
      }
    },
    {
      "cell_type": "markdown",
      "source": [
        "그러면 리스트에 요소를 여러 개 추가하려면 어떻게 해야 할까요? append를 여러 번 사용하는 방법도 있지만, 추가할 요소가 많은 경우에는 상당히 번거롭습니다. 이때는 extend를 사용합니다."
      ],
      "metadata": {
        "id": "P-gRJ5WEZGBt"
      }
    },
    {
      "cell_type": "code",
      "source": [
        "# extend(리스트)는 리스트 끝에 다른 리스트를 연결하여 리스트를 확장합니다.\n",
        "a=[\"초코라떼\",\"복숭아아이스티\",\"아메리카노\"]\n",
        "a.extend([\"캐모마일티\",\"바닐라라떼\"])\n",
        "print(a,len(a))\n",
        "\n",
        "# extend는 iterable을 확장시키고, 매개변수를 쪼개서 넣어줌."
      ],
      "metadata": {
        "colab": {
          "base_uri": "https://localhost:8080/"
        },
        "id": "A3KhwcWaY9nI",
        "outputId": "573a7b58-04eb-428b-cf09-758ee5bfaa84"
      },
      "execution_count": null,
      "outputs": [
        {
          "output_type": "stream",
          "name": "stdout",
          "text": [
            "['초코라떼', '복숭아아이스티', '아메리카노', '캐모마일티', '바닐라라떼'] 5\n"
          ]
        }
      ]
    },
    {
      "cell_type": "code",
      "source": [
        "a=[\"초코라떼\",\"복숭아아이스티\",\"아메리카노\"]\n",
        "a+=[\"캐모마일티\",\"바닐라라떼\"]\n",
        "a\n",
        "\n",
        "#extend와 유사한 기능을 한다."
      ],
      "metadata": {
        "colab": {
          "base_uri": "https://localhost:8080/"
        },
        "id": "wAro40s7iosD",
        "outputId": "47ade797-3013-4b22-f055-911e4f47d093"
      },
      "execution_count": null,
      "outputs": [
        {
          "output_type": "execute_result",
          "data": {
            "text/plain": [
              "['초코라떼', '복숭아아이스티', '아메리카노', '캐모마일티', '바닐라라떼']"
            ]
          },
          "metadata": {},
          "execution_count": 15
        }
      ]
    },
    {
      "cell_type": "markdown",
      "source": [
        "extend의 동작을 좀 더 정확하게 이야기하면 extend에 전달된 요소를 반복하면서 각 요소를 리스트 a에 추가하는 것입니다. 따라서 리스트와 리스트를 연결한 모양이 됩니다."
      ],
      "metadata": {
        "id": "L6F9gJo0ZPZw"
      }
    },
    {
      "cell_type": "markdown",
      "source": [
        "### 리스트의 특정 인덱스에 요소 추가하기"
      ],
      "metadata": {
        "id": "kyn9vIDQZSZ_"
      }
    },
    {
      "cell_type": "markdown",
      "source": [
        "append, extend는 리스트 끝에 요소를 추가합니다. 그러면 원하는 위치에 요소를 추가하는 방법은 없을까요? 이때는 insert를 사용합니다."
      ],
      "metadata": {
        "id": "YuWERyC6ZUfk"
      }
    },
    {
      "cell_type": "code",
      "source": [
        "# insert(인덱스, 요소) 메서드는 리스트의 특정 인덱스에 요소 하나를 추가합니다.\n",
        "# 인덱스를 지정하기 때문에 맨 앞에도 삽입 가능 - stack의 push와 다름.\n",
        "\n",
        "a=[10,20,30]\n",
        "a.insert(2,500)   #2인덱스에 들어감. 원본이 바뀌는 메서드\n",
        "a,len(a)"
      ],
      "metadata": {
        "colab": {
          "base_uri": "https://localhost:8080/"
        },
        "id": "AfxcI4GZZLlB",
        "outputId": "026a4a60-d3af-4315-9dc2-4cf46c917ca1"
      },
      "execution_count": null,
      "outputs": [
        {
          "output_type": "execute_result",
          "data": {
            "text/plain": [
              "([10, 20, 500, 30], 4)"
            ]
          },
          "metadata": {},
          "execution_count": 16
        }
      ]
    },
    {
      "cell_type": "markdown",
      "source": [
        "insert에서 자주 사용하는 패턴은 다음 2가지입니다.\n",
        "\n",
        "* `insert(0, 요소)`: 리스트의 맨 처음에 요소를 추가\n",
        "* `insert(len(리스트), 요소)`: 리스트 끝에 요소를 추가\n"
      ],
      "metadata": {
        "id": "proj9OApZf6C"
      }
    },
    {
      "cell_type": "code",
      "source": [
        "a=[10,20,30]\n",
        "a.insert(0,500)\n",
        "a"
      ],
      "metadata": {
        "colab": {
          "base_uri": "https://localhost:8080/"
        },
        "id": "PKa4O6gkZdTY",
        "outputId": "76e5a96a-5e66-4901-f3f2-d7ab2db5cef6"
      },
      "execution_count": null,
      "outputs": [
        {
          "output_type": "execute_result",
          "data": {
            "text/plain": [
              "[500, 10, 20, 30]"
            ]
          },
          "metadata": {},
          "execution_count": 18
        }
      ]
    },
    {
      "cell_type": "code",
      "source": [
        "# insert에 마지막 인덱스보다 큰 값을 지정하면 리스트 끝에 요소 하나를 추가할 수 있습니다.\n",
        "a=[10,20,30]\n",
        "a.insert(10,30)\n",
        "a"
      ],
      "metadata": {
        "colab": {
          "base_uri": "https://localhost:8080/"
        },
        "id": "a3uaIqN4Zlup",
        "outputId": "fbde087e-e8b7-46e8-dc35-5e0e735b6790"
      },
      "execution_count": null,
      "outputs": [
        {
          "output_type": "execute_result",
          "data": {
            "text/plain": [
              "[10, 20, 30, 30]"
            ]
          },
          "metadata": {},
          "execution_count": 21
        }
      ]
    },
    {
      "cell_type": "code",
      "source": [
        "a=[10,20,30]\n",
        "a.insert(len(a),500)\n",
        "a"
      ],
      "metadata": {
        "colab": {
          "base_uri": "https://localhost:8080/"
        },
        "id": "-wLbLOArksDr",
        "outputId": "d2935c94-9562-4bdc-9d8e-e1a49951c333"
      },
      "execution_count": null,
      "outputs": [
        {
          "output_type": "execute_result",
          "data": {
            "text/plain": [
              "[10, 20, 30, 500]"
            ]
          },
          "metadata": {},
          "execution_count": 22
        }
      ]
    },
    {
      "cell_type": "markdown",
      "source": [
        "len(리스트)는 마지막 인덱스보다 1이 더 크기 때문에 리스트 끝에 값을 추가할 때 자주 활용합니다. (=append)"
      ],
      "metadata": {
        "id": "isi-LJ6_ZuL2"
      }
    },
    {
      "cell_type": "code",
      "source": [
        "# 특히 insert는 요소 하나를 추가하므로 insert에 리스트를 넣으면 append처럼 리스트 안에 리스트가 들어갑니다. (중첩 리스트)\n",
        "a=[10,20,30]\n",
        "a.insert(1,[500,600])\n",
        "a"
      ],
      "metadata": {
        "colab": {
          "base_uri": "https://localhost:8080/"
        },
        "id": "_WDQqZp8ZraZ",
        "outputId": "0f3dcfda-3e88-4adb-941e-c48d2ad17c02"
      },
      "execution_count": null,
      "outputs": [
        {
          "output_type": "execute_result",
          "data": {
            "text/plain": [
              "[10, [500, 600], 20, 30]"
            ]
          },
          "metadata": {},
          "execution_count": 23
        }
      ]
    },
    {
      "cell_type": "code",
      "source": [
        "# 만약 리스트 중간에 요소 여러 개를 추가하고 싶다면 슬라이스에 요소 할당하기를 활용하면 됩니다.\n",
        "a=[10,20,30]\n",
        "a[1:1]=[500,600] #1자리에 삽입.\n",
        "print(a)\n",
        "a[1]=[300,400]\n",
        "print(a)"
      ],
      "metadata": {
        "colab": {
          "base_uri": "https://localhost:8080/"
        },
        "id": "VW4-o3PSZ193",
        "outputId": "9339eca9-96eb-45ae-db1e-f9da743c76b4"
      },
      "execution_count": null,
      "outputs": [
        {
          "output_type": "stream",
          "name": "stdout",
          "text": [
            "[10, 500, 600, 20, 30]\n",
            "[10, [300, 400], 600, 20, 30]\n"
          ]
        }
      ]
    },
    {
      "cell_type": "markdown",
      "source": [
        "### 리스트에서 요소 삭제하기"
      ],
      "metadata": {
        "id": "ibYvJldjZ-9N"
      }
    },
    {
      "cell_type": "markdown",
      "source": [
        "이번에는 리스트에서 요소를 삭제하는 방법입니다. 다음과 같이 요소를 삭제하는 메서드는 2가지가 있습니다.\n",
        "\n",
        "* `pop`: 마지막 요소 또는 특정 인덱스의 요소를 삭제\n",
        "* `remove`: 특정 값을 찾아서 삭제"
      ],
      "metadata": {
        "id": "YmYWaEScaGPa"
      }
    },
    {
      "cell_type": "markdown",
      "source": [
        "### 리스트에서 특정 인덱스의 요소를 삭제하기"
      ],
      "metadata": {
        "id": "iot6Ojlyb9d_"
      }
    },
    {
      "cell_type": "markdown",
      "source": [
        "pop()은 리스트의 마지막 요소를 삭제한 뒤 삭제한 요소를 반환합니다."
      ],
      "metadata": {
        "id": "eqYdMTEhb_z1"
      }
    },
    {
      "cell_type": "code",
      "source": [
        "a=[10,20,30]\n",
        "a.pop() #마지막 요소 삭제 후 **반환**"
      ],
      "metadata": {
        "colab": {
          "base_uri": "https://localhost:8080/"
        },
        "id": "8sIJ1hgBaGEf",
        "outputId": "85bc627e-7d9a-416d-f09b-244542518743"
      },
      "execution_count": 34,
      "outputs": [
        {
          "output_type": "execute_result",
          "data": {
            "text/plain": [
              "30"
            ]
          },
          "metadata": {},
          "execution_count": 34
        }
      ]
    },
    {
      "cell_type": "code",
      "source": [
        "a"
      ],
      "metadata": {
        "colab": {
          "base_uri": "https://localhost:8080/"
        },
        "id": "KNHfcOh6Z8Mj",
        "outputId": "0e4d81df-bde3-41a0-eae0-5b57f8e3a57d"
      },
      "execution_count": 31,
      "outputs": [
        {
          "output_type": "execute_result",
          "data": {
            "text/plain": [
              "[10, 20]"
            ]
          },
          "metadata": {},
          "execution_count": 31
        }
      ]
    },
    {
      "cell_type": "code",
      "source": [
        "box=['아이폰','갤럭시','맥북']\n",
        "last=box.pop()\n",
        "last"
      ],
      "metadata": {
        "colab": {
          "base_uri": "https://localhost:8080/",
          "height": 35
        },
        "id": "Xyn7D-Cd4_6L",
        "outputId": "3e4943b9-79aa-4a72-e7c7-3d3f4cd0bacc"
      },
      "execution_count": 33,
      "outputs": [
        {
          "output_type": "execute_result",
          "data": {
            "text/plain": [
              "'맥북'"
            ],
            "application/vnd.google.colaboratory.intrinsic+json": {
              "type": "string"
            }
          },
          "metadata": {},
          "execution_count": 33
        }
      ]
    },
    {
      "cell_type": "code",
      "source": [
        "lunch=[]\n",
        "lunch.append(\"김씨\")\n",
        "lunch.append(\"박씨\")\n",
        "lunch.append(\"이씨\")\n",
        "lunch"
      ],
      "metadata": {
        "colab": {
          "base_uri": "https://localhost:8080/"
        },
        "id": "xOgYCsaJ5iES",
        "outputId": "39704318-77ec-4cec-d7d7-9d0ac7c2b804"
      },
      "execution_count": 36,
      "outputs": [
        {
          "output_type": "execute_result",
          "data": {
            "text/plain": [
              "['김씨', '박씨', '이씨']"
            ]
          },
          "metadata": {},
          "execution_count": 36
        }
      ]
    },
    {
      "cell_type": "code",
      "source": [
        "lunch.pop() #원본에 영향 있음"
      ],
      "metadata": {
        "colab": {
          "base_uri": "https://localhost:8080/",
          "height": 35
        },
        "id": "GVfWVGRx5tiC",
        "outputId": "95ba7997-845d-4a89-e281-f0a93dff554d"
      },
      "execution_count": 37,
      "outputs": [
        {
          "output_type": "execute_result",
          "data": {
            "text/plain": [
              "'이씨'"
            ],
            "application/vnd.google.colaboratory.intrinsic+json": {
              "type": "string"
            }
          },
          "metadata": {},
          "execution_count": 37
        }
      ]
    },
    {
      "cell_type": "code",
      "source": [
        "lunch"
      ],
      "metadata": {
        "colab": {
          "base_uri": "https://localhost:8080/"
        },
        "id": "dh_SAfaI504t",
        "outputId": "9dec8856-ba3c-4d47-bb29-01a7e68ce4a8"
      },
      "execution_count": 38,
      "outputs": [
        {
          "output_type": "execute_result",
          "data": {
            "text/plain": [
              "['김씨', '박씨']"
            ]
          },
          "metadata": {},
          "execution_count": 38
        }
      ]
    },
    {
      "cell_type": "markdown",
      "source": [
        "그러면 원하는 인덱스의 요소를 삭제할 수는 없을까요? 이때는 pop에 인덱스를 지정하면 됩니다."
      ],
      "metadata": {
        "id": "_uCDrzxLcGgl"
      }
    },
    {
      "cell_type": "code",
      "source": [
        "# pop(인덱스)는 해당 인덱스의 요소를 삭제한 뒤 삭제한 요소를 반환합니다.\n",
        "a=[10,20,30]\n",
        "a.pop(1),a  #1번째 인덱스를 pop"
      ],
      "metadata": {
        "colab": {
          "base_uri": "https://localhost:8080/"
        },
        "id": "uZhoaqkPcDgT",
        "outputId": "7980ef9a-eab5-497f-f0af-9753e094401f"
      },
      "execution_count": 39,
      "outputs": [
        {
          "output_type": "execute_result",
          "data": {
            "text/plain": [
              "(20, [10, 30])"
            ]
          },
          "metadata": {},
          "execution_count": 39
        }
      ]
    },
    {
      "cell_type": "code",
      "source": [
        "a"
      ],
      "metadata": {
        "colab": {
          "base_uri": "https://localhost:8080/"
        },
        "id": "fwNrUtbfcLAT",
        "outputId": "5fdace51-c119-4e6f-b187-e77d27ae64ed"
      },
      "execution_count": 40,
      "outputs": [
        {
          "output_type": "execute_result",
          "data": {
            "text/plain": [
              "[10, 30]"
            ]
          },
          "metadata": {},
          "execution_count": 40
        }
      ]
    },
    {
      "cell_type": "code",
      "source": [
        "# 사실 pop 대신 del을 사용해도 상관없습니다.\n",
        "a=[10,20,30]\n",
        "del a[1]\n",
        "a"
      ],
      "metadata": {
        "colab": {
          "base_uri": "https://localhost:8080/"
        },
        "id": "GbqvJNcmcLd1",
        "outputId": "2b3afbba-c2fa-47d9-8b19-c702b73b0fcd"
      },
      "execution_count": 41,
      "outputs": [
        {
          "output_type": "execute_result",
          "data": {
            "text/plain": [
              "[10, 30]"
            ]
          },
          "metadata": {},
          "execution_count": 41
        }
      ]
    },
    {
      "cell_type": "markdown",
      "source": [
        "### 리스트에서 특정 값을 찾아서 삭제하기"
      ],
      "metadata": {
        "id": "-tUv0GzrcTbs"
      }
    },
    {
      "cell_type": "markdown",
      "source": [
        "pop이나 del은 인덱스로 요소를 삭제했는데, 리스트에서 원하는 값을 찾아서 삭제하고 싶을 수도 있습니다. 이런 경우에는 remove를 사용합니다."
      ],
      "metadata": {
        "id": "XFdaVoCWcVzd"
      }
    },
    {
      "cell_type": "code",
      "source": [
        "# remove(값) 메서드는 리스트에서 특정 값을 찾아서 삭제합니다.\n",
        "# pop과 차이점\n",
        "\n",
        "cookie_box=[\"마카다미아 쿠키\",\"황치즈 쿠키\",\"레드벨벳 쿠키\",\"오레오 쿠키\"]\n",
        "cookie_box.remove(\"황치즈 쿠키\")\n",
        "cookie_box"
      ],
      "metadata": {
        "colab": {
          "base_uri": "https://localhost:8080/"
        },
        "id": "vUjy55MmcQpu",
        "outputId": "e111f230-9b58-44b1-8fec-47b2e605dec8"
      },
      "execution_count": 44,
      "outputs": [
        {
          "output_type": "execute_result",
          "data": {
            "text/plain": [
              "['마카다미아 쿠키', '레드벨벳 쿠키', '오레오 쿠키']"
            ]
          },
          "metadata": {},
          "execution_count": 44
        }
      ]
    },
    {
      "cell_type": "code",
      "source": [
        "# 만약 리스트에 같은 값이 여러 개 있을 경우 처음 찾은 값을 삭제합니다.\n",
        "cookie_box=[\"마카다미아 쿠키\",\"황치즈 쿠키\",\"황치즈 쿠키\",\"레드벨벳 쿠키\",\"오레오 쿠키\"]\n",
        "cookie_box.remove(\"황치즈 쿠키\")\n",
        "cookie_box\n",
        "\n",
        "#앞에서 차례로 탐색하다가 발견한 값을 삭제. 한번에 하나씩만 삭제\n",
        "#없으면 Error"
      ],
      "metadata": {
        "colab": {
          "base_uri": "https://localhost:8080/"
        },
        "id": "dBvZdlZXcZrq",
        "outputId": "02071670-404b-46cf-9b8b-086ba9a0e3c4"
      },
      "execution_count": 46,
      "outputs": [
        {
          "output_type": "execute_result",
          "data": {
            "text/plain": [
              "['마카다미아 쿠키', '황치즈 쿠키', '레드벨벳 쿠키', '오레오 쿠키']"
            ]
          },
          "metadata": {},
          "execution_count": 46
        }
      ]
    },
    {
      "cell_type": "markdown",
      "source": [
        "### 리스트에서 특정 값의 인덱스 구하기"
      ],
      "metadata": {
        "id": "jRp1EQMUch1C"
      }
    },
    {
      "cell_type": "code",
      "source": [
        "# index(값) 메서드는 리스트에서 특정 값의 인덱스를 반환.\n",
        "# 이때 같은 값이 여러 개일 경우 처음 찾은 인덱스를 구합니다(가장 작은 인덱스).\n",
        "\n",
        "cookie_box=[\"마카다미아 쿠키\",\"황치즈 쿠키\",\"레드벨벳 쿠키\",\"오레오 쿠키\"]\n",
        "cookie_box.index(\"황치즈 쿠키\")"
      ],
      "metadata": {
        "colab": {
          "base_uri": "https://localhost:8080/"
        },
        "id": "xRN3qbHEcc4g",
        "outputId": "82665f60-c24b-4ce8-949e-67ade6afa4bf"
      },
      "execution_count": 51,
      "outputs": [
        {
          "output_type": "execute_result",
          "data": {
            "text/plain": [
              "1"
            ]
          },
          "metadata": {},
          "execution_count": 51
        }
      ]
    },
    {
      "cell_type": "markdown",
      "source": [
        "### 특정 값의 개수 구하기"
      ],
      "metadata": {
        "id": "Lta-u3P7co0g"
      }
    },
    {
      "cell_type": "code",
      "source": [
        "# count(값)은 리스트에서 특정 값의 개수를 구합니다. \n",
        "cookie_box=[\"마카다미아 쿠키\",\"황치즈 쿠키\",\"레드벨벳 쿠키\",\"오레오 쿠키\",\"황치즈 쿠키\"]\n",
        "bool(cookie_box.count(\"말차 쿠키\"))\n"
      ],
      "metadata": {
        "colab": {
          "base_uri": "https://localhost:8080/"
        },
        "id": "3Hci8EFNcm28",
        "outputId": "af443221-f0bd-4547-87f1-d4eda100135d"
      },
      "execution_count": 54,
      "outputs": [
        {
          "output_type": "execute_result",
          "data": {
            "text/plain": [
              "False"
            ]
          },
          "metadata": {},
          "execution_count": 54
        }
      ]
    },
    {
      "cell_type": "markdown",
      "source": [
        "### 리스트의 순서를 뒤집기"
      ],
      "metadata": {
        "id": "PDPyJqX8cvK2"
      }
    },
    {
      "cell_type": "code",
      "source": [
        "# reverse()는 리스트에서 요소의 순서를 반대로 뒤집습니다. 원본에 영향 o\n",
        "cookie_box=[\"마카다미아 쿠키\",\"황치즈 쿠키\",\"레드벨벳 쿠키\",\"오레오 쿠키\",\"황치즈 쿠키\"]\n",
        "print(list(reversed(cookie_box)))\n",
        "\n",
        "cookie_box.reverse()"
      ],
      "metadata": {
        "colab": {
          "base_uri": "https://localhost:8080/"
        },
        "id": "dfCNjCf-ctOC",
        "outputId": "8973888c-cbc5-4430-fcc2-7ababed9e549"
      },
      "execution_count": 62,
      "outputs": [
        {
          "output_type": "stream",
          "name": "stdout",
          "text": [
            "['황치즈 쿠키', '오레오 쿠키', '레드벨벳 쿠키', '황치즈 쿠키', '마카다미아 쿠키']\n"
          ]
        }
      ]
    },
    {
      "cell_type": "markdown",
      "source": [
        "### 리스트의 요소를 정렬하기"
      ],
      "metadata": {
        "id": "wKWOgudCc2jU"
      }
    },
    {
      "cell_type": "markdown",
      "source": [
        "sort()는 리스트의 요소을 작은 순서대로 정렬합니다(오름차순).\n",
        "\n",
        "* `sort()` 또는 `sort(reverse=False)`: 리스트의 값을 작은 순서대로 정렬(오름차순)\n",
        "* `sort(reverse=True)`: 리스트의 값을 큰 순서대로 정렬(내림차순)"
      ],
      "metadata": {
        "id": "sfiWcB8Ac6AQ"
      }
    },
    {
      "cell_type": "code",
      "source": [
        "a=[\"김땡땡\",\"이땡땡\",\"박땡땡\",\"최땡땡\"]\n",
        "a.sort()\n",
        "a"
      ],
      "metadata": {
        "colab": {
          "base_uri": "https://localhost:8080/"
        },
        "id": "yJj4oRG8_Bgc",
        "outputId": "d5b04d31-5a34-431d-f967-52a00b2c006b"
      },
      "execution_count": 67,
      "outputs": [
        {
          "output_type": "execute_result",
          "data": {
            "text/plain": [
              "['김땡땡', '박땡땡', '이땡땡', '최땡땡']"
            ]
          },
          "metadata": {},
          "execution_count": 67
        }
      ]
    },
    {
      "cell_type": "code",
      "source": [
        "a=[10,20,30,20,40,50]\n",
        "a.sort()  #reverse=False. 기본적으로 오름차순\n",
        "print(a)\n",
        "#원본에 영향o\n",
        "\n",
        "a.sort(reverse=True) #내림차순\n",
        "a"
      ],
      "metadata": {
        "colab": {
          "base_uri": "https://localhost:8080/"
        },
        "id": "JbEBreCxc0Ys",
        "outputId": "b46e747f-7f71-4f14-acf6-ac26b71b0ed2"
      },
      "execution_count": 66,
      "outputs": [
        {
          "output_type": "stream",
          "name": "stdout",
          "text": [
            "[10, 20, 20, 30, 40, 50]\n"
          ]
        },
        {
          "output_type": "execute_result",
          "data": {
            "text/plain": [
              "[50, 40, 30, 20, 20, 10]"
            ]
          },
          "metadata": {},
          "execution_count": 66
        }
      ]
    },
    {
      "cell_type": "markdown",
      "source": [
        "### sort 메서드와 sorted 함수\n",
        "파이썬은 리스트의 sort 메서드뿐만 아니라 내장 함수 sorted도 제공합니다. sort와 sorted 모두 정렬을 해주는 함수지만, 약간의 차이점이 있습니다. sort는 메서드를 사용한 리스트를 변경하지만, sorted 함수는 정렬된 새 리스트를 생성합니다."
      ],
      "metadata": {
        "id": "UwvaeBYqdE0L"
      }
    },
    {
      "cell_type": "code",
      "source": [
        "a=[\"김땡땡\",\"이땡땡\",\"박땡땡\",\"최땡땡\"]\n",
        "a.sort()\n",
        "a"
      ],
      "metadata": {
        "colab": {
          "base_uri": "https://localhost:8080/"
        },
        "id": "M6v2UjTpdCPy",
        "outputId": "dd75acf4-812b-4be3-c84f-582ecb9a7a39"
      },
      "execution_count": 68,
      "outputs": [
        {
          "output_type": "execute_result",
          "data": {
            "text/plain": [
              "['김땡땡', '박땡땡', '이땡땡', '최땡땡']"
            ]
          },
          "metadata": {},
          "execution_count": 68
        }
      ]
    },
    {
      "cell_type": "code",
      "source": [
        "a=[\"김땡땡\",\"이땡땡\",\"박땡땡\",\"최땡땡\"]\n",
        "sorted(a)\n",
        "sorted(a), a"
      ],
      "metadata": {
        "colab": {
          "base_uri": "https://localhost:8080/"
        },
        "id": "S6-aTZwBdJtr",
        "outputId": "4b8f4bc4-6a96-432e-f2e4-94efaf4c0000"
      },
      "execution_count": 71,
      "outputs": [
        {
          "output_type": "execute_result",
          "data": {
            "text/plain": [
              "(['김땡땡', '박땡땡', '이땡땡', '최땡땡'], ['김땡땡', '이땡땡', '박땡땡', '최땡땡'])"
            ]
          },
          "metadata": {},
          "execution_count": 71
        }
      ]
    },
    {
      "cell_type": "markdown",
      "source": [
        "### 리스트의 모든 요소를 삭제하기"
      ],
      "metadata": {
        "id": "6gIMc9xldPUB"
      }
    },
    {
      "cell_type": "code",
      "source": [
        "# clear()는 리스트의 모든 요소를 삭제합니다.\n",
        "a=[10,20,30]\n",
        "a.clear()\n",
        "a"
      ],
      "metadata": {
        "colab": {
          "base_uri": "https://localhost:8080/"
        },
        "id": "1aEgUVm1dKia",
        "outputId": "125b81de-17a2-4f63-efae-454b83acc455"
      },
      "execution_count": 72,
      "outputs": [
        {
          "output_type": "execute_result",
          "data": {
            "text/plain": [
              "[]"
            ]
          },
          "metadata": {},
          "execution_count": 72
        }
      ]
    },
    {
      "cell_type": "code",
      "source": [
        "# clear 대신 del a[:]와 같이 시작, 끝 인덱스를 생략하여 리스트의 모든 요소를 삭제할 수도 있습니다.\n",
        "a=[10,20,30]\n",
        "del a[:]\n",
        "a"
      ],
      "metadata": {
        "colab": {
          "base_uri": "https://localhost:8080/"
        },
        "id": "6zK9ANwrdTXf",
        "outputId": "606fbad1-c42d-4996-89ce-b162fd82a55a"
      },
      "execution_count": 74,
      "outputs": [
        {
          "output_type": "execute_result",
          "data": {
            "text/plain": [
              "[]"
            ]
          },
          "metadata": {},
          "execution_count": 74
        }
      ]
    },
    {
      "cell_type": "code",
      "source": [
        "a=[10,20,30]\n",
        "a=[]\n",
        "a"
      ],
      "metadata": {
        "colab": {
          "base_uri": "https://localhost:8080/"
        },
        "id": "UIeOmrkcApr_",
        "outputId": "df4739e7-1341-4591-de77-294722f3f50f"
      },
      "execution_count": 73,
      "outputs": [
        {
          "output_type": "execute_result",
          "data": {
            "text/plain": [
              "[]"
            ]
          },
          "metadata": {},
          "execution_count": 73
        }
      ]
    },
    {
      "cell_type": "markdown",
      "source": [
        "### 리스트를 슬라이스로 조작하기"
      ],
      "metadata": {
        "id": "3bJXyOdcdYVo"
      }
    },
    {
      "cell_type": "code",
      "source": [
        "# 리스트는 메서드를 사용하지 않고, 슬라이스로 조작할 수도 있습니다. 다음은 리스트 끝에 값이 한 개 들어있는 리스트를 추가합니다.\n"
      ],
      "metadata": {
        "colab": {
          "base_uri": "https://localhost:8080/"
        },
        "id": "tS8YUcfsdW1q",
        "outputId": "2efeae29-72e9-45a4-a209-c862098ae52b"
      },
      "execution_count": null,
      "outputs": [
        {
          "output_type": "execute_result",
          "data": {
            "text/plain": [
              "[10, 20, 30, 500]"
            ]
          },
          "metadata": {},
          "execution_count": 25
        }
      ]
    },
    {
      "cell_type": "markdown",
      "source": [
        "a[len(a):]는 시작 인덱스를 len(a)로 지정해서 리스트의 마지막 인덱스보다 1이 더 큰 상태입니다. 즉, 그림과 같이 리스트 끝에서부터 시작하겠다는 뜻입니다(이때는 리스트의 범위를 벗어난 인덱스를 사용할 수 있습니다).\n",
        "\n",
        "그리고 a[len(a):] = [..., ...]과 같이 요소가 여러 개 들어있는 리스트를 할당하면 리스트 a 끝에 다른 리스트를 연결한다는 뜻입니다."
      ],
      "metadata": {
        "id": "pfWo0arKddS0"
      }
    },
    {
      "cell_type": "code",
      "source": [
        "a=[10,20,30]\n",
        "a[len(a):]=[500,600]\n",
        "a"
      ],
      "metadata": {
        "colab": {
          "base_uri": "https://localhost:8080/"
        },
        "id": "XJ0CgC9xFdJU",
        "outputId": "ece06666-62c9-44ec-ded7-87d37ee3f343"
      },
      "execution_count": 75,
      "outputs": [
        {
          "output_type": "execute_result",
          "data": {
            "text/plain": [
              "[10, 20, 30, 500, 600]"
            ]
          },
          "metadata": {},
          "execution_count": 75
        }
      ]
    },
    {
      "cell_type": "markdown",
      "source": [
        "### 리스트가 비어 있는지 확인하기\n"
      ],
      "metadata": {
        "id": "1vvNYOe4dtkD"
      }
    },
    {
      "cell_type": "markdown",
      "source": [
        "리스트(시퀀스 객체)가 비어 있는지 확인하려면 어떻게 해야 할까요? 방법은 간단합니다. 리스트는 len 함수로 길이를 구할 수 있죠? 이걸 if 조건문으로 판단하면 리스트가 비어 있는지 확인할 수 있습니다.\n",
        "\n",
        "```\n",
        "if not len(seq):    # 리스트가 비어 있으면 True\n",
        "if len(seq):        # 리스트에 요소가 있으면 True\n",
        "```\n",
        "\n",
        "하지만 파이썬에서는 이 방법보다 리스트(시퀀스 객체)를 바로 if 조건문으로 판단하는 방법을 권장합니다(PEP 8).\n",
        "```\n",
        "if not seq:    # 리스트가 비어 있으면 True\n",
        "if seq:        # 리스트에 내용이 있으면 True\n",
        "```\n",
        "\n",
        "특히 리스트가 비어 있는지 확인하는 방법은 리스트의 마지막 요소에 접근할 때 유용하게 사용할 수 있습니다. 리스트의 마지막 요소에 접근할 때는 인덱스를 -1로 지정하면 되죠?"
      ],
      "metadata": {
        "id": "qawioHuxdwFi"
      }
    },
    {
      "cell_type": "code",
      "source": [
        "a=[1,2,3,4]\n",
        "bool(a)"
      ],
      "metadata": {
        "colab": {
          "base_uri": "https://localhost:8080/"
        },
        "id": "j32oAW-Jdp0r",
        "outputId": "7d4ac891-4e36-4204-c751-a80abb7beeca"
      },
      "execution_count": 76,
      "outputs": [
        {
          "output_type": "execute_result",
          "data": {
            "text/plain": [
              "True"
            ]
          },
          "metadata": {},
          "execution_count": 76
        }
      ]
    },
    {
      "cell_type": "code",
      "source": [
        "a=[]\n",
        "bool(a)"
      ],
      "metadata": {
        "id": "uRa5_IVLHOnN"
      },
      "execution_count": null,
      "outputs": []
    },
    {
      "cell_type": "code",
      "source": [
        "# 만약 리스트가 비어 있을 경우에는 인덱스를 -1로 지정하면 에러가 발생합니다.\n",
        "seq=[]\n",
        "seq[-1]\n"
      ],
      "metadata": {
        "colab": {
          "base_uri": "https://localhost:8080/",
          "height": 209
        },
        "id": "sYDzJPyJd6Gb",
        "outputId": "2b20120e-16ea-4095-a632-cf99b77637a8"
      },
      "execution_count": 80,
      "outputs": [
        {
          "output_type": "error",
          "ename": "IndexError",
          "evalue": "ignored",
          "traceback": [
            "\u001b[0;31m---------------------------------------------------------------------------\u001b[0m",
            "\u001b[0;31mIndexError\u001b[0m                                Traceback (most recent call last)",
            "\u001b[0;32m<ipython-input-80-b707dee18531>\u001b[0m in \u001b[0;36m<module>\u001b[0;34m\u001b[0m\n\u001b[1;32m      1\u001b[0m \u001b[0;31m# 만약 리스트가 비어 있을 경우에는 인덱스를 -1로 지정하면 에러가 발생합니다.\u001b[0m\u001b[0;34m\u001b[0m\u001b[0;34m\u001b[0m\u001b[0;34m\u001b[0m\u001b[0m\n\u001b[1;32m      2\u001b[0m \u001b[0mseq\u001b[0m\u001b[0;34m=\u001b[0m\u001b[0;34m[\u001b[0m\u001b[0;34m]\u001b[0m\u001b[0;34m\u001b[0m\u001b[0;34m\u001b[0m\u001b[0m\n\u001b[0;32m----> 3\u001b[0;31m \u001b[0mseq\u001b[0m\u001b[0;34m[\u001b[0m\u001b[0;34m-\u001b[0m\u001b[0;36m1\u001b[0m\u001b[0;34m]\u001b[0m\u001b[0;34m\u001b[0m\u001b[0;34m\u001b[0m\u001b[0m\n\u001b[0m",
            "\u001b[0;31mIndexError\u001b[0m: list index out of range"
          ]
        }
      ]
    },
    {
      "cell_type": "code",
      "source": [
        "# 이때는 if 조건문을 활용하여 리스트에 요소가 있을 때만 마지막 요소를 가져오면 됩니다.\n",
        "\n",
        "if seq:\n",
        "  print(seq[0])\n",
        "else:\n",
        "  print(\"seq가 비었습니다.\")"
      ],
      "metadata": {
        "id": "GqhZ3c-Dd9Ur",
        "colab": {
          "base_uri": "https://localhost:8080/"
        },
        "outputId": "1ba40c22-811c-4565-86cc-69bfd48d0aed"
      },
      "execution_count": 82,
      "outputs": [
        {
          "output_type": "stream",
          "name": "stdout",
          "text": [
            "seq가 비었습니다.\n"
          ]
        }
      ]
    },
    {
      "cell_type": "markdown",
      "source": [
        "## 리스트의 할당과 복사"
      ],
      "metadata": {
        "id": "6d1JLG9_eIeA"
      }
    },
    {
      "cell_type": "markdown",
      "source": [
        "이번에는 리스트의 할당과 복사에 대해 알아보겠습니다. 할당과 복사는 비슷한 것 같지만 큰 차이점이 있습니다."
      ],
      "metadata": {
        "id": "Jz30wEWteKgT"
      }
    },
    {
      "cell_type": "code",
      "source": [
        "a=[0]*5\n",
        "a"
      ],
      "metadata": {
        "id": "RldCBZxteNGu",
        "colab": {
          "base_uri": "https://localhost:8080/"
        },
        "outputId": "57a202c0-26b7-486e-ebce-f83c6e646b15"
      },
      "execution_count": 84,
      "outputs": [
        {
          "output_type": "execute_result",
          "data": {
            "text/plain": [
              "[0, 0, 0, 0, 0]"
            ]
          },
          "metadata": {},
          "execution_count": 84
        }
      ]
    },
    {
      "cell_type": "code",
      "source": [
        "b=a\n",
        "print(a,b)\n",
        "b.pop()\n",
        "print(a,b)\n",
        "\n",
        "# 객체자료형 / 원시자료형은 주소값 여부와 관련.\n",
        "# a에 저장된 것은 리스트의 주소값."
      ],
      "metadata": {
        "colab": {
          "base_uri": "https://localhost:8080/"
        },
        "id": "5dzYGaSvH39e",
        "outputId": "c60f90d2-5508-43e0-f43c-cdf1caf5ba76"
      },
      "execution_count": 88,
      "outputs": [
        {
          "output_type": "stream",
          "name": "stdout",
          "text": [
            "[0, 0, 0, 0] [0, 0, 0, 0]\n",
            "[0, 0, 0] [0, 0, 0]\n"
          ]
        }
      ]
    },
    {
      "cell_type": "markdown",
      "source": [
        "b = a와 같이 리스트를 다른 변수에 할당하면 리스트는 두 개가 될 것 같지만 실제로는 리스트가 한 개입니다.\n",
        "\n",
        "얕은복사 / 깊은복사<br>\n",
        "얕 : 주소를 복사<br>\n",
        "깊 : 값을 복사<br>\n"
      ],
      "metadata": {
        "id": "2ysvkHOfePOv"
      }
    },
    {
      "cell_type": "code",
      "source": [
        "# a와 b를 is 연산자로 비교해보면 True가 나옵니다. 즉, 변수 이름만 다를 뿐 리스트 a와 b는 같은 객체입니다.\n",
        "bool(a is b)"
      ],
      "metadata": {
        "colab": {
          "base_uri": "https://localhost:8080/"
        },
        "id": "o0DHXG8PeN_i",
        "outputId": "21bc3669-8943-4f71-f2ef-cfd5f593b719"
      },
      "execution_count": 89,
      "outputs": [
        {
          "output_type": "execute_result",
          "data": {
            "text/plain": [
              "True"
            ]
          },
          "metadata": {},
          "execution_count": 89
        }
      ]
    },
    {
      "cell_type": "code",
      "source": [
        "# a와 b는 같으므로 b[2] = 99와 같이 리스트 b의 요소를 변경하면 리스트 a와 b에 모두 반영됩니다.\n"
      ],
      "metadata": {
        "colab": {
          "base_uri": "https://localhost:8080/"
        },
        "id": "AsSQDheXeSiL",
        "outputId": "fbf71f86-7410-4d68-9b86-5d1c52e00e00"
      },
      "execution_count": null,
      "outputs": [
        {
          "output_type": "execute_result",
          "data": {
            "text/plain": [
              "([0, 0, 99, 0, 0], [0, 0, 99, 0, 0])"
            ]
          },
          "metadata": {},
          "execution_count": 32
        }
      ]
    },
    {
      "cell_type": "code",
      "source": [
        "# 리스트 a와 b를 완전히 두 개로 만들려면 copy 메서드로 모든 요소를 복사해야 합니다.\n",
        "b=[]\n",
        "b=a.copy    #연결관계를 만들지 않음 == 깊은 복사"
      ],
      "metadata": {
        "id": "_aTWRaykeWD3"
      },
      "execution_count": null,
      "outputs": []
    },
    {
      "cell_type": "markdown",
      "source": [
        "b = a.copy()와 같이 copy를 사용한 뒤 b에 할당해주면 리스트 a의 요소가 모두 b에 복사됩니다."
      ],
      "metadata": {
        "id": "W8ex3D0Jeb2B"
      }
    },
    {
      "cell_type": "code",
      "source": [
        "# a와 b를 is 연산자로 비교해보면 False가 나옵니다. 즉, 두 리스트는 다른 객체입니다. 그러나 복사된 요소는 모두 같으므로 ==로 비교하면 True가 나옵니다.\n"
      ],
      "metadata": {
        "colab": {
          "base_uri": "https://localhost:8080/"
        },
        "id": "yYUHIwLdea5D",
        "outputId": "5f767a17-4c33-4a39-d3f6-565e57d00f3f"
      },
      "execution_count": null,
      "outputs": [
        {
          "output_type": "execute_result",
          "data": {
            "text/plain": [
              "(False, True)"
            ]
          },
          "metadata": {},
          "execution_count": 34
        }
      ]
    },
    {
      "cell_type": "code",
      "source": [
        "# 이제 리스트 a와 b는 별개이므로 한쪽의 값을 변경해도 다른 리스트에 영향을 미치지 않습니다.\n",
        "# 다음과 같이 리스트 b의 요소를 변경하면 리스트 a는 그대로이고 리스트 b만 바뀝니다.\n",
        "print(a,b)\n",
        "a[2]=999\n",
        "a"
      ],
      "metadata": {
        "colab": {
          "base_uri": "https://localhost:8080/"
        },
        "id": "oqLtWyEFeh3Q",
        "outputId": "76e793f8-316c-4754-a2d1-84c64da71370"
      },
      "execution_count": 90,
      "outputs": [
        {
          "output_type": "stream",
          "name": "stdout",
          "text": [
            "[0, 0, 0] [0, 0, 0]\n"
          ]
        },
        {
          "output_type": "execute_result",
          "data": {
            "text/plain": [
              "([0, 0, 999], [0, 0, 999])"
            ]
          },
          "metadata": {},
          "execution_count": 90
        }
      ]
    },
    {
      "cell_type": "code",
      "source": [
        "a={\"name\":\"Young\",\"age\":20}"
      ],
      "metadata": {
        "id": "8QKX3ifbKp8x"
      },
      "execution_count": null,
      "outputs": []
    },
    {
      "cell_type": "code",
      "source": [
        "a is b"
      ],
      "metadata": {
        "id": "40b1wNDbK95d"
      },
      "execution_count": null,
      "outputs": []
    },
    {
      "cell_type": "code",
      "source": [
        "a['name']=\"old\"\n",
        "b"
      ],
      "metadata": {
        "id": "fD_Wy_Y5K-80"
      },
      "execution_count": null,
      "outputs": []
    },
    {
      "cell_type": "code",
      "source": [
        "b=a.copy()"
      ],
      "metadata": {
        "id": "OJ7Gz2mHLB3j"
      },
      "execution_count": 91,
      "outputs": []
    },
    {
      "cell_type": "markdown",
      "source": [
        "## 반복문으로 리스트의 요소를 모두 출력하기"
      ],
      "metadata": {
        "id": "0k4CI6vtewQR"
      }
    },
    {
      "cell_type": "markdown",
      "source": [
        "### for 반복문으로 요소 출력하기"
      ],
      "metadata": {
        "id": "YWNVY17ke1h3"
      }
    },
    {
      "cell_type": "markdown",
      "source": [
        "for 반복문은 그냥 in 뒤에 리스트를 지정하면 됩니다.\n",
        "\n",
        "```\n",
        "for 변수 in 리스트:\n",
        "     반복할 코드\n",
        "```"
      ],
      "metadata": {
        "id": "5vurwh3xe3ET"
      }
    },
    {
      "cell_type": "code",
      "source": [
        "for v in [\"헤이즐넛아메리카노\",\"단호박라떼\",\"1L킹아메리카노\"]:\n",
        "  print(v)"
      ],
      "metadata": {
        "colab": {
          "base_uri": "https://localhost:8080/"
        },
        "id": "ct3OpCIEen4U",
        "outputId": "d0321e46-f615-4d9b-8205-e8625776eacf"
      },
      "execution_count": 95,
      "outputs": [
        {
          "output_type": "stream",
          "name": "stdout",
          "text": [
            "헤이즐넛아메리카노\n",
            "단호박라떼\n",
            "1L킹아메리카노\n"
          ]
        }
      ]
    },
    {
      "cell_type": "code",
      "source": [
        "for _ in range(10):\n",
        "  print(\"안녕\")       # _ 는 명시적으로 변수가 쓰이지 않음을 뜻함."
      ],
      "metadata": {
        "colab": {
          "base_uri": "https://localhost:8080/"
        },
        "id": "XxWaCG2pLdwZ",
        "outputId": "44c445d4-f63c-4d1a-a956-f114036154a5"
      },
      "execution_count": 96,
      "outputs": [
        {
          "output_type": "stream",
          "name": "stdout",
          "text": [
            "안녕\n",
            "안녕\n",
            "안녕\n",
            "안녕\n",
            "안녕\n",
            "안녕\n",
            "안녕\n",
            "안녕\n",
            "안녕\n",
            "안녕\n"
          ]
        }
      ]
    },
    {
      "cell_type": "markdown",
      "source": [
        "`for i in a:`는 리스트 a에서 요소를 꺼내서 i에 저장하고, 꺼낼 때마다 코드를 반복합니다. 따라서 print로 i를 출력하면 모든 요소를 순서대로 출력할 수 있습니다.\n",
        "\n"
      ],
      "metadata": {
        "id": "A91t5ahze-KX"
      }
    },
    {
      "cell_type": "code",
      "source": [
        "# 물론 in 다음에 리스트를 직접 지정해도 상관 없습니다.\n"
      ],
      "metadata": {
        "id": "5HmfRxwRe77h"
      },
      "execution_count": 92,
      "outputs": []
    },
    {
      "cell_type": "markdown",
      "source": [
        "### 인덱스와 요소를 함께 출력하기"
      ],
      "metadata": {
        "id": "wANTR49BfDYp"
      }
    },
    {
      "cell_type": "markdown",
      "source": [
        "그럼 for 반복문으로 요소를 출력할 때 인덱스도 함께 출력하려면 어떻게 해야 할까요? 이때는 `enumerate`를 사용합니다.\n",
        "\n",
        "* `for 인덱스, 요소 in enumerate(리스트)`:"
      ],
      "metadata": {
        "id": "wjXgsWEPfE9z"
      }
    },
    {
      "cell_type": "code",
      "source": [
        "a= [\"헤이즐넛아메리카노\",\"단호박라떼\",\"1L킹아메리카노\"]\n",
        "for i in enumerate(a):\n",
        "  print(i, end=\" \")\n",
        "  print(type(i), len(i))\n"
      ],
      "metadata": {
        "colab": {
          "base_uri": "https://localhost:8080/"
        },
        "id": "h1DEXzICfANv",
        "outputId": "3bef804b-9de2-4a00-e236-802df0ffafea"
      },
      "execution_count": 101,
      "outputs": [
        {
          "output_type": "stream",
          "name": "stdout",
          "text": [
            "(0, '헤이즐넛아메리카노') <class 'tuple'> 2\n",
            "(1, '단호박라떼') <class 'tuple'> 2\n",
            "(2, '1L킹아메리카노') <class 'tuple'> 2\n"
          ]
        }
      ]
    },
    {
      "cell_type": "code",
      "source": [
        "for i,v in enumerate(a):\n",
        "  print(i,\"번째 메뉴는 \",v,\"입니다.\")"
      ],
      "metadata": {
        "colab": {
          "base_uri": "https://localhost:8080/"
        },
        "id": "r_88D1B3MR-B",
        "outputId": "d58c5137-603c-48c3-d8ee-9aaaaa3edaef"
      },
      "execution_count": 103,
      "outputs": [
        {
          "output_type": "stream",
          "name": "stdout",
          "text": [
            "0 번째 메뉴는  헤이즐넛아메리카노 입니다.\n",
            "1 번째 메뉴는  단호박라떼 입니다.\n",
            "2 번째 메뉴는  1L킹아메리카노 입니다.\n"
          ]
        }
      ]
    },
    {
      "cell_type": "code",
      "source": [
        "b=a*1\n",
        "b         #.copy를 쓰지 않아도 사본을 만들 수 있다."
      ],
      "metadata": {
        "colab": {
          "base_uri": "https://localhost:8080/"
        },
        "id": "tJ_su_NUMctd",
        "outputId": "0c164d4f-0bf9-4e79-cdaf-b3dd48477ae7"
      },
      "execution_count": 106,
      "outputs": [
        {
          "output_type": "execute_result",
          "data": {
            "text/plain": [
              "['헤이즐넛아메리카노', '단호박라떼', '1L킹아메리카노']"
            ]
          },
          "metadata": {},
          "execution_count": 106
        }
      ]
    },
    {
      "cell_type": "markdown",
      "source": [
        "`for index, value in enumerate(a):`와 같이 enumerate에 리스트를 넣으면 for 반복문에서 인덱스와 요소를 동시에 꺼내 올 수 있습니다."
      ],
      "metadata": {
        "id": "b9uh7bkyfNCw"
      }
    },
    {
      "cell_type": "code",
      "source": [
        "# 인덱스 1부터 출력하기\n",
        "for index, value in enumerate(a):\n",
        "  print(index, value)"
      ],
      "metadata": {
        "colab": {
          "base_uri": "https://localhost:8080/"
        },
        "id": "45kSKrIlfKqr",
        "outputId": "57e585bd-46c4-4d1d-e364-f192fb3c658c"
      },
      "execution_count": 107,
      "outputs": [
        {
          "output_type": "stream",
          "name": "stdout",
          "text": [
            "0 헤이즐넛아메리카노\n",
            "1 단호박라떼\n",
            "2 1L킹아메리카노\n"
          ]
        }
      ]
    },
    {
      "cell_type": "markdown",
      "source": [
        "enumerate에 start를 지정해주면 시작 인덱스를 바꿀 수 있습니다.\n",
        "\n",
        "* `for 인덱스, 요소 in enumerate(리스트, start=숫자):`"
      ],
      "metadata": {
        "id": "V33hweywfcjS"
      }
    },
    {
      "cell_type": "code",
      "source": [
        "# for index, value in enumerate(a, start=1):\n",
        "for index, value in enumerate(a,start=1):\n",
        "  print(index,value)"
      ],
      "metadata": {
        "colab": {
          "base_uri": "https://localhost:8080/"
        },
        "id": "LIVvo8InfR_a",
        "outputId": "ba0af6c2-2405-45db-e337-0e6a1fd808bf"
      },
      "execution_count": 108,
      "outputs": [
        {
          "output_type": "stream",
          "name": "stdout",
          "text": [
            "1 헤이즐넛아메리카노\n",
            "2 단호박라떼\n",
            "3 1L킹아메리카노\n"
          ]
        }
      ]
    },
    {
      "cell_type": "code",
      "source": [
        "for index, value in enumerate(a,1):\n",
        "  print(index,value)"
      ],
      "metadata": {
        "colab": {
          "base_uri": "https://localhost:8080/"
        },
        "id": "AhjJD2TdTPoJ",
        "outputId": "57c05e37-850e-4730-d49f-978e263ecaeb"
      },
      "execution_count": 109,
      "outputs": [
        {
          "output_type": "stream",
          "name": "stdout",
          "text": [
            "1 헤이즐넛아메리카노\n",
            "2 단호박라떼\n",
            "3 1L킹아메리카노\n"
          ]
        }
      ]
    },
    {
      "cell_type": "markdown",
      "source": [
        "### while반복문으로 요소 출력하기"
      ],
      "metadata": {
        "id": "lAY7CEqafoOL"
      }
    },
    {
      "cell_type": "code",
      "source": [
        "print(a)\n",
        "i=0\n",
        "while i<len(a):\n",
        "  print(a[i])\n",
        "  i+=1"
      ],
      "metadata": {
        "colab": {
          "base_uri": "https://localhost:8080/"
        },
        "id": "0YS5UjeqfhaV",
        "outputId": "9e172495-77e3-4d04-9804-9435aba6d328"
      },
      "execution_count": 112,
      "outputs": [
        {
          "output_type": "stream",
          "name": "stdout",
          "text": [
            "['헤이즐넛아메리카노', '단호박라떼', '1L킹아메리카노']\n",
            "헤이즐넛아메리카노\n",
            "단호박라떼\n",
            "1L킹아메리카노\n"
          ]
        }
      ]
    },
    {
      "cell_type": "code",
      "source": [],
      "metadata": {
        "id": "DZSBHzS2TrGI"
      },
      "execution_count": null,
      "outputs": []
    },
    {
      "cell_type": "markdown",
      "source": [
        "즉, 리스트의 인덱스는 0부터 시작하고 마지막 인덱스는 리스트의 길이보다 1이 작으므로 <를 사용합니다. 만약 i <= len(a)처럼 <=을 사용하면 리스트의 범위를 벗어나게 되므로 주의해야 합니다."
      ],
      "metadata": {
        "id": "wyN28kGnf5fr"
      }
    },
    {
      "cell_type": "code",
      "source": [],
      "metadata": {
        "id": "aizuNqiafsce"
      },
      "execution_count": 94,
      "outputs": []
    },
    {
      "cell_type": "markdown",
      "source": [
        "## 리스트(튜플)의 가장 작은 수, 가장 큰 수, 합계 구하기"
      ],
      "metadata": {
        "id": "MqIPe-nPf9Eh"
      }
    },
    {
      "cell_type": "markdown",
      "source": [
        "### 가장 작은 수와 가장 큰 수 구하기"
      ],
      "metadata": {
        "id": "t7xNr8-QhAWi"
      }
    },
    {
      "cell_type": "code",
      "source": [
        "# 더 간단한 방법이 있습니다. 파이썬에서 제공하는 min, max 함수를 사용하면 됩니다.\n",
        "\n",
        "a=[100,300,200,50]\n",
        "\n",
        "min(a), max(a)"
      ],
      "metadata": {
        "colab": {
          "base_uri": "https://localhost:8080/"
        },
        "id": "gxZ4L8jFha5G",
        "outputId": "047680cb-74c5-4201-a88a-dc6060de4441"
      },
      "execution_count": 114,
      "outputs": [
        {
          "output_type": "execute_result",
          "data": {
            "text/plain": [
              "(50, 300)"
            ]
          },
          "metadata": {},
          "execution_count": 114
        }
      ]
    },
    {
      "cell_type": "code",
      "source": [
        "max() #maximum : "
      ],
      "metadata": {
        "id": "c4STzk66Uzz9"
      },
      "execution_count": null,
      "outputs": []
    },
    {
      "cell_type": "markdown",
      "source": [
        "min은 리스트에서 가장 작은 값을 구하고, max는 가장 큰 값을 구합니다."
      ],
      "metadata": {
        "id": "FvBpnEtyhgT0"
      }
    },
    {
      "cell_type": "code",
      "source": [
        "sorted(a, reverse=True)\n",
        "\n",
        "sorted(a)[0],sorted(a)[-1]"
      ],
      "metadata": {
        "colab": {
          "base_uri": "https://localhost:8080/"
        },
        "id": "lsg-kk6nVBeW",
        "outputId": "c9c4155e-7391-4c3b-967b-996fcd80db64"
      },
      "execution_count": 116,
      "outputs": [
        {
          "output_type": "execute_result",
          "data": {
            "text/plain": [
              "(50, 300)"
            ]
          },
          "metadata": {},
          "execution_count": 116
        }
      ]
    },
    {
      "cell_type": "markdown",
      "source": [
        "### 요소의 합계 구하기"
      ],
      "metadata": {
        "id": "9VJIGdZMhiXX"
      }
    },
    {
      "cell_type": "markdown",
      "source": [
        "사실 이 방법도 좀 번거롭습니다. 그래서 파이썬에서는 합계를 구하는 sum 함수를 제공합니다."
      ],
      "metadata": {
        "id": "ol1IRaKqhtz3"
      }
    },
    {
      "cell_type": "code",
      "source": [
        "a = [10, 10, 10, 10, 10]\n",
        "sum(a)    #summarization"
      ],
      "metadata": {
        "colab": {
          "base_uri": "https://localhost:8080/"
        },
        "id": "ylFf2-HLhqiV",
        "outputId": "228eae93-af79-403d-f2f7-753d792ccc29"
      },
      "execution_count": 117,
      "outputs": [
        {
          "output_type": "execute_result",
          "data": {
            "text/plain": [
              "50"
            ]
          },
          "metadata": {},
          "execution_count": 117
        }
      ]
    },
    {
      "cell_type": "code",
      "source": [
        "a=[\"banana\",\"coffee\",\"salad\"]\n",
        "sum(a)"
      ],
      "metadata": {
        "colab": {
          "base_uri": "https://localhost:8080/",
          "height": 190
        },
        "id": "7inD-oH4VzJd",
        "outputId": "e5d46360-4812-412e-f637-7a6ae30bbe7a"
      },
      "execution_count": 118,
      "outputs": [
        {
          "output_type": "error",
          "ename": "TypeError",
          "evalue": "ignored",
          "traceback": [
            "\u001b[0;31m---------------------------------------------------------------------------\u001b[0m",
            "\u001b[0;31mTypeError\u001b[0m                                 Traceback (most recent call last)",
            "\u001b[0;32m<ipython-input-118-2d38056abc42>\u001b[0m in \u001b[0;36m<module>\u001b[0;34m\u001b[0m\n\u001b[1;32m      1\u001b[0m \u001b[0ma\u001b[0m\u001b[0;34m=\u001b[0m\u001b[0;34m[\u001b[0m\u001b[0;34m\"banana\"\u001b[0m\u001b[0;34m,\u001b[0m\u001b[0;34m\"coffee\"\u001b[0m\u001b[0;34m,\u001b[0m\u001b[0;34m\"salad\"\u001b[0m\u001b[0;34m]\u001b[0m\u001b[0;34m\u001b[0m\u001b[0;34m\u001b[0m\u001b[0m\n\u001b[0;32m----> 2\u001b[0;31m \u001b[0msum\u001b[0m\u001b[0;34m(\u001b[0m\u001b[0ma\u001b[0m\u001b[0;34m)\u001b[0m\u001b[0;34m\u001b[0m\u001b[0;34m\u001b[0m\u001b[0m\n\u001b[0m",
            "\u001b[0;31mTypeError\u001b[0m: unsupported operand type(s) for +: 'int' and 'str'"
          ]
        }
      ]
    },
    {
      "cell_type": "code",
      "source": [
        "\"\".join(a)  #문자열은 .join사용해 합치기"
      ],
      "metadata": {
        "colab": {
          "base_uri": "https://localhost:8080/",
          "height": 35
        },
        "id": "b_ME9EYXWKGy",
        "outputId": "3fc75342-7a6b-4672-d2a5-74c75edb0636"
      },
      "execution_count": 119,
      "outputs": [
        {
          "output_type": "execute_result",
          "data": {
            "text/plain": [
              "'bananacoffeesalad'"
            ],
            "application/vnd.google.colaboratory.intrinsic+json": {
              "type": "string"
            }
          },
          "metadata": {},
          "execution_count": 119
        }
      ]
    },
    {
      "cell_type": "markdown",
      "source": [
        "## 리스트 표현식 사용하기"
      ],
      "metadata": {
        "id": "PNoWyCtUhzaU"
      }
    },
    {
      "cell_type": "markdown",
      "source": [
        "파이썬의 리스트가 특이한 점은 리스트 안에 for 반복문과 if 조건문을 사용할 수 있다는 점입니다. 이렇게 리스트 안에 식, for 반복문, if 조건문 등을 지정하여 리스트를 생성하는 것을 **리스트 컴프리헨션(list comprehension)**이라고 합니다.\n",
        "\n",
        "리스트 컴프리헨션이라고 하니 언뜻 이해가 잘 안되죠? 책이나 인터넷에서도 리스트 내포, 리스트 내장, 리스트 축약, 리스트 해석 등으로 씁니다. 컴프리헨션은 능력, 이해력, 시험 등의 뜻도 있지만, 어떤 것을 잡아서 담아둔다는 뜻이 있습니다. 즉, 식으로 지정해서 생성된 것을 리스트로 잡아두는 것이 리스트 컴프리헨션입니다. 개념적으로 보면 \"리스트 표현식\"이라고 할 수 있으니 이 책에서는 간단하게 리스트 표현식이라고 쓰겠습니다.\n",
        "\n",
        "리스트 표현식은 다음과 같이 리스트 안에 식, for 반복문을 지정합니다. 문법이 다소 복잡해 보이지만 여러 줄의 코드를 한 줄로 줄일 수 있고, 익숙해지면 크게 어렵지 않습니다.\n",
        "\n",
        "* `[식 for 변수 in 리스트]`"
      ],
      "metadata": {
        "id": "SKDP37d2h2BZ"
      }
    },
    {
      "cell_type": "code",
      "source": [
        "a = [i for i in range(10)]        # 0부터 9까지 숫자를 생성하여 리스트 생성\n",
        "a"
      ],
      "metadata": {
        "colab": {
          "base_uri": "https://localhost:8080/"
        },
        "id": "nNO-RkWmhv-Y",
        "outputId": "9e58950e-356f-42fe-ae5c-cd9c8027ab83"
      },
      "execution_count": null,
      "outputs": [
        {
          "output_type": "execute_result",
          "data": {
            "text/plain": [
              "[0, 1, 2, 3, 4, 5, 6, 7, 8, 9]"
            ]
          },
          "metadata": {},
          "execution_count": 51
        }
      ]
    },
    {
      "cell_type": "code",
      "source": [
        "b = list(i for i in range(10))    # 0부터 9까지 숫자를 생성하여 리스트 생성\n",
        "b"
      ],
      "metadata": {
        "colab": {
          "base_uri": "https://localhost:8080/"
        },
        "id": "_JDs4llgiArl",
        "outputId": "b43f0553-0cf5-4b21-b086-7dd25dba7940"
      },
      "execution_count": null,
      "outputs": [
        {
          "output_type": "execute_result",
          "data": {
            "text/plain": [
              "[0, 1, 2, 3, 4, 5, 6, 7, 8, 9]"
            ]
          },
          "metadata": {},
          "execution_count": 52
        }
      ]
    },
    {
      "cell_type": "markdown",
      "source": [
        "리스트 안에 식, for, 변수, in, 리스트 순서로 들어있지만 뒤에서 앞으로 읽으면 간단합니다. 즉, range(10)으로 0부터 9까지 생성하여 변수 i에 숫자를 꺼내고, 최종적으로 i를 이용하여 리스트를 만든다는 뜻입니다."
      ],
      "metadata": {
        "id": "LpO8RdH5iE8w"
      }
    },
    {
      "cell_type": "code",
      "source": [
        "c = [i + 5 for i in range(10)]    # 0부터 9까지 숫자를 생성하면서 값에 5를 더하여 리스트 생성\n",
        "c"
      ],
      "metadata": {
        "colab": {
          "base_uri": "https://localhost:8080/"
        },
        "id": "cubbm-uEiCjj",
        "outputId": "571e0c92-a3fb-49d2-c125-e72620cd3610"
      },
      "execution_count": null,
      "outputs": [
        {
          "output_type": "execute_result",
          "data": {
            "text/plain": [
              "[5, 6, 7, 8, 9, 10, 11, 12, 13, 14]"
            ]
          },
          "metadata": {},
          "execution_count": 54
        }
      ]
    },
    {
      "cell_type": "code",
      "source": [
        "d = [i * 2 for i in range(10)]    # 0부터 9까지 숫자를 생성하면서 값에 2를 곱하여 리스트 생성\n",
        "d"
      ],
      "metadata": {
        "colab": {
          "base_uri": "https://localhost:8080/"
        },
        "id": "lBAMC1pviL6X",
        "outputId": "609a53cd-fadf-4a70-da6d-b75b7ef31237"
      },
      "execution_count": null,
      "outputs": [
        {
          "output_type": "execute_result",
          "data": {
            "text/plain": [
              "[0, 2, 4, 6, 8, 10, 12, 14, 16, 18]"
            ]
          },
          "metadata": {},
          "execution_count": 55
        }
      ]
    },
    {
      "cell_type": "code",
      "source": [
        "d = [i+5 for i in range(10)]\n",
        "d"
      ],
      "metadata": {
        "colab": {
          "base_uri": "https://localhost:8080/"
        },
        "id": "r6ty3jKdXZbc",
        "outputId": "e128fba5-281f-401e-bb85-64c8b4f55eca"
      },
      "execution_count": 122,
      "outputs": [
        {
          "output_type": "execute_result",
          "data": {
            "text/plain": [
              "[5, 6, 7, 8, 9, 10, 11, 12, 13, 14]"
            ]
          },
          "metadata": {},
          "execution_count": 122
        }
      ]
    },
    {
      "cell_type": "code",
      "source": [
        "a=[\"아메리카노\",\"카푸치노\",\"프라푸치노\"]\n",
        "b=[]\n",
        "for v in a:\n",
        "  b.append(v[-2:])\n",
        "\n",
        "b"
      ],
      "metadata": {
        "colab": {
          "base_uri": "https://localhost:8080/"
        },
        "id": "RBbwfJ1DYF-g",
        "outputId": "31563a36-cf3d-4647-f67f-ff5172dca420"
      },
      "execution_count": 124,
      "outputs": [
        {
          "output_type": "execute_result",
          "data": {
            "text/plain": [
              "['카노', '치노', '치노']"
            ]
          },
          "metadata": {},
          "execution_count": 124
        }
      ]
    },
    {
      "cell_type": "code",
      "source": [
        "b=[v[-2:] for v in a]\n",
        "b"
      ],
      "metadata": {
        "colab": {
          "base_uri": "https://localhost:8080/"
        },
        "id": "w_QqD4nPYXGr",
        "outputId": "147f7488-29a5-4980-ce34-bf3679b6fa2d"
      },
      "execution_count": 126,
      "outputs": [
        {
          "output_type": "execute_result",
          "data": {
            "text/plain": [
              "['카노', '치노', '치노']"
            ]
          },
          "metadata": {},
          "execution_count": 126
        }
      ]
    },
    {
      "cell_type": "markdown",
      "source": [
        "### 리스트 표현식에서 if 조건문 사용하기"
      ],
      "metadata": {
        "id": "cLlfOJfoiSls"
      }
    },
    {
      "cell_type": "markdown",
      "source": [
        "이번에는 리스트 표현식에서 if 조건문을 사용해보겠습니다. 다음과 같이 if 조건문은 for 반복문 뒤에 지정합니다.\n",
        "\n",
        "* `[식 for 변수 in 리스트 if 조건식]`"
      ],
      "metadata": {
        "id": "6yK2g3-piUkA"
      }
    },
    {
      "cell_type": "code",
      "source": [
        "c=[]\n",
        "\n",
        "for v in a:\n",
        "  print(v)\n",
        "  if \"푸\" in v:\n",
        "    print(\"푸 is here\")\n",
        "    c.append(v)\n",
        "c"
      ],
      "metadata": {
        "colab": {
          "base_uri": "https://localhost:8080/"
        },
        "id": "j1aVvBSLiKjb",
        "outputId": "1fb70357-3db5-47de-f762-d9339c82c5b5"
      },
      "execution_count": 132,
      "outputs": [
        {
          "output_type": "stream",
          "name": "stdout",
          "text": [
            "아메리카노\n",
            "카푸치노\n",
            "푸 is here\n",
            "프라푸치노\n",
            "푸 is here\n"
          ]
        },
        {
          "output_type": "execute_result",
          "data": {
            "text/plain": [
              "['카푸치노', '프라푸치노']"
            ]
          },
          "metadata": {},
          "execution_count": 132
        }
      ]
    },
    {
      "cell_type": "code",
      "source": [
        "c=[]\n",
        "\n",
        "for v in a:\n",
        "  if \"푸\" not in v:\n",
        "    continue\n",
        "  c.append(v)\n",
        "  print(c, v, \", 푸 is here\")\n",
        "c"
      ],
      "metadata": {
        "colab": {
          "base_uri": "https://localhost:8080/"
        },
        "id": "Jc3XMjTeZQfh",
        "outputId": "aae18937-6a54-4b86-e22f-deb0617f1cd2"
      },
      "execution_count": 137,
      "outputs": [
        {
          "output_type": "stream",
          "name": "stdout",
          "text": [
            "['카푸치노'] 카푸치노 , 푸 is here\n",
            "['카푸치노', '프라푸치노'] 프라푸치노 , 푸 is here\n"
          ]
        },
        {
          "output_type": "execute_result",
          "data": {
            "text/plain": [
              "['카푸치노', '프라푸치노']"
            ]
          },
          "metadata": {},
          "execution_count": 137
        }
      ]
    },
    {
      "cell_type": "code",
      "source": [
        "[v for v in a if \"푸\" in v]"
      ],
      "metadata": {
        "colab": {
          "base_uri": "https://localhost:8080/"
        },
        "id": "Z1W9LER5Zoq4",
        "outputId": "010dedac-5115-4cdf-b4ca-3161fc594e0c"
      },
      "execution_count": 138,
      "outputs": [
        {
          "output_type": "execute_result",
          "data": {
            "text/plain": [
              "['카푸치노', '프라푸치노']"
            ]
          },
          "metadata": {},
          "execution_count": 138
        }
      ]
    },
    {
      "cell_type": "code",
      "source": [
        "[v[0] for v in a if \"푸\" in v]"
      ],
      "metadata": {
        "colab": {
          "base_uri": "https://localhost:8080/"
        },
        "id": "mU7F6gUticBX",
        "outputId": "a86145d0-5074-4491-d265-e0c6c234f609"
      },
      "execution_count": null,
      "outputs": [
        {
          "output_type": "execute_result",
          "data": {
            "text/plain": [
              "[6, 8, 10, 12, 14]"
            ]
          },
          "metadata": {},
          "execution_count": 57
        }
      ]
    },
    {
      "cell_type": "code",
      "source": [
        "[(\"비싸겠네요\" if len(v)>4 else \"저렴하겠네요\") for v in a]"
      ],
      "metadata": {
        "colab": {
          "base_uri": "https://localhost:8080/"
        },
        "id": "xjlscEDIZ3vP",
        "outputId": "0a373f6b-40da-46f7-eb7a-be7879582863"
      },
      "execution_count": 141,
      "outputs": [
        {
          "output_type": "execute_result",
          "data": {
            "text/plain": [
              "['비싸겠네요', '저렴하겠네요', '비싸겠네요']"
            ]
          },
          "metadata": {},
          "execution_count": 141
        }
      ]
    },
    {
      "cell_type": "markdown",
      "source": [
        "### for 반복문과 if 조건문을 여러 번 사용하기"
      ],
      "metadata": {
        "id": "p7gFvnKnigCn"
      }
    },
    {
      "cell_type": "markdown",
      "source": [
        "리스트 표현식은 for와 if를 여러 번 사용할 수도 있습니다.\n",
        "\n",
        "* `[식 for 변수1 in 리스트1 if 조건식1     for 변수2 in 리스트2 if 조건식2     ...     for 변수n in 리스트n if 조건식n]`"
      ],
      "metadata": {
        "id": "WwEy38Psiku1"
      }
    },
    {
      "cell_type": "code",
      "source": [
        "for i in range(5):\n",
        "  for j in range(5):\n",
        "    print(i,j)"
      ],
      "metadata": {
        "id": "aD5ufjtoied7",
        "colab": {
          "base_uri": "https://localhost:8080/"
        },
        "outputId": "030df591-ae75-4384-be31-0c890cc303b9"
      },
      "execution_count": 143,
      "outputs": [
        {
          "output_type": "stream",
          "name": "stdout",
          "text": [
            "0 0\n",
            "0 1\n",
            "0 2\n",
            "0 3\n",
            "0 4\n",
            "1 0\n",
            "1 1\n",
            "1 2\n",
            "1 3\n",
            "1 4\n",
            "2 0\n",
            "2 1\n",
            "2 2\n",
            "2 3\n",
            "2 4\n",
            "3 0\n",
            "3 1\n",
            "3 2\n",
            "3 3\n",
            "3 4\n",
            "4 0\n",
            "4 1\n",
            "4 2\n",
            "4 3\n",
            "4 4\n"
          ]
        }
      ]
    },
    {
      "cell_type": "code",
      "source": [
        "a= [i*j for j in range(10) for i in range(10)]\n",
        "\n",
        "  #이중for. 바깥쪽부터 작동한다.\n",
        "b= [i*j for j in range(10) for i in range(10) if i%2]\n",
        "b"
      ],
      "metadata": {
        "id": "IGReL2kgio5L",
        "colab": {
          "base_uri": "https://localhost:8080/"
        },
        "outputId": "816f575d-cafe-4e92-f387-a030302c90d3"
      },
      "execution_count": 149,
      "outputs": [
        {
          "output_type": "execute_result",
          "data": {
            "text/plain": [
              "[0,\n",
              " 0,\n",
              " 0,\n",
              " 0,\n",
              " 0,\n",
              " 1,\n",
              " 3,\n",
              " 5,\n",
              " 7,\n",
              " 9,\n",
              " 2,\n",
              " 6,\n",
              " 10,\n",
              " 14,\n",
              " 18,\n",
              " 3,\n",
              " 9,\n",
              " 15,\n",
              " 21,\n",
              " 27,\n",
              " 4,\n",
              " 12,\n",
              " 20,\n",
              " 28,\n",
              " 36,\n",
              " 5,\n",
              " 15,\n",
              " 25,\n",
              " 35,\n",
              " 45,\n",
              " 6,\n",
              " 18,\n",
              " 30,\n",
              " 42,\n",
              " 54,\n",
              " 7,\n",
              " 21,\n",
              " 35,\n",
              " 49,\n",
              " 63,\n",
              " 8,\n",
              " 24,\n",
              " 40,\n",
              " 56,\n",
              " 72,\n",
              " 9,\n",
              " 27,\n",
              " 45,\n",
              " 63,\n",
              " 81]"
            ]
          },
          "metadata": {},
          "execution_count": 149
        }
      ]
    },
    {
      "cell_type": "markdown",
      "source": [
        "## 리스트에 map 사용하기"
      ],
      "metadata": {
        "id": "VFhcQVbYiwbo"
      }
    },
    {
      "cell_type": "markdown",
      "source": [
        "이번에는 리스트에 map을 사용해보겠습니다. map은 리스트의 요소를 지정된 함수로 처리해주는 함수입니다(map은 원본 리스트를 변경하지 않고 새 리스트를 생성합니다).\n",
        "\n",
        "* `list(map(함수, 리스트))`\n",
        "* `tuple(map(함수, 튜플))`\n",
        "\n",
        "예를 들어 실수가 저장된 리스트가 있을 때 이 리스트의 모든 요소를 정수로 변환하려면 어떻게 해야 할까요? 먼저 for 반복문을 사용해서 변환해보겠습니다."
      ],
      "metadata": {
        "id": "KCKM5L0AizY-"
      }
    },
    {
      "cell_type": "code",
      "source": [
        "a=[1.2, 2.5, 3.7, 4.6]\n",
        "for i in range(len(a)):\n",
        "  a[i]=int(len(a))"
      ],
      "metadata": {
        "colab": {
          "base_uri": "https://localhost:8080/"
        },
        "id": "VZOqVRhpi2uR",
        "outputId": "03e0f8e5-aa02-47a0-b0dc-f83b8391e6bc"
      },
      "execution_count": null,
      "outputs": [
        {
          "output_type": "execute_result",
          "data": {
            "text/plain": [
              "[1, 2, 3, 4]"
            ]
          },
          "metadata": {},
          "execution_count": 61
        }
      ]
    },
    {
      "cell_type": "code",
      "source": [
        "# 매번 for 반복문으로 반복하면서 요소를 변환하려니 조금 번거롭습니다. 이때는 map을 사용하면 편리합니다.\n"
      ],
      "metadata": {
        "colab": {
          "base_uri": "https://localhost:8080/"
        },
        "id": "7jPvFmfXi48s",
        "outputId": "4a728fbe-2575-4317-e2e9-c6b7e55cbe2a"
      },
      "execution_count": null,
      "outputs": [
        {
          "output_type": "execute_result",
          "data": {
            "text/plain": [
              "[1, 2, 3, 4]"
            ]
          },
          "metadata": {},
          "execution_count": 62
        }
      ]
    },
    {
      "cell_type": "markdown",
      "source": [
        "### input().split()과 map"
      ],
      "metadata": {
        "id": "4jgGA8cykJzJ"
      }
    },
    {
      "cell_type": "markdown",
      "source": [
        "지금까지 input().split()으로 값을 여러 개 입력받고 정수, 실수로 변환할 때도 map을 사용했었죠? 사실 input().split()의 결과가 문자열 리스트라서 map을 사용할 수 있었습니다.\n",
        "\n",
        "다음과 같이 input().split()을 사용한 뒤에 변수 한 개에 저장해보면 리스트인지 확인할 수 있습니다."
      ],
      "metadata": {
        "id": "5D2FE1EukMl0"
      }
    },
    {
      "cell_type": "code",
      "source": [
        "a=input().split()"
      ],
      "metadata": {
        "colab": {
          "base_uri": "https://localhost:8080/"
        },
        "id": "Dt1GfQi0jCqN",
        "outputId": "054ab405-5ee3-497b-b93b-d566bb6369f0"
      },
      "execution_count": 151,
      "outputs": [
        {
          "name": "stdout",
          "output_type": "stream",
          "text": [
            "1 3 5 6 2 3\n"
          ]
        }
      ]
    },
    {
      "cell_type": "code",
      "source": [
        "# 이제 map을 사용해서 정수로 변환해봅니다.\n",
        "a=map(int,input().split())\n",
        "a,list(a)"
      ],
      "metadata": {
        "colab": {
          "base_uri": "https://localhost:8080/"
        },
        "id": "HkO02t-2kPN-",
        "outputId": "8a397d84-7dfc-4ea2-f1c6-e4be555449f7"
      },
      "execution_count": 153,
      "outputs": [
        {
          "name": "stdout",
          "output_type": "stream",
          "text": [
            "3 4 5 1 2\n"
          ]
        },
        {
          "output_type": "execute_result",
          "data": {
            "text/plain": [
              "(<map at 0x7f1f8b910f10>, [3, 4, 5, 1, 2])"
            ]
          },
          "metadata": {},
          "execution_count": 153
        }
      ]
    },
    {
      "cell_type": "markdown",
      "source": [
        "사실 map이 반환하는 맵 객체는 변수 여러 개에 저장하는 언패킹(unpacking)이 가능합니다. 그래서 a, b = map(int, input().split())처럼 list를 생략한 것입니다"
      ],
      "metadata": {
        "id": "lVP4aYf5kb96"
      }
    },
    {
      "cell_type": "code",
      "source": [],
      "metadata": {
        "colab": {
          "base_uri": "https://localhost:8080/"
        },
        "id": "CfGel0KhkVhk",
        "outputId": "37415aac-15c6-4942-883e-541cdd8c6bfe"
      },
      "execution_count": null,
      "outputs": [
        {
          "name": "stdout",
          "output_type": "stream",
          "text": [
            "10 20\n"
          ]
        }
      ]
    }
  ]
}