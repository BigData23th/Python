{
  "nbformat": 4,
  "nbformat_minor": 0,
  "metadata": {
    "colab": {
      "provenance": [],
      "authorship_tag": "ABX9TyM20XvuxiS5lfpjA699ZjLe",
      "include_colab_link": true
    },
    "kernelspec": {
      "name": "python3",
      "display_name": "Python 3"
    },
    "language_info": {
      "name": "python"
    }
  },
  "cells": [
    {
      "cell_type": "markdown",
      "metadata": {
        "id": "view-in-github",
        "colab_type": "text"
      },
      "source": [
        "<a href=\"https://colab.research.google.com/github/heecong/Python/blob/main/submission/Heecong/ch01_%EB%B3%B5%EC%8A%B5.ipynb\" target=\"_parent\"><img src=\"https://colab.research.google.com/assets/colab-badge.svg\" alt=\"Open In Colab\"/></a>"
      ]
    },
    {
      "cell_type": "code",
      "execution_count": 2,
      "metadata": {
        "colab": {
          "base_uri": "https://localhost:8080/",
          "height": 136
        },
        "id": "lI57gYH_b2hS",
        "outputId": "708db6a7-9ae8-47d8-ba75-6d031f4b5eec"
      },
      "outputs": [
        {
          "output_type": "error",
          "ename": "SyntaxError",
          "evalue": "ignored",
          "traceback": [
            "\u001b[0;36m  File \u001b[0;32m\"<ipython-input-2-74c4a1234e12>\"\u001b[0;36m, line \u001b[0;32m1\u001b[0m\n\u001b[0;31m    print(Hello World) # 문자열을 입력했는데 \"\" 또는 ''를 감싸주지 않았다.\u001b[0m\n\u001b[0m                ^\u001b[0m\n\u001b[0;31mSyntaxError\u001b[0m\u001b[0;31m:\u001b[0m invalid syntax\n"
          ]
        }
      ],
      "source": [
        "print(Hello World) # 문자열을 입력했는데 \"\" 또는 ''를 감싸주지 않았다."
      ]
    },
    {
      "cell_type": "code",
      "source": [
        "# Alt + Enter : (셀을 실행시키고) 하단에 새로운 코드 셀을 만들어줌\n",
        "print('Hello World') # print(입력값) : 함수의 일종, 입력한 값(숫자, 문자열...)을 출력"
      ],
      "metadata": {
        "colab": {
          "base_uri": "https://localhost:8080/"
        },
        "id": "Sb-OvIGXcelt",
        "outputId": "7d358bc2-1099-42b5-8153-138bdbcc4f6a"
      },
      "execution_count": 3,
      "outputs": [
        {
          "output_type": "stream",
          "name": "stdout",
          "text": [
            "Hello World\n"
          ]
        }
      ]
    },
    {
      "cell_type": "code",
      "source": [
        "# Ctrl + M + B : (셀을 실행시키지 않고) 현재 셀의 하단에 새로운 코드 셀을 만들어줌\n",
        "# colab은 '리눅스' 환경에서 작동 -> 터미널(입력창)을 통해서 명령어로 작동하는 OS like 윈도우, 안드로이드\n",
        "# 리눅스의 어딴 특정한 기능을 하기 위해서는 (1) 터미널에 (2) 명령어를 넣어야 한다.\n",
        "# !를 앞에 붙이고 나면, 리눅스의 커널(터미널)에 명령어를 사용할 수 있음\n",
        "!python --version"
      ],
      "metadata": {
        "colab": {
          "base_uri": "https://localhost:8080/"
        },
        "id": "HkGlC93Tc7Fd",
        "outputId": "9767b6ad-b0ed-4c55-ef13-1ea326439709"
      },
      "execution_count": 4,
      "outputs": [
        {
          "output_type": "stream",
          "name": "stdout",
          "text": [
            "Python 3.8.10\n"
          ]
        }
      ]
    },
    {
      "cell_type": "code",
      "source": [
        "# 파이썬은 세미콜론을 안써도 된다. 쓴다해도 버그가 나진 않는다.\n",
        "# \"\" 사용에 익숙해지기\n",
        "print(\"Ditto\") # 특정한 행을 위 아래로 복제하고 싶다. ( Alt + Shift + 위아래 방향키)\n",
        "print(\"Ditto\") # 특정한 행을 위 아래로 복제하고 싶다. ( Alt + Shift + 위아래 방향키)\n",
        "print(\"OMG\") # 줄바꿈 (Alt + 위아래 방향키)\n",
        "print(\"Ditto\") # 특정한 행을 위 아래로 복제하고 싶다. ( Alt + Shift + 위아래 방향키)\n",
        "# Ctrl + A : 전체 지정\n",
        "# End : 특정 행의 끝 -> Shift (범위 지정, 블록 지정) -> Home : 특정 행의 시작\n"
      ],
      "metadata": {
        "colab": {
          "base_uri": "https://localhost:8080/"
        },
        "id": "R67iBTUyd9cn",
        "outputId": "d49bfcd6-cc70-4d18-a09a-dc56e7ef4693"
      },
      "execution_count": 8,
      "outputs": [
        {
          "output_type": "stream",
          "name": "stdout",
          "text": [
            "Ditto\n",
            "Ditto\n",
            "OMG\n",
            "Ditto\n",
            "뉴진스\n",
            "르세라핌\n"
          ]
        }
      ]
    },
    {
      "cell_type": "code",
      "source": [
        "# Ctrl + M + - : 특정 행 기준으로 셀 분할\n",
        "print(\"뉴진스\"); print(\"르세라핌\"); # 세미콜론이 있으면 다른 줄로 인식"
      ],
      "metadata": {
        "id": "zlq2uk-EgF6Y"
      },
      "execution_count": null,
      "outputs": []
    },
    {
      "cell_type": "code",
      "source": [
        "# 을 입력하고 뒤에 내용을 입력하면 -> 한 줄 주석\n",
        "# 주석으로 지정하는 단축키 : Ctrl + /\n",
        "print(\"주석\") # 코드 뒤에 주석이 있어도실행 영향 X\n",
        "# print(\"주석2\") # 실행이 안됨"
      ],
      "metadata": {
        "colab": {
          "base_uri": "https://localhost:8080/"
        },
        "id": "Z2nfZEsreLJE",
        "outputId": "57ca73bb-9cd9-4313-9380-aef09a677725"
      },
      "execution_count": 9,
      "outputs": [
        {
          "output_type": "stream",
          "name": "stdout",
          "text": [
            "주석\n"
          ]
        }
      ]
    },
    {
      "cell_type": "code",
      "source": [
        "'''\n",
        "여러 줄 주석을 할 때는\n",
        "\\''' 또는 \"\"\"을 입력하세요\n",
        "'''\n",
        "print(\"안녕\")"
      ],
      "metadata": {
        "colab": {
          "base_uri": "https://localhost:8080/"
        },
        "id": "c15Mt_Qlpsnw",
        "outputId": "12681e25-4dcb-4c0d-a1aa-05030bf67bb8"
      },
      "execution_count": 10,
      "outputs": [
        {
          "output_type": "stream",
          "name": "stdout",
          "text": [
            "안녕\n"
          ]
        }
      ]
    },
    {
      "cell_type": "code",
      "source": [
        "# 문자열을 입력할 때 외부에 ''(작은따옴표)로 감쌌으면, 안에 작은 따옴표를 넣으면 X\n",
        "# 굳이 넣고 싶다 -> 앞에 \\를 넣어서 escape 시켜서 처리해야함"
      ],
      "metadata": {
        "id": "IdehxKjMqCll"
      },
      "execution_count": 11,
      "outputs": []
    },
    {
      "cell_type": "code",
      "source": [
        "a = 1\n",
        "if a != 10: # 특정한 조건을 만족(옳을 때) 시킬 때 작동하는 코드\n",
        "  print(\"10이 아니네요\") # 특정한 들여쓰기 범위 내에서만 조건 관련 코드"
      ],
      "metadata": {
        "colab": {
          "base_uri": "https://localhost:8080/"
        },
        "id": "C8h6mF9YqP2i",
        "outputId": "a5d72ef2-704c-4d46-8654-ddf288fa41fd"
      },
      "execution_count": 12,
      "outputs": [
        {
          "output_type": "stream",
          "name": "stdout",
          "text": [
            "10이 아니네요\n"
          ]
        }
      ]
    },
    {
      "cell_type": "code",
      "source": [
        "if a == 10: # 특정한 조건을 만족(옳을 때) 시킬 때 작동하는 코드\n",
        "  print(\"10이네요\") # 특정한 들여쓰기 범위 내에서만 조건 관련 코드\n",
        "# 들여쓰기 : Tab으로 통일"
      ],
      "metadata": {
        "id": "2piCUckMqkHZ"
      },
      "execution_count": 14,
      "outputs": []
    },
    {
      "cell_type": "code",
      "source": [
        "if a == 10:\n",
        "    print(\"10이네요\") \n",
        "    if a == 10:\n",
        "        print(\"10이네요\") "
      ],
      "metadata": {
        "id": "cACbRJwCq5yw"
      },
      "execution_count": 15,
      "outputs": []
    },
    {
      "cell_type": "code",
      "source": [
        "# 정수 (int, integer, 양의 정수와 음의 정수와 0)\n",
        "# 실수 (float, 실수, 소수, 소수점이 붙어 있음)\n",
        "1, 1.0"
      ],
      "metadata": {
        "colab": {
          "base_uri": "https://localhost:8080/"
        },
        "id": "tqFXvZ4mrNI4",
        "outputId": "eed3b475-1e5e-4b85-8acc-b0b1e569a97a"
      },
      "execution_count": 16,
      "outputs": [
        {
          "output_type": "execute_result",
          "data": {
            "text/plain": [
              "(1, 1.0)"
            ]
          },
          "metadata": {},
          "execution_count": 16
        }
      ]
    },
    {
      "cell_type": "code",
      "source": [
        "# type : 자료형(데이터타입)을 확인\n",
        "type(1), type(1.0), type(\"1\") # 파이썬에서는 문자열이 기본 \n",
        "# str : string, 열, 문자열"
      ],
      "metadata": {
        "colab": {
          "base_uri": "https://localhost:8080/"
        },
        "id": "XuKoEbeard9x",
        "outputId": "c2bac633-8423-4d29-c3b3-04fcdd931644"
      },
      "execution_count": 17,
      "outputs": [
        {
          "output_type": "execute_result",
          "data": {
            "text/plain": [
              "(int, float, str)"
            ]
          },
          "metadata": {},
          "execution_count": 17
        }
      ]
    },
    {
      "cell_type": "code",
      "source": [
        "# 사칙연산 -> 산술 연산자, 연산자 : 1개 이상의 피연산자(항)에 대해서 특정 연산(계산)을 실행시키는 명령\n",
        "1 + 1, 2 - 3, 5 * 8, 13 / 21"
      ],
      "metadata": {
        "colab": {
          "base_uri": "https://localhost:8080/"
        },
        "id": "_AZPKuKjsBYU",
        "outputId": "0039145f-b456-4d57-d3cc-e9c28bfecc5e"
      },
      "execution_count": 18,
      "outputs": [
        {
          "output_type": "execute_result",
          "data": {
            "text/plain": [
              "(2, -1, 40, 0.6190476190476191)"
            ]
          },
          "metadata": {},
          "execution_count": 18
        }
      ]
    },
    {
      "cell_type": "code",
      "source": [
        "20 / 4 # 정수 간 (딱 떨어지게) 나누기를 해도 결과값은 무조건 실수"
      ],
      "metadata": {
        "colab": {
          "base_uri": "https://localhost:8080/"
        },
        "id": "f33D4D_sstGg",
        "outputId": "f4ef3cb0-3344-4f2d-ee3a-6f37d570c7d8"
      },
      "execution_count": 19,
      "outputs": [
        {
          "output_type": "execute_result",
          "data": {
            "text/plain": [
              "5.0"
            ]
          },
          "metadata": {},
          "execution_count": 19
        }
      ]
    },
    {
      "cell_type": "code",
      "source": [
        "20 // 4, 25 // 4 # 몫 연산자(소수점 밑은 버림)"
      ],
      "metadata": {
        "colab": {
          "base_uri": "https://localhost:8080/"
        },
        "id": "30TrCycss0Nx",
        "outputId": "a246e817-61dc-4a05-a7b8-56d554f51caf"
      },
      "execution_count": 20,
      "outputs": [
        {
          "output_type": "execute_result",
          "data": {
            "text/plain": [
              "(5, 6)"
            ]
          },
          "metadata": {},
          "execution_count": 20
        }
      ]
    },
    {
      "cell_type": "code",
      "source": [
        "5.5 // 2, 4 // 1.0, 2.5 // 0.2 # 피연산자(항) 중에 하나라도 실수라면 실수 결과값"
      ],
      "metadata": {
        "colab": {
          "base_uri": "https://localhost:8080/"
        },
        "id": "-vl0kRectBbz",
        "outputId": "12c8d1e2-7ea6-4673-b083-7d978f7872d4"
      },
      "execution_count": 21,
      "outputs": [
        {
          "output_type": "execute_result",
          "data": {
            "text/plain": [
              "(2.0, 4.0, 12.0)"
            ]
          },
          "metadata": {},
          "execution_count": 21
        }
      ]
    },
    {
      "cell_type": "code",
      "source": [
        "# %(나머지 연산자, 모듈로, 모듈러스)\n",
        "10 % 3, 10 // 3"
      ],
      "metadata": {
        "colab": {
          "base_uri": "https://localhost:8080/"
        },
        "id": "XHZNgXUKtNn-",
        "outputId": "2472bc10-2d68-4883-b2ea-314dea7e0b26"
      },
      "execution_count": 22,
      "outputs": [
        {
          "output_type": "execute_result",
          "data": {
            "text/plain": [
              "(1, 3)"
            ]
          },
          "metadata": {},
          "execution_count": 22
        }
      ]
    },
    {
      "cell_type": "code",
      "source": [
        "# 거듭제곱 연산자(**) / 루트 연산자도 겸함\n",
        "2 ** 5, 2 ** 0.5, 3 ** (1/3)"
      ],
      "metadata": {
        "colab": {
          "base_uri": "https://localhost:8080/"
        },
        "id": "EFgK2NDdtU2G",
        "outputId": "bd6f8a91-2d79-4b0c-e503-7cb3bf87f2bf"
      },
      "execution_count": 24,
      "outputs": [
        {
          "output_type": "execute_result",
          "data": {
            "text/plain": [
              "(32, 1.4142135623730951, 1.4422495703074083)"
            ]
          },
          "metadata": {},
          "execution_count": 24
        }
      ]
    },
    {
      "cell_type": "code",
      "source": [
        "# 값 -> 정수(int(...))\n",
        "int(1), int(1.0), int(1 * 1), int(\"1\")"
      ],
      "metadata": {
        "colab": {
          "base_uri": "https://localhost:8080/"
        },
        "id": "gvAzcDIewgH9",
        "outputId": "b8545f39-e1e1-4a9a-c686-ba9cb2ac2c53"
      },
      "execution_count": 27,
      "outputs": [
        {
          "output_type": "execute_result",
          "data": {
            "text/plain": [
              "(1, 1, 1, 1)"
            ]
          },
          "metadata": {},
          "execution_count": 27
        }
      ]
    },
    {
      "cell_type": "code",
      "source": [
        "int(\"1.0\") # 정수로 변환할 수 없는 수자 문자열이기 때문에 오류"
      ],
      "metadata": {
        "colab": {
          "base_uri": "https://localhost:8080/",
          "height": 172
        },
        "id": "OcQ9xTcPwzwu",
        "outputId": "a22a557a-cc25-43cf-e0f4-4691fb9ba905"
      },
      "execution_count": 28,
      "outputs": [
        {
          "output_type": "error",
          "ename": "ValueError",
          "evalue": "ignored",
          "traceback": [
            "\u001b[0;31m---------------------------------------------------------------------------\u001b[0m",
            "\u001b[0;31mValueError\u001b[0m                                Traceback (most recent call last)",
            "\u001b[0;32m<ipython-input-28-226d3d277cbc>\u001b[0m in \u001b[0;36m<module>\u001b[0;34m\u001b[0m\n\u001b[0;32m----> 1\u001b[0;31m \u001b[0mint\u001b[0m\u001b[0;34m(\u001b[0m\u001b[0;34m\"1.0\"\u001b[0m\u001b[0;34m)\u001b[0m \u001b[0;31m# 정수로 변환할 수 없는 수자 문자열이기 때문에 오류\u001b[0m\u001b[0;34m\u001b[0m\u001b[0;34m\u001b[0m\u001b[0m\n\u001b[0m",
            "\u001b[0;31mValueError\u001b[0m: invalid literal for int() with base 10: '1.0'"
          ]
        }
      ]
    },
    {
      "cell_type": "code",
      "source": [
        "int(\"일\") # 숫자가 아니기 때문에 오류\n",
        "# base 10 : 10진법"
      ],
      "metadata": {
        "colab": {
          "base_uri": "https://localhost:8080/",
          "height": 172
        },
        "id": "Wf-gXVKCw7QH",
        "outputId": "c74a3239-359a-43dd-edb1-70c4ac271c86"
      },
      "execution_count": 29,
      "outputs": [
        {
          "output_type": "error",
          "ename": "ValueError",
          "evalue": "ignored",
          "traceback": [
            "\u001b[0;31m---------------------------------------------------------------------------\u001b[0m",
            "\u001b[0;31mValueError\u001b[0m                                Traceback (most recent call last)",
            "\u001b[0;32m<ipython-input-29-6e9b7651929b>\u001b[0m in \u001b[0;36m<module>\u001b[0;34m\u001b[0m\n\u001b[0;32m----> 1\u001b[0;31m \u001b[0mint\u001b[0m\u001b[0;34m(\u001b[0m\u001b[0;34m\"일\"\u001b[0m\u001b[0;34m)\u001b[0m \u001b[0;31m# 숫자가 아니기 때문에 오류\u001b[0m\u001b[0;34m\u001b[0m\u001b[0;34m\u001b[0m\u001b[0m\n\u001b[0m",
            "\u001b[0;31mValueError\u001b[0m: invalid literal for int() with base 10: '일'"
          ]
        }
      ]
    },
    {
      "cell_type": "code",
      "source": [
        "# //, % -> 한 번에\n",
        "divmod(5, 2) # divmod(a, b) : a가 나눠지는 수, b가 나누는 수 -> (몫 나머지) (리턴값, 반환값)"
      ],
      "metadata": {
        "colab": {
          "base_uri": "https://localhost:8080/"
        },
        "id": "qxNNon3bxJkh",
        "outputId": "f5ad2346-766d-46c2-ac45-5fb1ac48f00c"
      },
      "execution_count": 30,
      "outputs": [
        {
          "output_type": "execute_result",
          "data": {
            "text/plain": [
              "(2, 1)"
            ]
          },
          "metadata": {},
          "execution_count": 30
        }
      ]
    },
    {
      "cell_type": "code",
      "source": [
        "3.1 + 2.2 # 부동소수점 오류"
      ],
      "metadata": {
        "colab": {
          "base_uri": "https://localhost:8080/"
        },
        "id": "B69-WOB-xavc",
        "outputId": "f2fdf298-f6d0-4366-d708-fee6206c432a"
      },
      "execution_count": 31,
      "outputs": [
        {
          "output_type": "execute_result",
          "data": {
            "text/plain": [
              "5.300000000000001"
            ]
          },
          "metadata": {},
          "execution_count": 31
        }
      ]
    },
    {
      "cell_type": "code",
      "source": [
        "2.7 - 1.5 # 부동소수점 오류"
      ],
      "metadata": {
        "colab": {
          "base_uri": "https://localhost:8080/"
        },
        "id": "7I06g63HxdHO",
        "outputId": "21551366-6b2e-48f4-9d86-9a779650fa74"
      },
      "execution_count": 32,
      "outputs": [
        {
          "output_type": "execute_result",
          "data": {
            "text/plain": [
              "1.2000000000000002"
            ]
          },
          "metadata": {},
          "execution_count": 32
        }
      ]
    },
    {
      "cell_type": "code",
      "source": [
        "5.5 * 3.1"
      ],
      "metadata": {
        "colab": {
          "base_uri": "https://localhost:8080/"
        },
        "id": "boIGL8RMxe7g",
        "outputId": "0188fe68-3aa9-4230-e2b7-a962b01d7e4d"
      },
      "execution_count": 33,
      "outputs": [
        {
          "output_type": "execute_result",
          "data": {
            "text/plain": [
              "17.05"
            ]
          },
          "metadata": {},
          "execution_count": 33
        }
      ]
    },
    {
      "cell_type": "code",
      "source": [
        "5.5 / 3.1"
      ],
      "metadata": {
        "colab": {
          "base_uri": "https://localhost:8080/"
        },
        "id": "pL64Cvj7x3zV",
        "outputId": "84e9ef94-ec39-4b8c-ce00-d609a7f2df30"
      },
      "execution_count": 34,
      "outputs": [
        {
          "output_type": "execute_result",
          "data": {
            "text/plain": [
              "1.7741935483870968"
            ]
          },
          "metadata": {},
          "execution_count": 34
        }
      ]
    },
    {
      "cell_type": "code",
      "source": [
        "# float -> float(...)\n",
        "float(1), float(4 / 5), float(\"1.0\")"
      ],
      "metadata": {
        "colab": {
          "base_uri": "https://localhost:8080/"
        },
        "id": "resMNZUTx5TM",
        "outputId": "fbb2d19b-867b-4521-8354-986b370b4c48"
      },
      "execution_count": 35,
      "outputs": [
        {
          "output_type": "execute_result",
          "data": {
            "text/plain": [
              "(1.0, 0.8, 1.0)"
            ]
          },
          "metadata": {},
          "execution_count": 35
        }
      ]
    },
    {
      "cell_type": "code",
      "source": [
        "# 텍스트로 숫자를 받았는데, 정수화를 하고 싶다 -> 이게 소수점이 아니라는 확신이 없을 때\n",
        "int(float(\"1.0\"))"
      ],
      "metadata": {
        "colab": {
          "base_uri": "https://localhost:8080/"
        },
        "id": "ZfMX6EORyEdk",
        "outputId": "068554d0-f716-44c0-ed09-8d82143b0eab"
      },
      "execution_count": 36,
      "outputs": [
        {
          "output_type": "execute_result",
          "data": {
            "text/plain": [
              "1"
            ]
          },
          "metadata": {},
          "execution_count": 36
        }
      ]
    },
    {
      "cell_type": "code",
      "source": [
        "1 + 2 * 3"
      ],
      "metadata": {
        "colab": {
          "base_uri": "https://localhost:8080/"
        },
        "id": "5UxRtSYFyQbc",
        "outputId": "fd69ebd5-0124-4caa-b295-90853b0bad93"
      },
      "execution_count": 37,
      "outputs": [
        {
          "output_type": "execute_result",
          "data": {
            "text/plain": [
              "7"
            ]
          },
          "metadata": {},
          "execution_count": 37
        }
      ]
    },
    {
      "cell_type": "code",
      "source": [
        "(1 + 2) * 3 # 괄호 안의 값이 먼저 계산됨"
      ],
      "metadata": {
        "colab": {
          "base_uri": "https://localhost:8080/"
        },
        "id": "O1SaqyPXycCW",
        "outputId": "b3622446-bc60-484d-f56e-4e459eba3baf"
      },
      "execution_count": 38,
      "outputs": [
        {
          "output_type": "execute_result",
          "data": {
            "text/plain": [
              "9"
            ]
          },
          "metadata": {},
          "execution_count": 38
        }
      ]
    },
    {
      "cell_type": "code",
      "source": [
        "x = 10"
      ],
      "metadata": {
        "id": "KCgcTgt8yihO"
      },
      "execution_count": 39,
      "outputs": []
    },
    {
      "cell_type": "code",
      "source": [
        "x"
      ],
      "metadata": {
        "colab": {
          "base_uri": "https://localhost:8080/"
        },
        "id": "qjZNTdUvzJo5",
        "outputId": "38758c93-82fb-4b2e-faf1-1827be80dff2"
      },
      "execution_count": 40,
      "outputs": [
        {
          "output_type": "execute_result",
          "data": {
            "text/plain": [
              "10"
            ]
          },
          "metadata": {},
          "execution_count": 40
        }
      ]
    },
    {
      "cell_type": "code",
      "source": [
        "y = \"The행복식당\"\n",
        "y"
      ],
      "metadata": {
        "colab": {
          "base_uri": "https://localhost:8080/",
          "height": 35
        },
        "id": "9LnM0yc1zK9n",
        "outputId": "461acbf0-eaa6-4349-8904-d0b77725c757"
      },
      "execution_count": 41,
      "outputs": [
        {
          "output_type": "execute_result",
          "data": {
            "text/plain": [
              "'The행복식당'"
            ],
            "application/vnd.google.colaboratory.intrinsic+json": {
              "type": "string"
            }
          },
          "metadata": {},
          "execution_count": 41
        }
      ]
    },
    {
      "cell_type": "code",
      "source": [
        "type(x), type(y)"
      ],
      "metadata": {
        "colab": {
          "base_uri": "https://localhost:8080/"
        },
        "id": "WxkwIoR9ze5B",
        "outputId": "8316ad09-55f7-476a-f0a6-53a41b02f92a"
      },
      "execution_count": 42,
      "outputs": [
        {
          "output_type": "execute_result",
          "data": {
            "text/plain": [
              "(int, str)"
            ]
          },
          "metadata": {},
          "execution_count": 42
        }
      ]
    },
    {
      "cell_type": "markdown",
      "source": [
        "* '=' : 대입 연산자\n",
        "* 같다, '==' : 동등 연산자"
      ],
      "metadata": {
        "id": "Axazd6nzzy5D"
      }
    },
    {
      "cell_type": "code",
      "source": [
        "x = None\n",
        "print(x)"
      ],
      "metadata": {
        "colab": {
          "base_uri": "https://localhost:8080/"
        },
        "id": "yZjsQ4PE0BVu",
        "outputId": "7a772004-e175-4737-aacf-23291390e65e"
      },
      "execution_count": 43,
      "outputs": [
        {
          "output_type": "stream",
          "name": "stdout",
          "text": [
            "None\n"
          ]
        }
      ]
    },
    {
      "cell_type": "code",
      "source": [
        "a = 12 + 13 * 10 + 5\n",
        "b = 17 / 5 * 20 + 19\n",
        "a + b"
      ],
      "metadata": {
        "colab": {
          "base_uri": "https://localhost:8080/"
        },
        "id": "qUnsr2Qf0pse",
        "outputId": "e9ca22b2-8265-4cc6-828c-74333b137567"
      },
      "execution_count": 44,
      "outputs": [
        {
          "output_type": "execute_result",
          "data": {
            "text/plain": [
              "234.0"
            ]
          },
          "metadata": {},
          "execution_count": 44
        }
      ]
    },
    {
      "cell_type": "code",
      "source": [
        "c = a + b\n",
        "c"
      ],
      "metadata": {
        "colab": {
          "base_uri": "https://localhost:8080/"
        },
        "id": "nCN3cI_-03RC",
        "outputId": "37cf0c09-d338-4efd-d818-8948cfcab5b3"
      },
      "execution_count": 45,
      "outputs": [
        {
          "output_type": "execute_result",
          "data": {
            "text/plain": [
              "234.0"
            ]
          },
          "metadata": {},
          "execution_count": 45
        }
      ]
    },
    {
      "cell_type": "code",
      "source": [
        "a = 10\n",
        "a + 20"
      ],
      "metadata": {
        "colab": {
          "base_uri": "https://localhost:8080/"
        },
        "id": "clmSb14S05dj",
        "outputId": "85b96c6c-4806-464e-a33d-1e387c27376a"
      },
      "execution_count": 55,
      "outputs": [
        {
          "output_type": "execute_result",
          "data": {
            "text/plain": [
              "30"
            ]
          },
          "metadata": {},
          "execution_count": 55
        }
      ]
    },
    {
      "cell_type": "code",
      "source": [
        "a"
      ],
      "metadata": {
        "colab": {
          "base_uri": "https://localhost:8080/"
        },
        "id": "TjecOq-K0_cY",
        "outputId": "6ac055d0-b5ff-42b2-82e9-83d2a0cefb95"
      },
      "execution_count": 48,
      "outputs": [
        {
          "output_type": "execute_result",
          "data": {
            "text/plain": [
              "10"
            ]
          },
          "metadata": {},
          "execution_count": 48
        }
      ]
    },
    {
      "cell_type": "code",
      "source": [
        "a = a + 20"
      ],
      "metadata": {
        "id": "yl31TRud1E_X"
      },
      "execution_count": 56,
      "outputs": []
    },
    {
      "cell_type": "code",
      "source": [
        "a"
      ],
      "metadata": {
        "colab": {
          "base_uri": "https://localhost:8080/"
        },
        "id": "gZ7yf4VC1NH4",
        "outputId": "e904f960-1a61-41a8-8ff8-6b3983dca86c"
      },
      "execution_count": 57,
      "outputs": [
        {
          "output_type": "execute_result",
          "data": {
            "text/plain": [
              "30"
            ]
          },
          "metadata": {},
          "execution_count": 57
        }
      ]
    },
    {
      "cell_type": "code",
      "source": [
        "a += 20\n",
        "a"
      ],
      "metadata": {
        "colab": {
          "base_uri": "https://localhost:8080/"
        },
        "id": "PV-iA_ip1Qr3",
        "outputId": "474c2dbd-dbdc-45ea-8db4-0902ec27eb08"
      },
      "execution_count": 58,
      "outputs": [
        {
          "output_type": "execute_result",
          "data": {
            "text/plain": [
              "50"
            ]
          },
          "metadata": {},
          "execution_count": 58
        }
      ]
    },
    {
      "cell_type": "code",
      "source": [
        "a %= 5\n",
        "a"
      ],
      "metadata": {
        "colab": {
          "base_uri": "https://localhost:8080/"
        },
        "id": "PoQ8s1oC1W6E",
        "outputId": "c9793975-7c23-46d6-d03a-3e16c5d6905a"
      },
      "execution_count": 59,
      "outputs": [
        {
          "output_type": "execute_result",
          "data": {
            "text/plain": [
              "0"
            ]
          },
          "metadata": {},
          "execution_count": 59
        }
      ]
    },
    {
      "cell_type": "code",
      "source": [
        "d += 10 # d가 없어서(정의되지 않아서) 새로운 값을 더한 뒤 대입임"
      ],
      "metadata": {
        "colab": {
          "base_uri": "https://localhost:8080/",
          "height": 172
        },
        "id": "rRFmvryr1ZnQ",
        "outputId": "3dfb069b-cc45-4922-f6f3-b1db07d40181"
      },
      "execution_count": 54,
      "outputs": [
        {
          "output_type": "error",
          "ename": "NameError",
          "evalue": "ignored",
          "traceback": [
            "\u001b[0;31m---------------------------------------------------------------------------\u001b[0m",
            "\u001b[0;31mNameError\u001b[0m                                 Traceback (most recent call last)",
            "\u001b[0;32m<ipython-input-54-b200713d1385>\u001b[0m in \u001b[0;36m<module>\u001b[0;34m\u001b[0m\n\u001b[0;32m----> 1\u001b[0;31m \u001b[0md\u001b[0m \u001b[0;34m+=\u001b[0m \u001b[0;36m10\u001b[0m\u001b[0;34m\u001b[0m\u001b[0;34m\u001b[0m\u001b[0m\n\u001b[0m",
            "\u001b[0;31mNameError\u001b[0m: name 'd' is not defined"
          ]
        }
      ]
    },
    {
      "cell_type": "code",
      "source": [
        "d = 10 # 변수의 자리를 만드는 것 '선언', 값을 대입하는 걸 '초기화'\n",
        "# 초기화 != reset / 초기화 = initialization"
      ],
      "metadata": {
        "id": "nEzz2xa61Jf8"
      },
      "execution_count": null,
      "outputs": []
    },
    {
      "cell_type": "code",
      "source": [
        "input()"
      ],
      "metadata": {
        "colab": {
          "base_uri": "https://localhost:8080/",
          "height": 54
        },
        "id": "sHectvV52D1Q",
        "outputId": "1af6b337-77fa-4582-dece-14ba8d2469bc"
      },
      "execution_count": 60,
      "outputs": [
        {
          "name": "stdout",
          "output_type": "stream",
          "text": [
            "안녕\n"
          ]
        },
        {
          "output_type": "execute_result",
          "data": {
            "text/plain": [
              "'안녕'"
            ],
            "application/vnd.google.colaboratory.intrinsic+json": {
              "type": "string"
            }
          },
          "metadata": {},
          "execution_count": 60
        }
      ]
    },
    {
      "cell_type": "code",
      "source": [
        "input(\"인사를 친절하게 해줘 : \") # 문자열 -> 안내문"
      ],
      "metadata": {
        "colab": {
          "base_uri": "https://localhost:8080/",
          "height": 54
        },
        "id": "2NhrQEzK2GPS",
        "outputId": "7d08e31b-dca6-4c92-bd16-144d581e9a57"
      },
      "execution_count": 61,
      "outputs": [
        {
          "name": "stdout",
          "output_type": "stream",
          "text": [
            "인사를 친절하게 해줘 : 싫은데\n"
          ]
        },
        {
          "output_type": "execute_result",
          "data": {
            "text/plain": [
              "'싫은데'"
            ],
            "application/vnd.google.colaboratory.intrinsic+json": {
              "type": "string"
            }
          },
          "metadata": {},
          "execution_count": 61
        }
      ]
    },
    {
      "cell_type": "code",
      "source": [
        "x = input() # 프롬프트에 '문자열'을 입력하는 함수(기능)\n",
        "x"
      ],
      "metadata": {
        "colab": {
          "base_uri": "https://localhost:8080/",
          "height": 54
        },
        "id": "TY41gkG22Pd3",
        "outputId": "32f72e11-a209-4242-da91-87bbbc9755da"
      },
      "execution_count": 63,
      "outputs": [
        {
          "name": "stdout",
          "output_type": "stream",
          "text": [
            "ㅎㅎ\n"
          ]
        },
        {
          "output_type": "execute_result",
          "data": {
            "text/plain": [
              "'ㅎㅎ'"
            ],
            "application/vnd.google.colaboratory.intrinsic+json": {
              "type": "string"
            }
          },
          "metadata": {},
          "execution_count": 63
        }
      ]
    },
    {
      "cell_type": "code",
      "source": [
        "type(x)"
      ],
      "metadata": {
        "colab": {
          "base_uri": "https://localhost:8080/"
        },
        "id": "893ExTvl2a08",
        "outputId": "6c3b0e55-8a0f-42b0-cec5-58352b71e567"
      },
      "execution_count": 64,
      "outputs": [
        {
          "output_type": "execute_result",
          "data": {
            "text/plain": [
              "str"
            ]
          },
          "metadata": {},
          "execution_count": 64
        }
      ]
    },
    {
      "cell_type": "code",
      "source": [
        "a = input('숫자를 입력해주세요 : ')\n",
        "b = input('숫자를 입력해주세요 : ')\n",
        "\n",
        "a + b"
      ],
      "metadata": {
        "colab": {
          "base_uri": "https://localhost:8080/",
          "height": 72
        },
        "id": "p1sTtQRI2dd4",
        "outputId": "dad634d3-a52f-4e9e-afad-849cd1c93b55"
      },
      "execution_count": 65,
      "outputs": [
        {
          "name": "stdout",
          "output_type": "stream",
          "text": [
            "숫자를 입력해주세요 : 1\n",
            "숫자를 입력해주세요 : 2\n"
          ]
        },
        {
          "output_type": "execute_result",
          "data": {
            "text/plain": [
              "'12'"
            ],
            "application/vnd.google.colaboratory.intrinsic+json": {
              "type": "string"
            }
          },
          "metadata": {},
          "execution_count": 65
        }
      ]
    },
    {
      "cell_type": "code",
      "source": [
        "a = input('숫자를 입력해주세요 : ')\n",
        "b = input('숫자를 입력해주세요 : ')\n",
        "\n",
        "int(a) + int(b) # 덧셈 연산을 실행하기 앞서서 int가 실행이 되면서 정수로 변환"
      ],
      "metadata": {
        "id": "5BCV77412s1B"
      },
      "execution_count": null,
      "outputs": []
    },
    {
      "cell_type": "code",
      "source": [
        "a = int(input('숫자를 입력해주세요 : ')) # 변수 a에 대입하기 전에 input의 결과값을 int로 변환\n",
        "b = int(input('숫자를 입력해주세요 : '))\n",
        "\n",
        "a + b\n"
      ],
      "metadata": {
        "colab": {
          "base_uri": "https://localhost:8080/"
        },
        "id": "uc3vJHm823p9",
        "outputId": "a2f15baa-e2f6-4321-bd2f-a4704b6637d8"
      },
      "execution_count": 67,
      "outputs": [
        {
          "name": "stdout",
          "output_type": "stream",
          "text": [
            "숫자를 입력해주세요 : 3\n",
            "숫자를 입력해주세요 : 4\n"
          ]
        },
        {
          "output_type": "execute_result",
          "data": {
            "text/plain": [
              "7"
            ]
          },
          "metadata": {},
          "execution_count": 67
        }
      ]
    },
    {
      "cell_type": "code",
      "source": [
        "\"안녕하세요 여러분\" # 문자열 (리터럴)"
      ],
      "metadata": {
        "colab": {
          "base_uri": "https://localhost:8080/",
          "height": 35
        },
        "id": "2MYWZfNu2ShY",
        "outputId": "86d14c4a-4d39-48aa-87ab-126dda6c51fc"
      },
      "execution_count": 68,
      "outputs": [
        {
          "output_type": "execute_result",
          "data": {
            "text/plain": [
              "'안녕하세요 여러분'"
            ],
            "application/vnd.google.colaboratory.intrinsic+json": {
              "type": "string"
            }
          },
          "metadata": {},
          "execution_count": 68
        }
      ]
    },
    {
      "cell_type": "code",
      "source": [
        "type(\"안녕하세요 여러분\")"
      ],
      "metadata": {
        "colab": {
          "base_uri": "https://localhost:8080/"
        },
        "id": "dGXpGJqp3rba",
        "outputId": "e28c8828-1176-41b4-fb91-20642697723e"
      },
      "execution_count": 71,
      "outputs": [
        {
          "output_type": "execute_result",
          "data": {
            "text/plain": [
              "str"
            ]
          },
          "metadata": {},
          "execution_count": 71
        }
      ]
    },
    {
      "cell_type": "code",
      "source": [
        "# 특정한 구분자(separator)를 기준으로 문자열을 분리(기본값 : '')\n",
        "\"안녕하세요 여러분\".split() # 특정한 타입, 객체에 내장되어 있는 함수(기능) : 메소드(method)\n",
        "# 혼자 쓸 수 있는 것은 함수, .을 찍어서 쓰는 것은 메소드"
      ],
      "metadata": {
        "colab": {
          "base_uri": "https://localhost:8080/"
        },
        "id": "UKBMHEWg332o",
        "outputId": "abd27744-8a6f-4f7d-e6a4-9256dd139cdb"
      },
      "execution_count": 72,
      "outputs": [
        {
          "output_type": "execute_result",
          "data": {
            "text/plain": [
              "['안녕하세요', '여러분']"
            ]
          },
          "metadata": {},
          "execution_count": 72
        }
      ]
    },
    {
      "cell_type": "code",
      "source": [
        "\"안녕하세요,여러분\".split()"
      ],
      "metadata": {
        "colab": {
          "base_uri": "https://localhost:8080/"
        },
        "id": "SIBikJ7V4Uq5",
        "outputId": "22646be4-ecd7-41cd-b5fc-72f10c1e799f"
      },
      "execution_count": 73,
      "outputs": [
        {
          "output_type": "execute_result",
          "data": {
            "text/plain": [
              "['안녕하세요,여러분']"
            ]
          },
          "metadata": {},
          "execution_count": 73
        }
      ]
    },
    {
      "cell_type": "code",
      "source": [
        "\"안녕하세요,여러분\".split(\",\") # 매개변수(parameter, 인수) -> 자리\n",
        "# 매개변수에 들어가는 값 -> 인자(argument)"
      ],
      "metadata": {
        "colab": {
          "base_uri": "https://localhost:8080/"
        },
        "id": "j02fqAJ54d5J",
        "outputId": "52695aa0-06e0-4a21-ab2e-3415b4d001ff"
      },
      "execution_count": 74,
      "outputs": [
        {
          "output_type": "execute_result",
          "data": {
            "text/plain": [
              "['안녕하세요', '여러분']"
            ]
          },
          "metadata": {},
          "execution_count": 74
        }
      ]
    },
    {
      "cell_type": "code",
      "source": [
        "a, b = \"안녕하세요,여러분\".split(\",\") \n",
        "# 2개 이상의 값이 결과로 나올 경우, \n",
        "# 해당 결과의 갯수에 맞게 변수를 위치시켜주면, 알아서 할당됨"
      ],
      "metadata": {
        "id": "p-VmHGt-5T2t"
      },
      "execution_count": null,
      "outputs": []
    },
    {
      "cell_type": "code",
      "source": [
        "a, b = input(\"문자열 두 개를 스페이스 기준으로 입력해주세요 : \").split()\n",
        "a, b"
      ],
      "metadata": {
        "colab": {
          "base_uri": "https://localhost:8080/"
        },
        "id": "2vWdLB-_5osk",
        "outputId": "55df999b-dc6b-4ff2-9459-174aeed14674"
      },
      "execution_count": 75,
      "outputs": [
        {
          "name": "stdout",
          "output_type": "stream",
          "text": [
            "문자열 두 개를 스페이스 기준으로 입력해주세요 : 안녕 포켓몬\n"
          ]
        },
        {
          "output_type": "execute_result",
          "data": {
            "text/plain": [
              "('안녕', '포켓몬')"
            ]
          },
          "metadata": {},
          "execution_count": 75
        }
      ]
    },
    {
      "cell_type": "code",
      "source": [
        "a, b = input(\"문자열 두 개를 콤마 기준으로 입력해주세요 : \").split(',')\n",
        "a, b"
      ],
      "metadata": {
        "colab": {
          "base_uri": "https://localhost:8080/"
        },
        "id": "YHs7GTKf51OW",
        "outputId": "f9a2ed1d-dba9-4b57-a07a-c344208fb2f5"
      },
      "execution_count": 78,
      "outputs": [
        {
          "name": "stdout",
          "output_type": "stream",
          "text": [
            "문자열 두 개를 콤마 기준으로 입력해주세요 : 피카츄,라이츄\n"
          ]
        },
        {
          "output_type": "execute_result",
          "data": {
            "text/plain": [
              "('피카츄', '라이츄')"
            ]
          },
          "metadata": {},
          "execution_count": 78
        }
      ]
    },
    {
      "cell_type": "code",
      "source": [
        "a, b = input(\"문자열 두 개를 콤마 기준으로 입력해주세요 : \").split(',')\n",
        "a, b"
      ],
      "metadata": {
        "colab": {
          "base_uri": "https://localhost:8080/",
          "height": 209
        },
        "id": "-SboBeLo6O_y",
        "outputId": "19ac8e0b-9461-4935-aab5-76ce28c67bfa"
      },
      "execution_count": 79,
      "outputs": [
        {
          "name": "stdout",
          "output_type": "stream",
          "text": [
            "문자열 두 개를 콤마 기준으로 입력해주세요 : 버터풀, 야도란, 피죤투\n"
          ]
        },
        {
          "output_type": "error",
          "ename": "ValueError",
          "evalue": "ignored",
          "traceback": [
            "\u001b[0;31m---------------------------------------------------------------------------\u001b[0m",
            "\u001b[0;31mValueError\u001b[0m                                Traceback (most recent call last)",
            "\u001b[0;32m<ipython-input-79-425c2739ba80>\u001b[0m in \u001b[0;36m<module>\u001b[0;34m\u001b[0m\n\u001b[0;32m----> 1\u001b[0;31m \u001b[0ma\u001b[0m\u001b[0;34m,\u001b[0m \u001b[0mb\u001b[0m \u001b[0;34m=\u001b[0m \u001b[0minput\u001b[0m\u001b[0;34m(\u001b[0m\u001b[0;34m\"문자열 두 개를 콤마 기준으로 입력해주세요 : \"\u001b[0m\u001b[0;34m)\u001b[0m\u001b[0;34m.\u001b[0m\u001b[0msplit\u001b[0m\u001b[0;34m(\u001b[0m\u001b[0;34m','\u001b[0m\u001b[0;34m)\u001b[0m\u001b[0;34m\u001b[0m\u001b[0;34m\u001b[0m\u001b[0m\n\u001b[0m\u001b[1;32m      2\u001b[0m \u001b[0ma\u001b[0m\u001b[0;34m,\u001b[0m \u001b[0mb\u001b[0m\u001b[0;34m\u001b[0m\u001b[0;34m\u001b[0m\u001b[0m\n",
            "\u001b[0;31mValueError\u001b[0m: too many values to unpack (expected 2)"
          ]
        }
      ]
    },
    {
      "cell_type": "code",
      "source": [
        "a, b = input('숫자 두 개를 입력하세요 : ').split()\n",
        "a + b"
      ],
      "metadata": {
        "colab": {
          "base_uri": "https://localhost:8080/",
          "height": 54
        },
        "id": "gBo9DOYq6Y5e",
        "outputId": "5e28fb76-ff0f-4d6f-f67c-5ce87b97a78f"
      },
      "execution_count": 80,
      "outputs": [
        {
          "name": "stdout",
          "output_type": "stream",
          "text": [
            "숫자 두 개를 입력하세요 : 1 2\n"
          ]
        },
        {
          "output_type": "execute_result",
          "data": {
            "text/plain": [
              "'12'"
            ],
            "application/vnd.google.colaboratory.intrinsic+json": {
              "type": "string"
            }
          },
          "metadata": {},
          "execution_count": 80
        }
      ]
    },
    {
      "cell_type": "code",
      "source": [
        "a, b = input('숫자 두 개를 입력하세요 : ').split()\n",
        "int(a) + int(b)"
      ],
      "metadata": {
        "colab": {
          "base_uri": "https://localhost:8080/"
        },
        "id": "2ZP0yO4i6ntx",
        "outputId": "a8e4ae8d-aa72-44af-956d-ed62bf32870f"
      },
      "execution_count": 81,
      "outputs": [
        {
          "name": "stdout",
          "output_type": "stream",
          "text": [
            "숫자 두 개를 입력하세요 : 3 5\n"
          ]
        },
        {
          "output_type": "execute_result",
          "data": {
            "text/plain": [
              "8"
            ]
          },
          "metadata": {},
          "execution_count": 81
        }
      ]
    },
    {
      "cell_type": "code",
      "source": [
        "a, b = input('숫자 두 개를 입력하세요 : ').split()\n",
        "a = int(a)\n",
        "b = int(b)\n",
        "a + b"
      ],
      "metadata": {
        "colab": {
          "base_uri": "https://localhost:8080/"
        },
        "id": "PuBI6jKx60VW",
        "outputId": "fbf0318d-cff4-441b-80ae-beb1b0342012"
      },
      "execution_count": 82,
      "outputs": [
        {
          "name": "stdout",
          "output_type": "stream",
          "text": [
            "숫자 두 개를 입력하세요 : 8 13\n"
          ]
        },
        {
          "output_type": "execute_result",
          "data": {
            "text/plain": [
              "21"
            ]
          },
          "metadata": {},
          "execution_count": 82
        }
      ]
    },
    {
      "cell_type": "code",
      "source": [
        "a, b = map(int,input('숫자 두 개를 입력하세요 : ').split()) # ()는 실행\n",
        "# mmap(실행되기 전의 함수, 함수를 통해서 처리하고 싶은 값들)\n",
        "a + b"
      ],
      "metadata": {
        "colab": {
          "base_uri": "https://localhost:8080/"
        },
        "id": "XwibH-Jd7LUk",
        "outputId": "0ed46ced-cca7-499a-daed-9feaea8e8c23"
      },
      "execution_count": 84,
      "outputs": [
        {
          "name": "stdout",
          "output_type": "stream",
          "text": [
            "숫자 두 개를 입력하세요 : 13 42\n"
          ]
        },
        {
          "output_type": "execute_result",
          "data": {
            "text/plain": [
              "55"
            ]
          },
          "metadata": {},
          "execution_count": 84
        }
      ]
    },
    {
      "cell_type": "code",
      "source": [
        "a, b = map(float,input('숫자 두 개를 입력하세요 : ').split()) # ()는 실행\n",
        "# mmap(실행되기 전의 함수, 함수를 통해서 처리하고 싶은 값들)\n",
        "a + b"
      ],
      "metadata": {
        "colab": {
          "base_uri": "https://localhost:8080/"
        },
        "id": "tPe4ZcCc7yf9",
        "outputId": "e9679ec8-920d-4098-f6ae-20c6d7de6a38"
      },
      "execution_count": 85,
      "outputs": [
        {
          "name": "stdout",
          "output_type": "stream",
          "text": [
            "숫자 두 개를 입력하세요 : 1.5 2.1\n"
          ]
        },
        {
          "output_type": "execute_result",
          "data": {
            "text/plain": [
              "3.6"
            ]
          },
          "metadata": {},
          "execution_count": 85
        }
      ]
    },
    {
      "cell_type": "code",
      "source": [
        "a, b = map(type,input('숫자 두 개를 입력하세요 : ').split()) # ()는 실행\n",
        "# mmap(실행되기 전의 함수, 함수를 통해서 처리하고 싶은 값들)\n",
        "a + b"
      ],
      "metadata": {
        "colab": {
          "base_uri": "https://localhost:8080/",
          "height": 227
        },
        "id": "IVP1kSU88BtQ",
        "outputId": "01e016d2-fa5d-456d-e74b-c0d7da331750"
      },
      "execution_count": 86,
      "outputs": [
        {
          "name": "stdout",
          "output_type": "stream",
          "text": [
            "숫자 두 개를 입력하세요 : 1 2\n"
          ]
        },
        {
          "output_type": "error",
          "ename": "TypeError",
          "evalue": "ignored",
          "traceback": [
            "\u001b[0;31m---------------------------------------------------------------------------\u001b[0m",
            "\u001b[0;31mTypeError\u001b[0m                                 Traceback (most recent call last)",
            "\u001b[0;32m<ipython-input-86-e2bf2693d878>\u001b[0m in \u001b[0;36m<module>\u001b[0;34m\u001b[0m\n\u001b[1;32m      1\u001b[0m \u001b[0ma\u001b[0m\u001b[0;34m,\u001b[0m \u001b[0mb\u001b[0m \u001b[0;34m=\u001b[0m \u001b[0mmap\u001b[0m\u001b[0;34m(\u001b[0m\u001b[0mtype\u001b[0m\u001b[0;34m,\u001b[0m\u001b[0minput\u001b[0m\u001b[0;34m(\u001b[0m\u001b[0;34m'숫자 두 개를 입력하세요 : '\u001b[0m\u001b[0;34m)\u001b[0m\u001b[0;34m.\u001b[0m\u001b[0msplit\u001b[0m\u001b[0;34m(\u001b[0m\u001b[0;34m)\u001b[0m\u001b[0;34m)\u001b[0m \u001b[0;31m# ()는 실행\u001b[0m\u001b[0;34m\u001b[0m\u001b[0;34m\u001b[0m\u001b[0m\n\u001b[1;32m      2\u001b[0m \u001b[0;31m# mmap(실행되기 전의 함수, 함수를 통해서 처리하고 싶은 값들)\u001b[0m\u001b[0;34m\u001b[0m\u001b[0;34m\u001b[0m\u001b[0;34m\u001b[0m\u001b[0m\n\u001b[0;32m----> 3\u001b[0;31m \u001b[0ma\u001b[0m \u001b[0;34m+\u001b[0m \u001b[0mb\u001b[0m\u001b[0;34m\u001b[0m\u001b[0;34m\u001b[0m\u001b[0m\n\u001b[0m",
            "\u001b[0;31mTypeError\u001b[0m: unsupported operand type(s) for +: 'type' and 'type'"
          ]
        }
      ]
    },
    {
      "cell_type": "code",
      "source": [
        "a, b = map(print,input('숫자 두 개를 입력하세요 : ').split()) # ()는 실행\n",
        "# mmap(실행되기 전의 함수, 함수를 통해서 처리하고 싶은 값들)\n",
        "a + b"
      ],
      "metadata": {
        "colab": {
          "base_uri": "https://localhost:8080/",
          "height": 263
        },
        "id": "LCmzw6Em8FZK",
        "outputId": "4b5122f5-33fc-4138-e8d4-e93ed982febe"
      },
      "execution_count": 87,
      "outputs": [
        {
          "output_type": "stream",
          "name": "stdout",
          "text": [
            "숫자 두 개를 입력하세요 : 5 7\n",
            "5\n",
            "7\n"
          ]
        },
        {
          "output_type": "error",
          "ename": "TypeError",
          "evalue": "ignored",
          "traceback": [
            "\u001b[0;31m---------------------------------------------------------------------------\u001b[0m",
            "\u001b[0;31mTypeError\u001b[0m                                 Traceback (most recent call last)",
            "\u001b[0;32m<ipython-input-87-5a2537313926>\u001b[0m in \u001b[0;36m<module>\u001b[0;34m\u001b[0m\n\u001b[1;32m      1\u001b[0m \u001b[0ma\u001b[0m\u001b[0;34m,\u001b[0m \u001b[0mb\u001b[0m \u001b[0;34m=\u001b[0m \u001b[0mmap\u001b[0m\u001b[0;34m(\u001b[0m\u001b[0mprint\u001b[0m\u001b[0;34m,\u001b[0m\u001b[0minput\u001b[0m\u001b[0;34m(\u001b[0m\u001b[0;34m'숫자 두 개를 입력하세요 : '\u001b[0m\u001b[0;34m)\u001b[0m\u001b[0;34m.\u001b[0m\u001b[0msplit\u001b[0m\u001b[0;34m(\u001b[0m\u001b[0;34m)\u001b[0m\u001b[0;34m)\u001b[0m \u001b[0;31m# ()는 실행\u001b[0m\u001b[0;34m\u001b[0m\u001b[0;34m\u001b[0m\u001b[0m\n\u001b[1;32m      2\u001b[0m \u001b[0;31m# mmap(실행되기 전의 함수, 함수를 통해서 처리하고 싶은 값들)\u001b[0m\u001b[0;34m\u001b[0m\u001b[0;34m\u001b[0m\u001b[0;34m\u001b[0m\u001b[0m\n\u001b[0;32m----> 3\u001b[0;31m \u001b[0ma\u001b[0m \u001b[0;34m+\u001b[0m \u001b[0mb\u001b[0m\u001b[0;34m\u001b[0m\u001b[0;34m\u001b[0m\u001b[0m\n\u001b[0m",
            "\u001b[0;31mTypeError\u001b[0m: unsupported operand type(s) for +: 'NoneType' and 'NoneType'"
          ]
        }
      ]
    },
    {
      "cell_type": "code",
      "source": [
        "print(\"Hello World\")"
      ],
      "metadata": {
        "id": "ZCuzn-vW_PhU"
      },
      "execution_count": null,
      "outputs": []
    },
    {
      "cell_type": "code",
      "source": [
        "print(\"a\", \"b\", 1) # 매개변수의 갯수가 정해져 있지 않은 함수 # args..."
      ],
      "metadata": {
        "colab": {
          "base_uri": "https://localhost:8080/"
        },
        "id": "UmSsa1Hw_T7T",
        "outputId": "e66630bb-7dd4-4524-d71e-1751ae9d8292"
      },
      "execution_count": 88,
      "outputs": [
        {
          "output_type": "stream",
          "name": "stdout",
          "text": [
            "a b 1\n"
          ]
        }
      ]
    },
    {
      "cell_type": "code",
      "source": [
        "print(\"a\", \"b\", 1, sep=' ') \n",
        "print(\"a\", \"b\", 1, sep='') \n",
        "print(\"a\", \"b\", 1, sep=';') \n",
        "print(\"a\", \"b\", 1, sep='랑 ') "
      ],
      "metadata": {
        "colab": {
          "base_uri": "https://localhost:8080/"
        },
        "id": "yFYIZxll_g4s",
        "outputId": "23798296-8b75-4fed-fd34-0fbfc135dfd8"
      },
      "execution_count": 91,
      "outputs": [
        {
          "output_type": "stream",
          "name": "stdout",
          "text": [
            "a b 1\n",
            "ab1\n",
            "a;b;1\n",
            "a랑 b랑 1\n"
          ]
        }
      ]
    },
    {
      "cell_type": "code",
      "source": [
        "print(\"민지\", end='\\n') # 자동으로 줄바꿈이 됨(end = \\n)\n",
        "print(\"다니엘\")\n",
        "print(\"혜인\", end='')\n",
        "print(\"해린\", end='이라는 사람, \\n')\n",
        "print(\"하니\")"
      ],
      "metadata": {
        "colab": {
          "base_uri": "https://localhost:8080/"
        },
        "id": "VIYXiOwQALVq",
        "outputId": "7b73ce63-08b6-4b81-fa11-06ae9b19d4d3"
      },
      "execution_count": 95,
      "outputs": [
        {
          "output_type": "stream",
          "name": "stdout",
          "text": [
            "민지\n",
            "다니엘\n",
            "혜인해린이라는 사람, \n",
            "하니\n"
          ]
        }
      ]
    },
    {
      "cell_type": "code",
      "source": [
        "print(\"민지\\n다니엘\\n혜인\\n해린\\n하니\")"
      ],
      "metadata": {
        "colab": {
          "base_uri": "https://localhost:8080/"
        },
        "id": "_c7rJ2LIBX1A",
        "outputId": "e4e6af46-9508-4977-964b-d3a165699c9e"
      },
      "execution_count": 96,
      "outputs": [
        {
          "output_type": "stream",
          "name": "stdout",
          "text": [
            "민지\n",
            "다니엘\n",
            "혜인\n",
            "해린\n",
            "하니\n"
          ]
        }
      ]
    },
    {
      "cell_type": "code",
      "source": [
        "1_000_000\n",
        "100_0000"
      ],
      "metadata": {
        "colab": {
          "base_uri": "https://localhost:8080/"
        },
        "id": "RXDb1G-6Bgdy",
        "outputId": "516fe18e-b753-4b60-8f4b-2de74e4df898"
      },
      "execution_count": 97,
      "outputs": [
        {
          "output_type": "execute_result",
          "data": {
            "text/plain": [
              "1000000"
            ]
          },
          "metadata": {},
          "execution_count": 97
        }
      ]
    },
    {
      "cell_type": "code",
      "source": [
        "_"
      ],
      "metadata": {
        "colab": {
          "base_uri": "https://localhost:8080/"
        },
        "id": "KlKpz5sXBnBu",
        "outputId": "a06e06ce-2cfe-48dd-9c2a-6caecc509e0c"
      },
      "execution_count": 98,
      "outputs": [
        {
          "output_type": "execute_result",
          "data": {
            "text/plain": [
              "1000000"
            ]
          },
          "metadata": {},
          "execution_count": 98
        }
      ]
    }
  ]
}