{
  "nbformat": 4,
  "nbformat_minor": 0,
  "metadata": {
    "colab": {
      "provenance": [],
      "include_colab_link": true
    },
    "kernelspec": {
      "name": "python3",
      "display_name": "Python 3"
    },
    "language_info": {
      "name": "python"
    }
  },
  "cells": [
    {
      "cell_type": "markdown",
      "metadata": {
        "id": "view-in-github",
        "colab_type": "text"
      },
      "source": [
        "<a href=\"https://colab.research.google.com/github/Myun9hyun/Python/blob/main/submission/Myun9hyun/ch02_10_%EB%94%95%EC%85%94%EB%84%88%EB%A6%AC_%EC%9D%91%EC%9A%A9_%EA%B3%B5%EC%9C%A0%EC%9A%A9.ipynb\" target=\"_parent\"><img src=\"https://colab.research.google.com/assets/colab-badge.svg\" alt=\"Open In Colab\"/></a>"
      ]
    },
    {
      "cell_type": "markdown",
      "source": [
        "# 딕셔너리 응용"
      ],
      "metadata": {
        "id": "uZtKonlQ_bxw"
      }
    },
    {
      "cell_type": "markdown",
      "source": [
        "## 딕셔너리 조작하기"
      ],
      "metadata": {
        "id": "SKYN1_K5_duj"
      }
    },
    {
      "cell_type": "markdown",
      "source": [
        "### 딕셔너리에서 키의 값 저장하기"
      ],
      "metadata": {
        "id": "BIUDOX3P_fJx"
      }
    },
    {
      "cell_type": "markdown",
      "source": [
        "update(키=값)은 이름 그대로 딕셔너리에서 키의 값을 수정합니다. 예를 들어 딕셔너리가 x = {'a': 10}이라면 x.update(a=90)과 같이 키에서 작은따옴표 또는 큰따옴표를 빼고 키 이름과 값을 지정합니다."
      ],
      "metadata": {
        "id": "9Brl-EP-_our"
      }
    },
    {
      "cell_type": "code",
      "execution_count": 3,
      "metadata": {
        "colab": {
          "base_uri": "https://localhost:8080/"
        },
        "id": "ANRkulOQ-d22",
        "outputId": "6ffe590d-6dca-4086-8fe3-d623fb61df63"
      },
      "outputs": [
        {
          "output_type": "execute_result",
          "data": {
            "text/plain": [
              "{'a': 90, 'b': 20, 'c': 30, 'd': 40}"
            ]
          },
          "metadata": {},
          "execution_count": 3
        }
      ],
      "source": [
        "x = {\"a\" : 90, \"b\" : 20, \"c\" : 30, \"d\" : 40}\n",
        "x"
      ]
    },
    {
      "cell_type": "code",
      "source": [
        "x[\"a\"] = 100\n",
        "x"
      ],
      "metadata": {
        "colab": {
          "base_uri": "https://localhost:8080/"
        },
        "id": "zXDKhGpw6BxR",
        "outputId": "e2c2ad2f-11f1-4ac8-d962-fb7550e4fe60"
      },
      "execution_count": 5,
      "outputs": [
        {
          "output_type": "execute_result",
          "data": {
            "text/plain": [
              "{'a': 100, 'b': 20, 'c': 30, 'd': 40}"
            ]
          },
          "metadata": {},
          "execution_count": 5
        }
      ]
    },
    {
      "cell_type": "code",
      "source": [
        "x.update(a=50)\n",
        "x"
      ],
      "metadata": {
        "colab": {
          "base_uri": "https://localhost:8080/"
        },
        "id": "sBHyYZRm6IW7",
        "outputId": "971ce979-fdc3-4334-c5a8-eee1a9fef771"
      },
      "execution_count": 7,
      "outputs": [
        {
          "output_type": "execute_result",
          "data": {
            "text/plain": [
              "{'a': 50, 'b': 20, 'c': 30, 'd': 40}"
            ]
          },
          "metadata": {},
          "execution_count": 7
        }
      ]
    },
    {
      "cell_type": "markdown",
      "source": [
        "만약 딕셔너리에 키가 없으면 키-값 쌍을 추가합니다. 딕셔너리 x에는 키 'e'가 없으므로 x.update(e=50)을 실행하면 'e': 50을 추가합니다."
      ],
      "metadata": {
        "id": "EAm_Zpct_uPK"
      }
    },
    {
      "cell_type": "code",
      "source": [
        "x.update(e=50)\n",
        "x"
      ],
      "metadata": {
        "colab": {
          "base_uri": "https://localhost:8080/"
        },
        "id": "Y94MYml8_rjq",
        "outputId": "68c3abd7-7505-4d6f-d54b-fb14de59f8de"
      },
      "execution_count": 11,
      "outputs": [
        {
          "output_type": "execute_result",
          "data": {
            "text/plain": [
              "{'a': 50, 'b': 20, 'c': 30, 'd': 40, 'e': 50}"
            ]
          },
          "metadata": {},
          "execution_count": 11
        }
      ]
    },
    {
      "cell_type": "code",
      "source": [
        "[i for i in x] # 키값이 들어감"
      ],
      "metadata": {
        "colab": {
          "base_uri": "https://localhost:8080/"
        },
        "id": "5rA0Sbc46yLt",
        "outputId": "dc3649a2-f1db-4ce9-f8e5-8fe9697efd82"
      },
      "execution_count": 13,
      "outputs": [
        {
          "output_type": "execute_result",
          "data": {
            "text/plain": [
              "['a', 'b', 'c', 'd', 'e']"
            ]
          },
          "metadata": {},
          "execution_count": 13
        }
      ]
    },
    {
      "cell_type": "code",
      "source": [
        "[x.update(**{i:i}) for i in x]"
      ],
      "metadata": {
        "colab": {
          "base_uri": "https://localhost:8080/"
        },
        "id": "qI73GHkO62Ra",
        "outputId": "673b5dc4-c9e8-4ccd-98eb-8d7ad2f3abd2"
      },
      "execution_count": 14,
      "outputs": [
        {
          "output_type": "execute_result",
          "data": {
            "text/plain": [
              "[None, None, None, None, None]"
            ]
          },
          "metadata": {},
          "execution_count": 14
        }
      ]
    },
    {
      "cell_type": "markdown",
      "source": [
        "update는 키-값 쌍 여러 개를 콤마로 구분해서 넣어주면 값을 한꺼번에 수정할 수 있습니다. 이때도 키가 있으면 해당 키의 값을 수정하고 없으면 키-값 쌍을 추가합니다.\n"
      ],
      "metadata": {
        "id": "9_hlLcsu_xQt"
      }
    },
    {
      "cell_type": "code",
      "source": [
        "x.update(a=900, f=50)\n",
        "x"
      ],
      "metadata": {
        "colab": {
          "base_uri": "https://localhost:8080/"
        },
        "id": "1XHXIdt-_wDF",
        "outputId": "6da5a8d1-ddab-4827-bcb4-c176e0db9c4c"
      },
      "execution_count": 16,
      "outputs": [
        {
          "output_type": "execute_result",
          "data": {
            "text/plain": [
              "{'a': 900, 'b': 'b', 'c': 'c', 'd': 'd', 'e': 'e', 'f': 50}"
            ]
          },
          "metadata": {},
          "execution_count": 16
        }
      ]
    },
    {
      "cell_type": "markdown",
      "source": [
        "update(키=값)은 키가 문자열일 때만 사용할 수 있습니다. 만약 키가 숫자일 경우에는 update(딕셔너리)처럼 딕셔너리를 넣어서 값을 수정할 수 있습니다."
      ],
      "metadata": {
        "id": "hBF_IeHL_2AO"
      }
    },
    {
      "cell_type": "code",
      "source": [
        "y = {1: \"one\", 2: \"two\"}\n",
        "y"
      ],
      "metadata": {
        "colab": {
          "base_uri": "https://localhost:8080/"
        },
        "id": "cL2ShtdU_0e6",
        "outputId": "e17fd299-b525-4fc4-add3-acb95c5c216f"
      },
      "execution_count": 18,
      "outputs": [
        {
          "output_type": "execute_result",
          "data": {
            "text/plain": [
              "{1: 'one', 2: 'two'}"
            ]
          },
          "metadata": {},
          "execution_count": 18
        }
      ]
    },
    {
      "cell_type": "code",
      "source": [
        "y.update(1=\"ONE\") # 오류. 변수명의 조건을 만족시켜야 update에서 키=값을 대입시킬 수 있음"
      ],
      "metadata": {
        "colab": {
          "base_uri": "https://localhost:8080/",
          "height": 136
        },
        "id": "v1xLoKSx7qZk",
        "outputId": "c326128f-f87f-4601-980c-b2004322742b"
      },
      "execution_count": 20,
      "outputs": [
        {
          "output_type": "error",
          "ename": "SyntaxError",
          "evalue": "ignored",
          "traceback": [
            "\u001b[0;36m  File \u001b[0;32m\"<ipython-input-20-3964661a6036>\"\u001b[0;36m, line \u001b[0;32m1\u001b[0m\n\u001b[0;31m    y.update(1=\"ONE\") # 오류. 업데이트 내에는 숫자를 대입 할수 없음.\u001b[0m\n\u001b[0m             ^\u001b[0m\n\u001b[0;31mSyntaxError\u001b[0m\u001b[0;31m:\u001b[0m expression cannot contain assignment, perhaps you meant \"==\"?\n"
          ]
        }
      ]
    },
    {
      "cell_type": "code",
      "source": [
        "y.update({1 : \"ONE\", 2 : \"TWO\"})\n",
        "y"
      ],
      "metadata": {
        "colab": {
          "base_uri": "https://localhost:8080/"
        },
        "id": "XT2lKemc7xt_",
        "outputId": "c2433ba1-f418-4c9e-8044-89ae5ad1e5d9"
      },
      "execution_count": 24,
      "outputs": [
        {
          "output_type": "execute_result",
          "data": {
            "text/plain": [
              "{1: 'ONE', 2: 'TWO'}"
            ]
          },
          "metadata": {},
          "execution_count": 24
        }
      ]
    },
    {
      "cell_type": "code",
      "source": [
        "y.update({3 : \"Three\", 4 : \"Four\"})\n",
        "y"
      ],
      "metadata": {
        "colab": {
          "base_uri": "https://localhost:8080/"
        },
        "id": "SQkd7GM68EM0",
        "outputId": "ae233254-62aa-41fc-973f-575d8c4fc37c"
      },
      "execution_count": 26,
      "outputs": [
        {
          "output_type": "execute_result",
          "data": {
            "text/plain": [
              "{1: 'ONE', 2: 'TWO', 3: 'Three', 4: 'Four'}"
            ]
          },
          "metadata": {},
          "execution_count": 26
        }
      ]
    },
    {
      "cell_type": "markdown",
      "source": [
        "다른 방법으로는 리스트와 튜플을 이용하는 방법도 있습니다. update(리스트), update(튜플)은 리스트와 튜플로 값을 수정합니다. 여기서 리스트는 [[키1, 값1], [키2, 값2]] 형식으로 키와 값을 리스트로 만들고 이 리스트를 다시 리스트 안에 넣어서 키-값 쌍을 나열해줍니다(튜플도 같은 형식)."
      ],
      "metadata": {
        "id": "5VtWrCh3_7vP"
      }
    },
    {
      "cell_type": "code",
      "source": [
        "y.update([[2, \"Two\"], [4, \"FOUR\"]])\n",
        "y"
      ],
      "metadata": {
        "colab": {
          "base_uri": "https://localhost:8080/"
        },
        "id": "pr8rwq2b_5gd",
        "outputId": "4c34560d-8cee-4f41-c217-e593685e0f6d"
      },
      "execution_count": 28,
      "outputs": [
        {
          "output_type": "execute_result",
          "data": {
            "text/plain": [
              "{1: 'ONE', 2: 'Two', 3: 'Three', 4: 'FOUR'}"
            ]
          },
          "metadata": {},
          "execution_count": 28
        }
      ]
    },
    {
      "cell_type": "markdown",
      "source": [
        "### 딕셔너리에서 키-값 쌍 삭제하기"
      ],
      "metadata": {
        "id": "rjg_vRhrAAhe"
      }
    },
    {
      "cell_type": "markdown",
      "source": [
        "pop(키)는 딕셔너리에서 특정 키-값 쌍을 삭제한 뒤 삭제한 값을 반환합니다."
      ],
      "metadata": {
        "id": "uIYzUtc4AFYe"
      }
    },
    {
      "cell_type": "code",
      "source": [
        "x = {\"a\" : 90, \"b\" : 20, \"c\" : 30, \"d\" : 40}\n",
        "print(x)\n",
        "x.pop(\"a\")"
      ],
      "metadata": {
        "colab": {
          "base_uri": "https://localhost:8080/"
        },
        "id": "QkGVNWTi_-XC",
        "outputId": "9993ff47-1622-4875-96a0-0d3bc124420a"
      },
      "execution_count": 44,
      "outputs": [
        {
          "output_type": "stream",
          "name": "stdout",
          "text": [
            "{'a': 90, 'b': 20, 'c': 30, 'd': 40}\n"
          ]
        },
        {
          "output_type": "execute_result",
          "data": {
            "text/plain": [
              "90"
            ]
          },
          "metadata": {},
          "execution_count": 44
        }
      ]
    },
    {
      "cell_type": "code",
      "source": [
        "print(x.pop(\"b\"))\n",
        "x"
      ],
      "metadata": {
        "colab": {
          "base_uri": "https://localhost:8080/"
        },
        "id": "ZmFJtKqG9SA8",
        "outputId": "7bb203b3-5152-4507-b940-ee13862e70ef"
      },
      "execution_count": 45,
      "outputs": [
        {
          "output_type": "stream",
          "name": "stdout",
          "text": [
            "20\n"
          ]
        },
        {
          "output_type": "execute_result",
          "data": {
            "text/plain": [
              "{'c': 30, 'd': 40}"
            ]
          },
          "metadata": {},
          "execution_count": 45
        }
      ]
    },
    {
      "cell_type": "markdown",
      "source": [
        "pop(키, 기본값)처럼 기본값을 지정하면 딕셔너리에 키가 있을 때는 해당 키-값 쌍을 삭제한 뒤 삭제한 값을 반환하지만 키가 없을 때는 기본값만 반환합니다."
      ],
      "metadata": {
        "id": "48JxDyUXALn0"
      }
    },
    {
      "cell_type": "code",
      "source": [
        "x = {\"a\" : 90, \"b\" : 20, \"c\" : 30, \"d\" : 40}"
      ],
      "metadata": {
        "id": "F6fBaMUvAJHm"
      },
      "execution_count": 46,
      "outputs": []
    },
    {
      "cell_type": "markdown",
      "source": [
        "pop 대신 del로 특정 키-값 쌍을 삭제할 수도 있습니다. 이때는 [ ]에 키를 지정하여 del을 사용합니다."
      ],
      "metadata": {
        "id": "Bcv9hNp2Eg6t"
      }
    },
    {
      "cell_type": "code",
      "source": [],
      "metadata": {
        "colab": {
          "base_uri": "https://localhost:8080/"
        },
        "id": "tMJq_WL2ANZj",
        "outputId": "2beb002a-edd2-4d4d-b9d1-7f194c660928"
      },
      "execution_count": null,
      "outputs": [
        {
          "output_type": "execute_result",
          "data": {
            "text/plain": [
              "{'b': 20, 'c': 30, 'd': 40}"
            ]
          },
          "metadata": {},
          "execution_count": 9
        }
      ]
    },
    {
      "cell_type": "markdown",
      "source": [
        "### 딕셔너리의 모든 키-값 쌍을 삭제하기"
      ],
      "metadata": {
        "id": "bCqy8pb3Epoh"
      }
    },
    {
      "cell_type": "code",
      "source": [
        "# clear()는 딕셔너리의 모든 키-값 쌍을 삭제합니다.\n"
      ],
      "metadata": {
        "colab": {
          "base_uri": "https://localhost:8080/"
        },
        "id": "K2g0_umAEkxU",
        "outputId": "725b129a-6173-4280-a519-7c59a78627dd"
      },
      "execution_count": null,
      "outputs": [
        {
          "output_type": "execute_result",
          "data": {
            "text/plain": [
              "{}"
            ]
          },
          "metadata": {},
          "execution_count": 10
        }
      ]
    },
    {
      "cell_type": "markdown",
      "source": [
        "### 딕셔너리에서 키의 값을 가져오기"
      ],
      "metadata": {
        "id": "KBpOPiqOEt2L"
      }
    },
    {
      "cell_type": "code",
      "source": [
        "# get(키)는 딕셔너리에서 특정 키의 값을 가져옵니다.\n",
        "x = {\"a\" : 90, \"b\" : 20, \"c\" : 30, \"d\" : 40}\n",
        "x['e']"
      ],
      "metadata": {
        "colab": {
          "base_uri": "https://localhost:8080/",
          "height": 209
        },
        "id": "VuYhWgB3EsJD",
        "outputId": "cf31a4d8-fe3d-486d-e583-31f8b3b913e0"
      },
      "execution_count": 43,
      "outputs": [
        {
          "output_type": "error",
          "ename": "KeyError",
          "evalue": "ignored",
          "traceback": [
            "\u001b[0;31m---------------------------------------------------------------------------\u001b[0m",
            "\u001b[0;31mKeyError\u001b[0m                                  Traceback (most recent call last)",
            "\u001b[0;32m<ipython-input-43-948f7c5ee026>\u001b[0m in \u001b[0;36m<module>\u001b[0;34m\u001b[0m\n\u001b[1;32m      1\u001b[0m \u001b[0;31m# get(키)는 딕셔너리에서 특정 키의 값을 가져옵니다.\u001b[0m\u001b[0;34m\u001b[0m\u001b[0;34m\u001b[0m\u001b[0;34m\u001b[0m\u001b[0m\n\u001b[1;32m      2\u001b[0m \u001b[0mx\u001b[0m \u001b[0;34m=\u001b[0m \u001b[0;34m{\u001b[0m\u001b[0;34m\"a\"\u001b[0m \u001b[0;34m:\u001b[0m \u001b[0;36m90\u001b[0m\u001b[0;34m,\u001b[0m \u001b[0;34m\"b\"\u001b[0m \u001b[0;34m:\u001b[0m \u001b[0;36m20\u001b[0m\u001b[0;34m,\u001b[0m \u001b[0;34m\"c\"\u001b[0m \u001b[0;34m:\u001b[0m \u001b[0;36m30\u001b[0m\u001b[0;34m,\u001b[0m \u001b[0;34m\"d\"\u001b[0m \u001b[0;34m:\u001b[0m \u001b[0;36m40\u001b[0m\u001b[0;34m}\u001b[0m\u001b[0;34m\u001b[0m\u001b[0;34m\u001b[0m\u001b[0m\n\u001b[0;32m----> 3\u001b[0;31m \u001b[0mx\u001b[0m\u001b[0;34m[\u001b[0m\u001b[0;34m'e'\u001b[0m\u001b[0;34m]\u001b[0m\u001b[0;34m\u001b[0m\u001b[0;34m\u001b[0m\u001b[0m\n\u001b[0m",
            "\u001b[0;31mKeyError\u001b[0m: 'e'"
          ]
        }
      ]
    },
    {
      "cell_type": "markdown",
      "source": [
        "get(키, 기본값)처럼 기본값을 지정하면 딕셔너리에 키가 있을 때는 해당 키의 값을 반환하지만 키가 없을 때는 기본값을 반환합니다."
      ],
      "metadata": {
        "id": "eLNx2cw3E3od"
      }
    },
    {
      "cell_type": "code",
      "source": [
        "print(x.get('e'))\n",
        "print(x.get('e',0)) # get(키, 기본값) -> (없으면) 기본값, (있으면) 원래 값\n"
      ],
      "metadata": {
        "colab": {
          "base_uri": "https://localhost:8080/"
        },
        "id": "w3K8xktbE1SW",
        "outputId": "f8209723-3ff8-4899-bbe9-7b16ad6696f5"
      },
      "execution_count": 47,
      "outputs": [
        {
          "output_type": "stream",
          "name": "stdout",
          "text": [
            "None\n",
            "0\n"
          ]
        }
      ]
    },
    {
      "cell_type": "markdown",
      "source": [
        "### 딕셔너리에서 키-값 쌍을 모두 가져오기"
      ],
      "metadata": {
        "id": "5fw2zFKAE686"
      }
    },
    {
      "cell_type": "markdown",
      "source": [
        "딕셔너리는 키와 값을 가져오는 다양한 메서드를 제공합니다.\n",
        "\n",
        "* items: 키-값 쌍을 모두 가져옴\n",
        "* keys: 키를 모두 가져옴\n",
        "* values: 값을 모두 가져옴"
      ],
      "metadata": {
        "id": "tQ-QAdDOE9Qk"
      }
    },
    {
      "cell_type": "code",
      "source": [
        "# items()는 딕셔너리의 키-값 쌍을 모두 가져옵니다.\n",
        "x\n",
        "x.items()"
      ],
      "metadata": {
        "colab": {
          "base_uri": "https://localhost:8080/"
        },
        "id": "QN-GyGFgE5LN",
        "outputId": "6b8b3cfa-4337-4f96-e70c-59ce473d84f8"
      },
      "execution_count": 50,
      "outputs": [
        {
          "output_type": "execute_result",
          "data": {
            "text/plain": [
              "dict_items([('a', 90), ('b', 20), ('c', 30), ('d', 40)])"
            ]
          },
          "metadata": {},
          "execution_count": 50
        }
      ]
    },
    {
      "cell_type": "code",
      "source": [
        "for i in x.items():\n",
        "  print(i)"
      ],
      "metadata": {
        "colab": {
          "base_uri": "https://localhost:8080/"
        },
        "id": "RXvEKWgO_DOG",
        "outputId": "e7915db5-9867-4b37-e728-140be905bcef"
      },
      "execution_count": 52,
      "outputs": [
        {
          "output_type": "stream",
          "name": "stdout",
          "text": [
            "('a', 90)\n",
            "('b', 20)\n",
            "('c', 30)\n",
            "('d', 40)\n"
          ]
        }
      ]
    },
    {
      "cell_type": "code",
      "source": [
        "for k, v in x.items():\n",
        "  print(k)\n",
        "  print(v)"
      ],
      "metadata": {
        "colab": {
          "base_uri": "https://localhost:8080/"
        },
        "id": "FTGEA4MY_GuZ",
        "outputId": "3213a28c-1608-4b01-8da0-0c356a4cd97c"
      },
      "execution_count": 53,
      "outputs": [
        {
          "output_type": "stream",
          "name": "stdout",
          "text": [
            "a\n",
            "90\n",
            "b\n",
            "20\n",
            "c\n",
            "30\n",
            "d\n",
            "40\n"
          ]
        }
      ]
    },
    {
      "cell_type": "code",
      "source": [
        "# keys()는 키를 모두 가져옵니다.\n",
        "for k in x.keys():\n",
        "  print(k)"
      ],
      "metadata": {
        "colab": {
          "base_uri": "https://localhost:8080/"
        },
        "id": "z5Cn2RDuFCel",
        "outputId": "bfb69a26-9709-487d-9007-fbb18d6aae28"
      },
      "execution_count": 54,
      "outputs": [
        {
          "output_type": "stream",
          "name": "stdout",
          "text": [
            "a\n",
            "b\n",
            "c\n",
            "d\n"
          ]
        }
      ]
    },
    {
      "cell_type": "code",
      "source": [
        "for k in x:\n",
        "  print(k)"
      ],
      "metadata": {
        "colab": {
          "base_uri": "https://localhost:8080/"
        },
        "id": "nyjUYfId_TAe",
        "outputId": "8e546f1b-5672-489d-edca-96ee28b81772"
      },
      "execution_count": 55,
      "outputs": [
        {
          "output_type": "stream",
          "name": "stdout",
          "text": [
            "a\n",
            "b\n",
            "c\n",
            "d\n"
          ]
        }
      ]
    },
    {
      "cell_type": "code",
      "source": [
        "# values()는 값을 모두 가져옵니다.\n",
        "x.values()"
      ],
      "metadata": {
        "colab": {
          "base_uri": "https://localhost:8080/"
        },
        "id": "i935UdgcFGaR",
        "outputId": "cdf915f0-eaef-4ce8-80b1-3653fe2a72fc"
      },
      "execution_count": 57,
      "outputs": [
        {
          "output_type": "execute_result",
          "data": {
            "text/plain": [
              "dict_values([90, 20, 30, 40])"
            ]
          },
          "metadata": {},
          "execution_count": 57
        }
      ]
    },
    {
      "cell_type": "code",
      "source": [
        "for v in x.values():\n",
        "  print(v)"
      ],
      "metadata": {
        "colab": {
          "base_uri": "https://localhost:8080/"
        },
        "id": "w2Ud9blm_Ymm",
        "outputId": "85d68e2d-de4d-4fbe-9b4e-6f29f0250e7c"
      },
      "execution_count": 59,
      "outputs": [
        {
          "output_type": "stream",
          "name": "stdout",
          "text": [
            "90\n",
            "20\n",
            "30\n",
            "40\n"
          ]
        }
      ]
    },
    {
      "cell_type": "markdown",
      "source": [
        "## 반복문으로 딕셔너리의 키-값 쌍을 모두 출력하기"
      ],
      "metadata": {
        "id": "V5v9lyEoFNZE"
      }
    },
    {
      "cell_type": "markdown",
      "source": [
        "for i in x:처럼 for 반복문에 딕셔너리를 지정한 뒤에 print로 변수 i를 출력해보면 값은 출력되지 않고 키만 출력됩니다. 그럼 키와 값을 모두 출력하려면 어떻게 해야 할까요?\n",
        "\n",
        "이때는 for in 뒤에 딕셔너리를 지정하고 items를 사용해야 합니다.\n",
        "\n",
        "```\n",
        "for 키, 값 in 딕셔너리.items():\n",
        "     반복할 코드\n",
        "```"
      ],
      "metadata": {
        "id": "RfLcd88MFYr6"
      }
    },
    {
      "cell_type": "markdown",
      "source": [
        "`for key, value in x.items():`는 딕셔너리 x에서 키-값 쌍을 꺼내서 키는 key에 값은 value에 저장하고, 꺼낼 때마다 코드를 반복합니다. 따라서 print로 key와 value를 출력하면 키-값 쌍을 모두 출력할 수 있습니다."
      ],
      "metadata": {
        "id": "n__sxlkrFglx"
      }
    },
    {
      "cell_type": "markdown",
      "source": [
        "## 딕셔너리 안에서 딕셔너리 사용하기"
      ],
      "metadata": {
        "id": "SQWf1aONIu34"
      }
    },
    {
      "cell_type": "markdown",
      "source": [
        "딕셔너리는 값 부분에 다시 딕셔너리가 계속 들어갈 수 있습니다.\n",
        "\n",
        "* `딕셔너리 = {키1: {키A: 값A}, 키2: {키B: 값B}}`"
      ],
      "metadata": {
        "id": "2A5RdBk3IxQl"
      }
    },
    {
      "cell_type": "code",
      "source": [
        "a = {\n",
        "    \"삼성전자\" : {\n",
        "        \"대주주\" : \"이재용\",\n",
        "        \"순위\" : 1,\n",
        "        \"취급품목\" : {\n",
        "            \"갤럭시\" : 20000,\n",
        "            \"냉장고\" : 10000\n",
        "        }}, \n",
        "    \"송송전자\" : {\n",
        "        \"대주주\" : \"김송송\",\n",
        "        \"순위\" : 100,\n",
        "        \"취급품목\" : {\n",
        "            \"TV\" : 10\n",
        "        }}}\n",
        "a"
      ],
      "metadata": {
        "colab": {
          "base_uri": "https://localhost:8080/"
        },
        "id": "KqG8iE5GF3LU",
        "outputId": "34f4a5e0-be77-4940-d9df-fb91e536107f"
      },
      "execution_count": 62,
      "outputs": [
        {
          "output_type": "execute_result",
          "data": {
            "text/plain": [
              "{'삼성전자': {'대주주': '이재용', '순위': 1, '취급품목': {'갤럭시': 20000, '냉장고': 10000}},\n",
              " '송송전자': {'대주주': '김송송', '순위': 100, '취급품목': {'TV': 10}}}"
            ]
          },
          "metadata": {},
          "execution_count": 62
        }
      ]
    },
    {
      "cell_type": "code",
      "source": [
        "a[\"삼성전자\"]"
      ],
      "metadata": {
        "colab": {
          "base_uri": "https://localhost:8080/"
        },
        "id": "2aKydCLnAZGy",
        "outputId": "1e09e564-bc56-496f-c9af-8d4be6d108ba"
      },
      "execution_count": 64,
      "outputs": [
        {
          "output_type": "execute_result",
          "data": {
            "text/plain": [
              "{'대주주': '이재용', '순위': 1, '취급품목': {'갤럭시': 20000, '냉장고': 10000}}"
            ]
          },
          "metadata": {},
          "execution_count": 64
        }
      ]
    },
    {
      "cell_type": "code",
      "source": [
        "a[\"삼성전자\"][\"대주주\"]"
      ],
      "metadata": {
        "colab": {
          "base_uri": "https://localhost:8080/",
          "height": 35
        },
        "id": "OnKPjTVtAezw",
        "outputId": "698ccaaf-7d4a-471f-ff98-0e9d2c8a7907"
      },
      "execution_count": 66,
      "outputs": [
        {
          "output_type": "execute_result",
          "data": {
            "text/plain": [
              "'이재용'"
            ],
            "application/vnd.google.colaboratory.intrinsic+json": {
              "type": "string"
            }
          },
          "metadata": {},
          "execution_count": 66
        }
      ]
    },
    {
      "cell_type": "code",
      "source": [
        "a[\"송송전자\"][\"취급품목\"][\"TV\"] = 100"
      ],
      "metadata": {
        "id": "qCW3oLA8AjIE"
      },
      "execution_count": 68,
      "outputs": []
    },
    {
      "cell_type": "code",
      "source": [
        "a[\"송송전자\"][\"취급품목\"][\"TV\"]"
      ],
      "metadata": {
        "colab": {
          "base_uri": "https://localhost:8080/"
        },
        "id": "YtovMBiNAq-m",
        "outputId": "4fc5909a-90ed-44f7-c3d8-6f7ffddd5f9b"
      },
      "execution_count": 71,
      "outputs": [
        {
          "output_type": "execute_result",
          "data": {
            "text/plain": [
              "100"
            ]
          },
          "metadata": {},
          "execution_count": 71
        }
      ]
    },
    {
      "cell_type": "code",
      "source": [
        "c = {\"a\" : 1, \"b\" : 2, \"c\" : {\"d\" : 4}}\n",
        "c"
      ],
      "metadata": {
        "colab": {
          "base_uri": "https://localhost:8080/"
        },
        "id": "8wkwT1-XBDU_",
        "outputId": "77790d63-799a-4fa0-9a7a-27ae7c8430e5"
      },
      "execution_count": 73,
      "outputs": [
        {
          "output_type": "execute_result",
          "data": {
            "text/plain": [
              "{'a': 1, 'b': 2, 'c': {'d': 4}}"
            ]
          },
          "metadata": {},
          "execution_count": 73
        }
      ]
    },
    {
      "cell_type": "code",
      "source": [
        "d = c\n",
        "d[\"e\"] = 100\n",
        "c"
      ],
      "metadata": {
        "colab": {
          "base_uri": "https://localhost:8080/"
        },
        "id": "1rlUd6EjBMIB",
        "outputId": "b8790faa-0e00-40d2-822f-a4bf946e573d"
      },
      "execution_count": 75,
      "outputs": [
        {
          "output_type": "execute_result",
          "data": {
            "text/plain": [
              "{'a': 1, 'b': 2, 'c': {'d': 4}, 'e': 100}"
            ]
          },
          "metadata": {},
          "execution_count": 75
        }
      ]
    },
    {
      "cell_type": "code",
      "source": [
        "d = c.copy()\n",
        "d[\"f\"] = 1000\n",
        "c, d"
      ],
      "metadata": {
        "colab": {
          "base_uri": "https://localhost:8080/"
        },
        "id": "hqifMLCbBRvp",
        "outputId": "266600fe-2a34-490e-f929-6554745ee99e"
      },
      "execution_count": 77,
      "outputs": [
        {
          "output_type": "execute_result",
          "data": {
            "text/plain": [
              "({'a': 1, 'b': 2, 'c': {'d': 4}, 'e': 100},\n",
              " {'a': 1, 'b': 2, 'c': {'d': 4}, 'e': 100, 'f': 1000})"
            ]
          },
          "metadata": {},
          "execution_count": 77
        }
      ]
    },
    {
      "cell_type": "code",
      "source": [],
      "metadata": {
        "id": "apanyPkCBWV2"
      },
      "execution_count": null,
      "outputs": []
    },
    {
      "cell_type": "markdown",
      "source": [
        "중첩 딕셔너리는 계층형 데이터를 저장할 때 유용합니다.\n",
        "\n",
        "딕셔너리 안에 들어있는 딕셔너리에 접근하려면 딕셔너리 뒤에 [ ](대괄호)를 단계만큼 붙이고 키를 지정해주면 됩니다.\n",
        "\n",
        "* `딕셔너리[키][키]`\n",
        "* `딕셔너리[키][키] = 값`"
      ],
      "metadata": {
        "id": "YdxNleWUI7ET"
      }
    }
  ]
}