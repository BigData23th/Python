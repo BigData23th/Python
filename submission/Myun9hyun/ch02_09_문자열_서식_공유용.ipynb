{
  "nbformat": 4,
  "nbformat_minor": 0,
  "metadata": {
    "colab": {
      "provenance": [],
      "include_colab_link": true
    },
    "kernelspec": {
      "name": "python3",
      "display_name": "Python 3"
    },
    "language_info": {
      "name": "python"
    }
  },
  "cells": [
    {
      "cell_type": "markdown",
      "metadata": {
        "id": "view-in-github",
        "colab_type": "text"
      },
      "source": [
        "<a href=\"https://colab.research.google.com/github/Myun9hyun/Python/blob/main/submission/Myun9hyun/ch02_09_%EB%AC%B8%EC%9E%90%EC%97%B4_%EC%84%9C%EC%8B%9D_%EA%B3%B5%EC%9C%A0%EC%9A%A9.ipynb\" target=\"_parent\"><img src=\"https://colab.research.google.com/assets/colab-badge.svg\" alt=\"Open In Colab\"/></a>"
      ]
    },
    {
      "cell_type": "markdown",
      "source": [
        "# 문자열 서식"
      ],
      "metadata": {
        "id": "QiBSq5Bq143A"
      }
    },
    {
      "cell_type": "markdown",
      "source": [
        "파이썬에서 문자열 포맷팅을 할 때는 f-string, format 메소드, 서식 지정자를 사용할 수 있습니다."
      ],
      "metadata": {
        "id": "wegxJ51w16PT"
      }
    },
    {
      "cell_type": "markdown",
      "source": [
        "## f-string"
      ],
      "metadata": {
        "id": "N0-o1WfZ1_n_"
      }
    },
    {
      "cell_type": "markdown",
      "source": [
        "f-string은 파이썬 3.6 이후부터 사용 가능한 문자열 포맷팅 방법 중 하나입니다. f-string을 사용하면 문자열 안에서 변수의 값을 간단하게 삽입할 수 있으며, 이를 통해 가독성과 코드 작성의 편의성이 크게 향상됩니다."
      ],
      "metadata": {
        "id": "hiZyEX3h2CfD"
      }
    },
    {
      "cell_type": "code",
      "source": [
        "name = \"Alice\"\n",
        "age = 25"
      ],
      "metadata": {
        "id": "1h2DPiFurahE"
      },
      "execution_count": 1,
      "outputs": []
    },
    {
      "cell_type": "code",
      "source": [
        "print(\"이름\", name, \"나이\", age, \"세\")\n",
        "print(\"이름: \", name, \" 나이: \", age, \"세\", sep=\"\")"
      ],
      "metadata": {
        "colab": {
          "base_uri": "https://localhost:8080/"
        },
        "id": "ckmvDRuUrrUk",
        "outputId": "93cda77f-8e13-462e-b3f0-c0521dac9dde"
      },
      "execution_count": 4,
      "outputs": [
        {
          "output_type": "stream",
          "name": "stdout",
          "text": [
            "이름 Alice 나이 25 세\n",
            "이름: Alice 나이: 25세\n"
          ]
        }
      ]
    },
    {
      "cell_type": "code",
      "source": [
        "\"이름: \" + name + \", 나이 : \" + str(age) + \"세\""
      ],
      "metadata": {
        "colab": {
          "base_uri": "https://localhost:8080/",
          "height": 35
        },
        "id": "3YAOw4yirxPU",
        "outputId": "ee6c77d3-55fa-41e0-da01-ebdc286e96d8"
      },
      "execution_count": 6,
      "outputs": [
        {
          "output_type": "execute_result",
          "data": {
            "text/plain": [
              "'이름: Alice, 나이 : 25세'"
            ],
            "application/vnd.google.colaboratory.intrinsic+json": {
              "type": "string"
            }
          },
          "metadata": {},
          "execution_count": 6
        }
      ]
    },
    {
      "cell_type": "code",
      "source": [
        "# f\"...\" : f-string\n",
        "# f\"텍스트...{변수명, 리터럴}\" : 포맷팅된 문자열 표현\n",
        "f\"이름 : {name}, 나이 : {age}세\""
      ],
      "metadata": {
        "colab": {
          "base_uri": "https://localhost:8080/",
          "height": 35
        },
        "id": "Ac7duNIlsHiT",
        "outputId": "987aee25-995f-4bae-cd27-12280d2b51c4"
      },
      "execution_count": 9,
      "outputs": [
        {
          "output_type": "execute_result",
          "data": {
            "text/plain": [
              "'이름 : Alice, 나이 : 25세'"
            ],
            "application/vnd.google.colaboratory.intrinsic+json": {
              "type": "string"
            }
          },
          "metadata": {},
          "execution_count": 9
        }
      ]
    },
    {
      "cell_type": "code",
      "source": [
        "print(f\"이름 : {name}, 나이 : {age}세\")\n"
      ],
      "metadata": {
        "id": "yXuEmCBnsaKH"
      },
      "execution_count": null,
      "outputs": []
    },
    {
      "cell_type": "code",
      "source": [
        "#f{...d} : 숫자(정수) 표현을 강제 (int를 씌워주는 효과 -> integer가 아니면 다 오류)\n",
        "f\"{age:d}\" # decimal # 10 진법"
      ],
      "metadata": {
        "colab": {
          "base_uri": "https://localhost:8080/",
          "height": 35
        },
        "id": "KtjQL7M6sYKc",
        "outputId": "9fe11f66-aefd-4e89-d0ff-c183c6d0bf18"
      },
      "execution_count": 11,
      "outputs": [
        {
          "output_type": "execute_result",
          "data": {
            "text/plain": [
              "'25'"
            ],
            "application/vnd.google.colaboratory.intrinsic+json": {
              "type": "string"
            }
          },
          "metadata": {},
          "execution_count": 11
        }
      ]
    },
    {
      "cell_type": "code",
      "source": [
        "# f{...:0[0의 갯수]d0} : zfill(갯수만큼 빈 공간에 0을 채움)\n",
        "f\"{age:04d}\", f\"{1:04d}\", str(age).zfill(4)"
      ],
      "metadata": {
        "colab": {
          "base_uri": "https://localhost:8080/"
        },
        "id": "xRLsKEaPtAi3",
        "outputId": "15377c81-2149-49ab-9372-5a7d6d01e3f0"
      },
      "execution_count": 14,
      "outputs": [
        {
          "output_type": "execute_result",
          "data": {
            "text/plain": [
              "('0025', '0001', '0025')"
            ]
          },
          "metadata": {},
          "execution_count": 14
        }
      ]
    },
    {
      "cell_type": "code",
      "source": [
        "print(f\"이름 : {name}, 나이 : {age}세\")\n",
        "print(f\"{age:d}\")\n",
        "print(f\"{age:+010d}\") # {}내에 띄어쓰기 하면 오류"
      ],
      "metadata": {
        "colab": {
          "base_uri": "https://localhost:8080/"
        },
        "id": "GlV41B2ItlIc",
        "outputId": "b3b37321-6689-473e-b1f0-5d63213efefe"
      },
      "execution_count": 17,
      "outputs": [
        {
          "output_type": "stream",
          "name": "stdout",
          "text": [
            "이름 : Alice, 나이 : 25세\n",
            "25\n",
            "+000000025\n"
          ]
        }
      ]
    },
    {
      "cell_type": "code",
      "source": [
        "print(f\"{100:010d}\")\n",
        "print(f\"{100:-010d}\")\n",
        "print(f\"{+100:-010d}\")\n",
        "print(f\"{+100:+010d}\")\n",
        "print(f\"{-100:-010d}\")\n",
        "print(f\"{-100:+010d}\")"
      ],
      "metadata": {
        "colab": {
          "base_uri": "https://localhost:8080/"
        },
        "id": "_0EbzOmctgw5",
        "outputId": "7ca986db-5933-461d-fa69-72301944943c"
      },
      "execution_count": 24,
      "outputs": [
        {
          "output_type": "stream",
          "name": "stdout",
          "text": [
            "0000000100\n",
            "0000000100\n",
            "0000000100\n",
            "+000000100\n",
            "-000000100\n",
            "-000000100\n"
          ]
        }
      ]
    },
    {
      "cell_type": "code",
      "source": [
        "height = 175.5"
      ],
      "metadata": {
        "id": "gF_cEBt9tb-1"
      },
      "execution_count": 20,
      "outputs": []
    },
    {
      "cell_type": "code",
      "source": [
        "# f{...:f} : float를 나타냄\n",
        "f\"{age:f}\", f\"{height:f}\""
      ],
      "metadata": {
        "colab": {
          "base_uri": "https://localhost:8080/"
        },
        "id": "ljY4YuUiu68g",
        "outputId": "36191cd9-ccb3-4d91-e555-fd232a43809d"
      },
      "execution_count": 21,
      "outputs": [
        {
          "output_type": "execute_result",
          "data": {
            "text/plain": [
              "('25.000000', '175.500000')"
            ]
          },
          "metadata": {},
          "execution_count": 21
        }
      ]
    },
    {
      "cell_type": "code",
      "source": [
        "# f{...:.[표시하고싶은자리수]f} : float를 나타냄\n",
        "f\"{age:.2f}\", f\"{height:.4f}\""
      ],
      "metadata": {
        "colab": {
          "base_uri": "https://localhost:8080/"
        },
        "id": "-1CO1Tq6s7eu",
        "outputId": "0449aa12-baa6-4a2e-df13-ca6abf991abd"
      },
      "execution_count": 22,
      "outputs": [
        {
          "output_type": "execute_result",
          "data": {
            "text/plain": [
              "('25.00', '175.5000')"
            ]
          },
          "metadata": {},
          "execution_count": 22
        }
      ]
    },
    {
      "cell_type": "code",
      "source": [
        "print(f\"이름 : {name}, 나이 : {age}세\")\n",
        "print(f\"{age:d}\")\n",
        "print(f\"{age:010d}\")\n",
        "print(f\"{age:+010d}\")\n",
        "print(f\"{height:.2f}\")\n",
        "print(f\"{height:010.2f}\")\n"
      ],
      "metadata": {
        "colab": {
          "base_uri": "https://localhost:8080/"
        },
        "id": "PTHBNF4qsOrg",
        "outputId": "53c3bdd7-d567-428c-e402-dcee2996ccd8"
      },
      "execution_count": 27,
      "outputs": [
        {
          "output_type": "stream",
          "name": "stdout",
          "text": [
            "이름 : Alice, 나이 : 25세\n",
            "25\n",
            "0000000025\n",
            "+000000025\n",
            "175.50\n",
            "0000175.50\n"
          ]
        }
      ]
    },
    {
      "cell_type": "code",
      "execution_count": 28,
      "metadata": {
        "colab": {
          "base_uri": "https://localhost:8080/"
        },
        "id": "yALOnLZtvlNp",
        "outputId": "61367430-495e-4633-96a3-beeb8b8475ae"
      },
      "outputs": [
        {
          "output_type": "execute_result",
          "data": {
            "text/plain": [
              "('25', '25', '25', '25')"
            ]
          },
          "metadata": {},
          "execution_count": 28
        }
      ],
      "source": [
        "f\"{age}\", f'{age}', f\"\"\"{age}\"\"\", f'''{age}'''"
      ]
    },
    {
      "cell_type": "markdown",
      "source": [
        "### format 메소드"
      ],
      "metadata": {
        "id": "AHUelcsL2IRR"
      }
    },
    {
      "cell_type": "code",
      "source": [],
      "metadata": {
        "colab": {
          "base_uri": "https://localhost:8080/"
        },
        "id": "Gr_6JVoN2FCu",
        "outputId": "4a11404d-7884-4193-c2ec-d266c23a62e8"
      },
      "execution_count": null,
      "outputs": [
        {
          "output_type": "stream",
          "name": "stdout",
          "text": [
            "이름: Alice, 나이: 25세\n",
            "25\n",
            "0000000025\n",
            "+000000025\n",
            "175.50\n",
            "0000175.50\n"
          ]
        }
      ]
    },
    {
      "cell_type": "markdown",
      "source": [
        "### 서식 지정자"
      ],
      "metadata": {
        "id": "kubSFPUy2P18"
      }
    },
    {
      "cell_type": "markdown",
      "source": [
        "서식 지정자는 문자열 포맷팅에서 사용하는 기호로, 변수의 값을 특정한 형식으로 표현할 때 사용됩니다. 서식 지정자는 % 기호를 사용하여 문자열에 삽입합니다."
      ],
      "metadata": {
        "id": "TC8qXJoh2Rlg"
      }
    },
    {
      "cell_type": "code",
      "source": [
        "a = (f\"{age:d}\")\n",
        "b = (f\"{age:010d}\")\n",
        "c = (f\"{age:+010d}\")\n",
        "d = (f\"{height:.2f}\")\n",
        "e = (f\"{height:010.2f}\")"
      ],
      "metadata": {
        "id": "Q9CEispz2MsF"
      },
      "execution_count": 30,
      "outputs": []
    },
    {
      "cell_type": "code",
      "source": [
        "name = \"Alice\"\n",
        "age = 25\n",
        "height = 175.5\n",
        "\n",
        "formatted_str = \"이름 : {}, 나이 : {}세\".format(name, age)\n",
        "# formatted_str2 = \"이름 : {name}, 나이 : {age}세\". format(name, age)\n",
        "formatted_str2 = \"이름 : {name}, 나이 : {age}세\".format(age=age, name=name)\n",
        "a = \"{}\".format(age)\n",
        "print(a)\n",
        "b = \"{:010d}\".format(age)\n",
        "print(b)\n",
        "c = \"{:+010d}\".format(age)\n",
        "print(c)\n",
        "d = \"{:.2f}\".format(height)\n",
        "print(d)\n",
        "e = \"{:010.2f}\".format(height)\n",
        "print(e)\n",
        "\n",
        "print(formatted_str2)"
      ],
      "metadata": {
        "colab": {
          "base_uri": "https://localhost:8080/"
        },
        "id": "sX3f4mUYw6X3",
        "outputId": "b1a58622-2e2a-41d6-8878-2f5b53f28474"
      },
      "execution_count": 37,
      "outputs": [
        {
          "output_type": "stream",
          "name": "stdout",
          "text": [
            "25\n",
            "0000000025\n",
            "+000000025\n",
            "175.50\n",
            "0000175.50\n",
            "이름 : Alice, 나이 : 25세\n"
          ]
        }
      ]
    },
    {
      "cell_type": "markdown",
      "source": [
        "## 서식 문자"
      ],
      "metadata": {
        "id": "aAsDwVk027Z1"
      }
    },
    {
      "cell_type": "markdown",
      "source": [
        "서식 지정자에서는 %s, %d, %f 등의 서식 문자를 사용하여 출력할 값의 데이터 타입을 지정할 수 있습니다. 이 서식 문자를 사용하여 문자열, 숫자, 소수점 등을 출력할 수 있습니다. 서식 문자는 f-string, format 메소드 등에서도 활용할 수 있습니다. (%s는 기본값이라 생략됨)\n",
        "\n",
        "%d와 %f를 사용할 때는 정수형 변수와 실수형 변수를 출력할 수 있으며, %s는 문자열 변수를 출력합니다. 이때 %s를 사용할 경우, 변수의 데이터 타입과 상관없이 모든 값을 출력할 수 있습니다."
      ],
      "metadata": {
        "id": "Rk8xmil13AUh"
      }
    },
    {
      "cell_type": "code",
      "source": [
        "name = \"Alice\"\n",
        "age = 25\n",
        "height = 175.5\n",
        "\n",
        "# formatted_str = \"이름 : {}, 나이 : {}세\".format(name, age)\n",
        "# formatted_str2 = \"이름 : {name}, 나이 : {age}세\". format(name, age)\n",
        "formatted_str2 = \"이름 : %s, 나이 : %d세\" %(name, age)\n",
        "print(formatted_str2)\n",
        "\n",
        "# a = \"{}\".format(age)\n",
        "a = \"%d\" %age\n",
        "print(a)\n",
        "# b = \"{:010d}\".format(age)\n",
        "b = \"%010d\" % age\n",
        "print(b)\n",
        "# c = \"{:+010d}\".format(age)\n",
        "c = \"%+010d\" % age\n",
        "print(c)\n",
        "# d = \"{:.2f}\".format(height)\n",
        "d = \"%.2f\" % height\n",
        "print(d)\n",
        "# e = \"{:010.2f}\".format(height)\n",
        "e = \"%010.2f\" % height\n",
        "print(e)\n"
      ],
      "metadata": {
        "colab": {
          "base_uri": "https://localhost:8080/"
        },
        "id": "a7HrNqpa2WHX",
        "outputId": "4661efb5-d18b-4557-92b5-8329758c420a"
      },
      "execution_count": 39,
      "outputs": [
        {
          "output_type": "stream",
          "name": "stdout",
          "text": [
            "이름 : Alice, 나이 : 25세\n",
            "25\n",
            "0000000025\n",
            "+000000025\n",
            "175.50\n",
            "0000175.50\n"
          ]
        }
      ]
    },
    {
      "cell_type": "code",
      "source": [
        "# %s : 문자열을 출력할 때 사용합니다.\n",
        "name = \"Alice\"\n",
        "formatted_name = \"이름  : %s\" % name\n",
        "print(formatted_name)\n",
        "print(f\"이름 : {name}\")"
      ],
      "metadata": {
        "colab": {
          "base_uri": "https://localhost:8080/"
        },
        "id": "7bsisdod0Fgv",
        "outputId": "bc2d989b-bec6-457c-ff15-a0ae64d15a0e"
      },
      "execution_count": 40,
      "outputs": [
        {
          "output_type": "stream",
          "name": "stdout",
          "text": [
            "이름  : Alice\n",
            "이름 : Alice\n"
          ]
        }
      ]
    },
    {
      "cell_type": "code",
      "source": [
        "# %d : 10진수 정수를 출력할 때 사용합니다.\n",
        "age = 25\n",
        "formatted_age = \"나이 : %d세\" % age\n",
        "print(formatted_age)\n",
        "print(f\"나이 : {age}세\")"
      ],
      "metadata": {
        "colab": {
          "base_uri": "https://localhost:8080/"
        },
        "id": "_szPQML_3Q5G",
        "outputId": "5555bcd0-a2a0-4a6e-adda-27d9e52305e7"
      },
      "execution_count": 42,
      "outputs": [
        {
          "output_type": "stream",
          "name": "stdout",
          "text": [
            "나이 : 25세\n",
            "나이 : 25세\n"
          ]
        }
      ]
    },
    {
      "cell_type": "code",
      "source": [
        "# %f : 실수를 출력할 때 사용합니다. 기본적으로 소수점 이하 6자리까지 출력됩니다.\n",
        "height = 175.5\n",
        "formatted_height = \"키 : %fcm\" % height # %f는 기본값이 6f\n",
        "print(formatted_height)\n",
        "print(f\"키 : {height: .6f}cm\")\n"
      ],
      "metadata": {
        "colab": {
          "base_uri": "https://localhost:8080/"
        },
        "id": "4uUnI1DK3UXF",
        "outputId": "d3f617a1-00a5-428d-a904-8e17733bb67b"
      },
      "execution_count": 43,
      "outputs": [
        {
          "output_type": "stream",
          "name": "stdout",
          "text": [
            "키 : 175.500000cm\n",
            "키 :  175.500000cm\n"
          ]
        }
      ]
    },
    {
      "cell_type": "markdown",
      "source": [
        "서식 문자를 사용하여 출력할 값의 자리수를 지정할 수도 있습니다. 자리수를 지정하면 해당 자리수만큼 출력되며, 값의 길이가 자리수보다 작으면 빈 칸이 채워집니다."
      ],
      "metadata": {
        "id": "VrTFs87K3ZbS"
      }
    },
    {
      "cell_type": "code",
      "source": [
        "# %[너비]d : [너비] 자리에 출력할 숫자의 자리수를 지정합니다.\n",
        "num = 123\n",
        "a = \"%d\" %num\n",
        "b = \"%5d\" % num\n",
        "c = \"%010d\" % num\n",
        "d = \"%-5d\" % num\n",
        "e = \"%+5d\" % num\n",
        "print(a)\n",
        "print(b)\n",
        "print(c)\n",
        "print(d)\n",
        "print(e)\n",
        "print(f\"{num}\")"
      ],
      "metadata": {
        "colab": {
          "base_uri": "https://localhost:8080/"
        },
        "id": "VzvSd8n23Xyj",
        "outputId": "67d05fb4-25cf-41b6-dd87-d85d79505729"
      },
      "execution_count": 46,
      "outputs": [
        {
          "output_type": "stream",
          "name": "stdout",
          "text": [
            "123\n",
            "  123\n",
            "0000000123\n",
            "123  \n",
            " +123\n",
            "123\n"
          ]
        }
      ]
    },
    {
      "cell_type": "code",
      "source": [
        "# %[너비].[정밀도]f : [너비] 자리에 출력할 숫자의 자리수를, [정밀도] 자리에 출력할 소수점 이하 자리수를 지정합니다.\n",
        "pi = 3.1415926535\n",
        "\n",
        "a = \"%f\" % pi\n",
        "a = \"%.2f\" %pi\n",
        "b = \"%10.2f\" % pi\n",
        "c = \"%010.2f\" % pi\n",
        "d = \"%-10.2f\" % pi\n",
        "e = \"%+10.2f\" % pi\n",
        "print(a)\n",
        "print(b)\n",
        "print(c)\n",
        "print(d)\n",
        "print(e)\n",
        "print(f\"{pi}\")"
      ],
      "metadata": {
        "colab": {
          "base_uri": "https://localhost:8080/"
        },
        "id": "aZL70I7S3ceb",
        "outputId": "6c294752-41aa-40d1-fca8-398bacc1bc0c"
      },
      "execution_count": 54,
      "outputs": [
        {
          "output_type": "stream",
          "name": "stdout",
          "text": [
            "3.14\n",
            "      3.14\n",
            "0000003.14\n",
            "3.14      \n",
            "     +3.14\n",
            "3.1415926535\n"
          ]
        }
      ]
    },
    {
      "cell_type": "code",
      "source": [
        "# %[너비].[정밀도]f : [너비] 자리에 출력할 숫자의 자리수를, [정밀도] 자리에 출력할 소수점 이하 자리수를 지정합니다.\n",
        "pi = 3.1415926535\n",
        "\n",
        "a = \"%f\" % pi\n",
        "b = \"%.2f\" % pi\n",
        "c = \"%10.2f\" % pi\n",
        "d = \"%010.2f\" % pi\n",
        "e = \"%-10.2f\" % pi\n",
        "f = \"%+10.2f\" % pi\n",
        "\n",
        "print(a)\n",
        "print(b)\n",
        "print(c)\n",
        "print(d)\n",
        "print(e)\n",
        "print(f)"
      ],
      "metadata": {
        "id": "5wg4PQuA2V1m"
      },
      "execution_count": null,
      "outputs": []
    }
  ]
}