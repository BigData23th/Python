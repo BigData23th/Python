{
  "cells": [
    {
      "cell_type": "markdown",
      "metadata": {
        "colab_type": "text",
        "id": "view-in-github"
      },
      "source": [
        "<a href=\"https://colab.research.google.com/github/Myun9hyun/Python/blob/main/submission/Myun9hyun/ch02_07_%EB%B0%98%EB%B3%B5%EB%AC%B8_%EA%B3%B5%EC%9C%A0%EC%9A%A9.ipynb\" target=\"_parent\"><img src=\"https://colab.research.google.com/assets/colab-badge.svg\" alt=\"Open In Colab\"/></a>"
      ]
    },
    {
      "cell_type": "markdown",
      "metadata": {
        "id": "x6bYgpP8CaFz"
      },
      "source": [
        "# for"
      ]
    },
    {
      "cell_type": "markdown",
      "metadata": {
        "id": "TCbL3yZbCbqA"
      },
      "source": [
        "## for와 range 사용하기"
      ]
    },
    {
      "cell_type": "markdown",
      "metadata": {
        "id": "BA_TucMYCgSV"
      },
      "source": [
        "파이썬의 for 반복문은 다양한 사용 방법이 있지만, 먼저 range와 함께 사용하는 방법부터 알아보겠습니다. 다음과 같이 for 반복문은 range에 반복할 횟수를 지정하고 앞에 in과 변수를 입력합니다. 그리고 끝에 :(콜론)을 붙인 뒤 다음 줄에 반복할 코드를 넣습니다.\n",
        "\n",
        "```\n",
        "for 변수 in range(횟수):\n",
        "     반복할 코드\n",
        "```\n",
        "\n",
        "for 다음 줄에 오는 코드는 반드시 들여쓰기를 해줍니다(들여쓰기 규칙은 if, elif, else와 같습니다)."
      ]
    },
    {
      "cell_type": "code",
      "execution_count": 2,
      "metadata": {
        "colab": {
          "base_uri": "https://localhost:8080/"
        },
        "id": "ERN1dWE0CZnj",
        "outputId": "713b9ee9-07c2-4af9-dbf6-0320ae8313cd"
      },
      "outputs": [
        {
          "name": "stdout",
          "output_type": "stream",
          "text": [
            "집에 가고 싶다\n"
          ]
        }
      ],
      "source": [
        "# 반복할 횟수가 정해져있을 때\n",
        "for i in range(100): # range(100) 안에 있는 원소들을 순서대로 i라는 이름으로 꺼내쓰겠습니다.\n",
        "  #0 ~ 99 \n",
        "  print(\"집에 가고 싶다\") # 루프(loop)"
      ]
    },
    {
      "cell_type": "markdown",
      "metadata": {
        "id": "u5WW-AGJC2fb"
      },
      "source": [
        "### 반복문에서 변수의 변화 알아보기"
      ]
    },
    {
      "cell_type": "code",
      "execution_count": 7,
      "metadata": {
        "colab": {
          "base_uri": "https://localhost:8080/"
        },
        "id": "gQJptDWlBG2X",
        "outputId": "4a98caa6-2dc5-4346-d838-457fa7a97a50"
      },
      "outputs": [
        {
          "name": "stdout",
          "output_type": "stream",
          "text": [
            "0 번째\n",
            "1 번째\n",
            "2 번째\n",
            "3 번째\n",
            "4 번째\n",
            "5 번째\n",
            "6 번째\n",
            "7 번째\n",
            "8 번째\n",
            "9 번째\n"
          ]
        }
      ],
      "source": [
        "for i in range(10): # range 안에 있는 원소들을 순서대로 i 라는 이름으로 받아옴 -> 순환(반복)\n",
        "  print(i, \"번째\")"
      ]
    },
    {
      "cell_type": "markdown",
      "metadata": {
        "id": "Jz4QOMg_C8mp"
      },
      "source": [
        "### 반복문의 변수 i"
      ]
    },
    {
      "cell_type": "markdown",
      "metadata": {
        "id": "EFhKW0RADAZa"
      },
      "source": [
        "변수 i를 루프 인덱스라고도 부르며 index의 첫 머리글자를 따서 i를 주로 사용합니다"
      ]
    },
    {
      "cell_type": "markdown",
      "metadata": {
        "id": "TK6ktcEbiG6P"
      },
      "source": [
        "## for와 range 응용하기"
      ]
    },
    {
      "cell_type": "markdown",
      "metadata": {
        "id": "3Qt_4ao7iK06"
      },
      "source": [
        "### 시작하는 숫자와 끝나는 숫자 지정하기"
      ]
    },
    {
      "cell_type": "markdown",
      "metadata": {
        "id": "9CKQCvvuiNP7"
      },
      "source": [
        "range에 횟수만 지정하면 숫자가 0부터 시작하지만, 다음과 같이 시작하는 숫자와 끝나는 숫자를 지정해서 반복할 수도 있습니다.\n",
        "\n",
        "* `for 변수 in range(시작, 끝):`"
      ]
    },
    {
      "cell_type": "code",
      "execution_count": 10,
      "metadata": {
        "colab": {
          "base_uri": "https://localhost:8080/"
        },
        "id": "YT1zMOFFiQoz",
        "outputId": "42675270-de8c-45e6-8a34-03cf5da35727"
      },
      "outputs": [
        {
          "name": "stdout",
          "output_type": "stream",
          "text": [
            "Hello, world! 5\n",
            "Hello, world! 6\n",
            "Hello, world! 7\n",
            "Hello, world! 8\n",
            "Hello, world! 9\n",
            "Hello, world! 10\n",
            "Hello, world! 11\n"
          ]
        }
      ],
      "source": [
        "for i in range(5, 12):\n",
        "  print(\"Hello, world!\", i) # 원소의 갯수만큼 반복됨 "
      ]
    },
    {
      "cell_type": "markdown",
      "metadata": {
        "id": "OolJZuG7iYvx"
      },
      "source": [
        "### 증가폭 사용하기"
      ]
    },
    {
      "cell_type": "markdown",
      "metadata": {
        "id": "Xiyoijusic9R"
      },
      "source": [
        "range는 증가폭을 지정해서 해당 값만큼 숫자를 증가시킬 수 있죠? 이번에는 0부터 9까지의 숫자 중에서 짝수만 출력해보겠습니다.\n",
        "\n",
        "* `for 변수 in range(시작, 끝, 증가폭):`"
      ]
    },
    {
      "cell_type": "code",
      "execution_count": 11,
      "metadata": {
        "colab": {
          "base_uri": "https://localhost:8080/"
        },
        "id": "nUMmstHBiSjN",
        "outputId": "a58a9163-526a-481c-c5fe-59712baab929"
      },
      "outputs": [
        {
          "name": "stdout",
          "output_type": "stream",
          "text": [
            "Hello, world! 0\n",
            "Hello, world! 2\n",
            "Hello, world! 4\n",
            "Hello, world! 6\n",
            "Hello, world! 8\n"
          ]
        }
      ],
      "source": [
        "for i in range(0, 10, 2):\n",
        "  print(\"Hello, world!\", i) # 원소의 갯수만큼 반복됨 "
      ]
    },
    {
      "cell_type": "markdown",
      "metadata": {
        "id": "nkNtL8tlijlY"
      },
      "source": [
        "### 숫자를 감소시키기"
      ]
    },
    {
      "cell_type": "code",
      "execution_count": 14,
      "metadata": {
        "id": "p46sR_neiguE"
      },
      "outputs": [],
      "source": [
        "for i in range(10, 0):\n",
        "  print(i)"
      ]
    },
    {
      "cell_type": "markdown",
      "metadata": {
        "id": "hF7edthnir6Z"
      },
      "source": [
        "range(10, 0)과 같이 시작하는 숫자를 큰 숫자로 지정하고 끝나는 숫자를 작은 숫자로 지정하면 숫자가 감소할 것 같은데, 실행을 해보면 아무것도 출력되지 않습니다. 왜냐하면 range는 숫자가 증가하는 기본 값이 양수 1이기 때문입니다."
      ]
    },
    {
      "cell_type": "code",
      "execution_count": 16,
      "metadata": {
        "colab": {
          "base_uri": "https://localhost:8080/"
        },
        "id": "VqTy_-YyiqAb",
        "outputId": "39e23819-6044-487c-f73d-eee79baabcbc"
      },
      "outputs": [
        {
          "name": "stdout",
          "output_type": "stream",
          "text": [
            "Hello, world! 10\n",
            "Hello, world! 9\n",
            "Hello, world! 8\n",
            "Hello, world! 7\n",
            "Hello, world! 6\n",
            "Hello, world! 5\n",
            "Hello, world! 4\n",
            "Hello, world! 3\n",
            "Hello, world! 2\n",
            "Hello, world! 1\n"
          ]
        }
      ],
      "source": [
        "for i in range(10, 0, -1):\n",
        "  print(\"Hello, world!\", i) # 원소의 갯수만큼 반복됨 "
      ]
    },
    {
      "cell_type": "markdown",
      "metadata": {
        "id": "bJEoZKpdi1Fl"
      },
      "source": [
        "증가폭을 음수로 지정하는 방법 말고도 reversed를 사용하면 숫자의 순서를 반대로 뒤집을 수 있습니다.\n",
        "\n",
        "* `for 변수 in reversed(range(횟수))`\n",
        "* `for 변수 in reversed(range(시작, 끝))`\n",
        "* `for 변수 in reversed(range(시작, 끝, 증가폭))`"
      ]
    },
    {
      "cell_type": "code",
      "execution_count": 18,
      "metadata": {
        "colab": {
          "base_uri": "https://localhost:8080/"
        },
        "id": "oqNZappoi0ox",
        "outputId": "ed3845c6-f803-4fba-f205-3ce9de724004"
      },
      "outputs": [
        {
          "name": "stdout",
          "output_type": "stream",
          "text": [
            "Hello, world! 9\n",
            "Hello, world! 8\n",
            "Hello, world! 7\n",
            "Hello, world! 6\n",
            "Hello, world! 5\n",
            "Hello, world! 4\n",
            "Hello, world! 3\n",
            "Hello, world! 2\n",
            "Hello, world! 1\n",
            "Hello, world! 0\n"
          ]
        }
      ],
      "source": [
        "for i in reversed(range(0, 10, 1)):\n",
        "  print(\"Hello, world!\", i)"
      ]
    },
    {
      "cell_type": "code",
      "execution_count": 20,
      "metadata": {
        "colab": {
          "base_uri": "https://localhost:8080/"
        },
        "id": "IDqjlzdniuTL",
        "outputId": "353c51ae-1bd5-4fbd-c7bb-d067cacfabb1"
      },
      "outputs": [
        {
          "name": "stdout",
          "output_type": "stream",
          "text": [
            "Hello, world! 9\n",
            "Hello, world! 8\n",
            "Hello, world! 7\n",
            "Hello, world! 6\n",
            "Hello, world! 5\n",
            "Hello, world! 4\n",
            "Hello, world! 3\n",
            "Hello, world! 2\n",
            "Hello, world! 1\n",
            "Hello, world! 0\n"
          ]
        }
      ],
      "source": [
        "# 슬라이싱으로 뒤집기\n",
        "for i in range(0,10)[::-1]:\n",
        "  print(\"Hello, world!\", i)"
      ]
    },
    {
      "cell_type": "markdown",
      "metadata": {
        "id": "Vq2nfjezkVKR"
      },
      "source": [
        "### 반복문의 변수 i를 변경할 수 있을까?"
      ]
    },
    {
      "cell_type": "code",
      "execution_count": 26,
      "metadata": {
        "colab": {
          "base_uri": "https://localhost:8080/"
        },
        "id": "iixT5JSPkWDl",
        "outputId": "510153e4-ec00-41b2-b87a-a8f79772058b"
      },
      "outputs": [
        {
          "name": "stdout",
          "output_type": "stream",
          "text": [
            "시작 0 끝 100 시작 1 끝 100 시작 2 끝 100 시작 3 끝 100 시작 4 끝 100 시작 5 끝 100 시작 6 끝 100 시작 7 끝 100 시작 8 끝 100 시작 9 끝 100 "
          ]
        }
      ],
      "source": [
        "# 다음과 같이 for와 range로 반복하면서 변수 i를 변경하면 어떻게 될까요?\n",
        "for i in range(0, 10):\n",
        "  print(\"시작\", i, end=' ')\n",
        "  i = 100\n",
        "  print(\"끝\", i, end=' ')"
      ]
    },
    {
      "cell_type": "markdown",
      "metadata": {
        "id": "qS40a9qNkfGD"
      },
      "source": [
        "### 입력한 횟수대로 반복하기"
      ]
    },
    {
      "cell_type": "code",
      "execution_count": 29,
      "metadata": {
        "colab": {
          "base_uri": "https://localhost:8080/"
        },
        "id": "QHw5Os1HkaAD",
        "outputId": "dbbdf11a-fea7-4d84-aa68-a09e846062c0"
      },
      "outputs": [
        {
          "name": "stdout",
          "output_type": "stream",
          "text": [
            "[0, 0, 0, 0, 0, 0, 0, 0, 0, 0]\n",
            "0\n",
            "1\n",
            "2\n",
            "3\n",
            "4\n",
            "5\n",
            "6\n",
            "7\n",
            "8\n",
            "9\n"
          ]
        },
        {
          "data": {
            "text/plain": [
              "[0, 1, 4, 9, 16, 25, 36, 49, 64, 81]"
            ]
          },
          "execution_count": 29,
          "metadata": {},
          "output_type": "execute_result"
        }
      ],
      "source": [
        "a = [0] * 10\n",
        "print(a)\n",
        "for i in range(0, 10):\n",
        "  print(i)\n",
        "  a [i] = i ** 2\n",
        "a"
      ]
    },
    {
      "cell_type": "markdown",
      "metadata": {
        "id": "gxQa3T0UlKHf"
      },
      "source": [
        "## 시퀀스 객체로 반복하기"
      ]
    },
    {
      "cell_type": "markdown",
      "metadata": {
        "id": "e3KcyjpYlMUq"
      },
      "source": [
        "지금까지 for에 range를 사용하면서 눈치챘겠지만, for에 range 대신 시퀀스 객체를 넣어도 될 것 같죠? 맞습니다. for는 리스트, 튜플, 문자열 등 시퀀스 객체로 반복할 수 있습니다.\n",
        "\n",
        "for에 range 대신 리스트를 넣으면 리스트의 요소를 꺼내면서 반복합니다."
      ]
    },
    {
      "cell_type": "code",
      "execution_count": 36,
      "metadata": {
        "colab": {
          "base_uri": "https://localhost:8080/"
        },
        "id": "eVA1Q9iHkg_z",
        "outputId": "cb3eb794-3394-4fe9-fa95-63eddf639190"
      },
      "outputs": [
        {
          "name": "stdout",
          "output_type": "stream",
          "text": [
            "반복하고 싶은 횟수를 입력하세요 : 1\n",
            "1 번째 반복\n"
          ]
        }
      ],
      "source": [
        "count = int(input(\"반복하고 싶은 횟수를 입력하세요 : \"))\n",
        "\n",
        "\n",
        "for i in range(count): # range 매개변수에 들어가는 인자들은 integer(int)\n",
        "  print(i + 1, \"번째 반복\")\n"
      ]
    },
    {
      "cell_type": "code",
      "execution_count": null,
      "metadata": {
        "id": "EaJdx8xuOkCw"
      },
      "outputs": [],
      "source": [
        "#@title 제목\n",
        "#@markdown [네이버](https://naver.com)\n",
        "# count = int(input(\"반복하고 싶은 횟수를 입력하세요 : \"))\n",
        "count = 100 #@param{\"type \":\"slider\"}\n",
        "\n",
        "for i in range(count): # range 매개변수에 들어가는 인자들은 integer(int)\n",
        "  print(i + 1, \"번째 반복\")\n"
      ]
    },
    {
      "cell_type": "code",
      "execution_count": null,
      "metadata": {
        "id": "1DIBP0UOPCS4"
      },
      "outputs": [],
      "source": [
        "#@title Example form fields\n",
        "#@markdown Forms support many types of fields.\n",
        "\n",
        "no_type_checking = ''  #@param\n",
        "string_type = 'example'  #@param {type: \"string\"}\n",
        "slider_value = 100  #@param {type: \"slider\", min: 100, max: 200}\n",
        "number = 102  #@param {type: \"number\"}\n",
        "date = '2010-11-05'  #@param {type: \"date\"}\n",
        "pick_me = \"tuesday\"  #@param ['monday', 'tuesday', 'wednesday', 'thursday']\n",
        "select_or_input = \"apples\" #@param [\"apples\", \"bananas\", \"oranges\"] {allow-input: true}\n",
        "#@markdown ---\n"
      ]
    },
    {
      "cell_type": "code",
      "execution_count": 37,
      "metadata": {
        "colab": {
          "base_uri": "https://localhost:8080/"
        },
        "id": "j0Of7lwrPkbR",
        "outputId": "e1e50707-7206-444b-8dd5-2df64da6cb08"
      },
      "outputs": [
        {
          "name": "stdout",
          "output_type": "stream",
          "text": [
            "10\n",
            "15\n",
            "25\n",
            "40\n",
            "65\n"
          ]
        }
      ],
      "source": [
        "a = [10, 15, 25, 40, 65]\n",
        "for i in a: # (in a) : a 라는 시퀀스 객체의 안에 있는 원소들을 i라는 이름의 변수로 사용하겠다, len(a)번 반복하겠다.\n",
        "  print(i)"
      ]
    },
    {
      "cell_type": "code",
      "execution_count": 38,
      "metadata": {
        "colab": {
          "base_uri": "https://localhost:8080/"
        },
        "id": "IX77x3nRlQU1",
        "outputId": "4c9434a7-cfc5-4e5b-8774-7aad39cc7d6f"
      },
      "outputs": [
        {
          "name": "stdout",
          "output_type": "stream",
          "text": [
            "apple\n",
            "orange\n",
            "grape\n"
          ]
        }
      ],
      "source": [
        "# 물론 튜플도 마찬가지로 튜플의 요소를 꺼내면서 반복합니다\n",
        "t = [\"apple\", \"orange\", \"grape\"]\n",
        "for fruit in t: # t라는 시퀀스 객체 튜플 안에 원소를 fruit라는 이름의 변수로 사용하여 len(t)번 반복하겠다.\n",
        "  print(fruit)"
      ]
    },
    {
      "cell_type": "markdown",
      "metadata": {
        "id": "oasjBhR-lXtD"
      },
      "source": [
        "참고로 여기서는 for 반복문의 변수를 i 대신 fruit로 사용했습니다. for에서 변수 i는 다른 이름으로 만들어도 상관없습니다."
      ]
    },
    {
      "cell_type": "code",
      "execution_count": 40,
      "metadata": {
        "colab": {
          "base_uri": "https://localhost:8080/"
        },
        "id": "I1HszRFzlU99",
        "outputId": "55e3b8f8-2dd0-448a-b516-8a1a349714a9"
      },
      "outputs": [
        {
          "name": "stdout",
          "output_type": "stream",
          "text": [
            "h o l l y   m o l l y "
          ]
        }
      ],
      "source": [
        "# 문자열도 시퀀스 객체라고 했죠? for에 문자열을 지정하면 문자를 하나씩 꺼내면서 반복합니다.\n",
        "s = \"holly molly\"\n",
        "for c in s: # s 문자열 안에 있는 원소(문자)를 character라는 변수 이름으로 순서대로 가져오겠다\n",
        "  print(c, end=' ')"
      ]
    },
    {
      "cell_type": "markdown",
      "metadata": {
        "id": "JfzgRa6Jlhte"
      },
      "source": [
        "문자열 'Python'의 문자가 하나씩 분리되어 출력되었습니다. 여기서는 print에 end=' '을 지정했으므로 줄바꿈이 되지 않고, 각 문자가 공백으로 띄워져서 출력됩니다.\n",
        "\n",
        "그럼 문자열 'Python'을 뒤집어서 문자를 출력할 수는 없을까요? 이때는 앞에서 배운 reversed를 활용하면 됩니다.\n",
        "\n",
        "* `reversed(시퀀스객체)`"
      ]
    },
    {
      "cell_type": "code",
      "execution_count": 41,
      "metadata": {
        "colab": {
          "base_uri": "https://localhost:8080/"
        },
        "id": "UhTEddj2lcBj",
        "outputId": "69b4ac63-3406-42e8-8c6f-f604dc0cfc07"
      },
      "outputs": [
        {
          "name": "stdout",
          "output_type": "stream",
          "text": [
            "y l l o m   y l l o h "
          ]
        }
      ],
      "source": [
        "for c in reversed(s):\n",
        "  print(c, end=' ')"
      ]
    },
    {
      "cell_type": "code",
      "execution_count": 44,
      "metadata": {
        "colab": {
          "base_uri": "https://localhost:8080/"
        },
        "id": "Q60rziNUlldU",
        "outputId": "c16ce745-f90d-4856-e061-b4cb31b445ab"
      },
      "outputs": [
        {
          "name": "stdout",
          "output_type": "stream",
          "text": [
            "y l l o m   y l l o h "
          ]
        }
      ],
      "source": [
        "for c in s[::-1]:\n",
        "  print(c, end=' ')"
      ]
    },
    {
      "cell_type": "code",
      "execution_count": 46,
      "metadata": {
        "colab": {
          "base_uri": "https://localhost:8080/"
        },
        "id": "_1bMTTBURJ2x",
        "outputId": "3cf718af-5bb2-4136-87ce-1e03e1a3decc"
      },
      "outputs": [
        {
          "data": {
            "text/plain": [
              "[10, 15, 25, 40, 65]"
            ]
          },
          "execution_count": 46,
          "metadata": {},
          "output_type": "execute_result"
        }
      ],
      "source": [
        "a"
      ]
    },
    {
      "cell_type": "code",
      "execution_count": 48,
      "metadata": {
        "colab": {
          "base_uri": "https://localhost:8080/"
        },
        "id": "0QdTsvtHRMJc",
        "outputId": "f56a8715-9866-4af6-8aba-f046215e90dd"
      },
      "outputs": [
        {
          "name": "stdout",
          "output_type": "stream",
          "text": [
            "10\n",
            "15\n",
            "25\n",
            "40\n",
            "65\n"
          ]
        }
      ],
      "source": [
        "for i in a:\n",
        "  print(i)"
      ]
    },
    {
      "cell_type": "code",
      "execution_count": 50,
      "metadata": {
        "colab": {
          "base_uri": "https://localhost:8080/"
        },
        "id": "SayiWOYHRQb1",
        "outputId": "c5970611-e1e4-4cbd-8136-df74ffc4f85a"
      },
      "outputs": [
        {
          "name": "stdout",
          "output_type": "stream",
          "text": [
            "0\n",
            "1\n",
            "2\n",
            "3\n",
            "4\n"
          ]
        }
      ],
      "source": [
        "for i in range(len(a)):\n",
        "  print(i)"
      ]
    },
    {
      "cell_type": "code",
      "execution_count": 54,
      "metadata": {
        "colab": {
          "base_uri": "https://localhost:8080/"
        },
        "id": "PzR_reTZRXno",
        "outputId": "ea6d1e0f-d437-49a9-cd00-ecc906ee8297"
      },
      "outputs": [
        {
          "name": "stdout",
          "output_type": "stream",
          "text": [
            "(0, 10)\n",
            "(1, 15)\n",
            "(2, 25)\n",
            "(3, 40)\n",
            "(4, 65)\n"
          ]
        }
      ],
      "source": [
        "for i in enumerate(a): # 값 -> enumerate => index, value 튜플\n",
        "  print(i)"
      ]
    },
    {
      "cell_type": "code",
      "execution_count": 63,
      "metadata": {
        "id": "2qtRKrnDRtYc"
      },
      "outputs": [],
      "source": [
        "from tqdm.notebook import tqdm \n",
        "from time import sleep"
      ]
    },
    {
      "cell_type": "code",
      "execution_count": 68,
      "metadata": {
        "colab": {
          "base_uri": "https://localhost:8080/",
          "height": 140,
          "referenced_widgets": [
            "d6709d4988f24c5892800d19fddfbac9",
            "573067b1288b4841880adc1bc3dc5f30",
            "3b364413b1f4464e91733101702cedbe",
            "b8750e30ec26451d95b3173172bd2ec9",
            "8bebc68f177c40d3bb9e5b0fcbb11e13",
            "01b88b44dc344aaf8e9dbd0035a79c5f",
            "b4ec0cfd7108408386c62cec35a5ca02",
            "84e7288dc1964b3987eeced4596f2177",
            "bd7a45840adb4d208e6d6237e8ad2eb7",
            "1ba436091f2e4fa3b9e6f0b79fa50c73",
            "784f185ac6104711910654f61515382d"
          ]
        },
        "id": "mIcXDwORR1tO",
        "outputId": "b0166d74-d765-4aba-a7ea-f6fe3e45dad4"
      },
      "outputs": [
        {
          "data": {
            "application/vnd.jupyter.widget-view+json": {
              "model_id": "d6709d4988f24c5892800d19fddfbac9",
              "version_major": 2,
              "version_minor": 0
            },
            "text/plain": [
              "  0%|          | 0/5 [00:00<?, ?it/s]"
            ]
          },
          "metadata": {},
          "output_type": "display_data"
        },
        {
          "name": "stdout",
          "output_type": "stream",
          "text": [
            "(0, 10)\n",
            "(1, 15)\n",
            "(2, 25)\n",
            "(3, 40)\n",
            "(4, 65)\n"
          ]
        }
      ],
      "source": [
        "for i in enumerate(tqdm(a)):\n",
        "  sleep(1)\n",
        "  print(i)"
      ]
    },
    {
      "cell_type": "code",
      "execution_count": 65,
      "metadata": {
        "colab": {
          "base_uri": "https://localhost:8080/",
          "height": 140,
          "referenced_widgets": [
            "056c5b9ad96c4a88ba5e6f3bb0f5c23b",
            "be74bc9388904e16b86e1da17881076e",
            "aad5e4113e524efb8e10d3a9e03a53ad",
            "0479784eb3bd416a9ea29601b3945722",
            "eeefb5228a974c71a1669cb805644223",
            "c9c1fb50ecc04c819b5d620965f3bff1",
            "a1e4350d36114d42a7025f2552b70d9d",
            "1a54f3302f52448a8561b73bfe48d514",
            "0449d6f2f1c249d39effa5c683fb41d8",
            "79f1fe5ddb404233b63ed3177e94e073",
            "145225ecfe2844ff9d3a8d162f2d6f13"
          ]
        },
        "id": "jTlAFQxfR9Zw",
        "outputId": "e3cddad1-c65b-420d-f4da-00315b6ede02"
      },
      "outputs": [
        {
          "data": {
            "application/vnd.jupyter.widget-view+json": {
              "model_id": "056c5b9ad96c4a88ba5e6f3bb0f5c23b",
              "version_major": 2,
              "version_minor": 0
            },
            "text/plain": [
              "  0%|          | 0/5 [00:00<?, ?it/s]"
            ]
          },
          "metadata": {},
          "output_type": "display_data"
        },
        {
          "name": "stdout",
          "output_type": "stream",
          "text": [
            "(0, 10)\n",
            "(1, 15)\n",
            "(2, 25)\n",
            "(3, 40)\n",
            "(4, 65)\n"
          ]
        }
      ],
      "source": [
        "for i in enumerate(tqdm(a)):\n",
        "  print(i)"
      ]
    },
    {
      "cell_type": "markdown",
      "metadata": {
        "id": "z8LI6wzipb6P"
      },
      "source": [
        "# while"
      ]
    },
    {
      "cell_type": "markdown",
      "metadata": {
        "id": "tpwpcdMMlr3J"
      },
      "source": [
        "## while 반복문 사용하기"
      ]
    },
    {
      "cell_type": "markdown",
      "metadata": {
        "id": "yrGuZLpBmg7e"
      },
      "source": [
        "while 반복문은 조건식으로만 동작하며 반복할 코드 안에 조건식에 영향을 주는 변화식이 들어갑니다."
      ]
    },
    {
      "cell_type": "code",
      "execution_count": 69,
      "metadata": {
        "colab": {
          "base_uri": "https://localhost:8080/"
        },
        "id": "ZgmqBvp0lzue",
        "outputId": "39a5bdf4-7f27-4486-fab8-35a35de69913"
      },
      "outputs": [
        {
          "name": "stdout",
          "output_type": "stream",
          "text": [
            "1000 만큼 남았습니다.\n",
            "900 만큼 남았습니다.\n",
            "800 만큼 남았습니다.\n",
            "700 만큼 남았습니다.\n",
            "600 만큼 남았습니다.\n",
            "500 만큼 남았습니다.\n",
            "400 만큼 남았습니다.\n",
            "300 만큼 남았습니다.\n",
            "200 만큼 남았습니다.\n",
            "100 만큼 남았습니다.\n",
            "다 줬습니다\n"
          ]
        }
      ],
      "source": [
        "money = 1000 # 초기식\n",
        "# 거스름돈을 100원씩 거슬러줘야\n",
        "while money  > 0 :\n",
        "  print(money, \"만큼 남았습니다.\") # 반복할 코드\n",
        "  money -= 100 # 변화식 \n",
        "print(\"다 줬습니다\")"
      ]
    },
    {
      "cell_type": "markdown",
      "metadata": {
        "id": "8MAfHHwXmmoE"
      },
      "source": [
        "while 반복문의 실행 과정입니다. 먼저 초기식부터 시작하여 조건식을 판별합니다. 이때 조건식이 참(True)이면 반복할 코드와 변화식을 함께 수행합니다. 그리고 다시 조건식을 판별하여 참(True)이면 코드를 계속 반복하고, 거짓(False)이면 반복문을 끝낸 뒤 다음 코드를 실행합니다.\n",
        "\n",
        "여기서는 조건식 → 반복할 코드 및 변화식 → 조건식으로 순환하는 부분이 루프(loop)입니다."
      ]
    },
    {
      "cell_type": "markdown",
      "metadata": {
        "id": "1ZyUhVgWmqvd"
      },
      "source": [
        "### while 반복문 사용하기"
      ]
    },
    {
      "cell_type": "markdown",
      "metadata": {
        "id": "mSOdqaJJmtQq"
      },
      "source": [
        "다음과 같이 while 반복문은 조건식을 지정하고 끝에 :(콜론)을 붙인 뒤 다음 줄에 반복할 코드와 변화식을 넣습니다. 초기식은 특별한 것이 없고 보통 변수에 값을 저장하는 코드입니다.\n",
        "\n",
        "```\n",
        "초기식\n",
        "while 조건식:\n",
        "     반복할 코드\n",
        "     변화식\n",
        "```\n",
        "\n",
        "while 다음 줄에 오는 코드는 반드시 들여쓰기를 해줍니다."
      ]
    },
    {
      "cell_type": "code",
      "execution_count": 74,
      "metadata": {
        "colab": {
          "base_uri": "https://localhost:8080/"
        },
        "id": "0apM7-7-mpqC",
        "outputId": "bc521598-060f-4297-ba22-b278f3023ab6"
      },
      "outputs": [
        {
          "name": "stdout",
          "output_type": "stream",
          "text": [
            "Hello, world! 1\n",
            "Hello, world! 2\n",
            "Hello, world! 3\n",
            "Hello, world! 4\n",
            "Hello, world! 5\n",
            "Hello, world! 6\n",
            "Hello, world! 7\n",
            "Hello, world! 8\n",
            "Hello, world! 9\n",
            "Hello, world! 10\n",
            "반복 종료!\n"
          ]
        }
      ],
      "source": [
        "# 이제 while 반복문으로 'Hello, world!'를 100번 출력해보겠습니다.\n",
        "i = 0\n",
        "while i < 10:\n",
        "  print(\"Hello, world!\", i + 1)\n",
        "  i += 1\n",
        "print(\"반복 종료!\")"
      ]
    },
    {
      "cell_type": "markdown",
      "metadata": {
        "id": "ZrUdX9Cym6Ih"
      },
      "source": [
        "먼저 while 반복문에 사용할 변수 i에 0을 할당합니다. 그리고 while에는 조건식만 지정하면 됩니다. 특히 while 반복문은 반복할 코드 안에 변화식을 지정해야 합니다. 만약 조건식만 지정하고 변화식을 생략하면 반복이 끝나지 않고 계속 실행(무한 루프)되므로 주의해야 합니다."
      ]
    },
    {
      "cell_type": "markdown",
      "metadata": {
        "id": "d_ni0bxzm8Wt"
      },
      "source": [
        "i < 100과 같이 조건식을 지정하여 i가 100 미만일 때만 반복하고, i가 100이 되면 반복을 끝내도록 만들었습니다. 그리고 반복할 코드의 변화식에는 i += 1로 i를 1씩 증가시켰으므로 i가 0부터 99까지 증가하면서 100번 반복하게 됩니다. 물론 변화식 i += 1을 풀어서 i = i + 1로 만들어도 동작은 같습니다.\n",
        "\n"
      ]
    },
    {
      "cell_type": "markdown",
      "metadata": {
        "id": "dlmY-ZkTm_MT"
      },
      "source": [
        "### 초깃값을 1부터 시작하기"
      ]
    },
    {
      "cell_type": "code",
      "execution_count": 75,
      "metadata": {
        "colab": {
          "base_uri": "https://localhost:8080/"
        },
        "id": "tEAw7W5lm3NU",
        "outputId": "6be5e180-5d85-4d5f-a8d2-775ee91ef52b"
      },
      "outputs": [
        {
          "name": "stdout",
          "output_type": "stream",
          "text": [
            "Hello, world! 1\n",
            "Hello, world! 2\n",
            "Hello, world! 3\n",
            "Hello, world! 4\n",
            "Hello, world! 5\n",
            "Hello, world! 6\n",
            "Hello, world! 7\n",
            "Hello, world! 8\n",
            "Hello, world! 9\n",
            "Hello, world! 10\n",
            "반복 종료!\n"
          ]
        }
      ],
      "source": [
        "# 이번에는 i에 0이 아닌 1을 할당하여 'Hello, world!'를 100번 출력해보겠습니다.\n",
        "i = 1 # 초기식\n",
        "while i <= 10: # while 조건식\n",
        "  print(\"Hello, world!\", i)  # 반복 코드\n",
        "  i += 1 # i에 1을 더해줌.\n",
        "print(\"반복 종료!\") # i 가 10이 되어 반복 종료"
      ]
    },
    {
      "cell_type": "markdown",
      "metadata": {
        "id": "LUswgP6KnG8g"
      },
      "source": [
        "i에 1을 넣었으므로 while의 조건식은 i <= 100과 같이 지정합니다. 따라서 i가 1부터 100까지 증가하므로 100번 반복하게 됩니다. 만약 i가 101이 되면 i <= 100은 거짓( False)이므로 반복문을 끝냅니다."
      ]
    },
    {
      "cell_type": "markdown",
      "metadata": {
        "id": "xLnGlDJFnI4g"
      },
      "source": [
        "### 초깃값을 감소시키기"
      ]
    },
    {
      "cell_type": "markdown",
      "metadata": {
        "id": "hUEOy6KenKnR"
      },
      "source": [
        "지금까지 초깃값을 증가시키면서 루프를 실행했습니다. 반대로 초깃값을 크게 주고, 변수를 감소시키면서 반복할 수도 있습니다. 다음은 100부터 1까지 100번 반복합니다.\n",
        "\n"
      ]
    },
    {
      "cell_type": "code",
      "execution_count": 77,
      "metadata": {
        "colab": {
          "base_uri": "https://localhost:8080/"
        },
        "id": "xtt2vrMqnE2k",
        "outputId": "ee75b0e2-487b-47cd-9061-426578028ec6"
      },
      "outputs": [
        {
          "name": "stdout",
          "output_type": "stream",
          "text": [
            "hello world 10\n",
            "hello world 9\n",
            "hello world 8\n",
            "hello world 7\n",
            "hello world 6\n",
            "hello world 5\n",
            "hello world 4\n",
            "hello world 3\n",
            "hello world 2\n",
            "hello world 1\n",
            "반복 종료!\n"
          ]
        }
      ],
      "source": [
        "i = 10\n",
        "\n",
        "while i > 0:\n",
        "  print(\"hello world\", i)\n",
        "  i -= 1\n",
        "print(\"반복 종료!\")"
      ]
    },
    {
      "cell_type": "markdown",
      "metadata": {
        "id": "LFYwJBX_nPHD"
      },
      "source": [
        "100부터 1까지 반복해야 하므로 먼저 i에 100을 할당합니다. 그다음에 while의 조건식은 i > 0과 같이 지정하여 1까지만 반복하도록 만듭니다. 또한, 변화식을 i -= 1로 지정하여 변수의 값을 감소시킵니다. 이렇게 하면 i가 100부터 1까지 감소하면서 반복합니다. 만약 i가 0이되면 i > 0은 거짓(False)이므로 반복문을 끝냅니다.\n",
        "\n"
      ]
    },
    {
      "cell_type": "markdown",
      "metadata": {
        "id": "HEeHC_tWnQil"
      },
      "source": [
        "### 입력한 횟수대로 반복하기"
      ]
    },
    {
      "cell_type": "code",
      "execution_count": 90,
      "metadata": {
        "colab": {
          "base_uri": "https://localhost:8080/"
        },
        "id": "NuOe8ixfnNcs",
        "outputId": "591992b5-0456-47fc-f33b-b3c6e2ec6bd0"
      },
      "outputs": [
        {
          "name": "stdout",
          "output_type": "stream",
          "text": [
            "반복할 횟수를 입력하세요 : 1\n",
            "Hello, World! 0\n",
            "반복 종료!\n"
          ]
        }
      ],
      "source": [
        "count = int(input(\"반복할 횟수를 입력하세요 : \"))\n",
        "i = 0\n",
        "while i < count:\n",
        "  print(\"Hello, World!\", i)\n",
        "  i += 1\n",
        "print(\"반복 종료!\")"
      ]
    },
    {
      "cell_type": "code",
      "execution_count": 91,
      "metadata": {
        "colab": {
          "base_uri": "https://localhost:8080/"
        },
        "id": "IfM8BCbjnStj",
        "outputId": "81c8b6f2-6755-4f3f-d5a5-b2ca5fbf58fb"
      },
      "outputs": [
        {
          "name": "stdout",
          "output_type": "stream",
          "text": [
            "반복할 횟수를 입력하세요 : 2\n",
            "Hello, World! 2\n",
            "Hello, World! 1\n",
            "반복 종료!\n"
          ]
        }
      ],
      "source": [
        "# 이번에는 초깃값을 받은 뒤 초깃값만큼 출력해보겠습니다.\n",
        "count = int(input(\"반복할 횟수를 입력하세요 : \"))\n",
        "\n",
        "while count > 0:\n",
        "  print(\"Hello, World!\", count)\n",
        "  count -= 1\n",
        "print(\"반복 종료!\")"
      ]
    },
    {
      "cell_type": "markdown",
      "metadata": {
        "id": "Dgfu0gEqnb4t"
      },
      "source": [
        "input으로 입력 값을 받아서 count 변수에 저장했습니다. 그리고 조건식에서 count > 0와 같이 지정하여 count에 들어있는 값만큼 반복하도록 만들었습니다. 여기서는 변수 i 대신 count를 바로 사용하므로 변화식을 count -= 1로 지정하여 반복할 때마다 count를 감소시키고 count가 0이 되면 반복문을 끝냅니다."
      ]
    },
    {
      "cell_type": "markdown",
      "metadata": {
        "id": "JvH-ceqZnkVP"
      },
      "source": [
        "## 반복 횟수가 정해지지 않은 경우"
      ]
    },
    {
      "cell_type": "markdown",
      "metadata": {
        "id": "NoTuB4-KnqQ6"
      },
      "source": [
        "지금까지 조건식에서 반복 횟수를 정한 뒤 변수 i를 증가시키거나 감소시켜서 while 반복문을 사용했습니다. 하지만 while 반복문은 반복 횟수가 정해지지 않았을 때 주로 사용합니다.\n",
        "\n",
        "이번에는 난수를 생성해서 숫자에 따라 반복을 끝내 보겠습니다. 난수(random number)란 특정 주기로 반복되지 않으며 규칙 없이 무작위로 나열되는 숫자를 뜻합니다. 현실에서 쉽게 접할 수 있는 난수가 바로 주사위를 굴려서 나온 숫자입니다."
      ]
    },
    {
      "cell_type": "markdown",
      "metadata": {
        "id": "HR-svyFOntLS"
      },
      "source": [
        "파이썬에서 난수를 생성하려면 random 모듈이 필요합니다. 모듈은 다음과 같이 import 키워드를 사용하여 가져올 수 있습니다\n",
        "* `import 모듈`"
      ]
    },
    {
      "cell_type": "code",
      "execution_count": 92,
      "metadata": {
        "id": "K-idPSq3nX6k"
      },
      "outputs": [],
      "source": [
        "import random # random 모듈을 가져오기"
      ]
    },
    {
      "cell_type": "code",
      "execution_count": 95,
      "metadata": {
        "colab": {
          "base_uri": "https://localhost:8080/"
        },
        "id": "NQ6xwVTKnyIc",
        "outputId": "f0c16fe6-d5b9-41ab-b021-a12820d1fb17"
      },
      "outputs": [
        {
          "data": {
            "text/plain": [
              "0.07608302163010361"
            ]
          },
          "execution_count": 95,
          "metadata": {},
          "output_type": "execute_result"
        }
      ],
      "source": [
        "random.random()"
      ]
    },
    {
      "cell_type": "markdown",
      "metadata": {
        "id": "6_zz1i4Rn5Xl"
      },
      "source": [
        "우리는 숫자를 좀 더 알아보기 쉽도록 정수를 생성하는 random 모듈의 randint 함수를 사용해보겠습니다. 다음과 같이 randint 함수는 난수를 생성할 범위를 지정하며, 범위에 지정한 숫자도 난수에 포함됩니다.\n",
        "\n",
        "* `random.randint(a, b)`\n",
        "\n",
        "그럼 randint 함수로 주사위를 만들어보겠습니다. 보통 정육면체 주사위는 1부터 6까지 숫자가 있죠? 따라서 random.randint(1, 6)처럼 1과 6을 넣으면 1과 6 사이의 난수가 생성됩니다."
      ]
    },
    {
      "cell_type": "code",
      "execution_count": 96,
      "metadata": {
        "colab": {
          "base_uri": "https://localhost:8080/"
        },
        "id": "0-A4i7Zbnz70",
        "outputId": "0e827064-19d7-4cbf-8532-a68c7f317f5e"
      },
      "outputs": [
        {
          "data": {
            "text/plain": [
              "1"
            ]
          },
          "execution_count": 96,
          "metadata": {},
          "output_type": "execute_result"
        }
      ],
      "source": [
        "random.randint(1, 6)"
      ]
    },
    {
      "cell_type": "code",
      "execution_count": 103,
      "metadata": {
        "colab": {
          "base_uri": "https://localhost:8080/"
        },
        "id": "xUPpAz69n820",
        "outputId": "cb726fc4-3e3d-4c4f-9645-d7051c543667"
      },
      "outputs": [
        {
          "name": "stdout",
          "output_type": "stream",
          "text": [
            "4\n",
            "2\n",
            "5\n",
            "3\n"
          ]
        }
      ],
      "source": [
        "# 1과 6 사이의 난수를 생성한 뒤 3이 나오면 반복을 끝냅니다. 그냥 3이 나올 때까지 주사위를 계속 던지는 행동과 같습니다.\n",
        "import random\n",
        "i = random.randint\n",
        "\n",
        "while i != 3: # 3이 아니라면 아래 반복문을 계속 반복\n",
        "  i = random.randint(1, 6)\n",
        "  print(i)"
      ]
    },
    {
      "cell_type": "code",
      "execution_count": 132,
      "metadata": {
        "colab": {
          "base_uri": "https://localhost:8080/"
        },
        "id": "Rs_GlRi-aIdd",
        "outputId": "9a15d1fb-5845-4448-9bbf-f3355917ee5f"
      },
      "outputs": [
        {
          "name": "stdout",
          "output_type": "stream",
          "text": [
            "1\n",
            "2\n",
            "6\n",
            "6\n",
            "6\n",
            "1\n",
            "6\n",
            "주사위 6회 굴린 결과는 6\n"
          ]
        }
      ],
      "source": [
        "import random\n",
        "\n",
        "i = random.randint\n",
        "j = 0\n",
        "\n",
        "while j < 7:\n",
        "  i = random.randint(1, 6)\n",
        "  print(i)\n",
        "  j += 1\n",
        "  \n",
        "print(\"주사위 6회 굴린 결과는\")"
      ]
    },
    {
      "cell_type": "markdown",
      "metadata": {
        "id": "1jZY6105oGno"
      },
      "source": [
        "while 반복문에서 i != 3과 같이 조건식을 지정하여 3이 아닐 때 계속 반복하도록 만듭니다. 그리고 반복할 코드에서 i = random.randint(1, 6)과 같이 1과 6 사이의 난수를 생성하여 변수 i에 저장합니다.\n",
        "\n",
        "이제 이 코드를 여러 번 실행해봅니다. 실행 결과를 보면 정수가 무작위로 생성되어 실행할 때마다 반복 횟수가 달라지는 것을 볼 수 있습니다. 이처럼 while 반복문은 반복 횟수가 정해져 있지 않을 때 유용합니다."
      ]
    },
    {
      "cell_type": "markdown",
      "metadata": {
        "id": "HF0IkAlLolnQ"
      },
      "source": [
        "### random.choice"
      ]
    },
    {
      "cell_type": "markdown",
      "metadata": {
        "id": "8s5E-CXSonpm"
      },
      "source": [
        "random.choice 함수를 사용하면 시퀀스 객체에서 요소를 무작위로 선택할 수 있습니다. 다음은 1, 2, 3, 4, 5, 6이 들어있는 리스트에서 무작위로 숫자를 선택합니다.\n",
        "\n",
        "* `random.choice(시퀀스객체)`"
      ]
    },
    {
      "cell_type": "code",
      "execution_count": 111,
      "metadata": {
        "colab": {
          "base_uri": "https://localhost:8080/",
          "height": 35
        },
        "id": "c0lch7GYn_q8",
        "outputId": "f9183d18-3f96-4eaa-bfaf-eedc40d364b4"
      },
      "outputs": [
        {
          "data": {
            "application/vnd.google.colaboratory.intrinsic+json": {
              "type": "string"
            },
            "text/plain": [
              "'5'"
            ]
          },
          "execution_count": 111,
          "metadata": {},
          "output_type": "execute_result"
        }
      ],
      "source": [
        "dice = range(1, 7)\n",
        "dice = (1, 2, 3, 4, 5, 6)\n",
        "dice = [1, 2, 3, 4, 5, 6]\n",
        "dice = int(\"123456\")\n",
        "random.choice(dice)"
      ]
    },
    {
      "cell_type": "markdown",
      "metadata": {
        "id": "PnRCDs3MoznA"
      },
      "source": [
        "## while 반복문으로 무한 루프 만들기"
      ]
    },
    {
      "cell_type": "code",
      "execution_count": null,
      "metadata": {
        "id": "ggBuCa0VosJR"
      },
      "outputs": [],
      "source": [
        "while True:\n",
        "  print(\"Hello World!\")"
      ]
    },
    {
      "cell_type": "markdown",
      "metadata": {
        "id": "Wvcqb4_fo7BW"
      },
      "source": [
        "while에 조건식 대신 True를 지정하면 무한히 반복하는 무한 루프가 만들어집니다. 따라서 조건식이 항상 참(True)이므로 변화식도 필요 없습니다.\n",
        "\n",
        "이 스크립트 파일을 실행한 상태로 두면 'Hello, world!'는 끝나지 않고 계속 출력됩니다. 따라서 IDLE이나 콘솔(터미널, 명령 프롬프트)에서 Ctrl+C를 입력하여 무한 루프를 끝냅니다."
      ]
    },
    {
      "cell_type": "code",
      "execution_count": null,
      "metadata": {
        "id": "bc78dfcOo2lj"
      },
      "outputs": [],
      "source": [
        "# while에 True 대신 True로 취급하는 값을 사용해도 무한 루프로 동작합니다.\n",
        "while 1: # 0 보다 큰 수면 모두 무한루프"
      ]
    },
    {
      "cell_type": "code",
      "execution_count": null,
      "metadata": {
        "id": "N3LTMX-7o_q2"
      },
      "outputs": [],
      "source": []
    },
    {
      "cell_type": "markdown",
      "metadata": {
        "id": "9xBqmU8KpK9t"
      },
      "source": [
        "# break, continue"
      ]
    },
    {
      "cell_type": "markdown",
      "metadata": {
        "id": "HQCc_aJFpRKv"
      },
      "source": [
        "break는 for와 while 문법에서 제어흐름을 벗어나기 위해 사용합니다. 즉, 루프를 완전히 중단하죠. continue는 break와 비슷하지만 약간 다른 점이 있습니다. break는 제어흐름을 중단하고 빠져 나오지만, continue는 제어흐름(반복)을 유지한 상태에서 코드의 실행만 건너뛰는 역할을 합니다. 마치 카드 게임을 할 때 패가 안 좋으면 판을 포기하고 다음 기회를 노리는 것과 비슷합니다.\n",
        "\n",
        "* `break`: 제어흐름 중단\n",
        "* `continue`: 제어흐름 유지, 코드 실행만 건너뜀"
      ]
    },
    {
      "cell_type": "markdown",
      "metadata": {
        "id": "WTAIzstKpoyw"
      },
      "source": [
        "## break로 반복문 끝내기"
      ]
    },
    {
      "cell_type": "markdown",
      "metadata": {
        "id": "s0CqMWcFprFF"
      },
      "source": [
        " ### while에서 break로 반복문 끝내기"
      ]
    },
    {
      "cell_type": "code",
      "execution_count": 139,
      "metadata": {
        "colab": {
          "base_uri": "https://localhost:8080/"
        },
        "id": "F_rYAyVWpKUJ",
        "outputId": "dc107f13-6d15-48ed-e567-ed03cb373c2f"
      },
      "outputs": [
        {
          "name": "stdout",
          "output_type": "stream",
          "text": [
            "0\n",
            "1\n",
            "2\n",
            "3\n",
            "4\n",
            "5\n",
            "6\n",
            "7\n",
            "8\n",
            "9\n"
          ]
        }
      ],
      "source": [
        "i = 0\n",
        "while True: # 무한 루프\n",
        "  print(i)\n",
        "  i += 1\n",
        "  if i == 10:\n",
        "    break"
      ]
    },
    {
      "cell_type": "markdown",
      "metadata": {
        "id": "2Q7gyUfspwTr"
      },
      "source": [
        "먼저 while에 True를 지정하여 무한 루프를 만들고, 그 안에서 i를 1씩 증가시킵니다. 그리고 if를 사용하여 i가 100이 될 때 break를 실행합니다. 이렇게 하면 무한 루프라도 0부터 99까지만 화면에 출력합니다. 즉, 반복문 안에서 break를 실행하면 반복문은 바로 끝납니다."
      ]
    },
    {
      "cell_type": "markdown",
      "metadata": {
        "id": "UcvxgPrep2ic"
      },
      "source": [
        "## for에서 break로 반복문 끝내기"
      ]
    },
    {
      "cell_type": "code",
      "execution_count": 140,
      "metadata": {
        "colab": {
          "base_uri": "https://localhost:8080/"
        },
        "id": "8ywMPHOPptSl",
        "outputId": "08107506-c5a8-464b-d4bb-43c80b91ed55"
      },
      "outputs": [
        {
          "name": "stdout",
          "output_type": "stream",
          "text": [
            "0\n",
            "1\n",
            "2\n",
            "3\n",
            "4\n",
            "5\n",
            "6\n",
            "7\n",
            "8\n",
            "9\n",
            "10\n"
          ]
        }
      ],
      "source": [
        "for i in range(10000): # 반복을 9999번\n",
        "  print(i)\n",
        "  if i == 10:\n",
        "    break"
      ]
    },
    {
      "cell_type": "markdown",
      "metadata": {
        "id": "Ml-D-oVRp6Zw"
      },
      "source": [
        "for에 range(10000)을 지정했으므로 0부터 9999까지 반복합니다. 하지만 i가 100일 때 break를 실행하므로 0부터 100까지만 출력하고 반복문을 끝냅니다."
      ]
    },
    {
      "cell_type": "code",
      "execution_count": 141,
      "metadata": {
        "colab": {
          "base_uri": "https://localhost:8080/"
        },
        "id": "ElCh-DhYcBa6",
        "outputId": "c417cb37-cae0-4416-a8d5-36dbdffb341a"
      },
      "outputs": [
        {
          "name": "stdout",
          "output_type": "stream",
          "text": [
            "수현\n",
            "종민\n",
            "민지\n"
          ]
        }
      ],
      "source": [
        "a = [\"수현\", \"종민\", \"민지\", \"다슬\"]\n",
        "for name in a:\n",
        "  print(name)\n",
        "  if name == \"민지\":\n",
        "    break"
      ]
    },
    {
      "cell_type": "markdown",
      "metadata": {
        "id": "DSb1zCf4qG2d"
      },
      "source": [
        "## continue로 코드 실행 건너뛰기"
      ]
    },
    {
      "cell_type": "markdown",
      "metadata": {
        "id": "EumdwbusqLb5"
      },
      "source": [
        "### for에서 continue로 코드 실행 건너뛰기"
      ]
    },
    {
      "cell_type": "code",
      "execution_count": 142,
      "metadata": {
        "id": "MgEUiaSDp4Tz"
      },
      "outputs": [],
      "source": [
        "# 다음은 for로 0부터 99까지 반복하면서 홀수만 출력합니다.\n",
        "for i in range(100): # ~99 , 1씩\n",
        "  if i % 2 == 0: # 짝수\n",
        "    continue # 이후의 코드를 실행하지 않고 다음 반복으로 건너뜀"
      ]
    },
    {
      "cell_type": "code",
      "execution_count": 143,
      "metadata": {
        "colab": {
          "base_uri": "https://localhost:8080/"
        },
        "id": "qavP8AvLdNqE",
        "outputId": "b55df1eb-0b6b-426a-c33f-143cd1246437"
      },
      "outputs": [
        {
          "name": "stdout",
          "output_type": "stream",
          "text": [
            "사과는 맛있어\n",
            "사과가 아니야\n",
            "사과는 맛있어\n",
            "사과가 아니야\n"
          ]
        }
      ],
      "source": [
        "a = [\"사과\", \"배\", \"사과\", \"배\"]\n",
        "for i in a:\n",
        "  if i == \"사과\":\n",
        "    print(\"사과는 맛있어\")\n",
        "    continue\n",
        "    # if i == \"배\"\n",
        "  print(\"사과가 아니야\")"
      ]
    },
    {
      "cell_type": "markdown",
      "metadata": {
        "id": "sbdEMcztqRO7"
      },
      "source": [
        "먼저 for를 사용하여 0부터 99까지 반복합니다. 그리고 if를 사용하여 i가 짝수이면 continue를 실행합니다( i를 2로 나누었을 때 나머지가 0이면 짝수, 0이 아니면 홀수입니다). 마지막으로 print를 사용하여 i의 값을 출력합니다.\n",
        "\n",
        "이제 i가 짝수이면 continue를 실행하여 print를 건너뛰고, 홀수이면 print로 숫자를 출력합니다. 즉, 반복문 안에서 continue를 실행하면 continue 아래의 코드는 실행하지 않고 건너뛴 뒤 다음 반복을 시작합니다."
      ]
    },
    {
      "cell_type": "markdown",
      "metadata": {
        "id": "bBN9hcs7qSsx"
      },
      "source": [
        "### while 반복문에서 continue로 코드 실행 건너뛰기"
      ]
    },
    {
      "cell_type": "code",
      "execution_count": 145,
      "metadata": {
        "colab": {
          "base_uri": "https://localhost:8080/"
        },
        "id": "FI_FW46LqO9M",
        "outputId": "21b3c958-6c80-4676-d2d5-acfa77e1d469"
      },
      "outputs": [
        {
          "name": "stdout",
          "output_type": "stream",
          "text": [
            "1\n",
            "3\n",
            "5\n",
            "7\n",
            "9\n"
          ]
        }
      ],
      "source": [
        "i = 0\n",
        "while i < 10:\n",
        "  i += 1\n",
        "  if i % 2 == 0:\n",
        "    continue\n",
        "  print(i)"
      ]
    },
    {
      "cell_type": "markdown",
      "metadata": {
        "id": "9_3PIMaHqVU_"
      },
      "source": [
        "while i < 100:으로 0부터 99까지 반복하도록 만듭니다. 그리고 i를 1씩 증가시킨 뒤 if를 사용하여 i가 짝수이면 continue를 실행합니다. 마지막으로 print를 사용하여 i의 값을 출력합니다.\n",
        "\n",
        "이렇게 하면 i의 값에 따라 continue 아래에 있는 print를 건너뜁니다."
      ]
    },
    {
      "cell_type": "markdown",
      "metadata": {
        "id": "U9BwPBysqaAx"
      },
      "source": [
        "여기서는 while i < 100:과 같이 반복 횟수를 정한 뒤 continue를 사용했습니다. 만약 무한 루프에서 continue를 사용하면 홀수만 계속 출력될 뿐 반복문은 끝나지 않습니다. while에서 continue를 사용할 때는 이 부분을 주의해주세요."
      ]
    },
    {
      "cell_type": "markdown",
      "metadata": {
        "id": "xunNOTvIqaYB"
      },
      "source": [
        "### 반복문과 pass\n",
        "for, while의 반복할 코드에서 아무 일도 하지 않지만, 반복문의 형태를 유지하고 싶다면 pass를 사용하면 됩니다.\n",
        "```\n",
        "for i in range(10):    # 10번 반복\n",
        "    pass               # 아무 일도 하지 않음\n",
        "```\n",
        "```\n",
        "while True:    # 무한 루프\n",
        "    pass       # 아무 일도 하지 않음\n",
        "```"
      ]
    },
    {
      "cell_type": "markdown",
      "metadata": {
        "id": "MadGzjXfqujk"
      },
      "source": [
        "## 입력한 횟수대로 반복하기"
      ]
    },
    {
      "cell_type": "code",
      "execution_count": 147,
      "metadata": {
        "colab": {
          "base_uri": "https://localhost:8080/"
        },
        "id": "qakw2tjqqw0z",
        "outputId": "c85ab411-873b-4dfd-faf0-b37ce5189aaa"
      },
      "outputs": [
        {
          "name": "stdout",
          "output_type": "stream",
          "text": [
            "입력해주세요 : 10\n",
            "0\n",
            "1\n",
            "2\n",
            "3\n",
            "4\n",
            "5\n",
            "6\n",
            "7\n",
            "8\n",
            "9\n"
          ]
        }
      ],
      "source": [
        "x = int(input(\"입력해주세요 : \"))\n",
        "\n",
        "i = 0\n",
        "\n",
        "while True:\n",
        "  print(i)\n",
        "  i += 1\n",
        "  if i == x:\n",
        "    break\n",
        "  "
      ]
    },
    {
      "cell_type": "markdown",
      "metadata": {
        "id": "KkIK3zQyqzG1"
      },
      "source": [
        "먼저 input으로 입력 값을 받아서 count 변수에 저장했습니다(이때 반드시 int를 사용하여 input에서 나온 문자열을 정수로 변환해줍니다). 그다음에 i에는 0을 할당하고, while에 True를 지정하여 무한 루프로 만듭니다.\n",
        "\n",
        "반복문 안에서는 i의 값을 출력하고, 변화식에서는 i를 1씩 증가시킵니다. 그리고 i가 count의 값과 같으면 break를 실행합니다.\n",
        "\n",
        "여기서는 3을 입력했으므로 0부터 2까지 출력된 뒤 i의 값 3과 count의 값 3이 같으므로 반복문은 끝납니다."
      ]
    },
    {
      "cell_type": "markdown",
      "metadata": {
        "id": "XWdNjKIrq3I1"
      },
      "source": [
        "### 입력한 숫자까지 홀수 출력하기"
      ]
    },
    {
      "cell_type": "code",
      "execution_count": 159,
      "metadata": {
        "colab": {
          "base_uri": "https://localhost:8080/",
          "height": 263
        },
        "id": "9vlLPWdIq46Y",
        "outputId": "6335cdc8-75c6-4611-cbdf-431e32a22673"
      },
      "outputs": [
        {
          "name": "stdout",
          "output_type": "stream",
          "text": [
            "수를 입력하세요 : 10\n"
          ]
        },
        {
          "ename": "KeyboardInterrupt",
          "evalue": "ignored",
          "output_type": "error",
          "traceback": [
            "\u001b[0;31m---------------------------------------------------------------------------\u001b[0m",
            "\u001b[0;31mKeyboardInterrupt\u001b[0m                         Traceback (most recent call last)",
            "\u001b[0;32m<ipython-input-159-9d533cd00f48>\u001b[0m in \u001b[0;36m<module>\u001b[0;34m\u001b[0m\n\u001b[1;32m      4\u001b[0m \u001b[0;34m\u001b[0m\u001b[0m\n\u001b[1;32m      5\u001b[0m \u001b[0;32mwhile\u001b[0m \u001b[0;32mTrue\u001b[0m\u001b[0;34m:\u001b[0m\u001b[0;34m\u001b[0m\u001b[0;34m\u001b[0m\u001b[0m\n\u001b[0;32m----> 6\u001b[0;31m   \u001b[0;32mif\u001b[0m \u001b[0mx\u001b[0m \u001b[0;34m%\u001b[0m \u001b[0;36m2\u001b[0m \u001b[0;34m==\u001b[0m \u001b[0;36m1\u001b[0m\u001b[0;34m:\u001b[0m\u001b[0;34m\u001b[0m\u001b[0;34m\u001b[0m\u001b[0m\n\u001b[0m\u001b[1;32m      7\u001b[0m     \u001b[0;32mcontinue\u001b[0m\u001b[0;34m\u001b[0m\u001b[0;34m\u001b[0m\u001b[0m\n\u001b[1;32m      8\u001b[0m     \u001b[0mprint\u001b[0m\u001b[0;34m(\u001b[0m\u001b[0mx\u001b[0m\u001b[0;34m)\u001b[0m\u001b[0;34m\u001b[0m\u001b[0;34m\u001b[0m\u001b[0m\n",
            "\u001b[0;31mKeyboardInterrupt\u001b[0m: "
          ]
        }
      ],
      "source": [
        "x = int(input(\"수를 입력하세요 : \"))\n",
        "\n",
        "i = 0\n",
        "\n",
        "while True:\n",
        "  if x % 2 == 1:\n",
        "    continue\n",
        "    print(x)\n",
        "    i += 1\n",
        "    if i == x:\n",
        "      break"
      ]
    },
    {
      "cell_type": "code",
      "execution_count": 156,
      "metadata": {
        "colab": {
          "base_uri": "https://localhost:8080/"
        },
        "id": "VzTjbs57e-al",
        "outputId": "811e9a87-2588-4910-f5ea-54ee10f7b0d1"
      },
      "outputs": [
        {
          "name": "stdout",
          "output_type": "stream",
          "text": [
            "10\n",
            "1\n",
            "3\n",
            "5\n",
            "7\n",
            "9\n"
          ]
        }
      ],
      "source": [
        "count = int(input())\n",
        "\n",
        "for i in range(count + 1):\n",
        "    if i % 2 == 0: # 짝수라면\n",
        "        continue\n",
        "    print(i)"
      ]
    },
    {
      "cell_type": "markdown",
      "metadata": {
        "id": "qiPfmmDxq7qo"
      },
      "source": [
        "input으로 입력 값을 받아서 count 변수에 저장했습니다(이때 반드시 int를 사용하여 input에서 나온 문자열을 정수로 변환해줍니다). 그리고 for의 range에 count + 1을 지정하여 count에 들어있는 값만큼 반복하도록 만들었습니다. 왜냐하면 range(count)는 0부터 시작하므로 count의 값은 반복에 포함되지 않기 때문입니다. 따라서 count에 1을 더해서 count의 값도 반복에 포함되도록 만들어줍니다.\n",
        "\n",
        "반복문 안에서는 if를 사용하여 i가 짝수이면 continue를 실행합니다. 그다음에 print를 사용하여 i의 값을 출력합니다.\n",
        "\n",
        "여기서는 9를 입력했으므로 0부터 9까지 반복하면서 i가 짝수이면 print를 실행하지 않고 건너뛰며 i가 홀수이면 print를 사용하여 숫자를 출력합니다. 따라서 1 3 5 7 9가 출력됩니다."
      ]
    }
  ],
  "metadata": {
    "colab": {
      "collapsed_sections": [
        "3Qt_4ao7iK06",
        "PnRCDs3MoznA",
        "xunNOTvIqaYB"
      ],
      "include_colab_link": true,
      "provenance": []
    },
    "kernelspec": {
      "display_name": "Python 3",
      "name": "python3"
    },
    "language_info": {
      "name": "python"
    },
    "widgets": {
      "application/vnd.jupyter.widget-state+json": {
        "01b88b44dc344aaf8e9dbd0035a79c5f": {
          "model_module": "@jupyter-widgets/base",
          "model_module_version": "1.2.0",
          "model_name": "LayoutModel",
          "state": {
            "_model_module": "@jupyter-widgets/base",
            "_model_module_version": "1.2.0",
            "_model_name": "LayoutModel",
            "_view_count": null,
            "_view_module": "@jupyter-widgets/base",
            "_view_module_version": "1.2.0",
            "_view_name": "LayoutView",
            "align_content": null,
            "align_items": null,
            "align_self": null,
            "border": null,
            "bottom": null,
            "display": null,
            "flex": null,
            "flex_flow": null,
            "grid_area": null,
            "grid_auto_columns": null,
            "grid_auto_flow": null,
            "grid_auto_rows": null,
            "grid_column": null,
            "grid_gap": null,
            "grid_row": null,
            "grid_template_areas": null,
            "grid_template_columns": null,
            "grid_template_rows": null,
            "height": null,
            "justify_content": null,
            "justify_items": null,
            "left": null,
            "margin": null,
            "max_height": null,
            "max_width": null,
            "min_height": null,
            "min_width": null,
            "object_fit": null,
            "object_position": null,
            "order": null,
            "overflow": null,
            "overflow_x": null,
            "overflow_y": null,
            "padding": null,
            "right": null,
            "top": null,
            "visibility": null,
            "width": null
          }
        },
        "0449d6f2f1c249d39effa5c683fb41d8": {
          "model_module": "@jupyter-widgets/controls",
          "model_module_version": "1.5.0",
          "model_name": "ProgressStyleModel",
          "state": {
            "_model_module": "@jupyter-widgets/controls",
            "_model_module_version": "1.5.0",
            "_model_name": "ProgressStyleModel",
            "_view_count": null,
            "_view_module": "@jupyter-widgets/base",
            "_view_module_version": "1.2.0",
            "_view_name": "StyleView",
            "bar_color": null,
            "description_width": ""
          }
        },
        "0479784eb3bd416a9ea29601b3945722": {
          "model_module": "@jupyter-widgets/controls",
          "model_module_version": "1.5.0",
          "model_name": "HTMLModel",
          "state": {
            "_dom_classes": [],
            "_model_module": "@jupyter-widgets/controls",
            "_model_module_version": "1.5.0",
            "_model_name": "HTMLModel",
            "_view_count": null,
            "_view_module": "@jupyter-widgets/controls",
            "_view_module_version": "1.5.0",
            "_view_name": "HTMLView",
            "description": "",
            "description_tooltip": null,
            "layout": "IPY_MODEL_79f1fe5ddb404233b63ed3177e94e073",
            "placeholder": "​",
            "style": "IPY_MODEL_145225ecfe2844ff9d3a8d162f2d6f13",
            "value": " 5/5 [00:00&lt;00:00, 130.24it/s]"
          }
        },
        "056c5b9ad96c4a88ba5e6f3bb0f5c23b": {
          "model_module": "@jupyter-widgets/controls",
          "model_module_version": "1.5.0",
          "model_name": "HBoxModel",
          "state": {
            "_dom_classes": [],
            "_model_module": "@jupyter-widgets/controls",
            "_model_module_version": "1.5.0",
            "_model_name": "HBoxModel",
            "_view_count": null,
            "_view_module": "@jupyter-widgets/controls",
            "_view_module_version": "1.5.0",
            "_view_name": "HBoxView",
            "box_style": "",
            "children": [
              "IPY_MODEL_be74bc9388904e16b86e1da17881076e",
              "IPY_MODEL_aad5e4113e524efb8e10d3a9e03a53ad",
              "IPY_MODEL_0479784eb3bd416a9ea29601b3945722"
            ],
            "layout": "IPY_MODEL_eeefb5228a974c71a1669cb805644223"
          }
        },
        "145225ecfe2844ff9d3a8d162f2d6f13": {
          "model_module": "@jupyter-widgets/controls",
          "model_module_version": "1.5.0",
          "model_name": "DescriptionStyleModel",
          "state": {
            "_model_module": "@jupyter-widgets/controls",
            "_model_module_version": "1.5.0",
            "_model_name": "DescriptionStyleModel",
            "_view_count": null,
            "_view_module": "@jupyter-widgets/base",
            "_view_module_version": "1.2.0",
            "_view_name": "StyleView",
            "description_width": ""
          }
        },
        "1a54f3302f52448a8561b73bfe48d514": {
          "model_module": "@jupyter-widgets/base",
          "model_module_version": "1.2.0",
          "model_name": "LayoutModel",
          "state": {
            "_model_module": "@jupyter-widgets/base",
            "_model_module_version": "1.2.0",
            "_model_name": "LayoutModel",
            "_view_count": null,
            "_view_module": "@jupyter-widgets/base",
            "_view_module_version": "1.2.0",
            "_view_name": "LayoutView",
            "align_content": null,
            "align_items": null,
            "align_self": null,
            "border": null,
            "bottom": null,
            "display": null,
            "flex": null,
            "flex_flow": null,
            "grid_area": null,
            "grid_auto_columns": null,
            "grid_auto_flow": null,
            "grid_auto_rows": null,
            "grid_column": null,
            "grid_gap": null,
            "grid_row": null,
            "grid_template_areas": null,
            "grid_template_columns": null,
            "grid_template_rows": null,
            "height": null,
            "justify_content": null,
            "justify_items": null,
            "left": null,
            "margin": null,
            "max_height": null,
            "max_width": null,
            "min_height": null,
            "min_width": null,
            "object_fit": null,
            "object_position": null,
            "order": null,
            "overflow": null,
            "overflow_x": null,
            "overflow_y": null,
            "padding": null,
            "right": null,
            "top": null,
            "visibility": null,
            "width": null
          }
        },
        "1ba436091f2e4fa3b9e6f0b79fa50c73": {
          "model_module": "@jupyter-widgets/base",
          "model_module_version": "1.2.0",
          "model_name": "LayoutModel",
          "state": {
            "_model_module": "@jupyter-widgets/base",
            "_model_module_version": "1.2.0",
            "_model_name": "LayoutModel",
            "_view_count": null,
            "_view_module": "@jupyter-widgets/base",
            "_view_module_version": "1.2.0",
            "_view_name": "LayoutView",
            "align_content": null,
            "align_items": null,
            "align_self": null,
            "border": null,
            "bottom": null,
            "display": null,
            "flex": null,
            "flex_flow": null,
            "grid_area": null,
            "grid_auto_columns": null,
            "grid_auto_flow": null,
            "grid_auto_rows": null,
            "grid_column": null,
            "grid_gap": null,
            "grid_row": null,
            "grid_template_areas": null,
            "grid_template_columns": null,
            "grid_template_rows": null,
            "height": null,
            "justify_content": null,
            "justify_items": null,
            "left": null,
            "margin": null,
            "max_height": null,
            "max_width": null,
            "min_height": null,
            "min_width": null,
            "object_fit": null,
            "object_position": null,
            "order": null,
            "overflow": null,
            "overflow_x": null,
            "overflow_y": null,
            "padding": null,
            "right": null,
            "top": null,
            "visibility": null,
            "width": null
          }
        },
        "3b364413b1f4464e91733101702cedbe": {
          "model_module": "@jupyter-widgets/controls",
          "model_module_version": "1.5.0",
          "model_name": "FloatProgressModel",
          "state": {
            "_dom_classes": [],
            "_model_module": "@jupyter-widgets/controls",
            "_model_module_version": "1.5.0",
            "_model_name": "FloatProgressModel",
            "_view_count": null,
            "_view_module": "@jupyter-widgets/controls",
            "_view_module_version": "1.5.0",
            "_view_name": "ProgressView",
            "bar_style": "success",
            "description": "",
            "description_tooltip": null,
            "layout": "IPY_MODEL_84e7288dc1964b3987eeced4596f2177",
            "max": 5,
            "min": 0,
            "orientation": "horizontal",
            "style": "IPY_MODEL_bd7a45840adb4d208e6d6237e8ad2eb7",
            "value": 5
          }
        },
        "573067b1288b4841880adc1bc3dc5f30": {
          "model_module": "@jupyter-widgets/controls",
          "model_module_version": "1.5.0",
          "model_name": "HTMLModel",
          "state": {
            "_dom_classes": [],
            "_model_module": "@jupyter-widgets/controls",
            "_model_module_version": "1.5.0",
            "_model_name": "HTMLModel",
            "_view_count": null,
            "_view_module": "@jupyter-widgets/controls",
            "_view_module_version": "1.5.0",
            "_view_name": "HTMLView",
            "description": "",
            "description_tooltip": null,
            "layout": "IPY_MODEL_01b88b44dc344aaf8e9dbd0035a79c5f",
            "placeholder": "​",
            "style": "IPY_MODEL_b4ec0cfd7108408386c62cec35a5ca02",
            "value": "100%"
          }
        },
        "784f185ac6104711910654f61515382d": {
          "model_module": "@jupyter-widgets/controls",
          "model_module_version": "1.5.0",
          "model_name": "DescriptionStyleModel",
          "state": {
            "_model_module": "@jupyter-widgets/controls",
            "_model_module_version": "1.5.0",
            "_model_name": "DescriptionStyleModel",
            "_view_count": null,
            "_view_module": "@jupyter-widgets/base",
            "_view_module_version": "1.2.0",
            "_view_name": "StyleView",
            "description_width": ""
          }
        },
        "79f1fe5ddb404233b63ed3177e94e073": {
          "model_module": "@jupyter-widgets/base",
          "model_module_version": "1.2.0",
          "model_name": "LayoutModel",
          "state": {
            "_model_module": "@jupyter-widgets/base",
            "_model_module_version": "1.2.0",
            "_model_name": "LayoutModel",
            "_view_count": null,
            "_view_module": "@jupyter-widgets/base",
            "_view_module_version": "1.2.0",
            "_view_name": "LayoutView",
            "align_content": null,
            "align_items": null,
            "align_self": null,
            "border": null,
            "bottom": null,
            "display": null,
            "flex": null,
            "flex_flow": null,
            "grid_area": null,
            "grid_auto_columns": null,
            "grid_auto_flow": null,
            "grid_auto_rows": null,
            "grid_column": null,
            "grid_gap": null,
            "grid_row": null,
            "grid_template_areas": null,
            "grid_template_columns": null,
            "grid_template_rows": null,
            "height": null,
            "justify_content": null,
            "justify_items": null,
            "left": null,
            "margin": null,
            "max_height": null,
            "max_width": null,
            "min_height": null,
            "min_width": null,
            "object_fit": null,
            "object_position": null,
            "order": null,
            "overflow": null,
            "overflow_x": null,
            "overflow_y": null,
            "padding": null,
            "right": null,
            "top": null,
            "visibility": null,
            "width": null
          }
        },
        "84e7288dc1964b3987eeced4596f2177": {
          "model_module": "@jupyter-widgets/base",
          "model_module_version": "1.2.0",
          "model_name": "LayoutModel",
          "state": {
            "_model_module": "@jupyter-widgets/base",
            "_model_module_version": "1.2.0",
            "_model_name": "LayoutModel",
            "_view_count": null,
            "_view_module": "@jupyter-widgets/base",
            "_view_module_version": "1.2.0",
            "_view_name": "LayoutView",
            "align_content": null,
            "align_items": null,
            "align_self": null,
            "border": null,
            "bottom": null,
            "display": null,
            "flex": null,
            "flex_flow": null,
            "grid_area": null,
            "grid_auto_columns": null,
            "grid_auto_flow": null,
            "grid_auto_rows": null,
            "grid_column": null,
            "grid_gap": null,
            "grid_row": null,
            "grid_template_areas": null,
            "grid_template_columns": null,
            "grid_template_rows": null,
            "height": null,
            "justify_content": null,
            "justify_items": null,
            "left": null,
            "margin": null,
            "max_height": null,
            "max_width": null,
            "min_height": null,
            "min_width": null,
            "object_fit": null,
            "object_position": null,
            "order": null,
            "overflow": null,
            "overflow_x": null,
            "overflow_y": null,
            "padding": null,
            "right": null,
            "top": null,
            "visibility": null,
            "width": null
          }
        },
        "8bebc68f177c40d3bb9e5b0fcbb11e13": {
          "model_module": "@jupyter-widgets/base",
          "model_module_version": "1.2.0",
          "model_name": "LayoutModel",
          "state": {
            "_model_module": "@jupyter-widgets/base",
            "_model_module_version": "1.2.0",
            "_model_name": "LayoutModel",
            "_view_count": null,
            "_view_module": "@jupyter-widgets/base",
            "_view_module_version": "1.2.0",
            "_view_name": "LayoutView",
            "align_content": null,
            "align_items": null,
            "align_self": null,
            "border": null,
            "bottom": null,
            "display": null,
            "flex": null,
            "flex_flow": null,
            "grid_area": null,
            "grid_auto_columns": null,
            "grid_auto_flow": null,
            "grid_auto_rows": null,
            "grid_column": null,
            "grid_gap": null,
            "grid_row": null,
            "grid_template_areas": null,
            "grid_template_columns": null,
            "grid_template_rows": null,
            "height": null,
            "justify_content": null,
            "justify_items": null,
            "left": null,
            "margin": null,
            "max_height": null,
            "max_width": null,
            "min_height": null,
            "min_width": null,
            "object_fit": null,
            "object_position": null,
            "order": null,
            "overflow": null,
            "overflow_x": null,
            "overflow_y": null,
            "padding": null,
            "right": null,
            "top": null,
            "visibility": null,
            "width": null
          }
        },
        "a1e4350d36114d42a7025f2552b70d9d": {
          "model_module": "@jupyter-widgets/controls",
          "model_module_version": "1.5.0",
          "model_name": "DescriptionStyleModel",
          "state": {
            "_model_module": "@jupyter-widgets/controls",
            "_model_module_version": "1.5.0",
            "_model_name": "DescriptionStyleModel",
            "_view_count": null,
            "_view_module": "@jupyter-widgets/base",
            "_view_module_version": "1.2.0",
            "_view_name": "StyleView",
            "description_width": ""
          }
        },
        "aad5e4113e524efb8e10d3a9e03a53ad": {
          "model_module": "@jupyter-widgets/controls",
          "model_module_version": "1.5.0",
          "model_name": "FloatProgressModel",
          "state": {
            "_dom_classes": [],
            "_model_module": "@jupyter-widgets/controls",
            "_model_module_version": "1.5.0",
            "_model_name": "FloatProgressModel",
            "_view_count": null,
            "_view_module": "@jupyter-widgets/controls",
            "_view_module_version": "1.5.0",
            "_view_name": "ProgressView",
            "bar_style": "success",
            "description": "",
            "description_tooltip": null,
            "layout": "IPY_MODEL_1a54f3302f52448a8561b73bfe48d514",
            "max": 5,
            "min": 0,
            "orientation": "horizontal",
            "style": "IPY_MODEL_0449d6f2f1c249d39effa5c683fb41d8",
            "value": 5
          }
        },
        "b4ec0cfd7108408386c62cec35a5ca02": {
          "model_module": "@jupyter-widgets/controls",
          "model_module_version": "1.5.0",
          "model_name": "DescriptionStyleModel",
          "state": {
            "_model_module": "@jupyter-widgets/controls",
            "_model_module_version": "1.5.0",
            "_model_name": "DescriptionStyleModel",
            "_view_count": null,
            "_view_module": "@jupyter-widgets/base",
            "_view_module_version": "1.2.0",
            "_view_name": "StyleView",
            "description_width": ""
          }
        },
        "b8750e30ec26451d95b3173172bd2ec9": {
          "model_module": "@jupyter-widgets/controls",
          "model_module_version": "1.5.0",
          "model_name": "HTMLModel",
          "state": {
            "_dom_classes": [],
            "_model_module": "@jupyter-widgets/controls",
            "_model_module_version": "1.5.0",
            "_model_name": "HTMLModel",
            "_view_count": null,
            "_view_module": "@jupyter-widgets/controls",
            "_view_module_version": "1.5.0",
            "_view_name": "HTMLView",
            "description": "",
            "description_tooltip": null,
            "layout": "IPY_MODEL_1ba436091f2e4fa3b9e6f0b79fa50c73",
            "placeholder": "​",
            "style": "IPY_MODEL_784f185ac6104711910654f61515382d",
            "value": " 5/5 [00:05&lt;00:00,  1.01s/it]"
          }
        },
        "bd7a45840adb4d208e6d6237e8ad2eb7": {
          "model_module": "@jupyter-widgets/controls",
          "model_module_version": "1.5.0",
          "model_name": "ProgressStyleModel",
          "state": {
            "_model_module": "@jupyter-widgets/controls",
            "_model_module_version": "1.5.0",
            "_model_name": "ProgressStyleModel",
            "_view_count": null,
            "_view_module": "@jupyter-widgets/base",
            "_view_module_version": "1.2.0",
            "_view_name": "StyleView",
            "bar_color": null,
            "description_width": ""
          }
        },
        "be74bc9388904e16b86e1da17881076e": {
          "model_module": "@jupyter-widgets/controls",
          "model_module_version": "1.5.0",
          "model_name": "HTMLModel",
          "state": {
            "_dom_classes": [],
            "_model_module": "@jupyter-widgets/controls",
            "_model_module_version": "1.5.0",
            "_model_name": "HTMLModel",
            "_view_count": null,
            "_view_module": "@jupyter-widgets/controls",
            "_view_module_version": "1.5.0",
            "_view_name": "HTMLView",
            "description": "",
            "description_tooltip": null,
            "layout": "IPY_MODEL_c9c1fb50ecc04c819b5d620965f3bff1",
            "placeholder": "​",
            "style": "IPY_MODEL_a1e4350d36114d42a7025f2552b70d9d",
            "value": "100%"
          }
        },
        "c9c1fb50ecc04c819b5d620965f3bff1": {
          "model_module": "@jupyter-widgets/base",
          "model_module_version": "1.2.0",
          "model_name": "LayoutModel",
          "state": {
            "_model_module": "@jupyter-widgets/base",
            "_model_module_version": "1.2.0",
            "_model_name": "LayoutModel",
            "_view_count": null,
            "_view_module": "@jupyter-widgets/base",
            "_view_module_version": "1.2.0",
            "_view_name": "LayoutView",
            "align_content": null,
            "align_items": null,
            "align_self": null,
            "border": null,
            "bottom": null,
            "display": null,
            "flex": null,
            "flex_flow": null,
            "grid_area": null,
            "grid_auto_columns": null,
            "grid_auto_flow": null,
            "grid_auto_rows": null,
            "grid_column": null,
            "grid_gap": null,
            "grid_row": null,
            "grid_template_areas": null,
            "grid_template_columns": null,
            "grid_template_rows": null,
            "height": null,
            "justify_content": null,
            "justify_items": null,
            "left": null,
            "margin": null,
            "max_height": null,
            "max_width": null,
            "min_height": null,
            "min_width": null,
            "object_fit": null,
            "object_position": null,
            "order": null,
            "overflow": null,
            "overflow_x": null,
            "overflow_y": null,
            "padding": null,
            "right": null,
            "top": null,
            "visibility": null,
            "width": null
          }
        },
        "d6709d4988f24c5892800d19fddfbac9": {
          "model_module": "@jupyter-widgets/controls",
          "model_module_version": "1.5.0",
          "model_name": "HBoxModel",
          "state": {
            "_dom_classes": [],
            "_model_module": "@jupyter-widgets/controls",
            "_model_module_version": "1.5.0",
            "_model_name": "HBoxModel",
            "_view_count": null,
            "_view_module": "@jupyter-widgets/controls",
            "_view_module_version": "1.5.0",
            "_view_name": "HBoxView",
            "box_style": "",
            "children": [
              "IPY_MODEL_573067b1288b4841880adc1bc3dc5f30",
              "IPY_MODEL_3b364413b1f4464e91733101702cedbe",
              "IPY_MODEL_b8750e30ec26451d95b3173172bd2ec9"
            ],
            "layout": "IPY_MODEL_8bebc68f177c40d3bb9e5b0fcbb11e13"
          }
        },
        "eeefb5228a974c71a1669cb805644223": {
          "model_module": "@jupyter-widgets/base",
          "model_module_version": "1.2.0",
          "model_name": "LayoutModel",
          "state": {
            "_model_module": "@jupyter-widgets/base",
            "_model_module_version": "1.2.0",
            "_model_name": "LayoutModel",
            "_view_count": null,
            "_view_module": "@jupyter-widgets/base",
            "_view_module_version": "1.2.0",
            "_view_name": "LayoutView",
            "align_content": null,
            "align_items": null,
            "align_self": null,
            "border": null,
            "bottom": null,
            "display": null,
            "flex": null,
            "flex_flow": null,
            "grid_area": null,
            "grid_auto_columns": null,
            "grid_auto_flow": null,
            "grid_auto_rows": null,
            "grid_column": null,
            "grid_gap": null,
            "grid_row": null,
            "grid_template_areas": null,
            "grid_template_columns": null,
            "grid_template_rows": null,
            "height": null,
            "justify_content": null,
            "justify_items": null,
            "left": null,
            "margin": null,
            "max_height": null,
            "max_width": null,
            "min_height": null,
            "min_width": null,
            "object_fit": null,
            "object_position": null,
            "order": null,
            "overflow": null,
            "overflow_x": null,
            "overflow_y": null,
            "padding": null,
            "right": null,
            "top": null,
            "visibility": null,
            "width": null
          }
        }
      }
    }
  },
  "nbformat": 4,
  "nbformat_minor": 0
}
