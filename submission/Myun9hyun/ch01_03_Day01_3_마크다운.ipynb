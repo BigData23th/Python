{
  "nbformat": 4,
  "nbformat_minor": 0,
  "metadata": {
    "colab": {
      "provenance": [],
      "authorship_tag": "ABX9TyNC0TD3hBWwCur3gCIXMXQ6",
      "include_colab_link": true
    },
    "kernelspec": {
      "name": "python3",
      "display_name": "Python 3"
    },
    "language_info": {
      "name": "python"
    }
  },
  "cells": [
    {
      "cell_type": "markdown",
      "metadata": {
        "id": "view-in-github",
        "colab_type": "text"
      },
      "source": [
        "<a href=\"https://colab.research.google.com/github/Myun9hyun/Python/blob/main/submission/Myun9hyun/ch01_03_Day01_3_%EB%A7%88%ED%81%AC%EB%8B%A4%EC%9A%B4.ipynb\" target=\"_parent\"><img src=\"https://colab.research.google.com/assets/colab-badge.svg\" alt=\"Open In Colab\"/></a>"
      ]
    },
    {
      "cell_type": "code",
      "execution_count": null,
      "metadata": {
        "id": "VqqsA9B956Lo"
      },
      "outputs": [],
      "source": [
        "# 제목 (Headline)"
      ]
    },
    {
      "cell_type": "markdown",
      "source": [
        "# 제목 (Headline)\n",
        "## 2단계 제목\n",
        "### 3단계 제목\n",
        "#### 4단계 제목\n",
        "##### 5단계 제목"
      ],
      "metadata": {
        "id": "4DqA7HiH6EYn"
      }
    },
    {
      "cell_type": "markdown",
      "source": [
        "수평선\n",
        "---\n",
        "텍스트에 ---를 바로 붙이면 '#'과 같은 효과\n",
        "\n",
        "(수평선)\n",
        "\n",
        "---\n",
        "\n"
      ],
      "metadata": {
        "id": "gIcooeMX6Z72"
      }
    },
    {
      "cell_type": "markdown",
      "source": [
        "줄바꿈<br>줄바꿈"
      ],
      "metadata": {
        "id": "lQVQHc9s6wE-"
      }
    },
    {
      "cell_type": "markdown",
      "source": [
        "**굵게** \n",
        "*기울기*\n",
        "\n",
        "__굵게__\n",
        "_기울게_\n",
        "~~취소선~~\n",
        "<u>밑줄<u>\n",
        "<mark>형광펜<mark>"
      ],
      "metadata": {
        "id": "qzvLrhXn60K9"
      }
    },
    {
      "cell_type": "markdown",
      "source": [
        "> 인용문\n",
        ">>인용문 안에 인용문\n",
        ">>> 인용문 안에 인용문 안에 인용문"
      ],
      "metadata": {
        "id": "KUALs4ot7KI1"
      }
    },
    {
      "cell_type": "markdown",
      "source": [
        "순서가 없는 리스트\n",
        "* 사과\n",
        "* 배\n",
        "* 자두\n",
        "\n",
        "순서가 있는 리스트\n",
        "1. 파이썬\n",
        "2. 자바\n",
        "3. SQL\n",
        "\n",
        "순서가 있는 리스트2\n",
        "1. 파이썬\n",
        "1. 자바\n",
        "1. SQL\n",
        "\n",
        "들여쓰기\n",
        "* 사과\n",
        "  * 껍질\n",
        "    * 씨\n",
        "\n",
        "* 위\n",
        "    아래(Tab x 2 = 코드블록)\n",
        "    (코드블록 내에서는 마크다운 문법 무시)"
      ],
      "metadata": {
        "id": "vi_dJZB37UGN"
      }
    },
    {
      "cell_type": "markdown",
      "source": [
        "코드 블록\n",
        "\n",
        "한 줄 코드\n",
        "\n",
        "'print('Hello world')' - 음영 처리\n",
        "\n",
        "여러 줄 코드\n",
        "```\n",
        "print(\"hello\")\n",
        "print(\"world\")\n",
        "```"
      ],
      "metadata": {
        "id": "0yysOWxM8NdH"
      }
    },
    {
      "cell_type": "markdown",
      "source": [
        "|제목|작가|출판일|\n",
        "|-|-|-|\n",
        "|장발장|변영인|2022|\n",
        "|파이썬|김철수|2023|\n",
        "\n",
        ":의 위치에 따라 정렬 가능\n",
        "\n",
        "*왼쪽 정렬\n",
        "\n",
        "|제목|작가|출판일|\n",
        "|:-|:-|:-|\n",
        "|장발장|변영인|2022|\n",
        "|파이썬|김철수|2023|\n",
        "\n",
        "*오른쪽 정렬\n",
        "\n",
        "|제목|작가|출판일|\n",
        "|-:|-:|-:|\n",
        "|장발장|변영인|2022|\n",
        "|파이썬|김철수|2023|"
      ],
      "metadata": {
        "id": "fYB5Pj7s8OVU"
      }
    },
    {
      "cell_type": "markdown",
      "source": [
        "[네이버] (https://naver.com)\n",
        "\n",
        "*이미지\n",
        "\n",
        "![고양이] (https://icons8.com/icon/10E88keINTLW/kitty)\n",
        "\n"
      ],
      "metadata": {
        "id": "TOsajdFP8Nak"
      }
    },
    {
      "cell_type": "markdown",
      "source": [
        "- [ ] 체크박스\n",
        "- [x] 체크된 체크박스\n",
        "\n"
      ],
      "metadata": {
        "id": "N_D-P_2I7oMt"
      }
    }
  ]
}