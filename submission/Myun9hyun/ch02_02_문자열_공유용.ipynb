{
  "nbformat": 4,
  "nbformat_minor": 0,
  "metadata": {
    "colab": {
      "provenance": [],
      "toc_visible": true,
      "include_colab_link": true
    },
    "kernelspec": {
      "name": "python3",
      "display_name": "Python 3"
    },
    "language_info": {
      "name": "python"
    }
  },
  "cells": [
    {
      "cell_type": "markdown",
      "metadata": {
        "id": "view-in-github",
        "colab_type": "text"
      },
      "source": [
        "<a href=\"https://colab.research.google.com/github/Myun9hyun/Python/blob/main/submission/Myun9hyun/ch02_02_%EB%AC%B8%EC%9E%90%EC%97%B4_%EA%B3%B5%EC%9C%A0%EC%9A%A9.ipynb\" target=\"_parent\"><img src=\"https://colab.research.google.com/assets/colab-badge.svg\" alt=\"Open In Colab\"/></a>"
      ]
    },
    {
      "cell_type": "markdown",
      "source": [
        "# 문자열"
      ],
      "metadata": {
        "id": "SO7ojgWa_d34"
      }
    },
    {
      "cell_type": "markdown",
      "source": [
        "## 문자열 사용하기"
      ],
      "metadata": {
        "id": "Wq_Nv9Cf_hvx"
      }
    },
    {
      "cell_type": "code",
      "source": [
        "# 문자열 'Hello, world!'를 출력\n",
        "hello = 'hello, world'\n",
        "print(hello)\n",
        "hello"
      ],
      "metadata": {
        "colab": {
          "base_uri": "https://localhost:8080/",
          "height": 54
        },
        "id": "T__G8rT6_jH2",
        "outputId": "4ad150c5-8867-4b45-911a-83a9d91833a7"
      },
      "execution_count": 1,
      "outputs": [
        {
          "output_type": "stream",
          "name": "stdout",
          "text": [
            "hello, world\n"
          ]
        },
        {
          "output_type": "execute_result",
          "data": {
            "text/plain": [
              "'hello, world'"
            ],
            "application/vnd.google.colaboratory.intrinsic+json": {
              "type": "string"
            }
          },
          "metadata": {},
          "execution_count": 1
        }
      ]
    },
    {
      "cell_type": "code",
      "source": [
        "# 한글 문자열\n",
        "hello = '먹어도 먹어도 배가 고프다'\n",
        "print(hello)\n",
        "hello"
      ],
      "metadata": {
        "colab": {
          "base_uri": "https://localhost:8080/",
          "height": 54
        },
        "id": "VGiSFZvJ_oK4",
        "outputId": "72fe1ea2-bf51-45d2-d431-203da3a7801f"
      },
      "execution_count": 2,
      "outputs": [
        {
          "output_type": "stream",
          "name": "stdout",
          "text": [
            "먹어도 먹어도 배가 고프다\n"
          ]
        },
        {
          "output_type": "execute_result",
          "data": {
            "text/plain": [
              "'먹어도 먹어도 배가 고프다'"
            ],
            "application/vnd.google.colaboratory.intrinsic+json": {
              "type": "string"
            }
          },
          "metadata": {},
          "execution_count": 2
        }
      ]
    },
    {
      "cell_type": "code",
      "source": [
        "#  \" \"(큰따옴표)로 묶기\n",
        "hello = \"hello, world\"\n",
        "print(hello)\n",
        "hello"
      ],
      "metadata": {
        "colab": {
          "base_uri": "https://localhost:8080/",
          "height": 54
        },
        "id": "zsapMNOq_tPx",
        "outputId": "49f3df49-e125-40e3-afa2-efbc3a1949e9"
      },
      "execution_count": 3,
      "outputs": [
        {
          "output_type": "stream",
          "name": "stdout",
          "text": [
            "hello, world\n"
          ]
        },
        {
          "output_type": "execute_result",
          "data": {
            "text/plain": [
              "'hello, world'"
            ],
            "application/vnd.google.colaboratory.intrinsic+json": {
              "type": "string"
            }
          },
          "metadata": {},
          "execution_count": 3
        }
      ]
    },
    {
      "cell_type": "code",
      "source": [
        "# '''(작은따옴표 3개)로 묶거나 \"\"\"(큰따옴표 3개)로 묶기\n",
        "hello = '''hello world'''\n",
        "print(hello)\n",
        "hello2 = \"\"\"hello world\"\"\"\n",
        "print(hello2)"
      ],
      "metadata": {
        "colab": {
          "base_uri": "https://localhost:8080/"
        },
        "id": "ojKnWfsm_2K7",
        "outputId": "d2f867ca-8316-4a13-f7c3-84739ac1621e"
      },
      "execution_count": 7,
      "outputs": [
        {
          "output_type": "stream",
          "name": "stdout",
          "text": [
            "hello world\n",
            "hello world\n"
          ]
        }
      ]
    },
    {
      "cell_type": "markdown",
      "source": [
        "### 여러 줄로 된 문자열 사용하기"
      ],
      "metadata": {
        "id": "20xHUbPlAFCf"
      }
    },
    {
      "cell_type": "markdown",
      "source": [
        "* 이번에는 여러 줄로 된 문자열(multiline string)을 사용해보겠습니다. 다음과 같이 '''(작은따옴표 3개)로 시작하고 Hello, world!를 입력한 다음에 엔터 키를 누르면 다음 줄로 이동합니다. 이런 방식으로 문자열을 계속 입력하고 마지막 줄에서 '''로 닫습니다."
      ],
      "metadata": {
        "id": "zDxIhYj9AKmU"
      }
    },
    {
      "cell_type": "code",
      "source": [
        "hello = '''hello kitty\n",
        "kitty is cute\n",
        "good good\n",
        "'''\n",
        "print(hello)\n",
        "\n",
        "hello2 = \"\"\"kitty cute cute\n",
        "pretty\n",
        "good\n",
        "\"\"\"\n",
        "print(hello2)"
      ],
      "metadata": {
        "colab": {
          "base_uri": "https://localhost:8080/"
        },
        "id": "cyLICe6z_3Oe",
        "outputId": "19c8c0b6-1f7c-4974-c8ee-3ead5542637d"
      },
      "execution_count": 9,
      "outputs": [
        {
          "output_type": "stream",
          "name": "stdout",
          "text": [
            "hello kitty\n",
            "kitty is cute\n",
            "good good\n",
            "\n",
            "kitty cute cute\n",
            "pretty\n",
            "good\n",
            "\n"
          ]
        }
      ]
    },
    {
      "cell_type": "markdown",
      "source": [
        "* 이처럼 여러 줄로 된 문자열은 '''(작은따옴표 3개)로 시작하여 '''로 끝납니다. 물론 \"\"\"(큰따옴표 3개)로 시작하여 \"\"\"로 끝내도 됩니다."
      ],
      "metadata": {
        "id": "D8wvAGQcAVCX"
      }
    },
    {
      "cell_type": "markdown",
      "source": [
        "### 문자열 안에 작은따옴표나 큰따옴표 포함하기"
      ],
      "metadata": {
        "id": "MTokV0hwAZdG"
      }
    },
    {
      "cell_type": "markdown",
      "source": [
        "* 그런데 문자열을 표현할 때 작은따옴표와 큰따옴표 중 한 가지로 통일하지 않고 여러 가지 방식을 사용할까요?\n",
        "* 문자열을 사용하다 보면 문자열 안에 작은따옴표나 큰따옴표를 넣어야 할 경우가 생깁니다. 이때는 작은따옴표와 큰따옴표를 사용하는 규칙이 달라집니다."
      ],
      "metadata": {
        "id": "BIPkGcHYAc87"
      }
    },
    {
      "cell_type": "code",
      "source": [
        "# 먼저 문자열 안에 '(작은따옴표)를 넣고 싶다면 문자열을 \"(큰따옴표)로 묶어줍니다. 이렇게 하면 문자열 안에 '를 그대로 사용할 수 있습니다.\n",
        "s = \"Python isn't difficult\"\n",
        "print(s)"
      ],
      "metadata": {
        "colab": {
          "base_uri": "https://localhost:8080/"
        },
        "id": "cSCT0n5lAR9M",
        "outputId": "0359c89c-95c6-4567-a840-b228d769a384"
      },
      "execution_count": 12,
      "outputs": [
        {
          "output_type": "stream",
          "name": "stdout",
          "text": [
            "Python isn't difficult\n"
          ]
        }
      ]
    },
    {
      "cell_type": "code",
      "source": [
        "# 반대로 문자열 안에 \"(큰따옴표)를 넣고 싶다면 문자열을 '(작은따옴표)로 묶어줍니다.\n",
        "s = 'He said \"Python is easy\"'\n",
        "print(s)"
      ],
      "metadata": {
        "colab": {
          "base_uri": "https://localhost:8080/"
        },
        "id": "aavSkJD2AkVH",
        "outputId": "a0fee362-2a92-4d41-a6c8-361eb92edf9b"
      },
      "execution_count": 14,
      "outputs": [
        {
          "output_type": "stream",
          "name": "stdout",
          "text": [
            "He said \"Python is easy\"\n"
          ]
        }
      ]
    },
    {
      "cell_type": "code",
      "source": [
        "# 하지만 작은따옴표 안에 작은따옴표를 넣거나 큰따옴표 안에 큰따옴표를 넣을 수는 없습니다.\n",
        "s = 'Python isn't difficult'"
      ],
      "metadata": {
        "colab": {
          "base_uri": "https://localhost:8080/",
          "height": 136
        },
        "id": "wItvReRmAoW6",
        "outputId": "ae602e39-17f9-401f-a6d4-976e45faaf54"
      },
      "execution_count": 15,
      "outputs": [
        {
          "output_type": "error",
          "ename": "SyntaxError",
          "evalue": "ignored",
          "traceback": [
            "\u001b[0;36m  File \u001b[0;32m\"<ipython-input-15-235b0bc674bc>\"\u001b[0;36m, line \u001b[0;32m2\u001b[0m\n\u001b[0;31m    s = 'Python isn't difficult'\u001b[0m\n\u001b[0m                    ^\u001b[0m\n\u001b[0;31mSyntaxError\u001b[0m\u001b[0;31m:\u001b[0m invalid syntax\n"
          ]
        }
      ]
    },
    {
      "cell_type": "code",
      "source": [
        "s = \"He said \"Python is easy\"\""
      ],
      "metadata": {
        "colab": {
          "base_uri": "https://localhost:8080/",
          "height": 136
        },
        "id": "Y_jsdKR_ArYj",
        "outputId": "d760e815-955d-4896-8932-d28d0b2a223d"
      },
      "execution_count": 16,
      "outputs": [
        {
          "output_type": "error",
          "ename": "SyntaxError",
          "evalue": "ignored",
          "traceback": [
            "\u001b[0;36m  File \u001b[0;32m\"<ipython-input-16-bcbed830d9be>\"\u001b[0;36m, line \u001b[0;32m1\u001b[0m\n\u001b[0;31m    s = \"He said \"Python is easy\"\"\u001b[0m\n\u001b[0m                  ^\u001b[0m\n\u001b[0;31mSyntaxError\u001b[0m\u001b[0;31m:\u001b[0m invalid syntax\n"
          ]
        }
      ]
    },
    {
      "cell_type": "code",
      "source": [
        "# 하지만 여러 줄로 된 문자열은 작은따옴표 안에 작은따옴표와 큰따옴표를 둘 다 넣을 수 있습니다.\n",
        "# 또한, 큰따옴표 안에도 작은따옴표와 큰따옴표를 넣을 수 있습니다.\n",
        "single_quote = '''안녕하세요\"\n",
        "'파이썬' 입니다.\n",
        "'''\n",
        "print(single_quote)\n",
        "\n",
        "double_quote = \"\"\"안녕하세요. \" '파이썬' 입니다.\"\"\"\n",
        "\n",
        "print(double_quote)\n"
      ],
      "metadata": {
        "colab": {
          "base_uri": "https://localhost:8080/"
        },
        "id": "CerfvpW9As8Z",
        "outputId": "ea2bd4b9-fc10-4d72-def2-baf1547215cc"
      },
      "execution_count": 19,
      "outputs": [
        {
          "output_type": "stream",
          "name": "stdout",
          "text": [
            "안녕하세요\"\n",
            "'파이썬' 입니다.\n",
            "\n",
            "안녕하세요. \" '파이썬' 입니다.\n"
          ]
        }
      ]
    },
    {
      "cell_type": "markdown",
      "source": [
        "### 문자열에 따옴표를 포함하는 다른 방법"
      ],
      "metadata": {
        "id": "Kknlt6d7A2c_"
      }
    },
    {
      "cell_type": "markdown",
      "source": [
        "* 작은따옴표 안에 작은따옴표를 넣을 수는 없을까요? 방법이 있습니다. 다음과 같이 작은따옴표 앞에 \\(역슬래시)를 붙이면 됩니다."
      ],
      "metadata": {
        "id": "6o-0n8hIA4pt"
      }
    },
    {
      "cell_type": "code",
      "source": [
        "'Python isn\\'t difficult' # \\"
      ],
      "metadata": {
        "colab": {
          "base_uri": "https://localhost:8080/",
          "height": 35
        },
        "id": "tGy0jyuRA7Xv",
        "outputId": "791ed51d-c8d2-4243-a613-6f08d1a35bb1"
      },
      "execution_count": 20,
      "outputs": [
        {
          "output_type": "execute_result",
          "data": {
            "text/plain": [
              "\"Python isn't difficult\""
            ],
            "application/vnd.google.colaboratory.intrinsic+json": {
              "type": "string"
            }
          },
          "metadata": {},
          "execution_count": 20
        }
      ]
    },
    {
      "cell_type": "markdown",
      "source": [
        "* 물론 큰따옴표도 \"He said \\\"Python is easy\\\"\"처럼 큰따옴표 앞에 \\를 붙이면 됩니다.\n",
        "* 이처럼 문자열 안에 ', \" 등의 특수 문자를 포함하기 위해 앞에 \\를 붙이는 방법을 이스케이프(escape)라고 부릅니다."
      ],
      "metadata": {
        "id": "JFpb2R8OBB66"
      }
    }
  ]
}