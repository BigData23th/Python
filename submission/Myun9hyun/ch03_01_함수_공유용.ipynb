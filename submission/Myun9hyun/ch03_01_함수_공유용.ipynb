{
  "nbformat": 4,
  "nbformat_minor": 0,
  "metadata": {
    "colab": {
      "provenance": [],
      "include_colab_link": true
    },
    "kernelspec": {
      "name": "python3",
      "display_name": "Python 3"
    },
    "language_info": {
      "name": "python"
    }
  },
  "cells": [
    {
      "cell_type": "markdown",
      "metadata": {
        "id": "view-in-github",
        "colab_type": "text"
      },
      "source": [
        "<a href=\"https://colab.research.google.com/github/Myun9hyun/Python/blob/main/submission/Myun9hyun/ch03_01_%ED%95%A8%EC%88%98_%EA%B3%B5%EC%9C%A0%EC%9A%A9.ipynb\" target=\"_parent\"><img src=\"https://colab.research.google.com/assets/colab-badge.svg\" alt=\"Open In Colab\"/></a>"
      ]
    },
    {
      "cell_type": "markdown",
      "source": [
        "# 함수"
      ],
      "metadata": {
        "id": "BVxDJuR2Yly6"
      }
    },
    {
      "cell_type": "markdown",
      "source": [
        "프로그래밍을 하다 보면 들어가는 값만 바뀔 뿐 같은 코드가 계속 반복되는 경우가 많습니다. 특히 같은 코드를 반복해서 작성하면 코드도 길어지고 중간에 실수할 가능성이 높아집니다.\n",
        "\n",
        "파이썬은 함수(function)라는 기능을 제공하는데 특정 용도의 코드를 한 곳에 모아 놓은 것을 뜻합니다. 그래서 함수는 처음 한 번만 작성해 놓으면 나중에 필요할 때 계속 불러 쓸 수 있습니다. 예를 들어 지금까지 사용했던 print, input 등도 모두 파이썬에서 미리 만들어 둔 함수입니다.\n",
        "\n",
        "즉, 함수를 사용하면 이런 점이 좋습니다.\n",
        "\n",
        "* 코드의 용도를 구분할 수 있다.\n",
        "* 코드를 재사용할 수 있다.\n",
        "* 실수를 줄일 수 있다."
      ],
      "metadata": {
        "id": "bFBy5TGDYpPM"
      }
    },
    {
      "cell_type": "markdown",
      "source": [
        "## 함수 만들기"
      ],
      "metadata": {
        "id": "ppOj_leXYy_7"
      }
    },
    {
      "cell_type": "markdown",
      "source": [
        "함수는 def에 함수 이름을 지정하고 ( )(괄호)와 :(콜론)을 붙인 뒤 다음 줄에 원하는 코드를 작성합니다(함수의 이름을 짓는 방법은 변수와 같습니다). 이때 코드는 반드시 들여쓰기를 해야 합니다(들여쓰기 규칙은 if, for, while과 같습니다).\n",
        "\n",
        "```\n",
        "def 함수이름():\n",
        "     코드\n",
        "```\n",
        "\n",
        "여기서 def는 정의하다(**def**ine)에서 따온 키워드입니다."
      ],
      "metadata": {
        "id": "XoiZ-_n5Y2b-"
      }
    },
    {
      "cell_type": "code",
      "execution_count": 1,
      "metadata": {
        "id": "xDDl3ikNJviB"
      },
      "outputs": [],
      "source": [
        "def hello():\n",
        "  print(\"안녕하세요\")\n",
        "  "
      ]
    },
    {
      "cell_type": "markdown",
      "source": [
        "### 함수 호출하기"
      ],
      "metadata": {
        "id": "KsMUc54MZBFf"
      }
    },
    {
      "cell_type": "markdown",
      "source": [
        "함수를 사용하는 방법을 \"함수를 호출(call)한다\"라고 부릅니다."
      ],
      "metadata": {
        "id": "qRonxM_jZG1M"
      }
    },
    {
      "cell_type": "code",
      "source": [
        "# 함수()\n",
        "hello()"
      ],
      "metadata": {
        "colab": {
          "base_uri": "https://localhost:8080/"
        },
        "id": "xHZzQO25Y_Rz",
        "outputId": "a318744f-fafa-435f-cf18-d7d9aa996fcc"
      },
      "execution_count": 2,
      "outputs": [
        {
          "output_type": "stream",
          "name": "stdout",
          "text": [
            "안녕하세요\n"
          ]
        }
      ]
    },
    {
      "cell_type": "markdown",
      "source": [
        "### 함수 작성과 함수 호출 순서"
      ],
      "metadata": {
        "id": "yM1uDaQQZMM8"
      }
    },
    {
      "cell_type": "markdown",
      "source": [
        "함수를 만들고 호출할 때 주의할 점이 있는데, 바로 함수를 만들기 전에 함수를 먼저 호출하면 안 된다는 점입니다. 즉, 다음과 같이 함수를 먼저 호출한 뒤 함수를 만들 수는 없습니다."
      ],
      "metadata": {
        "id": "kLonkjiBZOBW"
      }
    },
    {
      "cell_type": "code",
      "source": [
        "b\n",
        "\n",
        "b = \"a\""
      ],
      "metadata": {
        "id": "E0tkgMuTZFKl"
      },
      "execution_count": 7,
      "outputs": []
    },
    {
      "cell_type": "code",
      "source": [
        "hello2()\n",
        "\n",
        "def hello2():\n",
        "  print(\"Hello World!\")\n",
        "\n",
        "# 선언을 미리 하고 나서 호출을 해야 에러가 나지 않음.\n",
        "# def aaa() -> aaa() (o) , aaa() -> def aaa(): (x)"
      ],
      "metadata": {
        "colab": {
          "base_uri": "https://localhost:8080/",
          "height": 245
        },
        "id": "5gRaVZSkWq72",
        "outputId": "7fdc408a-e01f-4a4c-da74-50f14acef21b"
      },
      "execution_count": 10,
      "outputs": [
        {
          "output_type": "error",
          "ename": "NameError",
          "evalue": "ignored",
          "traceback": [
            "\u001b[0;31m---------------------------------------------------------------------------\u001b[0m",
            "\u001b[0;31mNameError\u001b[0m                                 Traceback (most recent call last)",
            "\u001b[0;32m<ipython-input-10-9f3a65d15cef>\u001b[0m in \u001b[0;36m<module>\u001b[0;34m\u001b[0m\n\u001b[0;32m----> 1\u001b[0;31m \u001b[0mhello2\u001b[0m\u001b[0;34m(\u001b[0m\u001b[0;34m)\u001b[0m\u001b[0;34m\u001b[0m\u001b[0;34m\u001b[0m\u001b[0m\n\u001b[0m\u001b[1;32m      2\u001b[0m \u001b[0;34m\u001b[0m\u001b[0m\n\u001b[1;32m      3\u001b[0m \u001b[0;32mdef\u001b[0m \u001b[0mhello2\u001b[0m\u001b[0;34m(\u001b[0m\u001b[0;34m)\u001b[0m\u001b[0;34m:\u001b[0m\u001b[0;34m\u001b[0m\u001b[0;34m\u001b[0m\u001b[0m\n\u001b[1;32m      4\u001b[0m   \u001b[0mprint\u001b[0m\u001b[0;34m(\u001b[0m\u001b[0;34m\"Hello World!\"\u001b[0m\u001b[0;34m)\u001b[0m\u001b[0;34m\u001b[0m\u001b[0;34m\u001b[0m\u001b[0m\n\u001b[1;32m      5\u001b[0m \u001b[0;34m\u001b[0m\u001b[0m\n",
            "\u001b[0;31mNameError\u001b[0m: name 'hello2' is not defined"
          ]
        }
      ]
    },
    {
      "cell_type": "code",
      "source": [
        "def 설거지():# 상위모듈\n",
        "  그릇모으기() # 하위모듈\n",
        "  세제뿌리기()\n",
        "  헹구기()\n",
        "  말리기()\n",
        "\n",
        "def 그릇모으기():\n",
        "  pass\n",
        "def 세제뿌리기():\n",
        "  print(\"세제 뿌렸음\")\n",
        "def 헹구기():\n",
        "  pass\n",
        "def 말리기():\n",
        "  pass\n"
      ],
      "metadata": {
        "id": "hZvvQTNAXBVW"
      },
      "execution_count": 12,
      "outputs": []
    },
    {
      "cell_type": "code",
      "source": [
        "설거지()"
      ],
      "metadata": {
        "colab": {
          "base_uri": "https://localhost:8080/"
        },
        "id": "o9qsDSjEXyjQ",
        "outputId": "5fc72d45-e768-4e0d-a095-9f6fa2e77c91"
      },
      "execution_count": 13,
      "outputs": [
        {
          "output_type": "stream",
          "name": "stdout",
          "text": [
            "세제 뿌렸음\n"
          ]
        }
      ]
    },
    {
      "cell_type": "markdown",
      "source": [
        "함수를 먼저 호출하면 함수가 정의(define)되지 않았다는 에러가 발생합니다. 왜냐하면 파이썬 코드는 위에서 아래로 순차적으로 실행되기 때문입니다. 반드시 함수를 먼저 만든 뒤에 함수를 호출해야 합니다."
      ],
      "metadata": {
        "id": "a0WCaFtJZT5p"
      }
    },
    {
      "cell_type": "markdown",
      "source": [
        "### 빈 함수 만들기"
      ],
      "metadata": {
        "id": "fBYqHujdZXqy"
      }
    },
    {
      "cell_type": "code",
      "source": [
        "# 내용이 없는 빈 함수를 만들 때는 코드 부분에 pass를 넣어줍니다.\n",
        "def 설거지():# 상위모듈\n",
        "  그릇모으기() # 하위모듈\n",
        "  세제뿌리기()\n",
        "  헹구기()\n",
        "  말리기()\n",
        "\n",
        "def 그릇모으기():\n",
        "  pass\n",
        "def 세제뿌리기():\n",
        "  print(\"세제 뿌렸음\")\n",
        "def 헹구기():\n",
        "  pass\n",
        "def 말리기():\n",
        "  pass\n"
      ],
      "metadata": {
        "id": "Ing4tVWwZQWd"
      },
      "execution_count": null,
      "outputs": []
    },
    {
      "cell_type": "markdown",
      "source": [
        "나중에 다른 사람이 만든 파이썬 소스 코드를 보다 보면 pass를 자주 접할 수 있습니다.\n",
        "\n",
        "pass는 아무 일을 하지 않아도 함수의 틀을 유지할 필요가 있을 때 사용합니다."
      ],
      "metadata": {
        "id": "FAqscQPfgj8r"
      }
    },
    {
      "cell_type": "markdown",
      "source": [
        "## 매개변수 (parameter)"
      ],
      "metadata": {
        "id": "kilXJUWkZjZC"
      }
    },
    {
      "cell_type": "markdown",
      "source": [
        "함수에서 값을 받으려면 ( )(괄호) 안에 변수 이름을 지정해주면 됩니다. 특히 이 변수를 매개변수(parameter)라고 부릅니다.\n",
        "\n",
        "```\n",
        "def 함수이름(매개변수1, 매개변수2):\n",
        "    코드\n",
        "```"
      ],
      "metadata": {
        "id": "E78p95CvdR9w"
      }
    },
    {
      "cell_type": "code",
      "source": [
        "def plus(a, b):\n",
        "  print(a + b)"
      ],
      "metadata": {
        "id": "7BbamUj5dUEa"
      },
      "execution_count": 15,
      "outputs": []
    },
    {
      "cell_type": "code",
      "source": [
        "plus(14, 16)"
      ],
      "metadata": {
        "colab": {
          "base_uri": "https://localhost:8080/"
        },
        "id": "4kUmYyUbYdXR",
        "outputId": "f2ec013c-296e-465d-d041-d8dbd336e556"
      },
      "execution_count": 17,
      "outputs": [
        {
          "output_type": "stream",
          "name": "stdout",
          "text": [
            "30\n"
          ]
        }
      ]
    },
    {
      "cell_type": "code",
      "source": [
        "a, b # def 함수 내에서 정의 된 요소들이라 따로 호출되지 않음."
      ],
      "metadata": {
        "id": "lJsGNwK0YnhR"
      },
      "execution_count": null,
      "outputs": []
    },
    {
      "cell_type": "code",
      "source": [
        "a = 100\n",
        "plus(50, 20) # def내의 a와 바깥에서 정해둔 a는 다른 값임. 외부에 영향 x\n",
        "a + 50"
      ],
      "metadata": {
        "colab": {
          "base_uri": "https://localhost:8080/"
        },
        "id": "MAK9U3NGYyNW",
        "outputId": "b7df7886-9bea-4fb3-bb31-8d5dbc015c90"
      },
      "execution_count": 20,
      "outputs": [
        {
          "output_type": "stream",
          "name": "stdout",
          "text": [
            "70\n"
          ]
        },
        {
          "output_type": "execute_result",
          "data": {
            "text/plain": [
              "150"
            ]
          },
          "metadata": {},
          "execution_count": 20
        }
      ]
    },
    {
      "cell_type": "code",
      "source": [
        "def minus(a, b):\n",
        "  c = a - b\n",
        "  return c"
      ],
      "metadata": {
        "id": "c9DWzFSJZW6k"
      },
      "execution_count": 26,
      "outputs": []
    },
    {
      "cell_type": "code",
      "source": [
        "c = 40\n",
        "minus(10, 20)\n",
        "c"
      ],
      "metadata": {
        "colab": {
          "base_uri": "https://localhost:8080/"
        },
        "id": "5V3AS2OxZiAX",
        "outputId": "88046c75-ea63-45e1-9656-9cb95296809a"
      },
      "execution_count": 24,
      "outputs": [
        {
          "output_type": "execute_result",
          "data": {
            "text/plain": [
              "40"
            ]
          },
          "metadata": {},
          "execution_count": 24
        }
      ]
    },
    {
      "cell_type": "code",
      "source": [
        "c = minus(10,20)\n",
        "c"
      ],
      "metadata": {
        "colab": {
          "base_uri": "https://localhost:8080/"
        },
        "id": "O-Oc2dN7ZpVz",
        "outputId": "05c454ab-db7b-4643-9a7b-475d612648dd"
      },
      "execution_count": 27,
      "outputs": [
        {
          "output_type": "execute_result",
          "data": {
            "text/plain": [
              "-10"
            ]
          },
          "metadata": {},
          "execution_count": 27
        }
      ]
    },
    {
      "cell_type": "code",
      "source": [
        "def lotto():\n",
        "  print(f\"실행 : {45}\") # 실행은 45로 됨\n",
        "  return 30\n",
        "\n",
        "a = lotto()\n",
        "print(f\"반환 : {a}\")"
      ],
      "metadata": {
        "colab": {
          "base_uri": "https://localhost:8080/"
        },
        "id": "0tKqGWK3Zw3Y",
        "outputId": "9faa51d5-b61d-4a41-e92f-73112f10eb9e"
      },
      "execution_count": 38,
      "outputs": [
        {
          "output_type": "stream",
          "name": "stdout",
          "text": [
            "실행 : 45\n",
            "반환 : 30\n"
          ]
        }
      ]
    },
    {
      "cell_type": "markdown",
      "source": [
        "함수를 호출할 때 넣는 값을 인수(argument)라고 부릅니다."
      ],
      "metadata": {
        "id": "79ZgXKffdaIE"
      }
    },
    {
      "cell_type": "markdown",
      "source": [
        "## 함수의 결과를 반환하기"
      ],
      "metadata": {
        "id": "QXyRsdQRdfcx"
      }
    },
    {
      "cell_type": "markdown",
      "source": [
        "함수 안에서 return을 사용하면 값을 함수 바깥으로 반환합니다(return에 값을 지정하지 않으면 None을 반환).\n",
        "\n",
        "```\n",
        "def 함수이름(매개변수):\n",
        "    return 반환값\n",
        "```"
      ],
      "metadata": {
        "id": "002t4GWpdlKr"
      }
    },
    {
      "cell_type": "code",
      "source": [
        "# 반환 값은 변수에 저장하지 않고 바로 다른 함수에 넣을 수도 있습니다..\n",
        "print(lotto())\n"
      ],
      "metadata": {
        "id": "687JFw4tdZVz",
        "colab": {
          "base_uri": "https://localhost:8080/"
        },
        "outputId": "8b5337c5-b26c-4110-b948-85879c3e35b5"
      },
      "execution_count": 39,
      "outputs": [
        {
          "output_type": "stream",
          "name": "stdout",
          "text": [
            "실행 : 45\n",
            "30\n"
          ]
        }
      ]
    },
    {
      "cell_type": "code",
      "source": [
        "def concat(a, b):\n",
        "  return a + b\n",
        "\n",
        "concat(\"안녕\", \"세상\")"
      ],
      "metadata": {
        "colab": {
          "base_uri": "https://localhost:8080/",
          "height": 35
        },
        "id": "AHYJBXNHdwrC",
        "outputId": "e55d451d-4064-489b-8644-4d7d13badd69"
      },
      "execution_count": 43,
      "outputs": [
        {
          "output_type": "execute_result",
          "data": {
            "text/plain": [
              "'안녕세상'"
            ],
            "application/vnd.google.colaboratory.intrinsic+json": {
              "type": "string"
            }
          },
          "metadata": {},
          "execution_count": 43
        }
      ]
    },
    {
      "cell_type": "markdown",
      "source": [
        "return으로 반환하는 값은 반환값이라고 하며 함수를 호출해준 바깥에 결과를 알려주기 위해 사용합니다."
      ],
      "metadata": {
        "id": "Ncoqgxukd3Ox"
      }
    },
    {
      "cell_type": "code",
      "source": [
        "# 반환값은 변수에 저장하지 않고 바로 다른 함수에 넣을 수도 있습니다.\n",
        "def concat(a, b):\n",
        "  return a + b\n",
        "input(concat(\"안녕\", \"세상\"))"
      ],
      "metadata": {
        "id": "s0Fm428vd0XU",
        "colab": {
          "base_uri": "https://localhost:8080/",
          "height": 54
        },
        "outputId": "bdc08cc5-dcfc-4fe3-b5ce-428d5134551c"
      },
      "execution_count": 44,
      "outputs": [
        {
          "name": "stdout",
          "output_type": "stream",
          "text": [
            "안녕세상 안뇽?\n"
          ]
        },
        {
          "output_type": "execute_result",
          "data": {
            "text/plain": [
              "' 안뇽?'"
            ],
            "application/vnd.google.colaboratory.intrinsic+json": {
              "type": "string"
            }
          },
          "metadata": {},
          "execution_count": 44
        }
      ]
    },
    {
      "cell_type": "markdown",
      "source": [
        "### return으로 함수 중간에서 빠져나오기"
      ],
      "metadata": {
        "id": "MLqxIu1cd95p"
      }
    },
    {
      "cell_type": "code",
      "source": [
        "def concat(a, b): # 문자열을 연결하기 위해 설계\n",
        "  # 숫자가 들어오면? -> 숫자는 안됩니다.\n",
        "  if type(a) != str: \n",
        "    print(\"첫번째 인자가 문자열이 아닙니다.\")\n",
        "    return\n",
        "  if type(b) != str:\n",
        "    print(\"두번째 인자가 문자열이 아닙니다\")\n",
        "    return\n",
        "  return a + b"
      ],
      "metadata": {
        "id": "CWp0SzxVeBVc"
      },
      "execution_count": 60,
      "outputs": []
    },
    {
      "cell_type": "code",
      "source": [
        "r = concat(1, 1)\n",
        "print(f\"Return : {r}\")"
      ],
      "metadata": {
        "colab": {
          "base_uri": "https://localhost:8080/"
        },
        "id": "7KWhBYibbVb1",
        "outputId": "1b4f4b77-45d9-4d73-d576-c38847365acc"
      },
      "execution_count": 61,
      "outputs": [
        {
          "output_type": "stream",
          "name": "stdout",
          "text": [
            "첫번째 인자가 문자열이 아닙니다.\n",
            "Return : None\n"
          ]
        }
      ]
    },
    {
      "cell_type": "code",
      "source": [
        "r = concat(\"1\", 1)\n",
        "print(f\"Return : {r}\")"
      ],
      "metadata": {
        "colab": {
          "base_uri": "https://localhost:8080/"
        },
        "id": "ZLzxzyP-bwUq",
        "outputId": "462223b5-c289-4ebd-98fa-87b26f378f9c"
      },
      "execution_count": 62,
      "outputs": [
        {
          "output_type": "stream",
          "name": "stdout",
          "text": [
            "두번째 인자가 문자열이 아닙니다\n",
            "Return : None\n"
          ]
        }
      ]
    },
    {
      "cell_type": "code",
      "source": [
        "def guess(number):\n",
        "  answer = 100\n",
        "  if number == answer: \n",
        "    return \"정답\"\n",
        "  if number > answer:\n",
        "    return \"Down\"\n",
        "  if number < answer:\n",
        "    return \"Up\"\n",
        "    "
      ],
      "metadata": {
        "id": "4BX6nq6qcBrT"
      },
      "execution_count": 72,
      "outputs": []
    },
    {
      "cell_type": "code",
      "source": [
        "guess(50), guess(120), guess(100)"
      ],
      "metadata": {
        "colab": {
          "base_uri": "https://localhost:8080/"
        },
        "id": "0QQHLMZfcWE9",
        "outputId": "4a224d08-1a59-4d44-ecb0-e8f376b26960"
      },
      "execution_count": 67,
      "outputs": [
        {
          "output_type": "execute_result",
          "data": {
            "text/plain": [
              "('Up', 'Down', '정답')"
            ]
          },
          "metadata": {},
          "execution_count": 67
        }
      ]
    },
    {
      "cell_type": "code",
      "source": [
        "def guess2(number):\n",
        "  answer = 130\n",
        "  result = None\n",
        "  if number == answer: \n",
        "    return \"정답\"\n",
        "  elif number > answer:\n",
        "    return \"Down\"\n",
        "  elif number < answer:\n",
        "    return \"Up\"\n",
        "  return result"
      ],
      "metadata": {
        "id": "oIdWAFZecmnb"
      },
      "execution_count": 74,
      "outputs": []
    },
    {
      "cell_type": "code",
      "source": [
        "guess2(100)"
      ],
      "metadata": {
        "colab": {
          "base_uri": "https://localhost:8080/",
          "height": 35
        },
        "id": "F6C5qeFqc4IV",
        "outputId": "4e48000d-32bb-4125-b5af-747fd2599a51"
      },
      "execution_count": 76,
      "outputs": [
        {
          "output_type": "execute_result",
          "data": {
            "text/plain": [
              "'Up'"
            ],
            "application/vnd.google.colaboratory.intrinsic+json": {
              "type": "string"
            }
          },
          "metadata": {},
          "execution_count": 76
        }
      ]
    },
    {
      "cell_type": "code",
      "source": [
        "def not_ten(a):\n",
        "  if a == 10:\n",
        "    return\n",
        "  print(f\"{a}입니다.\")\n",
        "\n",
        "not_ten(5)\n",
        "not_ten(10)\n"
      ],
      "metadata": {
        "colab": {
          "base_uri": "https://localhost:8080/"
        },
        "id": "oNRbCAO7dlEy",
        "outputId": "b54932b2-391f-4649-e80c-ad16fabc141f"
      },
      "execution_count": 77,
      "outputs": [
        {
          "output_type": "stream",
          "name": "stdout",
          "text": [
            "5입니다.\n"
          ]
        }
      ]
    },
    {
      "cell_type": "code",
      "source": [
        "def loop(a, b, c):\n",
        "  for i in range(a, b+1):\n",
        "      print(i)\n",
        "      if i % c == 0: # i가 c의 배수일 때\n",
        "        print(f\"<<{c}의 배수를 찾았습니다.>>\")\n",
        "        return i\n",
        "  return 0"
      ],
      "metadata": {
        "id": "MKaaiJeyd5pq"
      },
      "execution_count": 88,
      "outputs": []
    },
    {
      "cell_type": "code",
      "source": [
        "loop(19, 50, 17)"
      ],
      "metadata": {
        "colab": {
          "base_uri": "https://localhost:8080/"
        },
        "id": "8ZAG3FOWeT8I",
        "outputId": "ac37b678-30cf-4123-fa74-e34557203f98"
      },
      "execution_count": 89,
      "outputs": [
        {
          "output_type": "stream",
          "name": "stdout",
          "text": [
            "19\n",
            "20\n",
            "21\n",
            "22\n",
            "23\n",
            "24\n",
            "25\n",
            "26\n",
            "27\n",
            "28\n",
            "29\n",
            "30\n",
            "31\n",
            "32\n",
            "33\n",
            "34\n",
            "<<17의 배수를 찾았습니다.>>\n"
          ]
        },
        {
          "output_type": "execute_result",
          "data": {
            "text/plain": [
              "34"
            ]
          },
          "metadata": {},
          "execution_count": 89
        }
      ]
    },
    {
      "cell_type": "markdown",
      "source": [
        "return은 함수 중간에서 빠져나올 때 자주 사용합니다. 보통은 if와 조합해서 특정 조건일 때 함수 중간에서 빠져나옵니다."
      ],
      "metadata": {
        "id": "ekWXLlQQeLd1"
      }
    },
    {
      "cell_type": "markdown",
      "source": [
        "## 함수에서 값을 여러 개 반환하기"
      ],
      "metadata": {
        "id": "dVze2R3qfTpX"
      }
    },
    {
      "cell_type": "markdown",
      "source": [
        "함수에서 값을 여러 개 반환할 때는 다음과 같이 return에 값이나 변수를 ,(콤마)로 구분해서 지정하면 됩니다.\n",
        "\n",
        "```\n",
        "def 함수이름(매개변수):\n",
        "    return 반환값1, 반환값2\n",
        "```"
      ],
      "metadata": {
        "id": "rUbkDeGIfXnS"
      }
    },
    {
      "cell_type": "code",
      "source": [
        "def my_divmod(a, b): # 몫, 나머지\n",
        "  c = a // b # 몫\n",
        "  d = a % b # 나머지\n",
        "  return c, d"
      ],
      "metadata": {
        "id": "ObAqYO7veI6x"
      },
      "execution_count": 92,
      "outputs": []
    },
    {
      "cell_type": "code",
      "source": [
        "my_divmod(100, 3)"
      ],
      "metadata": {
        "colab": {
          "base_uri": "https://localhost:8080/"
        },
        "id": "HoWluYnGichT",
        "outputId": "9beb8f31-8cba-4058-fea3-b8891fa47d1c"
      },
      "execution_count": 94,
      "outputs": [
        {
          "output_type": "execute_result",
          "data": {
            "text/plain": [
              "(33, 1)"
            ]
          },
          "metadata": {},
          "execution_count": 94
        }
      ]
    },
    {
      "cell_type": "code",
      "source": [
        "a, b = my_divmod(100, 3)\n",
        "print(a, b)"
      ],
      "metadata": {
        "colab": {
          "base_uri": "https://localhost:8080/"
        },
        "id": "UbillKe_i1QJ",
        "outputId": "3f2b2dfc-7ff5-4709-9c79-ee215a46fd02"
      },
      "execution_count": 95,
      "outputs": [
        {
          "output_type": "stream",
          "name": "stdout",
          "text": [
            "33 1\n"
          ]
        }
      ]
    },
    {
      "cell_type": "code",
      "source": [],
      "metadata": {
        "colab": {
          "base_uri": "https://localhost:8080/"
        },
        "id": "5iXQXQBYfcKX",
        "outputId": "e6d82b28-5c0b-48fc-d2c2-d30bb9869c21"
      },
      "execution_count": null,
      "outputs": [
        {
          "output_type": "execute_result",
          "data": {
            "text/plain": [
              "(30, -10)"
            ]
          },
          "metadata": {},
          "execution_count": 12
        }
      ]
    },
    {
      "cell_type": "markdown",
      "source": [
        "# 함수 심화"
      ],
      "metadata": {
        "id": "se7h4WO6gtSJ"
      }
    },
    {
      "cell_type": "markdown",
      "source": [
        "## 위치 인수와 리스트 언패킹 사용하기"
      ],
      "metadata": {
        "id": "Br_x783Qikcb"
      }
    },
    {
      "cell_type": "markdown",
      "source": [
        "함수에 인수를 순서대로 넣는 방식을 위치 인수(positional argument)라고 합니다. 즉, 인수의 위치가 정해져 있습니다."
      ],
      "metadata": {
        "id": "S4KDsEJVingi"
      }
    },
    {
      "cell_type": "code",
      "source": [
        "print(10, 20, 30)"
      ],
      "metadata": {
        "colab": {
          "base_uri": "https://localhost:8080/"
        },
        "id": "HizkrioCffxH",
        "outputId": "00dacf65-5702-459f-8361-2ae0c1496fd9"
      },
      "execution_count": 96,
      "outputs": [
        {
          "output_type": "stream",
          "name": "stdout",
          "text": [
            "10 20 30\n"
          ]
        }
      ]
    },
    {
      "cell_type": "markdown",
      "source": [
        "### 위치 인수를 사용하는 함수를 만들고 호출하기"
      ],
      "metadata": {
        "id": "wnm64LUKitz3"
      }
    },
    {
      "cell_type": "code",
      "source": [
        "print(10, 10, 10, 10, 10, 10, 10, 10, 10, 10, 10, 10, 10, 10, 10, 10, 10, 10, 10 )"
      ],
      "metadata": {
        "id": "_LVtrOSWipwt",
        "colab": {
          "base_uri": "https://localhost:8080/"
        },
        "outputId": "00547f12-83d1-420a-bb09-376df6b5b6f2"
      },
      "execution_count": 97,
      "outputs": [
        {
          "output_type": "stream",
          "name": "stdout",
          "text": [
            "10 10 10 10 10 10 10 10 10 10 10 10 10 10 10 10 10 10 10\n"
          ]
        }
      ]
    },
    {
      "cell_type": "code",
      "source": [
        "def print_numbers(a, b, c):\n",
        "  print(a)\n",
        "  print(b)\n",
        "  print(c)"
      ],
      "metadata": {
        "id": "NpYgDLcNi0bB"
      },
      "execution_count": 98,
      "outputs": []
    },
    {
      "cell_type": "code",
      "source": [
        "print_numbers(10, 20, 30)"
      ],
      "metadata": {
        "colab": {
          "base_uri": "https://localhost:8080/"
        },
        "id": "Yw-iUzmJjsDw",
        "outputId": "f8a9f41a-0079-40f8-bce2-e90f5268c58b"
      },
      "execution_count": 101,
      "outputs": [
        {
          "output_type": "stream",
          "name": "stdout",
          "text": [
            "10\n",
            "20\n",
            "30\n"
          ]
        }
      ]
    },
    {
      "cell_type": "code",
      "source": [
        "print_numbers(10, 20)\n",
        "# 매개변수가 리스트 요소의 수 보다 작거나 많으면 오류가 난다"
      ],
      "metadata": {
        "colab": {
          "base_uri": "https://localhost:8080/",
          "height": 172
        },
        "id": "QiB0ZvUOjy_D",
        "outputId": "fea4bd4b-d6bd-4f9f-c73c-6cb8ee9ed059"
      },
      "execution_count": 102,
      "outputs": [
        {
          "output_type": "error",
          "ename": "TypeError",
          "evalue": "ignored",
          "traceback": [
            "\u001b[0;31m---------------------------------------------------------------------------\u001b[0m",
            "\u001b[0;31mTypeError\u001b[0m                                 Traceback (most recent call last)",
            "\u001b[0;32m<ipython-input-102-deba51eccd11>\u001b[0m in \u001b[0;36m<module>\u001b[0;34m\u001b[0m\n\u001b[0;32m----> 1\u001b[0;31m \u001b[0mprint_numbers\u001b[0m\u001b[0;34m(\u001b[0m\u001b[0;36m10\u001b[0m\u001b[0;34m,\u001b[0m \u001b[0;36m20\u001b[0m\u001b[0;34m)\u001b[0m\u001b[0;34m\u001b[0m\u001b[0;34m\u001b[0m\u001b[0m\n\u001b[0m",
            "\u001b[0;31mTypeError\u001b[0m: print_numbers() missing 1 required positional argument: 'c'"
          ]
        }
      ]
    },
    {
      "cell_type": "markdown",
      "source": [
        "### 언패킹 사용하기"
      ],
      "metadata": {
        "id": "i49Ug1QRi-dq"
      }
    },
    {
      "cell_type": "markdown",
      "source": [
        "인수를 순서대로 넣을 때는 리스트나 튜플을 사용할 수도 있습니다. 다음과 같이 리스트 또는 튜플 앞에 *(애스터리스크)를 붙여서 함수에 넣어주면 됩니다.\n",
        "\n",
        "* `함수(*리스트)`\n",
        "* `함수(*튜플)`"
      ],
      "metadata": {
        "id": "aL8BAhAqjB9p"
      }
    },
    {
      "cell_type": "code",
      "source": [
        "x = [1 ** (1/2), 2 ** (1/2), 3 ** (1/2)]\n",
        "x"
      ],
      "metadata": {
        "colab": {
          "base_uri": "https://localhost:8080/"
        },
        "id": "6xNy8CL7i2wl",
        "outputId": "cbd941c4-0075-4bab-f6ba-be5fc652dea1"
      },
      "execution_count": 105,
      "outputs": [
        {
          "output_type": "execute_result",
          "data": {
            "text/plain": [
              "[1.0, 1.4142135623730951, 1.7320508075688772]"
            ]
          },
          "metadata": {},
          "execution_count": 105
        }
      ]
    },
    {
      "cell_type": "code",
      "source": [
        "print_numbers(x[0], x[1], x[2])"
      ],
      "metadata": {
        "colab": {
          "base_uri": "https://localhost:8080/"
        },
        "id": "5bekrE_-kS8R",
        "outputId": "620d00c6-ca09-4bd3-f089-84aed68b6856"
      },
      "execution_count": 107,
      "outputs": [
        {
          "output_type": "stream",
          "name": "stdout",
          "text": [
            "1.0\n",
            "1.4142135623730951\n",
            "1.7320508075688772\n"
          ]
        }
      ]
    },
    {
      "cell_type": "code",
      "source": [
        "print_numbers(*x)"
      ],
      "metadata": {
        "colab": {
          "base_uri": "https://localhost:8080/"
        },
        "id": "B-XdceWRkW9E",
        "outputId": "8e4e0f5b-afe6-4dc0-8e0d-67e1e2e969e3"
      },
      "execution_count": 108,
      "outputs": [
        {
          "output_type": "stream",
          "name": "stdout",
          "text": [
            "1.0\n",
            "1.4142135623730951\n",
            "1.7320508075688772\n"
          ]
        }
      ]
    },
    {
      "cell_type": "code",
      "source": [
        "# 단, 이때 함수의 매개변수 개수와 리스트의 요소 개수는 같아야 합니다.\n",
        "# 만약 개수가 다르면 함수를 호출할 수 없습니다.\n",
        "print_numbers(*[10, 20])"
      ],
      "metadata": {
        "id": "Huyu1QyEjHwU",
        "colab": {
          "base_uri": "https://localhost:8080/",
          "height": 209
        },
        "outputId": "80705b89-2c25-441f-8152-bd6218fd386c"
      },
      "execution_count": 109,
      "outputs": [
        {
          "output_type": "error",
          "ename": "TypeError",
          "evalue": "ignored",
          "traceback": [
            "\u001b[0;31m---------------------------------------------------------------------------\u001b[0m",
            "\u001b[0;31mTypeError\u001b[0m                                 Traceback (most recent call last)",
            "\u001b[0;32m<ipython-input-109-6e8641f0bfef>\u001b[0m in \u001b[0;36m<module>\u001b[0;34m\u001b[0m\n\u001b[1;32m      1\u001b[0m \u001b[0;31m# 단, 이때 함수의 매개변수 개수와 리스트의 요소 개수는 같아야 합니다.\u001b[0m\u001b[0;34m\u001b[0m\u001b[0;34m\u001b[0m\u001b[0;34m\u001b[0m\u001b[0m\n\u001b[1;32m      2\u001b[0m \u001b[0;31m# 만약 개수가 다르면 함수를 호출할 수 없습니다.\u001b[0m\u001b[0;34m\u001b[0m\u001b[0;34m\u001b[0m\u001b[0;34m\u001b[0m\u001b[0m\n\u001b[0;32m----> 3\u001b[0;31m \u001b[0mprint_numbers\u001b[0m\u001b[0;34m(\u001b[0m\u001b[0;34m*\u001b[0m\u001b[0;34m[\u001b[0m\u001b[0;36m10\u001b[0m\u001b[0;34m,\u001b[0m \u001b[0;36m20\u001b[0m\u001b[0;34m]\u001b[0m\u001b[0;34m)\u001b[0m\u001b[0;34m\u001b[0m\u001b[0;34m\u001b[0m\u001b[0m\n\u001b[0m",
            "\u001b[0;31mTypeError\u001b[0m: print_numbers() missing 1 required positional argument: 'c'"
          ]
        }
      ]
    },
    {
      "cell_type": "markdown",
      "source": [
        "### 가변 인수 함수 만들기"
      ],
      "metadata": {
        "id": "wa5pSffKmuzR"
      }
    },
    {
      "cell_type": "markdown",
      "source": [
        "그럼 위치 인수와 리스트 언패킹은 어디에 사용할까요? 이 기능들은 인수의 개수가 정해지지 않은 가변 인수(variable argument)에 사용합니다. 즉, 같은 함수에 인수 한 개를 넣을 수도 있고, 열 개를 넣을 수도 있습니다. 또는, 인수를 넣지 않을 수도 있습니다.\n",
        "\n",
        "다음과 같이 가변 인수 함수는 매개변수 앞에 *를 붙여서 만듭니다.\n",
        "\n",
        "```\n",
        "def 함수이름(*매개변수):\n",
        "    코드\n",
        "```"
      ],
      "metadata": {
        "id": "9YN1s8ktmyN0"
      }
    },
    {
      "cell_type": "code",
      "source": [
        "def print_numbers(*args):\n",
        "  if not len(args): # args가 비어있으면 True\n",
        "    print(\"매개변수를 1개 이상 넣어주세요!\")\n",
        "    return \n",
        "  if len(args) == 2: # args가 비어있으면 True\n",
        "    print(f\"연결 : {args[0] , args[1]}\")\n",
        "    return str(args[0]) + str(args[1])\n",
        "  for arg in args:\n",
        "    print(arg)\n",
        "  "
      ],
      "metadata": {
        "id": "fqMZulXymo5B"
      },
      "execution_count": 138,
      "outputs": []
    },
    {
      "cell_type": "code",
      "source": [
        "print_numbers(10, 20)"
      ],
      "metadata": {
        "colab": {
          "base_uri": "https://localhost:8080/",
          "height": 54
        },
        "id": "t3TTLS61lBTE",
        "outputId": "adf3d794-d08f-42a8-f7a8-a4ee36b94224"
      },
      "execution_count": 139,
      "outputs": [
        {
          "output_type": "stream",
          "name": "stdout",
          "text": [
            "연결 : (10, 20)\n"
          ]
        },
        {
          "output_type": "execute_result",
          "data": {
            "text/plain": [
              "'1020'"
            ],
            "application/vnd.google.colaboratory.intrinsic+json": {
              "type": "string"
            }
          },
          "metadata": {},
          "execution_count": 139
        }
      ]
    },
    {
      "cell_type": "markdown",
      "source": [
        "매개변수 이름은 원하는 대로 지어도 되지만 관례적으로 arguments를 줄여서 args로 사용합니다. 특히 이 args는 튜플이라서 for로 반복할 수 있습니다.\n",
        "\n"
      ],
      "metadata": {
        "id": "sFNxiUl1m_rK"
      }
    },
    {
      "cell_type": "code",
      "source": [
        "print_numbers(10)\n",
        "print_numbers(10, 20, 30)\n",
        "print_numbers(*list(range(0, 100, 30)))"
      ],
      "metadata": {
        "colab": {
          "base_uri": "https://localhost:8080/"
        },
        "id": "HbabXu0Vm9j_",
        "outputId": "4609daa4-57a7-4a0b-8a67-4dccb003df89"
      },
      "execution_count": 114,
      "outputs": [
        {
          "output_type": "stream",
          "name": "stdout",
          "text": [
            "10\n",
            "10\n",
            "20\n",
            "30\n",
            "0\n",
            "30\n",
            "60\n",
            "90\n"
          ]
        }
      ]
    },
    {
      "cell_type": "code",
      "source": [
        "# 이렇게 함수에 인수 여러 개를 직접 넣어도 되고, 리스트(튜플) 언패킹을 사용해도 됩니다.\n"
      ],
      "metadata": {
        "colab": {
          "base_uri": "https://localhost:8080/"
        },
        "id": "h2cjU8fHnDvH",
        "outputId": "a35cc603-926b-469b-b3c6-3fd4533c4781"
      },
      "execution_count": null,
      "outputs": [
        {
          "output_type": "stream",
          "name": "stdout",
          "text": [
            "10\n",
            "10\n",
            "20\n",
            "30\n",
            "40\n"
          ]
        }
      ]
    },
    {
      "cell_type": "markdown",
      "source": [
        "### 고정 인수와 가변 인수를 함께 사용하기"
      ],
      "metadata": {
        "id": "9309K7dBnOp5"
      }
    },
    {
      "cell_type": "markdown",
      "source": [
        "고정 인수와 가변 인수를 함께 사용할 때는 고정 매개변수를 먼저 지정하고, 그 다음 매개변수에 *를 붙여주면 됩니다."
      ],
      "metadata": {
        "id": "RRRH-UornQXQ"
      }
    },
    {
      "cell_type": "code",
      "source": [
        "def my_fun(a, *args):\n",
        "  if a == \"sum\":\n",
        "      return sum(args)\n",
        "  if a == \"avg\":\n",
        "      return float(sum(args) / len(args))\n",
        "  if a == \"count\":\n",
        "      return len(args)\n",
        "  else : \n",
        "    print(\"지원하지 않는 기능입니다.\")"
      ],
      "metadata": {
        "id": "Sjxzq9iknLKA"
      },
      "execution_count": 149,
      "outputs": []
    },
    {
      "cell_type": "code",
      "source": [
        "my_fun(\"sum\", 1, 2, 3, 4, 5, 6)"
      ],
      "metadata": {
        "colab": {
          "base_uri": "https://localhost:8080/"
        },
        "id": "PhQ_bo1PnWzB",
        "outputId": "830a3bb6-9d34-4315-c6ed-ccf0dcf419b5"
      },
      "execution_count": 144,
      "outputs": [
        {
          "output_type": "execute_result",
          "data": {
            "text/plain": [
              "21"
            ]
          },
          "metadata": {},
          "execution_count": 144
        }
      ]
    },
    {
      "cell_type": "code",
      "source": [
        "my_fun(\"avg\", 1, 2, 3, 4, 5, 6)"
      ],
      "metadata": {
        "colab": {
          "base_uri": "https://localhost:8080/"
        },
        "id": "w4G9vOnhnjHa",
        "outputId": "a6df5a2f-05be-4ecb-a561-38c679550478"
      },
      "execution_count": 150,
      "outputs": [
        {
          "output_type": "execute_result",
          "data": {
            "text/plain": [
              "3.5"
            ]
          },
          "metadata": {},
          "execution_count": 150
        }
      ]
    },
    {
      "cell_type": "code",
      "source": [],
      "metadata": {
        "id": "zDG_ptrznm7C"
      },
      "execution_count": null,
      "outputs": []
    },
    {
      "cell_type": "markdown",
      "source": [
        "단, 이때 def print_numbers(*args, a):처럼 *args가 고정 매개변수보다 앞쪽에 오면 안 됩니다. 매개변수 순서에서 *args는 반드시 가장 뒤쪽에 와야 합니다."
      ],
      "metadata": {
        "id": "ajTZFGcBnZ-M"
      }
    },
    {
      "cell_type": "markdown",
      "source": [
        "## 키워드 인수 사용하기"
      ],
      "metadata": {
        "id": "qkHyiHdKnk7r"
      }
    },
    {
      "cell_type": "markdown",
      "source": [
        "파이썬에서는 인수의 순서와 용도를 매번 기억하지 않도록 키워드 인수(keyword argument)라는 기능을 제공합니다. 키워드 인수는 말 그대로 인수에 이름(키워드)을 붙이는 기능인데 키워드=값 형식으로 사용합니다.\n",
        "\n",
        "* `함수(키워드=값)`"
      ],
      "metadata": {
        "id": "R5nut9cynpVa"
      }
    },
    {
      "cell_type": "code",
      "source": [
        "def introduce(name, age, address):\n",
        "  print(f\"이름 : {name}\")\n",
        "  print(f\"나이 : {age}\")\n",
        "  print(f\"주소 : {address}\")"
      ],
      "metadata": {
        "id": "FqWZuiT1nqCz"
      },
      "execution_count": 151,
      "outputs": []
    },
    {
      "cell_type": "code",
      "source": [
        "introduce(\"김동동\", 20, \"서울시 강남구\")"
      ],
      "metadata": {
        "colab": {
          "base_uri": "https://localhost:8080/"
        },
        "id": "SQ0mEcXXoNqW",
        "outputId": "6e02d2e3-0187-416a-fb92-50c56513765d"
      },
      "execution_count": 153,
      "outputs": [
        {
          "output_type": "stream",
          "name": "stdout",
          "text": [
            "이름 : 김동동\n",
            "나이 : 20\n",
            "주소 : 서울시 강남구\n"
          ]
        }
      ]
    },
    {
      "cell_type": "code",
      "source": [],
      "metadata": {
        "colab": {
          "base_uri": "https://localhost:8080/"
        },
        "id": "QnDpwGAGnt69",
        "outputId": "8350fb43-ec1c-4836-c964-cff984e50b66"
      },
      "execution_count": null,
      "outputs": [
        {
          "output_type": "stream",
          "name": "stdout",
          "text": [
            "이름:  홍길동\n",
            "나이:  30\n",
            "주소:  서울시 용산구 이촌동\n"
          ]
        }
      ]
    },
    {
      "cell_type": "code",
      "source": [
        "# 키워드 인수를 사용하면 인수의 순서를 맞추지 않아도 키워드에 해당하는 값이 들어갑니다.\n",
        "introduce(age = 20, address = \"서울시 강남구\", name = \"김동동\")"
      ],
      "metadata": {
        "colab": {
          "base_uri": "https://localhost:8080/"
        },
        "id": "CTFSBBSNn2Zu",
        "outputId": "5b55e3ca-26b9-436d-f344-86a82c7bf56f"
      },
      "execution_count": 154,
      "outputs": [
        {
          "output_type": "stream",
          "name": "stdout",
          "text": [
            "이름 : 김동동\n",
            "나이 : 20\n",
            "주소 : 서울시 강남구\n"
          ]
        }
      ]
    },
    {
      "cell_type": "markdown",
      "source": [
        "## 키워드 인수와 딕셔너리 언패킹 사용하기"
      ],
      "metadata": {
        "id": "SBCFd3a-oBKj"
      }
    },
    {
      "cell_type": "markdown",
      "source": [
        "지금까지 함수를 호출할 때 키워드 인수로 직접 값을 넣었습니다. 이번에는 딕셔너리를 사용해서 키워드 인수로 값을 넣는 딕셔너리 언패킹을 사용해보겠습니다. 다음과 같이 딕셔너리 앞에 **(애스터리스크 두 개)를 붙여서 함수에 넣어줍니다.\n",
        "\n",
        "* `함수(**딕셔너리)`"
      ],
      "metadata": {
        "id": "P1kRkxtVoCSk"
      }
    },
    {
      "cell_type": "code",
      "source": [
        "def introduce(name, age, address):\n",
        "  print(f\"이름 : {name}\")\n",
        "  print(f\"나이 : {age}\")\n",
        "  print(f\"주소 : {address}\")"
      ],
      "metadata": {
        "id": "nrSsuSncn6SP"
      },
      "execution_count": null,
      "outputs": []
    },
    {
      "cell_type": "markdown",
      "source": [
        "이제 딕셔너리에 '키워드': 값 형식으로 인수를 저장하고, 앞에 **를 붙여서 함수에 넣어줍니다. 이때 딕셔너리의 키워드(키)는 반드시 문자열 형태라야 합니다."
      ],
      "metadata": {
        "id": "Dq6dnAJMoStb"
      }
    },
    {
      "cell_type": "code",
      "source": [
        "a = {\n",
        "    \"name\" : \"고길동\",\n",
        "    \"age\" : 40,\n",
        "     \"address\" : \"쌍문동\" \n",
        "}"
      ],
      "metadata": {
        "id": "mkatf-N1pBbF"
      },
      "execution_count": 155,
      "outputs": []
    },
    {
      "cell_type": "code",
      "source": [
        "introduce(*a) # 키 리스트로 리스트 언패킹"
      ],
      "metadata": {
        "colab": {
          "base_uri": "https://localhost:8080/"
        },
        "id": "r1MkQSj8oRo3",
        "outputId": "f14bb762-ec2d-4118-e4c7-ab13a6f32432"
      },
      "execution_count": 160,
      "outputs": [
        {
          "output_type": "stream",
          "name": "stdout",
          "text": [
            "이름 : name\n",
            "나이 : age\n",
            "주소 : address\n"
          ]
        }
      ]
    },
    {
      "cell_type": "code",
      "source": [
        "introduce(**a) # ** : 키워드-값 형태로 딕셔너리 언패킹"
      ],
      "metadata": {
        "id": "eeGOs6Wppc2x"
      },
      "execution_count": null,
      "outputs": []
    },
    {
      "cell_type": "markdown",
      "source": [
        "**x처럼 딕셔너리를 언패킹하면 딕셔너리의 값들이 함수의 인수로 들어갑니다."
      ],
      "metadata": {
        "id": "ZmNL-BnnoW-G"
      }
    },
    {
      "cell_type": "markdown",
      "source": [
        "딕셔너리 언패킹을 사용할 때는 함수의 매개변수 이름과 딕셔너리의 키 이름이 같아야 합니다. 또한, 매개변수 개수와 딕셔너리 키의 개수도 같아야 합니다."
      ],
      "metadata": {
        "id": "n2FrJj1Eob1S"
      }
    },
    {
      "cell_type": "markdown",
      "source": [
        "### *를 두 번 사용하는 이유"
      ],
      "metadata": {
        "id": "jRQmc3eAohLK"
      }
    },
    {
      "cell_type": "markdown",
      "source": [
        "그런데 딕셔너리는 **처럼 *를 두 번 사용할까요? 왜냐하면 딕셔너리는 키-값 쌍 형태로 값이 저장되어 있기 때문입니다. 먼저 *를 한 번만 사용해서 함수를 호출해봅니다.\n",
        "\n"
      ],
      "metadata": {
        "id": "yrtcCkc9olTD"
      }
    },
    {
      "cell_type": "code",
      "source": [
        "introduce(*a)"
      ],
      "metadata": {
        "colab": {
          "base_uri": "https://localhost:8080/"
        },
        "id": "KT2CfVgMoeg9",
        "outputId": "22454fb0-0148-4f74-d77c-604dfb5d5e6a"
      },
      "execution_count": 159,
      "outputs": [
        {
          "output_type": "stream",
          "name": "stdout",
          "text": [
            "이름 : name\n",
            "나이 : age\n",
            "주소 : address\n"
          ]
        }
      ]
    },
    {
      "cell_type": "markdown",
      "source": [
        "딕셔너리를 한 번 언패킹하면 키를 사용한다는 뜻이 됩니다. 따라서 **처럼 딕셔너리를 두 번 언패킹하여 값을 사용하도록 만들어야 합니다."
      ],
      "metadata": {
        "id": "SuRwHU7wopyB"
      }
    },
    {
      "cell_type": "code",
      "source": [
        "introduce(**a)"
      ],
      "metadata": {
        "colab": {
          "base_uri": "https://localhost:8080/"
        },
        "id": "7tMWJjI3on6E",
        "outputId": "1a4af774-b9c3-445b-a816-e49f5cb342b5"
      },
      "execution_count": 161,
      "outputs": [
        {
          "output_type": "stream",
          "name": "stdout",
          "text": [
            "이름 : 고길동\n",
            "나이 : 40\n",
            "주소 : 쌍문동\n"
          ]
        }
      ]
    },
    {
      "cell_type": "markdown",
      "source": [
        "### 키워드 인수를 사용하는 가변 인수 함수 만들기"
      ],
      "metadata": {
        "id": "g-tHUmd8ovY8"
      }
    },
    {
      "cell_type": "markdown",
      "source": [
        "키워드 인수를 사용하는 가변 인수 함수는 매개변수 앞에 **를 붙여서 만듭니다.\n",
        "\n",
        "```\n",
        "def 함수이름(**매개변수):\n",
        "    코드\n",
        "```"
      ],
      "metadata": {
        "id": "LbOQCn4Oo3e3"
      }
    },
    {
      "cell_type": "code",
      "source": [
        "def introduce(**kwargs): # kw + args (key word argument) : kwargs(dictionary)\n",
        " for kw, args in kwargs.items():\n",
        "    print(f\"{kw} : {args}\")"
      ],
      "metadata": {
        "id": "OEM7FpY3osQx"
      },
      "execution_count": 163,
      "outputs": []
    },
    {
      "cell_type": "code",
      "source": [
        "introduce(weight = 172.5, height = 80, nickname = \"고라니\")"
      ],
      "metadata": {
        "colab": {
          "base_uri": "https://localhost:8080/"
        },
        "id": "6oDWzOyCqeb3",
        "outputId": "069e90fe-4f31-4e03-8bee-ac48047ba9ca"
      },
      "execution_count": 164,
      "outputs": [
        {
          "output_type": "stream",
          "name": "stdout",
          "text": [
            "weight : 172.5\n",
            "height : 80\n",
            "nickname : 고라니\n"
          ]
        }
      ]
    },
    {
      "cell_type": "markdown",
      "source": [
        "매개변수 이름은 원하는 대로 지어도 되지만 관례적으로 keyword arguments를 줄여서 kwargs로 사용합니다. 특히 이 kwargs는 딕셔너리라서 for로 반복할 수 있습니다."
      ],
      "metadata": {
        "id": "7OzVuQaXpAg5"
      }
    },
    {
      "cell_type": "code",
      "source": [
        "def introduce(**kwargs):\n",
        "    if \"name\" in kwargs:\n",
        "      print(f\"이름 : {kwargs[\"name\"]}\")\n",
        "    if \"age\" in kwargs:\n",
        "      print(f\"나이 : {kwargs[\"age\"]}\")\n",
        "    if \"address\" in kwargs:\n",
        "      print(f\"주소 : {kwargs[\"address\"]}\")\n",
        "\n",
        "# introduce(**a)\n",
        "introduce(name=\"붕붕이\")  "
      ],
      "metadata": {
        "colab": {
          "base_uri": "https://localhost:8080/",
          "height": 136
        },
        "id": "Y73gjRAJo-6J",
        "outputId": "2788fe70-02be-4f81-e093-c0327af170c7"
      },
      "execution_count": 169,
      "outputs": [
        {
          "output_type": "error",
          "ename": "SyntaxError",
          "evalue": "ignored",
          "traceback": [
            "\u001b[0;36m  File \u001b[0;32m\"<ipython-input-169-517d68794411>\"\u001b[0;36m, line \u001b[0;32m3\u001b[0m\n\u001b[0;31m    print(f\"이름 : {kwargs[\"name\"]}\")\u001b[0m\n\u001b[0m                          ^\u001b[0m\n\u001b[0;31mSyntaxError\u001b[0m\u001b[0;31m:\u001b[0m invalid syntax\n"
          ]
        }
      ]
    },
    {
      "cell_type": "code",
      "source": [
        "def introduce(**kwargs):\n",
        "    print(f\"이름 : {kwargs.get[\"name\"]}\")\n",
        "    print(f\"나이 : {kwargs.get[\"age\"]}\")\n",
        "    print(f\"주소 : {kwargs.get[\"address\"]}\")\n",
        "\n",
        "# introduce(**a)\n",
        "introduce(name=\"붕붕이\")  "
      ],
      "metadata": {
        "id": "ncXzgVjarr-U"
      },
      "execution_count": null,
      "outputs": []
    },
    {
      "cell_type": "markdown",
      "source": [
        "인수 함수를 만들 수 있습니다. 그리고 이런 함수를 호출할 때는 키워드와 인수를 각각 넣거나 딕셔너리 언패킹을 사용하면 됩니다.\n",
        "\n",
        "보통 **kwargs를 사용한 가변 인수 함수는 다음과 같이 함수 안에서 특정 키가 있는지 확인한 뒤 해당 기능을 만듭니다."
      ],
      "metadata": {
        "id": "MotN-iQjpLNW"
      }
    },
    {
      "cell_type": "code",
      "source": [
        "def introduce(repeat, **kwargs):\n",
        "  for i in range(repeat):\n",
        "    print(f\"이름 : {kwargs.get(\"name\", \"없음\")}\")\n",
        "    print(f\"나이 : {kwargs.get(\"age\", \"20\")}\")\n",
        "    print(f\"주소 : {kwargs.get(\"address\", \"모름\")}\")"
      ],
      "metadata": {
        "id": "uU8cCkDIpHK-"
      },
      "execution_count": null,
      "outputs": []
    },
    {
      "cell_type": "markdown",
      "source": [
        "### 고정 인수와 가변 인수(키워드 인수)를 함께 사용하기"
      ],
      "metadata": {
        "id": "s-OwRQpYpRwg"
      }
    },
    {
      "cell_type": "markdown",
      "source": [
        "고정 인수와 가변 인수(키워드 인수)를 함께 사용할 때는 다음과 같이 고정 매개변수를 먼저 지정하고, 그 다음 매개변수에 **를 붙여주면 됩니다."
      ],
      "metadata": {
        "id": "tSD6LFGTpV82"
      }
    },
    {
      "cell_type": "code",
      "source": [],
      "metadata": {
        "colab": {
          "base_uri": "https://localhost:8080/"
        },
        "id": "vS9jFSYIpObs",
        "outputId": "e224c16b-49d4-4688-f53b-e5e603771deb"
      },
      "execution_count": null,
      "outputs": [
        {
          "output_type": "stream",
          "name": "stdout",
          "text": [
            "홍길동\n",
            "{}\n",
            "홍길동\n",
            "{'age': 30, 'address': '서울시 용산구 이촌동'}\n",
            "홍길동\n",
            "{'age': 30, 'address': '서울시 용산구 이촌동'}\n"
          ]
        }
      ]
    },
    {
      "cell_type": "markdown",
      "source": [
        "단, 이때 `def personal_info(**kwargs, name):`처럼 `**kwargs`가 고정 매개변수보다 앞쪽에 오면 안 됩니다. 매개변수 순서에서 `**kwargs`는 반드시 가장 뒤쪽에 와야 합니다."
      ],
      "metadata": {
        "id": "fWKnzoABpeQY"
      }
    },
    {
      "cell_type": "markdown",
      "source": [
        "### 위치 인수와 키워드 인수를 함께 사용하기"
      ],
      "metadata": {
        "id": "WvDt1nHUpoiu"
      }
    },
    {
      "cell_type": "markdown",
      "source": [
        "함수에서 위치 인수를 받는 `*args`와 키워드 인수를 받는 `**kwargs`를 함께 사용할 수도 있습니다. 대표적인 함수가 print인데 print는 출력할 값을 위치 인수로 넣고 sep, end 등을 키워드 인수로 넣습니다. 다음과 같이 함수의 매개변수를 `*args`, `**kwargs`로 지정하면 위치 인수와 키워드 인수를 함께 사용합니다."
      ],
      "metadata": {
        "id": "c3yLDTgspsmN"
      }
    },
    {
      "cell_type": "code",
      "source": [
        "def my_fun(*args, **kwargs):\n",
        "  print(*args, **kwargs)"
      ],
      "metadata": {
        "id": "28bsToycpcmH"
      },
      "execution_count": 171,
      "outputs": []
    },
    {
      "cell_type": "code",
      "source": [
        "my_fun(1, 2, 3, sep=':', end=\"\")"
      ],
      "metadata": {
        "colab": {
          "base_uri": "https://localhost:8080/"
        },
        "id": "0b3bNZr6st41",
        "outputId": "245babd8-fb31-4708-abdc-55ec948a7a4b"
      },
      "execution_count": 175,
      "outputs": [
        {
          "output_type": "stream",
          "name": "stdout",
          "text": [
            "1:2:3"
          ]
        }
      ]
    },
    {
      "cell_type": "code",
      "source": [
        "import random\n",
        "def game(a, b, *args, **kwargs):\n",
        "  # 플레이어의 이름을 받고, name\n",
        "  if \"name\" not in kwargs:\n",
        "      return print(\"이름을 입력해주세요 :\")\n",
        "  # 플레이어가 지불한 금액, money\n",
        "  if \"money\" not in kwargs:\n",
        "      return print(\"금액을 지불해 주세요 : \")\n",
        "  if not len(args):\n",
        "      return print(\"당첨숫자를 입력하세요 : \")\n",
        "  # a, b는 수를 뽑는 범위\n",
        "  # number = random.choice(range(a, b+1))\n",
        "  for i in range(a, b+1):\n",
        "   # args를 당첨 숫자들\n",
        "    if i in args:\n",
        "      print(f\"당첨되었습니다! {i} / \\\\{kwargs['money'] * 2}\")\n",
        "      "
      ],
      "metadata": {
        "id": "mhX2dqcctC9M"
      },
      "execution_count": 202,
      "outputs": []
    },
    {
      "cell_type": "markdown",
      "source": [
        "**<mark>아래내용 복습하기<mark>**"
      ],
      "metadata": {
        "id": "Ql6bGqk-x5Xa"
      }
    },
    {
      "cell_type": "code",
      "source": [
        "import random\n",
        "\n",
        "def game(start, end, *args, **kwargs):\n",
        "    # 플레이어의 이름을 받고, name\n",
        "    if 'name' not in kwargs:\n",
        "        return print(\"이름을 입력해주세요!\")\n",
        "    # 플레이어가 지불한 금액. money\n",
        "    if 'money' not in kwargs:\n",
        "        return print(\"금액을 지불해주세요!\")\n",
        "    if not len(args):\n",
        "        return print(\"당첨 숫자를 입력해주세요!\")\n",
        "    # a, b는 수를 뽑는 범위\n",
        "    number = random.choice(range(start, end+1))\n",
        "    # for i in range(start, end+1):\n",
        "    #     # args를 당첨 숫자들\n",
        "        # if i in args:\n",
        "        #     print(f\"당첨되었습니다! {i} / \\\\{kwargs['money'] * 2}\")\n",
        "    if number in args:\n",
        "        print(f\"{kwargs['name']}님, 당첨되었습니다! {number} / \\\\{kwargs['money'] * 2}\")\n",
        "    else:\n",
        "        print(f\"실패입니다! {number}\")"
      ],
      "metadata": {
        "id": "XszlbInNv3n7"
      },
      "execution_count": 217,
      "outputs": []
    },
    {
      "cell_type": "code",
      "source": [
        "game(1, 6)\n",
        "game(start = 1, end = 6)\n",
        "game(1, 6, name=\"만렙토끼\")\n",
        "game(1, 6, name=\"만렙토끼\", money=10000)\n",
        "game(1, 6, 3, name=\"만렙토끼\", money=10000)\n",
        "game(1, 6, 1, 2, 3, 4, 5, 6, name=\"만렙토끼\", money=10000) # 가변인수를 일일이 입력\n",
        "game(1, 6, *(1, 2, 3, 4, 5, 6), name=\"만렙토끼\", money=10000) # 가변인수를 tuple내에 입력"
      ],
      "metadata": {
        "colab": {
          "base_uri": "https://localhost:8080/"
        },
        "id": "fXVwFXWGv3vi",
        "outputId": "e8fb2ef3-933b-45ca-a144-9563fbd0c55d"
      },
      "execution_count": 215,
      "outputs": [
        {
          "output_type": "stream",
          "name": "stdout",
          "text": [
            "이름을 입력해주세요!\n",
            "이름을 입력해주세요!\n",
            "금액을 지불해주세요!\n",
            "당첨 숫자를 입력해주세요!\n",
            "실패입니다! 5\n",
            "만렙토끼님, 당첨되었습니다! 6 / \\20000\n",
            "만렙토끼님, 당첨되었습니다! 6 / \\20000\n"
          ]
        }
      ]
    },
    {
      "cell_type": "code",
      "source": [
        "seed_money = 100000"
      ],
      "metadata": {
        "id": "xkilab4izLKd"
      },
      "execution_count": 222,
      "outputs": []
    },
    {
      "cell_type": "markdown",
      "source": [],
      "metadata": {
        "id": "i9YrKL260ry4"
      }
    },
    {
      "cell_type": "code",
      "source": [
        "print(f\"게임 전 시드 머니 : {seed_money:.2f}\")\n",
        "m = seed_money * 0.05\n",
        "print(\"$$게임시작$$\")\n",
        "result = game(1, 2, 1, name = \"조승우\", money=m) # 5000 -> 10000, 0\n",
        "seed_money -= m\n",
        "seed_money += result\n",
        "print(f\"게임 후 시드머니 : {seed_money:.2f}\")"
      ],
      "metadata": {
        "colab": {
          "base_uri": "https://localhost:8080/",
          "height": 281
        },
        "id": "mUFDInF8zQmz",
        "outputId": "2f8a707a-06b5-4d99-e3ef-1509f3cbc1a6"
      },
      "execution_count": 223,
      "outputs": [
        {
          "output_type": "stream",
          "name": "stdout",
          "text": [
            "게임 전 시드 머니 : 100000.00\n",
            "$$게임시작$$\n",
            "조승우님, 당첨되었습니다! 1 / \\10000.0\n"
          ]
        },
        {
          "output_type": "error",
          "ename": "TypeError",
          "evalue": "ignored",
          "traceback": [
            "\u001b[0;31m---------------------------------------------------------------------------\u001b[0m",
            "\u001b[0;31mTypeError\u001b[0m                                 Traceback (most recent call last)",
            "\u001b[0;32m<ipython-input-223-b37fe3a630c8>\u001b[0m in \u001b[0;36m<module>\u001b[0;34m\u001b[0m\n\u001b[1;32m      4\u001b[0m \u001b[0mresult\u001b[0m \u001b[0;34m=\u001b[0m \u001b[0mgame\u001b[0m\u001b[0;34m(\u001b[0m\u001b[0;36m1\u001b[0m\u001b[0;34m,\u001b[0m \u001b[0;36m2\u001b[0m\u001b[0;34m,\u001b[0m \u001b[0;36m1\u001b[0m\u001b[0;34m,\u001b[0m \u001b[0mname\u001b[0m \u001b[0;34m=\u001b[0m \u001b[0;34m\"조승우\"\u001b[0m\u001b[0;34m,\u001b[0m \u001b[0mmoney\u001b[0m\u001b[0;34m=\u001b[0m\u001b[0mm\u001b[0m\u001b[0;34m)\u001b[0m \u001b[0;31m# 5000 -> 10000, 0\u001b[0m\u001b[0;34m\u001b[0m\u001b[0;34m\u001b[0m\u001b[0m\n\u001b[1;32m      5\u001b[0m \u001b[0mseed_money\u001b[0m \u001b[0;34m-=\u001b[0m \u001b[0mm\u001b[0m\u001b[0;34m\u001b[0m\u001b[0;34m\u001b[0m\u001b[0m\n\u001b[0;32m----> 6\u001b[0;31m \u001b[0mseed_money\u001b[0m \u001b[0;34m+=\u001b[0m \u001b[0mresult\u001b[0m\u001b[0;34m\u001b[0m\u001b[0;34m\u001b[0m\u001b[0m\n\u001b[0m\u001b[1;32m      7\u001b[0m \u001b[0mprint\u001b[0m\u001b[0;34m(\u001b[0m\u001b[0;34mf\"게임 후 시드머니 : {seed_money:.2f}\"\u001b[0m\u001b[0;34m)\u001b[0m\u001b[0;34m\u001b[0m\u001b[0;34m\u001b[0m\u001b[0m\n",
            "\u001b[0;31mTypeError\u001b[0m: unsupported operand type(s) for +=: 'float' and 'NoneType'"
          ]
        }
      ]
    },
    {
      "cell_type": "code",
      "source": [
        "print(f\"게임 전 시드 머니 : {seed_money:.2f}\")\n",
        "m = seed_money * 0.05\n",
        "print(\"$$게임시작$$\")\n",
        "result = game(1, 2, 1, multiple=3, name=\"조승우\", money=m) # 5000 -> 10000, 0\n",
        "seed_money -= m\n",
        "seed_money += result\n",
        "print(f\"게임 후 시드 머니 : {seed_money:.2f}\")"
      ],
      "metadata": {
        "colab": {
          "base_uri": "https://localhost:8080/",
          "height": 281
        },
        "id": "FQtwozdS0whA",
        "outputId": "e939726c-ca00-4554-805b-de2a94c4a160"
      },
      "execution_count": 224,
      "outputs": [
        {
          "output_type": "stream",
          "name": "stdout",
          "text": [
            "게임 전 시드 머니 : 95000.00\n",
            "$$게임시작$$\n",
            "조승우님, 당첨되었습니다! 1 / \\9500.0\n"
          ]
        },
        {
          "output_type": "error",
          "ename": "TypeError",
          "evalue": "ignored",
          "traceback": [
            "\u001b[0;31m---------------------------------------------------------------------------\u001b[0m",
            "\u001b[0;31mTypeError\u001b[0m                                 Traceback (most recent call last)",
            "\u001b[0;32m<ipython-input-224-3154151fa636>\u001b[0m in \u001b[0;36m<module>\u001b[0;34m\u001b[0m\n\u001b[1;32m      4\u001b[0m \u001b[0mresult\u001b[0m \u001b[0;34m=\u001b[0m \u001b[0mgame\u001b[0m\u001b[0;34m(\u001b[0m\u001b[0;36m1\u001b[0m\u001b[0;34m,\u001b[0m \u001b[0;36m2\u001b[0m\u001b[0;34m,\u001b[0m \u001b[0;36m1\u001b[0m\u001b[0;34m,\u001b[0m \u001b[0mmultiple\u001b[0m\u001b[0;34m=\u001b[0m\u001b[0;36m3\u001b[0m\u001b[0;34m,\u001b[0m \u001b[0mname\u001b[0m\u001b[0;34m=\u001b[0m\u001b[0;34m\"조승우\"\u001b[0m\u001b[0;34m,\u001b[0m \u001b[0mmoney\u001b[0m\u001b[0;34m=\u001b[0m\u001b[0mm\u001b[0m\u001b[0;34m)\u001b[0m \u001b[0;31m# 5000 -> 10000, 0\u001b[0m\u001b[0;34m\u001b[0m\u001b[0;34m\u001b[0m\u001b[0m\n\u001b[1;32m      5\u001b[0m \u001b[0mseed_money\u001b[0m \u001b[0;34m-=\u001b[0m \u001b[0mm\u001b[0m\u001b[0;34m\u001b[0m\u001b[0;34m\u001b[0m\u001b[0m\n\u001b[0;32m----> 6\u001b[0;31m \u001b[0mseed_money\u001b[0m \u001b[0;34m+=\u001b[0m \u001b[0mresult\u001b[0m\u001b[0;34m\u001b[0m\u001b[0;34m\u001b[0m\u001b[0m\n\u001b[0m\u001b[1;32m      7\u001b[0m \u001b[0mprint\u001b[0m\u001b[0;34m(\u001b[0m\u001b[0;34mf\"게임 후 시드 머니 : {seed_money:.2f}\"\u001b[0m\u001b[0;34m)\u001b[0m\u001b[0;34m\u001b[0m\u001b[0;34m\u001b[0m\u001b[0m\n",
            "\u001b[0;31mTypeError\u001b[0m: unsupported operand type(s) for +=: 'float' and 'NoneType'"
          ]
        }
      ]
    },
    {
      "cell_type": "markdown",
      "source": [
        "```\n",
        "단, 이때 def custom_print(**kwargs, *args):처럼\n",
        "**kwargs가 *args보다 앞쪽에 오면 안 됩니다.\n",
        "매개변수 순서에서 **kwargs는 반드시 가장 뒤쪽에 와야 합니다.\n",
        "\n",
        "특히 고정 매개변수와 *args, **kwargs를 함께 사용한다면 \n",
        "def custom_print(a, b, *args, **kwargs):처럼 \n",
        "매개변수는 고정 매개변수, *args, **kwargs 순으로 지정해야 합니다.\n",
        "```"
      ],
      "metadata": {
        "id": "HC3dA31hp3tL"
      }
    },
    {
      "cell_type": "markdown",
      "source": [
        "## 매개변수에 초깃값 지정하기"
      ],
      "metadata": {
        "id": "XIaHNaR3qJXP"
      }
    },
    {
      "cell_type": "markdown",
      "source": [
        "지금까지 함수를 호출할 때 항상 인수를 넣어서 값을 전달했습니다. 그러면 인수를 생략할 수는 없을까요? 이때는 함수의 매개변수에 초깃값을 지정하면 됩니다. 초깃값은 다음과 같이 함수를 만들 때 매개변수=값 형식으로 지정합니다.\n",
        "\n",
        "```\n",
        "def 함수이름(매개변수=값):\n",
        "    코드\n",
        "```"
      ],
      "metadata": {
        "id": "SiCXmhZEqxoR"
      }
    },
    {
      "cell_type": "markdown",
      "source": [
        "매개변수의 초깃값은 주로 사용하는 값이 있으면서 가끔 다른 값을 사용해야 할 때 활용합니다. 대표적인 예가 print 함수인데, print 함수의 sep는 초깃값이 ' '(공백)으로 지정되어 있어서 대부분 그대로 사용하고, 가끔 sep에 다른 값을 넣어서 사용합니다."
      ],
      "metadata": {
        "id": "cfFz3bmWq1c0"
      }
    },
    {
      "cell_type": "code",
      "source": [
        "def introduce(name, age, address='비공개'):\n",
        "  print(f\"이름 : {name}\")\n",
        "  print(f\"나이 : {age}\")\n",
        "  print(f\"주소 : {address}\")"
      ],
      "metadata": {
        "id": "bo2b1w8_p1wF"
      },
      "execution_count": 225,
      "outputs": []
    },
    {
      "cell_type": "code",
      "source": [
        "introduce(\"홍길동\", 30)"
      ],
      "metadata": {
        "colab": {
          "base_uri": "https://localhost:8080/"
        },
        "id": "Nd5hnVJHq5_r",
        "outputId": "c41fd08a-7d33-4348-a002-3943562925a4"
      },
      "execution_count": 227,
      "outputs": [
        {
          "output_type": "stream",
          "name": "stdout",
          "text": [
            "이름 : 홍길동\n",
            "나이 : 30\n",
            "주소 : 비공개\n"
          ]
        }
      ]
    },
    {
      "cell_type": "code",
      "source": [
        "# 매개변수에 초깃값이 지정되어 있더라도 값을 넣으면 해당 값이 전달됩니다.\n",
        "introduce(\"홍길동\", 30, \"서울시 강남구\")"
      ],
      "metadata": {
        "colab": {
          "base_uri": "https://localhost:8080/"
        },
        "id": "U1uofBhgq_Dg",
        "outputId": "0e6fb5ee-4fe7-410d-b719-e1f097289ac8"
      },
      "execution_count": 228,
      "outputs": [
        {
          "output_type": "stream",
          "name": "stdout",
          "text": [
            "이름 : 홍길동\n",
            "나이 : 30\n",
            "주소 : 서울시 강남구\n"
          ]
        }
      ]
    },
    {
      "cell_type": "code",
      "source": [
        "def my_cal(interest, tax=0.14):\n",
        "    return interest * (1- tax * 1.1)"
      ],
      "metadata": {
        "id": "ioo5n9Fl1VcK"
      },
      "execution_count": 233,
      "outputs": []
    },
    {
      "cell_type": "code",
      "source": [
        "my_cal(1_000_000)"
      ],
      "metadata": {
        "colab": {
          "base_uri": "https://localhost:8080/"
        },
        "id": "djHbdQP41l5r",
        "outputId": "dc6ca819-8c7a-4f16-a466-7335ae79f1b6"
      },
      "execution_count": 235,
      "outputs": [
        {
          "output_type": "execute_result",
          "data": {
            "text/plain": [
              "846000.0"
            ]
          },
          "metadata": {},
          "execution_count": 235
        }
      ]
    },
    {
      "cell_type": "code",
      "source": [
        "my_cal(1_000_000, 0.1)"
      ],
      "metadata": {
        "colab": {
          "base_uri": "https://localhost:8080/"
        },
        "id": "HwKcp9Yk1p_A",
        "outputId": "c6de9b77-f0b5-488d-b764-feabbd068204"
      },
      "execution_count": 238,
      "outputs": [
        {
          "output_type": "execute_result",
          "data": {
            "text/plain": [
              "890000.0"
            ]
          },
          "metadata": {},
          "execution_count": 238
        }
      ]
    },
    {
      "cell_type": "code",
      "source": [
        "def my_cal2(money, rate= 0.05, tax=0.14):\n",
        "    return money * rate *  (1- tax * 1.1)"
      ],
      "metadata": {
        "id": "J_dPZ7Wa1vXO"
      },
      "execution_count": 242,
      "outputs": []
    },
    {
      "cell_type": "code",
      "source": [
        "my_cal2(1_000_000)"
      ],
      "metadata": {
        "colab": {
          "base_uri": "https://localhost:8080/"
        },
        "id": "0P1rESWv17nv",
        "outputId": "9b9bd4db-b30b-4a10-e753-7d2309504d3b"
      },
      "execution_count": 245,
      "outputs": [
        {
          "output_type": "execute_result",
          "data": {
            "text/plain": [
              "42300.0"
            ]
          },
          "metadata": {},
          "execution_count": 245
        }
      ]
    },
    {
      "cell_type": "code",
      "source": [
        "my_cal2(1_000_000, rate=0.12, tax=0)"
      ],
      "metadata": {
        "colab": {
          "base_uri": "https://localhost:8080/"
        },
        "id": "c3Q3gN-V2LgK",
        "outputId": "5e1ce770-29ae-4e05-f51a-017f22ce20e0"
      },
      "execution_count": 246,
      "outputs": [
        {
          "output_type": "execute_result",
          "data": {
            "text/plain": [
              "120000.0"
            ]
          },
          "metadata": {},
          "execution_count": 246
        }
      ]
    },
    {
      "cell_type": "markdown",
      "source": [
        "### 초깃값이 지정된 매개변수의 위치"
      ],
      "metadata": {
        "id": "82Yf7g54rHxN"
      }
    },
    {
      "cell_type": "markdown",
      "source": [
        "매개변수의 초깃값을 지정할 때 한 가지 주의할 점이 있습니다. 초깃값이 지정된 매개변수 다음에는 초깃값이 없는 매개변수가 올 수 없습니다."
      ],
      "metadata": {
        "id": "0naJpS_8rYfy"
      }
    },
    {
      "cell_type": "code",
      "source": [
        "def my_cal2(rate= 0.05,money, tax=0.14): # 지정된 매개값은 무조건 뒤로\n",
        "    return money * rate *  (1- tax * 1.1)"
      ],
      "metadata": {
        "colab": {
          "base_uri": "https://localhost:8080/",
          "height": 136
        },
        "id": "dr_rk30zrDcE",
        "outputId": "850e4325-aae1-43cc-af05-a362dbe26214"
      },
      "execution_count": 247,
      "outputs": [
        {
          "output_type": "error",
          "ename": "SyntaxError",
          "evalue": "ignored",
          "traceback": [
            "\u001b[0;36m  File \u001b[0;32m\"<ipython-input-247-a5774b173b25>\"\u001b[0;36m, line \u001b[0;32m1\u001b[0m\n\u001b[0;31m    def my_cal2(rate= 0.05,money, tax=0.14):\u001b[0m\n\u001b[0m                ^\u001b[0m\n\u001b[0;31mSyntaxError\u001b[0m\u001b[0;31m:\u001b[0m non-default argument follows default argument\n"
          ]
        }
      ]
    },
    {
      "cell_type": "markdown",
      "source": [
        "초깃값이 지정된 매개변수는 뒤쪽에 몰아주면 됩니다.\n",
        "```\n",
        "def personal_info(name, age, address='비공개'):\n",
        "def personal_info(name, age=0, address='비공개'):\n",
        "def personal_info(name='비공개', age=0, address='비공개'):\n",
        "```"
      ],
      "metadata": {
        "id": "l972VnlQrjcI"
      }
    },
    {
      "cell_type": "markdown",
      "source": [
        "# 람다 표현식"
      ],
      "metadata": {
        "id": "O0V37htzsB7t"
      }
    },
    {
      "cell_type": "markdown",
      "source": [
        "람다 표현식은 식 형태로 되어 있다고 해서 람다 표현식(lambda expression)이라고 부릅니다. 특히 람다 표현식은 함수를 간편하게 작성할 수 있어서 다른 함수의 인수로 넣을 때 주로 사용합니다."
      ],
      "metadata": {
        "id": "NI6j49H_sEY5"
      }
    },
    {
      "cell_type": "markdown",
      "source": [
        "## 람다 표현식으로 함수 만들기"
      ],
      "metadata": {
        "id": "e-dE5RTXsH-M"
      }
    },
    {
      "cell_type": "code",
      "execution_count": 249,
      "metadata": {
        "colab": {
          "base_uri": "https://localhost:8080/"
        },
        "id": "pA553Kopr82H",
        "outputId": "58955f84-32c4-43b3-fd37-e506bc544185"
      },
      "outputs": [
        {
          "output_type": "execute_result",
          "data": {
            "text/plain": [
              "11"
            ]
          },
          "metadata": {},
          "execution_count": 249
        }
      ],
      "source": [
        "def plus_ten(x):\n",
        "  return x + 10\n",
        "\n",
        "plus_ten(1)"
      ]
    },
    {
      "cell_type": "markdown",
      "source": [
        "람다 표현식은 다음과 같이 lambda에 매개변수를 지정하고 :(콜론) 뒤에 반환값으로 사용할 식을 지정합니다.\n",
        "\n",
        "* `lambda 매개변수들: 식`"
      ],
      "metadata": {
        "id": "dm8-zwtCsQNe"
      }
    },
    {
      "cell_type": "code",
      "source": [
        "lambda x: x + 10"
      ],
      "metadata": {
        "colab": {
          "base_uri": "https://localhost:8080/"
        },
        "id": "l-o7lP-_21Y9",
        "outputId": "6b4774ec-dec3-4c58-feaf-14a039daa01f"
      },
      "execution_count": 250,
      "outputs": [
        {
          "output_type": "execute_result",
          "data": {
            "text/plain": [
              "<function __main__.<lambda>(x)>"
            ]
          },
          "metadata": {},
          "execution_count": 250
        }
      ]
    },
    {
      "cell_type": "markdown",
      "source": [
        "실행을 해보면 함수 객체가 나오는데, 이 상태로는 함수를 호출할 수 없습니다. 왜냐하면 람다 표현식은 이름이 없는 함수를 만들기 때문입니다. 그래서 람다 표현식을 익명 함수(anonymous function)로 부르기도 합니다.\n",
        "\n",
        "lambda로 만든 익명 함수를 호출하려면 다음과 같이 람다 표현식을 변수에 할당해주면 됩니다."
      ],
      "metadata": {
        "id": "ujm2GYH9sVim"
      }
    },
    {
      "cell_type": "code",
      "source": [
        "plus_ten = lambda x : x + 10\n",
        "plus_ten(12)"
      ],
      "metadata": {
        "colab": {
          "base_uri": "https://localhost:8080/"
        },
        "id": "ar6lYnq0sTYB",
        "outputId": "479b9c97-5a97-455b-f2b2-5e10c1486bf2"
      },
      "execution_count": 253,
      "outputs": [
        {
          "output_type": "execute_result",
          "data": {
            "text/plain": [
              "22"
            ]
          },
          "metadata": {},
          "execution_count": 253
        }
      ]
    },
    {
      "cell_type": "markdown",
      "source": [
        "### 람다 표현식 자체를 호출하기"
      ],
      "metadata": {
        "id": "7GJVBpaBsbKQ"
      }
    },
    {
      "cell_type": "markdown",
      "source": [
        "람다 표현식은 변수에 할당하지 않고 람다 표현식 자체를 바로 호출할 수 있습니다. 다음과 같이 람다 표현식을 ( )(괄호)로 묶은 뒤에 다시 ( )를 붙이고 인수를 넣어서 호출하면 됩니다.\n",
        "\n",
        "* `(lambda 매개변수들: 식)(인수들)`"
      ],
      "metadata": {
        "id": "KHt7GGMysdPf"
      }
    },
    {
      "cell_type": "code",
      "source": [
        "(lambda x : x + 10)(100)"
      ],
      "metadata": {
        "colab": {
          "base_uri": "https://localhost:8080/"
        },
        "id": "nyovR2LssYsr",
        "outputId": "7e654dc6-9021-42c2-a99f-fec8087af84c"
      },
      "execution_count": 254,
      "outputs": [
        {
          "output_type": "execute_result",
          "data": {
            "text/plain": [
              "110"
            ]
          },
          "metadata": {},
          "execution_count": 254
        }
      ]
    },
    {
      "cell_type": "markdown",
      "source": [
        "### 람다 표현식 안에서는 변수를 만들 수 없다"
      ],
      "metadata": {
        "id": "m91vCVZUslAD"
      }
    },
    {
      "cell_type": "markdown",
      "source": [
        "람다 표현식에서 주의할 점은 람다 표현식 안에서는 새 변수를 만들 수 없다는 점입니다. 따라서 반환값 부분은 변수 없이 식 한 줄로 표현할 수 있어야 합니다. 변수가 필요한 코드일 경우에는 def로 함수를 작성하는 것이 좋습니다."
      ],
      "metadata": {
        "id": "MHaw_mWAsnco"
      }
    },
    {
      "cell_type": "code",
      "source": [
        "(lambda x : y = 10; x + y)\n",
        "# lambda 내에서는 새로운 값 할당, 언패킹 지정 불가"
      ],
      "metadata": {
        "colab": {
          "base_uri": "https://localhost:8080/",
          "height": 136
        },
        "id": "92VgQDf_sit6",
        "outputId": "e6ceadff-479d-4338-e52d-947fd2c4b636"
      },
      "execution_count": 255,
      "outputs": [
        {
          "output_type": "error",
          "ename": "SyntaxError",
          "evalue": "ignored",
          "traceback": [
            "\u001b[0;36m  File \u001b[0;32m\"<ipython-input-255-3337e983cb2c>\"\u001b[0;36m, line \u001b[0;32m1\u001b[0m\n\u001b[0;31m    (lambda x : y = 10; x + y)\u001b[0m\n\u001b[0m                  ^\u001b[0m\n\u001b[0;31mSyntaxError\u001b[0m\u001b[0;31m:\u001b[0m invalid syntax\n"
          ]
        }
      ]
    },
    {
      "cell_type": "code",
      "source": [
        "# 단, 람다 표현식 바깥에 있는 변수는 사용할 수 있습니다.\n",
        "y = 10\n",
        "(lambda x : x + y)(1)"
      ],
      "metadata": {
        "colab": {
          "base_uri": "https://localhost:8080/"
        },
        "id": "B9C2CGGCsqtn",
        "outputId": "88fa0ce2-9ef3-47be-c4e9-192d30188771"
      },
      "execution_count": 257,
      "outputs": [
        {
          "output_type": "execute_result",
          "data": {
            "text/plain": [
              "11"
            ]
          },
          "metadata": {},
          "execution_count": 257
        }
      ]
    },
    {
      "cell_type": "code",
      "source": [
        "# 함수 내부에서, 외부에서 사용된 변수를 끌어서 사용하는 건 가능 (람다 표현식도 마찬가지)\n",
        "# 함수내부에서 전달받은 매개변수나, 그 변수를 통해 선언된 다른 값들은 함수밖에서 호춣할 수 없음\n",
        "# 함수 내부에서, 외부에 변수를 호출해서 변경시켰다면, 해당 변경내용은 유지\n",
        "def add(x, y):\n",
        "    return x + y\n",
        "\n",
        "def add_power(x, y):\n",
        "    return (x + y) ** 2\n",
        "\n",
        "z = 2\n",
        "def add_power2(x, y):\n",
        "    return (x + y) ** z"
      ],
      "metadata": {
        "id": "-Gy__mWJ4BL-"
      },
      "execution_count": 268,
      "outputs": []
    },
    {
      "cell_type": "code",
      "source": [
        "add_power2(10,10)"
      ],
      "metadata": {
        "colab": {
          "base_uri": "https://localhost:8080/"
        },
        "id": "geUu-hDa4byr",
        "outputId": "a0e28cda-4c36-4331-9b87-df3e42e9b6a5"
      },
      "execution_count": 269,
      "outputs": [
        {
          "output_type": "execute_result",
          "data": {
            "text/plain": [
              "400"
            ]
          },
          "metadata": {},
          "execution_count": 269
        }
      ]
    },
    {
      "cell_type": "code",
      "source": [
        "z = 3\n",
        "\n",
        "add_power2(10, 10)"
      ],
      "metadata": {
        "colab": {
          "base_uri": "https://localhost:8080/"
        },
        "id": "U_SnSgsg4fNi",
        "outputId": "3830dda9-a5d7-42de-93be-3b18ab907ae9"
      },
      "execution_count": 273,
      "outputs": [
        {
          "output_type": "execute_result",
          "data": {
            "text/plain": [
              "8000"
            ]
          },
          "metadata": {},
          "execution_count": 273
        }
      ]
    },
    {
      "cell_type": "code",
      "source": [
        "f = \"{:.2f}\".format\n",
        "def add_float(a, b):\n",
        "    return f(a + b)\n",
        "\n",
        "add_float(1.3745, 2.4857)"
      ],
      "metadata": {
        "colab": {
          "base_uri": "https://localhost:8080/",
          "height": 35
        },
        "id": "R_0yvIeI4xSE",
        "outputId": "5077872d-cf9f-43c4-fe68-509b63dbc920"
      },
      "execution_count": 293,
      "outputs": [
        {
          "output_type": "execute_result",
          "data": {
            "text/plain": [
              "'3.86'"
            ],
            "application/vnd.google.colaboratory.intrinsic+json": {
              "type": "string"
            }
          },
          "metadata": {},
          "execution_count": 293
        }
      ]
    },
    {
      "cell_type": "code",
      "source": [
        "(lambda x, y: (x + y) ** z)(10, 20)"
      ],
      "metadata": {
        "colab": {
          "base_uri": "https://localhost:8080/"
        },
        "id": "EABj6tHw5Pry",
        "outputId": "d802294d-d232-462d-bddd-daf0520936de"
      },
      "execution_count": 284,
      "outputs": [
        {
          "output_type": "execute_result",
          "data": {
            "text/plain": [
              "27000"
            ]
          },
          "metadata": {},
          "execution_count": 284
        }
      ]
    },
    {
      "cell_type": "code",
      "source": [
        "w = 0"
      ],
      "metadata": {
        "id": "VhJHmym455Zc"
      },
      "execution_count": 286,
      "outputs": []
    },
    {
      "cell_type": "code",
      "source": [
        "# 함수 내부에 선언되지 않은 변수의 경우에는 대입할 수 없다.\n",
        "def fun():\n",
        "    print(w) # 값을 외부로 전달해서 변경하고 싶으면 return 강제"
      ],
      "metadata": {
        "id": "y16QgAu857ix"
      },
      "execution_count": 287,
      "outputs": []
    },
    {
      "cell_type": "markdown",
      "source": [
        "### 람다 표현식을 인수로 사용하기"
      ],
      "metadata": {
        "id": "ebuUgDrjsxIc"
      }
    },
    {
      "cell_type": "markdown",
      "source": [
        "람다 표현식을 사용하는 이유는 함수의 인수 부분에서 간단하게 함수를 만들기 위해서 입니다. 이런 방식으로 사용하는 대표적인 예가 map입니다."
      ],
      "metadata": {
        "id": "8osUgTp7s0wN"
      }
    },
    {
      "cell_type": "code",
      "source": [
        "list(map(int, [\"11\", \"12\", \"13\"])"
      ],
      "metadata": {
        "colab": {
          "base_uri": "https://localhost:8080/"
        },
        "id": "FFHxoY6IsvPu",
        "outputId": "f5b70c52-fd56-4698-adb2-670d7c4462f0"
      },
      "execution_count": 289,
      "outputs": [
        {
          "output_type": "execute_result",
          "data": {
            "text/plain": [
              "[11, 12, 13]"
            ]
          },
          "metadata": {},
          "execution_count": 289
        }
      ]
    },
    {
      "cell_type": "code",
      "source": [
        "list(map(lambda x: int(x) ** 2 , [\"11\", \"12\", \"13\"]))"
      ],
      "metadata": {
        "colab": {
          "base_uri": "https://localhost:8080/"
        },
        "id": "FOm48x0Qs6p-",
        "outputId": "fc9effee-db54-4b74-fc41-35978a89cae2"
      },
      "execution_count": 292,
      "outputs": [
        {
          "output_type": "execute_result",
          "data": {
            "text/plain": [
              "[121, 144, 169]"
            ]
          },
          "metadata": {},
          "execution_count": 292
        }
      ]
    }
  ]
}