{
  "nbformat": 4,
  "nbformat_minor": 0,
  "metadata": {
    "colab": {
      "provenance": [],
      "authorship_tag": "ABX9TyMm4Ok1+2LYQ2upgamJ3L0k",
      "include_colab_link": true
    },
    "kernelspec": {
      "name": "python3",
      "display_name": "Python 3"
    },
    "language_info": {
      "name": "python"
    }
  },
  "cells": [
    {
      "cell_type": "markdown",
      "metadata": {
        "id": "view-in-github",
        "colab_type": "text"
      },
      "source": [
        "<a href=\"https://colab.research.google.com/github/jaiwon880/Python_bd23_hjw/blob/main/submission/jaiwon880/CH02_04_%EB%B3%B5%EC%8A%B5.ipynb\" target=\"_parent\"><img src=\"https://colab.research.google.com/assets/colab-badge.svg\" alt=\"Open In Colab\"/></a>"
      ]
    },
    {
      "cell_type": "markdown",
      "source": [
        "# 문자열 서식\n"
      ],
      "metadata": {
        "id": "hm1KGZcme3db"
      }
    },
    {
      "cell_type": "markdown",
      "source": [
        "## f-string"
      ],
      "metadata": {
        "id": "P9MXcmq6fboV"
      }
    },
    {
      "cell_type": "code",
      "source": [
        "\"빅데이터 엔지니어링 과정에서는 \" + \"파이썬\" + \"을 배웁니다.\""
      ],
      "metadata": {
        "colab": {
          "base_uri": "https://localhost:8080/",
          "height": 35
        },
        "id": "NVycKGdJfoiR",
        "outputId": "5fd77a74-8d74-48bf-a8d3-b5ec6ea670f6"
      },
      "execution_count": 1,
      "outputs": [
        {
          "output_type": "execute_result",
          "data": {
            "text/plain": [
              "'빅데이터 엔지니어링 과정에서는 파이썬을 배웁니다.'"
            ],
            "application/vnd.google.colaboratory.intrinsic+json": {
              "type": "string"
            }
          },
          "metadata": {},
          "execution_count": 1
        }
      ]
    },
    {
      "cell_type": "code",
      "source": [
        "def announce(keyword):\n",
        "  return \"빅데이터 엔지니어링 과정에서는 \" + keyword + \"을 배웁니다.\""
      ],
      "metadata": {
        "id": "r1LY9M15fzRy"
      },
      "execution_count": 2,
      "outputs": []
    },
    {
      "cell_type": "code",
      "source": [
        "announce(\"자바\")"
      ],
      "metadata": {
        "colab": {
          "base_uri": "https://localhost:8080/",
          "height": 35
        },
        "id": "YynVTVWpf-IW",
        "outputId": "16765a39-cd2f-41b3-f133-d84114ed315d"
      },
      "execution_count": 3,
      "outputs": [
        {
          "output_type": "execute_result",
          "data": {
            "text/plain": [
              "'빅데이터 엔지니어링 과정에서는 자바을 배웁니다.'"
            ],
            "application/vnd.google.colaboratory.intrinsic+json": {
              "type": "string"
            }
          },
          "metadata": {},
          "execution_count": 3
        }
      ]
    },
    {
      "cell_type": "code",
      "source": [
        "announce(\"Python\")"
      ],
      "metadata": {
        "colab": {
          "base_uri": "https://localhost:8080/",
          "height": 35
        },
        "id": "AFn13wnwgApo",
        "outputId": "fa57ed9f-ab8e-4bbb-cc55-38e393880a70"
      },
      "execution_count": 4,
      "outputs": [
        {
          "output_type": "execute_result",
          "data": {
            "text/plain": [
              "'빅데이터 엔지니어링 과정에서는 Python을 배웁니다.'"
            ],
            "application/vnd.google.colaboratory.intrinsic+json": {
              "type": "string"
            }
          },
          "metadata": {},
          "execution_count": 4
        }
      ]
    },
    {
      "cell_type": "code",
      "source": [
        "def announce2(a, b, c, d):\n",
        "  return a + \"에서는\" + b + \" 와\" + c + \" 와 \" + d + \"를 배웁니다.\""
      ],
      "metadata": {
        "id": "GMPQFVBzgDe0"
      },
      "execution_count": 9,
      "outputs": []
    },
    {
      "cell_type": "code",
      "source": [
        "announce2(\"빅데이터 엔지니어링\", \"자바\", \"파이썬\", \"리눅스\")"
      ],
      "metadata": {
        "colab": {
          "base_uri": "https://localhost:8080/",
          "height": 35
        },
        "id": "Eyu7fPRogovE",
        "outputId": "d83bfbcb-a27e-47fd-e432-b8c6a5ea6f8b"
      },
      "execution_count": 10,
      "outputs": [
        {
          "output_type": "execute_result",
          "data": {
            "text/plain": [
              "'빅데이터 엔지니어링에서는자바 와파이썬 와 리눅스를 배웁니다.'"
            ],
            "application/vnd.google.colaboratory.intrinsic+json": {
              "type": "string"
            }
          },
          "metadata": {},
          "execution_count": 10
        }
      ]
    },
    {
      "cell_type": "code",
      "source": [
        "def announce3(name, count, subject1, subject2):\n",
        "  return name + \" \"+ str(count) + \"기 에서는 \" + subject1 + \"과 \" + subject2 + \"를 배웁니다.\""
      ],
      "metadata": {
        "id": "qSSyw2O3gSwE"
      },
      "execution_count": 11,
      "outputs": []
    },
    {
      "cell_type": "code",
      "source": [
        "announce3(\"빅데이터\", 23, \"자바\", \"스크립트\")"
      ],
      "metadata": {
        "colab": {
          "base_uri": "https://localhost:8080/",
          "height": 35
        },
        "id": "3YDyrDG1g0Zf",
        "outputId": "d660ade3-af1b-41e7-a08e-e86704993419"
      },
      "execution_count": 13,
      "outputs": [
        {
          "output_type": "execute_result",
          "data": {
            "text/plain": [
              "'빅데이터 23기 에서는 자바과 스크립트를 배웁니다.'"
            ],
            "application/vnd.google.colaboratory.intrinsic+json": {
              "type": "string"
            }
          },
          "metadata": {},
          "execution_count": 13
        }
      ]
    },
    {
      "cell_type": "code",
      "source": [
        "def announce4(name, count, subject1, subject2):\n",
        "  return f\"{name} {count}기 에서는 {subject1}, {subject2}를 배웁니다\""
      ],
      "metadata": {
        "id": "VfK0xGUNg4id"
      },
      "execution_count": 14,
      "outputs": []
    },
    {
      "cell_type": "code",
      "source": [
        "announce4(\"빅데이터\", 23, \"자바\", \"스크립트\")"
      ],
      "metadata": {
        "colab": {
          "base_uri": "https://localhost:8080/",
          "height": 35
        },
        "id": "xJcV_--NhBrY",
        "outputId": "82ff82f8-7ed9-4474-cac0-3594fe247dc9"
      },
      "execution_count": 16,
      "outputs": [
        {
          "output_type": "execute_result",
          "data": {
            "text/plain": [
              "'빅데이터 23기 에서는 자바, 스크립트를 배웁니다'"
            ],
            "application/vnd.google.colaboratory.intrinsic+json": {
              "type": "string"
            }
          },
          "metadata": {},
          "execution_count": 16
        }
      ]
    },
    {
      "cell_type": "code",
      "source": [
        "a = 76  # 취업자 수\n",
        "b = 97 # 전체 수강생 수\n",
        "\n",
        "f\"전체 취업자 수: {a:04d}명 / 전체 수강생 수 {b:04d} 명 / {(a / b):06.2f}\""
      ],
      "metadata": {
        "colab": {
          "base_uri": "https://localhost:8080/",
          "height": 35
        },
        "id": "7V4FPA4whNkg",
        "outputId": "588e9c5c-2a0d-4d20-8d3f-1d4fc7d944fc"
      },
      "execution_count": 21,
      "outputs": [
        {
          "output_type": "execute_result",
          "data": {
            "text/plain": [
              "'전체 취업자 수: 0076명 / 전체 수강생 수 0097 명 / 000.78'"
            ],
            "application/vnd.google.colaboratory.intrinsic+json": {
              "type": "string"
            }
          },
          "metadata": {},
          "execution_count": 21
        }
      ]
    },
    {
      "cell_type": "markdown",
      "source": [
        "## format 메소드"
      ],
      "metadata": {
        "id": "T1jJ3qzjhiwu"
      }
    },
    {
      "cell_type": "code",
      "source": [
        "introduction = \"이름: {}, 나이: {}세\".format(\"김동동\",20)\n",
        "introduction"
      ],
      "metadata": {
        "colab": {
          "base_uri": "https://localhost:8080/",
          "height": 35
        },
        "id": "wRlvojXjiGdC",
        "outputId": "b3a252e2-bd12-476f-d95c-377908162abe"
      },
      "execution_count": 23,
      "outputs": [
        {
          "output_type": "execute_result",
          "data": {
            "text/plain": [
              "'이름: 김동동, 나이: 20세'"
            ],
            "application/vnd.google.colaboratory.intrinsic+json": {
              "type": "string"
            }
          },
          "metadata": {},
          "execution_count": 23
        }
      ]
    },
    {
      "cell_type": "code",
      "source": [
        "introduction2 = \"이름: {name}, 나이: {age}세\".format(name=\"김동동\",age=20) # 순서가 바뀌어도 상관이 없다!\n",
        "introduction2"
      ],
      "metadata": {
        "colab": {
          "base_uri": "https://localhost:8080/",
          "height": 35
        },
        "id": "fR0vZzhMihRz",
        "outputId": "27a7ee81-4f9c-4fe0-cf0e-4dd5ae99e0f4"
      },
      "execution_count": 25,
      "outputs": [
        {
          "output_type": "execute_result",
          "data": {
            "text/plain": [
              "'이름: 김동동, 나이: 20세'"
            ],
            "application/vnd.google.colaboratory.intrinsic+json": {
              "type": "string"
            }
          },
          "metadata": {},
          "execution_count": 25
        }
      ]
    },
    {
      "cell_type": "code",
      "source": [
        "def hello():\n",
        "  return \"안녕 나는 김동동이야\""
      ],
      "metadata": {
        "id": "vFNK3HIdin1S"
      },
      "execution_count": 26,
      "outputs": []
    },
    {
      "cell_type": "code",
      "source": [
        "hello()"
      ],
      "metadata": {
        "colab": {
          "base_uri": "https://localhost:8080/",
          "height": 35
        },
        "id": "TYgByrVHjKOQ",
        "outputId": "425c1649-0028-4827-e1fb-2413025d956b"
      },
      "execution_count": 27,
      "outputs": [
        {
          "output_type": "execute_result",
          "data": {
            "text/plain": [
              "'안녕 나는 김동동이야'"
            ],
            "application/vnd.google.colaboratory.intrinsic+json": {
              "type": "string"
            }
          },
          "metadata": {},
          "execution_count": 27
        }
      ]
    },
    {
      "cell_type": "code",
      "source": [
        "def hello2(name):\n",
        "  return f\"안녕 나는 {name}이야\"\n",
        "\n",
        "hello2(\"김동동\")"
      ],
      "metadata": {
        "colab": {
          "base_uri": "https://localhost:8080/",
          "height": 35
        },
        "id": "GJevDHS2jKvS",
        "outputId": "4448e906-e6d6-45d6-e27e-1a15065933c4"
      },
      "execution_count": 29,
      "outputs": [
        {
          "output_type": "execute_result",
          "data": {
            "text/plain": [
              "'안녕 나는 김동동이야'"
            ],
            "application/vnd.google.colaboratory.intrinsic+json": {
              "type": "string"
            }
          },
          "metadata": {},
          "execution_count": 29
        }
      ]
    },
    {
      "cell_type": "code",
      "source": [
        "def hello3(sentence, name):\n",
        "  # return \"안녕 나는 {} 이야\".format(name)\n",
        "  return sentence.format(name)\n",
        "\n",
        "hello3(\"여러분 좋은아침~{}\",\"재원\")"
      ],
      "metadata": {
        "colab": {
          "base_uri": "https://localhost:8080/",
          "height": 35
        },
        "id": "9tvtuSeLjP53",
        "outputId": "954d9511-31ad-4899-d516-010dbbe41b28"
      },
      "execution_count": 31,
      "outputs": [
        {
          "output_type": "execute_result",
          "data": {
            "text/plain": [
              "'여러분 좋은아침~재원'"
            ],
            "application/vnd.google.colaboratory.intrinsic+json": {
              "type": "string"
            }
          },
          "metadata": {},
          "execution_count": 31
        }
      ]
    },
    {
      "cell_type": "code",
      "source": [
        "def hello4(callback, *args): # args는 튜플, callback 익명함수\n",
        "  return list(map(callback, args))\n",
        "\n",
        "hello4(\"{}님 출석하셨습니다\".format, \"김장장\",\"공장장\",\"원재\")"
      ],
      "metadata": {
        "colab": {
          "base_uri": "https://localhost:8080/"
        },
        "id": "qqG6trLjjikX",
        "outputId": "1e3eeacd-ce07-46c7-91fc-b8ee4aaedfc8"
      },
      "execution_count": 34,
      "outputs": [
        {
          "output_type": "execute_result",
          "data": {
            "text/plain": [
              "['김장장님 출석하셨습니다', '공장장님 출석하셨습니다', '원재님 출석하셨습니다']"
            ]
          },
          "metadata": {},
          "execution_count": 34
        }
      ]
    },
    {
      "cell_type": "code",
      "source": [
        "hello4(lambda x: x+\"님\", \"재원\",\"지영\")"
      ],
      "metadata": {
        "colab": {
          "base_uri": "https://localhost:8080/"
        },
        "id": "77NDClh9kQTC",
        "outputId": "11f5a92d-78be-446f-b6fd-db52432fe84b"
      },
      "execution_count": 35,
      "outputs": [
        {
          "output_type": "execute_result",
          "data": {
            "text/plain": [
              "['재원님', '지영님']"
            ]
          },
          "metadata": {},
          "execution_count": 35
        }
      ]
    },
    {
      "cell_type": "markdown",
      "source": [
        "## 딕셔너리 응용"
      ],
      "metadata": {
        "id": "7Ao6CMtVkUlt"
      }
    },
    {
      "cell_type": "code",
      "source": [
        "x = {\"a\":10, \"b\":20, \"c\":30, \"d\":40}\n",
        "x"
      ],
      "metadata": {
        "id": "lK8-VEJUm2Kd",
        "colab": {
          "base_uri": "https://localhost:8080/"
        },
        "outputId": "6b568dbd-99cd-46e4-b5f0-36b5864d8dc1"
      },
      "execution_count": 36,
      "outputs": [
        {
          "output_type": "execute_result",
          "data": {
            "text/plain": [
              "{'a': 10, 'b': 20, 'c': 30, 'd': 40}"
            ]
          },
          "metadata": {},
          "execution_count": 36
        }
      ]
    },
    {
      "cell_type": "code",
      "source": [
        "x['a'] = 15\n",
        "x"
      ],
      "metadata": {
        "colab": {
          "base_uri": "https://localhost:8080/"
        },
        "id": "crQtLhm5nBfb",
        "outputId": "a0df7e25-159b-407f-c08c-96ac5223fb56"
      },
      "execution_count": 37,
      "outputs": [
        {
          "output_type": "execute_result",
          "data": {
            "text/plain": [
              "{'a': 15, 'b': 20, 'c': 30, 'd': 40}"
            ]
          },
          "metadata": {},
          "execution_count": 37
        }
      ]
    },
    {
      "cell_type": "code",
      "source": [
        "x['e']"
      ],
      "metadata": {
        "colab": {
          "base_uri": "https://localhost:8080/",
          "height": 173
        },
        "id": "BOk0yCSHnC-K",
        "outputId": "03063569-93d0-4eb4-f4b7-fa28dcabd5c1"
      },
      "execution_count": 38,
      "outputs": [
        {
          "output_type": "error",
          "ename": "KeyError",
          "evalue": "ignored",
          "traceback": [
            "\u001b[0;31m---------------------------------------------------------------------------\u001b[0m",
            "\u001b[0;31mKeyError\u001b[0m                                  Traceback (most recent call last)",
            "\u001b[0;32m<ipython-input-38-fbf962bcb721>\u001b[0m in \u001b[0;36m<module>\u001b[0;34m\u001b[0m\n\u001b[0;32m----> 1\u001b[0;31m \u001b[0mx\u001b[0m\u001b[0;34m[\u001b[0m\u001b[0;34m'e'\u001b[0m\u001b[0;34m]\u001b[0m\u001b[0;34m\u001b[0m\u001b[0;34m\u001b[0m\u001b[0m\n\u001b[0m",
            "\u001b[0;31mKeyError\u001b[0m: 'e'"
          ]
        }
      ]
    },
    {
      "cell_type": "code",
      "source": [
        "x.get('e') # None을 return 에러 안 남"
      ],
      "metadata": {
        "id": "cZN50MpCnERf"
      },
      "execution_count": 39,
      "outputs": []
    },
    {
      "cell_type": "code",
      "source": [
        "x.get('e', -1) # 기본값 지정 없을 때는 기본값"
      ],
      "metadata": {
        "colab": {
          "base_uri": "https://localhost:8080/"
        },
        "id": "7cHf-4Mxjfge",
        "outputId": "c38a2dcc-1b7d-4cc4-8173-c2529456d070"
      },
      "execution_count": 40,
      "outputs": [
        {
          "output_type": "execute_result",
          "data": {
            "text/plain": [
              "-1"
            ]
          },
          "metadata": {},
          "execution_count": 40
        }
      ]
    },
    {
      "cell_type": "code",
      "source": [
        "x.get('a')"
      ],
      "metadata": {
        "colab": {
          "base_uri": "https://localhost:8080/"
        },
        "id": "4RjzUBllnLjI",
        "outputId": "ddde0ec2-a2ba-4598-903d-455934ca636b"
      },
      "execution_count": 41,
      "outputs": [
        {
          "output_type": "execute_result",
          "data": {
            "text/plain": [
              "15"
            ]
          },
          "metadata": {},
          "execution_count": 41
        }
      ]
    },
    {
      "cell_type": "code",
      "source": [
        "x.update(a=20)\n",
        "x"
      ],
      "metadata": {
        "colab": {
          "base_uri": "https://localhost:8080/"
        },
        "id": "jJ2o6LIUnMWr",
        "outputId": "976e5ade-5bd7-4830-a2fe-c401a1d7445b"
      },
      "execution_count": 42,
      "outputs": [
        {
          "output_type": "execute_result",
          "data": {
            "text/plain": [
              "{'a': 20, 'b': 20, 'c': 30, 'd': 40}"
            ]
          },
          "metadata": {},
          "execution_count": 42
        }
      ]
    },
    {
      "cell_type": "code",
      "source": [
        "x.update(e=200) # 변수형태로 표현될 수 없는 값들 (숫자 -> update로 사용해줄 수 없음)\n",
        "x"
      ],
      "metadata": {
        "colab": {
          "base_uri": "https://localhost:8080/"
        },
        "id": "wa2gsDMcnau8",
        "outputId": "078e05b7-505d-43cd-f110-da763a56f0c3"
      },
      "execution_count": 43,
      "outputs": [
        {
          "output_type": "execute_result",
          "data": {
            "text/plain": [
              "{'a': 20, 'b': 20, 'c': 30, 'd': 40, 'e': 200}"
            ]
          },
          "metadata": {},
          "execution_count": 43
        }
      ]
    },
    {
      "cell_type": "code",
      "source": [
        "x.update({ \n",
        "    'a':10,\n",
        "    'b':40,\n",
        "    1:200\n",
        "})"
      ],
      "metadata": {
        "id": "mUG2yQdqndOW"
      },
      "execution_count": 46,
      "outputs": []
    },
    {
      "cell_type": "code",
      "source": [
        "x"
      ],
      "metadata": {
        "colab": {
          "base_uri": "https://localhost:8080/"
        },
        "id": "z_rsOoGGngWP",
        "outputId": "665028e1-345b-4542-cc65-99480175d146"
      },
      "execution_count": 47,
      "outputs": [
        {
          "output_type": "execute_result",
          "data": {
            "text/plain": [
              "{'a': 10, 'b': 40, 'c': 30, 'd': 40, 'e': 200, 1: 200}"
            ]
          },
          "metadata": {},
          "execution_count": 47
        }
      ]
    },
    {
      "cell_type": "code",
      "source": [
        "x.pop(\"a\"), x  # 키를 가져와서 값을 삭제"
      ],
      "metadata": {
        "colab": {
          "base_uri": "https://localhost:8080/"
        },
        "id": "dVWaQb39ngrw",
        "outputId": "a7faeb2f-ef61-442f-9486-afd14977b15a"
      },
      "execution_count": 48,
      "outputs": [
        {
          "output_type": "execute_result",
          "data": {
            "text/plain": [
              "(10, {'b': 40, 'c': 30, 'd': 40, 'e': 200, 1: 200})"
            ]
          },
          "metadata": {},
          "execution_count": 48
        }
      ]
    },
    {
      "cell_type": "code",
      "source": [
        "x.pop() # 딕셔너리는 내부에 순서 X"
      ],
      "metadata": {
        "colab": {
          "base_uri": "https://localhost:8080/",
          "height": 173
        },
        "id": "bz9WhVrbn19K",
        "outputId": "adf10b5a-75f4-46d0-e32c-322d7d78c49b"
      },
      "execution_count": 50,
      "outputs": [
        {
          "output_type": "error",
          "ename": "TypeError",
          "evalue": "ignored",
          "traceback": [
            "\u001b[0;31m---------------------------------------------------------------------------\u001b[0m",
            "\u001b[0;31mTypeError\u001b[0m                                 Traceback (most recent call last)",
            "\u001b[0;32m<ipython-input-50-51fec83cfd6e>\u001b[0m in \u001b[0;36m<module>\u001b[0;34m\u001b[0m\n\u001b[0;32m----> 1\u001b[0;31m \u001b[0mx\u001b[0m\u001b[0;34m.\u001b[0m\u001b[0mpop\u001b[0m\u001b[0;34m(\u001b[0m\u001b[0;34m)\u001b[0m \u001b[0;31m# 딕셔너리는 내부에 순서 X\u001b[0m\u001b[0;34m\u001b[0m\u001b[0;34m\u001b[0m\u001b[0m\n\u001b[0m",
            "\u001b[0;31mTypeError\u001b[0m: pop expected at least 1 argument, got 0"
          ]
        }
      ]
    },
    {
      "cell_type": "code",
      "source": [
        "x.pop('f')"
      ],
      "metadata": {
        "colab": {
          "base_uri": "https://localhost:8080/",
          "height": 173
        },
        "id": "j6bOU-pLoA-Z",
        "outputId": "a5b906a9-e184-4d53-a5f8-5acced110e7e"
      },
      "execution_count": 51,
      "outputs": [
        {
          "output_type": "error",
          "ename": "KeyError",
          "evalue": "ignored",
          "traceback": [
            "\u001b[0;31m---------------------------------------------------------------------------\u001b[0m",
            "\u001b[0;31mKeyError\u001b[0m                                  Traceback (most recent call last)",
            "\u001b[0;32m<ipython-input-51-9f7f4de3e911>\u001b[0m in \u001b[0;36m<module>\u001b[0;34m\u001b[0m\n\u001b[0;32m----> 1\u001b[0;31m \u001b[0mx\u001b[0m\u001b[0;34m.\u001b[0m\u001b[0mpop\u001b[0m\u001b[0;34m(\u001b[0m\u001b[0;34m'f'\u001b[0m\u001b[0;34m)\u001b[0m\u001b[0;34m\u001b[0m\u001b[0;34m\u001b[0m\u001b[0m\n\u001b[0m",
            "\u001b[0;31mKeyError\u001b[0m: 'f'"
          ]
        }
      ]
    },
    {
      "cell_type": "code",
      "source": [
        "x.pop('f',0) # 기본값 지정 시 오류가 나지 않음!"
      ],
      "metadata": {
        "colab": {
          "base_uri": "https://localhost:8080/"
        },
        "id": "wWKCcL1RoCsf",
        "outputId": "e255e789-8dde-4684-c232-cde2d594fca2"
      },
      "execution_count": 53,
      "outputs": [
        {
          "output_type": "execute_result",
          "data": {
            "text/plain": [
              "0"
            ]
          },
          "metadata": {},
          "execution_count": 53
        }
      ]
    },
    {
      "cell_type": "code",
      "source": [
        "print(x)\n",
        "x.clear()\n",
        "print(x)"
      ],
      "metadata": {
        "colab": {
          "base_uri": "https://localhost:8080/"
        },
        "id": "xc_twhWqoKZk",
        "outputId": "7f7a4ebf-7cf3-429e-bc58-d5c326a5c1e4"
      },
      "execution_count": 54,
      "outputs": [
        {
          "output_type": "stream",
          "name": "stdout",
          "text": [
            "{'b': 40, 'c': 30, 'd': 40, 'e': 200, 1: 200}\n",
            "{}\n"
          ]
        }
      ]
    },
    {
      "cell_type": "code",
      "source": [
        "x = {\"a\":10, \"b\":20, \"c\":30, \"d\":40}\n",
        "x"
      ],
      "metadata": {
        "colab": {
          "base_uri": "https://localhost:8080/"
        },
        "id": "rsTkRLQEoPxb",
        "outputId": "fa3c38e6-1adf-44aa-c3cb-2c0c55954d43"
      },
      "execution_count": 55,
      "outputs": [
        {
          "output_type": "execute_result",
          "data": {
            "text/plain": [
              "{'a': 10, 'b': 20, 'c': 30, 'd': 40}"
            ]
          },
          "metadata": {},
          "execution_count": 55
        }
      ]
    },
    {
      "cell_type": "code",
      "source": [
        "for i in x:\n",
        "  print(i) # 키값\n",
        "  print(x[i]) # 키값"
      ],
      "metadata": {
        "colab": {
          "base_uri": "https://localhost:8080/"
        },
        "id": "tXmiqYOvoQaH",
        "outputId": "ef16d3db-b989-46cd-8e14-a13824a01dfb"
      },
      "execution_count": 58,
      "outputs": [
        {
          "output_type": "stream",
          "name": "stdout",
          "text": [
            "a\n",
            "10\n",
            "b\n",
            "20\n",
            "c\n",
            "30\n",
            "d\n",
            "40\n"
          ]
        }
      ]
    },
    {
      "cell_type": "code",
      "source": [
        "for i in x.items():\n",
        "  # (키, 값) 쌍으로 전달 받게 됨\n",
        "  print(i)"
      ],
      "metadata": {
        "colab": {
          "base_uri": "https://localhost:8080/"
        },
        "id": "uig817exobYd",
        "outputId": "1325dda6-3be7-4834-ac38-cb6a05f0db01"
      },
      "execution_count": 60,
      "outputs": [
        {
          "output_type": "stream",
          "name": "stdout",
          "text": [
            "('a', 10)\n",
            "('b', 20)\n",
            "('c', 30)\n",
            "('d', 40)\n"
          ]
        }
      ]
    },
    {
      "cell_type": "code",
      "source": [
        "for k, v in x.items():\n",
        "  print(f\"key: {k}\")\n",
        "  print(f\"value: {v}\")"
      ],
      "metadata": {
        "colab": {
          "base_uri": "https://localhost:8080/"
        },
        "id": "uB1hz_oRohR9",
        "outputId": "02353faf-cf40-4518-80f8-9b95dc673f7c"
      },
      "execution_count": 61,
      "outputs": [
        {
          "output_type": "stream",
          "name": "stdout",
          "text": [
            "key: a\n",
            "value: 10\n",
            "key: b\n",
            "value: 20\n",
            "key: c\n",
            "value: 30\n",
            "key: d\n",
            "value: 40\n"
          ]
        }
      ]
    },
    {
      "cell_type": "code",
      "source": [
        "for v in x.values(): # 키를 가져오고 싶으면 keys() 메소드 사용\n",
        "  print(f\"value: {v}\")"
      ],
      "metadata": {
        "colab": {
          "base_uri": "https://localhost:8080/"
        },
        "id": "IS1ute-7ortr",
        "outputId": "2a7249c1-5f62-4ea9-c4a5-34aecf6022e5"
      },
      "execution_count": 64,
      "outputs": [
        {
          "output_type": "stream",
          "name": "stdout",
          "text": [
            "value: 10\n",
            "value: 20\n",
            "value: 30\n",
            "value: 40\n"
          ]
        }
      ]
    },
    {
      "cell_type": "code",
      "source": [
        "lesson = {\n",
        "    \"과목\" : {\n",
        "        \"자바\" : {\n",
        "            \"버전\": 1.8\n",
        "        },\n",
        "        \"파이썬\": {\n",
        "            \"버전\": 3.9\n",
        "        },\n",
        "        \"자바스크립트\": {\n",
        "            \"버전\": \"es6\"\n",
        "        }\n",
        "    }\n",
        "}\n",
        "\n",
        "lesson"
      ],
      "metadata": {
        "colab": {
          "base_uri": "https://localhost:8080/"
        },
        "id": "i3_NLzG8pINu",
        "outputId": "31f19b4a-5674-4747-eedd-8bdefb7174ca"
      },
      "execution_count": 65,
      "outputs": [
        {
          "output_type": "execute_result",
          "data": {
            "text/plain": [
              "{'과목': {'자바': {'버전': 1.8}, '파이썬': {'버전': 3.9}, '자바스크립트': {'버전': 'es6'}}}"
            ]
          },
          "metadata": {},
          "execution_count": 65
        }
      ]
    },
    {
      "cell_type": "code",
      "source": [
        "lesson[\"과목\"][\"파이썬\"][\"버전\"]"
      ],
      "metadata": {
        "colab": {
          "base_uri": "https://localhost:8080/"
        },
        "id": "6-wX0usjpUty",
        "outputId": "0c78caa3-6040-456b-9cad-a62fe3f6eff6"
      },
      "execution_count": 66,
      "outputs": [
        {
          "output_type": "execute_result",
          "data": {
            "text/plain": [
              "3.9"
            ]
          },
          "metadata": {},
          "execution_count": 66
        }
      ]
    },
    {
      "cell_type": "code",
      "source": [
        "lesson[\"과목\"][\"파이썬\"][\"버전\"] = '3.10'"
      ],
      "metadata": {
        "id": "Z0rlz3kUpXk_"
      },
      "execution_count": 67,
      "outputs": []
    },
    {
      "cell_type": "code",
      "source": [
        "lesson"
      ],
      "metadata": {
        "colab": {
          "base_uri": "https://localhost:8080/"
        },
        "id": "Q2uG8K-wpZoQ",
        "outputId": "eae56c7c-8088-472b-9742-328e21a7d90d"
      },
      "execution_count": 68,
      "outputs": [
        {
          "output_type": "execute_result",
          "data": {
            "text/plain": [
              "{'과목': {'자바': {'버전': 1.8}, '파이썬': {'버전': '3.10'}, '자바스크립트': {'버전': 'es6'}}}"
            ]
          },
          "metadata": {},
          "execution_count": 68
        }
      ]
    },
    {
      "cell_type": "markdown",
      "source": [
        "## 함수"
      ],
      "metadata": {
        "id": "LfHqkdiPpawz"
      }
    },
    {
      "cell_type": "code",
      "source": [
        "import random\n",
        "\n",
        "subjects = [\n",
        "    \"여러분, 취업 준비하셔야해요!\",\n",
        "    \"자격증은 스터디 짜셨어요?\",\n",
        "    \"왜 깃허브에 회고 안 돌려요?\",\n",
        "    \"사람들이 왜 자꾸 나갈까요...\"\n",
        "]\n",
        "\n",
        "\n",
        "def study(): #상위 모듈\n",
        "  energy = random.randint(1,10) # 끝점 포함\n",
        "  print(hello(energy)) # 하위모듈\n",
        "  energy -= 1\n",
        "  # random.choices(뽑히는 대상-모집단, k=뽑는 수)\n",
        "  choice = random.choices(subjects, k = 2 ) # 몇개 뽑는지 k\n",
        "  chat(energy,*choices) # 리스트 언패킹\n",
        "  lecture()\n",
        "  chat()\n",
        "  bye()\n",
        "\n",
        "# def hello():\n",
        "#   return \"좋은 아침입니다 여러분\"\n",
        "\n",
        "def hello(energy=5):\n",
        "  # 0 ~ 10\n",
        "  if energy == 10:\n",
        "    return \"여러분! 오늘 제가 커피 쏠까요?\" # return => 더이상 뒤로 진행 X\n",
        "  if energy > 5:\n",
        "    return \"^_^;;;; 오늘 점심메뉴 알려드릴까욥?\"\n",
        "  return \"...\"\n",
        "\n",
        "def chat():\n",
        "  pass\n",
        "\n",
        "def lecture():\n",
        "  pass\n",
        "\n",
        "def bye():\n",
        "  pass"
      ],
      "metadata": {
        "id": "VsQfRlxloviD"
      },
      "execution_count": 82,
      "outputs": []
    },
    {
      "cell_type": "code",
      "source": [
        "def chat(repeat, *args):\n",
        "  for i in range(repeat):\n",
        "    print(f\"제가 {i}번째 이야기하는 것 같은뎁\")\n",
        "    for j in args:\n",
        "      print(j)"
      ],
      "metadata": {
        "id": "2h_iYV-Urplc"
      },
      "execution_count": 81,
      "outputs": []
    },
    {
      "cell_type": "code",
      "source": [
        "study()"
      ],
      "metadata": {
        "colab": {
          "base_uri": "https://localhost:8080/"
        },
        "id": "0bhVk2AWqa2J",
        "outputId": "c7b68830-3a14-4764-eea2-f2d753bd4f08"
      },
      "execution_count": 79,
      "outputs": [
        {
          "output_type": "stream",
          "name": "stdout",
          "text": [
            "여러분! 오늘 제가 커피 쏠까요?\n"
          ]
        }
      ]
    },
    {
      "cell_type": "code",
      "source": [
        "# review"
      ],
      "metadata": {
        "id": "jbqwuh3fogB6"
      },
      "execution_count": null,
      "outputs": []
    },
    {
      "cell_type": "code",
      "execution_count": null,
      "metadata": {
        "id": "69WO43QlpgSj"
      },
      "outputs": [],
      "source": [
        "import random\n",
        "\n",
        "subjects = [\n",
        "    \"여러분, 취업 준비하셔야해요!\",\n",
        "    \"자격증은 스터디 짜셨어요?\",\n",
        "    \"왜 깃허브에 회고 안 올려요??\",\n",
        "    \"사람들이 왜 자꾸 나가지 ㅠㅠ\",\n",
        "    \"오늘 주식은 많이 오르지 않네요\",\n",
        "]\n",
        "learning = {\n",
        "    \"문자열\": \"split, replace...\",\n",
        "    \"리스트\": \"append, extend...\",\n",
        "    \"딕셔너리\": \"get, update...\"\n",
        "}\n",
        "\n",
        "def study(): # 상위모듈\n",
        "    energy = random.randint(1, 10)\n",
        "    print(hello(energy)) # 하위모듈\n",
        "    energy -= 1\n",
        "    # random.choices(뽑히는 대상-모집단, k=뽑는수)\n",
        "    chat(energy, *subjects, k=2) # * 리스트 언패킹\n",
        "    lecture(**learning)\n",
        "    print(*bye(), sep=' ')\n",
        "\n",
        "# def hello():\n",
        "#     return \"좋은 아침입니다 여러분\"\n",
        "\n",
        "# def chat(repeat, *args):\n",
        "#     pass\n",
        "\n",
        "# def lecture():\n",
        "#     pass\n",
        "\n",
        "def bye():\n",
        "    return \"10분 쉬겠습니다\", \"PR 보내주세요\""
      ]
    },
    {
      "cell_type": "code",
      "source": [
        "def hello(energy=5):\n",
        "    # 0 ~ 10\n",
        "    if energy == 10:\n",
        "        return \"여러분! 오늘 제가 커피 쏠까요?\" # return -> 더 이상 뒤로 진행 X\n",
        "    if energy >= 5:\n",
        "        return \"^_^ 오늘 점심메뉴 알려드릴까요?\"\n",
        "    return \"... (무표정)\""
      ],
      "metadata": {
        "id": "RU4582E9qfAF"
      },
      "execution_count": null,
      "outputs": []
    },
    {
      "cell_type": "code",
      "source": [
        "def chat(repeat, *args, k=2):\n",
        "    for i in range(repeat):\n",
        "        print(f\"* 제가 {i+1}번째 이야기하는 것 같은데...\")\n",
        "        # for j in args:\n",
        "        #     print(j)\n",
        "        choices = random.choices(args, k=k)\n",
        "        for j in choices:\n",
        "            print(f\"** {j}\")"
      ],
      "metadata": {
        "id": "0b1NZet5rmVo"
      },
      "execution_count": null,
      "outputs": []
    },
    {
      "cell_type": "code",
      "source": [
        "def lecture(**kwargs):\n",
        "    # for k, v in kwargs.items():\n",
        "    #     print('*** 자, 진도 나가겠습니다')\n",
        "    #     print(f'*** {k}에서 {v}를 배워봅시다')\n",
        "    for i, (k, v) in enumerate(kwargs.items()):\n",
        "        print(f'*** 자, 진도 {i+1}번째 나가겠습니다')\n",
        "        print(f'*** {k}에서 {v}를 배워봅시다')"
      ],
      "metadata": {
        "id": "Dg2GC9Futi74"
      },
      "execution_count": null,
      "outputs": []
    },
    {
      "cell_type": "code",
      "source": [
        "study()"
      ],
      "metadata": {
        "colab": {
          "base_uri": "https://localhost:8080/"
        },
        "id": "f1T2hTAFqRfm",
        "outputId": "c3b14e48-5af6-48e3-eed2-91f6e4ae8f90"
      },
      "execution_count": null,
      "outputs": [
        {
          "output_type": "stream",
          "name": "stdout",
          "text": [
            "^_^ 오늘 점심메뉴 알려드릴까요?\n",
            "* 제가 1번째 이야기하는 것 같은데...\n",
            "** 여러분, 취업 준비하셔야해요!\n",
            "** 자격증은 스터디 짜셨어요?\n",
            "* 제가 2번째 이야기하는 것 같은데...\n",
            "** 자격증은 스터디 짜셨어요?\n",
            "** 왜 깃허브에 회고 안 올려요??\n",
            "* 제가 3번째 이야기하는 것 같은데...\n",
            "** 오늘 주식은 많이 오르지 않네요\n",
            "** 사람들이 왜 자꾸 나가지 ㅠㅠ\n",
            "* 제가 4번째 이야기하는 것 같은데...\n",
            "** 자격증은 스터디 짜셨어요?\n",
            "** 오늘 주식은 많이 오르지 않네요\n",
            "*** 자, 진도 1번째 나가겠습니다\n",
            "*** 문자열에서 split, replace...를 배워봅시다\n",
            "*** 자, 진도 2번째 나가겠습니다\n",
            "*** 리스트에서 append, extend...를 배워봅시다\n",
            "*** 자, 진도 3번째 나가겠습니다\n",
            "*** 딕셔너리에서 get, update...를 배워봅시다\n",
            "10분 쉬겠습니다 PR 보내주세요\n"
          ]
        }
      ]
    }
  ]
}