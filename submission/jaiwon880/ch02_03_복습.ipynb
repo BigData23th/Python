{
  "nbformat": 4,
  "nbformat_minor": 0,
  "metadata": {
    "colab": {
      "provenance": [],
      "authorship_tag": "ABX9TyOFq0yN4VEA6j2xXS6hJb0F",
      "include_colab_link": true
    },
    "kernelspec": {
      "name": "python3",
      "display_name": "Python 3"
    },
    "language_info": {
      "name": "python"
    },
    "accelerator": "GPU",
    "gpuClass": "standard"
  },
  "cells": [
    {
      "cell_type": "markdown",
      "metadata": {
        "id": "view-in-github",
        "colab_type": "text"
      },
      "source": [
        "<a href=\"https://colab.research.google.com/github/jaiwon880/Python_bd23_hjw/blob/main/submission/jaiwon880/ch02_03_%EB%B3%B5%EC%8A%B5.ipynb\" target=\"_parent\"><img src=\"https://colab.research.google.com/assets/colab-badge.svg\" alt=\"Open In Colab\"/></a>"
      ]
    },
    {
      "cell_type": "markdown",
      "source": [
        "## 리스트 응용"
      ],
      "metadata": {
        "id": "XgMNCrLHR4pF"
      }
    },
    {
      "cell_type": "code",
      "source": [
        "country = [] # 빈 리스트"
      ],
      "metadata": {
        "id": "vG1Rd8AOR63-"
      },
      "execution_count": 1,
      "outputs": []
    },
    {
      "cell_type": "code",
      "source": [
        "country.append(\"대한민국\")\n",
        "country"
      ],
      "metadata": {
        "colab": {
          "base_uri": "https://localhost:8080/",
          "height": 0
        },
        "id": "AjmnJmWwTTjP",
        "outputId": "dd951820-e7a7-40c9-829a-078973fac95f"
      },
      "execution_count": 2,
      "outputs": [
        {
          "output_type": "execute_result",
          "data": {
            "text/plain": [
              "['대한민국']"
            ]
          },
          "metadata": {},
          "execution_count": 2
        }
      ]
    },
    {
      "cell_type": "code",
      "source": [
        "country2 = [\"중국\"]\n"
      ],
      "metadata": {
        "id": "Rea6mjJMTdiT"
      },
      "execution_count": 3,
      "outputs": []
    },
    {
      "cell_type": "code",
      "source": [
        "country + country2, country"
      ],
      "metadata": {
        "colab": {
          "base_uri": "https://localhost:8080/",
          "height": 0
        },
        "id": "KNNhkxH4TjaB",
        "outputId": "db13b853-d9cd-424a-c244-dbd49a7a1819"
      },
      "execution_count": 5,
      "outputs": [
        {
          "output_type": "execute_result",
          "data": {
            "text/plain": [
              "(['대한민국', '중국'], ['대한민국'])"
            ]
          },
          "metadata": {},
          "execution_count": 5
        }
      ]
    },
    {
      "cell_type": "code",
      "source": [
        "country += country2\n",
        "country"
      ],
      "metadata": {
        "colab": {
          "base_uri": "https://localhost:8080/",
          "height": 0
        },
        "id": "b03KkYDHTrM4",
        "outputId": "bef7c881-6470-435e-c6a1-c9edd7db3229"
      },
      "execution_count": 6,
      "outputs": [
        {
          "output_type": "execute_result",
          "data": {
            "text/plain": [
              "['대한민국', '중국']"
            ]
          },
          "metadata": {},
          "execution_count": 6
        }
      ]
    },
    {
      "cell_type": "code",
      "source": [
        "country3 = [\"일본\"]\n",
        "country3"
      ],
      "metadata": {
        "colab": {
          "base_uri": "https://localhost:8080/",
          "height": 0
        },
        "id": "hwFsSlGRTyra",
        "outputId": "4d7d8356-9e55-481f-b51d-2a0a426d5ef6"
      },
      "execution_count": 7,
      "outputs": [
        {
          "output_type": "execute_result",
          "data": {
            "text/plain": [
              "['일본']"
            ]
          },
          "metadata": {},
          "execution_count": 7
        }
      ]
    },
    {
      "cell_type": "code",
      "source": [
        "country.extend(country3) # 반복적으로 추가\n",
        "country"
      ],
      "metadata": {
        "colab": {
          "base_uri": "https://localhost:8080/",
          "height": 0
        },
        "id": "e6MPookJT4Ov",
        "outputId": "a719d42f-a5ba-489e-d9d0-a34cc4047755"
      },
      "execution_count": 8,
      "outputs": [
        {
          "output_type": "execute_result",
          "data": {
            "text/plain": [
              "['대한민국', '중국', '일본']"
            ]
          },
          "metadata": {},
          "execution_count": 8
        }
      ]
    },
    {
      "cell_type": "code",
      "source": [
        "country4 = [\"프랑스\", \"영국\", \"독일\"]\n",
        "country.extend(country4)\n",
        "country"
      ],
      "metadata": {
        "colab": {
          "base_uri": "https://localhost:8080/",
          "height": 0
        },
        "id": "i9M89NTkT-8f",
        "outputId": "cd4ef893-a6de-4f7d-c72b-b34a57360e5a"
      },
      "execution_count": 10,
      "outputs": [
        {
          "output_type": "execute_result",
          "data": {
            "text/plain": [
              "['대한민국', '중국', '일본', '프랑스', '영국', '독일', '프랑스', '영국', '독일']"
            ]
          },
          "metadata": {},
          "execution_count": 10
        }
      ]
    },
    {
      "cell_type": "code",
      "source": [
        "country.append(\"케냐\")\n",
        "country"
      ],
      "metadata": {
        "colab": {
          "base_uri": "https://localhost:8080/",
          "height": 0
        },
        "id": "VXT5ocoAUH1D",
        "outputId": "f26042d3-a26b-4180-a48d-37104f16fde2"
      },
      "execution_count": 11,
      "outputs": [
        {
          "output_type": "execute_result",
          "data": {
            "text/plain": [
              "['대한민국', '중국', '일본', '프랑스', '영국', '독일', '프랑스', '영국', '독일', '케냐']"
            ]
          },
          "metadata": {},
          "execution_count": 11
        }
      ]
    },
    {
      "cell_type": "code",
      "source": [
        "country.insert(0, \"브라질\") # 인덱스\n",
        "country"
      ],
      "metadata": {
        "colab": {
          "base_uri": "https://localhost:8080/",
          "height": 0
        },
        "id": "3l1bkUSCUVXe",
        "outputId": "ed2467e5-31ba-40ae-b3e5-1ecae3d71b82"
      },
      "execution_count": 12,
      "outputs": [
        {
          "output_type": "execute_result",
          "data": {
            "text/plain": [
              "['브라질', '대한민국', '중국', '일본', '프랑스', '영국', '독일', '프랑스', '영국', '독일', '케냐']"
            ]
          },
          "metadata": {},
          "execution_count": 12
        }
      ]
    },
    {
      "cell_type": "code",
      "source": [
        "country.insert(2, \"아르헨티나\") # 인덱스\n",
        "country"
      ],
      "metadata": {
        "colab": {
          "base_uri": "https://localhost:8080/",
          "height": 0
        },
        "id": "OU2FXRBaUcXQ",
        "outputId": "2f45e425-21a4-45d2-99ed-07eaba8df8a5"
      },
      "execution_count": 13,
      "outputs": [
        {
          "output_type": "execute_result",
          "data": {
            "text/plain": [
              "['브라질',\n",
              " '대한민국',\n",
              " '아르헨티나',\n",
              " '중국',\n",
              " '일본',\n",
              " '프랑스',\n",
              " '영국',\n",
              " '독일',\n",
              " '프랑스',\n",
              " '영국',\n",
              " '독일',\n",
              " '케냐']"
            ]
          },
          "metadata": {},
          "execution_count": 13
        }
      ]
    },
    {
      "cell_type": "code",
      "source": [
        "country[4:4] = [\"미국\",\"캐나다\",\"멕시코\"]"
      ],
      "metadata": {
        "id": "7h6GMAp-UGDP"
      },
      "execution_count": 14,
      "outputs": []
    },
    {
      "cell_type": "code",
      "source": [
        "country"
      ],
      "metadata": {
        "colab": {
          "base_uri": "https://localhost:8080/",
          "height": 0
        },
        "id": "lo2DMIpgU18q",
        "outputId": "b98e2208-bdad-49f8-8e48-7ea65380f3dd"
      },
      "execution_count": 15,
      "outputs": [
        {
          "output_type": "execute_result",
          "data": {
            "text/plain": [
              "['브라질',\n",
              " '대한민국',\n",
              " '아르헨티나',\n",
              " '중국',\n",
              " '미국',\n",
              " '캐나다',\n",
              " '멕시코',\n",
              " '일본',\n",
              " '프랑스',\n",
              " '영국',\n",
              " '독일',\n",
              " '프랑스',\n",
              " '영국',\n",
              " '독일',\n",
              " '케냐']"
            ]
          },
          "metadata": {},
          "execution_count": 15
        }
      ]
    },
    {
      "cell_type": "code",
      "source": [
        "country.pop()\n",
        "country"
      ],
      "metadata": {
        "colab": {
          "base_uri": "https://localhost:8080/",
          "height": 0
        },
        "id": "O5wgf5vOU3yi",
        "outputId": "86923b94-0319-494b-bab1-f8b3a8c3492f"
      },
      "execution_count": 16,
      "outputs": [
        {
          "output_type": "execute_result",
          "data": {
            "text/plain": [
              "['브라질',\n",
              " '대한민국',\n",
              " '아르헨티나',\n",
              " '중국',\n",
              " '미국',\n",
              " '캐나다',\n",
              " '멕시코',\n",
              " '일본',\n",
              " '프랑스',\n",
              " '영국',\n",
              " '독일',\n",
              " '프랑스',\n",
              " '영국',\n",
              " '독일']"
            ]
          },
          "metadata": {},
          "execution_count": 16
        }
      ]
    },
    {
      "cell_type": "code",
      "source": [
        "print(country[-1])\n",
        "del country[-1]"
      ],
      "metadata": {
        "colab": {
          "base_uri": "https://localhost:8080/",
          "height": 0
        },
        "id": "t0xi1ydWVqmL",
        "outputId": "bd427d4c-2d8f-49de-fe5c-46ece3c4b09a"
      },
      "execution_count": 17,
      "outputs": [
        {
          "output_type": "stream",
          "name": "stdout",
          "text": [
            "독일\n"
          ]
        }
      ]
    },
    {
      "cell_type": "code",
      "source": [
        "country # 최근 해외여행 발권 리스트\n",
        "# 환불해 줘!\n",
        "country.pop()"
      ],
      "metadata": {
        "colab": {
          "base_uri": "https://localhost:8080/",
          "height": 35
        },
        "id": "sHCjMO-MV0nk",
        "outputId": "b4421a7c-ed87-435e-d09b-4c982d4de40b"
      },
      "execution_count": 18,
      "outputs": [
        {
          "output_type": "execute_result",
          "data": {
            "text/plain": [
              "'영국'"
            ],
            "application/vnd.google.colaboratory.intrinsic+json": {
              "type": "string"
            }
          },
          "metadata": {},
          "execution_count": 18
        }
      ]
    },
    {
      "cell_type": "code",
      "source": [
        "recent = country.pop(1) \n",
        "recent, country # 인덱스로 만 구성, 리스트는 인덱스와 valu"
      ],
      "metadata": {
        "colab": {
          "base_uri": "https://localhost:8080/",
          "height": 0
        },
        "id": "sU-uFWtZWpNa",
        "outputId": "35cadd99-016a-490d-db01-c768982e0733"
      },
      "execution_count": 20,
      "outputs": [
        {
          "output_type": "execute_result",
          "data": {
            "text/plain": [
              "('아르헨티나', ['브라질', '중국', '미국', '캐나다', '멕시코', '일본', '프랑스', '영국', '독일', '프랑스'])"
            ]
          },
          "metadata": {},
          "execution_count": 20
        }
      ]
    },
    {
      "cell_type": "code",
      "source": [
        "country.remove(\"중국\")\n",
        "country"
      ],
      "metadata": {
        "colab": {
          "base_uri": "https://localhost:8080/",
          "height": 0
        },
        "id": "CQW4sPnwW_MM",
        "outputId": "87e8dcf3-66b4-46bb-8853-16890742e5cc"
      },
      "execution_count": 21,
      "outputs": [
        {
          "output_type": "execute_result",
          "data": {
            "text/plain": [
              "['브라질', '미국', '캐나다', '멕시코', '일본', '프랑스', '영국', '독일', '프랑스']"
            ]
          },
          "metadata": {},
          "execution_count": 21
        }
      ]
    },
    {
      "cell_type": "markdown",
      "source": [
        "* remove는 단지 지움. 반환값이 안 나옴\n",
        "* pop은 반환값이 나옴!"
      ],
      "metadata": {
        "id": "L7dnTbHjXLnV"
      }
    },
    {
      "cell_type": "code",
      "source": [
        "country.insert(2, \"독일\")\n",
        "country.append(\"독일\")\n",
        "country"
      ],
      "metadata": {
        "colab": {
          "base_uri": "https://localhost:8080/",
          "height": 0
        },
        "id": "gnTOGejJW-Wy",
        "outputId": "3a4676a9-14a8-4d2b-a3d7-d16e47c58d29"
      },
      "execution_count": 22,
      "outputs": [
        {
          "output_type": "execute_result",
          "data": {
            "text/plain": [
              "['브라질', '미국', '독일', '캐나다', '멕시코', '일본', '프랑스', '영국', '독일', '프랑스', '독일']"
            ]
          },
          "metadata": {},
          "execution_count": 22
        }
      ]
    },
    {
      "cell_type": "code",
      "source": [
        "country.remove(\"독일\")\n",
        "country"
      ],
      "metadata": {
        "colab": {
          "base_uri": "https://localhost:8080/",
          "height": 0
        },
        "id": "VTz5L8_8Xtne",
        "outputId": "9d6ea60a-1638-4cf8-d991-4d8f397badf4"
      },
      "execution_count": 23,
      "outputs": [
        {
          "output_type": "execute_result",
          "data": {
            "text/plain": [
              "['브라질', '미국', '캐나다', '멕시코', '일본', '프랑스', '영국', '독일', '프랑스', '독일']"
            ]
          },
          "metadata": {},
          "execution_count": 23
        }
      ]
    },
    {
      "cell_type": "code",
      "source": [
        "# 리스트 안의 누락이 되었을 때 추가하려면?\n",
        "country.index(\"캐나다\")"
      ],
      "metadata": {
        "colab": {
          "base_uri": "https://localhost:8080/",
          "height": 0
        },
        "id": "9iFGdVwmX3x7",
        "outputId": "ec5f98b8-aa8c-42d0-9d77-19306dfe6ea1"
      },
      "execution_count": 24,
      "outputs": [
        {
          "output_type": "execute_result",
          "data": {
            "text/plain": [
              "2"
            ]
          },
          "metadata": {},
          "execution_count": 24
        }
      ]
    },
    {
      "cell_type": "code",
      "source": [
        "country.insert(2,\"미국\")"
      ],
      "metadata": {
        "id": "DkfJfzUZYMU4"
      },
      "execution_count": 25,
      "outputs": []
    },
    {
      "cell_type": "code",
      "source": [
        "country"
      ],
      "metadata": {
        "colab": {
          "base_uri": "https://localhost:8080/",
          "height": 0
        },
        "id": "xmtet0T7YOd7",
        "outputId": "2884df30-e987-421b-fe52-870759c02758"
      },
      "execution_count": 26,
      "outputs": [
        {
          "output_type": "execute_result",
          "data": {
            "text/plain": [
              "['브라질', '미국', '미국', '캐나다', '멕시코', '일본', '프랑스', '영국', '독일', '프랑스', '독일']"
            ]
          },
          "metadata": {},
          "execution_count": 26
        }
      ]
    },
    {
      "cell_type": "code",
      "source": [
        "country.extend([\"몰디브\"] * 10)"
      ],
      "metadata": {
        "id": "ocjg3YhWYO9u"
      },
      "execution_count": 27,
      "outputs": []
    },
    {
      "cell_type": "code",
      "source": [
        "country"
      ],
      "metadata": {
        "colab": {
          "base_uri": "https://localhost:8080/",
          "height": 0
        },
        "id": "lb9KVDo6YlWC",
        "outputId": "04ecb466-25c7-43f9-d86c-609d71a7e9e0"
      },
      "execution_count": 28,
      "outputs": [
        {
          "output_type": "execute_result",
          "data": {
            "text/plain": [
              "['브라질',\n",
              " '미국',\n",
              " '미국',\n",
              " '캐나다',\n",
              " '멕시코',\n",
              " '일본',\n",
              " '프랑스',\n",
              " '영국',\n",
              " '독일',\n",
              " '프랑스',\n",
              " '독일',\n",
              " '몰디브',\n",
              " '몰디브',\n",
              " '몰디브',\n",
              " '몰디브',\n",
              " '몰디브',\n",
              " '몰디브',\n",
              " '몰디브',\n",
              " '몰디브',\n",
              " '몰디브',\n",
              " '몰디브']"
            ]
          },
          "metadata": {},
          "execution_count": 28
        }
      ]
    },
    {
      "cell_type": "code",
      "source": [
        "import random\n",
        "random.randint(1, 20)"
      ],
      "metadata": {
        "colab": {
          "base_uri": "https://localhost:8080/",
          "height": 0
        },
        "id": "E6F6m5xKYmuK",
        "outputId": "e59e5c6b-0b40-491c-a6d8-df616a2fcf93"
      },
      "execution_count": 32,
      "outputs": [
        {
          "output_type": "execute_result",
          "data": {
            "text/plain": [
              "14"
            ]
          },
          "metadata": {},
          "execution_count": 32
        }
      ]
    },
    {
      "cell_type": "code",
      "source": [
        "country.extend([\"괌\"] * random.randint(50,200))\n",
        "country"
      ],
      "metadata": {
        "colab": {
          "base_uri": "https://localhost:8080/",
          "height": 0
        },
        "id": "exXEpycPYuA4",
        "outputId": "c494b56e-0938-49d7-d629-ef17a8f5064a"
      },
      "execution_count": 35,
      "outputs": [
        {
          "output_type": "execute_result",
          "data": {
            "text/plain": [
              "['브라질',\n",
              " '미국',\n",
              " '미국',\n",
              " '캐나다',\n",
              " '멕시코',\n",
              " '일본',\n",
              " '프랑스',\n",
              " '영국',\n",
              " '독일',\n",
              " '프랑스',\n",
              " '독일',\n",
              " '몰디브',\n",
              " '몰디브',\n",
              " '몰디브',\n",
              " '몰디브',\n",
              " '몰디브',\n",
              " '몰디브',\n",
              " '몰디브',\n",
              " '몰디브',\n",
              " '몰디브',\n",
              " '몰디브',\n",
              " '괌',\n",
              " '괌',\n",
              " '괌',\n",
              " '괌',\n",
              " '괌',\n",
              " '괌',\n",
              " '괌',\n",
              " '괌',\n",
              " '괌',\n",
              " '괌',\n",
              " '괌',\n",
              " '괌',\n",
              " '괌',\n",
              " '괌',\n",
              " '괌',\n",
              " '괌',\n",
              " '괌',\n",
              " '괌',\n",
              " '괌',\n",
              " '괌',\n",
              " '괌',\n",
              " '괌',\n",
              " '괌',\n",
              " '괌',\n",
              " '괌',\n",
              " '괌',\n",
              " '괌',\n",
              " '괌',\n",
              " '괌',\n",
              " '괌',\n",
              " '괌',\n",
              " '괌',\n",
              " '괌',\n",
              " '괌',\n",
              " '괌',\n",
              " '괌',\n",
              " '괌',\n",
              " '괌',\n",
              " '괌',\n",
              " '괌',\n",
              " '괌',\n",
              " '괌',\n",
              " '괌',\n",
              " '괌',\n",
              " '괌',\n",
              " '괌',\n",
              " '괌',\n",
              " '괌',\n",
              " '괌',\n",
              " '괌',\n",
              " '괌',\n",
              " '괌',\n",
              " '괌',\n",
              " '괌',\n",
              " '괌',\n",
              " '괌',\n",
              " '괌',\n",
              " '괌',\n",
              " '괌',\n",
              " '괌',\n",
              " '괌',\n",
              " '괌',\n",
              " '괌',\n",
              " '괌',\n",
              " '괌',\n",
              " '괌',\n",
              " '괌',\n",
              " '괌',\n",
              " '괌',\n",
              " '괌',\n",
              " '괌',\n",
              " '괌',\n",
              " '괌',\n",
              " '괌',\n",
              " '괌',\n",
              " '괌',\n",
              " '괌',\n",
              " '괌',\n",
              " '괌',\n",
              " '괌',\n",
              " '괌',\n",
              " '괌',\n",
              " '괌',\n",
              " '괌',\n",
              " '괌',\n",
              " '괌',\n",
              " '괌',\n",
              " '괌',\n",
              " '괌',\n",
              " '괌',\n",
              " '괌',\n",
              " '괌',\n",
              " '괌',\n",
              " '괌',\n",
              " '괌',\n",
              " '괌',\n",
              " '괌',\n",
              " '괌',\n",
              " '괌',\n",
              " '괌',\n",
              " '괌',\n",
              " '괌']"
            ]
          },
          "metadata": {},
          "execution_count": 35
        }
      ]
    },
    {
      "cell_type": "code",
      "source": [
        "country.count(\"괌\")"
      ],
      "metadata": {
        "colab": {
          "base_uri": "https://localhost:8080/",
          "height": 0
        },
        "id": "Qhemm-v8Y7zT",
        "outputId": "f0ecdd6e-31ba-494e-8a91-0ef061cd9a52"
      },
      "execution_count": 38,
      "outputs": [
        {
          "output_type": "execute_result",
          "data": {
            "text/plain": [
              "102"
            ]
          },
          "metadata": {},
          "execution_count": 38
        }
      ]
    },
    {
      "cell_type": "code",
      "source": [
        "country = country[0:7:1]\n",
        "country"
      ],
      "metadata": {
        "colab": {
          "base_uri": "https://localhost:8080/",
          "height": 0
        },
        "id": "Vz_giIwoZIIk",
        "outputId": "35bb1a9f-2f56-405c-8793-b32f9d2ce653"
      },
      "execution_count": 40,
      "outputs": [
        {
          "output_type": "execute_result",
          "data": {
            "text/plain": [
              "['브라질', '미국', '미국', '캐나다', '멕시코', '일본', '프랑스']"
            ]
          },
          "metadata": {},
          "execution_count": 40
        }
      ]
    },
    {
      "cell_type": "code",
      "source": [
        "country.reverse()\n",
        "country # 원본에 영향을 미침"
      ],
      "metadata": {
        "colab": {
          "base_uri": "https://localhost:8080/",
          "height": 0
        },
        "id": "fA3BiMNjZMSl",
        "outputId": "b29f87ab-ba15-40ff-a4fa-0e480e966163"
      },
      "execution_count": 41,
      "outputs": [
        {
          "output_type": "execute_result",
          "data": {
            "text/plain": [
              "['프랑스', '일본', '멕시코', '캐나다', '미국', '미국', '브라질']"
            ]
          },
          "metadata": {},
          "execution_count": 41
        }
      ]
    },
    {
      "cell_type": "code",
      "source": [
        "list(reversed(country))"
      ],
      "metadata": {
        "colab": {
          "base_uri": "https://localhost:8080/",
          "height": 0
        },
        "id": "IH_zlwhKccQp",
        "outputId": "dcc791de-ddb2-464a-bd12-9fd9dab97085"
      },
      "execution_count": 42,
      "outputs": [
        {
          "output_type": "execute_result",
          "data": {
            "text/plain": [
              "['브라질', '미국', '미국', '캐나다', '멕시코', '일본', '프랑스']"
            ]
          },
          "metadata": {},
          "execution_count": 42
        }
      ]
    },
    {
      "cell_type": "code",
      "source": [
        "country[::-1]"
      ],
      "metadata": {
        "colab": {
          "base_uri": "https://localhost:8080/",
          "height": 0
        },
        "id": "uIiJ90dQZK1R",
        "outputId": "a0ddd17a-0d7e-4b77-8412-5ff2355c2ad0"
      },
      "execution_count": 44,
      "outputs": [
        {
          "output_type": "execute_result",
          "data": {
            "text/plain": [
              "['브라질', '미국', '미국', '캐나다', '멕시코', '일본', '프랑스']"
            ]
          },
          "metadata": {},
          "execution_count": 44
        }
      ]
    },
    {
      "cell_type": "markdown",
      "source": [
        "### 정렬(오름차순, 내림차순)\n",
        "* 데이터가 나열되는 방향으로 정렬된다는 것"
      ],
      "metadata": {
        "id": "IjaUk54_cxC9"
      }
    },
    {
      "cell_type": "code",
      "source": [
        "numbers = [random.randint(20, 200) for i in range(10)]\n",
        "numbers"
      ],
      "metadata": {
        "colab": {
          "base_uri": "https://localhost:8080/",
          "height": 0
        },
        "id": "TJ6CiTg2ducG",
        "outputId": "82db5021-9654-4b1b-a0b7-3bc339ddad3c"
      },
      "execution_count": 45,
      "outputs": [
        {
          "output_type": "execute_result",
          "data": {
            "text/plain": [
              "[74, 67, 159, 52, 124, 60, 178, 56, 22, 65]"
            ]
          },
          "metadata": {},
          "execution_count": 45
        }
      ]
    },
    {
      "cell_type": "code",
      "source": [
        "numbers2 = numbers.copy()\n",
        "numbers2"
      ],
      "metadata": {
        "colab": {
          "base_uri": "https://localhost:8080/",
          "height": 0
        },
        "id": "X_aMM6H5djf-",
        "outputId": "6f7da83b-95ef-4cbe-b2d8-19e7756cbce3"
      },
      "execution_count": 48,
      "outputs": [
        {
          "output_type": "execute_result",
          "data": {
            "text/plain": [
              "[74, 67, 159, 52, 124, 60, 178, 56, 22, 65]"
            ]
          },
          "metadata": {},
          "execution_count": 48
        }
      ]
    },
    {
      "cell_type": "code",
      "source": [
        "numbers2.sort() # 기본값은 reverse = False\n",
        "numbers2"
      ],
      "metadata": {
        "colab": {
          "base_uri": "https://localhost:8080/",
          "height": 0
        },
        "id": "QTSVW7Pbeqyv",
        "outputId": "fa2b746d-65fa-408e-f9f7-747f80d47589"
      },
      "execution_count": 51,
      "outputs": [
        {
          "output_type": "execute_result",
          "data": {
            "text/plain": [
              "[22, 52, 56, 60, 65, 67, 74, 124, 159, 178]"
            ]
          },
          "metadata": {},
          "execution_count": 51
        }
      ]
    },
    {
      "cell_type": "code",
      "source": [
        "sorted(numbers), numbers"
      ],
      "metadata": {
        "colab": {
          "base_uri": "https://localhost:8080/",
          "height": 0
        },
        "id": "LSBFiJJZepZh",
        "outputId": "fb4c0afc-1e73-4667-8227-8b69434cb660"
      },
      "execution_count": 52,
      "outputs": [
        {
          "output_type": "execute_result",
          "data": {
            "text/plain": [
              "([22, 52, 56, 60, 65, 67, 74, 124, 159, 178],\n",
              " [74, 67, 159, 52, 124, 60, 178, 56, 22, 65])"
            ]
          },
          "metadata": {},
          "execution_count": 52
        }
      ]
    },
    {
      "cell_type": "code",
      "source": [
        "numbers2.sort(reverse=True)\n",
        "numbers2"
      ],
      "metadata": {
        "colab": {
          "base_uri": "https://localhost:8080/",
          "height": 0
        },
        "id": "uOka8S6gel29",
        "outputId": "3571aec8-3a64-419a-ec51-6e6a921d2dcb"
      },
      "execution_count": 53,
      "outputs": [
        {
          "output_type": "execute_result",
          "data": {
            "text/plain": [
              "[178, 159, 124, 74, 67, 65, 60, 56, 52, 22]"
            ]
          },
          "metadata": {},
          "execution_count": 53
        }
      ]
    },
    {
      "cell_type": "code",
      "source": [
        "sorted(numbers, reverse=True), numbers"
      ],
      "metadata": {
        "colab": {
          "base_uri": "https://localhost:8080/",
          "height": 0
        },
        "id": "gDpoQQ2IdZrj",
        "outputId": "5fe23eb4-8822-42cc-c454-3f1718f50a05"
      },
      "execution_count": 54,
      "outputs": [
        {
          "output_type": "execute_result",
          "data": {
            "text/plain": [
              "([178, 159, 124, 74, 67, 65, 60, 56, 52, 22],\n",
              " [74, 67, 159, 52, 124, 60, 178, 56, 22, 65])"
            ]
          },
          "metadata": {},
          "execution_count": 54
        }
      ]
    },
    {
      "cell_type": "code",
      "source": [
        "sorted(country), sorted(country, reverse=True)"
      ],
      "metadata": {
        "colab": {
          "base_uri": "https://localhost:8080/",
          "height": 0
        },
        "id": "TWKDQOaBfVEO",
        "outputId": "b5726913-7c44-4c36-e0c0-c986e56a101f"
      },
      "execution_count": 57,
      "outputs": [
        {
          "output_type": "execute_result",
          "data": {
            "text/plain": [
              "(['멕시코', '미국', '미국', '브라질', '일본', '캐나다', '프랑스'],\n",
              " ['프랑스', '캐나다', '일본', '브라질', '미국', '미국', '멕시코'])"
            ]
          },
          "metadata": {},
          "execution_count": 57
        }
      ]
    },
    {
      "cell_type": "code",
      "source": [
        "country2 = country.copy()\n",
        "country2"
      ],
      "metadata": {
        "colab": {
          "base_uri": "https://localhost:8080/",
          "height": 0
        },
        "id": "dPI8Yj6QfhQk",
        "outputId": "988ad6c2-c7e4-46bd-9375-cdbd9928393c"
      },
      "execution_count": 58,
      "outputs": [
        {
          "output_type": "execute_result",
          "data": {
            "text/plain": [
              "['프랑스', '일본', '멕시코', '캐나다', '미국', '미국', '브라질']"
            ]
          },
          "metadata": {},
          "execution_count": 58
        }
      ]
    },
    {
      "cell_type": "code",
      "source": [
        "country2.clear()"
      ],
      "metadata": {
        "id": "V7y_6nZ6fjM6"
      },
      "execution_count": 59,
      "outputs": []
    },
    {
      "cell_type": "code",
      "source": [
        "country2"
      ],
      "metadata": {
        "colab": {
          "base_uri": "https://localhost:8080/",
          "height": 0
        },
        "id": "-YjOa1_0flGD",
        "outputId": "9836fbb1-d612-4380-d0d7-4031c2fe6c74"
      },
      "execution_count": 60,
      "outputs": [
        {
          "output_type": "execute_result",
          "data": {
            "text/plain": [
              "[]"
            ]
          },
          "metadata": {},
          "execution_count": 60
        }
      ]
    },
    {
      "cell_type": "code",
      "source": [
        "country2 = country.copy()\n",
        "country2"
      ],
      "metadata": {
        "colab": {
          "base_uri": "https://localhost:8080/",
          "height": 0
        },
        "id": "inoEMwp7fmUH",
        "outputId": "95da2146-d2d0-455a-e42c-8d100b0c339f"
      },
      "execution_count": 61,
      "outputs": [
        {
          "output_type": "execute_result",
          "data": {
            "text/plain": [
              "['프랑스', '일본', '멕시코', '캐나다', '미국', '미국', '브라질']"
            ]
          },
          "metadata": {},
          "execution_count": 61
        }
      ]
    },
    {
      "cell_type": "code",
      "source": [
        "del country2[:]"
      ],
      "metadata": {
        "id": "1id2QrImfoC4"
      },
      "execution_count": 62,
      "outputs": []
    },
    {
      "cell_type": "code",
      "source": [
        "country2"
      ],
      "metadata": {
        "colab": {
          "base_uri": "https://localhost:8080/",
          "height": 0
        },
        "id": "UqkE-UesfprD",
        "outputId": "10b8fe8d-48fc-4a49-f961-57b26483e9d5"
      },
      "execution_count": 63,
      "outputs": [
        {
          "output_type": "execute_result",
          "data": {
            "text/plain": [
              "[]"
            ]
          },
          "metadata": {},
          "execution_count": 63
        }
      ]
    },
    {
      "cell_type": "markdown",
      "source": [
        "### 반복문\n"
      ],
      "metadata": {
        "id": "32klC8GsfqYc"
      }
    },
    {
      "cell_type": "code",
      "source": [
        "for c in country:\n",
        "# for c in countries\n",
        "  print(c)"
      ],
      "metadata": {
        "colab": {
          "base_uri": "https://localhost:8080/",
          "height": 0
        },
        "id": "_1CqVjTqfywy",
        "outputId": "85584f83-d153-42dd-e79e-17e94875eda4"
      },
      "execution_count": 64,
      "outputs": [
        {
          "output_type": "stream",
          "name": "stdout",
          "text": [
            "프랑스\n",
            "일본\n",
            "멕시코\n",
            "캐나다\n",
            "미국\n",
            "미국\n",
            "브라질\n"
          ]
        }
      ]
    },
    {
      "cell_type": "code",
      "source": [
        "for c in sorted(country):\n",
        "# for c in countries\n",
        "  print(c)"
      ],
      "metadata": {
        "colab": {
          "base_uri": "https://localhost:8080/",
          "height": 0
        },
        "id": "Os1Wo_d-f_Dq",
        "outputId": "035fbe09-9efa-43a0-f34b-542cb5a927d2"
      },
      "execution_count": 65,
      "outputs": [
        {
          "output_type": "stream",
          "name": "stdout",
          "text": [
            "멕시코\n",
            "미국\n",
            "미국\n",
            "브라질\n",
            "일본\n",
            "캐나다\n",
            "프랑스\n"
          ]
        }
      ]
    },
    {
      "cell_type": "code",
      "source": [
        "for c in country[::-1]:\n",
        "# for c in countries\n",
        "  print(c)"
      ],
      "metadata": {
        "colab": {
          "base_uri": "https://localhost:8080/",
          "height": 0
        },
        "id": "qo3TVHqEgFYB",
        "outputId": "c685716c-2eed-4900-bfb4-349abfa9ec4b"
      },
      "execution_count": 66,
      "outputs": [
        {
          "output_type": "stream",
          "name": "stdout",
          "text": [
            "브라질\n",
            "미국\n",
            "미국\n",
            "캐나다\n",
            "멕시코\n",
            "일본\n",
            "프랑스\n"
          ]
        }
      ]
    },
    {
      "cell_type": "code",
      "source": [
        "for i in enumerate(country): # 튜플로 뭘 할 수 있는가? 언팩킹- 리스트 컴프리헨션\n",
        "  print(i)"
      ],
      "metadata": {
        "colab": {
          "base_uri": "https://localhost:8080/",
          "height": 0
        },
        "id": "tf-0GAZEgHxu",
        "outputId": "bba888e9-fe2e-43df-f7d4-f3f63d54ffef"
      },
      "execution_count": 67,
      "outputs": [
        {
          "output_type": "stream",
          "name": "stdout",
          "text": [
            "(0, '프랑스')\n",
            "(1, '일본')\n",
            "(2, '멕시코')\n",
            "(3, '캐나다')\n",
            "(4, '미국')\n",
            "(5, '미국')\n",
            "(6, '브라질')\n"
          ]
        }
      ]
    },
    {
      "cell_type": "code",
      "source": [
        "for idx, val, in enumerate(country):\n",
        "  print(idx, val)"
      ],
      "metadata": {
        "colab": {
          "base_uri": "https://localhost:8080/",
          "height": 0
        },
        "id": "ZCQmGrlPgQz4",
        "outputId": "cd1b34d3-8229-494f-b93e-2f326d59b339"
      },
      "execution_count": 68,
      "outputs": [
        {
          "output_type": "stream",
          "name": "stdout",
          "text": [
            "0 프랑스\n",
            "1 일본\n",
            "2 멕시코\n",
            "3 캐나다\n",
            "4 미국\n",
            "5 미국\n",
            "6 브라질\n"
          ]
        }
      ]
    },
    {
      "cell_type": "code",
      "source": [
        "for idx, val, in enumerate(country):\n",
        "  # 1짝수인 것 if idx % 2 == 0:\n",
        "  # 2짝수인 것 if not(idx % 2):\n",
        "  #   print(idx, val)\n",
        "  if idx % 2: # 0보다 크다\n",
        "    continue\n",
        "  print(idx, val)"
      ],
      "metadata": {
        "colab": {
          "base_uri": "https://localhost:8080/",
          "height": 0
        },
        "id": "GJg0Lxdvghvh",
        "outputId": "ba6cdc22-8acd-43b9-af1d-d5f4edc93091"
      },
      "execution_count": 70,
      "outputs": [
        {
          "output_type": "stream",
          "name": "stdout",
          "text": [
            "0 프랑스\n",
            "2 멕시코\n",
            "4 미국\n",
            "6 브라질\n"
          ]
        }
      ]
    },
    {
      "cell_type": "code",
      "source": [
        "for idx, val in enumerate(country):\n",
        "  if len(val) == 5:\n",
        "    print(idx, val)\n",
        "    break\n",
        "  print(\"진행...\", val)"
      ],
      "metadata": {
        "colab": {
          "base_uri": "https://localhost:8080/"
        },
        "id": "31PnUNa2hEWs",
        "outputId": "0f47d333-cdae-41d8-f647-1b532883f4e8"
      },
      "execution_count": 72,
      "outputs": [
        {
          "output_type": "stream",
          "name": "stdout",
          "text": [
            "진행... 프랑스\n",
            "진행... 일본\n",
            "진행... 멕시코\n",
            "진행... 캐나다\n",
            "진행... 미국\n",
            "진행... 미국\n",
            "진행... 브라질\n"
          ]
        }
      ]
    },
    {
      "cell_type": "code",
      "source": [
        "lotto = random.choices(range(1, 46), k=6) # 로또 번호 추첨기\n",
        "lotto"
      ],
      "metadata": {
        "colab": {
          "base_uri": "https://localhost:8080/"
        },
        "id": "-BFAxCpihTZ9",
        "outputId": "ba513520-a3ce-4550-c3ad-e9b1b555e038"
      },
      "execution_count": 76,
      "outputs": [
        {
          "output_type": "execute_result",
          "data": {
            "text/plain": [
              "[10, 41, 17, 34, 15, 45]"
            ]
          },
          "metadata": {},
          "execution_count": 76
        }
      ]
    },
    {
      "cell_type": "code",
      "source": [
        "max(lotto), min(lotto), sum(lotto)"
      ],
      "metadata": {
        "colab": {
          "base_uri": "https://localhost:8080/"
        },
        "id": "dR5cdK-ohtH7",
        "outputId": "680c4a90-c888-44ed-80a2-fb9696ee3d2f"
      },
      "execution_count": 79,
      "outputs": [
        {
          "output_type": "execute_result",
          "data": {
            "text/plain": [
              "(45, 10, 162)"
            ]
          },
          "metadata": {},
          "execution_count": 79
        }
      ]
    },
    {
      "cell_type": "code",
      "source": [
        "rc = random.choices(range(1,21),k=20)\n",
        "rc"
      ],
      "metadata": {
        "colab": {
          "base_uri": "https://localhost:8080/"
        },
        "id": "T43SUmqdi5F7",
        "outputId": "663177c1-9767-476e-d459-3db90651d58a"
      },
      "execution_count": 81,
      "outputs": [
        {
          "output_type": "execute_result",
          "data": {
            "text/plain": [
              "[9, 5, 13, 6, 1, 5, 6, 19, 7, 10, 2, 18, 19, 8, 16, 6, 3, 17, 12, 15]"
            ]
          },
          "metadata": {},
          "execution_count": 81
        }
      ]
    },
    {
      "cell_type": "code",
      "source": [
        "lunch = [(rc[i], rc[i+1]) for i in range(0,len(rc)) if not i % 2]\n",
        "lunch"
      ],
      "metadata": {
        "colab": {
          "base_uri": "https://localhost:8080/"
        },
        "id": "86TFftyYg7eY",
        "outputId": "860258a9-1b79-46c5-f3db-3608a0250418"
      },
      "execution_count": 92,
      "outputs": [
        {
          "output_type": "execute_result",
          "data": {
            "text/plain": [
              "[(9, 5),\n",
              " (13, 6),\n",
              " (1, 5),\n",
              " (6, 19),\n",
              " (7, 10),\n",
              " (2, 18),\n",
              " (19, 8),\n",
              " (16, 6),\n",
              " (3, 17),\n",
              " (12, 15)]"
            ]
          },
          "metadata": {},
          "execution_count": 92
        }
      ]
    },
    {
      "cell_type": "code",
      "source": [],
      "metadata": {
        "id": "U7GayUJYj-jN"
      },
      "execution_count": null,
      "outputs": []
    },
    {
      "cell_type": "code",
      "source": [
        "# 랜덤으로 뽑은 20명의 번호를 2명씩 묶고 싶다\n",
        "\n",
        "lunch2 = []\n",
        "for i in range(0, len(rc), 2): # 20명이 랜덤하게 뽑힌 리스틑를 for문으로 반복\n",
        "# 0부터 시작하고, 전체 길이의 증가폭 2인 range\n",
        "  # lunch2.append(rc[i]) # 인덱스가 짝수번째인 값\n",
        "  # lunch2.append(rc[i]+1) # 인덱스가 홀수번째인 값\n",
        "  tmp = (rc[i], rc[i]+1)\n",
        "  lunch2.append(tmp)\n",
        "lunch2"
      ],
      "metadata": {
        "colab": {
          "base_uri": "https://localhost:8080/"
        },
        "id": "dHe91u6hjGoM",
        "outputId": "56f9e395-e150-4d52-b71c-bf8bc9f8bbae"
      },
      "execution_count": 88,
      "outputs": [
        {
          "output_type": "execute_result",
          "data": {
            "text/plain": [
              "[(9, 10),\n",
              " (13, 14),\n",
              " (1, 2),\n",
              " (6, 7),\n",
              " (7, 8),\n",
              " (2, 3),\n",
              " (19, 20),\n",
              " (16, 17),\n",
              " (3, 4),\n",
              " (12, 13)]"
            ]
          },
          "metadata": {},
          "execution_count": 88
        }
      ]
    },
    {
      "cell_type": "code",
      "source": [
        "# 랜덤으로 뽑은 20명의 번호를 2명씩 묶고 싶다\n",
        "\n",
        "lunch3 = []\n",
        "for i in range(0, len(rc), 2): # 20명이 랜덤하게 뽑힌 리스틑를 for문으로 반복\n",
        "# 0부터 시작하고, 전체 길이의 증가폭 2인 range\n",
        "  # lunch2.append(rc[i]) # 인덱스가 짝수번째인 값\n",
        "  # lunch2.append(rc[i]+1) # 인덱스가 홀수번째인 값\n",
        "\n",
        "  # if i % 2: # 짝수가 아니다 -> 나머지가 1 나오면 True, 홀수일 때\n",
        "  #   continue\n",
        "  # tmp = (rc[i], rc[i]+1)\n",
        "\n",
        "  if not i % 2: # 나머지가 0 나오면 짝수일 때\n",
        "    lunch3.append((rc[i], rc[i]+1))\n",
        "lunch3"
      ],
      "metadata": {
        "colab": {
          "base_uri": "https://localhost:8080/"
        },
        "id": "2yEPS_ghkAzW",
        "outputId": "6027fbbb-6340-44ed-dff1-bc8ff78292e3"
      },
      "execution_count": 93,
      "outputs": [
        {
          "output_type": "execute_result",
          "data": {
            "text/plain": [
              "[(9, 10),\n",
              " (13, 14),\n",
              " (1, 2),\n",
              " (6, 7),\n",
              " (7, 8),\n",
              " (2, 3),\n",
              " (19, 20),\n",
              " (16, 17),\n",
              " (3, 4),\n",
              " (12, 13)]"
            ]
          },
          "metadata": {},
          "execution_count": 93
        }
      ]
    },
    {
      "cell_type": "markdown",
      "source": [
        "### 문자열"
      ],
      "metadata": {
        "id": "6mksycz2lX4g"
      }
    },
    {
      "cell_type": "code",
      "source": [
        "s = \"오늘의 점심은 돈까스입니다\"\n",
        "s"
      ],
      "metadata": {
        "colab": {
          "base_uri": "https://localhost:8080/",
          "height": 35
        },
        "id": "CcR38pbnlaF_",
        "outputId": "ce4ee1cd-c564-494f-b307-1a3dfb0ebe07"
      },
      "execution_count": 94,
      "outputs": [
        {
          "output_type": "execute_result",
          "data": {
            "text/plain": [
              "'오늘의 점심은 돈까스입니다'"
            ],
            "application/vnd.google.colaboratory.intrinsic+json": {
              "type": "string"
            }
          },
          "metadata": {},
          "execution_count": 94
        }
      ]
    },
    {
      "cell_type": "code",
      "source": [
        "s.replace(\"점심\", \"저녁\"), s # 원본에 영향을 미치지 않음, 사본을 만듦"
      ],
      "metadata": {
        "colab": {
          "base_uri": "https://localhost:8080/"
        },
        "id": "E7bC7Q4klhtU",
        "outputId": "a51784c5-be62-4910-8c05-d0f2e5bb544d"
      },
      "execution_count": 96,
      "outputs": [
        {
          "output_type": "execute_result",
          "data": {
            "text/plain": [
              "('오늘의 저녁은 돈까스입니다', '오늘의 점심은 돈까스입니다')"
            ]
          },
          "metadata": {},
          "execution_count": 96
        }
      ]
    },
    {
      "cell_type": "code",
      "source": [
        "s2 = \"오늘의 점심은 돈까스입니다. 저녁은 돈까스 입니다.\"\n",
        "s2"
      ],
      "metadata": {
        "colab": {
          "base_uri": "https://localhost:8080/",
          "height": 35
        },
        "id": "f2TmNt_lltp7",
        "outputId": "811b8848-1132-48d9-b350-44cb4a92fadf"
      },
      "execution_count": 97,
      "outputs": [
        {
          "output_type": "execute_result",
          "data": {
            "text/plain": [
              "'오늘의 점심은 돈까스입니다. 저녁은 돈까스 입니다.'"
            ],
            "application/vnd.google.colaboratory.intrinsic+json": {
              "type": "string"
            }
          },
          "metadata": {},
          "execution_count": 97
        }
      ]
    },
    {
      "cell_type": "code",
      "source": [
        "s2.replace(\"돈까스\", \"파스타\"), s2 # 파이썬 replace는 다 바꾼다. count"
      ],
      "metadata": {
        "colab": {
          "base_uri": "https://localhost:8080/"
        },
        "id": "xOqbzcvFl2bR",
        "outputId": "f61aadb0-2aa7-4dcc-981a-8db04a37f673"
      },
      "execution_count": 98,
      "outputs": [
        {
          "output_type": "execute_result",
          "data": {
            "text/plain": [
              "('오늘의 점심은 파스타입니다. 저녁은 파스타 입니다.', '오늘의 점심은 돈까스입니다. 저녁은 돈까스 입니다.')"
            ]
          },
          "metadata": {},
          "execution_count": 98
        }
      ]
    },
    {
      "cell_type": "code",
      "source": [
        "s2.replace(\"돈까스\", \"파스타\",1) # 제일 앞에 있는 것부터!"
      ],
      "metadata": {
        "colab": {
          "base_uri": "https://localhost:8080/",
          "height": 35
        },
        "id": "nSV1oG5pmBoA",
        "outputId": "a2383862-3bc9-4b55-b2e8-d1b52989bf80"
      },
      "execution_count": 100,
      "outputs": [
        {
          "output_type": "execute_result",
          "data": {
            "text/plain": [
              "'오늘의 점심은 파스타입니다. 저녁은 돈까스 입니다.'"
            ],
            "application/vnd.google.colaboratory.intrinsic+json": {
              "type": "string"
            }
          },
          "metadata": {},
          "execution_count": 100
        }
      ]
    },
    {
      "cell_type": "code",
      "source": [
        "txt = \"비트코인, 이더리움, 리플\"\n",
        "txt.split(), txt # 원본에 영향이 없음 # sep 구분자 -> ' ' < default"
      ],
      "metadata": {
        "colab": {
          "base_uri": "https://localhost:8080/"
        },
        "id": "N_ETvtvomJW4",
        "outputId": "4e6c805b-3f46-4adb-83a5-db79c67ec680"
      },
      "execution_count": 101,
      "outputs": [
        {
          "output_type": "execute_result",
          "data": {
            "text/plain": [
              "(['비트코인,', '이더리움,', '리플'], '비트코인, 이더리움, 리플')"
            ]
          },
          "metadata": {},
          "execution_count": 101
        }
      ]
    },
    {
      "cell_type": "code",
      "source": [
        "txt2 = \"비트코인, 이더리움, 리플\"\n",
        "txt2.split(','), txt2.split(sep=',')"
      ],
      "metadata": {
        "colab": {
          "base_uri": "https://localhost:8080/"
        },
        "id": "gVhp9pN3mTHy",
        "outputId": "8574b916-37e9-441a-a566-dd917d2ca355"
      },
      "execution_count": 102,
      "outputs": [
        {
          "output_type": "execute_result",
          "data": {
            "text/plain": [
              "(['비트코인', ' 이더리움', ' 리플'], ['비트코인', ' 이더리움', ' 리플'])"
            ]
          },
          "metadata": {},
          "execution_count": 102
        }
      ]
    },
    {
      "cell_type": "code",
      "source": [
        "txt.split('')"
      ],
      "metadata": {
        "colab": {
          "base_uri": "https://localhost:8080/",
          "height": 172
        },
        "id": "LdaYJy-6mfgj",
        "outputId": "f5ef9a06-b2ba-433d-9703-a462aac401a1"
      },
      "execution_count": 103,
      "outputs": [
        {
          "output_type": "error",
          "ename": "ValueError",
          "evalue": "ignored",
          "traceback": [
            "\u001b[0;31m---------------------------------------------------------------------------\u001b[0m",
            "\u001b[0;31mValueError\u001b[0m                                Traceback (most recent call last)",
            "\u001b[0;32m<ipython-input-103-8a8c7561b326>\u001b[0m in \u001b[0;36m<module>\u001b[0;34m\u001b[0m\n\u001b[0;32m----> 1\u001b[0;31m \u001b[0mtxt\u001b[0m\u001b[0;34m.\u001b[0m\u001b[0msplit\u001b[0m\u001b[0;34m(\u001b[0m\u001b[0;34m''\u001b[0m\u001b[0;34m)\u001b[0m\u001b[0;34m\u001b[0m\u001b[0;34m\u001b[0m\u001b[0m\n\u001b[0m",
            "\u001b[0;31mValueError\u001b[0m: empty separator"
          ]
        }
      ]
    },
    {
      "cell_type": "code",
      "source": [
        "[i for i in s] # 리스트 컴프리헨션하면 -> 문자열이 한 글자씩 쪼개진 글자가 됨."
      ],
      "metadata": {
        "colab": {
          "base_uri": "https://localhost:8080/"
        },
        "id": "tivFX6dlmh1m",
        "outputId": "7d20933e-f36b-4805-fd6f-ee53b844ce68"
      },
      "execution_count": 104,
      "outputs": [
        {
          "output_type": "execute_result",
          "data": {
            "text/plain": [
              "['오', '늘', '의', ' ', '점', '심', '은', ' ', '돈', '까', '스', '입', '니', '다']"
            ]
          },
          "metadata": {},
          "execution_count": 104
        }
      ]
    },
    {
      "cell_type": "code",
      "source": [
        "sep = [i for i in s]\n",
        "sep"
      ],
      "metadata": {
        "colab": {
          "base_uri": "https://localhost:8080/"
        },
        "id": "9Fhs0sEpmt_t",
        "outputId": "1828c4b2-e021-44c4-91bb-c329ce08103d"
      },
      "execution_count": 105,
      "outputs": [
        {
          "output_type": "execute_result",
          "data": {
            "text/plain": [
              "['오', '늘', '의', ' ', '점', '심', '은', ' ', '돈', '까', '스', '입', '니', '다']"
            ]
          },
          "metadata": {},
          "execution_count": 105
        }
      ]
    },
    {
      "cell_type": "code",
      "source": [
        "sep.join(\"\")"
      ],
      "metadata": {
        "colab": {
          "base_uri": "https://localhost:8080/",
          "height": 172
        },
        "id": "7s0jGlGCm11x",
        "outputId": "ce61c791-b840-4631-dbae-a38ff4ce4cb0"
      },
      "execution_count": 106,
      "outputs": [
        {
          "output_type": "error",
          "ename": "AttributeError",
          "evalue": "ignored",
          "traceback": [
            "\u001b[0;31m---------------------------------------------------------------------------\u001b[0m",
            "\u001b[0;31mAttributeError\u001b[0m                            Traceback (most recent call last)",
            "\u001b[0;32m<ipython-input-106-abed9e2ba3e3>\u001b[0m in \u001b[0;36m<module>\u001b[0;34m\u001b[0m\n\u001b[0;32m----> 1\u001b[0;31m \u001b[0msep\u001b[0m\u001b[0;34m.\u001b[0m\u001b[0mjoin\u001b[0m\u001b[0;34m(\u001b[0m\u001b[0;34m\"\"\u001b[0m\u001b[0;34m)\u001b[0m\u001b[0;34m\u001b[0m\u001b[0;34m\u001b[0m\u001b[0m\n\u001b[0m",
            "\u001b[0;31mAttributeError\u001b[0m: 'list' object has no attribute 'join'"
          ]
        }
      ]
    },
    {
      "cell_type": "code",
      "source": [
        "\"\".join(sep) # 리스트 구분자로 하여금 문자열을 합쳐주세요"
      ],
      "metadata": {
        "colab": {
          "base_uri": "https://localhost:8080/",
          "height": 35
        },
        "id": "4iWpBvpsm3G6",
        "outputId": "95618e8b-8398-4575-e5c0-7a2fe1f7b799"
      },
      "execution_count": 107,
      "outputs": [
        {
          "output_type": "execute_result",
          "data": {
            "text/plain": [
              "'오늘의 점심은 돈까스입니다'"
            ],
            "application/vnd.google.colaboratory.intrinsic+json": {
              "type": "string"
            }
          },
          "metadata": {},
          "execution_count": 107
        }
      ]
    },
    {
      "cell_type": "code",
      "source": [
        "\":\".join(sep)"
      ],
      "metadata": {
        "colab": {
          "base_uri": "https://localhost:8080/",
          "height": 35
        },
        "id": "pTE6l0shnAiN",
        "outputId": "760c1c29-7c02-4f0e-e13c-a0ffeffc7de7"
      },
      "execution_count": 109,
      "outputs": [
        {
          "output_type": "execute_result",
          "data": {
            "text/plain": [
              "'오:늘:의: :점:심:은: :돈:까:스:입:니:다'"
            ],
            "application/vnd.google.colaboratory.intrinsic+json": {
              "type": "string"
            }
          },
          "metadata": {},
          "execution_count": 109
        }
      ]
    },
    {
      "cell_type": "code",
      "source": [
        "a = \"JamesPotato\"\n",
        "a.upper(), a.lower()"
      ],
      "metadata": {
        "colab": {
          "base_uri": "https://localhost:8080/"
        },
        "id": "Qqqc_pwanE2a",
        "outputId": "b9862f62-fed8-4823-cbe3-cdc5795b01a8"
      },
      "execution_count": 110,
      "outputs": [
        {
          "output_type": "execute_result",
          "data": {
            "text/plain": [
              "('JAMESPOTATO', 'jamespotato')"
            ]
          },
          "metadata": {},
          "execution_count": 110
        }
      ]
    },
    {
      "cell_type": "code",
      "source": [
        "space =\"      공백이 많다       \"\n",
        "space.strip(), space.lstrip(), space.rstrip()"
      ],
      "metadata": {
        "colab": {
          "base_uri": "https://localhost:8080/"
        },
        "id": "_xpFvj9gnMrh",
        "outputId": "9645b57f-08ab-46fd-e900-25a7cb944b1f"
      },
      "execution_count": 111,
      "outputs": [
        {
          "output_type": "execute_result",
          "data": {
            "text/plain": [
              "('공백이 많다', '공백이 많다       ', '      공백이 많다')"
            ]
          },
          "metadata": {},
          "execution_count": 111
        }
      ]
    },
    {
      "cell_type": "code",
      "source": [
        "a = \"35\"\n",
        "a.zfill(6) # 자리수"
      ],
      "metadata": {
        "colab": {
          "base_uri": "https://localhost:8080/",
          "height": 35
        },
        "id": "U3gUwcIunYVO",
        "outputId": "6c5477e1-a2b1-4ca4-f495-41ed20ba23a7"
      },
      "execution_count": 112,
      "outputs": [
        {
          "output_type": "execute_result",
          "data": {
            "text/plain": [
              "'000035'"
            ],
            "application/vnd.google.colaboratory.intrinsic+json": {
              "type": "string"
            }
          },
          "metadata": {},
          "execution_count": 112
        }
      ]
    },
    {
      "cell_type": "code",
      "source": [
        "# 문자열 위치 찾기\n",
        "s = \"안녕 나는 지리산 감자야\"\n",
        "s.find(\"감자\")"
      ],
      "metadata": {
        "colab": {
          "base_uri": "https://localhost:8080/"
        },
        "id": "_qLBZRWLncYB",
        "outputId": "b12b50b8-28b3-4d07-eab8-ab708dd36aa0"
      },
      "execution_count": 113,
      "outputs": [
        {
          "output_type": "execute_result",
          "data": {
            "text/plain": [
              "10"
            ]
          },
          "metadata": {},
          "execution_count": 113
        }
      ]
    },
    {
      "cell_type": "code",
      "source": [
        "s = \"안녕 속리산 감자야! 나는 지리산 감자야\"\n",
        "s.find(\"감자\")"
      ],
      "metadata": {
        "colab": {
          "base_uri": "https://localhost:8080/"
        },
        "id": "ff47-a5Enh2w",
        "outputId": "75645abf-c848-4407-c088-b2cbdc8fca5c"
      },
      "execution_count": 114,
      "outputs": [
        {
          "output_type": "execute_result",
          "data": {
            "text/plain": [
              "7"
            ]
          },
          "metadata": {},
          "execution_count": 114
        }
      ]
    },
    {
      "cell_type": "code",
      "source": [
        "s.find(\"고구마\") # 없으면 인덱스 -1"
      ],
      "metadata": {
        "colab": {
          "base_uri": "https://localhost:8080/"
        },
        "id": "TzWUE4KMnmLZ",
        "outputId": "2e074ea7-313e-4df2-ef79-4da8c86e2dc7"
      },
      "execution_count": 115,
      "outputs": [
        {
          "output_type": "execute_result",
          "data": {
            "text/plain": [
              "-1"
            ]
          },
          "metadata": {},
          "execution_count": 115
        }
      ]
    },
    {
      "cell_type": "code",
      "source": [
        "s.count(\"감자\")"
      ],
      "metadata": {
        "colab": {
          "base_uri": "https://localhost:8080/"
        },
        "id": "a66MDKTlnoSr",
        "outputId": "aab0670d-66b1-4723-d37c-e9d07ce4409a"
      },
      "execution_count": 116,
      "outputs": [
        {
          "output_type": "execute_result",
          "data": {
            "text/plain": [
              "2"
            ]
          },
          "metadata": {},
          "execution_count": 116
        }
      ]
    },
    {
      "cell_type": "code",
      "source": [
        "s.count(\"고구마\")"
      ],
      "metadata": {
        "colab": {
          "base_uri": "https://localhost:8080/"
        },
        "id": "cjjwxcs4nrL4",
        "outputId": "6e9c8537-4703-4f2c-b7c7-0c997922683e"
      },
      "execution_count": 117,
      "outputs": [
        {
          "output_type": "execute_result",
          "data": {
            "text/plain": [
              "0"
            ]
          },
          "metadata": {},
          "execution_count": 117
        }
      ]
    }
  ]
}