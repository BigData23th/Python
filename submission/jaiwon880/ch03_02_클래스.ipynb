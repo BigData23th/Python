{
  "nbformat": 4,
  "nbformat_minor": 0,
  "metadata": {
    "colab": {
      "provenance": [],
      "include_colab_link": true
    },
    "kernelspec": {
      "name": "python3",
      "display_name": "Python 3"
    },
    "language_info": {
      "name": "python"
    }
  },
  "cells": [
    {
      "cell_type": "markdown",
      "metadata": {
        "id": "view-in-github",
        "colab_type": "text"
      },
      "source": [
        "<a href=\"https://colab.research.google.com/github/jaiwon880/Python_bd23_hjw/blob/main/submission/jaiwon880/ch03_02_%ED%81%B4%EB%9E%98%EC%8A%A4.ipynb\" target=\"_parent\"><img src=\"https://colab.research.google.com/assets/colab-badge.svg\" alt=\"Open In Colab\"/></a>"
      ]
    },
    {
      "cell_type": "markdown",
      "source": [
        "# 클래스"
      ],
      "metadata": {
        "id": "8kU8l8cS3AlY"
      }
    },
    {
      "cell_type": "markdown",
      "source": [
        "​클래스는 객체를 표현하기 위한 문법입니다. 예를 들어 게임을 만든다고 하면 기사, 마법사, 궁수, 사제 등 직업별로 클래스를 만들어서 표현할 수 있습니다.\n",
        "\n",
        "물론 집, 자동차, 나무 등도 클래스로 표현할 수 있습니다. 특히 프로그래밍에서는 현실 세계에 있는 개념들뿐만 아니라 컴퓨터 안에서만 쓰이는 개념들도 클래스로 만들어서 표현합니다. 웹 브라우저에서 내용이 길어지면 보이는 스크롤 바, 프로그램에서 주로 볼 수 있는 버튼, 체크 박스 등이 대표적입니다.\n",
        "\n",
        "지금까지 나온 기사, 마법사, 궁수, 사제, 집, 자동차, 나무, 스크롤 바, 버튼, 체크 박스처럼 특정한 개념이나 모양으로 존재하는 것을 객체(object)라고 부릅니다. 그리고 프로그래밍으로 객체를 만들 때 사용하는 것이 클래스입니다.\n",
        "\n",
        "그럼 게임의 기사 캐릭터를 클래스로 표현하려면 무엇이 필요할까요? 간단합니다. 일단 게임 캐릭터는 체력, 마나, 물리 공격력, 주문력 등이 필요합니다. 그리고 기사 캐릭터는 칼로 베기, 찌르기 등의 스킬이 있어야 합니다.\n",
        "\n",
        "여기서 체력, 마나, 물리 공격력, 주문력 등의 데이터를 클래스의 속성(attribute)이라 부르고, 베기, 찌르기 등의 기능을 메서드(method)라고 부릅니다.\n",
        "\n",
        "이렇게 프로그래밍 방법을 객체지향(object oriented) 프로그래밍이라고 합니다. 객체지향 프로그래밍은 복잡한 문제를 잘게 나누어 객체로 만들고, 객체를 조합해서 문제를 해결합니다. 따라서 현실 세계의 복잡한 문제를 처리하는데 유용하며 기능을 개선하고 발전시킬 때도 해당 클래스만 수정하면 되므로 유지 보수에도 효율적입니다.\n",
        "\n",
        "지금까지 숫자 1, 2, 3 문자 'a', 'b', 'c', 리스트, 딕셔너리 등을 조합해서 프로그램을 만들었는데 사실 파이썬에서는 이 모든 것이 객체입니다. 이번에는 클래스를 사용해서 객체를 표현하고 만드는 방법을 알아보겠습니다."
      ],
      "metadata": {
        "id": "voNSiaBg3DuC"
      }
    },
    {
      "cell_type": "markdown",
      "source": [
        "## 클래스와 메서드 만들기"
      ],
      "metadata": {
        "id": "w_mpoVuS3Kh5"
      }
    },
    {
      "cell_type": "markdown",
      "source": [
        "\n",
        "클래스는 class에 클래스 이름을 지정하고 :(콜론)을 붙인 뒤 다음 줄부터 def로 메서드를 작성하면 됩니다. 여기서 메서드는 클래스 안에 들어있는 함수를 뜻합니다.\n",
        "\n",
        "클래스 이름을 짓는 방법은 변수와 같습니다. 보통 파이썬에서는 클래스의 이름은 대문자로 시작합니다. 그리고 메서드 작성 방법은 함수와 같으며 코드는 반드시 들여쓰기를 해야 합니다(들여쓰기 규칙은 if, for, while과 같습니다). 특히 메서드의 첫 번째 매개변수는 반드시 self를 지정해야 합니다.\n",
        "\n",
        "```\n",
        "class 클래스이름:\n",
        "    def 메서드(self):\n",
        "        코드\n",
        "```"
      ],
      "metadata": {
        "id": "Zg3_tVXs3NKM"
      }
    },
    {
      "cell_type": "code",
      "execution_count": null,
      "metadata": {
        "id": "nzS17w5p25ci"
      },
      "outputs": [],
      "source": [
        "# something_special: 스네이크 케이스\n",
        "# somethingSpecial: 카멜 케이스\n",
        "# something-special: 케밥 케이스\n",
        "\n",
        "\n",
        "class AmesomeTeacher: # 클래스는 기능 다발\n",
        "  def chat(self): # 나 자신을 호출\n",
        "    print(\"헛소리는 참을 수 없다아아아아앙\")\n"
      ]
    },
    {
      "cell_type": "markdown",
      "source": [
        "그럼 이 클래스를 사용해봐야겠죠? 다음과 같이 클래스에 ()(괄호)를 붙인 뒤 변수에 할당합니다.\n",
        "\n",
        "* `인스턴스 = 클래스()`"
      ],
      "metadata": {
        "id": "yufRvbF03Ufr"
      }
    },
    {
      "cell_type": "code",
      "source": [
        "teacher = AmesomeTeacher()"
      ],
      "metadata": {
        "id": "QIqY3_Sz3SaZ"
      },
      "execution_count": null,
      "outputs": []
    },
    {
      "cell_type": "markdown",
      "source": [
        "Person으로 변수 james를 만들었는데 이 james가 Person의 인스턴스(instance)입니다. 클래스는 특정 개념을 표현만 할뿐 사용을 하려면 인스턴스를 생성해야 합니다."
      ],
      "metadata": {
        "id": "lBdCLhtT3ZP4"
      }
    },
    {
      "cell_type": "markdown",
      "source": [
        "### 메서드 호출하기"
      ],
      "metadata": {
        "id": "dEEFutPa3bUF"
      }
    },
    {
      "cell_type": "markdown",
      "source": [
        "이제 메서드를 호출해보겠습니다. 메서드는 클래스가 아니라 인스턴스를 통해 호출합니다. 다음과 같이 인스턴스 뒤에 .(점)을 붙이고 메서드를 호출하면 됩니다.\n",
        "\n",
        "* `인스턴스.메서드()`"
      ],
      "metadata": {
        "id": "FSxwAtKc3d_r"
      }
    },
    {
      "cell_type": "code",
      "source": [
        "teacher.chat()"
      ],
      "metadata": {
        "colab": {
          "base_uri": "https://localhost:8080/"
        },
        "id": "LaF5pEoM3Xji",
        "outputId": "147147ae-97ba-48a6-ea0a-4769705148f0"
      },
      "execution_count": null,
      "outputs": [
        {
          "output_type": "stream",
          "name": "stdout",
          "text": [
            "헛소리는 참을 수 없다아아아아앙\n"
          ]
        }
      ]
    },
    {
      "cell_type": "code",
      "source": [
        "a = list()\n",
        "a.append(\"a\")\n",
        "a"
      ],
      "metadata": {
        "colab": {
          "base_uri": "https://localhost:8080/"
        },
        "id": "ZJAciuUj5g03",
        "outputId": "cc5b153f-dbb5-4def-fff4-ef7c5dae1693"
      },
      "execution_count": null,
      "outputs": [
        {
          "output_type": "execute_result",
          "data": {
            "text/plain": [
              "['a']"
            ]
          },
          "metadata": {},
          "execution_count": 8
        }
      ]
    },
    {
      "cell_type": "markdown",
      "source": [
        "인스턴스를 통해 호출하는 메서드를 인스턴스 메서드라고 부릅니다."
      ],
      "metadata": {
        "id": "HQtBu2ks3iWl"
      }
    },
    {
      "cell_type": "markdown",
      "source": [
        "### 파이썬에서 흔히 볼 수 있는 클래스"
      ],
      "metadata": {
        "id": "xhEQN8ul3lMr"
      }
    },
    {
      "cell_type": "markdown",
      "source": [
        "지금까지 사용한 int, list, dict 등도 사실 클래스입니다. 우리는 이 클래스로 인스턴스를 만들고 메서드를 사용했습니다."
      ],
      "metadata": {
        "id": "GuUGH_jQ3oxI"
      }
    },
    {
      "cell_type": "markdown",
      "source": [
        "파이썬에서는 자료형도 클래스입니다. 다음과 같이 type을 사용하면 객체(인스턴스)가 어떤 클래스인지 확인할 수 있습니다.\n",
        "\n",
        "* `type(객체)`"
      ],
      "metadata": {
        "id": "3GzyzEZk3uVA"
      }
    },
    {
      "cell_type": "code",
      "source": [
        "print(type(teacher))\n",
        "print(type([]))\n",
        "print(type({}))"
      ],
      "metadata": {
        "colab": {
          "base_uri": "https://localhost:8080/"
        },
        "id": "hXMDY6DC3sR2",
        "outputId": "dc54176f-cd8b-4588-b9dc-d5046c51c5e4"
      },
      "execution_count": null,
      "outputs": [
        {
          "output_type": "stream",
          "name": "stdout",
          "text": [
            "<class '__main__.AmesomeTeacher'>\n",
            "<class 'list'>\n",
            "<class 'dict'>\n"
          ]
        }
      ]
    },
    {
      "cell_type": "markdown",
      "source": [
        "### 인스턴스와 객체의 차이점?"
      ],
      "metadata": {
        "id": "_cGp42zp39HX"
      }
    },
    {
      "cell_type": "markdown",
      "source": [
        "클래스는 객체를 표현하는 문법이라고 했는데, 클래스로 인스턴스를 만든다고 하니 좀 헷갈리죠? 사실 인스턴스와 객체는 같은 것을 뜻합니다. 보통 객체만 지칭할 때는 그냥 객체(object)라고 부릅니다. 하지만 클래스와 연관지어서 말할 때는 인스턴스(instance)라고 부릅니다. 그래서 다음과 같이 리스트 변수 a, b가 있으면 a, b는 객체입니다. 그리고 a와 b는 list 클래스의 인스턴스입니다."
      ],
      "metadata": {
        "id": "tVpP9ey93_l9"
      }
    },
    {
      "cell_type": "code",
      "source": [
        "a = list(range(10)) # a,b는 객체인데 list를 통해 만들어진 인스턴스다\n",
        "b = list(range(20))"
      ],
      "metadata": {
        "id": "m69P_DEc37PD"
      },
      "execution_count": null,
      "outputs": []
    },
    {
      "cell_type": "markdown",
      "source": [
        "### 빈 클래스 만들기"
      ],
      "metadata": {
        "id": "t9ogtZEA4LzK"
      }
    },
    {
      "cell_type": "code",
      "source": [
        "# 내용이 없는 빈 클래스를 만들 때는 코드 부분에 pass를 넣어줍니다.\n",
        "class Empty:\n",
        "  pass"
      ],
      "metadata": {
        "id": "PsgUZVaJ4D_q"
      },
      "execution_count": null,
      "outputs": []
    },
    {
      "cell_type": "markdown",
      "source": [
        "### 메서드 안에서 메서드 호출하기"
      ],
      "metadata": {
        "id": "Eg8qgXCh4SAw"
      }
    },
    {
      "cell_type": "markdown",
      "source": [
        "메서드 안에서 메서드를 호출할 때는 다음과 같이 self.메서드() 형식으로 호출해야 합니다. self 없이 메서드 이름만 사용하면 클래스 바깥쪽에 있는 함수를 호출한다는 뜻이 되므로 주의해야 합니다.\n",
        "\n"
      ],
      "metadata": {
        "id": "2bO_llEl4UBH"
      }
    },
    {
      "cell_type": "code",
      "source": [
        "class FB:\n",
        "  def eat(self): # self가 맨 처음에 있어야 함 (메소드 공통)\n",
        "    print(\"냠냠\") # 2-2-1\n",
        "  \n",
        "  def smell(self): # 2\n",
        "    print(\"맛있는 냄새~\") # 2-1\n",
        "    self.eat() # 2-2\n",
        "\n",
        "  def light(self):\n",
        "    print(\"빛이 난다아아아아!\")\n",
        "    self.eat()"
      ],
      "metadata": {
        "id": "o1DTyQGY4QcS"
      },
      "execution_count": null,
      "outputs": []
    },
    {
      "cell_type": "code",
      "source": [
        "box = FB() # 여기서 인스턴스는 box\n",
        "box.smell()\n",
        "box.light()"
      ],
      "metadata": {
        "colab": {
          "base_uri": "https://localhost:8080/"
        },
        "id": "ESrU9qr_7EH4",
        "outputId": "79b01003-c51f-485a-9cdc-3e85c366387a"
      },
      "execution_count": null,
      "outputs": [
        {
          "output_type": "stream",
          "name": "stdout",
          "text": [
            "맛있는 냄새~\n",
            "냠냠\n",
            "빛이 난다아아아아!\n",
            "냠냠\n"
          ]
        }
      ]
    },
    {
      "cell_type": "markdown",
      "source": [
        "### 특정 클래스의 인스턴스인지 확인하기"
      ],
      "metadata": {
        "id": "hsrR8ZJV4XWj"
      }
    },
    {
      "cell_type": "markdown",
      "source": [
        "현재 인스턴스가 특정 클래스의 인스턴스인지 확인할 때는 isinstance 함수를 사용합니다. 특정 클래스의 인스턴스가 맞으면 True, 아니면 False를 반환합니다.\n",
        "\n",
        "* `isinstance(인스턴스, 클래스)`"
      ],
      "metadata": {
        "id": "bdtKTAcU4Za4"
      }
    },
    {
      "cell_type": "code",
      "source": [
        "isinstance(box,FB), isinstance(teacher,FB)"
      ],
      "metadata": {
        "colab": {
          "base_uri": "https://localhost:8080/"
        },
        "id": "BWyBLHyh4WO1",
        "outputId": "ac7ff2cd-ba3e-49be-f170-1af23bef08a5"
      },
      "execution_count": null,
      "outputs": [
        {
          "output_type": "execute_result",
          "data": {
            "text/plain": [
              "(True, False)"
            ]
          },
          "metadata": {},
          "execution_count": 20
        }
      ]
    },
    {
      "cell_type": "markdown",
      "source": [
        "isinstance는 주로 객체의 자료형을 판단할 때 사용합니다. 예를 들어 팩토리얼 함수는 1부터 n까지 양의 정수를 차례대로 곱해야 하는데, 실수와 음의 정수는 계산할 수 없습니다. 이런 경우에 isinstance를 사용하여 숫자(객체)가 정수일 때만 계산하도록 만들 수 있습니다."
      ],
      "metadata": {
        "id": "TeWnvjOT4go2"
      }
    },
    {
      "cell_type": "code",
      "source": [
        "# n! = n*(n-1)! =... = n * ... * 1\n",
        "# factorial은 자연수 -> int \n",
        "def factorial(n: int):\n",
        "  # if isinstance(n, int) and n > 0:\n",
        "  #   print(n)\n",
        "  #   if n == 1: return 1\n",
        "  #   return n * factorial(n-1)\n",
        "  if not isinstance(n, int) or n <= 0:\n",
        "    print(\"양의 정수를 넣어주세요!\")\n",
        "    return None\n",
        "  print(n)\n",
        "  if n == 1: return 1\n",
        "  return n * factorial(n-1)"
      ],
      "metadata": {
        "id": "8W0Wzvoa4fNC"
      },
      "execution_count": null,
      "outputs": []
    },
    {
      "cell_type": "code",
      "source": [
        "factorial(\"1\"), factorial(-100), factorial(6),"
      ],
      "metadata": {
        "colab": {
          "base_uri": "https://localhost:8080/"
        },
        "id": "moto5YAM4iM_",
        "outputId": "87f06a3b-6f1d-439c-d3e3-a565393f1930"
      },
      "execution_count": null,
      "outputs": [
        {
          "output_type": "stream",
          "name": "stdout",
          "text": [
            "양의 정수를 넣어주세요!\n",
            "양의 정수를 넣어주세요!\n",
            "6\n",
            "5\n",
            "4\n",
            "3\n",
            "2\n",
            "1\n"
          ]
        },
        {
          "output_type": "execute_result",
          "data": {
            "text/plain": [
              "(None, None, 720)"
            ]
          },
          "metadata": {},
          "execution_count": 31
        }
      ]
    },
    {
      "cell_type": "markdown",
      "source": [
        "## 속성 사용하기"
      ],
      "metadata": {
        "id": "n5YKthte9qC8"
      }
    },
    {
      "cell_type": "markdown",
      "source": [
        "지금까지 클래스에서 메서드를 만들고 호출해보았습니다. 이번에는 클래스에서 속성을 만들고 사용해보겠습니다. 속성(attribute)을 만들 때는 `__init__` 메서드 안에서 self.속성에 값을 할당합니다.\n",
        "\n",
        "```\n",
        "class 클래스이름:\n",
        "    def __init__(self):\n",
        "        self.속성 = 값\n",
        "```"
      ],
      "metadata": {
        "id": "WaV4TdzR9usU"
      }
    },
    {
      "cell_type": "code",
      "source": [
        "#-> None: # ->어떤 것을 return 할 것인지 힌트를 주는 표시\n",
        "\n",
        "class Student:\n",
        "    def __init__(self) -> None:\n",
        "        print(\"생성자~\")\n",
        "        self.computer = \"맥북\"\n",
        "        self.books = [\"혼자서하는 파이썬\", \"혼자서하는 점심먹기\"]"
      ],
      "metadata": {
        "id": "CYzTrTQ99tcf"
      },
      "execution_count": 80,
      "outputs": []
    },
    {
      "cell_type": "code",
      "source": [
        "kim = Student() # 여기서 저장되는건 init뒤에 붙은 self라고 이해하면 편함!"
      ],
      "metadata": {
        "id": "ZRt7oQcJ-GSY"
      },
      "execution_count": null,
      "outputs": []
    },
    {
      "cell_type": "code",
      "source": [
        "kim.computer"
      ],
      "metadata": {
        "colab": {
          "base_uri": "https://localhost:8080/",
          "height": 35
        },
        "id": "et_YSS1n-Ht5",
        "outputId": "d1f90595-faec-4757-d5d1-bfa0530ade42"
      },
      "execution_count": null,
      "outputs": [
        {
          "output_type": "execute_result",
          "data": {
            "text/plain": [
              "'맥북'"
            ],
            "application/vnd.google.colaboratory.intrinsic+json": {
              "type": "string"
            }
          },
          "metadata": {},
          "execution_count": 35
        }
      ]
    },
    {
      "cell_type": "code",
      "source": [
        "kim.books"
      ],
      "metadata": {
        "colab": {
          "base_uri": "https://localhost:8080/"
        },
        "id": "dBcV09lL-Iev",
        "outputId": "ad247317-7078-4cb3-f4f9-a0603737de16"
      },
      "execution_count": null,
      "outputs": [
        {
          "output_type": "execute_result",
          "data": {
            "text/plain": [
              "['혼자서하는 파이썬', '혼자서 점심먹기']"
            ]
          },
          "metadata": {},
          "execution_count": 37
        }
      ]
    },
    {
      "cell_type": "markdown",
      "source": [
        "```\n",
        "__init__ 메서드는 james = Person()처럼 클래스에 ( )(괄호)를 붙여서 인스턴스를 만들 때 호출되는 특별한 메서드입니다.\n",
        "즉, __init__(initialize)이라는 이름 그대로 인스턴스(객체)를 초기화합니다.\n",
        "\n",
        "특히 이렇게 앞 뒤로 __(밑줄 두 개)가 붙은 메서드는 파이썬이 자동으로 호출해주는 메서드인데,\n",
        "스페셜 메서드(special method) 또는 매직 메서드(magic method)라고 부릅니다.\n",
        "앞으로 파이썬의 여러 가지 기능을 사용할 때 이 스페셜 메서드를 채우는 식으로 사용하게 됩니다.\n",
        "```"
      ],
      "metadata": {
        "id": "daH1yQUy976_"
      }
    },
    {
      "cell_type": "markdown",
      "source": [
        "```\n",
        "속성은 __init__ 메서드에서 만든다는 점과 self에 .(점)을 붙인 뒤 값을 할당한다는 점이 중요합니다.\n",
        "클래스 안에서 속성을 사용할 때도 self.hello처럼 self에 점을 붙여서 사용하면 됩니다.\n",
        "```"
      ],
      "metadata": {
        "id": "cH13USFz-GvM"
      }
    },
    {
      "cell_type": "code",
      "source": [
        "kim = Student()\n",
        "lee = kim"
      ],
      "metadata": {
        "id": "x83q69C6-w5C"
      },
      "execution_count": null,
      "outputs": []
    },
    {
      "cell_type": "code",
      "source": [
        "lee.computer = 'LG gram 뉴진스 에디션'\n",
        "kim.computer # 주소 값 할당에따른 얕은 복사로 kim에게도 영향이 미침"
      ],
      "metadata": {
        "colab": {
          "base_uri": "https://localhost:8080/",
          "height": 35
        },
        "id": "peP5geWY-3LU",
        "outputId": "53731f5b-5d26-467d-97dd-0ffe09066266"
      },
      "execution_count": null,
      "outputs": [
        {
          "output_type": "execute_result",
          "data": {
            "text/plain": [
              "'LG gram 뉴진스 에디션'"
            ],
            "application/vnd.google.colaboratory.intrinsic+json": {
              "type": "string"
            }
          },
          "metadata": {},
          "execution_count": 42
        }
      ]
    },
    {
      "cell_type": "code",
      "source": [
        "kim.copy() # copy가 없다"
      ],
      "metadata": {
        "colab": {
          "base_uri": "https://localhost:8080/",
          "height": 173
        },
        "id": "2q9_5uY0_BRs",
        "outputId": "7a9e6360-34f6-4186-b51e-88d40f33f003"
      },
      "execution_count": null,
      "outputs": [
        {
          "output_type": "error",
          "ename": "AttributeError",
          "evalue": "ignored",
          "traceback": [
            "\u001b[0;31m---------------------------------------------------------------------------\u001b[0m",
            "\u001b[0;31mAttributeError\u001b[0m                            Traceback (most recent call last)",
            "\u001b[0;32m<ipython-input-43-6d98f4768cb4>\u001b[0m in \u001b[0;36m<module>\u001b[0;34m\u001b[0m\n\u001b[0;32m----> 1\u001b[0;31m \u001b[0mkim\u001b[0m\u001b[0;34m.\u001b[0m\u001b[0mcopy\u001b[0m\u001b[0;34m(\u001b[0m\u001b[0;34m)\u001b[0m \u001b[0;31m# copy가 없다\u001b[0m\u001b[0;34m\u001b[0m\u001b[0;34m\u001b[0m\u001b[0m\n\u001b[0m",
            "\u001b[0;31mAttributeError\u001b[0m: 'Student' object has no attribute 'copy'"
          ]
        }
      ]
    },
    {
      "cell_type": "code",
      "source": [
        "import copy\n",
        "park = copy.deepcopy(kim)\n",
        "park.computer = \"한성 컴퓨터\"\n",
        "kim.computer, park.computer"
      ],
      "metadata": {
        "colab": {
          "base_uri": "https://localhost:8080/"
        },
        "id": "3vKwmZuF_DE7",
        "outputId": "b9d2665f-e57e-4b01-d992-ab15de050461"
      },
      "execution_count": null,
      "outputs": [
        {
          "output_type": "execute_result",
          "data": {
            "text/plain": [
              "('LG gram 뉴진스 에디션', '한성 컴퓨터')"
            ]
          },
          "metadata": {},
          "execution_count": 45
        }
      ]
    },
    {
      "cell_type": "markdown",
      "source": [
        "### self의 의미"
      ],
      "metadata": {
        "id": "wuM2FwFp-M9z"
      }
    },
    {
      "cell_type": "markdown",
      "source": [
        "그런데 도데체 self는 뭘까요? self는 인스턴스 자기 자신을 의미합니다. 우리는 인스턴스가 생성될 때 self.hello = '안녕하세요.'처럼 자기 자신에 속성을 추가했습니다. 여기서 `__init__`의 매개변수 self에 들어가는 값은 Person()이라 할 수 있습니다. 그리고 self가 완성된 뒤 james에 할당됩니다. 이후 메서드를 호출하면 현재 인스턴스가 자동으로 매개변수 self에 들어옵니다. 그래서 greeting 메서드에서 print(self.hello)처럼 속성을 출력할 수 있었던 것입니다."
      ],
      "metadata": {
        "id": "SfXz7IVa-QG2"
      }
    },
    {
      "cell_type": "markdown",
      "source": [
        "### 인스턴스를 만들 때 값 받기"
      ],
      "metadata": {
        "id": "K8pSifuN-WPK"
      }
    },
    {
      "cell_type": "markdown",
      "source": [
        "`__init__` 메서드에서 self 다음에 값을 받을 매개변수를 지정합니다. 그리고 매개변수를 self.속성에 넣어줍니다.\n",
        "\n",
        "```\n",
        "class 클래스이름:\n",
        "    def __init__(self, 매개변수1, 매개변수2):\n",
        "        self.속성1 = 매개변수1\n",
        "        self.속성2 = 매개변수2\n",
        "```"
      ],
      "metadata": {
        "id": "49pRycS_-alN"
      }
    },
    {
      "cell_type": "code",
      "source": [
        "class BreadMachine:\n",
        "  def __init__(self, source, price, option) -> None:\n",
        "    self.source = source\n",
        "    self.price = price\n",
        "    self.option = option\n",
        "\n",
        "  def describe(self):\n",
        "    print(f\"재료: {self.source}\")\n",
        "    print(f\"가격: {self.price}\")\n",
        "    print(f\"굽기: {self.option}\")\n",
        "\n",
        "bread1 = BreadMachine(\"팥\", 1200, \"웰던\")\n",
        "bread1.describe()\n",
        "bread2 = BreadMachine(\"슈크림\", 1500, \"레어\")\n",
        "bread2.describe()"
      ],
      "metadata": {
        "colab": {
          "base_uri": "https://localhost:8080/"
        },
        "id": "GUYznt7g936h",
        "outputId": "0f125e0f-0dcc-49ab-8a1c-78ea9cc8546f"
      },
      "execution_count": null,
      "outputs": [
        {
          "output_type": "stream",
          "name": "stdout",
          "text": [
            "재료: 팥\n",
            "가격: 1200\n",
            "굽기: 웰던\n",
            "재료: 슈크림\n",
            "가격: 1500\n",
            "굽기: 레어\n"
          ]
        }
      ]
    },
    {
      "cell_type": "markdown",
      "source": [
        "### 클래스의 위치 인수, 키워드 인수"
      ],
      "metadata": {
        "id": "V2ysLkFB-mvh"
      }
    },
    {
      "cell_type": "markdown",
      "source": [
        "클래스로 인스턴스를 만들 때 위치 인수와 키워드 인수를 사용할 수 있습니다. 규칙은 함수와 같습니다. 위치 인수와 리스트 언패킹을 사용하려면 다음과 같이 *args를 사용하면 됩니다. 이때 매개변수에서 값을 가져오려면 args[0]처럼 사용해야 합니다."
      ],
      "metadata": {
        "id": "SVif_Bp2-pRE"
      }
    },
    {
      "cell_type": "code",
      "source": [
        "# class 클래스명: \n",
        "# (1) class (2) ' ' (3) 클래스명:\n",
        "class BungeoppangStore:\n",
        "    # 생성자 -> 매개변수들 전달 -> 내부의 속성(변수) 지정\n",
        "    # 생성자 = 함수 -> 위치 인수, 가변 인수, 키워드 가변인수, 기본값...\n",
        "    def __init__(self, name, *args, price=1200, **kwargs) -> None:\n",
        "        self.name = name # 필수\n",
        "        self.menu = args # 메뉴들\n",
        "        self.price = price # 기본값이 있어서 입력 안해줘도 됨\n",
        "        self.visitors = kwargs\n",
        "    \n",
        "    def introduce(self):\n",
        "        print(f\"안녕하세요 여러분! {self.name} 붕어빵 가게가 오픈했습니다\")\n",
        "        for i in self.menu:\n",
        "            print(f\"저희는 {i} 메뉴가 있습니다\")\n",
        "    \n",
        "    # def sell(self, visitor):\n",
        "    #     if visitor in self.visitors:\n",
        "    #         print(f\"단골은 반값이에요! {self.price // 2}원만 내세요\")\n",
        "    #         # self.visitors[visitor] += self.price // 2\n",
        "    #         self.visitors.update({visitor :\n",
        "    #                              self.visitors[visitor] + (self.price // 2)})\n",
        "    #         return\n",
        "    #     self.visitors[visitor] = self.price\n",
        "    #     print(\"처음 방문이시네요~ 자주 오세요!\")\n",
        "\n",
        "    def sell(self, visitor, item=\"치약붕어빵\"):\n",
        "        if item not in self.menu:\n",
        "            print(f\"{item}은 판매하는 메뉴중에 없습니다!\")\n",
        "            return\n",
        "        if item == '치약붕어빵':\n",
        "            print(f\"오늘 재료소진으로 치약붕어빵은 마감입니다\")\n",
        "            return\n",
        "        if visitor in self.visitors:\n",
        "            print(f\"단골은 반값이에요! {self.price // 2}원만 내세요\")\n",
        "            # self.visitors[visitor] += self.price // 2\n",
        "            self.visitors.update({visitor :\n",
        "                                 self.visitors[visitor] + (self.price // 2)})\n",
        "            return\n",
        "        self.visitors[visitor] = self.price\n",
        "        print(\"처음 방문이시네요~ 자주 오세요!\")"
      ],
      "metadata": {
        "id": "qiYCRAQB-jE4"
      },
      "execution_count": 81,
      "outputs": []
    },
    {
      "cell_type": "markdown",
      "source": [
        "키워드 인수와 딕셔너리 언패킹을 사용하려면 다음과 같이 **kwargs를 사용하면 됩니다. 이때 매개변수에서 값을 가져오려면 kwargs['name']처럼 사용해야 합니다."
      ],
      "metadata": {
        "id": "9Gb0fXXZ-tMl"
      }
    },
    {
      "cell_type": "code",
      "source": [
        "store1 = BungeoppangStore('민트초코붕어빵 1호점',\n",
        "                          '치약붕어빵', '번데기붕어빵', '취두부붕어빵',\n",
        "                          price=2000,\n",
        "                          james=5000, john=2000, kate=500\n",
        "                          )\n",
        "store1"
      ],
      "metadata": {
        "id": "8isWYZLI-rmN",
        "colab": {
          "base_uri": "https://localhost:8080/"
        },
        "outputId": "8821a70c-61e8-4f62-dd02-d92525a9f9ef"
      },
      "execution_count": 82,
      "outputs": [
        {
          "output_type": "execute_result",
          "data": {
            "text/plain": [
              "<__main__.BungeoppangStore at 0x7f8214089dc0>"
            ]
          },
          "metadata": {},
          "execution_count": 82
        }
      ]
    },
    {
      "cell_type": "code",
      "source": [
        "store1.visitors, store1.menu, store1.price"
      ],
      "metadata": {
        "colab": {
          "base_uri": "https://localhost:8080/"
        },
        "id": "Gb_ZhnvIGCsu",
        "outputId": "25578e8f-5234-40e3-e588-52184618001a"
      },
      "execution_count": 83,
      "outputs": [
        {
          "output_type": "execute_result",
          "data": {
            "text/plain": [
              "({'james': 5000, 'john': 2000, 'kate': 500},\n",
              " ('치약붕어빵', '번데기붕어빵', '취두부붕어빵'),\n",
              " 2000)"
            ]
          },
          "metadata": {},
          "execution_count": 83
        }
      ]
    },
    {
      "cell_type": "code",
      "source": [
        "store1.introduce()"
      ],
      "metadata": {
        "colab": {
          "base_uri": "https://localhost:8080/"
        },
        "id": "jlbjPggjGGml",
        "outputId": "814a1d32-e637-4ba2-eae5-0fadd18f0fbc"
      },
      "execution_count": 84,
      "outputs": [
        {
          "output_type": "stream",
          "name": "stdout",
          "text": [
            "안녕하세요 여러분! 민트초코붕어빵 1호점 붕어빵 가게가 오픈했습니다\n",
            "저희는 치약붕어빵 메뉴가 있습니다\n",
            "저희는 번데기붕어빵 메뉴가 있습니다\n",
            "저희는 취두부붕어빵 메뉴가 있습니다\n"
          ]
        }
      ]
    },
    {
      "cell_type": "code",
      "source": [
        "store1.sell(\"dongdong\")\n",
        "store1.sell('dongdong', '마약붕어빵')"
      ],
      "metadata": {
        "colab": {
          "base_uri": "https://localhost:8080/"
        },
        "id": "2dFeKdoTGIRk",
        "outputId": "eb2dd888-458c-4070-ae7a-c26e75835fbc"
      },
      "execution_count": 87,
      "outputs": [
        {
          "output_type": "stream",
          "name": "stdout",
          "text": [
            "오늘 재료소진으로 치약붕어빵은 마감입니다\n",
            "마약붕어빵은 판매하는 메뉴중에 없습니다!\n"
          ]
        }
      ]
    },
    {
      "cell_type": "code",
      "source": [
        "store1.visitors\n"
      ],
      "metadata": {
        "colab": {
          "base_uri": "https://localhost:8080/"
        },
        "id": "kqCvG8_jGM0R",
        "outputId": "4b39d5be-e8e3-4628-909c-7d100e384477"
      },
      "execution_count": 86,
      "outputs": [
        {
          "output_type": "execute_result",
          "data": {
            "text/plain": [
              "{'james': 5000, 'john': 2000, 'kate': 500}"
            ]
          },
          "metadata": {},
          "execution_count": 86
        }
      ]
    },
    {
      "cell_type": "code",
      "source": [
        "store2 = BungeoppangStore(\"민트초코붕어빵 2호점\",\n",
        "                          \"마약붕어빵\", \"어제먹다남은붕어빵\",\n",
        "                          price=20000,\n",
        "                          james=5000,john=2000, kate=500\n",
        "                          )\n",
        "\n",
        "store2"
      ],
      "metadata": {
        "id": "irABIrjBGOLj",
        "colab": {
          "base_uri": "https://localhost:8080/"
        },
        "outputId": "8a89a754-6c6f-46b7-a845-12f82799aa0e"
      },
      "execution_count": 88,
      "outputs": [
        {
          "output_type": "execute_result",
          "data": {
            "text/plain": [
              "<__main__.BungeoppangStore at 0x7f8214078700>"
            ]
          },
          "metadata": {},
          "execution_count": 88
        }
      ]
    },
    {
      "cell_type": "code",
      "source": [
        "store2.sell(\"김강사\", \"치약붕어빵\")"
      ],
      "metadata": {
        "colab": {
          "base_uri": "https://localhost:8080/"
        },
        "id": "VQYGOd2cIkfc",
        "outputId": "abecac45-ebfa-4d55-c347-43d9ee445a89"
      },
      "execution_count": 89,
      "outputs": [
        {
          "output_type": "stream",
          "name": "stdout",
          "text": [
            "치약붕어빵은 판매하는 메뉴중에 없습니다!\n"
          ]
        }
      ]
    },
    {
      "cell_type": "markdown",
      "source": [
        "### 인스턴스를 생성한 뒤에 속성 추가하기, 특정 속성만 허용하기"
      ],
      "metadata": {
        "id": "LO2leNnY-xuk"
      }
    },
    {
      "cell_type": "markdown",
      "source": [
        "지금까지 클래스의 인스턴스 속성은 `__init__` 메서드에서 추가한 뒤 사용했습니다. 하지만 클래스로 인스턴스를 만든 뒤에도 인스턴스.속성 = 값 형식으로 속성을 계속 추가할 수 있습니다. 다음 Person 클래스는 빈 클래스이지만 인스턴스를 만든 뒤 name 속성을 추가합니다.\n",
        "\n"
      ],
      "metadata": {
        "id": "Hn_9jNBL-5jC"
      }
    },
    {
      "cell_type": "code",
      "source": [
        "class Room:\n",
        "  pass # 클래스 안에서 self로 지정된 경우에는 클래스로 만들어진 인스턴스 간에 해당 속성이 공유"
      ],
      "metadata": {
        "id": "wdBJn0T4-v0n"
      },
      "execution_count": 69,
      "outputs": []
    },
    {
      "cell_type": "code",
      "source": [
        "doksan = Room()\n",
        "# 생성 후에 직접 attribute를 지정해서 할당해준 경우, 클래스를 공유하는 인스턴스 간에 해당 속성은 공유되지 않는다.\n",
        "doksan.name = \"행복한 자취방\"\n",
        "doksan.name"
      ],
      "metadata": {
        "colab": {
          "base_uri": "https://localhost:8080/",
          "height": 35
        },
        "id": "477mqsyjKkpr",
        "outputId": "b3523bff-2fab-4de8-c5ac-13009b32e770"
      },
      "execution_count": 73,
      "outputs": [
        {
          "output_type": "execute_result",
          "data": {
            "text/plain": [
              "'행복한 자취방'"
            ],
            "application/vnd.google.colaboratory.intrinsic+json": {
              "type": "string"
            }
          },
          "metadata": {},
          "execution_count": 73
        }
      ]
    },
    {
      "cell_type": "code",
      "source": [
        "# 이렇게 추가한 속성은 해당 인스턴스에만 생성됩니다.\n",
        "# 따라서 클래스로 다른 인스턴스를 만들었을 때는 추가한 속성이 생성되지 않습니다.\n",
        "\n",
        "신도림 = Room()\n",
        "신도림.name"
      ],
      "metadata": {
        "colab": {
          "base_uri": "https://localhost:8080/",
          "height": 191
        },
        "id": "kBf9ybGiKtdD",
        "outputId": "2a933270-072e-4ac7-89a8-ba46918044ac"
      },
      "execution_count": 72,
      "outputs": [
        {
          "output_type": "error",
          "ename": "AttributeError",
          "evalue": "ignored",
          "traceback": [
            "\u001b[0;31m---------------------------------------------------------------------------\u001b[0m",
            "\u001b[0;31mAttributeError\u001b[0m                            Traceback (most recent call last)",
            "\u001b[0;32m<ipython-input-72-5b41d7749d5e>\u001b[0m in \u001b[0;36m<module>\u001b[0;34m\u001b[0m\n\u001b[1;32m      1\u001b[0m \u001b[0m신도림\u001b[0m \u001b[0;34m=\u001b[0m \u001b[0mRoom\u001b[0m\u001b[0;34m(\u001b[0m\u001b[0;34m)\u001b[0m\u001b[0;34m\u001b[0m\u001b[0;34m\u001b[0m\u001b[0m\n\u001b[0;32m----> 2\u001b[0;31m \u001b[0m신도림\u001b[0m\u001b[0;34m.\u001b[0m\u001b[0mname\u001b[0m\u001b[0;34m\u001b[0m\u001b[0;34m\u001b[0m\u001b[0m\n\u001b[0m",
            "\u001b[0;31mAttributeError\u001b[0m: 'Room' object has no attribute 'name'"
          ]
        }
      ]
    },
    {
      "cell_type": "code",
      "source": [
        "# 인스턴스는 생성한 뒤에 속성을 추가할 수 있으므로 __init__ 메서드가 아닌\n",
        "# 다른 메서드에서도 속성을 추가할 수 있습니다. 단, 이때는 메서드를 호출해야 속성이 생성됩니다.\n",
        "class Car:\n",
        "  def fuel(self):\n",
        "    self.oil = 500\n",
        "  \n",
        "car = Car()\n",
        "car.oil"
      ],
      "metadata": {
        "colab": {
          "base_uri": "https://localhost:8080/",
          "height": 209
        },
        "id": "lqrRPLVS_FYr",
        "outputId": "ba16505b-f5e1-49de-9065-756e12ab45ed"
      },
      "execution_count": 74,
      "outputs": [
        {
          "output_type": "error",
          "ename": "AttributeError",
          "evalue": "ignored",
          "traceback": [
            "\u001b[0;31m---------------------------------------------------------------------------\u001b[0m",
            "\u001b[0;31mAttributeError\u001b[0m                            Traceback (most recent call last)",
            "\u001b[0;32m<ipython-input-74-3e9e279b2482>\u001b[0m in \u001b[0;36m<module>\u001b[0;34m\u001b[0m\n\u001b[1;32m      6\u001b[0m \u001b[0;34m\u001b[0m\u001b[0m\n\u001b[1;32m      7\u001b[0m \u001b[0mcar\u001b[0m \u001b[0;34m=\u001b[0m \u001b[0mCar\u001b[0m\u001b[0;34m(\u001b[0m\u001b[0;34m)\u001b[0m\u001b[0;34m\u001b[0m\u001b[0;34m\u001b[0m\u001b[0m\n\u001b[0;32m----> 8\u001b[0;31m \u001b[0mcar\u001b[0m\u001b[0;34m.\u001b[0m\u001b[0moil\u001b[0m\u001b[0;34m\u001b[0m\u001b[0;34m\u001b[0m\u001b[0m\n\u001b[0m",
            "\u001b[0;31mAttributeError\u001b[0m: 'Car' object has no attribute 'oil'"
          ]
        }
      ]
    },
    {
      "cell_type": "code",
      "source": [
        "car.fuel()\n",
        "car.oil"
      ],
      "metadata": {
        "colab": {
          "base_uri": "https://localhost:8080/"
        },
        "id": "fD9y8tgtLQ_f",
        "outputId": "e612b72b-ac26-4c97-f7a8-8ead681aa2c8"
      },
      "execution_count": 75,
      "outputs": [
        {
          "output_type": "execute_result",
          "data": {
            "text/plain": [
              "500"
            ]
          },
          "metadata": {},
          "execution_count": 75
        }
      ]
    },
    {
      "cell_type": "markdown",
      "source": [
        "## 클래스 속성과 인스턴스 속성 알아보기"
      ],
      "metadata": {
        "id": "kkZfupB6B4i8"
      }
    },
    {
      "cell_type": "markdown",
      "source": [
        "속성에는 클래스 속성과 인스턴스 속성 두 가지 종류가 있습니다. `__init__` 메서드에서 만들었던 속성은 인스턴스 속성입니다."
      ],
      "metadata": {
        "id": "i4HfuLL2B8Cg"
      }
    },
    {
      "cell_type": "markdown",
      "source": [
        "### 클래스 속성 사용하기"
      ],
      "metadata": {
        "id": "-5qGPIcYB_bZ"
      }
    },
    {
      "cell_type": "markdown",
      "source": [
        "```\n",
        "class 클래스이름:\n",
        "    속성 = 값\n",
        "```"
      ],
      "metadata": {
        "id": "nyNn7_s7CBvL"
      }
    },
    {
      "cell_type": "code",
      "source": [
        "class Store:\n",
        "  name = \"붕어빵가게\"\n",
        "  worker = [\"김나나\",\"박순철\",\"공형식\"]\n",
        "\n",
        "  def hire(self,name):\n",
        "    self.worker.append(name)\n",
        " "
      ],
      "metadata": {
        "id": "VSNvev17_TKX"
      },
      "execution_count": 76,
      "outputs": []
    },
    {
      "cell_type": "code",
      "source": [
        "s1 = Store()\n",
        "s1.hire(\"이형근\")\n",
        "\n",
        "s2 = Store()\n",
        "s2.hire(\"뿌링클\")\n",
        "\n",
        "print(s1.worker)\n",
        "print(s2.worker)"
      ],
      "metadata": {
        "colab": {
          "base_uri": "https://localhost:8080/"
        },
        "id": "h-BkbWd6eacv",
        "outputId": "5932e74b-419f-4a57-c881-a7d0557e7b4b"
      },
      "execution_count": 78,
      "outputs": [
        {
          "output_type": "stream",
          "name": "stdout",
          "text": [
            "['김나나', '박순철', '공형식', '이형근', '뿌링클', '이형근', '뿌링클']\n",
            "['김나나', '박순철', '공형식', '이형근', '뿌링클', '이형근', '뿌링클']\n"
          ]
        }
      ]
    },
    {
      "cell_type": "code",
      "source": [
        "class Store:\n",
        "  name = \"붕어빵가게\"\n",
        "\n",
        "  def __init__(self):\n",
        "    self.worker = [\"김나나\", \"박순철\", \"공형식\"]\n",
        "\n",
        "  def hire(self, name):\n",
        "    self.worker.append(name)\n",
        "\n"
      ],
      "metadata": {
        "id": "ybiW6kMuezp4"
      },
      "execution_count": 79,
      "outputs": []
    },
    {
      "cell_type": "markdown",
      "source": [
        "put_bag 메서드에서 클래스 속성 bag에 접근할 때 self를 사용했습니다. 사실 self는 현재 인스턴스를 뜻하므로 클래스 속성을 지칭하기에는 조금 모호합니다."
      ],
      "metadata": {
        "id": "WByeye1SCIO_"
      }
    },
    {
      "cell_type": "code",
      "source": [
        "class Store:\n",
        "  name = \"붕어빵가게\"\n",
        "  worker = [\"김나나\", \"박순철\", \"공형식\"]\n",
        "\n",
        "  def hire(self, name):\n",
        "    Store.worker.append(name)\n",
        "\n"
      ],
      "metadata": {
        "id": "CJNRXrJGCF4m"
      },
      "execution_count": null,
      "outputs": []
    },
    {
      "cell_type": "markdown",
      "source": [
        "그래서 클래스 속성에 접근할 때는 다음과 같이 클래스 이름으로 접근하면 좀 더 코드가 명확해집니다.\n",
        "\n",
        "* `클래스.속성`"
      ],
      "metadata": {
        "id": "tUt-1pucCMTk"
      }
    },
    {
      "cell_type": "markdown",
      "source": [
        "Person.bag이라고 하니 클래스 Person에 속한 bag 속성이라는 것을 바로 알 수 있습니다. 마찬가지로 클래스 바깥에서도 다음과 같이 클래스 이름으로 클래스 속성에 접근하면 됩니다."
      ],
      "metadata": {
        "id": "NmH5z3zZCWHW"
      }
    },
    {
      "cell_type": "markdown",
      "source": [
        "### 인스턴스 속성 사용하기"
      ],
      "metadata": {
        "id": "2NflnJUOCaKy"
      }
    },
    {
      "cell_type": "markdown",
      "source": [
        "* 클래스 속성: 모든 인스턴스가 공유. 인스턴스 전체가 사용해야 하는 값을 저장할 때 사용\n",
        "* 인스턴스 속성: 인스턴스별로 독립되어 있음. 각 인스턴스가 값을 따로 저장해야 할 때 사용"
      ],
      "metadata": {
        "id": "um_Xg6gWCgoO"
      }
    },
    {
      "cell_type": "markdown",
      "source": [
        "## 클래스 상속 사용하기"
      ],
      "metadata": {
        "id": "PMshhQv3H0vm"
      }
    },
    {
      "cell_type": "markdown",
      "source": [
        "지금까지 클래스의 기본적인 사용 방법을 알아보았습니다. 이번에는 클래스 상속(inheritance)을 사용해보겠습니다.\n",
        "\n",
        "상속은 무언가를 물려받는다는 뜻입니다. 그래서 클래스 상속은 물려받은 기능을 유지한채로 다른 기능을 추가할 때 사용하는 기능입니다. 여기서 기능을 물려주는 클래스를 기반 클래스(base class), 상속을 받아 새롭게 만드는 클래스를 파생 클래스(derived class)라고 합니다.\n",
        "\n"
      ],
      "metadata": {
        "id": "j-0NWz0OH3jm"
      }
    },
    {
      "cell_type": "markdown",
      "source": [
        "보통 기반 클래스는 부모 클래스(parent class), 슈퍼 클래스(superclass)라고 부르고, 파생 클래스는 자식 클래스(child class), 서브 클래스(subclass)라고도 부릅니다.\n",
        "\n",
        "클래스 상속은 생물 분류를 떠올리면 이해하기 쉽습니다. 예를 들어 조류, 어류는 공통된 조상인 척추동물로부터 물려받은 특성을 공유하면서 각자 고유한 특성을 가집니다. 척추를 가졌다는 특성은 변함이 없지만 날개를 가졌으면 조류, 물속에 살면 어류인 식입니다. 즉, 같은 계통으로 특성을 공유하며 전혀 상관없이 어류가 꽃식물의 특성을 가지지는 않습니다."
      ],
      "metadata": {
        "id": "SuAjAzh2H6Gu"
      }
    },
    {
      "cell_type": "markdown",
      "source": [
        "마찬가지로 클래스 상속도 기반 클래스의 능력을 그대로 활용하면서 새로운 클래스를 만들 때 사용합니다. 동물을 예로 들면 척추동물에서 포유류, 조류, 파충류 등을 만드는 식이죠.\n",
        "\n",
        "그런데 그냥 새로운 클래스를 만들면 되지 왜 이런 상속 개념을 만들었을까요? 만약 새로운 기능이 필요할 때마다 계속 클래스를 만든다면 중복되는 부분을 반복해서 만들어야 합니다. 이럴 때 상속을 사용하면 중복되는 기능을 만들지 않아도 됩니다. 따라서 상속은 기존 기능을 재사용할 수 있어서 효율적입니다."
      ],
      "metadata": {
        "id": "EEzOF-11H8P-"
      }
    },
    {
      "cell_type": "markdown",
      "source": [
        "클래스 상속은 다음과 같이 클래스를 만들 때 ( )(괄호)를 붙이고 안에 기반 클래스 이름을 넣습니다.\n",
        "\n",
        "```\n",
        "class 기반클래스이름:\n",
        "    코드\n",
        " \n",
        "class 파생클래스이름(기반클래스이름):\n",
        "    코드\n",
        "```"
      ],
      "metadata": {
        "id": "CJi8U6CRH9tE"
      }
    },
    {
      "cell_type": "code",
      "source": [
        "class PizzaStore:\n",
        "  def __init__(self, name, *args) -> None:\n",
        "    self.name = name\n",
        "    self.menu = args\n",
        "\n",
        "\n",
        "  def eat_here(self, item):\n",
        "    if item not in self.menu:\n",
        "      print(\"지원하는 메뉴가 아닙니다.\")\n",
        "      return\n",
        "    print(f\"맛있게 드세요: {item}\")"
      ],
      "metadata": {
        "id": "GWinSG8CCeOo"
      },
      "execution_count": 91,
      "outputs": []
    },
    {
      "cell_type": "code",
      "source": [
        "store1 = PizzaStore(\"프레디네 피자가게\", \"페퍼로니피자\", \"오징어젓갈피자\")"
      ],
      "metadata": {
        "id": "uT-oKolfhvxc"
      },
      "execution_count": 92,
      "outputs": []
    },
    {
      "cell_type": "code",
      "source": [
        "store1.eat_here(\"페퍼로니피자\")"
      ],
      "metadata": {
        "colab": {
          "base_uri": "https://localhost:8080/"
        },
        "id": "k9blSktLh38d",
        "outputId": "c56d9f13-3124-4469-b036-8eabb6f39e3f"
      },
      "execution_count": 94,
      "outputs": [
        {
          "output_type": "stream",
          "name": "stdout",
          "text": [
            "맛있게 드세요: 페퍼로니피자\n"
          ]
        }
      ]
    },
    {
      "cell_type": "code",
      "source": [
        "class DrivePizzaStore(PizzaStore):\n",
        "  def drive_thru(self, item):\n",
        "    if item not in self.menu:\n",
        "      print(\"지원하는 메뉴가 아닙니다\")\n",
        "      return\n",
        "    print(f\"포장이 완료되었습니다: {item}\")\n",
        "    "
      ],
      "metadata": {
        "id": "yP6Lg1OWh8Ur"
      },
      "execution_count": 96,
      "outputs": []
    },
    {
      "cell_type": "code",
      "source": [
        "store2 = DrivePizzaStore(\"프레디네 피자가게\", \"페퍼로니피자\", \"오징어젓갈피자\")\n",
        "store2.drive_thru(\"오징어젓갈피자\")\n",
        "store2.eat_here(\"오징어젓갈피자\")"
      ],
      "metadata": {
        "colab": {
          "base_uri": "https://localhost:8080/"
        },
        "id": "UXH8e5QQiezE",
        "outputId": "3c685ae6-218d-4f78-b28b-ded51d1648a3"
      },
      "execution_count": 98,
      "outputs": [
        {
          "output_type": "stream",
          "name": "stdout",
          "text": [
            "포장이 완료되었습니다: 오징어젓갈피자\n",
            "맛있게 드세요: 오징어젓갈피자\n"
          ]
        }
      ]
    },
    {
      "cell_type": "markdown",
      "source": [
        "이처럼 클래스 상속은 기반 클래스의 기능을 유지하면서 새로운 기능을 추가할 수 있습니다. 특히 클래스 상속은 연관되면서 동등한 기능일 때 사용합니다. 즉, 학생은 사람이므로 연관된 개념이고, 학생은 사람에서 역할만 확장되었을 뿐 동등한 개념입니다."
      ],
      "metadata": {
        "id": "AULPOz91IFLc"
      }
    },
    {
      "cell_type": "markdown",
      "source": [
        "## 기반 클래스의 속성 사용하기"
      ],
      "metadata": {
        "id": "ojAK6jUIIKlF"
      }
    },
    {
      "cell_type": "markdown",
      "source": [
        "이번에는 기반 클래스에 들어있는 인스턴스 속성을 사용해보겠습니다. 다음과 같이 Person 클래스에 hello 속성이 있고, Person 클래스를 상속받아 Student 클래스를 만듭니다. 그다음에 Student로 인스턴스를 만들고 hello 속성에 접근해봅니다.\n",
        "\n"
      ],
      "metadata": {
        "id": "bSmSqV8OIOGH"
      }
    },
    {
      "cell_type": "code",
      "source": [
        "class Programmer:\n",
        "  def __init__(self) -> None:\n",
        "    self.habit = \"머리를 쥐어 뜯는다\"\n",
        "    self.money = 20000\n",
        "\n",
        "class PythonProgrammer(Programmer):\n",
        "  def __init__(self, habit) -> None:\n",
        "    self.habit = habit\n"
      ],
      "metadata": {
        "id": "azED8RKYIBDd"
      },
      "execution_count": 99,
      "outputs": []
    },
    {
      "cell_type": "code",
      "source": [
        "kim = Programmer()\n",
        "kim.habit, kim.money"
      ],
      "metadata": {
        "colab": {
          "base_uri": "https://localhost:8080/"
        },
        "id": "yi7FljI_j9BI",
        "outputId": "ce3b9adf-d679-4e1c-97a6-64eda42e0d7c"
      },
      "execution_count": 101,
      "outputs": [
        {
          "output_type": "execute_result",
          "data": {
            "text/plain": [
              "('머리를 쥐어 뜯는다', 20000)"
            ]
          },
          "metadata": {},
          "execution_count": 101
        }
      ]
    },
    {
      "cell_type": "code",
      "source": [
        "lee = PythonProgrammer(\"손톱 물어뜯기\")\n",
        "print(lee.habit)\n",
        "print(lee.money)"
      ],
      "metadata": {
        "colab": {
          "base_uri": "https://localhost:8080/",
          "height": 227
        },
        "id": "s2luhqF7kFwj",
        "outputId": "26a66df3-fc00-4344-e20f-e5f7aede3d2a"
      },
      "execution_count": 105,
      "outputs": [
        {
          "output_type": "stream",
          "name": "stdout",
          "text": [
            "손톱 물어뜯기\n"
          ]
        },
        {
          "output_type": "error",
          "ename": "AttributeError",
          "evalue": "ignored",
          "traceback": [
            "\u001b[0;31m---------------------------------------------------------------------------\u001b[0m",
            "\u001b[0;31mAttributeError\u001b[0m                            Traceback (most recent call last)",
            "\u001b[0;32m<ipython-input-105-417b913e4a79>\u001b[0m in \u001b[0;36m<module>\u001b[0;34m\u001b[0m\n\u001b[1;32m      1\u001b[0m \u001b[0mlee\u001b[0m \u001b[0;34m=\u001b[0m \u001b[0mPythonProgrammer\u001b[0m\u001b[0;34m(\u001b[0m\u001b[0;34m\"손톱 물어뜯기\"\u001b[0m\u001b[0;34m)\u001b[0m\u001b[0;34m\u001b[0m\u001b[0;34m\u001b[0m\u001b[0m\n\u001b[1;32m      2\u001b[0m \u001b[0mprint\u001b[0m\u001b[0;34m(\u001b[0m\u001b[0mlee\u001b[0m\u001b[0;34m.\u001b[0m\u001b[0mhabit\u001b[0m\u001b[0;34m)\u001b[0m\u001b[0;34m\u001b[0m\u001b[0;34m\u001b[0m\u001b[0m\n\u001b[0;32m----> 3\u001b[0;31m \u001b[0mprint\u001b[0m\u001b[0;34m(\u001b[0m\u001b[0mlee\u001b[0m\u001b[0;34m.\u001b[0m\u001b[0mmoney\u001b[0m\u001b[0;34m)\u001b[0m\u001b[0;34m\u001b[0m\u001b[0;34m\u001b[0m\u001b[0m\n\u001b[0m",
            "\u001b[0;31mAttributeError\u001b[0m: 'PythonProgrammer' object has no attribute 'money'"
          ]
        }
      ]
    },
    {
      "cell_type": "markdown",
      "source": [
        "```\n",
        "실행을 해보면 에러가 발생합니다.\n",
        "왜냐하면 기반 클래스 Person의 __init__ 메서드가 호출되지 않았기 때문입니다.\n",
        "실행 결과를 잘 보면 'Student __init__'만 출력되었습니다.\n",
        "\n",
        "즉, Person의 __init__ 메서드가 호출되지 않으면,\n",
        "self.hello = '안녕하세요.'도 실행되지 않아서 속성이 만들어지지 않습니다.\n",
        "```"
      ],
      "metadata": {
        "id": "UkYFULulIR3j"
      }
    },
    {
      "cell_type": "markdown",
      "source": [
        "### super()로 기반 클래스 초기화하기"
      ],
      "metadata": {
        "id": "FjvWYQcZIT8l"
      }
    },
    {
      "cell_type": "markdown",
      "source": [
        "이때는 super()를 사용해서 기반 클래스의 __init__ 메서드를 호출해줍니다. 다음과 같이 super() 뒤에 .(점)을 붙여서 메서드를 호출하는 방식입니다.\n",
        "\n",
        "* `super().메서드()`\n"
      ],
      "metadata": {
        "id": "25HyxJUwIV7F"
      }
    },
    {
      "cell_type": "code",
      "source": [
        "class PythonProgrammer(Programmer):\n",
        "  def __init__(self, habit) -> None:\n",
        "    super().__init__() # \n",
        "    print(\"+\", self.habit, self.money)\n",
        "    self.habit = habit\n",
        "\n",
        "lee = PythonProgrammer(\"손톱 물어뜯기\")\n",
        "print(lee.habit)\n",
        "print(lee.money)\n"
      ],
      "metadata": {
        "colab": {
          "base_uri": "https://localhost:8080/"
        },
        "id": "6sRYa0L0IP7d",
        "outputId": "30e788a2-41d8-46f0-b119-f4a2fd361527"
      },
      "execution_count": 107,
      "outputs": [
        {
          "output_type": "stream",
          "name": "stdout",
          "text": [
            "+ 머리를 쥐어 뜯는다 20000\n",
            "손톱 물어뜯기\n",
            "20000\n"
          ]
        }
      ]
    },
    {
      "cell_type": "code",
      "source": [
        "class PythonProgrammer(Programmer):\n",
        "  def __init__(self, habit) -> None:\n",
        "    print(\"+\", self.habit, self.money)\n",
        "    self.habit = habit\n",
        "    super().__init__() # <이 코드가 나중에 수행되면 상위 클래스의 생성자가 self, habit을 바꿈\n",
        "    # 매개변수를 통해 부여한 habit이 상위클래스로 인해 덮어씌워짐\n",
        "\n",
        "\n",
        "lee = PythonProgrammer(\"손톱 물어뜯기\")\n",
        "print(lee.habit)\n",
        "print(lee.money)\n"
      ],
      "metadata": {
        "colab": {
          "base_uri": "https://localhost:8080/",
          "height": 373
        },
        "id": "mI7fJmgmk3QP",
        "outputId": "0ab67e1f-bd8c-493f-8f85-c63b9bde71a0"
      },
      "execution_count": 108,
      "outputs": [
        {
          "output_type": "error",
          "ename": "AttributeError",
          "evalue": "ignored",
          "traceback": [
            "\u001b[0;31m---------------------------------------------------------------------------\u001b[0m",
            "\u001b[0;31mAttributeError\u001b[0m                            Traceback (most recent call last)",
            "\u001b[0;32m<ipython-input-108-086baa0f7d9d>\u001b[0m in \u001b[0;36m<module>\u001b[0;34m\u001b[0m\n\u001b[1;32m      7\u001b[0m \u001b[0;34m\u001b[0m\u001b[0m\n\u001b[1;32m      8\u001b[0m \u001b[0;34m\u001b[0m\u001b[0m\n\u001b[0;32m----> 9\u001b[0;31m \u001b[0mlee\u001b[0m \u001b[0;34m=\u001b[0m \u001b[0mPythonProgrammer\u001b[0m\u001b[0;34m(\u001b[0m\u001b[0;34m\"손톱 물어뜯기\"\u001b[0m\u001b[0;34m)\u001b[0m\u001b[0;34m\u001b[0m\u001b[0;34m\u001b[0m\u001b[0m\n\u001b[0m\u001b[1;32m     10\u001b[0m \u001b[0mprint\u001b[0m\u001b[0;34m(\u001b[0m\u001b[0mlee\u001b[0m\u001b[0;34m.\u001b[0m\u001b[0mhabit\u001b[0m\u001b[0;34m)\u001b[0m\u001b[0;34m\u001b[0m\u001b[0;34m\u001b[0m\u001b[0m\n\u001b[1;32m     11\u001b[0m \u001b[0mprint\u001b[0m\u001b[0;34m(\u001b[0m\u001b[0mlee\u001b[0m\u001b[0;34m.\u001b[0m\u001b[0mmoney\u001b[0m\u001b[0;34m)\u001b[0m\u001b[0;34m\u001b[0m\u001b[0;34m\u001b[0m\u001b[0m\n",
            "\u001b[0;32m<ipython-input-108-086baa0f7d9d>\u001b[0m in \u001b[0;36m__init__\u001b[0;34m(self, habit)\u001b[0m\n\u001b[1;32m      1\u001b[0m \u001b[0;32mclass\u001b[0m \u001b[0mPythonProgrammer\u001b[0m\u001b[0;34m(\u001b[0m\u001b[0mProgrammer\u001b[0m\u001b[0;34m)\u001b[0m\u001b[0;34m:\u001b[0m\u001b[0;34m\u001b[0m\u001b[0;34m\u001b[0m\u001b[0m\n\u001b[1;32m      2\u001b[0m   \u001b[0;32mdef\u001b[0m \u001b[0m__init__\u001b[0m\u001b[0;34m(\u001b[0m\u001b[0mself\u001b[0m\u001b[0;34m,\u001b[0m \u001b[0mhabit\u001b[0m\u001b[0;34m)\u001b[0m \u001b[0;34m->\u001b[0m \u001b[0;32mNone\u001b[0m\u001b[0;34m:\u001b[0m\u001b[0;34m\u001b[0m\u001b[0;34m\u001b[0m\u001b[0m\n\u001b[0;32m----> 3\u001b[0;31m     \u001b[0mprint\u001b[0m\u001b[0;34m(\u001b[0m\u001b[0;34m\"+\"\u001b[0m\u001b[0;34m,\u001b[0m \u001b[0mself\u001b[0m\u001b[0;34m.\u001b[0m\u001b[0mhabit\u001b[0m\u001b[0;34m,\u001b[0m \u001b[0mself\u001b[0m\u001b[0;34m.\u001b[0m\u001b[0mmoney\u001b[0m\u001b[0;34m)\u001b[0m\u001b[0;34m\u001b[0m\u001b[0;34m\u001b[0m\u001b[0m\n\u001b[0m\u001b[1;32m      4\u001b[0m     \u001b[0mself\u001b[0m\u001b[0;34m.\u001b[0m\u001b[0mhabit\u001b[0m \u001b[0;34m=\u001b[0m \u001b[0mhabit\u001b[0m\u001b[0;34m\u001b[0m\u001b[0;34m\u001b[0m\u001b[0m\n\u001b[1;32m      5\u001b[0m     \u001b[0msuper\u001b[0m\u001b[0;34m(\u001b[0m\u001b[0;34m)\u001b[0m\u001b[0;34m.\u001b[0m\u001b[0m__init__\u001b[0m\u001b[0;34m(\u001b[0m\u001b[0;34m)\u001b[0m \u001b[0;31m# <이 코드가 나중에 수행되면 상위 클래스의 생성자가 self, habit을 바꿈\u001b[0m\u001b[0;34m\u001b[0m\u001b[0;34m\u001b[0m\u001b[0m\n",
            "\u001b[0;31mAttributeError\u001b[0m: 'PythonProgrammer' object has no attribute 'habit'"
          ]
        }
      ]
    },
    {
      "cell_type": "markdown",
      "source": [
        "### 기반 클래스를 초기화하지 않아도 되는 경우"
      ],
      "metadata": {
        "id": "P6l6bR3FIb1E"
      }
    },
    {
      "cell_type": "markdown",
      "source": [
        "`만약 파생 클래스에서 __init__ 메서드를 생략한다면 기반 클래스의 __init__이 자동으로 호출되므로 super()는 사용하지 않아도 됩니다.`"
      ],
      "metadata": {
        "id": "NWxDcf6zIdv9"
      }
    },
    {
      "cell_type": "code",
      "source": [
        "class PythonProgrammer(Programmer):\n",
        "  pass\n",
        "\n",
        "John = PythonProgrammer()\n",
        "John.habit, John.money"
      ],
      "metadata": {
        "colab": {
          "base_uri": "https://localhost:8080/"
        },
        "id": "ksPkmYszIZFJ",
        "outputId": "1591df85-4675-46d1-9018-b71442d92c39"
      },
      "execution_count": 110,
      "outputs": [
        {
          "output_type": "execute_result",
          "data": {
            "text/plain": [
              "('머리를 쥐어 뜯는다', 20000)"
            ]
          },
          "metadata": {},
          "execution_count": 110
        }
      ]
    },
    {
      "cell_type": "markdown",
      "source": [
        "### 좀 더 명확하게 super 사용하기"
      ],
      "metadata": {
        "id": "HDJIzx-_Ik45"
      }
    },
    {
      "cell_type": "markdown",
      "source": [
        "super는 다음과 같이 파생 클래스와 self를 넣어서 현재 클래스가 어떤 클래스인지 명확하게 표시하는 방법도 있습니다. 물론 super()와 기능은 같습니다.\n",
        "\n",
        "* `super(파생클래스, self).메서드`"
      ],
      "metadata": {
        "id": "gtNOtkcsInmH"
      }
    },
    {
      "cell_type": "code",
      "source": [
        "# 3단 상속\n",
        "\n",
        "class Human:\n",
        "  def run(self):\n",
        "    print(\"달려간다\")\n",
        "\n",
        "class MetaHuman(Human):\n",
        "  def run(self):\n",
        "    super().run()\n",
        "    print(\"더 빠르게 달려간다.\")\n",
        "\n",
        "class MetaMetaHuman(MetaHuman):\n",
        "  def run(self):\n",
        "    super(MetaHuman, self).run() # super(상속클래스의 부모를 지정해서 메소드를 쓰면 됨)\n",
        "    print(\"상당히 더 빠르게 달려간다.\")\n",
        "\n"
      ],
      "metadata": {
        "id": "PDSjm1mtIiI0"
      },
      "execution_count": 114,
      "outputs": []
    },
    {
      "cell_type": "code",
      "source": [
        "Joy = MetaMetaHuman()\n",
        "Joy.run()"
      ],
      "metadata": {
        "colab": {
          "base_uri": "https://localhost:8080/"
        },
        "id": "f7mtaiylmU1v",
        "outputId": "2877bd25-dbaa-43e7-b7f8-7af929f342a7"
      },
      "execution_count": 115,
      "outputs": [
        {
          "output_type": "stream",
          "name": "stdout",
          "text": [
            "달려간다\n",
            "상당히 더 빠르게 달려간다.\n"
          ]
        }
      ]
    },
    {
      "cell_type": "markdown",
      "source": [
        "## 메서드 오버라이딩 사용하기"
      ],
      "metadata": {
        "id": "2Er9Qj7FItQI"
      }
    },
    {
      "cell_type": "markdown",
      "source": [
        "이번에는 파생 클래스에서 기반 클래스의 메서드를 새로 정의하는 메서드 오버라이딩에 대해 알아보겠습니다. 다음과 같이 Person의 greeting 메서드가 있는 상태에서 Student에도 greeting 메서드를 만듭니다.\n",
        "\n"
      ],
      "metadata": {
        "id": "w3mT1wS8IxfX"
      }
    },
    {
      "cell_type": "code",
      "source": [
        "class TeslaCar:\n",
        "  def hello(self):\n",
        "    print(\"화성 갈끄니까\")\n",
        "\n",
        "\n",
        "class SuperTeslaCar(TeslaCar):\n",
        "  def hello(self):\n",
        "    print(\"목성 갈끄니까\")\n",
        "  \n",
        "\n",
        "a = TeslaCar()\n",
        "a.hello()\n",
        "\n",
        "b = SuperTeslaCar()\n",
        "b.hello"
      ],
      "metadata": {
        "colab": {
          "base_uri": "https://localhost:8080/"
        },
        "id": "NORegmYnIqiM",
        "outputId": "0127891f-19ef-45f4-9156-5670b51904be"
      },
      "execution_count": 118,
      "outputs": [
        {
          "output_type": "stream",
          "name": "stdout",
          "text": [
            "목성 갈끄니까\n"
          ]
        }
      ]
    },
    {
      "cell_type": "markdown",
      "source": [
        "오버라이딩(overriding)은 무시하다, 우선하다라는 뜻을 가지고 있는데 말 그대로 기반 클래스의 메서드를 무시하고 새로운 메서드를 만든다는 뜻입니다. 여기서는 Person 클래스의 greeting 메서드를 무시하고 Student 클래스에서 새로운 greeting 메서드를 만들었습니다.\n",
        "\n",
        "그럼 메서드 오버라이딩은 왜 사용할까요? 보통 프로그램에서 어떤 기능이 같은 메서드 이름으로 계속 사용되어야 할 때 메서드 오버라이딩을 활용합니다."
      ],
      "metadata": {
        "id": "e9jvc7E1I2zi"
      }
    },
    {
      "cell_type": "markdown",
      "source": [
        "기반 클래스의 메서드를 재활용하면 중복을 줄일 수 있습니다. 다음과 같이 오버라이딩된 메서드에서 super()로 기반 클래스의 메서드를 호출해봅니다."
      ],
      "metadata": {
        "id": "8QAkCmaRI3bC"
      }
    },
    {
      "cell_type": "code",
      "source": [
        "class TeslaCar:\n",
        "  def hello(self, place = \"화성\"):\n",
        "    print(f\"{place} 갈끄니까\")\n",
        "\n",
        "\n",
        "class SuperTeslaCar(TeslaCar):\n",
        "  def hello(self):\n",
        "    super().hello(\"목성\")\n",
        "\n",
        "a = TeslaCar()\n",
        "a.hello()\n",
        "\n",
        "b = SuperTeslaCar()\n",
        "b.hello"
      ],
      "metadata": {
        "colab": {
          "base_uri": "https://localhost:8080/"
        },
        "id": "RMhMSnTHIzDx",
        "outputId": "9e79dc6a-7067-41d6-d75e-62897a02c6fb"
      },
      "execution_count": null,
      "outputs": [
        {
          "output_type": "stream",
          "name": "stdout",
          "text": [
            "안녕하세요.\n",
            "저는 파이썬 코딩 도장 학생입니다.\n"
          ]
        }
      ]
    }
  ]
}