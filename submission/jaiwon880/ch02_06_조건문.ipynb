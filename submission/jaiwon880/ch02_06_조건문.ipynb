{
  "nbformat": 4,
  "nbformat_minor": 0,
  "metadata": {
    "colab": {
      "provenance": [],
      "include_colab_link": true
    },
    "kernelspec": {
      "name": "python3",
      "display_name": "Python 3"
    },
    "language_info": {
      "name": "python"
    }
  },
  "cells": [
    {
      "cell_type": "markdown",
      "metadata": {
        "id": "view-in-github",
        "colab_type": "text"
      },
      "source": [
        "<a href=\"https://colab.research.google.com/github/jaiwon880/Python_bd23_hjw/blob/main/submission/jaiwon880/ch02_06_%EC%A1%B0%EA%B1%B4%EB%AC%B8.ipynb\" target=\"_parent\"><img src=\"https://colab.research.google.com/assets/colab-badge.svg\" alt=\"Open In Colab\"/></a>"
      ]
    },
    {
      "cell_type": "markdown",
      "source": [
        "# 조건문"
      ],
      "metadata": {
        "id": "muAbeeJLQexU"
      }
    },
    {
      "cell_type": "markdown",
      "source": [
        "조건문은 특정 조건일 때 코드를 실행하는 문법입니다. 프로그램을 만들다 보면 여러 가지 상황을 처리해야 하는 경우가 생기죠. 이때 조건문은 다양한 상황에 대처할 때 사용합니다.\n",
        "\n",
        "먼저 실생활의 예를 들어보겠습니다. 만약 세탁기에 빨래를 넣고 돌렸다면 다음과 같은 조건문을 만들 수 있겠죠?\n",
        "\n",
        "```\n",
        "if 세탁 완료 소리가 울리면:\n",
        "    빨래를 꺼내서 말린다.\n",
        "```\n",
        "\n",
        "다음과 같이 날씨에 따라 행동할 수도 있습니다.\n",
        "\n",
        "```\n",
        "if 비가 온다면:\n",
        "    우산을 가지고 나간다.\n",
        " \n",
        "if 날씨가 춥다면:\n",
        "    코트를 입고 나간다.\n",
        " \n",
        "if 날씨가 덥다면:\n",
        "    반소매에 얇은 옷을 입고 나간다.\n",
        "```\n",
        "\n",
        "즉, 조건문을 사용하면 조건에 따라 다른 코드를 실행할 수 있습니다. 이번 유닛부터는 if 조건문의 다양한 사용 방법을 알아보겠습니다."
      ],
      "metadata": {
        "id": "wyf8ka4VQhwM"
      }
    },
    {
      "cell_type": "markdown",
      "source": [
        "### 의사 코드\n",
        "\n",
        "프로그래밍이나 컴퓨터 이론을 공부하다 보면 의사 코드(pseudo code)라는 말을 접하게 됩니다. 의사 코드는 실제 프로그래밍 언어가 아닌 사람의 언어로 프로그래밍 언어를 표현한 것입니다. 보통 특정 프로그래밍 언어를 사용하지 않고 알고리즘이나 컴퓨터 명령을 기술할 때 사용합니다.\n",
        "\n",
        "```\n",
        "x = 10    # 파이썬 코드\n",
        "변수 x에 10 할당    # 한글로 표현한 의사 코드\n",
        "```\n",
        "\n",
        "앞에서 if 조건문을 설명할 때 \"if 비가 온다면\", \"우산을 가지고 나간다.\"도 일종의 의사 코드입니다."
      ],
      "metadata": {
        "id": "CEJCmwXaQsCd"
      }
    },
    {
      "cell_type": "markdown",
      "source": [
        "## if 조건문 사용하기"
      ],
      "metadata": {
        "id": "Vn_h0cdTQxz-"
      }
    },
    {
      "cell_type": "markdown",
      "source": [
        "if 조건문은 if에 조건식을 지정하고 :(콜론)을 붙이며 다음 줄에 실행할 코드가 옵니다. 이때 실행할 코드는 반드시 들여쓰기를 해야 합니다.\n",
        "\n",
        "```\n",
        "if 아보카도가 있으면:\n",
        "    우유를 6개 사와\n",
        "else:\n",
        "    우유를 1개 사와\n",
        "```\n",
        "\n",
        "```\n",
        "우유를 1개 사와\n",
        "\n",
        "if 아보카도가 있으면:\n",
        "    아보카도 6개 사와\n",
        "```"
      ],
      "metadata": {
        "id": "l-U57PwzQ0eD"
      }
    },
    {
      "cell_type": "code",
      "execution_count": 1,
      "metadata": {
        "colab": {
          "base_uri": "https://localhost:8080/"
        },
        "id": "fyakrswxIdvL",
        "outputId": "bec07ff4-be29-44d3-f794-e8e3d869b0d0"
      },
      "outputs": [
        {
          "output_type": "stream",
          "name": "stdout",
          "text": [
            "10입니다.\n"
          ]
        }
      ],
      "source": [
        "x = 10 # 10을 x에 할당하고\n",
        "if x == 10:\n",
        "  print(\"10입니다.\")\n",
        "else:\n",
        "  print(\"10 아님\")"
      ]
    },
    {
      "cell_type": "markdown",
      "source": [
        "만약 if 다음 줄에서 들여쓰기를 하지 않으면 들여쓰기 에러가 발생합니다. 이 항상 이 부분을 주의해주세요.\n",
        "\n"
      ],
      "metadata": {
        "id": "xhvFP7zpQ7MB"
      }
    },
    {
      "cell_type": "code",
      "source": [
        "if x == 10:\n",
        "print(\"10입니다.\")\n",
        "else:\n",
        "  print(\"10 아님\")"
      ],
      "metadata": {
        "colab": {
          "base_uri": "https://localhost:8080/",
          "height": 136
        },
        "id": "bqE71shqQ5c2",
        "outputId": "c424a35f-c3fb-4f06-bab7-5d104acde2c5"
      },
      "execution_count": 2,
      "outputs": [
        {
          "output_type": "error",
          "ename": "IndentationError",
          "evalue": "ignored",
          "traceback": [
            "\u001b[0;36m  File \u001b[0;32m\"<ipython-input-2-5f20fe719dbc>\"\u001b[0;36m, line \u001b[0;32m2\u001b[0m\n\u001b[0;31m    print(\"10입니다.\")\u001b[0m\n\u001b[0m    ^\u001b[0m\n\u001b[0;31mIndentationError\u001b[0m\u001b[0;31m:\u001b[0m expected an indented block\n"
          ]
        }
      ]
    },
    {
      "cell_type": "markdown",
      "source": [
        "### if 조건문의 기본 형태와 실행 흐름 알아보기"
      ],
      "metadata": {
        "id": "OczVtQiiRBtj"
      }
    },
    {
      "cell_type": "markdown",
      "source": [
        "이제 if 조건문을 자세히 알아보겠습니다. 파이썬에서 if 조건문은 if 조건식: 형식으로 사용하며 그다음 줄에는 들여쓰기를 한 뒤 조건식이 만족할 때 실행할 코드를 넣습니다. 특히 이 조건식이 만족할 때 실행할 코드를 if 본문(if body)이라고 부릅니다.\n",
        "\n"
      ],
      "metadata": {
        "id": "WQta5fgrRDah"
      }
    },
    {
      "cell_type": "markdown",
      "source": [
        "여기서는 변수 x에 10을 할당한 뒤 if 조건문으로 x가 10과 같은지 검사하였습니다. 조건식은 x == 10과 같은 형식으로 지정해주는데 ==은 두 값이 \"같을 때\" 라는 뜻입니다.\n",
        "\n",
        "즉, if x == 10:은 x가 10과 같은지 비교한 뒤 같으면 다음에 오는 코드를 실행하라는 뜻이 됩니다. 따라서 x는 10이고 조건식을 만족하므로 그다음 줄의 print가 실행되어 '10입니다.'가 출력됩니다."
      ],
      "metadata": {
        "id": "qmvonBIURGjF"
      }
    },
    {
      "cell_type": "markdown",
      "source": [
        "보통 if의 조건식이 만족하면 참( True), 만족하지 않으면 거짓(False)이라고 부릅니다.\n",
        "\n"
      ],
      "metadata": {
        "id": "rkjhL2guRIqA"
      }
    },
    {
      "cell_type": "markdown",
      "source": [
        "### if 조건문을 사용할 때 주의할 점"
      ],
      "metadata": {
        "id": "dFecJDJARKb5"
      }
    },
    {
      "cell_type": "markdown",
      "source": [
        "if 조건문을 사용할 때 주의할 점이 있는데 파이썬에서는 =을 할당으로 사용하고 있으므로 값을 비교할 때는 =을 두 개 붙여서 ==로 사용해야 합니다. 자주 틀리는 부분이니 `if`**안에서 ==을 사용했는지 반드시 확인하세요. 다음과 같이 if에 =을 사용하면 문법 에러가 발생합니다.**"
      ],
      "metadata": {
        "id": "QY2ABAkYRNfR"
      }
    },
    {
      "cell_type": "code",
      "source": [
        "if x = 10: # =="
      ],
      "metadata": {
        "colab": {
          "base_uri": "https://localhost:8080/",
          "height": 136
        },
        "id": "riJjhH9cQ_Ke",
        "outputId": "b2a055fc-a7b3-40dc-f438-1f53088e8509"
      },
      "execution_count": 3,
      "outputs": [
        {
          "output_type": "error",
          "ename": "SyntaxError",
          "evalue": "ignored",
          "traceback": [
            "\u001b[0;36m  File \u001b[0;32m\"<ipython-input-3-5c99702d159e>\"\u001b[0;36m, line \u001b[0;32m1\u001b[0m\n\u001b[0;31m    if x = 10: # ==\u001b[0m\n\u001b[0m         ^\u001b[0m\n\u001b[0;31mSyntaxError\u001b[0m\u001b[0;31m:\u001b[0m invalid syntax\n"
          ]
        }
      ]
    },
    {
      "cell_type": "code",
      "source": [
        "# 조건식 끝에 :을 빠뜨리는 실수도 자주하니 :도 확인해주세요. 다음은 조건식 끝에 :을 빠뜨렸을 때의 모습입니다.\n",
        "if x == 10:\n",
        "  "
      ],
      "metadata": {
        "colab": {
          "base_uri": "https://localhost:8080/",
          "height": 136
        },
        "id": "8bK6cKeeRW-X",
        "outputId": "464e2927-df17-473c-a341-7a186a5970f4"
      },
      "execution_count": 4,
      "outputs": [
        {
          "output_type": "error",
          "ename": "SyntaxError",
          "evalue": "ignored",
          "traceback": [
            "\u001b[0;36m  File \u001b[0;32m\"<ipython-input-4-b230e15afa2e>\"\u001b[0;36m, line \u001b[0;32m3\u001b[0m\n\u001b[0;31m    \u001b[0m\n\u001b[0m    ^\u001b[0m\n\u001b[0;31mSyntaxError\u001b[0m\u001b[0;31m:\u001b[0m unexpected EOF while parsing\n"
          ]
        }
      ]
    },
    {
      "cell_type": "code",
      "source": [
        "\n",
        "if (x := input(\"오늘 어디서 먹을까?: \")) == \"the행복한식당\":\n",
        "\n",
        "# if x == \"The행복한식당\":\n",
        "  print(\"그래 가자!\")\n",
        "else:\n",
        "  print(\"다시 생각해봐\")"
      ],
      "metadata": {
        "colab": {
          "base_uri": "https://localhost:8080/"
        },
        "id": "GmB9prhD64sb",
        "outputId": "75f4770a-f7ac-4f4e-b327-67cea67e7462"
      },
      "execution_count": 12,
      "outputs": [
        {
          "output_type": "stream",
          "name": "stdout",
          "text": [
            "오늘 어디서 먹을까?: 머라카노\n",
            "다시 생각해봐\n"
          ]
        }
      ]
    },
    {
      "cell_type": "markdown",
      "source": [
        "### if 조건문에서 코드를 생략하기"
      ],
      "metadata": {
        "id": "yKilVayGRo4g"
      }
    },
    {
      "cell_type": "code",
      "source": [
        "# 이번에는 if 조건문에 조건식만 작성하고 코드를 생략하는 방법을 알아보겠습니다.\n",
        "day = \"월요일\"\n",
        "if day == \"월요일\": # if day == \"월요일\": pass\n",
        "  pass"
      ],
      "metadata": {
        "id": "G3eIKB9PRkXN"
      },
      "execution_count": null,
      "outputs": []
    },
    {
      "cell_type": "markdown",
      "source": [
        "if 다음 줄에 pass라는 특별한 키워드를 넣었습니다. 여기서 pass는 아무 일도 하지 않고 그냥 넘어간다는 뜻입니다. 파이썬에서는 if 다음 줄에 아무 코드도 넣지 않으면 에러가 발생하므로 if 조건문의 형태를 유지하기 위해 pass를 사용합니다.\n",
        "\n",
        "pass는 아무 일도 하지 않는 코드라서 의미가 없을 것 같지만 나중에 작성해야 할 코드를 표시할 때 사용할 수 있습니다. 즉, 다음과 같이 pass만 넣고 나중에 할 일은 주석으로 남겨놓는 방식입니다."
      ],
      "metadata": {
        "id": "BjRdlWAlRxmc"
      }
    },
    {
      "cell_type": "code",
      "source": [
        "day = \"월요일\"\n",
        "if day == \"월요일\":\n",
        "  pass # 1000: 자격증 스터디 관련 작업\n",
        "if day == \"화요일\":\n",
        "  pass # 1000: 상하체 운동하기"
      ],
      "metadata": {
        "id": "e96xEuywRwyb"
      },
      "execution_count": 13,
      "outputs": []
    },
    {
      "cell_type": "markdown",
      "source": [
        "### TODO"
      ],
      "metadata": {
        "id": "UjZL6r4jR2GX"
      }
    },
    {
      "cell_type": "markdown",
      "source": [
        "TODO는 해야 할 일이라는 뜻인데 보통 주석에 넣습니다. 이렇게 TODO를 넣어 두면 검색으로 쉽게 찾을 수 있죠. 그래서 프로그래머들은 주석에 TODO 이외에도 FIXME, BUG, NOTE 등과 같이 코드는 아니지만 일관된 주석을 사용합니다."
      ],
      "metadata": {
        "id": "0LFAtvFyR5kH"
      }
    },
    {
      "cell_type": "markdown",
      "source": [
        "## if 조건문과 들여쓰기"
      ],
      "metadata": {
        "id": "cI-mojh2SCZl"
      }
    },
    {
      "cell_type": "code",
      "source": [
        "x = 10\n",
        "\n",
        "if x == 10:\n",
        "  print(\"x에 들어있는 숫자는\")\n",
        "    print(\"10입니다.\")"
      ],
      "metadata": {
        "colab": {
          "base_uri": "https://localhost:8080/",
          "height": 136
        },
        "id": "iAFgUIjWSFfZ",
        "outputId": "652f387c-4d86-4893-80d8-62cf3dae08d1"
      },
      "execution_count": 14,
      "outputs": [
        {
          "output_type": "error",
          "ename": "IndentationError",
          "evalue": "ignored",
          "traceback": [
            "\u001b[0;36m  File \u001b[0;32m\"<ipython-input-14-f610cf94ddec>\"\u001b[0;36m, line \u001b[0;32m5\u001b[0m\n\u001b[0;31m    print(\"10입니다.\")\u001b[0m\n\u001b[0m    ^\u001b[0m\n\u001b[0;31mIndentationError\u001b[0m\u001b[0;31m:\u001b[0m unexpected indent\n"
          ]
        }
      ]
    },
    {
      "cell_type": "code",
      "source": [
        "x = 10\n",
        "\n",
        "if x == 10:\n",
        "  print(\"x에 들어있는 숫자는\")\n",
        "  print(\"10입니다.\")"
      ],
      "metadata": {
        "colab": {
          "base_uri": "https://localhost:8080/"
        },
        "id": "rRF1IGYKSF10",
        "outputId": "207bbc88-27b5-481a-bf87-b59965015c8e"
      },
      "execution_count": 15,
      "outputs": [
        {
          "output_type": "stream",
          "name": "stdout",
          "text": [
            "x에 들어있는 숫자는\n",
            "10입니다.\n"
          ]
        }
      ]
    },
    {
      "cell_type": "markdown",
      "source": [
        "이제 실행이 잘 됩니다. 즉, if 다음에 오는 코드들은 반드시 들여쓰기 깊이가 같아야 합니다.\n",
        "\n",
        "만약 첫 번째 print만 들여쓰기를 하고, 두 번째 print는 들여쓰기를 하지 않으면 의도치 않은 동작이 됩니다."
      ],
      "metadata": {
        "id": "lcnQoLhlSNmz"
      }
    },
    {
      "cell_type": "code",
      "source": [
        "x = 15\n",
        "\n",
        "if x == 10:\n",
        "    print(\"x에 들어있는 숫자는\") # 실행X \n",
        "print(\"10입니다.\")"
      ],
      "metadata": {
        "colab": {
          "base_uri": "https://localhost:8080/"
        },
        "id": "3ZQMQ5L0SIDs",
        "outputId": "02f9371d-4532-4afd-e6a6-5babbcd09d34"
      },
      "execution_count": 23,
      "outputs": [
        {
          "output_type": "stream",
          "name": "stdout",
          "text": [
            "10입니다.\n"
          ]
        }
      ]
    },
    {
      "cell_type": "markdown",
      "source": [
        "x가 5라서 if의 조건식을 만족하지 않으므로 다음에 오는 print('x에 들어있는 숫자는')는 실행이 되지 않습니다. 그런데 print('10입니다.')는 실행이 되었죠? 왜냐하면 들여쓰기가 없어서 if와는 상관없는 코드가 되었기 때문입니다.\n",
        "\n",
        "즉, if 다음 줄에 들여쓰기가 된 코드는 if의 영향을 받아서 조건식에 따라 실행이 결정되지만 들여쓰기가 되지 않은 코드는 항상 실행됩니다. 들여쓰기 하나 때문에 의도치 않은 동작이 되었는데(x가 5일 때는 '10입니다.'가 출력되지 않아야 하는데 출력됨) 이런 코드는 일단 실행이 되기 때문에 잘못된 부분을 찾기가 쉽지 않습니다. 자신이 의도한 부분과 코드의 들여쓰기가 일치하는지 항상 확인해주세요."
      ],
      "metadata": {
        "id": "MUgFj9vKSVWZ"
      }
    },
    {
      "cell_type": "markdown",
      "source": [
        "## 중첩 if 조건문 사용하기"
      ],
      "metadata": {
        "id": "kayNG7L1SZDD"
      }
    },
    {
      "cell_type": "markdown",
      "source": [
        "지금까지 if를 한 번만 사용하는 단순한 조건문을 사용했습니다. 하지만 프로그래밍을 하다 보면 if를 여러 번 사용하는 복잡한 조건도 자주 나옵니다. 이번에는 if를 여러 번 사용하는 중첩 if 조건문을 사용해보겠습니다. 다음은 변수의 값이 10 이상이면 '10 이상입니다.'를 출력한 뒤 15이면 '15입니다.', 20이면 '20입니다.'를 출력합니다."
      ],
      "metadata": {
        "id": "xcCh-TIXScFv"
      }
    },
    {
      "cell_type": "code",
      "source": [
        "# x, y = 15, 100\n",
        "x, y = 15, 50\n",
        "\n",
        "\n",
        "if x >= 10:\n",
        "  print('x는 10이상입니다.')\n",
        "\n",
        "if y < 100:\n",
        "  print ('y는 100보다 작습니다.')\n",
        "  if x == 15:\n",
        "    print('x는 15입니다.')\n",
        "\n",
        "if x == 20:\n",
        "  print('x는 20입니다.')"
      ],
      "metadata": {
        "colab": {
          "base_uri": "https://localhost:8080/"
        },
        "id": "qrTskqdcSSb1",
        "outputId": "49414821-04c1-4cdc-cc11-cf87a9f7b072"
      },
      "execution_count": 25,
      "outputs": [
        {
          "output_type": "stream",
          "name": "stdout",
          "text": [
            "x는 10이상입니다.\n",
            "y는 100보다 작습니다.\n",
            "x는 15입니다.\n"
          ]
        }
      ]
    },
    {
      "cell_type": "markdown",
      "source": [
        "## 사용자가 입력한 값에 if 조건문 사용하기"
      ],
      "metadata": {
        "id": "vS-S2byWS1ZI"
      }
    },
    {
      "cell_type": "code",
      "source": [
        "# 이번에는 input을 사용하여 사용자가 입력한 값을 변수에 저장하고, if 조건문으로 값을 비교해보겠습니다. \n",
        "x = int(input()) # 입력 받은 값을 변수에 저장\n",
        "\n",
        "if x == 10:\n",
        "  print(\"10입니다.\")\n",
        "\n",
        "if x == 20:\n",
        "  print(\"20입니다.\")"
      ],
      "metadata": {
        "colab": {
          "base_uri": "https://localhost:8080/"
        },
        "id": "w2s-cPCxSkvr",
        "outputId": "3998fbc0-0379-4742-983d-fe1272e01062"
      },
      "execution_count": 28,
      "outputs": [
        {
          "output_type": "stream",
          "name": "stdout",
          "text": [
            "20\n",
            "20입니다.\n"
          ]
        }
      ]
    },
    {
      "cell_type": "code",
      "source": [
        "# 할당 표현식\n",
        "if (x := int(input())) == 10:\n",
        "  print(\"10입니다.\")\n",
        "\n",
        "if x == 20:\n",
        "  print(\"20입니다.\")\n"
      ],
      "metadata": {
        "colab": {
          "base_uri": "https://localhost:8080/"
        },
        "id": "owl985x2S-Mw",
        "outputId": "016fea11-780b-4a02-cae3-4f3d3e676cb8"
      },
      "execution_count": 31,
      "outputs": [
        {
          "output_type": "stream",
          "name": "stdout",
          "text": [
            "20\n",
            "20입니다.\n"
          ]
        }
      ]
    },
    {
      "cell_type": "markdown",
      "source": [
        "## else"
      ],
      "metadata": {
        "id": "_yEQ_TZijXZ6"
      }
    },
    {
      "cell_type": "markdown",
      "source": [
        "## else를 사용하여 두 방향으로 분기하기"
      ],
      "metadata": {
        "id": "0WgufP5wjbMF"
      }
    },
    {
      "cell_type": "markdown",
      "source": [
        "if 조건문은 분기(branch)를 위한 문법입니다. 즉, 분기는 \"둘 이상으로 갈라지다\"라는 뜻으로 프로그램의 흐름을 둘 이상으로 나누는 것을 말합니다. 이는 마치 도로의 분기점과 같죠."
      ],
      "metadata": {
        "id": "yk2dYRDGjdK1"
      }
    },
    {
      "cell_type": "markdown",
      "source": [
        "지금까지 if 조건문으로 조건식에 맞는 코드만 실행했습니다. if에 else를 사용하면 조건식이 만족할 때와 만족하지 않을 때 각각 다른 코드를 실행할 수 있습니다. 즉, 프로그램이 두 방향으로 분기하는 것이죠.\n",
        "\n",
        "실생활에서 전화가 왔을 때의 예를 들면 다음과 같은 모양이 됩니다.\n",
        "\n",
        "```\n",
        "if 광고 전화인가?:\n",
        "    전화를 끊고, 차단 목록에 등록한다.\n",
        "else:\n",
        "    계속 통화한다.\n",
        "```"
      ],
      "metadata": {
        "id": "HjOs8JNujgnV"
      }
    },
    {
      "cell_type": "markdown",
      "source": [
        "else는 if 조건문 뒤에 오며 단독으로 사용할 수 없습니다. 그리고 if와 마찬가지로 else도 :(콜론)을 붙이며 다음 줄에 실행할 코드가 옵니다.\n",
        "\n",
        "```\n",
        "if 조건식:\n",
        "     코드1\n",
        "else:\n",
        "     코드2\n",
        "```"
      ],
      "metadata": {
        "id": "9ugOjhsyjnqC"
      }
    },
    {
      "cell_type": "code",
      "source": [
        "x = 5\n",
        "if x == 10:\n",
        "  print(\"10입니다.\")\n",
        "else:\n",
        "  print(\"not 10\")"
      ],
      "metadata": {
        "colab": {
          "base_uri": "https://localhost:8080/"
        },
        "id": "FiFpPbgvj7yt",
        "outputId": "0d5c31c3-34ec-4b53-9b6b-4ed0d741b30c"
      },
      "execution_count": 34,
      "outputs": [
        {
          "output_type": "stream",
          "name": "stdout",
          "text": [
            "not 10\n"
          ]
        }
      ]
    },
    {
      "cell_type": "markdown",
      "source": [
        "### if와 else의 기본 형태와 실행 흐름 알아보기"
      ],
      "metadata": {
        "id": "ts7rNeizjkmR"
      }
    },
    {
      "cell_type": "markdown",
      "source": [
        "else는 if의 조건식이 만족하지 않을 때 코드를 실행합니다. 여기서는 x에 5가 들어있어서 x == 10을 만족하지 않으므로 else의 print가 실행되어 '10이 아닙니다.'가 출력됩니다.\n",
        "\n",
        "즉, 조건식이 참(True)이면 if의 코드(if 본문)가 실행되고, 거짓(False)이면 else의 코드(else 본문)가 실행됩니다."
      ],
      "metadata": {
        "id": "-vHzbxo5kGhv"
      }
    },
    {
      "cell_type": "markdown",
      "source": [
        "### 변수에 값 할당을 if, else로 축약하기 (삼항연산자)\n"
      ],
      "metadata": {
        "id": "dfHjlnozkNhL"
      }
    },
    {
      "cell_type": "code",
      "source": [
        "# 변수 x에 10이 들어있으면 y에 x를 할당하고, 아니면 y에 0을 할당하는 코드는 다음과 같이 만들 수 있습니다.\n",
        "x = int(input())\n",
        "if x == 10:\n",
        "  y = x\n",
        "else:\n",
        "  y = 0\n",
        "\n",
        "y"
      ],
      "metadata": {
        "colab": {
          "base_uri": "https://localhost:8080/"
        },
        "id": "Nnsp1jw3kRs-",
        "outputId": "5184bd89-5c95-4b6d-9073-7b1d0d7c0630"
      },
      "execution_count": 38,
      "outputs": [
        {
          "name": "stdout",
          "output_type": "stream",
          "text": [
            "15\n"
          ]
        },
        {
          "output_type": "execute_result",
          "data": {
            "text/plain": [
              "0"
            ]
          },
          "metadata": {},
          "execution_count": 38
        }
      ]
    },
    {
      "cell_type": "code",
      "source": [
        "# 이렇게 if, else에서 변수에 값을 할당할 때는 변수 = 값 if 조건문 else 값 형식으로 축약할 수 있으며,\n",
        "# 이런 문법을 조건부 표현식(conditional expression) 또는 삼항연산자라고 부릅니다.\n",
        "# x = 5\n",
        "x = 10\n",
        "# y = x if x == 10 else 0\n",
        "y = x if (x == 10) else 0\n",
        "y"
      ],
      "metadata": {
        "colab": {
          "base_uri": "https://localhost:8080/"
        },
        "id": "d9y6KuIwkYIa",
        "outputId": "4802adfb-34cc-49ed-f9e7-99d076debdd4"
      },
      "execution_count": 42,
      "outputs": [
        {
          "output_type": "execute_result",
          "data": {
            "text/plain": [
              "10"
            ]
          },
          "metadata": {},
          "execution_count": 42
        }
      ]
    },
    {
      "cell_type": "markdown",
      "source": [
        "### else와 들여쓰기"
      ],
      "metadata": {
        "id": "Fx4qXqv-kkrB"
      }
    },
    {
      "cell_type": "markdown",
      "source": [
        "else는 if와 들여쓰기 규칙이 같습니다. 다음은 들여쓰기가 잘못된 코드입니다."
      ],
      "metadata": {
        "id": "1cqN1MP1koiB"
      }
    },
    {
      "cell_type": "code",
      "source": [
        "# else도 코드가 여러 줄일 때는 들여쓰기 깊이가 같게 만들어주어야 합니다.\n",
        "\n",
        "x = 5\n",
        "if x == 10:\n",
        "  print('x는 10입니다.')\n",
        "\n",
        "else: # 조건식X\n",
        "  print('x에 들어있는 숫자는 1이 아닙니다.')"
      ],
      "metadata": {
        "colab": {
          "base_uri": "https://localhost:8080/"
        },
        "id": "ArF2kjBXkfwL",
        "outputId": "488ab487-7304-442f-d48f-3334164f36bc"
      },
      "execution_count": 43,
      "outputs": [
        {
          "output_type": "stream",
          "name": "stdout",
          "text": [
            "x에 들어있는 숫자는 1이 아닙니다.\n"
          ]
        }
      ]
    },
    {
      "cell_type": "code",
      "source": [
        "# 마찬가지로 else가 여러 줄일 때는 마지막 줄의 들여쓰기를 하지 않으면 의도치 않은 동작이 됩니다.\n",
        "x = 10\n",
        "if x == 10:\n",
        "  print('x는 10입니다.')\n",
        "\n",
        "else: # 조건식X\n",
        "  print('x에 들어있는 숫자는 1이 아닙니다.')\n",
        "print('x에 들어있는 숫자는 1이 아닙니다.')"
      ],
      "metadata": {
        "colab": {
          "base_uri": "https://localhost:8080/"
        },
        "id": "xOW23W69kvMS",
        "outputId": "a87f7b30-8dcc-4f32-c0ed-b1eccaabc472"
      },
      "execution_count": 46,
      "outputs": [
        {
          "output_type": "stream",
          "name": "stdout",
          "text": [
            "x는 10입니다.\n",
            "x에 들어있는 숫자는 1이 아닙니다.\n"
          ]
        }
      ]
    },
    {
      "cell_type": "markdown",
      "source": [
        "## if 조건문의 동작 방식 알아보기 (True 값)"
      ],
      "metadata": {
        "id": "e2JKQQrQldDh"
      }
    },
    {
      "cell_type": "code",
      "source": [
        "if True:\n",
        "  print(\"참\")\n",
        "\n",
        "else:\n",
        "  print(\"거짓\")"
      ],
      "metadata": {
        "colab": {
          "base_uri": "https://localhost:8080/"
        },
        "id": "-4_i5mKrk0Ci",
        "outputId": "7596ca8c-1dde-4f06-cbe5-92f3c2244704"
      },
      "execution_count": 47,
      "outputs": [
        {
          "output_type": "stream",
          "name": "stdout",
          "text": [
            "참\n"
          ]
        }
      ]
    },
    {
      "cell_type": "code",
      "source": [
        "if False:\n",
        "  print(\"참\")\n",
        "\n",
        "else:\n",
        "  print(\"거짓\")"
      ],
      "metadata": {
        "colab": {
          "base_uri": "https://localhost:8080/"
        },
        "id": "PriEJ2KHBlKr",
        "outputId": "c9c88ccf-00b1-4cff-82a6-a23b1b6edc2b"
      },
      "execution_count": 49,
      "outputs": [
        {
          "output_type": "stream",
          "name": "stdout",
          "text": [
            "거짓\n"
          ]
        }
      ]
    },
    {
      "cell_type": "code",
      "source": [
        "if None:\n",
        "  print(\"참\")\n",
        "\n",
        "else:\n",
        "  print(\"거짓\")"
      ],
      "metadata": {
        "colab": {
          "base_uri": "https://localhost:8080/"
        },
        "id": "syPUBwNIBs9n",
        "outputId": "48774f25-e74f-46a7-d568-6460905946e2"
      },
      "execution_count": 50,
      "outputs": [
        {
          "output_type": "stream",
          "name": "stdout",
          "text": [
            "거짓\n"
          ]
        }
      ]
    },
    {
      "cell_type": "markdown",
      "source": [
        "당연히 True는 if의 코드가 실행되고, False는 else의 코드가 실행됩니다. 특히 None은 False로 취급되므로 else의 코드가 실행됩니다. 실제 코드를 작성할 때 변수에 들어있는 값이나 함수의 결과가 None인 경우가 많으므로 이 부분은 꼭 기억해두세요."
      ],
      "metadata": {
        "id": "-mwUD9O2ljHc"
      }
    },
    {
      "cell_type": "markdown",
      "source": [
        "### if 조건문에 숫자 지정하기"
      ],
      "metadata": {
        "id": "Me6o5AaAllj8"
      }
    },
    {
      "cell_type": "code",
      "source": [
        "# 숫자는 정수, 실수와 관계없이 0이면 거짓, 0이 아닌 수는 참입니다.\n",
        "if 1:\n",
        "  print(\"참\")\n",
        "else:\n",
        "  print(\"거짓\")\n",
        "\n",
        "\n",
        "\n",
        "if 0: # 0.0 도 0으로 취급?\n",
        "  print(\"참\")\n",
        "else:\n",
        "  print(\"거짓\")"
      ],
      "metadata": {
        "colab": {
          "base_uri": "https://localhost:8080/"
        },
        "id": "_QOQ_m8Flgfi",
        "outputId": "8ebbda48-c53c-406f-cab8-57bcf70279d3"
      },
      "execution_count": 56,
      "outputs": [
        {
          "output_type": "stream",
          "name": "stdout",
          "text": [
            "참\n",
            "거짓\n"
          ]
        }
      ]
    },
    {
      "cell_type": "markdown",
      "source": [
        " ### if 조건문에 문자열 지정하기"
      ],
      "metadata": {
        "id": "czy9RXlvlt0o"
      }
    },
    {
      "cell_type": "code",
      "source": [
        "# 문자열은 내용이 있을 때 참, 빈 문자열은 거짓입니다.\n",
        "if \"Hello\":\n",
        "  print(\"참\")\n",
        "\n",
        "else:\n",
        "  print(\"거짓\")\n",
        "\n",
        "\n",
        "if \"\":\n",
        "  print(\"참\")\n",
        "\n",
        "else:\n",
        "  print(\"거짓\")"
      ],
      "metadata": {
        "colab": {
          "base_uri": "https://localhost:8080/"
        },
        "id": "g27KEuF0lxMJ",
        "outputId": "c6cf2067-9c5d-4a16-fdf0-9bc92115af08"
      },
      "execution_count": 58,
      "outputs": [
        {
          "output_type": "stream",
          "name": "stdout",
          "text": [
            "참\n",
            "거짓\n"
          ]
        }
      ]
    },
    {
      "cell_type": "markdown",
      "source": [
        "## 조건식을 여러 개 지정하기"
      ],
      "metadata": {
        "id": "GH6IDbp7l8NU"
      }
    },
    {
      "cell_type": "markdown",
      "source": [
        "지금까지 if에 조건식을 하나만 지정했습니다. 만약 조건이 복잡할 때는 어떻게 해야 할까요?\n",
        "\n",
        "예를 들어 인터넷 포털의 중고나라에 글을 올리려면 먼저 포털 사이트의 회원이면서 중고나라 카페의 회원이라야 합니다. 이 조건을 if 조건문으로 나타내면 다음과 같은 모양이 됩니다.\n",
        "\n",
        "```\n",
        "if 포털 사이트 회원인지? 그리고 중고나라 회원인지?:\n",
        "    글쓰기 화면 표시\n",
        "else:\n",
        "    포털 사이트 또는 중고나라 회원이 아니므로 글을 쓸 수 없다는 경고 문구 표시\n",
        "```"
      ],
      "metadata": {
        "id": "YLMfTmRbmCrV"
      }
    },
    {
      "cell_type": "code",
      "source": [
        "# if 조건문에는 논리 연산자를 사용하여 조건식을 여러 개 지정할 수 있습니다.\n",
        "x = 10\n",
        "y = 20\n",
        "\n",
        "if x == 10 and y == 20: # x가 10이면서 y가 20임\n",
        "  print(\"참\")\n",
        "\n",
        "else:\n",
        "  print(\"거짓\")\n",
        "  "
      ],
      "metadata": {
        "colab": {
          "base_uri": "https://localhost:8080/"
        },
        "id": "DlBLui2FlzR7",
        "outputId": "8be6574a-6044-4c40-82f2-9d086ab82428"
      },
      "execution_count": 59,
      "outputs": [
        {
          "output_type": "stream",
          "name": "stdout",
          "text": [
            "참\n"
          ]
        }
      ]
    },
    {
      "cell_type": "markdown",
      "source": [
        "### 중첩 if 조건문과 논리 연산자"
      ],
      "metadata": {
        "id": "EmUXbUGFmNhG"
      }
    },
    {
      "cell_type": "code",
      "source": [
        "# 그럼 이런 논리 연산자를 어디에 사용할까요? 보통 여러 조건을 판단할 때 if를 계속 나열해서 중첩 if 조건문으로 만드는 경우가 많습니다.\n",
        "if x > 0:\n",
        "  if x < 20:\n",
        "    print(\"0보다 크고 20보다 작은 양수입니다.\")\n"
      ],
      "metadata": {
        "colab": {
          "base_uri": "https://localhost:8080/"
        },
        "id": "5aKJOXaPmJ37",
        "outputId": "6918e896-3c95-44c8-d5e5-ba71c2fe89d1"
      },
      "execution_count": 60,
      "outputs": [
        {
          "output_type": "stream",
          "name": "stdout",
          "text": [
            "0보다 크고 20보다 작은 양수입니다.\n"
          ]
        }
      ]
    },
    {
      "cell_type": "code",
      "source": [
        "# if로 x가 0보다 큰지 검사하고(0보다 크면 양수), 다시 if로 20보다 작은지 검사했습니다. 이런 중첩 if 조건문은 and 논리 연산자를 사용해서 if 하나로 줄일 수 있습니다.\n",
        "if x > 0 and x < 20:\n",
        "  print(\"0보다 크고 20보다 작은 양수입니다.\")\n",
        "\n",
        "  "
      ],
      "metadata": {
        "colab": {
          "base_uri": "https://localhost:8080/"
        },
        "id": "cv_ElXs8mgIq",
        "outputId": "33c19be0-2908-481f-8bc4-57d1efeadbdd"
      },
      "execution_count": 61,
      "outputs": [
        {
          "output_type": "stream",
          "name": "stdout",
          "text": [
            "0보다 크고 20보다 작은 양수입니다.\n"
          ]
        }
      ]
    },
    {
      "cell_type": "code",
      "source": [
        "# x가 0보다 크면서 20보다 작을 때처럼 and 논리 연산자를 사용해서 두 조건을 모두 만족하면 '20보다 작은 양수입니다.'를 출력하도록 만들었습니다.\n",
        "# 특히 파이썬에서는 이 조건식을 더 간단하게 만들 수 있습니다.\n",
        "if 0 < x < 20:\n",
        "  print(\"0보다 크고 20보다 작은 양수입니다.\")\n"
      ],
      "metadata": {
        "colab": {
          "base_uri": "https://localhost:8080/"
        },
        "id": "xNIHDArZmihs",
        "outputId": "4a792a73-683f-4881-967a-87aa3b2ebb63"
      },
      "execution_count": 64,
      "outputs": [
        {
          "output_type": "stream",
          "name": "stdout",
          "text": [
            "0보다 크고 20보다 작은 양수입니다.\n"
          ]
        }
      ]
    },
    {
      "cell_type": "markdown",
      "source": [
        "0 < x < 20처럼 부등호를 연달아서 사용했습니다. 조건식이 알아보기 쉬워졌죠? 단, 여기서는 0이 앞에 왔으므로 0보다 큰지 판단하는 부등호는 방향이 반대로 바뀌었습니다. 이처럼 조건식을 만들 때는 부등호의 방향과는 관계 없이 조건의 뜻만 만족하면 됩니다. 즉, x > 0과 0 < x의 뜻은 같습니다."
      ],
      "metadata": {
        "id": "3Vx9_QJkmwHK"
      }
    },
    {
      "cell_type": "markdown",
      "source": [
        "## elif 사용하기"
      ],
      "metadata": {
        "id": "9TdVUiMPmzt2"
      }
    },
    {
      "cell_type": "markdown",
      "source": [
        "프로그램을 만들다 보면 참, 거짓으로만 분기하는 것은 한계가 있습니다. 실제로는 두 가지 이상의 다양한 상황이 발생하죠.\n",
        "\n",
        "여러 가지 상황을 처리하는 대표적인 예는 음료수 자판기가 있습니다.\n",
        "\n",
        "자판기 안에는 각각 다른 종류의 음료수가 들어있고, 버튼을 누르면 해당 버튼에 해당하는 음료수가 나옵니다. 이걸 elif로 만들면 다음과 같은 모양이 됩니다.\n",
        "\n",
        "```\n",
        "if 콜라 버튼을 눌렀다면:\n",
        "    콜라를 내보냄\n",
        "elif 사이다 버튼을 눌렀다면:\n",
        "    사이다를 내보냄\n",
        "elif 환타 버튼을 눌렀다면:\n",
        "    환타를 내보냄:\n",
        "else:\n",
        "    제공하지 않는 메뉴\n",
        "```\n",
        "\n",
        "즉, elif는 조건식을 여러 개 지정하여 각 조건 마다 다른 코드를 실행할 수 있습니다."
      ],
      "metadata": {
        "id": "i9jX6TDim-gS"
      }
    },
    {
      "cell_type": "markdown",
      "source": [
        "elif는 else인 상태에서 조건식을 지정할 때 사용하며 else if라는 뜻입니다. 물론 if, else와 마찬가지로 조건식 끝에 :(콜론)을 붙여야 하고, elif 단독으로 사용할 수 없습니다.\n",
        "\n",
        "```\n",
        "if 조건식:\n",
        "     코드1\n",
        "elif 조건식:\n",
        "     코드2\n",
        "```"
      ],
      "metadata": {
        "id": "6pSY0aO2nIw3"
      }
    },
    {
      "cell_type": "code",
      "source": [
        "x = 20\n",
        "y = 10\n",
        "if y == 10:\n",
        "  print(\"y는 10입니다.\")\n",
        "  if x == 10:\n",
        "    print(\"X는 10입니다.\")\n",
        "  elif x == 20:\n",
        "    print(\"X는 20입니다.\")"
      ],
      "metadata": {
        "colab": {
          "base_uri": "https://localhost:8080/"
        },
        "id": "CGNPu8z6mtsq",
        "outputId": "f4369ae4-fbb6-41b1-f9ea-96408d138d43"
      },
      "execution_count": 65,
      "outputs": [
        {
          "output_type": "stream",
          "name": "stdout",
          "text": [
            "y는 10입니다.\n",
            "X는 20입니다.\n"
          ]
        }
      ]
    },
    {
      "cell_type": "markdown",
      "source": [
        "### if, elif, else를 모두 사용하기"
      ],
      "metadata": {
        "id": "UhGDqtDwnThG"
      }
    },
    {
      "cell_type": "markdown",
      "source": [
        "elif와 else는 단독으로 사용할 수 없으며 if, else 형태로 사용하거나, if, elif, else 형태로 사용합니다. 이번에는 if, elif, else를 모두 사용해보겠습니다.\n",
        "\n",
        "```\n",
        "if 조건식:\n",
        "    코드1\n",
        "elif 조건식:\n",
        "    코드2\n",
        "else:\n",
        "    코드3\n",
        "```"
      ],
      "metadata": {
        "id": "_HFJ9t9UnWKF"
      }
    },
    {
      "cell_type": "code",
      "source": [
        "x = 1230\n",
        "if x == 10:\n",
        "  print('10입니다.')\n",
        "elif x == 20:\n",
        "  print('20입니다.')\n",
        "else:\n",
        "  print('10도 20도 아닙니다.')"
      ],
      "metadata": {
        "colab": {
          "base_uri": "https://localhost:8080/"
        },
        "id": "Bu4X2Q7RnPMj",
        "outputId": "b5c6445e-7f28-4d9b-8042-5d3eb29fe455"
      },
      "execution_count": 68,
      "outputs": [
        {
          "output_type": "stream",
          "name": "stdout",
          "text": [
            "10도 20도 아닙니다.\n"
          ]
        }
      ]
    },
    {
      "cell_type": "markdown",
      "source": [
        "이렇게 하면 if, elif의 조건식이 모두 거짓일 때만 else의 코드가 실행됩니다. 여기서는 x가 30이라 if, elif의 조건식에 모두 만족하지 않습니다. 따라서 마지막 else의 '10도 20도 아닙니다.'가 출력됩니다.\n",
        "\n",
        "참고로 if와 else는 한 번만 사용할 수 있지만, elif는 여러 번 사용할 수 있습니다. 그리고 elif의 들여쓰기 규칙은 if, else와 같으므로 따로 설명하지 않겠습니다.\n",
        "\n",
        "만약 elif 앞에 else가 오면 잘못된 문법이므로 주의해야 합니다."
      ],
      "metadata": {
        "id": "L8puHr0Unc-Q"
      }
    },
    {
      "cell_type": "code",
      "source": [
        "if x == 10:\n",
        "  print('10입니다.')\n",
        "else\n",
        "  print('20입니다.')\n",
        "elif x == 20:\n",
        "  print('10도 20도 아닙니다.')"
      ],
      "metadata": {
        "colab": {
          "base_uri": "https://localhost:8080/",
          "height": 136
        },
        "id": "PU-Xy9JwnZzL",
        "outputId": "1491b91d-52cf-4613-ded6-7bca8de5d799"
      },
      "execution_count": 69,
      "outputs": [
        {
          "output_type": "error",
          "ename": "SyntaxError",
          "evalue": "ignored",
          "traceback": [
            "\u001b[0;36m  File \u001b[0;32m\"<ipython-input-69-bf1456f85fcc>\"\u001b[0;36m, line \u001b[0;32m3\u001b[0m\n\u001b[0;31m    else\u001b[0m\n\u001b[0m        ^\u001b[0m\n\u001b[0;31mSyntaxError\u001b[0m\u001b[0;31m:\u001b[0m invalid syntax\n"
          ]
        }
      ]
    },
    {
      "cell_type": "markdown",
      "source": [
        "### 음료수 자판기 만들기"
      ],
      "metadata": {
        "id": "rKZ3saH3ngR2"
      }
    },
    {
      "cell_type": "markdown",
      "source": [
        "이제 음료수 자판기를 만들어봅시다. 버튼 1번은 '콜라', 2번은 '사이다', 3번은 '환타'이고 각 버튼에 따라 음료수 이름을 출력한다고 하죠(1, 2, 3이외의 숫자는 '제공하지 않는 메뉴' 출력). 코드를 보기 전에 어떻게 만들면 될 지 머리 속으로 한 번 생각해보세요."
      ],
      "metadata": {
        "id": "9cocnstonirM"
      }
    },
    {
      "cell_type": "code",
      "source": [
        " button = int(input(\"마시고 싶은 음료수를 알려주세요 : 1)콜라, 2)사이다, 3)환타\"))\n",
        "\n",
        "#  if button == 1:\n",
        "#    print(\"콜라\")\n",
        "# elif button == 2:\n",
        "#   print(\"사이다\")\n",
        "# elif button == 3:\n",
        "#   print(\"환타\")\n",
        "# else:\n",
        "#   print(\"제공하지 않는 메뉴입니다.\")\n",
        "\n",
        "\n",
        "# 유지보수 관점에서는 딕셔너리로 만드는 게 좋음!\n",
        "\n",
        "menu = {1:\"콜라\",\n",
        "        2:\"사이다\",\n",
        "        3:\"환타\"}\n",
        "\n",
        "if button not in menu:\n",
        "  print(\"제공하지 않는 메뉴입니다.\")\n",
        "else:\n",
        "  print(menu[button])"
      ],
      "metadata": {
        "colab": {
          "base_uri": "https://localhost:8080/"
        },
        "id": "8zGPR0H8neaD",
        "outputId": "86baab84-cb37-4e9b-de7f-618384d5e1ab"
      },
      "execution_count": 71,
      "outputs": [
        {
          "output_type": "stream",
          "name": "stdout",
          "text": [
            "마시고 싶은 음료수를 알려주세요 : 1)콜라, 2)사이다, 3)환타3\n",
            "환타\n"
          ]
        }
      ]
    },
    {
      "cell_type": "code",
      "source": [],
      "metadata": {
        "id": "pAWESm07Fc6L"
      },
      "execution_count": null,
      "outputs": []
    }
  ]
}