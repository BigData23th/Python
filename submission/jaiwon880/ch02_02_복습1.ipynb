{
  "nbformat": 4,
  "nbformat_minor": 0,
  "metadata": {
    "colab": {
      "provenance": [],
      "authorship_tag": "ABX9TyMtq0/FDURqUWQMA7bVCHln",
      "include_colab_link": true
    },
    "kernelspec": {
      "name": "python3",
      "display_name": "Python 3"
    },
    "language_info": {
      "name": "python"
    }
  },
  "cells": [
    {
      "cell_type": "markdown",
      "metadata": {
        "id": "view-in-github",
        "colab_type": "text"
      },
      "source": [
        "<a href=\"https://colab.research.google.com/github/jaiwon880/Python_bd23_hjw/blob/main/submission/jaiwon880/ch02_02_%EB%B3%B5%EC%8A%B51.ipynb\" target=\"_parent\"><img src=\"https://colab.research.google.com/assets/colab-badge.svg\" alt=\"Open In Colab\"/></a>"
      ]
    },
    {
      "cell_type": "code",
      "execution_count": null,
      "metadata": {
        "id": "Mb41cE25yPOg"
      },
      "outputs": [],
      "source": [
        "# 시퀀스: 0개 이상의 원소가 나열되어서 묶여 있는 자료형\n",
        "# list, tuple, range, string(str): 문자열\n",
        "# [] 대괄호\n",
        "# () 소괄호\n",
        "# \"\" '' ''' ''', \"\"\" \"\"\" 문자열\n",
        " "
      ]
    },
    {
      "cell_type": "markdown",
      "source": [
        "### in, not in"
      ],
      "metadata": {
        "id": "dIldF8AO12fo"
      }
    },
    {
      "cell_type": "code",
      "source": [
        "# 값 in 시퀀스 객체 <-> for 변수명 in 시퀀스 객체: 차이\n",
        "\"파이썬\" in [\"파이썬\", \"자바\",\"자바스크립트\"]"
      ],
      "metadata": {
        "colab": {
          "base_uri": "https://localhost:8080/"
        },
        "id": "M73UncAL0QAU",
        "outputId": "35a602a9-57ae-4636-d22a-0373a869ef5e"
      },
      "execution_count": null,
      "outputs": [
        {
          "output_type": "execute_result",
          "data": {
            "text/plain": [
              "True"
            ]
          },
          "metadata": {},
          "execution_count": 3
        }
      ]
    },
    {
      "cell_type": "code",
      "source": [
        "a = \"파이썬\"\n",
        "b = [\"파이썬\", \"자바\",\"자바스크립트\"]\n",
        "a in b # 결과 값은 bool"
      ],
      "metadata": {
        "colab": {
          "base_uri": "https://localhost:8080/"
        },
        "id": "aPkg4FRk0lhe",
        "outputId": "abd3ef39-79e6-4a7c-cf5f-89c2fa12634b"
      },
      "execution_count": null,
      "outputs": [
        {
          "output_type": "execute_result",
          "data": {
            "text/plain": [
              "True"
            ]
          },
          "metadata": {},
          "execution_count": 5
        }
      ]
    },
    {
      "cell_type": "code",
      "source": [
        "c = \"C언어\"\n",
        "c in b, c not in b"
      ],
      "metadata": {
        "colab": {
          "base_uri": "https://localhost:8080/"
        },
        "id": "rpsZwTcN0tnH",
        "outputId": "16e05f34-c3e5-4910-d291-b08d21342a50"
      },
      "execution_count": null,
      "outputs": [
        {
          "output_type": "execute_result",
          "data": {
            "text/plain": [
              "(False, True)"
            ]
          },
          "metadata": {},
          "execution_count": 7
        }
      ]
    },
    {
      "cell_type": "code",
      "source": [
        "name = \"한재원\"\n",
        "\"한\" in name, \"재원\" in name"
      ],
      "metadata": {
        "colab": {
          "base_uri": "https://localhost:8080/"
        },
        "id": "6dGtBQFX1koi",
        "outputId": "a3f0c6d4-0095-493b-e89c-ac88aed00c26"
      },
      "execution_count": null,
      "outputs": [
        {
          "output_type": "execute_result",
          "data": {
            "text/plain": [
              "(True, True)"
            ]
          },
          "metadata": {},
          "execution_count": 10
        }
      ]
    },
    {
      "cell_type": "code",
      "source": [
        "sentence = \"아버지가 방에 들어가신다\"\n",
        "\"아버지\" in sentence, \"어미니\" not in sentence"
      ],
      "metadata": {
        "colab": {
          "base_uri": "https://localhost:8080/"
        },
        "id": "Ork0AN7P1u1x",
        "outputId": "a1776526-4202-4b28-c1fc-affb88d50484"
      },
      "execution_count": null,
      "outputs": [
        {
          "output_type": "execute_result",
          "data": {
            "text/plain": [
              "(True, True)"
            ]
          },
          "metadata": {},
          "execution_count": 12
        }
      ]
    },
    {
      "cell_type": "markdown",
      "source": [
        "### 연결(+)"
      ],
      "metadata": {
        "id": "aMaxJGFt2LBi"
      }
    },
    {
      "cell_type": "code",
      "source": [
        "a = [\"사과\", \"배\", \"고라니\"]\n",
        "b = [1,2,3,4,5,6]\n",
        "a + b  # 연결 concatenate"
      ],
      "metadata": {
        "colab": {
          "base_uri": "https://localhost:8080/"
        },
        "id": "LncQzLCg2GWV",
        "outputId": "a4e96dd7-81a9-4e78-99d0-a075efacc131"
      },
      "execution_count": null,
      "outputs": [
        {
          "output_type": "execute_result",
          "data": {
            "text/plain": [
              "['사과', '배', '고라니', 1, 2, 3, 4, 5, 6]"
            ]
          },
          "metadata": {},
          "execution_count": 14
        }
      ]
    },
    {
      "cell_type": "code",
      "source": [
        "a, b # 리스트를 연결하면 원본에 영향을 주지 않음. 즉, 사본을 만듦"
      ],
      "metadata": {
        "colab": {
          "base_uri": "https://localhost:8080/"
        },
        "id": "X7WEhva_2bAx",
        "outputId": "83f56faf-3479-4ea4-f3ea-60186b2d0609"
      },
      "execution_count": null,
      "outputs": [
        {
          "output_type": "execute_result",
          "data": {
            "text/plain": [
              "(['사과', '배', '고라니'], [1, 2, 3, 4, 5, 6])"
            ]
          },
          "metadata": {},
          "execution_count": 15
        }
      ]
    },
    {
      "cell_type": "code",
      "source": [
        "(1,2,3) + (4,5,6)"
      ],
      "metadata": {
        "colab": {
          "base_uri": "https://localhost:8080/"
        },
        "id": "lKIloqd52qTL",
        "outputId": "c38b22e6-a5e0-40be-e88e-182c560ff538"
      },
      "execution_count": null,
      "outputs": [
        {
          "output_type": "execute_result",
          "data": {
            "text/plain": [
              "(1, 2, 3, 4, 5, 6)"
            ]
          },
          "metadata": {},
          "execution_count": 17
        }
      ]
    },
    {
      "cell_type": "code",
      "source": [
        "\"김\" + \"토스트\""
      ],
      "metadata": {
        "colab": {
          "base_uri": "https://localhost:8080/",
          "height": 35
        },
        "id": "y0oQld9Q28ME",
        "outputId": "b2b12089-6a04-4803-b799-1f37f5fa9a64"
      },
      "execution_count": null,
      "outputs": [
        {
          "output_type": "execute_result",
          "data": {
            "text/plain": [
              "'김토스트'"
            ],
            "application/vnd.google.colaboratory.intrinsic+json": {
              "type": "string"
            }
          },
          "metadata": {},
          "execution_count": 19
        }
      ]
    },
    {
      "cell_type": "code",
      "source": [
        "range(10) + range(10) # 증가폭이 다를 수 있으니까 합칠 수 없음"
      ],
      "metadata": {
        "colab": {
          "base_uri": "https://localhost:8080/",
          "height": 172
        },
        "id": "NBd7aVS22_TI",
        "outputId": "593a1b5f-4c4d-4821-97c1-41668173258f"
      },
      "execution_count": null,
      "outputs": [
        {
          "output_type": "error",
          "ename": "TypeError",
          "evalue": "ignored",
          "traceback": [
            "\u001b[0;31m---------------------------------------------------------------------------\u001b[0m",
            "\u001b[0;31mTypeError\u001b[0m                                 Traceback (most recent call last)",
            "\u001b[0;32m<ipython-input-20-840e29539313>\u001b[0m in \u001b[0;36m<module>\u001b[0;34m\u001b[0m\n\u001b[0;32m----> 1\u001b[0;31m \u001b[0mrange\u001b[0m\u001b[0;34m(\u001b[0m\u001b[0;36m10\u001b[0m\u001b[0;34m)\u001b[0m \u001b[0;34m+\u001b[0m \u001b[0mrange\u001b[0m\u001b[0;34m(\u001b[0m\u001b[0;36m10\u001b[0m\u001b[0;34m)\u001b[0m \u001b[0;31m# 증가폭이 다를 수 있으니까 합칠 수 없음\u001b[0m\u001b[0;34m\u001b[0m\u001b[0;34m\u001b[0m\u001b[0m\n\u001b[0m",
            "\u001b[0;31mTypeError\u001b[0m: unsupported operand type(s) for +: 'range' and 'range'"
          ]
        }
      ]
    },
    {
      "cell_type": "code",
      "source": [
        "list(range(10)) + list(range(10))"
      ],
      "metadata": {
        "colab": {
          "base_uri": "https://localhost:8080/"
        },
        "id": "zeQjYxC03PPG",
        "outputId": "b5890def-14bf-4c55-cfd6-8245db893dfd"
      },
      "execution_count": null,
      "outputs": [
        {
          "output_type": "execute_result",
          "data": {
            "text/plain": [
              "[0, 1, 2, 3, 4, 5, 6, 7, 8, 9, 0, 1, 2, 3, 4, 5, 6, 7, 8, 9]"
            ]
          },
          "metadata": {},
          "execution_count": 22
        }
      ]
    },
    {
      "cell_type": "code",
      "source": [
        "print(\"안녕하세요\", 1, \"학년입니다.\")"
      ],
      "metadata": {
        "colab": {
          "base_uri": "https://localhost:8080/"
        },
        "id": "4KSoT7S13TTq",
        "outputId": "309fa02e-d7ee-4356-ceab-9e0d4e3c9368"
      },
      "execution_count": null,
      "outputs": [
        {
          "output_type": "stream",
          "name": "stdout",
          "text": [
            "안녕하세요 1 학년입니다.\n"
          ]
        }
      ]
    },
    {
      "cell_type": "code",
      "source": [
        "\"허걱\" + 13 + \"그마내\" # int + strX"
      ],
      "metadata": {
        "colab": {
          "base_uri": "https://localhost:8080/",
          "height": 172
        },
        "id": "TTmwkIhu3bui",
        "outputId": "3cdceaf1-77ea-4e4c-acf6-61eb9dbc2a5e"
      },
      "execution_count": null,
      "outputs": [
        {
          "output_type": "error",
          "ename": "TypeError",
          "evalue": "ignored",
          "traceback": [
            "\u001b[0;31m---------------------------------------------------------------------------\u001b[0m",
            "\u001b[0;31mTypeError\u001b[0m                                 Traceback (most recent call last)",
            "\u001b[0;32m<ipython-input-25-04eb681d686d>\u001b[0m in \u001b[0;36m<module>\u001b[0;34m\u001b[0m\n\u001b[0;32m----> 1\u001b[0;31m \u001b[0;34m\"허걱\"\u001b[0m \u001b[0;34m+\u001b[0m \u001b[0;36m13\u001b[0m \u001b[0;34m+\u001b[0m \u001b[0;34m\"그마내\"\u001b[0m \u001b[0;31m# int + strX\u001b[0m\u001b[0;34m\u001b[0m\u001b[0;34m\u001b[0m\u001b[0m\n\u001b[0m",
            "\u001b[0;31mTypeError\u001b[0m: can only concatenate str (not \"int\") to str"
          ]
        }
      ]
    },
    {
      "cell_type": "code",
      "source": [
        "int(\"안녕하세요\")"
      ],
      "metadata": {
        "colab": {
          "base_uri": "https://localhost:8080/",
          "height": 172
        },
        "id": "fcsorquj3lET",
        "outputId": "e1b39800-dba2-4a19-fdc4-6e71647e2074"
      },
      "execution_count": null,
      "outputs": [
        {
          "output_type": "error",
          "ename": "ValueError",
          "evalue": "ignored",
          "traceback": [
            "\u001b[0;31m---------------------------------------------------------------------------\u001b[0m",
            "\u001b[0;31mValueError\u001b[0m                                Traceback (most recent call last)",
            "\u001b[0;32m<ipython-input-26-b771e1eb05d9>\u001b[0m in \u001b[0;36m<module>\u001b[0;34m\u001b[0m\n\u001b[0;32m----> 1\u001b[0;31m \u001b[0mint\u001b[0m\u001b[0;34m(\u001b[0m\u001b[0;34m\"안녕하세요\"\u001b[0m\u001b[0;34m)\u001b[0m\u001b[0;34m\u001b[0m\u001b[0;34m\u001b[0m\u001b[0m\n\u001b[0m",
            "\u001b[0;31mValueError\u001b[0m: invalid literal for int() with base 10: '안녕하세요'"
          ]
        }
      ]
    },
    {
      "cell_type": "code",
      "source": [
        "\"안녕하세요\" +str(1)+\"학년입니다.\""
      ],
      "metadata": {
        "colab": {
          "base_uri": "https://localhost:8080/",
          "height": 35
        },
        "id": "T60e0KBZ3rdb",
        "outputId": "963bd217-79b8-4f1d-d93c-4d2aa1cb937d"
      },
      "execution_count": null,
      "outputs": [
        {
          "output_type": "execute_result",
          "data": {
            "text/plain": [
              "'안녕하세요1학년입니다.'"
            ],
            "application/vnd.google.colaboratory.intrinsic+json": {
              "type": "string"
            }
          },
          "metadata": {},
          "execution_count": 27
        }
      ]
    },
    {
      "cell_type": "markdown",
      "source": [
        "### 반복(*) a.k.a 아스타"
      ],
      "metadata": {
        "id": "UWClqLJ43t_1"
      }
    },
    {
      "cell_type": "code",
      "source": [
        "# 연결을 n번 이상하는, (시퀀스 객체) * n, 반대도 가능\n",
        "[1,10,100,100] * 3"
      ],
      "metadata": {
        "colab": {
          "base_uri": "https://localhost:8080/"
        },
        "id": "ys9vXpDi397X",
        "outputId": "feb1fd8d-375d-478a-ef62-7e03c82adadc"
      },
      "execution_count": null,
      "outputs": [
        {
          "output_type": "execute_result",
          "data": {
            "text/plain": [
              "[1, 10, 100, 100, 1, 10, 100, 100, 1, 10, 100, 100]"
            ]
          },
          "metadata": {},
          "execution_count": 29
        }
      ]
    },
    {
      "cell_type": "code",
      "source": [
        "[1,10,100,100] +[1,10,100,100] +[1,10,100,100]"
      ],
      "metadata": {
        "colab": {
          "base_uri": "https://localhost:8080/"
        },
        "id": "pEW2IVaT4aR1",
        "outputId": "5bec5723-ed0c-4700-c2ca-70b95b147cc0"
      },
      "execution_count": null,
      "outputs": [
        {
          "output_type": "execute_result",
          "data": {
            "text/plain": [
              "[1, 10, 100, 100, 1, 10, 100, 100, 1, 10, 100, 100]"
            ]
          },
          "metadata": {},
          "execution_count": 31
        }
      ]
    },
    {
      "cell_type": "code",
      "source": [
        "[0] * 7 # 0을 7개 가진 리스트 만들기"
      ],
      "metadata": {
        "colab": {
          "base_uri": "https://localhost:8080/"
        },
        "id": "wjXdNPwy4eYK",
        "outputId": "064c6ffa-988f-4cd8-9a25-bc92becbc709"
      },
      "execution_count": null,
      "outputs": [
        {
          "output_type": "execute_result",
          "data": {
            "text/plain": [
              "[0, 0, 0, 0, 0, 0, 0]"
            ]
          },
          "metadata": {},
          "execution_count": 32
        }
      ]
    },
    {
      "cell_type": "code",
      "source": [
        "[0] * 0, [0] * -1 # 0 이하의 숫자를 넣으면 (음수) 빈 리스트가 됨"
      ],
      "metadata": {
        "colab": {
          "base_uri": "https://localhost:8080/"
        },
        "id": "iCxAQnJI4vD-",
        "outputId": "340245de-a567-4d49-aeba-5c45f7e2dcf4"
      },
      "execution_count": null,
      "outputs": [
        {
          "output_type": "execute_result",
          "data": {
            "text/plain": [
              "([], [])"
            ]
          },
          "metadata": {},
          "execution_count": 33
        }
      ]
    },
    {
      "cell_type": "code",
      "source": [
        "(0) * 0 #"
      ],
      "metadata": {
        "colab": {
          "base_uri": "https://localhost:8080/"
        },
        "id": "0KPBFQMR44oX",
        "outputId": "2f9a2108-ddd6-41e3-900c-3386490afb87"
      },
      "execution_count": null,
      "outputs": [
        {
          "output_type": "execute_result",
          "data": {
            "text/plain": [
              "0"
            ]
          },
          "metadata": {},
          "execution_count": 34
        }
      ]
    },
    {
      "cell_type": "code",
      "source": [
        "tuple(range(3)) * 10 # 사칙연산 안 됨 "
      ],
      "metadata": {
        "colab": {
          "base_uri": "https://localhost:8080/"
        },
        "id": "nvY_2f8S46UT",
        "outputId": "0d9e5120-da6b-4bb8-bfaf-6b9d3d6e7678"
      },
      "execution_count": null,
      "outputs": [
        {
          "output_type": "execute_result",
          "data": {
            "text/plain": [
              "(0,\n",
              " 1,\n",
              " 2,\n",
              " 0,\n",
              " 1,\n",
              " 2,\n",
              " 0,\n",
              " 1,\n",
              " 2,\n",
              " 0,\n",
              " 1,\n",
              " 2,\n",
              " 0,\n",
              " 1,\n",
              " 2,\n",
              " 0,\n",
              " 1,\n",
              " 2,\n",
              " 0,\n",
              " 1,\n",
              " 2,\n",
              " 0,\n",
              " 1,\n",
              " 2,\n",
              " 0,\n",
              " 1,\n",
              " 2,\n",
              " 0,\n",
              " 1,\n",
              " 2)"
            ]
          },
          "metadata": {},
          "execution_count": 37
        }
      ]
    },
    {
      "cell_type": "code",
      "source": [
        "\"퇴실\" * 10"
      ],
      "metadata": {
        "colab": {
          "base_uri": "https://localhost:8080/",
          "height": 35
        },
        "id": "0Ikylz-y5GHu",
        "outputId": "1bd3a215-e599-46c6-918e-d51aa8934c98"
      },
      "execution_count": null,
      "outputs": [
        {
          "output_type": "execute_result",
          "data": {
            "text/plain": [
              "'퇴실퇴실퇴실퇴실퇴실퇴실퇴실퇴실퇴실퇴실'"
            ],
            "application/vnd.google.colaboratory.intrinsic+json": {
              "type": "string"
            }
          },
          "metadata": {},
          "execution_count": 38
        }
      ]
    },
    {
      "cell_type": "markdown",
      "source": [
        "### len()"
      ],
      "metadata": {
        "id": "bzsXKXBM5IpH"
      }
    },
    {
      "cell_type": "code",
      "source": [
        "len([1,2,3]), len([1,2,3]), len(range(2,5,2)), len(\"문자열\")"
      ],
      "metadata": {
        "colab": {
          "base_uri": "https://localhost:8080/"
        },
        "id": "sivD4sO15dhn",
        "outputId": "306e47b8-3109-4be8-b855-2ff8599a9943"
      },
      "execution_count": null,
      "outputs": [
        {
          "output_type": "execute_result",
          "data": {
            "text/plain": [
              "(3, 3, 2, 3)"
            ]
          },
          "metadata": {},
          "execution_count": 39
        }
      ]
    },
    {
      "cell_type": "markdown",
      "source": [
        "### 인덱스"
      ],
      "metadata": {
        "id": "II0ma--R5ifz"
      }
    },
    {
      "cell_type": "code",
      "source": [
        "# 0부터 시작, 전체 길이 -1\n",
        "a = list(range(100,600,100))\n",
        "print(a)"
      ],
      "metadata": {
        "colab": {
          "base_uri": "https://localhost:8080/"
        },
        "id": "WpEmdJXa57p4",
        "outputId": "4b2c0fb5-6585-4e07-f1cb-510f28acf95b"
      },
      "execution_count": null,
      "outputs": [
        {
          "output_type": "stream",
          "name": "stdout",
          "text": [
            "[100, 200, 300, 400, 500]\n"
          ]
        }
      ]
    },
    {
      "cell_type": "code",
      "source": [
        "a[1], a[2-1] # 2번째 값을 가져오고 싶다/ 인덱스의 1번째를 가져옴"
      ],
      "metadata": {
        "colab": {
          "base_uri": "https://localhost:8080/"
        },
        "id": "Z-rwmigi6FlZ",
        "outputId": "544849f4-f66b-49c3-f348-a18dcacf2957"
      },
      "execution_count": null,
      "outputs": [
        {
          "output_type": "execute_result",
          "data": {
            "text/plain": [
              "(200, 200)"
            ]
          },
          "metadata": {},
          "execution_count": 43
        }
      ]
    },
    {
      "cell_type": "code",
      "source": [
        "name = \"김나나씨\"\n",
        "name[0], name[3]"
      ],
      "metadata": {
        "colab": {
          "base_uri": "https://localhost:8080/"
        },
        "id": "r3XECzcN6V1Z",
        "outputId": "e05ba963-499e-4c7c-cba3-eb00794bd00b"
      },
      "execution_count": null,
      "outputs": [
        {
          "output_type": "execute_result",
          "data": {
            "text/plain": [
              "('김', '씨')"
            ]
          },
          "metadata": {},
          "execution_count": 45
        }
      ]
    },
    {
      "cell_type": "code",
      "source": [
        "# 음수 인덱스: 뒤에서부터 카운트, len(시퀀스 객체) - n\n",
        "# a, a[-n] = a[len(a)-n]\n",
        "print(a)\n",
        "a[-1], a[len(a)-1]"
      ],
      "metadata": {
        "colab": {
          "base_uri": "https://localhost:8080/"
        },
        "id": "jzKSpif46bAr",
        "outputId": "157442f2-5b51-46e2-8347-fb9045bd1551"
      },
      "execution_count": null,
      "outputs": [
        {
          "output_type": "stream",
          "name": "stdout",
          "text": [
            "[100, 200, 300, 400, 500]\n"
          ]
        },
        {
          "output_type": "execute_result",
          "data": {
            "text/plain": [
              "(500, 500)"
            ]
          },
          "metadata": {},
          "execution_count": 47
        }
      ]
    },
    {
      "cell_type": "code",
      "source": [
        "a[len(a)]"
      ],
      "metadata": {
        "colab": {
          "base_uri": "https://localhost:8080/",
          "height": 172
        },
        "id": "94RKZIUg6yer",
        "outputId": "227fd629-aa82-4fa9-9476-07ab5b1a4efd"
      },
      "execution_count": null,
      "outputs": [
        {
          "output_type": "error",
          "ename": "IndexError",
          "evalue": "ignored",
          "traceback": [
            "\u001b[0;31m---------------------------------------------------------------------------\u001b[0m",
            "\u001b[0;31mIndexError\u001b[0m                                Traceback (most recent call last)",
            "\u001b[0;32m<ipython-input-49-836f840eaf9f>\u001b[0m in \u001b[0;36m<module>\u001b[0;34m\u001b[0m\n\u001b[0;32m----> 1\u001b[0;31m \u001b[0ma\u001b[0m\u001b[0;34m[\u001b[0m\u001b[0mlen\u001b[0m\u001b[0;34m(\u001b[0m\u001b[0ma\u001b[0m\u001b[0;34m)\u001b[0m\u001b[0;34m]\u001b[0m\u001b[0;34m\u001b[0m\u001b[0;34m\u001b[0m\u001b[0m\n\u001b[0m",
            "\u001b[0;31mIndexError\u001b[0m: list index out of range"
          ]
        }
      ]
    },
    {
      "cell_type": "markdown",
      "source": [
        "### 요소에 값 할당하기\n",
        "* element, 요소, 구성요소, 원소"
      ],
      "metadata": {
        "id": "0fczfutl68Ub"
      }
    },
    {
      "cell_type": "code",
      "source": [
        "a = [0]*5\n",
        "a[0] = 5\n",
        "a[1] = 13\n",
        "a[2] = 34\n",
        "a[3] = 88\n",
        "a[4] = 100\n",
        "# 원본에 영향"
      ],
      "metadata": {
        "colab": {
          "base_uri": "https://localhost:8080/"
        },
        "id": "Ln1-fVtj7Ln4",
        "outputId": "03784292-9080-41a1-8999-ac22429c9820"
      },
      "execution_count": null,
      "outputs": [
        {
          "output_type": "execute_result",
          "data": {
            "text/plain": [
              "0"
            ]
          },
          "metadata": {},
          "execution_count": 50
        }
      ]
    },
    {
      "cell_type": "code",
      "source": [
        "a[5]"
      ],
      "metadata": {
        "colab": {
          "base_uri": "https://localhost:8080/",
          "height": 172
        },
        "id": "CXf5dthR7PJA",
        "outputId": "542b701e-3bb9-4dc0-e451-ae046bd55a1e"
      },
      "execution_count": null,
      "outputs": [
        {
          "output_type": "error",
          "ename": "IndexError",
          "evalue": "ignored",
          "traceback": [
            "\u001b[0;31m---------------------------------------------------------------------------\u001b[0m",
            "\u001b[0;31mIndexError\u001b[0m                                Traceback (most recent call last)",
            "\u001b[0;32m<ipython-input-52-4a84d856522b>\u001b[0m in \u001b[0;36m<module>\u001b[0;34m\u001b[0m\n\u001b[0;32m----> 1\u001b[0;31m \u001b[0ma\u001b[0m\u001b[0;34m[\u001b[0m\u001b[0;36m5\u001b[0m\u001b[0;34m]\u001b[0m\u001b[0;34m\u001b[0m\u001b[0;34m\u001b[0m\u001b[0m\n\u001b[0m",
            "\u001b[0;31mIndexError\u001b[0m: list index out of range"
          ]
        }
      ]
    },
    {
      "cell_type": "markdown",
      "source": [
        "### del 요소 삭제하기"
      ],
      "metadata": {
        "id": "ELss05Gh7p5z"
      }
    },
    {
      "cell_type": "code",
      "source": [
        "# del 시퀀스객체[인덱스]"
      ],
      "metadata": {
        "id": "bInLk_wb7wSm"
      },
      "execution_count": null,
      "outputs": []
    },
    {
      "cell_type": "code",
      "source": [
        "print(a)\n",
        "del a[2]"
      ],
      "metadata": {
        "colab": {
          "base_uri": "https://localhost:8080/"
        },
        "id": "YsPC1H-770JG",
        "outputId": "02db2b34-efef-45f6-bd52-af84bc2364e6"
      },
      "execution_count": null,
      "outputs": [
        {
          "output_type": "stream",
          "name": "stdout",
          "text": [
            "[0, 0, 0, 0, 0]\n"
          ]
        }
      ]
    },
    {
      "cell_type": "code",
      "source": [
        "a"
      ],
      "metadata": {
        "colab": {
          "base_uri": "https://localhost:8080/"
        },
        "id": "FUSLxUBL78Cm",
        "outputId": "e1386053-f3e1-4e76-bc9d-938e60139ec0"
      },
      "execution_count": null,
      "outputs": [
        {
          "output_type": "execute_result",
          "data": {
            "text/plain": [
              "[0, 0, 0, 0]"
            ]
          },
          "metadata": {},
          "execution_count": 56
        }
      ]
    },
    {
      "cell_type": "code",
      "source": [
        "# 문자열, 튜플, range는 읽기 전용이라 del 사용 시 오류 발생\n",
        "s = \"book\"\n",
        "del s[2]"
      ],
      "metadata": {
        "colab": {
          "base_uri": "https://localhost:8080/",
          "height": 209
        },
        "id": "r1XrKHbW_Q0r",
        "outputId": "246aa699-3a6e-4d6c-f099-8b48f36fed48"
      },
      "execution_count": null,
      "outputs": [
        {
          "output_type": "error",
          "ename": "TypeError",
          "evalue": "ignored",
          "traceback": [
            "\u001b[0;31m---------------------------------------------------------------------------\u001b[0m",
            "\u001b[0;31mTypeError\u001b[0m                                 Traceback (most recent call last)",
            "\u001b[0;32m<ipython-input-57-ffc61890d38a>\u001b[0m in \u001b[0;36m<module>\u001b[0;34m\u001b[0m\n\u001b[1;32m      1\u001b[0m \u001b[0;31m# 문자열, 튜플, range는 읽기 전용이라 del 사용 시 오류 발생\u001b[0m\u001b[0;34m\u001b[0m\u001b[0;34m\u001b[0m\u001b[0;34m\u001b[0m\u001b[0m\n\u001b[1;32m      2\u001b[0m \u001b[0ms\u001b[0m \u001b[0;34m=\u001b[0m \u001b[0;34m\"book\"\u001b[0m\u001b[0;34m\u001b[0m\u001b[0;34m\u001b[0m\u001b[0m\n\u001b[0;32m----> 3\u001b[0;31m \u001b[0;32mdel\u001b[0m \u001b[0ms\u001b[0m\u001b[0;34m[\u001b[0m\u001b[0;36m2\u001b[0m\u001b[0;34m]\u001b[0m\u001b[0;34m\u001b[0m\u001b[0;34m\u001b[0m\u001b[0m\n\u001b[0m",
            "\u001b[0;31mTypeError\u001b[0m: 'str' object doesn't support item deletion"
          ]
        }
      ]
    },
    {
      "cell_type": "markdown",
      "source": [
        "### 슬라이스"
      ],
      "metadata": {
        "id": "QVWV-quZ_f58"
      }
    },
    {
      "cell_type": "code",
      "source": [
        "# 시퀀스 객체[시작인덱스:끝인덱스]\n",
        "# 시퀀스 객체[시작:], 시퀀스 객체[:끝]\n",
        "# 시퀀스 객체[시작:끝:증가폭]\n",
        "# 시퀀스 객체[::증가폭]\n",
        "a = list(range(0,100, 10))\n",
        "a"
      ],
      "metadata": {
        "colab": {
          "base_uri": "https://localhost:8080/"
        },
        "id": "H9ImyFpD_qmn",
        "outputId": "5e022c46-6139-4a98-ed3a-6f86127e37fe"
      },
      "execution_count": null,
      "outputs": [
        {
          "output_type": "execute_result",
          "data": {
            "text/plain": [
              "[0, 10, 20, 30, 40, 50, 60, 70, 80, 90]"
            ]
          },
          "metadata": {},
          "execution_count": 58
        }
      ]
    },
    {
      "cell_type": "code",
      "source": [
        "# 슬라이스는 원본에 영향을 미치지 않고 사본을 만드는 방법 중 하나\n",
        "a[0:4], len(a),a[0:10], a[0:100] # < 본인이 가지고 있는 범위까지만!"
      ],
      "metadata": {
        "colab": {
          "base_uri": "https://localhost:8080/"
        },
        "id": "PoFfBl7Z_5NJ",
        "outputId": "3aa652ef-4ae0-406e-b024-da17c7329473"
      },
      "execution_count": null,
      "outputs": [
        {
          "output_type": "execute_result",
          "data": {
            "text/plain": [
              "([0, 10, 20, 30],\n",
              " 10,\n",
              " [0, 10, 20, 30, 40, 50, 60, 70, 80, 90],\n",
              " [0, 10, 20, 30, 40, 50, 60, 70, 80, 90])"
            ]
          },
          "metadata": {},
          "execution_count": 64
        }
      ]
    },
    {
      "cell_type": "code",
      "source": [
        "a[1:1] # 빈 리스트"
      ],
      "metadata": {
        "colab": {
          "base_uri": "https://localhost:8080/"
        },
        "id": "i_yezZRmAC7f",
        "outputId": "43d7ba70-b335-402b-b523-85ef92227211"
      },
      "execution_count": null,
      "outputs": [
        {
          "output_type": "execute_result",
          "data": {
            "text/plain": [
              "[]"
            ]
          },
          "metadata": {},
          "execution_count": 65
        }
      ]
    },
    {
      "cell_type": "code",
      "source": [
        "a[3:5]"
      ],
      "metadata": {
        "colab": {
          "base_uri": "https://localhost:8080/"
        },
        "id": "fIrJzYcB__j9",
        "outputId": "a4e8193a-8448-4674-f602-07fae96015d3"
      },
      "execution_count": null,
      "outputs": [
        {
          "output_type": "execute_result",
          "data": {
            "text/plain": [
              "[30, 40]"
            ]
          },
          "metadata": {},
          "execution_count": 66
        }
      ]
    },
    {
      "cell_type": "code",
      "source": [
        "a[3:-1], a[3:len(a)-1] # 앞에 거는 끝점을 제외"
      ],
      "metadata": {
        "colab": {
          "base_uri": "https://localhost:8080/"
        },
        "id": "70olsVAGAbKJ",
        "outputId": "ee6a7bb9-a013-4d93-8d2a-ae9630749050"
      },
      "execution_count": null,
      "outputs": [
        {
          "output_type": "execute_result",
          "data": {
            "text/plain": [
              "([30, 40, 50, 60, 70, 80], [30, 40, 50, 60, 70, 80])"
            ]
          },
          "metadata": {},
          "execution_count": 68
        }
      ]
    },
    {
      "cell_type": "code",
      "source": [
        "a[1:5:2]"
      ],
      "metadata": {
        "colab": {
          "base_uri": "https://localhost:8080/"
        },
        "id": "rdz2h-9xAtjM",
        "outputId": "52bc1316-ca6e-47f3-f7e9-76c82cfb9d27"
      },
      "execution_count": null,
      "outputs": [
        {
          "output_type": "execute_result",
          "data": {
            "text/plain": [
              "[10, 30]"
            ]
          },
          "metadata": {},
          "execution_count": 69
        }
      ]
    },
    {
      "cell_type": "code",
      "source": [
        "list(range(1,5,2)), a[1:5:2], a[slice(1,5,2)]"
      ],
      "metadata": {
        "colab": {
          "base_uri": "https://localhost:8080/"
        },
        "id": "yLmh_EhQA19d",
        "outputId": "ba858a19-9237-48b9-98bf-aa2cf0a5510c"
      },
      "execution_count": null,
      "outputs": [
        {
          "output_type": "execute_result",
          "data": {
            "text/plain": [
              "([1, 3], [10, 30], [10, 30])"
            ]
          },
          "metadata": {},
          "execution_count": 71
        }
      ]
    },
    {
      "cell_type": "code",
      "source": [
        "a[:], a, a[0:len(a)] # 전체"
      ],
      "metadata": {
        "colab": {
          "base_uri": "https://localhost:8080/"
        },
        "id": "yWnVLghrA9ES",
        "outputId": "0d9a5c6a-cc4d-45c7-df0e-c69592cbdbfb"
      },
      "execution_count": null,
      "outputs": [
        {
          "output_type": "execute_result",
          "data": {
            "text/plain": [
              "([0, 10, 20, 30, 40, 50, 60, 70, 80, 90],\n",
              " [0, 10, 20, 30, 40, 50, 60, 70, 80, 90],\n",
              " [0, 10, 20, 30, 40, 50, 60, 70, 80, 90])"
            ]
          },
          "metadata": {},
          "execution_count": 75
        }
      ]
    },
    {
      "cell_type": "code",
      "source": [
        "a[1:], a[1:len(a)]"
      ],
      "metadata": {
        "colab": {
          "base_uri": "https://localhost:8080/"
        },
        "id": "YF0sABs0BPqu",
        "outputId": "f9d30848-449a-4729-f42f-284b64d6ec19"
      },
      "execution_count": null,
      "outputs": [
        {
          "output_type": "execute_result",
          "data": {
            "text/plain": [
              "([10, 20, 30, 40, 50, 60, 70, 80, 90], [10, 20, 30, 40, 50, 60, 70, 80, 90])"
            ]
          },
          "metadata": {},
          "execution_count": 76
        }
      ]
    },
    {
      "cell_type": "code",
      "source": [
        "a[:5], a[0:5], a[0:5:1]"
      ],
      "metadata": {
        "colab": {
          "base_uri": "https://localhost:8080/"
        },
        "id": "kG3km7oWBUAF",
        "outputId": "ea0020b7-8296-41aa-a97e-d21356ee1e8d"
      },
      "execution_count": null,
      "outputs": [
        {
          "output_type": "execute_result",
          "data": {
            "text/plain": [
              "([0, 10, 20, 30, 40], [0, 10, 20, 30, 40], [0, 10, 20, 30, 40])"
            ]
          },
          "metadata": {},
          "execution_count": 79
        }
      ]
    },
    {
      "cell_type": "code",
      "source": [
        "a[::2], a[0:len(a):2]"
      ],
      "metadata": {
        "colab": {
          "base_uri": "https://localhost:8080/"
        },
        "id": "fJBC5vBWBWT4",
        "outputId": "ab523da3-7c58-4eda-d3ef-f8fa4773bc9f"
      },
      "execution_count": null,
      "outputs": [
        {
          "output_type": "execute_result",
          "data": {
            "text/plain": [
              "([0, 20, 40, 60, 80], [0, 20, 40, 60, 80])"
            ]
          },
          "metadata": {},
          "execution_count": 80
        }
      ]
    },
    {
      "cell_type": "code",
      "source": [
        "a[::-1], a[len(a)::-1]"
      ],
      "metadata": {
        "colab": {
          "base_uri": "https://localhost:8080/"
        },
        "id": "TyASwizQBZ4Q",
        "outputId": "d81b9ae4-c6fe-4ad7-bfc7-50a385754f84"
      },
      "execution_count": null,
      "outputs": [
        {
          "output_type": "execute_result",
          "data": {
            "text/plain": [
              "([90, 80, 70, 60, 50, 40, 30, 20, 10, 0],\n",
              " [90, 80, 70, 60, 50, 40, 30, 20, 10, 0])"
            ]
          },
          "metadata": {},
          "execution_count": 84
        }
      ]
    },
    {
      "cell_type": "code",
      "source": [
        "a[20:0:-1], a[20::-1]"
      ],
      "metadata": {
        "colab": {
          "base_uri": "https://localhost:8080/"
        },
        "id": "Rod-5sQJCDFx",
        "outputId": "8996f714-9cb4-41bf-b9f0-fcae7aea8aab"
      },
      "execution_count": null,
      "outputs": [
        {
          "output_type": "execute_result",
          "data": {
            "text/plain": [
              "([90, 80, 70, 60, 50, 40, 30, 20, 10], [90, 80, 70, 60, 50, 40, 30, 20, 10, 0])"
            ]
          },
          "metadata": {},
          "execution_count": 86
        }
      ]
    },
    {
      "cell_type": "code",
      "source": [
        "s = \"hello world\"\n",
        "s[::-1], s[::2]"
      ],
      "metadata": {
        "colab": {
          "base_uri": "https://localhost:8080/"
        },
        "id": "eTfP7NA4CEr5",
        "outputId": "343b33ad-7bfb-4bd0-c267-3202a6f96bf5"
      },
      "execution_count": null,
      "outputs": [
        {
          "output_type": "execute_result",
          "data": {
            "text/plain": [
              "('dlrow olleh', 'hlowrd')"
            ]
          },
          "metadata": {},
          "execution_count": 87
        }
      ]
    },
    {
      "cell_type": "code",
      "source": [
        "# 할당하기 -> 특정한 슬라이드 범위에 새로운 값들을 끼워넣기\n",
        "# 리스트만 가능, 갯수가 일치할 필요가 없다.\n",
        "a = [1,2,3,4,5]\n",
        "# a[1:3]\n",
        "a[1:3] = [6,7,8,9]\n",
        "a"
      ],
      "metadata": {
        "colab": {
          "base_uri": "https://localhost:8080/"
        },
        "id": "6c4DyF6ACRwA",
        "outputId": "16c38ed7-c8d6-47bd-efcb-5888a08bb1be"
      },
      "execution_count": null,
      "outputs": [
        {
          "output_type": "execute_result",
          "data": {
            "text/plain": [
              "[1, 6, 7, 8, 9, 4, 5]"
            ]
          },
          "metadata": {},
          "execution_count": 90
        }
      ]
    },
    {
      "cell_type": "code",
      "source": [
        "b = list(range(20))\n",
        "b"
      ],
      "metadata": {
        "colab": {
          "base_uri": "https://localhost:8080/"
        },
        "id": "DF_IuoY6Cv8J",
        "outputId": "3d1db2ac-ccf4-45af-bfdf-03193a4e81f4"
      },
      "execution_count": null,
      "outputs": [
        {
          "output_type": "execute_result",
          "data": {
            "text/plain": [
              "[0, 1, 2, 3, 4, 5, 6, 7, 8, 9, 10, 11, 12, 13, 14, 15, 16, 17, 18, 19]"
            ]
          },
          "metadata": {},
          "execution_count": 91
        }
      ]
    },
    {
      "cell_type": "code",
      "source": [
        "b[1:10:2]"
      ],
      "metadata": {
        "colab": {
          "base_uri": "https://localhost:8080/"
        },
        "id": "f-ATG-DQCvAk",
        "outputId": "7568168e-0af7-4eef-dc63-eb782b5e416d"
      },
      "execution_count": null,
      "outputs": [
        {
          "output_type": "execute_result",
          "data": {
            "text/plain": [
              "[1, 3, 5, 7, 9]"
            ]
          },
          "metadata": {},
          "execution_count": 92
        }
      ]
    },
    {
      "cell_type": "code",
      "source": [
        "b[1:10:2] = [0]*5\n",
        "b"
      ],
      "metadata": {
        "colab": {
          "base_uri": "https://localhost:8080/"
        },
        "id": "jNyQeVXmDBcU",
        "outputId": "a80674da-be78-4194-c9fa-2133e9e7f0e9"
      },
      "execution_count": null,
      "outputs": [
        {
          "output_type": "execute_result",
          "data": {
            "text/plain": [
              "[0, 0, 2, 0, 4, 0, 6, 0, 8, 0, 10, 11, 12, 13, 14, 15, 16, 17, 18, 19]"
            ]
          },
          "metadata": {},
          "execution_count": 93
        }
      ]
    },
    {
      "cell_type": "code",
      "source": [
        "print(a)"
      ],
      "metadata": {
        "id": "i3B5yuuHDACy",
        "colab": {
          "base_uri": "https://localhost:8080/"
        },
        "outputId": "d8db4c2c-20ea-47a7-ad4d-5d4714acb3a8"
      },
      "execution_count": null,
      "outputs": [
        {
          "output_type": "stream",
          "name": "stdout",
          "text": [
            "[1, 6, 7, 8, 9, 4, 5]\n"
          ]
        }
      ]
    },
    {
      "cell_type": "code",
      "source": [
        "del a[2:5]\n",
        "a # 원본 삭제 영향O"
      ],
      "metadata": {
        "colab": {
          "base_uri": "https://localhost:8080/"
        },
        "id": "eRxiQKkACmGr",
        "outputId": "753d743d-1f36-464d-b969-7ebaaa0c9f57"
      },
      "execution_count": null,
      "outputs": [
        {
          "output_type": "execute_result",
          "data": {
            "text/plain": [
              "[1, 6, 4, 5]"
            ]
          },
          "metadata": {},
          "execution_count": 95
        }
      ]
    },
    {
      "cell_type": "markdown",
      "source": [
        "### 딕셔너리"
      ],
      "metadata": {
        "id": "KtEWLhpzDfsf"
      }
    },
    {
      "cell_type": "code",
      "source": [
        "d = {\n",
        "    \"key\": \"value\"\n",
        "}\n",
        "\n",
        "d \n"
      ],
      "metadata": {
        "colab": {
          "base_uri": "https://localhost:8080/"
        },
        "id": "oyIBuyvkDmb1",
        "outputId": "19df4f69-0747-453c-a6d7-1d678f4962f0"
      },
      "execution_count": null,
      "outputs": [
        {
          "output_type": "execute_result",
          "data": {
            "text/plain": [
              "{'key': 'value'}"
            ]
          },
          "metadata": {},
          "execution_count": 96
        }
      ]
    },
    {
      "cell_type": "code",
      "source": [
        "young = {\n",
        "    \"말\": \"많음\",\n",
        "    \"체력\": \"딸림\",\n",
        "    \"타고오는 지하철\": 1,\n",
        "    \"잔소리 여부\": True,\n",
        "    \"좋아하는 언어\": [\"파이썬\", \"히히\"]\n",
        "}"
      ],
      "metadata": {
        "id": "ige21UxLEK1m"
      },
      "execution_count": null,
      "outputs": []
    },
    {
      "cell_type": "code",
      "source": [
        "# k, v = 1:1 대응\n",
        "kim = {\n",
        "    \"height\":170,\n",
        "    \"weight\":80, \n",
        "    \"height\": 180,\n",
        "    \"weight\": 53\n",
        "} # 중괄호로 묶어야 한다.\n",
        "kim"
      ],
      "metadata": {
        "colab": {
          "base_uri": "https://localhost:8080/"
        },
        "id": "zYq_h9JfEbSz",
        "outputId": "e1cfdc85-e2ac-42e2-af24-3ca2696b07df"
      },
      "execution_count": null,
      "outputs": [
        {
          "output_type": "execute_result",
          "data": {
            "text/plain": [
              "{'height': 180, 'weight': 53}"
            ]
          },
          "metadata": {},
          "execution_count": 100
        }
      ]
    },
    {
      "cell_type": "code",
      "source": [
        "# 리스트, 딕셔너리는 자체는 키값으로 쓸 수 없음! range랑 튜플은 됨. ***\n",
        "{\n",
        "    []:0\n",
        "}"
      ],
      "metadata": {
        "colab": {
          "base_uri": "https://localhost:8080/",
          "height": 227
        },
        "id": "Ka4b_T6rE3js",
        "outputId": "0b598f24-6ca5-455e-e998-0c7e40b20962"
      },
      "execution_count": null,
      "outputs": [
        {
          "output_type": "error",
          "ename": "TypeError",
          "evalue": "ignored",
          "traceback": [
            "\u001b[0;31m---------------------------------------------------------------------------\u001b[0m",
            "\u001b[0;31mTypeError\u001b[0m                                 Traceback (most recent call last)",
            "\u001b[0;32m<ipython-input-102-364f562ba506>\u001b[0m in \u001b[0;36m<module>\u001b[0;34m\u001b[0m\n\u001b[1;32m      1\u001b[0m \u001b[0;31m# 리스트, 딕셔너리는 자체는 키값으로 쓸 수 없음! range랑 튜플은 됨.\u001b[0m\u001b[0;34m\u001b[0m\u001b[0;34m\u001b[0m\u001b[0;34m\u001b[0m\u001b[0m\n\u001b[0;32m----> 2\u001b[0;31m {\n\u001b[0m\u001b[1;32m      3\u001b[0m     \u001b[0;34m[\u001b[0m\u001b[0;34m]\u001b[0m\u001b[0;34m:\u001b[0m\u001b[0;36m0\u001b[0m\u001b[0;34m\u001b[0m\u001b[0;34m\u001b[0m\u001b[0m\n\u001b[1;32m      4\u001b[0m }\n",
            "\u001b[0;31mTypeError\u001b[0m: unhashable type: 'list'"
          ]
        }
      ]
    },
    {
      "cell_type": "code",
      "source": [
        "{\n",
        "    {}:0\n",
        "}"
      ],
      "metadata": {
        "colab": {
          "base_uri": "https://localhost:8080/",
          "height": 209
        },
        "id": "Bt0gqS5BFU2V",
        "outputId": "25d15843-0002-43d3-a852-06f74b5e9a39"
      },
      "execution_count": null,
      "outputs": [
        {
          "output_type": "error",
          "ename": "TypeError",
          "evalue": "ignored",
          "traceback": [
            "\u001b[0;31m---------------------------------------------------------------------------\u001b[0m",
            "\u001b[0;31mTypeError\u001b[0m                                 Traceback (most recent call last)",
            "\u001b[0;32m<ipython-input-103-6f4d31b18d83>\u001b[0m in \u001b[0;36m<module>\u001b[0;34m\u001b[0m\n\u001b[0;32m----> 1\u001b[0;31m {\n\u001b[0m\u001b[1;32m      2\u001b[0m     \u001b[0;34m{\u001b[0m\u001b[0;34m}\u001b[0m\u001b[0;34m:\u001b[0m\u001b[0;36m0\u001b[0m\u001b[0;34m\u001b[0m\u001b[0;34m\u001b[0m\u001b[0m\n\u001b[1;32m      3\u001b[0m }\n",
            "\u001b[0;31mTypeError\u001b[0m: unhashable type: 'dict'"
          ]
        }
      ]
    },
    {
      "cell_type": "code",
      "source": [
        "kim"
      ],
      "metadata": {
        "colab": {
          "base_uri": "https://localhost:8080/"
        },
        "id": "nW4FdzDdEVEM",
        "outputId": "b581aae2-56e9-47c0-ccf7-e3038817d137"
      },
      "execution_count": null,
      "outputs": [
        {
          "output_type": "execute_result",
          "data": {
            "text/plain": [
              "{'height': 180, 'weight': 53}"
            ]
          },
          "metadata": {},
          "execution_count": 104
        }
      ]
    },
    {
      "cell_type": "code",
      "source": [
        "kim[\"height\"]"
      ],
      "metadata": {
        "colab": {
          "base_uri": "https://localhost:8080/"
        },
        "id": "Sh35-DSwFkSQ",
        "outputId": "9ea03ce3-150f-4672-d080-1a0e1b9f8a4e"
      },
      "execution_count": null,
      "outputs": [
        {
          "output_type": "execute_result",
          "data": {
            "text/plain": [
              "180"
            ]
          },
          "metadata": {},
          "execution_count": 105
        }
      ]
    },
    {
      "cell_type": "code",
      "source": [
        "# 키값으로 값을 할당해 줄 때는 아~~~~~~~~~~무상관이 없다\n",
        "kim[\"height\"] = 170\n",
        "kim['salary'] = 3000"
      ],
      "metadata": {
        "id": "do6JG7pUFmwC"
      },
      "execution_count": null,
      "outputs": []
    },
    {
      "cell_type": "code",
      "source": [
        "kim"
      ],
      "metadata": {
        "colab": {
          "base_uri": "https://localhost:8080/"
        },
        "id": "C4glKOXiF0fz",
        "outputId": "f9452b63-b895-4e50-a2ec-8f797a7cc0ca"
      },
      "execution_count": null,
      "outputs": [
        {
          "output_type": "execute_result",
          "data": {
            "text/plain": [
              "{'height': 170, 'weight': 53, 'salary': 3000}"
            ]
          },
          "metadata": {},
          "execution_count": 107
        }
      ]
    },
    {
      "cell_type": "code",
      "source": [
        "# 없는 키값을 불러오려고 할 때는 오류생김\n",
        "kim[\"IQ\"] # KeyError"
      ],
      "metadata": {
        "colab": {
          "base_uri": "https://localhost:8080/",
          "height": 190
        },
        "id": "lDMAOupwF1W0",
        "outputId": "7e235ccc-7c11-417d-e446-c84d50ac10c9"
      },
      "execution_count": null,
      "outputs": [
        {
          "output_type": "error",
          "ename": "KeyError",
          "evalue": "ignored",
          "traceback": [
            "\u001b[0;31m---------------------------------------------------------------------------\u001b[0m",
            "\u001b[0;31mKeyError\u001b[0m                                  Traceback (most recent call last)",
            "\u001b[0;32m<ipython-input-109-ef95fd2815e2>\u001b[0m in \u001b[0;36m<module>\u001b[0;34m\u001b[0m\n\u001b[1;32m      1\u001b[0m \u001b[0;31m# 없는 키값을 불러오려고 할 때는 오류생김\u001b[0m\u001b[0;34m\u001b[0m\u001b[0;34m\u001b[0m\u001b[0;34m\u001b[0m\u001b[0m\n\u001b[0;32m----> 2\u001b[0;31m \u001b[0mkim\u001b[0m\u001b[0;34m[\u001b[0m\u001b[0;34m\"IQ\"\u001b[0m\u001b[0;34m]\u001b[0m \u001b[0;31m# KeyError\u001b[0m\u001b[0;34m\u001b[0m\u001b[0;34m\u001b[0m\u001b[0m\n\u001b[0m",
            "\u001b[0;31mKeyError\u001b[0m: 'IQ'"
          ]
        }
      ]
    },
    {
      "cell_type": "code",
      "source": [
        "\"IQ\" in kim #결과 값 -> False # 시퀀스 객체(in) / 딕셔너리(in)/ for 반복문 (in)\n",
        "\"IQ\" not in kim"
      ],
      "metadata": {
        "colab": {
          "base_uri": "https://localhost:8080/"
        },
        "id": "BLd4tgONGQAo",
        "outputId": "7803f4f7-11f1-40d7-b8ad-a290e9e047ae"
      },
      "execution_count": null,
      "outputs": [
        {
          "output_type": "execute_result",
          "data": {
            "text/plain": [
              "True"
            ]
          },
          "metadata": {},
          "execution_count": 110
        }
      ]
    },
    {
      "cell_type": "code",
      "source": [
        "# 키의 갯수\n",
        "len(kim)"
      ],
      "metadata": {
        "colab": {
          "base_uri": "https://localhost:8080/"
        },
        "id": "_i-78zv4GQgZ",
        "outputId": "56d9e2e6-8239-4d8a-8213-81a216d247b3"
      },
      "execution_count": null,
      "outputs": [
        {
          "output_type": "execute_result",
          "data": {
            "text/plain": [
              "3"
            ]
          },
          "metadata": {},
          "execution_count": 111
        }
      ]
    },
    {
      "cell_type": "code",
      "source": [
        "list(kim) # dictionary를 list로 감싸면 키를 원소로 가지는 list만 남음"
      ],
      "metadata": {
        "colab": {
          "base_uri": "https://localhost:8080/"
        },
        "id": "alVNq3OIGaJf",
        "outputId": "ae5ed046-dc09-441b-d860-5664b71328a9"
      },
      "execution_count": null,
      "outputs": [
        {
          "output_type": "execute_result",
          "data": {
            "text/plain": [
              "['height', 'weight', 'salary']"
            ]
          },
          "metadata": {},
          "execution_count": 113
        }
      ]
    },
    {
      "cell_type": "markdown",
      "source": [
        "### 조건문"
      ],
      "metadata": {
        "id": "Fh_da2kEHmWk"
      }
    },
    {
      "cell_type": "markdown",
      "source": [
        "#### if"
      ],
      "metadata": {
        "id": "uQ--d0kxIOty"
      }
    },
    {
      "cell_type": "code",
      "source": [
        "\n",
        "\n",
        "switch = True\n",
        "if switch: # if(...): 조건식 -> 최종적으로 bool형태로 표현될 수 있는 값\n",
        "  print(\"아 밝다~\") # if 본문."
      ],
      "metadata": {
        "colab": {
          "base_uri": "https://localhost:8080/"
        },
        "id": "KlzRP0QlHooo",
        "outputId": "96427b87-4152-46dd-f590-3c721696d58c"
      },
      "execution_count": null,
      "outputs": [
        {
          "output_type": "stream",
          "name": "stdout",
          "text": [
            "아 밝다~\n"
          ]
        }
      ]
    },
    {
      "cell_type": "code",
      "source": [
        "temperature = 40\n",
        "if temperature > 38:\n",
        "  print(\"아 덥다\")\n",
        "  "
      ],
      "metadata": {
        "colab": {
          "base_uri": "https://localhost:8080/"
        },
        "id": "f0eDm6VSH_eX",
        "outputId": "a83a5c34-9b86-4f50-e86c-79cf8b0c41c4"
      },
      "execution_count": null,
      "outputs": [
        {
          "output_type": "stream",
          "name": "stdout",
          "text": [
            "아 덥다\n"
          ]
        }
      ]
    },
    {
      "cell_type": "code",
      "source": [
        "temperature = 30\n",
        "if temperature > 38:\n",
        "  print(\"아 덥다\")\n",
        "  "
      ],
      "metadata": {
        "id": "vWhzY_cLH9W0"
      },
      "execution_count": null,
      "outputs": []
    },
    {
      "cell_type": "code",
      "source": [
        "temperature = 40\n",
        "if temperature > 38:\n",
        "  print(\"아 덥다\")\n"
      ],
      "metadata": {
        "id": "1bbp6fdEIJem"
      },
      "execution_count": null,
      "outputs": []
    },
    {
      "cell_type": "markdown",
      "source": [
        "#### else"
      ],
      "metadata": {
        "id": "eEX34kOJISBm"
      }
    },
    {
      "cell_type": "code",
      "source": [
        "temperature = 30\n",
        "if temperature > 38:\n",
        "  print(\"아 덥다\")\n",
        "else: # temperature <= 38\n",
        "  print(\"물 마시고 싶어\")\n"
      ],
      "metadata": {
        "colab": {
          "base_uri": "https://localhost:8080/"
        },
        "id": "2hrudchwITqs",
        "outputId": "4eae6034-4b03-4b54-ff88-0341d67434d6"
      },
      "execution_count": null,
      "outputs": [
        {
          "output_type": "stream",
          "name": "stdout",
          "text": [
            "물 마시고 싶어\n"
          ]
        }
      ]
    },
    {
      "cell_type": "markdown",
      "source": [
        "#### pass (왜..?씀?... => 블록 유지때문)"
      ],
      "metadata": {
        "id": "IoDpMFMXI2Eb"
      }
    },
    {
      "cell_type": "code",
      "source": [
        "pass"
      ],
      "metadata": {
        "id": "ldrojsKGI3qW"
      },
      "execution_count": null,
      "outputs": []
    },
    {
      "cell_type": "code",
      "source": [
        "if True:\n",
        "  '' # pass\n",
        "else:\n",
        "  print(\"Hello\")"
      ],
      "metadata": {
        "id": "thgJXW8VI7X7"
      },
      "execution_count": null,
      "outputs": []
    },
    {
      "cell_type": "code",
      "source": [
        "name = \"김땡땡\"\n",
        "\n",
        "if name == \"김땡땡\": # 연산자는 동등연산자로 나타내야함\n",
        "  print(\"야무져~\")\n"
      ],
      "metadata": {
        "colab": {
          "base_uri": "https://localhost:8080/"
        },
        "id": "_SwURaZUJljG",
        "outputId": "689417f9-2f71-49bc-8802-d77940febadc"
      },
      "execution_count": null,
      "outputs": [
        {
          "output_type": "stream",
          "name": "stdout",
          "text": [
            "야무져~\n"
          ]
        }
      ]
    },
    {
      "cell_type": "code",
      "source": [
        "if \"김\" in name:\n",
        "  print(\"웰컴\")"
      ],
      "metadata": {
        "colab": {
          "base_uri": "https://localhost:8080/"
        },
        "id": "Y2SWYraDJrbk",
        "outputId": "7dfe4512-e153-41c6-b1ae-72402acdfabb"
      },
      "execution_count": null,
      "outputs": [
        {
          "output_type": "stream",
          "name": "stdout",
          "text": [
            "웰컴\n"
          ]
        }
      ]
    },
    {
      "cell_type": "markdown",
      "source": [
        "#### 삼항 연산자 (조건부 표현식)"
      ],
      "metadata": {
        "id": "LT0iIv2-Jx13"
      }
    },
    {
      "cell_type": "code",
      "source": [
        "a = None\n",
        "b = True\n",
        "if b:\n",
        "  a = 10\n",
        "else:\n",
        "  a = 100\n",
        "\n",
        "a"
      ],
      "metadata": {
        "colab": {
          "base_uri": "https://localhost:8080/"
        },
        "id": "tjBUXniTKAEj",
        "outputId": "91144a30-3a49-4c43-ae09-0a630e065ef2"
      },
      "execution_count": null,
      "outputs": [
        {
          "output_type": "execute_result",
          "data": {
            "text/plain": [
              "10"
            ]
          },
          "metadata": {},
          "execution_count": 125
        }
      ]
    },
    {
      "cell_type": "code",
      "source": [
        "a = 10 if b else 100 # True값 if 조건식 else False 값\n",
        "1 if False else \"헬로\""
      ],
      "metadata": {
        "colab": {
          "base_uri": "https://localhost:8080/",
          "height": 35
        },
        "id": "fS7TLanPKNcp",
        "outputId": "f01080d1-2ab9-4e48-afc8-f565f968f9fb"
      },
      "execution_count": null,
      "outputs": [
        {
          "output_type": "execute_result",
          "data": {
            "text/plain": [
              "'헬로'"
            ],
            "application/vnd.google.colaboratory.intrinsic+json": {
              "type": "string"
            }
          },
          "metadata": {},
          "execution_count": 129
        }
      ]
    },
    {
      "cell_type": "markdown",
      "source": [
        "#### elif"
      ],
      "metadata": {
        "id": "MyUIqQCDKk61"
      }
    },
    {
      "cell_type": "code",
      "source": [
        "a = \"환타\"\n",
        "\n",
        "if a == \"콜라\":\n",
        "  print(\"콜라 드세요\")\n",
        "elif a == \"사이다\":\n",
        "  print(\"사이다 드세요\")\n",
        "elif a == \"환타\":\n",
        "  print(\"환타 드세요\")\n"
      ],
      "metadata": {
        "colab": {
          "base_uri": "https://localhost:8080/"
        },
        "id": "3lUinssMKmUJ",
        "outputId": "350f9048-ba76-4c50-dcb1-5aff03a1899d"
      },
      "execution_count": null,
      "outputs": [
        {
          "output_type": "stream",
          "name": "stdout",
          "text": [
            "환타 드세요\n"
          ]
        }
      ]
    },
    {
      "cell_type": "code",
      "source": [],
      "metadata": {
        "id": "bADoZIoVf_ju"
      },
      "execution_count": null,
      "outputs": []
    },
    {
      "cell_type": "markdown",
      "source": [
        "# 반복문"
      ],
      "metadata": {
        "id": "3xYMzv47OA_8"
      }
    },
    {
      "cell_type": "markdown",
      "source": [
        "## for"
      ],
      "metadata": {
        "id": "kMVGduSPOICx"
      }
    },
    {
      "cell_type": "code",
      "source": [
        "for i in range(10): # range랑 같이 쓰면 정수 -> i\n",
        "    print(i, end=\" \")"
      ],
      "metadata": {
        "colab": {
          "base_uri": "https://localhost:8080/"
        },
        "id": "naTS5vz5K0Hl",
        "outputId": "79eacdda-44c5-4dd4-895d-693bb74d8f63"
      },
      "execution_count": null,
      "outputs": [
        {
          "output_type": "stream",
          "name": "stdout",
          "text": [
            "0 1 2 3 4 5 6 7 8 9 "
          ]
        }
      ]
    },
    {
      "cell_type": "code",
      "source": [
        "# range(n) : n회 반복\n",
        "for i in \"hello world\": # range가 아닌 시퀀스형태의 자료형? list -> v, string -> c\n",
        "    print(i) # 루프를 돈다"
      ],
      "metadata": {
        "colab": {
          "base_uri": "https://localhost:8080/"
        },
        "id": "TWn0IfxTOWw2",
        "outputId": "1b26b2b2-1d67-4a78-a6b9-fab6ef627e7d"
      },
      "execution_count": null,
      "outputs": [
        {
          "output_type": "stream",
          "name": "stdout",
          "text": [
            "h\n",
            "e\n",
            "l\n",
            "l\n",
            "o\n",
            " \n",
            "w\n",
            "o\n",
            "r\n",
            "l\n",
            "d\n"
          ]
        }
      ]
    },
    {
      "cell_type": "code",
      "source": [
        "a = [\"배\", \"사과\", \"바나나\"]\n",
        "for i in a:\n",
        "    print(i)"
      ],
      "metadata": {
        "colab": {
          "base_uri": "https://localhost:8080/"
        },
        "id": "9qhOE-JHO_jQ",
        "outputId": "3cdc43cd-bac3-410d-8bed-fd3b0d6aa04b"
      },
      "execution_count": null,
      "outputs": [
        {
          "output_type": "stream",
          "name": "stdout",
          "text": [
            "배\n",
            "사과\n",
            "바나나\n"
          ]
        }
      ]
    },
    {
      "cell_type": "code",
      "source": [
        "for i in reversed(a): # reverse + ed : 새롭게 형성된 데이터\n",
        "    print(i)"
      ],
      "metadata": {
        "colab": {
          "base_uri": "https://localhost:8080/"
        },
        "id": "VfMTrUTnPzGN",
        "outputId": "0760cc45-56b4-4f38-82d1-cc9d450eac45"
      },
      "execution_count": null,
      "outputs": [
        {
          "output_type": "stream",
          "name": "stdout",
          "text": [
            "바나나\n",
            "사과\n",
            "배\n"
          ]
        }
      ]
    },
    {
      "cell_type": "code",
      "source": [
        "a, list(reversed(a)), a[::-1]"
      ],
      "metadata": {
        "colab": {
          "base_uri": "https://localhost:8080/"
        },
        "id": "08bWanTWP7eU",
        "outputId": "125e6cb4-383c-471b-da45-d766aa6e1c27"
      },
      "execution_count": null,
      "outputs": [
        {
          "output_type": "execute_result",
          "data": {
            "text/plain": [
              "(['배', '사과', '바나나'], ['바나나', '사과', '배'], ['바나나', '사과', '배'])"
            ]
          },
          "metadata": {},
          "execution_count": 146
        }
      ]
    },
    {
      "cell_type": "markdown",
      "source": [
        "## while"
      ],
      "metadata": {
        "id": "5N-19qUJQSu6"
      }
    },
    {
      "cell_type": "code",
      "source": [
        "for i in range(10):\n",
        "    print(i, end=\" \")"
      ],
      "metadata": {
        "colab": {
          "base_uri": "https://localhost:8080/"
        },
        "id": "8_qAv6HZQRvV",
        "outputId": "1418ff0b-e218-4582-fe48-1ec0fa07912e"
      },
      "execution_count": null,
      "outputs": [
        {
          "output_type": "stream",
          "name": "stdout",
          "text": [
            "0 1 2 3 4 5 6 7 8 9 "
          ]
        }
      ]
    },
    {
      "cell_type": "code",
      "source": [
        "'''\n",
        "for (i = 0; i < 10; i++) {\n",
        "    ...\n",
        "}\n",
        "'''"
      ],
      "metadata": {
        "colab": {
          "base_uri": "https://localhost:8080/",
          "height": 36
        },
        "id": "kItUvE-MQxY9",
        "outputId": "ce40db54-8334-4dd0-9ef7-2975765c0631"
      },
      "execution_count": null,
      "outputs": [
        {
          "output_type": "execute_result",
          "data": {
            "text/plain": [
              "'\\nfor (i = 0; i < 10; i++) {}\\n'"
            ],
            "application/vnd.google.colaboratory.intrinsic+json": {
              "type": "string"
            }
          },
          "metadata": {},
          "execution_count": 149
        }
      ]
    },
    {
      "cell_type": "code",
      "source": [
        "i = 0 # 초기식\n",
        "while i < 10: # while 조건식\n",
        "    print(i, end=\" \") # ...\n",
        "    i += 1 # 변화식"
      ],
      "metadata": {
        "colab": {
          "base_uri": "https://localhost:8080/"
        },
        "id": "TbmlEvZJQiGG",
        "outputId": "287bb37c-13ce-4d97-e0c5-4af58936d7e4"
      },
      "execution_count": null,
      "outputs": [
        {
          "output_type": "stream",
          "name": "stdout",
          "text": [
            "0 1 2 3 4 5 6 7 8 9 "
          ]
        }
      ]
    },
    {
      "cell_type": "code",
      "source": [
        "money = 100000\n",
        "hit = 0\n",
        "while money > 0:\n",
        "    money -= 100\n",
        "    hit += 1\n",
        "    print(money, \"원 남았습니다\", hit, \"대 맞았습니다\")"
      ],
      "metadata": {
        "colab": {
          "base_uri": "https://localhost:8080/"
        },
        "id": "iZ7DJRSYQoz9",
        "outputId": "fab63619-a7bf-47ce-ec22-bccb1584505c"
      },
      "execution_count": null,
      "outputs": [
        {
          "output_type": "stream",
          "name": "stdout",
          "text": [
            "99900 원 남았습니다 1 대 맞았습니다\n",
            "99800 원 남았습니다 2 대 맞았습니다\n",
            "99700 원 남았습니다 3 대 맞았습니다\n",
            "99600 원 남았습니다 4 대 맞았습니다\n",
            "99500 원 남았습니다 5 대 맞았습니다\n",
            "99400 원 남았습니다 6 대 맞았습니다\n",
            "99300 원 남았습니다 7 대 맞았습니다\n",
            "99200 원 남았습니다 8 대 맞았습니다\n",
            "99100 원 남았습니다 9 대 맞았습니다\n",
            "99000 원 남았습니다 10 대 맞았습니다\n",
            "98900 원 남았습니다 11 대 맞았습니다\n",
            "98800 원 남았습니다 12 대 맞았습니다\n",
            "98700 원 남았습니다 13 대 맞았습니다\n",
            "98600 원 남았습니다 14 대 맞았습니다\n",
            "98500 원 남았습니다 15 대 맞았습니다\n",
            "98400 원 남았습니다 16 대 맞았습니다\n",
            "98300 원 남았습니다 17 대 맞았습니다\n",
            "98200 원 남았습니다 18 대 맞았습니다\n",
            "98100 원 남았습니다 19 대 맞았습니다\n",
            "98000 원 남았습니다 20 대 맞았습니다\n",
            "97900 원 남았습니다 21 대 맞았습니다\n",
            "97800 원 남았습니다 22 대 맞았습니다\n",
            "97700 원 남았습니다 23 대 맞았습니다\n",
            "97600 원 남았습니다 24 대 맞았습니다\n",
            "97500 원 남았습니다 25 대 맞았습니다\n",
            "97400 원 남았습니다 26 대 맞았습니다\n",
            "97300 원 남았습니다 27 대 맞았습니다\n",
            "97200 원 남았습니다 28 대 맞았습니다\n",
            "97100 원 남았습니다 29 대 맞았습니다\n",
            "97000 원 남았습니다 30 대 맞았습니다\n",
            "96900 원 남았습니다 31 대 맞았습니다\n",
            "96800 원 남았습니다 32 대 맞았습니다\n",
            "96700 원 남았습니다 33 대 맞았습니다\n",
            "96600 원 남았습니다 34 대 맞았습니다\n",
            "96500 원 남았습니다 35 대 맞았습니다\n",
            "96400 원 남았습니다 36 대 맞았습니다\n",
            "96300 원 남았습니다 37 대 맞았습니다\n",
            "96200 원 남았습니다 38 대 맞았습니다\n",
            "96100 원 남았습니다 39 대 맞았습니다\n",
            "96000 원 남았습니다 40 대 맞았습니다\n",
            "95900 원 남았습니다 41 대 맞았습니다\n",
            "95800 원 남았습니다 42 대 맞았습니다\n",
            "95700 원 남았습니다 43 대 맞았습니다\n",
            "95600 원 남았습니다 44 대 맞았습니다\n",
            "95500 원 남았습니다 45 대 맞았습니다\n",
            "95400 원 남았습니다 46 대 맞았습니다\n",
            "95300 원 남았습니다 47 대 맞았습니다\n",
            "95200 원 남았습니다 48 대 맞았습니다\n",
            "95100 원 남았습니다 49 대 맞았습니다\n",
            "95000 원 남았습니다 50 대 맞았습니다\n",
            "94900 원 남았습니다 51 대 맞았습니다\n",
            "94800 원 남았습니다 52 대 맞았습니다\n",
            "94700 원 남았습니다 53 대 맞았습니다\n",
            "94600 원 남았습니다 54 대 맞았습니다\n",
            "94500 원 남았습니다 55 대 맞았습니다\n",
            "94400 원 남았습니다 56 대 맞았습니다\n",
            "94300 원 남았습니다 57 대 맞았습니다\n",
            "94200 원 남았습니다 58 대 맞았습니다\n",
            "94100 원 남았습니다 59 대 맞았습니다\n",
            "94000 원 남았습니다 60 대 맞았습니다\n",
            "93900 원 남았습니다 61 대 맞았습니다\n",
            "93800 원 남았습니다 62 대 맞았습니다\n",
            "93700 원 남았습니다 63 대 맞았습니다\n",
            "93600 원 남았습니다 64 대 맞았습니다\n",
            "93500 원 남았습니다 65 대 맞았습니다\n",
            "93400 원 남았습니다 66 대 맞았습니다\n",
            "93300 원 남았습니다 67 대 맞았습니다\n",
            "93200 원 남았습니다 68 대 맞았습니다\n",
            "93100 원 남았습니다 69 대 맞았습니다\n",
            "93000 원 남았습니다 70 대 맞았습니다\n",
            "92900 원 남았습니다 71 대 맞았습니다\n",
            "92800 원 남았습니다 72 대 맞았습니다\n",
            "92700 원 남았습니다 73 대 맞았습니다\n",
            "92600 원 남았습니다 74 대 맞았습니다\n",
            "92500 원 남았습니다 75 대 맞았습니다\n",
            "92400 원 남았습니다 76 대 맞았습니다\n",
            "92300 원 남았습니다 77 대 맞았습니다\n",
            "92200 원 남았습니다 78 대 맞았습니다\n",
            "92100 원 남았습니다 79 대 맞았습니다\n",
            "92000 원 남았습니다 80 대 맞았습니다\n",
            "91900 원 남았습니다 81 대 맞았습니다\n",
            "91800 원 남았습니다 82 대 맞았습니다\n",
            "91700 원 남았습니다 83 대 맞았습니다\n",
            "91600 원 남았습니다 84 대 맞았습니다\n",
            "91500 원 남았습니다 85 대 맞았습니다\n",
            "91400 원 남았습니다 86 대 맞았습니다\n",
            "91300 원 남았습니다 87 대 맞았습니다\n",
            "91200 원 남았습니다 88 대 맞았습니다\n",
            "91100 원 남았습니다 89 대 맞았습니다\n",
            "91000 원 남았습니다 90 대 맞았습니다\n",
            "90900 원 남았습니다 91 대 맞았습니다\n",
            "90800 원 남았습니다 92 대 맞았습니다\n",
            "90700 원 남았습니다 93 대 맞았습니다\n",
            "90600 원 남았습니다 94 대 맞았습니다\n",
            "90500 원 남았습니다 95 대 맞았습니다\n",
            "90400 원 남았습니다 96 대 맞았습니다\n",
            "90300 원 남았습니다 97 대 맞았습니다\n",
            "90200 원 남았습니다 98 대 맞았습니다\n",
            "90100 원 남았습니다 99 대 맞았습니다\n",
            "90000 원 남았습니다 100 대 맞았습니다\n",
            "89900 원 남았습니다 101 대 맞았습니다\n",
            "89800 원 남았습니다 102 대 맞았습니다\n",
            "89700 원 남았습니다 103 대 맞았습니다\n",
            "89600 원 남았습니다 104 대 맞았습니다\n",
            "89500 원 남았습니다 105 대 맞았습니다\n",
            "89400 원 남았습니다 106 대 맞았습니다\n",
            "89300 원 남았습니다 107 대 맞았습니다\n",
            "89200 원 남았습니다 108 대 맞았습니다\n",
            "89100 원 남았습니다 109 대 맞았습니다\n",
            "89000 원 남았습니다 110 대 맞았습니다\n",
            "88900 원 남았습니다 111 대 맞았습니다\n",
            "88800 원 남았습니다 112 대 맞았습니다\n",
            "88700 원 남았습니다 113 대 맞았습니다\n",
            "88600 원 남았습니다 114 대 맞았습니다\n",
            "88500 원 남았습니다 115 대 맞았습니다\n",
            "88400 원 남았습니다 116 대 맞았습니다\n",
            "88300 원 남았습니다 117 대 맞았습니다\n",
            "88200 원 남았습니다 118 대 맞았습니다\n",
            "88100 원 남았습니다 119 대 맞았습니다\n",
            "88000 원 남았습니다 120 대 맞았습니다\n",
            "87900 원 남았습니다 121 대 맞았습니다\n",
            "87800 원 남았습니다 122 대 맞았습니다\n",
            "87700 원 남았습니다 123 대 맞았습니다\n",
            "87600 원 남았습니다 124 대 맞았습니다\n",
            "87500 원 남았습니다 125 대 맞았습니다\n",
            "87400 원 남았습니다 126 대 맞았습니다\n",
            "87300 원 남았습니다 127 대 맞았습니다\n",
            "87200 원 남았습니다 128 대 맞았습니다\n",
            "87100 원 남았습니다 129 대 맞았습니다\n",
            "87000 원 남았습니다 130 대 맞았습니다\n",
            "86900 원 남았습니다 131 대 맞았습니다\n",
            "86800 원 남았습니다 132 대 맞았습니다\n",
            "86700 원 남았습니다 133 대 맞았습니다\n",
            "86600 원 남았습니다 134 대 맞았습니다\n",
            "86500 원 남았습니다 135 대 맞았습니다\n",
            "86400 원 남았습니다 136 대 맞았습니다\n",
            "86300 원 남았습니다 137 대 맞았습니다\n",
            "86200 원 남았습니다 138 대 맞았습니다\n",
            "86100 원 남았습니다 139 대 맞았습니다\n",
            "86000 원 남았습니다 140 대 맞았습니다\n",
            "85900 원 남았습니다 141 대 맞았습니다\n",
            "85800 원 남았습니다 142 대 맞았습니다\n",
            "85700 원 남았습니다 143 대 맞았습니다\n",
            "85600 원 남았습니다 144 대 맞았습니다\n",
            "85500 원 남았습니다 145 대 맞았습니다\n",
            "85400 원 남았습니다 146 대 맞았습니다\n",
            "85300 원 남았습니다 147 대 맞았습니다\n",
            "85200 원 남았습니다 148 대 맞았습니다\n",
            "85100 원 남았습니다 149 대 맞았습니다\n",
            "85000 원 남았습니다 150 대 맞았습니다\n",
            "84900 원 남았습니다 151 대 맞았습니다\n",
            "84800 원 남았습니다 152 대 맞았습니다\n",
            "84700 원 남았습니다 153 대 맞았습니다\n",
            "84600 원 남았습니다 154 대 맞았습니다\n",
            "84500 원 남았습니다 155 대 맞았습니다\n",
            "84400 원 남았습니다 156 대 맞았습니다\n",
            "84300 원 남았습니다 157 대 맞았습니다\n",
            "84200 원 남았습니다 158 대 맞았습니다\n",
            "84100 원 남았습니다 159 대 맞았습니다\n",
            "84000 원 남았습니다 160 대 맞았습니다\n",
            "83900 원 남았습니다 161 대 맞았습니다\n",
            "83800 원 남았습니다 162 대 맞았습니다\n",
            "83700 원 남았습니다 163 대 맞았습니다\n",
            "83600 원 남았습니다 164 대 맞았습니다\n",
            "83500 원 남았습니다 165 대 맞았습니다\n",
            "83400 원 남았습니다 166 대 맞았습니다\n",
            "83300 원 남았습니다 167 대 맞았습니다\n",
            "83200 원 남았습니다 168 대 맞았습니다\n",
            "83100 원 남았습니다 169 대 맞았습니다\n",
            "83000 원 남았습니다 170 대 맞았습니다\n",
            "82900 원 남았습니다 171 대 맞았습니다\n",
            "82800 원 남았습니다 172 대 맞았습니다\n",
            "82700 원 남았습니다 173 대 맞았습니다\n",
            "82600 원 남았습니다 174 대 맞았습니다\n",
            "82500 원 남았습니다 175 대 맞았습니다\n",
            "82400 원 남았습니다 176 대 맞았습니다\n",
            "82300 원 남았습니다 177 대 맞았습니다\n",
            "82200 원 남았습니다 178 대 맞았습니다\n",
            "82100 원 남았습니다 179 대 맞았습니다\n",
            "82000 원 남았습니다 180 대 맞았습니다\n",
            "81900 원 남았습니다 181 대 맞았습니다\n",
            "81800 원 남았습니다 182 대 맞았습니다\n",
            "81700 원 남았습니다 183 대 맞았습니다\n",
            "81600 원 남았습니다 184 대 맞았습니다\n",
            "81500 원 남았습니다 185 대 맞았습니다\n",
            "81400 원 남았습니다 186 대 맞았습니다\n",
            "81300 원 남았습니다 187 대 맞았습니다\n",
            "81200 원 남았습니다 188 대 맞았습니다\n",
            "81100 원 남았습니다 189 대 맞았습니다\n",
            "81000 원 남았습니다 190 대 맞았습니다\n",
            "80900 원 남았습니다 191 대 맞았습니다\n",
            "80800 원 남았습니다 192 대 맞았습니다\n",
            "80700 원 남았습니다 193 대 맞았습니다\n",
            "80600 원 남았습니다 194 대 맞았습니다\n",
            "80500 원 남았습니다 195 대 맞았습니다\n",
            "80400 원 남았습니다 196 대 맞았습니다\n",
            "80300 원 남았습니다 197 대 맞았습니다\n",
            "80200 원 남았습니다 198 대 맞았습니다\n",
            "80100 원 남았습니다 199 대 맞았습니다\n",
            "80000 원 남았습니다 200 대 맞았습니다\n",
            "79900 원 남았습니다 201 대 맞았습니다\n",
            "79800 원 남았습니다 202 대 맞았습니다\n",
            "79700 원 남았습니다 203 대 맞았습니다\n",
            "79600 원 남았습니다 204 대 맞았습니다\n",
            "79500 원 남았습니다 205 대 맞았습니다\n",
            "79400 원 남았습니다 206 대 맞았습니다\n",
            "79300 원 남았습니다 207 대 맞았습니다\n",
            "79200 원 남았습니다 208 대 맞았습니다\n",
            "79100 원 남았습니다 209 대 맞았습니다\n",
            "79000 원 남았습니다 210 대 맞았습니다\n",
            "78900 원 남았습니다 211 대 맞았습니다\n",
            "78800 원 남았습니다 212 대 맞았습니다\n",
            "78700 원 남았습니다 213 대 맞았습니다\n",
            "78600 원 남았습니다 214 대 맞았습니다\n",
            "78500 원 남았습니다 215 대 맞았습니다\n",
            "78400 원 남았습니다 216 대 맞았습니다\n",
            "78300 원 남았습니다 217 대 맞았습니다\n",
            "78200 원 남았습니다 218 대 맞았습니다\n",
            "78100 원 남았습니다 219 대 맞았습니다\n",
            "78000 원 남았습니다 220 대 맞았습니다\n",
            "77900 원 남았습니다 221 대 맞았습니다\n",
            "77800 원 남았습니다 222 대 맞았습니다\n",
            "77700 원 남았습니다 223 대 맞았습니다\n",
            "77600 원 남았습니다 224 대 맞았습니다\n",
            "77500 원 남았습니다 225 대 맞았습니다\n",
            "77400 원 남았습니다 226 대 맞았습니다\n",
            "77300 원 남았습니다 227 대 맞았습니다\n",
            "77200 원 남았습니다 228 대 맞았습니다\n",
            "77100 원 남았습니다 229 대 맞았습니다\n",
            "77000 원 남았습니다 230 대 맞았습니다\n",
            "76900 원 남았습니다 231 대 맞았습니다\n",
            "76800 원 남았습니다 232 대 맞았습니다\n",
            "76700 원 남았습니다 233 대 맞았습니다\n",
            "76600 원 남았습니다 234 대 맞았습니다\n",
            "76500 원 남았습니다 235 대 맞았습니다\n",
            "76400 원 남았습니다 236 대 맞았습니다\n",
            "76300 원 남았습니다 237 대 맞았습니다\n",
            "76200 원 남았습니다 238 대 맞았습니다\n",
            "76100 원 남았습니다 239 대 맞았습니다\n",
            "76000 원 남았습니다 240 대 맞았습니다\n",
            "75900 원 남았습니다 241 대 맞았습니다\n",
            "75800 원 남았습니다 242 대 맞았습니다\n",
            "75700 원 남았습니다 243 대 맞았습니다\n",
            "75600 원 남았습니다 244 대 맞았습니다\n",
            "75500 원 남았습니다 245 대 맞았습니다\n",
            "75400 원 남았습니다 246 대 맞았습니다\n",
            "75300 원 남았습니다 247 대 맞았습니다\n",
            "75200 원 남았습니다 248 대 맞았습니다\n",
            "75100 원 남았습니다 249 대 맞았습니다\n",
            "75000 원 남았습니다 250 대 맞았습니다\n",
            "74900 원 남았습니다 251 대 맞았습니다\n",
            "74800 원 남았습니다 252 대 맞았습니다\n",
            "74700 원 남았습니다 253 대 맞았습니다\n",
            "74600 원 남았습니다 254 대 맞았습니다\n",
            "74500 원 남았습니다 255 대 맞았습니다\n",
            "74400 원 남았습니다 256 대 맞았습니다\n",
            "74300 원 남았습니다 257 대 맞았습니다\n",
            "74200 원 남았습니다 258 대 맞았습니다\n",
            "74100 원 남았습니다 259 대 맞았습니다\n",
            "74000 원 남았습니다 260 대 맞았습니다\n",
            "73900 원 남았습니다 261 대 맞았습니다\n",
            "73800 원 남았습니다 262 대 맞았습니다\n",
            "73700 원 남았습니다 263 대 맞았습니다\n",
            "73600 원 남았습니다 264 대 맞았습니다\n",
            "73500 원 남았습니다 265 대 맞았습니다\n",
            "73400 원 남았습니다 266 대 맞았습니다\n",
            "73300 원 남았습니다 267 대 맞았습니다\n",
            "73200 원 남았습니다 268 대 맞았습니다\n",
            "73100 원 남았습니다 269 대 맞았습니다\n",
            "73000 원 남았습니다 270 대 맞았습니다\n",
            "72900 원 남았습니다 271 대 맞았습니다\n",
            "72800 원 남았습니다 272 대 맞았습니다\n",
            "72700 원 남았습니다 273 대 맞았습니다\n",
            "72600 원 남았습니다 274 대 맞았습니다\n",
            "72500 원 남았습니다 275 대 맞았습니다\n",
            "72400 원 남았습니다 276 대 맞았습니다\n",
            "72300 원 남았습니다 277 대 맞았습니다\n",
            "72200 원 남았습니다 278 대 맞았습니다\n",
            "72100 원 남았습니다 279 대 맞았습니다\n",
            "72000 원 남았습니다 280 대 맞았습니다\n",
            "71900 원 남았습니다 281 대 맞았습니다\n",
            "71800 원 남았습니다 282 대 맞았습니다\n",
            "71700 원 남았습니다 283 대 맞았습니다\n",
            "71600 원 남았습니다 284 대 맞았습니다\n",
            "71500 원 남았습니다 285 대 맞았습니다\n",
            "71400 원 남았습니다 286 대 맞았습니다\n",
            "71300 원 남았습니다 287 대 맞았습니다\n",
            "71200 원 남았습니다 288 대 맞았습니다\n",
            "71100 원 남았습니다 289 대 맞았습니다\n",
            "71000 원 남았습니다 290 대 맞았습니다\n",
            "70900 원 남았습니다 291 대 맞았습니다\n",
            "70800 원 남았습니다 292 대 맞았습니다\n",
            "70700 원 남았습니다 293 대 맞았습니다\n",
            "70600 원 남았습니다 294 대 맞았습니다\n",
            "70500 원 남았습니다 295 대 맞았습니다\n",
            "70400 원 남았습니다 296 대 맞았습니다\n",
            "70300 원 남았습니다 297 대 맞았습니다\n",
            "70200 원 남았습니다 298 대 맞았습니다\n",
            "70100 원 남았습니다 299 대 맞았습니다\n",
            "70000 원 남았습니다 300 대 맞았습니다\n",
            "69900 원 남았습니다 301 대 맞았습니다\n",
            "69800 원 남았습니다 302 대 맞았습니다\n",
            "69700 원 남았습니다 303 대 맞았습니다\n",
            "69600 원 남았습니다 304 대 맞았습니다\n",
            "69500 원 남았습니다 305 대 맞았습니다\n",
            "69400 원 남았습니다 306 대 맞았습니다\n",
            "69300 원 남았습니다 307 대 맞았습니다\n",
            "69200 원 남았습니다 308 대 맞았습니다\n",
            "69100 원 남았습니다 309 대 맞았습니다\n",
            "69000 원 남았습니다 310 대 맞았습니다\n",
            "68900 원 남았습니다 311 대 맞았습니다\n",
            "68800 원 남았습니다 312 대 맞았습니다\n",
            "68700 원 남았습니다 313 대 맞았습니다\n",
            "68600 원 남았습니다 314 대 맞았습니다\n",
            "68500 원 남았습니다 315 대 맞았습니다\n",
            "68400 원 남았습니다 316 대 맞았습니다\n",
            "68300 원 남았습니다 317 대 맞았습니다\n",
            "68200 원 남았습니다 318 대 맞았습니다\n",
            "68100 원 남았습니다 319 대 맞았습니다\n",
            "68000 원 남았습니다 320 대 맞았습니다\n",
            "67900 원 남았습니다 321 대 맞았습니다\n",
            "67800 원 남았습니다 322 대 맞았습니다\n",
            "67700 원 남았습니다 323 대 맞았습니다\n",
            "67600 원 남았습니다 324 대 맞았습니다\n",
            "67500 원 남았습니다 325 대 맞았습니다\n",
            "67400 원 남았습니다 326 대 맞았습니다\n",
            "67300 원 남았습니다 327 대 맞았습니다\n",
            "67200 원 남았습니다 328 대 맞았습니다\n",
            "67100 원 남았습니다 329 대 맞았습니다\n",
            "67000 원 남았습니다 330 대 맞았습니다\n",
            "66900 원 남았습니다 331 대 맞았습니다\n",
            "66800 원 남았습니다 332 대 맞았습니다\n",
            "66700 원 남았습니다 333 대 맞았습니다\n",
            "66600 원 남았습니다 334 대 맞았습니다\n",
            "66500 원 남았습니다 335 대 맞았습니다\n",
            "66400 원 남았습니다 336 대 맞았습니다\n",
            "66300 원 남았습니다 337 대 맞았습니다\n",
            "66200 원 남았습니다 338 대 맞았습니다\n",
            "66100 원 남았습니다 339 대 맞았습니다\n",
            "66000 원 남았습니다 340 대 맞았습니다\n",
            "65900 원 남았습니다 341 대 맞았습니다\n",
            "65800 원 남았습니다 342 대 맞았습니다\n",
            "65700 원 남았습니다 343 대 맞았습니다\n",
            "65600 원 남았습니다 344 대 맞았습니다\n",
            "65500 원 남았습니다 345 대 맞았습니다\n",
            "65400 원 남았습니다 346 대 맞았습니다\n",
            "65300 원 남았습니다 347 대 맞았습니다\n",
            "65200 원 남았습니다 348 대 맞았습니다\n",
            "65100 원 남았습니다 349 대 맞았습니다\n",
            "65000 원 남았습니다 350 대 맞았습니다\n",
            "64900 원 남았습니다 351 대 맞았습니다\n",
            "64800 원 남았습니다 352 대 맞았습니다\n",
            "64700 원 남았습니다 353 대 맞았습니다\n",
            "64600 원 남았습니다 354 대 맞았습니다\n",
            "64500 원 남았습니다 355 대 맞았습니다\n",
            "64400 원 남았습니다 356 대 맞았습니다\n",
            "64300 원 남았습니다 357 대 맞았습니다\n",
            "64200 원 남았습니다 358 대 맞았습니다\n",
            "64100 원 남았습니다 359 대 맞았습니다\n",
            "64000 원 남았습니다 360 대 맞았습니다\n",
            "63900 원 남았습니다 361 대 맞았습니다\n",
            "63800 원 남았습니다 362 대 맞았습니다\n",
            "63700 원 남았습니다 363 대 맞았습니다\n",
            "63600 원 남았습니다 364 대 맞았습니다\n",
            "63500 원 남았습니다 365 대 맞았습니다\n",
            "63400 원 남았습니다 366 대 맞았습니다\n",
            "63300 원 남았습니다 367 대 맞았습니다\n",
            "63200 원 남았습니다 368 대 맞았습니다\n",
            "63100 원 남았습니다 369 대 맞았습니다\n",
            "63000 원 남았습니다 370 대 맞았습니다\n",
            "62900 원 남았습니다 371 대 맞았습니다\n",
            "62800 원 남았습니다 372 대 맞았습니다\n",
            "62700 원 남았습니다 373 대 맞았습니다\n",
            "62600 원 남았습니다 374 대 맞았습니다\n",
            "62500 원 남았습니다 375 대 맞았습니다\n",
            "62400 원 남았습니다 376 대 맞았습니다\n",
            "62300 원 남았습니다 377 대 맞았습니다\n",
            "62200 원 남았습니다 378 대 맞았습니다\n",
            "62100 원 남았습니다 379 대 맞았습니다\n",
            "62000 원 남았습니다 380 대 맞았습니다\n",
            "61900 원 남았습니다 381 대 맞았습니다\n",
            "61800 원 남았습니다 382 대 맞았습니다\n",
            "61700 원 남았습니다 383 대 맞았습니다\n",
            "61600 원 남았습니다 384 대 맞았습니다\n",
            "61500 원 남았습니다 385 대 맞았습니다\n",
            "61400 원 남았습니다 386 대 맞았습니다\n",
            "61300 원 남았습니다 387 대 맞았습니다\n",
            "61200 원 남았습니다 388 대 맞았습니다\n",
            "61100 원 남았습니다 389 대 맞았습니다\n",
            "61000 원 남았습니다 390 대 맞았습니다\n",
            "60900 원 남았습니다 391 대 맞았습니다\n",
            "60800 원 남았습니다 392 대 맞았습니다\n",
            "60700 원 남았습니다 393 대 맞았습니다\n",
            "60600 원 남았습니다 394 대 맞았습니다\n",
            "60500 원 남았습니다 395 대 맞았습니다\n",
            "60400 원 남았습니다 396 대 맞았습니다\n",
            "60300 원 남았습니다 397 대 맞았습니다\n",
            "60200 원 남았습니다 398 대 맞았습니다\n",
            "60100 원 남았습니다 399 대 맞았습니다\n",
            "60000 원 남았습니다 400 대 맞았습니다\n",
            "59900 원 남았습니다 401 대 맞았습니다\n",
            "59800 원 남았습니다 402 대 맞았습니다\n",
            "59700 원 남았습니다 403 대 맞았습니다\n",
            "59600 원 남았습니다 404 대 맞았습니다\n",
            "59500 원 남았습니다 405 대 맞았습니다\n",
            "59400 원 남았습니다 406 대 맞았습니다\n",
            "59300 원 남았습니다 407 대 맞았습니다\n",
            "59200 원 남았습니다 408 대 맞았습니다\n",
            "59100 원 남았습니다 409 대 맞았습니다\n",
            "59000 원 남았습니다 410 대 맞았습니다\n",
            "58900 원 남았습니다 411 대 맞았습니다\n",
            "58800 원 남았습니다 412 대 맞았습니다\n",
            "58700 원 남았습니다 413 대 맞았습니다\n",
            "58600 원 남았습니다 414 대 맞았습니다\n",
            "58500 원 남았습니다 415 대 맞았습니다\n",
            "58400 원 남았습니다 416 대 맞았습니다\n",
            "58300 원 남았습니다 417 대 맞았습니다\n",
            "58200 원 남았습니다 418 대 맞았습니다\n",
            "58100 원 남았습니다 419 대 맞았습니다\n",
            "58000 원 남았습니다 420 대 맞았습니다\n",
            "57900 원 남았습니다 421 대 맞았습니다\n",
            "57800 원 남았습니다 422 대 맞았습니다\n",
            "57700 원 남았습니다 423 대 맞았습니다\n",
            "57600 원 남았습니다 424 대 맞았습니다\n",
            "57500 원 남았습니다 425 대 맞았습니다\n",
            "57400 원 남았습니다 426 대 맞았습니다\n",
            "57300 원 남았습니다 427 대 맞았습니다\n",
            "57200 원 남았습니다 428 대 맞았습니다\n",
            "57100 원 남았습니다 429 대 맞았습니다\n",
            "57000 원 남았습니다 430 대 맞았습니다\n",
            "56900 원 남았습니다 431 대 맞았습니다\n",
            "56800 원 남았습니다 432 대 맞았습니다\n",
            "56700 원 남았습니다 433 대 맞았습니다\n",
            "56600 원 남았습니다 434 대 맞았습니다\n",
            "56500 원 남았습니다 435 대 맞았습니다\n",
            "56400 원 남았습니다 436 대 맞았습니다\n",
            "56300 원 남았습니다 437 대 맞았습니다\n",
            "56200 원 남았습니다 438 대 맞았습니다\n",
            "56100 원 남았습니다 439 대 맞았습니다\n",
            "56000 원 남았습니다 440 대 맞았습니다\n",
            "55900 원 남았습니다 441 대 맞았습니다\n",
            "55800 원 남았습니다 442 대 맞았습니다\n",
            "55700 원 남았습니다 443 대 맞았습니다\n",
            "55600 원 남았습니다 444 대 맞았습니다\n",
            "55500 원 남았습니다 445 대 맞았습니다\n",
            "55400 원 남았습니다 446 대 맞았습니다\n",
            "55300 원 남았습니다 447 대 맞았습니다\n",
            "55200 원 남았습니다 448 대 맞았습니다\n",
            "55100 원 남았습니다 449 대 맞았습니다\n",
            "55000 원 남았습니다 450 대 맞았습니다\n",
            "54900 원 남았습니다 451 대 맞았습니다\n",
            "54800 원 남았습니다 452 대 맞았습니다\n",
            "54700 원 남았습니다 453 대 맞았습니다\n",
            "54600 원 남았습니다 454 대 맞았습니다\n",
            "54500 원 남았습니다 455 대 맞았습니다\n",
            "54400 원 남았습니다 456 대 맞았습니다\n",
            "54300 원 남았습니다 457 대 맞았습니다\n",
            "54200 원 남았습니다 458 대 맞았습니다\n",
            "54100 원 남았습니다 459 대 맞았습니다\n",
            "54000 원 남았습니다 460 대 맞았습니다\n",
            "53900 원 남았습니다 461 대 맞았습니다\n",
            "53800 원 남았습니다 462 대 맞았습니다\n",
            "53700 원 남았습니다 463 대 맞았습니다\n",
            "53600 원 남았습니다 464 대 맞았습니다\n",
            "53500 원 남았습니다 465 대 맞았습니다\n",
            "53400 원 남았습니다 466 대 맞았습니다\n",
            "53300 원 남았습니다 467 대 맞았습니다\n",
            "53200 원 남았습니다 468 대 맞았습니다\n",
            "53100 원 남았습니다 469 대 맞았습니다\n",
            "53000 원 남았습니다 470 대 맞았습니다\n",
            "52900 원 남았습니다 471 대 맞았습니다\n",
            "52800 원 남았습니다 472 대 맞았습니다\n",
            "52700 원 남았습니다 473 대 맞았습니다\n",
            "52600 원 남았습니다 474 대 맞았습니다\n",
            "52500 원 남았습니다 475 대 맞았습니다\n",
            "52400 원 남았습니다 476 대 맞았습니다\n",
            "52300 원 남았습니다 477 대 맞았습니다\n",
            "52200 원 남았습니다 478 대 맞았습니다\n",
            "52100 원 남았습니다 479 대 맞았습니다\n",
            "52000 원 남았습니다 480 대 맞았습니다\n",
            "51900 원 남았습니다 481 대 맞았습니다\n",
            "51800 원 남았습니다 482 대 맞았습니다\n",
            "51700 원 남았습니다 483 대 맞았습니다\n",
            "51600 원 남았습니다 484 대 맞았습니다\n",
            "51500 원 남았습니다 485 대 맞았습니다\n",
            "51400 원 남았습니다 486 대 맞았습니다\n",
            "51300 원 남았습니다 487 대 맞았습니다\n",
            "51200 원 남았습니다 488 대 맞았습니다\n",
            "51100 원 남았습니다 489 대 맞았습니다\n",
            "51000 원 남았습니다 490 대 맞았습니다\n",
            "50900 원 남았습니다 491 대 맞았습니다\n",
            "50800 원 남았습니다 492 대 맞았습니다\n",
            "50700 원 남았습니다 493 대 맞았습니다\n",
            "50600 원 남았습니다 494 대 맞았습니다\n",
            "50500 원 남았습니다 495 대 맞았습니다\n",
            "50400 원 남았습니다 496 대 맞았습니다\n",
            "50300 원 남았습니다 497 대 맞았습니다\n",
            "50200 원 남았습니다 498 대 맞았습니다\n",
            "50100 원 남았습니다 499 대 맞았습니다\n",
            "50000 원 남았습니다 500 대 맞았습니다\n",
            "49900 원 남았습니다 501 대 맞았습니다\n",
            "49800 원 남았습니다 502 대 맞았습니다\n",
            "49700 원 남았습니다 503 대 맞았습니다\n",
            "49600 원 남았습니다 504 대 맞았습니다\n",
            "49500 원 남았습니다 505 대 맞았습니다\n",
            "49400 원 남았습니다 506 대 맞았습니다\n",
            "49300 원 남았습니다 507 대 맞았습니다\n",
            "49200 원 남았습니다 508 대 맞았습니다\n",
            "49100 원 남았습니다 509 대 맞았습니다\n",
            "49000 원 남았습니다 510 대 맞았습니다\n",
            "48900 원 남았습니다 511 대 맞았습니다\n",
            "48800 원 남았습니다 512 대 맞았습니다\n",
            "48700 원 남았습니다 513 대 맞았습니다\n",
            "48600 원 남았습니다 514 대 맞았습니다\n",
            "48500 원 남았습니다 515 대 맞았습니다\n",
            "48400 원 남았습니다 516 대 맞았습니다\n",
            "48300 원 남았습니다 517 대 맞았습니다\n",
            "48200 원 남았습니다 518 대 맞았습니다\n",
            "48100 원 남았습니다 519 대 맞았습니다\n",
            "48000 원 남았습니다 520 대 맞았습니다\n",
            "47900 원 남았습니다 521 대 맞았습니다\n",
            "47800 원 남았습니다 522 대 맞았습니다\n",
            "47700 원 남았습니다 523 대 맞았습니다\n",
            "47600 원 남았습니다 524 대 맞았습니다\n",
            "47500 원 남았습니다 525 대 맞았습니다\n",
            "47400 원 남았습니다 526 대 맞았습니다\n",
            "47300 원 남았습니다 527 대 맞았습니다\n",
            "47200 원 남았습니다 528 대 맞았습니다\n",
            "47100 원 남았습니다 529 대 맞았습니다\n",
            "47000 원 남았습니다 530 대 맞았습니다\n",
            "46900 원 남았습니다 531 대 맞았습니다\n",
            "46800 원 남았습니다 532 대 맞았습니다\n",
            "46700 원 남았습니다 533 대 맞았습니다\n",
            "46600 원 남았습니다 534 대 맞았습니다\n",
            "46500 원 남았습니다 535 대 맞았습니다\n",
            "46400 원 남았습니다 536 대 맞았습니다\n",
            "46300 원 남았습니다 537 대 맞았습니다\n",
            "46200 원 남았습니다 538 대 맞았습니다\n",
            "46100 원 남았습니다 539 대 맞았습니다\n",
            "46000 원 남았습니다 540 대 맞았습니다\n",
            "45900 원 남았습니다 541 대 맞았습니다\n",
            "45800 원 남았습니다 542 대 맞았습니다\n",
            "45700 원 남았습니다 543 대 맞았습니다\n",
            "45600 원 남았습니다 544 대 맞았습니다\n",
            "45500 원 남았습니다 545 대 맞았습니다\n",
            "45400 원 남았습니다 546 대 맞았습니다\n",
            "45300 원 남았습니다 547 대 맞았습니다\n",
            "45200 원 남았습니다 548 대 맞았습니다\n",
            "45100 원 남았습니다 549 대 맞았습니다\n",
            "45000 원 남았습니다 550 대 맞았습니다\n",
            "44900 원 남았습니다 551 대 맞았습니다\n",
            "44800 원 남았습니다 552 대 맞았습니다\n",
            "44700 원 남았습니다 553 대 맞았습니다\n",
            "44600 원 남았습니다 554 대 맞았습니다\n",
            "44500 원 남았습니다 555 대 맞았습니다\n",
            "44400 원 남았습니다 556 대 맞았습니다\n",
            "44300 원 남았습니다 557 대 맞았습니다\n",
            "44200 원 남았습니다 558 대 맞았습니다\n",
            "44100 원 남았습니다 559 대 맞았습니다\n",
            "44000 원 남았습니다 560 대 맞았습니다\n",
            "43900 원 남았습니다 561 대 맞았습니다\n",
            "43800 원 남았습니다 562 대 맞았습니다\n",
            "43700 원 남았습니다 563 대 맞았습니다\n",
            "43600 원 남았습니다 564 대 맞았습니다\n",
            "43500 원 남았습니다 565 대 맞았습니다\n",
            "43400 원 남았습니다 566 대 맞았습니다\n",
            "43300 원 남았습니다 567 대 맞았습니다\n",
            "43200 원 남았습니다 568 대 맞았습니다\n",
            "43100 원 남았습니다 569 대 맞았습니다\n",
            "43000 원 남았습니다 570 대 맞았습니다\n",
            "42900 원 남았습니다 571 대 맞았습니다\n",
            "42800 원 남았습니다 572 대 맞았습니다\n",
            "42700 원 남았습니다 573 대 맞았습니다\n",
            "42600 원 남았습니다 574 대 맞았습니다\n",
            "42500 원 남았습니다 575 대 맞았습니다\n",
            "42400 원 남았습니다 576 대 맞았습니다\n",
            "42300 원 남았습니다 577 대 맞았습니다\n",
            "42200 원 남았습니다 578 대 맞았습니다\n",
            "42100 원 남았습니다 579 대 맞았습니다\n",
            "42000 원 남았습니다 580 대 맞았습니다\n",
            "41900 원 남았습니다 581 대 맞았습니다\n",
            "41800 원 남았습니다 582 대 맞았습니다\n",
            "41700 원 남았습니다 583 대 맞았습니다\n",
            "41600 원 남았습니다 584 대 맞았습니다\n",
            "41500 원 남았습니다 585 대 맞았습니다\n",
            "41400 원 남았습니다 586 대 맞았습니다\n",
            "41300 원 남았습니다 587 대 맞았습니다\n",
            "41200 원 남았습니다 588 대 맞았습니다\n",
            "41100 원 남았습니다 589 대 맞았습니다\n",
            "41000 원 남았습니다 590 대 맞았습니다\n",
            "40900 원 남았습니다 591 대 맞았습니다\n",
            "40800 원 남았습니다 592 대 맞았습니다\n",
            "40700 원 남았습니다 593 대 맞았습니다\n",
            "40600 원 남았습니다 594 대 맞았습니다\n",
            "40500 원 남았습니다 595 대 맞았습니다\n",
            "40400 원 남았습니다 596 대 맞았습니다\n",
            "40300 원 남았습니다 597 대 맞았습니다\n",
            "40200 원 남았습니다 598 대 맞았습니다\n",
            "40100 원 남았습니다 599 대 맞았습니다\n",
            "40000 원 남았습니다 600 대 맞았습니다\n",
            "39900 원 남았습니다 601 대 맞았습니다\n",
            "39800 원 남았습니다 602 대 맞았습니다\n",
            "39700 원 남았습니다 603 대 맞았습니다\n",
            "39600 원 남았습니다 604 대 맞았습니다\n",
            "39500 원 남았습니다 605 대 맞았습니다\n",
            "39400 원 남았습니다 606 대 맞았습니다\n",
            "39300 원 남았습니다 607 대 맞았습니다\n",
            "39200 원 남았습니다 608 대 맞았습니다\n",
            "39100 원 남았습니다 609 대 맞았습니다\n",
            "39000 원 남았습니다 610 대 맞았습니다\n",
            "38900 원 남았습니다 611 대 맞았습니다\n",
            "38800 원 남았습니다 612 대 맞았습니다\n",
            "38700 원 남았습니다 613 대 맞았습니다\n",
            "38600 원 남았습니다 614 대 맞았습니다\n",
            "38500 원 남았습니다 615 대 맞았습니다\n",
            "38400 원 남았습니다 616 대 맞았습니다\n",
            "38300 원 남았습니다 617 대 맞았습니다\n",
            "38200 원 남았습니다 618 대 맞았습니다\n",
            "38100 원 남았습니다 619 대 맞았습니다\n",
            "38000 원 남았습니다 620 대 맞았습니다\n",
            "37900 원 남았습니다 621 대 맞았습니다\n",
            "37800 원 남았습니다 622 대 맞았습니다\n",
            "37700 원 남았습니다 623 대 맞았습니다\n",
            "37600 원 남았습니다 624 대 맞았습니다\n",
            "37500 원 남았습니다 625 대 맞았습니다\n",
            "37400 원 남았습니다 626 대 맞았습니다\n",
            "37300 원 남았습니다 627 대 맞았습니다\n",
            "37200 원 남았습니다 628 대 맞았습니다\n",
            "37100 원 남았습니다 629 대 맞았습니다\n",
            "37000 원 남았습니다 630 대 맞았습니다\n",
            "36900 원 남았습니다 631 대 맞았습니다\n",
            "36800 원 남았습니다 632 대 맞았습니다\n",
            "36700 원 남았습니다 633 대 맞았습니다\n",
            "36600 원 남았습니다 634 대 맞았습니다\n",
            "36500 원 남았습니다 635 대 맞았습니다\n",
            "36400 원 남았습니다 636 대 맞았습니다\n",
            "36300 원 남았습니다 637 대 맞았습니다\n",
            "36200 원 남았습니다 638 대 맞았습니다\n",
            "36100 원 남았습니다 639 대 맞았습니다\n",
            "36000 원 남았습니다 640 대 맞았습니다\n",
            "35900 원 남았습니다 641 대 맞았습니다\n",
            "35800 원 남았습니다 642 대 맞았습니다\n",
            "35700 원 남았습니다 643 대 맞았습니다\n",
            "35600 원 남았습니다 644 대 맞았습니다\n",
            "35500 원 남았습니다 645 대 맞았습니다\n",
            "35400 원 남았습니다 646 대 맞았습니다\n",
            "35300 원 남았습니다 647 대 맞았습니다\n",
            "35200 원 남았습니다 648 대 맞았습니다\n",
            "35100 원 남았습니다 649 대 맞았습니다\n",
            "35000 원 남았습니다 650 대 맞았습니다\n",
            "34900 원 남았습니다 651 대 맞았습니다\n",
            "34800 원 남았습니다 652 대 맞았습니다\n",
            "34700 원 남았습니다 653 대 맞았습니다\n",
            "34600 원 남았습니다 654 대 맞았습니다\n",
            "34500 원 남았습니다 655 대 맞았습니다\n",
            "34400 원 남았습니다 656 대 맞았습니다\n",
            "34300 원 남았습니다 657 대 맞았습니다\n",
            "34200 원 남았습니다 658 대 맞았습니다\n",
            "34100 원 남았습니다 659 대 맞았습니다\n",
            "34000 원 남았습니다 660 대 맞았습니다\n",
            "33900 원 남았습니다 661 대 맞았습니다\n",
            "33800 원 남았습니다 662 대 맞았습니다\n",
            "33700 원 남았습니다 663 대 맞았습니다\n",
            "33600 원 남았습니다 664 대 맞았습니다\n",
            "33500 원 남았습니다 665 대 맞았습니다\n",
            "33400 원 남았습니다 666 대 맞았습니다\n",
            "33300 원 남았습니다 667 대 맞았습니다\n",
            "33200 원 남았습니다 668 대 맞았습니다\n",
            "33100 원 남았습니다 669 대 맞았습니다\n",
            "33000 원 남았습니다 670 대 맞았습니다\n",
            "32900 원 남았습니다 671 대 맞았습니다\n",
            "32800 원 남았습니다 672 대 맞았습니다\n",
            "32700 원 남았습니다 673 대 맞았습니다\n",
            "32600 원 남았습니다 674 대 맞았습니다\n",
            "32500 원 남았습니다 675 대 맞았습니다\n",
            "32400 원 남았습니다 676 대 맞았습니다\n",
            "32300 원 남았습니다 677 대 맞았습니다\n",
            "32200 원 남았습니다 678 대 맞았습니다\n",
            "32100 원 남았습니다 679 대 맞았습니다\n",
            "32000 원 남았습니다 680 대 맞았습니다\n",
            "31900 원 남았습니다 681 대 맞았습니다\n",
            "31800 원 남았습니다 682 대 맞았습니다\n",
            "31700 원 남았습니다 683 대 맞았습니다\n",
            "31600 원 남았습니다 684 대 맞았습니다\n",
            "31500 원 남았습니다 685 대 맞았습니다\n",
            "31400 원 남았습니다 686 대 맞았습니다\n",
            "31300 원 남았습니다 687 대 맞았습니다\n",
            "31200 원 남았습니다 688 대 맞았습니다\n",
            "31100 원 남았습니다 689 대 맞았습니다\n",
            "31000 원 남았습니다 690 대 맞았습니다\n",
            "30900 원 남았습니다 691 대 맞았습니다\n",
            "30800 원 남았습니다 692 대 맞았습니다\n",
            "30700 원 남았습니다 693 대 맞았습니다\n",
            "30600 원 남았습니다 694 대 맞았습니다\n",
            "30500 원 남았습니다 695 대 맞았습니다\n",
            "30400 원 남았습니다 696 대 맞았습니다\n",
            "30300 원 남았습니다 697 대 맞았습니다\n",
            "30200 원 남았습니다 698 대 맞았습니다\n",
            "30100 원 남았습니다 699 대 맞았습니다\n",
            "30000 원 남았습니다 700 대 맞았습니다\n",
            "29900 원 남았습니다 701 대 맞았습니다\n",
            "29800 원 남았습니다 702 대 맞았습니다\n",
            "29700 원 남았습니다 703 대 맞았습니다\n",
            "29600 원 남았습니다 704 대 맞았습니다\n",
            "29500 원 남았습니다 705 대 맞았습니다\n",
            "29400 원 남았습니다 706 대 맞았습니다\n",
            "29300 원 남았습니다 707 대 맞았습니다\n",
            "29200 원 남았습니다 708 대 맞았습니다\n",
            "29100 원 남았습니다 709 대 맞았습니다\n",
            "29000 원 남았습니다 710 대 맞았습니다\n",
            "28900 원 남았습니다 711 대 맞았습니다\n",
            "28800 원 남았습니다 712 대 맞았습니다\n",
            "28700 원 남았습니다 713 대 맞았습니다\n",
            "28600 원 남았습니다 714 대 맞았습니다\n",
            "28500 원 남았습니다 715 대 맞았습니다\n",
            "28400 원 남았습니다 716 대 맞았습니다\n",
            "28300 원 남았습니다 717 대 맞았습니다\n",
            "28200 원 남았습니다 718 대 맞았습니다\n",
            "28100 원 남았습니다 719 대 맞았습니다\n",
            "28000 원 남았습니다 720 대 맞았습니다\n",
            "27900 원 남았습니다 721 대 맞았습니다\n",
            "27800 원 남았습니다 722 대 맞았습니다\n",
            "27700 원 남았습니다 723 대 맞았습니다\n",
            "27600 원 남았습니다 724 대 맞았습니다\n",
            "27500 원 남았습니다 725 대 맞았습니다\n",
            "27400 원 남았습니다 726 대 맞았습니다\n",
            "27300 원 남았습니다 727 대 맞았습니다\n",
            "27200 원 남았습니다 728 대 맞았습니다\n",
            "27100 원 남았습니다 729 대 맞았습니다\n",
            "27000 원 남았습니다 730 대 맞았습니다\n",
            "26900 원 남았습니다 731 대 맞았습니다\n",
            "26800 원 남았습니다 732 대 맞았습니다\n",
            "26700 원 남았습니다 733 대 맞았습니다\n",
            "26600 원 남았습니다 734 대 맞았습니다\n",
            "26500 원 남았습니다 735 대 맞았습니다\n",
            "26400 원 남았습니다 736 대 맞았습니다\n",
            "26300 원 남았습니다 737 대 맞았습니다\n",
            "26200 원 남았습니다 738 대 맞았습니다\n",
            "26100 원 남았습니다 739 대 맞았습니다\n",
            "26000 원 남았습니다 740 대 맞았습니다\n",
            "25900 원 남았습니다 741 대 맞았습니다\n",
            "25800 원 남았습니다 742 대 맞았습니다\n",
            "25700 원 남았습니다 743 대 맞았습니다\n",
            "25600 원 남았습니다 744 대 맞았습니다\n",
            "25500 원 남았습니다 745 대 맞았습니다\n",
            "25400 원 남았습니다 746 대 맞았습니다\n",
            "25300 원 남았습니다 747 대 맞았습니다\n",
            "25200 원 남았습니다 748 대 맞았습니다\n",
            "25100 원 남았습니다 749 대 맞았습니다\n",
            "25000 원 남았습니다 750 대 맞았습니다\n",
            "24900 원 남았습니다 751 대 맞았습니다\n",
            "24800 원 남았습니다 752 대 맞았습니다\n",
            "24700 원 남았습니다 753 대 맞았습니다\n",
            "24600 원 남았습니다 754 대 맞았습니다\n",
            "24500 원 남았습니다 755 대 맞았습니다\n",
            "24400 원 남았습니다 756 대 맞았습니다\n",
            "24300 원 남았습니다 757 대 맞았습니다\n",
            "24200 원 남았습니다 758 대 맞았습니다\n",
            "24100 원 남았습니다 759 대 맞았습니다\n",
            "24000 원 남았습니다 760 대 맞았습니다\n",
            "23900 원 남았습니다 761 대 맞았습니다\n",
            "23800 원 남았습니다 762 대 맞았습니다\n",
            "23700 원 남았습니다 763 대 맞았습니다\n",
            "23600 원 남았습니다 764 대 맞았습니다\n",
            "23500 원 남았습니다 765 대 맞았습니다\n",
            "23400 원 남았습니다 766 대 맞았습니다\n",
            "23300 원 남았습니다 767 대 맞았습니다\n",
            "23200 원 남았습니다 768 대 맞았습니다\n",
            "23100 원 남았습니다 769 대 맞았습니다\n",
            "23000 원 남았습니다 770 대 맞았습니다\n",
            "22900 원 남았습니다 771 대 맞았습니다\n",
            "22800 원 남았습니다 772 대 맞았습니다\n",
            "22700 원 남았습니다 773 대 맞았습니다\n",
            "22600 원 남았습니다 774 대 맞았습니다\n",
            "22500 원 남았습니다 775 대 맞았습니다\n",
            "22400 원 남았습니다 776 대 맞았습니다\n",
            "22300 원 남았습니다 777 대 맞았습니다\n",
            "22200 원 남았습니다 778 대 맞았습니다\n",
            "22100 원 남았습니다 779 대 맞았습니다\n",
            "22000 원 남았습니다 780 대 맞았습니다\n",
            "21900 원 남았습니다 781 대 맞았습니다\n",
            "21800 원 남았습니다 782 대 맞았습니다\n",
            "21700 원 남았습니다 783 대 맞았습니다\n",
            "21600 원 남았습니다 784 대 맞았습니다\n",
            "21500 원 남았습니다 785 대 맞았습니다\n",
            "21400 원 남았습니다 786 대 맞았습니다\n",
            "21300 원 남았습니다 787 대 맞았습니다\n",
            "21200 원 남았습니다 788 대 맞았습니다\n",
            "21100 원 남았습니다 789 대 맞았습니다\n",
            "21000 원 남았습니다 790 대 맞았습니다\n",
            "20900 원 남았습니다 791 대 맞았습니다\n",
            "20800 원 남았습니다 792 대 맞았습니다\n",
            "20700 원 남았습니다 793 대 맞았습니다\n",
            "20600 원 남았습니다 794 대 맞았습니다\n",
            "20500 원 남았습니다 795 대 맞았습니다\n",
            "20400 원 남았습니다 796 대 맞았습니다\n",
            "20300 원 남았습니다 797 대 맞았습니다\n",
            "20200 원 남았습니다 798 대 맞았습니다\n",
            "20100 원 남았습니다 799 대 맞았습니다\n",
            "20000 원 남았습니다 800 대 맞았습니다\n",
            "19900 원 남았습니다 801 대 맞았습니다\n",
            "19800 원 남았습니다 802 대 맞았습니다\n",
            "19700 원 남았습니다 803 대 맞았습니다\n",
            "19600 원 남았습니다 804 대 맞았습니다\n",
            "19500 원 남았습니다 805 대 맞았습니다\n",
            "19400 원 남았습니다 806 대 맞았습니다\n",
            "19300 원 남았습니다 807 대 맞았습니다\n",
            "19200 원 남았습니다 808 대 맞았습니다\n",
            "19100 원 남았습니다 809 대 맞았습니다\n",
            "19000 원 남았습니다 810 대 맞았습니다\n",
            "18900 원 남았습니다 811 대 맞았습니다\n",
            "18800 원 남았습니다 812 대 맞았습니다\n",
            "18700 원 남았습니다 813 대 맞았습니다\n",
            "18600 원 남았습니다 814 대 맞았습니다\n",
            "18500 원 남았습니다 815 대 맞았습니다\n",
            "18400 원 남았습니다 816 대 맞았습니다\n",
            "18300 원 남았습니다 817 대 맞았습니다\n",
            "18200 원 남았습니다 818 대 맞았습니다\n",
            "18100 원 남았습니다 819 대 맞았습니다\n",
            "18000 원 남았습니다 820 대 맞았습니다\n",
            "17900 원 남았습니다 821 대 맞았습니다\n",
            "17800 원 남았습니다 822 대 맞았습니다\n",
            "17700 원 남았습니다 823 대 맞았습니다\n",
            "17600 원 남았습니다 824 대 맞았습니다\n",
            "17500 원 남았습니다 825 대 맞았습니다\n",
            "17400 원 남았습니다 826 대 맞았습니다\n",
            "17300 원 남았습니다 827 대 맞았습니다\n",
            "17200 원 남았습니다 828 대 맞았습니다\n",
            "17100 원 남았습니다 829 대 맞았습니다\n",
            "17000 원 남았습니다 830 대 맞았습니다\n",
            "16900 원 남았습니다 831 대 맞았습니다\n",
            "16800 원 남았습니다 832 대 맞았습니다\n",
            "16700 원 남았습니다 833 대 맞았습니다\n",
            "16600 원 남았습니다 834 대 맞았습니다\n",
            "16500 원 남았습니다 835 대 맞았습니다\n",
            "16400 원 남았습니다 836 대 맞았습니다\n",
            "16300 원 남았습니다 837 대 맞았습니다\n",
            "16200 원 남았습니다 838 대 맞았습니다\n",
            "16100 원 남았습니다 839 대 맞았습니다\n",
            "16000 원 남았습니다 840 대 맞았습니다\n",
            "15900 원 남았습니다 841 대 맞았습니다\n",
            "15800 원 남았습니다 842 대 맞았습니다\n",
            "15700 원 남았습니다 843 대 맞았습니다\n",
            "15600 원 남았습니다 844 대 맞았습니다\n",
            "15500 원 남았습니다 845 대 맞았습니다\n",
            "15400 원 남았습니다 846 대 맞았습니다\n",
            "15300 원 남았습니다 847 대 맞았습니다\n",
            "15200 원 남았습니다 848 대 맞았습니다\n",
            "15100 원 남았습니다 849 대 맞았습니다\n",
            "15000 원 남았습니다 850 대 맞았습니다\n",
            "14900 원 남았습니다 851 대 맞았습니다\n",
            "14800 원 남았습니다 852 대 맞았습니다\n",
            "14700 원 남았습니다 853 대 맞았습니다\n",
            "14600 원 남았습니다 854 대 맞았습니다\n",
            "14500 원 남았습니다 855 대 맞았습니다\n",
            "14400 원 남았습니다 856 대 맞았습니다\n",
            "14300 원 남았습니다 857 대 맞았습니다\n",
            "14200 원 남았습니다 858 대 맞았습니다\n",
            "14100 원 남았습니다 859 대 맞았습니다\n",
            "14000 원 남았습니다 860 대 맞았습니다\n",
            "13900 원 남았습니다 861 대 맞았습니다\n",
            "13800 원 남았습니다 862 대 맞았습니다\n",
            "13700 원 남았습니다 863 대 맞았습니다\n",
            "13600 원 남았습니다 864 대 맞았습니다\n",
            "13500 원 남았습니다 865 대 맞았습니다\n",
            "13400 원 남았습니다 866 대 맞았습니다\n",
            "13300 원 남았습니다 867 대 맞았습니다\n",
            "13200 원 남았습니다 868 대 맞았습니다\n",
            "13100 원 남았습니다 869 대 맞았습니다\n",
            "13000 원 남았습니다 870 대 맞았습니다\n",
            "12900 원 남았습니다 871 대 맞았습니다\n",
            "12800 원 남았습니다 872 대 맞았습니다\n",
            "12700 원 남았습니다 873 대 맞았습니다\n",
            "12600 원 남았습니다 874 대 맞았습니다\n",
            "12500 원 남았습니다 875 대 맞았습니다\n",
            "12400 원 남았습니다 876 대 맞았습니다\n",
            "12300 원 남았습니다 877 대 맞았습니다\n",
            "12200 원 남았습니다 878 대 맞았습니다\n",
            "12100 원 남았습니다 879 대 맞았습니다\n",
            "12000 원 남았습니다 880 대 맞았습니다\n",
            "11900 원 남았습니다 881 대 맞았습니다\n",
            "11800 원 남았습니다 882 대 맞았습니다\n",
            "11700 원 남았습니다 883 대 맞았습니다\n",
            "11600 원 남았습니다 884 대 맞았습니다\n",
            "11500 원 남았습니다 885 대 맞았습니다\n",
            "11400 원 남았습니다 886 대 맞았습니다\n",
            "11300 원 남았습니다 887 대 맞았습니다\n",
            "11200 원 남았습니다 888 대 맞았습니다\n",
            "11100 원 남았습니다 889 대 맞았습니다\n",
            "11000 원 남았습니다 890 대 맞았습니다\n",
            "10900 원 남았습니다 891 대 맞았습니다\n",
            "10800 원 남았습니다 892 대 맞았습니다\n",
            "10700 원 남았습니다 893 대 맞았습니다\n",
            "10600 원 남았습니다 894 대 맞았습니다\n",
            "10500 원 남았습니다 895 대 맞았습니다\n",
            "10400 원 남았습니다 896 대 맞았습니다\n",
            "10300 원 남았습니다 897 대 맞았습니다\n",
            "10200 원 남았습니다 898 대 맞았습니다\n",
            "10100 원 남았습니다 899 대 맞았습니다\n",
            "10000 원 남았습니다 900 대 맞았습니다\n",
            "9900 원 남았습니다 901 대 맞았습니다\n",
            "9800 원 남았습니다 902 대 맞았습니다\n",
            "9700 원 남았습니다 903 대 맞았습니다\n",
            "9600 원 남았습니다 904 대 맞았습니다\n",
            "9500 원 남았습니다 905 대 맞았습니다\n",
            "9400 원 남았습니다 906 대 맞았습니다\n",
            "9300 원 남았습니다 907 대 맞았습니다\n",
            "9200 원 남았습니다 908 대 맞았습니다\n",
            "9100 원 남았습니다 909 대 맞았습니다\n",
            "9000 원 남았습니다 910 대 맞았습니다\n",
            "8900 원 남았습니다 911 대 맞았습니다\n",
            "8800 원 남았습니다 912 대 맞았습니다\n",
            "8700 원 남았습니다 913 대 맞았습니다\n",
            "8600 원 남았습니다 914 대 맞았습니다\n",
            "8500 원 남았습니다 915 대 맞았습니다\n",
            "8400 원 남았습니다 916 대 맞았습니다\n",
            "8300 원 남았습니다 917 대 맞았습니다\n",
            "8200 원 남았습니다 918 대 맞았습니다\n",
            "8100 원 남았습니다 919 대 맞았습니다\n",
            "8000 원 남았습니다 920 대 맞았습니다\n",
            "7900 원 남았습니다 921 대 맞았습니다\n",
            "7800 원 남았습니다 922 대 맞았습니다\n",
            "7700 원 남았습니다 923 대 맞았습니다\n",
            "7600 원 남았습니다 924 대 맞았습니다\n",
            "7500 원 남았습니다 925 대 맞았습니다\n",
            "7400 원 남았습니다 926 대 맞았습니다\n",
            "7300 원 남았습니다 927 대 맞았습니다\n",
            "7200 원 남았습니다 928 대 맞았습니다\n",
            "7100 원 남았습니다 929 대 맞았습니다\n",
            "7000 원 남았습니다 930 대 맞았습니다\n",
            "6900 원 남았습니다 931 대 맞았습니다\n",
            "6800 원 남았습니다 932 대 맞았습니다\n",
            "6700 원 남았습니다 933 대 맞았습니다\n",
            "6600 원 남았습니다 934 대 맞았습니다\n",
            "6500 원 남았습니다 935 대 맞았습니다\n",
            "6400 원 남았습니다 936 대 맞았습니다\n",
            "6300 원 남았습니다 937 대 맞았습니다\n",
            "6200 원 남았습니다 938 대 맞았습니다\n",
            "6100 원 남았습니다 939 대 맞았습니다\n",
            "6000 원 남았습니다 940 대 맞았습니다\n",
            "5900 원 남았습니다 941 대 맞았습니다\n",
            "5800 원 남았습니다 942 대 맞았습니다\n",
            "5700 원 남았습니다 943 대 맞았습니다\n",
            "5600 원 남았습니다 944 대 맞았습니다\n",
            "5500 원 남았습니다 945 대 맞았습니다\n",
            "5400 원 남았습니다 946 대 맞았습니다\n",
            "5300 원 남았습니다 947 대 맞았습니다\n",
            "5200 원 남았습니다 948 대 맞았습니다\n",
            "5100 원 남았습니다 949 대 맞았습니다\n",
            "5000 원 남았습니다 950 대 맞았습니다\n",
            "4900 원 남았습니다 951 대 맞았습니다\n",
            "4800 원 남았습니다 952 대 맞았습니다\n",
            "4700 원 남았습니다 953 대 맞았습니다\n",
            "4600 원 남았습니다 954 대 맞았습니다\n",
            "4500 원 남았습니다 955 대 맞았습니다\n",
            "4400 원 남았습니다 956 대 맞았습니다\n",
            "4300 원 남았습니다 957 대 맞았습니다\n",
            "4200 원 남았습니다 958 대 맞았습니다\n",
            "4100 원 남았습니다 959 대 맞았습니다\n",
            "4000 원 남았습니다 960 대 맞았습니다\n",
            "3900 원 남았습니다 961 대 맞았습니다\n",
            "3800 원 남았습니다 962 대 맞았습니다\n",
            "3700 원 남았습니다 963 대 맞았습니다\n",
            "3600 원 남았습니다 964 대 맞았습니다\n",
            "3500 원 남았습니다 965 대 맞았습니다\n",
            "3400 원 남았습니다 966 대 맞았습니다\n",
            "3300 원 남았습니다 967 대 맞았습니다\n",
            "3200 원 남았습니다 968 대 맞았습니다\n",
            "3100 원 남았습니다 969 대 맞았습니다\n",
            "3000 원 남았습니다 970 대 맞았습니다\n",
            "2900 원 남았습니다 971 대 맞았습니다\n",
            "2800 원 남았습니다 972 대 맞았습니다\n",
            "2700 원 남았습니다 973 대 맞았습니다\n",
            "2600 원 남았습니다 974 대 맞았습니다\n",
            "2500 원 남았습니다 975 대 맞았습니다\n",
            "2400 원 남았습니다 976 대 맞았습니다\n",
            "2300 원 남았습니다 977 대 맞았습니다\n",
            "2200 원 남았습니다 978 대 맞았습니다\n",
            "2100 원 남았습니다 979 대 맞았습니다\n",
            "2000 원 남았습니다 980 대 맞았습니다\n",
            "1900 원 남았습니다 981 대 맞았습니다\n",
            "1800 원 남았습니다 982 대 맞았습니다\n",
            "1700 원 남았습니다 983 대 맞았습니다\n",
            "1600 원 남았습니다 984 대 맞았습니다\n",
            "1500 원 남았습니다 985 대 맞았습니다\n",
            "1400 원 남았습니다 986 대 맞았습니다\n",
            "1300 원 남았습니다 987 대 맞았습니다\n",
            "1200 원 남았습니다 988 대 맞았습니다\n",
            "1100 원 남았습니다 989 대 맞았습니다\n",
            "1000 원 남았습니다 990 대 맞았습니다\n",
            "900 원 남았습니다 991 대 맞았습니다\n",
            "800 원 남았습니다 992 대 맞았습니다\n",
            "700 원 남았습니다 993 대 맞았습니다\n",
            "600 원 남았습니다 994 대 맞았습니다\n",
            "500 원 남았습니다 995 대 맞았습니다\n",
            "400 원 남았습니다 996 대 맞았습니다\n",
            "300 원 남았습니다 997 대 맞았습니다\n",
            "200 원 남았습니다 998 대 맞았습니다\n",
            "100 원 남았습니다 999 대 맞았습니다\n",
            "0 원 남았습니다 1000 대 맞았습니다\n"
          ]
        }
      ]
    },
    {
      "cell_type": "markdown",
      "source": [
        "## break, continue"
      ],
      "metadata": {
        "id": "fLoDhbQKTHPV"
      }
    },
    {
      "cell_type": "code",
      "source": [
        "for i in range(1000):\n",
        "    print(i, i ** 2)\n",
        "    if i ** 2 > 1000:\n",
        "        break"
      ],
      "metadata": {
        "colab": {
          "base_uri": "https://localhost:8080/"
        },
        "id": "NpjEtiaNRkud",
        "outputId": "c294a50a-b9a1-443c-8b9a-8b8115c19388"
      },
      "execution_count": null,
      "outputs": [
        {
          "output_type": "stream",
          "name": "stdout",
          "text": [
            "0 0\n",
            "1 1\n",
            "2 4\n",
            "3 9\n",
            "4 16\n",
            "5 25\n",
            "6 36\n",
            "7 49\n",
            "8 64\n",
            "9 81\n",
            "10 100\n",
            "11 121\n",
            "12 144\n",
            "13 169\n",
            "14 196\n",
            "15 225\n",
            "16 256\n",
            "17 289\n",
            "18 324\n",
            "19 361\n",
            "20 400\n",
            "21 441\n",
            "22 484\n",
            "23 529\n",
            "24 576\n",
            "25 625\n",
            "26 676\n",
            "27 729\n",
            "28 784\n",
            "29 841\n",
            "30 900\n",
            "31 961\n",
            "32 1024\n"
          ]
        }
      ]
    },
    {
      "cell_type": "code",
      "source": [
        "for i in range(1, 1000):\n",
        "    if i % 2 == 0:\n",
        "        continue\n",
        "    print(i, end=' ')"
      ],
      "metadata": {
        "colab": {
          "base_uri": "https://localhost:8080/"
        },
        "id": "Dqh9X96oScZ8",
        "outputId": "0b5e8def-291d-4a06-f1fe-77f3b9457557"
      },
      "execution_count": null,
      "outputs": [
        {
          "output_type": "stream",
          "name": "stdout",
          "text": [
            "1 3 5 7 9 11 13 15 17 19 21 23 25 27 29 31 33 35 37 39 41 43 45 47 49 51 53 55 57 59 61 63 65 67 69 71 73 75 77 79 81 83 85 87 89 91 93 95 97 99 101 103 105 107 109 111 113 115 117 119 121 123 125 127 129 131 133 135 137 139 141 143 145 147 149 151 153 155 157 159 161 163 165 167 169 171 173 175 177 179 181 183 185 187 189 191 193 195 197 199 201 203 205 207 209 211 213 215 217 219 221 223 225 227 229 231 233 235 237 239 241 243 245 247 249 251 253 255 257 259 261 263 265 267 269 271 273 275 277 279 281 283 285 287 289 291 293 295 297 299 301 303 305 307 309 311 313 315 317 319 321 323 325 327 329 331 333 335 337 339 341 343 345 347 349 351 353 355 357 359 361 363 365 367 369 371 373 375 377 379 381 383 385 387 389 391 393 395 397 399 401 403 405 407 409 411 413 415 417 419 421 423 425 427 429 431 433 435 437 439 441 443 445 447 449 451 453 455 457 459 461 463 465 467 469 471 473 475 477 479 481 483 485 487 489 491 493 495 497 499 501 503 505 507 509 511 513 515 517 519 521 523 525 527 529 531 533 535 537 539 541 543 545 547 549 551 553 555 557 559 561 563 565 567 569 571 573 575 577 579 581 583 585 587 589 591 593 595 597 599 601 603 605 607 609 611 613 615 617 619 621 623 625 627 629 631 633 635 637 639 641 643 645 647 649 651 653 655 657 659 661 663 665 667 669 671 673 675 677 679 681 683 685 687 689 691 693 695 697 699 701 703 705 707 709 711 713 715 717 719 721 723 725 727 729 731 733 735 737 739 741 743 745 747 749 751 753 755 757 759 761 763 765 767 769 771 773 775 777 779 781 783 785 787 789 791 793 795 797 799 801 803 805 807 809 811 813 815 817 819 821 823 825 827 829 831 833 835 837 839 841 843 845 847 849 851 853 855 857 859 861 863 865 867 869 871 873 875 877 879 881 883 885 887 889 891 893 895 897 899 901 903 905 907 909 911 913 915 917 919 921 923 925 927 929 931 933 935 937 939 941 943 945 947 949 951 953 955 957 959 961 963 965 967 969 971 973 975 977 979 981 983 985 987 989 991 993 995 997 999 "
          ]
        }
      ]
    },
    {
      "cell_type": "code",
      "source": [
        "for i in range(1, 1000):\n",
        "    if i % 3 != 0: # 3의 배수가 아닌 것들을 필터링\n",
        "        continue\n",
        "    print(i, end=' ')"
      ],
      "metadata": {
        "colab": {
          "base_uri": "https://localhost:8080/"
        },
        "id": "0a-OAQydTB4R",
        "outputId": "0173b39d-6373-44f4-c139-d8348e73b827"
      },
      "execution_count": null,
      "outputs": [
        {
          "output_type": "stream",
          "name": "stdout",
          "text": [
            "3 6 9 12 15 18 21 24 27 30 33 36 39 42 45 48 51 54 57 60 63 66 69 72 75 78 81 84 87 90 93 96 99 102 105 108 111 114 117 120 123 126 129 132 135 138 141 144 147 150 153 156 159 162 165 168 171 174 177 180 183 186 189 192 195 198 201 204 207 210 213 216 219 222 225 228 231 234 237 240 243 246 249 252 255 258 261 264 267 270 273 276 279 282 285 288 291 294 297 300 303 306 309 312 315 318 321 324 327 330 333 336 339 342 345 348 351 354 357 360 363 366 369 372 375 378 381 384 387 390 393 396 399 402 405 408 411 414 417 420 423 426 429 432 435 438 441 444 447 450 453 456 459 462 465 468 471 474 477 480 483 486 489 492 495 498 501 504 507 510 513 516 519 522 525 528 531 534 537 540 543 546 549 552 555 558 561 564 567 570 573 576 579 582 585 588 591 594 597 600 603 606 609 612 615 618 621 624 627 630 633 636 639 642 645 648 651 654 657 660 663 666 669 672 675 678 681 684 687 690 693 696 699 702 705 708 711 714 717 720 723 726 729 732 735 738 741 744 747 750 753 756 759 762 765 768 771 774 777 780 783 786 789 792 795 798 801 804 807 810 813 816 819 822 825 828 831 834 837 840 843 846 849 852 855 858 861 864 867 870 873 876 879 882 885 888 891 894 897 900 903 906 909 912 915 918 921 924 927 930 933 936 939 942 945 948 951 954 957 960 963 966 969 972 975 978 981 984 987 990 993 996 999 "
          ]
        }
      ]
    },
    {
      "cell_type": "code",
      "source": [
        "i = 0\n",
        "while True:\n",
        "    i += 1\n",
        "    print(i)\n",
        "    if i > 10:\n",
        "        break"
      ],
      "metadata": {
        "colab": {
          "base_uri": "https://localhost:8080/"
        },
        "id": "bFOFGPd3TODl",
        "outputId": "00cb2bb6-ec50-48d2-8528-164f88e36021"
      },
      "execution_count": null,
      "outputs": [
        {
          "output_type": "stream",
          "name": "stdout",
          "text": [
            "1\n",
            "2\n",
            "3\n",
            "4\n",
            "5\n",
            "6\n",
            "7\n",
            "8\n",
            "9\n",
            "10\n",
            "11\n"
          ]
        }
      ]
    },
    {
      "cell_type": "code",
      "source": [
        "money = 100000\n",
        "hit = 0\n",
        "while money > 0:\n",
        "    money -= 100\n",
        "    print(money, \"원 남았습니다\")\n",
        "    if money % 1000 == 0:\n",
        "        print(\"피했습니다\")\n",
        "        continue\n",
        "    hit += 1\n",
        "    print(hit, \"대 맞았습니다\")"
      ],
      "metadata": {
        "colab": {
          "base_uri": "https://localhost:8080/"
        },
        "id": "4f7113RbTZYu",
        "outputId": "7d53272a-3bd4-4ad9-ac93-ebd0bd4a798f"
      },
      "execution_count": null,
      "outputs": [
        {
          "output_type": "stream",
          "name": "stdout",
          "text": [
            "99900 원 남았습니다\n",
            "1 대 맞았습니다\n",
            "99800 원 남았습니다\n",
            "2 대 맞았습니다\n",
            "99700 원 남았습니다\n",
            "3 대 맞았습니다\n",
            "99600 원 남았습니다\n",
            "4 대 맞았습니다\n",
            "99500 원 남았습니다\n",
            "5 대 맞았습니다\n",
            "99400 원 남았습니다\n",
            "6 대 맞았습니다\n",
            "99300 원 남았습니다\n",
            "7 대 맞았습니다\n",
            "99200 원 남았습니다\n",
            "8 대 맞았습니다\n",
            "99100 원 남았습니다\n",
            "9 대 맞았습니다\n",
            "99000 원 남았습니다\n",
            "피했습니다\n",
            "98900 원 남았습니다\n",
            "10 대 맞았습니다\n",
            "98800 원 남았습니다\n",
            "11 대 맞았습니다\n",
            "98700 원 남았습니다\n",
            "12 대 맞았습니다\n",
            "98600 원 남았습니다\n",
            "13 대 맞았습니다\n",
            "98500 원 남았습니다\n",
            "14 대 맞았습니다\n",
            "98400 원 남았습니다\n",
            "15 대 맞았습니다\n",
            "98300 원 남았습니다\n",
            "16 대 맞았습니다\n",
            "98200 원 남았습니다\n",
            "17 대 맞았습니다\n",
            "98100 원 남았습니다\n",
            "18 대 맞았습니다\n",
            "98000 원 남았습니다\n",
            "피했습니다\n",
            "97900 원 남았습니다\n",
            "19 대 맞았습니다\n",
            "97800 원 남았습니다\n",
            "20 대 맞았습니다\n",
            "97700 원 남았습니다\n",
            "21 대 맞았습니다\n",
            "97600 원 남았습니다\n",
            "22 대 맞았습니다\n",
            "97500 원 남았습니다\n",
            "23 대 맞았습니다\n",
            "97400 원 남았습니다\n",
            "24 대 맞았습니다\n",
            "97300 원 남았습니다\n",
            "25 대 맞았습니다\n",
            "97200 원 남았습니다\n",
            "26 대 맞았습니다\n",
            "97100 원 남았습니다\n",
            "27 대 맞았습니다\n",
            "97000 원 남았습니다\n",
            "피했습니다\n",
            "96900 원 남았습니다\n",
            "28 대 맞았습니다\n",
            "96800 원 남았습니다\n",
            "29 대 맞았습니다\n",
            "96700 원 남았습니다\n",
            "30 대 맞았습니다\n",
            "96600 원 남았습니다\n",
            "31 대 맞았습니다\n",
            "96500 원 남았습니다\n",
            "32 대 맞았습니다\n",
            "96400 원 남았습니다\n",
            "33 대 맞았습니다\n",
            "96300 원 남았습니다\n",
            "34 대 맞았습니다\n",
            "96200 원 남았습니다\n",
            "35 대 맞았습니다\n",
            "96100 원 남았습니다\n",
            "36 대 맞았습니다\n",
            "96000 원 남았습니다\n",
            "피했습니다\n",
            "95900 원 남았습니다\n",
            "37 대 맞았습니다\n",
            "95800 원 남았습니다\n",
            "38 대 맞았습니다\n",
            "95700 원 남았습니다\n",
            "39 대 맞았습니다\n",
            "95600 원 남았습니다\n",
            "40 대 맞았습니다\n",
            "95500 원 남았습니다\n",
            "41 대 맞았습니다\n",
            "95400 원 남았습니다\n",
            "42 대 맞았습니다\n",
            "95300 원 남았습니다\n",
            "43 대 맞았습니다\n",
            "95200 원 남았습니다\n",
            "44 대 맞았습니다\n",
            "95100 원 남았습니다\n",
            "45 대 맞았습니다\n",
            "95000 원 남았습니다\n",
            "피했습니다\n",
            "94900 원 남았습니다\n",
            "46 대 맞았습니다\n",
            "94800 원 남았습니다\n",
            "47 대 맞았습니다\n",
            "94700 원 남았습니다\n",
            "48 대 맞았습니다\n",
            "94600 원 남았습니다\n",
            "49 대 맞았습니다\n",
            "94500 원 남았습니다\n",
            "50 대 맞았습니다\n",
            "94400 원 남았습니다\n",
            "51 대 맞았습니다\n",
            "94300 원 남았습니다\n",
            "52 대 맞았습니다\n",
            "94200 원 남았습니다\n",
            "53 대 맞았습니다\n",
            "94100 원 남았습니다\n",
            "54 대 맞았습니다\n",
            "94000 원 남았습니다\n",
            "피했습니다\n",
            "93900 원 남았습니다\n",
            "55 대 맞았습니다\n",
            "93800 원 남았습니다\n",
            "56 대 맞았습니다\n",
            "93700 원 남았습니다\n",
            "57 대 맞았습니다\n",
            "93600 원 남았습니다\n",
            "58 대 맞았습니다\n",
            "93500 원 남았습니다\n",
            "59 대 맞았습니다\n",
            "93400 원 남았습니다\n",
            "60 대 맞았습니다\n",
            "93300 원 남았습니다\n",
            "61 대 맞았습니다\n",
            "93200 원 남았습니다\n",
            "62 대 맞았습니다\n",
            "93100 원 남았습니다\n",
            "63 대 맞았습니다\n",
            "93000 원 남았습니다\n",
            "피했습니다\n",
            "92900 원 남았습니다\n",
            "64 대 맞았습니다\n",
            "92800 원 남았습니다\n",
            "65 대 맞았습니다\n",
            "92700 원 남았습니다\n",
            "66 대 맞았습니다\n",
            "92600 원 남았습니다\n",
            "67 대 맞았습니다\n",
            "92500 원 남았습니다\n",
            "68 대 맞았습니다\n",
            "92400 원 남았습니다\n",
            "69 대 맞았습니다\n",
            "92300 원 남았습니다\n",
            "70 대 맞았습니다\n",
            "92200 원 남았습니다\n",
            "71 대 맞았습니다\n",
            "92100 원 남았습니다\n",
            "72 대 맞았습니다\n",
            "92000 원 남았습니다\n",
            "피했습니다\n",
            "91900 원 남았습니다\n",
            "73 대 맞았습니다\n",
            "91800 원 남았습니다\n",
            "74 대 맞았습니다\n",
            "91700 원 남았습니다\n",
            "75 대 맞았습니다\n",
            "91600 원 남았습니다\n",
            "76 대 맞았습니다\n",
            "91500 원 남았습니다\n",
            "77 대 맞았습니다\n",
            "91400 원 남았습니다\n",
            "78 대 맞았습니다\n",
            "91300 원 남았습니다\n",
            "79 대 맞았습니다\n",
            "91200 원 남았습니다\n",
            "80 대 맞았습니다\n",
            "91100 원 남았습니다\n",
            "81 대 맞았습니다\n",
            "91000 원 남았습니다\n",
            "피했습니다\n",
            "90900 원 남았습니다\n",
            "82 대 맞았습니다\n",
            "90800 원 남았습니다\n",
            "83 대 맞았습니다\n",
            "90700 원 남았습니다\n",
            "84 대 맞았습니다\n",
            "90600 원 남았습니다\n",
            "85 대 맞았습니다\n",
            "90500 원 남았습니다\n",
            "86 대 맞았습니다\n",
            "90400 원 남았습니다\n",
            "87 대 맞았습니다\n",
            "90300 원 남았습니다\n",
            "88 대 맞았습니다\n",
            "90200 원 남았습니다\n",
            "89 대 맞았습니다\n",
            "90100 원 남았습니다\n",
            "90 대 맞았습니다\n",
            "90000 원 남았습니다\n",
            "피했습니다\n",
            "89900 원 남았습니다\n",
            "91 대 맞았습니다\n",
            "89800 원 남았습니다\n",
            "92 대 맞았습니다\n",
            "89700 원 남았습니다\n",
            "93 대 맞았습니다\n",
            "89600 원 남았습니다\n",
            "94 대 맞았습니다\n",
            "89500 원 남았습니다\n",
            "95 대 맞았습니다\n",
            "89400 원 남았습니다\n",
            "96 대 맞았습니다\n",
            "89300 원 남았습니다\n",
            "97 대 맞았습니다\n",
            "89200 원 남았습니다\n",
            "98 대 맞았습니다\n",
            "89100 원 남았습니다\n",
            "99 대 맞았습니다\n",
            "89000 원 남았습니다\n",
            "피했습니다\n",
            "88900 원 남았습니다\n",
            "100 대 맞았습니다\n",
            "88800 원 남았습니다\n",
            "101 대 맞았습니다\n",
            "88700 원 남았습니다\n",
            "102 대 맞았습니다\n",
            "88600 원 남았습니다\n",
            "103 대 맞았습니다\n",
            "88500 원 남았습니다\n",
            "104 대 맞았습니다\n",
            "88400 원 남았습니다\n",
            "105 대 맞았습니다\n",
            "88300 원 남았습니다\n",
            "106 대 맞았습니다\n",
            "88200 원 남았습니다\n",
            "107 대 맞았습니다\n",
            "88100 원 남았습니다\n",
            "108 대 맞았습니다\n",
            "88000 원 남았습니다\n",
            "피했습니다\n",
            "87900 원 남았습니다\n",
            "109 대 맞았습니다\n",
            "87800 원 남았습니다\n",
            "110 대 맞았습니다\n",
            "87700 원 남았습니다\n",
            "111 대 맞았습니다\n",
            "87600 원 남았습니다\n",
            "112 대 맞았습니다\n",
            "87500 원 남았습니다\n",
            "113 대 맞았습니다\n",
            "87400 원 남았습니다\n",
            "114 대 맞았습니다\n",
            "87300 원 남았습니다\n",
            "115 대 맞았습니다\n",
            "87200 원 남았습니다\n",
            "116 대 맞았습니다\n",
            "87100 원 남았습니다\n",
            "117 대 맞았습니다\n",
            "87000 원 남았습니다\n",
            "피했습니다\n",
            "86900 원 남았습니다\n",
            "118 대 맞았습니다\n",
            "86800 원 남았습니다\n",
            "119 대 맞았습니다\n",
            "86700 원 남았습니다\n",
            "120 대 맞았습니다\n",
            "86600 원 남았습니다\n",
            "121 대 맞았습니다\n",
            "86500 원 남았습니다\n",
            "122 대 맞았습니다\n",
            "86400 원 남았습니다\n",
            "123 대 맞았습니다\n",
            "86300 원 남았습니다\n",
            "124 대 맞았습니다\n",
            "86200 원 남았습니다\n",
            "125 대 맞았습니다\n",
            "86100 원 남았습니다\n",
            "126 대 맞았습니다\n",
            "86000 원 남았습니다\n",
            "피했습니다\n",
            "85900 원 남았습니다\n",
            "127 대 맞았습니다\n",
            "85800 원 남았습니다\n",
            "128 대 맞았습니다\n",
            "85700 원 남았습니다\n",
            "129 대 맞았습니다\n",
            "85600 원 남았습니다\n",
            "130 대 맞았습니다\n",
            "85500 원 남았습니다\n",
            "131 대 맞았습니다\n",
            "85400 원 남았습니다\n",
            "132 대 맞았습니다\n",
            "85300 원 남았습니다\n",
            "133 대 맞았습니다\n",
            "85200 원 남았습니다\n",
            "134 대 맞았습니다\n",
            "85100 원 남았습니다\n",
            "135 대 맞았습니다\n",
            "85000 원 남았습니다\n",
            "피했습니다\n",
            "84900 원 남았습니다\n",
            "136 대 맞았습니다\n",
            "84800 원 남았습니다\n",
            "137 대 맞았습니다\n",
            "84700 원 남았습니다\n",
            "138 대 맞았습니다\n",
            "84600 원 남았습니다\n",
            "139 대 맞았습니다\n",
            "84500 원 남았습니다\n",
            "140 대 맞았습니다\n",
            "84400 원 남았습니다\n",
            "141 대 맞았습니다\n",
            "84300 원 남았습니다\n",
            "142 대 맞았습니다\n",
            "84200 원 남았습니다\n",
            "143 대 맞았습니다\n",
            "84100 원 남았습니다\n",
            "144 대 맞았습니다\n",
            "84000 원 남았습니다\n",
            "피했습니다\n",
            "83900 원 남았습니다\n",
            "145 대 맞았습니다\n",
            "83800 원 남았습니다\n",
            "146 대 맞았습니다\n",
            "83700 원 남았습니다\n",
            "147 대 맞았습니다\n",
            "83600 원 남았습니다\n",
            "148 대 맞았습니다\n",
            "83500 원 남았습니다\n",
            "149 대 맞았습니다\n",
            "83400 원 남았습니다\n",
            "150 대 맞았습니다\n",
            "83300 원 남았습니다\n",
            "151 대 맞았습니다\n",
            "83200 원 남았습니다\n",
            "152 대 맞았습니다\n",
            "83100 원 남았습니다\n",
            "153 대 맞았습니다\n",
            "83000 원 남았습니다\n",
            "피했습니다\n",
            "82900 원 남았습니다\n",
            "154 대 맞았습니다\n",
            "82800 원 남았습니다\n",
            "155 대 맞았습니다\n",
            "82700 원 남았습니다\n",
            "156 대 맞았습니다\n",
            "82600 원 남았습니다\n",
            "157 대 맞았습니다\n",
            "82500 원 남았습니다\n",
            "158 대 맞았습니다\n",
            "82400 원 남았습니다\n",
            "159 대 맞았습니다\n",
            "82300 원 남았습니다\n",
            "160 대 맞았습니다\n",
            "82200 원 남았습니다\n",
            "161 대 맞았습니다\n",
            "82100 원 남았습니다\n",
            "162 대 맞았습니다\n",
            "82000 원 남았습니다\n",
            "피했습니다\n",
            "81900 원 남았습니다\n",
            "163 대 맞았습니다\n",
            "81800 원 남았습니다\n",
            "164 대 맞았습니다\n",
            "81700 원 남았습니다\n",
            "165 대 맞았습니다\n",
            "81600 원 남았습니다\n",
            "166 대 맞았습니다\n",
            "81500 원 남았습니다\n",
            "167 대 맞았습니다\n",
            "81400 원 남았습니다\n",
            "168 대 맞았습니다\n",
            "81300 원 남았습니다\n",
            "169 대 맞았습니다\n",
            "81200 원 남았습니다\n",
            "170 대 맞았습니다\n",
            "81100 원 남았습니다\n",
            "171 대 맞았습니다\n",
            "81000 원 남았습니다\n",
            "피했습니다\n",
            "80900 원 남았습니다\n",
            "172 대 맞았습니다\n",
            "80800 원 남았습니다\n",
            "173 대 맞았습니다\n",
            "80700 원 남았습니다\n",
            "174 대 맞았습니다\n",
            "80600 원 남았습니다\n",
            "175 대 맞았습니다\n",
            "80500 원 남았습니다\n",
            "176 대 맞았습니다\n",
            "80400 원 남았습니다\n",
            "177 대 맞았습니다\n",
            "80300 원 남았습니다\n",
            "178 대 맞았습니다\n",
            "80200 원 남았습니다\n",
            "179 대 맞았습니다\n",
            "80100 원 남았습니다\n",
            "180 대 맞았습니다\n",
            "80000 원 남았습니다\n",
            "피했습니다\n",
            "79900 원 남았습니다\n",
            "181 대 맞았습니다\n",
            "79800 원 남았습니다\n",
            "182 대 맞았습니다\n",
            "79700 원 남았습니다\n",
            "183 대 맞았습니다\n",
            "79600 원 남았습니다\n",
            "184 대 맞았습니다\n",
            "79500 원 남았습니다\n",
            "185 대 맞았습니다\n",
            "79400 원 남았습니다\n",
            "186 대 맞았습니다\n",
            "79300 원 남았습니다\n",
            "187 대 맞았습니다\n",
            "79200 원 남았습니다\n",
            "188 대 맞았습니다\n",
            "79100 원 남았습니다\n",
            "189 대 맞았습니다\n",
            "79000 원 남았습니다\n",
            "피했습니다\n",
            "78900 원 남았습니다\n",
            "190 대 맞았습니다\n",
            "78800 원 남았습니다\n",
            "191 대 맞았습니다\n",
            "78700 원 남았습니다\n",
            "192 대 맞았습니다\n",
            "78600 원 남았습니다\n",
            "193 대 맞았습니다\n",
            "78500 원 남았습니다\n",
            "194 대 맞았습니다\n",
            "78400 원 남았습니다\n",
            "195 대 맞았습니다\n",
            "78300 원 남았습니다\n",
            "196 대 맞았습니다\n",
            "78200 원 남았습니다\n",
            "197 대 맞았습니다\n",
            "78100 원 남았습니다\n",
            "198 대 맞았습니다\n",
            "78000 원 남았습니다\n",
            "피했습니다\n",
            "77900 원 남았습니다\n",
            "199 대 맞았습니다\n",
            "77800 원 남았습니다\n",
            "200 대 맞았습니다\n",
            "77700 원 남았습니다\n",
            "201 대 맞았습니다\n",
            "77600 원 남았습니다\n",
            "202 대 맞았습니다\n",
            "77500 원 남았습니다\n",
            "203 대 맞았습니다\n",
            "77400 원 남았습니다\n",
            "204 대 맞았습니다\n",
            "77300 원 남았습니다\n",
            "205 대 맞았습니다\n",
            "77200 원 남았습니다\n",
            "206 대 맞았습니다\n",
            "77100 원 남았습니다\n",
            "207 대 맞았습니다\n",
            "77000 원 남았습니다\n",
            "피했습니다\n",
            "76900 원 남았습니다\n",
            "208 대 맞았습니다\n",
            "76800 원 남았습니다\n",
            "209 대 맞았습니다\n",
            "76700 원 남았습니다\n",
            "210 대 맞았습니다\n",
            "76600 원 남았습니다\n",
            "211 대 맞았습니다\n",
            "76500 원 남았습니다\n",
            "212 대 맞았습니다\n",
            "76400 원 남았습니다\n",
            "213 대 맞았습니다\n",
            "76300 원 남았습니다\n",
            "214 대 맞았습니다\n",
            "76200 원 남았습니다\n",
            "215 대 맞았습니다\n",
            "76100 원 남았습니다\n",
            "216 대 맞았습니다\n",
            "76000 원 남았습니다\n",
            "피했습니다\n",
            "75900 원 남았습니다\n",
            "217 대 맞았습니다\n",
            "75800 원 남았습니다\n",
            "218 대 맞았습니다\n",
            "75700 원 남았습니다\n",
            "219 대 맞았습니다\n",
            "75600 원 남았습니다\n",
            "220 대 맞았습니다\n",
            "75500 원 남았습니다\n",
            "221 대 맞았습니다\n",
            "75400 원 남았습니다\n",
            "222 대 맞았습니다\n",
            "75300 원 남았습니다\n",
            "223 대 맞았습니다\n",
            "75200 원 남았습니다\n",
            "224 대 맞았습니다\n",
            "75100 원 남았습니다\n",
            "225 대 맞았습니다\n",
            "75000 원 남았습니다\n",
            "피했습니다\n",
            "74900 원 남았습니다\n",
            "226 대 맞았습니다\n",
            "74800 원 남았습니다\n",
            "227 대 맞았습니다\n",
            "74700 원 남았습니다\n",
            "228 대 맞았습니다\n",
            "74600 원 남았습니다\n",
            "229 대 맞았습니다\n",
            "74500 원 남았습니다\n",
            "230 대 맞았습니다\n",
            "74400 원 남았습니다\n",
            "231 대 맞았습니다\n",
            "74300 원 남았습니다\n",
            "232 대 맞았습니다\n",
            "74200 원 남았습니다\n",
            "233 대 맞았습니다\n",
            "74100 원 남았습니다\n",
            "234 대 맞았습니다\n",
            "74000 원 남았습니다\n",
            "피했습니다\n",
            "73900 원 남았습니다\n",
            "235 대 맞았습니다\n",
            "73800 원 남았습니다\n",
            "236 대 맞았습니다\n",
            "73700 원 남았습니다\n",
            "237 대 맞았습니다\n",
            "73600 원 남았습니다\n",
            "238 대 맞았습니다\n",
            "73500 원 남았습니다\n",
            "239 대 맞았습니다\n",
            "73400 원 남았습니다\n",
            "240 대 맞았습니다\n",
            "73300 원 남았습니다\n",
            "241 대 맞았습니다\n",
            "73200 원 남았습니다\n",
            "242 대 맞았습니다\n",
            "73100 원 남았습니다\n",
            "243 대 맞았습니다\n",
            "73000 원 남았습니다\n",
            "피했습니다\n",
            "72900 원 남았습니다\n",
            "244 대 맞았습니다\n",
            "72800 원 남았습니다\n",
            "245 대 맞았습니다\n",
            "72700 원 남았습니다\n",
            "246 대 맞았습니다\n",
            "72600 원 남았습니다\n",
            "247 대 맞았습니다\n",
            "72500 원 남았습니다\n",
            "248 대 맞았습니다\n",
            "72400 원 남았습니다\n",
            "249 대 맞았습니다\n",
            "72300 원 남았습니다\n",
            "250 대 맞았습니다\n",
            "72200 원 남았습니다\n",
            "251 대 맞았습니다\n",
            "72100 원 남았습니다\n",
            "252 대 맞았습니다\n",
            "72000 원 남았습니다\n",
            "피했습니다\n",
            "71900 원 남았습니다\n",
            "253 대 맞았습니다\n",
            "71800 원 남았습니다\n",
            "254 대 맞았습니다\n",
            "71700 원 남았습니다\n",
            "255 대 맞았습니다\n",
            "71600 원 남았습니다\n",
            "256 대 맞았습니다\n",
            "71500 원 남았습니다\n",
            "257 대 맞았습니다\n",
            "71400 원 남았습니다\n",
            "258 대 맞았습니다\n",
            "71300 원 남았습니다\n",
            "259 대 맞았습니다\n",
            "71200 원 남았습니다\n",
            "260 대 맞았습니다\n",
            "71100 원 남았습니다\n",
            "261 대 맞았습니다\n",
            "71000 원 남았습니다\n",
            "피했습니다\n",
            "70900 원 남았습니다\n",
            "262 대 맞았습니다\n",
            "70800 원 남았습니다\n",
            "263 대 맞았습니다\n",
            "70700 원 남았습니다\n",
            "264 대 맞았습니다\n",
            "70600 원 남았습니다\n",
            "265 대 맞았습니다\n",
            "70500 원 남았습니다\n",
            "266 대 맞았습니다\n",
            "70400 원 남았습니다\n",
            "267 대 맞았습니다\n",
            "70300 원 남았습니다\n",
            "268 대 맞았습니다\n",
            "70200 원 남았습니다\n",
            "269 대 맞았습니다\n",
            "70100 원 남았습니다\n",
            "270 대 맞았습니다\n",
            "70000 원 남았습니다\n",
            "피했습니다\n",
            "69900 원 남았습니다\n",
            "271 대 맞았습니다\n",
            "69800 원 남았습니다\n",
            "272 대 맞았습니다\n",
            "69700 원 남았습니다\n",
            "273 대 맞았습니다\n",
            "69600 원 남았습니다\n",
            "274 대 맞았습니다\n",
            "69500 원 남았습니다\n",
            "275 대 맞았습니다\n",
            "69400 원 남았습니다\n",
            "276 대 맞았습니다\n",
            "69300 원 남았습니다\n",
            "277 대 맞았습니다\n",
            "69200 원 남았습니다\n",
            "278 대 맞았습니다\n",
            "69100 원 남았습니다\n",
            "279 대 맞았습니다\n",
            "69000 원 남았습니다\n",
            "피했습니다\n",
            "68900 원 남았습니다\n",
            "280 대 맞았습니다\n",
            "68800 원 남았습니다\n",
            "281 대 맞았습니다\n",
            "68700 원 남았습니다\n",
            "282 대 맞았습니다\n",
            "68600 원 남았습니다\n",
            "283 대 맞았습니다\n",
            "68500 원 남았습니다\n",
            "284 대 맞았습니다\n",
            "68400 원 남았습니다\n",
            "285 대 맞았습니다\n",
            "68300 원 남았습니다\n",
            "286 대 맞았습니다\n",
            "68200 원 남았습니다\n",
            "287 대 맞았습니다\n",
            "68100 원 남았습니다\n",
            "288 대 맞았습니다\n",
            "68000 원 남았습니다\n",
            "피했습니다\n",
            "67900 원 남았습니다\n",
            "289 대 맞았습니다\n",
            "67800 원 남았습니다\n",
            "290 대 맞았습니다\n",
            "67700 원 남았습니다\n",
            "291 대 맞았습니다\n",
            "67600 원 남았습니다\n",
            "292 대 맞았습니다\n",
            "67500 원 남았습니다\n",
            "293 대 맞았습니다\n",
            "67400 원 남았습니다\n",
            "294 대 맞았습니다\n",
            "67300 원 남았습니다\n",
            "295 대 맞았습니다\n",
            "67200 원 남았습니다\n",
            "296 대 맞았습니다\n",
            "67100 원 남았습니다\n",
            "297 대 맞았습니다\n",
            "67000 원 남았습니다\n",
            "피했습니다\n",
            "66900 원 남았습니다\n",
            "298 대 맞았습니다\n",
            "66800 원 남았습니다\n",
            "299 대 맞았습니다\n",
            "66700 원 남았습니다\n",
            "300 대 맞았습니다\n",
            "66600 원 남았습니다\n",
            "301 대 맞았습니다\n",
            "66500 원 남았습니다\n",
            "302 대 맞았습니다\n",
            "66400 원 남았습니다\n",
            "303 대 맞았습니다\n",
            "66300 원 남았습니다\n",
            "304 대 맞았습니다\n",
            "66200 원 남았습니다\n",
            "305 대 맞았습니다\n",
            "66100 원 남았습니다\n",
            "306 대 맞았습니다\n",
            "66000 원 남았습니다\n",
            "피했습니다\n",
            "65900 원 남았습니다\n",
            "307 대 맞았습니다\n",
            "65800 원 남았습니다\n",
            "308 대 맞았습니다\n",
            "65700 원 남았습니다\n",
            "309 대 맞았습니다\n",
            "65600 원 남았습니다\n",
            "310 대 맞았습니다\n",
            "65500 원 남았습니다\n",
            "311 대 맞았습니다\n",
            "65400 원 남았습니다\n",
            "312 대 맞았습니다\n",
            "65300 원 남았습니다\n",
            "313 대 맞았습니다\n",
            "65200 원 남았습니다\n",
            "314 대 맞았습니다\n",
            "65100 원 남았습니다\n",
            "315 대 맞았습니다\n",
            "65000 원 남았습니다\n",
            "피했습니다\n",
            "64900 원 남았습니다\n",
            "316 대 맞았습니다\n",
            "64800 원 남았습니다\n",
            "317 대 맞았습니다\n",
            "64700 원 남았습니다\n",
            "318 대 맞았습니다\n",
            "64600 원 남았습니다\n",
            "319 대 맞았습니다\n",
            "64500 원 남았습니다\n",
            "320 대 맞았습니다\n",
            "64400 원 남았습니다\n",
            "321 대 맞았습니다\n",
            "64300 원 남았습니다\n",
            "322 대 맞았습니다\n",
            "64200 원 남았습니다\n",
            "323 대 맞았습니다\n",
            "64100 원 남았습니다\n",
            "324 대 맞았습니다\n",
            "64000 원 남았습니다\n",
            "피했습니다\n",
            "63900 원 남았습니다\n",
            "325 대 맞았습니다\n",
            "63800 원 남았습니다\n",
            "326 대 맞았습니다\n",
            "63700 원 남았습니다\n",
            "327 대 맞았습니다\n",
            "63600 원 남았습니다\n",
            "328 대 맞았습니다\n",
            "63500 원 남았습니다\n",
            "329 대 맞았습니다\n",
            "63400 원 남았습니다\n",
            "330 대 맞았습니다\n",
            "63300 원 남았습니다\n",
            "331 대 맞았습니다\n",
            "63200 원 남았습니다\n",
            "332 대 맞았습니다\n",
            "63100 원 남았습니다\n",
            "333 대 맞았습니다\n",
            "63000 원 남았습니다\n",
            "피했습니다\n",
            "62900 원 남았습니다\n",
            "334 대 맞았습니다\n",
            "62800 원 남았습니다\n",
            "335 대 맞았습니다\n",
            "62700 원 남았습니다\n",
            "336 대 맞았습니다\n",
            "62600 원 남았습니다\n",
            "337 대 맞았습니다\n",
            "62500 원 남았습니다\n",
            "338 대 맞았습니다\n",
            "62400 원 남았습니다\n",
            "339 대 맞았습니다\n",
            "62300 원 남았습니다\n",
            "340 대 맞았습니다\n",
            "62200 원 남았습니다\n",
            "341 대 맞았습니다\n",
            "62100 원 남았습니다\n",
            "342 대 맞았습니다\n",
            "62000 원 남았습니다\n",
            "피했습니다\n",
            "61900 원 남았습니다\n",
            "343 대 맞았습니다\n",
            "61800 원 남았습니다\n",
            "344 대 맞았습니다\n",
            "61700 원 남았습니다\n",
            "345 대 맞았습니다\n",
            "61600 원 남았습니다\n",
            "346 대 맞았습니다\n",
            "61500 원 남았습니다\n",
            "347 대 맞았습니다\n",
            "61400 원 남았습니다\n",
            "348 대 맞았습니다\n",
            "61300 원 남았습니다\n",
            "349 대 맞았습니다\n",
            "61200 원 남았습니다\n",
            "350 대 맞았습니다\n",
            "61100 원 남았습니다\n",
            "351 대 맞았습니다\n",
            "61000 원 남았습니다\n",
            "피했습니다\n",
            "60900 원 남았습니다\n",
            "352 대 맞았습니다\n",
            "60800 원 남았습니다\n",
            "353 대 맞았습니다\n",
            "60700 원 남았습니다\n",
            "354 대 맞았습니다\n",
            "60600 원 남았습니다\n",
            "355 대 맞았습니다\n",
            "60500 원 남았습니다\n",
            "356 대 맞았습니다\n",
            "60400 원 남았습니다\n",
            "357 대 맞았습니다\n",
            "60300 원 남았습니다\n",
            "358 대 맞았습니다\n",
            "60200 원 남았습니다\n",
            "359 대 맞았습니다\n",
            "60100 원 남았습니다\n",
            "360 대 맞았습니다\n",
            "60000 원 남았습니다\n",
            "피했습니다\n",
            "59900 원 남았습니다\n",
            "361 대 맞았습니다\n",
            "59800 원 남았습니다\n",
            "362 대 맞았습니다\n",
            "59700 원 남았습니다\n",
            "363 대 맞았습니다\n",
            "59600 원 남았습니다\n",
            "364 대 맞았습니다\n",
            "59500 원 남았습니다\n",
            "365 대 맞았습니다\n",
            "59400 원 남았습니다\n",
            "366 대 맞았습니다\n",
            "59300 원 남았습니다\n",
            "367 대 맞았습니다\n",
            "59200 원 남았습니다\n",
            "368 대 맞았습니다\n",
            "59100 원 남았습니다\n",
            "369 대 맞았습니다\n",
            "59000 원 남았습니다\n",
            "피했습니다\n",
            "58900 원 남았습니다\n",
            "370 대 맞았습니다\n",
            "58800 원 남았습니다\n",
            "371 대 맞았습니다\n",
            "58700 원 남았습니다\n",
            "372 대 맞았습니다\n",
            "58600 원 남았습니다\n",
            "373 대 맞았습니다\n",
            "58500 원 남았습니다\n",
            "374 대 맞았습니다\n",
            "58400 원 남았습니다\n",
            "375 대 맞았습니다\n",
            "58300 원 남았습니다\n",
            "376 대 맞았습니다\n",
            "58200 원 남았습니다\n",
            "377 대 맞았습니다\n",
            "58100 원 남았습니다\n",
            "378 대 맞았습니다\n",
            "58000 원 남았습니다\n",
            "피했습니다\n",
            "57900 원 남았습니다\n",
            "379 대 맞았습니다\n",
            "57800 원 남았습니다\n",
            "380 대 맞았습니다\n",
            "57700 원 남았습니다\n",
            "381 대 맞았습니다\n",
            "57600 원 남았습니다\n",
            "382 대 맞았습니다\n",
            "57500 원 남았습니다\n",
            "383 대 맞았습니다\n",
            "57400 원 남았습니다\n",
            "384 대 맞았습니다\n",
            "57300 원 남았습니다\n",
            "385 대 맞았습니다\n",
            "57200 원 남았습니다\n",
            "386 대 맞았습니다\n",
            "57100 원 남았습니다\n",
            "387 대 맞았습니다\n",
            "57000 원 남았습니다\n",
            "피했습니다\n",
            "56900 원 남았습니다\n",
            "388 대 맞았습니다\n",
            "56800 원 남았습니다\n",
            "389 대 맞았습니다\n",
            "56700 원 남았습니다\n",
            "390 대 맞았습니다\n",
            "56600 원 남았습니다\n",
            "391 대 맞았습니다\n",
            "56500 원 남았습니다\n",
            "392 대 맞았습니다\n",
            "56400 원 남았습니다\n",
            "393 대 맞았습니다\n",
            "56300 원 남았습니다\n",
            "394 대 맞았습니다\n",
            "56200 원 남았습니다\n",
            "395 대 맞았습니다\n",
            "56100 원 남았습니다\n",
            "396 대 맞았습니다\n",
            "56000 원 남았습니다\n",
            "피했습니다\n",
            "55900 원 남았습니다\n",
            "397 대 맞았습니다\n",
            "55800 원 남았습니다\n",
            "398 대 맞았습니다\n",
            "55700 원 남았습니다\n",
            "399 대 맞았습니다\n",
            "55600 원 남았습니다\n",
            "400 대 맞았습니다\n",
            "55500 원 남았습니다\n",
            "401 대 맞았습니다\n",
            "55400 원 남았습니다\n",
            "402 대 맞았습니다\n",
            "55300 원 남았습니다\n",
            "403 대 맞았습니다\n",
            "55200 원 남았습니다\n",
            "404 대 맞았습니다\n",
            "55100 원 남았습니다\n",
            "405 대 맞았습니다\n",
            "55000 원 남았습니다\n",
            "피했습니다\n",
            "54900 원 남았습니다\n",
            "406 대 맞았습니다\n",
            "54800 원 남았습니다\n",
            "407 대 맞았습니다\n",
            "54700 원 남았습니다\n",
            "408 대 맞았습니다\n",
            "54600 원 남았습니다\n",
            "409 대 맞았습니다\n",
            "54500 원 남았습니다\n",
            "410 대 맞았습니다\n",
            "54400 원 남았습니다\n",
            "411 대 맞았습니다\n",
            "54300 원 남았습니다\n",
            "412 대 맞았습니다\n",
            "54200 원 남았습니다\n",
            "413 대 맞았습니다\n",
            "54100 원 남았습니다\n",
            "414 대 맞았습니다\n",
            "54000 원 남았습니다\n",
            "피했습니다\n",
            "53900 원 남았습니다\n",
            "415 대 맞았습니다\n",
            "53800 원 남았습니다\n",
            "416 대 맞았습니다\n",
            "53700 원 남았습니다\n",
            "417 대 맞았습니다\n",
            "53600 원 남았습니다\n",
            "418 대 맞았습니다\n",
            "53500 원 남았습니다\n",
            "419 대 맞았습니다\n",
            "53400 원 남았습니다\n",
            "420 대 맞았습니다\n",
            "53300 원 남았습니다\n",
            "421 대 맞았습니다\n",
            "53200 원 남았습니다\n",
            "422 대 맞았습니다\n",
            "53100 원 남았습니다\n",
            "423 대 맞았습니다\n",
            "53000 원 남았습니다\n",
            "피했습니다\n",
            "52900 원 남았습니다\n",
            "424 대 맞았습니다\n",
            "52800 원 남았습니다\n",
            "425 대 맞았습니다\n",
            "52700 원 남았습니다\n",
            "426 대 맞았습니다\n",
            "52600 원 남았습니다\n",
            "427 대 맞았습니다\n",
            "52500 원 남았습니다\n",
            "428 대 맞았습니다\n",
            "52400 원 남았습니다\n",
            "429 대 맞았습니다\n",
            "52300 원 남았습니다\n",
            "430 대 맞았습니다\n",
            "52200 원 남았습니다\n",
            "431 대 맞았습니다\n",
            "52100 원 남았습니다\n",
            "432 대 맞았습니다\n",
            "52000 원 남았습니다\n",
            "피했습니다\n",
            "51900 원 남았습니다\n",
            "433 대 맞았습니다\n",
            "51800 원 남았습니다\n",
            "434 대 맞았습니다\n",
            "51700 원 남았습니다\n",
            "435 대 맞았습니다\n",
            "51600 원 남았습니다\n",
            "436 대 맞았습니다\n",
            "51500 원 남았습니다\n",
            "437 대 맞았습니다\n",
            "51400 원 남았습니다\n",
            "438 대 맞았습니다\n",
            "51300 원 남았습니다\n",
            "439 대 맞았습니다\n",
            "51200 원 남았습니다\n",
            "440 대 맞았습니다\n",
            "51100 원 남았습니다\n",
            "441 대 맞았습니다\n",
            "51000 원 남았습니다\n",
            "피했습니다\n",
            "50900 원 남았습니다\n",
            "442 대 맞았습니다\n",
            "50800 원 남았습니다\n",
            "443 대 맞았습니다\n",
            "50700 원 남았습니다\n",
            "444 대 맞았습니다\n",
            "50600 원 남았습니다\n",
            "445 대 맞았습니다\n",
            "50500 원 남았습니다\n",
            "446 대 맞았습니다\n",
            "50400 원 남았습니다\n",
            "447 대 맞았습니다\n",
            "50300 원 남았습니다\n",
            "448 대 맞았습니다\n",
            "50200 원 남았습니다\n",
            "449 대 맞았습니다\n",
            "50100 원 남았습니다\n",
            "450 대 맞았습니다\n",
            "50000 원 남았습니다\n",
            "피했습니다\n",
            "49900 원 남았습니다\n",
            "451 대 맞았습니다\n",
            "49800 원 남았습니다\n",
            "452 대 맞았습니다\n",
            "49700 원 남았습니다\n",
            "453 대 맞았습니다\n",
            "49600 원 남았습니다\n",
            "454 대 맞았습니다\n",
            "49500 원 남았습니다\n",
            "455 대 맞았습니다\n",
            "49400 원 남았습니다\n",
            "456 대 맞았습니다\n",
            "49300 원 남았습니다\n",
            "457 대 맞았습니다\n",
            "49200 원 남았습니다\n",
            "458 대 맞았습니다\n",
            "49100 원 남았습니다\n",
            "459 대 맞았습니다\n",
            "49000 원 남았습니다\n",
            "피했습니다\n",
            "48900 원 남았습니다\n",
            "460 대 맞았습니다\n",
            "48800 원 남았습니다\n",
            "461 대 맞았습니다\n",
            "48700 원 남았습니다\n",
            "462 대 맞았습니다\n",
            "48600 원 남았습니다\n",
            "463 대 맞았습니다\n",
            "48500 원 남았습니다\n",
            "464 대 맞았습니다\n",
            "48400 원 남았습니다\n",
            "465 대 맞았습니다\n",
            "48300 원 남았습니다\n",
            "466 대 맞았습니다\n",
            "48200 원 남았습니다\n",
            "467 대 맞았습니다\n",
            "48100 원 남았습니다\n",
            "468 대 맞았습니다\n",
            "48000 원 남았습니다\n",
            "피했습니다\n",
            "47900 원 남았습니다\n",
            "469 대 맞았습니다\n",
            "47800 원 남았습니다\n",
            "470 대 맞았습니다\n",
            "47700 원 남았습니다\n",
            "471 대 맞았습니다\n",
            "47600 원 남았습니다\n",
            "472 대 맞았습니다\n",
            "47500 원 남았습니다\n",
            "473 대 맞았습니다\n",
            "47400 원 남았습니다\n",
            "474 대 맞았습니다\n",
            "47300 원 남았습니다\n",
            "475 대 맞았습니다\n",
            "47200 원 남았습니다\n",
            "476 대 맞았습니다\n",
            "47100 원 남았습니다\n",
            "477 대 맞았습니다\n",
            "47000 원 남았습니다\n",
            "피했습니다\n",
            "46900 원 남았습니다\n",
            "478 대 맞았습니다\n",
            "46800 원 남았습니다\n",
            "479 대 맞았습니다\n",
            "46700 원 남았습니다\n",
            "480 대 맞았습니다\n",
            "46600 원 남았습니다\n",
            "481 대 맞았습니다\n",
            "46500 원 남았습니다\n",
            "482 대 맞았습니다\n",
            "46400 원 남았습니다\n",
            "483 대 맞았습니다\n",
            "46300 원 남았습니다\n",
            "484 대 맞았습니다\n",
            "46200 원 남았습니다\n",
            "485 대 맞았습니다\n",
            "46100 원 남았습니다\n",
            "486 대 맞았습니다\n",
            "46000 원 남았습니다\n",
            "피했습니다\n",
            "45900 원 남았습니다\n",
            "487 대 맞았습니다\n",
            "45800 원 남았습니다\n",
            "488 대 맞았습니다\n",
            "45700 원 남았습니다\n",
            "489 대 맞았습니다\n",
            "45600 원 남았습니다\n",
            "490 대 맞았습니다\n",
            "45500 원 남았습니다\n",
            "491 대 맞았습니다\n",
            "45400 원 남았습니다\n",
            "492 대 맞았습니다\n",
            "45300 원 남았습니다\n",
            "493 대 맞았습니다\n",
            "45200 원 남았습니다\n",
            "494 대 맞았습니다\n",
            "45100 원 남았습니다\n",
            "495 대 맞았습니다\n",
            "45000 원 남았습니다\n",
            "피했습니다\n",
            "44900 원 남았습니다\n",
            "496 대 맞았습니다\n",
            "44800 원 남았습니다\n",
            "497 대 맞았습니다\n",
            "44700 원 남았습니다\n",
            "498 대 맞았습니다\n",
            "44600 원 남았습니다\n",
            "499 대 맞았습니다\n",
            "44500 원 남았습니다\n",
            "500 대 맞았습니다\n",
            "44400 원 남았습니다\n",
            "501 대 맞았습니다\n",
            "44300 원 남았습니다\n",
            "502 대 맞았습니다\n",
            "44200 원 남았습니다\n",
            "503 대 맞았습니다\n",
            "44100 원 남았습니다\n",
            "504 대 맞았습니다\n",
            "44000 원 남았습니다\n",
            "피했습니다\n",
            "43900 원 남았습니다\n",
            "505 대 맞았습니다\n",
            "43800 원 남았습니다\n",
            "506 대 맞았습니다\n",
            "43700 원 남았습니다\n",
            "507 대 맞았습니다\n",
            "43600 원 남았습니다\n",
            "508 대 맞았습니다\n",
            "43500 원 남았습니다\n",
            "509 대 맞았습니다\n",
            "43400 원 남았습니다\n",
            "510 대 맞았습니다\n",
            "43300 원 남았습니다\n",
            "511 대 맞았습니다\n",
            "43200 원 남았습니다\n",
            "512 대 맞았습니다\n",
            "43100 원 남았습니다\n",
            "513 대 맞았습니다\n",
            "43000 원 남았습니다\n",
            "피했습니다\n",
            "42900 원 남았습니다\n",
            "514 대 맞았습니다\n",
            "42800 원 남았습니다\n",
            "515 대 맞았습니다\n",
            "42700 원 남았습니다\n",
            "516 대 맞았습니다\n",
            "42600 원 남았습니다\n",
            "517 대 맞았습니다\n",
            "42500 원 남았습니다\n",
            "518 대 맞았습니다\n",
            "42400 원 남았습니다\n",
            "519 대 맞았습니다\n",
            "42300 원 남았습니다\n",
            "520 대 맞았습니다\n",
            "42200 원 남았습니다\n",
            "521 대 맞았습니다\n",
            "42100 원 남았습니다\n",
            "522 대 맞았습니다\n",
            "42000 원 남았습니다\n",
            "피했습니다\n",
            "41900 원 남았습니다\n",
            "523 대 맞았습니다\n",
            "41800 원 남았습니다\n",
            "524 대 맞았습니다\n",
            "41700 원 남았습니다\n",
            "525 대 맞았습니다\n",
            "41600 원 남았습니다\n",
            "526 대 맞았습니다\n",
            "41500 원 남았습니다\n",
            "527 대 맞았습니다\n",
            "41400 원 남았습니다\n",
            "528 대 맞았습니다\n",
            "41300 원 남았습니다\n",
            "529 대 맞았습니다\n",
            "41200 원 남았습니다\n",
            "530 대 맞았습니다\n",
            "41100 원 남았습니다\n",
            "531 대 맞았습니다\n",
            "41000 원 남았습니다\n",
            "피했습니다\n",
            "40900 원 남았습니다\n",
            "532 대 맞았습니다\n",
            "40800 원 남았습니다\n",
            "533 대 맞았습니다\n",
            "40700 원 남았습니다\n",
            "534 대 맞았습니다\n",
            "40600 원 남았습니다\n",
            "535 대 맞았습니다\n",
            "40500 원 남았습니다\n",
            "536 대 맞았습니다\n",
            "40400 원 남았습니다\n",
            "537 대 맞았습니다\n",
            "40300 원 남았습니다\n",
            "538 대 맞았습니다\n",
            "40200 원 남았습니다\n",
            "539 대 맞았습니다\n",
            "40100 원 남았습니다\n",
            "540 대 맞았습니다\n",
            "40000 원 남았습니다\n",
            "피했습니다\n",
            "39900 원 남았습니다\n",
            "541 대 맞았습니다\n",
            "39800 원 남았습니다\n",
            "542 대 맞았습니다\n",
            "39700 원 남았습니다\n",
            "543 대 맞았습니다\n",
            "39600 원 남았습니다\n",
            "544 대 맞았습니다\n",
            "39500 원 남았습니다\n",
            "545 대 맞았습니다\n",
            "39400 원 남았습니다\n",
            "546 대 맞았습니다\n",
            "39300 원 남았습니다\n",
            "547 대 맞았습니다\n",
            "39200 원 남았습니다\n",
            "548 대 맞았습니다\n",
            "39100 원 남았습니다\n",
            "549 대 맞았습니다\n",
            "39000 원 남았습니다\n",
            "피했습니다\n",
            "38900 원 남았습니다\n",
            "550 대 맞았습니다\n",
            "38800 원 남았습니다\n",
            "551 대 맞았습니다\n",
            "38700 원 남았습니다\n",
            "552 대 맞았습니다\n",
            "38600 원 남았습니다\n",
            "553 대 맞았습니다\n",
            "38500 원 남았습니다\n",
            "554 대 맞았습니다\n",
            "38400 원 남았습니다\n",
            "555 대 맞았습니다\n",
            "38300 원 남았습니다\n",
            "556 대 맞았습니다\n",
            "38200 원 남았습니다\n",
            "557 대 맞았습니다\n",
            "38100 원 남았습니다\n",
            "558 대 맞았습니다\n",
            "38000 원 남았습니다\n",
            "피했습니다\n",
            "37900 원 남았습니다\n",
            "559 대 맞았습니다\n",
            "37800 원 남았습니다\n",
            "560 대 맞았습니다\n",
            "37700 원 남았습니다\n",
            "561 대 맞았습니다\n",
            "37600 원 남았습니다\n",
            "562 대 맞았습니다\n",
            "37500 원 남았습니다\n",
            "563 대 맞았습니다\n",
            "37400 원 남았습니다\n",
            "564 대 맞았습니다\n",
            "37300 원 남았습니다\n",
            "565 대 맞았습니다\n",
            "37200 원 남았습니다\n",
            "566 대 맞았습니다\n",
            "37100 원 남았습니다\n",
            "567 대 맞았습니다\n",
            "37000 원 남았습니다\n",
            "피했습니다\n",
            "36900 원 남았습니다\n",
            "568 대 맞았습니다\n",
            "36800 원 남았습니다\n",
            "569 대 맞았습니다\n",
            "36700 원 남았습니다\n",
            "570 대 맞았습니다\n",
            "36600 원 남았습니다\n",
            "571 대 맞았습니다\n",
            "36500 원 남았습니다\n",
            "572 대 맞았습니다\n",
            "36400 원 남았습니다\n",
            "573 대 맞았습니다\n",
            "36300 원 남았습니다\n",
            "574 대 맞았습니다\n",
            "36200 원 남았습니다\n",
            "575 대 맞았습니다\n",
            "36100 원 남았습니다\n",
            "576 대 맞았습니다\n",
            "36000 원 남았습니다\n",
            "피했습니다\n",
            "35900 원 남았습니다\n",
            "577 대 맞았습니다\n",
            "35800 원 남았습니다\n",
            "578 대 맞았습니다\n",
            "35700 원 남았습니다\n",
            "579 대 맞았습니다\n",
            "35600 원 남았습니다\n",
            "580 대 맞았습니다\n",
            "35500 원 남았습니다\n",
            "581 대 맞았습니다\n",
            "35400 원 남았습니다\n",
            "582 대 맞았습니다\n",
            "35300 원 남았습니다\n",
            "583 대 맞았습니다\n",
            "35200 원 남았습니다\n",
            "584 대 맞았습니다\n",
            "35100 원 남았습니다\n",
            "585 대 맞았습니다\n",
            "35000 원 남았습니다\n",
            "피했습니다\n",
            "34900 원 남았습니다\n",
            "586 대 맞았습니다\n",
            "34800 원 남았습니다\n",
            "587 대 맞았습니다\n",
            "34700 원 남았습니다\n",
            "588 대 맞았습니다\n",
            "34600 원 남았습니다\n",
            "589 대 맞았습니다\n",
            "34500 원 남았습니다\n",
            "590 대 맞았습니다\n",
            "34400 원 남았습니다\n",
            "591 대 맞았습니다\n",
            "34300 원 남았습니다\n",
            "592 대 맞았습니다\n",
            "34200 원 남았습니다\n",
            "593 대 맞았습니다\n",
            "34100 원 남았습니다\n",
            "594 대 맞았습니다\n",
            "34000 원 남았습니다\n",
            "피했습니다\n",
            "33900 원 남았습니다\n",
            "595 대 맞았습니다\n",
            "33800 원 남았습니다\n",
            "596 대 맞았습니다\n",
            "33700 원 남았습니다\n",
            "597 대 맞았습니다\n",
            "33600 원 남았습니다\n",
            "598 대 맞았습니다\n",
            "33500 원 남았습니다\n",
            "599 대 맞았습니다\n",
            "33400 원 남았습니다\n",
            "600 대 맞았습니다\n",
            "33300 원 남았습니다\n",
            "601 대 맞았습니다\n",
            "33200 원 남았습니다\n",
            "602 대 맞았습니다\n",
            "33100 원 남았습니다\n",
            "603 대 맞았습니다\n",
            "33000 원 남았습니다\n",
            "피했습니다\n",
            "32900 원 남았습니다\n",
            "604 대 맞았습니다\n",
            "32800 원 남았습니다\n",
            "605 대 맞았습니다\n",
            "32700 원 남았습니다\n",
            "606 대 맞았습니다\n",
            "32600 원 남았습니다\n",
            "607 대 맞았습니다\n",
            "32500 원 남았습니다\n",
            "608 대 맞았습니다\n",
            "32400 원 남았습니다\n",
            "609 대 맞았습니다\n",
            "32300 원 남았습니다\n",
            "610 대 맞았습니다\n",
            "32200 원 남았습니다\n",
            "611 대 맞았습니다\n",
            "32100 원 남았습니다\n",
            "612 대 맞았습니다\n",
            "32000 원 남았습니다\n",
            "피했습니다\n",
            "31900 원 남았습니다\n",
            "613 대 맞았습니다\n",
            "31800 원 남았습니다\n",
            "614 대 맞았습니다\n",
            "31700 원 남았습니다\n",
            "615 대 맞았습니다\n",
            "31600 원 남았습니다\n",
            "616 대 맞았습니다\n",
            "31500 원 남았습니다\n",
            "617 대 맞았습니다\n",
            "31400 원 남았습니다\n",
            "618 대 맞았습니다\n",
            "31300 원 남았습니다\n",
            "619 대 맞았습니다\n",
            "31200 원 남았습니다\n",
            "620 대 맞았습니다\n",
            "31100 원 남았습니다\n",
            "621 대 맞았습니다\n",
            "31000 원 남았습니다\n",
            "피했습니다\n",
            "30900 원 남았습니다\n",
            "622 대 맞았습니다\n",
            "30800 원 남았습니다\n",
            "623 대 맞았습니다\n",
            "30700 원 남았습니다\n",
            "624 대 맞았습니다\n",
            "30600 원 남았습니다\n",
            "625 대 맞았습니다\n",
            "30500 원 남았습니다\n",
            "626 대 맞았습니다\n",
            "30400 원 남았습니다\n",
            "627 대 맞았습니다\n",
            "30300 원 남았습니다\n",
            "628 대 맞았습니다\n",
            "30200 원 남았습니다\n",
            "629 대 맞았습니다\n",
            "30100 원 남았습니다\n",
            "630 대 맞았습니다\n",
            "30000 원 남았습니다\n",
            "피했습니다\n",
            "29900 원 남았습니다\n",
            "631 대 맞았습니다\n",
            "29800 원 남았습니다\n",
            "632 대 맞았습니다\n",
            "29700 원 남았습니다\n",
            "633 대 맞았습니다\n",
            "29600 원 남았습니다\n",
            "634 대 맞았습니다\n",
            "29500 원 남았습니다\n",
            "635 대 맞았습니다\n",
            "29400 원 남았습니다\n",
            "636 대 맞았습니다\n",
            "29300 원 남았습니다\n",
            "637 대 맞았습니다\n",
            "29200 원 남았습니다\n",
            "638 대 맞았습니다\n",
            "29100 원 남았습니다\n",
            "639 대 맞았습니다\n",
            "29000 원 남았습니다\n",
            "피했습니다\n",
            "28900 원 남았습니다\n",
            "640 대 맞았습니다\n",
            "28800 원 남았습니다\n",
            "641 대 맞았습니다\n",
            "28700 원 남았습니다\n",
            "642 대 맞았습니다\n",
            "28600 원 남았습니다\n",
            "643 대 맞았습니다\n",
            "28500 원 남았습니다\n",
            "644 대 맞았습니다\n",
            "28400 원 남았습니다\n",
            "645 대 맞았습니다\n",
            "28300 원 남았습니다\n",
            "646 대 맞았습니다\n",
            "28200 원 남았습니다\n",
            "647 대 맞았습니다\n",
            "28100 원 남았습니다\n",
            "648 대 맞았습니다\n",
            "28000 원 남았습니다\n",
            "피했습니다\n",
            "27900 원 남았습니다\n",
            "649 대 맞았습니다\n",
            "27800 원 남았습니다\n",
            "650 대 맞았습니다\n",
            "27700 원 남았습니다\n",
            "651 대 맞았습니다\n",
            "27600 원 남았습니다\n",
            "652 대 맞았습니다\n",
            "27500 원 남았습니다\n",
            "653 대 맞았습니다\n",
            "27400 원 남았습니다\n",
            "654 대 맞았습니다\n",
            "27300 원 남았습니다\n",
            "655 대 맞았습니다\n",
            "27200 원 남았습니다\n",
            "656 대 맞았습니다\n",
            "27100 원 남았습니다\n",
            "657 대 맞았습니다\n",
            "27000 원 남았습니다\n",
            "피했습니다\n",
            "26900 원 남았습니다\n",
            "658 대 맞았습니다\n",
            "26800 원 남았습니다\n",
            "659 대 맞았습니다\n",
            "26700 원 남았습니다\n",
            "660 대 맞았습니다\n",
            "26600 원 남았습니다\n",
            "661 대 맞았습니다\n",
            "26500 원 남았습니다\n",
            "662 대 맞았습니다\n",
            "26400 원 남았습니다\n",
            "663 대 맞았습니다\n",
            "26300 원 남았습니다\n",
            "664 대 맞았습니다\n",
            "26200 원 남았습니다\n",
            "665 대 맞았습니다\n",
            "26100 원 남았습니다\n",
            "666 대 맞았습니다\n",
            "26000 원 남았습니다\n",
            "피했습니다\n",
            "25900 원 남았습니다\n",
            "667 대 맞았습니다\n",
            "25800 원 남았습니다\n",
            "668 대 맞았습니다\n",
            "25700 원 남았습니다\n",
            "669 대 맞았습니다\n",
            "25600 원 남았습니다\n",
            "670 대 맞았습니다\n",
            "25500 원 남았습니다\n",
            "671 대 맞았습니다\n",
            "25400 원 남았습니다\n",
            "672 대 맞았습니다\n",
            "25300 원 남았습니다\n",
            "673 대 맞았습니다\n",
            "25200 원 남았습니다\n",
            "674 대 맞았습니다\n",
            "25100 원 남았습니다\n",
            "675 대 맞았습니다\n",
            "25000 원 남았습니다\n",
            "피했습니다\n",
            "24900 원 남았습니다\n",
            "676 대 맞았습니다\n",
            "24800 원 남았습니다\n",
            "677 대 맞았습니다\n",
            "24700 원 남았습니다\n",
            "678 대 맞았습니다\n",
            "24600 원 남았습니다\n",
            "679 대 맞았습니다\n",
            "24500 원 남았습니다\n",
            "680 대 맞았습니다\n",
            "24400 원 남았습니다\n",
            "681 대 맞았습니다\n",
            "24300 원 남았습니다\n",
            "682 대 맞았습니다\n",
            "24200 원 남았습니다\n",
            "683 대 맞았습니다\n",
            "24100 원 남았습니다\n",
            "684 대 맞았습니다\n",
            "24000 원 남았습니다\n",
            "피했습니다\n",
            "23900 원 남았습니다\n",
            "685 대 맞았습니다\n",
            "23800 원 남았습니다\n",
            "686 대 맞았습니다\n",
            "23700 원 남았습니다\n",
            "687 대 맞았습니다\n",
            "23600 원 남았습니다\n",
            "688 대 맞았습니다\n",
            "23500 원 남았습니다\n",
            "689 대 맞았습니다\n",
            "23400 원 남았습니다\n",
            "690 대 맞았습니다\n",
            "23300 원 남았습니다\n",
            "691 대 맞았습니다\n",
            "23200 원 남았습니다\n",
            "692 대 맞았습니다\n",
            "23100 원 남았습니다\n",
            "693 대 맞았습니다\n",
            "23000 원 남았습니다\n",
            "피했습니다\n",
            "22900 원 남았습니다\n",
            "694 대 맞았습니다\n",
            "22800 원 남았습니다\n",
            "695 대 맞았습니다\n",
            "22700 원 남았습니다\n",
            "696 대 맞았습니다\n",
            "22600 원 남았습니다\n",
            "697 대 맞았습니다\n",
            "22500 원 남았습니다\n",
            "698 대 맞았습니다\n",
            "22400 원 남았습니다\n",
            "699 대 맞았습니다\n",
            "22300 원 남았습니다\n",
            "700 대 맞았습니다\n",
            "22200 원 남았습니다\n",
            "701 대 맞았습니다\n",
            "22100 원 남았습니다\n",
            "702 대 맞았습니다\n",
            "22000 원 남았습니다\n",
            "피했습니다\n",
            "21900 원 남았습니다\n",
            "703 대 맞았습니다\n",
            "21800 원 남았습니다\n",
            "704 대 맞았습니다\n",
            "21700 원 남았습니다\n",
            "705 대 맞았습니다\n",
            "21600 원 남았습니다\n",
            "706 대 맞았습니다\n",
            "21500 원 남았습니다\n",
            "707 대 맞았습니다\n",
            "21400 원 남았습니다\n",
            "708 대 맞았습니다\n",
            "21300 원 남았습니다\n",
            "709 대 맞았습니다\n",
            "21200 원 남았습니다\n",
            "710 대 맞았습니다\n",
            "21100 원 남았습니다\n",
            "711 대 맞았습니다\n",
            "21000 원 남았습니다\n",
            "피했습니다\n",
            "20900 원 남았습니다\n",
            "712 대 맞았습니다\n",
            "20800 원 남았습니다\n",
            "713 대 맞았습니다\n",
            "20700 원 남았습니다\n",
            "714 대 맞았습니다\n",
            "20600 원 남았습니다\n",
            "715 대 맞았습니다\n",
            "20500 원 남았습니다\n",
            "716 대 맞았습니다\n",
            "20400 원 남았습니다\n",
            "717 대 맞았습니다\n",
            "20300 원 남았습니다\n",
            "718 대 맞았습니다\n",
            "20200 원 남았습니다\n",
            "719 대 맞았습니다\n",
            "20100 원 남았습니다\n",
            "720 대 맞았습니다\n",
            "20000 원 남았습니다\n",
            "피했습니다\n",
            "19900 원 남았습니다\n",
            "721 대 맞았습니다\n",
            "19800 원 남았습니다\n",
            "722 대 맞았습니다\n",
            "19700 원 남았습니다\n",
            "723 대 맞았습니다\n",
            "19600 원 남았습니다\n",
            "724 대 맞았습니다\n",
            "19500 원 남았습니다\n",
            "725 대 맞았습니다\n",
            "19400 원 남았습니다\n",
            "726 대 맞았습니다\n",
            "19300 원 남았습니다\n",
            "727 대 맞았습니다\n",
            "19200 원 남았습니다\n",
            "728 대 맞았습니다\n",
            "19100 원 남았습니다\n",
            "729 대 맞았습니다\n",
            "19000 원 남았습니다\n",
            "피했습니다\n",
            "18900 원 남았습니다\n",
            "730 대 맞았습니다\n",
            "18800 원 남았습니다\n",
            "731 대 맞았습니다\n",
            "18700 원 남았습니다\n",
            "732 대 맞았습니다\n",
            "18600 원 남았습니다\n",
            "733 대 맞았습니다\n",
            "18500 원 남았습니다\n",
            "734 대 맞았습니다\n",
            "18400 원 남았습니다\n",
            "735 대 맞았습니다\n",
            "18300 원 남았습니다\n",
            "736 대 맞았습니다\n",
            "18200 원 남았습니다\n",
            "737 대 맞았습니다\n",
            "18100 원 남았습니다\n",
            "738 대 맞았습니다\n",
            "18000 원 남았습니다\n",
            "피했습니다\n",
            "17900 원 남았습니다\n",
            "739 대 맞았습니다\n",
            "17800 원 남았습니다\n",
            "740 대 맞았습니다\n",
            "17700 원 남았습니다\n",
            "741 대 맞았습니다\n",
            "17600 원 남았습니다\n",
            "742 대 맞았습니다\n",
            "17500 원 남았습니다\n",
            "743 대 맞았습니다\n",
            "17400 원 남았습니다\n",
            "744 대 맞았습니다\n",
            "17300 원 남았습니다\n",
            "745 대 맞았습니다\n",
            "17200 원 남았습니다\n",
            "746 대 맞았습니다\n",
            "17100 원 남았습니다\n",
            "747 대 맞았습니다\n",
            "17000 원 남았습니다\n",
            "피했습니다\n",
            "16900 원 남았습니다\n",
            "748 대 맞았습니다\n",
            "16800 원 남았습니다\n",
            "749 대 맞았습니다\n",
            "16700 원 남았습니다\n",
            "750 대 맞았습니다\n",
            "16600 원 남았습니다\n",
            "751 대 맞았습니다\n",
            "16500 원 남았습니다\n",
            "752 대 맞았습니다\n",
            "16400 원 남았습니다\n",
            "753 대 맞았습니다\n",
            "16300 원 남았습니다\n",
            "754 대 맞았습니다\n",
            "16200 원 남았습니다\n",
            "755 대 맞았습니다\n",
            "16100 원 남았습니다\n",
            "756 대 맞았습니다\n",
            "16000 원 남았습니다\n",
            "피했습니다\n",
            "15900 원 남았습니다\n",
            "757 대 맞았습니다\n",
            "15800 원 남았습니다\n",
            "758 대 맞았습니다\n",
            "15700 원 남았습니다\n",
            "759 대 맞았습니다\n",
            "15600 원 남았습니다\n",
            "760 대 맞았습니다\n",
            "15500 원 남았습니다\n",
            "761 대 맞았습니다\n",
            "15400 원 남았습니다\n",
            "762 대 맞았습니다\n",
            "15300 원 남았습니다\n",
            "763 대 맞았습니다\n",
            "15200 원 남았습니다\n",
            "764 대 맞았습니다\n",
            "15100 원 남았습니다\n",
            "765 대 맞았습니다\n",
            "15000 원 남았습니다\n",
            "피했습니다\n",
            "14900 원 남았습니다\n",
            "766 대 맞았습니다\n",
            "14800 원 남았습니다\n",
            "767 대 맞았습니다\n",
            "14700 원 남았습니다\n",
            "768 대 맞았습니다\n",
            "14600 원 남았습니다\n",
            "769 대 맞았습니다\n",
            "14500 원 남았습니다\n",
            "770 대 맞았습니다\n",
            "14400 원 남았습니다\n",
            "771 대 맞았습니다\n",
            "14300 원 남았습니다\n",
            "772 대 맞았습니다\n",
            "14200 원 남았습니다\n",
            "773 대 맞았습니다\n",
            "14100 원 남았습니다\n",
            "774 대 맞았습니다\n",
            "14000 원 남았습니다\n",
            "피했습니다\n",
            "13900 원 남았습니다\n",
            "775 대 맞았습니다\n",
            "13800 원 남았습니다\n",
            "776 대 맞았습니다\n",
            "13700 원 남았습니다\n",
            "777 대 맞았습니다\n",
            "13600 원 남았습니다\n",
            "778 대 맞았습니다\n",
            "13500 원 남았습니다\n",
            "779 대 맞았습니다\n",
            "13400 원 남았습니다\n",
            "780 대 맞았습니다\n",
            "13300 원 남았습니다\n",
            "781 대 맞았습니다\n",
            "13200 원 남았습니다\n",
            "782 대 맞았습니다\n",
            "13100 원 남았습니다\n",
            "783 대 맞았습니다\n",
            "13000 원 남았습니다\n",
            "피했습니다\n",
            "12900 원 남았습니다\n",
            "784 대 맞았습니다\n",
            "12800 원 남았습니다\n",
            "785 대 맞았습니다\n",
            "12700 원 남았습니다\n",
            "786 대 맞았습니다\n",
            "12600 원 남았습니다\n",
            "787 대 맞았습니다\n",
            "12500 원 남았습니다\n",
            "788 대 맞았습니다\n",
            "12400 원 남았습니다\n",
            "789 대 맞았습니다\n",
            "12300 원 남았습니다\n",
            "790 대 맞았습니다\n",
            "12200 원 남았습니다\n",
            "791 대 맞았습니다\n",
            "12100 원 남았습니다\n",
            "792 대 맞았습니다\n",
            "12000 원 남았습니다\n",
            "피했습니다\n",
            "11900 원 남았습니다\n",
            "793 대 맞았습니다\n",
            "11800 원 남았습니다\n",
            "794 대 맞았습니다\n",
            "11700 원 남았습니다\n",
            "795 대 맞았습니다\n",
            "11600 원 남았습니다\n",
            "796 대 맞았습니다\n",
            "11500 원 남았습니다\n",
            "797 대 맞았습니다\n",
            "11400 원 남았습니다\n",
            "798 대 맞았습니다\n",
            "11300 원 남았습니다\n",
            "799 대 맞았습니다\n",
            "11200 원 남았습니다\n",
            "800 대 맞았습니다\n",
            "11100 원 남았습니다\n",
            "801 대 맞았습니다\n",
            "11000 원 남았습니다\n",
            "피했습니다\n",
            "10900 원 남았습니다\n",
            "802 대 맞았습니다\n",
            "10800 원 남았습니다\n",
            "803 대 맞았습니다\n",
            "10700 원 남았습니다\n",
            "804 대 맞았습니다\n",
            "10600 원 남았습니다\n",
            "805 대 맞았습니다\n",
            "10500 원 남았습니다\n",
            "806 대 맞았습니다\n",
            "10400 원 남았습니다\n",
            "807 대 맞았습니다\n",
            "10300 원 남았습니다\n",
            "808 대 맞았습니다\n",
            "10200 원 남았습니다\n",
            "809 대 맞았습니다\n",
            "10100 원 남았습니다\n",
            "810 대 맞았습니다\n",
            "10000 원 남았습니다\n",
            "피했습니다\n",
            "9900 원 남았습니다\n",
            "811 대 맞았습니다\n",
            "9800 원 남았습니다\n",
            "812 대 맞았습니다\n",
            "9700 원 남았습니다\n",
            "813 대 맞았습니다\n",
            "9600 원 남았습니다\n",
            "814 대 맞았습니다\n",
            "9500 원 남았습니다\n",
            "815 대 맞았습니다\n",
            "9400 원 남았습니다\n",
            "816 대 맞았습니다\n",
            "9300 원 남았습니다\n",
            "817 대 맞았습니다\n",
            "9200 원 남았습니다\n",
            "818 대 맞았습니다\n",
            "9100 원 남았습니다\n",
            "819 대 맞았습니다\n",
            "9000 원 남았습니다\n",
            "피했습니다\n",
            "8900 원 남았습니다\n",
            "820 대 맞았습니다\n",
            "8800 원 남았습니다\n",
            "821 대 맞았습니다\n",
            "8700 원 남았습니다\n",
            "822 대 맞았습니다\n",
            "8600 원 남았습니다\n",
            "823 대 맞았습니다\n",
            "8500 원 남았습니다\n",
            "824 대 맞았습니다\n",
            "8400 원 남았습니다\n",
            "825 대 맞았습니다\n",
            "8300 원 남았습니다\n",
            "826 대 맞았습니다\n",
            "8200 원 남았습니다\n",
            "827 대 맞았습니다\n",
            "8100 원 남았습니다\n",
            "828 대 맞았습니다\n",
            "8000 원 남았습니다\n",
            "피했습니다\n",
            "7900 원 남았습니다\n",
            "829 대 맞았습니다\n",
            "7800 원 남았습니다\n",
            "830 대 맞았습니다\n",
            "7700 원 남았습니다\n",
            "831 대 맞았습니다\n",
            "7600 원 남았습니다\n",
            "832 대 맞았습니다\n",
            "7500 원 남았습니다\n",
            "833 대 맞았습니다\n",
            "7400 원 남았습니다\n",
            "834 대 맞았습니다\n",
            "7300 원 남았습니다\n",
            "835 대 맞았습니다\n",
            "7200 원 남았습니다\n",
            "836 대 맞았습니다\n",
            "7100 원 남았습니다\n",
            "837 대 맞았습니다\n",
            "7000 원 남았습니다\n",
            "피했습니다\n",
            "6900 원 남았습니다\n",
            "838 대 맞았습니다\n",
            "6800 원 남았습니다\n",
            "839 대 맞았습니다\n",
            "6700 원 남았습니다\n",
            "840 대 맞았습니다\n",
            "6600 원 남았습니다\n",
            "841 대 맞았습니다\n",
            "6500 원 남았습니다\n",
            "842 대 맞았습니다\n",
            "6400 원 남았습니다\n",
            "843 대 맞았습니다\n",
            "6300 원 남았습니다\n",
            "844 대 맞았습니다\n",
            "6200 원 남았습니다\n",
            "845 대 맞았습니다\n",
            "6100 원 남았습니다\n",
            "846 대 맞았습니다\n",
            "6000 원 남았습니다\n",
            "피했습니다\n",
            "5900 원 남았습니다\n",
            "847 대 맞았습니다\n",
            "5800 원 남았습니다\n",
            "848 대 맞았습니다\n",
            "5700 원 남았습니다\n",
            "849 대 맞았습니다\n",
            "5600 원 남았습니다\n",
            "850 대 맞았습니다\n",
            "5500 원 남았습니다\n",
            "851 대 맞았습니다\n",
            "5400 원 남았습니다\n",
            "852 대 맞았습니다\n",
            "5300 원 남았습니다\n",
            "853 대 맞았습니다\n",
            "5200 원 남았습니다\n",
            "854 대 맞았습니다\n",
            "5100 원 남았습니다\n",
            "855 대 맞았습니다\n",
            "5000 원 남았습니다\n",
            "피했습니다\n",
            "4900 원 남았습니다\n",
            "856 대 맞았습니다\n",
            "4800 원 남았습니다\n",
            "857 대 맞았습니다\n",
            "4700 원 남았습니다\n",
            "858 대 맞았습니다\n",
            "4600 원 남았습니다\n",
            "859 대 맞았습니다\n",
            "4500 원 남았습니다\n",
            "860 대 맞았습니다\n",
            "4400 원 남았습니다\n",
            "861 대 맞았습니다\n",
            "4300 원 남았습니다\n",
            "862 대 맞았습니다\n",
            "4200 원 남았습니다\n",
            "863 대 맞았습니다\n",
            "4100 원 남았습니다\n",
            "864 대 맞았습니다\n",
            "4000 원 남았습니다\n",
            "피했습니다\n",
            "3900 원 남았습니다\n",
            "865 대 맞았습니다\n",
            "3800 원 남았습니다\n",
            "866 대 맞았습니다\n",
            "3700 원 남았습니다\n",
            "867 대 맞았습니다\n",
            "3600 원 남았습니다\n",
            "868 대 맞았습니다\n",
            "3500 원 남았습니다\n",
            "869 대 맞았습니다\n",
            "3400 원 남았습니다\n",
            "870 대 맞았습니다\n",
            "3300 원 남았습니다\n",
            "871 대 맞았습니다\n",
            "3200 원 남았습니다\n",
            "872 대 맞았습니다\n",
            "3100 원 남았습니다\n",
            "873 대 맞았습니다\n",
            "3000 원 남았습니다\n",
            "피했습니다\n",
            "2900 원 남았습니다\n",
            "874 대 맞았습니다\n",
            "2800 원 남았습니다\n",
            "875 대 맞았습니다\n",
            "2700 원 남았습니다\n",
            "876 대 맞았습니다\n",
            "2600 원 남았습니다\n",
            "877 대 맞았습니다\n",
            "2500 원 남았습니다\n",
            "878 대 맞았습니다\n",
            "2400 원 남았습니다\n",
            "879 대 맞았습니다\n",
            "2300 원 남았습니다\n",
            "880 대 맞았습니다\n",
            "2200 원 남았습니다\n",
            "881 대 맞았습니다\n",
            "2100 원 남았습니다\n",
            "882 대 맞았습니다\n",
            "2000 원 남았습니다\n",
            "피했습니다\n",
            "1900 원 남았습니다\n",
            "883 대 맞았습니다\n",
            "1800 원 남았습니다\n",
            "884 대 맞았습니다\n",
            "1700 원 남았습니다\n",
            "885 대 맞았습니다\n",
            "1600 원 남았습니다\n",
            "886 대 맞았습니다\n",
            "1500 원 남았습니다\n",
            "887 대 맞았습니다\n",
            "1400 원 남았습니다\n",
            "888 대 맞았습니다\n",
            "1300 원 남았습니다\n",
            "889 대 맞았습니다\n",
            "1200 원 남았습니다\n",
            "890 대 맞았습니다\n",
            "1100 원 남았습니다\n",
            "891 대 맞았습니다\n",
            "1000 원 남았습니다\n",
            "피했습니다\n",
            "900 원 남았습니다\n",
            "892 대 맞았습니다\n",
            "800 원 남았습니다\n",
            "893 대 맞았습니다\n",
            "700 원 남았습니다\n",
            "894 대 맞았습니다\n",
            "600 원 남았습니다\n",
            "895 대 맞았습니다\n",
            "500 원 남았습니다\n",
            "896 대 맞았습니다\n",
            "400 원 남았습니다\n",
            "897 대 맞았습니다\n",
            "300 원 남았습니다\n",
            "898 대 맞았습니다\n",
            "200 원 남았습니다\n",
            "899 대 맞았습니다\n",
            "100 원 남았습니다\n",
            "900 대 맞았습니다\n",
            "0 원 남았습니다\n",
            "피했습니다\n"
          ]
        }
      ]
    }
  ]
}