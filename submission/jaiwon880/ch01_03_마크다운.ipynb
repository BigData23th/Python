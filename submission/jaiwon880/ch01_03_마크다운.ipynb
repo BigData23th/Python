{
  "nbformat": 4,
  "nbformat_minor": 0,
  "metadata": {
    "colab": {
      "provenance": [],
      "include_colab_link": true
    },
    "kernelspec": {
      "name": "python3",
      "display_name": "Python 3"
    },
    "language_info": {
      "name": "python"
    },
    "accelerator": "GPU",
    "gpuClass": "standard"
  },
  "cells": [
    {
      "cell_type": "markdown",
      "metadata": {
        "id": "view-in-github",
        "colab_type": "text"
      },
      "source": [
        "<a href=\"https://colab.research.google.com/github/jaiwon880/Python_bd23_hjw/blob/main/submission/jaiwon880/ch01_03_%EB%A7%88%ED%81%AC%EB%8B%A4%EC%9A%B4.ipynb\" target=\"_parent\"><img src=\"https://colab.research.google.com/assets/colab-badge.svg\" alt=\"Open In Colab\"/></a>"
      ]
    },
    {
      "cell_type": "markdown",
      "source": [
        "# 제목 (Headline)\n",
        "## 2단계 제목\n",
        "### 3단계 제목\n",
        "#### 4단계 제목\n",
        "##### 5단계 제목"
      ],
      "metadata": {
        "id": "TgGTJoM456kv"
      }
    },
    {
      "cell_type": "markdown",
      "source": [
        "#수평선\n",
        "\n",
        "텍스트에 ---를 바로 붙이면 '#'과 같은 효과\n",
        "\n",
        "(수평선)\n",
        "\n",
        "---"
      ],
      "metadata": {
        "id": "gZc5OEwO6esT"
      }
    },
    {
      "cell_type": "markdown",
      "source": [
        "줄바꿈 <br> 줄바꿈"
      ],
      "metadata": {
        "id": "MR-xIgbX60iC"
      }
    },
    {
      "cell_type": "markdown",
      "source": [
        "**굵게**\n",
        "*기울게*\n",
        "__굵게__\n",
        "_기울게_\n",
        "~~취소선~~\n",
        "<u>밑줄</u>\n",
        "<mark>형광펜</mark>\n"
      ],
      "metadata": {
        "id": "QapS8amh64MZ"
      }
    },
    {
      "cell_type": "markdown",
      "source": [
        "> 인용문\n",
        ">> 인용문 안에 인용문\n",
        ">>> 인용문 안에 인용문 안에 인용문\n",
        ">>>> 인용문 안에 인용문 안에 인용문 인용문"
      ],
      "metadata": {
        "id": "i3uAhzUr7G5i"
      }
    },
    {
      "cell_type": "markdown",
      "source": [
        "순서가 없는 리스트\n",
        "* 사과\n",
        "* 배\n",
        "* 자두\n",
        "\n",
        "순서가 있는 리스트\n",
        "1. 파이썬\n",
        "2. 자바\n",
        "3. SQL\n",
        "\n",
        "순서가 있는 리스트2\n",
        "1. 파이썬\n",
        "1. 자바\n",
        "1. SQL\n",
        "\n",
        "들여쓰기\n",
        "* 사과\n",
        "  * 껍질\n",
        "      * 볶음\n",
        "* 위\n",
        "    * 아래 (Tab x 2 = 코드블록)\n",
        "    **굵게**\n",
        "\n",
        "*코드 블록 -> 이 안에 꾸며주는 마크다운 문법 무시"
      ],
      "metadata": {
        "id": "PpLwx6hO7Qjo"
      }
    },
    {
      "cell_type": "markdown",
      "source": [
        "코드 블록\n",
        "\n",
        "한 줄 코드\n",
        "`print('Hello World')` -> 음영 처리\n",
        "\n",
        "여러 줄 코드 블록\n",
        "```\n",
        "print(\"hello\")\n",
        "print(\"hello\")\n",
        "```"
      ],
      "metadata": {
        "id": "r__K5GlO7NbH"
      }
    },
    {
      "cell_type": "markdown",
      "source": [
        "|책의 제목|작가|출판일|\n",
        "|-|-|-|\n",
        "|장발장|변영인 3세|2022.09.01|\n",
        "|파이썬|김철수 27세|1971.09.01|\n",
        "\n",
        "\n",
        "|책의 제목|작가|출판일|\n",
        "|-:|-|:-|\n",
        "|장발장|변영인 3세|2022.09.01|\n",
        "|파이썬|김철수 27세|1971.09.01|\n",
        "\n",
        "\n",
        "|책의 제목|작가|출판일|\n",
        "|-:|:-:-:|:-|\n",
        "|장발장|변영인 3세|2022.09.01|\n",
        "|파이썬|김철수 27세|1971.09.01|"
      ],
      "metadata": {
        "id": "BMz_Q_kM8wnm"
      }
    },
    {
      "cell_type": "markdown",
      "source": [
        "![이미지 설명](https://www.naver.com)\n",
        "\n",
        "![쿼카](https://www.traveller.com.au/content/dam/images/g/u/n/q/h/0/image.related.articleLeadwide.620x349.gunpvd.png/1488330286332.png)"
      ],
      "metadata": {
        "id": "nQdE-qkg9qlE"
      }
    },
    {
      "cell_type": "markdown",
      "source": [
        "- [ ] 체크박스\n",
        "- [x] 체크된 체크박스"
      ],
      "metadata": {
        "id": "-YIMc2s--A5J"
      }
    }
  ]
}