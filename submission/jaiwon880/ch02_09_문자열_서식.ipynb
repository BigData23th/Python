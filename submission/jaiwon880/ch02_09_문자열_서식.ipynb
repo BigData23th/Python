{
  "nbformat": 4,
  "nbformat_minor": 0,
  "metadata": {
    "colab": {
      "provenance": [],
      "include_colab_link": true
    },
    "kernelspec": {
      "name": "python3",
      "display_name": "Python 3"
    },
    "language_info": {
      "name": "python"
    }
  },
  "cells": [
    {
      "cell_type": "markdown",
      "metadata": {
        "id": "view-in-github",
        "colab_type": "text"
      },
      "source": [
        "<a href=\"https://colab.research.google.com/github/jaiwon880/Python_bd23_hjw/blob/main/submission/jaiwon880/ch02_09_%EB%AC%B8%EC%9E%90%EC%97%B4_%EC%84%9C%EC%8B%9D.ipynb\" target=\"_parent\"><img src=\"https://colab.research.google.com/assets/colab-badge.svg\" alt=\"Open In Colab\"/></a>"
      ]
    },
    {
      "cell_type": "markdown",
      "source": [
        "# 문자열 서식"
      ],
      "metadata": {
        "id": "QiBSq5Bq143A"
      }
    },
    {
      "cell_type": "markdown",
      "source": [
        "파이썬에서 문자열 포맷팅을 할 때는 f-string, format 메소드, 서식 지정자를 사용할 수 있습니다."
      ],
      "metadata": {
        "id": "wegxJ51w16PT"
      }
    },
    {
      "cell_type": "markdown",
      "source": [
        "## f-string"
      ],
      "metadata": {
        "id": "N0-o1WfZ1_n_"
      }
    },
    {
      "cell_type": "markdown",
      "source": [
        "f-string은 파이썬 3.6 이후부터 사용 가능한 문자열 포맷팅 방법 중 하나입니다. f-string을 사용하면 문자열 안에서 변수의 값을 간단하게 삽입할 수 있으며, 이를 통해 가독성과 코드 작성의 편의성이 크게 향상됩니다."
      ],
      "metadata": {
        "id": "hiZyEX3h2CfD"
      }
    },
    {
      "cell_type": "code",
      "execution_count": 2,
      "metadata": {
        "id": "yALOnLZtvlNp"
      },
      "outputs": [],
      "source": [
        "name = \"Alice\"\n",
        "age = 25\n"
      ]
    },
    {
      "cell_type": "code",
      "source": [
        "print(\"이름:\", name, \"나이:\",age,\"세\", sep=\"\")"
      ],
      "metadata": {
        "colab": {
          "base_uri": "https://localhost:8080/"
        },
        "id": "XNTPmAUHrlRb",
        "outputId": "31658ccf-7a79-478a-c01d-2a1c429139ce"
      },
      "execution_count": 4,
      "outputs": [
        {
          "output_type": "stream",
          "name": "stdout",
          "text": [
            "이름:Alice나이:25세\n"
          ]
        }
      ]
    },
    {
      "cell_type": "code",
      "source": [
        "# f\"...\" f-string\n",
        "# f\"텍스트...{변수명, 리터럴(값)}\" 포맷팅 된 문자열 표현\n",
        "f\"이름: {name}, 나이: {age}세\""
      ],
      "metadata": {
        "colab": {
          "base_uri": "https://localhost:8080/",
          "height": 35
        },
        "id": "NLdtHJj1rswd",
        "outputId": "989f1077-4a9c-49c0-a141-684368d18c04"
      },
      "execution_count": 18,
      "outputs": [
        {
          "output_type": "execute_result",
          "data": {
            "text/plain": [
              "'이름: Alice, 나이: 25세'"
            ],
            "application/vnd.google.colaboratory.intrinsic+json": {
              "type": "string"
            }
          },
          "metadata": {},
          "execution_count": 18
        }
      ]
    },
    {
      "cell_type": "code",
      "source": [
        "print(f\"이름: {name}, 나이: {age}세\")"
      ],
      "metadata": {
        "colab": {
          "base_uri": "https://localhost:8080/"
        },
        "id": "r87E_0E3riZH",
        "outputId": "1eb98d1e-4178-45d7-b4a6-02a91f1c9849"
      },
      "execution_count": 6,
      "outputs": [
        {
          "output_type": "stream",
          "name": "stdout",
          "text": [
            "이름: Alice, 나이: 25세\n"
          ]
        }
      ]
    },
    {
      "cell_type": "code",
      "source": [
        "# f{...:d} 숫자(정수) 표현을 강제 (int를 씌워주는 효과)\n",
        "f\"{age:d}\"# decimal 10진법"
      ],
      "metadata": {
        "colab": {
          "base_uri": "https://localhost:8080/",
          "height": 35
        },
        "id": "eFvXiHvKspvS",
        "outputId": "31221c24-2cf5-431c-9c66-c906819826a9"
      },
      "execution_count": 20,
      "outputs": [
        {
          "output_type": "execute_result",
          "data": {
            "text/plain": [
              "'25'"
            ],
            "application/vnd.google.colaboratory.intrinsic+json": {
              "type": "string"
            }
          },
          "metadata": {},
          "execution_count": 20
        }
      ]
    },
    {
      "cell_type": "code",
      "source": [
        "f\"{0.0025:d}\" # 정수가 아니면 오류가 남"
      ],
      "metadata": {
        "colab": {
          "base_uri": "https://localhost:8080/",
          "height": 172
        },
        "id": "jNaiZs38uAh3",
        "outputId": "31cc1c71-80e6-4790-fe5e-135a7d191c88"
      },
      "execution_count": 21,
      "outputs": [
        {
          "output_type": "error",
          "ename": "ValueError",
          "evalue": "ignored",
          "traceback": [
            "\u001b[0;31m---------------------------------------------------------------------------\u001b[0m",
            "\u001b[0;31mValueError\u001b[0m                                Traceback (most recent call last)",
            "\u001b[0;32m<ipython-input-21-1395984cbbb7>\u001b[0m in \u001b[0;36m<module>\u001b[0;34m\u001b[0m\n\u001b[0;32m----> 1\u001b[0;31m \u001b[0;34mf\"{0.0025:d}\"\u001b[0m\u001b[0;34m\u001b[0m\u001b[0;34m\u001b[0m\u001b[0m\n\u001b[0m",
            "\u001b[0;31mValueError\u001b[0m: Unknown format code 'd' for object of type 'float'"
          ]
        }
      ]
    },
    {
      "cell_type": "code",
      "source": [
        "f\"{name:d}\" # decimal"
      ],
      "metadata": {
        "colab": {
          "base_uri": "https://localhost:8080/",
          "height": 172
        },
        "id": "5etV0BVasyNY",
        "outputId": "68b2af44-121c-438d-9e3e-e6c5c1aa8226"
      },
      "execution_count": 9,
      "outputs": [
        {
          "output_type": "error",
          "ename": "ValueError",
          "evalue": "ignored",
          "traceback": [
            "\u001b[0;31m---------------------------------------------------------------------------\u001b[0m",
            "\u001b[0;31mValueError\u001b[0m                                Traceback (most recent call last)",
            "\u001b[0;32m<ipython-input-9-44aff626e5d7>\u001b[0m in \u001b[0;36m<module>\u001b[0;34m\u001b[0m\n\u001b[0;32m----> 1\u001b[0;31m \u001b[0;34mf\"{name:d}\"\u001b[0m \u001b[0;31m# decimal\u001b[0m\u001b[0;34m\u001b[0m\u001b[0;34m\u001b[0m\u001b[0m\n\u001b[0m",
            "\u001b[0;31mValueError\u001b[0m: Unknown format code 'd' for object of type 'str'"
          ]
        }
      ]
    },
    {
      "cell_type": "code",
      "source": [
        "f\"{age:0d}\",f\"{1:02d}\", f\"{age:04}\", str(age).zfill(4)  "
      ],
      "metadata": {
        "colab": {
          "base_uri": "https://localhost:8080/"
        },
        "id": "2363BiBWtPJX",
        "outputId": "8c8d7993-eeec-464f-9f58-40ff1ee2a041"
      },
      "execution_count": 22,
      "outputs": [
        {
          "output_type": "execute_result",
          "data": {
            "text/plain": [
              "('25', '01', '0025', '0025')"
            ]
          },
          "metadata": {},
          "execution_count": 22
        }
      ]
    },
    {
      "cell_type": "code",
      "source": [
        "print(f\"{age:+010d}\")  # 총길이 양수를 나타낼 때 , 음수는 값이 0일 때"
      ],
      "metadata": {
        "colab": {
          "base_uri": "https://localhost:8080/"
        },
        "id": "AZV3SQzquaR-",
        "outputId": "9476cc63-ab2d-420f-f000-f198313f2961"
      },
      "execution_count": 23,
      "outputs": [
        {
          "output_type": "stream",
          "name": "stdout",
          "text": [
            "+000000025\n"
          ]
        }
      ]
    },
    {
      "cell_type": "code",
      "source": [
        "height = 175.5\n",
        "f\"{height:.2f}\" # f{...:.[표시하고싶은자리수]f}: float를 나타냄"
      ],
      "metadata": {
        "colab": {
          "base_uri": "https://localhost:8080/",
          "height": 35
        },
        "id": "AIzixhhQu2Hu",
        "outputId": "2bd94255-6ee4-4b08-8b2b-9db5e7015589"
      },
      "execution_count": 28,
      "outputs": [
        {
          "output_type": "execute_result",
          "data": {
            "text/plain": [
              "'175.50'"
            ],
            "application/vnd.google.colaboratory.intrinsic+json": {
              "type": "string"
            }
          },
          "metadata": {},
          "execution_count": 28
        }
      ]
    },
    {
      "cell_type": "code",
      "source": [
        "f\"{height:010.2f}\" # f{...:.[표시하고싶은자리수]f}: float를 나타냄"
      ],
      "metadata": {
        "colab": {
          "base_uri": "https://localhost:8080/",
          "height": 35
        },
        "id": "fqgksv4gvTy9",
        "outputId": "d4ffdfac-193a-4ac5-9f28-8a3b3279706c"
      },
      "execution_count": 29,
      "outputs": [
        {
          "output_type": "execute_result",
          "data": {
            "text/plain": [
              "'0000175.50'"
            ],
            "application/vnd.google.colaboratory.intrinsic+json": {
              "type": "string"
            }
          },
          "metadata": {},
          "execution_count": 29
        }
      ]
    },
    {
      "cell_type": "code",
      "source": [
        "f\"{age}\", f'{age}',f'''{age}''',f\"\"\"{age}\"\"\" # 전부 f-string으로 사용할 수 있다."
      ],
      "metadata": {
        "colab": {
          "base_uri": "https://localhost:8080/"
        },
        "id": "kJ3KwbDQwGsg",
        "outputId": "70dae651-0bb1-4c91-885b-45c81ee65e57"
      },
      "execution_count": 30,
      "outputs": [
        {
          "output_type": "execute_result",
          "data": {
            "text/plain": [
              "('25', '25', '25', '25')"
            ]
          },
          "metadata": {},
          "execution_count": 30
        }
      ]
    },
    {
      "cell_type": "markdown",
      "source": [
        "### format 메소드"
      ],
      "metadata": {
        "id": "AHUelcsL2IRR"
      }
    },
    {
      "cell_type": "code",
      "source": [
        "name = \"Alice\"\n",
        "age = 25\n",
        "height = 175.5\n",
        "\n",
        "# formatted_str = \"이름: {}, 나이: {}세\".format(name,age) # 순서 설정\n",
        "formatted_str2 = \"이름: {name}, 나이: {age}세\".format(age=age,name=name) # 키워드 기반, 순서 설정 안 해도 됨\n",
        "# print(formatted_str)\n",
        "print(formatted_str2)\n",
        "\n",
        "\n",
        "a = \"{}\".format(age)\n",
        "print(a)\n",
        "b = \"{:010d}\".format(age)\n",
        "print(b)\n",
        "c = \"{:+010d}\".format(age)\n",
        "print(c)\n",
        "d = \"{:010.2f}\".format(height)\n",
        "print(d)"
      ],
      "metadata": {
        "colab": {
          "base_uri": "https://localhost:8080/"
        },
        "id": "Gr_6JVoN2FCu",
        "outputId": "1b962ed2-da03-4f2f-cd31-29e90562b93f"
      },
      "execution_count": 38,
      "outputs": [
        {
          "output_type": "stream",
          "name": "stdout",
          "text": [
            "이름: Alice, 나이: 25세\n",
            "25\n",
            "0000000025\n",
            "+000000025\n",
            "0000175.50\n"
          ]
        }
      ]
    },
    {
      "cell_type": "markdown",
      "source": [
        "### 서식 지정자"
      ],
      "metadata": {
        "id": "kubSFPUy2P18"
      }
    },
    {
      "cell_type": "markdown",
      "source": [
        "서식 지정자는 문자열 포맷팅에서 사용하는 기호로, 변수의 값을 특정한 형식으로 표현할 때 사용됩니다. 서식 지정자는 % 기호를 사용하여 문자열에 삽입합니다."
      ],
      "metadata": {
        "id": "TC8qXJoh2Rlg"
      }
    },
    {
      "cell_type": "code",
      "source": [
        "name = \"Alice\"\n",
        "age = 25\n",
        "height = 175.5\n",
        "\n",
        "formatted_str = \"이름: %s 나이: %d세\" % (name,age)\n",
        "print(formatted_str)\n",
        "\n",
        "\n",
        "# a = \"{}\".format(age)\n",
        "a = \"%d\" % age\n",
        "print(a)\n",
        "\n",
        "# b = \"{:010d}\".format(age)\n",
        "b = \"%010d\" % age\n",
        "print(b)\n",
        "\n",
        "\n",
        "# c = \"{:+010d}\".format(age)\n",
        "c = \"%+010d\" % age\n",
        "print(c)\n",
        "\n",
        "\n",
        "# d = \"{:010.2f}\".format(height)\n",
        "d = \"%.2f\" % height\n",
        "print(d)"
      ],
      "metadata": {
        "colab": {
          "base_uri": "https://localhost:8080/"
        },
        "id": "Q9CEispz2MsF",
        "outputId": "abcb162d-3ae1-41a6-e8ca-0fc531f48eb1"
      },
      "execution_count": 47,
      "outputs": [
        {
          "output_type": "stream",
          "name": "stdout",
          "text": [
            "이름: Alice 나이: 25세\n",
            "25\n",
            "0000000025\n",
            "+000000025\n",
            "175.50\n"
          ]
        }
      ]
    },
    {
      "cell_type": "markdown",
      "source": [
        "## 서식 문자"
      ],
      "metadata": {
        "id": "aAsDwVk027Z1"
      }
    },
    {
      "cell_type": "markdown",
      "source": [
        "서식 지정자에서는 %s, %d, %f 등의 서식 문자를 사용하여 출력할 값의 데이터 타입을 지정할 수 있습니다. 이 서식 문자를 사용하여 문자열, 숫자, 소수점 등을 출력할 수 있습니다. 서식 문자는 f-string, format 메소드 등에서도 활용할 수 있습니다. (%s는 기본값이라 생략됨)\n",
        "\n",
        "%d와 %f를 사용할 때는 정수형 변수와 실수형 변수를 출력할 수 있으며, %s는 문자열 변수를 출력합니다. 이때 %s를 사용할 경우, 변수의 데이터 타입과 상관없이 모든 값을 출력할 수 있습니다."
      ],
      "metadata": {
        "id": "Rk8xmil13AUh"
      }
    },
    {
      "cell_type": "code",
      "source": [
        "# %s : 문자열을 출력할 때 사용합니다.\n",
        "formatted_name = \"이름: %s\" % name\n",
        "print(formatted_name)\n",
        "print(f\"이름: {name}\")"
      ],
      "metadata": {
        "colab": {
          "base_uri": "https://localhost:8080/"
        },
        "id": "a7HrNqpa2WHX",
        "outputId": "c33817d4-f4ef-417f-8599-5847481b4ae4"
      },
      "execution_count": 50,
      "outputs": [
        {
          "output_type": "stream",
          "name": "stdout",
          "text": [
            "이름: Alice\n",
            "이름: Alice\n"
          ]
        }
      ]
    },
    {
      "cell_type": "code",
      "source": [
        "# %d : 10진수 정수를 출력할 때 사용합니다.\n",
        "age = 25\n",
        "formatted_age = \"나이: %d\" % age\n",
        "print(formatted_name)\n",
        "print(f\"나이: {age:d}세\")"
      ],
      "metadata": {
        "colab": {
          "base_uri": "https://localhost:8080/"
        },
        "id": "_szPQML_3Q5G",
        "outputId": "4083d8f1-b441-4af5-a681-e71ec813a088"
      },
      "execution_count": 52,
      "outputs": [
        {
          "output_type": "stream",
          "name": "stdout",
          "text": [
            "이름: Alice\n",
            "나이: 25세\n"
          ]
        }
      ]
    },
    {
      "cell_type": "code",
      "source": [
        "# %f : 실수를 출력할 때 사용합니다. 기본적으로 소수점 이하 6자리까지 출력됩니다.\n",
        "height = 175.5\n",
        "formatted_height = \"키: %fcm\" % height # 기본 f는 6자리\n",
        "print(formatted_height)\n",
        "print(f\"키: {height:.6f}cm\")"
      ],
      "metadata": {
        "colab": {
          "base_uri": "https://localhost:8080/"
        },
        "id": "4uUnI1DK3UXF",
        "outputId": "987aad2f-721f-47a3-a0e7-6c5ade613ae2"
      },
      "execution_count": 55,
      "outputs": [
        {
          "output_type": "stream",
          "name": "stdout",
          "text": [
            "키: 175.500000cm\n",
            "키: 175.500000cm\n"
          ]
        }
      ]
    },
    {
      "cell_type": "markdown",
      "source": [
        "서식 문자를 사용하여 출력할 값의 자리수를 지정할 수도 있습니다. 자리수를 지정하면 해당 자리수만큼 출력되며, 값의 길이가 자리수보다 작으면 빈 칸이 채워집니다."
      ],
      "metadata": {
        "id": "VrTFs87K3ZbS"
      }
    },
    {
      "cell_type": "code",
      "source": [
        "# %[너비]d : [너비] 자리에 출력할 숫자의 자리수를 지정합니다.\n",
        "num = 123\n",
        "a = \"%d\" % num\n",
        "b = \"%5d\" % num\n",
        "c = \"%010d\" % num\n",
        "d = \"%-5d\" % num\n",
        "e = \"+%d\" % num\n",
        "\n",
        "print(a,b,c,d,e)"
      ],
      "metadata": {
        "colab": {
          "base_uri": "https://localhost:8080/"
        },
        "id": "VzvSd8n23Xyj",
        "outputId": "76fcbf30-edfa-4a3f-fdda-69e9e0a59e01"
      },
      "execution_count": 56,
      "outputs": [
        {
          "output_type": "stream",
          "name": "stdout",
          "text": [
            "123   123 0000000123 123   +123\n"
          ]
        }
      ]
    },
    {
      "cell_type": "code",
      "source": [
        "# %[너비].[정밀도]f : [너비] 자리에 출력할 숫자의 자리수를, [정밀도] 자리에 출력할 소수점 이하 자리수를 지정합니다.\n",
        "num2 = 3.1415926535\n",
        "\n",
        "a = \"%f\" % num2\n",
        "b = \"%.2f\" % num2\n",
        "c = \"%10.2f\" % num2\n",
        "d = \"%010.2f\" % num2\n",
        "e = \"%-10.2f\" % num2\n",
        "f = \"%+f\" % num2\n",
        "\n",
        "print(a,b,c,d,e,f)"
      ],
      "metadata": {
        "colab": {
          "base_uri": "https://localhost:8080/"
        },
        "id": "aZL70I7S3ceb",
        "outputId": "59637ec7-b880-487b-8ae3-3a4e54b9a201"
      },
      "execution_count": 62,
      "outputs": [
        {
          "output_type": "stream",
          "name": "stdout",
          "text": [
            "3.141593 3.14       3.14 0000003.14 3.14       +3.141593\n"
          ]
        }
      ]
    }
  ]
}