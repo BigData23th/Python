{
  "nbformat": 4,
  "nbformat_minor": 0,
  "metadata": {
    "colab": {
      "provenance": [],
      "include_colab_link": true
    },
    "kernelspec": {
      "name": "python3",
      "display_name": "Python 3"
    },
    "language_info": {
      "name": "python"
    }
  },
  "cells": [
    {
      "cell_type": "markdown",
      "metadata": {
        "id": "view-in-github",
        "colab_type": "text"
      },
      "source": [
        "<a href=\"https://colab.research.google.com/github/jaiwon880/Python_bd23_hjw/blob/main/submission/jaiwon880/ch02_08_%EB%AC%B8%EC%9E%90%EC%97%B4_%EC%9D%91%EC%9A%A9.ipynb\" target=\"_parent\"><img src=\"https://colab.research.google.com/assets/colab-badge.svg\" alt=\"Open In Colab\"/></a>"
      ]
    },
    {
      "cell_type": "markdown",
      "source": [
        "# 문자열 응용 (원본에 영향을 안 미침)"
      ],
      "metadata": {
        "id": "rSPGVAoSBoaB"
      }
    },
    {
      "cell_type": "markdown",
      "source": [
        "지금까지 리스트 사용 방법을 알아보았습니다. 리스트는 요소 여러 개가 연속적으로 이어져 있죠? 마찬가지로 문자열도 문자 여러 개가 연속적으로 이어져 있는 시퀀스 자료형이라 리스트와 비슷한 점이 많습니다."
      ],
      "metadata": {
        "id": "pk9ZeChoBqPB"
      }
    },
    {
      "cell_type": "markdown",
      "source": [
        "## 문자열 조작하기"
      ],
      "metadata": {
        "id": "UsQVy59tBrtp"
      }
    },
    {
      "cell_type": "markdown",
      "source": [
        "### 문자열 바꾸기"
      ],
      "metadata": {
        "id": "kc2FDOEiBt-i"
      }
    },
    {
      "cell_type": "markdown",
      "source": [
        "replace('바꿀문자열', '새문자열')은 문자열 안의 문자열을 다른 문자열로 바꿉니다(문자열 자체는 변경하지 않으며 바뀐 결과를 반환합니다). 다음은 문자열 'Hello, world!'에서 'world'를 'Python'으로 바꾼 뒤 결과를 반환합니다."
      ],
      "metadata": {
        "id": "iRc-Kh3lBvsN"
      }
    },
    {
      "cell_type": "code",
      "execution_count": 4,
      "metadata": {
        "id": "vl5NO4cX4I6o",
        "colab": {
          "base_uri": "https://localhost:8080/",
          "height": 35
        },
        "outputId": "052647b2-ecda-4371-f43d-41b6458f9705"
      },
      "outputs": [
        {
          "output_type": "execute_result",
          "data": {
            "text/plain": [
              "'킹아메리카노'"
            ],
            "application/vnd.google.colaboratory.intrinsic+json": {
              "type": "string"
            }
          },
          "metadata": {},
          "execution_count": 4
        }
      ],
      "source": [
        "a = \"킹아메리카노\"\n",
        "a.replace(a,\"헤이즐넛\")\n",
        "a # 원본 변경 X"
      ]
    },
    {
      "cell_type": "markdown",
      "source": [
        "만약 바뀐 결과를 유지하고 싶다면 문자열이 저장된 변수에 replace를 사용한 뒤 다시 변수에 할당해주면 됩니다."
      ],
      "metadata": {
        "id": "QNZJrXLcB66I"
      }
    },
    {
      "cell_type": "code",
      "source": [
        "b = a.replace(\"킹\", \"헤이즐넛\")\n",
        "b"
      ],
      "metadata": {
        "colab": {
          "base_uri": "https://localhost:8080/",
          "height": 35
        },
        "id": "vfIbJUHSB3GX",
        "outputId": "5521a92d-d81c-4f73-f516-e5af603113e0"
      },
      "execution_count": 5,
      "outputs": [
        {
          "output_type": "execute_result",
          "data": {
            "text/plain": [
              "'헤이즐넛아메리카노'"
            ],
            "application/vnd.google.colaboratory.intrinsic+json": {
              "type": "string"
            }
          },
          "metadata": {},
          "execution_count": 5
        }
      ]
    },
    {
      "cell_type": "markdown",
      "source": [
        "### 문자열 분리하기"
      ],
      "metadata": {
        "id": "t_JeYJb0CU8g"
      }
    },
    {
      "cell_type": "markdown",
      "source": [
        "이제 문자열을 분리하는 방법입니다.\n",
        "\n",
        "split()은 공백을 기준으로 문자열을 분리하여 리스트로 만듭니다. 지금까지 input으로 문자열을 입력받은 뒤 리스트로 만든 메서드가 바로 이 split입니다."
      ],
      "metadata": {
        "id": "4dviG3QYCXaq"
      }
    },
    {
      "cell_type": "code",
      "source": [
        "a = \"태조 정종 태종 세종 문종 단종 세조\"\n",
        "a.split(), a"
      ],
      "metadata": {
        "colab": {
          "base_uri": "https://localhost:8080/"
        },
        "id": "h6uZo9ybCQZG",
        "outputId": "d1cbbcc1-0c39-4fb5-a2c5-7cd19ad224c1"
      },
      "execution_count": 7,
      "outputs": [
        {
          "output_type": "execute_result",
          "data": {
            "text/plain": [
              "(['태조', '정종', '태종', '세종', '문종', '단종', '세조'], '태조 정종 태종 세종 문종 단종 세조')"
            ]
          },
          "metadata": {},
          "execution_count": 7
        }
      ]
    },
    {
      "cell_type": "markdown",
      "source": [
        "split('기준문자열')과 같이 기준 문자열을 지정하면 기준 문자열로 문자열을 분리합니다. 즉, 문자열에서 각 단어가 ,(콤마)와 공백으로 구분되어 있을 때 ', '으로 문자열을 분리하면 단어만 리스트로 만듭니다."
      ],
      "metadata": {
        "id": "rCAeYiTRCZwM"
      }
    },
    {
      "cell_type": "code",
      "source": [
        "a = \"태조,정종,태종,세종,문종,단종,세조\"\n",
        "a.split(\",\"),a"
      ],
      "metadata": {
        "colab": {
          "base_uri": "https://localhost:8080/"
        },
        "id": "iX5CrLX4CYzW",
        "outputId": "9d404482-fb16-4b40-b7b4-6a8b23f1f895"
      },
      "execution_count": 9,
      "outputs": [
        {
          "output_type": "execute_result",
          "data": {
            "text/plain": [
              "(['태조', '정종', '태종', '세종', '문종', '단종', '세조'], '태조,정종,태종,세종,문종,단종,세조')"
            ]
          },
          "metadata": {},
          "execution_count": 9
        }
      ]
    },
    {
      "cell_type": "code",
      "source": [
        "a = \"태조;정종;태종;세종,문종,단종,세조\"\n",
        "a.split(\";\"),a"
      ],
      "metadata": {
        "colab": {
          "base_uri": "https://localhost:8080/"
        },
        "id": "kRk0dH4yio-a",
        "outputId": "74daaaec-b166-404d-f3a2-4d4a24f1a448"
      },
      "execution_count": 10,
      "outputs": [
        {
          "output_type": "execute_result",
          "data": {
            "text/plain": [
              "(['태조', '정종', '태종', '세종,문종,단종,세조'], '태조;정종;태종;세종,문종,단종,세조')"
            ]
          },
          "metadata": {},
          "execution_count": 10
        }
      ]
    },
    {
      "cell_type": "markdown",
      "source": [
        "### 구분자 문자열과 문자열 리스트 연결하기"
      ],
      "metadata": {
        "id": "Y9PFkGVICdRG"
      }
    },
    {
      "cell_type": "markdown",
      "source": [
        "문자열을 분리하여 리스트로 만들었으니 다시 연결하는 방법도 있겠죠?\n",
        "\n",
        "join(리스트)는 구분자 문자열과 문자열 리스트의 요소를 연결하여 문자열로 만듭니다. 다음은 공백 ' '에 join을 사용하여 각 문자열 사이에 공백이 들어가도록 만듭니다.."
      ],
      "metadata": {
        "id": "SN9X67EBCfeG"
      }
    },
    {
      "cell_type": "code",
      "source": [
        "# join - 일부가 된다는 뜻\n",
        "b = ['태조', '정종', '태종', '세종', '문종', '단종', '세조']\n",
        "\" \".join(b)"
      ],
      "metadata": {
        "colab": {
          "base_uri": "https://localhost:8080/",
          "height": 35
        },
        "id": "piMSC5bfCbsX",
        "outputId": "54900b37-14d6-4038-a937-bf7497a298a1"
      },
      "execution_count": 12,
      "outputs": [
        {
          "output_type": "execute_result",
          "data": {
            "text/plain": [
              "'태조 정종 태종 세종 문종 단종 세조'"
            ],
            "application/vnd.google.colaboratory.intrinsic+json": {
              "type": "string"
            }
          },
          "metadata": {},
          "execution_count": 12
        }
      ]
    },
    {
      "cell_type": "code",
      "source": [
        "# 마이너스 '-'에 join을 사용하면 각 문자열 사이에 마이너스가 들어가겠죠?\n",
        "\"-\".join(b)\n",
        "\"*\".join(b)"
      ],
      "metadata": {
        "colab": {
          "base_uri": "https://localhost:8080/",
          "height": 35
        },
        "id": "SaNk3IlFChJW",
        "outputId": "89909ee6-f15b-430b-f7fa-0ee6f8d614a0"
      },
      "execution_count": 14,
      "outputs": [
        {
          "output_type": "execute_result",
          "data": {
            "text/plain": [
              "'태조*정종*태종*세종*문종*단종*세조'"
            ],
            "application/vnd.google.colaboratory.intrinsic+json": {
              "type": "string"
            }
          },
          "metadata": {},
          "execution_count": 14
        }
      ]
    },
    {
      "cell_type": "code",
      "source": [
        "\"&\".join(\"집에 가고 싶다\") # <- 리스트로 인식이 됨."
      ],
      "metadata": {
        "colab": {
          "base_uri": "https://localhost:8080/",
          "height": 35
        },
        "id": "zY8yjWQajcJT",
        "outputId": "5f1cbbda-6dfb-411f-db48-d8f48a8f2456"
      },
      "execution_count": 15,
      "outputs": [
        {
          "output_type": "execute_result",
          "data": {
            "text/plain": [
              "'집&에& &가&고& &싶&다'"
            ],
            "application/vnd.google.colaboratory.intrinsic+json": {
              "type": "string"
            }
          },
          "metadata": {},
          "execution_count": 15
        }
      ]
    },
    {
      "cell_type": "markdown",
      "source": [
        "### 소문자를 대문자로 바꾸기"
      ],
      "metadata": {
        "id": "3S9_1rvECnLY"
      }
    },
    {
      "cell_type": "markdown",
      "source": [
        "이번에는 문자열의 문자를 대소문자로 바꾸는 방법입니다.\n",
        "\n",
        "upper()는 문자열의 문자를 모두 대문자로 바꿉니다. 만약 문자열 안에 대문자가 있다면 그대로 유지됩니다."
      ],
      "metadata": {
        "id": "QfCNQ6JPCo8N"
      }
    },
    {
      "cell_type": "code",
      "source": [
        "\"JamesPotato\".upper() # uppercase"
      ],
      "metadata": {
        "colab": {
          "base_uri": "https://localhost:8080/",
          "height": 35
        },
        "id": "9r_5qVXVClmd",
        "outputId": "b74c8242-6e33-4f26-bc9c-4f005eaf14a9"
      },
      "execution_count": 19,
      "outputs": [
        {
          "output_type": "execute_result",
          "data": {
            "text/plain": [
              "'JAMESPOTATO'"
            ],
            "application/vnd.google.colaboratory.intrinsic+json": {
              "type": "string"
            }
          },
          "metadata": {},
          "execution_count": 19
        }
      ]
    },
    {
      "cell_type": "code",
      "source": [
        "\"JamesPotato\".upper().isupper() # 대문자로만 구성이 되어있음 ? ?"
      ],
      "metadata": {
        "colab": {
          "base_uri": "https://localhost:8080/"
        },
        "id": "KVhAFMEnkNU4",
        "outputId": "06c9e919-f386-4c03-b5be-ad571a1b77f5"
      },
      "execution_count": 21,
      "outputs": [
        {
          "output_type": "execute_result",
          "data": {
            "text/plain": [
              "True"
            ]
          },
          "metadata": {},
          "execution_count": 21
        }
      ]
    },
    {
      "cell_type": "markdown",
      "source": [
        "### 대문자를 소문자로 바꾸기"
      ],
      "metadata": {
        "id": "AWkxZeToCrtK"
      }
    },
    {
      "cell_type": "markdown",
      "source": [
        "lower()는 문자열의 문자를 모두 소문자로 바꿉니다. 만약 문자열 안에 소문자가 있다면 그대로 유지됩니다.\n",
        "\n"
      ],
      "metadata": {
        "id": "toTgebNNCt1N"
      }
    },
    {
      "cell_type": "code",
      "source": [
        "\"JamesPotato\".lower()"
      ],
      "metadata": {
        "colab": {
          "base_uri": "https://localhost:8080/",
          "height": 35
        },
        "id": "i2pWhmfsCquO",
        "outputId": "bfec4604-a134-4776-9757-a26e0ec57330"
      },
      "execution_count": 20,
      "outputs": [
        {
          "output_type": "execute_result",
          "data": {
            "text/plain": [
              "'jamespotato'"
            ],
            "application/vnd.google.colaboratory.intrinsic+json": {
              "type": "string"
            }
          },
          "metadata": {},
          "execution_count": 20
        }
      ]
    },
    {
      "cell_type": "code",
      "source": [
        "\"JamesPotato\".lower().islower()"
      ],
      "metadata": {
        "colab": {
          "base_uri": "https://localhost:8080/"
        },
        "id": "GiSw81kukX58",
        "outputId": "3cac9deb-da81-48d5-e46f-2b7b630dab35"
      },
      "execution_count": 22,
      "outputs": [
        {
          "output_type": "execute_result",
          "data": {
            "text/plain": [
              "True"
            ]
          },
          "metadata": {},
          "execution_count": 22
        }
      ]
    },
    {
      "cell_type": "code",
      "source": [
        "\"a12345\".isnumeric(), \"\".isalpha()"
      ],
      "metadata": {
        "colab": {
          "base_uri": "https://localhost:8080/"
        },
        "id": "zeHNHiN2kado",
        "outputId": "ece4523f-c52c-417c-9e43-34cbbd38b668"
      },
      "execution_count": 25,
      "outputs": [
        {
          "output_type": "execute_result",
          "data": {
            "text/plain": [
              "(False, False)"
            ]
          },
          "metadata": {},
          "execution_count": 25
        }
      ]
    },
    {
      "cell_type": "markdown",
      "source": [
        "### 양쪽 공백 삭제하기"
      ],
      "metadata": {
        "id": "OBuALV_5C7Oy"
      }
    },
    {
      "cell_type": "markdown",
      "source": [
        "strip()은 문자열에서 양쪽에 있는 연속된 모든 공백을 삭제합니다."
      ],
      "metadata": {
        "id": "ZZK_vMjxC9PY"
      }
    },
    {
      "cell_type": "code",
      "source": [
        "\"     python \".strip()"
      ],
      "metadata": {
        "colab": {
          "base_uri": "https://localhost:8080/",
          "height": 35
        },
        "id": "bDIY3BWbC53e",
        "outputId": "7ee2e86d-004d-43a8-a719-4dd3d6e01364"
      },
      "execution_count": 27,
      "outputs": [
        {
          "output_type": "execute_result",
          "data": {
            "text/plain": [
              "'python'"
            ],
            "application/vnd.google.colaboratory.intrinsic+json": {
              "type": "string"
            }
          },
          "metadata": {},
          "execution_count": 27
        }
      ]
    },
    {
      "cell_type": "code",
      "source": [
        "\"     python \".lstrip()"
      ],
      "metadata": {
        "colab": {
          "base_uri": "https://localhost:8080/",
          "height": 35
        },
        "id": "u-WaFc9_k0cV",
        "outputId": "c09c45f1-1882-4cfd-e676-d2d2832bdf70"
      },
      "execution_count": 28,
      "outputs": [
        {
          "output_type": "execute_result",
          "data": {
            "text/plain": [
              "'python '"
            ],
            "application/vnd.google.colaboratory.intrinsic+json": {
              "type": "string"
            }
          },
          "metadata": {},
          "execution_count": 28
        }
      ]
    },
    {
      "cell_type": "code",
      "source": [
        "\"     python \".rstrip()"
      ],
      "metadata": {
        "colab": {
          "base_uri": "https://localhost:8080/",
          "height": 35
        },
        "id": "_MOOgnhHk3jB",
        "outputId": "ed395b10-e2d5-4c67-d7a1-8342e4c9b805"
      },
      "execution_count": 29,
      "outputs": [
        {
          "output_type": "execute_result",
          "data": {
            "text/plain": [
              "'     python'"
            ],
            "application/vnd.google.colaboratory.intrinsic+json": {
              "type": "string"
            }
          },
          "metadata": {},
          "execution_count": 29
        }
      ]
    },
    {
      "cell_type": "markdown",
      "source": [
        "### 메서드 체이닝"
      ],
      "metadata": {
        "id": "2p2dZ6WwDipy"
      }
    },
    {
      "cell_type": "markdown",
      "source": [
        "이렇게 문자열 메서드는 처리한 결과를 반환하도록 만들어져 있습니다. 따라서 메서드를 계속 연결해서 호출하는 메서드 체이닝이 가능합니다. 메서드 체이닝은 메서드를 줄줄이 연결한다고 해서 메서드 체이닝(method chaining)이라 부릅니다."
      ],
      "metadata": {
        "id": "wgoWG3NPDkhe"
      }
    },
    {
      "cell_type": "code",
      "source": [
        "\"  JamesPotato  \".replace(\"James\", \"John\").upper().strip()"
      ],
      "metadata": {
        "colab": {
          "base_uri": "https://localhost:8080/",
          "height": 35
        },
        "id": "-QQQkWNrk5aP",
        "outputId": "85176166-d8e6-40f2-ee16-79f768add35c"
      },
      "execution_count": 30,
      "outputs": [
        {
          "output_type": "execute_result",
          "data": {
            "text/plain": [
              "'JOHNPOTATO'"
            ],
            "application/vnd.google.colaboratory.intrinsic+json": {
              "type": "string"
            }
          },
          "metadata": {},
          "execution_count": 30
        }
      ]
    },
    {
      "cell_type": "markdown",
      "source": [
        "### 문자열 왼쪽에 0 채우기"
      ],
      "metadata": {
        "id": "6hCa3B6HDnUg"
      }
    },
    {
      "cell_type": "markdown",
      "source": [
        "지금까지 문자열을 정렬하면서 남는 공간에 공백을 채웠죠? 파이썬을 사용하다 보면 문자열 왼쪽에 0을 채워야 할 경우가 생깁니다.\n",
        "\n",
        "zfill(길이)는 지정된 길이에 맞춰서 문자열의 왼쪽에 0을 채웁니다( zero fill을 의미). 단, 문자열의 길이보다 지정된 길이가 작다면 아무것도 채우지 않습니다. 보통 zfill은 숫자를 일정 자릿수로 맞추고 앞자리는 0으로 채울 때 사용합니다."
      ],
      "metadata": {
        "id": "JcUm-duIDp8K"
      }
    },
    {
      "cell_type": "code",
      "source": [
        "a = \"35\"\n",
        "a = \"350\"\n",
        "a.zfill(4) # rjust, ljust"
      ],
      "metadata": {
        "colab": {
          "base_uri": "https://localhost:8080/",
          "height": 35
        },
        "id": "LOclUMn3DBoW",
        "outputId": "05b001e6-15f8-47f9-f518-4c00fb5dd863"
      },
      "execution_count": 32,
      "outputs": [
        {
          "output_type": "execute_result",
          "data": {
            "text/plain": [
              "'0350'"
            ],
            "application/vnd.google.colaboratory.intrinsic+json": {
              "type": "string"
            }
          },
          "metadata": {},
          "execution_count": 32
        }
      ]
    },
    {
      "cell_type": "code",
      "source": [
        "a = str(3.5)\n",
        "a.zfill(6)"
      ],
      "metadata": {
        "colab": {
          "base_uri": "https://localhost:8080/",
          "height": 35
        },
        "id": "AkBz-qyGDt9e",
        "outputId": "9bbd92f7-dc52-4d4b-dc3f-19349baecd69"
      },
      "execution_count": 34,
      "outputs": [
        {
          "output_type": "execute_result",
          "data": {
            "text/plain": [
              "'0003.5'"
            ],
            "application/vnd.google.colaboratory.intrinsic+json": {
              "type": "string"
            }
          },
          "metadata": {},
          "execution_count": 34
        }
      ]
    },
    {
      "cell_type": "code",
      "source": [
        "a = \"hello\"\n",
        "a.zfill(10)"
      ],
      "metadata": {
        "colab": {
          "base_uri": "https://localhost:8080/",
          "height": 35
        },
        "id": "_0g8SbTjDuae",
        "outputId": "0f4fe58f-764e-4040-f044-3127150124bb"
      },
      "execution_count": 35,
      "outputs": [
        {
          "output_type": "execute_result",
          "data": {
            "text/plain": [
              "'00000hello'"
            ],
            "application/vnd.google.colaboratory.intrinsic+json": {
              "type": "string"
            }
          },
          "metadata": {},
          "execution_count": 35
        }
      ]
    },
    {
      "cell_type": "markdown",
      "source": [
        "### 문자열 위치 찾기"
      ],
      "metadata": {
        "id": "VrwR3JN9Dydq"
      }
    },
    {
      "cell_type": "markdown",
      "source": [
        "이번에는 문자열의 위치를 찾는 방법을 알아보겠습니다.\n",
        "\n",
        "find('찾을문자열')은 문자열에서 특정 문자열을 찾아서 인덱스를 반환하고, 문자열이 없으면 -1을 반환합니다. find는 왼쪽에서부터 문자열을 찾는데, 같은 문자열이 여러 개일 경우 처음 찾은 문자열의 인덱스를 반환합니다. 여기서는 'pl'이 2개 있지만 왼쪽에서 처음 찾은 'pl'의 인덱스 2를 반환합니다."
      ],
      "metadata": {
        "id": "hQmcofOkD0Pj"
      }
    },
    {
      "cell_type": "code",
      "source": [
        "\"킹아메리카노\".find(\"킹\")\n",
        "\"킹아메리카노\".find(\"아메리카\")\n",
        "\"킹 오브 킹\".find(\"킹\")\n",
        "\"아메리카\".find(\"zld\")"
      ],
      "metadata": {
        "colab": {
          "base_uri": "https://localhost:8080/"
        },
        "id": "uZgb6VqlDvjG",
        "outputId": "f164ce79-00f6-4df4-edd6-1ba866ed03f4"
      },
      "execution_count": 41,
      "outputs": [
        {
          "output_type": "execute_result",
          "data": {
            "text/plain": [
              "-1"
            ]
          },
          "metadata": {},
          "execution_count": 41
        }
      ]
    },
    {
      "cell_type": "markdown",
      "source": [
        "### 문자열 개수 세기"
      ],
      "metadata": {
        "id": "a4u_p6roD--N"
      }
    },
    {
      "cell_type": "markdown",
      "source": [
        "count('문자열')은 현재 문자열에서 특정 문자열이 몇 번 나오는지 알아냅니다.\n",
        "\n"
      ],
      "metadata": {
        "id": "aBpKeuz_ECZ_"
      }
    },
    {
      "cell_type": "code",
      "source": [
        "print(\"찐이야찐찐\".count(\"찐\")) # 자연수로 나타냄"
      ],
      "metadata": {
        "id": "29aWf40-D3vN",
        "outputId": "ad789851-068b-4383-dcec-573eb0c7e82c",
        "colab": {
          "base_uri": "https://localhost:8080/"
        }
      },
      "execution_count": 43,
      "outputs": [
        {
          "output_type": "stream",
          "name": "stdout",
          "text": [
            "3\n"
          ]
        }
      ]
    }
  ]
}