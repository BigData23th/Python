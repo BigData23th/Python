{
  "nbformat": 4,
  "nbformat_minor": 0,
  "metadata": {
    "colab": {
      "provenance": [],
      "authorship_tag": "ABX9TyNgjCzIllNm+2ll0lNQBc66",
      "include_colab_link": true
    },
    "kernelspec": {
      "name": "python3",
      "display_name": "Python 3"
    },
    "language_info": {
      "name": "python"
    }
  },
  "cells": [
    {
      "cell_type": "markdown",
      "metadata": {
        "id": "view-in-github",
        "colab_type": "text"
      },
      "source": [
        "<a href=\"https://colab.research.google.com/github/MingukShim/Python/blob/main/submission/MingukShim/ch01_%EB%B3%B5%EC%8A%B5.ipynb\" target=\"_parent\"><img src=\"https://colab.research.google.com/assets/colab-badge.svg\" alt=\"Open In Colab\"/></a>"
      ]
    },
    {
      "cell_type": "code",
      "execution_count": 2,
      "metadata": {
        "colab": {
          "base_uri": "https://localhost:8080/",
          "height": 136
        },
        "id": "9Mvv5Kt8bdDj",
        "outputId": "914a15fc-efab-4f1d-d138-780d3f7cc029"
      },
      "outputs": [
        {
          "output_type": "error",
          "ename": "SyntaxError",
          "evalue": "ignored",
          "traceback": [
            "\u001b[0;36m  File \u001b[0;32m\"<ipython-input-2-435cd630d544>\"\u001b[0;36m, line \u001b[0;32m1\u001b[0m\n\u001b[0;31m    print(Hello world) # 문자열을 입력할 때는 \"감싸줘야됨!!\" # alt+enter\u001b[0m\n\u001b[0m                ^\u001b[0m\n\u001b[0;31mSyntaxError\u001b[0m\u001b[0;31m:\u001b[0m invalid syntax\n"
          ]
        }
      ],
      "source": [
        "print(Hello world) # 문자열을 입력할 때는 \"감싸줘야됨!!\" # alt+enter(셀을 실행시키도록 하단에 새로운 코드 셀을 만들어줌)"
      ]
    },
    {
      "cell_type": "code",
      "source": [
        "print(\"hello World\") # print(함수의 일종; 입력한 값(숫자, 문자열)을 출력해주는 역할)"
      ],
      "metadata": {
        "colab": {
          "base_uri": "https://localhost:8080/"
        },
        "id": "0DUzjVCYchwU",
        "outputId": "6a43f170-fcb2-4e03-831c-b9ade8fb8ca8"
      },
      "execution_count": 3,
      "outputs": [
        {
          "output_type": "stream",
          "name": "stdout",
          "text": [
            "hello World\n"
          ]
        }
      ]
    },
    {
      "cell_type": "code",
      "source": [
        "# (ctrl+m)+b : (셀을 실행시키지 않고) 현재 셀의 하단에 새로운 코드 셀을 만들어줌.\n",
        "# colab은 '리눅스' 환경에서 작동함. 리눅스: 터미널(입력창)을 통해서 명령어로 작동하는 OS like 윈도우, 안드로이드\n",
        "# 리눅스의 어떤 특정한 기능을 하기 위해서는 (1) 터미널에 (2) 명령어를 넣어야 한다.\n",
        "# !를 앞에 붙이고 나면, 리눅스의 터미널(커널)의 명령어를 사용할 수 있음.\n",
        "!python --version"
      ],
      "metadata": {
        "colab": {
          "base_uri": "https://localhost:8080/"
        },
        "id": "8YkzVmeic8Uk",
        "outputId": "b37d51e3-254e-4a4e-fd32-3bf05547cc04"
      },
      "execution_count": 4,
      "outputs": [
        {
          "output_type": "stream",
          "name": "stdout",
          "text": [
            "Python 3.8.10\n"
          ]
        }
      ]
    },
    {
      "cell_type": "code",
      "source": [
        "# 파이썬은 세미콜론을 안써도 된다. 쓴다해도 버그가 나진 않음. # 웬만하면 \"쓰기\n",
        "print(\"Ditto\") # 특정한 행을 위 아래로 복제하고 싶다 -> alt=+shift+위아래 방향키)\n",
        "print(\"omg\") # 특정한 행을 위 아래로 복제하고 싶다 -> alt=+shift+위아래 방향키)\n",
        "print(\"Ditto\") # 특정한 행을 위 아래로 복제하고 싶다 -> alt=+shift+위아래 방향키)\n",
        "print(\"omg\") # 특정한 행을 위 아래로 복제하고 싶다 -> alt=+shift+위아래 방향키) alt+방향키: 줄바꿈\n",
        "# ctrl+ a: 전체 지정\n",
        "# end : 특정 행의 끝으로 간다. ->shift(범위 지정, 블록지정)->home : 특정행의 시작\n",
        "print(\"Ditto\") # 특정한 행을 위 아래로 복제하고 싶다 -> alt=+shift+위아래 방향키)\n",
        "print(\"뉴진스\"); print(\"르세라핌\") # ; 세미콜론이 있으면 다른 줄로 인식\n",
        "\n"
      ],
      "metadata": {
        "colab": {
          "base_uri": "https://localhost:8080/"
        },
        "id": "sK_BZCtUd-vK",
        "outputId": "fdd63d91-98b4-4b43-8fc3-36944829ba54"
      },
      "execution_count": 8,
      "outputs": [
        {
          "output_type": "stream",
          "name": "stdout",
          "text": [
            "Ditto\n",
            "omg\n",
            "Ditto\n",
            "omg\n",
            "Ditto\n",
            "뉴진스\n",
            "르세라핌\n"
          ]
        }
      ]
    },
    {
      "cell_type": "code",
      "source": [
        "#ctrl + m + - :특정 행 기준으로 셀 분할\n",
        "print(\"뉴진스\"); print(\"르세라핌\")"
      ],
      "metadata": {
        "id": "UQJ5vgGrgHB4"
      },
      "execution_count": null,
      "outputs": []
    },
    {
      "cell_type": "code",
      "source": [],
      "metadata": {
        "id": "inBdpA19gBc6"
      },
      "execution_count": null,
      "outputs": []
    },
    {
      "cell_type": "code",
      "source": [],
      "metadata": {
        "id": "SOlZPqPPf_UH"
      },
      "execution_count": null,
      "outputs": []
    },
    {
      "cell_type": "code",
      "source": [],
      "metadata": {
        "id": "gE8lLSvMf9E6"
      },
      "execution_count": null,
      "outputs": []
    }
  ]
}