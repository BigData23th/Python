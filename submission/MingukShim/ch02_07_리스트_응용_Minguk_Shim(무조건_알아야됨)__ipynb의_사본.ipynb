{
  "nbformat": 4,
  "nbformat_minor": 0,
  "metadata": {
    "colab": {
      "provenance": [],
      "include_colab_link": true
    },
    "kernelspec": {
      "name": "python3",
      "display_name": "Python 3"
    },
    "language_info": {
      "name": "python"
    }
  },
  "cells": [
    {
      "cell_type": "markdown",
      "metadata": {
        "id": "view-in-github",
        "colab_type": "text"
      },
      "source": [
        "<a href=\"https://colab.research.google.com/github/MingukShim/Python/blob/main/submission/MingukShim/ch02_07_%EB%A6%AC%EC%8A%A4%ED%8A%B8_%EC%9D%91%EC%9A%A9_Minguk_Shim(%EB%AC%B4%EC%A1%B0%EA%B1%B4_%EC%95%8C%EC%95%84%EC%95%BC%EB%90%A8)__ipynb%EC%9D%98_%EC%82%AC%EB%B3%B8.ipynb\" target=\"_parent\"><img src=\"https://colab.research.google.com/assets/colab-badge.svg\" alt=\"Open In Colab\"/></a>"
      ]
    },
    {
      "cell_type": "markdown",
      "source": [
        "# 리스트 응용"
      ],
      "metadata": {
        "id": "G6ZVllQhYcbV"
      }
    },
    {
      "cell_type": "markdown",
      "source": [
        "## 리스트 조작하기"
      ],
      "metadata": {
        "id": "oFfwKwUKYW_h"
      }
    },
    {
      "cell_type": "markdown",
      "source": [
        "### 리스트에 요소 추가하기"
      ],
      "metadata": {
        "id": "K8TvUjhbYf7x"
      }
    },
    {
      "cell_type": "markdown",
      "source": [
        "리스트의 대표적인 기능이 바로 요소 추가입니다. 다음과 같이 리스트에 요소를 추가하는 메서드는 3가지가 있습니다.\n",
        "\n",
        "* `append`: 요소 하나를 추가\n",
        "* `extend`: 리스트를 연결하여 확장\n",
        "* `insert`: 특정 인덱스에 요소 추가"
      ],
      "metadata": {
        "id": "78Pck1pcYiDa"
      }
    },
    {
      "cell_type": "markdown",
      "source": [
        "### 기존 리스트에 요소 하나 추가하기"
      ],
      "metadata": {
        "id": "glHB7Y0UYnpm"
      }
    },
    {
      "cell_type": "code",
      "execution_count": 5,
      "metadata": {
        "colab": {
          "base_uri": "https://localhost:8080/"
        },
        "id": "U7W5ZUuFYSZE",
        "outputId": "fd9c6578-4103-41ba-e80c-2d53c7d8af75"
      },
      "outputs": [
        {
          "output_type": "execute_result",
          "data": {
            "text/plain": [
              "[10, 20, 30]"
            ]
          },
          "metadata": {},
          "execution_count": 5
        }
      ],
      "source": [
        "a = [10, 20, 30]\n",
        "a"
      ]
    },
    {
      "cell_type": "code",
      "source": [
        "a.append(500)\n",
        "a"
      ],
      "metadata": {
        "colab": {
          "base_uri": "https://localhost:8080/"
        },
        "id": "xobs7oVOhT7r",
        "outputId": "25ef9589-a88a-4f86-9319-9560f9924fb9"
      },
      "execution_count": 6,
      "outputs": [
        {
          "output_type": "execute_result",
          "data": {
            "text/plain": [
              "[10, 20, 30, 500]"
            ]
          },
          "metadata": {},
          "execution_count": 6
        }
      ]
    },
    {
      "cell_type": "code",
      "source": [
        "# 물론 빈 리스트에 값을 추가할 수도 있습니다.\n",
        "b = []\n",
        "b.append(10)\n",
        "b"
      ],
      "metadata": {
        "colab": {
          "base_uri": "https://localhost:8080/"
        },
        "id": "W_A5RuYqYvan",
        "outputId": "5a039a04-f76e-4cb8-fa59-bfe42e2152a9"
      },
      "execution_count": 4,
      "outputs": [
        {
          "output_type": "execute_result",
          "data": {
            "text/plain": [
              "[10]"
            ]
          },
          "metadata": {},
          "execution_count": 4
        }
      ]
    },
    {
      "cell_type": "code",
      "source": [],
      "metadata": {
        "id": "apbI9_uRhjdE"
      },
      "execution_count": null,
      "outputs": []
    },
    {
      "cell_type": "markdown",
      "source": [
        "### 리스트 안에 리스트 추가하기"
      ],
      "metadata": {
        "id": "VT7bwaRgY3oG"
      }
    },
    {
      "cell_type": "code",
      "source": [
        "# append는 append(리스트)처럼 리스트를 넣으면 리스트 안에 리스트가 들어갑니다.\n",
        "a = [\"헤이즐아메리카노\", \"마카디미아라떼\", \"카페모카\"]\n",
        "a.append([\"체리콕에이드\", \"유자민 트레몬티\"])\n",
        "a\n"
      ],
      "metadata": {
        "colab": {
          "base_uri": "https://localhost:8080/"
        },
        "id": "vBb5LjzkY0Iz",
        "outputId": "ad20a1a3-59d0-4d01-defd-3b6e6145fecb"
      },
      "execution_count": 10,
      "outputs": [
        {
          "output_type": "execute_result",
          "data": {
            "text/plain": [
              "['헤이즐아메리카노', '마카디미아라떼', '카페모카', ['체리콕에이드', '유자민 트레몬티']]"
            ]
          },
          "metadata": {},
          "execution_count": 10
        }
      ]
    },
    {
      "cell_type": "code",
      "source": [
        "len(a)"
      ],
      "metadata": {
        "colab": {
          "base_uri": "https://localhost:8080/"
        },
        "id": "xgmDLT9FiWjL",
        "outputId": "36644635-07f0-416b-ae79-cd82f4d305c2"
      },
      "execution_count": 11,
      "outputs": [
        {
          "output_type": "execute_result",
          "data": {
            "text/plain": [
              "4"
            ]
          },
          "metadata": {},
          "execution_count": 11
        }
      ]
    },
    {
      "cell_type": "markdown",
      "source": [
        "append는 항상 리스트의 길이가 1씩 증가합니다."
      ],
      "metadata": {
        "id": "6ngwqPHGZAro"
      }
    },
    {
      "cell_type": "markdown",
      "source": [
        "### 리스트 확장하기"
      ],
      "metadata": {
        "id": "2HZnWqYhZCdh"
      }
    },
    {
      "cell_type": "markdown",
      "source": [
        "그러면 리스트에 요소를 여러 개 추가하려면 어떻게 해야 할까요? append를 여러 번 사용하는 방법도 있지만, 추가할 요소가 많은 경우에는 상당히 번거롭습니다. 이때는 extend를 사용합니다."
      ],
      "metadata": {
        "id": "P-gRJ5WEZGBt"
      }
    },
    {
      "cell_type": "code",
      "source": [
        "# extend(리스트)는 리스트 끝에 다른 리스트를 연결하여 리스트를 확장합니다.\n",
        "a = [\"초코라떼\", \"복숭아 아이스티\", \"아메리카노\"]\n",
        "a.extend([\"캐모마일티\", \"바닐라라떼\"]) # a + [\"캐모마일티\", \"바닐라라떼\"] a에 영향x\n",
        "a"
      ],
      "metadata": {
        "colab": {
          "base_uri": "https://localhost:8080/"
        },
        "id": "A3KhwcWaY9nI",
        "outputId": "006eb058-cb7a-4d0a-89e9-e4d4a7469861"
      },
      "execution_count": 8,
      "outputs": [
        {
          "output_type": "execute_result",
          "data": {
            "text/plain": [
              "['초코라떼', '복숭아 아이스티', '아메리카노', '캐모마일티', '바닐라라떼']"
            ]
          },
          "metadata": {},
          "execution_count": 8
        }
      ]
    },
    {
      "cell_type": "code",
      "source": [
        "len(a)"
      ],
      "metadata": {
        "colab": {
          "base_uri": "https://localhost:8080/",
          "height": 172
        },
        "id": "HD6I-x-2iQ4F",
        "outputId": "c73c0c04-388a-44c3-fc7c-e0edb87f03c9"
      },
      "execution_count": 9,
      "outputs": [
        {
          "output_type": "error",
          "ename": "NameError",
          "evalue": "ignored",
          "traceback": [
            "\u001b[0;31m---------------------------------------------------------------------------\u001b[0m",
            "\u001b[0;31mNameError\u001b[0m                                 Traceback (most recent call last)",
            "\u001b[0;32m<ipython-input-9-9ab8a3f58b35>\u001b[0m in \u001b[0;36m<module>\u001b[0;34m\u001b[0m\n\u001b[0;32m----> 1\u001b[0;31m \u001b[0mleng\u001b[0m\u001b[0;34m(\u001b[0m\u001b[0ma\u001b[0m\u001b[0;34m)\u001b[0m\u001b[0;34m\u001b[0m\u001b[0;34m\u001b[0m\u001b[0m\n\u001b[0m",
            "\u001b[0;31mNameError\u001b[0m: name 'leng' is not defined"
          ]
        }
      ]
    },
    {
      "cell_type": "markdown",
      "source": [
        "extend의 동작을 좀 더 정확하게 이야기하면 extend에 전달된 요소를 반복하면서 각 요소를 리스트 a에 추가하는 것입니다. 따라서 리스트와 리스트를 연결한 모양이 됩니다."
      ],
      "metadata": {
        "id": "L6F9gJo0ZPZw"
      }
    },
    {
      "cell_type": "markdown",
      "source": [
        "### 리스트의 특정 인덱스에 요소 추가하기"
      ],
      "metadata": {
        "id": "kyn9vIDQZSZ_"
      }
    },
    {
      "cell_type": "markdown",
      "source": [
        "append, extend는 리스트 끝에 요소를 추가합니다. 그러면 원하는 위치에 요소를 추가하는 방법은 없을까요? 이때는 insert를 사용합니다."
      ],
      "metadata": {
        "id": "YuWERyC6ZUfk"
      }
    },
    {
      "cell_type": "code",
      "source": [
        "# insert(인덱스, 요소)는 리스트의 특정 인덱스에 요소 하나를 추가합니다.\n",
        "a = [10, 2]\n",
        "a.insert(2, 500)\n",
        "a, len(a)"
      ],
      "metadata": {
        "colab": {
          "base_uri": "https://localhost:8080/"
        },
        "id": "AfxcI4GZZLlB",
        "outputId": "5ab52c6d-145e-4fb2-a47e-b8b80a636282"
      },
      "execution_count": 12,
      "outputs": [
        {
          "output_type": "execute_result",
          "data": {
            "text/plain": [
              "([10, 2, 500], 3)"
            ]
          },
          "metadata": {},
          "execution_count": 12
        }
      ]
    },
    {
      "cell_type": "code",
      "source": [],
      "metadata": {
        "id": "BVXpOIQOjmVc"
      },
      "execution_count": null,
      "outputs": []
    },
    {
      "cell_type": "markdown",
      "source": [
        "insert에서 자주 사용하는 패턴은 다음 2가지입니다.\n",
        "\n",
        "* `insert(0, 요소)`: 리스트의 맨 처음에 요소를 추가\n",
        "* `insert(len(리스트), 요소)`: 리스트 끝에 요소를 추가\n"
      ],
      "metadata": {
        "id": "proj9OApZf6C"
      }
    },
    {
      "cell_type": "code",
      "source": [
        "a = [10, 20, 30]\n",
        "a.insert(0, 500)\n",
        "a"
      ],
      "metadata": {
        "colab": {
          "base_uri": "https://localhost:8080/"
        },
        "id": "PKa4O6gkZdTY",
        "outputId": "8973d7fb-83c1-452e-f64b-509dff768311"
      },
      "execution_count": 13,
      "outputs": [
        {
          "output_type": "execute_result",
          "data": {
            "text/plain": [
              "[500, 10, 20, 30]"
            ]
          },
          "metadata": {},
          "execution_count": 13
        }
      ]
    },
    {
      "cell_type": "code",
      "source": [
        "a.insert(len(a), 500)\n",
        "a"
      ],
      "metadata": {
        "colab": {
          "base_uri": "https://localhost:8080/"
        },
        "id": "68ZjMfVMkr66",
        "outputId": "f2b82e57-dd18-430b-f857-e95787586691"
      },
      "execution_count": 14,
      "outputs": [
        {
          "output_type": "execute_result",
          "data": {
            "text/plain": [
              "[500, 10, 20, 30, 500]"
            ]
          },
          "metadata": {},
          "execution_count": 14
        }
      ]
    },
    {
      "cell_type": "code",
      "source": [],
      "metadata": {
        "id": "b4MxomwLkwyL"
      },
      "execution_count": null,
      "outputs": []
    },
    {
      "cell_type": "code",
      "source": [
        "# insert에 마지막 인덱스보다 큰 값을 지정하면 리스트 끝에 요소 하나를 추가할 수 있습니다.\n"
      ],
      "metadata": {
        "colab": {
          "base_uri": "https://localhost:8080/"
        },
        "id": "a3uaIqN4Zlup",
        "outputId": "de9c02dc-3301-4cef-ccb4-21eb44fc7380"
      },
      "execution_count": null,
      "outputs": [
        {
          "output_type": "execute_result",
          "data": {
            "text/plain": [
              "[10, 20, 30, 500]"
            ]
          },
          "metadata": {},
          "execution_count": 7
        }
      ]
    },
    {
      "cell_type": "markdown",
      "source": [
        "len(리스트)는 마지막 인덱스보다 1이 더 크기 때문에 리스트 끝에 값을 추가할 때 자주 활용합니다. (=append)"
      ],
      "metadata": {
        "id": "isi-LJ6_ZuL2"
      }
    },
    {
      "cell_type": "code",
      "source": [
        "# 특히 insert는 요소 하나를 추가하므로 insert에 리스트를 넣으면 append처럼 리스트 안에 리스트가 들어갑니다. (중첩 리스트)\n",
        "a = [10, 20, 30]\n",
        "a.insert(1, [500, 600])\n",
        "a"
      ],
      "metadata": {
        "colab": {
          "base_uri": "https://localhost:8080/"
        },
        "id": "_WDQqZp8ZraZ",
        "outputId": "368fa12f-e9ad-49ad-a205-fa1dfacaaee9"
      },
      "execution_count": 15,
      "outputs": [
        {
          "output_type": "execute_result",
          "data": {
            "text/plain": [
              "[10, [500, 600], 20, 30]"
            ]
          },
          "metadata": {},
          "execution_count": 15
        }
      ]
    },
    {
      "cell_type": "code",
      "source": [
        "# 만약 리스트 중간에 요소 여러 개를 추가하고 싶다면 슬라이스에 요소 할당하기를 활용하면 됩니다.\n",
        "a = [10, 20, 30]\n",
        "a[1:1].append"
      ],
      "metadata": {
        "colab": {
          "base_uri": "https://localhost:8080/"
        },
        "id": "VW4-o3PSZ193",
        "outputId": "d90df350-a315-41e2-9990-05b456c32a89"
      },
      "execution_count": null,
      "outputs": [
        {
          "output_type": "execute_result",
          "data": {
            "text/plain": [
              "[10, 500, 600, 20, 30]"
            ]
          },
          "metadata": {},
          "execution_count": 9
        }
      ]
    },
    {
      "cell_type": "markdown",
      "source": [
        "### 리스트에서 요소 삭제하기"
      ],
      "metadata": {
        "id": "ibYvJldjZ-9N"
      }
    },
    {
      "cell_type": "markdown",
      "source": [
        "이번에는 리스트에서 요소를 삭제하는 방법입니다. 다음과 같이 요소를 삭제하는 메서드는 2가지가 있습니다.\n",
        "\n",
        "* `pop`: 마지막 요소 또는 특정 인덱스의 요소를 삭제\n",
        "* `remove`: 특정 값을 찾아서 삭제"
      ],
      "metadata": {
        "id": "YmYWaEScaGPa"
      }
    },
    {
      "cell_type": "markdown",
      "source": [
        "### 리스트에서 특정 인덱스의 요소를 삭제하기"
      ],
      "metadata": {
        "id": "iot6Ojlyb9d_"
      }
    },
    {
      "cell_type": "markdown",
      "source": [
        "pop()은 리스트의 마지막 요소를 삭제한 뒤 삭제한 요소를 반환합니다."
      ],
      "metadata": {
        "id": "eqYdMTEhb_z1"
      }
    },
    {
      "cell_type": "code",
      "source": [
        "a = [10, 20, 30]\n",
        "a.pop()"
      ],
      "metadata": {
        "colab": {
          "base_uri": "https://localhost:8080/"
        },
        "id": "8sIJ1hgBaGEf",
        "outputId": "8439a396-60f3-48ff-d4fa-757130bd3123"
      },
      "execution_count": 16,
      "outputs": [
        {
          "output_type": "execute_result",
          "data": {
            "text/plain": [
              "30"
            ]
          },
          "metadata": {},
          "execution_count": 16
        }
      ]
    },
    {
      "cell_type": "code",
      "source": [
        "a"
      ],
      "metadata": {
        "colab": {
          "base_uri": "https://localhost:8080/"
        },
        "id": "KNHfcOh6Z8Mj",
        "outputId": "48e418a1-3bfb-4556-dc4e-4e2e3064e48b"
      },
      "execution_count": 17,
      "outputs": [
        {
          "output_type": "execute_result",
          "data": {
            "text/plain": [
              "[10, 20]"
            ]
          },
          "metadata": {},
          "execution_count": 17
        }
      ]
    },
    {
      "cell_type": "code",
      "source": [
        "box = [\"아이폰\", \"갤럭시\", \"맥북\"]\n",
        "last = box.pop()\n",
        "last"
      ],
      "metadata": {
        "colab": {
          "base_uri": "https://localhost:8080/",
          "height": 35
        },
        "id": "lfqZ2V5V5QE6",
        "outputId": "5b326213-1684-4fc1-fe3a-c82c4b9bf3f0"
      },
      "execution_count": 20,
      "outputs": [
        {
          "output_type": "execute_result",
          "data": {
            "text/plain": [
              "'맥북'"
            ],
            "application/vnd.google.colaboratory.intrinsic+json": {
              "type": "string"
            }
          },
          "metadata": {},
          "execution_count": 20
        }
      ]
    },
    {
      "cell_type": "code",
      "source": [
        "lunch = []\n",
        "lunch.append(\"김씨\")\n",
        "lunch.append(\"박씨\")\n",
        "lunch.append(\"이씨\")\n"
      ],
      "metadata": {
        "id": "Wank9oOd5lPR"
      },
      "execution_count": 22,
      "outputs": []
    },
    {
      "cell_type": "code",
      "source": [
        "lunch"
      ],
      "metadata": {
        "colab": {
          "base_uri": "https://localhost:8080/"
        },
        "id": "xZUvrTEr5ytV",
        "outputId": "0989d02c-98d2-4200-ed72-f600c94df14e"
      },
      "execution_count": 24,
      "outputs": [
        {
          "output_type": "execute_result",
          "data": {
            "text/plain": [
              "['김씨', '박씨', '이씨']"
            ]
          },
          "metadata": {},
          "execution_count": 24
        }
      ]
    },
    {
      "cell_type": "code",
      "source": [
        "a = [10, 20, 30]\n",
        "a.pop(1), a"
      ],
      "metadata": {
        "colab": {
          "base_uri": "https://localhost:8080/"
        },
        "id": "oLgdOnfn51Ba",
        "outputId": "244f730a-985d-4c1d-c865-bba0a5bb05d0"
      },
      "execution_count": 30,
      "outputs": [
        {
          "output_type": "execute_result",
          "data": {
            "text/plain": [
              "(20, [10, 30])"
            ]
          },
          "metadata": {},
          "execution_count": 30
        }
      ]
    },
    {
      "cell_type": "code",
      "source": [
        "a = [10, 20, 30]\n",
        "del a[1]\n",
        "a"
      ],
      "metadata": {
        "colab": {
          "base_uri": "https://localhost:8080/"
        },
        "id": "RFmOKpQT6YX3",
        "outputId": "26b938b7-7ba9-4e54-b710-60bb584589df"
      },
      "execution_count": 32,
      "outputs": [
        {
          "output_type": "execute_result",
          "data": {
            "text/plain": [
              "[10, 30]"
            ]
          },
          "metadata": {},
          "execution_count": 32
        }
      ]
    },
    {
      "cell_type": "markdown",
      "source": [
        "그러면 원하는 인덱스의 요소를 삭제할 수는 없을까요? 이때는 pop에 인덱스를 지정하면 됩니다."
      ],
      "metadata": {
        "id": "_uCDrzxLcGgl"
      }
    },
    {
      "cell_type": "code",
      "source": [
        "# pop(인덱스)는 해당 인덱스의 요소를 삭제한 뒤 삭제한 요소를 반환합니다.\n"
      ],
      "metadata": {
        "colab": {
          "base_uri": "https://localhost:8080/"
        },
        "id": "uZhoaqkPcDgT",
        "outputId": "f42022b9-62b5-4322-9d73-7b23b8e94b0b"
      },
      "execution_count": null,
      "outputs": [
        {
          "output_type": "execute_result",
          "data": {
            "text/plain": [
              "20"
            ]
          },
          "metadata": {},
          "execution_count": 12
        }
      ]
    },
    {
      "cell_type": "code",
      "source": [],
      "metadata": {
        "colab": {
          "base_uri": "https://localhost:8080/"
        },
        "id": "fwNrUtbfcLAT",
        "outputId": "af206bbd-68f0-4b95-ead6-6ec389de8e5b"
      },
      "execution_count": null,
      "outputs": [
        {
          "output_type": "execute_result",
          "data": {
            "text/plain": [
              "[10, 30]"
            ]
          },
          "metadata": {},
          "execution_count": 13
        }
      ]
    },
    {
      "cell_type": "code",
      "source": [
        "# 사실 pop 대신 del을 사용해도 상관없습니다.\n"
      ],
      "metadata": {
        "colab": {
          "base_uri": "https://localhost:8080/"
        },
        "id": "GbqvJNcmcLd1",
        "outputId": "d0c49f7a-698d-4a44-e5ac-2c68ef0a222b"
      },
      "execution_count": null,
      "outputs": [
        {
          "output_type": "execute_result",
          "data": {
            "text/plain": [
              "[10, 30]"
            ]
          },
          "metadata": {},
          "execution_count": 14
        }
      ]
    },
    {
      "cell_type": "markdown",
      "source": [
        "### 리스트에서 특정 값을 찾아서 삭제하기"
      ],
      "metadata": {
        "id": "-tUv0GzrcTbs"
      }
    },
    {
      "cell_type": "markdown",
      "source": [
        "pop이나 del은 인덱스로 요소를 삭제했는데, 리스트에서 원하는 값을 찾아서 삭제하고 싶을 수도 있습니다. 이런 경우에는 remove를 사용합니다."
      ],
      "metadata": {
        "id": "XFdaVoCWcVzd"
      }
    },
    {
      "cell_type": "code",
      "source": [
        "# remove(값)은 리스트에서 특정 값을 찾아서 삭제합니다.\n",
        "cookie_box = [\"마카다미아 쿠키\", \"황치즈 쿠키\", \"레드벨벳 쿠키\", \"오레오 쿠키\"]\n",
        "cookie_box"
      ],
      "metadata": {
        "colab": {
          "base_uri": "https://localhost:8080/"
        },
        "id": "vUjy55MmcQpu",
        "outputId": "dc67f14f-5ddb-4745-9c2b-44051d8a78fd"
      },
      "execution_count": 39,
      "outputs": [
        {
          "output_type": "execute_result",
          "data": {
            "text/plain": [
              "['마카다미아 쿠키', '황치즈 쿠키', '레드벨벳 쿠키', '오레오 쿠키']"
            ]
          },
          "metadata": {},
          "execution_count": 39
        }
      ]
    },
    {
      "cell_type": "code",
      "source": [
        "cookie_box.remove(\"황치즈 쿠키\")"
      ],
      "metadata": {
        "id": "GVCLQcxe7Vkb"
      },
      "execution_count": 48,
      "outputs": []
    },
    {
      "cell_type": "code",
      "source": [],
      "metadata": {
        "id": "9y7Mc2Ut798c"
      },
      "execution_count": null,
      "outputs": []
    },
    {
      "cell_type": "code",
      "source": [
        "# 만약 리스트에 같은 값이 여러 개 있을 경우 처음 찾은 값을 삭제합니다.\n"
      ],
      "metadata": {
        "colab": {
          "base_uri": "https://localhost:8080/"
        },
        "id": "dBvZdlZXcZrq",
        "outputId": "cc57e285-7e3e-4af1-e3c3-7ecbc880f80a"
      },
      "execution_count": null,
      "outputs": [
        {
          "output_type": "execute_result",
          "data": {
            "text/plain": [
              "[10, 30, 20]"
            ]
          },
          "metadata": {},
          "execution_count": 16
        }
      ]
    },
    {
      "cell_type": "markdown",
      "source": [
        "### 리스트에서 특정 값의 인덱스 구하기"
      ],
      "metadata": {
        "id": "jRp1EQMUch1C"
      }
    },
    {
      "cell_type": "code",
      "source": [
        "# index(값)은 리스트에서 특정 값의 인덱스를 구합니다.\n",
        "# 이때 같은 값이 여러 개일 경우 처음 찾은 인덱스를 구합니다(가장 작은 인덱스).\n",
        "cookie_box = [\"마카다미아 쿠키\", \"황치즈 쿠키\", \"레드벨벳 쿠키\", \"오레오 쿠키\"]\n",
        "cookie_box.index(\"황치즈 쿠키\")"
      ],
      "metadata": {
        "colab": {
          "base_uri": "https://localhost:8080/"
        },
        "id": "xRN3qbHEcc4g",
        "outputId": "1c21815e-4b17-4277-d97e-63d86ba01965"
      },
      "execution_count": 44,
      "outputs": [
        {
          "output_type": "execute_result",
          "data": {
            "text/plain": [
              "1"
            ]
          },
          "metadata": {},
          "execution_count": 44
        }
      ]
    },
    {
      "cell_type": "code",
      "source": [],
      "metadata": {
        "id": "E1qsjrJU8I0Q"
      },
      "execution_count": null,
      "outputs": []
    },
    {
      "cell_type": "markdown",
      "source": [
        "### 특정 값의 개수 구하기"
      ],
      "metadata": {
        "id": "Lta-u3P7co0g"
      }
    },
    {
      "cell_type": "code",
      "source": [
        "# count(값)은 리스트에서 특정 값의 개수를 구합니다. \n",
        "cookie_box = [\"마카다미아 쿠키\", \"황치즈 쿠키\", \"레드벨벳 쿠키\", \"오레오 쿠키\", \"황치즈 쿠키\"]\n",
        "cookie_box.count(\"황치즈 쿠키\"), bool(\"치즈 쿠키\")"
      ],
      "metadata": {
        "colab": {
          "base_uri": "https://localhost:8080/"
        },
        "id": "3Hci8EFNcm28",
        "outputId": "9660d6c8-1a43-4d12-fb54-2b646a1ace8e"
      },
      "execution_count": 46,
      "outputs": [
        {
          "output_type": "execute_result",
          "data": {
            "text/plain": [
              "(2, True)"
            ]
          },
          "metadata": {},
          "execution_count": 46
        }
      ]
    },
    {
      "cell_type": "markdown",
      "source": [
        "### 리스트의 순서를 뒤집기"
      ],
      "metadata": {
        "id": "PDPyJqX8cvK2"
      }
    },
    {
      "cell_type": "code",
      "source": [
        "# reverse()는 리스트에서 요소의 순서를 반대로 뒤집습니다.\n",
        "cookie_box = [\"마카다미아 쿠키\", \"황치즈 쿠키\", \"레드벨벳 쿠키\", \"오레오 쿠키\", \"황치즈 쿠키\"]\n",
        "cookie_box.reverse()"
      ],
      "metadata": {
        "id": "dfCNjCf-ctOC"
      },
      "execution_count": 51,
      "outputs": []
    },
    {
      "cell_type": "code",
      "source": [
        "cookie_box"
      ],
      "metadata": {
        "colab": {
          "base_uri": "https://localhost:8080/"
        },
        "id": "nJuTEoPt9qJr",
        "outputId": "22741d20-14b0-4f32-f565-790fe5df723d"
      },
      "execution_count": 53,
      "outputs": [
        {
          "output_type": "execute_result",
          "data": {
            "text/plain": [
              "['황치즈 쿠키', '오레오 쿠키', '레드벨벳 쿠키', '황치즈 쿠키', '마카다미아 쿠키']"
            ]
          },
          "metadata": {},
          "execution_count": 53
        }
      ]
    },
    {
      "cell_type": "code",
      "source": [
        "list(reversed(cookie_box)), cookie_box[::-1]"
      ],
      "metadata": {
        "colab": {
          "base_uri": "https://localhost:8080/"
        },
        "id": "OAmcfnQT9srs",
        "outputId": "e541b2cc-ed60-410c-b281-02113d14fe45"
      },
      "execution_count": 55,
      "outputs": [
        {
          "output_type": "execute_result",
          "data": {
            "text/plain": [
              "(['마카다미아 쿠키', '황치즈 쿠키', '레드벨벳 쿠키', '오레오 쿠키', '황치즈 쿠키'],\n",
              " ['마카다미아 쿠키', '황치즈 쿠키', '레드벨벳 쿠키', '오레오 쿠키', '황치즈 쿠키'])"
            ]
          },
          "metadata": {},
          "execution_count": 55
        }
      ]
    },
    {
      "cell_type": "code",
      "source": [
        "cookie_box.reverse()\n",
        "cookie_box"
      ],
      "metadata": {
        "colab": {
          "base_uri": "https://localhost:8080/"
        },
        "id": "qgX3JhJX-GN3",
        "outputId": "39e35b19-c368-4f1a-f5f6-8d9b6cde4f9e"
      },
      "execution_count": 57,
      "outputs": [
        {
          "output_type": "execute_result",
          "data": {
            "text/plain": [
              "['황치즈 쿠키', '오레오 쿠키', '레드벨벳 쿠키', '황치즈 쿠키', '마카다미아 쿠키']"
            ]
          },
          "metadata": {},
          "execution_count": 57
        }
      ]
    },
    {
      "cell_type": "markdown",
      "source": [
        "### 리스트의 요소를 정렬하기"
      ],
      "metadata": {
        "id": "wKWOgudCc2jU"
      }
    },
    {
      "cell_type": "markdown",
      "source": [
        "sort()는 리스트의 요소을 작은 순서대로 정렬합니다(오름차순).\n",
        "\n",
        "* `sort()` 또는 `sort(reverse=False)`: 리스트의 값을 작은 순서대로 정렬(오름차순)\n",
        "* `sort(reverse=True)`: 리스트의 값을 큰 순서대로 정렬(내림차순)"
      ],
      "metadata": {
        "id": "sfiWcB8Ac6AQ"
      }
    },
    {
      "cell_type": "code",
      "source": [
        "a = [10, 20, 30, 40, 50]\n",
        "a.sort() #reverse = false\n",
        "a #오름차순(뒤로 갈수록 커지는 것) vs 내림차순"
      ],
      "metadata": {
        "colab": {
          "base_uri": "https://localhost:8080/"
        },
        "id": "JbEBreCxc0Ys",
        "outputId": "e80204f9-4eaa-4efd-b661-c874b37401fd"
      },
      "execution_count": 59,
      "outputs": [
        {
          "output_type": "execute_result",
          "data": {
            "text/plain": [
              "[10, 20, 30, 40, 50]"
            ]
          },
          "metadata": {},
          "execution_count": 59
        }
      ]
    },
    {
      "cell_type": "code",
      "source": [
        "a.sort(reverse=True)\n",
        "a"
      ],
      "metadata": {
        "colab": {
          "base_uri": "https://localhost:8080/"
        },
        "id": "5PDel2EX-1IH",
        "outputId": "24f786fc-79ad-44b6-e1a4-d0d7142039ff"
      },
      "execution_count": 61,
      "outputs": [
        {
          "output_type": "execute_result",
          "data": {
            "text/plain": [
              "[50, 40, 30, 20, 10]"
            ]
          },
          "metadata": {},
          "execution_count": 61
        }
      ]
    },
    {
      "cell_type": "code",
      "source": [
        "a = [\"김땡땡\", \"이땡띵\", \"최땡땡\"]\n",
        "a.sort()\n",
        "a #가나다라 순"
      ],
      "metadata": {
        "colab": {
          "base_uri": "https://localhost:8080/"
        },
        "id": "W1ew7umx_ESI",
        "outputId": "e23342dd-8d71-4bac-9957-af8c180036fe"
      },
      "execution_count": 63,
      "outputs": [
        {
          "output_type": "execute_result",
          "data": {
            "text/plain": [
              "['김땡땡', '이땡띵', '최땡땡']"
            ]
          },
          "metadata": {},
          "execution_count": 63
        }
      ]
    },
    {
      "cell_type": "code",
      "source": [
        "a = [\"banana\", \"apple\", \"kiwi\"]\n",
        "a.sort()\n",
        "a #가나다라 순"
      ],
      "metadata": {
        "id": "jYoQTy6X_U9X"
      },
      "execution_count": null,
      "outputs": []
    },
    {
      "cell_type": "code",
      "source": [
        "a = [\"banana\", \"apple\", \"kiwi\"]\n",
        "a.sort(reverse=True)\n",
        "a #가나다라 순"
      ],
      "metadata": {
        "colab": {
          "base_uri": "https://localhost:8080/"
        },
        "id": "KyFYDt1V_aGb",
        "outputId": "bfb689e6-839e-4a16-8b00-c4c7a144d049"
      },
      "execution_count": 67,
      "outputs": [
        {
          "output_type": "execute_result",
          "data": {
            "text/plain": [
              "['kiwi', 'banana', 'apple']"
            ]
          },
          "metadata": {},
          "execution_count": 67
        }
      ]
    },
    {
      "cell_type": "code",
      "source": [
        "a = [\"김땡땡\", \"이땡띵\", \"최땡땡\"]\n",
        "a.sort()\n",
        "a #가나다라 순"
      ],
      "metadata": {
        "id": "t3X0w7RH_g-X",
        "outputId": "7c05c15e-00fa-4952-a795-d575db07e8c7",
        "colab": {
          "base_uri": "https://localhost:8080/"
        }
      },
      "execution_count": 68,
      "outputs": [
        {
          "output_type": "execute_result",
          "data": {
            "text/plain": [
              "['김땡땡', '이땡띵', '최땡땡']"
            ]
          },
          "metadata": {},
          "execution_count": 68
        }
      ]
    },
    {
      "cell_type": "code",
      "source": [
        "a = [\"김땡땡\", \"이땡띵\", \"최땡땡\"]\n",
        "sorted(a), a #원본이 바뀌고 안바뀌고 차이.#가나다라 순"
      ],
      "metadata": {
        "id": "ZR3NgHjz_l6N",
        "outputId": "67af5d1b-1171-4bdc-e835-e833da7339c3",
        "colab": {
          "base_uri": "https://localhost:8080/"
        }
      },
      "execution_count": 72,
      "outputs": [
        {
          "output_type": "execute_result",
          "data": {
            "text/plain": [
              "(['김땡땡', '이땡띵', '최땡땡'], ['김땡땡', '이땡띵', '최땡땡'])"
            ]
          },
          "metadata": {},
          "execution_count": 72
        }
      ]
    },
    {
      "cell_type": "markdown",
      "source": [
        "### sort 메서드와 sorted 함수\n",
        "파이썬은 리스트의 sort 메서드뿐만 아니라 내장 함수 sorted도 제공합니다. sort와 sorted 모두 정렬을 해주는 함수지만, 약간의 차이점이 있습니다. sort는 메서드를 사용한 리스트를 변경하지만, sorted 함수는 정렬된 새 리스트를 생성합니다."
      ],
      "metadata": {
        "id": "UwvaeBYqdE0L"
      }
    },
    {
      "cell_type": "code",
      "source": [
        "a = [\"김땡땡\", \"이땡띵\", \"최땡땡\"]\n",
        "a.sort()\n",
        "a #가나다라 순"
      ],
      "metadata": {
        "colab": {
          "base_uri": "https://localhost:8080/"
        },
        "id": "M6v2UjTpdCPy",
        "outputId": "b9218b7f-3f27-47a0-9e77-4891b3a3b52b"
      },
      "execution_count": 73,
      "outputs": [
        {
          "output_type": "execute_result",
          "data": {
            "text/plain": [
              "['김땡땡', '이땡띵', '최땡땡']"
            ]
          },
          "metadata": {},
          "execution_count": 73
        }
      ]
    },
    {
      "cell_type": "code",
      "source": [
        "a = [\"김땡땡\", \"이땡띵\", \"최땡땡\"]\n",
        "sorted(a), a #원본이 바뀌고 안바뀌고 차이.#가나다라 순"
      ],
      "metadata": {
        "colab": {
          "base_uri": "https://localhost:8080/"
        },
        "id": "S6-aTZwBdJtr",
        "outputId": "bb70e757-aa6b-430f-b1e2-d42418778cb6"
      },
      "execution_count": 74,
      "outputs": [
        {
          "output_type": "execute_result",
          "data": {
            "text/plain": [
              "(['김땡땡', '이땡띵', '최땡땡'], ['김땡땡', '이땡띵', '최땡땡'])"
            ]
          },
          "metadata": {},
          "execution_count": 74
        }
      ]
    },
    {
      "cell_type": "markdown",
      "source": [
        "### 리스트의 모든 요소를 삭제하기"
      ],
      "metadata": {
        "id": "6gIMc9xldPUB"
      }
    },
    {
      "cell_type": "code",
      "source": [
        "# clear()는 리스트의 모든 요소를 삭제합니다.\n",
        "a = [10, 20, 30]\n",
        "a.clear()\n",
        "a"
      ],
      "metadata": {
        "colab": {
          "base_uri": "https://localhost:8080/"
        },
        "id": "1aEgUVm1dKia",
        "outputId": "626ecfc3-ea4f-42f8-868d-e718ca8501df"
      },
      "execution_count": 76,
      "outputs": [
        {
          "output_type": "execute_result",
          "data": {
            "text/plain": [
              "[]"
            ]
          },
          "metadata": {},
          "execution_count": 76
        }
      ]
    },
    {
      "cell_type": "code",
      "source": [
        "# clear 대신 del a[:]와 같이 시작, 끝 인덱스를 생략하여 리스트의 모든 요소를 삭제할 수도 있습니다.\n",
        "a = [10, 20, 30]\n",
        "del a[:]\n",
        "a"
      ],
      "metadata": {
        "colab": {
          "base_uri": "https://localhost:8080/"
        },
        "id": "6zK9ANwrdTXf",
        "outputId": "4cc5d554-7f8c-4b36-a481-9e79ff20e51e"
      },
      "execution_count": 78,
      "outputs": [
        {
          "output_type": "execute_result",
          "data": {
            "text/plain": [
              "[]"
            ]
          },
          "metadata": {},
          "execution_count": 78
        }
      ]
    },
    {
      "cell_type": "code",
      "source": [
        "a = [10, 20, 30]\n",
        "a = []\n",
        "a"
      ],
      "metadata": {
        "id": "UI9xmYP4Aq4_",
        "outputId": "3b566bdf-d9c4-476b-894d-e9e4eb9434a9",
        "colab": {
          "base_uri": "https://localhost:8080/"
        }
      },
      "execution_count": 79,
      "outputs": [
        {
          "output_type": "execute_result",
          "data": {
            "text/plain": [
              "[]"
            ]
          },
          "metadata": {},
          "execution_count": 79
        }
      ]
    },
    {
      "cell_type": "markdown",
      "source": [
        "### 리스트를 슬라이스로 조작하기"
      ],
      "metadata": {
        "id": "3bJXyOdcdYVo"
      }
    },
    {
      "cell_type": "code",
      "source": [
        "# 리스트는 메서드를 사용하지 않고, 슬라이스로 조작할 수도 있습니다. 다음은 리스트 끝에 값이 한 개 들어있는 리스트를 추가합니다.\n",
        "a = [10, 20, 30]\n",
        "a[len(a):] = [500,600]\n",
        "a"
      ],
      "metadata": {
        "colab": {
          "base_uri": "https://localhost:8080/"
        },
        "id": "tS8YUcfsdW1q",
        "outputId": "dbb79423-ee5d-40cb-83f0-4981a09ce5b4"
      },
      "execution_count": 83,
      "outputs": [
        {
          "output_type": "execute_result",
          "data": {
            "text/plain": [
              "[10, 20, 30, 500, 600]"
            ]
          },
          "metadata": {},
          "execution_count": 83
        }
      ]
    },
    {
      "cell_type": "code",
      "source": [],
      "metadata": {
        "id": "0FTQ71tAFznQ"
      },
      "execution_count": null,
      "outputs": []
    },
    {
      "cell_type": "markdown",
      "source": [
        "a[len(a):]는 시작 인덱스를 len(a)로 지정해서 리스트의 마지막 인덱스보다 1이 더 큰 상태입니다. 즉, 그림과 같이 리스트 끝에서부터 시작하겠다는 뜻입니다(이때는 리스트의 범위를 벗어난 인덱스를 사용할 수 있습니다).\n",
        "\n",
        "그리고 a[len(a):] = [..., ...]과 같이 요소가 여러 개 들어있는 리스트를 할당하면 리스트 a 끝에 다른 리스트를 연결한다는 뜻입니다."
      ],
      "metadata": {
        "id": "pfWo0arKddS0"
      }
    },
    {
      "cell_type": "code",
      "source": [],
      "metadata": {
        "colab": {
          "base_uri": "https://localhost:8080/"
        },
        "id": "NREk8TlNdcsq",
        "outputId": "6c6d425a-3461-465e-eaf6-945b4ae625ef"
      },
      "execution_count": null,
      "outputs": [
        {
          "output_type": "execute_result",
          "data": {
            "text/plain": [
              "[10, 20, 30, 500, 600]"
            ]
          },
          "metadata": {},
          "execution_count": 26
        }
      ]
    },
    {
      "cell_type": "markdown",
      "source": [
        "### 리스트가 비어 있는지 확인하기\n"
      ],
      "metadata": {
        "id": "1vvNYOe4dtkD"
      }
    },
    {
      "cell_type": "markdown",
      "source": [
        "리스트(시퀀스 객체)가 비어 있는지 확인하려면 어떻게 해야 할까요? 방법은 간단합니다. 리스트는 len 함수로 길이를 구할 수 있죠? 이걸 if 조건문으로 판단하면 리스트가 비어 있는지 확인할 수 있습니다.\n",
        "\n",
        "```\n",
        "if not len(seq):    # 리스트가 비어 있으면 True\n",
        "if len(seq):        # 리스트에 요소가 있으면 True\n",
        "```\n",
        "\n",
        "하지만 파이썬에서는 이 방법보다 리스트(시퀀스 객체)를 바로 if 조건문으로 판단하는 방법을 권장합니다(PEP 8).\n",
        "```\n",
        "if not seq:    # 리스트가 비어 있으면 True\n",
        "if seq:        # 리스트에 내용이 있으면 True\n",
        "```\n",
        "\n",
        "특히 리스트가 비어 있는지 확인하는 방법은 리스트의 마지막 요소에 접근할 때 유용하게 사용할 수 있습니다. 리스트의 마지막 요소에 접근할 때는 인덱스를 -1로 지정하면 되죠?"
      ],
      "metadata": {
        "id": "qawioHuxdwFi"
      }
    },
    {
      "cell_type": "code",
      "source": [
        "a = [1, 2, 3, 4]\n",
        "bool(a)"
      ],
      "metadata": {
        "colab": {
          "base_uri": "https://localhost:8080/"
        },
        "id": "j32oAW-Jdp0r",
        "outputId": "64cc2d6d-4295-4447-f466-ca239f5e8189"
      },
      "execution_count": 85,
      "outputs": [
        {
          "output_type": "execute_result",
          "data": {
            "text/plain": [
              "True"
            ]
          },
          "metadata": {},
          "execution_count": 85
        }
      ]
    },
    {
      "cell_type": "code",
      "source": [
        "a = []\n",
        "bool(a)"
      ],
      "metadata": {
        "id": "Wqdkl5WbGf8L",
        "outputId": "88268904-60d9-449e-e8b6-a2b8256746cb",
        "colab": {
          "base_uri": "https://localhost:8080/"
        }
      },
      "execution_count": 86,
      "outputs": [
        {
          "output_type": "execute_result",
          "data": {
            "text/plain": [
              "False"
            ]
          },
          "metadata": {},
          "execution_count": 86
        }
      ]
    },
    {
      "cell_type": "code",
      "source": [
        "seq = [10, 20, 30]\n",
        "seq[-1]"
      ],
      "metadata": {
        "id": "tusraipSGi8r",
        "outputId": "4142756f-d6b0-40f3-eed2-42eb00363a8f",
        "colab": {
          "base_uri": "https://localhost:8080/"
        }
      },
      "execution_count": 89,
      "outputs": [
        {
          "output_type": "execute_result",
          "data": {
            "text/plain": [
              "30"
            ]
          },
          "metadata": {},
          "execution_count": 89
        }
      ]
    },
    {
      "cell_type": "code",
      "source": [
        "# 만약 리스트가 비어 있을 경우에는 인덱스를 -1로 지정하면 에러가 발생합니다.\n",
        "seq = []\n",
        "seq[-1]"
      ],
      "metadata": {
        "colab": {
          "base_uri": "https://localhost:8080/",
          "height": 208
        },
        "id": "sYDzJPyJd6Gb",
        "outputId": "503fa5ec-e541-46a7-8ff6-c64fc6f610a7"
      },
      "execution_count": 91,
      "outputs": [
        {
          "output_type": "error",
          "ename": "IndexError",
          "evalue": "ignored",
          "traceback": [
            "\u001b[0;31m---------------------------------------------------------------------------\u001b[0m",
            "\u001b[0;31mIndexError\u001b[0m                                Traceback (most recent call last)",
            "\u001b[0;32m<ipython-input-91-bd8d55ef38f9>\u001b[0m in \u001b[0;36m<module>\u001b[0;34m\u001b[0m\n\u001b[1;32m      1\u001b[0m \u001b[0;31m# 만약 리스트가 비어 있을 경우에는 인덱스를 -1로 지정하면 에러가 발생합니다.\u001b[0m\u001b[0;34m\u001b[0m\u001b[0;34m\u001b[0m\u001b[0;34m\u001b[0m\u001b[0m\n\u001b[1;32m      2\u001b[0m \u001b[0mseq\u001b[0m \u001b[0;34m=\u001b[0m \u001b[0;34m[\u001b[0m\u001b[0;34m]\u001b[0m\u001b[0;34m\u001b[0m\u001b[0;34m\u001b[0m\u001b[0m\n\u001b[0;32m----> 3\u001b[0;31m \u001b[0mseq\u001b[0m\u001b[0;34m[\u001b[0m\u001b[0;34m-\u001b[0m\u001b[0;36m1\u001b[0m\u001b[0;34m]\u001b[0m\u001b[0;34m\u001b[0m\u001b[0;34m\u001b[0m\u001b[0m\n\u001b[0m",
            "\u001b[0;31mIndexError\u001b[0m: list index out of range"
          ]
        }
      ]
    },
    {
      "cell_type": "code",
      "source": [
        "# 이때는 if 조건문을 활용하여 리스트에 요소가 있을 때만 마지막 요소를 가져오면 됩니다.\n",
        "if seq:  # seq == True? : 원소가 1개 이상 있다.\n",
        "    print(seq[0])\n",
        "    print(seq[-1])"
      ],
      "metadata": {
        "id": "GqhZ3c-Dd9Ur"
      },
      "execution_count": 92,
      "outputs": []
    },
    {
      "cell_type": "markdown",
      "source": [
        "## 리스트의 할당과 복사"
      ],
      "metadata": {
        "id": "6d1JLG9_eIeA"
      }
    },
    {
      "cell_type": "markdown",
      "source": [
        "이번에는 리스트의 할당과 복사에 대해 알아보겠습니다. 할당과 복사는 비슷한 것 같지만 큰 차이점이 있습니다.\n",
        "\n",
        "* 얉은 복사(swallow copy)와 깊은 복사(deep copy)"
      ],
      "metadata": {
        "id": "Jz30wEWteKgT"
      }
    },
    {
      "cell_type": "code",
      "source": [
        "a = [0] * 5\n",
        "a"
      ],
      "metadata": {
        "id": "RldCBZxteNGu",
        "colab": {
          "base_uri": "https://localhost:8080/"
        },
        "outputId": "3de52e30-1489-4c3c-8953-7790a808efdb"
      },
      "execution_count": 94,
      "outputs": [
        {
          "output_type": "execute_result",
          "data": {
            "text/plain": [
              "[0, 0, 0, 0, 0]"
            ]
          },
          "metadata": {},
          "execution_count": 94
        }
      ]
    },
    {
      "cell_type": "code",
      "source": [
        "b = a"
      ],
      "metadata": {
        "id": "VRhEn2ogH6i-"
      },
      "execution_count": 95,
      "outputs": []
    },
    {
      "cell_type": "code",
      "source": [
        "a, b"
      ],
      "metadata": {
        "id": "yNmaF0_wICd_",
        "outputId": "7eac7b86-42d2-44dc-f0f6-c7a492804b21",
        "colab": {
          "base_uri": "https://localhost:8080/"
        }
      },
      "execution_count": 97,
      "outputs": [
        {
          "output_type": "execute_result",
          "data": {
            "text/plain": [
              "([0, 0, 0, 0, 0], [0, 0, 0, 0, 0])"
            ]
          },
          "metadata": {},
          "execution_count": 97
        }
      ]
    },
    {
      "cell_type": "code",
      "source": [
        "a[1] = 200\n",
        "a, b # a만 바꾸고 싶은데 b도바뀜"
      ],
      "metadata": {
        "id": "3TMUzzF0IFHF",
        "outputId": "c344eb8c-089a-4ac2-9ba7-a20ebc2bae8e",
        "colab": {
          "base_uri": "https://localhost:8080/"
        }
      },
      "execution_count": 99,
      "outputs": [
        {
          "output_type": "execute_result",
          "data": {
            "text/plain": [
              "([0, 200, 0, 0, 0], [0, 200, 0, 0, 0])"
            ]
          },
          "metadata": {},
          "execution_count": 99
        }
      ]
    },
    {
      "cell_type": "code",
      "source": [
        "b[2] = 300\n",
        "a, b"
      ],
      "metadata": {
        "id": "nTvJgYuDIIY4",
        "outputId": "36491839-fc6d-4a7e-a3da-14b542d91eb2",
        "colab": {
          "base_uri": "https://localhost:8080/"
        }
      },
      "execution_count": 109,
      "outputs": [
        {
          "output_type": "execute_result",
          "data": {
            "text/plain": [
              "([0, 200, 999, 0, 0], [0, 200, 300, 0, 0])"
            ]
          },
          "metadata": {},
          "execution_count": 109
        }
      ]
    },
    {
      "cell_type": "markdown",
      "source": [
        "b = a와 같이 리스트를 다른 변수에 할당하면 리스트는 두 개가 될 것 같지만 실제로는 리스트가 한 개입니다."
      ],
      "metadata": {
        "id": "2ysvkHOfePOv"
      }
    },
    {
      "cell_type": "code",
      "source": [
        "# a와 b를 is 연산자로 비교해보면 True가 나옵니다. 즉, 변수 이름만 다를 뿐 리스트 a와 b는 같은 객체입니다.\n",
        "a is b"
      ],
      "metadata": {
        "colab": {
          "base_uri": "https://localhost:8080/"
        },
        "id": "o0DHXG8PeN_i",
        "outputId": "99d9b39d-a0f4-4617-c0d5-9595e302b562"
      },
      "execution_count": 110,
      "outputs": [
        {
          "output_type": "execute_result",
          "data": {
            "text/plain": [
              "False"
            ]
          },
          "metadata": {},
          "execution_count": 110
        }
      ]
    },
    {
      "cell_type": "code",
      "source": [
        "# a와 b는 같으므로 b[2] = 99와 같이 리스트 b의 요소를 변경하면 리스트 a와 b에 모두 반영됩니다.\n",
        "b = a.copy() #둘의 연관관계를 두지 않겠다. b는 a의 카피다."
      ],
      "metadata": {
        "id": "AsSQDheXeSiL"
      },
      "execution_count": 106,
      "outputs": []
    },
    {
      "cell_type": "code",
      "source": [
        "# 리스트 a와 b를 완전히 두 개로 만들려면 copy 메서드로 모든 요소를 복사해야 합니다.\n"
      ],
      "metadata": {
        "id": "_aTWRaykeWD3"
      },
      "execution_count": null,
      "outputs": []
    },
    {
      "cell_type": "markdown",
      "source": [
        "b = a.copy()와 같이 copy를 사용한 뒤 b에 할당해주면 리스트 a의 요소가 모두 b에 복사됩니다."
      ],
      "metadata": {
        "id": "W8ex3D0Jeb2B"
      }
    },
    {
      "cell_type": "code",
      "source": [
        "# a와 b를 is 연산자로 비교해보면 False가 나옵니다. 즉, 두 리스트는 다른 객체입니다. 그러나 복사된 요소는 모두 같으므로 ==로 비교하면 True가 나옵니다.\n",
        "a is b, a == b"
      ],
      "metadata": {
        "colab": {
          "base_uri": "https://localhost:8080/"
        },
        "id": "yYUHIwLdea5D",
        "outputId": "200a1732-a830-4093-8496-2e5f63193e9b"
      },
      "execution_count": 107,
      "outputs": [
        {
          "output_type": "execute_result",
          "data": {
            "text/plain": [
              "(False, True)"
            ]
          },
          "metadata": {},
          "execution_count": 107
        }
      ]
    },
    {
      "cell_type": "code",
      "source": [
        "# 이제 리스트 a와 b는 별개이므로 한쪽의 값을 변경해도 다른 리스트에 영향을 미치지 않습니다.\n",
        "# 다음과 같이 리스트 b의 요소를 변경하면 리스트 a는 그대로이고 리스트 b만 바뀝니다.\n",
        "print(a, b)\n",
        "a[2] = 999\n",
        "a, b"
      ],
      "metadata": {
        "colab": {
          "base_uri": "https://localhost:8080/"
        },
        "id": "oqLtWyEFeh3Q",
        "outputId": "109f01d6-6fbe-4477-c4b6-7c51462da3c3"
      },
      "execution_count": 112,
      "outputs": [
        {
          "output_type": "stream",
          "name": "stdout",
          "text": [
            "[0, 200, 999, 0, 0] [0, 200, 300, 0, 0]\n"
          ]
        },
        {
          "output_type": "execute_result",
          "data": {
            "text/plain": [
              "([0, 200, 999, 0, 0], [0, 200, 300, 0, 0])"
            ]
          },
          "metadata": {},
          "execution_count": 112
        }
      ]
    },
    {
      "cell_type": "code",
      "source": [
        "a = [ \"name\" : \"young\", \"age\" : 20]\n",
        "b = a"
      ],
      "metadata": {
        "id": "o8J5s_PvKhzL",
        "outputId": "da732e3a-1e65-45b4-ca61-8e1838256b66",
        "colab": {
          "base_uri": "https://localhost:8080/",
          "height": 136
        }
      },
      "execution_count": 116,
      "outputs": [
        {
          "output_type": "error",
          "ename": "SyntaxError",
          "evalue": "ignored",
          "traceback": [
            "\u001b[0;36m  File \u001b[0;32m\"<ipython-input-116-4b1ccf7254c1>\"\u001b[0;36m, line \u001b[0;32m1\u001b[0m\n\u001b[0;31m    a = [ \"name\" : \"young\", \"age\" : 20]\u001b[0m\n\u001b[0m                 ^\u001b[0m\n\u001b[0;31mSyntaxError\u001b[0m\u001b[0;31m:\u001b[0m invalid syntax\n"
          ]
        }
      ]
    },
    {
      "cell_type": "code",
      "source": [],
      "metadata": {
        "id": "IRGi9W-4KqBP"
      },
      "execution_count": null,
      "outputs": []
    },
    {
      "cell_type": "markdown",
      "source": [
        "## 반복문으로 리스트의 요소를 모두 출력하기"
      ],
      "metadata": {
        "id": "0k4CI6vtewQR"
      }
    },
    {
      "cell_type": "markdown",
      "source": [
        "### for 반복문으로 요소 출력하기"
      ],
      "metadata": {
        "id": "YWNVY17ke1h3"
      }
    },
    {
      "cell_type": "markdown",
      "source": [
        "for 반복문은 그냥 in 뒤에 리스트를 지정하면 됩니다.\n",
        "\n",
        "```\n",
        "for 변수 in 리스트:\n",
        "     반복할 코드\n",
        "```"
      ],
      "metadata": {
        "id": "5vurwh3xe3ET"
      }
    },
    {
      "cell_type": "code",
      "source": [
        "for v in [\"헤이즐넛아메리카노\", \"단호박 라떼\", \"1L킹아메리카노\"]:\n",
        "    print(v)"
      ],
      "metadata": {
        "colab": {
          "base_uri": "https://localhost:8080/"
        },
        "id": "ct3OpCIEen4U",
        "outputId": "db6000f5-8a4b-421d-a96b-b1f91711cb76"
      },
      "execution_count": 118,
      "outputs": [
        {
          "output_type": "stream",
          "name": "stdout",
          "text": [
            "헤이즐넛아메리카노\n",
            "단호박 라떼\n",
            "1L킹아메리카노\n"
          ]
        }
      ]
    },
    {
      "cell_type": "code",
      "source": [
        "for _ in range(10): # _ : 안쓰겠다\n",
        "    print(\"안녕\")"
      ],
      "metadata": {
        "id": "d7HNeEw2LhOx",
        "outputId": "e60034b9-4728-43ee-e034-378cf48c8b3d",
        "colab": {
          "base_uri": "https://localhost:8080/"
        }
      },
      "execution_count": 119,
      "outputs": [
        {
          "output_type": "stream",
          "name": "stdout",
          "text": [
            "안녕\n",
            "안녕\n",
            "안녕\n",
            "안녕\n",
            "안녕\n",
            "안녕\n",
            "안녕\n",
            "안녕\n",
            "안녕\n",
            "안녕\n"
          ]
        }
      ]
    },
    {
      "cell_type": "markdown",
      "source": [
        "`for i in a:`는 리스트 a에서 요소를 꺼내서 i에 저장하고, 꺼낼 때마다 코드를 반복합니다. 따라서 print로 i를 출력하면 모든 요소를 순서대로 출력할 수 있습니다.\n",
        "\n"
      ],
      "metadata": {
        "id": "A91t5ahze-KX"
      }
    },
    {
      "cell_type": "markdown",
      "source": [
        "### 인덱스와 요소를 함께 출력하기"
      ],
      "metadata": {
        "id": "wANTR49BfDYp"
      }
    },
    {
      "cell_type": "markdown",
      "source": [
        "그럼 for 반복문으로 요소를 출력할 때 인덱스도 함께 출력하려면 어떻게 해야 할까요? 이때는 `enumerate`를 사용합니다.\n",
        "\n",
        "* `for 인덱스, 요소 in enumerate(리스트)`:"
      ],
      "metadata": {
        "id": "wjXgsWEPfE9z"
      }
    },
    {
      "cell_type": "code",
      "source": [
        "a = [\"헤이즐넛아메리카노\", \"단호박 라떼\", \"1L킹아메리카노\"]\n",
        "for i in enumerate(a):\n",
        "    print(i)\n",
        "    print(type(i))\n",
        "    print(len(i))"
      ],
      "metadata": {
        "colab": {
          "base_uri": "https://localhost:8080/"
        },
        "id": "h1DEXzICfANv",
        "outputId": "b87eac63-f19a-4455-b062-3d5fab9fc3dd"
      },
      "execution_count": 122,
      "outputs": [
        {
          "output_type": "stream",
          "name": "stdout",
          "text": [
            "(0, '헤이즐넛아메리카노')\n",
            "<class 'tuple'>\n",
            "2\n",
            "(1, '단호박 라떼')\n",
            "<class 'tuple'>\n",
            "2\n",
            "(2, '1L킹아메리카노')\n",
            "<class 'tuple'>\n",
            "2\n"
          ]
        }
      ]
    },
    {
      "cell_type": "code",
      "source": [
        "for i, v in enumerate(a):\n",
        "    print(i, v)"
      ],
      "metadata": {
        "id": "pNs24uw1MKSj",
        "outputId": "620f8348-d6f9-4592-c628-736e6d77fbc2",
        "colab": {
          "base_uri": "https://localhost:8080/"
        }
      },
      "execution_count": 124,
      "outputs": [
        {
          "output_type": "stream",
          "name": "stdout",
          "text": [
            "0 헤이즐넛아메리카노\n",
            "1 단호박 라떼\n",
            "2 1L킹아메리카노\n"
          ]
        }
      ]
    },
    {
      "cell_type": "code",
      "source": [
        "b = a * 1"
      ],
      "metadata": {
        "id": "i2n8Mb38MgPi"
      },
      "execution_count": 127,
      "outputs": []
    },
    {
      "cell_type": "code",
      "source": [],
      "metadata": {
        "id": "Ml71U1eSMpzL"
      },
      "execution_count": null,
      "outputs": []
    },
    {
      "cell_type": "markdown",
      "source": [
        "`for index, value in enumerate(a):`와 같이 enumerate에 리스트를 넣으면 for 반복문에서 인덱스와 요소를 동시에 꺼내 올 수 있습니다."
      ],
      "metadata": {
        "id": "b9uh7bkyfNCw"
      }
    },
    {
      "cell_type": "code",
      "source": [
        "# 인덱스 1부터 출력하기\n",
        "for index, value in enumerate(a):\n",
        "    print(index, value)"
      ],
      "metadata": {
        "colab": {
          "base_uri": "https://localhost:8080/"
        },
        "id": "45kSKrIlfKqr",
        "outputId": "53f5c487-4dcf-4804-d893-295effdb626f"
      },
      "execution_count": 128,
      "outputs": [
        {
          "output_type": "stream",
          "name": "stdout",
          "text": [
            "0 헤이즐넛아메리카노\n",
            "1 단호박 라떼\n",
            "2 1L킹아메리카노\n"
          ]
        }
      ]
    },
    {
      "cell_type": "markdown",
      "source": [
        "enumerate에 start를 지정해주면 시작 인덱스를 바꿀 수 있습니다.\n",
        "\n",
        "* `for 인덱스, 요소 in enumerate(리스트, start=숫자):`"
      ],
      "metadata": {
        "id": "V33hweywfcjS"
      }
    },
    {
      "cell_type": "code",
      "source": [
        "# for index, value in enumerate(a, start=1):\n",
        "for index, value in enumerate(a, start = 1):\n",
        "    print(index, value)"
      ],
      "metadata": {
        "colab": {
          "base_uri": "https://localhost:8080/"
        },
        "id": "LIVvo8InfR_a",
        "outputId": "6fbb2085-1a29-4820-ea52-735d0e320ce2"
      },
      "execution_count": 130,
      "outputs": [
        {
          "output_type": "stream",
          "name": "stdout",
          "text": [
            "1 헤이즐넛아메리카노\n",
            "2 단호박 라떼\n",
            "3 1L킹아메리카노\n"
          ]
        }
      ]
    },
    {
      "cell_type": "code",
      "source": [
        "for index, value in enumerate(a, 1):\n",
        "    print(index, value)"
      ],
      "metadata": {
        "id": "Y1NdXImRTTPP",
        "outputId": "cccfea59-8999-43b5-81bd-fbf1179051e7",
        "colab": {
          "base_uri": "https://localhost:8080/"
        }
      },
      "execution_count": 131,
      "outputs": [
        {
          "output_type": "stream",
          "name": "stdout",
          "text": [
            "1 헤이즐넛아메리카노\n",
            "2 단호박 라떼\n",
            "3 1L킹아메리카노\n"
          ]
        }
      ]
    },
    {
      "cell_type": "markdown",
      "source": [
        "### while반복문으로 요소 출력하기"
      ],
      "metadata": {
        "id": "lAY7CEqafoOL"
      }
    },
    {
      "cell_type": "code",
      "source": [
        "print(a)\n",
        "i = 0\n",
        "while i < len(a):\n",
        "    print(a[i])\n",
        "    i += 1"
      ],
      "metadata": {
        "colab": {
          "base_uri": "https://localhost:8080/"
        },
        "id": "0YS5UjeqfhaV",
        "outputId": "3d5931fa-0d7c-4603-9ccf-994c11ac9655"
      },
      "execution_count": 135,
      "outputs": [
        {
          "output_type": "stream",
          "name": "stdout",
          "text": [
            "['헤이즐넛아메리카노', '단호박 라떼', '1L킹아메리카노']\n",
            "헤이즐넛아메리카노\n",
            "단호박 라떼\n",
            "1L킹아메리카노\n"
          ]
        }
      ]
    },
    {
      "cell_type": "code",
      "source": [
        "# i++, i--, ++i, --i"
      ],
      "metadata": {
        "id": "R3VrIfFaT0tD"
      },
      "execution_count": null,
      "outputs": []
    },
    {
      "cell_type": "markdown",
      "source": [
        "즉, 리스트의 인덱스는 0부터 시작하고 마지막 인덱스는 리스트의 길이보다 1이 작으므로 <를 사용합니다. 만약 i <= len(a)처럼 <=을 사용하면 리스트의 범위를 벗어나게 되므로 주의해야 합니다."
      ],
      "metadata": {
        "id": "wyN28kGnf5fr"
      }
    },
    {
      "cell_type": "code",
      "source": [],
      "metadata": {
        "id": "aizuNqiafsce"
      },
      "execution_count": null,
      "outputs": []
    },
    {
      "cell_type": "markdown",
      "source": [
        "## 리스트(튜플)의 가장 작은 수, 가장 큰 수, 합계 구하기"
      ],
      "metadata": {
        "id": "MqIPe-nPf9Eh"
      }
    },
    {
      "cell_type": "markdown",
      "source": [
        "### 가장 작은 수와 가장 큰 수 구하기"
      ],
      "metadata": {
        "id": "t7xNr8-QhAWi"
      }
    },
    {
      "cell_type": "markdown",
      "source": [
        "먼저 가장 작은 수와 가장 큰 수는 어떻게 구할까요? 앞에서 반복문을 배웠으니 요소를 모두 반복하면서 숫자를 찾아내 보겠습니다."
      ],
      "metadata": {
        "id": "GEyMNz5EhCE3"
      }
    },
    {
      "cell_type": "code",
      "source": [],
      "metadata": {
        "colab": {
          "base_uri": "https://localhost:8080/"
        },
        "id": "Z_wZLlnmf_Pf",
        "outputId": "83b60c04-cfd6-49ec-879c-5965e06b86b4"
      },
      "execution_count": null,
      "outputs": [
        {
          "output_type": "execute_result",
          "data": {
            "text/plain": [
              "19"
            ]
          },
          "metadata": {},
          "execution_count": 44
        }
      ]
    },
    {
      "cell_type": "markdown",
      "source": [
        "먼저 리스트 a의 첫 번째 요소 a[0]를 변수 smallest에 저장합니다. 그리고 for로 리스트의 요소를 모두 반복하면서 i가 smallest보다 작으면 smallest에 i를 할당합니다. 즉, 숫자를 계속 비교해서 숫자가 작으면 smallest를 바꾸는 방식입니다."
      ],
      "metadata": {
        "id": "EEvsBEH6hNHR"
      }
    },
    {
      "cell_type": "code",
      "source": [
        "# 가장 큰 수는 부등호를 반대로 만들면 되겠죠?\n"
      ],
      "metadata": {
        "colab": {
          "base_uri": "https://localhost:8080/"
        },
        "id": "774LxQ3whHFo",
        "outputId": "f12a1129-c711-4c56-dabb-4e1125540392"
      },
      "execution_count": null,
      "outputs": [
        {
          "output_type": "execute_result",
          "data": {
            "text/plain": [
              "62"
            ]
          },
          "metadata": {},
          "execution_count": 45
        }
      ]
    },
    {
      "cell_type": "markdown",
      "source": [
        "리스트의 숫자를 계속 비교해서 숫자가 크면 largest를 바꾸는 방식입니다. 그런데 이렇게 for와 if를 사용해서 가장 작은 수와 가장 큰 수를 찾으려니 좀 번거롭습니다. 다른 방법이 없을까요?\n",
        "\n",
        "앞에서 리스트를 정렬하는 sort 메서드를 배웠습니다. 리스트를 작은 순서대로 정렬(오름차순)하면 첫 번째 요소가 가장 작은 수입니다. 반대로 큰 순서대로 정렬(내림차순)하면 첫 번째 요소가 가장 큰 수가 되겠죠?"
      ],
      "metadata": {
        "id": "I3Szy57DhVye"
      }
    },
    {
      "cell_type": "code",
      "source": [],
      "metadata": {
        "colab": {
          "base_uri": "https://localhost:8080/"
        },
        "id": "4EvmEtahhTLw",
        "outputId": "4ef31c05-cc0a-4e60-f586-841a4735b90a"
      },
      "execution_count": null,
      "outputs": [
        {
          "output_type": "execute_result",
          "data": {
            "text/plain": [
              "19"
            ]
          },
          "metadata": {},
          "execution_count": 46
        }
      ]
    },
    {
      "cell_type": "code",
      "source": [],
      "metadata": {
        "colab": {
          "base_uri": "https://localhost:8080/"
        },
        "id": "lDkh5H3mhYo9",
        "outputId": "91dec8bd-1266-46f5-b212-bcb05f333b9d"
      },
      "execution_count": null,
      "outputs": [
        {
          "output_type": "execute_result",
          "data": {
            "text/plain": [
              "62"
            ]
          },
          "metadata": {},
          "execution_count": 47
        }
      ]
    },
    {
      "cell_type": "code",
      "source": [
        "a = [100, 200, 400, 50]"
      ],
      "metadata": {
        "id": "7SlfPcPyUtuf"
      },
      "execution_count": 136,
      "outputs": []
    },
    {
      "cell_type": "code",
      "source": [
        "# 더 간단한 방법이 있습니다. 파이썬에서 제공하는 min, max 함수를 사용하면 됩니다.\n",
        "min(a) # minimum"
      ],
      "metadata": {
        "colab": {
          "base_uri": "https://localhost:8080/"
        },
        "id": "gxZ4L8jFha5G",
        "outputId": "fa373a55-90d2-48ae-f430-28f9d1687953"
      },
      "execution_count": 137,
      "outputs": [
        {
          "output_type": "execute_result",
          "data": {
            "text/plain": [
              "50"
            ]
          },
          "metadata": {},
          "execution_count": 137
        }
      ]
    },
    {
      "cell_type": "code",
      "source": [
        "max(a) # maximum"
      ],
      "metadata": {
        "id": "IqFGu1yZU0pi",
        "outputId": "9fd821d2-d8db-4b3d-fd51-1a454141ba23",
        "colab": {
          "base_uri": "https://localhost:8080/"
        }
      },
      "execution_count": 138,
      "outputs": [
        {
          "output_type": "execute_result",
          "data": {
            "text/plain": [
              "400"
            ]
          },
          "metadata": {},
          "execution_count": 138
        }
      ]
    },
    {
      "cell_type": "code",
      "source": [
        "sorted(a) # 오름차순\n",
        "# 맨 앞 (0) : 최소값, 맨 뒤 (-1) : 최대값\n",
        "sorted(a)[0], sorted(a)[-1]"
      ],
      "metadata": {
        "id": "VD7ZKowdU4So",
        "outputId": "47bd6689-ed83-4dee-c97f-4f6cf9e7cf8a",
        "colab": {
          "base_uri": "https://localhost:8080/"
        }
      },
      "execution_count": 141,
      "outputs": [
        {
          "output_type": "execute_result",
          "data": {
            "text/plain": [
              "(50, 400)"
            ]
          },
          "metadata": {},
          "execution_count": 141
        }
      ]
    },
    {
      "cell_type": "code",
      "source": [
        "sorted(a, reverse = True) # 내림차순\n",
        "# 맨 앞 (0) : 최대값, 맨 뒤 (-1) : 최소값\n",
        "sorted(a)[0], sorted(a)[-1]"
      ],
      "metadata": {
        "id": "WqpluEkCVSI1",
        "outputId": "525a2425-d3e5-4d15-b1c7-40bcd300b727",
        "colab": {
          "base_uri": "https://localhost:8080/"
        }
      },
      "execution_count": 143,
      "outputs": [
        {
          "output_type": "execute_result",
          "data": {
            "text/plain": [
              "(50, 400)"
            ]
          },
          "metadata": {},
          "execution_count": 143
        }
      ]
    },
    {
      "cell_type": "markdown",
      "source": [
        "min은 리스트에서 가장 작은 값을 구하고, max는 가장 큰 값을 구합니다."
      ],
      "metadata": {
        "id": "FvBpnEtyhgT0"
      }
    },
    {
      "cell_type": "markdown",
      "source": [
        "### 요소의 합계 구하기"
      ],
      "metadata": {
        "id": "9VJIGdZMhiXX"
      }
    },
    {
      "cell_type": "code",
      "source": [
        "# 이번에는 리스트에서 요소의 합계를 구해보겠습니다. 합계를 구할 때도 반복문을 사용할 수 있겠죠?\n",
        "print(a)\n",
        "sum(a) # summarization"
      ],
      "metadata": {
        "colab": {
          "base_uri": "https://localhost:8080/"
        },
        "id": "E5bDqoRthezr",
        "outputId": "1ffee376-f6f0-455e-f26c-c148b830dac0"
      },
      "execution_count": 146,
      "outputs": [
        {
          "output_type": "stream",
          "name": "stdout",
          "text": [
            "[100, 200, 400, 50]\n"
          ]
        },
        {
          "output_type": "execute_result",
          "data": {
            "text/plain": [
              "750"
            ]
          },
          "metadata": {},
          "execution_count": 146
        }
      ]
    },
    {
      "cell_type": "code",
      "source": [
        "a= [\"바나나\", \"떡복이\", '김치볶음밥']\n",
        "sum(a)"
      ],
      "metadata": {
        "id": "hjC3MpdQV3aJ",
        "outputId": "06fd6a89-bd0b-4225-9ef3-bf3bbdfb70d5",
        "colab": {
          "base_uri": "https://localhost:8080/",
          "height": 190
        }
      },
      "execution_count": 148,
      "outputs": [
        {
          "output_type": "error",
          "ename": "TypeError",
          "evalue": "ignored",
          "traceback": [
            "\u001b[0;31m---------------------------------------------------------------------------\u001b[0m",
            "\u001b[0;31mTypeError\u001b[0m                                 Traceback (most recent call last)",
            "\u001b[0;32m<ipython-input-148-3efe5de67aff>\u001b[0m in \u001b[0;36m<module>\u001b[0;34m\u001b[0m\n\u001b[1;32m      1\u001b[0m \u001b[0ma\u001b[0m\u001b[0;34m=\u001b[0m \u001b[0;34m[\u001b[0m\u001b[0;34m\"바나나\"\u001b[0m\u001b[0;34m,\u001b[0m \u001b[0;34m\"떡복이\"\u001b[0m\u001b[0;34m,\u001b[0m \u001b[0;34m'김치볶음밥'\u001b[0m\u001b[0;34m]\u001b[0m\u001b[0;34m\u001b[0m\u001b[0;34m\u001b[0m\u001b[0m\n\u001b[0;32m----> 2\u001b[0;31m \u001b[0msum\u001b[0m\u001b[0;34m(\u001b[0m\u001b[0ma\u001b[0m\u001b[0;34m)\u001b[0m\u001b[0;34m\u001b[0m\u001b[0;34m\u001b[0m\u001b[0m\n\u001b[0m",
            "\u001b[0;31mTypeError\u001b[0m: unsupported operand type(s) for +: 'int' and 'str'"
          ]
        }
      ]
    },
    {
      "cell_type": "code",
      "source": [
        "a.join(a) # 문자열 합치기"
      ],
      "metadata": {
        "id": "oGWmvjluWGq_"
      },
      "execution_count": null,
      "outputs": []
    },
    {
      "cell_type": "markdown",
      "source": [
        "변수 x에 0을 할당하고, for 반복문으로 리스트의 요소를 모두 반복하면서 요소를 x에 계속 더해주면 됩니다. 이때 x에는 반드시 0을 할당해야 합니다. 그렇지 않으면 없는 변수에 값을 더하게 되므로 에러가 발생합니다. 또한, 0부터 시작해서 숫자를 더해야 제대로 된 합계가 구해지겠죠?"
      ],
      "metadata": {
        "id": "QWtnq2tJhsbh"
      }
    },
    {
      "cell_type": "markdown",
      "source": [
        "사실 이 방법도 좀 번거롭습니다. 그래서 파이썬에서는 합계를 구하는 sum 함수를 제공합니다."
      ],
      "metadata": {
        "id": "ol1IRaKqhtz3"
      }
    },
    {
      "cell_type": "code",
      "source": [
        "a = [10, 10, 10, 10, 10]\n",
        "sum(a)"
      ],
      "metadata": {
        "colab": {
          "base_uri": "https://localhost:8080/"
        },
        "id": "ylFf2-HLhqiV",
        "outputId": "ced9c1ea-2ea2-47d4-e195-7e668cc6e294"
      },
      "execution_count": null,
      "outputs": [
        {
          "output_type": "execute_result",
          "data": {
            "text/plain": [
              "50"
            ]
          },
          "metadata": {},
          "execution_count": 50
        }
      ]
    },
    {
      "cell_type": "markdown",
      "source": [
        "## 리스트 표현식 사용하기 **중요**"
      ],
      "metadata": {
        "id": "PNoWyCtUhzaU"
      }
    },
    {
      "cell_type": "code",
      "source": [],
      "metadata": {
        "id": "DuP-yVG-WfqK"
      },
      "execution_count": null,
      "outputs": []
    },
    {
      "cell_type": "markdown",
      "source": [
        "파이썬의 리스트가 특이한 점은 리스트 안에 for 반복문과 if 조건문을 사용할 수 있다는 점입니다. 이렇게 리스트 안에 식, for 반복문, if 조건문 등을 지정하여 리스트를 생성하는 것을 **리스트 컴프리헨션(list comprehension)**이라고 합니다.\n",
        "\n",
        "리스트 컴프리헨션이라고 하니 언뜻 이해가 잘 안되죠? 책이나 인터넷에서도 리스트 내포, 리스트 내장, 리스트 **축약, 리스트 해석** 등으로 씁니다. 컴프리헨션은 능력, 이해력, 시험 등의 뜻도 있지만, 어떤 것을 잡아서 담아둔다는 뜻이 있습니다. 즉, 식으로 지정해서 생성된 것을 리스트로 잡아두는 것이 리스트 컴프리헨션입니다. 개념적으로 보면 \"리스트 표현식\"이라고 할 수 있으니 이 책에서는 간단하게 리스트 표현식이라고 쓰겠습니다.\n",
        "\n",
        "리스트 표현식은 다음과 같이 리스트 안에 식, for 반복문을 지정합니다. 문법이 다소 복잡해 보이지만 여러 줄의 코드를 한 줄로 줄일 수 있고, 익숙해지면 크게 어렵지 않습니다.\n",
        "\n",
        "* `[식 for 변수 in 리스트]`"
      ],
      "metadata": {
        "id": "SKDP37d2h2BZ"
      }
    },
    {
      "cell_type": "code",
      "source": [
        "a = [i for i in range(10)]        # 0부터 9까지 숫자를 생성하여 리스트 생성\n",
        "a"
      ],
      "metadata": {
        "colab": {
          "base_uri": "https://localhost:8080/"
        },
        "id": "nNO-RkWmhv-Y",
        "outputId": "23b720f7-bc80-4d67-f27a-5572b7d67eab"
      },
      "execution_count": 149,
      "outputs": [
        {
          "output_type": "execute_result",
          "data": {
            "text/plain": [
              "[0, 1, 2, 3, 4, 5, 6, 7, 8, 9]"
            ]
          },
          "metadata": {},
          "execution_count": 149
        }
      ]
    },
    {
      "cell_type": "code",
      "source": [
        "a = []\n",
        "for i in range(10):\n",
        "    a.append(i)\n",
        "a\n",
        "\n",
        "이거를 바꿔줄수있따"
      ],
      "metadata": {
        "id": "w9_VDLmTWveh",
        "outputId": "717a5642-5932-4c26-857c-eddd5f433464",
        "colab": {
          "base_uri": "https://localhost:8080/",
          "height": 136
        }
      },
      "execution_count": 152,
      "outputs": [
        {
          "output_type": "error",
          "ename": "SyntaxError",
          "evalue": "ignored",
          "traceback": [
            "\u001b[0;36m  File \u001b[0;32m\"<ipython-input-152-04bd5288d28d>\"\u001b[0;36m, line \u001b[0;32m6\u001b[0m\n\u001b[0;31m    이거를 바꿔줄수있따\u001b[0m\n\u001b[0m        ^\u001b[0m\n\u001b[0;31mSyntaxError\u001b[0m\u001b[0;31m:\u001b[0m invalid syntax\n"
          ]
        }
      ]
    },
    {
      "cell_type": "code",
      "source": [
        "a = []\n",
        "for i in range(10):\n",
        "    a.append(i ** 2)\n",
        "a\n"
      ],
      "metadata": {
        "id": "59zMvbnlW_09",
        "outputId": "34dd887d-2c80-419d-dda4-842440825a4c",
        "colab": {
          "base_uri": "https://localhost:8080/"
        }
      },
      "execution_count": 154,
      "outputs": [
        {
          "output_type": "execute_result",
          "data": {
            "text/plain": [
              "[0, 1, 4, 9, 16, 25, 36, 49, 64, 81]"
            ]
          },
          "metadata": {},
          "execution_count": 154
        }
      ]
    },
    {
      "cell_type": "code",
      "source": [
        "a = [i ** 2 for i in range(10)]        # 0부터 9까지 숫자를 생성하여 리스트 생성\n",
        "a"
      ],
      "metadata": {
        "id": "h6uXPne2XRvZ",
        "outputId": "aa30a861-be6c-493b-f45e-e48267dd01eb",
        "colab": {
          "base_uri": "https://localhost:8080/"
        }
      },
      "execution_count": 155,
      "outputs": [
        {
          "output_type": "execute_result",
          "data": {
            "text/plain": [
              "[0, 1, 4, 9, 16, 25, 36, 49, 64, 81]"
            ]
          },
          "metadata": {},
          "execution_count": 155
        }
      ]
    },
    {
      "cell_type": "code",
      "source": [
        "b = list(i for i in range(10))    # 0부터 9까지 숫자를 생성하여 리스트 생성\n",
        "b"
      ],
      "metadata": {
        "colab": {
          "base_uri": "https://localhost:8080/"
        },
        "id": "_JDs4llgiArl",
        "outputId": "b43f0553-0cf5-4b21-b086-7dd25dba7940"
      },
      "execution_count": null,
      "outputs": [
        {
          "output_type": "execute_result",
          "data": {
            "text/plain": [
              "[0, 1, 2, 3, 4, 5, 6, 7, 8, 9]"
            ]
          },
          "metadata": {},
          "execution_count": 52
        }
      ]
    },
    {
      "cell_type": "markdown",
      "source": [
        "리스트 안에 식, for, 변수, in, 리스트 순서로 들어있지만 뒤에서 앞으로 읽으면 간단합니다. 즉, range(10)으로 0부터 9까지 생성하여 변수 i에 숫자를 꺼내고, 최종적으로 i를 이용하여 리스트를 만든다는 뜻입니다."
      ],
      "metadata": {
        "id": "LpO8RdH5iE8w"
      }
    },
    {
      "cell_type": "code",
      "source": [
        "a = [i for i in range(5, 15)]        # 0부터 9까지 숫자를 생성하여 리스트 생성\n",
        "a"
      ],
      "metadata": {
        "colab": {
          "base_uri": "https://localhost:8080/"
        },
        "id": "cubbm-uEiCjj",
        "outputId": "16e912b2-b3a8-4e9c-e37c-4bff47a6135c"
      },
      "execution_count": 156,
      "outputs": [
        {
          "output_type": "execute_result",
          "data": {
            "text/plain": [
              "[5, 6, 7, 8, 9, 10, 11, 12, 13, 14]"
            ]
          },
          "metadata": {},
          "execution_count": 156
        }
      ]
    },
    {
      "cell_type": "code",
      "source": [
        "a = [i + 5 for i in range(10)]        # 0부터 9까지 숫자를 생성하여 리스트 생성\n",
        "a"
      ],
      "metadata": {
        "colab": {
          "base_uri": "https://localhost:8080/"
        },
        "id": "lBAMC1pviL6X",
        "outputId": "774a366d-b561-492f-b2b2-95a64d259997"
      },
      "execution_count": 158,
      "outputs": [
        {
          "output_type": "execute_result",
          "data": {
            "text/plain": [
              "[5, 6, 7, 8, 9, 10, 11, 12, 13, 14]"
            ]
          },
          "metadata": {},
          "execution_count": 158
        }
      ]
    },
    {
      "cell_type": "code",
      "source": [
        "a = [i for i in range(0, 20, 2)]        # 0부터 9까지 숫자를 생성하여 리스트 생성\n",
        "a"
      ],
      "metadata": {
        "id": "3wg26S-YXzp1",
        "outputId": "70a9f4a7-9440-4ca3-cc37-e5f2fcc4ab05",
        "colab": {
          "base_uri": "https://localhost:8080/"
        }
      },
      "execution_count": 160,
      "outputs": [
        {
          "output_type": "execute_result",
          "data": {
            "text/plain": [
              "[0, 2, 4, 6, 8, 10, 12, 14, 16, 18]"
            ]
          },
          "metadata": {},
          "execution_count": 160
        }
      ]
    },
    {
      "cell_type": "code",
      "source": [
        "a = [i * 2 for i in range(10)]        # 0부터 9까지 숫자를 생성하여 리스트 생성\n",
        "a"
      ],
      "metadata": {
        "id": "S0m43vz0X5eX",
        "outputId": "a1763014-cb5e-4857-9417-851bfcce7620",
        "colab": {
          "base_uri": "https://localhost:8080/"
        }
      },
      "execution_count": 162,
      "outputs": [
        {
          "output_type": "execute_result",
          "data": {
            "text/plain": [
              "[0, 2, 4, 6, 8, 10, 12, 14, 16, 18]"
            ]
          },
          "metadata": {},
          "execution_count": 162
        }
      ]
    },
    {
      "cell_type": "code",
      "source": [
        "a = [\"아메리카노\", \"카푸치노\", \"프라푸치노\"]\n",
        "b = []\n",
        "for v in a:\n",
        "    b.append(v[-2:])\n",
        "b"
      ],
      "metadata": {
        "id": "GNDcyuSqYCCZ",
        "outputId": "daf450e9-dc5e-4f7f-cb08-fc7be060f1b2",
        "colab": {
          "base_uri": "https://localhost:8080/"
        }
      },
      "execution_count": 164,
      "outputs": [
        {
          "output_type": "execute_result",
          "data": {
            "text/plain": [
              "['카노', '치노', '치노']"
            ]
          },
          "metadata": {},
          "execution_count": 164
        }
      ]
    },
    {
      "cell_type": "code",
      "source": [
        "b = [v for v in a]\n",
        "b"
      ],
      "metadata": {
        "id": "vCfBwr3FYXUz",
        "outputId": "bf2b6918-6aa6-4f8a-93ef-e32e94d39d50",
        "colab": {
          "base_uri": "https://localhost:8080/"
        }
      },
      "execution_count": 166,
      "outputs": [
        {
          "output_type": "execute_result",
          "data": {
            "text/plain": [
              "['아메리카노', '카푸치노', '프라푸치노']"
            ]
          },
          "metadata": {},
          "execution_count": 166
        }
      ]
    },
    {
      "cell_type": "code",
      "source": [
        "b = [v[-2:] for v in a]\n",
        "b"
      ],
      "metadata": {
        "id": "bqKmWIaJYkpO",
        "outputId": "d4f66a13-1fc2-403b-958b-075430fa23f7",
        "colab": {
          "base_uri": "https://localhost:8080/"
        }
      },
      "execution_count": 167,
      "outputs": [
        {
          "output_type": "execute_result",
          "data": {
            "text/plain": [
              "['카노', '치노', '치노']"
            ]
          },
          "metadata": {},
          "execution_count": 167
        }
      ]
    },
    {
      "cell_type": "markdown",
      "source": [
        "### 리스트 표현식에서 if 조건문 사용하기"
      ],
      "metadata": {
        "id": "cLlfOJfoiSls"
      }
    },
    {
      "cell_type": "markdown",
      "source": [
        "이번에는 리스트 표현식에서 if 조건문을 사용해보겠습니다. 다음과 같이 if 조건문은 for 반복문 뒤에 지정합니다.\n",
        "\n",
        "* `[식 for 변수 in 리스트 if 조건식]`"
      ],
      "metadata": {
        "id": "6yK2g3-piUkA"
      }
    },
    {
      "cell_type": "code",
      "source": [
        "c = []\n",
        "for v in a:\n",
        "    #print(v)\n",
        "    if \"푸\" in v:\n",
        "        #print(\"푸 is here\")\n",
        "        c.append(v)\n",
        "c"
      ],
      "metadata": {
        "id": "DCqHVr5wY_rB",
        "outputId": "38012839-85e6-46f7-b021-65f18a0e693c",
        "colab": {
          "base_uri": "https://localhost:8080/"
        }
      },
      "execution_count": 170,
      "outputs": [
        {
          "output_type": "execute_result",
          "data": {
            "text/plain": [
              "['카푸치노', '프라푸치노']"
            ]
          },
          "metadata": {},
          "execution_count": 170
        }
      ]
    },
    {
      "cell_type": "code",
      "source": [
        "c = []\n",
        "for v in a:\n",
        "    if \"푸\" in v:\n",
        "        continue\n",
        "    print(v)\n",
        "    c.append(v)\n",
        "c"
      ],
      "metadata": {
        "id": "CKVVP5oBZT8c",
        "outputId": "7d584702-dd83-4832-9fad-c47426d74c62",
        "colab": {
          "base_uri": "https://localhost:8080/"
        }
      },
      "execution_count": 171,
      "outputs": [
        {
          "output_type": "stream",
          "name": "stdout",
          "text": [
            "아메리카노\n"
          ]
        },
        {
          "output_type": "execute_result",
          "data": {
            "text/plain": [
              "['아메리카노']"
            ]
          },
          "metadata": {},
          "execution_count": 171
        }
      ]
    },
    {
      "cell_type": "code",
      "source": [
        "[v for v in a if '푸' in v]"
      ],
      "metadata": {
        "colab": {
          "base_uri": "https://localhost:8080/"
        },
        "id": "j1aVvBSLiKjb",
        "outputId": "8e63a6d1-dd13-45c4-c095-7ad4389ce98e"
      },
      "execution_count": 173,
      "outputs": [
        {
          "output_type": "execute_result",
          "data": {
            "text/plain": [
              "['카푸치노', '프라푸치노']"
            ]
          },
          "metadata": {},
          "execution_count": 173
        }
      ]
    },
    {
      "cell_type": "code",
      "source": [
        "[v[0] for v in a if '푸' in v]"
      ],
      "metadata": {
        "id": "GMG4vgjQZx0G",
        "outputId": "1e8d907d-9d1e-492c-fb76-59a0746e025f",
        "colab": {
          "base_uri": "https://localhost:8080/"
        }
      },
      "execution_count": 174,
      "outputs": [
        {
          "output_type": "execute_result",
          "data": {
            "text/plain": [
              "['카', '프']"
            ]
          },
          "metadata": {},
          "execution_count": 174
        }
      ]
    },
    {
      "cell_type": "code",
      "source": [
        "[(\"비쌀 것 같네요\" if len(v) > 4 else \"저렴할 것 같네요\") for v in a if '푸' in v]"
      ],
      "metadata": {
        "colab": {
          "base_uri": "https://localhost:8080/"
        },
        "id": "mU7F6gUticBX",
        "outputId": "8aa42187-94df-4618-d10f-ef398408e821"
      },
      "execution_count": 175,
      "outputs": [
        {
          "output_type": "execute_result",
          "data": {
            "text/plain": [
              "['저렴할 것 같네요', '비쌀 것 같네요']"
            ]
          },
          "metadata": {},
          "execution_count": 175
        }
      ]
    },
    {
      "cell_type": "markdown",
      "source": [
        "### for 반복문과 if 조건문을 여러 번 사용하기"
      ],
      "metadata": {
        "id": "p7gFvnKnigCn"
      }
    },
    {
      "cell_type": "markdown",
      "source": [
        "리스트 표현식은 for와 if를 여러 번 사용할 수도 있습니다.\n",
        "\n",
        "* `[식 for 변수1 in 리스트1 if 조건식1     for 변수2 in 리스트2 if 조건식2     ...     for 변수n in 리스트n if 조건식n]`"
      ],
      "metadata": {
        "id": "WwEy38Psiku1"
      }
    },
    {
      "cell_type": "code",
      "source": [
        "for i in range(10):\n",
        "    for j in range(10):\n",
        "        print(i * j)"
      ],
      "metadata": {
        "id": "aD5ufjtoied7",
        "colab": {
          "base_uri": "https://localhost:8080/"
        },
        "outputId": "16f9283e-ffc3-4309-9ddc-c8acd77b36e6"
      },
      "execution_count": 178,
      "outputs": [
        {
          "output_type": "stream",
          "name": "stdout",
          "text": [
            "0\n",
            "0\n",
            "0\n",
            "0\n",
            "0\n",
            "0\n",
            "0\n",
            "0\n",
            "0\n",
            "0\n",
            "0\n",
            "1\n",
            "2\n",
            "3\n",
            "4\n",
            "5\n",
            "6\n",
            "7\n",
            "8\n",
            "9\n",
            "0\n",
            "2\n",
            "4\n",
            "6\n",
            "8\n",
            "10\n",
            "12\n",
            "14\n",
            "16\n",
            "18\n",
            "0\n",
            "3\n",
            "6\n",
            "9\n",
            "12\n",
            "15\n",
            "18\n",
            "21\n",
            "24\n",
            "27\n",
            "0\n",
            "4\n",
            "8\n",
            "12\n",
            "16\n",
            "20\n",
            "24\n",
            "28\n",
            "32\n",
            "36\n",
            "0\n",
            "5\n",
            "10\n",
            "15\n",
            "20\n",
            "25\n",
            "30\n",
            "35\n",
            "40\n",
            "45\n",
            "0\n",
            "6\n",
            "12\n",
            "18\n",
            "24\n",
            "30\n",
            "36\n",
            "42\n",
            "48\n",
            "54\n",
            "0\n",
            "7\n",
            "14\n",
            "21\n",
            "28\n",
            "35\n",
            "42\n",
            "49\n",
            "56\n",
            "63\n",
            "0\n",
            "8\n",
            "16\n",
            "24\n",
            "32\n",
            "40\n",
            "48\n",
            "56\n",
            "64\n",
            "72\n",
            "0\n",
            "9\n",
            "18\n",
            "27\n",
            "36\n",
            "45\n",
            "54\n",
            "63\n",
            "72\n",
            "81\n"
          ]
        }
      ]
    },
    {
      "cell_type": "code",
      "source": [
        "[i * j for j in range(2, 10)for i in range(10)]"
      ],
      "metadata": {
        "id": "yvxn1xaybCxs",
        "outputId": "5288f4af-587a-4e96-b5d0-a80d9feb987a",
        "colab": {
          "base_uri": "https://localhost:8080/"
        }
      },
      "execution_count": 182,
      "outputs": [
        {
          "output_type": "execute_result",
          "data": {
            "text/plain": [
              "[0,\n",
              " 2,\n",
              " 4,\n",
              " 6,\n",
              " 8,\n",
              " 10,\n",
              " 12,\n",
              " 14,\n",
              " 16,\n",
              " 18,\n",
              " 0,\n",
              " 3,\n",
              " 6,\n",
              " 9,\n",
              " 12,\n",
              " 15,\n",
              " 18,\n",
              " 21,\n",
              " 24,\n",
              " 27,\n",
              " 0,\n",
              " 4,\n",
              " 8,\n",
              " 12,\n",
              " 16,\n",
              " 20,\n",
              " 24,\n",
              " 28,\n",
              " 32,\n",
              " 36,\n",
              " 0,\n",
              " 5,\n",
              " 10,\n",
              " 15,\n",
              " 20,\n",
              " 25,\n",
              " 30,\n",
              " 35,\n",
              " 40,\n",
              " 45,\n",
              " 0,\n",
              " 6,\n",
              " 12,\n",
              " 18,\n",
              " 24,\n",
              " 30,\n",
              " 36,\n",
              " 42,\n",
              " 48,\n",
              " 54,\n",
              " 0,\n",
              " 7,\n",
              " 14,\n",
              " 21,\n",
              " 28,\n",
              " 35,\n",
              " 42,\n",
              " 49,\n",
              " 56,\n",
              " 63,\n",
              " 0,\n",
              " 8,\n",
              " 16,\n",
              " 24,\n",
              " 32,\n",
              " 40,\n",
              " 48,\n",
              " 56,\n",
              " 64,\n",
              " 72,\n",
              " 0,\n",
              " 9,\n",
              " 18,\n",
              " 27,\n",
              " 36,\n",
              " 45,\n",
              " 54,\n",
              " 63,\n",
              " 72,\n",
              " 81]"
            ]
          },
          "metadata": {},
          "execution_count": 182
        }
      ]
    },
    {
      "cell_type": "code",
      "source": [],
      "metadata": {
        "id": "IGReL2kgio5L"
      },
      "execution_count": null,
      "outputs": []
    },
    {
      "cell_type": "markdown",
      "source": [
        "## 리스트에 map 사용하기"
      ],
      "metadata": {
        "id": "VFhcQVbYiwbo"
      }
    },
    {
      "cell_type": "markdown",
      "source": [
        "이번에는 리스트에 map을 사용해보겠습니다. map은 리스트의 요소를 지정된 함수로 처리해주는 함수입니다(map은 원본 리스트를 변경하지 않고 새 리스트를 생성합니다).\n",
        "\n",
        "* `list(map(함수, 리스트))`\n",
        "* `tuple(map(함수, 튜플))`\n",
        "\n",
        "예를 들어 실수가 저장된 리스트가 있을 때 이 리스트의 모든 요소를 정수로 변환하려면 어떻게 해야 할까요? 먼저 for 반복문을 사용해서 변환해보겠습니다."
      ],
      "metadata": {
        "id": "KCKM5L0AizY-"
      }
    },
    {
      "cell_type": "code",
      "source": [],
      "metadata": {
        "colab": {
          "base_uri": "https://localhost:8080/"
        },
        "id": "VZOqVRhpi2uR",
        "outputId": "03e0f8e5-aa02-47a0-b0dc-f83b8391e6bc"
      },
      "execution_count": null,
      "outputs": [
        {
          "output_type": "execute_result",
          "data": {
            "text/plain": [
              "[1, 2, 3, 4]"
            ]
          },
          "metadata": {},
          "execution_count": 61
        }
      ]
    },
    {
      "cell_type": "code",
      "source": [
        "# 매번 for 반복문으로 반복하면서 요소를 변환하려니 조금 번거롭습니다. 이때는 map을 사용하면 편리합니다.\n"
      ],
      "metadata": {
        "colab": {
          "base_uri": "https://localhost:8080/"
        },
        "id": "7jPvFmfXi48s",
        "outputId": "4a728fbe-2575-4317-e2e9-c6b7e55cbe2a"
      },
      "execution_count": null,
      "outputs": [
        {
          "output_type": "execute_result",
          "data": {
            "text/plain": [
              "[1, 2, 3, 4]"
            ]
          },
          "metadata": {},
          "execution_count": 62
        }
      ]
    },
    {
      "cell_type": "markdown",
      "source": [
        "### input().split()과 map"
      ],
      "metadata": {
        "id": "4jgGA8cykJzJ"
      }
    },
    {
      "cell_type": "markdown",
      "source": [
        "지금까지 input().split()으로 값을 여러 개 입력받고 정수, 실수로 변환할 때도 map을 사용했었죠? 사실 input().split()의 결과가 문자열 리스트라서 map을 사용할 수 있었습니다.\n",
        "\n",
        "다음과 같이 input().split()을 사용한 뒤에 변수 한 개에 저장해보면 리스트인지 확인할 수 있습니다."
      ],
      "metadata": {
        "id": "5D2FE1EukMl0"
      }
    },
    {
      "cell_type": "code",
      "source": [
        "a = input().split()\n",
        "a"
      ],
      "metadata": {
        "colab": {
          "base_uri": "https://localhost:8080/"
        },
        "id": "Dt1GfQi0jCqN",
        "outputId": "dc4fdf68-068d-49df-ad99-17594b14364f"
      },
      "execution_count": 183,
      "outputs": [
        {
          "name": "stdout",
          "output_type": "stream",
          "text": [
            "10 20\n"
          ]
        },
        {
          "output_type": "execute_result",
          "data": {
            "text/plain": [
              "['10', '20']"
            ]
          },
          "metadata": {},
          "execution_count": 183
        }
      ]
    },
    {
      "cell_type": "code",
      "source": [
        "# 이제 map을 사용해서 정수로 변환해봅니다.\n",
        "a = map(int, input().split())\n",
        "a. list(a)"
      ],
      "metadata": {
        "colab": {
          "base_uri": "https://localhost:8080/",
          "height": 208
        },
        "id": "HkO02t-2kPN-",
        "outputId": "73aba814-925d-41b0-883a-d3131a73ddcf"
      },
      "execution_count": 185,
      "outputs": [
        {
          "output_type": "error",
          "ename": "AttributeError",
          "evalue": "ignored",
          "traceback": [
            "\u001b[0;31m---------------------------------------------------------------------------\u001b[0m",
            "\u001b[0;31mAttributeError\u001b[0m                            Traceback (most recent call last)",
            "\u001b[0;32m<ipython-input-185-1895cb8b6b5c>\u001b[0m in \u001b[0;36m<module>\u001b[0;34m\u001b[0m\n\u001b[1;32m      1\u001b[0m \u001b[0;31m# 이제 map을 사용해서 정수로 변환해봅니다.\u001b[0m\u001b[0;34m\u001b[0m\u001b[0;34m\u001b[0m\u001b[0;34m\u001b[0m\u001b[0m\n\u001b[0;32m----> 2\u001b[0;31m \u001b[0ma\u001b[0m \u001b[0;34m=\u001b[0m \u001b[0mmap\u001b[0m\u001b[0;34m(\u001b[0m\u001b[0mint\u001b[0m\u001b[0;34m.\u001b[0m \u001b[0minput\u001b[0m\u001b[0;34m(\u001b[0m\u001b[0;34m)\u001b[0m\u001b[0;34m.\u001b[0m\u001b[0msplit\u001b[0m\u001b[0;34m(\u001b[0m\u001b[0;34m)\u001b[0m\u001b[0;34m)\u001b[0m\u001b[0;34m\u001b[0m\u001b[0;34m\u001b[0m\u001b[0m\n\u001b[0m\u001b[1;32m      3\u001b[0m \u001b[0ma\u001b[0m\u001b[0;34m.\u001b[0m \u001b[0mlist\u001b[0m\u001b[0;34m(\u001b[0m\u001b[0ma\u001b[0m\u001b[0;34m)\u001b[0m\u001b[0;34m\u001b[0m\u001b[0;34m\u001b[0m\u001b[0m\n",
            "\u001b[0;31mAttributeError\u001b[0m: type object 'int' has no attribute 'input'"
          ]
        }
      ]
    },
    {
      "cell_type": "markdown",
      "source": [
        "사실 map이 반환하는 맵 객체는 변수 여러 개에 저장하는 언패킹(unpacking)이 가능합니다. 그래서 a, b = map(int, input().split())처럼 list를 생략한 것입니다"
      ],
      "metadata": {
        "id": "lVP4aYf5kb96"
      }
    },
    {
      "cell_type": "code",
      "source": [],
      "metadata": {
        "colab": {
          "base_uri": "https://localhost:8080/"
        },
        "id": "CfGel0KhkVhk",
        "outputId": "37415aac-15c6-4942-883e-541cdd8c6bfe"
      },
      "execution_count": null,
      "outputs": [
        {
          "name": "stdout",
          "output_type": "stream",
          "text": [
            "10 20\n"
          ]
        }
      ]
    }
  ]
}