{
  "nbformat": 4,
  "nbformat_minor": 0,
  "metadata": {
    "colab": {
      "provenance": [],
      "authorship_tag": "ABX9TyOgLRmly8BlYj5gS9vl1zuT"
    },
    "kernelspec": {
      "name": "python3",
      "display_name": "Python 3"
    },
    "language_info": {
      "name": "python"
    }
  },
  "cells": [
    {
      "cell_type": "code",
      "execution_count": null,
      "metadata": {
        "id": "LbauqDpxaEve"
      },
      "outputs": [],
      "source": [
        "\"\"\"\n",
        "남에게 도움이 될 것 같은 채널 : 메타코드M\n",
        "\n",
        "가끔 지나가다 본 적이 있는데 지식적인 면에서 도움이 되었던 것 같다.\n",
        "\n",
        "나에게 도움이 될 것 같은 채널 : 조코딩\n",
        "\n",
        "전반적인 컴퓨터 분야의 흐름에 대해서 알수있을 것 같아서 도움이 될 것 같다.\n",
        "\"\"\""
      ]
    },
    {
      "cell_type": "code",
      "source": [
        "!python --version   # !:커널,터미널에서 실행"
      ],
      "metadata": {
        "colab": {
          "base_uri": "https://localhost:8080/"
        },
        "id": "wO-HPMeZTvRb",
        "outputId": "318e12a2-5924-4a14-e9bf-f2a20ca2d77e"
      },
      "execution_count": 2,
      "outputs": [
        {
          "output_type": "stream",
          "name": "stdout",
          "text": [
            "Python 3.8.10\n"
          ]
        }
      ]
    },
    {
      "cell_type": "code",
      "source": [
        "!pip --version"
      ],
      "metadata": {
        "colab": {
          "base_uri": "https://localhost:8080/"
        },
        "id": "hfoBmcmnVD4M",
        "outputId": "0460c190-ad36-48c7-d011-96d05b10c2fd"
      },
      "execution_count": 3,
      "outputs": [
        {
          "output_type": "stream",
          "name": "stdout",
          "text": [
            "pip 22.0.4 from /usr/local/lib/python3.8/dist-packages/pip (python 3.8)\n"
          ]
        }
      ]
    },
    {
      "cell_type": "code",
      "source": [
        "!cat /etc/issue"
      ],
      "metadata": {
        "colab": {
          "base_uri": "https://localhost:8080/"
        },
        "id": "vFtVAkxdVe3h",
        "outputId": "f468a007-f626-443e-97e6-1ea2a523bcb8"
      },
      "execution_count": 4,
      "outputs": [
        {
          "output_type": "stream",
          "name": "stdout",
          "text": [
            "Ubuntu 20.04.5 LTS \\n \\l\n",
            "\n"
          ]
        }
      ]
    },
    {
      "cell_type": "code",
      "source": [
        "# ALT + SHIFT + 위,아래 : 복붙\n",
        "# ALT + SHIFT + 위,아래 : 복붙\n",
        "# ALT + SHIFT + 위,아래 : 복붙"
      ],
      "metadata": {
        "id": "NcQRcRsTVtpP"
      },
      "execution_count": null,
      "outputs": []
    },
    {
      "cell_type": "code",
      "source": [
        "print('hello world'); print(1234)\n",
        "# HOME , END = 맨 앞, 맨 뒤"
      ],
      "metadata": {
        "colab": {
          "base_uri": "https://localhost:8080/"
        },
        "id": "VikXKTKpXBgz",
        "outputId": "489a3413-87ca-4dd1-ded7-fdaa10cccf05"
      },
      "execution_count": 5,
      "outputs": [
        {
          "output_type": "stream",
          "name": "stdout",
          "text": [
            "hello world\n",
            "1234\n"
          ]
        }
      ]
    },
    {
      "cell_type": "code",
      "source": [
        "# 전체지정 ctrl + A"
      ],
      "metadata": {
        "id": "BO45myYDXi3N"
      },
      "execution_count": null,
      "outputs": []
    },
    {
      "cell_type": "code",
      "source": [
        "divmod(5,2)"
      ],
      "metadata": {
        "colab": {
          "base_uri": "https://localhost:8080/"
        },
        "id": "N41xxXYEYMJW",
        "outputId": "9f447af1-7ee7-46f4-8deb-90fb2b18d80b"
      },
      "execution_count": 15,
      "outputs": [
        {
          "output_type": "execute_result",
          "data": {
            "text/plain": [
              "(2, 1)"
            ]
          },
          "metadata": {},
          "execution_count": 15
        }
      ]
    },
    {
      "cell_type": "code",
      "source": [
        "4.3-2.7"
      ],
      "metadata": {
        "colab": {
          "base_uri": "https://localhost:8080/"
        },
        "id": "znwzH3a5hBM1",
        "outputId": "9da3e95e-579f-4bac-bd6a-d3872005af97"
      },
      "execution_count": 17,
      "outputs": [
        {
          "output_type": "execute_result",
          "data": {
            "text/plain": [
              "1.5999999999999996"
            ]
          },
          "metadata": {},
          "execution_count": 17
        }
      ]
    },
    {
      "cell_type": "code",
      "source": [],
      "metadata": {
        "id": "O_WF2pbLiIWi"
      },
      "execution_count": null,
      "outputs": []
    }
  ]
}