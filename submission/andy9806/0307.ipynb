{
  "nbformat": 4,
  "nbformat_minor": 0,
  "metadata": {
    "colab": {
      "provenance": [],
      "authorship_tag": "ABX9TyOTKFn2pak6ON1VnOUK3O4Z",
      "include_colab_link": true
    },
    "kernelspec": {
      "name": "python3",
      "display_name": "Python 3"
    },
    "language_info": {
      "name": "python"
    }
  },
  "cells": [
    {
      "cell_type": "markdown",
      "metadata": {
        "id": "view-in-github",
        "colab_type": "text"
      },
      "source": [
        "<a href=\"https://colab.research.google.com/github/andy9806/Python_23/blob/main/submission/andy9806/0307.ipynb\" target=\"_parent\"><img src=\"https://colab.research.google.com/assets/colab-badge.svg\" alt=\"Open In Colab\"/></a>"
      ]
    },
    {
      "cell_type": "code",
      "execution_count": 2,
      "metadata": {
        "colab": {
          "base_uri": "https://localhost:8080/",
          "height": 35
        },
        "id": "P5cC3Rj1bJcf",
        "outputId": "5f11538e-a3a5-4f5b-8994-e157c413e3ef"
      },
      "outputs": [
        {
          "output_type": "execute_result",
          "data": {
            "text/plain": [
              "'알랑가몰가 lee'"
            ],
            "application/vnd.google.colaboratory.intrinsic+json": {
              "type": "string"
            }
          },
          "metadata": {},
          "execution_count": 2
        }
      ],
      "source": [
        "def hello3(sentence,name):\n",
        "  return sentence.format(name)\n",
        "\n",
        "hello3('알랑가몰가 {}','lee')"
      ]
    },
    {
      "cell_type": "code",
      "source": [
        "import random\n",
        "def study():\n",
        "  energy=random.randint(1,10)\n",
        "  print(hello(energy))\n",
        "  chat()\n",
        "  lecture()\n",
        "  chat()\n",
        "  bye()\n",
        "\n",
        "# def hello():\n",
        "  # return \"좋은 아침입니다 여러분\"\n",
        "\n",
        "def chat():\n",
        "  pass\n",
        "\n",
        "def lecture():\n",
        "  pass\n",
        "\n",
        "def bye():\n",
        "  pass\n",
        "\n",
        "study()"
      ],
      "metadata": {
        "colab": {
          "base_uri": "https://localhost:8080/"
        },
        "id": "uEHg1ZE8jpSk",
        "outputId": "9a3a9959-03d6-463f-fa2f-ac9e10ce1b00"
      },
      "execution_count": 10,
      "outputs": [
        {
          "output_type": "stream",
          "name": "stdout",
          "text": [
            "오늘 점심메뉴 알려드ㅡ릴까요\n"
          ]
        }
      ]
    },
    {
      "cell_type": "code",
      "source": [
        "def hello(energy=10):\n",
        "  if energy ==0:\n",
        "    return \"여러분 제가 오늘 커피 사겠습니다\"\n",
        "  if energy>5:\n",
        "    return \"오늘 점심메뉴 알려드ㅡ릴까요\"\n",
        "  else:\n",
        "    return"
      ],
      "metadata": {
        "id": "PvS5lmKaqTvw"
      },
      "execution_count": 11,
      "outputs": []
    },
    {
      "cell_type": "code",
      "source": [
        "study()"
      ],
      "metadata": {
        "colab": {
          "base_uri": "https://localhost:8080/"
        },
        "id": "rU1foAAXrDu5",
        "outputId": "1c9dc19c-58c5-4783-a8f0-fcff77f3e912"
      },
      "execution_count": 27,
      "outputs": [
        {
          "output_type": "stream",
          "name": "stdout",
          "text": [
            "None\n"
          ]
        }
      ]
    },
    {
      "cell_type": "code",
      "source": [
        "a={'a':123,\n",
        "   'b':321,\n",
        "   'c':213}\n",
        "\n",
        "for k,v in a.items():\n",
        "  print(k,v)"
      ],
      "metadata": {
        "colab": {
          "base_uri": "https://localhost:8080/"
        },
        "id": "Efxor1xbreZo",
        "outputId": "535cca3f-285b-4032-c8bb-c10b21273a3c"
      },
      "execution_count": 31,
      "outputs": [
        {
          "output_type": "stream",
          "name": "stdout",
          "text": [
            "a 123\n",
            "b 321\n",
            "c 213\n"
          ]
        }
      ]
    },
    {
      "cell_type": "code",
      "source": [
        "class Teacher:\n",
        "  def __init__(self):\n",
        "    self.name='lee'\n",
        "\n",
        "  def add(self,a,b=2):\n",
        "    return a+b\n",
        "\n",
        "class teacher(Teacher):\n",
        "  def __init__(self):\n",
        "    self.name = 'kim'"
      ],
      "metadata": {
        "id": "g2k7VxevuAWJ"
      },
      "execution_count": 57,
      "outputs": []
    },
    {
      "cell_type": "code",
      "source": [
        "a=teacher()\n",
        "print(a.add(3,5))\n",
        "a.add(2)"
      ],
      "metadata": {
        "colab": {
          "base_uri": "https://localhost:8080/"
        },
        "id": "wxXqNBF42lV6",
        "outputId": "983fbc31-9d14-4541-943c-937dc3f08fe3"
      },
      "execution_count": 58,
      "outputs": [
        {
          "output_type": "stream",
          "name": "stdout",
          "text": [
            "8\n"
          ]
        },
        {
          "output_type": "execute_result",
          "data": {
            "text/plain": [
              "4"
            ]
          },
          "metadata": {},
          "execution_count": 58
        }
      ]
    },
    {
      "cell_type": "code",
      "source": [
        "a.name"
      ],
      "metadata": {
        "colab": {
          "base_uri": "https://localhost:8080/",
          "height": 35
        },
        "id": "bQG3BAe47yUB",
        "outputId": "58accce2-e96a-45b9-8448-4b5fa90566e0"
      },
      "execution_count": 59,
      "outputs": [
        {
          "output_type": "execute_result",
          "data": {
            "text/plain": [
              "'kim'"
            ],
            "application/vnd.google.colaboratory.intrinsic+json": {
              "type": "string"
            }
          },
          "metadata": {},
          "execution_count": 59
        }
      ]
    },
    {
      "cell_type": "code",
      "source": [
        "b=Teacher()\n",
        "b.name"
      ],
      "metadata": {
        "colab": {
          "base_uri": "https://localhost:8080/",
          "height": 35
        },
        "id": "1k8CCR4U8UP0",
        "outputId": "b35ffbf4-80c4-4106-a82f-2a98d711d6f8"
      },
      "execution_count": 60,
      "outputs": [
        {
          "output_type": "execute_result",
          "data": {
            "text/plain": [
              "'lee'"
            ],
            "application/vnd.google.colaboratory.intrinsic+json": {
              "type": "string"
            }
          },
          "metadata": {},
          "execution_count": 60
        }
      ]
    },
    {
      "cell_type": "code",
      "source": [
        "def factorial(n):\n",
        "  if isinstance(n,int) and n>0:\n",
        "    print(n,end=' ')\n",
        "    if n==1: return 1\n",
        "    return n*factorial(n-1)"
      ],
      "metadata": {
        "id": "kcin_nts8W3Y"
      },
      "execution_count": 61,
      "outputs": []
    },
    {
      "cell_type": "code",
      "source": [
        "factorial(10)"
      ],
      "metadata": {
        "colab": {
          "base_uri": "https://localhost:8080/"
        },
        "id": "RVjBiP-Z8vWn",
        "outputId": "b4f6b72a-591a-4cc0-cdcb-ae3b7cee5d1b"
      },
      "execution_count": 63,
      "outputs": [
        {
          "output_type": "stream",
          "name": "stdout",
          "text": [
            "10 9 8 7 6 5 4 3 2 1 "
          ]
        },
        {
          "output_type": "execute_result",
          "data": {
            "text/plain": [
              "3628800"
            ]
          },
          "metadata": {},
          "execution_count": 63
        }
      ]
    },
    {
      "cell_type": "code",
      "source": [
        "def factorial(n):\n",
        "  if not isinstance(n,int) or n<=0:\n",
        "    print('양의 정수를 넣어주세요')\n",
        "    return\n",
        "  if isinstance(n,int) and n>0:\n",
        "    print(n,end=' ')\n",
        "    if n==1: return 1\n",
        "    return n*factorial(n-1)"
      ],
      "metadata": {
        "id": "V3fBxXsu8_bW"
      },
      "execution_count": 64,
      "outputs": []
    },
    {
      "cell_type": "code",
      "source": [
        "factorial('12')"
      ],
      "metadata": {
        "colab": {
          "base_uri": "https://localhost:8080/"
        },
        "id": "UoYaDPz79y1b",
        "outputId": "710d2e99-7735-47cf-f06c-6c762c5a5310"
      },
      "execution_count": 66,
      "outputs": [
        {
          "output_type": "stream",
          "name": "stdout",
          "text": [
            "양의 정수를 넣어주세요\n"
          ]
        }
      ]
    },
    {
      "cell_type": "code",
      "source": [
        "factorial(5)"
      ],
      "metadata": {
        "colab": {
          "base_uri": "https://localhost:8080/"
        },
        "id": "qfFNFLdO94M0",
        "outputId": "a7bc89e0-2557-4ff4-ea20-d27a5d78ee47"
      },
      "execution_count": 68,
      "outputs": [
        {
          "output_type": "stream",
          "name": "stdout",
          "text": [
            "5 4 3 2 1 "
          ]
        },
        {
          "output_type": "execute_result",
          "data": {
            "text/plain": [
              "120"
            ]
          },
          "metadata": {},
          "execution_count": 68
        }
      ]
    },
    {
      "cell_type": "code",
      "source": [
        "class Student:\n",
        "  def __init__(self,name,age,address):\n",
        "    self.name=name\n",
        "    self.age=age\n",
        "    self.address=address\n",
        "\n",
        "ab = Student('이영재',26,'대화동')\n",
        "print(ab.name,ab.age,ab.address)\n",
        "ab.name = '김소현'\n",
        "ab.name"
      ],
      "metadata": {
        "colab": {
          "base_uri": "https://localhost:8080/",
          "height": 54
        },
        "id": "qQHHhPzX96Fg",
        "outputId": "6ca8533c-6b2e-41d7-973a-3b2f2c3b59f8"
      },
      "execution_count": 75,
      "outputs": [
        {
          "output_type": "stream",
          "name": "stdout",
          "text": [
            "이영재 26 대화동\n"
          ]
        },
        {
          "output_type": "execute_result",
          "data": {
            "text/plain": [
              "'김소현'"
            ],
            "application/vnd.google.colaboratory.intrinsic+json": {
              "type": "string"
            }
          },
          "metadata": {},
          "execution_count": 75
        }
      ]
    },
    {
      "cell_type": "code",
      "source": [
        "class BungeoppangStore:\n",
        "  def __init__(self, name, price=1200, *args,**kwargs):\n",
        "    self.name = name\n",
        "    self.menu = args\n",
        "    self.price = price\n",
        "    self.visitors = kwargs\n",
        "\n",
        "  def introduce(self):\n",
        "    print(f\"안녕하세요 여러분 {self.name} 붕어빵 가게 오픈!!\")\n",
        "\n",
        "  def sell(self,visitor):\n",
        "    if visitor in self.visitors:\n",
        "      print(f\"단골은 반값이에요 {self.price//2}원만 내세요\")\n",
        "    else:\n",
        "      self.visitors[visitor] = self.price\n",
        "      print(f\"처음이시네요 {self.price}입니다\")\n",
        "    "
      ],
      "metadata": {
        "id": "kwIHZR-N-0wI"
      },
      "execution_count": 93,
      "outputs": []
    },
    {
      "cell_type": "code",
      "source": [
        "bung = BungeoppangStore('디',1200,'팥','슈크림','민초')\n",
        "bung.introduce()\n",
        "bung.sell('lee')"
      ],
      "metadata": {
        "colab": {
          "base_uri": "https://localhost:8080/"
        },
        "id": "Z3psOANPFvP9",
        "outputId": "aeecfa35-79a7-4b30-9116-2c05b79b22eb"
      },
      "execution_count": 96,
      "outputs": [
        {
          "output_type": "stream",
          "name": "stdout",
          "text": [
            "안녕하세요 여러분 디 붕어빵 가게 오픈!!\n",
            "처음이시네요 1200입니다\n"
          ]
        }
      ]
    },
    {
      "cell_type": "code",
      "source": [
        "bung.sell('lee')"
      ],
      "metadata": {
        "colab": {
          "base_uri": "https://localhost:8080/"
        },
        "id": "UOvHs9HsGbrP",
        "outputId": "fc45fb3e-d619-4acd-ea59-fd35b54b3801"
      },
      "execution_count": 100,
      "outputs": [
        {
          "output_type": "stream",
          "name": "stdout",
          "text": [
            "단골은 반값이에요 600원만 내세요\n"
          ]
        }
      ]
    },
    {
      "cell_type": "code",
      "source": [
        "class Store:\n",
        "  name='asdf'\n",
        "  worker=['rlasksk','dldudwo','rlathgus']\n",
        "\n",
        "  def hire(self,name):\n",
        "    self.worker.append(name)\n",
        "\n",
        "s1 = Store()\n",
        "s2 = Store()\n",
        "s1.hire('dlwowls')\n",
        "s2.hire('sksk')\n",
        "print(s1.worker,s2.worker)"
      ],
      "metadata": {
        "colab": {
          "base_uri": "https://localhost:8080/"
        },
        "id": "TquBS5t0He5O",
        "outputId": "40a49523-367b-496c-dd74-9982db5a7788"
      },
      "execution_count": 103,
      "outputs": [
        {
          "output_type": "stream",
          "name": "stdout",
          "text": [
            "['rlasksk', 'dldudwo', 'rlathgus', 'dlwowls', 'sksk'] ['rlasksk', 'dldudwo', 'rlathgus', 'dlwowls', 'sksk']\n"
          ]
        }
      ]
    },
    {
      "cell_type": "code",
      "source": [
        "class Programmer:\n",
        "  def __init__(self):\n",
        "    self.habit = 'grab his own hair'\n",
        "    self.money = 20000\n",
        "\n",
        "class PythonPro(Programmer):\n",
        "  def __init__(self,habit):\n",
        "    self.habit = habit"
      ],
      "metadata": {
        "id": "fNuNeJ-Ye3w7"
      },
      "execution_count": 104,
      "outputs": []
    },
    {
      "cell_type": "code",
      "source": [
        "kim = Programmer()\n",
        "kim.money, kim.habit"
      ],
      "metadata": {
        "colab": {
          "base_uri": "https://localhost:8080/"
        },
        "id": "zAALLH9lj9Fk",
        "outputId": "836c0fac-f416-468d-e279-932131075f83"
      },
      "execution_count": 105,
      "outputs": [
        {
          "output_type": "execute_result",
          "data": {
            "text/plain": [
              "(20000, 'grab his own hair')"
            ]
          },
          "metadata": {},
          "execution_count": 105
        }
      ]
    },
    {
      "cell_type": "code",
      "source": [
        "lee = PythonPro('smart')\n",
        "lee.habit,lee.money"
      ],
      "metadata": {
        "colab": {
          "base_uri": "https://localhost:8080/",
          "height": 190
        },
        "id": "wbkBj6hqkBje",
        "outputId": "251d2f44-d6d1-4676-868c-aaff8e15c52b"
      },
      "execution_count": 109,
      "outputs": [
        {
          "output_type": "error",
          "ename": "AttributeError",
          "evalue": "ignored",
          "traceback": [
            "\u001b[0;31m---------------------------------------------------------------------------\u001b[0m",
            "\u001b[0;31mAttributeError\u001b[0m                            Traceback (most recent call last)",
            "\u001b[0;32m<ipython-input-109-edbf26e5aa2e>\u001b[0m in \u001b[0;36m<module>\u001b[0;34m\u001b[0m\n\u001b[1;32m      1\u001b[0m \u001b[0mlee\u001b[0m \u001b[0;34m=\u001b[0m \u001b[0mPythonPro\u001b[0m\u001b[0;34m(\u001b[0m\u001b[0;34m'smart'\u001b[0m\u001b[0;34m)\u001b[0m\u001b[0;34m\u001b[0m\u001b[0;34m\u001b[0m\u001b[0m\n\u001b[0;32m----> 2\u001b[0;31m \u001b[0mlee\u001b[0m\u001b[0;34m.\u001b[0m\u001b[0mhabit\u001b[0m\u001b[0;34m,\u001b[0m\u001b[0mlee\u001b[0m\u001b[0;34m.\u001b[0m\u001b[0mmoney\u001b[0m\u001b[0;34m\u001b[0m\u001b[0;34m\u001b[0m\u001b[0m\n\u001b[0m",
            "\u001b[0;31mAttributeError\u001b[0m: 'PythonPro' object has no attribute 'money'"
          ]
        }
      ]
    },
    {
      "cell_type": "code",
      "source": [
        "class PythonPro(Programmer):\n",
        "  def __init__(self,habit):\n",
        "    super().__init__()\n",
        "    print('*',self.habit,self.money)\n",
        "    self.habit = habit\n",
        "\n",
        "lee = PythonPro('smart')\n",
        "lee.habit,lee.money"
      ],
      "metadata": {
        "colab": {
          "base_uri": "https://localhost:8080/"
        },
        "id": "MXzvi8_jkPTJ",
        "outputId": "1b80ce4a-ef47-449c-925d-9140bf23fb9d"
      },
      "execution_count": 114,
      "outputs": [
        {
          "output_type": "stream",
          "name": "stdout",
          "text": [
            "* grab his own hair 20000\n"
          ]
        },
        {
          "output_type": "execute_result",
          "data": {
            "text/plain": [
              "('smart', 20000)"
            ]
          },
          "metadata": {},
          "execution_count": 114
        }
      ]
    },
    {
      "cell_type": "code",
      "source": [
        "cho=PythonPro()"
      ],
      "metadata": {
        "colab": {
          "base_uri": "https://localhost:8080/",
          "height": 172
        },
        "id": "jmL1rB7DlJ0w",
        "outputId": "dcc12b1c-6767-4b69-e2b0-a6e42ab6052e"
      },
      "execution_count": 116,
      "outputs": [
        {
          "output_type": "error",
          "ename": "TypeError",
          "evalue": "ignored",
          "traceback": [
            "\u001b[0;31m---------------------------------------------------------------------------\u001b[0m",
            "\u001b[0;31mTypeError\u001b[0m                                 Traceback (most recent call last)",
            "\u001b[0;32m<ipython-input-116-bc79695eba8e>\u001b[0m in \u001b[0;36m<module>\u001b[0;34m\u001b[0m\n\u001b[0;32m----> 1\u001b[0;31m \u001b[0mcho\u001b[0m\u001b[0;34m=\u001b[0m\u001b[0mPythonPro\u001b[0m\u001b[0;34m(\u001b[0m\u001b[0;34m)\u001b[0m\u001b[0;34m\u001b[0m\u001b[0;34m\u001b[0m\u001b[0m\n\u001b[0m",
            "\u001b[0;31mTypeError\u001b[0m: __init__() missing 1 required positional argument: 'habit'"
          ]
        }
      ]
    },
    {
      "cell_type": "code",
      "source": [
        "class PythonPro(Programmer):\n",
        "  def __init__(self,habit):\n",
        "    print('*',self.habit,self.money)\n",
        "    super().__init__()\n",
        "    self.habit = habit\n",
        "\n",
        "lee = PythonPro('smart')\n",
        "lee.habit,lee.money"
      ],
      "metadata": {
        "colab": {
          "base_uri": "https://localhost:8080/",
          "height": 354
        },
        "id": "qAB3b-22lZgz",
        "outputId": "f1b6a6c1-05a3-44df-bbb0-55272242380f"
      },
      "execution_count": 115,
      "outputs": [
        {
          "output_type": "error",
          "ename": "AttributeError",
          "evalue": "ignored",
          "traceback": [
            "\u001b[0;31m---------------------------------------------------------------------------\u001b[0m",
            "\u001b[0;31mAttributeError\u001b[0m                            Traceback (most recent call last)",
            "\u001b[0;32m<ipython-input-115-2fad3511fa99>\u001b[0m in \u001b[0;36m<module>\u001b[0;34m\u001b[0m\n\u001b[1;32m      5\u001b[0m     \u001b[0mself\u001b[0m\u001b[0;34m.\u001b[0m\u001b[0mhabit\u001b[0m \u001b[0;34m=\u001b[0m \u001b[0mhabit\u001b[0m\u001b[0;34m\u001b[0m\u001b[0;34m\u001b[0m\u001b[0m\n\u001b[1;32m      6\u001b[0m \u001b[0;34m\u001b[0m\u001b[0m\n\u001b[0;32m----> 7\u001b[0;31m \u001b[0mlee\u001b[0m \u001b[0;34m=\u001b[0m \u001b[0mPythonPro\u001b[0m\u001b[0;34m(\u001b[0m\u001b[0;34m'smart'\u001b[0m\u001b[0;34m)\u001b[0m\u001b[0;34m\u001b[0m\u001b[0;34m\u001b[0m\u001b[0m\n\u001b[0m\u001b[1;32m      8\u001b[0m \u001b[0mlee\u001b[0m\u001b[0;34m.\u001b[0m\u001b[0mhabit\u001b[0m\u001b[0;34m,\u001b[0m\u001b[0mlee\u001b[0m\u001b[0;34m.\u001b[0m\u001b[0mmoney\u001b[0m\u001b[0;34m\u001b[0m\u001b[0;34m\u001b[0m\u001b[0m\n",
            "\u001b[0;32m<ipython-input-115-2fad3511fa99>\u001b[0m in \u001b[0;36m__init__\u001b[0;34m(self, habit)\u001b[0m\n\u001b[1;32m      1\u001b[0m \u001b[0;32mclass\u001b[0m \u001b[0mPythonPro\u001b[0m\u001b[0;34m(\u001b[0m\u001b[0mProgrammer\u001b[0m\u001b[0;34m)\u001b[0m\u001b[0;34m:\u001b[0m\u001b[0;34m\u001b[0m\u001b[0;34m\u001b[0m\u001b[0m\n\u001b[1;32m      2\u001b[0m   \u001b[0;32mdef\u001b[0m \u001b[0m__init__\u001b[0m\u001b[0;34m(\u001b[0m\u001b[0mself\u001b[0m\u001b[0;34m,\u001b[0m\u001b[0mhabit\u001b[0m\u001b[0;34m)\u001b[0m\u001b[0;34m:\u001b[0m\u001b[0;34m\u001b[0m\u001b[0;34m\u001b[0m\u001b[0m\n\u001b[0;32m----> 3\u001b[0;31m     \u001b[0mprint\u001b[0m\u001b[0;34m(\u001b[0m\u001b[0;34m'*'\u001b[0m\u001b[0;34m,\u001b[0m\u001b[0mself\u001b[0m\u001b[0;34m.\u001b[0m\u001b[0mhabit\u001b[0m\u001b[0;34m,\u001b[0m\u001b[0mself\u001b[0m\u001b[0;34m.\u001b[0m\u001b[0mmoney\u001b[0m\u001b[0;34m)\u001b[0m\u001b[0;34m\u001b[0m\u001b[0;34m\u001b[0m\u001b[0m\n\u001b[0m\u001b[1;32m      4\u001b[0m     \u001b[0msuper\u001b[0m\u001b[0;34m(\u001b[0m\u001b[0;34m)\u001b[0m\u001b[0;34m.\u001b[0m\u001b[0m__init__\u001b[0m\u001b[0;34m(\u001b[0m\u001b[0;34m)\u001b[0m\u001b[0;34m\u001b[0m\u001b[0;34m\u001b[0m\u001b[0m\n\u001b[1;32m      5\u001b[0m     \u001b[0mself\u001b[0m\u001b[0;34m.\u001b[0m\u001b[0mhabit\u001b[0m \u001b[0;34m=\u001b[0m \u001b[0mhabit\u001b[0m\u001b[0;34m\u001b[0m\u001b[0;34m\u001b[0m\u001b[0m\n",
            "\u001b[0;31mAttributeError\u001b[0m: 'PythonPro' object has no attribute 'habit'"
          ]
        }
      ]
    },
    {
      "cell_type": "code",
      "source": [
        "class Human:\n",
        "  def run(self):\n",
        "    print('asf')\n",
        "\n",
        "class MetaHuman(Human):\n",
        "  def run(self):\n",
        "    super().run()\n",
        "    print('eifansd')\n",
        "\n",
        "class MMetaHuman(MetaHuman):\n",
        "  def run(self):\n",
        "    super().run()\n",
        "    print('asdiof;n')"
      ],
      "metadata": {
        "id": "yp6nBThimfX5"
      },
      "execution_count": 117,
      "outputs": []
    },
    {
      "cell_type": "code",
      "source": [
        "joy = MMetaHuman()\n",
        "joy.run()"
      ],
      "metadata": {
        "colab": {
          "base_uri": "https://localhost:8080/"
        },
        "id": "xxnBIOXOm3d9",
        "outputId": "3c633597-5dab-4513-930f-cd7f2d1e37b7"
      },
      "execution_count": 118,
      "outputs": [
        {
          "output_type": "stream",
          "name": "stdout",
          "text": [
            "asf\n",
            "eifansd\n",
            "asdiof;n\n"
          ]
        }
      ]
    },
    {
      "cell_type": "code",
      "source": [
        "def ten_div(x: int) -> float:\n",
        "  return 10/2\n",
        "\n",
        "ten_div(10)"
      ],
      "metadata": {
        "colab": {
          "base_uri": "https://localhost:8080/"
        },
        "id": "vyTy_hTcn4wm",
        "outputId": "ae0c4b2a-ee8c-4f19-e921-397bfb37c22e"
      },
      "execution_count": 119,
      "outputs": [
        {
          "output_type": "execute_result",
          "data": {
            "text/plain": [
              "5.0"
            ]
          },
          "metadata": {},
          "execution_count": 119
        }
      ]
    },
    {
      "cell_type": "code",
      "source": [
        "def data_access_layer():\n",
        "  raise Exception('DB에러')\n",
        "  return 0\n",
        "\n",
        "def service_layer():\n",
        "  try:\n",
        "    return data_access_layer()\n",
        "  except Exception as e:\n",
        "    print(f'**{e}')\n",
        "    print('서버 : 에러가 발생')\n",
        "    raise e\n",
        "\n",
        "def presentation_layer():\n",
        "  try:\n",
        "    return service_layer()\n",
        "  except Exception as e :\n",
        "    print(f'**{e}')\n",
        "    print('화면 : 에러가 발생')\n",
        "\n",
        "presentation_layer()"
      ],
      "metadata": {
        "colab": {
          "base_uri": "https://localhost:8080/"
        },
        "id": "r4ASu5R-3MXt",
        "outputId": "6d4824ee-75e1-4930-f75f-8bbe649dd2eb"
      },
      "execution_count": 122,
      "outputs": [
        {
          "output_type": "stream",
          "name": "stdout",
          "text": [
            "**DB에러\n",
            "서버 : 에러가 발생\n",
            "**DB에러\n",
            "화면 : 에러가 발생\n"
          ]
        }
      ]
    },
    {
      "cell_type": "code",
      "source": [
        "!pip install finance-datareader;"
      ],
      "metadata": {
        "colab": {
          "base_uri": "https://localhost:8080/"
        },
        "id": "cu-WpABi7vCu",
        "outputId": "a74989de-0772-4f0d-f3e1-f7f794c92f34"
      },
      "execution_count": 128,
      "outputs": [
        {
          "output_type": "stream",
          "name": "stdout",
          "text": [
            "Looking in indexes: https://pypi.org/simple, https://us-python.pkg.dev/colab-wheels/public/simple/\n",
            "Requirement already satisfied: finance-datareader in /usr/local/lib/python3.8/dist-packages (0.9.50)\n",
            "Requirement already satisfied: requests-file in /usr/local/lib/python3.8/dist-packages (from finance-datareader) (1.5.1)\n",
            "Requirement already satisfied: pandas>=0.19.2 in /usr/local/lib/python3.8/dist-packages (from finance-datareader) (1.3.5)\n",
            "Requirement already satisfied: requests>=2.3.0 in /usr/local/lib/python3.8/dist-packages (from finance-datareader) (2.25.1)\n",
            "Requirement already satisfied: lxml in /usr/local/lib/python3.8/dist-packages (from finance-datareader) (4.9.2)\n",
            "Requirement already satisfied: tqdm in /usr/local/lib/python3.8/dist-packages (from finance-datareader) (4.64.1)\n",
            "Requirement already satisfied: pytz>=2017.3 in /usr/local/lib/python3.8/dist-packages (from pandas>=0.19.2->finance-datareader) (2022.7.1)\n",
            "Requirement already satisfied: numpy>=1.17.3 in /usr/local/lib/python3.8/dist-packages (from pandas>=0.19.2->finance-datareader) (1.22.4)\n",
            "Requirement already satisfied: python-dateutil>=2.7.3 in /usr/local/lib/python3.8/dist-packages (from pandas>=0.19.2->finance-datareader) (2.8.2)\n",
            "Requirement already satisfied: chardet<5,>=3.0.2 in /usr/local/lib/python3.8/dist-packages (from requests>=2.3.0->finance-datareader) (4.0.0)\n",
            "Requirement already satisfied: certifi>=2017.4.17 in /usr/local/lib/python3.8/dist-packages (from requests>=2.3.0->finance-datareader) (2022.12.7)\n",
            "Requirement already satisfied: idna<3,>=2.5 in /usr/local/lib/python3.8/dist-packages (from requests>=2.3.0->finance-datareader) (2.10)\n",
            "Requirement already satisfied: urllib3<1.27,>=1.21.1 in /usr/local/lib/python3.8/dist-packages (from requests>=2.3.0->finance-datareader) (1.26.14)\n",
            "Requirement already satisfied: six in /usr/local/lib/python3.8/dist-packages (from requests-file->finance-datareader) (1.15.0)\n"
          ]
        }
      ]
    },
    {
      "cell_type": "code",
      "source": [
        "! pip install finance-datareader -q"
      ],
      "metadata": {
        "id": "XUnI4GE6CF4k"
      },
      "execution_count": 129,
      "outputs": []
    },
    {
      "cell_type": "code",
      "source": [
        "import FinanceDataReader as fdr"
      ],
      "metadata": {
        "id": "g3eYuluJC9hJ"
      },
      "execution_count": 130,
      "outputs": []
    },
    {
      "cell_type": "code",
      "source": [
        "df=fdr.StockListing('KOSPI')\n",
        "df"
      ],
      "metadata": {
        "colab": {
          "base_uri": "https://localhost:8080/",
          "height": 502
        },
        "id": "XiW5AlOjD54h",
        "outputId": "16d9e406-2580-48c5-810c-68b08a4a0a0f"
      },
      "execution_count": 145,
      "outputs": [
        {
          "output_type": "execute_result",
          "data": {
            "text/plain": [
              "       Code        ISU_CD      Name Market Dept   Close ChangeCode  Changes  \\\n",
              "0    005930  KR7005930003      삼성전자  KOSPI        60700          2     -800   \n",
              "1    373220  KR7373220003  LG에너지솔루션  KOSPI       566000          1    19000   \n",
              "2    000660  KR7000660001    SK하이닉스  KOSPI        88900          2     -800   \n",
              "3    207940  KR7207940008  삼성바이오로직스  KOSPI       794000          2    -7000   \n",
              "4    006400  KR7006400006     삼성SDI  KOSPI       793000          1    12000   \n",
              "..      ...           ...       ...    ...  ...     ...        ...      ...   \n",
              "938  002785  KR7002781003    진흥기업우B  KOSPI         5070          2      -20   \n",
              "939  001527  KR7001522002     동양2우B  KOSPI        13300          2     -540   \n",
              "940  001525  KR7001521004       동양우  KOSPI         6500          2     -220   \n",
              "941  002787  KR7002782001   진흥기업2우B  KOSPI        13110          1      100   \n",
              "942  000547  KR7000542001   흥국화재2우B  KOSPI        19670          1       50   \n",
              "\n",
              "     ChagesRatio    Open    High     Low    Volume        Amount  \\\n",
              "0          -1.30   61400   61400   60700  11458034  697978547900   \n",
              "1           3.47  548000  570000  543000    832002  466498245000   \n",
              "2          -0.89   89700   90000   88800   1610238  143926017800   \n",
              "3          -0.87  801000  804000  792000     50248   40064000000   \n",
              "4           1.54  779000  801000  768000    598409  472129871872   \n",
              "..           ...     ...     ...     ...       ...           ...   \n",
              "938        -0.39    5070    5150    5040       676       3412880   \n",
              "939        -3.90   13250   13390   13150      1241      16369210   \n",
              "940        -3.27    6500    6510    6500      2658      17277220   \n",
              "941         0.77   13030   13300   13030       236       3135670   \n",
              "942         0.25   19500   19680   19500       725      14152960   \n",
              "\n",
              "              Marcap      Stocks MarketId  \n",
              "0    362365800785000  5969782550      STK  \n",
              "1    132444000000000   234000000      STK  \n",
              "2     64719410248500   728002365      STK  \n",
              "3     56512156000000    71174000      STK  \n",
              "4     54530272290000    68764530      STK  \n",
              "..               ...         ...      ...  \n",
              "938       4346095260      857218      STK  \n",
              "939       4103967700      308569      STK  \n",
              "940       4015251500      617731      STK  \n",
              "941       3864932880      294808      STK  \n",
              "942       3021312000      153600      STK  \n",
              "\n",
              "[943 rows x 17 columns]"
            ],
            "text/html": [
              "\n",
              "  <div id=\"df-f3a79937-5498-49a5-b7d6-3e58da9d27bf\">\n",
              "    <div class=\"colab-df-container\">\n",
              "      <div>\n",
              "<style scoped>\n",
              "    .dataframe tbody tr th:only-of-type {\n",
              "        vertical-align: middle;\n",
              "    }\n",
              "\n",
              "    .dataframe tbody tr th {\n",
              "        vertical-align: top;\n",
              "    }\n",
              "\n",
              "    .dataframe thead th {\n",
              "        text-align: right;\n",
              "    }\n",
              "</style>\n",
              "<table border=\"1\" class=\"dataframe\">\n",
              "  <thead>\n",
              "    <tr style=\"text-align: right;\">\n",
              "      <th></th>\n",
              "      <th>Code</th>\n",
              "      <th>ISU_CD</th>\n",
              "      <th>Name</th>\n",
              "      <th>Market</th>\n",
              "      <th>Dept</th>\n",
              "      <th>Close</th>\n",
              "      <th>ChangeCode</th>\n",
              "      <th>Changes</th>\n",
              "      <th>ChagesRatio</th>\n",
              "      <th>Open</th>\n",
              "      <th>High</th>\n",
              "      <th>Low</th>\n",
              "      <th>Volume</th>\n",
              "      <th>Amount</th>\n",
              "      <th>Marcap</th>\n",
              "      <th>Stocks</th>\n",
              "      <th>MarketId</th>\n",
              "    </tr>\n",
              "  </thead>\n",
              "  <tbody>\n",
              "    <tr>\n",
              "      <th>0</th>\n",
              "      <td>005930</td>\n",
              "      <td>KR7005930003</td>\n",
              "      <td>삼성전자</td>\n",
              "      <td>KOSPI</td>\n",
              "      <td></td>\n",
              "      <td>60700</td>\n",
              "      <td>2</td>\n",
              "      <td>-800</td>\n",
              "      <td>-1.30</td>\n",
              "      <td>61400</td>\n",
              "      <td>61400</td>\n",
              "      <td>60700</td>\n",
              "      <td>11458034</td>\n",
              "      <td>697978547900</td>\n",
              "      <td>362365800785000</td>\n",
              "      <td>5969782550</td>\n",
              "      <td>STK</td>\n",
              "    </tr>\n",
              "    <tr>\n",
              "      <th>1</th>\n",
              "      <td>373220</td>\n",
              "      <td>KR7373220003</td>\n",
              "      <td>LG에너지솔루션</td>\n",
              "      <td>KOSPI</td>\n",
              "      <td></td>\n",
              "      <td>566000</td>\n",
              "      <td>1</td>\n",
              "      <td>19000</td>\n",
              "      <td>3.47</td>\n",
              "      <td>548000</td>\n",
              "      <td>570000</td>\n",
              "      <td>543000</td>\n",
              "      <td>832002</td>\n",
              "      <td>466498245000</td>\n",
              "      <td>132444000000000</td>\n",
              "      <td>234000000</td>\n",
              "      <td>STK</td>\n",
              "    </tr>\n",
              "    <tr>\n",
              "      <th>2</th>\n",
              "      <td>000660</td>\n",
              "      <td>KR7000660001</td>\n",
              "      <td>SK하이닉스</td>\n",
              "      <td>KOSPI</td>\n",
              "      <td></td>\n",
              "      <td>88900</td>\n",
              "      <td>2</td>\n",
              "      <td>-800</td>\n",
              "      <td>-0.89</td>\n",
              "      <td>89700</td>\n",
              "      <td>90000</td>\n",
              "      <td>88800</td>\n",
              "      <td>1610238</td>\n",
              "      <td>143926017800</td>\n",
              "      <td>64719410248500</td>\n",
              "      <td>728002365</td>\n",
              "      <td>STK</td>\n",
              "    </tr>\n",
              "    <tr>\n",
              "      <th>3</th>\n",
              "      <td>207940</td>\n",
              "      <td>KR7207940008</td>\n",
              "      <td>삼성바이오로직스</td>\n",
              "      <td>KOSPI</td>\n",
              "      <td></td>\n",
              "      <td>794000</td>\n",
              "      <td>2</td>\n",
              "      <td>-7000</td>\n",
              "      <td>-0.87</td>\n",
              "      <td>801000</td>\n",
              "      <td>804000</td>\n",
              "      <td>792000</td>\n",
              "      <td>50248</td>\n",
              "      <td>40064000000</td>\n",
              "      <td>56512156000000</td>\n",
              "      <td>71174000</td>\n",
              "      <td>STK</td>\n",
              "    </tr>\n",
              "    <tr>\n",
              "      <th>4</th>\n",
              "      <td>006400</td>\n",
              "      <td>KR7006400006</td>\n",
              "      <td>삼성SDI</td>\n",
              "      <td>KOSPI</td>\n",
              "      <td></td>\n",
              "      <td>793000</td>\n",
              "      <td>1</td>\n",
              "      <td>12000</td>\n",
              "      <td>1.54</td>\n",
              "      <td>779000</td>\n",
              "      <td>801000</td>\n",
              "      <td>768000</td>\n",
              "      <td>598409</td>\n",
              "      <td>472129871872</td>\n",
              "      <td>54530272290000</td>\n",
              "      <td>68764530</td>\n",
              "      <td>STK</td>\n",
              "    </tr>\n",
              "    <tr>\n",
              "      <th>...</th>\n",
              "      <td>...</td>\n",
              "      <td>...</td>\n",
              "      <td>...</td>\n",
              "      <td>...</td>\n",
              "      <td>...</td>\n",
              "      <td>...</td>\n",
              "      <td>...</td>\n",
              "      <td>...</td>\n",
              "      <td>...</td>\n",
              "      <td>...</td>\n",
              "      <td>...</td>\n",
              "      <td>...</td>\n",
              "      <td>...</td>\n",
              "      <td>...</td>\n",
              "      <td>...</td>\n",
              "      <td>...</td>\n",
              "      <td>...</td>\n",
              "    </tr>\n",
              "    <tr>\n",
              "      <th>938</th>\n",
              "      <td>002785</td>\n",
              "      <td>KR7002781003</td>\n",
              "      <td>진흥기업우B</td>\n",
              "      <td>KOSPI</td>\n",
              "      <td></td>\n",
              "      <td>5070</td>\n",
              "      <td>2</td>\n",
              "      <td>-20</td>\n",
              "      <td>-0.39</td>\n",
              "      <td>5070</td>\n",
              "      <td>5150</td>\n",
              "      <td>5040</td>\n",
              "      <td>676</td>\n",
              "      <td>3412880</td>\n",
              "      <td>4346095260</td>\n",
              "      <td>857218</td>\n",
              "      <td>STK</td>\n",
              "    </tr>\n",
              "    <tr>\n",
              "      <th>939</th>\n",
              "      <td>001527</td>\n",
              "      <td>KR7001522002</td>\n",
              "      <td>동양2우B</td>\n",
              "      <td>KOSPI</td>\n",
              "      <td></td>\n",
              "      <td>13300</td>\n",
              "      <td>2</td>\n",
              "      <td>-540</td>\n",
              "      <td>-3.90</td>\n",
              "      <td>13250</td>\n",
              "      <td>13390</td>\n",
              "      <td>13150</td>\n",
              "      <td>1241</td>\n",
              "      <td>16369210</td>\n",
              "      <td>4103967700</td>\n",
              "      <td>308569</td>\n",
              "      <td>STK</td>\n",
              "    </tr>\n",
              "    <tr>\n",
              "      <th>940</th>\n",
              "      <td>001525</td>\n",
              "      <td>KR7001521004</td>\n",
              "      <td>동양우</td>\n",
              "      <td>KOSPI</td>\n",
              "      <td></td>\n",
              "      <td>6500</td>\n",
              "      <td>2</td>\n",
              "      <td>-220</td>\n",
              "      <td>-3.27</td>\n",
              "      <td>6500</td>\n",
              "      <td>6510</td>\n",
              "      <td>6500</td>\n",
              "      <td>2658</td>\n",
              "      <td>17277220</td>\n",
              "      <td>4015251500</td>\n",
              "      <td>617731</td>\n",
              "      <td>STK</td>\n",
              "    </tr>\n",
              "    <tr>\n",
              "      <th>941</th>\n",
              "      <td>002787</td>\n",
              "      <td>KR7002782001</td>\n",
              "      <td>진흥기업2우B</td>\n",
              "      <td>KOSPI</td>\n",
              "      <td></td>\n",
              "      <td>13110</td>\n",
              "      <td>1</td>\n",
              "      <td>100</td>\n",
              "      <td>0.77</td>\n",
              "      <td>13030</td>\n",
              "      <td>13300</td>\n",
              "      <td>13030</td>\n",
              "      <td>236</td>\n",
              "      <td>3135670</td>\n",
              "      <td>3864932880</td>\n",
              "      <td>294808</td>\n",
              "      <td>STK</td>\n",
              "    </tr>\n",
              "    <tr>\n",
              "      <th>942</th>\n",
              "      <td>000547</td>\n",
              "      <td>KR7000542001</td>\n",
              "      <td>흥국화재2우B</td>\n",
              "      <td>KOSPI</td>\n",
              "      <td></td>\n",
              "      <td>19670</td>\n",
              "      <td>1</td>\n",
              "      <td>50</td>\n",
              "      <td>0.25</td>\n",
              "      <td>19500</td>\n",
              "      <td>19680</td>\n",
              "      <td>19500</td>\n",
              "      <td>725</td>\n",
              "      <td>14152960</td>\n",
              "      <td>3021312000</td>\n",
              "      <td>153600</td>\n",
              "      <td>STK</td>\n",
              "    </tr>\n",
              "  </tbody>\n",
              "</table>\n",
              "<p>943 rows × 17 columns</p>\n",
              "</div>\n",
              "      <button class=\"colab-df-convert\" onclick=\"convertToInteractive('df-f3a79937-5498-49a5-b7d6-3e58da9d27bf')\"\n",
              "              title=\"Convert this dataframe to an interactive table.\"\n",
              "              style=\"display:none;\">\n",
              "        \n",
              "  <svg xmlns=\"http://www.w3.org/2000/svg\" height=\"24px\"viewBox=\"0 0 24 24\"\n",
              "       width=\"24px\">\n",
              "    <path d=\"M0 0h24v24H0V0z\" fill=\"none\"/>\n",
              "    <path d=\"M18.56 5.44l.94 2.06.94-2.06 2.06-.94-2.06-.94-.94-2.06-.94 2.06-2.06.94zm-11 1L8.5 8.5l.94-2.06 2.06-.94-2.06-.94L8.5 2.5l-.94 2.06-2.06.94zm10 10l.94 2.06.94-2.06 2.06-.94-2.06-.94-.94-2.06-.94 2.06-2.06.94z\"/><path d=\"M17.41 7.96l-1.37-1.37c-.4-.4-.92-.59-1.43-.59-.52 0-1.04.2-1.43.59L10.3 9.45l-7.72 7.72c-.78.78-.78 2.05 0 2.83L4 21.41c.39.39.9.59 1.41.59.51 0 1.02-.2 1.41-.59l7.78-7.78 2.81-2.81c.8-.78.8-2.07 0-2.86zM5.41 20L4 18.59l7.72-7.72 1.47 1.35L5.41 20z\"/>\n",
              "  </svg>\n",
              "      </button>\n",
              "      \n",
              "  <style>\n",
              "    .colab-df-container {\n",
              "      display:flex;\n",
              "      flex-wrap:wrap;\n",
              "      gap: 12px;\n",
              "    }\n",
              "\n",
              "    .colab-df-convert {\n",
              "      background-color: #E8F0FE;\n",
              "      border: none;\n",
              "      border-radius: 50%;\n",
              "      cursor: pointer;\n",
              "      display: none;\n",
              "      fill: #1967D2;\n",
              "      height: 32px;\n",
              "      padding: 0 0 0 0;\n",
              "      width: 32px;\n",
              "    }\n",
              "\n",
              "    .colab-df-convert:hover {\n",
              "      background-color: #E2EBFA;\n",
              "      box-shadow: 0px 1px 2px rgba(60, 64, 67, 0.3), 0px 1px 3px 1px rgba(60, 64, 67, 0.15);\n",
              "      fill: #174EA6;\n",
              "    }\n",
              "\n",
              "    [theme=dark] .colab-df-convert {\n",
              "      background-color: #3B4455;\n",
              "      fill: #D2E3FC;\n",
              "    }\n",
              "\n",
              "    [theme=dark] .colab-df-convert:hover {\n",
              "      background-color: #434B5C;\n",
              "      box-shadow: 0px 1px 3px 1px rgba(0, 0, 0, 0.15);\n",
              "      filter: drop-shadow(0px 1px 2px rgba(0, 0, 0, 0.3));\n",
              "      fill: #FFFFFF;\n",
              "    }\n",
              "  </style>\n",
              "\n",
              "      <script>\n",
              "        const buttonEl =\n",
              "          document.querySelector('#df-f3a79937-5498-49a5-b7d6-3e58da9d27bf button.colab-df-convert');\n",
              "        buttonEl.style.display =\n",
              "          google.colab.kernel.accessAllowed ? 'block' : 'none';\n",
              "\n",
              "        async function convertToInteractive(key) {\n",
              "          const element = document.querySelector('#df-f3a79937-5498-49a5-b7d6-3e58da9d27bf');\n",
              "          const dataTable =\n",
              "            await google.colab.kernel.invokeFunction('convertToInteractive',\n",
              "                                                     [key], {});\n",
              "          if (!dataTable) return;\n",
              "\n",
              "          const docLinkHtml = 'Like what you see? Visit the ' +\n",
              "            '<a target=\"_blank\" href=https://colab.research.google.com/notebooks/data_table.ipynb>data table notebook</a>'\n",
              "            + ' to learn more about interactive tables.';\n",
              "          element.innerHTML = '';\n",
              "          dataTable['output_type'] = 'display_data';\n",
              "          await google.colab.output.renderOutput(dataTable, element);\n",
              "          const docLink = document.createElement('div');\n",
              "          docLink.innerHTML = docLinkHtml;\n",
              "          element.appendChild(docLink);\n",
              "        }\n",
              "      </script>\n",
              "    </div>\n",
              "  </div>\n",
              "  "
            ]
          },
          "metadata": {},
          "execution_count": 145
        }
      ]
    },
    {
      "cell_type": "code",
      "source": [
        "df[df['Name']=='삼성전자']"
      ],
      "metadata": {
        "colab": {
          "base_uri": "https://localhost:8080/",
          "height": 81
        },
        "id": "U1kVZB_4E4zS",
        "outputId": "1eef31ec-d096-42f3-8d49-71a50b22098f"
      },
      "execution_count": 146,
      "outputs": [
        {
          "output_type": "execute_result",
          "data": {
            "text/plain": [
              "     Code        ISU_CD  Name Market Dept  Close ChangeCode  Changes  \\\n",
              "0  005930  KR7005930003  삼성전자  KOSPI       60700          2     -800   \n",
              "\n",
              "   ChagesRatio   Open   High    Low    Volume        Amount           Marcap  \\\n",
              "0         -1.3  61400  61400  60700  11458034  697978547900  362365800785000   \n",
              "\n",
              "       Stocks MarketId  \n",
              "0  5969782550      STK  "
            ],
            "text/html": [
              "\n",
              "  <div id=\"df-d7a50f91-17de-4439-ba38-c2678d8eb5f1\">\n",
              "    <div class=\"colab-df-container\">\n",
              "      <div>\n",
              "<style scoped>\n",
              "    .dataframe tbody tr th:only-of-type {\n",
              "        vertical-align: middle;\n",
              "    }\n",
              "\n",
              "    .dataframe tbody tr th {\n",
              "        vertical-align: top;\n",
              "    }\n",
              "\n",
              "    .dataframe thead th {\n",
              "        text-align: right;\n",
              "    }\n",
              "</style>\n",
              "<table border=\"1\" class=\"dataframe\">\n",
              "  <thead>\n",
              "    <tr style=\"text-align: right;\">\n",
              "      <th></th>\n",
              "      <th>Code</th>\n",
              "      <th>ISU_CD</th>\n",
              "      <th>Name</th>\n",
              "      <th>Market</th>\n",
              "      <th>Dept</th>\n",
              "      <th>Close</th>\n",
              "      <th>ChangeCode</th>\n",
              "      <th>Changes</th>\n",
              "      <th>ChagesRatio</th>\n",
              "      <th>Open</th>\n",
              "      <th>High</th>\n",
              "      <th>Low</th>\n",
              "      <th>Volume</th>\n",
              "      <th>Amount</th>\n",
              "      <th>Marcap</th>\n",
              "      <th>Stocks</th>\n",
              "      <th>MarketId</th>\n",
              "    </tr>\n",
              "  </thead>\n",
              "  <tbody>\n",
              "    <tr>\n",
              "      <th>0</th>\n",
              "      <td>005930</td>\n",
              "      <td>KR7005930003</td>\n",
              "      <td>삼성전자</td>\n",
              "      <td>KOSPI</td>\n",
              "      <td></td>\n",
              "      <td>60700</td>\n",
              "      <td>2</td>\n",
              "      <td>-800</td>\n",
              "      <td>-1.3</td>\n",
              "      <td>61400</td>\n",
              "      <td>61400</td>\n",
              "      <td>60700</td>\n",
              "      <td>11458034</td>\n",
              "      <td>697978547900</td>\n",
              "      <td>362365800785000</td>\n",
              "      <td>5969782550</td>\n",
              "      <td>STK</td>\n",
              "    </tr>\n",
              "  </tbody>\n",
              "</table>\n",
              "</div>\n",
              "      <button class=\"colab-df-convert\" onclick=\"convertToInteractive('df-d7a50f91-17de-4439-ba38-c2678d8eb5f1')\"\n",
              "              title=\"Convert this dataframe to an interactive table.\"\n",
              "              style=\"display:none;\">\n",
              "        \n",
              "  <svg xmlns=\"http://www.w3.org/2000/svg\" height=\"24px\"viewBox=\"0 0 24 24\"\n",
              "       width=\"24px\">\n",
              "    <path d=\"M0 0h24v24H0V0z\" fill=\"none\"/>\n",
              "    <path d=\"M18.56 5.44l.94 2.06.94-2.06 2.06-.94-2.06-.94-.94-2.06-.94 2.06-2.06.94zm-11 1L8.5 8.5l.94-2.06 2.06-.94-2.06-.94L8.5 2.5l-.94 2.06-2.06.94zm10 10l.94 2.06.94-2.06 2.06-.94-2.06-.94-.94-2.06-.94 2.06-2.06.94z\"/><path d=\"M17.41 7.96l-1.37-1.37c-.4-.4-.92-.59-1.43-.59-.52 0-1.04.2-1.43.59L10.3 9.45l-7.72 7.72c-.78.78-.78 2.05 0 2.83L4 21.41c.39.39.9.59 1.41.59.51 0 1.02-.2 1.41-.59l7.78-7.78 2.81-2.81c.8-.78.8-2.07 0-2.86zM5.41 20L4 18.59l7.72-7.72 1.47 1.35L5.41 20z\"/>\n",
              "  </svg>\n",
              "      </button>\n",
              "      \n",
              "  <style>\n",
              "    .colab-df-container {\n",
              "      display:flex;\n",
              "      flex-wrap:wrap;\n",
              "      gap: 12px;\n",
              "    }\n",
              "\n",
              "    .colab-df-convert {\n",
              "      background-color: #E8F0FE;\n",
              "      border: none;\n",
              "      border-radius: 50%;\n",
              "      cursor: pointer;\n",
              "      display: none;\n",
              "      fill: #1967D2;\n",
              "      height: 32px;\n",
              "      padding: 0 0 0 0;\n",
              "      width: 32px;\n",
              "    }\n",
              "\n",
              "    .colab-df-convert:hover {\n",
              "      background-color: #E2EBFA;\n",
              "      box-shadow: 0px 1px 2px rgba(60, 64, 67, 0.3), 0px 1px 3px 1px rgba(60, 64, 67, 0.15);\n",
              "      fill: #174EA6;\n",
              "    }\n",
              "\n",
              "    [theme=dark] .colab-df-convert {\n",
              "      background-color: #3B4455;\n",
              "      fill: #D2E3FC;\n",
              "    }\n",
              "\n",
              "    [theme=dark] .colab-df-convert:hover {\n",
              "      background-color: #434B5C;\n",
              "      box-shadow: 0px 1px 3px 1px rgba(0, 0, 0, 0.15);\n",
              "      filter: drop-shadow(0px 1px 2px rgba(0, 0, 0, 0.3));\n",
              "      fill: #FFFFFF;\n",
              "    }\n",
              "  </style>\n",
              "\n",
              "      <script>\n",
              "        const buttonEl =\n",
              "          document.querySelector('#df-d7a50f91-17de-4439-ba38-c2678d8eb5f1 button.colab-df-convert');\n",
              "        buttonEl.style.display =\n",
              "          google.colab.kernel.accessAllowed ? 'block' : 'none';\n",
              "\n",
              "        async function convertToInteractive(key) {\n",
              "          const element = document.querySelector('#df-d7a50f91-17de-4439-ba38-c2678d8eb5f1');\n",
              "          const dataTable =\n",
              "            await google.colab.kernel.invokeFunction('convertToInteractive',\n",
              "                                                     [key], {});\n",
              "          if (!dataTable) return;\n",
              "\n",
              "          const docLinkHtml = 'Like what you see? Visit the ' +\n",
              "            '<a target=\"_blank\" href=https://colab.research.google.com/notebooks/data_table.ipynb>data table notebook</a>'\n",
              "            + ' to learn more about interactive tables.';\n",
              "          element.innerHTML = '';\n",
              "          dataTable['output_type'] = 'display_data';\n",
              "          await google.colab.output.renderOutput(dataTable, element);\n",
              "          const docLink = document.createElement('div');\n",
              "          docLink.innerHTML = docLinkHtml;\n",
              "          element.appendChild(docLink);\n",
              "        }\n",
              "      </script>\n",
              "    </div>\n",
              "  </div>\n",
              "  "
            ]
          },
          "metadata": {},
          "execution_count": 146
        }
      ]
    },
    {
      "cell_type": "code",
      "source": [
        "from datetime import *\n",
        "print(datetime.now())"
      ],
      "metadata": {
        "colab": {
          "base_uri": "https://localhost:8080/"
        },
        "id": "FCv5S_LEF4fe",
        "outputId": "ab4c59f8-7dce-4f6b-a585-9b4ecf7bb833"
      },
      "execution_count": 152,
      "outputs": [
        {
          "output_type": "stream",
          "name": "stdout",
          "text": [
            "2023-03-07 08:11:56.890448\n"
          ]
        }
      ]
    },
    {
      "cell_type": "code",
      "source": [
        "from time import sleep\n",
        "sleep(5)\n",
        "print('5sec after')"
      ],
      "metadata": {
        "colab": {
          "base_uri": "https://localhost:8080/"
        },
        "id": "_jD60YpZINJL",
        "outputId": "cfc458c9-19be-40d3-e233-356323ac2ef0"
      },
      "execution_count": 153,
      "outputs": [
        {
          "output_type": "stream",
          "name": "stdout",
          "text": [
            "5sec after\n"
          ]
        }
      ]
    },
    {
      "cell_type": "code",
      "source": [
        "datetime.today()"
      ],
      "metadata": {
        "colab": {
          "base_uri": "https://localhost:8080/"
        },
        "id": "4G0Z5dw7Ix8d",
        "outputId": "8ccdc520-ce64-43aa-8962-c9a823c01f25"
      },
      "execution_count": 155,
      "outputs": [
        {
          "output_type": "execute_result",
          "data": {
            "text/plain": [
              "datetime.datetime(2023, 3, 7, 8, 17, 33, 989336)"
            ]
          },
          "metadata": {},
          "execution_count": 155
        }
      ]
    },
    {
      "cell_type": "code",
      "source": [
        "import pytz\n",
        "datetime.now(pytz.timezone('Asia/Seoul'))"
      ],
      "metadata": {
        "colab": {
          "base_uri": "https://localhost:8080/"
        },
        "id": "BsXfyLeOJa2-",
        "outputId": "fb61cf49-6134-4f4d-a48a-38a999ae8502"
      },
      "execution_count": 156,
      "outputs": [
        {
          "output_type": "execute_result",
          "data": {
            "text/plain": [
              "datetime.datetime(2023, 3, 7, 17, 17, 59, 601117, tzinfo=<DstTzInfo 'Asia/Seoul' KST+9:00:00 STD>)"
            ]
          },
          "metadata": {},
          "execution_count": 156
        }
      ]
    },
    {
      "cell_type": "code",
      "source": [
        "datetime(2023,3,7,5,18)"
      ],
      "metadata": {
        "colab": {
          "base_uri": "https://localhost:8080/"
        },
        "id": "ZlQuqiM2JhIs",
        "outputId": "f95c747b-30cf-4fec-8a68-4610c340f015"
      },
      "execution_count": 157,
      "outputs": [
        {
          "output_type": "execute_result",
          "data": {
            "text/plain": [
              "datetime.datetime(2023, 3, 7, 5, 18)"
            ]
          },
          "metadata": {},
          "execution_count": 157
        }
      ]
    },
    {
      "cell_type": "code",
      "source": [
        "from datetime import timedelta\n",
        "\n",
        "d = datetime.now()\n",
        "d"
      ],
      "metadata": {
        "colab": {
          "base_uri": "https://localhost:8080/"
        },
        "id": "9PKKt-fXJ3ey",
        "outputId": "c33ef160-974a-4b8d-c32b-eb215a748026"
      },
      "execution_count": 159,
      "outputs": [
        {
          "output_type": "execute_result",
          "data": {
            "text/plain": [
              "datetime.datetime(2023, 3, 7, 8, 26, 20, 663638)"
            ]
          },
          "metadata": {},
          "execution_count": 159
        }
      ]
    },
    {
      "cell_type": "code",
      "source": [
        "d-timedelta(days=20)"
      ],
      "metadata": {
        "colab": {
          "base_uri": "https://localhost:8080/"
        },
        "id": "QQdlWXOFLYSM",
        "outputId": "149cbd94-aec5-4cb2-e7c1-2ac1b580487d"
      },
      "execution_count": 160,
      "outputs": [
        {
          "output_type": "execute_result",
          "data": {
            "text/plain": [
              "datetime.datetime(2023, 2, 15, 8, 26, 20, 663638)"
            ]
          },
          "metadata": {},
          "execution_count": 160
        }
      ]
    },
    {
      "cell_type": "code",
      "source": [
        "datetime(2023,3,10)-datetime(2023,3,7)"
      ],
      "metadata": {
        "colab": {
          "base_uri": "https://localhost:8080/"
        },
        "id": "fzuK0oMeLfFM",
        "outputId": "38aa3d16-4843-45e5-d390-addfc8ba3a0f"
      },
      "execution_count": 162,
      "outputs": [
        {
          "output_type": "execute_result",
          "data": {
            "text/plain": [
              "datetime.timedelta(days=3)"
            ]
          },
          "metadata": {},
          "execution_count": 162
        }
      ]
    },
    {
      "cell_type": "code",
      "source": [
        "from dateutil.relativedelta import relativedelta"
      ],
      "metadata": {
        "id": "jH-sQ3iWLuGw"
      },
      "execution_count": 164,
      "outputs": []
    },
    {
      "cell_type": "code",
      "source": [
        "datetime.now() - relativedelta(months=3)"
      ],
      "metadata": {
        "colab": {
          "base_uri": "https://localhost:8080/"
        },
        "id": "Vv5ZvnskL18I",
        "outputId": "2939be3c-b0c9-43fd-d21d-ca219e67854c"
      },
      "execution_count": 165,
      "outputs": [
        {
          "output_type": "execute_result",
          "data": {
            "text/plain": [
              "datetime.datetime(2022, 12, 7, 8, 28, 50, 785351)"
            ]
          },
          "metadata": {},
          "execution_count": 165
        }
      ]
    }
  ]
}