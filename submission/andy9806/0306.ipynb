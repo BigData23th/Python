{
  "nbformat": 4,
  "nbformat_minor": 0,
  "metadata": {
    "colab": {
      "provenance": [],
      "authorship_tag": "ABX9TyNu4YCPaqycdnyGRTTA5DYZ",
      "include_colab_link": true
    },
    "kernelspec": {
      "name": "python3",
      "display_name": "Python 3"
    },
    "language_info": {
      "name": "python"
    }
  },
  "cells": [
    {
      "cell_type": "markdown",
      "metadata": {
        "id": "view-in-github",
        "colab_type": "text"
      },
      "source": [
        "<a href=\"https://colab.research.google.com/github/andy9806/Python_23/blob/main/submission/andy9806/0306.ipynb\" target=\"_parent\"><img src=\"https://colab.research.google.com/assets/colab-badge.svg\" alt=\"Open In Colab\"/></a>"
      ]
    },
    {
      "cell_type": "code",
      "execution_count": 1,
      "metadata": {
        "colab": {
          "base_uri": "https://localhost:8080/"
        },
        "id": "GsMrSJ4BSlKX",
        "outputId": "b16ced85-3729-46eb-923c-e0c4a6dff3bd"
      },
      "outputs": [
        {
          "output_type": "execute_result",
          "data": {
            "text/plain": [
              "[1, 2, 3, 4, [1, 2, 3, 4]]"
            ]
          },
          "metadata": {},
          "execution_count": 1
        }
      ],
      "source": [
        "a=[1,2,3,4]\n",
        "b=[1,2,3,4]\n",
        "a.append(b)\n",
        "a"
      ]
    },
    {
      "cell_type": "code",
      "source": [
        "c=[1,2,3,4]\n",
        "d=[1,2,3,4]\n",
        "c.extend(d)\n",
        "c"
      ],
      "metadata": {
        "colab": {
          "base_uri": "https://localhost:8080/"
        },
        "id": "UUN0aBjKUENV",
        "outputId": "fd6f3205-4f19-4cee-da4c-6b8a610d5e45"
      },
      "execution_count": 2,
      "outputs": [
        {
          "output_type": "execute_result",
          "data": {
            "text/plain": [
              "[1, 2, 3, 4, 1, 2, 3, 4]"
            ]
          },
          "metadata": {},
          "execution_count": 2
        }
      ]
    },
    {
      "cell_type": "code",
      "source": [
        "c.pop(2)  #인덱스지정해서 pop\n",
        "c"
      ],
      "metadata": {
        "colab": {
          "base_uri": "https://localhost:8080/"
        },
        "id": "6q1pNCVEUH4X",
        "outputId": "f0ff882e-17cf-4310-ea5c-1c55abe548ee"
      },
      "execution_count": 3,
      "outputs": [
        {
          "output_type": "execute_result",
          "data": {
            "text/plain": [
              "[1, 2, 4, 1, 2, 3, 4]"
            ]
          },
          "metadata": {},
          "execution_count": 3
        }
      ]
    },
    {
      "cell_type": "code",
      "source": [
        "c.index(1)"
      ],
      "metadata": {
        "colab": {
          "base_uri": "https://localhost:8080/"
        },
        "id": "LVFkZfIlXB_d",
        "outputId": "da8fed8c-cf8c-4e20-f34f-daed62d3bf69"
      },
      "execution_count": 4,
      "outputs": [
        {
          "output_type": "execute_result",
          "data": {
            "text/plain": [
              "0"
            ]
          },
          "metadata": {},
          "execution_count": 4
        }
      ]
    },
    {
      "cell_type": "code",
      "source": [
        "import random\n",
        "c.extend([12]*random.randint(10,20))\n",
        "c"
      ],
      "metadata": {
        "colab": {
          "base_uri": "https://localhost:8080/"
        },
        "id": "2FMO6n7wYV6A",
        "outputId": "c47a458e-23c5-4735-d4c9-1011d7e4bf3b"
      },
      "execution_count": 5,
      "outputs": [
        {
          "output_type": "execute_result",
          "data": {
            "text/plain": [
              "[1,\n",
              " 2,\n",
              " 4,\n",
              " 1,\n",
              " 2,\n",
              " 3,\n",
              " 4,\n",
              " 12,\n",
              " 12,\n",
              " 12,\n",
              " 12,\n",
              " 12,\n",
              " 12,\n",
              " 12,\n",
              " 12,\n",
              " 12,\n",
              " 12,\n",
              " 12,\n",
              " 12,\n",
              " 12,\n",
              " 12,\n",
              " 12]"
            ]
          },
          "metadata": {},
          "execution_count": 5
        }
      ]
    },
    {
      "cell_type": "code",
      "source": [
        "c.count(12)"
      ],
      "metadata": {
        "colab": {
          "base_uri": "https://localhost:8080/"
        },
        "id": "bk8-bxdXZFrg",
        "outputId": "fee715a7-5a36-4777-c589-0d9d1f48a71c"
      },
      "execution_count": 6,
      "outputs": [
        {
          "output_type": "execute_result",
          "data": {
            "text/plain": [
              "15"
            ]
          },
          "metadata": {},
          "execution_count": 6
        }
      ]
    },
    {
      "cell_type": "code",
      "source": [
        "numbers = [random.randint(20,200) for i in range(10)]\n",
        "numbers"
      ],
      "metadata": {
        "colab": {
          "base_uri": "https://localhost:8080/"
        },
        "id": "wEKahZLvZL9v",
        "outputId": "01933605-03d9-44d0-a637-41f946f3caa1"
      },
      "execution_count": 7,
      "outputs": [
        {
          "output_type": "execute_result",
          "data": {
            "text/plain": [
              "[91, 192, 172, 68, 156, 165, 90, 126, 112, 199]"
            ]
          },
          "metadata": {},
          "execution_count": 7
        }
      ]
    },
    {
      "cell_type": "code",
      "source": [
        "numbers.sort(reverse=True)\n",
        "numbers"
      ],
      "metadata": {
        "colab": {
          "base_uri": "https://localhost:8080/"
        },
        "id": "0mbJ79hAejD8",
        "outputId": "b05743a0-bc53-4874-9b08-9379f87ddb54"
      },
      "execution_count": 10,
      "outputs": [
        {
          "output_type": "execute_result",
          "data": {
            "text/plain": [
              "[199, 192, 172, 165, 156, 126, 112, 91, 90, 68]"
            ]
          },
          "metadata": {},
          "execution_count": 10
        }
      ]
    },
    {
      "cell_type": "code",
      "source": [
        "lotto = random.choices(range(1,46),k=6)\n",
        "lotto"
      ],
      "metadata": {
        "colab": {
          "base_uri": "https://localhost:8080/"
        },
        "id": "CY9DzSzGeyH9",
        "outputId": "3b3fa2b0-45a8-4b89-ac9f-315e9d3a0fee"
      },
      "execution_count": 12,
      "outputs": [
        {
          "output_type": "execute_result",
          "data": {
            "text/plain": [
              "[26, 26, 4, 34, 40, 6]"
            ]
          },
          "metadata": {},
          "execution_count": 12
        }
      ]
    },
    {
      "cell_type": "code",
      "source": [
        "rc = random.choices(range(1,21),k=20)\n",
        "rc"
      ],
      "metadata": {
        "colab": {
          "base_uri": "https://localhost:8080/"
        },
        "id": "AqJ4jjsih0G7",
        "outputId": "6ac463e9-75aa-4950-efcd-e3de127427af"
      },
      "execution_count": 22,
      "outputs": [
        {
          "output_type": "execute_result",
          "data": {
            "text/plain": [
              "[5, 13, 2, 15, 14, 9, 10, 7, 15, 19, 3, 15, 20, 18, 19, 12, 11, 8, 1, 10]"
            ]
          },
          "metadata": {},
          "execution_count": 22
        }
      ]
    },
    {
      "cell_type": "code",
      "source": [
        "lunch = [[rc[i],rc[i+1]] for i in range(0,len(rc),2)]\n",
        "lunch"
      ],
      "metadata": {
        "colab": {
          "base_uri": "https://localhost:8080/"
        },
        "id": "roRU25xEi9YY",
        "outputId": "1a5fcb3a-bdeb-4119-f54f-be16f8a08da4"
      },
      "execution_count": 23,
      "outputs": [
        {
          "output_type": "execute_result",
          "data": {
            "text/plain": [
              "[[5, 13],\n",
              " [2, 15],\n",
              " [14, 9],\n",
              " [10, 7],\n",
              " [15, 19],\n",
              " [3, 15],\n",
              " [20, 18],\n",
              " [19, 12],\n",
              " [11, 8],\n",
              " [1, 10]]"
            ]
          },
          "metadata": {},
          "execution_count": 23
        }
      ]
    },
    {
      "cell_type": "code",
      "source": [
        "lunch1 = [ (rc[i],rc[i+1]) for i in range(len(rc)) if i%2==0]\n",
        "lunch1"
      ],
      "metadata": {
        "colab": {
          "base_uri": "https://localhost:8080/"
        },
        "id": "82juXuBHjIXe",
        "outputId": "28af94e1-cc05-4239-fe91-79cc025b67f1"
      },
      "execution_count": 25,
      "outputs": [
        {
          "output_type": "execute_result",
          "data": {
            "text/plain": [
              "[(5, 13),\n",
              " (2, 15),\n",
              " (14, 9),\n",
              " (10, 7),\n",
              " (15, 19),\n",
              " (3, 15),\n",
              " (20, 18),\n",
              " (19, 12),\n",
              " (11, 8),\n",
              " (1, 10)]"
            ]
          },
          "metadata": {},
          "execution_count": 25
        }
      ]
    },
    {
      "cell_type": "code",
      "source": [
        "lunch1 = [ (rc[i],rc[i+1]) for i in range(len(rc)) if not i%2]  #위와 동일한 코드\n",
        "lunch1"
      ],
      "metadata": {
        "colab": {
          "base_uri": "https://localhost:8080/"
        },
        "id": "DkrfnvStlSl4",
        "outputId": "749fb08e-32e2-43e9-e83a-bc1513b22e4e"
      },
      "execution_count": 26,
      "outputs": [
        {
          "output_type": "execute_result",
          "data": {
            "text/plain": [
              "[(5, 13),\n",
              " (2, 15),\n",
              " (14, 9),\n",
              " (10, 7),\n",
              " (15, 19),\n",
              " (3, 15),\n",
              " (20, 18),\n",
              " (19, 12),\n",
              " (11, 8),\n",
              " (1, 10)]"
            ]
          },
          "metadata": {},
          "execution_count": 26
        }
      ]
    },
    {
      "cell_type": "code",
      "source": [
        "s= '오늘 점심은 돈까스입니다. 저녁은 돈까스입니다.'\n",
        "s.replace('돈까스','파스타',1)"
      ],
      "metadata": {
        "colab": {
          "base_uri": "https://localhost:8080/",
          "height": 35
        },
        "id": "lffmBn93lYRY",
        "outputId": "57438c97-3f37-4b97-d337-c0b2427b648e"
      },
      "execution_count": 31,
      "outputs": [
        {
          "output_type": "execute_result",
          "data": {
            "text/plain": [
              "'오늘 점심은 파스타입니다. 저녁은 돈까스입니다.'"
            ],
            "application/vnd.google.colaboratory.intrinsic+json": {
              "type": "string"
            }
          },
          "metadata": {},
          "execution_count": 31
        }
      ]
    },
    {
      "cell_type": "code",
      "source": [
        "age=26\n",
        "f'{age:04d}',f'{age:03d}'"
      ],
      "metadata": {
        "colab": {
          "base_uri": "https://localhost:8080/"
        },
        "id": "cuIzcVCXlpkJ",
        "outputId": "57eb029a-5b9e-4c55-d6ec-14b4d7c2a365"
      },
      "execution_count": 33,
      "outputs": [
        {
          "output_type": "execute_result",
          "data": {
            "text/plain": [
              "('0026', '026')"
            ]
          },
          "metadata": {},
          "execution_count": 33
        }
      ]
    },
    {
      "cell_type": "code",
      "source": [
        "f'{float(age)}'"
      ],
      "metadata": {
        "colab": {
          "base_uri": "https://localhost:8080/",
          "height": 35
        },
        "id": "xL3igDd3tjYT",
        "outputId": "3f11fb1b-78fa-4a22-b83f-ad73ba9615b4"
      },
      "execution_count": 34,
      "outputs": [
        {
          "output_type": "execute_result",
          "data": {
            "text/plain": [
              "'26.0'"
            ],
            "application/vnd.google.colaboratory.intrinsic+json": {
              "type": "string"
            }
          },
          "metadata": {},
          "execution_count": 34
        }
      ]
    },
    {
      "cell_type": "code",
      "source": [
        "x={\n",
        "    'a':123,\n",
        "   'b':321,\n",
        "   'c':213\n",
        "}\n",
        "x.update(d=132)\n",
        "x"
      ],
      "metadata": {
        "colab": {
          "base_uri": "https://localhost:8080/"
        },
        "id": "vowJjjuZt6de",
        "outputId": "a0f4608c-2b82-45f5-d7a3-d89490b9c154"
      },
      "execution_count": 37,
      "outputs": [
        {
          "output_type": "execute_result",
          "data": {
            "text/plain": [
              "{'a': 123, 'b': 321, 'c': 213, 'd': 132}"
            ]
          },
          "metadata": {},
          "execution_count": 37
        }
      ]
    },
    {
      "cell_type": "code",
      "source": [
        "[x[i] for i in x]"
      ],
      "metadata": {
        "colab": {
          "base_uri": "https://localhost:8080/"
        },
        "id": "rPfJbriI6Usy",
        "outputId": "34d23bcb-9914-44b6-8096-407189cb22bf"
      },
      "execution_count": 38,
      "outputs": [
        {
          "output_type": "execute_result",
          "data": {
            "text/plain": [
              "[123, 321, 213, 132]"
            ]
          },
          "metadata": {},
          "execution_count": 38
        }
      ]
    },
    {
      "cell_type": "code",
      "source": [
        "[i for i in x]"
      ],
      "metadata": {
        "colab": {
          "base_uri": "https://localhost:8080/"
        },
        "id": "Nsn9b_p06yIB",
        "outputId": "b250bc7f-0449-4bc2-fa4b-818551198f94"
      },
      "execution_count": 39,
      "outputs": [
        {
          "output_type": "execute_result",
          "data": {
            "text/plain": [
              "['a', 'b', 'c', 'd']"
            ]
          },
          "metadata": {},
          "execution_count": 39
        }
      ]
    },
    {
      "cell_type": "code",
      "source": [
        "x.update(e=432,f=1241)\n",
        "x"
      ],
      "metadata": {
        "colab": {
          "base_uri": "https://localhost:8080/"
        },
        "id": "4LhMC6u760qV",
        "outputId": "e75620a6-26a6-41ab-c42c-1731c184b58a"
      },
      "execution_count": 41,
      "outputs": [
        {
          "output_type": "execute_result",
          "data": {
            "text/plain": [
              "{'a': 123, 'b': 321, 'c': 213, 'd': 132, 'e': 432, 'f': 1241}"
            ]
          },
          "metadata": {},
          "execution_count": 41
        }
      ]
    },
    {
      "cell_type": "code",
      "source": [
        "x.update({1:'one',2:'two'})\n",
        "x"
      ],
      "metadata": {
        "colab": {
          "base_uri": "https://localhost:8080/"
        },
        "id": "qOhTNtje7ZTE",
        "outputId": "b3e7024f-6af4-4c63-aa9f-c476e122f1c3"
      },
      "execution_count": 42,
      "outputs": [
        {
          "output_type": "execute_result",
          "data": {
            "text/plain": [
              "{'a': 123,\n",
              " 'b': 321,\n",
              " 'c': 213,\n",
              " 'd': 132,\n",
              " 'e': 432,\n",
              " 'f': 1241,\n",
              " 1: 'one',\n",
              " 2: 'two'}"
            ]
          },
          "metadata": {},
          "execution_count": 42
        }
      ]
    },
    {
      "cell_type": "code",
      "source": [
        "x.update([[5,1234],[6,6512]])\n",
        "x"
      ],
      "metadata": {
        "colab": {
          "base_uri": "https://localhost:8080/"
        },
        "id": "CS5HyBv08E_q",
        "outputId": "eefed22b-7fab-4bfa-c027-d082ec24b77f"
      },
      "execution_count": 46,
      "outputs": [
        {
          "output_type": "execute_result",
          "data": {
            "text/plain": [
              "{'a': 123,\n",
              " 'b': 321,\n",
              " 'c': 213,\n",
              " 'd': 132,\n",
              " 'e': 432,\n",
              " 'f': 1241,\n",
              " 1: 'one',\n",
              " 2: 'two',\n",
              " 5: 1234,\n",
              " 6: 6512}"
            ]
          },
          "metadata": {},
          "execution_count": 46
        }
      ]
    },
    {
      "cell_type": "code",
      "source": [
        "x.pop(6)"
      ],
      "metadata": {
        "colab": {
          "base_uri": "https://localhost:8080/"
        },
        "id": "ayrVNeH59A2C",
        "outputId": "21255efc-bbbe-4f4c-d7b2-6dab77190804"
      },
      "execution_count": 47,
      "outputs": [
        {
          "output_type": "execute_result",
          "data": {
            "text/plain": [
              "6512"
            ]
          },
          "metadata": {},
          "execution_count": 47
        }
      ]
    },
    {
      "cell_type": "code",
      "source": [
        "x.pop(6,0)"
      ],
      "metadata": {
        "colab": {
          "base_uri": "https://localhost:8080/"
        },
        "id": "9l17SF8n9do9",
        "outputId": "eb27f7e8-6b76-4caa-b5f6-268383557c14"
      },
      "execution_count": 48,
      "outputs": [
        {
          "output_type": "execute_result",
          "data": {
            "text/plain": [
              "0"
            ]
          },
          "metadata": {},
          "execution_count": 48
        }
      ]
    },
    {
      "cell_type": "code",
      "source": [
        "x"
      ],
      "metadata": {
        "colab": {
          "base_uri": "https://localhost:8080/"
        },
        "id": "fJ_8HbZh9fhn",
        "outputId": "92534ae5-8a88-4c7f-99d2-cebf6f0550f7"
      },
      "execution_count": 49,
      "outputs": [
        {
          "output_type": "execute_result",
          "data": {
            "text/plain": [
              "{'a': 123,\n",
              " 'b': 321,\n",
              " 'c': 213,\n",
              " 'd': 132,\n",
              " 'e': 432,\n",
              " 'f': 1241,\n",
              " 1: 'one',\n",
              " 2: 'two',\n",
              " 5: 1234}"
            ]
          },
          "metadata": {},
          "execution_count": 49
        }
      ]
    },
    {
      "cell_type": "code",
      "source": [
        "y=x.copy()\n",
        "y"
      ],
      "metadata": {
        "colab": {
          "base_uri": "https://localhost:8080/"
        },
        "id": "Vvtolqmr9h0A",
        "outputId": "91bbbabd-4ad6-4de6-bf15-07b57b4f6ce1"
      },
      "execution_count": 50,
      "outputs": [
        {
          "output_type": "execute_result",
          "data": {
            "text/plain": [
              "{'a': 123,\n",
              " 'b': 321,\n",
              " 'c': 213,\n",
              " 'd': 132,\n",
              " 'e': 432,\n",
              " 'f': 1241,\n",
              " 1: 'one',\n",
              " 2: 'two',\n",
              " 5: 1234}"
            ]
          },
          "metadata": {},
          "execution_count": 50
        }
      ]
    },
    {
      "cell_type": "code",
      "source": [
        "y.clear()\n",
        "y"
      ],
      "metadata": {
        "colab": {
          "base_uri": "https://localhost:8080/"
        },
        "id": "ZcCWsOj89x-o",
        "outputId": "a2400e42-0b3a-4e0f-da8c-a4355a32b9e1"
      },
      "execution_count": 51,
      "outputs": [
        {
          "output_type": "execute_result",
          "data": {
            "text/plain": [
              "{}"
            ]
          },
          "metadata": {},
          "execution_count": 51
        }
      ]
    },
    {
      "cell_type": "code",
      "source": [
        "x.get('a')"
      ],
      "metadata": {
        "colab": {
          "base_uri": "https://localhost:8080/"
        },
        "id": "koFf-ZIu9zD7",
        "outputId": "fee365c1-17d7-4d5c-80ed-d709eb57ac10"
      },
      "execution_count": 52,
      "outputs": [
        {
          "output_type": "execute_result",
          "data": {
            "text/plain": [
              "123"
            ]
          },
          "metadata": {},
          "execution_count": 52
        }
      ]
    },
    {
      "cell_type": "code",
      "source": [
        "x.items()"
      ],
      "metadata": {
        "colab": {
          "base_uri": "https://localhost:8080/"
        },
        "id": "TbL0Y6Ls-K9E",
        "outputId": "ae5e4722-5d57-4ac2-b199-d6dfeb49b4d8"
      },
      "execution_count": 57,
      "outputs": [
        {
          "output_type": "execute_result",
          "data": {
            "text/plain": [
              "dict_items([('a', 123), ('b', 321), ('c', 213), ('d', 132), ('e', 432), ('f', 1241), (1, 'one'), (2, 'two'), (5, 1234)])"
            ]
          },
          "metadata": {},
          "execution_count": 57
        }
      ]
    },
    {
      "cell_type": "code",
      "source": [
        "a={\n",
        "    1:{1:123}\n",
        "}\n",
        "b=a.copy()\n",
        "b[1][1]=321\n",
        "b"
      ],
      "metadata": {
        "colab": {
          "base_uri": "https://localhost:8080/"
        },
        "id": "K84tiG3F-SI4",
        "outputId": "9fba81a6-bb95-426d-dde5-bf055abcb0b6"
      },
      "execution_count": 58,
      "outputs": [
        {
          "output_type": "execute_result",
          "data": {
            "text/plain": [
              "{1: {1: 321}}"
            ]
          },
          "metadata": {},
          "execution_count": 58
        }
      ]
    },
    {
      "cell_type": "code",
      "source": [
        "a"
      ],
      "metadata": {
        "colab": {
          "base_uri": "https://localhost:8080/"
        },
        "id": "JAeciFUtBlyx",
        "outputId": "e065d95f-aaf5-41d8-e49f-d9e402c57329"
      },
      "execution_count": 59,
      "outputs": [
        {
          "output_type": "execute_result",
          "data": {
            "text/plain": [
              "{1: {1: 321}}"
            ]
          },
          "metadata": {},
          "execution_count": 59
        }
      ]
    },
    {
      "cell_type": "code",
      "source": [
        "import copy\n",
        "c={\n",
        "    1:{1:123}\n",
        "}\n",
        "d=copy.deepcopy(c)\n",
        "d[1][1]=321\n",
        "d"
      ],
      "metadata": {
        "colab": {
          "base_uri": "https://localhost:8080/"
        },
        "id": "z3EFY1btBmnU",
        "outputId": "77c9fc08-06c3-40c5-84a6-1c081fcdebe4"
      },
      "execution_count": 63,
      "outputs": [
        {
          "output_type": "execute_result",
          "data": {
            "text/plain": [
              "{1: {1: 321}}"
            ]
          },
          "metadata": {},
          "execution_count": 63
        }
      ]
    },
    {
      "cell_type": "code",
      "source": [
        "c   #이중딕셔너리에서는 딥카피를해야 이중딕셔너리까지 복사되어 원본이 변하지 않음"
      ],
      "metadata": {
        "colab": {
          "base_uri": "https://localhost:8080/"
        },
        "id": "T5JeOdZvB5Vf",
        "outputId": "9f7e0d5e-0376-43f7-fd3a-68eb739cf296"
      },
      "execution_count": 64,
      "outputs": [
        {
          "output_type": "execute_result",
          "data": {
            "text/plain": [
              "{1: {1: 123}}"
            ]
          },
          "metadata": {},
          "execution_count": 64
        }
      ]
    },
    {
      "cell_type": "code",
      "source": [
        "def abc():\n",
        "  print('hello')\n",
        "\n",
        "abc()"
      ],
      "metadata": {
        "colab": {
          "base_uri": "https://localhost:8080/"
        },
        "id": "B8bRSUsoB53H",
        "outputId": "4247323d-3f76-440b-8f56-e4b9ef949791"
      },
      "execution_count": 67,
      "outputs": [
        {
          "output_type": "stream",
          "name": "stdout",
          "text": [
            "hello\n"
          ]
        }
      ]
    },
    {
      "cell_type": "code",
      "source": [
        "a=100\n",
        "def add(a,b):\n",
        "  print(a+b)\n",
        "  return a+b\n",
        "\n",
        "add(50,25)\n",
        "a+100"
      ],
      "metadata": {
        "colab": {
          "base_uri": "https://localhost:8080/"
        },
        "id": "vBfZzRuZW6s1",
        "outputId": "4c36eab7-bca1-4ae6-cfcd-6421e4ee0768"
      },
      "execution_count": 76,
      "outputs": [
        {
          "output_type": "stream",
          "name": "stdout",
          "text": [
            "75\n"
          ]
        },
        {
          "output_type": "execute_result",
          "data": {
            "text/plain": [
              "200"
            ]
          },
          "metadata": {},
          "execution_count": 76
        }
      ]
    },
    {
      "cell_type": "code",
      "source": [
        "def abc(a=1,b=2,*args):\n",
        "  # c=0\n",
        "  # for i in args:\n",
        "    # c+=i\n",
        "    print(args)\n",
        "  # return a+b+c\n",
        "\n",
        "print(abc(10,20,*[30,40,50]))\n",
        "print(abc(10,20,30,40,50))\n",
        "print(abc(10,20,(30,40,50)))\n",
        "print(abc(10,20,[30,40,50]))\n",
        "# *args는 튜플로 파라미터를 받아옴 3,4 줄은 튜플안에 튜플,리스트로 받아옴\n",
        "# 위에서처럼 리스트나 튜플에 *를 써주면 언팩킹해서 첫번째줄과 두번째줄이 같은 코딩임"
      ],
      "metadata": {
        "colab": {
          "base_uri": "https://localhost:8080/"
        },
        "id": "Xr3Ce05WXC6z",
        "outputId": "5e843b39-b926-4a2d-cd26-3f386427470a"
      },
      "execution_count": 117,
      "outputs": [
        {
          "output_type": "stream",
          "name": "stdout",
          "text": [
            "(30, 40, 50)\n",
            "None\n",
            "(30, 40, 50)\n",
            "None\n",
            "((30, 40, 50),)\n",
            "None\n",
            "([30, 40, 50],)\n",
            "None\n"
          ]
        }
      ]
    },
    {
      "cell_type": "code",
      "source": [
        "def abd(*args,**kwargs):\n",
        "  print(args)\n",
        "  print(kwargs)\n",
        "\n",
        "abd(10,20,30,a=100,b=200,c=300)"
      ],
      "metadata": {
        "colab": {
          "base_uri": "https://localhost:8080/"
        },
        "id": "u28MSirsmpi_",
        "outputId": "3bc79e54-fbf9-4f8c-f662-c4e7c8ff6d29"
      },
      "execution_count": 100,
      "outputs": [
        {
          "output_type": "stream",
          "name": "stdout",
          "text": [
            "(10, 20, 30)\n",
            "{'a': 100, 'b': 200, 'c': 300}\n"
          ]
        }
      ]
    },
    {
      "cell_type": "code",
      "source": [
        "# def abd(**kwargs,*args):   *args 가 **kwargs보다 앞서서 나와야함\n",
        "#   print(args)\n",
        "#   print(kwargs)\n",
        "\n",
        "# abd(10,20,30,a=100,b=200,c=300)"
      ],
      "metadata": {
        "id": "E3vCedYMogV2"
      },
      "execution_count": null,
      "outputs": []
    },
    {
      "cell_type": "code",
      "source": [
        "def introduce(**kwargs):\n",
        "  print(f'이름 : {kwargs.get(\"name\")}')\n",
        "  print(f\"나이 : {kwargs.get('age')}\")\n",
        "  print(f\"주소 : {kwargs.get('address')}\")\n",
        "  # print(f'이름 :{kwargs.get('name')}')\n",
        "introduce(name='이영재',age=26,address='대화동')\n",
        "\n",
        "## f스트링 안에서도 f'이름 : {kwargs.get('name')}' 이렇게 써도 문자열에서 ''''가 겹쳐서 인식되서 오류발생"
      ],
      "metadata": {
        "colab": {
          "base_uri": "https://localhost:8080/"
        },
        "id": "XD9HFGsDrbxv",
        "outputId": "0e687220-39e4-4dcd-aeec-ae1cffbcae4a"
      },
      "execution_count": 113,
      "outputs": [
        {
          "output_type": "stream",
          "name": "stdout",
          "text": [
            "이름 : 이영재\n",
            "나이 : 26\n",
            "주소 : 대화동\n"
          ]
        }
      ]
    },
    {
      "cell_type": "code",
      "source": [
        "def introduce(**kwargs):\n",
        "  print(kwargs)\n",
        "  print(f\"이름 : {kwargs.get('name')}\")\n",
        "\n",
        "introduce(name='이영재')"
      ],
      "metadata": {
        "colab": {
          "base_uri": "https://localhost:8080/"
        },
        "id": "VoqZ4ny5tC2I",
        "outputId": "4661ba1e-53b5-4ce4-fa55-a954d5ee5ab4"
      },
      "execution_count": 111,
      "outputs": [
        {
          "output_type": "stream",
          "name": "stdout",
          "text": [
            "{'name': '이영재'}\n",
            "이름 : 이영재\n"
          ]
        }
      ]
    },
    {
      "cell_type": "code",
      "source": [
        "import random\n",
        "\n",
        "def game(start,end,*args,**kwargs):\n",
        "  if 'name' not in kwargs:\n",
        "    return print('이름을 입력해주세요')\n",
        "  if 'money' not in kwargs:\n",
        "    return print('금액을 지불해주세요')\n",
        "  if not len(args):\n",
        "    return print('당첨 숫자를 입력해주세요')\n",
        "  number = random.choice(range(start,end+1))\n",
        "  if number in args:\n",
        "    print(f\"당첨되었습니다 {number} / \\\\{kwargs['money'] *2}\")\n",
        "  else:\n",
        "    print(f\"실패입니다 {number}\")"
      ],
      "metadata": {
        "id": "PL25erQ0ul6t"
      },
      "execution_count": 118,
      "outputs": []
    },
    {
      "cell_type": "code",
      "source": [
        "game(1,6)\n",
        "game(1,6,name='dldudwo')\n",
        "game(1,6,name='dldudwo',money=30000)\n",
        "game(1,6,1,2,3,name='dldudwo',money=30000)"
      ],
      "metadata": {
        "colab": {
          "base_uri": "https://localhost:8080/"
        },
        "id": "Led5odLsyeDa",
        "outputId": "47ebc7d3-5cfd-4561-fb81-5fc18773a33a"
      },
      "execution_count": 131,
      "outputs": [
        {
          "output_type": "stream",
          "name": "stdout",
          "text": [
            "이름을 입력해주세요\n",
            "금액을 지불해주세요\n",
            "당첨 숫자를 입력해주세요\n",
            "당첨되었습니다 3 / \\60000\n"
          ]
        }
      ]
    },
    {
      "cell_type": "code",
      "source": [
        "#초기값이 주어진 파라미터는 뒤에 몰아줘야함"
      ],
      "metadata": {
        "id": "ncZrCVowykcu"
      },
      "execution_count": 140,
      "outputs": []
    },
    {
      "cell_type": "code",
      "source": [
        "def plus_ten(x):\n",
        "  return x+10\n",
        "plus_ten(1)"
      ],
      "metadata": {
        "colab": {
          "base_uri": "https://localhost:8080/"
        },
        "id": "OsliOweB2eqc",
        "outputId": "ab7de9a0-0d7f-4a4b-c550-8095132508ed"
      },
      "execution_count": 141,
      "outputs": [
        {
          "output_type": "execute_result",
          "data": {
            "text/plain": [
              "11"
            ]
          },
          "metadata": {},
          "execution_count": 141
        }
      ]
    },
    {
      "cell_type": "code",
      "source": [
        "plus_ten = lambda x: x+10    # lambda 변수: 리턴값\n",
        "plus_ten(12)"
      ],
      "metadata": {
        "colab": {
          "base_uri": "https://localhost:8080/"
        },
        "id": "LtO77rtn2wy9",
        "outputId": "89752087-3219-4718-f9f2-551962b14590"
      },
      "execution_count": 143,
      "outputs": [
        {
          "output_type": "execute_result",
          "data": {
            "text/plain": [
              "22"
            ]
          },
          "metadata": {},
          "execution_count": 143
        }
      ]
    },
    {
      "cell_type": "code",
      "source": [
        "(lambda x: x+10)(100)\n",
        "\n",
        "# 람다표현식 안에서는 리턴값만 표현 가능, 변수 생성X\n",
        "\n",
        "y=10\n",
        "(lambda x: x+10+y)(11)\n",
        "# 단 밖에 있는 변수를 가져와서 사용할 수는 있다."
      ],
      "metadata": {
        "colab": {
          "base_uri": "https://localhost:8080/"
        },
        "id": "_xJA11lh3EYu",
        "outputId": "00ea1147-1260-4b5d-8f18-21a6c6fa4463"
      },
      "execution_count": 146,
      "outputs": [
        {
          "output_type": "execute_result",
          "data": {
            "text/plain": [
              "31"
            ]
          },
          "metadata": {},
          "execution_count": 146
        }
      ]
    },
    {
      "cell_type": "code",
      "source": [
        "z=2\n",
        "(lambda x,y:(x+y)**z)(4,5)\n",
        "# 위와 같이 외부에서 정의된 변수를 리턴값에 활용 가능"
      ],
      "metadata": {
        "colab": {
          "base_uri": "https://localhost:8080/"
        },
        "id": "Nkh4ISW33TTP",
        "outputId": "a6a0ce36-3390-4378-c581-17737295a246"
      },
      "execution_count": 148,
      "outputs": [
        {
          "output_type": "execute_result",
          "data": {
            "text/plain": [
              "81"
            ]
          },
          "metadata": {},
          "execution_count": 148
        }
      ]
    },
    {
      "cell_type": "code",
      "source": [
        "list(map(lambda x: int(x)**2,['11','12','13']))"
      ],
      "metadata": {
        "colab": {
          "base_uri": "https://localhost:8080/"
        },
        "id": "d6Hv1CJg5fPd",
        "outputId": "7f99f798-7d9e-40d0-a483-e8e5d2f5d692"
      },
      "execution_count": 152,
      "outputs": [
        {
          "output_type": "execute_result",
          "data": {
            "text/plain": [
              "[121, 144, 169]"
            ]
          },
          "metadata": {},
          "execution_count": 152
        }
      ]
    }
  ]
}