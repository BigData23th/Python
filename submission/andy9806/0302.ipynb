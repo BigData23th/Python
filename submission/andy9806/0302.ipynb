{
  "nbformat": 4,
  "nbformat_minor": 0,
  "metadata": {
    "colab": {
      "provenance": [],
      "authorship_tag": "ABX9TyNSbiAojYEPJWdMUCJq+GzL",
      "include_colab_link": true
    },
    "kernelspec": {
      "name": "python3",
      "display_name": "Python 3"
    },
    "language_info": {
      "name": "python"
    }
  },
  "cells": [
    {
      "cell_type": "markdown",
      "metadata": {
        "id": "view-in-github",
        "colab_type": "text"
      },
      "source": [
        "<a href=\"https://colab.research.google.com/github/andy9806/Python_23/blob/main/submission/andy9806/0302.ipynb\" target=\"_parent\"><img src=\"https://colab.research.google.com/assets/colab-badge.svg\" alt=\"Open In Colab\"/></a>"
      ]
    },
    {
      "cell_type": "code",
      "execution_count": 64,
      "metadata": {
        "colab": {
          "base_uri": "https://localhost:8080/"
        },
        "id": "spiKMbKbotRh",
        "outputId": "a467cf16-ed70-409e-a1bd-d6704fb74d15"
      },
      "outputs": [
        {
          "output_type": "execute_result",
          "data": {
            "text/plain": [
              "[1, 2, 3, 4, 5, 1, 2, 3, 4, 5, 1, 2, 3, 4, 5]"
            ]
          },
          "metadata": {},
          "execution_count": 64
        }
      ],
      "source": [
        "[1,2,3,4,5]*3"
      ]
    },
    {
      "cell_type": "code",
      "source": [
        "b='aeiojf;;asdn'\n",
        "b[25]"
      ],
      "metadata": {
        "colab": {
          "base_uri": "https://localhost:8080/",
          "height": 190
        },
        "id": "2bgEcaat5PWa",
        "outputId": "9e3acf62-250f-4ebb-a6e0-5b15642d8801"
      },
      "execution_count": 65,
      "outputs": [
        {
          "output_type": "error",
          "ename": "IndexError",
          "evalue": "ignored",
          "traceback": [
            "\u001b[0;31m---------------------------------------------------------------------------\u001b[0m",
            "\u001b[0;31mIndexError\u001b[0m                                Traceback (most recent call last)",
            "\u001b[0;32m<ipython-input-65-2616989fab33>\u001b[0m in \u001b[0;36m<module>\u001b[0;34m\u001b[0m\n\u001b[1;32m      1\u001b[0m \u001b[0mb\u001b[0m\u001b[0;34m=\u001b[0m\u001b[0;34m'aeiojf;;asdn'\u001b[0m\u001b[0;34m\u001b[0m\u001b[0;34m\u001b[0m\u001b[0m\n\u001b[0;32m----> 2\u001b[0;31m \u001b[0mb\u001b[0m\u001b[0;34m[\u001b[0m\u001b[0;36m25\u001b[0m\u001b[0;34m]\u001b[0m\u001b[0;34m\u001b[0m\u001b[0;34m\u001b[0m\u001b[0m\n\u001b[0m",
            "\u001b[0;31mIndexError\u001b[0m: string index out of range"
          ]
        }
      ]
    },
    {
      "cell_type": "code",
      "source": [
        "b[:100]"
      ],
      "metadata": {
        "colab": {
          "base_uri": "https://localhost:8080/",
          "height": 35
        },
        "id": "DbOS3te1NI_q",
        "outputId": "3c0890b4-ea34-4ac9-d838-cf9751475ed5"
      },
      "execution_count": 66,
      "outputs": [
        {
          "output_type": "execute_result",
          "data": {
            "text/plain": [
              "'aeiojf;;asdn'"
            ],
            "application/vnd.google.colaboratory.intrinsic+json": {
              "type": "string"
            }
          },
          "metadata": {},
          "execution_count": 66
        }
      ]
    },
    {
      "cell_type": "code",
      "source": [
        "# TDD,clean architecture,agile"
      ],
      "metadata": {
        "id": "6bcCVZJbT91S"
      },
      "execution_count": 67,
      "outputs": []
    },
    {
      "cell_type": "code",
      "source": [
        "a=[1,2,3,4,5]\n",
        "b=a[:]\n",
        "c=a.copy()\n",
        "a[0]=10\n",
        "print(b)\n",
        "print(a)\n",
        "print(c)"
      ],
      "metadata": {
        "colab": {
          "base_uri": "https://localhost:8080/"
        },
        "id": "qian19jQVbHu",
        "outputId": "3fadc03e-f80f-4d10-cb6b-c4e42286d88c"
      },
      "execution_count": 68,
      "outputs": [
        {
          "output_type": "stream",
          "name": "stdout",
          "text": [
            "[1, 2, 3, 4, 5]\n",
            "[10, 2, 3, 4, 5]\n",
            "[1, 2, 3, 4, 5]\n"
          ]
        }
      ]
    },
    {
      "cell_type": "code",
      "source": [
        "r=range(2,10,3)\n",
        "r[::2]"
      ],
      "metadata": {
        "colab": {
          "base_uri": "https://localhost:8080/"
        },
        "id": "RvAXW-AkXl9i",
        "outputId": "97d9b8f7-e72c-45f8-ab55-b187e5fc17c4"
      },
      "execution_count": 69,
      "outputs": [
        {
          "output_type": "execute_result",
          "data": {
            "text/plain": [
              "range(2, 11, 6)"
            ]
          },
          "metadata": {},
          "execution_count": 69
        }
      ]
    },
    {
      "cell_type": "code",
      "source": [
        "r[:6]"
      ],
      "metadata": {
        "colab": {
          "base_uri": "https://localhost:8080/"
        },
        "id": "zUqSiolKZnse",
        "outputId": "2ee125b2-4d8e-456e-beb3-2e4a73d577b4"
      },
      "execution_count": 70,
      "outputs": [
        {
          "output_type": "execute_result",
          "data": {
            "text/plain": [
              "range(2, 11, 3)"
            ]
          },
          "metadata": {},
          "execution_count": 70
        }
      ]
    },
    {
      "cell_type": "code",
      "source": [
        "c[2:4]='c'  #2,3, 자리의 값을 c하나로 치환\n",
        "print(c)"
      ],
      "metadata": {
        "colab": {
          "base_uri": "https://localhost:8080/"
        },
        "id": "LGy0105iZqoN",
        "outputId": "b221d17e-be0b-4592-e2a9-48a590c1ae20"
      },
      "execution_count": 71,
      "outputs": [
        {
          "output_type": "stream",
          "name": "stdout",
          "text": [
            "[1, 2, 'c', 5]\n"
          ]
        }
      ]
    },
    {
      "cell_type": "code",
      "source": [
        "del b[2:]  #원본에서 제거\n",
        "b"
      ],
      "metadata": {
        "colab": {
          "base_uri": "https://localhost:8080/"
        },
        "id": "K4mZU5Mfa4o-",
        "outputId": "dd44af64-2120-47de-c9e9-5eec12ad0f09"
      },
      "execution_count": 72,
      "outputs": [
        {
          "output_type": "execute_result",
          "data": {
            "text/plain": [
              "[1, 2]"
            ]
          },
          "metadata": {},
          "execution_count": 72
        }
      ]
    },
    {
      "cell_type": "code",
      "source": [
        "{\n",
        "    (1,2):100\n",
        "}\n",
        "# 딕서녀리 안에 튜플은 키값으로 가능"
      ],
      "metadata": {
        "colab": {
          "base_uri": "https://localhost:8080/"
        },
        "id": "Dejg4_-Jb_m6",
        "outputId": "12dee6f2-fe75-4792-bc79-883e02d46d79"
      },
      "execution_count": 73,
      "outputs": [
        {
          "output_type": "execute_result",
          "data": {
            "text/plain": [
              "{(1, 2): 100}"
            ]
          },
          "metadata": {},
          "execution_count": 73
        }
      ]
    },
    {
      "cell_type": "code",
      "source": [
        "if (x:=input('abc??')) == 'abc':\n",
        "  print('abc')"
      ],
      "metadata": {
        "colab": {
          "base_uri": "https://localhost:8080/"
        },
        "id": "PDp9iqNlw6J8",
        "outputId": "885fa668-da37-4842-fc10-3fb43ac2c7e2"
      },
      "execution_count": 74,
      "outputs": [
        {
          "name": "stdout",
          "output_type": "stream",
          "text": [
            "abc??\n"
          ]
        }
      ]
    },
    {
      "cell_type": "code",
      "source": [
        "b=5\n",
        "10 if b==5 else 11"
      ],
      "metadata": {
        "colab": {
          "base_uri": "https://localhost:8080/"
        },
        "id": "LMZJgL9N-sZ8",
        "outputId": "fcb32665-7a01-4656-bc2e-31c58d2a2828"
      },
      "execution_count": 75,
      "outputs": [
        {
          "output_type": "execute_result",
          "data": {
            "text/plain": [
              "10"
            ]
          },
          "metadata": {},
          "execution_count": 75
        }
      ]
    },
    {
      "cell_type": "code",
      "source": [
        "if '':\n",
        "  print(123)\n",
        "else:\n",
        "  print(321)"
      ],
      "metadata": {
        "colab": {
          "base_uri": "https://localhost:8080/"
        },
        "id": "SuBhDkKQAW54",
        "outputId": "87e60ecd-0fcf-486c-8810-ed98e9c7029d"
      },
      "execution_count": 76,
      "outputs": [
        {
          "output_type": "stream",
          "name": "stdout",
          "text": [
            "321\n"
          ]
        }
      ]
    },
    {
      "cell_type": "code",
      "source": [
        "for i in range(0,10):\n",
        "  print(i)\n",
        "  i=100"
      ],
      "metadata": {
        "id": "PXSdjPSeCrRp",
        "colab": {
          "base_uri": "https://localhost:8080/"
        },
        "outputId": "26bce7cd-9d26-413b-ac3b-741208ecba77"
      },
      "execution_count": 77,
      "outputs": [
        {
          "output_type": "stream",
          "name": "stdout",
          "text": [
            "0\n",
            "1\n",
            "2\n",
            "3\n",
            "4\n",
            "5\n",
            "6\n",
            "7\n",
            "8\n",
            "9\n"
          ]
        }
      ]
    },
    {
      "cell_type": "code",
      "source": [
        "count =84 #@param{'type':'number'}\n",
        "count =50 #@param{'type':'slider'}"
      ],
      "metadata": {
        "id": "HWdi_TKpM-VG"
      },
      "execution_count": 78,
      "outputs": []
    },
    {
      "cell_type": "code",
      "source": [
        "#@title 가나다라"
      ],
      "metadata": {
        "id": "Dmy44UB0Ou3z"
      },
      "execution_count": 79,
      "outputs": []
    },
    {
      "cell_type": "code",
      "source": [
        "a=[1,2,3]\n",
        "b=['a','b','c']\n",
        "c=['A','B','C']\n",
        "d=zip(a,b,c)\n",
        "list(d)"
      ],
      "metadata": {
        "colab": {
          "base_uri": "https://localhost:8080/"
        },
        "id": "4cnRbuHqO5KU",
        "outputId": "56c96e81-77e6-4fcc-a6b7-0545d663ed01"
      },
      "execution_count": 80,
      "outputs": [
        {
          "output_type": "execute_result",
          "data": {
            "text/plain": [
              "[(1, 'a', 'A'), (2, 'b', 'B'), (3, 'c', 'C')]"
            ]
          },
          "metadata": {},
          "execution_count": 80
        }
      ]
    },
    {
      "cell_type": "code",
      "source": [
        "from string import ascii_lowercase\n",
        "alpha=list(ascii_lowercase)\n",
        "pair = enumerate(alpha,1)\n",
        "list(pair)"
      ],
      "metadata": {
        "colab": {
          "base_uri": "https://localhost:8080/"
        },
        "id": "wAeiuMyaRIZn",
        "outputId": "5c04907b-a250-4816-e1d7-7a733ad006d8"
      },
      "execution_count": 81,
      "outputs": [
        {
          "output_type": "execute_result",
          "data": {
            "text/plain": [
              "[(1, 'a'),\n",
              " (2, 'b'),\n",
              " (3, 'c'),\n",
              " (4, 'd'),\n",
              " (5, 'e'),\n",
              " (6, 'f'),\n",
              " (7, 'g'),\n",
              " (8, 'h'),\n",
              " (9, 'i'),\n",
              " (10, 'j'),\n",
              " (11, 'k'),\n",
              " (12, 'l'),\n",
              " (13, 'm'),\n",
              " (14, 'n'),\n",
              " (15, 'o'),\n",
              " (16, 'p'),\n",
              " (17, 'q'),\n",
              " (18, 'r'),\n",
              " (19, 's'),\n",
              " (20, 't'),\n",
              " (21, 'u'),\n",
              " (22, 'v'),\n",
              " (23, 'w'),\n",
              " (24, 'x'),\n",
              " (25, 'y'),\n",
              " (26, 'z')]"
            ]
          },
          "metadata": {},
          "execution_count": 81
        }
      ]
    },
    {
      "cell_type": "code",
      "source": [
        "from tqdm.notebook import tqdm\n",
        "from time import sleep"
      ],
      "metadata": {
        "id": "HIvoxq5URvG1"
      },
      "execution_count": 82,
      "outputs": []
    },
    {
      "cell_type": "code",
      "source": [
        "for i in enumerate(alpha,1):\n",
        "  sleep(0.3)\n",
        "  print(i)"
      ],
      "metadata": {
        "colab": {
          "base_uri": "https://localhost:8080/"
        },
        "id": "QbOkocO_SMaz",
        "outputId": "8b39ef03-2158-4919-c1cf-2fe3b88da65f"
      },
      "execution_count": 85,
      "outputs": [
        {
          "output_type": "stream",
          "name": "stdout",
          "text": [
            "(1, 'a')\n",
            "(2, 'b')\n",
            "(3, 'c')\n",
            "(4, 'd')\n",
            "(5, 'e')\n",
            "(6, 'f')\n",
            "(7, 'g')\n",
            "(8, 'h')\n",
            "(9, 'i')\n",
            "(10, 'j')\n",
            "(11, 'k')\n",
            "(12, 'l')\n",
            "(13, 'm')\n",
            "(14, 'n')\n",
            "(15, 'o')\n",
            "(16, 'p')\n",
            "(17, 'q')\n",
            "(18, 'r')\n",
            "(19, 's')\n",
            "(20, 't')\n",
            "(21, 'u')\n",
            "(22, 'v')\n",
            "(23, 'w')\n",
            "(24, 'x')\n",
            "(25, 'y')\n",
            "(26, 'z')\n"
          ]
        }
      ]
    },
    {
      "cell_type": "code",
      "source": [
        "import random\n",
        "random.random()"
      ],
      "metadata": {
        "colab": {
          "base_uri": "https://localhost:8080/"
        },
        "id": "0U---GooSagj",
        "outputId": "a4002fb3-0e48-45e4-e675-40363783121f"
      },
      "execution_count": 89,
      "outputs": [
        {
          "output_type": "execute_result",
          "data": {
            "text/plain": [
              "0.7713952353768815"
            ]
          },
          "metadata": {},
          "execution_count": 89
        }
      ]
    },
    {
      "cell_type": "code",
      "source": [
        "while i !=3:\n",
        "  i = random.randint(1,6)\n",
        "  print(i)"
      ],
      "metadata": {
        "colab": {
          "base_uri": "https://localhost:8080/"
        },
        "id": "gUNcFDCMZ_Xd",
        "outputId": "85f02d40-d951-45dc-be47-2066d2996120"
      },
      "execution_count": 90,
      "outputs": [
        {
          "output_type": "stream",
          "name": "stdout",
          "text": [
            "5\n",
            "5\n",
            "1\n",
            "4\n",
            "1\n",
            "5\n",
            "3\n"
          ]
        }
      ]
    },
    {
      "cell_type": "code",
      "source": [
        "# random.randint(1,2) 끝 값도 포함"
      ],
      "metadata": {
        "colab": {
          "base_uri": "https://localhost:8080/"
        },
        "id": "X75EwdLbaP-2",
        "outputId": "96d837ea-eea0-4c99-e13d-451429015e0c"
      },
      "execution_count": 93,
      "outputs": [
        {
          "output_type": "execute_result",
          "data": {
            "text/plain": [
              "2"
            ]
          },
          "metadata": {},
          "execution_count": 93
        }
      ]
    },
    {
      "cell_type": "code",
      "source": [
        "count = int(input('num??'))\n",
        "for i in range(count +1):\n",
        "  if i%2 ==0:\n",
        "    continue\n",
        "  print(i)"
      ],
      "metadata": {
        "colab": {
          "base_uri": "https://localhost:8080/"
        },
        "id": "sUHk5CozaXj4",
        "outputId": "34c385e9-b608-486d-eda6-99e8040ca894"
      },
      "execution_count": 112,
      "outputs": [
        {
          "output_type": "stream",
          "name": "stdout",
          "text": [
            "num??8\n",
            "1\n",
            "3\n",
            "5\n",
            "7\n"
          ]
        }
      ]
    },
    {
      "cell_type": "code",
      "source": [],
      "metadata": {
        "id": "a7SXudgifG_o"
      },
      "execution_count": null,
      "outputs": []
    }
  ]
}