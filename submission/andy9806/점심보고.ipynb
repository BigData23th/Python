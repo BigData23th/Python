{
  "nbformat": 4,
  "nbformat_minor": 0,
  "metadata": {
    "colab": {
      "provenance": [],
      "authorship_tag": "ABX9TyPXfpHwGBAtogAvOvwlk+/O"
    },
    "kernelspec": {
      "name": "python3",
      "display_name": "Python 3"
    },
    "language_info": {
      "name": "python"
    }
  },
  "cells": [
    {
      "cell_type": "markdown",
      "source": [
        "![점심](https://i.imgur.com/kG54oyJ.jpg)"
      ],
      "metadata": {
        "id": "A6Z8cV8kZWTE"
      }
    },
    {
      "cell_type": "markdown",
      "source": [
        "# STAR\n",
        "## S\n",
        "#### 새로운 사람들과 점심을 먹게 되었다\n",
        "## T\n",
        "#### 새로운 사람들과 새로운 인연을 만들어보자\n",
        "## A\n",
        "#### 서로의 정보를 공유하며 친해지기 시작\n",
        "## R\n",
        "#### 새로운 인연 획득"
      ],
      "metadata": {
        "id": "iGVEuzb5Zu1x"
      }
    },
    {
      "cell_type": "code",
      "source": [],
      "metadata": {
        "id": "p_aryfngaVwm"
      },
      "execution_count": null,
      "outputs": []
    }
  ]
}