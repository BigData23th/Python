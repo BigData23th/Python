{
  "cells": [
    {
      "cell_type": "markdown",
      "metadata": {
        "id": "A6Z8cV8kZWTE"
      },
      "source": [
        "![점심](https://i.imgur.com/kG54oyJ.jpg)"
      ]
    },
    {
      "attachments": {},
      "cell_type": "markdown",
      "metadata": {
        "id": "iGVEuzb5Zu1x"
      },
      "source": [
        "# STAR\n",
        "## S\n",
        "#### 새로운 사람들과 점심을 먹게 되었다\n",
        "## T\n",
        "#### 새로운 사람들과 새로운 친분을 쌓아보자\n",
        "## A\n",
        "#### 서로의 정보를 공유하며 친해지기 시작\n",
        "## R\n",
        "#### 친구 만들기 성공."
      ]
    }
  ],
  "metadata": {
    "colab": {
      "authorship_tag": "ABX9TyPXfpHwGBAtogAvOvwlk+/O",
      "provenance": []
    },
    "kernelspec": {
      "display_name": "Python 3",
      "name": "python3"
    },
    "language_info": {
      "name": "python"
    }
  },
  "nbformat": 4,
  "nbformat_minor": 0
}
