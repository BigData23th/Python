{
  "nbformat": 4,
  "nbformat_minor": 0,
  "metadata": {
    "colab": {
      "provenance": [],
      "authorship_tag": "ABX9TyOv6hcgUZlYgdrUQhyXyY+3",
      "include_colab_link": true
    },
    "kernelspec": {
      "name": "python3",
      "display_name": "Python 3"
    },
    "language_info": {
      "name": "python"
    }
  },
  "cells": [
    {
      "cell_type": "markdown",
      "metadata": {
        "id": "view-in-github",
        "colab_type": "text"
      },
      "source": [
        "<a href=\"https://colab.research.google.com/github/andy9806/Python_23/blob/main/submission/andy9806/0228.ipynb\" target=\"_parent\"><img src=\"https://colab.research.google.com/assets/colab-badge.svg\" alt=\"Open In Colab\"/></a>"
      ]
    },
    {
      "cell_type": "code",
      "execution_count": null,
      "metadata": {
        "id": "XpFZEp9mVCZM"
      },
      "outputs": [],
      "source": [
        "# ㅁㄴ라ㅓㅁㄴㄷ;ㅐㅑㄹ더래ㅑㅁ눙;ㄹ;ㅁ낼ㄷ\n",
        "# ㅁㄴ라ㅓㅁㄴㄷ;ㅐㅑㄹ더래ㅑㅁ눙;ㄹ;ㅁ낼ㄷ\n",
        "# ㅁㄴ라ㅓㅁㄴㄷ;ㅐㅑㄹ더래ㅑㅁ눙;ㄹ;ㅁ낼ㄷ1223\n",
        "# 위아래 줄바꿈 ALT +위아래\n",
        "# 부분지정 SHIFT + 위아래"
      ]
    },
    {
      "cell_type": "code",
      "source": [
        "round(2.12387,3)"
      ],
      "metadata": {
        "colab": {
          "base_uri": "https://localhost:8080/"
        },
        "id": "0EhPt9G4xksQ",
        "outputId": "d3186bfb-4339-49ee-c7b6-5897f151bee7"
      },
      "execution_count": 1,
      "outputs": [
        {
          "output_type": "execute_result",
          "data": {
            "text/plain": [
              "2.124"
            ]
          },
          "metadata": {},
          "execution_count": 1
        }
      ]
    },
    {
      "cell_type": "code",
      "source": [
        "round(2.7-1.5,2)\n",
        "# 2.7-1.5"
      ],
      "metadata": {
        "colab": {
          "base_uri": "https://localhost:8080/"
        },
        "id": "URXGiAuZxn_l",
        "outputId": "e45c70db-b007-4a6c-cfed-4f399ea246c8"
      },
      "execution_count": 5,
      "outputs": [
        {
          "output_type": "execute_result",
          "data": {
            "text/plain": [
              "1.2"
            ]
          },
          "metadata": {},
          "execution_count": 5
        }
      ]
    },
    {
      "cell_type": "code",
      "source": [
        "a,b = map(int,input('숫자 두 개를 입력하세요:').split())\n",
        "a+b"
      ],
      "metadata": {
        "colab": {
          "base_uri": "https://localhost:8080/"
        },
        "id": "wIS9XGxwx0YY",
        "outputId": "335527a7-22b8-4c34-9bf7-f952627f1939"
      },
      "execution_count": 7,
      "outputs": [
        {
          "name": "stdout",
          "output_type": "stream",
          "text": [
            "숫자 두 개를 입력하세요:1 2\n"
          ]
        },
        {
          "output_type": "execute_result",
          "data": {
            "text/plain": [
              "3"
            ]
          },
          "metadata": {},
          "execution_count": 7
        }
      ]
    },
    {
      "cell_type": "code",
      "source": [
        "a = \"\"\"가나다라마바사\n",
        "아자차카타파하\"\"\"\n",
        "print(a)"
      ],
      "metadata": {
        "colab": {
          "base_uri": "https://localhost:8080/"
        },
        "id": "oNXLyIH67_Lx",
        "outputId": "752a64f7-a042-44ea-ff1d-0bf548cdf96c"
      },
      "execution_count": 9,
      "outputs": [
        {
          "output_type": "stream",
          "name": "stdout",
          "text": [
            "가나다라마바사\n",
            "아자차카타파하\n"
          ]
        }
      ]
    },
    {
      "cell_type": "code",
      "source": [
        "b=[i for i in range(10)]\n",
        "b"
      ],
      "metadata": {
        "colab": {
          "base_uri": "https://localhost:8080/"
        },
        "id": "jSulktJA6Jyt",
        "outputId": "63920243-3e9d-4a06-e54f-84fdbd5c2d68"
      },
      "execution_count": 10,
      "outputs": [
        {
          "output_type": "execute_result",
          "data": {
            "text/plain": [
              "[0, 1, 2, 3, 4, 5, 6, 7, 8, 9]"
            ]
          },
          "metadata": {},
          "execution_count": 10
        }
      ]
    },
    {
      "cell_type": "code",
      "source": [
        "c=[1,2,3,tuple(range(10))]\n",
        "c"
      ],
      "metadata": {
        "colab": {
          "base_uri": "https://localhost:8080/"
        },
        "id": "8kJGaXcs6Sez",
        "outputId": "3ef6116c-1a37-46f2-d8a3-f9eea7862e66"
      },
      "execution_count": 12,
      "outputs": [
        {
          "output_type": "execute_result",
          "data": {
            "text/plain": [
              "[1, 2, 3, (0, 1, 2, 3, 4, 5, 6, 7, 8, 9)]"
            ]
          },
          "metadata": {},
          "execution_count": 12
        }
      ]
    }
  ]
}