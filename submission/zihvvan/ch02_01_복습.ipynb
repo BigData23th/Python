{
  "nbformat": 4,
  "nbformat_minor": 0,
  "metadata": {
    "colab": {
      "provenance": [],
      "include_colab_link": true
    },
    "kernelspec": {
      "name": "python3",
      "display_name": "Python 3"
    },
    "language_info": {
      "name": "python"
    }
  },
  "cells": [
    {
      "cell_type": "markdown",
      "metadata": {
        "id": "view-in-github",
        "colab_type": "text"
      },
      "source": [
        "<a href=\"https://colab.research.google.com/github/zihvvan/Python/blob/main/submission/zihvvan/ch02_01_%EB%B3%B5%EC%8A%B5.ipynb\" target=\"_parent\"><img src=\"https://colab.research.google.com/assets/colab-badge.svg\" alt=\"Open In Colab\"/></a>"
      ]
    },
    {
      "cell_type": "code",
      "execution_count": 1,
      "metadata": {
        "id": "sPoXWs9atiKJ",
        "colab": {
          "base_uri": "https://localhost:8080/"
        },
        "outputId": "645a5358-6f0f-4dce-9c5c-15854345cd6b"
      },
      "outputs": [
        {
          "output_type": "execute_result",
          "data": {
            "text/plain": [
              "(True, False)"
            ]
          },
          "metadata": {},
          "execution_count": 1
        }
      ],
      "source": [
        "# 불\n",
        "True, False # 참, 거짓. true, false"
      ]
    },
    {
      "cell_type": "code",
      "source": [
        "int(True), int(False)"
      ],
      "metadata": {
        "colab": {
          "base_uri": "https://localhost:8080/"
        },
        "id": "IMZUsZr1vNs-",
        "outputId": "596649ad-e85c-4716-f7bd-7fce08985989"
      },
      "execution_count": 2,
      "outputs": [
        {
          "output_type": "execute_result",
          "data": {
            "text/plain": [
              "(1, 0)"
            ]
          },
          "metadata": {},
          "execution_count": 2
        }
      ]
    },
    {
      "cell_type": "code",
      "source": [
        "3 > 1"
      ],
      "metadata": {
        "colab": {
          "base_uri": "https://localhost:8080/"
        },
        "id": "ZJ2ysx6JvQrF",
        "outputId": "78cd3261-388a-4d2c-cbb0-2df65e0910a5"
      },
      "execution_count": 3,
      "outputs": [
        {
          "output_type": "execute_result",
          "data": {
            "text/plain": [
              "True"
            ]
          },
          "metadata": {},
          "execution_count": 3
        }
      ]
    },
    {
      "cell_type": "code",
      "source": [
        "a = 10\n",
        "b = 20\n",
        "a > b"
      ],
      "metadata": {
        "colab": {
          "base_uri": "https://localhost:8080/"
        },
        "id": "LvSz3_VRvSlT",
        "outputId": "a3740cd9-6724-4b0d-b92f-a65c638770c2"
      },
      "execution_count": 4,
      "outputs": [
        {
          "output_type": "execute_result",
          "data": {
            "text/plain": [
              "False"
            ]
          },
          "metadata": {},
          "execution_count": 4
        }
      ]
    },
    {
      "cell_type": "code",
      "source": [
        "# == (동등연산자, 일치) / = (할당연산자, 대입연산자)\n",
        "# >, <, >=, <=\n",
        "'Python' == 'python', 'Python' != 'python' "
      ],
      "metadata": {
        "colab": {
          "base_uri": "https://localhost:8080/"
        },
        "id": "ca9pJpPOvXsR",
        "outputId": "6a0b2478-3d96-4b06-f486-a52e7f2cf96f"
      },
      "execution_count": 5,
      "outputs": [
        {
          "output_type": "execute_result",
          "data": {
            "text/plain": [
              "(False, True)"
            ]
          },
          "metadata": {},
          "execution_count": 5
        }
      ]
    },
    {
      "cell_type": "code",
      "source": [
        "# 논리연산자 (1개 이상의 불을 처리하는 연산자)\n",
        "# and\n",
        "a = 15; b = 13 # 두 줄을 합쳐주는 방법\n",
        "c, d = 10, 20 # 언팩킹 사용하는 방법\n",
        "(a > 20) and (b > 10), (a > 20) & (b > 10)"
      ],
      "metadata": {
        "colab": {
          "base_uri": "https://localhost:8080/"
        },
        "id": "BhKye2BywHWg",
        "outputId": "9540bf99-056a-494f-8feb-805de9b855d9"
      },
      "execution_count": 9,
      "outputs": [
        {
          "output_type": "execute_result",
          "data": {
            "text/plain": [
              "(False, False)"
            ]
          },
          "metadata": {},
          "execution_count": 9
        }
      ]
    },
    {
      "cell_type": "code",
      "source": [
        "# or (또는)\n",
        "c != 10 or d < 100, c != 10 | d < 100  # 비교 연산자의 우선순위가 논리 연산자보다 높아요\n",
        "# 왠만하면 괄호로 우선순위를 명확하게 하자"
      ],
      "metadata": {
        "colab": {
          "base_uri": "https://localhost:8080/"
        },
        "id": "Krxw12oQwz1Y",
        "outputId": "e9c26e3c-47fa-48a0-d759-54564f87cb70"
      },
      "execution_count": 11,
      "outputs": [
        {
          "output_type": "execute_result",
          "data": {
            "text/plain": [
              "(True, True)"
            ]
          },
          "metadata": {},
          "execution_count": 11
        }
      ]
    },
    {
      "cell_type": "code",
      "source": [
        "not True, not False"
      ],
      "metadata": {
        "colab": {
          "base_uri": "https://localhost:8080/"
        },
        "id": "5da3ETbFxzwd",
        "outputId": "18508b37-36f6-4a2c-c7b4-e645614a9148"
      },
      "execution_count": 12,
      "outputs": [
        {
          "output_type": "execute_result",
          "data": {
            "text/plain": [
              "(False, True)"
            ]
          },
          "metadata": {},
          "execution_count": 12
        }
      ]
    },
    {
      "cell_type": "code",
      "source": [
        "bool(1), bool(0), bool(\"a\"), bool(\"\")"
      ],
      "metadata": {
        "colab": {
          "base_uri": "https://localhost:8080/"
        },
        "id": "MnDjsByvyEYA",
        "outputId": "b6072dc4-6405-440b-832f-c4a74bcff656"
      },
      "execution_count": 13,
      "outputs": [
        {
          "output_type": "execute_result",
          "data": {
            "text/plain": [
              "(True, False, True, False)"
            ]
          },
          "metadata": {},
          "execution_count": 13
        }
      ]
    },
    {
      "cell_type": "code",
      "source": [
        "hell = \"hell\"\n",
        "hell"
      ],
      "metadata": {
        "colab": {
          "base_uri": "https://localhost:8080/",
          "height": 35
        },
        "id": "gyo4k8jtyJyd",
        "outputId": "2275bf17-8e32-44d8-8e6c-20ad1e203b3f"
      },
      "execution_count": 14,
      "outputs": [
        {
          "output_type": "execute_result",
          "data": {
            "text/plain": [
              "'hell'"
            ],
            "application/vnd.google.colaboratory.intrinsic+json": {
              "type": "string"
            }
          },
          "metadata": {},
          "execution_count": 14
        }
      ]
    },
    {
      "cell_type": "code",
      "source": [
        "hell2 = 'hell'\n",
        "hell3 = '''hell'''\n",
        "hell4 = \"\"\"hell\"\"\"\n",
        "hell2, hell3, hell4"
      ],
      "metadata": {
        "colab": {
          "base_uri": "https://localhost:8080/"
        },
        "id": "BwieeqwJyUgF",
        "outputId": "c440e132-0d31-4dfe-f936-ed0912817419"
      },
      "execution_count": 15,
      "outputs": [
        {
          "output_type": "execute_result",
          "data": {
            "text/plain": [
              "('hell', 'hell', 'hell')"
            ]
          },
          "metadata": {},
          "execution_count": 15
        }
      ]
    },
    {
      "cell_type": "code",
      "source": [
        "# 여러줄 문자열\n",
        "s1 = \"\"\"hell\n",
        "oven\n",
        "us\"\"\"\n",
        "print(s1)"
      ],
      "metadata": {
        "colab": {
          "base_uri": "https://localhost:8080/"
        },
        "id": "w26HcfeFyh3C",
        "outputId": "d29be8e7-25da-434b-812c-3951fe711a29"
      },
      "execution_count": 16,
      "outputs": [
        {
          "output_type": "stream",
          "name": "stdout",
          "text": [
            "hell\n",
            "oven\n",
            "us\n"
          ]
        }
      ]
    },
    {
      "cell_type": "code",
      "source": [
        "s2 = \"\"\"cat\n",
        "holic\"\"\"\n",
        "print(s2)"
      ],
      "metadata": {
        "colab": {
          "base_uri": "https://localhost:8080/"
        },
        "id": "0h96E3WLytZF",
        "outputId": "4d1edbd6-c9bb-4e85-eb2a-e310023c30cb"
      },
      "execution_count": 17,
      "outputs": [
        {
          "output_type": "stream",
          "name": "stdout",
          "text": [
            "cat\n",
            "holic\n"
          ]
        }
      ]
    },
    {
      "cell_type": "code",
      "source": [
        "# ', \"를 문자열 안에 표기하기\n",
        "print(\"\\\"를 사용해서 큰따옴표 안에 큰따옴표를 표현\\nㅎㅎ\")\n",
        "print(\"\\\"를 사용해서 작은따옴표 안에 작은따옴표를 표현\")\n",
        "print('''',\"를 여러줄 문자열 안에 따옴표를 표현''')\n",
        "print(\"\"\"',\"를 여러줄 문자열 안에 따옴표를 표현\"\"\")"
      ],
      "metadata": {
        "colab": {
          "base_uri": "https://localhost:8080/"
        },
        "id": "IVRFbGa9y4SM",
        "outputId": "9be55bc2-ed2b-45f1-b443-808e3f7305d5"
      },
      "execution_count": 19,
      "outputs": [
        {
          "output_type": "stream",
          "name": "stdout",
          "text": [
            "\"를 사용해서 큰따옴표 안에 큰따옴표를 표현\n",
            "ㅎㅎ\n",
            "\"를 사용해서 작은따옴표 안에 작은따옴표를 표현\n",
            "',\"를 여러줄 문자열 안에 따옴표를 표현\n",
            "',\"를 여러줄 문자열 안에 따옴표를 표현\n"
          ]
        }
      ]
    },
    {
      "cell_type": "code",
      "source": [
        "a = [] # 리스트 -> 0개 이상의 요소를 묶은 자료형\n",
        "b = [10, \"단어\", 1.0, True, 10>5]\n",
        "a, b"
      ],
      "metadata": {
        "colab": {
          "base_uri": "https://localhost:8080/"
        },
        "id": "oLb3zE2s3gVg",
        "outputId": "1128a5b7-5443-4785-9bd0-8f811dc15a6c"
      },
      "execution_count": 20,
      "outputs": [
        {
          "output_type": "execute_result",
          "data": {
            "text/plain": [
              "([], [10, '단어', 1.0, True, True])"
            ]
          },
          "metadata": {},
          "execution_count": 20
        }
      ]
    },
    {
      "cell_type": "code",
      "source": [
        "c = list() # 리스트랑 비슷한 시퀀스 자료형 -> 리스트로 변환\n",
        "c"
      ],
      "metadata": {
        "colab": {
          "base_uri": "https://localhost:8080/"
        },
        "id": "lEXXzZAH3212",
        "outputId": "23e01a20-73dc-4013-f35d-d64d2f614a53"
      },
      "execution_count": 21,
      "outputs": [
        {
          "output_type": "execute_result",
          "data": {
            "text/plain": [
              "[]"
            ]
          },
          "metadata": {},
          "execution_count": 21
        }
      ]
    },
    {
      "cell_type": "code",
      "source": [
        "# 시작점을 지정해주지 않으면 0부터 시작함\n",
        "# 0, 5 (끝점) / 1, 5 (시작점, 끝점) / 1, 3, 5, 7, 9 (시잣점, 끝점, 증가폭)\n",
        "range(5), range(1, 5), range(1, 10, 2)"
      ],
      "metadata": {
        "colab": {
          "base_uri": "https://localhost:8080/"
        },
        "id": "l1fTSeE73-_z",
        "outputId": "2548ed54-c1ee-4445-b983-ad0d48a5c187"
      },
      "execution_count": 22,
      "outputs": [
        {
          "output_type": "execute_result",
          "data": {
            "text/plain": [
              "(range(0, 5), range(1, 5), range(1, 10, 2))"
            ]
          },
          "metadata": {},
          "execution_count": 22
        }
      ]
    },
    {
      "cell_type": "code",
      "source": [
        "list(range(5)), list(range(1, 5)), list(range(1, 10, 2))"
      ],
      "metadata": {
        "colab": {
          "base_uri": "https://localhost:8080/"
        },
        "id": "NeLDGMmi4zIJ",
        "outputId": "dfc76b10-26ab-4a49-c359-f5d57d9e51ae"
      },
      "execution_count": 23,
      "outputs": [
        {
          "output_type": "execute_result",
          "data": {
            "text/plain": [
              "([0, 1, 2, 3, 4], [1, 2, 3, 4], [1, 3, 5, 7, 9])"
            ]
          },
          "metadata": {},
          "execution_count": 23
        }
      ]
    },
    {
      "cell_type": "code",
      "source": [
        "list(map(list, (range(5), range(1, 5), range(1, 10, 2))))"
      ],
      "metadata": {
        "colab": {
          "base_uri": "https://localhost:8080/"
        },
        "id": "PONm9Bvj47cD",
        "outputId": "a93568db-2f9d-4a18-fc6f-79fb47684037"
      },
      "execution_count": 26,
      "outputs": [
        {
          "output_type": "execute_result",
          "data": {
            "text/plain": [
              "[[0, 1, 2, 3, 4], [1, 2, 3, 4], [1, 3, 5, 7, 9]]"
            ]
          },
          "metadata": {},
          "execution_count": 26
        }
      ]
    },
    {
      "cell_type": "code",
      "source": [
        "list(range(10, 1, -2))"
      ],
      "metadata": {
        "colab": {
          "base_uri": "https://localhost:8080/"
        },
        "id": "40x7L8pI5YJ1",
        "outputId": "c4b15c6c-833d-4cb9-a050-8187051fe458"
      },
      "execution_count": 27,
      "outputs": [
        {
          "output_type": "execute_result",
          "data": {
            "text/plain": [
              "[10, 8, 6, 4, 2]"
            ]
          },
          "metadata": {},
          "execution_count": 27
        }
      ]
    },
    {
      "cell_type": "code",
      "source": [
        "t = (10, 11, 12, 13, 14)\n",
        "t "
      ],
      "metadata": {
        "colab": {
          "base_uri": "https://localhost:8080/"
        },
        "id": "tZZO0KGG5bc9",
        "outputId": "b2b3e8cf-3446-4d51-d754-d21c16f15aed"
      },
      "execution_count": 28,
      "outputs": [
        {
          "output_type": "execute_result",
          "data": {
            "text/plain": [
              "(10, 11, 12, 13, 14)"
            ]
          },
          "metadata": {},
          "execution_count": 28
        }
      ]
    },
    {
      "cell_type": "code",
      "source": [
        "list(t)"
      ],
      "metadata": {
        "colab": {
          "base_uri": "https://localhost:8080/"
        },
        "id": "W1g89zgB7ZWe",
        "outputId": "e59e1edf-20d1-4f08-86d3-11464164dad4"
      },
      "execution_count": 29,
      "outputs": [
        {
          "output_type": "execute_result",
          "data": {
            "text/plain": [
              "[10, 11, 12, 13, 14]"
            ]
          },
          "metadata": {},
          "execution_count": 29
        }
      ]
    },
    {
      "cell_type": "code",
      "source": [
        "t2 = 10, 12, 14, 16, 18\n",
        "t2"
      ],
      "metadata": {
        "colab": {
          "base_uri": "https://localhost:8080/"
        },
        "id": "4QsynaiQ7bEF",
        "outputId": "f483968f-1f48-4239-cff8-2706f3e62af3"
      },
      "execution_count": 30,
      "outputs": [
        {
          "output_type": "execute_result",
          "data": {
            "text/plain": [
              "(10, 12, 14, 16, 18)"
            ]
          },
          "metadata": {},
          "execution_count": 30
        }
      ]
    },
    {
      "cell_type": "code",
      "source": [
        "t3 = (10, True, \"hello\", 1.2)\n",
        "t3"
      ],
      "metadata": {
        "colab": {
          "base_uri": "https://localhost:8080/"
        },
        "id": "qDwOVpUW7hlf",
        "outputId": "61c89e89-e969-4a77-f624-17e25f4a4697"
      },
      "execution_count": 31,
      "outputs": [
        {
          "output_type": "execute_result",
          "data": {
            "text/plain": [
              "(10, True, 'hello', 1.2)"
            ]
          },
          "metadata": {},
          "execution_count": 31
        }
      ]
    },
    {
      "cell_type": "code",
      "source": [
        "a = [1, 2, 3, 4]\n",
        "tuple(a)"
      ],
      "metadata": {
        "colab": {
          "base_uri": "https://localhost:8080/"
        },
        "id": "KT5Q6w-V7mss",
        "outputId": "6f850965-fe93-47fe-fa26-45d9a191da5a"
      },
      "execution_count": 32,
      "outputs": [
        {
          "output_type": "execute_result",
          "data": {
            "text/plain": [
              "(1, 2, 3, 4)"
            ]
          },
          "metadata": {},
          "execution_count": 32
        }
      ]
    },
    {
      "cell_type": "code",
      "source": [
        "a, b, c = [1, 2, 3]\n",
        "a, b, c"
      ],
      "metadata": {
        "colab": {
          "base_uri": "https://localhost:8080/"
        },
        "id": "jni7mIGZ7-J8",
        "outputId": "4868c7e4-6b06-4736-d199-89458833ddb2"
      },
      "execution_count": 33,
      "outputs": [
        {
          "output_type": "execute_result",
          "data": {
            "text/plain": [
              "(1, 2, 3)"
            ]
          },
          "metadata": {},
          "execution_count": 33
        }
      ]
    },
    {
      "cell_type": "code",
      "source": [
        "d, e, f = (4, 5, 6)\n",
        "d, e, f"
      ],
      "metadata": {
        "colab": {
          "base_uri": "https://localhost:8080/"
        },
        "id": "7tAKoBGh8Hvn",
        "outputId": "488fdd0c-9b77-482b-9be3-cbde23bf5cf7"
      },
      "execution_count": 34,
      "outputs": [
        {
          "output_type": "execute_result",
          "data": {
            "text/plain": [
              "(4, 5, 6)"
            ]
          },
          "metadata": {},
          "execution_count": 34
        }
      ]
    },
    {
      "cell_type": "code",
      "source": [
        "g = [7, 8, 9]\n",
        "h = (10, 11, 12)\n",
        "g, h"
      ],
      "metadata": {
        "colab": {
          "base_uri": "https://localhost:8080/"
        },
        "id": "k9Yrh2Vs8Mft",
        "outputId": "5939a7a5-c76d-4b82-8a0e-3feadf32ef62"
      },
      "execution_count": 35,
      "outputs": [
        {
          "output_type": "execute_result",
          "data": {
            "text/plain": [
              "([7, 8, 9], (10, 11, 12))"
            ]
          },
          "metadata": {},
          "execution_count": 35
        }
      ]
    }
  ]
}