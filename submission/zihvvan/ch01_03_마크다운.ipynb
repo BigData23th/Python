{
  "nbformat": 4,
  "nbformat_minor": 0,
  "metadata": {
    "colab": {
      "provenance": [],
      "authorship_tag": "ABX9TyPqOqd9395NW3L0EBygTAzT",
      "include_colab_link": true
    },
    "kernelspec": {
      "name": "python3",
      "display_name": "Python 3"
    },
    "language_info": {
      "name": "python"
    }
  },
  "cells": [
    {
      "cell_type": "markdown",
      "metadata": {
        "id": "view-in-github",
        "colab_type": "text"
      },
      "source": [
        "<a href=\"https://colab.research.google.com/github/zihvvan/Python/blob/main/submission/zihvvan/ch01_03_%EB%A7%88%ED%81%AC%EB%8B%A4%EC%9A%B4.ipynb\" target=\"_parent\"><img src=\"https://colab.research.google.com/assets/colab-badge.svg\" alt=\"Open In Colab\"/></a>"
      ]
    },
    {
      "cell_type": "markdown",
      "source": [
        "# 제목 (Headline)\n",
        "## 2단계 제목\n",
        "### 3단계 제목\n",
        "#### 4단계 제목\n",
        "##### 5단계 제목"
      ],
      "metadata": {
        "id": "Yr9kTffQ6A1h"
      }
    },
    {
      "cell_type": "markdown",
      "source": [],
      "metadata": {
        "id": "tM8DYDJT5_CZ"
      }
    },
    {
      "cell_type": "markdown",
      "source": [
        "#수평선\n",
        "텍스트에 ---를 바로 붙이면 '#'과 같은 효과\n",
        "\n",
        "(수평선)\n",
        "\n",
        "---\n",
        "<br>줄바꿈\n",
        "<br>줄바꿈\n"
      ],
      "metadata": {
        "id": "UinoQLJH6ZXy"
      }
    },
    {
      "cell_type": "markdown",
      "source": [],
      "metadata": {
        "id": "pwhCUK316v45"
      }
    },
    {
      "cell_type": "markdown",
      "source": [
        "**굵게**\n",
        "*기울게*\n",
        "__굵게__\n",
        "_기울게_\n",
        "~~취소선~~\n",
        "<u>밑줄</u>\n",
        "<mark>형광펜</mark>"
      ],
      "metadata": {
        "id": "akNRpT1c63sP"
      }
    },
    {
      "cell_type": "markdown",
      "source": [
        "> 인용문\n",
        ">> 인용문\n",
        ">>> 인용문\n",
        ">>>> 인용문"
      ],
      "metadata": {
        "id": "4tDd-hUa7JvA"
      }
    },
    {
      "cell_type": "markdown",
      "source": [
        "순서가 없는 리스트\n",
        "*사과\n",
        "*배\n",
        "*자두\n",
        "\n",
        "순서가 있는 리스트\n",
        "1. 파이썬\n",
        "2. 자바\n",
        "3. SQL\n",
        "\n",
        "순서가 있는 리스트2\n",
        "1. 파이썬\n",
        "1. 자바\n",
        "1. SQL\n",
        "\n",
        "들여쓰기\n",
        "* 사과\n",
        "  * 껍질\n",
        "    * 볶음\n",
        "*위\n",
        "      아래 (Tab X 2 = 코드블록)\n",
        "      **굵게**\n",
        "\n",
        "코드블록 -> 이 안에 꾸며주는 마크다운 문법 무시"
      ],
      "metadata": {
        "id": "FijJO_MH7YL3"
      }
    },
    {
      "cell_type": "markdown",
      "source": [
        "코드 블록\n",
        "\n",
        "한 줄 코드\n",
        "`print('Hello World')` - 음영처리\n",
        "\n",
        "여러 줄 코드블록\n",
        "\n",
        "```\n",
        "print(\"hello\")\n",
        "print(\"world\")\n",
        "```"
      ],
      "metadata": {
        "id": "QdWpwjDG8UzQ"
      }
    },
    {
      "cell_type": "markdown",
      "source": [
        "|책의 제목|작가|출판일|\n",
        "|-:|:-:|:-|\n",
        "|**장발장**|김지환3세|2022.09.01|\n",
        "|파이썬|~김철수27세~|*1971.09.01*|"
      ],
      "metadata": {
        "id": "WVbESdQZ8vID"
      }
    },
    {
      "cell_type": "markdown",
      "source": [
        "[링크](https://naver.com)\n",
        "![이미지에 대한](https://cdn.pixabay.com/photo/2015/02/02/11/08/office-620817__340.jpg)"
      ],
      "metadata": {
        "id": "fBTgOPag9Y7P"
      }
    },
    {
      "cell_type": "markdown",
      "source": [
        "- [ ] 체크박스\n",
        "- [x] 체크된 체크박스"
      ],
      "metadata": {
        "id": "w77wvJWi-FVf"
      }
    }
  ]
}