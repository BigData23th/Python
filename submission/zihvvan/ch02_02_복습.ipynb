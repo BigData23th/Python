{
  "nbformat": 4,
  "nbformat_minor": 0,
  "metadata": {
    "colab": {
      "provenance": [],
      "authorship_tag": "ABX9TyPYJ2h32n1DXpPPwIq0vwci",
      "include_colab_link": true
    },
    "kernelspec": {
      "name": "python3",
      "display_name": "Python 3"
    },
    "language_info": {
      "name": "python"
    }
  },
  "cells": [
    {
      "cell_type": "markdown",
      "metadata": {
        "id": "view-in-github",
        "colab_type": "text"
      },
      "source": [
        "<a href=\"https://colab.research.google.com/github/zihvvan/Python/blob/main/submission/zihvvan/ch02_02_%EB%B3%B5%EC%8A%B5.ipynb\" target=\"_parent\"><img src=\"https://colab.research.google.com/assets/colab-badge.svg\" alt=\"Open In Colab\"/></a>"
      ]
    },
    {
      "cell_type": "markdown",
      "source": [
        "# 시퀀스"
      ],
      "metadata": {
        "id": "qW9FT6Wm2Gdz"
      }
    },
    {
      "cell_type": "code",
      "execution_count": 1,
      "metadata": {
        "colab": {
          "base_uri": "https://localhost:8080/"
        },
        "id": "vF9crA2Yw4wb",
        "outputId": "be2ece40-1d1e-4f69-c33b-ee0ed873e9e3"
      },
      "outputs": [
        {
          "output_type": "execute_result",
          "data": {
            "text/plain": [
              "('', '', '', '')"
            ]
          },
          "metadata": {},
          "execution_count": 1
        }
      ],
      "source": [
        "# 시퀀스 : 0개 이상의 원소가 나열되어서 묶여 있는 자료형\n",
        "# list, tuple, range, string(str) : 문자열\n",
        "[] # 대괄호\n",
        "() # 소괄호\n",
        "\"\", '', '''''', \"\"\"\"\"\" # 문자열"
      ]
    },
    {
      "cell_type": "markdown",
      "source": [
        "## in, not in"
      ],
      "metadata": {
        "id": "HvNO4pQh2BIK"
      }
    },
    {
      "cell_type": "code",
      "source": [
        "# 값 in 시퀀스 객체 <-> for 변수명 in 시퀀스 객체:\n",
        "\"파이썬\" in [\"파이썬\", \"자바\", \"자바스크립트\"]"
      ],
      "metadata": {
        "colab": {
          "base_uri": "https://localhost:8080/"
        },
        "id": "npwWi2ff0QN1",
        "outputId": "332fe7b7-a38a-47d5-9a7c-9aef71f91df0"
      },
      "execution_count": 2,
      "outputs": [
        {
          "output_type": "execute_result",
          "data": {
            "text/plain": [
              "True"
            ]
          },
          "metadata": {},
          "execution_count": 2
        }
      ]
    },
    {
      "cell_type": "code",
      "source": [
        "a = \"파이썬\"\n",
        "b = [\"파이썬\", \"자바\", \"자바스크립트\"]\n",
        "a in b # bool -> 참과 거짓. (있나요? 없나요?)"
      ],
      "metadata": {
        "colab": {
          "base_uri": "https://localhost:8080/"
        },
        "id": "GIGKmLs00kpU",
        "outputId": "122ea5b7-2baf-4a59-e26f-6ce013282808"
      },
      "execution_count": 3,
      "outputs": [
        {
          "output_type": "execute_result",
          "data": {
            "text/plain": [
              "True"
            ]
          },
          "metadata": {},
          "execution_count": 3
        }
      ]
    },
    {
      "cell_type": "code",
      "source": [
        "c = \"C언어\"\n",
        "c in b, c not in b"
      ],
      "metadata": {
        "colab": {
          "base_uri": "https://localhost:8080/"
        },
        "id": "_Y-hpPA00_xY",
        "outputId": "6243449d-7388-4403-86a9-ba7aaed073d9"
      },
      "execution_count": 4,
      "outputs": [
        {
          "output_type": "execute_result",
          "data": {
            "text/plain": [
              "(False, True)"
            ]
          },
          "metadata": {},
          "execution_count": 4
        }
      ]
    },
    {
      "cell_type": "code",
      "source": [
        "name = \"김지환\"\n",
        "\"김\" in name, \"지환\" in name"
      ],
      "metadata": {
        "colab": {
          "base_uri": "https://localhost:8080/"
        },
        "id": "fadrLzwG1k-Z",
        "outputId": "a8f4b68e-a308-43ae-c6fb-f8cc4c12f8f8"
      },
      "execution_count": 6,
      "outputs": [
        {
          "output_type": "execute_result",
          "data": {
            "text/plain": [
              "(True, True)"
            ]
          },
          "metadata": {},
          "execution_count": 6
        }
      ]
    },
    {
      "cell_type": "code",
      "source": [
        "sentence = \"아버지가 방에 들어가신다\"\n",
        "\"아버지\" in sentence, \"어머니\" not in sentence"
      ],
      "metadata": {
        "colab": {
          "base_uri": "https://localhost:8080/"
        },
        "id": "XfwJVB7y1yOt",
        "outputId": "1db3c566-dfb8-4dc3-fcaf-f077b0121ca5"
      },
      "execution_count": 7,
      "outputs": [
        {
          "output_type": "execute_result",
          "data": {
            "text/plain": [
              "(True, True)"
            ]
          },
          "metadata": {},
          "execution_count": 7
        }
      ]
    },
    {
      "cell_type": "markdown",
      "source": [
        "# 연결 (+)"
      ],
      "metadata": {
        "id": "8bfAwaBW2J6i"
      }
    },
    {
      "cell_type": "code",
      "source": [
        "a = [\"사과\", \"배\", \"고라니\"]\n",
        "b = [1, 2, 3, 4, 5, 6]\n",
        "a + b # 연결 (concatenate)"
      ],
      "metadata": {
        "colab": {
          "base_uri": "https://localhost:8080/"
        },
        "id": "rUq0pxIp14un",
        "outputId": "15c856ce-1de1-40a7-90f2-a33f9530392d"
      },
      "execution_count": 8,
      "outputs": [
        {
          "output_type": "execute_result",
          "data": {
            "text/plain": [
              "['사과', '배', '고라니', 1, 2, 3, 4, 5, 6]"
            ]
          },
          "metadata": {},
          "execution_count": 8
        }
      ]
    },
    {
      "cell_type": "code",
      "source": [
        "a, b"
      ],
      "metadata": {
        "colab": {
          "base_uri": "https://localhost:8080/"
        },
        "id": "IdYpDu2b2g5H",
        "outputId": "a9e01c82-c08d-4f22-ecd3-0858e73c9ef8"
      },
      "execution_count": 9,
      "outputs": [
        {
          "output_type": "execute_result",
          "data": {
            "text/plain": [
              "(['사과', '배', '고라니'], [1, 2, 3, 4, 5, 6])"
            ]
          },
          "metadata": {},
          "execution_count": 9
        }
      ]
    },
    {
      "cell_type": "code",
      "source": [
        "(1, 2, 3) + (4, 5, 6)"
      ],
      "metadata": {
        "colab": {
          "base_uri": "https://localhost:8080/"
        },
        "id": "MjdSDF3B22d1",
        "outputId": "4d01553f-f429-4ad0-ed66-0f773a969516"
      },
      "execution_count": 10,
      "outputs": [
        {
          "output_type": "execute_result",
          "data": {
            "text/plain": [
              "(1, 2, 3, 4, 5, 6)"
            ]
          },
          "metadata": {},
          "execution_count": 10
        }
      ]
    },
    {
      "cell_type": "code",
      "source": [
        "\"김\" + \"지환\""
      ],
      "metadata": {
        "colab": {
          "base_uri": "https://localhost:8080/",
          "height": 35
        },
        "id": "De0mJG6P27Km",
        "outputId": "ba8a0b1a-1d8f-4979-dcee-38b3ee9f649a"
      },
      "execution_count": 11,
      "outputs": [
        {
          "output_type": "execute_result",
          "data": {
            "text/plain": [
              "'김지환'"
            ],
            "application/vnd.google.colaboratory.intrinsic+json": {
              "type": "string"
            }
          },
          "metadata": {},
          "execution_count": 11
        }
      ]
    },
    {
      "cell_type": "code",
      "source": [
        "range(10) + range(10)"
      ],
      "metadata": {
        "colab": {
          "base_uri": "https://localhost:8080/",
          "height": 172
        },
        "id": "5vy1oLqn3Atg",
        "outputId": "3ec0afdb-1e04-40b0-9765-895776dfcc00"
      },
      "execution_count": 12,
      "outputs": [
        {
          "output_type": "error",
          "ename": "TypeError",
          "evalue": "ignored",
          "traceback": [
            "\u001b[0;31m---------------------------------------------------------------------------\u001b[0m",
            "\u001b[0;31mTypeError\u001b[0m                                 Traceback (most recent call last)",
            "\u001b[0;32m<ipython-input-12-bf425b1240c8>\u001b[0m in \u001b[0;36m<module>\u001b[0;34m\u001b[0m\n\u001b[0;32m----> 1\u001b[0;31m \u001b[0mrange\u001b[0m\u001b[0;34m(\u001b[0m\u001b[0;36m10\u001b[0m\u001b[0;34m)\u001b[0m \u001b[0;34m+\u001b[0m \u001b[0mrange\u001b[0m\u001b[0;34m(\u001b[0m\u001b[0;36m10\u001b[0m\u001b[0;34m)\u001b[0m\u001b[0;34m\u001b[0m\u001b[0;34m\u001b[0m\u001b[0m\n\u001b[0m",
            "\u001b[0;31mTypeError\u001b[0m: unsupported operand type(s) for +: 'range' and 'range'"
          ]
        }
      ]
    },
    {
      "cell_type": "code",
      "source": [
        "list(range(10)) + list(range(10))"
      ],
      "metadata": {
        "colab": {
          "base_uri": "https://localhost:8080/"
        },
        "id": "8azCmTd83HnC",
        "outputId": "c0d3ce1b-b6f4-409e-ac9d-18e147fb1278"
      },
      "execution_count": 13,
      "outputs": [
        {
          "output_type": "execute_result",
          "data": {
            "text/plain": [
              "[0, 1, 2, 3, 4, 5, 6, 7, 8, 9, 0, 1, 2, 3, 4, 5, 6, 7, 8, 9]"
            ]
          },
          "metadata": {},
          "execution_count": 13
        }
      ]
    },
    {
      "cell_type": "code",
      "source": [
        "print(\"안녕하세요\", 1, \"학년입니다\")"
      ],
      "metadata": {
        "colab": {
          "base_uri": "https://localhost:8080/"
        },
        "id": "1N6t68xA3Wi5",
        "outputId": "04c79c64-2731-4723-da02-ab45ec28d6bf"
      },
      "execution_count": 14,
      "outputs": [
        {
          "output_type": "stream",
          "name": "stdout",
          "text": [
            "안녕하세요 1 학년입니다\n"
          ]
        }
      ]
    },
    {
      "cell_type": "code",
      "source": [
        "\"안녕하세요\" + 1 + \"학년입니다\" # int + str X"
      ],
      "metadata": {
        "colab": {
          "base_uri": "https://localhost:8080/",
          "height": 172
        },
        "id": "fiO0wbzF3ckd",
        "outputId": "3337618e-9f9b-4557-ced3-932a9d4da9fa"
      },
      "execution_count": 15,
      "outputs": [
        {
          "output_type": "error",
          "ename": "TypeError",
          "evalue": "ignored",
          "traceback": [
            "\u001b[0;31m---------------------------------------------------------------------------\u001b[0m",
            "\u001b[0;31mTypeError\u001b[0m                                 Traceback (most recent call last)",
            "\u001b[0;32m<ipython-input-15-b89dc0684729>\u001b[0m in \u001b[0;36m<module>\u001b[0;34m\u001b[0m\n\u001b[0;32m----> 1\u001b[0;31m \u001b[0;34m\"안녕하세요\"\u001b[0m \u001b[0;34m+\u001b[0m \u001b[0;36m1\u001b[0m \u001b[0;34m+\u001b[0m \u001b[0;34m\"학년입니다\"\u001b[0m \u001b[0;31m# int + str X\u001b[0m\u001b[0;34m\u001b[0m\u001b[0;34m\u001b[0m\u001b[0m\n\u001b[0m",
            "\u001b[0;31mTypeError\u001b[0m: can only concatenate str (not \"int\") to str"
          ]
        }
      ]
    },
    {
      "cell_type": "code",
      "source": [
        "int(\"안녕하세요\")"
      ],
      "metadata": {
        "colab": {
          "base_uri": "https://localhost:8080/",
          "height": 172
        },
        "id": "uxnQ3VqC3lJG",
        "outputId": "f873edff-21c9-48fd-b8ff-07310c200e1f"
      },
      "execution_count": 16,
      "outputs": [
        {
          "output_type": "error",
          "ename": "ValueError",
          "evalue": "ignored",
          "traceback": [
            "\u001b[0;31m---------------------------------------------------------------------------\u001b[0m",
            "\u001b[0;31mValueError\u001b[0m                                Traceback (most recent call last)",
            "\u001b[0;32m<ipython-input-16-b771e1eb05d9>\u001b[0m in \u001b[0;36m<module>\u001b[0;34m\u001b[0m\n\u001b[0;32m----> 1\u001b[0;31m \u001b[0mint\u001b[0m\u001b[0;34m(\u001b[0m\u001b[0;34m\"안녕하세요\"\u001b[0m\u001b[0;34m)\u001b[0m\u001b[0;34m\u001b[0m\u001b[0;34m\u001b[0m\u001b[0m\n\u001b[0m",
            "\u001b[0;31mValueError\u001b[0m: invalid literal for int() with base 10: '안녕하세요'"
          ]
        }
      ]
    },
    {
      "cell_type": "code",
      "source": [
        "\"안녕하세요\" + str(1) + \"학년입니다\""
      ],
      "metadata": {
        "colab": {
          "base_uri": "https://localhost:8080/",
          "height": 35
        },
        "id": "oS-7Q5jm3qjl",
        "outputId": "1871172e-7584-4a8f-8332-8dde9a84303d"
      },
      "execution_count": 17,
      "outputs": [
        {
          "output_type": "execute_result",
          "data": {
            "text/plain": [
              "'안녕하세요1학년입니다'"
            ],
            "application/vnd.google.colaboratory.intrinsic+json": {
              "type": "string"
            }
          },
          "metadata": {},
          "execution_count": 17
        }
      ]
    },
    {
      "cell_type": "markdown",
      "source": [
        "## 반복(*)"
      ],
      "metadata": {
        "id": "0AZXC2w-37JM"
      }
    },
    {
      "cell_type": "code",
      "source": [
        "# 연결을 n번 이상하는, (시퀀스 객체) * n, n * (시퀀스 객체)\n",
        "[1, 10, 100, 1000] * 3"
      ],
      "metadata": {
        "colab": {
          "base_uri": "https://localhost:8080/"
        },
        "id": "-MHH22ja32in",
        "outputId": "cc4b258b-d2f5-4fb0-d95f-845ad486dc23"
      },
      "execution_count": 18,
      "outputs": [
        {
          "output_type": "execute_result",
          "data": {
            "text/plain": [
              "[1, 10, 100, 1000, 1, 10, 100, 1000, 1, 10, 100, 1000]"
            ]
          },
          "metadata": {},
          "execution_count": 18
        }
      ]
    },
    {
      "cell_type": "code",
      "source": [
        "[1, 10, 100, 1000] + [1, 10, 100, 1000] + [1, 10, 100, 1000]"
      ],
      "metadata": {
        "colab": {
          "base_uri": "https://localhost:8080/"
        },
        "id": "fSX9jh6N4Y1b",
        "outputId": "911b602f-0ab5-4f93-98b3-193107017fbd"
      },
      "execution_count": 19,
      "outputs": [
        {
          "output_type": "execute_result",
          "data": {
            "text/plain": [
              "[1, 10, 100, 1000, 1, 10, 100, 1000, 1, 10, 100, 1000]"
            ]
          },
          "metadata": {},
          "execution_count": 19
        }
      ]
    },
    {
      "cell_type": "code",
      "source": [
        "[0] * 7 # 0을 7개 가진 리스트 만들기"
      ],
      "metadata": {
        "colab": {
          "base_uri": "https://localhost:8080/"
        },
        "id": "I3LVOJug4cBk",
        "outputId": "a30ad147-54c1-43a0-9638-e87e377b1c92"
      },
      "execution_count": 20,
      "outputs": [
        {
          "output_type": "execute_result",
          "data": {
            "text/plain": [
              "[0, 0, 0, 0, 0, 0, 0]"
            ]
          },
          "metadata": {},
          "execution_count": 20
        }
      ]
    },
    {
      "cell_type": "code",
      "source": [
        "[0] * 0, [0] * -1 # 0이하의 숫자를 넣으면"
      ],
      "metadata": {
        "colab": {
          "base_uri": "https://localhost:8080/"
        },
        "id": "GlGAhcSC4vpj",
        "outputId": "6f2714b0-a6bc-49b8-c239-e09be3dac48a"
      },
      "execution_count": 21,
      "outputs": [
        {
          "output_type": "execute_result",
          "data": {
            "text/plain": [
              "([], [])"
            ]
          },
          "metadata": {},
          "execution_count": 21
        }
      ]
    },
    {
      "cell_type": "code",
      "source": [
        "(0) * 0"
      ],
      "metadata": {
        "colab": {
          "base_uri": "https://localhost:8080/"
        },
        "id": "Y_w9Qptq43Bg",
        "outputId": "97e50678-7ee6-45eb-8b8d-77924e20394d"
      },
      "execution_count": 22,
      "outputs": [
        {
          "output_type": "execute_result",
          "data": {
            "text/plain": [
              "0"
            ]
          },
          "metadata": {},
          "execution_count": 22
        }
      ]
    },
    {
      "cell_type": "code",
      "source": [
        "range(10) * 10"
      ],
      "metadata": {
        "colab": {
          "base_uri": "https://localhost:8080/",
          "height": 172
        },
        "id": "PM29MNDM49o5",
        "outputId": "a71f1a58-af91-4468-f1e8-9b0b745af03d"
      },
      "execution_count": 23,
      "outputs": [
        {
          "output_type": "error",
          "ename": "TypeError",
          "evalue": "ignored",
          "traceback": [
            "\u001b[0;31m---------------------------------------------------------------------------\u001b[0m",
            "\u001b[0;31mTypeError\u001b[0m                                 Traceback (most recent call last)",
            "\u001b[0;32m<ipython-input-23-a7002218ace3>\u001b[0m in \u001b[0;36m<module>\u001b[0;34m\u001b[0m\n\u001b[0;32m----> 1\u001b[0;31m \u001b[0mrange\u001b[0m\u001b[0;34m(\u001b[0m\u001b[0;36m10\u001b[0m\u001b[0;34m)\u001b[0m \u001b[0;34m*\u001b[0m \u001b[0;36m10\u001b[0m\u001b[0;34m\u001b[0m\u001b[0;34m\u001b[0m\u001b[0m\n\u001b[0m",
            "\u001b[0;31mTypeError\u001b[0m: unsupported operand type(s) for *: 'range' and 'int'"
          ]
        }
      ]
    },
    {
      "cell_type": "code",
      "source": [
        "tuple(range(10)) * 10"
      ],
      "metadata": {
        "id": "waifBoyq5CvG"
      },
      "execution_count": null,
      "outputs": []
    },
    {
      "cell_type": "code",
      "source": [
        "\"퇴실\" * 10"
      ],
      "metadata": {
        "colab": {
          "base_uri": "https://localhost:8080/",
          "height": 35
        },
        "id": "82TyHMD25Hcw",
        "outputId": "f606c4a7-8253-4918-8083-e9fff4d51785"
      },
      "execution_count": 24,
      "outputs": [
        {
          "output_type": "execute_result",
          "data": {
            "text/plain": [
              "'퇴실퇴실퇴실퇴실퇴실퇴실퇴실퇴실퇴실퇴실'"
            ],
            "application/vnd.google.colaboratory.intrinsic+json": {
              "type": "string"
            }
          },
          "metadata": {},
          "execution_count": 24
        }
      ]
    },
    {
      "cell_type": "markdown",
      "source": [
        "## len()"
      ],
      "metadata": {
        "id": "3QNwNdFp5afZ"
      }
    },
    {
      "cell_type": "code",
      "source": [
        "#java : array.length(), JS : array.length, Python : len(array)\n",
        "len([1, 2, 3]), len((1, 2, 3)), len(range(2, 5, 2)), len(\"문자열\")"
      ],
      "metadata": {
        "colab": {
          "base_uri": "https://localhost:8080/"
        },
        "id": "606mMngE5UcX",
        "outputId": "dc33976e-39a8-4973-e059-9223cecc32c2"
      },
      "execution_count": 25,
      "outputs": [
        {
          "output_type": "execute_result",
          "data": {
            "text/plain": [
              "(3, 3, 2, 3)"
            ]
          },
          "metadata": {},
          "execution_count": 25
        }
      ]
    },
    {
      "cell_type": "markdown",
      "source": [
        "## index"
      ],
      "metadata": {
        "id": "exjdGF0L57l4"
      }
    },
    {
      "cell_type": "code",
      "source": [
        "# 0부터 시작, 전체 길이 - 1\n",
        "a = list(range(100, 600, 100))\n",
        "print(a)"
      ],
      "metadata": {
        "colab": {
          "base_uri": "https://localhost:8080/"
        },
        "id": "yr-BGBSL509X",
        "outputId": "64ae1b91-d70b-4f1b-f375-265d0ec82c93"
      },
      "execution_count": 26,
      "outputs": [
        {
          "output_type": "stream",
          "name": "stdout",
          "text": [
            "[100, 200, 300, 400, 500]\n"
          ]
        }
      ]
    },
    {
      "cell_type": "code",
      "source": [
        "a[2], a[2-1], a[1], a[0]"
      ],
      "metadata": {
        "colab": {
          "base_uri": "https://localhost:8080/"
        },
        "id": "OAyvgtyD6H-R",
        "outputId": "edee7dfb-99b5-4243-9f41-9116ea4bf5df"
      },
      "execution_count": 27,
      "outputs": [
        {
          "output_type": "execute_result",
          "data": {
            "text/plain": [
              "(300, 200, 200, 100)"
            ]
          },
          "metadata": {},
          "execution_count": 27
        }
      ]
    },
    {
      "cell_type": "code",
      "source": [
        "name = \"김지환씨\"\n",
        "name[0], name[3]"
      ],
      "metadata": {
        "colab": {
          "base_uri": "https://localhost:8080/"
        },
        "id": "lUtVnn8Q6T1U",
        "outputId": "907ce5f6-2e18-4da6-a552-d32f91dbd5ec"
      },
      "execution_count": 28,
      "outputs": [
        {
          "output_type": "execute_result",
          "data": {
            "text/plain": [
              "('김', '씨')"
            ]
          },
          "metadata": {},
          "execution_count": 28
        }
      ]
    },
    {
      "cell_type": "code",
      "source": [
        "# 음수인덱스 : 뒤에서부터 카운트, len(시퀀스객체) - n\n",
        "# a, a[-n] = a[len(a)-n]\n",
        "print(a)\n",
        "a[-1], a[len(a)-1]"
      ],
      "metadata": {
        "colab": {
          "base_uri": "https://localhost:8080/"
        },
        "id": "-Ae6jC6S6guI",
        "outputId": "8e8781f5-f35c-4da5-f464-4a32b73b894a"
      },
      "execution_count": 29,
      "outputs": [
        {
          "output_type": "stream",
          "name": "stdout",
          "text": [
            "[100, 200, 300, 400, 500]\n"
          ]
        },
        {
          "output_type": "execute_result",
          "data": {
            "text/plain": [
              "(500, 500)"
            ]
          },
          "metadata": {},
          "execution_count": 29
        }
      ]
    },
    {
      "cell_type": "code",
      "source": [
        "a[len(a)]"
      ],
      "metadata": {
        "colab": {
          "base_uri": "https://localhost:8080/",
          "height": 172
        },
        "id": "JGG-Sdik6xIA",
        "outputId": "203c1956-496d-4faf-838f-979dfce02e33"
      },
      "execution_count": 30,
      "outputs": [
        {
          "output_type": "error",
          "ename": "IndexError",
          "evalue": "ignored",
          "traceback": [
            "\u001b[0;31m---------------------------------------------------------------------------\u001b[0m",
            "\u001b[0;31mIndexError\u001b[0m                                Traceback (most recent call last)",
            "\u001b[0;32m<ipython-input-30-836f840eaf9f>\u001b[0m in \u001b[0;36m<module>\u001b[0;34m\u001b[0m\n\u001b[0;32m----> 1\u001b[0;31m \u001b[0ma\u001b[0m\u001b[0;34m[\u001b[0m\u001b[0mlen\u001b[0m\u001b[0;34m(\u001b[0m\u001b[0ma\u001b[0m\u001b[0;34m)\u001b[0m\u001b[0;34m]\u001b[0m\u001b[0;34m\u001b[0m\u001b[0;34m\u001b[0m\u001b[0m\n\u001b[0m",
            "\u001b[0;31mIndexError\u001b[0m: list index out of range"
          ]
        }
      ]
    },
    {
      "cell_type": "markdown",
      "source": [
        "## 요소에 값 할당하기\n",
        "* element, 요소, 구성요소, 원소."
      ],
      "metadata": {
        "id": "_ayQXuN-68Zz"
      }
    },
    {
      "cell_type": "code",
      "source": [
        "a = [0] * 5\n",
        "print(a)\n",
        "a[0] = 5\n",
        "a[1] = 13\n",
        "a[2] = 34\n",
        "a[3] = 88\n",
        "a[4] = 100\n",
        "a # 원본에 영향"
      ],
      "metadata": {
        "colab": {
          "base_uri": "https://localhost:8080/"
        },
        "id": "wCmZz4FZ7OdC",
        "outputId": "d9cd8acc-d744-4b0c-d831-4b88e8ae19ff"
      },
      "execution_count": 32,
      "outputs": [
        {
          "output_type": "stream",
          "name": "stdout",
          "text": [
            "[0, 0, 0, 0, 0]\n"
          ]
        },
        {
          "output_type": "execute_result",
          "data": {
            "text/plain": [
              "[5, 13, 34, 88, 100]"
            ]
          },
          "metadata": {},
          "execution_count": 32
        }
      ]
    },
    {
      "cell_type": "code",
      "source": [
        "a[5]"
      ],
      "metadata": {
        "colab": {
          "base_uri": "https://localhost:8080/",
          "height": 172
        },
        "id": "lGGhl_lW7iQJ",
        "outputId": "5bd10685-bb10-4537-d237-3988bf42736d"
      },
      "execution_count": 33,
      "outputs": [
        {
          "output_type": "error",
          "ename": "IndexError",
          "evalue": "ignored",
          "traceback": [
            "\u001b[0;31m---------------------------------------------------------------------------\u001b[0m",
            "\u001b[0;31mIndexError\u001b[0m                                Traceback (most recent call last)",
            "\u001b[0;32m<ipython-input-33-4a84d856522b>\u001b[0m in \u001b[0;36m<module>\u001b[0;34m\u001b[0m\n\u001b[0;32m----> 1\u001b[0;31m \u001b[0ma\u001b[0m\u001b[0;34m[\u001b[0m\u001b[0;36m5\u001b[0m\u001b[0;34m]\u001b[0m\u001b[0;34m\u001b[0m\u001b[0;34m\u001b[0m\u001b[0m\n\u001b[0m",
            "\u001b[0;31mIndexError\u001b[0m: list index out of range"
          ]
        }
      ]
    },
    {
      "cell_type": "markdown",
      "source": [
        "# del 시퀀스객체 [인덱스]"
      ],
      "metadata": {
        "id": "3eYIA8_A_T-_"
      }
    },
    {
      "cell_type": "code",
      "source": [
        "print(a)\n",
        "del a[2]\n",
        "a"
      ],
      "metadata": {
        "colab": {
          "base_uri": "https://localhost:8080/"
        },
        "id": "9tZEJa1j71N8",
        "outputId": "4caa2f97-6d3e-4cdd-82ba-1dd40d2da29a"
      },
      "execution_count": 35,
      "outputs": [
        {
          "output_type": "stream",
          "name": "stdout",
          "text": [
            "[5, 13, 34, 88, 100]\n"
          ]
        },
        {
          "output_type": "execute_result",
          "data": {
            "text/plain": [
              "[5, 13, 88, 100]"
            ]
          },
          "metadata": {},
          "execution_count": 35
        }
      ]
    },
    {
      "cell_type": "code",
      "source": [
        "a"
      ],
      "metadata": {
        "colab": {
          "base_uri": "https://localhost:8080/"
        },
        "id": "S2OK1X2377E2",
        "outputId": "96f75688-2f36-4e94-cd66-8d68d8ae4512"
      },
      "execution_count": 36,
      "outputs": [
        {
          "output_type": "execute_result",
          "data": {
            "text/plain": [
              "[5, 13, 88, 100]"
            ]
          },
          "metadata": {},
          "execution_count": 36
        }
      ]
    },
    {
      "cell_type": "code",
      "source": [
        "# 문자열, 튜플, 레인지 -> 읽기 전용\n",
        "s = \"book\"\n",
        "del s[2]"
      ],
      "metadata": {
        "colab": {
          "base_uri": "https://localhost:8080/",
          "height": 209
        },
        "id": "KuKAT-EH_XK8",
        "outputId": "6116803d-8f8e-471f-f228-e5c7daa73f8e"
      },
      "execution_count": 38,
      "outputs": [
        {
          "output_type": "error",
          "ename": "TypeError",
          "evalue": "ignored",
          "traceback": [
            "\u001b[0;31m---------------------------------------------------------------------------\u001b[0m",
            "\u001b[0;31mTypeError\u001b[0m                                 Traceback (most recent call last)",
            "\u001b[0;32m<ipython-input-38-855a2db1e8b5>\u001b[0m in \u001b[0;36m<module>\u001b[0;34m\u001b[0m\n\u001b[1;32m      1\u001b[0m \u001b[0;31m# 문자열, 튜플, 레인지 -> 읽기 전용\u001b[0m\u001b[0;34m\u001b[0m\u001b[0;34m\u001b[0m\u001b[0;34m\u001b[0m\u001b[0m\n\u001b[1;32m      2\u001b[0m \u001b[0ms\u001b[0m \u001b[0;34m=\u001b[0m \u001b[0;34m\"book\"\u001b[0m\u001b[0;34m\u001b[0m\u001b[0;34m\u001b[0m\u001b[0m\n\u001b[0;32m----> 3\u001b[0;31m \u001b[0;32mdel\u001b[0m \u001b[0ms\u001b[0m\u001b[0;34m[\u001b[0m\u001b[0;36m2\u001b[0m\u001b[0;34m]\u001b[0m\u001b[0;34m\u001b[0m\u001b[0;34m\u001b[0m\u001b[0m\n\u001b[0m",
            "\u001b[0;31mTypeError\u001b[0m: 'str' object doesn't support item deletion"
          ]
        }
      ]
    },
    {
      "cell_type": "markdown",
      "source": [
        "# 슬라이스"
      ],
      "metadata": {
        "id": "kElTJfk__mSP"
      }
    },
    {
      "cell_type": "code",
      "source": [
        "# 시퀀스객체[시작인덱스:끝인덱스]\n",
        "# 시퀀스객체[시작:], 시퀀스객체[끝:]\n",
        "# 시퀀스객체[시작:끝:증가폭]\n",
        "# 시퀀스객체[::증가폭]\n",
        "a = list(range(0, 100, 10))\n",
        "a"
      ],
      "metadata": {
        "colab": {
          "base_uri": "https://localhost:8080/"
        },
        "id": "QBten3jx_ge0",
        "outputId": "0824412e-93e1-4fb7-d797-a984ea708a5c"
      },
      "execution_count": 39,
      "outputs": [
        {
          "output_type": "execute_result",
          "data": {
            "text/plain": [
              "[0, 10, 20, 30, 40, 50, 60, 70, 80, 90]"
            ]
          },
          "metadata": {},
          "execution_count": 39
        }
      ]
    },
    {
      "cell_type": "code",
      "source": [
        "# 슬라이스는 원본에 영향 미치지 않고 사본 만드는 방법\n",
        "a[0:4], len(a), a[0:10], a[0:100]"
      ],
      "metadata": {
        "colab": {
          "base_uri": "https://localhost:8080/"
        },
        "id": "2RhHMw5C_403",
        "outputId": "21526f8f-b2c7-44ca-b658-f3c0c3fc752b"
      },
      "execution_count": 42,
      "outputs": [
        {
          "output_type": "execute_result",
          "data": {
            "text/plain": [
              "([0, 10, 20, 30],\n",
              " 10,\n",
              " [0, 10, 20, 30, 40, 50, 60, 70, 80, 90],\n",
              " [0, 10, 20, 30, 40, 50, 60, 70, 80, 90])"
            ]
          },
          "metadata": {},
          "execution_count": 42
        }
      ]
    },
    {
      "cell_type": "code",
      "source": [
        "a[1:1] # 빈 리스트"
      ],
      "metadata": {
        "colab": {
          "base_uri": "https://localhost:8080/"
        },
        "id": "gDx99CYOARDx",
        "outputId": "0db1b043-81a2-4778-d06c-02a14015aad3"
      },
      "execution_count": 43,
      "outputs": [
        {
          "output_type": "execute_result",
          "data": {
            "text/plain": [
              "[]"
            ]
          },
          "metadata": {},
          "execution_count": 43
        }
      ]
    },
    {
      "cell_type": "code",
      "source": [
        "a[3:5]"
      ],
      "metadata": {
        "colab": {
          "base_uri": "https://localhost:8080/"
        },
        "id": "VUPvlw0NAUzD",
        "outputId": "64ffd7c6-db2d-49d1-cbb3-402d371d6b45"
      },
      "execution_count": 44,
      "outputs": [
        {
          "output_type": "execute_result",
          "data": {
            "text/plain": [
              "[30, 40]"
            ]
          },
          "metadata": {},
          "execution_count": 44
        }
      ]
    },
    {
      "cell_type": "code",
      "source": [
        "a[3:-1], a[3:len(a)-1]"
      ],
      "metadata": {
        "colab": {
          "base_uri": "https://localhost:8080/"
        },
        "id": "VgfRnWU-Afof",
        "outputId": "8f8a3bb7-37fe-41d0-ddca-b2240b93ea06"
      },
      "execution_count": 45,
      "outputs": [
        {
          "output_type": "execute_result",
          "data": {
            "text/plain": [
              "([30, 40, 50, 60, 70, 80], [30, 40, 50, 60, 70, 80])"
            ]
          },
          "metadata": {},
          "execution_count": 45
        }
      ]
    },
    {
      "cell_type": "code",
      "source": [
        "list(range(1, 5, 2)), a[1:5:2], a[slice(1, 5, 2)]"
      ],
      "metadata": {
        "colab": {
          "base_uri": "https://localhost:8080/"
        },
        "id": "YwJhmQx3Au5e",
        "outputId": "2e72a218-4dc5-4b4c-9b9e-91475c3206a0"
      },
      "execution_count": 46,
      "outputs": [
        {
          "output_type": "execute_result",
          "data": {
            "text/plain": [
              "([1, 3], [10, 30], [10, 30])"
            ]
          },
          "metadata": {},
          "execution_count": 46
        }
      ]
    },
    {
      "cell_type": "code",
      "source": [
        "a[:], a, a[0:len(a)]"
      ],
      "metadata": {
        "colab": {
          "base_uri": "https://localhost:8080/"
        },
        "id": "kYr5JFN8BFEe",
        "outputId": "69cb25ba-b744-43c7-c671-010ad9dd8066"
      },
      "execution_count": 48,
      "outputs": [
        {
          "output_type": "execute_result",
          "data": {
            "text/plain": [
              "([0, 10, 20, 30, 40, 50, 60, 70, 80, 90],\n",
              " [0, 10, 20, 30, 40, 50, 60, 70, 80, 90],\n",
              " [0, 10, 20, 30, 40, 50, 60, 70, 80, 90])"
            ]
          },
          "metadata": {},
          "execution_count": 48
        }
      ]
    },
    {
      "cell_type": "code",
      "source": [
        "a[1:], a[1:len(a)]"
      ],
      "metadata": {
        "colab": {
          "base_uri": "https://localhost:8080/"
        },
        "id": "WRXeKabBBP2K",
        "outputId": "b3ce0124-9596-45b1-9534-d1281ba7c18e"
      },
      "execution_count": 49,
      "outputs": [
        {
          "output_type": "execute_result",
          "data": {
            "text/plain": [
              "([10, 20, 30, 40, 50, 60, 70, 80, 90], [10, 20, 30, 40, 50, 60, 70, 80, 90])"
            ]
          },
          "metadata": {},
          "execution_count": 49
        }
      ]
    },
    {
      "cell_type": "code",
      "source": [
        "a[:5], a[0:5], a[0:5:1]"
      ],
      "metadata": {
        "colab": {
          "base_uri": "https://localhost:8080/"
        },
        "id": "1S7Umg7ZBUAp",
        "outputId": "b6e95259-c330-4c4a-9a5c-34b145fae42a"
      },
      "execution_count": 51,
      "outputs": [
        {
          "output_type": "execute_result",
          "data": {
            "text/plain": [
              "([0, 10, 20, 30, 40], [0, 10, 20, 30, 40], [0, 10, 20, 30, 40])"
            ]
          },
          "metadata": {},
          "execution_count": 51
        }
      ]
    },
    {
      "cell_type": "code",
      "source": [
        "a[::2], a[0:len(a):2]"
      ],
      "metadata": {
        "colab": {
          "base_uri": "https://localhost:8080/"
        },
        "id": "_IxbQNq_BXSi",
        "outputId": "03d1ab57-ccc0-4666-aa89-1ffecde21119"
      },
      "execution_count": 52,
      "outputs": [
        {
          "output_type": "execute_result",
          "data": {
            "text/plain": [
              "([0, 20, 40, 60, 80], [0, 20, 40, 60, 80])"
            ]
          },
          "metadata": {},
          "execution_count": 52
        }
      ]
    },
    {
      "cell_type": "code",
      "source": [
        "a[::-1], a[len(a)::-1], a[0:len(a):-1]"
      ],
      "metadata": {
        "colab": {
          "base_uri": "https://localhost:8080/"
        },
        "id": "YUjhed3oBrov",
        "outputId": "2be54555-91ac-4f7b-93b4-7e0d392c2301"
      },
      "execution_count": 54,
      "outputs": [
        {
          "output_type": "execute_result",
          "data": {
            "text/plain": [
              "([90, 80, 70, 60, 50, 40, 30, 20, 10, 0],\n",
              " [90, 80, 70, 60, 50, 40, 30, 20, 10, 0],\n",
              " [])"
            ]
          },
          "metadata": {},
          "execution_count": 54
        }
      ]
    },
    {
      "cell_type": "code",
      "source": [
        "a[20:0:-1], a[20::-1]"
      ],
      "metadata": {
        "colab": {
          "base_uri": "https://localhost:8080/"
        },
        "id": "M4gNS_3HCBFt",
        "outputId": "341c2ba1-981c-472e-c5a1-3be6fea69841"
      },
      "execution_count": 56,
      "outputs": [
        {
          "output_type": "execute_result",
          "data": {
            "text/plain": [
              "([90, 80, 70, 60, 50, 40, 30, 20, 10], [90, 80, 70, 60, 50, 40, 30, 20, 10, 0])"
            ]
          },
          "metadata": {},
          "execution_count": 56
        }
      ]
    },
    {
      "cell_type": "code",
      "source": [
        "s = \"hello world\"\n",
        "s[::-1], s[::2], s[1:3]"
      ],
      "metadata": {
        "colab": {
          "base_uri": "https://localhost:8080/"
        },
        "id": "wL4BIcoFCKym",
        "outputId": "8cf196ff-7f46-405c-eef5-a35e2143c9d4"
      },
      "execution_count": 58,
      "outputs": [
        {
          "output_type": "execute_result",
          "data": {
            "text/plain": [
              "('dlrow olleh', 'hlowrd', 'el')"
            ]
          },
          "metadata": {},
          "execution_count": 58
        }
      ]
    },
    {
      "cell_type": "code",
      "source": [
        "# 할당하기 -> 특정한 슬라이스 범위에 새로운 값들을 끼워넣기\n",
        "# 리스트 only, 갯수가 일치할 필요\n",
        "a = [1, 2, 3, 4, 5]\n",
        "print(a[1:3])\n",
        "a[1:3] = [6, 7, 8, 9]\n",
        "a"
      ],
      "metadata": {
        "colab": {
          "base_uri": "https://localhost:8080/"
        },
        "id": "IVvaFKeQCX9G",
        "outputId": "30aed686-f6e9-43a6-a20f-a4f30b3581d5"
      },
      "execution_count": 60,
      "outputs": [
        {
          "output_type": "stream",
          "name": "stdout",
          "text": [
            "[2, 3]\n"
          ]
        },
        {
          "output_type": "execute_result",
          "data": {
            "text/plain": [
              "[1, 6, 7, 8, 9, 4, 5]"
            ]
          },
          "metadata": {},
          "execution_count": 60
        }
      ]
    },
    {
      "cell_type": "code",
      "source": [
        "b = list(range(20))\n",
        "b"
      ],
      "metadata": {
        "colab": {
          "base_uri": "https://localhost:8080/"
        },
        "id": "ox7DSTgpC42a",
        "outputId": "4c9322f5-a904-4dc0-e901-e305b3d1d1f8"
      },
      "execution_count": 61,
      "outputs": [
        {
          "output_type": "execute_result",
          "data": {
            "text/plain": [
              "[0, 1, 2, 3, 4, 5, 6, 7, 8, 9, 10, 11, 12, 13, 14, 15, 16, 17, 18, 19]"
            ]
          },
          "metadata": {},
          "execution_count": 61
        }
      ]
    },
    {
      "cell_type": "code",
      "source": [
        "b[1:10:2]"
      ],
      "metadata": {
        "colab": {
          "base_uri": "https://localhost:8080/"
        },
        "id": "pjo9-lMEC9wc",
        "outputId": "16889470-e741-4ac8-fc13-89d4c98acb9f"
      },
      "execution_count": 62,
      "outputs": [
        {
          "output_type": "execute_result",
          "data": {
            "text/plain": [
              "[1, 3, 5, 7, 9]"
            ]
          },
          "metadata": {},
          "execution_count": 62
        }
      ]
    },
    {
      "cell_type": "code",
      "source": [
        "b[1:10:2] = [0] * 5\n",
        "b"
      ],
      "metadata": {
        "colab": {
          "base_uri": "https://localhost:8080/"
        },
        "id": "hC7vrnfSDDx5",
        "outputId": "cf5f6177-47d9-40aa-fa95-df6bd5527b70"
      },
      "execution_count": 63,
      "outputs": [
        {
          "output_type": "execute_result",
          "data": {
            "text/plain": [
              "[0, 0, 2, 0, 4, 0, 6, 0, 8, 0, 10, 11, 12, 13, 14, 15, 16, 17, 18, 19]"
            ]
          },
          "metadata": {},
          "execution_count": 63
        }
      ]
    },
    {
      "cell_type": "code",
      "source": [
        "b[1:10:2] = [0]"
      ],
      "metadata": {
        "colab": {
          "base_uri": "https://localhost:8080/",
          "height": 172
        },
        "id": "3PkrW4uEDJ32",
        "outputId": "d9771a3d-d1a4-468d-b08f-9adfc2d372b1"
      },
      "execution_count": 64,
      "outputs": [
        {
          "output_type": "error",
          "ename": "ValueError",
          "evalue": "ignored",
          "traceback": [
            "\u001b[0;31m---------------------------------------------------------------------------\u001b[0m",
            "\u001b[0;31mValueError\u001b[0m                                Traceback (most recent call last)",
            "\u001b[0;32m<ipython-input-64-823a97fa7ea7>\u001b[0m in \u001b[0;36m<module>\u001b[0;34m\u001b[0m\n\u001b[0;32m----> 1\u001b[0;31m \u001b[0mb\u001b[0m\u001b[0;34m[\u001b[0m\u001b[0;36m1\u001b[0m\u001b[0;34m:\u001b[0m\u001b[0;36m10\u001b[0m\u001b[0;34m:\u001b[0m\u001b[0;36m2\u001b[0m\u001b[0;34m]\u001b[0m \u001b[0;34m=\u001b[0m \u001b[0;34m[\u001b[0m\u001b[0;36m0\u001b[0m\u001b[0;34m]\u001b[0m\u001b[0;34m\u001b[0m\u001b[0;34m\u001b[0m\u001b[0m\n\u001b[0m",
            "\u001b[0;31mValueError\u001b[0m: attempt to assign sequence of size 1 to extended slice of size 5"
          ]
        }
      ]
    },
    {
      "cell_type": "code",
      "source": [
        "print(a)"
      ],
      "metadata": {
        "colab": {
          "base_uri": "https://localhost:8080/"
        },
        "id": "X9nitrjDDMgg",
        "outputId": "d580ea3a-02db-409e-8a0f-52395726a060"
      },
      "execution_count": 65,
      "outputs": [
        {
          "output_type": "stream",
          "name": "stdout",
          "text": [
            "[1, 6, 7, 8, 9, 4, 5]\n"
          ]
        }
      ]
    },
    {
      "cell_type": "code",
      "source": [
        "del a[2:5]\n",
        "a"
      ],
      "metadata": {
        "colab": {
          "base_uri": "https://localhost:8080/"
        },
        "id": "2P8Ak2K3DbLQ",
        "outputId": "056509af-1cfd-47be-c6a6-c55cc2d28b92"
      },
      "execution_count": 66,
      "outputs": [
        {
          "output_type": "execute_result",
          "data": {
            "text/plain": [
              "[1, 6, 4, 5]"
            ]
          },
          "metadata": {},
          "execution_count": 66
        }
      ]
    },
    {
      "cell_type": "markdown",
      "source": [
        "# 딕셔너리"
      ],
      "metadata": {
        "id": "W2TA0D4GDk01"
      }
    },
    {
      "cell_type": "code",
      "source": [
        "d = {\n",
        "    \"key\" : \"value\"\n",
        "}\n",
        "d"
      ],
      "metadata": {
        "colab": {
          "base_uri": "https://localhost:8080/"
        },
        "id": "HzVFTpN4DnFL",
        "outputId": "ed8d7e14-2df0-467f-c572-c37abe1c0d3f"
      },
      "execution_count": 67,
      "outputs": [
        {
          "output_type": "execute_result",
          "data": {
            "text/plain": [
              "{'key': 'value'}"
            ]
          },
          "metadata": {},
          "execution_count": 67
        }
      ]
    },
    {
      "cell_type": "code",
      "source": [
        "young = {\n",
        "    \"말\" : \"많음\",\n",
        "    \"채력\" : \"딸림\",\n",
        "    \"타고오는지하철\": 1,\n",
        "    \"잔소리여부\" : False,\n",
        "    \"좋아하는언어\" : [\"파이썬\", \"자바\", \"자바스크립트\"]\n",
        "}"
      ],
      "metadata": {
        "id": "QhMiFPcUEFbu"
      },
      "execution_count": 68,
      "outputs": []
    },
    {
      "cell_type": "code",
      "source": [
        "# k, v = 1:1 대응\n",
        "kim = {\n",
        "    \"height\": 170,\n",
        "    \"weight\": 80,\n",
        "    \"height\": 180,\n",
        "    \"weight\": 85,\n",
        "} # 중괄호로 묶어야한다, 'KEY:VALUE' 로 값들이 표현\n",
        "kim"
      ],
      "metadata": {
        "colab": {
          "base_uri": "https://localhost:8080/"
        },
        "id": "fp6Dd_abEfJr",
        "outputId": "cc811126-ddd6-4771-e2a6-3da2f9319d27"
      },
      "execution_count": 69,
      "outputs": [
        {
          "output_type": "execute_result",
          "data": {
            "text/plain": [
              "{'height': 180, 'weight': 85}"
            ]
          },
          "metadata": {},
          "execution_count": 69
        }
      ]
    },
    {
      "cell_type": "code",
      "source": [
        "# 시퀀스형 중에 리스트와, 딕셔너리 자체만 키값으로 쓸 수 없음\n",
        "{\n",
        "    []: 0\n",
        " }"
      ],
      "metadata": {
        "colab": {
          "base_uri": "https://localhost:8080/",
          "height": 227
        },
        "id": "DUg1cx64E9sW",
        "outputId": "38870a65-8892-4cd2-e319-a1019bf65eeb"
      },
      "execution_count": 72,
      "outputs": [
        {
          "output_type": "error",
          "ename": "TypeError",
          "evalue": "ignored",
          "traceback": [
            "\u001b[0;31m---------------------------------------------------------------------------\u001b[0m",
            "\u001b[0;31mTypeError\u001b[0m                                 Traceback (most recent call last)",
            "\u001b[0;32m<ipython-input-72-365597124cc0>\u001b[0m in \u001b[0;36m<module>\u001b[0;34m\u001b[0m\n\u001b[1;32m      1\u001b[0m \u001b[0;31m# 시퀀스형 중에 리스트와, 딕셔너리 자체만 키값으로 쓸 수 없음\u001b[0m\u001b[0;34m\u001b[0m\u001b[0;34m\u001b[0m\u001b[0;34m\u001b[0m\u001b[0m\n\u001b[0;32m----> 2\u001b[0;31m {\n\u001b[0m\u001b[1;32m      3\u001b[0m     \u001b[0;34m[\u001b[0m\u001b[0;34m]\u001b[0m\u001b[0;34m:\u001b[0m \u001b[0;36m0\u001b[0m\u001b[0;34m\u001b[0m\u001b[0;34m\u001b[0m\u001b[0m\n\u001b[1;32m      4\u001b[0m  }\n",
            "\u001b[0;31mTypeError\u001b[0m: unhashable type: 'list'"
          ]
        }
      ]
    },
    {
      "cell_type": "code",
      "source": [
        "{\n",
        "    {}: 0\n",
        " }"
      ],
      "metadata": {
        "colab": {
          "base_uri": "https://localhost:8080/",
          "height": 209
        },
        "id": "g23mWemGFVuN",
        "outputId": "fbd23e55-41b6-492a-9030-daf96b8056f2"
      },
      "execution_count": 73,
      "outputs": [
        {
          "output_type": "error",
          "ename": "TypeError",
          "evalue": "ignored",
          "traceback": [
            "\u001b[0;31m---------------------------------------------------------------------------\u001b[0m",
            "\u001b[0;31mTypeError\u001b[0m                                 Traceback (most recent call last)",
            "\u001b[0;32m<ipython-input-73-58515c4cffe3>\u001b[0m in \u001b[0;36m<module>\u001b[0;34m\u001b[0m\n\u001b[0;32m----> 1\u001b[0;31m {\n\u001b[0m\u001b[1;32m      2\u001b[0m     \u001b[0;34m{\u001b[0m\u001b[0;34m}\u001b[0m\u001b[0;34m:\u001b[0m \u001b[0;36m0\u001b[0m\u001b[0;34m\u001b[0m\u001b[0;34m\u001b[0m\u001b[0m\n\u001b[1;32m      3\u001b[0m  }\n",
            "\u001b[0;31mTypeError\u001b[0m: unhashable type: 'dict'"
          ]
        }
      ]
    },
    {
      "cell_type": "code",
      "source": [
        "{\n",
        "    1:{\n",
        "      2:{\n",
        "       3:{\n",
        "         4:{\n",
        "           5:{\n",
        "                 }\n",
        "               }\n",
        "            }\n",
        "         }\n",
        "     }\n",
        "}"
      ],
      "metadata": {
        "colab": {
          "base_uri": "https://localhost:8080/"
        },
        "id": "IlCbAe2hFcyD",
        "outputId": "6a8cc8b1-4216-4866-e934-e6738bae7705"
      },
      "execution_count": 77,
      "outputs": [
        {
          "output_type": "execute_result",
          "data": {
            "text/plain": [
              "{1: {2: {3: {4: {5: {}}}}}}"
            ]
          },
          "metadata": {},
          "execution_count": 77
        }
      ]
    },
    {
      "cell_type": "code",
      "source": [
        "kim"
      ],
      "metadata": {
        "colab": {
          "base_uri": "https://localhost:8080/"
        },
        "id": "5p_7CNAHFmUn",
        "outputId": "41346f2c-9f8e-45c1-e19b-1bd969ebc01c"
      },
      "execution_count": 75,
      "outputs": [
        {
          "output_type": "execute_result",
          "data": {
            "text/plain": [
              "{'height': 180, 'weight': 85}"
            ]
          },
          "metadata": {},
          "execution_count": 75
        }
      ]
    },
    {
      "cell_type": "code",
      "source": [
        "kim['height']"
      ],
      "metadata": {
        "colab": {
          "base_uri": "https://localhost:8080/"
        },
        "id": "Y3GHZELjFobf",
        "outputId": "fcd93b5c-d8c1-4e37-8744-4cfbfdef6acf"
      },
      "execution_count": 76,
      "outputs": [
        {
          "output_type": "execute_result",
          "data": {
            "text/plain": [
              "180"
            ]
          },
          "metadata": {},
          "execution_count": 76
        }
      ]
    },
    {
      "cell_type": "code",
      "source": [
        "kim['salary'] = 4000"
      ],
      "metadata": {
        "id": "WfJW7g1VFrTa"
      },
      "execution_count": 78,
      "outputs": []
    },
    {
      "cell_type": "code",
      "source": [
        "kim"
      ],
      "metadata": {
        "colab": {
          "base_uri": "https://localhost:8080/"
        },
        "id": "wfQ3VYx1F2hk",
        "outputId": "cabeb11b-7d70-460c-b523-b010428de47b"
      },
      "execution_count": 79,
      "outputs": [
        {
          "output_type": "execute_result",
          "data": {
            "text/plain": [
              "{'height': 180, 'weight': 85, 'salary': 4000}"
            ]
          },
          "metadata": {},
          "execution_count": 79
        }
      ]
    },
    {
      "cell_type": "code",
      "source": [
        "kim['IQ'] # KeyError"
      ],
      "metadata": {
        "colab": {
          "base_uri": "https://localhost:8080/",
          "height": 172
        },
        "id": "kTJSq7LeF5TZ",
        "outputId": "a881e20f-fc2b-4eb9-dc6a-534f0f7d0d0b"
      },
      "execution_count": 80,
      "outputs": [
        {
          "output_type": "error",
          "ename": "KeyError",
          "evalue": "ignored",
          "traceback": [
            "\u001b[0;31m---------------------------------------------------------------------------\u001b[0m",
            "\u001b[0;31mKeyError\u001b[0m                                  Traceback (most recent call last)",
            "\u001b[0;32m<ipython-input-80-3164a888700e>\u001b[0m in \u001b[0;36m<module>\u001b[0;34m\u001b[0m\n\u001b[0;32m----> 1\u001b[0;31m \u001b[0mkim\u001b[0m\u001b[0;34m[\u001b[0m\u001b[0;34m'IQ'\u001b[0m\u001b[0;34m]\u001b[0m\u001b[0;34m\u001b[0m\u001b[0;34m\u001b[0m\u001b[0m\n\u001b[0m",
            "\u001b[0;31mKeyError\u001b[0m: 'IQ'"
          ]
        }
      ]
    },
    {
      "cell_type": "code",
      "source": [
        "'IQ' in kim # 시퀀스 객체 (in) - 요소 / 딕셔너리 - 키 (in) / for in - 반복 "
      ],
      "metadata": {
        "colab": {
          "base_uri": "https://localhost:8080/"
        },
        "id": "3YHpZHS_F_fb",
        "outputId": "8a730442-58b0-4957-885d-48e16c6b0ce7"
      },
      "execution_count": 81,
      "outputs": [
        {
          "output_type": "execute_result",
          "data": {
            "text/plain": [
              "False"
            ]
          },
          "metadata": {},
          "execution_count": 81
        }
      ]
    },
    {
      "cell_type": "code",
      "source": [
        "'iQ' not in kim"
      ],
      "metadata": {
        "colab": {
          "base_uri": "https://localhost:8080/"
        },
        "id": "LQPjsaLFGKzD",
        "outputId": "79c3480c-0c03-49de-c756-199ad7a2a97f"
      },
      "execution_count": 82,
      "outputs": [
        {
          "output_type": "execute_result",
          "data": {
            "text/plain": [
              "True"
            ]
          },
          "metadata": {},
          "execution_count": 82
        }
      ]
    },
    {
      "cell_type": "code",
      "source": [
        "len(kim) # key의 갯수"
      ],
      "metadata": {
        "colab": {
          "base_uri": "https://localhost:8080/"
        },
        "id": "iVjQTvKQGXYk",
        "outputId": "2ecc0f28-5013-43f9-c8cd-7e79a7e2d2d0"
      },
      "execution_count": 83,
      "outputs": [
        {
          "output_type": "execute_result",
          "data": {
            "text/plain": [
              "3"
            ]
          },
          "metadata": {},
          "execution_count": 83
        }
      ]
    },
    {
      "cell_type": "code",
      "source": [
        "list(kim) # dict -> list 감싸주면 -> key를 원소로 가지는 리스트"
      ],
      "metadata": {
        "colab": {
          "base_uri": "https://localhost:8080/"
        },
        "id": "XUA_RyTKGa3a",
        "outputId": "da0f13d0-5d31-49ab-b325-1531e240b378"
      },
      "execution_count": 84,
      "outputs": [
        {
          "output_type": "execute_result",
          "data": {
            "text/plain": [
              "['height', 'weight', 'salary']"
            ]
          },
          "metadata": {},
          "execution_count": 84
        }
      ]
    },
    {
      "cell_type": "markdown",
      "source": [
        "# 조건문"
      ],
      "metadata": {
        "id": "FN2wOqU3Hfuf"
      }
    },
    {
      "cell_type": "markdown",
      "source": [
        "# if"
      ],
      "metadata": {
        "id": "ne4kETISHi2j"
      }
    },
    {
      "cell_type": "code",
      "source": [
        "switch = True\n",
        "if switch: # if (...): 조건식 -> 최종적으로 bool형태로 표현될 수 있는 값\n",
        "    print(\"아 밝다~\") # if 본문."
      ],
      "metadata": {
        "colab": {
          "base_uri": "https://localhost:8080/"
        },
        "id": "7-jt7HJ8HhWE",
        "outputId": "f82a3919-9afb-43ef-8379-3616eda68099"
      },
      "execution_count": 85,
      "outputs": [
        {
          "output_type": "stream",
          "name": "stdout",
          "text": [
            "아 밝다~\n"
          ]
        }
      ]
    },
    {
      "cell_type": "code",
      "source": [
        "temperature = 40\n",
        "if temperature > 38:\n",
        "    print(\"아 덥다\")"
      ],
      "metadata": {
        "colab": {
          "base_uri": "https://localhost:8080/"
        },
        "id": "x7F25V4aH7fH",
        "outputId": "00dd2732-4b73-400b-d6cb-fdd8c3fec3ff"
      },
      "execution_count": 86,
      "outputs": [
        {
          "output_type": "stream",
          "name": "stdout",
          "text": [
            "아 덥다\n"
          ]
        }
      ]
    },
    {
      "cell_type": "code",
      "source": [
        "temperature = 30\n",
        "if temperature > 38:\n",
        "    print(\"아 덥다\")\n",
        "    print(\"물 마시고 싶어 #1\")\n",
        "print(\"물 마시고 싶어 #2\")\n",
        "    print(\"물 마시고 싶어 #3\")"
      ],
      "metadata": {
        "colab": {
          "base_uri": "https://localhost:8080/",
          "height": 136
        },
        "id": "ud3GTwqVIHX9",
        "outputId": "08350a9b-4ab0-419a-b465-220530b2a8dc"
      },
      "execution_count": 90,
      "outputs": [
        {
          "output_type": "error",
          "ename": "IndentationError",
          "evalue": "ignored",
          "traceback": [
            "\u001b[0;36m  File \u001b[0;32m\"<ipython-input-90-3610379c1ebc>\"\u001b[0;36m, line \u001b[0;32m6\u001b[0m\n\u001b[0;31m    print(\"물 마시고 싶어 #3\")\u001b[0m\n\u001b[0m    ^\u001b[0m\n\u001b[0;31mIndentationError\u001b[0m\u001b[0;31m:\u001b[0m unexpected indent\n"
          ]
        }
      ]
    },
    {
      "cell_type": "markdown",
      "source": [
        "# else"
      ],
      "metadata": {
        "id": "f_ZGSF2FINKb"
      }
    },
    {
      "cell_type": "code",
      "source": [
        "temperature = 30\n",
        "if temperature > 38:\n",
        "    print(\"아 덥다\")\n",
        "else: # temperature <=38:\n",
        "    print(\"괜찮아\")"
      ],
      "metadata": {
        "colab": {
          "base_uri": "https://localhost:8080/"
        },
        "id": "5zoNS2PYIO_B",
        "outputId": "c1831bc0-ed36-4826-c8e7-469665782722"
      },
      "execution_count": 91,
      "outputs": [
        {
          "output_type": "stream",
          "name": "stdout",
          "text": [
            "괜찮아\n"
          ]
        }
      ]
    },
    {
      "cell_type": "markdown",
      "source": [
        "## pass"
      ],
      "metadata": {
        "id": "1-BBDWPsI0hW"
      }
    },
    {
      "cell_type": "code",
      "source": [
        "temperature = 30\n",
        "if temperature > 38:\n",
        "    print(\"아 덥다\")\n",
        "else: # temperature <=38:\n",
        "    pass # block 유지 때문에"
      ],
      "metadata": {
        "id": "T-oowwJqI1ta"
      },
      "execution_count": 92,
      "outputs": []
    },
    {
      "cell_type": "code",
      "source": [
        "if True:\n",
        "    \n",
        "else:\n",
        "    print('hello')"
      ],
      "metadata": {
        "colab": {
          "base_uri": "https://localhost:8080/",
          "height": 136
        },
        "id": "5awdECy4Jb11",
        "outputId": "7633dc82-e8cc-4a89-f87c-04c185910e14"
      },
      "execution_count": 96,
      "outputs": [
        {
          "output_type": "error",
          "ename": "IndentationError",
          "evalue": "ignored",
          "traceback": [
            "\u001b[0;36m  File \u001b[0;32m\"<ipython-input-96-bcbf067bceb6>\"\u001b[0;36m, line \u001b[0;32m3\u001b[0m\n\u001b[0;31m    else:\u001b[0m\n\u001b[0m    ^\u001b[0m\n\u001b[0;31mIndentationError\u001b[0m\u001b[0;31m:\u001b[0m expected an indented block\n"
          ]
        }
      ]
    },
    {
      "cell_type": "code",
      "source": [
        "pass"
      ],
      "metadata": {
        "id": "ugIEpwG7I69c"
      },
      "execution_count": 93,
      "outputs": []
    },
    {
      "cell_type": "code",
      "source": [
        "if True:\n",
        "    pass\n",
        "else:\n",
        "    print('hello')"
      ],
      "metadata": {
        "id": "JbCNTyOGI8SD"
      },
      "execution_count": 94,
      "outputs": []
    },
    {
      "cell_type": "code",
      "source": [
        "if True:\n",
        "    ''\n",
        "else:\n",
        "    print('hello')"
      ],
      "metadata": {
        "id": "ssyV0YTwJR1A"
      },
      "execution_count": 95,
      "outputs": []
    },
    {
      "cell_type": "code",
      "source": [
        "name = \"김땡땡\"\n",
        "\n",
        "if name == \"김땡땡\" :\n",
        "    print(\"웰컴\")"
      ],
      "metadata": {
        "colab": {
          "base_uri": "https://localhost:8080/"
        },
        "id": "r0P1w9LNJYvS",
        "outputId": "0baba663-a374-4033-d9eb-fd422c0c356b"
      },
      "execution_count": 97,
      "outputs": [
        {
          "output_type": "stream",
          "name": "stdout",
          "text": [
            "웰컴\n"
          ]
        }
      ]
    },
    {
      "cell_type": "code",
      "source": [
        "if name = \"김땡땡\" :\n",
        "    print(\"웰컴\")"
      ],
      "metadata": {
        "colab": {
          "base_uri": "https://localhost:8080/",
          "height": 136
        },
        "id": "3SE-otDdJmVg",
        "outputId": "6f3502cc-7b11-4c20-846a-879bfc1f9aff"
      },
      "execution_count": 99,
      "outputs": [
        {
          "output_type": "error",
          "ename": "SyntaxError",
          "evalue": "ignored",
          "traceback": [
            "\u001b[0;36m  File \u001b[0;32m\"<ipython-input-99-8d6c73e7d0d7>\"\u001b[0;36m, line \u001b[0;32m1\u001b[0m\n\u001b[0;31m    if name = \"김땡땡\" :\u001b[0m\n\u001b[0m            ^\u001b[0m\n\u001b[0;31mSyntaxError\u001b[0m\u001b[0;31m:\u001b[0m invalid syntax\n"
          ]
        }
      ]
    },
    {
      "cell_type": "code",
      "source": [
        "if \"김\" in name:\n",
        "      print(\"웰컴\")"
      ],
      "metadata": {
        "colab": {
          "base_uri": "https://localhost:8080/"
        },
        "id": "bb1yStEaJqd0",
        "outputId": "71d91d90-3d1e-4cd6-ed67-7cc08da1b93f"
      },
      "execution_count": 100,
      "outputs": [
        {
          "output_type": "stream",
          "name": "stdout",
          "text": [
            "웰컴\n"
          ]
        }
      ]
    },
    {
      "cell_type": "markdown",
      "source": [
        "## 삼항연산자 (조건부 표현식"
      ],
      "metadata": {
        "id": "aBMnQnNvJ9KS"
      }
    },
    {
      "cell_type": "code",
      "source": [
        "a = None\n",
        "b = True\n",
        "if b:\n",
        "    a = 10\n",
        "else:\n",
        "    a = 100\n",
        "a"
      ],
      "metadata": {
        "colab": {
          "base_uri": "https://localhost:8080/"
        },
        "id": "9euc7FADJ6gS",
        "outputId": "b8bfc28a-ec08-4590-b93c-4e3eb29c8b5e"
      },
      "execution_count": 101,
      "outputs": [
        {
          "output_type": "execute_result",
          "data": {
            "text/plain": [
              "10"
            ]
          },
          "metadata": {},
          "execution_count": 101
        }
      ]
    },
    {
      "cell_type": "code",
      "source": [
        "a = 10 if b else 100 # (True 값) if (조건식) else (False 값)\n",
        "a"
      ],
      "metadata": {
        "colab": {
          "base_uri": "https://localhost:8080/"
        },
        "id": "E-19kn5-KMN_",
        "outputId": "40772552-1775-47f3-b930-5cbb5bbd3d2e"
      },
      "execution_count": 102,
      "outputs": [
        {
          "output_type": "execute_result",
          "data": {
            "text/plain": [
              "10"
            ]
          },
          "metadata": {},
          "execution_count": 102
        }
      ]
    },
    {
      "cell_type": "code",
      "source": [
        "a = \"환타\"\n",
        "\n",
        "if a == \"콜라\":\n",
        "    print(\"콜라 드세요\")\n",
        "elif a == \"사이다\":\n",
        "    print(\"사이다 드세요\")\n",
        "elif a == \"환타\":\n",
        "    print(\"환타 드세요\")"
      ],
      "metadata": {
        "colab": {
          "base_uri": "https://localhost:8080/"
        },
        "id": "CsKusEE4KnfG",
        "outputId": "281870ca-ad6f-4425-ea1c-9c6a7899335e"
      },
      "execution_count": 103,
      "outputs": [
        {
          "output_type": "stream",
          "name": "stdout",
          "text": [
            "환타 드세요\n"
          ]
        }
      ]
    },
    {
      "cell_type": "markdown",
      "source": [
        "# 반복문"
      ],
      "metadata": {
        "id": "9fffjrzMOB2Q"
      }
    },
    {
      "cell_type": "markdown",
      "source": [
        "## for"
      ],
      "metadata": {
        "id": "RanspwhfOI7h"
      }
    },
    {
      "cell_type": "code",
      "source": [
        "for i in range(10): # range랑 같이 쓰면 정수 -> i\n",
        "    print(i, end=\" \")"
      ],
      "metadata": {
        "colab": {
          "base_uri": "https://localhost:8080/"
        },
        "id": "Sil_UJGON86p",
        "outputId": "a8bfb0a5-8afe-48fe-bac7-21735f2c5534"
      },
      "execution_count": 105,
      "outputs": [
        {
          "output_type": "stream",
          "name": "stdout",
          "text": [
            "0 1 2 3 4 5 6 7 8 9 "
          ]
        }
      ]
    },
    {
      "cell_type": "code",
      "source": [
        "# range(n) : n회 반복\n",
        "for i in \"hello world\" : # range가 아닌 시퀀스형태의 자료형? list -> v, string -> c\n",
        "    print(i) # 루프를 돈다"
      ],
      "metadata": {
        "colab": {
          "base_uri": "https://localhost:8080/"
        },
        "id": "sqdqR9YlPCdm",
        "outputId": "923bc3d3-d313-4d01-f629-db969384c355"
      },
      "execution_count": 108,
      "outputs": [
        {
          "output_type": "stream",
          "name": "stdout",
          "text": [
            "h\n",
            "e\n",
            "l\n",
            "l\n",
            "o\n",
            " \n",
            "w\n",
            "o\n",
            "r\n",
            "l\n",
            "d\n"
          ]
        }
      ]
    },
    {
      "cell_type": "code",
      "source": [
        "a = [\"배\", \"사과\", \"바나나\"]\n",
        "for i in a:\n",
        "    print(i)"
      ],
      "metadata": {
        "colab": {
          "base_uri": "https://localhost:8080/"
        },
        "id": "GlYWIWMuOW-y",
        "outputId": "6ab0783c-93b0-4bf6-a15d-cf2d603da1fa"
      },
      "execution_count": 109,
      "outputs": [
        {
          "output_type": "stream",
          "name": "stdout",
          "text": [
            "배\n",
            "사과\n",
            "바나나\n"
          ]
        }
      ]
    },
    {
      "cell_type": "code",
      "source": [
        "for i in reversed(a): # reverse + ed : 새롭게 형성된 데이터\n",
        "    print(i)"
      ],
      "metadata": {
        "colab": {
          "base_uri": "https://localhost:8080/"
        },
        "id": "WjwggWtRPK2C",
        "outputId": "f6be9e7b-aeb5-4cd4-f9fe-18cb28d20f46"
      },
      "execution_count": 110,
      "outputs": [
        {
          "output_type": "stream",
          "name": "stdout",
          "text": [
            "바나나\n",
            "사과\n",
            "배\n"
          ]
        }
      ]
    },
    {
      "cell_type": "code",
      "source": [
        "a, list(reversed(a)), a[::-1]"
      ],
      "metadata": {
        "colab": {
          "base_uri": "https://localhost:8080/"
        },
        "id": "iGJEmmFCP96S",
        "outputId": "a89a2b02-ecc2-4b04-8053-8e64df3f5d07"
      },
      "execution_count": 112,
      "outputs": [
        {
          "output_type": "execute_result",
          "data": {
            "text/plain": [
              "(['배', '사과', '바나나'], ['바나나', '사과', '배'], ['바나나', '사과', '배'])"
            ]
          },
          "metadata": {},
          "execution_count": 112
        }
      ]
    },
    {
      "cell_type": "markdown",
      "source": [
        "## while"
      ],
      "metadata": {
        "id": "iQE8GPiIQS4x"
      }
    },
    {
      "cell_type": "code",
      "source": [
        "for i in range(10):\n",
        "    print(i, end= \" \")"
      ],
      "metadata": {
        "colab": {
          "base_uri": "https://localhost:8080/"
        },
        "id": "1UnG20StQSIs",
        "outputId": "1ef15418-aa0c-4d5e-c381-c66f851e3065"
      },
      "execution_count": 113,
      "outputs": [
        {
          "output_type": "stream",
          "name": "stdout",
          "text": [
            "0 1 2 3 4 5 6 7 8 9 "
          ]
        }
      ]
    },
    {
      "cell_type": "code",
      "source": [
        "'''\n",
        "for (i = 0; i < 10; i++) {\n",
        "    ...\n",
        "}\n",
        "'''"
      ],
      "metadata": {
        "id": "2PAXuEkhQyGC"
      },
      "execution_count": null,
      "outputs": []
    },
    {
      "cell_type": "code",
      "source": [
        "i = 0 # 초기식\n",
        "while i < 10: # while 조건식\n",
        "    print(i, end = \" \") # ...\n",
        "    i += 1 # 변화식"
      ],
      "metadata": {
        "colab": {
          "base_uri": "https://localhost:8080/"
        },
        "id": "Eys8DtAsQkIq",
        "outputId": "1652ccf4-72a8-4801-bf59-07b1b35d11b9"
      },
      "execution_count": 114,
      "outputs": [
        {
          "output_type": "stream",
          "name": "stdout",
          "text": [
            "0 1 2 3 4 5 6 7 8 9 "
          ]
        }
      ]
    },
    {
      "cell_type": "code",
      "source": [
        "money = 10000\n",
        "hit = 0\n",
        "while money > 0:\n",
        "    money -= 100\n",
        "    hit += 1\n",
        "    print(money, \"원 남았습니다\", hit, \"대 맞았습니다\")"
      ],
      "metadata": {
        "colab": {
          "base_uri": "https://localhost:8080/"
        },
        "id": "iL0j0oA2Qvxv",
        "outputId": "9e22ab0f-9bf5-4dc4-e29e-e0836f204c1f"
      },
      "execution_count": 115,
      "outputs": [
        {
          "output_type": "stream",
          "name": "stdout",
          "text": [
            "9900 원 남았습니다 1 대 맞았습니다\n",
            "9800 원 남았습니다 2 대 맞았습니다\n",
            "9700 원 남았습니다 3 대 맞았습니다\n",
            "9600 원 남았습니다 4 대 맞았습니다\n",
            "9500 원 남았습니다 5 대 맞았습니다\n",
            "9400 원 남았습니다 6 대 맞았습니다\n",
            "9300 원 남았습니다 7 대 맞았습니다\n",
            "9200 원 남았습니다 8 대 맞았습니다\n",
            "9100 원 남았습니다 9 대 맞았습니다\n",
            "9000 원 남았습니다 10 대 맞았습니다\n",
            "8900 원 남았습니다 11 대 맞았습니다\n",
            "8800 원 남았습니다 12 대 맞았습니다\n",
            "8700 원 남았습니다 13 대 맞았습니다\n",
            "8600 원 남았습니다 14 대 맞았습니다\n",
            "8500 원 남았습니다 15 대 맞았습니다\n",
            "8400 원 남았습니다 16 대 맞았습니다\n",
            "8300 원 남았습니다 17 대 맞았습니다\n",
            "8200 원 남았습니다 18 대 맞았습니다\n",
            "8100 원 남았습니다 19 대 맞았습니다\n",
            "8000 원 남았습니다 20 대 맞았습니다\n",
            "7900 원 남았습니다 21 대 맞았습니다\n",
            "7800 원 남았습니다 22 대 맞았습니다\n",
            "7700 원 남았습니다 23 대 맞았습니다\n",
            "7600 원 남았습니다 24 대 맞았습니다\n",
            "7500 원 남았습니다 25 대 맞았습니다\n",
            "7400 원 남았습니다 26 대 맞았습니다\n",
            "7300 원 남았습니다 27 대 맞았습니다\n",
            "7200 원 남았습니다 28 대 맞았습니다\n",
            "7100 원 남았습니다 29 대 맞았습니다\n",
            "7000 원 남았습니다 30 대 맞았습니다\n",
            "6900 원 남았습니다 31 대 맞았습니다\n",
            "6800 원 남았습니다 32 대 맞았습니다\n",
            "6700 원 남았습니다 33 대 맞았습니다\n",
            "6600 원 남았습니다 34 대 맞았습니다\n",
            "6500 원 남았습니다 35 대 맞았습니다\n",
            "6400 원 남았습니다 36 대 맞았습니다\n",
            "6300 원 남았습니다 37 대 맞았습니다\n",
            "6200 원 남았습니다 38 대 맞았습니다\n",
            "6100 원 남았습니다 39 대 맞았습니다\n",
            "6000 원 남았습니다 40 대 맞았습니다\n",
            "5900 원 남았습니다 41 대 맞았습니다\n",
            "5800 원 남았습니다 42 대 맞았습니다\n",
            "5700 원 남았습니다 43 대 맞았습니다\n",
            "5600 원 남았습니다 44 대 맞았습니다\n",
            "5500 원 남았습니다 45 대 맞았습니다\n",
            "5400 원 남았습니다 46 대 맞았습니다\n",
            "5300 원 남았습니다 47 대 맞았습니다\n",
            "5200 원 남았습니다 48 대 맞았습니다\n",
            "5100 원 남았습니다 49 대 맞았습니다\n",
            "5000 원 남았습니다 50 대 맞았습니다\n",
            "4900 원 남았습니다 51 대 맞았습니다\n",
            "4800 원 남았습니다 52 대 맞았습니다\n",
            "4700 원 남았습니다 53 대 맞았습니다\n",
            "4600 원 남았습니다 54 대 맞았습니다\n",
            "4500 원 남았습니다 55 대 맞았습니다\n",
            "4400 원 남았습니다 56 대 맞았습니다\n",
            "4300 원 남았습니다 57 대 맞았습니다\n",
            "4200 원 남았습니다 58 대 맞았습니다\n",
            "4100 원 남았습니다 59 대 맞았습니다\n",
            "4000 원 남았습니다 60 대 맞았습니다\n",
            "3900 원 남았습니다 61 대 맞았습니다\n",
            "3800 원 남았습니다 62 대 맞았습니다\n",
            "3700 원 남았습니다 63 대 맞았습니다\n",
            "3600 원 남았습니다 64 대 맞았습니다\n",
            "3500 원 남았습니다 65 대 맞았습니다\n",
            "3400 원 남았습니다 66 대 맞았습니다\n",
            "3300 원 남았습니다 67 대 맞았습니다\n",
            "3200 원 남았습니다 68 대 맞았습니다\n",
            "3100 원 남았습니다 69 대 맞았습니다\n",
            "3000 원 남았습니다 70 대 맞았습니다\n",
            "2900 원 남았습니다 71 대 맞았습니다\n",
            "2800 원 남았습니다 72 대 맞았습니다\n",
            "2700 원 남았습니다 73 대 맞았습니다\n",
            "2600 원 남았습니다 74 대 맞았습니다\n",
            "2500 원 남았습니다 75 대 맞았습니다\n",
            "2400 원 남았습니다 76 대 맞았습니다\n",
            "2300 원 남았습니다 77 대 맞았습니다\n",
            "2200 원 남았습니다 78 대 맞았습니다\n",
            "2100 원 남았습니다 79 대 맞았습니다\n",
            "2000 원 남았습니다 80 대 맞았습니다\n",
            "1900 원 남았습니다 81 대 맞았습니다\n",
            "1800 원 남았습니다 82 대 맞았습니다\n",
            "1700 원 남았습니다 83 대 맞았습니다\n",
            "1600 원 남았습니다 84 대 맞았습니다\n",
            "1500 원 남았습니다 85 대 맞았습니다\n",
            "1400 원 남았습니다 86 대 맞았습니다\n",
            "1300 원 남았습니다 87 대 맞았습니다\n",
            "1200 원 남았습니다 88 대 맞았습니다\n",
            "1100 원 남았습니다 89 대 맞았습니다\n",
            "1000 원 남았습니다 90 대 맞았습니다\n",
            "900 원 남았습니다 91 대 맞았습니다\n",
            "800 원 남았습니다 92 대 맞았습니다\n",
            "700 원 남았습니다 93 대 맞았습니다\n",
            "600 원 남았습니다 94 대 맞았습니다\n",
            "500 원 남았습니다 95 대 맞았습니다\n",
            "400 원 남았습니다 96 대 맞았습니다\n",
            "300 원 남았습니다 97 대 맞았습니다\n",
            "200 원 남았습니다 98 대 맞았습니다\n",
            "100 원 남았습니다 99 대 맞았습니다\n",
            "0 원 남았습니다 100 대 맞았습니다\n"
          ]
        }
      ]
    },
    {
      "cell_type": "markdown",
      "source": [
        "## break, continue"
      ],
      "metadata": {
        "id": "uSMkH69nTKVI"
      }
    },
    {
      "cell_type": "code",
      "source": [
        "for i in range(1000) :\n",
        "    print(i, i ** 2)\n",
        "    if i ** 2 > 1000:\n",
        "        break"
      ],
      "metadata": {
        "colab": {
          "base_uri": "https://localhost:8080/"
        },
        "id": "4fqW61q7SRD7",
        "outputId": "8b1c731e-9a3d-4798-c39e-f45864ee0921"
      },
      "execution_count": 116,
      "outputs": [
        {
          "output_type": "stream",
          "name": "stdout",
          "text": [
            "0 0\n",
            "1 1\n",
            "2 4\n",
            "3 9\n",
            "4 16\n",
            "5 25\n",
            "6 36\n",
            "7 49\n",
            "8 64\n",
            "9 81\n",
            "10 100\n",
            "11 121\n",
            "12 144\n",
            "13 169\n",
            "14 196\n",
            "15 225\n",
            "16 256\n",
            "17 289\n",
            "18 324\n",
            "19 361\n",
            "20 400\n",
            "21 441\n",
            "22 484\n",
            "23 529\n",
            "24 576\n",
            "25 625\n",
            "26 676\n",
            "27 729\n",
            "28 784\n",
            "29 841\n",
            "30 900\n",
            "31 961\n",
            "32 1024\n"
          ]
        }
      ]
    },
    {
      "cell_type": "code",
      "source": [
        "for i in range(1, 1000) :\n",
        "    if i % 2 == 0:\n",
        "        continue\n",
        "    print(i, end=' ')"
      ],
      "metadata": {
        "colab": {
          "base_uri": "https://localhost:8080/"
        },
        "id": "ozbD4UmcSpCu",
        "outputId": "d69f4491-c95d-44c5-daec-40a1024d89d9"
      },
      "execution_count": 118,
      "outputs": [
        {
          "output_type": "stream",
          "name": "stdout",
          "text": [
            "1 3 5 7 9 11 13 15 17 19 21 23 25 27 29 31 33 35 37 39 41 43 45 47 49 51 53 55 57 59 61 63 65 67 69 71 73 75 77 79 81 83 85 87 89 91 93 95 97 99 101 103 105 107 109 111 113 115 117 119 121 123 125 127 129 131 133 135 137 139 141 143 145 147 149 151 153 155 157 159 161 163 165 167 169 171 173 175 177 179 181 183 185 187 189 191 193 195 197 199 201 203 205 207 209 211 213 215 217 219 221 223 225 227 229 231 233 235 237 239 241 243 245 247 249 251 253 255 257 259 261 263 265 267 269 271 273 275 277 279 281 283 285 287 289 291 293 295 297 299 301 303 305 307 309 311 313 315 317 319 321 323 325 327 329 331 333 335 337 339 341 343 345 347 349 351 353 355 357 359 361 363 365 367 369 371 373 375 377 379 381 383 385 387 389 391 393 395 397 399 401 403 405 407 409 411 413 415 417 419 421 423 425 427 429 431 433 435 437 439 441 443 445 447 449 451 453 455 457 459 461 463 465 467 469 471 473 475 477 479 481 483 485 487 489 491 493 495 497 499 501 503 505 507 509 511 513 515 517 519 521 523 525 527 529 531 533 535 537 539 541 543 545 547 549 551 553 555 557 559 561 563 565 567 569 571 573 575 577 579 581 583 585 587 589 591 593 595 597 599 601 603 605 607 609 611 613 615 617 619 621 623 625 627 629 631 633 635 637 639 641 643 645 647 649 651 653 655 657 659 661 663 665 667 669 671 673 675 677 679 681 683 685 687 689 691 693 695 697 699 701 703 705 707 709 711 713 715 717 719 721 723 725 727 729 731 733 735 737 739 741 743 745 747 749 751 753 755 757 759 761 763 765 767 769 771 773 775 777 779 781 783 785 787 789 791 793 795 797 799 801 803 805 807 809 811 813 815 817 819 821 823 825 827 829 831 833 835 837 839 841 843 845 847 849 851 853 855 857 859 861 863 865 867 869 871 873 875 877 879 881 883 885 887 889 891 893 895 897 899 901 903 905 907 909 911 913 915 917 919 921 923 925 927 929 931 933 935 937 939 941 943 945 947 949 951 953 955 957 959 961 963 965 967 969 971 973 975 977 979 981 983 985 987 989 991 993 995 997 999 "
          ]
        }
      ]
    },
    {
      "cell_type": "code",
      "source": [
        "for i in range(1, 1000) :\n",
        "    if i % 3 != 0: # 3의 배수가 아닌 것들을 필터링\n",
        "        continue\n",
        "    print(i, end=' ')"
      ],
      "metadata": {
        "colab": {
          "base_uri": "https://localhost:8080/"
        },
        "id": "38bpvtJVTCHh",
        "outputId": "4fe43947-0153-4526-acb4-ae6dc1703e59"
      },
      "execution_count": 119,
      "outputs": [
        {
          "output_type": "stream",
          "name": "stdout",
          "text": [
            "3 6 9 12 15 18 21 24 27 30 33 36 39 42 45 48 51 54 57 60 63 66 69 72 75 78 81 84 87 90 93 96 99 102 105 108 111 114 117 120 123 126 129 132 135 138 141 144 147 150 153 156 159 162 165 168 171 174 177 180 183 186 189 192 195 198 201 204 207 210 213 216 219 222 225 228 231 234 237 240 243 246 249 252 255 258 261 264 267 270 273 276 279 282 285 288 291 294 297 300 303 306 309 312 315 318 321 324 327 330 333 336 339 342 345 348 351 354 357 360 363 366 369 372 375 378 381 384 387 390 393 396 399 402 405 408 411 414 417 420 423 426 429 432 435 438 441 444 447 450 453 456 459 462 465 468 471 474 477 480 483 486 489 492 495 498 501 504 507 510 513 516 519 522 525 528 531 534 537 540 543 546 549 552 555 558 561 564 567 570 573 576 579 582 585 588 591 594 597 600 603 606 609 612 615 618 621 624 627 630 633 636 639 642 645 648 651 654 657 660 663 666 669 672 675 678 681 684 687 690 693 696 699 702 705 708 711 714 717 720 723 726 729 732 735 738 741 744 747 750 753 756 759 762 765 768 771 774 777 780 783 786 789 792 795 798 801 804 807 810 813 816 819 822 825 828 831 834 837 840 843 846 849 852 855 858 861 864 867 870 873 876 879 882 885 888 891 894 897 900 903 906 909 912 915 918 921 924 927 930 933 936 939 942 945 948 951 954 957 960 963 966 969 972 975 978 981 984 987 990 993 996 999 "
          ]
        }
      ]
    },
    {
      "cell_type": "code",
      "source": [
        "i = 0\n",
        "while True:\n",
        "    i += 1\n",
        "    print(i)\n",
        "    if i > 10:\n",
        "        break"
      ],
      "metadata": {
        "colab": {
          "base_uri": "https://localhost:8080/"
        },
        "id": "LTmGg6WbS3nH",
        "outputId": "9ead11d2-71b9-497e-a26a-d36a421f4ee4"
      },
      "execution_count": 120,
      "outputs": [
        {
          "output_type": "stream",
          "name": "stdout",
          "text": [
            "1\n",
            "2\n",
            "3\n",
            "4\n",
            "5\n",
            "6\n",
            "7\n",
            "8\n",
            "9\n",
            "10\n",
            "11\n"
          ]
        }
      ]
    },
    {
      "cell_type": "code",
      "source": [
        "money = 10000\n",
        "hit = 0\n",
        "while money > 0:\n",
        "    money -= 100\n",
        "    print(money, \"원 남았습니다\")\n",
        "    if money % 1000 == 0:\n",
        "        print(\"피했습니다\")\n",
        "        continue\n",
        "    hit += 1\n",
        "    print(hit, \"대 맞았습니다\")"
      ],
      "metadata": {
        "colab": {
          "base_uri": "https://localhost:8080/"
        },
        "id": "MuF8X_NXTbpr",
        "outputId": "44d609d2-c919-42b4-b6aa-dd41032ef005"
      },
      "execution_count": 121,
      "outputs": [
        {
          "output_type": "stream",
          "name": "stdout",
          "text": [
            "9900 원 남았습니다\n",
            "1 대 맞았습니다\n",
            "9800 원 남았습니다\n",
            "2 대 맞았습니다\n",
            "9700 원 남았습니다\n",
            "3 대 맞았습니다\n",
            "9600 원 남았습니다\n",
            "4 대 맞았습니다\n",
            "9500 원 남았습니다\n",
            "5 대 맞았습니다\n",
            "9400 원 남았습니다\n",
            "6 대 맞았습니다\n",
            "9300 원 남았습니다\n",
            "7 대 맞았습니다\n",
            "9200 원 남았습니다\n",
            "8 대 맞았습니다\n",
            "9100 원 남았습니다\n",
            "9 대 맞았습니다\n",
            "9000 원 남았습니다\n",
            "피했습니다\n",
            "8900 원 남았습니다\n",
            "10 대 맞았습니다\n",
            "8800 원 남았습니다\n",
            "11 대 맞았습니다\n",
            "8700 원 남았습니다\n",
            "12 대 맞았습니다\n",
            "8600 원 남았습니다\n",
            "13 대 맞았습니다\n",
            "8500 원 남았습니다\n",
            "14 대 맞았습니다\n",
            "8400 원 남았습니다\n",
            "15 대 맞았습니다\n",
            "8300 원 남았습니다\n",
            "16 대 맞았습니다\n",
            "8200 원 남았습니다\n",
            "17 대 맞았습니다\n",
            "8100 원 남았습니다\n",
            "18 대 맞았습니다\n",
            "8000 원 남았습니다\n",
            "피했습니다\n",
            "7900 원 남았습니다\n",
            "19 대 맞았습니다\n",
            "7800 원 남았습니다\n",
            "20 대 맞았습니다\n",
            "7700 원 남았습니다\n",
            "21 대 맞았습니다\n",
            "7600 원 남았습니다\n",
            "22 대 맞았습니다\n",
            "7500 원 남았습니다\n",
            "23 대 맞았습니다\n",
            "7400 원 남았습니다\n",
            "24 대 맞았습니다\n",
            "7300 원 남았습니다\n",
            "25 대 맞았습니다\n",
            "7200 원 남았습니다\n",
            "26 대 맞았습니다\n",
            "7100 원 남았습니다\n",
            "27 대 맞았습니다\n",
            "7000 원 남았습니다\n",
            "피했습니다\n",
            "6900 원 남았습니다\n",
            "28 대 맞았습니다\n",
            "6800 원 남았습니다\n",
            "29 대 맞았습니다\n",
            "6700 원 남았습니다\n",
            "30 대 맞았습니다\n",
            "6600 원 남았습니다\n",
            "31 대 맞았습니다\n",
            "6500 원 남았습니다\n",
            "32 대 맞았습니다\n",
            "6400 원 남았습니다\n",
            "33 대 맞았습니다\n",
            "6300 원 남았습니다\n",
            "34 대 맞았습니다\n",
            "6200 원 남았습니다\n",
            "35 대 맞았습니다\n",
            "6100 원 남았습니다\n",
            "36 대 맞았습니다\n",
            "6000 원 남았습니다\n",
            "피했습니다\n",
            "5900 원 남았습니다\n",
            "37 대 맞았습니다\n",
            "5800 원 남았습니다\n",
            "38 대 맞았습니다\n",
            "5700 원 남았습니다\n",
            "39 대 맞았습니다\n",
            "5600 원 남았습니다\n",
            "40 대 맞았습니다\n",
            "5500 원 남았습니다\n",
            "41 대 맞았습니다\n",
            "5400 원 남았습니다\n",
            "42 대 맞았습니다\n",
            "5300 원 남았습니다\n",
            "43 대 맞았습니다\n",
            "5200 원 남았습니다\n",
            "44 대 맞았습니다\n",
            "5100 원 남았습니다\n",
            "45 대 맞았습니다\n",
            "5000 원 남았습니다\n",
            "피했습니다\n",
            "4900 원 남았습니다\n",
            "46 대 맞았습니다\n",
            "4800 원 남았습니다\n",
            "47 대 맞았습니다\n",
            "4700 원 남았습니다\n",
            "48 대 맞았습니다\n",
            "4600 원 남았습니다\n",
            "49 대 맞았습니다\n",
            "4500 원 남았습니다\n",
            "50 대 맞았습니다\n",
            "4400 원 남았습니다\n",
            "51 대 맞았습니다\n",
            "4300 원 남았습니다\n",
            "52 대 맞았습니다\n",
            "4200 원 남았습니다\n",
            "53 대 맞았습니다\n",
            "4100 원 남았습니다\n",
            "54 대 맞았습니다\n",
            "4000 원 남았습니다\n",
            "피했습니다\n",
            "3900 원 남았습니다\n",
            "55 대 맞았습니다\n",
            "3800 원 남았습니다\n",
            "56 대 맞았습니다\n",
            "3700 원 남았습니다\n",
            "57 대 맞았습니다\n",
            "3600 원 남았습니다\n",
            "58 대 맞았습니다\n",
            "3500 원 남았습니다\n",
            "59 대 맞았습니다\n",
            "3400 원 남았습니다\n",
            "60 대 맞았습니다\n",
            "3300 원 남았습니다\n",
            "61 대 맞았습니다\n",
            "3200 원 남았습니다\n",
            "62 대 맞았습니다\n",
            "3100 원 남았습니다\n",
            "63 대 맞았습니다\n",
            "3000 원 남았습니다\n",
            "피했습니다\n",
            "2900 원 남았습니다\n",
            "64 대 맞았습니다\n",
            "2800 원 남았습니다\n",
            "65 대 맞았습니다\n",
            "2700 원 남았습니다\n",
            "66 대 맞았습니다\n",
            "2600 원 남았습니다\n",
            "67 대 맞았습니다\n",
            "2500 원 남았습니다\n",
            "68 대 맞았습니다\n",
            "2400 원 남았습니다\n",
            "69 대 맞았습니다\n",
            "2300 원 남았습니다\n",
            "70 대 맞았습니다\n",
            "2200 원 남았습니다\n",
            "71 대 맞았습니다\n",
            "2100 원 남았습니다\n",
            "72 대 맞았습니다\n",
            "2000 원 남았습니다\n",
            "피했습니다\n",
            "1900 원 남았습니다\n",
            "73 대 맞았습니다\n",
            "1800 원 남았습니다\n",
            "74 대 맞았습니다\n",
            "1700 원 남았습니다\n",
            "75 대 맞았습니다\n",
            "1600 원 남았습니다\n",
            "76 대 맞았습니다\n",
            "1500 원 남았습니다\n",
            "77 대 맞았습니다\n",
            "1400 원 남았습니다\n",
            "78 대 맞았습니다\n",
            "1300 원 남았습니다\n",
            "79 대 맞았습니다\n",
            "1200 원 남았습니다\n",
            "80 대 맞았습니다\n",
            "1100 원 남았습니다\n",
            "81 대 맞았습니다\n",
            "1000 원 남았습니다\n",
            "피했습니다\n",
            "900 원 남았습니다\n",
            "82 대 맞았습니다\n",
            "800 원 남았습니다\n",
            "83 대 맞았습니다\n",
            "700 원 남았습니다\n",
            "84 대 맞았습니다\n",
            "600 원 남았습니다\n",
            "85 대 맞았습니다\n",
            "500 원 남았습니다\n",
            "86 대 맞았습니다\n",
            "400 원 남았습니다\n",
            "87 대 맞았습니다\n",
            "300 원 남았습니다\n",
            "88 대 맞았습니다\n",
            "200 원 남았습니다\n",
            "89 대 맞았습니다\n",
            "100 원 남았습니다\n",
            "90 대 맞았습니다\n",
            "0 원 남았습니다\n",
            "피했습니다\n"
          ]
        }
      ]
    }
  ]
}