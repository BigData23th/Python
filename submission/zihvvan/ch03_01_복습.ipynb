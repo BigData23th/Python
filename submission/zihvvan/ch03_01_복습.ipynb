{
  "nbformat": 4,
  "nbformat_minor": 0,
  "metadata": {
    "colab": {
      "provenance": [],
      "authorship_tag": "ABX9TyMTwhf45p+MAEO+7baIlh7a",
      "include_colab_link": true
    },
    "kernelspec": {
      "name": "python3",
      "display_name": "Python 3"
    },
    "language_info": {
      "name": "python"
    }
  },
  "cells": [
    {
      "cell_type": "markdown",
      "metadata": {
        "id": "view-in-github",
        "colab_type": "text"
      },
      "source": [
        "<a href=\"https://colab.research.google.com/github/zihvvan/Python/blob/main/submission/zihvvan/ch03_01_%EB%B3%B5%EC%8A%B5.ipynb\" target=\"_parent\"><img src=\"https://colab.research.google.com/assets/colab-badge.svg\" alt=\"Open In Colab\"/></a>"
      ]
    },
    {
      "cell_type": "markdown",
      "source": [
        "# 함수"
      ],
      "metadata": {
        "id": "ed3FOAdLpqo0"
      }
    },
    {
      "cell_type": "code",
      "execution_count": 30,
      "metadata": {
        "id": "yS7WE-I3piev"
      },
      "outputs": [],
      "source": [
        "import random\n",
        "\n",
        "subjects = [\n",
        "            \"여러분, 취업 준비하셔야해요!\",\n",
        "            \"자격증은 스터디 짜셧어요?\",\n",
        "            \"왜 깃허브에 회고 안올려요??\",\n",
        "            \"사람들이 왜 자꾸 나가지 ㅜㅠ\",\n",
        "            \"오늘 주식은 많이 오르지 않네요\",\n",
        "\n",
        "]\n",
        "\n",
        "learning = {\n",
        "    \"문자열\" : \"split, replace...\",\n",
        "    \"리스트\" : \"append, extend...\",\n",
        "    \"딕셔너리\" : \"get, update...\" \n",
        "\n",
        "}\n",
        "\n",
        "def study() : # 상위모듈\n",
        "    energy = random.randint(1, 10)\n",
        "    print(hello(energy)) # 하위모듈\n",
        "    energy -= 1\n",
        "    # random. choices(뽑히는 대상-모집단, k=뽑는수)\n",
        "    chat(energy, *subjects, k=2) # *리스트 언패킹\n",
        "    lecture(**learning)\n",
        "    print(*bye(), sep =' ')\n",
        "\n",
        "# def hello():\n",
        "#     return \"좋은 아침입니다 여러분\"\n",
        "\n",
        "# def chat(repeat, *args):\n",
        "#     pass\n",
        "\n",
        "# def lecture():\n",
        "#     pass\n",
        "\n",
        "def bye():\n",
        "    return \"10분 쉬겠습니다\", \"PR 보내주세요\""
      ]
    },
    {
      "cell_type": "code",
      "source": [
        "def hello(energy = 5):\n",
        "    # 0 ~ 10\n",
        "    if energy == 10:\n",
        "        return \"여러분! 오늘은 제가 커피 쏠까요?\" # return -> 더이상 뒤로 진행 X\n",
        "    if energy > 5:\n",
        "        return \"^_^ 오늘 점심메뉴 알려드릴까요?\"\n",
        "    return \"... (무표정)\""
      ],
      "metadata": {
        "id": "3xrE67knqirL"
      },
      "execution_count": 31,
      "outputs": []
    },
    {
      "cell_type": "code",
      "source": [
        "def chat(repeat, *args, k=2):\n",
        "    for i in range(repeat):\n",
        "        print(f\"* 제가 {i+1}번째 이야기하는 것 같은데...\")\n",
        "        # for j in args:\n",
        "        #     print(j)\n",
        "        choices = random.choices(args, k=k)\n",
        "        for j in choices:\n",
        "            print(f\"** {j}\")"
      ],
      "metadata": {
        "id": "0bLWAaxXrnsH"
      },
      "execution_count": 32,
      "outputs": []
    },
    {
      "cell_type": "code",
      "source": [
        "def lecture(**kwargs):\n",
        "    # for k, v in kwargs:\n",
        "    #   print('*** 자, 진도 나가겠습니다')\n",
        "    #   print(f'*** {k}에서 {v}를 배워봅시다')\n",
        "    for k, v in enumerate (kwargs.items()):\n",
        "      print('*** 자, 진도 나가겠습니다')\n",
        "      print(f'*** {k}에서 {v}를 배워봅시다')"
      ],
      "metadata": {
        "id": "SHuPxunJtkgr"
      },
      "execution_count": 33,
      "outputs": []
    },
    {
      "cell_type": "code",
      "source": [
        "study()"
      ],
      "metadata": {
        "colab": {
          "base_uri": "https://localhost:8080/"
        },
        "id": "apCu0FOlrDA9",
        "outputId": "65507234-fc6a-469d-9fc2-3240697a6923"
      },
      "execution_count": 34,
      "outputs": [
        {
          "output_type": "stream",
          "name": "stdout",
          "text": [
            "여러분! 오늘은 제가 커피 쏠까요?\n",
            "* 제가 1번째 이야기하는 것 같은데...\n",
            "** 오늘 주식은 많이 오르지 않네요\n",
            "** 왜 깃허브에 회고 안올려요??\n",
            "* 제가 2번째 이야기하는 것 같은데...\n",
            "** 사람들이 왜 자꾸 나가지 ㅜㅠ\n",
            "** 오늘 주식은 많이 오르지 않네요\n",
            "* 제가 3번째 이야기하는 것 같은데...\n",
            "** 여러분, 취업 준비하셔야해요!\n",
            "** 여러분, 취업 준비하셔야해요!\n",
            "* 제가 4번째 이야기하는 것 같은데...\n",
            "** 여러분, 취업 준비하셔야해요!\n",
            "** 사람들이 왜 자꾸 나가지 ㅜㅠ\n",
            "* 제가 5번째 이야기하는 것 같은데...\n",
            "** 왜 깃허브에 회고 안올려요??\n",
            "** 왜 깃허브에 회고 안올려요??\n",
            "* 제가 6번째 이야기하는 것 같은데...\n",
            "** 사람들이 왜 자꾸 나가지 ㅜㅠ\n",
            "** 여러분, 취업 준비하셔야해요!\n",
            "* 제가 7번째 이야기하는 것 같은데...\n",
            "** 여러분, 취업 준비하셔야해요!\n",
            "** 사람들이 왜 자꾸 나가지 ㅜㅠ\n",
            "* 제가 8번째 이야기하는 것 같은데...\n",
            "** 자격증은 스터디 짜셧어요?\n",
            "** 사람들이 왜 자꾸 나가지 ㅜㅠ\n",
            "* 제가 9번째 이야기하는 것 같은데...\n",
            "** 사람들이 왜 자꾸 나가지 ㅜㅠ\n",
            "** 사람들이 왜 자꾸 나가지 ㅜㅠ\n",
            "*** 자, 진도 나가겠습니다\n",
            "*** 0에서 ('문자열', 'split, replace...')를 배워봅시다\n",
            "*** 자, 진도 나가겠습니다\n",
            "*** 1에서 ('리스트', 'append, extend...')를 배워봅시다\n",
            "*** 자, 진도 나가겠습니다\n",
            "*** 2에서 ('딕셔너리', 'get, update...')를 배워봅시다\n",
            "10분 쉬겠습니다 PR 보내주세요\n"
          ]
        }
      ]
    }
  ]
}