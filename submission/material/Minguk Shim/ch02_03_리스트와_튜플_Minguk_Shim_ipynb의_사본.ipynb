{
  "nbformat": 4,
  "nbformat_minor": 0,
  "metadata": {
    "colab": {
      "provenance": [],
      "toc_visible": true,
      "include_colab_link": true
    },
    "kernelspec": {
      "name": "python3",
      "display_name": "Python 3"
    },
    "language_info": {
      "name": "python"
    }
  },
  "cells": [
    {
      "cell_type": "markdown",
      "metadata": {
        "id": "view-in-github",
        "colab_type": "text"
      },
      "source": [
        "<a href=\"https://colab.research.google.com/github/MingukShim/Python/blob/main/submission/material/Minguk%20Shim/ch02_03_%EB%A6%AC%EC%8A%A4%ED%8A%B8%EC%99%80_%ED%8A%9C%ED%94%8C_Minguk_Shim_ipynb%EC%9D%98_%EC%82%AC%EB%B3%B8.ipynb\" target=\"_parent\"><img src=\"https://colab.research.google.com/assets/colab-badge.svg\" alt=\"Open In Colab\"/></a>"
      ]
    },
    {
      "cell_type": "markdown",
      "source": [
        "# 리스트와 튜플"
      ],
      "metadata": {
        "id": "rpejigQyBKBD"
      }
    },
    {
      "cell_type": "markdown",
      "source": [
        "## 리스트"
      ],
      "metadata": {
        "id": "-WvT7vrYD-Dl"
      }
    },
    {
      "cell_type": "code",
      "source": [
        "# 지금까지 변수에는 값을 한 개씩만 저장했습니다.\n",
        "a = 10\n",
        "b = 20\n",
        "a, b"
      ],
      "metadata": {
        "id": "UuTnnDhqECRP",
        "colab": {
          "base_uri": "https://localhost:8080/"
        },
        "outputId": "6f35696b-030a-4298-e9b0-8e6c273a1a5c"
      },
      "execution_count": 1,
      "outputs": [
        {
          "output_type": "execute_result",
          "data": {
            "text/plain": [
              "(10, 20)"
            ]
          },
          "metadata": {},
          "execution_count": 1
        }
      ]
    },
    {
      "cell_type": "markdown",
      "source": [
        "* 그럼 값을 30개 저장하려면 어떻게 해야 할까요? 다음과 같이 변수 30개에 값 30개를 저장하면 됩니다.\n",
        "```\n",
        "a1 = 10\n",
        "a2 = 20\n",
        "# ... (생략)\n",
        "a29 = 60\n",
        "a30 = 40\n",
        "```"
      ],
      "metadata": {
        "id": "Nh6lP7k_EGCr"
      }
    },
    {
      "cell_type": "markdown",
      "source": [
        "* 변수 30개를 일일이 타이핑하기는 쉽지 않습니다. 만약 저장할 값이 3,000개라면 정말 끔찍하죠? 이때는 리스트를 사용하면 편리합니다. 리스트는 말 그대로 목록이라는 뜻이며 값을 일렬로 늘어놓은 형태입니다(보통 리스트의 값은 코드로 생성하는 경우가 많아서 타이핑할 일이 거의 없습니다)."
      ],
      "metadata": {
        "id": "j4byPm3dEKdA"
      }
    },
    {
      "cell_type": "markdown",
      "source": [
        "### 리스트 만들기"
      ],
      "metadata": {
        "id": "KHHGXxjAEMXq"
      }
    },
    {
      "cell_type": "markdown",
      "source": [
        "* 변수에 값을 저장할 때 `[ ](대괄호)`로 묶어주면 리스트가 되며 각 값은 ,(콤마)로 구분해줍니다.\n",
        "* `리스트 = [값, 값, 값]`"
      ],
      "metadata": {
        "id": "_gtk5PtXEPCo"
      }
    },
    {
      "cell_type": "code",
      "source": [
        "a = [38, 21, 53, 12, 10]\n",
        "a"
      ],
      "metadata": {
        "colab": {
          "base_uri": "https://localhost:8080/"
        },
        "id": "1klyiTCWEERd",
        "outputId": "25bfc2df-9345-4225-f1d2-e527c0d862e7"
      },
      "execution_count": 2,
      "outputs": [
        {
          "output_type": "execute_result",
          "data": {
            "text/plain": [
              "[38, 21, 53, 12, 10]"
            ]
          },
          "metadata": {},
          "execution_count": 2
        }
      ]
    },
    {
      "cell_type": "markdown",
      "source": [
        "* 변수에 [ ]로 값을 저장하여 리스트를 만들었습니다. 특히 리스트에 저장된 각 값 요소(element)라고 부릅니다."
      ],
      "metadata": {
        "id": "REuBOmhgEX4z"
      }
    },
    {
      "cell_type": "markdown",
      "source": [
        "### 리스트에 여러 가지 자료형 저장하기"
      ],
      "metadata": {
        "id": "ETuPBYKXErbd"
      }
    },
    {
      "cell_type": "markdown",
      "source": [
        "* 리스트는 문자열, 정수, 실수, 불 등 모든 자료형을 저장할 수 있으며 자료형을 섞어서 저장해도 됩니다"
      ],
      "metadata": {
        "id": "W9opLHQyEvia"
      }
    },
    {
      "cell_type": "code",
      "source": [
        "person = [\"james\", 17, 173.3, True]\n",
        "\n",
        "person"
      ],
      "metadata": {
        "colab": {
          "base_uri": "https://localhost:8080/"
        },
        "id": "ODIyYRhfEUTT",
        "outputId": "d19a889e-6c19-4b9a-d890-59f09053385d"
      },
      "execution_count": 5,
      "outputs": [
        {
          "output_type": "execute_result",
          "data": {
            "text/plain": [
              "['james', 17, 173.3, True]"
            ]
          },
          "metadata": {},
          "execution_count": 5
        }
      ]
    },
    {
      "cell_type": "markdown",
      "source": [
        "* 이처럼 리스트에 여러 가지 자료형을 사용하면 관련 정보를 하나로 묶기 좋습니다."
      ],
      "metadata": {
        "id": "Y9Qf42IUE10k"
      }
    },
    {
      "cell_type": "markdown",
      "source": [
        "### 빈 리스트 만들기"
      ],
      "metadata": {
        "id": "xePAyI-rE3_6"
      }
    },
    {
      "cell_type": "markdown",
      "source": [
        "* 빈 리스트를 만들 때는 [ ]만 지정하거나 list를 사용하면 됩니다.\n",
        "\n",
        "* `리스트 = []`\n",
        "* `리스트 = list()`"
      ],
      "metadata": {
        "id": "LuKod7kbE6xg"
      }
    },
    {
      "cell_type": "code",
      "source": [
        "a = []\n",
        "a"
      ],
      "metadata": {
        "colab": {
          "base_uri": "https://localhost:8080/"
        },
        "id": "oD0edqZwEy64",
        "outputId": "7f8ba4f5-db3a-41f4-e798-2113bae31915"
      },
      "execution_count": 6,
      "outputs": [
        {
          "output_type": "execute_result",
          "data": {
            "text/plain": [
              "[]"
            ]
          },
          "metadata": {},
          "execution_count": 6
        }
      ]
    },
    {
      "cell_type": "code",
      "source": [
        "b = list()\n",
        "b"
      ],
      "metadata": {
        "colab": {
          "base_uri": "https://localhost:8080/"
        },
        "id": "T2U4OwhGFEhw",
        "outputId": "8f27d9e8-5ae0-4c35-f11a-27457c910761"
      },
      "execution_count": 8,
      "outputs": [
        {
          "output_type": "execute_result",
          "data": {
            "text/plain": [
              "[]"
            ]
          },
          "metadata": {},
          "execution_count": 8
        }
      ]
    },
    {
      "cell_type": "markdown",
      "source": [
        "* 빈 리스트는 쓸모가 없을 것 같지만, 보통 빈 리스트를 만들어 놓은 뒤에 새 값을 추가하는 방식으로 사용합니다."
      ],
      "metadata": {
        "id": "2K0xjDzwFIh2"
      }
    },
    {
      "cell_type": "markdown",
      "source": [
        "### range를 사용하여 리스트 만들기"
      ],
      "metadata": {
        "id": "CuPOQWpBFMVM"
      }
    },
    {
      "cell_type": "markdown",
      "source": [
        "* 이번에는 range를 사용하여 리스트를 만들어보겠습니다. range는 연속된 숫자를 생성하는데 range에 10을 지정하면 0부터 9까지 숫자를 생성합니다. 즉, 지정한 횟수 숫자는 생성되는 숫자에 포함되지 않습니다.\n",
        "* `range(횟수)`"
      ],
      "metadata": {
        "id": "c5aXewFbFPwe"
      }
    },
    {
      "cell_type": "code",
      "source": [],
      "metadata": {
        "id": "Snmp84id7RUE"
      },
      "execution_count": null,
      "outputs": []
    },
    {
      "cell_type": "code",
      "source": [
        "range(10) # range(n) : 0부터 n 직전까지의 숫자를 생성\n"
      ],
      "metadata": {
        "colab": {
          "base_uri": "https://localhost:8080/"
        },
        "id": "HoaRuru6FFFI",
        "outputId": "acbb2d7a-e123-41ff-caf8-62357799268e"
      },
      "execution_count": 10,
      "outputs": [
        {
          "output_type": "execute_result",
          "data": {
            "text/plain": [
              "range(0, 10)"
            ]
          },
          "metadata": {},
          "execution_count": 10
        }
      ]
    },
    {
      "cell_type": "markdown",
      "source": [
        "* range(0, 10)이라고 나와서 10까지 생성될 것 같지만 10은 포함되지 않습니다. 다음과 같이 list에 range(10)을 넣어보면 0부터 9까지 들어있는 리스트가 생성됩니다.\n",
        "* `리스트 = list(range(횟수))`"
      ],
      "metadata": {
        "id": "rwZyIDorFX_h"
      }
    },
    {
      "cell_type": "code",
      "source": [
        "a = list(range(10))\n",
        "a"
      ],
      "metadata": {
        "colab": {
          "base_uri": "https://localhost:8080/"
        },
        "id": "KyfFD4tRFWAr",
        "outputId": "2c2eb957-c8d9-470c-d6b3-2fe12961594d"
      },
      "execution_count": 14,
      "outputs": [
        {
          "output_type": "execute_result",
          "data": {
            "text/plain": [
              "[0, 1, 2, 3, 4, 5, 6, 7, 8, 9]"
            ]
          },
          "metadata": {},
          "execution_count": 14
        }
      ]
    },
    {
      "cell_type": "markdown",
      "source": [
        "* range는 시작하는 숫자와 끝나는 숫자를 지정할 수도 있습니다. 이때도 끝나는 숫자는 생성되는 숫자에 포함되지 않습니다. 즉, list에 range(5, 12)를 넣으면 5부터 11까지 들어있는 리스트가 생성됩니다.\n",
        "* `리스트 = list(range(시작, 끝))`"
      ],
      "metadata": {
        "id": "YWz7iavFFgS8"
      }
    },
    {
      "cell_type": "code",
      "source": [
        "b = list(range(5,12)) # 5는 포함하고, 12는 제외\n",
        "b"
      ],
      "metadata": {
        "colab": {
          "base_uri": "https://localhost:8080/"
        },
        "id": "BDA9LwipFcey",
        "outputId": "29564fbb-9ae4-4b0e-b25d-e706e4b3588c"
      },
      "execution_count": 19,
      "outputs": [
        {
          "output_type": "execute_result",
          "data": {
            "text/plain": [
              "[5, 6, 7, 8, 9, 10, 11]"
            ]
          },
          "metadata": {},
          "execution_count": 19
        }
      ]
    },
    {
      "cell_type": "markdown",
      "source": [
        "* 이번에는 증가폭을 사용하는 방법입니다. range에 증가폭을 지정하면 해당 값만큼 증가하면서 숫자를 생성합니다.\n",
        "* `리스트 = list(range(시작, 끝, 증가폭))`"
      ],
      "metadata": {
        "id": "CwSW1lquFl-N"
      }
    },
    {
      "cell_type": "code",
      "source": [
        "c = list(range(-4,10,2))\n",
        "c"
      ],
      "metadata": {
        "colab": {
          "base_uri": "https://localhost:8080/"
        },
        "id": "tJbvlaK1Fkad",
        "outputId": "3b48dfd3-9fd1-4a16-c6ec-82f40f16ac7c"
      },
      "execution_count": 21,
      "outputs": [
        {
          "output_type": "execute_result",
          "data": {
            "text/plain": [
              "[-4, -2, 0, 2, 4, 6, 8]"
            ]
          },
          "metadata": {},
          "execution_count": 21
        }
      ]
    },
    {
      "cell_type": "markdown",
      "source": [
        "* range(-4, 10, 2)는 -4부터 8까지 2씩 증가합니다. 여기서 끝나는 값은 10이므로 10까지 증가하지 않고 8까지 생성됩니다.\n",
        "* 만약 증가폭을 음수로 지정하면 해당 값만큼 숫자가 감소합니다."
      ],
      "metadata": {
        "id": "B40biTJUFosr"
      }
    },
    {
      "cell_type": "code",
      "source": [
        "d = list(range(10, 0, -1))\n",
        "d"
      ],
      "metadata": {
        "id": "UL-lb1N9Fzvw",
        "colab": {
          "base_uri": "https://localhost:8080/"
        },
        "outputId": "d621866b-2b61-47e4-cbfd-b4c892058cf9"
      },
      "execution_count": 22,
      "outputs": [
        {
          "output_type": "execute_result",
          "data": {
            "text/plain": [
              "[10, 9, 8, 7, 6, 5, 4, 3, 2, 1]"
            ]
          },
          "metadata": {},
          "execution_count": 22
        }
      ]
    },
    {
      "cell_type": "markdown",
      "source": [
        "## 튜플"
      ],
      "metadata": {
        "id": "R_qiVe-MF9NC"
      }
    },
    {
      "cell_type": "markdown",
      "source": [
        "지금까지 리스트를 사용해보았는데 파이썬에서는 튜플이라는 자료형도 제공합니다. 튜플은 리스트처럼 요소를 일렬로 저장하지만, 안에 저장된 요소를 변경, 추가, 삭제를 할 수 없습니다. 간단하게 읽기 전용 리스트라고 할 수 있죠\n",
        "\n",
        "변수에 값을 저장할 때 ( )(괄호)로 묶어주면 튜플이 되며 각 값은 ,(콤마)로 구분해줍니다. 또는, 괄호로 묶지 않고 값만 콤마로 구분해도 튜플이 됩니다.\n",
        "\n",
        "* `튜플 = (값, 값, 값)`\n",
        "* `튜플 = 값, 값, 값`"
      ],
      "metadata": {
        "id": "XUmW_uTEGVJn"
      }
    },
    {
      "cell_type": "code",
      "source": [
        "# 숫자가 5개 들어있는 튜플\n",
        "a = (38, 21, 53, 62, 19)\n",
        "a"
      ],
      "metadata": {
        "colab": {
          "base_uri": "https://localhost:8080/"
        },
        "id": "RXkYDXu0F4kr",
        "outputId": "28f48559-c107-432f-f502-0362332135a6"
      },
      "execution_count": 23,
      "outputs": [
        {
          "output_type": "execute_result",
          "data": {
            "text/plain": [
              "(38, 21, 53, 62, 19)"
            ]
          },
          "metadata": {},
          "execution_count": 23
        }
      ]
    },
    {
      "cell_type": "code",
      "source": [
        "# 괄호를 사용하지 않고 튜플 만들기\n",
        "a = 38, 21, 53, 62, 19\n",
        "a"
      ],
      "metadata": {
        "colab": {
          "base_uri": "https://localhost:8080/"
        },
        "id": "Sdh0UZRtGg06",
        "outputId": "23e943dc-bf6c-4d0a-ac02-2d84802af630"
      },
      "execution_count": 24,
      "outputs": [
        {
          "output_type": "execute_result",
          "data": {
            "text/plain": [
              "(38, 21, 53, 62, 19)"
            ]
          },
          "metadata": {},
          "execution_count": 24
        }
      ]
    },
    {
      "cell_type": "code",
      "source": [
        "# 튜플도 리스트처럼 여러 자료형을 섞어서 저장해도 됩니다.\n",
        "person = ('james, 17, 173.3, True')\n",
        "person"
      ],
      "metadata": {
        "colab": {
          "base_uri": "https://localhost:8080/",
          "height": 35
        },
        "id": "4xgWtRsiGyAz",
        "outputId": "e26e1b98-0ad8-4872-b7e0-3e08d9085a2e"
      },
      "execution_count": 25,
      "outputs": [
        {
          "output_type": "execute_result",
          "data": {
            "text/plain": [
              "'james, 17, 173.3, True'"
            ],
            "application/vnd.google.colaboratory.intrinsic+json": {
              "type": "string"
            }
          },
          "metadata": {},
          "execution_count": 25
        }
      ]
    },
    {
      "cell_type": "markdown",
      "source": [
        "그런데 저장된 요소를 변경, 추가, 삭제할 수도 없는 튜플을 왜 만들어 놓았을까요? 이유는 간단합니다. 파이썬 프로그래밍에서 튜플을 사용하는 쪽이 더 유리한 경우도 있기 때문입니다. 보통 튜플은 요소가 절대 변경되지 않고 유지되어야 할 때 사용합니다.\n",
        "\n",
        "튜플을 만든 상태에서 요소를 변경하게 되면 에러가 발생하게 됩니다. 따라서 요소를 실수로 변경하는 상황을 방지할 수 있습니다.\n",
        "\n",
        "반면 요소를 자주 변경해야 할 때는 리스트를 사용합니다. 보통 실무에서는 요소를 변경하는 경우가 많기 때문에 튜플보다 리스트를 더 자주 사용하는 편입니다."
      ],
      "metadata": {
        "id": "Qx8L8THqG7y1"
      }
    },
    {
      "cell_type": "markdown",
      "source": [
        "### range를 사용하여 튜플 만들기"
      ],
      "metadata": {
        "id": "IFdcdnduhbNc"
      }
    },
    {
      "cell_type": "code",
      "source": [
        "# 다음과 같이 tuple 안에 range를 넣으면 튜플이 생성됩니다.\n",
        "a = tuple(range(10))\n",
        "a"
      ],
      "metadata": {
        "colab": {
          "base_uri": "https://localhost:8080/"
        },
        "id": "NSOTihE9hfBp",
        "outputId": "ef1d76d4-68bd-470b-b039-da1c50980df9"
      },
      "execution_count": 26,
      "outputs": [
        {
          "output_type": "execute_result",
          "data": {
            "text/plain": [
              "(0, 1, 2, 3, 4, 5, 6, 7, 8, 9)"
            ]
          },
          "metadata": {},
          "execution_count": 26
        }
      ]
    },
    {
      "cell_type": "markdown",
      "source": [
        "range에 시작하는 숫자와 끝나는 숫자를 지정해서 튜플을 만들 수도 있겠죠? 다음은 5부터 11까지 들어있는 튜플을 만듭니다.\n",
        "\n",
        "* `튜플 = tuple(range(시작, 끝))`"
      ],
      "metadata": {
        "id": "NzkbM2N-hnT2"
      }
    },
    {
      "cell_type": "code",
      "source": [
        "b = tuple(range(5,12))\n",
        "b"
      ],
      "metadata": {
        "colab": {
          "base_uri": "https://localhost:8080/"
        },
        "id": "SWfF03Iahhil",
        "outputId": "4c55d250-f54c-4b6f-e0be-79ea7ba1c5ba"
      },
      "execution_count": 28,
      "outputs": [
        {
          "output_type": "execute_result",
          "data": {
            "text/plain": [
              "(5, 6, 7, 8, 9, 10, 11)"
            ]
          },
          "metadata": {},
          "execution_count": 28
        }
      ]
    },
    {
      "cell_type": "markdown",
      "source": [
        "range에 증가폭을 지정하는 방법도 가능합니다.\n",
        "\n",
        "* `튜플 = tuple(range(시작, 끝, 증가폭))`"
      ],
      "metadata": {
        "id": "PBuT-QFOhrex"
      }
    },
    {
      "cell_type": "code",
      "source": [
        "c = tuple(range(-4,10,2))\n",
        "c"
      ],
      "metadata": {
        "colab": {
          "base_uri": "https://localhost:8080/"
        },
        "id": "8DBj4jwphpcL",
        "outputId": "10d4eb3e-f3eb-4a24-d5e8-0fc0bdcb9895"
      },
      "execution_count": 29,
      "outputs": [
        {
          "output_type": "execute_result",
          "data": {
            "text/plain": [
              "(-4, -2, 0, 2, 4, 6, 8)"
            ]
          },
          "metadata": {},
          "execution_count": 29
        }
      ]
    },
    {
      "cell_type": "markdown",
      "source": [
        "### 튜플을 리스트로 만들고 리스트를 튜플로 만들기"
      ],
      "metadata": {
        "id": "fbtddaPZhv9B"
      }
    },
    {
      "cell_type": "markdown",
      "source": [
        "튜플과 리스트는 요소를 변경, 추가, 삭제할 수 있는지 없는지만 다를 뿐 기능과 형태는 같습니다. 따라서 튜플을 리스트로 만들거나 리스트를 튜플로 만들 수도 있습니다."
      ],
      "metadata": {
        "id": "43eID2Psh1tm"
      }
    },
    {
      "cell_type": "code",
      "source": [
        "# tuple 안에 리스트를 넣으면 새로운 튜플을 생성\n",
        "a = [1,2,3]\n",
        "tuple(a)"
      ],
      "metadata": {
        "colab": {
          "base_uri": "https://localhost:8080/"
        },
        "id": "7Er2KGG3huZE",
        "outputId": "c742b40b-ec36-4114-c73b-a39834a743ed"
      },
      "execution_count": 31,
      "outputs": [
        {
          "output_type": "execute_result",
          "data": {
            "text/plain": [
              "(1, 2, 3)"
            ]
          },
          "metadata": {},
          "execution_count": 31
        }
      ]
    },
    {
      "cell_type": "markdown",
      "source": [
        "반대로 list 안에 튜플을 넣으면 새 리스트가 생성됩니다."
      ],
      "metadata": {
        "id": "-xwcT4CPh8fA"
      }
    },
    {
      "cell_type": "code",
      "source": [
        "b = (4, 5, 6)\n",
        "list(b)"
      ],
      "metadata": {
        "colab": {
          "base_uri": "https://localhost:8080/"
        },
        "id": "L_7ULcvGh6HM",
        "outputId": "f065acfa-0375-47be-d24a-099e19312aea"
      },
      "execution_count": 32,
      "outputs": [
        {
          "output_type": "execute_result",
          "data": {
            "text/plain": [
              "[4, 5, 6]"
            ]
          },
          "metadata": {},
          "execution_count": 32
        }
      ]
    },
    {
      "cell_type": "markdown",
      "source": [
        "## 리스트와 튜플로 변수 만들기"
      ],
      "metadata": {
        "id": "kfycqcTqiB2m"
      }
    },
    {
      "cell_type": "code",
      "source": [
        "# 리스트와 튜플을 사용하면 변수 여러 개를 한 번에 만들 수 있습니다.\n",
        "# 이때 변수의 개수와 리스트(튜플)의 요소 개수는 같아야 합니다.\n",
        "a, b, c = [1, 2, 3,]\n",
        "print(a, b, c)"
      ],
      "metadata": {
        "colab": {
          "base_uri": "https://localhost:8080/"
        },
        "id": "WmVwGY7th-R8",
        "outputId": "c1aa6adb-def0-4e94-ba50-e83108bdc477"
      },
      "execution_count": 34,
      "outputs": [
        {
          "output_type": "stream",
          "name": "stdout",
          "text": [
            "1 2 3\n"
          ]
        }
      ]
    },
    {
      "cell_type": "code",
      "source": [
        "# 리스트와 튜플 변수로도 변수 여러 개를 만들 수 있습니다.\n",
        "# 다음과 같이 리스트와 튜플의 요소를 변수 여러 개에 할당하는 것을\n",
        "# 리스트 언패킹(list unpacking), 튜플 언패킹(tuple unpacking)이라고 합니다.\n",
        "x = [7, 4, 9]\n",
        "a, b, c = x\n",
        "print(a, b, c)"
      ],
      "metadata": {
        "colab": {
          "base_uri": "https://localhost:8080/"
        },
        "id": "TDASCwwuiJC9",
        "outputId": "28064af5-aa9e-4591-ee15-49879cad12fa"
      },
      "execution_count": 35,
      "outputs": [
        {
          "output_type": "stream",
          "name": "stdout",
          "text": [
            "7 4 9\n"
          ]
        }
      ]
    },
    {
      "cell_type": "code",
      "source": [
        "# 리스트 패킹(list packing)과 튜플 패킹(tuple packing)은\n",
        "# 변수에 리스트 또는 튜플을 할당하는 과정을 뜻합니다.\n",
        "a = [1, 2, 3]\n",
        "b = ((1, 2, 3))\n",
        "c = (1, 2, 3)\n",
        "a, b, c"
      ],
      "metadata": {
        "id": "1QjAkeP6iRXj",
        "colab": {
          "base_uri": "https://localhost:8080/"
        },
        "outputId": "d8dabdc0-9269-4a58-83b9-c81bafb79dbf"
      },
      "execution_count": 37,
      "outputs": [
        {
          "output_type": "execute_result",
          "data": {
            "text/plain": [
              "([1, 2, 3], (1, 2, 3), (1, 2, 3))"
            ]
          },
          "metadata": {},
          "execution_count": 37
        }
      ]
    }
  ]
}