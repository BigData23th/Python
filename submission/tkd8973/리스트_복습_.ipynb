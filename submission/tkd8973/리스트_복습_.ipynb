{
  "cells": [
    {
      "cell_type": "markdown",
      "metadata": {
        "colab_type": "text",
        "id": "view-in-github"
      },
      "source": [
        "<a href=\"https://colab.research.google.com/github/tkd8973/Python_SW/blob/main/submission/tkd8973/%EB%A6%AC%EC%8A%A4%ED%8A%B8_%EB%B3%B5%EC%8A%B5_.ipynb\" target=\"_parent\"><img src=\"https://colab.research.google.com/assets/colab-badge.svg\" alt=\"Open In Colab\"/></a>"
      ]
    },
    {
      "cell_type": "markdown",
      "metadata": {
        "id": "pr0f2VusSk9p"
      },
      "source": [
        "# LIST 응용\n"
      ]
    },
    {
      "cell_type": "code",
      "execution_count": 1,
      "metadata": {
        "id": "7Q1Ookx9Sh5l"
      },
      "outputs": [],
      "source": [
        "a = []"
      ]
    },
    {
      "cell_type": "code",
      "execution_count": 2,
      "metadata": {
        "colab": {
          "base_uri": "https://localhost:8080/"
        },
        "id": "JFfJ9wmuTglJ",
        "outputId": "3548eefe-faf2-4218-9b3f-229b5b290406"
      },
      "outputs": [
        {
          "data": {
            "text/plain": [
              "['Korea']"
            ]
          },
          "execution_count": 2,
          "metadata": {},
          "output_type": "execute_result"
        }
      ],
      "source": [
        "a.append('Korea')\n",
        "a"
      ]
    },
    {
      "cell_type": "code",
      "execution_count": 3,
      "metadata": {
        "colab": {
          "base_uri": "https://localhost:8080/"
        },
        "id": "1Z5f0urwTj5X",
        "outputId": "1868ee3d-e7e2-44ed-ade5-935186778df8"
      },
      "outputs": [
        {
          "data": {
            "text/plain": [
              "['Korea', 'China']"
            ]
          },
          "execution_count": 3,
          "metadata": {},
          "output_type": "execute_result"
        }
      ],
      "source": [
        "b =['China']\n",
        "a+b"
      ]
    },
    {
      "cell_type": "code",
      "execution_count": 4,
      "metadata": {
        "colab": {
          "base_uri": "https://localhost:8080/"
        },
        "id": "QYmBnqbeT0om",
        "outputId": "7ebc3c01-3c0b-4ba3-f9e9-a66149ea5cad"
      },
      "outputs": [
        {
          "data": {
            "text/plain": [
              "['Japan']"
            ]
          },
          "execution_count": 4,
          "metadata": {},
          "output_type": "execute_result"
        }
      ],
      "source": [
        "c = ['Japan']\n",
        "c"
      ]
    },
    {
      "cell_type": "code",
      "execution_count": 5,
      "metadata": {
        "colab": {
          "base_uri": "https://localhost:8080/"
        },
        "id": "K-QGZvqOT5ZK",
        "outputId": "60028dd5-a4e8-40a8-d170-6ab5c33dc38f"
      },
      "outputs": [
        {
          "data": {
            "text/plain": [
              "['Korea', 'Japan']"
            ]
          },
          "execution_count": 5,
          "metadata": {},
          "output_type": "execute_result"
        }
      ],
      "source": [
        "a.extend(c)    # 리스트 합침\n",
        "a"
      ]
    },
    {
      "cell_type": "code",
      "execution_count": 6,
      "metadata": {
        "colab": {
          "base_uri": "https://localhost:8080/"
        },
        "id": "FB8mbYe5UWdR",
        "outputId": "daec2394-0fdd-453f-b599-a45a97923670"
      },
      "outputs": [
        {
          "data": {
            "text/plain": [
              "['Korea', 'USA', 'Japan']"
            ]
          },
          "execution_count": 6,
          "metadata": {},
          "output_type": "execute_result"
        }
      ],
      "source": [
        "a.insert(1,'USA')    # 해당 index에 추가\n",
        "a"
      ]
    },
    {
      "cell_type": "code",
      "execution_count": 7,
      "metadata": {
        "colab": {
          "base_uri": "https://localhost:8080/"
        },
        "id": "92DZUm7yUOYv",
        "outputId": "66b5c9c0-0de0-45c3-af2a-e9fd548d20be"
      },
      "outputs": [
        {
          "data": {
            "text/plain": [
              "['Korea', 'USA', 'Japan', 'China', 'UK', 'France', 'Brazie']"
            ]
          },
          "execution_count": 7,
          "metadata": {},
          "output_type": "execute_result"
        }
      ],
      "source": [
        "d = ['UK','France','Brazie']\n",
        "\n",
        "e = a+b+d\n",
        "e"
      ]
    },
    {
      "cell_type": "code",
      "execution_count": 8,
      "metadata": {
        "colab": {
          "base_uri": "https://localhost:8080/"
        },
        "id": "6GuLuY0jWODE",
        "outputId": "79293a21-f91a-4148-eedd-8444bfdff4be"
      },
      "outputs": [
        {
          "data": {
            "text/plain": [
              "('Brazie', ['Korea', 'USA', 'Japan', 'China', 'UK', 'France'])"
            ]
          },
          "execution_count": 8,
          "metadata": {},
          "output_type": "execute_result"
        }
      ],
      "source": [
        "recent = e.pop()\n",
        "recent,e"
      ]
    },
    {
      "cell_type": "code",
      "execution_count": 9,
      "metadata": {
        "colab": {
          "base_uri": "https://localhost:8080/"
        },
        "id": "X_H9gR7jYB6i",
        "outputId": "c4066926-937a-4d89-e6a6-505537abada6"
      },
      "outputs": [
        {
          "data": {
            "text/plain": [
              "['Korea', 'CANADA', 'USA', 'Japan', 'China', 'UK', 'France']"
            ]
          },
          "execution_count": 9,
          "metadata": {},
          "output_type": "execute_result"
        }
      ],
      "source": [
        "# 특정 value앞에 누락 존재\n",
        "# value값의 인덱스를 찾고, 그 인덱스에 값을 insert\n",
        "e.index('USA')\n",
        "e.insert(e.index('USA'),'CANADA')\n",
        "e"
      ]
    },
    {
      "cell_type": "code",
      "execution_count": 17,
      "metadata": {
        "colab": {
          "base_uri": "https://localhost:8080/"
        },
        "id": "FAE4yDv6Yga5",
        "outputId": "008e0106-ade6-47d9-caa8-c0810a2555a8"
      },
      "outputs": [
        {
          "data": {
            "text/plain": [
              "['Korea', 'China', 'Argentina', 'Argentina']"
            ]
          },
          "execution_count": 17,
          "metadata": {},
          "output_type": "execute_result"
        }
      ],
      "source": [
        "import random\n",
        "e.extend(['Argentina']*random.randint(1,5))\n",
        "e"
      ]
    },
    {
      "cell_type": "code",
      "execution_count": 18,
      "metadata": {
        "colab": {
          "base_uri": "https://localhost:8080/"
        },
        "id": "Rrgm7uWdZAE3",
        "outputId": "54e0cab1-4ba2-4328-c411-829e8c3a6d58"
      },
      "outputs": [
        {
          "data": {
            "text/plain": [
              "2"
            ]
          },
          "execution_count": 18,
          "metadata": {},
          "output_type": "execute_result"
        }
      ],
      "source": [
        "e.count('Argentina')\n"
      ]
    },
    {
      "cell_type": "code",
      "execution_count": 18,
      "metadata": {
        "id": "8UimzKXOZDhB"
      },
      "outputs": [],
      "source": [
        " e.revers    # 리스트 뒤집기\n",
        " e[::-1]    # 리스트 뒤집기\n"
      ]
    },
    {
      "cell_type": "code",
      "execution_count": 19,
      "metadata": {
        "colab": {
          "base_uri": "https://localhost:8080/"
        },
        "id": "XLGeztKvdg9e",
        "outputId": "309fe3fd-958e-4011-c341-d10ea30ebd40"
      },
      "outputs": [
        {
          "data": {
            "text/plain": [
              "[20, 18, 19, 12, 10, 12, 20, 15, 16, 11]"
            ]
          },
          "execution_count": 19,
          "metadata": {},
          "output_type": "execute_result"
        }
      ],
      "source": [
        "# 정렬 -> 오름차순, 내림차순 default : 오름차순\n",
        "\n",
        "n = [random.randint(10,20) for i in range(10)]\n",
        "n   "
      ]
    },
    {
      "cell_type": "code",
      "execution_count": 21,
      "metadata": {
        "colab": {
          "base_uri": "https://localhost:8080/"
        },
        "id": "f3txxzz1fWwK",
        "outputId": "29f41967-4833-4e39-c90a-49e1f672ab9d"
      },
      "outputs": [
        {
          "name": "stdout",
          "output_type": "stream",
          "text": [
            "[10, 11, 12, 12, 15, 16, 18, 19, 20, 20]\n"
          ]
        },
        {
          "data": {
            "text/plain": [
              "[20, 20, 19, 18, 16, 15, 12, 12, 11, 10]"
            ]
          },
          "execution_count": 21,
          "metadata": {},
          "output_type": "execute_result"
        }
      ],
      "source": [
        "n.sort()\n",
        "print(n)\n",
        "n.sort(reverse=True)\n",
        "n"
      ]
    },
    {
      "cell_type": "code",
      "execution_count": 23,
      "metadata": {
        "colab": {
          "base_uri": "https://localhost:8080/"
        },
        "id": "uKoYZJEDfd1O",
        "outputId": "3d282381-1909-49ab-d267-5006f5a6cf08"
      },
      "outputs": [
        {
          "data": {
            "text/plain": [
              "([10, 11, 12, 12, 15, 16, 18, 19, 20, 20],\n",
              " [20, 20, 19, 18, 16, 15, 12, 12, 11, 10])"
            ]
          },
          "execution_count": 23,
          "metadata": {},
          "output_type": "execute_result"
        }
      ],
      "source": [
        "sorted(n),sorted(n,reverse=True)"
      ]
    },
    {
      "cell_type": "code",
      "execution_count": 24,
      "metadata": {
        "colab": {
          "base_uri": "https://localhost:8080/"
        },
        "id": "ZT2-qiWofl-F",
        "outputId": "227158d8-6a83-485a-f2cc-207341815870"
      },
      "outputs": [
        {
          "data": {
            "text/plain": [
              "[20, 20, 19, 18, 16, 15, 12, 12, 11, 10]"
            ]
          },
          "execution_count": 24,
          "metadata": {},
          "output_type": "execute_result"
        }
      ],
      "source": [
        "n2 = n.copy()\n",
        "n2"
      ]
    },
    {
      "cell_type": "code",
      "execution_count": 25,
      "metadata": {
        "colab": {
          "base_uri": "https://localhost:8080/"
        },
        "id": "0wCPP7cGftBr",
        "outputId": "7a8503b4-02fd-4bcc-d0eb-25cef646c24b"
      },
      "outputs": [
        {
          "data": {
            "text/plain": [
              "[]"
            ]
          },
          "execution_count": 25,
          "metadata": {},
          "output_type": "execute_result"
        }
      ],
      "source": [
        "n2.clear()\n",
        "n2"
      ]
    },
    {
      "cell_type": "code",
      "execution_count": 26,
      "metadata": {
        "colab": {
          "base_uri": "https://localhost:8080/"
        },
        "id": "yDQGdENhfvJx",
        "outputId": "c4df2e09-445f-439f-8b2d-8f44c077d889"
      },
      "outputs": [
        {
          "data": {
            "text/plain": [
              "[]"
            ]
          },
          "execution_count": 26,
          "metadata": {},
          "output_type": "execute_result"
        }
      ],
      "source": [
        "n2 = n.copy()\n",
        "del n2[:]\n",
        "n2"
      ]
    },
    {
      "cell_type": "code",
      "execution_count": 29,
      "metadata": {
        "colab": {
          "base_uri": "https://localhost:8080/"
        },
        "id": "hUASrZ6tfz52",
        "outputId": "304967d8-6090-48b3-df3c-a1907e80a3c5"
      },
      "outputs": [
        {
          "name": "stdout",
          "output_type": "stream",
          "text": [
            "20\n",
            "20\n",
            "19\n",
            "18\n",
            "16\n",
            "15\n",
            "12\n",
            "12\n",
            "11\n",
            "10\n",
            "10\n",
            "11\n",
            "12\n",
            "12\n",
            "15\n",
            "16\n",
            "18\n",
            "19\n",
            "20\n",
            "20\n",
            "0 20\n",
            "1 20\n",
            "2 19\n",
            "3 18\n",
            "4 16\n",
            "5 15\n",
            "6 12\n",
            "7 12\n",
            "8 11\n",
            "9 10\n"
          ]
        }
      ],
      "source": [
        "for number in n:\n",
        "    print(number)\n",
        "\n",
        "for number in n[::-1]:\n",
        "    print(number)\n",
        "\n",
        "for num,v in enumerate(n):\n",
        "    print(num,v)\n",
        "    "
      ]
    },
    {
      "cell_type": "code",
      "execution_count": 30,
      "metadata": {
        "colab": {
          "base_uri": "https://localhost:8080/"
        },
        "id": "j3LHFGeTgawy",
        "outputId": "b81c2a7d-66ce-4daa-87d5-5cc6cc997309"
      },
      "outputs": [
        {
          "name": "stdout",
          "output_type": "stream",
          "text": [
            "0 20\n",
            "2 19\n",
            "4 16\n",
            "6 12\n",
            "8 11\n"
          ]
        }
      ],
      "source": [
        "for idx,val in enumerate(n):\n",
        "    if not (idx%2):    # index가 2의 배수 인 value\n",
        "        print(idx,val)"
      ]
    },
    {
      "cell_type": "code",
      "execution_count": 38,
      "metadata": {
        "colab": {
          "base_uri": "https://localhost:8080/"
        },
        "id": "jNje7H0_hgbA",
        "outputId": "8d7a769c-7091-4e5d-90c8-24723ccc4a0f"
      },
      "outputs": [
        {
          "name": "stdout",
          "output_type": "stream",
          "text": [
            "[6, 13, 8, 15, 11, 9, 13, 10, 15, 17, 5, 1, 1, 14, 15, 10, 6, 13, 7, 9]\n"
          ]
        },
        {
          "data": {
            "text/plain": [
              "([(6, 13),\n",
              "  (8, 15),\n",
              "  (11, 9),\n",
              "  (13, 10),\n",
              "  (15, 17),\n",
              "  (5, 1),\n",
              "  (1, 14),\n",
              "  (15, 10),\n",
              "  (6, 13),\n",
              "  (7, 9)],\n",
              " [(6, 13),\n",
              "  (8, 15),\n",
              "  (11, 9),\n",
              "  (13, 10),\n",
              "  (15, 17),\n",
              "  (5, 1),\n",
              "  (1, 14),\n",
              "  (15, 10),\n",
              "  (6, 13),\n",
              "  (7, 9)])"
            ]
          },
          "execution_count": 38,
          "metadata": {},
          "output_type": "execute_result"
        }
      ],
      "source": [
        "# 리스트 컴프리헨션\n",
        "\n",
        "rc = random.choices(range(1,21),k=20)\n",
        "print(rc)\n",
        "lunch = [(rc[i],rc[i+1]) for i in range(0,len(rc),2)]    # 증가값을 2로 설정함으로서 겹치지 않는다\n",
        "lunch2 = [(rc[i],rc[i+1]) for i in range(0,len(rc)) if not i%2]\n",
        "\n",
        "lunch,lunch2"
      ]
    },
    {
      "cell_type": "markdown",
      "metadata": {
        "id": "rSZ0qIqVlXua"
      },
      "source": [
        "# 문자열"
      ]
    },
    {
      "cell_type": "code",
      "execution_count": 39,
      "metadata": {
        "colab": {
          "base_uri": "https://localhost:8080/",
          "height": 35
        },
        "id": "QVzKOIuzlsXd",
        "outputId": "1330851c-bc7f-41db-a8b9-0ddad73e5053"
      },
      "outputs": [
        {
          "data": {
            "application/vnd.google.colaboratory.intrinsic+json": {
              "type": "string"
            },
            "text/plain": [
              "'오점뭐'"
            ]
          },
          "execution_count": 39,
          "metadata": {},
          "output_type": "execute_result"
        }
      ],
      "source": [
        "s= '오점뭐'\n",
        "s\n"
      ]
    },
    {
      "cell_type": "code",
      "execution_count": 41,
      "metadata": {
        "colab": {
          "base_uri": "https://localhost:8080/"
        },
        "id": "47ni2GRAlwPw",
        "outputId": "47298ff6-e950-4ec7-9bf9-3b44bbe32f49"
      },
      "outputs": [
        {
          "data": {
            "text/plain": [
              "('오저뭐', '오점뭐')"
            ]
          },
          "execution_count": 41,
          "metadata": {},
          "output_type": "execute_result"
        }
      ],
      "source": [
        "s.replace('점','저'),s\n"
      ]
    },
    {
      "cell_type": "code",
      "execution_count": 43,
      "metadata": {
        "id": "93Prpmc6l6zF"
      },
      "outputs": [],
      "source": [
        "s2 = '오점돈가스, 오저 돈가스'"
      ]
    },
    {
      "cell_type": "code",
      "execution_count": 44,
      "metadata": {
        "colab": {
          "base_uri": "https://localhost:8080/"
        },
        "id": "nK4D4IfVmAGY",
        "outputId": "8de60823-8930-442c-e04b-6fcf1e2877f3"
      },
      "outputs": [
        {
          "data": {
            "text/plain": [
              "('오점파스타, 오저 파스타', '오점돈가스, 오저 돈가스')"
            ]
          },
          "execution_count": 44,
          "metadata": {},
          "output_type": "execute_result"
        }
      ],
      "source": [
        "s2.replace('돈가스','파스타'),s2"
      ]
    },
    {
      "cell_type": "code",
      "execution_count": 46,
      "metadata": {
        "colab": {
          "base_uri": "https://localhost:8080/"
        },
        "id": "HW63U7-8mEsb",
        "outputId": "3a7a1d17-c9f3-4e40-ba2f-483116ee146b"
      },
      "outputs": [
        {
          "data": {
            "text/plain": [
              "('오점파스타, 오저 돈가스', '오점돈가스, 오저 돈가스')"
            ]
          },
          "execution_count": 46,
          "metadata": {},
          "output_type": "execute_result"
        }
      ],
      "source": [
        "s2.replace('돈가스','파스타',1),s2"
      ]
    },
    {
      "cell_type": "code",
      "execution_count": 48,
      "metadata": {
        "colab": {
          "base_uri": "https://localhost:8080/"
        },
        "id": "d7S9MKBTmPOe",
        "outputId": "7e1a5b3b-bca0-4ea2-9a29-f89b53216aef"
      },
      "outputs": [
        {
          "data": {
            "text/plain": [
              "(['비트코인', '이더리움', '리플'], '비트코인,이더리움,리플')"
            ]
          },
          "execution_count": 48,
          "metadata": {},
          "output_type": "execute_result"
        }
      ],
      "source": [
        "txt = '비트코인,이더리움,리플'\n",
        "txt.split(','),txt"
      ]
    },
    {
      "cell_type": "code",
      "execution_count": 50,
      "metadata": {
        "colab": {
          "base_uri": "https://localhost:8080/"
        },
        "id": "TxPf-GuRmNDs",
        "outputId": "b4da5a63-ecb9-4023-fc7a-ec71491e3452"
      },
      "outputs": [
        {
          "data": {
            "text/plain": [
              "(['비트코인', '이더리움', '리플'], '비트코인 이더리움 리플')"
            ]
          },
          "execution_count": 50,
          "metadata": {},
          "output_type": "execute_result"
        }
      ],
      "source": [
        "txt2='비트코인 이더리움 리플'\n",
        "txt2.split(),txt2"
      ]
    },
    {
      "cell_type": "code",
      "execution_count": 54,
      "metadata": {
        "id": "pHaQ1h1ZmlQs"
      },
      "outputs": [],
      "source": [
        "sep = [i for i in txt]\n"
      ]
    },
    {
      "cell_type": "code",
      "execution_count": 57,
      "metadata": {
        "colab": {
          "base_uri": "https://localhost:8080/",
          "height": 35
        },
        "id": "eN3TfTlLm8fX",
        "outputId": "05dac63f-633e-44fe-d7d4-bd008e1a6591"
      },
      "outputs": [
        {
          "data": {
            "application/vnd.google.colaboratory.intrinsic+json": {
              "type": "string"
            },
            "text/plain": [
              "'비&트&코&인&,&이&더&리&움&,&리&플'"
            ]
          },
          "execution_count": 57,
          "metadata": {},
          "output_type": "execute_result"
        }
      ],
      "source": [
        "\"\".join(sep)\n",
        "\"&\".join(sep)"
      ]
    },
    {
      "cell_type": "code",
      "execution_count": 58,
      "metadata": {
        "colab": {
          "base_uri": "https://localhost:8080/"
        },
        "id": "W3TgxIOJnLgD",
        "outputId": "d287181b-18b8-4865-d7c4-422d3419949a"
      },
      "outputs": [
        {
          "data": {
            "text/plain": [
              "('POTATOCHIP', 'potatochip')"
            ]
          },
          "execution_count": 58,
          "metadata": {},
          "output_type": "execute_result"
        }
      ],
      "source": [
        "a = 'PotatoChip'\n",
        "a.upper(),a.lower()"
      ]
    },
    {
      "cell_type": "code",
      "execution_count": 59,
      "metadata": {
        "colab": {
          "base_uri": "https://localhost:8080/"
        },
        "id": "6g_XHEXlnRqZ",
        "outputId": "3485d2a4-9325-4c41-a3db-2748d5b3a95a"
      },
      "outputs": [
        {
          "data": {
            "text/plain": [
              "('공백 많죵', '공백 많죵         ', '            공백 많죵')"
            ]
          },
          "execution_count": 59,
          "metadata": {},
          "output_type": "execute_result"
        }
      ],
      "source": [
        "space = \"            공백 많죵         \"\n",
        "space.strip(),space.lstrip(),space.rstrip()"
      ]
    },
    {
      "cell_type": "code",
      "execution_count": 62,
      "metadata": {
        "colab": {
          "base_uri": "https://localhost:8080/"
        },
        "id": "H6hLpkTNnbNA",
        "outputId": "9aaf9ea3-64c7-4cb7-e795-149b73a155ee"
      },
      "outputs": [
        {
          "data": {
            "text/plain": [
              "('0035', '03.5')"
            ]
          },
          "execution_count": 62,
          "metadata": {},
          "output_type": "execute_result"
        }
      ],
      "source": [
        "a = '35'\n",
        "b='3.5'\n",
        "a.zfill(4),b.zfill(4)"
      ]
    },
    {
      "cell_type": "code",
      "execution_count": 63,
      "metadata": {
        "colab": {
          "base_uri": "https://localhost:8080/"
        },
        "id": "fecwI8BnnkSx",
        "outputId": "7b83042f-63b7-4cfb-dd1d-9aa63dccb88c"
      },
      "outputs": [
        {
          "data": {
            "text/plain": [
              "2"
            ]
          },
          "execution_count": 63,
          "metadata": {},
          "output_type": "execute_result"
        }
      ],
      "source": [
        "s = '대홍단 감자 지리산 감자'\n",
        "s.count('감자')"
      ]
    },
    {
      "cell_type": "code",
      "execution_count": 64,
      "metadata": {
        "colab": {
          "base_uri": "https://localhost:8080/"
        },
        "id": "FuzCjPlKnplQ",
        "outputId": "06b0d399-8f0f-428b-cb75-3d377ce4ce04"
      },
      "outputs": [
        {
          "data": {
            "text/plain": [
              "(4, -1)"
            ]
          },
          "execution_count": 64,
          "metadata": {},
          "output_type": "execute_result"
        }
      ],
      "source": [
        "s.find('감자'),s.find('고구마')\n",
        "\n",
        "'''pr용'''"
      ]
    }
  ],
  "metadata": {
    "colab": {
      "include_colab_link": true,
      "provenance": [],
      "toc_visible": true
    },
    "kernelspec": {
      "display_name": "Python 3",
      "name": "python3"
    },
    "language_info": {
      "name": "python"
    }
  },
  "nbformat": 4,
  "nbformat_minor": 0
}
