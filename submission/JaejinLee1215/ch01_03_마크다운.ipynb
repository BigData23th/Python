{
  "nbformat": 4,
  "nbformat_minor": 0,
  "metadata": {
    "colab": {
      "provenance": [],
      "authorship_tag": "ABX9TyN1uCL4QNc/SgqUn+Qfy3YK",
      "include_colab_link": true
    },
    "kernelspec": {
      "name": "python3",
      "display_name": "Python 3"
    },
    "language_info": {
      "name": "python"
    }
  },
  "cells": [
    {
      "cell_type": "markdown",
      "metadata": {
        "id": "view-in-github",
        "colab_type": "text"
      },
      "source": [
        "<a href=\"https://colab.research.google.com/github/JaejinLee1215/Python_LJJ/blob/main/submission/JaejinLee1215/ch01_03_%EB%A7%88%ED%81%AC%EB%8B%A4%EC%9A%B4.ipynb\" target=\"_parent\"><img src=\"https://colab.research.google.com/assets/colab-badge.svg\" alt=\"Open In Colab\"/></a>"
      ]
    },
    {
      "cell_type": "markdown",
      "source": [
        "# 제목 (Headline)\n",
        "## 2단계 제목\n",
        "### 3단계 제목\n",
        "#### 4단계 제목\n",
        "##### 5단계 제목\n",
        "###### 6단계 제목"
      ],
      "metadata": {
        "id": "jvXbeA7r6EoM"
      }
    },
    {
      "cell_type": "markdown",
      "source": [
        "수평선\n",
        "---\n",
        "텍스트에 ---를 바로 붙이면 '#'과 같은 효과\n",
        "\n",
        "(수평선)\n",
        "\n",
        "---"
      ],
      "metadata": {
        "id": "Q1aCKucH6ZG8"
      }
    },
    {
      "cell_type": "markdown",
      "source": [
        "줄바꿈<br>줄바꿈"
      ],
      "metadata": {
        "id": "mo2G4JlI6u1L"
      }
    },
    {
      "cell_type": "markdown",
      "source": [
        "**굵게**\n",
        "*기울게*\n",
        "__굵게__\n",
        "~~취소선~~\n",
        "<u>밑줄</u>\n",
        "<mark>형광펜</mark>"
      ],
      "metadata": {
        "id": "TPl6-mFu60Dc"
      }
    },
    {
      "cell_type": "markdown",
      "source": [
        "> 인용문\n",
        ">> 인용문 안에 인용문\n",
        ">>> 인용문 안에 인용문 안에 인용문\n",
        ">>>> 인용문 안에 인용문 안에 인용문 안에 인용문"
      ],
      "metadata": {
        "id": "OyXpbGu-7G0q"
      }
    },
    {
      "cell_type": "markdown",
      "source": [
        "순서가 없는 리스트\n",
        "* 사과\n",
        "* 배\n",
        "* 자두\n",
        "\n",
        "순서가 있는 리스트\n",
        "1. Python\n",
        "2. JAVA\n",
        "3. SQL\n",
        "\n",
        "순서가 있는 리스트2\n",
        "1. Python\n",
        "1. JAVA\n",
        "1. SQL\n",
        "\n",
        "들여쓰기\n",
        "* 사과\n",
        "  * 껍질\n",
        "    * 볶음\n",
        "* 위\n",
        "      아래 (Tab * 2 = 코드블록)\n",
        "      **굵게**\n",
        "\n",
        "코드 블록 -> 이 안에 꾸며주는 마크다운 문법 무시 ex)굵게\n",
        "\n",
        "    "
      ],
      "metadata": {
        "id": "n8mr_FQm7SGK"
      }
    },
    {
      "cell_type": "markdown",
      "source": [
        "#코드 블록\n",
        "\n",
        "한 줄 코드\n",
        "`print('hello World')` - 음영처리\n",
        "\n",
        "여러 줄 코드블록\n",
        "\n",
        "```\n",
        "print(\"hello\")\n",
        "print(\"world\")\n",
        "```"
      ],
      "metadata": {
        "id": "JzrjBQQa8TJi"
      }
    },
    {
      "cell_type": "markdown",
      "source": [
        "#테이블 만들기\n",
        "\n",
        "|제목|작가|출판일|\n",
        "|-|-|-|\n",
        "|장발장|이재진|2023|\n",
        "|파이썬|이재진|2023|\n",
        "|JAVA|이재진|2023|\n",
        "\n",
        "|제목|작가|출판일|\n",
        "|-|-|-|\n",
        "|**장발장**|이재진|2023|\n",
        "|파이썬|이재진|2023|\n",
        "|JAVA|~이재진~|2023|\n",
        "\n",
        "|-|-|-| : 가운데 정렬\n",
        "|:-|:-|:-| : 왼쪽 정렬\n",
        "|-:|-:|-:| : 오른쪽 정렬"
      ],
      "metadata": {
        "id": "PhLbPiJB8vDD"
      }
    },
    {
      "cell_type": "markdown",
      "source": [
        "[표시될 링크 제목](http://naver.com)\n",
        "![](https://cdn.pixabay.com/photo/2023/02/08/07/32/vietnamese-woman-7775904_960_720.jpg)\n",
        "\n",
        "[] : 링크\n",
        "![] : 이미지를 불러온다"
      ],
      "metadata": {
        "id": "EtIT43mZ9po0"
      }
    },
    {
      "cell_type": "markdown",
      "source": [
        "- [ ] 체크박스\n",
        "- [x] 체크된 픽스박스"
      ],
      "metadata": {
        "id": "852DNmyr-CLL"
      }
    }
  ]
}