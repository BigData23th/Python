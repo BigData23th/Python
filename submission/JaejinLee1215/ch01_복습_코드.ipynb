{
  "nbformat": 4,
  "nbformat_minor": 0,
  "metadata": {
    "colab": {
      "provenance": [],
      "authorship_tag": "ABX9TyO9b/r5yG8MSWnY5BLIXopq",
      "include_colab_link": true
    },
    "kernelspec": {
      "name": "python3",
      "display_name": "Python 3"
    },
    "language_info": {
      "name": "python"
    }
  },
  "cells": [
    {
      "cell_type": "markdown",
      "metadata": {
        "id": "view-in-github",
        "colab_type": "text"
      },
      "source": [
        "<a href=\"https://colab.research.google.com/github/JaejinLee1215/Python_LJJ/blob/main/submission/JaejinLee1215/ch01_%EB%B3%B5%EC%8A%B5_%EC%BD%94%EB%93%9C.ipynb\" target=\"_parent\"><img src=\"https://colab.research.google.com/assets/colab-badge.svg\" alt=\"Open In Colab\"/></a>"
      ]
    },
    {
      "cell_type": "code",
      "execution_count": null,
      "metadata": {
        "colab": {
          "base_uri": "https://localhost:8080/",
          "height": 136
        },
        "id": "F3go2nXBbWc2",
        "outputId": "d4fa02f3-55fa-4cf9-b657-aaa7970e5904"
      },
      "outputs": [
        {
          "output_type": "error",
          "ename": "SyntaxError",
          "evalue": "ignored",
          "traceback": [
            "\u001b[0;36m  File \u001b[0;32m\"<ipython-input-3-10cb182148e3>\"\u001b[0;36m, line \u001b[0;32m1\u001b[0m\n\u001b[0;31m    print(Hello World)\u001b[0m\n\u001b[0m                ^\u001b[0m\n\u001b[0;31mSyntaxError\u001b[0m\u001b[0;31m:\u001b[0m invalid syntax\n"
          ]
        }
      ],
      "source": [
        "print(Hello World) #오류코드 syntax=문법, 문자열을 입력했는데 \"\"또는''를 감싸주지 않음."
      ]
    },
    {
      "cell_type": "code",
      "source": [
        "# alt + enter : (셀)을 실행시키고 하단에 새로운 코드 셀을 만들어줌\n",
        "print('Hello World') # print(입력값) : 함수의 일종, 입력한 값(숫자, 문자열...)을 출력"
      ],
      "metadata": {
        "colab": {
          "base_uri": "https://localhost:8080/"
        },
        "id": "y50Owzhice-N",
        "outputId": "885c70d6-276d-49cb-a709-835d0f134f63"
      },
      "execution_count": null,
      "outputs": [
        {
          "output_type": "stream",
          "name": "stdout",
          "text": [
            "Hello World\n"
          ]
        }
      ]
    },
    {
      "cell_type": "code",
      "source": [
        "# (ctrl + m) + b : 셀을 실행시키지 않고 현재 셀의 하단에 새로운 코드 셀을 만들어줌\n",
        "# colab은 '리눅스' 환경에서 작동 -> 터미널(입력창)을 통해서 명령어로 작동하는 OS like 윈도우, 안드로이드\n",
        "# 리눅스의 어떠 특정한 기능을 하기 위해서는 (1) 터미널에 (2) 명령어를 넣어야 한다.\n",
        "# !를 앞에 붙이고 나면, 리눅스의 터미널(커널)에 명령어를 사용할 수 있음\n",
        "!python --version"
      ],
      "metadata": {
        "colab": {
          "base_uri": "https://localhost:8080/"
        },
        "id": "LIAJDVr0comu",
        "outputId": "45e1b6a5-4623-4862-8eec-ac49a5182710"
      },
      "execution_count": null,
      "outputs": [
        {
          "output_type": "stream",
          "name": "stdout",
          "text": [
            "Python 3.8.10\n"
          ]
        }
      ]
    },
    {
      "cell_type": "code",
      "source": [
        "# 파이썬은 세미콜론(;)을 안써도 된다. 써도 버그가 나진 않는다. 콜론(:)\n",
        "print(\"Ditto\") # 특정한 행을 위 아래로 복사하고 싶다 (alt + shift + 위아래 방향키)\n",
        "print(\"Ditto\"); # 줄바꿈(alt + 위아래 방향키)\n",
        "# ctrl + a : 전체 지정\n",
        "# end : 특정 행의 끝으로 이동 -> shift(범위 지정, 블록 지정) -> home : 특정 행의 시작\n"
      ],
      "metadata": {
        "colab": {
          "base_uri": "https://localhost:8080/"
        },
        "id": "iTi2665od-X5",
        "outputId": "3eafa136-122e-44e4-f07d-23721e807d27"
      },
      "execution_count": null,
      "outputs": [
        {
          "output_type": "stream",
          "name": "stdout",
          "text": [
            "Ditto\n",
            "Ditto\n",
            "뉴진스\n",
            "르세라핌\n"
          ]
        }
      ]
    },
    {
      "cell_type": "code",
      "source": [
        "print(\"뉴진스\"); print(\"르세라핌\") # 세미클론 있으면 다른 줄로 인식\n",
        "# ctrl + m + - : 특정 행 기준으로셀 분할"
      ],
      "metadata": {
        "id": "wOxhhX57gLmP"
      },
      "execution_count": null,
      "outputs": []
    },
    {
      "cell_type": "code",
      "source": [
        "# 을 입력하고 뒤에 입력하면 -> 한 줄 주석\n",
        "# 주석으로 지정하는 단축키 : ctrl + /\n",
        "print(\"주석\") # 코드 뒤에 주석이 있어도 실행에 영향 x\n",
        "#print(\"주석\") # 실행이 안됨"
      ],
      "metadata": {
        "colab": {
          "base_uri": "https://localhost:8080/"
        },
        "id": "wi_QRtA4fr0q",
        "outputId": "31f8d2ad-35ff-4a0d-e3b8-c47d9d9c2f6f"
      },
      "execution_count": null,
      "outputs": [
        {
          "output_type": "stream",
          "name": "stdout",
          "text": [
            "주석\n"
          ]
        }
      ]
    },
    {
      "cell_type": "code",
      "source": [
        "'''\n",
        "여러 줄 주석을 할 때는\n",
        "\\'\\'\\'또는 \"\"\"을 입력하세요\n",
        "'''\n",
        "print('안녕')"
      ],
      "metadata": {
        "colab": {
          "base_uri": "https://localhost:8080/"
        },
        "id": "IjW_-FLKpmk7",
        "outputId": "3d2e6f67-d59e-4e85-82cf-c203ceba9cea"
      },
      "execution_count": null,
      "outputs": [
        {
          "output_type": "stream",
          "name": "stdout",
          "text": [
            "안녕\n"
          ]
        }
      ]
    },
    {
      "cell_type": "code",
      "source": [
        "# 문자열을 입력할 때 외부에 ''(작은 따옴표로)로 감쌌으면, 안에 작은 따옴표를 넣으면 x, 반대도 성립\n",
        "# 굳이 넣고 싶다 -> 앞에 \\를 넣어서 escape 시켜서 처리해야함"
      ],
      "metadata": {
        "id": "6REPrACNp-Qm"
      },
      "execution_count": null,
      "outputs": []
    },
    {
      "cell_type": "code",
      "source": [
        "a = 1\n",
        "if a != 10: # 특정한 조건을 만족(옳을 때)시킬 때 작동하는 코드\n",
        "  print(\"10이 아니네요\") # 특정한 들여쓰기 범위 내에서 조건 관련 코드 작동"
      ],
      "metadata": {
        "colab": {
          "base_uri": "https://localhost:8080/"
        },
        "id": "mb-qWr6wqLyk",
        "outputId": "49a22db0-4aa5-4717-8e81-a41c774a4f85"
      },
      "execution_count": null,
      "outputs": [
        {
          "output_type": "stream",
          "name": "stdout",
          "text": [
            "10이 아니네요\n"
          ]
        }
      ]
    },
    {
      "cell_type": "code",
      "source": [
        "if a == 10: # 특정한 조건을 만족(옳을 때)시킬 때 작동하는 코드\n",
        "  print(\"10이 아니네요\") # 특정한 들여쓰기 범위 내에서 조건 관련 코드 작동\n",
        "# 들여쓰기 : tab으로 통일"
      ],
      "metadata": {
        "id": "OV2feCJMqlo3"
      },
      "execution_count": null,
      "outputs": []
    },
    {
      "cell_type": "code",
      "source": [
        "if a != 10: # 특정한 조건을 만족(옳을 때)시킬 때 작동하는 코드\n",
        "print(\"10이 아니네요\") # 특정한 들여쓰기 범위 내에서 조건 관련 코드 작동\n",
        "# 들여쓰기 오류"
      ],
      "metadata": {
        "colab": {
          "base_uri": "https://localhost:8080/",
          "height": 136
        },
        "id": "ZVwCvfp8qy3n",
        "outputId": "11fde2c3-c523-407f-ba5e-b95b10f10c04"
      },
      "execution_count": null,
      "outputs": [
        {
          "output_type": "error",
          "ename": "IndentationError",
          "evalue": "ignored",
          "traceback": [
            "\u001b[0;36m  File \u001b[0;32m\"<ipython-input-15-f383fa8553bd>\"\u001b[0;36m, line \u001b[0;32m2\u001b[0m\n\u001b[0;31m    print(\"10이 아니네요\") # 특정한 들여쓰기 범위 내에서 조건 관련 코드 작동\u001b[0m\n\u001b[0m    ^\u001b[0m\n\u001b[0;31mIndentationError\u001b[0m\u001b[0;31m:\u001b[0m expected an indented block\n"
          ]
        }
      ]
    },
    {
      "cell_type": "code",
      "source": [
        "if a == 10:\n",
        "  print(\"10이네요\")\n",
        "  if a == 10:\n",
        "    print(\"10이네요\")"
      ],
      "metadata": {
        "id": "bt6XEEAFq21_"
      },
      "execution_count": null,
      "outputs": []
    },
    {
      "cell_type": "code",
      "source": [
        "# 정수 (int, interger, 양의 정수와 음의 정수와 0)\n",
        "# 실수 (float, 실수, 소수, 소숫점이 붙어 있음)\n",
        "1, 1.0"
      ],
      "metadata": {
        "colab": {
          "base_uri": "https://localhost:8080/"
        },
        "id": "s3UvaZL9rIQK",
        "outputId": "7b340ab0-4e65-42f4-f309-c10767f2f36f"
      },
      "execution_count": null,
      "outputs": [
        {
          "output_type": "execute_result",
          "data": {
            "text/plain": [
              "(1, 1.0)"
            ]
          },
          "metadata": {},
          "execution_count": 18
        }
      ]
    },
    {
      "cell_type": "code",
      "source": [
        "# type : 자료형\n",
        "type(1), type(1.0), type(\"1\")\n",
        "# str : string, 열, 문자열"
      ],
      "metadata": {
        "colab": {
          "base_uri": "https://localhost:8080/"
        },
        "id": "Vt2pjrLxrdhP",
        "outputId": "19aa96a2-6cac-4601-dde5-39c2004adbe9"
      },
      "execution_count": null,
      "outputs": [
        {
          "output_type": "execute_result",
          "data": {
            "text/plain": [
              "(int, float, str)"
            ]
          },
          "metadata": {},
          "execution_count": 20
        }
      ]
    },
    {
      "cell_type": "code",
      "source": [
        "# 사칙연산 -> 산술연산자, 연산자 : 1개 이상의 피연산자(항)에 대해서 특정 연산(계산)을 실행시키는 명령\n",
        "1 + 1, 2 - 3, 5 * 8, 13 / 21"
      ],
      "metadata": {
        "colab": {
          "base_uri": "https://localhost:8080/"
        },
        "id": "itYz4jz1r--Q",
        "outputId": "4c6f9c12-6c9d-4310-aaef-6558237932b4"
      },
      "execution_count": null,
      "outputs": [
        {
          "output_type": "execute_result",
          "data": {
            "text/plain": [
              "(2, -1, 40, 0.6190476190476191)"
            ]
          },
          "metadata": {},
          "execution_count": 21
        }
      ]
    },
    {
      "cell_type": "code",
      "source": [
        "20 / 4 # 정수 간 나누기를 해도 결과값은 무조건 실수"
      ],
      "metadata": {
        "colab": {
          "base_uri": "https://localhost:8080/"
        },
        "id": "x6U0dwnqsg7V",
        "outputId": "0ca66dff-6135-4ca8-ddf0-ce4aab2aa813"
      },
      "execution_count": null,
      "outputs": [
        {
          "output_type": "execute_result",
          "data": {
            "text/plain": [
              "5.0"
            ]
          },
          "metadata": {},
          "execution_count": 22
        }
      ]
    },
    {
      "cell_type": "code",
      "source": [
        "20 // 4, 25 // 4 # 몫 연산자, 버림 나눗셈 연산자"
      ],
      "metadata": {
        "colab": {
          "base_uri": "https://localhost:8080/"
        },
        "id": "QYTP3EmDszpF",
        "outputId": "c56b5ee5-604c-48c6-cfc4-da3d28f4721a"
      },
      "execution_count": null,
      "outputs": [
        {
          "output_type": "execute_result",
          "data": {
            "text/plain": [
              "(5, 6)"
            ]
          },
          "metadata": {},
          "execution_count": 23
        }
      ]
    },
    {
      "cell_type": "code",
      "source": [
        "5.5 // 2, 4 // 1.0, 2.5 // 0.2 # 항 중에(피연산자 중에) 하나라도 실수라면 실수 결과값"
      ],
      "metadata": {
        "colab": {
          "base_uri": "https://localhost:8080/"
        },
        "id": "BxN7fyBAs_5i",
        "outputId": "0299d6ca-f94f-48d2-cd62-8479584ec252"
      },
      "execution_count": null,
      "outputs": [
        {
          "output_type": "execute_result",
          "data": {
            "text/plain": [
              "(2.0, 4.0, 12.0)"
            ]
          },
          "metadata": {},
          "execution_count": 24
        }
      ]
    },
    {
      "cell_type": "code",
      "source": [
        "# %(나머지 연산자, 모듈로, 모듈러스)\n",
        "10 % 3, 10 // 3"
      ],
      "metadata": {
        "colab": {
          "base_uri": "https://localhost:8080/"
        },
        "id": "3MsyEFaQtOCx",
        "outputId": "1bef1132-391c-4b82-9738-c5f65fd9d333"
      },
      "execution_count": null,
      "outputs": [
        {
          "output_type": "execute_result",
          "data": {
            "text/plain": [
              "(1, 3)"
            ]
          },
          "metadata": {},
          "execution_count": 26
        }
      ]
    },
    {
      "cell_type": "code",
      "source": [
        "# 거듭제곱 연산자 (**) / 루트 연산자도 가능\n",
        "2 ** 5, 2 ** 0.5, 3 ** (1/3)"
      ],
      "metadata": {
        "colab": {
          "base_uri": "https://localhost:8080/"
        },
        "id": "t957ahfvtTjc",
        "outputId": "1e9e164c-c561-448c-ac9d-e6f6c6080309"
      },
      "execution_count": null,
      "outputs": [
        {
          "output_type": "execute_result",
          "data": {
            "text/plain": [
              "(32, 1.4142135623730951, 1.4422495703074083)"
            ]
          },
          "metadata": {},
          "execution_count": 28
        }
      ]
    },
    {
      "cell_type": "code",
      "source": [
        "# 값 -> 정수 (int(...))\n",
        "int(1), int(1.0), int(1 * 1), int(\"1\")"
      ],
      "metadata": {
        "colab": {
          "base_uri": "https://localhost:8080/"
        },
        "id": "yA7x6tC-wira",
        "outputId": "74cc5a0b-fea5-4762-fc68-bd4519d724ff"
      },
      "execution_count": null,
      "outputs": [
        {
          "output_type": "execute_result",
          "data": {
            "text/plain": [
              "(1, 1, 1, 1)"
            ]
          },
          "metadata": {},
          "execution_count": 31
        }
      ]
    },
    {
      "cell_type": "code",
      "source": [
        "int(\"1.0\") #정수로 변환할 수 없는 숫자 문자열이기 때문에 오류"
      ],
      "metadata": {
        "colab": {
          "base_uri": "https://localhost:8080/",
          "height": 172
        },
        "id": "hCWFvF4xwzQU",
        "outputId": "2a7c5053-a46a-4d72-9d94-da77f7d37230"
      },
      "execution_count": null,
      "outputs": [
        {
          "output_type": "error",
          "ename": "ValueError",
          "evalue": "ignored",
          "traceback": [
            "\u001b[0;31m---------------------------------------------------------------------------\u001b[0m",
            "\u001b[0;31mValueError\u001b[0m                                Traceback (most recent call last)",
            "\u001b[0;32m<ipython-input-32-204b518e16a8>\u001b[0m in \u001b[0;36m<module>\u001b[0;34m\u001b[0m\n\u001b[0;32m----> 1\u001b[0;31m \u001b[0mint\u001b[0m\u001b[0;34m(\u001b[0m\u001b[0;34m\"1.0\"\u001b[0m\u001b[0;34m)\u001b[0m \u001b[0;31m#정수로 변환할 수 없는 숫자 문자열이기 때문에 오류\u001b[0m\u001b[0;34m\u001b[0m\u001b[0;34m\u001b[0m\u001b[0m\n\u001b[0m",
            "\u001b[0;31mValueError\u001b[0m: invalid literal for int() with base 10: '1.0'"
          ]
        }
      ]
    },
    {
      "cell_type": "code",
      "source": [
        "int(\"일\") # 숫자가 아니기 때문에"
      ],
      "metadata": {
        "colab": {
          "base_uri": "https://localhost:8080/",
          "height": 172
        },
        "id": "TasmO7ktw7Km",
        "outputId": "a7fb91c4-8d9c-4bb2-b257-9219881da6b7"
      },
      "execution_count": null,
      "outputs": [
        {
          "output_type": "error",
          "ename": "ValueError",
          "evalue": "ignored",
          "traceback": [
            "\u001b[0;31m---------------------------------------------------------------------------\u001b[0m",
            "\u001b[0;31mValueError\u001b[0m                                Traceback (most recent call last)",
            "\u001b[0;32m<ipython-input-35-a6a0f9d9519b>\u001b[0m in \u001b[0;36m<module>\u001b[0;34m\u001b[0m\n\u001b[0;32m----> 1\u001b[0;31m \u001b[0mint\u001b[0m\u001b[0;34m(\u001b[0m\u001b[0;34m\"일\"\u001b[0m\u001b[0;34m)\u001b[0m \u001b[0;31m# 숫자가 아니기 때문에\u001b[0m\u001b[0;34m\u001b[0m\u001b[0;34m\u001b[0m\u001b[0m\n\u001b[0m",
            "\u001b[0;31mValueError\u001b[0m: invalid literal for int() with base 10: '일'"
          ]
        }
      ]
    },
    {
      "cell_type": "code",
      "source": [
        "# //, % -> 한번에\n",
        "divmod(5,2) # divmod(a,b) : a가 나눠지는 수, b는 나누는 수 -> (몫, 나머지) (리턴값, 반환값)"
      ],
      "metadata": {
        "colab": {
          "base_uri": "https://localhost:8080/"
        },
        "id": "feuU9vEhxEsC",
        "outputId": "4eef70d2-0bfc-4ad3-c181-18aeb6ecb845"
      },
      "execution_count": null,
      "outputs": [
        {
          "output_type": "execute_result",
          "data": {
            "text/plain": [
              "(2, 1)"
            ]
          },
          "metadata": {},
          "execution_count": 37
        }
      ]
    },
    {
      "cell_type": "code",
      "source": [
        "3.1 + 2.2 #부동소수점 오류"
      ],
      "metadata": {
        "colab": {
          "base_uri": "https://localhost:8080/"
        },
        "id": "icyeYa9MxYrV",
        "outputId": "f197a4ad-8c01-416d-a35e-77a2260f5d68"
      },
      "execution_count": null,
      "outputs": [
        {
          "output_type": "execute_result",
          "data": {
            "text/plain": [
              "5.300000000000001"
            ]
          },
          "metadata": {},
          "execution_count": 38
        }
      ]
    },
    {
      "cell_type": "code",
      "source": [
        "2.7 - 1.5 #부동소수점 오류"
      ],
      "metadata": {
        "colab": {
          "base_uri": "https://localhost:8080/"
        },
        "id": "VfKCtB7Vxck3",
        "outputId": "7788193b-1725-4f09-e974-41b4dae8b2a8"
      },
      "execution_count": null,
      "outputs": [
        {
          "output_type": "execute_result",
          "data": {
            "text/plain": [
              "1.2000000000000002"
            ]
          },
          "metadata": {},
          "execution_count": 39
        }
      ]
    },
    {
      "cell_type": "code",
      "source": [
        "1.5 * 3.1"
      ],
      "metadata": {
        "colab": {
          "base_uri": "https://localhost:8080/"
        },
        "id": "F0FKn52-xwv3",
        "outputId": "b7ba5da7-f716-450c-d2ed-d4798abd2cff"
      },
      "execution_count": null,
      "outputs": [
        {
          "output_type": "execute_result",
          "data": {
            "text/plain": [
              "4.65"
            ]
          },
          "metadata": {},
          "execution_count": 40
        }
      ]
    },
    {
      "cell_type": "code",
      "source": [
        "5.5 / 3.1"
      ],
      "metadata": {
        "colab": {
          "base_uri": "https://localhost:8080/"
        },
        "id": "8cyiFAExx16Y",
        "outputId": "31529912-6387-47b6-def4-1e3a87b168b4"
      },
      "execution_count": null,
      "outputs": [
        {
          "output_type": "execute_result",
          "data": {
            "text/plain": [
              "1.7741935483870968"
            ]
          },
          "metadata": {},
          "execution_count": 41
        }
      ]
    },
    {
      "cell_type": "code",
      "source": [
        "# float -> float(...)\n",
        "float(1), float(4 / 5), float(\"1.0\")"
      ],
      "metadata": {
        "colab": {
          "base_uri": "https://localhost:8080/"
        },
        "id": "qpUNfuOmx3YX",
        "outputId": "96322b8d-5aea-4edb-83de-0b1cf1cc95a4"
      },
      "execution_count": null,
      "outputs": [
        {
          "output_type": "execute_result",
          "data": {
            "text/plain": [
              "(1.0, 0.8, 1.0)"
            ]
          },
          "metadata": {},
          "execution_count": 43
        }
      ]
    },
    {
      "cell_type": "code",
      "source": [
        "# 텍스트로 특정한 숫자를 받았는데 정수화를 하고 싶음 -> 이게 소수점이 아니라는 확신이 없을 때\n",
        "int(float(\"1.0\"))"
      ],
      "metadata": {
        "colab": {
          "base_uri": "https://localhost:8080/"
        },
        "id": "pQEFJsLTyFtl",
        "outputId": "c053aced-0cd9-462d-8c5b-ad12f1e8bd1f"
      },
      "execution_count": null,
      "outputs": [
        {
          "output_type": "execute_result",
          "data": {
            "text/plain": [
              "1"
            ]
          },
          "metadata": {},
          "execution_count": 45
        }
      ]
    },
    {
      "cell_type": "code",
      "source": [
        "1 + 2 * 3"
      ],
      "metadata": {
        "colab": {
          "base_uri": "https://localhost:8080/"
        },
        "id": "aWHjGKStyOui",
        "outputId": "6d4e59b2-18cb-4e80-8d41-f8654a71a2f1"
      },
      "execution_count": null,
      "outputs": [
        {
          "output_type": "execute_result",
          "data": {
            "text/plain": [
              "7"
            ]
          },
          "metadata": {},
          "execution_count": 46
        }
      ]
    },
    {
      "cell_type": "code",
      "source": [
        "(1 + 2) * 3 # 괄호 안의 값이 먼저 계산됨"
      ],
      "metadata": {
        "colab": {
          "base_uri": "https://localhost:8080/"
        },
        "id": "nVxN56nuycbE",
        "outputId": "09badd5f-914a-4759-e505-f97316d358e2"
      },
      "execution_count": null,
      "outputs": [
        {
          "output_type": "execute_result",
          "data": {
            "text/plain": [
              "9"
            ]
          },
          "metadata": {},
          "execution_count": 47
        }
      ]
    },
    {
      "cell_type": "code",
      "source": [
        "x = 10 # = 할당해준다, == 동등연산자(같다)\n",
        "x"
      ],
      "metadata": {
        "colab": {
          "base_uri": "https://localhost:8080/"
        },
        "id": "dJnpxm7qygXd",
        "outputId": "37062d1a-f0b4-44c9-c94c-2e4b80042e21"
      },
      "execution_count": null,
      "outputs": [
        {
          "output_type": "execute_result",
          "data": {
            "text/plain": [
              "10"
            ]
          },
          "metadata": {},
          "execution_count": 49
        }
      ]
    },
    {
      "cell_type": "code",
      "source": [
        "y = \"The행복식당\"\n",
        "y"
      ],
      "metadata": {
        "colab": {
          "base_uri": "https://localhost:8080/",
          "height": 35
        },
        "id": "wQ54GMhyzKCN",
        "outputId": "88dde413-a8a7-4747-9b60-02edb69cf1d9"
      },
      "execution_count": null,
      "outputs": [
        {
          "output_type": "execute_result",
          "data": {
            "text/plain": [
              "'The행복식당'"
            ],
            "application/vnd.google.colaboratory.intrinsic+json": {
              "type": "string"
            }
          },
          "metadata": {},
          "execution_count": 51
        }
      ]
    },
    {
      "cell_type": "code",
      "source": [
        "type(x), type(y)"
      ],
      "metadata": {
        "colab": {
          "base_uri": "https://localhost:8080/"
        },
        "id": "ClBSG-KCzdwE",
        "outputId": "4266a895-19fb-4f4c-c23b-30017d6ca4d1"
      },
      "execution_count": null,
      "outputs": [
        {
          "output_type": "execute_result",
          "data": {
            "text/plain": [
              "(int, str)"
            ]
          },
          "metadata": {},
          "execution_count": 53
        }
      ]
    },
    {
      "cell_type": "markdown",
      "source": [
        "* '=' : 대입 연산자\n",
        "* 같다, '==' : 동등 연산자"
      ],
      "metadata": {
        "id": "6sO38UE3z6wn"
      }
    },
    {
      "cell_type": "code",
      "source": [
        "x = None # 이름은 주어지되 값 할당x, 비어있음\n",
        "print(x)"
      ],
      "metadata": {
        "colab": {
          "base_uri": "https://localhost:8080/"
        },
        "id": "xq22BCvL0AwX",
        "outputId": "59c2f6ac-2cbe-4e1f-8866-b77f00408b09"
      },
      "execution_count": null,
      "outputs": [
        {
          "output_type": "stream",
          "name": "stdout",
          "text": [
            "None\n"
          ]
        }
      ]
    },
    {
      "cell_type": "code",
      "source": [
        "a = 12 + 13 * 10 + 5\n",
        "b = 17 / 5 * 20 + 19\n",
        "a + b"
      ],
      "metadata": {
        "colab": {
          "base_uri": "https://localhost:8080/"
        },
        "id": "zKrnsW1W0KiH",
        "outputId": "b5661556-c8d6-4e09-cd8c-97cfadf4cc1e"
      },
      "execution_count": null,
      "outputs": [
        {
          "output_type": "execute_result",
          "data": {
            "text/plain": [
              "234.0"
            ]
          },
          "metadata": {},
          "execution_count": 56
        }
      ]
    },
    {
      "cell_type": "code",
      "source": [
        "c = a + b\n",
        "c"
      ],
      "metadata": {
        "colab": {
          "base_uri": "https://localhost:8080/"
        },
        "id": "EgbPffT_00lC",
        "outputId": "25481520-dc45-4724-f480-554830b88f12"
      },
      "execution_count": null,
      "outputs": [
        {
          "output_type": "execute_result",
          "data": {
            "text/plain": [
              "234.0"
            ]
          },
          "metadata": {},
          "execution_count": 57
        }
      ]
    },
    {
      "cell_type": "code",
      "source": [
        "a = 10\n",
        "a + 20"
      ],
      "metadata": {
        "colab": {
          "base_uri": "https://localhost:8080/"
        },
        "id": "2oGCtR1H04Ii",
        "outputId": "0632221b-f0b2-4ebf-b1bc-fc0700d8f59d"
      },
      "execution_count": null,
      "outputs": [
        {
          "output_type": "execute_result",
          "data": {
            "text/plain": [
              "30"
            ]
          },
          "metadata": {},
          "execution_count": 64
        }
      ]
    },
    {
      "cell_type": "code",
      "source": [
        "a"
      ],
      "metadata": {
        "colab": {
          "base_uri": "https://localhost:8080/"
        },
        "id": "0xOa_jsY1AEM",
        "outputId": "dad457ff-9eef-490f-9df9-7b316c08d31b"
      },
      "execution_count": null,
      "outputs": [
        {
          "output_type": "execute_result",
          "data": {
            "text/plain": [
              "10"
            ]
          },
          "metadata": {},
          "execution_count": 65
        }
      ]
    },
    {
      "cell_type": "code",
      "source": [
        "a = a + 20"
      ],
      "metadata": {
        "id": "NN_fxsww1AeU"
      },
      "execution_count": null,
      "outputs": []
    },
    {
      "cell_type": "code",
      "source": [
        "a"
      ],
      "metadata": {
        "colab": {
          "base_uri": "https://localhost:8080/"
        },
        "id": "bqmwaTjQ1DfJ",
        "outputId": "e8a1ca0d-4e4d-4c17-80a0-01dab2e4149a"
      },
      "execution_count": null,
      "outputs": [
        {
          "output_type": "execute_result",
          "data": {
            "text/plain": [
              "30"
            ]
          },
          "metadata": {},
          "execution_count": 67
        }
      ]
    },
    {
      "cell_type": "code",
      "source": [
        "a += 20\n",
        "a"
      ],
      "metadata": {
        "colab": {
          "base_uri": "https://localhost:8080/"
        },
        "id": "vRlxxDn81XYc",
        "outputId": "20b3e005-28f2-4bfc-eab0-cee614139f8e"
      },
      "execution_count": null,
      "outputs": [
        {
          "output_type": "execute_result",
          "data": {
            "text/plain": [
              "70"
            ]
          },
          "metadata": {},
          "execution_count": 69
        }
      ]
    },
    {
      "cell_type": "code",
      "source": [
        "a %= 5\n",
        "a"
      ],
      "metadata": {
        "colab": {
          "base_uri": "https://localhost:8080/"
        },
        "id": "NMx3Qqz41fLf",
        "outputId": "e41fd794-6632-4a57-803e-32b220d63396"
      },
      "execution_count": null,
      "outputs": [
        {
          "output_type": "execute_result",
          "data": {
            "text/plain": [
              "0"
            ]
          },
          "metadata": {},
          "execution_count": 70
        }
      ]
    },
    {
      "cell_type": "code",
      "source": [
        "d += 10 # d가 없어서(정의되지 않아서) 새로운 값을 더한 뒤 대입임"
      ],
      "metadata": {
        "colab": {
          "base_uri": "https://localhost:8080/",
          "height": 172
        },
        "id": "SXrWH5CQ1ZXv",
        "outputId": "4a5fc5af-5c3e-48d3-9868-7a01e19f9b9d"
      },
      "execution_count": null,
      "outputs": [
        {
          "output_type": "error",
          "ename": "NameError",
          "evalue": "ignored",
          "traceback": [
            "\u001b[0;31m---------------------------------------------------------------------------\u001b[0m",
            "\u001b[0;31mNameError\u001b[0m                                 Traceback (most recent call last)",
            "\u001b[0;32m<ipython-input-71-4f68dbe5f190>\u001b[0m in \u001b[0;36m<module>\u001b[0;34m\u001b[0m\n\u001b[0;32m----> 1\u001b[0;31m \u001b[0md\u001b[0m \u001b[0;34m+=\u001b[0m \u001b[0;36m10\u001b[0m \u001b[0;31m# d가 없어서(정의되지 않아서) 새로운 값을 더한 뒤 대입임\u001b[0m\u001b[0;34m\u001b[0m\u001b[0;34m\u001b[0m\u001b[0m\n\u001b[0m",
            "\u001b[0;31mNameError\u001b[0m: name 'd' is not defined"
          ]
        }
      ]
    },
    {
      "cell_type": "code",
      "source": [
        "d = 10 # 변수의 자리를 만드는 걸 '선언', 값을 대입하는 걸 '초기화'\n",
        "# 초기화는 != reset / 초기화 : initialization"
      ],
      "metadata": {
        "id": "B6lffyQY1mdk"
      },
      "execution_count": null,
      "outputs": []
    },
    {
      "cell_type": "code",
      "source": [
        "input()"
      ],
      "metadata": {
        "colab": {
          "base_uri": "https://localhost:8080/",
          "height": 54
        },
        "id": "cdkIU_Pa2DJ_",
        "outputId": "2c4448ca-9b0c-4ac7-efa6-a3fb90d808b8"
      },
      "execution_count": null,
      "outputs": [
        {
          "name": "stdout",
          "output_type": "stream",
          "text": [
            "안녕\n"
          ]
        },
        {
          "output_type": "execute_result",
          "data": {
            "text/plain": [
              "'안녕'"
            ],
            "application/vnd.google.colaboratory.intrinsic+json": {
              "type": "string"
            }
          },
          "metadata": {},
          "execution_count": 72
        }
      ]
    },
    {
      "cell_type": "code",
      "source": [
        "input(\"인사를 친절하게 해줘 : \") # 문자열 -> 안내문"
      ],
      "metadata": {
        "colab": {
          "base_uri": "https://localhost:8080/",
          "height": 54
        },
        "id": "etMqeuVG2HTu",
        "outputId": "9bef7269-a460-4ee2-d159-8dd361bee2a0"
      },
      "execution_count": null,
      "outputs": [
        {
          "name": "stdout",
          "output_type": "stream",
          "text": [
            "인사를 친절하게 해줘 : 싫어\n"
          ]
        },
        {
          "output_type": "execute_result",
          "data": {
            "text/plain": [
              "'싫어'"
            ],
            "application/vnd.google.colaboratory.intrinsic+json": {
              "type": "string"
            }
          },
          "metadata": {},
          "execution_count": 74
        }
      ]
    },
    {
      "cell_type": "code",
      "source": [
        "x = input() # 프롬프트에 '문자열'을 입력하는 함수(기능)\n",
        "x"
      ],
      "metadata": {
        "colab": {
          "base_uri": "https://localhost:8080/",
          "height": 54
        },
        "id": "UwajYm3M2PHK",
        "outputId": "550b5711-800b-44b6-e246-a537331b6d5e"
      },
      "execution_count": null,
      "outputs": [
        {
          "name": "stdout",
          "output_type": "stream",
          "text": [
            "x라는 미스터리\n"
          ]
        },
        {
          "output_type": "execute_result",
          "data": {
            "text/plain": [
              "'x라는 미스터리'"
            ],
            "application/vnd.google.colaboratory.intrinsic+json": {
              "type": "string"
            }
          },
          "metadata": {},
          "execution_count": 75
        }
      ]
    },
    {
      "cell_type": "code",
      "source": [
        "type(x)"
      ],
      "metadata": {
        "colab": {
          "base_uri": "https://localhost:8080/"
        },
        "id": "KC9tJdWh2TrJ",
        "outputId": "56286ad7-7208-4b87-cc5b-b375e89ee9e7"
      },
      "execution_count": null,
      "outputs": [
        {
          "output_type": "execute_result",
          "data": {
            "text/plain": [
              "str"
            ]
          },
          "metadata": {},
          "execution_count": 76
        }
      ]
    },
    {
      "cell_type": "code",
      "source": [
        "a = input(\"숫자를 입력해주세요 : \")\n",
        "b = input(\"숫자를 입력해주세요 : \")\n",
        "\n",
        "a + b"
      ],
      "metadata": {
        "colab": {
          "base_uri": "https://localhost:8080/",
          "height": 72
        },
        "id": "nJOgn29X2aS7",
        "outputId": "1f1a392c-e8cd-4822-a529-1a25fe659d43"
      },
      "execution_count": null,
      "outputs": [
        {
          "name": "stdout",
          "output_type": "stream",
          "text": [
            "숫자를 입력해주세요 : 1\n",
            "숫자를 입력해주세요 : 2\n"
          ]
        },
        {
          "output_type": "execute_result",
          "data": {
            "text/plain": [
              "'12'"
            ],
            "application/vnd.google.colaboratory.intrinsic+json": {
              "type": "string"
            }
          },
          "metadata": {},
          "execution_count": 77
        }
      ]
    },
    {
      "cell_type": "code",
      "source": [
        "a = input(\"숫자를 입력해주세요 : \")\n",
        "b = input(\"숫자를 입력해주세요 : \")\n",
        "\n",
        "int(a) + int(b) # 덧셈 연산을 실행하기 전에 int가 실행 되면서 정수 변환"
      ],
      "metadata": {
        "colab": {
          "base_uri": "https://localhost:8080/"
        },
        "id": "EU7pUvsi2sVx",
        "outputId": "0e3e2c34-fd63-4dba-f84d-3de800b90799"
      },
      "execution_count": null,
      "outputs": [
        {
          "name": "stdout",
          "output_type": "stream",
          "text": [
            "숫자를 입력해주세요 : 1\n",
            "숫자를 입력해주세요 : 2\n"
          ]
        },
        {
          "output_type": "execute_result",
          "data": {
            "text/plain": [
              "3"
            ]
          },
          "metadata": {},
          "execution_count": 80
        }
      ]
    },
    {
      "cell_type": "code",
      "source": [
        "type(a), type(b)"
      ],
      "metadata": {
        "colab": {
          "base_uri": "https://localhost:8080/"
        },
        "id": "-Azi2abR3MU7",
        "outputId": "ba250180-0e22-4e0f-8b51-70ed370bcd39"
      },
      "execution_count": null,
      "outputs": [
        {
          "output_type": "execute_result",
          "data": {
            "text/plain": [
              "(str, str)"
            ]
          },
          "metadata": {},
          "execution_count": 81
        }
      ]
    },
    {
      "cell_type": "code",
      "source": [],
      "metadata": {
        "id": "tukF5sCf3QrO"
      },
      "execution_count": null,
      "outputs": []
    },
    {
      "cell_type": "code",
      "source": [
        "a = int(input(\"숫자를 입력해주세요 : \")) # 변수 a에 대입하기 전에 input의 결과값을 int로 변환\n",
        "b = int(input(\"숫자를 입력해주세요 : \"))\n",
        "\n",
        "a + b"
      ],
      "metadata": {
        "colab": {
          "base_uri": "https://localhost:8080/"
        },
        "id": "jTi2RI6H2xko",
        "outputId": "e150dea0-6d6d-4b08-d5ac-64333ec22a6d"
      },
      "execution_count": null,
      "outputs": [
        {
          "name": "stdout",
          "output_type": "stream",
          "text": [
            "숫자를 입력해주세요 : 3\n",
            "숫자를 입력해주세요 : 4\n"
          ]
        },
        {
          "output_type": "execute_result",
          "data": {
            "text/plain": [
              "7"
            ]
          },
          "metadata": {},
          "execution_count": 82
        }
      ]
    },
    {
      "cell_type": "code",
      "source": [
        "type(a), type(b)"
      ],
      "metadata": {
        "colab": {
          "base_uri": "https://localhost:8080/"
        },
        "id": "GU9MOZgN3Vd5",
        "outputId": "43567cfc-78a5-4704-b3b7-c879c2763001"
      },
      "execution_count": null,
      "outputs": [
        {
          "output_type": "execute_result",
          "data": {
            "text/plain": [
              "(int, int)"
            ]
          },
          "metadata": {},
          "execution_count": 83
        }
      ]
    },
    {
      "cell_type": "code",
      "source": [
        "\"안녕하세요 여러분\" # 문자열 (리터럴)"
      ],
      "metadata": {
        "colab": {
          "base_uri": "https://localhost:8080/",
          "height": 35
        },
        "id": "xaGvwwVc3fD_",
        "outputId": "04a206a9-d1db-4ae4-89d7-9c2e9a67909d"
      },
      "execution_count": null,
      "outputs": [
        {
          "output_type": "execute_result",
          "data": {
            "text/plain": [
              "'안녕하세요 여러분'"
            ],
            "application/vnd.google.colaboratory.intrinsic+json": {
              "type": "string"
            }
          },
          "metadata": {},
          "execution_count": 84
        }
      ]
    },
    {
      "cell_type": "code",
      "source": [
        "type(\"안녕하세요 여러분\")"
      ],
      "metadata": {
        "colab": {
          "base_uri": "https://localhost:8080/"
        },
        "id": "na2d1dkT3rLC",
        "outputId": "b581e65b-3124-4f44-85a0-4aed23dad86b"
      },
      "execution_count": null,
      "outputs": [
        {
          "output_type": "execute_result",
          "data": {
            "text/plain": [
              "str"
            ]
          },
          "metadata": {},
          "execution_count": 85
        }
      ]
    },
    {
      "cell_type": "code",
      "source": [
        "# 특정한 구분자(separator)를 기준으로 문자열을 분리 (기본값 : ' ' 공백)\n",
        "\"안녕하세요 여러분\".split() # 특정한 타입, 객체에 내장되어 있는 함수(기능) : 메소드(method)"
      ],
      "metadata": {
        "colab": {
          "base_uri": "https://localhost:8080/"
        },
        "id": "1clgDL0i3vXH",
        "outputId": "bf88c313-ab6a-4f8b-fad3-8febca336255"
      },
      "execution_count": null,
      "outputs": [
        {
          "output_type": "execute_result",
          "data": {
            "text/plain": [
              "['안녕하세요', '여러분']"
            ]
          },
          "metadata": {},
          "execution_count": 86
        }
      ]
    },
    {
      "cell_type": "code",
      "source": [
        "\"안녕하세요.여러분\".split()"
      ],
      "metadata": {
        "colab": {
          "base_uri": "https://localhost:8080/"
        },
        "id": "a7cwVPIG4U84",
        "outputId": "18890cc0-8d6d-4d0c-dbcc-30c24770717b"
      },
      "execution_count": null,
      "outputs": [
        {
          "output_type": "execute_result",
          "data": {
            "text/plain": [
              "['안녕하세요.여러분']"
            ]
          },
          "metadata": {},
          "execution_count": 87
        }
      ]
    },
    {
      "cell_type": "code",
      "source": [
        "\"안녕하세요.여러분\".split(\".\") # 매개변수(parameter, 인수)\n",
        "# 매개변수에 들어가는 값 : 인자(argument)"
      ],
      "metadata": {
        "colab": {
          "base_uri": "https://localhost:8080/"
        },
        "id": "rft40xm44bJb",
        "outputId": "2d920119-f043-4d63-aafe-7b0b28d9709a"
      },
      "execution_count": null,
      "outputs": [
        {
          "output_type": "execute_result",
          "data": {
            "text/plain": [
              "['안녕하세요', '여러분']"
            ]
          },
          "metadata": {},
          "execution_count": 88
        }
      ]
    },
    {
      "cell_type": "code",
      "source": [
        "a, b = \"안녕하세요.여러분\".split(\".\") \n",
        "# 2개 이상의 값이 결과로 나올 경우 \n",
        "# 해당 결과의 갯수에 맞게 변수를 위치시켜주면 알아서 할당"
      ],
      "metadata": {
        "id": "BNj4yc185TcO"
      },
      "execution_count": null,
      "outputs": []
    },
    {
      "cell_type": "code",
      "source": [
        "a, b"
      ],
      "metadata": {
        "colab": {
          "base_uri": "https://localhost:8080/"
        },
        "id": "DdDlWExx5irs",
        "outputId": "e10be83f-a824-4d4f-ddbb-32118dc63705"
      },
      "execution_count": null,
      "outputs": [
        {
          "output_type": "execute_result",
          "data": {
            "text/plain": [
              "('안녕하세요', '여러분')"
            ]
          },
          "metadata": {},
          "execution_count": 91
        }
      ]
    },
    {
      "cell_type": "code",
      "source": [
        "a, b = input('문자열 두 개를 스페이스 기준으로 입력해주세요 : ').split()\n",
        "a, b"
      ],
      "metadata": {
        "colab": {
          "base_uri": "https://localhost:8080/"
        },
        "id": "mOXwgJuN5mGd",
        "outputId": "7dd89039-8b33-4dc3-d568-2ee72f302b28"
      },
      "execution_count": null,
      "outputs": [
        {
          "name": "stdout",
          "output_type": "stream",
          "text": [
            "문자열 두 개를 스페이스 기준으로 입력해주세요 : 안녕 디지몬\n"
          ]
        },
        {
          "output_type": "execute_result",
          "data": {
            "text/plain": [
              "('안녕', '디지몬')"
            ]
          },
          "metadata": {},
          "execution_count": 94
        }
      ]
    },
    {
      "cell_type": "code",
      "source": [
        "a, b = input('문자열 두 개를 콤마(,) 기준으로 입력해주세요 : ').split(',')\n",
        "a, b"
      ],
      "metadata": {
        "colab": {
          "base_uri": "https://localhost:8080/"
        },
        "id": "_2CQAVmW58ey",
        "outputId": "681182b8-a7b4-463f-8607-2d20c867e5c2"
      },
      "execution_count": null,
      "outputs": [
        {
          "name": "stdout",
          "output_type": "stream",
          "text": [
            "문자열 두 개를 콤마(,) 기준으로 입력해주세요 : 버터풀,야도란\n"
          ]
        },
        {
          "output_type": "execute_result",
          "data": {
            "text/plain": [
              "('버터풀', '야도란')"
            ]
          },
          "metadata": {},
          "execution_count": 97
        }
      ]
    },
    {
      "cell_type": "code",
      "source": [
        "a, b = input('문자열 두 개를 콤마(,) 기준으로 입력해주세요 : ').split(',')\n",
        "a, b\n",
        "# 3개를 입력했으므로 변수 부족하여 오류"
      ],
      "metadata": {
        "colab": {
          "base_uri": "https://localhost:8080/",
          "height": 209
        },
        "id": "RNdZVA9c6Vax",
        "outputId": "0951e36f-2ae2-448b-cb48-7ff5f77264d3"
      },
      "execution_count": null,
      "outputs": [
        {
          "name": "stdout",
          "output_type": "stream",
          "text": [
            "문자열 두 개를 콤마(,) 기준으로 입력해주세요 : 버터풀,야도란,피죤투\n"
          ]
        },
        {
          "output_type": "error",
          "ename": "ValueError",
          "evalue": "ignored",
          "traceback": [
            "\u001b[0;31m---------------------------------------------------------------------------\u001b[0m",
            "\u001b[0;31mValueError\u001b[0m                                Traceback (most recent call last)",
            "\u001b[0;32m<ipython-input-98-1b11edba6ffd>\u001b[0m in \u001b[0;36m<module>\u001b[0;34m\u001b[0m\n\u001b[0;32m----> 1\u001b[0;31m \u001b[0ma\u001b[0m\u001b[0;34m,\u001b[0m \u001b[0mb\u001b[0m \u001b[0;34m=\u001b[0m \u001b[0minput\u001b[0m\u001b[0;34m(\u001b[0m\u001b[0;34m'문자열 두 개를 콤마(,) 기준으로 입력해주세요 : '\u001b[0m\u001b[0;34m)\u001b[0m\u001b[0;34m.\u001b[0m\u001b[0msplit\u001b[0m\u001b[0;34m(\u001b[0m\u001b[0;34m','\u001b[0m\u001b[0;34m)\u001b[0m\u001b[0;34m\u001b[0m\u001b[0;34m\u001b[0m\u001b[0m\n\u001b[0m\u001b[1;32m      2\u001b[0m \u001b[0ma\u001b[0m\u001b[0;34m,\u001b[0m \u001b[0mb\u001b[0m\u001b[0;34m\u001b[0m\u001b[0;34m\u001b[0m\u001b[0m\n",
            "\u001b[0;31mValueError\u001b[0m: too many values to unpack (expected 2)"
          ]
        }
      ]
    },
    {
      "cell_type": "code",
      "source": [
        "a, b = input('숫자 두 개를 입력하세요 : ').split()\n",
        "a + b"
      ],
      "metadata": {
        "colab": {
          "base_uri": "https://localhost:8080/",
          "height": 54
        },
        "id": "JOoHFERa62ib",
        "outputId": "200b9046-86d5-4285-913c-707227486fc1"
      },
      "execution_count": null,
      "outputs": [
        {
          "name": "stdout",
          "output_type": "stream",
          "text": [
            "숫자 두 개를 입력하세요 : 1 2\n"
          ]
        },
        {
          "output_type": "execute_result",
          "data": {
            "text/plain": [
              "'12'"
            ],
            "application/vnd.google.colaboratory.intrinsic+json": {
              "type": "string"
            }
          },
          "metadata": {},
          "execution_count": 100
        }
      ]
    },
    {
      "cell_type": "code",
      "source": [
        "a, b = input('숫자 두 개를 입력하세요 : ').split()\n",
        "int(a) + int(b)"
      ],
      "metadata": {
        "colab": {
          "base_uri": "https://localhost:8080/"
        },
        "id": "T7xQvKhK6ecM",
        "outputId": "92484a84-3cdb-4757-ea22-ddc3d8e97c90"
      },
      "execution_count": null,
      "outputs": [
        {
          "name": "stdout",
          "output_type": "stream",
          "text": [
            "숫자 두 개를 입력하세요 : 1 2\n"
          ]
        },
        {
          "output_type": "execute_result",
          "data": {
            "text/plain": [
              "3"
            ]
          },
          "metadata": {},
          "execution_count": 99
        }
      ]
    },
    {
      "cell_type": "code",
      "source": [
        "a, b = input('숫자 두 개를 입력하세요 : ').split()\n",
        "a = int(a)\n",
        "b = int(b)\n",
        "a + b"
      ],
      "metadata": {
        "colab": {
          "base_uri": "https://localhost:8080/"
        },
        "id": "OMtw-cYz68Q9",
        "outputId": "5a8f9767-7af2-4ca8-eb91-c92c486541e0"
      },
      "execution_count": null,
      "outputs": [
        {
          "name": "stdout",
          "output_type": "stream",
          "text": [
            "숫자 두 개를 입력하세요 : 3 4\n"
          ]
        },
        {
          "output_type": "execute_result",
          "data": {
            "text/plain": [
              "7"
            ]
          },
          "metadata": {},
          "execution_count": 101
        }
      ]
    },
    {
      "cell_type": "code",
      "source": [
        "a, b = map(int,input('숫자 두 개를 입력해주세요 : ').split()) # ()는 실행\n",
        "# map(실행되기 전에 함수, 함수를 통해서 처리하고 싶은 값들)\n",
        "a + b"
      ],
      "metadata": {
        "colab": {
          "base_uri": "https://localhost:8080/"
        },
        "id": "Pj8neyJl7OPO",
        "outputId": "57f2ed4e-7937-4dce-d7ac-4a8603f211a6"
      },
      "execution_count": null,
      "outputs": [
        {
          "name": "stdout",
          "output_type": "stream",
          "text": [
            "숫자 두 개를 입력해주세요 : 1 6\n"
          ]
        },
        {
          "output_type": "execute_result",
          "data": {
            "text/plain": [
              "7"
            ]
          },
          "metadata": {},
          "execution_count": 110
        }
      ]
    },
    {
      "cell_type": "code",
      "source": [
        "a, b = map(float, input('숫자 두 개를 입력해주세요 : ').split()) # ()는 실행\n",
        "# map(실행되기 전에 함수, 함수를 통해서 처리하고 싶은 값들)\n",
        "a + b"
      ],
      "metadata": {
        "colab": {
          "base_uri": "https://localhost:8080/"
        },
        "id": "LdPzddOt8Ahu",
        "outputId": "c54c613d-adf3-4893-c712-150ef8798bfa"
      },
      "execution_count": null,
      "outputs": [
        {
          "name": "stdout",
          "output_type": "stream",
          "text": [
            "숫자 두 개를 입력해주세요 : 1.0 2.2\n"
          ]
        },
        {
          "output_type": "execute_result",
          "data": {
            "text/plain": [
              "3.2"
            ]
          },
          "metadata": {},
          "execution_count": 109
        }
      ]
    },
    {
      "cell_type": "code",
      "source": [
        "a, b = map(print, input('숫자 두 개를 입력해주세요 : ').split()) # ()는 실행\n",
        "# map(실행되기 전에 함수, 함수를 통해서 처리하고 싶은 값들)\n",
        "a + b"
      ],
      "metadata": {
        "colab": {
          "base_uri": "https://localhost:8080/",
          "height": 263
        },
        "id": "xzlENISV7Zmy",
        "outputId": "6f04972e-7bf1-4a68-e026-45ca1c8ff39b"
      },
      "execution_count": null,
      "outputs": [
        {
          "output_type": "stream",
          "name": "stdout",
          "text": [
            "숫자 두 개를 입력해주세요 : 5 2\n",
            "5\n",
            "2\n"
          ]
        },
        {
          "output_type": "error",
          "ename": "TypeError",
          "evalue": "ignored",
          "traceback": [
            "\u001b[0;31m---------------------------------------------------------------------------\u001b[0m",
            "\u001b[0;31mTypeError\u001b[0m                                 Traceback (most recent call last)",
            "\u001b[0;32m<ipython-input-112-3464c985515c>\u001b[0m in \u001b[0;36m<module>\u001b[0;34m\u001b[0m\n\u001b[1;32m      1\u001b[0m \u001b[0ma\u001b[0m\u001b[0;34m,\u001b[0m \u001b[0mb\u001b[0m \u001b[0;34m=\u001b[0m \u001b[0mmap\u001b[0m\u001b[0;34m(\u001b[0m\u001b[0mprint\u001b[0m\u001b[0;34m,\u001b[0m \u001b[0minput\u001b[0m\u001b[0;34m(\u001b[0m\u001b[0;34m'숫자 두 개를 입력해주세요 : '\u001b[0m\u001b[0;34m)\u001b[0m\u001b[0;34m.\u001b[0m\u001b[0msplit\u001b[0m\u001b[0;34m(\u001b[0m\u001b[0;34m)\u001b[0m\u001b[0;34m)\u001b[0m \u001b[0;31m# ()는 실행\u001b[0m\u001b[0;34m\u001b[0m\u001b[0;34m\u001b[0m\u001b[0m\n\u001b[1;32m      2\u001b[0m \u001b[0;31m# map(실행되기 전에 함수, 함수를 통해서 처리하고 싶은 값들)\u001b[0m\u001b[0;34m\u001b[0m\u001b[0;34m\u001b[0m\u001b[0;34m\u001b[0m\u001b[0m\n\u001b[0;32m----> 3\u001b[0;31m \u001b[0ma\u001b[0m \u001b[0;34m+\u001b[0m \u001b[0mb\u001b[0m\u001b[0;34m\u001b[0m\u001b[0;34m\u001b[0m\u001b[0m\n\u001b[0m",
            "\u001b[0;31mTypeError\u001b[0m: unsupported operand type(s) for +: 'NoneType' and 'NoneType'"
          ]
        }
      ]
    },
    {
      "cell_type": "code",
      "source": [
        "print(\"hello world\")"
      ],
      "metadata": {
        "colab": {
          "base_uri": "https://localhost:8080/"
        },
        "id": "sRaT-wZv_ZIl",
        "outputId": "a804cb76-ca03-4a24-803f-ffe73c94b099"
      },
      "execution_count": null,
      "outputs": [
        {
          "output_type": "stream",
          "name": "stdout",
          "text": [
            "hello world\n"
          ]
        }
      ]
    },
    {
      "cell_type": "code",
      "source": [
        "print(\"a\", \"b\", 1) # 매개변수의 갯수가 정해져 있지 않는 함수 # args..."
      ],
      "metadata": {
        "colab": {
          "base_uri": "https://localhost:8080/"
        },
        "id": "ZxA-3hx1_ePP",
        "outputId": "dafd9646-0bab-43af-9aee-48a3d2aced32"
      },
      "execution_count": null,
      "outputs": [
        {
          "output_type": "stream",
          "name": "stdout",
          "text": [
            "a b 1\n"
          ]
        }
      ]
    },
    {
      "cell_type": "code",
      "source": [
        "print(\"a\", \"b\", 1 , sep=' ') # sep=' '\n",
        "print(\"a\", \"b\", 1 , sep='')\n",
        "print(\"a\", \"b\", 1 , sep=';')\n",
        "print(\"a\", \"b\", 1 , sep='랑 ')"
      ],
      "metadata": {
        "colab": {
          "base_uri": "https://localhost:8080/"
        },
        "id": "Pjv8V98V_lHH",
        "outputId": "d956bfce-2f54-46df-e6cf-d5c8261a2d02"
      },
      "execution_count": null,
      "outputs": [
        {
          "output_type": "stream",
          "name": "stdout",
          "text": [
            "a b 1\n",
            "ab1\n",
            "a;b;1\n",
            "a랑 b랑 1\n"
          ]
        }
      ]
    },
    {
      "cell_type": "code",
      "source": [
        "print(\"민지\", end=\"\\n\") # 자동으로 줄바꿈이 됨 (end=\"\\n\")\n",
        "print(\"다니엘\")\n",
        "print(\"혜인\", end='')\n",
        "print(\"혜린\", end='라는 사람,\\n')\n",
        "print(\"하니\")"
      ],
      "metadata": {
        "colab": {
          "base_uri": "https://localhost:8080/"
        },
        "id": "TWLgsrvkANMm",
        "outputId": "08cf5bcf-c2c5-493c-af3a-2d044ae5c770"
      },
      "execution_count": null,
      "outputs": [
        {
          "output_type": "stream",
          "name": "stdout",
          "text": [
            "민지\n",
            "다니엘\n",
            "혜인혜린라는 사람,\n",
            "하니\n"
          ]
        }
      ]
    },
    {
      "cell_type": "code",
      "source": [
        "print(\"민지\\n다니엘\\n혜인\\n해린\\n하니\")"
      ],
      "metadata": {
        "colab": {
          "base_uri": "https://localhost:8080/"
        },
        "id": "KSFNGKQEBhGg",
        "outputId": "ceafb4ff-99ce-4efb-d6be-52f8dec8e4da"
      },
      "execution_count": null,
      "outputs": [
        {
          "output_type": "stream",
          "name": "stdout",
          "text": [
            "민지\n",
            "다니엘\n",
            "혜인\n",
            "해린\n",
            "하니\n"
          ]
        }
      ]
    },
    {
      "cell_type": "code",
      "source": [
        "1_000_000\n",
        "1000000"
      ],
      "metadata": {
        "colab": {
          "base_uri": "https://localhost:8080/"
        },
        "id": "fPk7VLehBkSM",
        "outputId": "ca25870f-1c0c-4f38-d1d4-9b74f4b2acce"
      },
      "execution_count": null,
      "outputs": [
        {
          "output_type": "execute_result",
          "data": {
            "text/plain": [
              "1000000"
            ]
          },
          "metadata": {},
          "execution_count": 132
        }
      ]
    },
    {
      "cell_type": "code",
      "source": [
        "_"
      ],
      "metadata": {
        "colab": {
          "base_uri": "https://localhost:8080/"
        },
        "id": "_CTGQTQWBndL",
        "outputId": "650fe7d2-c530-4871-97ed-d438828b66bf"
      },
      "execution_count": null,
      "outputs": [
        {
          "output_type": "execute_result",
          "data": {
            "text/plain": [
              "1000000"
            ]
          },
          "metadata": {},
          "execution_count": 133
        }
      ]
    }
  ]
}