{
  "nbformat": 4,
  "nbformat_minor": 0,
  "metadata": {
    "colab": {
      "provenance": [],
      "include_colab_link": true
    },
    "kernelspec": {
      "name": "python3",
      "display_name": "Python 3"
    },
    "language_info": {
      "name": "python"
    }
  },
  "cells": [
    {
      "cell_type": "markdown",
      "metadata": {
        "id": "view-in-github",
        "colab_type": "text"
      },
      "source": [
        "<a href=\"https://colab.research.google.com/github/JaejinLee1215/Python_LJJ/blob/main/submission/JaejinLee1215/ch02_02_%EB%AC%B8%EC%9E%90%EC%97%B4_%EC%9D%B4%EC%9E%AC%EC%A7%84.ipynb\" target=\"_parent\"><img src=\"https://colab.research.google.com/assets/colab-badge.svg\" alt=\"Open In Colab\"/></a>"
      ]
    },
    {
      "cell_type": "markdown",
      "source": [
        "# 문자열"
      ],
      "metadata": {
        "id": "SO7ojgWa_d34"
      }
    },
    {
      "cell_type": "markdown",
      "source": [
        "## 문자열 사용하기"
      ],
      "metadata": {
        "id": "Wq_Nv9Cf_hvx"
      }
    },
    {
      "cell_type": "code",
      "source": [
        "# 문자열 'Hello, world!'를 출력\n",
        "hello = \"Hello, world!\"\n",
        "print(hello)\n",
        "hello"
      ],
      "metadata": {
        "colab": {
          "base_uri": "https://localhost:8080/",
          "height": 54
        },
        "id": "T__G8rT6_jH2",
        "outputId": "756aec64-a476-4042-8b4d-1ca02e9e361d"
      },
      "execution_count": null,
      "outputs": [
        {
          "output_type": "stream",
          "name": "stdout",
          "text": [
            "Hello, world!\n"
          ]
        },
        {
          "output_type": "execute_result",
          "data": {
            "text/plain": [
              "'Hello, world!'"
            ],
            "application/vnd.google.colaboratory.intrinsic+json": {
              "type": "string"
            }
          },
          "metadata": {},
          "execution_count": 2
        }
      ]
    },
    {
      "cell_type": "code",
      "source": [
        "# 한글 문자열\n",
        "hello = \"먹어도 먹어도 배고프다\"\n",
        "print(hello)\n",
        "hello"
      ],
      "metadata": {
        "colab": {
          "base_uri": "https://localhost:8080/",
          "height": 54
        },
        "id": "VGiSFZvJ_oK4",
        "outputId": "9fd4fb8f-e77a-42d6-ad65-cd7973c1e73f"
      },
      "execution_count": null,
      "outputs": [
        {
          "output_type": "stream",
          "name": "stdout",
          "text": [
            "먹어도 먹어도 배고프다\n"
          ]
        },
        {
          "output_type": "execute_result",
          "data": {
            "text/plain": [
              "'먹어도 먹어도 배고프다'"
            ],
            "application/vnd.google.colaboratory.intrinsic+json": {
              "type": "string"
            }
          },
          "metadata": {},
          "execution_count": 3
        }
      ]
    },
    {
      "cell_type": "code",
      "source": [
        "#  \" \"(큰따옴표)로 묶기\n",
        "hello = \"hello my name is young\"\n",
        "hello"
      ],
      "metadata": {
        "colab": {
          "base_uri": "https://localhost:8080/",
          "height": 35
        },
        "id": "zsapMNOq_tPx",
        "outputId": "3ea92b3c-3c4e-4817-b24d-befca4db136f"
      },
      "execution_count": null,
      "outputs": [
        {
          "output_type": "execute_result",
          "data": {
            "text/plain": [
              "'hello my name is young'"
            ],
            "application/vnd.google.colaboratory.intrinsic+json": {
              "type": "string"
            }
          },
          "metadata": {},
          "execution_count": 5
        }
      ]
    },
    {
      "cell_type": "code",
      "source": [
        "# '''(작은따옴표 3개)로 묶거나 \"\"\"(큰따옴표 3개)로 묶기\n",
        "hello = '''hello young'''\n",
        "print(hello)\n",
        "hello2 = \"\"\"my name is young\"\"\"\n",
        "print(hello2)"
      ],
      "metadata": {
        "colab": {
          "base_uri": "https://localhost:8080/"
        },
        "id": "ojKnWfsm_2K7",
        "outputId": "f62a7445-1572-44b0-d687-f2bdc83449b8"
      },
      "execution_count": null,
      "outputs": [
        {
          "output_type": "stream",
          "name": "stdout",
          "text": [
            "hello young\n",
            "my name is young\n"
          ]
        }
      ]
    },
    {
      "cell_type": "markdown",
      "source": [
        "### 여러 줄로 된 문자열 사용하기"
      ],
      "metadata": {
        "id": "20xHUbPlAFCf"
      }
    },
    {
      "cell_type": "markdown",
      "source": [
        "* 이번에는 여러 줄로 된 문자열(multiline string)을 사용해보겠습니다. 다음과 같이 '''(작은따옴표 3개)로 시작하고 Hello, world!를 입력한 다음에 엔터 키를 누르면 다음 줄로 이동합니다. 이런 방식으로 문자열을 계속 입력하고 마지막 줄에서 '''로 닫습니다."
      ],
      "metadata": {
        "id": "zDxIhYj9AKmU"
      }
    },
    {
      "cell_type": "code",
      "source": [
        "hello = '''hello kitty\n",
        "kitty is cute\n",
        "good good\n",
        "'''\n",
        "print(hello)\n",
        "hello2 = \"\"\"hello kitty\n",
        "kitty is cute\n",
        "good good\n",
        "\"\"\"\n",
        "print(hello2)"
      ],
      "metadata": {
        "colab": {
          "base_uri": "https://localhost:8080/"
        },
        "id": "cyLICe6z_3Oe",
        "outputId": "ae4aa195-56c7-461c-9b6d-f37882a16757"
      },
      "execution_count": null,
      "outputs": [
        {
          "output_type": "stream",
          "name": "stdout",
          "text": [
            "hello kitty\n",
            "kitty is cute\n",
            "good good\n",
            "\n",
            "hello kitty\n",
            "kitty is cute\n",
            "good good\n",
            "\n"
          ]
        }
      ]
    },
    {
      "cell_type": "markdown",
      "source": [
        "* 이처럼 여러 줄로 된 문자열은 '''(작은따옴표 3개)로 시작하여 '''로 끝납니다. 물론 \"\"\"(큰따옴표 3개)로 시작하여 \"\"\"로 끝내도 됩니다."
      ],
      "metadata": {
        "id": "D8wvAGQcAVCX"
      }
    },
    {
      "cell_type": "markdown",
      "source": [
        "### 문자열 안에 작은따옴표나 큰따옴표 포함하기"
      ],
      "metadata": {
        "id": "MTokV0hwAZdG"
      }
    },
    {
      "cell_type": "markdown",
      "source": [
        "* 그런데 문자열을 표현할 때 작은따옴표와 큰따옴표 중 한 가지로 통일하지 않고 여러 가지 방식을 사용할까요?\n",
        "* 문자열을 사용하다 보면 문자열 안에 작은따옴표나 큰따옴표를 넣어야 할 경우가 생깁니다. 이때는 작은따옴표와 큰따옴표를 사용하는 규칙이 달라집니다."
      ],
      "metadata": {
        "id": "BIPkGcHYAc87"
      }
    },
    {
      "cell_type": "code",
      "source": [
        "# 먼저 문자열 안에 '(작은따옴표)를 넣고 싶다면 문자열을 \"(큰따옴표)로 묶어줍니다. 이렇게 하면 문자열 안에 '를 그대로 사용할 수 있습니다.\n",
        "s = \"Python isn't difficult\"\n",
        "print(s)"
      ],
      "metadata": {
        "colab": {
          "base_uri": "https://localhost:8080/"
        },
        "id": "cSCT0n5lAR9M",
        "outputId": "da6ea68e-9bea-459d-b4be-cd7d5b9fd9d2"
      },
      "execution_count": null,
      "outputs": [
        {
          "output_type": "stream",
          "name": "stdout",
          "text": [
            "Python isn't difficult\n"
          ]
        }
      ]
    },
    {
      "cell_type": "code",
      "source": [
        "# 반대로 문자열 안에 \"(큰따옴표)를 넣고 싶다면 문자열을 '(작은따옴표)로 묶어줍니다.\n",
        "s = 'He said \"Python is easy\"'\n",
        "print(s)"
      ],
      "metadata": {
        "colab": {
          "base_uri": "https://localhost:8080/"
        },
        "id": "aavSkJD2AkVH",
        "outputId": "5f3ff530-28fd-4a3a-c44f-881469142b38"
      },
      "execution_count": null,
      "outputs": [
        {
          "output_type": "stream",
          "name": "stdout",
          "text": [
            "He said \"Python is easy\"\n"
          ]
        }
      ]
    },
    {
      "cell_type": "code",
      "source": [
        "# 하지만 작은따옴표 안에 작은따옴표를 넣거나 큰따옴표 안에 큰따옴표를 넣을 수는 없습니다.\n",
        "s = 'Python isn't difficult'\n",
        "print(s)"
      ],
      "metadata": {
        "colab": {
          "base_uri": "https://localhost:8080/",
          "height": 136
        },
        "id": "wItvReRmAoW6",
        "outputId": "c73ca2ef-133e-4653-f0ca-53e63fddc3a9"
      },
      "execution_count": null,
      "outputs": [
        {
          "output_type": "error",
          "ename": "SyntaxError",
          "evalue": "ignored",
          "traceback": [
            "\u001b[0;36m  File \u001b[0;32m\"<ipython-input-13-97e8b24e268c>\"\u001b[0;36m, line \u001b[0;32m2\u001b[0m\n\u001b[0;31m    s = 'Python isn't difficult'\u001b[0m\n\u001b[0m                    ^\u001b[0m\n\u001b[0;31mSyntaxError\u001b[0m\u001b[0;31m:\u001b[0m invalid syntax\n"
          ]
        }
      ]
    },
    {
      "cell_type": "code",
      "source": [
        "s = \"He said \"Python is easy\"\"\n",
        "print(s)"
      ],
      "metadata": {
        "colab": {
          "base_uri": "https://localhost:8080/",
          "height": 136
        },
        "id": "Y_jsdKR_ArYj",
        "outputId": "e104a638-b000-4240-cd2b-9a28dcce766d"
      },
      "execution_count": null,
      "outputs": [
        {
          "output_type": "error",
          "ename": "SyntaxError",
          "evalue": "ignored",
          "traceback": [
            "\u001b[0;36m  File \u001b[0;32m\"<ipython-input-14-5a03bd044305>\"\u001b[0;36m, line \u001b[0;32m1\u001b[0m\n\u001b[0;31m    s = \"He said \"Python is easy\"\"\u001b[0m\n\u001b[0m                  ^\u001b[0m\n\u001b[0;31mSyntaxError\u001b[0m\u001b[0;31m:\u001b[0m invalid syntax\n"
          ]
        }
      ]
    },
    {
      "cell_type": "code",
      "source": [
        "# 하지만 여러 줄로 된 문자열은 작은따옴표 안에 작은따옴표와 큰따옴표를 둘 다 넣을 수 있습니다.\n",
        "# 또한, 큰따옴표 안에도 작은따옴표와 큰따옴표를 넣을 수 있습니다.\n",
        "single_quote = '''안녕하세요.\"\n",
        "'파이썬'입니다.'''\n",
        "print(single_quote)\n",
        "\n",
        "double_quote = \"\"\"안녕하세요.\"'파이썬'입니다.\"\"\"\n",
        "\n",
        "print(double_quote)"
      ],
      "metadata": {
        "colab": {
          "base_uri": "https://localhost:8080/"
        },
        "id": "CerfvpW9As8Z",
        "outputId": "3ba95f24-66e3-406f-82d3-6c903a8fc4fb"
      },
      "execution_count": null,
      "outputs": [
        {
          "output_type": "stream",
          "name": "stdout",
          "text": [
            "안녕하세요.\"\n",
            "'파이썬'입니다.\n",
            "안녕하세요.\"'파이썬'입니다.\n"
          ]
        }
      ]
    },
    {
      "cell_type": "markdown",
      "source": [
        "### 문자열에 따옴표를 포함하는 다른 방법"
      ],
      "metadata": {
        "id": "Kknlt6d7A2c_"
      }
    },
    {
      "cell_type": "markdown",
      "source": [
        "* 작은따옴표 안에 작은따옴표를 넣을 수는 없을까요? 방법이 있습니다. 다음과 같이 작은따옴표 앞에 \\ (역슬래시)를 붙이면 됩니다."
      ],
      "metadata": {
        "id": "6o-0n8hIA4pt"
      }
    },
    {
      "cell_type": "code",
      "source": [
        "'Python isn\\'t difficult'"
      ],
      "metadata": {
        "colab": {
          "base_uri": "https://localhost:8080/",
          "height": 35
        },
        "id": "tGy0jyuRA7Xv",
        "outputId": "76cbf98a-5d0e-43eb-8c5a-83b8be52e935"
      },
      "execution_count": null,
      "outputs": [
        {
          "output_type": "execute_result",
          "data": {
            "text/plain": [
              "\"Python isn't difficult\""
            ],
            "application/vnd.google.colaboratory.intrinsic+json": {
              "type": "string"
            }
          },
          "metadata": {},
          "execution_count": 18
        }
      ]
    },
    {
      "cell_type": "markdown",
      "source": [
        "* 물론 큰따옴표도 \"He said \\\"Python is easy\\\"\"처럼 큰따옴표 앞에 \\를 붙이면 됩니다.\n",
        "* 이처럼 문자열 안에 ', \" 등의 특수 문자를 포함하기 위해 앞에 \\를 붙이는 방법을 이스케이프(escape)라고 부릅니다."
      ],
      "metadata": {
        "id": "JFpb2R8OBB66"
      }
    }
  ]
}