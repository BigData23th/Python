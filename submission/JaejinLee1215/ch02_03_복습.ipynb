{
  "nbformat": 4,
  "nbformat_minor": 0,
  "metadata": {
    "colab": {
      "provenance": [],
      "authorship_tag": "ABX9TyO39OqjfXp7lInW2RgJlqPB",
      "include_colab_link": true
    },
    "kernelspec": {
      "name": "python3",
      "display_name": "Python 3"
    },
    "language_info": {
      "name": "python"
    }
  },
  "cells": [
    {
      "cell_type": "markdown",
      "metadata": {
        "id": "view-in-github",
        "colab_type": "text"
      },
      "source": [
        "<a href=\"https://colab.research.google.com/github/JaejinLee1215/Python_LJJ/blob/main/submission/JaejinLee1215/ch02_03_%EB%B3%B5%EC%8A%B5.ipynb\" target=\"_parent\"><img src=\"https://colab.research.google.com/assets/colab-badge.svg\" alt=\"Open In Colab\"/></a>"
      ]
    },
    {
      "cell_type": "markdown",
      "source": [
        "# 리스트 응용"
      ],
      "metadata": {
        "id": "LU3Cj8ANTJAg"
      }
    },
    {
      "cell_type": "code",
      "execution_count": 20,
      "metadata": {
        "id": "Ll3Oa8wg1fsI"
      },
      "outputs": [],
      "source": [
        "country = [] # 빈리스트"
      ]
    },
    {
      "cell_type": "code",
      "source": [
        "country.append('대한민국') # 요소를 추가하는 메서드\n",
        "country"
      ],
      "metadata": {
        "colab": {
          "base_uri": "https://localhost:8080/"
        },
        "id": "t71hEPrcTQcx",
        "outputId": "700d5aba-60e7-4ef8-a7f4-3c6c84bef3fc"
      },
      "execution_count": 21,
      "outputs": [
        {
          "output_type": "execute_result",
          "data": {
            "text/plain": [
              "['대한민국']"
            ]
          },
          "metadata": {},
          "execution_count": 21
        }
      ]
    },
    {
      "cell_type": "code",
      "source": [
        "country2 = [\"중국\"]"
      ],
      "metadata": {
        "id": "St0zp7rbTiGU"
      },
      "execution_count": 22,
      "outputs": []
    },
    {
      "cell_type": "code",
      "source": [
        "country + country2, country\n",
        "print(country + country2)\n",
        "print(country)\n",
        "print(country2)"
      ],
      "metadata": {
        "colab": {
          "base_uri": "https://localhost:8080/"
        },
        "id": "eY55USKrTlYu",
        "outputId": "cada04ec-304f-49f2-daee-c9d417e2e8f3"
      },
      "execution_count": 23,
      "outputs": [
        {
          "output_type": "stream",
          "name": "stdout",
          "text": [
            "['대한민국', '중국']\n",
            "['대한민국']\n",
            "['중국']\n"
          ]
        }
      ]
    },
    {
      "cell_type": "code",
      "source": [
        "country += country2\n",
        "country"
      ],
      "metadata": {
        "colab": {
          "base_uri": "https://localhost:8080/"
        },
        "id": "nm5gNjtpdDTc",
        "outputId": "ad21f58c-6818-44cb-bbec-b5a596d52595"
      },
      "execution_count": 24,
      "outputs": [
        {
          "output_type": "execute_result",
          "data": {
            "text/plain": [
              "['대한민국', '중국']"
            ]
          },
          "metadata": {},
          "execution_count": 24
        }
      ]
    },
    {
      "cell_type": "code",
      "source": [
        "country3 = [\"일본\"]\n",
        "country3"
      ],
      "metadata": {
        "colab": {
          "base_uri": "https://localhost:8080/"
        },
        "id": "r1dMLclQT0Xv",
        "outputId": "24d576e7-2985-459a-f16c-fc7bdf89c9d0"
      },
      "execution_count": 25,
      "outputs": [
        {
          "output_type": "execute_result",
          "data": {
            "text/plain": [
              "['일본']"
            ]
          },
          "metadata": {},
          "execution_count": 25
        }
      ]
    },
    {
      "cell_type": "code",
      "source": [
        "country.extend(country3)\n",
        "country"
      ],
      "metadata": {
        "colab": {
          "base_uri": "https://localhost:8080/"
        },
        "id": "9ATagqJ2T7Yb",
        "outputId": "e9ccd6af-1513-4a3b-cad9-271ee273ae2b"
      },
      "execution_count": 26,
      "outputs": [
        {
          "output_type": "execute_result",
          "data": {
            "text/plain": [
              "['대한민국', '중국', '일본']"
            ]
          },
          "metadata": {},
          "execution_count": 26
        }
      ]
    },
    {
      "cell_type": "code",
      "source": [
        "country4 = [\"프랑스\", \"영국\", \" 독일\"]\n",
        "country.extend(country4)\n",
        "country"
      ],
      "metadata": {
        "colab": {
          "base_uri": "https://localhost:8080/"
        },
        "id": "Ully1ibAUBeR",
        "outputId": "08b00527-dfad-46a0-e4bc-3d362a9bcf89"
      },
      "execution_count": 27,
      "outputs": [
        {
          "output_type": "execute_result",
          "data": {
            "text/plain": [
              "['대한민국', '중국', '일본', '프랑스', '영국', ' 독일']"
            ]
          },
          "metadata": {},
          "execution_count": 27
        }
      ]
    },
    {
      "cell_type": "code",
      "source": [
        "country.append(\"케냐\")\n",
        "country"
      ],
      "metadata": {
        "colab": {
          "base_uri": "https://localhost:8080/"
        },
        "id": "Rzq2myxyUP0D",
        "outputId": "b9275927-db72-4848-93c0-3fe83f7a986b"
      },
      "execution_count": 28,
      "outputs": [
        {
          "output_type": "execute_result",
          "data": {
            "text/plain": [
              "['대한민국', '중국', '일본', '프랑스', '영국', ' 독일', '케냐']"
            ]
          },
          "metadata": {},
          "execution_count": 28
        }
      ]
    },
    {
      "cell_type": "code",
      "source": [
        "country.insert(0, \"브라질\")\n",
        "country"
      ],
      "metadata": {
        "colab": {
          "base_uri": "https://localhost:8080/"
        },
        "id": "PB-6ugPQUXOV",
        "outputId": "4b780250-e95f-4dcc-f2da-2257dad72e2f"
      },
      "execution_count": 29,
      "outputs": [
        {
          "output_type": "execute_result",
          "data": {
            "text/plain": [
              "['브라질', '대한민국', '중국', '일본', '프랑스', '영국', ' 독일', '케냐']"
            ]
          },
          "metadata": {},
          "execution_count": 29
        }
      ]
    },
    {
      "cell_type": "code",
      "source": [
        "country.insert(3, \"아르헨티나\")\n",
        "country"
      ],
      "metadata": {
        "colab": {
          "base_uri": "https://localhost:8080/"
        },
        "id": "NpONTgSEUiPp",
        "outputId": "94feb31c-987c-45c7-8636-2f534b5b6aef"
      },
      "execution_count": 30,
      "outputs": [
        {
          "output_type": "execute_result",
          "data": {
            "text/plain": [
              "['브라질', '대한민국', '중국', '아르헨티나', '일본', '프랑스', '영국', ' 독일', '케냐']"
            ]
          },
          "metadata": {},
          "execution_count": 30
        }
      ]
    },
    {
      "cell_type": "code",
      "source": [
        "country[4:4] = [\"미국\", \"캐나다\", \"멕시코\"] # [4:4] 없는 위치가 추가"
      ],
      "metadata": {
        "id": "MGm6MHTtUtC8"
      },
      "execution_count": 31,
      "outputs": []
    },
    {
      "cell_type": "code",
      "source": [
        "country"
      ],
      "metadata": {
        "colab": {
          "base_uri": "https://localhost:8080/"
        },
        "id": "IHTV8q8xU4w9",
        "outputId": "a0aadc4e-9f01-4683-dc13-10d15f839f2c"
      },
      "execution_count": 32,
      "outputs": [
        {
          "output_type": "execute_result",
          "data": {
            "text/plain": [
              "['브라질',\n",
              " '대한민국',\n",
              " '중국',\n",
              " '아르헨티나',\n",
              " '미국',\n",
              " '캐나다',\n",
              " '멕시코',\n",
              " '일본',\n",
              " '프랑스',\n",
              " '영국',\n",
              " ' 독일',\n",
              " '케냐']"
            ]
          },
          "metadata": {},
          "execution_count": 32
        }
      ]
    },
    {
      "cell_type": "code",
      "source": [
        "country.pop() # pop을 사용했을 경우 index[-1] 번째 추출"
      ],
      "metadata": {
        "colab": {
          "base_uri": "https://localhost:8080/",
          "height": 35
        },
        "id": "CJOIgXsNVTcI",
        "outputId": "94b9c432-95d1-4db2-c4e9-1b0b1ce935ce"
      },
      "execution_count": 33,
      "outputs": [
        {
          "output_type": "execute_result",
          "data": {
            "text/plain": [
              "'케냐'"
            ],
            "application/vnd.google.colaboratory.intrinsic+json": {
              "type": "string"
            }
          },
          "metadata": {},
          "execution_count": 33
        }
      ]
    },
    {
      "cell_type": "code",
      "source": [
        "print(country[-1])\n",
        "del country[-1]"
      ],
      "metadata": {
        "colab": {
          "base_uri": "https://localhost:8080/"
        },
        "id": "N5ge3dMbV3PB",
        "outputId": "5c41294d-dc92-4dbe-9dc9-c36e8656069a"
      },
      "execution_count": 34,
      "outputs": [
        {
          "output_type": "stream",
          "name": "stdout",
          "text": [
            " 독일\n"
          ]
        }
      ]
    },
    {
      "cell_type": "code",
      "source": [
        "country # 예를들어 \"최근 해외여행 발권 리스트\"라 가정하면 country에 pop 실행"
      ],
      "metadata": {
        "id": "6VpaK-JHV-DT",
        "colab": {
          "base_uri": "https://localhost:8080/"
        },
        "outputId": "19bd511d-7dff-492f-8fbf-4fa4898726b6"
      },
      "execution_count": 35,
      "outputs": [
        {
          "output_type": "execute_result",
          "data": {
            "text/plain": [
              "['브라질', '대한민국', '중국', '아르헨티나', '미국', '캐나다', '멕시코', '일본', '프랑스', '영국']"
            ]
          },
          "metadata": {},
          "execution_count": 35
        }
      ]
    },
    {
      "cell_type": "code",
      "source": [
        "recent = country.pop()\n",
        "recent, country"
      ],
      "metadata": {
        "colab": {
          "base_uri": "https://localhost:8080/"
        },
        "id": "2-4kdS20WeQX",
        "outputId": "dffe85bb-f250-4ae2-84a7-f8c222a2e513"
      },
      "execution_count": 36,
      "outputs": [
        {
          "output_type": "execute_result",
          "data": {
            "text/plain": [
              "('영국', ['브라질', '대한민국', '중국', '아르헨티나', '미국', '캐나다', '멕시코', '일본', '프랑스'])"
            ]
          },
          "metadata": {},
          "execution_count": 36
        }
      ]
    },
    {
      "cell_type": "code",
      "source": [
        "recent = country.pop(1) # index[1]을 pop 시키기\n",
        "recent, country"
      ],
      "metadata": {
        "colab": {
          "base_uri": "https://localhost:8080/"
        },
        "id": "Pqk6IDLoW1wt",
        "outputId": "e16892c7-4630-4677-e445-aaee10f65a66"
      },
      "execution_count": 37,
      "outputs": [
        {
          "output_type": "execute_result",
          "data": {
            "text/plain": [
              "('대한민국', ['브라질', '중국', '아르헨티나', '미국', '캐나다', '멕시코', '일본', '프랑스'])"
            ]
          },
          "metadata": {},
          "execution_count": 37
        }
      ]
    },
    {
      "cell_type": "code",
      "source": [
        "country.remove(\"중국\")\n",
        "country"
      ],
      "metadata": {
        "id": "3l2qHqlNXFyU",
        "colab": {
          "base_uri": "https://localhost:8080/"
        },
        "outputId": "72e871eb-2983-4bbf-f17d-0781859179d5"
      },
      "execution_count": 38,
      "outputs": [
        {
          "output_type": "execute_result",
          "data": {
            "text/plain": [
              "['브라질', '아르헨티나', '미국', '캐나다', '멕시코', '일본', '프랑스']"
            ]
          },
          "metadata": {},
          "execution_count": 38
        }
      ]
    },
    {
      "cell_type": "code",
      "source": [
        "country.remove('미국')\n",
        "country"
      ],
      "metadata": {
        "colab": {
          "base_uri": "https://localhost:8080/"
        },
        "id": "ETwthYYNd2DQ",
        "outputId": "fab2e9c0-5972-4b2e-f981-718e2d3552af"
      },
      "execution_count": 39,
      "outputs": [
        {
          "output_type": "execute_result",
          "data": {
            "text/plain": [
              "['브라질', '아르헨티나', '캐나다', '멕시코', '일본', '프랑스']"
            ]
          },
          "metadata": {},
          "execution_count": 39
        }
      ]
    },
    {
      "cell_type": "code",
      "source": [
        "# remove는 지우고 반환 값이 없다. 다시 출력해보면 리스트에 해당 value값이 없음"
      ],
      "metadata": {
        "id": "o-CM-WCeXP5G"
      },
      "execution_count": null,
      "outputs": []
    },
    {
      "cell_type": "code",
      "source": [
        "country.insert(2, \"독일\")\n",
        "country.append(\"독일\")\n",
        "country"
      ],
      "metadata": {
        "colab": {
          "base_uri": "https://localhost:8080/"
        },
        "id": "M_3yfxHvXX5f",
        "outputId": "f28b37b4-b4e1-4c93-8c1e-35b8c9bd2623"
      },
      "execution_count": 40,
      "outputs": [
        {
          "output_type": "execute_result",
          "data": {
            "text/plain": [
              "['브라질', '아르헨티나', '독일', '캐나다', '멕시코', '일본', '프랑스', '독일']"
            ]
          },
          "metadata": {},
          "execution_count": 40
        }
      ]
    },
    {
      "cell_type": "code",
      "source": [
        "country.remove(\"독일\") # remove는 중복 된 값이 있으면 앞에서 부터 지워짐\n",
        "country"
      ],
      "metadata": {
        "colab": {
          "base_uri": "https://localhost:8080/"
        },
        "id": "vLd0_KDZXx_K",
        "outputId": "73927f2a-4088-471d-c7d8-6dbbf65b9326"
      },
      "execution_count": 41,
      "outputs": [
        {
          "output_type": "execute_result",
          "data": {
            "text/plain": [
              "['브라질', '아르헨티나', '캐나다', '멕시코', '일본', '프랑스', '독일']"
            ]
          },
          "metadata": {},
          "execution_count": 41
        }
      ]
    },
    {
      "cell_type": "code",
      "source": [
        "# 캐나다 앞에 누락된 손님이 존재한다. -> 미국\n",
        "# 캐나다 인덱스를 찾아서, 그 인덱스에 \"미국\"을 insert 시켜줘야함, [i:i] 사용 방법도 가능\n",
        "country.index(\"캐나다\")"
      ],
      "metadata": {
        "colab": {
          "base_uri": "https://localhost:8080/"
        },
        "id": "pocqiHSPX_JI",
        "outputId": "5797f036-a1af-46de-f428-bc2b0194bb62"
      },
      "execution_count": 42,
      "outputs": [
        {
          "output_type": "execute_result",
          "data": {
            "text/plain": [
              "2"
            ]
          },
          "metadata": {},
          "execution_count": 42
        }
      ]
    },
    {
      "cell_type": "code",
      "source": [
        "country.insert(2,\"미국\")\n",
        "country"
      ],
      "metadata": {
        "id": "F786jc-TYOML",
        "colab": {
          "base_uri": "https://localhost:8080/"
        },
        "outputId": "b806fe9c-af9f-40d6-acef-84c8487cf231"
      },
      "execution_count": 43,
      "outputs": [
        {
          "output_type": "execute_result",
          "data": {
            "text/plain": [
              "['브라질', '아르헨티나', '미국', '캐나다', '멕시코', '일본', '프랑스', '독일']"
            ]
          },
          "metadata": {},
          "execution_count": 43
        }
      ]
    },
    {
      "cell_type": "code",
      "source": [
        "country.extend([\"몰디브\"] * 10)\n",
        "country"
      ],
      "metadata": {
        "colab": {
          "base_uri": "https://localhost:8080/"
        },
        "id": "Q1u0fTHxYf71",
        "outputId": "2a807c03-66da-41d4-8559-1c435674b6b9"
      },
      "execution_count": 44,
      "outputs": [
        {
          "output_type": "execute_result",
          "data": {
            "text/plain": [
              "['브라질',\n",
              " '아르헨티나',\n",
              " '미국',\n",
              " '캐나다',\n",
              " '멕시코',\n",
              " '일본',\n",
              " '프랑스',\n",
              " '독일',\n",
              " '몰디브',\n",
              " '몰디브',\n",
              " '몰디브',\n",
              " '몰디브',\n",
              " '몰디브',\n",
              " '몰디브',\n",
              " '몰디브',\n",
              " '몰디브',\n",
              " '몰디브',\n",
              " '몰디브']"
            ]
          },
          "metadata": {},
          "execution_count": 44
        }
      ]
    },
    {
      "cell_type": "code",
      "source": [
        "import random\n",
        "\n",
        "random.randint(1,20)"
      ],
      "metadata": {
        "colab": {
          "base_uri": "https://localhost:8080/"
        },
        "id": "64juQPrPYpTX",
        "outputId": "4459394c-d583-411d-8ae3-79cefa40c456"
      },
      "execution_count": 45,
      "outputs": [
        {
          "output_type": "execute_result",
          "data": {
            "text/plain": [
              "3"
            ]
          },
          "metadata": {},
          "execution_count": 45
        }
      ]
    },
    {
      "cell_type": "code",
      "source": [
        "country.extend([\"괌\"] * random.randint(50,200))\n",
        "country"
      ],
      "metadata": {
        "id": "t_8r-K0qYyjY",
        "colab": {
          "base_uri": "https://localhost:8080/"
        },
        "outputId": "a93127c8-1688-44f2-945b-dc65516ee397"
      },
      "execution_count": 46,
      "outputs": [
        {
          "output_type": "execute_result",
          "data": {
            "text/plain": [
              "['브라질',\n",
              " '아르헨티나',\n",
              " '미국',\n",
              " '캐나다',\n",
              " '멕시코',\n",
              " '일본',\n",
              " '프랑스',\n",
              " '독일',\n",
              " '몰디브',\n",
              " '몰디브',\n",
              " '몰디브',\n",
              " '몰디브',\n",
              " '몰디브',\n",
              " '몰디브',\n",
              " '몰디브',\n",
              " '몰디브',\n",
              " '몰디브',\n",
              " '몰디브',\n",
              " '괌',\n",
              " '괌',\n",
              " '괌',\n",
              " '괌',\n",
              " '괌',\n",
              " '괌',\n",
              " '괌',\n",
              " '괌',\n",
              " '괌',\n",
              " '괌',\n",
              " '괌',\n",
              " '괌',\n",
              " '괌',\n",
              " '괌',\n",
              " '괌',\n",
              " '괌',\n",
              " '괌',\n",
              " '괌',\n",
              " '괌',\n",
              " '괌',\n",
              " '괌',\n",
              " '괌',\n",
              " '괌',\n",
              " '괌',\n",
              " '괌',\n",
              " '괌',\n",
              " '괌',\n",
              " '괌',\n",
              " '괌',\n",
              " '괌',\n",
              " '괌',\n",
              " '괌',\n",
              " '괌',\n",
              " '괌',\n",
              " '괌',\n",
              " '괌',\n",
              " '괌',\n",
              " '괌',\n",
              " '괌',\n",
              " '괌',\n",
              " '괌',\n",
              " '괌',\n",
              " '괌',\n",
              " '괌',\n",
              " '괌',\n",
              " '괌',\n",
              " '괌',\n",
              " '괌',\n",
              " '괌',\n",
              " '괌',\n",
              " '괌',\n",
              " '괌',\n",
              " '괌',\n",
              " '괌',\n",
              " '괌',\n",
              " '괌',\n",
              " '괌',\n",
              " '괌',\n",
              " '괌',\n",
              " '괌',\n",
              " '괌',\n",
              " '괌',\n",
              " '괌',\n",
              " '괌',\n",
              " '괌',\n",
              " '괌',\n",
              " '괌',\n",
              " '괌',\n",
              " '괌',\n",
              " '괌',\n",
              " '괌',\n",
              " '괌',\n",
              " '괌',\n",
              " '괌',\n",
              " '괌',\n",
              " '괌',\n",
              " '괌',\n",
              " '괌',\n",
              " '괌',\n",
              " '괌',\n",
              " '괌',\n",
              " '괌',\n",
              " '괌',\n",
              " '괌',\n",
              " '괌',\n",
              " '괌',\n",
              " '괌',\n",
              " '괌',\n",
              " '괌',\n",
              " '괌',\n",
              " '괌',\n",
              " '괌',\n",
              " '괌',\n",
              " '괌',\n",
              " '괌',\n",
              " '괌',\n",
              " '괌',\n",
              " '괌',\n",
              " '괌',\n",
              " '괌',\n",
              " '괌',\n",
              " '괌',\n",
              " '괌',\n",
              " '괌',\n",
              " '괌',\n",
              " '괌',\n",
              " '괌',\n",
              " '괌',\n",
              " '괌',\n",
              " '괌',\n",
              " '괌',\n",
              " '괌']"
            ]
          },
          "metadata": {},
          "execution_count": 46
        }
      ]
    },
    {
      "cell_type": "code",
      "source": [
        "country.count(\"괌\")"
      ],
      "metadata": {
        "colab": {
          "base_uri": "https://localhost:8080/"
        },
        "id": "-WJhacf6ZArO",
        "outputId": "f33a9115-f7b4-4a19-f423-8a305218a3f4"
      },
      "execution_count": 47,
      "outputs": [
        {
          "output_type": "execute_result",
          "data": {
            "text/plain": [
              "112"
            ]
          },
          "metadata": {},
          "execution_count": 47
        }
      ]
    },
    {
      "cell_type": "code",
      "source": [
        "country = country[0:7:1]\n",
        "country"
      ],
      "metadata": {
        "colab": {
          "base_uri": "https://localhost:8080/"
        },
        "id": "RJbYlxXCZGOl",
        "outputId": "d63a9021-5176-41f5-96bf-fb8695c46844"
      },
      "execution_count": 48,
      "outputs": [
        {
          "output_type": "execute_result",
          "data": {
            "text/plain": [
              "['브라질', '아르헨티나', '미국', '캐나다', '멕시코', '일본', '프랑스']"
            ]
          },
          "metadata": {},
          "execution_count": 48
        }
      ]
    },
    {
      "cell_type": "code",
      "source": [
        "country.reverse() # 대입해주지 않아도 원본이 바뀜\n",
        "country"
      ],
      "metadata": {
        "colab": {
          "base_uri": "https://localhost:8080/"
        },
        "id": "AIofgTE6ZMJO",
        "outputId": "5a61511f-2b07-497d-a57a-40ad090f361d"
      },
      "execution_count": 49,
      "outputs": [
        {
          "output_type": "execute_result",
          "data": {
            "text/plain": [
              "['프랑스', '일본', '멕시코', '캐나다', '미국', '아르헨티나', '브라질']"
            ]
          },
          "metadata": {},
          "execution_count": 49
        }
      ]
    },
    {
      "cell_type": "code",
      "source": [
        "list(reversed(country))"
      ],
      "metadata": {
        "id": "Lm79XO4BcuYY",
        "colab": {
          "base_uri": "https://localhost:8080/"
        },
        "outputId": "b9106e10-4c46-43c0-9ad6-c894a7788560"
      },
      "execution_count": 51,
      "outputs": [
        {
          "output_type": "execute_result",
          "data": {
            "text/plain": [
              "['브라질', '아르헨티나', '미국', '캐나다', '멕시코', '일본', '프랑스']"
            ]
          },
          "metadata": {},
          "execution_count": 51
        }
      ]
    },
    {
      "cell_type": "code",
      "source": [
        "country[::-1]"
      ],
      "metadata": {
        "id": "8gJc54dOcweX",
        "colab": {
          "base_uri": "https://localhost:8080/"
        },
        "outputId": "e51748b5-4b2c-4696-bbb9-d50788c85539"
      },
      "execution_count": 52,
      "outputs": [
        {
          "output_type": "execute_result",
          "data": {
            "text/plain": [
              "['브라질', '아르헨티나', '미국', '캐나다', '멕시코', '일본', '프랑스']"
            ]
          },
          "metadata": {},
          "execution_count": 52
        }
      ]
    },
    {
      "cell_type": "code",
      "source": [
        "# 정렬 -> 오름차순, 내림차순\n",
        "numbers = [random.randint(20, 200) for i in range(10)]\n",
        "numbers"
      ],
      "metadata": {
        "colab": {
          "base_uri": "https://localhost:8080/"
        },
        "id": "aZjmVElRdBKb",
        "outputId": "5f65dedc-a6b8-487a-d7bc-0398a4aef6de"
      },
      "execution_count": 53,
      "outputs": [
        {
          "output_type": "execute_result",
          "data": {
            "text/plain": [
              "[168, 32, 119, 194, 122, 91, 130, 46, 49, 174]"
            ]
          },
          "metadata": {},
          "execution_count": 53
        }
      ]
    },
    {
      "cell_type": "code",
      "source": [
        "numbers2 = numbers.copy() # 복제를 해서 독립적으로 생성"
      ],
      "metadata": {
        "id": "uAMte8wZej5C"
      },
      "execution_count": 54,
      "outputs": []
    },
    {
      "cell_type": "code",
      "source": [
        "numbers2.sort() # # reverse = False\n",
        "numbers2"
      ],
      "metadata": {
        "colab": {
          "base_uri": "https://localhost:8080/"
        },
        "id": "arT7JhK4exZi",
        "outputId": "403e1409-979d-4e15-f689-c0f67f1bc89a"
      },
      "execution_count": 55,
      "outputs": [
        {
          "output_type": "execute_result",
          "data": {
            "text/plain": [
              "[32, 46, 49, 91, 119, 122, 130, 168, 174, 194]"
            ]
          },
          "metadata": {},
          "execution_count": 55
        }
      ]
    },
    {
      "cell_type": "code",
      "source": [
        "sorted(numbers), numbers # 원본에 영향 x"
      ],
      "metadata": {
        "colab": {
          "base_uri": "https://localhost:8080/"
        },
        "id": "Fk2zyPxee3zD",
        "outputId": "620088e4-0c83-4700-c724-b1e3eec948d9"
      },
      "execution_count": 56,
      "outputs": [
        {
          "output_type": "execute_result",
          "data": {
            "text/plain": [
              "([32, 46, 49, 91, 119, 122, 130, 168, 174, 194],\n",
              " [168, 32, 119, 194, 122, 91, 130, 46, 49, 174])"
            ]
          },
          "metadata": {},
          "execution_count": 56
        }
      ]
    },
    {
      "cell_type": "code",
      "source": [
        "numbers2.sort(reverse=True) \n",
        "numbers2"
      ],
      "metadata": {
        "colab": {
          "base_uri": "https://localhost:8080/"
        },
        "id": "rmFIvxX3fBMk",
        "outputId": "d3077741-b046-4ed4-bab9-b18f8c9a36d7"
      },
      "execution_count": 57,
      "outputs": [
        {
          "output_type": "execute_result",
          "data": {
            "text/plain": [
              "[194, 174, 168, 130, 122, 119, 91, 49, 46, 32]"
            ]
          },
          "metadata": {},
          "execution_count": 57
        }
      ]
    },
    {
      "cell_type": "code",
      "source": [
        "sorted(numbers, reverse=True), numbers"
      ],
      "metadata": {
        "colab": {
          "base_uri": "https://localhost:8080/"
        },
        "id": "3Pan8cPnfOf5",
        "outputId": "6d8d3a36-a3e5-4108-e15c-08eabaae3a13"
      },
      "execution_count": 58,
      "outputs": [
        {
          "output_type": "execute_result",
          "data": {
            "text/plain": [
              "([194, 174, 168, 130, 122, 119, 91, 49, 46, 32],\n",
              " [168, 32, 119, 194, 122, 91, 130, 46, 49, 174])"
            ]
          },
          "metadata": {},
          "execution_count": 58
        }
      ]
    },
    {
      "cell_type": "code",
      "source": [
        "sorted(country), sorted(country, reverse=True)"
      ],
      "metadata": {
        "colab": {
          "base_uri": "https://localhost:8080/"
        },
        "id": "naZCgHkFfTxQ",
        "outputId": "593cc560-c096-4f3f-f54f-1b47a946139f"
      },
      "execution_count": 59,
      "outputs": [
        {
          "output_type": "execute_result",
          "data": {
            "text/plain": [
              "(['멕시코', '미국', '브라질', '아르헨티나', '일본', '캐나다', '프랑스'],\n",
              " ['프랑스', '캐나다', '일본', '아르헨티나', '브라질', '미국', '멕시코'])"
            ]
          },
          "metadata": {},
          "execution_count": 59
        }
      ]
    },
    {
      "cell_type": "code",
      "source": [
        "country2 = country.copy()\n",
        "country2"
      ],
      "metadata": {
        "colab": {
          "base_uri": "https://localhost:8080/"
        },
        "id": "Mb75RzdZfd5p",
        "outputId": "e9a1e4b9-6187-43f6-f2ec-0af6aa681104"
      },
      "execution_count": 60,
      "outputs": [
        {
          "output_type": "execute_result",
          "data": {
            "text/plain": [
              "['프랑스', '일본', '멕시코', '캐나다', '미국', '아르헨티나', '브라질']"
            ]
          },
          "metadata": {},
          "execution_count": 60
        }
      ]
    },
    {
      "cell_type": "code",
      "source": [
        "country2.clear()\n",
        "country2"
      ],
      "metadata": {
        "colab": {
          "base_uri": "https://localhost:8080/"
        },
        "id": "WepDezuOfkYG",
        "outputId": "ac0869de-dfd0-4737-a203-1ea79f9d4b72"
      },
      "execution_count": 61,
      "outputs": [
        {
          "output_type": "execute_result",
          "data": {
            "text/plain": [
              "[]"
            ]
          },
          "metadata": {},
          "execution_count": 61
        }
      ]
    },
    {
      "cell_type": "code",
      "source": [
        "country2 = country.copy()\n",
        "country2"
      ],
      "metadata": {
        "colab": {
          "base_uri": "https://localhost:8080/"
        },
        "id": "W3O0ncctfmtD",
        "outputId": "fa5fcfb4-ee7f-4cf4-aaf2-80d9463be7b0"
      },
      "execution_count": 62,
      "outputs": [
        {
          "output_type": "execute_result",
          "data": {
            "text/plain": [
              "['프랑스', '일본', '멕시코', '캐나다', '미국', '아르헨티나', '브라질']"
            ]
          },
          "metadata": {},
          "execution_count": 62
        }
      ]
    },
    {
      "cell_type": "code",
      "source": [
        "country2.clear()\n",
        "country2"
      ],
      "metadata": {
        "colab": {
          "base_uri": "https://localhost:8080/"
        },
        "id": "6SYm41ayedDs",
        "outputId": "44470946-19e1-441b-bcc0-b08362502f97"
      },
      "execution_count": 63,
      "outputs": [
        {
          "output_type": "execute_result",
          "data": {
            "text/plain": [
              "[]"
            ]
          },
          "metadata": {},
          "execution_count": 63
        }
      ]
    },
    {
      "cell_type": "code",
      "source": [
        "del country2[:]\n",
        "country2"
      ],
      "metadata": {
        "colab": {
          "base_uri": "https://localhost:8080/"
        },
        "id": "YDky4gRkft8C",
        "outputId": "bbec6ce4-d432-4945-bc56-963803cfd059"
      },
      "execution_count": 64,
      "outputs": [
        {
          "output_type": "execute_result",
          "data": {
            "text/plain": [
              "[]"
            ]
          },
          "metadata": {},
          "execution_count": 64
        }
      ]
    },
    {
      "cell_type": "code",
      "source": [
        "for c in country:\n",
        "# for country in countries: 정석\n",
        "    print(c)"
      ],
      "metadata": {
        "colab": {
          "base_uri": "https://localhost:8080/"
        },
        "id": "qu_ZzHtTfx_A",
        "outputId": "5da199a4-91da-45c9-ef96-52e7b01157df"
      },
      "execution_count": 65,
      "outputs": [
        {
          "output_type": "stream",
          "name": "stdout",
          "text": [
            "프랑스\n",
            "일본\n",
            "멕시코\n",
            "캐나다\n",
            "미국\n",
            "아르헨티나\n",
            "브라질\n"
          ]
        }
      ]
    },
    {
      "cell_type": "code",
      "source": [
        "for c in sorted(country):\n",
        "# for country in countries: 정석\n",
        "    print(c)"
      ],
      "metadata": {
        "colab": {
          "base_uri": "https://localhost:8080/"
        },
        "id": "UNr5_ujfgDN8",
        "outputId": "468e0195-7326-4a8d-861b-7338a6dbfc74"
      },
      "execution_count": 66,
      "outputs": [
        {
          "output_type": "stream",
          "name": "stdout",
          "text": [
            "멕시코\n",
            "미국\n",
            "브라질\n",
            "아르헨티나\n",
            "일본\n",
            "캐나다\n",
            "프랑스\n"
          ]
        }
      ]
    },
    {
      "cell_type": "code",
      "source": [
        "for c in country[::-1]:\n",
        "# for country in countries: 정석\n",
        "    print(c)"
      ],
      "metadata": {
        "colab": {
          "base_uri": "https://localhost:8080/"
        },
        "id": "uM5oM020gGpD",
        "outputId": "ffcb49b5-4f88-42ab-ae42-2f515794a7bf"
      },
      "execution_count": 67,
      "outputs": [
        {
          "output_type": "stream",
          "name": "stdout",
          "text": [
            "브라질\n",
            "아르헨티나\n",
            "미국\n",
            "캐나다\n",
            "멕시코\n",
            "일본\n",
            "프랑스\n"
          ]
        }
      ]
    },
    {
      "cell_type": "code",
      "source": [
        "for i in enumerate(country):\n",
        "    print(i) # index와 value가 튜플로 출력"
      ],
      "metadata": {
        "colab": {
          "base_uri": "https://localhost:8080/"
        },
        "id": "4eFBzhI2gLof",
        "outputId": "ce2cdbc1-cb6c-4fc9-e32c-a1bb2cb246c1"
      },
      "execution_count": 68,
      "outputs": [
        {
          "output_type": "stream",
          "name": "stdout",
          "text": [
            "(0, '프랑스')\n",
            "(1, '일본')\n",
            "(2, '멕시코')\n",
            "(3, '캐나다')\n",
            "(4, '미국')\n",
            "(5, '아르헨티나')\n",
            "(6, '브라질')\n"
          ]
        }
      ]
    },
    {
      "cell_type": "code",
      "source": [
        "for idx, val in enumerate(country):\n",
        "      print(idx, val)"
      ],
      "metadata": {
        "colab": {
          "base_uri": "https://localhost:8080/"
        },
        "id": "L5jTUqlfgVlg",
        "outputId": "3fc9f2fd-4dfe-429c-a61d-de801dbee3d4"
      },
      "execution_count": 69,
      "outputs": [
        {
          "output_type": "stream",
          "name": "stdout",
          "text": [
            "0 프랑스\n",
            "1 일본\n",
            "2 멕시코\n",
            "3 캐나다\n",
            "4 미국\n",
            "5 아르헨티나\n",
            "6 브라질\n"
          ]
        }
      ]
    },
    {
      "cell_type": "code",
      "source": [
        "for idx, val in enumerate(country):\n",
        "      # if idx % 2 == 0:\n",
        "      # if not(idx % 2):\n",
        "      #  print(idx, val)\n",
        "      if idx % 2: # 0보다 크다\n",
        "        continue\n",
        "      print(idx, val)"
      ],
      "metadata": {
        "colab": {
          "base_uri": "https://localhost:8080/"
        },
        "id": "eRT28I3sgh_K",
        "outputId": "bb5cf310-b544-4876-9ea7-0f2051f5bf65"
      },
      "execution_count": 70,
      "outputs": [
        {
          "output_type": "stream",
          "name": "stdout",
          "text": [
            "0 프랑스\n",
            "2 멕시코\n",
            "4 미국\n",
            "6 브라질\n"
          ]
        }
      ]
    },
    {
      "cell_type": "code",
      "source": [
        "for idx, val in enumerate(country):\n",
        "    if len(val) == 5: # 나라 글자 길이가 5글자\n",
        "      print(idx, val)\n",
        "      break\n",
        "    print(\"진행...\", val)"
      ],
      "metadata": {
        "colab": {
          "base_uri": "https://localhost:8080/"
        },
        "id": "fNqR73Lbg9bO",
        "outputId": "b2bbfd41-4127-4cbd-dfc5-f67972015892"
      },
      "execution_count": 71,
      "outputs": [
        {
          "output_type": "stream",
          "name": "stdout",
          "text": [
            "진행... 프랑스\n",
            "진행... 일본\n",
            "진행... 멕시코\n",
            "진행... 캐나다\n",
            "진행... 미국\n",
            "5 아르헨티나\n"
          ]
        }
      ]
    },
    {
      "cell_type": "code",
      "source": [
        "numbers"
      ],
      "metadata": {
        "colab": {
          "base_uri": "https://localhost:8080/"
        },
        "id": "c8dxqt7Vhclw",
        "outputId": "91ecc869-541c-4b50-fac0-e3a482834f7e"
      },
      "execution_count": 72,
      "outputs": [
        {
          "output_type": "execute_result",
          "data": {
            "text/plain": [
              "[168, 32, 119, 194, 122, 91, 130, 46, 49, 174]"
            ]
          },
          "metadata": {},
          "execution_count": 72
        }
      ]
    },
    {
      "cell_type": "code",
      "source": [
        "lotto = random.choices(range(1,46), k = 6)\n",
        "lotto"
      ],
      "metadata": {
        "colab": {
          "base_uri": "https://localhost:8080/"
        },
        "id": "q7cnOJ-4hhpw",
        "outputId": "d6514036-1633-4028-b4d3-c0fe1276140e"
      },
      "execution_count": 73,
      "outputs": [
        {
          "output_type": "execute_result",
          "data": {
            "text/plain": [
              "[2, 14, 17, 25, 10, 31]"
            ]
          },
          "metadata": {},
          "execution_count": 73
        }
      ]
    },
    {
      "cell_type": "code",
      "source": [
        "max(lotto), min(lotto), sum(lotto) # 최대, 최소, 종합"
      ],
      "metadata": {
        "colab": {
          "base_uri": "https://localhost:8080/"
        },
        "id": "aq6i9VZbh5sp",
        "outputId": "08be728a-b937-4ab2-ae34-37610b93e28f"
      },
      "execution_count": 74,
      "outputs": [
        {
          "output_type": "execute_result",
          "data": {
            "text/plain": [
              "(31, 2, 99)"
            ]
          },
          "metadata": {},
          "execution_count": 74
        }
      ]
    },
    {
      "cell_type": "markdown",
      "source": [
        "* 리스트 컴프리헨션"
      ],
      "metadata": {
        "id": "Vn5q9HGpiGTa"
      }
    },
    {
      "cell_type": "code",
      "source": [
        "rc = random.choices(range(1, 21), k = 20)\n",
        "rc"
      ],
      "metadata": {
        "colab": {
          "base_uri": "https://localhost:8080/"
        },
        "id": "ThPjMh3miD9T",
        "outputId": "e96c91f1-ea1e-4d29-ed53-f2b6a08a554f"
      },
      "execution_count": 75,
      "outputs": [
        {
          "output_type": "execute_result",
          "data": {
            "text/plain": [
              "[15, 10, 18, 9, 17, 16, 8, 16, 5, 9, 8, 19, 3, 5, 16, 16, 9, 5, 18, 6]"
            ]
          },
          "metadata": {},
          "execution_count": 75
        }
      ]
    },
    {
      "cell_type": "code",
      "source": [
        "lunch = [(rc[i], rc[i+1]) for i in range(0,len(rc),2)]\n",
        "lunch"
      ],
      "metadata": {
        "colab": {
          "base_uri": "https://localhost:8080/"
        },
        "id": "vZ02uqvyiiCn",
        "outputId": "71616946-308e-4e33-c472-8e944e3c164f"
      },
      "execution_count": 76,
      "outputs": [
        {
          "output_type": "execute_result",
          "data": {
            "text/plain": [
              "[(15, 10),\n",
              " (18, 9),\n",
              " (17, 16),\n",
              " (8, 16),\n",
              " (5, 9),\n",
              " (8, 19),\n",
              " (3, 5),\n",
              " (16, 16),\n",
              " (9, 5),\n",
              " (18, 6)]"
            ]
          },
          "metadata": {},
          "execution_count": 76
        }
      ]
    },
    {
      "cell_type": "code",
      "source": [
        "# 랜덤으로 뽑은 20명의 번호를, 2명씩 묶고 싶다.\n",
        "lunch2 = []\n",
        "for i in range(0, len(rc), 2): # 20명이 랜덤하게 뽑힌 리스트를 for문으로 반복\n",
        "# 0부터 시작하고, 전체길이의 증가폭이 2인 range\n",
        "    #lunch2.append(rc[i]) # index가 짝수 번째인 값\n",
        "    #lunch2.append(rc[i+1]) # index가 홀수 번째인 값\n",
        "    tmp = (rc[i], rc[i+1])\n",
        "    lunch2.append(tmp)\n",
        "lunch2"
      ],
      "metadata": {
        "colab": {
          "base_uri": "https://localhost:8080/"
        },
        "id": "WtUbBgIai_q1",
        "outputId": "09f3b26e-d71d-4229-d76e-013c797e7ba9"
      },
      "execution_count": 77,
      "outputs": [
        {
          "output_type": "execute_result",
          "data": {
            "text/plain": [
              "[(15, 10),\n",
              " (18, 9),\n",
              " (17, 16),\n",
              " (8, 16),\n",
              " (5, 9),\n",
              " (8, 19),\n",
              " (3, 5),\n",
              " (16, 16),\n",
              " (9, 5),\n",
              " (18, 6)]"
            ]
          },
          "metadata": {},
          "execution_count": 77
        }
      ]
    },
    {
      "cell_type": "code",
      "source": [
        "# 랜덤으로 뽑은 20명의 번호를, 2명씩 묶고 싶다.\n",
        "lunch3 = []\n",
        "for i in range(0, len(rc)): # 20명이 랜덤하게 뽑힌 리스트를 for문으로 반복\n",
        "# 0부터 시작하고, 전체길이의 증가폭이 2인 range\n",
        "    # lunch2.append(rc[i]) # index가 짝수 번째인 값\n",
        "    # lunch2.append(rc[i+1]) # index가 홀수 번째인 값\n",
        "    # if i % 2: # i % 2 : 짝수가 아니다 -> 나머지가 1 나오면 True -> 홀수\n",
        "        #continue\n",
        "    #tmp = (rc[i], rc[i+1])\n",
        "    if not i % 2:\n",
        "        lunch3.append((rc[i], rc[i+1]))\n",
        "lunch3"
      ],
      "metadata": {
        "colab": {
          "base_uri": "https://localhost:8080/"
        },
        "id": "byN_F-bikDKk",
        "outputId": "df63af3c-612f-46dc-9246-37bf1663c7f3"
      },
      "execution_count": 79,
      "outputs": [
        {
          "output_type": "execute_result",
          "data": {
            "text/plain": [
              "[(15, 10),\n",
              " (18, 9),\n",
              " (17, 16),\n",
              " (8, 16),\n",
              " (5, 9),\n",
              " (8, 19),\n",
              " (3, 5),\n",
              " (16, 16),\n",
              " (9, 5),\n",
              " (18, 6)]"
            ]
          },
          "metadata": {},
          "execution_count": 79
        }
      ]
    },
    {
      "cell_type": "code",
      "source": [
        "# lunch = [(rc[i], rc[i+1]) for i in range(0,len(rc)) if i % 2 == 0] # 마지막 if가 countine 역할\n",
        "lunch = [(rc[i], rc[i+1]) for i in range(0,len(rc)) if not i % 2] # 마지막 if가 countine 역할\n",
        "lunch"
      ],
      "metadata": {
        "colab": {
          "base_uri": "https://localhost:8080/"
        },
        "id": "Ou8YyxDBkrx_",
        "outputId": "98345927-d275-48cb-9de3-3e795ee88a77"
      },
      "execution_count": 80,
      "outputs": [
        {
          "output_type": "execute_result",
          "data": {
            "text/plain": [
              "[(15, 10),\n",
              " (18, 9),\n",
              " (17, 16),\n",
              " (8, 16),\n",
              " (5, 9),\n",
              " (8, 19),\n",
              " (3, 5),\n",
              " (16, 16),\n",
              " (9, 5),\n",
              " (18, 6)]"
            ]
          },
          "metadata": {},
          "execution_count": 80
        }
      ]
    },
    {
      "cell_type": "markdown",
      "source": [
        "# 문자열"
      ],
      "metadata": {
        "id": "eeDUjSxvlYmi"
      }
    },
    {
      "cell_type": "code",
      "source": [
        "s = \"오늘의 점심은 무엇일까요\"\n",
        "s"
      ],
      "metadata": {
        "colab": {
          "base_uri": "https://localhost:8080/",
          "height": 35
        },
        "id": "lkB79NgZlaOd",
        "outputId": "c7c498b4-4fb6-440d-87a0-f914b549f145"
      },
      "execution_count": null,
      "outputs": [
        {
          "output_type": "execute_result",
          "data": {
            "text/plain": [
              "'오늘의 점심은 무엇일까요'"
            ],
            "application/vnd.google.colaboratory.intrinsic+json": {
              "type": "string"
            }
          },
          "metadata": {},
          "execution_count": 97
        }
      ]
    },
    {
      "cell_type": "code",
      "source": [
        "s.replace(\"점심\", \"저녁\"), s # 문자열은 읽기, 복사본을 만드는 것, 원본에 영향 x"
      ],
      "metadata": {
        "colab": {
          "base_uri": "https://localhost:8080/"
        },
        "id": "fMn8Dx33li0O",
        "outputId": "b57d19e7-f528-4339-f71b-8de7bed90368"
      },
      "execution_count": null,
      "outputs": [
        {
          "output_type": "execute_result",
          "data": {
            "text/plain": [
              "('오늘의 저녁은 무엇일까요', '오늘의 점심은 무엇일까요')"
            ]
          },
          "metadata": {},
          "execution_count": 98
        }
      ]
    },
    {
      "cell_type": "code",
      "source": [
        "s2 = \"오늘의 점심은 무엇일까요, 오늘의 저녁은 무엇일까요\"\n",
        "s2"
      ],
      "metadata": {
        "colab": {
          "base_uri": "https://localhost:8080/",
          "height": 35
        },
        "id": "BBRPqtkOlD3j",
        "outputId": "b4913a7e-a810-44db-97b6-73d33bb95a7d"
      },
      "execution_count": null,
      "outputs": [
        {
          "output_type": "execute_result",
          "data": {
            "text/plain": [
              "'오늘의 점심은 무엇일까요, 오늘의 저녁은 무엇일까요'"
            ],
            "application/vnd.google.colaboratory.intrinsic+json": {
              "type": "string"
            }
          },
          "metadata": {},
          "execution_count": 99
        }
      ]
    },
    {
      "cell_type": "code",
      "source": [
        "s2.replace(\"무엇\", \"마라탕\"), s2"
      ],
      "metadata": {
        "colab": {
          "base_uri": "https://localhost:8080/"
        },
        "id": "QiO5Hzipl666",
        "outputId": "a50fc1a9-b773-4d83-bd3f-b49f1e673e47"
      },
      "execution_count": null,
      "outputs": [
        {
          "output_type": "execute_result",
          "data": {
            "text/plain": [
              "('오늘의 점심은 마라탕일까요, 오늘의 저녁은 마라탕일까요', '오늘의 점심은 무엇일까요, 오늘의 저녁은 무엇일까요')"
            ]
          },
          "metadata": {},
          "execution_count": 100
        }
      ]
    },
    {
      "cell_type": "code",
      "source": [
        "s2.replace(\"무엇\", \"마라탕\", 1) # 1번만 바꿔주기"
      ],
      "metadata": {
        "colab": {
          "base_uri": "https://localhost:8080/",
          "height": 35
        },
        "id": "YSfl1GlxmBgu",
        "outputId": "39f19739-80b1-46a8-e1c4-0807efc1e98d"
      },
      "execution_count": null,
      "outputs": [
        {
          "output_type": "execute_result",
          "data": {
            "text/plain": [
              "'오늘의 점심은 마라탕일까요, 오늘의 저녁은 무엇일까요'"
            ],
            "application/vnd.google.colaboratory.intrinsic+json": {
              "type": "string"
            }
          },
          "metadata": {},
          "execution_count": 101
        }
      ]
    },
    {
      "cell_type": "code",
      "source": [
        "txt = \"비트코인 이더리움 리플\"\n",
        "txt.split(), txt # sep = 구분자 -> ' ' 스페이스"
      ],
      "metadata": {
        "colab": {
          "base_uri": "https://localhost:8080/"
        },
        "id": "lSPW092NmNPh",
        "outputId": "5e9cadf2-486b-4692-ca03-21cc3f249d00"
      },
      "execution_count": null,
      "outputs": [
        {
          "output_type": "execute_result",
          "data": {
            "text/plain": [
              "(['비트코인', '이더리움', '리플'], '비트코인 이더리움 리플')"
            ]
          },
          "metadata": {},
          "execution_count": 103
        }
      ]
    },
    {
      "cell_type": "code",
      "source": [
        "txt2 = \"비트코인, 이더리움, 리플\"\n",
        "txt2.split(\",\"), txt2.split(sep=\",\")"
      ],
      "metadata": {
        "colab": {
          "base_uri": "https://localhost:8080/"
        },
        "id": "2-9bRnY8mYer",
        "outputId": "6e909cb5-b39f-4e6d-c826-78e763d55992"
      },
      "execution_count": null,
      "outputs": [
        {
          "output_type": "execute_result",
          "data": {
            "text/plain": [
              "(['비트코인', ' 이더리움', ' 리플'], ['비트코인', ' 이더리움', ' 리플'])"
            ]
          },
          "metadata": {},
          "execution_count": 105
        }
      ]
    },
    {
      "cell_type": "code",
      "source": [
        "txt.split(\"\") # 오류"
      ],
      "metadata": {
        "colab": {
          "base_uri": "https://localhost:8080/",
          "height": 172
        },
        "id": "AUWXmxOemkdB",
        "outputId": "56998b8b-3e21-4023-d5d5-80e78fd10fb7"
      },
      "execution_count": null,
      "outputs": [
        {
          "output_type": "error",
          "ename": "ValueError",
          "evalue": "ignored",
          "traceback": [
            "\u001b[0;31m---------------------------------------------------------------------------\u001b[0m",
            "\u001b[0;31mValueError\u001b[0m                                Traceback (most recent call last)",
            "\u001b[0;32m<ipython-input-106-725cfd2483c3>\u001b[0m in \u001b[0;36m<module>\u001b[0;34m\u001b[0m\n\u001b[0;32m----> 1\u001b[0;31m \u001b[0mtxt\u001b[0m\u001b[0;34m.\u001b[0m\u001b[0msplit\u001b[0m\u001b[0;34m(\u001b[0m\u001b[0;34m\"\"\u001b[0m\u001b[0;34m)\u001b[0m \u001b[0;31m# 오류\u001b[0m\u001b[0;34m\u001b[0m\u001b[0;34m\u001b[0m\u001b[0m\n\u001b[0m",
            "\u001b[0;31mValueError\u001b[0m: empty separator"
          ]
        }
      ]
    },
    {
      "cell_type": "code",
      "source": [
        "[i for i in s] # 리스트 컴프리헨션하면 -> 문자열이 한 글자씩 쪼개진 글자가 된다."
      ],
      "metadata": {
        "colab": {
          "base_uri": "https://localhost:8080/"
        },
        "id": "7MTlVQpgmntY",
        "outputId": "2ff8961f-aff2-4d2e-b50a-88419f237187"
      },
      "execution_count": null,
      "outputs": [
        {
          "output_type": "execute_result",
          "data": {
            "text/plain": [
              "['오', '늘', '의', ' ', '점', '심', '은', ' ', '무', '엇', '일', '까', '요']"
            ]
          },
          "metadata": {},
          "execution_count": 107
        }
      ]
    },
    {
      "cell_type": "code",
      "source": [
        "sep = [i for i in s]\n",
        "sep"
      ],
      "metadata": {
        "colab": {
          "base_uri": "https://localhost:8080/"
        },
        "id": "5wJaxr1amyUj",
        "outputId": "717d8025-4d58-4db5-f135-b8f25fea9054"
      },
      "execution_count": null,
      "outputs": [
        {
          "output_type": "execute_result",
          "data": {
            "text/plain": [
              "['오', '늘', '의', ' ', '점', '심', '은', ' ', '무', '엇', '일', '까', '요']"
            ]
          },
          "metadata": {},
          "execution_count": 108
        }
      ]
    },
    {
      "cell_type": "code",
      "source": [
        "\"\".join(sep) # \"\"구분자로 해서 sep내용을 합쳐주세요"
      ],
      "metadata": {
        "colab": {
          "base_uri": "https://localhost:8080/",
          "height": 35
        },
        "id": "OKPTK5XRm3Qt",
        "outputId": "4a74fbe2-5fd8-4af0-8ddd-7397b5651b57"
      },
      "execution_count": null,
      "outputs": [
        {
          "output_type": "execute_result",
          "data": {
            "text/plain": [
              "'오늘의 점심은 무엇일까요'"
            ],
            "application/vnd.google.colaboratory.intrinsic+json": {
              "type": "string"
            }
          },
          "metadata": {},
          "execution_count": 109
        }
      ]
    },
    {
      "cell_type": "code",
      "source": [
        "\",\".join(sep)"
      ],
      "metadata": {
        "colab": {
          "base_uri": "https://localhost:8080/",
          "height": 35
        },
        "id": "WLTdgJT4nBcL",
        "outputId": "3340a30b-5135-4f68-b348-f4a4fe62a2f8"
      },
      "execution_count": null,
      "outputs": [
        {
          "output_type": "execute_result",
          "data": {
            "text/plain": [
              "'오,늘,의, ,점,심,은, ,무,엇,일,까,요'"
            ],
            "application/vnd.google.colaboratory.intrinsic+json": {
              "type": "string"
            }
          },
          "metadata": {},
          "execution_count": 110
        }
      ]
    },
    {
      "cell_type": "code",
      "source": [
        "\"$\".join(sep)"
      ],
      "metadata": {
        "colab": {
          "base_uri": "https://localhost:8080/",
          "height": 35
        },
        "id": "9m2yCW0KnFR1",
        "outputId": "7e2c65d1-4147-4de1-98ad-3a0283e368b4"
      },
      "execution_count": null,
      "outputs": [
        {
          "output_type": "execute_result",
          "data": {
            "text/plain": [
              "'오$늘$의$ $점$심$은$ $무$엇$일$까$요'"
            ],
            "application/vnd.google.colaboratory.intrinsic+json": {
              "type": "string"
            }
          },
          "metadata": {},
          "execution_count": 111
        }
      ]
    },
    {
      "cell_type": "code",
      "source": [
        "a = \"LaeJaeJin\"\n",
        "a.upper(), a.lower()"
      ],
      "metadata": {
        "colab": {
          "base_uri": "https://localhost:8080/"
        },
        "id": "VgIoXEiUnJN0",
        "outputId": "4b976b0f-cbe4-4d24-e471-3b0bf075b7d2"
      },
      "execution_count": null,
      "outputs": [
        {
          "output_type": "execute_result",
          "data": {
            "text/plain": [
              "('LAEJAEJIN', 'laejaejin')"
            ]
          },
          "metadata": {},
          "execution_count": 113
        }
      ]
    },
    {
      "cell_type": "code",
      "source": [
        "space = \"              공백이 많다        \"\n",
        "space.strip(), space.lstrip(), space.rstrip()"
      ],
      "metadata": {
        "colab": {
          "base_uri": "https://localhost:8080/"
        },
        "id": "wvE8tRxOnP7-",
        "outputId": "d2873272-7432-46e3-c123-b16d931bd4b5"
      },
      "execution_count": 1,
      "outputs": [
        {
          "output_type": "execute_result",
          "data": {
            "text/plain": [
              "('공백이 많다', '공백이 많다        ', '              공백이 많다')"
            ]
          },
          "metadata": {},
          "execution_count": 1
        }
      ]
    },
    {
      "cell_type": "code",
      "source": [
        "a = \"35\"\n",
        "a.zfill(6)"
      ],
      "metadata": {
        "colab": {
          "base_uri": "https://localhost:8080/",
          "height": 35
        },
        "id": "p2r6PLwLncIh",
        "outputId": "24d8e2aa-0a79-4816-aa37-f17e661f637f"
      },
      "execution_count": null,
      "outputs": [
        {
          "output_type": "execute_result",
          "data": {
            "text/plain": [
              "'000035'"
            ],
            "application/vnd.google.colaboratory.intrinsic+json": {
              "type": "string"
            }
          },
          "metadata": {},
          "execution_count": 115
        }
      ]
    },
    {
      "cell_type": "code",
      "source": [
        "s = \"안녕 나는 대한민국 사는 사람이야\"\n",
        "s.find(\"대한민국\")"
      ],
      "metadata": {
        "colab": {
          "base_uri": "https://localhost:8080/"
        },
        "id": "NnTUumakne6x",
        "outputId": "d3590560-2791-4def-da8f-d359f68743cf"
      },
      "execution_count": null,
      "outputs": [
        {
          "output_type": "execute_result",
          "data": {
            "text/plain": [
              "6"
            ]
          },
          "metadata": {},
          "execution_count": 116
        }
      ]
    },
    {
      "cell_type": "code",
      "source": [
        "s = \"안녕 나는 대한민국 사는 사람이야\"\n",
        "s.find(\"일본\") # 없으면 index가 -1"
      ],
      "metadata": {
        "colab": {
          "base_uri": "https://localhost:8080/"
        },
        "id": "XrnbXOnUnofX",
        "outputId": "88f082d9-bfde-45c2-ae57-b8835321c024"
      },
      "execution_count": null,
      "outputs": [
        {
          "output_type": "execute_result",
          "data": {
            "text/plain": [
              "-1"
            ]
          },
          "metadata": {},
          "execution_count": 117
        }
      ]
    },
    {
      "cell_type": "code",
      "source": [
        "s = \"안녕 나는 대한민국 사는 사람이야\"\n",
        "s.count(\"대한민국\")"
      ],
      "metadata": {
        "colab": {
          "base_uri": "https://localhost:8080/"
        },
        "id": "ScMNtfaqntmY",
        "outputId": "5aceb1eb-00c4-4a0d-ac7b-76911c90a4cd"
      },
      "execution_count": null,
      "outputs": [
        {
          "output_type": "execute_result",
          "data": {
            "text/plain": [
              "1"
            ]
          },
          "metadata": {},
          "execution_count": 118
        }
      ]
    },
    {
      "cell_type": "code",
      "source": [
        "s = \"안녕 나는 대한민국 사는 사람이야\"\n",
        "s.count(\"일본\")"
      ],
      "metadata": {
        "colab": {
          "base_uri": "https://localhost:8080/"
        },
        "id": "dmfG3mSKnxq4",
        "outputId": "1eac9128-07d3-403d-b765-d82839b0432b"
      },
      "execution_count": null,
      "outputs": [
        {
          "output_type": "execute_result",
          "data": {
            "text/plain": [
              "0"
            ]
          },
          "metadata": {},
          "execution_count": 119
        }
      ]
    }
  ]
}