{
  "nbformat": 4,
  "nbformat_minor": 0,
  "metadata": {
    "colab": {
      "provenance": [],
      "include_colab_link": true
    },
    "kernelspec": {
      "name": "python3",
      "display_name": "Python 3"
    },
    "language_info": {
      "name": "python"
    }
  },
  "cells": [
    {
      "cell_type": "markdown",
      "metadata": {
        "id": "view-in-github",
        "colab_type": "text"
      },
      "source": [
        "<a href=\"https://colab.research.google.com/github/JaejinLee1215/Python_LJJ/blob/main/submission/JaejinLee1215/ch01_01_%EA%B8%B0%EB%B3%B8_%EB%AC%B8%EB%B2%95%EA%B3%BC_%EC%88%AB%EC%9E%90_%EA%B3%84%EC%82%B0_%EC%9D%B4%EC%9E%AC%EC%A7%84.ipynb\" target=\"_parent\"><img src=\"https://colab.research.google.com/assets/colab-badge.svg\" alt=\"Open In Colab\"/></a>"
      ]
    },
    {
      "cell_type": "markdown",
      "source": [
        "# 환경 확인\n",
        "* `!`를 통해 리눅스 명령어 호출 가능"
      ],
      "metadata": {
        "id": "9-iQOaZAD1G6"
      }
    },
    {
      "cell_type": "code",
      "execution_count": null,
      "metadata": {
        "colab": {
          "base_uri": "https://localhost:8080/"
        },
        "id": "hYCx_TPZiYOH",
        "outputId": "1ea12610-b92e-4483-c59f-82424c29c39a"
      },
      "outputs": [
        {
          "output_type": "stream",
          "name": "stdout",
          "text": [
            "Python 3.8.10\n"
          ]
        }
      ],
      "source": [
        "# 파이썬 버전 확인\n",
        "!python --version # ! 커널, 터미널 실행"
      ]
    },
    {
      "cell_type": "code",
      "source": [
        "# PIP 버전 확인\n",
        "!pip --version"
      ],
      "metadata": {
        "colab": {
          "base_uri": "https://localhost:8080/"
        },
        "id": "p7fOxk6mD4s4",
        "outputId": "2c6fc4cc-ff09-44a0-f3c1-4c32953ecf9f"
      },
      "execution_count": null,
      "outputs": [
        {
          "output_type": "stream",
          "name": "stdout",
          "text": [
            "pip 22.0.4 from /usr/local/lib/python3.8/dist-packages/pip (python 3.8)\n"
          ]
        }
      ]
    },
    {
      "cell_type": "code",
      "source": [
        "# 리눅스 커널 & 버전 확인\n",
        "!cat /etc/issue"
      ],
      "metadata": {
        "colab": {
          "base_uri": "https://localhost:8080/"
        },
        "id": "TjPhoyrkEC1e",
        "outputId": "41f86aff-cfeb-4beb-dbfc-0ad8b4e7c8b1"
      },
      "execution_count": null,
      "outputs": [
        {
          "output_type": "stream",
          "name": "stdout",
          "text": [
            "Ubuntu 20.04.5 LTS \\n \\l\n",
            "\n"
          ]
        }
      ]
    },
    {
      "cell_type": "markdown",
      "source": [
        "# Hello World!"
      ],
      "metadata": {
        "id": "_Atv2gDrEgGG"
      }
    },
    {
      "cell_type": "code",
      "source": [
        "# Hello, world! 를 출력\n",
        "print(\"Hello, world!\")"
      ],
      "metadata": {
        "colab": {
          "base_uri": "https://localhost:8080/"
        },
        "id": "8Ybgz8wsEioz",
        "outputId": "67114520-086a-4a04-d331-5bc6d85b4de0"
      },
      "execution_count": null,
      "outputs": [
        {
          "output_type": "stream",
          "name": "stdout",
          "text": [
            "Hello, world!\n"
          ]
        }
      ]
    },
    {
      "cell_type": "markdown",
      "source": [
        "* ' '(작은따옴표)로 묶은 부분 = 문자열\n",
        "* `print`는 값을 화면에 출력\n",
        "\n",
        "* `print`처럼 단어 뒤에 ( )(괄호)가 붙은 것 = 함수(function) : 정해진 일을 수행하는 단위\n",
        "* 함수는 `print('Hello, world!')`와 같이 함수 이름 `print`를 써주고, 괄호 안에 출력할 내용을 넣으면 함수가 실행\n",
        "* 함수 실행을 다른 말로는 함수를 호출(call)한다고 말하기도 함"
      ],
      "metadata": {
        "id": "VuW9yW-AEvwH"
      }
    },
    {
      "cell_type": "markdown",
      "source": [
        "# 기본 문법"
      ],
      "metadata": {
        "id": "EOixnIQhFMGi"
      }
    },
    {
      "cell_type": "markdown",
      "source": [
        "## 세미콜론 (;)\n",
        "* 많은 프로그래밍 언어들은 구문이 끝날 때 ;(세미콜론)을 붙여야 함 (JAVA, C...)\n",
        "* 하지만 파이썬은 세미콜론을 붙이지 않음"
      ],
      "metadata": {
        "id": "rLb7LdJHFNbj"
      }
    },
    {
      "cell_type": "code",
      "source": [
        "print(\"Hello, world!\")# Alt + shift + 방향키 복사 가능 / 특수문자 : 윈도우키 + .\n",
        "print(\"Hello, world!\")"
      ],
      "metadata": {
        "colab": {
          "base_uri": "https://localhost:8080/"
        },
        "id": "oE3sLkvkFLu2",
        "outputId": "6950ab2d-4450-4cb1-bf8a-aec36f04a7ab"
      },
      "execution_count": null,
      "outputs": [
        {
          "output_type": "stream",
          "name": "stdout",
          "text": [
            "Hello, world!\n"
          ]
        }
      ]
    },
    {
      "cell_type": "markdown",
      "source": [
        "* 단, 세미콜론을 붙여도 문법 에러는 발생하지 않음\n",
        "* 보통 한 줄에 여러 구문을 사용할 때 세미콜론으로 구분\n"
      ],
      "metadata": {
        "id": "3Scb0f8gFbNy"
      }
    },
    {
      "cell_type": "code",
      "source": [
        "print(\"Hello\"); print(1234)\n",
        "# shift + home : 맨 앞, shift + end : 맨 끝"
      ],
      "metadata": {
        "colab": {
          "base_uri": "https://localhost:8080/"
        },
        "id": "Q86t4ZGoFY81",
        "outputId": "64eed56f-9c1d-4409-e4ee-e7a3e001761f"
      },
      "execution_count": null,
      "outputs": [
        {
          "output_type": "stream",
          "name": "stdout",
          "text": [
            "Hello\n",
            "1234\n"
          ]
        }
      ]
    },
    {
      "cell_type": "markdown",
      "source": [
        "## 주석\n",
        "* 파이썬에서 사람만 알아볼 수 있도록 작성하는 부분을 *주석(comment)*라고 함\n",
        "* 즉, 주석은 파이썬 인터프리터(실행기)가 처리하지 않으므로 프로그램의 실행에는 영향을 주지 않음\n",
        "* 보통 주석은 코드에 대한 자세한 설명을 작성하거나, 특정 코드를 임시로 사용하지 않도록 만들 때 사용\n",
        "* 주석은 **한 줄 주석**과 **블록 주석** 두 가지가 있음"
      ],
      "metadata": {
        "id": "0C7s21JUFr5B"
      }
    },
    {
      "cell_type": "markdown",
      "source": [
        "### 한 줄 주석"
      ],
      "metadata": {
        "id": "LsK4920GF8xG"
      }
    },
    {
      "cell_type": "code",
      "source": [
        "# Hello, world! 출력\n",
        "print(\"Hello, world!\") # 전체 지정(Ctrl + a)"
      ],
      "metadata": {
        "colab": {
          "base_uri": "https://localhost:8080/"
        },
        "id": "s6XMh-J-EnFM",
        "outputId": "eb66fdc9-6461-4b3d-a288-2e58a64d5820"
      },
      "execution_count": null,
      "outputs": [
        {
          "output_type": "stream",
          "name": "stdout",
          "text": [
            "Hello, world!\n"
          ]
        }
      ]
    },
    {
      "cell_type": "markdown",
      "source": [
        "* 코드 맨 앞에 #을 사용하면 해당 줄은 모두 주석이 됨\n",
        "* 따라서 다음 `print` 함수는 동작하지 않음"
      ],
      "metadata": {
        "id": "Yc3MfXY1GHIc"
      }
    },
    {
      "cell_type": "code",
      "source": [
        "# Hello, world! 출력\n",
        "# print(\"Hello, world!\") # Ctrl + / : 해당 줄을 주석처리"
      ],
      "metadata": {
        "id": "9t4b0h2BGOJ9"
      },
      "execution_count": null,
      "outputs": []
    },
    {
      "cell_type": "markdown",
      "source": [
        "* 코드 뒤에 #으로 주석을 작성할 수도 있음\n",
        "* 이때는 앞에 있는 코드만 정상적으로 동작하며 # 뒤에 있는 코드는 동작하지 않음"
      ],
      "metadata": {
        "id": "9xaRGo5cGSGW"
      }
    },
    {
      "cell_type": "code",
      "source": [
        "a = 1 + 2 #더하기\n",
        "print('Hello, world') # print(\"Show Me The Money\")"
      ],
      "metadata": {
        "colab": {
          "base_uri": "https://localhost:8080/"
        },
        "id": "93Hww5UuGRra",
        "outputId": "f4fccafa-047c-427b-891f-189a38afedb7"
      },
      "execution_count": null,
      "outputs": [
        {
          "output_type": "stream",
          "name": "stdout",
          "text": [
            "Hello, world!\n"
          ]
        }
      ]
    },
    {
      "cell_type": "markdown",
      "source": [
        "* Colab에서의 주석 단축키 : `Ctrl + /`"
      ],
      "metadata": {
        "id": "6nmPHNN3G7an"
      }
    },
    {
      "cell_type": "markdown",
      "source": [
        "### 블록 주석"
      ],
      "metadata": {
        "id": "ibBnEPLRGcpM"
      }
    },
    {
      "cell_type": "code",
      "source": [
        "# 작은따옴표\n",
        "'''\n",
        "print('Hello, world!')\n",
        "print('1234567890')\n",
        "'''\n",
        "# 큰따옴표\n",
        "\"\"\"\n",
        "print('Hello, world!')\n",
        "print('1234567890')\n",
        "\"\"\"\n",
        "print('Hello, world!')"
      ],
      "metadata": {
        "colab": {
          "base_uri": "https://localhost:8080/"
        },
        "id": "xHLSEnIkGW13",
        "outputId": "e1e03395-08ee-4f06-bfe1-b25127ecf400"
      },
      "execution_count": null,
      "outputs": [
        {
          "output_type": "stream",
          "name": "stdout",
          "text": [
            "Hello, world!\n"
          ]
        }
      ]
    },
    {
      "cell_type": "markdown",
      "source": [
        "## 들여쓰기\n",
        "* 들여쓰기는 코드를 읽기 쉽도록 일정한 간격을 띄워서 작성하는 방법, 특히 파이썬은 들여쓰기 자체가 문법\n",
        "* 예를 들어 if의 다음 줄은 항상 들여쓰기를 해야 함\n",
        "* 만약 들여쓰기를 하지 않으면 문법 에러이므로 코드가 실행되지 않음"
      ],
      "metadata": {
        "id": "2ikAVOHhHWsp"
      }
    },
    {
      "cell_type": "code",
      "source": [
        "if a == 10: # 조건을 만족시킬 때\n",
        "print('10입니다.') #들여쓰기 문법 에러"
      ],
      "metadata": {
        "colab": {
          "base_uri": "https://localhost:8080/",
          "height": 136
        },
        "id": "T_XahCuikc2z",
        "outputId": "b67657c4-ab9b-4e46-cd7b-a79038c1d726"
      },
      "execution_count": null,
      "outputs": [
        {
          "output_type": "error",
          "ename": "IndentationError",
          "evalue": "ignored",
          "traceback": [
            "\u001b[0;36m  File \u001b[0;32m\"<ipython-input-10-2d1caf23679d>\"\u001b[0;36m, line \u001b[0;32m2\u001b[0m\n\u001b[0;31m    print('10입니다.') #들여쓰기 문법 에러\u001b[0m\n\u001b[0m    ^\u001b[0m\n\u001b[0;31mIndentationError\u001b[0m\u001b[0;31m:\u001b[0m expected an indented block\n"
          ]
        }
      ]
    },
    {
      "cell_type": "code",
      "source": [
        "#if a == 10: # 조건을 만족시킬 때\n",
        "  print('10입니다.') #들여쓰기 문법 에러\n",
        "\n",
        "if a != 0\n",
        "  print('10이 아닙니다.')"
      ],
      "metadata": {
        "id": "kaxxIPeTHi5V",
        "colab": {
          "base_uri": "https://localhost:8080/",
          "height": 136
        },
        "outputId": "b32b5823-f264-456a-9406-a755506e7ca4"
      },
      "execution_count": null,
      "outputs": [
        {
          "output_type": "error",
          "ename": "IndentationError",
          "evalue": "ignored",
          "traceback": [
            "\u001b[0;36m  File \u001b[0;32m\"<ipython-input-15-e4cf96117729>\"\u001b[0;36m, line \u001b[0;32m2\u001b[0m\n\u001b[0;31m    print('10입니다.') #들여쓰기 문법 에러\u001b[0m\n\u001b[0m    ^\u001b[0m\n\u001b[0;31mIndentationError\u001b[0m\u001b[0;31m:\u001b[0m unexpected indent\n"
          ]
        }
      ]
    },
    {
      "cell_type": "markdown",
      "source": [
        "* 파이썬에서 들여쓰기 방법은 공백(스페이스) 2칸, 4칸, 탭(tab) 등 여러 가지 방법이 있음"
      ],
      "metadata": {
        "id": "qYPOo1oCHoiG"
      }
    },
    {
      "cell_type": "markdown",
      "source": [
        "## 코드 블록\n",
        "* 코드 블록은 특정한 동작을 위해서 코드가 모여 있는 상태를 뜻하며 파이썬은 들여쓰기를 기준으로 코드 블록을 구성"
      ],
      "metadata": {
        "id": "QljE8nYtH0BF"
      }
    },
    {
      "cell_type": "code",
      "source": [
        "if a!= 10:\n",
        "# if a != 10\n",
        "    print(\"10이 아님\")\n",
        "    print(\"아니라니까\")"
      ],
      "metadata": {
        "id": "XrZQPkuHHzwJ",
        "colab": {
          "base_uri": "https://localhost:8080/",
          "height": 227
        },
        "outputId": "8d5ef2cb-73a2-45fc-feea-a43226f35746"
      },
      "execution_count": null,
      "outputs": [
        {
          "output_type": "error",
          "ename": "NameError",
          "evalue": "ignored",
          "traceback": [
            "\u001b[0;31m---------------------------------------------------------------------------\u001b[0m",
            "\u001b[0;31mNameError\u001b[0m                                 Traceback (most recent call last)",
            "\u001b[0;32m<ipython-input-24-a77bc4626262>\u001b[0m in \u001b[0;36m<module>\u001b[0;34m\u001b[0m\n\u001b[0;32m----> 1\u001b[0;31m \u001b[0;32mif\u001b[0m \u001b[0ma\u001b[0m\u001b[0;34m!=\u001b[0m \u001b[0;36m10\u001b[0m\u001b[0;34m:\u001b[0m\u001b[0;34m\u001b[0m\u001b[0;34m\u001b[0m\u001b[0m\n\u001b[0m\u001b[1;32m      2\u001b[0m \u001b[0;31m# if a != 10\u001b[0m\u001b[0;34m\u001b[0m\u001b[0;34m\u001b[0m\u001b[0;34m\u001b[0m\u001b[0m\n\u001b[1;32m      3\u001b[0m     \u001b[0mprint\u001b[0m\u001b[0;34m(\u001b[0m\u001b[0;34m\"10이 아님\"\u001b[0m\u001b[0;34m)\u001b[0m\u001b[0;34m\u001b[0m\u001b[0;34m\u001b[0m\u001b[0m\n\u001b[1;32m      4\u001b[0m     \u001b[0mprint\u001b[0m\u001b[0;34m(\u001b[0m\u001b[0;34m\"아니라니까\"\u001b[0m\u001b[0;34m)\u001b[0m\u001b[0;34m\u001b[0m\u001b[0;34m\u001b[0m\u001b[0m\n",
            "\u001b[0;31mNameError\u001b[0m: name 'a' is not defined"
          ]
        }
      ]
    },
    {
      "cell_type": "markdown",
      "source": [
        "* 단, 같은 블록은 들여쓰기 칸 수가 같아야 함"
      ],
      "metadata": {
        "id": "9UcAH-gTH56K"
      }
    },
    {
      "cell_type": "code",
      "source": [
        "if a !=10:\n",
        "  print('10이')\n",
        "      #print('아님')\n",
        "  print('아님')"
      ],
      "metadata": {
        "id": "a0k69ILiHlUB",
        "colab": {
          "base_uri": "https://localhost:8080/",
          "height": 227
        },
        "outputId": "22f4f7b5-572c-48da-9aee-3ea64121f924"
      },
      "execution_count": null,
      "outputs": [
        {
          "output_type": "error",
          "ename": "NameError",
          "evalue": "ignored",
          "traceback": [
            "\u001b[0;31m---------------------------------------------------------------------------\u001b[0m",
            "\u001b[0;31mNameError\u001b[0m                                 Traceback (most recent call last)",
            "\u001b[0;32m<ipython-input-25-bf25000d4b30>\u001b[0m in \u001b[0;36m<module>\u001b[0;34m\u001b[0m\n\u001b[0;32m----> 1\u001b[0;31m \u001b[0;32mif\u001b[0m \u001b[0ma\u001b[0m \u001b[0;34m!=\u001b[0m\u001b[0;36m10\u001b[0m\u001b[0;34m:\u001b[0m\u001b[0;34m\u001b[0m\u001b[0;34m\u001b[0m\u001b[0m\n\u001b[0m\u001b[1;32m      2\u001b[0m   \u001b[0mprint\u001b[0m\u001b[0;34m(\u001b[0m\u001b[0;34m'10이'\u001b[0m\u001b[0;34m)\u001b[0m\u001b[0;34m\u001b[0m\u001b[0;34m\u001b[0m\u001b[0m\n\u001b[1;32m      3\u001b[0m       \u001b[0;31m#print('아님')\u001b[0m\u001b[0;34m\u001b[0m\u001b[0;34m\u001b[0m\u001b[0;34m\u001b[0m\u001b[0m\n\u001b[1;32m      4\u001b[0m   \u001b[0mprint\u001b[0m\u001b[0;34m(\u001b[0m\u001b[0;34m'아님'\u001b[0m\u001b[0;34m)\u001b[0m\u001b[0;34m\u001b[0m\u001b[0;34m\u001b[0m\u001b[0m\n",
            "\u001b[0;31mNameError\u001b[0m: name 'a' is not defined"
          ]
        }
      ]
    },
    {
      "cell_type": "code",
      "source": [],
      "metadata": {
        "id": "hK-eOTs9IJW9"
      },
      "execution_count": null,
      "outputs": []
    },
    {
      "cell_type": "markdown",
      "source": [
        "# 숫자 계산\n",
        "* 파이썬에서는 숫자의 자료형에 따라 결과가 달라질 수 있음\n",
        "* 파이썬에서는 숫자를 정수(int), 실수(float), 복소수(complex)로 구분\n",
        "* 보통 프로그래밍에서는 정수와 실수를 주로 사용"
      ],
      "metadata": {
        "id": "G8XpY8sgISLJ"
      }
    },
    {
      "cell_type": "markdown",
      "source": [
        "## 정수 계산"
      ],
      "metadata": {
        "id": "i97SjYUHK3jb"
      }
    },
    {
      "cell_type": "markdown",
      "source": [
        "### 사칙연산"
      ],
      "metadata": {
        "id": "M3G0vtE3I7qn"
      }
    },
    {
      "cell_type": "code",
      "source": [
        "# 덧셈\n",
        "1 + 1"
      ],
      "metadata": {
        "colab": {
          "base_uri": "https://localhost:8080/"
        },
        "id": "JpLwO1miIb2m",
        "outputId": "dc14eecd-ebd2-4370-ce5d-16511dc66480"
      },
      "execution_count": null,
      "outputs": [
        {
          "output_type": "execute_result",
          "data": {
            "text/plain": [
              "2"
            ]
          },
          "metadata": {},
          "execution_count": 18
        }
      ]
    },
    {
      "cell_type": "code",
      "source": [
        "# 뺄셈\n",
        "1 - 2"
      ],
      "metadata": {
        "colab": {
          "base_uri": "https://localhost:8080/"
        },
        "id": "lXsBZW5sIrk-",
        "outputId": "d8ef5889-27b6-4f49-dbd9-fd482a541c49"
      },
      "execution_count": null,
      "outputs": [
        {
          "output_type": "execute_result",
          "data": {
            "text/plain": [
              "-1"
            ]
          },
          "metadata": {},
          "execution_count": 19
        }
      ]
    },
    {
      "cell_type": "code",
      "source": [
        "# 곱셈\n",
        "2 * 2"
      ],
      "metadata": {
        "colab": {
          "base_uri": "https://localhost:8080/"
        },
        "id": "d2YEcDToItgb",
        "outputId": "4ebe8653-0d13-4d3a-bb83-2a1f25ca8feb"
      },
      "execution_count": null,
      "outputs": [
        {
          "output_type": "execute_result",
          "data": {
            "text/plain": [
              "4"
            ]
          },
          "metadata": {},
          "execution_count": 26
        }
      ]
    },
    {
      "cell_type": "code",
      "source": [
        "# 나눗셈\n",
        "5 / 2 #결과값 = 실수"
      ],
      "metadata": {
        "colab": {
          "base_uri": "https://localhost:8080/"
        },
        "id": "MZyyDveqIvHz",
        "outputId": "0473541d-8d5a-4013-8b36-f2071a77444d"
      },
      "execution_count": null,
      "outputs": [
        {
          "output_type": "execute_result",
          "data": {
            "text/plain": [
              "2.5"
            ]
          },
          "metadata": {},
          "execution_count": 23
        }
      ]
    },
    {
      "cell_type": "code",
      "source": [
        "# 실수인 것을 어떻게 알까?\n",
        "# 자료형 -> type(...)\n",
        "2 * 2, type(2*2), 5 / 2, type(5/2)"
      ],
      "metadata": {
        "colab": {
          "base_uri": "https://localhost:8080/"
        },
        "id": "EuggdRqRIwjc",
        "outputId": "dd355e1d-3d7f-4a53-cc4b-c5dadbe64d99"
      },
      "execution_count": null,
      "outputs": [
        {
          "output_type": "execute_result",
          "data": {
            "text/plain": [
              "(4, int, 2.5, float)"
            ]
          },
          "metadata": {},
          "execution_count": 28
        }
      ]
    },
    {
      "cell_type": "markdown",
      "source": [
        "### 몫 (`//`) 연산자\n",
        "* 정수끼리 나눗셈 결과가 정수로 나오도록 해야할 때 //로 나눗셈을 하면 됨\n",
        "* `//`은 버림 나눗셈(floor division)이라고 부르며 나눗셈의 결과에서 소수점 이하는 버림"
      ],
      "metadata": {
        "id": "0h1wJT7EJSsJ"
      }
    },
    {
      "cell_type": "code",
      "source": [
        "5 // 2"
      ],
      "metadata": {
        "colab": {
          "base_uri": "https://localhost:8080/"
        },
        "id": "pV62h895JSQa",
        "outputId": "68b9bb8a-9ff6-495d-8bf4-a5f51e13b430"
      },
      "execution_count": null,
      "outputs": [
        {
          "output_type": "execute_result",
          "data": {
            "text/plain": [
              "2"
            ]
          },
          "metadata": {},
          "execution_count": 31
        }
      ]
    },
    {
      "cell_type": "code",
      "source": [
        "# 블록 실행 후 하단에 새로운 블록 만들기 : Alt + enter\n",
        "4 / 2, 4 // 2"
      ],
      "metadata": {
        "colab": {
          "base_uri": "https://localhost:8080/"
        },
        "id": "PjqYpAobfiTH",
        "outputId": "291e4157-8c52-4fba-aa10-b7a0168d0d41"
      },
      "execution_count": null,
      "outputs": [
        {
          "output_type": "execute_result",
          "data": {
            "text/plain": [
              "(2.0, 2)"
            ]
          },
          "metadata": {},
          "execution_count": 32
        }
      ]
    },
    {
      "cell_type": "markdown",
      "source": [
        "* 참고로 실수에 // 연산자를 사용하면 결과는 실수가 나오며 소수점 이하는 버림.\n",
        "* 따라서 (연산자 앞뒤 숫자 중 하나라도 실수라면) 결과는 항상 `.0`으로 끝남"
      ],
      "metadata": {
        "id": "PxkAcQC0JpPn"
      }
    },
    {
      "cell_type": "code",
      "source": [
        "5.5 // 2, 4 // 2.0, 4.1 // 2.1"
      ],
      "metadata": {
        "colab": {
          "base_uri": "https://localhost:8080/"
        },
        "id": "3oigA9Z2JnkL",
        "outputId": "d221df97-d572-4fc5-bdfa-4a37edeaa720"
      },
      "execution_count": null,
      "outputs": [
        {
          "output_type": "execute_result",
          "data": {
            "text/plain": [
              "(2.0, 2.0, 1.0)"
            ]
          },
          "metadata": {},
          "execution_count": 33
        }
      ]
    },
    {
      "cell_type": "markdown",
      "source": [
        "### 나머지 (`%`) 연산자"
      ],
      "metadata": {
        "id": "DISBYzalJ9qp"
      }
    },
    {
      "cell_type": "code",
      "source": [
        "# 모듈로(modulo) 연산자\n",
        "3 % 2, 5 % 4"
      ],
      "metadata": {
        "colab": {
          "base_uri": "https://localhost:8080/"
        },
        "id": "_Rmt9cfmKDM9",
        "outputId": "832c3476-492e-4670-a73a-4b4f78938be4"
      },
      "execution_count": null,
      "outputs": [
        {
          "output_type": "execute_result",
          "data": {
            "text/plain": [
              "(1, 1)"
            ]
          },
          "metadata": {},
          "execution_count": 35
        }
      ]
    },
    {
      "cell_type": "markdown",
      "source": [
        "### 거듭제곱 (`**`) 연산자"
      ],
      "metadata": {
        "id": "wMW3EXGAKJ0l"
      }
    },
    {
      "cell_type": "code",
      "source": [
        "2 ** 10, 3 ** 3"
      ],
      "metadata": {
        "colab": {
          "base_uri": "https://localhost:8080/"
        },
        "id": "wOzl-PZAKHeT",
        "outputId": "e3a3f81f-3f4e-4c7f-de1d-85a00b19d190"
      },
      "execution_count": null,
      "outputs": [
        {
          "output_type": "execute_result",
          "data": {
            "text/plain": [
              "(1024, 27)"
            ]
          },
          "metadata": {},
          "execution_count": 37
        }
      ]
    },
    {
      "cell_type": "markdown",
      "source": [
        "### 값을 정수로 만들기\n",
        "* 계산 결과가 실수로 나왔을 때 강제로 정수로 만들어야 할 때는 int에 괄호를 붙이고 숫자 또는 계산식을 넣으면 됨\n",
        "* 특히 int에 문자열을 넣어도 정수로 만들 수 있음. 단, 정수로 된 문자열이라야 함\n",
        "\n",
        "```\n",
        "int(숫자)\n",
        "int(계산식)\n",
        "int('문자열')\n",
        "```"
      ],
      "metadata": {
        "id": "ZZgx8SDsKV83"
      }
    },
    {
      "cell_type": "code",
      "source": [
        "# int는 정수(integer)를 뜻하며 값을 정수로 만들어 줌 (소수점 이하는 버림)\n",
        "int(3.3), int(5/2), int('10')"
      ],
      "metadata": {
        "colab": {
          "base_uri": "https://localhost:8080/"
        },
        "id": "95zogp0ZKOAq",
        "outputId": "2a387820-f467-43fc-c7ab-a4f546b8814c"
      },
      "execution_count": null,
      "outputs": [
        {
          "output_type": "execute_result",
          "data": {
            "text/plain": [
              "(3, 2, 10)"
            ]
          },
          "metadata": {},
          "execution_count": 42
        }
      ]
    },
    {
      "cell_type": "markdown",
      "source": [
        "### 몫과 나머지 함께 구하기"
      ],
      "metadata": {
        "id": "9in5eqasKroi"
      }
    },
    {
      "cell_type": "code",
      "source": [
        "divmod(5, 2) # 5를 2로 나눴을 때의 몫과 나머지"
      ],
      "metadata": {
        "colab": {
          "base_uri": "https://localhost:8080/"
        },
        "id": "M1bIF6YsKoJY",
        "outputId": "8142c848-ef03-4251-d146-cb4347e5bd06"
      },
      "execution_count": null,
      "outputs": [
        {
          "output_type": "execute_result",
          "data": {
            "text/plain": [
              "(2, 1)"
            ]
          },
          "metadata": {},
          "execution_count": 44
        }
      ]
    },
    {
      "cell_type": "markdown",
      "source": [
        "## 실수 계산"
      ],
      "metadata": {
        "id": "BD1O76ZHLu2J"
      }
    },
    {
      "cell_type": "markdown",
      "source": [
        "### 실수끼리의 계산"
      ],
      "metadata": {
        "id": "eBsE7rHvL2Ms"
      }
    },
    {
      "cell_type": "code",
      "source": [
        "# 실수끼리의 덧셈\n",
        "3.5 + 2.1 # 둘 중 하나가 실수라면"
      ],
      "metadata": {
        "colab": {
          "base_uri": "https://localhost:8080/"
        },
        "id": "Yjb3OslqL39w",
        "outputId": "c6afc377-0af8-4a02-903f-d1f0af2afa09"
      },
      "execution_count": null,
      "outputs": [
        {
          "output_type": "execute_result",
          "data": {
            "text/plain": [
              "5.6"
            ]
          },
          "metadata": {},
          "execution_count": 51
        }
      ]
    },
    {
      "cell_type": "code",
      "source": [
        "# 실수끼리의 뺄셈\n",
        "4.3 - 2.7 #부동수소점 오차 발생\n",
        "2.7 - 1.5"
      ],
      "metadata": {
        "colab": {
          "base_uri": "https://localhost:8080/"
        },
        "id": "KL9BWk0gL5fh",
        "outputId": "5b3e94af-910a-4d18-deb7-3128b408253b"
      },
      "execution_count": null,
      "outputs": [
        {
          "output_type": "execute_result",
          "data": {
            "text/plain": [
              "1.2000000000000002"
            ]
          },
          "metadata": {},
          "execution_count": 57
        }
      ]
    },
    {
      "cell_type": "code",
      "source": [
        "# 실수끼리의 곱셈\n",
        "1.5 * 3.1"
      ],
      "metadata": {
        "colab": {
          "base_uri": "https://localhost:8080/"
        },
        "id": "Oogn5JO3L6n8",
        "outputId": "d44d8c19-5111-4f4f-9bd3-69f0ad39b18e"
      },
      "execution_count": null,
      "outputs": [
        {
          "output_type": "execute_result",
          "data": {
            "text/plain": [
              "4.65"
            ]
          },
          "metadata": {},
          "execution_count": 58
        }
      ]
    },
    {
      "cell_type": "code",
      "source": [
        "# 실수끼리의 나눗셈\n",
        "5.5 / 3.1"
      ],
      "metadata": {
        "colab": {
          "base_uri": "https://localhost:8080/"
        },
        "id": "dnjKSfe2MDwO",
        "outputId": "ca79ba54-b2d7-4d34-d41e-6617058c65bd"
      },
      "execution_count": null,
      "outputs": [
        {
          "output_type": "execute_result",
          "data": {
            "text/plain": [
              "1.7741935483870968"
            ]
          },
          "metadata": {},
          "execution_count": 59
        }
      ]
    },
    {
      "cell_type": "markdown",
      "source": [
        "### 실수와 정수 간의 계산\n",
        "* 실수와 정수를 함께 계산하면 표현 범위가 넓은 실수로 계산됨 (실수가 정수보다 표현 범위가 넓음)"
      ],
      "metadata": {
        "id": "AqMMy-DQNDsA"
      }
    },
    {
      "cell_type": "code",
      "source": [
        "4.2 + 5, 5 + 4.2"
      ],
      "metadata": {
        "colab": {
          "base_uri": "https://localhost:8080/"
        },
        "id": "ZbHqA1MaMFin",
        "outputId": "0f0a306b-1687-4cbf-d77f-cf078ffadb6b"
      },
      "execution_count": null,
      "outputs": [
        {
          "output_type": "execute_result",
          "data": {
            "text/plain": [
              "(9.2, 9.2)"
            ]
          },
          "metadata": {},
          "execution_count": 61
        }
      ]
    },
    {
      "cell_type": "markdown",
      "source": [
        "### 값을 실수로 만들기\n",
        "* `float`에 괄호를 붙이고 숫자 또는 계산식을 넣으면 됨\n",
        "* 특히 `float`에 문자열을 넣어도 실수로 만들 수 있음\n",
        "* 단, 실수 또는 정수로 된 문자열이라야 함\n",
        "```\n",
        "float(숫자)\n",
        "float(계산식)\n",
        "float('문자열')\n",
        "```"
      ],
      "metadata": {
        "id": "6cAVoZcaNaUQ"
      }
    },
    {
      "cell_type": "code",
      "source": [
        "float(5), float(1+2), float('5.3'), float('5')"
      ],
      "metadata": {
        "colab": {
          "base_uri": "https://localhost:8080/"
        },
        "id": "L67RYqxuNW6o",
        "outputId": "f8d981d0-51b7-4749-9f95-f2a941dbf13d"
      },
      "execution_count": null,
      "outputs": [
        {
          "output_type": "execute_result",
          "data": {
            "text/plain": [
              "(5.0, 3.0, 5.3, 5.0)"
            ]
          },
          "metadata": {},
          "execution_count": 64
        }
      ]
    },
    {
      "cell_type": "markdown",
      "source": [
        "* `float`는 부동소수점(**float**ing point)에서 따왔으며 값을 실수로 만들어줌\n",
        "* 즉, 실수는 `float` 자료형"
      ],
      "metadata": {
        "id": "Fph9ADULNq_n"
      }
    },
    {
      "cell_type": "code",
      "source": [
        "type(3.0)"
      ],
      "metadata": {
        "colab": {
          "base_uri": "https://localhost:8080/"
        },
        "id": "ujH30tMzNoEM",
        "outputId": "264962d8-2c01-40e2-ddea-9fb92439db73"
      },
      "execution_count": null,
      "outputs": [
        {
          "output_type": "execute_result",
          "data": {
            "text/plain": [
              "float"
            ]
          },
          "metadata": {},
          "execution_count": 65
        }
      ]
    },
    {
      "cell_type": "markdown",
      "source": [
        "## 괄호 사용하기"
      ],
      "metadata": {
        "id": "3Exm1k0DN9Hq"
      }
    },
    {
      "cell_type": "code",
      "source": [
        "35 + 1 * 2 #연산자는 */ 우선"
      ],
      "metadata": {
        "colab": {
          "base_uri": "https://localhost:8080/"
        },
        "id": "PCobIGMMNu-8",
        "outputId": "794382d5-3389-4b1b-fd82-b43b8b2142f7"
      },
      "execution_count": null,
      "outputs": [
        {
          "output_type": "execute_result",
          "data": {
            "text/plain": [
              "37"
            ]
          },
          "metadata": {},
          "execution_count": 66
        }
      ]
    },
    {
      "cell_type": "markdown",
      "source": [
        "* 만약 곱셈보다 덧셈을 먼저 계산하고 싶다면 덧셈 부분을 괄호로 묶어주면 됨"
      ],
      "metadata": {
        "id": "VKuGvEnnOGQI"
      }
    },
    {
      "cell_type": "code",
      "source": [
        "(35 + 1) * 2"
      ],
      "metadata": {
        "colab": {
          "base_uri": "https://localhost:8080/"
        },
        "id": "O89qrcdGOEsh",
        "outputId": "28b764c8-13b9-4b69-e8d7-ef5eb513b36e"
      },
      "execution_count": null,
      "outputs": [
        {
          "output_type": "execute_result",
          "data": {
            "text/plain": [
              "72"
            ]
          },
          "metadata": {},
          "execution_count": 67
        }
      ]
    }
  ]
}