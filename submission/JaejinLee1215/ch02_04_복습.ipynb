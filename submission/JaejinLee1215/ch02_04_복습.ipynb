{
  "nbformat": 4,
  "nbformat_minor": 0,
  "metadata": {
    "colab": {
      "provenance": [],
      "authorship_tag": "ABX9TyNHr6zyek4GRzg/RJUSR4rD",
      "include_colab_link": true
    },
    "kernelspec": {
      "name": "python3",
      "display_name": "Python 3"
    },
    "language_info": {
      "name": "python"
    }
  },
  "cells": [
    {
      "cell_type": "markdown",
      "metadata": {
        "id": "view-in-github",
        "colab_type": "text"
      },
      "source": [
        "<a href=\"https://colab.research.google.com/github/JaejinLee1215/Python_LJJ/blob/main/submission/JaejinLee1215/ch02_04_%EB%B3%B5%EC%8A%B5.ipynb\" target=\"_parent\"><img src=\"https://colab.research.google.com/assets/colab-badge.svg\" alt=\"Open In Colab\"/></a>"
      ]
    },
    {
      "cell_type": "markdown",
      "source": [
        "# 문자열 서식"
      ],
      "metadata": {
        "id": "sSdEXfBgfjDT"
      }
    },
    {
      "cell_type": "markdown",
      "source": [
        "## f-string"
      ],
      "metadata": {
        "id": "AHZxZ5j6foxS"
      }
    },
    {
      "cell_type": "code",
      "execution_count": 2,
      "metadata": {
        "colab": {
          "base_uri": "https://localhost:8080/",
          "height": 35
        },
        "id": "xYpD4SspcI2q",
        "outputId": "fc1003e6-33b1-4347-a743-bd0089a560bf"
      },
      "outputs": [
        {
          "output_type": "execute_result",
          "data": {
            "text/plain": [
              "'빅데이터 엔지니어링 과정에서는 파이썬을 배웁니다'"
            ],
            "application/vnd.google.colaboratory.intrinsic+json": {
              "type": "string"
            }
          },
          "metadata": {},
          "execution_count": 2
        }
      ],
      "source": [
        "\"빅데이터 엔지니어링 과정에서는 \" + \"파이썬\" + \"을 배웁니다\""
      ]
    },
    {
      "cell_type": "code",
      "source": [
        "def announce(keyword):\n",
        "    return \"빅데이터 엔지니어링 과정에서는 \" + keyword + \"을 배웁니다\""
      ],
      "metadata": {
        "id": "9goUiJZQf4cc"
      },
      "execution_count": 3,
      "outputs": []
    },
    {
      "cell_type": "code",
      "source": [
        "announce(\"Java\")"
      ],
      "metadata": {
        "colab": {
          "base_uri": "https://localhost:8080/",
          "height": 35
        },
        "id": "996mTn19f_uK",
        "outputId": "5b92d4cb-461e-4508-e976-f3fe5d946146"
      },
      "execution_count": 5,
      "outputs": [
        {
          "output_type": "execute_result",
          "data": {
            "text/plain": [
              "'빅데이터 엔지니어링 과정에서는 Java을 배웁니다'"
            ],
            "application/vnd.google.colaboratory.intrinsic+json": {
              "type": "string"
            }
          },
          "metadata": {},
          "execution_count": 5
        }
      ]
    },
    {
      "cell_type": "code",
      "source": [
        "def announce2(a, b, c, d):\n",
        "    return a + \"에서는 \" + b + \"와 \" + c + \"와 \" + d + \"를  배웁니다.\""
      ],
      "metadata": {
        "id": "tESU8j4HgFAy"
      },
      "execution_count": 6,
      "outputs": []
    },
    {
      "cell_type": "code",
      "source": [
        "announce2(\"빅데이터 엔지니어링\", \"자바\", \"파이썬\", \"리눅스\")"
      ],
      "metadata": {
        "colab": {
          "base_uri": "https://localhost:8080/",
          "height": 35
        },
        "id": "7UkwAapIglZi",
        "outputId": "d42ea33f-c87a-4a20-c425-304808264aef"
      },
      "execution_count": 8,
      "outputs": [
        {
          "output_type": "execute_result",
          "data": {
            "text/plain": [
              "'빅데이터 엔지니어링에서는자바와파이썬와리눅스를  배웁니다.'"
            ],
            "application/vnd.google.colaboratory.intrinsic+json": {
              "type": "string"
            }
          },
          "metadata": {},
          "execution_count": 8
        }
      ]
    },
    {
      "cell_type": "code",
      "source": [
        "def announce3(name, count, subject1, subject2):\n",
        "    return name + \"\" + count + \"기 에서는\" + subject1 + \"과\" + subject2 + \"를  배웁니다.\""
      ],
      "metadata": {
        "id": "mJJUaYfGgUbv"
      },
      "execution_count": 9,
      "outputs": []
    },
    {
      "cell_type": "code",
      "source": [
        "announce3(\"빅데이터\", 23, \"자바\", \"스파크\") # str 과정이 없어서 오류"
      ],
      "metadata": {
        "colab": {
          "base_uri": "https://localhost:8080/",
          "height": 245
        },
        "id": "waGFQqiXgxvH",
        "outputId": "149cef70-67c8-4244-d019-9d96c0e850da"
      },
      "execution_count": 10,
      "outputs": [
        {
          "output_type": "error",
          "ename": "TypeError",
          "evalue": "ignored",
          "traceback": [
            "\u001b[0;31m---------------------------------------------------------------------------\u001b[0m",
            "\u001b[0;31mTypeError\u001b[0m                                 Traceback (most recent call last)",
            "\u001b[0;32m<ipython-input-10-d77d97bc4aa1>\u001b[0m in \u001b[0;36m<module>\u001b[0;34m\u001b[0m\n\u001b[0;32m----> 1\u001b[0;31m \u001b[0mannounce3\u001b[0m\u001b[0;34m(\u001b[0m\u001b[0;34m\"빅데이터\"\u001b[0m\u001b[0;34m,\u001b[0m \u001b[0;36m23\u001b[0m\u001b[0;34m,\u001b[0m \u001b[0;34m\"자바\"\u001b[0m\u001b[0;34m,\u001b[0m \u001b[0;34m\"스파크\"\u001b[0m\u001b[0;34m)\u001b[0m\u001b[0;34m\u001b[0m\u001b[0;34m\u001b[0m\u001b[0m\n\u001b[0m",
            "\u001b[0;32m<ipython-input-9-8c087ffa527e>\u001b[0m in \u001b[0;36mannounce3\u001b[0;34m(name, count, subject1, subject2)\u001b[0m\n\u001b[1;32m      1\u001b[0m \u001b[0;32mdef\u001b[0m \u001b[0mannounce3\u001b[0m\u001b[0;34m(\u001b[0m\u001b[0mname\u001b[0m\u001b[0;34m,\u001b[0m \u001b[0mcount\u001b[0m\u001b[0;34m,\u001b[0m \u001b[0msubject1\u001b[0m\u001b[0;34m,\u001b[0m \u001b[0msubject2\u001b[0m\u001b[0;34m)\u001b[0m\u001b[0;34m:\u001b[0m\u001b[0;34m\u001b[0m\u001b[0;34m\u001b[0m\u001b[0m\n\u001b[0;32m----> 2\u001b[0;31m     \u001b[0;32mreturn\u001b[0m \u001b[0mname\u001b[0m \u001b[0;34m+\u001b[0m \u001b[0;34m\"\"\u001b[0m \u001b[0;34m+\u001b[0m \u001b[0mcount\u001b[0m \u001b[0;34m+\u001b[0m \u001b[0;34m\"기 에서는\"\u001b[0m \u001b[0;34m+\u001b[0m \u001b[0msubject1\u001b[0m \u001b[0;34m+\u001b[0m \u001b[0;34m\"과\"\u001b[0m \u001b[0;34m+\u001b[0m \u001b[0msubject2\u001b[0m \u001b[0;34m+\u001b[0m \u001b[0;34m\"를  배웁니다.\"\u001b[0m\u001b[0;34m\u001b[0m\u001b[0;34m\u001b[0m\u001b[0m\n\u001b[0m",
            "\u001b[0;31mTypeError\u001b[0m: can only concatenate str (not \"int\") to str"
          ]
        }
      ]
    },
    {
      "cell_type": "code",
      "source": [
        "def announce3(name, count, subject1, subject2):\n",
        "    return name + \"\" + str(count) + \"기에서는 \" + subject1 + \"와 \" + subject2 + \"를 배웁니다.\""
      ],
      "metadata": {
        "id": "4hx1f9hog4Nh"
      },
      "execution_count": 22,
      "outputs": []
    },
    {
      "cell_type": "code",
      "source": [
        "announce3(\"빅데이터\", 23, \"자바\", \"스파크\")"
      ],
      "metadata": {
        "colab": {
          "base_uri": "https://localhost:8080/",
          "height": 35
        },
        "id": "OMZYm-j_g8cs",
        "outputId": "50053dc8-58c9-4214-c2a2-b019563dc7c6"
      },
      "execution_count": 21,
      "outputs": [
        {
          "output_type": "execute_result",
          "data": {
            "text/plain": [
              "'빅데이터23기에서는 자바와 스파크를  배웁니다.'"
            ],
            "application/vnd.google.colaboratory.intrinsic+json": {
              "type": "string"
            }
          },
          "metadata": {},
          "execution_count": 21
        }
      ]
    },
    {
      "cell_type": "code",
      "source": [
        "def announce_f(name, count, subject1, subject2):\n",
        "    return f\"{name} {count} 기에서는 {subject1},{subject2}를 배웁니다\"\n",
        "    # f'...', f\"...\", f'''...''', f\"\"\"...\"\"\""
      ],
      "metadata": {
        "id": "UYQYukJPg-KO"
      },
      "execution_count": 13,
      "outputs": []
    },
    {
      "cell_type": "code",
      "source": [
        "announce_f(\"빅데이터\", 23, \"자바\", \"스파크\")"
      ],
      "metadata": {
        "colab": {
          "base_uri": "https://localhost:8080/",
          "height": 35
        },
        "id": "YvJmD65QhSrB",
        "outputId": "f39c1653-18a9-4603-e454-4e96914fa615"
      },
      "execution_count": 14,
      "outputs": [
        {
          "output_type": "execute_result",
          "data": {
            "text/plain": [
              "'빅데이터 23 기에서는 자바,스파크를 배웁니다'"
            ],
            "application/vnd.google.colaboratory.intrinsic+json": {
              "type": "string"
            }
          },
          "metadata": {},
          "execution_count": 14
        }
      ]
    },
    {
      "cell_type": "code",
      "source": [
        "a = 76 # 취업자 수\n",
        "b = 97 # 전체 수강생 수\n",
        "\n",
        "f\"전체 취업자 수 : {a:04d}명 / 전체 수강생 수 : {b:04d}명 / {a / b : .2f}\""
      ],
      "metadata": {
        "colab": {
          "base_uri": "https://localhost:8080/",
          "height": 35
        },
        "id": "T-yhqbC7hYZF",
        "outputId": "54fb5ace-b025-4a32-8938-f25b0e61f537"
      },
      "execution_count": 19,
      "outputs": [
        {
          "output_type": "execute_result",
          "data": {
            "text/plain": [
              "'전체 취업자 수 : 0076명 / 전체 수강생 수 : 0097명 /  0.78'"
            ],
            "application/vnd.google.colaboratory.intrinsic+json": {
              "type": "string"
            }
          },
          "metadata": {},
          "execution_count": 19
        }
      ]
    },
    {
      "cell_type": "markdown",
      "source": [
        "## format 메소드"
      ],
      "metadata": {
        "id": "ut0HjQF4iDSL"
      }
    },
    {
      "cell_type": "code",
      "source": [
        "introduction = \"이름 : {}, 나이 : {}세\".format(\"이재진\", 27) # 위치 인수를 통해서 대응되는 것을 넣을 수 있다.\n",
        "introduction"
      ],
      "metadata": {
        "colab": {
          "base_uri": "https://localhost:8080/",
          "height": 35
        },
        "id": "NLW6WJixhuZx",
        "outputId": "c178b1aa-1b5d-41ca-ff6d-f4641ea62b16"
      },
      "execution_count": 23,
      "outputs": [
        {
          "output_type": "execute_result",
          "data": {
            "text/plain": [
              "'이름 : 이재진, 나이 : 27세'"
            ],
            "application/vnd.google.colaboratory.intrinsic+json": {
              "type": "string"
            }
          },
          "metadata": {},
          "execution_count": 23
        }
      ]
    },
    {
      "cell_type": "code",
      "source": [
        "introduction2 = \"이름 : {name}, 나이 : {age}세\".format(name=\"이재진\", age=27) # 이렇게 작성했을 때는 순서 바뀌어도 상관없다.\n",
        "introduction2"
      ],
      "metadata": {
        "colab": {
          "base_uri": "https://localhost:8080/",
          "height": 35
        },
        "id": "aNz8lpP7ib8w",
        "outputId": "b2128dea-b0a5-4d9a-a012-afd720cac5e7"
      },
      "execution_count": 26,
      "outputs": [
        {
          "output_type": "execute_result",
          "data": {
            "text/plain": [
              "'이름 : 이재진, 나이 : 27세'"
            ],
            "application/vnd.google.colaboratory.intrinsic+json": {
              "type": "string"
            }
          },
          "metadata": {},
          "execution_count": 26
        }
      ]
    },
    {
      "cell_type": "code",
      "source": [
        "def hello():\n",
        "    return \"안녕 나는 이재진이야\""
      ],
      "metadata": {
        "id": "Iioxw57Oi78a"
      },
      "execution_count": 27,
      "outputs": []
    },
    {
      "cell_type": "code",
      "source": [
        "hello()"
      ],
      "metadata": {
        "colab": {
          "base_uri": "https://localhost:8080/",
          "height": 35
        },
        "id": "IcfsergmjA_P",
        "outputId": "8b7347e6-e1b3-4455-baba-c078484597b3"
      },
      "execution_count": 29,
      "outputs": [
        {
          "output_type": "execute_result",
          "data": {
            "text/plain": [
              "'안녕 나는 이재진이야'"
            ],
            "application/vnd.google.colaboratory.intrinsic+json": {
              "type": "string"
            }
          },
          "metadata": {},
          "execution_count": 29
        }
      ]
    },
    {
      "cell_type": "code",
      "source": [
        "def hello2(name):\n",
        "    return f\"안녕 나는 {name}이야\"\n",
        "\n",
        "hello2(\"이재진\")"
      ],
      "metadata": {
        "colab": {
          "base_uri": "https://localhost:8080/",
          "height": 35
        },
        "id": "MkGsfjKcjClJ",
        "outputId": "0e8a0749-b665-4dcc-eac9-6bc8331157a3"
      },
      "execution_count": 30,
      "outputs": [
        {
          "output_type": "execute_result",
          "data": {
            "text/plain": [
              "'안녕 나는 이재진이야'"
            ],
            "application/vnd.google.colaboratory.intrinsic+json": {
              "type": "string"
            }
          },
          "metadata": {},
          "execution_count": 30
        }
      ]
    },
    {
      "cell_type": "code",
      "source": [
        "def hello3(sentence, name):\n",
        "    #return \"안녕 나는 {}이야\".format(name)\n",
        "    return sentence.format(name)\n",
        "\n",
        "hello3(\"여러분 좋은 아침! 내 이름은 {}!\", \"이재진\") # format 메소드의 특징"
      ],
      "metadata": {
        "colab": {
          "base_uri": "https://localhost:8080/",
          "height": 35
        },
        "id": "exKbIfz_jJZf",
        "outputId": "74eef26d-daad-4325-e858-532a406aabef"
      },
      "execution_count": 32,
      "outputs": [
        {
          "output_type": "execute_result",
          "data": {
            "text/plain": [
              "'여러분 좋은 아침! 내 이름은 이재진!'"
            ],
            "application/vnd.google.colaboratory.intrinsic+json": {
              "type": "string"
            }
          },
          "metadata": {},
          "execution_count": 32
        }
      ]
    },
    {
      "cell_type": "code",
      "source": [
        "def hello4(callback, *args): # 가변인수 args\n",
        "    return list(map(callback, args))\n",
        "\n",
        "hello4(\"{}님 출석하셨습니다.\".format, \"가나다\", \"마바사\", \"아자차\")"
      ],
      "metadata": {
        "colab": {
          "base_uri": "https://localhost:8080/"
        },
        "id": "i066BT8qjnij",
        "outputId": "79653310-9fb1-41d1-bae6-0c8784607ef1"
      },
      "execution_count": 34,
      "outputs": [
        {
          "output_type": "execute_result",
          "data": {
            "text/plain": [
              "['가나다님 출석하셨습니다.', '마바사님 출석하셨습니다.', '아자차님 출석하셨습니다.']"
            ]
          },
          "metadata": {},
          "execution_count": 34
        }
      ]
    },
    {
      "cell_type": "code",
      "source": [
        "hello4(lambda x: x+\"님\", \"가나다\", \"마바사\", \"아자차\")"
      ],
      "metadata": {
        "colab": {
          "base_uri": "https://localhost:8080/"
        },
        "id": "dyTXndppkPOQ",
        "outputId": "9b8d8665-9650-4a86-bf43-85088140a0cf"
      },
      "execution_count": 35,
      "outputs": [
        {
          "output_type": "execute_result",
          "data": {
            "text/plain": [
              "['가나다님', '마바사님', '아자차님']"
            ]
          },
          "metadata": {},
          "execution_count": 35
        }
      ]
    },
    {
      "cell_type": "markdown",
      "source": [
        "# 딕셔너리 응용"
      ],
      "metadata": {
        "id": "gpCUMeKSmx0U"
      }
    },
    {
      "cell_type": "code",
      "source": [
        "x = {\"a\" : 10, \"b\" : 20, \"c\" : 30, \"d\" : 40}\n",
        "x"
      ],
      "metadata": {
        "colab": {
          "base_uri": "https://localhost:8080/"
        },
        "id": "gzW-KKCSmzsT",
        "outputId": "933eac58-e089-44f5-a954-bf04e7089c94"
      },
      "execution_count": 3,
      "outputs": [
        {
          "output_type": "execute_result",
          "data": {
            "text/plain": [
              "{'a': 10, 'b': 20, 'c': 30, 'd': 40}"
            ]
          },
          "metadata": {},
          "execution_count": 3
        }
      ]
    },
    {
      "cell_type": "code",
      "source": [
        "x['a'] = 15\n",
        "x"
      ],
      "metadata": {
        "colab": {
          "base_uri": "https://localhost:8080/"
        },
        "id": "1zT6_6psnBPt",
        "outputId": "15a24914-1dff-42e5-d44e-e5ec0c9c676f"
      },
      "execution_count": 4,
      "outputs": [
        {
          "output_type": "execute_result",
          "data": {
            "text/plain": [
              "{'a': 15, 'b': 20, 'c': 30, 'd': 40}"
            ]
          },
          "metadata": {},
          "execution_count": 4
        }
      ]
    },
    {
      "cell_type": "code",
      "source": [
        "x['e'] # 없는 값"
      ],
      "metadata": {
        "colab": {
          "base_uri": "https://localhost:8080/",
          "height": 172
        },
        "id": "5Z8spkzJnE-7",
        "outputId": "a7104668-e31e-43e2-bec1-a2889aa57fc0"
      },
      "execution_count": 5,
      "outputs": [
        {
          "output_type": "error",
          "ename": "KeyError",
          "evalue": "ignored",
          "traceback": [
            "\u001b[0;31m---------------------------------------------------------------------------\u001b[0m",
            "\u001b[0;31mKeyError\u001b[0m                                  Traceback (most recent call last)",
            "\u001b[0;32m<ipython-input-5-e19c325ed175>\u001b[0m in \u001b[0;36m<module>\u001b[0;34m\u001b[0m\n\u001b[0;32m----> 1\u001b[0;31m \u001b[0mx\u001b[0m\u001b[0;34m[\u001b[0m\u001b[0;34m'e'\u001b[0m\u001b[0;34m]\u001b[0m \u001b[0;31m# 없는 값\u001b[0m\u001b[0;34m\u001b[0m\u001b[0;34m\u001b[0m\u001b[0m\n\u001b[0m",
            "\u001b[0;31mKeyError\u001b[0m: 'e'"
          ]
        }
      ]
    },
    {
      "cell_type": "code",
      "source": [
        "x.get('e') # None -> 오류 x"
      ],
      "metadata": {
        "id": "iYoGlALwnHF-"
      },
      "execution_count": 6,
      "outputs": []
    },
    {
      "cell_type": "code",
      "source": [
        "x.get('e', -1) # 기본값을 지정 -> 없을 때 기본값"
      ],
      "metadata": {
        "colab": {
          "base_uri": "https://localhost:8080/"
        },
        "id": "hZdU-r6XnM5G",
        "outputId": "594379f9-58e4-49ec-b343-91919c877bb3"
      },
      "execution_count": 7,
      "outputs": [
        {
          "output_type": "execute_result",
          "data": {
            "text/plain": [
              "-1"
            ]
          },
          "metadata": {},
          "execution_count": 7
        }
      ]
    },
    {
      "cell_type": "code",
      "source": [
        "x.get('a')"
      ],
      "metadata": {
        "colab": {
          "base_uri": "https://localhost:8080/"
        },
        "id": "YPQD2X5enR3Z",
        "outputId": "11097ac1-a28f-4f97-9155-a25568782a41"
      },
      "execution_count": 8,
      "outputs": [
        {
          "output_type": "execute_result",
          "data": {
            "text/plain": [
              "15"
            ]
          },
          "metadata": {},
          "execution_count": 8
        }
      ]
    },
    {
      "cell_type": "code",
      "source": [
        "x.update(a=20)\n",
        "x"
      ],
      "metadata": {
        "colab": {
          "base_uri": "https://localhost:8080/"
        },
        "id": "qGiPlkIjnThf",
        "outputId": "b9c5ae54-671b-4067-de33-e121bb2d4d5f"
      },
      "execution_count": 9,
      "outputs": [
        {
          "output_type": "execute_result",
          "data": {
            "text/plain": [
              "{'a': 20, 'b': 20, 'c': 30, 'd': 40}"
            ]
          },
          "metadata": {},
          "execution_count": 9
        }
      ]
    },
    {
      "cell_type": "code",
      "source": [
        "x.update(e=200) # 변수형태로 표현될 수 없는 값들 (숫자 -> update)\n",
        "x"
      ],
      "metadata": {
        "colab": {
          "base_uri": "https://localhost:8080/"
        },
        "id": "2hhB3UvznZ6s",
        "outputId": "286e4694-4859-4533-a544-97d4b35479d0"
      },
      "execution_count": 10,
      "outputs": [
        {
          "output_type": "execute_result",
          "data": {
            "text/plain": [
              "{'a': 20, 'b': 20, 'c': 30, 'd': 40, 'e': 200}"
            ]
          },
          "metadata": {},
          "execution_count": 10
        }
      ]
    },
    {
      "cell_type": "code",
      "source": [
        "x.update(1=20)\n",
        "x"
      ],
      "metadata": {
        "colab": {
          "base_uri": "https://localhost:8080/",
          "height": 136
        },
        "id": "Nq-7QXWSnxl0",
        "outputId": "a48803cd-0d50-41db-b121-13c058c32933"
      },
      "execution_count": 11,
      "outputs": [
        {
          "output_type": "error",
          "ename": "SyntaxError",
          "evalue": "ignored",
          "traceback": [
            "\u001b[0;36m  File \u001b[0;32m\"<ipython-input-11-873faa759aa9>\"\u001b[0;36m, line \u001b[0;32m1\u001b[0m\n\u001b[0;31m    x.update(1=20)\u001b[0m\n\u001b[0m             ^\u001b[0m\n\u001b[0;31mSyntaxError\u001b[0m\u001b[0;31m:\u001b[0m expression cannot contain assignment, perhaps you meant \"==\"?\n"
          ]
        }
      ]
    },
    {
      "cell_type": "code",
      "source": [
        "# 두 개 이상의 딕셔너리를 변경시킬 수 있다.\n",
        "x.update({\n",
        "    'a': 10,\n",
        "    'b': 40,\n",
        "    1: 200,\n",
        "})\n",
        "x"
      ],
      "metadata": {
        "colab": {
          "base_uri": "https://localhost:8080/"
        },
        "id": "qdBkExwUn12e",
        "outputId": "25f95442-8859-4257-b397-ae451eb9d9c1"
      },
      "execution_count": 12,
      "outputs": [
        {
          "output_type": "execute_result",
          "data": {
            "text/plain": [
              "{'a': 10, 'b': 40, 'c': 30, 'd': 40, 'e': 200, 1: 200}"
            ]
          },
          "metadata": {},
          "execution_count": 12
        }
      ]
    },
    {
      "cell_type": "code",
      "source": [
        "x.pop('a'), x"
      ],
      "metadata": {
        "colab": {
          "base_uri": "https://localhost:8080/"
        },
        "id": "0PsiBh6zn7u0",
        "outputId": "b1c1d9e9-fa63-4c07-c6af-7b53987081ea"
      },
      "execution_count": 13,
      "outputs": [
        {
          "output_type": "execute_result",
          "data": {
            "text/plain": [
              "(10, {'b': 40, 'c': 30, 'd': 40, 'e': 200, 1: 200})"
            ]
          },
          "metadata": {},
          "execution_count": 13
        }
      ]
    },
    {
      "cell_type": "code",
      "source": [
        "x.pop() # 딕셔너리 내부에는 순서가 없다."
      ],
      "metadata": {
        "colab": {
          "base_uri": "https://localhost:8080/",
          "height": 172
        },
        "id": "iiQw753en9qx",
        "outputId": "239ca000-0c53-4ec6-9e62-a08b29073769"
      },
      "execution_count": 14,
      "outputs": [
        {
          "output_type": "error",
          "ename": "TypeError",
          "evalue": "ignored",
          "traceback": [
            "\u001b[0;31m---------------------------------------------------------------------------\u001b[0m",
            "\u001b[0;31mTypeError\u001b[0m                                 Traceback (most recent call last)",
            "\u001b[0;32m<ipython-input-14-a6d3be596d29>\u001b[0m in \u001b[0;36m<module>\u001b[0;34m\u001b[0m\n\u001b[0;32m----> 1\u001b[0;31m \u001b[0mx\u001b[0m\u001b[0;34m.\u001b[0m\u001b[0mpop\u001b[0m\u001b[0;34m(\u001b[0m\u001b[0;34m)\u001b[0m \u001b[0;31m# 딕셔너리 내부에는 순서가 없다.\u001b[0m\u001b[0;34m\u001b[0m\u001b[0;34m\u001b[0m\u001b[0m\n\u001b[0m",
            "\u001b[0;31mTypeError\u001b[0m: pop expected at least 1 argument, got 0"
          ]
        }
      ]
    },
    {
      "cell_type": "code",
      "source": [
        "x.pop('f') # 없으니까 오류"
      ],
      "metadata": {
        "colab": {
          "base_uri": "https://localhost:8080/",
          "height": 172
        },
        "id": "RMzgsvMtoBeI",
        "outputId": "4dd2a7ad-188f-45a0-c7c7-da33ed830c3f"
      },
      "execution_count": 15,
      "outputs": [
        {
          "output_type": "error",
          "ename": "KeyError",
          "evalue": "ignored",
          "traceback": [
            "\u001b[0;31m---------------------------------------------------------------------------\u001b[0m",
            "\u001b[0;31mKeyError\u001b[0m                                  Traceback (most recent call last)",
            "\u001b[0;32m<ipython-input-15-fd6ff6c18a1c>\u001b[0m in \u001b[0;36m<module>\u001b[0;34m\u001b[0m\n\u001b[0;32m----> 1\u001b[0;31m \u001b[0mx\u001b[0m\u001b[0;34m.\u001b[0m\u001b[0mpop\u001b[0m\u001b[0;34m(\u001b[0m\u001b[0;34m'f'\u001b[0m\u001b[0;34m)\u001b[0m \u001b[0;31m# 없으니까 오류\u001b[0m\u001b[0;34m\u001b[0m\u001b[0;34m\u001b[0m\u001b[0m\n\u001b[0m",
            "\u001b[0;31mKeyError\u001b[0m: 'f'"
          ]
        }
      ]
    },
    {
      "cell_type": "code",
      "source": [
        "x.pop('f', 0) # 기본값 지정해줌으로써 가능"
      ],
      "metadata": {
        "colab": {
          "base_uri": "https://localhost:8080/"
        },
        "id": "VUMf9UepoDte",
        "outputId": "91f3afb0-8a03-440a-ee64-c79e797f49e4"
      },
      "execution_count": 16,
      "outputs": [
        {
          "output_type": "execute_result",
          "data": {
            "text/plain": [
              "0"
            ]
          },
          "metadata": {},
          "execution_count": 16
        }
      ]
    },
    {
      "cell_type": "code",
      "source": [
        "print(x)\n",
        "x.clear()\n",
        "print(x)"
      ],
      "metadata": {
        "colab": {
          "base_uri": "https://localhost:8080/"
        },
        "id": "QtDFTZOtoJnP",
        "outputId": "8348316c-c513-4fe8-c1af-fb04b3a5181b"
      },
      "execution_count": 17,
      "outputs": [
        {
          "output_type": "stream",
          "name": "stdout",
          "text": [
            "{'b': 40, 'c': 30, 'd': 40, 'e': 200, 1: 200}\n",
            "{}\n"
          ]
        }
      ]
    },
    {
      "cell_type": "code",
      "source": [
        "x = {\"a\" : 10, \"b\" : 20, \"c\" : 30, \"d\" : 40}\n",
        "x"
      ],
      "metadata": {
        "colab": {
          "base_uri": "https://localhost:8080/"
        },
        "id": "ugYnl89LoNz5",
        "outputId": "9123b81c-9366-4701-d485-bb1d0561d01d"
      },
      "execution_count": 18,
      "outputs": [
        {
          "output_type": "execute_result",
          "data": {
            "text/plain": [
              "{'a': 10, 'b': 20, 'c': 30, 'd': 40}"
            ]
          },
          "metadata": {},
          "execution_count": 18
        }
      ]
    },
    {
      "cell_type": "code",
      "source": [
        "for i in x:\n",
        "    # print(i) # 키값\n",
        "    # print(x[i]) # 값\n",
        "    # for i in x.keys():\n",
        "    print(i) # 키\n",
        "    print(x[i]) # 값"
      ],
      "metadata": {
        "colab": {
          "base_uri": "https://localhost:8080/"
        },
        "id": "KaGdfWZyoTps",
        "outputId": "9c5a0d51-0236-464e-960a-8606a5269a12"
      },
      "execution_count": 52,
      "outputs": [
        {
          "output_type": "stream",
          "name": "stdout",
          "text": [
            "a\n",
            "10\n",
            "b\n",
            "20\n",
            "c\n",
            "30\n",
            "d\n",
            "40\n"
          ]
        }
      ]
    },
    {
      "cell_type": "code",
      "source": [
        "for i in x.items():\n",
        "    # (키, 값) 쌍으로 전달 받게 된다.\n",
        "    print(i)"
      ],
      "metadata": {
        "colab": {
          "base_uri": "https://localhost:8080/"
        },
        "id": "A8jt_Bwqoag5",
        "outputId": "c971abcb-fe61-482a-eef3-67be81093723"
      },
      "execution_count": 53,
      "outputs": [
        {
          "output_type": "stream",
          "name": "stdout",
          "text": [
            "('a', 10)\n",
            "('b', 20)\n",
            "('c', 30)\n",
            "('d', 40)\n"
          ]
        }
      ]
    },
    {
      "cell_type": "code",
      "source": [
        "for k, v in x.items():\n",
        "    print(f\"key : {k}\")\n",
        "    print(f\"value : {v}\")"
      ],
      "metadata": {
        "colab": {
          "base_uri": "https://localhost:8080/"
        },
        "id": "oeeANYogohOy",
        "outputId": "3098d447-fa62-4082-fb25-3b52de94b420"
      },
      "execution_count": 54,
      "outputs": [
        {
          "output_type": "stream",
          "name": "stdout",
          "text": [
            "key : a\n",
            "value : 10\n",
            "key : b\n",
            "value : 20\n",
            "key : c\n",
            "value : 30\n",
            "key : d\n",
            "value : 40\n"
          ]
        }
      ]
    },
    {
      "cell_type": "code",
      "source": [
        "for v in x.values(): # values를 사용해서 value 값만 나온다.\n",
        "    print(f\"value : {v}\")"
      ],
      "metadata": {
        "colab": {
          "base_uri": "https://localhost:8080/"
        },
        "id": "ErxyKn3govqU",
        "outputId": "d52fbce6-a486-46ad-911e-015058dcaa82"
      },
      "execution_count": 55,
      "outputs": [
        {
          "output_type": "stream",
          "name": "stdout",
          "text": [
            "value : 10\n",
            "value : 20\n",
            "value : 30\n",
            "value : 40\n"
          ]
        }
      ]
    },
    {
      "cell_type": "code",
      "source": [
        "lesson = {\n",
        "    \"과목\" : {\n",
        "        \"자바\": {\n",
        "            \"버전\" : 1.8\n",
        "        },\n",
        "        \"파이썬\": {\n",
        "            \"버전\" : 3.9\n",
        "        },\n",
        "        \"자바스크립트\": {\n",
        "            \"버전\" : \"es6\"\n",
        "        }\n",
        "    }\n",
        "}\n",
        "\n",
        "lesson"
      ],
      "metadata": {
        "colab": {
          "base_uri": "https://localhost:8080/"
        },
        "id": "PEh_90l4o7rj",
        "outputId": "e690c2ce-f08d-41fe-fc6d-9b31f9450c62"
      },
      "execution_count": 56,
      "outputs": [
        {
          "output_type": "execute_result",
          "data": {
            "text/plain": [
              "{'과목': {'자바': {'버전': 1.8}, '파이썬': {'버전': 3.9}, '자바스크립트': {'버전': 'es6'}}}"
            ]
          },
          "metadata": {},
          "execution_count": 56
        }
      ]
    },
    {
      "cell_type": "code",
      "source": [
        "lesson['과목']['파이썬']['버전']"
      ],
      "metadata": {
        "colab": {
          "base_uri": "https://localhost:8080/"
        },
        "id": "oc1JNNiLpjjZ",
        "outputId": "388a0ec7-e611-4b6a-cfd7-c5e0b9728b51"
      },
      "execution_count": 57,
      "outputs": [
        {
          "output_type": "execute_result",
          "data": {
            "text/plain": [
              "3.9"
            ]
          },
          "metadata": {},
          "execution_count": 57
        }
      ]
    },
    {
      "cell_type": "code",
      "source": [
        "lesson['과목']['파이썬']['버전'] = '3.10'"
      ],
      "metadata": {
        "id": "Wscb8QtXplc7"
      },
      "execution_count": 58,
      "outputs": []
    },
    {
      "cell_type": "code",
      "source": [
        "lesson['과목']['파이썬']['버전']"
      ],
      "metadata": {
        "colab": {
          "base_uri": "https://localhost:8080/",
          "height": 35
        },
        "id": "FTwlISCvpnOr",
        "outputId": "2c1aa27b-63a1-4074-a926-eb110cfdca50"
      },
      "execution_count": 59,
      "outputs": [
        {
          "output_type": "execute_result",
          "data": {
            "text/plain": [
              "'3.10'"
            ],
            "application/vnd.google.colaboratory.intrinsic+json": {
              "type": "string"
            }
          },
          "metadata": {},
          "execution_count": 59
        }
      ]
    }
  ]
}