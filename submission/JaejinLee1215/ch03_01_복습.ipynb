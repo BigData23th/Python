{
  "nbformat": 4,
  "nbformat_minor": 0,
  "metadata": {
    "colab": {
      "provenance": [],
      "authorship_tag": "ABX9TyPnZJQyAh81DEhm9bKXQbnJ",
      "include_colab_link": true
    },
    "kernelspec": {
      "name": "python3",
      "display_name": "Python 3"
    },
    "language_info": {
      "name": "python"
    }
  },
  "cells": [
    {
      "cell_type": "markdown",
      "metadata": {
        "id": "view-in-github",
        "colab_type": "text"
      },
      "source": [
        "<a href=\"https://colab.research.google.com/github/JaejinLee1215/Python_LJJ/blob/main/submission/JaejinLee1215/ch03_01_%EB%B3%B5%EC%8A%B5.ipynb\" target=\"_parent\"><img src=\"https://colab.research.google.com/assets/colab-badge.svg\" alt=\"Open In Colab\"/></a>"
      ]
    },
    {
      "cell_type": "markdown",
      "source": [
        "# 함수"
      ],
      "metadata": {
        "id": "WWf4eYF8p-jd"
      }
    },
    {
      "cell_type": "code",
      "execution_count": 24,
      "metadata": {
        "id": "Wm-WlVtapq_R"
      },
      "outputs": [],
      "source": [
        "import random\n",
        "\n",
        "subjects = [\n",
        "    \"여러분 취업, 준비 해야합니다.\",\n",
        "    \"자격증 스터디 만들어요\",\n",
        "    \"git hub full request\",\n",
        "    \"화이팅\"\n",
        "    \"오늘 주식장은 어떤가요\"\n",
        "]\n",
        "learing = {\n",
        "    \"문자열\": \"split, replace...\",\n",
        "    \"리스트\": \"append\", \"extend...\" \n",
        "    \"딕셔너리\": \"get, update...\"\n",
        "}\n",
        "def study(): # 상위 모듈\n",
        "    energy = random.randint(1,10) # randint는 끝을 포함한다. range랑 헷갈리지 않기\n",
        "    print(hello(energy)) # 하위 모듈\n",
        "    energy -= 1\n",
        "    \n",
        "    # random.choices(뽑히는 대상 - 모집단, k = 뽑는 수)\n",
        "    # choice = random.choices(subjects, k=2)\n",
        "    chat(energy, *subjects, k = 2) # * 리스트 언패킹\n",
        "    \n",
        "    lecture(**learing)\n",
        "\n",
        "    print(*bye(), sep=' ')\n",
        "\n",
        "# def hello():\n",
        "#     return \"좋은 아침 입니다.\"\n",
        "\n",
        "def hello(energy=5):\n",
        "    # energy 0 ~ 10\n",
        "    if energy == 10:\n",
        "        return \"여러분! 오늘 제가 커피 쏠까요?\" # return -> 더 이상 뒤로 진행x\n",
        "    if energy >= 5:\n",
        "        return \"^_^ 친절 mode\"\n",
        "    return \"...(무표정)\"\n",
        "\n",
        "# def chat(repeat, *args): # 가변인수\n",
        "#     pass\n",
        "\n",
        "# def lecture():\n",
        "#     pass\n",
        "\n",
        "# def chat():\n",
        "#     pass\n",
        "\n",
        "def bye():\n",
        "    return \"10분 쉬겠습니다.\", \"PR 하시죠\""
      ]
    },
    {
      "cell_type": "code",
      "source": [
        "def hello(energy=5):\n",
        "    # energy 0 ~ 10\n",
        "    if energy == 10:\n",
        "        return \"여러분! 오늘 제가 커피 쏠까요?\" # return -> 더 이상 뒤로 진행x\n",
        "    if energy > 5:\n",
        "        return \"^_^ 친절 mode\"\n",
        "    return \"...(무표정)\""
      ],
      "metadata": {
        "id": "db-EgcCFqe-r"
      },
      "execution_count": 26,
      "outputs": []
    },
    {
      "cell_type": "code",
      "source": [
        "study()"
      ],
      "metadata": {
        "colab": {
          "base_uri": "https://localhost:8080/"
        },
        "id": "yH_s13vbrBSL",
        "outputId": "5992e6ae-5647-4721-da03-96d608bb2538"
      },
      "execution_count": 10,
      "outputs": [
        {
          "output_type": "stream",
          "name": "stdout",
          "text": [
            "^_^ 친절 mode\n"
          ]
        }
      ]
    },
    {
      "cell_type": "code",
      "source": [
        "def chat(repeat, *args, k = 2): # 가변인수\n",
        "    for i in range(repeat):\n",
        "        print(f\"제가 {i+1}번째 이야기 하는 것 같습니다.\")\n",
        "        # for j in args:\n",
        "        #     print(j)\n",
        "        choices = random.choices(args, k = k)\n",
        "        for j in choices:\n",
        "            print(f\"** {j}\")"
      ],
      "metadata": {
        "id": "zOEOpZlsrnfz"
      },
      "execution_count": 27,
      "outputs": []
    },
    {
      "cell_type": "code",
      "source": [
        "def lecture(**kwargs):\n",
        "    # for k , v in kwargs.items():\n",
        "    #     print(\"스터디 진행 합니다.\")\n",
        "    #     print(f\"{k}에서 {v}를 배워봅시다.\")\n",
        "    for i, (k , v) in enumerate(kwargs.items()):\n",
        "        print(f\"{i+1}번째 스터디 진행 합니다.\")\n",
        "        print(f\"{k}에서 {v}를 배워봅시다.\")"
      ],
      "metadata": {
        "id": "ZeR0pAqFtkrs"
      },
      "execution_count": 29,
      "outputs": []
    },
    {
      "cell_type": "code",
      "source": [
        "study()"
      ],
      "metadata": {
        "colab": {
          "base_uri": "https://localhost:8080/"
        },
        "id": "x40Iy_Jot-5c",
        "outputId": "b833f6f1-48a8-465a-f06d-0f9cf57fd4e0"
      },
      "execution_count": 30,
      "outputs": [
        {
          "output_type": "stream",
          "name": "stdout",
          "text": [
            "^_^ 친절 mode\n",
            "제가 1번째 이야기 하는 것 같습니다.\n",
            "** git hub full request\n",
            "** 자격증 스터디 만들어요\n",
            "제가 2번째 이야기 하는 것 같습니다.\n",
            "** 화이팅오늘 주식장은 어떤가요\n",
            "** git hub full request\n",
            "제가 3번째 이야기 하는 것 같습니다.\n",
            "** git hub full request\n",
            "** 화이팅오늘 주식장은 어떤가요\n",
            "제가 4번째 이야기 하는 것 같습니다.\n",
            "** git hub full request\n",
            "** git hub full request\n",
            "제가 5번째 이야기 하는 것 같습니다.\n",
            "** 자격증 스터디 만들어요\n",
            "** 화이팅오늘 주식장은 어떤가요\n",
            "제가 6번째 이야기 하는 것 같습니다.\n",
            "** 화이팅오늘 주식장은 어떤가요\n",
            "** 화이팅오늘 주식장은 어떤가요\n",
            "제가 7번째 이야기 하는 것 같습니다.\n",
            "** 화이팅오늘 주식장은 어떤가요\n",
            "** 자격증 스터디 만들어요\n",
            "제가 8번째 이야기 하는 것 같습니다.\n",
            "** git hub full request\n",
            "** git hub full request\n",
            "1번째 스터디 진행 합니다.\n",
            "문자열에서 split, replace...를 배워봅시다.\n",
            "2번째 스터디 진행 합니다.\n",
            "리스트에서 append를 배워봅시다.\n",
            "3번째 스터디 진행 합니다.\n",
            "extend...딕셔너리에서 get, update...를 배워봅시다.\n",
            "10분 쉬겠습니다. PR 하시죠\n"
          ]
        }
      ]
    }
  ]
}