{
  "nbformat": 4,
  "nbformat_minor": 0,
  "metadata": {
    "colab": {
      "provenance": [],
      "include_colab_link": true
    },
    "kernelspec": {
      "name": "python3",
      "display_name": "Python 3"
    },
    "language_info": {
      "name": "python"
    }
  },
  "cells": [
    {
      "cell_type": "markdown",
      "metadata": {
        "id": "view-in-github",
        "colab_type": "text"
      },
      "source": [
        "<a href=\"https://colab.research.google.com/github/JaejinLee1215/Python_LJJ/blob/main/submission/JaejinLee1215/ch03_01_%ED%95%A8%EC%88%98_%EC%9D%B4%EC%9E%AC%EC%A7%84.ipynb\" target=\"_parent\"><img src=\"https://colab.research.google.com/assets/colab-badge.svg\" alt=\"Open In Colab\"/></a>"
      ]
    },
    {
      "cell_type": "markdown",
      "source": [
        "# 함수"
      ],
      "metadata": {
        "id": "BVxDJuR2Yly6"
      }
    },
    {
      "cell_type": "markdown",
      "source": [
        "프로그래밍을 하다 보면 들어가는 값만 바뀔 뿐 같은 코드가 계속 반복되는 경우가 많습니다. 특히 같은 코드를 반복해서 작성하면 코드도 길어지고 중간에 실수할 가능성이 높아집니다.\n",
        "\n",
        "파이썬은 함수(function)라는 기능을 제공하는데 특정 용도의 코드를 한 곳에 모아 놓은 것을 뜻합니다. 그래서 함수는 처음 한 번만 작성해 놓으면 나중에 필요할 때 계속 불러 쓸 수 있습니다. 예를 들어 지금까지 사용했던 print, input 등도 모두 파이썬에서 미리 만들어 둔 함수입니다.\n",
        "\n",
        "즉, 함수를 사용하면 이런 점이 좋습니다.\n",
        "\n",
        "* 코드의 용도를 구분할 수 있다.\n",
        "* 코드를 재사용할 수 있다.\n",
        "* 실수를 줄일 수 있다."
      ],
      "metadata": {
        "id": "bFBy5TGDYpPM"
      }
    },
    {
      "cell_type": "markdown",
      "source": [
        "## 함수 만들기"
      ],
      "metadata": {
        "id": "ppOj_leXYy_7"
      }
    },
    {
      "cell_type": "markdown",
      "source": [
        "함수는 def에 함수 이름을 지정하고 ( )(괄호)와 :(콜론)을 붙인 뒤 다음 줄에 원하는 코드를 작성합니다(함수의 이름을 짓는 방법은 변수와 같습니다). 이때 코드는 반드시 들여쓰기를 해야 합니다(들여쓰기 규칙은 if, for, while과 같습니다).\n",
        "\n",
        "```\n",
        "def 함수이름():\n",
        "     코드\n",
        "```\n",
        "\n",
        "여기서 def는 정의하다(**def**ine)에서 따온 키워드입니다."
      ],
      "metadata": {
        "id": "XoiZ-_n5Y2b-"
      }
    },
    {
      "cell_type": "code",
      "execution_count": null,
      "metadata": {
        "id": "xDDl3ikNJviB"
      },
      "outputs": [],
      "source": [
        "def hello():\n",
        "    print(\"안녕하세요\")"
      ]
    },
    {
      "cell_type": "markdown",
      "source": [
        "### 함수 호출하기"
      ],
      "metadata": {
        "id": "KsMUc54MZBFf"
      }
    },
    {
      "cell_type": "markdown",
      "source": [
        "함수를 사용하는 방법을 \"함수를 호출(call)한다\"라고 부릅니다."
      ],
      "metadata": {
        "id": "qRonxM_jZG1M"
      }
    },
    {
      "cell_type": "code",
      "source": [
        "# 함수()\n",
        "hello()"
      ],
      "metadata": {
        "colab": {
          "base_uri": "https://localhost:8080/"
        },
        "id": "xHZzQO25Y_Rz",
        "outputId": "2f784d68-09d9-441e-967d-028a764f9b5a"
      },
      "execution_count": null,
      "outputs": [
        {
          "output_type": "stream",
          "name": "stdout",
          "text": [
            "안녕하세요\n"
          ]
        }
      ]
    },
    {
      "cell_type": "markdown",
      "source": [
        "### 함수 작성과 함수 호출 순서"
      ],
      "metadata": {
        "id": "yM1uDaQQZMM8"
      }
    },
    {
      "cell_type": "markdown",
      "source": [
        "함수를 만들고 호출할 때 주의할 점이 있는데, 바로 함수를 만들기 전에 함수를 먼저 호출하면 안 된다는 점입니다. 즉, 다음과 같이 함수를 먼저 호출한 뒤 함수를 만들 수는 없습니다."
      ],
      "metadata": {
        "id": "kLonkjiBZOBW"
      }
    },
    {
      "cell_type": "code",
      "source": [
        "b # 선 호출\n",
        "\n",
        "b = \"a\" # 후 선언시 오류"
      ],
      "metadata": {
        "colab": {
          "base_uri": "https://localhost:8080/",
          "height": 211
        },
        "id": "40yTfYPhShRy",
        "outputId": "9e474c58-a0c2-4606-94c2-ea5c7e45ef2e"
      },
      "execution_count": 1,
      "outputs": [
        {
          "output_type": "error",
          "ename": "NameError",
          "evalue": "ignored",
          "traceback": [
            "\u001b[0;31m---------------------------------------------------------------------------\u001b[0m",
            "\u001b[0;31mNameError\u001b[0m                                 Traceback (most recent call last)",
            "\u001b[0;32m<ipython-input-1-7205136f12e1>\u001b[0m in \u001b[0;36m<module>\u001b[0;34m\u001b[0m\n\u001b[0;32m----> 1\u001b[0;31m \u001b[0mb\u001b[0m\u001b[0;34m\u001b[0m\u001b[0;34m\u001b[0m\u001b[0m\n\u001b[0m\u001b[1;32m      2\u001b[0m \u001b[0;34m\u001b[0m\u001b[0m\n\u001b[1;32m      3\u001b[0m \u001b[0mb\u001b[0m \u001b[0;34m=\u001b[0m \u001b[0;34m\"a\"\u001b[0m\u001b[0;34m\u001b[0m\u001b[0;34m\u001b[0m\u001b[0m\n",
            "\u001b[0;31mNameError\u001b[0m: name 'b' is not defined"
          ]
        }
      ]
    },
    {
      "cell_type": "code",
      "source": [
        "hello2()\n",
        "\n",
        "def hello2():\n",
        "    print(\"hello2\")"
      ],
      "metadata": {
        "colab": {
          "base_uri": "https://localhost:8080/",
          "height": 227
        },
        "id": "E0tkgMuTZFKl",
        "outputId": "9ae1c4b6-e2f7-436b-9874-e0688904b2ef"
      },
      "execution_count": null,
      "outputs": [
        {
          "output_type": "error",
          "ename": "NameError",
          "evalue": "ignored",
          "traceback": [
            "\u001b[0;31m---------------------------------------------------------------------------\u001b[0m",
            "\u001b[0;31mNameError\u001b[0m                                 Traceback (most recent call last)",
            "\u001b[0;32m<ipython-input-13-f5aa783a503b>\u001b[0m in \u001b[0;36m<module>\u001b[0;34m\u001b[0m\n\u001b[0;32m----> 1\u001b[0;31m \u001b[0mhello2\u001b[0m\u001b[0;34m(\u001b[0m\u001b[0;34m)\u001b[0m\u001b[0;34m\u001b[0m\u001b[0;34m\u001b[0m\u001b[0m\n\u001b[0m\u001b[1;32m      2\u001b[0m \u001b[0;34m\u001b[0m\u001b[0m\n\u001b[1;32m      3\u001b[0m \u001b[0;32mdef\u001b[0m \u001b[0mhello2\u001b[0m\u001b[0;34m(\u001b[0m\u001b[0;34m)\u001b[0m\u001b[0;34m:\u001b[0m\u001b[0;34m\u001b[0m\u001b[0;34m\u001b[0m\u001b[0m\n\u001b[1;32m      4\u001b[0m     \u001b[0mprint\u001b[0m\u001b[0;34m(\u001b[0m\u001b[0;34m\"hello2\"\u001b[0m\u001b[0;34m)\u001b[0m\u001b[0;34m\u001b[0m\u001b[0;34m\u001b[0m\u001b[0m\n",
            "\u001b[0;31mNameError\u001b[0m: name 'hello2' is not defined"
          ]
        }
      ]
    },
    {
      "cell_type": "markdown",
      "source": [
        "함수를 먼저 호출하면 함수가 정의(define)되지 않았다는 에러가 발생합니다. 왜냐하면 파이썬 코드는 위에서 아래로 순차적으로 실행되기 때문입니다. 반드시 함수를 먼저 만든 뒤에 함수를 호출해야 합니다."
      ],
      "metadata": {
        "id": "a0WCaFtJZT5p"
      }
    },
    {
      "cell_type": "markdown",
      "source": [
        "### 빈 함수 만들기"
      ],
      "metadata": {
        "id": "fBYqHujdZXqy"
      }
    },
    {
      "cell_type": "code",
      "source": [
        "# 내용이 없는 빈 함수를 만들 때는 코드 부분에 pass를 넣어줍니다.\n",
        "def fun():\n",
        "    pass"
      ],
      "metadata": {
        "id": "Ing4tVWwZQWd"
      },
      "execution_count": null,
      "outputs": []
    },
    {
      "cell_type": "code",
      "source": [
        "def 설거지(): # 상위 모듈\n",
        "    그릇모으기() # 하위 모듈\n",
        "    세제뿌리기()\n",
        "    헹구기()\n",
        "    말리기()\n",
        "\n",
        "def 그릇모으기():\n",
        "    pass\n",
        "\n",
        "def 세제뿌리기():\n",
        "    print(\"세제 뿌링클\")\n",
        "\n",
        "def 헹구기():\n",
        "    pass\n",
        "\n",
        "def 말리기():\n",
        "    pass"
      ],
      "metadata": {
        "id": "g9qE64TqSvE3"
      },
      "execution_count": 3,
      "outputs": []
    },
    {
      "cell_type": "code",
      "source": [
        "설거지()"
      ],
      "metadata": {
        "colab": {
          "base_uri": "https://localhost:8080/"
        },
        "id": "xaJ7N_ZtSx5i",
        "outputId": "744a6e75-4c66-4e13-9e26-6d61b400aa8f"
      },
      "execution_count": 5,
      "outputs": [
        {
          "output_type": "stream",
          "name": "stdout",
          "text": [
            "세제 뿌링클\n"
          ]
        }
      ]
    },
    {
      "cell_type": "markdown",
      "source": [
        "나중에 다른 사람이 만든 파이썬 소스 코드를 보다 보면 pass를 자주 접할 수 있습니다.\n",
        "\n",
        "pass는 아무 일을 하지 않아도 함수의 틀을 유지할 필요가 있을 때 사용합니다."
      ],
      "metadata": {
        "id": "FAqscQPfgj8r"
      }
    },
    {
      "cell_type": "markdown",
      "source": [
        "## 매개변수 (parameter)"
      ],
      "metadata": {
        "id": "kilXJUWkZjZC"
      }
    },
    {
      "cell_type": "markdown",
      "source": [
        "함수에서 값을 받으려면 ( )(괄호) 안에 변수 이름을 지정해주면 됩니다. 특히 이 변수를 매개변수(parameter)라고 부릅니다.\n",
        "\n",
        "```\n",
        "def 함수이름(매개변수1, 매개변수2):\n",
        "    코드\n",
        "```"
      ],
      "metadata": {
        "id": "E78p95CvdR9w"
      }
    },
    {
      "cell_type": "code",
      "source": [
        "def plus(a, b):\n",
        "    print(a + b)"
      ],
      "metadata": {
        "id": "7BbamUj5dUEa"
      },
      "execution_count": 7,
      "outputs": []
    },
    {
      "cell_type": "code",
      "source": [
        "plus(14, 16)"
      ],
      "metadata": {
        "colab": {
          "base_uri": "https://localhost:8080/"
        },
        "id": "5IvNJiOadXFQ",
        "outputId": "9d7f387b-814d-49cd-f2a0-494f2027112f"
      },
      "execution_count": 8,
      "outputs": [
        {
          "output_type": "stream",
          "name": "stdout",
          "text": [
            "30\n"
          ]
        }
      ]
    },
    {
      "cell_type": "code",
      "source": [
        "a, b # 함수 밖에는 a, b가 없다."
      ],
      "metadata": {
        "colab": {
          "base_uri": "https://localhost:8080/",
          "height": 174
        },
        "id": "AyaLFZGQS7MT",
        "outputId": "74368c74-d3a6-4b45-de64-513aa979f7e6"
      },
      "execution_count": 9,
      "outputs": [
        {
          "output_type": "error",
          "ename": "NameError",
          "evalue": "ignored",
          "traceback": [
            "\u001b[0;31m---------------------------------------------------------------------------\u001b[0m",
            "\u001b[0;31mNameError\u001b[0m                                 Traceback (most recent call last)",
            "\u001b[0;32m<ipython-input-9-a600cc99a29e>\u001b[0m in \u001b[0;36m<module>\u001b[0;34m\u001b[0m\n\u001b[0;32m----> 1\u001b[0;31m \u001b[0ma\u001b[0m\u001b[0;34m,\u001b[0m \u001b[0mb\u001b[0m\u001b[0;34m\u001b[0m\u001b[0;34m\u001b[0m\u001b[0m\n\u001b[0m",
            "\u001b[0;31mNameError\u001b[0m: name 'a' is not defined"
          ]
        }
      ]
    },
    {
      "cell_type": "code",
      "source": [
        "a = 100\n",
        "plus(50, 20) # 함수 안에서 정의된 변수는 함수 안에서만 작동한다.\n",
        "a + 50"
      ],
      "metadata": {
        "colab": {
          "base_uri": "https://localhost:8080/"
        },
        "id": "fwmTLplRTsmz",
        "outputId": "270553da-ca17-4b4d-9bb3-edda984ca70f"
      },
      "execution_count": 10,
      "outputs": [
        {
          "output_type": "stream",
          "name": "stdout",
          "text": [
            "70\n"
          ]
        },
        {
          "output_type": "execute_result",
          "data": {
            "text/plain": [
              "150"
            ]
          },
          "metadata": {},
          "execution_count": 10
        }
      ]
    },
    {
      "cell_type": "markdown",
      "source": [
        "함수를 호출할 때 넣는 값을 인수(argument)라고 부릅니다."
      ],
      "metadata": {
        "id": "79ZgXKffdaIE"
      }
    },
    {
      "cell_type": "markdown",
      "source": [
        "## 함수의 결과를 반환하기"
      ],
      "metadata": {
        "id": "QXyRsdQRdfcx"
      }
    },
    {
      "cell_type": "markdown",
      "source": [
        "함수 안에서 return을 사용하면 값을 함수 바깥으로 반환합니다(return에 값을 지정하지 않으면 None을 반환).\n",
        "\n",
        "```\n",
        "def 함수이름(매개변수):\n",
        "    return 반환값\n",
        "```"
      ],
      "metadata": {
        "id": "002t4GWpdlKr"
      }
    },
    {
      "cell_type": "code",
      "source": [
        "def minus(a, b):\n",
        "    c = a - b\n",
        "    return c"
      ],
      "metadata": {
        "id": "687JFw4tdZVz"
      },
      "execution_count": 12,
      "outputs": []
    },
    {
      "cell_type": "code",
      "source": [
        "c = 40\n",
        "minus(10, 20)\n",
        "c"
      ],
      "metadata": {
        "colab": {
          "base_uri": "https://localhost:8080/"
        },
        "id": "AHYJBXNHdwrC",
        "outputId": "ec221897-9a8c-441d-824d-807e39249f1a"
      },
      "execution_count": 13,
      "outputs": [
        {
          "output_type": "execute_result",
          "data": {
            "text/plain": [
              "40"
            ]
          },
          "metadata": {},
          "execution_count": 13
        }
      ]
    },
    {
      "cell_type": "code",
      "source": [
        "c = minus(10, 20)\n",
        "c"
      ],
      "metadata": {
        "colab": {
          "base_uri": "https://localhost:8080/"
        },
        "id": "9QP5FQkNT0XD",
        "outputId": "7b21dd08-4a75-4447-b16d-488345561e9d"
      },
      "execution_count": 14,
      "outputs": [
        {
          "output_type": "execute_result",
          "data": {
            "text/plain": [
              "-10"
            ]
          },
          "metadata": {},
          "execution_count": 14
        }
      ]
    },
    {
      "cell_type": "code",
      "source": [
        "def lotto():\n",
        "    print(f\"실행 : {45}\")\n",
        "    return 30\n",
        "    # return\n",
        "    # return\n",
        "\n",
        "a = lotto()\n",
        "print(f\"반환 : {a}\")"
      ],
      "metadata": {
        "colab": {
          "base_uri": "https://localhost:8080/"
        },
        "id": "MVR8qHZwT7Sk",
        "outputId": "02178b62-406c-4018-922d-8016b6b8bed9"
      },
      "execution_count": 15,
      "outputs": [
        {
          "output_type": "stream",
          "name": "stdout",
          "text": [
            "실행 : 45\n",
            "반환 : 30\n"
          ]
        }
      ]
    },
    {
      "cell_type": "markdown",
      "source": [
        "return으로 반환하는 값은 반환값이라고 하며 함수를 호출해준 바깥에 결과를 알려주기 위해 사용합니다."
      ],
      "metadata": {
        "id": "Ncoqgxukd3Ox"
      }
    },
    {
      "cell_type": "code",
      "source": [
        "# 반환값은 변수에 저장하지 않고 바로 다른 함수에 넣을 수도 있습니다.\n",
        "print(lotto())"
      ],
      "metadata": {
        "id": "s0Fm428vd0XU",
        "colab": {
          "base_uri": "https://localhost:8080/"
        },
        "outputId": "80ec1dcb-1b71-4761-821e-f55322e02ce3"
      },
      "execution_count": 16,
      "outputs": [
        {
          "output_type": "stream",
          "name": "stdout",
          "text": [
            "실행 : 45\n",
            "30\n"
          ]
        }
      ]
    },
    {
      "cell_type": "code",
      "source": [
        "def concat(a, b):\n",
        "  return a + b\n",
        "\n",
        "input(concat(\"안녕\",\"세상\")) # 함수를 값 자체로 사용 가능"
      ],
      "metadata": {
        "colab": {
          "base_uri": "https://localhost:8080/",
          "height": 54
        },
        "id": "3cTV4g4zUCM5",
        "outputId": "5264151a-c110-4e68-911b-a5c3fd2fc756"
      },
      "execution_count": 18,
      "outputs": [
        {
          "name": "stdout",
          "output_type": "stream",
          "text": [
            "안녕세상화이팅\n"
          ]
        },
        {
          "output_type": "execute_result",
          "data": {
            "text/plain": [
              "'화이팅'"
            ],
            "application/vnd.google.colaboratory.intrinsic+json": {
              "type": "string"
            }
          },
          "metadata": {},
          "execution_count": 18
        }
      ]
    },
    {
      "cell_type": "markdown",
      "source": [
        "### return으로 함수 중간에서 빠져나오기"
      ],
      "metadata": {
        "id": "MLqxIu1cd95p"
      }
    },
    {
      "cell_type": "code",
      "source": [
        "def concat(a, b) : # 문자열을 연결하기 위한 설계\n",
        "    # 숫자가 들어오면...? 숫자는 안됩니다.\n",
        "    if type(a) != str: #type(x) ==  {타입 종류} : 해당 타입인지 검사\n",
        "        print(\"첫번째 인자가 문자열이 아닙니다.\")\n",
        "        return # break 역할\n",
        "    if type(b) != str:\n",
        "        print(\"두번째 인자가 문자열이 아닙니다\")\n",
        "        return\n",
        "    return a + b"
      ],
      "metadata": {
        "id": "ir175FIphC6m"
      },
      "execution_count": 20,
      "outputs": []
    },
    {
      "cell_type": "code",
      "source": [
        "r = concat(1, 1)\n",
        "print(f\"Return : {r}\")"
      ],
      "metadata": {
        "colab": {
          "base_uri": "https://localhost:8080/"
        },
        "id": "V1xf2sZhUVn8",
        "outputId": "4d1ee921-c663-45cf-f340-2d6bfcdc6396"
      },
      "execution_count": 21,
      "outputs": [
        {
          "output_type": "stream",
          "name": "stdout",
          "text": [
            "첫번째 인자가 문자열이 아닙니다.\n",
            "Return : None\n"
          ]
        }
      ]
    },
    {
      "cell_type": "code",
      "source": [
        "r = concat(\"1\", 1)\n",
        "print(f\"Return : {r}\")"
      ],
      "metadata": {
        "colab": {
          "base_uri": "https://localhost:8080/"
        },
        "id": "8OcDZ0ogUYvW",
        "outputId": "df518f3a-bb69-4ee4-b260-477add14d955"
      },
      "execution_count": 22,
      "outputs": [
        {
          "output_type": "stream",
          "name": "stdout",
          "text": [
            "두번째 인자가 문자열이 아닙니다\n",
            "Return : None\n"
          ]
        }
      ]
    },
    {
      "cell_type": "code",
      "source": [
        "r = concat(\"1\", \"1\")\n",
        "print(f\"Return : {r}\")"
      ],
      "metadata": {
        "colab": {
          "base_uri": "https://localhost:8080/"
        },
        "id": "J1W5NPObUbK1",
        "outputId": "7273e898-817c-4511-dae3-b4a039e296ff"
      },
      "execution_count": 23,
      "outputs": [
        {
          "output_type": "stream",
          "name": "stdout",
          "text": [
            "Return : 11\n"
          ]
        }
      ]
    },
    {
      "cell_type": "code",
      "source": [
        "def guess(number):\n",
        "    answer = 100\n",
        "    if number == answer: # 일치하면\n",
        "        return \"정답\"\n",
        "    if number > answer:\n",
        "        return \"Down\"\n",
        "    if number < answer:\n",
        "        return \"Up\""
      ],
      "metadata": {
        "id": "vthnqFY5UfDL"
      },
      "execution_count": 25,
      "outputs": []
    },
    {
      "cell_type": "code",
      "source": [
        "def guess2(number):\n",
        "    answer = 100\n",
        "    # result = None\n",
        "    if number == answer: # 일치하면\n",
        "        result = \"정답\"\n",
        "    if number >= answer: \n",
        "        result = \"Down\"\n",
        "    if number <= answer: \n",
        "        result = \"Up\"\n",
        "    return result"
      ],
      "metadata": {
        "id": "CWp0SzxVeBVc"
      },
      "execution_count": 26,
      "outputs": []
    },
    {
      "cell_type": "code",
      "source": [
        "guess(50), guess(120), guess(100)"
      ],
      "metadata": {
        "id": "TSWiY9L4diNK",
        "colab": {
          "base_uri": "https://localhost:8080/"
        },
        "outputId": "92d58f00-993b-4b13-ee06-00e73eabd120"
      },
      "execution_count": 27,
      "outputs": [
        {
          "output_type": "execute_result",
          "data": {
            "text/plain": [
              "('Up', 'Down', '정답')"
            ]
          },
          "metadata": {},
          "execution_count": 27
        }
      ]
    },
    {
      "cell_type": "code",
      "source": [
        "guess2(100)"
      ],
      "metadata": {
        "id": "cDGP-F7Rdk_4",
        "colab": {
          "base_uri": "https://localhost:8080/",
          "height": 35
        },
        "outputId": "83f487d9-7553-4336-fbae-55cbf533d9fd"
      },
      "execution_count": 28,
      "outputs": [
        {
          "output_type": "execute_result",
          "data": {
            "text/plain": [
              "'Up'"
            ],
            "application/vnd.google.colaboratory.intrinsic+json": {
              "type": "string"
            }
          },
          "metadata": {},
          "execution_count": 28
        }
      ]
    },
    {
      "cell_type": "code",
      "source": [
        "def not_ten(a):\n",
        "    if a == 10:\n",
        "        return\n",
        "    print(f\"{a}입니다.\")\n",
        "\n",
        "not_ten(5)\n",
        "not_ten(10)"
      ],
      "metadata": {
        "colab": {
          "base_uri": "https://localhost:8080/"
        },
        "id": "qWNLZvBgdmZ_",
        "outputId": "72356956-b6e4-4467-95bf-2317eab7f77b"
      },
      "execution_count": null,
      "outputs": [
        {
          "output_type": "stream",
          "name": "stdout",
          "text": [
            "5입니다.\n"
          ]
        }
      ]
    },
    {
      "cell_type": "code",
      "source": [
        "def loop(a, b, c): # a부터 b사이 중에 c의 가장 먼저되는 배수를 찾고 싶다.\n",
        "    for i in range(a, b+1):\n",
        "        print(i)\n",
        "        if i % c == 0: # i가 c의 배수일 때 가장 작은 값\n",
        "            print(f\"** {c}의 배수를 찾았습니다.! **\")\n",
        "            return i\n",
        "    return 0"
      ],
      "metadata": {
        "id": "YvUXnpOAd4FC"
      },
      "execution_count": null,
      "outputs": []
    },
    {
      "cell_type": "code",
      "source": [
        "loop(19, 50, 17)"
      ],
      "metadata": {
        "colab": {
          "base_uri": "https://localhost:8080/"
        },
        "id": "DJuXATfheSjD",
        "outputId": "f6c7a600-fcff-43f1-de80-a526092df209"
      },
      "execution_count": null,
      "outputs": [
        {
          "output_type": "stream",
          "name": "stdout",
          "text": [
            "19\n",
            "20\n",
            "21\n",
            "22\n",
            "23\n",
            "24\n",
            "25\n",
            "26\n",
            "27\n",
            "28\n",
            "29\n",
            "30\n",
            "31\n",
            "32\n",
            "33\n",
            "34\n",
            "** 17의 배수를 찾았습니다.! **\n"
          ]
        },
        {
          "output_type": "execute_result",
          "data": {
            "text/plain": [
              "34"
            ]
          },
          "metadata": {},
          "execution_count": 8
        }
      ]
    },
    {
      "cell_type": "markdown",
      "source": [
        "return은 함수 중간에서 빠져나올 때 자주 사용합니다. 보통은 if와 조합해서 특정 조건일 때 함수 중간에서 빠져나옵니다."
      ],
      "metadata": {
        "id": "ekWXLlQQeLd1"
      }
    },
    {
      "cell_type": "markdown",
      "source": [
        "## 함수에서 값을 여러 개 반환하기"
      ],
      "metadata": {
        "id": "dVze2R3qfTpX"
      }
    },
    {
      "cell_type": "markdown",
      "source": [
        "함수에서 값을 여러 개 반환할 때는 다음과 같이 return에 값이나 변수를 ,(콤마)로 구분해서 지정하면 됩니다.\n",
        "\n",
        "```\n",
        "def 함수이름(매개변수):\n",
        "    return 반환값1, 반환값2\n",
        "```"
      ],
      "metadata": {
        "id": "rUbkDeGIfXnS"
      }
    },
    {
      "cell_type": "code",
      "source": [
        "def my_divmod(a, b): # 몫, 나머지\n",
        "    c = a // b # 몫\n",
        "    d = a % b # 나머지\n",
        "    return c, d"
      ],
      "metadata": {
        "id": "ObAqYO7veI6x"
      },
      "execution_count": 29,
      "outputs": []
    },
    {
      "cell_type": "code",
      "source": [
        "my_divmod(100, 3)"
      ],
      "metadata": {
        "colab": {
          "base_uri": "https://localhost:8080/"
        },
        "id": "5iXQXQBYfcKX",
        "outputId": "eef194f7-8915-402b-ee72-c78790bf47c0"
      },
      "execution_count": 30,
      "outputs": [
        {
          "output_type": "execute_result",
          "data": {
            "text/plain": [
              "(33, 1)"
            ]
          },
          "metadata": {},
          "execution_count": 30
        }
      ]
    },
    {
      "cell_type": "code",
      "source": [
        "a, b = my_divmod(100, 3)\n",
        "print(a, b)"
      ],
      "metadata": {
        "colab": {
          "base_uri": "https://localhost:8080/"
        },
        "id": "Io71myFhimo0",
        "outputId": "3d2b68e6-ab13-413f-8839-56ab96710401"
      },
      "execution_count": 31,
      "outputs": [
        {
          "output_type": "stream",
          "name": "stdout",
          "text": [
            "33 1\n"
          ]
        }
      ]
    },
    {
      "cell_type": "markdown",
      "source": [
        "# 함수 심화"
      ],
      "metadata": {
        "id": "se7h4WO6gtSJ"
      }
    },
    {
      "cell_type": "markdown",
      "source": [
        "## 위치 인수와 리스트 언패킹 사용하기"
      ],
      "metadata": {
        "id": "Br_x783Qikcb"
      }
    },
    {
      "cell_type": "markdown",
      "source": [
        "함수에 인수를 순서대로 넣는 방식을 위치 인수(positional argument)라고 합니다. 즉, 인수의 위치가 정해져 있습니다."
      ],
      "metadata": {
        "id": "S4KDsEJVingi"
      }
    },
    {
      "cell_type": "code",
      "source": [
        "print(10, 20, 30)"
      ],
      "metadata": {
        "colab": {
          "base_uri": "https://localhost:8080/"
        },
        "id": "HizkrioCffxH",
        "outputId": "bf0d6b4e-e067-4ee9-8d11-3fc615ab92a6"
      },
      "execution_count": null,
      "outputs": [
        {
          "output_type": "stream",
          "name": "stdout",
          "text": [
            "10 20 30\n"
          ]
        }
      ]
    },
    {
      "cell_type": "code",
      "source": [
        "print(10, 10, 10, 10, 10, 10, 10, 10) # 넣은 만큼 출력된다."
      ],
      "metadata": {
        "colab": {
          "base_uri": "https://localhost:8080/"
        },
        "id": "oTpwvf13jQ5H",
        "outputId": "d5af6008-ca3a-47ec-a5af-f4609d2c7493"
      },
      "execution_count": null,
      "outputs": [
        {
          "output_type": "stream",
          "name": "stdout",
          "text": [
            "10 10 10 10 10 10 10 10\n"
          ]
        }
      ]
    },
    {
      "cell_type": "markdown",
      "source": [
        "### 위치 인수를 사용하는 함수를 만들고 호출하기"
      ],
      "metadata": {
        "id": "wnm64LUKitz3"
      }
    },
    {
      "cell_type": "code",
      "source": [
        "def print_numbers(a, b, c):\n",
        "    print(a)\n",
        "    print(b)\n",
        "    print(c)"
      ],
      "metadata": {
        "id": "_LVtrOSWipwt"
      },
      "execution_count": null,
      "outputs": []
    },
    {
      "cell_type": "code",
      "source": [
        "print_numbers(10, 20, 30)"
      ],
      "metadata": {
        "colab": {
          "base_uri": "https://localhost:8080/"
        },
        "id": "NpYgDLcNi0bB",
        "outputId": "3707666f-fb0a-4a51-c111-d9852f4e6439"
      },
      "execution_count": null,
      "outputs": [
        {
          "output_type": "stream",
          "name": "stdout",
          "text": [
            "10 20 30\n"
          ]
        }
      ]
    },
    {
      "cell_type": "code",
      "source": [
        "print_numbers(10, 20)\n",
        "print_numbers(10, 20, 30, 40)\n",
        "# 배개변수의 갯수를 비교해봤을 때 적거나 많으면 오류"
      ],
      "metadata": {
        "colab": {
          "base_uri": "https://localhost:8080/",
          "height": 190
        },
        "id": "H64AravTjyQc",
        "outputId": "6eaf96bb-c8cb-412b-9fa0-6d7e3dc9c0cc"
      },
      "execution_count": null,
      "outputs": [
        {
          "output_type": "error",
          "ename": "TypeError",
          "evalue": "ignored",
          "traceback": [
            "\u001b[0;31m---------------------------------------------------------------------------\u001b[0m",
            "\u001b[0;31mTypeError\u001b[0m                                 Traceback (most recent call last)",
            "\u001b[0;32m<ipython-input-34-f1ff2d3949a1>\u001b[0m in \u001b[0;36m<module>\u001b[0;34m\u001b[0m\n\u001b[0;32m----> 1\u001b[0;31m \u001b[0mprint_numbers\u001b[0m\u001b[0;34m(\u001b[0m\u001b[0;36m10\u001b[0m\u001b[0;34m,\u001b[0m \u001b[0;36m20\u001b[0m\u001b[0;34m)\u001b[0m\u001b[0;34m\u001b[0m\u001b[0;34m\u001b[0m\u001b[0m\n\u001b[0m\u001b[1;32m      2\u001b[0m \u001b[0mprint_numbers\u001b[0m\u001b[0;34m(\u001b[0m\u001b[0;36m10\u001b[0m\u001b[0;34m,\u001b[0m \u001b[0;36m20\u001b[0m\u001b[0;34m,\u001b[0m \u001b[0;36m30\u001b[0m\u001b[0;34m,\u001b[0m \u001b[0;36m40\u001b[0m\u001b[0;34m)\u001b[0m\u001b[0;34m\u001b[0m\u001b[0;34m\u001b[0m\u001b[0m\n",
            "\u001b[0;31mTypeError\u001b[0m: print_numbers() missing 1 required positional argument: 'c'"
          ]
        }
      ]
    },
    {
      "cell_type": "markdown",
      "source": [
        "### 언패킹 사용하기"
      ],
      "metadata": {
        "id": "i49Ug1QRi-dq"
      }
    },
    {
      "cell_type": "markdown",
      "source": [
        "인수를 순서대로 넣을 때는 리스트나 튜플을 사용할 수도 있습니다. 다음과 같이 리스트 또는 튜플 앞에 *(애스터리스크)를 붙여서 함수에 넣어주면 됩니다.\n",
        "\n",
        "* `함수(*리스트)`\n",
        "* `함수(*튜플)`"
      ],
      "metadata": {
        "id": "aL8BAhAqjB9p"
      }
    },
    {
      "cell_type": "code",
      "source": [
        "x = [1 ** (1/2), 2 ** (1/2), 3 ** (1/2)]\n",
        "x"
      ],
      "metadata": {
        "colab": {
          "base_uri": "https://localhost:8080/"
        },
        "id": "6xNy8CL7i2wl",
        "outputId": "b32b77c3-2add-4f4a-ccd7-28f0a3e1ca57"
      },
      "execution_count": null,
      "outputs": [
        {
          "output_type": "execute_result",
          "data": {
            "text/plain": [
              "[1.0, 1.4142135623730951, 1.7320508075688772]"
            ]
          },
          "metadata": {},
          "execution_count": 35
        }
      ]
    },
    {
      "cell_type": "code",
      "source": [
        "print_numbers(x[0], x[1], x[2])"
      ],
      "metadata": {
        "colab": {
          "base_uri": "https://localhost:8080/"
        },
        "id": "qlmhhZ7NkNPT",
        "outputId": "5619235b-2106-4bdd-d4c8-3def525b1d97"
      },
      "execution_count": null,
      "outputs": [
        {
          "output_type": "stream",
          "name": "stdout",
          "text": [
            "1.0\n",
            "1.4142135623730951\n",
            "1.7320508075688772\n"
          ]
        }
      ]
    },
    {
      "cell_type": "code",
      "source": [
        "print_numbers(*x)"
      ],
      "metadata": {
        "colab": {
          "base_uri": "https://localhost:8080/"
        },
        "id": "6nWu5pIIkRXv",
        "outputId": "814c4d24-19b8-4d7e-ce18-f1feb4f02aea"
      },
      "execution_count": null,
      "outputs": [
        {
          "output_type": "stream",
          "name": "stdout",
          "text": [
            "1.0\n",
            "1.4142135623730951\n",
            "1.7320508075688772\n"
          ]
        }
      ]
    },
    {
      "cell_type": "code",
      "source": [
        "# 단, 이때 함수의 매개변수 개수와 리스트의 요소 개수는 같아야 합니다.\n",
        "# 만약 개수가 다르면 함수를 호출할 수 없습니다.\n",
        "print_numbers(*[10, 20])"
      ],
      "metadata": {
        "id": "Huyu1QyEjHwU",
        "colab": {
          "base_uri": "https://localhost:8080/",
          "height": 209
        },
        "outputId": "d0b7d420-5963-462e-c6fe-dba1e2b9753f"
      },
      "execution_count": null,
      "outputs": [
        {
          "output_type": "error",
          "ename": "TypeError",
          "evalue": "ignored",
          "traceback": [
            "\u001b[0;31m---------------------------------------------------------------------------\u001b[0m",
            "\u001b[0;31mTypeError\u001b[0m                                 Traceback (most recent call last)",
            "\u001b[0;32m<ipython-input-38-6e8641f0bfef>\u001b[0m in \u001b[0;36m<module>\u001b[0;34m\u001b[0m\n\u001b[1;32m      1\u001b[0m \u001b[0;31m# 단, 이때 함수의 매개변수 개수와 리스트의 요소 개수는 같아야 합니다.\u001b[0m\u001b[0;34m\u001b[0m\u001b[0;34m\u001b[0m\u001b[0;34m\u001b[0m\u001b[0m\n\u001b[1;32m      2\u001b[0m \u001b[0;31m# 만약 개수가 다르면 함수를 호출할 수 없습니다.\u001b[0m\u001b[0;34m\u001b[0m\u001b[0;34m\u001b[0m\u001b[0;34m\u001b[0m\u001b[0m\n\u001b[0;32m----> 3\u001b[0;31m \u001b[0mprint_numbers\u001b[0m\u001b[0;34m(\u001b[0m\u001b[0;34m*\u001b[0m\u001b[0;34m[\u001b[0m\u001b[0;36m10\u001b[0m\u001b[0;34m,\u001b[0m \u001b[0;36m20\u001b[0m\u001b[0;34m]\u001b[0m\u001b[0;34m)\u001b[0m\u001b[0;34m\u001b[0m\u001b[0;34m\u001b[0m\u001b[0m\n\u001b[0m",
            "\u001b[0;31mTypeError\u001b[0m: print_numbers() missing 1 required positional argument: 'c'"
          ]
        }
      ]
    },
    {
      "cell_type": "markdown",
      "source": [
        "### 가변 인수 함수 만들기"
      ],
      "metadata": {
        "id": "wa5pSffKmuzR"
      }
    },
    {
      "cell_type": "markdown",
      "source": [
        "그럼 위치 인수와 리스트 언패킹은 어디에 사용할까요? 이 기능들은 인수의 개수가 정해지지 않은 가변 인수(variable argument)에 사용합니다. 즉, 같은 함수에 인수 한 개를 넣을 수도 있고, 열 개를 넣을 수도 있습니다. 또는, 인수를 넣지 않을 수도 있습니다.\n",
        "\n",
        "다음과 같이 가변 인수 함수는 매개변수 앞에 *를 붙여서 만듭니다.\n",
        "\n",
        "```\n",
        "def 함수이름(*매개변수):\n",
        "    코드\n",
        "```"
      ],
      "metadata": {
        "id": "9YN1s8ktmyN0"
      }
    },
    {
      "cell_type": "code",
      "source": [
        "def print_numbers(*args):\n",
        "    if not len(args): # args가 비어있으면 True\n",
        "        print(\"매개변수를 1개 이상 넣어주세요!\")\n",
        "        return\n",
        "    if  len(args) == 2: # args가 비어있으면 True\n",
        "        print(f\"연결 : {args[0] + args[1]}\")\n",
        "        return str(args[0]) + str(args[1])\n",
        "\n",
        "    for arg in args:\n",
        "        print(arg)"
      ],
      "metadata": {
        "id": "fqMZulXymo5B"
      },
      "execution_count": 34,
      "outputs": []
    },
    {
      "cell_type": "markdown",
      "source": [
        "매개변수 이름은 원하는 대로 지어도 되지만 관례적으로 arguments를 줄여서 args로 사용합니다. 특히 이 args는 튜플이라서 for로 반복할 수 있습니다.\n",
        "\n"
      ],
      "metadata": {
        "id": "sFNxiUl1m_rK"
      }
    },
    {
      "cell_type": "code",
      "source": [
        "print_numbers()\n",
        "print_numbers(10)\n",
        "print_numbers(10, 20)\n",
        "print_numbers(10, 20, 30, 40)"
      ],
      "metadata": {
        "colab": {
          "base_uri": "https://localhost:8080/"
        },
        "id": "HbabXu0Vm9j_",
        "outputId": "a16ab3c0-fd9f-4064-87ab-a32df1b58915"
      },
      "execution_count": 35,
      "outputs": [
        {
          "output_type": "stream",
          "name": "stdout",
          "text": [
            "매개변수를 1개 이상 넣어주세요!\n",
            "10\n",
            "연결 : 30\n",
            "10\n",
            "20\n",
            "30\n",
            "40\n"
          ]
        }
      ]
    },
    {
      "cell_type": "code",
      "source": [
        "# 이렇게 함수에 인수 여러 개를 직접 넣어도 되고, 리스트(튜플) 언패킹을 사용해도 됩니다.\n",
        "print_numbers(*list(range(0, 100, 30)))"
      ],
      "metadata": {
        "colab": {
          "base_uri": "https://localhost:8080/"
        },
        "id": "h2cjU8fHnDvH",
        "outputId": "915ec793-41dd-4730-e5a1-8fe2fe101df7"
      },
      "execution_count": 36,
      "outputs": [
        {
          "output_type": "stream",
          "name": "stdout",
          "text": [
            "0\n",
            "30\n",
            "60\n",
            "90\n"
          ]
        }
      ]
    },
    {
      "cell_type": "markdown",
      "source": [
        "### 고정 인수와 가변 인수를 함께 사용하기"
      ],
      "metadata": {
        "id": "9309K7dBnOp5"
      }
    },
    {
      "cell_type": "markdown",
      "source": [
        "고정 인수와 가변 인수를 함께 사용할 때는 고정 매개변수를 먼저 지정하고, 그 다음 매개변수에 *를 붙여주면 됩니다."
      ],
      "metadata": {
        "id": "RRRH-UornQXQ"
      }
    },
    {
      "cell_type": "code",
      "source": [
        "def my_fun(a, *args):\n",
        "    if a == \"sum\":\n",
        "        return sum(args)\n",
        "    if a == \"avg\":\n",
        "        return sum(args) // len(args)\n",
        "    if a == \"count\":\n",
        "        return len(args)\n",
        "    print(\"지원하지 않는 기능입니다!\")"
      ],
      "metadata": {
        "id": "Sjxzq9iknLKA"
      },
      "execution_count": null,
      "outputs": []
    },
    {
      "cell_type": "code",
      "source": [
        " my_fun(\"sum\", 1, 2, 3, 4, 5)"
      ],
      "metadata": {
        "colab": {
          "base_uri": "https://localhost:8080/"
        },
        "id": "lFYfetWenVaV",
        "outputId": "33236e86-aecc-4785-c0fa-22866a371be5"
      },
      "execution_count": null,
      "outputs": [
        {
          "output_type": "execute_result",
          "data": {
            "text/plain": [
              "15"
            ]
          },
          "metadata": {},
          "execution_count": 52
        }
      ]
    },
    {
      "cell_type": "code",
      "source": [
        " my_fun(\"avg\", 1, 2, 3, 4, 5)"
      ],
      "metadata": {
        "colab": {
          "base_uri": "https://localhost:8080/"
        },
        "id": "QGItwVoenbhn",
        "outputId": "8bdba650-b1ad-439c-b8a3-46c0c78be43e"
      },
      "execution_count": null,
      "outputs": [
        {
          "output_type": "execute_result",
          "data": {
            "text/plain": [
              "3"
            ]
          },
          "metadata": {},
          "execution_count": 53
        }
      ]
    },
    {
      "cell_type": "code",
      "source": [
        " my_fun(\"count\", 1, 2, 3, 4, 5)"
      ],
      "metadata": {
        "colab": {
          "base_uri": "https://localhost:8080/"
        },
        "id": "ykPnqaxLnfz7",
        "outputId": "1db6eb1f-f11e-45e6-fbe2-3bdf6db5e23b"
      },
      "execution_count": null,
      "outputs": [
        {
          "output_type": "execute_result",
          "data": {
            "text/plain": [
              "5"
            ]
          },
          "metadata": {},
          "execution_count": 54
        }
      ]
    },
    {
      "cell_type": "code",
      "source": [
        " my_fun(\"hi\")"
      ],
      "metadata": {
        "colab": {
          "base_uri": "https://localhost:8080/"
        },
        "id": "p2T8eidWniEl",
        "outputId": "0e0be87f-2f51-4aa8-f3ba-1818691c06d5"
      },
      "execution_count": null,
      "outputs": [
        {
          "output_type": "stream",
          "name": "stdout",
          "text": [
            "지원하지 않는 기능입니다!\n"
          ]
        }
      ]
    },
    {
      "cell_type": "code",
      "source": [
        "def my_fun(*args, a): # 위치 고정, 가변인수(언팩킹 되는 변수)\n",
        "    if a == \"sum\":\n",
        "        return sum(args)\n",
        "\n",
        "    if a == \"avg\":\n",
        "        return sum(args) // len(args)\n",
        "\n",
        "    if a == \"count\":\n",
        "        return len(args)\n",
        "    print(\"지원하지 않는 기능입니다!\")"
      ],
      "metadata": {
        "id": "o5a6Px-ont3r"
      },
      "execution_count": 40,
      "outputs": []
    },
    {
      "cell_type": "code",
      "source": [
        "def my_fun(a, *args): # 위치 고정, 가변인수(언팩킹 되는 변수)\n",
        "    if a == \"sum\":\n",
        "        return sum(args)\n",
        "\n",
        "    if a == \"avg\":\n",
        "        return sum(args) // len(args)\n",
        "\n",
        "    if a == \"count\":\n",
        "        return len(args)\n",
        "    print(\"지원하지 않는 기능입니다!\")"
      ],
      "metadata": {
        "id": "RR_xvZXjWs2H"
      },
      "execution_count": 47,
      "outputs": []
    },
    {
      "cell_type": "code",
      "source": [
        "my_fun(\"hi\")"
      ],
      "metadata": {
        "colab": {
          "base_uri": "https://localhost:8080/"
        },
        "id": "6XbnqEOknx9A",
        "outputId": "0a584fe8-29b5-4e13-8ffb-147cf00e41ea"
      },
      "execution_count": 48,
      "outputs": [
        {
          "output_type": "stream",
          "name": "stdout",
          "text": [
            "지원하지 않는 기능입니다!\n"
          ]
        }
      ]
    },
    {
      "cell_type": "code",
      "source": [
        "my_fun(\"sum\",1,2,3,4,5)"
      ],
      "metadata": {
        "colab": {
          "base_uri": "https://localhost:8080/"
        },
        "id": "6tyrm9VxWJBf",
        "outputId": "9ac1705b-a3af-4df0-ef6b-dfe6a53b6a96"
      },
      "execution_count": 49,
      "outputs": [
        {
          "output_type": "execute_result",
          "data": {
            "text/plain": [
              "15"
            ]
          },
          "metadata": {},
          "execution_count": 49
        }
      ]
    },
    {
      "cell_type": "code",
      "source": [
        "my_fun(\"avg\",1,2,3,4,5)"
      ],
      "metadata": {
        "colab": {
          "base_uri": "https://localhost:8080/"
        },
        "id": "Hr7mI3SDWN7v",
        "outputId": "31b70b55-3d7d-4f74-bba0-378d46e08612"
      },
      "execution_count": 50,
      "outputs": [
        {
          "output_type": "execute_result",
          "data": {
            "text/plain": [
              "3"
            ]
          },
          "metadata": {},
          "execution_count": 50
        }
      ]
    },
    {
      "cell_type": "code",
      "source": [
        "my_fun(\"count\",1,2,3,4,5)"
      ],
      "metadata": {
        "colab": {
          "base_uri": "https://localhost:8080/"
        },
        "id": "SAHDDbJFWPrr",
        "outputId": "22e927a2-225e-4108-fb1b-7fb8eda7122c"
      },
      "execution_count": 51,
      "outputs": [
        {
          "output_type": "execute_result",
          "data": {
            "text/plain": [
              "5"
            ]
          },
          "metadata": {},
          "execution_count": 51
        }
      ]
    },
    {
      "cell_type": "markdown",
      "source": [
        "단, 이때 def print_numbers(*args, a):처럼 *args가 고정 매개변수보다 앞쪽에 오면 안 됩니다. 매개변수 순서에서 *args는 반드시 가장 뒤쪽에 와야 합니다."
      ],
      "metadata": {
        "id": "ajTZFGcBnZ-M"
      }
    },
    {
      "cell_type": "markdown",
      "source": [
        "## 키워드 인수 사용하기"
      ],
      "metadata": {
        "id": "qkHyiHdKnk7r"
      }
    },
    {
      "cell_type": "markdown",
      "source": [
        "파이썬에서는 인수의 순서와 용도를 매번 기억하지 않도록 키워드 인수(keyword argument)라는 기능을 제공합니다. 키워드 인수는 말 그대로 인수에 이름(키워드)을 붙이는 기능인데 키워드=값 형식으로 사용합니다.\n",
        "\n",
        "* `함수(키워드=값)`"
      ],
      "metadata": {
        "id": "R5nut9cynpVa"
      }
    },
    {
      "cell_type": "code",
      "source": [
        "def introduce(name, age, address):\n",
        "    print(f\"이름 : {name}\")\n",
        "    print(f\"나이 : {age}\")\n",
        "    print(f\"주소 : {address}\")"
      ],
      "metadata": {
        "id": "FqWZuiT1nqCz"
      },
      "execution_count": 52,
      "outputs": []
    },
    {
      "cell_type": "code",
      "source": [
        "introduce(\"이재진\", 27, \"서울시 행복구\")"
      ],
      "metadata": {
        "colab": {
          "base_uri": "https://localhost:8080/"
        },
        "id": "QnDpwGAGnt69",
        "outputId": "f8f2faf9-1769-47d5-fc4f-08e4b235ca4b"
      },
      "execution_count": 53,
      "outputs": [
        {
          "output_type": "stream",
          "name": "stdout",
          "text": [
            "이름 : 이재진\n",
            "나이 : 27\n",
            "주소 : 서울시 행복구\n"
          ]
        }
      ]
    },
    {
      "cell_type": "code",
      "source": [
        "# 키워드 인수를 사용하면 인수의 순서를 맞추지 않아도 키워드에 해당하는 값이 들어갑니다.\n",
        "introduce(name = \"이재진\", address = \"서울시 행복구\", age = 27)"
      ],
      "metadata": {
        "colab": {
          "base_uri": "https://localhost:8080/"
        },
        "id": "CTFSBBSNn2Zu",
        "outputId": "2b12bc71-2780-4b20-920e-f668ad371926"
      },
      "execution_count": 54,
      "outputs": [
        {
          "output_type": "stream",
          "name": "stdout",
          "text": [
            "이름 : 이재진\n",
            "나이 : 27\n",
            "주소 : 서울시 행복구\n"
          ]
        }
      ]
    },
    {
      "cell_type": "markdown",
      "source": [
        "## 키워드 인수와 딕셔너리 언패킹 사용하기"
      ],
      "metadata": {
        "id": "SBCFd3a-oBKj"
      }
    },
    {
      "cell_type": "markdown",
      "source": [
        "지금까지 함수를 호출할 때 키워드 인수로 직접 값을 넣었습니다. 이번에는 딕셔너리를 사용해서 키워드 인수로 값을 넣는 딕셔너리 언패킹을 사용해보겠습니다. 다음과 같이 딕셔너리 앞에 **(애스터리스크 두 개)를 붙여서 함수에 넣어줍니다.\n",
        "\n",
        "* `함수(**딕셔너리)`"
      ],
      "metadata": {
        "id": "P1kRkxtVoCSk"
      }
    },
    {
      "cell_type": "code",
      "source": [
        "def introduce(name, age, address):\n",
        "    print(f\"이름 : {name}\")\n",
        "    print(f\"나이 : {age}\")\n",
        "    print(f\"주소 : {address}\")"
      ],
      "metadata": {
        "id": "nrSsuSncn6SP"
      },
      "execution_count": 107,
      "outputs": []
    },
    {
      "cell_type": "code",
      "source": [
        "a = {\n",
        "    \"name\" : \"이재진\",\n",
        "    \"age\" : 20,\n",
        "    \"address\" : \"대한민국\"\n",
        "}"
      ],
      "metadata": {
        "id": "r8asffJwo-Mx"
      },
      "execution_count": 108,
      "outputs": []
    },
    {
      "cell_type": "code",
      "source": [
        "introduce(*a) # key만 나와버림, key 리스트로 리스트 언패킹"
      ],
      "metadata": {
        "colab": {
          "base_uri": "https://localhost:8080/"
        },
        "id": "dlwKFAs6pN9a",
        "outputId": "95c94ecf-ba6b-42c2-a7ca-c75faf76f94e"
      },
      "execution_count": 109,
      "outputs": [
        {
          "output_type": "stream",
          "name": "stdout",
          "text": [
            "이름 : name\n",
            "나이 : age\n",
            "주소 : address\n"
          ]
        }
      ]
    },
    {
      "cell_type": "markdown",
      "source": [
        "이제 딕셔너리에 '키워드': 값 형식으로 인수를 저장하고, 앞에 **를 붙여서 함수에 넣어줍니다. 이때 딕셔너리의 키워드(키)는 반드시 문자열 형태라야 합니다."
      ],
      "metadata": {
        "id": "Dq6dnAJMoStb"
      }
    },
    {
      "cell_type": "code",
      "source": [
        "introduce(**a) # ** : 키워드 - 값 형태로 딕셔너리 언패킹"
      ],
      "metadata": {
        "colab": {
          "base_uri": "https://localhost:8080/"
        },
        "id": "r1MkQSj8oRo3",
        "outputId": "d4f8ed2f-457c-49d1-aaa9-79bd92e251fd"
      },
      "execution_count": 110,
      "outputs": [
        {
          "output_type": "stream",
          "name": "stdout",
          "text": [
            "이름 : 이재진\n",
            "나이 : 20\n",
            "주소 : 대한민국\n"
          ]
        }
      ]
    },
    {
      "cell_type": "markdown",
      "source": [
        "**x처럼 딕셔너리를 언패킹하면 딕셔너리의 값들이 함수의 인수로 들어갑니다."
      ],
      "metadata": {
        "id": "ZmNL-BnnoW-G"
      }
    },
    {
      "cell_type": "markdown",
      "source": [
        "딕셔너리 언패킹을 사용할 때는 함수의 매개변수 이름과 딕셔너리의 키 이름이 같아야 합니다. 또한, 매개변수 개수와 딕셔너리 키의 개수도 같아야 합니다."
      ],
      "metadata": {
        "id": "n2FrJj1Eob1S"
      }
    },
    {
      "cell_type": "code",
      "source": [
        "b = {\n",
        "    \"name\" : \"이재진\",\n",
        "    \"aging\" : \"27\", # 딕셔너리 키 이름 다름\n",
        "    \"address\" : \"서울시\"\n",
        "}\n",
        "introduce(**b)"
      ],
      "metadata": {
        "id": "lqwpzhRboWcM",
        "colab": {
          "base_uri": "https://localhost:8080/",
          "height": 211
        },
        "outputId": "92611325-41cb-4474-972e-ddcf5872f623"
      },
      "execution_count": 111,
      "outputs": [
        {
          "output_type": "error",
          "ename": "TypeError",
          "evalue": "ignored",
          "traceback": [
            "\u001b[0;31m---------------------------------------------------------------------------\u001b[0m",
            "\u001b[0;31mTypeError\u001b[0m                                 Traceback (most recent call last)",
            "\u001b[0;32m<ipython-input-111-eb2fa00d1b78>\u001b[0m in \u001b[0;36m<module>\u001b[0;34m\u001b[0m\n\u001b[1;32m      4\u001b[0m     \u001b[0;34m\"address\"\u001b[0m \u001b[0;34m:\u001b[0m \u001b[0;34m\"서울시\"\u001b[0m\u001b[0;34m\u001b[0m\u001b[0;34m\u001b[0m\u001b[0m\n\u001b[1;32m      5\u001b[0m }\n\u001b[0;32m----> 6\u001b[0;31m \u001b[0mintroduce\u001b[0m\u001b[0;34m(\u001b[0m\u001b[0;34m**\u001b[0m\u001b[0mb\u001b[0m\u001b[0;34m)\u001b[0m\u001b[0;34m\u001b[0m\u001b[0;34m\u001b[0m\u001b[0m\n\u001b[0m",
            "\u001b[0;31mTypeError\u001b[0m: introduce() got an unexpected keyword argument 'aging'"
          ]
        }
      ]
    },
    {
      "cell_type": "markdown",
      "source": [
        "### *를 두 번 사용하는 이유"
      ],
      "metadata": {
        "id": "jRQmc3eAohLK"
      }
    },
    {
      "cell_type": "markdown",
      "source": [
        "그런데 딕셔너리는 **처럼 *를 두 번 사용할까요? 왜냐하면 딕셔너리는 키-값 쌍 형태로 값이 저장되어 있기 때문입니다. 먼저 *를 한 번만 사용해서 함수를 호출해봅니다.\n",
        "\n"
      ],
      "metadata": {
        "id": "yrtcCkc9olTD"
      }
    },
    {
      "cell_type": "code",
      "source": [
        "introduce(*a)"
      ],
      "metadata": {
        "colab": {
          "base_uri": "https://localhost:8080/"
        },
        "id": "KT2CfVgMoeg9",
        "outputId": "3b5ee5db-b625-471e-e9f2-8920264b4555"
      },
      "execution_count": 112,
      "outputs": [
        {
          "output_type": "stream",
          "name": "stdout",
          "text": [
            "이름 : name\n",
            "나이 : age\n",
            "주소 : address\n"
          ]
        }
      ]
    },
    {
      "cell_type": "markdown",
      "source": [
        "딕셔너리를 한 번 언패킹하면 키를 사용한다는 뜻이 됩니다. 따라서 **처럼 딕셔너리를 두 번 언패킹하여 값을 사용하도록 만들어야 합니다."
      ],
      "metadata": {
        "id": "SuRwHU7wopyB"
      }
    },
    {
      "cell_type": "code",
      "source": [
        "introduce(**a)"
      ],
      "metadata": {
        "colab": {
          "base_uri": "https://localhost:8080/"
        },
        "id": "7tMWJjI3on6E",
        "outputId": "3765a618-0b2c-4fcc-adc7-40df273834ae"
      },
      "execution_count": 113,
      "outputs": [
        {
          "output_type": "stream",
          "name": "stdout",
          "text": [
            "이름 : 이재진\n",
            "나이 : 20\n",
            "주소 : 대한민국\n"
          ]
        }
      ]
    },
    {
      "cell_type": "markdown",
      "source": [
        "### 키워드 인수를 사용하는 가변 인수 함수 만들기(중요)"
      ],
      "metadata": {
        "id": "g-tHUmd8ovY8"
      }
    },
    {
      "cell_type": "markdown",
      "source": [
        "키워드 인수를 사용하는 가변 인수 함수는 매개변수 앞에 **를 붙여서 만듭니다.\n",
        "\n",
        "```\n",
        "def 함수이름(**매개변수):\n",
        "    코드\n",
        "```"
      ],
      "metadata": {
        "id": "LbOQCn4Oo3e3"
      }
    },
    {
      "cell_type": "code",
      "source": [
        "def introduce(**kwargs): # kw + args : kwargs(dictionary)\n",
        "    for kw, args in kwargs.items():\n",
        "        print(f\"{kw} : {args}\")"
      ],
      "metadata": {
        "id": "OEM7FpY3osQx"
      },
      "execution_count": 114,
      "outputs": []
    },
    {
      "cell_type": "code",
      "source": [
        "introduce(**b)"
      ],
      "metadata": {
        "colab": {
          "base_uri": "https://localhost:8080/"
        },
        "id": "Iz4RdBsEqU2Y",
        "outputId": "4a2f5e17-3267-42d1-fd5b-577ff34d0412"
      },
      "execution_count": 115,
      "outputs": [
        {
          "output_type": "stream",
          "name": "stdout",
          "text": [
            "name : 이재진\n",
            "aging : 27\n",
            "address : 서울시\n"
          ]
        }
      ]
    },
    {
      "cell_type": "code",
      "source": [
        "introduce(weight = 70, height = 175.5, nickname = \"풀스윙\")"
      ],
      "metadata": {
        "id": "n0dxUS0oqcTR",
        "colab": {
          "base_uri": "https://localhost:8080/"
        },
        "outputId": "e66895bc-0c5e-48fa-99ea-bb58851b7581"
      },
      "execution_count": 116,
      "outputs": [
        {
          "output_type": "stream",
          "name": "stdout",
          "text": [
            "weight : 70\n",
            "height : 175.5\n",
            "nickname : 풀스윙\n"
          ]
        }
      ]
    },
    {
      "cell_type": "markdown",
      "source": [
        "매개변수 이름은 원하는 대로 지어도 되지만 관례적으로 keyword arguments를 줄여서 kwargs로 사용합니다. 특히 이 kwargs는 딕셔너리라서 for로 반복할 수 있습니다."
      ],
      "metadata": {
        "id": "7OzVuQaXpAg5"
      }
    },
    {
      "cell_type": "code",
      "source": [
        "def introduce(**kwargs): # kw + args : kwargs(dictionary) , 생략\n",
        "    if 'name' in kwargs:\n",
        "        print(f\"이름 : {kwargs ['name']}\")\n",
        "    if 'age' in kwargs:\n",
        "        print(f\"나이 : {kwargs ['age']}\")\n",
        "    if 'address' in kwargs:\n",
        "        print(f\"주소 : {kwargs ['address']}\")\n",
        "\n",
        "# introduce(**a)\n",
        "introduce(name = \"이재진\")"
      ],
      "metadata": {
        "colab": {
          "base_uri": "https://localhost:8080/"
        },
        "id": "Y73gjRAJo-6J",
        "outputId": "9ec7430c-77e9-4690-b1e2-68f918e9e910"
      },
      "execution_count": 117,
      "outputs": [
        {
          "output_type": "stream",
          "name": "stdout",
          "text": [
            "이름 : 이재진\n"
          ]
        }
      ]
    },
    {
      "cell_type": "code",
      "source": [
        "def introduce(**kwargs): # kw + args : kwargs (dictionary)\n",
        "    print(f\"이름 : {kwargs.get('name', '없음')}\") # 기본값 넣어준다\n",
        "    print(f\"나이 : {kwargs.get('age', 27)}\")\n",
        "    print(f\"주소 : {kwargs.get('address', '주소불명')}\")\n",
        "\n",
        "# introduce(**a)\n",
        "introduce()\n",
        "introduce(name=\"이재진\", age=10, address='대한민국')"
      ],
      "metadata": {
        "colab": {
          "base_uri": "https://localhost:8080/"
        },
        "id": "bOKiv2AMaoa-",
        "outputId": "95c08005-faac-415a-e218-b06a092383c7"
      },
      "execution_count": 100,
      "outputs": [
        {
          "output_type": "stream",
          "name": "stdout",
          "text": [
            "이름 : 없음\n",
            "나이 : 27\n",
            "주소 : 주소불명\n",
            "이름 : 이재진\n",
            "나이 : 10\n",
            "주소 : 대한민국\n"
          ]
        }
      ]
    },
    {
      "cell_type": "code",
      "source": [
        "def introduce(**kwargs): # kw + args : kwargs(dictionary)\n",
        "        print(f\"이름 : {kwargs ['name']}\")\n",
        "        print(f\"나이 : {kwargs ['age']}\")\n",
        "        print(f\"주소 : {kwargs ['address']}\")\n",
        "\n",
        "# introduce(**a)\n",
        "introduce(name = \"붕붕이\")"
      ],
      "metadata": {
        "id": "AwhplhAurrqT"
      },
      "execution_count": null,
      "outputs": []
    },
    {
      "cell_type": "markdown",
      "source": [
        "인수 함수를 만들 수 있습니다. 그리고 이런 함수를 호출할 때는 키워드와 인수를 각각 넣거나 딕셔너리 언패킹을 사용하면 됩니다.\n",
        "\n",
        "보통 **kwargs를 사용한 가변 인수 함수는 다음과 같이 함수 안에서 특정 키가 있는지 확인한 뒤 해당 기능을 만듭니다."
      ],
      "metadata": {
        "id": "MotN-iQjpLNW"
      }
    },
    {
      "cell_type": "markdown",
      "source": [
        "### 고정 인수와 가변 인수(키워드 인수)를 함께 사용하기"
      ],
      "metadata": {
        "id": "s-OwRQpYpRwg"
      }
    },
    {
      "cell_type": "markdown",
      "source": [
        "고정 인수와 가변 인수(키워드 인수)를 함께 사용할 때는 다음과 같이 고정 매개변수를 먼저 지정하고, 그 다음 매개변수에 **를 붙여주면 됩니다."
      ],
      "metadata": {
        "id": "tSD6LFGTpV82"
      }
    },
    {
      "cell_type": "code",
      "source": [
        "def introduce(repeat, **kwargs): # kw + args : kwargs (dictionary)\n",
        "    for i in range(repeat):\n",
        "        print(f\"이름 : {kwargs.get('name', '없음')}\")\n",
        "        print(f\"나이 : {kwargs.get('age', -99)}\")\n",
        "        print(f\"주소 : {kwargs.get('address', '주소불명')}\")\n",
        "\n",
        "# introduce(**a)\n",
        "introduce(2)\n",
        "introduce(3, name=\"붕붕이\", age=10, address='서울 양재천')"
      ],
      "metadata": {
        "colab": {
          "base_uri": "https://localhost:8080/"
        },
        "id": "vS9jFSYIpObs",
        "outputId": "4a2d8e06-b39b-46de-fead-752ea1ef43a8"
      },
      "execution_count": 95,
      "outputs": [
        {
          "output_type": "stream",
          "name": "stdout",
          "text": [
            "이름 : 없음\n",
            "나이 : -99\n",
            "주소 : 주소불명\n",
            "이름 : 없음\n",
            "나이 : -99\n",
            "주소 : 주소불명\n",
            "이름 : 붕붕이\n",
            "나이 : 10\n",
            "주소 : 서울 양재천\n",
            "이름 : 붕붕이\n",
            "나이 : 10\n",
            "주소 : 서울 양재천\n",
            "이름 : 붕붕이\n",
            "나이 : 10\n",
            "주소 : 서울 양재천\n"
          ]
        }
      ]
    },
    {
      "cell_type": "code",
      "source": [
        "introduce(name=\"붕붕이\", age=10, address='서울 양재천', 3)"
      ],
      "metadata": {
        "colab": {
          "base_uri": "https://localhost:8080/",
          "height": 156
        },
        "id": "SG-99VUhaKg1",
        "outputId": "af0187b5-0128-4550-9fd8-70befe0b2ee1"
      },
      "execution_count": 96,
      "outputs": [
        {
          "output_type": "error",
          "ename": "SyntaxError",
          "evalue": "ignored",
          "traceback": [
            "\u001b[0;36m  File \u001b[0;32m\"<ipython-input-96-f95a53c45331>\"\u001b[0;36m, line \u001b[0;32m1\u001b[0m\n\u001b[0;31m    introduce(name=\"붕붕이\", age=10, address='서울 양재천', 3)\u001b[0m\n\u001b[0m                                                      \n^\u001b[0m\n\u001b[0;31mSyntaxError\u001b[0m\u001b[0;31m:\u001b[0m positional argument follows keyword argument\n"
          ]
        }
      ]
    },
    {
      "cell_type": "code",
      "source": [
        "def introduce(**kwargs, repeat): # kw + args : kwargs (dictionary)\n",
        "    for i in range(repeat):\n",
        "        print(f\"이름 : {kwargs.get('name', '없음')}\")\n",
        "        print(f\"나이 : {kwargs.get('age', -99)}\")\n",
        "        print(f\"주소 : {kwargs.get('address', '주소불명')}\")"
      ],
      "metadata": {
        "colab": {
          "base_uri": "https://localhost:8080/",
          "height": 137
        },
        "id": "kLQsKDmXaNBe",
        "outputId": "6ccaecbc-2ea4-4262-9986-6310f8ff1923"
      },
      "execution_count": 97,
      "outputs": [
        {
          "output_type": "error",
          "ename": "SyntaxError",
          "evalue": "ignored",
          "traceback": [
            "\u001b[0;36m  File \u001b[0;32m\"<ipython-input-97-83b76149704c>\"\u001b[0;36m, line \u001b[0;32m1\u001b[0m\n\u001b[0;31m    def introduce(**kwargs, repeat): # kw + args : kwargs (dictionary)\u001b[0m\n\u001b[0m                            ^\u001b[0m\n\u001b[0;31mSyntaxError\u001b[0m\u001b[0;31m:\u001b[0m invalid syntax\n"
          ]
        }
      ]
    },
    {
      "cell_type": "markdown",
      "source": [
        "단, 이때 `def personal_info(**kwargs, name):`처럼 `**kwargs`가 고정 매개변수보다 앞쪽에 오면 안 됩니다. 매개변수 순서에서 `**kwargs`는 반드시 가장 뒤쪽에 와야 합니다."
      ],
      "metadata": {
        "id": "fWKnzoABpeQY"
      }
    },
    {
      "cell_type": "markdown",
      "source": [
        "### 위치 인수와 키워드 인수를 함께 사용하기"
      ],
      "metadata": {
        "id": "WvDt1nHUpoiu"
      }
    },
    {
      "cell_type": "markdown",
      "source": [
        "함수에서 위치 인수를 받는 `*args`와 키워드 인수를 받는 `**kwargs`를 함께 사용할 수도 있습니다. 대표적인 함수가 print인데 print는 출력할 값을 위치 인수로 넣고 sep, end 등을 키워드 인수로 넣습니다. 다음과 같이 함수의 매개변수를 `*args`, `**kwargs`로 지정하면 위치 인수와 키워드 인수를 함께 사용합니다."
      ],
      "metadata": {
        "id": "c3yLDTgspsmN"
      }
    },
    {
      "cell_type": "code",
      "source": [
        "def my_fun(*args, **kwargs):\n",
        "    print(*args, **kwargs)"
      ],
      "metadata": {
        "id": "28bsToycpcmH"
      },
      "execution_count": 89,
      "outputs": []
    },
    {
      "cell_type": "code",
      "source": [
        "my_fun(1, 2, 3, sep=':', end='')"
      ],
      "metadata": {
        "colab": {
          "base_uri": "https://localhost:8080/"
        },
        "id": "myedFjDOsrce",
        "outputId": "6f8ff38b-53f2-415c-980c-db5c9dfcab8d"
      },
      "execution_count": 90,
      "outputs": [
        {
          "output_type": "stream",
          "name": "stdout",
          "text": [
            "1:2:3"
          ]
        }
      ]
    },
    {
      "cell_type": "code",
      "source": [
        "import random\n",
        "\n",
        "def game(start, end, *args, **kwargs):\n",
        "    # 플레이어의 이름을 받고, name\n",
        "    if 'name' not in kwargs:\n",
        "        return print(\"이름을 입력해주세요!\")\n",
        "    # 플레이어가 지불한 금액, money\n",
        "    if 'money' not in kwargs:\n",
        "        return print(\"금액을 입력해주세요!\")\n",
        "    if not len(args):\n",
        "        return print(\"당첨 숫자를 입력해주세요!\")\n",
        "    # start, end(포함)는 수를 뽑는 범위\n",
        "    number = random.choice(range(start, end+1)) # 임의의 번호 뽑기\n",
        "    # for i in range(start, end+1):\n",
        "    #     # args를 당첨 숫자들\n",
        "        # if i in args:\n",
        "        #   print(f\"당첨되었습니다! {i} / \\\\{kwargs['money'] * 2}\")\n",
        "        # 잘못된 설계\n",
        "    if number in args:\n",
        "        print(f\"{kwargs['name']} 님,당첨되었습니다! {number} / \\\\{kwargs['money'] * 2}\")\n",
        "        return kwargs['money'] * 2\n",
        "    else:\n",
        "        print(f\"실패입니다! {number}\")\n",
        "        return 0"
      ],
      "metadata": {
        "id": "Ib6NT6iztARl"
      },
      "execution_count": 91,
      "outputs": []
    },
    {
      "cell_type": "code",
      "source": [
        "# game() 고정 인수가 있으면 오류\n",
        "game(1, 6)\n",
        "game(start=1, end=6)\n",
        "game(1, 6, name=\"만렙도끼\")\n",
        "game(1, 6, name=\"만렙도끼\", money = 100000)\n",
        "game(1, 6, 3, name=\"만렙도끼\", money = 100000)\n",
        "game(1, 6, 1, 2, 3, 4, 5, 6, name=\"만렙도끼\", money = 100000)\n",
        "game(1, 6,*(1, 2, 3, 4, 5, 6), name=\"만렙도끼\", money = 100000)"
      ],
      "metadata": {
        "colab": {
          "base_uri": "https://localhost:8080/"
        },
        "id": "rnBlS_58t-TD",
        "outputId": "04a50044-baaa-47b8-ea67-f52d6eb346fa"
      },
      "execution_count": 92,
      "outputs": [
        {
          "output_type": "stream",
          "name": "stdout",
          "text": [
            "이름을 입력해주세요!\n",
            "이름을 입력해주세요!\n",
            "금액을 입력해주세요!\n",
            "당첨 숫자를 입력해주세요!\n",
            "실패입니다! 6\n",
            "만렙도끼 님,당첨되었습니다! 2 / \\200000\n",
            "만렙도끼 님,당첨되었습니다! 6 / \\200000\n"
          ]
        },
        {
          "output_type": "execute_result",
          "data": {
            "text/plain": [
              "200000"
            ]
          },
          "metadata": {},
          "execution_count": 92
        }
      ]
    },
    {
      "cell_type": "code",
      "source": [
        "seed_money = 100000"
      ],
      "metadata": {
        "id": "gLj9WN2QzHtt"
      },
      "execution_count": 87,
      "outputs": []
    },
    {
      "cell_type": "code",
      "source": [
        "print(f\"게임 전 시드 머니 : {seed_money:.2f}\")\n",
        "m = seed_money * 0.05\n",
        "print(\"$$게임시작$$\")\n",
        "result = game(1, 2, 1, multiple=3, name=\"최민식\", money=m) # 5000 -> 10000, 0\n",
        "seed_money -= m\n",
        "seed_money += result\n",
        "print(f\"게임 후 시드 머니 : {seed_money:.2f}\")"
      ],
      "metadata": {
        "colab": {
          "base_uri": "https://localhost:8080/"
        },
        "id": "hbUaIhjHzLZZ",
        "outputId": "b6bbe5e2-bcf4-4569-dad3-c9fa986226c6"
      },
      "execution_count": 93,
      "outputs": [
        {
          "output_type": "stream",
          "name": "stdout",
          "text": [
            "게임 전 시드 머니 : 100000.00\n",
            "$$게임시작$$\n",
            "실패입니다! 2\n",
            "게임 후 시드 머니 : 95000.00\n"
          ]
        }
      ]
    },
    {
      "cell_type": "code",
      "source": [
        "result = game(1, 2, 1, name=\"최민식\", money=seed_money*0.05)\n",
        "seed_money *= (1 - 0.05)\n",
        "seed_money += result"
      ],
      "metadata": {
        "colab": {
          "base_uri": "https://localhost:8080/"
        },
        "id": "fYtYzzatZ5Sy",
        "outputId": "822e5059-2bce-4c86-e1a5-ac9cbebfc1f3"
      },
      "execution_count": 94,
      "outputs": [
        {
          "output_type": "stream",
          "name": "stdout",
          "text": [
            "최민식 님,당첨되었습니다! 1 / \\9500.0\n"
          ]
        }
      ]
    },
    {
      "cell_type": "markdown",
      "source": [
        "```\n",
        "단, 이때 def custom_print(**kwargs, *args):처럼\n",
        "**kwargs가 *args보다 앞쪽에 오면 안 됩니다.\n",
        "매개변수 순서에서 **kwargs는 반드시 가장 뒤쪽에 와야 합니다.\n",
        "\n",
        "특히 고정 매개변수와 *args, **kwargs를 함께 사용한다면 \n",
        "def custom_print(a, b, *args, **kwargs):처럼 \n",
        "매개변수는 고정 매개변수, *args, **kwargs 순으로 지정해야 합니다.\n",
        "```"
      ],
      "metadata": {
        "id": "HC3dA31hp3tL"
      }
    },
    {
      "cell_type": "markdown",
      "source": [
        "## 매개변수에 초깃값 지정하기"
      ],
      "metadata": {
        "id": "XIaHNaR3qJXP"
      }
    },
    {
      "cell_type": "markdown",
      "source": [
        "지금까지 함수를 호출할 때 항상 인수를 넣어서 값을 전달했습니다. 그러면 인수를 생략할 수는 없을까요? 이때는 함수의 매개변수에 초깃값을 지정하면 됩니다. 초깃값은 다음과 같이 함수를 만들 때 매개변수=값 형식으로 지정합니다.\n",
        "\n",
        "```\n",
        "def 함수이름(매개변수=값):\n",
        "    코드\n",
        "```"
      ],
      "metadata": {
        "id": "SiCXmhZEqxoR"
      }
    },
    {
      "cell_type": "markdown",
      "source": [
        "매개변수의 초깃값은 주로 사용하는 값이 있으면서 가끔 다른 값을 사용해야 할 때 활용합니다. 대표적인 예가 print 함수인데, print 함수의 sep는 초깃값이 ' '(공백)으로 지정되어 있어서 대부분 그대로 사용하고, 가끔 sep에 다른 값을 넣어서 사용합니다."
      ],
      "metadata": {
        "id": "cfFz3bmWq1c0"
      }
    },
    {
      "cell_type": "code",
      "source": [
        "def introduce(name, age, address='비공개'):\n",
        "    print(f'이름 : {name}')\n",
        "    print(f'나이 : {age}')\n",
        "    print(f'주소 : {address}')"
      ],
      "metadata": {
        "id": "bo2b1w8_p1wF"
      },
      "execution_count": null,
      "outputs": []
    },
    {
      "cell_type": "code",
      "source": [
        "introduce(\"홍길동\", 30)"
      ],
      "metadata": {
        "colab": {
          "base_uri": "https://localhost:8080/"
        },
        "id": "Nd5hnVJHq5_r",
        "outputId": "d9c75088-5c11-4ed0-8054-7e436f518bb9"
      },
      "execution_count": null,
      "outputs": [
        {
          "output_type": "stream",
          "name": "stdout",
          "text": [
            "이름:  홍길동\n",
            "나이:  30\n",
            "주소:  비공개\n"
          ]
        }
      ]
    },
    {
      "cell_type": "code",
      "source": [
        "# 매개변수에 초깃값이 지정되어 있더라도 값을 넣으면 해당 값이 전달됩니다.\n",
        "introduce(\"홍길동\", 30, \"서울시 용산구\")"
      ],
      "metadata": {
        "colab": {
          "base_uri": "https://localhost:8080/"
        },
        "id": "U1uofBhgq_Dg",
        "outputId": "4784f7ca-70ac-4dc8-f4bf-08205331f665"
      },
      "execution_count": null,
      "outputs": [
        {
          "output_type": "stream",
          "name": "stdout",
          "text": [
            "이름:  홍길동\n",
            "나이:  30\n",
            "주소:  서울시 용산구 이촌동\n"
          ]
        }
      ]
    },
    {
      "cell_type": "code",
      "source": [
        "def my_cal(interest, tax=0.14):\n",
        "    return interest * (1 - tax * 1.1)"
      ],
      "metadata": {
        "id": "WR301wfZZHdD"
      },
      "execution_count": null,
      "outputs": []
    },
    {
      "cell_type": "code",
      "source": [
        "my_cal(1_000_000)"
      ],
      "metadata": {
        "id": "_ZdIjI1ZZHXc"
      },
      "execution_count": null,
      "outputs": []
    },
    {
      "cell_type": "code",
      "source": [
        "my_cal(1_000_000, 0.1)"
      ],
      "metadata": {
        "id": "lh7cbtpBZHR1"
      },
      "execution_count": null,
      "outputs": []
    },
    {
      "cell_type": "code",
      "source": [
        "def my_cal2(money, rate=0.05, tax=0.14):\n",
        "    return money * rate * (1 - tax * 1.1)"
      ],
      "metadata": {
        "id": "hQ4LjkyOZHLs"
      },
      "execution_count": null,
      "outputs": []
    },
    {
      "cell_type": "code",
      "source": [
        "my_cal2(1_000_000)"
      ],
      "metadata": {
        "id": "G03luzitZK5V"
      },
      "execution_count": null,
      "outputs": []
    },
    {
      "cell_type": "code",
      "source": [
        "my_cal2(1_000_000, rate=0.12, tax=0)"
      ],
      "metadata": {
        "id": "gyvgUCghZLkE"
      },
      "execution_count": null,
      "outputs": []
    },
    {
      "cell_type": "markdown",
      "source": [
        "### 초깃값이 지정된 매개변수의 위치"
      ],
      "metadata": {
        "id": "82Yf7g54rHxN"
      }
    },
    {
      "cell_type": "markdown",
      "source": [
        "매개변수의 초깃값을 지정할 때 한 가지 주의할 점이 있습니다. 초깃값이 지정된 매개변수 다음에는 초깃값이 없는 매개변수가 올 수 없습니다."
      ],
      "metadata": {
        "id": "0naJpS_8rYfy"
      }
    },
    {
      "cell_type": "code",
      "source": [
        "def my_cal2(rate=0.05, money, tax=0.14): # 초기값이 지정되면 뒤쪽에 몰아줘야한다.\n",
        "    return money * rate * (1 - tax * 1.1)"
      ],
      "metadata": {
        "colab": {
          "base_uri": "https://localhost:8080/",
          "height": 137
        },
        "id": "dr_rk30zrDcE",
        "outputId": "b2422792-0040-43b1-e175-f87b01950f3f"
      },
      "execution_count": 85,
      "outputs": [
        {
          "output_type": "error",
          "ename": "SyntaxError",
          "evalue": "ignored",
          "traceback": [
            "\u001b[0;36m  File \u001b[0;32m\"<ipython-input-85-e93e14737069>\"\u001b[0;36m, line \u001b[0;32m1\u001b[0m\n\u001b[0;31m    def my_cal2(rate=0.05, money, tax=0.14):\u001b[0m\n\u001b[0m                ^\u001b[0m\n\u001b[0;31mSyntaxError\u001b[0m\u001b[0;31m:\u001b[0m non-default argument follows default argument\n"
          ]
        }
      ]
    },
    {
      "cell_type": "markdown",
      "source": [
        "초깃값이 지정된 매개변수는 뒤쪽에 몰아주면 됩니다.\n",
        "```\n",
        "def personal_info(name, age, address='비공개'):\n",
        "def personal_info(name, age=0, address='비공개'):\n",
        "def personal_info(name='비공개', age=0, address='비공개'):\n",
        "```"
      ],
      "metadata": {
        "id": "l972VnlQrjcI"
      }
    },
    {
      "cell_type": "markdown",
      "source": [
        "# 람다 표현식"
      ],
      "metadata": {
        "id": "O0V37htzsB7t"
      }
    },
    {
      "cell_type": "markdown",
      "source": [
        "람다 표현식은 식 형태로 되어 있다고 해서 람다 표현식(lambda expression)이라고 부릅니다. 특히 람다 표현식은 함수를 간편하게 작성할 수 있어서 다른 함수의 인수로 넣을 때 주로 사용합니다."
      ],
      "metadata": {
        "id": "NI6j49H_sEY5"
      }
    },
    {
      "cell_type": "markdown",
      "source": [
        "## 람다 표현식으로 함수 만들기"
      ],
      "metadata": {
        "id": "e-dE5RTXsH-M"
      }
    },
    {
      "cell_type": "code",
      "execution_count": 82,
      "metadata": {
        "colab": {
          "base_uri": "https://localhost:8080/"
        },
        "id": "pA553Kopr82H",
        "outputId": "7b02e549-3dac-4df8-d66a-5da9cc92b7e5"
      },
      "outputs": [
        {
          "output_type": "execute_result",
          "data": {
            "text/plain": [
              "11"
            ]
          },
          "metadata": {},
          "execution_count": 82
        }
      ],
      "source": [
        "def plus_ten(x):\n",
        "  return x + 10\n",
        "\n",
        "plus_ten(1)"
      ]
    },
    {
      "cell_type": "markdown",
      "source": [
        "람다 표현식은 다음과 같이 lambda에 매개변수를 지정하고 :(콜론) 뒤에 반환값으로 사용할 식을 지정합니다.\n",
        "\n",
        "* `lambda 매개변수들: 식`"
      ],
      "metadata": {
        "id": "dm8-zwtCsQNe"
      }
    },
    {
      "cell_type": "code",
      "source": [
        "lambda x: x+10 # 람다 객체"
      ],
      "metadata": {
        "colab": {
          "base_uri": "https://localhost:8080/"
        },
        "id": "q0tSmPdVsNz6",
        "outputId": "e8f85b8b-eb10-453e-e998-cd53c8a8319f"
      },
      "execution_count": 83,
      "outputs": [
        {
          "output_type": "execute_result",
          "data": {
            "text/plain": [
              "<function __main__.<lambda>(x)>"
            ]
          },
          "metadata": {},
          "execution_count": 83
        }
      ]
    },
    {
      "cell_type": "markdown",
      "source": [
        "실행을 해보면 함수 객체가 나오는데, 이 상태로는 함수를 호출할 수 없습니다. 왜냐하면 람다 표현식은 이름이 없는 함수를 만들기 때문입니다. 그래서 람다 표현식을 익명 함수(anonymous function)로 부르기도 합니다.\n",
        "\n",
        "lambda로 만든 익명 함수를 호출하려면 다음과 같이 람다 표현식을 변수에 할당해주면 됩니다."
      ],
      "metadata": {
        "id": "ujm2GYH9sVim"
      }
    },
    {
      "cell_type": "code",
      "source": [
        "plus_ten = lambda x: x+10\n",
        "plus_ten(12)"
      ],
      "metadata": {
        "colab": {
          "base_uri": "https://localhost:8080/"
        },
        "id": "ar6lYnq0sTYB",
        "outputId": "7a342f91-08ea-4ae1-8c69-e5e1d4301c14"
      },
      "execution_count": 84,
      "outputs": [
        {
          "output_type": "execute_result",
          "data": {
            "text/plain": [
              "22"
            ]
          },
          "metadata": {},
          "execution_count": 84
        }
      ]
    },
    {
      "cell_type": "markdown",
      "source": [
        "### 람다 표현식 자체를 호출하기"
      ],
      "metadata": {
        "id": "7GJVBpaBsbKQ"
      }
    },
    {
      "cell_type": "markdown",
      "source": [
        "람다 표현식은 변수에 할당하지 않고 람다 표현식 자체를 바로 호출할 수 있습니다. 다음과 같이 람다 표현식을 ( )(괄호)로 묶은 뒤에 다시 ( )를 붙이고 인수를 넣어서 호출하면 됩니다.\n",
        "\n",
        "* `(lambda 매개변수들: 식)(인수들)`"
      ],
      "metadata": {
        "id": "KHt7GGMysdPf"
      }
    },
    {
      "cell_type": "code",
      "source": [
        "(lambda x: x + 10)(100)"
      ],
      "metadata": {
        "colab": {
          "base_uri": "https://localhost:8080/"
        },
        "id": "nyovR2LssYsr",
        "outputId": "dadf0f46-2a4d-47a1-e671-f4ab518e376d"
      },
      "execution_count": 74,
      "outputs": [
        {
          "output_type": "execute_result",
          "data": {
            "text/plain": [
              "110"
            ]
          },
          "metadata": {},
          "execution_count": 74
        }
      ]
    },
    {
      "cell_type": "markdown",
      "source": [
        "### 람다 표현식 안에서는 변수를 만들 수 없다"
      ],
      "metadata": {
        "id": "m91vCVZUslAD"
      }
    },
    {
      "cell_type": "markdown",
      "source": [
        "람다 표현식에서 주의할 점은 람다 표현식 안에서는 새 변수를 만들 수 없다는 점입니다. 따라서 반환값 부분은 변수 없이 식 한 줄로 표현할 수 있어야 합니다. 변수가 필요한 코드일 경우에는 def로 함수를 작성하는 것이 좋습니다."
      ],
      "metadata": {
        "id": "MHaw_mWAsnco"
      }
    },
    {
      "cell_type": "code",
      "source": [
        "(lambda x: y =10; x + y)(1)"
      ],
      "metadata": {
        "colab": {
          "base_uri": "https://localhost:8080/",
          "height": 137
        },
        "id": "92VgQDf_sit6",
        "outputId": "c93e5ac3-2b51-4ada-ab13-497a1b51af4f"
      },
      "execution_count": 70,
      "outputs": [
        {
          "output_type": "error",
          "ename": "SyntaxError",
          "evalue": "ignored",
          "traceback": [
            "\u001b[0;36m  File \u001b[0;32m\"<ipython-input-70-f50197bfa6f7>\"\u001b[0;36m, line \u001b[0;32m1\u001b[0m\n\u001b[0;31m    (lambda x: y =10; x + y)(1)\u001b[0m\n\u001b[0m                 ^\u001b[0m\n\u001b[0;31mSyntaxError\u001b[0m\u001b[0;31m:\u001b[0m invalid syntax\n"
          ]
        }
      ]
    },
    {
      "cell_type": "code",
      "source": [
        "# 단, 람다 표현식 바깥에 있는 변수는 사용할 수 있습니다. 외부 대입 변수는 사용 가능하다.\n",
        "y = 10\n",
        "(lambda x: x+y)(1)"
      ],
      "metadata": {
        "colab": {
          "base_uri": "https://localhost:8080/"
        },
        "id": "B9C2CGGCsqtn",
        "outputId": "b044b398-3c3e-456b-8b08-fdba210fd93a"
      },
      "execution_count": 71,
      "outputs": [
        {
          "output_type": "execute_result",
          "data": {
            "text/plain": [
              "11"
            ]
          },
          "metadata": {},
          "execution_count": 71
        }
      ]
    },
    {
      "cell_type": "code",
      "source": [
        "# 함수 내부에서, 외부에서 사용된 변수를 끌어서 사용하는 건 가능 (람다 표현식도 마찬가지)\n",
        "# 함수 내부에서 전달받은 매개변수나, 그 변수를 통해 선언된 다른 값들은 함수밖에서 호출할 수 없음\n",
        "# 함수 내부에서, 외부에 변수를 호출해서 변경시켰다면, 해당 변경내용은 유지\n",
        "def add(x, y):\n",
        "    return x + y\n",
        "\n",
        "def add_power(x, y):\n",
        "    return (x + y) ** 2\n",
        "\n",
        "z = 2\n",
        "def add_power2(x, y):\n",
        "    return (x + y) ** z"
      ],
      "metadata": {
        "id": "OxdzOoiGYFVP"
      },
      "execution_count": 75,
      "outputs": []
    },
    {
      "cell_type": "code",
      "source": [
        "w = 0"
      ],
      "metadata": {
        "id": "Pz7_jM7JYeM2"
      },
      "execution_count": 76,
      "outputs": []
    },
    {
      "cell_type": "code",
      "source": [
        "# 함수 내부에 선언되지 않은 변수의 경우에는 대입할 수 없다\n",
        "def fun():\n",
        "    print(w)  # 값을 외부로 전달해서 변경하고 싶으면 return 강제"
      ],
      "metadata": {
        "id": "cuIwM6cgYIXm"
      },
      "execution_count": 73,
      "outputs": []
    },
    {
      "cell_type": "code",
      "source": [
        "fun()\n",
        "w"
      ],
      "metadata": {
        "colab": {
          "base_uri": "https://localhost:8080/"
        },
        "id": "0A0PJG69YhV6",
        "outputId": "2a109b94-3453-4d5f-b03b-e8bff6cd9ef2"
      },
      "execution_count": 77,
      "outputs": [
        {
          "output_type": "stream",
          "name": "stdout",
          "text": [
            "0\n"
          ]
        },
        {
          "output_type": "execute_result",
          "data": {
            "text/plain": [
              "0"
            ]
          },
          "metadata": {},
          "execution_count": 77
        }
      ]
    },
    {
      "cell_type": "code",
      "source": [
        "add_power2(10, 10)"
      ],
      "metadata": {
        "colab": {
          "base_uri": "https://localhost:8080/"
        },
        "id": "DeiXmsu3YirL",
        "outputId": "115c638b-9113-466d-9f55-67578b23597d"
      },
      "execution_count": 78,
      "outputs": [
        {
          "output_type": "execute_result",
          "data": {
            "text/plain": [
              "400"
            ]
          },
          "metadata": {},
          "execution_count": 78
        }
      ]
    },
    {
      "cell_type": "code",
      "source": [
        "z = 3\n",
        "add_power2(10, 10)"
      ],
      "metadata": {
        "colab": {
          "base_uri": "https://localhost:8080/"
        },
        "id": "LoEP9VzuYlcz",
        "outputId": "74906fe3-df67-4bea-f217-8ce1bf543eb7"
      },
      "execution_count": 79,
      "outputs": [
        {
          "output_type": "execute_result",
          "data": {
            "text/plain": [
              "8000"
            ]
          },
          "metadata": {},
          "execution_count": 79
        }
      ]
    },
    {
      "cell_type": "code",
      "source": [
        "(lambda x, y: (x + y) ** z)(10, 20)"
      ],
      "metadata": {
        "colab": {
          "base_uri": "https://localhost:8080/"
        },
        "id": "1nifmSSsYlYT",
        "outputId": "058d4ff7-ec3b-4cbc-c85a-e5f4898e1be7"
      },
      "execution_count": 80,
      "outputs": [
        {
          "output_type": "execute_result",
          "data": {
            "text/plain": [
              "27000"
            ]
          },
          "metadata": {},
          "execution_count": 80
        }
      ]
    },
    {
      "cell_type": "code",
      "source": [
        "f = \"{:.2f}\".format\n",
        "def add_float(a, b):\n",
        "    return f(a + b)\n",
        "\n",
        "add_float(1.3745, 2.4857)"
      ],
      "metadata": {
        "colab": {
          "base_uri": "https://localhost:8080/",
          "height": 35
        },
        "id": "5yLU-s_kYoBJ",
        "outputId": "f78d7a9a-9c34-4e9e-cd60-3682b68f8d68"
      },
      "execution_count": 81,
      "outputs": [
        {
          "output_type": "execute_result",
          "data": {
            "text/plain": [
              "'3.86'"
            ],
            "application/vnd.google.colaboratory.intrinsic+json": {
              "type": "string"
            }
          },
          "metadata": {},
          "execution_count": 81
        }
      ]
    },
    {
      "cell_type": "markdown",
      "source": [
        "### 람다 표현식을 인수로 사용하기"
      ],
      "metadata": {
        "id": "ebuUgDrjsxIc"
      }
    },
    {
      "cell_type": "markdown",
      "source": [
        "람다 표현식을 사용하는 이유는 함수의 인수 부분에서 간단하게 함수를 만들기 위해서 입니다. 이런 방식으로 사용하는 대표적인 예가 map입니다."
      ],
      "metadata": {
        "id": "8osUgTp7s0wN"
      }
    },
    {
      "cell_type": "code",
      "source": [
        "list(map(int, [\"11\",\"12\",\"13\"]))"
      ],
      "metadata": {
        "colab": {
          "base_uri": "https://localhost:8080/"
        },
        "id": "FFHxoY6IsvPu",
        "outputId": "e8d97ee4-88fc-4f65-8b7e-d0ca67daa691"
      },
      "execution_count": 68,
      "outputs": [
        {
          "output_type": "execute_result",
          "data": {
            "text/plain": [
              "[11, 12, 13]"
            ]
          },
          "metadata": {},
          "execution_count": 68
        }
      ]
    },
    {
      "cell_type": "code",
      "source": [
        "list(map(lambda x: int(x) ** 2, [\"11\",\"12\",\"13\"]))"
      ],
      "metadata": {
        "colab": {
          "base_uri": "https://localhost:8080/"
        },
        "id": "FOm48x0Qs6p-",
        "outputId": "f228028e-9278-4801-d26c-7712b6d14628"
      },
      "execution_count": 69,
      "outputs": [
        {
          "output_type": "execute_result",
          "data": {
            "text/plain": [
              "[121, 144, 169]"
            ]
          },
          "metadata": {},
          "execution_count": 69
        }
      ]
    }
  ]
}