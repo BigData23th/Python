{
  "nbformat": 4,
  "nbformat_minor": 0,
  "metadata": {
    "colab": {
      "provenance": [],
      "include_colab_link": true
    },
    "kernelspec": {
      "name": "python3",
      "display_name": "Python 3"
    },
    "language_info": {
      "name": "python"
    }
  },
  "cells": [
    {
      "cell_type": "markdown",
      "metadata": {
        "id": "view-in-github",
        "colab_type": "text"
      },
      "source": [
        "<a href=\"https://colab.research.google.com/github/JaejinLee1215/Python_LJJ/blob/main/submission/JaejinLee1215/ch02_09_%EB%AC%B8%EC%9E%90%EC%97%B4_%EC%84%9C%EC%8B%9D_%EC%9D%B4%EC%9E%AC%EC%A7%84.ipynb\" target=\"_parent\"><img src=\"https://colab.research.google.com/assets/colab-badge.svg\" alt=\"Open In Colab\"/></a>"
      ]
    },
    {
      "cell_type": "markdown",
      "source": [
        "# 문자열 서식"
      ],
      "metadata": {
        "id": "QiBSq5Bq143A"
      }
    },
    {
      "cell_type": "markdown",
      "source": [
        "파이썬에서 문자열 포맷팅을 할 때는 f-string, format 메소드, 서식 지정자를 사용할 수 있습니다."
      ],
      "metadata": {
        "id": "wegxJ51w16PT"
      }
    },
    {
      "cell_type": "markdown",
      "source": [
        "## f-string"
      ],
      "metadata": {
        "id": "N0-o1WfZ1_n_"
      }
    },
    {
      "cell_type": "markdown",
      "source": [
        "f-string은 파이썬 3.6 이후부터 사용 가능한 문자열 포맷팅 방법 중 하나입니다. f-string을 사용하면 문자열 안에서 변수의 값을 간단하게 삽입할 수 있으며, 이를 통해 가독성과 코드 작성의 편의성이 크게 향상됩니다."
      ],
      "metadata": {
        "id": "hiZyEX3h2CfD"
      }
    },
    {
      "cell_type": "code",
      "execution_count": 1,
      "metadata": {
        "id": "yALOnLZtvlNp"
      },
      "outputs": [],
      "source": [
        "name = \"Alice\"\n",
        "age = 25"
      ]
    },
    {
      "cell_type": "code",
      "source": [
        "print(\"이름\", name, \"나이\", age, \"세\")"
      ],
      "metadata": {
        "colab": {
          "base_uri": "https://localhost:8080/"
        },
        "id": "y7M_h7BYri-f",
        "outputId": "3d619186-46c4-47a6-8be8-732fbb12e803"
      },
      "execution_count": 2,
      "outputs": [
        {
          "output_type": "stream",
          "name": "stdout",
          "text": [
            "이름 Alice 나이 25 세\n"
          ]
        }
      ]
    },
    {
      "cell_type": "code",
      "source": [
        "print(\"이름\", name, \"나이\", age, \"세\", sep=\"\")"
      ],
      "metadata": {
        "colab": {
          "base_uri": "https://localhost:8080/"
        },
        "id": "y0brnZuBrqi1",
        "outputId": "3cea9f4a-a8d9-4ad3-986c-b4e59f118fed"
      },
      "execution_count": 4,
      "outputs": [
        {
          "output_type": "stream",
          "name": "stdout",
          "text": [
            "이름Alice나이25세\n"
          ]
        }
      ]
    },
    {
      "cell_type": "code",
      "source": [
        "print(\"이름: \", name, \", 나이: \", age, \"세\", sep=\"\")"
      ],
      "metadata": {
        "colab": {
          "base_uri": "https://localhost:8080/"
        },
        "id": "H_H-09o5r3KV",
        "outputId": "8e799f50-22bd-4832-c7e6-b185b0360a89"
      },
      "execution_count": 5,
      "outputs": [
        {
          "output_type": "stream",
          "name": "stdout",
          "text": [
            "이름: Alice, 나이: 25세\n"
          ]
        }
      ]
    },
    {
      "cell_type": "code",
      "source": [
        "\"이름: \" + name + \", 나이: \" + age + \"세\" # age는 숫자라서 str로 변환해줘야함"
      ],
      "metadata": {
        "colab": {
          "base_uri": "https://localhost:8080/",
          "height": 172
        },
        "id": "GuPsvhIPsI2F",
        "outputId": "a6c795ee-409f-4c1b-b380-085bdac74ab0"
      },
      "execution_count": 7,
      "outputs": [
        {
          "output_type": "error",
          "ename": "TypeError",
          "evalue": "ignored",
          "traceback": [
            "\u001b[0;31m---------------------------------------------------------------------------\u001b[0m",
            "\u001b[0;31mTypeError\u001b[0m                                 Traceback (most recent call last)",
            "\u001b[0;32m<ipython-input-7-20a4db844218>\u001b[0m in \u001b[0;36m<module>\u001b[0;34m\u001b[0m\n\u001b[0;32m----> 1\u001b[0;31m \u001b[0;34m\"이름: \"\u001b[0m \u001b[0;34m+\u001b[0m \u001b[0mname\u001b[0m \u001b[0;34m+\u001b[0m \u001b[0;34m\", 나이: \"\u001b[0m \u001b[0;34m+\u001b[0m \u001b[0mage\u001b[0m \u001b[0;34m+\u001b[0m \u001b[0;34m\"세\"\u001b[0m\u001b[0;34m\u001b[0m\u001b[0;34m\u001b[0m\u001b[0m\n\u001b[0m",
            "\u001b[0;31mTypeError\u001b[0m: can only concatenate str (not \"int\") to str"
          ]
        }
      ]
    },
    {
      "cell_type": "code",
      "source": [
        "\"이름: \" + name + \", 나이: \" + str(age) + \"세\""
      ],
      "metadata": {
        "colab": {
          "base_uri": "https://localhost:8080/",
          "height": 35
        },
        "id": "fV0C_dhAsCIa",
        "outputId": "a979b686-f68c-47b8-ba00-c6e45243ba80"
      },
      "execution_count": 6,
      "outputs": [
        {
          "output_type": "execute_result",
          "data": {
            "text/plain": [
              "'이름: Alice, 나이: 25세'"
            ],
            "application/vnd.google.colaboratory.intrinsic+json": {
              "type": "string"
            }
          },
          "metadata": {},
          "execution_count": 6
        }
      ]
    },
    {
      "cell_type": "code",
      "source": [
        "# f\"...\" : f-string\n",
        "# f\"텍스트...{변수명, 리터럴}\" : 포맷팅된 문자열 표현\n",
        "f\"이름 : {name}, 나이 : {age}세\""
      ],
      "metadata": {
        "colab": {
          "base_uri": "https://localhost:8080/",
          "height": 35
        },
        "id": "AfQ5qL-ysPzM",
        "outputId": "2001aa47-f06f-4634-dd47-b8dc98166ff5"
      },
      "execution_count": 9,
      "outputs": [
        {
          "output_type": "execute_result",
          "data": {
            "text/plain": [
              "'이름 : Alice, 나이 : 25세'"
            ],
            "application/vnd.google.colaboratory.intrinsic+json": {
              "type": "string"
            }
          },
          "metadata": {},
          "execution_count": 9
        }
      ]
    },
    {
      "cell_type": "code",
      "source": [
        "# f(...d) : 숫자(정수) 표현을 강제 (int를 씌워주는 효과 -> integer가 아니면 오류)\n",
        "f\"{age:d}\" # decimal : 10진법 숫자로 표현"
      ],
      "metadata": {
        "colab": {
          "base_uri": "https://localhost:8080/",
          "height": 35
        },
        "id": "0jQkmad4spcw",
        "outputId": "30d0568b-fe83-4386-e14d-9298d42a125a"
      },
      "execution_count": 11,
      "outputs": [
        {
          "output_type": "execute_result",
          "data": {
            "text/plain": [
              "'25'"
            ],
            "application/vnd.google.colaboratory.intrinsic+json": {
              "type": "string"
            }
          },
          "metadata": {},
          "execution_count": 11
        }
      ]
    },
    {
      "cell_type": "code",
      "source": [
        "f\"{name:d}\" # decimal : 10진법 숫자로 표현, str은 10진법으로 표현 불가능"
      ],
      "metadata": {
        "colab": {
          "base_uri": "https://localhost:8080/",
          "height": 172
        },
        "id": "c-40xAlasyU8",
        "outputId": "0d89f0ef-0398-473b-98e7-ac5fe6e3d67b"
      },
      "execution_count": 12,
      "outputs": [
        {
          "output_type": "error",
          "ename": "ValueError",
          "evalue": "ignored",
          "traceback": [
            "\u001b[0;31m---------------------------------------------------------------------------\u001b[0m",
            "\u001b[0;31mValueError\u001b[0m                                Traceback (most recent call last)",
            "\u001b[0;32m<ipython-input-12-70f3635ab8ee>\u001b[0m in \u001b[0;36m<module>\u001b[0;34m\u001b[0m\n\u001b[0;32m----> 1\u001b[0;31m \u001b[0;34mf\"{name:d}\"\u001b[0m \u001b[0;31m# decimal : 10진법 숫자로 표현\u001b[0m\u001b[0;34m\u001b[0m\u001b[0;34m\u001b[0m\u001b[0m\n\u001b[0m",
            "\u001b[0;31mValueError\u001b[0m: Unknown format code 'd' for object of type 'str'"
          ]
        }
      ]
    },
    {
      "cell_type": "code",
      "source": [
        "# f{...:0[0의 갯수]d} : zfill(갯수만큼 빈 공간에 0을 채움)\n",
        "f\"{age:02d}\", f\"{1:02d}\", f\"{age:04d}\", str(age).zfill(4)"
      ],
      "metadata": {
        "colab": {
          "base_uri": "https://localhost:8080/"
        },
        "id": "hv3KFwEjtQ1f",
        "outputId": "e053b42d-cefb-4e43-f1b2-dfd22ff3861a"
      },
      "execution_count": 16,
      "outputs": [
        {
          "output_type": "execute_result",
          "data": {
            "text/plain": [
              "('25', '01', '0025', '0025')"
            ]
          },
          "metadata": {},
          "execution_count": 16
        }
      ]
    },
    {
      "cell_type": "code",
      "source": [
        "print(f\"{age:+010d}\")"
      ],
      "metadata": {
        "colab": {
          "base_uri": "https://localhost:8080/"
        },
        "id": "3obti9lgunyg",
        "outputId": "39066587-f798-4c84-a6a4-79fb80172f7d"
      },
      "execution_count": 19,
      "outputs": [
        {
          "output_type": "stream",
          "name": "stdout",
          "text": [
            "+000000025\n"
          ]
        }
      ]
    },
    {
      "cell_type": "code",
      "source": [
        "print(f\"{age:-010d}\")"
      ],
      "metadata": {
        "colab": {
          "base_uri": "https://localhost:8080/"
        },
        "id": "Up8bcqIOurIO",
        "outputId": "2d5754d6-713a-427f-ccf1-f461c02e808c"
      },
      "execution_count": 20,
      "outputs": [
        {
          "output_type": "stream",
          "name": "stdout",
          "text": [
            "0000000025\n"
          ]
        }
      ]
    },
    {
      "cell_type": "code",
      "source": [
        "print(f\"{-100:-101d}\")\n",
        "print(f\"{+100:+101d}\")"
      ],
      "metadata": {
        "colab": {
          "base_uri": "https://localhost:8080/"
        },
        "id": "YT4FYqZ8uw-H",
        "outputId": "a2e000f7-d063-4fc9-f305-d0c2ed83ce7a"
      },
      "execution_count": 21,
      "outputs": [
        {
          "output_type": "stream",
          "name": "stdout",
          "text": [
            "                                                                                                 -100\n",
            "                                                                                                 +100\n"
          ]
        }
      ]
    },
    {
      "cell_type": "code",
      "source": [
        "height = 175.45"
      ],
      "metadata": {
        "id": "qOoUT3lMu-Yf"
      },
      "execution_count": 24,
      "outputs": []
    },
    {
      "cell_type": "code",
      "source": [
        "# f{...:f} : float를 나타냄.\n",
        "f\"{age:f}\", f\"{height:f}\""
      ],
      "metadata": {
        "colab": {
          "base_uri": "https://localhost:8080/"
        },
        "id": "2BL2oRqBvBEv",
        "outputId": "f900c5c2-beb8-49d7-f2d1-7d45e14aca21"
      },
      "execution_count": 25,
      "outputs": [
        {
          "output_type": "execute_result",
          "data": {
            "text/plain": [
              "('25.000000', '175.450000')"
            ]
          },
          "metadata": {},
          "execution_count": 25
        }
      ]
    },
    {
      "cell_type": "code",
      "source": [
        "# f{...:.[표시하고싶은자리수]f} : float를 나타냄.\n",
        "f\"{age:.2f}\", f\"{height:.2f}\", f\"{age:.4f}%\", f\"{height:.4f}\""
      ],
      "metadata": {
        "colab": {
          "base_uri": "https://localhost:8080/"
        },
        "id": "53hioAcWvLA-",
        "outputId": "a4ebcad0-7a75-4274-8c45-237e17222954"
      },
      "execution_count": 26,
      "outputs": [
        {
          "output_type": "execute_result",
          "data": {
            "text/plain": [
              "('25.00', '175.45', '25.0000%', '175.4500')"
            ]
          },
          "metadata": {},
          "execution_count": 26
        }
      ]
    },
    {
      "cell_type": "code",
      "source": [
        "# f{...:0[채울갯수].[표시하고싶은자리수]f} : float를 나타냄\n",
        "f\"{age:010.2f}\", f\"{height:010.2f}\", f\"{age:010.4f}%\", f\"{height:010.4f}\""
      ],
      "metadata": {
        "colab": {
          "base_uri": "https://localhost:8080/"
        },
        "id": "lQmuMcpNvdht",
        "outputId": "85ecfd4d-3599-427c-c8dd-f55e74367274"
      },
      "execution_count": 27,
      "outputs": [
        {
          "output_type": "execute_result",
          "data": {
            "text/plain": [
              "('0000025.00', '0000175.45', '00025.0000%', '00175.4500')"
            ]
          },
          "metadata": {},
          "execution_count": 27
        }
      ]
    },
    {
      "cell_type": "code",
      "source": [
        "print(f\"이름 : {name}, 나이 : {age}세\")\n",
        "print(f\"{age:d}\")\n",
        "print(f\"{age:010d}\")\n",
        "print(f\"{age:+010d}\")\n",
        "print(f\"{height:.2f}\")\n",
        "print(f\"{height:010.2f}\")"
      ],
      "metadata": {
        "colab": {
          "base_uri": "https://localhost:8080/"
        },
        "id": "VrPNj_dOuj-h",
        "outputId": "2834ccd0-f7ff-49ee-f1c0-524802f34eb5"
      },
      "execution_count": 28,
      "outputs": [
        {
          "output_type": "stream",
          "name": "stdout",
          "text": [
            "이름 : Alice, 나이 : 25세\n",
            "25\n",
            "0000000025\n",
            "+000000025\n",
            "175.45\n",
            "0000175.45\n"
          ]
        }
      ]
    },
    {
      "cell_type": "code",
      "source": [
        "f\"{age}\", f'{age}', f\"\"\"{age}\"\"\", f'''{age}'''"
      ],
      "metadata": {
        "colab": {
          "base_uri": "https://localhost:8080/"
        },
        "id": "fSBM4ExQwFVJ",
        "outputId": "0513a341-f0fa-426f-a760-92d6bc3b5d00"
      },
      "execution_count": 30,
      "outputs": [
        {
          "output_type": "execute_result",
          "data": {
            "text/plain": [
              "('25', '25', '25', '25')"
            ]
          },
          "metadata": {},
          "execution_count": 30
        }
      ]
    },
    {
      "cell_type": "code",
      "source": [
        "a = (f\"{age:d}\")\n",
        "b = (f\"{age:010d}\")\n",
        "c = (f\"{age:+010d}\")\n",
        "d = (f\"{height:.2f}\")\n",
        "e = (f\"{height:010.2f}\")\n",
        "\n",
        "print(a)\n",
        "print(b)\n",
        "print(c)\n",
        "print(d)\n",
        "print(e)\n",
        "print(a + b)"
      ],
      "metadata": {
        "colab": {
          "base_uri": "https://localhost:8080/"
        },
        "id": "q1CBAYOAwXyI",
        "outputId": "b1191fe2-2bc9-4158-b323-f631fc5dbee3"
      },
      "execution_count": 32,
      "outputs": [
        {
          "output_type": "stream",
          "name": "stdout",
          "text": [
            "25\n",
            "0000000025\n",
            "+000000025\n",
            "175.45\n",
            "0000175.45\n",
            "250000000025\n"
          ]
        }
      ]
    },
    {
      "cell_type": "markdown",
      "source": [
        "### format 메소드"
      ],
      "metadata": {
        "id": "AHUelcsL2IRR"
      }
    },
    {
      "cell_type": "code",
      "source": [
        "name = \"Alice\"\n",
        "age = 25\n",
        "height = 175.5\n",
        "\n",
        "formatted_str = \"이름: {}, 나이: {}세\".format(name,age) # 순서대로 해야함\n",
        "formatted_str2 = \"이름: {name}, 나이: {age}세\".format(\n",
        "    name=name,\n",
        "    age=age)\n",
        "# 키워드 기반이라서 key와 value값만 맞춰주면 순서 상관 없음\n",
        "print(formatted_str)\n",
        "print(formatted_str2)\n",
        "\n",
        "\n",
        "\n",
        "a = \"{}\".format(age)\n",
        "print(a)\n",
        "\n",
        "b = \"{:010d}\".format(age)\n",
        "print(b)\n",
        "\n",
        "c = \"{:+010d}\".format(age)\n",
        "print(c)\n",
        "\n",
        "d = \"{:.2f}\".format(height)\n",
        "print(d)\n",
        "\n",
        "e = \"{:010.2f}\".format(height)\n",
        "print(e)"
      ],
      "metadata": {
        "colab": {
          "base_uri": "https://localhost:8080/"
        },
        "id": "Gr_6JVoN2FCu",
        "outputId": "2e967527-1fab-4d7a-f73f-d6105762c096"
      },
      "execution_count": 37,
      "outputs": [
        {
          "output_type": "stream",
          "name": "stdout",
          "text": [
            "이름: Alice, 나이: 25세\n",
            "이름: Alice, 나이: 25세\n",
            "25\n",
            "0000000025\n",
            "+000000025\n",
            "175.50\n",
            "0000175.50\n"
          ]
        }
      ]
    },
    {
      "cell_type": "markdown",
      "source": [
        "### 서식 지정자"
      ],
      "metadata": {
        "id": "kubSFPUy2P18"
      }
    },
    {
      "cell_type": "markdown",
      "source": [
        "서식 지정자는 문자열 포맷팅에서 사용하는 기호로, 변수의 값을 특정한 형식으로 표현할 때 사용됩니다. 서식 지정자는 % 기호를 사용하여 문자열에 삽입합니다."
      ],
      "metadata": {
        "id": "TC8qXJoh2Rlg"
      }
    },
    {
      "cell_type": "code",
      "source": [
        "name = \"Alice\"\n",
        "age = 25\n",
        "height = 175.5\n",
        "\n",
        "# formatted_str = \"이름: {}, 나이: {}세\".format(name,age) # 순서대로 해야함\n",
        "formatted_str = \"이름: %s, 나이: %d세\" % (name, age)\n",
        "\n",
        "formatted_str2 = \"이름: {name}, 나이: {age}세\".format(\n",
        "    name=name,\n",
        "    age=age)\n",
        "# 키워드 기반이라서 key와 value값만 맞춰주면 순서 상관 없음\n",
        "print(formatted_str)\n",
        "print(formatted_str2)\n",
        "\n",
        "\n",
        "\n",
        "#a = \"{}\".format(age)\n",
        "a = \"%d\" % age\n",
        "print(a)\n",
        "\n",
        "#b = \"{:010d}\".format(age)\n",
        "b = \"%010d\" % age\n",
        "print(b)\n",
        "\n",
        "#c = \"{:+010d}\".format(age)\n",
        "c = \"%+010d\" % age\n",
        "print(c)\n",
        "\n",
        "#d = \"{:.2f}\".format(height)\n",
        "d = \"%.2f\" % height\n",
        "print(d)\n",
        "\n",
        "#e = \"{:010.2f}\".format(height)\n",
        "e = \"%010.2f\"% height\n",
        "print(e)"
      ],
      "metadata": {
        "colab": {
          "base_uri": "https://localhost:8080/"
        },
        "id": "Q9CEispz2MsF",
        "outputId": "24a0d166-cdee-43fd-b067-bd58db48c361"
      },
      "execution_count": 39,
      "outputs": [
        {
          "output_type": "stream",
          "name": "stdout",
          "text": [
            "이름: Alice, 나이: 25세\n",
            "이름: Alice, 나이: 25세\n",
            "25\n",
            "0000000025\n",
            "+000000025\n",
            "175.50\n",
            "0000175.50\n"
          ]
        }
      ]
    },
    {
      "cell_type": "markdown",
      "source": [
        "## 서식 문자"
      ],
      "metadata": {
        "id": "aAsDwVk027Z1"
      }
    },
    {
      "cell_type": "markdown",
      "source": [
        "서식 지정자에서는 %s, %d, %f 등의 서식 문자를 사용하여 출력할 값의 데이터 타입을 지정할 수 있습니다. 이 서식 문자를 사용하여 문자열, 숫자, 소수점 등을 출력할 수 있습니다. 서식 문자는 f-string, format 메소드 등에서도 활용할 수 있습니다. (%s는 기본값이라 생략됨)\n",
        "\n",
        "%d와 %f를 사용할 때는 정수형 변수와 실수형 변수를 출력할 수 있으며, %s는 문자열 변수를 출력합니다. 이때 %s를 사용할 경우, 변수의 데이터 타입과 상관없이 모든 값을 출력할 수 있습니다."
      ],
      "metadata": {
        "id": "Rk8xmil13AUh"
      }
    },
    {
      "cell_type": "code",
      "source": [
        "# %s : 문자열을 출력할 때 사용합니다.\n",
        "name = \"Alice\"\n",
        "formatted_name = \"이름 : %s\" % name\n",
        "print(formatted_name)\n",
        "print(f\"이름 : {name}\")"
      ],
      "metadata": {
        "colab": {
          "base_uri": "https://localhost:8080/"
        },
        "id": "a7HrNqpa2WHX",
        "outputId": "7fb4e64b-30e3-4e3a-9343-1ce8e9907e2e"
      },
      "execution_count": 51,
      "outputs": [
        {
          "output_type": "stream",
          "name": "stdout",
          "text": [
            "이름 : Alice\n",
            "이름 : Alice\n"
          ]
        }
      ]
    },
    {
      "cell_type": "code",
      "source": [
        "# %d : 10진수 정수를 출력할 때 사용합니다.\n",
        "age = 25\n",
        "formatted_age = \"나이 : %d세\" % age\n",
        "print(formatted_age)\n",
        "print(f\"나이 : {age:d}세\")"
      ],
      "metadata": {
        "colab": {
          "base_uri": "https://localhost:8080/"
        },
        "id": "_szPQML_3Q5G",
        "outputId": "69af838c-f948-49e7-cde1-931b00407e6b"
      },
      "execution_count": 52,
      "outputs": [
        {
          "output_type": "stream",
          "name": "stdout",
          "text": [
            "나이 : 25세\n",
            "나이 : 25세\n"
          ]
        }
      ]
    },
    {
      "cell_type": "code",
      "source": [
        "# %f : 실수를 출력할 때 사용합니다. 기본적으로 소수점 이하 6자리까지 출력됩니다.\n",
        "height = 175.5\n",
        "formatted_height = \"키 : %fcm\" % height # %f시 기본 .6f\n",
        "print(formatted_height)\n",
        "print(f\"키 : {height:.6f}cm\")"
      ],
      "metadata": {
        "colab": {
          "base_uri": "https://localhost:8080/"
        },
        "id": "4uUnI1DK3UXF",
        "outputId": "b98df1e4-8c8c-4d00-e38d-203ddddf9b20"
      },
      "execution_count": 53,
      "outputs": [
        {
          "output_type": "stream",
          "name": "stdout",
          "text": [
            "키 : 175.500000cm\n",
            "키 : 175.500000cm\n"
          ]
        }
      ]
    },
    {
      "cell_type": "markdown",
      "source": [
        "서식 문자를 사용하여 출력할 값의 자리수를 지정할 수도 있습니다. 자리수를 지정하면 해당 자리수만큼 출력되며, 값의 길이가 자리수보다 작으면 빈 칸이 채워집니다."
      ],
      "metadata": {
        "id": "VrTFs87K3ZbS"
      }
    },
    {
      "cell_type": "code",
      "source": [
        "# %[너비]d : [너비] 자리에 출력할 숫자의 자리수를 지정합니다.\n",
        "num = 123\n",
        "a = \"%d\" % num\n",
        "b = \"%5d\" % num\n",
        "c = \"%101d\" % num\n",
        "d = \"%-5d\" % num\n",
        "e = \"%+5d\" % num\n",
        "\n",
        "print(a)\n",
        "print(b)\n",
        "print(c)\n",
        "print(d)\n",
        "print(e)\n",
        "# f = \"%110d\" % num\n",
        "# print(f)"
      ],
      "metadata": {
        "colab": {
          "base_uri": "https://localhost:8080/"
        },
        "id": "VzvSd8n23Xyj",
        "outputId": "7ee97108-ac91-4805-92b4-4d5c8a9a3b1c"
      },
      "execution_count": 54,
      "outputs": [
        {
          "output_type": "stream",
          "name": "stdout",
          "text": [
            "123\n",
            "  123\n",
            "                                                                                                  123\n",
            "123  \n",
            " +123\n"
          ]
        }
      ]
    },
    {
      "cell_type": "code",
      "source": [
        "from math import pi\n",
        "\n",
        "pi"
      ],
      "metadata": {
        "colab": {
          "base_uri": "https://localhost:8080/"
        },
        "id": "xM0NwW8K1ZuZ",
        "outputId": "fda8da0b-a0d0-4d19-fad6-25374dc99ae1"
      },
      "execution_count": 56,
      "outputs": [
        {
          "output_type": "execute_result",
          "data": {
            "text/plain": [
              "3.141592653589793"
            ]
          },
          "metadata": {},
          "execution_count": 56
        }
      ]
    },
    {
      "cell_type": "code",
      "source": [
        "# %[너비].[정밀도]f : [너비] 자리에 출력할 숫자의 자리수를, [정밀도] 자리에 출력할 소수점 이하 자리수를 지정합니다.\n",
        "pi = 3.1415926535\n",
        "\n",
        "a = \"%f\" % pi\n",
        "b = \"%.2f\" % pi\n",
        "c = \"%10.2f\" % pi\n",
        "d = \"%010.2f\" % pi\n",
        "e = \"%-10.2f\" % pi\n",
        "f = \"%+10.2ff\" % pi\n",
        "\n",
        "\n",
        "print(a)\n",
        "print(b)\n",
        "print(c)\n",
        "print(d)\n",
        "print(e)\n",
        "print(f)"
      ],
      "metadata": {
        "colab": {
          "base_uri": "https://localhost:8080/"
        },
        "id": "aZL70I7S3ceb",
        "outputId": "d6ffe37b-7f55-4806-daf9-8c3f1d8e8648"
      },
      "execution_count": 60,
      "outputs": [
        {
          "output_type": "stream",
          "name": "stdout",
          "text": [
            "3.141593\n",
            "3.14\n",
            "      3.14\n",
            "0000003.14\n",
            "3.14      \n",
            "     +3.14f\n"
          ]
        }
      ]
    }
  ]
}