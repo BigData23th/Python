{
  "nbformat": 4,
  "nbformat_minor": 0,
  "metadata": {
    "colab": {
      "provenance": [],
      "authorship_tag": "ABX9TyN4MYkjKEhtBzNh3gslSRmM",
      "include_colab_link": true
    },
    "kernelspec": {
      "name": "python3",
      "display_name": "Python 3"
    },
    "language_info": {
      "name": "python"
    }
  },
  "cells": [
    {
      "cell_type": "markdown",
      "metadata": {
        "id": "view-in-github",
        "colab_type": "text"
      },
      "source": [
        "<a href=\"https://colab.research.google.com/github/JaejinLee1215/Python_LJJ/blob/main/submission/JaejinLee1215/ch02_02_%EB%B3%B5%EC%8A%B5.ipynb\" target=\"_parent\"><img src=\"https://colab.research.google.com/assets/colab-badge.svg\" alt=\"Open In Colab\"/></a>"
      ]
    },
    {
      "cell_type": "markdown",
      "source": [
        "# 시퀀스"
      ],
      "metadata": {
        "id": "8WlW8nrk2GOF"
      }
    },
    {
      "cell_type": "code",
      "execution_count": null,
      "metadata": {
        "id": "vOUI3rguwjJi"
      },
      "outputs": [],
      "source": [
        "# 시퀀스 : 0개 이상의 원소가 나열되어서 묶여 있는 자료형\n",
        "# list, tuple. range, string(str) : 문자열\n",
        "[] # 대괄호, list\n",
        "() # 소활호, tuple\n",
        "\"\", '', '''''', \"\"\"\"\"\" # 문자열"
      ]
    },
    {
      "cell_type": "markdown",
      "source": [
        "## in, not in"
      ],
      "metadata": {
        "id": "WXCvppLP2CUe"
      }
    },
    {
      "cell_type": "code",
      "source": [
        "# 값 in 시퀀스 객체 <-> for 변수명 in 시퀀스 객체:\n",
        "\"파이썬\" in [\"파이썬\", \"자바\", \"자바스크립트\"]"
      ],
      "metadata": {
        "colab": {
          "base_uri": "https://localhost:8080/"
        },
        "id": "c4ZSThir0Qch",
        "outputId": "8f729a27-01be-40a7-dd8b-c274783de359"
      },
      "execution_count": 1,
      "outputs": [
        {
          "output_type": "execute_result",
          "data": {
            "text/plain": [
              "True"
            ]
          },
          "metadata": {},
          "execution_count": 1
        }
      ]
    },
    {
      "cell_type": "code",
      "source": [],
      "metadata": {
        "id": "WFLEzylm2D6M"
      },
      "execution_count": null,
      "outputs": []
    },
    {
      "cell_type": "code",
      "source": [
        "a = \"파이썬\"\n",
        "b = [\"파이썬\", \"자바\", \"자바스크립트\"]\n",
        "a in b # bool값 -> 참, 거짓"
      ],
      "metadata": {
        "colab": {
          "base_uri": "https://localhost:8080/"
        },
        "id": "FPdmGe720lkU",
        "outputId": "a5462f72-b886-4437-86a0-33da8bcd3663"
      },
      "execution_count": 2,
      "outputs": [
        {
          "output_type": "execute_result",
          "data": {
            "text/plain": [
              "True"
            ]
          },
          "metadata": {},
          "execution_count": 2
        }
      ]
    },
    {
      "cell_type": "code",
      "source": [
        "c = \"c언어\"\n",
        "c in b, c not in b"
      ],
      "metadata": {
        "colab": {
          "base_uri": "https://localhost:8080/"
        },
        "id": "5s6c49x6030O",
        "outputId": "5b62f271-5497-4455-9d62-f760ec02c383"
      },
      "execution_count": 4,
      "outputs": [
        {
          "output_type": "execute_result",
          "data": {
            "text/plain": [
              "(False, True)"
            ]
          },
          "metadata": {},
          "execution_count": 4
        }
      ]
    },
    {
      "cell_type": "code",
      "source": [
        "name = \"이재진\"\n",
        "\"이\" in name, \"재진\" in name"
      ],
      "metadata": {
        "colab": {
          "base_uri": "https://localhost:8080/"
        },
        "id": "PGsIOXFe1Z_J",
        "outputId": "bf62fc2d-017a-4a56-f5a6-735d39f79f5a"
      },
      "execution_count": 7,
      "outputs": [
        {
          "output_type": "execute_result",
          "data": {
            "text/plain": [
              "(True, True)"
            ]
          },
          "metadata": {},
          "execution_count": 7
        }
      ]
    },
    {
      "cell_type": "code",
      "source": [
        "sentence = \"아버지가 방에 들어가신다\"\n",
        "\"아버지\" in sentence, \"어머니\" not in sentence"
      ],
      "metadata": {
        "colab": {
          "base_uri": "https://localhost:8080/"
        },
        "id": "TaIpnbB81ySB",
        "outputId": "e3093550-710b-47cd-ad84-847454800a84"
      },
      "execution_count": 8,
      "outputs": [
        {
          "output_type": "execute_result",
          "data": {
            "text/plain": [
              "(True, True)"
            ]
          },
          "metadata": {},
          "execution_count": 8
        }
      ]
    },
    {
      "cell_type": "markdown",
      "source": [
        "## 연결(+)"
      ],
      "metadata": {
        "id": "dhwVEAER2KdN"
      }
    },
    {
      "cell_type": "code",
      "source": [
        "a = [\"사과\",\"배\",\"고라니\"]\n",
        "b = [1, 2, 3, 4, 5, 6]\n",
        "a + b # 연결(concatenate)"
      ],
      "metadata": {
        "colab": {
          "base_uri": "https://localhost:8080/"
        },
        "id": "cDz6eN_B1_E6",
        "outputId": "4e706c74-e5ce-4234-c766-2574d9df7947"
      },
      "execution_count": 9,
      "outputs": [
        {
          "output_type": "execute_result",
          "data": {
            "text/plain": [
              "['사과', '배', '고라니', 1, 2, 3, 4, 5, 6]"
            ]
          },
          "metadata": {},
          "execution_count": 9
        }
      ]
    },
    {
      "cell_type": "code",
      "source": [
        "a, b # 위에서 연결했지만 a, b 원본 원소값들은 변하지 않음"
      ],
      "metadata": {
        "colab": {
          "base_uri": "https://localhost:8080/"
        },
        "id": "MkxQhxvT2gE2",
        "outputId": "e297ebe3-6c2b-4671-9b4f-c6ce5e802ad1"
      },
      "execution_count": 10,
      "outputs": [
        {
          "output_type": "execute_result",
          "data": {
            "text/plain": [
              "(['사과', '배', '고라니'], [1, 2, 3, 4, 5, 6])"
            ]
          },
          "metadata": {},
          "execution_count": 10
        }
      ]
    },
    {
      "cell_type": "code",
      "source": [
        "(1, 2, 3) + (4, 5, 6)"
      ],
      "metadata": {
        "colab": {
          "base_uri": "https://localhost:8080/"
        },
        "id": "R3fxAglX23CQ",
        "outputId": "7b14bc5e-a963-4adf-ea71-565f758079b1"
      },
      "execution_count": 11,
      "outputs": [
        {
          "output_type": "execute_result",
          "data": {
            "text/plain": [
              "(1, 2, 3, 4, 5, 6)"
            ]
          },
          "metadata": {},
          "execution_count": 11
        }
      ]
    },
    {
      "cell_type": "code",
      "source": [
        "\"이삭\" + \"토스트\""
      ],
      "metadata": {
        "colab": {
          "base_uri": "https://localhost:8080/",
          "height": 35
        },
        "id": "9iMqzxLs28y8",
        "outputId": "07294447-d3b3-4683-8ee3-0b65e96b3990"
      },
      "execution_count": 12,
      "outputs": [
        {
          "output_type": "execute_result",
          "data": {
            "text/plain": [
              "'이삭토스트'"
            ],
            "application/vnd.google.colaboratory.intrinsic+json": {
              "type": "string"
            }
          },
          "metadata": {},
          "execution_count": 12
        }
      ]
    },
    {
      "cell_type": "code",
      "source": [
        "range(10) + range(10) # 시작점, 증가폭을 합칠 수가 없어서 range는 합칠 수 없음"
      ],
      "metadata": {
        "colab": {
          "base_uri": "https://localhost:8080/",
          "height": 172
        },
        "id": "8Z59GDKc3By4",
        "outputId": "622eb04d-2095-4edb-9981-bdf54ce24b6a"
      },
      "execution_count": 13,
      "outputs": [
        {
          "output_type": "error",
          "ename": "TypeError",
          "evalue": "ignored",
          "traceback": [
            "\u001b[0;31m---------------------------------------------------------------------------\u001b[0m",
            "\u001b[0;31mTypeError\u001b[0m                                 Traceback (most recent call last)",
            "\u001b[0;32m<ipython-input-13-bf425b1240c8>\u001b[0m in \u001b[0;36m<module>\u001b[0;34m\u001b[0m\n\u001b[0;32m----> 1\u001b[0;31m \u001b[0mrange\u001b[0m\u001b[0;34m(\u001b[0m\u001b[0;36m10\u001b[0m\u001b[0;34m)\u001b[0m \u001b[0;34m+\u001b[0m \u001b[0mrange\u001b[0m\u001b[0;34m(\u001b[0m\u001b[0;36m10\u001b[0m\u001b[0;34m)\u001b[0m\u001b[0;34m\u001b[0m\u001b[0;34m\u001b[0m\u001b[0m\n\u001b[0m",
            "\u001b[0;31mTypeError\u001b[0m: unsupported operand type(s) for +: 'range' and 'range'"
          ]
        }
      ]
    },
    {
      "cell_type": "code",
      "source": [
        "list(range(10)) + list(range(10)) # range를 합치려면 list로 변환해야 한다."
      ],
      "metadata": {
        "colab": {
          "base_uri": "https://localhost:8080/"
        },
        "id": "pn7zMy-t3L9S",
        "outputId": "17561ce9-7d77-45a0-db1f-f78620538190"
      },
      "execution_count": 14,
      "outputs": [
        {
          "output_type": "execute_result",
          "data": {
            "text/plain": [
              "[0, 1, 2, 3, 4, 5, 6, 7, 8, 9, 0, 1, 2, 3, 4, 5, 6, 7, 8, 9]"
            ]
          },
          "metadata": {},
          "execution_count": 14
        }
      ]
    },
    {
      "cell_type": "code",
      "source": [
        "print(\"안녕하세요\", 1, \"학년입니다\")"
      ],
      "metadata": {
        "colab": {
          "base_uri": "https://localhost:8080/"
        },
        "id": "oWtPVedM3Vlx",
        "outputId": "d8f29a3c-39b9-49cf-dcec-f1d9e1a7e9ac"
      },
      "execution_count": 15,
      "outputs": [
        {
          "output_type": "stream",
          "name": "stdout",
          "text": [
            "안녕하세요 1 학년입니다\n"
          ]
        }
      ]
    },
    {
      "cell_type": "code",
      "source": [
        "\"안녕하세요\" + 1 + \"학년입니다\" # int + str : False"
      ],
      "metadata": {
        "colab": {
          "base_uri": "https://localhost:8080/",
          "height": 172
        },
        "id": "RMprFsp33ctK",
        "outputId": "8614ea48-0d3f-45d9-d438-75e31f47e510"
      },
      "execution_count": 17,
      "outputs": [
        {
          "output_type": "error",
          "ename": "TypeError",
          "evalue": "ignored",
          "traceback": [
            "\u001b[0;31m---------------------------------------------------------------------------\u001b[0m",
            "\u001b[0;31mTypeError\u001b[0m                                 Traceback (most recent call last)",
            "\u001b[0;32m<ipython-input-17-2a6f9c3bf3b4>\u001b[0m in \u001b[0;36m<module>\u001b[0;34m\u001b[0m\n\u001b[0;32m----> 1\u001b[0;31m \u001b[0;34m\"안녕하세요\"\u001b[0m \u001b[0;34m+\u001b[0m \u001b[0;36m1\u001b[0m \u001b[0;34m+\u001b[0m \u001b[0;34m\"학년입니다\"\u001b[0m \u001b[0;31m# int + str : x\u001b[0m\u001b[0;34m\u001b[0m\u001b[0;34m\u001b[0m\u001b[0m\n\u001b[0m",
            "\u001b[0;31mTypeError\u001b[0m: can only concatenate str (not \"int\") to str"
          ]
        }
      ]
    },
    {
      "cell_type": "code",
      "source": [
        "\"안녕하세요\" + str(1) + \"학년입니다\" # int -> str 변환, str + str = True"
      ],
      "metadata": {
        "colab": {
          "base_uri": "https://localhost:8080/",
          "height": 35
        },
        "id": "2hUDWpYv3kcd",
        "outputId": "61377611-91cb-4090-ca33-d1369d2a51a7"
      },
      "execution_count": 18,
      "outputs": [
        {
          "output_type": "execute_result",
          "data": {
            "text/plain": [
              "'안녕하세요1학년입니다'"
            ],
            "application/vnd.google.colaboratory.intrinsic+json": {
              "type": "string"
            }
          },
          "metadata": {},
          "execution_count": 18
        }
      ]
    },
    {
      "cell_type": "markdown",
      "source": [
        "## 반복 (*)"
      ],
      "metadata": {
        "id": "s6fGDlyw33sm"
      }
    },
    {
      "cell_type": "code",
      "source": [
        "# 연결을 n번 이상하는, (시퀀스 객체) * n, n * (시퀀스 객체)\n",
        "[1, 10, 100, 1000] * 3"
      ],
      "metadata": {
        "colab": {
          "base_uri": "https://localhost:8080/"
        },
        "id": "cfrld3qo3zRT",
        "outputId": "881f0491-4c52-46ba-d3b5-bdedca5e3b96"
      },
      "execution_count": 19,
      "outputs": [
        {
          "output_type": "execute_result",
          "data": {
            "text/plain": [
              "[1, 10, 100, 1000, 1, 10, 100, 1000, 1, 10, 100, 1000]"
            ]
          },
          "metadata": {},
          "execution_count": 19
        }
      ]
    },
    {
      "cell_type": "code",
      "source": [
        "[1, 10, 100, 1000] + [1, 10, 100, 1000] + [1, 10, 100, 1000]"
      ],
      "metadata": {
        "colab": {
          "base_uri": "https://localhost:8080/"
        },
        "id": "ePXbh8BM4bLT",
        "outputId": "66f6aafa-425a-47a8-c092-6b7e2e00c1e0"
      },
      "execution_count": 20,
      "outputs": [
        {
          "output_type": "execute_result",
          "data": {
            "text/plain": [
              "[1, 10, 100, 1000, 1, 10, 100, 1000, 1, 10, 100, 1000]"
            ]
          },
          "metadata": {},
          "execution_count": 20
        }
      ]
    },
    {
      "cell_type": "code",
      "source": [
        "[0] * 7 # 0을 7개 가진 리스트 만들기"
      ],
      "metadata": {
        "colab": {
          "base_uri": "https://localhost:8080/"
        },
        "id": "AzhZ4aoJ4eyJ",
        "outputId": "322cfb57-d10e-48a4-e4f1-6c455375a333"
      },
      "execution_count": 21,
      "outputs": [
        {
          "output_type": "execute_result",
          "data": {
            "text/plain": [
              "[0, 0, 0, 0, 0, 0, 0]"
            ]
          },
          "metadata": {},
          "execution_count": 21
        }
      ]
    },
    {
      "cell_type": "code",
      "source": [
        "[0] * 0, [0] * -1 # 0 이하의 숫자를 넣으면 빈 리스트"
      ],
      "metadata": {
        "colab": {
          "base_uri": "https://localhost:8080/"
        },
        "id": "mzW4xjkP4u5J",
        "outputId": "cb1fc633-3683-4558-cd83-90294f23380e"
      },
      "execution_count": 23,
      "outputs": [
        {
          "output_type": "execute_result",
          "data": {
            "text/plain": [
              "([], [])"
            ]
          },
          "metadata": {},
          "execution_count": 23
        }
      ]
    },
    {
      "cell_type": "code",
      "source": [
        "(0) * 0, (0) * -1 # 0 이하의 숫자를 넣으면 빈 튜플"
      ],
      "metadata": {
        "colab": {
          "base_uri": "https://localhost:8080/"
        },
        "id": "2GK6emGS46Gl",
        "outputId": "49f76a6f-2ddb-4e8e-e5d8-b6041ff3d4c8"
      },
      "execution_count": 24,
      "outputs": [
        {
          "output_type": "execute_result",
          "data": {
            "text/plain": [
              "(0, 0)"
            ]
          },
          "metadata": {},
          "execution_count": 24
        }
      ]
    },
    {
      "cell_type": "code",
      "source": [
        "range(10) * 10 # range는 불가"
      ],
      "metadata": {
        "colab": {
          "base_uri": "https://localhost:8080/",
          "height": 172
        },
        "id": "Giipvas_4-gK",
        "outputId": "18799207-00e4-4ae2-f1bb-991c80eafb70"
      },
      "execution_count": 25,
      "outputs": [
        {
          "output_type": "error",
          "ename": "TypeError",
          "evalue": "ignored",
          "traceback": [
            "\u001b[0;31m---------------------------------------------------------------------------\u001b[0m",
            "\u001b[0;31mTypeError\u001b[0m                                 Traceback (most recent call last)",
            "\u001b[0;32m<ipython-input-25-a7002218ace3>\u001b[0m in \u001b[0;36m<module>\u001b[0;34m\u001b[0m\n\u001b[0;32m----> 1\u001b[0;31m \u001b[0mrange\u001b[0m\u001b[0;34m(\u001b[0m\u001b[0;36m10\u001b[0m\u001b[0;34m)\u001b[0m \u001b[0;34m*\u001b[0m \u001b[0;36m10\u001b[0m\u001b[0;34m\u001b[0m\u001b[0;34m\u001b[0m\u001b[0m\n\u001b[0m",
            "\u001b[0;31mTypeError\u001b[0m: unsupported operand type(s) for *: 'range' and 'int'"
          ]
        }
      ]
    },
    {
      "cell_type": "code",
      "source": [
        "tuple(range(10)) * 2 # list나 tuple로 변환하면 가능"
      ],
      "metadata": {
        "colab": {
          "base_uri": "https://localhost:8080/"
        },
        "id": "Zl_S8yCg5CwO",
        "outputId": "fe9ea716-6724-43dd-888b-fe3b2e472f35"
      },
      "execution_count": 26,
      "outputs": [
        {
          "output_type": "execute_result",
          "data": {
            "text/plain": [
              "(0, 1, 2, 3, 4, 5, 6, 7, 8, 9, 0, 1, 2, 3, 4, 5, 6, 7, 8, 9)"
            ]
          },
          "metadata": {},
          "execution_count": 26
        }
      ]
    },
    {
      "cell_type": "code",
      "source": [
        "\"퇴실\" * 10"
      ],
      "metadata": {
        "colab": {
          "base_uri": "https://localhost:8080/",
          "height": 35
        },
        "id": "nyR9Ig2H5JNe",
        "outputId": "ae216e72-38e5-4bb0-e605-db6f524c5ee1"
      },
      "execution_count": 27,
      "outputs": [
        {
          "output_type": "execute_result",
          "data": {
            "text/plain": [
              "'퇴실퇴실퇴실퇴실퇴실퇴실퇴실퇴실퇴실퇴실'"
            ],
            "application/vnd.google.colaboratory.intrinsic+json": {
              "type": "string"
            }
          },
          "metadata": {},
          "execution_count": 27
        }
      ]
    },
    {
      "cell_type": "markdown",
      "source": [
        "### len()"
      ],
      "metadata": {
        "id": "8fSnTYPa5aZx"
      }
    },
    {
      "cell_type": "code",
      "source": [
        "len([1, 2, 3]), len((1, 2, 3)), len(range(2, 5, 3)), len(\"문자열\")\n",
        "# JAVA : arry.length(), JS : array.length, Python : len(array)"
      ],
      "metadata": {
        "colab": {
          "base_uri": "https://localhost:8080/"
        },
        "id": "e0fFE-1a5T3g",
        "outputId": "b3fbd3ed-9905-428b-edad-68ea6ba4edc5"
      },
      "execution_count": 28,
      "outputs": [
        {
          "output_type": "execute_result",
          "data": {
            "text/plain": [
              "(3, 3, 1, 3)"
            ]
          },
          "metadata": {},
          "execution_count": 28
        }
      ]
    },
    {
      "cell_type": "markdown",
      "source": [
        "### index"
      ],
      "metadata": {
        "id": "sm9kMSDM51j-"
      }
    },
    {
      "cell_type": "code",
      "source": [
        "# 0부터 시작, 전체 길이 -1\n",
        "a = list(range(100, 600, 100))\n",
        "print(a)"
      ],
      "metadata": {
        "colab": {
          "base_uri": "https://localhost:8080/"
        },
        "id": "-7P4l2XN5v1w",
        "outputId": "7c4fd422-731b-4a99-d096-c1552c2cc6d9"
      },
      "execution_count": 29,
      "outputs": [
        {
          "output_type": "stream",
          "name": "stdout",
          "text": [
            "[100, 200, 300, 400, 500]\n"
          ]
        }
      ]
    },
    {
      "cell_type": "code",
      "source": [
        "a[1], a[2-1], a[1], a[0] # 주소값 헷갈릴 수 있음 주의"
      ],
      "metadata": {
        "colab": {
          "base_uri": "https://localhost:8080/"
        },
        "id": "r4Ym7riD6HJv",
        "outputId": "59a86c52-036d-4a5e-8792-495c583b06d7"
      },
      "execution_count": 30,
      "outputs": [
        {
          "output_type": "execute_result",
          "data": {
            "text/plain": [
              "(200, 200, 200, 100)"
            ]
          },
          "metadata": {},
          "execution_count": 30
        }
      ]
    },
    {
      "cell_type": "code",
      "source": [
        "name = \"김모모씨\"\n",
        "name[0], name[3]"
      ],
      "metadata": {
        "colab": {
          "base_uri": "https://localhost:8080/"
        },
        "id": "jziDOv_h6Wql",
        "outputId": "e1fd34f4-71f0-4665-becf-0ef2129f9f6c"
      },
      "execution_count": 31,
      "outputs": [
        {
          "output_type": "execute_result",
          "data": {
            "text/plain": [
              "('김', '씨')"
            ]
          },
          "metadata": {},
          "execution_count": 31
        }
      ]
    },
    {
      "cell_type": "code",
      "source": [
        "# 음수 인덱스 : 뒤에서부터 카운트, len(시퀀스 객체) - n\n",
        "# a, a[-n] = a[len(a) - n]\n",
        "print(a)\n",
        "a[-1], a[len(a) - 1]"
      ],
      "metadata": {
        "colab": {
          "base_uri": "https://localhost:8080/"
        },
        "id": "GPMFyTsQ6g3M",
        "outputId": "4886bdb9-bee6-486f-9820-caa6e3a7f6b5"
      },
      "execution_count": 34,
      "outputs": [
        {
          "output_type": "stream",
          "name": "stdout",
          "text": [
            "[100, 200, 300, 400, 500]\n"
          ]
        },
        {
          "output_type": "execute_result",
          "data": {
            "text/plain": [
              "(500, 500)"
            ]
          },
          "metadata": {},
          "execution_count": 34
        }
      ]
    },
    {
      "cell_type": "code",
      "source": [
        "a[len(a)] # index 범위를 넘어버림"
      ],
      "metadata": {
        "colab": {
          "base_uri": "https://localhost:8080/",
          "height": 172
        },
        "id": "QxituWiN64ka",
        "outputId": "680102f1-e1a5-4b9c-c4a7-8fdeaf657ad0"
      },
      "execution_count": 35,
      "outputs": [
        {
          "output_type": "error",
          "ename": "IndexError",
          "evalue": "ignored",
          "traceback": [
            "\u001b[0;31m---------------------------------------------------------------------------\u001b[0m",
            "\u001b[0;31mIndexError\u001b[0m                                Traceback (most recent call last)",
            "\u001b[0;32m<ipython-input-35-836f840eaf9f>\u001b[0m in \u001b[0;36m<module>\u001b[0;34m\u001b[0m\n\u001b[0;32m----> 1\u001b[0;31m \u001b[0ma\u001b[0m\u001b[0;34m[\u001b[0m\u001b[0mlen\u001b[0m\u001b[0;34m(\u001b[0m\u001b[0ma\u001b[0m\u001b[0;34m)\u001b[0m\u001b[0;34m]\u001b[0m\u001b[0;34m\u001b[0m\u001b[0;34m\u001b[0m\u001b[0m\n\u001b[0m",
            "\u001b[0;31mIndexError\u001b[0m: list index out of range"
          ]
        }
      ]
    },
    {
      "cell_type": "markdown",
      "source": [
        "## 요소에 값 할당하기\n",
        "* element, 요소, 구성요소, 원소"
      ],
      "metadata": {
        "id": "DaxsawD-7AIu"
      }
    },
    {
      "cell_type": "code",
      "source": [
        "a = [0] * 5\n",
        "print(a)\n",
        "a[0] = 5\n",
        "a[1] = 13\n",
        "a[2] = 34\n",
        "a[3] = 88\n",
        "a[4] = 100\n",
        "a # 원본에 영향"
      ],
      "metadata": {
        "colab": {
          "base_uri": "https://localhost:8080/"
        },
        "id": "VLN4uEOz7MMG",
        "outputId": "11e816be-2723-4f65-f235-953e85ebb059"
      },
      "execution_count": 48,
      "outputs": [
        {
          "output_type": "stream",
          "name": "stdout",
          "text": [
            "[0, 0, 0, 0, 0]\n"
          ]
        },
        {
          "output_type": "execute_result",
          "data": {
            "text/plain": [
              "[5, 13, 34, 88, 100]"
            ]
          },
          "metadata": {},
          "execution_count": 48
        }
      ]
    },
    {
      "cell_type": "markdown",
      "source": [
        "## del 시퀀스 객체[인덱스]"
      ],
      "metadata": {
        "id": "B3zHJbcI_Xwm"
      }
    },
    {
      "cell_type": "code",
      "source": [
        "print(a)"
      ],
      "metadata": {
        "colab": {
          "base_uri": "https://localhost:8080/"
        },
        "id": "EZqpC1eX7zmf",
        "outputId": "47dc743e-4f9e-40b7-eafd-563a6a403478"
      },
      "execution_count": 49,
      "outputs": [
        {
          "output_type": "stream",
          "name": "stdout",
          "text": [
            "[5, 13, 34, 88, 100]\n"
          ]
        }
      ]
    },
    {
      "cell_type": "code",
      "source": [
        "del a[2] # 34 지우기\n",
        "a"
      ],
      "metadata": {
        "colab": {
          "base_uri": "https://localhost:8080/"
        },
        "id": "_2Ww0V3F71vb",
        "outputId": "ac2b2efd-53f2-4e4e-b75b-17217825ed9e"
      },
      "execution_count": 50,
      "outputs": [
        {
          "output_type": "execute_result",
          "data": {
            "text/plain": [
              "[5, 13, 88, 100]"
            ]
          },
          "metadata": {},
          "execution_count": 50
        }
      ]
    },
    {
      "cell_type": "code",
      "source": [
        "# 문자열, 튜플, 레인지 -> 읽기 전용\n",
        "s = \"book\"\n",
        "del s[2]"
      ],
      "metadata": {
        "colab": {
          "base_uri": "https://localhost:8080/",
          "height": 209
        },
        "id": "-oZ37Eaq8D5Z",
        "outputId": "9b857971-43f3-4e06-b347-65723e554a75"
      },
      "execution_count": 52,
      "outputs": [
        {
          "output_type": "error",
          "ename": "TypeError",
          "evalue": "ignored",
          "traceback": [
            "\u001b[0;31m---------------------------------------------------------------------------\u001b[0m",
            "\u001b[0;31mTypeError\u001b[0m                                 Traceback (most recent call last)",
            "\u001b[0;32m<ipython-input-52-855a2db1e8b5>\u001b[0m in \u001b[0;36m<module>\u001b[0;34m\u001b[0m\n\u001b[1;32m      1\u001b[0m \u001b[0;31m# 문자열, 튜플, 레인지 -> 읽기 전용\u001b[0m\u001b[0;34m\u001b[0m\u001b[0;34m\u001b[0m\u001b[0;34m\u001b[0m\u001b[0m\n\u001b[1;32m      2\u001b[0m \u001b[0ms\u001b[0m \u001b[0;34m=\u001b[0m \u001b[0;34m\"book\"\u001b[0m\u001b[0;34m\u001b[0m\u001b[0;34m\u001b[0m\u001b[0m\n\u001b[0;32m----> 3\u001b[0;31m \u001b[0;32mdel\u001b[0m \u001b[0ms\u001b[0m\u001b[0;34m[\u001b[0m\u001b[0;36m2\u001b[0m\u001b[0;34m]\u001b[0m\u001b[0;34m\u001b[0m\u001b[0;34m\u001b[0m\u001b[0m\n\u001b[0m",
            "\u001b[0;31mTypeError\u001b[0m: 'str' object doesn't support item deletion"
          ]
        }
      ]
    },
    {
      "cell_type": "markdown",
      "source": [
        "## 슬라이스"
      ],
      "metadata": {
        "id": "TKYiWB5K_K1n"
      }
    },
    {
      "cell_type": "code",
      "source": [
        "# 시퀀스객체[시작인덱스:끝인덱스]\n",
        "# 시퀀스객체[시작:], 스퀀스객체[:끝]\n",
        "# 시퀀스객체[시작:끝:증가폭]\n",
        "# 시퀀스객체[::증가폭]\n",
        "a = list(range(0, 100, 10))\n",
        "a"
      ],
      "metadata": {
        "colab": {
          "base_uri": "https://localhost:8080/"
        },
        "id": "eSDJ9XEw_mpJ",
        "outputId": "0560ddd6-74cd-4c03-f2eb-800a942bad13"
      },
      "execution_count": 54,
      "outputs": [
        {
          "output_type": "execute_result",
          "data": {
            "text/plain": [
              "[0, 10, 20, 30, 40, 50, 60, 70, 80, 90]"
            ]
          },
          "metadata": {},
          "execution_count": 54
        }
      ]
    },
    {
      "cell_type": "code",
      "source": [
        "# 슬라이스는 원본에 영향을 미치지 않고 사본 만드는 방법\n",
        "a[0:4], len(a), a[0:10], a[0:100] # 인덱스에서는 주소값을 넘으면 오류이지만 슬라이스는 상관없다"
      ],
      "metadata": {
        "colab": {
          "base_uri": "https://localhost:8080/"
        },
        "id": "uL3E8SjL_56j",
        "outputId": "2f2e7e55-7b82-4e9d-90c2-21623b06a3c6"
      },
      "execution_count": 60,
      "outputs": [
        {
          "output_type": "execute_result",
          "data": {
            "text/plain": [
              "([0, 10, 20, 30],\n",
              " 10,\n",
              " [0, 10, 20, 30, 40, 50, 60, 70, 80, 90],\n",
              " [0, 10, 20, 30, 40, 50, 60, 70, 80, 90])"
            ]
          },
          "metadata": {},
          "execution_count": 60
        }
      ]
    },
    {
      "cell_type": "code",
      "source": [
        "a[1:1] # 빈 리스트"
      ],
      "metadata": {
        "colab": {
          "base_uri": "https://localhost:8080/"
        },
        "id": "Qf2DuUO_AVpP",
        "outputId": "ded70c9e-8a8a-4eb6-be34-2fc3140434f4"
      },
      "execution_count": 61,
      "outputs": [
        {
          "output_type": "execute_result",
          "data": {
            "text/plain": [
              "[]"
            ]
          },
          "metadata": {},
          "execution_count": 61
        }
      ]
    },
    {
      "cell_type": "code",
      "source": [
        "a[3:5]"
      ],
      "metadata": {
        "colab": {
          "base_uri": "https://localhost:8080/"
        },
        "id": "h7APwEF_AYHR",
        "outputId": "242d2730-bf92-4dc9-cf78-9a1e2a22479e"
      },
      "execution_count": 63,
      "outputs": [
        {
          "output_type": "execute_result",
          "data": {
            "text/plain": [
              "[30, 40]"
            ]
          },
          "metadata": {},
          "execution_count": 63
        }
      ]
    },
    {
      "cell_type": "code",
      "source": [
        "a[3:-1], a[3:len(a)-1]"
      ],
      "metadata": {
        "colab": {
          "base_uri": "https://localhost:8080/"
        },
        "id": "pySQOj_6Af59",
        "outputId": "49a7be95-713b-413e-f29e-05585ebeae08"
      },
      "execution_count": 64,
      "outputs": [
        {
          "output_type": "execute_result",
          "data": {
            "text/plain": [
              "([30, 40, 50, 60, 70, 80], [30, 40, 50, 60, 70, 80])"
            ]
          },
          "metadata": {},
          "execution_count": 64
        }
      ]
    },
    {
      "cell_type": "code",
      "source": [
        "list(range(1, 5, 2)), a[1:5:2], a[slice(1, 5, 2)] "
      ],
      "metadata": {
        "colab": {
          "base_uri": "https://localhost:8080/"
        },
        "id": "dgIf4gSpAsKy",
        "outputId": "3ac46461-ece8-4a44-be71-43e1197fdbb8"
      },
      "execution_count": 69,
      "outputs": [
        {
          "output_type": "execute_result",
          "data": {
            "text/plain": [
              "([1, 3], [10, 30], [10, 30])"
            ]
          },
          "metadata": {},
          "execution_count": 69
        }
      ]
    },
    {
      "cell_type": "code",
      "source": [
        "a[:], a, a[0:len(a)] # 전체를 나타냄"
      ],
      "metadata": {
        "colab": {
          "base_uri": "https://localhost:8080/"
        },
        "id": "JmSmHXklBH7f",
        "outputId": "48adcea9-82de-46cb-c33c-1a294b8194de"
      },
      "execution_count": 72,
      "outputs": [
        {
          "output_type": "execute_result",
          "data": {
            "text/plain": [
              "([0, 10, 20, 30, 40, 50, 60, 70, 80, 90],\n",
              " [0, 10, 20, 30, 40, 50, 60, 70, 80, 90],\n",
              " [0, 10, 20, 30, 40, 50, 60, 70, 80, 90])"
            ]
          },
          "metadata": {},
          "execution_count": 72
        }
      ]
    },
    {
      "cell_type": "code",
      "source": [
        "a[:5], a[0:5], a[0:5:1]"
      ],
      "metadata": {
        "colab": {
          "base_uri": "https://localhost:8080/"
        },
        "id": "wEsNPm1FBUgQ",
        "outputId": "c7a153e7-3679-4269-b316-32cdc12e5655"
      },
      "execution_count": 77,
      "outputs": [
        {
          "output_type": "execute_result",
          "data": {
            "text/plain": [
              "([0, 10, 20, 30, 40], [0, 10, 20, 30, 40], [0, 10, 20, 30, 40])"
            ]
          },
          "metadata": {},
          "execution_count": 77
        }
      ]
    },
    {
      "cell_type": "code",
      "source": [
        "a[::2], a[0:len(a):2]"
      ],
      "metadata": {
        "colab": {
          "base_uri": "https://localhost:8080/"
        },
        "id": "bAIqSz5YBYBT",
        "outputId": "8ade0b38-e74b-444d-fb6b-1be4dd2f57c5"
      },
      "execution_count": 76,
      "outputs": [
        {
          "output_type": "execute_result",
          "data": {
            "text/plain": [
              "([0, 20, 40, 60, 80], [0, 20, 40, 60, 80])"
            ]
          },
          "metadata": {},
          "execution_count": 76
        }
      ]
    },
    {
      "cell_type": "code",
      "source": [
        "a[::-1], a[len(a)::-1]"
      ],
      "metadata": {
        "colab": {
          "base_uri": "https://localhost:8080/"
        },
        "id": "kldaSXOPBt2E",
        "outputId": "f83a15d2-1398-4f83-d1c4-8cd42c514feb"
      },
      "execution_count": 80,
      "outputs": [
        {
          "output_type": "execute_result",
          "data": {
            "text/plain": [
              "([90, 80, 70, 60, 50, 40, 30, 20, 10, 0],\n",
              " [90, 80, 70, 60, 50, 40, 30, 20, 10, 0])"
            ]
          },
          "metadata": {},
          "execution_count": 80
        }
      ]
    },
    {
      "cell_type": "code",
      "source": [
        "a[20:0:-1], a[20::-1]"
      ],
      "metadata": {
        "colab": {
          "base_uri": "https://localhost:8080/"
        },
        "id": "0GbU3wCaCCzh",
        "outputId": "188377b4-d8ef-4c24-f3b0-ed58fd5bcf11"
      },
      "execution_count": 82,
      "outputs": [
        {
          "output_type": "execute_result",
          "data": {
            "text/plain": [
              "([90, 80, 70, 60, 50, 40, 30, 20, 10], [90, 80, 70, 60, 50, 40, 30, 20, 10, 0])"
            ]
          },
          "metadata": {},
          "execution_count": 82
        }
      ]
    },
    {
      "cell_type": "code",
      "source": [
        "s = \"hello world\"\n",
        "s[::-1], s[::2], s[1:3]"
      ],
      "metadata": {
        "colab": {
          "base_uri": "https://localhost:8080/"
        },
        "id": "mNBAqoiICLND",
        "outputId": "9d1282fd-3749-423d-e67f-76132c293610"
      },
      "execution_count": 84,
      "outputs": [
        {
          "output_type": "execute_result",
          "data": {
            "text/plain": [
              "('dlrow olleh', 'hlowrd', 'el')"
            ]
          },
          "metadata": {},
          "execution_count": 84
        }
      ]
    },
    {
      "cell_type": "code",
      "source": [
        "# 할당하기 -> 특정한 슬라이스 범위에 새로운 값들을 끼워넣기\n",
        "# 리스트 only, 갯수가 일치할 필요가 없음\n",
        "a = [1, 2, 3, 4, 5]\n",
        "print(a[1:3])\n",
        "a[1:3] = [6, 7, 8, 9]\n",
        "a"
      ],
      "metadata": {
        "colab": {
          "base_uri": "https://localhost:8080/"
        },
        "id": "2Hk4UnFYCXbW",
        "outputId": "9f11bd43-2295-425e-98a9-b266adab277a"
      },
      "execution_count": 97,
      "outputs": [
        {
          "output_type": "stream",
          "name": "stdout",
          "text": [
            "[2, 3]\n"
          ]
        },
        {
          "output_type": "execute_result",
          "data": {
            "text/plain": [
              "[1, 6, 7, 8, 9, 4, 5]"
            ]
          },
          "metadata": {},
          "execution_count": 97
        }
      ]
    },
    {
      "cell_type": "code",
      "source": [
        "b = list(range(20))\n",
        "b"
      ],
      "metadata": {
        "colab": {
          "base_uri": "https://localhost:8080/"
        },
        "id": "n9VjdwQ9C1qD",
        "outputId": "bf7dd926-4b33-4ffb-ace0-00ed381a916e"
      },
      "execution_count": 90,
      "outputs": [
        {
          "output_type": "execute_result",
          "data": {
            "text/plain": [
              "[0, 1, 2, 3, 4, 5, 6, 7, 8, 9, 10, 11, 12, 13, 14, 15, 16, 17, 18, 19]"
            ]
          },
          "metadata": {},
          "execution_count": 90
        }
      ]
    },
    {
      "cell_type": "code",
      "source": [
        "b[1:10:2]"
      ],
      "metadata": {
        "colab": {
          "base_uri": "https://localhost:8080/"
        },
        "id": "jRIlegwvC-9C",
        "outputId": "6fd5184c-a0f3-4f41-e8f7-91b8ec2600fa"
      },
      "execution_count": 91,
      "outputs": [
        {
          "output_type": "execute_result",
          "data": {
            "text/plain": [
              "[1, 3, 5, 7, 9]"
            ]
          },
          "metadata": {},
          "execution_count": 91
        }
      ]
    },
    {
      "cell_type": "code",
      "source": [
        "b[1:10:2] = [0] * 5 # 갯수가 맞으므로 정상 실행\n",
        "b"
      ],
      "metadata": {
        "colab": {
          "base_uri": "https://localhost:8080/"
        },
        "id": "vQUbcav5DDmM",
        "outputId": "73e0363d-0fdb-4e68-d8a6-c20735642827"
      },
      "execution_count": 92,
      "outputs": [
        {
          "output_type": "execute_result",
          "data": {
            "text/plain": [
              "[0, 0, 2, 0, 4, 0, 6, 0, 8, 0, 10, 11, 12, 13, 14, 15, 16, 17, 18, 19]"
            ]
          },
          "metadata": {},
          "execution_count": 92
        }
      ]
    },
    {
      "cell_type": "code",
      "source": [
        "b[1:10:2] = [0] # 갯수가 안맞아서 오류"
      ],
      "metadata": {
        "colab": {
          "base_uri": "https://localhost:8080/",
          "height": 172
        },
        "id": "3gvj45pGDJT4",
        "outputId": "072d9469-35c7-4646-f617-9691996d6726"
      },
      "execution_count": 93,
      "outputs": [
        {
          "output_type": "error",
          "ename": "ValueError",
          "evalue": "ignored",
          "traceback": [
            "\u001b[0;31m---------------------------------------------------------------------------\u001b[0m",
            "\u001b[0;31mValueError\u001b[0m                                Traceback (most recent call last)",
            "\u001b[0;32m<ipython-input-93-48f3c3441728>\u001b[0m in \u001b[0;36m<module>\u001b[0;34m\u001b[0m\n\u001b[0;32m----> 1\u001b[0;31m \u001b[0mb\u001b[0m\u001b[0;34m[\u001b[0m\u001b[0;36m1\u001b[0m\u001b[0;34m:\u001b[0m\u001b[0;36m10\u001b[0m\u001b[0;34m:\u001b[0m\u001b[0;36m2\u001b[0m\u001b[0;34m]\u001b[0m \u001b[0;34m=\u001b[0m \u001b[0;34m[\u001b[0m\u001b[0;36m0\u001b[0m\u001b[0;34m]\u001b[0m \u001b[0;31m# 갯수가 안맞아서 오류\u001b[0m\u001b[0;34m\u001b[0m\u001b[0;34m\u001b[0m\u001b[0m\n\u001b[0m",
            "\u001b[0;31mValueError\u001b[0m: attempt to assign sequence of size 1 to extended slice of size 5"
          ]
        }
      ]
    },
    {
      "cell_type": "code",
      "source": [
        "print(a)\n",
        "del a[2:5]\n",
        "a"
      ],
      "metadata": {
        "colab": {
          "base_uri": "https://localhost:8080/"
        },
        "id": "EioRLBz8DR8z",
        "outputId": "d50fcac0-e465-46ff-a576-23072558b170"
      },
      "execution_count": 98,
      "outputs": [
        {
          "output_type": "stream",
          "name": "stdout",
          "text": [
            "[1, 6, 7, 8, 9, 4, 5]\n"
          ]
        },
        {
          "output_type": "execute_result",
          "data": {
            "text/plain": [
              "[1, 6, 4, 5]"
            ]
          },
          "metadata": {},
          "execution_count": 98
        }
      ]
    },
    {
      "cell_type": "markdown",
      "source": [
        "# 딕셔너리"
      ],
      "metadata": {
        "id": "Tk_hBgxGDmR2"
      }
    },
    {
      "cell_type": "code",
      "source": [
        "d = {\n",
        "    \"key\" : \"value\"\n",
        "}\n",
        "d"
      ],
      "metadata": {
        "colab": {
          "base_uri": "https://localhost:8080/"
        },
        "id": "B0d8Kgk_Dn5m",
        "outputId": "51d9ef96-7338-4860-b001-604260522345"
      },
      "execution_count": 99,
      "outputs": [
        {
          "output_type": "execute_result",
          "data": {
            "text/plain": [
              "{'key': 'value'}"
            ]
          },
          "metadata": {},
          "execution_count": 99
        }
      ]
    },
    {
      "cell_type": "code",
      "source": [
        "lee = {\n",
        "    \"나이\" : \"27\", \n",
        "    \"취미\" : \"운동\", \n",
        "    \"착함\" : True,\n",
        "    \"좋아하는 언어\" : \"파이썬, 자바, 자바스크립트\"\n",
        "}\n",
        "lee"
      ],
      "metadata": {
        "colab": {
          "base_uri": "https://localhost:8080/"
        },
        "id": "ucNdmvhPEKek",
        "outputId": "22aa3cc1-95ac-4a27-ee48-10a59456b2b2"
      },
      "execution_count": 101,
      "outputs": [
        {
          "output_type": "execute_result",
          "data": {
            "text/plain": [
              "{'나이': '27', '취미': '운동', '착함': True, '좋아하는 언어': '파이썬, 자바, 자바스크립트'}"
            ]
          },
          "metadata": {},
          "execution_count": 101
        }
      ]
    },
    {
      "cell_type": "code",
      "source": [
        "# key , value = 1:1대응\n",
        "kim = {\n",
        "    \"height\" : 170, \n",
        "    \"weight\" : 80, \n",
        "    \"height\" : 180,\n",
        "    \"weight\" : 85\n",
        "} # 중괄호 묶어야한다. 중복된 key이면 뒤에 있는 value값이 들어감\n",
        "kim"
      ],
      "metadata": {
        "colab": {
          "base_uri": "https://localhost:8080/"
        },
        "id": "Z0IfG1XbEkOe",
        "outputId": "03c10df0-4aaa-4b24-b72f-82a49d909d47"
      },
      "execution_count": 105,
      "outputs": [
        {
          "output_type": "execute_result",
          "data": {
            "text/plain": [
              "{'height': 180, 'weight': 85}"
            ]
          },
          "metadata": {},
          "execution_count": 105
        }
      ]
    },
    {
      "cell_type": "code",
      "source": [
        "{range(0,5): 1} # 별로 추천하지 않음\n",
        "# 딕셔너리는 가독성이 중요한데 range같은 경우 더 헷갈림"
      ],
      "metadata": {
        "colab": {
          "base_uri": "https://localhost:8080/"
        },
        "id": "tgN4njQ_FaOw",
        "outputId": "334a41ba-b3e1-4992-ac92-6420e642bd0f"
      },
      "execution_count": 108,
      "outputs": [
        {
          "output_type": "execute_result",
          "data": {
            "text/plain": [
              "{range(0, 5): 1}"
            ]
          },
          "metadata": {},
          "execution_count": 108
        }
      ]
    },
    {
      "cell_type": "code",
      "source": [
        "# 시퀀스형 중에 리스트와, 딕셔너리 자체만 키값으로 쓸 수 없음\n",
        "{ \n",
        "    {} : {}\n",
        "}"
      ],
      "metadata": {
        "colab": {
          "base_uri": "https://localhost:8080/",
          "height": 209
        },
        "id": "v_uIYz49G8AB",
        "outputId": "28c39e09-e47c-437f-a778-dd269829eaae"
      },
      "execution_count": 123,
      "outputs": [
        {
          "output_type": "error",
          "ename": "TypeError",
          "evalue": "ignored",
          "traceback": [
            "\u001b[0;31m---------------------------------------------------------------------------\u001b[0m",
            "\u001b[0;31mTypeError\u001b[0m                                 Traceback (most recent call last)",
            "\u001b[0;32m<ipython-input-123-9f453470c9c5>\u001b[0m in \u001b[0;36m<module>\u001b[0;34m\u001b[0m\n\u001b[0;32m----> 1\u001b[0;31m {\n\u001b[0m\u001b[1;32m      2\u001b[0m     \u001b[0;34m{\u001b[0m\u001b[0;34m}\u001b[0m \u001b[0;34m:\u001b[0m \u001b[0;34m{\u001b[0m\u001b[0;34m}\u001b[0m\u001b[0;34m\u001b[0m\u001b[0;34m\u001b[0m\u001b[0m\n\u001b[1;32m      3\u001b[0m }\n",
            "\u001b[0;31mTypeError\u001b[0m: unhashable type: 'dict'"
          ]
        }
      ]
    },
    {
      "cell_type": "code",
      "source": [
        "{\n",
        "    1:{\n",
        "        2:{\n",
        "            3:{\n",
        "                4:{\n",
        "                    5:{}\n",
        "                }\n",
        "            }\n",
        "        }\n",
        "    }\n",
        "}"
      ],
      "metadata": {
        "colab": {
          "base_uri": "https://localhost:8080/"
        },
        "id": "E7sUjX6WFv2m",
        "outputId": "b0805d8e-6ef3-499e-b8f5-3dad201af80d"
      },
      "execution_count": 111,
      "outputs": [
        {
          "output_type": "execute_result",
          "data": {
            "text/plain": [
              "{1: {2: {3: {4: {5: {}}}}}}"
            ]
          },
          "metadata": {},
          "execution_count": 111
        }
      ]
    },
    {
      "cell_type": "code",
      "source": [
        "kim"
      ],
      "metadata": {
        "colab": {
          "base_uri": "https://localhost:8080/"
        },
        "id": "Ib9aeTSTFjRG",
        "outputId": "c939bf0d-1207-4aaf-d14a-66f5f5fb74ae"
      },
      "execution_count": 109,
      "outputs": [
        {
          "output_type": "execute_result",
          "data": {
            "text/plain": [
              "{'height': 180, 'weight': 85}"
            ]
          },
          "metadata": {},
          "execution_count": 109
        }
      ]
    },
    {
      "cell_type": "code",
      "source": [
        "kim[\"salary\"] = 4000 # Key와 value값 추가\n",
        "kim"
      ],
      "metadata": {
        "colab": {
          "base_uri": "https://localhost:8080/"
        },
        "id": "gBJwlnFIGr9I",
        "outputId": "4898ed1c-eebc-4e60-9eba-4a70bc64c807"
      },
      "execution_count": 120,
      "outputs": [
        {
          "output_type": "execute_result",
          "data": {
            "text/plain": [
              "{'height': 180, 'weight': 85, 'salary': 4000}"
            ]
          },
          "metadata": {},
          "execution_count": 120
        }
      ]
    },
    {
      "cell_type": "code",
      "source": [
        "kim['height']"
      ],
      "metadata": {
        "colab": {
          "base_uri": "https://localhost:8080/"
        },
        "id": "3DNIK-oYFk47",
        "outputId": "68e21e0a-c712-4d3c-c46a-f218cb7c6f60"
      },
      "execution_count": 113,
      "outputs": [
        {
          "output_type": "execute_result",
          "data": {
            "text/plain": [
              "180"
            ]
          },
          "metadata": {},
          "execution_count": 113
        }
      ]
    },
    {
      "cell_type": "code",
      "source": [
        "kim[\"iQ\"] # KeyError"
      ],
      "metadata": {
        "colab": {
          "base_uri": "https://localhost:8080/",
          "height": 172
        },
        "id": "LVxCFtnnFoi2",
        "outputId": "90b8f6c5-e2a6-4ecf-bd59-f454e25334a6"
      },
      "execution_count": 114,
      "outputs": [
        {
          "output_type": "error",
          "ename": "KeyError",
          "evalue": "ignored",
          "traceback": [
            "\u001b[0;31m---------------------------------------------------------------------------\u001b[0m",
            "\u001b[0;31mKeyError\u001b[0m                                  Traceback (most recent call last)",
            "\u001b[0;32m<ipython-input-114-479140c00a48>\u001b[0m in \u001b[0;36m<module>\u001b[0;34m\u001b[0m\n\u001b[0;32m----> 1\u001b[0;31m \u001b[0mkim\u001b[0m\u001b[0;34m[\u001b[0m\u001b[0;34m\"iQ\"\u001b[0m\u001b[0;34m]\u001b[0m \u001b[0;31m# KeyError\u001b[0m\u001b[0;34m\u001b[0m\u001b[0;34m\u001b[0m\u001b[0m\n\u001b[0m",
            "\u001b[0;31mKeyError\u001b[0m: 'iQ'"
          ]
        }
      ]
    },
    {
      "cell_type": "code",
      "source": [
        "\"IQ\" in kim # 시퀀스 객체 (in) - 요소 / 딕셔너리 (in) - 키/ for in - 반복"
      ],
      "metadata": {
        "colab": {
          "base_uri": "https://localhost:8080/"
        },
        "id": "S7gcl3N7GH0w",
        "outputId": "cb16a074-8321-442d-a133-1131a24520ab"
      },
      "execution_count": 115,
      "outputs": [
        {
          "output_type": "execute_result",
          "data": {
            "text/plain": [
              "False"
            ]
          },
          "metadata": {},
          "execution_count": 115
        }
      ]
    },
    {
      "cell_type": "code",
      "source": [
        "\"IQ\" not in kim"
      ],
      "metadata": {
        "colab": {
          "base_uri": "https://localhost:8080/"
        },
        "id": "Qg5TMbWBGVqB",
        "outputId": "7aa5b6d7-18b3-4508-d31d-02b2a0147f14"
      },
      "execution_count": 116,
      "outputs": [
        {
          "output_type": "execute_result",
          "data": {
            "text/plain": [
              "True"
            ]
          },
          "metadata": {},
          "execution_count": 116
        }
      ]
    },
    {
      "cell_type": "code",
      "source": [
        "len(kim) # key의 갯수"
      ],
      "metadata": {
        "colab": {
          "base_uri": "https://localhost:8080/"
        },
        "id": "Us7cyRMQGYGf",
        "outputId": "724fc9f0-d057-48ce-e73b-c28251018692"
      },
      "execution_count": 121,
      "outputs": [
        {
          "output_type": "execute_result",
          "data": {
            "text/plain": [
              "3"
            ]
          },
          "metadata": {},
          "execution_count": 121
        }
      ]
    },
    {
      "cell_type": "code",
      "source": [
        "list(kim) # dict -> list로 감싸주면 -> key를 원소로 가지는 리스트"
      ],
      "metadata": {
        "colab": {
          "base_uri": "https://localhost:8080/"
        },
        "id": "c3-cxJ-DGe2L",
        "outputId": "218c892e-fab3-4f30-b480-f1d0766ee212"
      },
      "execution_count": 122,
      "outputs": [
        {
          "output_type": "execute_result",
          "data": {
            "text/plain": [
              "['height', 'weight', 'salary']"
            ]
          },
          "metadata": {},
          "execution_count": 122
        }
      ]
    },
    {
      "cell_type": "markdown",
      "source": [
        "# 조건문"
      ],
      "metadata": {
        "id": "t0DWBtPuHi4o"
      }
    },
    {
      "cell_type": "markdown",
      "source": [
        "## if"
      ],
      "metadata": {
        "id": "OJFBlFjAHmVf"
      }
    },
    {
      "cell_type": "code",
      "source": [
        "switch = True\n",
        "if switch: # if(...): 조건식 -> 최종적으로 bool 형태로 표현될 수 있는 것\n",
        "  print(\"밝다.\") # if 본문"
      ],
      "metadata": {
        "colab": {
          "base_uri": "https://localhost:8080/"
        },
        "id": "y3ughFTLHinu",
        "outputId": "be172d92-df7c-49bf-a3ba-841b4c087d32"
      },
      "execution_count": 124,
      "outputs": [
        {
          "output_type": "stream",
          "name": "stdout",
          "text": [
            "밝다.\n"
          ]
        }
      ]
    },
    {
      "cell_type": "code",
      "source": [
        "temperature = 40\n",
        "if temperature > 38:\n",
        "    print(\"덥다\")"
      ],
      "metadata": {
        "colab": {
          "base_uri": "https://localhost:8080/"
        },
        "id": "JILb7Ko0H8Hu",
        "outputId": "fd6a6ef5-4be5-424d-a7a9-9cd3adc80323"
      },
      "execution_count": 127,
      "outputs": [
        {
          "output_type": "stream",
          "name": "stdout",
          "text": [
            "덥다\n"
          ]
        }
      ]
    },
    {
      "cell_type": "code",
      "source": [
        "temperature = 30\n",
        "if temperature > 38:\n",
        "    print(\"덥다\")\n",
        "print(\"물 마시고 싶어\") # 들여쓰기의 중요성\n",
        "# 조건식이 False이지만 들여쓰기를 안함으로써 전혀 상관없는 print문이 출력"
      ],
      "metadata": {
        "colab": {
          "base_uri": "https://localhost:8080/"
        },
        "id": "RPqfc7B1IHNY",
        "outputId": "5b2da3a0-3c60-4332-ff1f-196ed14a3b63"
      },
      "execution_count": 130,
      "outputs": [
        {
          "output_type": "stream",
          "name": "stdout",
          "text": [
            "물 마시고 싶어\n"
          ]
        }
      ]
    },
    {
      "cell_type": "markdown",
      "source": [
        "## else"
      ],
      "metadata": {
        "id": "bMUigD9kINRe"
      }
    },
    {
      "cell_type": "code",
      "source": [
        "temperature = 30\n",
        "if temperature > 38:\n",
        "    print(\"덥다\")\n",
        "else: # temperature <= 38:\n",
        "    print(\"괜찮아\")"
      ],
      "metadata": {
        "colab": {
          "base_uri": "https://localhost:8080/"
        },
        "id": "K-NtojyPIMXY",
        "outputId": "5dfe6f88-fa3d-4717-eaa5-e155b236d146"
      },
      "execution_count": 131,
      "outputs": [
        {
          "output_type": "stream",
          "name": "stdout",
          "text": [
            "괜찮아\n"
          ]
        }
      ]
    },
    {
      "cell_type": "markdown",
      "source": [
        "## pass"
      ],
      "metadata": {
        "id": "bcKOhY6PI1LA"
      }
    },
    {
      "cell_type": "code",
      "source": [
        "temperature = 30\n",
        "if temperature > 38:\n",
        "    print(\"덥다\")\n",
        "else: # temperature <= 38:\n",
        "    pass # pass 존재 이유 : block 유지"
      ],
      "metadata": {
        "id": "3U0HcFt6I2_t"
      },
      "execution_count": 132,
      "outputs": []
    },
    {
      "cell_type": "code",
      "source": [
        "pass"
      ],
      "metadata": {
        "id": "LKDw-mUTI6Ru"
      },
      "execution_count": 133,
      "outputs": []
    },
    {
      "cell_type": "code",
      "source": [
        "if True:\n",
        "    #pass\n",
        "else:\n",
        "    print('hello')"
      ],
      "metadata": {
        "colab": {
          "base_uri": "https://localhost:8080/",
          "height": 136
        },
        "id": "Kx_pLg2fI7wg",
        "outputId": "f608e2cf-e3ad-4592-ecd1-6b088fdbb8db"
      },
      "execution_count": 135,
      "outputs": [
        {
          "output_type": "error",
          "ename": "IndentationError",
          "evalue": "ignored",
          "traceback": [
            "\u001b[0;36m  File \u001b[0;32m\"<ipython-input-135-d5333fa6f365>\"\u001b[0;36m, line \u001b[0;32m3\u001b[0m\n\u001b[0;31m    else:\u001b[0m\n\u001b[0m    ^\u001b[0m\n\u001b[0;31mIndentationError\u001b[0m\u001b[0;31m:\u001b[0m expected an indented block\n"
          ]
        }
      ]
    },
    {
      "cell_type": "code",
      "source": [
        "if True:\n",
        "    pass\n",
        "else:\n",
        "    print('hello') # pass로 block 유지하여 오류 없음"
      ],
      "metadata": {
        "id": "AEkKTI19JSvf"
      },
      "execution_count": 136,
      "outputs": []
    },
    {
      "cell_type": "code",
      "source": [
        "if True:\n",
        "    '' # pass랑 비슷한 역할\n",
        "else:\n",
        "    print('hello') # pass로 block 유지하여 오류 없음"
      ],
      "metadata": {
        "id": "V_kAPIrfJcok"
      },
      "execution_count": 137,
      "outputs": []
    },
    {
      "cell_type": "code",
      "source": [
        "name = \"김땡땡\"\n",
        "\n",
        "if name == \"김땡땡\":\n",
        "  print(\"웰컴\")"
      ],
      "metadata": {
        "colab": {
          "base_uri": "https://localhost:8080/"
        },
        "id": "igl9QLUYJiOD",
        "outputId": "3b6ab76e-f7d7-43e2-b13a-7f0578b0740a"
      },
      "execution_count": 139,
      "outputs": [
        {
          "output_type": "stream",
          "name": "stdout",
          "text": [
            "웰컴\n"
          ]
        }
      ]
    },
    {
      "cell_type": "code",
      "source": [
        "if name = \"김땡땡\": # 할당, 동등연산자 구분 중요\n",
        "    print(\"웰컴\")"
      ],
      "metadata": {
        "colab": {
          "base_uri": "https://localhost:8080/",
          "height": 136
        },
        "id": "dLGPyeOKJpA2",
        "outputId": "1cdd45a8-07c3-4ffc-f86d-597c45486185"
      },
      "execution_count": 142,
      "outputs": [
        {
          "output_type": "error",
          "ename": "SyntaxError",
          "evalue": "ignored",
          "traceback": [
            "\u001b[0;36m  File \u001b[0;32m\"<ipython-input-142-81a083356a61>\"\u001b[0;36m, line \u001b[0;32m1\u001b[0m\n\u001b[0;31m    if name = \"김땡땡\":\u001b[0m\n\u001b[0m            ^\u001b[0m\n\u001b[0;31mSyntaxError\u001b[0m\u001b[0;31m:\u001b[0m invalid syntax\n"
          ]
        }
      ]
    },
    {
      "cell_type": "code",
      "source": [
        "if \"김\" in name:\n",
        "    print(\"웰컴\")"
      ],
      "metadata": {
        "colab": {
          "base_uri": "https://localhost:8080/"
        },
        "id": "WibNvW98JvrN",
        "outputId": "7b10eff7-b4ee-4feb-ff0d-9f300c38454c"
      },
      "execution_count": 143,
      "outputs": [
        {
          "output_type": "stream",
          "name": "stdout",
          "text": [
            "웰컴\n"
          ]
        }
      ]
    },
    {
      "cell_type": "markdown",
      "source": [
        "## 삼항연산자 (조건부표현식)"
      ],
      "metadata": {
        "id": "Uk5HKq7MJ7lH"
      }
    },
    {
      "cell_type": "code",
      "source": [
        "a = None # 값은 없고 자리만 있음\n",
        "b = True\n",
        "if b:\n",
        "    a = 10\n",
        "else:\n",
        "    a = 100\n",
        "a"
      ],
      "metadata": {
        "colab": {
          "base_uri": "https://localhost:8080/"
        },
        "id": "Oi4E8tsxJ_v2",
        "outputId": "3df43fd3-e5b2-4f91-9cb7-9a8b72185703"
      },
      "execution_count": 145,
      "outputs": [
        {
          "output_type": "execute_result",
          "data": {
            "text/plain": [
              "10"
            ]
          },
          "metadata": {},
          "execution_count": 145
        }
      ]
    },
    {
      "cell_type": "code",
      "source": [
        "a = 10 if b else 100 # (True 값) if (조건식) else (False 값)\n",
        "a"
      ],
      "metadata": {
        "colab": {
          "base_uri": "https://localhost:8080/"
        },
        "id": "JDzwy544KL-p",
        "outputId": "c6b567d2-69fe-4ed4-b852-41561cdd8208"
      },
      "execution_count": 146,
      "outputs": [
        {
          "output_type": "execute_result",
          "data": {
            "text/plain": [
              "10"
            ]
          },
          "metadata": {},
          "execution_count": 146
        }
      ]
    },
    {
      "cell_type": "code",
      "source": [
        "a = input()\n",
        "\n",
        "if a == \"콜라\":\n",
        "    print(\"콜라 드세요\")\n",
        "elif a == \"사이다\":\n",
        "    print(\"사이다 드세요\")\n",
        "elif a == \"환타\":\n",
        "    print(\"환타 드세요\")"
      ],
      "metadata": {
        "colab": {
          "base_uri": "https://localhost:8080/"
        },
        "id": "GT28izPgKiVU",
        "outputId": "6404e76e-233e-49ef-de96-f87d45640c1f"
      },
      "execution_count": 149,
      "outputs": [
        {
          "output_type": "stream",
          "name": "stdout",
          "text": [
            "사이다\n",
            "사이다 드세요\n"
          ]
        }
      ]
    },
    {
      "cell_type": "markdown",
      "source": [
        "# 반복문"
      ],
      "metadata": {
        "id": "-jkhO2x1OJPX"
      }
    },
    {
      "cell_type": "markdown",
      "source": [
        "## for"
      ],
      "metadata": {
        "id": "J0wYOBV1OQsr"
      }
    },
    {
      "cell_type": "code",
      "source": [
        "for i in range(10): # range랑 같이 쓰면 정수 -> i\n",
        "    print(i, end = \" \")"
      ],
      "metadata": {
        "colab": {
          "base_uri": "https://localhost:8080/"
        },
        "id": "3bZduFNLN-aV",
        "outputId": "e04aa77c-bb96-4516-b7f3-2933740481ef"
      },
      "execution_count": 151,
      "outputs": [
        {
          "output_type": "stream",
          "name": "stdout",
          "text": [
            "0 1 2 3 4 5 6 7 8 9 "
          ]
        }
      ]
    },
    {
      "cell_type": "code",
      "source": [
        "# range(n) : n회 반복\n",
        "for i in \"hello world\": # range가 아닌 시퀀스 형태의 자료형 list -> value(v), string -> char(c)\n",
        "    print(i) # 루프를 돈다"
      ],
      "metadata": {
        "colab": {
          "base_uri": "https://localhost:8080/"
        },
        "id": "K5YMFS3WOb0x",
        "outputId": "c4f1ef6c-3fe4-4928-8f20-58a5cba7ad25"
      },
      "execution_count": 154,
      "outputs": [
        {
          "output_type": "stream",
          "name": "stdout",
          "text": [
            "h\n",
            "e\n",
            "l\n",
            "l\n",
            "o\n",
            " \n",
            "w\n",
            "o\n",
            "r\n",
            "l\n",
            "d\n"
          ]
        }
      ]
    },
    {
      "cell_type": "code",
      "source": [
        "a = [\"배\", \"사과\", \"바나나\"]\n",
        "for i in a:\n",
        "    print(i)"
      ],
      "metadata": {
        "colab": {
          "base_uri": "https://localhost:8080/"
        },
        "id": "-ttAepjjPrfO",
        "outputId": "feb7e63d-25e2-4820-9394-ef74f9845b50"
      },
      "execution_count": 155,
      "outputs": [
        {
          "output_type": "stream",
          "name": "stdout",
          "text": [
            "배\n",
            "사과\n",
            "바나나\n"
          ]
        }
      ]
    },
    {
      "cell_type": "code",
      "source": [
        "for i in reversed(a): # revese + ed : 뒤집혀서 새롭게 형성된 데이터\n",
        "    print(i)"
      ],
      "metadata": {
        "colab": {
          "base_uri": "https://localhost:8080/"
        },
        "id": "Us433_k9P0m9",
        "outputId": "ec4c41a8-484c-4955-c266-994c616db8c2"
      },
      "execution_count": 156,
      "outputs": [
        {
          "output_type": "stream",
          "name": "stdout",
          "text": [
            "바나나\n",
            "사과\n",
            "배\n"
          ]
        }
      ]
    },
    {
      "cell_type": "code",
      "source": [
        "a, list(reversed(a)), a[::-1]"
      ],
      "metadata": {
        "colab": {
          "base_uri": "https://localhost:8080/"
        },
        "id": "qJGo_tlkP_CR",
        "outputId": "a63bee08-1659-4a7e-b25e-34b35a7a0fef"
      },
      "execution_count": 159,
      "outputs": [
        {
          "output_type": "execute_result",
          "data": {
            "text/plain": [
              "(['배', '사과', '바나나'], ['바나나', '사과', '배'], ['바나나', '사과', '배'])"
            ]
          },
          "metadata": {},
          "execution_count": 159
        }
      ]
    },
    {
      "cell_type": "markdown",
      "source": [
        "## while"
      ],
      "metadata": {
        "id": "79HcXvUcQTaO"
      }
    },
    {
      "cell_type": "code",
      "source": [
        "for i in range(10):\n",
        "    print(i, end=\" \")"
      ],
      "metadata": {
        "colab": {
          "base_uri": "https://localhost:8080/"
        },
        "id": "nIMPjDlYQOm1",
        "outputId": "a7c3d8fb-2dd2-42ef-9e7f-f72a7a33794f"
      },
      "execution_count": 160,
      "outputs": [
        {
          "output_type": "stream",
          "name": "stdout",
          "text": [
            "0 1 2 3 4 5 6 7 8 9 "
          ]
        }
      ]
    },
    {
      "cell_type": "markdown",
      "source": [
        "```\n",
        "for (i = 0; i < 10; i++) {\n",
        "    ...\n",
        "}\n",
        "```"
      ],
      "metadata": {
        "id": "GGdd3pylR7kY"
      }
    },
    {
      "cell_type": "code",
      "source": [
        "i = 0 # 초기식\n",
        "while i < 10: # while 조건식\n",
        "    print(i, end=\" \") # ...\n",
        "    i += 1 # 변화식"
      ],
      "metadata": {
        "colab": {
          "base_uri": "https://localhost:8080/"
        },
        "id": "TQYWr6ptQjr7",
        "outputId": "42e1e9a7-853c-452f-b7b7-3bb416a02899"
      },
      "execution_count": 161,
      "outputs": [
        {
          "output_type": "stream",
          "name": "stdout",
          "text": [
            "0 1 2 3 4 5 6 7 8 9 "
          ]
        }
      ]
    },
    {
      "cell_type": "code",
      "source": [
        "money = 10000\n",
        "hit = 0\n",
        "while money > 0:\n",
        "    money -= 100\n",
        "    hit += 1\n",
        "    print(money, \"원 남았습니다.\", hit, \"대 맞았습니다.\")"
      ],
      "metadata": {
        "colab": {
          "base_uri": "https://localhost:8080/"
        },
        "id": "VR4nmznhQ5sR",
        "outputId": "77cbd0cf-6271-4f6d-da0a-f3609ab8b847"
      },
      "execution_count": 164,
      "outputs": [
        {
          "output_type": "stream",
          "name": "stdout",
          "text": [
            "9900 원 남았습니다. 1 대 맞았습니다.\n",
            "9800 원 남았습니다. 2 대 맞았습니다.\n",
            "9700 원 남았습니다. 3 대 맞았습니다.\n",
            "9600 원 남았습니다. 4 대 맞았습니다.\n",
            "9500 원 남았습니다. 5 대 맞았습니다.\n",
            "9400 원 남았습니다. 6 대 맞았습니다.\n",
            "9300 원 남았습니다. 7 대 맞았습니다.\n",
            "9200 원 남았습니다. 8 대 맞았습니다.\n",
            "9100 원 남았습니다. 9 대 맞았습니다.\n",
            "9000 원 남았습니다. 10 대 맞았습니다.\n",
            "8900 원 남았습니다. 11 대 맞았습니다.\n",
            "8800 원 남았습니다. 12 대 맞았습니다.\n",
            "8700 원 남았습니다. 13 대 맞았습니다.\n",
            "8600 원 남았습니다. 14 대 맞았습니다.\n",
            "8500 원 남았습니다. 15 대 맞았습니다.\n",
            "8400 원 남았습니다. 16 대 맞았습니다.\n",
            "8300 원 남았습니다. 17 대 맞았습니다.\n",
            "8200 원 남았습니다. 18 대 맞았습니다.\n",
            "8100 원 남았습니다. 19 대 맞았습니다.\n",
            "8000 원 남았습니다. 20 대 맞았습니다.\n",
            "7900 원 남았습니다. 21 대 맞았습니다.\n",
            "7800 원 남았습니다. 22 대 맞았습니다.\n",
            "7700 원 남았습니다. 23 대 맞았습니다.\n",
            "7600 원 남았습니다. 24 대 맞았습니다.\n",
            "7500 원 남았습니다. 25 대 맞았습니다.\n",
            "7400 원 남았습니다. 26 대 맞았습니다.\n",
            "7300 원 남았습니다. 27 대 맞았습니다.\n",
            "7200 원 남았습니다. 28 대 맞았습니다.\n",
            "7100 원 남았습니다. 29 대 맞았습니다.\n",
            "7000 원 남았습니다. 30 대 맞았습니다.\n",
            "6900 원 남았습니다. 31 대 맞았습니다.\n",
            "6800 원 남았습니다. 32 대 맞았습니다.\n",
            "6700 원 남았습니다. 33 대 맞았습니다.\n",
            "6600 원 남았습니다. 34 대 맞았습니다.\n",
            "6500 원 남았습니다. 35 대 맞았습니다.\n",
            "6400 원 남았습니다. 36 대 맞았습니다.\n",
            "6300 원 남았습니다. 37 대 맞았습니다.\n",
            "6200 원 남았습니다. 38 대 맞았습니다.\n",
            "6100 원 남았습니다. 39 대 맞았습니다.\n",
            "6000 원 남았습니다. 40 대 맞았습니다.\n",
            "5900 원 남았습니다. 41 대 맞았습니다.\n",
            "5800 원 남았습니다. 42 대 맞았습니다.\n",
            "5700 원 남았습니다. 43 대 맞았습니다.\n",
            "5600 원 남았습니다. 44 대 맞았습니다.\n",
            "5500 원 남았습니다. 45 대 맞았습니다.\n",
            "5400 원 남았습니다. 46 대 맞았습니다.\n",
            "5300 원 남았습니다. 47 대 맞았습니다.\n",
            "5200 원 남았습니다. 48 대 맞았습니다.\n",
            "5100 원 남았습니다. 49 대 맞았습니다.\n",
            "5000 원 남았습니다. 50 대 맞았습니다.\n",
            "4900 원 남았습니다. 51 대 맞았습니다.\n",
            "4800 원 남았습니다. 52 대 맞았습니다.\n",
            "4700 원 남았습니다. 53 대 맞았습니다.\n",
            "4600 원 남았습니다. 54 대 맞았습니다.\n",
            "4500 원 남았습니다. 55 대 맞았습니다.\n",
            "4400 원 남았습니다. 56 대 맞았습니다.\n",
            "4300 원 남았습니다. 57 대 맞았습니다.\n",
            "4200 원 남았습니다. 58 대 맞았습니다.\n",
            "4100 원 남았습니다. 59 대 맞았습니다.\n",
            "4000 원 남았습니다. 60 대 맞았습니다.\n",
            "3900 원 남았습니다. 61 대 맞았습니다.\n",
            "3800 원 남았습니다. 62 대 맞았습니다.\n",
            "3700 원 남았습니다. 63 대 맞았습니다.\n",
            "3600 원 남았습니다. 64 대 맞았습니다.\n",
            "3500 원 남았습니다. 65 대 맞았습니다.\n",
            "3400 원 남았습니다. 66 대 맞았습니다.\n",
            "3300 원 남았습니다. 67 대 맞았습니다.\n",
            "3200 원 남았습니다. 68 대 맞았습니다.\n",
            "3100 원 남았습니다. 69 대 맞았습니다.\n",
            "3000 원 남았습니다. 70 대 맞았습니다.\n",
            "2900 원 남았습니다. 71 대 맞았습니다.\n",
            "2800 원 남았습니다. 72 대 맞았습니다.\n",
            "2700 원 남았습니다. 73 대 맞았습니다.\n",
            "2600 원 남았습니다. 74 대 맞았습니다.\n",
            "2500 원 남았습니다. 75 대 맞았습니다.\n",
            "2400 원 남았습니다. 76 대 맞았습니다.\n",
            "2300 원 남았습니다. 77 대 맞았습니다.\n",
            "2200 원 남았습니다. 78 대 맞았습니다.\n",
            "2100 원 남았습니다. 79 대 맞았습니다.\n",
            "2000 원 남았습니다. 80 대 맞았습니다.\n",
            "1900 원 남았습니다. 81 대 맞았습니다.\n",
            "1800 원 남았습니다. 82 대 맞았습니다.\n",
            "1700 원 남았습니다. 83 대 맞았습니다.\n",
            "1600 원 남았습니다. 84 대 맞았습니다.\n",
            "1500 원 남았습니다. 85 대 맞았습니다.\n",
            "1400 원 남았습니다. 86 대 맞았습니다.\n",
            "1300 원 남았습니다. 87 대 맞았습니다.\n",
            "1200 원 남았습니다. 88 대 맞았습니다.\n",
            "1100 원 남았습니다. 89 대 맞았습니다.\n",
            "1000 원 남았습니다. 90 대 맞았습니다.\n",
            "900 원 남았습니다. 91 대 맞았습니다.\n",
            "800 원 남았습니다. 92 대 맞았습니다.\n",
            "700 원 남았습니다. 93 대 맞았습니다.\n",
            "600 원 남았습니다. 94 대 맞았습니다.\n",
            "500 원 남았습니다. 95 대 맞았습니다.\n",
            "400 원 남았습니다. 96 대 맞았습니다.\n",
            "300 원 남았습니다. 97 대 맞았습니다.\n",
            "200 원 남았습니다. 98 대 맞았습니다.\n",
            "100 원 남았습니다. 99 대 맞았습니다.\n",
            "0 원 남았습니다. 100 대 맞았습니다.\n"
          ]
        }
      ]
    },
    {
      "cell_type": "markdown",
      "source": [
        "## break, continue"
      ],
      "metadata": {
        "id": "fkBb8QdKSSuR"
      }
    },
    {
      "cell_type": "code",
      "source": [
        "for i in range(1000):\n",
        "    print(i, i ** 2)\n",
        "    if i ** 2 > 1000:\n",
        "        break"
      ],
      "metadata": {
        "colab": {
          "base_uri": "https://localhost:8080/"
        },
        "id": "hIUw22dGR3Rw",
        "outputId": "5e89bd6b-012e-4c5e-8946-57794ba4b1da"
      },
      "execution_count": 165,
      "outputs": [
        {
          "output_type": "stream",
          "name": "stdout",
          "text": [
            "0 0\n",
            "1 1\n",
            "2 4\n",
            "3 9\n",
            "4 16\n",
            "5 25\n",
            "6 36\n",
            "7 49\n",
            "8 64\n",
            "9 81\n",
            "10 100\n",
            "11 121\n",
            "12 144\n",
            "13 169\n",
            "14 196\n",
            "15 225\n",
            "16 256\n",
            "17 289\n",
            "18 324\n",
            "19 361\n",
            "20 400\n",
            "21 441\n",
            "22 484\n",
            "23 529\n",
            "24 576\n",
            "25 625\n",
            "26 676\n",
            "27 729\n",
            "28 784\n",
            "29 841\n",
            "30 900\n",
            "31 961\n",
            "32 1024\n"
          ]
        }
      ]
    },
    {
      "cell_type": "code",
      "source": [
        "for i in range(1, 100):\n",
        "    if i % 2 == 0: # 짝수\n",
        "        continue\n",
        "    print(i, end=\" \")"
      ],
      "metadata": {
        "colab": {
          "base_uri": "https://localhost:8080/"
        },
        "id": "dZh0Hh10SrUh",
        "outputId": "ca319d86-13bd-45b1-9826-8c17597ededa"
      },
      "execution_count": 169,
      "outputs": [
        {
          "output_type": "stream",
          "name": "stdout",
          "text": [
            "1 3 5 7 9 11 13 15 17 19 21 23 25 27 29 31 33 35 37 39 41 43 45 47 49 51 53 55 57 59 61 63 65 67 69 71 73 75 77 79 81 83 85 87 89 91 93 95 97 99 "
          ]
        }
      ]
    },
    {
      "cell_type": "code",
      "source": [
        "for i in range(1, 100):\n",
        "    if i % 3 != 0: # 3의 배수가 아닌 것들을 필터링\n",
        "        continue\n",
        "    print(i, end=\" \")"
      ],
      "metadata": {
        "colab": {
          "base_uri": "https://localhost:8080/"
        },
        "id": "dRnD42eFTCpz",
        "outputId": "f8081002-0b8b-4ea7-a627-9fbac67cf753"
      },
      "execution_count": 170,
      "outputs": [
        {
          "output_type": "stream",
          "name": "stdout",
          "text": [
            "3 6 9 12 15 18 21 24 27 30 33 36 39 42 45 48 51 54 57 60 63 66 69 72 75 78 81 84 87 90 93 96 99 "
          ]
        }
      ]
    },
    {
      "cell_type": "code",
      "source": [
        "i = 0\n",
        "while True:\n",
        "    i += 1\n",
        "    print(i)\n",
        "    if i > 10:\n",
        "        break"
      ],
      "metadata": {
        "colab": {
          "base_uri": "https://localhost:8080/"
        },
        "id": "mY8G-CZGTO5h",
        "outputId": "8fca4c01-054c-4c48-c6ee-9ce753593f2e"
      },
      "execution_count": 171,
      "outputs": [
        {
          "output_type": "stream",
          "name": "stdout",
          "text": [
            "1\n",
            "2\n",
            "3\n",
            "4\n",
            "5\n",
            "6\n",
            "7\n",
            "8\n",
            "9\n",
            "10\n",
            "11\n"
          ]
        }
      ]
    },
    {
      "cell_type": "code",
      "source": [
        "money = 10000\n",
        "hit = 0\n",
        "while money > 0:\n",
        "    money -= 100\n",
        "    print(money, \"원 남았습니다.\")\n",
        "    if money % 1000 == 0:\n",
        "        print(\"피했습니다\")\n",
        "        continue\n",
        "    hit += 1\n",
        "    print(hit, \"대 맞았습니다.\")"
      ],
      "metadata": {
        "colab": {
          "base_uri": "https://localhost:8080/"
        },
        "id": "VL80ufkiTalF",
        "outputId": "11a4c4a1-79e8-4519-921a-a6ca9b62f812"
      },
      "execution_count": 173,
      "outputs": [
        {
          "output_type": "stream",
          "name": "stdout",
          "text": [
            "9900 원 남았습니다.\n",
            "1 대 맞았습니다.\n",
            "9800 원 남았습니다.\n",
            "2 대 맞았습니다.\n",
            "9700 원 남았습니다.\n",
            "3 대 맞았습니다.\n",
            "9600 원 남았습니다.\n",
            "4 대 맞았습니다.\n",
            "9500 원 남았습니다.\n",
            "5 대 맞았습니다.\n",
            "9400 원 남았습니다.\n",
            "6 대 맞았습니다.\n",
            "9300 원 남았습니다.\n",
            "7 대 맞았습니다.\n",
            "9200 원 남았습니다.\n",
            "8 대 맞았습니다.\n",
            "9100 원 남았습니다.\n",
            "9 대 맞았습니다.\n",
            "9000 원 남았습니다.\n",
            "피했습니다\n",
            "8900 원 남았습니다.\n",
            "10 대 맞았습니다.\n",
            "8800 원 남았습니다.\n",
            "11 대 맞았습니다.\n",
            "8700 원 남았습니다.\n",
            "12 대 맞았습니다.\n",
            "8600 원 남았습니다.\n",
            "13 대 맞았습니다.\n",
            "8500 원 남았습니다.\n",
            "14 대 맞았습니다.\n",
            "8400 원 남았습니다.\n",
            "15 대 맞았습니다.\n",
            "8300 원 남았습니다.\n",
            "16 대 맞았습니다.\n",
            "8200 원 남았습니다.\n",
            "17 대 맞았습니다.\n",
            "8100 원 남았습니다.\n",
            "18 대 맞았습니다.\n",
            "8000 원 남았습니다.\n",
            "피했습니다\n",
            "7900 원 남았습니다.\n",
            "19 대 맞았습니다.\n",
            "7800 원 남았습니다.\n",
            "20 대 맞았습니다.\n",
            "7700 원 남았습니다.\n",
            "21 대 맞았습니다.\n",
            "7600 원 남았습니다.\n",
            "22 대 맞았습니다.\n",
            "7500 원 남았습니다.\n",
            "23 대 맞았습니다.\n",
            "7400 원 남았습니다.\n",
            "24 대 맞았습니다.\n",
            "7300 원 남았습니다.\n",
            "25 대 맞았습니다.\n",
            "7200 원 남았습니다.\n",
            "26 대 맞았습니다.\n",
            "7100 원 남았습니다.\n",
            "27 대 맞았습니다.\n",
            "7000 원 남았습니다.\n",
            "피했습니다\n",
            "6900 원 남았습니다.\n",
            "28 대 맞았습니다.\n",
            "6800 원 남았습니다.\n",
            "29 대 맞았습니다.\n",
            "6700 원 남았습니다.\n",
            "30 대 맞았습니다.\n",
            "6600 원 남았습니다.\n",
            "31 대 맞았습니다.\n",
            "6500 원 남았습니다.\n",
            "32 대 맞았습니다.\n",
            "6400 원 남았습니다.\n",
            "33 대 맞았습니다.\n",
            "6300 원 남았습니다.\n",
            "34 대 맞았습니다.\n",
            "6200 원 남았습니다.\n",
            "35 대 맞았습니다.\n",
            "6100 원 남았습니다.\n",
            "36 대 맞았습니다.\n",
            "6000 원 남았습니다.\n",
            "피했습니다\n",
            "5900 원 남았습니다.\n",
            "37 대 맞았습니다.\n",
            "5800 원 남았습니다.\n",
            "38 대 맞았습니다.\n",
            "5700 원 남았습니다.\n",
            "39 대 맞았습니다.\n",
            "5600 원 남았습니다.\n",
            "40 대 맞았습니다.\n",
            "5500 원 남았습니다.\n",
            "41 대 맞았습니다.\n",
            "5400 원 남았습니다.\n",
            "42 대 맞았습니다.\n",
            "5300 원 남았습니다.\n",
            "43 대 맞았습니다.\n",
            "5200 원 남았습니다.\n",
            "44 대 맞았습니다.\n",
            "5100 원 남았습니다.\n",
            "45 대 맞았습니다.\n",
            "5000 원 남았습니다.\n",
            "피했습니다\n",
            "4900 원 남았습니다.\n",
            "46 대 맞았습니다.\n",
            "4800 원 남았습니다.\n",
            "47 대 맞았습니다.\n",
            "4700 원 남았습니다.\n",
            "48 대 맞았습니다.\n",
            "4600 원 남았습니다.\n",
            "49 대 맞았습니다.\n",
            "4500 원 남았습니다.\n",
            "50 대 맞았습니다.\n",
            "4400 원 남았습니다.\n",
            "51 대 맞았습니다.\n",
            "4300 원 남았습니다.\n",
            "52 대 맞았습니다.\n",
            "4200 원 남았습니다.\n",
            "53 대 맞았습니다.\n",
            "4100 원 남았습니다.\n",
            "54 대 맞았습니다.\n",
            "4000 원 남았습니다.\n",
            "피했습니다\n",
            "3900 원 남았습니다.\n",
            "55 대 맞았습니다.\n",
            "3800 원 남았습니다.\n",
            "56 대 맞았습니다.\n",
            "3700 원 남았습니다.\n",
            "57 대 맞았습니다.\n",
            "3600 원 남았습니다.\n",
            "58 대 맞았습니다.\n",
            "3500 원 남았습니다.\n",
            "59 대 맞았습니다.\n",
            "3400 원 남았습니다.\n",
            "60 대 맞았습니다.\n",
            "3300 원 남았습니다.\n",
            "61 대 맞았습니다.\n",
            "3200 원 남았습니다.\n",
            "62 대 맞았습니다.\n",
            "3100 원 남았습니다.\n",
            "63 대 맞았습니다.\n",
            "3000 원 남았습니다.\n",
            "피했습니다\n",
            "2900 원 남았습니다.\n",
            "64 대 맞았습니다.\n",
            "2800 원 남았습니다.\n",
            "65 대 맞았습니다.\n",
            "2700 원 남았습니다.\n",
            "66 대 맞았습니다.\n",
            "2600 원 남았습니다.\n",
            "67 대 맞았습니다.\n",
            "2500 원 남았습니다.\n",
            "68 대 맞았습니다.\n",
            "2400 원 남았습니다.\n",
            "69 대 맞았습니다.\n",
            "2300 원 남았습니다.\n",
            "70 대 맞았습니다.\n",
            "2200 원 남았습니다.\n",
            "71 대 맞았습니다.\n",
            "2100 원 남았습니다.\n",
            "72 대 맞았습니다.\n",
            "2000 원 남았습니다.\n",
            "피했습니다\n",
            "1900 원 남았습니다.\n",
            "73 대 맞았습니다.\n",
            "1800 원 남았습니다.\n",
            "74 대 맞았습니다.\n",
            "1700 원 남았습니다.\n",
            "75 대 맞았습니다.\n",
            "1600 원 남았습니다.\n",
            "76 대 맞았습니다.\n",
            "1500 원 남았습니다.\n",
            "77 대 맞았습니다.\n",
            "1400 원 남았습니다.\n",
            "78 대 맞았습니다.\n",
            "1300 원 남았습니다.\n",
            "79 대 맞았습니다.\n",
            "1200 원 남았습니다.\n",
            "80 대 맞았습니다.\n",
            "1100 원 남았습니다.\n",
            "81 대 맞았습니다.\n",
            "1000 원 남았습니다.\n",
            "피했습니다\n",
            "900 원 남았습니다.\n",
            "82 대 맞았습니다.\n",
            "800 원 남았습니다.\n",
            "83 대 맞았습니다.\n",
            "700 원 남았습니다.\n",
            "84 대 맞았습니다.\n",
            "600 원 남았습니다.\n",
            "85 대 맞았습니다.\n",
            "500 원 남았습니다.\n",
            "86 대 맞았습니다.\n",
            "400 원 남았습니다.\n",
            "87 대 맞았습니다.\n",
            "300 원 남았습니다.\n",
            "88 대 맞았습니다.\n",
            "200 원 남았습니다.\n",
            "89 대 맞았습니다.\n",
            "100 원 남았습니다.\n",
            "90 대 맞았습니다.\n",
            "0 원 남았습니다.\n",
            "피했습니다\n"
          ]
        }
      ]
    }
  ]
}