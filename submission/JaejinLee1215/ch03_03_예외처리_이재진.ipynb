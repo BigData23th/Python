{
  "nbformat": 4,
  "nbformat_minor": 0,
  "metadata": {
    "colab": {
      "provenance": [],
      "include_colab_link": true
    },
    "kernelspec": {
      "name": "python3",
      "display_name": "Python 3"
    },
    "language_info": {
      "name": "python"
    }
  },
  "cells": [
    {
      "cell_type": "markdown",
      "metadata": {
        "id": "view-in-github",
        "colab_type": "text"
      },
      "source": [
        "<a href=\"https://colab.research.google.com/github/JaejinLee1215/Python_LJJ/blob/main/submission/JaejinLee1215/ch03_03_%EC%98%88%EC%99%B8%EC%B2%98%EB%A6%AC_%EC%9D%B4%EC%9E%AC%EC%A7%84.ipynb\" target=\"_parent\"><img src=\"https://colab.research.google.com/assets/colab-badge.svg\" alt=\"Open In Colab\"/></a>"
      ]
    },
    {
      "cell_type": "markdown",
      "source": [
        "# 예외 처리"
      ],
      "metadata": {
        "id": "SXBdlUfQWeyk"
      }
    },
    {
      "cell_type": "markdown",
      "source": [
        "예외(exception)란 코드를 실행하는 중에 발생한 에러를 뜻합니다. 다음과 같이 10을 어떤 값으로 나누는 함수 ten_div가 있을 때 인수에 따라 정상으로 동작하기도 하고 에러가 나기도 합니다."
      ],
      "metadata": {
        "id": "8AICjLSoWdFo"
      }
    },
    {
      "cell_type": "code",
      "execution_count": 3,
      "metadata": {
        "id": "nZTvjpvKWOwa"
      },
      "outputs": [],
      "source": [
        "def ten_div(x: int) -> float: # 새로운 문법\n",
        "    return 10 / x"
      ]
    },
    {
      "cell_type": "code",
      "source": [
        "ten_div(2) # 10 / 2"
      ],
      "metadata": {
        "colab": {
          "base_uri": "https://localhost:8080/"
        },
        "id": "20ZD3c15WsRs",
        "outputId": "a317b69d-3caf-4999-e3aa-a928e7cd55c4"
      },
      "execution_count": 2,
      "outputs": [
        {
          "output_type": "execute_result",
          "data": {
            "text/plain": [
              "5.0"
            ]
          },
          "metadata": {},
          "execution_count": 2
        }
      ]
    },
    {
      "cell_type": "code",
      "source": [
        "ten_div(0)"
      ],
      "metadata": {
        "colab": {
          "base_uri": "https://localhost:8080/",
          "height": 245
        },
        "id": "nRjniMgyXd4X",
        "outputId": "adb2686b-c23a-4982-cd5b-84285660a05a"
      },
      "execution_count": 12,
      "outputs": [
        {
          "output_type": "error",
          "ename": "ZeroDivisionError",
          "evalue": "ignored",
          "traceback": [
            "\u001b[0;31m---------------------------------------------------------------------------\u001b[0m",
            "\u001b[0;31mZeroDivisionError\u001b[0m                         Traceback (most recent call last)",
            "\u001b[0;32m<ipython-input-12-446b4e992a50>\u001b[0m in \u001b[0;36m<module>\u001b[0;34m\u001b[0m\n\u001b[0;32m----> 1\u001b[0;31m \u001b[0mten_div\u001b[0m\u001b[0;34m(\u001b[0m\u001b[0;36m0\u001b[0m\u001b[0;34m)\u001b[0m\u001b[0;34m\u001b[0m\u001b[0;34m\u001b[0m\u001b[0m\n\u001b[0m",
            "\u001b[0;32m<ipython-input-4-837808c43a07>\u001b[0m in \u001b[0;36mten_div\u001b[0;34m(x)\u001b[0m\n\u001b[1;32m      1\u001b[0m \u001b[0;32mdef\u001b[0m \u001b[0mten_div\u001b[0m\u001b[0;34m(\u001b[0m\u001b[0mx\u001b[0m\u001b[0;34m:\u001b[0m \u001b[0mint\u001b[0m\u001b[0;34m)\u001b[0m\u001b[0;34m:\u001b[0m\u001b[0;34m\u001b[0m\u001b[0;34m\u001b[0m\u001b[0m\n\u001b[0;32m----> 2\u001b[0;31m     \u001b[0;32mreturn\u001b[0m \u001b[0;36m10\u001b[0m \u001b[0;34m/\u001b[0m \u001b[0mx\u001b[0m\u001b[0;34m\u001b[0m\u001b[0;34m\u001b[0m\u001b[0m\n\u001b[0m",
            "\u001b[0;31mZeroDivisionError\u001b[0m: division by zero"
          ]
        }
      ]
    },
    {
      "cell_type": "markdown",
      "source": [
        "ZeroDivisionError뿐만 아니라 지금까지 만난 AttributeError, NameError, TypeError 등 다양한 에러들도 모두 예외입니다.\n",
        "\n",
        "이번에는 예외가 발생했을 때도 스크립트 실행을 중단하지 않고 계속 실행하게 해주는 예외 처리 방법에 대해 알아보겠습니다."
      ],
      "metadata": {
        "id": "9DzWQOTWXhGM"
      }
    },
    {
      "cell_type": "markdown",
      "source": [
        "## try except로 사용하기\n",
        "\n",
        "예외 처리를 하려면 다음과 같이 try에 실행할 코드를 넣고 except에 예외가 발생했을 때 처리하는 코드를 넣습니다.\n",
        "\n",
        "```\n",
        "try:\n",
        "    실행할 코드\n",
        "except:\n",
        "    예외가 발생했을 때 처리하는 코드\n",
        "```"
      ],
      "metadata": {
        "id": "6EqAn1POXi85"
      }
    },
    {
      "cell_type": "code",
      "source": [
        "try:\n",
        "    x = int(input('나눌 숫자를 입력하세요: '))\n",
        "    y = 10 / x\n",
        "    print(y)\n",
        "except: # 만약에 에러가 발생한다면\n",
        "    print(\"에외가 발생했습니다.\")"
      ],
      "metadata": {
        "colab": {
          "base_uri": "https://localhost:8080/"
        },
        "id": "B6zQAb1BWuJ8",
        "outputId": "84be6556-5078-4c56-a796-b87ea359487c"
      },
      "execution_count": 13,
      "outputs": [
        {
          "output_type": "stream",
          "name": "stdout",
          "text": [
            "나눌 숫자를 입력하세요: 0\n",
            "에외가 발생했습니다.\n"
          ]
        }
      ]
    },
    {
      "cell_type": "code",
      "source": [
        "x = int(input(\"나눌 숫자를 입력하세요 : \"))\n",
        "if x != 0:\n",
        "    y = 10 / x\n",
        "    print(y)\n",
        "# if문으로 할 수 있겠지만 문자열이 들어왔을 경우는? 그래서 예외처리를 따로 해준다."
      ],
      "metadata": {
        "colab": {
          "base_uri": "https://localhost:8080/",
          "height": 245
        },
        "id": "pQpKtcLHuCE3",
        "outputId": "35ad1fed-6d6b-47eb-a476-f7caab8da94f"
      },
      "execution_count": 15,
      "outputs": [
        {
          "name": "stdout",
          "output_type": "stream",
          "text": [
            "나눌 숫자를 입력하세요 : 일\n"
          ]
        },
        {
          "output_type": "error",
          "ename": "ValueError",
          "evalue": "ignored",
          "traceback": [
            "\u001b[0;31m---------------------------------------------------------------------------\u001b[0m",
            "\u001b[0;31mValueError\u001b[0m                                Traceback (most recent call last)",
            "\u001b[0;32m<ipython-input-15-b97f121d2d71>\u001b[0m in \u001b[0;36m<module>\u001b[0;34m\u001b[0m\n\u001b[0;32m----> 1\u001b[0;31m \u001b[0mx\u001b[0m \u001b[0;34m=\u001b[0m \u001b[0mint\u001b[0m\u001b[0;34m(\u001b[0m\u001b[0minput\u001b[0m\u001b[0;34m(\u001b[0m\u001b[0;34m\"나눌 숫자를 입력하세요 : \"\u001b[0m\u001b[0;34m)\u001b[0m\u001b[0;34m)\u001b[0m\u001b[0;34m\u001b[0m\u001b[0;34m\u001b[0m\u001b[0m\n\u001b[0m\u001b[1;32m      2\u001b[0m \u001b[0;32mif\u001b[0m \u001b[0mx\u001b[0m \u001b[0;34m!=\u001b[0m \u001b[0;36m0\u001b[0m\u001b[0;34m:\u001b[0m\u001b[0;34m\u001b[0m\u001b[0;34m\u001b[0m\u001b[0m\n\u001b[1;32m      3\u001b[0m     \u001b[0my\u001b[0m \u001b[0;34m=\u001b[0m \u001b[0;36m10\u001b[0m \u001b[0;34m/\u001b[0m \u001b[0mx\u001b[0m\u001b[0;34m\u001b[0m\u001b[0;34m\u001b[0m\u001b[0m\n\u001b[1;32m      4\u001b[0m     \u001b[0mprint\u001b[0m\u001b[0;34m(\u001b[0m\u001b[0my\u001b[0m\u001b[0;34m)\u001b[0m\u001b[0;34m\u001b[0m\u001b[0;34m\u001b[0m\u001b[0m\n",
            "\u001b[0;31mValueError\u001b[0m: invalid literal for int() with base 10: '일'"
          ]
        }
      ]
    },
    {
      "cell_type": "markdown",
      "source": [
        "### 특정 예외만 처리하기"
      ],
      "metadata": {
        "id": "yJhJgpTZmNLR"
      }
    },
    {
      "cell_type": "markdown",
      "source": [
        "이번에는 except에 예외 이름을 지정해서 특정 예외가 발생했을 때만 처리 코드를 실행하도록 만들어보겠습니다.\n",
        "\n",
        "```\n",
        "try:\n",
        "    실행할 코드\n",
        "except 예외이름:\n",
        "    예외가 발생했을 때 처리하는 코드\n",
        "```"
      ],
      "metadata": {
        "id": "QchQpm_gmPni"
      }
    },
    {
      "cell_type": "code",
      "source": [
        "try:\n",
        "    x = int(input(\"숫자를 입력하세요 : \"))\n",
        "    y = 10 / x\n",
        "\n",
        "except ZeroDivisionError: # 오류 코드를 보고 직접 넣어볼 수 있음\n",
        "    # print(\"예외 발생\")\n",
        "    print(\"0으로 나눌 수 없습니다\")\n",
        "except ValueError: # 오류 코드를 보고 직접 넣어볼 수 있음\n",
        "    print(\"적절한 값이 아닙니다\") \n",
        "except KeyboardInterrupt: # 오류 코드를 보고 직접 넣어볼 수 있음\n",
        "    print(\"강제 종료 되었습니다\")"
      ],
      "metadata": {
        "colab": {
          "base_uri": "https://localhost:8080/"
        },
        "id": "9-hVOWQbmJfn",
        "outputId": "d4dedeb7-ed06-46bd-f487-7dd5b565ea8d"
      },
      "execution_count": 23,
      "outputs": [
        {
          "output_type": "stream",
          "name": "stdout",
          "text": [
            "숫자를 입력하세요 : 오류\n",
            "적절한 값이 아닙니다\n"
          ]
        }
      ]
    },
    {
      "cell_type": "markdown",
      "source": [
        "### 예외의 에러 메시지 받아오기"
      ],
      "metadata": {
        "id": "0t3SabV0mdDd"
      }
    },
    {
      "cell_type": "markdown",
      "source": [
        "특히 except에서 as 뒤에 변수를 지정하면 발생한 예외의 에러 메시지를 받아올 수 있습니다.\n",
        "\n",
        "```\n",
        "try:\n",
        "    실행할 코드\n",
        "except 예외 as 변수:\n",
        "    예외가 발생했을 때 처리하는 코드\n",
        "```"
      ],
      "metadata": {
        "id": "uLotXEmOv3FL"
      }
    },
    {
      "cell_type": "markdown",
      "source": [
        "앞에서 만든 코드의 except에 as e를 넣습니다. 보통 예외( exception)의 e를 따서 변수 이름을 e로 짓습니다.\n",
        "\n"
      ],
      "metadata": {
        "id": "w3wv_OzAv635"
      }
    },
    {
      "cell_type": "code",
      "source": [
        "10 / 0"
      ],
      "metadata": {
        "colab": {
          "base_uri": "https://localhost:8080/",
          "height": 172
        },
        "id": "N55vguPEv7Pg",
        "outputId": "ecb53935-f0cd-4eab-d0b0-753067370a3e"
      },
      "execution_count": 24,
      "outputs": [
        {
          "output_type": "error",
          "ename": "ZeroDivisionError",
          "evalue": "ignored",
          "traceback": [
            "\u001b[0;31m---------------------------------------------------------------------------\u001b[0m",
            "\u001b[0;31mZeroDivisionError\u001b[0m                         Traceback (most recent call last)",
            "\u001b[0;32m<ipython-input-24-cd759d3fcf39>\u001b[0m in \u001b[0;36m<module>\u001b[0;34m\u001b[0m\n\u001b[0;32m----> 1\u001b[0;31m \u001b[0;36m10\u001b[0m \u001b[0;34m/\u001b[0m \u001b[0;36m0\u001b[0m\u001b[0;34m\u001b[0m\u001b[0;34m\u001b[0m\u001b[0m\n\u001b[0m",
            "\u001b[0;31mZeroDivisionError\u001b[0m: division by zero"
          ]
        }
      ]
    },
    {
      "cell_type": "code",
      "source": [
        "a = {'a': 1, 'b' : 2} # 뭐가 있는지 모를 때\n",
        "a['a'], a['b'], a['memo']"
      ],
      "metadata": {
        "colab": {
          "base_uri": "https://localhost:8080/",
          "height": 190
        },
        "id": "40jLyOlKwhd-",
        "outputId": "fa2dd7e6-afff-49cf-cc32-a2b25f3b1fb8"
      },
      "execution_count": 28,
      "outputs": [
        {
          "output_type": "error",
          "ename": "KeyError",
          "evalue": "ignored",
          "traceback": [
            "\u001b[0;31m---------------------------------------------------------------------------\u001b[0m",
            "\u001b[0;31mKeyError\u001b[0m                                  Traceback (most recent call last)",
            "\u001b[0;32m<ipython-input-28-1ede41381230>\u001b[0m in \u001b[0;36m<module>\u001b[0;34m\u001b[0m\n\u001b[1;32m      1\u001b[0m \u001b[0ma\u001b[0m \u001b[0;34m=\u001b[0m \u001b[0;34m{\u001b[0m\u001b[0;34m'a'\u001b[0m\u001b[0;34m:\u001b[0m \u001b[0;36m1\u001b[0m\u001b[0;34m,\u001b[0m \u001b[0;34m'b'\u001b[0m \u001b[0;34m:\u001b[0m \u001b[0;36m2\u001b[0m\u001b[0;34m}\u001b[0m \u001b[0;31m# 뭐가 있는지 모를 때\u001b[0m\u001b[0;34m\u001b[0m\u001b[0;34m\u001b[0m\u001b[0m\n\u001b[0;32m----> 2\u001b[0;31m \u001b[0ma\u001b[0m\u001b[0;34m[\u001b[0m\u001b[0;34m'a'\u001b[0m\u001b[0;34m]\u001b[0m\u001b[0;34m,\u001b[0m \u001b[0ma\u001b[0m\u001b[0;34m[\u001b[0m\u001b[0;34m'b'\u001b[0m\u001b[0;34m]\u001b[0m\u001b[0;34m,\u001b[0m \u001b[0ma\u001b[0m\u001b[0;34m[\u001b[0m\u001b[0;34m'memo'\u001b[0m\u001b[0;34m]\u001b[0m\u001b[0;34m\u001b[0m\u001b[0;34m\u001b[0m\u001b[0m\n\u001b[0m",
            "\u001b[0;31mKeyError\u001b[0m: 'memo'"
          ]
        }
      ]
    },
    {
      "cell_type": "code",
      "source": [
        "try:\n",
        "    a = {'a': 1, 'b' : 2} # 뭐가 있는지 모를 때\n",
        "    a['a'], a['b'], a['memo']\n",
        "except KeyError:\n",
        "    print(\"키 에러가 발생했습니다\")"
      ],
      "metadata": {
        "colab": {
          "base_uri": "https://localhost:8080/"
        },
        "id": "_KSbPQ7lwFcv",
        "outputId": "de41d138-6b1f-4df4-b7d9-de80b462b6e5"
      },
      "execution_count": 27,
      "outputs": [
        {
          "output_type": "stream",
          "name": "stdout",
          "text": [
            "키 에러가 발생했습니다\n"
          ]
        }
      ]
    },
    {
      "cell_type": "code",
      "source": [
        "try:\n",
        "    a = {'a': 1, 'b' : 2} # 뭐가 있는지 모를 때\n",
        "    a['a'], a['b'], a['memo']\n",
        "except Exception as e:\n",
        "    # print(\"키 에러가 발생했습니다\")\n",
        "    print(f\"에러 : {e}\")\n",
        "    print(\"에러가 발생했습니다\")"
      ],
      "metadata": {
        "colab": {
          "base_uri": "https://localhost:8080/"
        },
        "id": "OQpwoEIjwnt7",
        "outputId": "8a7ad3e3-a8f5-4235-fcb1-0d09286d0288"
      },
      "execution_count": 29,
      "outputs": [
        {
          "output_type": "stream",
          "name": "stdout",
          "text": [
            "에러 : 'memo'\n",
            "에러가 발생했습니다\n"
          ]
        }
      ]
    },
    {
      "cell_type": "code",
      "source": [
        "try:\n",
        "    a = {'a': 1, 'b' : 2} # 뭐가 있는지 모를 때\n",
        "    a['a'], a['b'], a['teddybear']\n",
        "except KeyError as e:\n",
        "    # print(\"키 에러가 발생했습니다\")\n",
        "    print(\"에러가 발생했습니다\")\n",
        "    print(e)"
      ],
      "metadata": {
        "colab": {
          "base_uri": "https://localhost:8080/"
        },
        "id": "yjKZt3LDw16-",
        "outputId": "63c3175b-d748-4a8c-ac9a-853bb082c73d"
      },
      "execution_count": 73,
      "outputs": [
        {
          "output_type": "stream",
          "name": "stdout",
          "text": [
            "에러가 발생했습니다\n",
            "'teddybear'\n"
          ]
        }
      ]
    },
    {
      "cell_type": "markdown",
      "source": [
        "참고로 모든 예외의 에러 메시지를 출력하고 싶다면 다음과 같이 except에 Exception을 지정하고 as 뒤에 변수를 넣으면 됩니다.\n",
        "\n",
        "```\n",
        "except Exception as e:    # 모든 예외의 에러 메시지를 출력할 때는 Exception을 사용\n",
        "    print('예외가 발생했습니다.', e)\n",
        "```\n",
        "\n",
        "이처럼 예외 처리는 에러가 발생하더라도 스크립트의 실행을 중단시키지 않고 계속 실행하고자 할 때 사용합니다."
      ],
      "metadata": {
        "id": "KEd4hZcPwCvD"
      }
    },
    {
      "cell_type": "markdown",
      "source": [
        "## else와 finally 사용하기"
      ],
      "metadata": {
        "id": "r5Qr2YbHwK5Y"
      }
    },
    {
      "cell_type": "markdown",
      "source": [
        "이번에는 예외가 발생하지 않았을 때 코드를 실행하는 else를 사용해보겠습니다. 다음과 같이 else는 except 바로 다음에 와야 하며 except를 생략할 수 없습니다.\n",
        "\n",
        "```\n",
        "try:\n",
        "    실행할 코드\n",
        "except:\n",
        "    예외가 발생했을 때 처리하는 코드\n",
        "else:\n",
        "    예외가 발생하지 않았을 때 실행할 코드\n",
        "```"
      ],
      "metadata": {
        "id": "-H79eDcfwMxn"
      }
    },
    {
      "cell_type": "code",
      "source": [
        "try:\n",
        "    x = int(input(\"숫자를 입력하세요 : \"))\n",
        "    y = 10 / x\n",
        "\n",
        "except ZeroDivisionError: # 오류 코드를 보고 직접 넣어볼 수 있음\n",
        "    # print(\"예외 발생\")\n",
        "    print(\"0으로 나눌 수 없습니다\")\n",
        "\n",
        "except ValueError: # 오류 코드를 보고 직접 넣어볼 수 있음\n",
        "    print(\"적절한 값이 아닙니다\") \n",
        "\n",
        "except KeyboardInterrupt: # 오류 코드를 보고 직접 넣어볼 수 있음\n",
        "    print(\"강제 종료 되었습니다\")\n",
        "    \n",
        "else:\n",
        "    print(y)"
      ],
      "metadata": {
        "colab": {
          "base_uri": "https://localhost:8080/"
        },
        "id": "8ghXm6Jyv9FP",
        "outputId": "ffbc3580-1255-4d82-81e8-b58043637670"
      },
      "execution_count": 31,
      "outputs": [
        {
          "output_type": "stream",
          "name": "stdout",
          "text": [
            "숫자를 입력하세요 : 2\n",
            "5.0\n"
          ]
        }
      ]
    },
    {
      "cell_type": "code",
      "source": [
        "try:\n",
        "    x = int(input(\"숫자를 입력하세요 : \"))\n",
        "    y = 10 / x\n",
        "    print(y)\n",
        "\n",
        "except ZeroDivisionError: # 오류 코드를 보고 직접 넣어볼 수 있음\n",
        "    # print(\"예외 발생\")\n",
        "    print(\"0으로 나눌 수 없습니다\")\n",
        "\n",
        "except ValueError: # 오류 코드를 보고 직접 넣어볼 수 있음\n",
        "    print(\"적절한 값이 아닙니다\") \n",
        "\n",
        "except KeyboardInterrupt: # 오류 코드를 보고 직접 넣어볼 수 있음\n",
        "    print(\"강제 종료 되었습니다\")"
      ],
      "metadata": {
        "colab": {
          "base_uri": "https://localhost:8080/"
        },
        "id": "Qe2bm7fVyFeZ",
        "outputId": "a6faeba9-fda1-47bf-e05e-a15cd9dabc67"
      },
      "execution_count": 33,
      "outputs": [
        {
          "output_type": "stream",
          "name": "stdout",
          "text": [
            "숫자를 입력하세요 : 0\n",
            "0으로 나눌 수 없습니다\n"
          ]
        }
      ]
    },
    {
      "cell_type": "code",
      "source": [
        "y = 100\n",
        "try:\n",
        "    x = int(input(\"숫자를 입력하세요 : \"))\n",
        "    y = 10 / x\n",
        "\n",
        "except ZeroDivisionError: # 오류 코드를 보고 직접 넣어볼 수 있음\n",
        "    # print(\"예외 발생\")\n",
        "    print(\"0으로 나눌 수 없습니다\")\n",
        "\n",
        "except ValueError: # 오류 코드를 보고 직접 넣어볼 수 있음\n",
        "    print(\"적절한 값이 아닙니다\") \n",
        "\n",
        "except KeyboardInterrupt: # 오류 코드를 보고 직접 넣어볼 수 있음\n",
        "    print(\"강제 종료 되었습니다\")\n",
        "    \n",
        "\n",
        "print(y)"
      ],
      "metadata": {
        "colab": {
          "base_uri": "https://localhost:8080/"
        },
        "id": "R9ie2QfbyNvB",
        "outputId": "c87beec3-041d-4069-9da0-2f9470444aa2"
      },
      "execution_count": 34,
      "outputs": [
        {
          "output_type": "stream",
          "name": "stdout",
          "text": [
            "숫자를 입력하세요 : 0\n",
            "0으로 나눌 수 없습니다\n",
            "100\n"
          ]
        }
      ]
    },
    {
      "cell_type": "code",
      "source": [
        "try:\n",
        "    x1 = int(input(\"숫자를 입력하세요 (1): \"))\n",
        "    print(x1)\n",
        "    x2 = int(input(\"숫자를 입력하세요 (2): \"))\n",
        "    print(x2)\n",
        "    y = x1 / x2\n",
        "    print(y)\n",
        "\n",
        "except ZeroDivisionError: # 오류 코드를 보고 직접 넣어볼 수 있음\n",
        "    # print(\"예외 발생\")\n",
        "    print(\"0으로 나눌 수 없습니다\")\n",
        "\n",
        "except ValueError: # 오류 코드를 보고 직접 넣어볼 수 있음\n",
        "    print(\"적절한 값이 아닙니다\") \n",
        "\n",
        "except KeyboardInterrupt: # 오류 코드를 보고 직접 넣어볼 수 있음\n",
        "    print(\"강제 종료 되었습니다\")\n",
        "    \n",
        "else:\n",
        "    print(y)"
      ],
      "metadata": {
        "colab": {
          "base_uri": "https://localhost:8080/"
        },
        "id": "IL_XVGHKyaT-",
        "outputId": "5ee1b556-dd4a-4ea4-fe6a-5f2d739a5f93"
      },
      "execution_count": 35,
      "outputs": [
        {
          "output_type": "stream",
          "name": "stdout",
          "text": [
            "숫자를 입력하세요 (1): 1\n",
            "1\n",
            "숫자를 입력하세요 (2): 일\n",
            "적절한 값이 아닙니다\n"
          ]
        }
      ]
    },
    {
      "cell_type": "code",
      "source": [
        "try:\n",
        "    x1 = int(input(\"숫자를 입력하세요 (1): \"))\n",
        "    x2 = int(input(\"숫자를 입력하세요 (2): \"))\n",
        "    y = x1 / x2\n",
        "    # 버그가 발생될 여지가 있는 코드\n",
        "    # print(x1)\n",
        "    # print(x2)\n",
        "    # print(y)\n",
        "\n",
        "except ZeroDivisionError: # 오류 코드를 보고 직접 넣어볼 수 있음\n",
        "    # print(\"예외 발생\")\n",
        "    print(\"0으로 나눌 수 없습니다\")\n",
        "\n",
        "except ValueError: # 오류 코드를 보고 직접 넣어볼 수 있음\n",
        "    print(\"적절한 값이 아닙니다\") \n",
        "\n",
        "except KeyboardInterrupt: # 오류 코드를 보고 직접 넣어볼 수 있음\n",
        "    print(\"강제 종료 되었습니다\")\n",
        "    \n",
        "else:\n",
        "    print(x1)\n",
        "    print(x2)\n",
        "    print(y)"
      ],
      "metadata": {
        "colab": {
          "base_uri": "https://localhost:8080/"
        },
        "id": "9Th6S2ogyvuO",
        "outputId": "bbd96cf1-4d92-482a-ad2e-79adfcf1e2eb"
      },
      "execution_count": 36,
      "outputs": [
        {
          "output_type": "stream",
          "name": "stdout",
          "text": [
            "숫자를 입력하세요 (1): 1\n",
            "숫자를 입력하세요 (2): 버그\n",
            "적절한 값이 아닙니다\n"
          ]
        }
      ]
    },
    {
      "cell_type": "markdown",
      "source": [
        "### 예외와는 상관없이 항상 코드 실행하기"
      ],
      "metadata": {
        "id": "3yX2SIOAxHAf"
      }
    },
    {
      "cell_type": "markdown",
      "source": [
        "이번에는 예외 발생 여부와 상관없이 항상 코드를 실행하는 finally를 사용해보겠습니다. 특히 finally는 except와 else를 생략할 수 있습니다.\n",
        "\n",
        "```\n",
        "try:\n",
        "    실행할 코드\n",
        "except:\n",
        "    예외가 발생했을 때 처리하는 코드\n",
        "else:\n",
        "    예외가 발생하지 않았을 때 실행할 코드\n",
        "finally:\n",
        "    예외 발생 여부와 상관없이 항상 실행할 코드\n",
        "```"
      ],
      "metadata": {
        "id": "nkMgYxPuxJkj"
      }
    },
    {
      "cell_type": "code",
      "source": [
        "try:\n",
        "    x1 = int(input(\"숫자를 입력하세요 (1): \"))\n",
        "    x2 = int(input(\"숫자를 입력하세요 (2): \"))\n",
        "    y = x1 / x2\n",
        "    # 버그가 발생될 여지가 있는 코드\n",
        "    # print(x1)\n",
        "    # print(x2)\n",
        "    # print(y)\n",
        "\n",
        "except ZeroDivisionError: # 오류 코드를 보고 직접 넣어볼 수 있음\n",
        "    # print(\"예외 발생\")\n",
        "    print(\"0으로 나눌 수 없습니다\")\n",
        "\n",
        "except ValueError: # 오류 코드를 보고 직접 넣어볼 수 있음\n",
        "    print(\"적절한 값이 아닙니다\") \n",
        "\n",
        "except KeyboardInterrupt: # 오류 코드를 보고 직접 넣어볼 수 있음\n",
        "    print(\"강제 종료 되었습니다\")\n",
        "    \n",
        "else:\n",
        "    print(x1)\n",
        "    print(x2)\n",
        "    print(y)\n",
        "finally: # 실행 보장 코드, 버그가 있던 없던 실행되어야함\n",
        "    print(\"코드 실행 완료\")"
      ],
      "metadata": {
        "id": "wuAFmc3-xOBg",
        "colab": {
          "base_uri": "https://localhost:8080/"
        },
        "outputId": "dd87b442-8b3c-400f-ea07-02c6a08562fc"
      },
      "execution_count": 38,
      "outputs": [
        {
          "output_type": "stream",
          "name": "stdout",
          "text": [
            "숫자를 입력하세요 (1): 0\n",
            "숫자를 입력하세요 (2): 일\n",
            "적절한 값이 아닙니다\n",
            "코드 실행 완료\n"
          ]
        }
      ]
    },
    {
      "cell_type": "markdown",
      "source": [
        "## 예외 발생시키기"
      ],
      "metadata": {
        "id": "OYDw3cdixXwh"
      }
    },
    {
      "cell_type": "markdown",
      "source": [
        "지금까지 숫자를 0으로 나눴을 때 에러, 리스트의 범위를 벗어난 인덱스에 접근했을 때 에러 등 파이썬에서 정해진 예외만 처리했습니다. 이번에는 우리가 직접 예외를 발생시켜 보겠습니다.\n",
        "\n",
        "예외를 발생시킬 때는 raise에 예외를 지정하고 에러 메시지를 넣습니다(에러 메시지는 생략할 수 있음).\n",
        "\n",
        "* `raise 예외('에러메시지')`"
      ],
      "metadata": {
        "id": "MKK5duR8xNn7"
      }
    },
    {
      "cell_type": "code",
      "source": [
        "def handle_customer():\n",
        "    print(\"안녕하세요 고객님, 이자율을 계산해 드리겠습니다.\")\n",
        "    result = calculate_interest()\n",
        "    print(f\"계산결과는 {result}입니다\")\n",
        "\n",
        "def calculate_interest():\n",
        "    money = int(input(\"원금을 입력해주세요 : \"))\n",
        "    rate = int(input(\"이자율을 입력해주세요 : \"))\n",
        "    year = int(input(\"투자기간을 입력해주세요 : \"))\n",
        "    if money <= 0:\n",
        "        print(\"원금이 0 이하 입니다\")\n",
        "        return\n",
        "    if rate <= 0:\n",
        "        print(\"이자율이 0 이하 입니다\")\n",
        "        return\n",
        "    if year <= 0:\n",
        "        print(\"투자기간이 0년 이하 입니다\")\n",
        "        return\n",
        "    return money * rate * y"
      ],
      "metadata": {
        "id": "oZ9GZVyN_4nm"
      },
      "execution_count": 71,
      "outputs": []
    },
    {
      "cell_type": "code",
      "source": [
        "handle_customer()"
      ],
      "metadata": {
        "colab": {
          "base_uri": "https://localhost:8080/"
        },
        "id": "kB0MMHTU_7JN",
        "outputId": "8674dacd-54ee-43ca-c415-66b50ed63b8f"
      },
      "execution_count": 72,
      "outputs": [
        {
          "output_type": "stream",
          "name": "stdout",
          "text": [
            "안녕하세요 고객님, 이자율을 계산해 드리겠습니다.\n",
            "원금을 입력해주세요 : 0\n",
            "이자율을 입력해주세요 : 0\n",
            "투자기간을 입력해주세요 : 0\n",
            "원금이 0 이하 입니다\n",
            "계산결과는 None입니다\n"
          ]
        }
      ]
    },
    {
      "cell_type": "code",
      "source": [
        "def handle_customer():\n",
        "    print(\"안녕하세요 고객님, 이자율을 계산해 드리겠습니다.\")\n",
        "    # result = calculate_interset()\n",
        "    # print(f\"계산결과는 {result}입니다\")\n",
        "    try:\n",
        "        result = calculate_interset()\n",
        "    except Exception as e:\n",
        "        print(e)\n",
        "    else:\n",
        "        print(f\"계산결과는 {result}입니다\")\n",
        "    \n",
        "\n",
        "def calculate_interset():\n",
        "    money = int(input(\"원금을 입력해주세요 : \"))\n",
        "    if money <= 0:\n",
        "        # print(\"원금이 0 이하 입니다\")\n",
        "        # return\n",
        "        raise Exception(\"원금이 0 이하 입니다\")\n",
        "\n",
        "    rate = int(input(\"원금을 입력해주세요 : \"))\n",
        "    if rate <= 0:\n",
        "        # print(\"이자율이 0 이하 입니다\")\n",
        "        # return\n",
        "        raise Exception(\"이자율 0 이하 입니다\")\n",
        "\n",
        "    year = int(input(\"원금을 입력해주세요 : \"))\n",
        "    if year <= 0:\n",
        "        # print(\"투자기간이 0년 이하 입니다\")\n",
        "        # return\n",
        "        raise Exception(\"투자기간이 0 이하 입니다\")\n",
        "\n",
        "    return money * rate * y\n",
        "\n",
        "handle_customer()"
      ],
      "metadata": {
        "colab": {
          "base_uri": "https://localhost:8080/"
        },
        "id": "jZ1ypbYfxeZn",
        "outputId": "b69544e2-7696-4bc0-d250-2af5b2516dd9"
      },
      "execution_count": 48,
      "outputs": [
        {
          "output_type": "stream",
          "name": "stdout",
          "text": [
            "안녕하세요 고객님, 이자율을 계산해 드리겠습니다.\n",
            "원금을 입력해주세요 : 0\n",
            "원금이 0 이하 입니다\n"
          ]
        }
      ]
    },
    {
      "cell_type": "markdown",
      "source": [
        "### raise의 처리 과정"
      ],
      "metadata": {
        "id": "1YHWE6RIxmxc"
      }
    },
    {
      "cell_type": "markdown",
      "source": [
        "이번에는 raise의 처리 과정을 알아보겠습니다. 다음은 함수 안에서 raise를 사용하지만 함수 안에는 try except가 없는 상태입니다"
      ],
      "metadata": {
        "id": "Z2YAeHrbxqg1"
      }
    },
    {
      "cell_type": "code",
      "source": [
        "def three_multiple():\n",
        "    x = int(input('3의 배수를 입력하세요: '))\n",
        "    if x % 3 != 0:                                 # x가 3의 배수가 아니면\n",
        "        raise Exception('3의 배수가 아닙니다.')    # 예외를 발생시킴\n",
        "    print(x)                                       # 현재 함수 안에는 except가 없으므로\n",
        "                                                   # 예외를 상위 코드 블록으로 넘김\n",
        "try:\n",
        "    three_multiple()\n",
        "except Exception as e:                             # 하위 코드 블록에서 예외가 발생해도 실행됨\n",
        "    print('예외가 발생했습니다.', e)"
      ],
      "metadata": {
        "colab": {
          "base_uri": "https://localhost:8080/"
        },
        "id": "BH5I2kYZxr4k",
        "outputId": "942f7e26-c5c6-4a68-e593-557dbbcabfe8"
      },
      "execution_count": null,
      "outputs": [
        {
          "output_type": "stream",
          "name": "stdout",
          "text": [
            "3의 배수를 입력하세요: 5\n",
            "예외가 발생했습니다. 3의 배수가 아닙니다.\n"
          ]
        }
      ]
    },
    {
      "cell_type": "markdown",
      "source": [
        "안에 try except가 없는 상태에서 raise로 예외를 발생시켰습니다. 이렇게 되면 함수 바깥에 있는 except에서 예외가 처리됩니다. 즉, 예외가 발생하더라도 현재 코드 블록에서 처리해줄 except가 없다면 except가 나올 때까지 계속 상위 코드 블록으로 올라갑니다.\n",
        "\n",
        "만약 함수 바깥에도 처리해줄 except가 없다면 코드 실행은 중지되고 에러가 표시됩니다."
      ],
      "metadata": {
        "id": "79FxvqMFx1Yt"
      }
    },
    {
      "cell_type": "markdown",
      "source": [
        "### 현재 예외를 다시 발생시키기"
      ],
      "metadata": {
        "id": "_tze9kcfx9Zq"
      }
    },
    {
      "cell_type": "markdown",
      "source": [
        "이번에는 try except에서 처리한 예외를 다시 발생시키는 방법입니다. except 안에서 raise를 사용하면 현재 예외를 다시 발생시킵니다(re-raise).\n",
        "\n",
        "* `raise`"
      ],
      "metadata": {
        "id": "sLMCHj3-x_WT"
      }
    },
    {
      "cell_type": "code",
      "source": [
        "def presentation_layer(): # 화면\n",
        "    try:\n",
        "        return service_layer()\n",
        "    except Exception as e:\n",
        "        print(f\"** {e}\")\n",
        "        print(\"화면 : 에러가 발생됨\")\n",
        "\n",
        "def service_layer(): # 서버\n",
        "    try:\n",
        "        return data_access_layer()\n",
        "    except Exception as e:\n",
        "        print(f\"** {e}\")\n",
        "        print(\"서버 : 에러가 발생됨\")\n",
        "        raise e\n",
        "\n",
        "def data_access_layer(): # DB\n",
        "    raise Exception(\"DB : 에러가 발생됨\")\n",
        "    return 0\n",
        "\n",
        "presentation_layer()\n",
        "# 한 번 try except를 했다고 끝나는 것이 아니라 상위모듈에도 알려줘야 한다는 의미"
      ],
      "metadata": {
        "colab": {
          "base_uri": "https://localhost:8080/"
        },
        "id": "-eqXzhTqyCuX",
        "outputId": "40a42630-8f76-4220-ae48-94164d85e124"
      },
      "execution_count": 52,
      "outputs": [
        {
          "output_type": "stream",
          "name": "stdout",
          "text": [
            "** DB : 에러가 발생됨\n",
            "서버 : 에러가 발생됨\n",
            "** DB : 에러가 발생됨\n",
            "화면 : 에러가 발생됨\n"
          ]
        }
      ]
    },
    {
      "cell_type": "markdown",
      "source": [
        "함수 안에서 발생한 예외를 함수 안의 except에서 한 번 처리하고, raise로 예외를 다시 발생시켜서 상위 코드 블록으로 넘겼습니다. 그다음에 함수 바깥의 except에서 예외를 처리했습니다. 이런 방식으로 같은 예외를 계속 처리해줄 수 있습니다.\n",
        "\n",
        "참고로 raise만 사용하면 같은 예외를 상위 코드 블록으로 넘기지만 raise에 다른 예외를 지정하고 에러 메시지를 넣을 수도 있습니다."
      ],
      "metadata": {
        "id": "77Wr3gl6yGtj"
      }
    },
    {
      "cell_type": "markdown",
      "source": [
        "## 예외 만들기"
      ],
      "metadata": {
        "id": "KnaAyJl4ybLj"
      }
    },
    {
      "cell_type": "markdown",
      "source": [
        "프로그래머가 직접 만든 예외를 사용자 정의 예외라고 합니다."
      ],
      "metadata": {
        "id": "t_ST3RQhyeCd"
      }
    },
    {
      "cell_type": "markdown",
      "source": [
        "예외를 만드는 방법은 간단합니다. 그냥 Exception을 상속받아서 새로운 클래스를 만들면 됩니다. 그리고 `__init__` 메서드에서 기반 클래스의 `__init__` 메서드를 호출하면서 에러 메시지를 넣어주면 됩니다.\n",
        "\n",
        "```\n",
        "class 예외이름(Exception):\n",
        "    def __init__(self):\n",
        "        super().__init__('에러메시지')\n",
        "```"
      ],
      "metadata": {
        "id": "mUdQjOVVyfT9"
      }
    },
    {
      "cell_type": "code",
      "source": [
        "class NachoStore:\n",
        "    def __init__(self) -> None:\n",
        "        self.storage = 10\n",
        "\n",
        "    def make_nacho(self, count):\n",
        "        if self.storage < count:\n",
        "            #raise Exception(\"나초 재료가 떨어졌습니다\")\n",
        "            raise NoStorageError()\n",
        "        \n",
        "        if count < 0: # - 갯수가 나왔을 때\n",
        "            raise NoCountError()\n",
        "\n",
        "        print(f\"나초가 나왔습니다. {count}개\")\n",
        "        self.storage -= count\n",
        "\n",
        "class NoStorageError(Exception):\n",
        "    def __init__(self):\n",
        "        super().__init__(\"나초 재료가 떨어졌습니다\")\n",
        "\n",
        "class NoCountError(Exception):\n",
        "    def __init__(self):\n",
        "        super().__init__(\"0 이상으로 주문해주세요\")\n",
        "        \n",
        "try:\n",
        "    x = int(input(\"몇 개 주문하시겠습니까? : \"))\n",
        "    store = NachoStore()\n",
        "    store.make_nacho(x)\n",
        "\n",
        "except NoStorageError as e:\n",
        "    print(\"재료 소진으로 영업종료입니다.\")\n",
        "except NoCountError as e:\n",
        "    print(e)\n",
        "except Exception as e:\n",
        "    print(\"알 수 없는 에러가 일어났습니다.\")"
      ],
      "metadata": {
        "colab": {
          "base_uri": "https://localhost:8080/"
        },
        "id": "bKSnUvgYyqmT",
        "outputId": "981cfa9c-53c7-4e6e-bfca-d47d818fc03d"
      },
      "execution_count": 69,
      "outputs": [
        {
          "output_type": "stream",
          "name": "stdout",
          "text": [
            "몇 개 주문하시겠습니까? : -1\n",
            "0 이상으로 주문해주세요\n"
          ]
        }
      ]
    },
    {
      "cell_type": "markdown",
      "source": [
        "참고로 다음과 같이 Exception만 상속받고 pass를 넣어서 아무것도 구현하지 않아도 됩니다."
      ],
      "metadata": {
        "id": "PiCQtohqyvOJ"
      }
    },
    {
      "cell_type": "code",
      "source": [
        "class NoCountError(Exception):\n",
        "    pass"
      ],
      "metadata": {
        "id": "yf50GygbyrDQ"
      },
      "execution_count": 65,
      "outputs": []
    },
    {
      "cell_type": "code",
      "source": [
        "# 이때는 예외를 발생시킬 때 에러 메시지를 넣어주면 됩니다.\n",
        "print(NoCountError(\"NoCount\"))"
      ],
      "metadata": {
        "colab": {
          "base_uri": "https://localhost:8080/"
        },
        "id": "4Teubz8pyxdt",
        "outputId": "18b202bb-e1dd-4206-db4a-61f2176fa0a8"
      },
      "execution_count": 67,
      "outputs": [
        {
          "output_type": "stream",
          "name": "stdout",
          "text": [
            "NoCount\n"
          ]
        }
      ]
    }
  ]
}