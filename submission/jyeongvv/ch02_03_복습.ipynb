{
  "nbformat": 4,
  "nbformat_minor": 0,
  "metadata": {
    "colab": {
      "provenance": [],
      "authorship_tag": "ABX9TyOlrMnQCcj8XwVSsPegVPkx",
      "include_colab_link": true
    },
    "kernelspec": {
      "name": "python3",
      "display_name": "Python 3"
    },
    "language_info": {
      "name": "python"
    }
  },
  "cells": [
    {
      "cell_type": "markdown",
      "metadata": {
        "id": "view-in-github",
        "colab_type": "text"
      },
      "source": [
        "<a href=\"https://colab.research.google.com/github/jyeongvv/Python_jy/blob/main/submission/jyeongvv/ch02_03_%EB%B3%B5%EC%8A%B5.ipynb\" target=\"_parent\"><img src=\"https://colab.research.google.com/assets/colab-badge.svg\" alt=\"Open In Colab\"/></a>"
      ]
    },
    {
      "cell_type": "markdown",
      "source": [
        "## 리스트 응용"
      ],
      "metadata": {
        "id": "AiUmZI67TGFG"
      }
    },
    {
      "cell_type": "code",
      "execution_count": 22,
      "metadata": {
        "id": "IcDA1y-RRjjo"
      },
      "outputs": [],
      "source": [
        "country = [] # 빈 리스트"
      ]
    },
    {
      "cell_type": "code",
      "source": [
        "country.append('대한민국')\n",
        "country "
      ],
      "metadata": {
        "colab": {
          "base_uri": "https://localhost:8080/"
        },
        "id": "M0SgAjeBTSJk",
        "outputId": "74a0fd8d-c49c-4ac9-a815-a596c9da054b"
      },
      "execution_count": 23,
      "outputs": [
        {
          "output_type": "execute_result",
          "data": {
            "text/plain": [
              "['대한민국']"
            ]
          },
          "metadata": {},
          "execution_count": 23
        }
      ]
    },
    {
      "cell_type": "code",
      "source": [
        "country2 = ['중국']"
      ],
      "metadata": {
        "id": "s5QKjKA4TjjR"
      },
      "execution_count": 24,
      "outputs": []
    },
    {
      "cell_type": "code",
      "source": [
        "country += country2\n",
        "country"
      ],
      "metadata": {
        "colab": {
          "base_uri": "https://localhost:8080/"
        },
        "id": "KA1WcpJ1TvpJ",
        "outputId": "46ea5118-8e97-4150-a505-d8c3332441e9"
      },
      "execution_count": 25,
      "outputs": [
        {
          "output_type": "execute_result",
          "data": {
            "text/plain": [
              "['대한민국', '중국']"
            ]
          },
          "metadata": {},
          "execution_count": 25
        }
      ]
    },
    {
      "cell_type": "code",
      "source": [
        "country3 = ['일본']\n",
        "country3"
      ],
      "metadata": {
        "colab": {
          "base_uri": "https://localhost:8080/"
        },
        "id": "2jovK6suT38F",
        "outputId": "0f39fc66-c371-4553-a489-a07fece3886d"
      },
      "execution_count": 26,
      "outputs": [
        {
          "output_type": "execute_result",
          "data": {
            "text/plain": [
              "['일본']"
            ]
          },
          "metadata": {},
          "execution_count": 26
        }
      ]
    },
    {
      "cell_type": "code",
      "source": [
        "country.extend(country3)\n",
        "country"
      ],
      "metadata": {
        "colab": {
          "base_uri": "https://localhost:8080/"
        },
        "id": "sK9Frdc_T0GK",
        "outputId": "b7fca726-5ad3-4042-d29d-578247be8629"
      },
      "execution_count": 27,
      "outputs": [
        {
          "output_type": "execute_result",
          "data": {
            "text/plain": [
              "['대한민국', '중국', '일본']"
            ]
          },
          "metadata": {},
          "execution_count": 27
        }
      ]
    },
    {
      "cell_type": "code",
      "source": [
        " country4 = ['프랑스', '영국', '독일']\n",
        " country.extend(country4)\n",
        " country"
      ],
      "metadata": {
        "colab": {
          "base_uri": "https://localhost:8080/"
        },
        "id": "EevV-NglUIDN",
        "outputId": "ca50f6b5-44ee-4841-ea0e-48f5345f2712"
      },
      "execution_count": 28,
      "outputs": [
        {
          "output_type": "execute_result",
          "data": {
            "text/plain": [
              "['대한민국', '중국', '일본', '프랑스', '영국', '독일']"
            ]
          },
          "metadata": {},
          "execution_count": 28
        }
      ]
    },
    {
      "cell_type": "code",
      "source": [
        "country.append('케냐')\n",
        "country"
      ],
      "metadata": {
        "colab": {
          "base_uri": "https://localhost:8080/"
        },
        "id": "q2-56WT6UUZ1",
        "outputId": "5510d173-ee28-4add-fb59-9347d4c27d0c"
      },
      "execution_count": 29,
      "outputs": [
        {
          "output_type": "execute_result",
          "data": {
            "text/plain": [
              "['대한민국', '중국', '일본', '프랑스', '영국', '독일', '케냐']"
            ]
          },
          "metadata": {},
          "execution_count": 29
        }
      ]
    },
    {
      "cell_type": "code",
      "source": [
        "country.insert(0, '브라질')\n",
        "country"
      ],
      "metadata": {
        "colab": {
          "base_uri": "https://localhost:8080/"
        },
        "id": "EItFi5AuUaka",
        "outputId": "dba5fecc-abc7-4dff-cd7c-43600be037ec"
      },
      "execution_count": 30,
      "outputs": [
        {
          "output_type": "execute_result",
          "data": {
            "text/plain": [
              "['브라질', '대한민국', '중국', '일본', '프랑스', '영국', '독일', '케냐']"
            ]
          },
          "metadata": {},
          "execution_count": 30
        }
      ]
    },
    {
      "cell_type": "code",
      "source": [
        "country.insert(3, '아르헨티나')\n",
        "country"
      ],
      "metadata": {
        "colab": {
          "base_uri": "https://localhost:8080/"
        },
        "id": "pZmCzvVcUdvf",
        "outputId": "58246adc-0292-400c-b19b-3c5edb5f3684"
      },
      "execution_count": 31,
      "outputs": [
        {
          "output_type": "execute_result",
          "data": {
            "text/plain": [
              "['브라질', '대한민국', '중국', '아르헨티나', '일본', '프랑스', '영국', '독일', '케냐']"
            ]
          },
          "metadata": {},
          "execution_count": 31
        }
      ]
    },
    {
      "cell_type": "code",
      "source": [
        "country[4:4] = ['미국', '캐나다', '멕시코']"
      ],
      "metadata": {
        "id": "H0a8SWkKUlD9"
      },
      "execution_count": 33,
      "outputs": []
    },
    {
      "cell_type": "code",
      "source": [
        "country"
      ],
      "metadata": {
        "colab": {
          "base_uri": "https://localhost:8080/"
        },
        "id": "rXD87Hi5U9o4",
        "outputId": "e6c33a25-6084-4b46-c4cf-13c78438fe68"
      },
      "execution_count": 34,
      "outputs": [
        {
          "output_type": "execute_result",
          "data": {
            "text/plain": [
              "['브라질',\n",
              " '대한민국',\n",
              " '중국',\n",
              " '아르헨티나',\n",
              " '미국',\n",
              " '캐나다',\n",
              " '멕시코',\n",
              " '일본',\n",
              " '프랑스',\n",
              " '영국',\n",
              " '독일',\n",
              " '케냐']"
            ]
          },
          "metadata": {},
          "execution_count": 34
        }
      ]
    },
    {
      "cell_type": "code",
      "source": [
        "country.pop()"
      ],
      "metadata": {
        "colab": {
          "base_uri": "https://localhost:8080/",
          "height": 35
        },
        "id": "Nt6L85UEU6YF",
        "outputId": "1aeeccf7-f4fe-4b22-ddc2-2b773dcc8697"
      },
      "execution_count": 35,
      "outputs": [
        {
          "output_type": "execute_result",
          "data": {
            "text/plain": [
              "'케냐'"
            ],
            "application/vnd.google.colaboratory.intrinsic+json": {
              "type": "string"
            }
          },
          "metadata": {},
          "execution_count": 35
        }
      ]
    },
    {
      "cell_type": "code",
      "source": [
        "print(country[-1])\n",
        "del country[-1]"
      ],
      "metadata": {
        "colab": {
          "base_uri": "https://localhost:8080/"
        },
        "id": "Hw7Dc94bVq41",
        "outputId": "60b4c7f6-4cbd-4305-9dd8-03dc59845195"
      },
      "execution_count": 36,
      "outputs": [
        {
          "output_type": "stream",
          "name": "stdout",
          "text": [
            "독일\n"
          ]
        }
      ]
    },
    {
      "cell_type": "code",
      "source": [
        "country # \"최근 해외여행 발권 리스트\""
      ],
      "metadata": {
        "colab": {
          "base_uri": "https://localhost:8080/"
        },
        "id": "J2lLXd11V5ZH",
        "outputId": "84ef609e-680f-41e5-f92d-10bad37538c6"
      },
      "execution_count": 37,
      "outputs": [
        {
          "output_type": "execute_result",
          "data": {
            "text/plain": [
              "['브라질', '대한민국', '중국', '아르헨티나', '미국', '캐나다', '멕시코', '일본', '프랑스', '영국']"
            ]
          },
          "metadata": {},
          "execution_count": 37
        }
      ]
    },
    {
      "cell_type": "code",
      "source": [
        "recent = country.pop()\n",
        "recent, country"
      ],
      "metadata": {
        "colab": {
          "base_uri": "https://localhost:8080/"
        },
        "id": "slzHfS-0WmkU",
        "outputId": "a2cea985-e31f-4fb6-efe7-88b4537f4f78"
      },
      "execution_count": 38,
      "outputs": [
        {
          "output_type": "execute_result",
          "data": {
            "text/plain": [
              "('영국', ['브라질', '대한민국', '중국', '아르헨티나', '미국', '캐나다', '멕시코', '일본', '프랑스'])"
            ]
          },
          "metadata": {},
          "execution_count": 38
        }
      ]
    },
    {
      "cell_type": "code",
      "source": [
        "recent = country.pop(1) # 빼고 싶은 요소의 순서 입력\n",
        "recent, country"
      ],
      "metadata": {
        "colab": {
          "base_uri": "https://localhost:8080/"
        },
        "id": "ViMUFU_fWx4S",
        "outputId": "cf85385a-ce81-4f94-df15-8ca3af705fcd"
      },
      "execution_count": 39,
      "outputs": [
        {
          "output_type": "execute_result",
          "data": {
            "text/plain": [
              "('대한민국', ['브라질', '중국', '아르헨티나', '미국', '캐나다', '멕시코', '일본', '프랑스'])"
            ]
          },
          "metadata": {},
          "execution_count": 39
        }
      ]
    },
    {
      "cell_type": "code",
      "source": [
        "country.remove('중국')\n",
        "country"
      ],
      "metadata": {
        "colab": {
          "base_uri": "https://localhost:8080/"
        },
        "id": "lF8edeCoW9xB",
        "outputId": "2437239a-4ab7-4489-ea8f-6fcd73f44820"
      },
      "execution_count": 40,
      "outputs": [
        {
          "output_type": "execute_result",
          "data": {
            "text/plain": [
              "['브라질', '아르헨티나', '미국', '캐나다', '멕시코', '일본', '프랑스']"
            ]
          },
          "metadata": {},
          "execution_count": 40
        }
      ]
    },
    {
      "cell_type": "code",
      "source": [
        "country.remove('미국')\n",
        "country"
      ],
      "metadata": {
        "colab": {
          "base_uri": "https://localhost:8080/"
        },
        "id": "5hxn8DHnXVoF",
        "outputId": "8b09ed8e-6cf0-4989-cfb2-3408424fc50a"
      },
      "execution_count": 41,
      "outputs": [
        {
          "output_type": "execute_result",
          "data": {
            "text/plain": [
              "['브라질', '아르헨티나', '캐나다', '멕시코', '일본', '프랑스']"
            ]
          },
          "metadata": {},
          "execution_count": 41
        }
      ]
    },
    {
      "cell_type": "code",
      "source": [
        "# remove는 그냥 지움(지우개) - 결과 값이 남지 않음"
      ],
      "metadata": {
        "id": "N46DzkgBXO7Q"
      },
      "execution_count": 42,
      "outputs": []
    },
    {
      "cell_type": "code",
      "source": [
        "country.insert(2, '독일')\n",
        "country.append('독일')\n",
        "country"
      ],
      "metadata": {
        "colab": {
          "base_uri": "https://localhost:8080/"
        },
        "id": "aa6V7e_QXhXE",
        "outputId": "31cdf1b2-6267-43e7-d77f-0068ad8339c1"
      },
      "execution_count": 44,
      "outputs": [
        {
          "output_type": "execute_result",
          "data": {
            "text/plain": [
              "['브라질', '아르헨티나', '독일', '캐나다', '멕시코', '일본', '프랑스', '독일']"
            ]
          },
          "metadata": {},
          "execution_count": 44
        }
      ]
    },
    {
      "cell_type": "code",
      "source": [
        "country.remove('독일')\n",
        "country"
      ],
      "metadata": {
        "colab": {
          "base_uri": "https://localhost:8080/"
        },
        "id": "A7sRfsxXXzZ4",
        "outputId": "e7af608a-9473-498f-f428-9c956c5161c2"
      },
      "execution_count": 45,
      "outputs": [
        {
          "output_type": "execute_result",
          "data": {
            "text/plain": [
              "['브라질', '아르헨티나', '캐나다', '멕시코', '일본', '프랑스', '독일']"
            ]
          },
          "metadata": {},
          "execution_count": 45
        }
      ]
    },
    {
      "cell_type": "code",
      "source": [
        "# 캐나다 앞에 누락된 손님이 존재한다 -> 미국\n",
        "# 캐나다의 인덱스를 알아서, 그 인덱스에 '미국'을 insert 시켜줘야함 [i:i]\n",
        "country.index('캐나다')"
      ],
      "metadata": {
        "colab": {
          "base_uri": "https://localhost:8080/"
        },
        "id": "dVCGUu01X7o7",
        "outputId": "f9c72696-92d6-42b3-899e-b7273d9ce3f7"
      },
      "execution_count": 46,
      "outputs": [
        {
          "output_type": "execute_result",
          "data": {
            "text/plain": [
              "2"
            ]
          },
          "metadata": {},
          "execution_count": 46
        }
      ]
    },
    {
      "cell_type": "code",
      "source": [
        "country.insert(2, '미국')\n",
        "country"
      ],
      "metadata": {
        "colab": {
          "base_uri": "https://localhost:8080/"
        },
        "id": "fZAZ_vCCYPMY",
        "outputId": "36ee178f-d5b8-4d1e-e915-5189613e4e69"
      },
      "execution_count": 49,
      "outputs": [
        {
          "output_type": "execute_result",
          "data": {
            "text/plain": [
              "['브라질', '아르헨티나', '미국', '미국', '미국', '캐나다', '멕시코', '일본', '프랑스', '독일']"
            ]
          },
          "metadata": {},
          "execution_count": 49
        }
      ]
    },
    {
      "cell_type": "code",
      "source": [
        "country.extend([\"몰디브\"] * 10)\n",
        "country"
      ],
      "metadata": {
        "colab": {
          "base_uri": "https://localhost:8080/"
        },
        "id": "tGW7NcM6YThx",
        "outputId": "0b23eef4-8992-4a1b-c2e1-57c7054dfd2a"
      },
      "execution_count": 51,
      "outputs": [
        {
          "output_type": "execute_result",
          "data": {
            "text/plain": [
              "['브라질',\n",
              " '아르헨티나',\n",
              " '미국',\n",
              " '미국',\n",
              " '미국',\n",
              " '캐나다',\n",
              " '멕시코',\n",
              " '일본',\n",
              " '프랑스',\n",
              " '독일',\n",
              " '몰디브',\n",
              " '몰디브',\n",
              " '몰디브',\n",
              " '몰디브',\n",
              " '몰디브',\n",
              " '몰디브',\n",
              " '몰디브',\n",
              " '몰디브',\n",
              " '몰디브',\n",
              " '몰디브',\n",
              " '몰디브',\n",
              " '몰디브',\n",
              " '몰디브',\n",
              " '몰디브',\n",
              " '몰디브',\n",
              " '몰디브',\n",
              " '몰디브',\n",
              " '몰디브',\n",
              " '몰디브',\n",
              " '몰디브']"
            ]
          },
          "metadata": {},
          "execution_count": 51
        }
      ]
    },
    {
      "cell_type": "code",
      "source": [
        "import random\n",
        "\n",
        "random.randint(1, 20)"
      ],
      "metadata": {
        "colab": {
          "base_uri": "https://localhost:8080/"
        },
        "id": "pawyeOwxYnp2",
        "outputId": "90bd0b65-4451-4365-d30b-eccbc7618242"
      },
      "execution_count": 52,
      "outputs": [
        {
          "output_type": "execute_result",
          "data": {
            "text/plain": [
              "6"
            ]
          },
          "metadata": {},
          "execution_count": 52
        }
      ]
    },
    {
      "cell_type": "code",
      "source": [
        "country.extend([\"괌\"] * random.randint(50, 200))\n",
        "country"
      ],
      "metadata": {
        "colab": {
          "base_uri": "https://localhost:8080/"
        },
        "id": "sLssmcjZY1cT",
        "outputId": "67eeef2b-666c-4fb3-cdeb-23f74b2582fb"
      },
      "execution_count": 54,
      "outputs": [
        {
          "output_type": "execute_result",
          "data": {
            "text/plain": [
              "['브라질',\n",
              " '아르헨티나',\n",
              " '미국',\n",
              " '미국',\n",
              " '미국',\n",
              " '캐나다',\n",
              " '멕시코',\n",
              " '일본',\n",
              " '프랑스',\n",
              " '독일',\n",
              " '몰디브',\n",
              " '몰디브',\n",
              " '몰디브',\n",
              " '몰디브',\n",
              " '몰디브',\n",
              " '몰디브',\n",
              " '몰디브',\n",
              " '몰디브',\n",
              " '몰디브',\n",
              " '몰디브',\n",
              " '몰디브',\n",
              " '몰디브',\n",
              " '몰디브',\n",
              " '몰디브',\n",
              " '몰디브',\n",
              " '몰디브',\n",
              " '몰디브',\n",
              " '몰디브',\n",
              " '몰디브',\n",
              " '몰디브',\n",
              " '괌',\n",
              " '괌',\n",
              " '괌',\n",
              " '괌',\n",
              " '괌',\n",
              " '괌',\n",
              " '괌',\n",
              " '괌',\n",
              " '괌',\n",
              " '괌',\n",
              " '괌',\n",
              " '괌',\n",
              " '괌',\n",
              " '괌',\n",
              " '괌',\n",
              " '괌',\n",
              " '괌',\n",
              " '괌',\n",
              " '괌',\n",
              " '괌',\n",
              " '괌',\n",
              " '괌',\n",
              " '괌',\n",
              " '괌',\n",
              " '괌',\n",
              " '괌',\n",
              " '괌',\n",
              " '괌',\n",
              " '괌',\n",
              " '괌',\n",
              " '괌',\n",
              " '괌',\n",
              " '괌',\n",
              " '괌',\n",
              " '괌',\n",
              " '괌',\n",
              " '괌',\n",
              " '괌',\n",
              " '괌',\n",
              " '괌',\n",
              " '괌',\n",
              " '괌',\n",
              " '괌',\n",
              " '괌',\n",
              " '괌',\n",
              " '괌',\n",
              " '괌',\n",
              " '괌',\n",
              " '괌',\n",
              " '괌',\n",
              " '괌',\n",
              " '괌',\n",
              " '괌',\n",
              " '괌',\n",
              " '괌',\n",
              " '괌',\n",
              " '괌',\n",
              " '괌',\n",
              " '괌',\n",
              " '괌',\n",
              " '괌',\n",
              " '괌',\n",
              " '괌',\n",
              " '괌',\n",
              " '괌',\n",
              " '괌',\n",
              " '괌',\n",
              " '괌',\n",
              " '괌',\n",
              " '괌',\n",
              " '괌',\n",
              " '괌',\n",
              " '괌',\n",
              " '괌',\n",
              " '괌',\n",
              " '괌',\n",
              " '괌',\n",
              " '괌',\n",
              " '괌',\n",
              " '괌',\n",
              " '괌',\n",
              " '괌',\n",
              " '괌',\n",
              " '괌',\n",
              " '괌',\n",
              " '괌',\n",
              " '괌',\n",
              " '괌',\n",
              " '괌',\n",
              " '괌',\n",
              " '괌',\n",
              " '괌',\n",
              " '괌',\n",
              " '괌',\n",
              " '괌',\n",
              " '괌',\n",
              " '괌',\n",
              " '괌',\n",
              " '괌',\n",
              " '괌',\n",
              " '괌',\n",
              " '괌',\n",
              " '괌',\n",
              " '괌',\n",
              " '괌',\n",
              " '괌',\n",
              " '괌',\n",
              " '괌',\n",
              " '괌',\n",
              " '괌',\n",
              " '괌',\n",
              " '괌',\n",
              " '괌',\n",
              " '괌',\n",
              " '괌',\n",
              " '괌',\n",
              " '괌',\n",
              " '괌',\n",
              " '괌',\n",
              " '괌',\n",
              " '괌',\n",
              " '괌',\n",
              " '괌',\n",
              " '괌',\n",
              " '괌',\n",
              " '괌',\n",
              " '괌',\n",
              " '괌',\n",
              " '괌',\n",
              " '괌',\n",
              " '괌',\n",
              " '괌',\n",
              " '괌',\n",
              " '괌',\n",
              " '괌',\n",
              " '괌',\n",
              " '괌',\n",
              " '괌',\n",
              " '괌',\n",
              " '괌',\n",
              " '괌',\n",
              " '괌',\n",
              " '괌',\n",
              " '괌',\n",
              " '괌',\n",
              " '괌',\n",
              " '괌',\n",
              " '괌',\n",
              " '괌',\n",
              " '괌',\n",
              " '괌',\n",
              " '괌',\n",
              " '괌',\n",
              " '괌',\n",
              " '괌',\n",
              " '괌',\n",
              " '괌',\n",
              " '괌',\n",
              " '괌',\n",
              " '괌',\n",
              " '괌',\n",
              " '괌',\n",
              " '괌',\n",
              " '괌',\n",
              " '괌',\n",
              " '괌',\n",
              " '괌',\n",
              " '괌',\n",
              " '괌',\n",
              " '괌',\n",
              " '괌',\n",
              " '괌',\n",
              " '괌',\n",
              " '괌',\n",
              " '괌',\n",
              " '괌',\n",
              " '괌',\n",
              " '괌',\n",
              " '괌',\n",
              " '괌',\n",
              " '괌',\n",
              " '괌',\n",
              " '괌',\n",
              " '괌',\n",
              " '괌',\n",
              " '괌',\n",
              " '괌',\n",
              " '괌',\n",
              " '괌',\n",
              " '괌',\n",
              " '괌',\n",
              " '괌',\n",
              " '괌',\n",
              " '괌',\n",
              " '괌',\n",
              " '괌',\n",
              " '괌',\n",
              " '괌',\n",
              " '괌',\n",
              " '괌',\n",
              " '괌',\n",
              " '괌',\n",
              " '괌',\n",
              " '괌',\n",
              " '괌',\n",
              " '괌',\n",
              " '괌',\n",
              " '괌',\n",
              " '괌',\n",
              " '괌',\n",
              " '괌',\n",
              " '괌',\n",
              " '괌',\n",
              " '괌',\n",
              " '괌',\n",
              " '괌',\n",
              " '괌',\n",
              " '괌',\n",
              " '괌',\n",
              " '괌',\n",
              " '괌',\n",
              " '괌',\n",
              " '괌',\n",
              " '괌',\n",
              " '괌',\n",
              " '괌',\n",
              " '괌',\n",
              " '괌',\n",
              " '괌',\n",
              " '괌',\n",
              " '괌',\n",
              " '괌',\n",
              " '괌',\n",
              " '괌',\n",
              " '괌',\n",
              " '괌',\n",
              " '괌',\n",
              " '괌',\n",
              " '괌',\n",
              " '괌',\n",
              " '괌',\n",
              " '괌',\n",
              " '괌',\n",
              " '괌',\n",
              " '괌',\n",
              " '괌',\n",
              " '괌',\n",
              " '괌',\n",
              " '괌',\n",
              " '괌',\n",
              " '괌',\n",
              " '괌',\n",
              " '괌',\n",
              " '괌',\n",
              " '괌',\n",
              " '괌',\n",
              " '괌',\n",
              " '괌',\n",
              " '괌',\n",
              " '괌',\n",
              " '괌',\n",
              " '괌',\n",
              " '괌',\n",
              " '괌',\n",
              " '괌',\n",
              " '괌',\n",
              " '괌',\n",
              " '괌',\n",
              " '괌',\n",
              " '괌',\n",
              " '괌',\n",
              " '괌',\n",
              " '괌',\n",
              " '괌',\n",
              " '괌',\n",
              " '괌',\n",
              " '괌',\n",
              " '괌',\n",
              " '괌',\n",
              " '괌',\n",
              " '괌',\n",
              " '괌',\n",
              " '괌',\n",
              " '괌',\n",
              " '괌',\n",
              " '괌',\n",
              " '괌',\n",
              " '괌',\n",
              " '괌',\n",
              " '괌']"
            ]
          },
          "metadata": {},
          "execution_count": 54
        }
      ]
    },
    {
      "cell_type": "code",
      "source": [
        "country.count('괌')"
      ],
      "metadata": {
        "colab": {
          "base_uri": "https://localhost:8080/"
        },
        "id": "DM-RnlsYY91j",
        "outputId": "c41c1765-72f9-4369-b5b9-ffbf4da30ea3"
      },
      "execution_count": 56,
      "outputs": [
        {
          "output_type": "execute_result",
          "data": {
            "text/plain": [
              "290"
            ]
          },
          "metadata": {},
          "execution_count": 56
        }
      ]
    },
    {
      "cell_type": "code",
      "source": [
        "country = country[0:7:1]\n",
        "country"
      ],
      "metadata": {
        "colab": {
          "base_uri": "https://localhost:8080/"
        },
        "id": "0HSCmWV4ZGJf",
        "outputId": "018ee4a3-b0fc-4611-8cf9-7c4ddb27ad9c"
      },
      "execution_count": 57,
      "outputs": [
        {
          "output_type": "execute_result",
          "data": {
            "text/plain": [
              "['브라질', '아르헨티나', '미국', '미국', '미국', '캐나다', '멕시코']"
            ]
          },
          "metadata": {},
          "execution_count": 57
        }
      ]
    },
    {
      "cell_type": "code",
      "source": [
        "country.reverse()\n",
        "country"
      ],
      "metadata": {
        "colab": {
          "base_uri": "https://localhost:8080/"
        },
        "id": "wTVFQpyqZOhH",
        "outputId": "7afba775-94ac-4114-e3fa-014a2c749de8"
      },
      "execution_count": 58,
      "outputs": [
        {
          "output_type": "execute_result",
          "data": {
            "text/plain": [
              "['멕시코', '캐나다', '미국', '미국', '미국', '아르헨티나', '브라질']"
            ]
          },
          "metadata": {},
          "execution_count": 58
        }
      ]
    },
    {
      "cell_type": "code",
      "source": [
        "list(reversed(country))"
      ],
      "metadata": {
        "colab": {
          "base_uri": "https://localhost:8080/"
        },
        "id": "iMjvRDCpcdMX",
        "outputId": "d84593d8-76bc-4548-8e3f-9e64c9b51ad6"
      },
      "execution_count": 60,
      "outputs": [
        {
          "output_type": "execute_result",
          "data": {
            "text/plain": [
              "['브라질', '아르헨티나', '미국', '미국', '미국', '캐나다', '멕시코']"
            ]
          },
          "metadata": {},
          "execution_count": 60
        }
      ]
    },
    {
      "cell_type": "code",
      "source": [
        "country[::-1] "
      ],
      "metadata": {
        "colab": {
          "base_uri": "https://localhost:8080/"
        },
        "id": "nXSWlavrcjjH",
        "outputId": "9b99e08c-eee6-4cf4-bc7f-11246b089f2f"
      },
      "execution_count": 62,
      "outputs": [
        {
          "output_type": "execute_result",
          "data": {
            "text/plain": [
              "['브라질', '아르헨티나', '미국', '미국', '미국', '캐나다', '멕시코']"
            ]
          },
          "metadata": {},
          "execution_count": 62
        }
      ]
    },
    {
      "cell_type": "code",
      "source": [
        "# 정렬 -> 오름차순, 내림차순.\n",
        "numbers = [random.randint(20, 200) for i in range(10)]\n",
        "numbers"
      ],
      "metadata": {
        "colab": {
          "base_uri": "https://localhost:8080/"
        },
        "id": "A3Y6ZfMkcxjy",
        "outputId": "762d3585-e7b5-41f8-bdde-88a62a79b3a2"
      },
      "execution_count": 65,
      "outputs": [
        {
          "output_type": "execute_result",
          "data": {
            "text/plain": [
              "[63, 149, 175, 124, 173, 72, 177, 145, 66, 192]"
            ]
          },
          "metadata": {},
          "execution_count": 65
        }
      ]
    },
    {
      "cell_type": "code",
      "source": [
        "numbers2 = numbers.copy()"
      ],
      "metadata": {
        "id": "xPkaT-NRehKz"
      },
      "execution_count": 67,
      "outputs": []
    },
    {
      "cell_type": "code",
      "source": [
        "numbers2.sort() # reverse=False\n",
        "numbers"
      ],
      "metadata": {
        "colab": {
          "base_uri": "https://localhost:8080/"
        },
        "id": "GOlxytYgezY2",
        "outputId": "16672bb4-62b0-4516-d606-10f36982a38f"
      },
      "execution_count": 68,
      "outputs": [
        {
          "output_type": "execute_result",
          "data": {
            "text/plain": [
              "[63, 149, 175, 124, 173, 72, 177, 145, 66, 192]"
            ]
          },
          "metadata": {},
          "execution_count": 68
        }
      ]
    },
    {
      "cell_type": "code",
      "source": [
        "sorted(numbers), numbers"
      ],
      "metadata": {
        "colab": {
          "base_uri": "https://localhost:8080/"
        },
        "id": "yd_v5pLie6EI",
        "outputId": "f9953d2d-952f-44c5-f698-fc9caf7c0247"
      },
      "execution_count": 69,
      "outputs": [
        {
          "output_type": "execute_result",
          "data": {
            "text/plain": [
              "([63, 66, 72, 124, 145, 149, 173, 175, 177, 192],\n",
              " [63, 149, 175, 124, 173, 72, 177, 145, 66, 192])"
            ]
          },
          "metadata": {},
          "execution_count": 69
        }
      ]
    },
    {
      "cell_type": "code",
      "source": [
        "numbers2.sort(reverse=True)\n",
        "numbers2"
      ],
      "metadata": {
        "colab": {
          "base_uri": "https://localhost:8080/"
        },
        "id": "XLWVFtULfCEg",
        "outputId": "80d89cf3-87ef-4851-aace-9dd3a4c67a66"
      },
      "execution_count": 70,
      "outputs": [
        {
          "output_type": "execute_result",
          "data": {
            "text/plain": [
              "[192, 177, 175, 173, 149, 145, 124, 72, 66, 63]"
            ]
          },
          "metadata": {},
          "execution_count": 70
        }
      ]
    },
    {
      "cell_type": "code",
      "source": [
        "sorted(numbers, reverse=True), numbers"
      ],
      "metadata": {
        "colab": {
          "base_uri": "https://localhost:8080/"
        },
        "id": "phEeZGeqfIaZ",
        "outputId": "7752fb34-6994-412c-cbc4-5acf7026529f"
      },
      "execution_count": 71,
      "outputs": [
        {
          "output_type": "execute_result",
          "data": {
            "text/plain": [
              "([192, 177, 175, 173, 149, 145, 124, 72, 66, 63],\n",
              " [63, 149, 175, 124, 173, 72, 177, 145, 66, 192])"
            ]
          },
          "metadata": {},
          "execution_count": 71
        }
      ]
    },
    {
      "cell_type": "code",
      "source": [
        "sorted(country), sorted(country, reverse=True)"
      ],
      "metadata": {
        "colab": {
          "base_uri": "https://localhost:8080/"
        },
        "id": "D4h6R3JXfRzR",
        "outputId": "84c4633d-b6f6-42a5-f4b1-6d8e0a681fd0"
      },
      "execution_count": 72,
      "outputs": [
        {
          "output_type": "execute_result",
          "data": {
            "text/plain": [
              "(['멕시코', '미국', '미국', '미국', '브라질', '아르헨티나', '캐나다'],\n",
              " ['캐나다', '아르헨티나', '브라질', '미국', '미국', '미국', '멕시코'])"
            ]
          },
          "metadata": {},
          "execution_count": 72
        }
      ]
    },
    {
      "cell_type": "code",
      "source": [
        "country2 = country.copy()\n",
        "country2 "
      ],
      "metadata": {
        "colab": {
          "base_uri": "https://localhost:8080/"
        },
        "id": "28LXNLdefaQ_",
        "outputId": "c101a135-ada6-4907-a29d-69f02d901346"
      },
      "execution_count": 73,
      "outputs": [
        {
          "output_type": "execute_result",
          "data": {
            "text/plain": [
              "['멕시코', '캐나다', '미국', '미국', '미국', '아르헨티나', '브라질']"
            ]
          },
          "metadata": {},
          "execution_count": 73
        }
      ]
    },
    {
      "cell_type": "code",
      "source": [
        "del country2[:]"
      ],
      "metadata": {
        "id": "7BsX9BZdfo9w"
      },
      "execution_count": 76,
      "outputs": []
    },
    {
      "cell_type": "code",
      "source": [
        "country2"
      ],
      "metadata": {
        "colab": {
          "base_uri": "https://localhost:8080/"
        },
        "id": "1HzpEszofrnY",
        "outputId": "bdfc196d-3bf4-4d7e-fdb5-f2267621edc7"
      },
      "execution_count": 77,
      "outputs": [
        {
          "output_type": "execute_result",
          "data": {
            "text/plain": [
              "[]"
            ]
          },
          "metadata": {},
          "execution_count": 77
        }
      ]
    },
    {
      "cell_type": "code",
      "source": [
        "country2.clear()"
      ],
      "metadata": {
        "id": "kD_I0CEIfi0h"
      },
      "execution_count": 74,
      "outputs": []
    },
    {
      "cell_type": "code",
      "source": [
        "country2"
      ],
      "metadata": {
        "colab": {
          "base_uri": "https://localhost:8080/"
        },
        "id": "b-BEBt7LfmBN",
        "outputId": "ff489282-8896-48fa-ec38-db3815f99088"
      },
      "execution_count": 75,
      "outputs": [
        {
          "output_type": "execute_result",
          "data": {
            "text/plain": [
              "[]"
            ]
          },
          "metadata": {},
          "execution_count": 75
        }
      ]
    },
    {
      "cell_type": "code",
      "source": [
        "for c in country:\n",
        "# for country in countries:\n",
        "  print(c)"
      ],
      "metadata": {
        "colab": {
          "base_uri": "https://localhost:8080/"
        },
        "id": "kZLuuGTKfnkI",
        "outputId": "27030f01-5c64-40e7-d2d0-6a1b719114e1"
      },
      "execution_count": 78,
      "outputs": [
        {
          "output_type": "stream",
          "name": "stdout",
          "text": [
            "멕시코\n",
            "캐나다\n",
            "미국\n",
            "미국\n",
            "미국\n",
            "아르헨티나\n",
            "브라질\n"
          ]
        }
      ]
    },
    {
      "cell_type": "code",
      "source": [
        "for c in sorted(country):\n",
        "# for country in countries:\n",
        "  print(c)"
      ],
      "metadata": {
        "colab": {
          "base_uri": "https://localhost:8080/"
        },
        "id": "zQmEEfd4gAis",
        "outputId": "d637bb27-f6d1-4360-ef15-71886422cf9a"
      },
      "execution_count": 79,
      "outputs": [
        {
          "output_type": "stream",
          "name": "stdout",
          "text": [
            "멕시코\n",
            "미국\n",
            "미국\n",
            "미국\n",
            "브라질\n",
            "아르헨티나\n",
            "캐나다\n"
          ]
        }
      ]
    },
    {
      "cell_type": "code",
      "source": [
        "for c in country[::-1]:\n",
        "# for country in countries:\n",
        "  print(c)"
      ],
      "metadata": {
        "colab": {
          "base_uri": "https://localhost:8080/"
        },
        "id": "drRKRNgsgIOr",
        "outputId": "20a4fdad-db08-4b85-bbb7-0550c1e48feb"
      },
      "execution_count": 81,
      "outputs": [
        {
          "output_type": "stream",
          "name": "stdout",
          "text": [
            "브라질\n",
            "아르헨티나\n",
            "미국\n",
            "미국\n",
            "미국\n",
            "캐나다\n",
            "멕시코\n"
          ]
        }
      ]
    },
    {
      "cell_type": "code",
      "source": [
        "for i in enumerate(country):\n",
        "  print(i)"
      ],
      "metadata": {
        "colab": {
          "base_uri": "https://localhost:8080/"
        },
        "id": "4APKa8LWgMtg",
        "outputId": "43a31380-719e-472b-a9c2-e839d774886e"
      },
      "execution_count": 83,
      "outputs": [
        {
          "output_type": "stream",
          "name": "stdout",
          "text": [
            "(0, '멕시코')\n",
            "(1, '캐나다')\n",
            "(2, '미국')\n",
            "(3, '미국')\n",
            "(4, '미국')\n",
            "(5, '아르헨티나')\n",
            "(6, '브라질')\n"
          ]
        }
      ]
    },
    {
      "cell_type": "code",
      "source": [
        "for idx, val in enumerate(country):\n",
        "  print(idx, val)"
      ],
      "metadata": {
        "colab": {
          "base_uri": "https://localhost:8080/"
        },
        "id": "vEg2Vyx9gSk6",
        "outputId": "7ef329f2-95a1-4a0d-dce6-5b1f6b512dc8"
      },
      "execution_count": 84,
      "outputs": [
        {
          "output_type": "stream",
          "name": "stdout",
          "text": [
            "0 멕시코\n",
            "1 캐나다\n",
            "2 미국\n",
            "3 미국\n",
            "4 미국\n",
            "5 아르헨티나\n",
            "6 브라질\n"
          ]
        }
      ]
    },
    {
      "cell_type": "code",
      "source": [
        "for idx, val in enumerate(country):\n",
        "  # if idx % 2 == 0:\n",
        "  # if not(idx % 2):\n",
        "  #  print(idx, val)\n",
        "    if idx % 2: # 0보다 크다\n",
        "      continue\n",
        "print(idx, val)"
      ],
      "metadata": {
        "colab": {
          "base_uri": "https://localhost:8080/"
        },
        "id": "Ng5fjvjrggx7",
        "outputId": "f5dfac88-bbd9-4631-f712-b049dad6dea1"
      },
      "execution_count": 92,
      "outputs": [
        {
          "output_type": "stream",
          "name": "stdout",
          "text": [
            "6 브라질\n"
          ]
        }
      ]
    },
    {
      "cell_type": "code",
      "source": [
        "for idx, val in enumerate(country):\n",
        "  if len(val) == 5:\n",
        "    print(idx, val)\n",
        "  print(\"진행....\")"
      ],
      "metadata": {
        "colab": {
          "base_uri": "https://localhost:8080/"
        },
        "id": "n5zntqIjg_HW",
        "outputId": "f12eee1f-80b7-4cf2-f37c-ade17c420687"
      },
      "execution_count": 93,
      "outputs": [
        {
          "output_type": "stream",
          "name": "stdout",
          "text": [
            "진행....\n",
            "진행....\n",
            "진행....\n",
            "진행....\n",
            "진행....\n",
            "5 아르헨티나\n",
            "진행....\n",
            "진행....\n"
          ]
        }
      ]
    },
    {
      "cell_type": "code",
      "source": [
        "numbers"
      ],
      "metadata": {
        "colab": {
          "base_uri": "https://localhost:8080/"
        },
        "id": "d3-qrQfyhUnH",
        "outputId": "1e3f3c9c-2e41-44c3-8f44-e608d5299bf2"
      },
      "execution_count": 94,
      "outputs": [
        {
          "output_type": "execute_result",
          "data": {
            "text/plain": [
              "[63, 149, 175, 124, 173, 72, 177, 145, 66, 192]"
            ]
          },
          "metadata": {},
          "execution_count": 94
        }
      ]
    },
    {
      "cell_type": "code",
      "source": [
        "lotto = random.choices(range(1, 46), k = 6)  #로또 번호 추첨\n",
        "lotto"
      ],
      "metadata": {
        "colab": {
          "base_uri": "https://localhost:8080/"
        },
        "id": "mnU4kkD9hhma",
        "outputId": "162ec6e8-f556-4f51-c503-09c03c8e454b"
      },
      "execution_count": 97,
      "outputs": [
        {
          "output_type": "execute_result",
          "data": {
            "text/plain": [
              "[15, 1, 37, 29, 38, 19]"
            ]
          },
          "metadata": {},
          "execution_count": 97
        }
      ]
    },
    {
      "cell_type": "code",
      "source": [
        "max(lotto), min(lotto), sum(lotto)"
      ],
      "metadata": {
        "colab": {
          "base_uri": "https://localhost:8080/"
        },
        "id": "jQPmtASKh56k",
        "outputId": "c80ada5f-57ab-4717-fe7d-fb82fb4c5ec0"
      },
      "execution_count": 100,
      "outputs": [
        {
          "output_type": "execute_result",
          "data": {
            "text/plain": [
              "(38, 1, 139)"
            ]
          },
          "metadata": {},
          "execution_count": 100
        }
      ]
    },
    {
      "cell_type": "code",
      "source": [
        "rc = random.choices(range(1, 21), k=20)\n",
        "rc "
      ],
      "metadata": {
        "colab": {
          "base_uri": "https://localhost:8080/"
        },
        "id": "p0kr1du1iEB3",
        "outputId": "0ce00ba1-b2b9-413c-e7b0-34dbe68a98c2"
      },
      "execution_count": 101,
      "outputs": [
        {
          "output_type": "execute_result",
          "data": {
            "text/plain": [
              "[13, 17, 2, 11, 19, 6, 9, 6, 1, 6, 19, 16, 9, 6, 5, 19, 7, 4, 9, 7]"
            ]
          },
          "metadata": {},
          "execution_count": 101
        }
      ]
    },
    {
      "cell_type": "code",
      "source": [
        "lunch = [(rc[i], rc[i+1]) for i in range(0, len(rc), 2)]\n",
        "lunch"
      ],
      "metadata": {
        "colab": {
          "base_uri": "https://localhost:8080/"
        },
        "id": "SBPJoZgriivm",
        "outputId": "a3ac74e4-6df5-411c-accc-0cd718d80515"
      },
      "execution_count": 113,
      "outputs": [
        {
          "output_type": "execute_result",
          "data": {
            "text/plain": [
              "[(13, 17),\n",
              " (2, 11),\n",
              " (19, 6),\n",
              " (9, 6),\n",
              " (1, 6),\n",
              " (19, 16),\n",
              " (9, 6),\n",
              " (5, 19),\n",
              " (7, 4),\n",
              " (9, 7)]"
            ]
          },
          "metadata": {},
          "execution_count": 113
        }
      ]
    },
    {
      "cell_type": "code",
      "source": [
        "# 랜덤으로 뽑은 20명의 번호를, 2명씩 묶고 싶다\n",
        "lunch2 = []\n",
        "for i in range(0, len(rc)): # 20명이 랜덤하게 뽑힌 리스트를 for문으로 반복, 0부터 시작하고 전체길이의, 증가폭이 2인 range\n",
        " # lunch2.append(rc[i]) # 인덱스가 짝수번째인 값\n",
        " # lunch2.append(rc[i+1]) # 인덱스가 홀수번째인 값\n",
        " # tmp = [rc[i], rc[i+1]]\n",
        "  tmp = (rc[i], rc[i-1])\n",
        "  lunch2.append(tmp)\n",
        "lunch2"
      ],
      "metadata": {
        "colab": {
          "base_uri": "https://localhost:8080/"
        },
        "id": "b4In6S5Ti8em",
        "outputId": "73f5c22c-3e03-4389-9bfb-cba50112f58c"
      },
      "execution_count": 115,
      "outputs": [
        {
          "output_type": "execute_result",
          "data": {
            "text/plain": [
              "[(13, 7),\n",
              " (17, 13),\n",
              " (2, 17),\n",
              " (11, 2),\n",
              " (19, 11),\n",
              " (6, 19),\n",
              " (9, 6),\n",
              " (6, 9),\n",
              " (1, 6),\n",
              " (6, 1),\n",
              " (19, 6),\n",
              " (16, 19),\n",
              " (9, 16),\n",
              " (6, 9),\n",
              " (5, 6),\n",
              " (19, 5),\n",
              " (7, 19),\n",
              " (4, 7),\n",
              " (9, 4),\n",
              " (7, 9)]"
            ]
          },
          "metadata": {},
          "execution_count": 115
        }
      ]
    },
    {
      "cell_type": "code",
      "source": [
        "lunch = [(rc[i], rc[i-1]) for i in range(len(rc)) if not % 2]\n",
        "lunch"
      ],
      "metadata": {
        "colab": {
          "base_uri": "https://localhost:8080/",
          "height": 136
        },
        "id": "goAbORJ5kJPN",
        "outputId": "c2cb4759-121d-42fe-c320-a9b3ebcaafb8"
      },
      "execution_count": 117,
      "outputs": [
        {
          "output_type": "error",
          "ename": "SyntaxError",
          "evalue": "ignored",
          "traceback": [
            "\u001b[0;36m  File \u001b[0;32m\"<ipython-input-117-b7c1c9ae71a2>\"\u001b[0;36m, line \u001b[0;32m1\u001b[0m\n\u001b[0;31m    lunch = [(rc[i], rc[i-1]) for i in range(len(rc)) if not % 2]\u001b[0m\n\u001b[0m                                                             ^\u001b[0m\n\u001b[0;31mSyntaxError\u001b[0m\u001b[0;31m:\u001b[0m invalid syntax\n"
          ]
        }
      ]
    },
    {
      "cell_type": "code",
      "source": [],
      "metadata": {
        "id": "MENzc4j4lTNF"
      },
      "execution_count": null,
      "outputs": []
    },
    {
      "cell_type": "markdown",
      "source": [
        "## 문자열"
      ],
      "metadata": {
        "id": "Oa78YGqvlc8U"
      }
    },
    {
      "cell_type": "code",
      "source": [
        "s = '오늘의 점심은 돈까스 입니다'\n",
        "s"
      ],
      "metadata": {
        "colab": {
          "base_uri": "https://localhost:8080/",
          "height": 35
        },
        "id": "5vDrfT2xld60",
        "outputId": "28c1cb12-7813-40d8-eb43-e846c6392e88"
      },
      "execution_count": 118,
      "outputs": [
        {
          "output_type": "execute_result",
          "data": {
            "text/plain": [
              "'오늘의 점심은 돈까스 입니다'"
            ],
            "application/vnd.google.colaboratory.intrinsic+json": {
              "type": "string"
            }
          },
          "metadata": {},
          "execution_count": 118
        }
      ]
    },
    {
      "cell_type": "code",
      "source": [
        "s.replace('점심', '저녁'), s"
      ],
      "metadata": {
        "colab": {
          "base_uri": "https://localhost:8080/"
        },
        "id": "H02QBOutli92",
        "outputId": "bd7e6c35-946a-465a-e420-994b54d8b2b7"
      },
      "execution_count": 119,
      "outputs": [
        {
          "output_type": "execute_result",
          "data": {
            "text/plain": [
              "('오늘의 저녁은 돈까스 입니다', '오늘의 점심은 돈까스 입니다')"
            ]
          },
          "metadata": {},
          "execution_count": 119
        }
      ]
    },
    {
      "cell_type": "code",
      "source": [
        "s2 = '오늘의 점심은 돈까스 입니다', '오늘의  저녁은 돈까스 입니다'\n",
        "s2"
      ],
      "metadata": {
        "colab": {
          "base_uri": "https://localhost:8080/"
        },
        "id": "joZmJpbnlsVV",
        "outputId": "e0388ea6-a55c-4dcc-cd3a-33cc6c7d64b5"
      },
      "execution_count": 125,
      "outputs": [
        {
          "output_type": "execute_result",
          "data": {
            "text/plain": [
              "('오늘의 점심은 돈까스 입니다', '오늘의  저녁은 돈까스 입니다')"
            ]
          },
          "metadata": {},
          "execution_count": 125
        }
      ]
    },
    {
      "cell_type": "code",
      "source": [
        "s2.replace('돈까스', '파스타'), s2"
      ],
      "metadata": {
        "colab": {
          "base_uri": "https://localhost:8080/",
          "height": 172
        },
        "id": "pvwEcw-Pl5L6",
        "outputId": "0861b511-7642-473e-e43e-2cad1affcd89"
      },
      "execution_count": 126,
      "outputs": [
        {
          "output_type": "error",
          "ename": "AttributeError",
          "evalue": "ignored",
          "traceback": [
            "\u001b[0;31m---------------------------------------------------------------------------\u001b[0m",
            "\u001b[0;31mAttributeError\u001b[0m                            Traceback (most recent call last)",
            "\u001b[0;32m<ipython-input-126-070542b0e3dc>\u001b[0m in \u001b[0;36m<module>\u001b[0;34m\u001b[0m\n\u001b[0;32m----> 1\u001b[0;31m \u001b[0ms2\u001b[0m\u001b[0;34m.\u001b[0m\u001b[0mreplace\u001b[0m\u001b[0;34m(\u001b[0m\u001b[0;34m'돈까스'\u001b[0m\u001b[0;34m,\u001b[0m \u001b[0;34m'파스타'\u001b[0m\u001b[0;34m)\u001b[0m\u001b[0;34m,\u001b[0m \u001b[0ms2\u001b[0m\u001b[0;34m\u001b[0m\u001b[0;34m\u001b[0m\u001b[0m\n\u001b[0m",
            "\u001b[0;31mAttributeError\u001b[0m: 'tuple' object has no attribute 'replace'"
          ]
        }
      ]
    },
    {
      "cell_type": "code",
      "source": [
        "s2.replace('돈가스', '파스타', 1)"
      ],
      "metadata": {
        "id": "Rr9GbeG-l-1H"
      },
      "execution_count": null,
      "outputs": []
    },
    {
      "cell_type": "code",
      "source": [
        "txt = '비트코인 이더리움 리플'\n",
        "txt.split(), txt # sep = 구분자 =>' '"
      ],
      "metadata": {
        "colab": {
          "base_uri": "https://localhost:8080/"
        },
        "id": "ASX6PbknmNLn",
        "outputId": "b1a200dc-059c-47a0-a70b-3bef112636c7"
      },
      "execution_count": 123,
      "outputs": [
        {
          "output_type": "execute_result",
          "data": {
            "text/plain": [
              "(['비트코인', '이더리움', '리플'], '비트코인 이더리움 리플')"
            ]
          },
          "metadata": {},
          "execution_count": 123
        }
      ]
    },
    {
      "cell_type": "code",
      "source": [
        "txt2 = '비트코인,이더리움,리플'\n",
        "txt2.split(','), txt2.split(sep=',')"
      ],
      "metadata": {
        "colab": {
          "base_uri": "https://localhost:8080/"
        },
        "id": "sKnzTk4wmYyU",
        "outputId": "37c2fb20-0d34-40fa-fdc2-5371f95df796"
      },
      "execution_count": 124,
      "outputs": [
        {
          "output_type": "execute_result",
          "data": {
            "text/plain": [
              "(['비트코인', '이더리움', '리플'], ['비트코인', '이더리움', '리플'])"
            ]
          },
          "metadata": {},
          "execution_count": 124
        }
      ]
    },
    {
      "cell_type": "code",
      "source": [
        "[i for i in s] # 리스트 컴프리헨션하면 -> 문자열이 한 글자씩 쪼개진 글자가 됨"
      ],
      "metadata": {
        "colab": {
          "base_uri": "https://localhost:8080/"
        },
        "id": "nh8Df6wUmicP",
        "outputId": "af30677a-be4a-4cfc-9fe1-c8b6aff54c6d"
      },
      "execution_count": 127,
      "outputs": [
        {
          "output_type": "execute_result",
          "data": {
            "text/plain": [
              "['오', '늘', '의', ' ', '점', '심', '은', ' ', '돈', '까', '스', ' ', '입', '니', '다']"
            ]
          },
          "metadata": {},
          "execution_count": 127
        }
      ]
    },
    {
      "cell_type": "code",
      "source": [
        "sep = [ i for i in s]\n",
        "sep"
      ],
      "metadata": {
        "colab": {
          "base_uri": "https://localhost:8080/"
        },
        "id": "3PR6Xkrrm3Cy",
        "outputId": "42c20f9c-4d6c-4a3a-8b0e-5128df2bd3bf"
      },
      "execution_count": 128,
      "outputs": [
        {
          "output_type": "execute_result",
          "data": {
            "text/plain": [
              "['오', '늘', '의', ' ', '점', '심', '은', ' ', '돈', '까', '스', ' ', '입', '니', '다']"
            ]
          },
          "metadata": {},
          "execution_count": 128
        }
      ]
    },
    {
      "cell_type": "code",
      "source": [
        "sep.join(\"\")"
      ],
      "metadata": {
        "colab": {
          "base_uri": "https://localhost:8080/",
          "height": 172
        },
        "id": "v-BWPfsEm70O",
        "outputId": "1f558882-9e56-4266-ead4-77e2f4f43683"
      },
      "execution_count": 129,
      "outputs": [
        {
          "output_type": "error",
          "ename": "AttributeError",
          "evalue": "ignored",
          "traceback": [
            "\u001b[0;31m---------------------------------------------------------------------------\u001b[0m",
            "\u001b[0;31mAttributeError\u001b[0m                            Traceback (most recent call last)",
            "\u001b[0;32m<ipython-input-129-abed9e2ba3e3>\u001b[0m in \u001b[0;36m<module>\u001b[0;34m\u001b[0m\n\u001b[0;32m----> 1\u001b[0;31m \u001b[0msep\u001b[0m\u001b[0;34m.\u001b[0m\u001b[0mjoin\u001b[0m\u001b[0;34m(\u001b[0m\u001b[0;34m\"\"\u001b[0m\u001b[0;34m)\u001b[0m\u001b[0;34m\u001b[0m\u001b[0;34m\u001b[0m\u001b[0m\n\u001b[0m",
            "\u001b[0;31mAttributeError\u001b[0m: 'list' object has no attribute 'join'"
          ]
        }
      ]
    },
    {
      "cell_type": "code",
      "source": [
        "\"\".join(sep)"
      ],
      "metadata": {
        "colab": {
          "base_uri": "https://localhost:8080/",
          "height": 35
        },
        "id": "VGSVUvwXm-HN",
        "outputId": "dd03f7af-2c1d-4724-a285-a0ca58d7f6cc"
      },
      "execution_count": 130,
      "outputs": [
        {
          "output_type": "execute_result",
          "data": {
            "text/plain": [
              "'오늘의 점심은 돈까스 입니다'"
            ],
            "application/vnd.google.colaboratory.intrinsic+json": {
              "type": "string"
            }
          },
          "metadata": {},
          "execution_count": 130
        }
      ]
    },
    {
      "cell_type": "code",
      "source": [
        "\",\".join(sep)"
      ],
      "metadata": {
        "colab": {
          "base_uri": "https://localhost:8080/",
          "height": 35
        },
        "id": "Ttij_5ypnArs",
        "outputId": "4d778722-2566-4c8c-8f06-f784709af6e7"
      },
      "execution_count": 131,
      "outputs": [
        {
          "output_type": "execute_result",
          "data": {
            "text/plain": [
              "'오,늘,의, ,점,심,은, ,돈,까,스, ,입,니,다'"
            ],
            "application/vnd.google.colaboratory.intrinsic+json": {
              "type": "string"
            }
          },
          "metadata": {},
          "execution_count": 131
        }
      ]
    },
    {
      "cell_type": "code",
      "source": [
        "a = \"JamesPotato\"\n",
        "a.upper(), a.lower()"
      ],
      "metadata": {
        "colab": {
          "base_uri": "https://localhost:8080/"
        },
        "id": "RXLpMxcqnDQQ",
        "outputId": "3d198f62-9bd7-4be0-a538-1f97639c610b"
      },
      "execution_count": 132,
      "outputs": [
        {
          "output_type": "execute_result",
          "data": {
            "text/plain": [
              "('JAMESPOTATO', 'jamespotato')"
            ]
          },
          "metadata": {},
          "execution_count": 132
        }
      ]
    },
    {
      "cell_type": "code",
      "source": [
        "s = \"             모야     \"\n",
        "s.strip(), s.lstrip(), s.rstrip()"
      ],
      "metadata": {
        "colab": {
          "base_uri": "https://localhost:8080/"
        },
        "id": "8ag-zscLnOsN",
        "outputId": "e99e937f-9fdc-4a8f-89d4-f147eb8a52e7"
      },
      "execution_count": 133,
      "outputs": [
        {
          "output_type": "execute_result",
          "data": {
            "text/plain": [
              "('모야', '모야     ', '             모야')"
            ]
          },
          "metadata": {},
          "execution_count": 133
        }
      ]
    },
    {
      "cell_type": "code",
      "source": [
        "a = \"35\"\n",
        "a.zfill(6)"
      ],
      "metadata": {
        "colab": {
          "base_uri": "https://localhost:8080/",
          "height": 35
        },
        "id": "UFyxR-93nf77",
        "outputId": "7944f147-64ac-4c10-e751-044501fa54fd"
      },
      "execution_count": 134,
      "outputs": [
        {
          "output_type": "execute_result",
          "data": {
            "text/plain": [
              "'000035'"
            ],
            "application/vnd.google.colaboratory.intrinsic+json": {
              "type": "string"
            }
          },
          "metadata": {},
          "execution_count": 134
        }
      ]
    },
    {
      "cell_type": "code",
      "source": [
        "s = \"안녕 난 지리산 감자\"\n",
        "s.find(\"감자\")"
      ],
      "metadata": {
        "colab": {
          "base_uri": "https://localhost:8080/"
        },
        "id": "vVj9A2zUnihK",
        "outputId": "8d79e5ba-3a5d-4028-d0db-3692edf31916"
      },
      "execution_count": 135,
      "outputs": [
        {
          "output_type": "execute_result",
          "data": {
            "text/plain": [
              "9"
            ]
          },
          "metadata": {},
          "execution_count": 135
        }
      ]
    },
    {
      "cell_type": "code",
      "source": [
        "s = \"안녕 난 지리산 감자\"\n",
        "s.find(\"고구마\") # 없으면 -1"
      ],
      "metadata": {
        "colab": {
          "base_uri": "https://localhost:8080/"
        },
        "id": "srMNDvXEnnN5",
        "outputId": "fab73e28-98eb-4aec-ad07-95a6b84adcfc"
      },
      "execution_count": 136,
      "outputs": [
        {
          "output_type": "execute_result",
          "data": {
            "text/plain": [
              "-1"
            ]
          },
          "metadata": {},
          "execution_count": 136
        }
      ]
    }
  ]
}