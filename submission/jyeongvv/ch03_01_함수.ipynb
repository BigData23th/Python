{
  "nbformat": 4,
  "nbformat_minor": 0,
  "metadata": {
    "colab": {
      "provenance": [],
      "include_colab_link": true
    },
    "kernelspec": {
      "name": "python3",
      "display_name": "Python 3"
    },
    "language_info": {
      "name": "python"
    }
  },
  "cells": [
    {
      "cell_type": "markdown",
      "metadata": {
        "id": "view-in-github",
        "colab_type": "text"
      },
      "source": [
        "<a href=\"https://colab.research.google.com/github/jyeongvv/Python_jy/blob/main/submission/jyeongvv/ch03_01_%ED%95%A8%EC%88%98.ipynb\" target=\"_parent\"><img src=\"https://colab.research.google.com/assets/colab-badge.svg\" alt=\"Open In Colab\"/></a>"
      ]
    },
    {
      "cell_type": "markdown",
      "source": [
        "# 함수"
      ],
      "metadata": {
        "id": "BVxDJuR2Yly6"
      }
    },
    {
      "cell_type": "markdown",
      "source": [
        "프로그래밍을 하다 보면 들어가는 값만 바뀔 뿐 같은 코드가 계속 반복되는 경우가 많습니다. 특히 같은 코드를 반복해서 작성하면 코드도 길어지고 중간에 실수할 가능성이 높아집니다.\n",
        "\n",
        "파이썬은 함수(function)라는 기능을 제공하는데 특정 용도의 코드를 한 곳에 모아 놓은 것을 뜻합니다. 그래서 함수는 처음 한 번만 작성해 놓으면 나중에 필요할 때 계속 불러 쓸 수 있습니다. 예를 들어 지금까지 사용했던 print, input 등도 모두 파이썬에서 미리 만들어 둔 함수입니다.\n",
        "\n",
        "즉, 함수를 사용하면 이런 점이 좋습니다.\n",
        "\n",
        "* 코드의 용도를 구분할 수 있다.\n",
        "* 코드를 재사용할 수 있다.\n",
        "* 실수를 줄일 수 있다."
      ],
      "metadata": {
        "id": "bFBy5TGDYpPM"
      }
    },
    {
      "cell_type": "markdown",
      "source": [
        "## 함수 만들기"
      ],
      "metadata": {
        "id": "ppOj_leXYy_7"
      }
    },
    {
      "cell_type": "markdown",
      "source": [
        "함수는 def에 함수 이름을 지정하고 ( )(괄호)와 :(콜론)을 붙인 뒤 다음 줄에 원하는 코드를 작성합니다(함수의 이름을 짓는 방법은 변수와 같습니다). 이때 코드는 반드시 들여쓰기를 해야 합니다(들여쓰기 규칙은 if, for, while과 같습니다).\n",
        "\n",
        "```\n",
        "def 함수이름():\n",
        "     코드\n",
        "```\n",
        "\n",
        "여기서 def는 정의하다(**def**ine)에서 따온 키워드입니다."
      ],
      "metadata": {
        "id": "XoiZ-_n5Y2b-"
      }
    },
    {
      "cell_type": "code",
      "execution_count": 1,
      "metadata": {
        "id": "xDDl3ikNJviB"
      },
      "outputs": [],
      "source": [
        "def hello():\n",
        "  print(\"안녕하세오\")"
      ]
    },
    {
      "cell_type": "markdown",
      "source": [
        "### 함수 호출하기"
      ],
      "metadata": {
        "id": "KsMUc54MZBFf"
      }
    },
    {
      "cell_type": "markdown",
      "source": [
        "함수를 사용하는 방법을 \"함수를 호출(call)한다\"라고 부릅니다."
      ],
      "metadata": {
        "id": "qRonxM_jZG1M"
      }
    },
    {
      "cell_type": "code",
      "source": [
        "# 함수()\n",
        "hello()"
      ],
      "metadata": {
        "colab": {
          "base_uri": "https://localhost:8080/"
        },
        "id": "xHZzQO25Y_Rz",
        "outputId": "fdeda2b4-a183-4144-b714-652721002448"
      },
      "execution_count": 2,
      "outputs": [
        {
          "output_type": "stream",
          "name": "stdout",
          "text": [
            "안녕하세오\n"
          ]
        }
      ]
    },
    {
      "cell_type": "markdown",
      "source": [
        "### 함수 작성과 함수 호출 순서"
      ],
      "metadata": {
        "id": "yM1uDaQQZMM8"
      }
    },
    {
      "cell_type": "markdown",
      "source": [
        "함수를 만들고 호출할 때 주의할 점이 있는데, 바로 함수를 만들기 전에 함수를 먼저 호출하면 안 된다는 점입니다. 즉, 다음과 같이 함수를 먼저 호출한 뒤 함수를 만들 수는 없습니다."
      ],
      "metadata": {
        "id": "kLonkjiBZOBW"
      }
    },
    {
      "cell_type": "code",
      "source": [
        "hello2()\n",
        "\n",
        "def hello2():\n",
        "  print(\"hello2\")"
      ],
      "metadata": {
        "colab": {
          "base_uri": "https://localhost:8080/",
          "height": 227
        },
        "id": "E0tkgMuTZFKl",
        "outputId": "1ed1d96b-dac3-42a3-b3ec-3788c499b6ac"
      },
      "execution_count": 3,
      "outputs": [
        {
          "output_type": "error",
          "ename": "NameError",
          "evalue": "ignored",
          "traceback": [
            "\u001b[0;31m---------------------------------------------------------------------------\u001b[0m",
            "\u001b[0;31mNameError\u001b[0m                                 Traceback (most recent call last)",
            "\u001b[0;32m<ipython-input-3-366bdca58281>\u001b[0m in \u001b[0;36m<module>\u001b[0;34m\u001b[0m\n\u001b[0;32m----> 1\u001b[0;31m \u001b[0mhello2\u001b[0m\u001b[0;34m(\u001b[0m\u001b[0;34m)\u001b[0m\u001b[0;34m\u001b[0m\u001b[0;34m\u001b[0m\u001b[0m\n\u001b[0m\u001b[1;32m      2\u001b[0m \u001b[0;34m\u001b[0m\u001b[0m\n\u001b[1;32m      3\u001b[0m \u001b[0;32mdef\u001b[0m \u001b[0mhello2\u001b[0m\u001b[0;34m(\u001b[0m\u001b[0;34m)\u001b[0m\u001b[0;34m:\u001b[0m\u001b[0;34m\u001b[0m\u001b[0;34m\u001b[0m\u001b[0m\n\u001b[1;32m      4\u001b[0m   \u001b[0mprint\u001b[0m\u001b[0;34m(\u001b[0m\u001b[0;34m\"hello2\"\u001b[0m\u001b[0;34m)\u001b[0m\u001b[0;34m\u001b[0m\u001b[0;34m\u001b[0m\u001b[0m\n",
            "\u001b[0;31mNameError\u001b[0m: name 'hello2' is not defined"
          ]
        }
      ]
    },
    {
      "cell_type": "markdown",
      "source": [
        "함수를 먼저 호출하면 함수가 정의(define)되지 않았다는 에러가 발생합니다. 왜냐하면 파이썬 코드는 위에서 아래로 순차적으로 실행되기 때문입니다. 반드시 함수를 먼저 만든 뒤에 함수를 호출해야 합니다."
      ],
      "metadata": {
        "id": "a0WCaFtJZT5p"
      }
    },
    {
      "cell_type": "markdown",
      "source": [
        "### 빈 함수 만들기"
      ],
      "metadata": {
        "id": "fBYqHujdZXqy"
      }
    },
    {
      "cell_type": "code",
      "source": [
        "# 내용이 없는 빈 함수를 만들 때는 코드 부분에 pass를 넣어줍니다.\n",
        "def fun():\n",
        "  pass"
      ],
      "metadata": {
        "id": "Ing4tVWwZQWd"
      },
      "execution_count": 5,
      "outputs": []
    },
    {
      "cell_type": "code",
      "source": [
        "def 설거지():# 상위 모듈\n",
        "  그릇모으기() # 하위 모듈\n",
        "  세제뿌리기()\n",
        "  헹구기()\n",
        "  말리기()\n",
        "\n",
        "def 그릇모으기 ():\n",
        "  pass\n",
        "\n",
        "def 세제뿌리기 ():\n",
        "  print(\"세제 뿌링클\")\n",
        "\n",
        "def 헹구기 ():\n",
        "  pass\n",
        "\n",
        "def 말리기 ():\n",
        "  pass"
      ],
      "metadata": {
        "id": "_l1xqNoSW9hF"
      },
      "execution_count": 6,
      "outputs": []
    },
    {
      "cell_type": "markdown",
      "source": [
        "나중에 다른 사람이 만든 파이썬 소스 코드를 보다 보면 pass를 자주 접할 수 있습니다.\n",
        "\n",
        "pass는 아무 일을 하지 않아도 함수의 틀을 유지할 필요가 있을 때 사용합니다."
      ],
      "metadata": {
        "id": "FAqscQPfgj8r"
      }
    },
    {
      "cell_type": "markdown",
      "source": [
        "## 매개변수 (parameter)"
      ],
      "metadata": {
        "id": "kilXJUWkZjZC"
      }
    },
    {
      "cell_type": "markdown",
      "source": [
        "함수에서 값을 받으려면 ( )(괄호) 안에 변수 이름을 지정해주면 됩니다. 특히 이 변수를 매개변수(parameter)라고 부릅니다.\n",
        "\n",
        "```\n",
        "def 함수이름(매개변수1, 매개변수2):\n",
        "    코드\n",
        "```"
      ],
      "metadata": {
        "id": "E78p95CvdR9w"
      }
    },
    {
      "cell_type": "code",
      "source": [
        "def plus(a, b):\n",
        "  print(a + b)"
      ],
      "metadata": {
        "id": "7BbamUj5dUEa"
      },
      "execution_count": 8,
      "outputs": []
    },
    {
      "cell_type": "code",
      "source": [
        "plus(14,16)"
      ],
      "metadata": {
        "colab": {
          "base_uri": "https://localhost:8080/"
        },
        "id": "5IvNJiOadXFQ",
        "outputId": "9283cdb7-6e5e-457e-a263-8265d9db7a57"
      },
      "execution_count": 10,
      "outputs": [
        {
          "output_type": "stream",
          "name": "stdout",
          "text": [
            "30\n"
          ]
        }
      ]
    },
    {
      "cell_type": "code",
      "source": [
        "a, b"
      ],
      "metadata": {
        "colab": {
          "base_uri": "https://localhost:8080/",
          "height": 172
        },
        "id": "RnBW9XCUYkys",
        "outputId": "db9679e2-4c68-4930-b1b0-e686f3bdd835"
      },
      "execution_count": 11,
      "outputs": [
        {
          "output_type": "error",
          "ename": "NameError",
          "evalue": "ignored",
          "traceback": [
            "\u001b[0;31m---------------------------------------------------------------------------\u001b[0m",
            "\u001b[0;31mNameError\u001b[0m                                 Traceback (most recent call last)",
            "\u001b[0;32m<ipython-input-11-a600cc99a29e>\u001b[0m in \u001b[0;36m<module>\u001b[0;34m\u001b[0m\n\u001b[0;32m----> 1\u001b[0;31m \u001b[0ma\u001b[0m\u001b[0;34m,\u001b[0m \u001b[0mb\u001b[0m\u001b[0;34m\u001b[0m\u001b[0;34m\u001b[0m\u001b[0m\n\u001b[0m",
            "\u001b[0;31mNameError\u001b[0m: name 'a' is not defined"
          ]
        }
      ]
    },
    {
      "cell_type": "code",
      "source": [
        "a = 100\n",
        "plus(50, 20) # 함수 안에서 일어난 일은 외부랑 관련 없음\n",
        "a + 50"
      ],
      "metadata": {
        "colab": {
          "base_uri": "https://localhost:8080/"
        },
        "id": "OHz1NTIQYq6O",
        "outputId": "06532893-baf0-47ca-c6e8-75fd9f31a3c2"
      },
      "execution_count": 14,
      "outputs": [
        {
          "output_type": "stream",
          "name": "stdout",
          "text": [
            "70\n"
          ]
        },
        {
          "output_type": "execute_result",
          "data": {
            "text/plain": [
              "150"
            ]
          },
          "metadata": {},
          "execution_count": 14
        }
      ]
    },
    {
      "cell_type": "markdown",
      "source": [
        "함수를 호출할 때 넣는 값을 인수(argument)라고 부릅니다."
      ],
      "metadata": {
        "id": "79ZgXKffdaIE"
      }
    },
    {
      "cell_type": "markdown",
      "source": [
        "## 함수의 결과를 반환하기"
      ],
      "metadata": {
        "id": "QXyRsdQRdfcx"
      }
    },
    {
      "cell_type": "markdown",
      "source": [
        "함수 안에서 return을 사용하면 값을 함수 바깥으로 반환합니다(return에 값을 지정하지 않으면 None을 반환).\n",
        "\n",
        "```\n",
        "def 함수이름(매개변수):\n",
        "    return 반환값\n",
        "```"
      ],
      "metadata": {
        "id": "002t4GWpdlKr"
      }
    },
    {
      "cell_type": "code",
      "source": [
        "def minus(a, b):\n",
        "  c = a - b\n",
        "  return c"
      ],
      "metadata": {
        "id": "687JFw4tdZVz"
      },
      "execution_count": 15,
      "outputs": []
    },
    {
      "cell_type": "code",
      "source": [
        "c = 40\n",
        "minus(10, 20)\n",
        "c"
      ],
      "metadata": {
        "colab": {
          "base_uri": "https://localhost:8080/"
        },
        "id": "AHYJBXNHdwrC",
        "outputId": "3a0bee84-2fb1-4a5c-a22d-18fb08c6fde0"
      },
      "execution_count": 17,
      "outputs": [
        {
          "output_type": "execute_result",
          "data": {
            "text/plain": [
              "40"
            ]
          },
          "metadata": {},
          "execution_count": 17
        }
      ]
    },
    {
      "cell_type": "code",
      "source": [
        "c = minus(10, 20)\n",
        "c"
      ],
      "metadata": {
        "colab": {
          "base_uri": "https://localhost:8080/"
        },
        "id": "WuwMCR1XZmIV",
        "outputId": "d0d30f9a-d88e-4773-b769-5fd6ffa3e488"
      },
      "execution_count": 19,
      "outputs": [
        {
          "output_type": "execute_result",
          "data": {
            "text/plain": [
              "-10"
            ]
          },
          "metadata": {},
          "execution_count": 19
        }
      ]
    },
    {
      "cell_type": "code",
      "source": [
        "def lotto():\n",
        "  print(f\"실행 : {45}\")\n",
        "  return 30\n",
        "  # return\n",
        "# return\n",
        "\n",
        "a = lotto()\n",
        "print(f\"반환 : {a}\")"
      ],
      "metadata": {
        "colab": {
          "base_uri": "https://localhost:8080/"
        },
        "id": "oHRSMXMiZryE",
        "outputId": "33a9da20-55df-41d9-dc66-fc717f51c1a8"
      },
      "execution_count": 26,
      "outputs": [
        {
          "output_type": "stream",
          "name": "stdout",
          "text": [
            "실행 : 45\n",
            "반환 : 30\n"
          ]
        }
      ]
    },
    {
      "cell_type": "markdown",
      "source": [
        "return으로 반환하는 값은 반환값이라고 하며 함수를 호출해준 바깥에 결과를 알려주기 위해 사용합니다."
      ],
      "metadata": {
        "id": "Ncoqgxukd3Ox"
      }
    },
    {
      "cell_type": "code",
      "source": [
        "# 반환값은 변수에 저장하지 않고 바로 다른 함수에 넣을 수도 있습니다.\n",
        "print(lotto())"
      ],
      "metadata": {
        "id": "s0Fm428vd0XU",
        "colab": {
          "base_uri": "https://localhost:8080/"
        },
        "outputId": "b14cb824-1e43-420f-f0e3-3a65f905f437"
      },
      "execution_count": 29,
      "outputs": [
        {
          "output_type": "stream",
          "name": "stdout",
          "text": [
            "실행 : 45\n",
            "30\n"
          ]
        }
      ]
    },
    {
      "cell_type": "code",
      "source": [
        "def concat(a, b):\n",
        "  return a + b\n",
        "\n",
        "concat(\"안녕\", \"세상\")\n",
        "\n",
        "input(concat(\"안녕\", \"세상\"))"
      ],
      "metadata": {
        "colab": {
          "base_uri": "https://localhost:8080/",
          "height": 54
        },
        "id": "CWp0SzxVeBVc",
        "outputId": "e19ed016-c2e2-47ce-d5a8-bda47a36f762"
      },
      "execution_count": 31,
      "outputs": [
        {
          "name": "stdout",
          "output_type": "stream",
          "text": [
            "안녕세상옹\n"
          ]
        },
        {
          "output_type": "execute_result",
          "data": {
            "text/plain": [
              "'옹'"
            ],
            "application/vnd.google.colaboratory.intrinsic+json": {
              "type": "string"
            }
          },
          "metadata": {},
          "execution_count": 31
        }
      ]
    },
    {
      "cell_type": "markdown",
      "source": [
        "### return으로 함수 중간에서 빠져나오기"
      ],
      "metadata": {
        "id": "MLqxIu1cd95p"
      }
    },
    {
      "cell_type": "code",
      "source": [
        "def concat(a, b): # 문자열을 연결하기 위해 설계\n",
        "  # 숫자가 들어오면? -> 숫자는 안됩니다\n",
        "  if type(a) != str:\n",
        "    print(\"첫번째 인자가 문자열이 아닙니다\")\n",
        "    return\n",
        "  if type(a) != str:\n",
        "    print(\"두번째 인자가 문자열이 아닙니다\")\n",
        "    return   \n",
        "  return a + b"
      ],
      "metadata": {
        "id": "ggO7ruEQawOR"
      },
      "execution_count": 38,
      "outputs": []
    },
    {
      "cell_type": "code",
      "source": [
        "r = concat(1, 1)\n",
        "print(f\"Return : {r}\")"
      ],
      "metadata": {
        "colab": {
          "base_uri": "https://localhost:8080/"
        },
        "id": "Isbm7qsRbR-x",
        "outputId": "5ee63911-228c-4373-f35e-dc9fecbb26ae"
      },
      "execution_count": 40,
      "outputs": [
        {
          "output_type": "stream",
          "name": "stdout",
          "text": [
            "첫번째 인자가 문자열이 아닙니다\n",
            "Return : None\n"
          ]
        }
      ]
    },
    {
      "cell_type": "code",
      "source": [
        "r = concat(1, 1)\n",
        "print(f\"Return : {r}\")"
      ],
      "metadata": {
        "id": "JNQ5hH61bZx5"
      },
      "execution_count": null,
      "outputs": []
    },
    {
      "cell_type": "code",
      "source": [
        "def guess(number):\n",
        "  answer = 100\n",
        "  if number == answer: # 일치하면\n",
        "    return \"정답\"\n",
        "  if number > answer:\n",
        "    return \"Down\"\n",
        "  if number < answer:\n",
        "    return \"Up\""
      ],
      "metadata": {
        "id": "E0kruLyacALo"
      },
      "execution_count": 42,
      "outputs": []
    },
    {
      "cell_type": "code",
      "source": [
        "def guess2(number):\n",
        "  answer = 100\n",
        "  result = None\n",
        "  if number == answer: # 일치하면\n",
        "    result = \"정답\"\n",
        "  if number > answer:\n",
        "    result = \"Down\"\n",
        "  if number < answer:\n",
        "    result = \"Up\"\n",
        "  return result"
      ],
      "metadata": {
        "id": "eii5PIChciQg"
      },
      "execution_count": 55,
      "outputs": []
    },
    {
      "cell_type": "code",
      "source": [
        "guess(50), guess(120), guess(100)"
      ],
      "metadata": {
        "colab": {
          "base_uri": "https://localhost:8080/"
        },
        "id": "VUP4YpYAdJxB",
        "outputId": "6abbaa49-8c5c-43c6-f7a7-86792304727e"
      },
      "execution_count": 49,
      "outputs": [
        {
          "output_type": "execute_result",
          "data": {
            "text/plain": [
              "('Up', 'Down', '정답')"
            ]
          },
          "metadata": {},
          "execution_count": 49
        }
      ]
    },
    {
      "cell_type": "code",
      "source": [
        "guess2(100)"
      ],
      "metadata": {
        "colab": {
          "base_uri": "https://localhost:8080/",
          "height": 35
        },
        "id": "O7RAaPv2dYeN",
        "outputId": "8f305b26-3352-4b22-c4ac-d1422322d11e"
      },
      "execution_count": 56,
      "outputs": [
        {
          "output_type": "execute_result",
          "data": {
            "text/plain": [
              "'정답'"
            ],
            "application/vnd.google.colaboratory.intrinsic+json": {
              "type": "string"
            }
          },
          "metadata": {},
          "execution_count": 56
        }
      ]
    },
    {
      "cell_type": "code",
      "source": [
        "def not_ten(a):\n",
        "  if a == 10:\n",
        "    return\n",
        "  print(f\"{a}입니다\")\n",
        "\n",
        "not_ten(5)\n",
        "not_ten(10)"
      ],
      "metadata": {
        "colab": {
          "base_uri": "https://localhost:8080/"
        },
        "id": "24GblCxFdmYg",
        "outputId": "a09fb524-40ae-42b1-f38b-c785a15c5ab8"
      },
      "execution_count": 52,
      "outputs": [
        {
          "output_type": "stream",
          "name": "stdout",
          "text": [
            "5입니다\n"
          ]
        }
      ]
    },
    {
      "cell_type": "code",
      "source": [
        "def loop(a, b, c):\n",
        "  for i in range(a, b+1):\n",
        "    print(i)\n",
        "    if i % c == 0: # i가 c의 \n",
        "      print(f\"** {c}의 배수를 찾았습니다! **\")\n",
        "      return i\n",
        "  return 0"
      ],
      "metadata": {
        "id": "MdtP72Nyd6q-"
      },
      "execution_count": 58,
      "outputs": []
    },
    {
      "cell_type": "code",
      "source": [
        "loop(19, 50, 17)"
      ],
      "metadata": {
        "colab": {
          "base_uri": "https://localhost:8080/"
        },
        "id": "uJYhItfKeSTF",
        "outputId": "c9b2bae8-e6b8-4838-e265-3298efdc3911"
      },
      "execution_count": 59,
      "outputs": [
        {
          "output_type": "stream",
          "name": "stdout",
          "text": [
            "19\n",
            "20\n",
            "21\n",
            "22\n",
            "23\n",
            "24\n",
            "25\n",
            "26\n",
            "27\n",
            "28\n",
            "29\n",
            "30\n",
            "31\n",
            "32\n",
            "33\n",
            "34\n",
            "** 17의 배수를 찾았습니다! **\n"
          ]
        },
        {
          "output_type": "execute_result",
          "data": {
            "text/plain": [
              "34"
            ]
          },
          "metadata": {},
          "execution_count": 59
        }
      ]
    },
    {
      "cell_type": "markdown",
      "source": [
        "return은 함수 중간에서 빠져나올 때 자주 사용합니다. 보통은 if와 조합해서 특정 조건일 때 함수 중간에서 빠져나옵니다."
      ],
      "metadata": {
        "id": "ekWXLlQQeLd1"
      }
    },
    {
      "cell_type": "markdown",
      "source": [
        "## 함수에서 값을 여러 개 반환하기"
      ],
      "metadata": {
        "id": "dVze2R3qfTpX"
      }
    },
    {
      "cell_type": "markdown",
      "source": [
        "함수에서 값을 여러 개 반환할 때는 다음과 같이 return에 값이나 변수를 ,(콤마)로 구분해서 지정하면 됩니다.\n",
        "\n",
        "```\n",
        "def 함수이름(매개변수):\n",
        "    return 반환값1, 반환값2\n",
        "```"
      ],
      "metadata": {
        "id": "rUbkDeGIfXnS"
      }
    },
    {
      "cell_type": "code",
      "source": [
        "def my_divmod(a, b):# 몫, 나머지\n",
        "  c = a // b # 몫\n",
        "  d = a % b # 나머지\n",
        "  return c, d"
      ],
      "metadata": {
        "id": "ObAqYO7veI6x"
      },
      "execution_count": 60,
      "outputs": []
    },
    {
      "cell_type": "code",
      "source": [
        "my_divmod(100, 3)"
      ],
      "metadata": {
        "colab": {
          "base_uri": "https://localhost:8080/"
        },
        "id": "5iXQXQBYfcKX",
        "outputId": "76c5f253-4a0c-4fc6-c681-b9a34e4f0f62"
      },
      "execution_count": 63,
      "outputs": [
        {
          "output_type": "execute_result",
          "data": {
            "text/plain": [
              "(33, 1)"
            ]
          },
          "metadata": {},
          "execution_count": 63
        }
      ]
    },
    {
      "cell_type": "code",
      "source": [
        "a, b = my_divmod(100, 3)\n",
        "print(a, b)"
      ],
      "metadata": {
        "colab": {
          "base_uri": "https://localhost:8080/"
        },
        "id": "9qnWF_rJifnH",
        "outputId": "a3442f20-8821-4759-c35c-1999129ea20e"
      },
      "execution_count": 64,
      "outputs": [
        {
          "output_type": "stream",
          "name": "stdout",
          "text": [
            "33 1\n"
          ]
        }
      ]
    },
    {
      "cell_type": "markdown",
      "source": [
        "# 함수 심화"
      ],
      "metadata": {
        "id": "se7h4WO6gtSJ"
      }
    },
    {
      "cell_type": "markdown",
      "source": [
        "## 위치 인수와 리스트 언패킹 사용하기"
      ],
      "metadata": {
        "id": "Br_x783Qikcb"
      }
    },
    {
      "cell_type": "markdown",
      "source": [
        "함수에 인수를 순서대로 넣는 방식을 위치 인수(positional argument)라고 합니다. 즉, 인수의 위치가 정해져 있습니다."
      ],
      "metadata": {
        "id": "S4KDsEJVingi"
      }
    },
    {
      "cell_type": "code",
      "source": [
        "print(10, 20, 30)"
      ],
      "metadata": {
        "colab": {
          "base_uri": "https://localhost:8080/"
        },
        "id": "HizkrioCffxH",
        "outputId": "c346b1c0-bf95-4514-f096-ca08dfd99b58"
      },
      "execution_count": 67,
      "outputs": [
        {
          "output_type": "stream",
          "name": "stdout",
          "text": [
            "10 20 30\n"
          ]
        }
      ]
    },
    {
      "cell_type": "code",
      "source": [
        "print(10, 10, 10, 10, 10 ,10, 10, 10, 10)"
      ],
      "metadata": {
        "colab": {
          "base_uri": "https://localhost:8080/"
        },
        "id": "c0SppOJbjP5N",
        "outputId": "8f30a748-9c1f-4421-fc60-2e642ec777b0"
      },
      "execution_count": 68,
      "outputs": [
        {
          "output_type": "stream",
          "name": "stdout",
          "text": [
            "10 10 10 10 10 10 10 10 10\n"
          ]
        }
      ]
    },
    {
      "cell_type": "markdown",
      "source": [
        "### 위치 인수를 사용하는 함수를 만들고 호출하기"
      ],
      "metadata": {
        "id": "wnm64LUKitz3"
      }
    },
    {
      "cell_type": "code",
      "source": [
        "def print_numbers(a, b, c):\n",
        "  print(a)\n",
        "  print(b)\n",
        "  print(c)"
      ],
      "metadata": {
        "id": "_LVtrOSWipwt"
      },
      "execution_count": 70,
      "outputs": []
    },
    {
      "cell_type": "code",
      "source": [
        "print_numbers(10, 20, 30)"
      ],
      "metadata": {
        "colab": {
          "base_uri": "https://localhost:8080/"
        },
        "id": "NpYgDLcNi0bB",
        "outputId": "fe4cff36-593f-4e08-f832-879c2ec31d2d"
      },
      "execution_count": 73,
      "outputs": [
        {
          "output_type": "stream",
          "name": "stdout",
          "text": [
            "10\n",
            "20\n",
            "30\n"
          ]
        }
      ]
    },
    {
      "cell_type": "code",
      "source": [
        "print_numbers(10, 20)"
      ],
      "metadata": {
        "colab": {
          "base_uri": "https://localhost:8080/",
          "height": 172
        },
        "id": "IGl31k_Hj32k",
        "outputId": "3c77f71c-147e-47d2-c6a2-32a091932f1f"
      },
      "execution_count": 74,
      "outputs": [
        {
          "output_type": "error",
          "ename": "TypeError",
          "evalue": "ignored",
          "traceback": [
            "\u001b[0;31m---------------------------------------------------------------------------\u001b[0m",
            "\u001b[0;31mTypeError\u001b[0m                                 Traceback (most recent call last)",
            "\u001b[0;32m<ipython-input-74-deba51eccd11>\u001b[0m in \u001b[0;36m<module>\u001b[0;34m\u001b[0m\n\u001b[0;32m----> 1\u001b[0;31m \u001b[0mprint_numbers\u001b[0m\u001b[0;34m(\u001b[0m\u001b[0;36m10\u001b[0m\u001b[0;34m,\u001b[0m \u001b[0;36m20\u001b[0m\u001b[0;34m)\u001b[0m\u001b[0;34m\u001b[0m\u001b[0;34m\u001b[0m\u001b[0m\n\u001b[0m",
            "\u001b[0;31mTypeError\u001b[0m: print_numbers() missing 1 required positional argument: 'c'"
          ]
        }
      ]
    },
    {
      "cell_type": "code",
      "source": [
        "print_numbers(10, 20, 30, 40)"
      ],
      "metadata": {
        "colab": {
          "base_uri": "https://localhost:8080/",
          "height": 172
        },
        "id": "YOZ5nACCj8GL",
        "outputId": "704a7d7f-d839-4d1e-d332-866aec819a64"
      },
      "execution_count": 75,
      "outputs": [
        {
          "output_type": "error",
          "ename": "TypeError",
          "evalue": "ignored",
          "traceback": [
            "\u001b[0;31m---------------------------------------------------------------------------\u001b[0m",
            "\u001b[0;31mTypeError\u001b[0m                                 Traceback (most recent call last)",
            "\u001b[0;32m<ipython-input-75-3f56147faedf>\u001b[0m in \u001b[0;36m<module>\u001b[0;34m\u001b[0m\n\u001b[0;32m----> 1\u001b[0;31m \u001b[0mprint_numbers\u001b[0m\u001b[0;34m(\u001b[0m\u001b[0;36m10\u001b[0m\u001b[0;34m,\u001b[0m \u001b[0;36m20\u001b[0m\u001b[0;34m,\u001b[0m \u001b[0;36m30\u001b[0m\u001b[0;34m,\u001b[0m \u001b[0;36m40\u001b[0m\u001b[0;34m)\u001b[0m\u001b[0;34m\u001b[0m\u001b[0;34m\u001b[0m\u001b[0m\n\u001b[0m",
            "\u001b[0;31mTypeError\u001b[0m: print_numbers() takes 3 positional arguments but 4 were given"
          ]
        }
      ]
    },
    {
      "cell_type": "markdown",
      "source": [
        "### 언패킹 사용하기"
      ],
      "metadata": {
        "id": "i49Ug1QRi-dq"
      }
    },
    {
      "cell_type": "markdown",
      "source": [
        "인수를 순서대로 넣을 때는 리스트나 튜플을 사용할 수도 있습니다. 다음과 같이 리스트 또는 튜플 앞에 *(애스터리스크)를 붙여서 함수에 넣어주면 됩니다.\n",
        "\n",
        "* `함수(*리스트)`\n",
        "* `함수(*튜플)`"
      ],
      "metadata": {
        "id": "aL8BAhAqjB9p"
      }
    },
    {
      "cell_type": "code",
      "source": [
        "x = [1 ** 2, 2 ** 2, 3 ** 2]\n",
        "x"
      ],
      "metadata": {
        "colab": {
          "base_uri": "https://localhost:8080/"
        },
        "id": "6xNy8CL7i2wl",
        "outputId": "a1a0546e-bed0-4712-adcf-372211a9dcfd"
      },
      "execution_count": 76,
      "outputs": [
        {
          "output_type": "execute_result",
          "data": {
            "text/plain": [
              "[1, 4, 9]"
            ]
          },
          "metadata": {},
          "execution_count": 76
        }
      ]
    },
    {
      "cell_type": "code",
      "source": [
        "print_numbers(x[0], x[1], x[2])"
      ],
      "metadata": {
        "colab": {
          "base_uri": "https://localhost:8080/"
        },
        "id": "gwVKbU5ckOPA",
        "outputId": "56f92d87-a11b-4a2e-b2d7-c18d7c837ae2"
      },
      "execution_count": 77,
      "outputs": [
        {
          "output_type": "stream",
          "name": "stdout",
          "text": [
            "1\n",
            "4\n",
            "9\n"
          ]
        }
      ]
    },
    {
      "cell_type": "code",
      "source": [
        "print_numbers(*x)"
      ],
      "metadata": {
        "colab": {
          "base_uri": "https://localhost:8080/"
        },
        "id": "lWTQrBC6kSjY",
        "outputId": "a10de52c-febe-498a-f6ef-cb3650b65f86"
      },
      "execution_count": 78,
      "outputs": [
        {
          "output_type": "stream",
          "name": "stdout",
          "text": [
            "1\n",
            "4\n",
            "9\n"
          ]
        }
      ]
    },
    {
      "cell_type": "code",
      "source": [
        "# 단, 이때 함수의 매개변수 개수와 리스트의 요소 개수는 같아야 합니다.\n",
        "# 만약 개수가 다르면 함수를 호출할 수 없습니다.\n",
        "print_numbers(*[10, 20])"
      ],
      "metadata": {
        "id": "Huyu1QyEjHwU",
        "colab": {
          "base_uri": "https://localhost:8080/",
          "height": 209
        },
        "outputId": "45425007-b448-422f-8121-009288ba661f"
      },
      "execution_count": 79,
      "outputs": [
        {
          "output_type": "error",
          "ename": "TypeError",
          "evalue": "ignored",
          "traceback": [
            "\u001b[0;31m---------------------------------------------------------------------------\u001b[0m",
            "\u001b[0;31mTypeError\u001b[0m                                 Traceback (most recent call last)",
            "\u001b[0;32m<ipython-input-79-6e8641f0bfef>\u001b[0m in \u001b[0;36m<module>\u001b[0;34m\u001b[0m\n\u001b[1;32m      1\u001b[0m \u001b[0;31m# 단, 이때 함수의 매개변수 개수와 리스트의 요소 개수는 같아야 합니다.\u001b[0m\u001b[0;34m\u001b[0m\u001b[0;34m\u001b[0m\u001b[0;34m\u001b[0m\u001b[0m\n\u001b[1;32m      2\u001b[0m \u001b[0;31m# 만약 개수가 다르면 함수를 호출할 수 없습니다.\u001b[0m\u001b[0;34m\u001b[0m\u001b[0;34m\u001b[0m\u001b[0;34m\u001b[0m\u001b[0m\n\u001b[0;32m----> 3\u001b[0;31m \u001b[0mprint_numbers\u001b[0m\u001b[0;34m(\u001b[0m\u001b[0;34m*\u001b[0m\u001b[0;34m[\u001b[0m\u001b[0;36m10\u001b[0m\u001b[0;34m,\u001b[0m \u001b[0;36m20\u001b[0m\u001b[0;34m]\u001b[0m\u001b[0;34m)\u001b[0m\u001b[0;34m\u001b[0m\u001b[0;34m\u001b[0m\u001b[0m\n\u001b[0m",
            "\u001b[0;31mTypeError\u001b[0m: print_numbers() missing 1 required positional argument: 'c'"
          ]
        }
      ]
    },
    {
      "cell_type": "markdown",
      "source": [
        "### 가변 인수 함수 만들기"
      ],
      "metadata": {
        "id": "wa5pSffKmuzR"
      }
    },
    {
      "cell_type": "markdown",
      "source": [
        "그럼 위치 인수와 리스트 언패킹은 어디에 사용할까요? 이 기능들은 인수의 개수가 정해지지 않은 가변 인수(variable argument)에 사용합니다. 즉, 같은 함수에 인수 한 개를 넣을 수도 있고, 열 개를 넣을 수도 있습니다. 또는, 인수를 넣지 않을 수도 있습니다.\n",
        "\n",
        "다음과 같이 가변 인수 함수는 매개변수 앞에 *를 붙여서 만듭니다.\n",
        "\n",
        "```\n",
        "def 함수이름(*매개변수):\n",
        "    코드\n",
        "```"
      ],
      "metadata": {
        "id": "9YN1s8ktmyN0"
      }
    },
    {
      "cell_type": "code",
      "source": [
        "def print_numbers(*args):\n",
        "  for arg in args:\n",
        "    print(arg)"
      ],
      "metadata": {
        "id": "fqMZulXymo5B"
      },
      "execution_count": 84,
      "outputs": []
    },
    {
      "cell_type": "code",
      "source": [
        "def print_numbers(*args):\n",
        "  if not len(args): # args가 비어있으면 True\n",
        "    print(\"매개변수를 1개 이상 넣어주세요!\")\n",
        "    return\n",
        "  for arg in args:\n",
        "    print(arg)"
      ],
      "metadata": {
        "id": "GcmjPPM5lQGF"
      },
      "execution_count": 87,
      "outputs": []
    },
    {
      "cell_type": "code",
      "source": [
        "def print_numbers(*args):\n",
        "  if not len(args): # args가 비어있으면 True\n",
        "    print(\"매개변수를 1개 이상 넣어주세요!\")\n",
        "    return\n",
        "  if len(args) == 2:\n",
        "    print(f\"연결 : {args[0] + args[1]}\")\n",
        "    return str(args[0] + str(args[1]))\n",
        "  for arg in args:\n",
        "    print(arg)"
      ],
      "metadata": {
        "id": "jCDuj3vKloqf"
      },
      "execution_count": 93,
      "outputs": []
    },
    {
      "cell_type": "code",
      "source": [],
      "metadata": {
        "id": "52GoV9ual5Io"
      },
      "execution_count": null,
      "outputs": []
    },
    {
      "cell_type": "markdown",
      "source": [
        "매개변수 이름은 원하는 대로 지어도 되지만 관례적으로 arguments를 줄여서 args로 사용합니다. 특히 이 args는 튜플이라서 for로 반복할 수 있습니다.\n",
        "\n"
      ],
      "metadata": {
        "id": "sFNxiUl1m_rK"
      }
    },
    {
      "cell_type": "code",
      "source": [
        "print_numbers()\n",
        "print_numbers(10)\n",
        "print_numbers(10, 20, 30)\n",
        "print_numbers(*list(range(0,100 ,30)))"
      ],
      "metadata": {
        "colab": {
          "base_uri": "https://localhost:8080/"
        },
        "id": "ci8E7fYZk-V8",
        "outputId": "2a10c836-9023-49bb-8220-bf3b8122b6f8"
      },
      "execution_count": 95,
      "outputs": [
        {
          "output_type": "stream",
          "name": "stdout",
          "text": [
            "매개변수를 1개 이상 넣어주세요!\n",
            "10\n",
            "10\n",
            "20\n",
            "30\n",
            "0\n",
            "30\n",
            "60\n",
            "90\n"
          ]
        }
      ]
    },
    {
      "cell_type": "markdown",
      "source": [
        "### 고정 인수와 가변 인수를 함께 사용하기"
      ],
      "metadata": {
        "id": "9309K7dBnOp5"
      }
    },
    {
      "cell_type": "markdown",
      "source": [
        "고정 인수와 가변 인수를 함께 사용할 때는 고정 매개변수를 먼저 지정하고, 그 다음 매개변수에 *를 붙여주면 됩니다."
      ],
      "metadata": {
        "id": "RRRH-UornQXQ"
      }
    },
    {
      "cell_type": "code",
      "source": [
        "def my_fun(a, *args):\n",
        "  if a == 'sum':\n",
        "    return sum(args)\n",
        "  if a == 'avg':\n",
        "    return sum(args) // len(args)\n",
        "  if a == 'count':\n",
        "    return len(args)\n",
        "  print(\"지원하지 않는 기능입니다!\")"
      ],
      "metadata": {
        "id": "Sjxzq9iknLKA"
      },
      "execution_count": 97,
      "outputs": []
    },
    {
      "cell_type": "code",
      "source": [
        "my_fun(\"sum\", 1, 2, 3, 4, 5)"
      ],
      "metadata": {
        "colab": {
          "base_uri": "https://localhost:8080/"
        },
        "id": "PTyrrlH0nVwy",
        "outputId": "eb2ea413-4c70-4876-8a5b-3c147fe68442"
      },
      "execution_count": 99,
      "outputs": [
        {
          "output_type": "execute_result",
          "data": {
            "text/plain": [
              "15"
            ]
          },
          "metadata": {},
          "execution_count": 99
        }
      ]
    },
    {
      "cell_type": "code",
      "source": [
        "my_fun(\"avg\", 1, 2, 3, 4, 5)"
      ],
      "metadata": {
        "colab": {
          "base_uri": "https://localhost:8080/"
        },
        "id": "MBoKLpNcnbv8",
        "outputId": "5c6f3a5a-34dd-4ad9-b787-fd3f34601dab"
      },
      "execution_count": 100,
      "outputs": [
        {
          "output_type": "execute_result",
          "data": {
            "text/plain": [
              "3"
            ]
          },
          "metadata": {},
          "execution_count": 100
        }
      ]
    },
    {
      "cell_type": "code",
      "source": [
        "my_fun(\"count\", 1, 2, 3, 4, 5)"
      ],
      "metadata": {
        "colab": {
          "base_uri": "https://localhost:8080/"
        },
        "id": "V9NMZlLzndlP",
        "outputId": "87cebea8-936b-4eb8-9077-e922d5d64327"
      },
      "execution_count": 102,
      "outputs": [
        {
          "output_type": "execute_result",
          "data": {
            "text/plain": [
              "5"
            ]
          },
          "metadata": {},
          "execution_count": 102
        }
      ]
    },
    {
      "cell_type": "code",
      "source": [
        "my_fun(\"hi\", 1, 2, 3, 4, 5)"
      ],
      "metadata": {
        "colab": {
          "base_uri": "https://localhost:8080/"
        },
        "id": "uIqZE77AngsV",
        "outputId": "e6cf725f-9411-4857-f47a-5a2d799e1ffb"
      },
      "execution_count": 103,
      "outputs": [
        {
          "output_type": "stream",
          "name": "stdout",
          "text": [
            "지원하지 않는 기능입니다!\n"
          ]
        }
      ]
    },
    {
      "cell_type": "markdown",
      "source": [
        "단, 이때 def print_numbers(*args, a):처럼 *args가 고정 매개변수보다 앞쪽에 오면 안 됩니다. 매개변수 순서에서 *args는 반드시 가장 뒤쪽에 와야 합니다."
      ],
      "metadata": {
        "id": "ajTZFGcBnZ-M"
      }
    },
    {
      "cell_type": "code",
      "source": [
        "def my_fun(a, *args):\n",
        "  if a == 'sum':\n",
        "    return sum(args)\n",
        "  if a == 'avg':\n",
        "    return sum(args) // len(args)\n",
        "  if a == 'count':\n",
        "    return len(args)\n",
        "  print(\"지원하지 않는 기능입니다!\")"
      ],
      "metadata": {
        "id": "ibHZagiunwai"
      },
      "execution_count": null,
      "outputs": []
    },
    {
      "cell_type": "markdown",
      "source": [
        "## 키워드 인수 사용하기"
      ],
      "metadata": {
        "id": "qkHyiHdKnk7r"
      }
    },
    {
      "cell_type": "markdown",
      "source": [
        "파이썬에서는 인수의 순서와 용도를 매번 기억하지 않도록 키워드 인수(keyword argument)라는 기능을 제공합니다. 키워드 인수는 말 그대로 인수에 이름(키워드)을 붙이는 기능인데 키워드=값 형식으로 사용합니다.\n",
        "\n",
        "* `함수(키워드=값)`"
      ],
      "metadata": {
        "id": "R5nut9cynpVa"
      }
    },
    {
      "cell_type": "code",
      "source": [
        "def introduce(name, age, address):\n",
        "  print(f\"이름 : {name}\")\n",
        "  print(f\"나이 : {age}\")\n",
        "  print(f\"주소 : {address}\")"
      ],
      "metadata": {
        "id": "FqWZuiT1nqCz"
      },
      "execution_count": 104,
      "outputs": []
    },
    {
      "cell_type": "code",
      "source": [
        "introduce(\"김동동\", 20, \"서울시 행복구 행복동\")"
      ],
      "metadata": {
        "colab": {
          "base_uri": "https://localhost:8080/"
        },
        "id": "QnDpwGAGnt69",
        "outputId": "6a7df6b1-97e6-48a4-e713-7404668ba8e3"
      },
      "execution_count": 105,
      "outputs": [
        {
          "output_type": "stream",
          "name": "stdout",
          "text": [
            "이름 : 김동동\n",
            "나이 : 20\n",
            "주소 : 서울시 행복구 행복동\n"
          ]
        }
      ]
    },
    {
      "cell_type": "code",
      "source": [
        "# 키워드 인수를 사용하면 인수의 순서를 맞추지 않아도 키워드에 해당하는 값이 들어갑니다.\n",
        "introduce(age=20, address = \"서울시 행복구 행복동\", name =\"김동동\")"
      ],
      "metadata": {
        "colab": {
          "base_uri": "https://localhost:8080/"
        },
        "id": "CTFSBBSNn2Zu",
        "outputId": "338f24d7-f26a-44ef-fe27-7d671182497f"
      },
      "execution_count": 106,
      "outputs": [
        {
          "output_type": "stream",
          "name": "stdout",
          "text": [
            "이름 : 김동동\n",
            "나이 : 20\n",
            "주소 : 서울시 행복구 행복동\n"
          ]
        }
      ]
    },
    {
      "cell_type": "markdown",
      "source": [
        "## 키워드 인수와 딕셔너리 언패킹 사용하기"
      ],
      "metadata": {
        "id": "SBCFd3a-oBKj"
      }
    },
    {
      "cell_type": "markdown",
      "source": [
        "지금까지 함수를 호출할 때 키워드 인수로 직접 값을 넣었습니다. 이번에는 딕셔너리를 사용해서 키워드 인수로 값을 넣는 딕셔너리 언패킹을 사용해보겠습니다. 다음과 같이 딕셔너리 앞에 **(애스터리스크 두 개)를 붙여서 함수에 넣어줍니다.\n",
        "\n",
        "* `함수(**딕셔너리)`"
      ],
      "metadata": {
        "id": "P1kRkxtVoCSk"
      }
    },
    {
      "cell_type": "code",
      "source": [
        "def introduce(name, age, address):\n",
        "  print(f\"이름 : {name}\")\n",
        "  print(f\"나이 : {age}\")\n",
        "  print(f\"주소 : {address}\")"
      ],
      "metadata": {
        "id": "nrSsuSncn6SP"
      },
      "execution_count": 107,
      "outputs": []
    },
    {
      "cell_type": "code",
      "source": [
        " a = {\n",
        "     \"name\": \"고길동\",\n",
        "     \"age\": 40,\n",
        "    \"address\": \"쌍문동\"\n",
        " }"
      ],
      "metadata": {
        "id": "gUCUO5Lho_rW"
      },
      "execution_count": 108,
      "outputs": []
    },
    {
      "cell_type": "code",
      "source": [
        "introduce(*a) # 키 리스트로 리스트 언패킹"
      ],
      "metadata": {
        "colab": {
          "base_uri": "https://localhost:8080/"
        },
        "id": "tErxpyH8pLpm",
        "outputId": "46b9634c-5841-4b24-ba5b-e008322d68ee"
      },
      "execution_count": 109,
      "outputs": [
        {
          "output_type": "stream",
          "name": "stdout",
          "text": [
            "이름 : name\n",
            "나이 : age\n",
            "주소 : address\n"
          ]
        }
      ]
    },
    {
      "cell_type": "markdown",
      "source": [
        "이제 딕셔너리에 '키워드': 값 형식으로 인수를 저장하고, 앞에 **를 붙여서 함수에 넣어줍니다. 이때 딕셔너리의 키워드(키)는 반드시 문자열 형태라야 합니다."
      ],
      "metadata": {
        "id": "Dq6dnAJMoStb"
      }
    },
    {
      "cell_type": "code",
      "source": [
        "introduce(**a) # ** 키워드-값 형태로 딕셔너리 언패킹"
      ],
      "metadata": {
        "colab": {
          "base_uri": "https://localhost:8080/"
        },
        "id": "r1MkQSj8oRo3",
        "outputId": "0ad79d54-0f7d-4b63-86de-251fc5d59dbb"
      },
      "execution_count": 110,
      "outputs": [
        {
          "output_type": "stream",
          "name": "stdout",
          "text": [
            "이름 : 고길동\n",
            "나이 : 40\n",
            "주소 : 쌍문동\n"
          ]
        }
      ]
    },
    {
      "cell_type": "markdown",
      "source": [
        "**x처럼 딕셔너리를 언패킹하면 딕셔너리의 값들이 함수의 인수로 들어갑니다."
      ],
      "metadata": {
        "id": "ZmNL-BnnoW-G"
      }
    },
    {
      "cell_type": "markdown",
      "source": [
        "딕셔너리 언패킹을 사용할 때는 함수의 매개변수 이름과 딕셔너리의 키 이름이 같아야 합니다. 또한, 매개변수 개수와 딕셔너리 키의 개수도 같아야 합니다."
      ],
      "metadata": {
        "id": "n2FrJj1Eob1S"
      }
    },
    {
      "cell_type": "code",
      "source": [
        " b = {\n",
        "     \"name\": \"고길동\",\n",
        "     \"age\": 40,\n",
        "    \"address\": \"쌍문동\"\n",
        " }"
      ],
      "metadata": {
        "id": "lqwpzhRboWcM"
      },
      "execution_count": 112,
      "outputs": []
    },
    {
      "cell_type": "markdown",
      "source": [
        "### *를 두 번 사용하는 이유"
      ],
      "metadata": {
        "id": "jRQmc3eAohLK"
      }
    },
    {
      "cell_type": "markdown",
      "source": [
        "그런데 딕셔너리는 **처럼 *를 두 번 사용할까요? 왜냐하면 딕셔너리는 키-값 쌍 형태로 값이 저장되어 있기 때문입니다. 먼저 *를 한 번만 사용해서 함수를 호출해봅니다.\n",
        "\n"
      ],
      "metadata": {
        "id": "yrtcCkc9olTD"
      }
    },
    {
      "cell_type": "code",
      "source": [
        "introduce(**a)"
      ],
      "metadata": {
        "colab": {
          "base_uri": "https://localhost:8080/"
        },
        "id": "KT2CfVgMoeg9",
        "outputId": "4c525113-cb2d-4fa9-e635-30ab36ff652d"
      },
      "execution_count": 113,
      "outputs": [
        {
          "output_type": "stream",
          "name": "stdout",
          "text": [
            "이름 : 고길동\n",
            "나이 : 40\n",
            "주소 : 쌍문동\n"
          ]
        }
      ]
    },
    {
      "cell_type": "markdown",
      "source": [
        "딕셔너리를 한 번 언패킹하면 키를 사용한다는 뜻이 됩니다. 따라서 **처럼 딕셔너리를 두 번 언패킹하여 값을 사용하도록 만들어야 합니다."
      ],
      "metadata": {
        "id": "SuRwHU7wopyB"
      }
    },
    {
      "cell_type": "code",
      "source": [],
      "metadata": {
        "colab": {
          "base_uri": "https://localhost:8080/"
        },
        "id": "7tMWJjI3on6E",
        "outputId": "fc284511-7165-46e7-9ede-daf68e75ffbb"
      },
      "execution_count": null,
      "outputs": [
        {
          "output_type": "stream",
          "name": "stdout",
          "text": [
            "이름:  홍길동\n",
            "나이:  30\n",
            "주소:  서울시 용산구 이촌동\n"
          ]
        }
      ]
    },
    {
      "cell_type": "markdown",
      "source": [
        "### 키워드 인수를 사용하는 가변 인수 함수 만들기"
      ],
      "metadata": {
        "id": "g-tHUmd8ovY8"
      }
    },
    {
      "cell_type": "markdown",
      "source": [
        "키워드 인수를 사용하는 가변 인수 함수는 매개변수 앞에 **를 붙여서 만듭니다.\n",
        "\n",
        "```\n",
        "def 함수이름(**매개변수):\n",
        "    코드\n",
        "```"
      ],
      "metadata": {
        "id": "LbOQCn4Oo3e3"
      }
    },
    {
      "cell_type": "code",
      "source": [
        "def introduce(** kwargs): # kw + args : kwargs (dicitionary)\n",
        "  for kw, args in kwargs.items():\n",
        "    print(f\"{kw} : {args}\")"
      ],
      "metadata": {
        "id": "kfYx6hRVqG3-"
      },
      "execution_count": 115,
      "outputs": []
    },
    {
      "cell_type": "code",
      "source": [
        "introduce(height=172.5, weight=80"
      ],
      "metadata": {
        "id": "xlhxfuXiqeHX"
      },
      "execution_count": null,
      "outputs": []
    },
    {
      "cell_type": "code",
      "source": [
        "introduce(**b)"
      ],
      "metadata": {
        "colab": {
          "base_uri": "https://localhost:8080/"
        },
        "id": "iPle2OCDqXBh",
        "outputId": "5572069c-088b-422f-ff3d-7c6432d47545"
      },
      "execution_count": 116,
      "outputs": [
        {
          "output_type": "stream",
          "name": "stdout",
          "text": [
            "name : 고길동\n",
            "age : 40\n",
            "address : 쌍문동\n"
          ]
        }
      ]
    },
    {
      "cell_type": "code",
      "source": [
        "def introduce(** kwargs): # kw + args\n",
        "  if 'name' in kwargs:\n",
        "    print(f\"이름 : {kwargs['name']}\")\n",
        "  if 'name' in kwargs:\n",
        "    print(f\"나이 : {kwargs['age']}\")\n",
        "  if 'name' in kwargs:\n",
        "    print(f\"주소 : {kwargs['address']}\")\n",
        "\n",
        "  introduce(name = \"붕붕\")"
      ],
      "metadata": {
        "id": "OEM7FpY3osQx"
      },
      "execution_count": 120,
      "outputs": []
    },
    {
      "cell_type": "markdown",
      "source": [
        "매개변수 이름은 원하는 대로 지어도 되지만 관례적으로 keyword arguments를 줄여서 kwargs로 사용합니다. 특히 이 kwargs는 딕셔너리라서 for로 반복할 수 있습니다."
      ],
      "metadata": {
        "id": "7OzVuQaXpAg5"
      }
    },
    {
      "cell_type": "markdown",
      "source": [
        "인수 함수를 만들 수 있습니다. 그리고 이런 함수를 호출할 때는 키워드와 인수를 각각 넣거나 딕셔너리 언패킹을 사용하면 됩니다.\n",
        "\n",
        "보통 **kwargs를 사용한 가변 인수 함수는 다음과 같이 함수 안에서 특정 키가 있는지 확인한 뒤 해당 기능을 만듭니다."
      ],
      "metadata": {
        "id": "MotN-iQjpLNW"
      }
    },
    {
      "cell_type": "markdown",
      "source": [
        "### 고정 인수와 가변 인수(키워드 인수)를 함께 사용하기"
      ],
      "metadata": {
        "id": "s-OwRQpYpRwg"
      }
    },
    {
      "cell_type": "markdown",
      "source": [
        "고정 인수와 가변 인수(키워드 인수)를 함께 사용할 때는 다음과 같이 고정 매개변수를 먼저 지정하고, 그 다음 매개변수에 **를 붙여주면 됩니다."
      ],
      "metadata": {
        "id": "tSD6LFGTpV82"
      }
    },
    {
      "cell_type": "code",
      "source": [
        "def introduce(repeat, **kwargs): # kw + args\n",
        "  for i in range(repeat):\n",
        "    print(f\"이름 : {kwargs['name', \"없음\"]}\")\n",
        "    print(f\"나이 : {kwargs['age', -99]}\")\n",
        "    print(f\"주소 : {kwargs['address', \"주소불명\"]}\")\n",
        "\n",
        "  introduce(name = \"붕붕\", age=10, address=\"양재\")"
      ],
      "metadata": {
        "colab": {
          "base_uri": "https://localhost:8080/",
          "height": 136
        },
        "id": "vS9jFSYIpObs",
        "outputId": "79b6dbb6-176f-4bc7-d41a-c9f877ba5bd3"
      },
      "execution_count": 123,
      "outputs": [
        {
          "output_type": "error",
          "ename": "SyntaxError",
          "evalue": "ignored",
          "traceback": [
            "\u001b[0;36m  File \u001b[0;32m\"<ipython-input-123-a1a968c089cd>\"\u001b[0;36m, line \u001b[0;32m3\u001b[0m\n\u001b[0;31m    print(f\"이름 : {kwargs['name', \"없음\"]}\")\u001b[0m\n\u001b[0m                                  ^\u001b[0m\n\u001b[0;31mSyntaxError\u001b[0m\u001b[0;31m:\u001b[0m invalid syntax\n"
          ]
        }
      ]
    },
    {
      "cell_type": "markdown",
      "source": [
        "단, 이때 `def personal_info(**kwargs, name):`처럼 `**kwargs`가 고정 매개변수보다 앞쪽에 오면 안 됩니다. 매개변수 순서에서 `**kwargs`는 반드시 가장 뒤쪽에 와야 합니다."
      ],
      "metadata": {
        "id": "fWKnzoABpeQY"
      }
    },
    {
      "cell_type": "markdown",
      "source": [
        "### 위치 인수와 키워드 인수를 함께 사용하기"
      ],
      "metadata": {
        "id": "WvDt1nHUpoiu"
      }
    },
    {
      "cell_type": "markdown",
      "source": [
        "함수에서 위치 인수를 받는 `*args`와 키워드 인수를 받는 `**kwargs`를 함께 사용할 수도 있습니다. 대표적인 함수가 print인데 print는 출력할 값을 위치 인수로 넣고 sep, end 등을 키워드 인수로 넣습니다. 다음과 같이 함수의 매개변수를 `*args`, `**kwargs`로 지정하면 위치 인수와 키워드 인수를 함께 사용합니다."
      ],
      "metadata": {
        "id": "c3yLDTgspsmN"
      }
    },
    {
      "cell_type": "code",
      "source": [
        "def my_fun(*args, **kwargs):\n",
        "  print(*args, **kwargs)"
      ],
      "metadata": {
        "id": "28bsToycpcmH"
      },
      "execution_count": 125,
      "outputs": []
    },
    {
      "cell_type": "code",
      "source": [
        "my_fun(1, 2, 3, sep=':', end='')"
      ],
      "metadata": {
        "colab": {
          "base_uri": "https://localhost:8080/"
        },
        "id": "MXlsMW5yss5i",
        "outputId": "73f339f1-71e2-4587-8a3b-d3cce0847064"
      },
      "execution_count": 126,
      "outputs": [
        {
          "output_type": "stream",
          "name": "stdout",
          "text": [
            "1:2:3"
          ]
        }
      ]
    },
    {
      "cell_type": "code",
      "source": [
        "import random\n",
        "def game(start, end, *args, **kwargs):\n",
        "  # 플레이어의 이름을 받고, name\n",
        "  if 'name' not in kwargs:\n",
        "    return print(\"이름을 입력해주세요\")\n",
        "  # 플레이어가 지불한 금액. money\n",
        "  if 'money' not in kwargs:\n",
        "    return print(\"금액을 지불해주세요\")\n",
        "  if not len(args):\n",
        "    return print(\"당첨 숫자를 입력해주세요!!\")\n",
        "  # start, end는 수를 뽑는 범위\n",
        "  number = random.choice(range(start, end+1))\n",
        "    # for i in range(a, b):\n",
        "    # args를 당첨 숫자들\n",
        "    #  if i in args:\n",
        "    #    print(f\"당첨되었습니다! {i} / \\\\{kwargs['money'] *2}\")\n",
        "  if number in args:\n",
        "    print(f\"{kwargs['name']}님,당첨되었습니다 {number} / \\\\{kwargs['money'] *2}\")\n",
        "  else:\n",
        "    print(f\"실패입니다 {number}\")"
      ],
      "metadata": {
        "id": "jB_gv6k6tAtP"
      },
      "execution_count": 139,
      "outputs": []
    },
    {
      "cell_type": "code",
      "source": [],
      "metadata": {
        "id": "ot3zFSAJy4xh"
      },
      "execution_count": null,
      "outputs": []
    },
    {
      "cell_type": "code",
      "source": [
        "game()"
      ],
      "metadata": {
        "colab": {
          "base_uri": "https://localhost:8080/",
          "height": 172
        },
        "id": "ivZnJl65uOP3",
        "outputId": "36a346f6-24b9-4605-d39f-9475faf28536"
      },
      "execution_count": 132,
      "outputs": [
        {
          "output_type": "error",
          "ename": "TypeError",
          "evalue": "ignored",
          "traceback": [
            "\u001b[0;31m---------------------------------------------------------------------------\u001b[0m",
            "\u001b[0;31mTypeError\u001b[0m                                 Traceback (most recent call last)",
            "\u001b[0;32m<ipython-input-132-4a8413945148>\u001b[0m in \u001b[0;36m<module>\u001b[0;34m\u001b[0m\n\u001b[0;32m----> 1\u001b[0;31m \u001b[0mgame\u001b[0m\u001b[0;34m(\u001b[0m\u001b[0;34m)\u001b[0m\u001b[0;34m\u001b[0m\u001b[0;34m\u001b[0m\u001b[0m\n\u001b[0m",
            "\u001b[0;31mTypeError\u001b[0m: game() missing 2 required positional arguments: 'a' and 'b'"
          ]
        }
      ]
    },
    {
      "cell_type": "code",
      "source": [
        "game(1, 6)\n",
        "game(1, 6, name=\"lol\")\n",
        "game(1, 6, name=\"lol\", money=10000)\n",
        "game(1, 6, 3, name=\"lol\", money=10000)\n",
        "game(1, 6, 1, 2, 3, 4, 5, 6, name=\"lol\", money=10000)\n",
        "game(1, 6, *(1, 2, 3, 4, 5, 6), name=\"lol\", money=10000)"
      ],
      "metadata": {
        "colab": {
          "base_uri": "https://localhost:8080/"
        },
        "id": "DBJiFBc9uTRd",
        "outputId": "1402ffd7-a7cb-4118-cf70-e9d607936d05"
      },
      "execution_count": 141,
      "outputs": [
        {
          "output_type": "stream",
          "name": "stdout",
          "text": [
            "이름을 입력해주세요\n",
            "금액을 지불해주세요\n",
            "당첨 숫자를 입력해주세요!!\n",
            "실패입니다 6\n",
            "당첨되었습니다 2 / \\20000\n",
            "당첨되었습니다 4 / \\20000\n"
          ]
        }
      ]
    },
    {
      "cell_type": "code",
      "source": [
        "seed_money = 100000"
      ],
      "metadata": {
        "id": "AFgWXYRRzHpb"
      },
      "execution_count": 146,
      "outputs": []
    },
    {
      "cell_type": "code",
      "source": [
        "print(f\"게임 전 시드 머니 : {seed_money:.2f}\")\n",
        "m = seed_money * 0.05\n",
        "print(\"$$게임시작$$\")\n",
        "result = game(1, 2, 1, name='조승우', money=seed_money * 0.05) # 5000 -> 10000, 0\n",
        "seed_money -= m\n",
        "seed_money += result\n",
        "print(f\"게임 후 시드 머니 : {seed_money:.2f}\")"
      ],
      "metadata": {
        "id": "1CiNhlHzzLHk"
      },
      "execution_count": null,
      "outputs": []
    },
    {
      "cell_type": "markdown",
      "source": [
        "```\n",
        "단, 이때 def custom_print(**kwargs, *args):처럼\n",
        "**kwargs가 *args보다 앞쪽에 오면 안 됩니다.\n",
        "매개변수 순서에서 **kwargs는 반드시 가장 뒤쪽에 와야 합니다.\n",
        "\n",
        "특히 고정 매개변수와 *args, **kwargs를 함께 사용한다면 \n",
        "def custom_print(a, b, *args, **kwargs):처럼 \n",
        "매개변수는 고정 매개변수, *args, **kwargs 순으로 지정해야 합니다.\n",
        "```"
      ],
      "metadata": {
        "id": "HC3dA31hp3tL"
      }
    },
    {
      "cell_type": "markdown",
      "source": [
        "## 매개변수에 초깃값 지정하기"
      ],
      "metadata": {
        "id": "XIaHNaR3qJXP"
      }
    },
    {
      "cell_type": "markdown",
      "source": [
        "지금까지 함수를 호출할 때 항상 인수를 넣어서 값을 전달했습니다. 그러면 인수를 생략할 수는 없을까요? 이때는 함수의 매개변수에 초깃값을 지정하면 됩니다. 초깃값은 다음과 같이 함수를 만들 때 매개변수=값 형식으로 지정합니다.\n",
        "\n",
        "```\n",
        "def 함수이름(매개변수=값):\n",
        "    코드\n",
        "```"
      ],
      "metadata": {
        "id": "SiCXmhZEqxoR"
      }
    },
    {
      "cell_type": "markdown",
      "source": [
        "매개변수의 초깃값은 주로 사용하는 값이 있으면서 가끔 다른 값을 사용해야 할 때 활용합니다. 대표적인 예가 print 함수인데, print 함수의 sep는 초깃값이 ' '(공백)으로 지정되어 있어서 대부분 그대로 사용하고, 가끔 sep에 다른 값을 넣어서 사용합니다."
      ],
      "metadata": {
        "id": "cfFz3bmWq1c0"
      }
    },
    {
      "cell_type": "code",
      "source": [
        "def introduce(name, age, address='비공개'):\n",
        "  print(f\"이름 : {name}\")\n",
        "  print(f\"나이 : {age}\")\n",
        "  print(f\"주소 : {address}\")"
      ],
      "metadata": {
        "id": "bo2b1w8_p1wF"
      },
      "execution_count": 150,
      "outputs": []
    },
    {
      "cell_type": "code",
      "source": [
        "introduce('홍길동', 30)"
      ],
      "metadata": {
        "colab": {
          "base_uri": "https://localhost:8080/"
        },
        "id": "Nd5hnVJHq5_r",
        "outputId": "fcf3d64c-a665-4097-c106-855f00b78c20"
      },
      "execution_count": 152,
      "outputs": [
        {
          "output_type": "stream",
          "name": "stdout",
          "text": [
            "이름 : 홍길동\n",
            "나이 : 30\n",
            "주소 : 비공개\n"
          ]
        }
      ]
    },
    {
      "cell_type": "code",
      "source": [
        "# 매개변수에 초깃값이 지정되어 있더라도 값을 넣으면 해당 값이 전달됩니다.\n",
        "introduce('홍길동', 30, '서울시 용산구')"
      ],
      "metadata": {
        "colab": {
          "base_uri": "https://localhost:8080/"
        },
        "id": "U1uofBhgq_Dg",
        "outputId": "6501b83f-98ea-485f-82eb-ce092ba357b8"
      },
      "execution_count": 153,
      "outputs": [
        {
          "output_type": "stream",
          "name": "stdout",
          "text": [
            "이름 : 홍길동\n",
            "나이 : 30\n",
            "주소 : 서울시 용산구\n"
          ]
        }
      ]
    },
    {
      "cell_type": "code",
      "source": [
        "def my_cal(interest, tax=0.14):\n",
        "  return interest * (1 - 0.14 * 1.1)"
      ],
      "metadata": {
        "id": "avh1JpuO1Q2t"
      },
      "execution_count": 154,
      "outputs": []
    },
    {
      "cell_type": "code",
      "source": [
        "my_cal(1_000_000)"
      ],
      "metadata": {
        "colab": {
          "base_uri": "https://localhost:8080/"
        },
        "id": "7Mzcdzc81hNN",
        "outputId": "0cd95c01-1ab5-4727-8d1b-1f6087e18de2"
      },
      "execution_count": 156,
      "outputs": [
        {
          "output_type": "execute_result",
          "data": {
            "text/plain": [
              "846000.0"
            ]
          },
          "metadata": {},
          "execution_count": 156
        }
      ]
    },
    {
      "cell_type": "code",
      "source": [
        "my_cal(1_000_000, 0.1)"
      ],
      "metadata": {
        "colab": {
          "base_uri": "https://localhost:8080/"
        },
        "id": "X2r3hHxI1k11",
        "outputId": "e1c06fcf-be5e-415a-afa4-df88aeb8106b"
      },
      "execution_count": 158,
      "outputs": [
        {
          "output_type": "execute_result",
          "data": {
            "text/plain": [
              "846000.0"
            ]
          },
          "metadata": {},
          "execution_count": 158
        }
      ]
    },
    {
      "cell_type": "code",
      "source": [
        "def my_cal2(money, rate=0.5, tax=0.14):\n",
        "  return money * rate * (1 - tax * 1.1)"
      ],
      "metadata": {
        "id": "3FGjZYko1rW-"
      },
      "execution_count": 160,
      "outputs": []
    },
    {
      "cell_type": "code",
      "source": [
        "my_cal2(1_000_000)"
      ],
      "metadata": {
        "colab": {
          "base_uri": "https://localhost:8080/"
        },
        "id": "QNltPiO417Ge",
        "outputId": "7a7fd086-9d2e-4c82-fd58-872a20464365"
      },
      "execution_count": 162,
      "outputs": [
        {
          "output_type": "execute_result",
          "data": {
            "text/plain": [
              "423000.0"
            ]
          },
          "metadata": {},
          "execution_count": 162
        }
      ]
    },
    {
      "cell_type": "code",
      "source": [
        "my_cal2(1_000_000, rate = 0.12, tax = 0)"
      ],
      "metadata": {
        "colab": {
          "base_uri": "https://localhost:8080/"
        },
        "id": "2NF0kSvm2BIH",
        "outputId": "c9da9ec5-b71a-4f85-c141-a31c76bdd45d"
      },
      "execution_count": 165,
      "outputs": [
        {
          "output_type": "execute_result",
          "data": {
            "text/plain": [
              "120000.0"
            ]
          },
          "metadata": {},
          "execution_count": 165
        }
      ]
    },
    {
      "cell_type": "markdown",
      "source": [
        "### 초깃값이 지정된 매개변수의 위치"
      ],
      "metadata": {
        "id": "82Yf7g54rHxN"
      }
    },
    {
      "cell_type": "markdown",
      "source": [
        "매개변수의 초깃값을 지정할 때 한 가지 주의할 점이 있습니다. 초깃값이 지정된 매개변수 다음에는 초깃값이 없는 매개변수가 올 수 없습니다."
      ],
      "metadata": {
        "id": "0naJpS_8rYfy"
      }
    },
    {
      "cell_type": "code",
      "source": [
        "def my_cal2(rate=0.5, money, tax=0.14):\n",
        "  return money * rate * (1 - tax * 1.1)"
      ],
      "metadata": {
        "colab": {
          "base_uri": "https://localhost:8080/",
          "height": 136
        },
        "id": "dr_rk30zrDcE",
        "outputId": "4c90198d-41f1-45d8-a431-31fba568c953"
      },
      "execution_count": 166,
      "outputs": [
        {
          "output_type": "error",
          "ename": "SyntaxError",
          "evalue": "ignored",
          "traceback": [
            "\u001b[0;36m  File \u001b[0;32m\"<ipython-input-166-2aedfa7cb799>\"\u001b[0;36m, line \u001b[0;32m1\u001b[0m\n\u001b[0;31m    def my_cal2(rate=0.5, money, tax=0.14):\u001b[0m\n\u001b[0m                ^\u001b[0m\n\u001b[0;31mSyntaxError\u001b[0m\u001b[0;31m:\u001b[0m non-default argument follows default argument\n"
          ]
        }
      ]
    },
    {
      "cell_type": "markdown",
      "source": [
        "def fun(a, b, c, *args, d=?, e=?"
      ],
      "metadata": {
        "id": "miYe5sqN2ZnJ"
      }
    },
    {
      "cell_type": "markdown",
      "source": [
        "초깃값이 지정된 매개변수는 뒤쪽에 몰아주면 됩니다.\n",
        "```\n",
        "def personal_info(name, age, address='비공개'):\n",
        "def personal_info(name, age=0, address='비공개'):\n",
        "def personal_info(name='비공개', age=0, address='비공개'):\n",
        "```"
      ],
      "metadata": {
        "id": "l972VnlQrjcI"
      }
    },
    {
      "cell_type": "markdown",
      "source": [
        "# 람다 표현식"
      ],
      "metadata": {
        "id": "O0V37htzsB7t"
      }
    },
    {
      "cell_type": "markdown",
      "source": [
        "람다 표현식은 식 형태로 되어 있다고 해서 람다 표현식(lambda expression)이라고 부릅니다. 특히 람다 표현식은 함수를 간편하게 작성할 수 있어서 다른 함수의 인수로 넣을 때 주로 사용합니다."
      ],
      "metadata": {
        "id": "NI6j49H_sEY5"
      }
    },
    {
      "cell_type": "markdown",
      "source": [
        "## 람다 표현식으로 함수 만들기"
      ],
      "metadata": {
        "id": "e-dE5RTXsH-M"
      }
    },
    {
      "cell_type": "code",
      "execution_count": 167,
      "metadata": {
        "colab": {
          "base_uri": "https://localhost:8080/"
        },
        "id": "pA553Kopr82H",
        "outputId": "a16bbb13-e627-438f-c5c6-d767b5a29c7d"
      },
      "outputs": [
        {
          "output_type": "execute_result",
          "data": {
            "text/plain": [
              "11"
            ]
          },
          "metadata": {},
          "execution_count": 167
        }
      ],
      "source": [
        "def plus_ten(x):\n",
        "  return x + 10\n",
        "\n",
        "plus_ten(1)"
      ]
    },
    {
      "cell_type": "markdown",
      "source": [
        "람다 표현식은 다음과 같이 lambda에 매개변수를 지정하고 :(콜론) 뒤에 반환값으로 사용할 식을 지정합니다.\n",
        "\n",
        "* `lambda 매개변수들: 식`"
      ],
      "metadata": {
        "id": "dm8-zwtCsQNe"
      }
    },
    {
      "cell_type": "code",
      "source": [
        "lambda x: x + 10"
      ],
      "metadata": {
        "colab": {
          "base_uri": "https://localhost:8080/"
        },
        "id": "q0tSmPdVsNz6",
        "outputId": "eab767ee-4cfc-466b-ffc7-d06e32f7195a"
      },
      "execution_count": 168,
      "outputs": [
        {
          "output_type": "execute_result",
          "data": {
            "text/plain": [
              "<function __main__.<lambda>(x)>"
            ]
          },
          "metadata": {},
          "execution_count": 168
        }
      ]
    },
    {
      "cell_type": "markdown",
      "source": [
        "실행을 해보면 함수 객체가 나오는데, 이 상태로는 함수를 호출할 수 없습니다. 왜냐하면 람다 표현식은 이름이 없는 함수를 만들기 때문입니다. 그래서 람다 표현식을 익명 함수(anonymous function)로 부르기도 합니다.\n",
        "\n",
        "lambda로 만든 익명 함수를 호출하려면 다음과 같이 람다 표현식을 변수에 할당해주면 됩니다."
      ],
      "metadata": {
        "id": "ujm2GYH9sVim"
      }
    },
    {
      "cell_type": "code",
      "source": [
        "plus_ten = lambda x: x + 10\n",
        "plus_ten(12)"
      ],
      "metadata": {
        "colab": {
          "base_uri": "https://localhost:8080/"
        },
        "id": "ar6lYnq0sTYB",
        "outputId": "05b47a2e-8a31-4d9f-e158-43c8a4be0bd7"
      },
      "execution_count": 169,
      "outputs": [
        {
          "output_type": "execute_result",
          "data": {
            "text/plain": [
              "22"
            ]
          },
          "metadata": {},
          "execution_count": 169
        }
      ]
    },
    {
      "cell_type": "markdown",
      "source": [
        "### 람다 표현식 자체를 호출하기"
      ],
      "metadata": {
        "id": "7GJVBpaBsbKQ"
      }
    },
    {
      "cell_type": "markdown",
      "source": [
        "람다 표현식은 변수에 할당하지 않고 람다 표현식 자체를 바로 호출할 수 있습니다. 다음과 같이 람다 표현식을 ( )(괄호)로 묶은 뒤에 다시 ( )를 붙이고 인수를 넣어서 호출하면 됩니다.\n",
        "\n",
        "* `(lambda 매개변수들: 식)(인수들)`"
      ],
      "metadata": {
        "id": "KHt7GGMysdPf"
      }
    },
    {
      "cell_type": "code",
      "source": [
        "(lambda x: x + 10)(100)"
      ],
      "metadata": {
        "colab": {
          "base_uri": "https://localhost:8080/"
        },
        "id": "nyovR2LssYsr",
        "outputId": "a9d230ac-253a-4b52-f5f2-2cdb5ee85a63"
      },
      "execution_count": 171,
      "outputs": [
        {
          "output_type": "execute_result",
          "data": {
            "text/plain": [
              "110"
            ]
          },
          "metadata": {},
          "execution_count": 171
        }
      ]
    },
    {
      "cell_type": "markdown",
      "source": [
        "### 람다 표현식 안에서는 변수를 만들 수 없다"
      ],
      "metadata": {
        "id": "m91vCVZUslAD"
      }
    },
    {
      "cell_type": "markdown",
      "source": [
        "람다 표현식에서 주의할 점은 람다 표현식 안에서는 새 변수를 만들 수 없다는 점입니다. 따라서 반환값 부분은 변수 없이 식 한 줄로 표현할 수 있어야 합니다. 변수가 필요한 코드일 경우에는 def로 함수를 작성하는 것이 좋습니다."
      ],
      "metadata": {
        "id": "MHaw_mWAsnco"
      }
    },
    {
      "cell_type": "code",
      "source": [
        "(lambda x: y=10, x + y)(1)"
      ],
      "metadata": {
        "colab": {
          "base_uri": "https://localhost:8080/",
          "height": 136
        },
        "id": "92VgQDf_sit6",
        "outputId": "9df5e75d-90eb-4971-aa3d-13748df58221"
      },
      "execution_count": 172,
      "outputs": [
        {
          "output_type": "error",
          "ename": "SyntaxError",
          "evalue": "ignored",
          "traceback": [
            "\u001b[0;36m  File \u001b[0;32m\"<ipython-input-172-7dd4d85c9d4d>\"\u001b[0;36m, line \u001b[0;32m1\u001b[0m\n\u001b[0;31m    (lambda x: y=10, x + y)(1)\u001b[0m\n\u001b[0m                ^\u001b[0m\n\u001b[0;31mSyntaxError\u001b[0m\u001b[0;31m:\u001b[0m invalid syntax\n"
          ]
        }
      ]
    },
    {
      "cell_type": "code",
      "source": [
        "# 단, 람다 표현식 바깥에 있는 변수는 사용할 수 있습니다.\n",
        "y = 10\n",
        "(lambda x: x + y)(1)"
      ],
      "metadata": {
        "colab": {
          "base_uri": "https://localhost:8080/"
        },
        "id": "B9C2CGGCsqtn",
        "outputId": "be3db972-6e52-4cea-e008-3fd2d1832a73"
      },
      "execution_count": 174,
      "outputs": [
        {
          "output_type": "execute_result",
          "data": {
            "text/plain": [
              "11"
            ]
          },
          "metadata": {},
          "execution_count": 174
        }
      ]
    },
    {
      "cell_type": "code",
      "source": [
        "# 함수 내부에서, 외부에섯 사용된 변수를 끌어서 사용하는 건 가능 (람다 표현식도 마찬가지)\n",
        "# 함수 내부에서 전달받은 매개변수나, 그 변수를 통해 선언된 다른 값들은 함수 밖에서 호출할 수 없음\n",
        "# 함수 내부에서, 외부에 변수를 호출해서 변경시켰다면, 해당 변경내용은 유지\n",
        "def add(x, y):\n",
        "  return x + y\n",
        "\n",
        "def add2(x, y):\n",
        "  return(x + y) ** 2\n",
        "\n",
        "z = 2\n",
        "def add3(x, y):\n",
        "  return(x + y) ** z"
      ],
      "metadata": {
        "id": "WecJut4Z3-F3"
      },
      "execution_count": 180,
      "outputs": []
    },
    {
      "cell_type": "code",
      "source": [
        "# 함수 내부에 선언되지 않은 변수의 경우에는 대입할 수 없다\n",
        "# 값을 외부로 전달해서 변경하고 싶으면 return 강제"
      ],
      "metadata": {
        "id": "4CDe2sjC5-yE"
      },
      "execution_count": null,
      "outputs": []
    },
    {
      "cell_type": "code",
      "source": [
        "add3(10, 10)"
      ],
      "metadata": {
        "colab": {
          "base_uri": "https://localhost:8080/"
        },
        "id": "dw4Mx2OR4Y59",
        "outputId": "89b215da-c782-4fff-e986-e0fe885bcb1c"
      },
      "execution_count": 181,
      "outputs": [
        {
          "output_type": "execute_result",
          "data": {
            "text/plain": [
              "400"
            ]
          },
          "metadata": {},
          "execution_count": 181
        }
      ]
    },
    {
      "cell_type": "code",
      "source": [
        "z = 3\n",
        "add3(10, 10)"
      ],
      "metadata": {
        "colab": {
          "base_uri": "https://localhost:8080/"
        },
        "id": "VcJV814N4ce-",
        "outputId": "801d470d-bcc5-4b42-941e-4a554a726e4b"
      },
      "execution_count": 182,
      "outputs": [
        {
          "output_type": "execute_result",
          "data": {
            "text/plain": [
              "8000"
            ]
          },
          "metadata": {},
          "execution_count": 182
        }
      ]
    },
    {
      "cell_type": "markdown",
      "source": [
        "### 람다 표현식을 인수로 사용하기"
      ],
      "metadata": {
        "id": "ebuUgDrjsxIc"
      }
    },
    {
      "cell_type": "markdown",
      "source": [
        "람다 표현식을 사용하는 이유는 함수의 인수 부분에서 간단하게 함수를 만들기 위해서 입니다. 이런 방식으로 사용하는 대표적인 예가 map입니다."
      ],
      "metadata": {
        "id": "8osUgTp7s0wN"
      }
    },
    {
      "cell_type": "code",
      "source": [
        "list(map(int, [\"11\", \"12\", \"13\"]))"
      ],
      "metadata": {
        "colab": {
          "base_uri": "https://localhost:8080/"
        },
        "id": "FFHxoY6IsvPu",
        "outputId": "14973b0f-9fc5-4b7d-cb43-87c91768c563"
      },
      "execution_count": 183,
      "outputs": [
        {
          "output_type": "execute_result",
          "data": {
            "text/plain": [
              "[11, 12, 13]"
            ]
          },
          "metadata": {},
          "execution_count": 183
        }
      ]
    },
    {
      "cell_type": "code",
      "source": [
        "list(map(lambda x : int(x) ** 2, [\"11\", \"12\", \"13\"]))"
      ],
      "metadata": {
        "colab": {
          "base_uri": "https://localhost:8080/"
        },
        "id": "FOm48x0Qs6p-",
        "outputId": "e726048b-8c69-409f-f4dc-26895f57b09f"
      },
      "execution_count": 184,
      "outputs": [
        {
          "output_type": "execute_result",
          "data": {
            "text/plain": [
              "[121, 144, 169]"
            ]
          },
          "metadata": {},
          "execution_count": 184
        }
      ]
    }
  ]
}