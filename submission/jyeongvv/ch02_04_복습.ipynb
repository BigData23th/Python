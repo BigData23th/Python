{
  "nbformat": 4,
  "nbformat_minor": 0,
  "metadata": {
    "colab": {
      "provenance": [],
      "authorship_tag": "ABX9TyOq2HKabaOJ2/RKE7BGxV5V",
      "include_colab_link": true
    },
    "kernelspec": {
      "name": "python3",
      "display_name": "Python 3"
    },
    "language_info": {
      "name": "python"
    }
  },
  "cells": [
    {
      "cell_type": "markdown",
      "metadata": {
        "id": "view-in-github",
        "colab_type": "text"
      },
      "source": [
        "<a href=\"https://colab.research.google.com/github/jyeongvv/Python_jy/blob/main/submission/jyeongvv/ch02_04_%EB%B3%B5%EC%8A%B5.ipynb\" target=\"_parent\"><img src=\"https://colab.research.google.com/assets/colab-badge.svg\" alt=\"Open In Colab\"/></a>"
      ]
    },
    {
      "cell_type": "markdown",
      "source": [
        "## 문자열 서식"
      ],
      "metadata": {
        "id": "SlPTfGyjcNm6"
      }
    },
    {
      "cell_type": "markdown",
      "source": [
        "## f-string"
      ],
      "metadata": {
        "id": "AMSK_vAWflsK"
      }
    },
    {
      "cell_type": "code",
      "execution_count": null,
      "metadata": {
        "id": "Xjr8ToWuYwE-",
        "colab": {
          "base_uri": "https://localhost:8080/",
          "height": 35
        },
        "outputId": "bf1a807d-8dca-4aa2-aeea-c63da794530c"
      },
      "outputs": [
        {
          "output_type": "execute_result",
          "data": {
            "text/plain": [
              "'빅데이터 엔지니어링 과정에서는파이썬을 배웁니다'"
            ],
            "application/vnd.google.colaboratory.intrinsic+json": {
              "type": "string"
            }
          },
          "metadata": {},
          "execution_count": 1
        }
      ],
      "source": [
        "\"빅데이터 엔지니어링 과정에서는\" + \"파이썬\" + \"을 배웁니다\""
      ]
    },
    {
      "cell_type": "code",
      "source": [
        "def announce(keyword):\n",
        "  return \"빅데이터 엔지니어링 과정에서는\" + keyword + \"을 배웁니다\""
      ],
      "metadata": {
        "id": "PsIaI8Fff02n"
      },
      "execution_count": null,
      "outputs": []
    },
    {
      "cell_type": "code",
      "source": [
        "announce(\"Java\")"
      ],
      "metadata": {
        "colab": {
          "base_uri": "https://localhost:8080/",
          "height": 35
        },
        "id": "vwO4cfPKgB50",
        "outputId": "21948058-221d-4b79-c0f7-c3babbb1a7aa"
      },
      "execution_count": null,
      "outputs": [
        {
          "output_type": "execute_result",
          "data": {
            "text/plain": [
              "'빅데이터 엔지니어링 과정에서는Java을 배웁니다'"
            ],
            "application/vnd.google.colaboratory.intrinsic+json": {
              "type": "string"
            }
          },
          "metadata": {},
          "execution_count": 3
        }
      ]
    },
    {
      "cell_type": "code",
      "source": [
        "announce(\"Python\")"
      ],
      "metadata": {
        "colab": {
          "base_uri": "https://localhost:8080/",
          "height": 35
        },
        "id": "Hey594ohgEtg",
        "outputId": "95007785-7d12-4246-e985-2b25eb3fba00"
      },
      "execution_count": null,
      "outputs": [
        {
          "output_type": "execute_result",
          "data": {
            "text/plain": [
              "'빅데이터 엔지니어링 과정에서는Python을 배웁니다'"
            ],
            "application/vnd.google.colaboratory.intrinsic+json": {
              "type": "string"
            }
          },
          "metadata": {},
          "execution_count": 4
        }
      ]
    },
    {
      "cell_type": "code",
      "source": [
        "def announce2(a, b, c, d):\n",
        "  return a + \"에서는\"+ b + \"와\" + c + \"와\" + \"d\" + \"를 배웁니다\""
      ],
      "metadata": {
        "id": "cy4GbRykgIoB"
      },
      "execution_count": null,
      "outputs": []
    },
    {
      "cell_type": "code",
      "source": [
        "def announce3(name, count, subject1, subject2):\n",
        "  return name + \" \" + str(count) + \"기에서는\" + subject1 + \"과\" + subject2 + \"를 배웁니다\""
      ],
      "metadata": {
        "id": "3weGj44lgW59"
      },
      "execution_count": null,
      "outputs": []
    },
    {
      "cell_type": "code",
      "source": [
        "announce3(\"빅데이터\", 23, \"자바\", \"스파크\")"
      ],
      "metadata": {
        "colab": {
          "base_uri": "https://localhost:8080/",
          "height": 35
        },
        "id": "vSAsypV8gu60",
        "outputId": "f5415fde-22a6-4cef-d9d6-2b85cac26deb"
      },
      "execution_count": null,
      "outputs": [
        {
          "output_type": "execute_result",
          "data": {
            "text/plain": [
              "'빅데이터 23기에서는자바과스파크를 배웁니다'"
            ],
            "application/vnd.google.colaboratory.intrinsic+json": {
              "type": "string"
            }
          },
          "metadata": {},
          "execution_count": 10
        }
      ]
    },
    {
      "cell_type": "code",
      "source": [
        "def announce_f(name, count, subject1, subject2):\n",
        "  return f\"{name} {count}기에서는 {subject1}, {subject2}를 배웁니다\""
      ],
      "metadata": {
        "id": "AWIvjPR8g4hD"
      },
      "execution_count": null,
      "outputs": []
    },
    {
      "cell_type": "code",
      "source": [
        "announce_f(\"빅데이터\", 23, \"자바\", \"스파크\")"
      ],
      "metadata": {
        "colab": {
          "base_uri": "https://localhost:8080/",
          "height": 35
        },
        "id": "3BncqOEshJmx",
        "outputId": "ef796a1e-a432-488b-ba0e-3bc54ceceb3a"
      },
      "execution_count": null,
      "outputs": [
        {
          "output_type": "execute_result",
          "data": {
            "text/plain": [
              "'빅데이터 23기에서는 자바, 스파크를 배웁니다'"
            ],
            "application/vnd.google.colaboratory.intrinsic+json": {
              "type": "string"
            }
          },
          "metadata": {},
          "execution_count": 14
        }
      ]
    },
    {
      "cell_type": "code",
      "source": [
        "a = 76 # 취업자 수\n",
        "b = 97 # 전체 수강생 수 \n",
        "\n",
        "f\"전체 취업자 수 : {a:04d}명 / 전체 수강생 수 {b:04d}명 / {(a / b):06.2f}\""
      ],
      "metadata": {
        "colab": {
          "base_uri": "https://localhost:8080/",
          "height": 35
        },
        "id": "YHG5fenKhOMI",
        "outputId": "85665fd7-9cf6-4e1f-b306-a4a29d390ae6"
      },
      "execution_count": null,
      "outputs": [
        {
          "output_type": "execute_result",
          "data": {
            "text/plain": [
              "'전체 취업자 수 : 0076명 / 전체 수강생 수 0097명 / 000.78'"
            ],
            "application/vnd.google.colaboratory.intrinsic+json": {
              "type": "string"
            }
          },
          "metadata": {},
          "execution_count": 21
        }
      ]
    },
    {
      "cell_type": "markdown",
      "source": [
        "## format 메소드"
      ],
      "metadata": {
        "id": "r2cvrc3JiDnC"
      }
    },
    {
      "cell_type": "code",
      "source": [
        "introduction = \"이름 : {}, 나이 : {}세\".format('김동동', 20)\n",
        "introduction"
      ],
      "metadata": {
        "colab": {
          "base_uri": "https://localhost:8080/",
          "height": 35
        },
        "id": "YL1dTW_iiCSy",
        "outputId": "8aaee65c-c478-46fe-c7ac-3c39272e16a7"
      },
      "execution_count": null,
      "outputs": [
        {
          "output_type": "execute_result",
          "data": {
            "text/plain": [
              "'이름 : 김동동, 나이 : 20세'"
            ],
            "application/vnd.google.colaboratory.intrinsic+json": {
              "type": "string"
            }
          },
          "metadata": {},
          "execution_count": 22
        }
      ]
    },
    {
      "cell_type": "code",
      "source": [
        "# introduction2 = \"이름 : {name}, 나이 : {age}세\".format(name='김동동', age=20)\n",
        "introduction2 = \"이름 : {name}, 나이 : {age}세\".format(age=20, name='김동동')\n",
        "introduction2"
      ],
      "metadata": {
        "colab": {
          "base_uri": "https://localhost:8080/",
          "height": 35
        },
        "id": "bGO80QQtieM1",
        "outputId": "1c9e0888-1330-4412-866d-75dff80963a0"
      },
      "execution_count": null,
      "outputs": [
        {
          "output_type": "execute_result",
          "data": {
            "text/plain": [
              "'이름 : 김동동, 나이 : 20세'"
            ],
            "application/vnd.google.colaboratory.intrinsic+json": {
              "type": "string"
            }
          },
          "metadata": {},
          "execution_count": 24
        }
      ]
    },
    {
      "cell_type": "code",
      "source": [
        "def hello():\n",
        "  return \"안녕 나는 김동동이야\""
      ],
      "metadata": {
        "id": "Mz1-gD9MimKJ"
      },
      "execution_count": null,
      "outputs": []
    },
    {
      "cell_type": "code",
      "source": [
        "hello()"
      ],
      "metadata": {
        "colab": {
          "base_uri": "https://localhost:8080/",
          "height": 35
        },
        "id": "U_otYMqUjELB",
        "outputId": "0e356ec2-7898-4c2d-e93f-f1c0f16ffecf"
      },
      "execution_count": null,
      "outputs": [
        {
          "output_type": "execute_result",
          "data": {
            "text/plain": [
              "'안녕 나는 김동동이야'"
            ],
            "application/vnd.google.colaboratory.intrinsic+json": {
              "type": "string"
            }
          },
          "metadata": {},
          "execution_count": 26
        }
      ]
    },
    {
      "cell_type": "code",
      "source": [
        "def hello2(name):\n",
        "  return f\"안녕 나는 {name}이야\"\n",
        "\n",
        "hello2(\"김동동\")"
      ],
      "metadata": {
        "colab": {
          "base_uri": "https://localhost:8080/",
          "height": 35
        },
        "id": "RpIIjKqWjFaJ",
        "outputId": "8f6b6302-f36f-433f-87f0-b2e94af75105"
      },
      "execution_count": null,
      "outputs": [
        {
          "output_type": "execute_result",
          "data": {
            "text/plain": [
              "'안녕 나는 김동동이야'"
            ],
            "application/vnd.google.colaboratory.intrinsic+json": {
              "type": "string"
            }
          },
          "metadata": {},
          "execution_count": 29
        }
      ]
    },
    {
      "cell_type": "code",
      "source": [
        "def hello3(sentence, name):\n",
        "  # return \"안녕 나는 {}이야\".format(name)\n",
        "  return sentence.format(name)\n",
        "\n",
        "hello3(\"여러분 좋은 아침! 내 이름을 묻는다면 나는 {}!\", \"지영\")"
      ],
      "metadata": {
        "colab": {
          "base_uri": "https://localhost:8080/",
          "height": 35
        },
        "id": "FCc-594DjOVu",
        "outputId": "3d62fec1-35e7-416e-a0ab-a03caee7894d"
      },
      "execution_count": null,
      "outputs": [
        {
          "output_type": "execute_result",
          "data": {
            "text/plain": [
              "'여러분 좋은 아침! 내 이름을 묻는다면 나는 지영!'"
            ],
            "application/vnd.google.colaboratory.intrinsic+json": {
              "type": "string"
            }
          },
          "metadata": {},
          "execution_count": 34
        }
      ]
    },
    {
      "cell_type": "code",
      "source": [
        "def hello4(callback, *args):\n",
        "  return list(map(callback, args))\n",
        "\n",
        "hello4(\"{}님 출석하셨습니다\".format, \"김장장\")"
      ],
      "metadata": {
        "colab": {
          "base_uri": "https://localhost:8080/"
        },
        "id": "qwkCA2NCjvGO",
        "outputId": "d1afcc4d-2233-42e5-9057-bd4a5df450c1"
      },
      "execution_count": null,
      "outputs": [
        {
          "output_type": "execute_result",
          "data": {
            "text/plain": [
              "['김장장님 출석하셨습니다']"
            ]
          },
          "metadata": {},
          "execution_count": 36
        }
      ]
    },
    {
      "cell_type": "markdown",
      "source": [
        "# 딕셔너리 응용"
      ],
      "metadata": {
        "id": "kRncBwM3mxuv"
      }
    },
    {
      "cell_type": "code",
      "source": [
        "x = {\"a\" : 10, \"b\": 20, \"c\" : 30, \"d\" : 40}\n",
        "x"
      ],
      "metadata": {
        "id": "pSQXHBNckVs8",
        "colab": {
          "base_uri": "https://localhost:8080/"
        },
        "outputId": "69a352ee-83ae-4ac7-ca2e-e0e4e41dca3e"
      },
      "execution_count": 37,
      "outputs": [
        {
          "output_type": "execute_result",
          "data": {
            "text/plain": [
              "{'a': 10, 'b': 20, 'c': 30, 'd': 40}"
            ]
          },
          "metadata": {},
          "execution_count": 37
        }
      ]
    },
    {
      "cell_type": "code",
      "source": [
        "x['a'] = 15\n",
        "x"
      ],
      "metadata": {
        "colab": {
          "base_uri": "https://localhost:8080/"
        },
        "id": "I4j5tsvOnCwJ",
        "outputId": "c8b72fb1-f615-41e9-c076-a76cf1aa0ccb"
      },
      "execution_count": 38,
      "outputs": [
        {
          "output_type": "execute_result",
          "data": {
            "text/plain": [
              "{'a': 15, 'b': 20, 'c': 30, 'd': 40}"
            ]
          },
          "metadata": {},
          "execution_count": 38
        }
      ]
    },
    {
      "cell_type": "code",
      "source": [
        "x.get('e') # None 에러가 나지 않음"
      ],
      "metadata": {
        "id": "EN9hXpp9nG0N"
      },
      "execution_count": 40,
      "outputs": []
    },
    {
      "cell_type": "code",
      "source": [
        "x.get('e', -1) # 기본값을 지정 -> 없을 때 기본값"
      ],
      "metadata": {
        "colab": {
          "base_uri": "https://localhost:8080/"
        },
        "id": "sMixYcm1nRgd",
        "outputId": "1945dd01-c8ff-4cec-ea90-41fa7298d190"
      },
      "execution_count": 41,
      "outputs": [
        {
          "output_type": "execute_result",
          "data": {
            "text/plain": [
              "-1"
            ]
          },
          "metadata": {},
          "execution_count": 41
        }
      ]
    },
    {
      "cell_type": "code",
      "source": [
        "x.update(a=20)\n",
        "x"
      ],
      "metadata": {
        "colab": {
          "base_uri": "https://localhost:8080/"
        },
        "id": "r3wy7o5JnTIr",
        "outputId": "aa79f042-da8f-452f-a4f7-05e565d83450"
      },
      "execution_count": 42,
      "outputs": [
        {
          "output_type": "execute_result",
          "data": {
            "text/plain": [
              "{'a': 20, 'b': 20, 'c': 30, 'd': 40}"
            ]
          },
          "metadata": {},
          "execution_count": 42
        }
      ]
    },
    {
      "cell_type": "code",
      "source": [
        "x.update(a=20)\n",
        "x"
      ],
      "metadata": {
        "colab": {
          "base_uri": "https://localhost:8080/"
        },
        "id": "xPzxDFltng5c",
        "outputId": "bdcb0cfd-6afc-4661-85eb-6dadaa5b6ff3"
      },
      "execution_count": 44,
      "outputs": [
        {
          "output_type": "execute_result",
          "data": {
            "text/plain": [
              "{'a': 20, 'b': 20, 'c': 30, 'd': 40}"
            ]
          },
          "metadata": {},
          "execution_count": 44
        }
      ]
    },
    {
      "cell_type": "code",
      "source": [
        "x.update(e=200) # 변수형태로 표현될 수 없는 값들 (숫자 -> update)\n",
        "x"
      ],
      "metadata": {
        "colab": {
          "base_uri": "https://localhost:8080/"
        },
        "id": "a4Xv-WP8nkvL",
        "outputId": "383acd91-8400-45d1-d260-ebeca79b7091"
      },
      "execution_count": 45,
      "outputs": [
        {
          "output_type": "execute_result",
          "data": {
            "text/plain": [
              "{'a': 20, 'b': 20, 'c': 30, 'd': 40, 'e': 200}"
            ]
          },
          "metadata": {},
          "execution_count": 45
        }
      ]
    },
    {
      "cell_type": "code",
      "source": [
        "x.pop('a'), x"
      ],
      "metadata": {
        "colab": {
          "base_uri": "https://localhost:8080/",
          "height": 170
        },
        "id": "UWgYmxvXnvd_",
        "outputId": "dd80dfab-552c-47d1-f249-b782a32caa7b"
      },
      "execution_count": 47,
      "outputs": [
        {
          "output_type": "error",
          "ename": "KeyError",
          "evalue": "ignored",
          "traceback": [
            "\u001b[0;31m---------------------------------------------------------------------------\u001b[0m",
            "\u001b[0;31mKeyError\u001b[0m                                  Traceback (most recent call last)",
            "\u001b[0;32m<ipython-input-47-0fd24452aad9>\u001b[0m in \u001b[0;36m<module>\u001b[0;34m\u001b[0m\n\u001b[0;32m----> 1\u001b[0;31m \u001b[0mx\u001b[0m\u001b[0;34m.\u001b[0m\u001b[0mpop\u001b[0m\u001b[0;34m(\u001b[0m\u001b[0;34m'a'\u001b[0m\u001b[0;34m)\u001b[0m\u001b[0;34m,\u001b[0m \u001b[0mx\u001b[0m\u001b[0;34m\u001b[0m\u001b[0;34m\u001b[0m\u001b[0m\n\u001b[0m",
            "\u001b[0;31mKeyError\u001b[0m: 'a'"
          ]
        }
      ]
    },
    {
      "cell_type": "code",
      "source": [
        "x.pop() # 딕셔너리는 내부의 순서가 없음"
      ],
      "metadata": {
        "colab": {
          "base_uri": "https://localhost:8080/",
          "height": 170
        },
        "id": "p9BOm0Djn226",
        "outputId": "201d0b23-37cc-4d05-bc0a-7520f831a518"
      },
      "execution_count": 48,
      "outputs": [
        {
          "output_type": "error",
          "ename": "TypeError",
          "evalue": "ignored",
          "traceback": [
            "\u001b[0;31m---------------------------------------------------------------------------\u001b[0m",
            "\u001b[0;31mTypeError\u001b[0m                                 Traceback (most recent call last)",
            "\u001b[0;32m<ipython-input-48-22e0729a7b70>\u001b[0m in \u001b[0;36m<module>\u001b[0;34m\u001b[0m\n\u001b[0;32m----> 1\u001b[0;31m \u001b[0mx\u001b[0m\u001b[0;34m.\u001b[0m\u001b[0mpop\u001b[0m\u001b[0;34m(\u001b[0m\u001b[0;34m)\u001b[0m\u001b[0;34m\u001b[0m\u001b[0;34m\u001b[0m\u001b[0m\n\u001b[0m",
            "\u001b[0;31mTypeError\u001b[0m: pop expected at least 1 argument, got 0"
          ]
        }
      ]
    },
    {
      "cell_type": "code",
      "source": [
        "x.pop('f')"
      ],
      "metadata": {
        "colab": {
          "base_uri": "https://localhost:8080/",
          "height": 170
        },
        "id": "RV4lVUGjoABb",
        "outputId": "965f4ebe-4548-40c9-f3b6-506bce0a87b7"
      },
      "execution_count": 49,
      "outputs": [
        {
          "output_type": "error",
          "ename": "KeyError",
          "evalue": "ignored",
          "traceback": [
            "\u001b[0;31m---------------------------------------------------------------------------\u001b[0m",
            "\u001b[0;31mKeyError\u001b[0m                                  Traceback (most recent call last)",
            "\u001b[0;32m<ipython-input-49-9f7f4de3e911>\u001b[0m in \u001b[0;36m<module>\u001b[0;34m\u001b[0m\n\u001b[0;32m----> 1\u001b[0;31m \u001b[0mx\u001b[0m\u001b[0;34m.\u001b[0m\u001b[0mpop\u001b[0m\u001b[0;34m(\u001b[0m\u001b[0;34m'f'\u001b[0m\u001b[0;34m)\u001b[0m\u001b[0;34m\u001b[0m\u001b[0;34m\u001b[0m\u001b[0m\n\u001b[0m",
            "\u001b[0;31mKeyError\u001b[0m: 'f'"
          ]
        }
      ]
    },
    {
      "cell_type": "code",
      "source": [
        "x.pop('f', 0)"
      ],
      "metadata": {
        "colab": {
          "base_uri": "https://localhost:8080/"
        },
        "id": "kF2KhYCDoEx8",
        "outputId": "b32d8b27-2896-4358-cc65-c4461006deb7"
      },
      "execution_count": 50,
      "outputs": [
        {
          "output_type": "execute_result",
          "data": {
            "text/plain": [
              "0"
            ]
          },
          "metadata": {},
          "execution_count": 50
        }
      ]
    },
    {
      "cell_type": "code",
      "source": [
        "print(x)\n",
        "x.clear()\n",
        "print(x)"
      ],
      "metadata": {
        "colab": {
          "base_uri": "https://localhost:8080/"
        },
        "id": "526F7DUyoHPq",
        "outputId": "d15e3fb5-822b-4c39-945d-06a459533e88"
      },
      "execution_count": 51,
      "outputs": [
        {
          "output_type": "stream",
          "name": "stdout",
          "text": [
            "{'b': 20, 'c': 30, 'd': 40, 'e': 200}\n",
            "{}\n"
          ]
        }
      ]
    },
    {
      "cell_type": "code",
      "source": [
        "x = {\"a\" : 10, \"b\": 20, \"c\" : 30, \"d\" : 40}\n",
        "x"
      ],
      "metadata": {
        "colab": {
          "base_uri": "https://localhost:8080/"
        },
        "id": "C7QotpFVoO1R",
        "outputId": "0700fb7f-24fa-42f3-8a0d-91c8f51ee8c3"
      },
      "execution_count": 52,
      "outputs": [
        {
          "output_type": "execute_result",
          "data": {
            "text/plain": [
              "{'a': 10, 'b': 20, 'c': 30, 'd': 40}"
            ]
          },
          "metadata": {},
          "execution_count": 52
        }
      ]
    },
    {
      "cell_type": "code",
      "source": [
        "for i in x:\n",
        "  print(i) # 키\n",
        "  print(x[i]) # 값"
      ],
      "metadata": {
        "colab": {
          "base_uri": "https://localhost:8080/"
        },
        "id": "dC1LTyGOoQIX",
        "outputId": "013488d8-f2a2-49e6-f9f4-63134f292a58"
      },
      "execution_count": 53,
      "outputs": [
        {
          "output_type": "stream",
          "name": "stdout",
          "text": [
            "a\n",
            "10\n",
            "b\n",
            "20\n",
            "c\n",
            "30\n",
            "d\n",
            "40\n"
          ]
        }
      ]
    },
    {
      "cell_type": "code",
      "source": [
        "for i in x.items():\n",
        "  # (키, 값) 상으로 전달 받게 됨\n",
        "  print(i)"
      ],
      "metadata": {
        "colab": {
          "base_uri": "https://localhost:8080/"
        },
        "id": "RAEdCa-WoccH",
        "outputId": "ec11b784-df44-440c-e0c0-ab39687f5e56"
      },
      "execution_count": 54,
      "outputs": [
        {
          "output_type": "stream",
          "name": "stdout",
          "text": [
            "('a', 10)\n",
            "('b', 20)\n",
            "('c', 30)\n",
            "('d', 40)\n"
          ]
        }
      ]
    },
    {
      "cell_type": "code",
      "source": [
        "for k, v in x.items():\n",
        "  print(f\"key : {k}\")\n",
        "  print(f\"value : {v}\")"
      ],
      "metadata": {
        "colab": {
          "base_uri": "https://localhost:8080/"
        },
        "id": "4wT_8yshojDW",
        "outputId": "f726f6b8-52f5-4441-fc9c-4783ca5b4cb8"
      },
      "execution_count": 55,
      "outputs": [
        {
          "output_type": "stream",
          "name": "stdout",
          "text": [
            "key : a\n",
            "value : 10\n",
            "key : b\n",
            "value : 20\n",
            "key : c\n",
            "value : 30\n",
            "key : d\n",
            "value : 40\n"
          ]
        }
      ]
    },
    {
      "cell_type": "code",
      "source": [
        "for v in x.values():\n",
        "  print(f\"value : {v}\")"
      ],
      "metadata": {
        "colab": {
          "base_uri": "https://localhost:8080/"
        },
        "id": "XxN52n3cout2",
        "outputId": "4fa5c024-44fd-4e8d-8e6c-c569c7b88bb5"
      },
      "execution_count": 57,
      "outputs": [
        {
          "output_type": "stream",
          "name": "stdout",
          "text": [
            "value : 10\n",
            "value : 20\n",
            "value : 30\n",
            "value : 40\n"
          ]
        }
      ]
    },
    {
      "cell_type": "code",
      "source": [
        "lesson = {\n",
        "    \"과목\" : {\n",
        "        \"자바\": {\n",
        "            \"버전 : 1.8\"\n",
        "        },\n",
        "        \"파이썬\": {\n",
        "            \"버전\" : 3.9\n",
        "        },\n",
        "        \"자바 스크립트\": {\n",
        "            \"버전\" : \"es6\"\n",
        "        }\n",
        "    }\n",
        "}\n",
        "\n",
        "lesson"
      ],
      "metadata": {
        "colab": {
          "base_uri": "https://localhost:8080/"
        },
        "id": "GP21Cpivo5OB",
        "outputId": "8a899c06-4883-4124-c8b8-1f1d44d17d1b"
      },
      "execution_count": 58,
      "outputs": [
        {
          "output_type": "execute_result",
          "data": {
            "text/plain": [
              "{'과목': {'자바': {'버전 : 1.8'}, '파이썬': {'버전': 3.9}, '자바 스크립트': {'버전': 'es6'}}}"
            ]
          },
          "metadata": {},
          "execution_count": 58
        }
      ]
    },
    {
      "cell_type": "code",
      "source": [
        "lesson['과목']"
      ],
      "metadata": {
        "colab": {
          "base_uri": "https://localhost:8080/"
        },
        "id": "QEm5_kU5pZoT",
        "outputId": "90816104-0936-4e91-bd08-c80f800ec0bd"
      },
      "execution_count": 59,
      "outputs": [
        {
          "output_type": "execute_result",
          "data": {
            "text/plain": [
              "{'자바': {'버전 : 1.8'}, '파이썬': {'버전': 3.9}, '자바 스크립트': {'버전': 'es6'}}"
            ]
          },
          "metadata": {},
          "execution_count": 59
        }
      ]
    }
  ]
}