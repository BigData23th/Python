{
  "nbformat": 4,
  "nbformat_minor": 0,
  "metadata": {
    "colab": {
      "provenance": [],
      "authorship_tag": "ABX9TyN2mRQtXV+VHRR+y1bvlWQ0",
      "include_colab_link": true
    },
    "kernelspec": {
      "name": "python3",
      "display_name": "Python 3"
    },
    "language_info": {
      "name": "python"
    }
  },
  "cells": [
    {
      "cell_type": "markdown",
      "metadata": {
        "id": "view-in-github",
        "colab_type": "text"
      },
      "source": [
        "<a href=\"https://colab.research.google.com/github/jyeongvv/Python_bd23_jy/blob/main/submission/jyeongvv/ch01_03_%EB%A7%88%ED%81%AC%EB%8B%A4%EC%9A%B4.ipynb\" target=\"_parent\"><img src=\"https://colab.research.google.com/assets/colab-badge.svg\" alt=\"Open In Colab\"/></a>"
      ]
    },
    {
      "cell_type": "code",
      "execution_count": null,
      "metadata": {
        "id": "lobtmlxU51dU"
      },
      "outputs": [],
      "source": []
    },
    {
      "cell_type": "markdown",
      "source": [
        "# 제목 (Headline)\n",
        "## 2단계 제목\n",
        "### 3단계 제목\n",
        "#### 4단계 제목\n",
        "##### 5단계\n"
      ],
      "metadata": {
        "id": "lMO4KkbI6AgA"
      }
    },
    {
      "cell_type": "markdown",
      "source": [
        "수평선\n",
        "---\n",
        "텍스트에 ---를 바로 붙이면 '#'과 같은 효과\n",
        "\n",
        "(수평선)\n",
        "\n",
        "\n",
        "--- "
      ],
      "metadata": {
        "id": "FNMXHUft6dSX"
      }
    },
    {
      "cell_type": "markdown",
      "source": [
        "줄바꿈<br>줄바꿈"
      ],
      "metadata": {
        "id": "D5V0j9lz6v74"
      }
    },
    {
      "cell_type": "markdown",
      "source": [
        "**굵게**\n",
        "*기울게*\n",
        "__굵게__\n",
        "_기울게_\n",
        "~~취소선~~~\n",
        "<u>밑줄</u>\n",
        "<mark>형광펜"
      ],
      "metadata": {
        "id": "cBeXHq-y60Gw"
      }
    },
    {
      "cell_type": "markdown",
      "source": [
        "> 인용문\n",
        ">> 인용문 안에 인용문\n",
        ">>> 인용문 안에 인용문 안에 인용문"
      ],
      "metadata": {
        "id": "22M5Bf1G7Hqw"
      }
    },
    {
      "cell_type": "markdown",
      "source": [
        "순서가 없는 리스트\n",
        "* 사과\n",
        "* 배\n",
        "* 자두\n",
        "\n",
        "순서가 있는 리스트\n",
        "1. 파이썬\n",
        "2. 자바\n",
        "3. SQL\n",
        "\n",
        "순서가 있는 리스트2\n",
        "1. 파이썬\n",
        "1. 자바\n",
        "1. SQL\n",
        "\n",
        "들여쓰기\n",
        "* 사과\n",
        "  * 껍질\n",
        "    * 볶음\n",
        "* 위\n",
        "      아래 (Tab x 2 = 코드블록)\n",
        "        **굵게**\n",
        "\n",
        "코드블록 -> 이 안에 꾸며주는 마크다운 문법 무시      \n",
        "  \n",
        "\n"
      ],
      "metadata": {
        "id": "uEzQtNDk7SIw"
      }
    },
    {
      "cell_type": "markdown",
      "source": [
        "코드 블록 \n",
        "\n",
        "한 줄 코드\n",
        "`print('Hello World')` - 음영처리\n",
        "\n",
        "여러 줄 코드블록\n",
        "```\n",
        "print('Hello')\n",
        "print('World')\n",
        "```"
      ],
      "metadata": {
        "id": "NWb0S5OK8VhR"
      }
    },
    {
      "cell_type": "markdown",
      "source": [
        "|책의 제목|작가|출판일\n",
        "|:-:|:-:|:-:|\n",
        "|장발장|변영인3세|2022.09.01\n",
        "|파이썬|<mark>김철수27세|1971.09.01"
      ],
      "metadata": {
        "id": "ccT2dDpG8uWg"
      }
    },
    {
      "cell_type": "markdown",
      "source": [
        "[링크](https://naver.com)\n",
        "![이미지에 대한 설명](https://gradium.co.kr/wp-content/uploads/coffee-3-1.jpg)"
      ],
      "metadata": {
        "id": "OPeP4XUO9X3Q"
      }
    },
    {
      "cell_type": "markdown",
      "source": [
        "- [ ] 체크박스\n",
        "- [x] 체크된 체크박스"
      ],
      "metadata": {
        "id": "EzYqqvM9994p"
      }
    }
  ]
}