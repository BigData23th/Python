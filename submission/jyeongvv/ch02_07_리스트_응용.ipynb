{
  "nbformat": 4,
  "nbformat_minor": 0,
  "metadata": {
    "colab": {
      "provenance": [],
      "include_colab_link": true
    },
    "kernelspec": {
      "name": "python3",
      "display_name": "Python 3"
    },
    "language_info": {
      "name": "python"
    }
  },
  "cells": [
    {
      "cell_type": "markdown",
      "metadata": {
        "id": "view-in-github",
        "colab_type": "text"
      },
      "source": [
        "<a href=\"https://colab.research.google.com/github/jyeongvv/Python_jy/blob/main/submission/jyeongvv/ch02_07_%EB%A6%AC%EC%8A%A4%ED%8A%B8_%EC%9D%91%EC%9A%A9.ipynb\" target=\"_parent\"><img src=\"https://colab.research.google.com/assets/colab-badge.svg\" alt=\"Open In Colab\"/></a>"
      ]
    },
    {
      "cell_type": "markdown",
      "source": [
        "# 리스트 응용"
      ],
      "metadata": {
        "id": "G6ZVllQhYcbV"
      }
    },
    {
      "cell_type": "markdown",
      "source": [
        "## 리스트 조작하기"
      ],
      "metadata": {
        "id": "oFfwKwUKYW_h"
      }
    },
    {
      "cell_type": "markdown",
      "source": [
        "### 리스트에 요소 추가하기"
      ],
      "metadata": {
        "id": "K8TvUjhbYf7x"
      }
    },
    {
      "cell_type": "markdown",
      "source": [
        "리스트의 대표적인 기능이 바로 요소 추가입니다. 다음과 같이 리스트에 요소를 추가하는 메서드는 3가지가 있습니다.\n",
        "\n",
        "* `append`: 요소 하나를 추가 (맨 뒷자리에)\n",
        "* `extend`: 리스트를 연결하여 확장\n",
        "* `insert`: 특정 인덱스에 요소 추가"
      ],
      "metadata": {
        "id": "78Pck1pcYiDa"
      }
    },
    {
      "cell_type": "markdown",
      "source": [
        "### 기존 리스트에 요소 하나 추가하기"
      ],
      "metadata": {
        "id": "glHB7Y0UYnpm"
      }
    },
    {
      "cell_type": "code",
      "execution_count": 2,
      "metadata": {
        "colab": {
          "base_uri": "https://localhost:8080/"
        },
        "id": "U7W5ZUuFYSZE",
        "outputId": "90cbaada-7bb3-4fb0-d085-d4ef6cfb39d5"
      },
      "outputs": [
        {
          "output_type": "execute_result",
          "data": {
            "text/plain": [
              "[10, 20, 30]"
            ]
          },
          "metadata": {},
          "execution_count": 2
        }
      ],
      "source": [
        "a = [10, 20, 30]\n",
        "a"
      ]
    },
    {
      "cell_type": "code",
      "source": [
        "a.append(500)"
      ],
      "metadata": {
        "id": "sVx9SnDHgyOk"
      },
      "execution_count": 3,
      "outputs": []
    },
    {
      "cell_type": "code",
      "source": [
        "a"
      ],
      "metadata": {
        "colab": {
          "base_uri": "https://localhost:8080/"
        },
        "id": "2saeBnu0g7iH",
        "outputId": "750ce04a-631d-4a01-eccd-0feb3caf1d92"
      },
      "execution_count": 4,
      "outputs": [
        {
          "output_type": "execute_result",
          "data": {
            "text/plain": [
              "[10, 20, 30, 500]"
            ]
          },
          "metadata": {},
          "execution_count": 4
        }
      ]
    },
    {
      "cell_type": "code",
      "source": [
        "# 물론 빈 리스트에 값을 추가할 수도 있습니다.\n",
        "b = []\n",
        "b.append(20)\n",
        "b"
      ],
      "metadata": {
        "colab": {
          "base_uri": "https://localhost:8080/"
        },
        "id": "W_A5RuYqYvan",
        "outputId": "55c67cb4-f05f-49fc-f22d-e3be1c83c773"
      },
      "execution_count": 6,
      "outputs": [
        {
          "output_type": "execute_result",
          "data": {
            "text/plain": [
              "[20]"
            ]
          },
          "metadata": {},
          "execution_count": 6
        }
      ]
    },
    {
      "cell_type": "markdown",
      "source": [
        "### 리스트 안에 리스트 추가하기"
      ],
      "metadata": {
        "id": "VT7bwaRgY3oG"
      }
    },
    {
      "cell_type": "code",
      "source": [
        "# append는 append(리스트)처럼 리스트를 넣으면 리스트 안에 리스트가 들어갑니다.\n",
        "a = [\"헤이즐넛 아메리카노\", \"마카다미아 쿠키\", \"카페모카\"]\n",
        "a.append([\"체리콕 에이드\", \"유자민트레몬티\"])\n",
        "a, len(a)"
      ],
      "metadata": {
        "colab": {
          "base_uri": "https://localhost:8080/"
        },
        "id": "vBb5LjzkY0Iz",
        "outputId": "acd4c7d1-057e-44a5-c3e8-dd68e820f173"
      },
      "execution_count": 8,
      "outputs": [
        {
          "output_type": "execute_result",
          "data": {
            "text/plain": [
              "(['헤이즐넛 아메리카노', '마카다미아 쿠키', '카페모카', ['체리콕 에이드', '유자민트레몬티']], 4)"
            ]
          },
          "metadata": {},
          "execution_count": 8
        }
      ]
    },
    {
      "cell_type": "markdown",
      "source": [
        "append는 항상 리스트의 길이가 1씩 증가합니다."
      ],
      "metadata": {
        "id": "6ngwqPHGZAro"
      }
    },
    {
      "cell_type": "markdown",
      "source": [
        "### 리스트 확장하기"
      ],
      "metadata": {
        "id": "2HZnWqYhZCdh"
      }
    },
    {
      "cell_type": "markdown",
      "source": [
        "그러면 리스트에 요소를 여러 개 추가하려면 어떻게 해야 할까요? append를 여러 번 사용하는 방법도 있지만, 추가할 요소가 많은 경우에는 상당히 번거롭습니다. 이때는 extend를 사용합니다."
      ],
      "metadata": {
        "id": "P-gRJ5WEZGBt"
      }
    },
    {
      "cell_type": "code",
      "source": [
        "# extend(리스트)는 리스트 끝에 다른 리스트를 연결하여 리스트를 확장합니다.\n",
        "a = [\"초코라떼\", \"복숭아 아이스티\", \"아메리카노\"]\n",
        "a.extend([\"캐모마일티\", \"바닐라라떼\"])\n",
        "a"
      ],
      "metadata": {
        "colab": {
          "base_uri": "https://localhost:8080/"
        },
        "id": "A3KhwcWaY9nI",
        "outputId": "96eb7ae7-e9d6-4185-8d8f-5106346f6a99"
      },
      "execution_count": 12,
      "outputs": [
        {
          "output_type": "execute_result",
          "data": {
            "text/plain": [
              "['초코라떼', '복숭아 아이스티', '아메리카노', '캐모마일티', '바닐라라떼']"
            ]
          },
          "metadata": {},
          "execution_count": 12
        }
      ]
    },
    {
      "cell_type": "code",
      "source": [
        "a = [\"초코라떼\", \"복숭아 아이스티\", \"아메리카노\"]\n",
        "a + [\"캐모마일티\", \"바닐라라떼\"] # 원본과 비슷한 사본을 만듦"
      ],
      "metadata": {
        "colab": {
          "base_uri": "https://localhost:8080/"
        },
        "id": "NdNa0fiCid6B",
        "outputId": "157038d5-e68e-448f-8dd8-9e469a281e54"
      },
      "execution_count": 13,
      "outputs": [
        {
          "output_type": "execute_result",
          "data": {
            "text/plain": [
              "['초코라떼', '복숭아 아이스티', '아메리카노', '캐모마일티', '바닐라라떼']"
            ]
          },
          "metadata": {},
          "execution_count": 13
        }
      ]
    },
    {
      "cell_type": "code",
      "source": [
        "a = [\"초코라떼\", \"복숭아 아이스티\", \"아메리카노\"]\n",
        "a += [\"캐모마일티\", \"바닐라라떼\"]\n",
        "a"
      ],
      "metadata": {
        "colab": {
          "base_uri": "https://localhost:8080/"
        },
        "id": "apbxsN2binES",
        "outputId": "732ee98e-2e17-44cf-fe42-1e635ea050fd"
      },
      "execution_count": 16,
      "outputs": [
        {
          "output_type": "execute_result",
          "data": {
            "text/plain": [
              "['초코라떼', '복숭아 아이스티', '아메리카노', '캐모마일티', '바닐라라떼']"
            ]
          },
          "metadata": {},
          "execution_count": 16
        }
      ]
    },
    {
      "cell_type": "markdown",
      "source": [
        "a.extend(b) / a += b"
      ],
      "metadata": {
        "id": "f2rLQfd_ivX_"
      }
    },
    {
      "cell_type": "code",
      "source": [
        "len(a)"
      ],
      "metadata": {
        "colab": {
          "base_uri": "https://localhost:8080/"
        },
        "id": "LRcsptOmiM0P",
        "outputId": "29265644-5060-42c5-9173-140787e50b83"
      },
      "execution_count": 11,
      "outputs": [
        {
          "output_type": "execute_result",
          "data": {
            "text/plain": [
              "5"
            ]
          },
          "metadata": {},
          "execution_count": 11
        }
      ]
    },
    {
      "cell_type": "markdown",
      "source": [
        "extend의 동작을 좀 더 정확하게 이야기하면 extend에 전달된 요소를 반복하면서 각 요소를 리스트 a에 추가하는 것입니다. 따라서 리스트와 리스트를 연결한 모양이 됩니다."
      ],
      "metadata": {
        "id": "L6F9gJo0ZPZw"
      }
    },
    {
      "cell_type": "markdown",
      "source": [
        "### 리스트의 특정 인덱스에 요소 추가하기"
      ],
      "metadata": {
        "id": "kyn9vIDQZSZ_"
      }
    },
    {
      "cell_type": "markdown",
      "source": [
        "append, extend는 리스트 끝에 요소를 추가합니다. 그러면 원하는 위치에 요소를 추가하는 방법은 없을까요? 이때는 insert를 사용합니다."
      ],
      "metadata": {
        "id": "YuWERyC6ZUfk"
      }
    },
    {
      "cell_type": "code",
      "source": [
        "# insert(인덱스, 요소)는 리스트의 특정 인덱스에 요소 하나를 추가합니다.\n",
        "a = [10, 20, 30]\n",
        "a.insert(2, 500)\n",
        "a, len(a)"
      ],
      "metadata": {
        "colab": {
          "base_uri": "https://localhost:8080/"
        },
        "id": "AfxcI4GZZLlB",
        "outputId": "7b518c6a-15ac-4e34-fe0c-a99868166faf"
      },
      "execution_count": 17,
      "outputs": [
        {
          "output_type": "execute_result",
          "data": {
            "text/plain": [
              "([10, 20, 500, 30], 4)"
            ]
          },
          "metadata": {},
          "execution_count": 17
        }
      ]
    },
    {
      "cell_type": "markdown",
      "source": [
        "insert에서 자주 사용하는 패턴은 다음 2가지입니다.\n",
        "\n",
        "* `insert(0, 요소)`: 리스트의 맨 처음에 요소를 추가\n",
        "* `insert(len(리스트), 요소)`: 리스트 끝에 요소를 추가\n"
      ],
      "metadata": {
        "id": "proj9OApZf6C"
      }
    },
    {
      "cell_type": "code",
      "source": [
        "a = [10, 20, 30]\n",
        "a.insert(0, 500)\n",
        "a"
      ],
      "metadata": {
        "colab": {
          "base_uri": "https://localhost:8080/"
        },
        "id": "PKa4O6gkZdTY",
        "outputId": "598fa7af-7382-41be-a587-6b42d71d0e53"
      },
      "execution_count": 18,
      "outputs": [
        {
          "output_type": "execute_result",
          "data": {
            "text/plain": [
              "[500, 10, 20, 30]"
            ]
          },
          "metadata": {},
          "execution_count": 18
        }
      ]
    },
    {
      "cell_type": "code",
      "source": [
        "# insert에 마지막 인덱스보다 큰 값을 지정하면 리스트 끝에 요소 하나를 추가할 수 있습니다.\n",
        "a = [10, 20,30]\n",
        "a.insert(len(a)-1, 500)\n",
        "a"
      ],
      "metadata": {
        "colab": {
          "base_uri": "https://localhost:8080/"
        },
        "id": "a3uaIqN4Zlup",
        "outputId": "f24c0ec3-1f21-4b13-a62c-8e00d13670d5"
      },
      "execution_count": 20,
      "outputs": [
        {
          "output_type": "execute_result",
          "data": {
            "text/plain": [
              "[10, 20, 500, 30]"
            ]
          },
          "metadata": {},
          "execution_count": 20
        }
      ]
    },
    {
      "cell_type": "markdown",
      "source": [
        "len(리스트)는 마지막 인덱스보다 1이 더 크기 때문에 리스트 끝에 값을 추가할 때 자주 활용합니다. (=append)"
      ],
      "metadata": {
        "id": "isi-LJ6_ZuL2"
      }
    },
    {
      "cell_type": "code",
      "source": [
        "# 특히 insert는 요소 하나를 추가하므로 insert에 리스트를 넣으면 append처럼 리스트 안에 리스트가 들어갑니다. (중첩 리스트)\n",
        "a = [10, 20, 30]\n",
        "a.insert(1, [500, 600])\n",
        "a"
      ],
      "metadata": {
        "colab": {
          "base_uri": "https://localhost:8080/"
        },
        "id": "_WDQqZp8ZraZ",
        "outputId": "d166c5b0-75f5-4c32-a615-da54bfb7489a"
      },
      "execution_count": 21,
      "outputs": [
        {
          "output_type": "execute_result",
          "data": {
            "text/plain": [
              "[10, [500, 600], 20, 30]"
            ]
          },
          "metadata": {},
          "execution_count": 21
        }
      ]
    },
    {
      "cell_type": "code",
      "source": [
        "# 만약 리스트 중간에 요소 여러 개를 추가하고 싶다면 슬라이스에 요소 할당하기를 활용하면 됩니다.\n",
        "a = [10, 20, 30]\n",
        "a[1:1] = [500, 600]\n",
        "a"
      ],
      "metadata": {
        "colab": {
          "base_uri": "https://localhost:8080/"
        },
        "id": "VW4-o3PSZ193",
        "outputId": "6867a16b-b54a-4576-a326-0ea4be93397e"
      },
      "execution_count": 22,
      "outputs": [
        {
          "output_type": "execute_result",
          "data": {
            "text/plain": [
              "[10, 500, 600, 20, 30]"
            ]
          },
          "metadata": {},
          "execution_count": 22
        }
      ]
    },
    {
      "cell_type": "markdown",
      "source": [
        "### 리스트에서 요소 삭제하기"
      ],
      "metadata": {
        "id": "ibYvJldjZ-9N"
      }
    },
    {
      "cell_type": "markdown",
      "source": [
        "이번에는 리스트에서 요소를 삭제하는 방법입니다. 다음과 같이 요소를 삭제하는 메서드는 2가지가 있습니다.\n",
        "\n",
        "* `pop`: 마지막 요소 또는 특정 인덱스의 요소를 삭제\n",
        "* `remove`: 특정 값을 찾아서 삭제"
      ],
      "metadata": {
        "id": "YmYWaEScaGPa"
      }
    },
    {
      "cell_type": "markdown",
      "source": [
        "### 리스트에서 특정 인덱스의 요소를 삭제하기"
      ],
      "metadata": {
        "id": "iot6Ojlyb9d_"
      }
    },
    {
      "cell_type": "markdown",
      "source": [
        "pop()은 리스트의 마지막 요소를 삭제한 뒤 삭제한 요소를 반환합니다."
      ],
      "metadata": {
        "id": "eqYdMTEhb_z1"
      }
    },
    {
      "cell_type": "code",
      "source": [
        "a = [10, 20, 30]\n",
        "a.pop()"
      ],
      "metadata": {
        "colab": {
          "base_uri": "https://localhost:8080/"
        },
        "id": "8sIJ1hgBaGEf",
        "outputId": "07ae3f8f-548c-4dcc-9c42-659813cd91fc"
      },
      "execution_count": 25,
      "outputs": [
        {
          "output_type": "execute_result",
          "data": {
            "text/plain": [
              "30"
            ]
          },
          "metadata": {},
          "execution_count": 25
        }
      ]
    },
    {
      "cell_type": "code",
      "source": [
        "a"
      ],
      "metadata": {
        "colab": {
          "base_uri": "https://localhost:8080/"
        },
        "id": "KNHfcOh6Z8Mj",
        "outputId": "9440fbd8-0a3a-4986-d574-dcd1f4a2c836"
      },
      "execution_count": 26,
      "outputs": [
        {
          "output_type": "execute_result",
          "data": {
            "text/plain": [
              "[10, 20]"
            ]
          },
          "metadata": {},
          "execution_count": 26
        }
      ]
    },
    {
      "cell_type": "code",
      "source": [
        "box = ['아이폰', '갤럭시', '맥북']\n",
        "last = box.pop()\n",
        "last"
      ],
      "metadata": {
        "colab": {
          "base_uri": "https://localhost:8080/",
          "height": 35
        },
        "id": "1sv0C3wn5AJ8",
        "outputId": "d9a93b7b-5df1-44f5-916f-e631cb9846fd"
      },
      "execution_count": 28,
      "outputs": [
        {
          "output_type": "execute_result",
          "data": {
            "text/plain": [
              "'맥북'"
            ],
            "application/vnd.google.colaboratory.intrinsic+json": {
              "type": "string"
            }
          },
          "metadata": {},
          "execution_count": 28
        }
      ]
    },
    {
      "cell_type": "code",
      "source": [
        "box"
      ],
      "metadata": {
        "colab": {
          "base_uri": "https://localhost:8080/"
        },
        "id": "vBdcPd5w5PYf",
        "outputId": "8d67fc5b-122a-48c1-f250-ba237b03c7da"
      },
      "execution_count": 29,
      "outputs": [
        {
          "output_type": "execute_result",
          "data": {
            "text/plain": [
              "['아이폰', '갤럭시']"
            ]
          },
          "metadata": {},
          "execution_count": 29
        }
      ]
    },
    {
      "cell_type": "code",
      "source": [
        "lunch = []\n",
        "lunch.append(\"김씨\")\n",
        "lunch.append(\"이씨\")\n",
        "lunch.append(\"박씨\")"
      ],
      "metadata": {
        "id": "axQ8oOeS5je4"
      },
      "execution_count": 30,
      "outputs": []
    },
    {
      "cell_type": "code",
      "source": [
        "lunch"
      ],
      "metadata": {
        "colab": {
          "base_uri": "https://localhost:8080/"
        },
        "id": "EdGnapcu5vlB",
        "outputId": "19bfbb16-9abf-4016-9f59-ffc84cc6beb4"
      },
      "execution_count": 31,
      "outputs": [
        {
          "output_type": "execute_result",
          "data": {
            "text/plain": [
              "['김씨', '이씨', '박씨']"
            ]
          },
          "metadata": {},
          "execution_count": 31
        }
      ]
    },
    {
      "cell_type": "code",
      "source": [
        "lunch.pop()"
      ],
      "metadata": {
        "colab": {
          "base_uri": "https://localhost:8080/",
          "height": 35
        },
        "id": "nN18w6Kn5zs1",
        "outputId": "fdc0c6cd-47ad-458a-b5c6-6e7b165ce0d0"
      },
      "execution_count": 32,
      "outputs": [
        {
          "output_type": "execute_result",
          "data": {
            "text/plain": [
              "'박씨'"
            ],
            "application/vnd.google.colaboratory.intrinsic+json": {
              "type": "string"
            }
          },
          "metadata": {},
          "execution_count": 32
        }
      ]
    },
    {
      "cell_type": "code",
      "source": [
        "lunch"
      ],
      "metadata": {
        "colab": {
          "base_uri": "https://localhost:8080/"
        },
        "id": "w2bRR-6852-H",
        "outputId": "71094b4d-cf48-4318-9b10-55ae52c2ecd3"
      },
      "execution_count": 33,
      "outputs": [
        {
          "output_type": "execute_result",
          "data": {
            "text/plain": [
              "['김씨', '이씨']"
            ]
          },
          "metadata": {},
          "execution_count": 33
        }
      ]
    },
    {
      "cell_type": "markdown",
      "source": [
        "그러면 원하는 인덱스의 요소를 삭제할 수는 없을까요? 이때는 pop에 인덱스를 지정하면 됩니다."
      ],
      "metadata": {
        "id": "_uCDrzxLcGgl"
      }
    },
    {
      "cell_type": "code",
      "source": [
        "# pop(인덱스)는 해당 인덱스의 요소를 삭제한 뒤 삭제한 요소를 반환합니다.\n",
        "a = [10, 20, 30]\n",
        "a.pop(1), a"
      ],
      "metadata": {
        "colab": {
          "base_uri": "https://localhost:8080/"
        },
        "id": "uZhoaqkPcDgT",
        "outputId": "89b6387e-cad4-43f6-cebc-9ced6d2023e2"
      },
      "execution_count": 35,
      "outputs": [
        {
          "output_type": "execute_result",
          "data": {
            "text/plain": [
              "(20, [10, 30])"
            ]
          },
          "metadata": {},
          "execution_count": 35
        }
      ]
    },
    {
      "cell_type": "code",
      "source": [],
      "metadata": {
        "colab": {
          "base_uri": "https://localhost:8080/"
        },
        "id": "fwNrUtbfcLAT",
        "outputId": "af206bbd-68f0-4b95-ead6-6ec389de8e5b"
      },
      "execution_count": null,
      "outputs": [
        {
          "output_type": "execute_result",
          "data": {
            "text/plain": [
              "[10, 30]"
            ]
          },
          "metadata": {},
          "execution_count": 13
        }
      ]
    },
    {
      "cell_type": "code",
      "source": [
        "# 사실 pop 대신 del을 사용해도 상관없습니다.\n",
        "a = [10, 20, 30]\n",
        "del a[1]"
      ],
      "metadata": {
        "id": "GbqvJNcmcLd1"
      },
      "execution_count": 36,
      "outputs": []
    },
    {
      "cell_type": "code",
      "source": [
        "a"
      ],
      "metadata": {
        "colab": {
          "base_uri": "https://localhost:8080/"
        },
        "id": "poSKvsXY6S-W",
        "outputId": "e42c8630-2b63-434d-8a30-70500a289450"
      },
      "execution_count": 37,
      "outputs": [
        {
          "output_type": "execute_result",
          "data": {
            "text/plain": [
              "[10, 30]"
            ]
          },
          "metadata": {},
          "execution_count": 37
        }
      ]
    },
    {
      "cell_type": "markdown",
      "source": [
        "### 리스트에서 특정 값을 찾아서 삭제하기"
      ],
      "metadata": {
        "id": "-tUv0GzrcTbs"
      }
    },
    {
      "cell_type": "markdown",
      "source": [
        "pop이나 del은 인덱스로 요소를 삭제했는데, 리스트에서 원하는 값을 찾아서 삭제하고 싶을 수도 있습니다. 이런 경우에는 remove를 사용합니다."
      ],
      "metadata": {
        "id": "XFdaVoCWcVzd"
      }
    },
    {
      "cell_type": "code",
      "source": [
        "# remove(값)은 리스트에서 특정 값을 찾아서 삭제합니다.\n",
        "cookie = [\"마카다미아\", \"황치즈\", \"레드벨벳\", \"오레오\"]\n",
        "cookie"
      ],
      "metadata": {
        "colab": {
          "base_uri": "https://localhost:8080/"
        },
        "id": "vUjy55MmcQpu",
        "outputId": "0b274bb8-c6e1-40e7-fdd2-310b355a784f"
      },
      "execution_count": 44,
      "outputs": [
        {
          "output_type": "execute_result",
          "data": {
            "text/plain": [
              "['마카다미아', '황치즈', '레드벨벳', '오레오']"
            ]
          },
          "metadata": {},
          "execution_count": 44
        }
      ]
    },
    {
      "cell_type": "code",
      "source": [
        "cookie.remove(\"황치즈\")"
      ],
      "metadata": {
        "id": "vkboOA887OVQ"
      },
      "execution_count": 45,
      "outputs": []
    },
    {
      "cell_type": "code",
      "source": [
        "cookie"
      ],
      "metadata": {
        "colab": {
          "base_uri": "https://localhost:8080/"
        },
        "id": "AmMRpQK37WKo",
        "outputId": "c3e0f3fc-7755-4f2d-c9d4-e7fbeb5add03"
      },
      "execution_count": 46,
      "outputs": [
        {
          "output_type": "execute_result",
          "data": {
            "text/plain": [
              "['마카다미아', '레드벨벳', '오레오']"
            ]
          },
          "metadata": {},
          "execution_count": 46
        }
      ]
    },
    {
      "cell_type": "code",
      "source": [
        "# 만약 리스트에 같은 값이 여러 개 있을 경우 처음 찾은 값을 삭제합니다.\n",
        "cookie = [\"마카다미아\", \"황치즈\", \"레드벨벳\", \"오레오\"]\n",
        "cookie.remove(\"황치즈\")\n",
        "cookie"
      ],
      "metadata": {
        "colab": {
          "base_uri": "https://localhost:8080/"
        },
        "id": "dBvZdlZXcZrq",
        "outputId": "9d24bbe3-dd8f-4922-d49e-0e237d6cdefb"
      },
      "execution_count": 47,
      "outputs": [
        {
          "output_type": "execute_result",
          "data": {
            "text/plain": [
              "['마카다미아', '레드벨벳', '오레오']"
            ]
          },
          "metadata": {},
          "execution_count": 47
        }
      ]
    },
    {
      "cell_type": "markdown",
      "source": [
        "### 리스트에서 특정 값의 인덱스 구하기"
      ],
      "metadata": {
        "id": "jRp1EQMUch1C"
      }
    },
    {
      "cell_type": "code",
      "source": [
        "# index(값)은 리스트에서 특정 값의 인덱스를 구합니다.\n",
        "# 이때 같은 값이 여러 개일 경우 처음 찾은 인덱스를 구합니다(가장 작은 인덱스).\n",
        "cookie = [\"마카다미아\", \"황치즈\", \"레드벨벳\", \"오레오\"]\n",
        "cookie.index(\"황치즈\")"
      ],
      "metadata": {
        "colab": {
          "base_uri": "https://localhost:8080/"
        },
        "id": "xRN3qbHEcc4g",
        "outputId": "6e711b44-2f4b-4ccc-f351-5cca34476894"
      },
      "execution_count": 49,
      "outputs": [
        {
          "output_type": "execute_result",
          "data": {
            "text/plain": [
              "1"
            ]
          },
          "metadata": {},
          "execution_count": 49
        }
      ]
    },
    {
      "cell_type": "code",
      "source": [
        "cookie = [\"마카다미아\", \"황치즈\", \"레드벨벳\", \"오레오\"]\n",
        "cookie.index(\"치즈\")\n",
        "cookie"
      ],
      "metadata": {
        "colab": {
          "base_uri": "https://localhost:8080/",
          "height": 209
        },
        "id": "4_W1etqq8Bhd",
        "outputId": "66401d34-bfce-48d7-eaee-ffc840e82819"
      },
      "execution_count": 51,
      "outputs": [
        {
          "output_type": "error",
          "ename": "ValueError",
          "evalue": "ignored",
          "traceback": [
            "\u001b[0;31m---------------------------------------------------------------------------\u001b[0m",
            "\u001b[0;31mValueError\u001b[0m                                Traceback (most recent call last)",
            "\u001b[0;32m<ipython-input-51-a717ebdbd50f>\u001b[0m in \u001b[0;36m<module>\u001b[0;34m\u001b[0m\n\u001b[1;32m      1\u001b[0m \u001b[0mcookie\u001b[0m \u001b[0;34m=\u001b[0m \u001b[0;34m[\u001b[0m\u001b[0;34m\"마카다미아\"\u001b[0m\u001b[0;34m,\u001b[0m \u001b[0;34m\"황치즈\"\u001b[0m\u001b[0;34m,\u001b[0m \u001b[0;34m\"레드벨벳\"\u001b[0m\u001b[0;34m,\u001b[0m \u001b[0;34m\"오레오\"\u001b[0m\u001b[0;34m]\u001b[0m\u001b[0;34m\u001b[0m\u001b[0;34m\u001b[0m\u001b[0m\n\u001b[0;32m----> 2\u001b[0;31m \u001b[0mcookie\u001b[0m\u001b[0;34m.\u001b[0m\u001b[0mindex\u001b[0m\u001b[0;34m(\u001b[0m\u001b[0;34m\"치즈\"\u001b[0m\u001b[0;34m)\u001b[0m\u001b[0;34m\u001b[0m\u001b[0;34m\u001b[0m\u001b[0m\n\u001b[0m\u001b[1;32m      3\u001b[0m \u001b[0mcookie\u001b[0m\u001b[0;34m\u001b[0m\u001b[0;34m\u001b[0m\u001b[0m\n",
            "\u001b[0;31mValueError\u001b[0m: '치즈' is not in list"
          ]
        }
      ]
    },
    {
      "cell_type": "markdown",
      "source": [
        "### 특정 값의 개수 구하기"
      ],
      "metadata": {
        "id": "Lta-u3P7co0g"
      }
    },
    {
      "cell_type": "code",
      "source": [
        "# count(값)은 리스트에서 특정 값의 개수를 구합니다. \n",
        "cookie = [\"마카다미아\", \"황치즈\", \"레드벨벳\", \"오레오\"]\n",
        "bool(cookie.count(\"말차쿠키\")) # del cookie[cookie.index(\"말차쿠키\")]"
      ],
      "metadata": {
        "colab": {
          "base_uri": "https://localhost:8080/"
        },
        "id": "3Hci8EFNcm28",
        "outputId": "0d37a46c-efc9-4beb-9456-f71bcb299856"
      },
      "execution_count": 55,
      "outputs": [
        {
          "output_type": "execute_result",
          "data": {
            "text/plain": [
              "False"
            ]
          },
          "metadata": {},
          "execution_count": 55
        }
      ]
    },
    {
      "cell_type": "markdown",
      "source": [
        "### 리스트의 순서를 뒤집기"
      ],
      "metadata": {
        "id": "PDPyJqX8cvK2"
      }
    },
    {
      "cell_type": "code",
      "source": [
        "# reverse()는 리스트에서 요소의 순서를 반대로 뒤집습니다.\n",
        "print(cookie)\n",
        "cookie.reverse()"
      ],
      "metadata": {
        "colab": {
          "base_uri": "https://localhost:8080/"
        },
        "id": "dfCNjCf-ctOC",
        "outputId": "88015935-3b67-4a8c-d997-7308b7a8dba5"
      },
      "execution_count": 57,
      "outputs": [
        {
          "output_type": "stream",
          "name": "stdout",
          "text": [
            "['오레오', '레드벨벳', '황치즈', '마카다미아']\n"
          ]
        }
      ]
    },
    {
      "cell_type": "code",
      "source": [
        "print(cookie)"
      ],
      "metadata": {
        "colab": {
          "base_uri": "https://localhost:8080/"
        },
        "id": "0-XnXSeQ9mOr",
        "outputId": "67648289-8a49-41e2-e01f-ce4605dc9ff0"
      },
      "execution_count": 59,
      "outputs": [
        {
          "output_type": "stream",
          "name": "stdout",
          "text": [
            "['마카다미아', '황치즈', '레드벨벳', '오레오']\n"
          ]
        }
      ]
    },
    {
      "cell_type": "code",
      "source": [
        "cookie.reverse()\n",
        "reversed(cookie), cookie[::-1]"
      ],
      "metadata": {
        "colab": {
          "base_uri": "https://localhost:8080/"
        },
        "id": "lIZArLOa9qwB",
        "outputId": "ed98327a-6b83-45d7-cd69-fc1e6ce0909b"
      },
      "execution_count": 60,
      "outputs": [
        {
          "output_type": "execute_result",
          "data": {
            "text/plain": [
              "(<list_reverseiterator at 0x7f5e2a5bbdf0>, ['마카다미아', '황치즈', '레드벨벳', '오레오'])"
            ]
          },
          "metadata": {},
          "execution_count": 60
        }
      ]
    },
    {
      "cell_type": "code",
      "source": [
        "list(reversed(cookie)), cookie[::-1]"
      ],
      "metadata": {
        "colab": {
          "base_uri": "https://localhost:8080/"
        },
        "id": "B98C4Olz900u",
        "outputId": "53acaa79-beea-4ad7-f838-1d552466b5f7"
      },
      "execution_count": 61,
      "outputs": [
        {
          "output_type": "execute_result",
          "data": {
            "text/plain": [
              "(['마카다미아', '황치즈', '레드벨벳', '오레오'], ['마카다미아', '황치즈', '레드벨벳', '오레오'])"
            ]
          },
          "metadata": {},
          "execution_count": 61
        }
      ]
    },
    {
      "cell_type": "code",
      "source": [
        "cookie.reverse\n",
        "cookie"
      ],
      "metadata": {
        "colab": {
          "base_uri": "https://localhost:8080/"
        },
        "id": "Pa5BQt7p973R",
        "outputId": "fc1fcf53-8559-4304-98f2-dddb909f1e00"
      },
      "execution_count": 62,
      "outputs": [
        {
          "output_type": "execute_result",
          "data": {
            "text/plain": [
              "['오레오', '레드벨벳', '황치즈', '마카다미아']"
            ]
          },
          "metadata": {},
          "execution_count": 62
        }
      ]
    },
    {
      "cell_type": "markdown",
      "source": [
        "### 리스트의 요소를 정렬하기"
      ],
      "metadata": {
        "id": "wKWOgudCc2jU"
      }
    },
    {
      "cell_type": "markdown",
      "source": [
        "sort()는 리스트의 요소을 작은 순서대로 정렬합니다(오름차순).\n",
        "\n",
        "* `sort()` 또는 `sort(reverse=False)`: 리스트의 값을 작은 순서대로 정렬(오름차순)\n",
        "* `sort(reverse=True)`: 리스트의 값을 큰 순서대로 정렬(내림차순)"
      ],
      "metadata": {
        "id": "sfiWcB8Ac6AQ"
      }
    },
    {
      "cell_type": "code",
      "source": [
        "a = [10, 20, 20, 40, 30, 50]\n",
        "a.sort()  # 오름차순\n",
        "a"
      ],
      "metadata": {
        "colab": {
          "base_uri": "https://localhost:8080/"
        },
        "id": "JbEBreCxc0Ys",
        "outputId": "5a6b712e-b412-4b69-ca54-232f27e319a4"
      },
      "execution_count": 64,
      "outputs": [
        {
          "output_type": "execute_result",
          "data": {
            "text/plain": [
              "[10, 20, 20, 30, 40, 50]"
            ]
          },
          "metadata": {},
          "execution_count": 64
        }
      ]
    },
    {
      "cell_type": "code",
      "source": [
        "a.sort(reverse=True) # 내림차순\n",
        "a"
      ],
      "metadata": {
        "colab": {
          "base_uri": "https://localhost:8080/"
        },
        "id": "fFGOHQzV-z8x",
        "outputId": "46238296-9270-4fbc-b71a-acd6ea5ba464"
      },
      "execution_count": 66,
      "outputs": [
        {
          "output_type": "execute_result",
          "data": {
            "text/plain": [
              "[50, 40, 30, 20, 20, 10]"
            ]
          },
          "metadata": {},
          "execution_count": 66
        }
      ]
    },
    {
      "cell_type": "code",
      "source": [
        "a = [\"김ㅇㅇ\", \"이ㅇㅇ\", \"박ㅇㅇ\"]\n",
        "a.sort()\n",
        "a"
      ],
      "metadata": {
        "colab": {
          "base_uri": "https://localhost:8080/"
        },
        "id": "He48OTwj_AtS",
        "outputId": "4b963220-ae87-4df7-988d-1baf981a767d"
      },
      "execution_count": 67,
      "outputs": [
        {
          "output_type": "execute_result",
          "data": {
            "text/plain": [
              "['김ㅇㅇ', '박ㅇㅇ', '이ㅇㅇ']"
            ]
          },
          "metadata": {},
          "execution_count": 67
        }
      ]
    },
    {
      "cell_type": "markdown",
      "source": [
        "### sort 메서드와 sorted 함수\n",
        "파이썬은 리스트의 sort 메서드뿐만 아니라 내장 함수 sorted도 제공합니다. sort와 sorted 모두 정렬을 해주는 함수지만, 약간의 차이점이 있습니다. sort는 메서드를 사용한 리스트를 변경하지만, sorted 함수는 정렬된 새 리스트를 생성합니다."
      ],
      "metadata": {
        "id": "UwvaeBYqdE0L"
      }
    },
    {
      "cell_type": "code",
      "source": [
        "a = [\"김ㅇㅇ\", \"이ㅇㅇ\", \"박ㅇㅇ\"]\n",
        "a.sort()\n",
        "a"
      ],
      "metadata": {
        "colab": {
          "base_uri": "https://localhost:8080/"
        },
        "id": "M6v2UjTpdCPy",
        "outputId": "0e3cc37d-4245-4050-96aa-826b3f0223a4"
      },
      "execution_count": 68,
      "outputs": [
        {
          "output_type": "execute_result",
          "data": {
            "text/plain": [
              "['김ㅇㅇ', '박ㅇㅇ', '이ㅇㅇ']"
            ]
          },
          "metadata": {},
          "execution_count": 68
        }
      ]
    },
    {
      "cell_type": "code",
      "source": [
        "a = [\"김ㅇㅇ\", \"이ㅇㅇ\", \"박ㅇㅇ\"]\n",
        "sorted(a), a"
      ],
      "metadata": {
        "colab": {
          "base_uri": "https://localhost:8080/"
        },
        "id": "S6-aTZwBdJtr",
        "outputId": "65fb940b-1388-4858-f8cd-a588ebcc2260"
      },
      "execution_count": 70,
      "outputs": [
        {
          "output_type": "execute_result",
          "data": {
            "text/plain": [
              "(['김ㅇㅇ', '박ㅇㅇ', '이ㅇㅇ'], ['김ㅇㅇ', '이ㅇㅇ', '박ㅇㅇ'])"
            ]
          },
          "metadata": {},
          "execution_count": 70
        }
      ]
    },
    {
      "cell_type": "markdown",
      "source": [
        "### 리스트의 모든 요소를 삭제하기"
      ],
      "metadata": {
        "id": "6gIMc9xldPUB"
      }
    },
    {
      "cell_type": "code",
      "source": [
        "# clear()는 리스트의 모든 요소를 삭제합니다.\n",
        "a = [10, 20, 30]\n",
        "a.clear()\n",
        "a"
      ],
      "metadata": {
        "colab": {
          "base_uri": "https://localhost:8080/"
        },
        "id": "1aEgUVm1dKia",
        "outputId": "99f93754-ba70-4693-c3b0-112faa4493fc"
      },
      "execution_count": 71,
      "outputs": [
        {
          "output_type": "execute_result",
          "data": {
            "text/plain": [
              "[]"
            ]
          },
          "metadata": {},
          "execution_count": 71
        }
      ]
    },
    {
      "cell_type": "code",
      "source": [
        "# clear 대신 del a[:]와 같이 시작, 끝 인덱스를 생략하여 리스트의 모든 요소를 삭제할 수도 있습니다.\n",
        "a = [10, 20, 30]\n",
        "del a[:]\n",
        "a"
      ],
      "metadata": {
        "colab": {
          "base_uri": "https://localhost:8080/"
        },
        "id": "6zK9ANwrdTXf",
        "outputId": "3288f244-42f2-420f-a3c9-f770ef9f2efb"
      },
      "execution_count": 73,
      "outputs": [
        {
          "output_type": "execute_result",
          "data": {
            "text/plain": [
              "[]"
            ]
          },
          "metadata": {},
          "execution_count": 73
        }
      ]
    },
    {
      "cell_type": "code",
      "source": [
        "a = [10, 20, 30]\n",
        "a = []\n",
        "a"
      ],
      "metadata": {
        "colab": {
          "base_uri": "https://localhost:8080/"
        },
        "id": "NvjCmAjAApRj",
        "outputId": "aaba5210-f821-4a1b-b9d5-ee49ee926e26"
      },
      "execution_count": 74,
      "outputs": [
        {
          "output_type": "execute_result",
          "data": {
            "text/plain": [
              "[]"
            ]
          },
          "metadata": {},
          "execution_count": 74
        }
      ]
    },
    {
      "cell_type": "markdown",
      "source": [
        "### 리스트를 슬라이스로 조작하기"
      ],
      "metadata": {
        "id": "3bJXyOdcdYVo"
      }
    },
    {
      "cell_type": "code",
      "source": [
        "# 리스트는 메서드를 사용하지 않고, 슬라이스로 조작할 수도 있습니다. 다음은 리스트 끝에 값이 한 개 들어있는 리스트를 추가합니다.\n",
        "a = [10, 20, 30]\n",
        "a[len(a):] = [500]\n",
        "a"
      ],
      "metadata": {
        "colab": {
          "base_uri": "https://localhost:8080/"
        },
        "id": "tS8YUcfsdW1q",
        "outputId": "a61e45de-f64a-44c8-c2fb-47ed3a437c51"
      },
      "execution_count": 75,
      "outputs": [
        {
          "output_type": "execute_result",
          "data": {
            "text/plain": [
              "[10, 20, 30, 500]"
            ]
          },
          "metadata": {},
          "execution_count": 75
        }
      ]
    },
    {
      "cell_type": "markdown",
      "source": [
        "a[len(a):]는 시작 인덱스를 len(a)로 지정해서 리스트의 마지막 인덱스보다 1이 더 큰 상태입니다. 즉, 그림과 같이 리스트 끝에서부터 시작하겠다는 뜻입니다(이때는 리스트의 범위를 벗어난 인덱스를 사용할 수 있습니다).\n",
        "\n",
        "그리고 a[len(a):] = [..., ...]과 같이 요소가 여러 개 들어있는 리스트를 할당하면 리스트 a 끝에 다른 리스트를 연결한다는 뜻입니다."
      ],
      "metadata": {
        "id": "pfWo0arKddS0"
      }
    },
    {
      "cell_type": "code",
      "source": [
        "a = [10, 20, 30]\n",
        "a[len(a):] = [500, 600]\n",
        "a"
      ],
      "metadata": {
        "colab": {
          "base_uri": "https://localhost:8080/"
        },
        "id": "NREk8TlNdcsq",
        "outputId": "3d2304f4-b1af-47bb-9d5f-5c85a4af3290"
      },
      "execution_count": 76,
      "outputs": [
        {
          "output_type": "execute_result",
          "data": {
            "text/plain": [
              "[10, 20, 30, 500, 600]"
            ]
          },
          "metadata": {},
          "execution_count": 76
        }
      ]
    },
    {
      "cell_type": "markdown",
      "source": [
        "### 리스트가 비어 있는지 확인하기\n"
      ],
      "metadata": {
        "id": "1vvNYOe4dtkD"
      }
    },
    {
      "cell_type": "markdown",
      "source": [
        "리스트(시퀀스 객체)가 비어 있는지 확인하려면 어떻게 해야 할까요? 방법은 간단합니다. 리스트는 len 함수로 길이를 구할 수 있죠? 이걸 if 조건문으로 판단하면 리스트가 비어 있는지 확인할 수 있습니다.\n",
        "\n",
        "```\n",
        "if not len(seq):    # 리스트가 비어 있으면 True\n",
        "if len(seq):        # 리스트에 요소가 있으면 True\n",
        "```\n",
        "\n",
        "하지만 파이썬에서는 이 방법보다 리스트(시퀀스 객체)를 바로 if 조건문으로 판단하는 방법을 권장합니다(PEP 8).\n",
        "```\n",
        "if not seq:    # 리스트가 비어 있으면 True\n",
        "if seq:        # 리스트에 내용이 있으면 True\n",
        "```\n",
        "\n",
        "특히 리스트가 비어 있는지 확인하는 방법은 리스트의 마지막 요소에 접근할 때 유용하게 사용할 수 있습니다. 리스트의 마지막 요소에 접근할 때는 인덱스를 -1로 지정하면 되죠?"
      ],
      "metadata": {
        "id": "qawioHuxdwFi"
      }
    },
    {
      "cell_type": "code",
      "source": [
        "a = [1, 2, 3,4]\n",
        "bool(a)"
      ],
      "metadata": {
        "colab": {
          "base_uri": "https://localhost:8080/"
        },
        "id": "j32oAW-Jdp0r",
        "outputId": "7ab5ae7b-0a5f-4618-d4d9-151c9e3f86b0"
      },
      "execution_count": 77,
      "outputs": [
        {
          "output_type": "execute_result",
          "data": {
            "text/plain": [
              "True"
            ]
          },
          "metadata": {},
          "execution_count": 77
        }
      ]
    },
    {
      "cell_type": "code",
      "source": [
        "a= []\n",
        "bool(a)"
      ],
      "metadata": {
        "colab": {
          "base_uri": "https://localhost:8080/"
        },
        "id": "AnSE8bS9Gd7K",
        "outputId": "95a40088-2746-4a05-9f78-de58ecddcfa2"
      },
      "execution_count": 79,
      "outputs": [
        {
          "output_type": "execute_result",
          "data": {
            "text/plain": [
              "False"
            ]
          },
          "metadata": {},
          "execution_count": 79
        }
      ]
    },
    {
      "cell_type": "code",
      "source": [
        "seq = [10 ,20, 30]\n",
        "seq[-1]"
      ],
      "metadata": {
        "colab": {
          "base_uri": "https://localhost:8080/"
        },
        "id": "V5vXnbRSHFy3",
        "outputId": "99585d0e-cacc-4c80-8851-5c9158b09145"
      },
      "execution_count": 80,
      "outputs": [
        {
          "output_type": "execute_result",
          "data": {
            "text/plain": [
              "30"
            ]
          },
          "metadata": {},
          "execution_count": 80
        }
      ]
    },
    {
      "cell_type": "code",
      "source": [
        "# 만약 리스트가 비어 있을 경우에는 인덱스를 -1로 지정하면 에러가 발생합니다.\n",
        "seq = []\n",
        "seq[-1]"
      ],
      "metadata": {
        "colab": {
          "base_uri": "https://localhost:8080/",
          "height": 209
        },
        "id": "sYDzJPyJd6Gb",
        "outputId": "8c27db48-6ed3-4ba0-fd7a-c6c87fb92ed5"
      },
      "execution_count": 81,
      "outputs": [
        {
          "output_type": "error",
          "ename": "IndexError",
          "evalue": "ignored",
          "traceback": [
            "\u001b[0;31m---------------------------------------------------------------------------\u001b[0m",
            "\u001b[0;31mIndexError\u001b[0m                                Traceback (most recent call last)",
            "\u001b[0;32m<ipython-input-81-bd8d55ef38f9>\u001b[0m in \u001b[0;36m<module>\u001b[0;34m\u001b[0m\n\u001b[1;32m      1\u001b[0m \u001b[0;31m# 만약 리스트가 비어 있을 경우에는 인덱스를 -1로 지정하면 에러가 발생합니다.\u001b[0m\u001b[0;34m\u001b[0m\u001b[0;34m\u001b[0m\u001b[0;34m\u001b[0m\u001b[0m\n\u001b[1;32m      2\u001b[0m \u001b[0mseq\u001b[0m \u001b[0;34m=\u001b[0m \u001b[0;34m[\u001b[0m\u001b[0;34m]\u001b[0m\u001b[0;34m\u001b[0m\u001b[0;34m\u001b[0m\u001b[0m\n\u001b[0;32m----> 3\u001b[0;31m \u001b[0mseq\u001b[0m\u001b[0;34m[\u001b[0m\u001b[0;34m-\u001b[0m\u001b[0;36m1\u001b[0m\u001b[0;34m]\u001b[0m\u001b[0;34m\u001b[0m\u001b[0;34m\u001b[0m\u001b[0m\n\u001b[0m",
            "\u001b[0;31mIndexError\u001b[0m: list index out of range"
          ]
        }
      ]
    },
    {
      "cell_type": "code",
      "source": [
        "# 이때는 if 조건문을 활용하여 리스트에 요소가 있을 때만 마지막 요소를 가져오면 됩니다.\n",
        "# seq = []\n",
        "if seq: # seq == True? : 원소가 1개 이상 있다\n",
        "  print(seq[0])\n",
        "  print(seq[-1])"
      ],
      "metadata": {
        "id": "GqhZ3c-Dd9Ur"
      },
      "execution_count": 82,
      "outputs": []
    },
    {
      "cell_type": "markdown",
      "source": [
        "## 리스트의 할당과 복사"
      ],
      "metadata": {
        "id": "6d1JLG9_eIeA"
      }
    },
    {
      "cell_type": "markdown",
      "source": [
        "이번에는 리스트의 할당과 복사에 대해 알아보겠습니다. 할당과 복사는 비슷한 것 같지만 큰 차이점이 있습니다.\n",
        "\n",
        "* 얕은복사(shallow copy)와 깊은복사(deep copy)"
      ],
      "metadata": {
        "id": "Jz30wEWteKgT"
      }
    },
    {
      "cell_type": "code",
      "source": [
        "a = [0] * 5"
      ],
      "metadata": {
        "id": "RldCBZxteNGu",
        "colab": {
          "base_uri": "https://localhost:8080/"
        },
        "outputId": "c1511c53-3d3d-470d-88f6-80fa495c941e"
      },
      "execution_count": 84,
      "outputs": [
        {
          "output_type": "execute_result",
          "data": {
            "text/plain": [
              "[0, 0, 0, 0, 0]"
            ]
          },
          "metadata": {},
          "execution_count": 84
        }
      ]
    },
    {
      "cell_type": "code",
      "source": [
        "b = a"
      ],
      "metadata": {
        "id": "cjH9SzMvH3Si"
      },
      "execution_count": 85,
      "outputs": []
    },
    {
      "cell_type": "code",
      "source": [
        "a, b"
      ],
      "metadata": {
        "colab": {
          "base_uri": "https://localhost:8080/"
        },
        "id": "vHWiYxOiH_i3",
        "outputId": "55002db3-847e-44c2-ad22-7bb168f2c4b3"
      },
      "execution_count": 87,
      "outputs": [
        {
          "output_type": "execute_result",
          "data": {
            "text/plain": [
              "([0, 0, 0, 0, 0], [0, 0, 0, 0, 0])"
            ]
          },
          "metadata": {},
          "execution_count": 87
        }
      ]
    },
    {
      "cell_type": "code",
      "source": [
        "a[1] = 200\n",
        "a, b"
      ],
      "metadata": {
        "colab": {
          "base_uri": "https://localhost:8080/"
        },
        "id": "s9tnllWTIBlL",
        "outputId": "b7c5da4f-77b6-4e1c-b65c-999691780486"
      },
      "execution_count": 89,
      "outputs": [
        {
          "output_type": "execute_result",
          "data": {
            "text/plain": [
              "([0, 200, 0, 0, 0], [0, 200, 0, 0, 0])"
            ]
          },
          "metadata": {},
          "execution_count": 89
        }
      ]
    },
    {
      "cell_type": "code",
      "source": [
        "b[2] = 300\n",
        "a, b"
      ],
      "metadata": {
        "colab": {
          "base_uri": "https://localhost:8080/"
        },
        "id": "eGWwN_C0IIcP",
        "outputId": "0647f77a-6728-4d95-9536-4823cdc63707"
      },
      "execution_count": 90,
      "outputs": [
        {
          "output_type": "execute_result",
          "data": {
            "text/plain": [
              "([0, 200, 300, 0, 0], [0, 200, 300, 0, 0])"
            ]
          },
          "metadata": {},
          "execution_count": 90
        }
      ]
    },
    {
      "cell_type": "markdown",
      "source": [
        "b = a와 같이 리스트를 다른 변수에 할당하면 리스트는 두 개가 될 것 같지만 실제로는 리스트가 한 개입니다."
      ],
      "metadata": {
        "id": "2ysvkHOfePOv"
      }
    },
    {
      "cell_type": "code",
      "source": [
        "# a와 b를 is 연산자로 비교해보면 True가 나옵니다. 즉, 변수 이름만 다를 뿐 리스트 a와 b는 같은 객체입니다.\n",
        "a is b"
      ],
      "metadata": {
        "colab": {
          "base_uri": "https://localhost:8080/"
        },
        "id": "o0DHXG8PeN_i",
        "outputId": "6e1df732-8934-4724-b736-54728e5d3d23"
      },
      "execution_count": 91,
      "outputs": [
        {
          "output_type": "execute_result",
          "data": {
            "text/plain": [
              "True"
            ]
          },
          "metadata": {},
          "execution_count": 91
        }
      ]
    },
    {
      "cell_type": "code",
      "source": [
        "# 리스트 a와 b를 완전히 두 개로 만들려면 copy 메서드로 모든 요소를 복사해야 합니다.\n",
        "b = a.copy()"
      ],
      "metadata": {
        "id": "_aTWRaykeWD3"
      },
      "execution_count": 92,
      "outputs": []
    },
    {
      "cell_type": "markdown",
      "source": [
        "b = a.copy()와 같이 copy를 사용한 뒤 b에 할당해주면 리스트 a의 요소가 모두 b에 복사됩니다."
      ],
      "metadata": {
        "id": "W8ex3D0Jeb2B"
      }
    },
    {
      "cell_type": "code",
      "source": [
        "# a와 b를 is 연산자로 비교해보면 False가 나옵니다. 즉, 두 리스트는 다른 객체입니다. 그러나 복사된 요소는 모두 같으므로 ==로 비교하면 True가 나옵니다.\n",
        "a is b, a == b"
      ],
      "metadata": {
        "colab": {
          "base_uri": "https://localhost:8080/"
        },
        "id": "yYUHIwLdea5D",
        "outputId": "c1271373-67d8-4bc4-f06d-3fa20f2ac423"
      },
      "execution_count": 94,
      "outputs": [
        {
          "output_type": "execute_result",
          "data": {
            "text/plain": [
              "(False, True)"
            ]
          },
          "metadata": {},
          "execution_count": 94
        }
      ]
    },
    {
      "cell_type": "code",
      "source": [
        "# 이제 리스트 a와 b는 별개이므로 한쪽의 값을 변경해도 다른 리스트에 영향을 미치지 않습니다.\n",
        "# 다음과 같이 리스트 b의 요소를 변경하면 리스트 a는 그대로이고 리스트 b만 바뀝니다.\n",
        "print(a, b)\n",
        "a[2] = 999\n",
        "a, b"
      ],
      "metadata": {
        "colab": {
          "base_uri": "https://localhost:8080/"
        },
        "id": "oqLtWyEFeh3Q",
        "outputId": "8e1580fd-d842-4100-a1c0-3d83d80b12d3"
      },
      "execution_count": 95,
      "outputs": [
        {
          "output_type": "stream",
          "name": "stdout",
          "text": [
            "[0, 200, 300, 0, 0] [0, 200, 300, 0, 0]\n"
          ]
        },
        {
          "output_type": "execute_result",
          "data": {
            "text/plain": [
              "([0, 200, 999, 0, 0], [0, 200, 300, 0, 0])"
            ]
          },
          "metadata": {},
          "execution_count": 95
        }
      ]
    },
    {
      "cell_type": "markdown",
      "source": [
        "## 반복문으로 리스트의 요소를 모두 출력하기"
      ],
      "metadata": {
        "id": "0k4CI6vtewQR"
      }
    },
    {
      "cell_type": "markdown",
      "source": [
        "### for 반복문으로 요소 출력하기"
      ],
      "metadata": {
        "id": "YWNVY17ke1h3"
      }
    },
    {
      "cell_type": "markdown",
      "source": [
        "for 반복문은 그냥 in 뒤에 리스트를 지정하면 됩니다.\n",
        "\n",
        "```\n",
        "for 변수 in 리스트:\n",
        "     반복할 코드\n",
        "```"
      ],
      "metadata": {
        "id": "5vurwh3xe3ET"
      }
    },
    {
      "cell_type": "code",
      "source": [
        "for i in [\"헤이즐넛\", \"바닐라\", \"단호박\", \"아메리카노\"]:\n",
        "  print(i)"
      ],
      "metadata": {
        "colab": {
          "base_uri": "https://localhost:8080/"
        },
        "id": "ct3OpCIEen4U",
        "outputId": "2fe00271-1a2b-42ed-f6af-e6ae9ca854f3"
      },
      "execution_count": 98,
      "outputs": [
        {
          "output_type": "stream",
          "name": "stdout",
          "text": [
            "헤이즐넛\n",
            "바닐라\n",
            "단호박\n",
            "아메리카노\n"
          ]
        }
      ]
    },
    {
      "cell_type": "code",
      "source": [
        "for _ in range(10):\n",
        "  print(\"hi\")"
      ],
      "metadata": {
        "colab": {
          "base_uri": "https://localhost:8080/"
        },
        "id": "BmV5pDruLfEB",
        "outputId": "87291042-9676-4900-b52f-06f143d7059f"
      },
      "execution_count": 100,
      "outputs": [
        {
          "output_type": "stream",
          "name": "stdout",
          "text": [
            "hi\n",
            "hi\n",
            "hi\n",
            "hi\n",
            "hi\n",
            "hi\n",
            "hi\n",
            "hi\n",
            "hi\n",
            "hi\n"
          ]
        }
      ]
    },
    {
      "cell_type": "markdown",
      "source": [
        "`for i in a:`는 리스트 a에서 요소를 꺼내서 i에 저장하고, 꺼낼 때마다 코드를 반복합니다. 따라서 print로 i를 출력하면 모든 요소를 순서대로 출력할 수 있습니다.\n",
        "\n"
      ],
      "metadata": {
        "id": "A91t5ahze-KX"
      }
    },
    {
      "cell_type": "markdown",
      "source": [
        "### 인덱스와 요소를 함께 출력하기"
      ],
      "metadata": {
        "id": "wANTR49BfDYp"
      }
    },
    {
      "cell_type": "markdown",
      "source": [
        "그럼 for 반복문으로 요소를 출력할 때 인덱스도 함께 출력하려면 어떻게 해야 할까요? 이때는 `enumerate`를 사용합니다.\n",
        "\n",
        "* `for 인덱스, 요소 in enumerate(리스트)`:"
      ],
      "metadata": {
        "id": "wjXgsWEPfE9z"
      }
    },
    {
      "cell_type": "code",
      "source": [
        "a = [\"헤이즐넛\", \"바닐라\", \"단호박\", \"아메리카노\"]\n",
        "for i in enumerate(a):\n",
        "  print(i)\n",
        "  print(type(i))\n",
        "  print(len(i))"
      ],
      "metadata": {
        "colab": {
          "base_uri": "https://localhost:8080/"
        },
        "id": "h1DEXzICfANv",
        "outputId": "f5c80dc5-da39-4df3-8e70-fe008f8d667e"
      },
      "execution_count": 103,
      "outputs": [
        {
          "output_type": "stream",
          "name": "stdout",
          "text": [
            "(0, '헤이즐넛')\n",
            "<class 'tuple'>\n",
            "2\n",
            "(1, '바닐라')\n",
            "<class 'tuple'>\n",
            "2\n",
            "(2, '단호박')\n",
            "<class 'tuple'>\n",
            "2\n",
            "(3, '아메리카노')\n",
            "<class 'tuple'>\n",
            "2\n"
          ]
        }
      ]
    },
    {
      "cell_type": "code",
      "source": [
        "# for i, v in enumerate(a):\n",
        "for idx, val in enumerate(a):\n",
        "  print(idx, val)"
      ],
      "metadata": {
        "colab": {
          "base_uri": "https://localhost:8080/"
        },
        "id": "MdSAtBrQMH27",
        "outputId": "8bf54ebe-8ac9-4656-f071-0442e484ce8c"
      },
      "execution_count": 105,
      "outputs": [
        {
          "output_type": "stream",
          "name": "stdout",
          "text": [
            "0 헤이즐넛\n",
            "1 바닐라\n",
            "2 단호박\n",
            "3 아메리카노\n"
          ]
        }
      ]
    },
    {
      "cell_type": "markdown",
      "source": [
        "`for index, value in enumerate(a):`와 같이 enumerate에 리스트를 넣으면 for 반복문에서 인덱스와 요소를 동시에 꺼내 올 수 있습니다."
      ],
      "metadata": {
        "id": "b9uh7bkyfNCw"
      }
    },
    {
      "cell_type": "code",
      "source": [
        "b = a * 1 # * 사용시 사본생성\n",
        "for index, value in enumerate(a):\n",
        "  print(index, value)"
      ],
      "metadata": {
        "colab": {
          "base_uri": "https://localhost:8080/"
        },
        "id": "J3SKClMVMXLC",
        "outputId": "9bfdbbc5-4b66-4ea8-e5f5-99ee69dd1fdc"
      },
      "execution_count": 106,
      "outputs": [
        {
          "output_type": "stream",
          "name": "stdout",
          "text": [
            "0 헤이즐넛\n",
            "1 바닐라\n",
            "2 단호박\n",
            "3 아메리카노\n"
          ]
        }
      ]
    },
    {
      "cell_type": "code",
      "source": [
        "# 인덱스 1부터 출력하기\n",
        "b = a * 1 # * 사용시 사본생성\n",
        "for index, value in enumerate(a, start=1):\n",
        "  print(index, value)"
      ],
      "metadata": {
        "colab": {
          "base_uri": "https://localhost:8080/"
        },
        "id": "45kSKrIlfKqr",
        "outputId": "10b8d48c-22f5-471b-c7e6-90265729f43e"
      },
      "execution_count": 107,
      "outputs": [
        {
          "output_type": "stream",
          "name": "stdout",
          "text": [
            "1 헤이즐넛\n",
            "2 바닐라\n",
            "3 단호박\n",
            "4 아메리카노\n"
          ]
        }
      ]
    },
    {
      "cell_type": "markdown",
      "source": [
        "enumerate에 start를 지정해주면 시작 인덱스를 바꿀 수 있습니다.\n",
        "\n",
        "* `for 인덱스, 요소 in enumerate(리스트, start=숫자):`"
      ],
      "metadata": {
        "id": "V33hweywfcjS"
      }
    },
    {
      "cell_type": "code",
      "source": [
        "# for index, value in enumerate(a, start=1):\n",
        "b = a * 1 # * 사용시 사본생성\n",
        "for index, value in enumerate(a, start=2):\n",
        "  print(index, value)"
      ],
      "metadata": {
        "colab": {
          "base_uri": "https://localhost:8080/"
        },
        "id": "LIVvo8InfR_a",
        "outputId": "f671ec32-963f-4bb5-bbb5-92dfb6833f2b"
      },
      "execution_count": 108,
      "outputs": [
        {
          "output_type": "stream",
          "name": "stdout",
          "text": [
            "2 헤이즐넛\n",
            "3 바닐라\n",
            "4 단호박\n",
            "5 아메리카노\n"
          ]
        }
      ]
    },
    {
      "cell_type": "markdown",
      "source": [
        "### while반복문으로 요소 출력하기"
      ],
      "metadata": {
        "id": "lAY7CEqafoOL"
      }
    },
    {
      "cell_type": "code",
      "source": [
        "print(a)\n",
        "i = 0\n",
        "while i < len(a):\n",
        "  print(a[i])\n",
        "  i += 1"
      ],
      "metadata": {
        "colab": {
          "base_uri": "https://localhost:8080/"
        },
        "id": "0YS5UjeqfhaV",
        "outputId": "7c20b411-e5fc-4a34-d14d-45b81e955712"
      },
      "execution_count": 110,
      "outputs": [
        {
          "output_type": "stream",
          "name": "stdout",
          "text": [
            "['헤이즐넛', '바닐라', '단호박', '아메리카노']\n",
            "헤이즐넛\n",
            "바닐라\n",
            "단호박\n",
            "아메리카노\n"
          ]
        }
      ]
    },
    {
      "cell_type": "markdown",
      "source": [
        "즉, 리스트의 인덱스는 0부터 시작하고 마지막 인덱스는 리스트의 길이보다 1이 작으므로 <를 사용합니다. 만약 i <= len(a)처럼 <=을 사용하면 리스트의 범위를 벗어나게 되므로 주의해야 합니다."
      ],
      "metadata": {
        "id": "wyN28kGnf5fr"
      }
    },
    {
      "cell_type": "code",
      "source": [
        "print(a)\n",
        "i = 0\n",
        "while i <= len(a):\n",
        "  print(a[i])\n",
        "  i += 1"
      ],
      "metadata": {
        "id": "aizuNqiafsce",
        "colab": {
          "base_uri": "https://localhost:8080/",
          "height": 318
        },
        "outputId": "3c6e9930-0fb4-4992-b799-436bd20548ec"
      },
      "execution_count": 111,
      "outputs": [
        {
          "output_type": "stream",
          "name": "stdout",
          "text": [
            "['헤이즐넛', '바닐라', '단호박', '아메리카노']\n",
            "헤이즐넛\n",
            "바닐라\n",
            "단호박\n",
            "아메리카노\n"
          ]
        },
        {
          "output_type": "error",
          "ename": "IndexError",
          "evalue": "ignored",
          "traceback": [
            "\u001b[0;31m---------------------------------------------------------------------------\u001b[0m",
            "\u001b[0;31mIndexError\u001b[0m                                Traceback (most recent call last)",
            "\u001b[0;32m<ipython-input-111-f37c93fa4b46>\u001b[0m in \u001b[0;36m<module>\u001b[0;34m\u001b[0m\n\u001b[1;32m      2\u001b[0m \u001b[0mi\u001b[0m \u001b[0;34m=\u001b[0m \u001b[0;36m0\u001b[0m\u001b[0;34m\u001b[0m\u001b[0;34m\u001b[0m\u001b[0m\n\u001b[1;32m      3\u001b[0m \u001b[0;32mwhile\u001b[0m \u001b[0mi\u001b[0m \u001b[0;34m<=\u001b[0m \u001b[0mlen\u001b[0m\u001b[0;34m(\u001b[0m\u001b[0ma\u001b[0m\u001b[0;34m)\u001b[0m\u001b[0;34m:\u001b[0m\u001b[0;34m\u001b[0m\u001b[0;34m\u001b[0m\u001b[0m\n\u001b[0;32m----> 4\u001b[0;31m   \u001b[0mprint\u001b[0m\u001b[0;34m(\u001b[0m\u001b[0ma\u001b[0m\u001b[0;34m[\u001b[0m\u001b[0mi\u001b[0m\u001b[0;34m]\u001b[0m\u001b[0;34m)\u001b[0m\u001b[0;34m\u001b[0m\u001b[0;34m\u001b[0m\u001b[0m\n\u001b[0m\u001b[1;32m      5\u001b[0m   \u001b[0mi\u001b[0m \u001b[0;34m+=\u001b[0m \u001b[0;36m1\u001b[0m\u001b[0;34m\u001b[0m\u001b[0;34m\u001b[0m\u001b[0m\n",
            "\u001b[0;31mIndexError\u001b[0m: list index out of range"
          ]
        }
      ]
    },
    {
      "cell_type": "markdown",
      "source": [
        "## 리스트(튜플)의 가장 작은 수, 가장 큰 수, 합계 구하기"
      ],
      "metadata": {
        "id": "MqIPe-nPf9Eh"
      }
    },
    {
      "cell_type": "markdown",
      "source": [
        "### 가장 작은 수와 가장 큰 수 구하기"
      ],
      "metadata": {
        "id": "t7xNr8-QhAWi"
      }
    },
    {
      "cell_type": "code",
      "source": [
        "a = [100, 300, 20, 5]"
      ],
      "metadata": {
        "id": "t_SI9sZyUsTN"
      },
      "execution_count": 113,
      "outputs": []
    },
    {
      "cell_type": "code",
      "source": [
        "# 더 간단한 방법이 있습니다. 파이썬에서 제공하는 min, max 함수를 사용하면 됩니다.\n",
        "min(a) # minimum : 최소값"
      ],
      "metadata": {
        "colab": {
          "base_uri": "https://localhost:8080/"
        },
        "id": "gxZ4L8jFha5G",
        "outputId": "8fc7ed4d-47d5-403f-a0de-9f8f4549c945"
      },
      "execution_count": 115,
      "outputs": [
        {
          "output_type": "execute_result",
          "data": {
            "text/plain": [
              "5"
            ]
          },
          "metadata": {},
          "execution_count": 115
        }
      ]
    },
    {
      "cell_type": "code",
      "source": [
        "max(a) # maximum : 최대값"
      ],
      "metadata": {
        "colab": {
          "base_uri": "https://localhost:8080/"
        },
        "id": "SqXdX7vzU12O",
        "outputId": "8cd7c224-81ed-456a-e2e3-1b3d8b78c185"
      },
      "execution_count": 116,
      "outputs": [
        {
          "output_type": "execute_result",
          "data": {
            "text/plain": [
              "300"
            ]
          },
          "metadata": {},
          "execution_count": 116
        }
      ]
    },
    {
      "cell_type": "markdown",
      "source": [
        "min은 리스트에서 가장 작은 값을 구하고, max는 가장 큰 값을 구합니다."
      ],
      "metadata": {
        "id": "FvBpnEtyhgT0"
      }
    },
    {
      "cell_type": "code",
      "source": [
        "sorted(a) # 오름차순\n",
        "# 맨 앞 (0) : 최소값, 맨 뒤 (-1) : 최대값\n",
        "sorted(a)[0], sorted(a)[-1]"
      ],
      "metadata": {
        "colab": {
          "base_uri": "https://localhost:8080/"
        },
        "id": "1-zdb-Z3VAXp",
        "outputId": "3e73b28a-07b1-4d55-9cd8-5753e92ebdd5"
      },
      "execution_count": 118,
      "outputs": [
        {
          "output_type": "execute_result",
          "data": {
            "text/plain": [
              "(5, 300)"
            ]
          },
          "metadata": {},
          "execution_count": 118
        }
      ]
    },
    {
      "cell_type": "code",
      "source": [
        "sorted(a, reverse=True) # 내림차순\n",
        "# 맨 앞 (0) : 최대값, 맨 뒤 (-1) : 최소값\n",
        "sorted(a, reverse=True)[0], sorted(a, reverse=True)[-1]"
      ],
      "metadata": {
        "colab": {
          "base_uri": "https://localhost:8080/"
        },
        "id": "SfHsJnS3VNE8",
        "outputId": "edc95b49-75fe-487d-9081-d3a2b73c12be"
      },
      "execution_count": 120,
      "outputs": [
        {
          "output_type": "execute_result",
          "data": {
            "text/plain": [
              "(300, 5)"
            ]
          },
          "metadata": {},
          "execution_count": 120
        }
      ]
    },
    {
      "cell_type": "markdown",
      "source": [
        "### 요소의 합계 구하기"
      ],
      "metadata": {
        "id": "9VJIGdZMhiXX"
      }
    },
    {
      "cell_type": "markdown",
      "source": [
        "사실 이 방법도 좀 번거롭습니다. 그래서 파이썬에서는 합계를 구하는 sum 함수를 제공합니다."
      ],
      "metadata": {
        "id": "ol1IRaKqhtz3"
      }
    },
    {
      "cell_type": "code",
      "source": [
        "a = [10, 10, 10, 10, 10]\n",
        "print(a)\n",
        "sum(a) # summarization"
      ],
      "metadata": {
        "colab": {
          "base_uri": "https://localhost:8080/"
        },
        "id": "ylFf2-HLhqiV",
        "outputId": "b7bd3357-83d9-4019-f1a2-3fb76bb88d3e"
      },
      "execution_count": 122,
      "outputs": [
        {
          "output_type": "stream",
          "name": "stdout",
          "text": [
            "[10, 10, 10, 10, 10]\n"
          ]
        },
        {
          "output_type": "execute_result",
          "data": {
            "text/plain": [
              "50"
            ]
          },
          "metadata": {},
          "execution_count": 122
        }
      ]
    },
    {
      "cell_type": "code",
      "source": [
        "a = [\"바나나\", \"딸기\", \"사과\"]\n",
        "sum(a)"
      ],
      "metadata": {
        "colab": {
          "base_uri": "https://localhost:8080/",
          "height": 190
        },
        "id": "HmeePBcgV2vn",
        "outputId": "498de3ab-4dcc-4c68-f324-8449a3992084"
      },
      "execution_count": 124,
      "outputs": [
        {
          "output_type": "error",
          "ename": "TypeError",
          "evalue": "ignored",
          "traceback": [
            "\u001b[0;31m---------------------------------------------------------------------------\u001b[0m",
            "\u001b[0;31mTypeError\u001b[0m                                 Traceback (most recent call last)",
            "\u001b[0;32m<ipython-input-124-9c1ccfd6250c>\u001b[0m in \u001b[0;36m<module>\u001b[0;34m\u001b[0m\n\u001b[1;32m      1\u001b[0m \u001b[0ma\u001b[0m \u001b[0;34m=\u001b[0m \u001b[0;34m[\u001b[0m\u001b[0;34m\"바나나\"\u001b[0m\u001b[0;34m,\u001b[0m \u001b[0;34m\"딸기\"\u001b[0m\u001b[0;34m,\u001b[0m \u001b[0;34m\"사과\"\u001b[0m\u001b[0;34m]\u001b[0m\u001b[0;34m\u001b[0m\u001b[0;34m\u001b[0m\u001b[0m\n\u001b[0;32m----> 2\u001b[0;31m \u001b[0msum\u001b[0m\u001b[0;34m(\u001b[0m\u001b[0ma\u001b[0m\u001b[0;34m)\u001b[0m\u001b[0;34m\u001b[0m\u001b[0;34m\u001b[0m\u001b[0m\n\u001b[0m",
            "\u001b[0;31mTypeError\u001b[0m: unsupported operand type(s) for +: 'int' and 'str'"
          ]
        }
      ]
    },
    {
      "cell_type": "code",
      "source": [
        "\"\".join(a)"
      ],
      "metadata": {
        "colab": {
          "base_uri": "https://localhost:8080/",
          "height": 35
        },
        "id": "zOCj237jWC1C",
        "outputId": "44238716-e0a0-4e1c-8fc5-bab30e9dd4c2"
      },
      "execution_count": 125,
      "outputs": [
        {
          "output_type": "execute_result",
          "data": {
            "text/plain": [
              "'바나나딸기사과'"
            ],
            "application/vnd.google.colaboratory.intrinsic+json": {
              "type": "string"
            }
          },
          "metadata": {},
          "execution_count": 125
        }
      ]
    },
    {
      "cell_type": "markdown",
      "source": [
        "## 리스트 표현식 사용하기"
      ],
      "metadata": {
        "id": "PNoWyCtUhzaU"
      }
    },
    {
      "cell_type": "markdown",
      "source": [
        "파이썬의 리스트가 특이한 점은 리스트 안에 for 반복문과 if 조건문을 사용할 수 있다는 점입니다. 이렇게 리스트 안에 식, for 반복문, if 조건문 등을 지정하여 리스트를 생성하는 것을 **리스트 컴프리헨션(list comprehension)**이라고 합니다.\n",
        "\n",
        "리스트 컴프리헨션이라고 하니 언뜻 이해가 잘 안되죠? 책이나 인터넷에서도 리스트 내포, 리스트 내장, 리스트 축약, 리스트 해석 등으로 씁니다. 컴프리헨션은 능력, 이해력, 시험 등의 뜻도 있지만, 어떤 것을 잡아서 담아둔다는 뜻이 있습니다. 즉, 식으로 지정해서 생성된 것을 리스트로 잡아두는 것이 리스트 컴프리헨션입니다. 개념적으로 보면 \"리스트 표현식\"이라고 할 수 있으니 이 책에서는 간단하게 리스트 표현식이라고 쓰겠습니다.\n",
        "\n",
        "리스트 표현식은 다음과 같이 리스트 안에 식, for 반복문을 지정합니다. 문법이 다소 복잡해 보이지만 여러 줄의 코드를 한 줄로 줄일 수 있고, 익숙해지면 크게 어렵지 않습니다.\n",
        "\n",
        "* `[식 for 변수 in 리스트]`"
      ],
      "metadata": {
        "id": "SKDP37d2h2BZ"
      }
    },
    {
      "cell_type": "code",
      "source": [
        "a = [i for i in range(10)]        # 0부터 9까지 숫자를 생성하여 리스트 생성\n",
        "a"
      ],
      "metadata": {
        "colab": {
          "base_uri": "https://localhost:8080/"
        },
        "id": "nNO-RkWmhv-Y",
        "outputId": "99eeb489-db31-4b3e-e9ac-46d6291cab69"
      },
      "execution_count": 126,
      "outputs": [
        {
          "output_type": "execute_result",
          "data": {
            "text/plain": [
              "[0, 1, 2, 3, 4, 5, 6, 7, 8, 9]"
            ]
          },
          "metadata": {},
          "execution_count": 126
        }
      ]
    },
    {
      "cell_type": "code",
      "source": [
        "a = []\n",
        "for i in range(10):\n",
        "  a.append(i)\n",
        "a"
      ],
      "metadata": {
        "colab": {
          "base_uri": "https://localhost:8080/"
        },
        "id": "QvoxtV2YWt0K",
        "outputId": "aa16ec70-bbf2-4199-b6db-711698b31a56"
      },
      "execution_count": 129,
      "outputs": [
        {
          "output_type": "execute_result",
          "data": {
            "text/plain": [
              "[0, 1, 2, 3, 4, 5, 6, 7, 8, 9]"
            ]
          },
          "metadata": {},
          "execution_count": 129
        }
      ]
    },
    {
      "cell_type": "code",
      "source": [
        "a = []\n",
        "for i in range(10):\n",
        "  a.append(i ** 2)\n",
        "a"
      ],
      "metadata": {
        "colab": {
          "base_uri": "https://localhost:8080/"
        },
        "id": "BPjdKl6iXEAu",
        "outputId": "0504cf8a-472f-4c6e-9849-fa67833af7a8"
      },
      "execution_count": 131,
      "outputs": [
        {
          "output_type": "execute_result",
          "data": {
            "text/plain": [
              "[0, 1, 4, 9, 16, 25, 36, 49, 64, 81]"
            ]
          },
          "metadata": {},
          "execution_count": 131
        }
      ]
    },
    {
      "cell_type": "code",
      "source": [
        "a =[i ** 2 for i in range(10)]\n",
        "a"
      ],
      "metadata": {
        "colab": {
          "base_uri": "https://localhost:8080/"
        },
        "id": "Ud5D7EwvXJr0",
        "outputId": "d4224615-4551-4a42-f47d-71fd0ccf7363"
      },
      "execution_count": 133,
      "outputs": [
        {
          "output_type": "execute_result",
          "data": {
            "text/plain": [
              "[0, 1, 4, 9, 16, 25, 36, 49, 64, 81]"
            ]
          },
          "metadata": {},
          "execution_count": 133
        }
      ]
    },
    {
      "cell_type": "code",
      "source": [
        "b = list(i for i in range(10))    # 0부터 9까지 숫자를 생성하여 리스트 생성\n",
        "b"
      ],
      "metadata": {
        "colab": {
          "base_uri": "https://localhost:8080/"
        },
        "id": "_JDs4llgiArl",
        "outputId": "f0a712a0-45df-4110-e8a0-726e6952cb98"
      },
      "execution_count": 127,
      "outputs": [
        {
          "output_type": "execute_result",
          "data": {
            "text/plain": [
              "[0, 1, 2, 3, 4, 5, 6, 7, 8, 9]"
            ]
          },
          "metadata": {},
          "execution_count": 127
        }
      ]
    },
    {
      "cell_type": "markdown",
      "source": [
        "리스트 안에 식, for, 변수, in, 리스트 순서로 들어있지만 뒤에서 앞으로 읽으면 간단합니다. 즉, range(10)으로 0부터 9까지 생성하여 변수 i에 숫자를 꺼내고, 최종적으로 i를 이용하여 리스트를 만든다는 뜻입니다."
      ],
      "metadata": {
        "id": "LpO8RdH5iE8w"
      }
    },
    {
      "cell_type": "code",
      "source": [
        "c = [i + 5 for i in range(10)]    # 0부터 9까지 숫자를 생성하면서 값에 5를 더하여 리스트 생성\n",
        "c"
      ],
      "metadata": {
        "colab": {
          "base_uri": "https://localhost:8080/"
        },
        "id": "cubbm-uEiCjj",
        "outputId": "571e0c92-a3fb-49d2-c125-e72620cd3610"
      },
      "execution_count": null,
      "outputs": [
        {
          "output_type": "execute_result",
          "data": {
            "text/plain": [
              "[5, 6, 7, 8, 9, 10, 11, 12, 13, 14]"
            ]
          },
          "metadata": {},
          "execution_count": 54
        }
      ]
    },
    {
      "cell_type": "code",
      "source": [
        "d = [i * 2 for i in range(10)]    # 0부터 9까지 숫자를 생성하면서 값에 2를 곱하여 리스트 생성\n",
        "d"
      ],
      "metadata": {
        "colab": {
          "base_uri": "https://localhost:8080/"
        },
        "id": "lBAMC1pviL6X",
        "outputId": "609a53cd-fadf-4a70-da6d-b75b7ef31237"
      },
      "execution_count": null,
      "outputs": [
        {
          "output_type": "execute_result",
          "data": {
            "text/plain": [
              "[0, 2, 4, 6, 8, 10, 12, 14, 16, 18]"
            ]
          },
          "metadata": {},
          "execution_count": 55
        }
      ]
    },
    {
      "cell_type": "markdown",
      "source": [
        "\n",
        "---\n"
      ],
      "metadata": {
        "id": "KDfb4JxIX7SU"
      }
    },
    {
      "cell_type": "code",
      "source": [
        "a = [i for i in range(5, 15)]\n",
        "a"
      ],
      "metadata": {
        "colab": {
          "base_uri": "https://localhost:8080/"
        },
        "id": "C2Rta4t8XeOx",
        "outputId": "cf9254db-b605-4bb5-de75-bc54b5367daf"
      },
      "execution_count": 135,
      "outputs": [
        {
          "output_type": "execute_result",
          "data": {
            "text/plain": [
              "[5, 6, 7, 8, 9, 10, 11, 12, 13, 14]"
            ]
          },
          "metadata": {},
          "execution_count": 135
        }
      ]
    },
    {
      "cell_type": "code",
      "source": [
        "a = [i + 5 for i in range(10)]\n",
        "a"
      ],
      "metadata": {
        "colab": {
          "base_uri": "https://localhost:8080/"
        },
        "id": "872GTqIrXjo2",
        "outputId": "e7203d27-fe4f-4574-d2aa-2ad5667ae140"
      },
      "execution_count": 137,
      "outputs": [
        {
          "output_type": "execute_result",
          "data": {
            "text/plain": [
              "[5, 6, 7, 8, 9, 10, 11, 12, 13, 14]"
            ]
          },
          "metadata": {},
          "execution_count": 137
        }
      ]
    },
    {
      "cell_type": "code",
      "source": [
        "a = [i for i in range(0, 20, 2)]\n",
        "a"
      ],
      "metadata": {
        "colab": {
          "base_uri": "https://localhost:8080/"
        },
        "id": "CPHjs_jQXs-R",
        "outputId": "404df7e0-a196-4e47-d723-46871b1fd5d1"
      },
      "execution_count": 139,
      "outputs": [
        {
          "output_type": "execute_result",
          "data": {
            "text/plain": [
              "[0, 2, 4, 6, 8, 10, 12, 14, 16, 18]"
            ]
          },
          "metadata": {},
          "execution_count": 139
        }
      ]
    },
    {
      "cell_type": "code",
      "source": [
        "a = [i * 2 for i in range(10)]\n",
        "a"
      ],
      "metadata": {
        "colab": {
          "base_uri": "https://localhost:8080/"
        },
        "id": "CcbB4Qk8Xzfk",
        "outputId": "2eee1ecd-2edf-45fc-db22-2b38097dba7f"
      },
      "execution_count": 140,
      "outputs": [
        {
          "output_type": "execute_result",
          "data": {
            "text/plain": [
              "[0, 2, 4, 6, 8, 10, 12, 14, 16, 18]"
            ]
          },
          "metadata": {},
          "execution_count": 140
        }
      ]
    },
    {
      "cell_type": "code",
      "source": [
        "a = [\"아메리카노\", \"카푸치노\", \"프라푸치노\"]\n",
        "b = []\n",
        "for v in a:\n",
        "  b.append(v[-2:])\n",
        "b"
      ],
      "metadata": {
        "colab": {
          "base_uri": "https://localhost:8080/"
        },
        "id": "XKhNQK4bX_CM",
        "outputId": "b185894f-9103-4d1b-877a-9deb1f98fffc"
      },
      "execution_count": 146,
      "outputs": [
        {
          "output_type": "execute_result",
          "data": {
            "text/plain": [
              "['카노', '치노', '치노']"
            ]
          },
          "metadata": {},
          "execution_count": 146
        }
      ]
    },
    {
      "cell_type": "code",
      "source": [
        "b = [v[0] for v in a]\n",
        "b"
      ],
      "metadata": {
        "colab": {
          "base_uri": "https://localhost:8080/"
        },
        "id": "0xAystgSYdMf",
        "outputId": "8c47c7df-af46-49cc-810b-fa5795de999e"
      },
      "execution_count": 148,
      "outputs": [
        {
          "output_type": "execute_result",
          "data": {
            "text/plain": [
              "['아', '카', '프']"
            ]
          },
          "metadata": {},
          "execution_count": 148
        }
      ]
    },
    {
      "cell_type": "markdown",
      "source": [
        "### 리스트 표현식에서 if 조건문 사용하기"
      ],
      "metadata": {
        "id": "cLlfOJfoiSls"
      }
    },
    {
      "cell_type": "markdown",
      "source": [
        "이번에는 리스트 표현식에서 if 조건문을 사용해보겠습니다. 다음과 같이 if 조건문은 for 반복문 뒤에 지정합니다.\n",
        "\n",
        "* `[식 for 변수 in 리스트 if 조건식]`"
      ],
      "metadata": {
        "id": "6yK2g3-piUkA"
      }
    },
    {
      "cell_type": "code",
      "source": [
        "c = []\n",
        "for v in a:\n",
        "  # print(v)\n",
        "  if \"푸\" in v:\n",
        "   # print(\"푸가 이쓰요\")\n",
        "   c.append(v)\n",
        "c"
      ],
      "metadata": {
        "colab": {
          "base_uri": "https://localhost:8080/"
        },
        "id": "OuP7GL82Y9dS",
        "outputId": "0ee15453-1646-45dd-bc3a-3d6f0d047493"
      },
      "execution_count": 155,
      "outputs": [
        {
          "output_type": "execute_result",
          "data": {
            "text/plain": [
              "['카푸치노', '프라푸치노']"
            ]
          },
          "metadata": {},
          "execution_count": 155
        }
      ]
    },
    {
      "cell_type": "code",
      "source": [
        "c = []\n",
        "for v in a:\n",
        "  if \"푸\" not in v:\n",
        "    continue\n",
        "  print(v)\n",
        "  c.append(v)\n",
        "c"
      ],
      "metadata": {
        "colab": {
          "base_uri": "https://localhost:8080/"
        },
        "id": "rHcaSMHBZWwD",
        "outputId": "d985f5a1-0732-4f9e-fc9d-d90d207103a5"
      },
      "execution_count": 156,
      "outputs": [
        {
          "output_type": "stream",
          "name": "stdout",
          "text": [
            "카푸치노\n",
            "프라푸치노\n"
          ]
        },
        {
          "output_type": "execute_result",
          "data": {
            "text/plain": [
              "['카푸치노', '프라푸치노']"
            ]
          },
          "metadata": {},
          "execution_count": 156
        }
      ]
    },
    {
      "cell_type": "code",
      "source": [
        "[v for v in a if '푸' in v]"
      ],
      "metadata": {
        "colab": {
          "base_uri": "https://localhost:8080/"
        },
        "id": "j1aVvBSLiKjb",
        "outputId": "49784b20-a054-44e8-cee3-1cafe36b8159"
      },
      "execution_count": 157,
      "outputs": [
        {
          "output_type": "execute_result",
          "data": {
            "text/plain": [
              "['카푸치노', '프라푸치노']"
            ]
          },
          "metadata": {},
          "execution_count": 157
        }
      ]
    },
    {
      "cell_type": "code",
      "source": [
        "[v[0] for v in a if '푸' in v]"
      ],
      "metadata": {
        "colab": {
          "base_uri": "https://localhost:8080/"
        },
        "id": "mU7F6gUticBX",
        "outputId": "4ae003ae-275f-43a9-d9ac-8e6e30396530"
      },
      "execution_count": 159,
      "outputs": [
        {
          "output_type": "execute_result",
          "data": {
            "text/plain": [
              "['카', '프']"
            ]
          },
          "metadata": {},
          "execution_count": 159
        }
      ]
    },
    {
      "cell_type": "code",
      "source": [
        "[(\"비쌀 것 같네요\" if len(v) > 4  else \"저렴할 것 같네요\") for v in a if '푸' in v]"
      ],
      "metadata": {
        "colab": {
          "base_uri": "https://localhost:8080/"
        },
        "id": "ngZkMf0tZzN2",
        "outputId": "bb12913a-cb24-4b6e-cc37-ff0ec9f00ba0"
      },
      "execution_count": 162,
      "outputs": [
        {
          "output_type": "execute_result",
          "data": {
            "text/plain": [
              "['저렴할 것 같네요', '비쌀 것 같네요']"
            ]
          },
          "metadata": {},
          "execution_count": 162
        }
      ]
    },
    {
      "cell_type": "markdown",
      "source": [
        "### for 반복문과 if 조건문을 여러 번 사용하기"
      ],
      "metadata": {
        "id": "p7gFvnKnigCn"
      }
    },
    {
      "cell_type": "markdown",
      "source": [
        "리스트 표현식은 for와 if를 여러 번 사용할 수도 있습니다.\n",
        "\n",
        "* `[식 for 변수1 in 리스트1 if 조건식1     for 변수2 in 리스트2 if 조건식2     ...     for 변수n in 리스트n if 조건식n]`"
      ],
      "metadata": {
        "id": "WwEy38Psiku1"
      }
    },
    {
      "cell_type": "code",
      "source": [
        "for i in range(10):\n",
        "  for j in range(10):\n",
        "    print(i * j)"
      ],
      "metadata": {
        "id": "aD5ufjtoied7",
        "colab": {
          "base_uri": "https://localhost:8080/"
        },
        "outputId": "d177b9d6-089e-4d39-b05a-bd4ce7527a75"
      },
      "execution_count": 164,
      "outputs": [
        {
          "output_type": "stream",
          "name": "stdout",
          "text": [
            "0\n",
            "0\n",
            "0\n",
            "0\n",
            "0\n",
            "0\n",
            "0\n",
            "0\n",
            "0\n",
            "0\n",
            "0\n",
            "1\n",
            "2\n",
            "3\n",
            "4\n",
            "5\n",
            "6\n",
            "7\n",
            "8\n",
            "9\n",
            "0\n",
            "2\n",
            "4\n",
            "6\n",
            "8\n",
            "10\n",
            "12\n",
            "14\n",
            "16\n",
            "18\n",
            "0\n",
            "3\n",
            "6\n",
            "9\n",
            "12\n",
            "15\n",
            "18\n",
            "21\n",
            "24\n",
            "27\n",
            "0\n",
            "4\n",
            "8\n",
            "12\n",
            "16\n",
            "20\n",
            "24\n",
            "28\n",
            "32\n",
            "36\n",
            "0\n",
            "5\n",
            "10\n",
            "15\n",
            "20\n",
            "25\n",
            "30\n",
            "35\n",
            "40\n",
            "45\n",
            "0\n",
            "6\n",
            "12\n",
            "18\n",
            "24\n",
            "30\n",
            "36\n",
            "42\n",
            "48\n",
            "54\n",
            "0\n",
            "7\n",
            "14\n",
            "21\n",
            "28\n",
            "35\n",
            "42\n",
            "49\n",
            "56\n",
            "63\n",
            "0\n",
            "8\n",
            "16\n",
            "24\n",
            "32\n",
            "40\n",
            "48\n",
            "56\n",
            "64\n",
            "72\n",
            "0\n",
            "9\n",
            "18\n",
            "27\n",
            "36\n",
            "45\n",
            "54\n",
            "63\n",
            "72\n",
            "81\n"
          ]
        }
      ]
    },
    {
      "cell_type": "code",
      "source": [
        "[i * j]"
      ],
      "metadata": {
        "id": "IGReL2kgio5L"
      },
      "execution_count": null,
      "outputs": []
    },
    {
      "cell_type": "markdown",
      "source": [
        "## 리스트에 map 사용하기"
      ],
      "metadata": {
        "id": "VFhcQVbYiwbo"
      }
    },
    {
      "cell_type": "markdown",
      "source": [
        "이번에는 리스트에 map을 사용해보겠습니다. map은 리스트의 요소를 지정된 함수로 처리해주는 함수입니다(map은 원본 리스트를 변경하지 않고 새 리스트를 생성합니다).\n",
        "\n",
        "* `list(map(함수, 리스트))`\n",
        "* `tuple(map(함수, 튜플))`\n",
        "\n",
        "예를 들어 실수가 저장된 리스트가 있을 때 이 리스트의 모든 요소를 정수로 변환하려면 어떻게 해야 할까요? 먼저 for 반복문을 사용해서 변환해보겠습니다."
      ],
      "metadata": {
        "id": "KCKM5L0AizY-"
      }
    },
    {
      "cell_type": "code",
      "source": [
        "a = [1.2, 2.5, 3.7, 4.6]\n",
        "for i in range(len(a)):\n",
        "  a[i] = int"
      ],
      "metadata": {
        "colab": {
          "base_uri": "https://localhost:8080/"
        },
        "id": "VZOqVRhpi2uR",
        "outputId": "03e0f8e5-aa02-47a0-b0dc-f83b8391e6bc"
      },
      "execution_count": null,
      "outputs": [
        {
          "output_type": "execute_result",
          "data": {
            "text/plain": [
              "[1, 2, 3, 4]"
            ]
          },
          "metadata": {},
          "execution_count": 61
        }
      ]
    },
    {
      "cell_type": "code",
      "source": [
        "# 매번 for 반복문으로 반복하면서 요소를 변환하려니 조금 번거롭습니다. 이때는 map을 사용하면 편리합니다.\n"
      ],
      "metadata": {
        "colab": {
          "base_uri": "https://localhost:8080/"
        },
        "id": "7jPvFmfXi48s",
        "outputId": "4a728fbe-2575-4317-e2e9-c6b7e55cbe2a"
      },
      "execution_count": null,
      "outputs": [
        {
          "output_type": "execute_result",
          "data": {
            "text/plain": [
              "[1, 2, 3, 4]"
            ]
          },
          "metadata": {},
          "execution_count": 62
        }
      ]
    },
    {
      "cell_type": "markdown",
      "source": [
        "### input().split()과 map"
      ],
      "metadata": {
        "id": "4jgGA8cykJzJ"
      }
    },
    {
      "cell_type": "markdown",
      "source": [
        "지금까지 input().split()으로 값을 여러 개 입력받고 정수, 실수로 변환할 때도 map을 사용했었죠? 사실 input().split()의 결과가 문자열 리스트라서 map을 사용할 수 있었습니다.\n",
        "\n",
        "다음과 같이 input().split()을 사용한 뒤에 변수 한 개에 저장해보면 리스트인지 확인할 수 있습니다."
      ],
      "metadata": {
        "id": "5D2FE1EukMl0"
      }
    },
    {
      "cell_type": "code",
      "source": [
        "a= input().split()\n",
        "a"
      ],
      "metadata": {
        "colab": {
          "base_uri": "https://localhost:8080/"
        },
        "id": "Dt1GfQi0jCqN",
        "outputId": "e3ba7fb6-38f9-4d33-c6fc-d0b104636643"
      },
      "execution_count": 172,
      "outputs": [
        {
          "name": "stdout",
          "output_type": "stream",
          "text": [
            "10\n"
          ]
        },
        {
          "output_type": "execute_result",
          "data": {
            "text/plain": [
              "['10']"
            ]
          },
          "metadata": {},
          "execution_count": 172
        }
      ]
    },
    {
      "cell_type": "code",
      "source": [
        "# 이제 map을 사용해서 정수로 변환해봅니다.\n",
        "a = map(int, input().split())\n",
        "a, list(a)"
      ],
      "metadata": {
        "colab": {
          "base_uri": "https://localhost:8080/"
        },
        "id": "HkO02t-2kPN-",
        "outputId": "ce5e763d-259a-48a4-9c8c-2ccb0475b60a"
      },
      "execution_count": 173,
      "outputs": [
        {
          "name": "stdout",
          "output_type": "stream",
          "text": [
            "20\n"
          ]
        },
        {
          "output_type": "execute_result",
          "data": {
            "text/plain": [
              "(<map at 0x7f5e2a323dc0>, [20])"
            ]
          },
          "metadata": {},
          "execution_count": 173
        }
      ]
    },
    {
      "cell_type": "markdown",
      "source": [
        "사실 map이 반환하는 맵 객체는 변수 여러 개에 저장하는 언패킹(unpacking)이 가능합니다. 그래서 a, b = map(int, input().split())처럼 list를 생략한 것입니다"
      ],
      "metadata": {
        "id": "lVP4aYf5kb96"
      }
    },
    {
      "cell_type": "code",
      "source": [
        "a, b = map(int, input(.split()))"
      ],
      "metadata": {
        "colab": {
          "base_uri": "https://localhost:8080/"
        },
        "id": "CfGel0KhkVhk",
        "outputId": "37415aac-15c6-4942-883e-541cdd8c6bfe"
      },
      "execution_count": null,
      "outputs": [
        {
          "name": "stdout",
          "output_type": "stream",
          "text": [
            "10 20\n"
          ]
        }
      ]
    }
  ]
}