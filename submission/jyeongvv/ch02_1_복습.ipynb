{
  "nbformat": 4,
  "nbformat_minor": 0,
  "metadata": {
    "colab": {
      "provenance": [],
      "authorship_tag": "ABX9TyPg89wT7UGBiltKCyS0pSI9",
      "include_colab_link": true
    },
    "kernelspec": {
      "name": "python3",
      "display_name": "Python 3"
    },
    "language_info": {
      "name": "python"
    }
  },
  "cells": [
    {
      "cell_type": "markdown",
      "metadata": {
        "id": "view-in-github",
        "colab_type": "text"
      },
      "source": [
        "<a href=\"https://colab.research.google.com/github/jyeongvv/Python_jy/blob/main/submission/jyeongvv/ch02_1_%EB%B3%B5%EC%8A%B5.ipynb\" target=\"_parent\"><img src=\"https://colab.research.google.com/assets/colab-badge.svg\" alt=\"Open In Colab\"/></a>"
      ]
    },
    {
      "cell_type": "code",
      "execution_count": 1,
      "metadata": {
        "colab": {
          "base_uri": "https://localhost:8080/"
        },
        "id": "Qh-ZFH06utlF",
        "outputId": "ba09c616-de68-4981-90f2-09708c1c5898"
      },
      "outputs": [
        {
          "output_type": "execute_result",
          "data": {
            "text/plain": [
              "(True, False)"
            ]
          },
          "metadata": {},
          "execution_count": 1
        }
      ],
      "source": [
        "# 불\n",
        "True, False # 참, 거짓, true, false"
      ]
    },
    {
      "cell_type": "code",
      "source": [
        "int(True), int(False)"
      ],
      "metadata": {
        "colab": {
          "base_uri": "https://localhost:8080/"
        },
        "id": "KSdgeopRvN6P",
        "outputId": "a4bdd46d-651c-49c4-fa45-ceefbd1d578d"
      },
      "execution_count": 3,
      "outputs": [
        {
          "output_type": "execute_result",
          "data": {
            "text/plain": [
              "(1, 0)"
            ]
          },
          "metadata": {},
          "execution_count": 3
        }
      ]
    },
    {
      "cell_type": "code",
      "source": [
        "3 > 1"
      ],
      "metadata": {
        "colab": {
          "base_uri": "https://localhost:8080/"
        },
        "id": "U3V3__huvTkr",
        "outputId": "aba522b3-99cc-4ae2-ae7c-e74e114b948d"
      },
      "execution_count": 4,
      "outputs": [
        {
          "output_type": "execute_result",
          "data": {
            "text/plain": [
              "True"
            ]
          },
          "metadata": {},
          "execution_count": 4
        }
      ]
    },
    {
      "cell_type": "code",
      "source": [
        "a = 10\n",
        "b = 20\n",
        "a > b"
      ],
      "metadata": {
        "colab": {
          "base_uri": "https://localhost:8080/"
        },
        "id": "__GUHbTnvRSq",
        "outputId": "56169fde-c3fb-4860-b8b5-84a23354b01e"
      },
      "execution_count": 5,
      "outputs": [
        {
          "output_type": "execute_result",
          "data": {
            "text/plain": [
              "False"
            ]
          },
          "metadata": {},
          "execution_count": 5
        }
      ]
    },
    {
      "cell_type": "code",
      "source": [
        "# == (동등연산자, 일치) / = (할당연산자, 대입연산자)\n",
        "# >, <, >=, <=\n",
        "'Python' == 'python', 'Python' != 'python' "
      ],
      "metadata": {
        "colab": {
          "base_uri": "https://localhost:8080/"
        },
        "id": "2mpe6mCxvZn-",
        "outputId": "f7b33ec8-ba24-4f85-c053-1778f44d6cd5"
      },
      "execution_count": 6,
      "outputs": [
        {
          "output_type": "execute_result",
          "data": {
            "text/plain": [
              "(False, True)"
            ]
          },
          "metadata": {},
          "execution_count": 6
        }
      ]
    },
    {
      "cell_type": "code",
      "source": [
        "# 논리연산자 (1개 이상의 불을 처리하는 연산자)\n",
        "# and\n",
        "a = 15; b = 13 # 두 줄을 합쳐주는 방법\n",
        "c, d = 10, 20 # 언팩킹을 사용하는 방법\n",
        "(a > 20) and (b > 10) # 둘다 참일 때 True\n",
        "(a > 20) & (b > 10) "
      ],
      "metadata": {
        "colab": {
          "base_uri": "https://localhost:8080/"
        },
        "id": "AlQh4eOywJ8_",
        "outputId": "e7c16792-9350-4b4c-8842-4ed62004434b"
      },
      "execution_count": 7,
      "outputs": [
        {
          "output_type": "execute_result",
          "data": {
            "text/plain": [
              "False"
            ]
          },
          "metadata": {},
          "execution_count": 7
        }
      ]
    },
    {
      "cell_type": "code",
      "source": [
        "# or (또는)\n",
        "c != 10 or d < 100, c != 10 | d < 100 # 비교 연산자의 우선순위가 논리 연산자보다 높아요\n",
        "# 웬만하면 괄호로 우선순위를 명확하게 합시다"
      ],
      "metadata": {
        "colab": {
          "base_uri": "https://localhost:8080/"
        },
        "id": "bd8sNmI_wovN",
        "outputId": "43c3f0a7-1b7e-4049-cc6b-ce7ca806dada"
      },
      "execution_count": 9,
      "outputs": [
        {
          "output_type": "execute_result",
          "data": {
            "text/plain": [
              "(True, True)"
            ]
          },
          "metadata": {},
          "execution_count": 9
        }
      ]
    },
    {
      "cell_type": "code",
      "source": [
        "not True, not False"
      ],
      "metadata": {
        "colab": {
          "base_uri": "https://localhost:8080/"
        },
        "id": "_0ZbkR_cxz0s",
        "outputId": "6d7dd5a2-89bb-40a7-94f5-87b9da1d6dc0"
      },
      "execution_count": 10,
      "outputs": [
        {
          "output_type": "execute_result",
          "data": {
            "text/plain": [
              "(False, True)"
            ]
          },
          "metadata": {},
          "execution_count": 10
        }
      ]
    },
    {
      "cell_type": "code",
      "source": [
        "bool(1), bool(\"ab\"), bool()"
      ],
      "metadata": {
        "colab": {
          "base_uri": "https://localhost:8080/"
        },
        "id": "L_Bow6VDyEmn",
        "outputId": "62e0bf3f-db50-49bb-d830-ea1b1a8584b3"
      },
      "execution_count": 11,
      "outputs": [
        {
          "output_type": "execute_result",
          "data": {
            "text/plain": [
              "(True, True, False)"
            ]
          },
          "metadata": {},
          "execution_count": 11
        }
      ]
    },
    {
      "cell_type": "code",
      "source": [
        "hell = \"hell\"\n",
        "hell"
      ],
      "metadata": {
        "colab": {
          "base_uri": "https://localhost:8080/",
          "height": 35
        },
        "id": "j3WcfXt8yKP7",
        "outputId": "907b403f-3061-467b-c542-90856ed952af"
      },
      "execution_count": 13,
      "outputs": [
        {
          "output_type": "execute_result",
          "data": {
            "text/plain": [
              "'hell'"
            ],
            "application/vnd.google.colaboratory.intrinsic+json": {
              "type": "string"
            }
          },
          "metadata": {},
          "execution_count": 13
        }
      ]
    },
    {
      "cell_type": "code",
      "source": [
        "hell2 = 'hell'\n",
        "hell2"
      ],
      "metadata": {
        "colab": {
          "base_uri": "https://localhost:8080/",
          "height": 35
        },
        "id": "BZn4S7wmyVpD",
        "outputId": "ad162aa0-ae5c-4a56-8888-2d94d013d7d3"
      },
      "execution_count": 14,
      "outputs": [
        {
          "output_type": "execute_result",
          "data": {
            "text/plain": [
              "'hell'"
            ],
            "application/vnd.google.colaboratory.intrinsic+json": {
              "type": "string"
            }
          },
          "metadata": {},
          "execution_count": 14
        }
      ]
    },
    {
      "cell_type": "code",
      "source": [
        "# 여러줄 문자열\n",
        "hello = \"\"\"hello\n",
        "hello\"\"\"\n",
        "print(hello)"
      ],
      "metadata": {
        "colab": {
          "base_uri": "https://localhost:8080/"
        },
        "id": "UbwU_mtPyZ2b",
        "outputId": "8f6e0887-4320-4414-f9d9-5abfffc2ecfb"
      },
      "execution_count": 15,
      "outputs": [
        {
          "output_type": "stream",
          "name": "stdout",
          "text": [
            "hello\n",
            "hello\n"
          ]
        }
      ]
    },
    {
      "cell_type": "code",
      "source": [
        "s2 = \"\"\"벌써\n",
        "집에\n",
        "가고 싶습니다ㅏㅏㅏ\"\"\"\n",
        "print(s2)"
      ],
      "metadata": {
        "colab": {
          "base_uri": "https://localhost:8080/"
        },
        "id": "DY43t5pByusC",
        "outputId": "53555719-6946-4e43-cc99-685e61a2ab47"
      },
      "execution_count": 17,
      "outputs": [
        {
          "output_type": "stream",
          "name": "stdout",
          "text": [
            "벌써\n",
            "집에\n",
            "가고 싶습니다ㅏㅏㅏ\n"
          ]
        }
      ]
    },
    {
      "cell_type": "code",
      "source": [
        "# ', \" 를 문자열 안에 표기하기 (\\ : 이스케이프, \\n : 개행문자ㅏ)\n",
        "print(\"\\\"를 사용해서 큰따옴표 안에 큰따옴표를 표현\")\n",
        "print('\\'를 사용해서 작은따옴표 안에 작은따옴표를 표현')"
      ],
      "metadata": {
        "colab": {
          "base_uri": "https://localhost:8080/"
        },
        "id": "-0QEvqryy4x_",
        "outputId": "1d544bd9-9380-4334-9232-1d5758031cdf"
      },
      "execution_count": 18,
      "outputs": [
        {
          "output_type": "stream",
          "name": "stdout",
          "text": [
            "\"를 사용해서 큰따옴표 안에 큰따옴표를 표현\n",
            "'를 사용해서 작은따옴표 안에 작은따옴표를 표현\n"
          ]
        }
      ]
    },
    {
      "cell_type": "code",
      "source": [
        "a = [] # 리스트 -> 0개 이상의 요소를 묶은 자료형\n",
        "b = [0, \" word\", 1, 0, True, 10 > 5]\n",
        "a, b"
      ],
      "metadata": {
        "colab": {
          "base_uri": "https://localhost:8080/"
        },
        "id": "omnzMyba3YIt",
        "outputId": "4822f0d0-601e-4230-9e15-f77d80e62c02"
      },
      "execution_count": 19,
      "outputs": [
        {
          "output_type": "execute_result",
          "data": {
            "text/plain": [
              "([], [0, ' word', 1, 0, True, True])"
            ]
          },
          "metadata": {},
          "execution_count": 19
        }
      ]
    },
    {
      "cell_type": "code",
      "source": [
        "c = list() # 리스트랑 비슷한 시퀀스 자료형 -> 리스트로 변환\n",
        "c"
      ],
      "metadata": {
        "colab": {
          "base_uri": "https://localhost:8080/"
        },
        "id": "QB6c-MA6331f",
        "outputId": "fb321ff2-06cf-4860-c56a-97e3ac713c38"
      },
      "execution_count": 20,
      "outputs": [
        {
          "output_type": "execute_result",
          "data": {
            "text/plain": [
              "[]"
            ]
          },
          "metadata": {},
          "execution_count": 20
        }
      ]
    },
    {
      "cell_type": "code",
      "source": [
        "# 시작점을 지정해주지 않으면 0부터 시작함\n",
        "# 0, 5 (끝점) / 1, 5 (시작점, 끝점) / 1, 3, 5, 7, 9 (시작점, 끝점, 증가폭)\n",
        "range(5), range(1, 5), range(1, 10, 2)"
      ],
      "metadata": {
        "colab": {
          "base_uri": "https://localhost:8080/"
        },
        "id": "GXvGdsrB4AOb",
        "outputId": "3dcf9c3e-03a9-4f2c-b453-da43b6cd9478"
      },
      "execution_count": 22,
      "outputs": [
        {
          "output_type": "execute_result",
          "data": {
            "text/plain": [
              "(range(0, 5), range(1, 5), range(1, 10, 2))"
            ]
          },
          "metadata": {},
          "execution_count": 22
        }
      ]
    },
    {
      "cell_type": "code",
      "source": [
        "list(range(5)), list(range(1, 5)), list(range(1, 10, 2))"
      ],
      "metadata": {
        "colab": {
          "base_uri": "https://localhost:8080/"
        },
        "id": "sZFH0RQu400p",
        "outputId": "c9e10e7a-d66c-4e2d-c22f-404ecd20dc19"
      },
      "execution_count": 23,
      "outputs": [
        {
          "output_type": "execute_result",
          "data": {
            "text/plain": [
              "([0, 1, 2, 3, 4], [1, 2, 3, 4], [1, 3, 5, 7, 9])"
            ]
          },
          "metadata": {},
          "execution_count": 23
        }
      ]
    },
    {
      "cell_type": "code",
      "source": [
        "list(map(list,(range(5), range(1, 5), range(1, 10, 2))))"
      ],
      "metadata": {
        "colab": {
          "base_uri": "https://localhost:8080/"
        },
        "id": "jQBxJmvO5H3a",
        "outputId": "a318d328-a72c-4f52-d3bf-81272db53ac5"
      },
      "execution_count": 26,
      "outputs": [
        {
          "output_type": "execute_result",
          "data": {
            "text/plain": [
              "[[0, 1, 2, 3, 4], [1, 2, 3, 4], [1, 3, 5, 7, 9]]"
            ]
          },
          "metadata": {},
          "execution_count": 26
        }
      ]
    },
    {
      "cell_type": "code",
      "source": [
        "list(range(10, 1, -2))"
      ],
      "metadata": {
        "colab": {
          "base_uri": "https://localhost:8080/"
        },
        "id": "iB7L4Uf-5PQC",
        "outputId": "19bd5a9c-4010-4db9-fafe-4817e6af16a7"
      },
      "execution_count": 27,
      "outputs": [
        {
          "output_type": "execute_result",
          "data": {
            "text/plain": [
              "[10, 8, 6, 4, 2]"
            ]
          },
          "metadata": {},
          "execution_count": 27
        }
      ]
    },
    {
      "cell_type": "code",
      "source": [
        "# 튜플 - 수정할 수 없는 리스트\n",
        "t = (10, 11,12,13,14)\n",
        "t"
      ],
      "metadata": {
        "colab": {
          "base_uri": "https://localhost:8080/"
        },
        "id": "yH37Vvo15eSU",
        "outputId": "1edd0382-9854-4303-d350-f61335f0f5aa"
      },
      "execution_count": 28,
      "outputs": [
        {
          "output_type": "execute_result",
          "data": {
            "text/plain": [
              "(10, 11, 12, 13, 14)"
            ]
          },
          "metadata": {},
          "execution_count": 28
        }
      ]
    },
    {
      "cell_type": "code",
      "source": [
        "list(t)"
      ],
      "metadata": {
        "colab": {
          "base_uri": "https://localhost:8080/"
        },
        "id": "uxMResnF7ayU",
        "outputId": "3b560dbc-bffa-4162-81ca-cf8600d19a2e"
      },
      "execution_count": 29,
      "outputs": [
        {
          "output_type": "execute_result",
          "data": {
            "text/plain": [
              "[10, 11, 12, 13, 14]"
            ]
          },
          "metadata": {},
          "execution_count": 29
        }
      ]
    },
    {
      "cell_type": "code",
      "source": [
        "t2 = 10, 12, 14, 16, 18\n",
        "t2"
      ],
      "metadata": {
        "colab": {
          "base_uri": "https://localhost:8080/"
        },
        "id": "IL0VBeOk7dXc",
        "outputId": "70be3a57-3864-4b89-d43e-8fe96239cf1f"
      },
      "execution_count": 31,
      "outputs": [
        {
          "output_type": "execute_result",
          "data": {
            "text/plain": [
              "(10, 12, 14, 16, 18)"
            ]
          },
          "metadata": {},
          "execution_count": 31
        }
      ]
    },
    {
      "cell_type": "code",
      "source": [
        "t3 = 10, True, \"집\"\n",
        "t3"
      ],
      "metadata": {
        "colab": {
          "base_uri": "https://localhost:8080/"
        },
        "id": "WrtAzWhA7g3a",
        "outputId": "adab100d-beb7-4715-f386-7e57be68e055"
      },
      "execution_count": 33,
      "outputs": [
        {
          "output_type": "execute_result",
          "data": {
            "text/plain": [
              "(10, True, '집')"
            ]
          },
          "metadata": {},
          "execution_count": 33
        }
      ]
    },
    {
      "cell_type": "code",
      "source": [
        "a = [1, 2, 3, 4]\n",
        "tuple(a)"
      ],
      "metadata": {
        "colab": {
          "base_uri": "https://localhost:8080/"
        },
        "id": "h0eR9Ufv7qAB",
        "outputId": "d423e1c2-df65-4ef4-8168-be56f9c728a3"
      },
      "execution_count": 34,
      "outputs": [
        {
          "output_type": "execute_result",
          "data": {
            "text/plain": [
              "(1, 2, 3, 4)"
            ]
          },
          "metadata": {},
          "execution_count": 34
        }
      ]
    },
    {
      "cell_type": "code",
      "source": [
        "a, b, c = [1, 2, 3]\n",
        "a, b, c"
      ],
      "metadata": {
        "colab": {
          "base_uri": "https://localhost:8080/"
        },
        "id": "NyaImzyt8B7f",
        "outputId": "9be1f6a7-5774-406b-b019-fe8657a61bf6"
      },
      "execution_count": 37,
      "outputs": [
        {
          "output_type": "execute_result",
          "data": {
            "text/plain": [
              "(1, 2, 3)"
            ]
          },
          "metadata": {},
          "execution_count": 37
        }
      ]
    },
    {
      "cell_type": "code",
      "source": [
        "d, e, f = (4, 5, 6)\n",
        "d, e, f"
      ],
      "metadata": {
        "colab": {
          "base_uri": "https://localhost:8080/"
        },
        "id": "DxH8LOea8FP8",
        "outputId": "a3794322-e04a-4a8b-8f0a-d02c4ed88840"
      },
      "execution_count": 38,
      "outputs": [
        {
          "output_type": "execute_result",
          "data": {
            "text/plain": [
              "(4, 5, 6)"
            ]
          },
          "metadata": {},
          "execution_count": 38
        }
      ]
    },
    {
      "cell_type": "code",
      "source": [
        "g = [ 7, 8, 9]\n",
        "h = (10, 11, 12)\n",
        "g, h"
      ],
      "metadata": {
        "colab": {
          "base_uri": "https://localhost:8080/"
        },
        "id": "loQ-I6yn8JuA",
        "outputId": "a90c476c-ba3b-4a61-cab0-197e51ed09be"
      },
      "execution_count": 39,
      "outputs": [
        {
          "output_type": "execute_result",
          "data": {
            "text/plain": [
              "([7, 8, 9], (10, 11, 12))"
            ]
          },
          "metadata": {},
          "execution_count": 39
        }
      ]
    },
    {
      "cell_type": "code",
      "source": [],
      "metadata": {
        "id": "zcIyI_sh8UGX"
      },
      "execution_count": null,
      "outputs": []
    }
  ]
}