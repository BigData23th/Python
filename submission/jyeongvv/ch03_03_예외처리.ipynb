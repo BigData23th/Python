{
  "nbformat": 4,
  "nbformat_minor": 0,
  "metadata": {
    "colab": {
      "provenance": [],
      "include_colab_link": true
    },
    "kernelspec": {
      "name": "python3",
      "display_name": "Python 3"
    },
    "language_info": {
      "name": "python"
    }
  },
  "cells": [
    {
      "cell_type": "markdown",
      "metadata": {
        "id": "view-in-github",
        "colab_type": "text"
      },
      "source": [
        "<a href=\"https://colab.research.google.com/github/jyeongvv/Python_jy/blob/main/submission/jyeongvv/ch03_03_%EC%98%88%EC%99%B8%EC%B2%98%EB%A6%AC.ipynb\" target=\"_parent\"><img src=\"https://colab.research.google.com/assets/colab-badge.svg\" alt=\"Open In Colab\"/></a>"
      ]
    },
    {
      "cell_type": "markdown",
      "source": [
        "# 예외 처리"
      ],
      "metadata": {
        "id": "SXBdlUfQWeyk"
      }
    },
    {
      "cell_type": "markdown",
      "source": [
        "예외(exception)란 코드를 실행하는 중에 발생한 에러를 뜻합니다. 다음과 같이 10을 어떤 값으로 나누는 함수 ten_div가 있을 때 인수에 따라 정상으로 동작하기도 하고 에러가 나기도 합니다."
      ],
      "metadata": {
        "id": "8AICjLSoWdFo"
      }
    },
    {
      "cell_type": "code",
      "execution_count": 1,
      "metadata": {
        "id": "nZTvjpvKWOwa"
      },
      "outputs": [],
      "source": [
        "def ten_div(x: int) -> float:\n",
        "  return 10 / x"
      ]
    },
    {
      "cell_type": "code",
      "source": [
        "ten_div(10)"
      ],
      "metadata": {
        "colab": {
          "base_uri": "https://localhost:8080/"
        },
        "id": "20ZD3c15WsRs",
        "outputId": "de0953f1-02d4-4bb0-89c6-aef6c02dd294"
      },
      "execution_count": 8,
      "outputs": [
        {
          "output_type": "execute_result",
          "data": {
            "text/plain": [
              "1.0"
            ]
          },
          "metadata": {},
          "execution_count": 8
        }
      ]
    },
    {
      "cell_type": "code",
      "source": [
        "ten_div(0)"
      ],
      "metadata": {
        "colab": {
          "base_uri": "https://localhost:8080/",
          "height": 241
        },
        "id": "nRjniMgyXd4X",
        "outputId": "ab511e3b-2cc9-44e6-b0ea-2e5ebf75019c"
      },
      "execution_count": 9,
      "outputs": [
        {
          "output_type": "error",
          "ename": "ZeroDivisionError",
          "evalue": "ignored",
          "traceback": [
            "\u001b[0;31m---------------------------------------------------------------------------\u001b[0m",
            "\u001b[0;31mZeroDivisionError\u001b[0m                         Traceback (most recent call last)",
            "\u001b[0;32m<ipython-input-9-446b4e992a50>\u001b[0m in \u001b[0;36m<module>\u001b[0;34m\u001b[0m\n\u001b[0;32m----> 1\u001b[0;31m \u001b[0mten_div\u001b[0m\u001b[0;34m(\u001b[0m\u001b[0;36m0\u001b[0m\u001b[0;34m)\u001b[0m\u001b[0;34m\u001b[0m\u001b[0;34m\u001b[0m\u001b[0m\n\u001b[0m",
            "\u001b[0;32m<ipython-input-1-326e5e04beb4>\u001b[0m in \u001b[0;36mten_div\u001b[0;34m(x)\u001b[0m\n\u001b[1;32m      1\u001b[0m \u001b[0;32mdef\u001b[0m \u001b[0mten_div\u001b[0m\u001b[0;34m(\u001b[0m\u001b[0mx\u001b[0m\u001b[0;34m:\u001b[0m \u001b[0mint\u001b[0m\u001b[0;34m)\u001b[0m \u001b[0;34m->\u001b[0m \u001b[0mfloat\u001b[0m\u001b[0;34m:\u001b[0m\u001b[0;34m\u001b[0m\u001b[0;34m\u001b[0m\u001b[0m\n\u001b[0;32m----> 2\u001b[0;31m   \u001b[0;32mreturn\u001b[0m \u001b[0;36m10\u001b[0m \u001b[0;34m/\u001b[0m \u001b[0mx\u001b[0m\u001b[0;34m\u001b[0m\u001b[0;34m\u001b[0m\u001b[0m\n\u001b[0m",
            "\u001b[0;31mZeroDivisionError\u001b[0m: division by zero"
          ]
        }
      ]
    },
    {
      "cell_type": "markdown",
      "source": [
        "ZeroDivisionError뿐만 아니라 지금까지 만난 AttributeError, NameError, TypeError 등 다양한 에러들도 모두 예외입니다.\n",
        "\n",
        "이번에는 예외가 발생했을 때도 스크립트 실행을 중단하지 않고 계속 실행하게 해주는 예외 처리 방법에 대해 알아보겠습니다."
      ],
      "metadata": {
        "id": "9DzWQOTWXhGM"
      }
    },
    {
      "cell_type": "markdown",
      "source": [
        "## try except로 사용하기\n",
        "\n",
        "예외 처리를 하려면 다음과 같이 try에 실행할 코드를 넣고 except에 예외가 발생했을 때 처리하는 코드를 넣습니다.\n",
        "\n",
        "```\n",
        "try:\n",
        "    실행할 코드\n",
        "except:\n",
        "    예외가 발생했을 때 처리하는 코드\n",
        "```"
      ],
      "metadata": {
        "id": "6EqAn1POXi85"
      }
    },
    {
      "cell_type": "code",
      "source": [
        "try:\n",
        "  x = int(input('나눌 숫자를 입력하세요 :'))\n",
        "  y = 10 / x\n",
        "  print(y)\n",
        "except: # 만약에 에러가 발생한다면\n",
        "  print(\"예외가 발생\")"
      ],
      "metadata": {
        "colab": {
          "base_uri": "https://localhost:8080/"
        },
        "id": "B6zQAb1BWuJ8",
        "outputId": "2317e4c0-2b2b-490b-e144-7bc48b6c9db3"
      },
      "execution_count": 11,
      "outputs": [
        {
          "output_type": "stream",
          "name": "stdout",
          "text": [
            "나눌 숫자를 입력하세요 :0\n",
            "예외가 발생\n"
          ]
        }
      ]
    },
    {
      "cell_type": "code",
      "source": [
        "  x = int(input('나눌 숫자를 입력하세요 :'))\n",
        "  if x != 0:\n",
        "    y = 10 / x\n",
        "    print(y)"
      ],
      "metadata": {
        "colab": {
          "base_uri": "https://localhost:8080/",
          "height": 241
        },
        "id": "j473b8nkuB-A",
        "outputId": "0dd63173-9017-44f5-f5d8-8811a7168bc3"
      },
      "execution_count": 13,
      "outputs": [
        {
          "name": "stdout",
          "output_type": "stream",
          "text": [
            "나눌 숫자를 입력하세요 :\"0\"\n"
          ]
        },
        {
          "output_type": "error",
          "ename": "ValueError",
          "evalue": "ignored",
          "traceback": [
            "\u001b[0;31m---------------------------------------------------------------------------\u001b[0m",
            "\u001b[0;31mValueError\u001b[0m                                Traceback (most recent call last)",
            "\u001b[0;32m<ipython-input-13-25ad71a53e81>\u001b[0m in \u001b[0;36m<module>\u001b[0;34m\u001b[0m\n\u001b[0;32m----> 1\u001b[0;31m \u001b[0mx\u001b[0m \u001b[0;34m=\u001b[0m \u001b[0mint\u001b[0m\u001b[0;34m(\u001b[0m\u001b[0minput\u001b[0m\u001b[0;34m(\u001b[0m\u001b[0;34m'나눌 숫자를 입력하세요 :'\u001b[0m\u001b[0;34m)\u001b[0m\u001b[0;34m)\u001b[0m\u001b[0;34m\u001b[0m\u001b[0;34m\u001b[0m\u001b[0m\n\u001b[0m\u001b[1;32m      2\u001b[0m \u001b[0;32mif\u001b[0m \u001b[0mx\u001b[0m \u001b[0;34m!=\u001b[0m \u001b[0;36m0\u001b[0m\u001b[0;34m:\u001b[0m\u001b[0;34m\u001b[0m\u001b[0;34m\u001b[0m\u001b[0m\n\u001b[1;32m      3\u001b[0m   \u001b[0my\u001b[0m \u001b[0;34m=\u001b[0m \u001b[0;36m10\u001b[0m \u001b[0;34m/\u001b[0m \u001b[0mx\u001b[0m\u001b[0;34m\u001b[0m\u001b[0;34m\u001b[0m\u001b[0m\n\u001b[1;32m      4\u001b[0m   \u001b[0mprint\u001b[0m\u001b[0;34m(\u001b[0m\u001b[0my\u001b[0m\u001b[0;34m)\u001b[0m\u001b[0;34m\u001b[0m\u001b[0;34m\u001b[0m\u001b[0m\n",
            "\u001b[0;31mValueError\u001b[0m: invalid literal for int() with base 10: '\"0\"'"
          ]
        }
      ]
    },
    {
      "cell_type": "markdown",
      "source": [
        "### 특정 예외만 처리하기"
      ],
      "metadata": {
        "id": "yJhJgpTZmNLR"
      }
    },
    {
      "cell_type": "markdown",
      "source": [
        "이번에는 except에 예외 이름을 지정해서 특정 예외가 발생했을 때만 처리 코드를 실행하도록 만들어보겠습니다.\n",
        "\n",
        "```\n",
        "try:\n",
        "    실행할 코드\n",
        "except 예외이름:\n",
        "    예외가 발생했을 때 처리하는 코드\n",
        "```"
      ],
      "metadata": {
        "id": "QchQpm_gmPni"
      }
    },
    {
      "cell_type": "code",
      "source": [
        "try:\n",
        "  x = int(input('숫자를 입력하세요 : '))\n",
        "  y = 10 / x\n",
        "except ZeroDivisionError:\n",
        "  # print(\"예외 발생\")\n",
        "  print(\"0으로 나눌 수 없습니다\")\n",
        "except ValueError:\n",
        "  print('적절한 값이 아닙니다')\n",
        "except KeyboardInterrupt:\n",
        "  print('강제 종료되었습니다')"
      ],
      "metadata": {
        "colab": {
          "base_uri": "https://localhost:8080/"
        },
        "id": "9-hVOWQbmJfn",
        "outputId": "56f8cf5c-ec81-4a84-9acb-91f74b15a721"
      },
      "execution_count": 20,
      "outputs": [
        {
          "output_type": "stream",
          "name": "stdout",
          "text": [
            "숫자를 입력하세요 : ㄹ\n",
            "적절한 값이 아닙니다\n"
          ]
        }
      ]
    },
    {
      "cell_type": "markdown",
      "source": [
        "### 예외의 에러 메시지 받아오기"
      ],
      "metadata": {
        "id": "0t3SabV0mdDd"
      }
    },
    {
      "cell_type": "markdown",
      "source": [
        "특히 except에서 as 뒤에 변수를 지정하면 발생한 예외의 에러 메시지를 받아올 수 있습니다.\n",
        "\n",
        "```\n",
        "try:\n",
        "    실행할 코드\n",
        "except 예외 as 변수:\n",
        "    예외가 발생했을 때 처리하는 코드\n",
        "```"
      ],
      "metadata": {
        "id": "uLotXEmOv3FL"
      }
    },
    {
      "cell_type": "markdown",
      "source": [
        "앞에서 만든 코드의 except에 as e를 넣습니다. 보통 예외( exception)의 e를 따서 변수 이름을 e로 짓습니다.\n",
        "\n"
      ],
      "metadata": {
        "id": "w3wv_OzAv635"
      }
    },
    {
      "cell_type": "code",
      "source": [
        "10 / 0"
      ],
      "metadata": {
        "colab": {
          "base_uri": "https://localhost:8080/",
          "height": 170
        },
        "id": "N55vguPEv7Pg",
        "outputId": "822d6423-4e79-455d-c462-85effb632124"
      },
      "execution_count": 21,
      "outputs": [
        {
          "output_type": "error",
          "ename": "ZeroDivisionError",
          "evalue": "ignored",
          "traceback": [
            "\u001b[0;31m---------------------------------------------------------------------------\u001b[0m",
            "\u001b[0;31mZeroDivisionError\u001b[0m                         Traceback (most recent call last)",
            "\u001b[0;32m<ipython-input-21-cd759d3fcf39>\u001b[0m in \u001b[0;36m<module>\u001b[0;34m\u001b[0m\n\u001b[0;32m----> 1\u001b[0;31m \u001b[0;36m10\u001b[0m \u001b[0;34m/\u001b[0m \u001b[0;36m0\u001b[0m\u001b[0;34m\u001b[0m\u001b[0;34m\u001b[0m\u001b[0m\n\u001b[0m",
            "\u001b[0;31mZeroDivisionError\u001b[0m: division by zero"
          ]
        }
      ]
    },
    {
      "cell_type": "code",
      "source": [
        "a = {}\n",
        "a['memo']"
      ],
      "metadata": {
        "colab": {
          "base_uri": "https://localhost:8080/",
          "height": 188
        },
        "id": "VHwqA9qGwFIj",
        "outputId": "42b0d56e-2318-4287-9469-a115ea69c03b"
      },
      "execution_count": 22,
      "outputs": [
        {
          "output_type": "error",
          "ename": "KeyError",
          "evalue": "ignored",
          "traceback": [
            "\u001b[0;31m---------------------------------------------------------------------------\u001b[0m",
            "\u001b[0;31mKeyError\u001b[0m                                  Traceback (most recent call last)",
            "\u001b[0;32m<ipython-input-22-cbbb7764614e>\u001b[0m in \u001b[0;36m<module>\u001b[0;34m\u001b[0m\n\u001b[1;32m      1\u001b[0m \u001b[0ma\u001b[0m \u001b[0;34m=\u001b[0m \u001b[0;34m{\u001b[0m\u001b[0;34m}\u001b[0m\u001b[0;34m\u001b[0m\u001b[0;34m\u001b[0m\u001b[0m\n\u001b[0;32m----> 2\u001b[0;31m \u001b[0ma\u001b[0m\u001b[0;34m[\u001b[0m\u001b[0;34m'memo'\u001b[0m\u001b[0;34m]\u001b[0m\u001b[0;34m\u001b[0m\u001b[0;34m\u001b[0m\u001b[0m\n\u001b[0m",
            "\u001b[0;31mKeyError\u001b[0m: 'memo'"
          ]
        }
      ]
    },
    {
      "cell_type": "code",
      "source": [
        "try:\n",
        "  a = {'a': 1, 'b': 2}\n",
        "  a['a'], a['b'], a['memo']"
      ],
      "metadata": {
        "colab": {
          "base_uri": "https://localhost:8080/",
          "height": 134
        },
        "id": "sgyscNvywtac",
        "outputId": "b5a77918-2f9b-4cb8-a051-768587240b57"
      },
      "execution_count": 23,
      "outputs": [
        {
          "output_type": "error",
          "ename": "SyntaxError",
          "evalue": "ignored",
          "traceback": [
            "\u001b[0;36m  File \u001b[0;32m\"<ipython-input-23-41ab9e206876>\"\u001b[0;36m, line \u001b[0;32m2\u001b[0m\n\u001b[0;31m    a =\u001b[0m\n\u001b[0m        ^\u001b[0m\n\u001b[0;31mSyntaxError\u001b[0m\u001b[0;31m:\u001b[0m invalid syntax\n"
          ]
        }
      ]
    },
    {
      "cell_type": "markdown",
      "source": [
        "참고로 모든 예외의 에러 메시지를 출력하고 싶다면 다음과 같이 except에 Exception을 지정하고 as 뒤에 변수를 넣으면 됩니다.\n",
        "\n",
        "```\n",
        "except Exception as e:    # 모든 예외의 에러 메시지를 출력할 때는 Exception을 사용\n",
        "    print('예외가 발생했습니다.', e)\n",
        "```\n",
        "\n",
        "이처럼 예외 처리는 에러가 발생하더라도 스크립트의 실행을 중단시키지 않고 계속 실행하고자 할 때 사용합니다."
      ],
      "metadata": {
        "id": "KEd4hZcPwCvD"
      }
    },
    {
      "cell_type": "markdown",
      "source": [
        "## else와 finally 사용하기"
      ],
      "metadata": {
        "id": "r5Qr2YbHwK5Y"
      }
    },
    {
      "cell_type": "markdown",
      "source": [
        "이번에는 예외가 발생하지 않았을 때 코드를 실행하는 else를 사용해보겠습니다. 다음과 같이 else는 except 바로 다음에 와야 하며 except를 생략할 수 없습니다.\n",
        "\n",
        "```\n",
        "try:\n",
        "    실행할 코드\n",
        "except:\n",
        "    예외가 발생했을 때 처리하는 코드\n",
        "else:\n",
        "    예외가 발생하지 않았을 때 실행할 코드\n",
        "```"
      ],
      "metadata": {
        "id": "-H79eDcfwMxn"
      }
    },
    {
      "cell_type": "code",
      "source": [
        "try:\n",
        "  x = int(input('숫자를 입력하세요 : '))\n",
        "  y = 10 / x\n",
        "  # print(y)\n",
        "except ZeroDivisionError:\n",
        "  # print(\"예외 발생\")\n",
        "  print(\"0으로 나눌 수 없습니다\")\n",
        "except ValueError:\n",
        "  print('적절한 값이 아닙니다')\n",
        "except KeyboardInterrupt:\n",
        "  print('강제 종료되었습니다')\n",
        "# else:\n",
        "  # print(y)"
      ],
      "metadata": {
        "colab": {
          "base_uri": "https://localhost:8080/"
        },
        "id": "8ghXm6Jyv9FP",
        "outputId": "dcd9f332-29a2-4b77-b895-df4a25dbe5a3"
      },
      "execution_count": 25,
      "outputs": [
        {
          "output_type": "stream",
          "name": "stdout",
          "text": [
            "숫자를 입력하세요 : 0\n",
            "0으로 나눌 수 없습니다\n"
          ]
        }
      ]
    },
    {
      "cell_type": "code",
      "source": [
        "try:\n",
        "  x = int(input('숫자를 입력하세요 : '))\n",
        "  y = 10 / x\n",
        "  # print(y)\n",
        "except ZeroDivisionError:\n",
        "  # print(\"예외 발생\")\n",
        "  print(\"0으로 나눌 수 없습니다\")\n",
        "except ValueError:\n",
        "  print('적절한 값이 아닙니다')\n",
        "except KeyboardInterrupt:\n",
        "  print('강제 종료되었습니다')\n",
        "# else:\n",
        "  # print(y)\n",
        "print(y)"
      ],
      "metadata": {
        "colab": {
          "base_uri": "https://localhost:8080/"
        },
        "id": "uFnNX3WYyNw6",
        "outputId": "4e5ca23c-26d0-4af2-e424-2010f4ed1daf"
      },
      "execution_count": 26,
      "outputs": [
        {
          "output_type": "stream",
          "name": "stdout",
          "text": [
            "숫자를 입력하세요 : 0\n",
            "0으로 나눌 수 없습니다\n",
            "3.3333333333333335\n"
          ]
        }
      ]
    },
    {
      "cell_type": "code",
      "source": [
        "try:\n",
        "  x1 = int(input('숫자를 입력하세요 : '))\n",
        "  print(x1)\n",
        "  x2 = int(input('숫자를 입력하세요 : '))\n",
        "  print(x2)\n",
        "  y = x1 / x2\n",
        "  print(y)\n",
        "except ZeroDivisionError:\n",
        "  # print(\"예외 발생\")\n",
        "  print(\"0으로 나눌 수 없습니다\")\n",
        "except ValueError:\n",
        "  print('적절한 값이 아닙니다')\n",
        "except KeyboardInterrupt:\n",
        "  print('강제 종료되었습니다')\n",
        "else:\n",
        "  print(x1)\n",
        "  print(x2)\n",
        "  print(y)"
      ],
      "metadata": {
        "colab": {
          "base_uri": "https://localhost:8080/"
        },
        "id": "wGLEV7rVyauD",
        "outputId": "69769715-69bb-440e-f5cf-d457b733f811"
      },
      "execution_count": 28,
      "outputs": [
        {
          "output_type": "stream",
          "name": "stdout",
          "text": [
            "숫자를 입력하세요 : 3\n",
            "3\n",
            "숫자를 입력하세요 : wow\n",
            "적절한 값이 아닙니다\n"
          ]
        }
      ]
    },
    {
      "cell_type": "markdown",
      "source": [
        "### 예외와는 상관없이 항상 코드 실행하기"
      ],
      "metadata": {
        "id": "3yX2SIOAxHAf"
      }
    },
    {
      "cell_type": "markdown",
      "source": [
        "이번에는 예외 발생 여부와 상관없이 항상 코드를 실행하는 finally를 사용해보겠습니다. 특히 finally는 except와 else를 생략할 수 있습니다.\n",
        "\n",
        "```\n",
        "try:\n",
        "    실행할 코드\n",
        "except:\n",
        "    예외가 발생했을 때 처리하는 코드\n",
        "else:\n",
        "    예외가 발생하지 않았을 때 실행할 코드\n",
        "finally:\n",
        "    예외 발생 여부와 상관없이 항상 실행할 코드\n",
        "```"
      ],
      "metadata": {
        "id": "nkMgYxPuxJkj"
      }
    },
    {
      "cell_type": "code",
      "source": [
        "try:\n",
        "  x1 = int(input('숫자를 입력하세요 : '))\n",
        "  print(x1)\n",
        "  x2 = int(input('숫자를 입력하세요 : '))\n",
        "  print(x2)\n",
        "  y = x1 / x2\n",
        "  print(y)\n",
        "except ZeroDivisionError:\n",
        "  # print(\"예외 발생\")\n",
        "  print(\"0으로 나눌 수 없습니다\")\n",
        "except ValueError:\n",
        "  print('적절한 값이 아닙니다')\n",
        "except KeyboardInterrupt:\n",
        "  print('강제 종료되었습니다')\n",
        "else:\n",
        "  print(x1)\n",
        "  print(x2)\n",
        "  print(y)\n",
        "finally: # 실행 보장 -> 무조건 나옴\n",
        "  print('코드 실행 완료')"
      ],
      "metadata": {
        "id": "wuAFmc3-xOBg",
        "colab": {
          "base_uri": "https://localhost:8080/"
        },
        "outputId": "be84cf22-3ba5-4e8e-94da-1602452fee59"
      },
      "execution_count": 29,
      "outputs": [
        {
          "output_type": "stream",
          "name": "stdout",
          "text": [
            "숫자를 입력하세요 : ㅂ\n",
            "적절한 값이 아닙니다\n",
            "코드 실행 완료\n"
          ]
        }
      ]
    },
    {
      "cell_type": "markdown",
      "source": [
        "## 예외 발생시키기"
      ],
      "metadata": {
        "id": "OYDw3cdixXwh"
      }
    },
    {
      "cell_type": "markdown",
      "source": [
        "지금까지 숫자를 0으로 나눴을 때 에러, 리스트의 범위를 벗어난 인덱스에 접근했을 때 에러 등 파이썬에서 정해진 예외만 처리했습니다. 이번에는 우리가 직접 예외를 발생시켜 보겠습니다.\n",
        "\n",
        "예외를 발생시킬 때는 raise에 예외를 지정하고 에러 메시지를 넣습니다(에러 메시지는 생략할 수 있음).\n",
        "\n",
        "* `raise 예외('에러메시지')`"
      ],
      "metadata": {
        "id": "MKK5duR8xNn7"
      }
    },
    {
      "cell_type": "code",
      "source": [
        "def handle_customer():\n",
        "  print('안녕하세요 고객님, 이자율을 계산해드리겠습니다')\n",
        "  result = calculate_interest()\n",
        "  print(f\"계산결과는 {result}입니다\")\n",
        "\n",
        "def calculate_interest():\n",
        "  money = int(input('원금을 입력해주세요 :'))\n",
        "  rate = int(input('이자율을 입력해주세요 :'))\n",
        "  year = int(input('투자기간을 입력해주세요 :'))\n",
        "  if money <= 0:\n",
        "    print('원금이 0 이하 입니다')\n",
        "  if rate <= 0:\n",
        "    print('이자율이 0 이하 입니다')\n",
        "  if year <= 0:\n",
        "    print('투자기간이 0 이하 입니다')\n",
        "  return money * rate * y"
      ],
      "metadata": {
        "id": "jZ1ypbYfxeZn"
      },
      "execution_count": 36,
      "outputs": []
    },
    {
      "cell_type": "code",
      "source": [
        "handle_customer()"
      ],
      "metadata": {
        "colab": {
          "base_uri": "https://localhost:8080/",
          "height": 390
        },
        "id": "t4ggSuq915iC",
        "outputId": "87391b38-8be1-47d6-b157-15a572329c07"
      },
      "execution_count": 37,
      "outputs": [
        {
          "name": "stdout",
          "output_type": "stream",
          "text": [
            "안녕하세요 고객님, 이자율을 계산해드리겠습니다\n",
            "원금을 입력해주세요 :0\n",
            "이자율을 입력해주세요 :3\n",
            "투자기간을 입력해주세요 :e\n"
          ]
        },
        {
          "output_type": "error",
          "ename": "ValueError",
          "evalue": "ignored",
          "traceback": [
            "\u001b[0;31m---------------------------------------------------------------------------\u001b[0m",
            "\u001b[0;31mValueError\u001b[0m                                Traceback (most recent call last)",
            "\u001b[0;32m<ipython-input-37-70a3e5c19c2a>\u001b[0m in \u001b[0;36m<module>\u001b[0;34m\u001b[0m\n\u001b[0;32m----> 1\u001b[0;31m \u001b[0mhandle_customer\u001b[0m\u001b[0;34m(\u001b[0m\u001b[0;34m)\u001b[0m\u001b[0;34m\u001b[0m\u001b[0;34m\u001b[0m\u001b[0m\n\u001b[0m",
            "\u001b[0;32m<ipython-input-36-74f854048afc>\u001b[0m in \u001b[0;36mhandle_customer\u001b[0;34m()\u001b[0m\n\u001b[1;32m      1\u001b[0m \u001b[0;32mdef\u001b[0m \u001b[0mhandle_customer\u001b[0m\u001b[0;34m(\u001b[0m\u001b[0;34m)\u001b[0m\u001b[0;34m:\u001b[0m\u001b[0;34m\u001b[0m\u001b[0;34m\u001b[0m\u001b[0m\n\u001b[1;32m      2\u001b[0m   \u001b[0mprint\u001b[0m\u001b[0;34m(\u001b[0m\u001b[0;34m'안녕하세요 고객님, 이자율을 계산해드리겠습니다'\u001b[0m\u001b[0;34m)\u001b[0m\u001b[0;34m\u001b[0m\u001b[0;34m\u001b[0m\u001b[0m\n\u001b[0;32m----> 3\u001b[0;31m   \u001b[0mresult\u001b[0m \u001b[0;34m=\u001b[0m \u001b[0mcalculate_interest\u001b[0m\u001b[0;34m(\u001b[0m\u001b[0;34m)\u001b[0m\u001b[0;34m\u001b[0m\u001b[0;34m\u001b[0m\u001b[0m\n\u001b[0m\u001b[1;32m      4\u001b[0m   \u001b[0mprint\u001b[0m\u001b[0;34m(\u001b[0m\u001b[0;34mf\"계산결과는 {result}입니다\"\u001b[0m\u001b[0;34m)\u001b[0m\u001b[0;34m\u001b[0m\u001b[0;34m\u001b[0m\u001b[0m\n\u001b[1;32m      5\u001b[0m \u001b[0;34m\u001b[0m\u001b[0m\n",
            "\u001b[0;32m<ipython-input-36-74f854048afc>\u001b[0m in \u001b[0;36mcalculate_interest\u001b[0;34m()\u001b[0m\n\u001b[1;32m      7\u001b[0m   \u001b[0mmoney\u001b[0m \u001b[0;34m=\u001b[0m \u001b[0mint\u001b[0m\u001b[0;34m(\u001b[0m\u001b[0minput\u001b[0m\u001b[0;34m(\u001b[0m\u001b[0;34m'원금을 입력해주세요 :'\u001b[0m\u001b[0;34m)\u001b[0m\u001b[0;34m)\u001b[0m\u001b[0;34m\u001b[0m\u001b[0;34m\u001b[0m\u001b[0m\n\u001b[1;32m      8\u001b[0m   \u001b[0mrate\u001b[0m \u001b[0;34m=\u001b[0m \u001b[0mint\u001b[0m\u001b[0;34m(\u001b[0m\u001b[0minput\u001b[0m\u001b[0;34m(\u001b[0m\u001b[0;34m'이자율을 입력해주세요 :'\u001b[0m\u001b[0;34m)\u001b[0m\u001b[0;34m)\u001b[0m\u001b[0;34m\u001b[0m\u001b[0;34m\u001b[0m\u001b[0m\n\u001b[0;32m----> 9\u001b[0;31m   \u001b[0myear\u001b[0m \u001b[0;34m=\u001b[0m \u001b[0mint\u001b[0m\u001b[0;34m(\u001b[0m\u001b[0minput\u001b[0m\u001b[0;34m(\u001b[0m\u001b[0;34m'투자기간을 입력해주세요 :'\u001b[0m\u001b[0;34m)\u001b[0m\u001b[0;34m)\u001b[0m\u001b[0;34m\u001b[0m\u001b[0;34m\u001b[0m\u001b[0m\n\u001b[0m\u001b[1;32m     10\u001b[0m   \u001b[0;32mif\u001b[0m \u001b[0mmoney\u001b[0m \u001b[0;34m<=\u001b[0m \u001b[0;36m0\u001b[0m\u001b[0;34m:\u001b[0m\u001b[0;34m\u001b[0m\u001b[0;34m\u001b[0m\u001b[0m\n\u001b[1;32m     11\u001b[0m     \u001b[0mprint\u001b[0m\u001b[0;34m(\u001b[0m\u001b[0;34m'원금이 0 이하 입니다'\u001b[0m\u001b[0;34m)\u001b[0m\u001b[0;34m\u001b[0m\u001b[0;34m\u001b[0m\u001b[0m\n",
            "\u001b[0;31mValueError\u001b[0m: invalid literal for int() with base 10: 'e'"
          ]
        }
      ]
    },
    {
      "cell_type": "code",
      "source": [
        "def handle_customer():\n",
        "  print('안녕하세요 고객님, 이자율을 계산해드리겠습니다')\n",
        "  result = calculate_interest()\n",
        "  print(f\"계산결과는 {result}입니다\")\n",
        "\n",
        "def calculate_interest():\n",
        "  money = int(input('원금을 입력해주세요 :'))\n",
        "  if money <= 0:\n",
        "    # print('원금이 0 이하 입니다')\n",
        "     raise Exception('원금이 0 이하 입니다')\n",
        "rate = int(input('이자율을 입력해주세요 :'))  \n",
        "  if rate <= 0:\n",
        "    # print('이자율이 0 이하 입니다')\n",
        "     raise Exception('이자율이 0 이하 입니다')\n",
        "year = int(input('투자기간을 입력해주세요 :'))  \n",
        "  if year <= 0:\n",
        "    # print('투자기간이 0 이하 입니다')\n",
        "    raise Exception('투자기간이 0 이하 입니다')\n",
        "  return money * rate * y\n",
        "\n",
        "handle_customer()"
      ],
      "metadata": {
        "id": "ztFcMBUt18n5"
      },
      "execution_count": null,
      "outputs": []
    },
    {
      "cell_type": "markdown",
      "source": [
        "### raise의 처리 과정"
      ],
      "metadata": {
        "id": "1YHWE6RIxmxc"
      }
    },
    {
      "cell_type": "markdown",
      "source": [
        "이번에는 raise의 처리 과정을 알아보겠습니다. 다음은 함수 안에서 raise를 사용하지만 함수 안에는 try except가 없는 상태입니다"
      ],
      "metadata": {
        "id": "Z2YAeHrbxqg1"
      }
    },
    {
      "cell_type": "code",
      "source": [
        "def three_multiple():\n",
        "  x = int(input('3의 배수를 입력하세요 : '))\n",
        "  if "
      ],
      "metadata": {
        "colab": {
          "base_uri": "https://localhost:8080/"
        },
        "id": "BH5I2kYZxr4k",
        "outputId": "942f7e26-c5c6-4a68-e593-557dbbcabfe8"
      },
      "execution_count": null,
      "outputs": [
        {
          "output_type": "stream",
          "name": "stdout",
          "text": [
            "3의 배수를 입력하세요: 5\n",
            "예외가 발생했습니다. 3의 배수가 아닙니다.\n"
          ]
        }
      ]
    },
    {
      "cell_type": "markdown",
      "source": [
        "안에 try except가 없는 상태에서 raise로 예외를 발생시켰습니다. 이렇게 되면 함수 바깥에 있는 except에서 예외가 처리됩니다. 즉, 예외가 발생하더라도 현재 코드 블록에서 처리해줄 except가 없다면 except가 나올 때까지 계속 상위 코드 블록으로 올라갑니다.\n",
        "\n",
        "만약 함수 바깥에도 처리해줄 except가 없다면 코드 실행은 중지되고 에러가 표시됩니다."
      ],
      "metadata": {
        "id": "79FxvqMFx1Yt"
      }
    },
    {
      "cell_type": "code",
      "source": [
        "three_multiple()"
      ],
      "metadata": {
        "colab": {
          "base_uri": "https://localhost:8080/",
          "height": 321
        },
        "id": "a0ZYYsmXx3_0",
        "outputId": "1c5c8eaa-cda5-40c5-83cf-8374a7b9f678"
      },
      "execution_count": null,
      "outputs": [
        {
          "name": "stdout",
          "output_type": "stream",
          "text": [
            "3의 배수를 입력하세요: 5\n"
          ]
        },
        {
          "output_type": "error",
          "ename": "Exception",
          "evalue": "ignored",
          "traceback": [
            "\u001b[0;31m---------------------------------------------------------------------------\u001b[0m",
            "\u001b[0;31mException\u001b[0m                                 Traceback (most recent call last)",
            "\u001b[0;32m<ipython-input-11-694f7cb1b1f4>\u001b[0m in \u001b[0;36m<module>\u001b[0;34m\u001b[0m\n\u001b[0;32m----> 1\u001b[0;31m \u001b[0mthree_multiple\u001b[0m\u001b[0;34m(\u001b[0m\u001b[0;34m)\u001b[0m\u001b[0;34m\u001b[0m\u001b[0;34m\u001b[0m\u001b[0m\n\u001b[0m",
            "\u001b[0;32m<ipython-input-10-27b361165da6>\u001b[0m in \u001b[0;36mthree_multiple\u001b[0;34m()\u001b[0m\n\u001b[1;32m      2\u001b[0m     \u001b[0mx\u001b[0m \u001b[0;34m=\u001b[0m \u001b[0mint\u001b[0m\u001b[0;34m(\u001b[0m\u001b[0minput\u001b[0m\u001b[0;34m(\u001b[0m\u001b[0;34m'3의 배수를 입력하세요: '\u001b[0m\u001b[0;34m)\u001b[0m\u001b[0;34m)\u001b[0m\u001b[0;34m\u001b[0m\u001b[0;34m\u001b[0m\u001b[0m\n\u001b[1;32m      3\u001b[0m     \u001b[0;32mif\u001b[0m \u001b[0mx\u001b[0m \u001b[0;34m%\u001b[0m \u001b[0;36m3\u001b[0m \u001b[0;34m!=\u001b[0m \u001b[0;36m0\u001b[0m\u001b[0;34m:\u001b[0m                                 \u001b[0;31m# x가 3의 배수가 아니면\u001b[0m\u001b[0;34m\u001b[0m\u001b[0;34m\u001b[0m\u001b[0m\n\u001b[0;32m----> 4\u001b[0;31m         \u001b[0;32mraise\u001b[0m \u001b[0mException\u001b[0m\u001b[0;34m(\u001b[0m\u001b[0;34m'3의 배수가 아닙니다.'\u001b[0m\u001b[0;34m)\u001b[0m    \u001b[0;31m# 예외를 발생시킴\u001b[0m\u001b[0;34m\u001b[0m\u001b[0;34m\u001b[0m\u001b[0m\n\u001b[0m\u001b[1;32m      5\u001b[0m     \u001b[0mprint\u001b[0m\u001b[0;34m(\u001b[0m\u001b[0mx\u001b[0m\u001b[0;34m)\u001b[0m                                       \u001b[0;31m# 현재 함수 안에는 except가 없으므로\u001b[0m\u001b[0;34m\u001b[0m\u001b[0;34m\u001b[0m\u001b[0m\n\u001b[1;32m      6\u001b[0m                                                    \u001b[0;31m# 예외를 상위 코드 블록으로 넘김\u001b[0m\u001b[0;34m\u001b[0m\u001b[0;34m\u001b[0m\u001b[0;34m\u001b[0m\u001b[0m\n",
            "\u001b[0;31mException\u001b[0m: 3의 배수가 아닙니다."
          ]
        }
      ]
    },
    {
      "cell_type": "markdown",
      "source": [
        "### 현재 예외를 다시 발생시키기"
      ],
      "metadata": {
        "id": "_tze9kcfx9Zq"
      }
    },
    {
      "cell_type": "markdown",
      "source": [
        "이번에는 try except에서 처리한 예외를 다시 발생시키는 방법입니다. except 안에서 raise를 사용하면 현재 예외를 다시 발생시킵니다(re-raise).\n",
        "\n",
        "* `raise`"
      ],
      "metadata": {
        "id": "sLMCHj3-x_WT"
      }
    },
    {
      "cell_type": "code",
      "source": [
        "def presentation_layer(): # 화면\n",
        "  try:\n",
        "    return service_layer()\n",
        "  except Exception as e:\n",
        "    print(f\"** {e}\")\n",
        "    print(\"화면 : 에러가 발생됨\")\n",
        "\n",
        "\n",
        "def service_layer(): # 서버\n",
        "  try:\n",
        "      return data_access_layer()\n",
        "  except Exception as e:\n",
        "     print(f\"** {e}\")\n",
        "     print(\"서버 : 에러가 발생됨\")\n",
        "     raise e\n",
        "\n",
        "def data_access_layer(): # DB\n",
        "  raise Exception(\"DB : 에러가 발생됨\")\n",
        "  return 0\n",
        "\n",
        "presentation_layer()"
      ],
      "metadata": {
        "colab": {
          "base_uri": "https://localhost:8080/"
        },
        "id": "-eqXzhTqyCuX",
        "outputId": "86604f74-d66a-49f9-a598-6fa7065f2cec"
      },
      "execution_count": 42,
      "outputs": [
        {
          "output_type": "stream",
          "name": "stdout",
          "text": [
            "** DB : 에러가 발생됨\n",
            "서버 : 에러가 발생됨\n",
            "** DB : 에러가 발생됨\n",
            "화면 : 에러가 발생됨\n"
          ]
        }
      ]
    },
    {
      "cell_type": "markdown",
      "source": [
        "함수 안에서 발생한 예외를 함수 안의 except에서 한 번 처리하고, raise로 예외를 다시 발생시켜서 상위 코드 블록으로 넘겼습니다. 그다음에 함수 바깥의 except에서 예외를 처리했습니다. 이런 방식으로 같은 예외를 계속 처리해줄 수 있습니다.\n",
        "\n",
        "참고로 raise만 사용하면 같은 예외를 상위 코드 블록으로 넘기지만 raise에 다른 예외를 지정하고 에러 메시지를 넣을 수도 있습니다."
      ],
      "metadata": {
        "id": "77Wr3gl6yGtj"
      }
    },
    {
      "cell_type": "markdown",
      "source": [
        "## 예외 만들기"
      ],
      "metadata": {
        "id": "KnaAyJl4ybLj"
      }
    },
    {
      "cell_type": "markdown",
      "source": [
        "프로그래머가 직접 만든 예외를 사용자 정의 예외라고 합니다."
      ],
      "metadata": {
        "id": "t_ST3RQhyeCd"
      }
    },
    {
      "cell_type": "markdown",
      "source": [
        "예외를 만드는 방법은 간단합니다. 그냥 Exception을 상속받아서 새로운 클래스를 만들면 됩니다. 그리고 `__init__` 메서드에서 기반 클래스의 `__init__` 메서드를 호출하면서 에러 메시지를 넣어주면 됩니다.\n",
        "\n",
        "```\n",
        "class 예외이름(Exception):\n",
        "    def __init__(self):\n",
        "        super().__init__('에러메시지')\n",
        "```"
      ],
      "metadata": {
        "id": "mUdQjOVVyfT9"
      }
    },
    {
      "cell_type": "code",
      "source": [
        "class NachoStore:\n",
        "  def __init__(self) -> None:\n",
        "    self.storage = 10\n",
        "\n",
        "  def make_nacho(self, count):\n",
        "    if self.storage <= count:\n",
        "      # raise Exception('나초 재료가 떨어졌습니다')\n",
        "      raise NoStorageError()\n",
        "    if count < 0:\n",
        "      raise NoCountError()\n",
        "    print(f\"나초 나왔습니다. {count}개\")\n",
        "    self.storage -= count\n",
        "\n",
        "class NoStorageError(Exception):\n",
        "  def __init__(self) -> None:\n",
        "    super().__init__('나초 재료가 떨어졌습니다')\n",
        "\n",
        "class NoCountError(Exception):\n",
        "  def __init__(self) -> None:\n",
        "    super().__init__('0이상으로 주문해주세요')\n",
        "\n",
        "\n",
        "try:\n",
        "  x = int(input('몇개 주문하시겠습니까?'))\n",
        "  store = NachoStore()\n",
        "  store.make_nacho(x)\n",
        "except NoStorageError as e:\n",
        "  print('나초 재료가 없으니 장사를 접자!')\n",
        "except Exception as e:\n",
        "  print('알 수 없는 에러가 일어났습니다')\n",
        "except NoCountError as e:\n",
        "  print('e')"
      ],
      "metadata": {
        "colab": {
          "base_uri": "https://localhost:8080/"
        },
        "id": "bKSnUvgYyqmT",
        "outputId": "e7b00826-5923-4484-9b25-9ad2843c6a20"
      },
      "execution_count": 51,
      "outputs": [
        {
          "output_type": "stream",
          "name": "stdout",
          "text": [
            "몇개 주문하시겠습니까?-1\n",
            "알 수 없는 에러가 일어났습니다\n"
          ]
        }
      ]
    },
    {
      "cell_type": "markdown",
      "source": [
        "참고로 다음과 같이 Exception만 상속받고 pass를 넣어서 아무것도 구현하지 않아도 됩니다."
      ],
      "metadata": {
        "id": "PiCQtohqyvOJ"
      }
    },
    {
      "cell_type": "code",
      "source": [
        "class NoCountError(Exception):\n",
        "  pass"
      ],
      "metadata": {
        "id": "yf50GygbyrDQ"
      },
      "execution_count": 52,
      "outputs": []
    },
    {
      "cell_type": "code",
      "source": [
        "# 이때는 예외를 발생시킬 때 에러 메시지를 넣어주면 됩니다.\n",
        "print(NoCountError)"
      ],
      "metadata": {
        "colab": {
          "base_uri": "https://localhost:8080/"
        },
        "id": "4Teubz8pyxdt",
        "outputId": "417e1a9c-289e-417b-c900-9962dfed32bb"
      },
      "execution_count": 53,
      "outputs": [
        {
          "output_type": "stream",
          "name": "stdout",
          "text": [
            "<class '__main__.NoCountError'>\n"
          ]
        }
      ]
    }
  ]
}