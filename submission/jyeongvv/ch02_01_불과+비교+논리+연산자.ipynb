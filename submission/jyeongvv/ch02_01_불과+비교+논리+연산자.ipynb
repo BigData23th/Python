{
  "nbformat": 4,
  "nbformat_minor": 0,
  "metadata": {
    "colab": {
      "provenance": [],
      "include_colab_link": true
    },
    "kernelspec": {
      "name": "python3",
      "display_name": "Python 3"
    },
    "language_info": {
      "name": "python"
    }
  },
  "cells": [
    {
      "cell_type": "markdown",
      "metadata": {
        "id": "view-in-github",
        "colab_type": "text"
      },
      "source": [
        "<a href=\"https://colab.research.google.com/github/jyeongvv/Python_jy/blob/main/submission/jyeongvv/ch02_01_%EB%B6%88%EA%B3%BC%2B%EB%B9%84%EA%B5%90%2B%EB%85%BC%EB%A6%AC%2B%EC%97%B0%EC%82%B0%EC%9E%90.ipynb\" target=\"_parent\"><img src=\"https://colab.research.google.com/assets/colab-badge.svg\" alt=\"Open In Colab\"/></a>"
      ]
    },
    {
      "cell_type": "markdown",
      "source": [
        "# 불과 비교, 논리 연산자"
      ],
      "metadata": {
        "id": "v6Jmzk1w7z3P"
      }
    },
    {
      "cell_type": "markdown",
      "source": [
        "## 불과 비교 연산자 사용하기"
      ],
      "metadata": {
        "id": "bkxhmLXW744g"
      }
    },
    {
      "cell_type": "markdown",
      "source": [
        "* 프로그래밍을 하다 보면 참, 거짓을 판단해야 할 때가 많습니다. 참은 무엇인가가 맞다, 거짓은 틀리다(아니다)를 표현합니다.\n",
        "\n",
        "* 이번에는 참(True), 거짓(False)을 나타내는 불(boolean)을 알아보겠습니다. 그리고 두 값의 관계를 판단하는 비교 연산자와 두 값의 논릿값을 판단하는 논리 연산자도 함께 알아보겠습니다.\n",
        "\n",
        "* 여기서 비교, 논리 연산자는 프로그래밍에서 매우 광범위하게 쓰입니다. 특히 앞으로 배울 if, while 구문을 작성할 때 비교, 논리 연산자를 자주 사용합니다."
      ],
      "metadata": {
        "id": "t2CK-l1N78CN"
      }
    },
    {
      "cell_type": "code",
      "source": [
        "int(True), int(False)"
      ],
      "metadata": {
        "colab": {
          "base_uri": "https://localhost:8080/"
        },
        "id": "CX9j4-ansRTk",
        "outputId": "db944cc7-7358-47e8-de76-d7137d2bbb5d"
      },
      "execution_count": 1,
      "outputs": [
        {
          "output_type": "execute_result",
          "data": {
            "text/plain": [
              "(1, 0)"
            ]
          },
          "metadata": {},
          "execution_count": 1
        }
      ]
    },
    {
      "cell_type": "code",
      "execution_count": null,
      "metadata": {
        "colab": {
          "base_uri": "https://localhost:8080/"
        },
        "id": "ransbEYH7vej",
        "outputId": "06c03c48-e3e8-42df-8e24-b8392b3166c3"
      },
      "outputs": [
        {
          "output_type": "execute_result",
          "data": {
            "text/plain": [
              "(True, False)"
            ]
          },
          "metadata": {},
          "execution_count": 1
        }
      ],
      "source": [
        "# 불은 True, False로 표현하며 1, 3.6, 'Python'처럼 값의 일종\n",
        "True, False # true, false X (java, c)"
      ]
    },
    {
      "cell_type": "markdown",
      "source": [
        "### 비교 연산자의 판단 결과"
      ],
      "metadata": {
        "id": "p9NtI5JO8HeC"
      }
    },
    {
      "cell_type": "markdown",
      "source": [
        "* 파이썬에서는 비교 연산자와 논리 연산자의 판단 결과로 True, False를 사용합니다. 즉, 비교 결과가 맞으면 True, 아니면 False입니다."
      ],
      "metadata": {
        "id": "asgRbPl_8K-2"
      }
    },
    {
      "cell_type": "code",
      "source": [
        "10 > 5"
      ],
      "metadata": {
        "colab": {
          "base_uri": "https://localhost:8080/"
        },
        "id": "1meAx_QL8FDD",
        "outputId": "de710e82-1240-4502-f1f3-de7791f8bb73"
      },
      "execution_count": 3,
      "outputs": [
        {
          "output_type": "execute_result",
          "data": {
            "text/plain": [
              "True"
            ]
          },
          "metadata": {},
          "execution_count": 3
        }
      ]
    },
    {
      "cell_type": "code",
      "source": [
        "10 < 5"
      ],
      "metadata": {
        "colab": {
          "base_uri": "https://localhost:8080/"
        },
        "id": "MA7SmcAus7s1",
        "outputId": "da665246-c807-40c6-be73-e27b503a5e01"
      },
      "execution_count": 4,
      "outputs": [
        {
          "output_type": "execute_result",
          "data": {
            "text/plain": [
              "False"
            ]
          },
          "metadata": {},
          "execution_count": 4
        }
      ]
    },
    {
      "cell_type": "markdown",
      "source": [
        "### 숫자가 같은지 다른지 비교하기"
      ],
      "metadata": {
        "id": "l93GfkAK8Rwp"
      }
    },
    {
      "cell_type": "markdown",
      "source": [
        "* 이제 두 숫자가 같은지 또는 다른지 비교해보겠습니다. 두 숫자가 같은지 비교할 때는 ==(equal), 다른지 비교할 때는 !=(not equal)을 사용합니다."
      ],
      "metadata": {
        "id": "lddOoWJi8TyS"
      }
    },
    {
      "cell_type": "code",
      "source": [
        "# = : 대입연산자, 할당연산자\n",
        "# == : 동등 연산자\n",
        "1 == 1, 2 == 1"
      ],
      "metadata": {
        "colab": {
          "base_uri": "https://localhost:8080/"
        },
        "id": "k4JB04rd8Rbg",
        "outputId": "dade927d-d202-4add-9a57-a77dce4b9947"
      },
      "execution_count": 5,
      "outputs": [
        {
          "output_type": "execute_result",
          "data": {
            "text/plain": [
              "(True, False)"
            ]
          },
          "metadata": {},
          "execution_count": 5
        }
      ]
    },
    {
      "cell_type": "code",
      "source": [
        "2 != 1, 1!= 1"
      ],
      "metadata": {
        "colab": {
          "base_uri": "https://localhost:8080/"
        },
        "id": "Yq7XeDsS8Mm4",
        "outputId": "95e7c0d0-e5d0-447b-ae58-0189eab0dec5"
      },
      "execution_count": 6,
      "outputs": [
        {
          "output_type": "execute_result",
          "data": {
            "text/plain": [
              "(True, False)"
            ]
          },
          "metadata": {},
          "execution_count": 6
        }
      ]
    },
    {
      "cell_type": "markdown",
      "source": [
        "* 10과 10은 같으므로 True, 10과 5는 다르므로 True가 나옵니다. 파이썬에서 두 값이 같은지 비교할 때는 =이 아닌 ==을 사용합니다. 왜냐하면 =은 할당 연산자로 이미 사용되고 있기 때문입니다."
      ],
      "metadata": {
        "id": "A7ZPskZG8ciB"
      }
    },
    {
      "cell_type": "markdown",
      "source": [
        "### 문자열이 같은지 다른지 비교하기"
      ],
      "metadata": {
        "id": "F-qZPpwZ8fVj"
      }
    },
    {
      "cell_type": "markdown",
      "source": [
        "숫자뿐만 아니라 문자열도 ==와 != 연산자로 비교할 수 있습니다. 이때 문자열은 비교할 때 대소문자를 구분합니다. 다음과 같이 단어가 같아도 대소문자가 다르면 다른 문자열로 판단합니다."
      ],
      "metadata": {
        "id": "gVpeqKpi8kzR"
      }
    },
    {
      "cell_type": "code",
      "source": [
        "'young' == 'young'"
      ],
      "metadata": {
        "colab": {
          "base_uri": "https://localhost:8080/"
        },
        "id": "a8gUw9ax8bF2",
        "outputId": "8a614dfd-3290-4fea-da11-c5c6e9c3b77d"
      },
      "execution_count": 8,
      "outputs": [
        {
          "output_type": "execute_result",
          "data": {
            "text/plain": [
              "True"
            ]
          },
          "metadata": {},
          "execution_count": 8
        }
      ]
    },
    {
      "cell_type": "code",
      "source": [
        "'Young' == 'young'"
      ],
      "metadata": {
        "colab": {
          "base_uri": "https://localhost:8080/"
        },
        "id": "CdGKRRS8tg-z",
        "outputId": "966adfde-3338-4707-8982-3154c65caf4d"
      },
      "execution_count": 9,
      "outputs": [
        {
          "output_type": "execute_result",
          "data": {
            "text/plain": [
              "False"
            ]
          },
          "metadata": {},
          "execution_count": 9
        }
      ]
    },
    {
      "cell_type": "code",
      "source": [
        "\"young\" != \"Young\""
      ],
      "metadata": {
        "colab": {
          "base_uri": "https://localhost:8080/"
        },
        "id": "ru8eZuDm8qGX",
        "outputId": "a4c2f00c-25d7-47d1-ee38-448b6f171b56"
      },
      "execution_count": 10,
      "outputs": [
        {
          "output_type": "execute_result",
          "data": {
            "text/plain": [
              "True"
            ]
          },
          "metadata": {},
          "execution_count": 10
        }
      ]
    },
    {
      "cell_type": "markdown",
      "source": [
        "### 부등호 사용하기"
      ],
      "metadata": {
        "id": "j1anba4g8rF4"
      }
    },
    {
      "cell_type": "markdown",
      "source": [
        "* 부등호는 수학 시간에 배운 내용과 같습니다. 큰지, 작은지, 크거나 같은지, 작거나 같은지를 판단해봅니다."
      ],
      "metadata": {
        "id": "frEVRs3e8xp7"
      }
    },
    {
      "cell_type": "code",
      "source": [
        "10 > 20"
      ],
      "metadata": {
        "colab": {
          "base_uri": "https://localhost:8080/"
        },
        "id": "V_R7oqqA8yxX",
        "outputId": "4b636be6-7822-40be-eb58-2d658c204c59"
      },
      "execution_count": 11,
      "outputs": [
        {
          "output_type": "execute_result",
          "data": {
            "text/plain": [
              "False"
            ]
          },
          "metadata": {},
          "execution_count": 11
        }
      ]
    },
    {
      "cell_type": "code",
      "source": [
        "10 < 20"
      ],
      "metadata": {
        "colab": {
          "base_uri": "https://localhost:8080/"
        },
        "id": "9Bqhy0zn82gO",
        "outputId": "5477af87-ccae-4567-ad35-d11dc125e5f1"
      },
      "execution_count": 14,
      "outputs": [
        {
          "output_type": "execute_result",
          "data": {
            "text/plain": [
              "True"
            ]
          },
          "metadata": {},
          "execution_count": 14
        }
      ]
    },
    {
      "cell_type": "code",
      "source": [
        "10 >= 20"
      ],
      "metadata": {
        "colab": {
          "base_uri": "https://localhost:8080/"
        },
        "id": "L4jCEqpJ83dK",
        "outputId": "df3a5778-b650-4a36-9e23-1a75f1f33d5e"
      },
      "execution_count": 12,
      "outputs": [
        {
          "output_type": "execute_result",
          "data": {
            "text/plain": [
              "False"
            ]
          },
          "metadata": {},
          "execution_count": 12
        }
      ]
    },
    {
      "cell_type": "code",
      "source": [
        "10 <= 10"
      ],
      "metadata": {
        "colab": {
          "base_uri": "https://localhost:8080/"
        },
        "id": "DTGWPeUj84EC",
        "outputId": "f33696ab-68ca-427f-89cc-258e01d4e4d6"
      },
      "execution_count": 13,
      "outputs": [
        {
          "output_type": "execute_result",
          "data": {
            "text/plain": [
              "True"
            ]
          },
          "metadata": {},
          "execution_count": 13
        }
      ]
    },
    {
      "cell_type": "markdown",
      "source": [
        "* 여기서 비교 기준은 첫 번째 값입니다. 따라서 첫 번째 값보다 큰지, 작은지처럼 읽습니다. 항상 이점을 기억해두세요.\n",
        "\n",
        "* 특히 부등호를 말로 설명할 때 >은 초과, <은 미만, >=은 이상, <=은 이하라고도 합니다. 그리고 >, <은 비교할 값과 같으면 무조건 거짓입니다. 하지만 >=, <=은 비교할 값과 같으면 참입니다. 따라서 이상, 이하는 비교할 값도 포함된다는 점이 중요합니다."
      ],
      "metadata": {
        "id": "5PrlTb6v846d"
      }
    },
    {
      "cell_type": "markdown",
      "source": [
        "### 객체가 같은지 다른지 비교하기"
      ],
      "metadata": {
        "id": "4htPUGrS9Ayr"
      }
    },
    {
      "cell_type": "markdown",
      "source": [
        "* 이번에는 is와 is not입니다. 같다는 ==, 다르다는 !=이 이미 있는데 왜 is, is not을 만들었을까요? is, is not도 같다, 다르다지만 ==, !=는 값 자체를 비교하고, is, is not은 객체(object)를 비교합니다."
      ],
      "metadata": {
        "id": "XMeNSti39Djj"
      }
    },
    {
      "cell_type": "code",
      "source": [
        "1 == 1.0 # 1은 정수 , 1.0은 실수"
      ],
      "metadata": {
        "colab": {
          "base_uri": "https://localhost:8080/"
        },
        "id": "22ODPs_k88ZK",
        "outputId": "7540001c-594e-4ec8-94b2-6983864f0dc4"
      },
      "execution_count": 15,
      "outputs": [
        {
          "output_type": "execute_result",
          "data": {
            "text/plain": [
              "True"
            ]
          },
          "metadata": {},
          "execution_count": 15
        }
      ]
    },
    {
      "cell_type": "code",
      "source": [
        "1 is 1.0"
      ],
      "metadata": {
        "colab": {
          "base_uri": "https://localhost:8080/"
        },
        "id": "C2qiVURH9MXg",
        "outputId": "9430e4f3-1ee4-42d9-bc11-1c02d50abe19"
      },
      "execution_count": 16,
      "outputs": [
        {
          "output_type": "stream",
          "name": "stderr",
          "text": [
            "<>:1: SyntaxWarning: \"is\" with a literal. Did you mean \"==\"?\n",
            "<>:1: SyntaxWarning: \"is\" with a literal. Did you mean \"==\"?\n",
            "<ipython-input-16-2ebf4c947f31>:1: SyntaxWarning: \"is\" with a literal. Did you mean \"==\"?\n",
            "  1 is 1.0\n"
          ]
        },
        {
          "output_type": "execute_result",
          "data": {
            "text/plain": [
              "False"
            ]
          },
          "metadata": {},
          "execution_count": 16
        }
      ]
    },
    {
      "cell_type": "code",
      "source": [
        "1 is 1"
      ],
      "metadata": {
        "colab": {
          "base_uri": "https://localhost:8080/"
        },
        "id": "U7WvRzdb9aYS",
        "outputId": "1650d622-cce8-4d2b-f995-6aa9930783b1"
      },
      "execution_count": 17,
      "outputs": [
        {
          "output_type": "stream",
          "name": "stderr",
          "text": [
            "<>:1: SyntaxWarning: \"is\" with a literal. Did you mean \"==\"?\n",
            "<>:1: SyntaxWarning: \"is\" with a literal. Did you mean \"==\"?\n",
            "<ipython-input-17-c4ba21148a2b>:1: SyntaxWarning: \"is\" with a literal. Did you mean \"==\"?\n",
            "  1 is 1\n"
          ]
        },
        {
          "output_type": "execute_result",
          "data": {
            "text/plain": [
              "True"
            ]
          },
          "metadata": {},
          "execution_count": 17
        }
      ]
    },
    {
      "cell_type": "code",
      "source": [
        "1 is not 1.0"
      ],
      "metadata": {
        "colab": {
          "base_uri": "https://localhost:8080/"
        },
        "id": "VyW0H8L09NEs",
        "outputId": "347cee91-04bb-4b2c-eb01-e86d7f9136dc"
      },
      "execution_count": 18,
      "outputs": [
        {
          "output_type": "stream",
          "name": "stderr",
          "text": [
            "<>:1: SyntaxWarning: \"is not\" with a literal. Did you mean \"!=\"?\n",
            "<>:1: SyntaxWarning: \"is not\" with a literal. Did you mean \"!=\"?\n",
            "<ipython-input-18-7a2cea8bf2ec>:1: SyntaxWarning: \"is not\" with a literal. Did you mean \"!=\"?\n",
            "  1 is not 1.0\n"
          ]
        },
        {
          "output_type": "execute_result",
          "data": {
            "text/plain": [
              "True"
            ]
          },
          "metadata": {},
          "execution_count": 18
        }
      ]
    },
    {
      "cell_type": "markdown",
      "source": [
        "* 1과 1.0은 정수와 실수라는 차이점이 있지만 값은 같습니다. 따라서 ==로 비교해보면 True가 나옵니다. 하지만 1과 1.0을 is로 비교해보면 False가 나옵니다. 왜냐하면 1은 정수 객체, 1.0은 실수 객체이므로 두 객체는 서로 다르기 때문입니다. 물론 1과 1.0을 is not으로 비교하면 True가 나오겠죠?"
      ],
      "metadata": {
        "id": "Uf7SCw7k9VFP"
      }
    },
    {
      "cell_type": "markdown",
      "source": [
        "## 논리 연산자 사용하기"
      ],
      "metadata": {
        "id": "J6XyB2i79gNT"
      }
    },
    {
      "cell_type": "markdown",
      "source": [
        "* 이번에는 논리 연산자를 사용해보겠습니다. 논리 연산자는 and, or, not이 있는데 먼저 and입니다.\n",
        "* `a and b`"
      ],
      "metadata": {
        "id": "zzj7078Y9tUE"
      }
    },
    {
      "cell_type": "code",
      "source": [
        "True and True # and : 둘 다 True -> True"
      ],
      "metadata": {
        "colab": {
          "base_uri": "https://localhost:8080/"
        },
        "id": "a46F0OEO9uRd",
        "outputId": "72a3be76-9936-48ac-b914-40ea3a6a21d5"
      },
      "execution_count": null,
      "outputs": [
        {
          "output_type": "execute_result",
          "data": {
            "text/plain": [
              "True"
            ]
          },
          "metadata": {},
          "execution_count": 17
        }
      ]
    },
    {
      "cell_type": "code",
      "source": [
        "True and False"
      ],
      "metadata": {
        "colab": {
          "base_uri": "https://localhost:8080/"
        },
        "id": "_uQSlquo927f",
        "outputId": "b45491e8-f633-45d3-869a-ac33321040bd"
      },
      "execution_count": 19,
      "outputs": [
        {
          "output_type": "execute_result",
          "data": {
            "text/plain": [
              "False"
            ]
          },
          "metadata": {},
          "execution_count": 19
        }
      ]
    },
    {
      "cell_type": "code",
      "source": [
        "False and True"
      ],
      "metadata": {
        "colab": {
          "base_uri": "https://localhost:8080/"
        },
        "id": "PcLFN7EM94Lq",
        "outputId": "e8e18afa-c4a1-44af-fea8-9e96050924d6"
      },
      "execution_count": 20,
      "outputs": [
        {
          "output_type": "execute_result",
          "data": {
            "text/plain": [
              "False"
            ]
          },
          "metadata": {},
          "execution_count": 20
        }
      ]
    },
    {
      "cell_type": "code",
      "source": [
        "False and False"
      ],
      "metadata": {
        "colab": {
          "base_uri": "https://localhost:8080/"
        },
        "id": "0zfAY_kS96fz",
        "outputId": "ec43dbfa-926e-4486-8352-5dba0acd8f18"
      },
      "execution_count": 22,
      "outputs": [
        {
          "output_type": "execute_result",
          "data": {
            "text/plain": [
              "False"
            ]
          },
          "metadata": {},
          "execution_count": 22
        }
      ]
    },
    {
      "cell_type": "code",
      "source": [
        "True & True, True & False, False & True # and(&) 연산자"
      ],
      "metadata": {
        "id": "MvVwI4LUvkTV"
      },
      "execution_count": null,
      "outputs": []
    },
    {
      "cell_type": "markdown",
      "source": [
        "* and는 두 값이 모두 True라야 True입니다. 하나라도 False이면 False가 나옵니다."
      ],
      "metadata": {
        "id": "5NY3VVAY99Ge"
      }
    },
    {
      "cell_type": "markdown",
      "source": [
        "\n",
        "* 이번에는 or입니다.\n",
        "* `a or b`"
      ],
      "metadata": {
        "id": "l1cwZ-n-9_Az"
      }
    },
    {
      "cell_type": "code",
      "source": [
        "True or True"
      ],
      "metadata": {
        "colab": {
          "base_uri": "https://localhost:8080/"
        },
        "id": "dsJ1V5lR9869",
        "outputId": "8465a52e-c882-4c13-ee8b-dd9bbeae7ae8"
      },
      "execution_count": 23,
      "outputs": [
        {
          "output_type": "execute_result",
          "data": {
            "text/plain": [
              "True"
            ]
          },
          "metadata": {},
          "execution_count": 23
        }
      ]
    },
    {
      "cell_type": "code",
      "source": [
        "True or False"
      ],
      "metadata": {
        "colab": {
          "base_uri": "https://localhost:8080/"
        },
        "id": "WRqaykE--Lod",
        "outputId": "9937904c-388d-467a-a7a4-955db671697e"
      },
      "execution_count": 24,
      "outputs": [
        {
          "output_type": "execute_result",
          "data": {
            "text/plain": [
              "True"
            ]
          },
          "metadata": {},
          "execution_count": 24
        }
      ]
    },
    {
      "cell_type": "code",
      "source": [
        "False or True"
      ],
      "metadata": {
        "colab": {
          "base_uri": "https://localhost:8080/"
        },
        "id": "WvIoohpm-MGM",
        "outputId": "a539a996-2a6b-4a55-8150-c46c5f1d3abe"
      },
      "execution_count": 25,
      "outputs": [
        {
          "output_type": "execute_result",
          "data": {
            "text/plain": [
              "True"
            ]
          },
          "metadata": {},
          "execution_count": 25
        }
      ]
    },
    {
      "cell_type": "code",
      "source": [
        "False or False"
      ],
      "metadata": {
        "colab": {
          "base_uri": "https://localhost:8080/"
        },
        "id": "TTZfD4iI-MXG",
        "outputId": "9dcf5191-b7b0-49cb-ad10-4c4ddbaf90e1"
      },
      "execution_count": 27,
      "outputs": [
        {
          "output_type": "execute_result",
          "data": {
            "text/plain": [
              "False"
            ]
          },
          "metadata": {},
          "execution_count": 27
        }
      ]
    },
    {
      "cell_type": "code",
      "source": [
        "True | True, True | False, False | True, False | False # |(or) 논리연산자"
      ],
      "metadata": {
        "id": "As99cTcqwGJ8"
      },
      "execution_count": null,
      "outputs": []
    },
    {
      "cell_type": "markdown",
      "source": [
        "* or는 두 값 중 하나라도 True이면 True입니다. 두 값이 모두 False라야 False가 되죠."
      ],
      "metadata": {
        "id": "zYArLXR4-P9T"
      }
    },
    {
      "cell_type": "markdown",
      "source": [
        "* 마지막으로 not입니다.\n",
        "* `not x`"
      ],
      "metadata": {
        "id": "20iv4w1y-SX4"
      }
    },
    {
      "cell_type": "code",
      "source": [
        "not True # 반전"
      ],
      "metadata": {
        "colab": {
          "base_uri": "https://localhost:8080/"
        },
        "id": "7XVanr2R97nj",
        "outputId": "0d733c84-b54b-4f94-9e48-3e8fdcbe8666"
      },
      "execution_count": null,
      "outputs": [
        {
          "output_type": "execute_result",
          "data": {
            "text/plain": [
              "False"
            ]
          },
          "metadata": {},
          "execution_count": 25
        }
      ]
    },
    {
      "cell_type": "code",
      "source": [
        "not False"
      ],
      "metadata": {
        "colab": {
          "base_uri": "https://localhost:8080/"
        },
        "id": "Vv5zWmNz-Zmq",
        "outputId": "cd55f07c-7fd7-4726-c52b-899e20d423dc"
      },
      "execution_count": 28,
      "outputs": [
        {
          "output_type": "execute_result",
          "data": {
            "text/plain": [
              "True"
            ]
          },
          "metadata": {},
          "execution_count": 28
        }
      ]
    },
    {
      "cell_type": "markdown",
      "source": [
        "* not은 논릿값을 뒤집습니다. 그래서 not True는 False가 되고, not False는 True가 됩니다."
      ],
      "metadata": {
        "id": "XFSeIUk9-cVw"
      }
    },
    {
      "cell_type": "markdown",
      "source": [
        "* 여기서 and, or, not 논리 연산자가 식 하나에 들어있으면 not, and, or 순으로 판단합니다."
      ],
      "metadata": {
        "id": "iN8vhwC9-g-C"
      }
    },
    {
      "cell_type": "code",
      "source": [
        "not True and False or not False"
      ],
      "metadata": {
        "colab": {
          "base_uri": "https://localhost:8080/"
        },
        "id": "E3uX3i4--jGs",
        "outputId": "b812ec17-a957-49d8-b6cb-3fda4e2fc72d"
      },
      "execution_count": 30,
      "outputs": [
        {
          "output_type": "execute_result",
          "data": {
            "text/plain": [
              "False"
            ]
          },
          "metadata": {},
          "execution_count": 30
        }
      ]
    },
    {
      "cell_type": "code",
      "source": [
        "(not True) and False or (not False)\n",
        "(False and False) or True\n",
        "False or True\n",
        "True"
      ],
      "metadata": {
        "colab": {
          "base_uri": "https://localhost:8080/"
        },
        "id": "zhrNts8Vwpfg",
        "outputId": "2e31cfb5-8d55-47a7-c015-d61ef66f6e84"
      },
      "execution_count": 31,
      "outputs": [
        {
          "output_type": "execute_result",
          "data": {
            "text/plain": [
              "True"
            ]
          },
          "metadata": {},
          "execution_count": 31
        }
      ]
    },
    {
      "cell_type": "markdown",
      "source": [
        "* 식이 꼬여 있어서 상당히 헷갈리죠? 가장 먼저 not True와 not False를 판단하여 False and False or True가 됩니다.\n",
        "* 그다음에 False and False를 판단하여 False가 나와서 False or True가 되므로 최종 결과는 True가 됩니다."
      ],
      "metadata": {
        "id": "uFpZ6dYg-k65"
      }
    },
    {
      "cell_type": "code",
      "source": [],
      "metadata": {
        "colab": {
          "base_uri": "https://localhost:8080/"
        },
        "id": "Kz_XIdpN-p7y",
        "outputId": "bc259f63-53c5-41e8-a4f9-6702db0b450e"
      },
      "execution_count": null,
      "outputs": [
        {
          "output_type": "execute_result",
          "data": {
            "text/plain": [
              "True"
            ]
          },
          "metadata": {},
          "execution_count": 28
        }
      ]
    },
    {
      "cell_type": "code",
      "source": [
        "# 이 식을 괄호로 표현하면 다음과 같은 모양이 됩니다.\n",
        "((not True) and False) or (not False)"
      ],
      "metadata": {
        "colab": {
          "base_uri": "https://localhost:8080/"
        },
        "id": "c-BL3vTw-sa7",
        "outputId": "d544ac3b-22fe-4ab1-a27f-1386d519d1de"
      },
      "execution_count": 32,
      "outputs": [
        {
          "output_type": "execute_result",
          "data": {
            "text/plain": [
              "True"
            ]
          },
          "metadata": {},
          "execution_count": 32
        }
      ]
    },
    {
      "cell_type": "markdown",
      "source": [
        "* 순서가 헷갈릴 때는 괄호로 판단 순서를 명확히 나타내 주는 것이 좋습니다."
      ],
      "metadata": {
        "id": "4ebLX-TT-yMc"
      }
    },
    {
      "cell_type": "markdown",
      "source": [
        "### 논리 연산자와 비교 연산자를 함께 사용하기"
      ],
      "metadata": {
        "id": "KT1_pBHh-1NG"
      }
    },
    {
      "cell_type": "code",
      "source": [
        "10 == 10 and 10 != 5 # 논리 연산자 (우선) < 비교 연산자\n",
        "(10 == 10) and (10 != 5)\n",
        "True and True"
      ],
      "metadata": {
        "colab": {
          "base_uri": "https://localhost:8080/"
        },
        "id": "uW8ffx3y-wC8",
        "outputId": "3b341a6d-c44d-40a1-c529-881cd6d21395"
      },
      "execution_count": 35,
      "outputs": [
        {
          "output_type": "execute_result",
          "data": {
            "text/plain": [
              "True"
            ]
          },
          "metadata": {},
          "execution_count": 35
        }
      ]
    },
    {
      "cell_type": "code",
      "source": [
        "10 > 5 or 10 > 3\n",
        "# True or False"
      ],
      "metadata": {
        "colab": {
          "base_uri": "https://localhost:8080/"
        },
        "id": "YxgyyDIJ-8Bm",
        "outputId": "5a1b1e4e-ad28-41d0-9537-e98767bc8579"
      },
      "execution_count": null,
      "outputs": [
        {
          "output_type": "execute_result",
          "data": {
            "text/plain": [
              "True"
            ]
          },
          "metadata": {},
          "execution_count": 31
        }
      ]
    },
    {
      "cell_type": "code",
      "source": [
        "not 10 > 5\n",
        "# not True"
      ],
      "metadata": {
        "colab": {
          "base_uri": "https://localhost:8080/"
        },
        "id": "tqyBYVeG-8lf",
        "outputId": "7c8b0942-b79f-468a-869c-a4e3f942fcd4"
      },
      "execution_count": 36,
      "outputs": [
        {
          "output_type": "execute_result",
          "data": {
            "text/plain": [
              "False"
            ]
          },
          "metadata": {},
          "execution_count": 36
        }
      ]
    },
    {
      "cell_type": "markdown",
      "source": [
        "* 비교 연산자로 비교한 결과를 논리 연산자로 다시 판단했습니다. 이때는 비교 연산자(is, is not, ==, !=, <, >, <=, >=)를 먼저 판단하고 논리 연산자(not, and, or)를 판단하게 됩니다"
      ],
      "metadata": {
        "id": "2l0QBaGk_DKD"
      }
    },
    {
      "cell_type": "markdown",
      "source": [
        "### 정수, 실수, 문자열을 불로 만들기"
      ],
      "metadata": {
        "id": "F1Gdb-Zn_GlV"
      }
    },
    {
      "cell_type": "markdown",
      "source": [
        "* 정수, 실수, 문자열을 불로 만들 때는 bool을 사용하면 됩니다. 이때 정수 1은 True, 0은 False입니다. 만약 문자열의 내용이 'False'라도 불로 만들면 True입니다. 문자열의 내용 자체는 판단하지 않으며 값이 있으면 True입니다."
      ],
      "metadata": {
        "id": "0gmm_J-r_NUn"
      }
    },
    {
      "cell_type": "code",
      "source": [
        "bool(1), bool(100), bool(0) # 정수느 실수를 bool에 넣었을 때 0인지, 아닌지를 판단 (0이면 False)\n",
        "# (int) ! = 0"
      ],
      "metadata": {
        "colab": {
          "base_uri": "https://localhost:8080/"
        },
        "id": "mNM0mneu_PdL",
        "outputId": "572d6041-8b0c-4133-bc25-e34e69ac9e74"
      },
      "execution_count": 40,
      "outputs": [
        {
          "output_type": "execute_result",
          "data": {
            "text/plain": [
              "(True, True, False)"
            ]
          },
          "metadata": {},
          "execution_count": 40
        }
      ]
    },
    {
      "cell_type": "code",
      "source": [
        "bool(2.5), bool(0.0), bool(-1.2)"
      ],
      "metadata": {
        "colab": {
          "base_uri": "https://localhost:8080/"
        },
        "id": "ufDOIR5z_TIH",
        "outputId": "ce4684a0-a6ac-4172-dd3a-4ba89b676902"
      },
      "execution_count": 41,
      "outputs": [
        {
          "output_type": "execute_result",
          "data": {
            "text/plain": [
              "(True, False, True)"
            ]
          },
          "metadata": {},
          "execution_count": 41
        }
      ]
    },
    {
      "cell_type": "code",
      "source": [
        "bool('helllo') # 어느 길이든 True, 길이가 있는 문자열"
      ],
      "metadata": {
        "colab": {
          "base_uri": "https://localhost:8080/"
        },
        "id": "aVP5kFKe_T1l",
        "outputId": "a8f6ffaf-413e-4b05-d182-f8f212377d03"
      },
      "execution_count": null,
      "outputs": [
        {
          "output_type": "execute_result",
          "data": {
            "text/plain": [
              "True"
            ]
          },
          "metadata": {},
          "execution_count": 36
        }
      ]
    },
    {
      "cell_type": "code",
      "source": [],
      "metadata": {
        "colab": {
          "base_uri": "https://localhost:8080/"
        },
        "id": "MS7Go6xI_Ue1",
        "outputId": "204b072f-49e8-47f7-95cf-bcb53908a79f"
      },
      "execution_count": null,
      "outputs": [
        {
          "output_type": "execute_result",
          "data": {
            "text/plain": [
              "True"
            ]
          },
          "metadata": {},
          "execution_count": 37
        }
      ]
    }
  ]
}