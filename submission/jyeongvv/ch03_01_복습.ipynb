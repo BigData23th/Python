{
  "nbformat": 4,
  "nbformat_minor": 0,
  "metadata": {
    "colab": {
      "provenance": [],
      "authorship_tag": "ABX9TyMFW7kPRio4dWoY0fkg3TLY",
      "include_colab_link": true
    },
    "kernelspec": {
      "name": "python3",
      "display_name": "Python 3"
    },
    "language_info": {
      "name": "python"
    }
  },
  "cells": [
    {
      "cell_type": "markdown",
      "metadata": {
        "id": "view-in-github",
        "colab_type": "text"
      },
      "source": [
        "<a href=\"https://colab.research.google.com/github/jyeongvv/Python_jy/blob/main/submission/jyeongvv/ch03_01_%EB%B3%B5%EC%8A%B5.ipynb\" target=\"_parent\"><img src=\"https://colab.research.google.com/assets/colab-badge.svg\" alt=\"Open In Colab\"/></a>"
      ]
    },
    {
      "cell_type": "markdown",
      "source": [
        "## 함수"
      ],
      "metadata": {
        "id": "36V_2sgnptuN"
      }
    },
    {
      "cell_type": "code",
      "source": [
        "import random\n",
        "\n",
        "subjects = [\n",
        "    \"배고파오\"\n",
        "    \"집 가고싶슴니다\"\n",
        "]\n",
        "\n",
        "def study(): # 상위모듈\n",
        "    energy = random.randint(1, 10)\n",
        "    print(hello(energy)) # 하위모듈\n",
        "    energy -= 1\n",
        "   # choices = random.choices(subjects, k=2)\n",
        "    chat(energy, *subjects, k=2)\n",
        "    lecture()\n",
        "    chat()\n",
        "    bye()\n",
        "\n",
        "# def hello():\n",
        "  # return \"좋은 아침입니다 여러분~\"\n",
        "\n",
        "# def chat(repeat, *args):\n",
        "  # pass\n",
        "\n",
        "def lecture():\n",
        "  pass\n",
        "\n",
        "def bye():\n",
        "  pass"
      ],
      "metadata": {
        "id": "o4MejGEcprcE"
      },
      "execution_count": 14,
      "outputs": []
    },
    {
      "cell_type": "code",
      "source": [
        "def hello(energy=5):\n",
        "  # 0~10\n",
        "  if energy == 10:\n",
        "    return \"여러분! 오늘 제가 커피 쏠게오!\" # return -> 더 이상 뒤로 진행 X\n",
        "  if energy > 5:\n",
        "    return \">< 오늘 점심메뉴 알려드릴까요?\"\n",
        "  return\"...^^\""
      ],
      "metadata": {
        "id": "OPCheDb7qh9T"
      },
      "execution_count": 8,
      "outputs": []
    },
    {
      "cell_type": "code",
      "source": [
        "def chat(repeat, *args, k=2):\n",
        "  for i in range(repeat):\n",
        "    print(\"내가 지금 {}번째 얘기중이자나\")\n",
        "    # for j in args:\n",
        "    #   print(j)\n",
        "  for j in random.choices(args, k=k):\n",
        "    print(f\"** {j}\")"
      ],
      "metadata": {
        "id": "q3HY4n99rr9m"
      },
      "execution_count": 11,
      "outputs": []
    },
    {
      "cell_type": "code",
      "source": [
        "def lecture(**kwargs):\n",
        "  for k, v in kwargs.items:\n",
        "    print('*** 자, 진도 나가겠습니다')\n",
        "    print(f\"*** {k}에서 {v}를 배워봅시다\")"
      ],
      "metadata": {
        "id": "jlVCEyL7tlUz"
      },
      "execution_count": 12,
      "outputs": []
    },
    {
      "cell_type": "code",
      "execution_count": null,
      "metadata": {
        "id": "49WCTwWWpim3"
      },
      "outputs": [],
      "source": [
        "study()"
      ]
    }
  ]
}