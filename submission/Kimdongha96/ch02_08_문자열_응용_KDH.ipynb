{
  "nbformat": 4,
  "nbformat_minor": 0,
  "metadata": {
    "colab": {
      "provenance": [],
      "include_colab_link": true
    },
    "kernelspec": {
      "name": "python3",
      "display_name": "Python 3"
    },
    "language_info": {
      "name": "python"
    }
  },
  "cells": [
    {
      "cell_type": "markdown",
      "metadata": {
        "id": "view-in-github",
        "colab_type": "text"
      },
      "source": [
        "<a href=\"https://colab.research.google.com/github/Kimdongha96/Python/blob/main/submission/Kimdongha96/ch02_08_%EB%AC%B8%EC%9E%90%EC%97%B4_%EC%9D%91%EC%9A%A9_KDH.ipynb\" target=\"_parent\"><img src=\"https://colab.research.google.com/assets/colab-badge.svg\" alt=\"Open In Colab\"/></a>"
      ]
    },
    {
      "cell_type": "markdown",
      "source": [
        "# 문자열 응용"
      ],
      "metadata": {
        "id": "rSPGVAoSBoaB"
      }
    },
    {
      "cell_type": "markdown",
      "source": [
        "지금까지 리스트 사용 방법을 알아보았습니다. 리스트는 요소 여러 개가 연속적으로 이어져 있죠? 마찬가지로 문자열도 문자 여러 개가 연속적으로 이어져 있는 시퀀스 자료형이라 리스트와 비슷한 점이 많습니다."
      ],
      "metadata": {
        "id": "pk9ZeChoBqPB"
      }
    },
    {
      "cell_type": "markdown",
      "source": [
        "## 문자열 조작하기"
      ],
      "metadata": {
        "id": "UsQVy59tBrtp"
      }
    },
    {
      "cell_type": "markdown",
      "source": [
        "### 문자열 바꾸기"
      ],
      "metadata": {
        "id": "kc2FDOEiBt-i"
      }
    },
    {
      "cell_type": "markdown",
      "source": [
        "replace('바꿀문자열', '새문자열')은 문자열 안의 문자열을 다른 문자열로 바꿉니다(문자열 자체는 변경하지 않으며 바뀐 결과를 반환합니다). 다음은 문자열 'Hello, world!'에서 'world'를 'Python'으로 바꾼 뒤 결과를 반환합니다."
      ],
      "metadata": {
        "id": "iRc-Kh3lBvsN"
      }
    },
    {
      "cell_type": "code",
      "execution_count": 2,
      "metadata": {
        "id": "vl5NO4cX4I6o",
        "colab": {
          "base_uri": "https://localhost:8080/"
        },
        "outputId": "d030b105-17c8-4619-b216-0fc820585474"
      },
      "outputs": [
        {
          "output_type": "execute_result",
          "data": {
            "text/plain": [
              "('헤이즐넛아메리카노', '킹아메리카노')"
            ]
          },
          "metadata": {},
          "execution_count": 2
        }
      ],
      "source": [
        "a = '킹아메리카노'\n",
        "a.replace(\"킹\",\"헤이즐넛\"), a"
      ]
    },
    {
      "cell_type": "markdown",
      "source": [
        "만약 바뀐 결과를 유지하고 싶다면 문자열이 저장된 변수에 replace를 사용한 뒤 다시 변수에 할당해주면 됩니다."
      ],
      "metadata": {
        "id": "QNZJrXLcB66I"
      }
    },
    {
      "cell_type": "code",
      "source": [
        "b = a.replace(\"킹\",\"헤이즐넛\")\n",
        "b"
      ],
      "metadata": {
        "colab": {
          "base_uri": "https://localhost:8080/",
          "height": 35
        },
        "id": "vfIbJUHSB3GX",
        "outputId": "565e1f2e-e02e-46cd-a9ba-6d26c2e60afa"
      },
      "execution_count": 3,
      "outputs": [
        {
          "output_type": "execute_result",
          "data": {
            "text/plain": [
              "'헤이즐넛아메리카노'"
            ],
            "application/vnd.google.colaboratory.intrinsic+json": {
              "type": "string"
            }
          },
          "metadata": {},
          "execution_count": 3
        }
      ]
    },
    {
      "cell_type": "markdown",
      "source": [
        "### 문자열 분리하기"
      ],
      "metadata": {
        "id": "t_JeYJb0CU8g"
      }
    },
    {
      "cell_type": "markdown",
      "source": [
        "이제 문자열을 분리하는 방법입니다.\n",
        "\n",
        "split()은 공백을 기준으로 문자열을 분리하여 리스트로 만듭니다. 지금까지 input으로 문자열을 입력받은 뒤 리스트로 만든 메서드가 바로 이 split입니다."
      ],
      "metadata": {
        "id": "4dviG3QYCXaq"
      }
    },
    {
      "cell_type": "code",
      "source": [
        "a = \"태조 정종 태종 세종 문종 단종 세조\"\n",
        "a.split(), a"
      ],
      "metadata": {
        "colab": {
          "base_uri": "https://localhost:8080/"
        },
        "id": "h6uZo9ybCQZG",
        "outputId": "e99ca600-24d6-4ad6-f4df-184bbd196da1"
      },
      "execution_count": 5,
      "outputs": [
        {
          "output_type": "execute_result",
          "data": {
            "text/plain": [
              "(['태조', '정종', '태종', '세종', '문종', '단종', '세조'], '태조 정종 태종 세종 문종 단종 세조')"
            ]
          },
          "metadata": {},
          "execution_count": 5
        }
      ]
    },
    {
      "cell_type": "markdown",
      "source": [
        "split('기준문자열')과 같이 기준 문자열을 지정하면 기준 문자열로 문자열을 분리합니다. 즉, 문자열에서 각 단어가 ,(콤마)와 공백으로 구분되어 있을 때 ', '으로 문자열을 분리하면 단어만 리스트로 만듭니다."
      ],
      "metadata": {
        "id": "rCAeYiTRCZwM"
      }
    },
    {
      "cell_type": "code",
      "source": [
        "a = \"태조: 정종: 태종: 세종: 문종: 단종: 세조\"\n",
        "a.split(\":\"), a"
      ],
      "metadata": {
        "colab": {
          "base_uri": "https://localhost:8080/"
        },
        "id": "iX5CrLX4CYzW",
        "outputId": "e1d69e4b-ce86-4d5a-eb0c-667437fc13be"
      },
      "execution_count": 8,
      "outputs": [
        {
          "output_type": "execute_result",
          "data": {
            "text/plain": [
              "(['태조', ' 정종', ' 태종', ' 세종', ' 문종', ' 단종', ' 세조'],\n",
              " '태조: 정종: 태종: 세종: 문종: 단종: 세조')"
            ]
          },
          "metadata": {},
          "execution_count": 8
        }
      ]
    },
    {
      "cell_type": "markdown",
      "source": [
        "### 구분자 문자열과 문자열 리스트 연결하기"
      ],
      "metadata": {
        "id": "Y9PFkGVICdRG"
      }
    },
    {
      "cell_type": "markdown",
      "source": [
        "문자열을 분리하여 리스트로 만들었으니 다시 연결하는 방법도 있겠죠?\n",
        "\n",
        "join(리스트)는 구분자 문자열과 문자열 리스트의 요소를 연결하여 문자열로 만듭니다. 다음은 공백 ' '에 join을 사용하여 각 문자열 사이에 공백이 들어가도록 만듭니다.."
      ],
      "metadata": {
        "id": "SN9X67EBCfeG"
      }
    },
    {
      "cell_type": "code",
      "source": [
        "b = ['태조', ' 정종', ' 태종', ' 세종', ' 문종', ' 단종', ' 세조']\n",
        "\" \".join(b) # \"구분자\" .join(리스트)"
      ],
      "metadata": {
        "colab": {
          "base_uri": "https://localhost:8080/",
          "height": 35
        },
        "id": "piMSC5bfCbsX",
        "outputId": "ca4d76d2-7747-4825-d8a5-f14e51c288cf"
      },
      "execution_count": 9,
      "outputs": [
        {
          "output_type": "execute_result",
          "data": {
            "text/plain": [
              "'태조  정종  태종  세종  문종  단종  세조'"
            ],
            "application/vnd.google.colaboratory.intrinsic+json": {
              "type": "string"
            }
          },
          "metadata": {},
          "execution_count": 9
        }
      ]
    },
    {
      "cell_type": "code",
      "source": [
        "# 마이너스 '-'에 join을 사용하면 각 문자열 사이에 마이너스가 들어가겠죠?\n",
        "\" \".join(b) # \"구분자\" .join(리스트)\n",
        "\"*\".join(b) # \"구분자\" .join(리스트)"
      ],
      "metadata": {
        "colab": {
          "base_uri": "https://localhost:8080/",
          "height": 35
        },
        "id": "SaNk3IlFChJW",
        "outputId": "4f97956a-606f-4460-cc19-e67554b6b67d"
      },
      "execution_count": 11,
      "outputs": [
        {
          "output_type": "execute_result",
          "data": {
            "text/plain": [
              "'태조* 정종* 태종* 세종* 문종* 단종* 세조'"
            ],
            "application/vnd.google.colaboratory.intrinsic+json": {
              "type": "string"
            }
          },
          "metadata": {},
          "execution_count": 11
        }
      ]
    },
    {
      "cell_type": "code",
      "source": [
        "\"&\".join(\"집에 가고 싶다\")"
      ],
      "metadata": {
        "colab": {
          "base_uri": "https://localhost:8080/",
          "height": 35
        },
        "id": "6mqdDvuXjbV8",
        "outputId": "f17f2787-805e-4f89-e053-07a2471fb6b7"
      },
      "execution_count": 13,
      "outputs": [
        {
          "output_type": "execute_result",
          "data": {
            "text/plain": [
              "'집&에& &가&고& &싶&다'"
            ],
            "application/vnd.google.colaboratory.intrinsic+json": {
              "type": "string"
            }
          },
          "metadata": {},
          "execution_count": 13
        }
      ]
    },
    {
      "cell_type": "markdown",
      "source": [
        "### 소문자를 대문자로 바꾸기"
      ],
      "metadata": {
        "id": "3S9_1rvECnLY"
      }
    },
    {
      "cell_type": "markdown",
      "source": [
        "이번에는 문자열의 문자를 대소문자로 바꾸는 방법입니다.\n",
        "\n",
        "upper()는 문자열의 문자를 모두 대문자로 바꿉니다. 만약 문자열 안에 대문자가 있다면 그대로 유지됩니다."
      ],
      "metadata": {
        "id": "QfCNQ6JPCo8N"
      }
    },
    {
      "cell_type": "code",
      "source": [
        "\"JamesPotato\".upper() # uppercase : 대문자로 변환"
      ],
      "metadata": {
        "colab": {
          "base_uri": "https://localhost:8080/",
          "height": 35
        },
        "id": "9r_5qVXVClmd",
        "outputId": "cebacd37-d645-4de4-fe10-3ba6a7c7da48"
      },
      "execution_count": 16,
      "outputs": [
        {
          "output_type": "execute_result",
          "data": {
            "text/plain": [
              "'JAMESPOTATO'"
            ],
            "application/vnd.google.colaboratory.intrinsic+json": {
              "type": "string"
            }
          },
          "metadata": {},
          "execution_count": 16
        }
      ]
    },
    {
      "cell_type": "code",
      "source": [
        "\"JamesPotato\".isupper()"
      ],
      "metadata": {
        "colab": {
          "base_uri": "https://localhost:8080/"
        },
        "id": "MlyOZqD5kWQF",
        "outputId": "476b16e8-2d79-49f7-d0c3-ef2cd91edb5a"
      },
      "execution_count": 17,
      "outputs": [
        {
          "output_type": "execute_result",
          "data": {
            "text/plain": [
              "False"
            ]
          },
          "metadata": {},
          "execution_count": 17
        }
      ]
    },
    {
      "cell_type": "markdown",
      "source": [
        "### 대문자를 소문자로 바꾸기"
      ],
      "metadata": {
        "id": "AWkxZeToCrtK"
      }
    },
    {
      "cell_type": "markdown",
      "source": [
        "lower()는 문자열의 문자를 모두 소문자로 바꿉니다. 만약 문자열 안에 소문자가 있다면 그대로 유지됩니다.\n",
        "\n"
      ],
      "metadata": {
        "id": "toTgebNNCt1N"
      }
    },
    {
      "cell_type": "code",
      "source": [
        "\"JamesPotato\".lower() # lowercase : 소문자로 변환"
      ],
      "metadata": {
        "colab": {
          "base_uri": "https://localhost:8080/",
          "height": 35
        },
        "id": "i2pWhmfsCquO",
        "outputId": "5174b457-f7c2-4cb1-c6f9-4084da01b4db"
      },
      "execution_count": 18,
      "outputs": [
        {
          "output_type": "execute_result",
          "data": {
            "text/plain": [
              "'jamespotato'"
            ],
            "application/vnd.google.colaboratory.intrinsic+json": {
              "type": "string"
            }
          },
          "metadata": {},
          "execution_count": 18
        }
      ]
    },
    {
      "cell_type": "code",
      "source": [
        "\"JamesPotato\".islower()"
      ],
      "metadata": {
        "colab": {
          "base_uri": "https://localhost:8080/"
        },
        "id": "cuMgucGikeUf",
        "outputId": "83319d42-159d-4c44-f810-e7db6f585a98"
      },
      "execution_count": 19,
      "outputs": [
        {
          "output_type": "execute_result",
          "data": {
            "text/plain": [
              "False"
            ]
          },
          "metadata": {},
          "execution_count": 19
        }
      ]
    },
    {
      "cell_type": "markdown",
      "source": [
        "### 양쪽 공백 삭제하기"
      ],
      "metadata": {
        "id": "OBuALV_5C7Oy"
      }
    },
    {
      "cell_type": "markdown",
      "source": [
        "strip()은 문자열에서 양쪽에 있는 연속된 모든 공백을 삭제합니다."
      ],
      "metadata": {
        "id": "ZZK_vMjxC9PY"
      }
    },
    {
      "cell_type": "code",
      "source": [
        "\"          ㅎ헤헿헤헤헿헤\".strip()\n",
        "\"          ㅎ헤헿헤헤헿헤\".lstrip()\n",
        "\"          ㅎ헤헿헤헤헿헤\".rstrip()"
      ],
      "metadata": {
        "colab": {
          "base_uri": "https://localhost:8080/",
          "height": 35
        },
        "id": "bDIY3BWbC53e",
        "outputId": "7b67b2f4-beae-45a7-ac78-6dfced7c8e7f"
      },
      "execution_count": 21,
      "outputs": [
        {
          "output_type": "execute_result",
          "data": {
            "text/plain": [
              "'          ㅎ헤헿헤헤헿헤'"
            ],
            "application/vnd.google.colaboratory.intrinsic+json": {
              "type": "string"
            }
          },
          "metadata": {},
          "execution_count": 21
        }
      ]
    },
    {
      "cell_type": "markdown",
      "source": [
        "### 메서드 체이닝"
      ],
      "metadata": {
        "id": "2p2dZ6WwDipy"
      }
    },
    {
      "cell_type": "markdown",
      "source": [
        "이렇게 문자열 메서드는 처리한 결과를 반환하도록 만들어져 있습니다. 따라서 메서드를 계속 연결해서 호출하는 메서드 체이닝이 가능합니다. 메서드 체이닝은 메서드를 줄줄이 연결한다고 해서 메서드 체이닝(method chaining)이라 부릅니다."
      ],
      "metadata": {
        "id": "wgoWG3NPDkhe"
      }
    },
    {
      "cell_type": "code",
      "source": [
        "'JamesPotato'.replace('James', 'John').upper().strip()"
      ],
      "metadata": {
        "colab": {
          "base_uri": "https://localhost:8080/",
          "height": 35
        },
        "id": "zGR5UiGjk5Md",
        "outputId": "520963e8-80de-4b68-b724-4f2606a34ba2"
      },
      "execution_count": 22,
      "outputs": [
        {
          "output_type": "execute_result",
          "data": {
            "text/plain": [
              "'JOHNPOTATO'"
            ],
            "application/vnd.google.colaboratory.intrinsic+json": {
              "type": "string"
            }
          },
          "metadata": {},
          "execution_count": 22
        }
      ]
    },
    {
      "cell_type": "markdown",
      "source": [
        "### 문자열 왼쪽에 0 채우기"
      ],
      "metadata": {
        "id": "6hCa3B6HDnUg"
      }
    },
    {
      "cell_type": "markdown",
      "source": [
        "지금까지 문자열을 정렬하면서 남는 공간에 공백을 채웠죠? 파이썬을 사용하다 보면 문자열 왼쪽에 0을 채워야 할 경우가 생깁니다.\n",
        "\n",
        "zfill(길이)는 지정된 길이에 맞춰서 문자열의 왼쪽에 0을 채웁니다( zero fill을 의미). 단, 문자열의 길이보다 지정된 길이가 작다면 아무것도 채우지 않습니다. 보통 zfill은 숫자를 일정 자릿수로 맞추고 앞자리는 0으로 채울 때 사용합니다."
      ],
      "metadata": {
        "id": "JcUm-duIDp8K"
      }
    },
    {
      "cell_type": "code",
      "source": [
        "a = \"35\"\n",
        "a = \"350\"\n",
        "a.zfill(4) # rjust, ljust"
      ],
      "metadata": {
        "colab": {
          "base_uri": "https://localhost:8080/",
          "height": 35
        },
        "id": "LOclUMn3DBoW",
        "outputId": "76ebe995-121a-4b34-fa3d-21a289a69a4a"
      },
      "execution_count": 25,
      "outputs": [
        {
          "output_type": "execute_result",
          "data": {
            "text/plain": [
              "'0350'"
            ],
            "application/vnd.google.colaboratory.intrinsic+json": {
              "type": "string"
            }
          },
          "metadata": {},
          "execution_count": 25
        }
      ]
    },
    {
      "cell_type": "code",
      "source": [
        "a = str(3.5)\n",
        "a.zfill(6)"
      ],
      "metadata": {
        "colab": {
          "base_uri": "https://localhost:8080/",
          "height": 35
        },
        "id": "AkBz-qyGDt9e",
        "outputId": "ea293966-88a8-4d4d-a799-39e5b1a5cbfd"
      },
      "execution_count": 26,
      "outputs": [
        {
          "output_type": "execute_result",
          "data": {
            "text/plain": [
              "'0003.5'"
            ],
            "application/vnd.google.colaboratory.intrinsic+json": {
              "type": "string"
            }
          },
          "metadata": {},
          "execution_count": 26
        }
      ]
    },
    {
      "cell_type": "code",
      "source": [
        "a = 'hello'\n",
        "a.zfill(10)"
      ],
      "metadata": {
        "colab": {
          "base_uri": "https://localhost:8080/",
          "height": 35
        },
        "id": "_0g8SbTjDuae",
        "outputId": "cfbf76ca-8f84-46ab-be62-9f471f60f8a4"
      },
      "execution_count": 27,
      "outputs": [
        {
          "output_type": "execute_result",
          "data": {
            "text/plain": [
              "'00000hello'"
            ],
            "application/vnd.google.colaboratory.intrinsic+json": {
              "type": "string"
            }
          },
          "metadata": {},
          "execution_count": 27
        }
      ]
    },
    {
      "cell_type": "markdown",
      "source": [
        "### 문자열 위치 찾기"
      ],
      "metadata": {
        "id": "VrwR3JN9Dydq"
      }
    },
    {
      "cell_type": "markdown",
      "source": [
        "이번에는 문자열의 위치를 찾는 방법을 알아보겠습니다.\n",
        "\n",
        "find('찾을문자열')은 문자열에서 특정 문자열을 찾아서 인덱스를 반환하고, 문자열이 없으면 -1을 반환합니다. find는 왼쪽에서부터 문자열을 찾는데, 같은 문자열이 여러 개일 경우 처음 찾은 문자열의 인덱스를 반환합니다. 여기서는 'pl'이 2개 있지만 왼쪽에서 처음 찾은 'pl'의 인덱스 2를 반환합니다."
      ],
      "metadata": {
        "id": "hQmcofOkD0Pj"
      }
    },
    {
      "cell_type": "code",
      "source": [
        "print(\"킹아메리카노\".find(\"킹\"))\n",
        "print(\"킹아메리카노\".find(\"아메리카\"))\n",
        "print(\"킹오브킹\".find(\"킹\"))\n",
        "print(\"아메리카\".find(\"킹\"))"
      ],
      "metadata": {
        "colab": {
          "base_uri": "https://localhost:8080/"
        },
        "id": "uZgb6VqlDvjG",
        "outputId": "6119949b-08c5-4c67-d62d-39a28f90a414"
      },
      "execution_count": 31,
      "outputs": [
        {
          "output_type": "stream",
          "name": "stdout",
          "text": [
            "0\n",
            "1\n",
            "0\n",
            "-1\n"
          ]
        }
      ]
    },
    {
      "cell_type": "markdown",
      "source": [
        "### 문자열 개수 세기"
      ],
      "metadata": {
        "id": "a4u_p6roD--N"
      }
    },
    {
      "cell_type": "markdown",
      "source": [
        "count('문자열')은 현재 문자열에서 특정 문자열이 몇 번 나오는지 알아냅니다.\n",
        "\n"
      ],
      "metadata": {
        "id": "aBpKeuz_ECZ_"
      }
    },
    {
      "cell_type": "code",
      "source": [
        "\"찐찐찐찐찐찐이야 완전 찐이야\".count('찐')"
      ],
      "metadata": {
        "id": "29aWf40-D3vN",
        "outputId": "3ea753bd-5c07-4bd1-c267-bd80a485d59b",
        "colab": {
          "base_uri": "https://localhost:8080/"
        }
      },
      "execution_count": null,
      "outputs": [
        {
          "output_type": "execute_result",
          "data": {
            "text/plain": [
              "2"
            ]
          },
          "metadata": {},
          "execution_count": 19
        }
      ]
    }
  ]
}