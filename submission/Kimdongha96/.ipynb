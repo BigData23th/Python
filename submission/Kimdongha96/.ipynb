{
  "nbformat": 4,
  "nbformat_minor": 0,
  "metadata": {
    "colab": {
      "provenance": [],
      "authorship_tag": "ABX9TyMxesD7wZCMIz04SxzNOG/S",
      "include_colab_link": true
    },
    "kernelspec": {
      "name": "python3",
      "display_name": "Python 3"
    },
    "language_info": {
      "name": "python"
    }
  },
  "cells": [
    {
      "cell_type": "markdown",
      "metadata": {
        "id": "view-in-github",
        "colab_type": "text"
      },
      "source": [
        "<a href=\"https://colab.research.google.com/github/Kimdongha96/Python/blob/main/submission/Kimdongha96/.ipynb\" target=\"_parent\"><img src=\"https://colab.research.google.com/assets/colab-badge.svg\" alt=\"Open In Colab\"/></a>"
      ]
    },
    {
      "cell_type": "markdown",
      "source": [
        "#STAR\n",
        "##Situation(상황)\n",
        "*돈까스와 순대곱창 및 점심식사를 먹었다.\n",
        "##Task(과제)\n",
        "*이 경험을 STAR기법으로 4줄로 요약하고 정리하는 과제이다.\n",
        "##Action(행동)\n",
        "*STAR기법을 사용하여 상황,과제,행동,결과를 요약하였다.\n",
        "##Result(결과)\n",
        "나의 오늘 점심은 돈까스 및 반찬들로 푸짐하게 채웠고, STAR기법을 연습하여 빠르고 간결하게 요약하는 능력을 향상시켰다.\n",
        "\n",
        "![구내식당](https://i.imgur.com/Yc9NtLR.jpg)\n",
        "![오늘의 메뉴](https://i.imgur.com/kMy6c6h.jpg)\n"
      ],
      "metadata": {
        "id": "CQuEt74rZimJ"
      }
    }
  ]
}