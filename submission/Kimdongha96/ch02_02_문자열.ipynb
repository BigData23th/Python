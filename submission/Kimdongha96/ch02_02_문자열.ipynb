{
  "nbformat": 4,
  "nbformat_minor": 0,
  "metadata": {
    "colab": {
      "provenance": [],
      "include_colab_link": true
    },
    "kernelspec": {
      "name": "python3",
      "display_name": "Python 3"
    },
    "language_info": {
      "name": "python"
    }
  },
  "cells": [
    {
      "cell_type": "markdown",
      "metadata": {
        "id": "view-in-github",
        "colab_type": "text"
      },
      "source": [
        "<a href=\"https://colab.research.google.com/github/Kimdongha96/Python/blob/main/submission/Kimdongha96/ch02_02_%EB%AC%B8%EC%9E%90%EC%97%B4.ipynb\" target=\"_parent\"><img src=\"https://colab.research.google.com/assets/colab-badge.svg\" alt=\"Open In Colab\"/></a>"
      ]
    },
    {
      "cell_type": "markdown",
      "source": [
        "# 문자열"
      ],
      "metadata": {
        "id": "SO7ojgWa_d34"
      }
    },
    {
      "cell_type": "markdown",
      "source": [
        "## 문자열 사용하기"
      ],
      "metadata": {
        "id": "Wq_Nv9Cf_hvx"
      }
    },
    {
      "cell_type": "code",
      "source": [
        "# 문자열 'Hello, world!'를 출력\n",
        "hello="
      ],
      "metadata": {
        "colab": {
          "base_uri": "https://localhost:8080/",
          "height": 36
        },
        "id": "T__G8rT6_jH2",
        "outputId": "22979e34-9edd-4f4a-b53f-210728f68529"
      },
      "execution_count": null,
      "outputs": [
        {
          "output_type": "execute_result",
          "data": {
            "text/plain": [
              "'Hello, world!'"
            ],
            "application/vnd.google.colaboratory.intrinsic+json": {
              "type": "string"
            }
          },
          "metadata": {},
          "execution_count": 38
        }
      ]
    },
    {
      "cell_type": "code",
      "source": [
        "# 한글 문자열\n",
        "hello= \"먹어도 먹어도 배고프다\"\n",
        "print(hello)\n",
        "hello"
      ],
      "metadata": {
        "colab": {
          "base_uri": "https://localhost:8080/",
          "height": 53
        },
        "id": "VGiSFZvJ_oK4",
        "outputId": "33154c23-4acf-4e86-fb2a-132496a0caa1"
      },
      "execution_count": 3,
      "outputs": [
        {
          "output_type": "stream",
          "name": "stdout",
          "text": [
            "먹어도 먹어도 배고프다\n"
          ]
        },
        {
          "output_type": "execute_result",
          "data": {
            "text/plain": [
              "'먹어도 먹어도 배고프다'"
            ],
            "application/vnd.google.colaboratory.intrinsic+json": {
              "type": "string"
            }
          },
          "metadata": {},
          "execution_count": 3
        }
      ]
    },
    {
      "cell_type": "code",
      "source": [
        "#  \" \"(큰따옴표)로 묶기\n",
        "hello = \"hello my name is young\"\n",
        "hello"
      ],
      "metadata": {
        "colab": {
          "base_uri": "https://localhost:8080/",
          "height": 35
        },
        "id": "zsapMNOq_tPx",
        "outputId": "f94e8edf-5ae7-4576-8c54-2b64076889db"
      },
      "execution_count": 5,
      "outputs": [
        {
          "output_type": "execute_result",
          "data": {
            "text/plain": [
              "'hello my name is young'"
            ],
            "application/vnd.google.colaboratory.intrinsic+json": {
              "type": "string"
            }
          },
          "metadata": {},
          "execution_count": 5
        }
      ]
    },
    {
      "cell_type": "code",
      "source": [
        "# '''(작은따옴표 3개)로 묶거나 \"\"\"(큰따옴표 3개)로 묶기\n",
        "hello = '''hello young'''\n",
        "print(hello)\n",
        "hello2 = ''' my name is young'''\n",
        "print(hello2)"
      ],
      "metadata": {
        "colab": {
          "base_uri": "https://localhost:8080/"
        },
        "id": "ojKnWfsm_2K7",
        "outputId": "aa30fc2c-f146-4494-b606-340a9d8e12be"
      },
      "execution_count": 8,
      "outputs": [
        {
          "output_type": "stream",
          "name": "stdout",
          "text": [
            "hello young\n",
            " my name is young\n"
          ]
        }
      ]
    },
    {
      "cell_type": "markdown",
      "source": [
        "### 여러 줄로 된 문자열 사용하기"
      ],
      "metadata": {
        "id": "20xHUbPlAFCf"
      }
    },
    {
      "cell_type": "markdown",
      "source": [
        "* 이번에는 여러 줄로 된 문자열(multiline string)을 사용해보겠습니다. 다음과 같이 '''(작은따옴표 3개)로 시작하고 Hello, world!를 입력한 다음에 엔터 키를 누르면 다음 줄로 이동합니다. 이런 방식으로 문자열을 계속 입력하고 마지막 줄에서 '''로 닫습니다."
      ],
      "metadata": {
        "id": "zDxIhYj9AKmU"
      }
    },
    {
      "cell_type": "code",
      "source": [
        "hello ='''hello kitty\n",
        "kitty is cute\n",
        "good good\n",
        "'''\n",
        "print(hello)"
      ],
      "metadata": {
        "colab": {
          "base_uri": "https://localhost:8080/"
        },
        "id": "cyLICe6z_3Oe",
        "outputId": "4abd18e0-b106-43e4-a913-e72d13c9cae8"
      },
      "execution_count": 9,
      "outputs": [
        {
          "output_type": "stream",
          "name": "stdout",
          "text": [
            "hello kitty\n",
            "kitty is cute\n",
            "good good\n",
            "\n"
          ]
        }
      ]
    },
    {
      "cell_type": "markdown",
      "source": [
        "* 이처럼 여러 줄로 된 문자열은 '''(작은따옴표 3개)로 시작하여 '''로 끝납니다. 물론 \"\"\"(큰따옴표 3개)로 시작하여 \"\"\"로 끝내도 됩니다."
      ],
      "metadata": {
        "id": "D8wvAGQcAVCX"
      }
    },
    {
      "cell_type": "markdown",
      "source": [
        "### 문자열 안에 작은따옴표나 큰따옴표 포함하기"
      ],
      "metadata": {
        "id": "MTokV0hwAZdG"
      }
    },
    {
      "cell_type": "markdown",
      "source": [
        "* 그런데 문자열을 표현할 때 작은따옴표와 큰따옴표 중 한 가지로 통일하지 않고 여러 가지 방식을 사용할까요?\n",
        "* 문자열을 사용하다 보면 문자열 안에 작은따옴표나 큰따옴표를 넣어야 할 경우가 생깁니다. 이때는 작은따옴표와 큰따옴표를 사용하는 규칙이 달라집니다."
      ],
      "metadata": {
        "id": "BIPkGcHYAc87"
      }
    },
    {
      "cell_type": "code",
      "source": [
        "# 먼저 문자열 안에 '(작은따옴표)를 넣고 싶다면 문자열을 \"(큰따옴표)로 묶어줍니다. 이렇게 하면 문자열 안에 '를 그대로 사용할 수 있습니다.\n",
        "s = \"Python isn't difficult\"\n",
        "s"
      ],
      "metadata": {
        "colab": {
          "base_uri": "https://localhost:8080/",
          "height": 35
        },
        "id": "cSCT0n5lAR9M",
        "outputId": "b747d54c-589a-4b3c-e984-090e912cb39a"
      },
      "execution_count": 12,
      "outputs": [
        {
          "output_type": "execute_result",
          "data": {
            "text/plain": [
              "\"Python isn't difficult\""
            ],
            "application/vnd.google.colaboratory.intrinsic+json": {
              "type": "string"
            }
          },
          "metadata": {},
          "execution_count": 12
        }
      ]
    },
    {
      "cell_type": "code",
      "source": [
        "# 반대로 문자열 안에 \"(큰따옴표)를 넣고 싶다면 문자열을 '(작은따옴표)로 묶어줍니다.\n",
        "s = \"He said 'Python is easy\"\n",
        "s"
      ],
      "metadata": {
        "colab": {
          "base_uri": "https://localhost:8080/",
          "height": 36
        },
        "id": "aavSkJD2AkVH",
        "outputId": "ce5fe603-4b9a-46fd-8874-820c7ca5b8cc"
      },
      "execution_count": null,
      "outputs": [
        {
          "output_type": "execute_result",
          "data": {
            "text/plain": [
              "'He said \"Python is easy\"'"
            ],
            "application/vnd.google.colaboratory.intrinsic+json": {
              "type": "string"
            }
          },
          "metadata": {},
          "execution_count": 45
        }
      ]
    },
    {
      "cell_type": "code",
      "source": [
        "# 하지만 작은따옴표 안에 작은따옴표를 넣거나 큰따옴표 안에 큰따옴표를 넣을 수는 없습니다.\n",
        "s = 'Python isn't difficult"
      ],
      "metadata": {
        "colab": {
          "base_uri": "https://localhost:8080/",
          "height": 136
        },
        "id": "wItvReRmAoW6",
        "outputId": "89488a82-dee2-42d6-bbfb-48a5dec2f3a1"
      },
      "execution_count": 13,
      "outputs": [
        {
          "output_type": "error",
          "ename": "SyntaxError",
          "evalue": "ignored",
          "traceback": [
            "\u001b[0;36m  File \u001b[0;32m\"<ipython-input-13-44d995ad0bb3>\"\u001b[0;36m, line \u001b[0;32m2\u001b[0m\n\u001b[0;31m    s = 'Python isn't difficult\u001b[0m\n\u001b[0m                    ^\u001b[0m\n\u001b[0;31mSyntaxError\u001b[0m\u001b[0;31m:\u001b[0m invalid syntax\n"
          ]
        }
      ]
    },
    {
      "cell_type": "code",
      "source": [
        "s = 'He said 'Pyhton is easy\""
      ],
      "metadata": {
        "colab": {
          "base_uri": "https://localhost:8080/",
          "height": 136
        },
        "id": "Y_jsdKR_ArYj",
        "outputId": "71b6d1a2-eb6c-4a75-8916-b52593b377e3"
      },
      "execution_count": 14,
      "outputs": [
        {
          "output_type": "error",
          "ename": "SyntaxError",
          "evalue": "ignored",
          "traceback": [
            "\u001b[0;36m  File \u001b[0;32m\"<ipython-input-14-3ea64490735f>\"\u001b[0;36m, line \u001b[0;32m1\u001b[0m\n\u001b[0;31m    s = 'He said 'Pyhton is easy\"\u001b[0m\n\u001b[0m                  ^\u001b[0m\n\u001b[0;31mSyntaxError\u001b[0m\u001b[0;31m:\u001b[0m invalid syntax\n"
          ]
        }
      ]
    },
    {
      "cell_type": "code",
      "source": [
        "# 하지만 여러 줄로 된 문자열은 작은따옴표 안에 작은따옴표와 큰따옴표를 둘 다 넣을 수 있습니다.\n",
        "# 또한, 큰따옴표 안에도 작은따옴표와 큰따옴표를 넣을 수 있습니다.\n",
        "single_quote='''안녕하세요.\"\n",
        "'파이썬'입니다.'''\n",
        "print(single_quote)\n",
        "\n",
        "double_quote = '''안녕하세요, \"파이썬\"입니다.'''\n",
        "\n",
        "print(double_quote)"
      ],
      "metadata": {
        "colab": {
          "base_uri": "https://localhost:8080/"
        },
        "id": "CerfvpW9As8Z",
        "outputId": "e07a007a-114f-4d86-c771-ec3251a8151f"
      },
      "execution_count": 16,
      "outputs": [
        {
          "output_type": "stream",
          "name": "stdout",
          "text": [
            "안녕하세요.\"\n",
            "'파이썬'입니다.\n",
            "안녕하세요, \"파이썬\"입니다.\n"
          ]
        }
      ]
    },
    {
      "cell_type": "markdown",
      "source": [
        "### 문자열에 따옴표를 포함하는 다른 방법"
      ],
      "metadata": {
        "id": "Kknlt6d7A2c_"
      }
    },
    {
      "cell_type": "markdown",
      "source": [
        "* 작은따옴표 안에 작은따옴표를 넣을 수는 없을까요? 방법이 있습니다. 다음과 같이 작은따옴표 앞에 \\(역슬래시)를 붙이면 됩니다."
      ],
      "metadata": {
        "id": "6o-0n8hIA4pt"
      }
    },
    {
      "cell_type": "code",
      "source": [
        "\"Python isn\\'t difficult\""
      ],
      "metadata": {
        "colab": {
          "base_uri": "https://localhost:8080/",
          "height": 35
        },
        "id": "tGy0jyuRA7Xv",
        "outputId": "b3af68d6-6d4e-424e-bf2d-92b726f3de02"
      },
      "execution_count": 18,
      "outputs": [
        {
          "output_type": "execute_result",
          "data": {
            "text/plain": [
              "\"Python isn't difficult\""
            ],
            "application/vnd.google.colaboratory.intrinsic+json": {
              "type": "string"
            }
          },
          "metadata": {},
          "execution_count": 18
        }
      ]
    },
    {
      "cell_type": "markdown",
      "source": [
        "* 물론 큰따옴표도 \"He said \\\"Python is easy\\\"\"처럼 큰따옴표 앞에 \\를 붙이면 됩니다.\n",
        "* 이처럼 문자열 안에 ', \" 등의 특수 문자를 포함하기 위해 앞에 \\를 붙이는 방법을 이스케이프(escape)라고 부릅니다."
      ],
      "metadata": {
        "id": "JFpb2R8OBB66"
      }
    }
  ]
}