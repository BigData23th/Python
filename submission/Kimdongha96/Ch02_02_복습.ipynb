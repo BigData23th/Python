{
  "nbformat": 4,
  "nbformat_minor": 0,
  "metadata": {
    "colab": {
      "provenance": [],
      "authorship_tag": "ABX9TyNQnFm2IT/bYD7FdFM83anw",
      "include_colab_link": true
    },
    "kernelspec": {
      "name": "python3",
      "display_name": "Python 3"
    },
    "language_info": {
      "name": "python"
    }
  },
  "cells": [
    {
      "cell_type": "markdown",
      "metadata": {
        "id": "view-in-github",
        "colab_type": "text"
      },
      "source": [
        "<a href=\"https://colab.research.google.com/github/Kimdongha96/Python/blob/main/submission/Kimdongha96/Ch02_02_%EB%B3%B5%EC%8A%B5.ipynb\" target=\"_parent\"><img src=\"https://colab.research.google.com/assets/colab-badge.svg\" alt=\"Open In Colab\"/></a>"
      ]
    },
    {
      "cell_type": "markdown",
      "source": [
        "# 시퀀스"
      ],
      "metadata": {
        "id": "1M5iZr542JLr"
      }
    },
    {
      "cell_type": "code",
      "execution_count": null,
      "metadata": {
        "colab": {
          "base_uri": "https://localhost:8080/"
        },
        "id": "S6exXZASx7-e",
        "outputId": "2fae716e-82c1-40b9-ee06-f84bfbb9ed91"
      },
      "outputs": [
        {
          "output_type": "execute_result",
          "data": {
            "text/plain": [
              "('', '', '', '')"
            ]
          },
          "metadata": {},
          "execution_count": 2
        }
      ],
      "source": [
        "# 시퀀스 : 0개 이상의 원소가 나열되어 묶여 있는 자료형\n",
        "# list, tuple, range, string(str):문자열 \n",
        "[] # 대괄호\n",
        "() # 소괄호\n",
        "\"\", '', '''''',\"\"\"\"\"\", # 문자열"
      ]
    },
    {
      "cell_type": "markdown",
      "source": [
        "# in, not in"
      ],
      "metadata": {
        "id": "7RNcDGIS2EQV"
      }
    },
    {
      "cell_type": "code",
      "source": [
        "# 값 in 시퀀스 객체 <-> for 변수명 in 시퀀스 객체:\n",
        "\"파이썬\" in [\"파이썬\", \"자바\", \"자바 스크립트\"]"
      ],
      "metadata": {
        "colab": {
          "base_uri": "https://localhost:8080/"
        },
        "id": "yRROkN9x0UAP",
        "outputId": "787a0d71-4b73-46eb-e875-d64adfcf0081"
      },
      "execution_count": null,
      "outputs": [
        {
          "output_type": "execute_result",
          "data": {
            "text/plain": [
              "True"
            ]
          },
          "metadata": {},
          "execution_count": 4
        }
      ]
    },
    {
      "cell_type": "code",
      "source": [
        "a = \"파이썬\"\n",
        "b = [\"파이썬\", \"자바\", \"자바 스크립트\"]\n",
        "a in b # bool -> 참과 거짓, (있나요? 없나요?)"
      ],
      "metadata": {
        "colab": {
          "base_uri": "https://localhost:8080/"
        },
        "id": "XeyUy-hX0k9E",
        "outputId": "8031c0b5-89f2-4f3e-a397-9b903027878a"
      },
      "execution_count": null,
      "outputs": [
        {
          "output_type": "execute_result",
          "data": {
            "text/plain": [
              "True"
            ]
          },
          "metadata": {},
          "execution_count": 6
        }
      ]
    },
    {
      "cell_type": "code",
      "source": [
        "c = \"C언어\"\n",
        "c in b, c not in b"
      ],
      "metadata": {
        "colab": {
          "base_uri": "https://localhost:8080/"
        },
        "id": "XBqDor381AE9",
        "outputId": "b5e404c1-8307-4618-8bde-f93c5cbc2f86"
      },
      "execution_count": null,
      "outputs": [
        {
          "output_type": "execute_result",
          "data": {
            "text/plain": [
              "(False, True)"
            ]
          },
          "metadata": {},
          "execution_count": 9
        }
      ]
    },
    {
      "cell_type": "code",
      "source": [
        "name = \"김동하\"\n",
        "\"김\" in name, \"동하\" in name"
      ],
      "metadata": {
        "colab": {
          "base_uri": "https://localhost:8080/"
        },
        "id": "dzdFr5HS1kLq",
        "outputId": "3b131fc1-042b-4833-d239-d0e97229a82e"
      },
      "execution_count": null,
      "outputs": [
        {
          "output_type": "execute_result",
          "data": {
            "text/plain": [
              "(True, True)"
            ]
          },
          "metadata": {},
          "execution_count": 12
        }
      ]
    },
    {
      "cell_type": "code",
      "source": [
        "sentence = \"아버지가 밤에 들어가십니다\"\n",
        "\"아버지\" in sentence, \"어머니\" not in sentence"
      ],
      "metadata": {
        "colab": {
          "base_uri": "https://localhost:8080/"
        },
        "id": "8ZKgxUTG1umh",
        "outputId": "b0d51863-1f10-4397-c722-f7b55769ae4b"
      },
      "execution_count": null,
      "outputs": [
        {
          "output_type": "execute_result",
          "data": {
            "text/plain": [
              "(True, True)"
            ]
          },
          "metadata": {},
          "execution_count": 15
        }
      ]
    },
    {
      "cell_type": "markdown",
      "source": [
        "# 연결(+)"
      ],
      "metadata": {
        "id": "aVDHCR-W2MhA"
      }
    },
    {
      "cell_type": "code",
      "source": [
        "a = [\"사과\", \"배\", \"고라니\"]\n",
        "b = [1, 2, 3, 4, 5, 6]\n",
        "a + b # 연결 (concatenate)"
      ],
      "metadata": {
        "colab": {
          "base_uri": "https://localhost:8080/"
        },
        "id": "mDaBQYuh16H6",
        "outputId": "1cf2a642-7a80-4164-e785-ac88245bab51"
      },
      "execution_count": null,
      "outputs": [
        {
          "output_type": "execute_result",
          "data": {
            "text/plain": [
              "['사과', '배', '고라니', 1, 2, 3, 4, 5, 6]"
            ]
          },
          "metadata": {},
          "execution_count": 17
        }
      ]
    },
    {
      "cell_type": "code",
      "source": [
        "a, b"
      ],
      "metadata": {
        "colab": {
          "base_uri": "https://localhost:8080/"
        },
        "id": "JJgcRHHR2guy",
        "outputId": "de7bf8b3-54f7-4ab2-da4d-8f41b6ed0550"
      },
      "execution_count": null,
      "outputs": [
        {
          "output_type": "execute_result",
          "data": {
            "text/plain": [
              "(['사과', '배', '고라니'], [1, 2, 3, 4, 5, 6])"
            ]
          },
          "metadata": {},
          "execution_count": 19
        }
      ]
    },
    {
      "cell_type": "code",
      "source": [
        "(1, 2, 3) + (4, 5, 6)"
      ],
      "metadata": {
        "colab": {
          "base_uri": "https://localhost:8080/"
        },
        "id": "60V6odQ223qr",
        "outputId": "8dcaec17-655f-4077-9481-5bbad49bf024"
      },
      "execution_count": null,
      "outputs": [
        {
          "output_type": "execute_result",
          "data": {
            "text/plain": [
              "(1, 2, 3, 4, 5, 6)"
            ]
          },
          "metadata": {},
          "execution_count": 21
        }
      ]
    },
    {
      "cell_type": "code",
      "source": [
        "\"이삭\" + \"토스트\""
      ],
      "metadata": {
        "colab": {
          "base_uri": "https://localhost:8080/",
          "height": 35
        },
        "id": "c4dF3DJU29lA",
        "outputId": "97d98547-744b-4329-bb80-08d4cf812135"
      },
      "execution_count": null,
      "outputs": [
        {
          "output_type": "execute_result",
          "data": {
            "text/plain": [
              "'이삭토스트'"
            ],
            "application/vnd.google.colaboratory.intrinsic+json": {
              "type": "string"
            }
          },
          "metadata": {},
          "execution_count": 22
        }
      ]
    },
    {
      "cell_type": "code",
      "source": [
        "range(10) + range(10)"
      ],
      "metadata": {
        "id": "rvymuD0w3Bxe",
        "outputId": "3cce31df-229f-432c-baff-6a52582e685e",
        "colab": {
          "base_uri": "https://localhost:8080/",
          "height": 172
        }
      },
      "execution_count": 24,
      "outputs": [
        {
          "output_type": "error",
          "ename": "TypeError",
          "evalue": "ignored",
          "traceback": [
            "\u001b[0;31m---------------------------------------------------------------------------\u001b[0m",
            "\u001b[0;31mTypeError\u001b[0m                                 Traceback (most recent call last)",
            "\u001b[0;32m<ipython-input-24-bf425b1240c8>\u001b[0m in \u001b[0;36m<module>\u001b[0;34m\u001b[0m\n\u001b[0;32m----> 1\u001b[0;31m \u001b[0mrange\u001b[0m\u001b[0;34m(\u001b[0m\u001b[0;36m10\u001b[0m\u001b[0;34m)\u001b[0m \u001b[0;34m+\u001b[0m \u001b[0mrange\u001b[0m\u001b[0;34m(\u001b[0m\u001b[0;36m10\u001b[0m\u001b[0;34m)\u001b[0m\u001b[0;34m\u001b[0m\u001b[0;34m\u001b[0m\u001b[0m\n\u001b[0m",
            "\u001b[0;31mTypeError\u001b[0m: unsupported operand type(s) for +: 'range' and 'range'"
          ]
        }
      ]
    },
    {
      "cell_type": "code",
      "source": [
        "list(range(10)) + list(range(10))"
      ],
      "metadata": {
        "colab": {
          "base_uri": "https://localhost:8080/"
        },
        "id": "ddmyCXmB3Sgi",
        "outputId": "de54f31b-bb45-434e-f711-00a808f24287"
      },
      "execution_count": 25,
      "outputs": [
        {
          "output_type": "execute_result",
          "data": {
            "text/plain": [
              "[0, 1, 2, 3, 4, 5, 6, 7, 8, 9, 0, 1, 2, 3, 4, 5, 6, 7, 8, 9]"
            ]
          },
          "metadata": {},
          "execution_count": 25
        }
      ]
    },
    {
      "cell_type": "code",
      "source": [
        "print(\"안녕하세요\", 1, \"학년입니다\")"
      ],
      "metadata": {
        "colab": {
          "base_uri": "https://localhost:8080/"
        },
        "id": "FVTrtYcH3X5B",
        "outputId": "d7734420-c597-4ccc-97b9-6c7dc9e76438"
      },
      "execution_count": 26,
      "outputs": [
        {
          "output_type": "stream",
          "name": "stdout",
          "text": [
            "안녕하세요 1 학년입니다\n"
          ]
        }
      ]
    },
    {
      "cell_type": "code",
      "source": [
        "\"안녕하세요\" + 1 + \"학년입니다\"  # int+ str (X)"
      ],
      "metadata": {
        "colab": {
          "base_uri": "https://localhost:8080/",
          "height": 136
        },
        "id": "gpXwlQQQ3cdO",
        "outputId": "e9fd36fd-1040-413b-bb6f-8acad955a316"
      },
      "execution_count": 27,
      "outputs": [
        {
          "output_type": "error",
          "ename": "SyntaxError",
          "evalue": "ignored",
          "traceback": [
            "\u001b[0;36m  File \u001b[0;32m\"<ipython-input-27-aa8e400f882e>\"\u001b[0;36m, line \u001b[0;32m1\u001b[0m\n\u001b[0;31m    \"안녕하세요\" + 1 + \"학년입니다  # int+ str (X)\u001b[0m\n\u001b[0m                                        ^\u001b[0m\n\u001b[0;31mSyntaxError\u001b[0m\u001b[0;31m:\u001b[0m EOL while scanning string literal\n"
          ]
        }
      ]
    },
    {
      "cell_type": "code",
      "source": [
        "int(\"안녕하세요\")"
      ],
      "metadata": {
        "colab": {
          "base_uri": "https://localhost:8080/",
          "height": 172
        },
        "id": "s7enIBdi3l3x",
        "outputId": "60928fbd-6cc0-4220-d271-8c87f0b58541"
      },
      "execution_count": 28,
      "outputs": [
        {
          "output_type": "error",
          "ename": "ValueError",
          "evalue": "ignored",
          "traceback": [
            "\u001b[0;31m---------------------------------------------------------------------------\u001b[0m",
            "\u001b[0;31mValueError\u001b[0m                                Traceback (most recent call last)",
            "\u001b[0;32m<ipython-input-28-b771e1eb05d9>\u001b[0m in \u001b[0;36m<module>\u001b[0;34m\u001b[0m\n\u001b[0;32m----> 1\u001b[0;31m \u001b[0mint\u001b[0m\u001b[0;34m(\u001b[0m\u001b[0;34m\"안녕하세요\"\u001b[0m\u001b[0;34m)\u001b[0m\u001b[0;34m\u001b[0m\u001b[0;34m\u001b[0m\u001b[0m\n\u001b[0m",
            "\u001b[0;31mValueError\u001b[0m: invalid literal for int() with base 10: '안녕하세요'"
          ]
        }
      ]
    },
    {
      "cell_type": "code",
      "source": [
        "\"안녕하세요\" + str(1) + \"학년입니다\""
      ],
      "metadata": {
        "colab": {
          "base_uri": "https://localhost:8080/",
          "height": 35
        },
        "id": "mJzpjocm3sgr",
        "outputId": "52fb2c67-2566-4aaf-9019-be4c8cb88935"
      },
      "execution_count": 29,
      "outputs": [
        {
          "output_type": "execute_result",
          "data": {
            "text/plain": [
              "'안녕하세요1학년입니다'"
            ],
            "application/vnd.google.colaboratory.intrinsic+json": {
              "type": "string"
            }
          },
          "metadata": {},
          "execution_count": 29
        }
      ]
    },
    {
      "cell_type": "markdown",
      "source": [
        "# 반복(*)"
      ],
      "metadata": {
        "id": "Vq4syiwK33nv"
      }
    },
    {
      "cell_type": "code",
      "source": [
        "# 연결을 n번 이상하는, (시퀀스 객체) * n, n * (시퀀스 객체)\n",
        "[1, 10, 100, 1000] * 3"
      ],
      "metadata": {
        "colab": {
          "base_uri": "https://localhost:8080/"
        },
        "id": "C0uvTM-33wy9",
        "outputId": "42e7a0b1-54c8-4e6c-c59d-fbe1af8c934d"
      },
      "execution_count": 30,
      "outputs": [
        {
          "output_type": "execute_result",
          "data": {
            "text/plain": [
              "[1, 10, 100, 1000, 1, 10, 100, 1000, 1, 10, 100, 1000]"
            ]
          },
          "metadata": {},
          "execution_count": 30
        }
      ]
    },
    {
      "cell_type": "code",
      "source": [
        " [1, 10, 100, 1000] + [1, 10, 100, 1000] + [1, 10, 100, 1000] "
      ],
      "metadata": {
        "colab": {
          "base_uri": "https://localhost:8080/"
        },
        "id": "WAoqgQ5j4ZBQ",
        "outputId": "2659ab95-1727-4060-9abd-8944d7ee7fb1"
      },
      "execution_count": 31,
      "outputs": [
        {
          "output_type": "execute_result",
          "data": {
            "text/plain": [
              "[1, 10, 100, 1000, 1, 10, 100, 1000, 1, 10, 100, 1000]"
            ]
          },
          "metadata": {},
          "execution_count": 31
        }
      ]
    },
    {
      "cell_type": "code",
      "source": [
        "[0] * 7 # 0을 7개 가진 리스트 만들기"
      ],
      "metadata": {
        "colab": {
          "base_uri": "https://localhost:8080/"
        },
        "id": "Fd7HUPT74kKw",
        "outputId": "11ab1bc8-f1c0-4c71-b3ae-870760299bfb"
      },
      "execution_count": 32,
      "outputs": [
        {
          "output_type": "execute_result",
          "data": {
            "text/plain": [
              "[0, 0, 0, 0, 0, 0, 0]"
            ]
          },
          "metadata": {},
          "execution_count": 32
        }
      ]
    },
    {
      "cell_type": "code",
      "source": [
        "[0] * 0, [0] * -1 # 0이하의 숫자를 넣으면"
      ],
      "metadata": {
        "colab": {
          "base_uri": "https://localhost:8080/"
        },
        "id": "8ny675aH4orT",
        "outputId": "1d8ba847-b96b-4623-e414-1466ddb48312"
      },
      "execution_count": 33,
      "outputs": [
        {
          "output_type": "execute_result",
          "data": {
            "text/plain": [
              "([], [])"
            ]
          },
          "metadata": {},
          "execution_count": 33
        }
      ]
    },
    {
      "cell_type": "code",
      "source": [
        "(0) * 0"
      ],
      "metadata": {
        "colab": {
          "base_uri": "https://localhost:8080/"
        },
        "id": "pMPU7jVx44nG",
        "outputId": "dcee7c9e-0a59-4a1e-d119-c909f45327b0"
      },
      "execution_count": 34,
      "outputs": [
        {
          "output_type": "execute_result",
          "data": {
            "text/plain": [
              "0"
            ]
          },
          "metadata": {},
          "execution_count": 34
        }
      ]
    },
    {
      "cell_type": "code",
      "source": [
        "range(10) * 10"
      ],
      "metadata": {
        "colab": {
          "base_uri": "https://localhost:8080/",
          "height": 172
        },
        "id": "coqz6Cli46so",
        "outputId": "8076c3db-ada7-431a-de7f-2b63ad257bec"
      },
      "execution_count": 36,
      "outputs": [
        {
          "output_type": "error",
          "ename": "TypeError",
          "evalue": "ignored",
          "traceback": [
            "\u001b[0;31m---------------------------------------------------------------------------\u001b[0m",
            "\u001b[0;31mTypeError\u001b[0m                                 Traceback (most recent call last)",
            "\u001b[0;32m<ipython-input-36-a7002218ace3>\u001b[0m in \u001b[0;36m<module>\u001b[0;34m\u001b[0m\n\u001b[0;32m----> 1\u001b[0;31m \u001b[0mrange\u001b[0m\u001b[0;34m(\u001b[0m\u001b[0;36m10\u001b[0m\u001b[0;34m)\u001b[0m \u001b[0;34m*\u001b[0m \u001b[0;36m10\u001b[0m\u001b[0;34m\u001b[0m\u001b[0;34m\u001b[0m\u001b[0m\n\u001b[0m",
            "\u001b[0;31mTypeError\u001b[0m: unsupported operand type(s) for *: 'range' and 'int'"
          ]
        }
      ]
    },
    {
      "cell_type": "code",
      "source": [
        "tuple(range(10)) * 10"
      ],
      "metadata": {
        "id": "WL46CX2F5Ctb"
      },
      "execution_count": null,
      "outputs": []
    },
    {
      "cell_type": "code",
      "source": [
        "\"퇴실\" * 10"
      ],
      "metadata": {
        "colab": {
          "base_uri": "https://localhost:8080/",
          "height": 35
        },
        "id": "NjxCKlAH5FtE",
        "outputId": "8877f9e7-96a3-4d4e-9919-a0c174cae2ea"
      },
      "execution_count": 38,
      "outputs": [
        {
          "output_type": "execute_result",
          "data": {
            "text/plain": [
              "'퇴실퇴실퇴실퇴실퇴실퇴실퇴실퇴실퇴실퇴실'"
            ],
            "application/vnd.google.colaboratory.intrinsic+json": {
              "type": "string"
            }
          },
          "metadata": {},
          "execution_count": 38
        }
      ]
    },
    {
      "cell_type": "markdown",
      "source": [
        "# len()"
      ],
      "metadata": {
        "id": "eqVAS0NG5vCH"
      }
    },
    {
      "cell_type": "code",
      "source": [
        "# Java, array, lenght(), JS: arry lenght, Python: len(array)\n",
        "list([1, 2, 3]), len(range(2, 5, 2)), len(\"문자열\")"
      ],
      "metadata": {
        "colab": {
          "base_uri": "https://localhost:8080/"
        },
        "id": "34yIsXl_5Imi",
        "outputId": "6bb39833-71a0-486b-854b-424e281f4c3d"
      },
      "execution_count": 39,
      "outputs": [
        {
          "output_type": "execute_result",
          "data": {
            "text/plain": [
              "([1, 2, 3], 2, 3)"
            ]
          },
          "metadata": {},
          "execution_count": 39
        }
      ]
    },
    {
      "cell_type": "markdown",
      "source": [
        "# index"
      ],
      "metadata": {
        "id": "uXyGeUjH55gb"
      }
    },
    {
      "cell_type": "code",
      "source": [
        "# 0부터 시작, 전체 길이 -1\n",
        "a = list(range(100, 600, 100))\n",
        "print(a)"
      ],
      "metadata": {
        "colab": {
          "base_uri": "https://localhost:8080/"
        },
        "id": "ap9aRSgq5kbx",
        "outputId": "c52423e2-1cc3-4d39-ac1d-03c73be12178"
      },
      "execution_count": 41,
      "outputs": [
        {
          "output_type": "stream",
          "name": "stdout",
          "text": [
            "[100, 200, 300, 400, 500]\n"
          ]
        }
      ]
    },
    {
      "cell_type": "code",
      "source": [
        "a[2],a[2-1], a[1], a[0]"
      ],
      "metadata": {
        "colab": {
          "base_uri": "https://localhost:8080/"
        },
        "id": "86S2Zv8J6FRr",
        "outputId": "306876a0-d911-4ca6-fec6-6a641a181df4"
      },
      "execution_count": 46,
      "outputs": [
        {
          "output_type": "execute_result",
          "data": {
            "text/plain": [
              "(300, 200, 200, 100)"
            ]
          },
          "metadata": {},
          "execution_count": 46
        }
      ]
    },
    {
      "cell_type": "code",
      "source": [
        "name = \"김나나씨\"\n",
        "name[0], name[3]"
      ],
      "metadata": {
        "colab": {
          "base_uri": "https://localhost:8080/"
        },
        "id": "CXcM7AU_6UA3",
        "outputId": "6cfa5042-da99-45bf-f75b-736229c51d32"
      },
      "execution_count": 48,
      "outputs": [
        {
          "output_type": "execute_result",
          "data": {
            "text/plain": [
              "('김', '씨')"
            ]
          },
          "metadata": {},
          "execution_count": 48
        }
      ]
    },
    {
      "cell_type": "code",
      "source": [
        "# 음수인덱스 : 뒤에서부터 카운트, len(시퀀스객체) - n\n",
        "# a, a[-n] = a[len(a)-n]\n",
        "print(a)\n",
        "a[-1],a[len(a)-1]"
      ],
      "metadata": {
        "colab": {
          "base_uri": "https://localhost:8080/"
        },
        "id": "Frv7IT3d6gpc",
        "outputId": "7277b9b0-dc83-49b7-9eea-f6571470250c"
      },
      "execution_count": 49,
      "outputs": [
        {
          "output_type": "stream",
          "name": "stdout",
          "text": [
            "[100, 200, 300, 400, 500]\n"
          ]
        },
        {
          "output_type": "execute_result",
          "data": {
            "text/plain": [
              "(500, 500)"
            ]
          },
          "metadata": {},
          "execution_count": 49
        }
      ]
    },
    {
      "cell_type": "markdown",
      "source": [
        "# 요소에 값 할당하기\n",
        "* element, 요소, 구성요소, 원소."
      ],
      "metadata": {
        "id": "FfkBh-Ng68qx"
      }
    },
    {
      "cell_type": "code",
      "source": [
        "a = [0] * 5\n",
        "print(a)\n",
        "a[0] = 5\n",
        "a[1] = 13\n",
        "a[2] = 34\n",
        "a[3] = 88\n",
        "a[4] = 100\n",
        "a # 원본에 영향"
      ],
      "metadata": {
        "colab": {
          "base_uri": "https://localhost:8080/"
        },
        "id": "PcG0wi_I7Czg",
        "outputId": "ad48ca2e-1349-4634-abb3-bea1c376554f"
      },
      "execution_count": 52,
      "outputs": [
        {
          "output_type": "stream",
          "name": "stdout",
          "text": [
            "[0, 0, 0, 0, 0]\n"
          ]
        },
        {
          "output_type": "execute_result",
          "data": {
            "text/plain": [
              "[5, 13, 34, 88, 100]"
            ]
          },
          "metadata": {},
          "execution_count": 52
        }
      ]
    },
    {
      "cell_type": "code",
      "source": [
        "a[5]"
      ],
      "metadata": {
        "colab": {
          "base_uri": "https://localhost:8080/",
          "height": 172
        },
        "id": "HVAfhrpr7icx",
        "outputId": "34d621a5-a2de-489e-e502-0422e2411847"
      },
      "execution_count": 54,
      "outputs": [
        {
          "output_type": "error",
          "ename": "IndexError",
          "evalue": "ignored",
          "traceback": [
            "\u001b[0;31m---------------------------------------------------------------------------\u001b[0m",
            "\u001b[0;31mIndexError\u001b[0m                                Traceback (most recent call last)",
            "\u001b[0;32m<ipython-input-54-4a84d856522b>\u001b[0m in \u001b[0;36m<module>\u001b[0;34m\u001b[0m\n\u001b[0;32m----> 1\u001b[0;31m \u001b[0ma\u001b[0m\u001b[0;34m[\u001b[0m\u001b[0;36m5\u001b[0m\u001b[0;34m]\u001b[0m\u001b[0;34m\u001b[0m\u001b[0;34m\u001b[0m\u001b[0m\n\u001b[0m",
            "\u001b[0;31mIndexError\u001b[0m: list index out of range"
          ]
        }
      ]
    },
    {
      "cell_type": "markdown",
      "source": [
        "# del 시퀀스 객체"
      ],
      "metadata": {
        "id": "OdcJaK1t_Rnw"
      }
    },
    {
      "cell_type": "code",
      "source": [
        "# del 시퀀스 객체[인덱스]"
      ],
      "metadata": {
        "id": "lNqFPfJf7uYK"
      },
      "execution_count": 55,
      "outputs": []
    },
    {
      "cell_type": "code",
      "source": [
        "print(a)\n",
        "del a[2]\n",
        "a"
      ],
      "metadata": {
        "colab": {
          "base_uri": "https://localhost:8080/"
        },
        "id": "Y2X0Op8_7zj4",
        "outputId": "c7ccf4e6-a6de-404f-b8ec-1bc700a78364"
      },
      "execution_count": 58,
      "outputs": [
        {
          "output_type": "stream",
          "name": "stdout",
          "text": [
            "[5, 13, 88, 100]\n"
          ]
        },
        {
          "output_type": "execute_result",
          "data": {
            "text/plain": [
              "[5, 13, 100]"
            ]
          },
          "metadata": {},
          "execution_count": 58
        }
      ]
    },
    {
      "cell_type": "code",
      "source": [
        "a"
      ],
      "metadata": {
        "colab": {
          "base_uri": "https://localhost:8080/"
        },
        "id": "jn0bCmH1_WGR",
        "outputId": "d9665d90-75e2-4e8d-c2f2-16a4f1502104"
      },
      "execution_count": 60,
      "outputs": [
        {
          "output_type": "execute_result",
          "data": {
            "text/plain": [
              "[5, 13, 100]"
            ]
          },
          "metadata": {},
          "execution_count": 60
        }
      ]
    },
    {
      "cell_type": "code",
      "source": [
        "# 문자열, 튜플, 레인지 -> 읽기 전용\n",
        "s=\"book\"\n",
        "del = [2]"
      ],
      "metadata": {
        "colab": {
          "base_uri": "https://localhost:8080/",
          "height": 136
        },
        "id": "86j1tlgI_X0M",
        "outputId": "a3992ade-8568-4d2d-b7ad-d79226c29d85"
      },
      "execution_count": 62,
      "outputs": [
        {
          "output_type": "error",
          "ename": "SyntaxError",
          "evalue": "ignored",
          "traceback": [
            "\u001b[0;36m  File \u001b[0;32m\"<ipython-input-62-f41f1f98b010>\"\u001b[0;36m, line \u001b[0;32m3\u001b[0m\n\u001b[0;31m    del = [2]\u001b[0m\n\u001b[0m        ^\u001b[0m\n\u001b[0;31mSyntaxError\u001b[0m\u001b[0;31m:\u001b[0m invalid syntax\n"
          ]
        }
      ]
    },
    {
      "cell_type": "markdown",
      "source": [
        "# 슬라이스"
      ],
      "metadata": {
        "id": "DOFLtQgK_mv8"
      }
    },
    {
      "cell_type": "code",
      "source": [
        "# 시퀀스객체체[시작인덱스:끝인덱스]\n",
        "# 시퀀스객체[시작:], 시퀀스객체[:끝]\n",
        "# 시퀀스객체[시작:끝, 증가폭]\n",
        "# 시퀀스객체[: :증가폭]\n",
        "a = list(range(0,100,10))\n",
        "a"
      ],
      "metadata": {
        "colab": {
          "base_uri": "https://localhost:8080/"
        },
        "id": "_zFQlEfb_jHv",
        "outputId": "a0d9d645-d386-42cb-f34e-f8d53835aafc"
      },
      "execution_count": 64,
      "outputs": [
        {
          "output_type": "execute_result",
          "data": {
            "text/plain": [
              "[0, 10, 20, 30, 40, 50, 60, 70, 80, 90]"
            ]
          },
          "metadata": {},
          "execution_count": 64
        }
      ]
    },
    {
      "cell_type": "code",
      "source": [
        "# 슬라이스는 원본에 영향 미치지 않고 사본 만드는 방법\n",
        "a[0:4], len(a), a[0:10]"
      ],
      "metadata": {
        "colab": {
          "base_uri": "https://localhost:8080/"
        },
        "id": "opyblk1m_8Ib",
        "outputId": "4f00cba2-8732-4abb-c4af-d23da2d54f16"
      },
      "execution_count": 68,
      "outputs": [
        {
          "output_type": "execute_result",
          "data": {
            "text/plain": [
              "([0, 10, 20, 30], 10, [0, 10, 20, 30, 40, 50, 60, 70, 80, 90])"
            ]
          },
          "metadata": {},
          "execution_count": 68
        }
      ]
    },
    {
      "cell_type": "code",
      "source": [
        "a[1:1] # 빈 리스트"
      ],
      "metadata": {
        "colab": {
          "base_uri": "https://localhost:8080/"
        },
        "id": "rMs0AH7OARNz",
        "outputId": "7f2198fb-1636-4ea3-e0dd-520d02614d4b"
      },
      "execution_count": 69,
      "outputs": [
        {
          "output_type": "execute_result",
          "data": {
            "text/plain": [
              "[]"
            ]
          },
          "metadata": {},
          "execution_count": 69
        }
      ]
    },
    {
      "cell_type": "code",
      "source": [
        "a[3:5]"
      ],
      "metadata": {
        "colab": {
          "base_uri": "https://localhost:8080/"
        },
        "id": "G0k1sgGWAVuW",
        "outputId": "f33d6408-e14e-4b0c-c463-06cb0c8c0ce6"
      },
      "execution_count": 71,
      "outputs": [
        {
          "output_type": "execute_result",
          "data": {
            "text/plain": [
              "[30, 40]"
            ]
          },
          "metadata": {},
          "execution_count": 71
        }
      ]
    },
    {
      "cell_type": "code",
      "source": [
        "a[3:-1], a[3:len(a)-1]"
      ],
      "metadata": {
        "colab": {
          "base_uri": "https://localhost:8080/"
        },
        "id": "mHBCxxuoAhEt",
        "outputId": "a3a9c827-5f3b-4d33-bc1e-4a00fd66d3ac"
      },
      "execution_count": 72,
      "outputs": [
        {
          "output_type": "execute_result",
          "data": {
            "text/plain": [
              "([30, 40, 50, 60, 70, 80], [30, 40, 50, 60, 70, 80])"
            ]
          },
          "metadata": {},
          "execution_count": 72
        }
      ]
    },
    {
      "cell_type": "code",
      "source": [
        "list(range(1, 5, 2)), a[1:5:2], a[slice(1, 5, 2)]"
      ],
      "metadata": {
        "colab": {
          "base_uri": "https://localhost:8080/"
        },
        "id": "ZVBQMGJvApO2",
        "outputId": "1821ef3e-8ec4-4c13-d0a7-d09219f97390"
      },
      "execution_count": 77,
      "outputs": [
        {
          "output_type": "execute_result",
          "data": {
            "text/plain": [
              "([1, 3], [10, 30], [10, 30])"
            ]
          },
          "metadata": {},
          "execution_count": 77
        }
      ]
    },
    {
      "cell_type": "code",
      "source": [
        "a[:], a, a[0:len(a)]"
      ],
      "metadata": {
        "colab": {
          "base_uri": "https://localhost:8080/"
        },
        "id": "q29d9ogUBFur",
        "outputId": "d9c0fb47-b980-404f-d039-45af357546c4"
      },
      "execution_count": 80,
      "outputs": [
        {
          "output_type": "execute_result",
          "data": {
            "text/plain": [
              "([0, 10, 20, 30, 40, 50, 60, 70, 80, 90],\n",
              " [0, 10, 20, 30, 40, 50, 60, 70, 80, 90],\n",
              " [0, 10, 20, 30, 40, 50, 60, 70, 80, 90])"
            ]
          },
          "metadata": {},
          "execution_count": 80
        }
      ]
    },
    {
      "cell_type": "code",
      "source": [
        "a[1:], a, a[1:len(a)]"
      ],
      "metadata": {
        "colab": {
          "base_uri": "https://localhost:8080/"
        },
        "id": "RxNc1B_0BPNn",
        "outputId": "17350f9f-4020-4557-c106-e04f80b075e9"
      },
      "execution_count": 82,
      "outputs": [
        {
          "output_type": "execute_result",
          "data": {
            "text/plain": [
              "([10, 20, 30, 40, 50, 60, 70, 80, 90],\n",
              " [0, 10, 20, 30, 40, 50, 60, 70, 80, 90],\n",
              " [10, 20, 30, 40, 50, 60, 70, 80, 90])"
            ]
          },
          "metadata": {},
          "execution_count": 82
        }
      ]
    },
    {
      "cell_type": "code",
      "source": [
        "a[:5], a[0:5]"
      ],
      "metadata": {
        "colab": {
          "base_uri": "https://localhost:8080/"
        },
        "id": "rWuosiT5A1m1",
        "outputId": "94535372-4b4b-48a5-9e4b-cc251d865764"
      },
      "execution_count": 85,
      "outputs": [
        {
          "output_type": "execute_result",
          "data": {
            "text/plain": [
              "([0, 10, 20, 30, 40], [0, 10, 20, 30, 40])"
            ]
          },
          "metadata": {},
          "execution_count": 85
        }
      ]
    },
    {
      "cell_type": "code",
      "source": [
        "a[::2], a[0:len(a):2]"
      ],
      "metadata": {
        "colab": {
          "base_uri": "https://localhost:8080/"
        },
        "id": "g9XTPf6tBejV",
        "outputId": "4a8506dc-8350-47ab-e74a-fc7a5602f9fc"
      },
      "execution_count": 87,
      "outputs": [
        {
          "output_type": "execute_result",
          "data": {
            "text/plain": [
              "([0, 20, 40, 60, 80], [0, 20, 40, 60, 80])"
            ]
          },
          "metadata": {},
          "execution_count": 87
        }
      ]
    },
    {
      "cell_type": "code",
      "source": [
        "a[::-1], a[len(a)::-1]"
      ],
      "metadata": {
        "colab": {
          "base_uri": "https://localhost:8080/"
        },
        "id": "uKlIkctmBuYx",
        "outputId": "914866b0-e5dc-41d3-cd93-84d7f8321579"
      },
      "execution_count": 89,
      "outputs": [
        {
          "output_type": "execute_result",
          "data": {
            "text/plain": [
              "([90, 80, 70, 60, 50, 40, 30, 20, 10, 0],\n",
              " [90, 80, 70, 60, 50, 40, 30, 20, 10, 0])"
            ]
          },
          "metadata": {},
          "execution_count": 89
        }
      ]
    },
    {
      "cell_type": "code",
      "source": [
        "a[20:0:-1], a[20::-1]"
      ],
      "metadata": {
        "colab": {
          "base_uri": "https://localhost:8080/"
        },
        "id": "1N1YQgIGCBnf",
        "outputId": "f78bd954-ef11-4212-d274-1dad70d3fe77"
      },
      "execution_count": 91,
      "outputs": [
        {
          "output_type": "execute_result",
          "data": {
            "text/plain": [
              "([90, 80, 70, 60, 50, 40, 30, 20, 10], [90, 80, 70, 60, 50, 40, 30, 20, 10, 0])"
            ]
          },
          "metadata": {},
          "execution_count": 91
        }
      ]
    },
    {
      "cell_type": "code",
      "source": [
        "s = 'hello world'\n",
        "s[::-1], s[::2],s[1:3]"
      ],
      "metadata": {
        "colab": {
          "base_uri": "https://localhost:8080/"
        },
        "id": "WiXbYXdsCLYk",
        "outputId": "74dd9200-6831-420e-a58c-34323f84ab8d"
      },
      "execution_count": 94,
      "outputs": [
        {
          "output_type": "execute_result",
          "data": {
            "text/plain": [
              "('dlrow olleh', 'hlowrd', 'el')"
            ]
          },
          "metadata": {},
          "execution_count": 94
        }
      ]
    },
    {
      "cell_type": "code",
      "source": [
        "# 할당하기 -> 특정한 슬라이스 범위에 새로운 값들을 끼워넣기\n",
        "# 리스트 only, 갯수가 일치할 필요\n",
        "a = [1, 2, 3, 4, 5]\n",
        "print(a[1:3])\n",
        "a[1:3] = [6, 7, 8, 9]\n",
        "a"
      ],
      "metadata": {
        "colab": {
          "base_uri": "https://localhost:8080/"
        },
        "id": "F_5IvZnOCZoj",
        "outputId": "00de178f-c5bc-42d8-c30d-ee3aa9e8eb82"
      },
      "execution_count": 98,
      "outputs": [
        {
          "output_type": "stream",
          "name": "stdout",
          "text": [
            "[2, 3]\n"
          ]
        },
        {
          "output_type": "execute_result",
          "data": {
            "text/plain": [
              "[1, 6, 7, 8, 9, 4, 5]"
            ]
          },
          "metadata": {},
          "execution_count": 98
        }
      ]
    },
    {
      "cell_type": "code",
      "source": [
        "b = list(range(20))\n",
        "b"
      ],
      "metadata": {
        "colab": {
          "base_uri": "https://localhost:8080/"
        },
        "id": "JHoffI8ZC54x",
        "outputId": "ac243910-f753-4c8e-9f47-c03b768580c1"
      },
      "execution_count": 100,
      "outputs": [
        {
          "output_type": "execute_result",
          "data": {
            "text/plain": [
              "[0, 1, 2, 3, 4, 5, 6, 7, 8, 9, 10, 11, 12, 13, 14, 15, 16, 17, 18, 19]"
            ]
          },
          "metadata": {},
          "execution_count": 100
        }
      ]
    },
    {
      "cell_type": "code",
      "source": [
        "b[1:10:2]"
      ],
      "metadata": {
        "colab": {
          "base_uri": "https://localhost:8080/"
        },
        "id": "Wg2Cso2mC-KC",
        "outputId": "ff20f01c-c249-4452-d7a7-2ed0b2cdc110"
      },
      "execution_count": 102,
      "outputs": [
        {
          "output_type": "execute_result",
          "data": {
            "text/plain": [
              "[1, 3, 5, 7, 9]"
            ]
          },
          "metadata": {},
          "execution_count": 102
        }
      ]
    },
    {
      "cell_type": "code",
      "source": [
        "b[1:10:2] = [0] * 5\n",
        "b"
      ],
      "metadata": {
        "colab": {
          "base_uri": "https://localhost:8080/"
        },
        "id": "vZtiSwkWDDwe",
        "outputId": "15317b8c-416c-438a-f9af-07c5e9866e4d"
      },
      "execution_count": 104,
      "outputs": [
        {
          "output_type": "execute_result",
          "data": {
            "text/plain": [
              "[0, 0, 2, 0, 4, 0, 6, 0, 8, 0, 10, 11, 12, 13, 14, 15, 16, 17, 18, 19]"
            ]
          },
          "metadata": {},
          "execution_count": 104
        }
      ]
    },
    {
      "cell_type": "code",
      "source": [
        "b[1:10:2] = [0]"
      ],
      "metadata": {
        "colab": {
          "base_uri": "https://localhost:8080/",
          "height": 172
        },
        "id": "TkuUivKaDHZ9",
        "outputId": "8fa5598a-1942-4fde-da5a-c59bc9321432"
      },
      "execution_count": 107,
      "outputs": [
        {
          "output_type": "error",
          "ename": "ValueError",
          "evalue": "ignored",
          "traceback": [
            "\u001b[0;31m---------------------------------------------------------------------------\u001b[0m",
            "\u001b[0;31mValueError\u001b[0m                                Traceback (most recent call last)",
            "\u001b[0;32m<ipython-input-107-823a97fa7ea7>\u001b[0m in \u001b[0;36m<module>\u001b[0;34m\u001b[0m\n\u001b[0;32m----> 1\u001b[0;31m \u001b[0mb\u001b[0m\u001b[0;34m[\u001b[0m\u001b[0;36m1\u001b[0m\u001b[0;34m:\u001b[0m\u001b[0;36m10\u001b[0m\u001b[0;34m:\u001b[0m\u001b[0;36m2\u001b[0m\u001b[0;34m]\u001b[0m \u001b[0;34m=\u001b[0m \u001b[0;34m[\u001b[0m\u001b[0;36m0\u001b[0m\u001b[0;34m]\u001b[0m\u001b[0;34m\u001b[0m\u001b[0;34m\u001b[0m\u001b[0m\n\u001b[0m",
            "\u001b[0;31mValueError\u001b[0m: attempt to assign sequence of size 1 to extended slice of size 5"
          ]
        }
      ]
    },
    {
      "cell_type": "code",
      "source": [
        "print(a)"
      ],
      "metadata": {
        "colab": {
          "base_uri": "https://localhost:8080/"
        },
        "id": "cwwEv_LIDVSr",
        "outputId": "0b5fc6f6-df6a-49ce-f868-4660744983b9"
      },
      "execution_count": 109,
      "outputs": [
        {
          "output_type": "stream",
          "name": "stdout",
          "text": [
            "[1, 6, 7, 8, 9, 4, 5]\n"
          ]
        }
      ]
    },
    {
      "cell_type": "code",
      "source": [
        "del a[2:5]\n",
        "a"
      ],
      "metadata": {
        "colab": {
          "base_uri": "https://localhost:8080/"
        },
        "id": "yzYtmzhtDbKa",
        "outputId": "1692186d-8f28-40b2-93fc-a8b80c564690"
      },
      "execution_count": 110,
      "outputs": [
        {
          "output_type": "execute_result",
          "data": {
            "text/plain": [
              "[1, 6, 4, 5]"
            ]
          },
          "metadata": {},
          "execution_count": 110
        }
      ]
    },
    {
      "cell_type": "markdown",
      "source": [
        "# 딕셔너리"
      ],
      "metadata": {
        "id": "g-YhE9b5DlgJ"
      }
    },
    {
      "cell_type": "code",
      "source": [
        "d = {\n",
        "    \"key\" : \"value\"\n",
        "}\n",
        "d"
      ],
      "metadata": {
        "colab": {
          "base_uri": "https://localhost:8080/"
        },
        "id": "8BqmFP3xDnrt",
        "outputId": "5d59b3df-d6db-429b-a2ce-9ddbb7aa6ed3"
      },
      "execution_count": 112,
      "outputs": [
        {
          "output_type": "execute_result",
          "data": {
            "text/plain": [
              "{'key': 'value'}"
            ]
          },
          "metadata": {},
          "execution_count": 112
        }
      ]
    },
    {
      "cell_type": "code",
      "source": [
        "young = {\n",
        "    \"말\" : \"많음\",\n",
        "    \"체력\" : \"딸림\",\n",
        "    \"타고오는 지하철\" : 1,\n",
        "    \"잔소리여부\" : True,\n",
        "    \"좋아하는언어\" : [\"파이썬\",'자바','자바스크립트']\n",
        "}"
      ],
      "metadata": {
        "id": "pF2RqpepEEad"
      },
      "execution_count": 114,
      "outputs": []
    },
    {
      "cell_type": "code",
      "source": [
        "# k, v = 1:1 대응\n",
        "kim = {\n",
        "    \"height\" : 170,\n",
        "    \"weight\" : 80,\n",
        "    \"height\" : 180,\n",
        "    \"weight\" : 85,\n",
        "} # 중괄호로 묶어야 한다. 'key:value.'로 값들이 표현\n",
        "kim"
      ],
      "metadata": {
        "colab": {
          "base_uri": "https://localhost:8080/"
        },
        "id": "4R6XPAw7Ef0n",
        "outputId": "8ac4fea1-c61c-48ad-a388-a287f9a7916a"
      },
      "execution_count": 116,
      "outputs": [
        {
          "output_type": "execute_result",
          "data": {
            "text/plain": [
              "{'height': 180, 'weight': 85}"
            ]
          },
          "metadata": {},
          "execution_count": 116
        }
      ]
    },
    {
      "cell_type": "code",
      "source": [
        "# 시퀀스형 중에 리스트와, 딕셔너리 자체만 키값으로 쓸 수 없음"
      ],
      "metadata": {
        "id": "j9Jkzpa5FAZl"
      },
      "execution_count": 118,
      "outputs": []
    },
    {
      "cell_type": "code",
      "source": [
        "kim"
      ],
      "metadata": {
        "colab": {
          "base_uri": "https://localhost:8080/"
        },
        "id": "DaJj5Lq1Fizp",
        "outputId": "6552e3ca-71fb-4d90-ed66-a590d923c2aa"
      },
      "execution_count": 120,
      "outputs": [
        {
          "output_type": "execute_result",
          "data": {
            "text/plain": [
              "{'height': 180, 'weight': 85}"
            ]
          },
          "metadata": {},
          "execution_count": 120
        }
      ]
    },
    {
      "cell_type": "code",
      "source": [
        "kim[\"height\"]"
      ],
      "metadata": {
        "colab": {
          "base_uri": "https://localhost:8080/"
        },
        "id": "oaBrwf8oFk6f",
        "outputId": "6e35efbd-9e2f-4e2c-eb1b-98e819a6a513"
      },
      "execution_count": 122,
      "outputs": [
        {
          "output_type": "execute_result",
          "data": {
            "text/plain": [
              "180"
            ]
          },
          "metadata": {},
          "execution_count": 122
        }
      ]
    },
    {
      "cell_type": "code",
      "source": [
        "kim[\"salary\"] = 3000"
      ],
      "metadata": {
        "id": "UazHiwOKFoVe"
      },
      "execution_count": 123,
      "outputs": []
    },
    {
      "cell_type": "code",
      "source": [
        "kim"
      ],
      "metadata": {
        "colab": {
          "base_uri": "https://localhost:8080/"
        },
        "id": "kA_3PxaPFwV-",
        "outputId": "3ab0c4af-3403-4d4b-a80e-c3b100b7a07f"
      },
      "execution_count": 125,
      "outputs": [
        {
          "output_type": "execute_result",
          "data": {
            "text/plain": [
              "{'height': 180, 'weight': 85, 'salary': 3000}"
            ]
          },
          "metadata": {},
          "execution_count": 125
        }
      ]
    },
    {
      "cell_type": "code",
      "source": [
        "kim[\"salary\"] = 4000\n",
        "kim"
      ],
      "metadata": {
        "colab": {
          "base_uri": "https://localhost:8080/"
        },
        "id": "GJr8M4CJF0CX",
        "outputId": "78fdcb44-f1ae-4d44-a717-6fab515d1e7a"
      },
      "execution_count": 128,
      "outputs": [
        {
          "output_type": "execute_result",
          "data": {
            "text/plain": [
              "{'height': 180, 'weight': 85, 'salary': 4000}"
            ]
          },
          "metadata": {},
          "execution_count": 128
        }
      ]
    },
    {
      "cell_type": "code",
      "source": [
        "kim['IQ'] # KeyError"
      ],
      "metadata": {
        "colab": {
          "base_uri": "https://localhost:8080/",
          "height": 172
        },
        "id": "YrdaPAnPF5qs",
        "outputId": "9932f6f1-f459-4ef5-8bc0-c582eeeec0cc"
      },
      "execution_count": 136,
      "outputs": [
        {
          "output_type": "error",
          "ename": "KeyError",
          "evalue": "ignored",
          "traceback": [
            "\u001b[0;31m---------------------------------------------------------------------------\u001b[0m",
            "\u001b[0;31mKeyError\u001b[0m                                  Traceback (most recent call last)",
            "\u001b[0;32m<ipython-input-136-4a8b7905ea15>\u001b[0m in \u001b[0;36m<module>\u001b[0;34m\u001b[0m\n\u001b[0;32m----> 1\u001b[0;31m \u001b[0mkim\u001b[0m\u001b[0;34m[\u001b[0m\u001b[0;34m'IQ'\u001b[0m\u001b[0;34m]\u001b[0m \u001b[0;31m# KeyError\u001b[0m\u001b[0;34m\u001b[0m\u001b[0;34m\u001b[0m\u001b[0m\n\u001b[0m",
            "\u001b[0;31mKeyError\u001b[0m: 'IQ'"
          ]
        }
      ]
    },
    {
      "cell_type": "code",
      "source": [
        "'IQ'in kim # 시퀀스 객체 (in) / 딕셔너리 (in) / for in"
      ],
      "metadata": {
        "colab": {
          "base_uri": "https://localhost:8080/"
        },
        "id": "VjHSXB4UGAQ0",
        "outputId": "a7371c86-c1b3-4985-aa03-33531a823fcd"
      },
      "execution_count": 131,
      "outputs": [
        {
          "output_type": "execute_result",
          "data": {
            "text/plain": [
              "False"
            ]
          },
          "metadata": {},
          "execution_count": 131
        }
      ]
    },
    {
      "cell_type": "code",
      "source": [
        "'IQ' not in kim"
      ],
      "metadata": {
        "colab": {
          "base_uri": "https://localhost:8080/"
        },
        "id": "SOkT_4vOGPK6",
        "outputId": "58fc5a02-5433-4590-8d3d-4dc87e40625b"
      },
      "execution_count": 133,
      "outputs": [
        {
          "output_type": "execute_result",
          "data": {
            "text/plain": [
              "True"
            ]
          },
          "metadata": {},
          "execution_count": 133
        }
      ]
    },
    {
      "cell_type": "code",
      "source": [
        "len(kim) # key의 갯수"
      ],
      "metadata": {
        "colab": {
          "base_uri": "https://localhost:8080/"
        },
        "id": "_7-r56qCGXj-",
        "outputId": "2b5663cf-9e55-4b03-bbd3-04be3f2782c3"
      },
      "execution_count": 134,
      "outputs": [
        {
          "output_type": "execute_result",
          "data": {
            "text/plain": [
              "3"
            ]
          },
          "metadata": {},
          "execution_count": 134
        }
      ]
    },
    {
      "cell_type": "code",
      "source": [
        "list(kim) # dict -> list 감싸주면 -> Key를 원소로 가지는 리스트"
      ],
      "metadata": {
        "colab": {
          "base_uri": "https://localhost:8080/"
        },
        "id": "Y_pQgHIXGZ2J",
        "outputId": "f0aff52e-dcdf-4ac5-c159-ec8455814a3d"
      },
      "execution_count": 137,
      "outputs": [
        {
          "output_type": "execute_result",
          "data": {
            "text/plain": [
              "['height', 'weight', 'salary']"
            ]
          },
          "metadata": {},
          "execution_count": 137
        }
      ]
    },
    {
      "cell_type": "markdown",
      "source": [
        "# 조건문"
      ],
      "metadata": {
        "id": "dmRhqLx6HhD_"
      }
    },
    {
      "cell_type": "markdown",
      "source": [
        "# if"
      ],
      "metadata": {
        "id": "IjHQ_FpLHjT3"
      }
    },
    {
      "cell_type": "code",
      "source": [
        "switch = True\n",
        "if switch: # if (...): 조건식 -> 최종적으로 bool형태로 표현될 수 있는 값\n",
        "   print(\"아 밝다~\") # if 본문."
      ],
      "metadata": {
        "colab": {
          "base_uri": "https://localhost:8080/"
        },
        "id": "Y-p95o_cHiW8",
        "outputId": "2ed55358-ae87-48b0-a7ac-14c58afb18a9"
      },
      "execution_count": 139,
      "outputs": [
        {
          "output_type": "stream",
          "name": "stdout",
          "text": [
            "아 밝다~\n"
          ]
        }
      ]
    },
    {
      "cell_type": "code",
      "source": [
        "temperature = 40\n",
        "if temperature >38:\n",
        "    print(\"아 덥다\")"
      ],
      "metadata": {
        "colab": {
          "base_uri": "https://localhost:8080/"
        },
        "id": "IYnQ0s6JH7zR",
        "outputId": "1a9f1c02-2e32-4f34-b2b2-10284aba1c64"
      },
      "execution_count": 140,
      "outputs": [
        {
          "output_type": "stream",
          "name": "stdout",
          "text": [
            "아 덥다\n"
          ]
        }
      ]
    },
    {
      "cell_type": "code",
      "source": [
        "temperature = 30\n",
        "if temperature > 38:\n",
        "    print(\"아 덥다\")\n",
        "    print(\"물 마시고 싶어\")"
      ],
      "metadata": {
        "id": "BIKIPQdPIIE8"
      },
      "execution_count": 141,
      "outputs": []
    },
    {
      "cell_type": "markdown",
      "source": [
        "# else"
      ],
      "metadata": {
        "id": "a6t6a4DWIRKc"
      }
    },
    {
      "cell_type": "code",
      "source": [
        "temperature = 30\n",
        "if temperature > 38:\n",
        "   print(\"아 덥다\")\n",
        "else: # temperature <= 38:\n",
        "   print(\"괜찮아\")"
      ],
      "metadata": {
        "colab": {
          "base_uri": "https://localhost:8080/"
        },
        "id": "tFzNb9tRIS5N",
        "outputId": "217989d2-6d55-4993-e3c7-d5eeb5f3474a"
      },
      "execution_count": 142,
      "outputs": [
        {
          "output_type": "stream",
          "name": "stdout",
          "text": [
            "괜찮아\n"
          ]
        }
      ]
    },
    {
      "cell_type": "markdown",
      "source": [
        "# pass"
      ],
      "metadata": {
        "id": "2lyawsT0I1_5"
      }
    },
    {
      "cell_type": "code",
      "source": [
        "temperature = 30\n",
        "if temperature > 38:\n",
        "   print(\"아 덥다\")\n",
        "else: # temperature <= 38:\n",
        "   pass # block 유지 때문에"
      ],
      "metadata": {
        "id": "OVdT3__yI0qN"
      },
      "execution_count": 143,
      "outputs": []
    },
    {
      "cell_type": "code",
      "source": [
        "pass"
      ],
      "metadata": {
        "id": "w78tiPC2I6Bw"
      },
      "execution_count": 144,
      "outputs": []
    },
    {
      "cell_type": "code",
      "source": [
        "if:True:\n",
        "   pass\n",
        "else:\n",
        "    print(\"hello\")"
      ],
      "metadata": {
        "colab": {
          "base_uri": "https://localhost:8080/",
          "height": 136
        },
        "id": "ejtECYxoI7fJ",
        "outputId": "90e35a05-1523-4a90-fd87-ffad4287630f"
      },
      "execution_count": 146,
      "outputs": [
        {
          "output_type": "error",
          "ename": "SyntaxError",
          "evalue": "ignored",
          "traceback": [
            "\u001b[0;36m  File \u001b[0;32m\"<ipython-input-146-ab34999363b2>\"\u001b[0;36m, line \u001b[0;32m1\u001b[0m\n\u001b[0;31m    if:True:\u001b[0m\n\u001b[0m      ^\u001b[0m\n\u001b[0;31mSyntaxError\u001b[0m\u001b[0;31m:\u001b[0m invalid syntax\n"
          ]
        }
      ]
    },
    {
      "cell_type": "code",
      "source": [
        "name = \"김땡땡\"\n",
        "\n",
        "if name == \"김땡땡\":\n",
        "   print(\"웰컴\")"
      ],
      "metadata": {
        "colab": {
          "base_uri": "https://localhost:8080/"
        },
        "id": "0ZRMIdtQJez3",
        "outputId": "4f62e114-dc2d-4403-fbfe-258167495d0b"
      },
      "execution_count": 148,
      "outputs": [
        {
          "output_type": "stream",
          "name": "stdout",
          "text": [
            "웰컴\n"
          ]
        }
      ]
    },
    {
      "cell_type": "code",
      "source": [
        "if \"김\" in name:\n",
        "   print(\"웰컴\")"
      ],
      "metadata": {
        "colab": {
          "base_uri": "https://localhost:8080/"
        },
        "id": "8Cq0j1eeJqzx",
        "outputId": "54b682c5-ab9b-42e1-949a-6e6855b64ef4"
      },
      "execution_count": 150,
      "outputs": [
        {
          "output_type": "stream",
          "name": "stdout",
          "text": [
            "웰컴\n"
          ]
        }
      ]
    },
    {
      "cell_type": "markdown",
      "source": [
        "## 삼항연산자 (조건부 표현식)"
      ],
      "metadata": {
        "id": "iAo2A_vWJ8-O"
      }
    },
    {
      "cell_type": "code",
      "source": [
        "a = None\n",
        "b = True\n",
        "if b:\n",
        "    a = 10\n",
        "else:\n",
        "     a = 100\n",
        "a"
      ],
      "metadata": {
        "colab": {
          "base_uri": "https://localhost:8080/"
        },
        "id": "oKNrar7AJ63B",
        "outputId": "ec30f1ae-e0d2-481d-c531-f4e49b5a6cdc"
      },
      "execution_count": 152,
      "outputs": [
        {
          "output_type": "execute_result",
          "data": {
            "text/plain": [
              "10"
            ]
          },
          "metadata": {},
          "execution_count": 152
        }
      ]
    },
    {
      "cell_type": "code",
      "source": [
        "a = 10 if b else 100 # (True 값) if (조건식) else (False 값)\n",
        "a"
      ],
      "metadata": {
        "colab": {
          "base_uri": "https://localhost:8080/"
        },
        "id": "cAr6Y_26KMHE",
        "outputId": "51014332-fcf1-4922-aa31-f1138bd59d32"
      },
      "execution_count": 155,
      "outputs": [
        {
          "output_type": "execute_result",
          "data": {
            "text/plain": [
              "10"
            ]
          },
          "metadata": {},
          "execution_count": 155
        }
      ]
    },
    {
      "cell_type": "code",
      "source": [
        "a = '환타'\n",
        "\n",
        "if a == \"콜라\"\n",
        "    print(\"콜라\" 드세요\")\n",
        "elif a == \"사이다\"\n",
        "    print(\"사이다\" 드세요\")\n",
        "elif a == \"환타\"\n",
        "    print(\"환타\" 드세요\")    "
      ],
      "metadata": {
        "colab": {
          "base_uri": "https://localhost:8080/",
          "height": 136
        },
        "id": "rfDXlV6ZKmEz",
        "outputId": "bd57275c-6bbc-400b-8781-d79b69407612"
      },
      "execution_count": 159,
      "outputs": [
        {
          "output_type": "error",
          "ename": "SyntaxError",
          "evalue": "ignored",
          "traceback": [
            "\u001b[0;36m  File \u001b[0;32m\"<ipython-input-159-163bbff18f93>\"\u001b[0;36m, line \u001b[0;32m3\u001b[0m\n\u001b[0;31m    if a == \"콜라\"\u001b[0m\n\u001b[0m                ^\u001b[0m\n\u001b[0;31mSyntaxError\u001b[0m\u001b[0;31m:\u001b[0m invalid syntax\n"
          ]
        }
      ]
    },
    {
      "cell_type": "markdown",
      "source": [
        "# 반복문"
      ],
      "metadata": {
        "id": "tUckds9lOjfE"
      }
    },
    {
      "cell_type": "markdown",
      "source": [
        "# for"
      ],
      "metadata": {
        "id": "Q-0CsxPmOk_M"
      }
    },
    {
      "cell_type": "code",
      "source": [
        "for i in range(10):\n",
        "     print(i, end=\" \")"
      ],
      "metadata": {
        "colab": {
          "base_uri": "https://localhost:8080/"
        },
        "id": "vWSj9YF7OmVv",
        "outputId": "c89a7c74-f947-4c68-8ed1-cc7001929324"
      },
      "execution_count": 160,
      "outputs": [
        {
          "output_type": "stream",
          "name": "stdout",
          "text": [
            "0 1 2 3 4 5 6 7 8 9 "
          ]
        }
      ]
    },
    {
      "cell_type": "code",
      "source": [
        "i = 100\n",
        "for i in range(10):\n",
        "    pass\n",
        "print(i)"
      ],
      "metadata": {
        "colab": {
          "base_uri": "https://localhost:8080/"
        },
        "id": "aHvy0N87Ouyq",
        "outputId": "a877317c-3076-4fc3-8eee-70feeeaa97f3"
      },
      "execution_count": 162,
      "outputs": [
        {
          "output_type": "stream",
          "name": "stdout",
          "text": [
            "9\n"
          ]
        }
      ]
    },
    {
      "cell_type": "code",
      "source": [
        "# range(n) : n회 반복\n",
        "for i in \"hello world\": # range가 아닌 시퀀스형태의 자료형? list -> v, string -> c\n",
        "    print(i) # 루프를 돈다"
      ],
      "metadata": {
        "colab": {
          "base_uri": "https://localhost:8080/"
        },
        "id": "9hpjAp89PCFJ",
        "outputId": "82032eeb-8fed-4e0a-e62a-017fab86f183"
      },
      "execution_count": 165,
      "outputs": [
        {
          "output_type": "stream",
          "name": "stdout",
          "text": [
            "h\n",
            "e\n",
            "l\n",
            "l\n",
            "o\n",
            " \n",
            "w\n",
            "o\n",
            "r\n",
            "l\n",
            "d\n"
          ]
        }
      ]
    },
    {
      "cell_type": "code",
      "source": [
        "a = ['배', '사과', '바나나']\n",
        "for i in a:\n",
        "    print(i)"
      ],
      "metadata": {
        "colab": {
          "base_uri": "https://localhost:8080/"
        },
        "id": "QB0tUYQ6Pqxg",
        "outputId": "5487ba09-8d63-45bb-fae3-9af9f59c8e29"
      },
      "execution_count": 166,
      "outputs": [
        {
          "output_type": "stream",
          "name": "stdout",
          "text": [
            "배\n",
            "사과\n",
            "바나나\n"
          ]
        }
      ]
    },
    {
      "cell_type": "code",
      "source": [
        "for i in reversed(a): # reverse + ed: 새롭게 형성된 데이터\n",
        "    print(i)"
      ],
      "metadata": {
        "colab": {
          "base_uri": "https://localhost:8080/"
        },
        "id": "EWwWwnxyP0aX",
        "outputId": "32c60a47-d0d9-49c5-d546-10aa3bfd83ba"
      },
      "execution_count": 167,
      "outputs": [
        {
          "output_type": "stream",
          "name": "stdout",
          "text": [
            "바나나\n",
            "사과\n",
            "배\n"
          ]
        }
      ]
    },
    {
      "cell_type": "code",
      "source": [
        "a, list(reversed(a)), a[::-1]"
      ],
      "metadata": {
        "colab": {
          "base_uri": "https://localhost:8080/"
        },
        "id": "3y8NSIoNP_g0",
        "outputId": "378cfe6f-7bf2-45d0-c1bf-b1473b485ffc"
      },
      "execution_count": 171,
      "outputs": [
        {
          "output_type": "execute_result",
          "data": {
            "text/plain": [
              "(['배', '사과', '바나나'], ['바나나', '사과', '배'], ['바나나', '사과', '배'])"
            ]
          },
          "metadata": {},
          "execution_count": 171
        }
      ]
    },
    {
      "cell_type": "markdown",
      "source": [
        "# while"
      ],
      "metadata": {
        "id": "9R4X1lJKQUZS"
      }
    },
    {
      "cell_type": "code",
      "source": [
        "for i in range(10):\n",
        "     print(i, end=\" \")"
      ],
      "metadata": {
        "colab": {
          "base_uri": "https://localhost:8080/"
        },
        "id": "ssZQfFVCQTfT",
        "outputId": "7004660e-7ed2-4e4b-dddf-a30dee51d762"
      },
      "execution_count": 173,
      "outputs": [
        {
          "output_type": "stream",
          "name": "stdout",
          "text": [
            "0 1 2 3 4 5 6 7 8 9 "
          ]
        }
      ]
    },
    {
      "cell_type": "code",
      "source": [
        "i = 0 # 초기식\n",
        "while i < 10: # while 조건식\n",
        "    print(i,end=\" \") # ...\n",
        "    i += 1 # 변화식"
      ],
      "metadata": {
        "colab": {
          "base_uri": "https://localhost:8080/"
        },
        "id": "45KlUB5BQkrv",
        "outputId": "239a9395-3328-48dd-cb06-ba1c58b57a31"
      },
      "execution_count": 176,
      "outputs": [
        {
          "output_type": "stream",
          "name": "stdout",
          "text": [
            "0 1 2 3 4 5 6 7 8 9 "
          ]
        }
      ]
    },
    {
      "cell_type": "code",
      "source": [
        "money = 100000\n",
        "hit = 0\n",
        "while money > 0:\n",
        "     money -= 100\n",
        "     hit += 1\n",
        "     print(money, \"원 남았습니다\",hit, \"대 맞았습니다\")"
      ],
      "metadata": {
        "colab": {
          "base_uri": "https://localhost:8080/"
        },
        "id": "poMZ7He4RU6j",
        "outputId": "54795d44-4d29-4db5-fc3d-7a8985bb3d21"
      },
      "execution_count": 178,
      "outputs": [
        {
          "output_type": "stream",
          "name": "stdout",
          "text": [
            "99900 원 남았습니다 1 대 맞았습니다\n",
            "99800 원 남았습니다 2 대 맞았습니다\n",
            "99700 원 남았습니다 3 대 맞았습니다\n",
            "99600 원 남았습니다 4 대 맞았습니다\n",
            "99500 원 남았습니다 5 대 맞았습니다\n",
            "99400 원 남았습니다 6 대 맞았습니다\n",
            "99300 원 남았습니다 7 대 맞았습니다\n",
            "99200 원 남았습니다 8 대 맞았습니다\n",
            "99100 원 남았습니다 9 대 맞았습니다\n",
            "99000 원 남았습니다 10 대 맞았습니다\n",
            "98900 원 남았습니다 11 대 맞았습니다\n",
            "98800 원 남았습니다 12 대 맞았습니다\n",
            "98700 원 남았습니다 13 대 맞았습니다\n",
            "98600 원 남았습니다 14 대 맞았습니다\n",
            "98500 원 남았습니다 15 대 맞았습니다\n",
            "98400 원 남았습니다 16 대 맞았습니다\n",
            "98300 원 남았습니다 17 대 맞았습니다\n",
            "98200 원 남았습니다 18 대 맞았습니다\n",
            "98100 원 남았습니다 19 대 맞았습니다\n",
            "98000 원 남았습니다 20 대 맞았습니다\n",
            "97900 원 남았습니다 21 대 맞았습니다\n",
            "97800 원 남았습니다 22 대 맞았습니다\n",
            "97700 원 남았습니다 23 대 맞았습니다\n",
            "97600 원 남았습니다 24 대 맞았습니다\n",
            "97500 원 남았습니다 25 대 맞았습니다\n",
            "97400 원 남았습니다 26 대 맞았습니다\n",
            "97300 원 남았습니다 27 대 맞았습니다\n",
            "97200 원 남았습니다 28 대 맞았습니다\n",
            "97100 원 남았습니다 29 대 맞았습니다\n",
            "97000 원 남았습니다 30 대 맞았습니다\n",
            "96900 원 남았습니다 31 대 맞았습니다\n",
            "96800 원 남았습니다 32 대 맞았습니다\n",
            "96700 원 남았습니다 33 대 맞았습니다\n",
            "96600 원 남았습니다 34 대 맞았습니다\n",
            "96500 원 남았습니다 35 대 맞았습니다\n",
            "96400 원 남았습니다 36 대 맞았습니다\n",
            "96300 원 남았습니다 37 대 맞았습니다\n",
            "96200 원 남았습니다 38 대 맞았습니다\n",
            "96100 원 남았습니다 39 대 맞았습니다\n",
            "96000 원 남았습니다 40 대 맞았습니다\n",
            "95900 원 남았습니다 41 대 맞았습니다\n",
            "95800 원 남았습니다 42 대 맞았습니다\n",
            "95700 원 남았습니다 43 대 맞았습니다\n",
            "95600 원 남았습니다 44 대 맞았습니다\n",
            "95500 원 남았습니다 45 대 맞았습니다\n",
            "95400 원 남았습니다 46 대 맞았습니다\n",
            "95300 원 남았습니다 47 대 맞았습니다\n",
            "95200 원 남았습니다 48 대 맞았습니다\n",
            "95100 원 남았습니다 49 대 맞았습니다\n",
            "95000 원 남았습니다 50 대 맞았습니다\n",
            "94900 원 남았습니다 51 대 맞았습니다\n",
            "94800 원 남았습니다 52 대 맞았습니다\n",
            "94700 원 남았습니다 53 대 맞았습니다\n",
            "94600 원 남았습니다 54 대 맞았습니다\n",
            "94500 원 남았습니다 55 대 맞았습니다\n",
            "94400 원 남았습니다 56 대 맞았습니다\n",
            "94300 원 남았습니다 57 대 맞았습니다\n",
            "94200 원 남았습니다 58 대 맞았습니다\n",
            "94100 원 남았습니다 59 대 맞았습니다\n",
            "94000 원 남았습니다 60 대 맞았습니다\n",
            "93900 원 남았습니다 61 대 맞았습니다\n",
            "93800 원 남았습니다 62 대 맞았습니다\n",
            "93700 원 남았습니다 63 대 맞았습니다\n",
            "93600 원 남았습니다 64 대 맞았습니다\n",
            "93500 원 남았습니다 65 대 맞았습니다\n",
            "93400 원 남았습니다 66 대 맞았습니다\n",
            "93300 원 남았습니다 67 대 맞았습니다\n",
            "93200 원 남았습니다 68 대 맞았습니다\n",
            "93100 원 남았습니다 69 대 맞았습니다\n",
            "93000 원 남았습니다 70 대 맞았습니다\n",
            "92900 원 남았습니다 71 대 맞았습니다\n",
            "92800 원 남았습니다 72 대 맞았습니다\n",
            "92700 원 남았습니다 73 대 맞았습니다\n",
            "92600 원 남았습니다 74 대 맞았습니다\n",
            "92500 원 남았습니다 75 대 맞았습니다\n",
            "92400 원 남았습니다 76 대 맞았습니다\n",
            "92300 원 남았습니다 77 대 맞았습니다\n",
            "92200 원 남았습니다 78 대 맞았습니다\n",
            "92100 원 남았습니다 79 대 맞았습니다\n",
            "92000 원 남았습니다 80 대 맞았습니다\n",
            "91900 원 남았습니다 81 대 맞았습니다\n",
            "91800 원 남았습니다 82 대 맞았습니다\n",
            "91700 원 남았습니다 83 대 맞았습니다\n",
            "91600 원 남았습니다 84 대 맞았습니다\n",
            "91500 원 남았습니다 85 대 맞았습니다\n",
            "91400 원 남았습니다 86 대 맞았습니다\n",
            "91300 원 남았습니다 87 대 맞았습니다\n",
            "91200 원 남았습니다 88 대 맞았습니다\n",
            "91100 원 남았습니다 89 대 맞았습니다\n",
            "91000 원 남았습니다 90 대 맞았습니다\n",
            "90900 원 남았습니다 91 대 맞았습니다\n",
            "90800 원 남았습니다 92 대 맞았습니다\n",
            "90700 원 남았습니다 93 대 맞았습니다\n",
            "90600 원 남았습니다 94 대 맞았습니다\n",
            "90500 원 남았습니다 95 대 맞았습니다\n",
            "90400 원 남았습니다 96 대 맞았습니다\n",
            "90300 원 남았습니다 97 대 맞았습니다\n",
            "90200 원 남았습니다 98 대 맞았습니다\n",
            "90100 원 남았습니다 99 대 맞았습니다\n",
            "90000 원 남았습니다 100 대 맞았습니다\n",
            "89900 원 남았습니다 101 대 맞았습니다\n",
            "89800 원 남았습니다 102 대 맞았습니다\n",
            "89700 원 남았습니다 103 대 맞았습니다\n",
            "89600 원 남았습니다 104 대 맞았습니다\n",
            "89500 원 남았습니다 105 대 맞았습니다\n",
            "89400 원 남았습니다 106 대 맞았습니다\n",
            "89300 원 남았습니다 107 대 맞았습니다\n",
            "89200 원 남았습니다 108 대 맞았습니다\n",
            "89100 원 남았습니다 109 대 맞았습니다\n",
            "89000 원 남았습니다 110 대 맞았습니다\n",
            "88900 원 남았습니다 111 대 맞았습니다\n",
            "88800 원 남았습니다 112 대 맞았습니다\n",
            "88700 원 남았습니다 113 대 맞았습니다\n",
            "88600 원 남았습니다 114 대 맞았습니다\n",
            "88500 원 남았습니다 115 대 맞았습니다\n",
            "88400 원 남았습니다 116 대 맞았습니다\n",
            "88300 원 남았습니다 117 대 맞았습니다\n",
            "88200 원 남았습니다 118 대 맞았습니다\n",
            "88100 원 남았습니다 119 대 맞았습니다\n",
            "88000 원 남았습니다 120 대 맞았습니다\n",
            "87900 원 남았습니다 121 대 맞았습니다\n",
            "87800 원 남았습니다 122 대 맞았습니다\n",
            "87700 원 남았습니다 123 대 맞았습니다\n",
            "87600 원 남았습니다 124 대 맞았습니다\n",
            "87500 원 남았습니다 125 대 맞았습니다\n",
            "87400 원 남았습니다 126 대 맞았습니다\n",
            "87300 원 남았습니다 127 대 맞았습니다\n",
            "87200 원 남았습니다 128 대 맞았습니다\n",
            "87100 원 남았습니다 129 대 맞았습니다\n",
            "87000 원 남았습니다 130 대 맞았습니다\n",
            "86900 원 남았습니다 131 대 맞았습니다\n",
            "86800 원 남았습니다 132 대 맞았습니다\n",
            "86700 원 남았습니다 133 대 맞았습니다\n",
            "86600 원 남았습니다 134 대 맞았습니다\n",
            "86500 원 남았습니다 135 대 맞았습니다\n",
            "86400 원 남았습니다 136 대 맞았습니다\n",
            "86300 원 남았습니다 137 대 맞았습니다\n",
            "86200 원 남았습니다 138 대 맞았습니다\n",
            "86100 원 남았습니다 139 대 맞았습니다\n",
            "86000 원 남았습니다 140 대 맞았습니다\n",
            "85900 원 남았습니다 141 대 맞았습니다\n",
            "85800 원 남았습니다 142 대 맞았습니다\n",
            "85700 원 남았습니다 143 대 맞았습니다\n",
            "85600 원 남았습니다 144 대 맞았습니다\n",
            "85500 원 남았습니다 145 대 맞았습니다\n",
            "85400 원 남았습니다 146 대 맞았습니다\n",
            "85300 원 남았습니다 147 대 맞았습니다\n",
            "85200 원 남았습니다 148 대 맞았습니다\n",
            "85100 원 남았습니다 149 대 맞았습니다\n",
            "85000 원 남았습니다 150 대 맞았습니다\n",
            "84900 원 남았습니다 151 대 맞았습니다\n",
            "84800 원 남았습니다 152 대 맞았습니다\n",
            "84700 원 남았습니다 153 대 맞았습니다\n",
            "84600 원 남았습니다 154 대 맞았습니다\n",
            "84500 원 남았습니다 155 대 맞았습니다\n",
            "84400 원 남았습니다 156 대 맞았습니다\n",
            "84300 원 남았습니다 157 대 맞았습니다\n",
            "84200 원 남았습니다 158 대 맞았습니다\n",
            "84100 원 남았습니다 159 대 맞았습니다\n",
            "84000 원 남았습니다 160 대 맞았습니다\n",
            "83900 원 남았습니다 161 대 맞았습니다\n",
            "83800 원 남았습니다 162 대 맞았습니다\n",
            "83700 원 남았습니다 163 대 맞았습니다\n",
            "83600 원 남았습니다 164 대 맞았습니다\n",
            "83500 원 남았습니다 165 대 맞았습니다\n",
            "83400 원 남았습니다 166 대 맞았습니다\n",
            "83300 원 남았습니다 167 대 맞았습니다\n",
            "83200 원 남았습니다 168 대 맞았습니다\n",
            "83100 원 남았습니다 169 대 맞았습니다\n",
            "83000 원 남았습니다 170 대 맞았습니다\n",
            "82900 원 남았습니다 171 대 맞았습니다\n",
            "82800 원 남았습니다 172 대 맞았습니다\n",
            "82700 원 남았습니다 173 대 맞았습니다\n",
            "82600 원 남았습니다 174 대 맞았습니다\n",
            "82500 원 남았습니다 175 대 맞았습니다\n",
            "82400 원 남았습니다 176 대 맞았습니다\n",
            "82300 원 남았습니다 177 대 맞았습니다\n",
            "82200 원 남았습니다 178 대 맞았습니다\n",
            "82100 원 남았습니다 179 대 맞았습니다\n",
            "82000 원 남았습니다 180 대 맞았습니다\n",
            "81900 원 남았습니다 181 대 맞았습니다\n",
            "81800 원 남았습니다 182 대 맞았습니다\n",
            "81700 원 남았습니다 183 대 맞았습니다\n",
            "81600 원 남았습니다 184 대 맞았습니다\n",
            "81500 원 남았습니다 185 대 맞았습니다\n",
            "81400 원 남았습니다 186 대 맞았습니다\n",
            "81300 원 남았습니다 187 대 맞았습니다\n",
            "81200 원 남았습니다 188 대 맞았습니다\n",
            "81100 원 남았습니다 189 대 맞았습니다\n",
            "81000 원 남았습니다 190 대 맞았습니다\n",
            "80900 원 남았습니다 191 대 맞았습니다\n",
            "80800 원 남았습니다 192 대 맞았습니다\n",
            "80700 원 남았습니다 193 대 맞았습니다\n",
            "80600 원 남았습니다 194 대 맞았습니다\n",
            "80500 원 남았습니다 195 대 맞았습니다\n",
            "80400 원 남았습니다 196 대 맞았습니다\n",
            "80300 원 남았습니다 197 대 맞았습니다\n",
            "80200 원 남았습니다 198 대 맞았습니다\n",
            "80100 원 남았습니다 199 대 맞았습니다\n",
            "80000 원 남았습니다 200 대 맞았습니다\n",
            "79900 원 남았습니다 201 대 맞았습니다\n",
            "79800 원 남았습니다 202 대 맞았습니다\n",
            "79700 원 남았습니다 203 대 맞았습니다\n",
            "79600 원 남았습니다 204 대 맞았습니다\n",
            "79500 원 남았습니다 205 대 맞았습니다\n",
            "79400 원 남았습니다 206 대 맞았습니다\n",
            "79300 원 남았습니다 207 대 맞았습니다\n",
            "79200 원 남았습니다 208 대 맞았습니다\n",
            "79100 원 남았습니다 209 대 맞았습니다\n",
            "79000 원 남았습니다 210 대 맞았습니다\n",
            "78900 원 남았습니다 211 대 맞았습니다\n",
            "78800 원 남았습니다 212 대 맞았습니다\n",
            "78700 원 남았습니다 213 대 맞았습니다\n",
            "78600 원 남았습니다 214 대 맞았습니다\n",
            "78500 원 남았습니다 215 대 맞았습니다\n",
            "78400 원 남았습니다 216 대 맞았습니다\n",
            "78300 원 남았습니다 217 대 맞았습니다\n",
            "78200 원 남았습니다 218 대 맞았습니다\n",
            "78100 원 남았습니다 219 대 맞았습니다\n",
            "78000 원 남았습니다 220 대 맞았습니다\n",
            "77900 원 남았습니다 221 대 맞았습니다\n",
            "77800 원 남았습니다 222 대 맞았습니다\n",
            "77700 원 남았습니다 223 대 맞았습니다\n",
            "77600 원 남았습니다 224 대 맞았습니다\n",
            "77500 원 남았습니다 225 대 맞았습니다\n",
            "77400 원 남았습니다 226 대 맞았습니다\n",
            "77300 원 남았습니다 227 대 맞았습니다\n",
            "77200 원 남았습니다 228 대 맞았습니다\n",
            "77100 원 남았습니다 229 대 맞았습니다\n",
            "77000 원 남았습니다 230 대 맞았습니다\n",
            "76900 원 남았습니다 231 대 맞았습니다\n",
            "76800 원 남았습니다 232 대 맞았습니다\n",
            "76700 원 남았습니다 233 대 맞았습니다\n",
            "76600 원 남았습니다 234 대 맞았습니다\n",
            "76500 원 남았습니다 235 대 맞았습니다\n",
            "76400 원 남았습니다 236 대 맞았습니다\n",
            "76300 원 남았습니다 237 대 맞았습니다\n",
            "76200 원 남았습니다 238 대 맞았습니다\n",
            "76100 원 남았습니다 239 대 맞았습니다\n",
            "76000 원 남았습니다 240 대 맞았습니다\n",
            "75900 원 남았습니다 241 대 맞았습니다\n",
            "75800 원 남았습니다 242 대 맞았습니다\n",
            "75700 원 남았습니다 243 대 맞았습니다\n",
            "75600 원 남았습니다 244 대 맞았습니다\n",
            "75500 원 남았습니다 245 대 맞았습니다\n",
            "75400 원 남았습니다 246 대 맞았습니다\n",
            "75300 원 남았습니다 247 대 맞았습니다\n",
            "75200 원 남았습니다 248 대 맞았습니다\n",
            "75100 원 남았습니다 249 대 맞았습니다\n",
            "75000 원 남았습니다 250 대 맞았습니다\n",
            "74900 원 남았습니다 251 대 맞았습니다\n",
            "74800 원 남았습니다 252 대 맞았습니다\n",
            "74700 원 남았습니다 253 대 맞았습니다\n",
            "74600 원 남았습니다 254 대 맞았습니다\n",
            "74500 원 남았습니다 255 대 맞았습니다\n",
            "74400 원 남았습니다 256 대 맞았습니다\n",
            "74300 원 남았습니다 257 대 맞았습니다\n",
            "74200 원 남았습니다 258 대 맞았습니다\n",
            "74100 원 남았습니다 259 대 맞았습니다\n",
            "74000 원 남았습니다 260 대 맞았습니다\n",
            "73900 원 남았습니다 261 대 맞았습니다\n",
            "73800 원 남았습니다 262 대 맞았습니다\n",
            "73700 원 남았습니다 263 대 맞았습니다\n",
            "73600 원 남았습니다 264 대 맞았습니다\n",
            "73500 원 남았습니다 265 대 맞았습니다\n",
            "73400 원 남았습니다 266 대 맞았습니다\n",
            "73300 원 남았습니다 267 대 맞았습니다\n",
            "73200 원 남았습니다 268 대 맞았습니다\n",
            "73100 원 남았습니다 269 대 맞았습니다\n",
            "73000 원 남았습니다 270 대 맞았습니다\n",
            "72900 원 남았습니다 271 대 맞았습니다\n",
            "72800 원 남았습니다 272 대 맞았습니다\n",
            "72700 원 남았습니다 273 대 맞았습니다\n",
            "72600 원 남았습니다 274 대 맞았습니다\n",
            "72500 원 남았습니다 275 대 맞았습니다\n",
            "72400 원 남았습니다 276 대 맞았습니다\n",
            "72300 원 남았습니다 277 대 맞았습니다\n",
            "72200 원 남았습니다 278 대 맞았습니다\n",
            "72100 원 남았습니다 279 대 맞았습니다\n",
            "72000 원 남았습니다 280 대 맞았습니다\n",
            "71900 원 남았습니다 281 대 맞았습니다\n",
            "71800 원 남았습니다 282 대 맞았습니다\n",
            "71700 원 남았습니다 283 대 맞았습니다\n",
            "71600 원 남았습니다 284 대 맞았습니다\n",
            "71500 원 남았습니다 285 대 맞았습니다\n",
            "71400 원 남았습니다 286 대 맞았습니다\n",
            "71300 원 남았습니다 287 대 맞았습니다\n",
            "71200 원 남았습니다 288 대 맞았습니다\n",
            "71100 원 남았습니다 289 대 맞았습니다\n",
            "71000 원 남았습니다 290 대 맞았습니다\n",
            "70900 원 남았습니다 291 대 맞았습니다\n",
            "70800 원 남았습니다 292 대 맞았습니다\n",
            "70700 원 남았습니다 293 대 맞았습니다\n",
            "70600 원 남았습니다 294 대 맞았습니다\n",
            "70500 원 남았습니다 295 대 맞았습니다\n",
            "70400 원 남았습니다 296 대 맞았습니다\n",
            "70300 원 남았습니다 297 대 맞았습니다\n",
            "70200 원 남았습니다 298 대 맞았습니다\n",
            "70100 원 남았습니다 299 대 맞았습니다\n",
            "70000 원 남았습니다 300 대 맞았습니다\n",
            "69900 원 남았습니다 301 대 맞았습니다\n",
            "69800 원 남았습니다 302 대 맞았습니다\n",
            "69700 원 남았습니다 303 대 맞았습니다\n",
            "69600 원 남았습니다 304 대 맞았습니다\n",
            "69500 원 남았습니다 305 대 맞았습니다\n",
            "69400 원 남았습니다 306 대 맞았습니다\n",
            "69300 원 남았습니다 307 대 맞았습니다\n",
            "69200 원 남았습니다 308 대 맞았습니다\n",
            "69100 원 남았습니다 309 대 맞았습니다\n",
            "69000 원 남았습니다 310 대 맞았습니다\n",
            "68900 원 남았습니다 311 대 맞았습니다\n",
            "68800 원 남았습니다 312 대 맞았습니다\n",
            "68700 원 남았습니다 313 대 맞았습니다\n",
            "68600 원 남았습니다 314 대 맞았습니다\n",
            "68500 원 남았습니다 315 대 맞았습니다\n",
            "68400 원 남았습니다 316 대 맞았습니다\n",
            "68300 원 남았습니다 317 대 맞았습니다\n",
            "68200 원 남았습니다 318 대 맞았습니다\n",
            "68100 원 남았습니다 319 대 맞았습니다\n",
            "68000 원 남았습니다 320 대 맞았습니다\n",
            "67900 원 남았습니다 321 대 맞았습니다\n",
            "67800 원 남았습니다 322 대 맞았습니다\n",
            "67700 원 남았습니다 323 대 맞았습니다\n",
            "67600 원 남았습니다 324 대 맞았습니다\n",
            "67500 원 남았습니다 325 대 맞았습니다\n",
            "67400 원 남았습니다 326 대 맞았습니다\n",
            "67300 원 남았습니다 327 대 맞았습니다\n",
            "67200 원 남았습니다 328 대 맞았습니다\n",
            "67100 원 남았습니다 329 대 맞았습니다\n",
            "67000 원 남았습니다 330 대 맞았습니다\n",
            "66900 원 남았습니다 331 대 맞았습니다\n",
            "66800 원 남았습니다 332 대 맞았습니다\n",
            "66700 원 남았습니다 333 대 맞았습니다\n",
            "66600 원 남았습니다 334 대 맞았습니다\n",
            "66500 원 남았습니다 335 대 맞았습니다\n",
            "66400 원 남았습니다 336 대 맞았습니다\n",
            "66300 원 남았습니다 337 대 맞았습니다\n",
            "66200 원 남았습니다 338 대 맞았습니다\n",
            "66100 원 남았습니다 339 대 맞았습니다\n",
            "66000 원 남았습니다 340 대 맞았습니다\n",
            "65900 원 남았습니다 341 대 맞았습니다\n",
            "65800 원 남았습니다 342 대 맞았습니다\n",
            "65700 원 남았습니다 343 대 맞았습니다\n",
            "65600 원 남았습니다 344 대 맞았습니다\n",
            "65500 원 남았습니다 345 대 맞았습니다\n",
            "65400 원 남았습니다 346 대 맞았습니다\n",
            "65300 원 남았습니다 347 대 맞았습니다\n",
            "65200 원 남았습니다 348 대 맞았습니다\n",
            "65100 원 남았습니다 349 대 맞았습니다\n",
            "65000 원 남았습니다 350 대 맞았습니다\n",
            "64900 원 남았습니다 351 대 맞았습니다\n",
            "64800 원 남았습니다 352 대 맞았습니다\n",
            "64700 원 남았습니다 353 대 맞았습니다\n",
            "64600 원 남았습니다 354 대 맞았습니다\n",
            "64500 원 남았습니다 355 대 맞았습니다\n",
            "64400 원 남았습니다 356 대 맞았습니다\n",
            "64300 원 남았습니다 357 대 맞았습니다\n",
            "64200 원 남았습니다 358 대 맞았습니다\n",
            "64100 원 남았습니다 359 대 맞았습니다\n",
            "64000 원 남았습니다 360 대 맞았습니다\n",
            "63900 원 남았습니다 361 대 맞았습니다\n",
            "63800 원 남았습니다 362 대 맞았습니다\n",
            "63700 원 남았습니다 363 대 맞았습니다\n",
            "63600 원 남았습니다 364 대 맞았습니다\n",
            "63500 원 남았습니다 365 대 맞았습니다\n",
            "63400 원 남았습니다 366 대 맞았습니다\n",
            "63300 원 남았습니다 367 대 맞았습니다\n",
            "63200 원 남았습니다 368 대 맞았습니다\n",
            "63100 원 남았습니다 369 대 맞았습니다\n",
            "63000 원 남았습니다 370 대 맞았습니다\n",
            "62900 원 남았습니다 371 대 맞았습니다\n",
            "62800 원 남았습니다 372 대 맞았습니다\n",
            "62700 원 남았습니다 373 대 맞았습니다\n",
            "62600 원 남았습니다 374 대 맞았습니다\n",
            "62500 원 남았습니다 375 대 맞았습니다\n",
            "62400 원 남았습니다 376 대 맞았습니다\n",
            "62300 원 남았습니다 377 대 맞았습니다\n",
            "62200 원 남았습니다 378 대 맞았습니다\n",
            "62100 원 남았습니다 379 대 맞았습니다\n",
            "62000 원 남았습니다 380 대 맞았습니다\n",
            "61900 원 남았습니다 381 대 맞았습니다\n",
            "61800 원 남았습니다 382 대 맞았습니다\n",
            "61700 원 남았습니다 383 대 맞았습니다\n",
            "61600 원 남았습니다 384 대 맞았습니다\n",
            "61500 원 남았습니다 385 대 맞았습니다\n",
            "61400 원 남았습니다 386 대 맞았습니다\n",
            "61300 원 남았습니다 387 대 맞았습니다\n",
            "61200 원 남았습니다 388 대 맞았습니다\n",
            "61100 원 남았습니다 389 대 맞았습니다\n",
            "61000 원 남았습니다 390 대 맞았습니다\n",
            "60900 원 남았습니다 391 대 맞았습니다\n",
            "60800 원 남았습니다 392 대 맞았습니다\n",
            "60700 원 남았습니다 393 대 맞았습니다\n",
            "60600 원 남았습니다 394 대 맞았습니다\n",
            "60500 원 남았습니다 395 대 맞았습니다\n",
            "60400 원 남았습니다 396 대 맞았습니다\n",
            "60300 원 남았습니다 397 대 맞았습니다\n",
            "60200 원 남았습니다 398 대 맞았습니다\n",
            "60100 원 남았습니다 399 대 맞았습니다\n",
            "60000 원 남았습니다 400 대 맞았습니다\n",
            "59900 원 남았습니다 401 대 맞았습니다\n",
            "59800 원 남았습니다 402 대 맞았습니다\n",
            "59700 원 남았습니다 403 대 맞았습니다\n",
            "59600 원 남았습니다 404 대 맞았습니다\n",
            "59500 원 남았습니다 405 대 맞았습니다\n",
            "59400 원 남았습니다 406 대 맞았습니다\n",
            "59300 원 남았습니다 407 대 맞았습니다\n",
            "59200 원 남았습니다 408 대 맞았습니다\n",
            "59100 원 남았습니다 409 대 맞았습니다\n",
            "59000 원 남았습니다 410 대 맞았습니다\n",
            "58900 원 남았습니다 411 대 맞았습니다\n",
            "58800 원 남았습니다 412 대 맞았습니다\n",
            "58700 원 남았습니다 413 대 맞았습니다\n",
            "58600 원 남았습니다 414 대 맞았습니다\n",
            "58500 원 남았습니다 415 대 맞았습니다\n",
            "58400 원 남았습니다 416 대 맞았습니다\n",
            "58300 원 남았습니다 417 대 맞았습니다\n",
            "58200 원 남았습니다 418 대 맞았습니다\n",
            "58100 원 남았습니다 419 대 맞았습니다\n",
            "58000 원 남았습니다 420 대 맞았습니다\n",
            "57900 원 남았습니다 421 대 맞았습니다\n",
            "57800 원 남았습니다 422 대 맞았습니다\n",
            "57700 원 남았습니다 423 대 맞았습니다\n",
            "57600 원 남았습니다 424 대 맞았습니다\n",
            "57500 원 남았습니다 425 대 맞았습니다\n",
            "57400 원 남았습니다 426 대 맞았습니다\n",
            "57300 원 남았습니다 427 대 맞았습니다\n",
            "57200 원 남았습니다 428 대 맞았습니다\n",
            "57100 원 남았습니다 429 대 맞았습니다\n",
            "57000 원 남았습니다 430 대 맞았습니다\n",
            "56900 원 남았습니다 431 대 맞았습니다\n",
            "56800 원 남았습니다 432 대 맞았습니다\n",
            "56700 원 남았습니다 433 대 맞았습니다\n",
            "56600 원 남았습니다 434 대 맞았습니다\n",
            "56500 원 남았습니다 435 대 맞았습니다\n",
            "56400 원 남았습니다 436 대 맞았습니다\n",
            "56300 원 남았습니다 437 대 맞았습니다\n",
            "56200 원 남았습니다 438 대 맞았습니다\n",
            "56100 원 남았습니다 439 대 맞았습니다\n",
            "56000 원 남았습니다 440 대 맞았습니다\n",
            "55900 원 남았습니다 441 대 맞았습니다\n",
            "55800 원 남았습니다 442 대 맞았습니다\n",
            "55700 원 남았습니다 443 대 맞았습니다\n",
            "55600 원 남았습니다 444 대 맞았습니다\n",
            "55500 원 남았습니다 445 대 맞았습니다\n",
            "55400 원 남았습니다 446 대 맞았습니다\n",
            "55300 원 남았습니다 447 대 맞았습니다\n",
            "55200 원 남았습니다 448 대 맞았습니다\n",
            "55100 원 남았습니다 449 대 맞았습니다\n",
            "55000 원 남았습니다 450 대 맞았습니다\n",
            "54900 원 남았습니다 451 대 맞았습니다\n",
            "54800 원 남았습니다 452 대 맞았습니다\n",
            "54700 원 남았습니다 453 대 맞았습니다\n",
            "54600 원 남았습니다 454 대 맞았습니다\n",
            "54500 원 남았습니다 455 대 맞았습니다\n",
            "54400 원 남았습니다 456 대 맞았습니다\n",
            "54300 원 남았습니다 457 대 맞았습니다\n",
            "54200 원 남았습니다 458 대 맞았습니다\n",
            "54100 원 남았습니다 459 대 맞았습니다\n",
            "54000 원 남았습니다 460 대 맞았습니다\n",
            "53900 원 남았습니다 461 대 맞았습니다\n",
            "53800 원 남았습니다 462 대 맞았습니다\n",
            "53700 원 남았습니다 463 대 맞았습니다\n",
            "53600 원 남았습니다 464 대 맞았습니다\n",
            "53500 원 남았습니다 465 대 맞았습니다\n",
            "53400 원 남았습니다 466 대 맞았습니다\n",
            "53300 원 남았습니다 467 대 맞았습니다\n",
            "53200 원 남았습니다 468 대 맞았습니다\n",
            "53100 원 남았습니다 469 대 맞았습니다\n",
            "53000 원 남았습니다 470 대 맞았습니다\n",
            "52900 원 남았습니다 471 대 맞았습니다\n",
            "52800 원 남았습니다 472 대 맞았습니다\n",
            "52700 원 남았습니다 473 대 맞았습니다\n",
            "52600 원 남았습니다 474 대 맞았습니다\n",
            "52500 원 남았습니다 475 대 맞았습니다\n",
            "52400 원 남았습니다 476 대 맞았습니다\n",
            "52300 원 남았습니다 477 대 맞았습니다\n",
            "52200 원 남았습니다 478 대 맞았습니다\n",
            "52100 원 남았습니다 479 대 맞았습니다\n",
            "52000 원 남았습니다 480 대 맞았습니다\n",
            "51900 원 남았습니다 481 대 맞았습니다\n",
            "51800 원 남았습니다 482 대 맞았습니다\n",
            "51700 원 남았습니다 483 대 맞았습니다\n",
            "51600 원 남았습니다 484 대 맞았습니다\n",
            "51500 원 남았습니다 485 대 맞았습니다\n",
            "51400 원 남았습니다 486 대 맞았습니다\n",
            "51300 원 남았습니다 487 대 맞았습니다\n",
            "51200 원 남았습니다 488 대 맞았습니다\n",
            "51100 원 남았습니다 489 대 맞았습니다\n",
            "51000 원 남았습니다 490 대 맞았습니다\n",
            "50900 원 남았습니다 491 대 맞았습니다\n",
            "50800 원 남았습니다 492 대 맞았습니다\n",
            "50700 원 남았습니다 493 대 맞았습니다\n",
            "50600 원 남았습니다 494 대 맞았습니다\n",
            "50500 원 남았습니다 495 대 맞았습니다\n",
            "50400 원 남았습니다 496 대 맞았습니다\n",
            "50300 원 남았습니다 497 대 맞았습니다\n",
            "50200 원 남았습니다 498 대 맞았습니다\n",
            "50100 원 남았습니다 499 대 맞았습니다\n",
            "50000 원 남았습니다 500 대 맞았습니다\n",
            "49900 원 남았습니다 501 대 맞았습니다\n",
            "49800 원 남았습니다 502 대 맞았습니다\n",
            "49700 원 남았습니다 503 대 맞았습니다\n",
            "49600 원 남았습니다 504 대 맞았습니다\n",
            "49500 원 남았습니다 505 대 맞았습니다\n",
            "49400 원 남았습니다 506 대 맞았습니다\n",
            "49300 원 남았습니다 507 대 맞았습니다\n",
            "49200 원 남았습니다 508 대 맞았습니다\n",
            "49100 원 남았습니다 509 대 맞았습니다\n",
            "49000 원 남았습니다 510 대 맞았습니다\n",
            "48900 원 남았습니다 511 대 맞았습니다\n",
            "48800 원 남았습니다 512 대 맞았습니다\n",
            "48700 원 남았습니다 513 대 맞았습니다\n",
            "48600 원 남았습니다 514 대 맞았습니다\n",
            "48500 원 남았습니다 515 대 맞았습니다\n",
            "48400 원 남았습니다 516 대 맞았습니다\n",
            "48300 원 남았습니다 517 대 맞았습니다\n",
            "48200 원 남았습니다 518 대 맞았습니다\n",
            "48100 원 남았습니다 519 대 맞았습니다\n",
            "48000 원 남았습니다 520 대 맞았습니다\n",
            "47900 원 남았습니다 521 대 맞았습니다\n",
            "47800 원 남았습니다 522 대 맞았습니다\n",
            "47700 원 남았습니다 523 대 맞았습니다\n",
            "47600 원 남았습니다 524 대 맞았습니다\n",
            "47500 원 남았습니다 525 대 맞았습니다\n",
            "47400 원 남았습니다 526 대 맞았습니다\n",
            "47300 원 남았습니다 527 대 맞았습니다\n",
            "47200 원 남았습니다 528 대 맞았습니다\n",
            "47100 원 남았습니다 529 대 맞았습니다\n",
            "47000 원 남았습니다 530 대 맞았습니다\n",
            "46900 원 남았습니다 531 대 맞았습니다\n",
            "46800 원 남았습니다 532 대 맞았습니다\n",
            "46700 원 남았습니다 533 대 맞았습니다\n",
            "46600 원 남았습니다 534 대 맞았습니다\n",
            "46500 원 남았습니다 535 대 맞았습니다\n",
            "46400 원 남았습니다 536 대 맞았습니다\n",
            "46300 원 남았습니다 537 대 맞았습니다\n",
            "46200 원 남았습니다 538 대 맞았습니다\n",
            "46100 원 남았습니다 539 대 맞았습니다\n",
            "46000 원 남았습니다 540 대 맞았습니다\n",
            "45900 원 남았습니다 541 대 맞았습니다\n",
            "45800 원 남았습니다 542 대 맞았습니다\n",
            "45700 원 남았습니다 543 대 맞았습니다\n",
            "45600 원 남았습니다 544 대 맞았습니다\n",
            "45500 원 남았습니다 545 대 맞았습니다\n",
            "45400 원 남았습니다 546 대 맞았습니다\n",
            "45300 원 남았습니다 547 대 맞았습니다\n",
            "45200 원 남았습니다 548 대 맞았습니다\n",
            "45100 원 남았습니다 549 대 맞았습니다\n",
            "45000 원 남았습니다 550 대 맞았습니다\n",
            "44900 원 남았습니다 551 대 맞았습니다\n",
            "44800 원 남았습니다 552 대 맞았습니다\n",
            "44700 원 남았습니다 553 대 맞았습니다\n",
            "44600 원 남았습니다 554 대 맞았습니다\n",
            "44500 원 남았습니다 555 대 맞았습니다\n",
            "44400 원 남았습니다 556 대 맞았습니다\n",
            "44300 원 남았습니다 557 대 맞았습니다\n",
            "44200 원 남았습니다 558 대 맞았습니다\n",
            "44100 원 남았습니다 559 대 맞았습니다\n",
            "44000 원 남았습니다 560 대 맞았습니다\n",
            "43900 원 남았습니다 561 대 맞았습니다\n",
            "43800 원 남았습니다 562 대 맞았습니다\n",
            "43700 원 남았습니다 563 대 맞았습니다\n",
            "43600 원 남았습니다 564 대 맞았습니다\n",
            "43500 원 남았습니다 565 대 맞았습니다\n",
            "43400 원 남았습니다 566 대 맞았습니다\n",
            "43300 원 남았습니다 567 대 맞았습니다\n",
            "43200 원 남았습니다 568 대 맞았습니다\n",
            "43100 원 남았습니다 569 대 맞았습니다\n",
            "43000 원 남았습니다 570 대 맞았습니다\n",
            "42900 원 남았습니다 571 대 맞았습니다\n",
            "42800 원 남았습니다 572 대 맞았습니다\n",
            "42700 원 남았습니다 573 대 맞았습니다\n",
            "42600 원 남았습니다 574 대 맞았습니다\n",
            "42500 원 남았습니다 575 대 맞았습니다\n",
            "42400 원 남았습니다 576 대 맞았습니다\n",
            "42300 원 남았습니다 577 대 맞았습니다\n",
            "42200 원 남았습니다 578 대 맞았습니다\n",
            "42100 원 남았습니다 579 대 맞았습니다\n",
            "42000 원 남았습니다 580 대 맞았습니다\n",
            "41900 원 남았습니다 581 대 맞았습니다\n",
            "41800 원 남았습니다 582 대 맞았습니다\n",
            "41700 원 남았습니다 583 대 맞았습니다\n",
            "41600 원 남았습니다 584 대 맞았습니다\n",
            "41500 원 남았습니다 585 대 맞았습니다\n",
            "41400 원 남았습니다 586 대 맞았습니다\n",
            "41300 원 남았습니다 587 대 맞았습니다\n",
            "41200 원 남았습니다 588 대 맞았습니다\n",
            "41100 원 남았습니다 589 대 맞았습니다\n",
            "41000 원 남았습니다 590 대 맞았습니다\n",
            "40900 원 남았습니다 591 대 맞았습니다\n",
            "40800 원 남았습니다 592 대 맞았습니다\n",
            "40700 원 남았습니다 593 대 맞았습니다\n",
            "40600 원 남았습니다 594 대 맞았습니다\n",
            "40500 원 남았습니다 595 대 맞았습니다\n",
            "40400 원 남았습니다 596 대 맞았습니다\n",
            "40300 원 남았습니다 597 대 맞았습니다\n",
            "40200 원 남았습니다 598 대 맞았습니다\n",
            "40100 원 남았습니다 599 대 맞았습니다\n",
            "40000 원 남았습니다 600 대 맞았습니다\n",
            "39900 원 남았습니다 601 대 맞았습니다\n",
            "39800 원 남았습니다 602 대 맞았습니다\n",
            "39700 원 남았습니다 603 대 맞았습니다\n",
            "39600 원 남았습니다 604 대 맞았습니다\n",
            "39500 원 남았습니다 605 대 맞았습니다\n",
            "39400 원 남았습니다 606 대 맞았습니다\n",
            "39300 원 남았습니다 607 대 맞았습니다\n",
            "39200 원 남았습니다 608 대 맞았습니다\n",
            "39100 원 남았습니다 609 대 맞았습니다\n",
            "39000 원 남았습니다 610 대 맞았습니다\n",
            "38900 원 남았습니다 611 대 맞았습니다\n",
            "38800 원 남았습니다 612 대 맞았습니다\n",
            "38700 원 남았습니다 613 대 맞았습니다\n",
            "38600 원 남았습니다 614 대 맞았습니다\n",
            "38500 원 남았습니다 615 대 맞았습니다\n",
            "38400 원 남았습니다 616 대 맞았습니다\n",
            "38300 원 남았습니다 617 대 맞았습니다\n",
            "38200 원 남았습니다 618 대 맞았습니다\n",
            "38100 원 남았습니다 619 대 맞았습니다\n",
            "38000 원 남았습니다 620 대 맞았습니다\n",
            "37900 원 남았습니다 621 대 맞았습니다\n",
            "37800 원 남았습니다 622 대 맞았습니다\n",
            "37700 원 남았습니다 623 대 맞았습니다\n",
            "37600 원 남았습니다 624 대 맞았습니다\n",
            "37500 원 남았습니다 625 대 맞았습니다\n",
            "37400 원 남았습니다 626 대 맞았습니다\n",
            "37300 원 남았습니다 627 대 맞았습니다\n",
            "37200 원 남았습니다 628 대 맞았습니다\n",
            "37100 원 남았습니다 629 대 맞았습니다\n",
            "37000 원 남았습니다 630 대 맞았습니다\n",
            "36900 원 남았습니다 631 대 맞았습니다\n",
            "36800 원 남았습니다 632 대 맞았습니다\n",
            "36700 원 남았습니다 633 대 맞았습니다\n",
            "36600 원 남았습니다 634 대 맞았습니다\n",
            "36500 원 남았습니다 635 대 맞았습니다\n",
            "36400 원 남았습니다 636 대 맞았습니다\n",
            "36300 원 남았습니다 637 대 맞았습니다\n",
            "36200 원 남았습니다 638 대 맞았습니다\n",
            "36100 원 남았습니다 639 대 맞았습니다\n",
            "36000 원 남았습니다 640 대 맞았습니다\n",
            "35900 원 남았습니다 641 대 맞았습니다\n",
            "35800 원 남았습니다 642 대 맞았습니다\n",
            "35700 원 남았습니다 643 대 맞았습니다\n",
            "35600 원 남았습니다 644 대 맞았습니다\n",
            "35500 원 남았습니다 645 대 맞았습니다\n",
            "35400 원 남았습니다 646 대 맞았습니다\n",
            "35300 원 남았습니다 647 대 맞았습니다\n",
            "35200 원 남았습니다 648 대 맞았습니다\n",
            "35100 원 남았습니다 649 대 맞았습니다\n",
            "35000 원 남았습니다 650 대 맞았습니다\n",
            "34900 원 남았습니다 651 대 맞았습니다\n",
            "34800 원 남았습니다 652 대 맞았습니다\n",
            "34700 원 남았습니다 653 대 맞았습니다\n",
            "34600 원 남았습니다 654 대 맞았습니다\n",
            "34500 원 남았습니다 655 대 맞았습니다\n",
            "34400 원 남았습니다 656 대 맞았습니다\n",
            "34300 원 남았습니다 657 대 맞았습니다\n",
            "34200 원 남았습니다 658 대 맞았습니다\n",
            "34100 원 남았습니다 659 대 맞았습니다\n",
            "34000 원 남았습니다 660 대 맞았습니다\n",
            "33900 원 남았습니다 661 대 맞았습니다\n",
            "33800 원 남았습니다 662 대 맞았습니다\n",
            "33700 원 남았습니다 663 대 맞았습니다\n",
            "33600 원 남았습니다 664 대 맞았습니다\n",
            "33500 원 남았습니다 665 대 맞았습니다\n",
            "33400 원 남았습니다 666 대 맞았습니다\n",
            "33300 원 남았습니다 667 대 맞았습니다\n",
            "33200 원 남았습니다 668 대 맞았습니다\n",
            "33100 원 남았습니다 669 대 맞았습니다\n",
            "33000 원 남았습니다 670 대 맞았습니다\n",
            "32900 원 남았습니다 671 대 맞았습니다\n",
            "32800 원 남았습니다 672 대 맞았습니다\n",
            "32700 원 남았습니다 673 대 맞았습니다\n",
            "32600 원 남았습니다 674 대 맞았습니다\n",
            "32500 원 남았습니다 675 대 맞았습니다\n",
            "32400 원 남았습니다 676 대 맞았습니다\n",
            "32300 원 남았습니다 677 대 맞았습니다\n",
            "32200 원 남았습니다 678 대 맞았습니다\n",
            "32100 원 남았습니다 679 대 맞았습니다\n",
            "32000 원 남았습니다 680 대 맞았습니다\n",
            "31900 원 남았습니다 681 대 맞았습니다\n",
            "31800 원 남았습니다 682 대 맞았습니다\n",
            "31700 원 남았습니다 683 대 맞았습니다\n",
            "31600 원 남았습니다 684 대 맞았습니다\n",
            "31500 원 남았습니다 685 대 맞았습니다\n",
            "31400 원 남았습니다 686 대 맞았습니다\n",
            "31300 원 남았습니다 687 대 맞았습니다\n",
            "31200 원 남았습니다 688 대 맞았습니다\n",
            "31100 원 남았습니다 689 대 맞았습니다\n",
            "31000 원 남았습니다 690 대 맞았습니다\n",
            "30900 원 남았습니다 691 대 맞았습니다\n",
            "30800 원 남았습니다 692 대 맞았습니다\n",
            "30700 원 남았습니다 693 대 맞았습니다\n",
            "30600 원 남았습니다 694 대 맞았습니다\n",
            "30500 원 남았습니다 695 대 맞았습니다\n",
            "30400 원 남았습니다 696 대 맞았습니다\n",
            "30300 원 남았습니다 697 대 맞았습니다\n",
            "30200 원 남았습니다 698 대 맞았습니다\n",
            "30100 원 남았습니다 699 대 맞았습니다\n",
            "30000 원 남았습니다 700 대 맞았습니다\n",
            "29900 원 남았습니다 701 대 맞았습니다\n",
            "29800 원 남았습니다 702 대 맞았습니다\n",
            "29700 원 남았습니다 703 대 맞았습니다\n",
            "29600 원 남았습니다 704 대 맞았습니다\n",
            "29500 원 남았습니다 705 대 맞았습니다\n",
            "29400 원 남았습니다 706 대 맞았습니다\n",
            "29300 원 남았습니다 707 대 맞았습니다\n",
            "29200 원 남았습니다 708 대 맞았습니다\n",
            "29100 원 남았습니다 709 대 맞았습니다\n",
            "29000 원 남았습니다 710 대 맞았습니다\n",
            "28900 원 남았습니다 711 대 맞았습니다\n",
            "28800 원 남았습니다 712 대 맞았습니다\n",
            "28700 원 남았습니다 713 대 맞았습니다\n",
            "28600 원 남았습니다 714 대 맞았습니다\n",
            "28500 원 남았습니다 715 대 맞았습니다\n",
            "28400 원 남았습니다 716 대 맞았습니다\n",
            "28300 원 남았습니다 717 대 맞았습니다\n",
            "28200 원 남았습니다 718 대 맞았습니다\n",
            "28100 원 남았습니다 719 대 맞았습니다\n",
            "28000 원 남았습니다 720 대 맞았습니다\n",
            "27900 원 남았습니다 721 대 맞았습니다\n",
            "27800 원 남았습니다 722 대 맞았습니다\n",
            "27700 원 남았습니다 723 대 맞았습니다\n",
            "27600 원 남았습니다 724 대 맞았습니다\n",
            "27500 원 남았습니다 725 대 맞았습니다\n",
            "27400 원 남았습니다 726 대 맞았습니다\n",
            "27300 원 남았습니다 727 대 맞았습니다\n",
            "27200 원 남았습니다 728 대 맞았습니다\n",
            "27100 원 남았습니다 729 대 맞았습니다\n",
            "27000 원 남았습니다 730 대 맞았습니다\n",
            "26900 원 남았습니다 731 대 맞았습니다\n",
            "26800 원 남았습니다 732 대 맞았습니다\n",
            "26700 원 남았습니다 733 대 맞았습니다\n",
            "26600 원 남았습니다 734 대 맞았습니다\n",
            "26500 원 남았습니다 735 대 맞았습니다\n",
            "26400 원 남았습니다 736 대 맞았습니다\n",
            "26300 원 남았습니다 737 대 맞았습니다\n",
            "26200 원 남았습니다 738 대 맞았습니다\n",
            "26100 원 남았습니다 739 대 맞았습니다\n",
            "26000 원 남았습니다 740 대 맞았습니다\n",
            "25900 원 남았습니다 741 대 맞았습니다\n",
            "25800 원 남았습니다 742 대 맞았습니다\n",
            "25700 원 남았습니다 743 대 맞았습니다\n",
            "25600 원 남았습니다 744 대 맞았습니다\n",
            "25500 원 남았습니다 745 대 맞았습니다\n",
            "25400 원 남았습니다 746 대 맞았습니다\n",
            "25300 원 남았습니다 747 대 맞았습니다\n",
            "25200 원 남았습니다 748 대 맞았습니다\n",
            "25100 원 남았습니다 749 대 맞았습니다\n",
            "25000 원 남았습니다 750 대 맞았습니다\n",
            "24900 원 남았습니다 751 대 맞았습니다\n",
            "24800 원 남았습니다 752 대 맞았습니다\n",
            "24700 원 남았습니다 753 대 맞았습니다\n",
            "24600 원 남았습니다 754 대 맞았습니다\n",
            "24500 원 남았습니다 755 대 맞았습니다\n",
            "24400 원 남았습니다 756 대 맞았습니다\n",
            "24300 원 남았습니다 757 대 맞았습니다\n",
            "24200 원 남았습니다 758 대 맞았습니다\n",
            "24100 원 남았습니다 759 대 맞았습니다\n",
            "24000 원 남았습니다 760 대 맞았습니다\n",
            "23900 원 남았습니다 761 대 맞았습니다\n",
            "23800 원 남았습니다 762 대 맞았습니다\n",
            "23700 원 남았습니다 763 대 맞았습니다\n",
            "23600 원 남았습니다 764 대 맞았습니다\n",
            "23500 원 남았습니다 765 대 맞았습니다\n",
            "23400 원 남았습니다 766 대 맞았습니다\n",
            "23300 원 남았습니다 767 대 맞았습니다\n",
            "23200 원 남았습니다 768 대 맞았습니다\n",
            "23100 원 남았습니다 769 대 맞았습니다\n",
            "23000 원 남았습니다 770 대 맞았습니다\n",
            "22900 원 남았습니다 771 대 맞았습니다\n",
            "22800 원 남았습니다 772 대 맞았습니다\n",
            "22700 원 남았습니다 773 대 맞았습니다\n",
            "22600 원 남았습니다 774 대 맞았습니다\n",
            "22500 원 남았습니다 775 대 맞았습니다\n",
            "22400 원 남았습니다 776 대 맞았습니다\n",
            "22300 원 남았습니다 777 대 맞았습니다\n",
            "22200 원 남았습니다 778 대 맞았습니다\n",
            "22100 원 남았습니다 779 대 맞았습니다\n",
            "22000 원 남았습니다 780 대 맞았습니다\n",
            "21900 원 남았습니다 781 대 맞았습니다\n",
            "21800 원 남았습니다 782 대 맞았습니다\n",
            "21700 원 남았습니다 783 대 맞았습니다\n",
            "21600 원 남았습니다 784 대 맞았습니다\n",
            "21500 원 남았습니다 785 대 맞았습니다\n",
            "21400 원 남았습니다 786 대 맞았습니다\n",
            "21300 원 남았습니다 787 대 맞았습니다\n",
            "21200 원 남았습니다 788 대 맞았습니다\n",
            "21100 원 남았습니다 789 대 맞았습니다\n",
            "21000 원 남았습니다 790 대 맞았습니다\n",
            "20900 원 남았습니다 791 대 맞았습니다\n",
            "20800 원 남았습니다 792 대 맞았습니다\n",
            "20700 원 남았습니다 793 대 맞았습니다\n",
            "20600 원 남았습니다 794 대 맞았습니다\n",
            "20500 원 남았습니다 795 대 맞았습니다\n",
            "20400 원 남았습니다 796 대 맞았습니다\n",
            "20300 원 남았습니다 797 대 맞았습니다\n",
            "20200 원 남았습니다 798 대 맞았습니다\n",
            "20100 원 남았습니다 799 대 맞았습니다\n",
            "20000 원 남았습니다 800 대 맞았습니다\n",
            "19900 원 남았습니다 801 대 맞았습니다\n",
            "19800 원 남았습니다 802 대 맞았습니다\n",
            "19700 원 남았습니다 803 대 맞았습니다\n",
            "19600 원 남았습니다 804 대 맞았습니다\n",
            "19500 원 남았습니다 805 대 맞았습니다\n",
            "19400 원 남았습니다 806 대 맞았습니다\n",
            "19300 원 남았습니다 807 대 맞았습니다\n",
            "19200 원 남았습니다 808 대 맞았습니다\n",
            "19100 원 남았습니다 809 대 맞았습니다\n",
            "19000 원 남았습니다 810 대 맞았습니다\n",
            "18900 원 남았습니다 811 대 맞았습니다\n",
            "18800 원 남았습니다 812 대 맞았습니다\n",
            "18700 원 남았습니다 813 대 맞았습니다\n",
            "18600 원 남았습니다 814 대 맞았습니다\n",
            "18500 원 남았습니다 815 대 맞았습니다\n",
            "18400 원 남았습니다 816 대 맞았습니다\n",
            "18300 원 남았습니다 817 대 맞았습니다\n",
            "18200 원 남았습니다 818 대 맞았습니다\n",
            "18100 원 남았습니다 819 대 맞았습니다\n",
            "18000 원 남았습니다 820 대 맞았습니다\n",
            "17900 원 남았습니다 821 대 맞았습니다\n",
            "17800 원 남았습니다 822 대 맞았습니다\n",
            "17700 원 남았습니다 823 대 맞았습니다\n",
            "17600 원 남았습니다 824 대 맞았습니다\n",
            "17500 원 남았습니다 825 대 맞았습니다\n",
            "17400 원 남았습니다 826 대 맞았습니다\n",
            "17300 원 남았습니다 827 대 맞았습니다\n",
            "17200 원 남았습니다 828 대 맞았습니다\n",
            "17100 원 남았습니다 829 대 맞았습니다\n",
            "17000 원 남았습니다 830 대 맞았습니다\n",
            "16900 원 남았습니다 831 대 맞았습니다\n",
            "16800 원 남았습니다 832 대 맞았습니다\n",
            "16700 원 남았습니다 833 대 맞았습니다\n",
            "16600 원 남았습니다 834 대 맞았습니다\n",
            "16500 원 남았습니다 835 대 맞았습니다\n",
            "16400 원 남았습니다 836 대 맞았습니다\n",
            "16300 원 남았습니다 837 대 맞았습니다\n",
            "16200 원 남았습니다 838 대 맞았습니다\n",
            "16100 원 남았습니다 839 대 맞았습니다\n",
            "16000 원 남았습니다 840 대 맞았습니다\n",
            "15900 원 남았습니다 841 대 맞았습니다\n",
            "15800 원 남았습니다 842 대 맞았습니다\n",
            "15700 원 남았습니다 843 대 맞았습니다\n",
            "15600 원 남았습니다 844 대 맞았습니다\n",
            "15500 원 남았습니다 845 대 맞았습니다\n",
            "15400 원 남았습니다 846 대 맞았습니다\n",
            "15300 원 남았습니다 847 대 맞았습니다\n",
            "15200 원 남았습니다 848 대 맞았습니다\n",
            "15100 원 남았습니다 849 대 맞았습니다\n",
            "15000 원 남았습니다 850 대 맞았습니다\n",
            "14900 원 남았습니다 851 대 맞았습니다\n",
            "14800 원 남았습니다 852 대 맞았습니다\n",
            "14700 원 남았습니다 853 대 맞았습니다\n",
            "14600 원 남았습니다 854 대 맞았습니다\n",
            "14500 원 남았습니다 855 대 맞았습니다\n",
            "14400 원 남았습니다 856 대 맞았습니다\n",
            "14300 원 남았습니다 857 대 맞았습니다\n",
            "14200 원 남았습니다 858 대 맞았습니다\n",
            "14100 원 남았습니다 859 대 맞았습니다\n",
            "14000 원 남았습니다 860 대 맞았습니다\n",
            "13900 원 남았습니다 861 대 맞았습니다\n",
            "13800 원 남았습니다 862 대 맞았습니다\n",
            "13700 원 남았습니다 863 대 맞았습니다\n",
            "13600 원 남았습니다 864 대 맞았습니다\n",
            "13500 원 남았습니다 865 대 맞았습니다\n",
            "13400 원 남았습니다 866 대 맞았습니다\n",
            "13300 원 남았습니다 867 대 맞았습니다\n",
            "13200 원 남았습니다 868 대 맞았습니다\n",
            "13100 원 남았습니다 869 대 맞았습니다\n",
            "13000 원 남았습니다 870 대 맞았습니다\n",
            "12900 원 남았습니다 871 대 맞았습니다\n",
            "12800 원 남았습니다 872 대 맞았습니다\n",
            "12700 원 남았습니다 873 대 맞았습니다\n",
            "12600 원 남았습니다 874 대 맞았습니다\n",
            "12500 원 남았습니다 875 대 맞았습니다\n",
            "12400 원 남았습니다 876 대 맞았습니다\n",
            "12300 원 남았습니다 877 대 맞았습니다\n",
            "12200 원 남았습니다 878 대 맞았습니다\n",
            "12100 원 남았습니다 879 대 맞았습니다\n",
            "12000 원 남았습니다 880 대 맞았습니다\n",
            "11900 원 남았습니다 881 대 맞았습니다\n",
            "11800 원 남았습니다 882 대 맞았습니다\n",
            "11700 원 남았습니다 883 대 맞았습니다\n",
            "11600 원 남았습니다 884 대 맞았습니다\n",
            "11500 원 남았습니다 885 대 맞았습니다\n",
            "11400 원 남았습니다 886 대 맞았습니다\n",
            "11300 원 남았습니다 887 대 맞았습니다\n",
            "11200 원 남았습니다 888 대 맞았습니다\n",
            "11100 원 남았습니다 889 대 맞았습니다\n",
            "11000 원 남았습니다 890 대 맞았습니다\n",
            "10900 원 남았습니다 891 대 맞았습니다\n",
            "10800 원 남았습니다 892 대 맞았습니다\n",
            "10700 원 남았습니다 893 대 맞았습니다\n",
            "10600 원 남았습니다 894 대 맞았습니다\n",
            "10500 원 남았습니다 895 대 맞았습니다\n",
            "10400 원 남았습니다 896 대 맞았습니다\n",
            "10300 원 남았습니다 897 대 맞았습니다\n",
            "10200 원 남았습니다 898 대 맞았습니다\n",
            "10100 원 남았습니다 899 대 맞았습니다\n",
            "10000 원 남았습니다 900 대 맞았습니다\n",
            "9900 원 남았습니다 901 대 맞았습니다\n",
            "9800 원 남았습니다 902 대 맞았습니다\n",
            "9700 원 남았습니다 903 대 맞았습니다\n",
            "9600 원 남았습니다 904 대 맞았습니다\n",
            "9500 원 남았습니다 905 대 맞았습니다\n",
            "9400 원 남았습니다 906 대 맞았습니다\n",
            "9300 원 남았습니다 907 대 맞았습니다\n",
            "9200 원 남았습니다 908 대 맞았습니다\n",
            "9100 원 남았습니다 909 대 맞았습니다\n",
            "9000 원 남았습니다 910 대 맞았습니다\n",
            "8900 원 남았습니다 911 대 맞았습니다\n",
            "8800 원 남았습니다 912 대 맞았습니다\n",
            "8700 원 남았습니다 913 대 맞았습니다\n",
            "8600 원 남았습니다 914 대 맞았습니다\n",
            "8500 원 남았습니다 915 대 맞았습니다\n",
            "8400 원 남았습니다 916 대 맞았습니다\n",
            "8300 원 남았습니다 917 대 맞았습니다\n",
            "8200 원 남았습니다 918 대 맞았습니다\n",
            "8100 원 남았습니다 919 대 맞았습니다\n",
            "8000 원 남았습니다 920 대 맞았습니다\n",
            "7900 원 남았습니다 921 대 맞았습니다\n",
            "7800 원 남았습니다 922 대 맞았습니다\n",
            "7700 원 남았습니다 923 대 맞았습니다\n",
            "7600 원 남았습니다 924 대 맞았습니다\n",
            "7500 원 남았습니다 925 대 맞았습니다\n",
            "7400 원 남았습니다 926 대 맞았습니다\n",
            "7300 원 남았습니다 927 대 맞았습니다\n",
            "7200 원 남았습니다 928 대 맞았습니다\n",
            "7100 원 남았습니다 929 대 맞았습니다\n",
            "7000 원 남았습니다 930 대 맞았습니다\n",
            "6900 원 남았습니다 931 대 맞았습니다\n",
            "6800 원 남았습니다 932 대 맞았습니다\n",
            "6700 원 남았습니다 933 대 맞았습니다\n",
            "6600 원 남았습니다 934 대 맞았습니다\n",
            "6500 원 남았습니다 935 대 맞았습니다\n",
            "6400 원 남았습니다 936 대 맞았습니다\n",
            "6300 원 남았습니다 937 대 맞았습니다\n",
            "6200 원 남았습니다 938 대 맞았습니다\n",
            "6100 원 남았습니다 939 대 맞았습니다\n",
            "6000 원 남았습니다 940 대 맞았습니다\n",
            "5900 원 남았습니다 941 대 맞았습니다\n",
            "5800 원 남았습니다 942 대 맞았습니다\n",
            "5700 원 남았습니다 943 대 맞았습니다\n",
            "5600 원 남았습니다 944 대 맞았습니다\n",
            "5500 원 남았습니다 945 대 맞았습니다\n",
            "5400 원 남았습니다 946 대 맞았습니다\n",
            "5300 원 남았습니다 947 대 맞았습니다\n",
            "5200 원 남았습니다 948 대 맞았습니다\n",
            "5100 원 남았습니다 949 대 맞았습니다\n",
            "5000 원 남았습니다 950 대 맞았습니다\n",
            "4900 원 남았습니다 951 대 맞았습니다\n",
            "4800 원 남았습니다 952 대 맞았습니다\n",
            "4700 원 남았습니다 953 대 맞았습니다\n",
            "4600 원 남았습니다 954 대 맞았습니다\n",
            "4500 원 남았습니다 955 대 맞았습니다\n",
            "4400 원 남았습니다 956 대 맞았습니다\n",
            "4300 원 남았습니다 957 대 맞았습니다\n",
            "4200 원 남았습니다 958 대 맞았습니다\n",
            "4100 원 남았습니다 959 대 맞았습니다\n",
            "4000 원 남았습니다 960 대 맞았습니다\n",
            "3900 원 남았습니다 961 대 맞았습니다\n",
            "3800 원 남았습니다 962 대 맞았습니다\n",
            "3700 원 남았습니다 963 대 맞았습니다\n",
            "3600 원 남았습니다 964 대 맞았습니다\n",
            "3500 원 남았습니다 965 대 맞았습니다\n",
            "3400 원 남았습니다 966 대 맞았습니다\n",
            "3300 원 남았습니다 967 대 맞았습니다\n",
            "3200 원 남았습니다 968 대 맞았습니다\n",
            "3100 원 남았습니다 969 대 맞았습니다\n",
            "3000 원 남았습니다 970 대 맞았습니다\n",
            "2900 원 남았습니다 971 대 맞았습니다\n",
            "2800 원 남았습니다 972 대 맞았습니다\n",
            "2700 원 남았습니다 973 대 맞았습니다\n",
            "2600 원 남았습니다 974 대 맞았습니다\n",
            "2500 원 남았습니다 975 대 맞았습니다\n",
            "2400 원 남았습니다 976 대 맞았습니다\n",
            "2300 원 남았습니다 977 대 맞았습니다\n",
            "2200 원 남았습니다 978 대 맞았습니다\n",
            "2100 원 남았습니다 979 대 맞았습니다\n",
            "2000 원 남았습니다 980 대 맞았습니다\n",
            "1900 원 남았습니다 981 대 맞았습니다\n",
            "1800 원 남았습니다 982 대 맞았습니다\n",
            "1700 원 남았습니다 983 대 맞았습니다\n",
            "1600 원 남았습니다 984 대 맞았습니다\n",
            "1500 원 남았습니다 985 대 맞았습니다\n",
            "1400 원 남았습니다 986 대 맞았습니다\n",
            "1300 원 남았습니다 987 대 맞았습니다\n",
            "1200 원 남았습니다 988 대 맞았습니다\n",
            "1100 원 남았습니다 989 대 맞았습니다\n",
            "1000 원 남았습니다 990 대 맞았습니다\n",
            "900 원 남았습니다 991 대 맞았습니다\n",
            "800 원 남았습니다 992 대 맞았습니다\n",
            "700 원 남았습니다 993 대 맞았습니다\n",
            "600 원 남았습니다 994 대 맞았습니다\n",
            "500 원 남았습니다 995 대 맞았습니다\n",
            "400 원 남았습니다 996 대 맞았습니다\n",
            "300 원 남았습니다 997 대 맞았습니다\n",
            "200 원 남았습니다 998 대 맞았습니다\n",
            "100 원 남았습니다 999 대 맞았습니다\n",
            "0 원 남았습니다 1000 대 맞았습니다\n"
          ]
        }
      ]
    },
    {
      "cell_type": "markdown",
      "source": [
        "# break, continue"
      ],
      "metadata": {
        "id": "H7pqv60fTNCH"
      }
    },
    {
      "cell_type": "code",
      "source": [
        "for i in range(1000):\n",
        "    print(i, i ** 2)\n",
        "    if i ** 2 < 1000:\n",
        "       break"
      ],
      "metadata": {
        "colab": {
          "base_uri": "https://localhost:8080/"
        },
        "id": "OQ6Iwl-dSQZB",
        "outputId": "c9d29dee-effd-40eb-a52d-002f1b4b5f22"
      },
      "execution_count": 184,
      "outputs": [
        {
          "output_type": "stream",
          "name": "stdout",
          "text": [
            "0 0\n"
          ]
        }
      ]
    },
    {
      "cell_type": "code",
      "source": [
        "for i in range(1, 1000):\n",
        "    if i % 2 == 0:\n",
        "       continue\n",
        "    print(i,end=\" \")"
      ],
      "metadata": {
        "colab": {
          "base_uri": "https://localhost:8080/"
        },
        "id": "ZxBOlV-TSreS",
        "outputId": "19769e9b-c09d-4f16-a0ec-bf6bacc9f3dd"
      },
      "execution_count": 189,
      "outputs": [
        {
          "output_type": "stream",
          "name": "stdout",
          "text": [
            "1 3 5 7 9 11 13 15 17 19 21 23 25 27 29 31 33 35 37 39 41 43 45 47 49 51 53 55 57 59 61 63 65 67 69 71 73 75 77 79 81 83 85 87 89 91 93 95 97 99 101 103 105 107 109 111 113 115 117 119 121 123 125 127 129 131 133 135 137 139 141 143 145 147 149 151 153 155 157 159 161 163 165 167 169 171 173 175 177 179 181 183 185 187 189 191 193 195 197 199 201 203 205 207 209 211 213 215 217 219 221 223 225 227 229 231 233 235 237 239 241 243 245 247 249 251 253 255 257 259 261 263 265 267 269 271 273 275 277 279 281 283 285 287 289 291 293 295 297 299 301 303 305 307 309 311 313 315 317 319 321 323 325 327 329 331 333 335 337 339 341 343 345 347 349 351 353 355 357 359 361 363 365 367 369 371 373 375 377 379 381 383 385 387 389 391 393 395 397 399 401 403 405 407 409 411 413 415 417 419 421 423 425 427 429 431 433 435 437 439 441 443 445 447 449 451 453 455 457 459 461 463 465 467 469 471 473 475 477 479 481 483 485 487 489 491 493 495 497 499 501 503 505 507 509 511 513 515 517 519 521 523 525 527 529 531 533 535 537 539 541 543 545 547 549 551 553 555 557 559 561 563 565 567 569 571 573 575 577 579 581 583 585 587 589 591 593 595 597 599 601 603 605 607 609 611 613 615 617 619 621 623 625 627 629 631 633 635 637 639 641 643 645 647 649 651 653 655 657 659 661 663 665 667 669 671 673 675 677 679 681 683 685 687 689 691 693 695 697 699 701 703 705 707 709 711 713 715 717 719 721 723 725 727 729 731 733 735 737 739 741 743 745 747 749 751 753 755 757 759 761 763 765 767 769 771 773 775 777 779 781 783 785 787 789 791 793 795 797 799 801 803 805 807 809 811 813 815 817 819 821 823 825 827 829 831 833 835 837 839 841 843 845 847 849 851 853 855 857 859 861 863 865 867 869 871 873 875 877 879 881 883 885 887 889 891 893 895 897 899 901 903 905 907 909 911 913 915 917 919 921 923 925 927 929 931 933 935 937 939 941 943 945 947 949 951 953 955 957 959 961 963 965 967 969 971 973 975 977 979 981 983 985 987 989 991 993 995 997 999 "
          ]
        }
      ]
    },
    {
      "cell_type": "code",
      "source": [
        "for i in range(1, 1000):\n",
        "    if i % 2 == 0: # 3의 배수가 아닌 것들을 필터링\n",
        "       continue\n",
        "    print(i,end=\" \")"
      ],
      "metadata": {
        "colab": {
          "base_uri": "https://localhost:8080/"
        },
        "id": "UaJLS_wETCWz",
        "outputId": "679a6a57-84dd-43e0-a3d1-b42cccf28f44"
      },
      "execution_count": 190,
      "outputs": [
        {
          "output_type": "stream",
          "name": "stdout",
          "text": [
            "1 3 5 7 9 11 13 15 17 19 21 23 25 27 29 31 33 35 37 39 41 43 45 47 49 51 53 55 57 59 61 63 65 67 69 71 73 75 77 79 81 83 85 87 89 91 93 95 97 99 101 103 105 107 109 111 113 115 117 119 121 123 125 127 129 131 133 135 137 139 141 143 145 147 149 151 153 155 157 159 161 163 165 167 169 171 173 175 177 179 181 183 185 187 189 191 193 195 197 199 201 203 205 207 209 211 213 215 217 219 221 223 225 227 229 231 233 235 237 239 241 243 245 247 249 251 253 255 257 259 261 263 265 267 269 271 273 275 277 279 281 283 285 287 289 291 293 295 297 299 301 303 305 307 309 311 313 315 317 319 321 323 325 327 329 331 333 335 337 339 341 343 345 347 349 351 353 355 357 359 361 363 365 367 369 371 373 375 377 379 381 383 385 387 389 391 393 395 397 399 401 403 405 407 409 411 413 415 417 419 421 423 425 427 429 431 433 435 437 439 441 443 445 447 449 451 453 455 457 459 461 463 465 467 469 471 473 475 477 479 481 483 485 487 489 491 493 495 497 499 501 503 505 507 509 511 513 515 517 519 521 523 525 527 529 531 533 535 537 539 541 543 545 547 549 551 553 555 557 559 561 563 565 567 569 571 573 575 577 579 581 583 585 587 589 591 593 595 597 599 601 603 605 607 609 611 613 615 617 619 621 623 625 627 629 631 633 635 637 639 641 643 645 647 649 651 653 655 657 659 661 663 665 667 669 671 673 675 677 679 681 683 685 687 689 691 693 695 697 699 701 703 705 707 709 711 713 715 717 719 721 723 725 727 729 731 733 735 737 739 741 743 745 747 749 751 753 755 757 759 761 763 765 767 769 771 773 775 777 779 781 783 785 787 789 791 793 795 797 799 801 803 805 807 809 811 813 815 817 819 821 823 825 827 829 831 833 835 837 839 841 843 845 847 849 851 853 855 857 859 861 863 865 867 869 871 873 875 877 879 881 883 885 887 889 891 893 895 897 899 901 903 905 907 909 911 913 915 917 919 921 923 925 927 929 931 933 935 937 939 941 943 945 947 949 951 953 955 957 959 961 963 965 967 969 971 973 975 977 979 981 983 985 987 989 991 993 995 997 999 "
          ]
        }
      ]
    },
    {
      "cell_type": "code",
      "source": [
        "i= 0 \n",
        "while True:\n",
        "    i += 1\n",
        "    print(i)\n",
        "    if i > 10:\n",
        "      break"
      ],
      "metadata": {
        "colab": {
          "base_uri": "https://localhost:8080/"
        },
        "id": "v6EgW-woTQj5",
        "outputId": "1ff648f5-e82b-411e-d0dd-cc42dd185855"
      },
      "execution_count": 193,
      "outputs": [
        {
          "output_type": "stream",
          "name": "stdout",
          "text": [
            "1\n",
            "2\n",
            "3\n",
            "4\n",
            "5\n",
            "6\n",
            "7\n",
            "8\n",
            "9\n",
            "10\n",
            "11\n"
          ]
        }
      ]
    },
    {
      "cell_type": "code",
      "source": [
        "money = 100000\n",
        "hit = 0\n",
        "while money > 0:\n",
        "     money -= 100\n",
        "     print(money, \"원 남았습니다\"\n",
        "     if i money % 1000 == 0:\n",
        "       print(\"피했습니다\")\n",
        "       continue\n",
        "     hit += 1\n",
        "     print(money, \"원 남았습니다\",hit, \"대 맞았습니다\")"
      ],
      "metadata": {
        "colab": {
          "base_uri": "https://localhost:8080/",
          "height": 136
        },
        "id": "xbq4mQaUTf3M",
        "outputId": "0d31f367-74cd-4876-b11b-fd70c523ebeb"
      },
      "execution_count": 195,
      "outputs": [
        {
          "output_type": "error",
          "ename": "SyntaxError",
          "evalue": "ignored",
          "traceback": [
            "\u001b[0;36m  File \u001b[0;32m\"<ipython-input-195-0c9d2f146ef4>\"\u001b[0;36m, line \u001b[0;32m6\u001b[0m\n\u001b[0;31m    if i money % 1000 == 0:\u001b[0m\n\u001b[0m         ^\u001b[0m\n\u001b[0;31mSyntaxError\u001b[0m\u001b[0;31m:\u001b[0m invalid syntax\n"
          ]
        }
      ]
    }
  ]
}