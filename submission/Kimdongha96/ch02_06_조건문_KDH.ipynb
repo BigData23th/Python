{
  "nbformat": 4,
  "nbformat_minor": 0,
  "metadata": {
    "colab": {
      "provenance": [],
      "include_colab_link": true
    },
    "kernelspec": {
      "name": "python3",
      "display_name": "Python 3"
    },
    "language_info": {
      "name": "python"
    }
  },
  "cells": [
    {
      "cell_type": "markdown",
      "metadata": {
        "id": "view-in-github",
        "colab_type": "text"
      },
      "source": [
        "<a href=\"https://colab.research.google.com/github/Kimdongha96/Python/blob/main/submission/Kimdongha96/ch02_06_%EC%A1%B0%EA%B1%B4%EB%AC%B8_KDH.ipynb\" target=\"_parent\"><img src=\"https://colab.research.google.com/assets/colab-badge.svg\" alt=\"Open In Colab\"/></a>"
      ]
    },
    {
      "cell_type": "markdown",
      "source": [
        "# 조건문"
      ],
      "metadata": {
        "id": "muAbeeJLQexU"
      }
    },
    {
      "cell_type": "markdown",
      "source": [
        "조건문은 특정 조건일 때 코드를 실행하는 문법입니다. 프로그램을 만들다 보면 여러 가지 상황을 처리해야 하는 경우가 생기죠. 이때 조건문은 다양한 상황에 대처할 때 사용합니다.\n",
        "\n",
        "먼저 실생활의 예를 들어보겠습니다. 만약 세탁기에 빨래를 넣고 돌렸다면 다음과 같은 조건문을 만들 수 있겠죠?\n",
        "\n",
        "```\n",
        "if 세탁 완료 소리가 울리면:\n",
        "    빨래를 꺼내서 말린다.\n",
        "```\n",
        "\n",
        "다음과 같이 날씨에 따라 행동할 수도 있습니다.\n",
        "\n",
        "```\n",
        "if 비가 온다면:\n",
        "    우산을 가지고 나간다.\n",
        " \n",
        "if 날씨가 춥다면:\n",
        "    코트를 입고 나간다.\n",
        " \n",
        "if 날씨가 덥다면:\n",
        "    반소매에 얇은 옷을 입고 나간다.\n",
        "```\n",
        "\n",
        "즉, 조건문을 사용하면 조건에 따라 다른 코드를 실행할 수 있습니다. 이번 유닛부터는 if 조건문의 다양한 사용 방법을 알아보겠습니다."
      ],
      "metadata": {
        "id": "wyf8ka4VQhwM"
      }
    },
    {
      "cell_type": "markdown",
      "source": [
        "### 의사 코드\n",
        "\n",
        "프로그래밍이나 컴퓨터 이론을 공부하다 보면 의사 코드(pseudo code)라는 말을 접하게 됩니다. 의사 코드는 실제 프로그래밍 언어가 아닌 사람의 언어로 프로그래밍 언어를 표현한 것입니다. 보통 특정 프로그래밍 언어를 사용하지 않고 알고리즘이나 컴퓨터 명령을 기술할 때 사용합니다.\n",
        "\n",
        "```\n",
        "x = 10    # 파이썬 코드\n",
        "변수 x에 10 할당    # 한글로 표현한 의사 코드\n",
        "```\n",
        "\n",
        "앞에서 if 조건문을 설명할 때 \"if 비가 온다면\", \"우산을 가지고 나간다.\"도 일종의 의사 코드입니다."
      ],
      "metadata": {
        "id": "CEJCmwXaQsCd"
      }
    },
    {
      "cell_type": "code",
      "source": [
        "'''\n",
        "if 아보카도가 있으면:\n",
        "  우유를 6개 사와\n",
        "  else:\n",
        "    우유를 1개 사와\n",
        "    '''"
      ],
      "metadata": {
        "colab": {
          "base_uri": "https://localhost:8080/",
          "height": 35
        },
        "id": "pUurZGJN2zY2",
        "outputId": "02f8d761-885f-4ae3-9d0d-99685cb914d4"
      },
      "execution_count": 2,
      "outputs": [
        {
          "output_type": "execute_result",
          "data": {
            "text/plain": [
              "'\\nif 아보카도가 있으면:\\n  우유를 6개 사와\\n  else:\\n    우유를 1개 사와\\n    '"
            ],
            "application/vnd.google.colaboratory.intrinsic+json": {
              "type": "string"
            }
          },
          "metadata": {},
          "execution_count": 2
        }
      ]
    },
    {
      "cell_type": "markdown",
      "source": [
        "## if 조건문 사용하기"
      ],
      "metadata": {
        "id": "Vn_h0cdTQxz-"
      }
    },
    {
      "cell_type": "markdown",
      "source": [
        "if 조건문은 if에 조건식을 지정하고 :(콜론)을 붙이며 다음 줄에 실행할 코드가 옵니다. 이때 실행할 코드는 반드시 들여쓰기를 해야 합니다.\n",
        "\n",
        "```\n",
        "if 조건식:\n",
        "     코드\n",
        "```"
      ],
      "metadata": {
        "id": "l-U57PwzQ0eD"
      }
    },
    {
      "cell_type": "code",
      "execution_count": 5,
      "metadata": {
        "colab": {
          "base_uri": "https://localhost:8080/"
        },
        "id": "fyakrswxIdvL",
        "outputId": "7a0b8f98-ddd3-41ec-ccf9-c5c3a4aec573"
      },
      "outputs": [
        {
          "output_type": "stream",
          "name": "stdout",
          "text": [
            "x는 10입니다\n"
          ]
        }
      ],
      "source": [
        "x = 10 # 10을 x에 대입하고\n",
        "if x == 10: # if (조건식)이 True면\n",
        "# 들여쓰기 된 내용 아래에 있는 항목을 실행\n",
        "  print(\"x는 10입니다\")"
      ]
    },
    {
      "cell_type": "markdown",
      "source": [
        "만약 if 다음 줄에서 들여쓰기를 하지 않으면 들여쓰기 에러가 발생합니다. 이 항상 이 부분을 주의해주세요.\n",
        "\n"
      ],
      "metadata": {
        "id": "xhvFP7zpQ7MB"
      }
    },
    {
      "cell_type": "code",
      "source": [
        "x = 10 # 10을 x에 대입하고\n",
        "if x == 10:# if (조건식)이 True면\n",
        "# 들여쓰기 된 내용 아래에 있는 항목을 실행\n",
        "print(\"x는 10입니다\")"
      ],
      "metadata": {
        "colab": {
          "base_uri": "https://localhost:8080/",
          "height": 134
        },
        "id": "bqE71shqQ5c2",
        "outputId": "cbf69d4a-4748-4163-ce19-0ecd3fbec098"
      },
      "execution_count": null,
      "outputs": [
        {
          "output_type": "error",
          "ename": "IndentationError",
          "evalue": "ignored",
          "traceback": [
            "\u001b[0;36m  File \u001b[0;32m\"<ipython-input-2-35e47a8b19c1>\"\u001b[0;36m, line \u001b[0;32m3\u001b[0m\n\u001b[0;31m    print('10입니다.')\u001b[0m\n\u001b[0m    ^\u001b[0m\n\u001b[0;31mIndentationError\u001b[0m\u001b[0;31m:\u001b[0m expected an indented block\n"
          ]
        }
      ]
    },
    {
      "cell_type": "markdown",
      "source": [
        "### if 조건문의 기본 형태와 실행 흐름 알아보기"
      ],
      "metadata": {
        "id": "OczVtQiiRBtj"
      }
    },
    {
      "cell_type": "markdown",
      "source": [
        "이제 if 조건문을 자세히 알아보겠습니다. 파이썬에서 if 조건문은 if 조건식: 형식으로 사용하며 그다음 줄에는 들여쓰기를 한 뒤 조건식이 만족할 때 실행할 코드를 넣습니다. 특히 이 조건식이 만족할 때 실행할 코드를 if 본문(if body)이라고 부릅니다.\n",
        "\n"
      ],
      "metadata": {
        "id": "WQta5fgrRDah"
      }
    },
    {
      "cell_type": "markdown",
      "source": [
        "여기서는 변수 x에 10을 할당한 뒤 if 조건문으로 x가 10과 같은지 검사하였습니다. 조건식은 x == 10과 같은 형식으로 지정해주는데 ==은 두 값이 \"같을 때\" 라는 뜻입니다.\n",
        "\n",
        "즉, if x == 10:은 x가 10과 같은지 비교한 뒤 같으면 다음에 오는 코드를 실행하라는 뜻이 됩니다. 따라서 x는 10이고 조건식을 만족하므로 그다음 줄의 print가 실행되어 '10입니다.'가 출력됩니다."
      ],
      "metadata": {
        "id": "qmvonBIURGjF"
      }
    },
    {
      "cell_type": "markdown",
      "source": [
        "보통 if의 조건식이 만족하면 참( True), 만족하지 않으면 거짓(False)이라고 부릅니다.\n",
        "\n"
      ],
      "metadata": {
        "id": "rkjhL2guRIqA"
      }
    },
    {
      "cell_type": "markdown",
      "source": [
        "### if 조건문을 사용할 때 주의할 점"
      ],
      "metadata": {
        "id": "dFecJDJARKb5"
      }
    },
    {
      "cell_type": "markdown",
      "source": [
        "if 조건문을 사용할 때 주의할 점이 있는데 파이썬에서는 =을 할당으로 사용하고 있으므로 값을 비교할 때는 =을 두 개 붙여서 ==로 사용해야 합니다. 자주 틀리는 부분이니 `if`**안에서 ==을 사용했는지 반드시 확인하세요. 다음과 같이 if에 =을 사용하면 문법 에러가 발생합니다.**"
      ],
      "metadata": {
        "id": "QY2ABAkYRNfR"
      }
    },
    {
      "cell_type": "code",
      "source": [
        "if x = 10: # =="
      ],
      "metadata": {
        "colab": {
          "base_uri": "https://localhost:8080/",
          "height": 136
        },
        "id": "riJjhH9cQ_Ke",
        "outputId": "7f0dca36-697d-42f7-d527-75ccb3cd6b83"
      },
      "execution_count": 6,
      "outputs": [
        {
          "output_type": "error",
          "ename": "SyntaxError",
          "evalue": "ignored",
          "traceback": [
            "\u001b[0;36m  File \u001b[0;32m\"<ipython-input-6-5c99702d159e>\"\u001b[0;36m, line \u001b[0;32m1\u001b[0m\n\u001b[0;31m    if x = 10: # ==\u001b[0m\n\u001b[0m         ^\u001b[0m\n\u001b[0;31mSyntaxError\u001b[0m\u001b[0;31m:\u001b[0m invalid syntax\n"
          ]
        }
      ]
    },
    {
      "cell_type": "code",
      "source": [
        "# 조건식 끝에 :을 빠뜨리는 실수도 자주하니 :도 확인해주세요. 다음은 조건식 끝에 :을 빠뜨렸을 때의 모습입니다.\n",
        "if x == 10"
      ],
      "metadata": {
        "colab": {
          "base_uri": "https://localhost:8080/",
          "height": 134
        },
        "id": "8bK6cKeeRW-X",
        "outputId": "4d935ec3-e4a4-4c0d-a207-391ac9f1be39"
      },
      "execution_count": null,
      "outputs": [
        {
          "output_type": "error",
          "ename": "SyntaxError",
          "evalue": "ignored",
          "traceback": [
            "\u001b[0;36m  File \u001b[0;32m\"<ipython-input-6-8b8dcfc907f5>\"\u001b[0;36m, line \u001b[0;32m1\u001b[0m\n\u001b[0;31m    if x == 10\u001b[0m\n\u001b[0m              ^\u001b[0m\n\u001b[0;31mSyntaxError\u001b[0m\u001b[0;31m:\u001b[0m invalid syntax\n"
          ]
        }
      ]
    },
    {
      "cell_type": "code",
      "source": [
        "x = input(\"오늘 어디서 먹을까? : \")\n",
        "if x == \"The행복한식당\"\n",
        "\n",
        "  print(\"그래 가자!\")\n",
        "  print(x)\n",
        "  else:\n",
        "    print(\"다시 생각해봐\")\n",
        "    print(x)"
      ],
      "metadata": {
        "colab": {
          "base_uri": "https://localhost:8080/",
          "height": 136
        },
        "id": "bP8v_x1L64J3",
        "outputId": "1276ace1-d24c-4b72-e0c5-7b321f7ce766"
      },
      "execution_count": 12,
      "outputs": [
        {
          "output_type": "error",
          "ename": "SyntaxError",
          "evalue": "ignored",
          "traceback": [
            "\u001b[0;36m  File \u001b[0;32m\"<ipython-input-12-21e1c1f6f639>\"\u001b[0;36m, line \u001b[0;32m2\u001b[0m\n\u001b[0;31m    if x == \"The행복한식당\"\u001b[0m\n\u001b[0m                      ^\u001b[0m\n\u001b[0;31mSyntaxError\u001b[0m\u001b[0;31m:\u001b[0m invalid syntax\n"
          ]
        }
      ]
    },
    {
      "cell_type": "markdown",
      "source": [
        "### if 조건문에서 코드를 생략하기"
      ],
      "metadata": {
        "id": "yKilVayGRo4g"
      }
    },
    {
      "cell_type": "code",
      "source": [
        "# 이번에는 if 조건문에 조건식만 작성하고 코드를 생략하는 방법을 알아보겠습니다.\n",
        "day = \"월요일\"\n",
        "if day == \"월요일\": pass\n",
        "if day == \"화요일\":\n",
        "   pass\n",
        "'''\n",
        "   if(day==\"월요일\") {}\n",
        "'''"
      ],
      "metadata": {
        "id": "G3eIKB9PRkXN",
        "colab": {
          "base_uri": "https://localhost:8080/",
          "height": 35
        },
        "outputId": "4bb43d98-65b6-4b73-e5aa-cc6082132d74"
      },
      "execution_count": 15,
      "outputs": [
        {
          "output_type": "execute_result",
          "data": {
            "text/plain": [
              "'\\n   if(day==\"월요일\") {}\\n'"
            ],
            "application/vnd.google.colaboratory.intrinsic+json": {
              "type": "string"
            }
          },
          "metadata": {},
          "execution_count": 15
        }
      ]
    },
    {
      "cell_type": "markdown",
      "source": [
        "if 다음 줄에 pass라는 특별한 키워드를 넣었습니다. 여기서 pass는 아무 일도 하지 않고 그냥 넘어간다는 뜻입니다. 파이썬에서는 if 다음 줄에 아무 코드도 넣지 않으면 에러가 발생하므로 if 조건문의 형태를 유지하기 위해 pass를 사용합니다.\n",
        "\n",
        "pass는 아무 일도 하지 않는 코드라서 의미가 없을 것 같지만 나중에 작성해야 할 코드를 표시할 때 사용할 수 있습니다. 즉, 다음과 같이 pass만 넣고 나중에 할 일은 주석으로 남겨놓는 방식입니다."
      ],
      "metadata": {
        "id": "BjRdlWAlRxmc"
      }
    },
    {
      "cell_type": "code",
      "source": [
        "day = \"월요일\"\n",
        "if day == \"월요일\"\n",
        "   pass # TODO: 자격증 스터디 관련 작업\n",
        "if day == \"화요일\"\n",
        "   pass  # TODO : 상하체 운동하기  "
      ],
      "metadata": {
        "id": "HmByd5u38cRA"
      },
      "execution_count": null,
      "outputs": []
    },
    {
      "cell_type": "markdown",
      "source": [
        "### TODO"
      ],
      "metadata": {
        "id": "UjZL6r4jR2GX"
      }
    },
    {
      "cell_type": "markdown",
      "source": [
        "TODO는 해야 할 일이라는 뜻인데 보통 주석에 넣습니다. 이렇게 TODO를 넣어 두면 검색으로 쉽게 찾을 수 있죠. 그래서 프로그래머들은 주석에 TODO 이외에도 FIXME, BUG, NOTE 등과 같이 코드는 아니지만 일관된 주석을 사용합니다."
      ],
      "metadata": {
        "id": "0LFAtvFyR5kH"
      }
    },
    {
      "cell_type": "markdown",
      "source": [
        "## if 조건문과 들여쓰기"
      ],
      "metadata": {
        "id": "cI-mojh2SCZl"
      }
    },
    {
      "cell_type": "code",
      "source": [
        "x == 10\n",
        "\n",
        "if x == 10:\n",
        "  print(\"x에 들어있는 숫자는\")\n",
        "  print(\"10입니다\")"
      ],
      "metadata": {
        "colab": {
          "base_uri": "https://localhost:8080/"
        },
        "id": "iAFgUIjWSFfZ",
        "outputId": "6fbf6478-ce8b-4c67-f432-9054cf0df2f0"
      },
      "execution_count": 16,
      "outputs": [
        {
          "output_type": "stream",
          "name": "stdout",
          "text": [
            "x에 들어있는 숫자는\n",
            "10입니다\n"
          ]
        }
      ]
    },
    {
      "cell_type": "code",
      "source": [],
      "metadata": {
        "colab": {
          "base_uri": "https://localhost:8080/"
        },
        "id": "rRF1IGYKSF10",
        "outputId": "dff47324-d7c6-42d3-c78b-ae0d18db6e52"
      },
      "execution_count": null,
      "outputs": [
        {
          "output_type": "stream",
          "name": "stdout",
          "text": [
            "x에 들어있는 숫자는\n",
            "10입니다.\n"
          ]
        }
      ]
    },
    {
      "cell_type": "markdown",
      "source": [
        "이제 실행이 잘 됩니다. 즉, if 다음에 오는 코드들은 반드시 들여쓰기 깊이가 같아야 합니다.\n",
        "\n",
        "만약 첫 번째 print만 들여쓰기를 하고, 두 번째 print는 들여쓰기를 하지 않으면 의도치 않은 동작이 됩니다."
      ],
      "metadata": {
        "id": "lcnQoLhlSNmz"
      }
    },
    {
      "cell_type": "code",
      "source": [
        "x == 15 # 더 이상 10이 아님\n",
        "\n",
        "if x == 10: # False\n",
        "  print(\"x에 들어있는 숫자는\") # 실행X\n",
        "  print(\"10입니다\")"
      ],
      "metadata": {
        "colab": {
          "base_uri": "https://localhost:8080/"
        },
        "id": "3ZQMQ5L0SIDs",
        "outputId": "e114f971-30f9-4f57-ea5f-34924f45d9aa"
      },
      "execution_count": 18,
      "outputs": [
        {
          "output_type": "stream",
          "name": "stdout",
          "text": [
            "x에 들어있는 숫자는\n",
            "10입니다\n"
          ]
        }
      ]
    },
    {
      "cell_type": "code",
      "source": [],
      "metadata": {
        "colab": {
          "base_uri": "https://localhost:8080/"
        },
        "id": "NmOjJxP5SPYm",
        "outputId": "4515e178-f3da-407a-e231-f0285c28c93f"
      },
      "execution_count": null,
      "outputs": [
        {
          "output_type": "stream",
          "name": "stdout",
          "text": [
            "10입니다.\n"
          ]
        }
      ]
    },
    {
      "cell_type": "markdown",
      "source": [
        "x가 5라서 if의 조건식을 만족하지 않으므로 다음에 오는 print('x에 들어있는 숫자는')는 실행이 되지 않습니다. 그런데 print('10입니다.')는 실행이 되었죠? 왜냐하면 들여쓰기가 없어서 if와는 상관없는 코드가 되었기 때문입니다.\n",
        "\n",
        "즉, if 다음 줄에 들여쓰기가 된 코드는 if의 영향을 받아서 조건식에 따라 실행이 결정되지만 들여쓰기가 되지 않은 코드는 항상 실행됩니다. 들여쓰기 하나 때문에 의도치 않은 동작이 되었는데(x가 5일 때는 '10입니다.'가 출력되지 않아야 하는데 출력됨) 이런 코드는 일단 실행이 되기 때문에 잘못된 부분을 찾기가 쉽지 않습니다. 자신이 의도한 부분과 코드의 들여쓰기가 일치하는지 항상 확인해주세요."
      ],
      "metadata": {
        "id": "MUgFj9vKSVWZ"
      }
    },
    {
      "cell_type": "markdown",
      "source": [
        "## 중첩 if 조건문 사용하기"
      ],
      "metadata": {
        "id": "kayNG7L1SZDD"
      }
    },
    {
      "cell_type": "markdown",
      "source": [
        "지금까지 if를 한 번만 사용하는 단순한 조건문을 사용했습니다. 하지만 프로그래밍을 하다 보면 if를 여러 번 사용하는 복잡한 조건도 자주 나옵니다. 이번에는 if를 여러 번 사용하는 중첩 if 조건문을 사용해보겠습니다. 다음은 변수의 값이 10 이상이면 '10 이상입니다.'를 출력한 뒤 15이면 '15입니다.', 20이면 '20입니다.'를 출력합니다."
      ],
      "metadata": {
        "id": "xcCh-TIXScFv"
      }
    },
    {
      "cell_type": "code",
      "source": [
        "x, y = 15, 100\n",
        "\n",
        "if x >- 10:\n",
        "    print('x는 10이상입니다')\n",
        "if y < 100:\n",
        "   print(\"y는 100보다 작습니다\")\n",
        "\n",
        "if x == 15:\n",
        "  print(\"x는 15입니다\")\n",
        "\n",
        "if x == 20:\n",
        "   print('x는 20입니다')"
      ],
      "metadata": {
        "colab": {
          "base_uri": "https://localhost:8080/"
        },
        "id": "qrTskqdcSSb1",
        "outputId": "f865667e-2acf-4637-cad0-693c6dff9a7b"
      },
      "execution_count": 19,
      "outputs": [
        {
          "output_type": "stream",
          "name": "stdout",
          "text": [
            "x는 10이상입니다\n",
            "x는 15입니다\n"
          ]
        }
      ]
    },
    {
      "cell_type": "code",
      "source": [
        "# x가 10 이상일 때 '10 이상입니다.'를 출력하는 코드\n"
      ],
      "metadata": {
        "colab": {
          "base_uri": "https://localhost:8080/"
        },
        "id": "nAGwuCSqSd2m",
        "outputId": "219910fd-e7ea-45f0-f949-b23853fba068"
      },
      "execution_count": null,
      "outputs": [
        {
          "output_type": "stream",
          "name": "stdout",
          "text": [
            "10 이상입니다.\n"
          ]
        }
      ]
    },
    {
      "cell_type": "code",
      "source": [
        "# if의 조건식에 따라 코드를 실행해야 하므로 print는 들여쓰기를 했습니다. 이제 if 안쪽의 if를 보면 들여쓰기가 되어 있습니다.\n"
      ],
      "metadata": {
        "colab": {
          "base_uri": "https://localhost:8080/"
        },
        "id": "FsJ6-zfKShxn",
        "outputId": "8820fe47-2492-4382-8c3f-bb4d75529eb0"
      },
      "execution_count": null,
      "outputs": [
        {
          "output_type": "stream",
          "name": "stdout",
          "text": [
            "10 이상입니다.\n",
            "15입니다.\n"
          ]
        }
      ]
    },
    {
      "cell_type": "markdown",
      "source": [
        "## 사용자가 입력한 값에 if 조건문 사용하기"
      ],
      "metadata": {
        "id": "vS-S2byWS1ZI"
      }
    },
    {
      "cell_type": "code",
      "source": [
        "# 이번에는 input을 사용하여 사용자가 입력한 값을 변수에 저장하고, if 조건문으로 값을 비교해보겠습니다. \n",
        "x = int(input())) # 입력 받은 값을 변수에 저장\n",
        "\n",
        "if x == 10:\n",
        "     print(\"10입니다\")\n",
        "if x == 20:\n",
        "     print(\"20입니다\")"
      ],
      "metadata": {
        "colab": {
          "base_uri": "https://localhost:8080/",
          "height": 136
        },
        "id": "w2s-cPCxSkvr",
        "outputId": "aef59edf-d3a6-4266-f04e-21e07096795f"
      },
      "execution_count": 21,
      "outputs": [
        {
          "output_type": "error",
          "ename": "SyntaxError",
          "evalue": "ignored",
          "traceback": [
            "\u001b[0;36m  File \u001b[0;32m\"<ipython-input-21-2211e1c7740a>\"\u001b[0;36m, line \u001b[0;32m2\u001b[0m\n\u001b[0;31m    x = int(input())) # 입력 받은 값을 변수에 저장\u001b[0m\n\u001b[0m                    ^\u001b[0m\n\u001b[0;31mSyntaxError\u001b[0m\u001b[0;31m:\u001b[0m unmatched ')'\n"
          ]
        }
      ]
    },
    {
      "cell_type": "code",
      "source": [
        "# 할당 표현식\n",
        "if x := int(intput) == 10:\n",
        "   print(\"10입니다\")\n",
        "if x == 20:\n",
        "   print(\"20입니다\")"
      ],
      "metadata": {
        "colab": {
          "base_uri": "https://localhost:8080/",
          "height": 245
        },
        "id": "owl985x2S-Mw",
        "outputId": "900f5ca2-6a56-422b-bd4c-aca0794fdd77"
      },
      "execution_count": 29,
      "outputs": [
        {
          "output_type": "error",
          "ename": "NameError",
          "evalue": "ignored",
          "traceback": [
            "\u001b[0;31m---------------------------------------------------------------------------\u001b[0m",
            "\u001b[0;31mNameError\u001b[0m                                 Traceback (most recent call last)",
            "\u001b[0;32m<ipython-input-29-4b0ceaa29c85>\u001b[0m in \u001b[0;36m<module>\u001b[0;34m\u001b[0m\n\u001b[1;32m      1\u001b[0m \u001b[0;31m# 할당 표현식\u001b[0m\u001b[0;34m\u001b[0m\u001b[0;34m\u001b[0m\u001b[0;34m\u001b[0m\u001b[0m\n\u001b[0;32m----> 2\u001b[0;31m \u001b[0;32mif\u001b[0m \u001b[0mx\u001b[0m \u001b[0;34m:=\u001b[0m \u001b[0mint\u001b[0m\u001b[0;34m(\u001b[0m\u001b[0mintput\u001b[0m\u001b[0;34m)\u001b[0m \u001b[0;34m==\u001b[0m \u001b[0;36m10\u001b[0m\u001b[0;34m:\u001b[0m\u001b[0;34m\u001b[0m\u001b[0;34m\u001b[0m\u001b[0m\n\u001b[0m\u001b[1;32m      3\u001b[0m    \u001b[0mprint\u001b[0m\u001b[0;34m(\u001b[0m\u001b[0;34m\"10입니다\"\u001b[0m\u001b[0;34m)\u001b[0m\u001b[0;34m\u001b[0m\u001b[0;34m\u001b[0m\u001b[0m\n\u001b[1;32m      4\u001b[0m \u001b[0;32mif\u001b[0m \u001b[0mx\u001b[0m \u001b[0;34m==\u001b[0m \u001b[0;36m20\u001b[0m\u001b[0;34m:\u001b[0m\u001b[0;34m\u001b[0m\u001b[0;34m\u001b[0m\u001b[0m\n\u001b[1;32m      5\u001b[0m    \u001b[0mprint\u001b[0m\u001b[0;34m(\u001b[0m\u001b[0;34m\"20입니다\"\u001b[0m\u001b[0;34m)\u001b[0m\u001b[0;34m\u001b[0m\u001b[0;34m\u001b[0m\u001b[0m\n",
            "\u001b[0;31mNameError\u001b[0m: name 'intput' is not defined"
          ]
        }
      ]
    },
    {
      "cell_type": "markdown",
      "source": [
        "## else"
      ],
      "metadata": {
        "id": "_yEQ_TZijXZ6"
      }
    },
    {
      "cell_type": "markdown",
      "source": [
        "## else를 사용하여 두 방향으로 분기하기"
      ],
      "metadata": {
        "id": "0WgufP5wjbMF"
      }
    },
    {
      "cell_type": "markdown",
      "source": [
        "if 조건문은 분기(branch)를 위한 문법입니다. 즉, 분기는 \"둘 이상으로 갈라지다\"라는 뜻으로 프로그램의 흐름을 둘 이상으로 나누는 것을 말합니다. 이는 마치 도로의 분기점과 같죠."
      ],
      "metadata": {
        "id": "yk2dYRDGjdK1"
      }
    },
    {
      "cell_type": "markdown",
      "source": [
        "지금까지 if 조건문으로 조건식에 맞는 코드만 실행했습니다. if에 else를 사용하면 조건식이 만족할 때와 만족하지 않을 때 각각 다른 코드를 실행할 수 있습니다. 즉, 프로그램이 두 방향으로 분기하는 것이죠.\n",
        "\n",
        "실생활에서 전화가 왔을 때의 예를 들면 다음과 같은 모양이 됩니다.\n",
        "\n",
        "```\n",
        "if 광고 전화인가?:\n",
        "    전화를 끊고, 차단 목록에 등록한다.\n",
        "else:\n",
        "    계속 통화한다.\n",
        "```"
      ],
      "metadata": {
        "id": "HjOs8JNujgnV"
      }
    },
    {
      "cell_type": "markdown",
      "source": [
        "else는 if 조건문 뒤에 오며 단독으로 사용할 수 없습니다. 그리고 if와 마찬가지로 else도 :(콜론)을 붙이며 다음 줄에 실행할 코드가 옵니다.\n",
        "\n",
        "```\n",
        "if 조건식:\n",
        "     코드1\n",
        "else:\n",
        "     코드2\n",
        "```"
      ],
      "metadata": {
        "id": "9ugOjhsyjnqC"
      }
    },
    {
      "cell_type": "code",
      "source": [
        "x = 5\n",
        "if x == 10: # x != 10\n",
        "  print(\"10입니다.\")\n",
        "else:\n",
        "    print(\"10이 아닙니다\")"
      ],
      "metadata": {
        "colab": {
          "base_uri": "https://localhost:8080/"
        },
        "id": "FiFpPbgvj7yt",
        "outputId": "9e795385-20cb-4231-a139-1b124486b745"
      },
      "execution_count": 26,
      "outputs": [
        {
          "output_type": "stream",
          "name": "stdout",
          "text": [
            "10이 아닙니다\n"
          ]
        }
      ]
    },
    {
      "cell_type": "markdown",
      "source": [
        "### if와 else의 기본 형태와 실행 흐름 알아보기"
      ],
      "metadata": {
        "id": "ts7rNeizjkmR"
      }
    },
    {
      "cell_type": "markdown",
      "source": [
        "else는 if의 조건식이 만족하지 않을 때 코드를 실행합니다. 여기서는 x에 5가 들어있어서 x == 10을 만족하지 않으므로 else의 print가 실행되어 '10이 아닙니다.'가 출력됩니다.\n",
        "\n",
        "즉, 조건식이 참(True)이면 if의 코드(if 본문)가 실행되고, 거짓(False)이면 else의 코드(else 본문)가 실행됩니다."
      ],
      "metadata": {
        "id": "-vHzbxo5kGhv"
      }
    },
    {
      "cell_type": "markdown",
      "source": [
        "### 변수에 값 할당을 if, else로 축약하기 (삼항연산자)\n"
      ],
      "metadata": {
        "id": "dfHjlnozkNhL"
      }
    },
    {
      "cell_type": "code",
      "source": [
        "# 변수 x에 10이 들어있으면 y에 x를 할당하고, 아니면 y에 0을 할당하는 코드는 다음과 같이 만들 수 있습니다.\n",
        "x = int(input())\n",
        "if x == 10:\n",
        "     y = x\n",
        "else:\n",
        "     y = 0\n",
        "y"
      ],
      "metadata": {
        "colab": {
          "base_uri": "https://localhost:8080/"
        },
        "id": "Nnsp1jw3kRs-",
        "outputId": "69d57518-8fe9-4bb0-9e12-7dc84201d1e3"
      },
      "execution_count": 34,
      "outputs": [
        {
          "name": "stdout",
          "output_type": "stream",
          "text": [
            "100\n"
          ]
        },
        {
          "output_type": "execute_result",
          "data": {
            "text/plain": [
              "0"
            ]
          },
          "metadata": {},
          "execution_count": 34
        }
      ]
    },
    {
      "cell_type": "code",
      "source": [
        "# 이렇게 if, else에서 변수에 값을 할당할 때는 변수 = 값 if 조건문 else 값 형식으로 축약할 수 있으며,\n",
        "# 이런 문법을 조건부 표현식(conditional expression) 또는 삼항연산자라고 부릅니다.\n",
        "x = 10\n",
        "# y = x if x == 10 else 0\n",
        "y = (x if (x == 10) else 0)\n",
        "y"
      ],
      "metadata": {
        "colab": {
          "base_uri": "https://localhost:8080/"
        },
        "id": "d9y6KuIwkYIa",
        "outputId": "7d19efea-5ac0-4dd3-f2d7-facdac3c36d2"
      },
      "execution_count": 36,
      "outputs": [
        {
          "output_type": "execute_result",
          "data": {
            "text/plain": [
              "10"
            ]
          },
          "metadata": {},
          "execution_count": 36
        }
      ]
    },
    {
      "cell_type": "markdown",
      "source": [
        "### else와 들여쓰기"
      ],
      "metadata": {
        "id": "Fx4qXqv-kkrB"
      }
    },
    {
      "cell_type": "markdown",
      "source": [
        "else는 if와 들여쓰기 규칙이 같습니다. 다음은 들여쓰기가 잘못된 코드입니다."
      ],
      "metadata": {
        "id": "1cqN1MP1koiB"
      }
    },
    {
      "cell_type": "code",
      "source": [
        "x = 5\n",
        "\n",
        "if x == 10:\n",
        "    print(\"x는 10입니다\")\n",
        "else: # 조건식 x\n",
        "    print(\"x에 들어있는 숫자는\")\n",
        "    print(\"10이 아닙니다\")"
      ],
      "metadata": {
        "colab": {
          "base_uri": "https://localhost:8080/"
        },
        "id": "ArF2kjBXkfwL",
        "outputId": "5d61ba7b-9a60-4526-bd6f-a4164383cb1b"
      },
      "execution_count": 38,
      "outputs": [
        {
          "output_type": "stream",
          "name": "stdout",
          "text": [
            "x에 들어있는 숫자는\n",
            "10이 아닙니다\n"
          ]
        }
      ]
    },
    {
      "cell_type": "code",
      "source": [
        "# else도 코드가 여러 줄일 때는 들여쓰기 깊이가 같게 만들어주어야 합니다.\n"
      ],
      "metadata": {
        "colab": {
          "base_uri": "https://localhost:8080/"
        },
        "id": "kNK9kocWktBq",
        "outputId": "de7cc763-d8ab-4551-cee0-a8f418e59829"
      },
      "execution_count": null,
      "outputs": [
        {
          "output_type": "stream",
          "name": "stdout",
          "text": [
            "x에 들어있는 숫자는\n",
            "10이 아닙니다.\n"
          ]
        }
      ]
    },
    {
      "cell_type": "code",
      "source": [
        "# 마찬가지로 else가 여러 줄일 때는 마지막 줄의 들여쓰기를 하지 않으면 의도치 않은 동작이 됩니다.\n"
      ],
      "metadata": {
        "colab": {
          "base_uri": "https://localhost:8080/"
        },
        "id": "xOW23W69kvMS",
        "outputId": "5da963f3-8ee4-4e7f-b159-a96468e62344"
      },
      "execution_count": null,
      "outputs": [
        {
          "output_type": "stream",
          "name": "stdout",
          "text": [
            "10입니다.\n",
            "10이 아닙니다.\n"
          ]
        }
      ]
    },
    {
      "cell_type": "markdown",
      "source": [
        "## if 조건문의 동작 방식 알아보기"
      ],
      "metadata": {
        "id": "e2JKQQrQldDh"
      }
    },
    {
      "cell_type": "code",
      "source": [
        "if True:\n",
        "    print(\"참\")\n",
        "else:\n",
        "    print(\"거짓\")"
      ],
      "metadata": {
        "colab": {
          "base_uri": "https://localhost:8080/"
        },
        "id": "-4_i5mKrk0Ci",
        "outputId": "a3276ec6-720c-4c23-c2f5-e3133b9808b7"
      },
      "execution_count": 39,
      "outputs": [
        {
          "output_type": "stream",
          "name": "stdout",
          "text": [
            "참\n"
          ]
        }
      ]
    },
    {
      "cell_type": "markdown",
      "source": [
        "당연히 True는 if의 코드가 실행되고, False는 else의 코드가 실행됩니다. 특히 None은 False로 취급되므로 else의 코드가 실행됩니다. 실제 코드를 작성할 때 변수에 들어있는 값이나 함수의 결과가 None인 경우가 많으므로 이 부분은 꼭 기억해두세요."
      ],
      "metadata": {
        "id": "-mwUD9O2ljHc"
      }
    },
    {
      "cell_type": "markdown",
      "source": [
        "### if 조건문에 숫자 지정하기"
      ],
      "metadata": {
        "id": "Me6o5AaAllj8"
      }
    },
    {
      "cell_type": "code",
      "source": [
        "# 숫자는 정수, 실수와 관계없이 0이면 거짓, 0이 아닌 수는 참입니다.\n",
        "if 1:\n",
        "   print(\"참\")\n",
        "else:\n",
        "   print(\"거짓\")\n",
        "if 0:\n",
        "   print(\"참\")\n",
        "else:\n",
        "   print(\"거짓\")\n",
        "if 13.5:\n",
        "   print(\"참\")\n",
        "else:\n",
        "   print(\"거짓\")  "
      ],
      "metadata": {
        "colab": {
          "base_uri": "https://localhost:8080/"
        },
        "id": "_QOQ_m8Flgfi",
        "outputId": "72a635b8-b385-4aae-bc31-77b6c2cc6a4d"
      },
      "execution_count": 44,
      "outputs": [
        {
          "output_type": "stream",
          "name": "stdout",
          "text": [
            "참\n",
            "거짓\n",
            "참\n"
          ]
        }
      ]
    },
    {
      "cell_type": "code",
      "source": [
        "# 숫자는 정수, 실수와 관계없이 0이면 거짓, 0이 아닌 수는 참입니다.\n"
      ],
      "metadata": {
        "colab": {
          "base_uri": "https://localhost:8080/"
        },
        "id": "mnEj_oK9Bqnk",
        "outputId": "9b0c1736-fca7-48c0-a7ca-af6f8551d4de"
      },
      "execution_count": 41,
      "outputs": [
        {
          "output_type": "stream",
          "name": "stdout",
          "text": [
            "거짓\n"
          ]
        }
      ]
    },
    {
      "cell_type": "markdown",
      "source": [
        " ### if 조건문에 문자열 지정하기"
      ],
      "metadata": {
        "id": "czy9RXlvlt0o"
      }
    },
    {
      "cell_type": "code",
      "source": [
        "# 문자열은 내용이 있을 때 참, 빈 문자열은 거짓입니다.\n",
        "if \"hello\" :\n",
        "   print(\"참\")\n",
        "else: \n",
        "   print(\"거짓\")\n",
        "if '':\n",
        "   print(\"참\")\n",
        "else:\n",
        "   print(\"거짓\")"
      ],
      "metadata": {
        "colab": {
          "base_uri": "https://localhost:8080/"
        },
        "id": "g27KEuF0lxMJ",
        "outputId": "597d3334-c184-40a1-bbc3-f3fde6e21667"
      },
      "execution_count": 45,
      "outputs": [
        {
          "output_type": "stream",
          "name": "stdout",
          "text": [
            "참\n",
            "거짓\n"
          ]
        }
      ]
    },
    {
      "cell_type": "markdown",
      "source": [
        "## 조건식을 여러 개 지정하기"
      ],
      "metadata": {
        "id": "GH6IDbp7l8NU"
      }
    },
    {
      "cell_type": "markdown",
      "source": [
        "지금까지 if에 조건식을 하나만 지정했습니다. 만약 조건이 복잡할 때는 어떻게 해야 할까요?\n",
        "\n",
        "예를 들어 인터넷 포털의 중고나라에 글을 올리려면 먼저 포털 사이트의 회원이면서 중고나라 카페의 회원이라야 합니다. 이 조건을 if 조건문으로 나타내면 다음과 같은 모양이 됩니다.\n",
        "\n",
        "```\n",
        "if 포털 사이트 회원인지? 그리고 중고나라 회원인지?:\n",
        "    글쓰기 화면 표시\n",
        "else:\n",
        "    포털 사이트 또는 중고나라 회원이 아니므로 글을 쓸 수 없다는 경고 문구 표시\n",
        "```"
      ],
      "metadata": {
        "id": "YLMfTmRbmCrV"
      }
    },
    {
      "cell_type": "code",
      "source": [
        "# if 조건문에는 논리 연산자를 사용하여 조건식을 여러 개 지정할 수 있습니다.\n",
        "x = 10\n",
        "y = 20\n",
        "\n",
        "if x == 10 and y == 20:  # x가 10이면서 y가 20일 때\n",
        "     print(\"참\")\n",
        "else:\n",
        "     print(\"거짓\")"
      ],
      "metadata": {
        "colab": {
          "base_uri": "https://localhost:8080/"
        },
        "id": "DlBLui2FlzR7",
        "outputId": "051a7c19-0048-44cb-ad63-47e3253f8be4"
      },
      "execution_count": 46,
      "outputs": [
        {
          "output_type": "stream",
          "name": "stdout",
          "text": [
            "참\n"
          ]
        }
      ]
    },
    {
      "cell_type": "markdown",
      "source": [
        "### 중첩 if 조건문과 논리 연산자"
      ],
      "metadata": {
        "id": "EmUXbUGFmNhG"
      }
    },
    {
      "cell_type": "code",
      "source": [
        "# 그럼 이런 논리 연산자를 어디에 사용할까요? 보통 여러 조건을 판단할 때 if를 계속 나열해서 중첩 if 조건문으로 만드는 경우가 많습니다.\n",
        "if x > 0:\n",
        "    if x < 20:\n",
        "        print(\"0보다 크고 20보다 작은 양수입니다\")"
      ],
      "metadata": {
        "colab": {
          "base_uri": "https://localhost:8080/"
        },
        "id": "5aKJOXaPmJ37",
        "outputId": "5f8114d9-d7bb-4f23-cfa6-f4668f1cab6e"
      },
      "execution_count": 47,
      "outputs": [
        {
          "output_type": "stream",
          "name": "stdout",
          "text": [
            "0보다 크고 20보다 작은 양수입니다\n"
          ]
        }
      ]
    },
    {
      "cell_type": "code",
      "source": [
        "# if로 x가 0보다 큰지 검사하고(0보다 크면 양수), 다시 if로 20보다 작은지 검사했습니다. 이런 중첩 if 조건문은 and 논리 연산자를 사용해서 if 하나로 줄일 수 있습니다.\n",
        "if x > 0 and x < 20:\n",
        "   print(\"0보다 크고 20보다 작은 양수입니다\")"
      ],
      "metadata": {
        "colab": {
          "base_uri": "https://localhost:8080/"
        },
        "id": "cv_ElXs8mgIq",
        "outputId": "14e5a32d-04f7-4521-9329-1ee5efe7ba05"
      },
      "execution_count": 48,
      "outputs": [
        {
          "output_type": "stream",
          "name": "stdout",
          "text": [
            "0보다 크고 20보다 작은 양수입니다\n"
          ]
        }
      ]
    },
    {
      "cell_type": "code",
      "source": [
        "# x가 0보다 크면서 20보다 작을 때처럼 and 논리 연산자를 사용해서 두 조건을 모두 만족하면 '20보다 작은 양수입니다.'를 출력하도록 만들었습니다.\n",
        "# 특히 파이썬에서는 이 조건식을 더 간단하게 만들 수 있습니다.\n",
        "if 0 < x < 20:\n",
        "   print(\"0보다 크고 20보다 작은 양수입니다\")"
      ],
      "metadata": {
        "colab": {
          "base_uri": "https://localhost:8080/"
        },
        "id": "xNIHDArZmihs",
        "outputId": "b137e04f-9c9d-4800-8f16-ae5f50873f69"
      },
      "execution_count": 49,
      "outputs": [
        {
          "output_type": "stream",
          "name": "stdout",
          "text": [
            "0보다 크고 20보다 작은 양수입니다\n"
          ]
        }
      ]
    },
    {
      "cell_type": "markdown",
      "source": [
        "0 < x < 20처럼 부등호를 연달아서 사용했습니다. 조건식이 알아보기 쉬워졌죠? 단, 여기서는 0이 앞에 왔으므로 0보다 큰지 판단하는 부등호는 방향이 반대로 바뀌었습니다. 이처럼 조건식을 만들 때는 부등호의 방향과는 관계 없이 조건의 뜻만 만족하면 됩니다. 즉, x > 0과 0 < x의 뜻은 같습니다."
      ],
      "metadata": {
        "id": "3Vx9_QJkmwHK"
      }
    },
    {
      "cell_type": "markdown",
      "source": [
        "## elif 사용하기"
      ],
      "metadata": {
        "id": "9TdVUiMPmzt2"
      }
    },
    {
      "cell_type": "markdown",
      "source": [
        "프로그램을 만들다 보면 참, 거짓으로만 분기하는 것은 한계가 있습니다. 실제로는 두 가지 이상의 다양한 상황이 발생하죠.\n",
        "\n",
        "여러 가지 상황을 처리하는 대표적인 예는 음료수 자판기가 있습니다.\n",
        "\n",
        "자판기 안에는 각각 다른 종류의 음료수가 들어있고, 버튼을 누르면 해당 버튼에 해당하는 음료수가 나옵니다. 이걸 elif로 만들면 다음과 같은 모양이 됩니다.\n",
        "\n",
        "```\n",
        "if 콜라 버튼을 눌렀다면:\n",
        "    콜라를 내보냄\n",
        "elif 사이다 버튼을 눌렀다면:\n",
        "    사이다를 내보냄\n",
        "elif 환타 버튼을 눌렀다면:\n",
        "    환타를 내보냄:\n",
        "else:\n",
        "    제공하지 않는 메뉴\n",
        "```\n",
        "\n",
        "즉, elif는 조건식을 여러 개 지정하여 각 조건 마다 다른 코드를 실행할 수 있습니다."
      ],
      "metadata": {
        "id": "i9jX6TDim-gS"
      }
    },
    {
      "cell_type": "markdown",
      "source": [
        "elif는 else인 상태에서 조건식을 지정할 때 사용하며 else if라는 뜻입니다. 물론 if, else와 마찬가지로 조건식 끝에 :(콜론)을 붙여야 하고, elif 단독으로 사용할 수 없습니다.\n",
        "\n",
        "```\n",
        "if 조건식:\n",
        "     코드1\n",
        "elif 조건식:\n",
        "     코드2\n",
        "```"
      ],
      "metadata": {
        "id": "6pSY0aO2nIw3"
      }
    },
    {
      "cell_type": "code",
      "source": [
        "x = 20\n",
        "y = 10\n",
        "if y == 10:\n",
        "    print(\"y는 10입니다\")\n",
        "if x == 10:\n",
        "     print(\"x는 10입니다\")\n",
        "elif x == 20:\n",
        "     print(\"x는 20입니다\")"
      ],
      "metadata": {
        "colab": {
          "base_uri": "https://localhost:8080/"
        },
        "id": "CGNPu8z6mtsq",
        "outputId": "ebb30bb8-755b-43ce-fc9a-28c183e9443c"
      },
      "execution_count": 51,
      "outputs": [
        {
          "output_type": "stream",
          "name": "stdout",
          "text": [
            "y는 10입니다\n",
            "x는 20입니다\n"
          ]
        }
      ]
    },
    {
      "cell_type": "markdown",
      "source": [
        "### if, elif, else를 모두 사용하기"
      ],
      "metadata": {
        "id": "UhGDqtDwnThG"
      }
    },
    {
      "cell_type": "markdown",
      "source": [
        "elif와 else는 단독으로 사용할 수 없으며 if, else 형태로 사용하거나, if, elif, else 형태로 사용합니다. 이번에는 if, elif, else를 모두 사용해보겠습니다.\n",
        "\n",
        "```\n",
        "if 조건식:\n",
        "    코드1\n",
        "elif 조건식:\n",
        "    코드2\n",
        "else:\n",
        "    코드3\n",
        "```"
      ],
      "metadata": {
        "id": "_HFJ9t9UnWKF"
      }
    },
    {
      "cell_type": "code",
      "source": [
        "x = 30\n",
        "if x == 10:\n",
        "    print(\"10입니다.\")\n",
        "elif x == 20:\n",
        "    print(\"20입니다.\")\n",
        "else:\n",
        "    print(\"10도 20도 아닙니다.\")"
      ],
      "metadata": {
        "colab": {
          "base_uri": "https://localhost:8080/"
        },
        "id": "Bu4X2Q7RnPMj",
        "outputId": "70ddc63f-e7e7-4125-993d-5e5195558230"
      },
      "execution_count": 52,
      "outputs": [
        {
          "output_type": "stream",
          "name": "stdout",
          "text": [
            "10도 20도 아닙니다.\n"
          ]
        }
      ]
    },
    {
      "cell_type": "markdown",
      "source": [
        "이렇게 하면 if, elif의 조건식이 모두 거짓일 때만 else의 코드가 실행됩니다. 여기서는 x가 30이라 if, elif의 조건식에 모두 만족하지 않습니다. 따라서 마지막 else의 '10도 20도 아닙니다.'가 출력됩니다.\n",
        "\n",
        "참고로 if와 else는 한 번만 사용할 수 있지만, elif는 여러 번 사용할 수 있습니다. 그리고 elif의 들여쓰기 규칙은 if, else와 같으므로 따로 설명하지 않겠습니다.\n",
        "\n",
        "만약 elif 앞에 else가 오면 잘못된 문법이므로 주의해야 합니다."
      ],
      "metadata": {
        "id": "L8puHr0Unc-Q"
      }
    },
    {
      "cell_type": "code",
      "source": [
        "x = 30\n",
        "if x == 10:\n",
        "    print(\"10입니다.\")\n",
        "else:\n",
        "    print(\"10도 20도 아닙니다.\")\n",
        "elif x == 20:\n",
        "    print(\"20입니다.\")\n"
      ],
      "metadata": {
        "colab": {
          "base_uri": "https://localhost:8080/",
          "height": 136
        },
        "id": "PU-Xy9JwnZzL",
        "outputId": "b1e61ac9-b035-403f-c19e-bcbf6aa38d4c"
      },
      "execution_count": 53,
      "outputs": [
        {
          "output_type": "error",
          "ename": "SyntaxError",
          "evalue": "ignored",
          "traceback": [
            "\u001b[0;36m  File \u001b[0;32m\"<ipython-input-53-0cfa7ef8e48a>\"\u001b[0;36m, line \u001b[0;32m6\u001b[0m\n\u001b[0;31m    elif x == 20:\u001b[0m\n\u001b[0m    ^\u001b[0m\n\u001b[0;31mSyntaxError\u001b[0m\u001b[0;31m:\u001b[0m invalid syntax\n"
          ]
        }
      ]
    },
    {
      "cell_type": "markdown",
      "source": [
        "### 음료수 자판기 만들기"
      ],
      "metadata": {
        "id": "rKZ3saH3ngR2"
      }
    },
    {
      "cell_type": "markdown",
      "source": [
        "이제 음료수 자판기를 만들어봅시다. 버튼 1번은 '콜라', 2번은 '사이다', 3번은 '환타'이고 각 버튼에 따라 음료수 이름을 출력한다고 하죠(1, 2, 3이외의 숫자는 '제공하지 않는 메뉴' 출력). 코드를 보기 전에 어떻게 만들면 될 지 머리 속으로 한 번 생각해보세요."
      ],
      "metadata": {
        "id": "9cocnstonirM"
      }
    },
    {
      "cell_type": "code",
      "source": [
        "button = int(input(\"마시고 싶은 음료수를 알려주세요 : 1) 콜라 2) 사이다 3) 환타\"))\n",
        "\n",
        "# if button == 1:\n",
        "#    print(\"콜라\")\n",
        "# elif button == 2:\n",
        "#    print('사이다')\n",
        "# elif button == 3:\n",
        "#    print('환타')\n",
        "#else:\n",
        "#     print('제공하지 않는 메뉴입니다')\n",
        "\n",
        "menu = {\n",
        "    1: \"콜라\",\n",
        "    2: \"사이다\",\n",
        "    3: \"환타\"\n",
        "}\n",
        "if button not in menu:\n",
        "    print('제공하지 않는 메뉴입니다')\n",
        "else:\n",
        "     print(menu[button])"
      ],
      "metadata": {
        "colab": {
          "base_uri": "https://localhost:8080/",
          "height": 281
        },
        "id": "8zGPR0H8neaD",
        "outputId": "71a3719f-567d-4a75-fbf4-ea9e4ee40dc4"
      },
      "execution_count": 57,
      "outputs": [
        {
          "name": "stdout",
          "output_type": "stream",
          "text": [
            "마시고 싶은 음료수를 알려주세요 : 1) 콜라 2) 사이다 3) 환타콜라\n"
          ]
        },
        {
          "output_type": "error",
          "ename": "ValueError",
          "evalue": "ignored",
          "traceback": [
            "\u001b[0;31m---------------------------------------------------------------------------\u001b[0m",
            "\u001b[0;31mValueError\u001b[0m                                Traceback (most recent call last)",
            "\u001b[0;32m<ipython-input-57-6356eb7704be>\u001b[0m in \u001b[0;36m<module>\u001b[0;34m\u001b[0m\n\u001b[0;32m----> 1\u001b[0;31m \u001b[0mbutton\u001b[0m \u001b[0;34m=\u001b[0m \u001b[0mint\u001b[0m\u001b[0;34m(\u001b[0m\u001b[0minput\u001b[0m\u001b[0;34m(\u001b[0m\u001b[0;34m\"마시고 싶은 음료수를 알려주세요 : 1) 콜라 2) 사이다 3) 환타\"\u001b[0m\u001b[0;34m)\u001b[0m\u001b[0;34m)\u001b[0m\u001b[0;34m\u001b[0m\u001b[0;34m\u001b[0m\u001b[0m\n\u001b[0m\u001b[1;32m      2\u001b[0m \u001b[0;34m\u001b[0m\u001b[0m\n\u001b[1;32m      3\u001b[0m \u001b[0;31m# if button == 1:\u001b[0m\u001b[0;34m\u001b[0m\u001b[0;34m\u001b[0m\u001b[0;34m\u001b[0m\u001b[0m\n\u001b[1;32m      4\u001b[0m \u001b[0;31m#    print(\"콜라\")\u001b[0m\u001b[0;34m\u001b[0m\u001b[0;34m\u001b[0m\u001b[0;34m\u001b[0m\u001b[0m\n\u001b[1;32m      5\u001b[0m \u001b[0;31m# elif button == 2:\u001b[0m\u001b[0;34m\u001b[0m\u001b[0;34m\u001b[0m\u001b[0;34m\u001b[0m\u001b[0m\n",
            "\u001b[0;31mValueError\u001b[0m: invalid literal for int() with base 10: '콜라'"
          ]
        }
      ]
    }
  ]
}