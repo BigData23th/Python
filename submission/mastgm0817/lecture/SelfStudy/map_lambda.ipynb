{
  "cells": [
    {
      "cell_type": "markdown",
      "metadata": {
        "colab_type": "text",
        "id": "view-in-github"
      },
      "source": [
        "<a href=\"https://colab.research.google.com/github/mastgm0817/Python/blob/main/submission/mastgm0817/lecture/Selfstudy/map_lambda.ipynb\" target=\"_parent\"><img src=\"https://colab.research.google.com/assets/colab-badge.svg\" alt=\"Open In Colab\"/></a>"
      ]
    },
    {
      "cell_type": "code",
      "execution_count": 1,
      "metadata": {
        "colab": {
          "base_uri": "https://localhost:8080/"
        },
        "id": "b6jeFlfkApe1",
        "outputId": "9675e0e1-aef5-4492-a738-b512e63c34b5"
      },
      "outputs": [
        {
          "name": "stdout",
          "output_type": "stream",
          "text": [
            "두 숫자를 입력해주세요: 5 10\n",
            "15\n"
          ]
        }
      ],
      "source": [
        "x, y = map(int, input(\"두 숫자를 입력해주세요: \").split())\n",
        "sum = x + y\n",
        "print(sum)"
      ]
    },
    {
      "cell_type": "code",
      "execution_count": 13,
      "metadata": {
        "colab": {
          "base_uri": "https://localhost:8080/"
        },
        "id": "qWzxr7KCBG4K",
        "outputId": "b00d6e22-62e4-497f-e04a-39ec242fcf90"
      },
      "outputs": [
        {
          "name": "stdout",
          "output_type": "stream",
          "text": [
            "<map object at 0x7f90750be4f0>\n",
            "<class 'map'>\n",
            "[2, 4]\n",
            "[2, 4, 6]\n",
            "(2, 4, 6)\n"
          ]
        }
      ],
      "source": [
        "list1 = [1,2]\n",
        "sum1 = map(lambda x: x + x, list1)\n",
        "print(sum1)\n",
        "print(type(sum1))\n",
        "sum1 = list(map(lambda x: x + x, list1))\n",
        "print(sum1)\n",
        "tuple1 = (1,2,3)\n",
        "sum1 = list(map(lambda x: x + x, tuple1))\n",
        "print(sum1)\n",
        "sum1 = tuple(map(lambda x: x + x, tuple1))\n",
        "print(sum1) "
      ]
    }
  ],
  "metadata": {
    "colab": {
      "authorship_tag": "ABX9TyP1eSwO2Qg0V5O0/IWisNAJ",
      "include_colab_link": true,
      "provenance": []
    },
    "kernelspec": {
      "display_name": "Python 3",
      "name": "python3"
    },
    "language_info": {
      "name": "python"
    }
  },
  "nbformat": 4,
  "nbformat_minor": 0
}
