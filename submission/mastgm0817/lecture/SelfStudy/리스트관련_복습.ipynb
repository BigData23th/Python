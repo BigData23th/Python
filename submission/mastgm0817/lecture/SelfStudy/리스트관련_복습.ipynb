{
  "nbformat": 4,
  "nbformat_minor": 0,
  "metadata": {
    "colab": {
      "provenance": [],
      "authorship_tag": "ABX9TyMZK5oUxi+JSfCYWqBrKlrC",
      "include_colab_link": true
    },
    "kernelspec": {
      "name": "python3",
      "display_name": "Python 3"
    },
    "language_info": {
      "name": "python"
    }
  },
  "cells": [
    {
      "cell_type": "markdown",
      "metadata": {
        "id": "view-in-github",
        "colab_type": "text"
      },
      "source": [
        "<a href=\"https://colab.research.google.com/github/mastgm0817/Python/blob/main/submission/mastgm0817/lecture/SelfStudy/%EB%A6%AC%EC%8A%A4%ED%8A%B8%EA%B4%80%EB%A0%A8_%EB%B3%B5%EC%8A%B5.ipynb\" target=\"_parent\"><img src=\"https://colab.research.google.com/assets/colab-badge.svg\" alt=\"Open In Colab\"/></a>"
      ]
    },
    {
      "cell_type": "code",
      "execution_count": 6,
      "metadata": {
        "colab": {
          "base_uri": "https://localhost:8080/"
        },
        "id": "MtDoiL9ZcWzp",
        "outputId": "cf3c22b7-da2c-4594-d723-ed75231297d8"
      },
      "outputs": [
        {
          "output_type": "execute_result",
          "data": {
            "text/plain": [
              "(None, [1, 2, 3, 5, 4, 5, 6, 7])"
            ]
          },
          "metadata": {},
          "execution_count": 6
        }
      ],
      "source": [
        "# 리스트 삽입\n",
        "# Append, Extend, Insert\n",
        "list1 = [1,2,3]\n",
        "list1.append(4), list1\n",
        "list1.extend([5,6,7]),list1\n",
        "list1.insert(3,5), list1"
      ]
    },
    {
      "cell_type": "code",
      "source": [
        "# 리스트 삭제\n",
        "# Pop, Del, remove\n",
        "a = [\"사과\",\"포도\",\"수박\"]\n",
        "a.pop(),a\n",
        "a.insert(2,\"수박\")\n",
        "del a[2]\n",
        "a\n",
        "a.insert(2,\"수박\")\n",
        "a.remove(\"수박\"),a"
      ],
      "metadata": {
        "colab": {
          "base_uri": "https://localhost:8080/"
        },
        "id": "43gy9Jp1dG9k",
        "outputId": "5f4ae3d0-fcc2-49d6-a6b6-08a04df91764"
      },
      "execution_count": 19,
      "outputs": [
        {
          "output_type": "execute_result",
          "data": {
            "text/plain": [
              "(None, ['사과', '포도'])"
            ]
          },
          "metadata": {},
          "execution_count": 19
        }
      ]
    },
    {
      "cell_type": "code",
      "source": [
        "# 리스트 정렬\n",
        "# Sort, sorted\n",
        "import random\n",
        "a = [ random.randint(1,10) for i in range(5)]\n",
        "b = a\n",
        "a.sort()\n",
        "\n",
        "c = sorted(a)\n",
        "c[3] = 2\n",
        "a,c"
      ],
      "metadata": {
        "colab": {
          "base_uri": "https://localhost:8080/"
        },
        "id": "2i92Odwcd9UP",
        "outputId": "90ad1c71-a6fb-478e-f97a-a3a7b9fd5367"
      },
      "execution_count": 26,
      "outputs": [
        {
          "output_type": "execute_result",
          "data": {
            "text/plain": [
              "([3, 4, 10, 10, 10], [3, 4, 10, 2, 10])"
            ]
          },
          "metadata": {},
          "execution_count": 26
        }
      ]
    },
    {
      "cell_type": "code",
      "source": [
        "# 리스트 복사\n",
        "# 앝은 복사, 깊은 복사\n",
        "\n",
        "a = [ i for i in range(5)]\n",
        "b = a\n",
        "b # 얕은 복사\n",
        "c = a.copy()\n",
        "c\n",
        "\n",
        "a is b, a is c"
      ],
      "metadata": {
        "colab": {
          "base_uri": "https://localhost:8080/"
        },
        "id": "I7l1FR-me-Hh",
        "outputId": "9c30c1be-641e-4665-f927-be71c9a7034f"
      },
      "execution_count": 31,
      "outputs": [
        {
          "output_type": "execute_result",
          "data": {
            "text/plain": [
              "(True, False)"
            ]
          },
          "metadata": {},
          "execution_count": 31
        }
      ]
    },
    {
      "cell_type": "code",
      "source": [
        "# 덧셈, 글자덧셈(합치기)\n",
        "# Sum, Join\n",
        "\n",
        "a = [ i for i in range(6)]\n",
        "sum(a)\n",
        "\n",
        "b = [\"a\",\"b\",\"c\",\"d\",\"e\"]\n",
        "\"\".join(b)"
      ],
      "metadata": {
        "colab": {
          "base_uri": "https://localhost:8080/",
          "height": 36
        },
        "id": "Txdz5sCMfavq",
        "outputId": "164c9dce-cb24-4f39-8fd9-c37ea5f9bbbb"
      },
      "execution_count": 33,
      "outputs": [
        {
          "output_type": "execute_result",
          "data": {
            "text/plain": [
              "'abcde'"
            ],
            "application/vnd.google.colaboratory.intrinsic+json": {
              "type": "string"
            }
          },
          "metadata": {},
          "execution_count": 33
        }
      ]
    },
    {
      "cell_type": "code",
      "source": [
        "# strip, split\n",
        "# 문자영 \"양쪽 사이드\" 공백제거, 문자열기준으로 분리하려 \"리스트\"화\n",
        "\n",
        "word = \"hello,world,!,!,!\"\n",
        "word.split(\",\")\n",
        "\n",
        "words = \"    hello,   world,!,!,!\"\n",
        "words.strip()"
      ],
      "metadata": {
        "colab": {
          "base_uri": "https://localhost:8080/",
          "height": 36
        },
        "id": "CJHDkO3kf6l1",
        "outputId": "e7624fcd-cbb9-4e68-ac8d-0b6898faf656"
      },
      "execution_count": 52,
      "outputs": [
        {
          "output_type": "execute_result",
          "data": {
            "text/plain": [
              "'hello,   world,!,!,!'"
            ],
            "application/vnd.google.colaboratory.intrinsic+json": {
              "type": "string"
            }
          },
          "metadata": {},
          "execution_count": 52
        }
      ]
    },
    {
      "cell_type": "code",
      "source": [
        "# List comprehension\n",
        "\n",
        "list1 = [ i for i in range(5)]\n",
        "list2 = [ j*2 for j in range(5)]\n",
        "list2\n",
        "list3 = [ k*5 for k in range(10) if k % 2 == 0]\n",
        "list3\n",
        "list4 = [ print(f'{l}yes') if l % 5 == 0 else print(f\"{l}nope\") for l in range(50) if l % 2 == 0]\n",
        "word = [\"카푸치노\",\"아메리카노\",\"마키야또\",\"프라프치노\",\"웃기노\"]\n",
        "list5 = [w[-1] + \"래방\" for w in word if '노' in w]\n",
        "list5"
      ],
      "metadata": {
        "colab": {
          "base_uri": "https://localhost:8080/"
        },
        "id": "h4MyQlQPhe9k",
        "outputId": "ef6e13c7-53bb-49ce-a040-d1762c1d9fc7"
      },
      "execution_count": 65,
      "outputs": [
        {
          "output_type": "stream",
          "name": "stdout",
          "text": [
            "0yes\n",
            "2nope\n",
            "4nope\n",
            "6nope\n",
            "8nope\n",
            "10yes\n",
            "12nope\n",
            "14nope\n",
            "16nope\n",
            "18nope\n",
            "20yes\n",
            "22nope\n",
            "24nope\n",
            "26nope\n",
            "28nope\n",
            "30yes\n",
            "32nope\n",
            "34nope\n",
            "36nope\n",
            "38nope\n",
            "40yes\n",
            "42nope\n",
            "44nope\n",
            "46nope\n",
            "48nope\n"
          ]
        },
        {
          "output_type": "execute_result",
          "data": {
            "text/plain": [
              "['노래방', '노래방', '노래방', '노래방']"
            ]
          },
          "metadata": {},
          "execution_count": 65
        }
      ]
    }
  ]
}