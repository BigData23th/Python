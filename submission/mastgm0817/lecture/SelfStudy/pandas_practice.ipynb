{
  "nbformat": 4,
  "nbformat_minor": 0,
  "metadata": {
    "colab": {
      "provenance": [],
      "authorship_tag": "ABX9TyM7Em8IxDuxBtBMnAWjG0TH",
      "include_colab_link": true
    },
    "kernelspec": {
      "name": "python3",
      "display_name": "Python 3"
    },
    "language_info": {
      "name": "python"
    }
  },
  "cells": [
    {
      "cell_type": "markdown",
      "metadata": {
        "id": "view-in-github",
        "colab_type": "text"
      },
      "source": [
        "<a href=\"https://colab.research.google.com/github/mastgm0817/Python/blob/main/submission/mastgm0817/lecture/SelfStudy/pandas_practice.ipynb\" target=\"_parent\"><img src=\"https://colab.research.google.com/assets/colab-badge.svg\" alt=\"Open In Colab\"/></a>"
      ]
    },
    {
      "cell_type": "code",
      "execution_count": 74,
      "metadata": {
        "colab": {
          "base_uri": "https://localhost:8080/",
          "height": 143
        },
        "id": "baYJ0odMSUJ8",
        "outputId": "1df73fa2-5d8b-4f8f-ec9d-880385b7dca9"
      },
      "outputs": [
        {
          "output_type": "execute_result",
          "data": {
            "text/plain": [
              "        이름    키  몸무게\n",
              "바르셀로나  즐라탄  198  102\n",
              "토트넘     케인  187   88\n",
              "토트넘    손흥민  183   82"
            ],
            "text/html": [
              "\n",
              "  <div id=\"df-b8032e08-ca8b-41c7-a8be-16f165f38d26\">\n",
              "    <div class=\"colab-df-container\">\n",
              "      <div>\n",
              "<style scoped>\n",
              "    .dataframe tbody tr th:only-of-type {\n",
              "        vertical-align: middle;\n",
              "    }\n",
              "\n",
              "    .dataframe tbody tr th {\n",
              "        vertical-align: top;\n",
              "    }\n",
              "\n",
              "    .dataframe thead th {\n",
              "        text-align: right;\n",
              "    }\n",
              "</style>\n",
              "<table border=\"1\" class=\"dataframe\">\n",
              "  <thead>\n",
              "    <tr style=\"text-align: right;\">\n",
              "      <th></th>\n",
              "      <th>이름</th>\n",
              "      <th>키</th>\n",
              "      <th>몸무게</th>\n",
              "    </tr>\n",
              "  </thead>\n",
              "  <tbody>\n",
              "    <tr>\n",
              "      <th>바르셀로나</th>\n",
              "      <td>즐라탄</td>\n",
              "      <td>198</td>\n",
              "      <td>102</td>\n",
              "    </tr>\n",
              "    <tr>\n",
              "      <th>토트넘</th>\n",
              "      <td>케인</td>\n",
              "      <td>187</td>\n",
              "      <td>88</td>\n",
              "    </tr>\n",
              "    <tr>\n",
              "      <th>토트넘</th>\n",
              "      <td>손흥민</td>\n",
              "      <td>183</td>\n",
              "      <td>82</td>\n",
              "    </tr>\n",
              "  </tbody>\n",
              "</table>\n",
              "</div>\n",
              "      <button class=\"colab-df-convert\" onclick=\"convertToInteractive('df-b8032e08-ca8b-41c7-a8be-16f165f38d26')\"\n",
              "              title=\"Convert this dataframe to an interactive table.\"\n",
              "              style=\"display:none;\">\n",
              "        \n",
              "  <svg xmlns=\"http://www.w3.org/2000/svg\" height=\"24px\"viewBox=\"0 0 24 24\"\n",
              "       width=\"24px\">\n",
              "    <path d=\"M0 0h24v24H0V0z\" fill=\"none\"/>\n",
              "    <path d=\"M18.56 5.44l.94 2.06.94-2.06 2.06-.94-2.06-.94-.94-2.06-.94 2.06-2.06.94zm-11 1L8.5 8.5l.94-2.06 2.06-.94-2.06-.94L8.5 2.5l-.94 2.06-2.06.94zm10 10l.94 2.06.94-2.06 2.06-.94-2.06-.94-.94-2.06-.94 2.06-2.06.94z\"/><path d=\"M17.41 7.96l-1.37-1.37c-.4-.4-.92-.59-1.43-.59-.52 0-1.04.2-1.43.59L10.3 9.45l-7.72 7.72c-.78.78-.78 2.05 0 2.83L4 21.41c.39.39.9.59 1.41.59.51 0 1.02-.2 1.41-.59l7.78-7.78 2.81-2.81c.8-.78.8-2.07 0-2.86zM5.41 20L4 18.59l7.72-7.72 1.47 1.35L5.41 20z\"/>\n",
              "  </svg>\n",
              "      </button>\n",
              "      \n",
              "  <style>\n",
              "    .colab-df-container {\n",
              "      display:flex;\n",
              "      flex-wrap:wrap;\n",
              "      gap: 12px;\n",
              "    }\n",
              "\n",
              "    .colab-df-convert {\n",
              "      background-color: #E8F0FE;\n",
              "      border: none;\n",
              "      border-radius: 50%;\n",
              "      cursor: pointer;\n",
              "      display: none;\n",
              "      fill: #1967D2;\n",
              "      height: 32px;\n",
              "      padding: 0 0 0 0;\n",
              "      width: 32px;\n",
              "    }\n",
              "\n",
              "    .colab-df-convert:hover {\n",
              "      background-color: #E2EBFA;\n",
              "      box-shadow: 0px 1px 2px rgba(60, 64, 67, 0.3), 0px 1px 3px 1px rgba(60, 64, 67, 0.15);\n",
              "      fill: #174EA6;\n",
              "    }\n",
              "\n",
              "    [theme=dark] .colab-df-convert {\n",
              "      background-color: #3B4455;\n",
              "      fill: #D2E3FC;\n",
              "    }\n",
              "\n",
              "    [theme=dark] .colab-df-convert:hover {\n",
              "      background-color: #434B5C;\n",
              "      box-shadow: 0px 1px 3px 1px rgba(0, 0, 0, 0.15);\n",
              "      filter: drop-shadow(0px 1px 2px rgba(0, 0, 0, 0.3));\n",
              "      fill: #FFFFFF;\n",
              "    }\n",
              "  </style>\n",
              "\n",
              "      <script>\n",
              "        const buttonEl =\n",
              "          document.querySelector('#df-b8032e08-ca8b-41c7-a8be-16f165f38d26 button.colab-df-convert');\n",
              "        buttonEl.style.display =\n",
              "          google.colab.kernel.accessAllowed ? 'block' : 'none';\n",
              "\n",
              "        async function convertToInteractive(key) {\n",
              "          const element = document.querySelector('#df-b8032e08-ca8b-41c7-a8be-16f165f38d26');\n",
              "          const dataTable =\n",
              "            await google.colab.kernel.invokeFunction('convertToInteractive',\n",
              "                                                     [key], {});\n",
              "          if (!dataTable) return;\n",
              "\n",
              "          const docLinkHtml = 'Like what you see? Visit the ' +\n",
              "            '<a target=\"_blank\" href=https://colab.research.google.com/notebooks/data_table.ipynb>data table notebook</a>'\n",
              "            + ' to learn more about interactive tables.';\n",
              "          element.innerHTML = '';\n",
              "          dataTable['output_type'] = 'display_data';\n",
              "          await google.colab.output.renderOutput(dataTable, element);\n",
              "          const docLink = document.createElement('div');\n",
              "          docLink.innerHTML = docLinkHtml;\n",
              "          element.appendChild(docLink);\n",
              "        }\n",
              "      </script>\n",
              "    </div>\n",
              "  </div>\n",
              "  "
            ]
          },
          "metadata": {},
          "execution_count": 74
        }
      ],
      "source": [
        "import pandas as pd\n",
        "import numpy as np\n",
        "\n",
        "# 이차원 리스트로 생성성\n",
        "dimentional_array = [\n",
        "    [\"박지성\",178,78],\n",
        "    [\"이영표\",172,68],\n",
        "    [\"안정환\",178,75]\n",
        "]\n",
        "\n",
        "# 데이터 프레임을 생성하는데, 컬럼의 값을 이름,키,몸무게로 지정하고 행(row)=index를 맨유 토트넘 뒤셀부르크로 지정\n",
        "pd_array = pd.DataFrame(dimentional_array,columns=(\"이름\",\"키\",\"몸무게\"),index=(\"맨유\",\"토트넘\",\"뒤셀부르크\"))\n",
        "pd_array\n",
        "\n",
        "pd_array.columns # 컬럼(열)의 값을 불러오기\n",
        "pd_array.index # index(행)의 값을 불러오기\n",
        "\n",
        "pd_array.dtypes # 타입을 검사하는법\n",
        "\n",
        "list1 = [\n",
        "    [\"즐라탄\",198,102],\n",
        "    [\"케인\",187,88],\n",
        "    [\"손흥민\",183,82]\n",
        "]\n",
        "\n",
        "# 판다스 데이터 프레임으로 변환하는 방법은 3가지가 있음 1. 리스트 2. 넘파이 3.1차 데이터셋(Series)\n",
        "np_array = np.array(list1) # 리스트로 생성한 이차원 배열을 넘파이 배열로로 변환\n",
        "pd_array1 = pd.DataFrame(np_array) #넘파이 배열을 판다스 데이터 프레임으로 넣기\n",
        "# 넘파이와 판다스 데이터 프레임의 차이는 넘파이는 열값의 데이터 속성이 숫자라면 숫자로 다 동일해야하지만\n",
        "# 판다스는 열마다 달라도 됨\n",
        "\n",
        "pd_array2 = pd.DataFrame(list1)\n",
        "\n",
        "pd_lists = [\n",
        "    pd.Series([\"즐라탄\",198,102]),\n",
        "    pd.Series([\"케인\",187,88]),\n",
        "    pd.Series([\"손흥민\",183,82])\n",
        "]\n",
        "pd_array2 = pd.DataFrame(np_array, columns=(\"이름\",\"키\",\"몸무게\"),index=(\"바르셀로나\",\"토트넘\",\"토트넘\"))\n",
        "\n",
        "pd_array2\n",
        "\n"
      ]
    },
    {
      "cell_type": "code",
      "source": [
        "import numpy as np\n",
        "import pandas as pd\n",
        "names = [\"즐라탄\",\"손흥민\",\"케인\"]\n",
        "height = [198,183,187]\n",
        "weight = [102,88,82]\n",
        "dictionary_pd = {\n",
        "  \"이름\":names,\n",
        "  \"키\":height,\n",
        "  \"몸무게\":weight\n",
        "}\n",
        "dict2 = {\n",
        "  \"이름\":np.array(names),\n",
        "  \"키\":np.array(height),\n",
        "  \"몸무게\":np.array(weight)\n",
        "}\n",
        "dict3 = {\n",
        "  \"이름\":pd.Series(names),\n",
        "  \"키\":pd.Series(height),\n",
        "  \"몸무게\":pd.Series(weight)\n",
        "}\n",
        "\n",
        "#사전형으로 생성된 데이터셋을 판다스 데이터셋으로 변환 방법 3가지\n",
        "\n",
        "a = pd.DataFrame(dictionary_pd) #사전형에 리스트 값을 넣어서 판다스 데이터 프레임으로도 만들수있음\n",
        "b = pd.DataFrame(dict2) #사전형에 넘파이배열 값을 넣어서 판다스 데이터 프레임으로도 만들수있음\n",
        "c = pd.DataFrame(dict3) #사전형에 1차원 데이터셋 값을 넣어서 판다스 데이터 프레임으로도 만들수있음\n",
        "\n",
        "print(a)\n",
        "print(b)\n",
        "print(c)"
      ],
      "metadata": {
        "colab": {
          "base_uri": "https://localhost:8080/"
        },
        "id": "tuUpNIVLYsxa",
        "outputId": "8524ade3-1e64-4611-feb8-24dd6a63e08a"
      },
      "execution_count": 26,
      "outputs": [
        {
          "output_type": "stream",
          "name": "stdout",
          "text": [
            "    이름    키  몸무게\n",
            "0  즐라탄  198  102\n",
            "1  손흥민  183   88\n",
            "2   케인  187   82\n",
            "    이름    키  몸무게\n",
            "0  즐라탄  198  102\n",
            "1  손흥민  183   88\n",
            "2   케인  187   82\n",
            "    이름    키  몸무게\n",
            "0  즐라탄  198  102\n",
            "1  손흥민  183   88\n",
            "2   케인  187   82\n"
          ]
        }
      ]
    },
    {
      "cell_type": "code",
      "source": [
        "import pandas as pd\n",
        "import numpy as np\n",
        "\n",
        "# 리스트에 사전형으로 데이터셋을 구성\n",
        "dict_list = [\n",
        "    {\"이름\":\"즐라탄\", \"키\":198, \"몸무게\":102},\n",
        "    {\"이름\":\"케인\", \"키\":188, \"몸무게\":88},\n",
        "    {\"이름\":\"손흥민\", \"키\":183, \"몸무게\":82},\n",
        "]\n",
        "\n",
        "# 위 처럼 만들어진 데이터 셋도 판다스 데이터셋으로 변환 가능\n",
        "a = pd.DataFrame(dict_list)\n",
        "print(a)"
      ],
      "metadata": {
        "colab": {
          "base_uri": "https://localhost:8080/"
        },
        "id": "UJCsB5axbrn7",
        "outputId": "7199bd33-5f38-49c0-e8a7-f65d6e3f3b75"
      },
      "execution_count": 27,
      "outputs": [
        {
          "output_type": "stream",
          "name": "stdout",
          "text": [
            "    이름    키  몸무게\n",
            "0  즐라탄  198  102\n",
            "1   케인  188   88\n",
            "2  손흥민  183   82\n"
          ]
        }
      ]
    },
    {
      "cell_type": "code",
      "source": [
        "import pandas as pd\n",
        "# 리스트로 만든 2차원 배열방식의 데이터셋\n",
        "celebs = [\n",
        "    [\"Taylor Swift\",\"December 13, 1989\",\"Singer-songwriter\"],\n",
        "    [\"Aaron Sorkin\",\"June 9, 1961\",\"Screenwriter\"],\n",
        "    [\"Harry Potter\",\"July 31, 1980\",\"Wizard\"],\n",
        "    [\"Ji-Sung Park\",\"February 25, 1981\",\"Footballer\"]\n",
        "]\n",
        "# 판다스 데이터셋으로 변환\n",
        "df = pd.DataFrame(celebs,columns=(\"name\",\"birthday\",\"occupation\"))\n",
        "df\n",
        "\n",
        "print(df.dtypes)"
      ],
      "metadata": {
        "colab": {
          "base_uri": "https://localhost:8080/"
        },
        "id": "N_KRiooMsV06",
        "outputId": "4dbddf3b-a5c2-4388-f088-5cce1e8ae5de"
      },
      "execution_count": 32,
      "outputs": [
        {
          "output_type": "stream",
          "name": "stdout",
          "text": [
            "name          object\n",
            "birthday      object\n",
            "occupation    object\n",
            "dtype: object\n"
          ]
        }
      ]
    },
    {
      "cell_type": "code",
      "source": [
        "\n",
        "%matplotlib inline\n",
        "import pandas as pd\n",
        "\n",
        "#csv 파일은 ','(쉼표)로 데이터를 구분하는 데이터 셋\n",
        "df = pd.read_csv('sample_data/data/broadcast.csv',index_col=0) # 판다스에서 csv를 불러오는 방법\n",
        "\n",
        "#맷플롯립 사용법\n",
        "#원하는 섹터의 데이터를 그리는 법은 2가지 방법이 있음 df[['요소1','요소2']] or y=['요소1','요소2'] \n",
        "df[['KBS','MBC']].plot() # df.plot(y=['KBS','MBC']) 같음\n",
        "# df.plot(kind=\"line\",x=\"2011\", y=['KBS','MBC','SBS'])\n"
      ],
      "metadata": {
        "colab": {
          "base_uri": "https://localhost:8080/",
          "height": 283
        },
        "id": "mJ00crchuDrJ",
        "outputId": "1cd3b832-5f11-4264-8879-a63ef6dd971a"
      },
      "execution_count": 72,
      "outputs": [
        {
          "output_type": "execute_result",
          "data": {
            "text/plain": [
              "<AxesSubplot:>"
            ]
          },
          "metadata": {},
          "execution_count": 72
        },
        {
          "output_type": "display_data",
          "data": {
            "text/plain": [
              "<Figure size 432x288 with 1 Axes>"
            ],
            "image/png": "[encoded data removed]"
          },
          "metadata": {
            "needs_background": "light"
          }
        }
      ]
    },
    {
      "cell_type": "code",
      "source": [
        "%matplotlib inline\n",
        "import pandas as pd\n",
        "\n",
        "df = pd.read_csv('sample_data/data/silicon_valley_summary.csv')\n",
        "df.plot(kind='bar') #맷플롯립의 기본형은 line형이지만, kind에 값을 입력하면 바꿀수있음\n",
        "\n",
        "\n",
        "boolean_managers = df['job_category']=='Managers'  #불린으로 데이터셋을 저장\n",
        "boolean_gender = df['gender']=='Male'\n",
        "boolean_not_all = df['race_ethnicity']!='All'\n",
        "\n",
        "male_managers = df[boolean_managers&boolean_gender&boolean_not_all] # 저장된 불린값으로 차트를 그림\n",
        "male_managers.plot(kind='bar',x='race_ethnicity',y='count')"
      ],
      "metadata": {
        "colab": {
          "base_uri": "https://localhost:8080/",
          "height": 673
        },
        "id": "9wrXIp-EB_iU",
        "outputId": "8cf62d94-1475-45dc-b2d8-481133cbf248"
      },
      "execution_count": 42,
      "outputs": [
        {
          "output_type": "execute_result",
          "data": {
            "text/plain": [
              "<AxesSubplot:xlabel='race_ethnicity'>"
            ]
          },
          "metadata": {},
          "execution_count": 42
        },
        {
          "output_type": "display_data",
          "data": {
            "text/plain": [
              "<Figure size 432x288 with 1 Axes>"
            ],
            "image/png": "[encoded data removed]"
          },
          "metadata": {
            "needs_background": "light"
          }
        },
        {
          "output_type": "display_data",
          "data": {
            "text/plain": [
              "<Figure size 432x288 with 1 Axes>"
            ],
            "image/png": "[encoded data removed]"
          },
          "metadata": {
            "needs_background": "light"
          }
        }
      ]
    }
  ]
}