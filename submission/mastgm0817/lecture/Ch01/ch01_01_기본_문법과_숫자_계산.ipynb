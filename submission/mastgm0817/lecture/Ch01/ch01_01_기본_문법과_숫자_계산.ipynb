{
  "cells": [
    {
      "cell_type": "markdown",
      "metadata": {
        "colab_type": "text",
        "id": "view-in-github"
      },
      "source": [
        "<a href=\"https://colab.research.google.com/github/mastgm0817/Python/blob/main/submission/mastgm0817/lecture/Ch01_01_%EA%B8%B0%EB%B3%B8_%EB%AC%B8%EB%B2%95%EA%B3%BC_%EC%88%AB%EC%9E%90_%EA%B3%84%EC%82%B0.ipynb\" target=\"_parent\"><img src=\"https://colab.research.google.com/assets/colab-badge.svg\" alt=\"Open In Colab\"/></a>"
      ]
    },
    {
      "cell_type": "markdown",
      "metadata": {
        "id": "9-iQOaZAD1G6"
      },
      "source": [
        "# 환경 확인\n",
        "* `!`를 통해 리눅스 명령어 호출 가능"
      ]
    },
    {
      "cell_type": "code",
      "execution_count": null,
      "metadata": {
        "colab": {
          "base_uri": "https://localhost:8080/"
        },
        "id": "hYCx_TPZiYOH",
        "outputId": "2377b4d4-63ba-4172-a0ab-244926d2b7d1"
      },
      "outputs": [
        {
          "name": "stdout",
          "output_type": "stream",
          "text": [
            "Python 3.8.10\n"
          ]
        }
      ],
      "source": [
        "# 파이썬 버전 확인\n",
        "!python3 --version"
      ]
    },
    {
      "cell_type": "code",
      "execution_count": null,
      "metadata": {
        "colab": {
          "base_uri": "https://localhost:8080/"
        },
        "id": "p7fOxk6mD4s4",
        "outputId": "7a06f6d9-9787-4677-e5e3-d924673961ec"
      },
      "outputs": [
        {
          "name": "stdout",
          "output_type": "stream",
          "text": [
            "pip 22.0.4 from /usr/local/lib/python3.8/dist-packages/pip (python 3.8)\n"
          ]
        }
      ],
      "source": [
        "# PIP 버전 확인\n",
        "!pip3 --version"
      ]
    },
    {
      "cell_type": "code",
      "execution_count": null,
      "metadata": {
        "colab": {
          "base_uri": "https://localhost:8080/"
        },
        "id": "TjPhoyrkEC1e",
        "outputId": "869aab2a-f682-4baf-9e45-f1a3e7fcc0b9"
      },
      "outputs": [
        {
          "name": "stdout",
          "output_type": "stream",
          "text": [
            "Ubuntu 20.04.5 LTS \\n \\l\n",
            "\n"
          ]
        }
      ],
      "source": [
        "# 리눅스 커널 & 버전 확인\n",
        "!cat /etc/issue"
      ]
    },
    {
      "cell_type": "markdown",
      "metadata": {
        "id": "_Atv2gDrEgGG"
      },
      "source": [
        "# Hello World!"
      ]
    },
    {
      "cell_type": "code",
      "execution_count": null,
      "metadata": {
        "colab": {
          "base_uri": "https://localhost:8080/"
        },
        "id": "8Ybgz8wsEioz",
        "outputId": "2a7d2718-90da-4c4b-f66f-3302b1fa38f6"
      },
      "outputs": [
        {
          "name": "stdout",
          "output_type": "stream",
          "text": [
            "Hello, world!\n",
            "반가워요 여러분!\n"
          ]
        }
      ],
      "source": [
        "# Hello, world! 를 출력\n",
        "print(\"Hello, world!\")\n",
        "print(\"반가워요 여러분!\")"
      ]
    },
    {
      "cell_type": "markdown",
      "metadata": {
        "id": "VuW9yW-AEvwH"
      },
      "source": [
        "* ' '(작은따옴표)로 묶은 부분 = 문자열\n",
        "* `print`는 값을 화면에 출력\n",
        "\n",
        "* `print`처럼 단어 뒤에 ( )(괄호)가 붙은 것 = 함수(function) : 정해진 일을 수행하는 단위\n",
        "* 함수는 `print('Hello, world!')`와 같이 함수 이름 `print`를 써주고, 괄호 안에 출력할 내용을 넣으면 함수가 실행\n",
        "* 함수 실행을 다른 말로는 함수를 호출(call)한다고 말하기도 함"
      ]
    },
    {
      "cell_type": "markdown",
      "metadata": {
        "id": "EOixnIQhFMGi"
      },
      "source": [
        "# 기본 문법"
      ]
    },
    {
      "cell_type": "markdown",
      "metadata": {
        "id": "rLb7LdJHFNbj"
      },
      "source": [
        "## 세미콜론 (;)\n",
        "* 많은 프로그래밍 언어들은 구문이 끝날 때 ;(세미콜론)을 붙여야 함 (JAVA, C...)\n",
        "* 하지만 파이썬은 세미콜론을 붙이지 않음"
      ]
    },
    {
      "cell_type": "code",
      "execution_count": null,
      "metadata": {
        "id": "oE3sLkvkFLu2"
      },
      "outputs": [],
      "source": []
    },
    {
      "cell_type": "markdown",
      "metadata": {
        "id": "3Scb0f8gFbNy"
      },
      "source": [
        "* 단, 세미콜론을 붙여도 문법 에러는 발생하지 않음\n",
        "* 보통 한 줄에 여러 구문을 사용할 때 세미콜론으로 구분\n"
      ]
    },
    {
      "cell_type": "code",
      "execution_count": null,
      "metadata": {
        "id": "Q86t4ZGoFY81"
      },
      "outputs": [],
      "source": []
    },
    {
      "cell_type": "markdown",
      "metadata": {
        "id": "0C7s21JUFr5B"
      },
      "source": [
        "## 주석\n",
        "* 파이썬에서 사람만 알아볼 수 있도록 작성하는 부분을 *주석(comment)*라고 함\n",
        "* 즉, 주석은 파이썬 인터프리터(실행기)가 처리하지 않으므로 프로그램의 실행에는 영향을 주지 않음\n",
        "* 보통 주석은 코드에 대한 자세한 설명을 작성하거나, 특정 코드를 임시로 사용하지 않도록 만들 때 사용\n",
        "* 주석은 **한 줄 주석**과 **블록 주석** 두 가지가 있음"
      ]
    },
    {
      "cell_type": "markdown",
      "metadata": {
        "id": "LsK4920GF8xG"
      },
      "source": [
        "### 한 줄 주석"
      ]
    },
    {
      "cell_type": "code",
      "execution_count": null,
      "metadata": {
        "id": "s6XMh-J-EnFM"
      },
      "outputs": [],
      "source": [
        "# Hello, world! 출력\n",
        "# Hello, world! 출력 Alt + Shift + 방향키\n",
        "# Hello, world! 출력 Window버튼 + 마침표(.) -> 특수문자\n",
        "# Hello, world! 출력 Shift + home(앞), end(뒤)"
      ]
    },
    {
      "cell_type": "markdown",
      "metadata": {
        "id": "Yc3MfXY1GHIc"
      },
      "source": [
        "* 코드 맨 앞에 #을 사용하면 해당 줄은 모두 주석이 됨\n",
        "* 따라서 다음 `print` 함수는 동작하지 않음"
      ]
    },
    {
      "cell_type": "code",
      "execution_count": null,
      "metadata": {
        "id": "9t4b0h2BGOJ9"
      },
      "outputs": [],
      "source": []
    },
    {
      "cell_type": "markdown",
      "metadata": {
        "id": "9xaRGo5cGSGW"
      },
      "source": [
        "* 코드 뒤에 #으로 주석을 작성할 수도 있음\n",
        "* 이때는 앞에 있는 코드만 정상적으로 동작하며 # 뒤에 있는 코드는 동작하지 않음"
      ]
    },
    {
      "cell_type": "code",
      "execution_count": null,
      "metadata": {
        "id": "93Hww5UuGRra"
      },
      "outputs": [],
      "source": [
        "#  주석 단축키"
      ]
    },
    {
      "cell_type": "markdown",
      "metadata": {
        "id": "6nmPHNN3G7an"
      },
      "source": [
        "* Colab에서의 주석 단축키 : `Ctrl + /`"
      ]
    },
    {
      "cell_type": "markdown",
      "metadata": {
        "id": "ibBnEPLRGcpM"
      },
      "source": [
        "### 블록 주석"
      ]
    },
    {
      "cell_type": "code",
      "execution_count": null,
      "metadata": {
        "id": "xHLSEnIkGW13"
      },
      "outputs": [],
      "source": [
        "# 작은따옴표\n",
        "# 작은따옴표\n",
        "# 큰따옴표\n",
        "# 큰따옴표"
      ]
    },
    {
      "cell_type": "markdown",
      "metadata": {
        "id": "2ikAVOHhHWsp"
      },
      "source": [
        "## 들여쓰기\n",
        "* 들여쓰기는 코드를 읽기 쉽도록 일정한 간격을 띄워서 작성하는 방법, 특히 파이썬은 들여쓰기 자체가 문법\n",
        "* 예를 들어 if의 다음 줄은 항상 들여쓰기를 해야 함\n",
        "* 만약 들여쓰기를 하지 않으면 문법 에러이므로 코드가 실행되지 않음"
      ]
    },
    {
      "cell_type": "code",
      "execution_count": null,
      "metadata": {
        "colab": {
          "base_uri": "https://localhost:8080/"
        },
        "id": "T_XahCuikc2z",
        "outputId": "aa02af59-a8c8-42af-8dc2-2b219d5d22f9"
      },
      "outputs": [
        {
          "name": "stdout",
          "output_type": "stream",
          "text": [
            "a는 1이 아닙니다.\n"
          ]
        }
      ],
      "source": [
        "a = 0\n",
        "if a == 1:\n",
        "  print(\"a는 1입니다\") #들여쓰기 연습\n",
        "else:\n",
        "  print(\"a는 1이 아닙니다.\")"
      ]
    },
    {
      "cell_type": "code",
      "execution_count": null,
      "metadata": {
        "colab": {
          "base_uri": "https://localhost:8080/"
        },
        "id": "kaxxIPeTHi5V",
        "outputId": "05832a68-72cb-4b72-a0ac-028d97db3832"
      },
      "outputs": [
        {
          "name": "stdout",
          "output_type": "stream",
          "text": [
            "2.4691358024691357e-05\n"
          ]
        }
      ],
      "source": [
        "bmi = 0\n",
        "height = 180 # 키\n",
        "weight = 80 # 몸무게\n",
        "bmi = weight / (height * height) * 0.01\n",
        "print(bmi)"
      ]
    },
    {
      "cell_type": "markdown",
      "metadata": {
        "id": "qYPOo1oCHoiG"
      },
      "source": [
        "* 파이썬에서 들여쓰기 방법은 공백(스페이스) 2칸, 4칸, 탭(tab) 등 여러 가지 방법이 있음"
      ]
    },
    {
      "cell_type": "markdown",
      "metadata": {
        "id": "QljE8nYtH0BF"
      },
      "source": [
        "## 코드 블록\n",
        "* 코드 블록은 특정한 동작을 위해서 코드가 모여 있는 상태를 뜻하며 파이썬은 들여쓰기를 기준으로 코드 블록을 구성"
      ]
    },
    {
      "cell_type": "code",
      "execution_count": null,
      "metadata": {
        "id": "XrZQPkuHHzwJ"
      },
      "outputs": [],
      "source": []
    },
    {
      "cell_type": "markdown",
      "metadata": {
        "id": "9UcAH-gTH56K"
      },
      "source": [
        "* 단, 같은 블록은 들여쓰기 칸 수가 같아야 함"
      ]
    },
    {
      "cell_type": "code",
      "execution_count": null,
      "metadata": {
        "id": "a0k69ILiHlUB"
      },
      "outputs": [],
      "source": []
    },
    {
      "cell_type": "code",
      "execution_count": null,
      "metadata": {
        "id": "hK-eOTs9IJW9"
      },
      "outputs": [],
      "source": []
    },
    {
      "cell_type": "markdown",
      "metadata": {
        "id": "G8XpY8sgISLJ"
      },
      "source": [
        "# 숫자 계산\n",
        "* 파이썬에서는 숫자의 자료형에 따라 결과가 달라질 수 있음\n",
        "* 파이썬에서는 숫자를 정수(int), 실수(float), 복소수(complex)로 구분\n",
        "* 보통 프로그래밍에서는 정수와 실수를 주로 사용"
      ]
    },
    {
      "cell_type": "markdown",
      "metadata": {
        "id": "i97SjYUHK3jb"
      },
      "source": [
        "## 정수 계산"
      ]
    },
    {
      "cell_type": "markdown",
      "metadata": {
        "id": "M3G0vtE3I7qn"
      },
      "source": [
        "### 사칙연산"
      ]
    },
    {
      "cell_type": "code",
      "execution_count": null,
      "metadata": {
        "colab": {
          "base_uri": "https://localhost:8080/"
        },
        "id": "JpLwO1miIb2m",
        "outputId": "7e8942d2-733a-45cb-a71e-c93f5472d863"
      },
      "outputs": [
        {
          "data": {
            "text/plain": [
              "2"
            ]
          },
          "execution_count": 11,
          "metadata": {},
          "output_type": "execute_result"
        }
      ],
      "source": [
        "# 덧셈\n",
        "1+1"
      ]
    },
    {
      "cell_type": "code",
      "execution_count": null,
      "metadata": {
        "colab": {
          "base_uri": "https://localhost:8080/"
        },
        "id": "lXsBZW5sIrk-",
        "outputId": "b31997c3-9c41-467d-b5e1-30edb4286ecf"
      },
      "outputs": [
        {
          "data": {
            "text/plain": [
              "-1"
            ]
          },
          "execution_count": 12,
          "metadata": {},
          "output_type": "execute_result"
        }
      ],
      "source": [
        "# 뺄셈\n",
        "2-3"
      ]
    },
    {
      "cell_type": "code",
      "execution_count": null,
      "metadata": {
        "colab": {
          "base_uri": "https://localhost:8080/"
        },
        "id": "d2YEcDToItgb",
        "outputId": "ef74dd36-d140-4248-8035-5afbecc62c6f"
      },
      "outputs": [
        {
          "data": {
            "text/plain": [
              "4"
            ]
          },
          "execution_count": 13,
          "metadata": {},
          "output_type": "execute_result"
        }
      ],
      "source": [
        "# 곱셈\n",
        "2*2"
      ]
    },
    {
      "cell_type": "code",
      "execution_count": null,
      "metadata": {
        "colab": {
          "base_uri": "https://localhost:8080/"
        },
        "id": "MZyyDveqIvHz",
        "outputId": "2cf65f9e-0c5a-4fae-c667-dcd9ff97f6ea"
      },
      "outputs": [
        {
          "data": {
            "text/plain": [
              "2.5"
            ]
          },
          "execution_count": 14,
          "metadata": {},
          "output_type": "execute_result"
        }
      ],
      "source": [
        "# 나눗셈\n",
        "5/2"
      ]
    },
    {
      "cell_type": "code",
      "execution_count": null,
      "metadata": {
        "colab": {
          "base_uri": "https://localhost:8080/"
        },
        "id": "EuggdRqRIwjc",
        "outputId": "be4813c4-a1b7-4bf0-b825-ae6e7fa13f43"
      },
      "outputs": [
        {
          "name": "stdout",
          "output_type": "stream",
          "text": [
            "<class 'float'>\n"
          ]
        }
      ],
      "source": [
        "# 실수인 것을 어떻게 알까?\n",
        "print(type(5/2))"
      ]
    },
    {
      "cell_type": "markdown",
      "metadata": {
        "id": "0h1wJT7EJSsJ"
      },
      "source": [
        "### 몫 (`//`) 연산자\n",
        "* 정수끼리 나눗셈 결과가 정수로 나오도록 해야할 때 //로 나눗셈을 하면 됨\n",
        "* `//`은 버림 나눗셈(floor division)이라고 부르며 나눗셈의 결과에서 소수점 이하는 버림"
      ]
    },
    {
      "cell_type": "code",
      "execution_count": null,
      "metadata": {
        "colab": {
          "base_uri": "https://localhost:8080/"
        },
        "id": "pV62h895JSQa",
        "outputId": "4859a27c-5454-466f-a029-0bbbab657f5d"
      },
      "outputs": [
        {
          "data": {
            "text/plain": [
              "(2, 2)"
            ]
          },
          "execution_count": 29,
          "metadata": {},
          "output_type": "execute_result"
        }
      ],
      "source": []
    },
    {
      "cell_type": "markdown",
      "metadata": {
        "id": "PxkAcQC0JpPn"
      },
      "source": [
        "* 참고로 실수에 // 연산자를 사용하면 결과는 실수가 나오며 소수점 이하는 버림.\n",
        "* 따라서 (연산자 앞뒤 숫자 중 하나라도 실수라면) 결과는 항상 `.0`으로 끝남"
      ]
    },
    {
      "cell_type": "code",
      "execution_count": null,
      "metadata": {
        "colab": {
          "base_uri": "https://localhost:8080/"
        },
        "id": "3oigA9Z2JnkL",
        "outputId": "da6ab2c3-84c7-4f2c-a6f3-d04d7243f30b"
      },
      "outputs": [
        {
          "data": {
            "text/plain": [
              "(2.0, 2.0, 1.0)"
            ]
          },
          "execution_count": 30,
          "metadata": {},
          "output_type": "execute_result"
        }
      ],
      "source": []
    },
    {
      "cell_type": "markdown",
      "metadata": {
        "id": "DISBYzalJ9qp"
      },
      "source": [
        "### 나머지 (`%`) 연산자"
      ]
    },
    {
      "cell_type": "code",
      "execution_count": null,
      "metadata": {
        "colab": {
          "base_uri": "https://localhost:8080/"
        },
        "id": "_Rmt9cfmKDM9",
        "outputId": "0b96dbe4-dc78-4e83-9b54-26ee0afa0e29"
      },
      "outputs": [
        {
          "data": {
            "text/plain": [
              "1"
            ]
          },
          "execution_count": 31,
          "metadata": {},
          "output_type": "execute_result"
        }
      ],
      "source": [
        "# 모듈로(modulo) 연산자\n",
        "\n"
      ]
    },
    {
      "cell_type": "markdown",
      "metadata": {
        "id": "wMW3EXGAKJ0l"
      },
      "source": [
        "### 거듭제곱 (`**`) 연산자"
      ]
    },
    {
      "cell_type": "code",
      "execution_count": null,
      "metadata": {
        "colab": {
          "base_uri": "https://localhost:8080/"
        },
        "id": "wOzl-PZAKHeT",
        "outputId": "38c6eebc-ac36-4109-ebec-24ce3c4e08f9"
      },
      "outputs": [
        {
          "data": {
            "text/plain": [
              "1024"
            ]
          },
          "execution_count": 16,
          "metadata": {},
          "output_type": "execute_result"
        }
      ],
      "source": [
        "2**10"
      ]
    },
    {
      "cell_type": "markdown",
      "metadata": {
        "id": "ZZgx8SDsKV83"
      },
      "source": [
        "### 값을 정수로 만들기\n",
        "* 계산 결과가 실수로 나왔을 때 강제로 정수로 만들어야 할 때는 int에 괄호를 붙이고 숫자 또는 계산식을 넣으면 됨\n",
        "* 특히 int에 문자열을 넣어도 정수로 만들 수 있음. 단, 정수로 된 문자열이라야 함\n",
        "\n",
        "```\n",
        "int(숫자)\n",
        "int(계산식)\n",
        "int('문자열')\n",
        "```"
      ]
    },
    {
      "cell_type": "code",
      "execution_count": null,
      "metadata": {
        "colab": {
          "base_uri": "https://localhost:8080/"
        },
        "id": "95zogp0ZKOAq",
        "outputId": "115bf9db-35c0-43d9-85c8-160c8c9be2fc"
      },
      "outputs": [
        {
          "data": {
            "text/plain": [
              "(3, 2, 10)"
            ]
          },
          "execution_count": 33,
          "metadata": {},
          "output_type": "execute_result"
        }
      ],
      "source": [
        "# int는 정수(integer)를 뜻하며 값을 정수로 만들어 줌 (소수점 이하는 버림)\n"
      ]
    },
    {
      "cell_type": "markdown",
      "metadata": {
        "id": "9in5eqasKroi"
      },
      "source": [
        "### 몫과 나머지 함께 구하기"
      ]
    },
    {
      "cell_type": "code",
      "execution_count": null,
      "metadata": {
        "colab": {
          "base_uri": "https://localhost:8080/"
        },
        "id": "M1bIF6YsKoJY",
        "outputId": "356a2e8b-40a9-4b04-b059-4b821fc4a1aa"
      },
      "outputs": [
        {
          "data": {
            "text/plain": [
              "(2, 1)"
            ]
          },
          "execution_count": 34,
          "metadata": {},
          "output_type": "execute_result"
        }
      ],
      "source": []
    },
    {
      "cell_type": "markdown",
      "metadata": {
        "id": "BD1O76ZHLu2J"
      },
      "source": [
        "## 실수 계산"
      ]
    },
    {
      "cell_type": "markdown",
      "metadata": {
        "id": "eBsE7rHvL2Ms"
      },
      "source": [
        "### 실수끼리의 계산"
      ]
    },
    {
      "cell_type": "code",
      "execution_count": null,
      "metadata": {
        "colab": {
          "base_uri": "https://localhost:8080/"
        },
        "id": "Yjb3OslqL39w",
        "outputId": "528c169f-45b8-4e82-f585-1168754dc1bf"
      },
      "outputs": [
        {
          "data": {
            "text/plain": [
              "5.6"
            ]
          },
          "execution_count": 18,
          "metadata": {},
          "output_type": "execute_result"
        }
      ],
      "source": [
        "# 실수끼리의 덧셈\n",
        "5.0 + 0.6"
      ]
    },
    {
      "cell_type": "code",
      "execution_count": null,
      "metadata": {
        "colab": {
          "base_uri": "https://localhost:8080/"
        },
        "id": "KL9BWk0gL5fh",
        "outputId": "27982124-1aec-486d-e9d8-10bd54b8e090"
      },
      "outputs": [
        {
          "data": {
            "text/plain": [
              "1.6"
            ]
          },
          "execution_count": 19,
          "metadata": {},
          "output_type": "execute_result"
        }
      ],
      "source": [
        "# 실수끼리의 뺄셈\n",
        "2 - 0.4"
      ]
    },
    {
      "cell_type": "code",
      "execution_count": null,
      "metadata": {
        "colab": {
          "base_uri": "https://localhost:8080/"
        },
        "id": "Oogn5JO3L6n8",
        "outputId": "e71f5a5c-86dc-4820-af7d-4608c12f2ab9"
      },
      "outputs": [
        {
          "data": {
            "text/plain": [
              "4.65"
            ]
          },
          "execution_count": 37,
          "metadata": {},
          "output_type": "execute_result"
        }
      ],
      "source": [
        "# 실수끼리의 곱셈\n"
      ]
    },
    {
      "cell_type": "code",
      "execution_count": null,
      "metadata": {
        "colab": {
          "base_uri": "https://localhost:8080/"
        },
        "id": "dnjKSfe2MDwO",
        "outputId": "1e8265c5-c77a-466b-d286-35beb8599090"
      },
      "outputs": [
        {
          "data": {
            "text/plain": [
              "1.7741935483870968"
            ]
          },
          "execution_count": 38,
          "metadata": {},
          "output_type": "execute_result"
        }
      ],
      "source": [
        "# 실수끼리의 나눗셈\n"
      ]
    },
    {
      "cell_type": "markdown",
      "metadata": {
        "id": "AqMMy-DQNDsA"
      },
      "source": [
        "### 실수와 정수 간의 계산\n",
        "* 실수와 정수를 함께 계산하면 표현 범위가 넓은 실수로 계산됨 (실수가 정수보다 표현 범위가 넓음)"
      ]
    },
    {
      "cell_type": "code",
      "execution_count": null,
      "metadata": {
        "colab": {
          "base_uri": "https://localhost:8080/"
        },
        "id": "ZbHqA1MaMFin",
        "outputId": "5b4cf44c-2c87-430d-c907-fe72347ce293"
      },
      "outputs": [
        {
          "data": {
            "text/plain": [
              "9.2"
            ]
          },
          "execution_count": 39,
          "metadata": {},
          "output_type": "execute_result"
        }
      ],
      "source": []
    },
    {
      "cell_type": "markdown",
      "metadata": {
        "id": "6cAVoZcaNaUQ"
      },
      "source": [
        "### 값을 실수로 만들기\n",
        "* `float`에 괄호를 붙이고 숫자 또는 계산식을 넣으면 됨\n",
        "* 특히 `float`에 문자열을 넣어도 실수로 만들 수 있음\n",
        "* 단, 실수 또는 정수로 된 문자열이라야 함\n",
        "```\n",
        "float(숫자)\n",
        "float(계산식)\n",
        "float('문자열')\n",
        "```"
      ]
    },
    {
      "cell_type": "code",
      "execution_count": null,
      "metadata": {
        "colab": {
          "base_uri": "https://localhost:8080/"
        },
        "id": "L67RYqxuNW6o",
        "outputId": "1f9b0d2a-d352-4aec-94e7-3b3e506fb61f"
      },
      "outputs": [
        {
          "data": {
            "text/plain": [
              "(5.0, 3.0, 5.3)"
            ]
          },
          "execution_count": 40,
          "metadata": {},
          "output_type": "execute_result"
        }
      ],
      "source": []
    },
    {
      "cell_type": "markdown",
      "metadata": {
        "id": "Fph9ADULNq_n"
      },
      "source": [
        "* `float`는 부동소수점(**float**ing point)에서 따왔으며 값을 실수로 만들어줌\n",
        "* 즉, 실수는 `float` 자료형"
      ]
    },
    {
      "cell_type": "code",
      "execution_count": null,
      "metadata": {
        "colab": {
          "base_uri": "https://localhost:8080/"
        },
        "id": "ujH30tMzNoEM",
        "outputId": "ec63ca4f-4fb4-477d-f027-5e76675d90d4"
      },
      "outputs": [
        {
          "data": {
            "text/plain": [
              "float"
            ]
          },
          "execution_count": 41,
          "metadata": {},
          "output_type": "execute_result"
        }
      ],
      "source": []
    },
    {
      "cell_type": "markdown",
      "metadata": {
        "id": "3Exm1k0DN9Hq"
      },
      "source": [
        "## 괄호 사용하기"
      ]
    },
    {
      "cell_type": "code",
      "execution_count": null,
      "metadata": {
        "colab": {
          "base_uri": "https://localhost:8080/"
        },
        "id": "PCobIGMMNu-8",
        "outputId": "ff2b61df-7ffe-4909-888a-3eb130b936b9"
      },
      "outputs": [
        {
          "data": {
            "text/plain": [
              "37"
            ]
          },
          "execution_count": 42,
          "metadata": {},
          "output_type": "execute_result"
        }
      ],
      "source": []
    },
    {
      "cell_type": "markdown",
      "metadata": {
        "id": "VKuGvEnnOGQI"
      },
      "source": [
        "* 만약 곱셈보다 덧셈을 먼저 계산하고 싶다면 덧셈 부분을 괄호로 묶어주면 됨"
      ]
    },
    {
      "cell_type": "code",
      "execution_count": null,
      "metadata": {
        "colab": {
          "base_uri": "https://localhost:8080/"
        },
        "id": "O89qrcdGOEsh",
        "outputId": "addea217-b1c7-4a7d-e75b-c078d8d6f104"
      },
      "outputs": [
        {
          "data": {
            "text/plain": [
              "72"
            ]
          },
          "execution_count": 43,
          "metadata": {},
          "output_type": "execute_result"
        }
      ],
      "source": []
    }
  ],
  "metadata": {
    "colab": {
      "collapsed_sections": [
        "9-iQOaZAD1G6",
        "_Atv2gDrEgGG",
        "rLb7LdJHFNbj",
        "ibBnEPLRGcpM",
        "QljE8nYtH0BF",
        "i97SjYUHK3jb",
        "M3G0vtE3I7qn",
        "0h1wJT7EJSsJ",
        "DISBYzalJ9qp",
        "wMW3EXGAKJ0l",
        "ZZgx8SDsKV83",
        "9in5eqasKroi",
        "AqMMy-DQNDsA",
        "6cAVoZcaNaUQ",
        "3Exm1k0DN9Hq"
      ],
      "include_colab_link": true,
      "provenance": []
    },
    "kernelspec": {
      "display_name": "Python 3",
      "name": "python3"
    },
    "language_info": {
      "name": "python"
    }
  },
  "nbformat": 4,
  "nbformat_minor": 0
}
