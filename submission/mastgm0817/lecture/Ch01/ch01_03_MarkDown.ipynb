{
  "nbformat": 4,
  "nbformat_minor": 0,
  "metadata": {
    "colab": {
      "provenance": [],
      "authorship_tag": "ABX9TyNz89w/4ek1H7M25mNnWqfb",
      "include_colab_link": true
    },
    "kernelspec": {
      "name": "python3",
      "display_name": "Python 3"
    },
    "language_info": {
      "name": "python"
    }
  },
  "cells": [
    {
      "cell_type": "markdown",
      "metadata": {
        "id": "view-in-github",
        "colab_type": "text"
      },
      "source": [
        "<a href=\"https://colab.research.google.com/github/mastgm0817/Python/blob/main/submission/mastgm0817/lecture/ch01_03_MarkDown.ipynb\" target=\"_parent\"><img src=\"https://colab.research.google.com/assets/colab-badge.svg\" alt=\"Open In Colab\"/></a>"
      ]
    },
    {
      "cell_type": "code",
      "execution_count": null,
      "metadata": {
        "id": "sdl1b4si5yc_"
      },
      "outputs": [],
      "source": []
    },
    {
      "cell_type": "markdown",
      "source": [
        "# 제목 (Headline)\n",
        "## 2단계 제목\n",
        "### 3단계 제목\n",
        "#### 4단계\n",
        "##### 5단계\n"
      ],
      "metadata": {
        "id": "UfVeZWB46OVW"
      }
    },
    {
      "cell_type": "markdown",
      "source": [
        "수평선\n",
        "--- \n",
        "텍스트에 '---' 바로 붙이면 '#' 효과\n",
        "\n",
        "한 줄 띄우고 ---하면 수평선이 만들어짐\n",
        "\n",
        "---"
      ],
      "metadata": {
        "id": "JH6aUDN56ZW-"
      }
    },
    {
      "cell_type": "markdown",
      "source": [
        "줄바꿈 줄바꿈<br>"
      ],
      "metadata": {
        "id": "n98e7xGa6022"
      }
    },
    {
      "cell_type": "markdown",
      "source": [
        "**굵게**\n",
        "*기울게*\n",
        "__굵게__\n",
        "_기울게_\n",
        "~~취소선~~\n"
      ],
      "metadata": {
        "id": "wNIHFW8r69rS"
      }
    },
    {
      "cell_type": "markdown",
      "source": [
        ">인용문\n",
        ">> 인용문 안에 인용문\n",
        ">>> 인용문 안에 인용문 안에 인용문"
      ],
      "metadata": {
        "id": "XkFHkFIV7H36"
      }
    },
    {
      "cell_type": "markdown",
      "source": [
        "순서가 없는 리스트\n",
        "* 사과\n",
        "* 배\n",
        "* 자두\n",
        "\n",
        "순서가 있는 리스트1\n",
        "1. 파이썬\n",
        "2. 자바\n",
        "3. SQL\n",
        "\n",
        "순서가 있는 리스트2 (1.로 계속 써도 알아서 순서를 잡아준다)\n",
        "1. 파이썬\n",
        "1. 자바\n",
        "1. SQL\n",
        "\n",
        "들여쓰기\n",
        "* 사과\n",
        "  * 껍질\n",
        "    * 볶음\n",
        "\n",
        "* 위\n",
        "        아래(Tab x 4) - 코드블럭 만들어짐\n",
        "코드블럭이란?\n",
        "- 저 코드블럭 안에서는 마크다운 문법이 무시됨\n",
        "\n",
        "\n",
        "\n",
        "  \n",
        "  \n",
        "\n",
        "\n",
        "\n",
        "\n"
      ],
      "metadata": {
        "id": "Pc_SmPet7Uk5"
      }
    },
    {
      "cell_type": "markdown",
      "source": [
        "코드 블록\n",
        "\n",
        "한 줄 코드\n",
        "`print('hello world')` - 음영처리\n",
        "\n",
        "여러줄 코드 블록\n",
        "```\n",
        "print(\"hello\")\n",
        "print(\"hello\")\n",
        "```"
      ],
      "metadata": {
        "id": "TrLZkXY28R6r"
      }
    },
    {
      "cell_type": "markdown",
      "source": [
        "#테이블\n",
        "\n",
        "|제목|작가|출판일|\n",
        "|-|-|-|\n",
        "|장발장|변영인|2022|\n",
        "|파이썬|인영변|2022|\n",
        "|코드잇|영변인|2022|\n",
        "\n",
        "기본적으로 중앙정렬\n",
        "정렬기준을 바꾸려면\n",
        ": 를 넣으면 된다\n",
        "\n",
        "|제목|작가|출판일|\n",
        "|:-|-:|-:|\n",
        "|장발장|변영인|2022|\n",
        "|파이썬|인영변|2022|\n",
        "|코드잇|영변인|2022|\n",
        "\n"
      ],
      "metadata": {
        "id": "_3Lv9mTn8vQz"
      }
    },
    {
      "cell_type": "markdown",
      "source": [
        "[링크](https://naver.com)\n",
        "\n",
        "![이미지에 대한 설명]()"
      ],
      "metadata": {
        "id": "_khjU1jW9cih"
      }
    },
    {
      "cell_type": "markdown",
      "source": [
        "- [ ] 체크박스\n",
        "\n",
        "- [x] 체크된 체크박스\n",
        "\n",
        "latex"
      ],
      "metadata": {
        "id": "ALeYgzed-CGX"
      }
    }
  ]
}