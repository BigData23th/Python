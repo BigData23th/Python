{
  "nbformat": 4,
  "nbformat_minor": 0,
  "metadata": {
    "colab": {
      "provenance": [],
      "authorship_tag": "ABX9TyOiQ1gqq0hmy9hlzBT1DeqP",
      "include_colab_link": true
    },
    "kernelspec": {
      "name": "python3",
      "display_name": "Python 3"
    },
    "language_info": {
      "name": "python"
    }
  },
  "cells": [
    {
      "cell_type": "markdown",
      "metadata": {
        "id": "view-in-github",
        "colab_type": "text"
      },
      "source": [
        "<a href=\"https://colab.research.google.com/github/mastgm0817/Python/blob/main/submission/mastgm0817/lecture/numpy_%EC%97%B0%EC%8A%B5.ipynb\" target=\"_parent\"><img src=\"https://colab.research.google.com/assets/colab-badge.svg\" alt=\"Open In Colab\"/></a>"
      ]
    },
    {
      "cell_type": "code",
      "execution_count": null,
      "metadata": {
        "colab": {
          "base_uri": "https://localhost:8080/"
        },
        "id": "vh5hvt1Jysxd",
        "outputId": "c8e8dc88-f74f-49be-ad52-0c5628e08c92"
      },
      "outputs": [
        {
          "output_type": "stream",
          "name": "stdout",
          "text": [
            "[[1 2 3 4]\n",
            " [5 7 8 9]\n",
            " [1 2 3 4]]\n",
            "(3, 4)\n"
          ]
        }
      ],
      "source": [
        "import numpy as np\n",
        "array1 = np.array([2,3,4,5,6,7,7,8,9])\n",
        "array2 = np.array([[1,2,3,4],[5,7,8,9],[1,2,3,4]])\n",
        "print(array2)\n",
        "print(array2.shape) # 3행 4열의 배열\n",
        "\n"
      ]
    },
    {
      "cell_type": "code",
      "source": [
        "import numpy as np\n",
        "\n",
        "array1 = np.array([[1,2,3,4],[5,6,7,8],[9,10,11,12]]) # numpy 배열 생성\n",
        "\n",
        "print(array1)\n",
        "\n",
        "array1.shape # numpy 배열의 차원을 알려줌\n",
        "\n"
      ],
      "metadata": {
        "colab": {
          "base_uri": "https://localhost:8080/"
        },
        "id": "KY8ff7eNemfg",
        "outputId": "0daa749a-f82d-4085-b7c7-600cc07ca305"
      },
      "execution_count": 3,
      "outputs": [
        {
          "output_type": "stream",
          "name": "stdout",
          "text": [
            "[[ 1  2  3  4]\n",
            " [ 5  6  7  8]\n",
            " [ 9 10 11 12]]\n"
          ]
        },
        {
          "output_type": "execute_result",
          "data": {
            "text/plain": [
              "(3, 4)"
            ]
          },
          "metadata": {},
          "execution_count": 3
        }
      ]
    },
    {
      "cell_type": "code",
      "source": [
        "import numpy as np\n",
        "\n",
        "array1 = np.arange(1,101)\n",
        "print(array1)\n"
      ],
      "metadata": {
        "colab": {
          "base_uri": "https://localhost:8080/"
        },
        "id": "W40xMp02f2V_",
        "outputId": "86457788-914d-46c5-f168-ec38b33afe8e"
      },
      "execution_count": 5,
      "outputs": [
        {
          "output_type": "stream",
          "name": "stdout",
          "text": [
            "[  1   2   3   4   5   6   7   8   9  10  11  12  13  14  15  16  17  18\n",
            "  19  20  21  22  23  24  25  26  27  28  29  30  31  32  33  34  35  36\n",
            "  37  38  39  40  41  42  43  44  45  46  47  48  49  50  51  52  53  54\n",
            "  55  56  57  58  59  60  61  62  63  64  65  66  67  68  69  70  71  72\n",
            "  73  74  75  76  77  78  79  80  81  82  83  84  85  86  87  88  89  90\n",
            "  91  92  93  94  95  96  97  98  99 100]\n"
          ]
        },
        {
          "output_type": "execute_result",
          "data": {
            "text/plain": [
              "(100,)"
            ]
          },
          "metadata": {},
          "execution_count": 5
        }
      ]
    },
    {
      "cell_type": "code",
      "source": [
        "import numpy as np\n",
        "\n",
        "array1 = np.arange(3,101,3)\n",
        "array1"
      ],
      "metadata": {
        "colab": {
          "base_uri": "https://localhost:8080/"
        },
        "id": "hu8LUqWHgOrv",
        "outputId": "32d08b28-93e4-4778-c261-973e90a7f607"
      },
      "execution_count": 6,
      "outputs": [
        {
          "output_type": "execute_result",
          "data": {
            "text/plain": [
              "array([ 3,  6,  9, 12, 15, 18, 21, 24, 27, 30, 33, 36, 39, 42, 45, 48, 51,\n",
              "       54, 57, 60, 63, 66, 69, 72, 75, 78, 81, 84, 87, 90, 93, 96, 99])"
            ]
          },
          "metadata": {},
          "execution_count": 6
        }
      ]
    },
    {
      "cell_type": "code",
      "source": [
        "import numpy as np\n",
        "array1 = np.array([2,3,5,6,7,8,9,20,33])\n",
        "array1[0]\n",
        "array1[2]\n",
        "array1[:-1] # 인덱스 마지막 원소를 제외하고 모두 출력\n",
        "array1[[1,3,4]] #인덱스 번호에 해당하는 값이 출력됨\n",
        "array1[0:7] #처음부터 인덱스 7번까지 출력\n",
        "array1[:7] #결과는 위와 같음\n",
        "array1[2:11:2] #2번 인덱스부터 시작하여 2개씩 건너뛰어 값 출력"
      ],
      "metadata": {
        "colab": {
          "base_uri": "https://localhost:8080/"
        },
        "id": "oJsQs3i9q3MB",
        "outputId": "6d08d070-c82e-47c4-8f36-b17a29b5c624"
      },
      "execution_count": 13,
      "outputs": [
        {
          "output_type": "execute_result",
          "data": {
            "text/plain": [
              "array([ 5,  7,  9, 33])"
            ]
          },
          "metadata": {},
          "execution_count": 13
        }
      ]
    },
    {
      "cell_type": "code",
      "source": [
        "import numpy as np\n",
        "array1 = [0,1,2,3,4,5,6,7,8,9,10]\n",
        "array2 = np.arange(0,11)\n",
        "array3 = np.arange(0,11)\n",
        "\n",
        "#numpy를 쓰는 이유? 연산의 간편함\n",
        "# 예제 1. numpy를 사용하지 않고 배열의 연산\n",
        "\n",
        "for i in range(len(array1)):\n",
        "  array1[i] = 2 * array1[i]\n",
        "print(array1)\n",
        "\n",
        "# 예제 2. numpy를 사용해서 배열의 연산\n",
        "\n",
        "array2 = 2 * array2\n",
        "print(array2)\n",
        "\n",
        "\n",
        "array3 * 2\n",
        "array3 + 2\n",
        "array1 + array3 # 주의! array 사이즈가 다르면 연산이 안된다."
      ],
      "metadata": {
        "colab": {
          "base_uri": "https://localhost:8080/"
        },
        "id": "-rRUP29TsCig",
        "outputId": "4695e5f7-1c7f-4259-827b-435367f35447"
      },
      "execution_count": 21,
      "outputs": [
        {
          "output_type": "stream",
          "name": "stdout",
          "text": [
            "[0, 2, 4, 6, 8, 10, 12, 14, 16, 18, 20]\n",
            "[ 0  2  4  6  8 10 12 14 16 18 20]\n"
          ]
        },
        {
          "output_type": "execute_result",
          "data": {
            "text/plain": [
              "array([ 0,  3,  6,  9, 12, 15, 18, 21, 24, 27, 30])"
            ]
          },
          "metadata": {},
          "execution_count": 21
        }
      ]
    },
    {
      "cell_type": "code",
      "source": [
        "import numpy as np\n",
        "\n",
        "# numpy Boolean 연산법\n",
        "\n",
        "array1 =  np.arange(1,11)\n",
        "array1 > 4 # array1 원소중에 4보다 큰 값은 True로 \n",
        "\n",
        "array1 % 2 == 0 # array1 원소중에 짝수인 애들만\n",
        "\n",
        "booleans = np.array([True,True,False,True,False,False,True,True,False,False])\n",
        "\n",
        "np.where(booleans)\n",
        "np.where(array1>4) #array1에서 4보다 큰 값이 있는 인덱스만 불러옴"
      ],
      "metadata": {
        "colab": {
          "base_uri": "https://localhost:8080/"
        },
        "id": "KuyBw1fQzXtr",
        "outputId": "5f29a8fd-e637-4dc5-a78e-725355f73f41"
      },
      "execution_count": 28,
      "outputs": [
        {
          "output_type": "execute_result",
          "data": {
            "text/plain": [
              "(array([4, 5, 6, 7, 8, 9]),)"
            ]
          },
          "metadata": {},
          "execution_count": 28
        }
      ]
    },
    {
      "cell_type": "code",
      "source": [
        "numbers = [1,2,3,4,5]\n",
        "number = map(lambda x: x**2, numbers)\n",
        "print(type(number))\n",
        "\n",
        "strings = [\"1\",\"2\",\"3\",\"4\"]\n",
        "string = map(int, strings) #리스트 자료형으로 반환해주기때문에 리스트형으로 형변환을 해줘야한다.\n",
        "string = list(map(int, strings))\n",
        "print(string) \n",
        "\n",
        "x, y = map(int, input(\"숫자를 입력하세요.\").split())\n",
        "sum = x + y\n",
        "sum\n",
        "\n",
        "# to be continued"
      ],
      "metadata": {
        "colab": {
          "base_uri": "https://localhost:8080/"
        },
        "id": "o7-Lk1XB_dbp",
        "outputId": "fae685a4-679f-4123-abdd-09841ec8eb38"
      },
      "execution_count": 42,
      "outputs": [
        {
          "name": "stdout",
          "output_type": "stream",
          "text": [
            "<class 'map'>\n",
            "[1, 2, 3, 4]\n",
            "숫자를 입력하세요.5 10\n"
          ]
        },
        {
          "output_type": "execute_result",
          "data": {
            "text/plain": [
              "15"
            ]
          },
          "metadata": {},
          "execution_count": 42
        }
      ]
    }
  ]
}