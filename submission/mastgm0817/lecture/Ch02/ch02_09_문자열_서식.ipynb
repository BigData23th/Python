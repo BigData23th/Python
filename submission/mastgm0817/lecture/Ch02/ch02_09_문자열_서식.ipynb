{
  "nbformat": 4,
  "nbformat_minor": 0,
  "metadata": {
    "colab": {
      "provenance": [],
      "include_colab_link": true
    },
    "kernelspec": {
      "name": "python3",
      "display_name": "Python 3"
    },
    "language_info": {
      "name": "python"
    }
  },
  "cells": [
    {
      "cell_type": "markdown",
      "metadata": {
        "id": "view-in-github",
        "colab_type": "text"
      },
      "source": [
        "<a href=\"https://colab.research.google.com/github/mastgm0817/Python/blob/main/submission/mastgm0817/lecture/Ch02/ch02_09_%EB%AC%B8%EC%9E%90%EC%97%B4_%EC%84%9C%EC%8B%9D.ipynb\" target=\"_parent\"><img src=\"https://colab.research.google.com/assets/colab-badge.svg\" alt=\"Open In Colab\"/></a>"
      ]
    },
    {
      "cell_type": "markdown",
      "source": [
        "# 문자열 서식"
      ],
      "metadata": {
        "id": "QiBSq5Bq143A"
      }
    },
    {
      "cell_type": "markdown",
      "source": [
        "파이썬에서 문자열 포맷팅을 할 때는 f-string, format 메소드, 서식 지정자를 사용할 수 있습니다."
      ],
      "metadata": {
        "id": "wegxJ51w16PT"
      }
    },
    {
      "cell_type": "markdown",
      "source": [
        "## f-string"
      ],
      "metadata": {
        "id": "N0-o1WfZ1_n_"
      }
    },
    {
      "cell_type": "markdown",
      "source": [
        "f-string은 파이썬 3.6 이후부터 사용 가능한 문자열 포맷팅 방법 중 하나입니다. f-string을 사용하면 문자열 안에서 변수의 값을 간단하게 삽입할 수 있으며, 이를 통해 가독성과 코드 작성의 편의성이 크게 향상됩니다."
      ],
      "metadata": {
        "id": "hiZyEX3h2CfD"
      }
    },
    {
      "cell_type": "code",
      "source": [
        "age = 25\n",
        "name = \"Alice\"\n",
        "height = 175.5"
      ],
      "metadata": {
        "id": "7LdrQRSiO5AS"
      },
      "execution_count": 2,
      "outputs": []
    },
    {
      "cell_type": "code",
      "execution_count": 15,
      "metadata": {
        "colab": {
          "base_uri": "https://localhost:8080/"
        },
        "id": "yALOnLZtvlNp",
        "outputId": "7e12d0e7-0163-4ef5-c73d-e13386acde06"
      },
      "outputs": [
        {
          "output_type": "stream",
          "name": "stdout",
          "text": [
            "이름: Alice, 나이 25세\n",
            "25\n",
            "0000000025\n",
            "+000000025\n",
            "0000000025\n",
            "175.50\n",
            "0000175.50\n"
          ]
        }
      ],
      "source": [
        "print(f'이름: {name}, 나이 {age}세')\n",
        "print(f'{age}')\n",
        "print(f'{age:010d}')\n",
        "print(f'{age:+010d}')\n",
        "print(f'{age:-010d}')\n",
        "print(f'{height:0.2f}')\n",
        "print(f'{height:010.2f}')\n"
      ]
    },
    {
      "cell_type": "markdown",
      "source": [
        "### format 메소드"
      ],
      "metadata": {
        "id": "AHUelcsL2IRR"
      }
    },
    {
      "cell_type": "code",
      "source": [
        "age = 25\n",
        "name = \"Alice\"\n",
        "height = 175.5\n",
        "formated_string = \"이름: {}, 나이: {}세\".format(name, age)\n",
        "# print(\"{}\").format(age)\n",
        "# print(\"{:10d}\").format(age)\n",
        "# print(\"{:+10d}\").format(age)\n",
        "# print(\"{:0.2f}\").format(height)\n",
        "# print(\"{:010.2f}\").format(height)\n",
        "print(formated_string)"
      ],
      "metadata": {
        "colab": {
          "base_uri": "https://localhost:8080/"
        },
        "id": "Gr_6JVoN2FCu",
        "outputId": "ce14b7b5-76e0-4444-eb17-02ce0f72d847"
      },
      "execution_count": 18,
      "outputs": [
        {
          "output_type": "stream",
          "name": "stdout",
          "text": [
            "이름: Alice, 나이: 25세\n"
          ]
        }
      ]
    },
    {
      "cell_type": "markdown",
      "source": [
        "### 서식 지정자"
      ],
      "metadata": {
        "id": "kubSFPUy2P18"
      }
    },
    {
      "cell_type": "markdown",
      "source": [
        "서식 지정자는 문자열 포맷팅에서 사용하는 기호로, 변수의 값을 특정한 형식으로 표현할 때 사용됩니다. 서식 지정자는 % 기호를 사용하여 문자열에 삽입합니다."
      ],
      "metadata": {
        "id": "TC8qXJoh2Rlg"
      }
    },
    {
      "cell_type": "code",
      "source": [
        "a = \"%d\" %age\n",
        "print(a)"
      ],
      "metadata": {
        "colab": {
          "base_uri": "https://localhost:8080/"
        },
        "id": "Q9CEispz2MsF",
        "outputId": "41e66db5-a889-4ed1-ba19-8b94095148aa"
      },
      "execution_count": 25,
      "outputs": [
        {
          "output_type": "stream",
          "name": "stdout",
          "text": [
            "25\n"
          ]
        }
      ]
    },
    {
      "cell_type": "markdown",
      "source": [
        "## 서식 문자"
      ],
      "metadata": {
        "id": "aAsDwVk027Z1"
      }
    },
    {
      "cell_type": "markdown",
      "source": [
        "서식 지정자에서는 %s, %d, %f 등의 서식 문자를 사용하여 출력할 값의 데이터 타입을 지정할 수 있습니다. 이 서식 문자를 사용하여 문자열, 숫자, 소수점 등을 출력할 수 있습니다. 서식 문자는 f-string, format 메소드 등에서도 활용할 수 있습니다. (%s는 기본값이라 생략됨)\n",
        "\n",
        "%d와 %f를 사용할 때는 정수형 변수와 실수형 변수를 출력할 수 있으며, %s는 문자열 변수를 출력합니다. 이때 %s를 사용할 경우, 변수의 데이터 타입과 상관없이 모든 값을 출력할 수 있습니다."
      ],
      "metadata": {
        "id": "Rk8xmil13AUh"
      }
    },
    {
      "cell_type": "code",
      "source": [
        "# %s : 문자열을 출력할 때 사용합니다.\n",
        "a = \"%s\" %name\n",
        "a"
      ],
      "metadata": {
        "colab": {
          "base_uri": "https://localhost:8080/",
          "height": 35
        },
        "id": "a7HrNqpa2WHX",
        "outputId": "501b0ddb-95b4-43a0-e8d6-e6e2d3262dd0"
      },
      "execution_count": 27,
      "outputs": [
        {
          "output_type": "execute_result",
          "data": {
            "text/plain": [
              "'Alice'"
            ],
            "application/vnd.google.colaboratory.intrinsic+json": {
              "type": "string"
            }
          },
          "metadata": {},
          "execution_count": 27
        }
      ]
    },
    {
      "cell_type": "code",
      "source": [
        "# %d : 10진수 정수를 출력할 때 사용합니다.\n",
        "a = \"%d\" %age\n",
        "a"
      ],
      "metadata": {
        "colab": {
          "base_uri": "https://localhost:8080/",
          "height": 35
        },
        "id": "_szPQML_3Q5G",
        "outputId": "45c2085c-e4e2-4d4e-d1d5-05c5f16508d2"
      },
      "execution_count": 29,
      "outputs": [
        {
          "output_type": "execute_result",
          "data": {
            "text/plain": [
              "'25'"
            ],
            "application/vnd.google.colaboratory.intrinsic+json": {
              "type": "string"
            }
          },
          "metadata": {},
          "execution_count": 29
        }
      ]
    },
    {
      "cell_type": "code",
      "source": [
        "# %f : 실수를 출력할 때 사용합니다. 기본적으로 소수점 이하 6자리까지 출력됩니다.\n",
        "a = \"%f\" %height"
      ],
      "metadata": {
        "id": "4uUnI1DK3UXF"
      },
      "execution_count": 30,
      "outputs": []
    },
    {
      "cell_type": "markdown",
      "source": [
        "서식 문자를 사용하여 출력할 값의 자리수를 지정할 수도 있습니다. 자리수를 지정하면 해당 자리수만큼 출력되며, 값의 길이가 자리수보다 작으면 빈 칸이 채워집니다."
      ],
      "metadata": {
        "id": "VrTFs87K3ZbS"
      }
    },
    {
      "cell_type": "code",
      "source": [
        "# %[너비]d : [너비] 자리에 출력할 숫자의 자리수를 지정합니다.\n",
        "b = 123\n",
        "\n",
        "print(\"%010d\" %b)\n",
        "print(\"%+010d\" %b)\n",
        "print(\"%5d\" %b)\n",
        "print(\"%-5d\" %b)"
      ],
      "metadata": {
        "colab": {
          "base_uri": "https://localhost:8080/"
        },
        "id": "VzvSd8n23Xyj",
        "outputId": "eab6a899-3b5c-46c0-9bcd-6a772465d508"
      },
      "execution_count": 34,
      "outputs": [
        {
          "output_type": "stream",
          "name": "stdout",
          "text": [
            "0000000123\n",
            "+000000123\n",
            "  123\n",
            "123  \n"
          ]
        }
      ]
    },
    {
      "cell_type": "code",
      "source": [
        "# %[너비].[정밀도]f : [너비] 자리에 출력할 숫자의 자리수를, [정밀도] 자리에 출력할 소수점 이하 자리수를 지정합니다.\n"
      ],
      "metadata": {
        "colab": {
          "base_uri": "https://localhost:8080/"
        },
        "id": "aZL70I7S3ceb",
        "outputId": "7499d391-f18a-470b-aeb2-1268f4f5569d"
      },
      "execution_count": null,
      "outputs": [
        {
          "output_type": "stream",
          "name": "stdout",
          "text": [
            "3.141593\n",
            "3.14\n",
            "      3.14\n",
            "0000003.14\n",
            "3.14      \n",
            "     +3.14\n"
          ]
        }
      ]
    }
  ]
}