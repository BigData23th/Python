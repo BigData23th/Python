{
  "nbformat": 4,
  "nbformat_minor": 0,
  "metadata": {
    "colab": {
      "provenance": [],
      "include_colab_link": true
    },
    "kernelspec": {
      "name": "python3",
      "display_name": "Python 3"
    },
    "language_info": {
      "name": "python"
    }
  },
  "cells": [
    {
      "cell_type": "markdown",
      "metadata": {
        "id": "view-in-github",
        "colab_type": "text"
      },
      "source": [
        "<a href=\"https://colab.research.google.com/github/mastgm0817/Python/blob/main/submission/mastgm0817/lecture/Ch02/ch02_05_%EB%94%95%EC%85%94%EB%84%88%EB%A6%AC.ipynb\" target=\"_parent\"><img src=\"https://colab.research.google.com/assets/colab-badge.svg\" alt=\"Open In Colab\"/></a>"
      ]
    },
    {
      "cell_type": "markdown",
      "source": [
        "# 딕셔너리"
      ],
      "metadata": {
        "id": "5_1D4gsPECsO"
      }
    },
    {
      "cell_type": "markdown",
      "source": [
        "지금까지 살펴봤던 리스트와 튜플은 값 여러 개를 일렬로 저장할 뿐 값끼리 연관 관계가 없었습니다. 예를 들어 게임 캐릭터의 능력치를 리스트에 저장해보겠습니다."
      ],
      "metadata": {
        "id": "kareiFOzEJY8"
      }
    },
    {
      "cell_type": "code",
      "execution_count": 2,
      "metadata": {
        "id": "_3HKSboNDxcu"
      },
      "outputs": [],
      "source": [
        "lux = {\n",
        "    \"health\":490,\n",
        "    \"mana\":334,\n",
        "    \"melee\":550,\n",
        "    \"armor\":18.72\n",
        "}"
      ]
    },
    {
      "cell_type": "markdown",
      "source": [
        "리스트 lux에서 인덱스 0은 체력, 인덱스 1은 마나, 인덱스 2는 사거리, 인덱스 3은 방어력이라고 했을 때 리스트만 봐서는 각 값이 어떤 능력치인지 쉽게 알기가 힘듭니다.\n",
        "\n",
        "파이썬에서는 연관된 값을 묶어서 저장하는 용도로 딕셔너리라는 자료형을 제공합니다. 그럼 게임 캐릭터의 능력치를 딕셔너리에 저장해보겠습니다."
      ],
      "metadata": {
        "id": "L6E3GgYOENay"
      }
    },
    {
      "cell_type": "code",
      "source": [
        "lux"
      ],
      "metadata": {
        "id": "DRjkOHyKELs0",
        "colab": {
          "base_uri": "https://localhost:8080/"
        },
        "outputId": "99085395-91c8-4a34-efff-a2e88a9ea3c2"
      },
      "execution_count": 3,
      "outputs": [
        {
          "output_type": "execute_result",
          "data": {
            "text/plain": [
              "{'health': 490, 'mana': 334, 'melee': 550, 'armor': 18.72}"
            ]
          },
          "metadata": {},
          "execution_count": 3
        }
      ]
    },
    {
      "cell_type": "markdown",
      "source": [
        "이제 딕셔너리만 봐도 lux라는 캐릭터의 체력(health)은 490, 마나(mana)는 334, 사거리(melee)는 550, 방어력(armor)은 18.72라는 것을 쉽게 알 수 있습니다. 이처럼 딕셔너리는 값마다 이름을 붙여서 저장하는 방식입니다.\n",
        "\n",
        "즉, 사전(dictionary)에서 단어를 찾듯이 값을 가져올 수 있다고 하여 딕셔너리라고 부릅니다.\n",
        "\n",
        "이번 유닛부터 딕셔너리를 만드는 방법과 기본 사용 방법을 알아보겠습니다."
      ],
      "metadata": {
        "id": "cC3FK2B2EQIJ"
      }
    },
    {
      "cell_type": "markdown",
      "source": [
        "## 딕셔너리 만들기"
      ],
      "metadata": {
        "id": "zbfwD9ufEUqi"
      }
    },
    {
      "cell_type": "markdown",
      "source": [
        "딕셔너리는 { }(중괄호) 안에 키: 값 형식으로 저장하며 각 키와 값은 ,(콤마)로 구분해줍니다.\n",
        "\n",
        "* `딕셔너리 = {키1: 값1, 키2: 값2}`"
      ],
      "metadata": {
        "id": "IRYM7mh5EXCk"
      }
    },
    {
      "cell_type": "code",
      "source": [
        "# 그럼 키와 값이 4개씩 들어있는 딕셔너리를 만들어보겠습니다.\n",
        "ability = {'health': 500, 'mana': 350, \"attack\": 50, \"defence\":20}\n",
        "ability"
      ],
      "metadata": {
        "colab": {
          "base_uri": "https://localhost:8080/"
        },
        "id": "cmWs27ZREPgi",
        "outputId": "3b3a5e6a-ac2b-4d04-df49-08f602649f55"
      },
      "execution_count": 6,
      "outputs": [
        {
          "output_type": "execute_result",
          "data": {
            "text/plain": [
              "{'health': 500, 'mana': 350, 'attack': 50, 'defence': 20}"
            ]
          },
          "metadata": {},
          "execution_count": 6
        }
      ]
    },
    {
      "cell_type": "markdown",
      "source": [
        "딕셔너리는 키를 먼저 지정하고 :(콜론)을 붙여서 값을 표현합니다. 특히 키에는 값을 하나만 지정할 수 있으며 이런 특성을 따서 키-값 쌍(key-value pair)이라 부릅니다(키-값은 1:1 대응)."
      ],
      "metadata": {
        "id": "H4rbhhUfExpO"
      }
    },
    {
      "cell_type": "code",
      "source": [
        "ability['health']"
      ],
      "metadata": {
        "colab": {
          "base_uri": "https://localhost:8080/"
        },
        "id": "sjTj5xw8DAHl",
        "outputId": "ad925a53-bf9b-4523-9141-bde41849a360"
      },
      "execution_count": 7,
      "outputs": [
        {
          "output_type": "execute_result",
          "data": {
            "text/plain": [
              "500"
            ]
          },
          "metadata": {},
          "execution_count": 7
        }
      ]
    },
    {
      "cell_type": "markdown",
      "source": [
        "### 키 이름이 중복되면?"
      ],
      "metadata": {
        "id": "TPkyl8YPEzjT"
      }
    },
    {
      "cell_type": "code",
      "source": [],
      "metadata": {
        "colab": {
          "base_uri": "https://localhost:8080/",
          "height": 166
        },
        "id": "5vqexJh1Ectd",
        "outputId": "444790f5-e0f4-45da-b00a-c136df5a8cb2"
      },
      "execution_count": 4,
      "outputs": [
        {
          "output_type": "error",
          "ename": "NameError",
          "evalue": "ignored",
          "traceback": [
            "\u001b[0;31m---------------------------------------------------------------------------\u001b[0m",
            "\u001b[0;31mNameError\u001b[0m                                 Traceback (most recent call last)",
            "\u001b[0;32m<ipython-input-4-1e1d832352ab>\u001b[0m in \u001b[0;36m<module>\u001b[0;34m\u001b[0m\n\u001b[0;32m----> 1\u001b[0;31m \u001b[0mlux\u001b[0m\u001b[0;34m[\u001b[0m\u001b[0mhealth\u001b[0m\u001b[0;34m]\u001b[0m\u001b[0;34m\u001b[0m\u001b[0;34m\u001b[0m\u001b[0m\n\u001b[0m",
            "\u001b[0;31mNameError\u001b[0m: name 'health' is not defined"
          ]
        }
      ]
    },
    {
      "cell_type": "code",
      "source": [
        "ability['health'] = 800\n",
        "ability"
      ],
      "metadata": {
        "colab": {
          "base_uri": "https://localhost:8080/"
        },
        "id": "MuYYzco0E5Lb",
        "outputId": "85c57a50-58f8-4ba9-8b5c-7e4d6ad84870"
      },
      "execution_count": 8,
      "outputs": [
        {
          "output_type": "execute_result",
          "data": {
            "text/plain": [
              "{'health': 800, 'mana': 350, 'attack': 50, 'defence': 20}"
            ]
          },
          "metadata": {},
          "execution_count": 8
        }
      ]
    },
    {
      "cell_type": "markdown",
      "source": [
        "### 딕셔너리 키의 자료형"
      ],
      "metadata": {
        "id": "TOB_9hDlE_j7"
      }
    },
    {
      "cell_type": "markdown",
      "source": [
        "딕셔너리의 키는 문자열뿐만 아니라 정수, 실수, 불도 사용할 수 있으며 자료형을 섞어서 사용해도 됩니다. 그리고 값에는 리스트, 딕셔너리 등을 포함하여 모든 자료형을 사용할 수 있습니다."
      ],
      "metadata": {
        "id": "_2Ur30DzFBav"
      }
    },
    {
      "cell_type": "code",
      "source": [
        "ability = {500:'health', 300:'mana', 50:\"attack\", 20:\"defence\"}\n",
        "ability"
      ],
      "metadata": {
        "colab": {
          "base_uri": "https://localhost:8080/"
        },
        "id": "y2Xe9eCpFC6b",
        "outputId": "632174d3-c1cf-4b96-bc0b-aa7adb3dbaf5"
      },
      "execution_count": null,
      "outputs": [
        {
          "output_type": "execute_result",
          "data": {
            "text/plain": [
              "{500: 'health', 300: 'mana', 50: 'attack', 20: 'defence'}"
            ]
          },
          "metadata": {},
          "execution_count": 2
        }
      ]
    },
    {
      "cell_type": "code",
      "source": [
        "# 단, 키에는 리스트와 딕셔너리를 사용할 수 없습니다.\n"
      ],
      "metadata": {
        "colab": {
          "base_uri": "https://localhost:8080/",
          "height": 188
        },
        "id": "jDXj_ZjSFE_w",
        "outputId": "d151b272-9505-4828-ea7f-423a706c4bf5"
      },
      "execution_count": null,
      "outputs": [
        {
          "output_type": "error",
          "ename": "TypeError",
          "evalue": "ignored",
          "traceback": [
            "\u001b[0;31m---------------------------------------------------------------------------\u001b[0m",
            "\u001b[0;31mTypeError\u001b[0m                                 Traceback (most recent call last)",
            "\u001b[0;32m<ipython-input-7-f983e8eb06db>\u001b[0m in \u001b[0;36m<module>\u001b[0;34m\u001b[0m\n\u001b[1;32m      1\u001b[0m \u001b[0;31m# 단, 키에는 리스트와 딕셔너리를 사용할 수 없습니다.\u001b[0m\u001b[0;34m\u001b[0m\u001b[0;34m\u001b[0m\u001b[0;34m\u001b[0m\u001b[0m\n\u001b[0;32m----> 2\u001b[0;31m \u001b[0mx\u001b[0m \u001b[0;34m=\u001b[0m \u001b[0;34m{\u001b[0m\u001b[0;34m[\u001b[0m\u001b[0;36m10\u001b[0m\u001b[0;34m,\u001b[0m \u001b[0;36m20\u001b[0m\u001b[0;34m]\u001b[0m\u001b[0;34m:\u001b[0m \u001b[0;36m100\u001b[0m\u001b[0;34m}\u001b[0m\u001b[0;34m\u001b[0m\u001b[0;34m\u001b[0m\u001b[0m\n\u001b[0m",
            "\u001b[0;31mTypeError\u001b[0m: unhashable type: 'list'"
          ]
        }
      ]
    },
    {
      "cell_type": "code",
      "source": [
        "a = list(range(10))\n",
        "dic = {\"list1\":a}"
      ],
      "metadata": {
        "colab": {
          "base_uri": "https://localhost:8080/"
        },
        "id": "eEGBPbR8FRN4",
        "outputId": "721cb5ad-81b4-496c-aa51-5607839bcf59"
      },
      "execution_count": null,
      "outputs": [
        {
          "output_type": "execute_result",
          "data": {
            "text/plain": [
              "{'list1': [0, 1, 2, 3, 4, 5, 6, 7, 8, 9]}"
            ]
          },
          "metadata": {},
          "execution_count": 5
        }
      ]
    },
    {
      "cell_type": "code",
      "source": [
        "# 근데 튜플은 됩니다.\n",
        "a = tuple(range(0,10))\n",
        "dic = {a:100}\n",
        "dic"
      ],
      "metadata": {
        "colab": {
          "base_uri": "https://localhost:8080/"
        },
        "id": "S5hmnDACFTgm",
        "outputId": "9fa87cdc-f9d3-4657-eacc-c3fbd1346527"
      },
      "execution_count": null,
      "outputs": [
        {
          "output_type": "execute_result",
          "data": {
            "text/plain": [
              "{(0, 1, 2, 3, 4, 5, 6, 7, 8, 9): 100}"
            ]
          },
          "metadata": {},
          "execution_count": 6
        }
      ]
    },
    {
      "cell_type": "markdown",
      "source": [
        "### 빈 딕셔너리 만들기"
      ],
      "metadata": {
        "id": "ZA8DGLSJFmNQ"
      }
    },
    {
      "cell_type": "markdown",
      "source": [
        "빈 딕셔너리를 만들 때는 { }만 지정하거나 dict를 사용하면 됩니다. 보통은 { }를 주로 사용합니다.\n",
        "\n",
        "* `딕셔너리 = {}`\n",
        "* `딕셔너리 = dict()`"
      ],
      "metadata": {
        "id": "EiSUoz3EFo1J"
      }
    },
    {
      "cell_type": "code",
      "source": [
        "dict = {}"
      ],
      "metadata": {
        "colab": {
          "base_uri": "https://localhost:8080/"
        },
        "id": "qy12louTFkop",
        "outputId": "e0136db0-07a0-4e98-b8e0-40b73a4a140e"
      },
      "execution_count": null,
      "outputs": [
        {
          "output_type": "execute_result",
          "data": {
            "text/plain": [
              "{}"
            ]
          },
          "metadata": {},
          "execution_count": 10
        }
      ]
    },
    {
      "cell_type": "code",
      "source": [
        "a = dict{}"
      ],
      "metadata": {
        "colab": {
          "base_uri": "https://localhost:8080/"
        },
        "id": "m8SyPBtoFvJk",
        "outputId": "1a815070-06a2-40bf-96cd-484467e6dc6a"
      },
      "execution_count": null,
      "outputs": [
        {
          "output_type": "execute_result",
          "data": {
            "text/plain": [
              "{}"
            ]
          },
          "metadata": {},
          "execution_count": 11
        }
      ]
    },
    {
      "cell_type": "markdown",
      "source": [
        "## 딕셔너리의 키에 접근하고 값 할당하기"
      ],
      "metadata": {
        "id": "lxv59re1GIYe"
      }
    },
    {
      "cell_type": "code",
      "source": [
        "# 딕셔너리의 키에 접근할 때는 딕셔너리 뒤에 [ ](대괄호)를 사용하며 [ ] 안에 키를 지정해주면 됩니다.\n",
        "ability['health'] = 490\n",
        "ability"
      ],
      "metadata": {
        "colab": {
          "base_uri": "https://localhost:8080/"
        },
        "id": "2sbEDhgRGMTI",
        "outputId": "b0ee64fb-a393-4869-e323-645281a561cc"
      },
      "execution_count": 9,
      "outputs": [
        {
          "output_type": "execute_result",
          "data": {
            "text/plain": [
              "{'health': 490, 'mana': 350, 'attack': 50, 'defence': 20}"
            ]
          },
          "metadata": {},
          "execution_count": 9
        }
      ]
    },
    {
      "cell_type": "code",
      "source": [
        "ability[\"defence\"]"
      ],
      "metadata": {
        "colab": {
          "base_uri": "https://localhost:8080/"
        },
        "id": "v9Zv9nMWGRek",
        "outputId": "f4e76813-81e0-4dbc-b836-adbaedcd19b1"
      },
      "execution_count": 13,
      "outputs": [
        {
          "output_type": "execute_result",
          "data": {
            "text/plain": [
              "20"
            ]
          },
          "metadata": {},
          "execution_count": 13
        }
      ]
    },
    {
      "cell_type": "markdown",
      "source": [
        "### 딕셔너리에 키를 지정하지 않으면?"
      ],
      "metadata": {
        "id": "LNYK_spGGTAv"
      }
    },
    {
      "cell_type": "code",
      "source": [
        "# 딕셔너리에 키를 지정하지 않은 상태는 해당 딕셔너리 전체를 뜻합니다.\n",
        "# 따라서 다음과 같이 딕셔너리 lux를 출력하면 { }를 포함하여 딕셔너리 전체가 출력됩니다.\n",
        "ability"
      ],
      "metadata": {
        "colab": {
          "base_uri": "https://localhost:8080/"
        },
        "id": "W5BH7KSaGSKK",
        "outputId": "e901d52c-bc42-41da-95f6-4e5866f5f4dc"
      },
      "execution_count": 12,
      "outputs": [
        {
          "output_type": "execute_result",
          "data": {
            "text/plain": [
              "{'health': 490, 'mana': 350, 'attack': 50, 'defence': 20}"
            ]
          },
          "metadata": {},
          "execution_count": 12
        }
      ]
    },
    {
      "cell_type": "markdown",
      "source": [
        "### 딕셔너리의 키에 값 할당하기"
      ],
      "metadata": {
        "id": "e3zy1seWGds-"
      }
    },
    {
      "cell_type": "markdown",
      "source": [
        "이제 딕셔너리의 키에 값을 할당해보겠습니다. 딕셔너리는 [ ]로 키에 접근한 뒤 값을 할당합니다.\n",
        "* `딕셔너리[키] = 값`"
      ],
      "metadata": {
        "id": "yZDlabtuGfOe"
      }
    },
    {
      "cell_type": "code",
      "source": [
        "ability = {'health': 500, 'mana': 350, \"attack\": 50, \"defence\":20}\n",
        "ability[\"skill\"] = 100\n",
        "ability[\"mana\"]\n",
        "ability"
      ],
      "metadata": {
        "colab": {
          "base_uri": "https://localhost:8080/"
        },
        "id": "2Bs3CjRcGZ3C",
        "outputId": "dc53cc34-a3b6-44f8-a713-6c3dde098fb6"
      },
      "execution_count": null,
      "outputs": [
        {
          "output_type": "execute_result",
          "data": {
            "text/plain": [
              "{'health': 500, 'mana': 350, 'attack': 50, 'defence': 20, 'skill': 100}"
            ]
          },
          "metadata": {},
          "execution_count": 10
        }
      ]
    },
    {
      "cell_type": "markdown",
      "source": [
        "딕셔너리에서 키의 값을 출력할 때와 마찬가지로 [ ]에 키를 지정한 뒤 값을 할당하면 됩니다. 특히 딕셔너리는 없는 키에 값을 할당하면 해당 키가 추가되고 값이 할당됩니다."
      ],
      "metadata": {
        "id": "7DFTD_OAGoe_"
      }
    },
    {
      "cell_type": "code",
      "source": [
        "ability['health'] = 2037\n",
        "ability['mana'] = 1184\n",
        "ability['melee'] = 550\n",
        "ability['armor'] = 18.72\n",
        "ability['mana_regen'] = 3.28\n",
        "\n",
        "ability"
      ],
      "metadata": {
        "colab": {
          "base_uri": "https://localhost:8080/"
        },
        "id": "zUZO1C_tGm7C",
        "outputId": "bc87b398-bd7e-40c0-fb6c-59e71848b885"
      },
      "execution_count": 15,
      "outputs": [
        {
          "output_type": "execute_result",
          "data": {
            "text/plain": [
              "{'health': 2037,\n",
              " 'mana': 1184,\n",
              " 'attack': 50,\n",
              " 'defence': 20,\n",
              " 'melee': 550,\n",
              " 'armor': 18.72,\n",
              " 'mana_regen': 3.28}"
            ]
          },
          "metadata": {},
          "execution_count": 15
        }
      ]
    },
    {
      "cell_type": "code",
      "source": [
        "# 그럼 없는 키에서 값을 가져오려고 하면 어떻게 될까요?\n",
        "ability = {'health': 500, 'mana': 350, \"attack\": 50, \"defence\":20}\n",
        "\"health\" in ability"
      ],
      "metadata": {
        "colab": {
          "base_uri": "https://localhost:8080/"
        },
        "id": "hBQTMjKNGqpZ",
        "outputId": "0e6f566f-1482-4b76-bf9c-c210efb98862"
      },
      "execution_count": null,
      "outputs": [
        {
          "output_type": "execute_result",
          "data": {
            "text/plain": [
              "True"
            ]
          },
          "metadata": {},
          "execution_count": 12
        }
      ]
    },
    {
      "cell_type": "markdown",
      "source": [
        "### 딕셔너리에 키가 있는지 확인하기"
      ],
      "metadata": {
        "id": "JH3WwXv-GytW"
      }
    },
    {
      "cell_type": "markdown",
      "source": [
        "딕셔너리에서 키가 있는지 확인하고 싶다면 in 연산자를 사용하면 됩니다.\n",
        "\n",
        "* `키 in 딕셔너리`"
      ],
      "metadata": {
        "id": "25CdHFDaG2lC"
      }
    },
    {
      "cell_type": "code",
      "source": [
        "'health' in ability"
      ],
      "metadata": {
        "colab": {
          "base_uri": "https://localhost:8080/"
        },
        "id": "isXPQXj_GvkK",
        "outputId": "bca25815-7187-4037-e809-96f6717976a6"
      },
      "execution_count": 17,
      "outputs": [
        {
          "output_type": "execute_result",
          "data": {
            "text/plain": [
              "True"
            ]
          },
          "metadata": {},
          "execution_count": 17
        }
      ]
    },
    {
      "cell_type": "markdown",
      "source": [
        "이처럼 딕셔너리에 특정 키가 있으면 True, 없으면 False가 나옵니다. 딕셔너리 lux에 키 'health'가 있으므로 True, 'attack_speed'가 없으므로 False가 나왔습니다.\n",
        "\n",
        "반대로 in 앞에 not을 붙이면 특정 키가 없는지 확인합니다."
      ],
      "metadata": {
        "id": "WBlHkSS2G_z7"
      }
    },
    {
      "cell_type": "code",
      "source": [
        "'pw' not in ability"
      ],
      "metadata": {
        "colab": {
          "base_uri": "https://localhost:8080/"
        },
        "id": "-CUgcJAiG9Mu",
        "outputId": "a272a15c-6f0a-44ea-fff3-bb6050f15e17"
      },
      "execution_count": 19,
      "outputs": [
        {
          "output_type": "execute_result",
          "data": {
            "text/plain": [
              "True"
            ]
          },
          "metadata": {},
          "execution_count": 19
        }
      ]
    },
    {
      "cell_type": "markdown",
      "source": [
        "### 해시"
      ],
      "metadata": {
        "id": "FzIhkpafHKWo"
      }
    },
    {
      "cell_type": "markdown",
      "source": [
        "딕셔너리는 해시(Hash) 기법을 이용해서 데이터를 저장합니다. 보통 딕셔너리와 같은 키-값 형태의 자료형을 해시, 해시 맵, 해시테이블 등으로 부르기도 합니다."
      ],
      "metadata": {
        "id": "yCHxqYxzHL_N"
      }
    },
    {
      "cell_type": "markdown",
      "source": [
        "### 딕셔너리의 키 개수 구하기"
      ],
      "metadata": {
        "id": "Y1md8d1JHdlV"
      }
    },
    {
      "cell_type": "markdown",
      "source": [
        "딕셔너리를 사용하다 보면 딕셔너리의 키 개수(길이)를 구할 필요가 있습니다. 딕셔너리의 키와 값을 직접 타이핑할 때는 키의 개수를 알기가 쉽습니다. 하지만 실무에서는 함수 등을 사용해서 딕셔너리를 생성하거나 키를 추가하기 때문에 키의 개수가 눈에 보이지 않습니다. 따라서 다음과 같이 키의 개수는 len 함수를 사용하여 구합니다(키와 값은 1:1 관계이므로 키의 개수는 곧 값의 개수입니다).\n",
        "\n",
        "* `len(딕셔너리)`"
      ],
      "metadata": {
        "id": "ZYc1fYhxHgPS"
      }
    },
    {
      "cell_type": "code",
      "source": [
        "ability = {'health': 500, 'mana': 350, \"attack\": 50, \"defence\":20}\n",
        "a = len(ability)\n",
        "a"
      ],
      "metadata": {
        "colab": {
          "base_uri": "https://localhost:8080/"
        },
        "id": "HbuOX4E0HECT",
        "outputId": "eed8fc7c-fa6d-4bea-db96-b6ce6818ebb6"
      },
      "execution_count": null,
      "outputs": [
        {
          "output_type": "execute_result",
          "data": {
            "text/plain": [
              "4"
            ]
          },
          "metadata": {},
          "execution_count": 13
        }
      ]
    },
    {
      "cell_type": "code",
      "source": [
        "b = len(ability)\n",
        "b"
      ],
      "metadata": {
        "colab": {
          "base_uri": "https://localhost:8080/"
        },
        "id": "7q26iF7JHnoK",
        "outputId": "076ae27b-6205-45ea-8be0-737e84e87d8f"
      },
      "execution_count": 20,
      "outputs": [
        {
          "output_type": "execute_result",
          "data": {
            "text/plain": [
              "7"
            ]
          },
          "metadata": {},
          "execution_count": 20
        }
      ]
    }
  ]
}