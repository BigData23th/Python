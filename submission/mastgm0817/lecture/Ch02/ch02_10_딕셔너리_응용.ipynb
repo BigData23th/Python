{
  "nbformat": 4,
  "nbformat_minor": 0,
  "metadata": {
    "colab": {
      "provenance": [],
      "include_colab_link": true
    },
    "kernelspec": {
      "name": "python3",
      "display_name": "Python 3"
    },
    "language_info": {
      "name": "python"
    }
  },
  "cells": [
    {
      "cell_type": "markdown",
      "metadata": {
        "id": "view-in-github",
        "colab_type": "text"
      },
      "source": [
        "<a href=\"https://colab.research.google.com/github/mastgm0817/Python/blob/main/submission/mastgm0817/lecture/Ch02/ch02_10_%EB%94%95%EC%85%94%EB%84%88%EB%A6%AC_%EC%9D%91%EC%9A%A9.ipynb\" target=\"_parent\"><img src=\"https://colab.research.google.com/assets/colab-badge.svg\" alt=\"Open In Colab\"/></a>"
      ]
    },
    {
      "cell_type": "markdown",
      "source": [
        "# 딕셔너리 응용"
      ],
      "metadata": {
        "id": "uZtKonlQ_bxw"
      }
    },
    {
      "cell_type": "markdown",
      "source": [
        "## 딕셔너리 조작하기"
      ],
      "metadata": {
        "id": "SKYN1_K5_duj"
      }
    },
    {
      "cell_type": "markdown",
      "source": [
        "### 딕셔너리에서 키의 값 저장하기"
      ],
      "metadata": {
        "id": "BIUDOX3P_fJx"
      }
    },
    {
      "cell_type": "markdown",
      "source": [
        "update(키=값)은 이름 그대로 딕셔너리에서 키의 값을 수정합니다. 예를 들어 딕셔너리가 x = {'a': 10}이라면 x.update(a=90)과 같이 키에서 작은따옴표 또는 큰따옴표를 빼고 키 이름과 값을 지정합니다."
      ],
      "metadata": {
        "id": "9Brl-EP-_our"
      }
    },
    {
      "cell_type": "code",
      "execution_count": 5,
      "metadata": {
        "colab": {
          "base_uri": "https://localhost:8080/"
        },
        "id": "ANRkulOQ-d22",
        "outputId": "29df697b-ab1c-476f-b6ee-e5471f8512ff"
      },
      "outputs": [
        {
          "output_type": "execute_result",
          "data": {
            "text/plain": [
              "(None, {'a': 90, 'b': 20, 'c': 30, 'd': 40})"
            ]
          },
          "metadata": {},
          "execution_count": 5
        }
      ],
      "source": [
        "x = {'a': 10, 'b': 20, 'c': 30, 'd': 40}\n",
        "x.update(a=90),x"
      ]
    },
    {
      "cell_type": "markdown",
      "source": [
        "만약 딕셔너리에 키가 없으면 키-값 쌍을 추가합니다. 딕셔너리 x에는 키 'e'가 없으므로 x.update(e=50)을 실행하면 'e': 50을 추가합니다."
      ],
      "metadata": {
        "id": "EAm_Zpct_uPK"
      }
    },
    {
      "cell_type": "code",
      "source": [
        "x.update(e=50),x"
      ],
      "metadata": {
        "colab": {
          "base_uri": "https://localhost:8080/"
        },
        "id": "Y94MYml8_rjq",
        "outputId": "f52e15dc-7110-40e1-d0a1-e5aac2ae12e4"
      },
      "execution_count": 7,
      "outputs": [
        {
          "output_type": "execute_result",
          "data": {
            "text/plain": [
              "(None, {'a': 90, 'b': 20, 'c': 30, 'd': 40, 'e': 50})"
            ]
          },
          "metadata": {},
          "execution_count": 7
        }
      ]
    },
    {
      "cell_type": "markdown",
      "source": [
        "update는 키-값 쌍 여러 개를 콤마로 구분해서 넣어주면 값을 한꺼번에 수정할 수 있습니다. 이때도 키가 있으면 해당 키의 값을 수정하고 없으면 키-값 쌍을 추가합니다.\n"
      ],
      "metadata": {
        "id": "9_hlLcsu_xQt"
      }
    },
    {
      "cell_type": "code",
      "source": [
        "x.update(a=900,f=60),x"
      ],
      "metadata": {
        "colab": {
          "base_uri": "https://localhost:8080/"
        },
        "id": "1XHXIdt-_wDF",
        "outputId": "a360df3e-ee08-4e87-f5b4-202ae3b57bd3"
      },
      "execution_count": 9,
      "outputs": [
        {
          "output_type": "execute_result",
          "data": {
            "text/plain": [
              "(None, {'a': 900, 'b': 20, 'c': 30, 'd': 40, 'e': 50, 'f': 60})"
            ]
          },
          "metadata": {},
          "execution_count": 9
        }
      ]
    },
    {
      "cell_type": "markdown",
      "source": [
        "update(키=값)은 키가 문자열일 때만 사용할 수 있습니다. 만약 키가 숫자일 경우에는 update(딕셔너리)처럼 딕셔너리를 넣어서 값을 수정할 수 있습니다."
      ],
      "metadata": {
        "id": "hBF_IeHL_2AO"
      }
    },
    {
      "cell_type": "code",
      "source": [
        "y = {1: 'ONE', 2: 'two', 3: 'THREE'}\n",
        "y[2] = \"Two\"\n",
        "print(y)"
      ],
      "metadata": {
        "colab": {
          "base_uri": "https://localhost:8080/"
        },
        "id": "cL2ShtdU_0e6",
        "outputId": "d3362e71-d068-4be5-a09d-3db1bb30f19b"
      },
      "execution_count": 15,
      "outputs": [
        {
          "output_type": "stream",
          "name": "stdout",
          "text": [
            "{1: 'ONE', 2: 'Two', 3: 'THREE'}\n"
          ]
        }
      ]
    },
    {
      "cell_type": "markdown",
      "source": [
        "다른 방법으로는 리스트와 튜플을 이용하는 방법도 있습니다. update(리스트), update(튜플)은 리스트와 튜플로 값을 수정합니다. 여기서 리스트는 [[키1, 값1], [키2, 값2]] 형식으로 키와 값을 리스트로 만들고 이 리스트를 다시 리스트 안에 넣어서 키-값 쌍을 나열해줍니다(튜플도 같은 형식)."
      ],
      "metadata": {
        "id": "5VtWrCh3_7vP"
      }
    },
    {
      "cell_type": "code",
      "source": [
        "list1 = [[1,\"ONE\"],[2,\"TWO\"]]\n",
        "list2 = [[3,\"THREE\"],[4,\"FOUR\"]]\n",
        "d = {}\n",
        "d.update(list1)\n",
        "d.update(list2)\n",
        "print(d)"
      ],
      "metadata": {
        "colab": {
          "base_uri": "https://localhost:8080/"
        },
        "id": "pr8rwq2b_5gd",
        "outputId": "4f13fb8e-2b9a-41ce-dcbb-4d2b74caad2e"
      },
      "execution_count": 20,
      "outputs": [
        {
          "output_type": "stream",
          "name": "stdout",
          "text": [
            "{1: 'ONE', 2: 'TWO', 3: 'THREE', 4: 'FOUR'}\n"
          ]
        }
      ]
    },
    {
      "cell_type": "markdown",
      "source": [
        "### 딕셔너리에서 키-값 쌍 삭제하기"
      ],
      "metadata": {
        "id": "rjg_vRhrAAhe"
      }
    },
    {
      "cell_type": "markdown",
      "source": [
        "pop(키)는 딕셔너리에서 특정 키-값 쌍을 삭제한 뒤 삭제한 값을 반환합니다."
      ],
      "metadata": {
        "id": "uIYzUtc4AFYe"
      }
    },
    {
      "cell_type": "code",
      "source": [
        "# x.pop('a')"
      ],
      "metadata": {
        "id": "_D2hvCo7B005"
      },
      "execution_count": null,
      "outputs": []
    },
    {
      "cell_type": "code",
      "source": [
        "print(x)"
      ],
      "metadata": {
        "colab": {
          "base_uri": "https://localhost:8080/"
        },
        "id": "QkGVNWTi_-XC",
        "outputId": "802889ff-45db-43a4-c627-0674598072b3"
      },
      "execution_count": 24,
      "outputs": [
        {
          "output_type": "stream",
          "name": "stdout",
          "text": [
            "{'b': 20, 'c': 30, 'd': 40, 'e': 50, 'f': 60}\n"
          ]
        }
      ]
    },
    {
      "cell_type": "code",
      "source": [],
      "metadata": {
        "colab": {
          "base_uri": "https://localhost:8080/"
        },
        "id": "ltHDkQ69AIYQ",
        "outputId": "52e45c6e-a4b0-4364-9b31-f3ff43d46ec5"
      },
      "execution_count": null,
      "outputs": [
        {
          "output_type": "execute_result",
          "data": {
            "text/plain": [
              "{'b': 20, 'c': 30, 'd': 40}"
            ]
          },
          "metadata": {},
          "execution_count": 7
        }
      ]
    },
    {
      "cell_type": "markdown",
      "source": [
        "pop(키, 기본값)처럼 기본값을 지정하면 딕셔너리에 키가 있을 때는 해당 키-값 쌍을 삭제한 뒤 삭제한 값을 반환하지만 키가 없을 때는 기본값만 반환합니다."
      ],
      "metadata": {
        "id": "48JxDyUXALn0"
      }
    },
    {
      "cell_type": "code",
      "source": [],
      "metadata": {
        "colab": {
          "base_uri": "https://localhost:8080/"
        },
        "id": "F6fBaMUvAJHm",
        "outputId": "df2ff5f0-7398-45b2-c6e4-018d587ed1c7"
      },
      "execution_count": null,
      "outputs": [
        {
          "output_type": "execute_result",
          "data": {
            "text/plain": [
              "0"
            ]
          },
          "metadata": {},
          "execution_count": 8
        }
      ]
    },
    {
      "cell_type": "markdown",
      "source": [
        "pop 대신 del로 특정 키-값 쌍을 삭제할 수도 있습니다. 이때는 [ ]에 키를 지정하여 del을 사용합니다."
      ],
      "metadata": {
        "id": "Bcv9hNp2Eg6t"
      }
    },
    {
      "cell_type": "code",
      "source": [],
      "metadata": {
        "colab": {
          "base_uri": "https://localhost:8080/"
        },
        "id": "tMJq_WL2ANZj",
        "outputId": "2beb002a-edd2-4d4d-b9d1-7f194c660928"
      },
      "execution_count": null,
      "outputs": [
        {
          "output_type": "execute_result",
          "data": {
            "text/plain": [
              "{'b': 20, 'c': 30, 'd': 40}"
            ]
          },
          "metadata": {},
          "execution_count": 9
        }
      ]
    },
    {
      "cell_type": "markdown",
      "source": [
        "### 딕셔너리의 모든 키-값 쌍을 삭제하기"
      ],
      "metadata": {
        "id": "bCqy8pb3Epoh"
      }
    },
    {
      "cell_type": "code",
      "source": [
        "# clear()는 딕셔너리의 모든 키-값 쌍을 삭제합니다.\n",
        "y.clear()\n",
        "print(y)"
      ],
      "metadata": {
        "colab": {
          "base_uri": "https://localhost:8080/"
        },
        "id": "K2g0_umAEkxU",
        "outputId": "8e150301-ff5e-49f0-d31c-6c20683b686f"
      },
      "execution_count": 25,
      "outputs": [
        {
          "output_type": "stream",
          "name": "stdout",
          "text": [
            "{}\n"
          ]
        }
      ]
    },
    {
      "cell_type": "markdown",
      "source": [
        "### 딕셔너리에서 키의 값을 가져오기"
      ],
      "metadata": {
        "id": "KBpOPiqOEt2L"
      }
    },
    {
      "cell_type": "code",
      "source": [
        "# get(키)는 딕셔너리에서 특정 키의 값을 가져옵니다.\n",
        "x.get('b')"
      ],
      "metadata": {
        "colab": {
          "base_uri": "https://localhost:8080/"
        },
        "id": "VuYhWgB3EsJD",
        "outputId": "407571b9-d5d5-4089-ea2b-a0ae8881a90d"
      },
      "execution_count": 26,
      "outputs": [
        {
          "output_type": "execute_result",
          "data": {
            "text/plain": [
              "20"
            ]
          },
          "metadata": {},
          "execution_count": 26
        }
      ]
    },
    {
      "cell_type": "markdown",
      "source": [
        "get(키, 기본값)처럼 기본값을 지정하면 딕셔너리에 키가 있을 때는 해당 키의 값을 반환하지만 키가 없을 때는 기본값을 반환합니다."
      ],
      "metadata": {
        "id": "eLNx2cw3E3od"
      }
    },
    {
      "cell_type": "code",
      "source": [
        "x.get('b',1000) # -> 20\n",
        "x.get('z',1000) # -> 1000"
      ],
      "metadata": {
        "colab": {
          "base_uri": "https://localhost:8080/"
        },
        "id": "w3K8xktbE1SW",
        "outputId": "39875275-4aa4-49be-8e3b-c133f1c46fea"
      },
      "execution_count": 28,
      "outputs": [
        {
          "output_type": "execute_result",
          "data": {
            "text/plain": [
              "1000"
            ]
          },
          "metadata": {},
          "execution_count": 28
        }
      ]
    },
    {
      "cell_type": "markdown",
      "source": [
        "### 딕셔너리에서 키-값 쌍을 모두 가져오기"
      ],
      "metadata": {
        "id": "5fw2zFKAE686"
      }
    },
    {
      "cell_type": "markdown",
      "source": [
        "딕셔너리는 키와 값을 가져오는 다양한 메서드를 제공합니다.\n",
        "\n",
        "* items: 키-값 쌍을 모두 가져옴\n",
        "* keys: 키를 모두 가져옴\n",
        "* values: 값을 모두 가져옴"
      ],
      "metadata": {
        "id": "tQ-QAdDOE9Qk"
      }
    },
    {
      "cell_type": "code",
      "source": [
        "# items()는 딕셔너리의 키-값 쌍을 모두 가져옵니다.\n",
        "dict = {\n",
        "    \"son\":17,\"kane\":10,\"park\":17\n",
        "}\n",
        "\n",
        "dict.items()"
      ],
      "metadata": {
        "colab": {
          "base_uri": "https://localhost:8080/"
        },
        "id": "QN-GyGFgE5LN",
        "outputId": "f303ca00-fbb8-4936-bf5d-2f15311abcb6"
      },
      "execution_count": 34,
      "outputs": [
        {
          "output_type": "execute_result",
          "data": {
            "text/plain": [
              "dict_items([('son', 17), ('kane', 10), ('park', 17)])"
            ]
          },
          "metadata": {},
          "execution_count": 34
        }
      ]
    },
    {
      "cell_type": "code",
      "source": [
        "# keys()는 키를 모두 가져옵니다.\n",
        "dict.keys()"
      ],
      "metadata": {
        "colab": {
          "base_uri": "https://localhost:8080/"
        },
        "id": "z5Cn2RDuFCel",
        "outputId": "c97a572b-bf38-42ff-cedd-9337853de2eb"
      },
      "execution_count": 35,
      "outputs": [
        {
          "output_type": "execute_result",
          "data": {
            "text/plain": [
              "dict_keys(['son', 'kane', 'park'])"
            ]
          },
          "metadata": {},
          "execution_count": 35
        }
      ]
    },
    {
      "cell_type": "code",
      "source": [
        "# values()는 값을 모두 가져옵니다.\n",
        "dict.values()"
      ],
      "metadata": {
        "colab": {
          "base_uri": "https://localhost:8080/"
        },
        "id": "i935UdgcFGaR",
        "outputId": "40c63a0d-81e4-44bc-9680-e517ee30eac4"
      },
      "execution_count": 36,
      "outputs": [
        {
          "output_type": "execute_result",
          "data": {
            "text/plain": [
              "dict_values([17, 10, 17])"
            ]
          },
          "metadata": {},
          "execution_count": 36
        }
      ]
    },
    {
      "cell_type": "markdown",
      "source": [
        "## 반복문으로 딕셔너리의 키-값 쌍을 모두 출력하기"
      ],
      "metadata": {
        "id": "V5v9lyEoFNZE"
      }
    },
    {
      "cell_type": "code",
      "source": [
        "for i, v in dict.items():\n",
        "  print(i, v)"
      ],
      "metadata": {
        "colab": {
          "base_uri": "https://localhost:8080/"
        },
        "id": "VU36vMVBFKMh",
        "outputId": "0eb3777c-d756-4345-f2c0-19bbcc8cf8b6"
      },
      "execution_count": 37,
      "outputs": [
        {
          "output_type": "stream",
          "name": "stdout",
          "text": [
            "son 17\n",
            "kane 10\n",
            "park 17\n"
          ]
        }
      ]
    },
    {
      "cell_type": "markdown",
      "source": [
        "for i in x:처럼 for 반복문에 딕셔너리를 지정한 뒤에 print로 변수 i를 출력해보면 값은 출력되지 않고 키만 출력됩니다. 그럼 키와 값을 모두 출력하려면 어떻게 해야 할까요?\n",
        "\n",
        "이때는 for in 뒤에 딕셔너리를 지정하고 items를 사용해야 합니다.\n",
        "\n",
        "```\n",
        "for 키, 값 in 딕셔너리.items():\n",
        "     반복할 코드\n",
        "```"
      ],
      "metadata": {
        "id": "RfLcd88MFYr6"
      }
    },
    {
      "cell_type": "code",
      "source": [],
      "metadata": {
        "colab": {
          "base_uri": "https://localhost:8080/"
        },
        "id": "TWsTCUr0FWTZ",
        "outputId": "ab85c929-526a-457b-cd48-5b49ea80f169"
      },
      "execution_count": null,
      "outputs": [
        {
          "output_type": "stream",
          "name": "stdout",
          "text": [
            "a 10\n",
            "b 20\n",
            "c 30\n",
            "d 40\n"
          ]
        }
      ]
    },
    {
      "cell_type": "markdown",
      "source": [
        "`for key, value in x.items():`는 딕셔너리 x에서 키-값 쌍을 꺼내서 키는 key에 값은 value에 저장하고, 꺼낼 때마다 코드를 반복합니다. 따라서 print로 key와 value를 출력하면 키-값 쌍을 모두 출력할 수 있습니다."
      ],
      "metadata": {
        "id": "n__sxlkrFglx"
      }
    },
    {
      "cell_type": "markdown",
      "source": [
        "### 딕셔너리의 키만 출력하기"
      ],
      "metadata": {
        "id": "ErHv6usqFluk"
      }
    },
    {
      "cell_type": "code",
      "source": [
        "for key, value in dict.items():\n",
        "  print(key)"
      ],
      "metadata": {
        "colab": {
          "base_uri": "https://localhost:8080/"
        },
        "id": "FXG5YkAaFduL",
        "outputId": "4de6f11f-c717-4e72-db1e-1156f7ab15af"
      },
      "execution_count": 38,
      "outputs": [
        {
          "output_type": "stream",
          "name": "stdout",
          "text": [
            "son\n",
            "kane\n",
            "park\n"
          ]
        }
      ]
    },
    {
      "cell_type": "code",
      "source": [],
      "metadata": {
        "colab": {
          "base_uri": "https://localhost:8080/"
        },
        "id": "veekIedSFusf",
        "outputId": "18f6586a-8edc-447a-fe0a-064fad7fc425"
      },
      "execution_count": null,
      "outputs": [
        {
          "output_type": "stream",
          "name": "stdout",
          "text": [
            "a b c d "
          ]
        }
      ]
    },
    {
      "cell_type": "markdown",
      "source": [
        "### 딕셔너리의 값만 출력하기"
      ],
      "metadata": {
        "id": "QXxnJW6TFzj0"
      }
    },
    {
      "cell_type": "code",
      "source": [
        "for key, value in dict.items():\n",
        "  print(value)"
      ],
      "metadata": {
        "colab": {
          "base_uri": "https://localhost:8080/"
        },
        "id": "a0byY123FwdO",
        "outputId": "6e2149f7-e2e5-42ce-9b51-8878aa1628dc"
      },
      "execution_count": 39,
      "outputs": [
        {
          "output_type": "stream",
          "name": "stdout",
          "text": [
            "17\n",
            "10\n",
            "17\n"
          ]
        }
      ]
    },
    {
      "cell_type": "markdown",
      "source": [
        "## 딕셔너리 안에서 딕셔너리 사용하기"
      ],
      "metadata": {
        "id": "SQWf1aONIu34"
      }
    },
    {
      "cell_type": "markdown",
      "source": [
        "딕셔너리는 값 부분에 다시 딕셔너리가 계속 들어갈 수 있습니다.\n",
        "\n",
        "* `딕셔너리 = {키1: {키A: 값A}, 키2: {키B: 값B}}`"
      ],
      "metadata": {
        "id": "2A5RdBk3IxQl"
      }
    },
    {
      "cell_type": "code",
      "source": [],
      "metadata": {
        "colab": {
          "base_uri": "https://localhost:8080/"
        },
        "id": "KqG8iE5GF3LU",
        "outputId": "cc7a8f53-8294-4a68-ee5d-437bdf869f54"
      },
      "execution_count": null,
      "outputs": [
        {
          "output_type": "stream",
          "name": "stdout",
          "text": [
            "6051.8\n"
          ]
        }
      ]
    },
    {
      "cell_type": "markdown",
      "source": [
        "중첩 딕셔너리는 계층형 데이터를 저장할 때 유용합니다.\n",
        "\n",
        "딕셔너리 안에 들어있는 딕셔너리에 접근하려면 딕셔너리 뒤에 [ ](대괄호)를 단계만큼 붙이고 키를 지정해주면 됩니다.\n",
        "\n",
        "* `딕셔너리[키][키]`\n",
        "* `딕셔너리[키][키] = 값`"
      ],
      "metadata": {
        "id": "YdxNleWUI7ET"
      }
    }
  ]
}