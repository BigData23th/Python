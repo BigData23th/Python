{
  "nbformat": 4,
  "nbformat_minor": 0,
  "metadata": {
    "colab": {
      "provenance": [],
      "include_colab_link": true
    },
    "kernelspec": {
      "name": "python3",
      "display_name": "Python 3"
    },
    "language_info": {
      "name": "python"
    }
  },
  "cells": [
    {
      "cell_type": "markdown",
      "metadata": {
        "id": "view-in-github",
        "colab_type": "text"
      },
      "source": [
        "<a href=\"https://colab.research.google.com/github/MingukShim/Python/blob/main/submission/MingukShimch02_04_%EC%8B%9C%ED%80%80%EC%8A%A4_%EC%9E%90%EB%A3%8C%ED%98%95_%EA%B3%B5%EC%9C%A0%EC%9A%A9.ipynb\" target=\"_parent\"><img src=\"https://colab.research.google.com/assets/colab-badge.svg\" alt=\"Open In Colab\"/></a>"
      ]
    },
    {
      "cell_type": "markdown",
      "source": [
        "# 시퀀스 자료형"
      ],
      "metadata": {
        "id": "E0DC84pFuiv0"
      }
    },
    {
      "cell_type": "markdown",
      "source": [
        "우리가 지금까지 사용했던 리스트, 튜플, range, 문자열을 잘 보면 공통점이 있습니다. 이들 모두 값이 연속적(sequence)으로 이어져 있다는 점입니다.\n",
        "\n",
        "파이썬에서는 리스트, 튜플, range, 문자열처럼 값이 연속적으로 이어진 자료형을 시퀀스 자료형(sequence types)라고 부릅니다."
      ],
      "metadata": {
        "id": "apw5Tbehuk07"
      }
    },
    {
      "cell_type": "code",
      "source": [
        "\"hell\" h,e,l,l,o"
      ],
      "metadata": {
        "id": "tcdvO0JC_0zj"
      },
      "execution_count": null,
      "outputs": []
    },
    {
      "cell_type": "markdown",
      "source": [
        "## 시퀀스 자료형의 공통 기능 사용하기"
      ],
      "metadata": {
        "id": "MHr_XUiCuppg"
      }
    },
    {
      "cell_type": "markdown",
      "source": [
        "### 특정 값이 있는지 확인하기"
      ],
      "metadata": {
        "id": "dD22tNGKusEi"
      }
    },
    {
      "cell_type": "markdown",
      "source": [
        "먼저 시퀀스 객체 안에 특정 값이 있는지 확인하는 방법부터 알아보겠습니다. 다음은 리스트 a에서 30과 100이 있는지 확인합니다.\n",
        "\n",
        "* `값 in 시퀀스객체`"
      ],
      "metadata": {
        "id": "jASjoqxYut45"
      }
    },
    {
      "cell_type": "code",
      "source": [
        "a = [0, 10, 20, 30, 40, 50, 60, 70, 80, 90, 100]\n",
        "a"
      ],
      "metadata": {
        "colab": {
          "base_uri": "https://localhost:8080/"
        },
        "id": "gciOUXU0unBS",
        "outputId": "afd1cebc-21f3-4b3b-94b8-9fb2c500b634"
      },
      "execution_count": 1,
      "outputs": [
        {
          "output_type": "execute_result",
          "data": {
            "text/plain": [
              "[0, 10, 20, 30, 40, 50, 60, 70, 80, 90, 100]"
            ]
          },
          "metadata": {},
          "execution_count": 1
        }
      ]
    },
    {
      "cell_type": "code",
      "source": [
        "30 in a"
      ],
      "metadata": {
        "id": "nUwX3qYm_HEE",
        "outputId": "d560f5bb-1dbe-45b5-eb1c-6a7cc3724cc7",
        "colab": {
          "base_uri": "https://localhost:8080/"
        }
      },
      "execution_count": 2,
      "outputs": [
        {
          "output_type": "execute_result",
          "data": {
            "text/plain": [
              "True"
            ]
          },
          "metadata": {},
          "execution_count": 2
        }
      ]
    },
    {
      "cell_type": "code",
      "source": [
        "110 in a"
      ],
      "metadata": {
        "id": "mCSpkXiO_Cgb",
        "outputId": "d2dd16a3-4f62-40fe-d02f-05c1c3d7db55",
        "colab": {
          "base_uri": "https://localhost:8080/"
        }
      },
      "execution_count": 3,
      "outputs": [
        {
          "output_type": "execute_result",
          "data": {
            "text/plain": [
              "False"
            ]
          },
          "metadata": {},
          "execution_count": 3
        }
      ]
    },
    {
      "cell_type": "code",
      "source": [],
      "metadata": {
        "id": "Z6K2_wEL_QaJ"
      },
      "execution_count": null,
      "outputs": []
    },
    {
      "cell_type": "code",
      "source": [],
      "metadata": {
        "colab": {
          "base_uri": "https://localhost:8080/"
        },
        "id": "o1ZbP9oeuzXN",
        "outputId": "121c1daa-b615-464a-87f0-6fbb4f4491da"
      },
      "execution_count": null,
      "outputs": [
        {
          "output_type": "execute_result",
          "data": {
            "text/plain": [
              "False"
            ]
          },
          "metadata": {},
          "execution_count": 72
        }
      ]
    },
    {
      "cell_type": "markdown",
      "source": [
        "시퀀스 객체에 in 연산자를 사용했을 때 특정 값이 있으면 True, 없으면 False가 나옵니다. 따라서 리스트 a에 30이 있으므로 True, 100이 없으므로 False가 나옵니다.\n",
        "\n",
        "반대로 in 앞에 not을 붙이면 특정 값이 없는지 확인합니다.\n",
        "\n",
        "* `값 not in 시퀀스객체`"
      ],
      "metadata": {
        "id": "BcbhTtqbu18R"
      }
    },
    {
      "cell_type": "code",
      "source": [
        "120 not in a"
      ],
      "metadata": {
        "colab": {
          "base_uri": "https://localhost:8080/"
        },
        "id": "uieEJnYjultU",
        "outputId": "7bb86d74-e369-4d41-bf80-4e32e51e7fb3"
      },
      "execution_count": 4,
      "outputs": [
        {
          "output_type": "execute_result",
          "data": {
            "text/plain": [
              "True"
            ]
          },
          "metadata": {},
          "execution_count": 4
        }
      ]
    },
    {
      "cell_type": "code",
      "source": [
        "50 not in a"
      ],
      "metadata": {
        "colab": {
          "base_uri": "https://localhost:8080/"
        },
        "id": "hfkT42Nyu7B1",
        "outputId": "409f4bb3-f1b0-48ed-ded8-18d0de0b2df5"
      },
      "execution_count": 5,
      "outputs": [
        {
          "output_type": "execute_result",
          "data": {
            "text/plain": [
              "False"
            ]
          },
          "metadata": {},
          "execution_count": 5
        }
      ]
    },
    {
      "cell_type": "markdown",
      "source": [
        "이렇게 not in은 특정 값이 없으면 True, 있으면 False가 나옵니다.\n",
        "\n",
        "물론 튜플, range, 문자열도 같은 방법으로 활용할 수 있습니다."
      ],
      "metadata": {
        "id": "t_ZBpOM5u9pk"
      }
    },
    {
      "cell_type": "code",
      "source": [
        "20 in (10, 20, 30, 40), 50 in (10, 20, 30, 40), 20 not in (10, 20, 30, 40), 50 not in (10, 20, 30, 40)"
      ],
      "metadata": {
        "colab": {
          "base_uri": "https://localhost:8080/"
        },
        "id": "--wDvRUNu_Q-",
        "outputId": "f8a3c870-b39f-410c-cc9f-69cea9f77142"
      },
      "execution_count": 7,
      "outputs": [
        {
          "output_type": "execute_result",
          "data": {
            "text/plain": [
              "(True, False, False, True)"
            ]
          },
          "metadata": {},
          "execution_count": 7
        }
      ]
    },
    {
      "cell_type": "code",
      "source": [
        "1 in range(10), 11 in range(10), 1 not in range(10), 11 not in range(10)"
      ],
      "metadata": {
        "colab": {
          "base_uri": "https://localhost:8080/"
        },
        "id": "9CQ9X66AvCZU",
        "outputId": "66df94f4-d756-4ba7-f469-d77877dec35e"
      },
      "execution_count": 10,
      "outputs": [
        {
          "output_type": "execute_result",
          "data": {
            "text/plain": [
              "(True, False, False, True)"
            ]
          },
          "metadata": {},
          "execution_count": 10
        }
      ]
    },
    {
      "cell_type": "code",
      "source": [
        "# 특정한 문자열 안에 문자가 있는지\n",
        "\"a\" in \"happy\", \"s\" in \"happy\", \"a\" not in \"happy\", \"s\" not in \"happy\""
      ],
      "metadata": {
        "id": "aSKUcfukArWZ",
        "outputId": "2286e8c0-bc7d-4ca4-f2bb-b7fd5d7ab39c",
        "colab": {
          "base_uri": "https://localhost:8080/"
        }
      },
      "execution_count": 13,
      "outputs": [
        {
          "output_type": "execute_result",
          "data": {
            "text/plain": [
              "(True, False, False, True)"
            ]
          },
          "metadata": {},
          "execution_count": 13
        }
      ]
    },
    {
      "cell_type": "code",
      "source": [],
      "metadata": {
        "id": "SANkj2oMA802"
      },
      "execution_count": null,
      "outputs": []
    },
    {
      "cell_type": "code",
      "source": [],
      "metadata": {
        "id": "fNZb5UXfAkvW"
      },
      "execution_count": null,
      "outputs": []
    },
    {
      "cell_type": "code",
      "source": [],
      "metadata": {
        "colab": {
          "base_uri": "https://localhost:8080/"
        },
        "id": "LmZNtHASvC4E",
        "outputId": "bcbe35c2-2327-4bb5-95ed-effe0f0c94a9"
      },
      "execution_count": null,
      "outputs": [
        {
          "output_type": "execute_result",
          "data": {
            "text/plain": [
              "True"
            ]
          },
          "metadata": {},
          "execution_count": 78
        }
      ]
    },
    {
      "cell_type": "markdown",
      "source": [
        "### 시퀀스 객체 연결하기"
      ],
      "metadata": {
        "id": "VwA5eU4svF7K"
      }
    },
    {
      "cell_type": "markdown",
      "source": [
        "시퀀스 객체는 + 연산자를 사용하여 객체를 서로 연결하여 새 객체를 만들 수 있습니다.\n",
        "\n",
        "* `시퀀스객체1 + 시퀀스객체2`"
      ],
      "metadata": {
        "id": "M9tgy13ivIdA"
      }
    },
    {
      "cell_type": "code",
      "source": [
        "A = [0, 1, 2, 3]\n",
        "B = [4, 5, 6, 7]\n",
        "A + B"
      ],
      "metadata": {
        "colab": {
          "base_uri": "https://localhost:8080/"
        },
        "id": "8ulYnR7dvEWV",
        "outputId": "ff7ad334-37bc-4e50-997a-b1d411f2484b"
      },
      "execution_count": 14,
      "outputs": [
        {
          "output_type": "execute_result",
          "data": {
            "text/plain": [
              "[0, 1, 2, 3, 4, 5, 6, 7]"
            ]
          },
          "metadata": {},
          "execution_count": 14
        }
      ]
    },
    {
      "cell_type": "code",
      "source": [
        "a = (\"a\", \"b\", \"c\") #tuple\n",
        "b = (\"d\", \"e\", \"f\")\n",
        "a + b"
      ],
      "metadata": {
        "id": "oU0mQyQfD7VG",
        "outputId": "1f1abc72-f1dc-4852-a58b-9635d2bc0cb1",
        "colab": {
          "base_uri": "https://localhost:8080/"
        }
      },
      "execution_count": 15,
      "outputs": [
        {
          "output_type": "execute_result",
          "data": {
            "text/plain": [
              "('a', 'b', 'c', 'd', 'e', 'f')"
            ]
          },
          "metadata": {},
          "execution_count": 15
        }
      ]
    },
    {
      "cell_type": "code",
      "source": [
        "# 단, 시퀀스 자료형 중에서 range는 + 연산자로 객체를 연결할 수 없습니다.\n",
        "range(0, 10) + range(10, 20)"
      ],
      "metadata": {
        "colab": {
          "base_uri": "https://localhost:8080/",
          "height": 190
        },
        "id": "xS2LeafQvTL4",
        "outputId": "e158fd0e-b6b3-4128-ecb6-12a4599ec7cd"
      },
      "execution_count": 18,
      "outputs": [
        {
          "output_type": "error",
          "ename": "TypeError",
          "evalue": "ignored",
          "traceback": [
            "\u001b[0;31m---------------------------------------------------------------------------\u001b[0m",
            "\u001b[0;31mTypeError\u001b[0m                                 Traceback (most recent call last)",
            "\u001b[0;32m<ipython-input-18-4a176858d151>\u001b[0m in \u001b[0;36m<module>\u001b[0;34m\u001b[0m\n\u001b[1;32m      1\u001b[0m \u001b[0;31m# 단, 시퀀스 자료형 중에서 range는 + 연산자로 객체를 연결할 수 없습니다.\u001b[0m\u001b[0;34m\u001b[0m\u001b[0;34m\u001b[0m\u001b[0;34m\u001b[0m\u001b[0m\n\u001b[0;32m----> 2\u001b[0;31m \u001b[0mrange\u001b[0m\u001b[0;34m(\u001b[0m\u001b[0;36m0\u001b[0m\u001b[0;34m,\u001b[0m \u001b[0;36m10\u001b[0m\u001b[0;34m)\u001b[0m \u001b[0;34m+\u001b[0m \u001b[0mrange\u001b[0m\u001b[0;34m(\u001b[0m\u001b[0;36m10\u001b[0m\u001b[0;34m,\u001b[0m \u001b[0;36m20\u001b[0m\u001b[0;34m)\u001b[0m\u001b[0;34m\u001b[0m\u001b[0;34m\u001b[0m\u001b[0m\n\u001b[0m",
            "\u001b[0;31mTypeError\u001b[0m: unsupported operand type(s) for +: 'range' and 'range'"
          ]
        }
      ]
    },
    {
      "cell_type": "code",
      "source": [
        "# 이때는 range를 리스트 또는 튜플로 만들어서 연결하면 됩니다.\n",
        "list(range(0, 10)) + list(range(10, 20))"
      ],
      "metadata": {
        "colab": {
          "base_uri": "https://localhost:8080/"
        },
        "id": "DNPrq70WvVgM",
        "outputId": "215496ab-47c5-430c-e181-ae7d89b976f0"
      },
      "execution_count": 19,
      "outputs": [
        {
          "output_type": "execute_result",
          "data": {
            "text/plain": [
              "[0, 1, 2, 3, 4, 5, 6, 7, 8, 9, 10, 11, 12, 13, 14, 15, 16, 17, 18, 19]"
            ]
          },
          "metadata": {},
          "execution_count": 19
        }
      ]
    },
    {
      "cell_type": "code",
      "source": [
        "tuple(range(0, 10)) + tuple(range(10, 20))"
      ],
      "metadata": {
        "colab": {
          "base_uri": "https://localhost:8080/"
        },
        "id": "wVZFb-Y4vXxF",
        "outputId": "3a622e84-f191-4d13-fe8c-bf097015cfeb"
      },
      "execution_count": 20,
      "outputs": [
        {
          "output_type": "execute_result",
          "data": {
            "text/plain": [
              "(0, 1, 2, 3, 4, 5, 6, 7, 8, 9, 10, 11, 12, 13, 14, 15, 16, 17, 18, 19)"
            ]
          },
          "metadata": {},
          "execution_count": 20
        }
      ]
    },
    {
      "cell_type": "code",
      "source": [
        "# 문자열은 + 연산자로 여러 문자열을 연결할 수 있습니다.\n",
        "\"hello, \" + \"world\""
      ],
      "metadata": {
        "colab": {
          "base_uri": "https://localhost:8080/",
          "height": 35
        },
        "id": "cqqKcUKovZLz",
        "outputId": "738e1b1a-a55d-4481-a2da-1aafeb68d6f1"
      },
      "execution_count": 23,
      "outputs": [
        {
          "output_type": "execute_result",
          "data": {
            "text/plain": [
              "'hello, world'"
            ],
            "application/vnd.google.colaboratory.intrinsic+json": {
              "type": "string"
            }
          },
          "metadata": {},
          "execution_count": 23
        }
      ]
    },
    {
      "cell_type": "code",
      "source": [
        "a = input()\n",
        "b = \"입니다. 반갑습니다\"\n",
        "c = input()\n",
        "print(a + b)"
      ],
      "metadata": {
        "id": "JdJgeIOWFEWn",
        "outputId": "ac806a68-50ec-492a-cf9c-ce1e4e38bfde",
        "colab": {
          "base_uri": "https://localhost:8080/"
        }
      },
      "execution_count": 25,
      "outputs": [
        {
          "output_type": "stream",
          "name": "stdout",
          "text": [
            "좋은 하루 되세요!!\n",
            "심민국\n",
            "좋은 하루 되세요!!입니다. 반갑습니다\n"
          ]
        }
      ]
    },
    {
      "cell_type": "code",
      "source": [],
      "metadata": {
        "id": "VUzB4WK0FXb4"
      },
      "execution_count": null,
      "outputs": []
    },
    {
      "cell_type": "markdown",
      "source": [
        "### 문자열에 숫자 연결하기"
      ],
      "metadata": {
        "id": "gHR5WdBFvhhx"
      }
    },
    {
      "cell_type": "code",
      "source": [
        "\"오늘 훈려장려금은 \" + 10 + \"만원입니다\""
      ],
      "metadata": {
        "colab": {
          "base_uri": "https://localhost:8080/",
          "height": 172
        },
        "id": "1_C1pni3vdnj",
        "outputId": "b8529aa6-eb44-4b05-a55c-f19b6c50b502"
      },
      "execution_count": 26,
      "outputs": [
        {
          "output_type": "error",
          "ename": "TypeError",
          "evalue": "ignored",
          "traceback": [
            "\u001b[0;31m---------------------------------------------------------------------------\u001b[0m",
            "\u001b[0;31mTypeError\u001b[0m                                 Traceback (most recent call last)",
            "\u001b[0;32m<ipython-input-26-8cd770be1938>\u001b[0m in \u001b[0;36m<module>\u001b[0;34m\u001b[0m\n\u001b[0;32m----> 1\u001b[0;31m \u001b[0;34m\"오늘 훈려장려금은 \"\u001b[0m \u001b[0;34m+\u001b[0m \u001b[0;36m10\u001b[0m \u001b[0;34m+\u001b[0m \u001b[0;34m\"만원입니다\"\u001b[0m\u001b[0;34m\u001b[0m\u001b[0;34m\u001b[0m\u001b[0m\n\u001b[0m",
            "\u001b[0;31mTypeError\u001b[0m: can only concatenate str (not \"int\") to str"
          ]
        }
      ]
    },
    {
      "cell_type": "code",
      "source": [
        "a = 10\n",
        "\"오늘 훈려장려금은 \" + \"10\" + \"만원입니다\"\n",
        "\"오늘 훈려장려금은 \" + str(a) + \"만원입니다\""
      ],
      "metadata": {
        "id": "4lyHuYQGFpP1",
        "outputId": "3a526f4d-4552-447c-e91a-9131f3f02cb8",
        "colab": {
          "base_uri": "https://localhost:8080/",
          "height": 35
        }
      },
      "execution_count": 28,
      "outputs": [
        {
          "output_type": "execute_result",
          "data": {
            "text/plain": [
              "'오늘 훈려장려금은 10만원입니다'"
            ],
            "application/vnd.google.colaboratory.intrinsic+json": {
              "type": "string"
            }
          },
          "metadata": {},
          "execution_count": 28
        }
      ]
    },
    {
      "cell_type": "code",
      "source": [
        "\"hello, \" + str(1.5)"
      ],
      "metadata": {
        "id": "JgpxUiqtGB6m",
        "outputId": "f39b9dca-eaee-4e63-8f09-6f8cd8ea1a62",
        "colab": {
          "base_uri": "https://localhost:8080/",
          "height": 35
        }
      },
      "execution_count": 29,
      "outputs": [
        {
          "output_type": "execute_result",
          "data": {
            "text/plain": [
              "'hello, 1.5'"
            ],
            "application/vnd.google.colaboratory.intrinsic+json": {
              "type": "string"
            }
          },
          "metadata": {},
          "execution_count": 29
        }
      ]
    },
    {
      "cell_type": "markdown",
      "source": [
        "문자열에 정수를 연결하려고 하면 에러가 발생합니다(정수를 문자열로 변환할 수 없어서 TypeError가 발생합니다). 이 문제를 해결하려면 str을 사용하여 숫자(정수, 실수)를 문자열로 변환하면 됩니다.\n",
        "\n",
        "* `'문자열' + str(정수)`\n",
        "* `'문자열' + str(실수)`\n"
      ],
      "metadata": {
        "id": "B9vj3URnvtDK"
      }
    },
    {
      "cell_type": "code",
      "source": [],
      "metadata": {
        "colab": {
          "base_uri": "https://localhost:8080/",
          "height": 35
        },
        "id": "DX7l3o87vkjd",
        "outputId": "11bb8bdb-5ac7-4954-fbec-f11c3da824e6"
      },
      "execution_count": null,
      "outputs": [
        {
          "output_type": "execute_result",
          "data": {
            "text/plain": [
              "'Hello, 10'"
            ],
            "application/vnd.google.colaboratory.intrinsic+json": {
              "type": "string"
            }
          },
          "metadata": {},
          "execution_count": 87
        }
      ]
    },
    {
      "cell_type": "code",
      "source": [],
      "metadata": {
        "colab": {
          "base_uri": "https://localhost:8080/",
          "height": 35
        },
        "id": "_g2k-I5tvr71",
        "outputId": "50edb1a6-b33b-41fc-9e7c-684859d062aa"
      },
      "execution_count": null,
      "outputs": [
        {
          "output_type": "execute_result",
          "data": {
            "text/plain": [
              "'Hello, 1.5'"
            ],
            "application/vnd.google.colaboratory.intrinsic+json": {
              "type": "string"
            }
          },
          "metadata": {},
          "execution_count": 86
        }
      ]
    },
    {
      "cell_type": "markdown",
      "source": [
        "### 시퀀스 객체 반복하기"
      ],
      "metadata": {
        "id": "jEqnBJs2vw81"
      }
    },
    {
      "cell_type": "markdown",
      "source": [
        "이번에는 시퀀스 객체를 반복하는 방법입니다. `*` 연산자는 시퀀스 객체를 특정 횟수만큼 반복하여 새 시퀀스 객체를 만듭니다(0 또는 음수를 곱하면 빈 객체가 나오며 실수는 곱할 수 없습니다).\n",
        "\n",
        "* `시퀀스객체 * 정수`\n",
        "* `정수 * 시퀀스객체`"
      ],
      "metadata": {
        "id": "iAk1xacxv1_8"
      }
    },
    {
      "cell_type": "code",
      "source": [
        "# 같은 내용으로 연결(+)을 n번 반복하겠다 (시퀀스) * 정수\n",
        "[0, 10, 20, 30] * 3, [0, 10, 20, 30] * 0# 0, 30, 60, 90은 나중에 따로배움..."
      ],
      "metadata": {
        "colab": {
          "base_uri": "https://localhost:8080/"
        },
        "id": "OndIEQokv7qu",
        "outputId": "6dc00c05-488b-42ed-e7a0-f6063df41f3c"
      },
      "execution_count": 31,
      "outputs": [
        {
          "output_type": "execute_result",
          "data": {
            "text/plain": [
              "([0, 10, 20, 30, 0, 10, 20, 30, 0, 10, 20, 30], [])"
            ]
          },
          "metadata": {},
          "execution_count": 31
        }
      ]
    },
    {
      "cell_type": "code",
      "source": [
        "# 앞에서 range는 + 연산자로 객체를 연결할 수 없었죠? 마찬가지로 range는 * 연산자를 사용하여 반복할 수 없습니다.\n",
        "range(0, 5, 2) * 3"
      ],
      "metadata": {
        "colab": {
          "base_uri": "https://localhost:8080/",
          "height": 190
        },
        "id": "jq8rdu3dv76N",
        "outputId": "199b9839-e2bb-4cfd-dfe6-9ec85ce596fe"
      },
      "execution_count": 33,
      "outputs": [
        {
          "output_type": "error",
          "ename": "TypeError",
          "evalue": "ignored",
          "traceback": [
            "\u001b[0;31m---------------------------------------------------------------------------\u001b[0m",
            "\u001b[0;31mTypeError\u001b[0m                                 Traceback (most recent call last)",
            "\u001b[0;32m<ipython-input-33-6945ac2694ff>\u001b[0m in \u001b[0;36m<module>\u001b[0;34m\u001b[0m\n\u001b[1;32m      1\u001b[0m \u001b[0;31m# 앞에서 range는 + 연산자로 객체를 연결할 수 없었죠? 마찬가지로 range는 * 연산자를 사용하여 반복할 수 없습니다.\u001b[0m\u001b[0;34m\u001b[0m\u001b[0;34m\u001b[0m\u001b[0;34m\u001b[0m\u001b[0m\n\u001b[0;32m----> 2\u001b[0;31m \u001b[0mrange\u001b[0m\u001b[0;34m(\u001b[0m\u001b[0;36m0\u001b[0m\u001b[0;34m,\u001b[0m \u001b[0;36m5\u001b[0m\u001b[0;34m,\u001b[0m \u001b[0;36m2\u001b[0m\u001b[0;34m)\u001b[0m \u001b[0;34m*\u001b[0m \u001b[0;36m3\u001b[0m\u001b[0;34m\u001b[0m\u001b[0;34m\u001b[0m\u001b[0m\n\u001b[0m",
            "\u001b[0;31mTypeError\u001b[0m: unsupported operand type(s) for *: 'range' and 'int'"
          ]
        }
      ]
    },
    {
      "cell_type": "code",
      "source": [
        "# 이때는 range를 리스트 또는 튜플로 만들어서 반복하면 됩니다.\n",
        "list(range(0, 5, 2)) * 3"
      ],
      "metadata": {
        "colab": {
          "base_uri": "https://localhost:8080/"
        },
        "id": "MJmcQyfp8ru9",
        "outputId": "fccd0a0f-05ee-46ff-822f-6e30447d0dca"
      },
      "execution_count": 37,
      "outputs": [
        {
          "output_type": "execute_result",
          "data": {
            "text/plain": [
              "[0, 2, 4, 0, 2, 4, 0, 2, 4]"
            ]
          },
          "metadata": {},
          "execution_count": 37
        }
      ]
    },
    {
      "cell_type": "code",
      "source": [],
      "metadata": {
        "colab": {
          "base_uri": "https://localhost:8080/"
        },
        "id": "gyRMkMYx8xai",
        "outputId": "e23b6463-aabf-44bf-e993-3f8a3d7236b8"
      },
      "execution_count": null,
      "outputs": [
        {
          "output_type": "execute_result",
          "data": {
            "text/plain": [
              "(0, 2, 4, 0, 2, 4, 0, 2, 4)"
            ]
          },
          "metadata": {},
          "execution_count": 91
        }
      ]
    },
    {
      "cell_type": "code",
      "source": [
        "# 문자열은 * 연산자를 사용하여 반복할 수 있습니다.\n",
        "\"hello. \" * 5"
      ],
      "metadata": {
        "colab": {
          "base_uri": "https://localhost:8080/",
          "height": 35
        },
        "id": "RlUHDsDt8wI1",
        "outputId": "52131bb4-5a90-4571-f466-467ef5c20966"
      },
      "execution_count": 38,
      "outputs": [
        {
          "output_type": "execute_result",
          "data": {
            "text/plain": [
              "'hello. hello. hello. hello. hello. '"
            ],
            "application/vnd.google.colaboratory.intrinsic+json": {
              "type": "string"
            }
          },
          "metadata": {},
          "execution_count": 38
        }
      ]
    },
    {
      "cell_type": "markdown",
      "source": [
        "## 시퀀스 객체의 요소 개수 구하기"
      ],
      "metadata": {
        "id": "hQN-aQOj9J3K"
      }
    },
    {
      "cell_type": "markdown",
      "source": [
        "시퀀스 객체에는 요소가 여러 개 들어있죠? 이 요소의 개수(길이)를 구할 때는 len 함수를 사용합니다(len은 길이를 뜻하는 length에서 따왔습니다).\n",
        "\n",
        "* `len(시퀀스객체)`"
      ],
      "metadata": {
        "id": "JuCG4fUb9UQY"
      }
    },
    {
      "cell_type": "markdown",
      "source": [
        "### 리스트와 튜플의 요소 개수 구하기"
      ],
      "metadata": {
        "id": "00ycuXfu9XbO"
      }
    },
    {
      "cell_type": "code",
      "source": [
        "a = [5, 8, 13, 21, 34]\n",
        "len(a)"
      ],
      "metadata": {
        "colab": {
          "base_uri": "https://localhost:8080/"
        },
        "id": "zQ3yfl1X9aP4",
        "outputId": "e558bceb-17ed-4bc1-ce48-df869e37efde"
      },
      "execution_count": 41,
      "outputs": [
        {
          "output_type": "execute_result",
          "data": {
            "text/plain": [
              "5"
            ]
          },
          "metadata": {},
          "execution_count": 41
        }
      ]
    },
    {
      "cell_type": "code",
      "source": [
        "b = (\"a\", 1, True, 1.5)\n",
        "len(b)"
      ],
      "metadata": {
        "colab": {
          "base_uri": "https://localhost:8080/"
        },
        "id": "UuufJvQa9g-1",
        "outputId": "ab183a1a-34c4-4beb-b296-0b004c191185"
      },
      "execution_count": 44,
      "outputs": [
        {
          "output_type": "execute_result",
          "data": {
            "text/plain": [
              "4"
            ]
          },
          "metadata": {},
          "execution_count": 44
        }
      ]
    },
    {
      "cell_type": "markdown",
      "source": [
        "### range의 숫자 생성 개수 구하기"
      ],
      "metadata": {
        "id": "ia0KCrL5Trhf"
      }
    },
    {
      "cell_type": "code",
      "source": [
        "# range에 len 함수를 사용하면 숫자가 생성되는 개수를 구합니다.\n",
        "c = range(2, 20, 3)\n",
        "len(c)"
      ],
      "metadata": {
        "colab": {
          "base_uri": "https://localhost:8080/"
        },
        "id": "OY2O2HhRTuQi",
        "outputId": "e02e0cd8-65a8-45fb-9a6a-b3cd19d9af46"
      },
      "execution_count": 51,
      "outputs": [
        {
          "output_type": "execute_result",
          "data": {
            "text/plain": [
              "6"
            ]
          },
          "metadata": {},
          "execution_count": 51
        }
      ]
    },
    {
      "cell_type": "markdown",
      "source": [
        "### 문자열의 길이 구하기"
      ],
      "metadata": {
        "id": "XTWh8xJmT4hm"
      }
    },
    {
      "cell_type": "code",
      "source": [
        "# 문자열도 시퀀스 자료형이므로 len 함수를 사용하면 됩니다.\n",
        "s = \"오늘은 점심으로 돈까스가 먹고 싶다\"\n",
        "len(s) #공백까지 센다. \"\"는 안센다. 글씨들만 센다(숫자포함)"
      ],
      "metadata": {
        "colab": {
          "base_uri": "https://localhost:8080/"
        },
        "id": "8bJvOX5sTwEm",
        "outputId": "973cc63a-51b6-4066-ae5a-00aba6d35c60"
      },
      "execution_count": 53,
      "outputs": [
        {
          "output_type": "execute_result",
          "data": {
            "text/plain": [
              "19"
            ]
          },
          "metadata": {},
          "execution_count": 53
        }
      ]
    },
    {
      "cell_type": "code",
      "source": [
        "s2 = \"오늘은 2023년 3월 2일\"\n",
        "len(s2)"
      ],
      "metadata": {
        "id": "gF_xdiKZIiZi",
        "outputId": "7a998664-9313-4975-825f-3c960f734fd0",
        "colab": {
          "base_uri": "https://localhost:8080/"
        }
      },
      "execution_count": 54,
      "outputs": [
        {
          "output_type": "execute_result",
          "data": {
            "text/plain": [
              "15"
            ]
          },
          "metadata": {},
          "execution_count": 54
        }
      ]
    },
    {
      "cell_type": "markdown",
      "source": [
        "여기서 문자열의 길이는 공백까지 포함합니다. 단, 문자열을 묶은 따옴표는 제외합니다. 이 따옴표는 문자열을 표현하는 문법일 뿐 문자열 길이에는 포함되지 않습니다(문자열 안에 포함된 작은따옴표, 큰따옴표는 포함됨)."
      ],
      "metadata": {
        "id": "P4ZkW10_UB3w"
      }
    },
    {
      "cell_type": "markdown",
      "source": [
        "\n",
        "## 인덱스 사용하기\n",
        "\n"
      ],
      "metadata": {
        "id": "vyGz7POSUSxf"
      }
    },
    {
      "cell_type": "markdown",
      "source": [
        "이번에는 시퀀스 객체에 들어있는 요소에 접근하는 방법을 알아보겠습니다. 시퀀스 객체의 각 요소는 순서가 정해져 있으며, 이 순서를 인덱스라고 부릅니다.\n",
        "\n",
        "다음과 같이 시퀀스 객체에 `[ ](대괄호)`를 붙이고 [ ] 안에 각 요소의 인덱스를 지정하면 해당 요소에 접근할 수 있습니다."
      ],
      "metadata": {
        "id": "fnkRRJF1UWIK"
      }
    },
    {
      "cell_type": "code",
      "source": [
        "a = [100, 200, 300, 400, 500] # 컴퓨터의 시작은 0부터다.\n",
        "a[0]"
      ],
      "metadata": {
        "colab": {
          "base_uri": "https://localhost:8080/"
        },
        "id": "m_N5Gwq5UNll",
        "outputId": "b9612540-6443-4fa7-af4b-bf8cfdfc4c70"
      },
      "execution_count": 55,
      "outputs": [
        {
          "output_type": "execute_result",
          "data": {
            "text/plain": [
              "100"
            ]
          },
          "metadata": {},
          "execution_count": 55
        }
      ]
    },
    {
      "cell_type": "code",
      "source": [
        "a[2], a[4]"
      ],
      "metadata": {
        "colab": {
          "base_uri": "https://localhost:8080/"
        },
        "id": "EuXGGyRPUbee",
        "outputId": "9773b674-ef1e-44be-e93c-540946d6af73"
      },
      "execution_count": 57,
      "outputs": [
        {
          "output_type": "execute_result",
          "data": {
            "text/plain": [
              "(300, 500)"
            ]
          },
          "metadata": {},
          "execution_count": 57
        }
      ]
    },
    {
      "cell_type": "code",
      "source": [
        "a[5]"
      ],
      "metadata": {
        "id": "wLndfL_hKaIB",
        "outputId": "e8fc03e5-9532-49ce-b32a-cb0fa2368b0c",
        "colab": {
          "base_uri": "https://localhost:8080/",
          "height": 172
        }
      },
      "execution_count": 58,
      "outputs": [
        {
          "output_type": "error",
          "ename": "IndexError",
          "evalue": "ignored",
          "traceback": [
            "\u001b[0;31m---------------------------------------------------------------------------\u001b[0m",
            "\u001b[0;31mIndexError\u001b[0m                                Traceback (most recent call last)",
            "\u001b[0;32m<ipython-input-58-4a84d856522b>\u001b[0m in \u001b[0;36m<module>\u001b[0;34m\u001b[0m\n\u001b[0;32m----> 1\u001b[0;31m \u001b[0ma\u001b[0m\u001b[0;34m[\u001b[0m\u001b[0;36m5\u001b[0m\u001b[0;34m]\u001b[0m\u001b[0;34m\u001b[0m\u001b[0;34m\u001b[0m\u001b[0m\n\u001b[0m",
            "\u001b[0;31mIndexError\u001b[0m: list index out of range"
          ]
        }
      ]
    },
    {
      "cell_type": "markdown",
      "source": [],
      "metadata": {
        "id": "cCRMeNbpUdO-"
      }
    },
    {
      "cell_type": "markdown",
      "source": [
        "인덱스(index, 색인)는 위치 값을 뜻하는데 국어사전 옆면에 ㄱ, ㄴ, ㄷ으로 표시해 놓은 것과 비슷합니다. 여기서 주의할 점은 시퀀스 객체의 인덱스는 항상 0부터 시작한다는 점입니다(대다수의 프로그래밍 언어는 인덱스가 0부터 시작합니다). 따라서 리스트 a의 첫 번째 요소는 a[0]이 됩니다. 꼭 기억해두세요."
      ],
      "metadata": {
        "id": "nntMkYCJUgmL"
      }
    },
    {
      "cell_type": "markdown",
      "source": [
        "튜플, range, 문자열도 [ ]에 인덱스를 지정하면 해당 요소를 가져올 수 있습니다."
      ],
      "metadata": {
        "id": "Nxe7mFCzUm7R"
      }
    },
    {
      "cell_type": "code",
      "source": [
        "# 튜플 b의 첫 번째(인덱스 0) 요소를 출력합니다.\n",
        "b = (5, 13, 21, 24, 55)\n",
        "b[0]"
      ],
      "metadata": {
        "colab": {
          "base_uri": "https://localhost:8080/"
        },
        "id": "tc-D0_6FUeVW",
        "outputId": "9ad58141-ad11-462c-db92-433a9e02a21e"
      },
      "execution_count": 59,
      "outputs": [
        {
          "output_type": "execute_result",
          "data": {
            "text/plain": [
              "5"
            ]
          },
          "metadata": {},
          "execution_count": 59
        }
      ]
    },
    {
      "cell_type": "markdown",
      "source": [
        "range도 인덱스로 접근할 수 있습니다."
      ],
      "metadata": {
        "id": "kdIOz1bxUxpm"
      }
    },
    {
      "cell_type": "code",
      "source": [
        "# range의 세 번째(인덱스 2) 요소를 출력합니다.\n",
        "r = range(2, 10)\n",
        "r[2]"
      ],
      "metadata": {
        "colab": {
          "base_uri": "https://localhost:8080/"
        },
        "id": "zoPRaoH7UwTN",
        "outputId": "59165cac-0545-481b-c82b-b4f4366681ec"
      },
      "execution_count": 61,
      "outputs": [
        {
          "output_type": "execute_result",
          "data": {
            "text/plain": [
              "4"
            ]
          },
          "metadata": {},
          "execution_count": 61
        }
      ]
    },
    {
      "cell_type": "markdown",
      "source": [
        "문자열은 요소가 문자이므로 인덱스로 접근하면 문자가 나옵니다."
      ],
      "metadata": {
        "id": "ITnwlHw4U6f5"
      }
    },
    {
      "cell_type": "code",
      "source": [
        "# 문자열 hello의 여덟 번째 요소를 출력합니다.\n",
        "s = \"hello world\"\n",
        "s[7], s[5]"
      ],
      "metadata": {
        "colab": {
          "base_uri": "https://localhost:8080/"
        },
        "id": "m_2Gt_QmU4TW",
        "outputId": "418277ba-529e-4f29-ab49-ce360c8e01ec"
      },
      "execution_count": 63,
      "outputs": [
        {
          "output_type": "execute_result",
          "data": {
            "text/plain": [
              "('o', ' ')"
            ]
          },
          "metadata": {},
          "execution_count": 63
        }
      ]
    },
    {
      "cell_type": "markdown",
      "source": [
        "### 시퀀스 객체에 인덱스를 지정하지 않으면?"
      ],
      "metadata": {
        "id": "SP1FRGBLVEU2"
      }
    },
    {
      "cell_type": "markdown",
      "source": [
        "시퀀스 객체에 인덱스를 지정하지 않은 상태는 해당 객체 전체를 뜻합니다. 따라서 다음과 같이 리스트 a를 출력하면 [ ]를 포함하여 리스트 전체가 출력됩니다."
      ],
      "metadata": {
        "id": "j2iLX1WfVGuL"
      }
    },
    {
      "cell_type": "code",
      "source": [
        "a = [38, 21, 30, 45, 50] # 인덱스를 별도로 지정해주지 않은 상태로 호출하면, 해당 시퀀스 객체 자체가 호출\n",
        "a"
      ],
      "metadata": {
        "colab": {
          "base_uri": "https://localhost:8080/"
        },
        "id": "pPswi8tyU-RW",
        "outputId": "1c9b2a27-4dc7-4353-9412-b9557bc121d3"
      },
      "execution_count": 65,
      "outputs": [
        {
          "output_type": "execute_result",
          "data": {
            "text/plain": [
              "[38, 21, 30, 45, 50]"
            ]
          },
          "metadata": {},
          "execution_count": 65
        }
      ]
    },
    {
      "cell_type": "markdown",
      "source": [
        "### 음수 인덱스 지정하기"
      ],
      "metadata": {
        "id": "Twe4KEQRVVSk"
      }
    },
    {
      "cell_type": "markdown",
      "source": [
        "지금까지 시퀀스 객체에 인덱스를 양수만 지정했습니다. 그러면 인덱스를 음수로 지정하면 어떻게 될까요?"
      ],
      "metadata": {
        "id": "xppEXDEkVWl5"
      }
    },
    {
      "cell_type": "code",
      "source": [
        "# 음수 인덱스 뒤부터 세고 0이 없어짐...............\n",
        "a[-1] #뒤에서 첫번째"
      ],
      "metadata": {
        "colab": {
          "base_uri": "https://localhost:8080/"
        },
        "id": "QD01BGWmVYvu",
        "outputId": "cbbd2073-b464-4ec2-c1b1-0d3bf3a70f74"
      },
      "execution_count": 66,
      "outputs": [
        {
          "output_type": "execute_result",
          "data": {
            "text/plain": [
              "50"
            ]
          },
          "metadata": {},
          "execution_count": 66
        }
      ]
    },
    {
      "cell_type": "code",
      "source": [
        "a[-5 ]"
      ],
      "metadata": {
        "colab": {
          "base_uri": "https://localhost:8080/"
        },
        "id": "zjJHQyZgVbiP",
        "outputId": "1d57fb2e-ad8b-4f32-abed-69942e73bfe3"
      },
      "execution_count": 67,
      "outputs": [
        {
          "output_type": "execute_result",
          "data": {
            "text/plain": [
              "38"
            ]
          },
          "metadata": {},
          "execution_count": 67
        }
      ]
    },
    {
      "cell_type": "markdown",
      "source": [
        "튜플, range, 문자열도 음수 인덱스를 지정하면 뒤에서부터 요소에 접근합니다."
      ],
      "metadata": {
        "id": "KJGo0mOGVfC8"
      }
    },
    {
      "cell_type": "code",
      "source": [
        "b = tuple(a)\n",
        "b"
      ],
      "metadata": {
        "colab": {
          "base_uri": "https://localhost:8080/"
        },
        "id": "StUl50vtVb2N",
        "outputId": "d4159b1e-3ee6-4129-e88b-52c3e3221e63"
      },
      "execution_count": 68,
      "outputs": [
        {
          "output_type": "execute_result",
          "data": {
            "text/plain": [
              "(38, 21, 30, 45, 50)"
            ]
          },
          "metadata": {},
          "execution_count": 68
        }
      ]
    },
    {
      "cell_type": "code",
      "source": [
        "b = tuple(a)\n",
        "b[-1]"
      ],
      "metadata": {
        "colab": {
          "base_uri": "https://localhost:8080/"
        },
        "id": "LXS_Khb_VktG",
        "outputId": "337efa6d-3e39-4a00-e7b0-1ccf84a62a32"
      },
      "execution_count": 69,
      "outputs": [
        {
          "output_type": "execute_result",
          "data": {
            "text/plain": [
              "50"
            ]
          },
          "metadata": {},
          "execution_count": 69
        }
      ]
    },
    {
      "cell_type": "markdown",
      "source": [
        "### 인덱스의 범위를 벗어나면?\n"
      ],
      "metadata": {
        "id": "FLS9_WVsVvaU"
      }
    },
    {
      "cell_type": "markdown",
      "source": [
        "시퀀스 객체를 만들면 요소의 개수는 정해져 있죠? 다음과 같이 리스트를 만든 뒤 범위를 벗어난 인덱스에 접근하면 어떻게 될까요?"
      ],
      "metadata": {
        "id": "nN-oCR2jVxlB"
      }
    },
    {
      "cell_type": "code",
      "source": [
        "len(a)"
      ],
      "metadata": {
        "colab": {
          "base_uri": "https://localhost:8080/"
        },
        "id": "p5ofN3IYVnH-",
        "outputId": "ef0cc34d-d4cb-4183-908a-a8c10318e17b"
      },
      "execution_count": 73,
      "outputs": [
        {
          "output_type": "execute_result",
          "data": {
            "text/plain": [
              "5"
            ]
          },
          "metadata": {},
          "execution_count": 73
        }
      ]
    },
    {
      "cell_type": "markdown",
      "source": [
        "리스트 a의 요소 개수는 5개인데 a[5]와 같이 지정하면 리스트의 범위를 벗어나게 되므로 에러가 발생합니다. 왜냐하면 인덱스는 0부터 시작하므로 마지막 요소의 인덱스는 4이기 때문이죠. 즉, 마지막 요소의 인덱스는 시퀀스 객체의 요소 개수보다 1 작습니다. 이 부분은 시퀀스 객체를 사용할 때 자주 틀리는 부분이므로 꼭 기억해두세요.\n",
        "\n",
        "마찬가지로 튜플, range, 문자열도 범위를 벗어난 인덱스를 지정하면 IndexError가 발생합니다."
      ],
      "metadata": {
        "id": "St_asaNdV2C6"
      }
    },
    {
      "cell_type": "markdown",
      "source": [
        "### 마지막 요소에 접근하기"
      ],
      "metadata": {
        "id": "u2oU3rozV4XY"
      }
    },
    {
      "cell_type": "markdown",
      "source": [
        "앞에서 시퀀스 객체에 인덱스를 -1로 지정하면 뒤에서 첫 번째 요소에 접근한다고 했죠? 바로 시퀀스 객체의 마지막 요소입니다.\n",
        "\n",
        "그러면 시퀀스 객체의 마지막 요소에 접근하는 다른 방법은 없을까요? 다음과 같이 len 함수로 리스트의 길이를 구한 뒤 이 길이를 인덱스로 지정해보면 에러가 발생합니다."
      ],
      "metadata": {
        "id": "Bz9hWy0PV6CJ"
      }
    },
    {
      "cell_type": "code",
      "source": [
        "a, len(a)"
      ],
      "metadata": {
        "colab": {
          "base_uri": "https://localhost:8080/"
        },
        "id": "VmZ4UeHTVzr9",
        "outputId": "b8fbd109-aa4b-4aaf-b966-b27e42bea899"
      },
      "execution_count": 76,
      "outputs": [
        {
          "output_type": "execute_result",
          "data": {
            "text/plain": [
              "([38, 21, 30, 45, 50], 5)"
            ]
          },
          "metadata": {},
          "execution_count": 76
        }
      ]
    },
    {
      "cell_type": "code",
      "source": [
        "a[len(a)]"
      ],
      "metadata": {
        "colab": {
          "base_uri": "https://localhost:8080/",
          "height": 172
        },
        "id": "lqxv4wwsV9hk",
        "outputId": "29c820c7-3109-4bee-8465-2b098e1d4209"
      },
      "execution_count": 77,
      "outputs": [
        {
          "output_type": "error",
          "ename": "IndexError",
          "evalue": "ignored",
          "traceback": [
            "\u001b[0;31m---------------------------------------------------------------------------\u001b[0m",
            "\u001b[0;31mIndexError\u001b[0m                                Traceback (most recent call last)",
            "\u001b[0;32m<ipython-input-77-836f840eaf9f>\u001b[0m in \u001b[0;36m<module>\u001b[0;34m\u001b[0m\n\u001b[0;32m----> 1\u001b[0;31m \u001b[0ma\u001b[0m\u001b[0;34m[\u001b[0m\u001b[0mlen\u001b[0m\u001b[0;34m(\u001b[0m\u001b[0ma\u001b[0m\u001b[0;34m)\u001b[0m\u001b[0;34m]\u001b[0m\u001b[0;34m\u001b[0m\u001b[0;34m\u001b[0m\u001b[0m\n\u001b[0m",
            "\u001b[0;31mIndexError\u001b[0m: list index out of range"
          ]
        }
      ]
    },
    {
      "cell_type": "code",
      "source": [
        "a[len(a)-1], a[-1]"
      ],
      "metadata": {
        "id": "I_h2jO2UNJQl",
        "outputId": "89f64de5-4da5-4c22-8d44-68567aa2e1ca",
        "colab": {
          "base_uri": "https://localhost:8080/"
        }
      },
      "execution_count": 78,
      "outputs": [
        {
          "output_type": "execute_result",
          "data": {
            "text/plain": [
              "(50, 50)"
            ]
          },
          "metadata": {},
          "execution_count": 78
        }
      ]
    },
    {
      "cell_type": "markdown",
      "source": [
        "리스트 a의 인덱스는 0부터 4까지이므로 인덱스에 a의 길이 5를 지정하면 인덱스의 범위를 벗어나게 됩니다. 따라서 5가 아닌 4를 지정해야 마지막 문자가 나옵니다."
      ],
      "metadata": {
        "id": "BSxXfhDcV_S_"
      }
    },
    {
      "cell_type": "code",
      "source": [],
      "metadata": {
        "colab": {
          "base_uri": "https://localhost:8080/"
        },
        "id": "ekjirZMCV9xM",
        "outputId": "aa2bc23d-c29a-4a11-c628-8be66a6a8ab8"
      },
      "execution_count": null,
      "outputs": [
        {
          "output_type": "execute_result",
          "data": {
            "text/plain": [
              "19"
            ]
          },
          "metadata": {},
          "execution_count": 114
        }
      ]
    },
    {
      "cell_type": "code",
      "source": [
        "# 인덱스에 len(a)를 넣으면?\n"
      ],
      "metadata": {
        "colab": {
          "base_uri": "https://localhost:8080/",
          "height": 191
        },
        "id": "bdiI75uIWCw1",
        "outputId": "35fca282-75eb-41d3-f8ff-8d2a9d7d6be4"
      },
      "execution_count": null,
      "outputs": [
        {
          "output_type": "error",
          "ename": "IndexError",
          "evalue": "ignored",
          "traceback": [
            "\u001b[0;31m---------------------------------------------------------------------------\u001b[0m",
            "\u001b[0;31mIndexError\u001b[0m                                Traceback (most recent call last)",
            "\u001b[0;32m<ipython-input-115-1844f4c2d617>\u001b[0m in \u001b[0;36m<module>\u001b[0;34m\u001b[0m\n\u001b[1;32m      1\u001b[0m \u001b[0;31m# 인덱스에 len(a)를 넣으면?\u001b[0m\u001b[0;34m\u001b[0m\u001b[0;34m\u001b[0m\u001b[0;34m\u001b[0m\u001b[0m\n\u001b[0;32m----> 2\u001b[0;31m \u001b[0ma\u001b[0m\u001b[0;34m[\u001b[0m\u001b[0mlen\u001b[0m\u001b[0;34m(\u001b[0m\u001b[0ma\u001b[0m\u001b[0;34m)\u001b[0m\u001b[0;34m]\u001b[0m\u001b[0;34m\u001b[0m\u001b[0;34m\u001b[0m\u001b[0m\n\u001b[0m",
            "\u001b[0;31mIndexError\u001b[0m: list index out of range"
          ]
        }
      ]
    },
    {
      "cell_type": "code",
      "source": [
        "# len(a)는 5이므로 인덱스가 범위를 벗어납니다. 이때는 len(a)에서 1을 빼주어야 인덱스가 범위를 벗어나지 않습니다.\n"
      ],
      "metadata": {
        "colab": {
          "base_uri": "https://localhost:8080/"
        },
        "id": "Q3PsZ1l7WG-d",
        "outputId": "4be02740-81a8-4612-c2e2-0b811c2d1374"
      },
      "execution_count": null,
      "outputs": [
        {
          "output_type": "execute_result",
          "data": {
            "text/plain": [
              "19"
            ]
          },
          "metadata": {},
          "execution_count": 116
        }
      ]
    },
    {
      "cell_type": "markdown",
      "source": [
        "* CRUD : Creat(추가, 생성)/ Read(읽기)/ Update(수정, 갱신)/ Delete(삭제)\n",
        "* 데이터 관련한 어플리케이션/"
      ],
      "metadata": {
        "id": "aLF4lbFhNiod"
      }
    },
    {
      "cell_type": "markdown",
      "source": [
        "### 요소에 값 할당하기"
      ],
      "metadata": {
        "id": "wza8_HFJWY3j"
      }
    },
    {
      "cell_type": "markdown",
      "source": [
        "이제 시퀀스 객체의 요소에 값을 할당하는 방법을 알아보겠습니다. 시퀀스 객체는 [ ]로 요소에 접근한 뒤 =로 값을 할당합니다.\n",
        "\n",
        "* `시퀀스객체[인덱스] = 값`"
      ],
      "metadata": {
        "id": "x2cpQK1fWasf"
      }
    },
    {
      "cell_type": "code",
      "source": [
        "a = [0, 0, 0, 0, 0]\n",
        "a = [0] * 5\n",
        "print(a)\n",
        "a[0] = 5\n",
        "a[1] = 8\n",
        "a[2] = 13\n",
        "a[3] = 62\n",
        "a[4] = 34\n",
        "a"
      ],
      "metadata": {
        "colab": {
          "base_uri": "https://localhost:8080/"
        },
        "id": "NlGaDKulWKmN",
        "outputId": "0daea267-b689-4e88-8158-9ec7b4028dec"
      },
      "execution_count": 80,
      "outputs": [
        {
          "output_type": "stream",
          "name": "stdout",
          "text": [
            "[0, 0, 0, 0, 0]\n"
          ]
        },
        {
          "output_type": "execute_result",
          "data": {
            "text/plain": [
              "[5, 8, 13, 62, 34]"
            ]
          },
          "metadata": {},
          "execution_count": 80
        }
      ]
    },
    {
      "cell_type": "code",
      "source": [],
      "metadata": {
        "colab": {
          "base_uri": "https://localhost:8080/"
        },
        "id": "9fkVfqSZWi51",
        "outputId": "afd6c25e-d354-4eb7-d03d-febc03ab2160"
      },
      "execution_count": null,
      "outputs": [
        {
          "output_type": "execute_result",
          "data": {
            "text/plain": [
              "(38, 19)"
            ]
          },
          "metadata": {},
          "execution_count": 118
        }
      ]
    },
    {
      "cell_type": "code",
      "source": [
        "# 튜플의 [ ]에 인덱스를 지정한 뒤 값을 할당하면 에러가 발생합니다.\n",
        "t = tuple(a)\n",
        "print(t)\n",
        "t[3] = 99"
      ],
      "metadata": {
        "id": "Hhrwr1HiWjOG",
        "outputId": "6b339c03-bbcb-42e1-963c-7b982fbb278d",
        "colab": {
          "base_uri": "https://localhost:8080/",
          "height": 227
        }
      },
      "execution_count": 82,
      "outputs": [
        {
          "output_type": "stream",
          "name": "stdout",
          "text": [
            "t\n"
          ]
        },
        {
          "output_type": "error",
          "ename": "TypeError",
          "evalue": "ignored",
          "traceback": [
            "\u001b[0;31m---------------------------------------------------------------------------\u001b[0m",
            "\u001b[0;31mTypeError\u001b[0m                                 Traceback (most recent call last)",
            "\u001b[0;32m<ipython-input-82-1def5f2a8645>\u001b[0m in \u001b[0;36m<module>\u001b[0;34m\u001b[0m\n\u001b[1;32m      2\u001b[0m \u001b[0mt\u001b[0m \u001b[0;34m=\u001b[0m \u001b[0mtuple\u001b[0m\u001b[0;34m(\u001b[0m\u001b[0ma\u001b[0m\u001b[0;34m)\u001b[0m\u001b[0;34m\u001b[0m\u001b[0;34m\u001b[0m\u001b[0m\n\u001b[1;32m      3\u001b[0m \u001b[0mprint\u001b[0m\u001b[0;34m(\u001b[0m\u001b[0;34m't'\u001b[0m\u001b[0;34m)\u001b[0m\u001b[0;34m\u001b[0m\u001b[0;34m\u001b[0m\u001b[0m\n\u001b[0;32m----> 4\u001b[0;31m \u001b[0mt\u001b[0m\u001b[0;34m[\u001b[0m\u001b[0;36m3\u001b[0m\u001b[0;34m]\u001b[0m \u001b[0;34m=\u001b[0m \u001b[0;36m99\u001b[0m\u001b[0;34m\u001b[0m\u001b[0;34m\u001b[0m\u001b[0m\n\u001b[0m",
            "\u001b[0;31mTypeError\u001b[0m: 'tuple' object does not support item assignment"
          ]
        }
      ]
    },
    {
      "cell_type": "code",
      "source": [
        "# range와 문자열도 안에 저장된 요소를 변경할 수 없습니다.\n",
        "# 바꾸고싶으면 리스트로 바꿔서 수정가능\n",
        "r = range(0, 10)\n",
        "r[0] = 3"
      ],
      "metadata": {
        "id": "_jH_LxWPWuHj",
        "colab": {
          "base_uri": "https://localhost:8080/",
          "height": 209
        },
        "outputId": "e2af0371-c9b7-4b2f-fdf2-8a1b6da14f50"
      },
      "execution_count": 83,
      "outputs": [
        {
          "output_type": "error",
          "ename": "TypeError",
          "evalue": "ignored",
          "traceback": [
            "\u001b[0;31m---------------------------------------------------------------------------\u001b[0m",
            "\u001b[0;31mTypeError\u001b[0m                                 Traceback (most recent call last)",
            "\u001b[0;32m<ipython-input-83-d4032fe9aef6>\u001b[0m in \u001b[0;36m<module>\u001b[0;34m\u001b[0m\n\u001b[1;32m      2\u001b[0m \u001b[0;31m# 바꾸고싶으면 리스트로 바꿔서 수정가능\u001b[0m\u001b[0;34m\u001b[0m\u001b[0;34m\u001b[0m\u001b[0;34m\u001b[0m\u001b[0m\n\u001b[1;32m      3\u001b[0m \u001b[0mr\u001b[0m \u001b[0;34m=\u001b[0m \u001b[0mrange\u001b[0m\u001b[0;34m(\u001b[0m\u001b[0;36m0\u001b[0m\u001b[0;34m,\u001b[0m \u001b[0;36m10\u001b[0m\u001b[0;34m)\u001b[0m\u001b[0;34m\u001b[0m\u001b[0;34m\u001b[0m\u001b[0m\n\u001b[0;32m----> 4\u001b[0;31m \u001b[0mr\u001b[0m\u001b[0;34m[\u001b[0m\u001b[0;36m0\u001b[0m\u001b[0;34m]\u001b[0m \u001b[0;34m=\u001b[0m \u001b[0;36m3\u001b[0m\u001b[0;34m\u001b[0m\u001b[0;34m\u001b[0m\u001b[0m\n\u001b[0m",
            "\u001b[0;31mTypeError\u001b[0m: 'range' object does not support item assignment"
          ]
        }
      ]
    },
    {
      "cell_type": "code",
      "source": [
        "s = \"today\"\n",
        "s[0], s[0] = \"t\""
      ],
      "metadata": {
        "colab": {
          "base_uri": "https://localhost:8080/",
          "height": 190
        },
        "id": "YNa9x3VKW31G",
        "outputId": "06b99832-02c0-43da-e4bb-23653fbc4904"
      },
      "execution_count": 87,
      "outputs": [
        {
          "output_type": "error",
          "ename": "ValueError",
          "evalue": "ignored",
          "traceback": [
            "\u001b[0;31m---------------------------------------------------------------------------\u001b[0m",
            "\u001b[0;31mValueError\u001b[0m                                Traceback (most recent call last)",
            "\u001b[0;32m<ipython-input-87-b71432e85f67>\u001b[0m in \u001b[0;36m<module>\u001b[0;34m\u001b[0m\n\u001b[1;32m      1\u001b[0m \u001b[0ms\u001b[0m \u001b[0;34m=\u001b[0m \u001b[0;34m\"today\"\u001b[0m\u001b[0;34m\u001b[0m\u001b[0;34m\u001b[0m\u001b[0m\n\u001b[0;32m----> 2\u001b[0;31m \u001b[0ms\u001b[0m\u001b[0;34m[\u001b[0m\u001b[0;36m0\u001b[0m\u001b[0;34m]\u001b[0m\u001b[0;34m,\u001b[0m \u001b[0ms\u001b[0m\u001b[0;34m[\u001b[0m\u001b[0;36m0\u001b[0m\u001b[0;34m]\u001b[0m \u001b[0;34m=\u001b[0m \u001b[0;34m\"t\"\u001b[0m\u001b[0;34m\u001b[0m\u001b[0;34m\u001b[0m\u001b[0m\n\u001b[0m",
            "\u001b[0;31mValueError\u001b[0m: not enough values to unpack (expected 2, got 1)"
          ]
        }
      ]
    },
    {
      "cell_type": "code",
      "source": [
        "# 수정은 리스트만 가능하다."
      ],
      "metadata": {
        "id": "t9-IZj3FO6jB"
      },
      "execution_count": null,
      "outputs": []
    },
    {
      "cell_type": "markdown",
      "source": [
        "### del로 요소 삭제하기"
      ],
      "metadata": {
        "id": "B3RD47YZW9IB"
      }
    },
    {
      "cell_type": "markdown",
      "source": [
        "이번에는 del로 시퀀스 객체의 요소를 삭제해보겠습니다. 요소 삭제는 다음과 같이 del 뒤에 삭제할 요소를 지정해주면 됩니다.(잘안씀)\n",
        "\n",
        "* `del 시퀀스객체[인덱스]`"
      ],
      "metadata": {
        "id": "Nj1MNreLXFfu"
      }
    },
    {
      "cell_type": "code",
      "source": [
        "# 리스트를 만들고 세 번째 요소(인덱스 2)를 삭제해보겠습니다.\n",
        "print(a)\n",
        "del a[2]\n",
        "a"
      ],
      "metadata": {
        "colab": {
          "base_uri": "https://localhost:8080/"
        },
        "id": "09ckOaS7W52u",
        "outputId": "3f8c5c69-8c57-487e-cc10-4cf96cfed48d"
      },
      "execution_count": 88,
      "outputs": [
        {
          "output_type": "stream",
          "name": "stdout",
          "text": [
            "[5, 8, 13, 62, 34]\n"
          ]
        },
        {
          "output_type": "execute_result",
          "data": {
            "text/plain": [
              "[5, 8, 62, 34]"
            ]
          },
          "metadata": {},
          "execution_count": 88
        }
      ]
    },
    {
      "cell_type": "code",
      "source": [
        "a[2]"
      ],
      "metadata": {
        "id": "O94a0rVJSNwp",
        "outputId": "9468b09c-2206-4267-eaa1-06093410dba6",
        "colab": {
          "base_uri": "https://localhost:8080/"
        }
      },
      "execution_count": 89,
      "outputs": [
        {
          "output_type": "execute_result",
          "data": {
            "text/plain": [
              "62"
            ]
          },
          "metadata": {},
          "execution_count": 89
        }
      ]
    },
    {
      "cell_type": "code",
      "source": [
        "# 리스트와는 달리 튜플은 요소를 삭제할 수 없습니다.\n",
        "print(b)"
      ],
      "metadata": {
        "colab": {
          "base_uri": "https://localhost:8080/"
        },
        "id": "k0VBVN2xXT2U",
        "outputId": "c04fec15-6971-4d72-c52c-cc9ecacce3d3"
      },
      "execution_count": 92,
      "outputs": [
        {
          "output_type": "stream",
          "name": "stdout",
          "text": [
            "(38, 21, 30, 45, 50)\n"
          ]
        }
      ]
    },
    {
      "cell_type": "code",
      "source": [
        "del b[2]"
      ],
      "metadata": {
        "id": "1DDXF_k6Suic",
        "outputId": "449d8fcb-94c3-4f14-8112-3ae5e12de322",
        "colab": {
          "base_uri": "https://localhost:8080/",
          "height": 172
        }
      },
      "execution_count": 93,
      "outputs": [
        {
          "output_type": "error",
          "ename": "TypeError",
          "evalue": "ignored",
          "traceback": [
            "\u001b[0;31m---------------------------------------------------------------------------\u001b[0m",
            "\u001b[0;31mTypeError\u001b[0m                                 Traceback (most recent call last)",
            "\u001b[0;32m<ipython-input-93-19fb35767ea3>\u001b[0m in \u001b[0;36m<module>\u001b[0;34m\u001b[0m\n\u001b[0;32m----> 1\u001b[0;31m \u001b[0;32mdel\u001b[0m \u001b[0mb\u001b[0m\u001b[0;34m[\u001b[0m\u001b[0;36m2\u001b[0m\u001b[0;34m]\u001b[0m\u001b[0;34m\u001b[0m\u001b[0;34m\u001b[0m\u001b[0m\n\u001b[0m",
            "\u001b[0;31mTypeError\u001b[0m: 'tuple' object doesn't support item deletion"
          ]
        }
      ]
    },
    {
      "cell_type": "code",
      "source": [
        "# range와 문자열도 안에 저장된 요소를 삭제할 수 없습니다.\n"
      ],
      "metadata": {
        "colab": {
          "base_uri": "https://localhost:8080/",
          "height": 210
        },
        "id": "prPr--JPXYNm",
        "outputId": "edea9f3d-73b2-4632-ba20-ddfbfc270004"
      },
      "execution_count": null,
      "outputs": [
        {
          "output_type": "error",
          "ename": "TypeError",
          "evalue": "ignored",
          "traceback": [
            "\u001b[0;31m---------------------------------------------------------------------------\u001b[0m",
            "\u001b[0;31mTypeError\u001b[0m                                 Traceback (most recent call last)",
            "\u001b[0;32m<ipython-input-123-d7171c0d7e70>\u001b[0m in \u001b[0;36m<module>\u001b[0;34m\u001b[0m\n\u001b[1;32m      1\u001b[0m \u001b[0;31m# range와 문자열도 안에 저장된 요소를 삭제할 수 없습니다.\u001b[0m\u001b[0;34m\u001b[0m\u001b[0;34m\u001b[0m\u001b[0;34m\u001b[0m\u001b[0m\n\u001b[1;32m      2\u001b[0m \u001b[0mr\u001b[0m \u001b[0;34m=\u001b[0m \u001b[0mrange\u001b[0m\u001b[0;34m(\u001b[0m\u001b[0;36m0\u001b[0m\u001b[0;34m,\u001b[0m \u001b[0;36m10\u001b[0m\u001b[0;34m,\u001b[0m \u001b[0;36m2\u001b[0m\u001b[0;34m)\u001b[0m\u001b[0;34m\u001b[0m\u001b[0;34m\u001b[0m\u001b[0m\n\u001b[0;32m----> 3\u001b[0;31m \u001b[0;32mdel\u001b[0m \u001b[0mr\u001b[0m\u001b[0;34m[\u001b[0m\u001b[0;36m2\u001b[0m\u001b[0;34m]\u001b[0m\u001b[0;34m\u001b[0m\u001b[0;34m\u001b[0m\u001b[0m\n\u001b[0m",
            "\u001b[0;31mTypeError\u001b[0m: 'range' object doesn't support item deletion"
          ]
        }
      ]
    },
    {
      "cell_type": "markdown",
      "source": [
        "[링크 텍스트](https://)## 슬라이스 사용하기"
      ],
      "metadata": {
        "id": "SU4DWbQoXTPq"
      }
    },
    {
      "cell_type": "markdown",
      "source": [
        "시퀀스 자료형은 슬라이스라는 기능을 자주 사용합니다. 슬라이스(slice)는 무엇인가의 일부를 잘라낸다는 뜻인데, 시퀀스 슬라이스도 말 그대로 시퀀스 객체의 일부를 잘라냅니다.\n",
        "\n",
        "* `시퀀스객체[시작인덱스:끝인덱스]`"
      ],
      "metadata": {
        "id": "xuyFx4MUXr6d"
      }
    },
    {
      "cell_type": "code",
      "source": [
        "a = list(range(0, 100, 10))\n",
        "a, a[0:4] # 시작인데스 포함, 끝 인덱스 미포함"
      ],
      "metadata": {
        "colab": {
          "base_uri": "https://localhost:8080/"
        },
        "id": "LEQIrd2wXuIt",
        "outputId": "ee645e35-f2a5-446a-b36e-c91373f20133"
      },
      "execution_count": 99,
      "outputs": [
        {
          "output_type": "execute_result",
          "data": {
            "text/plain": [
              "([0, 10, 20, 30, 40, 50, 60, 70, 80, 90], [0, 10, 20, 30])"
            ]
          },
          "metadata": {},
          "execution_count": 99
        }
      ]
    },
    {
      "cell_type": "markdown",
      "source": [
        "[ ] 안에 시작 인덱스와 끝 인덱스를 지정하면 해당 범위의 리스트를 잘라서 가져올 수 있습니다. 여기서 주의할 점이 있는데, 끝 인덱스는 가져오려는 범위에 포함되지 않습니다. 따라서 끝 인덱스는 실제로 가져오려는 인덱스보다 1을 더 크게 지정해야 합니다. (끝 인덱스는 범위를 벗어난 인덱스를 지정할 수 있습니다)."
      ],
      "metadata": {
        "id": "JXshPrTnXyDB"
      }
    },
    {
      "cell_type": "code",
      "source": [
        "a[0:111] #슬라이싱할 때 끝 인덱스는 실제 가져오려는 것보다\n",
        "# 범위에 벗어난 인덱스도 지정 가능"
      ],
      "metadata": {
        "colab": {
          "base_uri": "https://localhost:8080/"
        },
        "id": "XmxuGwhPXv3W",
        "outputId": "d334cc41-5299-4547-f4ba-eaaff37a4414"
      },
      "execution_count": 101,
      "outputs": [
        {
          "output_type": "execute_result",
          "data": {
            "text/plain": [
              "[0, 10, 20, 30, 40, 50, 60, 70, 80, 90]"
            ]
          },
          "metadata": {},
          "execution_count": 101
        }
      ]
    },
    {
      "cell_type": "code",
      "source": [
        "a[0:1] # 0 하나만을 원소로 가지는 리스트"
      ],
      "metadata": {
        "id": "45xO-xndUIWP",
        "outputId": "97f2b208-1261-477a-8c41-b37b4a5afce5",
        "colab": {
          "base_uri": "https://localhost:8080/"
        }
      },
      "execution_count": 102,
      "outputs": [
        {
          "output_type": "execute_result",
          "data": {
            "text/plain": [
              "[0]"
            ]
          },
          "metadata": {},
          "execution_count": 102
        }
      ]
    },
    {
      "cell_type": "code",
      "source": [
        "# 인덱스(특정 원소) vs 슬라이스(범위)"
      ],
      "metadata": {
        "id": "JUH3Us-eUR5I"
      },
      "execution_count": null,
      "outputs": []
    },
    {
      "cell_type": "code",
      "source": [
        "a[1:1] # 빈 리스트(시작점 끝점 같으면 -> 빈)"
      ],
      "metadata": {
        "id": "wjJ-j8btUGWQ",
        "outputId": "449fa08a-2705-419f-f0d8-28c0fd24066c",
        "colab": {
          "base_uri": "https://localhost:8080/"
        }
      },
      "execution_count": 103,
      "outputs": [
        {
          "output_type": "execute_result",
          "data": {
            "text/plain": [
              "[]"
            ]
          },
          "metadata": {},
          "execution_count": 103
        }
      ]
    },
    {
      "cell_type": "code",
      "source": [],
      "metadata": {
        "colab": {
          "base_uri": "https://localhost:8080/"
        },
        "id": "Fpe_18orYBJP",
        "outputId": "54b23ae7-1616-4b42-9351-3cd14a540be0"
      },
      "execution_count": null,
      "outputs": [
        {
          "output_type": "execute_result",
          "data": {
            "text/plain": [
              "[10]"
            ]
          },
          "metadata": {},
          "execution_count": 127
        }
      ]
    },
    {
      "cell_type": "markdown",
      "source": [
        "슬라이스를 했을 때 실제로 가져오는 요소는 시작 인덱스부터 끝 인덱스 - 1까지입니다."
      ],
      "metadata": {
        "id": "ES-ukeg1YGSG"
      }
    },
    {
      "cell_type": "markdown",
      "source": [
        "### 리스트의 중간 부분 가져오기"
      ],
      "metadata": {
        "id": "g3NF3Vc0Upsr"
      }
    },
    {
      "cell_type": "markdown",
      "source": [
        "그럼 리스트의 중간 부분을 가져오는 방법을 자세히 알아보겠습니다."
      ],
      "metadata": {
        "id": "DJdh_Aj6UshT"
      }
    },
    {
      "cell_type": "code",
      "source": [
        "a\n",
        "a[4:8] # 4부터 7까지의 인덱스(5번째~9번째)"
      ],
      "metadata": {
        "id": "jfaDAm0CYBtt",
        "colab": {
          "base_uri": "https://localhost:8080/"
        },
        "outputId": "8cd536ea-0ad2-4628-946c-0cada26b0cec"
      },
      "execution_count": 106,
      "outputs": [
        {
          "output_type": "execute_result",
          "data": {
            "text/plain": [
              "[40, 50, 60, 70]"
            ]
          },
          "metadata": {},
          "execution_count": 106
        }
      ]
    },
    {
      "cell_type": "code",
      "source": [
        "# 특히 슬라이스는 a[4:-1]과 같이 음수를 인덱스로 지정할 수도 있습니다.\n",
        "# TDD... (TDD, MSA+Clean Architecture, Agile)\n",
        "# index 4부터 시작해서, index -1직전까지"
      ],
      "metadata": {
        "colab": {
          "base_uri": "https://localhost:8080/"
        },
        "id": "BJTk6OuaUzY7",
        "outputId": "579bbc78-4a39-4e84-9583-f34a3f54b83e"
      },
      "execution_count": null,
      "outputs": [
        {
          "output_type": "execute_result",
          "data": {
            "text/plain": [
              "[40, 50, 60, 70, 80]"
            ]
          },
          "metadata": {},
          "execution_count": 2
        }
      ]
    },
    {
      "cell_type": "markdown",
      "source": [
        "인덱스에서 -1은 뒤에서 첫 번째 요소를 뜻한다고 했죠? 끝 인덱스는 가져오려는 인덱스보다 1을 더 크게 지정한다고 했으므로 실제로는 뒤에서 두 번째(인덱스 -2) 요소인 80까지만 가져옵니다(음수는 숫자가 작을 수록 큰 수입니다. 그래서 -1은 -2보다 1이 더 큽니다)."
      ],
      "metadata": {
        "id": "7I8U4_lUVuK-"
      }
    },
    {
      "cell_type": "markdown",
      "source": [
        "### 인덱스 증가폭 사용하기"
      ],
      "metadata": {
        "id": "F7tNwob6VxgR"
      }
    },
    {
      "cell_type": "markdown",
      "source": [
        "금까지 지정된 범위의 요소를 모두 가져왔죠? 슬라이스는 인덱스의 증가폭을 지정하여 범위 내에서 인덱스를 건너뛰며 요소를 가져올 수 있습니다.\n",
        "\n",
        "다음은 인덱스를 3씩 증가시키면서 요소를 가져옵니다. 여기서 주의할 점은 인덱스의 증가폭이지 요소의 값 증가폭이 아니라는 점입니다.\n",
        "\n",
        "* `시퀀스객체[시작인덱스:끝인덱스:인덱스증가폭]`"
      ],
      "metadata": {
        "id": "iWmWcAEyV5Xr"
      }
    },
    {
      "cell_type": "code",
      "source": [
        "a, a[2:8:3]"
      ],
      "metadata": {
        "colab": {
          "base_uri": "https://localhost:8080/"
        },
        "id": "muOpsaAfVu6f",
        "outputId": "74f0741b-15b2-486e-da3f-5c6c58ae4378"
      },
      "execution_count": 110,
      "outputs": [
        {
          "output_type": "execute_result",
          "data": {
            "text/plain": [
              "([0, 10, 20, 30, 40, 50, 60, 70, 80, 90], [20, 50])"
            ]
          },
          "metadata": {},
          "execution_count": 110
        }
      ]
    },
    {
      "cell_type": "markdown",
      "source": [
        "a[2:8:3]을 실행하니 [20, 50]이 나왔죠? 왜 이런 결과가 나왔을까요? 먼저 시작 인덱스가 2이므로 20부터 가져옵니다. 그리고 인덱스 증가폭을 3으로 지정했으므로 인덱스 5의 50, 인덱스 8의 80을 가져올 수 있습니다. 하지만, 끝 인덱스를 8로 지정했으므로 인덱스 7까지만 가져옵니다. 따라서 20과 50만 가져와서 [20, 50]이 나옵니다."
      ],
      "metadata": {
        "id": "FhJdoMJLWM1s"
      }
    },
    {
      "cell_type": "markdown",
      "source": [
        "인덱스 증가폭을 지정하더라도 가져오려는 인덱스(끝 인덱스 - 1)를 넘어설 수 없다는 점을 꼭 기억해두세요.\n",
        "\n",
        "만약 끝 인덱스 - 1과 증가한 인덱스가 일치한다면 해당 요소까지 가져올 수 있습니다. 다음은 끝 인덱스를 9로 지정하여 인덱스 8의 80까지 가져옵니다. 따라서 [20, 50, 80]이 나옵니다."
      ],
      "metadata": {
        "id": "c5SLslVBWQ3g"
      }
    },
    {
      "cell_type": "code",
      "source": [
        "a[2:9:3]"
      ],
      "metadata": {
        "colab": {
          "base_uri": "https://localhost:8080/"
        },
        "id": "F5PVmzqoWJvh",
        "outputId": "106b8885-8a85-4923-f4e4-5021db333bed"
      },
      "execution_count": 111,
      "outputs": [
        {
          "output_type": "execute_result",
          "data": {
            "text/plain": [
              "[20, 50, 80]"
            ]
          },
          "metadata": {},
          "execution_count": 111
        }
      ]
    },
    {
      "cell_type": "markdown",
      "source": [
        "### 인덱스 생략하기"
      ],
      "metadata": {
        "id": "vWC0fYVdWW3i"
      }
    },
    {
      "cell_type": "markdown",
      "source": [
        "슬라이스를 사용할 때 시작 인덱스와 끝 인덱스를 생략할 수도 있습니다. 인덱스를 생략하는 방법은 시퀀스 객체의 길이를 몰라도 되기 때문에 자주 쓰이는 방식입니다. 주로 시퀀스 객체의 마지막 일부분만 출력할 때 사용합니다.\n",
        "\n",
        "리스트 a에서 a[:7]과 같이 시작 인덱스를 생략하면 리스트의 처음부터 끝 인덱스 - 1(인덱스 6)까지 가져옵니다.\n",
        "\n",
        "* `시퀀스객체[:끝인덱스]`"
      ],
      "metadata": {
        "id": "T-QziwTOWY7l"
      }
    },
    {
      "cell_type": "code",
      "source": [
        "a, a[0:7], a[:7] #생략되었을 경우에 0이 기본으로 들어감"
      ],
      "metadata": {
        "colab": {
          "base_uri": "https://localhost:8080/"
        },
        "id": "gZtfm4QJWTkk",
        "outputId": "8d0de7c0-8e7d-4c85-eb80-efc2af48e3a7"
      },
      "execution_count": 112,
      "outputs": [
        {
          "output_type": "execute_result",
          "data": {
            "text/plain": [
              "([0, 10, 20, 30, 40, 50, 60, 70, 80, 90],\n",
              " [0, 10, 20, 30, 40, 50, 60],\n",
              " [0, 10, 20, 30, 40, 50, 60])"
            ]
          },
          "metadata": {},
          "execution_count": 112
        }
      ]
    },
    {
      "cell_type": "code",
      "source": [
        "a, a[7:], a[7:len(a)] #끝 인덱스가 생략되었을 경우, len(시퀀스객체)가 기본으로 들어감"
      ],
      "metadata": {
        "id": "cVljjFEIW9yB",
        "outputId": "a985e87b-62a0-4b59-e367-5fe34fe9513c",
        "colab": {
          "base_uri": "https://localhost:8080/"
        }
      },
      "execution_count": 113,
      "outputs": [
        {
          "output_type": "execute_result",
          "data": {
            "text/plain": [
              "([0, 10, 20, 30, 40, 50, 60, 70, 80, 90], [70, 80, 90], [70, 80, 90])"
            ]
          },
          "metadata": {},
          "execution_count": 113
        }
      ]
    },
    {
      "cell_type": "markdown",
      "source": [
        "그리고 a[7:]과 같이 끝 인덱스를 생략하면 시작 인덱스(인덱스 7)부터 마지막 요소까지 가져옵니다.\n",
        "\n",
        "* `시퀀스객체[시작인덱스:]`"
      ],
      "metadata": {
        "id": "BGxWeM7XWihf"
      }
    },
    {
      "cell_type": "code",
      "source": [],
      "metadata": {
        "colab": {
          "base_uri": "https://localhost:8080/"
        },
        "id": "UpIyF1xCWf2S",
        "outputId": "5d26d459-b89e-4b34-f8ab-c9891b3d3980"
      },
      "execution_count": null,
      "outputs": [
        {
          "output_type": "execute_result",
          "data": {
            "text/plain": [
              "[70, 80, 90]"
            ]
          },
          "metadata": {},
          "execution_count": 6
        }
      ]
    },
    {
      "cell_type": "markdown",
      "source": [
        "또는, a[:]와 같이 시작 인덱스와 끝 인덱스를 둘다 생략하면 리스트 전체를 가져옵니다.\n",
        "\n",
        "* `시퀀스객체[:]`\n"
      ],
      "metadata": {
        "id": "RawxMkNxWp3s"
      }
    },
    {
      "cell_type": "code",
      "source": [],
      "metadata": {
        "colab": {
          "base_uri": "https://localhost:8080/"
        },
        "id": "_i284bK_Wmmg",
        "outputId": "bca19ab5-e5a5-40a0-9838-d1889eb48406"
      },
      "execution_count": null,
      "outputs": [
        {
          "output_type": "execute_result",
          "data": {
            "text/plain": [
              "[0, 10, 20, 30, 40, 50, 60, 70, 80, 90]"
            ]
          },
          "metadata": {},
          "execution_count": 7
        }
      ]
    },
    {
      "cell_type": "markdown",
      "source": [
        "### 인덱스를 생략하면서 증가폭 사용하기"
      ],
      "metadata": {
        "id": "Vr2nagypW7Ui"
      }
    },
    {
      "cell_type": "markdown",
      "source": [
        "여기서 시작 인덱스 또는 끝 인덱스를 생략하면서 인덱스 증가폭을 지정하면 어떻게 될까요?\n",
        "\n",
        "리스트 a에서 a[:7:2]와 같이 시작 인덱스를 생략하면서 인덱스 증가폭을 2로 지정하면 리스트의 처음부터 인덱스를 2씩 증가시키면서 끝 인덱스 - 1(인덱스 6)까지 요소를 가져옵니다.\n",
        "\n",
        "* `시퀀스객체[:끝인덱스:증가폭]`"
      ],
      "metadata": {
        "id": "wXIm7o1WW8Y4"
      }
    },
    {
      "cell_type": "code",
      "source": [
        "a\n",
        "a[7::2]"
      ],
      "metadata": {
        "colab": {
          "base_uri": "https://localhost:8080/"
        },
        "id": "Lt_6Ef-BWt5B",
        "outputId": "227c1545-2ed5-458c-a93c-a58fcdab4213"
      },
      "execution_count": 114,
      "outputs": [
        {
          "output_type": "execute_result",
          "data": {
            "text/plain": [
              "[70, 90]"
            ]
          },
          "metadata": {},
          "execution_count": 114
        }
      ]
    },
    {
      "cell_type": "code",
      "source": [
        "a[::2], a[0: len(a): 2]"
      ],
      "metadata": {
        "id": "By8WrdWzXb9b",
        "outputId": "eb7dd597-6bf5-4966-d386-8368aa832a35",
        "colab": {
          "base_uri": "https://localhost:8080/"
        }
      },
      "execution_count": 116,
      "outputs": [
        {
          "output_type": "execute_result",
          "data": {
            "text/plain": [
              "([0, 20, 40, 60, 80], [0, 20, 40, 60, 80])"
            ]
          },
          "metadata": {},
          "execution_count": 116
        }
      ]
    },
    {
      "cell_type": "code",
      "source": [],
      "metadata": {
        "id": "8-tr503VXpg2"
      },
      "execution_count": null,
      "outputs": []
    },
    {
      "cell_type": "markdown",
      "source": [
        "그리고 a[7::2]와 같이 끝 인덱스를 생략하면서 인덱스 증가폭을 2로 지정하면 시작 인덱스(인덱스 7)부터 인덱스를 2씩 증가시키면서 리스트의 마지막 요소까지 가져옵니다.\n",
        "\n",
        "* `시퀀스객체[시작인덱스::증가폭]`"
      ],
      "metadata": {
        "id": "yz4dAm9WXF_6"
      }
    },
    {
      "cell_type": "code",
      "source": [],
      "metadata": {
        "colab": {
          "base_uri": "https://localhost:8080/"
        },
        "id": "s6JtG_xQXDhi",
        "outputId": "5122d2a6-7e82-47f7-917d-3d4b5d19a8b4"
      },
      "execution_count": null,
      "outputs": [
        {
          "output_type": "execute_result",
          "data": {
            "text/plain": [
              "[70, 90]"
            ]
          },
          "metadata": {},
          "execution_count": 9
        }
      ]
    },
    {
      "cell_type": "markdown",
      "source": [
        "또는, a[::2]와 같이 시작 인덱스와 끝 인덱스를 둘다 생략하면서 인덱스 증가폭을 2로 지정하면 리스트 전체에서 인덱스 0부터 2씩 증가하면서 요소를 가져옵니다.\n",
        "\n",
        "* `시퀀스객체[::증가폭]`"
      ],
      "metadata": {
        "id": "B5xy73nbXnuw"
      }
    },
    {
      "cell_type": "code",
      "source": [],
      "metadata": {
        "colab": {
          "base_uri": "https://localhost:8080/"
        },
        "id": "ADHurc2VXsUY",
        "outputId": "427e735e-9abd-4522-ec88-91d37311ef4b"
      },
      "execution_count": null,
      "outputs": [
        {
          "output_type": "execute_result",
          "data": {
            "text/plain": [
              "[0, 20, 40, 60, 80]"
            ]
          },
          "metadata": {},
          "execution_count": 10
        }
      ]
    },
    {
      "cell_type": "markdown",
      "source": [
        "a[:7:2]와 a[7::2]는 2씩 증가한 인덱스와 끝 인덱스 - 1이 일치하여 지정된 범위에 맞게 요소를 가져왔습니다. 하지만, a[::2]는 끝 인덱스가 9이므로 인덱스가 2씩 증가하더라도 8까지만 증가할 수 있습니다. 따라서 인덱스 0, 2, 4, 6, 8의 요소를 가져옵니다.\n",
        "\n",
        "만약 시작 인덱스, 끝 인덱스, 인덱스 증가폭을 모두 생략하면 어떻게 될까요?\n",
        "\n",
        "* `시퀀스객체[::]`"
      ],
      "metadata": {
        "id": "_75L7vIwX6DV"
      }
    },
    {
      "cell_type": "code",
      "source": [],
      "metadata": {
        "colab": {
          "base_uri": "https://localhost:8080/"
        },
        "id": "Hkg__ZiIXu4M",
        "outputId": "8d83206e-61ac-470c-c681-9e86e783016b"
      },
      "execution_count": null,
      "outputs": [
        {
          "output_type": "execute_result",
          "data": {
            "text/plain": [
              "[0, 10, 20, 30, 40, 50, 60, 70, 80, 90]"
            ]
          },
          "metadata": {},
          "execution_count": 11
        }
      ]
    },
    {
      "cell_type": "markdown",
      "source": [
        "### 슬라이스의 인덱스 증가폭을 음수로 지정하면?"
      ],
      "metadata": {
        "id": "OD38Q-nnYGvb"
      }
    },
    {
      "cell_type": "markdown",
      "source": [
        "슬라이스를 사용할 때 인덱스 증가폭을 음수로 지정하면 요소를 뒤에서부터 가져올 수 있습니다. 다음은 리스트 a에서 인덱스 5부터 2까지 1씩 감소시키면서 요소를 가져옵니다."
      ],
      "metadata": {
        "id": "3DtYAotPYI-g"
      }
    },
    {
      "cell_type": "code",
      "source": [
        "a, a[5:2:-1]"
      ],
      "metadata": {
        "colab": {
          "base_uri": "https://localhost:8080/"
        },
        "id": "pi3MrU5OYCcO",
        "outputId": "5c113d81-23f4-433e-9722-2c4263ce9492"
      },
      "execution_count": 117,
      "outputs": [
        {
          "output_type": "execute_result",
          "data": {
            "text/plain": [
              "([0, 10, 20, 30, 40, 50, 60, 70, 80, 90], [50, 40, 30])"
            ]
          },
          "metadata": {},
          "execution_count": 117
        }
      ]
    },
    {
      "cell_type": "code",
      "source": [
        "a, a[::-1]"
      ],
      "metadata": {
        "id": "2CvRd26WX2-0",
        "outputId": "843b5408-ec5a-4369-dedd-2c4257a8aaee",
        "colab": {
          "base_uri": "https://localhost:8080/"
        }
      },
      "execution_count": 118,
      "outputs": [
        {
          "output_type": "execute_result",
          "data": {
            "text/plain": [
              "([0, 10, 20, 30, 40, 50, 60, 70, 80, 90],\n",
              " [90, 80, 70, 60, 50, 40, 30, 20, 10, 0])"
            ]
          },
          "metadata": {},
          "execution_count": 118
        }
      ]
    },
    {
      "cell_type": "markdown",
      "source": [
        "여기서 주의할 점은 인덱스가 감소하므로 끝 인덱스보다 시작 인덱스를 더 크게 지정해야 한다는 점입니다. 즉, a[5:1:-1]과 같이 시작 인덱스부터 끝 인덱스까지 감소하도록 지정합니다. 그리고 끝 인덱스는 가져오려는 범위에 포함되지 않습니다\n",
        "\n",
        "특히 다음과 같이 시작 인덱스와 끝 인덱스를 생략하면서 인덱스 증가폭을 -1로 지정하면 어떻게 될까요? 이때는 리스트 전체에서 인덱스를 1씩 감소시키면서 요소를 가져오므로 리스트를 반대로 뒤집습니다."
      ],
      "metadata": {
        "id": "x7JoKF-4YZRe"
      }
    },
    {
      "cell_type": "code",
      "source": [
        "s1 = \"my name is james\"\n",
        "s1[::-1]"
      ],
      "metadata": {
        "colab": {
          "base_uri": "https://localhost:8080/",
          "height": 35
        },
        "id": "5qfn-WquYNCI",
        "outputId": "a538f934-051d-4b23-97a7-0e92dea66aae"
      },
      "execution_count": 119,
      "outputs": [
        {
          "output_type": "execute_result",
          "data": {
            "text/plain": [
              "'semaj si eman ym'"
            ],
            "application/vnd.google.colaboratory.intrinsic+json": {
              "type": "string"
            }
          },
          "metadata": {},
          "execution_count": 119
        }
      ]
    },
    {
      "cell_type": "markdown",
      "source": [
        "물론 이 방법은 리스트뿐만 아니라 모든 시퀀스 객체에 사용할 수 있습니다."
      ],
      "metadata": {
        "id": "nWxGJ-g-YcYB"
      }
    },
    {
      "cell_type": "markdown",
      "source": [
        "### len 응용하기"
      ],
      "metadata": {
        "id": "JNp93tnWYf0M"
      }
    },
    {
      "cell_type": "markdown",
      "source": [
        "이번에는 len을 응용하여 리스트 전체를 가져와보겠습니다."
      ],
      "metadata": {
        "id": "hjgpu5S7YjSZ"
      }
    },
    {
      "cell_type": "code",
      "source": [
        "a[:len(a)]"
      ],
      "metadata": {
        "colab": {
          "base_uri": "https://localhost:8080/"
        },
        "id": "hoXG9E1gYbnb",
        "outputId": "242d8334-f00f-4d01-ee70-9b5e3a930710"
      },
      "execution_count": 120,
      "outputs": [
        {
          "output_type": "execute_result",
          "data": {
            "text/plain": [
              "[0, 10, 20, 30, 40, 50, 60, 70, 80, 90]"
            ]
          },
          "metadata": {},
          "execution_count": 120
        }
      ]
    },
    {
      "cell_type": "code",
      "source": [],
      "metadata": {
        "id": "m6V2c9HsYcSI"
      },
      "execution_count": null,
      "outputs": []
    },
    {
      "cell_type": "markdown",
      "source": [
        "리스트 a의 요소는 10개입니다. 따라서 len(a)는 10이고, a[0:10]과 같습니다. 여기서 끝 인덱스는 가져오려는 인덱스보다 1을 더 크게 지정한다고 했으므로 len(a)에서 1을 빼지 않아야 합니다. 즉, 길이가 10인 리스트는 [0:10]이라야 리스트 전체를 가져옵니다."
      ],
      "metadata": {
        "id": "SXJVwCesYqEo"
      }
    },
    {
      "cell_type": "markdown",
      "source": [
        "### 튜플, range, 문자열에 슬라이스 사용하기"
      ],
      "metadata": {
        "id": "2rL1RPXwYtCf"
      }
    },
    {
      "cell_type": "markdown",
      "source": [
        "지금까지 리스트에서 슬라이스를 사용해봤습니다. 파이썬에서는 튜플, range, 문자열도 시퀀스 자료형이므로 리스트와 같은 방식으로 슬라이스를 사용할 수 있습니다.\n",
        "\n",
        "먼저 튜플부터 잘라보겠습니다. 다음은 지정된 범위만큼 튜플을 잘라서 새 튜플을 만듭니다.\n",
        "\n",
        "* `튜플[시작인덱스:끝인덱스]`\n",
        "* `튜플[시작인덱스:끝인덱스:인덱스증가폭]`\n"
      ],
      "metadata": {
        "id": "kTur1AKlYyVE"
      }
    },
    {
      "cell_type": "code",
      "source": [
        "t = tuple(a)\n",
        "print(t)\n",
        "t[4:7]"
      ],
      "metadata": {
        "colab": {
          "base_uri": "https://localhost:8080/"
        },
        "id": "rY_nUp_YYnvR",
        "outputId": "2ef85df0-749e-463e-97bc-f65975430c1c"
      },
      "execution_count": 122,
      "outputs": [
        {
          "output_type": "stream",
          "name": "stdout",
          "text": [
            "(0, 10, 20, 30, 40, 50, 60, 70, 80, 90)\n"
          ]
        },
        {
          "output_type": "execute_result",
          "data": {
            "text/plain": [
              "(40, 50, 60)"
            ]
          },
          "metadata": {},
          "execution_count": 122
        }
      ]
    },
    {
      "cell_type": "code",
      "source": [
        "t[4:], t[:7:2]"
      ],
      "metadata": {
        "colab": {
          "base_uri": "https://localhost:8080/"
        },
        "id": "-lIBr2uoY9OG",
        "outputId": "48aec278-dc7e-47bb-c41b-acc20beb253a"
      },
      "execution_count": 123,
      "outputs": [
        {
          "output_type": "execute_result",
          "data": {
            "text/plain": [
              "((40, 50, 60, 70, 80, 90), (0, 20, 40, 60))"
            ]
          },
          "metadata": {},
          "execution_count": 123
        }
      ]
    },
    {
      "cell_type": "code",
      "source": [],
      "metadata": {
        "colab": {
          "base_uri": "https://localhost:8080/"
        },
        "id": "6iGvgz5NY95G",
        "outputId": "eab00618-204a-45e3-a9db-610b7753287d"
      },
      "execution_count": null,
      "outputs": [
        {
          "output_type": "execute_result",
          "data": {
            "text/plain": [
              "(0, 20, 40, 60)"
            ]
          },
          "metadata": {},
          "execution_count": 17
        }
      ]
    },
    {
      "cell_type": "markdown",
      "source": [
        "range는 연속된 숫자를 생성한다고 했죠? range에 슬라이스를 사용하면 지정된 범위의 숫자를 생성하는 range 객체를 새로 만듭니다.\n",
        "\n",
        "* `range객체[시작인덱스:끝인덱스]`\n",
        "* `range객체[시작인덱스:끝인덱스:인덱스증가폭]`"
      ],
      "metadata": {
        "id": "p27mb7JOZD8o"
      }
    },
    {
      "cell_type": "code",
      "source": [
        "r"
      ],
      "metadata": {
        "colab": {
          "base_uri": "https://localhost:8080/"
        },
        "id": "BBFWTP4QZI2I",
        "outputId": "3bb48a07-14d7-4130-ae94-f30bedf781fb"
      },
      "execution_count": 124,
      "outputs": [
        {
          "output_type": "execute_result",
          "data": {
            "text/plain": [
              "range(0, 10)"
            ]
          },
          "metadata": {},
          "execution_count": 124
        }
      ]
    },
    {
      "cell_type": "code",
      "source": [
        "r[4:7], r[4:], r[:7:2]"
      ],
      "metadata": {
        "id": "R0fEkvSNZG22",
        "outputId": "ba3dbf84-fb4f-4440-eabf-127775ecac75",
        "colab": {
          "base_uri": "https://localhost:8080/"
        }
      },
      "execution_count": 126,
      "outputs": [
        {
          "output_type": "execute_result",
          "data": {
            "text/plain": [
              "(range(4, 7), range(4, 10), range(0, 7, 2))"
            ]
          },
          "metadata": {},
          "execution_count": 126
        }
      ]
    },
    {
      "cell_type": "code",
      "source": [
        "r2 = range(2, 10, 3)"
      ],
      "metadata": {
        "id": "zk3evBsRZQIa"
      },
      "execution_count": 127,
      "outputs": []
    },
    {
      "cell_type": "code",
      "source": [
        "r2[1:], r2[:4], r2[::2]"
      ],
      "metadata": {
        "id": "Kl1_TUmgZcNv",
        "outputId": "6de4a7e3-0911-4a12-e8d7-12522a1a99a9",
        "colab": {
          "base_uri": "https://localhost:8080/"
        }
      },
      "execution_count": 128,
      "outputs": [
        {
          "output_type": "execute_result",
          "data": {
            "text/plain": [
              "(range(5, 11, 3), range(2, 11, 3), range(2, 11, 6))"
            ]
          },
          "metadata": {},
          "execution_count": 128
        }
      ]
    },
    {
      "cell_type": "code",
      "source": [
        "list(r2[::2])"
      ],
      "metadata": {
        "colab": {
          "base_uri": "https://localhost:8080/"
        },
        "id": "bd49tEoRZQpG",
        "outputId": "2982a411-03f3-42b5-8f30-ee626049b754"
      },
      "execution_count": 129,
      "outputs": [
        {
          "output_type": "execute_result",
          "data": {
            "text/plain": [
              "[2, 8]"
            ]
          },
          "metadata": {},
          "execution_count": 129
        }
      ]
    },
    {
      "cell_type": "markdown",
      "source": [
        "range는 리스트, 튜플과는 달리 요소가 모두 표시되지 않고 생성 범위만 표시됩니다. 이렇게 잘라낸 range 객체를 리스트로 만들려면 list에 넣으면 되겠죠?"
      ],
      "metadata": {
        "id": "43FKri7SZdXb"
      }
    },
    {
      "cell_type": "code",
      "source": [
        "hello = \"Hello, world!\"\n",
        "hello[2:9]"
      ],
      "metadata": {
        "colab": {
          "base_uri": "https://localhost:8080/",
          "height": 35
        },
        "id": "XZYTPidgZeba",
        "outputId": "53d3e8c6-491c-4e5f-8c59-dc31948a6635"
      },
      "execution_count": 131,
      "outputs": [
        {
          "output_type": "execute_result",
          "data": {
            "text/plain": [
              "'llo, wo'"
            ],
            "application/vnd.google.colaboratory.intrinsic+json": {
              "type": "string"
            }
          },
          "metadata": {},
          "execution_count": 131
        }
      ]
    },
    {
      "cell_type": "code",
      "source": [
        "hello[2:]"
      ],
      "metadata": {
        "id": "wNsWsmb2Z9iG",
        "outputId": "962cd60e-76c8-4c24-e211-c19fe59a6399",
        "colab": {
          "base_uri": "https://localhost:8080/",
          "height": 35
        }
      },
      "execution_count": 132,
      "outputs": [
        {
          "output_type": "execute_result",
          "data": {
            "text/plain": [
              "'llo, world!'"
            ],
            "application/vnd.google.colaboratory.intrinsic+json": {
              "type": "string"
            }
          },
          "metadata": {},
          "execution_count": 132
        }
      ]
    },
    {
      "cell_type": "code",
      "source": [
        "hello[:9:2]"
      ],
      "metadata": {
        "id": "WXboFJ8OZ_Vo",
        "outputId": "02daf561-1947-497c-bd56-417869da07a1",
        "colab": {
          "base_uri": "https://localhost:8080/",
          "height": 35
        }
      },
      "execution_count": 133,
      "outputs": [
        {
          "output_type": "execute_result",
          "data": {
            "text/plain": [
              "'Hlo o'"
            ],
            "application/vnd.google.colaboratory.intrinsic+json": {
              "type": "string"
            }
          },
          "metadata": {},
          "execution_count": 133
        }
      ]
    },
    {
      "cell_type": "code",
      "source": [
        "hello[::-1]"
      ],
      "metadata": {
        "id": "CzgrQqd4aDPf",
        "outputId": "0217e74b-a761-4bf3-ced9-099951499261",
        "colab": {
          "base_uri": "https://localhost:8080/",
          "height": 35
        }
      },
      "execution_count": 134,
      "outputs": [
        {
          "output_type": "execute_result",
          "data": {
            "text/plain": [
              "'!dlrow ,olleH'"
            ],
            "application/vnd.google.colaboratory.intrinsic+json": {
              "type": "string"
            }
          },
          "metadata": {},
          "execution_count": 134
        }
      ]
    },
    {
      "cell_type": "markdown",
      "source": [
        "문자열도 시퀀스 자료형이므로 슬라이스를 사용할 수 있습니다. 특히 문자열은 문자 하나가 요소이므로 문자 단위로 잘라서 새 문자열을 만듭니다.\n",
        "\n",
        "* `문자열[시작인덱스:끝인덱스]`\n",
        "* `문자열[시작인덱스:끝인덱스:인덱스증가폭]`"
      ],
      "metadata": {
        "id": "_B1XJSD_Zgyy"
      }
    },
    {
      "cell_type": "code",
      "source": [
        "print(a, len(a))\n",
        "a[2:5] = ['a', 'b', 'c'] #인덱스 2~4까지 값을 새로 할당\n",
        "a"
      ],
      "metadata": {
        "colab": {
          "base_uri": "https://localhost:8080/"
        },
        "id": "4t97LzNMZf4d",
        "outputId": "be667e25-d26c-435a-db2d-c3b970fc39c9"
      },
      "execution_count": 138,
      "outputs": [
        {
          "output_type": "stream",
          "name": "stdout",
          "text": [
            "[0, 10, 20, 30, 40, 50, 60, 70, 80, 90] 10\n"
          ]
        },
        {
          "output_type": "execute_result",
          "data": {
            "text/plain": [
              "[0, 10, 'a', 'b', 'c', 50, 60, 70, 80, 90]"
            ]
          },
          "metadata": {},
          "execution_count": 138
        }
      ]
    },
    {
      "cell_type": "code",
      "source": [],
      "metadata": {
        "colab": {
          "base_uri": "https://localhost:8080/",
          "height": 36
        },
        "id": "oPW7LacDZrNI",
        "outputId": "e4a470f1-7ceb-4159-cdb0-deb59c569277"
      },
      "execution_count": null,
      "outputs": [
        {
          "output_type": "execute_result",
          "data": {
            "text/plain": [
              "'llo, world!'"
            ],
            "application/vnd.google.colaboratory.intrinsic+json": {
              "type": "string"
            }
          },
          "metadata": {},
          "execution_count": 24
        }
      ]
    },
    {
      "cell_type": "code",
      "source": [],
      "metadata": {
        "colab": {
          "base_uri": "https://localhost:8080/",
          "height": 36
        },
        "id": "RRUg51npZrub",
        "outputId": "5fa6304a-42ad-40b1-dee1-0dcac7cef827"
      },
      "execution_count": null,
      "outputs": [
        {
          "output_type": "execute_result",
          "data": {
            "text/plain": [
              "'Hlo o'"
            ],
            "application/vnd.google.colaboratory.intrinsic+json": {
              "type": "string"
            }
          },
          "metadata": {},
          "execution_count": 25
        }
      ]
    },
    {
      "cell_type": "markdown",
      "source": [
        "### 슬라이스에 요소 할당하기"
      ],
      "metadata": {
        "id": "Q5YQNQGAZzSr"
      }
    },
    {
      "cell_type": "markdown",
      "source": [
        "시퀀스 객체는 슬라이스로 범위를 지정하여 여러 요소에 값을 할당할 수 있습니다.\n",
        "\n",
        "* `시퀀스객체[시작인덱스:끝인덱스] = 시퀀스객체`"
      ],
      "metadata": {
        "id": "x7GZ7-szZtBs"
      }
    },
    {
      "cell_type": "code",
      "source": [],
      "metadata": {
        "colab": {
          "base_uri": "https://localhost:8080/"
        },
        "id": "2Z3aKHrbaCew",
        "outputId": "8c9fda42-1903-4802-f456-dc5742dd823a"
      },
      "execution_count": null,
      "outputs": [
        {
          "output_type": "execute_result",
          "data": {
            "text/plain": [
              "[0, 10, 'a', 'b', 'c', 50, 60, 70, 80, 90]"
            ]
          },
          "metadata": {},
          "execution_count": 26
        }
      ]
    },
    {
      "cell_type": "markdown",
      "source": [
        "a[2:5] = ['a', 'b', 'c']와 같이 리스트에 범위를 지정하고 다른 리스트를 할당했습니다. 이렇게 하면 인덱스 2부터 4까지 문자 'a', 'b', 'c'가 들어갑니다. 특히 이렇게 범위를 지정해서 요소를 할당했을 경우에는 원래 있던 리스트가 변경되며 새 리스트는 생성되지 않습니다."
      ],
      "metadata": {
        "id": "3eowCtWWaK9V"
      }
    },
    {
      "cell_type": "markdown",
      "source": [
        "a[2:5] = ['a', 'b', 'c']는 슬라이스 범위와 할당할 리스트의 요소 개수를 정확히 맞추었지만, 사실 개수를 맞추지 않아도 상관없습니다.\n",
        "\n",
        "다음과 같이 요소 개수를 맞추지 않아도 알아서 할당됩니다. 만약 할당할 요소 개수가 적으면 그만큼 리스트의 요소 개수도 줄어듭니다."
      ],
      "metadata": {
        "id": "y_RBcndVaOhd"
      }
    },
    {
      "cell_type": "code",
      "source": [
        "a = list(range(0, 100, 10))\n",
        "print(a, len(a)) #10\n",
        "a[2:8:2] = [\"a\", \"b\", \"c\"]"
      ],
      "metadata": {
        "colab": {
          "base_uri": "https://localhost:8080/"
        },
        "id": "HQFR78bmaGUl",
        "outputId": "96e59df9-ae72-49ac-cd74-3d315b9e8cbb"
      },
      "execution_count": 141,
      "outputs": [
        {
          "output_type": "stream",
          "name": "stdout",
          "text": [
            "[0, 10, 20, 30, 40, 50, 60, 70, 80, 90] 10\n",
            "[0, 10, 'a', 50, 60, 70, 80, 90] 8\n"
          ]
        }
      ]
    },
    {
      "cell_type": "markdown",
      "source": [
        "반면 할당할 요소 개수가 많으면 그만큼 리스트의 요소 개수도 늘어납니다."
      ],
      "metadata": {
        "id": "vzrIgwskaUp6"
      }
    },
    {
      "cell_type": "code",
      "source": [],
      "metadata": {
        "colab": {
          "base_uri": "https://localhost:8080/"
        },
        "id": "-qTXcYZFaSfB",
        "outputId": "bd4004a6-9632-4b1c-d6f3-733015872cf2"
      },
      "execution_count": null,
      "outputs": [
        {
          "output_type": "execute_result",
          "data": {
            "text/plain": [
              "[0, 10, 'a', 'b', 'c', 'd', 'e', 50, 60, 70, 80, 90]"
            ]
          },
          "metadata": {},
          "execution_count": 28
        }
      ]
    },
    {
      "cell_type": "markdown",
      "source": [
        "슬라이스는 인덱스 증가폭을 지정할 수 있었죠? 이번에는 인덱스 증가폭을 지정하여 인덱스를 건너뛰면서 할당해보겠습니다.\n",
        "\n",
        "* `시퀀스객체[시작인덱스:끝인덱스:인덱스증가폭] = 시퀀스객체`"
      ],
      "metadata": {
        "id": "A06BNjzKbRuD"
      }
    },
    {
      "cell_type": "code",
      "source": [],
      "metadata": {
        "colab": {
          "base_uri": "https://localhost:8080/"
        },
        "id": "Boypl0Y7aZCy",
        "outputId": "df79dbe6-9880-46c2-e134-1e1afedb9a55"
      },
      "execution_count": null,
      "outputs": [
        {
          "output_type": "execute_result",
          "data": {
            "text/plain": [
              "[0, 10, 'a', 30, 'b', 50, 'c', 70, 80, 90]"
            ]
          },
          "metadata": {},
          "execution_count": 29
        }
      ]
    },
    {
      "cell_type": "markdown",
      "source": [
        "a[2:8:2] = ['a', 'b', 'c']와 같이 인덱스 2부터 2씩 증가시키면서 7까지 'a', 'b', 'c'를 할당합니다."
      ],
      "metadata": {
        "id": "DrmYR_yRbbBS"
      }
    },
    {
      "cell_type": "markdown",
      "source": [
        "단, 인덱스 증가폭을 지정했을 때는 슬라이스 범위의 요소 개수와 할당할 요소 개수가 정확히 일치해야 합니다."
      ],
      "metadata": {
        "id": "r8TPZEpvbdO8"
      }
    },
    {
      "cell_type": "code",
      "source": [],
      "metadata": {
        "colab": {
          "base_uri": "https://localhost:8080/",
          "height": 241
        },
        "id": "41FT-pN6bZUu",
        "outputId": "68192089-fae8-47d7-d521-75b163034fcc"
      },
      "execution_count": null,
      "outputs": [
        {
          "output_type": "error",
          "ename": "ValueError",
          "evalue": "ignored",
          "traceback": [
            "\u001b[0;31m---------------------------------------------------------------------------\u001b[0m",
            "\u001b[0;31mValueError\u001b[0m                                Traceback (most recent call last)",
            "\u001b[0;32m<ipython-input-30-5990d819431f>\u001b[0m in \u001b[0;36m<module>\u001b[0;34m\u001b[0m\n\u001b[1;32m      1\u001b[0m \u001b[0ma\u001b[0m \u001b[0;34m=\u001b[0m \u001b[0;34m[\u001b[0m\u001b[0;36m0\u001b[0m\u001b[0;34m,\u001b[0m \u001b[0;36m10\u001b[0m\u001b[0;34m,\u001b[0m \u001b[0;36m20\u001b[0m\u001b[0;34m,\u001b[0m \u001b[0;36m30\u001b[0m\u001b[0;34m,\u001b[0m \u001b[0;36m40\u001b[0m\u001b[0;34m,\u001b[0m \u001b[0;36m50\u001b[0m\u001b[0;34m,\u001b[0m \u001b[0;36m60\u001b[0m\u001b[0;34m,\u001b[0m \u001b[0;36m70\u001b[0m\u001b[0;34m,\u001b[0m \u001b[0;36m80\u001b[0m\u001b[0;34m,\u001b[0m \u001b[0;36m90\u001b[0m\u001b[0;34m]\u001b[0m\u001b[0;34m\u001b[0m\u001b[0;34m\u001b[0m\u001b[0m\n\u001b[0;32m----> 2\u001b[0;31m \u001b[0ma\u001b[0m\u001b[0;34m[\u001b[0m\u001b[0;36m2\u001b[0m\u001b[0;34m:\u001b[0m\u001b[0;36m8\u001b[0m\u001b[0;34m:\u001b[0m\u001b[0;36m2\u001b[0m\u001b[0;34m]\u001b[0m \u001b[0;34m=\u001b[0m \u001b[0;34m[\u001b[0m\u001b[0;34m'a'\u001b[0m\u001b[0;34m,\u001b[0m \u001b[0;34m'b'\u001b[0m\u001b[0;34m]\u001b[0m\u001b[0;34m\u001b[0m\u001b[0;34m\u001b[0m\u001b[0m\n\u001b[0m",
            "\u001b[0;31mValueError\u001b[0m: attempt to assign sequence of size 2 to extended slice of size 3"
          ]
        }
      ]
    },
    {
      "cell_type": "markdown",
      "source": [
        "튜플, range, 문자열은 슬라이스 범위를 지정하더라도 요소를 할당할 수 없습니다."
      ],
      "metadata": {
        "id": "Is_NzEXfbjT1"
      }
    },
    {
      "cell_type": "code",
      "source": [],
      "metadata": {
        "colab": {
          "base_uri": "https://localhost:8080/",
          "height": 223
        },
        "id": "O9WFL_qbbg_a",
        "outputId": "66c5de9e-8c9e-4501-d9bb-07faa9d2bd3d"
      },
      "execution_count": null,
      "outputs": [
        {
          "output_type": "error",
          "ename": "TypeError",
          "evalue": "ignored",
          "traceback": [
            "\u001b[0;31m---------------------------------------------------------------------------\u001b[0m",
            "\u001b[0;31mTypeError\u001b[0m                                 Traceback (most recent call last)",
            "\u001b[0;32m<ipython-input-31-f9eb58ed7b9b>\u001b[0m in \u001b[0;36m<module>\u001b[0;34m\u001b[0m\n\u001b[1;32m      1\u001b[0m \u001b[0mb\u001b[0m \u001b[0;34m=\u001b[0m \u001b[0;34m(\u001b[0m\u001b[0;36m0\u001b[0m\u001b[0;34m,\u001b[0m \u001b[0;36m10\u001b[0m\u001b[0;34m,\u001b[0m \u001b[0;36m20\u001b[0m\u001b[0;34m,\u001b[0m \u001b[0;36m30\u001b[0m\u001b[0;34m,\u001b[0m \u001b[0;36m40\u001b[0m\u001b[0;34m,\u001b[0m \u001b[0;36m50\u001b[0m\u001b[0;34m,\u001b[0m \u001b[0;36m60\u001b[0m\u001b[0;34m,\u001b[0m \u001b[0;36m70\u001b[0m\u001b[0;34m,\u001b[0m \u001b[0;36m80\u001b[0m\u001b[0;34m,\u001b[0m \u001b[0;36m90\u001b[0m\u001b[0;34m)\u001b[0m\u001b[0;34m\u001b[0m\u001b[0;34m\u001b[0m\u001b[0m\n\u001b[0;32m----> 2\u001b[0;31m \u001b[0mb\u001b[0m\u001b[0;34m[\u001b[0m\u001b[0;36m2\u001b[0m\u001b[0;34m:\u001b[0m\u001b[0;36m5\u001b[0m\u001b[0;34m]\u001b[0m \u001b[0;34m=\u001b[0m \u001b[0;34m(\u001b[0m\u001b[0;34m'a'\u001b[0m\u001b[0;34m,\u001b[0m \u001b[0;34m'b'\u001b[0m\u001b[0;34m,\u001b[0m \u001b[0;34m'c'\u001b[0m\u001b[0;34m)\u001b[0m\u001b[0;34m\u001b[0m\u001b[0;34m\u001b[0m\u001b[0m\n\u001b[0m",
            "\u001b[0;31mTypeError\u001b[0m: 'tuple' object does not support item assignment"
          ]
        }
      ]
    },
    {
      "cell_type": "code",
      "source": [],
      "metadata": {
        "colab": {
          "base_uri": "https://localhost:8080/",
          "height": 223
        },
        "id": "wu8ShL-bcefj",
        "outputId": "34e4246c-5400-4669-8630-871db0b7081e"
      },
      "execution_count": null,
      "outputs": [
        {
          "output_type": "error",
          "ename": "TypeError",
          "evalue": "ignored",
          "traceback": [
            "\u001b[0;31m---------------------------------------------------------------------------\u001b[0m",
            "\u001b[0;31mTypeError\u001b[0m                                 Traceback (most recent call last)",
            "\u001b[0;32m<ipython-input-32-afef912c6d26>\u001b[0m in \u001b[0;36m<module>\u001b[0;34m\u001b[0m\n\u001b[1;32m      1\u001b[0m \u001b[0mr\u001b[0m \u001b[0;34m=\u001b[0m \u001b[0mrange\u001b[0m\u001b[0;34m(\u001b[0m\u001b[0;36m10\u001b[0m\u001b[0;34m)\u001b[0m\u001b[0;34m\u001b[0m\u001b[0;34m\u001b[0m\u001b[0m\n\u001b[0;32m----> 2\u001b[0;31m \u001b[0mr\u001b[0m\u001b[0;34m[\u001b[0m\u001b[0;36m2\u001b[0m\u001b[0;34m:\u001b[0m\u001b[0;36m5\u001b[0m\u001b[0;34m]\u001b[0m \u001b[0;34m=\u001b[0m \u001b[0mrange\u001b[0m\u001b[0;34m(\u001b[0m\u001b[0;36m0\u001b[0m\u001b[0;34m,\u001b[0m \u001b[0;36m3\u001b[0m\u001b[0;34m)\u001b[0m\u001b[0;34m\u001b[0m\u001b[0;34m\u001b[0m\u001b[0m\n\u001b[0m",
            "\u001b[0;31mTypeError\u001b[0m: 'range' object does not support item assignment"
          ]
        }
      ]
    },
    {
      "cell_type": "code",
      "source": [],
      "metadata": {
        "colab": {
          "base_uri": "https://localhost:8080/",
          "height": 223
        },
        "id": "aBUMvEUWcj9R",
        "outputId": "87c80d85-5eb1-4988-bdb9-db9c88ff7df8"
      },
      "execution_count": null,
      "outputs": [
        {
          "output_type": "error",
          "ename": "TypeError",
          "evalue": "ignored",
          "traceback": [
            "\u001b[0;31m---------------------------------------------------------------------------\u001b[0m",
            "\u001b[0;31mTypeError\u001b[0m                                 Traceback (most recent call last)",
            "\u001b[0;32m<ipython-input-33-332f63f1bc6b>\u001b[0m in \u001b[0;36m<module>\u001b[0;34m\u001b[0m\n\u001b[1;32m      1\u001b[0m \u001b[0mhello\u001b[0m \u001b[0;34m=\u001b[0m \u001b[0;34m'Hello, world!'\u001b[0m\u001b[0;34m\u001b[0m\u001b[0;34m\u001b[0m\u001b[0m\n\u001b[0;32m----> 2\u001b[0;31m \u001b[0mhello\u001b[0m\u001b[0;34m[\u001b[0m\u001b[0;36m7\u001b[0m\u001b[0;34m:\u001b[0m\u001b[0;36m13\u001b[0m\u001b[0;34m]\u001b[0m \u001b[0;34m=\u001b[0m \u001b[0;34m'Python'\u001b[0m\u001b[0;34m\u001b[0m\u001b[0;34m\u001b[0m\u001b[0m\n\u001b[0m",
            "\u001b[0;31mTypeError\u001b[0m: 'str' object does not support item assignment"
          ]
        }
      ]
    },
    {
      "cell_type": "markdown",
      "source": [
        "### del로 슬라이스 삭제하기"
      ],
      "metadata": {
        "id": "gKxlu0SofDXI"
      }
    },
    {
      "cell_type": "markdown",
      "source": [
        "이번에는 시퀀스 객체의 슬라이스를 삭제해보겠습니다. 슬라이스 삭제는 다음과 같이 del 뒤에 삭제할 범위를 지정해주면 됩니다.\n",
        "\n",
        "* `del 시퀀스객체[시작인덱스:끝인덱스]`"
      ],
      "metadata": {
        "id": "H78hvVYnfFxk"
      }
    },
    {
      "cell_type": "code",
      "source": [],
      "metadata": {
        "colab": {
          "base_uri": "https://localhost:8080/"
        },
        "id": "kx4OHYfjcm4F",
        "outputId": "45511fd6-9027-41a0-bb55-eb3163e20825"
      },
      "execution_count": 143,
      "outputs": [
        {
          "output_type": "stream",
          "name": "stdout",
          "text": [
            "[0, 10, 'a', 50, 60, 70, 80, 90]\n"
          ]
        }
      ]
    },
    {
      "cell_type": "code",
      "source": [
        "# 인덱스 증가폭을 지정하면 인덱스를 건너뛰면서 삭제하겠죠? 다음은 인덱스 2부터 2씩 증가시키면서 인덱스 6까지 삭제합니다.\n"
      ],
      "metadata": {
        "colab": {
          "base_uri": "https://localhost:8080/"
        },
        "id": "_xWfBeIffLI-",
        "outputId": "92159541-945c-4d63-abc3-7052a42c509c"
      },
      "execution_count": null,
      "outputs": [
        {
          "output_type": "execute_result",
          "data": {
            "text/plain": [
              "[0, 10, 30, 50, 70, 80, 90]"
            ]
          },
          "metadata": {},
          "execution_count": 35
        }
      ]
    },
    {
      "cell_type": "code",
      "source": [
        "# 튜플, range, 문자열은 del로 슬라이스를 삭제할 수 없습니다.\n"
      ],
      "metadata": {
        "colab": {
          "base_uri": "https://localhost:8080/",
          "height": 241
        },
        "id": "AjcXcX-5fVkY",
        "outputId": "b8319413-2c05-416c-a09d-2fa247bb74d5"
      },
      "execution_count": null,
      "outputs": [
        {
          "output_type": "error",
          "ename": "TypeError",
          "evalue": "ignored",
          "traceback": [
            "\u001b[0;31m---------------------------------------------------------------------------\u001b[0m",
            "\u001b[0;31mTypeError\u001b[0m                                 Traceback (most recent call last)",
            "\u001b[0;32m<ipython-input-36-679e6b9345fa>\u001b[0m in \u001b[0;36m<module>\u001b[0;34m\u001b[0m\n\u001b[1;32m      1\u001b[0m \u001b[0;31m# 튜플, range, 문자열은 del로 슬라이스를 삭제할 수 없습니다.\u001b[0m\u001b[0;34m\u001b[0m\u001b[0;34m\u001b[0m\u001b[0;34m\u001b[0m\u001b[0m\n\u001b[1;32m      2\u001b[0m \u001b[0mb\u001b[0m \u001b[0;34m=\u001b[0m \u001b[0;34m(\u001b[0m\u001b[0;36m0\u001b[0m\u001b[0;34m,\u001b[0m \u001b[0;36m10\u001b[0m\u001b[0;34m,\u001b[0m \u001b[0;36m20\u001b[0m\u001b[0;34m,\u001b[0m \u001b[0;36m30\u001b[0m\u001b[0;34m,\u001b[0m \u001b[0;36m40\u001b[0m\u001b[0;34m,\u001b[0m \u001b[0;36m50\u001b[0m\u001b[0;34m,\u001b[0m \u001b[0;36m60\u001b[0m\u001b[0;34m,\u001b[0m \u001b[0;36m70\u001b[0m\u001b[0;34m,\u001b[0m \u001b[0;36m80\u001b[0m\u001b[0;34m,\u001b[0m \u001b[0;36m90\u001b[0m\u001b[0;34m)\u001b[0m\u001b[0;34m\u001b[0m\u001b[0;34m\u001b[0m\u001b[0m\n\u001b[0;32m----> 3\u001b[0;31m \u001b[0;32mdel\u001b[0m \u001b[0mb\u001b[0m\u001b[0;34m[\u001b[0m\u001b[0;36m2\u001b[0m\u001b[0;34m:\u001b[0m\u001b[0;36m5\u001b[0m\u001b[0;34m]\u001b[0m\u001b[0;34m\u001b[0m\u001b[0;34m\u001b[0m\u001b[0m\n\u001b[0m",
            "\u001b[0;31mTypeError\u001b[0m: 'tuple' object does not support item deletion"
          ]
        }
      ]
    },
    {
      "cell_type": "code",
      "source": [],
      "metadata": {
        "colab": {
          "base_uri": "https://localhost:8080/",
          "height": 223
        },
        "id": "8ZN37n4Sfdk-",
        "outputId": "b79aeb8a-0849-4bb6-fa88-14acba299840"
      },
      "execution_count": null,
      "outputs": [
        {
          "output_type": "error",
          "ename": "TypeError",
          "evalue": "ignored",
          "traceback": [
            "\u001b[0;31m---------------------------------------------------------------------------\u001b[0m",
            "\u001b[0;31mTypeError\u001b[0m                                 Traceback (most recent call last)",
            "\u001b[0;32m<ipython-input-37-34ed7e8b46a7>\u001b[0m in \u001b[0;36m<module>\u001b[0;34m\u001b[0m\n\u001b[1;32m      1\u001b[0m \u001b[0mr\u001b[0m \u001b[0;34m=\u001b[0m \u001b[0mrange\u001b[0m\u001b[0;34m(\u001b[0m\u001b[0;36m10\u001b[0m\u001b[0;34m)\u001b[0m\u001b[0;34m\u001b[0m\u001b[0;34m\u001b[0m\u001b[0m\n\u001b[0;32m----> 2\u001b[0;31m \u001b[0;32mdel\u001b[0m \u001b[0mr\u001b[0m\u001b[0;34m[\u001b[0m\u001b[0;36m2\u001b[0m\u001b[0;34m:\u001b[0m\u001b[0;36m5\u001b[0m\u001b[0;34m]\u001b[0m\u001b[0;34m\u001b[0m\u001b[0;34m\u001b[0m\u001b[0m\n\u001b[0m",
            "\u001b[0;31mTypeError\u001b[0m: 'range' object does not support item deletion"
          ]
        }
      ]
    },
    {
      "cell_type": "code",
      "source": [],
      "metadata": {
        "colab": {
          "base_uri": "https://localhost:8080/",
          "height": 223
        },
        "id": "zpw-k1GBfgGV",
        "outputId": "75b2ba85-6e23-4682-95b6-b2b4cebf93c8"
      },
      "execution_count": null,
      "outputs": [
        {
          "output_type": "error",
          "ename": "TypeError",
          "evalue": "ignored",
          "traceback": [
            "\u001b[0;31m---------------------------------------------------------------------------\u001b[0m",
            "\u001b[0;31mTypeError\u001b[0m                                 Traceback (most recent call last)",
            "\u001b[0;32m<ipython-input-38-de1f44831bfc>\u001b[0m in \u001b[0;36m<module>\u001b[0;34m\u001b[0m\n\u001b[1;32m      1\u001b[0m \u001b[0mhello\u001b[0m \u001b[0;34m=\u001b[0m \u001b[0;34m'Hello, world!'\u001b[0m\u001b[0;34m\u001b[0m\u001b[0;34m\u001b[0m\u001b[0m\n\u001b[0;32m----> 2\u001b[0;31m \u001b[0;32mdel\u001b[0m \u001b[0mhello\u001b[0m\u001b[0;34m[\u001b[0m\u001b[0;36m2\u001b[0m\u001b[0;34m:\u001b[0m\u001b[0;36m9\u001b[0m\u001b[0;34m]\u001b[0m\u001b[0;34m\u001b[0m\u001b[0;34m\u001b[0m\u001b[0m\n\u001b[0m",
            "\u001b[0;31mTypeError\u001b[0m: 'str' object does not support item deletion"
          ]
        }
      ]
    }
  ]
}