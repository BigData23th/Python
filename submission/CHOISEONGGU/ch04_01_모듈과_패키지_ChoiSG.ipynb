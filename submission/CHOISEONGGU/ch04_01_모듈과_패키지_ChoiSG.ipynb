{
  "nbformat": 4,
  "nbformat_minor": 0,
  "metadata": {
    "colab": {
      "provenance": [],
      "include_colab_link": true
    },
    "kernelspec": {
      "name": "python3",
      "display_name": "Python 3"
    },
    "language_info": {
      "name": "python"
    }
  },
  "cells": [
    {
      "cell_type": "markdown",
      "metadata": {
        "id": "view-in-github",
        "colab_type": "text"
      },
      "source": [
        "<a href=\"https://colab.research.google.com/github/CHOISEONGGU/Python_SG/blob/main/submission/CHOISEONGGU/ch04_01_%EB%AA%A8%EB%93%88%EA%B3%BC_%ED%8C%A8%ED%82%A4%EC%A7%80_ChoiSG.ipynb\" target=\"_parent\"><img src=\"https://colab.research.google.com/assets/colab-badge.svg\" alt=\"Open In Colab\"/></a>"
      ]
    },
    {
      "cell_type": "markdown",
      "source": [
        "# 모듈과 패키지"
      ],
      "metadata": {
        "id": "wv5OuXLETrnz"
      }
    },
    {
      "cell_type": "markdown",
      "source": [
        "지금까지 파이썬 코드를 작성하면서 input, print 등의 내장 함수(built-in function)를 주로 사용했는데, 내장 함수만으로는 할 수 있는게 별로 없습니다. 그래서 좀 더 복잡한 프로그램을 만들려면 파이썬의 모듈과 패키지를 사용해야 합니다. 우리가 책 중간 중간에 사용했던 random, math 등이 바로 모듈과 패키지입니다.\n",
        "\n",
        "모듈(module)은 각종 변수, 함수, 클래스를 담고 있는 파일이고, 패키지(package)는 여러 모듈을 묶은 것입니다. 파이썬을 설치할 때 다양한 모듈과 패키지가 기본으로 설치됩니다. 만약 기본 모듈과 패키지로 부족하다면 다른 사람이 만든 유명 모듈과 패키지를 설치해서 쓸 수도 있습니다."
      ],
      "metadata": {
        "id": "nELzChJaTwoZ"
      }
    },
    {
      "cell_type": "markdown",
      "source": [
        "### 모듈, 패키지, 라이브러리"
      ],
      "metadata": {
        "id": "kC1KfQa_T1p_"
      }
    },
    {
      "cell_type": "markdown",
      "source": [
        "\n",
        "파이썬을 배우다 보면 모듈, 패키지, 파이썬 표준 라이브러리와 같은 용어를 접하게 되는데 서로 비슷한 개념이지만 약간의 차이가 있습니다.\n",
        "\n",
        "모듈: 특정 기능을 .py 파일 단위로 작성한 것입니다.\n",
        "\n",
        "패키지: 특정 기능과 관련된 여러 모듈을 묶은 것입니다. 패키지는 모듈에 네임스페이스(namespace, 이름공간)를 제공합니다.\n",
        "\n",
        "파이썬 표준 라이브러리: 파이썬에 기본으로 설치된 모듈과 패키지, 내장 함수를 묶어서 파이썬 표준 라이브러리(Python Standard Library, PSL)라 부릅니다."
      ],
      "metadata": {
        "id": "9cmMgcE6T03U"
      }
    },
    {
      "cell_type": "markdown",
      "source": [
        "## import로 모듈 가져오기"
      ],
      "metadata": {
        "id": "Gm-o8YgZTuGJ"
      }
    },
    {
      "cell_type": "markdown",
      "source": [
        "모듈은 import 키워드로 가져올 수 있습니다(모듈을 여러 개 가져올 때는 모듈을 콤마로 구분).\n",
        "\n",
        "* import 모듈\n",
        "* import 모듈1, 모듈2\n",
        "* 모듈.변수\n",
        "* 모듈.함수()\n",
        "* 모듈.클래스()"
      ],
      "metadata": {
        "id": "ERT_81zvT7lh"
      }
    },
    {
      "cell_type": "code",
      "execution_count": 1,
      "metadata": {
        "colab": {
          "base_uri": "https://localhost:8080/"
        },
        "id": "kZbgt9YUTaN7",
        "outputId": "d63c0bd4-25bf-4237-eca6-2e6bc51475d7"
      },
      "outputs": [
        {
          "output_type": "execute_result",
          "data": {
            "text/plain": [
              "3.141592653589793"
            ]
          },
          "metadata": {},
          "execution_count": 1
        }
      ],
      "source": [
        "import math\n",
        "\n",
        "math.pi"
      ]
    },
    {
      "cell_type": "markdown",
      "source": [
        "import에 모듈 이름을 지정하면 해당 모듈을 가져올 수 있으며 math.pi와 같이 **모듈.변수** 형식으로 모듈의 변수를 사용합니다."
      ],
      "metadata": {
        "id": "gm2GXGp0UAyu"
      }
    },
    {
      "cell_type": "code",
      "source": [
        "import random\n",
        "\n",
        "random.choice(range(0,45))"
      ],
      "metadata": {
        "colab": {
          "base_uri": "https://localhost:8080/"
        },
        "id": "OhO7EVnET_pv",
        "outputId": "fac6579b-cd88-45ac-89f9-148457676dca"
      },
      "execution_count": 4,
      "outputs": [
        {
          "output_type": "execute_result",
          "data": {
            "text/plain": [
              "12"
            ]
          },
          "metadata": {},
          "execution_count": 4
        }
      ]
    },
    {
      "cell_type": "code",
      "source": [
        "import collections\n",
        "\n",
        "collections.Counter(['a','a','b'])   # Counter class"
      ],
      "metadata": {
        "colab": {
          "base_uri": "https://localhost:8080/"
        },
        "id": "vVrJ5_QqA42j",
        "outputId": "d9088a51-c3db-4836-e646-9721e9c2c251"
      },
      "execution_count": 5,
      "outputs": [
        {
          "output_type": "execute_result",
          "data": {
            "text/plain": [
              "Counter({'a': 2, 'b': 1})"
            ]
          },
          "metadata": {},
          "execution_count": 5
        }
      ]
    },
    {
      "cell_type": "markdown",
      "source": [
        "모듈의 함수는 **모듈.함수()** 형식으로 사용합니다."
      ],
      "metadata": {
        "id": "a-DDzYVaUI2J"
      }
    },
    {
      "cell_type": "markdown",
      "source": [
        "### import as로 모듈 이름 지정하기"
      ],
      "metadata": {
        "id": "bSAkwY1MUM_9"
      }
    },
    {
      "cell_type": "markdown",
      "source": [
        "모듈의 함수를 사용할 때 math.sqrt처럼 일일이 math를 입력하기 귀찮은 사람도 있겠죠? 이때는 import as를 사용하여 모듈의 이름을 지정할 수 있습니다.\n",
        "\n",
        "* import 모듈 as 이름"
      ],
      "metadata": {
        "id": "3Zgk8vh-UQTc"
      }
    },
    {
      "cell_type": "code",
      "source": [
        "import random as r\n",
        "\n",
        "r.randint(0, 100)   # randint(시작, 끝) 값을 포함하는 수들 중 랜덤으로 한개"
      ],
      "metadata": {
        "colab": {
          "base_uri": "https://localhost:8080/"
        },
        "id": "1QanJm5GUGtH",
        "outputId": "3106a491-c3f5-4cbd-d178-a2af00c4da85"
      },
      "execution_count": 7,
      "outputs": [
        {
          "output_type": "execute_result",
          "data": {
            "text/plain": [
              "81"
            ]
          },
          "metadata": {},
          "execution_count": 7
        }
      ]
    },
    {
      "cell_type": "markdown",
      "source": [
        "### from import로 모듈의 일부만 가져오기"
      ],
      "metadata": {
        "id": "y9kGUkYJUZW4"
      }
    },
    {
      "cell_type": "markdown",
      "source": [
        "import as로 모듈의 이름을 지정하는 방법보다 좀 더 편한 방법이 있습니다. 이번에는 from import로 원하는 변수만 가져와보겠습니다.\n",
        "\n",
        "* from 모듈 import 변수"
      ],
      "metadata": {
        "id": "4fg0kpnqUdYS"
      }
    },
    {
      "cell_type": "code",
      "source": [
        "from math import pi\n",
        "\n",
        "pi"
      ],
      "metadata": {
        "colab": {
          "base_uri": "https://localhost:8080/"
        },
        "id": "280ZpuqZUXOv",
        "outputId": "f4f7daa6-9224-430f-db0a-e5fb7f817470"
      },
      "execution_count": 8,
      "outputs": [
        {
          "output_type": "execute_result",
          "data": {
            "text/plain": [
              "3.141592653589793"
            ]
          },
          "metadata": {},
          "execution_count": 8
        }
      ]
    },
    {
      "cell_type": "markdown",
      "source": [
        "모듈의 변수를 가져왔으니 이번에는 함수를 가져와보겠습니다(물론 클래스도 가져올 수 있습니다).\n",
        "\n",
        "* from 모듈 import 함수\n",
        "* from 모듈 import 클래스"
      ],
      "metadata": {
        "id": "nCAY1zitUi4G"
      }
    },
    {
      "cell_type": "code",
      "source": [
        "from random import choice\n",
        "from collections import Counter\n",
        "\n",
        "choice([1,2,3])\n",
        "Counter([1,2,3,3,4,4,4])"
      ],
      "metadata": {
        "colab": {
          "base_uri": "https://localhost:8080/"
        },
        "id": "wlGm5UzrBgHw",
        "outputId": "9743c4a7-cade-4046-9945-4aed9475ccab"
      },
      "execution_count": 11,
      "outputs": [
        {
          "output_type": "execute_result",
          "data": {
            "text/plain": [
              "Counter({1: 1, 2: 1, 3: 2, 4: 3})"
            ]
          },
          "metadata": {},
          "execution_count": 11
        }
      ]
    },
    {
      "cell_type": "markdown",
      "source": [
        "지금까지 변수나 함수를 하나만 가져왔습니다. 하지만 math 모듈에서 가져올 변수와 함수가 여러 개일 수도 있겠죠? 이때는 import 뒤에 가져올 변수, 함수, 클래스를 콤마로 구분하여 여러 개를 지정해주면 됩니다.\n",
        "\n",
        "* from 모듈 import 변수, 함수, 클래스"
      ],
      "metadata": {
        "id": "MU_301n1UnbQ"
      }
    },
    {
      "cell_type": "code",
      "source": [
        "from math import pi, ceil, floor\n",
        "\n",
        "pi, ceil(100.2324325 * 100) / 100, floor(100.33435 * 100) / 100"
      ],
      "metadata": {
        "colab": {
          "base_uri": "https://localhost:8080/"
        },
        "id": "zw4vpp-VUlO3",
        "outputId": "a9284956-7875-4d50-ad70-d6dc97976109"
      },
      "execution_count": 13,
      "outputs": [
        {
          "output_type": "execute_result",
          "data": {
            "text/plain": [
              "(3.141592653589793, 100.24, 100.33)"
            ]
          },
          "metadata": {},
          "execution_count": 13
        }
      ]
    },
    {
      "cell_type": "markdown",
      "source": [
        "from import는 모듈의 모든 변수, 함수, 클래스를 가져오는 기능도 있습니다.\n",
        "\n",
        "보통 컴퓨터에서 *(asterisk, 애스터리스크) 기호는 모든 것이라는 뜻으로 사용합니다\n",
        "\n",
        "* from 모듈 import *\n"
      ],
      "metadata": {
        "id": "QFFQw5xBU2Rr"
      }
    },
    {
      "cell_type": "code",
      "source": [
        "from math import *\n",
        "\n",
        "pi, floor(100.324325)"
      ],
      "metadata": {
        "colab": {
          "base_uri": "https://localhost:8080/"
        },
        "id": "u9mH0sLeUhiw",
        "outputId": "f0939ad7-01bb-455c-dcea-cf8907bc76e3"
      },
      "execution_count": 14,
      "outputs": [
        {
          "output_type": "execute_result",
          "data": {
            "text/plain": [
              "(3.141592653589793, 100)"
            ]
          },
          "metadata": {},
          "execution_count": 14
        }
      ]
    },
    {
      "cell_type": "markdown",
      "source": [
        "### from import로 모듈의 일부를 가져온 뒤 이름 지정하기\n"
      ],
      "metadata": {
        "id": "9O6amJHaWAkX"
      }
    },
    {
      "cell_type": "markdown",
      "source": [
        "이번에는 from import로 변수, 함수, 클래스를 가져온 뒤 이름을 지정해보겠습니다.\n",
        "\n",
        "* from 모듈 import 변수 as 이름\n",
        "* from 모듈 import 함수 as 이름\n",
        "* from 모듈 import 클래스 as 이름"
      ],
      "metadata": {
        "id": "s0VlLXDBWHay"
      }
    },
    {
      "cell_type": "code",
      "source": [
        "from random import choice as ch\n",
        "\n",
        "ch(range(10, 100))"
      ],
      "metadata": {
        "colab": {
          "base_uri": "https://localhost:8080/"
        },
        "id": "QszzKjSsU7uH",
        "outputId": "5243ea6a-3e98-43cc-9e00-e3bb76f44620"
      },
      "execution_count": 16,
      "outputs": [
        {
          "output_type": "execute_result",
          "data": {
            "text/plain": [
              "94"
            ]
          },
          "metadata": {},
          "execution_count": 16
        }
      ]
    },
    {
      "cell_type": "markdown",
      "source": [
        "from import로 가져온 변수, 함수, 클래스 뒤에 as로 이름을 지정해주면 됩니다.\n",
        "\n",
        "그럼 여러 개를 가져왔을 때 각각 이름을 지정할 수는 없을까요? 이때는 각 변수, 함수, 클래스 등을 콤마로 구분하여 as를 여러 개 지정하면 됩니다.\n",
        "\n",
        "from 모듈 import 변수 as 이름1, 함수 as 이름2, 클래스 as 이름3\n"
      ],
      "metadata": {
        "id": "sSpR187nWPjW"
      }
    },
    {
      "cell_type": "code",
      "source": [
        "from random import choice as ch, randint as ri\n",
        "\n",
        "ch(range(10, 100)), ri(1,10)"
      ],
      "metadata": {
        "colab": {
          "base_uri": "https://localhost:8080/"
        },
        "id": "X-IfMM5jWNtA",
        "outputId": "5360e9aa-d99e-4a6e-df93-8de864b54c62"
      },
      "execution_count": 17,
      "outputs": [
        {
          "output_type": "execute_result",
          "data": {
            "text/plain": [
              "(72, 7)"
            ]
          },
          "metadata": {},
          "execution_count": 17
        }
      ]
    },
    {
      "cell_type": "markdown",
      "source": [
        "## import로 패키지 가져오기"
      ],
      "metadata": {
        "id": "6hi4tX-jWXxh"
      }
    },
    {
      "cell_type": "markdown",
      "source": [
        "패키지는 특정 기능과 관련된 여러 모듈을 묶은 것인데, 패키지에 들어있는 모듈도 import를 사용하여 가져옵니다.\n",
        "\n",
        "* import 패키지.모듈\n",
        "* import 패키지.모듈1, 패키지.모듈2\n",
        "* 패키지.모듈.변수\n",
        "* 패키지.모듈.함수()\n",
        "* 패키지.모듈.클래스()"
      ],
      "metadata": {
        "id": "YBq-usCnWbeC"
      }
    },
    {
      "cell_type": "code",
      "source": [],
      "metadata": {
        "colab": {
          "base_uri": "https://localhost:8080/"
        },
        "id": "TuV7kG3PWWUH",
        "outputId": "021f8dcf-be08-4c03-ebbf-c929a7effbd8"
      },
      "execution_count": null,
      "outputs": [
        {
          "output_type": "execute_result",
          "data": {
            "text/plain": [
              "200"
            ]
          },
          "metadata": {},
          "execution_count": 9
        }
      ]
    },
    {
      "cell_type": "markdown",
      "source": [
        "### import as로 패키지 모듈 이름 지정하기"
      ],
      "metadata": {
        "id": "xAp7T6X6WjsE"
      }
    },
    {
      "cell_type": "markdown",
      "source": [
        "패키지 안에 들어있는 모듈도 import as를 사용하여 이름을 지정할 수 있습니다.\n",
        "\n",
        "* import 패키지.모듈 as 이름"
      ],
      "metadata": {
        "id": "D9Mt9G_xWmUs"
      }
    },
    {
      "cell_type": "code",
      "source": [],
      "metadata": {
        "colab": {
          "base_uri": "https://localhost:8080/"
        },
        "id": "HjiUdfIYWfd9",
        "outputId": "dd0f3fdf-b4a8-4ed0-ebe4-8eeaa4770a9d"
      },
      "execution_count": null,
      "outputs": [
        {
          "output_type": "execute_result",
          "data": {
            "text/plain": [
              "200"
            ]
          },
          "metadata": {},
          "execution_count": 10
        }
      ]
    },
    {
      "cell_type": "markdown",
      "source": [
        "### from import로 패키지의 모듈에서 일부만 가져오기"
      ],
      "metadata": {
        "id": "Bh4y73nVWrXP"
      }
    },
    {
      "cell_type": "markdown",
      "source": [
        "패키지도 from import를 사용하여 모듈에서 변수, 함수, 클래스를 가져올 수 있습니다.\n",
        "\n",
        "* from 패키지.모듈 import 변수\n",
        "* from 패키지.모듈 import 함수\n",
        "* from 패키지.모듈 import 클래스\n",
        "* from 패키지.모듈 import 변수, 함수, 클래스"
      ],
      "metadata": {
        "id": "Npf8AqIBWt35"
      }
    },
    {
      "cell_type": "code",
      "source": [],
      "metadata": {
        "colab": {
          "base_uri": "https://localhost:8080/"
        },
        "id": "PC0fJIhzWpRn",
        "outputId": "4dbcd121-42c4-420f-fe5c-db3decd7855d"
      },
      "execution_count": null,
      "outputs": [
        {
          "output_type": "execute_result",
          "data": {
            "text/plain": [
              "200"
            ]
          },
          "metadata": {},
          "execution_count": 11
        }
      ]
    },
    {
      "cell_type": "markdown",
      "source": [
        "패키지의 모듈에서 모든 변수, 함수, 클래스를 가져오는 방법은 다음과 같습니다.\n",
        "\n",
        "* from 패키지.모듈 import *"
      ],
      "metadata": {
        "id": "Y3QS4JNlW1fm"
      }
    },
    {
      "cell_type": "code",
      "source": [],
      "metadata": {
        "colab": {
          "base_uri": "https://localhost:8080/"
        },
        "id": "HuyDJBNxWzbf",
        "outputId": "b2d189a4-864c-4ed0-d131-44366871671e"
      },
      "execution_count": null,
      "outputs": [
        {
          "output_type": "execute_result",
          "data": {
            "text/plain": [
              "200"
            ]
          },
          "metadata": {},
          "execution_count": 12
        }
      ]
    },
    {
      "cell_type": "markdown",
      "source": [
        "### from import로 패키지의 모듈의 일부를 가져온 뒤 이름 지정하기"
      ],
      "metadata": {
        "id": "_ttNLzskW9ow"
      }
    },
    {
      "cell_type": "markdown",
      "source": [
        "이번에는 from import로 패키지의 모듈에서 변수, 함수, 클래스를 가져온 뒤 이름을 지정해보겠습니다.\n",
        "\n",
        "* from 패키지.모듈 import 변수 as 이름\n",
        "* from 패키지.모듈 import 변수 as 이름, 함수 as 이름, 클래스 as 이름"
      ],
      "metadata": {
        "id": "f6HaRFdwXBN-"
      }
    },
    {
      "cell_type": "code",
      "source": [],
      "metadata": {
        "colab": {
          "base_uri": "https://localhost:8080/"
        },
        "id": "7kBmCHgbW57Q",
        "outputId": "d8336076-6cc3-4af8-bc1d-b050360210db"
      },
      "execution_count": null,
      "outputs": [
        {
          "output_type": "execute_result",
          "data": {
            "text/plain": [
              "200"
            ]
          },
          "metadata": {},
          "execution_count": 13
        }
      ]
    },
    {
      "cell_type": "markdown",
      "source": [
        "### 파이썬 패키지 인덱스에서 패키지 설치하기"
      ],
      "metadata": {
        "id": "ba-DGLwaXJND"
      }
    },
    {
      "cell_type": "markdown",
      "source": [
        "파이썬은 파이썬 표준 라이브러리(Python Standard Library, PSL) 이외에도 파이썬 패키지 인덱스(Python Package Index, PyPI)를 통해 다양한 패키지를 사용할 수 있습니다. 특히 명령만 입력하면 원하는 패키지를 인터넷에서 다운로드하여 설치해줄 뿐만 아니라 관련된 패키지(의존성)까지 자동으로 설치해주므로 매우 편리합니다."
      ],
      "metadata": {
        "id": "DPYlA8NaXMP1"
      }
    },
    {
      "cell_type": "markdown",
      "source": [
        "### pip로 패키지 설치하기\n",
        "\n",
        "* pip install 패키지"
      ],
      "metadata": {
        "id": "V50opDujXOKw"
      }
    },
    {
      "cell_type": "code",
      "source": [
        "# !pip install finance-datareader # colab엔 웬만한건 다 깔려있다.\n",
        "# !pip install finance-datareader -q\n",
        "# https://pypi.org   -> installer가 거의 다 있다.\n",
        "!pip install finance-datareader --quiet"
      ],
      "metadata": {
        "id": "kywxO6AJXGD_"
      },
      "execution_count": 21,
      "outputs": []
    },
    {
      "cell_type": "markdown",
      "source": [
        "### import로 패키지 가져오기"
      ],
      "metadata": {
        "id": "l6H2L17OXgcz"
      }
    },
    {
      "cell_type": "markdown",
      "source": [
        "* import 패키지"
      ],
      "metadata": {
        "id": "BQL4k5TBXkNw"
      }
    },
    {
      "cell_type": "code",
      "source": [
        "import FinanceDataReader as fdr"
      ],
      "metadata": {
        "id": "Zoq8trlQXk6o"
      },
      "execution_count": 22,
      "outputs": []
    },
    {
      "cell_type": "code",
      "source": [],
      "metadata": {
        "id": "qqUFDgU5ElKq"
      },
      "execution_count": null,
      "outputs": []
    },
    {
      "cell_type": "code",
      "source": [
        "name = '에너지솔루션'\n",
        "fdr.StockListing('KOSPI').query(f'Name == \"{name}\"').Code\n",
        "fdr.DataReader(\"373220\")"
      ],
      "metadata": {
        "colab": {
          "base_uri": "https://localhost:8080/",
          "height": 455
        },
        "id": "ncwQ-8blD-wu",
        "outputId": "3c73610c-eba8-4911-99d5-a81238eeaead"
      },
      "execution_count": 31,
      "outputs": [
        {
          "output_type": "execute_result",
          "data": {
            "text/plain": [
              "              Open    High     Low   Close    Volume    Change\n",
              "Date                                                          \n",
              "2022-01-27  597000  598000  450000  505000  15946992       NaN\n",
              "2022-01-28  476000  483000  445000  450000   4559773 -0.108911\n",
              "2022-02-03  458000  495500  441000  477000   2918435  0.060000\n",
              "2022-02-04  476500  505000  476000  504000   2088996  0.056604\n",
              "2022-02-07  520000  548000  511000  548000   1911176  0.087302\n",
              "...            ...     ...     ...     ...       ...       ...\n",
              "2023-02-28  516000  532000  515000  523000    419180  0.029528\n",
              "2023-03-02  520000  542000  516000  535000    506812  0.022945\n",
              "2023-03-03  539000  542000  533000  538000    288004  0.005607\n",
              "2023-03-06  545000  547000  533000  547000    418951  0.016729\n",
              "2023-03-07  548000  570000  543000  566000    830479  0.034735\n",
              "\n",
              "[272 rows x 6 columns]"
            ],
            "text/html": [
              "\n",
              "  <div id=\"df-afde068c-2043-49c5-aaac-465e9286271a\">\n",
              "    <div class=\"colab-df-container\">\n",
              "      <div>\n",
              "<style scoped>\n",
              "    .dataframe tbody tr th:only-of-type {\n",
              "        vertical-align: middle;\n",
              "    }\n",
              "\n",
              "    .dataframe tbody tr th {\n",
              "        vertical-align: top;\n",
              "    }\n",
              "\n",
              "    .dataframe thead th {\n",
              "        text-align: right;\n",
              "    }\n",
              "</style>\n",
              "<table border=\"1\" class=\"dataframe\">\n",
              "  <thead>\n",
              "    <tr style=\"text-align: right;\">\n",
              "      <th></th>\n",
              "      <th>Open</th>\n",
              "      <th>High</th>\n",
              "      <th>Low</th>\n",
              "      <th>Close</th>\n",
              "      <th>Volume</th>\n",
              "      <th>Change</th>\n",
              "    </tr>\n",
              "    <tr>\n",
              "      <th>Date</th>\n",
              "      <th></th>\n",
              "      <th></th>\n",
              "      <th></th>\n",
              "      <th></th>\n",
              "      <th></th>\n",
              "      <th></th>\n",
              "    </tr>\n",
              "  </thead>\n",
              "  <tbody>\n",
              "    <tr>\n",
              "      <th>2022-01-27</th>\n",
              "      <td>597000</td>\n",
              "      <td>598000</td>\n",
              "      <td>450000</td>\n",
              "      <td>505000</td>\n",
              "      <td>15946992</td>\n",
              "      <td>NaN</td>\n",
              "    </tr>\n",
              "    <tr>\n",
              "      <th>2022-01-28</th>\n",
              "      <td>476000</td>\n",
              "      <td>483000</td>\n",
              "      <td>445000</td>\n",
              "      <td>450000</td>\n",
              "      <td>4559773</td>\n",
              "      <td>-0.108911</td>\n",
              "    </tr>\n",
              "    <tr>\n",
              "      <th>2022-02-03</th>\n",
              "      <td>458000</td>\n",
              "      <td>495500</td>\n",
              "      <td>441000</td>\n",
              "      <td>477000</td>\n",
              "      <td>2918435</td>\n",
              "      <td>0.060000</td>\n",
              "    </tr>\n",
              "    <tr>\n",
              "      <th>2022-02-04</th>\n",
              "      <td>476500</td>\n",
              "      <td>505000</td>\n",
              "      <td>476000</td>\n",
              "      <td>504000</td>\n",
              "      <td>2088996</td>\n",
              "      <td>0.056604</td>\n",
              "    </tr>\n",
              "    <tr>\n",
              "      <th>2022-02-07</th>\n",
              "      <td>520000</td>\n",
              "      <td>548000</td>\n",
              "      <td>511000</td>\n",
              "      <td>548000</td>\n",
              "      <td>1911176</td>\n",
              "      <td>0.087302</td>\n",
              "    </tr>\n",
              "    <tr>\n",
              "      <th>...</th>\n",
              "      <td>...</td>\n",
              "      <td>...</td>\n",
              "      <td>...</td>\n",
              "      <td>...</td>\n",
              "      <td>...</td>\n",
              "      <td>...</td>\n",
              "    </tr>\n",
              "    <tr>\n",
              "      <th>2023-02-28</th>\n",
              "      <td>516000</td>\n",
              "      <td>532000</td>\n",
              "      <td>515000</td>\n",
              "      <td>523000</td>\n",
              "      <td>419180</td>\n",
              "      <td>0.029528</td>\n",
              "    </tr>\n",
              "    <tr>\n",
              "      <th>2023-03-02</th>\n",
              "      <td>520000</td>\n",
              "      <td>542000</td>\n",
              "      <td>516000</td>\n",
              "      <td>535000</td>\n",
              "      <td>506812</td>\n",
              "      <td>0.022945</td>\n",
              "    </tr>\n",
              "    <tr>\n",
              "      <th>2023-03-03</th>\n",
              "      <td>539000</td>\n",
              "      <td>542000</td>\n",
              "      <td>533000</td>\n",
              "      <td>538000</td>\n",
              "      <td>288004</td>\n",
              "      <td>0.005607</td>\n",
              "    </tr>\n",
              "    <tr>\n",
              "      <th>2023-03-06</th>\n",
              "      <td>545000</td>\n",
              "      <td>547000</td>\n",
              "      <td>533000</td>\n",
              "      <td>547000</td>\n",
              "      <td>418951</td>\n",
              "      <td>0.016729</td>\n",
              "    </tr>\n",
              "    <tr>\n",
              "      <th>2023-03-07</th>\n",
              "      <td>548000</td>\n",
              "      <td>570000</td>\n",
              "      <td>543000</td>\n",
              "      <td>566000</td>\n",
              "      <td>830479</td>\n",
              "      <td>0.034735</td>\n",
              "    </tr>\n",
              "  </tbody>\n",
              "</table>\n",
              "<p>272 rows × 6 columns</p>\n",
              "</div>\n",
              "      <button class=\"colab-df-convert\" onclick=\"convertToInteractive('df-afde068c-2043-49c5-aaac-465e9286271a')\"\n",
              "              title=\"Convert this dataframe to an interactive table.\"\n",
              "              style=\"display:none;\">\n",
              "        \n",
              "  <svg xmlns=\"http://www.w3.org/2000/svg\" height=\"24px\"viewBox=\"0 0 24 24\"\n",
              "       width=\"24px\">\n",
              "    <path d=\"M0 0h24v24H0V0z\" fill=\"none\"/>\n",
              "    <path d=\"M18.56 5.44l.94 2.06.94-2.06 2.06-.94-2.06-.94-.94-2.06-.94 2.06-2.06.94zm-11 1L8.5 8.5l.94-2.06 2.06-.94-2.06-.94L8.5 2.5l-.94 2.06-2.06.94zm10 10l.94 2.06.94-2.06 2.06-.94-2.06-.94-.94-2.06-.94 2.06-2.06.94z\"/><path d=\"M17.41 7.96l-1.37-1.37c-.4-.4-.92-.59-1.43-.59-.52 0-1.04.2-1.43.59L10.3 9.45l-7.72 7.72c-.78.78-.78 2.05 0 2.83L4 21.41c.39.39.9.59 1.41.59.51 0 1.02-.2 1.41-.59l7.78-7.78 2.81-2.81c.8-.78.8-2.07 0-2.86zM5.41 20L4 18.59l7.72-7.72 1.47 1.35L5.41 20z\"/>\n",
              "  </svg>\n",
              "      </button>\n",
              "      \n",
              "  <style>\n",
              "    .colab-df-container {\n",
              "      display:flex;\n",
              "      flex-wrap:wrap;\n",
              "      gap: 12px;\n",
              "    }\n",
              "\n",
              "    .colab-df-convert {\n",
              "      background-color: #E8F0FE;\n",
              "      border: none;\n",
              "      border-radius: 50%;\n",
              "      cursor: pointer;\n",
              "      display: none;\n",
              "      fill: #1967D2;\n",
              "      height: 32px;\n",
              "      padding: 0 0 0 0;\n",
              "      width: 32px;\n",
              "    }\n",
              "\n",
              "    .colab-df-convert:hover {\n",
              "      background-color: #E2EBFA;\n",
              "      box-shadow: 0px 1px 2px rgba(60, 64, 67, 0.3), 0px 1px 3px 1px rgba(60, 64, 67, 0.15);\n",
              "      fill: #174EA6;\n",
              "    }\n",
              "\n",
              "    [theme=dark] .colab-df-convert {\n",
              "      background-color: #3B4455;\n",
              "      fill: #D2E3FC;\n",
              "    }\n",
              "\n",
              "    [theme=dark] .colab-df-convert:hover {\n",
              "      background-color: #434B5C;\n",
              "      box-shadow: 0px 1px 3px 1px rgba(0, 0, 0, 0.15);\n",
              "      filter: drop-shadow(0px 1px 2px rgba(0, 0, 0, 0.3));\n",
              "      fill: #FFFFFF;\n",
              "    }\n",
              "  </style>\n",
              "\n",
              "      <script>\n",
              "        const buttonEl =\n",
              "          document.querySelector('#df-afde068c-2043-49c5-aaac-465e9286271a button.colab-df-convert');\n",
              "        buttonEl.style.display =\n",
              "          google.colab.kernel.accessAllowed ? 'block' : 'none';\n",
              "\n",
              "        async function convertToInteractive(key) {\n",
              "          const element = document.querySelector('#df-afde068c-2043-49c5-aaac-465e9286271a');\n",
              "          const dataTable =\n",
              "            await google.colab.kernel.invokeFunction('convertToInteractive',\n",
              "                                                     [key], {});\n",
              "          if (!dataTable) return;\n",
              "\n",
              "          const docLinkHtml = 'Like what you see? Visit the ' +\n",
              "            '<a target=\"_blank\" href=https://colab.research.google.com/notebooks/data_table.ipynb>data table notebook</a>'\n",
              "            + ' to learn more about interactive tables.';\n",
              "          element.innerHTML = '';\n",
              "          dataTable['output_type'] = 'display_data';\n",
              "          await google.colab.output.renderOutput(dataTable, element);\n",
              "          const docLink = document.createElement('div');\n",
              "          docLink.innerHTML = docLinkHtml;\n",
              "          element.appendChild(docLink);\n",
              "        }\n",
              "      </script>\n",
              "    </div>\n",
              "  </div>\n",
              "  "
            ]
          },
          "metadata": {},
          "execution_count": 31
        }
      ]
    },
    {
      "cell_type": "code",
      "source": [
        "fdr.DataReader('삼성전자')   # '삼성전자' -> code가 아님"
      ],
      "metadata": {
        "colab": {
          "base_uri": "https://localhost:8080/",
          "height": 87
        },
        "id": "kRnKcGPsD20C",
        "outputId": "69567a6f-5903-4300-c7ab-e62eecfbc0f2"
      },
      "execution_count": 23,
      "outputs": [
        {
          "output_type": "stream",
          "name": "stdout",
          "text": [
            "'ascii' codec can't encode characters in position 25-28: ordinal not in range(128)  - symbol \"삼성전자\"not found or invalid periods\n"
          ]
        },
        {
          "output_type": "execute_result",
          "data": {
            "text/plain": [
              "Empty DataFrame\n",
              "Columns: []\n",
              "Index: []"
            ],
            "text/html": [
              "\n",
              "  <div id=\"df-3a356f1e-6785-4dbc-bd3c-745bd9069f63\">\n",
              "    <div class=\"colab-df-container\">\n",
              "      <div>\n",
              "<style scoped>\n",
              "    .dataframe tbody tr th:only-of-type {\n",
              "        vertical-align: middle;\n",
              "    }\n",
              "\n",
              "    .dataframe tbody tr th {\n",
              "        vertical-align: top;\n",
              "    }\n",
              "\n",
              "    .dataframe thead th {\n",
              "        text-align: right;\n",
              "    }\n",
              "</style>\n",
              "<table border=\"1\" class=\"dataframe\">\n",
              "  <thead>\n",
              "    <tr style=\"text-align: right;\">\n",
              "      <th></th>\n",
              "    </tr>\n",
              "  </thead>\n",
              "  <tbody>\n",
              "  </tbody>\n",
              "</table>\n",
              "</div>\n",
              "      <button class=\"colab-df-convert\" onclick=\"convertToInteractive('df-3a356f1e-6785-4dbc-bd3c-745bd9069f63')\"\n",
              "              title=\"Convert this dataframe to an interactive table.\"\n",
              "              style=\"display:none;\">\n",
              "        \n",
              "  <svg xmlns=\"http://www.w3.org/2000/svg\" height=\"24px\"viewBox=\"0 0 24 24\"\n",
              "       width=\"24px\">\n",
              "    <path d=\"M0 0h24v24H0V0z\" fill=\"none\"/>\n",
              "    <path d=\"M18.56 5.44l.94 2.06.94-2.06 2.06-.94-2.06-.94-.94-2.06-.94 2.06-2.06.94zm-11 1L8.5 8.5l.94-2.06 2.06-.94-2.06-.94L8.5 2.5l-.94 2.06-2.06.94zm10 10l.94 2.06.94-2.06 2.06-.94-2.06-.94-.94-2.06-.94 2.06-2.06.94z\"/><path d=\"M17.41 7.96l-1.37-1.37c-.4-.4-.92-.59-1.43-.59-.52 0-1.04.2-1.43.59L10.3 9.45l-7.72 7.72c-.78.78-.78 2.05 0 2.83L4 21.41c.39.39.9.59 1.41.59.51 0 1.02-.2 1.41-.59l7.78-7.78 2.81-2.81c.8-.78.8-2.07 0-2.86zM5.41 20L4 18.59l7.72-7.72 1.47 1.35L5.41 20z\"/>\n",
              "  </svg>\n",
              "      </button>\n",
              "      \n",
              "  <style>\n",
              "    .colab-df-container {\n",
              "      display:flex;\n",
              "      flex-wrap:wrap;\n",
              "      gap: 12px;\n",
              "    }\n",
              "\n",
              "    .colab-df-convert {\n",
              "      background-color: #E8F0FE;\n",
              "      border: none;\n",
              "      border-radius: 50%;\n",
              "      cursor: pointer;\n",
              "      display: none;\n",
              "      fill: #1967D2;\n",
              "      height: 32px;\n",
              "      padding: 0 0 0 0;\n",
              "      width: 32px;\n",
              "    }\n",
              "\n",
              "    .colab-df-convert:hover {\n",
              "      background-color: #E2EBFA;\n",
              "      box-shadow: 0px 1px 2px rgba(60, 64, 67, 0.3), 0px 1px 3px 1px rgba(60, 64, 67, 0.15);\n",
              "      fill: #174EA6;\n",
              "    }\n",
              "\n",
              "    [theme=dark] .colab-df-convert {\n",
              "      background-color: #3B4455;\n",
              "      fill: #D2E3FC;\n",
              "    }\n",
              "\n",
              "    [theme=dark] .colab-df-convert:hover {\n",
              "      background-color: #434B5C;\n",
              "      box-shadow: 0px 1px 3px 1px rgba(0, 0, 0, 0.15);\n",
              "      filter: drop-shadow(0px 1px 2px rgba(0, 0, 0, 0.3));\n",
              "      fill: #FFFFFF;\n",
              "    }\n",
              "  </style>\n",
              "\n",
              "      <script>\n",
              "        const buttonEl =\n",
              "          document.querySelector('#df-3a356f1e-6785-4dbc-bd3c-745bd9069f63 button.colab-df-convert');\n",
              "        buttonEl.style.display =\n",
              "          google.colab.kernel.accessAllowed ? 'block' : 'none';\n",
              "\n",
              "        async function convertToInteractive(key) {\n",
              "          const element = document.querySelector('#df-3a356f1e-6785-4dbc-bd3c-745bd9069f63');\n",
              "          const dataTable =\n",
              "            await google.colab.kernel.invokeFunction('convertToInteractive',\n",
              "                                                     [key], {});\n",
              "          if (!dataTable) return;\n",
              "\n",
              "          const docLinkHtml = 'Like what you see? Visit the ' +\n",
              "            '<a target=\"_blank\" href=https://colab.research.google.com/notebooks/data_table.ipynb>data table notebook</a>'\n",
              "            + ' to learn more about interactive tables.';\n",
              "          element.innerHTML = '';\n",
              "          dataTable['output_type'] = 'display_data';\n",
              "          await google.colab.output.renderOutput(dataTable, element);\n",
              "          const docLink = document.createElement('div');\n",
              "          docLink.innerHTML = docLinkHtml;\n",
              "          element.appendChild(docLink);\n",
              "        }\n",
              "      </script>\n",
              "    </div>\n",
              "  </div>\n",
              "  "
            ]
          },
          "metadata": {},
          "execution_count": 23
        }
      ]
    },
    {
      "cell_type": "markdown",
      "source": [
        "### 패키지 검색, 버전 지정, 목록 출력, 삭제"
      ],
      "metadata": {
        "id": "n41hkh8qXtfc"
      }
    },
    {
      "cell_type": "markdown",
      "source": [
        "* pip search 패키지: 패키지 검색\n",
        "* pip install 패키지==버전: 특정 버전의 패키지를 설치(예: pip install requests==2.9.0)\n",
        "* pip list 또는 pip freeze: 패키지 목록 출력\n",
        "* pip uninstall 패키지: 패키지 삭제"
      ],
      "metadata": {
        "id": "qBlVdAsHX0ne"
      }
    },
    {
      "cell_type": "code",
      "source": [
        "!pip list"
      ],
      "metadata": {
        "id": "64-Lh4i8EwPX"
      },
      "execution_count": null,
      "outputs": []
    }
  ]
}