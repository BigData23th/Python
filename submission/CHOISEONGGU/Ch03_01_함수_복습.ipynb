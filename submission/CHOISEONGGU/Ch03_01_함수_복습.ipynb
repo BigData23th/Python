{
  "nbformat": 4,
  "nbformat_minor": 0,
  "metadata": {
    "colab": {
      "provenance": [],
      "authorship_tag": "ABX9TyN/yZq0hPCtzH3nvKWCva56",
      "include_colab_link": true
    },
    "kernelspec": {
      "name": "python3",
      "display_name": "Python 3"
    },
    "language_info": {
      "name": "python"
    }
  },
  "cells": [
    {
      "cell_type": "markdown",
      "metadata": {
        "id": "view-in-github",
        "colab_type": "text"
      },
      "source": [
        "<a href=\"https://colab.research.google.com/github/CHOISEONGGU/Python_SG/blob/main/submission/CHOISEONGGU/Ch03_01_%ED%95%A8%EC%88%98_%EB%B3%B5%EC%8A%B5.ipynb\" target=\"_parent\"><img src=\"https://colab.research.google.com/assets/colab-badge.svg\" alt=\"Open In Colab\"/></a>"
      ]
    },
    {
      "cell_type": "markdown",
      "source": [
        "# 함수"
      ],
      "metadata": {
        "id": "bd1cNecqpr5T"
      }
    },
    {
      "cell_type": "code",
      "execution_count": 65,
      "metadata": {
        "id": "kLas3pD1pm5e"
      },
      "outputs": [],
      "source": [
        "import random\n",
        "\n",
        "subjects = {\n",
        "    \"여러분, 취업 준비하셔야해요!\",\n",
        "    \"자격증은 스터디 짜셨어요?\",\n",
        "    \"왜 깃허브에 회고 안 올려요??\",\n",
        "    \"사람들이 왜 자꾸 나가지\"\n",
        "    \"오늘 주식은 많이 오르지 않네요\"\n",
        "}\n",
        "learning = {\n",
        "    \"문자열\" : \"split, replace...\",\n",
        "    \"리스트\" : \"append, extend...\",\n",
        "    \"딕셔너리\" : \"get,...\"\n",
        "}\n",
        "\n",
        "def study():   # 상위모듈\n",
        "    energy = random.randint(1, 10)\n",
        "    print(hello(energy))    # 하위모듈\n",
        "    energy -= 1\n",
        "    #random.choices(뽑히는 대상 - 모집단, k = 뽑는 수)\n",
        "    # choice = random.choices(subjects, k=2)\n",
        "    chat(energy, *subjects, k=2)   # 리스트 언패킹\n",
        "    lecture(**learning)\n",
        "    print(*bye(),sep=' ')\n",
        "\n",
        "# def hello():\n",
        "#     return \"좋은 아침입니다. 여러분\"\n",
        "\n",
        "# def chat(repeat, *agrs):\n",
        "#     pass\n",
        "\n",
        "# def lecture():\n",
        "#     pass\n",
        "\n",
        "def bye():\n",
        "    return \"10분 쉬겠습니다.\", \"PR 보내주세요\""
      ]
    },
    {
      "cell_type": "code",
      "source": [
        "def hello(energy=5):\n",
        "    # 0 - 10 사이 energy\n",
        "    if energy == 10:\n",
        "        return \"여러분! 오늘 제가 커피 쏠까요?\"   #  더이상 뒤로 진행 x\n",
        "    if energy >= 5:\n",
        "        return \"^_^ 오늘 점심메뉴 알려드릴까요?\"\n",
        "    return \"...(무표정)\""
      ],
      "metadata": {
        "id": "kHH3woxWqfgc"
      },
      "execution_count": 39,
      "outputs": []
    },
    {
      "cell_type": "code",
      "source": [
        "def chat(repeat, *args, k=2):\n",
        "    for i in range(repeat):\n",
        "        print(f\"제가 {i+1}번째 이야기하는 것 같은데..\")\n",
        "        # for j in args:\n",
        "        #     print(j)\n",
        "        choice = random.choices(args, k=k)\n",
        "        for j in choice:\n",
        "            print(f\"잔소리 : {j}\")"
      ],
      "metadata": {
        "id": "FjicTa8DrnU9"
      },
      "execution_count": 51,
      "outputs": []
    },
    {
      "cell_type": "code",
      "source": [
        "def lecture(**kwargs):\n",
        "      # for k, v in kwargs.items():\n",
        "      #     print('***자, 진도 나가겠습니다.')\n",
        "      #     print(f'***{k}에서 {v}를 배워봅시다.')\n",
        "\n",
        "      for (k, v) in enumerate(kwargs.items()):\n",
        "          print('***자, 진도 나가겠습니다.')\n",
        "          print(f'***{k}에서 {v}를 배워봅시다.')"
      ],
      "metadata": {
        "id": "WoAlv1AYtlda"
      },
      "execution_count": 47,
      "outputs": []
    },
    {
      "cell_type": "code",
      "source": [
        "study()"
      ],
      "metadata": {
        "colab": {
          "base_uri": "https://localhost:8080/"
        },
        "id": "PbVHsu0avdsc",
        "outputId": "6806c8db-d3c7-47af-c697-39075d6361a6"
      },
      "execution_count": 66,
      "outputs": [
        {
          "output_type": "stream",
          "name": "stdout",
          "text": [
            "^_^ 오늘 점심메뉴 알려드릴까요?\n",
            "제가 1번째 이야기하는 것 같은데..\n",
            "잔소리 : 자격증은 스터디 짜셨어요?\n",
            "잔소리 : 자격증은 스터디 짜셨어요?\n",
            "제가 2번째 이야기하는 것 같은데..\n",
            "잔소리 : 여러분, 취업 준비하셔야해요!\n",
            "잔소리 : 왜 깃허브에 회고 안 올려요??\n",
            "제가 3번째 이야기하는 것 같은데..\n",
            "잔소리 : 자격증은 스터디 짜셨어요?\n",
            "잔소리 : 자격증은 스터디 짜셨어요?\n",
            "제가 4번째 이야기하는 것 같은데..\n",
            "잔소리 : 사람들이 왜 자꾸 나가지오늘 주식은 많이 오르지 않네요\n",
            "잔소리 : 여러분, 취업 준비하셔야해요!\n",
            "***자, 진도 나가겠습니다.\n",
            "***0에서 ('문자열', 'split, replace...')를 배워봅시다.\n",
            "***자, 진도 나가겠습니다.\n",
            "***1에서 ('리스트', 'append, extend...')를 배워봅시다.\n",
            "***자, 진도 나가겠습니다.\n",
            "***2에서 ('딕셔너리', 'get,...')를 배워봅시다.\n",
            "10분 쉬겠습니다. PR 보내주세요\n"
          ]
        }
      ]
    }
  ]
}