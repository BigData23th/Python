{
  "nbformat": 4,
  "nbformat_minor": 0,
  "metadata": {
    "colab": {
      "provenance": [],
      "include_colab_link": true
    },
    "kernelspec": {
      "name": "python3",
      "display_name": "Python 3"
    },
    "language_info": {
      "name": "python"
    }
  },
  "cells": [
    {
      "cell_type": "markdown",
      "metadata": {
        "id": "view-in-github",
        "colab_type": "text"
      },
      "source": [
        "<a href=\"https://colab.research.google.com/github/CHOISEONGGU/Python_SG/blob/main/submission/CHOISEONGGU/ch02_10_%EB%94%95%EC%85%94%EB%84%88%EB%A6%AC_%EC%9D%91%EC%9A%A9_ChoiSG.ipynb\" target=\"_parent\"><img src=\"https://colab.research.google.com/assets/colab-badge.svg\" alt=\"Open In Colab\"/></a>"
      ]
    },
    {
      "cell_type": "markdown",
      "source": [
        "# 딕셔너리 응용"
      ],
      "metadata": {
        "id": "uZtKonlQ_bxw"
      }
    },
    {
      "cell_type": "markdown",
      "source": [
        "## 딕셔너리 조작하기"
      ],
      "metadata": {
        "id": "SKYN1_K5_duj"
      }
    },
    {
      "cell_type": "markdown",
      "source": [
        "### 딕셔너리에서 키의 값 저장하기"
      ],
      "metadata": {
        "id": "BIUDOX3P_fJx"
      }
    },
    {
      "cell_type": "markdown",
      "source": [
        "update(키=값)은 이름 그대로 딕셔너리에서 키의 값을 수정합니다. 예를 들어 딕셔너리가 x = {'a': 10}이라면 x.update(a=90)과 같이 키에서 작은따옴표 또는 큰따옴표를 빼고 키 이름과 값을 지정합니다."
      ],
      "metadata": {
        "id": "9Brl-EP-_our"
      }
    },
    {
      "cell_type": "code",
      "execution_count": 2,
      "metadata": {
        "colab": {
          "base_uri": "https://localhost:8080/"
        },
        "id": "ANRkulOQ-d22",
        "outputId": "878778b8-cb31-434e-af63-a33b33e6b32c"
      },
      "outputs": [
        {
          "output_type": "execute_result",
          "data": {
            "text/plain": [
              "{'a': 10, 'b': 20, 'c': 30, 'd': 40}"
            ]
          },
          "metadata": {},
          "execution_count": 2
        }
      ],
      "source": [
        "x = {\n",
        "    'a' : 10, 'b' : 20, 'c' : 30, 'd' : 40\n",
        "}\n",
        "x"
      ]
    },
    {
      "cell_type": "code",
      "source": [
        "x['a'] = 100\n",
        "x"
      ],
      "metadata": {
        "colab": {
          "base_uri": "https://localhost:8080/"
        },
        "id": "t3IJkvjb566F",
        "outputId": "9dfc89af-9f7c-4504-9c94-11e4771b1b0f"
      },
      "execution_count": 3,
      "outputs": [
        {
          "output_type": "execute_result",
          "data": {
            "text/plain": [
              "{'a': 100, 'b': 20, 'c': 30, 'd': 40}"
            ]
          },
          "metadata": {},
          "execution_count": 3
        }
      ]
    },
    {
      "cell_type": "code",
      "source": [
        "x.update(a=90)\n",
        "x"
      ],
      "metadata": {
        "colab": {
          "base_uri": "https://localhost:8080/"
        },
        "id": "g5YXwWJv6AEa",
        "outputId": "a2ff871b-ee60-46e2-ae90-a622a7c8e64a"
      },
      "execution_count": 4,
      "outputs": [
        {
          "output_type": "execute_result",
          "data": {
            "text/plain": [
              "{'a': 90, 'b': 20, 'c': 30, 'd': 40}"
            ]
          },
          "metadata": {},
          "execution_count": 4
        }
      ]
    },
    {
      "cell_type": "markdown",
      "source": [
        "만약 딕셔너리에 키가 없으면 키-값 쌍을 추가합니다. 딕셔너리 x에는 키 'e'가 없으므로 x.update(e=50)을 실행하면 'e': 50을 추가합니다."
      ],
      "metadata": {
        "id": "EAm_Zpct_uPK"
      }
    },
    {
      "cell_type": "code",
      "source": [
        "x.update(e=50)\n",
        "x"
      ],
      "metadata": {
        "colab": {
          "base_uri": "https://localhost:8080/"
        },
        "id": "Y94MYml8_rjq",
        "outputId": "56020ec1-f7c1-4401-edc7-eaf82ce9b8f1"
      },
      "execution_count": 5,
      "outputs": [
        {
          "output_type": "execute_result",
          "data": {
            "text/plain": [
              "{'a': 90, 'b': 20, 'c': 30, 'd': 40, 'e': 50}"
            ]
          },
          "metadata": {},
          "execution_count": 5
        }
      ]
    },
    {
      "cell_type": "code",
      "source": [
        "x"
      ],
      "metadata": {
        "colab": {
          "base_uri": "https://localhost:8080/"
        },
        "id": "Nh8U-kVj6klY",
        "outputId": "532f1e70-fb2e-44fc-bad6-8bae4b581b6f"
      },
      "execution_count": 7,
      "outputs": [
        {
          "output_type": "execute_result",
          "data": {
            "text/plain": [
              "{'a': 900, 'b': 20, 'c': 30, 'd': 40, 'e': 50, 'f': 60}"
            ]
          },
          "metadata": {},
          "execution_count": 7
        }
      ]
    },
    {
      "cell_type": "code",
      "source": [
        "[i for i in x]   # 변수 i 에는 key 값이 들어간다."
      ],
      "metadata": {
        "colab": {
          "base_uri": "https://localhost:8080/"
        },
        "id": "E_XFv4WJ6n7h",
        "outputId": "5a178849-8d4d-4fcf-a644-d6dc70bedc4d"
      },
      "execution_count": 9,
      "outputs": [
        {
          "output_type": "execute_result",
          "data": {
            "text/plain": [
              "['a', 'b', 'c', 'd', 'e', 'f']"
            ]
          },
          "metadata": {},
          "execution_count": 9
        }
      ]
    },
    {
      "cell_type": "code",
      "source": [
        "[x.update(**{i:i}) for i in x]"
      ],
      "metadata": {
        "colab": {
          "base_uri": "https://localhost:8080/"
        },
        "id": "JW_K8ZZh7jI4",
        "outputId": "d32e975a-df48-43d8-bcd1-c32145e6598a"
      },
      "execution_count": 13,
      "outputs": [
        {
          "output_type": "execute_result",
          "data": {
            "text/plain": [
              "[None, None, None, None, None, None]"
            ]
          },
          "metadata": {},
          "execution_count": 13
        }
      ]
    },
    {
      "cell_type": "code",
      "source": [
        "x"
      ],
      "metadata": {
        "colab": {
          "base_uri": "https://localhost:8080/"
        },
        "id": "i1Qpp42U7mv-",
        "outputId": "b320e456-c681-4389-896b-8034b0bb0fee"
      },
      "execution_count": 14,
      "outputs": [
        {
          "output_type": "execute_result",
          "data": {
            "text/plain": [
              "{'a': 'a', 'b': 'b', 'c': 'c', 'd': 'd', 'e': 'e', 'f': 'f'}"
            ]
          },
          "metadata": {},
          "execution_count": 14
        }
      ]
    },
    {
      "cell_type": "markdown",
      "source": [
        "update는 키-값 쌍 여러 개를 콤마로 구분해서 넣어주면 값을 한꺼번에 수정할 수 있습니다. 이때도 키가 있으면 해당 키의 값을 수정하고 없으면 키-값 쌍을 추가합니다.\n"
      ],
      "metadata": {
        "id": "9_hlLcsu_xQt"
      }
    },
    {
      "cell_type": "code",
      "source": [
        "x.update(a=900, f=60)\n",
        "x"
      ],
      "metadata": {
        "colab": {
          "base_uri": "https://localhost:8080/"
        },
        "id": "1XHXIdt-_wDF",
        "outputId": "822abb68-9bd7-4ed6-bfeb-c09a25243c8e"
      },
      "execution_count": 6,
      "outputs": [
        {
          "output_type": "execute_result",
          "data": {
            "text/plain": [
              "{'a': 900, 'b': 20, 'c': 30, 'd': 40, 'e': 50, 'f': 60}"
            ]
          },
          "metadata": {},
          "execution_count": 6
        }
      ]
    },
    {
      "cell_type": "markdown",
      "source": [
        "update(키=값)은 키가 문자열일 때만 사용할 수 있습니다. 만약 키가 숫자일 경우에는 update(딕셔너리)처럼 딕셔너리를 넣어서 값을 수정할 수 있습니다."
      ],
      "metadata": {
        "id": "hBF_IeHL_2AO"
      }
    },
    {
      "cell_type": "code",
      "source": [
        "y = {1 : \"one\", 2 : \"two\"}\n",
        "y"
      ],
      "metadata": {
        "colab": {
          "base_uri": "https://localhost:8080/"
        },
        "id": "cL2ShtdU_0e6",
        "outputId": "aad4db34-97d6-4da8-b074-49e04b0aee87"
      },
      "execution_count": 15,
      "outputs": [
        {
          "output_type": "execute_result",
          "data": {
            "text/plain": [
              "{1: 'one', 2: 'two'}"
            ]
          },
          "metadata": {},
          "execution_count": 15
        }
      ]
    },
    {
      "cell_type": "code",
      "source": [
        "y.update(1='ONE')   # 변수명의 조건을 만족시켜야 update에서 키 = 값 대입시킬 수 있음."
      ],
      "metadata": {
        "colab": {
          "base_uri": "https://localhost:8080/",
          "height": 136
        },
        "id": "wKVIvPB97zY2",
        "outputId": "d959a467-4fcb-46ad-af2f-9b9b239040cc"
      },
      "execution_count": 16,
      "outputs": [
        {
          "output_type": "error",
          "ename": "SyntaxError",
          "evalue": "ignored",
          "traceback": [
            "\u001b[0;36m  File \u001b[0;32m\"<ipython-input-16-dabbe56d9fb3>\"\u001b[0;36m, line \u001b[0;32m1\u001b[0m\n\u001b[0;31m    y.update(1='ONE')   # 변수명의 조건을 만족시켜야 update에서 키 = 값 대입시킬 수 있음.\u001b[0m\n\u001b[0m             ^\u001b[0m\n\u001b[0;31mSyntaxError\u001b[0m\u001b[0;31m:\u001b[0m expression cannot contain assignment, perhaps you meant \"==\"?\n"
          ]
        }
      ]
    },
    {
      "cell_type": "code",
      "source": [
        "y.update({1:'ONE', 3:'THREE'})\n",
        "y"
      ],
      "metadata": {
        "colab": {
          "base_uri": "https://localhost:8080/"
        },
        "id": "pr8rwq2b_5gd",
        "outputId": "dc1b110a-d1ed-4b4b-e891-43eb40c54ffa"
      },
      "execution_count": 17,
      "outputs": [
        {
          "output_type": "execute_result",
          "data": {
            "text/plain": [
              "{1: 'ONE', 2: 'two', 3: 'THREE'}"
            ]
          },
          "metadata": {},
          "execution_count": 17
        }
      ]
    },
    {
      "cell_type": "markdown",
      "source": [
        "다른 방법으로는 리스트와 튜플을 이용하는 방법도 있습니다. update(리스트), update(튜플)은 리스트와 튜플로 값을 수정합니다. 여기서 리스트는 [[키1, 값1], [키2, 값2]] 형식으로 키와 값을 리스트로 만들고 이 리스트를 다시 리스트 안에 넣어서 키-값 쌍을 나열해줍니다(튜플도 같은 형식)."
      ],
      "metadata": {
        "id": "5VtWrCh3_7vP"
      }
    },
    {
      "cell_type": "code",
      "source": [
        "y.update([[2,'TWO'],[4, 'FOUR'],[6,'SIX']])\n",
        "y"
      ],
      "metadata": {
        "colab": {
          "base_uri": "https://localhost:8080/"
        },
        "id": "4B_jwylq8JcX",
        "outputId": "0da7c115-90f4-40af-9cab-f1e7b28f6d33"
      },
      "execution_count": 19,
      "outputs": [
        {
          "output_type": "execute_result",
          "data": {
            "text/plain": [
              "{1: 'ONE', 2: 'TWO', 3: 'THREE', 4: 'FOUR', 6: 'SIX'}"
            ]
          },
          "metadata": {},
          "execution_count": 19
        }
      ]
    },
    {
      "cell_type": "markdown",
      "source": [
        "### 딕셔너리에서 키-값 쌍 삭제하기"
      ],
      "metadata": {
        "id": "rjg_vRhrAAhe"
      }
    },
    {
      "cell_type": "markdown",
      "source": [
        "pop(키)는 딕셔너리에서 특정 키-값 쌍을 삭제한 뒤 삭제한 값을 반환합니다."
      ],
      "metadata": {
        "id": "uIYzUtc4AFYe"
      }
    },
    {
      "cell_type": "code",
      "source": [
        "x =  {\n",
        "    'a' : 10, 'b' : 20, 'c' : 30, 'd' : 40\n",
        "}"
      ],
      "metadata": {
        "id": "bbbUv2ON9Zej"
      },
      "execution_count": 25,
      "outputs": []
    },
    {
      "cell_type": "code",
      "source": [
        "x =  {\n",
        "    'a' : 10, 'b' : 20, 'c' : 30, 'd' : 40\n",
        "}\n",
        "\n",
        "print(x)\n",
        "# x.pop()     # 딕셔너리에선 순서가 없다. index있는 순서가 있는 건 리스트이다.\n",
        "x.pop()     # 그래서 pop을 사용하기 위해서는 특정 key를 지정해주어야 한다. 리스트에서 index지정해서 pop하는 것 처럼."
      ],
      "metadata": {
        "colab": {
          "base_uri": "https://localhost:8080/",
          "height": 227
        },
        "id": "QkGVNWTi_-XC",
        "outputId": "7787482d-9d43-49be-fde7-841c6477cbf8"
      },
      "execution_count": 21,
      "outputs": [
        {
          "output_type": "stream",
          "name": "stdout",
          "text": [
            "{'a': 10, 'b': 20, 'c': 30, 'd': 40}\n"
          ]
        },
        {
          "output_type": "error",
          "ename": "TypeError",
          "evalue": "ignored",
          "traceback": [
            "\u001b[0;31m---------------------------------------------------------------------------\u001b[0m",
            "\u001b[0;31mTypeError\u001b[0m                                 Traceback (most recent call last)",
            "\u001b[0;32m<ipython-input-21-a6b686cb42c0>\u001b[0m in \u001b[0;36m<module>\u001b[0;34m\u001b[0m\n\u001b[1;32m      5\u001b[0m \u001b[0mprint\u001b[0m\u001b[0;34m(\u001b[0m\u001b[0mx\u001b[0m\u001b[0;34m)\u001b[0m\u001b[0;34m\u001b[0m\u001b[0;34m\u001b[0m\u001b[0m\n\u001b[1;32m      6\u001b[0m \u001b[0;31m# x.pop()     # 딕셔너리에선 순서가 없다. index있는 순서가 있는 건 리스트이다.\u001b[0m\u001b[0;34m\u001b[0m\u001b[0;34m\u001b[0m\u001b[0;34m\u001b[0m\u001b[0m\n\u001b[0;32m----> 7\u001b[0;31m \u001b[0mx\u001b[0m\u001b[0;34m.\u001b[0m\u001b[0mpop\u001b[0m\u001b[0;34m(\u001b[0m\u001b[0;34m)\u001b[0m     \u001b[0;31m# 그래서 pop을 사용하기 위해서는 특정 key를 지정해주어야 한다. 리스트에서 index지정해서 pop하는 것 처럼.\u001b[0m\u001b[0;34m\u001b[0m\u001b[0;34m\u001b[0m\u001b[0m\n\u001b[0m",
            "\u001b[0;31mTypeError\u001b[0m: pop expected at least 1 argument, got 0"
          ]
        }
      ]
    },
    {
      "cell_type": "code",
      "source": [
        "print(x.pop('a'))\n",
        "x"
      ],
      "metadata": {
        "colab": {
          "base_uri": "https://localhost:8080/"
        },
        "id": "zUCUuPxM9PQo",
        "outputId": "1cbdef57-a1d3-4970-a70c-de41bcca8743"
      },
      "execution_count": 26,
      "outputs": [
        {
          "output_type": "stream",
          "name": "stdout",
          "text": [
            "10\n"
          ]
        },
        {
          "output_type": "execute_result",
          "data": {
            "text/plain": [
              "{'b': 20, 'c': 30, 'd': 40}"
            ]
          },
          "metadata": {},
          "execution_count": 26
        }
      ]
    },
    {
      "cell_type": "markdown",
      "source": [
        "pop(키, 기본값)처럼 기본값을 지정하면 딕셔너리에 키가 있을 때는 해당 키-값 쌍을 삭제한 뒤 삭제한 값을 반환하지만 키가 없을 때는 기본값만 반환합니다."
      ],
      "metadata": {
        "id": "48JxDyUXALn0"
      }
    },
    {
      "cell_type": "code",
      "source": [
        "print(x.pop('e',0))\n",
        "x"
      ],
      "metadata": {
        "colab": {
          "base_uri": "https://localhost:8080/"
        },
        "id": "xrzBGD1_9eJ2",
        "outputId": "de3f48f6-2d3d-4d02-ec6a-3ffd9d2bf7be"
      },
      "execution_count": 27,
      "outputs": [
        {
          "output_type": "stream",
          "name": "stdout",
          "text": [
            "0\n"
          ]
        },
        {
          "output_type": "execute_result",
          "data": {
            "text/plain": [
              "{'b': 20, 'c': 30, 'd': 40}"
            ]
          },
          "metadata": {},
          "execution_count": 27
        }
      ]
    },
    {
      "cell_type": "markdown",
      "source": [
        "pop 대신 del로 특정 키-값 쌍을 삭제할 수도 있습니다. 이때는 [ ]에 키를 지정하여 del을 사용합니다."
      ],
      "metadata": {
        "id": "Bcv9hNp2Eg6t"
      }
    },
    {
      "cell_type": "code",
      "source": [
        "del x['b']\n",
        "x"
      ],
      "metadata": {
        "colab": {
          "base_uri": "https://localhost:8080/"
        },
        "id": "tMJq_WL2ANZj",
        "outputId": "68be9416-f7fe-4dd4-ace6-add0bcba195f"
      },
      "execution_count": 28,
      "outputs": [
        {
          "output_type": "execute_result",
          "data": {
            "text/plain": [
              "{'c': 30, 'd': 40}"
            ]
          },
          "metadata": {},
          "execution_count": 28
        }
      ]
    },
    {
      "cell_type": "markdown",
      "source": [
        "### 딕셔너리의 모든 키-값 쌍을 삭제하기"
      ],
      "metadata": {
        "id": "bCqy8pb3Epoh"
      }
    },
    {
      "cell_type": "code",
      "source": [
        "# clear()는 딕셔너리의 모든 키-값 쌍을 삭제합니다.\n",
        "print(x)\n",
        "x.clear()\n",
        "print(x)"
      ],
      "metadata": {
        "colab": {
          "base_uri": "https://localhost:8080/"
        },
        "id": "K2g0_umAEkxU",
        "outputId": "c85cf995-0a4d-412f-c7d4-faca80796af5"
      },
      "execution_count": 29,
      "outputs": [
        {
          "output_type": "stream",
          "name": "stdout",
          "text": [
            "{'c': 30, 'd': 40}\n",
            "{}\n"
          ]
        }
      ]
    },
    {
      "cell_type": "markdown",
      "source": [
        "### 딕셔너리에서 키의 값을 가져오기"
      ],
      "metadata": {
        "id": "KBpOPiqOEt2L"
      }
    },
    {
      "cell_type": "code",
      "source": [
        "x =  {\n",
        "    'a' : 10, 'b' : 20, 'c' : 30, 'd' : 40\n",
        "}"
      ],
      "metadata": {
        "id": "m8TuSact9xgF"
      },
      "execution_count": 30,
      "outputs": []
    },
    {
      "cell_type": "code",
      "source": [
        "# get(키)는 딕셔너리에서 특정 키의 값을 가져옵니다.\n",
        "x.get('a')\n",
        "x"
      ],
      "metadata": {
        "colab": {
          "base_uri": "https://localhost:8080/"
        },
        "id": "VuYhWgB3EsJD",
        "outputId": "6063b09a-f6a4-40ef-832f-9aeafab3ed84"
      },
      "execution_count": 34,
      "outputs": [
        {
          "output_type": "execute_result",
          "data": {
            "text/plain": [
              "{'a': 10, 'b': 20, 'c': 30, 'd': 40}"
            ]
          },
          "metadata": {},
          "execution_count": 34
        }
      ]
    },
    {
      "cell_type": "markdown",
      "source": [
        "get(키, 기본값)처럼 기본값을 지정하면 딕셔너리에 키가 있을 때는 해당 키의 값을 반환하지만 키가 없을 때는 기본값을 반환합니다."
      ],
      "metadata": {
        "id": "eLNx2cw3E3od"
      }
    },
    {
      "cell_type": "code",
      "source": [
        "print(x.get('e'))     # 값이 없다는 None 값이 나온다\n",
        "print(x.get('e',0))   # get(키, 기본값) -> 없으면 None 값, 있으면 기본값"
      ],
      "metadata": {
        "colab": {
          "base_uri": "https://localhost:8080/"
        },
        "id": "w3K8xktbE1SW",
        "outputId": "8763b0fb-0636-4dc6-e574-f362c0079df5"
      },
      "execution_count": 37,
      "outputs": [
        {
          "output_type": "stream",
          "name": "stdout",
          "text": [
            "None\n",
            "0\n"
          ]
        }
      ]
    },
    {
      "cell_type": "markdown",
      "source": [
        "### 딕셔너리에서 키-값 쌍을 모두 가져오기"
      ],
      "metadata": {
        "id": "5fw2zFKAE686"
      }
    },
    {
      "cell_type": "markdown",
      "source": [
        "딕셔너리는 키와 값을 가져오는 다양한 메서드를 제공합니다.\n",
        "\n",
        "* items: 키-값 쌍을 모두 가져옴\n",
        "* keys: 키를 모두 가져옴\n",
        "* values: 값을 모두 가져옴"
      ],
      "metadata": {
        "id": "tQ-QAdDOE9Qk"
      }
    },
    {
      "cell_type": "code",
      "source": [
        "# items()는 딕셔너리의 키-값 쌍을 모두 가져옵니다.\n",
        "print(x)\n",
        "x.items()"
      ],
      "metadata": {
        "colab": {
          "base_uri": "https://localhost:8080/"
        },
        "id": "QN-GyGFgE5LN",
        "outputId": "0df24481-b390-4be2-b3eb-cb121c4d9571"
      },
      "execution_count": 38,
      "outputs": [
        {
          "output_type": "stream",
          "name": "stdout",
          "text": [
            "{'a': 10, 'b': 20, 'c': 30, 'd': 40}\n"
          ]
        },
        {
          "output_type": "execute_result",
          "data": {
            "text/plain": [
              "dict_items([('a', 10), ('b', 20), ('c', 30), ('d', 40)])"
            ]
          },
          "metadata": {},
          "execution_count": 38
        }
      ]
    },
    {
      "cell_type": "code",
      "source": [
        "for i in x.items():\n",
        "  print(i)"
      ],
      "metadata": {
        "colab": {
          "base_uri": "https://localhost:8080/"
        },
        "id": "1N8cw1T9_EXt",
        "outputId": "4bc51bea-2789-4e48-f131-174d4cec3c2a"
      },
      "execution_count": 39,
      "outputs": [
        {
          "output_type": "stream",
          "name": "stdout",
          "text": [
            "('a', 10)\n",
            "('b', 20)\n",
            "('c', 30)\n",
            "('d', 40)\n"
          ]
        }
      ]
    },
    {
      "cell_type": "code",
      "source": [
        "for k, v in x.items():\n",
        "  print(k)\n",
        "  print(v)"
      ],
      "metadata": {
        "colab": {
          "base_uri": "https://localhost:8080/"
        },
        "id": "Tcskh0HN_Jmv",
        "outputId": "ac000bbb-1489-4f14-b151-cbc72dd5f315"
      },
      "execution_count": 40,
      "outputs": [
        {
          "output_type": "stream",
          "name": "stdout",
          "text": [
            "a\n",
            "10\n",
            "b\n",
            "20\n",
            "c\n",
            "30\n",
            "d\n",
            "40\n"
          ]
        }
      ]
    },
    {
      "cell_type": "code",
      "source": [
        "# keys()는 키를 모두 가져옵니다.\n",
        "x.keys()"
      ],
      "metadata": {
        "colab": {
          "base_uri": "https://localhost:8080/"
        },
        "id": "z5Cn2RDuFCel",
        "outputId": "cd777f3c-5105-450e-ad5a-414ba215932b"
      },
      "execution_count": 45,
      "outputs": [
        {
          "output_type": "execute_result",
          "data": {
            "text/plain": [
              "dict_keys(['a', 'b', 'c', 'd'])"
            ]
          },
          "metadata": {},
          "execution_count": 45
        }
      ]
    },
    {
      "cell_type": "code",
      "source": [
        "for k in x.keys():\n",
        "  print(k)"
      ],
      "metadata": {
        "colab": {
          "base_uri": "https://localhost:8080/"
        },
        "id": "RmX_Ek51_eaC",
        "outputId": "f79ecb21-dc96-4497-a43d-7f1732781a58"
      },
      "execution_count": 44,
      "outputs": [
        {
          "output_type": "stream",
          "name": "stdout",
          "text": [
            "a\n",
            "b\n",
            "c\n",
            "d\n"
          ]
        }
      ]
    },
    {
      "cell_type": "code",
      "source": [
        "# values()는 값을 모두 가져옵니다.\n",
        "x.values()"
      ],
      "metadata": {
        "colab": {
          "base_uri": "https://localhost:8080/"
        },
        "id": "i935UdgcFGaR",
        "outputId": "0a0b582d-a8c4-4a62-96d6-75de5d79c6d1"
      },
      "execution_count": 42,
      "outputs": [
        {
          "output_type": "execute_result",
          "data": {
            "text/plain": [
              "dict_values([10, 20, 30, 40])"
            ]
          },
          "metadata": {},
          "execution_count": 42
        }
      ]
    },
    {
      "cell_type": "code",
      "source": [
        "for v in x.values():\n",
        "  print(v)"
      ],
      "metadata": {
        "colab": {
          "base_uri": "https://localhost:8080/"
        },
        "id": "3WeByDpW_ZmZ",
        "outputId": "5c0a4ccc-fd61-4b8b-e8d9-7e43807cd295"
      },
      "execution_count": 43,
      "outputs": [
        {
          "output_type": "stream",
          "name": "stdout",
          "text": [
            "10\n",
            "20\n",
            "30\n",
            "40\n"
          ]
        }
      ]
    },
    {
      "cell_type": "markdown",
      "source": [
        "## 반복문으로 딕셔너리의 키-값 쌍을 모두 출력하기"
      ],
      "metadata": {
        "id": "V5v9lyEoFNZE"
      }
    },
    {
      "cell_type": "code",
      "source": [],
      "metadata": {
        "colab": {
          "base_uri": "https://localhost:8080/"
        },
        "id": "VU36vMVBFKMh",
        "outputId": "1038432a-ac95-46d8-b5d7-d28c443447fd"
      },
      "execution_count": null,
      "outputs": [
        {
          "output_type": "stream",
          "name": "stdout",
          "text": [
            "a b c d "
          ]
        }
      ]
    },
    {
      "cell_type": "markdown",
      "source": [
        "for i in x:처럼 for 반복문에 딕셔너리를 지정한 뒤에 print로 변수 i를 출력해보면 값은 출력되지 않고 키만 출력됩니다. 그럼 키와 값을 모두 출력하려면 어떻게 해야 할까요?\n",
        "\n",
        "이때는 for in 뒤에 딕셔너리를 지정하고 items를 사용해야 합니다.\n",
        "\n",
        "```\n",
        "for 키, 값 in 딕셔너리.items():\n",
        "     반복할 코드\n",
        "```"
      ],
      "metadata": {
        "id": "RfLcd88MFYr6"
      }
    },
    {
      "cell_type": "code",
      "source": [],
      "metadata": {
        "colab": {
          "base_uri": "https://localhost:8080/"
        },
        "id": "TWsTCUr0FWTZ",
        "outputId": "ab85c929-526a-457b-cd48-5b49ea80f169"
      },
      "execution_count": null,
      "outputs": [
        {
          "output_type": "stream",
          "name": "stdout",
          "text": [
            "a 10\n",
            "b 20\n",
            "c 30\n",
            "d 40\n"
          ]
        }
      ]
    },
    {
      "cell_type": "markdown",
      "source": [
        "`for key, value in x.items():`는 딕셔너리 x에서 키-값 쌍을 꺼내서 키는 key에 값은 value에 저장하고, 꺼낼 때마다 코드를 반복합니다. 따라서 print로 key와 value를 출력하면 키-값 쌍을 모두 출력할 수 있습니다."
      ],
      "metadata": {
        "id": "n__sxlkrFglx"
      }
    },
    {
      "cell_type": "markdown",
      "source": [
        "### 딕셔너리의 키만 출력하기"
      ],
      "metadata": {
        "id": "ErHv6usqFluk"
      }
    },
    {
      "cell_type": "code",
      "source": [],
      "metadata": {
        "colab": {
          "base_uri": "https://localhost:8080/"
        },
        "id": "FXG5YkAaFduL",
        "outputId": "41278ed4-8958-4779-c89d-1bf12d380a90"
      },
      "execution_count": null,
      "outputs": [
        {
          "output_type": "stream",
          "name": "stdout",
          "text": [
            "a b c d "
          ]
        }
      ]
    },
    {
      "cell_type": "code",
      "source": [],
      "metadata": {
        "colab": {
          "base_uri": "https://localhost:8080/"
        },
        "id": "veekIedSFusf",
        "outputId": "18f6586a-8edc-447a-fe0a-064fad7fc425"
      },
      "execution_count": null,
      "outputs": [
        {
          "output_type": "stream",
          "name": "stdout",
          "text": [
            "a b c d "
          ]
        }
      ]
    },
    {
      "cell_type": "markdown",
      "source": [
        "### 딕셔너리의 값만 출력하기"
      ],
      "metadata": {
        "id": "QXxnJW6TFzj0"
      }
    },
    {
      "cell_type": "code",
      "source": [],
      "metadata": {
        "colab": {
          "base_uri": "https://localhost:8080/"
        },
        "id": "a0byY123FwdO",
        "outputId": "16effa87-1d83-4da2-f115-213886c1d8ae"
      },
      "execution_count": null,
      "outputs": [
        {
          "output_type": "stream",
          "name": "stdout",
          "text": [
            "10 20 30 40 "
          ]
        }
      ]
    },
    {
      "cell_type": "markdown",
      "source": [
        "## 딕셔너리 안에서 딕셔너리 사용하기"
      ],
      "metadata": {
        "id": "SQWf1aONIu34"
      }
    },
    {
      "cell_type": "markdown",
      "source": [
        "딕셔너리는 값 부분에 다시 딕셔너리가 계속 들어갈 수 있습니다.\n",
        "\n",
        "* `딕셔너리 = {키1: {키A: 값A}, 키2: {키B: 값B}}`"
      ],
      "metadata": {
        "id": "2A5RdBk3IxQl"
      }
    },
    {
      "cell_type": "code",
      "source": [
        "a = {\n",
        "    \"삼성전자\" : {\n",
        "        \"대주주\" : \"이재용\",\n",
        "        \"순위\" : 1,\n",
        "        \"취급품목\" : {\n",
        "            \"갤럭시\" : 10000,\n",
        "            \"냉장고\" : 20000\n",
        "        }\n",
        "    },\n",
        "     \"송송전자\" : {\n",
        "         \"대주주\" : \"김송송\",\n",
        "         \"순위\" : 100,\n",
        "         \"취급품목\" : {\n",
        "             \"손목시계\" : 10\n",
        "         }\n",
        "    }\n",
        "}\n",
        "a"
      ],
      "metadata": {
        "colab": {
          "base_uri": "https://localhost:8080/"
        },
        "id": "KqG8iE5GF3LU",
        "outputId": "dbf2e8cf-5d3c-4ae0-fd25-63550589f91c"
      },
      "execution_count": 52,
      "outputs": [
        {
          "output_type": "execute_result",
          "data": {
            "text/plain": [
              "{'삼성전자': {'대주주': '이재용', '순위': 1, '취급품목': {'갤럭시': 10000, '냉장고': 20000}},\n",
              " '송송전자': {'대주주': '김송송', '순위': 100, '취급품목': {'손목시계': 10}}}"
            ]
          },
          "metadata": {},
          "execution_count": 52
        }
      ]
    },
    {
      "cell_type": "markdown",
      "source": [
        "중첩 딕셔너리는 계층형 데이터를 저장할 때 유용합니다.\n",
        "\n",
        "딕셔너리 안에 들어있는 딕셔너리에 접근하려면 딕셔너리 뒤에 대괄호([   ])를 단계만큼 붙이고 키를 지정해주면 됩니다.\n",
        "\n",
        "* `딕셔너리[키][키]`\n",
        "* `딕셔너리[키][키] = 값`"
      ],
      "metadata": {
        "id": "YdxNleWUI7ET"
      }
    },
    {
      "cell_type": "code",
      "source": [
        "a['삼성전자']['대주주']"
      ],
      "metadata": {
        "colab": {
          "base_uri": "https://localhost:8080/",
          "height": 35
        },
        "id": "4rANekvkAgrI",
        "outputId": "0dea49be-4238-4215-b95a-bd08d0e48004"
      },
      "execution_count": 53,
      "outputs": [
        {
          "output_type": "execute_result",
          "data": {
            "text/plain": [
              "'이재용'"
            ],
            "application/vnd.google.colaboratory.intrinsic+json": {
              "type": "string"
            }
          },
          "metadata": {},
          "execution_count": 53
        }
      ]
    },
    {
      "cell_type": "code",
      "source": [
        "a['삼성전자']['취급품목']['갤럭시']"
      ],
      "metadata": {
        "colab": {
          "base_uri": "https://localhost:8080/"
        },
        "id": "aRVdYm6kAnfE",
        "outputId": "fcb4bca5-558e-4f7e-eb4c-6421cdffc41a"
      },
      "execution_count": 54,
      "outputs": [
        {
          "output_type": "execute_result",
          "data": {
            "text/plain": [
              "10000"
            ]
          },
          "metadata": {},
          "execution_count": 54
        }
      ]
    },
    {
      "cell_type": "markdown",
      "source": [
        "### 딕셔너리의 할당과 복사"
      ],
      "metadata": {
        "id": "iksFBJfoAtkd"
      }
    },
    {
      "cell_type": "code",
      "source": [
        "a = list(range(10))\n",
        "a"
      ],
      "metadata": {
        "colab": {
          "base_uri": "https://localhost:8080/"
        },
        "id": "BIX0mh2zAwNf",
        "outputId": "79e9d6c4-0d38-481a-818f-673266ea922b"
      },
      "execution_count": 56,
      "outputs": [
        {
          "output_type": "execute_result",
          "data": {
            "text/plain": [
              "[0, 1, 2, 3, 4, 5, 6, 7, 8, 9]"
            ]
          },
          "metadata": {},
          "execution_count": 56
        }
      ]
    },
    {
      "cell_type": "code",
      "source": [
        "b = a\n",
        "b.append('a')"
      ],
      "metadata": {
        "id": "BPSw35QHAz0T"
      },
      "execution_count": 58,
      "outputs": []
    },
    {
      "cell_type": "code",
      "source": [
        "a"
      ],
      "metadata": {
        "colab": {
          "base_uri": "https://localhost:8080/"
        },
        "id": "H_ksGHnEA3On",
        "outputId": "9cea219b-ec8a-4f80-8a28-65ed42b0aa0f"
      },
      "execution_count": 60,
      "outputs": [
        {
          "output_type": "execute_result",
          "data": {
            "text/plain": [
              "[0, 1, 2, 3, 4, 5, 6, 7, 8, 9, 'a', 'a']"
            ]
          },
          "metadata": {},
          "execution_count": 60
        }
      ]
    },
    {
      "cell_type": "code",
      "source": [
        "b = a.copy()\n",
        "b.append('b')\n",
        "a, b"
      ],
      "metadata": {
        "colab": {
          "base_uri": "https://localhost:8080/"
        },
        "id": "OvXlnC0AA4xY",
        "outputId": "116d4110-360c-4ad7-875e-cc506cdd8bca"
      },
      "execution_count": 61,
      "outputs": [
        {
          "output_type": "execute_result",
          "data": {
            "text/plain": [
              "([0, 1, 2, 3, 4, 5, 6, 7, 8, 9, 'a', 'a'],\n",
              " [0, 1, 2, 3, 4, 5, 6, 7, 8, 9, 'a', 'a', 'b'])"
            ]
          },
          "metadata": {},
          "execution_count": 61
        }
      ]
    },
    {
      "cell_type": "code",
      "source": [
        "c = {'a' : 1, 'b' : 2, 'c' : { 'd' : 3 }}\n",
        "c"
      ],
      "metadata": {
        "colab": {
          "base_uri": "https://localhost:8080/"
        },
        "id": "JngBIiBUA8gj",
        "outputId": "9586f7c0-edb1-4738-b83f-19df8a8e0a1c"
      },
      "execution_count": 63,
      "outputs": [
        {
          "output_type": "execute_result",
          "data": {
            "text/plain": [
              "{'a': 1, 'b': 2, 'c': {'d': 3}}"
            ]
          },
          "metadata": {},
          "execution_count": 63
        }
      ]
    },
    {
      "cell_type": "code",
      "source": [
        "d = c\n",
        "d['e'] = 99\n",
        "c"
      ],
      "metadata": {
        "colab": {
          "base_uri": "https://localhost:8080/"
        },
        "id": "ma-GgHvwBH7H",
        "outputId": "627bb89d-f484-452b-f376-0eaf8a8fc144"
      },
      "execution_count": 64,
      "outputs": [
        {
          "output_type": "execute_result",
          "data": {
            "text/plain": [
              "{'a': 1, 'b': 2, 'c': {'d': 3}, 'e': 99}"
            ]
          },
          "metadata": {},
          "execution_count": 64
        }
      ]
    },
    {
      "cell_type": "code",
      "source": [
        "d = c.copy()\n",
        "d['f'] = 1000\n",
        "c, d"
      ],
      "metadata": {
        "colab": {
          "base_uri": "https://localhost:8080/"
        },
        "id": "OeVhFplMBK-A",
        "outputId": "43e0c259-18d4-46e3-a148-17f647d14907"
      },
      "execution_count": 65,
      "outputs": [
        {
          "output_type": "execute_result",
          "data": {
            "text/plain": [
              "({'a': 1, 'b': 2, 'c': {'d': 3}, 'e': 99},\n",
              " {'a': 1, 'b': 2, 'c': {'d': 3}, 'e': 99, 'f': 1000})"
            ]
          },
          "metadata": {},
          "execution_count": 65
        }
      ]
    },
    {
      "cell_type": "code",
      "source": [
        "d['c']['d'] = 999\n",
        "c"
      ],
      "metadata": {
        "colab": {
          "base_uri": "https://localhost:8080/"
        },
        "id": "ks68DOyJBPVD",
        "outputId": "be28cea5-2fac-4f0b-af82-db5dfe3d1ecc"
      },
      "execution_count": 67,
      "outputs": [
        {
          "output_type": "execute_result",
          "data": {
            "text/plain": [
              "{'a': 1, 'b': 2, 'c': {'d': 999}, 'e': 99}"
            ]
          },
          "metadata": {},
          "execution_count": 67
        }
      ]
    },
    {
      "cell_type": "code",
      "source": [
        "import copy\n",
        "\n",
        "e = copy.deepcopy(c)\n",
        "e"
      ],
      "metadata": {
        "colab": {
          "base_uri": "https://localhost:8080/"
        },
        "id": "aO1bqgNxBkfo",
        "outputId": "90052c79-3085-43d0-e57f-904fe4a23de9"
      },
      "execution_count": 68,
      "outputs": [
        {
          "output_type": "execute_result",
          "data": {
            "text/plain": [
              "{'a': 1, 'b': 2, 'c': {'d': 999}, 'e': 99}"
            ]
          },
          "metadata": {},
          "execution_count": 68
        }
      ]
    },
    {
      "cell_type": "code",
      "source": [
        "e['c']['d'] = 5\n",
        "c, e"
      ],
      "metadata": {
        "colab": {
          "base_uri": "https://localhost:8080/"
        },
        "id": "t5BnwOFTBpQp",
        "outputId": "5999391d-dd68-48e9-a9b8-a9fea40a32dc"
      },
      "execution_count": 69,
      "outputs": [
        {
          "output_type": "execute_result",
          "data": {
            "text/plain": [
              "({'a': 1, 'b': 2, 'c': {'d': 999}, 'e': 99},\n",
              " {'a': 1, 'b': 2, 'c': {'d': 5}, 'e': 99})"
            ]
          },
          "metadata": {},
          "execution_count": 69
        }
      ]
    },
    {
      "cell_type": "code",
      "source": [
        "c['c']['d'] = False\n",
        "c, d, e"
      ],
      "metadata": {
        "colab": {
          "base_uri": "https://localhost:8080/"
        },
        "id": "WGqVPeg5BwAn",
        "outputId": "8b2301ce-05a3-48ec-cf47-a1a7acbdf343"
      },
      "execution_count": 70,
      "outputs": [
        {
          "output_type": "execute_result",
          "data": {
            "text/plain": [
              "({'a': 1, 'b': 2, 'c': {'d': False}, 'e': 99},\n",
              " {'a': 1, 'b': 2, 'c': {'d': False}, 'e': 99, 'f': 1000},\n",
              " {'a': 1, 'b': 2, 'c': {'d': 5}, 'e': 99})"
            ]
          },
          "metadata": {},
          "execution_count": 70
        }
      ]
    }
  ]
}