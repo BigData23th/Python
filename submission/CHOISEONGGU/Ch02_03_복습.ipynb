{
  "nbformat": 4,
  "nbformat_minor": 0,
  "metadata": {
    "colab": {
      "provenance": [],
      "authorship_tag": "ABX9TyO/GMKhjWIr8AkqxfF1J2W5",
      "include_colab_link": true
    },
    "kernelspec": {
      "name": "python3",
      "display_name": "Python 3"
    },
    "language_info": {
      "name": "python"
    }
  },
  "cells": [
    {
      "cell_type": "markdown",
      "metadata": {
        "id": "view-in-github",
        "colab_type": "text"
      },
      "source": [
        "<a href=\"https://colab.research.google.com/github/CHOISEONGGU/Python_SG/blob/main/submission/CHOISEONGGU/Ch02_03_%EB%B3%B5%EC%8A%B5.ipynb\" target=\"_parent\"><img src=\"https://colab.research.google.com/assets/colab-badge.svg\" alt=\"Open In Colab\"/></a>"
      ]
    },
    {
      "cell_type": "markdown",
      "source": [
        "# 리스트 응용\n",
        "\n"
      ],
      "metadata": {
        "id": "w2VO2esaSpa4"
      }
    },
    {
      "cell_type": "code",
      "execution_count": 1,
      "metadata": {
        "id": "LXHvASIvQYKJ"
      },
      "outputs": [],
      "source": [
        "country = []   # 빈 리스트"
      ]
    },
    {
      "cell_type": "code",
      "source": [
        "country.append('대한민국')\n",
        "country"
      ],
      "metadata": {
        "colab": {
          "base_uri": "https://localhost:8080/"
        },
        "id": "I5cigkKSTTJ2",
        "outputId": "ef300d0c-98fe-4306-9c95-01ba8f899602"
      },
      "execution_count": 2,
      "outputs": [
        {
          "output_type": "execute_result",
          "data": {
            "text/plain": [
              "['대한민국']"
            ]
          },
          "metadata": {},
          "execution_count": 2
        }
      ]
    },
    {
      "cell_type": "code",
      "source": [
        "country2 = [\"중국\"]"
      ],
      "metadata": {
        "id": "GIT8kL5DTgLG"
      },
      "execution_count": 4,
      "outputs": []
    },
    {
      "cell_type": "code",
      "source": [
        "country + country2, country"
      ],
      "metadata": {
        "colab": {
          "base_uri": "https://localhost:8080/"
        },
        "id": "pGKEfRGPTkbC",
        "outputId": "695e00ad-c628-4779-9243-733a3acc0336"
      },
      "execution_count": 5,
      "outputs": [
        {
          "output_type": "execute_result",
          "data": {
            "text/plain": [
              "(['대한민국', '중국'], ['대한민국'])"
            ]
          },
          "metadata": {},
          "execution_count": 5
        }
      ]
    },
    {
      "cell_type": "code",
      "source": [
        "country += country2\n",
        "country"
      ],
      "metadata": {
        "colab": {
          "base_uri": "https://localhost:8080/"
        },
        "id": "ZiHkZmj_TxWJ",
        "outputId": "c227b6e9-1d85-43fb-ee8b-7d6d4f77c86a"
      },
      "execution_count": 6,
      "outputs": [
        {
          "output_type": "execute_result",
          "data": {
            "text/plain": [
              "['대한민국', '중국']"
            ]
          },
          "metadata": {},
          "execution_count": 6
        }
      ]
    },
    {
      "cell_type": "code",
      "source": [
        "country3 = [\"일본\"]\n",
        "country3"
      ],
      "metadata": {
        "colab": {
          "base_uri": "https://localhost:8080/"
        },
        "id": "K4Wu-WfbT1St",
        "outputId": "b116bddf-cb2d-4bcf-9be2-4ce97d34fe21"
      },
      "execution_count": 7,
      "outputs": [
        {
          "output_type": "execute_result",
          "data": {
            "text/plain": [
              "['일본']"
            ]
          },
          "metadata": {},
          "execution_count": 7
        }
      ]
    },
    {
      "cell_type": "code",
      "source": [
        "country.extend(country3)\n",
        "country"
      ],
      "metadata": {
        "colab": {
          "base_uri": "https://localhost:8080/"
        },
        "id": "Re9TrUr2T6QS",
        "outputId": "97543e59-7781-4898-8c0e-23df8acdc293"
      },
      "execution_count": 8,
      "outputs": [
        {
          "output_type": "execute_result",
          "data": {
            "text/plain": [
              "['대한민국', '중국', '일본']"
            ]
          },
          "metadata": {},
          "execution_count": 8
        }
      ]
    },
    {
      "cell_type": "code",
      "source": [
        "country4 = [\"프랑스\", \"영국\", \"독일\"]"
      ],
      "metadata": {
        "id": "Z1T2uhH7UAFs"
      },
      "execution_count": 10,
      "outputs": []
    },
    {
      "cell_type": "code",
      "source": [
        "country.extend(country4)\n",
        "country"
      ],
      "metadata": {
        "colab": {
          "base_uri": "https://localhost:8080/"
        },
        "id": "x9EPWSQhUDsC",
        "outputId": "1b8020de-4f93-4bf1-8eb5-fbbf6b9c04e1"
      },
      "execution_count": 11,
      "outputs": [
        {
          "output_type": "execute_result",
          "data": {
            "text/plain": [
              "['대한민국', '중국', '일본', '프랑스', '영국', '독일']"
            ]
          },
          "metadata": {},
          "execution_count": 11
        }
      ]
    },
    {
      "cell_type": "code",
      "source": [
        "country.append('케냐')\n",
        "country"
      ],
      "metadata": {
        "colab": {
          "base_uri": "https://localhost:8080/"
        },
        "id": "25j1R1yWULy_",
        "outputId": "67a6ca6e-f998-4d3a-d4b8-d0031752a7a6"
      },
      "execution_count": 12,
      "outputs": [
        {
          "output_type": "execute_result",
          "data": {
            "text/plain": [
              "['대한민국', '중국', '일본', '프랑스', '영국', '독일', '케냐']"
            ]
          },
          "metadata": {},
          "execution_count": 12
        }
      ]
    },
    {
      "cell_type": "code",
      "source": [
        "country.insert(0, \"브라질\")\n",
        "country"
      ],
      "metadata": {
        "colab": {
          "base_uri": "https://localhost:8080/"
        },
        "id": "NYlPfyjEUXPc",
        "outputId": "e25ba73e-5503-4ce3-8368-0d92538417f1"
      },
      "execution_count": 13,
      "outputs": [
        {
          "output_type": "execute_result",
          "data": {
            "text/plain": [
              "['브라질', '대한민국', '중국', '일본', '프랑스', '영국', '독일', '케냐']"
            ]
          },
          "metadata": {},
          "execution_count": 13
        }
      ]
    },
    {
      "cell_type": "code",
      "source": [
        "country.insert(3, \"아르헨티나\")\n",
        "country"
      ],
      "metadata": {
        "colab": {
          "base_uri": "https://localhost:8080/"
        },
        "id": "uXerHfKlUd5a",
        "outputId": "d8d8df54-f7e0-4612-8a7f-579d9a8a4bdd"
      },
      "execution_count": 14,
      "outputs": [
        {
          "output_type": "execute_result",
          "data": {
            "text/plain": [
              "['브라질', '대한민국', '중국', '아르헨티나', '일본', '프랑스', '영국', '독일', '케냐']"
            ]
          },
          "metadata": {},
          "execution_count": 14
        }
      ]
    },
    {
      "cell_type": "code",
      "source": [
        "country[4:4] = [\"미국\", \"캐나다\", \"멕시코\"]\n",
        "country"
      ],
      "metadata": {
        "colab": {
          "base_uri": "https://localhost:8080/"
        },
        "id": "iA5Rj6KPUkSM",
        "outputId": "6ad6d606-0826-49ad-b5c0-c8b6552cb198"
      },
      "execution_count": 15,
      "outputs": [
        {
          "output_type": "execute_result",
          "data": {
            "text/plain": [
              "['브라질',\n",
              " '대한민국',\n",
              " '중국',\n",
              " '아르헨티나',\n",
              " '미국',\n",
              " '캐나다',\n",
              " '멕시코',\n",
              " '일본',\n",
              " '프랑스',\n",
              " '영국',\n",
              " '독일',\n",
              " '케냐']"
            ]
          },
          "metadata": {},
          "execution_count": 15
        }
      ]
    },
    {
      "cell_type": "code",
      "source": [
        "country.pop()"
      ],
      "metadata": {
        "colab": {
          "base_uri": "https://localhost:8080/",
          "height": 35
        },
        "id": "ddXfROcdU6J9",
        "outputId": "ead30152-ef8d-4528-ec86-fd0192103cd5"
      },
      "execution_count": 16,
      "outputs": [
        {
          "output_type": "execute_result",
          "data": {
            "text/plain": [
              "'케냐'"
            ],
            "application/vnd.google.colaboratory.intrinsic+json": {
              "type": "string"
            }
          },
          "metadata": {},
          "execution_count": 16
        }
      ]
    },
    {
      "cell_type": "code",
      "source": [
        "print(country[-1])\n",
        "del country[-1]"
      ],
      "metadata": {
        "colab": {
          "base_uri": "https://localhost:8080/"
        },
        "id": "Mr5nmDirVsCF",
        "outputId": "72344cb4-be6a-433b-873b-f8a70c875ea1"
      },
      "execution_count": 17,
      "outputs": [
        {
          "output_type": "stream",
          "name": "stdout",
          "text": [
            "독일\n"
          ]
        }
      ]
    },
    {
      "cell_type": "code",
      "source": [
        "country   # \"최근 해외여행 발권 리스트\""
      ],
      "metadata": {
        "colab": {
          "base_uri": "https://localhost:8080/"
        },
        "id": "uneXBBqZV41R",
        "outputId": "a2c7f58a-792b-42b4-95dd-2a49a78182e4"
      },
      "execution_count": 18,
      "outputs": [
        {
          "output_type": "execute_result",
          "data": {
            "text/plain": [
              "['브라질', '대한민국', '중국', '아르헨티나', '미국', '캐나다', '멕시코', '일본', '프랑스', '영국']"
            ]
          },
          "metadata": {},
          "execution_count": 18
        }
      ]
    },
    {
      "cell_type": "code",
      "source": [
        "recent = country.pop()\n",
        "recent, country"
      ],
      "metadata": {
        "colab": {
          "base_uri": "https://localhost:8080/"
        },
        "id": "0PngR8wnWqrR",
        "outputId": "7dbf0bf8-5b52-444b-de20-89fee8266af8"
      },
      "execution_count": 19,
      "outputs": [
        {
          "output_type": "execute_result",
          "data": {
            "text/plain": [
              "('영국', ['브라질', '대한민국', '중국', '아르헨티나', '미국', '캐나다', '멕시코', '일본', '프랑스'])"
            ]
          },
          "metadata": {},
          "execution_count": 19
        }
      ]
    },
    {
      "cell_type": "code",
      "source": [
        "recent = country.pop(1)\n",
        "recent, country"
      ],
      "metadata": {
        "colab": {
          "base_uri": "https://localhost:8080/"
        },
        "id": "PmkoHrSMWxCe",
        "outputId": "359145e9-6d4d-4b7c-c102-c51e99e315ab"
      },
      "execution_count": 20,
      "outputs": [
        {
          "output_type": "execute_result",
          "data": {
            "text/plain": [
              "('대한민국', ['브라질', '중국', '아르헨티나', '미국', '캐나다', '멕시코', '일본', '프랑스'])"
            ]
          },
          "metadata": {},
          "execution_count": 20
        }
      ]
    },
    {
      "cell_type": "code",
      "source": [
        "country.remove(\"중국\")\n",
        "country"
      ],
      "metadata": {
        "colab": {
          "base_uri": "https://localhost:8080/"
        },
        "id": "etuO745eW_qx",
        "outputId": "60d56c3c-204d-448d-cfd6-06a98c8cea28"
      },
      "execution_count": 21,
      "outputs": [
        {
          "output_type": "execute_result",
          "data": {
            "text/plain": [
              "['브라질', '아르헨티나', '미국', '캐나다', '멕시코', '일본', '프랑스']"
            ]
          },
          "metadata": {},
          "execution_count": 21
        }
      ]
    },
    {
      "cell_type": "code",
      "source": [
        "country.remove('미국')\n",
        "country"
      ],
      "metadata": {
        "colab": {
          "base_uri": "https://localhost:8080/"
        },
        "id": "FmvJFyjFXQ6v",
        "outputId": "a076a6ba-2362-441e-982e-56e3e7a4e05e"
      },
      "execution_count": 22,
      "outputs": [
        {
          "output_type": "execute_result",
          "data": {
            "text/plain": [
              "['브라질', '아르헨티나', '캐나다', '멕시코', '일본', '프랑스']"
            ]
          },
          "metadata": {},
          "execution_count": 22
        }
      ]
    },
    {
      "cell_type": "code",
      "source": [
        "country.insert(2, '독일')\n",
        "country.append('독일')\n",
        "country"
      ],
      "metadata": {
        "colab": {
          "base_uri": "https://localhost:8080/"
        },
        "id": "DZYz1I2hXVyA",
        "outputId": "a4b4c396-a940-403c-f666-0726e5b75830"
      },
      "execution_count": 23,
      "outputs": [
        {
          "output_type": "execute_result",
          "data": {
            "text/plain": [
              "['브라질', '아르헨티나', '독일', '캐나다', '멕시코', '일본', '프랑스', '독일']"
            ]
          },
          "metadata": {},
          "execution_count": 23
        }
      ]
    },
    {
      "cell_type": "code",
      "source": [
        "country.remove('독일')\n",
        "country"
      ],
      "metadata": {
        "colab": {
          "base_uri": "https://localhost:8080/"
        },
        "id": "uQCXhy2VXyBq",
        "outputId": "45829a5a-4b97-4e4a-d176-45bd4d355960"
      },
      "execution_count": 25,
      "outputs": [
        {
          "output_type": "execute_result",
          "data": {
            "text/plain": [
              "['브라질', '아르헨티나', '캐나다', '멕시코', '일본', '프랑스']"
            ]
          },
          "metadata": {},
          "execution_count": 25
        }
      ]
    },
    {
      "cell_type": "code",
      "source": [
        "# 캐나다 앞에 누락된 손님이 존재한다. -> 미국\n",
        "# 캐나다의 인덱스를 알아서, 그 인덱스에 '미국'을 insert 시켜줘야함 [i:i]\n",
        "country.index('캐나다')"
      ],
      "metadata": {
        "colab": {
          "base_uri": "https://localhost:8080/"
        },
        "id": "ewBUilo1X1Ji",
        "outputId": "a7d093af-15f1-4c2c-ec42-45528acd2a4f"
      },
      "execution_count": 26,
      "outputs": [
        {
          "output_type": "execute_result",
          "data": {
            "text/plain": [
              "2"
            ]
          },
          "metadata": {},
          "execution_count": 26
        }
      ]
    },
    {
      "cell_type": "code",
      "source": [
        "country.insert(2, '미국')\n",
        "country"
      ],
      "metadata": {
        "colab": {
          "base_uri": "https://localhost:8080/"
        },
        "id": "hzcn6vOPYPzL",
        "outputId": "95960e6e-3b15-4040-f067-68f4aa1d2f5c"
      },
      "execution_count": 27,
      "outputs": [
        {
          "output_type": "execute_result",
          "data": {
            "text/plain": [
              "['브라질', '아르헨티나', '미국', '캐나다', '멕시코', '일본', '프랑스']"
            ]
          },
          "metadata": {},
          "execution_count": 27
        }
      ]
    },
    {
      "cell_type": "code",
      "source": [
        "country.extend(['몰디브'] * 10)\n",
        "country"
      ],
      "metadata": {
        "colab": {
          "base_uri": "https://localhost:8080/"
        },
        "id": "E0DKNw65YUXR",
        "outputId": "2bb2586f-f716-4238-9a6a-b2fa9c8d1b50"
      },
      "execution_count": 28,
      "outputs": [
        {
          "output_type": "execute_result",
          "data": {
            "text/plain": [
              "['브라질',\n",
              " '아르헨티나',\n",
              " '미국',\n",
              " '캐나다',\n",
              " '멕시코',\n",
              " '일본',\n",
              " '프랑스',\n",
              " '몰디브',\n",
              " '몰디브',\n",
              " '몰디브',\n",
              " '몰디브',\n",
              " '몰디브',\n",
              " '몰디브',\n",
              " '몰디브',\n",
              " '몰디브',\n",
              " '몰디브',\n",
              " '몰디브']"
            ]
          },
          "metadata": {},
          "execution_count": 28
        }
      ]
    },
    {
      "cell_type": "code",
      "source": [
        "import random\n",
        "random.randint(1, 20)"
      ],
      "metadata": {
        "colab": {
          "base_uri": "https://localhost:8080/"
        },
        "id": "yQ2Rq9MYYmdA",
        "outputId": "90706c0d-52b3-4aa3-f7cc-0b6459a1d710"
      },
      "execution_count": 29,
      "outputs": [
        {
          "output_type": "execute_result",
          "data": {
            "text/plain": [
              "10"
            ]
          },
          "metadata": {},
          "execution_count": 29
        }
      ]
    },
    {
      "cell_type": "code",
      "source": [
        "country.extend(['괌'] * random.randint(50, 200))\n",
        "country"
      ],
      "metadata": {
        "id": "FNUpQy7KYv7R"
      },
      "execution_count": null,
      "outputs": []
    },
    {
      "cell_type": "code",
      "source": [
        "country.count(\"괌\")"
      ],
      "metadata": {
        "colab": {
          "base_uri": "https://localhost:8080/"
        },
        "id": "eLxCbFT-Y6-9",
        "outputId": "ad9482f6-8e10-43cb-e151-88659abad86c"
      },
      "execution_count": 32,
      "outputs": [
        {
          "output_type": "execute_result",
          "data": {
            "text/plain": [
              "51"
            ]
          },
          "metadata": {},
          "execution_count": 32
        }
      ]
    },
    {
      "cell_type": "markdown",
      "source": [
        "## 뒤집기"
      ],
      "metadata": {
        "id": "hptLtcvLZEZ7"
      }
    },
    {
      "cell_type": "code",
      "source": [
        "country = country[:7]"
      ],
      "metadata": {
        "id": "m7CrQFNyZDPv"
      },
      "execution_count": 35,
      "outputs": []
    },
    {
      "cell_type": "code",
      "source": [
        "country"
      ],
      "metadata": {
        "colab": {
          "base_uri": "https://localhost:8080/"
        },
        "id": "n7jqeSKhZKEy",
        "outputId": "39d9d49e-bddd-4eb9-dd53-5e5493a8a76e"
      },
      "execution_count": 36,
      "outputs": [
        {
          "output_type": "execute_result",
          "data": {
            "text/plain": [
              "['브라질', '아르헨티나', '미국', '캐나다', '멕시코', '일본', '프랑스']"
            ]
          },
          "metadata": {},
          "execution_count": 36
        }
      ]
    },
    {
      "cell_type": "code",
      "source": [
        "country.reverse()\n",
        "country"
      ],
      "metadata": {
        "colab": {
          "base_uri": "https://localhost:8080/"
        },
        "id": "CfcoYVKvZK78",
        "outputId": "536f607d-d39d-4b8f-8372-b71f3fdcafb3"
      },
      "execution_count": 37,
      "outputs": [
        {
          "output_type": "execute_result",
          "data": {
            "text/plain": [
              "['프랑스', '일본', '멕시코', '캐나다', '미국', '아르헨티나', '브라질']"
            ]
          },
          "metadata": {},
          "execution_count": 37
        }
      ]
    },
    {
      "cell_type": "code",
      "source": [
        "list(reversed(country)), country"
      ],
      "metadata": {
        "colab": {
          "base_uri": "https://localhost:8080/"
        },
        "id": "pXiteWmMccyv",
        "outputId": "a539a8ea-5918-4f45-9fc2-8bd5cf36778e"
      },
      "execution_count": 40,
      "outputs": [
        {
          "output_type": "execute_result",
          "data": {
            "text/plain": [
              "(['브라질', '아르헨티나', '미국', '캐나다', '멕시코', '일본', '프랑스'],\n",
              " ['프랑스', '일본', '멕시코', '캐나다', '미국', '아르헨티나', '브라질'])"
            ]
          },
          "metadata": {},
          "execution_count": 40
        }
      ]
    },
    {
      "cell_type": "code",
      "source": [
        "country[::-1], country"
      ],
      "metadata": {
        "colab": {
          "base_uri": "https://localhost:8080/"
        },
        "id": "ePN504JJcpkn",
        "outputId": "a47bf23e-510b-403b-f9fe-69492831a7f6"
      },
      "execution_count": 41,
      "outputs": [
        {
          "output_type": "execute_result",
          "data": {
            "text/plain": [
              "(['브라질', '아르헨티나', '미국', '캐나다', '멕시코', '일본', '프랑스'],\n",
              " ['프랑스', '일본', '멕시코', '캐나다', '미국', '아르헨티나', '브라질'])"
            ]
          },
          "metadata": {},
          "execution_count": 41
        }
      ]
    },
    {
      "cell_type": "code",
      "source": [
        "# 졍렬 -> 오름차순, 내림차순\n",
        "numbers = [random.randint(20, 200) for _ in range(10)]\n",
        "numbers"
      ],
      "metadata": {
        "colab": {
          "base_uri": "https://localhost:8080/"
        },
        "id": "Q03fBc1KcwoL",
        "outputId": "b8fd284e-e73a-4557-8270-02cbdf31122b"
      },
      "execution_count": 44,
      "outputs": [
        {
          "output_type": "execute_result",
          "data": {
            "text/plain": [
              "[47, 158, 122, 77, 136, 116, 72, 35, 106, 63]"
            ]
          },
          "metadata": {},
          "execution_count": 44
        }
      ]
    },
    {
      "cell_type": "code",
      "source": [
        "numbers2 = numbers.copy()"
      ],
      "metadata": {
        "id": "Fa6_vcs5emay"
      },
      "execution_count": 46,
      "outputs": []
    },
    {
      "cell_type": "code",
      "source": [
        "numbers2.sort()  # reverse = False\n",
        "numbers2"
      ],
      "metadata": {
        "colab": {
          "base_uri": "https://localhost:8080/"
        },
        "id": "5rJD9BYhexIu",
        "outputId": "39251fba-c4bc-4987-9c92-a590cebb6cfa"
      },
      "execution_count": 47,
      "outputs": [
        {
          "output_type": "execute_result",
          "data": {
            "text/plain": [
              "[35, 47, 63, 72, 77, 106, 116, 122, 136, 158]"
            ]
          },
          "metadata": {},
          "execution_count": 47
        }
      ]
    },
    {
      "cell_type": "code",
      "source": [
        "sorted(numbers), numbers"
      ],
      "metadata": {
        "colab": {
          "base_uri": "https://localhost:8080/"
        },
        "id": "BEoHThMce05D",
        "outputId": "3fd5bb68-20df-4ee2-8675-1fd7d0d1f8f3"
      },
      "execution_count": 48,
      "outputs": [
        {
          "output_type": "execute_result",
          "data": {
            "text/plain": [
              "([35, 47, 63, 72, 77, 106, 116, 122, 136, 158],\n",
              " [47, 158, 122, 77, 136, 116, 72, 35, 106, 63])"
            ]
          },
          "metadata": {},
          "execution_count": 48
        }
      ]
    },
    {
      "cell_type": "code",
      "source": [
        "numbers2.sort(reverse=True)\n",
        "numbers2"
      ],
      "metadata": {
        "colab": {
          "base_uri": "https://localhost:8080/"
        },
        "id": "ZKunvMr0e75w",
        "outputId": "c7b83187-fd41-4838-9d1c-f7e9bead3101"
      },
      "execution_count": 49,
      "outputs": [
        {
          "output_type": "execute_result",
          "data": {
            "text/plain": [
              "[158, 136, 122, 116, 106, 77, 72, 63, 47, 35]"
            ]
          },
          "metadata": {},
          "execution_count": 49
        }
      ]
    },
    {
      "cell_type": "code",
      "source": [
        "sorted(numbers, reverse=True), numbers"
      ],
      "metadata": {
        "colab": {
          "base_uri": "https://localhost:8080/"
        },
        "id": "2ZlJ_m2NfQ5e",
        "outputId": "84209f64-8073-4f5d-d64a-4797becef69d"
      },
      "execution_count": 50,
      "outputs": [
        {
          "output_type": "execute_result",
          "data": {
            "text/plain": [
              "([158, 136, 122, 116, 106, 77, 72, 63, 47, 35],\n",
              " [47, 158, 122, 77, 136, 116, 72, 35, 106, 63])"
            ]
          },
          "metadata": {},
          "execution_count": 50
        }
      ]
    },
    {
      "cell_type": "code",
      "source": [
        "sorted(country), sorted(country, reverse=True)"
      ],
      "metadata": {
        "colab": {
          "base_uri": "https://localhost:8080/"
        },
        "id": "PD1H2gTnfVh2",
        "outputId": "1452d4be-9359-4074-d8d5-9d51f7b4bae5"
      },
      "execution_count": 51,
      "outputs": [
        {
          "output_type": "execute_result",
          "data": {
            "text/plain": [
              "(['멕시코', '미국', '브라질', '아르헨티나', '일본', '캐나다', '프랑스'],\n",
              " ['프랑스', '캐나다', '일본', '아르헨티나', '브라질', '미국', '멕시코'])"
            ]
          },
          "metadata": {},
          "execution_count": 51
        }
      ]
    },
    {
      "cell_type": "code",
      "source": [
        "country2 = country.copy()\n",
        "country2"
      ],
      "metadata": {
        "colab": {
          "base_uri": "https://localhost:8080/"
        },
        "id": "13bV67rkfc9B",
        "outputId": "90b9d0e6-4363-41de-b82e-645ff965d604"
      },
      "execution_count": 52,
      "outputs": [
        {
          "output_type": "execute_result",
          "data": {
            "text/plain": [
              "['프랑스', '일본', '멕시코', '캐나다', '미국', '아르헨티나', '브라질']"
            ]
          },
          "metadata": {},
          "execution_count": 52
        }
      ]
    },
    {
      "cell_type": "code",
      "source": [
        "country2.clear()\n",
        "country2"
      ],
      "metadata": {
        "colab": {
          "base_uri": "https://localhost:8080/"
        },
        "id": "VViy-8gIfkEn",
        "outputId": "17368c4b-384b-45fd-d8b4-de5a48ee7c2c"
      },
      "execution_count": 54,
      "outputs": [
        {
          "output_type": "execute_result",
          "data": {
            "text/plain": [
              "[]"
            ]
          },
          "metadata": {},
          "execution_count": 54
        }
      ]
    },
    {
      "cell_type": "code",
      "source": [
        "country2 = country.copy()\n",
        "country2"
      ],
      "metadata": {
        "colab": {
          "base_uri": "https://localhost:8080/"
        },
        "id": "7te1CmGefwGx",
        "outputId": "3fce35d2-913a-4b19-eb76-086ba45ccca4"
      },
      "execution_count": 55,
      "outputs": [
        {
          "output_type": "execute_result",
          "data": {
            "text/plain": [
              "['프랑스', '일본', '멕시코', '캐나다', '미국', '아르헨티나', '브라질']"
            ]
          },
          "metadata": {},
          "execution_count": 55
        }
      ]
    },
    {
      "cell_type": "code",
      "source": [
        "del country2[:]\n",
        "country2"
      ],
      "metadata": {
        "colab": {
          "base_uri": "https://localhost:8080/"
        },
        "id": "YvN9FQRUfnUK",
        "outputId": "739663b3-673e-4986-db38-5e7feb8d316e"
      },
      "execution_count": 56,
      "outputs": [
        {
          "output_type": "execute_result",
          "data": {
            "text/plain": [
              "[]"
            ]
          },
          "metadata": {},
          "execution_count": 56
        }
      ]
    },
    {
      "cell_type": "code",
      "source": [
        "for c in country:\n",
        "# for country in coutries 보통은 이렇게 변수 설정 함\n",
        "  print(c)"
      ],
      "metadata": {
        "colab": {
          "base_uri": "https://localhost:8080/"
        },
        "id": "1MozeiIwfx9F",
        "outputId": "2174a07e-133c-46ba-a49c-3f53f24f9004"
      },
      "execution_count": 59,
      "outputs": [
        {
          "output_type": "stream",
          "name": "stdout",
          "text": [
            "프랑스\n",
            "일본\n",
            "멕시코\n",
            "캐나다\n",
            "미국\n",
            "아르헨티나\n",
            "브라질\n"
          ]
        }
      ]
    },
    {
      "cell_type": "code",
      "source": [
        "for c in sorted(country):\n",
        "# for country in coutries 보통은 이렇게 변수 설정 함\n",
        "  print(c)"
      ],
      "metadata": {
        "colab": {
          "base_uri": "https://localhost:8080/"
        },
        "id": "95n72cJHgDlU",
        "outputId": "d9464441-2716-49d4-ce7c-deffb8f21b2a"
      },
      "execution_count": 60,
      "outputs": [
        {
          "output_type": "stream",
          "name": "stdout",
          "text": [
            "멕시코\n",
            "미국\n",
            "브라질\n",
            "아르헨티나\n",
            "일본\n",
            "캐나다\n",
            "프랑스\n"
          ]
        }
      ]
    },
    {
      "cell_type": "code",
      "source": [
        "for c in country[::-1]:\n",
        "# for country in coutries 보통은 이렇게 변수 설정 함\n",
        "  print(c)"
      ],
      "metadata": {
        "colab": {
          "base_uri": "https://localhost:8080/"
        },
        "id": "SDl4-4oqgKfC",
        "outputId": "f3e18c51-1913-4a9e-9610-05f1340c260d"
      },
      "execution_count": 61,
      "outputs": [
        {
          "output_type": "stream",
          "name": "stdout",
          "text": [
            "브라질\n",
            "아르헨티나\n",
            "미국\n",
            "캐나다\n",
            "멕시코\n",
            "일본\n",
            "프랑스\n"
          ]
        }
      ]
    },
    {
      "cell_type": "code",
      "source": [
        "  for i in enumerate(country):\n",
        "    print(i)"
      ],
      "metadata": {
        "colab": {
          "base_uri": "https://localhost:8080/"
        },
        "id": "ks7i3kzsgOe3",
        "outputId": "b89f5b35-0ac6-476f-8978-60b159f37c6c"
      },
      "execution_count": 64,
      "outputs": [
        {
          "output_type": "stream",
          "name": "stdout",
          "text": [
            "(0, '프랑스')\n",
            "(1, '일본')\n",
            "(2, '멕시코')\n",
            "(3, '캐나다')\n",
            "(4, '미국')\n",
            "(5, '아르헨티나')\n",
            "(6, '브라질')\n"
          ]
        }
      ]
    },
    {
      "cell_type": "code",
      "source": [
        "for idx, val in enumerate(country):\n",
        "  print(idx, val)"
      ],
      "metadata": {
        "colab": {
          "base_uri": "https://localhost:8080/"
        },
        "id": "KPfKNDnpgS5l",
        "outputId": "c9e66f9d-e249-490b-9cbc-ce29f7fb6702"
      },
      "execution_count": 67,
      "outputs": [
        {
          "output_type": "stream",
          "name": "stdout",
          "text": [
            "0 프랑스\n",
            "1 일본\n",
            "2 멕시코\n",
            "3 캐나다\n",
            "4 미국\n",
            "5 아르헨티나\n",
            "6 브라질\n"
          ]
        }
      ]
    },
    {
      "cell_type": "code",
      "source": [
        "for idx, val in enumerate(country):\n",
        "  # if idx % 2 == 0:\n",
        "  if not (idx % 2):\n",
        "      print(idx, val)\n",
        "  if idx % 2 : # 보다 크다\n",
        "      continue\n",
        "  print(idx, val)"
      ],
      "metadata": {
        "colab": {
          "base_uri": "https://localhost:8080/"
        },
        "id": "wOMsbmivgjdg",
        "outputId": "0310fcc2-4e12-448b-ea80-e0259e24f3fb"
      },
      "execution_count": 74,
      "outputs": [
        {
          "output_type": "stream",
          "name": "stdout",
          "text": [
            "0 프랑스\n",
            "0 프랑스\n",
            "2 멕시코\n",
            "2 멕시코\n",
            "4 미국\n",
            "4 미국\n",
            "6 브라질\n",
            "6 브라질\n"
          ]
        }
      ]
    },
    {
      "cell_type": "code",
      "source": [
        "for idx, val in enumerate(country):\n",
        "    if len(val) == 2:\n",
        "        print(idx, val)\n",
        "        break\n",
        "    print(\"진행...\", val)"
      ],
      "metadata": {
        "colab": {
          "base_uri": "https://localhost:8080/"
        },
        "id": "LCp3CA8whEq4",
        "outputId": "81b30ff5-a67a-424d-dce5-8e8473dd731f"
      },
      "execution_count": 75,
      "outputs": [
        {
          "output_type": "stream",
          "name": "stdout",
          "text": [
            "진행... 프랑스\n",
            "1 일본\n"
          ]
        }
      ]
    },
    {
      "cell_type": "code",
      "source": [
        "numbers"
      ],
      "metadata": {
        "colab": {
          "base_uri": "https://localhost:8080/"
        },
        "id": "3Sxf3-9xhg_B",
        "outputId": "2ea9661e-f793-47a8-975d-4cdae387a1d1"
      },
      "execution_count": 76,
      "outputs": [
        {
          "output_type": "execute_result",
          "data": {
            "text/plain": [
              "[47, 158, 122, 77, 136, 116, 72, 35, 106, 63]"
            ]
          },
          "metadata": {},
          "execution_count": 76
        }
      ]
    },
    {
      "cell_type": "code",
      "source": [
        "lotto = random.choices(range(1, 46), k = 6)\n",
        "lotto"
      ],
      "metadata": {
        "colab": {
          "base_uri": "https://localhost:8080/"
        },
        "id": "rIwmrxHKhirx",
        "outputId": "7a55bbb7-2d87-40cb-afbc-7db9ed5ef0c4"
      },
      "execution_count": 79,
      "outputs": [
        {
          "output_type": "execute_result",
          "data": {
            "text/plain": [
              "[29, 42, 15, 4, 31, 38]"
            ]
          },
          "metadata": {},
          "execution_count": 79
        }
      ]
    },
    {
      "cell_type": "code",
      "source": [
        "max(lotto), min(lotto), sum(lotto)"
      ],
      "metadata": {
        "colab": {
          "base_uri": "https://localhost:8080/"
        },
        "id": "-ZXMFXr4hu2_",
        "outputId": "5b6465c4-86f8-4647-a3ce-32febd093811"
      },
      "execution_count": 80,
      "outputs": [
        {
          "output_type": "execute_result",
          "data": {
            "text/plain": [
              "(42, 4, 159)"
            ]
          },
          "metadata": {},
          "execution_count": 80
        }
      ]
    },
    {
      "cell_type": "markdown",
      "source": [
        "## 리스트 컴프리헨션"
      ],
      "metadata": {
        "id": "AyeP4OOwiG1m"
      }
    },
    {
      "cell_type": "code",
      "source": [
        "rc = random.choices(range(1, 21), k = 20)\n",
        "rc"
      ],
      "metadata": {
        "colab": {
          "base_uri": "https://localhost:8080/"
        },
        "id": "77Y4wgThiFgw",
        "outputId": "29c21f83-3221-49c8-fab1-07a1fc67b5b9"
      },
      "execution_count": 81,
      "outputs": [
        {
          "output_type": "execute_result",
          "data": {
            "text/plain": [
              "[5, 19, 1, 13, 2, 16, 11, 3, 12, 1, 6, 13, 9, 17, 18, 20, 3, 15, 2, 17]"
            ]
          },
          "metadata": {},
          "execution_count": 81
        }
      ]
    },
    {
      "cell_type": "code",
      "source": [
        "lunch = [ (rc[i], rc[i+1]) for i in range(0,len(rc),2) ]\n",
        "lunch"
      ],
      "metadata": {
        "colab": {
          "base_uri": "https://localhost:8080/"
        },
        "id": "JkzEJ4nTidxh",
        "outputId": "5724fffa-8337-4972-de4a-8cca87b433f4"
      },
      "execution_count": 84,
      "outputs": [
        {
          "output_type": "execute_result",
          "data": {
            "text/plain": [
              "[(5, 19),\n",
              " (1, 13),\n",
              " (2, 16),\n",
              " (11, 3),\n",
              " (12, 1),\n",
              " (6, 13),\n",
              " (9, 17),\n",
              " (18, 20),\n",
              " (3, 15),\n",
              " (2, 17)]"
            ]
          },
          "metadata": {},
          "execution_count": 84
        }
      ]
    },
    {
      "cell_type": "code",
      "source": [
        "# 랜덤으로 봅은 20명의 번호를 2명씩 묵고 싶다.\n",
        "lunch2 = []\n",
        "for i in range(len(rc)):   # 20명이 랜덤하게 뽑힌 리스트를 for문으로 반복, 0부터 시작하고, 전체길이의 증가폭 2인 range\n",
        "    # lunch2.append(rc[i])   # index가 짝수번째인 값\n",
        "    # lunch2.append(rc[i+1])   # index가 홀수번째인 값\n",
        "    # temp = (rc[i], rc[i+1])\n",
        "    tmp  = (rc[i], rc[i+1])\n",
        "    lunch2.append(tmp)\n",
        "lunch2\n",
        "    "
      ],
      "metadata": {
        "colab": {
          "base_uri": "https://localhost:8080/",
          "height": 245
        },
        "id": "3NEfyiBji-YS",
        "outputId": "9844b97d-3e68-4c12-c1e1-b7c6013b52e5"
      },
      "execution_count": 88,
      "outputs": [
        {
          "output_type": "error",
          "ename": "IndexError",
          "evalue": "ignored",
          "traceback": [
            "\u001b[0;31m---------------------------------------------------------------------------\u001b[0m",
            "\u001b[0;31mIndexError\u001b[0m                                Traceback (most recent call last)",
            "\u001b[0;32m<ipython-input-88-1511f87feac4>\u001b[0m in \u001b[0;36m<module>\u001b[0;34m\u001b[0m\n\u001b[1;32m      5\u001b[0m     \u001b[0;31m# lunch2.append(rc[i+1])   # index가 홀수번째인 값\u001b[0m\u001b[0;34m\u001b[0m\u001b[0;34m\u001b[0m\u001b[0;34m\u001b[0m\u001b[0m\n\u001b[1;32m      6\u001b[0m     \u001b[0;31m# temp = (rc[i], rc[i+1])\u001b[0m\u001b[0;34m\u001b[0m\u001b[0;34m\u001b[0m\u001b[0;34m\u001b[0m\u001b[0m\n\u001b[0;32m----> 7\u001b[0;31m     \u001b[0mtmp\u001b[0m  \u001b[0;34m=\u001b[0m \u001b[0;34m(\u001b[0m\u001b[0mrc\u001b[0m\u001b[0;34m[\u001b[0m\u001b[0mi\u001b[0m\u001b[0;34m]\u001b[0m\u001b[0;34m,\u001b[0m \u001b[0mrc\u001b[0m\u001b[0;34m[\u001b[0m\u001b[0mi\u001b[0m\u001b[0;34m+\u001b[0m\u001b[0;36m1\u001b[0m\u001b[0;34m]\u001b[0m\u001b[0;34m)\u001b[0m\u001b[0;34m\u001b[0m\u001b[0;34m\u001b[0m\u001b[0m\n\u001b[0m\u001b[1;32m      8\u001b[0m     \u001b[0mlunch2\u001b[0m\u001b[0;34m.\u001b[0m\u001b[0mappend\u001b[0m\u001b[0;34m(\u001b[0m\u001b[0mtmp\u001b[0m\u001b[0;34m)\u001b[0m\u001b[0;34m\u001b[0m\u001b[0;34m\u001b[0m\u001b[0m\n\u001b[1;32m      9\u001b[0m \u001b[0mlunch2\u001b[0m\u001b[0;34m\u001b[0m\u001b[0;34m\u001b[0m\u001b[0m\n",
            "\u001b[0;31mIndexError\u001b[0m: list index out of range"
          ]
        }
      ]
    },
    {
      "cell_type": "code",
      "source": [
        "lunch3 = []\n",
        "# lunch = [(rc[i], rc[i+1]) for i in range(len(rc)) if i % 2 == 0]\n",
        "lunch = [(rc[i], rc[i+1]) for i in range(len(rc)) if not i % 2]\n",
        "lunch"
      ],
      "metadata": {
        "colab": {
          "base_uri": "https://localhost:8080/"
        },
        "id": "0oWSPNI2khmX",
        "outputId": "ed06c297-4952-4004-c953-456ff035ff5e"
      },
      "execution_count": 90,
      "outputs": [
        {
          "output_type": "execute_result",
          "data": {
            "text/plain": [
              "[(5, 19),\n",
              " (1, 13),\n",
              " (2, 16),\n",
              " (11, 3),\n",
              " (12, 1),\n",
              " (6, 13),\n",
              " (9, 17),\n",
              " (18, 20),\n",
              " (3, 15),\n",
              " (2, 17)]"
            ]
          },
          "metadata": {},
          "execution_count": 90
        }
      ]
    },
    {
      "cell_type": "markdown",
      "source": [
        "# 문자열"
      ],
      "metadata": {
        "id": "05e6KgUblZvh"
      }
    },
    {
      "cell_type": "code",
      "source": [
        "s = \"오늘의 점심은 돈까스입니다.\"\n",
        "s"
      ],
      "metadata": {
        "colab": {
          "base_uri": "https://localhost:8080/",
          "height": 35
        },
        "id": "0ninSUtjlKgi",
        "outputId": "dc03f373-51ee-4b54-c07a-52a5435b46e9"
      },
      "execution_count": 91,
      "outputs": [
        {
          "output_type": "execute_result",
          "data": {
            "text/plain": [
              "'오늘의 점심은 돈까스입니다.'"
            ],
            "application/vnd.google.colaboratory.intrinsic+json": {
              "type": "string"
            }
          },
          "metadata": {},
          "execution_count": 91
        }
      ]
    },
    {
      "cell_type": "code",
      "source": [
        "s.replace(\"점심\", \"저녁\"), s     # str - read only 객체, 항상 원본 영향 x"
      ],
      "metadata": {
        "colab": {
          "base_uri": "https://localhost:8080/"
        },
        "id": "0SYr6WB6ljxz",
        "outputId": "772dbb94-ac32-44a0-c955-5b18442e4c4e"
      },
      "execution_count": 92,
      "outputs": [
        {
          "output_type": "execute_result",
          "data": {
            "text/plain": [
              "('오늘의 저녁은 돈까스입니다.', '오늘의 점심은 돈까스입니다.')"
            ]
          },
          "metadata": {},
          "execution_count": 92
        }
      ]
    },
    {
      "cell_type": "code",
      "source": [
        "s2 = \"오늘의 점심은 돈까스입니다.,오늘의 저녁은 돈까스입니다.\""
      ],
      "metadata": {
        "id": "XxcH4ITNlyow"
      },
      "execution_count": 95,
      "outputs": []
    },
    {
      "cell_type": "code",
      "source": [
        "s2.replace(\"돈까스\", \"파스타\"), s2"
      ],
      "metadata": {
        "colab": {
          "base_uri": "https://localhost:8080/"
        },
        "id": "Xj2aTy7-l45g",
        "outputId": "a183c557-b2e0-4ac0-c979-794e02063f58"
      },
      "execution_count": 98,
      "outputs": [
        {
          "output_type": "execute_result",
          "data": {
            "text/plain": [
              "('오늘의 점심은 파스타입니다.,오늘의 저녁은 파스타입니다.', '오늘의 점심은 돈까스입니다.,오늘의 저녁은 돈까스입니다.')"
            ]
          },
          "metadata": {},
          "execution_count": 98
        }
      ]
    },
    {
      "cell_type": "code",
      "source": [
        "s2.relpace(\"돈까스\", \"파스타\", 1)"
      ],
      "metadata": {
        "colab": {
          "base_uri": "https://localhost:8080/",
          "height": 172
        },
        "id": "In1AJCBjl-DN",
        "outputId": "e52e859d-e637-4e10-8b35-a5901567a72e"
      },
      "execution_count": 99,
      "outputs": [
        {
          "output_type": "error",
          "ename": "AttributeError",
          "evalue": "ignored",
          "traceback": [
            "\u001b[0;31m---------------------------------------------------------------------------\u001b[0m",
            "\u001b[0;31mAttributeError\u001b[0m                            Traceback (most recent call last)",
            "\u001b[0;32m<ipython-input-99-d1634e0723c5>\u001b[0m in \u001b[0;36m<module>\u001b[0;34m\u001b[0m\n\u001b[0;32m----> 1\u001b[0;31m \u001b[0ms2\u001b[0m\u001b[0;34m.\u001b[0m\u001b[0mrelpace\u001b[0m\u001b[0;34m(\u001b[0m\u001b[0;34m\"돈까스\"\u001b[0m\u001b[0;34m,\u001b[0m \u001b[0;34m\"파스타\"\u001b[0m\u001b[0;34m,\u001b[0m \u001b[0;36m1\u001b[0m\u001b[0;34m)\u001b[0m\u001b[0;34m\u001b[0m\u001b[0;34m\u001b[0m\u001b[0m\n\u001b[0m",
            "\u001b[0;31mAttributeError\u001b[0m: 'str' object has no attribute 'relpace'"
          ]
        }
      ]
    },
    {
      "cell_type": "code",
      "source": [
        "txt = \"비트코인 이더리움 리플\"\n",
        "txt.split(), txt   # sep = 구분자 => 기본 단위 ' ' (space)"
      ],
      "metadata": {
        "colab": {
          "base_uri": "https://localhost:8080/"
        },
        "id": "RmhW--xPmLTh",
        "outputId": "25ee5002-c831-4786-8095-73c29d185289"
      },
      "execution_count": 100,
      "outputs": [
        {
          "output_type": "execute_result",
          "data": {
            "text/plain": [
              "(['비트코인', '이더리움', '리플'], '비트코인 이더리움 리플')"
            ]
          },
          "metadata": {},
          "execution_count": 100
        }
      ]
    },
    {
      "cell_type": "code",
      "source": [
        "txt2 = \"비트코인, 이더리움, 리플\"\n",
        "txt2.split(','), txt2.sprit(sep=',')"
      ],
      "metadata": {
        "colab": {
          "base_uri": "https://localhost:8080/",
          "height": 190
        },
        "id": "_GRKZnGtmbCd",
        "outputId": "f6126dcd-cc24-46b2-87a3-8f2c57431728"
      },
      "execution_count": 103,
      "outputs": [
        {
          "output_type": "error",
          "ename": "AttributeError",
          "evalue": "ignored",
          "traceback": [
            "\u001b[0;31m---------------------------------------------------------------------------\u001b[0m",
            "\u001b[0;31mAttributeError\u001b[0m                            Traceback (most recent call last)",
            "\u001b[0;32m<ipython-input-103-d8a4b1486a2d>\u001b[0m in \u001b[0;36m<module>\u001b[0;34m\u001b[0m\n\u001b[1;32m      1\u001b[0m \u001b[0mtxt2\u001b[0m \u001b[0;34m=\u001b[0m \u001b[0;34m\"비트코인, 이더리움, 리플\"\u001b[0m\u001b[0;34m\u001b[0m\u001b[0;34m\u001b[0m\u001b[0m\n\u001b[0;32m----> 2\u001b[0;31m \u001b[0mtxt2\u001b[0m\u001b[0;34m.\u001b[0m\u001b[0msplit\u001b[0m\u001b[0;34m(\u001b[0m\u001b[0;34m','\u001b[0m\u001b[0;34m)\u001b[0m\u001b[0;34m,\u001b[0m \u001b[0mtxt2\u001b[0m\u001b[0;34m.\u001b[0m\u001b[0msprit\u001b[0m\u001b[0;34m(\u001b[0m\u001b[0msep\u001b[0m\u001b[0;34m=\u001b[0m\u001b[0;34m','\u001b[0m\u001b[0;34m)\u001b[0m\u001b[0;34m\u001b[0m\u001b[0;34m\u001b[0m\u001b[0m\n\u001b[0m",
            "\u001b[0;31mAttributeError\u001b[0m: 'str' object has no attribute 'sprit'"
          ]
        }
      ]
    },
    {
      "cell_type": "code",
      "source": [
        "[i for i in s]"
      ],
      "metadata": {
        "colab": {
          "base_uri": "https://localhost:8080/"
        },
        "id": "Ct991Ikdmk5y",
        "outputId": "3e850eef-f699-442b-f9e4-bc4eeba332a5"
      },
      "execution_count": 104,
      "outputs": [
        {
          "output_type": "execute_result",
          "data": {
            "text/plain": [
              "['오', '늘', '의', ' ', '점', '심', '은', ' ', '돈', '까', '스', '입', '니', '다', '.']"
            ]
          },
          "metadata": {},
          "execution_count": 104
        }
      ]
    },
    {
      "cell_type": "code",
      "source": [
        "sep = [i for i in s]\n",
        "sep"
      ],
      "metadata": {
        "colab": {
          "base_uri": "https://localhost:8080/"
        },
        "id": "7tzfb7nkmzZs",
        "outputId": "5c92a87f-225b-450e-a058-1b60b5a92ad5"
      },
      "execution_count": 105,
      "outputs": [
        {
          "output_type": "execute_result",
          "data": {
            "text/plain": [
              "['오', '늘', '의', ' ', '점', '심', '은', ' ', '돈', '까', '스', '입', '니', '다', '.']"
            ]
          },
          "metadata": {},
          "execution_count": 105
        }
      ]
    },
    {
      "cell_type": "code",
      "source": [
        "\"\".join(sep)   # 구분자.join(sep)"
      ],
      "metadata": {
        "colab": {
          "base_uri": "https://localhost:8080/",
          "height": 35
        },
        "id": "cZAk_hC0m6F3",
        "outputId": "682792d4-8843-44d5-c8c8-9687897a32b3"
      },
      "execution_count": 106,
      "outputs": [
        {
          "output_type": "execute_result",
          "data": {
            "text/plain": [
              "'오늘의 점심은 돈까스입니다.'"
            ],
            "application/vnd.google.colaboratory.intrinsic+json": {
              "type": "string"
            }
          },
          "metadata": {},
          "execution_count": 106
        }
      ]
    },
    {
      "cell_type": "code",
      "source": [
        "\";\".join(sep)"
      ],
      "metadata": {
        "colab": {
          "base_uri": "https://localhost:8080/",
          "height": 35
        },
        "id": "kQ5JcE4BnDQd",
        "outputId": "4f5f215a-6eb8-43db-ccb5-d500ec7495f9"
      },
      "execution_count": 107,
      "outputs": [
        {
          "output_type": "execute_result",
          "data": {
            "text/plain": [
              "'오;늘;의; ;점;심;은; ;돈;까;스;입;니;다;.'"
            ],
            "application/vnd.google.colaboratory.intrinsic+json": {
              "type": "string"
            }
          },
          "metadata": {},
          "execution_count": 107
        }
      ]
    },
    {
      "cell_type": "code",
      "source": [
        "a = \"JamsePotato\"\n",
        "a.upper(), a.lower()"
      ],
      "metadata": {
        "colab": {
          "base_uri": "https://localhost:8080/"
        },
        "id": "qs7pARx3nGAy",
        "outputId": "d84a6ee4-ef52-4264-9386-8a1afb81d47e"
      },
      "execution_count": 108,
      "outputs": [
        {
          "output_type": "execute_result",
          "data": {
            "text/plain": [
              "('JAMSEPOTATO', 'jamsepotato')"
            ]
          },
          "metadata": {},
          "execution_count": 108
        }
      ]
    },
    {
      "cell_type": "code",
      "source": [
        "space = \"       공백이 많다.        \"\n",
        "space.strip(), space.lstrip(), space.rstrip()"
      ],
      "metadata": {
        "colab": {
          "base_uri": "https://localhost:8080/"
        },
        "id": "gqS83voTnQOh",
        "outputId": "b91ff9f4-8512-4c08-e997-184f290c495a"
      },
      "execution_count": 109,
      "outputs": [
        {
          "output_type": "execute_result",
          "data": {
            "text/plain": [
              "('공백이 많다.', '공백이 많다.        ', '       공백이 많다.')"
            ]
          },
          "metadata": {},
          "execution_count": 109
        }
      ]
    },
    {
      "cell_type": "code",
      "source": [
        "a=\"35\"\n",
        "a.zfill(6)"
      ],
      "metadata": {
        "colab": {
          "base_uri": "https://localhost:8080/",
          "height": 35
        },
        "id": "zQE60ddHnbUu",
        "outputId": "8c5bd33a-4340-414e-f20a-2f3de0b9b533"
      },
      "execution_count": 110,
      "outputs": [
        {
          "output_type": "execute_result",
          "data": {
            "text/plain": [
              "'000035'"
            ],
            "application/vnd.google.colaboratory.intrinsic+json": {
              "type": "string"
            }
          },
          "metadata": {},
          "execution_count": 110
        }
      ]
    },
    {
      "cell_type": "markdown",
      "source": [
        "## 문자열 위치 찾기"
      ],
      "metadata": {
        "id": "XZWtmSobngvG"
      }
    },
    {
      "cell_type": "code",
      "source": [
        "s = \"안녕 나는 지리산 감자야\"\n",
        "s.find(\"감자\")"
      ],
      "metadata": {
        "colab": {
          "base_uri": "https://localhost:8080/"
        },
        "id": "ToFE8V0Indir",
        "outputId": "53fe7ece-394c-425d-f411-a5330ea4f858"
      },
      "execution_count": 111,
      "outputs": [
        {
          "output_type": "execute_result",
          "data": {
            "text/plain": [
              "10"
            ]
          },
          "metadata": {},
          "execution_count": 111
        }
      ]
    },
    {
      "cell_type": "code",
      "source": [
        "s = \"안녕, 속리산 감자야! 나는 지리산 감자야\"\n",
        "s.find(\"감자\")"
      ],
      "metadata": {
        "colab": {
          "base_uri": "https://localhost:8080/"
        },
        "id": "JoLqens4nnp8",
        "outputId": "f38a6d03-1b97-4013-8bb1-301f4d11a175"
      },
      "execution_count": 112,
      "outputs": [
        {
          "output_type": "execute_result",
          "data": {
            "text/plain": [
              "8"
            ]
          },
          "metadata": {},
          "execution_count": 112
        }
      ]
    }
  ]
}