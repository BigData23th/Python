{
  "nbformat": 4,
  "nbformat_minor": 0,
  "metadata": {
    "colab": {
      "provenance": [],
      "authorship_tag": "ABX9TyOoWxh4oSBVFnF59sorZvLp",
      "include_colab_link": true
    },
    "kernelspec": {
      "name": "python3",
      "display_name": "Python 3"
    },
    "language_info": {
      "name": "python"
    }
  },
  "cells": [
    {
      "cell_type": "markdown",
      "metadata": {
        "id": "view-in-github",
        "colab_type": "text"
      },
      "source": [
        "<a href=\"https://colab.research.google.com/github/CHOISEONGGU/Python_SG/blob/main/0228_%EC%A0%90%EC%8B%AC.ipynb\" target=\"_parent\"><img src=\"https://colab.research.google.com/assets/colab-badge.svg\" alt=\"Open In Colab\"/></a>"
      ]
    },
    {
      "cell_type": "markdown",
      "source": [
        "# 2023년 02월 28일 점심시간\n",
        "\n",
        "---\n",
        "1. 가게 정면 사진<br>\n",
        "![일등카레](https://i.imgur.com/8BzPmjx.jpg)<br>\n",
        "2. 음식 사진<br>\n",
        "![카레4접시](https://i.imgur.com/8tpSC46.jpg)<br>\n",
        "\n",
        "# 4줄일기\n",
        "사실(fact)<br>\n",
        "일등카레집을 갔다.\n",
        "\n",
        "발견(Discovery)<br>\n",
        "한 그릇의 가격이 생각보다 비쌌다. 하지만 맛있었다.\n",
        "\n",
        "배운점(Learning)<br>\n",
        "사무실 근처 맛집은 가격이 저렴하지 않다는 것을 알게 되었다.\n",
        "\n",
        "선언(Declaration)<br>\n",
        "구내식당을 가야겠다."
      ],
      "metadata": {
        "id": "JAKb_kB6Z62O"
      }
    }
  ]
}