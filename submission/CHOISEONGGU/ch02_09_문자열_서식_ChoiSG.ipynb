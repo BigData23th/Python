{
  "nbformat": 4,
  "nbformat_minor": 0,
  "metadata": {
    "colab": {
      "provenance": [],
      "include_colab_link": true
    },
    "kernelspec": {
      "name": "python3",
      "display_name": "Python 3"
    },
    "language_info": {
      "name": "python"
    }
  },
  "cells": [
    {
      "cell_type": "markdown",
      "metadata": {
        "id": "view-in-github",
        "colab_type": "text"
      },
      "source": [
        "<a href=\"https://colab.research.google.com/github/CHOISEONGGU/Python_SG/blob/main/submission/CHOISEONGGU/ch02_09_%EB%AC%B8%EC%9E%90%EC%97%B4_%EC%84%9C%EC%8B%9D_ChoiSG.ipynb\" target=\"_parent\"><img src=\"https://colab.research.google.com/assets/colab-badge.svg\" alt=\"Open In Colab\"/></a>"
      ]
    },
    {
      "cell_type": "markdown",
      "source": [
        "# 문자열 서식"
      ],
      "metadata": {
        "id": "QiBSq5Bq143A"
      }
    },
    {
      "cell_type": "markdown",
      "source": [
        "파이썬에서 문자열 포맷팅을 할 때는 f-string, format 메소드, 서식 지정자를 사용할 수 있습니다."
      ],
      "metadata": {
        "id": "wegxJ51w16PT"
      }
    },
    {
      "cell_type": "markdown",
      "source": [
        "## f-string"
      ],
      "metadata": {
        "id": "N0-o1WfZ1_n_"
      }
    },
    {
      "cell_type": "markdown",
      "source": [
        "f-string은 파이썬 3.6 이후부터 사용 가능한 문자열 포맷팅 방법 중 하나입니다. f-string을 사용하면 문자열 안에서 변수의 값을 간단하게 삽입할 수 있으며, 이를 통해 가독성과 코드 작성의 편의성이 크게 향상됩니다."
      ],
      "metadata": {
        "id": "hiZyEX3h2CfD"
      }
    },
    {
      "cell_type": "code",
      "source": [
        "name = \"Alice\"\n",
        "age = 25"
      ],
      "metadata": {
        "id": "XCoWbcTVrYl7"
      },
      "execution_count": 1,
      "outputs": []
    },
    {
      "cell_type": "code",
      "source": [
        "print(\"이름: \", name, \", 나이:\", age, \"세\", sep=\"\")"
      ],
      "metadata": {
        "colab": {
          "base_uri": "https://localhost:8080/"
        },
        "id": "PYWOH6aQrkDI",
        "outputId": "cd5105d1-d4d9-4945-c67b-1606b7262f20"
      },
      "execution_count": 3,
      "outputs": [
        {
          "output_type": "stream",
          "name": "stdout",
          "text": [
            "이름: Alice, 나이:25세\n"
          ]
        }
      ]
    },
    {
      "cell_type": "code",
      "source": [
        "\"이름: \" + name + \" , 나이: \", str(age) + \"세\""
      ],
      "metadata": {
        "colab": {
          "base_uri": "https://localhost:8080/"
        },
        "id": "kuAeYJQ7rys_",
        "outputId": "b1544956-baba-48a3-85f6-9abd8b8900b3"
      },
      "execution_count": 4,
      "outputs": [
        {
          "output_type": "execute_result",
          "data": {
            "text/plain": [
              "('이름: Alice , 나이: ', '25세')"
            ]
          },
          "metadata": {},
          "execution_count": 4
        }
      ]
    },
    {
      "cell_type": "code",
      "source": [
        "f\"이름: {name}, 나이 : {age}세\""
      ],
      "metadata": {
        "colab": {
          "base_uri": "https://localhost:8080/",
          "height": 35
        },
        "id": "VfR62voDsGzq",
        "outputId": "a4179ffe-a6ea-44eb-fdeb-dde9cb5f1c2c"
      },
      "execution_count": 5,
      "outputs": [
        {
          "output_type": "execute_result",
          "data": {
            "text/plain": [
              "'이름: Alice, 나이 : 25세'"
            ],
            "application/vnd.google.colaboratory.intrinsic+json": {
              "type": "string"
            }
          },
          "metadata": {},
          "execution_count": 5
        }
      ]
    },
    {
      "cell_type": "code",
      "source": [
        "f\"{age : d}\"   # decimal (10진법)"
      ],
      "metadata": {
        "colab": {
          "base_uri": "https://localhost:8080/",
          "height": 35
        },
        "id": "lHhpK3QTspc8",
        "outputId": "e386405b-76f6-443b-f8ce-8914d326746a"
      },
      "execution_count": 6,
      "outputs": [
        {
          "output_type": "execute_result",
          "data": {
            "text/plain": [
              "' 25'"
            ],
            "application/vnd.google.colaboratory.intrinsic+json": {
              "type": "string"
            }
          },
          "metadata": {},
          "execution_count": 6
        }
      ]
    },
    {
      "cell_type": "code",
      "source": [
        "f\"{name : d}\"   # decimal (10진법)"
      ],
      "metadata": {
        "colab": {
          "base_uri": "https://localhost:8080/",
          "height": 172
        },
        "id": "zuWJV7YiszI1",
        "outputId": "3aa8a56b-9c7d-4677-f851-24b6d88c1852"
      },
      "execution_count": 7,
      "outputs": [
        {
          "output_type": "error",
          "ename": "ValueError",
          "evalue": "ignored",
          "traceback": [
            "\u001b[0;31m---------------------------------------------------------------------------\u001b[0m",
            "\u001b[0;31mValueError\u001b[0m                                Traceback (most recent call last)",
            "\u001b[0;32m<ipython-input-7-2a3cf652c0c4>\u001b[0m in \u001b[0;36m<module>\u001b[0;34m\u001b[0m\n\u001b[0;32m----> 1\u001b[0;31m \u001b[0;34mf\"{name : d}\"\u001b[0m   \u001b[0;31m# decimal (10진법)\u001b[0m\u001b[0;34m\u001b[0m\u001b[0;34m\u001b[0m\u001b[0m\n\u001b[0m",
            "\u001b[0;31mValueError\u001b[0m: Unknown format code 'd' for object of type 'str'"
          ]
        }
      ]
    },
    {
      "cell_type": "code",
      "source": [
        "# f\"...\" : f-string\n",
        "# f\"텍스트...{변수명, 리터럴}\" : 포멧팅 된 문자열 표현\n",
        "# f{...:d} : 숫자(정수) 표현을 강제 (int를 씌워주는 효과)  -> integer가 아니면 다 오류\n",
        "f\"{0.0025 : d}\"\n",
        "f\"{age :02d}\", f\"{1:04d}\", f\"{age:04d}\", str(age).zfill(4)   # f{...:0[0의 갯수]d} : zfill(갯수만큼 빈공간에 0을 채움)"
      ],
      "metadata": {
        "colab": {
          "base_uri": "https://localhost:8080/",
          "height": 227
        },
        "id": "oprvkAHHtQ_s",
        "outputId": "cafaf88a-44da-4230-ed8a-dc984dbb868a"
      },
      "execution_count": 13,
      "outputs": [
        {
          "output_type": "error",
          "ename": "ValueError",
          "evalue": "ignored",
          "traceback": [
            "\u001b[0;31m---------------------------------------------------------------------------\u001b[0m",
            "\u001b[0;31mValueError\u001b[0m                                Traceback (most recent call last)",
            "\u001b[0;32m<ipython-input-13-ab82c4434327>\u001b[0m in \u001b[0;36m<module>\u001b[0;34m\u001b[0m\n\u001b[1;32m      2\u001b[0m \u001b[0;31m# f\"텍스트...{변수명, 리터럴}\" : 포멧팅 된 문자열 표현\u001b[0m\u001b[0;34m\u001b[0m\u001b[0;34m\u001b[0m\u001b[0;34m\u001b[0m\u001b[0m\n\u001b[1;32m      3\u001b[0m \u001b[0;31m# f{...:d} : 숫자(정수) 표현을 강제 (int를 씌워주는 효과)  -> integer가 아니면 다 오류\u001b[0m\u001b[0;34m\u001b[0m\u001b[0;34m\u001b[0m\u001b[0;34m\u001b[0m\u001b[0m\n\u001b[0;32m----> 4\u001b[0;31m \u001b[0;34mf\"{0.0025 : d}\"\u001b[0m\u001b[0;34m\u001b[0m\u001b[0;34m\u001b[0m\u001b[0m\n\u001b[0m\u001b[1;32m      5\u001b[0m \u001b[0;34mf\"{age :02d}\"\u001b[0m\u001b[0;34m,\u001b[0m \u001b[0;34mf\"{1:04d}\"\u001b[0m\u001b[0;34m,\u001b[0m \u001b[0;34mf\"{age:04d}\"\u001b[0m\u001b[0;34m,\u001b[0m \u001b[0mstr\u001b[0m\u001b[0;34m(\u001b[0m\u001b[0mage\u001b[0m\u001b[0;34m)\u001b[0m\u001b[0;34m.\u001b[0m\u001b[0mzfill\u001b[0m\u001b[0;34m(\u001b[0m\u001b[0;36m4\u001b[0m\u001b[0;34m)\u001b[0m\u001b[0;34m\u001b[0m\u001b[0;34m\u001b[0m\u001b[0m\n",
            "\u001b[0;31mValueError\u001b[0m: Unknown format code 'd' for object of type 'float'"
          ]
        }
      ]
    },
    {
      "cell_type": "code",
      "source": [
        "print(f\"{age :010d}\")\n",
        "print(f\"{age :+010d}\")\n",
        "print(f\"{-age :010d}\")\n",
        "print(f\"{-age :+010d}\")"
      ],
      "metadata": {
        "colab": {
          "base_uri": "https://localhost:8080/"
        },
        "id": "0-ziNay6uZR3",
        "outputId": "6d279fd3-320c-4c4b-d181-2eabdde026f5"
      },
      "execution_count": 26,
      "outputs": [
        {
          "output_type": "stream",
          "name": "stdout",
          "text": [
            "0000000025\n",
            "+000000025\n",
            "-000000025\n",
            "-000000025\n"
          ]
        }
      ]
    },
    {
      "cell_type": "code",
      "source": [
        "#f{...:f}   : float를 나타냄\n",
        "height = 175.5"
      ],
      "metadata": {
        "id": "AX5sgyZlu4Hp"
      },
      "execution_count": 28,
      "outputs": []
    },
    {
      "cell_type": "code",
      "source": [
        "f\"{age:f}\", f\"{height:.2f}\",f\"{height:010.2f}\" "
      ],
      "metadata": {
        "colab": {
          "base_uri": "https://localhost:8080/"
        },
        "id": "RPWEm3SsvGEd",
        "outputId": "becc585b-cd01-426d-fcbc-32cb46b1ba90"
      },
      "execution_count": 31,
      "outputs": [
        {
          "output_type": "execute_result",
          "data": {
            "text/plain": [
              "('25.000000', '175.50', '0000175.50')"
            ]
          },
          "metadata": {},
          "execution_count": 31
        }
      ]
    },
    {
      "cell_type": "code",
      "execution_count": null,
      "metadata": {
        "colab": {
          "base_uri": "https://localhost:8080/"
        },
        "id": "yALOnLZtvlNp",
        "outputId": "a48203d4-53da-4725-ef8a-cafb6fdd8f43"
      },
      "outputs": [
        {
          "output_type": "stream",
          "name": "stdout",
          "text": [
            "이름: Alice, 나이: 25세\n",
            "25\n",
            "0000000025\n",
            "+000000025\n",
            "175.50\n",
            "0000175.50\n"
          ]
        }
      ],
      "source": [
        "print(f\"이름: {name}, 나이 : {age}세\")"
      ]
    },
    {
      "cell_type": "code",
      "source": [
        "f\"{age}\", f'{age}', f'''{age}''', f\"\"\"{age}\"\"\""
      ],
      "metadata": {
        "colab": {
          "base_uri": "https://localhost:8080/"
        },
        "id": "tl8e80u8wH26",
        "outputId": "5872d2fa-517c-47f1-d7b1-8bedc22cf79f"
      },
      "execution_count": 33,
      "outputs": [
        {
          "output_type": "execute_result",
          "data": {
            "text/plain": [
              "('25', '25', '25', '25')"
            ]
          },
          "metadata": {},
          "execution_count": 33
        }
      ]
    },
    {
      "cell_type": "markdown",
      "source": [
        "### format 메소드"
      ],
      "metadata": {
        "id": "AHUelcsL2IRR"
      }
    },
    {
      "cell_type": "code",
      "source": [
        "name = \"Alice\"\n",
        "age = 25\n",
        "height = 175.5"
      ],
      "metadata": {
        "id": "Dd9-HWJYv84I"
      },
      "execution_count": 32,
      "outputs": []
    },
    {
      "cell_type": "code",
      "source": [
        "formatted_str = \"이름: {}, 나이 : {}세\".format(name, age)   # 순서기반\n",
        "formatted_str2 = \"이름: {name}, 나이 : {age}세\".format(name=name, age=age)   # keyword 기반\n",
        "print(formatted_str)\n",
        "print(formatted_str2)\n",
        "\n",
        "a = \"{}\".format(age)\n",
        "b = \"{:010d}\".format(age)\n",
        "c = \"{:+010d}\".format(age)\n",
        "d = \"{:.2f}\".format(height)\n",
        "e = \"{:010.2f}\".format(height)\n",
        "\n",
        "print(a), print(b), print(c), print(d), print(e)"
      ],
      "metadata": {
        "colab": {
          "base_uri": "https://localhost:8080/"
        },
        "id": "qx5kTjEuw4D_",
        "outputId": "3ceff615-f4d5-446e-b96f-3ac9fdbfe65e"
      },
      "execution_count": 40,
      "outputs": [
        {
          "output_type": "stream",
          "name": "stdout",
          "text": [
            "이름: Alice, 나이 : 25세\n",
            "이름: Alice, 나이 : 25세\n",
            "25\n",
            "0000000025\n",
            "+000000025\n",
            "175.50\n",
            "0000175.50\n"
          ]
        },
        {
          "output_type": "execute_result",
          "data": {
            "text/plain": [
              "(None, None, None, None, None)"
            ]
          },
          "metadata": {},
          "execution_count": 40
        }
      ]
    },
    {
      "cell_type": "code",
      "source": [],
      "metadata": {
        "colab": {
          "base_uri": "https://localhost:8080/"
        },
        "id": "Gr_6JVoN2FCu",
        "outputId": "4a11404d-7884-4193-c2ec-d266c23a62e8"
      },
      "execution_count": null,
      "outputs": [
        {
          "output_type": "stream",
          "name": "stdout",
          "text": [
            "이름: Alice, 나이: 25세\n",
            "25\n",
            "0000000025\n",
            "+000000025\n",
            "175.50\n",
            "0000175.50\n"
          ]
        }
      ]
    },
    {
      "cell_type": "markdown",
      "source": [
        "### 서식 지정자"
      ],
      "metadata": {
        "id": "kubSFPUy2P18"
      }
    },
    {
      "cell_type": "markdown",
      "source": [
        "서식 지정자는 문자열 포맷팅에서 사용하는 기호로, 변수의 값을 특정한 형식으로 표현할 때 사용됩니다. 서식 지정자는 % 기호를 사용하여 문자열에 삽입합니다."
      ],
      "metadata": {
        "id": "TC8qXJoh2Rlg"
      }
    },
    {
      "cell_type": "code",
      "source": [
        "name = \"Alice\"\n",
        "age = 25\n",
        "height = 175.5"
      ],
      "metadata": {
        "id": "nmaOMBthy2Zr"
      },
      "execution_count": 41,
      "outputs": []
    },
    {
      "cell_type": "code",
      "source": [
        "# formatted_str = \"이름: {}, 나이 : {}세\".format(name, age)   # 순서기반\n",
        "formatted_str = \"이름: %s, 나이 : %d세\" % (name, age)   # 순서기반\n",
        "# formatted_str2 = \"이름: {name}, 나이 : {age}세\".format(name=name, age=age)   # keyword 기반\n",
        "formatted_str2 = \"이름: {name}, 나이 : {age}세\".format(name=name, age=age)   # keyword 기반\n",
        "print(formatted_str)\n",
        "print(formatted_str2)\n",
        "\n",
        "# a = \"{}\".format(age)\n",
        "a = \"%d\" %(age)\n",
        "# b = \"{:010d}\".format(age)\n",
        "b = \"%010d\" % (age)\n",
        "# c = \"{:+010d}\".format(age)\n",
        "c = \"%010d\"% (age)\n",
        "# d = \"{:.2f}\".format(height)\n",
        "d = \"%.2f\"% (height)\n",
        "# e = \"{:010.2f}\".format(height)\n",
        "e = \"%010.2f\"% (height)\n",
        "\n",
        "print(a), print(b), print(c), print(d), print(e)"
      ],
      "metadata": {
        "colab": {
          "base_uri": "https://localhost:8080/"
        },
        "id": "gqj8HFeqyx18",
        "outputId": "2f2063bd-8932-46fa-ca9e-5df4d53dfbe1"
      },
      "execution_count": 51,
      "outputs": [
        {
          "output_type": "stream",
          "name": "stdout",
          "text": [
            "이름: Alice, 나이 : 25세\n",
            "이름: Alice, 나이 : 25세\n",
            "25\n",
            "0000000025\n",
            "0000000025\n",
            "175.50\n",
            "0000175.50\n"
          ]
        },
        {
          "output_type": "execute_result",
          "data": {
            "text/plain": [
              "(None, None, None, None, None)"
            ]
          },
          "metadata": {},
          "execution_count": 51
        }
      ]
    },
    {
      "cell_type": "code",
      "source": [
        "%"
      ],
      "metadata": {
        "colab": {
          "base_uri": "https://localhost:8080/"
        },
        "id": "Q9CEispz2MsF",
        "outputId": "984c20ed-d7d6-4a36-f185-ef47e94a168a"
      },
      "execution_count": null,
      "outputs": [
        {
          "output_type": "stream",
          "name": "stdout",
          "text": [
            "이름: Alice, 나이: 25세\n",
            "25\n",
            "0000000025\n",
            "+000000025\n",
            "175.50\n",
            "0000175.50\n"
          ]
        }
      ]
    },
    {
      "cell_type": "markdown",
      "source": [
        "## 서식 문자"
      ],
      "metadata": {
        "id": "aAsDwVk027Z1"
      }
    },
    {
      "cell_type": "markdown",
      "source": [
        "서식 지정자에서는 %s, %d, %f 등의 서식 문자를 사용하여 출력할 값의 데이터 타입을 지정할 수 있습니다. 이 서식 문자를 사용하여 문자열, 숫자, 소수점 등을 출력할 수 있습니다. 서식 문자는 f-string, format 메소드 등에서도 활용할 수 있습니다. (%s는 기본값이라 생략됨)\n",
        "\n",
        "%d와 %f를 사용할 때는 정수형 변수와 실수형 변수를 출력할 수 있으며, %s는 문자열 변수를 출력합니다. 이때 %s를 사용할 경우, 변수의 데이터 타입과 상관없이 모든 값을 출력할 수 있습니다."
      ],
      "metadata": {
        "id": "Rk8xmil13AUh"
      }
    },
    {
      "cell_type": "code",
      "source": [
        "# %s : 문자열을 출력할 때 사용합니다.\n",
        "name = \"Alice\"\n",
        "formatted_name = \"이름 : %s\" % name\n",
        "print(formatted_name)"
      ],
      "metadata": {
        "colab": {
          "base_uri": "https://localhost:8080/"
        },
        "id": "a7HrNqpa2WHX",
        "outputId": "d7bdfd3c-2437-4403-a0f1-40f22f71eec9"
      },
      "execution_count": 56,
      "outputs": [
        {
          "output_type": "stream",
          "name": "stdout",
          "text": [
            "이름 : Alice\n"
          ]
        }
      ]
    },
    {
      "cell_type": "code",
      "source": [
        "# %d : 10진수 정수를 출력할 때 사용합니다.\n"
      ],
      "metadata": {
        "colab": {
          "base_uri": "https://localhost:8080/"
        },
        "id": "_szPQML_3Q5G",
        "outputId": "7f12c6f9-ed11-4c32-f6fa-6f841cb18ef4"
      },
      "execution_count": null,
      "outputs": [
        {
          "output_type": "stream",
          "name": "stdout",
          "text": [
            "나이: 25세\n"
          ]
        }
      ]
    },
    {
      "cell_type": "code",
      "source": [
        "# %f : 실수를 출력할 때 사용합니다. 기본적으로 소수점 이하 6자리까지 출력됩니다.\n"
      ],
      "metadata": {
        "colab": {
          "base_uri": "https://localhost:8080/"
        },
        "id": "4uUnI1DK3UXF",
        "outputId": "ad77d8f6-72bc-419b-81ea-cb93880d5df7"
      },
      "execution_count": null,
      "outputs": [
        {
          "output_type": "stream",
          "name": "stdout",
          "text": [
            "키: 175.500000cm\n"
          ]
        }
      ]
    },
    {
      "cell_type": "markdown",
      "source": [
        "서식 문자를 사용하여 출력할 값의 자리수를 지정할 수도 있습니다. 자리수를 지정하면 해당 자리수만큼 출력되며, 값의 길이가 자리수보다 작으면 빈 칸이 채워집니다."
      ],
      "metadata": {
        "id": "VrTFs87K3ZbS"
      }
    },
    {
      "cell_type": "code",
      "source": [
        "# %[너비]d : [너비] 자리에 출력할 숫자의 자리수를 지정합니다.\n",
        "num = 123\n",
        "a = \"%d\" % num\n",
        "b = \"%5d\" % num\n",
        "c = \"%010d\" % num\n",
        "d = \"%-5d\" % num\n",
        "e = \"%+5d\" % num\n",
        "\n",
        "print(a, b, c, e, d, e)"
      ],
      "metadata": {
        "colab": {
          "base_uri": "https://localhost:8080/"
        },
        "id": "VzvSd8n23Xyj",
        "outputId": "abed7e81-1f19-4c4b-aa10-6da5484f2b7a"
      },
      "execution_count": 58,
      "outputs": [
        {
          "output_type": "stream",
          "name": "stdout",
          "text": [
            "123   123 0000000123  +123 123    +123\n"
          ]
        }
      ]
    },
    {
      "cell_type": "code",
      "source": [
        "from math import pi\n",
        "\n",
        "pi"
      ],
      "metadata": {
        "colab": {
          "base_uri": "https://localhost:8080/"
        },
        "id": "vyXAN34l1sX6",
        "outputId": "db341a03-a8a0-4bfe-917c-2012d6d30e03"
      },
      "execution_count": 59,
      "outputs": [
        {
          "output_type": "execute_result",
          "data": {
            "text/plain": [
              "3.141592653589793"
            ]
          },
          "metadata": {},
          "execution_count": 59
        }
      ]
    },
    {
      "cell_type": "code",
      "source": [
        "pi = 3.141592653589793\n",
        "\n",
        "a = \"%f\" % pi\n",
        "b = \"%.2f\" % pi\n",
        "c = \"%10.2f\" % pi\n",
        "d = \"%010.2f\" % pi\n",
        "e = \"%-10.2f\" % pi\n",
        "f = \"%+10.2f\" % pi\n",
        "\n",
        "print(a)\n",
        "print(b)\n",
        "print(c)\n",
        "print(d)\n",
        "print(e)\n",
        "print(f)"
      ],
      "metadata": {
        "colab": {
          "base_uri": "https://localhost:8080/"
        },
        "id": "CXR_saC71ydp",
        "outputId": "2a10d8b2-7507-427e-97ae-c6e46842496a"
      },
      "execution_count": 60,
      "outputs": [
        {
          "output_type": "stream",
          "name": "stdout",
          "text": [
            "3.141593\n",
            "3.14\n",
            "      3.14\n",
            "0000003.14\n",
            "3.14      \n",
            "     +3.14\n"
          ]
        }
      ]
    },
    {
      "cell_type": "code",
      "source": [
        "# %[너비].[정밀도]f : [너비] 자리에 출력할 숫자의 자리수를, [정밀도] 자리에 출력할 소수점 이하 자리수를 지정합니다."
      ],
      "metadata": {
        "colab": {
          "base_uri": "https://localhost:8080/"
        },
        "id": "aZL70I7S3ceb",
        "outputId": "7499d391-f18a-470b-aeb2-1268f4f5569d"
      },
      "execution_count": null,
      "outputs": [
        {
          "output_type": "stream",
          "name": "stdout",
          "text": [
            "3.141593\n",
            "3.14\n",
            "      3.14\n",
            "0000003.14\n",
            "3.14      \n",
            "     +3.14\n"
          ]
        }
      ]
    }
  ]
}