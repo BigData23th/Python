{
  "cells": [
    {
      "cell_type": "markdown",
      "metadata": {
        "colab_type": "text",
        "id": "view-in-github"
      },
      "source": [
        "<a href=\"https://colab.research.google.com/github/Yeaaaaaaah/Python_PJW/blob/main/submission/Yeaaaaaaah/ch01_03_%EB%A7%88%ED%81%AC%EB%8B%A4%EC%9A%B4.ipynb\" target=\"_parent\"><img src=\"https://colab.research.google.com/assets/colab-badge.svg\" alt=\"Open In Colab\"/></a>"
      ]
    },
    {
      "attachments": {},
      "cell_type": "markdown",
      "metadata": {
        "id": "QKfWxvb859Lx"
      },
      "source": [
        "# 제목 (Headline)\n",
        "## 2단계 제목\n",
        "### 3단계 제목\n",
        "#### 4단계\n",
        "##### 5단계######"
      ]
    },
    {
      "cell_type": "markdown",
      "metadata": {
        "id": "FQ0l3ZBC6dI1"
      },
      "source": [
        "수평선\n",
        "---\n",
        "텍스트에 ---를 바로 붙이면 `#`과 같은 효과\n",
        "\n",
        "(수평선)\n",
        "\n",
        "---"
      ]
    },
    {
      "cell_type": "markdown",
      "metadata": {
        "id": "h3JiQTSu6tlr"
      },
      "source": [
        "줄바꿈<br>줄바꿈"
      ]
    },
    {
      "cell_type": "markdown",
      "metadata": {
        "id": "KMohBA5T60As"
      },
      "source": [
        "**굵게**\n",
        "*기울게*\n",
        "__굵게__\n",
        "_기울게_\n",
        "~~취소선~~\n",
        "<u>밑줄</u>\n",
        "<mark>형광펜</mark>"
      ]
    },
    {
      "cell_type": "markdown",
      "metadata": {
        "id": "is5Jg_uu7FJY"
      },
      "source": [
        "> 인용문\n",
        ">> 인용문 안에 인용문\n",
        ">>> 인용문 안에 인용문 안에 인용문\n",
        ">>>> 인용문 안에 인용문 안에 인용문 안에 인용문"
      ]
    },
    {
      "cell_type": "markdown",
      "metadata": {
        "id": "3l8ckSiK7TqW"
      },
      "source": [
        "순서가 없는 리스트\n",
        "* 사과\n",
        "* 배\n",
        "* 자두\n",
        "\n",
        "순서가 있는 리스트\n",
        "1. 파이썬\n",
        "2. 자바\n",
        "3. SQL\n",
        "\n",
        "순서가 있는 리스트2\n",
        "1. 파이썬\n",
        "1. 자바\n",
        "1. SQL\n",
        "\n",
        "들여쓰기\n",
        "* 사과\n",
        "    * 껍질\n",
        "        * 볶음\n",
        "* 위\n",
        "        아래 (Tab x 2 = 코드블록)\n",
        "        **굵게**\n",
        "\n",
        "코드블록 -> 이 안에 꾸며주는 마크다운 문법 무시"
      ]
    },
    {
      "cell_type": "markdown",
      "metadata": {
        "id": "A7PIkyan8RZu"
      },
      "source": [
        "코드 블록\n",
        "\n",
        "한 줄 코드\n",
        "`print('Hello World')` - 음영처리\n",
        "\n",
        "여러 줄 코드블록\n",
        "\n",
        "```\n",
        "print(\"hello\")\n",
        "print(\"world\")\n",
        "```"
      ]
    },
    {
      "cell_type": "markdown",
      "metadata": {
        "id": "YkWetyXX8uKs"
      },
      "source": [
        "|책의 제목|작가|출판일|\n",
        "|-|-|-|\n",
        "|장발장|변영인3세|2022.09.01|\n",
        "|파이썬|김철수27세|1971.09.01|"
      ]
    },
    {
      "cell_type": "markdown",
      "metadata": {
        "id": "8jTbOyay9MIY"
      },
      "source": [
        "|책의 제목|작가|출판일|\n",
        "|-:|:-:|:-|\n",
        "|**장발장**|변영인3세|2022.09.01|\n",
        "|파이썬|~김철수27세~|*1971.09.01*|"
      ]
    },
    {
      "cell_type": "markdown",
      "metadata": {
        "id": "-Zahx9sz9XgB"
      },
      "source": [
        "[표시될 텍스트](https://naver.com)<br>\n",
        "![이미지에 대한 설명](https://ouch-cdn2.icons8.com/llLHKo43gAdT2ZjeLQl1u4V_Gt5c8h59In2dgFsJXg0/rs:fit:256:256/czM6Ly9pY29uczgu/b3VjaC1wcm9kLmFz/c2V0cy9wbmcvNjY0/LzRiZTZiMzkyLTlk/NWUtNDA2Zi04ZTAx/LWRlODYzMjQ2YzBi/My5wbmc.png)"
      ]
    },
    {
      "cell_type": "markdown",
      "metadata": {
        "id": "t4ZXZnKV99Ek"
      },
      "source": [
        "- [ ] 체크박스\n",
        "- [x] 체크된 체크박스\n",
        "\n",
        "latex"
      ]
    }
  ],
  "metadata": {
    "colab": {
      "include_colab_link": true,
      "provenance": []
    },
    "kernelspec": {
      "display_name": "Python 3",
      "name": "python3"
    },
    "language_info": {
      "name": "python"
    }
  },
  "nbformat": 4,
  "nbformat_minor": 0
}
