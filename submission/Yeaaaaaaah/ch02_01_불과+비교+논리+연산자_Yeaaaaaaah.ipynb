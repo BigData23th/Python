{
  "nbformat": 4,
  "nbformat_minor": 0,
  "metadata": {
    "colab": {
      "provenance": [],
      "toc_visible": true,
      "include_colab_link": true
    },
    "kernelspec": {
      "name": "python3",
      "display_name": "Python 3"
    },
    "language_info": {
      "name": "python"
    }
  },
  "cells": [
    {
      "cell_type": "markdown",
      "metadata": {
        "id": "view-in-github",
        "colab_type": "text"
      },
      "source": [
        "<a href=\"https://colab.research.google.com/github/Yeaaaaaaah/Python-PJW/blob/main/submission/Yeaaaaaaah/ch02_01_%EB%B6%88%EA%B3%BC%2B%EB%B9%84%EA%B5%90%2B%EB%85%BC%EB%A6%AC%2B%EC%97%B0%EC%82%B0%EC%9E%90_Yeaaaaaaah.ipynb\" target=\"_parent\"><img src=\"https://colab.research.google.com/assets/colab-badge.svg\" alt=\"Open In Colab\"/></a>"
      ]
    },
    {
      "cell_type": "markdown",
      "source": [
        "# 불과 비교, 논리 연산자"
      ],
      "metadata": {
        "id": "v6Jmzk1w7z3P"
      }
    },
    {
      "cell_type": "markdown",
      "source": [
        "## 불과 비교 연산자 사용하기"
      ],
      "metadata": {
        "id": "bkxhmLXW744g"
      }
    },
    {
      "cell_type": "markdown",
      "source": [
        "* 프로그래밍을 하다 보면 참, 거짓을 판단해야 할 때가 많습니다. 참은 무엇인가가 맞다, 거짓은 틀리다(아니다)를 표현합니다.\n",
        "\n",
        "* 이번에는 참(True), 거짓(False)을 나타내는 불(boolean)을 알아보겠습니다. 그리고 두 값의 관계를 판단하는 비교 연산자와 두 값의 논릿값을 판단하는 논리 연산자도 함께 알아보겠습니다.\n",
        "\n",
        "* 여기서 비교, 논리 연산자는 프로그래밍에서 매우 광범위하게 쓰입니다. 특히 앞으로 배울 if, while 구문을 작성할 때 비교, 논리 연산자를 자주 사용합니다."
      ],
      "metadata": {
        "id": "t2CK-l1N78CN"
      }
    },
    {
      "cell_type": "code",
      "execution_count": 6,
      "metadata": {
        "colab": {
          "base_uri": "https://localhost:8080/"
        },
        "id": "ransbEYH7vej",
        "outputId": "04160379-4147-4f84-a9ba-9922ce98bd87"
      },
      "outputs": [
        {
          "output_type": "execute_result",
          "data": {
            "text/plain": [
              "(True, False)"
            ]
          },
          "metadata": {},
          "execution_count": 6
        }
      ],
      "source": [
        "# 불은 True, False로 표현하며 1, 3.6, 'Python'처럼 값의 일종\n",
        "True, False # 첫글자 대문자"
      ]
    },
    {
      "cell_type": "markdown",
      "source": [
        "### 비교 연산자의 판단 결과"
      ],
      "metadata": {
        "id": "p9NtI5JO8HeC"
      }
    },
    {
      "cell_type": "markdown",
      "source": [
        "* 파이썬에서는 비교 연산자와 논리 연산자의 판단 결과로 True, False를 사용합니다. 즉, 비교 결과가 맞으면 True, 아니면 False입니다."
      ],
      "metadata": {
        "id": "asgRbPl_8K-2"
      }
    },
    {
      "cell_type": "code",
      "source": [
        "5<10"
      ],
      "metadata": {
        "colab": {
          "base_uri": "https://localhost:8080/"
        },
        "id": "1meAx_QL8FDD",
        "outputId": "7ae57e74-5e8a-4461-d7a6-6f01b13976ac"
      },
      "execution_count": 10,
      "outputs": [
        {
          "output_type": "execute_result",
          "data": {
            "text/plain": [
              "True"
            ]
          },
          "metadata": {},
          "execution_count": 10
        }
      ]
    },
    {
      "cell_type": "markdown",
      "source": [
        "### 숫자가 같은지 다른지 비교하기"
      ],
      "metadata": {
        "id": "l93GfkAK8Rwp"
      }
    },
    {
      "cell_type": "markdown",
      "source": [
        "* 이제 두 숫자가 같은지 또는 다른지 비교해보겠습니다. 두 숫자가 같은지 비교할 때는 ==(equal), 다른지 비교할 때는 !=(not equal)을 사용합니다."
      ],
      "metadata": {
        "id": "lddOoWJi8TyS"
      }
    },
    {
      "cell_type": "code",
      "source": [
        "1==1"
      ],
      "metadata": {
        "colab": {
          "base_uri": "https://localhost:8080/"
        },
        "id": "k4JB04rd8Rbg",
        "outputId": "0984f67c-2de1-4c98-84ab-f50a4913078a"
      },
      "execution_count": 12,
      "outputs": [
        {
          "output_type": "execute_result",
          "data": {
            "text/plain": [
              "True"
            ]
          },
          "metadata": {},
          "execution_count": 12
        }
      ]
    },
    {
      "cell_type": "code",
      "source": [
        "1!=2"
      ],
      "metadata": {
        "colab": {
          "base_uri": "https://localhost:8080/"
        },
        "id": "Yq7XeDsS8Mm4",
        "outputId": "62257330-3054-4476-ca46-f2f66020bc43"
      },
      "execution_count": 13,
      "outputs": [
        {
          "output_type": "execute_result",
          "data": {
            "text/plain": [
              "True"
            ]
          },
          "metadata": {},
          "execution_count": 13
        }
      ]
    },
    {
      "cell_type": "markdown",
      "source": [
        "* 10과 10은 같으므로 True, 10과 5는 다르므로 True가 나옵니다. 파이썬에서 두 값이 같은지 비교할 때는 =이 아닌 ==을 사용합니다. 왜냐하면 =은 할당 연산자로 이미 사용되고 있기 때문입니다."
      ],
      "metadata": {
        "id": "A7ZPskZG8ciB"
      }
    },
    {
      "cell_type": "markdown",
      "source": [
        "### 문자열이 같은지 다른지 비교하기"
      ],
      "metadata": {
        "id": "F-qZPpwZ8fVj"
      }
    },
    {
      "cell_type": "markdown",
      "source": [
        "숫자뿐만 아니라 문자열도 ==와 != 연산자로 비교할 수 있습니다. 이때 문자열은 비교할 때 대소문자를 구분합니다. 다음과 같이 단어가 같아도 대소문자가 다르면 다른 문자열로 판단합니다."
      ],
      "metadata": {
        "id": "gVpeqKpi8kzR"
      }
    },
    {
      "cell_type": "code",
      "source": [
        "'kim' == 'kim'"
      ],
      "metadata": {
        "colab": {
          "base_uri": "https://localhost:8080/"
        },
        "id": "a8gUw9ax8bF2",
        "outputId": "6d77cc92-72d1-4cae-9a89-f8147235c2b3"
      },
      "execution_count": 15,
      "outputs": [
        {
          "output_type": "execute_result",
          "data": {
            "text/plain": [
              "True"
            ]
          },
          "metadata": {},
          "execution_count": 15
        }
      ]
    },
    {
      "cell_type": "code",
      "source": [
        "'Jim' == 'jim'"
      ],
      "metadata": {
        "colab": {
          "base_uri": "https://localhost:8080/"
        },
        "id": "eXD8KjlE8pTv",
        "outputId": "7b9b749f-c272-44ad-caa0-1ef4c614f179"
      },
      "execution_count": 16,
      "outputs": [
        {
          "output_type": "execute_result",
          "data": {
            "text/plain": [
              "False"
            ]
          },
          "metadata": {},
          "execution_count": 16
        }
      ]
    },
    {
      "cell_type": "code",
      "source": [],
      "metadata": {
        "colab": {
          "base_uri": "https://localhost:8080/"
        },
        "id": "ru8eZuDm8qGX",
        "outputId": "ffe6b5ec-3105-47ae-8d17-6c80cc22dd29"
      },
      "execution_count": null,
      "outputs": [
        {
          "output_type": "execute_result",
          "data": {
            "text/plain": [
              "True"
            ]
          },
          "metadata": {},
          "execution_count": 7
        }
      ]
    },
    {
      "cell_type": "markdown",
      "source": [
        "### 부등호 사용하기"
      ],
      "metadata": {
        "id": "j1anba4g8rF4"
      }
    },
    {
      "cell_type": "markdown",
      "source": [
        "* 부등호는 수학 시간에 배운 내용과 같습니다. 큰지, 작은지, 크거나 같은지, 작거나 같은지를 판단해봅니다."
      ],
      "metadata": {
        "id": "frEVRs3e8xp7"
      }
    },
    {
      "cell_type": "code",
      "source": [
        "1>5"
      ],
      "metadata": {
        "colab": {
          "base_uri": "https://localhost:8080/"
        },
        "id": "V_R7oqqA8yxX",
        "outputId": "cf301d46-9ab8-4d5a-cd2b-9eab46b9ebfa"
      },
      "execution_count": 18,
      "outputs": [
        {
          "output_type": "execute_result",
          "data": {
            "text/plain": [
              "False"
            ]
          },
          "metadata": {},
          "execution_count": 18
        }
      ]
    },
    {
      "cell_type": "code",
      "source": [
        "1<=2"
      ],
      "metadata": {
        "colab": {
          "base_uri": "https://localhost:8080/"
        },
        "id": "9Bqhy0zn82gO",
        "outputId": "39bc778f-d181-4640-e3ad-0898359f9b51"
      },
      "execution_count": 21,
      "outputs": [
        {
          "output_type": "execute_result",
          "data": {
            "text/plain": [
              "True"
            ]
          },
          "metadata": {},
          "execution_count": 21
        }
      ]
    },
    {
      "cell_type": "code",
      "source": [],
      "metadata": {
        "colab": {
          "base_uri": "https://localhost:8080/"
        },
        "id": "L4jCEqpJ83dK",
        "outputId": "8bef8d74-7819-4f07-f3da-b856b111b186"
      },
      "execution_count": null,
      "outputs": [
        {
          "output_type": "execute_result",
          "data": {
            "text/plain": [
              "True"
            ]
          },
          "metadata": {},
          "execution_count": 10
        }
      ]
    },
    {
      "cell_type": "code",
      "source": [],
      "metadata": {
        "colab": {
          "base_uri": "https://localhost:8080/"
        },
        "id": "DTGWPeUj84EC",
        "outputId": "92d5a894-defb-4ade-d607-e5d5daa2ef72"
      },
      "execution_count": null,
      "outputs": [
        {
          "output_type": "execute_result",
          "data": {
            "text/plain": [
              "True"
            ]
          },
          "metadata": {},
          "execution_count": 11
        }
      ]
    },
    {
      "cell_type": "markdown",
      "source": [
        "* 여기서 비교 기준은 첫 번째 값입니다. 따라서 첫 번째 값보다 큰지, 작은지처럼 읽습니다. 항상 이점을 기억해두세요.\n",
        "\n",
        "* 특히 부등호를 말로 설명할 때 >은 초과, <은 미만, >=은 이상, <=은 이하라고도 합니다. 그리고 >, <은 비교할 값과 같으면 무조건 거짓입니다. 하지만 >=, <=은 비교할 값과 같으면 참입니다. 따라서 이상, 이하는 비교할 값도 포함된다는 점이 중요합니다."
      ],
      "metadata": {
        "id": "5PrlTb6v846d"
      }
    },
    {
      "cell_type": "markdown",
      "source": [
        "### 객체가 같은지 다른지 비교하기"
      ],
      "metadata": {
        "id": "4htPUGrS9Ayr"
      }
    },
    {
      "cell_type": "markdown",
      "source": [
        "* 이번에는 is와 is not입니다. 같다는 ==, 다르다는 !=이 이미 있는데 왜 is, is not을 만들었을까요? is, is not도 같다, 다르다지만 ==, !=는 값 자체를 비교하고, is, is not은 객체(object)를 비교합니다."
      ],
      "metadata": {
        "id": "XMeNSti39Djj"
      }
    },
    {
      "cell_type": "code",
      "source": [
        "1 == 1.0"
      ],
      "metadata": {
        "colab": {
          "base_uri": "https://localhost:8080/"
        },
        "id": "22ODPs_k88ZK",
        "outputId": "9258c9a6-5b33-4a39-ac45-642e0a61c97b"
      },
      "execution_count": 22,
      "outputs": [
        {
          "output_type": "execute_result",
          "data": {
            "text/plain": [
              "True"
            ]
          },
          "metadata": {},
          "execution_count": 22
        }
      ]
    },
    {
      "cell_type": "code",
      "source": [
        "1 is 1.0"
      ],
      "metadata": {
        "colab": {
          "base_uri": "https://localhost:8080/"
        },
        "id": "C2qiVURH9MXg",
        "outputId": "a21c2d0a-36c7-472f-ba58-2d0e46094124"
      },
      "execution_count": 23,
      "outputs": [
        {
          "output_type": "stream",
          "name": "stderr",
          "text": [
            "<>:1: SyntaxWarning: \"is\" with a literal. Did you mean \"==\"?\n",
            "<>:1: SyntaxWarning: \"is\" with a literal. Did you mean \"==\"?\n",
            "<ipython-input-23-2ebf4c947f31>:1: SyntaxWarning: \"is\" with a literal. Did you mean \"==\"?\n",
            "  1 is 1.0\n"
          ]
        },
        {
          "output_type": "execute_result",
          "data": {
            "text/plain": [
              "False"
            ]
          },
          "metadata": {},
          "execution_count": 23
        }
      ]
    },
    {
      "cell_type": "code",
      "source": [
        "1 is 1"
      ],
      "metadata": {
        "colab": {
          "base_uri": "https://localhost:8080/"
        },
        "id": "U7WvRzdb9aYS",
        "outputId": "34363a95-6a37-4a37-993d-6480ae41ae1b"
      },
      "execution_count": 24,
      "outputs": [
        {
          "output_type": "stream",
          "name": "stderr",
          "text": [
            "<>:1: SyntaxWarning: \"is\" with a literal. Did you mean \"==\"?\n",
            "<>:1: SyntaxWarning: \"is\" with a literal. Did you mean \"==\"?\n",
            "<ipython-input-24-c4ba21148a2b>:1: SyntaxWarning: \"is\" with a literal. Did you mean \"==\"?\n",
            "  1 is 1\n"
          ]
        },
        {
          "output_type": "execute_result",
          "data": {
            "text/plain": [
              "True"
            ]
          },
          "metadata": {},
          "execution_count": 24
        }
      ]
    },
    {
      "cell_type": "code",
      "source": [
        "1 is not 10"
      ],
      "metadata": {
        "colab": {
          "base_uri": "https://localhost:8080/"
        },
        "id": "VyW0H8L09NEs",
        "outputId": "09602bda-20db-46a3-eccd-6ccc8092bcef"
      },
      "execution_count": 25,
      "outputs": [
        {
          "output_type": "stream",
          "name": "stderr",
          "text": [
            "<>:1: SyntaxWarning: \"is not\" with a literal. Did you mean \"!=\"?\n",
            "<>:1: SyntaxWarning: \"is not\" with a literal. Did you mean \"!=\"?\n",
            "<ipython-input-25-c1126f8c2076>:1: SyntaxWarning: \"is not\" with a literal. Did you mean \"!=\"?\n",
            "  1 is not 10\n"
          ]
        },
        {
          "output_type": "execute_result",
          "data": {
            "text/plain": [
              "True"
            ]
          },
          "metadata": {},
          "execution_count": 25
        }
      ]
    },
    {
      "cell_type": "markdown",
      "source": [
        "* 1과 1.0은 정수와 실수라는 차이점이 있지만 값은 같습니다. 따라서 ==로 비교해보면 True가 나옵니다. 하지만 1과 1.0을 is로 비교해보면 False가 나옵니다. 왜냐하면 1은 정수 객체, 1.0은 실수 객체이므로 두 객체는 서로 다르기 때문입니다. 물론 1과 1.0을 is not으로 비교하면 True가 나오겠죠?"
      ],
      "metadata": {
        "id": "Uf7SCw7k9VFP"
      }
    },
    {
      "cell_type": "markdown",
      "source": [
        "## 논리 연산자 사용하기"
      ],
      "metadata": {
        "id": "J6XyB2i79gNT"
      }
    },
    {
      "cell_type": "markdown",
      "source": [
        "* 이번에는 논리 연산자를 사용해보겠습니다. 논리 연산자는 and, or, not이 있는데 먼저 and입니다.\n",
        "* `a and b`"
      ],
      "metadata": {
        "id": "zzj7078Y9tUE"
      }
    },
    {
      "cell_type": "code",
      "source": [
        "True and True, True and False, False and False, True & True"
      ],
      "metadata": {
        "colab": {
          "base_uri": "https://localhost:8080/"
        },
        "id": "a46F0OEO9uRd",
        "outputId": "dcf4f790-9409-4faf-9fe9-570c0731239b"
      },
      "execution_count": 34,
      "outputs": [
        {
          "output_type": "execute_result",
          "data": {
            "text/plain": [
              "(True, False, False, True)"
            ]
          },
          "metadata": {},
          "execution_count": 34
        }
      ]
    },
    {
      "cell_type": "markdown",
      "source": [
        "* and는 두 값이 모두 True라야 True입니다. 하나라도 False이면 False가 나옵니다."
      ],
      "metadata": {
        "id": "5NY3VVAY99Ge"
      }
    },
    {
      "cell_type": "markdown",
      "source": [
        "\n",
        "* 이번에는 or입니다.\n",
        "* `a or b`"
      ],
      "metadata": {
        "id": "l1cwZ-n-9_Az"
      }
    },
    {
      "cell_type": "code",
      "source": [
        "True or True, True or False, False or False, True | True"
      ],
      "metadata": {
        "colab": {
          "base_uri": "https://localhost:8080/"
        },
        "id": "dsJ1V5lR9869",
        "outputId": "cdf1239d-4eb3-4656-8759-d2b02dd0ad97"
      },
      "execution_count": 35,
      "outputs": [
        {
          "output_type": "execute_result",
          "data": {
            "text/plain": [
              "(True, True, False, True)"
            ]
          },
          "metadata": {},
          "execution_count": 35
        }
      ]
    },
    {
      "cell_type": "markdown",
      "source": [
        "* or는 두 값 중 하나라도 True이면 True입니다. 두 값이 모두 False라야 False가 되죠."
      ],
      "metadata": {
        "id": "zYArLXR4-P9T"
      }
    },
    {
      "cell_type": "markdown",
      "source": [
        "* 마지막으로 not입니다.\n",
        "* `not x`"
      ],
      "metadata": {
        "id": "20iv4w1y-SX4"
      }
    },
    {
      "cell_type": "code",
      "source": [
        "not True, not False, "
      ],
      "metadata": {
        "colab": {
          "base_uri": "https://localhost:8080/"
        },
        "id": "7XVanr2R97nj",
        "outputId": "0e9d3a6d-c0b4-4e41-958e-a4e7e3a47a2e"
      },
      "execution_count": 37,
      "outputs": [
        {
          "output_type": "execute_result",
          "data": {
            "text/plain": [
              "(False, True)"
            ]
          },
          "metadata": {},
          "execution_count": 37
        }
      ]
    },
    {
      "cell_type": "markdown",
      "source": [
        "* not은 논릿값을 뒤집습니다. 그래서 not True는 False가 되고, not False는 True가 됩니다."
      ],
      "metadata": {
        "id": "XFSeIUk9-cVw"
      }
    },
    {
      "cell_type": "markdown",
      "source": [
        "* 여기서 and, or, not 논리 연산자가 식 하나에 들어있으면 not, and, or 순으로 판단합니다."
      ],
      "metadata": {
        "id": "iN8vhwC9-g-C"
      }
    },
    {
      "cell_type": "code",
      "source": [
        "True and not True or not False"
      ],
      "metadata": {
        "colab": {
          "base_uri": "https://localhost:8080/"
        },
        "id": "E3uX3i4--jGs",
        "outputId": "f4872281-9a72-4cb8-ee1e-4f96b143c533"
      },
      "execution_count": 38,
      "outputs": [
        {
          "output_type": "execute_result",
          "data": {
            "text/plain": [
              "True"
            ]
          },
          "metadata": {},
          "execution_count": 38
        }
      ]
    },
    {
      "cell_type": "markdown",
      "source": [
        "* 식이 꼬여 있어서 상당히 헷갈리죠? 가장 먼저 not True와 not False를 판단하여 False and False or True가 됩니다.\n",
        "* 그다음에 False and False를 판단하여 False가 나와서 False or True가 되므로 최종 결과는 True가 됩니다."
      ],
      "metadata": {
        "id": "uFpZ6dYg-k65"
      }
    },
    {
      "cell_type": "code",
      "source": [
        "True and not True or not False"
      ],
      "metadata": {
        "colab": {
          "base_uri": "https://localhost:8080/"
        },
        "id": "Kz_XIdpN-p7y",
        "outputId": "bc259f63-53c5-41e8-a4f9-6702db0b450e"
      },
      "execution_count": null,
      "outputs": [
        {
          "output_type": "execute_result",
          "data": {
            "text/plain": [
              "True"
            ]
          },
          "metadata": {},
          "execution_count": 28
        }
      ]
    },
    {
      "cell_type": "code",
      "source": [
        "# 이 식을 괄호로 표현하면 다음과 같은 모양이 됩니다.\n",
        "(True and not True) or not False"
      ],
      "metadata": {
        "colab": {
          "base_uri": "https://localhost:8080/"
        },
        "id": "c-BL3vTw-sa7",
        "outputId": "43003f13-c233-4b46-ecdc-1274a3dda6e2"
      },
      "execution_count": 40,
      "outputs": [
        {
          "output_type": "execute_result",
          "data": {
            "text/plain": [
              "True"
            ]
          },
          "metadata": {},
          "execution_count": 40
        }
      ]
    },
    {
      "cell_type": "markdown",
      "source": [
        "* 순서가 헷갈릴 때는 괄호로 판단 순서를 명확히 나타내 주는 것이 좋습니다."
      ],
      "metadata": {
        "id": "4ebLX-TT-yMc"
      }
    },
    {
      "cell_type": "markdown",
      "source": [
        "### 논리 연산자와 비교 연산자를 함께 사용하기"
      ],
      "metadata": {
        "id": "KT1_pBHh-1NG"
      }
    },
    {
      "cell_type": "code",
      "source": [
        "10 == 10 and 10 !=5 #논리 연산자 (우선) > 비교연산자\n",
        "(10 == 10) and (10 !=5)\n",
        "True and True"
      ],
      "metadata": {
        "colab": {
          "base_uri": "https://localhost:8080/"
        },
        "id": "uW8ffx3y-wC8",
        "outputId": "197b69b3-eb5c-45d0-daf0-36ba7e70796b"
      },
      "execution_count": 39,
      "outputs": [
        {
          "output_type": "execute_result",
          "data": {
            "text/plain": [
              "True"
            ]
          },
          "metadata": {},
          "execution_count": 39
        }
      ]
    },
    {
      "cell_type": "code",
      "source": [],
      "metadata": {
        "colab": {
          "base_uri": "https://localhost:8080/"
        },
        "id": "YxgyyDIJ-8Bm",
        "outputId": "5a1b1e4e-ad28-41d0-9537-e98767bc8579"
      },
      "execution_count": null,
      "outputs": [
        {
          "output_type": "execute_result",
          "data": {
            "text/plain": [
              "True"
            ]
          },
          "metadata": {},
          "execution_count": 31
        }
      ]
    },
    {
      "cell_type": "code",
      "source": [],
      "metadata": {
        "colab": {
          "base_uri": "https://localhost:8080/"
        },
        "id": "tqyBYVeG-8lf",
        "outputId": "3a5b7ad5-701e-482d-f1bc-8b39fee2dbf8"
      },
      "execution_count": null,
      "outputs": [
        {
          "output_type": "execute_result",
          "data": {
            "text/plain": [
              "False"
            ]
          },
          "metadata": {},
          "execution_count": 32
        }
      ]
    },
    {
      "cell_type": "code",
      "source": [
        "not 1 is 1.0 "
      ],
      "metadata": {
        "colab": {
          "base_uri": "https://localhost:8080/"
        },
        "id": "SBRA0zPi-9Hs",
        "outputId": "5a23289e-5226-44bf-fd3c-142e036e325e"
      },
      "execution_count": 42,
      "outputs": [
        {
          "output_type": "stream",
          "name": "stderr",
          "text": [
            "<>:1: SyntaxWarning: \"is not\" with a literal. Did you mean \"!=\"?\n",
            "<>:1: SyntaxWarning: \"is not\" with a literal. Did you mean \"!=\"?\n",
            "<ipython-input-42-2380a65ac38e>:1: SyntaxWarning: \"is not\" with a literal. Did you mean \"!=\"?\n",
            "  not 1 is 1.0\n"
          ]
        },
        {
          "output_type": "execute_result",
          "data": {
            "text/plain": [
              "True"
            ]
          },
          "metadata": {},
          "execution_count": 42
        }
      ]
    },
    {
      "cell_type": "markdown",
      "source": [
        "* 비교 연산자로 비교한 결과를 논리 연산자로 다시 판단했습니다. 이때는 비교 연산자(is, is not, ==, !=, <, >, <=, >=)를 먼저 판단하고 논리 연산자(not, and, or)를 판단하게 됩니다"
      ],
      "metadata": {
        "id": "2l0QBaGk_DKD"
      }
    },
    {
      "cell_type": "markdown",
      "source": [
        "### 정수, 실수, 문자열을 불로 만들기"
      ],
      "metadata": {
        "id": "F1Gdb-Zn_GlV"
      }
    },
    {
      "cell_type": "markdown",
      "source": [
        "* 정수, 실수, 문자열을 불로 만들 때는 bool을 사용하면 됩니다. 이때 정수 1은 True, 0은 False입니다. 만약 문자열의 내용이 'False'라도 불로 만들면 True입니다. 문자열의 내용 자체는 판단하지 않으며 값이 있으면 True입니다."
      ],
      "metadata": {
        "id": "0gmm_J-r_NUn"
      }
    },
    {
      "cell_type": "code",
      "source": [
        "bool(1), bool(0), bool(101010)"
      ],
      "metadata": {
        "colab": {
          "base_uri": "https://localhost:8080/"
        },
        "id": "mNM0mneu_PdL",
        "outputId": "cc9c2a4b-13e2-4186-ae04-e69ff0f8dc77"
      },
      "execution_count": 41,
      "outputs": [
        {
          "output_type": "execute_result",
          "data": {
            "text/plain": [
              "(True, False, True)"
            ]
          },
          "metadata": {},
          "execution_count": 41
        }
      ]
    },
    {
      "cell_type": "code",
      "source": [
        "bool(\"r\"), bool(\"\") # 길이가 있는 문자열은 True "
      ],
      "metadata": {
        "colab": {
          "base_uri": "https://localhost:8080/"
        },
        "id": "ufDOIR5z_TIH",
        "outputId": "444f2b96-34ed-4207-ab8a-d76a6e4b1078"
      },
      "execution_count": 44,
      "outputs": [
        {
          "output_type": "execute_result",
          "data": {
            "text/plain": [
              "(True, False)"
            ]
          },
          "metadata": {},
          "execution_count": 44
        }
      ]
    }
  ]
}