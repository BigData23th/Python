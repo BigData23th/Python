{
  "nbformat": 4,
  "nbformat_minor": 0,
  "metadata": {
    "colab": {
      "provenance": [],
      "include_colab_link": true
    },
    "kernelspec": {
      "name": "python3",
      "display_name": "Python 3"
    },
    "language_info": {
      "name": "python"
    }
  },
  "cells": [
    {
      "cell_type": "markdown",
      "metadata": {
        "id": "view-in-github",
        "colab_type": "text"
      },
      "source": [
        "<a href=\"https://colab.research.google.com/github/Yeaaaaaaah/Python-PJW/blob/main/submission/Yeaaaaaaah/ch02_09_%EB%AC%B8%EC%9E%90%EC%97%B4_%EC%84%9C%EC%8B%9D.ipynb\" target=\"_parent\"><img src=\"https://colab.research.google.com/assets/colab-badge.svg\" alt=\"Open In Colab\"/></a>"
      ]
    },
    {
      "cell_type": "markdown",
      "source": [
        "# 문자열 서식"
      ],
      "metadata": {
        "id": "QiBSq5Bq143A"
      }
    },
    {
      "cell_type": "markdown",
      "source": [
        "파이썬에서 문자열 포맷팅을 할 때는 f-string, format 메소드, 서식 지정자를 사용할 수 있습니다."
      ],
      "metadata": {
        "id": "wegxJ51w16PT"
      }
    },
    {
      "cell_type": "markdown",
      "source": [
        "## f-string"
      ],
      "metadata": {
        "id": "N0-o1WfZ1_n_"
      }
    },
    {
      "cell_type": "markdown",
      "source": [
        "f-string은 파이썬 3.6 이후부터 사용 가능한 문자열 포맷팅 방법 중 하나입니다. f-string을 사용하면 문자열 안에서 변수의 값을 간단하게 삽입할 수 있으며, 이를 통해 가독성과 코드 작성의 편의성이 크게 향상됩니다."
      ],
      "metadata": {
        "id": "hiZyEX3h2CfD"
      }
    },
    {
      "cell_type": "code",
      "execution_count": 2,
      "metadata": {
        "colab": {
          "base_uri": "https://localhost:8080/"
        },
        "id": "yALOnLZtvlNp",
        "outputId": "fe6a2c79-3f41-4601-9a87-69613635aa45"
      },
      "outputs": [
        {
          "output_type": "stream",
          "name": "stdout",
          "text": [
            "이름: Alice 나이: 25 세\n"
          ]
        }
      ],
      "source": [
        "name = \"Alice\"\n",
        "age = 25\n",
        "print(\"이름:\", name, \"나이:\", age, \"세\")"
      ]
    },
    {
      "cell_type": "code",
      "source": [
        "\"이름:\" + name +  \", 나이:\" + str(age) + \"세\""
      ],
      "metadata": {
        "colab": {
          "base_uri": "https://localhost:8080/",
          "height": 35
        },
        "id": "rCZjbJrvrpcQ",
        "outputId": "ef68b6dd-5f90-43ed-c38a-201e326a1523"
      },
      "execution_count": 6,
      "outputs": [
        {
          "output_type": "execute_result",
          "data": {
            "text/plain": [
              "'이름:Alice, 나이:25세'"
            ],
            "application/vnd.google.colaboratory.intrinsic+json": {
              "type": "string"
            }
          },
          "metadata": {},
          "execution_count": 6
        }
      ]
    },
    {
      "cell_type": "code",
      "source": [
        "f\"이름 : {name}, 나이: {age}세\" #기본적으로 str로 변화하는 옵션이 들어있다."
      ],
      "metadata": {
        "colab": {
          "base_uri": "https://localhost:8080/",
          "height": 35
        },
        "id": "7-QO0V0EsMwa",
        "outputId": "2cbb44d6-261b-4123-dd44-614b2a69199c"
      },
      "execution_count": 8,
      "outputs": [
        {
          "output_type": "execute_result",
          "data": {
            "text/plain": [
              "'이름 : Alice, 나이: 25세'"
            ],
            "application/vnd.google.colaboratory.intrinsic+json": {
              "type": "string"
            }
          },
          "metadata": {},
          "execution_count": 8
        }
      ]
    },
    {
      "cell_type": "code",
      "source": [
        "f\"{age:d}\" #decimal"
      ],
      "metadata": {
        "colab": {
          "base_uri": "https://localhost:8080/",
          "height": 35
        },
        "id": "jJUsw-XTsk8d",
        "outputId": "5c9a18bb-6e01-4ee1-ee4b-3ea7764569b9"
      },
      "execution_count": 9,
      "outputs": [
        {
          "output_type": "execute_result",
          "data": {
            "text/plain": [
              "'25'"
            ],
            "application/vnd.google.colaboratory.intrinsic+json": {
              "type": "string"
            }
          },
          "metadata": {},
          "execution_count": 9
        }
      ]
    },
    {
      "cell_type": "code",
      "source": [
        "f\"name:d}\""
      ],
      "metadata": {
        "colab": {
          "base_uri": "https://localhost:8080/",
          "height": 136
        },
        "id": "liA9cBXCs3Qt",
        "outputId": "8c5f06b9-34bb-45b5-dd78-46a9a2c2c498"
      },
      "execution_count": 10,
      "outputs": [
        {
          "output_type": "error",
          "ename": "SyntaxError",
          "evalue": "ignored",
          "traceback": [
            "\u001b[0;36m  File \u001b[0;32m\"<ipython-input-10-d046c8030f61>\"\u001b[0;36m, line \u001b[0;32m1\u001b[0m\n\u001b[0;31m    f\"name:d}\"\u001b[0m\n\u001b[0m    ^\u001b[0m\n\u001b[0;31mSyntaxError\u001b[0m\u001b[0;31m:\u001b[0m f-string: single '}' is not allowed\n"
          ]
        }
      ]
    },
    {
      "cell_type": "code",
      "source": [
        "f\"{age:02d}\", f\"{1:02d}\", f\"{age:04d}\", str(age).zfill(4)"
      ],
      "metadata": {
        "colab": {
          "base_uri": "https://localhost:8080/"
        },
        "id": "_lck0K84tZXx",
        "outputId": "fc3cde9e-0821-4dd0-f9b7-9c418e8978e9"
      },
      "execution_count": 11,
      "outputs": [
        {
          "output_type": "execute_result",
          "data": {
            "text/plain": [
              "('25', '01', '0025', '0025')"
            ]
          },
          "metadata": {},
          "execution_count": 11
        }
      ]
    },
    {
      "cell_type": "code",
      "source": [
        "print(f\"{age:010d}\")"
      ],
      "metadata": {
        "colab": {
          "base_uri": "https://localhost:8080/"
        },
        "id": "ZB0FOdCit8yV",
        "outputId": "99455f77-b827-47ff-b0c9-3f6918f4f179"
      },
      "execution_count": 12,
      "outputs": [
        {
          "output_type": "stream",
          "name": "stdout",
          "text": [
            "0000000025\n"
          ]
        }
      ]
    },
    {
      "cell_type": "code",
      "source": [
        "print(f\"{age:+010d}\")"
      ],
      "metadata": {
        "colab": {
          "base_uri": "https://localhost:8080/"
        },
        "id": "ZSMZ3H2puiLY",
        "outputId": "c7b2ab0a-955f-4b42-b447-bcae48a9a903"
      },
      "execution_count": 13,
      "outputs": [
        {
          "output_type": "stream",
          "name": "stdout",
          "text": [
            "+000000025\n"
          ]
        }
      ]
    },
    {
      "cell_type": "code",
      "source": [
        "print(f\"{age:-010d}\")"
      ],
      "metadata": {
        "colab": {
          "base_uri": "https://localhost:8080/"
        },
        "id": "jLspZr1qukTY",
        "outputId": "e5de504b-075e-4f00-b6a4-75846418e02e"
      },
      "execution_count": 14,
      "outputs": [
        {
          "output_type": "stream",
          "name": "stdout",
          "text": [
            "0000000025\n"
          ]
        }
      ]
    },
    {
      "cell_type": "code",
      "source": [
        "print(f\"{-100:-010d}\")\n",
        "print(f\"{-100:+010d}\")"
      ],
      "metadata": {
        "colab": {
          "base_uri": "https://localhost:8080/"
        },
        "id": "CVXfiPFoumKN",
        "outputId": "65ab8b7f-d738-4b0a-faca-d4b50c6560cd"
      },
      "execution_count": 15,
      "outputs": [
        {
          "output_type": "stream",
          "name": "stdout",
          "text": [
            "-000000100\n",
            "-000000100\n"
          ]
        }
      ]
    },
    {
      "cell_type": "code",
      "source": [
        "height = 175.5"
      ],
      "metadata": {
        "id": "81XkEzhHursH"
      },
      "execution_count": 16,
      "outputs": []
    },
    {
      "cell_type": "code",
      "source": [
        "f\"{age:f}\", f\"{height:f}\""
      ],
      "metadata": {
        "colab": {
          "base_uri": "https://localhost:8080/"
        },
        "id": "Q1Y3RfJtu6EK",
        "outputId": "14fb6f82-4ce6-4445-f02e-04460e8b06c2"
      },
      "execution_count": 17,
      "outputs": [
        {
          "output_type": "execute_result",
          "data": {
            "text/plain": [
              "('25.000000', '175.500000')"
            ]
          },
          "metadata": {},
          "execution_count": 17
        }
      ]
    },
    {
      "cell_type": "code",
      "source": [
        "f\"{age:2f}\", f\"{height:2f}\", f\"{age:4f}%\", f\"{height: 4f}\""
      ],
      "metadata": {
        "colab": {
          "base_uri": "https://localhost:8080/"
        },
        "id": "C2G-Vhl9vCwz",
        "outputId": "0ea02d6b-5223-4d31-aa91-f79af2f330c9"
      },
      "execution_count": 18,
      "outputs": [
        {
          "output_type": "execute_result",
          "data": {
            "text/plain": [
              "('25.000000', '175.500000', '25.000000%', ' 175.500000')"
            ]
          },
          "metadata": {},
          "execution_count": 18
        }
      ]
    },
    {
      "cell_type": "code",
      "source": [],
      "metadata": {
        "id": "frE2cTEovU2P"
      },
      "execution_count": null,
      "outputs": []
    },
    {
      "cell_type": "markdown",
      "source": [
        "### format 메소드"
      ],
      "metadata": {
        "id": "AHUelcsL2IRR"
      }
    },
    {
      "cell_type": "code",
      "source": [
        "name = \"Alice\"\n",
        "age = 25\n",
        "height = 175.5\n",
        "\n",
        "\n",
        "formatted_str = \"이름: {}, 나이: {}세\".format(name, age) #위치기반 함수\n",
        "print(formatted_str)"
      ],
      "metadata": {
        "colab": {
          "base_uri": "https://localhost:8080/"
        },
        "id": "Gr_6JVoN2FCu",
        "outputId": "5b21e257-0d77-4d0d-d5af-717593db9ad4"
      },
      "execution_count": 20,
      "outputs": [
        {
          "output_type": "stream",
          "name": "stdout",
          "text": [
            "이름: Alice, 나이: 25세\n"
          ]
        }
      ]
    },
    {
      "cell_type": "code",
      "source": [
        "name = \"Alice\"\n",
        "age = 25\n",
        "height = 175.5\n",
        "\n",
        "\n",
        "formatted_str2 = \"이름: {name}, 나이: {age}세\".format(name=name, age=age) #키워드 기반 함수\n",
        "print(formatted_str2)"
      ],
      "metadata": {
        "colab": {
          "base_uri": "https://localhost:8080/"
        },
        "id": "rVmzjMvMxJED",
        "outputId": "11fd85f9-b995-4c29-fdf9-21b7574b1a95"
      },
      "execution_count": 22,
      "outputs": [
        {
          "output_type": "stream",
          "name": "stdout",
          "text": [
            "이름: Alice, 나이: 25세\n"
          ]
        }
      ]
    },
    {
      "cell_type": "code",
      "source": [
        "a = \"{}\".format(age)\n",
        "print(a)\n",
        "b = \"{:010d}\".format(age)\n",
        "print(b)\n",
        "c = \"{:+010d}\".format(age)\n",
        "print(c)\n",
        "d = \"{:2f}\".format(height)\n",
        "print(d)\n",
        "e = \"{:010.2f}\".format(height)\n",
        "print(e)"
      ],
      "metadata": {
        "colab": {
          "base_uri": "https://localhost:8080/"
        },
        "id": "Gfe6yJ-xxZD2",
        "outputId": "15aec882-e569-4fc8-b3d1-139bd98ab9be"
      },
      "execution_count": 24,
      "outputs": [
        {
          "output_type": "stream",
          "name": "stdout",
          "text": [
            "25\n",
            "0000000025\n",
            "+000000025\n",
            "175.500000\n",
            "0000175.50\n"
          ]
        }
      ]
    },
    {
      "cell_type": "markdown",
      "source": [
        "### 서식 지정자"
      ],
      "metadata": {
        "id": "kubSFPUy2P18"
      }
    },
    {
      "cell_type": "markdown",
      "source": [
        "서식 지정자는 문자열 포맷팅에서 사용하는 기호로, 변수의 값을 특정한 형식으로 표현할 때 사용됩니다. 서식 지정자는 % 기호를 사용하여 문자열에 삽입합니다."
      ],
      "metadata": {
        "id": "TC8qXJoh2Rlg"
      }
    },
    {
      "cell_type": "code",
      "source": [],
      "metadata": {
        "colab": {
          "base_uri": "https://localhost:8080/"
        },
        "id": "Q9CEispz2MsF",
        "outputId": "984c20ed-d7d6-4a36-f185-ef47e94a168a"
      },
      "execution_count": null,
      "outputs": [
        {
          "output_type": "stream",
          "name": "stdout",
          "text": [
            "이름: Alice, 나이: 25세\n",
            "25\n",
            "0000000025\n",
            "+000000025\n",
            "175.50\n",
            "0000175.50\n"
          ]
        }
      ]
    },
    {
      "cell_type": "markdown",
      "source": [
        "## 서식 문자"
      ],
      "metadata": {
        "id": "aAsDwVk027Z1"
      }
    },
    {
      "cell_type": "markdown",
      "source": [
        "서식 지정자에서는 %s, %d, %f 등의 서식 문자를 사용하여 출력할 값의 데이터 타입을 지정할 수 있습니다. 이 서식 문자를 사용하여 문자열, 숫자, 소수점 등을 출력할 수 있습니다. 서식 문자는 f-string, format 메소드 등에서도 활용할 수 있습니다. (%s는 기본값이라 생략됨)\n",
        "\n",
        "%d와 %f를 사용할 때는 정수형 변수와 실수형 변수를 출력할 수 있으며, %s는 문자열 변수를 출력합니다. 이때 %s를 사용할 경우, 변수의 데이터 타입과 상관없이 모든 값을 출력할 수 있습니다."
      ],
      "metadata": {
        "id": "Rk8xmil13AUh"
      }
    },
    {
      "cell_type": "code",
      "source": [
        "# %s : 문자열을 출력할 때 사용합니다.\n"
      ],
      "metadata": {
        "colab": {
          "base_uri": "https://localhost:8080/"
        },
        "id": "a7HrNqpa2WHX",
        "outputId": "87b1bd28-fa08-4d6b-fb17-3a74226e68a4"
      },
      "execution_count": null,
      "outputs": [
        {
          "output_type": "stream",
          "name": "stdout",
          "text": [
            "이름: Alice\n"
          ]
        }
      ]
    },
    {
      "cell_type": "code",
      "source": [
        "# %d : 10진수 정수를 출력할 때 사용합니다.\n"
      ],
      "metadata": {
        "colab": {
          "base_uri": "https://localhost:8080/"
        },
        "id": "_szPQML_3Q5G",
        "outputId": "7f12c6f9-ed11-4c32-f6fa-6f841cb18ef4"
      },
      "execution_count": null,
      "outputs": [
        {
          "output_type": "stream",
          "name": "stdout",
          "text": [
            "나이: 25세\n"
          ]
        }
      ]
    },
    {
      "cell_type": "code",
      "source": [
        "# %f : 실수를 출력할 때 사용합니다. 기본적으로 소수점 이하 6자리까지 출력됩니다.\n"
      ],
      "metadata": {
        "colab": {
          "base_uri": "https://localhost:8080/"
        },
        "id": "4uUnI1DK3UXF",
        "outputId": "ad77d8f6-72bc-419b-81ea-cb93880d5df7"
      },
      "execution_count": null,
      "outputs": [
        {
          "output_type": "stream",
          "name": "stdout",
          "text": [
            "키: 175.500000cm\n"
          ]
        }
      ]
    },
    {
      "cell_type": "markdown",
      "source": [
        "서식 문자를 사용하여 출력할 값의 자리수를 지정할 수도 있습니다. 자리수를 지정하면 해당 자리수만큼 출력되며, 값의 길이가 자리수보다 작으면 빈 칸이 채워집니다."
      ],
      "metadata": {
        "id": "VrTFs87K3ZbS"
      }
    },
    {
      "cell_type": "code",
      "source": [
        "# %[너비]d : [너비] 자리에 출력할 숫자의 자리수를 지정합니다.\n",
        "num = 123\n",
        "a = \"%d\" % num\n",
        "b = \"%5d\" % num\n",
        "c = \"%d10d\" % num\n",
        "d = \"%-5d\" % num\n",
        "e = \"%+5d\" % num\n",
        "print(a)\n",
        "print(b)\n",
        "print(c)\n",
        "print(d)\n",
        "print(e)"
      ],
      "metadata": {
        "colab": {
          "base_uri": "https://localhost:8080/"
        },
        "id": "VzvSd8n23Xyj",
        "outputId": "fb3cc3b4-f640-4fe7-f783-9e10051c7456"
      },
      "execution_count": 25,
      "outputs": [
        {
          "output_type": "stream",
          "name": "stdout",
          "text": [
            "123\n",
            "  123\n",
            "12310d\n",
            "123  \n",
            " +123\n"
          ]
        }
      ]
    },
    {
      "cell_type": "code",
      "source": [
        "from math import pi\n",
        "pi"
      ],
      "metadata": {
        "colab": {
          "base_uri": "https://localhost:8080/"
        },
        "id": "31Wtt0PE1f8E",
        "outputId": "616458f0-20d7-49c5-94ed-ffa320cf3caf"
      },
      "execution_count": 26,
      "outputs": [
        {
          "output_type": "execute_result",
          "data": {
            "text/plain": [
              "3.141592653589793"
            ]
          },
          "metadata": {},
          "execution_count": 26
        }
      ]
    },
    {
      "cell_type": "code",
      "source": [],
      "metadata": {
        "id": "NV0o0Gj31jYk"
      },
      "execution_count": null,
      "outputs": []
    },
    {
      "cell_type": "code",
      "source": [
        "# %[너비].[정밀도]f : [너비] 자리에 출력할 숫자의 자리수를, [정밀도] 자리에 출력할 소수점 이하 자리수를 지정합니다.\n",
        "pi = 3.141592653589793\n",
        "\n",
        "a = \"%f\" % pi\n",
        "b = \".2%f\" % pi\n",
        "c = \"10.2%f\" % pi\n",
        "d = \"010.2%f\" % pi\n",
        "e = \"-010.2%f\" % pi\n",
        "f = \"+10.2%f\" % pi\n",
        "\n",
        "print(a)\n",
        "print(b)\n",
        "print(c)\n",
        "print(d)\n",
        "print(e)\n",
        "print(f)"
      ],
      "metadata": {
        "colab": {
          "base_uri": "https://localhost:8080/"
        },
        "id": "aZL70I7S3ceb",
        "outputId": "2bc7ee22-707d-4d7c-90f8-240370e22fe8"
      },
      "execution_count": 29,
      "outputs": [
        {
          "output_type": "stream",
          "name": "stdout",
          "text": [
            "3.141593\n",
            ".23.141593\n",
            "10.23.141593\n",
            "010.23.141593\n",
            "-010.23.141593\n",
            "+10.23.141593\n"
          ]
        }
      ]
    },
    {
      "cell_type": "code",
      "source": [],
      "metadata": {
        "id": "INDdVrCb2BHL"
      },
      "execution_count": null,
      "outputs": []
    },
    {
      "cell_type": "code",
      "source": [],
      "metadata": {
        "id": "_1XSo6P9176G"
      },
      "execution_count": null,
      "outputs": []
    }
  ]
}