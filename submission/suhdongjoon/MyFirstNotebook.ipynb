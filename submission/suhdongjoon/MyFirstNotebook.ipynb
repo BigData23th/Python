{
  "cells": [
    {
      "cell_type": "markdown",
      "metadata": {
        "colab_type": "text",
        "id": "view-in-github"
      },
      "source": [
        "<a href=\"https://colab.research.google.com/github/suhdongjoon/Python_sdj/blob/main/submission/suhdongjoon/MyFirstNotebook.ipynb\" target=\"_parent\"><img src=\"https://colab.research.google.com/assets/colab-badge.svg\" alt=\"Open In Colab\"/></a>"
      ]
    },
    {
      "cell_type": "code",
      "execution_count": 2,
      "metadata": {
        "colab": {
          "base_uri": "https://localhost:8080/"
        },
        "id": "-m9tCdWh5bec",
        "outputId": "ea328acb-2d54-4074-b098-5d2cbc5c4e62"
      },
      "outputs": [
        {
          "name": "stdout",
          "output_type": "stream",
          "text": [
            "Hello World\n"
          ]
        }
      ],
      "source": [
        "print(\"Hello World\") # Ctrl + Enter"
      ]
    },
    {
      "cell_type": "code",
      "execution_count": null,
      "metadata": {
        "id": "fip_CMYM85i2"
      },
      "outputs": [],
      "source": [
        "print(Hello world)"
      ]
    },
    {
      "cell_type": "code",
      "execution_count": null,
      "metadata": {
        "id": "IaR4GWI388pK"
      },
      "outputs": [],
      "source": [
        "print\"Hello World\""
      ]
    }
  ],
  "metadata": {
    "colab": {
      "authorship_tag": "ABX9TyOUqXR3FIIcbqJrQTBVDKtb",
      "include_colab_link": true,
      "mount_file_id": "1SYqy3oADBD_P_kJKi-U33d7zpEXraOIf",
      "provenance": []
    },
    "kernelspec": {
      "display_name": "Python 3",
      "name": "python3"
    },
    "language_info": {
      "name": "python"
    }
  },
  "nbformat": 4,
  "nbformat_minor": 0
}
