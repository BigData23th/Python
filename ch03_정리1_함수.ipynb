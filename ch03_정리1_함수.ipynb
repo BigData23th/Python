{
  "nbformat": 4,
  "nbformat_minor": 0,
  "metadata": {
    "colab": {
      "provenance": [],
      "authorship_tag": "ABX9TyM/RfT5pKFvyuHTR19//nes",
      "include_colab_link": true
    },
    "kernelspec": {
      "name": "python3",
      "display_name": "Python 3"
    },
    "language_info": {
      "name": "python"
    }
  },
  "cells": [
    {
      "cell_type": "markdown",
      "metadata": {
        "id": "view-in-github",
        "colab_type": "text"
      },
      "source": [
        "<a href=\"https://colab.research.google.com/github/whataLIN/Bdata23th/blob/main/ch03_%EC%A0%95%EB%A6%AC1_%ED%95%A8%EC%88%98.ipynb\" target=\"_parent\"><img src=\"https://colab.research.google.com/assets/colab-badge.svg\" alt=\"Open In Colab\"/></a>"
      ]
    },
    {
      "cell_type": "markdown",
      "source": [
        "# **함수**\n",
        "\n",
        "```\n",
        "def 함수이름():\n",
        "     코드\n",
        "```"
      ],
      "metadata": {
        "id": "x-YSd90pO_yW"
      }
    },
    {
      "cell_type": "markdown",
      "source": [
        "**빈 함수 만들기** : pass 사용<br>\n",
        "\n",
        "**인수** : argument. 함수 호출 시 넣는 값<br>\n",
        "\n",
        "**매개변수** : 함수에서 값을 받기 위해 사용하는 변수. <br>\n",
        "\n",
        "**결과 반환하기** : return 사용. 값 미지정시 none 반환.\n",
        "- return 이용해 함수 중간에 빠져나올 수 있다.\n",
        "- 콤마를 이용해 값을 여러개 반환할 수 있다.\n",
        "\n",
        "<br>\n",
        "<br>\n",
        "\n"
      ],
      "metadata": {
        "id": "ZoidNhl6PPrN"
      }
    },
    {
      "cell_type": "markdown",
      "source": [
        "### **위치 인수와 리스트 언패킹**\n",
        "---\n",
        "\n",
        "<br>\n",
        "\n",
        "**위치 인수** : 함수에 인수를 순서대로 넣는 방식. 인수 위치가 정해져 있음<br><br>\n",
        "\n",
        "**언패킹** : 리스트, 튜플을 인수에 사용하기 위한 것. 앞에 \"*\"를 붙인다.\n",
        "\n",
        "* `함수(*리스트)`\n",
        "* `함수(*튜플)`\n",
        "\n",
        "<br>\n",
        "<br>\n",
        "\n",
        "\n"
      ],
      "metadata": {
        "id": "MSqZfG2dSXqE"
      }
    },
    {
      "cell_type": "markdown",
      "source": [
        "### **가변 인수 함수 만들기**\n",
        "---\n",
        "<br>\n",
        "\n",
        "**가변 인수 함수** : 함수에 인수를 여러 개 넣을 수 있는 함수.\n",
        "\n",
        "매개변수 앞에 *를 붙인다.\n",
        "\n",
        "```\n",
        "def 함수이름(*매개변수):\n",
        "    코드\n",
        "```\n",
        "\n",
        "- 관례적으로 args를 사용한다.\n",
        "- args는 튜플로, for로 반복 가능하다.\n",
        "\n",
        "\n",
        "<br>\n",
        "<br>\n",
        "\n"
      ],
      "metadata": {
        "id": "vRs2NRa1S7Es"
      }
    },
    {
      "cell_type": "markdown",
      "source": [
        "### **고정인수, 가변인수 함께 사용하기**\n",
        "---\n",
        "<br>\n",
        "\n",
        "고정인수와 가변인수를 함께 사용할 시 고정 매개변수를 먼저 지정해야 한다.\n",
        "\n",
        "- *args가 고정 매개변수보다 먼저 와서는 안 된다.\n",
        "\n",
        "<br><br>"
      ],
      "metadata": {
        "id": "PphOdSu8TWmE"
      }
    },
    {
      "cell_type": "markdown",
      "source": [
        "### **키워드 인수 사용하기**\n",
        "\n",
        "---\n",
        "\n",
        "<br>\n",
        "\n",
        "**키워드 인수** : 키워드=값 형식의 인수.<br>\n",
        "- 인수의 순서를 맞추지 않아도 키워드에 해당하는 값이 들어간다.\n",
        "\n",
        "<br>\n",
        "<br>"
      ],
      "metadata": {
        "id": "AQBKSOhyTh6i"
      }
    },
    {
      "cell_type": "markdown",
      "source": [
        "### **키워드 인수와 딕셔너리 언패킹 사용하기**\n",
        "\n",
        "---\n",
        "\n",
        "<br>\n",
        "\n",
        "**딕셔너리 언패킹** : 딕셔너리를 사용해서 키워드 인수로 값을 넣는 것. 딕셔너리의 값이 함수의 인수로 들어간다.\n",
        "\n",
        " `함수(**딕셔너리)`\n",
        "\n",
        " <br>\n",
        "\n",
        "- 별이 하나 붙으면 **리스트**(키-값) 형태, 두 개 붙으면 **딕셔너리**(키 사용)형태. \n",
        "- 딕셔너리의 키워드(키)는 반드시 문자열 형태\n",
        "\n",
        "<br>\n",
        "<br>\n"
      ],
      "metadata": {
        "id": "z7VkUQr5Ty7M"
      }
    },
    {
      "cell_type": "markdown",
      "source": [
        "### **키워드 인수를 사용하는 가변 인수 함수 만들기**\n",
        "\n",
        "---\n",
        "\n",
        "<br>\n",
        "\n",
        "매개변수 앞에 **를 붙여 만든다.\n",
        "\n",
        "```\n",
        "def 함수이름(**매개변수):\n",
        "    코드\n",
        "```\n",
        "\n",
        "- 관례적으로 매개변수 이름은 kwargs로 사용.\n",
        "- 딕셔너리라서 for로 반복 가능하다.\n",
        "\n",
        "<br><br>\n"
      ],
      "metadata": {
        "id": "7sgrMk56U80C"
      }
    },
    {
      "cell_type": "markdown",
      "source": [
        "### **매개변수에 초깃값 지정하기**\n",
        "\n",
        "---\n",
        "\n",
        "<br>\n",
        "\n",
        "```\n",
        "def 함수이름(매개변수=값):\n",
        "    코드\n",
        "```\n",
        "\n",
        "- 매개변수에 초깃값이 지정되어 있더라도 값을 넣으면 해당 값이 전달된다.\n",
        "- 초깃값이 지정된 매개변수 다음에는 초깃값이 없는 매개변수가 올 수 없다.\n",
        "\n",
        "<br>\n",
        "\n",
        "<br>\n"
      ],
      "metadata": {
        "id": "Cwyo2hwoW62z"
      }
    },
    {
      "cell_type": "markdown",
      "source": [
        "## **람다 표현식**\n",
        "\n",
        "---\n",
        "\n",
        "`lambda 매개변수들: 식`\n",
        "\n",
        "<br>\n",
        "\n",
        "- 일종의 list comprehension\n",
        "- 익명 함수 (이름이 없는 함수)를 만든다.\n",
        "- 람다 표현식 안에서는 변수를 만들 수 없다.\n",
        "\n",
        "\n",
        "<br>\n",
        "<br>"
      ],
      "metadata": {
        "id": "BDOyPaHJXJ9Z"
      }
    },
    {
      "cell_type": "markdown",
      "source": [
        "#### 람다 표현식을 인수로 사용하기\n",
        "\n",
        "---\n",
        "\n",
        "함수의 인수 부분에서 간단하게 함수를 만들 수 있다.<br>\n",
        "\n",
        "예) list(map(lambda x: int(x)**2, [\"11\",\"12\",\"13\"]))"
      ],
      "metadata": {
        "id": "ct8mwhVBXobz"
      }
    }
  ]
}