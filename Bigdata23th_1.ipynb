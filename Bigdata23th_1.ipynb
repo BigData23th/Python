{
  "nbformat": 4,
  "nbformat_minor": 0,
  "metadata": {
    "colab": {
      "provenance": [],
      "mount_file_id": "1KGyYkZKBPJu4DfFtLj64NGTWARYsMZrq",
      "authorship_tag": "ABX9TyNVFKdvmfDVON6d1pLOGCTh",
      "include_colab_link": true
    },
    "kernelspec": {
      "name": "python3",
      "display_name": "Python 3"
    },
    "language_info": {
      "name": "python"
    },
    "accelerator": "GPU",
    "gpuClass": "standard"
  },
  "cells": [
    {
      "cell_type": "markdown",
      "metadata": {
        "id": "view-in-github",
        "colab_type": "text"
      },
      "source": [
        "<a href=\"https://colab.research.google.com/github/jaiwon880/Python_bd23_hjw/blob/main/Bigdata23th_1.ipynb\" target=\"_parent\"><img src=\"https://colab.research.google.com/assets/colab-badge.svg\" alt=\"Open In Colab\"/></a>"
      ]
    },
    {
      "cell_type": "markdown",
      "source": [
        "## python"
      ],
      "metadata": {
        "id": "C2k9kl9O6N3R"
      }
    },
    {
      "cell_type": "code",
      "source": [
        "print(\"Hello World!\") # Ctrl + Enter (실행)"
      ],
      "metadata": {
        "colab": {
          "base_uri": "https://localhost:8080/"
        },
        "id": "sFkY6MNX5lIY",
        "outputId": "8f6db866-3d20-4576-92fb-8888f23bcabb"
      },
      "execution_count": 3,
      "outputs": [
        {
          "output_type": "stream",
          "name": "stdout",
          "text": [
            "Hello World!\n"
          ]
        }
      ]
    },
    {
      "cell_type": "code",
      "source": [],
      "metadata": {
        "id": "YdLEG2ve5r9g"
      },
      "execution_count": null,
      "outputs": []
    }
  ]
}