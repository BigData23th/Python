{
  "nbformat": 4,
  "nbformat_minor": 0,
  "metadata": {
    "colab": {
      "provenance": [],
      "authorship_tag": "ABX9TyNbn53qKeXJLzDbykW6mkP0",
      "include_colab_link": true
    },
    "kernelspec": {
      "name": "python3",
      "display_name": "Python 3"
    },
    "language_info": {
      "name": "python"
    }
  },
  "cells": [
    {
      "cell_type": "markdown",
      "metadata": {
        "id": "view-in-github",
        "colab_type": "text"
      },
      "source": [
        "<a href=\"https://colab.research.google.com/github/andy9806/Python_23/blob/main/0227.ipynb\" target=\"_parent\"><img src=\"https://colab.research.google.com/assets/colab-badge.svg\" alt=\"Open In Colab\"/></a>"
      ]
    },
    {
      "cell_type": "code",
      "execution_count": null,
      "metadata": {
        "id": "LbauqDpxaEve"
      },
      "outputs": [],
      "source": [
        "\"\"\"\n",
        "남에게 도움이 될 것 같은 채널 : 메타코드M\n",
        "\n",
        "가끔 지나가다 본 적이 있는데 지식적인 면에서 도움이 되었던 것 같다.\n",
        "\n",
        "나에게 도움이 될 것 같은 채널 : 조코딩\n",
        "\n",
        "전반적인 컴퓨터 분야의 흐름에 대해서 알수있을 것 같아서 도움이 될 것 같다.\n",
        "\"\"\""
      ]
    }
  ]
}