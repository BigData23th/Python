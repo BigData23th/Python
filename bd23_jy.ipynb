{
  "nbformat": 4,
  "nbformat_minor": 0,
  "metadata": {
    "colab": {
      "provenance": [],
      "mount_file_id": "1XM5_BV4fok2HwGNY16hIMi5CTICoKDc9",
      "authorship_tag": "ABX9TyOIjXbc2zoV6wqKDVAqkcRF",
      "include_colab_link": true
    },
    "kernelspec": {
      "name": "python3",
      "display_name": "Python 3"
    },
    "language_info": {
      "name": "python"
    }
  },
  "cells": [
    {
      "cell_type": "markdown",
      "metadata": {
        "id": "view-in-github",
        "colab_type": "text"
      },
      "source": [
        "<a href=\"https://colab.research.google.com/github/jyeongvv/Python_bd23_jy/blob/main/bd23_jy.ipynb\" target=\"_parent\"><img src=\"https://colab.research.google.com/assets/colab-badge.svg\" alt=\"Open In Colab\"/></a>"
      ]
    },
    {
      "cell_type": "code",
      "execution_count": null,
      "metadata": {
        "id": "YqPxPfzL5a-E",
        "colab": {
          "base_uri": "https://localhost:8080/"
        },
        "outputId": "65c15305-0c51-4f78-937e-a285610c865b"
      },
      "outputs": [
        {
          "output_type": "stream",
          "name": "stdout",
          "text": [
            "Hello World\n"
          ]
        }
      ],
      "source": [
        "print('Hello World') # Ctrl + Enter\n"
      ]
    }
  ]
}