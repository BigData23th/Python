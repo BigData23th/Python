{
  "cells": [
    {
      "cell_type": "markdown",
      "metadata": {
        "colab_type": "text",
        "id": "view-in-github"
      },
      "source": [
        "<a href=\"https://colab.research.google.com/github/whataLIN/Python_Bdata23th/blob/main/ch01_03_%EB%A7%88%ED%81%AC%EB%8B%A4%EC%9A%B4.ipynb\" target=\"_parent\"><img src=\"https://colab.research.google.com/assets/colab-badge.svg\" alt=\"Open In Colab\"/></a>"
      ]
    },
    {
      "cell_type": "code",
      "execution_count": null,
      "metadata": {
        "id": "tZhhFuVe50zZ"
      },
      "outputs": [],
      "source": []
    },
    {
      "cell_type": "markdown",
      "metadata": {
        "id": "UAHXJ7VQ6N-7"
      },
      "source": [
        "#제목(Headline)\n",
        "##2단계 제목\n",
        "###3단계 제목\n",
        "####4단계\n",
        "\n",
        "---\n",
        "수평선\n",
        "\n",
        "**굵게**\n",
        "*기울게*\n",
        "__굵게__\n",
        "_기울게_\n",
        "~~취소선~~\n",
        "<u>밑줄</u>\n",
        "<mark>형광펜</mark>\n",
        "\n",
        ">인용문\n",
        ">>인용문 안 인용문\n",
        ">>>인용문 안 인용문 안 인용문\n",
        ">>>>인용문 안 인용문 안 인용문 안 인용문\n"
      ]
    },
    {
      "cell_type": "markdown",
      "metadata": {
        "id": "pO19ulL07U8Q"
      },
      "source": [
        "순서없는 리스트\n",
        "*사과\n",
        "*배\n",
        "*자두\n",
        "\n",
        "순서있는 리스트\n",
        "1. 파이썬\n",
        "2. 자바\n",
        "3. sql\n",
        "\n",
        "순서있는 리스트2\n",
        "1. 파이썬\n",
        "1. 자바\n",
        "1. sql\n",
        "\n",
        "들여쓰기\n",
        "* 사과\n",
        "  * 껍질\n",
        "    * 볶음\n",
        "        * 엥\n",
        "\n",
        "* 위\n",
        "      아래 (탭 세번시 코드블록).\n",
        "      코드블록 안에서는 양식이 무시됨\n",
        "\n",
        "한줄코드\n",
        "`print(\"Hello World!\")`\n",
        "\n",
        "여러줄코드\n",
        "```\n",
        "  print(\"Hello World!)\n",
        "  print(\"Hello World!\")\n",
        "```\n"
      ]
    },
    {
      "cell_type": "markdown",
      "metadata": {
        "id": "nfvvSM4n8w9G"
      },
      "source": [
        "|제목|작가|출판일|\n",
        "|-|-|-|\n",
        "|장발장|누구더라진짜|1800|\n",
        "|파이썬|김철수|*1971*|\n"
      ]
    },
    {
      "cell_type": "markdown",
      "metadata": {
        "id": "2rQTuWW09Xnq"
      },
      "source": []
    },
    {
      "cell_type": "markdown",
      "metadata": {
        "id": "dQpYsN499XzY"
      },
      "source": [
        "![이미지에 대한 설명](https://mblogthumb-phinf.pstatic.net/20160215_183/dlftns1010_1455516194292g2RD7_PNG/20160215_150148.png?type=w800)<br>\n",
        "\n",
        "[링크](https://mblogthumb-phinf.pstatic.net/20160215_183/dlftns1010_1455516194292g2RD7_PNG/20160215_150148.png?type=w800)\n"
      ]
    },
    {
      "cell_type": "markdown",
      "metadata": {
        "id": "WPVYa0Mx99at"
      },
      "source": [
        "- [ ] 체크박스\n",
        "- [x] 체크된 체크박스\n"
      ]
    },
    {
      "attachments": {},
      "cell_type": "markdown",
      "metadata": {},
      "source": [
        "#나에게 가장 도움이 될 것 같은 유튜브\n",
        "##빵형의 개발도상국\n",
        "> 이유: 새로운 머신러닝/딥러닝 지식들이 많다\n",
        "\n",
        "#다른 학생들에게 가장 도움이 될 것 같은 유튜브\n",
        "##노마드코더\n",
        "> 이유 : 최신 IT 트렌드를 쉽고 재밌게 전달해준다."
      ]
    },
    {
      "attachments": {},
      "cell_type": "markdown",
      "metadata": {},
      "source": []
    },
    {
      "attachments": {},
      "cell_type": "markdown",
      "metadata": {},
      "source": [
        "# 참고 사이트\n",
        "* [icons8](https://icons8.com/)\n",
        "* [flaticon](https://www.flaticon.com/)\n",
        "* [pixabay](https://pixabay/com/ko)\n",
        "\"\"\""
      ]
    }
  ],
  "metadata": {
    "colab": {
      "authorship_tag": "ABX9TyOZZsRGRehNWclSKZ/48II3",
      "include_colab_link": true,
      "provenance": []
    },
    "kernelspec": {
      "display_name": "Python 3",
      "name": "python3"
    },
    "language_info": {
      "name": "python"
    }
  },
  "nbformat": 4,
  "nbformat_minor": 0
}
