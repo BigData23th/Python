{
  "nbformat": 4,
  "nbformat_minor": 0,
  "metadata": {
    "colab": {
      "provenance": [],
      "include_colab_link": true
    },
    "kernelspec": {
      "name": "python3",
      "display_name": "Python 3"
    },
    "language_info": {
      "name": "python"
    }
  },
  "cells": [
    {
      "cell_type": "markdown",
      "metadata": {
        "id": "view-in-github",
        "colab_type": "text"
      },
      "source": [
        "<a href=\"https://colab.research.google.com/github/Myun9hyun/Python/blob/main/submisson/Myun9hyun/ch02_01_%EB%B3%B5%EC%8A%B5.ipynb\" target=\"_parent\"><img src=\"https://colab.research.google.com/assets/colab-badge.svg\" alt=\"Open In Colab\"/></a>"
      ]
    },
    {
      "cell_type": "code",
      "execution_count": 1,
      "metadata": {
        "id": "sPoXWs9atiKJ",
        "colab": {
          "base_uri": "https://localhost:8080/"
        },
        "outputId": "f621392e-4a14-4a70-96aa-cb725b7f5c18"
      },
      "outputs": [
        {
          "output_type": "execute_result",
          "data": {
            "text/plain": [
              "(True, False)"
            ]
          },
          "metadata": {},
          "execution_count": 1
        }
      ],
      "source": [
        "# 불\n",
        "True , False # 참, 거짓, true false "
      ]
    },
    {
      "cell_type": "code",
      "source": [
        "int(True), int(False)"
      ],
      "metadata": {
        "colab": {
          "base_uri": "https://localhost:8080/"
        },
        "id": "wsaS4i1svLiK",
        "outputId": "10450304-e822-4469-f493-df10b250e3bb"
      },
      "execution_count": 2,
      "outputs": [
        {
          "output_type": "execute_result",
          "data": {
            "text/plain": [
              "(1, 0)"
            ]
          },
          "metadata": {},
          "execution_count": 2
        }
      ]
    },
    {
      "cell_type": "code",
      "source": [
        "3 > 1"
      ],
      "metadata": {
        "colab": {
          "base_uri": "https://localhost:8080/"
        },
        "id": "OaXP5-WOvPwW",
        "outputId": "311510c6-70bc-46e7-c8f8-1ccef8116757"
      },
      "execution_count": 3,
      "outputs": [
        {
          "output_type": "execute_result",
          "data": {
            "text/plain": [
              "True"
            ]
          },
          "metadata": {},
          "execution_count": 3
        }
      ]
    },
    {
      "cell_type": "code",
      "source": [
        "a = 10\n",
        "b = 20\n",
        "a > b"
      ],
      "metadata": {
        "colab": {
          "base_uri": "https://localhost:8080/"
        },
        "id": "3aE2W9h1vU5a",
        "outputId": "fd3ab3af-3c58-4ed4-ddd8-5216243f0a91"
      },
      "execution_count": 4,
      "outputs": [
        {
          "output_type": "execute_result",
          "data": {
            "text/plain": [
              "False"
            ]
          },
          "metadata": {},
          "execution_count": 4
        }
      ]
    },
    {
      "cell_type": "code",
      "source": [
        "# == (동등연산자, 일치) / = (할당 연산자, 대입연산자) \n",
        "# >, <, <=, >=\n",
        "'python' == 'Python', 'Python' != 'PYTHON'"
      ],
      "metadata": {
        "colab": {
          "base_uri": "https://localhost:8080/"
        },
        "id": "-BI2wjzlvYIM",
        "outputId": "b60201dc-2c6a-48d8-8935-eafd1ba4ad8f"
      },
      "execution_count": 7,
      "outputs": [
        {
          "output_type": "execute_result",
          "data": {
            "text/plain": [
              "(False, True)"
            ]
          },
          "metadata": {},
          "execution_count": 7
        }
      ]
    },
    {
      "cell_type": "code",
      "source": [
        "# 논리연산자 (1개 이상의 불을 처리하는 연산자)\n",
        "# and (그리고) : 둘 다 True여야 True가 출력\n",
        "a = 15; b = 13 # 두 줄을 합쳐주는 방법\n",
        "c, d = 10, 20 # 언팩킹 사용하는 방법\n",
        "(a > 20) and (b > 10), (a > 20) & (b > 10)"
      ],
      "metadata": {
        "colab": {
          "base_uri": "https://localhost:8080/"
        },
        "id": "9AImfAUbwKU1",
        "outputId": "03b1c0d8-3a0c-4d03-9b13-feae768383a7"
      },
      "execution_count": 10,
      "outputs": [
        {
          "output_type": "execute_result",
          "data": {
            "text/plain": [
              "(False, False)"
            ]
          },
          "metadata": {},
          "execution_count": 10
        }
      ]
    },
    {
      "cell_type": "code",
      "source": [
        "# or (또는) : 둘 중 하나라도 True 면 True가 출력\n",
        "c != 10 or d < 100, c != 10 | d < 100 # 비교 연산자의 우선순위가 논리 연산자보다 높아요 \n",
        "# 웬만하면 괄호로 우선순위를 명확하게 하자\n",
        "# or == |"
      ],
      "metadata": {
        "colab": {
          "base_uri": "https://localhost:8080/"
        },
        "id": "kmRc48vmwu28",
        "outputId": "a5e80e68-5852-4f14-ca3a-02d72986e77b"
      },
      "execution_count": 13,
      "outputs": [
        {
          "output_type": "execute_result",
          "data": {
            "text/plain": [
              "(True, True)"
            ]
          },
          "metadata": {},
          "execution_count": 13
        }
      ]
    },
    {
      "cell_type": "code",
      "source": [
        "not True, not False"
      ],
      "metadata": {
        "colab": {
          "base_uri": "https://localhost:8080/"
        },
        "id": "-8Lq9ETuw9nd",
        "outputId": "47264e87-23fe-4a36-a0f9-0455c9adf70e"
      },
      "execution_count": 16,
      "outputs": [
        {
          "output_type": "stream",
          "name": "stdout",
          "text": [
            "/bin/bash: True,: command not found\n"
          ]
        }
      ]
    },
    {
      "cell_type": "code",
      "source": [
        "bool(1), bool(0), bool(\"a\"), bool(\"\")"
      ],
      "metadata": {
        "colab": {
          "base_uri": "https://localhost:8080/"
        },
        "id": "cWpTjwjcx-Hn",
        "outputId": "90c3311f-683d-4ae1-e154-52fdc09c5a96"
      },
      "execution_count": 17,
      "outputs": [
        {
          "output_type": "execute_result",
          "data": {
            "text/plain": [
              "(True, False, True, False)"
            ]
          },
          "metadata": {},
          "execution_count": 17
        }
      ]
    },
    {
      "cell_type": "code",
      "source": [
        "hell = \"hell\"\n",
        "hell"
      ],
      "metadata": {
        "colab": {
          "base_uri": "https://localhost:8080/",
          "height": 35
        },
        "id": "vbqJW6QEyPXm",
        "outputId": "892baaa4-6ec4-404d-fb43-ddd0f5f1ba1d"
      },
      "execution_count": 18,
      "outputs": [
        {
          "output_type": "execute_result",
          "data": {
            "text/plain": [
              "'hell'"
            ],
            "application/vnd.google.colaboratory.intrinsic+json": {
              "type": "string"
            }
          },
          "metadata": {},
          "execution_count": 18
        }
      ]
    },
    {
      "cell_type": "code",
      "source": [
        "hell2 = 'hell'\n",
        "hell3 = '''hell'''\n",
        "hell4 = \"\"\"hell\"\"\"\n",
        "hell2, hell3, hell4"
      ],
      "metadata": {
        "colab": {
          "base_uri": "https://localhost:8080/"
        },
        "id": "1xEQrHWByTni",
        "outputId": "11428ee1-72b5-4a8e-c005-01e97c49d042"
      },
      "execution_count": 19,
      "outputs": [
        {
          "output_type": "execute_result",
          "data": {
            "text/plain": [
              "('hell', 'hell', 'hell')"
            ]
          },
          "metadata": {},
          "execution_count": 19
        }
      ]
    },
    {
      "cell_type": "code",
      "source": [
        "# 여러줄 문자열\n",
        "hello = \"\"\"hell\n",
        "oven\n",
        "us\n",
        "\"\"\"\n",
        "print(hello)"
      ],
      "metadata": {
        "colab": {
          "base_uri": "https://localhost:8080/"
        },
        "id": "C3ZSHL5xyjc0",
        "outputId": "4a90703a-7e1b-4d57-d6b3-f93c44226e60"
      },
      "execution_count": 23,
      "outputs": [
        {
          "output_type": "stream",
          "name": "stdout",
          "text": [
            "hell\n",
            "oven\n",
            "us\n",
            "\n"
          ]
        }
      ]
    },
    {
      "cell_type": "code",
      "source": [
        "s2 = \"\"\"cat\n",
        "holic\n",
        "\"\"\"\n",
        "print(s2)"
      ],
      "metadata": {
        "colab": {
          "base_uri": "https://localhost:8080/"
        },
        "id": "zQUjjYdJwp1X",
        "outputId": "bd258233-95c9-4aec-a221-3deaaae29531"
      },
      "execution_count": 25,
      "outputs": [
        {
          "output_type": "stream",
          "name": "stdout",
          "text": [
            "cat\n",
            "holic\n",
            "\n"
          ]
        }
      ]
    },
    {
      "cell_type": "code",
      "source": [
        "# ', \" 를 문자열 안에 표기하기\n",
        "print(\"\\를 사용해서 큰따옴표안에 큰 따옴표를 표현\")\n",
        "print('\\를 사용해서 작은따옴표안에 작은 따옴표를 표현')\n",
        "print('''',\"를 여러줄 문자열 안에 따옴표를 표현''')\n",
        "print(\"\"\"',\"를 여러줄 문자열 안에 따옴표를 표현\"\"\")"
      ],
      "metadata": {
        "colab": {
          "base_uri": "https://localhost:8080/"
        },
        "id": "WBdsoTuXy2sm",
        "outputId": "87fb88e7-18f3-42e8-d756-1357b8bc3df1"
      },
      "execution_count": 29,
      "outputs": [
        {
          "output_type": "stream",
          "name": "stdout",
          "text": [
            "\\를 사용해서 큰따옴표안에 큰 따옴표를 표현\n",
            "\\를 사용해서 작은따옴표안에 작은 따옴표를 표현\n",
            "헤헤\n",
            "',\"를 여러줄 문자열 안에 따옴표를 표현\n",
            "',\"를 여러줄 문자열 안에 따옴표를 표현\n"
          ]
        }
      ]
    },
    {
      "cell_type": "code",
      "source": [
        "a = [] # 리스트 -> 0개 이상의 요소를 묶은 자료형\n",
        "b = [10, \"단어\", 1.0, True, 10 > 5]\n",
        "a, b"
      ],
      "metadata": {
        "colab": {
          "base_uri": "https://localhost:8080/"
        },
        "id": "Mt9-xE92zdkY",
        "outputId": "30d8d6f1-dc1b-4260-8952-77abfafa09b4"
      },
      "execution_count": 32,
      "outputs": [
        {
          "output_type": "execute_result",
          "data": {
            "text/plain": [
              "([], [10, '단어', 1.0, True, True])"
            ]
          },
          "metadata": {},
          "execution_count": 32
        }
      ]
    },
    {
      "cell_type": "code",
      "source": [
        "c = list() # 리스트랑 비슷한 시퀀스 자료형 -> 리스트로 변환\n",
        "c"
      ],
      "metadata": {
        "colab": {
          "base_uri": "https://localhost:8080/"
        },
        "id": "vOG6LxeR344n",
        "outputId": "8a811672-f07c-4fc2-d4cc-4504572712e7"
      },
      "execution_count": 33,
      "outputs": [
        {
          "output_type": "execute_result",
          "data": {
            "text/plain": [
              "[]"
            ]
          },
          "metadata": {},
          "execution_count": 33
        }
      ]
    },
    {
      "cell_type": "code",
      "source": [
        "# 시작점을 지정해주지 않으면 0부터 시작함\n",
        "# 0, 5 / 1, 5 (시작점, 끝점) / 0, 5, 1 (시작점, 끝점, 증가폭)\n",
        "range(5), range(1, 5), range(0, 5, 1)"
      ],
      "metadata": {
        "colab": {
          "base_uri": "https://localhost:8080/"
        },
        "id": "cb_CR6J_32cz",
        "outputId": "1a799b85-78af-4788-ff0b-dc955933b88d"
      },
      "execution_count": 41,
      "outputs": [
        {
          "output_type": "execute_result",
          "data": {
            "text/plain": [
              "(range(0, 5), range(1, 5), range(0, 5))"
            ]
          },
          "metadata": {},
          "execution_count": 41
        }
      ]
    },
    {
      "cell_type": "code",
      "source": [
        "list(range(5)), list(range(1, 5)), list(range(0, 5, 1))"
      ],
      "metadata": {
        "colab": {
          "base_uri": "https://localhost:8080/"
        },
        "id": "fxpLK1ED4LLD",
        "outputId": "28cf91d6-8c35-4104-b1d0-339c4e5f8fc1"
      },
      "execution_count": 47,
      "outputs": [
        {
          "output_type": "execute_result",
          "data": {
            "text/plain": [
              "([0, 1, 2, 3, 4], [1, 2, 3, 4], [0, 1, 2, 3, 4])"
            ]
          },
          "metadata": {},
          "execution_count": 47
        }
      ]
    },
    {
      "cell_type": "code",
      "source": [
        "list(map(list, (range(5), range(0, 5), range(0, 5, 2))))"
      ],
      "metadata": {
        "colab": {
          "base_uri": "https://localhost:8080/"
        },
        "id": "oPtaCpRczXyh",
        "outputId": "26961ff7-9498-4eaf-e253-a907493de0f9"
      },
      "execution_count": 48,
      "outputs": [
        {
          "output_type": "execute_result",
          "data": {
            "text/plain": [
              "[[0, 1, 2, 3, 4], [0, 1, 2, 3, 4], [0, 2, 4]]"
            ]
          },
          "metadata": {},
          "execution_count": 48
        }
      ]
    },
    {
      "cell_type": "code",
      "source": [
        "t = (10, 11, 12, 13, 14)\n",
        "t "
      ],
      "metadata": {
        "colab": {
          "base_uri": "https://localhost:8080/"
        },
        "id": "g0r_dxVOzBtL",
        "outputId": "b83b9bd2-5f1e-41f1-e5a8-e19ad117d9ee"
      },
      "execution_count": 49,
      "outputs": [
        {
          "output_type": "execute_result",
          "data": {
            "text/plain": [
              "(10, 11, 12, 13, 14)"
            ]
          },
          "metadata": {},
          "execution_count": 49
        }
      ]
    },
    {
      "cell_type": "code",
      "source": [
        "list(t)"
      ],
      "metadata": {
        "colab": {
          "base_uri": "https://localhost:8080/"
        },
        "id": "_s5zw5Ql5L1i",
        "outputId": "7b954935-7283-40c5-d6e3-a1b72265e83a"
      },
      "execution_count": 50,
      "outputs": [
        {
          "output_type": "execute_result",
          "data": {
            "text/plain": [
              "[10, 11, 12, 13, 14]"
            ]
          },
          "metadata": {},
          "execution_count": 50
        }
      ]
    },
    {
      "cell_type": "code",
      "source": [
        "t2 = 10, 12, 14, 16, 18\n",
        "t2"
      ],
      "metadata": {
        "colab": {
          "base_uri": "https://localhost:8080/"
        },
        "id": "8FaWzn_w5LmC",
        "outputId": "c147daef-18eb-4cd0-ae5a-469f7687dd9a"
      },
      "execution_count": 51,
      "outputs": [
        {
          "output_type": "execute_result",
          "data": {
            "text/plain": [
              "(10, 12, 14, 16, 18)"
            ]
          },
          "metadata": {},
          "execution_count": 51
        }
      ]
    },
    {
      "cell_type": "code",
      "source": [
        "t3 = (10, True, 'hello', 1.2)\n",
        "t3"
      ],
      "metadata": {
        "colab": {
          "base_uri": "https://localhost:8080/"
        },
        "id": "xLD9M7ij5LFp",
        "outputId": "568381d1-e0e0-4b0d-d642-eee03da39a61"
      },
      "execution_count": 54,
      "outputs": [
        {
          "output_type": "execute_result",
          "data": {
            "text/plain": [
              "(10, True, 'hello', 1.2)"
            ]
          },
          "metadata": {},
          "execution_count": 54
        }
      ]
    },
    {
      "cell_type": "code",
      "source": [
        "a = [1, 2, 3, 4]\n",
        "tuple(a)"
      ],
      "metadata": {
        "colab": {
          "base_uri": "https://localhost:8080/"
        },
        "id": "hzzZX05o7i8B",
        "outputId": "049d8d8d-107c-4fb4-f9e8-9e027eb5bc3d"
      },
      "execution_count": 55,
      "outputs": [
        {
          "output_type": "execute_result",
          "data": {
            "text/plain": [
              "(1, 2, 3, 4)"
            ]
          },
          "metadata": {},
          "execution_count": 55
        }
      ]
    },
    {
      "cell_type": "code",
      "source": [
        "a, b, c = [1, 2, 3]\n",
        "a, b, c"
      ],
      "metadata": {
        "colab": {
          "base_uri": "https://localhost:8080/"
        },
        "id": "VxkV5UwH7tNS",
        "outputId": "564a3d80-cb3f-48fd-8b3d-0f09d6b7d7e5"
      },
      "execution_count": 56,
      "outputs": [
        {
          "output_type": "execute_result",
          "data": {
            "text/plain": [
              "(1, 2, 3)"
            ]
          },
          "metadata": {},
          "execution_count": 56
        }
      ]
    },
    {
      "cell_type": "code",
      "source": [
        "d, e, f = (4, 5, 6)\n",
        "d, e, f"
      ],
      "metadata": {
        "colab": {
          "base_uri": "https://localhost:8080/"
        },
        "id": "_b6yb7Ut7tP7",
        "outputId": "97789e29-2b7c-4d27-c1fe-14db09d0e05e"
      },
      "execution_count": 57,
      "outputs": [
        {
          "output_type": "execute_result",
          "data": {
            "text/plain": [
              "(4, 5, 6)"
            ]
          },
          "metadata": {},
          "execution_count": 57
        }
      ]
    },
    {
      "cell_type": "code",
      "source": [
        "g = [7, 8, 9]\n",
        "h = (10, 11, 12)\n",
        "g, h"
      ],
      "metadata": {
        "colab": {
          "base_uri": "https://localhost:8080/"
        },
        "id": "h2xh3wlq7tSR",
        "outputId": "77badf48-0e27-4cf9-ef17-da58879e2bd3"
      },
      "execution_count": 58,
      "outputs": [
        {
          "output_type": "execute_result",
          "data": {
            "text/plain": [
              "([7, 8, 9], (10, 11, 12))"
            ]
          },
          "metadata": {},
          "execution_count": 58
        }
      ]
    },
    {
      "cell_type": "code",
      "source": [],
      "metadata": {
        "id": "ArX8Z2em7tUe"
      },
      "execution_count": 54,
      "outputs": []
    },
    {
      "cell_type": "code",
      "source": [],
      "metadata": {
        "id": "4RIPyVGi7tWc"
      },
      "execution_count": 54,
      "outputs": []
    },
    {
      "cell_type": "code",
      "source": [],
      "metadata": {
        "id": "-Y3m36wm7tYe"
      },
      "execution_count": 54,
      "outputs": []
    },
    {
      "cell_type": "code",
      "source": [],
      "metadata": {
        "id": "8tWJAsct7tac"
      },
      "execution_count": 54,
      "outputs": []
    },
    {
      "cell_type": "code",
      "source": [],
      "metadata": {
        "id": "uZpbcJcT7tci"
      },
      "execution_count": null,
      "outputs": []
    }
  ]
}