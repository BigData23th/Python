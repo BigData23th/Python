{
  "nbformat": 4,
  "nbformat_minor": 0,
  "metadata": {
    "colab": {
      "provenance": [],
      "authorship_tag": "ABX9TyO3xfC/iocNbpwqSDlaHHPB",
      "include_colab_link": true
    },
    "kernelspec": {
      "name": "python3",
      "display_name": "Python 3"
    },
    "language_info": {
      "name": "python"
    }
  },
  "cells": [
    {
      "cell_type": "markdown",
      "metadata": {
        "id": "view-in-github",
        "colab_type": "text"
      },
      "source": [
        "<a href=\"https://colab.research.google.com/github/jyeongvv/Python_jy/blob/main/ch01_%EB%B3%B5%EC%8A%B5.ipynb\" target=\"_parent\"><img src=\"https://colab.research.google.com/assets/colab-badge.svg\" alt=\"Open In Colab\"/></a>"
      ]
    },
    {
      "cell_type": "code",
      "execution_count": 5,
      "metadata": {
        "id": "z5XdTz-ebTWb",
        "colab": {
          "base_uri": "https://localhost:8080/",
          "height": 136
        },
        "outputId": "186fbba3-bad8-4299-d777-1be637a0a195"
      },
      "outputs": [
        {
          "output_type": "error",
          "ename": "SyntaxError",
          "evalue": "ignored",
          "traceback": [
            "\u001b[0;36m  File \u001b[0;32m\"<ipython-input-5-5b2861935576>\"\u001b[0;36m, line \u001b[0;32m1\u001b[0m\n\u001b[0;31m    print(Hello World) #문자열 사용 시 \"\" 또는 '' 사용\u001b[0m\n\u001b[0m                ^\u001b[0m\n\u001b[0;31mSyntaxError\u001b[0m\u001b[0;31m:\u001b[0m invalid syntax\n"
          ]
        }
      ],
      "source": [
        "print(Hello World) #문자열 사용 시 \"\" 또는 '' 사용"
      ]
    },
    {
      "cell_type": "code",
      "source": [
        "# alt + enter : (셀)을 실행시키고 하단에 새로운 셀을 생성\n",
        "print('Hello World') # print(입력값) : 함수의 일종, 이비력한 값(숫자, 문자열 ....)을 출력"
      ],
      "metadata": {
        "colab": {
          "base_uri": "https://localhost:8080/"
        },
        "id": "3TQqddmace0F",
        "outputId": "1f644175-862a-4d19-ad42-d330dad393fa"
      },
      "execution_count": 7,
      "outputs": [
        {
          "output_type": "stream",
          "name": "stdout",
          "text": [
            "Hello World\n"
          ]
        }
      ]
    },
    {
      "cell_type": "code",
      "source": [
        "# (Ctrl + m) + b : (셀을 실행시키지 않고) 현재 셀의 하단에 새로운 코드 셀을 만들어줌\n",
        "# colab은 리눅스 환경에서 작동 -> 터미널(입력창)을 통해서 명령어로 작동하는 OS like 윈도우, 안드로이드\n",
        "# 리눅스의 어떤 특정한 기능을 하기 위해서는 (1) 터미널에 (2) 명령어를 넣어야 한다.\n",
        "# !를 앞에 붙이고 나면, 리눅스의 터미널(커널)에 명령어를 사용할 수 있음\n",
        "!python --version"
      ],
      "metadata": {
        "colab": {
          "base_uri": "https://localhost:8080/"
        },
        "id": "piLN31WgcZtw",
        "outputId": "e6679c7f-50d9-4995-96be-b6a0c49d265f"
      },
      "execution_count": 11,
      "outputs": [
        {
          "output_type": "stream",
          "name": "stdout",
          "text": [
            "Python 3.8.10\n"
          ]
        }
      ]
    },
    {
      "cell_type": "code",
      "source": [
        "#파이썬은 세미콜론을 안써도 됨, 쓴다해도 버그가 나진 않음\n",
        " # 큰따옴표 \"\" 사용 권장\n",
        "print(\"Ditto\")  #특정한 행을 위 아래로 복제하고 싶다 (alt + shift + 방향키)\n",
        "print(\"Ditto\"); #특정한 행을 위 아래로 복제하고 싶다 (alt + shift + 방향키)\n",
        "print(\"OMG\") # 줄바꿈 (alt+위아래방향키)\n",
        "# ctrl + a : 전체 지정\n",
        "# end : 특정 행의 끝 -> shift(범위 지정, 블록 지정)-> home : 특정행의 시작\n",
        "print(\"뉴진스\"); print(\"르세라핌\") # 세미콜론이 있으면 다른 줄로 인식"
      ],
      "metadata": {
        "colab": {
          "base_uri": "https://localhost:8080/"
        },
        "id": "Xgc8MNHkd8ik",
        "outputId": "843e782e-53c9-433d-e879-9f3e85ebb91a"
      },
      "execution_count": 13,
      "outputs": [
        {
          "output_type": "stream",
          "name": "stdout",
          "text": [
            "Ditto\n",
            "Ditto\n",
            "OMG\n",
            "뉴진스\n",
            "르세라핌\n"
          ]
        }
      ]
    },
    {
      "cell_type": "code",
      "source": [
        "# ctrl + m + - : 특정 행 기준으로 셀 분할"
      ],
      "metadata": {
        "id": "24wb61gxgCuT"
      },
      "execution_count": null,
      "outputs": []
    },
    {
      "cell_type": "code",
      "source": [
        "# 을 입력하고 뒤에 내용을 입력하면 -> 한줄 ㅜ주석\n",
        "#  주석으로 지정하는 단축키 : ctrl + /\n",
        "print(\"주석\") # 코드 뒤에 주석이 있어도 실행 영향 X\n",
        "# print(\"주석2\")# 실행 안됨"
      ],
      "metadata": {
        "colab": {
          "base_uri": "https://localhost:8080/"
        },
        "id": "m39rIAxPpUjz",
        "outputId": "355372bc-70fc-4098-e264-c58674560225"
      },
      "execution_count": 14,
      "outputs": [
        {
          "output_type": "stream",
          "name": "stdout",
          "text": [
            "주석\n"
          ]
        }
      ]
    },
    {
      "cell_type": "code",
      "source": [
        "'''\n",
        "여러 줄 주석을 할 때는\n",
        "\\'\\'\\' 또는 \"\"\"을 입력하세요\n",
        "'''\n",
        "print(\"안녕\")"
      ],
      "metadata": {
        "colab": {
          "base_uri": "https://localhost:8080/"
        },
        "id": "Ha_UJVcRppMT",
        "outputId": "b372bd52-5e9d-458b-a235-363e58c80e47"
      },
      "execution_count": 16,
      "outputs": [
        {
          "output_type": "stream",
          "name": "stdout",
          "text": [
            "안녕\n"
          ]
        }
      ]
    },
    {
      "cell_type": "code",
      "source": [
        "# 문자열을 입력할 때 외부에 ''(작은 따옴표)로 감쌌으면, ,안에 작은 따옴표를 넣으면 X\n",
        "# 굳이 넣고 싶다 -> 앞에 \\을 넣어서 escape시켜서 처리해야함"
      ],
      "metadata": {
        "id": "WEVyG7hip_aN"
      },
      "execution_count": 17,
      "outputs": []
    },
    {
      "cell_type": "code",
      "source": [
        "a = 1\n",
        "if a != 10: # 특정한 조건을 만족(옳을 때)시킬 때 작동하는 코드\n",
        "  print(\"10이 아니네요\") # 특정한 들여쓰기 범위 내에서만 조건 관련 코드"
      ],
      "metadata": {
        "colab": {
          "base_uri": "https://localhost:8080/"
        },
        "id": "v6CUPP1xqMXa",
        "outputId": "41b171e6-69c0-4b5c-e155-b7979235518a"
      },
      "execution_count": 18,
      "outputs": [
        {
          "output_type": "stream",
          "name": "stdout",
          "text": [
            "10이 아니네요\n"
          ]
        }
      ]
    },
    {
      "cell_type": "code",
      "source": [
        "if a != 10: # 특정한 조건을 만족(옳을 때)시킬 때 작동하는 코드\n",
        "  print(\"10이 아니네요\") # 특정한 들여쓰기 범위 내에서만 조건 관련 코드\n",
        "  # 들여쓰기 : tab으로 통일"
      ],
      "metadata": {
        "colab": {
          "base_uri": "https://localhost:8080/"
        },
        "id": "Gu0JxMFfqiUD",
        "outputId": "699e6752-80d6-46de-9d99-691cf6ee1871"
      },
      "execution_count": 19,
      "outputs": [
        {
          "output_type": "stream",
          "name": "stdout",
          "text": [
            "10이 아니네요\n"
          ]
        }
      ]
    },
    {
      "cell_type": "code",
      "source": [
        "if a == 10:\n",
        "    print(\"10이네요\")\n",
        "    if a == 10:\n",
        "      print(\"10이네요\")"
      ],
      "metadata": {
        "id": "VZwuWp1fq0bD"
      },
      "execution_count": 20,
      "outputs": []
    },
    {
      "cell_type": "code",
      "source": [
        "# 정수 (int, integer 양의 정수와 음의 정수와 0)\n",
        "# 실수 (float, 실수, 소수, 소수점이 붙어있음)\n",
        "1, 1.0"
      ],
      "metadata": {
        "colab": {
          "base_uri": "https://localhost:8080/"
        },
        "id": "o8Km7s-erFZQ",
        "outputId": "8ed1a4e7-220e-4731-f09f-330d15bd3114"
      },
      "execution_count": 21,
      "outputs": [
        {
          "output_type": "execute_result",
          "data": {
            "text/plain": [
              "(1, 1.0)"
            ]
          },
          "metadata": {},
          "execution_count": 21
        }
      ]
    },
    {
      "cell_type": "code",
      "source": [
        "# type : 자료형(데이터타입)을 확인\n",
        "type(1), type(1.0), type(\"1\")\n",
        "# str : string, 열, 문자열"
      ],
      "metadata": {
        "colab": {
          "base_uri": "https://localhost:8080/"
        },
        "id": "JPePNFDjrdNV",
        "outputId": "66391460-c972-4d58-dc77-d469e69888be"
      },
      "execution_count": 24,
      "outputs": [
        {
          "output_type": "execute_result",
          "data": {
            "text/plain": [
              "(int, float, str)"
            ]
          },
          "metadata": {},
          "execution_count": 24
        }
      ]
    },
    {
      "cell_type": "code",
      "source": [
        "# 사칙연산 -> 산ㄴ술연산자, 연산자 : 1개 이상의 피연산자(항)에 대해서 특정 연산(계산)을 실행시키는 명령\n",
        "1 + 1, 2 - 3, 5 * 8, 13 / 21"
      ],
      "metadata": {
        "colab": {
          "base_uri": "https://localhost:8080/"
        },
        "id": "4Zbqit8Pr_ly",
        "outputId": "5f16e63c-04ac-4513-ad30-169f824f8351"
      },
      "execution_count": 25,
      "outputs": [
        {
          "output_type": "execute_result",
          "data": {
            "text/plain": [
              "(2, -1, 40, 0.6190476190476191)"
            ]
          },
          "metadata": {},
          "execution_count": 25
        }
      ]
    },
    {
      "cell_type": "code",
      "source": [
        "20 / 4 # 정수 간 ( 딱 떨어지게) 나누기를 해도 결과값은 무조건 실수"
      ],
      "metadata": {
        "colab": {
          "base_uri": "https://localhost:8080/"
        },
        "id": "X8-Rm17psl24",
        "outputId": "f31f4120-6fc1-4f17-ead6-0049bd66043a"
      },
      "execution_count": 26,
      "outputs": [
        {
          "output_type": "execute_result",
          "data": {
            "text/plain": [
              "5.0"
            ]
          },
          "metadata": {},
          "execution_count": 26
        }
      ]
    },
    {
      "cell_type": "code",
      "source": [
        "20 // 4, 25 //4 # 몫 연산자 (소수점 밑은 버림)"
      ],
      "metadata": {
        "colab": {
          "base_uri": "https://localhost:8080/"
        },
        "id": "4-hihWGcszZj",
        "outputId": "6b81281d-c745-4246-abc0-aa34333f424b"
      },
      "execution_count": 29,
      "outputs": [
        {
          "output_type": "execute_result",
          "data": {
            "text/plain": [
              "(5, 6)"
            ]
          },
          "metadata": {},
          "execution_count": 29
        }
      ]
    },
    {
      "cell_type": "code",
      "source": [
        "5.5 // 2, 4 //1.0, 2.5 //0.2 # 항 중에(피연산자 중에) 하나라도 실수라면 실수 결과값"
      ],
      "metadata": {
        "colab": {
          "base_uri": "https://localhost:8080/"
        },
        "id": "ISrcpgI8tBJo",
        "outputId": "790a6fd2-251a-495c-c330-b9b0c278df0f"
      },
      "execution_count": 31,
      "outputs": [
        {
          "output_type": "execute_result",
          "data": {
            "text/plain": [
              "(2.0, 4.0, 12.0)"
            ]
          },
          "metadata": {},
          "execution_count": 31
        }
      ]
    },
    {
      "cell_type": "code",
      "source": [
        "# % (나머지 연산자, 모듈로, 모듈러스)\n",
        "10 % 3, 10 //3"
      ],
      "metadata": {
        "colab": {
          "base_uri": "https://localhost:8080/"
        },
        "id": "BBqRKAHxtLPF",
        "outputId": "5ec26427-d813-40e8-fbe9-795c45f1aa96"
      },
      "execution_count": 32,
      "outputs": [
        {
          "output_type": "execute_result",
          "data": {
            "text/plain": [
              "(1, 3)"
            ]
          },
          "metadata": {},
          "execution_count": 32
        }
      ]
    },
    {
      "cell_type": "code",
      "source": [
        "# 거듭제곱 연산자(**) /  루트 연산자도 겸함\n",
        "2 ** 5, 2 ** 0.5, 3 ** (1/3)"
      ],
      "metadata": {
        "colab": {
          "base_uri": "https://localhost:8080/"
        },
        "id": "AX9qi_HAtT0U",
        "outputId": "9d32a137-393a-4a80-868a-a33195f838ff"
      },
      "execution_count": 36,
      "outputs": [
        {
          "output_type": "execute_result",
          "data": {
            "text/plain": [
              "(32, 1.4142135623730951, 1.4422495703074083)"
            ]
          },
          "metadata": {},
          "execution_count": 36
        }
      ]
    },
    {
      "cell_type": "code",
      "source": [
        "# 값 -> 정수 (int(...))\n",
        "int(1), int(1.0), int(1 * 1), int(\"1\")"
      ],
      "metadata": {
        "colab": {
          "base_uri": "https://localhost:8080/"
        },
        "id": "31SmKlkawcoR",
        "outputId": "fee84950-1d99-4b6b-eda6-066c61a74b3c"
      },
      "execution_count": 39,
      "outputs": [
        {
          "output_type": "execute_result",
          "data": {
            "text/plain": [
              "(1, 1, 1, 1)"
            ]
          },
          "metadata": {},
          "execution_count": 39
        }
      ]
    },
    {
      "cell_type": "code",
      "source": [
        "int(\"1.0\") # 정수로 변환할 수 없는 숫자 문자열이기 때문에 오류"
      ],
      "metadata": {
        "colab": {
          "base_uri": "https://localhost:8080/",
          "height": 172
        },
        "id": "_5cdVLjZwz2U",
        "outputId": "bf4bca3a-5ee3-4928-9980-0828554f058b"
      },
      "execution_count": 40,
      "outputs": [
        {
          "output_type": "error",
          "ename": "ValueError",
          "evalue": "ignored",
          "traceback": [
            "\u001b[0;31m---------------------------------------------------------------------------\u001b[0m",
            "\u001b[0;31mValueError\u001b[0m                                Traceback (most recent call last)",
            "\u001b[0;32m<ipython-input-40-053c4235ab5b>\u001b[0m in \u001b[0;36m<module>\u001b[0;34m\u001b[0m\n\u001b[0;32m----> 1\u001b[0;31m \u001b[0mint\u001b[0m\u001b[0;34m(\u001b[0m\u001b[0;34m\"1.0\"\u001b[0m\u001b[0;34m)\u001b[0m \u001b[0;31m# 정수로 변환할 수 없는 숫자 문자열이기 때문에 오류\u001b[0m\u001b[0;34m\u001b[0m\u001b[0;34m\u001b[0m\u001b[0m\n\u001b[0m",
            "\u001b[0;31mValueError\u001b[0m: invalid literal for int() with base 10: '1.0'"
          ]
        }
      ]
    },
    {
      "cell_type": "code",
      "source": [
        "int(\"일\") # 숫자가 아니기 때문에 오류 "
      ],
      "metadata": {
        "colab": {
          "base_uri": "https://localhost:8080/",
          "height": 172
        },
        "id": "uH3SDOJGw7OR",
        "outputId": "38a72991-f2c4-49f1-a82b-541c5f8e9277"
      },
      "execution_count": 42,
      "outputs": [
        {
          "output_type": "error",
          "ename": "ValueError",
          "evalue": "ignored",
          "traceback": [
            "\u001b[0;31m---------------------------------------------------------------------------\u001b[0m",
            "\u001b[0;31mValueError\u001b[0m                                Traceback (most recent call last)",
            "\u001b[0;32m<ipython-input-42-c8ad75573921>\u001b[0m in \u001b[0;36m<module>\u001b[0;34m\u001b[0m\n\u001b[0;32m----> 1\u001b[0;31m \u001b[0mint\u001b[0m\u001b[0;34m(\u001b[0m\u001b[0;34m\"일\"\u001b[0m\u001b[0;34m)\u001b[0m \u001b[0;31m# 숫자가 아니기 때문에 오류\u001b[0m\u001b[0;34m\u001b[0m\u001b[0;34m\u001b[0m\u001b[0m\n\u001b[0m",
            "\u001b[0;31mValueError\u001b[0m: invalid literal for int() with base 10: '일'"
          ]
        }
      ]
    },
    {
      "cell_type": "code",
      "source": [
        "# //, % -> 한번에\n",
        "divmod(5,2) # divmod(a, b) : a가 나눠지는 수, b가 나누는 수 -> (몫, 나머지) (리턴값, 반환값)"
      ],
      "metadata": {
        "colab": {
          "base_uri": "https://localhost:8080/"
        },
        "id": "ZbzaIU-oxJo_",
        "outputId": "7820680a-db5f-4c35-f132-f7b029478c20"
      },
      "execution_count": 43,
      "outputs": [
        {
          "output_type": "execute_result",
          "data": {
            "text/plain": [
              "(2, 1)"
            ]
          },
          "metadata": {},
          "execution_count": 43
        }
      ]
    },
    {
      "cell_type": "code",
      "source": [
        "3.1 + 2.2"
      ],
      "metadata": {
        "colab": {
          "base_uri": "https://localhost:8080/"
        },
        "id": "wRsqznrYxZPE",
        "outputId": "fac3ff7b-7748-4e1d-8a3a-532e4120346a"
      },
      "execution_count": 44,
      "outputs": [
        {
          "output_type": "execute_result",
          "data": {
            "text/plain": [
              "5.300000000000001"
            ]
          },
          "metadata": {},
          "execution_count": 44
        }
      ]
    },
    {
      "cell_type": "code",
      "source": [
        "2.7 - 1.5 # 부동소수점 오류"
      ],
      "metadata": {
        "colab": {
          "base_uri": "https://localhost:8080/"
        },
        "id": "NnNrv6LZxc0X",
        "outputId": "78572ff0-759c-4c68-b37d-db4f50b94bf4"
      },
      "execution_count": 46,
      "outputs": [
        {
          "output_type": "execute_result",
          "data": {
            "text/plain": [
              "1.2000000000000002"
            ]
          },
          "metadata": {},
          "execution_count": 46
        }
      ]
    },
    {
      "cell_type": "code",
      "source": [
        "1.5 * 3.1"
      ],
      "metadata": {
        "colab": {
          "base_uri": "https://localhost:8080/"
        },
        "id": "ZVJU1r5jx0Cp",
        "outputId": "5d42802f-d5f6-4ded-c899-84d90e7dea21"
      },
      "execution_count": 47,
      "outputs": [
        {
          "output_type": "execute_result",
          "data": {
            "text/plain": [
              "4.65"
            ]
          },
          "metadata": {},
          "execution_count": 47
        }
      ]
    },
    {
      "cell_type": "code",
      "source": [
        "5.5 / 3.1"
      ],
      "metadata": {
        "colab": {
          "base_uri": "https://localhost:8080/"
        },
        "id": "upKDn137x13D",
        "outputId": "0c43f081-e54f-4c71-8eaa-de05d6ec7e06"
      },
      "execution_count": 49,
      "outputs": [
        {
          "output_type": "execute_result",
          "data": {
            "text/plain": [
              "1.7741935483870968"
            ]
          },
          "metadata": {},
          "execution_count": 49
        }
      ]
    },
    {
      "cell_type": "code",
      "source": [
        "# float -> float(...)\n",
        "float(1), float(4 / 5), float(\"1.0\")"
      ],
      "metadata": {
        "colab": {
          "base_uri": "https://localhost:8080/"
        },
        "id": "q8a6_OJ4x6Aa",
        "outputId": "5b46e22a-2e00-4391-ef2e-bc6209d97b7d"
      },
      "execution_count": 51,
      "outputs": [
        {
          "output_type": "execute_result",
          "data": {
            "text/plain": [
              "(1.0, 0.8, 1.0)"
            ]
          },
          "metadata": {},
          "execution_count": 51
        }
      ]
    },
    {
      "cell_type": "code",
      "source": [
        "# 텍스트로 특정한 숫자를 받았는데, 정수화를 하고 싶어 -> 이게 소수점이 아니라는 확신이 없을때\n",
        "int(float(\"1.0\"))"
      ],
      "metadata": {
        "colab": {
          "base_uri": "https://localhost:8080/"
        },
        "id": "y6K4M0sLyE8E",
        "outputId": "900bdac3-d967-4948-9b2b-41c25f7222fa"
      },
      "execution_count": 52,
      "outputs": [
        {
          "output_type": "execute_result",
          "data": {
            "text/plain": [
              "1"
            ]
          },
          "metadata": {},
          "execution_count": 52
        }
      ]
    },
    {
      "cell_type": "code",
      "source": [
        "1 + 2 * 3"
      ],
      "metadata": {
        "colab": {
          "base_uri": "https://localhost:8080/"
        },
        "id": "3InnCAZkyRci",
        "outputId": "5f0b9f10-75ce-4cee-ede3-98f6ffb38433"
      },
      "execution_count": 53,
      "outputs": [
        {
          "output_type": "execute_result",
          "data": {
            "text/plain": [
              "7"
            ]
          },
          "metadata": {},
          "execution_count": 53
        }
      ]
    },
    {
      "cell_type": "code",
      "source": [
        "(1 + 2) * 3  # 괄호 안의 값이 먼저 계산됨"
      ],
      "metadata": {
        "colab": {
          "base_uri": "https://localhost:8080/"
        },
        "id": "oZrJiwcMybt1",
        "outputId": "99697f37-a0a2-4db7-b965-151be396adff"
      },
      "execution_count": 54,
      "outputs": [
        {
          "output_type": "execute_result",
          "data": {
            "text/plain": [
              "9"
            ]
          },
          "metadata": {},
          "execution_count": 54
        }
      ]
    },
    {
      "cell_type": "code",
      "source": [
        "x = 10 # 같다는 의미가 아니고 할당의 의미 (같다는 ==)"
      ],
      "metadata": {
        "id": "TI16Yp4bydeP"
      },
      "execution_count": 55,
      "outputs": []
    },
    {
      "cell_type": "code",
      "source": [
        "x"
      ],
      "metadata": {
        "colab": {
          "base_uri": "https://localhost:8080/"
        },
        "id": "mTjnLNEIzIxn",
        "outputId": "50e5516a-a771-4b7d-de35-e03ad7548491"
      },
      "execution_count": 57,
      "outputs": [
        {
          "output_type": "execute_result",
          "data": {
            "text/plain": [
              "10"
            ]
          },
          "metadata": {},
          "execution_count": 57
        }
      ]
    },
    {
      "cell_type": "code",
      "source": [
        "y = \"The행복식당\"\n",
        "y"
      ],
      "metadata": {
        "colab": {
          "base_uri": "https://localhost:8080/",
          "height": 35
        },
        "id": "eLpHoJSzzW5w",
        "outputId": "6f22bd0a-66ce-4336-ca95-71fa615acb41"
      },
      "execution_count": 59,
      "outputs": [
        {
          "output_type": "execute_result",
          "data": {
            "text/plain": [
              "'The행복식당'"
            ],
            "application/vnd.google.colaboratory.intrinsic+json": {
              "type": "string"
            }
          },
          "metadata": {},
          "execution_count": 59
        }
      ]
    },
    {
      "cell_type": "code",
      "source": [
        "type(x), type(y)"
      ],
      "metadata": {
        "colab": {
          "base_uri": "https://localhost:8080/"
        },
        "id": "AJoUxq-Mzerb",
        "outputId": "80a3d4f8-73cc-458d-a44d-7588177a3157"
      },
      "execution_count": 61,
      "outputs": [
        {
          "output_type": "execute_result",
          "data": {
            "text/plain": [
              "(int, str)"
            ]
          },
          "metadata": {},
          "execution_count": 61
        }
      ]
    },
    {
      "cell_type": "markdown",
      "source": [
        "* `=` : 대입 연산자, 할당 연산자\n",
        "* 같다, `==` : 동등 연산자"
      ],
      "metadata": {
        "id": "ppU_hFIdzw0z"
      }
    },
    {
      "cell_type": "code",
      "source": [
        "x = None\n",
        "print(x)"
      ],
      "metadata": {
        "colab": {
          "base_uri": "https://localhost:8080/"
        },
        "id": "nBaNyaaIzvC_",
        "outputId": "81b82e18-2fb8-4faa-c96e-b5c1f1639570"
      },
      "execution_count": 63,
      "outputs": [
        {
          "output_type": "stream",
          "name": "stdout",
          "text": [
            "None\n"
          ]
        }
      ]
    },
    {
      "cell_type": "code",
      "source": [
        "a = 12 + 13 * 10 + 5\n",
        "b = 17 / 5 * 20 + 19\n",
        "a + b"
      ],
      "metadata": {
        "colab": {
          "base_uri": "https://localhost:8080/"
        },
        "id": "VcmQ0EJp0joK",
        "outputId": "359a8ef0-4d13-4809-ef8b-3f0654698ec8"
      },
      "execution_count": 66,
      "outputs": [
        {
          "output_type": "execute_result",
          "data": {
            "text/plain": [
              "234.0"
            ]
          },
          "metadata": {},
          "execution_count": 66
        }
      ]
    },
    {
      "cell_type": "code",
      "source": [
        "c = a + b\n",
        "c"
      ],
      "metadata": {
        "colab": {
          "base_uri": "https://localhost:8080/"
        },
        "id": "5zqT9pN_05U4",
        "outputId": "1fb7df6f-49e0-454f-c921-0c16492ddeb7"
      },
      "execution_count": 67,
      "outputs": [
        {
          "output_type": "execute_result",
          "data": {
            "text/plain": [
              "234.0"
            ]
          },
          "metadata": {},
          "execution_count": 67
        }
      ]
    },
    {
      "cell_type": "code",
      "source": [
        "a = 10\n",
        "a + 20"
      ],
      "metadata": {
        "colab": {
          "base_uri": "https://localhost:8080/"
        },
        "id": "CpYaVENn08Ig",
        "outputId": "901f0443-b171-4437-875e-0dac88935d70"
      },
      "execution_count": 79,
      "outputs": [
        {
          "output_type": "execute_result",
          "data": {
            "text/plain": [
              "30"
            ]
          },
          "metadata": {},
          "execution_count": 79
        }
      ]
    },
    {
      "cell_type": "code",
      "source": [
        "a"
      ],
      "metadata": {
        "colab": {
          "base_uri": "https://localhost:8080/"
        },
        "id": "qIqtHdA21CuT",
        "outputId": "d08d3aea-ad30-4db9-820e-56f03c43a0b0"
      },
      "execution_count": 80,
      "outputs": [
        {
          "output_type": "execute_result",
          "data": {
            "text/plain": [
              "10"
            ]
          },
          "metadata": {},
          "execution_count": 80
        }
      ]
    },
    {
      "cell_type": "code",
      "source": [
        "a += 20\n",
        "a"
      ],
      "metadata": {
        "colab": {
          "base_uri": "https://localhost:8080/"
        },
        "id": "JJd3QDtE1ev8",
        "outputId": "b1ca59a4-c194-4a78-9a71-ddcda0b6041e"
      },
      "execution_count": 82,
      "outputs": [
        {
          "output_type": "execute_result",
          "data": {
            "text/plain": [
              "30"
            ]
          },
          "metadata": {},
          "execution_count": 82
        }
      ]
    },
    {
      "cell_type": "code",
      "source": [
        "a -= 20\n",
        "a"
      ],
      "metadata": {
        "colab": {
          "base_uri": "https://localhost:8080/"
        },
        "id": "KZWhlvlr1hGO",
        "outputId": "acbc3fa0-daca-48a6-f61d-8d9bf32c074b"
      },
      "execution_count": 84,
      "outputs": [
        {
          "output_type": "execute_result",
          "data": {
            "text/plain": [
              "10"
            ]
          },
          "metadata": {},
          "execution_count": 84
        }
      ]
    },
    {
      "cell_type": "code",
      "source": [
        "a %= 5\n",
        "a"
      ],
      "metadata": {
        "colab": {
          "base_uri": "https://localhost:8080/"
        },
        "id": "XNxqjhNG18cr",
        "outputId": "e8715aec-0e53-44d9-ea67-8ac039184be6"
      },
      "execution_count": 85,
      "outputs": [
        {
          "output_type": "execute_result",
          "data": {
            "text/plain": [
              "0"
            ]
          },
          "metadata": {},
          "execution_count": 85
        }
      ]
    },
    {
      "cell_type": "code",
      "source": [
        "d += 10 # d가 없어서 (정의되지 않아서) 새로운 값을 더한 뒤 대입"
      ],
      "metadata": {
        "colab": {
          "base_uri": "https://localhost:8080/",
          "height": 172
        },
        "id": "vWbmCVe71V_M",
        "outputId": "96c8e3d0-d319-4ba9-a4d3-b8d05e28bb40"
      },
      "execution_count": 83,
      "outputs": [
        {
          "output_type": "error",
          "ename": "NameError",
          "evalue": "ignored",
          "traceback": [
            "\u001b[0;31m---------------------------------------------------------------------------\u001b[0m",
            "\u001b[0;31mNameError\u001b[0m                                 Traceback (most recent call last)",
            "\u001b[0;32m<ipython-input-83-d8c701aa788c>\u001b[0m in \u001b[0;36m<module>\u001b[0;34m\u001b[0m\n\u001b[0;32m----> 1\u001b[0;31m \u001b[0md\u001b[0m \u001b[0;34m+=\u001b[0m \u001b[0;36m10\u001b[0m \u001b[0;31m# d가 없어서 (정의되지 않아서) 새로운 값을 더한 뒤 대입\u001b[0m\u001b[0;34m\u001b[0m\u001b[0;34m\u001b[0m\u001b[0m\n\u001b[0m",
            "\u001b[0;31mNameError\u001b[0m: name 'd' is not defined"
          ]
        }
      ]
    },
    {
      "cell_type": "code",
      "source": [
        "d = 10 # 변수의 자리를 만드는 길 : '선언', 값을 대입하는 길 '초기화'\n",
        "# 초기화 != reset / 초기화 = intialization"
      ],
      "metadata": {
        "id": "vuabJHMI1o_2"
      },
      "execution_count": null,
      "outputs": []
    },
    {
      "cell_type": "code",
      "source": [
        "input()"
      ],
      "metadata": {
        "colab": {
          "base_uri": "https://localhost:8080/",
          "height": 53
        },
        "id": "WxD1ZTiQ1dJm",
        "outputId": "1f787d29-c77b-432f-986f-eabd089900e7"
      },
      "execution_count": 87,
      "outputs": [
        {
          "name": "stdout",
          "output_type": "stream",
          "text": [
            "ㅇ\n"
          ]
        },
        {
          "output_type": "execute_result",
          "data": {
            "text/plain": [
              "'ㅇ'"
            ],
            "application/vnd.google.colaboratory.intrinsic+json": {
              "type": "string"
            }
          },
          "metadata": {},
          "execution_count": 87
        }
      ]
    },
    {
      "cell_type": "code",
      "source": [
        "input(\"인사를 친절하게 해줘 : \") # 문자열 -> 안내문"
      ],
      "metadata": {
        "colab": {
          "base_uri": "https://localhost:8080/",
          "height": 53
        },
        "id": "o2YgwoWv2GMk",
        "outputId": "6ceaea19-1284-48dd-e98b-7a6a9cb3af7c"
      },
      "execution_count": 89,
      "outputs": [
        {
          "name": "stdout",
          "output_type": "stream",
          "text": [
            "인사를 친절하게 해줘 : 웅야\n"
          ]
        },
        {
          "output_type": "execute_result",
          "data": {
            "text/plain": [
              "'웅야'"
            ],
            "application/vnd.google.colaboratory.intrinsic+json": {
              "type": "string"
            }
          },
          "metadata": {},
          "execution_count": 89
        }
      ]
    },
    {
      "cell_type": "code",
      "source": [
        "x = input() # 프롬프트에 '문자열'을 입력하는 함수(기능)\n",
        "x"
      ],
      "metadata": {
        "colab": {
          "base_uri": "https://localhost:8080/",
          "height": 53
        },
        "id": "lF5IF7nj2PlF",
        "outputId": "1cc1eafe-9bfe-4889-e53b-3a6cf4a6fab8"
      },
      "execution_count": 91,
      "outputs": [
        {
          "name": "stdout",
          "output_type": "stream",
          "text": [
            "와아\n"
          ]
        },
        {
          "output_type": "execute_result",
          "data": {
            "text/plain": [
              "'와아'"
            ],
            "application/vnd.google.colaboratory.intrinsic+json": {
              "type": "string"
            }
          },
          "metadata": {},
          "execution_count": 91
        }
      ]
    },
    {
      "cell_type": "code",
      "source": [
        "  type(x)"
      ],
      "metadata": {
        "colab": {
          "base_uri": "https://localhost:8080/"
        },
        "id": "jNZibRFC2bVk",
        "outputId": "9b112041-fefc-417c-fa02-6155673924cb"
      },
      "execution_count": 93,
      "outputs": [
        {
          "output_type": "execute_result",
          "data": {
            "text/plain": [
              "str"
            ]
          },
          "metadata": {},
          "execution_count": 93
        }
      ]
    },
    {
      "cell_type": "code",
      "source": [
        "a = input('숫자를 입력해주세요 : ')\n",
        "b = input('숫자를 입력해주세요 : ')\n",
        "\n",
        "int(a) + int(b) # 덧셈 연산을 실행하기 앞서서 int가 실행이 되면서 정수로 변환"
      ],
      "metadata": {
        "colab": {
          "base_uri": "https://localhost:8080/"
        },
        "id": "R88l72P62gDr",
        "outputId": "46343197-0314-4224-cec0-3ab823436997"
      },
      "execution_count": 97,
      "outputs": [
        {
          "name": "stdout",
          "output_type": "stream",
          "text": [
            "숫자를 입력해주세요 : 4\n",
            "숫자를 입력해주세요 : 2\n"
          ]
        },
        {
          "output_type": "execute_result",
          "data": {
            "text/plain": [
              "6"
            ]
          },
          "metadata": {},
          "execution_count": 97
        }
      ]
    },
    {
      "cell_type": "code",
      "source": [
        "a = int(input('숫자를 입력하세요 : ')) # 변수 a에 대입하기 전에 input의 결과값을 int로 변환\n",
        "b = int(input('숫자를 입력하세요 : '))\n",
        "\n",
        "a + b"
      ],
      "metadata": {
        "colab": {
          "base_uri": "https://localhost:8080/"
        },
        "id": "UmYbzYbZ25Vh",
        "outputId": "d2b33751-eca0-4554-a971-cc26ea4208e3"
      },
      "execution_count": 98,
      "outputs": [
        {
          "name": "stdout",
          "output_type": "stream",
          "text": [
            "숫자를 입력하세요 : 3\n",
            "숫자를 입력하세요 : 2\n"
          ]
        },
        {
          "output_type": "execute_result",
          "data": {
            "text/plain": [
              "5"
            ]
          },
          "metadata": {},
          "execution_count": 98
        }
      ]
    },
    {
      "cell_type": "code",
      "source": [
        "\"안녕하세요 여러분\" # 문자열 (리터럴)"
      ],
      "metadata": {
        "colab": {
          "base_uri": "https://localhost:8080/",
          "height": 35
        },
        "id": "Q1v4VL3h3e55",
        "outputId": "9cc9f00a-2eb7-4b8f-de2f-1b5156b2b41c"
      },
      "execution_count": 100,
      "outputs": [
        {
          "output_type": "execute_result",
          "data": {
            "text/plain": [
              "'안녕하세요 여러분'"
            ],
            "application/vnd.google.colaboratory.intrinsic+json": {
              "type": "string"
            }
          },
          "metadata": {},
          "execution_count": 100
        }
      ]
    },
    {
      "cell_type": "code",
      "source": [
        "type(\"안녕하세요 여러분\")"
      ],
      "metadata": {
        "colab": {
          "base_uri": "https://localhost:8080/"
        },
        "id": "P8Oyw_2_3tF_",
        "outputId": "00d8193f-4c3b-4365-8142-6ea7fa902fed"
      },
      "execution_count": 101,
      "outputs": [
        {
          "output_type": "execute_result",
          "data": {
            "text/plain": [
              "str"
            ]
          },
          "metadata": {},
          "execution_count": 101
        }
      ]
    },
    {
      "cell_type": "code",
      "source": [
        "# 특정한 구분자(separator)를 기준으로 문자열을 분리 (기본값 : ' ')\n",
        "\"안녕하세요 여러분\" .split() # 특정한 타입, 객체에 내장되어 있는 함수(기능) : 메소드(method)"
      ],
      "metadata": {
        "colab": {
          "base_uri": "https://localhost:8080/"
        },
        "id": "4i2djOHm3wmE",
        "outputId": "bd7c51d6-1ca7-4975-fced-41ee876cfd02"
      },
      "execution_count": 103,
      "outputs": [
        {
          "output_type": "execute_result",
          "data": {
            "text/plain": [
              "['안녕하세요', '여러분']"
            ]
          },
          "metadata": {},
          "execution_count": 103
        }
      ]
    },
    {
      "cell_type": "code",
      "source": [
        "\"안녕하세여, 여러분\" .split()"
      ],
      "metadata": {
        "colab": {
          "base_uri": "https://localhost:8080/"
        },
        "id": "kqbBh3Vn4Tex",
        "outputId": "111587b4-0bd3-4115-e744-ce3ee6071ff1"
      },
      "execution_count": 104,
      "outputs": [
        {
          "output_type": "execute_result",
          "data": {
            "text/plain": [
              "['안녕하세여,', '여러분']"
            ]
          },
          "metadata": {},
          "execution_count": 104
        }
      ]
    },
    {
      "cell_type": "code",
      "source": [
        "\"안녕하세여, 여러분\" .split(\",\") # 매개변수(parameter, 인수)\n",
        "# 매개변수에 들어가는 값 <- 인자(argument)"
      ],
      "metadata": {
        "colab": {
          "base_uri": "https://localhost:8080/"
        },
        "id": "y9riqFhr4btR",
        "outputId": "b8d100e4-f443-4465-a593-5a19dda6f967"
      },
      "execution_count": 106,
      "outputs": [
        {
          "output_type": "execute_result",
          "data": {
            "text/plain": [
              "['안녕하세여', ' 여러분']"
            ]
          },
          "metadata": {},
          "execution_count": 106
        }
      ]
    },
    {
      "cell_type": "code",
      "source": [
        "a, b = \"안녕하세여, 여러분\" .split(\",\")\n",
        "# 2개 이상의 값이 결과로 나올 경우, \n",
        "# 해당 결과의 갯수에 맞게 변수를 위치시켜주면, 알아서 할당됨"
      ],
      "metadata": {
        "id": "NhjfATKP5UBs"
      },
      "execution_count": 107,
      "outputs": []
    },
    {
      "cell_type": "code",
      "source": [
        "a, b = input('문자열 두 개를 스페이스 기준으로 입력해주세요 :').split()\n",
        "a, b"
      ],
      "metadata": {
        "colab": {
          "base_uri": "https://localhost:8080/"
        },
        "id": "2I_qwJg05hMJ",
        "outputId": "ac184fc1-7610-4281-d664-6939a17ae913"
      },
      "execution_count": 111,
      "outputs": [
        {
          "name": "stdout",
          "output_type": "stream",
          "text": [
            "문자열 두 개를 스페이스 기준으로 입력해주세요 :안녕, 안녕\n"
          ]
        },
        {
          "output_type": "execute_result",
          "data": {
            "text/plain": [
              "('안녕,', '안녕')"
            ]
          },
          "metadata": {},
          "execution_count": 111
        }
      ]
    },
    {
      "cell_type": "code",
      "source": [
        "a, b = input('문자열 두 개를 스페이스 기준으로 입력해주세요 :').split(\",\")\n",
        "a, b"
      ],
      "metadata": {
        "colab": {
          "base_uri": "https://localhost:8080/",
          "height": 209
        },
        "id": "oNOcvaaY51Fj",
        "outputId": "b83e47ef-1f23-4ec3-e5a4-d7e1d29eb323"
      },
      "execution_count": 110,
      "outputs": [
        {
          "name": "stdout",
          "output_type": "stream",
          "text": [
            "문자열 두 개를 스페이스 기준으로 입력해주세요 :안녕 바이\n"
          ]
        },
        {
          "output_type": "error",
          "ename": "ValueError",
          "evalue": "ignored",
          "traceback": [
            "\u001b[0;31m---------------------------------------------------------------------------\u001b[0m",
            "\u001b[0;31mValueError\u001b[0m                                Traceback (most recent call last)",
            "\u001b[0;32m<ipython-input-110-9b17766e2d3a>\u001b[0m in \u001b[0;36m<module>\u001b[0;34m\u001b[0m\n\u001b[0;32m----> 1\u001b[0;31m \u001b[0ma\u001b[0m\u001b[0;34m,\u001b[0m \u001b[0mb\u001b[0m \u001b[0;34m=\u001b[0m \u001b[0minput\u001b[0m\u001b[0;34m(\u001b[0m\u001b[0;34m'문자열 두 개를 스페이스 기준으로 입력해주세요 :'\u001b[0m\u001b[0;34m)\u001b[0m\u001b[0;34m.\u001b[0m\u001b[0msplit\u001b[0m\u001b[0;34m(\u001b[0m\u001b[0;34m\",\"\u001b[0m\u001b[0;34m)\u001b[0m\u001b[0;34m\u001b[0m\u001b[0;34m\u001b[0m\u001b[0m\n\u001b[0m\u001b[1;32m      2\u001b[0m \u001b[0ma\u001b[0m\u001b[0;34m,\u001b[0m \u001b[0mb\u001b[0m\u001b[0;34m\u001b[0m\u001b[0;34m\u001b[0m\u001b[0m\n",
            "\u001b[0;31mValueError\u001b[0m: not enough values to unpack (expected 2, got 1)"
          ]
        }
      ]
    },
    {
      "cell_type": "code",
      "source": [
        "a, b = input('문자열 두 개를 스페이스 기준으로 입력해주세요 :').split(\",\")\n",
        "a, b"
      ],
      "metadata": {
        "colab": {
          "base_uri": "https://localhost:8080/",
          "height": 209
        },
        "id": "EutXwR2S6JIV",
        "outputId": "5b94734c-4257-4ada-f4ab-42f11196fd22"
      },
      "execution_count": 112,
      "outputs": [
        {
          "name": "stdout",
          "output_type": "stream",
          "text": [
            "문자열 두 개를 스페이스 기준으로 입력해주세요 :안녕, 바이, 바롱\n"
          ]
        },
        {
          "output_type": "error",
          "ename": "ValueError",
          "evalue": "ignored",
          "traceback": [
            "\u001b[0;31m---------------------------------------------------------------------------\u001b[0m",
            "\u001b[0;31mValueError\u001b[0m                                Traceback (most recent call last)",
            "\u001b[0;32m<ipython-input-112-9b17766e2d3a>\u001b[0m in \u001b[0;36m<module>\u001b[0;34m\u001b[0m\n\u001b[0;32m----> 1\u001b[0;31m \u001b[0ma\u001b[0m\u001b[0;34m,\u001b[0m \u001b[0mb\u001b[0m \u001b[0;34m=\u001b[0m \u001b[0minput\u001b[0m\u001b[0;34m(\u001b[0m\u001b[0;34m'문자열 두 개를 스페이스 기준으로 입력해주세요 :'\u001b[0m\u001b[0;34m)\u001b[0m\u001b[0;34m.\u001b[0m\u001b[0msplit\u001b[0m\u001b[0;34m(\u001b[0m\u001b[0;34m\",\"\u001b[0m\u001b[0;34m)\u001b[0m\u001b[0;34m\u001b[0m\u001b[0;34m\u001b[0m\u001b[0m\n\u001b[0m\u001b[1;32m      2\u001b[0m \u001b[0ma\u001b[0m\u001b[0;34m,\u001b[0m \u001b[0mb\u001b[0m\u001b[0;34m\u001b[0m\u001b[0;34m\u001b[0m\u001b[0m\n",
            "\u001b[0;31mValueError\u001b[0m: too many values to unpack (expected 2)"
          ]
        }
      ]
    },
    {
      "cell_type": "code",
      "source": [
        "a, b = input('문자열 두 개를 스페이스 기준으로 입력해주세요 :').split(\",\")\n",
        "a, b"
      ],
      "metadata": {
        "colab": {
          "base_uri": "https://localhost:8080/"
        },
        "id": "KTN1K1-n6Oe3",
        "outputId": "1400f1ba-d56b-4219-dd97-01a8aae10904"
      },
      "execution_count": 113,
      "outputs": [
        {
          "name": "stdout",
          "output_type": "stream",
          "text": [
            "문자열 두 개를 스페이스 기준으로 입력해주세요 :안녕, 바이\n"
          ]
        },
        {
          "output_type": "execute_result",
          "data": {
            "text/plain": [
              "('안녕', ' 바이')"
            ]
          },
          "metadata": {},
          "execution_count": 113
        }
      ]
    },
    {
      "cell_type": "code",
      "source": [
        "a, b = input('숫자 두 개를 입력하세요 : ').split()\n",
        "a + b"
      ],
      "metadata": {
        "colab": {
          "base_uri": "https://localhost:8080/",
          "height": 53
        },
        "id": "bsMtFy3g6Wvi",
        "outputId": "f22b415b-fafa-4358-afbd-0b4f38a0edbb"
      },
      "execution_count": 114,
      "outputs": [
        {
          "name": "stdout",
          "output_type": "stream",
          "text": [
            "숫자 두 개를 입력하세요 : 1 2\n"
          ]
        },
        {
          "output_type": "execute_result",
          "data": {
            "text/plain": [
              "'12'"
            ],
            "application/vnd.google.colaboratory.intrinsic+json": {
              "type": "string"
            }
          },
          "metadata": {},
          "execution_count": 114
        }
      ]
    },
    {
      "cell_type": "code",
      "source": [
        "a, b = input('숫자 두 개를 입력하세요 : ').split()\n",
        "int(a) + int(b)"
      ],
      "metadata": {
        "colab": {
          "base_uri": "https://localhost:8080/"
        },
        "id": "rhArSUyg6pq-",
        "outputId": "fd1d03d5-76d2-4000-c4c5-cb496a07e0dc"
      },
      "execution_count": 115,
      "outputs": [
        {
          "name": "stdout",
          "output_type": "stream",
          "text": [
            "숫자 두 개를 입력하세요 : 5 3\n"
          ]
        },
        {
          "output_type": "execute_result",
          "data": {
            "text/plain": [
              "8"
            ]
          },
          "metadata": {},
          "execution_count": 115
        }
      ]
    },
    {
      "cell_type": "code",
      "source": [
        "a, b = input('숫자 두 개를 입력하세요 : ').split()\n",
        "a = int(a)\n",
        "b = int(b)\n",
        "a + b"
      ],
      "metadata": {
        "colab": {
          "base_uri": "https://localhost:8080/"
        },
        "id": "EYiHGsym60d_",
        "outputId": "9e51838e-57b9-4d3e-afa0-db43e80db64e"
      },
      "execution_count": 116,
      "outputs": [
        {
          "name": "stdout",
          "output_type": "stream",
          "text": [
            "숫자 두 개를 입력하세요 : 3 4\n"
          ]
        },
        {
          "output_type": "execute_result",
          "data": {
            "text/plain": [
              "7"
            ]
          },
          "metadata": {},
          "execution_count": 116
        }
      ]
    },
    {
      "cell_type": "code",
      "source": [
        "a, b = map(int, input('숫자 두 개를 입력하세요 : ').split()) # ()는 실행\n",
        "# map(실행되기 전에 함수, 함수를 통해서 처리하고 싶은 값들\n",
        "a + b"
      ],
      "metadata": {
        "colab": {
          "base_uri": "https://localhost:8080/"
        },
        "id": "B142q7sO7MLP",
        "outputId": "6a1e3339-262c-414f-ef17-cbd0e3ee9a94"
      },
      "execution_count": 118,
      "outputs": [
        {
          "name": "stdout",
          "output_type": "stream",
          "text": [
            "숫자 두 개를 입력하세요 : 2 3\n"
          ]
        },
        {
          "output_type": "execute_result",
          "data": {
            "text/plain": [
              "5"
            ]
          },
          "metadata": {},
          "execution_count": 118
        }
      ]
    },
    {
      "cell_type": "code",
      "source": [
        "a, b = map(float, input('숫자 두 개를 입력하세요 : ').split()) # ()는 실행\n",
        "# map(실행되기 전에 함수, 함수를 통해서 처리하고 싶은 값들\n",
        "a + b\n",
        "# print는 실행은 되는데 None이 뜸"
      ],
      "metadata": {
        "colab": {
          "base_uri": "https://localhost:8080/"
        },
        "id": "uHzX7TdK709b",
        "outputId": "e1cf25f1-79a8-4a05-f307-73d4a0ba757c"
      },
      "execution_count": 119,
      "outputs": [
        {
          "name": "stdout",
          "output_type": "stream",
          "text": [
            "숫자 두 개를 입력하세요 : 1.4 3.2\n"
          ]
        },
        {
          "output_type": "execute_result",
          "data": {
            "text/plain": [
              "4.6"
            ]
          },
          "metadata": {},
          "execution_count": 119
        }
      ]
    },
    {
      "cell_type": "code",
      "source": [
        "print(\"a\", \"b\", 1) # 매개변수의 갯수가 정해져 있지 않은 함수 # args..."
      ],
      "metadata": {
        "colab": {
          "base_uri": "https://localhost:8080/"
        },
        "id": "zf7A0916_BSd",
        "outputId": "1e8e682e-31c6-4744-f4d8-15452f620811"
      },
      "execution_count": 120,
      "outputs": [
        {
          "output_type": "stream",
          "name": "stdout",
          "text": [
            "a b 1\n"
          ]
        }
      ]
    },
    {
      "cell_type": "code",
      "source": [
        "print(\"a\", \"b\", 1, sep=' ')\n",
        "print(\"a\", \"b\", 1, sep='') # none도 빈 공간도 아니지만 값이긴하다....\n",
        "print(\"a\", \"b\", 1, sep=';')\n",
        "print(\"a\", \"b\", 1, sep='랑 ')"
      ],
      "metadata": {
        "colab": {
          "base_uri": "https://localhost:8080/"
        },
        "id": "pRdUXI-z_fGF",
        "outputId": "c9409a50-68f6-4076-be3c-33c9aaccda63"
      },
      "execution_count": 124,
      "outputs": [
        {
          "output_type": "stream",
          "name": "stdout",
          "text": [
            "a b 1\n",
            "ab1\n",
            "a;b;1\n",
            "a랑 b랑 1\n"
          ]
        }
      ]
    },
    {
      "cell_type": "code",
      "source": [
        "print(\"민지\", end='\\n') # 자동으로 줄바꿈\n",
        "print(\"다니엘\")\n",
        "print(\"혜인\", end='')\n",
        "print(\"해린\", end='이라는 사람,\\n')\n",
        "print(\"하니\")"
      ],
      "metadata": {
        "colab": {
          "base_uri": "https://localhost:8080/"
        },
        "id": "ymqU_kjvANEs",
        "outputId": "85b86ef0-4fe6-4817-e730-9cc8f26cdae1"
      },
      "execution_count": 129,
      "outputs": [
        {
          "output_type": "stream",
          "name": "stdout",
          "text": [
            "민지\n",
            "다니엘\n",
            "혜인해린이라는 사람,\n",
            "하니\n"
          ]
        }
      ]
    },
    {
      "cell_type": "code",
      "source": [
        "print(\"민지\\n다니엘\\n혜인\\n해린\\n하니\")"
      ],
      "metadata": {
        "colab": {
          "base_uri": "https://localhost:8080/"
        },
        "id": "Cb1uqqX5BVx_",
        "outputId": "3f34b45a-7469-4b0e-f769-938e0602d640"
      },
      "execution_count": 130,
      "outputs": [
        {
          "output_type": "stream",
          "name": "stdout",
          "text": [
            "민지\n",
            "다니엘\n",
            "혜인\n",
            "해린\n",
            "하니\n"
          ]
        }
      ]
    },
    {
      "cell_type": "code",
      "source": [
        "1_000_0000"
      ],
      "metadata": {
        "colab": {
          "base_uri": "https://localhost:8080/"
        },
        "id": "XNBJuWx8Be6N",
        "outputId": "b1dfafe4-fda3-44bc-a2df-75fc2a4ffb80"
      },
      "execution_count": 132,
      "outputs": [
        {
          "output_type": "execute_result",
          "data": {
            "text/plain": [
              "10000000"
            ]
          },
          "metadata": {},
          "execution_count": 132
        }
      ]
    },
    {
      "cell_type": "code",
      "source": [
        "_"
      ],
      "metadata": {
        "colab": {
          "base_uri": "https://localhost:8080/"
        },
        "id": "PDiyf6-6BmSJ",
        "outputId": "09203e37-6e69-4f95-d414-dfad89db6208"
      },
      "execution_count": 134,
      "outputs": [
        {
          "output_type": "execute_result",
          "data": {
            "text/plain": [
              "10000000"
            ]
          },
          "metadata": {},
          "execution_count": 134
        }
      ]
    },
    {
      "cell_type": "code",
      "source": [],
      "metadata": {
        "id": "LpZdU9e1BqQ3"
      },
      "execution_count": null,
      "outputs": []
    }
  ]
}