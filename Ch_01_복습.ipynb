{
  "nbformat": 4,
  "nbformat_minor": 0,
  "metadata": {
    "colab": {
      "provenance": [],
      "authorship_tag": "ABX9TyNcb8IZQiFKs2RCnzxWARWg",
      "include_colab_link": true
    },
    "kernelspec": {
      "name": "python3",
      "display_name": "Python 3"
    },
    "language_info": {
      "name": "python"
    }
  },
  "cells": [
    {
      "cell_type": "markdown",
      "metadata": {
        "id": "view-in-github",
        "colab_type": "text"
      },
      "source": [
        "<a href=\"https://colab.research.google.com/github/Kimdongha96/Python/blob/main/Ch_01_%EB%B3%B5%EC%8A%B5.ipynb\" target=\"_parent\"><img src=\"https://colab.research.google.com/assets/colab-badge.svg\" alt=\"Open In Colab\"/></a>"
      ]
    },
    {
      "cell_type": "code",
      "execution_count": 2,
      "metadata": {
        "colab": {
          "base_uri": "https://localhost:8080/",
          "height": 136
        },
        "id": "_lmRCTEybb1T",
        "outputId": "64205413-b691-402a-de92-44305de2be40"
      },
      "outputs": [
        {
          "output_type": "error",
          "ename": "SyntaxError",
          "evalue": "ignored",
          "traceback": [
            "\u001b[0;36m  File \u001b[0;32m\"<ipython-input-2-d490b01eabcf>\"\u001b[0;36m, line \u001b[0;32m1\u001b[0m\n\u001b[0;31m    print(hello world) # 문자열을 입력했는데 ''또는 \"\"를 감싸주지 않았기 때문에 오류가 났다\u001b[0m\n\u001b[0m                ^\u001b[0m\n\u001b[0;31mSyntaxError\u001b[0m\u001b[0;31m:\u001b[0m invalid syntax\n"
          ]
        }
      ],
      "source": [
        "print(hello world) # 문자열을 입력했는데 ''또는 \"\"를 감싸주지 않았기 때문에 오류가 났다"
      ]
    },
    {
      "cell_type": "code",
      "source": [
        "# alt + enter : (셀)을 실행시켜도 하단에 새로운 코드 셀을 만들어줌\n",
        "print('hello world') # print(입력값) : 함수의 일종, 입력한 값(숫자,문자열)을 출력"
      ],
      "metadata": {
        "colab": {
          "base_uri": "https://localhost:8080/"
        },
        "id": "gjEBfvryceKf",
        "outputId": "ce9310fc-4810-43ed-ccc9-9ad4e66c4ea9"
      },
      "execution_count": 5,
      "outputs": [
        {
          "output_type": "stream",
          "name": "stdout",
          "text": [
            "hello world\n"
          ]
        }
      ]
    },
    {
      "cell_type": "code",
      "source": [
        "# (ctrl + m) + b :(셀을 실행시키지 않고) 현재 세르이 하단에 새로운 코드 셀을 만들어줌"
      ],
      "metadata": {
        "id": "c0xzxYgNcrSM"
      },
      "execution_count": 6,
      "outputs": []
    },
    {
      "cell_type": "code",
      "source": [
        "#colab은 '리눅스' 환경에서 작동 -> 터미널(입력창)을 통해 명령으로 작동하는 시스템(OS) like 윈도우,안드로이드\n",
        "#리눅스의 어떤 특정한 기능을 하기 위해서는 (1) 터미널에 (2) 명령어를 넣어야 한다\n",
        "# !를 앞에 붙이고 나면, 리눅스의 터미널(커널)에 명령어를 사용할 수 있음\n",
        "!python --version "
      ],
      "metadata": {
        "colab": {
          "base_uri": "https://localhost:8080/"
        },
        "id": "A4mYgod5dNTC",
        "outputId": "f102f0d1-b135-41ad-cb69-0ded441c1be5"
      },
      "execution_count": 7,
      "outputs": [
        {
          "output_type": "stream",
          "name": "stdout",
          "text": [
            "Python 3.8.10\n"
          ]
        }
      ]
    },
    {
      "cell_type": "code",
      "source": [
        "# 파이썬은 세미콜론(:)을 안써도 된다. 쓴다해도 버그가 나진 않는다.\n",
        "print(\"ditto\") # 특정한 행을 위 아래로 복제하고 싶다 (alt+shift+위아래방향키)\n",
        "print(\"ditto\") # 특정한 행을 위 아래로 복제하고 싶다 (alt+shift+위아래방향키)\n",
        "print(\"ditto\") # 특정한 행을 위 아래로 복제하고 싶다 (alt+shift+위아래방향키)\n",
        "print(\"OMG\") # # 줄바꿈 (alt+위아래방향키)\n",
        "# ctral + a: 전체 지정\n",
        "# end :특정 행의 끝 -> shift (범위 지정, 블록 지정)-> home : 특정 행의 시작"
      ],
      "metadata": {
        "colab": {
          "base_uri": "https://localhost:8080/"
        },
        "id": "lh7KKOkOd96i",
        "outputId": "d1cd9ded-8dfe-4b6e-e3ef-f62d5e0976c1"
      },
      "execution_count": 9,
      "outputs": [
        {
          "output_type": "stream",
          "name": "stdout",
          "text": [
            "ditto\n",
            "ditto\n",
            "ditto\n",
            "OMG\n",
            "뉴진스\n",
            "르세라핌\n"
          ]
        }
      ]
    },
    {
      "cell_type": "code",
      "source": [
        "print(\"뉴진스\"); print(\"르세라핌\") # 세미클론이 있으면 다른 줄로 인식"
      ],
      "metadata": {
        "id": "K6nZIMzJg489"
      },
      "execution_count": null,
      "outputs": []
    },
    {
      "cell_type": "code",
      "source": [
        "# ctrl + m + - :특정 행 기준으로 셀 분할"
      ],
      "metadata": {
        "id": "Ie69lPt4gA6J"
      },
      "execution_count": 10,
      "outputs": []
    },
    {
      "cell_type": "code",
      "source": [
        "#을 입력하고 뒤에 내용을 입력하면 -> 한 줄 주석\n",
        "#주석으로 지정하는 단축키 ctrl + /\n",
        "# print(\"주석\") # 코드 뒤에 주석이 있어도 실행 영향 X\n",
        "print(\"주석2\")"
      ],
      "metadata": {
        "colab": {
          "base_uri": "https://localhost:8080/"
        },
        "id": "liJdRLGhkq8e",
        "outputId": "e906418c-24f7-43b6-dc42-cf7d93306c08"
      },
      "execution_count": 16,
      "outputs": [
        {
          "output_type": "stream",
          "name": "stdout",
          "text": [
            "주석2\n"
          ]
        }
      ]
    },
    {
      "cell_type": "code",
      "source": [
        "...\n",
        "여러 줄 주석을 할 때는\n",
        "# ''' 또는 \"\"\"을 입력하세요\n",
        "'''\n",
        "# print(\"안녕\")"
      ],
      "metadata": {
        "colab": {
          "base_uri": "https://localhost:8080/",
          "height": 136
        },
        "id": "FN-ZQQ0upmPx",
        "outputId": "fb862afb-4260-4f46-832a-b32766d4e14d"
      },
      "execution_count": 20,
      "outputs": [
        {
          "output_type": "error",
          "ename": "SyntaxError",
          "evalue": "ignored",
          "traceback": [
            "\u001b[0;36m  File \u001b[0;32m\"<ipython-input-20-cbbade6449fd>\"\u001b[0;36m, line \u001b[0;32m2\u001b[0m\n\u001b[0;31m    여러 줄 주석을 할 때는\u001b[0m\n\u001b[0m       ^\u001b[0m\n\u001b[0;31mSyntaxError\u001b[0m\u001b[0;31m:\u001b[0m invalid syntax\n"
          ]
        }
      ]
    },
    {
      "cell_type": "code",
      "source": [
        "# 문자열을 입력할 때 외부에 ''(작은따옴표)로 감쌋으면, 안에 작은 따옴표를 넣으면 x\n",
        "# 굳이 넣고 싶다 -> 앞에 \\를 넣어서 escap시켜서 처리해야함"
      ],
      "metadata": {
        "id": "CLSoROXhqAU8"
      },
      "execution_count": 19,
      "outputs": []
    },
    {
      "cell_type": "code",
      "source": [
        "a = 1\n",
        "if a !=10: # 특정한 조건을 만족(옳을 때)시킬 때 작동하는 코드\n",
        "print(\"10이 아니네요\") # 특정한 들여쓰기 범위 내에서만 조건 관련 코드\n",
        "# 들여쓰기 : tab으로 통일"
      ],
      "metadata": {
        "colab": {
          "base_uri": "https://localhost:8080/",
          "height": 136
        },
        "id": "AmdJLz8JqOwz",
        "outputId": "ab095668-fb5f-4ceb-ad11-971fe2a6f0af"
      },
      "execution_count": 24,
      "outputs": [
        {
          "output_type": "error",
          "ename": "IndentationError",
          "evalue": "ignored",
          "traceback": [
            "\u001b[0;36m  File \u001b[0;32m\"<ipython-input-24-261d7d609a0f>\"\u001b[0;36m, line \u001b[0;32m3\u001b[0m\n\u001b[0;31m    print(\"10이 아니네요\") # 특정한 들여쓰기 범위 내에서만 조건 관련 코드\u001b[0m\n\u001b[0m    ^\u001b[0m\n\u001b[0;31mIndentationError\u001b[0m\u001b[0;31m:\u001b[0m expected an indented block\n"
          ]
        }
      ]
    },
    {
      "cell_type": "code",
      "source": [
        "if a == 10:\n",
        "  print(\"10이네요\")\n",
        "  if a == 10:\n",
        "    print(\"10이네요\")"
      ],
      "metadata": {
        "colab": {
          "base_uri": "https://localhost:8080/",
          "height": 227
        },
        "id": "jR1P3dWHq9YJ",
        "outputId": "dd15d99f-6e63-4c36-b02f-e4c3e76a5836"
      },
      "execution_count": 26,
      "outputs": [
        {
          "output_type": "error",
          "ename": "NameError",
          "evalue": "ignored",
          "traceback": [
            "\u001b[0;31m---------------------------------------------------------------------------\u001b[0m",
            "\u001b[0;31mNameError\u001b[0m                                 Traceback (most recent call last)",
            "\u001b[0;32m<ipython-input-26-011d55839add>\u001b[0m in \u001b[0;36m<module>\u001b[0;34m\u001b[0m\n\u001b[0;32m----> 1\u001b[0;31m \u001b[0;32mif\u001b[0m \u001b[0ma\u001b[0m \u001b[0;34m==\u001b[0m \u001b[0;36m10\u001b[0m\u001b[0;34m:\u001b[0m\u001b[0;34m\u001b[0m\u001b[0;34m\u001b[0m\u001b[0m\n\u001b[0m\u001b[1;32m      2\u001b[0m   \u001b[0mprint\u001b[0m\u001b[0;34m(\u001b[0m\u001b[0;34m\"10이네요\"\u001b[0m\u001b[0;34m)\u001b[0m\u001b[0;34m\u001b[0m\u001b[0;34m\u001b[0m\u001b[0m\n\u001b[1;32m      3\u001b[0m   \u001b[0;32mif\u001b[0m \u001b[0ma\u001b[0m \u001b[0;34m==\u001b[0m \u001b[0;36m10\u001b[0m\u001b[0;34m:\u001b[0m\u001b[0;34m\u001b[0m\u001b[0;34m\u001b[0m\u001b[0m\n\u001b[1;32m      4\u001b[0m     \u001b[0mprint\u001b[0m\u001b[0;34m(\u001b[0m\u001b[0;34m\"10이네요\"\u001b[0m\u001b[0;34m)\u001b[0m\u001b[0;34m\u001b[0m\u001b[0;34m\u001b[0m\u001b[0m\n",
            "\u001b[0;31mNameError\u001b[0m: name 'a' is not defined"
          ]
        }
      ]
    },
    {
      "cell_type": "code",
      "source": [
        "# 정수 (int, integer,양의 정수와 음의 정수와 0)\n",
        "# 실수 (float, 실수, 소수, 소수점이 붙어 있음)\n",
        "1, 1.0 "
      ],
      "metadata": {
        "colab": {
          "base_uri": "https://localhost:8080/"
        },
        "id": "AMm5iDkFrHW4",
        "outputId": "a578e4f1-b70c-40b9-e355-fae6f7581d33"
      },
      "execution_count": 28,
      "outputs": [
        {
          "output_type": "execute_result",
          "data": {
            "text/plain": [
              "(1, 1.0)"
            ]
          },
          "metadata": {},
          "execution_count": 28
        }
      ]
    },
    {
      "cell_type": "code",
      "source": [
        "# type : 자료형(데이터타입)을 확인\n",
        "type(1), type(1,0), type(\"1\")\n",
        "# str : string, 열, 문자열"
      ],
      "metadata": {
        "colab": {
          "base_uri": "https://localhost:8080/",
          "height": 209
        },
        "id": "Gy2vQqItrdm7",
        "outputId": "3f70dc7c-b795-4c79-e4d5-f452fd5a092f"
      },
      "execution_count": 33,
      "outputs": [
        {
          "output_type": "error",
          "ename": "TypeError",
          "evalue": "ignored",
          "traceback": [
            "\u001b[0;31m---------------------------------------------------------------------------\u001b[0m",
            "\u001b[0;31mTypeError\u001b[0m                                 Traceback (most recent call last)",
            "\u001b[0;32m<ipython-input-33-8cc4ca39e4e2>\u001b[0m in \u001b[0;36m<module>\u001b[0;34m\u001b[0m\n\u001b[1;32m      1\u001b[0m \u001b[0;31m# type : 자료형(데이터타입)을 확인\u001b[0m\u001b[0;34m\u001b[0m\u001b[0;34m\u001b[0m\u001b[0;34m\u001b[0m\u001b[0m\n\u001b[0;32m----> 2\u001b[0;31m \u001b[0mtype\u001b[0m\u001b[0;34m(\u001b[0m\u001b[0;36m1\u001b[0m\u001b[0;34m)\u001b[0m\u001b[0;34m,\u001b[0m \u001b[0mtype\u001b[0m\u001b[0;34m(\u001b[0m\u001b[0;36m1\u001b[0m\u001b[0;34m,\u001b[0m\u001b[0;36m0\u001b[0m\u001b[0;34m)\u001b[0m\u001b[0;34m,\u001b[0m \u001b[0mtype\u001b[0m\u001b[0;34m(\u001b[0m\u001b[0;34m\"1\"\u001b[0m\u001b[0;34m)\u001b[0m\u001b[0;34m\u001b[0m\u001b[0;34m\u001b[0m\u001b[0m\n\u001b[0m\u001b[1;32m      3\u001b[0m \u001b[0;31m# str : string, 열, 문자열\u001b[0m\u001b[0;34m\u001b[0m\u001b[0;34m\u001b[0m\u001b[0;34m\u001b[0m\u001b[0m\n",
            "\u001b[0;31mTypeError\u001b[0m: type() takes 1 or 3 arguments"
          ]
        }
      ]
    },
    {
      "cell_type": "code",
      "source": [
        "#사칙연산 -> 산술연산자, 연산자 : 1개 이상의 피연산자(항)에 대해서 특정 연산(계산)을 실행시키는 명령\n",
        "1+1,2-3,5*8, 13/21"
      ],
      "metadata": {
        "colab": {
          "base_uri": "https://localhost:8080/"
        },
        "id": "xYFWt-yNspqU",
        "outputId": "fa6286cb-b38c-44df-c055-baac68c11bd9"
      },
      "execution_count": 34,
      "outputs": [
        {
          "output_type": "execute_result",
          "data": {
            "text/plain": [
              "(2, -1, 40, 0.6190476190476191)"
            ]
          },
          "metadata": {},
          "execution_count": 34
        }
      ]
    },
    {
      "cell_type": "code",
      "source": [
        "20/4 #정수간 (딱 떨어지게)나누기를 해도 결과값은 무조건 실수"
      ],
      "metadata": {
        "colab": {
          "base_uri": "https://localhost:8080/"
        },
        "id": "5uFQkvO3s1J5",
        "outputId": "5e606f29-0e50-43ed-8050-134fa0e6c667"
      },
      "execution_count": 35,
      "outputs": [
        {
          "output_type": "execute_result",
          "data": {
            "text/plain": [
              "5.0"
            ]
          },
          "metadata": {},
          "execution_count": 35
        }
      ]
    },
    {
      "cell_type": "code",
      "source": [
        "20// 4 ,25//4 #몫 연산자 (소수점 밑은 버림)"
      ],
      "metadata": {
        "colab": {
          "base_uri": "https://localhost:8080/"
        },
        "id": "KVN8uN6is6WR",
        "outputId": "684a1a33-748f-4cd7-8cdf-51115caca98b"
      },
      "execution_count": 37,
      "outputs": [
        {
          "output_type": "execute_result",
          "data": {
            "text/plain": [
              "(5, 6)"
            ]
          },
          "metadata": {},
          "execution_count": 37
        }
      ]
    },
    {
      "cell_type": "code",
      "source": [
        "5.5//2,4//1.0,2.5//0.2 # 항 중에(피연산자 중에) 하나라도 실수라면 실수 결과값"
      ],
      "metadata": {
        "colab": {
          "base_uri": "https://localhost:8080/"
        },
        "id": "50giKkFvs-rD",
        "outputId": "0f57c9b7-d7e9-40b8-88bd-9e4bc3d9b1ed"
      },
      "execution_count": 40,
      "outputs": [
        {
          "output_type": "execute_result",
          "data": {
            "text/plain": [
              "(2.0, 4.0, 12.0)"
            ]
          },
          "metadata": {},
          "execution_count": 40
        }
      ]
    },
    {
      "cell_type": "code",
      "source": [
        "# %(나머지 연산자,모듈로,모듈러스\n",
        "10%3, 10//3"
      ],
      "metadata": {
        "colab": {
          "base_uri": "https://localhost:8080/"
        },
        "id": "biD6IymDtMIQ",
        "outputId": "f120865f-65e7-48e5-ee9a-ff8e16e47dc3"
      },
      "execution_count": 45,
      "outputs": [
        {
          "output_type": "execute_result",
          "data": {
            "text/plain": [
              "(1, 3)"
            ]
          },
          "metadata": {},
          "execution_count": 45
        }
      ]
    },
    {
      "cell_type": "code",
      "source": [
        "# 거듭제곱 연산자 (**) / 루트 연산자도 겸함\n",
        "2**10, 2**0.5, 3**(1/3)"
      ],
      "metadata": {
        "colab": {
          "base_uri": "https://localhost:8080/"
        },
        "id": "Znu0jJl7tWZd",
        "outputId": "a5fc6b07-1b9b-4f5a-d2c1-228cec279cd1"
      },
      "execution_count": 50,
      "outputs": [
        {
          "output_type": "execute_result",
          "data": {
            "text/plain": [
              "(1024, 1.4142135623730951, 1.4422495703074083)"
            ]
          },
          "metadata": {},
          "execution_count": 50
        }
      ]
    },
    {
      "cell_type": "code",
      "source": [
        "int(\"일\") #숫자가 아니기 때문에 오류"
      ],
      "metadata": {
        "colab": {
          "base_uri": "https://localhost:8080/",
          "height": 173
        },
        "id": "obTvVfyPw_wA",
        "outputId": "70dfc0c7-77b9-4ea0-d46e-4790853744cc"
      },
      "execution_count": 51,
      "outputs": [
        {
          "output_type": "error",
          "ename": "ValueError",
          "evalue": "ignored",
          "traceback": [
            "\u001b[0;31m---------------------------------------------------------------------------\u001b[0m",
            "\u001b[0;31mValueError\u001b[0m                                Traceback (most recent call last)",
            "\u001b[0;32m<ipython-input-51-ea1235b8776e>\u001b[0m in \u001b[0;36m<module>\u001b[0;34m\u001b[0m\n\u001b[0;32m----> 1\u001b[0;31m \u001b[0mint\u001b[0m\u001b[0;34m(\u001b[0m\u001b[0;34m\"일\"\u001b[0m\u001b[0;34m)\u001b[0m \u001b[0;31m#숫자가 아니기 때문에 오류\u001b[0m\u001b[0;34m\u001b[0m\u001b[0;34m\u001b[0m\u001b[0m\n\u001b[0m",
            "\u001b[0;31mValueError\u001b[0m: invalid literal for int() with base 10: '일'"
          ]
        }
      ]
    },
    {
      "cell_type": "code",
      "source": [
        "# //, %, -> 한번에\n",
        "divmod(5,2) # divmod(a,b):a가 나눠지는 수, b가 나누는 수 ->(몫,나머지) (리턴값,변환값)"
      ],
      "metadata": {
        "colab": {
          "base_uri": "https://localhost:8080/"
        },
        "id": "gl1prEFTxDQU",
        "outputId": "f5be731d-b3bc-4428-c37c-e69d3dd1b3d6"
      },
      "execution_count": 52,
      "outputs": [
        {
          "output_type": "execute_result",
          "data": {
            "text/plain": [
              "(2, 1)"
            ]
          },
          "metadata": {},
          "execution_count": 52
        }
      ]
    },
    {
      "cell_type": "code",
      "source": [
        "3.1+2.2 #부동소수점 오류"
      ],
      "metadata": {
        "colab": {
          "base_uri": "https://localhost:8080/"
        },
        "id": "CRvWgpjFxcyw",
        "outputId": "3b7e1113-8d0e-459a-8ed9-023820949267"
      },
      "execution_count": 53,
      "outputs": [
        {
          "output_type": "execute_result",
          "data": {
            "text/plain": [
              "5.300000000000001"
            ]
          },
          "metadata": {},
          "execution_count": 53
        }
      ]
    },
    {
      "cell_type": "code",
      "source": [
        "2.7-1.5 #부동소수점 오류"
      ],
      "metadata": {
        "colab": {
          "base_uri": "https://localhost:8080/"
        },
        "id": "5TyqRjKFxfHK",
        "outputId": "8826e239-659a-4793-8e75-8f96c4047032"
      },
      "execution_count": 54,
      "outputs": [
        {
          "output_type": "execute_result",
          "data": {
            "text/plain": [
              "1.2000000000000002"
            ]
          },
          "metadata": {},
          "execution_count": 54
        }
      ]
    },
    {
      "cell_type": "code",
      "source": [
        "1.5*3.1"
      ],
      "metadata": {
        "colab": {
          "base_uri": "https://localhost:8080/"
        },
        "id": "CTk23MJixhI_",
        "outputId": "2b2d0960-c933-4582-906a-8f39681931fc"
      },
      "execution_count": 55,
      "outputs": [
        {
          "output_type": "execute_result",
          "data": {
            "text/plain": [
              "4.65"
            ]
          },
          "metadata": {},
          "execution_count": 55
        }
      ]
    },
    {
      "cell_type": "code",
      "source": [
        "5.5/3.1"
      ],
      "metadata": {
        "colab": {
          "base_uri": "https://localhost:8080/"
        },
        "id": "PXfMzZgax4kU",
        "outputId": "987eebdf-da2b-4ac0-e815-f4aed1a953d1"
      },
      "execution_count": 56,
      "outputs": [
        {
          "output_type": "execute_result",
          "data": {
            "text/plain": [
              "1.7741935483870968"
            ]
          },
          "metadata": {},
          "execution_count": 56
        }
      ]
    },
    {
      "cell_type": "code",
      "source": [
        "# float -> float(...)\n",
        "float(1), float(4/5), float(\"1.0\")"
      ],
      "metadata": {
        "colab": {
          "base_uri": "https://localhost:8080/"
        },
        "id": "O1sqj13ox57Y",
        "outputId": "dfb07120-ab0b-4eb7-ac84-8fd22c5b3645"
      },
      "execution_count": 58,
      "outputs": [
        {
          "output_type": "execute_result",
          "data": {
            "text/plain": [
              "(1.0, 0.8, 1.0)"
            ]
          },
          "metadata": {},
          "execution_count": 58
        }
      ]
    },
    {
      "cell_type": "code",
      "source": [
        "int(float(\"1.0\"))\n",
        "#텍스트로 특정한 숫자를 받았는데, 정수화를 하고 싶어 -> 이게 소수점이 아니라는 확신이 없을 때"
      ],
      "metadata": {
        "colab": {
          "base_uri": "https://localhost:8080/"
        },
        "id": "vbFdTyxWx9kI",
        "outputId": "1fbf0b1d-ba95-4236-e675-5abda566ac89"
      },
      "execution_count": 60,
      "outputs": [
        {
          "output_type": "execute_result",
          "data": {
            "text/plain": [
              "1"
            ]
          },
          "metadata": {},
          "execution_count": 60
        }
      ]
    },
    {
      "cell_type": "code",
      "source": [
        "1 + 2 * 3"
      ],
      "metadata": {
        "colab": {
          "base_uri": "https://localhost:8080/"
        },
        "id": "8vTXBZbvyUm0",
        "outputId": "663ec6c7-c334-4082-da9c-b5edf5bdbc5f"
      },
      "execution_count": 61,
      "outputs": [
        {
          "output_type": "execute_result",
          "data": {
            "text/plain": [
              "7"
            ]
          },
          "metadata": {},
          "execution_count": 61
        }
      ]
    },
    {
      "cell_type": "code",
      "source": [
        "(1 + 2) * 3 #괄호 안의 값이 먼저 계산됨"
      ],
      "metadata": {
        "colab": {
          "base_uri": "https://localhost:8080/"
        },
        "id": "T-fgIyQBycEH",
        "outputId": "3edc63e0-4c71-4f95-aea5-32ed6cd1313a"
      },
      "execution_count": 63,
      "outputs": [
        {
          "output_type": "execute_result",
          "data": {
            "text/plain": [
              "9"
            ]
          },
          "metadata": {},
          "execution_count": 63
        }
      ]
    },
    {
      "cell_type": "code",
      "source": [
        "x = 10 #(=)는 할당량 (==)는 같다\n",
        "x"
      ],
      "metadata": {
        "colab": {
          "base_uri": "https://localhost:8080/"
        },
        "id": "AoZKwcg9ymJ0",
        "outputId": "c7d99db0-d9bc-4b46-f85d-44b4781a5d44"
      },
      "execution_count": 73,
      "outputs": [
        {
          "output_type": "execute_result",
          "data": {
            "text/plain": [
              "10"
            ]
          },
          "metadata": {},
          "execution_count": 73
        }
      ]
    },
    {
      "cell_type": "code",
      "source": [
        "y = \"The행복식당\"\n",
        "y"
      ],
      "metadata": {
        "colab": {
          "base_uri": "https://localhost:8080/",
          "height": 35
        },
        "id": "4Fn9uZYuzZQX",
        "outputId": "0324f0b8-38d3-4007-e2a3-7026b65a5331"
      },
      "execution_count": 71,
      "outputs": [
        {
          "output_type": "execute_result",
          "data": {
            "text/plain": [
              "'The행복식당'"
            ],
            "application/vnd.google.colaboratory.intrinsic+json": {
              "type": "string"
            }
          },
          "metadata": {},
          "execution_count": 71
        }
      ]
    },
    {
      "cell_type": "code",
      "source": [
        "type(x), type(y)"
      ],
      "metadata": {
        "colab": {
          "base_uri": "https://localhost:8080/"
        },
        "id": "b1k9GgAqziVv",
        "outputId": "ae092612-2b4d-426f-eb98-c75a0e677b79"
      },
      "execution_count": 72,
      "outputs": [
        {
          "output_type": "execute_result",
          "data": {
            "text/plain": [
              "(int, str)"
            ]
          },
          "metadata": {},
          "execution_count": 72
        }
      ]
    },
    {
      "cell_type": "markdown",
      "source": [
        "*'=': 대입 연산자\n",
        "* 같다.'==' : 동등 연산"
      ],
      "metadata": {
        "id": "4i85cp_Gzv69"
      }
    },
    {
      "cell_type": "code",
      "source": [
        "x = None\n",
        "print(x)"
      ],
      "metadata": {
        "colab": {
          "base_uri": "https://localhost:8080/"
        },
        "id": "kdXvzd5A0BIJ",
        "outputId": "7cae72d6-7d50-4f5e-fb80-93f30da632ac"
      },
      "execution_count": 77,
      "outputs": [
        {
          "output_type": "stream",
          "name": "stdout",
          "text": [
            "None\n"
          ]
        }
      ]
    },
    {
      "cell_type": "code",
      "source": [
        "a = 12 + 13 * 10 + 5\n",
        "b = 17 / 5 * 20 + 19\n",
        "a + b "
      ],
      "metadata": {
        "colab": {
          "base_uri": "https://localhost:8080/"
        },
        "id": "WwII5C2X0pWE",
        "outputId": "2d980c60-d58f-4d1d-b71d-e7249fed37ec"
      },
      "execution_count": 79,
      "outputs": [
        {
          "output_type": "execute_result",
          "data": {
            "text/plain": [
              "234.0"
            ]
          },
          "metadata": {},
          "execution_count": 79
        }
      ]
    },
    {
      "cell_type": "code",
      "source": [
        "c = a + b\n",
        "c"
      ],
      "metadata": {
        "colab": {
          "base_uri": "https://localhost:8080/"
        },
        "id": "9RnjEpRZ020r",
        "outputId": "d1240e9e-8025-461f-e1be-5285128204b3"
      },
      "execution_count": 81,
      "outputs": [
        {
          "output_type": "execute_result",
          "data": {
            "text/plain": [
              "234.0"
            ]
          },
          "metadata": {},
          "execution_count": 81
        }
      ]
    },
    {
      "cell_type": "code",
      "source": [
        "a = 10\n",
        "a + 20"
      ],
      "metadata": {
        "colab": {
          "base_uri": "https://localhost:8080/"
        },
        "id": "NCoh_Z9108_l",
        "outputId": "34d08d86-46d9-4bbc-91c9-26ab17435305"
      },
      "execution_count": 82,
      "outputs": [
        {
          "output_type": "execute_result",
          "data": {
            "text/plain": [
              "30"
            ]
          },
          "metadata": {},
          "execution_count": 82
        }
      ]
    },
    {
      "cell_type": "code",
      "source": [
        "a"
      ],
      "metadata": {
        "colab": {
          "base_uri": "https://localhost:8080/"
        },
        "id": "SltUmiKq0_uk",
        "outputId": "799ebf0c-981c-4758-ebfb-c9a6250d624e"
      },
      "execution_count": 84,
      "outputs": [
        {
          "output_type": "execute_result",
          "data": {
            "text/plain": [
              "10"
            ]
          },
          "metadata": {},
          "execution_count": 84
        }
      ]
    },
    {
      "cell_type": "code",
      "source": [
        "a = a + 20"
      ],
      "metadata": {
        "id": "SvJzXidP1FSo"
      },
      "execution_count": 86,
      "outputs": []
    },
    {
      "cell_type": "code",
      "source": [
        "a"
      ],
      "metadata": {
        "colab": {
          "base_uri": "https://localhost:8080/"
        },
        "id": "r6mztzHG1Jxu",
        "outputId": "ca2a27c6-3f0d-4a9a-b7e8-8721473d052c"
      },
      "execution_count": 88,
      "outputs": [
        {
          "output_type": "execute_result",
          "data": {
            "text/plain": [
              "50"
            ]
          },
          "metadata": {},
          "execution_count": 88
        }
      ]
    },
    {
      "cell_type": "code",
      "source": [
        "a + = 20\n",
        "a"
      ],
      "metadata": {
        "colab": {
          "base_uri": "https://localhost:8080/",
          "height": 136
        },
        "id": "ePdwoUtD1Mtp",
        "outputId": "992554a1-8047-488d-efad-c8a8f5119bec"
      },
      "execution_count": 90,
      "outputs": [
        {
          "output_type": "error",
          "ename": "SyntaxError",
          "evalue": "ignored",
          "traceback": [
            "\u001b[0;36m  File \u001b[0;32m\"<ipython-input-90-0147c61b244a>\"\u001b[0;36m, line \u001b[0;32m1\u001b[0m\n\u001b[0;31m    a + = 20\u001b[0m\n\u001b[0m        ^\u001b[0m\n\u001b[0;31mSyntaxError\u001b[0m\u001b[0;31m:\u001b[0m invalid syntax\n"
          ]
        }
      ]
    },
    {
      "cell_type": "code",
      "source": [
        "a % = 5\n",
        "a"
      ],
      "metadata": {
        "colab": {
          "base_uri": "https://localhost:8080/",
          "height": 136
        },
        "id": "xca16L3n1WiS",
        "outputId": "164d0d01-7717-47e9-826e-14a73112c639"
      },
      "execution_count": 92,
      "outputs": [
        {
          "output_type": "error",
          "ename": "SyntaxError",
          "evalue": "ignored",
          "traceback": [
            "\u001b[0;36m  File \u001b[0;32m\"<ipython-input-92-5e2350bf559c>\"\u001b[0;36m, line \u001b[0;32m1\u001b[0m\n\u001b[0;31m    a % = 5\u001b[0m\n\u001b[0m        ^\u001b[0m\n\u001b[0;31mSyntaxError\u001b[0m\u001b[0;31m:\u001b[0m invalid syntax\n"
          ]
        }
      ]
    },
    {
      "cell_type": "code",
      "source": [
        "d + = 10 # d가 없어서 (정의되지 않아서 ) 새로운 값을 더한 뒤 대입"
      ],
      "metadata": {
        "colab": {
          "base_uri": "https://localhost:8080/",
          "height": 136
        },
        "id": "_NFKO4bN1bUX",
        "outputId": "c587915e-6049-448e-b2de-a3d0b0d39084"
      },
      "execution_count": 93,
      "outputs": [
        {
          "output_type": "error",
          "ename": "SyntaxError",
          "evalue": "ignored",
          "traceback": [
            "\u001b[0;36m  File \u001b[0;32m\"<ipython-input-93-575b3f0a3f4b>\"\u001b[0;36m, line \u001b[0;32m1\u001b[0m\n\u001b[0;31m    d + = 10 # d가 없어서 (정의되지 않아서 ) 새로운 값을 더한 뒤 대입\u001b[0m\n\u001b[0m        ^\u001b[0m\n\u001b[0;31mSyntaxError\u001b[0m\u001b[0;31m:\u001b[0m invalid syntax\n"
          ]
        }
      ]
    },
    {
      "cell_type": "code",
      "source": [
        "d = 10 #변수의 자리르 만드는 길 '선언', 값을 대입하는 걸 '초기화'\n",
        "#초기화 !=rest / 초기화 = initialization"
      ],
      "metadata": {
        "id": "jR2VM5Jd1mLL"
      },
      "execution_count": 94,
      "outputs": []
    },
    {
      "cell_type": "code",
      "source": [
        "input(\"안녕\")"
      ],
      "metadata": {
        "colab": {
          "base_uri": "https://localhost:8080/",
          "height": 53
        },
        "id": "dSj7v0f42DrR",
        "outputId": "ad6e0c06-8d79-435c-e72b-3ee07c47cbc3"
      },
      "execution_count": 97,
      "outputs": [
        {
          "name": "stdout",
          "output_type": "stream",
          "text": [
            "안녕'안녕\n"
          ]
        },
        {
          "output_type": "execute_result",
          "data": {
            "text/plain": [
              "\"'안녕\""
            ],
            "application/vnd.google.colaboratory.intrinsic+json": {
              "type": "string"
            }
          },
          "metadata": {},
          "execution_count": 97
        }
      ]
    },
    {
      "cell_type": "code",
      "source": [
        "input(\"인사를 친절하게 해줘\") # 문자열 -> 안내문"
      ],
      "metadata": {
        "colab": {
          "base_uri": "https://localhost:8080/",
          "height": 53
        },
        "id": "yxsfuj7u2HbE",
        "outputId": "5513eb80-93bd-4c54-e795-ff763fb6e6cb"
      },
      "execution_count": 96,
      "outputs": [
        {
          "name": "stdout",
          "output_type": "stream",
          "text": [
            "인사를 친절하게 해줘\n"
          ]
        },
        {
          "output_type": "execute_result",
          "data": {
            "text/plain": [
              "''"
            ],
            "application/vnd.google.colaboratory.intrinsic+json": {
              "type": "string"
            }
          },
          "metadata": {},
          "execution_count": 96
        }
      ]
    },
    {
      "cell_type": "code",
      "source": [
        "x = input() #프롬포트에 '문자열'을 입력하는 함수(기능)\n",
        "x"
      ],
      "metadata": {
        "colab": {
          "base_uri": "https://localhost:8080/",
          "height": 53
        },
        "id": "gq4xjaCD2RoJ",
        "outputId": "e052c719-6b8e-4293-8360-c0b6821c73bf"
      },
      "execution_count": 99,
      "outputs": [
        {
          "name": "stdout",
          "output_type": "stream",
          "text": [
            "ㅎㅎ\n"
          ]
        },
        {
          "output_type": "execute_result",
          "data": {
            "text/plain": [
              "'ㅎㅎ'"
            ],
            "application/vnd.google.colaboratory.intrinsic+json": {
              "type": "string"
            }
          },
          "metadata": {},
          "execution_count": 99
        }
      ]
    },
    {
      "cell_type": "code",
      "source": [
        "a = input(\"숫자를 입력해주세요 ;\")\n",
        "b = input(\"숫자를 입력해주세요 ;\")\n",
        "a + b "
      ],
      "metadata": {
        "colab": {
          "base_uri": "https://localhost:8080/",
          "height": 72
        },
        "id": "cprFMht42djg",
        "outputId": "aae036a1-c88c-4e35-ae1f-aaa48eb01b4a"
      },
      "execution_count": 101,
      "outputs": [
        {
          "name": "stdout",
          "output_type": "stream",
          "text": [
            "숫자를 입력해주세요 ;1\n",
            "숫자를 입력해주세요 ;2\n"
          ]
        },
        {
          "output_type": "execute_result",
          "data": {
            "text/plain": [
              "'12'"
            ],
            "application/vnd.google.colaboratory.intrinsic+json": {
              "type": "string"
            }
          },
          "metadata": {},
          "execution_count": 101
        }
      ]
    },
    {
      "cell_type": "code",
      "source": [
        "a = input(\"숫자를 입력해주세요 :\")\n",
        "b = input(\"숫자를 입력해주세요 :\")\n",
        "\n",
        "int(a) + int(b) # 덧셈 연산을 실행하기 앞서서 int가 실행이 되면서 정수로 변환2\n"
      ],
      "metadata": {
        "colab": {
          "base_uri": "https://localhost:8080/"
        },
        "id": "8kY0NaNd2u2j",
        "outputId": "daef2a4c-602d-4c2e-dbad-fb709c5d0d68"
      },
      "execution_count": 108,
      "outputs": [
        {
          "name": "stdout",
          "output_type": "stream",
          "text": [
            "숫자를 입력해주세요 :1\n",
            "숫자를 입력해주세요 :2\n"
          ]
        },
        {
          "output_type": "execute_result",
          "data": {
            "text/plain": [
              "3"
            ]
          },
          "metadata": {},
          "execution_count": 108
        }
      ]
    },
    {
      "cell_type": "code",
      "source": [
        "a = int(input(\"숫자를 입력해주세요 ;\")) # 변수 a에 대입하기 전에 input의 결과값을 int로 변환\n",
        "b = int(input(\"숫자를 입력해주세요 ;\"))\n",
        "\n",
        "a + b"
      ],
      "metadata": {
        "colab": {
          "base_uri": "https://localhost:8080/"
        },
        "id": "3EOE1PXD2_7K",
        "outputId": "31158cfc-9549-4ac4-beb9-64296df882d3"
      },
      "execution_count": 107,
      "outputs": [
        {
          "name": "stdout",
          "output_type": "stream",
          "text": [
            "숫자를 입력해주세요 ;3\n",
            "숫자를 입력해주세요 ;4\n"
          ]
        },
        {
          "output_type": "execute_result",
          "data": {
            "text/plain": [
              "7"
            ]
          },
          "metadata": {},
          "execution_count": 107
        }
      ]
    },
    {
      "cell_type": "code",
      "source": [
        "'안녕하세요 여러분' # 문자열 (리터럴)"
      ],
      "metadata": {
        "colab": {
          "base_uri": "https://localhost:8080/",
          "height": 35
        },
        "id": "epfn7XfP3hGu",
        "outputId": "94788d0e-3d2c-4ccf-a0c7-7895920dfc94"
      },
      "execution_count": 109,
      "outputs": [
        {
          "output_type": "execute_result",
          "data": {
            "text/plain": [
              "'안녕하세요 여러분'"
            ],
            "application/vnd.google.colaboratory.intrinsic+json": {
              "type": "string"
            }
          },
          "metadata": {},
          "execution_count": 109
        }
      ]
    },
    {
      "cell_type": "code",
      "source": [
        "type(\"안녕하세요 여러분\")"
      ],
      "metadata": {
        "colab": {
          "base_uri": "https://localhost:8080/"
        },
        "id": "_qqSuI1r3rlf",
        "outputId": "17d97a7a-865a-4951-8a4d-721969821843"
      },
      "execution_count": 110,
      "outputs": [
        {
          "output_type": "execute_result",
          "data": {
            "text/plain": [
              "str"
            ]
          },
          "metadata": {},
          "execution_count": 110
        }
      ]
    },
    {
      "cell_type": "code",
      "source": [
        "# 특정한 구분자(separator)를 기준으로 문자열을 분리 (기본값 : ' ')\n",
        "\"안녕하세요 여러분\". split()  # 특정한 타입, 객체에 내장되어 있는 함수(기능) : 메소드(method)"
      ],
      "metadata": {
        "colab": {
          "base_uri": "https://localhost:8080/"
        },
        "id": "hoZ9XH3r3vIw",
        "outputId": "4b42ffa5-4a6c-4469-e815-cf183e634004"
      },
      "execution_count": 111,
      "outputs": [
        {
          "output_type": "execute_result",
          "data": {
            "text/plain": [
              "['안녕하세요', '여러분']"
            ]
          },
          "metadata": {},
          "execution_count": 111
        }
      ]
    },
    {
      "cell_type": "code",
      "source": [
        "'안녕하세요,여러분'.split()"
      ],
      "metadata": {
        "colab": {
          "base_uri": "https://localhost:8080/"
        },
        "id": "NebsO6RB4UUq",
        "outputId": "b990ffcd-2dba-46f5-81a2-fb7b7edc6b58"
      },
      "execution_count": 112,
      "outputs": [
        {
          "output_type": "execute_result",
          "data": {
            "text/plain": [
              "['안녕하세요,여러분']"
            ]
          },
          "metadata": {},
          "execution_count": 112
        }
      ]
    },
    {
      "cell_type": "code",
      "source": [
        "\"안녕하세요,여러분\".split(\",\") # 매개변수(parameter,인수)\n",
        "# 매개변수에 들어가는 값 <- 인자 (argument)"
      ],
      "metadata": {
        "colab": {
          "base_uri": "https://localhost:8080/"
        },
        "id": "rR8y1ul64b9d",
        "outputId": "5299422e-13ad-4b3c-cf63-342c7840624e"
      },
      "execution_count": 113,
      "outputs": [
        {
          "output_type": "execute_result",
          "data": {
            "text/plain": [
              "['안녕하세요', '여러분']"
            ]
          },
          "metadata": {},
          "execution_count": 113
        }
      ]
    },
    {
      "cell_type": "code",
      "source": [
        "a , b =\"안녕하세요,여러분\".split(\",\") \n",
        "# 2개 이상의 값이 결과로 나올 경우, \n",
        "# 해당 결과의 갯수에 맞게 변수를 위치시켜주면, 알아서 할당됨"
      ],
      "metadata": {
        "id": "fRQygjyp5UPP"
      },
      "execution_count": 114,
      "outputs": []
    },
    {
      "cell_type": "code",
      "source": [
        "a , b = input(\"문자열 두 개를 스페이스 기준으로 입력해주세요\"). split()\n",
        "a , b "
      ],
      "metadata": {
        "colab": {
          "base_uri": "https://localhost:8080/"
        },
        "id": "7_5ljxsd5jrr",
        "outputId": "4311c8fa-3e33-422c-db76-bfd318071b8d"
      },
      "execution_count": 115,
      "outputs": [
        {
          "name": "stdout",
          "output_type": "stream",
          "text": [
            "문자열 두 개를 스페이스 기준으로 입력해주세요안녕 포켓몬\n"
          ]
        },
        {
          "output_type": "execute_result",
          "data": {
            "text/plain": [
              "('안녕', '포켓몬')"
            ]
          },
          "metadata": {},
          "execution_count": 115
        }
      ]
    },
    {
      "cell_type": "code",
      "source": [
        "a , b = input(\"문자열 두 개를 콤마(.) 기준으로 입력해주세요 :\"). split()\n",
        "a , b "
      ],
      "metadata": {
        "colab": {
          "base_uri": "https://localhost:8080/"
        },
        "id": "DxwE6tgr51QD",
        "outputId": "97d40224-f781-42a2-adab-503f31c80cb1"
      },
      "execution_count": 116,
      "outputs": [
        {
          "name": "stdout",
          "output_type": "stream",
          "text": [
            "문자열 두 개를 콤마(.) 기준으로 입력해주세요 :파이리 꼬부기\n"
          ]
        },
        {
          "output_type": "execute_result",
          "data": {
            "text/plain": [
              "('파이리', '꼬부기')"
            ]
          },
          "metadata": {},
          "execution_count": 116
        }
      ]
    },
    {
      "cell_type": "code",
      "source": [
        "a , b = input(\"문자열 두 개를 콤마(,) 기준으로 입력해주세요 :\"). split()\n",
        "a , b "
      ],
      "metadata": {
        "colab": {
          "base_uri": "https://localhost:8080/",
          "height": 209
        },
        "id": "EmijDS8P6Kja",
        "outputId": "2740efa4-f7eb-44ce-f459-2275e095ad26"
      },
      "execution_count": 118,
      "outputs": [
        {
          "name": "stdout",
          "output_type": "stream",
          "text": [
            "문자열 두 개를 콤마(,) 기준으로 입력해주세요 :버터플 피죤투 야도란\n"
          ]
        },
        {
          "output_type": "error",
          "ename": "ValueError",
          "evalue": "ignored",
          "traceback": [
            "\u001b[0;31m---------------------------------------------------------------------------\u001b[0m",
            "\u001b[0;31mValueError\u001b[0m                                Traceback (most recent call last)",
            "\u001b[0;32m<ipython-input-118-9274e6501c93>\u001b[0m in \u001b[0;36m<module>\u001b[0;34m\u001b[0m\n\u001b[0;32m----> 1\u001b[0;31m \u001b[0ma\u001b[0m \u001b[0;34m,\u001b[0m \u001b[0mb\u001b[0m \u001b[0;34m=\u001b[0m \u001b[0minput\u001b[0m\u001b[0;34m(\u001b[0m\u001b[0;34m\"문자열 두 개를 콤마(,) 기준으로 입력해주세요 :\"\u001b[0m\u001b[0;34m)\u001b[0m\u001b[0;34m.\u001b[0m \u001b[0msplit\u001b[0m\u001b[0;34m(\u001b[0m\u001b[0;34m)\u001b[0m\u001b[0;34m\u001b[0m\u001b[0;34m\u001b[0m\u001b[0m\n\u001b[0m\u001b[1;32m      2\u001b[0m \u001b[0ma\u001b[0m \u001b[0;34m,\u001b[0m \u001b[0mb\u001b[0m\u001b[0;34m\u001b[0m\u001b[0;34m\u001b[0m\u001b[0m\n",
            "\u001b[0;31mValueError\u001b[0m: too many values to unpack (expected 2)"
          ]
        }
      ]
    },
    {
      "cell_type": "code",
      "source": [
        "a , b = input(\"숫자 두 개를 입력하세요 : \").split()\n",
        "a + b"
      ],
      "metadata": {
        "colab": {
          "base_uri": "https://localhost:8080/",
          "height": 53
        },
        "id": "x089ZU-T6WZm",
        "outputId": "bfcbb00f-3b5a-459b-deb0-be75e8d363f0"
      },
      "execution_count": 119,
      "outputs": [
        {
          "name": "stdout",
          "output_type": "stream",
          "text": [
            "숫자 두 개를 입력하세요 : 1 2\n"
          ]
        },
        {
          "output_type": "execute_result",
          "data": {
            "text/plain": [
              "'12'"
            ],
            "application/vnd.google.colaboratory.intrinsic+json": {
              "type": "string"
            }
          },
          "metadata": {},
          "execution_count": 119
        }
      ]
    },
    {
      "cell_type": "code",
      "source": [
        "a , b = input(\"숫자 두 개를 입력하세요 : \").split()\n",
        "int(a) + int(b)"
      ],
      "metadata": {
        "colab": {
          "base_uri": "https://localhost:8080/"
        },
        "id": "vNuKGH696pmX",
        "outputId": "9806a17a-129d-4dd9-96bc-ec0902d30d80"
      },
      "execution_count": 120,
      "outputs": [
        {
          "name": "stdout",
          "output_type": "stream",
          "text": [
            "숫자 두 개를 입력하세요 : 3 5\n"
          ]
        },
        {
          "output_type": "execute_result",
          "data": {
            "text/plain": [
              "8"
            ]
          },
          "metadata": {},
          "execution_count": 120
        }
      ]
    },
    {
      "cell_type": "code",
      "source": [
        "a , b = input(\"숫자 두 개를 입력하세요 : \").split()\n",
        "a = int(a)\n",
        "b = int(b)\n",
        "a + b"
      ],
      "metadata": {
        "colab": {
          "base_uri": "https://localhost:8080/"
        },
        "id": "z1-QEDoK61Ev",
        "outputId": "aa3fbdc4-dba4-4f3b-df7a-15831b3a9ccd"
      },
      "execution_count": 121,
      "outputs": [
        {
          "name": "stdout",
          "output_type": "stream",
          "text": [
            "숫자 두 개를 입력하세요 : 8 13\n"
          ]
        },
        {
          "output_type": "execute_result",
          "data": {
            "text/plain": [
              "21"
            ]
          },
          "metadata": {},
          "execution_count": 121
        }
      ]
    },
    {
      "cell_type": "code",
      "source": [
        "a , b = map(int, input(\"숫자 두 개를 입력하세요 : \").split()) # ()는 실행\n",
        "# map(실행되기 전에 함수 , 함수를 통해서 처리하고 싶은 값들)\n",
        "a + b  "
      ],
      "metadata": {
        "colab": {
          "base_uri": "https://localhost:8080/"
        },
        "id": "nnwAfA987MVT",
        "outputId": "60740a59-238f-443c-8702-7c19e723548b"
      },
      "execution_count": 126,
      "outputs": [
        {
          "name": "stdout",
          "output_type": "stream",
          "text": [
            "숫자 두 개를 입력하세요 : 1 14\n"
          ]
        },
        {
          "output_type": "execute_result",
          "data": {
            "text/plain": [
              "15"
            ]
          },
          "metadata": {},
          "execution_count": 126
        }
      ]
    },
    {
      "cell_type": "code",
      "source": [
        "a , b = map(int, input(\"숫자 두 개를 입력하세요 : \").split() # ()는 실행\n",
        "# map(실행되기 전에 함수 , 함수를 통해서 처리하고 싶은 값들)\n",
        "a + b  "
      ],
      "metadata": {
        "id": "_yjyhKHX8S4S"
      },
      "execution_count": null,
      "outputs": []
    },
    {
      "cell_type": "code",
      "source": [
        "print(\"a\" ,\"b\" , \"1\" \") # 매개변수의 갯수가 정해져 있지 않은 함수 # args..."
      ],
      "metadata": {
        "colab": {
          "base_uri": "https://localhost:8080/",
          "height": 136
        },
        "id": "pgDIWPic_MZ_",
        "outputId": "9a7fa674-3adb-43e7-d3d9-da4127c7e22a"
      },
      "execution_count": 128,
      "outputs": [
        {
          "output_type": "error",
          "ename": "SyntaxError",
          "evalue": "ignored",
          "traceback": [
            "\u001b[0;36m  File \u001b[0;32m\"<ipython-input-128-58abeda38745>\"\u001b[0;36m, line \u001b[0;32m1\u001b[0m\n\u001b[0;31m    print(\"a\" ,\"b\" , \"1\" \") # 매개변수의 갯수가 정해져 있지 않은 함수 # args...\u001b[0m\n\u001b[0m                                                              ^\u001b[0m\n\u001b[0;31mSyntaxError\u001b[0m\u001b[0;31m:\u001b[0m EOL while scanning string literal\n"
          ]
        }
      ]
    },
    {
      "cell_type": "code",
      "source": [
        "print(\"a\" , \"b\" , 1 , sep=' ' )\n",
        "print(\"a\" , \"b\" , 1 , sep='')\n",
        "print(\"a\" , \"b\" , 1 , sep=':')\n",
        "print(\"a\" , \"b\" , 1 , sep='랑 ')"
      ],
      "metadata": {
        "colab": {
          "base_uri": "https://localhost:8080/"
        },
        "id": "2CCGeK6i_h07",
        "outputId": "ccbdb681-4229-45d7-d6a9-740fefe54a7d"
      },
      "execution_count": 134,
      "outputs": [
        {
          "output_type": "stream",
          "name": "stdout",
          "text": [
            "a b 1\n",
            "ab1\n",
            "a:b:1\n",
            "a랑 b랑 1\n"
          ]
        }
      ]
    },
    {
      "cell_type": "code",
      "source": [
        "print(\"민지\" , end='\\n') # 자동으로 줄바꿈이 됨\n",
        "print(\"다니엘\")\n",
        "print(\"혜인\" , end='')\n",
        "print('해린', end='라는 사람,\\n')\n",
        "print('하니')"
      ],
      "metadata": {
        "colab": {
          "base_uri": "https://localhost:8080/"
        },
        "id": "9lsCEr0UALS1",
        "outputId": "e6251950-7ea4-4e17-e09b-d52ace20b5f6"
      },
      "execution_count": 139,
      "outputs": [
        {
          "output_type": "stream",
          "name": "stdout",
          "text": [
            "민지\n",
            "다니엘\n",
            "혜인해린라는 사람,\n",
            "하니\n"
          ]
        }
      ]
    },
    {
      "cell_type": "code",
      "source": [
        "print(\"민지\\n다니엘\\n혜인\\n해린\\n하니\")"
      ],
      "metadata": {
        "colab": {
          "base_uri": "https://localhost:8080/"
        },
        "id": "UJ5u8rB0BVHs",
        "outputId": "e2fc95bd-8237-4bbf-c50a-558d8d714949"
      },
      "execution_count": 141,
      "outputs": [
        {
          "output_type": "stream",
          "name": "stdout",
          "text": [
            "민지\n",
            "다니엘\n",
            "혜인\n",
            "해린\n",
            "하니\n"
          ]
        }
      ]
    },
    {
      "cell_type": "code",
      "source": [
        "1_000_000"
      ],
      "metadata": {
        "colab": {
          "base_uri": "https://localhost:8080/"
        },
        "id": "vB39okUZBe9u",
        "outputId": "b5f6ecdc-aeb3-4d50-e145-5cef282235c6"
      },
      "execution_count": 143,
      "outputs": [
        {
          "output_type": "execute_result",
          "data": {
            "text/plain": [
              "1000000"
            ]
          },
          "metadata": {},
          "execution_count": 143
        }
      ]
    },
    {
      "cell_type": "code",
      "source": [],
      "metadata": {
        "id": "v56JWSCwBmeN"
      },
      "execution_count": null,
      "outputs": []
    }
  ]
}