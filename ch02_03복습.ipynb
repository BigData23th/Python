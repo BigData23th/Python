{
  "nbformat": 4,
  "nbformat_minor": 0,
  "metadata": {
    "colab": {
      "provenance": [],
      "authorship_tag": "ABX9TyMFWM9bfm0uxwm/hbnokUS7",
      "include_colab_link": true
    },
    "kernelspec": {
      "name": "python3",
      "display_name": "Python 3"
    },
    "language_info": {
      "name": "python"
    }
  },
  "cells": [
    {
      "cell_type": "markdown",
      "metadata": {
        "id": "view-in-github",
        "colab_type": "text"
      },
      "source": [
        "<a href=\"https://colab.research.google.com/github/Myun9hyun/Python/blob/main/ch02_03%EB%B3%B5%EC%8A%B5.ipynb\" target=\"_parent\"><img src=\"https://colab.research.google.com/assets/colab-badge.svg\" alt=\"Open In Colab\"/></a>"
      ]
    },
    {
      "cell_type": "markdown",
      "source": [
        "# 리스트 응용"
      ],
      "metadata": {
        "id": "BeMHHH_CTH2w"
      }
    },
    {
      "cell_type": "code",
      "source": [
        "country = [] # 빈 리스트"
      ],
      "metadata": {
        "id": "lHLoQj8ZTL4x"
      },
      "execution_count": 2,
      "outputs": []
    },
    {
      "cell_type": "code",
      "source": [
        "country.append('대한민국')\n",
        "country"
      ],
      "metadata": {
        "colab": {
          "base_uri": "https://localhost:8080/"
        },
        "id": "GKobYfPATcE6",
        "outputId": "ae0166e4-48b1-418c-ec8c-a93256bae9bb"
      },
      "execution_count": 3,
      "outputs": [
        {
          "output_type": "execute_result",
          "data": {
            "text/plain": [
              "['대한민국']"
            ]
          },
          "metadata": {},
          "execution_count": 3
        }
      ]
    },
    {
      "cell_type": "code",
      "source": [
        "country2 = [\"중국\"]"
      ],
      "metadata": {
        "id": "7JaHKGF9ThZX"
      },
      "execution_count": 4,
      "outputs": []
    },
    {
      "cell_type": "code",
      "source": [
        "country + country2"
      ],
      "metadata": {
        "colab": {
          "base_uri": "https://localhost:8080/"
        },
        "id": "VOFz1drdToN9",
        "outputId": "60257ba0-1c67-434a-cc49-093f58779b1f"
      },
      "execution_count": 5,
      "outputs": [
        {
          "output_type": "execute_result",
          "data": {
            "text/plain": [
              "['대한민국', '중국']"
            ]
          },
          "metadata": {},
          "execution_count": 5
        }
      ]
    },
    {
      "cell_type": "code",
      "source": [
        "country += country2"
      ],
      "metadata": {
        "id": "2dAlmhh1TtiM"
      },
      "execution_count": 6,
      "outputs": []
    },
    {
      "cell_type": "code",
      "source": [
        "country"
      ],
      "metadata": {
        "colab": {
          "base_uri": "https://localhost:8080/"
        },
        "id": "Wst7Y8TNT0fH",
        "outputId": "847930cb-9214-436a-a82c-1affea7dcf89"
      },
      "execution_count": 7,
      "outputs": [
        {
          "output_type": "execute_result",
          "data": {
            "text/plain": [
              "['대한민국', '중국']"
            ]
          },
          "metadata": {},
          "execution_count": 7
        }
      ]
    },
    {
      "cell_type": "code",
      "source": [
        "country3 = [\"일본\"]\n",
        "country3"
      ],
      "metadata": {
        "colab": {
          "base_uri": "https://localhost:8080/"
        },
        "id": "veu3IY9jT1iN",
        "outputId": "e04e8bd8-bc1d-4ed2-9116-cedd75e7b4ca"
      },
      "execution_count": 8,
      "outputs": [
        {
          "output_type": "execute_result",
          "data": {
            "text/plain": [
              "['일본']"
            ]
          },
          "metadata": {},
          "execution_count": 8
        }
      ]
    },
    {
      "cell_type": "code",
      "source": [
        "country.extend(country3)\n",
        "country"
      ],
      "metadata": {
        "colab": {
          "base_uri": "https://localhost:8080/"
        },
        "id": "brhF16kaT7ZS",
        "outputId": "cfce5a3c-d683-4066-9faa-1e8b49f922e9"
      },
      "execution_count": 9,
      "outputs": [
        {
          "output_type": "execute_result",
          "data": {
            "text/plain": [
              "['대한민국', '중국', '일본']"
            ]
          },
          "metadata": {},
          "execution_count": 9
        }
      ]
    },
    {
      "cell_type": "code",
      "source": [
        "country4 = [\"프랑스\", \"영국\", \"독일\"]\n",
        "country.extend(country4)\n",
        "country"
      ],
      "metadata": {
        "colab": {
          "base_uri": "https://localhost:8080/"
        },
        "id": "qV_iKD7XUAxQ",
        "outputId": "bb05802b-89e2-4b2b-b302-f8ddaeedd8f1"
      },
      "execution_count": 10,
      "outputs": [
        {
          "output_type": "execute_result",
          "data": {
            "text/plain": [
              "['대한민국', '중국', '일본', '프랑스', '영국', '독일']"
            ]
          },
          "metadata": {},
          "execution_count": 10
        }
      ]
    },
    {
      "cell_type": "code",
      "source": [
        "country.append(\"케냐\")\n",
        "country"
      ],
      "metadata": {
        "colab": {
          "base_uri": "https://localhost:8080/"
        },
        "id": "mItH_noYUMjC",
        "outputId": "bfd7f644-dc7f-4cfa-b177-d3900ed28721"
      },
      "execution_count": 11,
      "outputs": [
        {
          "output_type": "execute_result",
          "data": {
            "text/plain": [
              "['대한민국', '중국', '일본', '프랑스', '영국', '독일', '케냐']"
            ]
          },
          "metadata": {},
          "execution_count": 11
        }
      ]
    },
    {
      "cell_type": "code",
      "source": [
        "country.insert(0, \"브라질\") # insert(인덱스, 요소) -> 원하는 위치에 삽입\n",
        "country"
      ],
      "metadata": {
        "colab": {
          "base_uri": "https://localhost:8080/"
        },
        "id": "h-jOa38uUXqe",
        "outputId": "b19efd77-e8fb-47e0-828a-b3e87b4c820d"
      },
      "execution_count": 12,
      "outputs": [
        {
          "output_type": "execute_result",
          "data": {
            "text/plain": [
              "['브라질', '대한민국', '중국', '일본', '프랑스', '영국', '독일', '케냐']"
            ]
          },
          "metadata": {},
          "execution_count": 12
        }
      ]
    },
    {
      "cell_type": "code",
      "source": [
        "country.insert(3, \"아르헨티나\")\n",
        "country"
      ],
      "metadata": {
        "colab": {
          "base_uri": "https://localhost:8080/"
        },
        "id": "_oTWGIPuUgzD",
        "outputId": "2b8b1473-6b83-476a-ec87-6e2a5d6e7c77"
      },
      "execution_count": 13,
      "outputs": [
        {
          "output_type": "execute_result",
          "data": {
            "text/plain": [
              "['브라질', '대한민국', '중국', '아르헨티나', '일본', '프랑스', '영국', '독일', '케냐']"
            ]
          },
          "metadata": {},
          "execution_count": 13
        }
      ]
    },
    {
      "cell_type": "code",
      "source": [
        "country[4:4] = [\"미국\", \"케나다\", \"멕시코\"]\n"
      ],
      "metadata": {
        "id": "ITkcGSpIUpis"
      },
      "execution_count": 14,
      "outputs": []
    },
    {
      "cell_type": "code",
      "source": [
        "country"
      ],
      "metadata": {
        "colab": {
          "base_uri": "https://localhost:8080/"
        },
        "id": "euXZ2BRIU5QZ",
        "outputId": "f7d771cd-ac4c-4733-96fe-128dc5066381"
      },
      "execution_count": 15,
      "outputs": [
        {
          "output_type": "execute_result",
          "data": {
            "text/plain": [
              "['브라질',\n",
              " '대한민국',\n",
              " '중국',\n",
              " '아르헨티나',\n",
              " '미국',\n",
              " '케나다',\n",
              " '멕시코',\n",
              " '일본',\n",
              " '프랑스',\n",
              " '영국',\n",
              " '독일',\n",
              " '케냐']"
            ]
          },
          "metadata": {},
          "execution_count": 15
        }
      ]
    },
    {
      "cell_type": "code",
      "source": [
        "country[4:7] = [\"미국\", \"케나다\", \"멕시코\"]\n"
      ],
      "metadata": {
        "id": "vlkXnKVxU6ev"
      },
      "execution_count": 18,
      "outputs": []
    },
    {
      "cell_type": "code",
      "source": [
        "country"
      ],
      "metadata": {
        "colab": {
          "base_uri": "https://localhost:8080/"
        },
        "id": "AR7bN_YrVq0i",
        "outputId": "57af5004-b6d4-4968-d186-cab9433f87fa"
      },
      "execution_count": 19,
      "outputs": [
        {
          "output_type": "execute_result",
          "data": {
            "text/plain": [
              "['브라질',\n",
              " '대한민국',\n",
              " '중국',\n",
              " '아르헨티나',\n",
              " '미국',\n",
              " '케나다',\n",
              " '멕시코',\n",
              " '일본',\n",
              " '프랑스',\n",
              " '영국',\n",
              " '독일',\n",
              " '케냐']"
            ]
          },
          "metadata": {},
          "execution_count": 19
        }
      ]
    },
    {
      "cell_type": "code",
      "source": [
        "country.pop()"
      ],
      "metadata": {
        "colab": {
          "base_uri": "https://localhost:8080/",
          "height": 35
        },
        "id": "IR5qJewrVscC",
        "outputId": "c1675541-daba-4a5b-ea09-9c96906211e6"
      },
      "execution_count": 20,
      "outputs": [
        {
          "output_type": "execute_result",
          "data": {
            "text/plain": [
              "'케냐'"
            ],
            "application/vnd.google.colaboratory.intrinsic+json": {
              "type": "string"
            }
          },
          "metadata": {},
          "execution_count": 20
        }
      ]
    },
    {
      "cell_type": "code",
      "source": [
        "print(country[-1])\n",
        "del country[-1]"
      ],
      "metadata": {
        "colab": {
          "base_uri": "https://localhost:8080/"
        },
        "id": "Wgi6wwonVz3S",
        "outputId": "92b57c03-fac7-4447-9311-a6b54b97c0e3"
      },
      "execution_count": 21,
      "outputs": [
        {
          "output_type": "stream",
          "name": "stdout",
          "text": [
            "독일\n"
          ]
        }
      ]
    },
    {
      "cell_type": "code",
      "source": [
        "recent = country.pop() # \"최근 해외여행 발권 리스트\"\n",
        "recent, country"
      ],
      "metadata": {
        "colab": {
          "base_uri": "https://localhost:8080/"
        },
        "id": "KPeGzuycV5K8",
        "outputId": "5026dba9-81a4-47a1-d36b-173dd7c32d06"
      },
      "execution_count": 23,
      "outputs": [
        {
          "output_type": "execute_result",
          "data": {
            "text/plain": [
              "('프랑스', ['브라질', '대한민국', '중국', '아르헨티나', '미국', '케나다', '멕시코', '일본'])"
            ]
          },
          "metadata": {},
          "execution_count": 23
        }
      ]
    },
    {
      "cell_type": "code",
      "source": [
        "recent = country.pop(1) # pop 내부에 인덱스 값 지정해서 원하는 값 pop가능\n",
        "recent, country"
      ],
      "metadata": {
        "colab": {
          "base_uri": "https://localhost:8080/"
        },
        "id": "AwsyxRrCW3Xz",
        "outputId": "7ac10742-20b6-41ec-953e-399862ca28bd"
      },
      "execution_count": 25,
      "outputs": [
        {
          "output_type": "execute_result",
          "data": {
            "text/plain": [
              "('대한민국', ['브라질', '중국', '아르헨티나', '미국', '케나다', '멕시코', '일본'])"
            ]
          },
          "metadata": {},
          "execution_count": 25
        }
      ]
    },
    {
      "cell_type": "code",
      "source": [
        "country.remove('중국')\n",
        "country\n",
        "# remove는 단순 삭제하고 끝이지만, pop은 삭제함과 동시에 결과값을 출력(추출)"
      ],
      "metadata": {
        "colab": {
          "base_uri": "https://localhost:8080/"
        },
        "id": "00eZxFyaXDT4",
        "outputId": "e5d86ec1-9cda-461a-ca1a-82ee3dafc4e8"
      },
      "execution_count": 26,
      "outputs": [
        {
          "output_type": "execute_result",
          "data": {
            "text/plain": [
              "['브라질', '아르헨티나', '미국', '케나다', '멕시코', '일본']"
            ]
          },
          "metadata": {},
          "execution_count": 26
        }
      ]
    },
    {
      "cell_type": "code",
      "source": [
        "country.insert(2, \"독일\")\n",
        "country.append(\"독일\")\n",
        "country\n"
      ],
      "metadata": {
        "colab": {
          "base_uri": "https://localhost:8080/"
        },
        "id": "BfO3V-h7XOjf",
        "outputId": "77e41776-1c0d-46a9-8bff-9bf4bb5c510a"
      },
      "execution_count": 27,
      "outputs": [
        {
          "output_type": "execute_result",
          "data": {
            "text/plain": [
              "['브라질', '아르헨티나', '독일', '미국', '케나다', '멕시코', '일본', '독일']"
            ]
          },
          "metadata": {},
          "execution_count": 27
        }
      ]
    },
    {
      "cell_type": "code",
      "source": [
        "country.remove(\"독일\") # remove 는 앞의 값부터 삭제.\n",
        "country"
      ],
      "metadata": {
        "colab": {
          "base_uri": "https://localhost:8080/"
        },
        "id": "DTT6O6D0X1RX",
        "outputId": "954e098f-73e2-418f-89da-f93f40de5bdf"
      },
      "execution_count": 28,
      "outputs": [
        {
          "output_type": "execute_result",
          "data": {
            "text/plain": [
              "['브라질', '아르헨티나', '미국', '케나다', '멕시코', '일본', '독일']"
            ]
          },
          "metadata": {},
          "execution_count": 28
        }
      ]
    },
    {
      "cell_type": "code",
      "source": [
        "# 캐나다 앞에 누락된 손님이 존재한다 -> 미국\n",
        "# 캐나다의 인덱스를 알아서, 그 인덱스에 \"미국\" 을 insert시켜줘야 함[i:i]\n",
        "country.index(\"케나다\")"
      ],
      "metadata": {
        "colab": {
          "base_uri": "https://localhost:8080/"
        },
        "id": "3JSPWRiOX8VL",
        "outputId": "b0b93d29-954e-4bf3-85a5-71e6a4f5e5cf"
      },
      "execution_count": 29,
      "outputs": [
        {
          "output_type": "execute_result",
          "data": {
            "text/plain": [
              "3"
            ]
          },
          "metadata": {},
          "execution_count": 29
        }
      ]
    },
    {
      "cell_type": "code",
      "source": [
        "country.insert(3, \"미국\")\n",
        "country"
      ],
      "metadata": {
        "colab": {
          "base_uri": "https://localhost:8080/"
        },
        "id": "q40mA8GZYO4-",
        "outputId": "687cd021-1045-4eaf-becf-e6d14f875d28"
      },
      "execution_count": 30,
      "outputs": [
        {
          "output_type": "execute_result",
          "data": {
            "text/plain": [
              "['브라질', '아르헨티나', '미국', '미국', '케나다', '멕시코', '일본', '독일']"
            ]
          },
          "metadata": {},
          "execution_count": 30
        }
      ]
    },
    {
      "cell_type": "code",
      "source": [
        "country.extend([\"몰디브\"] *  10)"
      ],
      "metadata": {
        "id": "cQzTtLjpYUBy"
      },
      "execution_count": 31,
      "outputs": []
    },
    {
      "cell_type": "code",
      "source": [
        "country"
      ],
      "metadata": {
        "colab": {
          "base_uri": "https://localhost:8080/"
        },
        "id": "Shc-u02lYn-l",
        "outputId": "dfbd8313-39b5-4906-95f2-d54771035980"
      },
      "execution_count": 32,
      "outputs": [
        {
          "output_type": "execute_result",
          "data": {
            "text/plain": [
              "['브라질',\n",
              " '아르헨티나',\n",
              " '미국',\n",
              " '미국',\n",
              " '케나다',\n",
              " '멕시코',\n",
              " '일본',\n",
              " '독일',\n",
              " '몰디브',\n",
              " '몰디브',\n",
              " '몰디브',\n",
              " '몰디브',\n",
              " '몰디브',\n",
              " '몰디브',\n",
              " '몰디브',\n",
              " '몰디브',\n",
              " '몰디브',\n",
              " '몰디브']"
            ]
          },
          "metadata": {},
          "execution_count": 32
        }
      ]
    },
    {
      "cell_type": "code",
      "source": [
        "import random\n",
        "\n",
        "random.randint(1, 20)"
      ],
      "metadata": {
        "colab": {
          "base_uri": "https://localhost:8080/"
        },
        "id": "koF8-YISYpQ2",
        "outputId": "879c2a4b-3556-425b-acd7-dee625bf4b82"
      },
      "execution_count": 33,
      "outputs": [
        {
          "output_type": "execute_result",
          "data": {
            "text/plain": [
              "8"
            ]
          },
          "metadata": {},
          "execution_count": 33
        }
      ]
    },
    {
      "cell_type": "code",
      "source": [
        "country.extend([\"괌\"] * random.randint(1, 10))\n",
        "country"
      ],
      "metadata": {
        "colab": {
          "base_uri": "https://localhost:8080/"
        },
        "id": "38d5o2x7YynP",
        "outputId": "3a16638f-0a40-4932-e4c5-b0fe3848ad3c"
      },
      "execution_count": 34,
      "outputs": [
        {
          "output_type": "execute_result",
          "data": {
            "text/plain": [
              "['브라질',\n",
              " '아르헨티나',\n",
              " '미국',\n",
              " '미국',\n",
              " '케나다',\n",
              " '멕시코',\n",
              " '일본',\n",
              " '독일',\n",
              " '몰디브',\n",
              " '몰디브',\n",
              " '몰디브',\n",
              " '몰디브',\n",
              " '몰디브',\n",
              " '몰디브',\n",
              " '몰디브',\n",
              " '몰디브',\n",
              " '몰디브',\n",
              " '몰디브',\n",
              " '괌',\n",
              " '괌',\n",
              " '괌',\n",
              " '괌']"
            ]
          },
          "metadata": {},
          "execution_count": 34
        }
      ]
    },
    {
      "cell_type": "code",
      "source": [
        "country.count(\"괌\")"
      ],
      "metadata": {
        "colab": {
          "base_uri": "https://localhost:8080/"
        },
        "id": "IVp-5J0fY-AQ",
        "outputId": "a5de2b74-ee40-44ab-f37a-a8f131068d3c"
      },
      "execution_count": 35,
      "outputs": [
        {
          "output_type": "execute_result",
          "data": {
            "text/plain": [
              "4"
            ]
          },
          "metadata": {},
          "execution_count": 35
        }
      ]
    },
    {
      "cell_type": "code",
      "source": [
        "country = country[:7:1]\n",
        "country"
      ],
      "metadata": {
        "colab": {
          "base_uri": "https://localhost:8080/"
        },
        "id": "72mRp10LZFsa",
        "outputId": "e0a2afbe-58bf-487b-fe8f-566a2105a8bc"
      },
      "execution_count": 37,
      "outputs": [
        {
          "output_type": "execute_result",
          "data": {
            "text/plain": [
              "['브라질', '아르헨티나', '미국', '미국', '케나다', '멕시코', '일본']"
            ]
          },
          "metadata": {},
          "execution_count": 37
        }
      ]
    },
    {
      "cell_type": "code",
      "source": [
        "country.append(\"프랑스\")\n",
        "country"
      ],
      "metadata": {
        "colab": {
          "base_uri": "https://localhost:8080/"
        },
        "id": "3cK_jUclZOtp",
        "outputId": "3d0ac3d4-2821-47f9-e3f9-a57e087f2221"
      },
      "execution_count": 38,
      "outputs": [
        {
          "output_type": "execute_result",
          "data": {
            "text/plain": [
              "['브라질', '아르헨티나', '미국', '미국', '케나다', '멕시코', '일본', '프랑스']"
            ]
          },
          "metadata": {},
          "execution_count": 38
        }
      ]
    },
    {
      "cell_type": "code",
      "source": [
        "country.reverse()\n",
        "country"
      ],
      "metadata": {
        "colab": {
          "base_uri": "https://localhost:8080/"
        },
        "id": "hJdpQupMZS6p",
        "outputId": "5defc118-c62e-4bf7-9f47-4247e8d433d0"
      },
      "execution_count": 39,
      "outputs": [
        {
          "output_type": "execute_result",
          "data": {
            "text/plain": [
              "['프랑스', '일본', '멕시코', '케나다', '미국', '미국', '아르헨티나', '브라질']"
            ]
          },
          "metadata": {},
          "execution_count": 39
        }
      ]
    },
    {
      "cell_type": "code",
      "source": [
        "list(reversed(country))"
      ],
      "metadata": {
        "colab": {
          "base_uri": "https://localhost:8080/"
        },
        "id": "klSQBFUvcsPX",
        "outputId": "be72b231-2620-4a64-9062-f1ee176d9dc7"
      },
      "execution_count": 40,
      "outputs": [
        {
          "output_type": "execute_result",
          "data": {
            "text/plain": [
              "['브라질', '아르헨티나', '미국', '미국', '케나다', '멕시코', '일본', '프랑스']"
            ]
          },
          "metadata": {},
          "execution_count": 40
        }
      ]
    },
    {
      "cell_type": "code",
      "source": [
        "country[::-1]"
      ],
      "metadata": {
        "colab": {
          "base_uri": "https://localhost:8080/"
        },
        "id": "yFBr3Uw9cu61",
        "outputId": "bb5045e3-1a2f-4cf6-c17e-02265ae1eefb"
      },
      "execution_count": 41,
      "outputs": [
        {
          "output_type": "execute_result",
          "data": {
            "text/plain": [
              "['브라질', '아르헨티나', '미국', '미국', '케나다', '멕시코', '일본', '프랑스']"
            ]
          },
          "metadata": {},
          "execution_count": 41
        }
      ]
    },
    {
      "cell_type": "code",
      "source": [
        "# 정렬 -> 오름차순, 내림차순. \n",
        "numbers = [random.randint(20, 200) for i in range(10)]\n",
        "numbers"
      ],
      "metadata": {
        "colab": {
          "base_uri": "https://localhost:8080/"
        },
        "id": "4srQCGCZcxy5",
        "outputId": "2f30609d-c9a4-4631-825e-a4d8182df30f"
      },
      "execution_count": 44,
      "outputs": [
        {
          "output_type": "execute_result",
          "data": {
            "text/plain": [
              "[139, 92, 61, 170, 87, 41, 149, 44, 103, 114]"
            ]
          },
          "metadata": {},
          "execution_count": 44
        }
      ]
    },
    {
      "cell_type": "code",
      "source": [
        "numbers2 = numbers.copy()"
      ],
      "metadata": {
        "id": "4YtcsWtBel47"
      },
      "execution_count": 46,
      "outputs": []
    },
    {
      "cell_type": "code",
      "source": [
        "numbers2.sort()\n",
        "numbers2"
      ],
      "metadata": {
        "colab": {
          "base_uri": "https://localhost:8080/"
        },
        "id": "9BYOttxheh1c",
        "outputId": "d7708153-6c1d-428a-8015-c34829be0408"
      },
      "execution_count": 47,
      "outputs": [
        {
          "output_type": "execute_result",
          "data": {
            "text/plain": [
              "[41, 44, 61, 87, 92, 103, 114, 139, 149, 170]"
            ]
          },
          "metadata": {},
          "execution_count": 47
        }
      ]
    },
    {
      "cell_type": "code",
      "source": [
        "sorted(numbers), numbers"
      ],
      "metadata": {
        "colab": {
          "base_uri": "https://localhost:8080/"
        },
        "id": "5jy4Egjpe2x1",
        "outputId": "4e41cbd1-bd72-412a-a48a-2349fcd3d3f2"
      },
      "execution_count": 48,
      "outputs": [
        {
          "output_type": "execute_result",
          "data": {
            "text/plain": [
              "([41, 44, 61, 87, 92, 103, 114, 139, 149, 170],\n",
              " [139, 92, 61, 170, 87, 41, 149, 44, 103, 114])"
            ]
          },
          "metadata": {},
          "execution_count": 48
        }
      ]
    },
    {
      "cell_type": "code",
      "source": [
        "numbers2.sort(reverse=True)\n",
        "numbers2"
      ],
      "metadata": {
        "colab": {
          "base_uri": "https://localhost:8080/"
        },
        "id": "K09fPfJ7e9BT",
        "outputId": "a2b5a1c8-be65-49c9-ba2e-9b2263030ee7"
      },
      "execution_count": 51,
      "outputs": [
        {
          "output_type": "execute_result",
          "data": {
            "text/plain": [
              "[170, 149, 139, 114, 103, 92, 87, 61, 44, 41]"
            ]
          },
          "metadata": {},
          "execution_count": 51
        }
      ]
    },
    {
      "cell_type": "code",
      "source": [
        "sorted(numbers, reverse=True), numbers"
      ],
      "metadata": {
        "colab": {
          "base_uri": "https://localhost:8080/"
        },
        "id": "S0-NaYT0fMkh",
        "outputId": "94d50819-4a98-4d61-bc74-cffc15e53686"
      },
      "execution_count": 52,
      "outputs": [
        {
          "output_type": "execute_result",
          "data": {
            "text/plain": [
              "([170, 149, 139, 114, 103, 92, 87, 61, 44, 41],\n",
              " [139, 92, 61, 170, 87, 41, 149, 44, 103, 114])"
            ]
          },
          "metadata": {},
          "execution_count": 52
        }
      ]
    },
    {
      "cell_type": "code",
      "source": [
        "sorted(country), sorted(country, reverse=True)"
      ],
      "metadata": {
        "colab": {
          "base_uri": "https://localhost:8080/"
        },
        "id": "lU1d-xidfUxd",
        "outputId": "e4a3d314-d7d3-4c8e-8b3f-48fb5697e329"
      },
      "execution_count": 53,
      "outputs": [
        {
          "output_type": "execute_result",
          "data": {
            "text/plain": [
              "(['멕시코', '미국', '미국', '브라질', '아르헨티나', '일본', '케나다', '프랑스'],\n",
              " ['프랑스', '케나다', '일본', '아르헨티나', '브라질', '미국', '미국', '멕시코'])"
            ]
          },
          "metadata": {},
          "execution_count": 53
        }
      ]
    },
    {
      "cell_type": "code",
      "source": [
        "country2 = country.copy()\n",
        "country2"
      ],
      "metadata": {
        "colab": {
          "base_uri": "https://localhost:8080/"
        },
        "id": "f3rseGQgfc2N",
        "outputId": "f7b7da67-228e-4071-9ee5-6f36f317ad30"
      },
      "execution_count": 54,
      "outputs": [
        {
          "output_type": "execute_result",
          "data": {
            "text/plain": [
              "['프랑스', '일본', '멕시코', '케나다', '미국', '미국', '아르헨티나', '브라질']"
            ]
          },
          "metadata": {},
          "execution_count": 54
        }
      ]
    },
    {
      "cell_type": "code",
      "source": [
        "country2.clear()"
      ],
      "metadata": {
        "id": "CLggSfbVflZ-"
      },
      "execution_count": 55,
      "outputs": []
    },
    {
      "cell_type": "code",
      "source": [
        "country2"
      ],
      "metadata": {
        "colab": {
          "base_uri": "https://localhost:8080/"
        },
        "id": "36LoDZdhfKCZ",
        "outputId": "9cdfd969-faa4-426f-c47c-ad29e3198cde"
      },
      "execution_count": 56,
      "outputs": [
        {
          "output_type": "execute_result",
          "data": {
            "text/plain": [
              "[]"
            ]
          },
          "metadata": {},
          "execution_count": 56
        }
      ]
    },
    {
      "cell_type": "code",
      "source": [
        "country2 = country.copy()\n",
        "country2"
      ],
      "metadata": {
        "colab": {
          "base_uri": "https://localhost:8080/"
        },
        "id": "WdJpZOTTe0y9",
        "outputId": "2c06a3d8-9df9-4b3c-b72d-b3d39e2327b1"
      },
      "execution_count": 57,
      "outputs": [
        {
          "output_type": "execute_result",
          "data": {
            "text/plain": [
              "['프랑스', '일본', '멕시코', '케나다', '미국', '미국', '아르헨티나', '브라질']"
            ]
          },
          "metadata": {},
          "execution_count": 57
        }
      ]
    },
    {
      "cell_type": "code",
      "source": [
        "del country2[:]\n",
        "country2"
      ],
      "metadata": {
        "colab": {
          "base_uri": "https://localhost:8080/"
        },
        "id": "6NG-OSizftrL",
        "outputId": "eea97f76-320f-4f05-c8ad-d275a4be01e7"
      },
      "execution_count": 58,
      "outputs": [
        {
          "output_type": "execute_result",
          "data": {
            "text/plain": [
              "[]"
            ]
          },
          "metadata": {},
          "execution_count": 58
        }
      ]
    },
    {
      "cell_type": "markdown",
      "source": [
        "## 반복문"
      ],
      "metadata": {
        "id": "_TKF7TFPfzX5"
      }
    },
    {
      "cell_type": "code",
      "source": [
        "for c in country:\n",
        "# for country in countries\n",
        "  print(c)"
      ],
      "metadata": {
        "colab": {
          "base_uri": "https://localhost:8080/"
        },
        "id": "SXKxj7GsfwTB",
        "outputId": "f2753767-21c8-41db-d2cd-3469dced8518"
      },
      "execution_count": 59,
      "outputs": [
        {
          "output_type": "stream",
          "name": "stdout",
          "text": [
            "프랑스\n",
            "일본\n",
            "멕시코\n",
            "케나다\n",
            "미국\n",
            "미국\n",
            "아르헨티나\n",
            "브라질\n"
          ]
        }
      ]
    },
    {
      "cell_type": "code",
      "source": [
        "for c in sorted(country):\n",
        "# for country in countries\n",
        "  print(c)"
      ],
      "metadata": {
        "id": "SVlwEQR8gG-B"
      },
      "execution_count": null,
      "outputs": []
    },
    {
      "cell_type": "code",
      "source": [
        "for c in country[::-1]:\n",
        "# for country in countries\n",
        "  print(c)"
      ],
      "metadata": {
        "colab": {
          "base_uri": "https://localhost:8080/"
        },
        "id": "Fj7jKqjOeccy",
        "outputId": "6523f617-2683-42c2-ce82-69f6de45fa8e"
      },
      "execution_count": 60,
      "outputs": [
        {
          "output_type": "stream",
          "name": "stdout",
          "text": [
            "브라질\n",
            "아르헨티나\n",
            "미국\n",
            "미국\n",
            "케나다\n",
            "멕시코\n",
            "일본\n",
            "프랑스\n"
          ]
        }
      ]
    },
    {
      "cell_type": "code",
      "source": [
        "for i in enumerate(country):\n",
        "  print(i)"
      ],
      "metadata": {
        "colab": {
          "base_uri": "https://localhost:8080/"
        },
        "id": "sFLBxaDBgTFv",
        "outputId": "a1f68a59-1329-43cc-c58f-f929b9b15131"
      },
      "execution_count": 61,
      "outputs": [
        {
          "output_type": "stream",
          "name": "stdout",
          "text": [
            "(0, '프랑스')\n",
            "(1, '일본')\n",
            "(2, '멕시코')\n",
            "(3, '케나다')\n",
            "(4, '미국')\n",
            "(5, '미국')\n",
            "(6, '아르헨티나')\n",
            "(7, '브라질')\n"
          ]
        }
      ]
    },
    {
      "cell_type": "code",
      "source": [
        "for idx, val in enumerate(country):\n",
        "  print(idx, val)"
      ],
      "metadata": {
        "colab": {
          "base_uri": "https://localhost:8080/"
        },
        "id": "46cc6DBigXpZ",
        "outputId": "a10216e8-be83-450a-8d06-4b391e8fd215"
      },
      "execution_count": 62,
      "outputs": [
        {
          "output_type": "stream",
          "name": "stdout",
          "text": [
            "0 프랑스\n",
            "1 일본\n",
            "2 멕시코\n",
            "3 케나다\n",
            "4 미국\n",
            "5 미국\n",
            "6 아르헨티나\n",
            "7 브라질\n"
          ]
        }
      ]
    },
    {
      "cell_type": "code",
      "source": [
        "for idx, val in enumerate(country):\n",
        "  # if idx % 2 ==0:\n",
        "  # if not(idx % 2):\n",
        "  #   print(idx, val)\n",
        "  if idx % 2: # 0보다 크다\n",
        "    continue\n",
        "  print(idx, val)"
      ],
      "metadata": {
        "colab": {
          "base_uri": "https://localhost:8080/"
        },
        "id": "qfPoVlUSgnDl",
        "outputId": "170c170f-5eb6-4f6e-a60a-87a9060f594f"
      },
      "execution_count": 65,
      "outputs": [
        {
          "output_type": "stream",
          "name": "stdout",
          "text": [
            "0 프랑스\n",
            "2 멕시코\n",
            "4 미국\n",
            "6 아르헨티나\n"
          ]
        }
      ]
    },
    {
      "cell_type": "code",
      "source": [
        "for idx, val in enumerate(country):\n",
        "    if len(val) == 3:\n",
        "      print(idx, val)\n",
        "      break\n",
        "    print(\"진행 ... \", val)"
      ],
      "metadata": {
        "colab": {
          "base_uri": "https://localhost:8080/"
        },
        "id": "oUDODvFng9_O",
        "outputId": "aac7e879-8125-4a43-d079-e62368086650"
      },
      "execution_count": 72,
      "outputs": [
        {
          "output_type": "stream",
          "name": "stdout",
          "text": [
            "0 프랑스\n"
          ]
        }
      ]
    },
    {
      "cell_type": "code",
      "source": [
        "lotto = random.choices(range(1, 46), k = 6)\n",
        "lotto"
      ],
      "metadata": {
        "colab": {
          "base_uri": "https://localhost:8080/"
        },
        "id": "zaZY4_ARhmme",
        "outputId": "0597dda4-3e19-492d-efd0-4ef2afa56fb6"
      },
      "execution_count": 77,
      "outputs": [
        {
          "output_type": "execute_result",
          "data": {
            "text/plain": [
              "[24, 27, 21, 35, 3, 23]"
            ]
          },
          "metadata": {},
          "execution_count": 77
        }
      ]
    },
    {
      "cell_type": "code",
      "source": [
        "max(lotto), min(lotto), sum(lotto)"
      ],
      "metadata": {
        "colab": {
          "base_uri": "https://localhost:8080/"
        },
        "id": "u_e57AOuh6iY",
        "outputId": "4e18c847-bd11-4030-deab-15fd8a29677a"
      },
      "execution_count": 78,
      "outputs": [
        {
          "output_type": "execute_result",
          "data": {
            "text/plain": [
              "(35, 3, 133)"
            ]
          },
          "metadata": {},
          "execution_count": 78
        }
      ]
    },
    {
      "cell_type": "markdown",
      "source": [
        "## 리스트 컴프리헨션"
      ],
      "metadata": {
        "id": "bb0YnFl4iIQI"
      }
    },
    {
      "cell_type": "code",
      "source": [
        "bob = random.choices(range(1, 21), k = 20)\n",
        "bob"
      ],
      "metadata": {
        "colab": {
          "base_uri": "https://localhost:8080/"
        },
        "id": "3-uxkRcah_0d",
        "outputId": "da1f5ca6-3a4a-40b7-a4a8-3d3cb70df40b"
      },
      "execution_count": 79,
      "outputs": [
        {
          "output_type": "execute_result",
          "data": {
            "text/plain": [
              "[14, 14, 6, 20, 8, 17, 16, 15, 10, 19, 19, 13, 6, 4, 3, 13, 20, 9, 1, 15]"
            ]
          },
          "metadata": {},
          "execution_count": 79
        }
      ]
    },
    {
      "cell_type": "code",
      "source": [
        "lunch = [(bob[i], bob[i+1]) for i in range(0, len(bob), 2)]\n",
        "lunch"
      ],
      "metadata": {
        "colab": {
          "base_uri": "https://localhost:8080/"
        },
        "id": "jgpLTVoWiebm",
        "outputId": "8c5ff20e-7cd5-414c-c6e9-f949163a87b1"
      },
      "execution_count": 91,
      "outputs": [
        {
          "output_type": "execute_result",
          "data": {
            "text/plain": [
              "[(14, 14),\n",
              " (6, 20),\n",
              " (8, 17),\n",
              " (16, 15),\n",
              " (10, 19),\n",
              " (19, 13),\n",
              " (6, 4),\n",
              " (3, 13),\n",
              " (20, 9),\n",
              " (1, 15)]"
            ]
          },
          "metadata": {},
          "execution_count": 91
        }
      ]
    },
    {
      "cell_type": "code",
      "source": [
        "# 랜덤으로 뽑은 20명의 번호를, 2명씩 묶고 싶다\n",
        "lunch2 = []\n",
        "for i in range(0, len(bob), 2): # 20명이 랜덤하게 뽑힌 리스트를 for문으로 반복, 0부터 시작하고, 전체길이의 증가폭인 2인 range\n",
        "    lunch2.append(bob[i]) # 인덱스가 짝수번째인 값\n",
        "    lunch2.append(bob[i+1]) # 인덱스가 홀수번째인 값\n",
        "    tmp = [bob[i], bob[i+1]]\n",
        "    lunch2.append(tmp)\n",
        "lunch2"
      ],
      "metadata": {
        "colab": {
          "base_uri": "https://localhost:8080/"
        },
        "id": "MEpOoP5MjRZN",
        "outputId": "8405bdf8-b18f-4635-b404-d0b89e623c08"
      },
      "execution_count": 92,
      "outputs": [
        {
          "output_type": "execute_result",
          "data": {
            "text/plain": [
              "[14,\n",
              " 14,\n",
              " [14, 14],\n",
              " 6,\n",
              " 20,\n",
              " [6, 20],\n",
              " 8,\n",
              " 17,\n",
              " [8, 17],\n",
              " 16,\n",
              " 15,\n",
              " [16, 15],\n",
              " 10,\n",
              " 19,\n",
              " [10, 19],\n",
              " 19,\n",
              " 13,\n",
              " [19, 13],\n",
              " 6,\n",
              " 4,\n",
              " [6, 4],\n",
              " 3,\n",
              " 13,\n",
              " [3, 13],\n",
              " 20,\n",
              " 9,\n",
              " [20, 9],\n",
              " 1,\n",
              " 15,\n",
              " [1, 15]]"
            ]
          },
          "metadata": {},
          "execution_count": 92
        }
      ]
    },
    {
      "cell_type": "code",
      "source": [
        "# 랜덤으로 뽑은 20명의 번호를, 2명씩 묶고 싶다\n",
        "lunch3 = []\n",
        "for i in range(0, len(bob), 2): # 20명이 랜덤하게 뽑힌 리스트를 for문으로 반복, 0부터 시작하고, 전체길이의 증가폭인 2인 range\n",
        "    # lunch2.append(bob[i]) # 인덱스가 짝수번째인 값\n",
        "    # lunch2.append(bob[i+1]) # 인덱스가 홀수번째인 값\n",
        "    # tmp = [bob[i], bob[i+1]]\n",
        "   \n",
        "    if i % 2: # i % 2 는 짝수가 아니다 -> 나머지가 1나오면 True -> 홀수 일 때\n",
        "      continue\n",
        "    tmp = [(bob[i]), (bob[i+1])]\n",
        "    lunch3.append(tmp)\n",
        "lunch3"
      ],
      "metadata": {
        "colab": {
          "base_uri": "https://localhost:8080/"
        },
        "id": "rlfWkHQkj7oW",
        "outputId": "fde79684-4e17-440b-9544-d01a2e4ac219"
      },
      "execution_count": 96,
      "outputs": [
        {
          "output_type": "execute_result",
          "data": {
            "text/plain": [
              "[[14, 14],\n",
              " [6, 20],\n",
              " [8, 17],\n",
              " [16, 15],\n",
              " [10, 19],\n",
              " [19, 13],\n",
              " [6, 4],\n",
              " [3, 13],\n",
              " [20, 9],\n",
              " [1, 15]]"
            ]
          },
          "metadata": {},
          "execution_count": 96
        }
      ]
    },
    {
      "cell_type": "code",
      "source": [
        "lunch = [(bob[i], bob [i+1]) for i in range(len(bob)) if not i % 2]\n",
        "lunch"
      ],
      "metadata": {
        "colab": {
          "base_uri": "https://localhost:8080/"
        },
        "id": "mHkIqqvbjQRq",
        "outputId": "5ac0f30e-18d2-4c76-a104-2513576991a1"
      },
      "execution_count": 101,
      "outputs": [
        {
          "output_type": "execute_result",
          "data": {
            "text/plain": [
              "[(14, 14),\n",
              " (6, 20),\n",
              " (8, 17),\n",
              " (16, 15),\n",
              " (10, 19),\n",
              " (19, 13),\n",
              " (6, 4),\n",
              " (3, 13),\n",
              " (20, 9),\n",
              " (1, 15)]"
            ]
          },
          "metadata": {},
          "execution_count": 101
        }
      ]
    },
    {
      "cell_type": "markdown",
      "source": [
        "# 문자열"
      ],
      "metadata": {
        "id": "afHT29P1lbqG"
      }
    },
    {
      "cell_type": "code",
      "source": [
        "s = \"오늘의 점심은 돈까스 입니다.\"\n",
        "s\n"
      ],
      "metadata": {
        "colab": {
          "base_uri": "https://localhost:8080/",
          "height": 35
        },
        "id": "oNf6pUTZlGg0",
        "outputId": "145ffd82-c43e-4bf5-c4d2-c60747b4810f"
      },
      "execution_count": 102,
      "outputs": [
        {
          "output_type": "execute_result",
          "data": {
            "text/plain": [
              "'오늘의 점심은 돈까스 입니다.'"
            ],
            "application/vnd.google.colaboratory.intrinsic+json": {
              "type": "string"
            }
          },
          "metadata": {},
          "execution_count": 102
        }
      ]
    },
    {
      "cell_type": "code",
      "source": [
        "s.replace(\"점심\", \"저녁\"),s"
      ],
      "metadata": {
        "colab": {
          "base_uri": "https://localhost:8080/"
        },
        "id": "oLT-0_yilj_I",
        "outputId": "fc937134-2f51-406b-eedb-a1cedfc7eeb1"
      },
      "execution_count": 106,
      "outputs": [
        {
          "output_type": "execute_result",
          "data": {
            "text/plain": [
              "('오늘의 저녁은 돈까스 입니다.', '오늘의 점심은 돈까스 입니다.')"
            ]
          },
          "metadata": {},
          "execution_count": 106
        }
      ]
    },
    {
      "cell_type": "code",
      "source": [
        "s2 = \"오늘의 점심은 돈까스 입니다, 오늘의 저녁은 돈까스입니다.\"\n",
        "s2"
      ],
      "metadata": {
        "colab": {
          "base_uri": "https://localhost:8080/",
          "height": 35
        },
        "id": "xfM5k5Qnl1nu",
        "outputId": "61cc3aec-a0ed-46e7-a0b9-ce6c6f93375f"
      },
      "execution_count": 107,
      "outputs": [
        {
          "output_type": "execute_result",
          "data": {
            "text/plain": [
              "'오늘의 점심은 돈까스 입니다, 오늘의 저녁은 돈까스입니다.'"
            ],
            "application/vnd.google.colaboratory.intrinsic+json": {
              "type": "string"
            }
          },
          "metadata": {},
          "execution_count": 107
        }
      ]
    },
    {
      "cell_type": "code",
      "source": [
        "s2.replace(\"돈까스\", \"파스타\"), s2"
      ],
      "metadata": {
        "colab": {
          "base_uri": "https://localhost:8080/"
        },
        "id": "KleRHO9Sl8S6",
        "outputId": "3c620f94-f8cf-4137-f753-3175a2372c3e"
      },
      "execution_count": 108,
      "outputs": [
        {
          "output_type": "execute_result",
          "data": {
            "text/plain": [
              "('오늘의 점심은 파스타 입니다, 오늘의 저녁은 파스타입니다.', '오늘의 점심은 돈까스 입니다, 오늘의 저녁은 돈까스입니다.')"
            ]
          },
          "metadata": {},
          "execution_count": 108
        }
      ]
    },
    {
      "cell_type": "code",
      "source": [
        "s2.replace(\"돈까스\", \"파스타\", 1) # 대체 당하는거, 대체 하는거, 대체 횟수"
      ],
      "metadata": {
        "colab": {
          "base_uri": "https://localhost:8080/",
          "height": 35
        },
        "id": "KwYqMOZamAaM",
        "outputId": "5440f185-8181-4181-f4aa-beb7677300ed"
      },
      "execution_count": 109,
      "outputs": [
        {
          "output_type": "execute_result",
          "data": {
            "text/plain": [
              "'오늘의 점심은 파스타 입니다, 오늘의 저녁은 돈까스입니다.'"
            ],
            "application/vnd.google.colaboratory.intrinsic+json": {
              "type": "string"
            }
          },
          "metadata": {},
          "execution_count": 109
        }
      ]
    },
    {
      "cell_type": "code",
      "source": [
        "txt = \"비트코인 이더리움 리플\"\n",
        "txt.split(), txt"
      ],
      "metadata": {
        "colab": {
          "base_uri": "https://localhost:8080/"
        },
        "id": "-ybVSZEvmPO3",
        "outputId": "88b585e9-7edc-4dd3-e4ab-b522ae004e42"
      },
      "execution_count": 110,
      "outputs": [
        {
          "output_type": "execute_result",
          "data": {
            "text/plain": [
              "(['비트코인', '이더리움', '리플'], '비트코인 이더리움 리플')"
            ]
          },
          "metadata": {},
          "execution_count": 110
        }
      ]
    },
    {
      "cell_type": "code",
      "source": [
        "txt.split(\" \")"
      ],
      "metadata": {
        "colab": {
          "base_uri": "https://localhost:8080/"
        },
        "id": "QEEhpVdumUd5",
        "outputId": "0e045439-4c5b-4f37-dd08-6118e9f20afe"
      },
      "execution_count": 111,
      "outputs": [
        {
          "output_type": "execute_result",
          "data": {
            "text/plain": [
              "['비트코인', '이더리움', '리플']"
            ]
          },
          "metadata": {},
          "execution_count": 111
        }
      ]
    },
    {
      "cell_type": "code",
      "source": [
        "txt2 = \"비트코인,이더리움,리플\"\n",
        "txt.split(\",\") #split(sep=\",\") 하면 좀더 명확하게 구분."
      ],
      "metadata": {
        "colab": {
          "base_uri": "https://localhost:8080/"
        },
        "id": "LB0ONdgomW8q",
        "outputId": "add05f43-3b07-4de2-8449-0d4bfe6170a6"
      },
      "execution_count": 112,
      "outputs": [
        {
          "output_type": "execute_result",
          "data": {
            "text/plain": [
              "['비트코인 이더리움 리플']"
            ]
          },
          "metadata": {},
          "execution_count": 112
        }
      ]
    },
    {
      "cell_type": "code",
      "source": [
        "[i for i in s] # 리스트 컴프리헨션하면 -> 문자열이 한 글자씩 쪼개진 글자가 됨"
      ],
      "metadata": {
        "colab": {
          "base_uri": "https://localhost:8080/"
        },
        "id": "RxV9jpXvmfRA",
        "outputId": "34a6563d-58ae-432f-b1a0-d06414d4fb1a"
      },
      "execution_count": 113,
      "outputs": [
        {
          "output_type": "execute_result",
          "data": {
            "text/plain": [
              "['오',\n",
              " '늘',\n",
              " '의',\n",
              " ' ',\n",
              " '점',\n",
              " '심',\n",
              " '은',\n",
              " ' ',\n",
              " '돈',\n",
              " '까',\n",
              " '스',\n",
              " ' ',\n",
              " '입',\n",
              " '니',\n",
              " '다',\n",
              " '.']"
            ]
          },
          "metadata": {},
          "execution_count": 113
        }
      ]
    },
    {
      "cell_type": "code",
      "source": [
        "sep = [i for i in s]\n",
        "sep\n"
      ],
      "metadata": {
        "colab": {
          "base_uri": "https://localhost:8080/"
        },
        "id": "kR-pSWeOmI05",
        "outputId": "a31e8a8d-d33a-4c93-e3e5-9dc1a52d4443"
      },
      "execution_count": 114,
      "outputs": [
        {
          "output_type": "execute_result",
          "data": {
            "text/plain": [
              "['오',\n",
              " '늘',\n",
              " '의',\n",
              " ' ',\n",
              " '점',\n",
              " '심',\n",
              " '은',\n",
              " ' ',\n",
              " '돈',\n",
              " '까',\n",
              " '스',\n",
              " ' ',\n",
              " '입',\n",
              " '니',\n",
              " '다',\n",
              " '.']"
            ]
          },
          "metadata": {},
          "execution_count": 114
        }
      ]
    },
    {
      "cell_type": "code",
      "source": [
        "sep.join(\"\") # 틀린 문법"
      ],
      "metadata": {
        "colab": {
          "base_uri": "https://localhost:8080/",
          "height": 172
        },
        "id": "X6KftN8Tm67d",
        "outputId": "c4abd0ac-1a07-4262-f508-0be66b7ca1ef"
      },
      "execution_count": 115,
      "outputs": [
        {
          "output_type": "error",
          "ename": "AttributeError",
          "evalue": "ignored",
          "traceback": [
            "\u001b[0;31m---------------------------------------------------------------------------\u001b[0m",
            "\u001b[0;31mAttributeError\u001b[0m                            Traceback (most recent call last)",
            "\u001b[0;32m<ipython-input-115-abed9e2ba3e3>\u001b[0m in \u001b[0;36m<module>\u001b[0;34m\u001b[0m\n\u001b[0;32m----> 1\u001b[0;31m \u001b[0msep\u001b[0m\u001b[0;34m.\u001b[0m\u001b[0mjoin\u001b[0m\u001b[0;34m(\u001b[0m\u001b[0;34m\"\"\u001b[0m\u001b[0;34m)\u001b[0m\u001b[0;34m\u001b[0m\u001b[0;34m\u001b[0m\u001b[0m\n\u001b[0m",
            "\u001b[0;31mAttributeError\u001b[0m: 'list' object has no attribute 'join'"
          ]
        }
      ]
    },
    {
      "cell_type": "code",
      "source": [
        "\"\".join(sep) # 옳은 문법"
      ],
      "metadata": {
        "colab": {
          "base_uri": "https://localhost:8080/",
          "height": 35
        },
        "id": "y2TKq5Bam-G8",
        "outputId": "bd7b84f4-0eb2-408b-b909-7c9e6b381ee8"
      },
      "execution_count": 116,
      "outputs": [
        {
          "output_type": "execute_result",
          "data": {
            "text/plain": [
              "'오늘의 점심은 돈까스 입니다.'"
            ],
            "application/vnd.google.colaboratory.intrinsic+json": {
              "type": "string"
            }
          },
          "metadata": {},
          "execution_count": 116
        }
      ]
    },
    {
      "cell_type": "code",
      "source": [
        "\";\".join(sep)"
      ],
      "metadata": {
        "colab": {
          "base_uri": "https://localhost:8080/",
          "height": 35
        },
        "id": "_AFAnx5QnFH3",
        "outputId": "ec7dff0e-4432-4ea2-ccd1-93bca8abc565"
      },
      "execution_count": 117,
      "outputs": [
        {
          "output_type": "execute_result",
          "data": {
            "text/plain": [
              "'오;늘;의; ;점;심;은; ;돈;까;스; ;입;니;다;.'"
            ],
            "application/vnd.google.colaboratory.intrinsic+json": {
              "type": "string"
            }
          },
          "metadata": {},
          "execution_count": 117
        }
      ]
    },
    {
      "cell_type": "code",
      "source": [
        "a = \"JamesPotato\"\n",
        "a.upper(), a.lower()\n"
      ],
      "metadata": {
        "colab": {
          "base_uri": "https://localhost:8080/"
        },
        "id": "WuiNxCSRnJal",
        "outputId": "442abd7b-2f10-4369-d8bd-9ea10f42c5f7"
      },
      "execution_count": 118,
      "outputs": [
        {
          "output_type": "execute_result",
          "data": {
            "text/plain": [
              "('JAMESPOTATO', 'jamespotato')"
            ]
          },
          "metadata": {},
          "execution_count": 118
        }
      ]
    },
    {
      "cell_type": "code",
      "source": [
        "space = \"      공백       \"\n",
        "space.strip(), space.lstrip(), space.rstrip()"
      ],
      "metadata": {
        "colab": {
          "base_uri": "https://localhost:8080/"
        },
        "id": "O2s5k-FLnUJh",
        "outputId": "ebfe73b7-e9da-408b-eb37-b97fb6825211"
      },
      "execution_count": 119,
      "outputs": [
        {
          "output_type": "execute_result",
          "data": {
            "text/plain": [
              "('공백', '공백       ', '      공백')"
            ]
          },
          "metadata": {},
          "execution_count": 119
        }
      ]
    },
    {
      "cell_type": "code",
      "source": [
        "a = \"35\"\n",
        "a.zfill(6)"
      ],
      "metadata": {
        "colab": {
          "base_uri": "https://localhost:8080/",
          "height": 35
        },
        "id": "gkaPTI-dnerO",
        "outputId": "73470314-1cc0-4e91-92f3-ed4e061b2618"
      },
      "execution_count": 120,
      "outputs": [
        {
          "output_type": "execute_result",
          "data": {
            "text/plain": [
              "'000035'"
            ],
            "application/vnd.google.colaboratory.intrinsic+json": {
              "type": "string"
            }
          },
          "metadata": {},
          "execution_count": 120
        }
      ]
    },
    {
      "cell_type": "code",
      "source": [
        "s = \"안녕, 속리산 감자야! 나는 지리산 감자야\"\n",
        "s.find(\"감자\") # 찾은 인덱스 위치"
      ],
      "metadata": {
        "colab": {
          "base_uri": "https://localhost:8080/"
        },
        "id": "WR8qKe5QnheD",
        "outputId": "4f7fa889-21f1-4594-fe42-76fae447a975"
      },
      "execution_count": 122,
      "outputs": [
        {
          "output_type": "execute_result",
          "data": {
            "text/plain": [
              "8"
            ]
          },
          "metadata": {},
          "execution_count": 122
        }
      ]
    },
    {
      "cell_type": "code",
      "source": [
        "s = \"안녕, 속리산 감자야! 나는 지리산 감자야\"\n",
        "s.find(\"고구마\") # 없는 경우 -1"
      ],
      "metadata": {
        "colab": {
          "base_uri": "https://localhost:8080/"
        },
        "id": "b0nehbI-nnum",
        "outputId": "794b6e39-f953-4aaa-9510-2e9f72065024"
      },
      "execution_count": 123,
      "outputs": [
        {
          "output_type": "execute_result",
          "data": {
            "text/plain": [
              "-1"
            ]
          },
          "metadata": {},
          "execution_count": 123
        }
      ]
    },
    {
      "cell_type": "code",
      "source": [
        "s = \"안녕, 속리산 감자야! 나는 지리산 감자야\"\n",
        "s.count(\"감자\")"
      ],
      "metadata": {
        "colab": {
          "base_uri": "https://localhost:8080/"
        },
        "id": "q6IKAUfOnrVu",
        "outputId": "974ebef4-db10-40ac-d05d-526acfe65439"
      },
      "execution_count": 124,
      "outputs": [
        {
          "output_type": "execute_result",
          "data": {
            "text/plain": [
              "2"
            ]
          },
          "metadata": {},
          "execution_count": 124
        }
      ]
    },
    {
      "cell_type": "code",
      "source": [
        "s = \"안녕, 속리산 감자야! 나는 지리산 감자야\"\n",
        "s.count(\"고구마\")"
      ],
      "metadata": {
        "colab": {
          "base_uri": "https://localhost:8080/"
        },
        "id": "345TG1Xcnx3F",
        "outputId": "ab3b2a0e-ac82-46bb-d8ca-7a879cf5f4cd"
      },
      "execution_count": 125,
      "outputs": [
        {
          "output_type": "execute_result",
          "data": {
            "text/plain": [
              "0"
            ]
          },
          "metadata": {},
          "execution_count": 125
        }
      ]
    }
  ]
}